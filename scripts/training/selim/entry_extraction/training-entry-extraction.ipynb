{
 "cells": [
  {
   "cell_type": "markdown",
   "metadata": {},
   "source": [
    "# Import"
   ]
  },
  {
   "cell_type": "markdown",
   "metadata": {},
   "source": [
    "These requirements are necessary if you launch this notebook from SageMaker instances"
   ]
  },
  {
   "cell_type": "code",
   "execution_count": null,
   "metadata": {
    "tags": []
   },
   "outputs": [],
   "source": [
    "\"\"\"!pip install mlflow\n",
    "!pip install pytorch-lightning\n",
    "!pip install transformers\n",
    "!pip install tqdm\n",
    "!pip install sagemaker\n",
    "\n",
    "!pip install s3fs\n",
    "!pip install smdebug\"\"\""
   ]
  },
  {
   "cell_type": "code",
   "execution_count": null,
   "metadata": {
    "tags": []
   },
   "outputs": [],
   "source": [
    "import sys\n",
    "import os\n",
    "import sys\n",
    "import json\n",
    "import pickle\n",
    "from sagemaker.pytorch import PyTorch\n",
    "import sagemaker\n",
    "import pandas as pd\n",
    "from typing import Dict\n",
    "from scripts.merge_leads_excerpts import get_training_dict"
   ]
  },
  {
   "cell_type": "markdown",
   "metadata": {},
   "source": [
    "Local constants, regarding the data, MLFlow server, paths, etc..: use them"
   ]
  },
  {
   "cell_type": "code",
   "execution_count": null,
   "metadata": {
    "tags": []
   },
   "outputs": [],
   "source": [
    "sys.path.append('../../../../')\n",
    "from deep.constants import *\n",
    "from deep.utils import *"
   ]
  },
  {
   "cell_type": "code",
   "execution_count": null,
   "metadata": {
    "tags": []
   },
   "outputs": [],
   "source": [
    "%load_ext autoreload\n",
    "%autoreload 2"
   ]
  },
  {
   "cell_type": "markdown",
   "metadata": {},
   "source": [
    "# Data"
   ]
  },
  {
   "cell_type": "markdown",
   "metadata": {},
   "source": [
    "Load data"
   ]
  },
  {
   "cell_type": "code",
   "execution_count": null,
   "metadata": {},
   "outputs": [],
   "source": [
    "use_sample = True\n",
    "\n",
    "DATA_PATH = os.path.join(\n",
    "    \"..\", \"..\", \"..\", \"..\", \"data\", \"frameworks_data\", \"data_v0.7.1\"\n",
    ")\n",
    "EXCERPTS_PATH = os.path.join(DATA_PATH, \"full_dataset_with_translations.csv\")\n",
    "LEADS_PATH = os.path.join(DATA_PATH, \"leads_data.json\")\n",
    "\n",
    "data_folder = \"data\"\n",
    "if use_sample:\n",
    "    sample_percentage = 0.1\n",
    "    data_file_name = \"sample_data.csv\"  # sample data\n",
    "else:\n",
    "    data_file_name = \"full_data.csv\"  # full data\n",
    "    sample_percentage = None\n",
    "\n",
    "\n",
    "# tbd each time to make sure changes in files are taken into account.\n",
    "data_df = get_training_dict(\n",
    "    leads_data_path=LEADS_PATH,\n",
    "    excerpts_df_path=EXCERPTS_PATH,\n",
    "    use_sample=use_sample,\n",
    "    sample_percentage=sample_percentage,\n",
    ")\n",
    "data_df.to_csv(os.path.join(data_folder, data_file_name), index=None)\n",
    "\n",
    "# do ths because\n",
    "data_df = pd.read_csv(os.path.join(data_folder, data_file_name))\n"
   ]
  },
  {
   "cell_type": "markdown",
   "metadata": {},
   "source": [
    "## Sagemaker Prep"
   ]
  },
  {
   "cell_type": "markdown",
   "metadata": {
    "ExecuteTime": {
     "end_time": "2021-05-27T15:42:32.024647Z",
     "start_time": "2021-05-27T15:42:31.984694Z"
    }
   },
   "source": [
    "### Session"
   ]
  },
  {
   "cell_type": "markdown",
   "metadata": {},
   "source": [
    "Configure SageMaker"
   ]
  },
  {
   "cell_type": "code",
   "execution_count": null,
   "metadata": {
    "ExecuteTime": {
     "end_time": "2021-06-09T08:29:20.899415Z",
     "start_time": "2021-06-09T08:29:19.327852Z"
    },
    "tags": []
   },
   "outputs": [],
   "source": [
    "sess = sagemaker.Session(default_bucket=DEV_BUCKET.name)\n",
    "role = SAGEMAKER_ROLE\n",
    "role_arn = SAGEMAKER_ROLE_ARN\n",
    "tracking_uri = MLFLOW_SERVER"
   ]
  },
  {
   "cell_type": "markdown",
   "metadata": {},
   "source": [
    "### Bucket upload"
   ]
  },
  {
   "cell_type": "markdown",
   "metadata": {},
   "source": [
    "You need to upload data to an S3 bucket. \n",
    "\n",
    "\n"
   ]
  },
  {
   "cell_type": "code",
   "execution_count": null,
   "metadata": {},
   "outputs": [],
   "source": [
    "MLFLOW_SERVER"
   ]
  },
  {
   "cell_type": "markdown",
   "metadata": {},
   "source": [
    "### send data to bucket"
   ]
  },
  {
   "cell_type": "code",
   "execution_count": null,
   "metadata": {},
   "outputs": [],
   "source": [
    "job_name = f\"pytorch-{formatted_time()}-entry-extraction\"  # change it as you prefer\n",
    "input_path = DEV_BUCKET / 'training' / 'input_daR. Cherkita' / job_name  # Do not change this\n",
    "\n",
    "data_path = str(input_path / 'data.pickle') # keep it as it is\n",
    "\n",
    "# send data to s3 bucket\n",
    "# need too check protocol, depending on data type (protocol 4 was made for pandas data inputs)\n",
    "\n",
    "#data_df = get_df_from_dict(data)\n",
    "data_df.to_pickle(data_path, protocol=4)  # protocol 4 is necessary, since SageMaker uses python 3.6"
   ]
  },
  {
   "cell_type": "markdown",
   "metadata": {},
   "source": [
    "### Estimator Definition"
   ]
  },
  {
   "cell_type": "code",
   "execution_count": null,
   "metadata": {
    "ExecuteTime": {
     "end_time": "2021-06-09T08:31:43.284096Z",
     "start_time": "2021-06-09T08:31:43.206457Z"
    },
    "tags": []
   },
   "outputs": [],
   "source": [
    "# GPU instances\n",
    "instances = [\n",
    "    'ml.p2.xlarge',\n",
    "    'ml.p3.2xlarge'\n",
    "]\n",
    "\n",
    "# CPU instances\n",
    "instances = [\n",
    "    'ml.c4.2xlarge',\n",
    "    'ml.c4.4xlarge',\n",
    "    'ml.c5n.2xlarge'\n",
    "]\n",
    "\n",
    "# https://aws.amazon.com/sagemaker/pricing/instance-types"
   ]
  },
  {
   "cell_type": "markdown",
   "metadata": {},
   "source": [
    "The hyperparameters are passed as command line arguments to the training script. \n",
    "\n",
    "You can add/change them as you like. It's important to keep the `tracking_uri` and the `experiment_name` which are used by MLFlow.\n",
    "\n",
    "The class `PyTorch` is part of the `SageMaker` python API. The parameters are important and you should probably not change most of them. The ones you may want to change are:\n",
    "\n",
    "- `instance_type`, specify the instance you want\n",
    "- `source_dir`, specify your script directory. Try to use global variable as much as possible"
   ]
  },
  {
   "cell_type": "code",
   "execution_count": null,
   "metadata": {
    "ExecuteTime": {
     "end_time": "2021-06-09T08:31:43.458886Z",
     "start_time": "2021-06-09T08:31:43.304626Z"
    },
    "tags": []
   },
   "outputs": [],
   "source": [
    "instance_type = \"ml.p3.2xlarge\"\n",
    "\n",
    "experiment_name = \"entry_extraction\"\n",
    "run_name = experiment_name  \n",
    "\n",
    "hyperparameters = {\n",
    "    \"instance_type\": instance_type,\n",
    "    \"tracking_uri\": MLFLOW_SERVER,\n",
    "    \"experiment_name\": experiment_name,\n",
    "    \"run_name\": run_name,\n",
    "    \"model_name_or_path\": \"nreimers/mMiniLMv2-L6-H384-distilled-from-XLMR-Large\",\n",
    "    \"tokenizer_name_or_path\": \"nreimers/mMiniLMv2-L6-H384-distilled-from-XLMR-Large\",\n",
    "    \"learning_rate\": 1e-4,\n",
    "    \"n_epochs\": 1 if use_sample else 5,\n",
    "    \"weight_decay\": 0.01,\n",
    "    \"dataloader_num_workers\": 6,\n",
    "    \"val_batch_size\": 8,\n",
    "    \"train_batch_size\": 4,\n",
    "    \"max_len\": 512,\n",
    "    \"extra_context_length\": 64,\n",
    "    \"dropout\": 0.2\n",
    "    #\"n_separate_layers\": 1,\n",
    "    #\"per_device_train_batch_size\": 1,\n",
    "    #\"per_device_eval_batch_size\": 1,\n",
    "    #\"gradient_accumulation_steps\": 8,\n",
    "    #\"save_strategy\": \"epoch\",\n",
    "    #\"adam_beta1\": 0.9,\n",
    "    #\"adam_beta2\": 0.98,\n",
    "    #\"adam_epsilon\": 1e-6,\n",
    "    #\"warmup_ratio\": 0.3,\n",
    "    #\"fp16\": true,\n",
    "}\n",
    "\n",
    "estimator = PyTorch(\n",
    "    entry_point=\"train.py\",\n",
    "    source_dir=str(\n",
    "        \"scripts\"\n",
    "    ),\n",
    "    output_path=str(DEV_BUCKET / \"models/\"),\n",
    "    code_location=str(input_path),\n",
    "    instance_type=instance_type,\n",
    "    instance_count=1,\n",
    "    role=role,\n",
    "    framework_version=\"1.8\",\n",
    "    py_version=\"py3\",\n",
    "    hyperparameters=hyperparameters,\n",
    "    job_name=job_name,\n",
    "    debugger_hook_config=False\n",
    "    #     train_instance_count=2,\n",
    "    #     train_instance_type=\"ml.c4.xlarge\",\n",
    ")\n",
    "\n",
    "fit_arguments = {\"train\": str(input_path)}"
   ]
  },
  {
   "cell_type": "code",
   "execution_count": null,
   "metadata": {
    "ExecuteTime": {
     "end_time": "2021-06-09T08:31:45.995868Z",
     "start_time": "2021-06-09T08:31:43.484212Z"
    },
    "scrolled": false,
    "tags": []
   },
   "outputs": [],
   "source": [
    "# Fit the estimator\n",
    "estimator.fit(fit_arguments, job_name=job_name)"
   ]
  },
  {
   "cell_type": "code",
   "execution_count": null,
   "metadata": {},
   "outputs": [],
   "source": []
  }
 ],
 "metadata": {
  "interpreter": {
   "hash": "8a5ddf8e25d962f331e8059973cfd97c5aef9d0ccfdd243943e9f1f512e91043"
  },
  "kernelspec": {
   "display_name": "Python 3",
   "language": "python",
   "name": "python3"
  },
  "language_info": {
   "codemirror_mode": {
    "name": "ipython",
    "version": 3
   },
   "file_extension": ".py",
   "mimetype": "text/x-python",
   "name": "python",
   "nbconvert_exporter": "python",
   "pygments_lexer": "ipython3",
   "version": "3.9.1"
  }
 },
 "nbformat": 4,
 "nbformat_minor": 4
}
