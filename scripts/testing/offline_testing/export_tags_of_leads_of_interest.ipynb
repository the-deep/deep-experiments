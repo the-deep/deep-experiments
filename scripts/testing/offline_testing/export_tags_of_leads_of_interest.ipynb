{
 "cells": [
  {
   "cell_type": "code",
   "execution_count": 1,
   "metadata": {
    "ExecuteTime": {
     "end_time": "2021-06-23T11:18:37.172121Z",
     "start_time": "2021-06-23T11:18:37.046428Z"
    }
   },
   "outputs": [],
   "source": [
    "import re\n",
    "import json\n",
    "import random\n",
    "from pprint import pprint\n",
    "from ast import literal_eval\n",
    "from collections import Counter\n",
    "\n",
    "import numpy as np\n",
    "import pandas as pd\n",
    "from tqdm.auto import tqdm"
   ]
  },
  {
   "cell_type": "code",
   "execution_count": 2,
   "metadata": {
    "ExecuteTime": {
     "end_time": "2021-06-23T11:18:37.572011Z",
     "start_time": "2021-06-23T11:18:37.566323Z"
    }
   },
   "outputs": [],
   "source": [
    "random.seed(2021)\n",
    "np.random.seed(2021)"
   ]
  },
  {
   "cell_type": "code",
   "execution_count": 3,
   "metadata": {
    "ExecuteTime": {
     "end_time": "2021-06-23T11:18:38.079475Z",
     "start_time": "2021-06-23T11:18:38.024530Z"
    }
   },
   "outputs": [],
   "source": [
    "exportdata = pd.read_csv(\"exportdata_from_04062021_to_14062021.csv\")\n",
    "entries = pd.read_csv(\"entries_from_04062021_to_14062021.csv\")\n",
    "leads = pd.read_csv(\"leads_from_04062021_to_14062021.csv\")\n",
    "af_widgets = pd.read_csv(\"af_widgets_of_interest.csv\")\n",
    "projects = pd.read_csv(\"projects_chosen_by_patrice.csv\")\n",
    "exportables = pd.read_csv(\"af_exportables.csv\")\n",
    "##\n",
    "afs = pd.read_csv(\"analysis_frameworks.csv\")\n",
    "users = pd.read_csv(\"user_names.csv\")\n",
    "##\n",
    "matching = pd.read_csv(\"pillars_subpillars_matching.csv\")"
   ]
  },
  {
   "cell_type": "code",
   "execution_count": 4,
   "metadata": {
    "ExecuteTime": {
     "end_time": "2021-06-23T11:18:38.597483Z",
     "start_time": "2021-06-23T11:18:38.592180Z"
    }
   },
   "outputs": [],
   "source": [
    "af_widgets[\"properties\"] = af_widgets[\"properties\"].apply(json.loads)"
   ]
  },
  {
   "cell_type": "code",
   "execution_count": 5,
   "metadata": {
    "ExecuteTime": {
     "end_time": "2021-06-23T11:18:39.055776Z",
     "start_time": "2021-06-23T11:18:39.045491Z"
    }
   },
   "outputs": [],
   "source": [
    "mat2d_titles = [\n",
    "    s.upper() for s in [\n",
    "        \"Pre-Crisis\",\n",
    "        \"Shock/Event\",\n",
    "        \"In-Crisis\",\n",
    "        \"Sectors\",\n",
    "        \"Sectoral Information\",\n",
    "        \"Matrix 2D\",\n",
    "    ]\n",
    "]\n",
    "mat2d_properties_ids = af_widgets[(\n",
    "    af_widgets[\"title\"].str.upper()).isin(mat2d_titles)][[\n",
    "        \"properties\", \"analysis_framework_id\"\n",
    "    ]]\n",
    "mat2d_properties = mat2d_properties_ids[\"properties\"].tolist()\n",
    "mat2d_ids = mat2d_properties_ids[\"analysis_framework_id\"].tolist()"
   ]
  },
  {
   "cell_type": "code",
   "execution_count": 6,
   "metadata": {
    "ExecuteTime": {
     "end_time": "2021-06-23T11:18:39.541020Z",
     "start_time": "2021-06-23T11:18:39.530666Z"
    },
    "scrolled": true
   },
   "outputs": [],
   "source": [
    "afids_pillars_subpillars = dict()\n",
    "for mat, af_id in zip(mat2d_properties, mat2d_ids):\n",
    "    dims = mat[\"data\"]['dimensions']\n",
    "    afids_pillars_subpillars[af_id] = {}\n",
    "    for dim in dims:\n",
    "        pillar = dim[\"title\"]\n",
    "        sub_pillars = []\n",
    "        for sub_pillar_dict in dim[\"subdimensions\"]:\n",
    "            sub_pillars.append(sub_pillar_dict[\"title\"])\n",
    "        afids_pillars_subpillars[af_id][pillar] = sub_pillars\n"
   ]
  },
  {
   "cell_type": "code",
   "execution_count": 7,
   "metadata": {
    "ExecuteTime": {
     "end_time": "2021-06-23T11:18:40.202453Z",
     "start_time": "2021-06-23T11:18:40.121824Z"
    }
   },
   "outputs": [],
   "source": [
    "exportables[\"data\"] = exportables[\"data\"].apply(literal_eval)"
   ]
  },
  {
   "cell_type": "code",
   "execution_count": 8,
   "metadata": {
    "ExecuteTime": {
     "end_time": "2021-06-23T11:18:40.622790Z",
     "start_time": "2021-06-23T11:18:40.617978Z"
    }
   },
   "outputs": [],
   "source": [
    "def extract_title(x):\n",
    "    if x[\"excel\"].get(\"title\"):\n",
    "        return x[\"excel\"][\"title\"]\n",
    "    elif x[\"excel\"].get(\"type\") == \"multiple\":\n",
    "        return x[\"excel\"][\"titles\"]\n",
    "\n",
    "af_titles = exportables[\"data\"].apply(extract_title).tolist()"
   ]
  },
  {
   "cell_type": "code",
   "execution_count": 9,
   "metadata": {
    "ExecuteTime": {
     "end_time": "2021-06-23T11:18:41.048978Z",
     "start_time": "2021-06-23T11:18:41.036209Z"
    }
   },
   "outputs": [
    {
     "data": {
      "text/plain": [
       "((730, 23), (3832, 4))"
      ]
     },
     "execution_count": 9,
     "metadata": {},
     "output_type": "execute_result"
    }
   ],
   "source": [
    "entries.shape, exportdata.shape"
   ]
  },
  {
   "cell_type": "code",
   "execution_count": 10,
   "metadata": {
    "ExecuteTime": {
     "end_time": "2021-06-23T11:18:41.706851Z",
     "start_time": "2021-06-23T11:18:41.691781Z"
    }
   },
   "outputs": [
    {
     "data": {
      "text/plain": [
       "(728,)"
      ]
     },
     "execution_count": 10,
     "metadata": {},
     "output_type": "execute_result"
    }
   ],
   "source": [
    "entries[~entries[\"excerpt\"].isna()][\"excerpt\"].unique().shape"
   ]
  },
  {
   "cell_type": "code",
   "execution_count": 11,
   "metadata": {
    "ExecuteTime": {
     "end_time": "2021-06-23T11:18:42.185437Z",
     "start_time": "2021-06-23T11:18:42.177462Z"
    }
   },
   "outputs": [],
   "source": [
    "exid_to_exdata = dict()\n",
    "for ex_id, ex_data in zip(exportables[\"id\"], exportables[\"data\"]):\n",
    "    exid_to_exdata[ex_id] = ex_data"
   ]
  },
  {
   "cell_type": "code",
   "execution_count": 12,
   "metadata": {
    "ExecuteTime": {
     "end_time": "2021-06-23T11:18:42.667805Z",
     "start_time": "2021-06-23T11:18:42.657313Z"
    }
   },
   "outputs": [
    {
     "data": {
      "text/plain": [
       "array(['Sectoral Information', 'LOCATION', 'EXCERPT',\n",
       "       'Operational Environment', 'Information Date', 'RELIABILITY',\n",
       "       'Flag', 'DEMOGRAPHIC GROUPS', 'SPECIFIC NEEDS GROUPS',\n",
       "       'AFFECTED GROUPS', 'Severity', 'Sectors', 'Cross sector',\n",
       "       'Affected groups', 'Specific Needs Groups', 'Demographic Groups',\n",
       "       'Reliability', 'Geo Location', 'Excerpt', 'Information date',\n",
       "       'PRE-CRISIS', 'IN-CRISIS', 'Crisis type',\n",
       "       'Context additional tags', 'Crisis Type', 'SHOCK/EVENT',\n",
       "       'Additional Context', 'DISPLACED POP TYPE', 'CLEANING tags',\n",
       "       'POPULATION GROUPS', 'Cleaning comments', 'HIGH LEVEL TAGS',\n",
       "       'Comment'], dtype=object)"
      ]
     },
     "execution_count": 12,
     "metadata": {},
     "output_type": "execute_result"
    }
   ],
   "source": [
    "af_widgets[\"title\"].unique()"
   ]
  },
  {
   "cell_type": "code",
   "execution_count": 13,
   "metadata": {
    "ExecuteTime": {
     "end_time": "2021-06-23T11:18:43.122801Z",
     "start_time": "2021-06-23T11:18:43.118688Z"
    }
   },
   "outputs": [],
   "source": [
    "widget_key_id_to_title = dict()\n",
    "for w_key, w_id, title in zip(af_widgets[\"key\"], af_widgets[\"widget_id\"], af_widgets[\"title\"]):\n",
    "    widget_key_id_to_title[(w_key, w_id)] = title"
   ]
  },
  {
   "cell_type": "code",
   "execution_count": 14,
   "metadata": {
    "ExecuteTime": {
     "end_time": "2021-06-23T11:18:43.555012Z",
     "start_time": "2021-06-23T11:18:43.546113Z"
    }
   },
   "outputs": [],
   "source": [
    "def exportdata_to_tag_title(row):\n",
    "    data = json.loads(row[1])\n",
    "    wkey, wid = None, None\n",
    "    if data.get(\"common\"):\n",
    "        wkey = data.get(\"common\").get(\"widget_key\")\n",
    "        wid = data[\"common\"].get(\"widget_id\")\n",
    "    if wkey and wid:\n",
    "        if widget_key_id_to_title.get((wkey, wid)):\n",
    "            return widget_key_id_to_title.get((wkey, wid))\n",
    "    if data.get(\"report\") and data[\"report\"].get(\"other\"):\n",
    "            if len(data[\"report\"][\"other\"]) == 1 and data[\"report\"][\"other\"][0].get(\"title\"):\n",
    "                if data[\"report\"][\"other\"][0][\"title\"]:\n",
    "                    return data[\"report\"][\"other\"][0][\"title\"]\n",
    "    if isinstance(data.get(\"excel\"), list) and len(data[\"excel\"])==1 and \\\n",
    "     data[\"excel\"][0].get(\"widget_key\") and data[\"excel\"][0].get(\"widget_id\"):\n",
    "        wkey = data[\"excel\"][0][\"widget_key\"]\n",
    "        wid = data[\"excel\"][0][\"widget_id\"]\n",
    "        if widget_key_id_to_title.get((wkey, wid)):\n",
    "            return widget_key_id_to_title.get((wkey, wid))\n",
    "    exportable_id = row[3]\n",
    "    if exid_to_exdata[exportable_id][\"excel\"].get(\"title\"):\n",
    "        return exid_to_exdata[exportable_id][\"excel\"][\"title\"]\n",
    "    elif exid_to_exdata[exportable_id][\"excel\"].get(\"type\") == \"multiple\":\n",
    "        return exid_to_exdata[exportable_id][\"excel\"][\"titles\"]\n",
    "    raise"
   ]
  },
  {
   "cell_type": "code",
   "execution_count": 15,
   "metadata": {
    "ExecuteTime": {
     "end_time": "2021-06-23T11:18:43.979484Z",
     "start_time": "2021-06-23T11:18:43.928405Z"
    }
   },
   "outputs": [],
   "source": [
    "exportdata[\"tag_title\"] = exportdata.apply(exportdata_to_tag_title, axis=1)"
   ]
  },
  {
   "cell_type": "code",
   "execution_count": 16,
   "metadata": {
    "ExecuteTime": {
     "end_time": "2021-06-23T11:18:44.299533Z",
     "start_time": "2021-06-23T11:18:44.296162Z"
    }
   },
   "outputs": [],
   "source": [
    "def exportdata_to_tag_value(row):\n",
    "    data = json.loads(row[1])\n",
    "    if isinstance(data[\"excel\"], list) and len(data[\"excel\"])==1:\n",
    "        return data[\"excel\"][0][\"value\"]\n",
    "    if data[\"excel\"].get(\"type\") == \"lists\":\n",
    "        return data[\"excel\"][\"values\"]\n",
    "    if isinstance(data[\"excel\"], dict) and \"value\" in data[\"excel\"]:\n",
    "        return data[\"excel\"].get(\"value\")\n",
    "    if isinstance(data[\"excel\"], dict) and \"values\" in data[\"excel\"]:\n",
    "        return data[\"excel\"].get(\"values\")\n",
    "    elif \"values\" in data[\"common\"]:\n",
    "        return data[\"common\"][\"values\"]\n",
    "    elif \"value\" in data[\"common\"]:\n",
    "        return data[\"common\"][\"value\"]\n",
    "    raise"
   ]
  },
  {
   "cell_type": "code",
   "execution_count": 17,
   "metadata": {
    "ExecuteTime": {
     "end_time": "2021-06-23T11:18:44.661733Z",
     "start_time": "2021-06-23T11:18:44.613424Z"
    }
   },
   "outputs": [],
   "source": [
    "exportdata[\"tag_value\"] = exportdata.apply(exportdata_to_tag_value, axis=1)"
   ]
  },
  {
   "cell_type": "code",
   "execution_count": 18,
   "metadata": {
    "ExecuteTime": {
     "end_time": "2021-06-23T11:18:44.984190Z",
     "start_time": "2021-06-23T11:18:44.981745Z"
    }
   },
   "outputs": [],
   "source": [
    "def title_case(tag):\n",
    "    if isinstance(tag, (list, tuple)):\n",
    "        return tuple([x.title() for x in tag])\n",
    "    return tag.title()"
   ]
  },
  {
   "cell_type": "code",
   "execution_count": 19,
   "metadata": {
    "ExecuteTime": {
     "end_time": "2021-06-23T11:18:45.311749Z",
     "start_time": "2021-06-23T11:18:45.307849Z"
    }
   },
   "outputs": [],
   "source": [
    "exportdata[\"tag_title\"] = exportdata[\"tag_title\"].apply(title_case)"
   ]
  },
  {
   "cell_type": "code",
   "execution_count": 20,
   "metadata": {
    "ExecuteTime": {
     "end_time": "2021-06-23T11:18:45.635788Z",
     "start_time": "2021-06-23T11:18:45.634248Z"
    }
   },
   "outputs": [],
   "source": [
    "#exportdata[\"tag_title\"].unique()\n",
    "# 1. GIMAC --> Pre-Crisis, Shock/Event, In-Crisis\n",
    "# 2. 2020 Okular --> Sectoral Information\n",
    "# 3. Okular Analytics Generic --> Sectoral Information\n",
    "# 4. Rohingya Framework --> Sectors\n",
    "# 5. IFRC 2018 --> Sectors\n",
    "# 6. Colombia AF --> Sectoral Information\n",
    "# 7. Nigeria Situation Analysis (OA) --> Sectoral Information\n",
    "# 8. Situation Analysis Generic Yemen --> Matrix 2D\n",
    "# 9. Situation Analysis Generic Libya --> Sectors"
   ]
  },
  {
   "cell_type": "code",
   "execution_count": 21,
   "metadata": {
    "ExecuteTime": {
     "end_time": "2021-06-23T11:18:45.959300Z",
     "start_time": "2021-06-23T11:18:45.957076Z"
    }
   },
   "outputs": [],
   "source": [
    "mat2d_titles = [\n",
    "    s.title() for s in [\n",
    "        \"Pre-Crisis\",\n",
    "        \"Shock/Event\",\n",
    "        \"In-Crisis\",\n",
    "        \"Sectors\",\n",
    "        \"Sectoral Information\",\n",
    "        \"Matrix 2D\",\n",
    "    ]\n",
    "]"
   ]
  },
  {
   "cell_type": "code",
   "execution_count": 22,
   "metadata": {
    "ExecuteTime": {
     "end_time": "2021-06-23T11:18:46.284960Z",
     "start_time": "2021-06-23T11:18:46.282038Z"
    }
   },
   "outputs": [],
   "source": [
    "exportdata_mat2d = exportdata[exportdata[\"tag_title\"].isin(mat2d_titles)]"
   ]
  },
  {
   "cell_type": "code",
   "execution_count": 23,
   "metadata": {
    "ExecuteTime": {
     "end_time": "2021-06-23T11:18:46.639807Z",
     "start_time": "2021-06-23T11:18:46.636996Z"
    }
   },
   "outputs": [
    {
     "data": {
      "text/plain": [
       "((405, 6), (3832, 6), (730, 23))"
      ]
     },
     "execution_count": 23,
     "metadata": {},
     "output_type": "execute_result"
    }
   ],
   "source": [
    "exportdata_mat2d.shape, exportdata.shape, entries.shape"
   ]
  },
  {
   "cell_type": "code",
   "execution_count": 24,
   "metadata": {
    "ExecuteTime": {
     "end_time": "2021-06-23T11:18:46.996168Z",
     "start_time": "2021-06-23T11:18:46.989221Z"
    }
   },
   "outputs": [],
   "source": [
    "entries_labeled_mat2d = pd.merge(entries,\n",
    "                                 exportdata_mat2d,\n",
    "                                 how=\"inner\",\n",
    "                                 left_on=\"id\",\n",
    "                                 right_on=\"entry_id\",\n",
    "                                 suffixes=('_entry', '_exportdata'))"
   ]
  },
  {
   "cell_type": "code",
   "execution_count": 25,
   "metadata": {
    "ExecuteTime": {
     "end_time": "2021-06-23T11:18:47.395302Z",
     "start_time": "2021-06-23T11:18:47.391243Z"
    }
   },
   "outputs": [
    {
     "data": {
      "text/plain": [
       "((730, 23), (728,))"
      ]
     },
     "execution_count": 25,
     "metadata": {},
     "output_type": "execute_result"
    }
   ],
   "source": [
    "entries.shape, entries[~entries[\"excerpt\"].isna()][\"excerpt\"].unique().shape"
   ]
  },
  {
   "cell_type": "code",
   "execution_count": 26,
   "metadata": {
    "ExecuteTime": {
     "end_time": "2021-06-23T11:18:47.787518Z",
     "start_time": "2021-06-23T11:18:47.784649Z"
    }
   },
   "outputs": [
    {
     "data": {
      "text/plain": [
       "((405, 29),\n",
       " Index(['id_entry', 'created_at', 'modified_at', 'excerpt', 'image_raw',\n",
       "        'analysis_framework_id', 'created_by_id', 'lead_id', 'modified_by_id',\n",
       "        'entry_type', 'information_date', 'order', 'client_id', 'project_id',\n",
       "        'tabular_field_id', 'dropped_excerpt', 'highlight_hidden', 'verified',\n",
       "        'verification_last_changed_by_id', 'image_id', 'tagger_name',\n",
       "        'project_title', 'analysis_framework_title', 'id_exportdata', 'data',\n",
       "        'entry_id', 'exportable_id', 'tag_title', 'tag_value'],\n",
       "       dtype='object'))"
      ]
     },
     "execution_count": 26,
     "metadata": {},
     "output_type": "execute_result"
    }
   ],
   "source": [
    "entries_labeled_mat2d.shape, entries_labeled_mat2d.columns"
   ]
  },
  {
   "cell_type": "code",
   "execution_count": 27,
   "metadata": {
    "ExecuteTime": {
     "end_time": "2021-06-23T11:18:48.189096Z",
     "start_time": "2021-06-23T11:18:48.182869Z"
    }
   },
   "outputs": [],
   "source": [
    "def mat2d_labels_to_dimension(x):\n",
    "    tag_value = x[0]\n",
    "    af_id = x[1]\n",
    "    if not isinstance(tag_value, list):\n",
    "        print(tag_value)\n",
    "        raise\n",
    "    if len(tag_value):\n",
    "        dimensions = []\n",
    "        for t in tag_value:\n",
    "            if t[0]:\n",
    "                dimensions.append(str(af_id)+\"->\"+t[0].title() +\"->\"+t[1].title())\n",
    "        return list(set(dimensions))\n",
    "    else:\n",
    "        return []\n",
    "\n",
    "def mat2d_labels_to_subdimension(x):\n",
    "    tag_value = x[0]\n",
    "    af_id = x[1]\n",
    "    if not isinstance(tag_value, list):\n",
    "        print(tag_value)\n",
    "        raise\n",
    "    if len(tag_value):\n",
    "        subdimensions = []\n",
    "        for t in tag_value:\n",
    "            if t[1]:\n",
    "                subdimensions.append(str(af_id)+\"->\"+t[0].title() +\"->\"+t[1].title())\n",
    "        return list(set(subdimensions))\n",
    "    else:\n",
    "        return []\n",
    "\n",
    "def mat2d_labels_to_sector(tag_value):\n",
    "    if not isinstance(tag_value, list):\n",
    "        print(tag_value)\n",
    "        raise\n",
    "    if len(tag_value):\n",
    "        sectors = []\n",
    "        for t in tag_value:\n",
    "            if t[2]:\n",
    "                sectors.append(t[2].title())\n",
    "        return list(set(sectors))\n",
    "    else:\n",
    "        return []\n",
    "\n",
    "def mat2d_labels_to_subsector(tag_value):\n",
    "    if not isinstance(tag_value, list):\n",
    "        print(tag_value)\n",
    "        raise\n",
    "    if len(tag_value):\n",
    "        subsectors = []\n",
    "        for t in tag_value:\n",
    "            if len(t) == 4 and t[3]:\n",
    "                if isinstance(t[3], list):\n",
    "                    subsectors.extend([x.title() for x in t[3]])\n",
    "                else:\n",
    "                    subsectors.append(t[3].title())\n",
    "        return list(set(subsectors))\n",
    "    else:\n",
    "        return []"
   ]
  },
  {
   "cell_type": "code",
   "execution_count": 28,
   "metadata": {
    "ExecuteTime": {
     "end_time": "2021-06-23T11:18:48.595312Z",
     "start_time": "2021-06-23T11:18:48.581267Z"
    }
   },
   "outputs": [],
   "source": [
    "entries_labeled_mat2d[\"Dimension\"] = entries_labeled_mat2d[[\"tag_value\",'analysis_framework_id']].apply(mat2d_labels_to_dimension, axis=1)\n",
    "entries_labeled_mat2d[\"Subdimension\"] = entries_labeled_mat2d[[\"tag_value\",'analysis_framework_id']].apply(mat2d_labels_to_subdimension, axis=1)\n",
    "entries_labeled_mat2d[\"Sector\"] = entries_labeled_mat2d[\"tag_value\"].apply(mat2d_labels_to_sector)\n",
    "#entries_labeled_mat2d[\"Sector\"] = entries_labeled_mat2d[[\"tag_value\",'analysis_framework_id']].apply(mat2d_labels_to_sector)\n",
    "#entries_labeled_mat2d[\"Subsector\"] = entries_labeled_mat2d[[\"tag_value\",'analysis_framework_id']].apply(mat2d_labels_to_subsector)"
   ]
  },
  {
   "cell_type": "code",
   "execution_count": 29,
   "metadata": {
    "ExecuteTime": {
     "end_time": "2021-06-23T11:18:48.998089Z",
     "start_time": "2021-06-23T11:18:48.993741Z"
    }
   },
   "outputs": [
    {
     "data": {
      "text/plain": [
       "(405,)"
      ]
     },
     "execution_count": 29,
     "metadata": {},
     "output_type": "execute_result"
    }
   ],
   "source": [
    "# entries_labeled_mat2d\n",
    "entries_labeled_mat2d[~entries_labeled_mat2d[\"excerpt\"].isna()][\"excerpt\"].unique().shape"
   ]
  },
  {
   "cell_type": "code",
   "execution_count": 30,
   "metadata": {
    "ExecuteTime": {
     "end_time": "2021-06-23T11:18:49.408885Z",
     "start_time": "2021-06-23T11:18:49.403336Z"
    }
   },
   "outputs": [
    {
     "data": {
      "text/plain": [
       "[('1306->Impact->Impact On System & Services', 139),\n",
       " ('1306->Humanitarian Conditions->Physical & Mental Wellbeing', 117),\n",
       " ('1306->Impact->Impact On People', 93),\n",
       " ('1306->Impact->Drivers/Aggravating Factors', 77),\n",
       " ('1306->Humanitarian Conditions->Living Standards', 70),\n",
       " ('1306->At Risk->People At Risk / Vulnerable', 24),\n",
       " ('1306->Humanitarian Conditions->Coping Mechanisms', 13),\n",
       " ('1306->Impact->Number Of People Affected', 10),\n",
       " ('1306->Priorities->Priority Interventions (Staff)', 9),\n",
       " ('1306->Priorities->Priority Needs (Staff)', 8),\n",
       " ('1306->Humanitarian Conditions->Number Of People In Need', 6),\n",
       " ('1306->Capacities & Response->International', 5),\n",
       " ('1306->Priorities->Priority Needs (Pop)', 5),\n",
       " ('1306->Capacities & Response->Number Of People Reached', 3),\n",
       " ('1306->Capacities & Response->National & Local Actors', 2),\n",
       " ('1306->Capacities & Response->Government & Local Authorities', 2)]"
      ]
     },
     "execution_count": 30,
     "metadata": {},
     "output_type": "execute_result"
    }
   ],
   "source": [
    "dims_unique = set()\n",
    "dims_occurances = list()\n",
    "for dims in entries_labeled_mat2d[\"Dimension\"]:\n",
    "    dims_unique.update(dims)\n",
    "    dims_occurances.extend(dims)\n",
    "#dims_unique\n",
    "Counter(dims_occurances).most_common()"
   ]
  },
  {
   "cell_type": "code",
   "execution_count": 31,
   "metadata": {
    "ExecuteTime": {
     "end_time": "2021-06-23T11:18:49.813242Z",
     "start_time": "2021-06-23T11:18:49.809669Z"
    }
   },
   "outputs": [
    {
     "data": {
      "text/plain": [
       "[('1306->Impact->Impact On System & Services', 139),\n",
       " ('1306->Humanitarian Conditions->Physical & Mental Wellbeing', 117),\n",
       " ('1306->Impact->Impact On People', 93),\n",
       " ('1306->Impact->Drivers/Aggravating Factors', 77),\n",
       " ('1306->Humanitarian Conditions->Living Standards', 70),\n",
       " ('1306->At Risk->People At Risk / Vulnerable', 24),\n",
       " ('1306->Humanitarian Conditions->Coping Mechanisms', 13),\n",
       " ('1306->Impact->Number Of People Affected', 10),\n",
       " ('1306->Priorities->Priority Interventions (Staff)', 9),\n",
       " ('1306->Priorities->Priority Needs (Staff)', 8),\n",
       " ('1306->Humanitarian Conditions->Number Of People In Need', 6),\n",
       " ('1306->Capacities & Response->International', 5),\n",
       " ('1306->Priorities->Priority Needs (Pop)', 5),\n",
       " ('1306->Capacities & Response->Number Of People Reached', 3),\n",
       " ('1306->Capacities & Response->National & Local Actors', 2),\n",
       " ('1306->Capacities & Response->Government & Local Authorities', 2)]"
      ]
     },
     "execution_count": 31,
     "metadata": {},
     "output_type": "execute_result"
    }
   ],
   "source": [
    "subdims_unique = set()\n",
    "subdims_occurances = list()\n",
    "for subdims in entries_labeled_mat2d[\"Subdimension\"]:\n",
    "    subdims_unique.update(subdims)\n",
    "    subdims_occurances.extend(subdims)\n",
    "#dims_unique\n",
    "Counter(subdims_occurances).most_common()"
   ]
  },
  {
   "cell_type": "code",
   "execution_count": 32,
   "metadata": {
    "ExecuteTime": {
     "end_time": "2021-06-23T11:18:50.215188Z",
     "start_time": "2021-06-23T11:18:50.211560Z"
    }
   },
   "outputs": [
    {
     "data": {
      "text/plain": [
       "[('Protection', 136),\n",
       " ('Health', 100),\n",
       " ('Cross', 69),\n",
       " ('Food Security', 64),\n",
       " ('Education', 39),\n",
       " ('Shelter', 31),\n",
       " ('Logistics', 26),\n",
       " ('Agriculture', 21),\n",
       " ('Livelihoods', 16),\n",
       " ('Wash', 12),\n",
       " ('Nutrition', 4)]"
      ]
     },
     "execution_count": 32,
     "metadata": {},
     "output_type": "execute_result"
    }
   ],
   "source": [
    "secs_unique = set()\n",
    "secs_occurances = list()\n",
    "for secs in entries_labeled_mat2d[\"Sector\"]:\n",
    "    secs_unique.update(secs)\n",
    "    secs_occurances.extend(secs)\n",
    "#secs_unique\n",
    "Counter(secs_occurances).most_common()"
   ]
  },
  {
   "cell_type": "code",
   "execution_count": 33,
   "metadata": {
    "ExecuteTime": {
     "end_time": "2021-06-23T11:18:50.614361Z",
     "start_time": "2021-06-23T11:18:50.611455Z"
    }
   },
   "outputs": [
    {
     "data": {
      "text/plain": [
       "Index(['id_entry', 'created_at', 'modified_at', 'excerpt', 'image_raw',\n",
       "       'analysis_framework_id', 'created_by_id', 'lead_id', 'modified_by_id',\n",
       "       'entry_type', 'information_date', 'order', 'client_id', 'project_id',\n",
       "       'tabular_field_id', 'dropped_excerpt', 'highlight_hidden', 'verified',\n",
       "       'verification_last_changed_by_id', 'image_id', 'tagger_name',\n",
       "       'project_title', 'analysis_framework_title', 'id_exportdata', 'data',\n",
       "       'entry_id', 'exportable_id', 'tag_title', 'tag_value', 'Dimension',\n",
       "       'Subdimension', 'Sector'],\n",
       "      dtype='object')"
      ]
     },
     "execution_count": 33,
     "metadata": {},
     "output_type": "execute_result"
    }
   ],
   "source": [
    "entries_labeled_mat2d.columns"
   ]
  },
  {
   "cell_type": "code",
   "execution_count": 34,
   "metadata": {
    "ExecuteTime": {
     "end_time": "2021-06-23T11:18:51.015746Z",
     "start_time": "2021-06-23T11:18:51.013016Z"
    }
   },
   "outputs": [],
   "source": [
    "final_df = entries_labeled_mat2d[\n",
    "    entries_labeled_mat2d[\"entry_type\"].eq(\"excerpt\")\n",
    "    & (~entries_labeled_mat2d[\"excerpt\"].isna())]"
   ]
  },
  {
   "cell_type": "code",
   "execution_count": 35,
   "metadata": {
    "ExecuteTime": {
     "end_time": "2021-06-23T11:18:51.502791Z",
     "start_time": "2021-06-23T11:18:51.485216Z"
    }
   },
   "outputs": [
    {
     "data": {
      "text/plain": [
       "((405, 32), 0)"
      ]
     },
     "execution_count": 35,
     "metadata": {},
     "output_type": "execute_result"
    }
   ],
   "source": [
    "def remove_newlines(excerpt):\n",
    "    if not isinstance(excerpt, str):\n",
    "        return excerpt\n",
    "    return re.sub(\"\\s+\", \" \", excerpt)\n",
    "\n",
    "final_df.loc[:, 'excerpt'] = final_df['excerpt'].apply(remove_newlines)\n",
    "final_df.loc[:, 'dropped_excerpt'] = final_df['dropped_excerpt'].apply(remove_newlines)\n",
    "##\n",
    "final_df = final_df.sort_values(\"verified\").reset_index(drop=True).drop_duplicates(subset='excerpt', keep=\"last\")\n",
    "final_df.shape, final_df.duplicated(subset=\"excerpt\").sum()"
   ]
  },
  {
   "cell_type": "code",
   "execution_count": 36,
   "metadata": {
    "ExecuteTime": {
     "end_time": "2021-06-23T11:18:52.001542Z",
     "start_time": "2021-06-23T11:18:51.999130Z"
    }
   },
   "outputs": [],
   "source": [
    "sector_name_mapper = {\n",
    "    \"Agriculture\": \"Agriculture\",\n",
    "    \"Cccm\": \"\",\n",
    "    \"Cross\": \"Cross\",\n",
    "    \"Cross Cutting\": \"Cross\",\n",
    "    \"Cross-Sector\": \"Cross\",\n",
    "    \"Education\": \"Education\",\n",
    "    \"Food\": \"Food Security\",\n",
    "    \"Food Security\": \"Food Security\",\n",
    "    \"Nutrition\": \"Nutrition\",\n",
    "    \"Health\": \"Health\",\n",
    "    \"Livelihood\": \"Livelihoods\",\n",
    "    \"Livelihoods\": \"Livelihoods\",\n",
    "    \"Logistic\": \"Logistics\",\n",
    "    \"Logistics\": \"Logistics\",\n",
    "    \"Protection\": \"Protection\",\n",
    "    \"Shelter\": \"Shelter\",\n",
    "    \"Shelter And Nfis\": \"Shelter\",\n",
    "    \"Nfi\": \"\",\n",
    "    \"Wash\": \"WASH\",\n",
    "}"
   ]
  },
  {
   "cell_type": "code",
   "execution_count": 37,
   "metadata": {
    "ExecuteTime": {
     "end_time": "2021-06-23T11:18:52.473182Z",
     "start_time": "2021-06-23T11:18:52.470891Z"
    }
   },
   "outputs": [],
   "source": [
    "af_title_to_id = dict()\n",
    "for afid, title in zip(afs[\"id\"], afs[\"title\"]):\n",
    "    af_title_to_id[\"title\"] = afid"
   ]
  },
  {
   "cell_type": "code",
   "execution_count": 38,
   "metadata": {
    "ExecuteTime": {
     "end_time": "2021-06-23T11:18:52.950975Z",
     "start_time": "2021-06-23T11:18:52.944998Z"
    }
   },
   "outputs": [
    {
     "data": {
      "text/plain": [
       "Index(['Framework Name', 'Pillar', 'Sub-pillar', 'Final Pillar Name',\n",
       "       'Final Sub-pillar Name', 'analysis_framework_id'],\n",
       "      dtype='object')"
      ]
     },
     "execution_count": 38,
     "metadata": {},
     "output_type": "execute_result"
    }
   ],
   "source": [
    "af_id_title = afs[[\"id\", \"title\"]]\n",
    "af_id_title.columns = [\"analysis_framework_id\", \"Framework Name\"]\n",
    "matching = pd.merge(matching, af_id_title, how=\"left\", left_on=\"Framework Name\", right_on=\"Framework Name\")\n",
    "matching.columns"
   ]
  },
  {
   "cell_type": "code",
   "execution_count": 39,
   "metadata": {
    "ExecuteTime": {
     "end_time": "2021-06-23T11:18:53.440950Z",
     "start_time": "2021-06-23T11:18:53.436776Z"
    }
   },
   "outputs": [],
   "source": [
    "matching[\"Pillar\"] = matching[\"Pillar\"].apply(lambda x: x.strip().title())\n",
    "matching[\"Sub-pillar\"] = matching[\"Sub-pillar\"].apply(lambda x: x.strip().title())\n",
    "matching[\"Final Pillar Name\"] = matching[\"Final Pillar Name\"].apply(lambda x: x.strip().title())\n",
    "matching[\"Final Sub-pillar Name\"] = matching[\"Final Sub-pillar Name\"].apply(lambda x: x.strip().title())"
   ]
  },
  {
   "cell_type": "code",
   "execution_count": 40,
   "metadata": {
    "ExecuteTime": {
     "end_time": "2021-06-23T11:18:53.911660Z",
     "start_time": "2021-06-23T11:18:53.908788Z"
    }
   },
   "outputs": [
    {
     "data": {
      "text/plain": [
       "array(['Living Standards', 'Physical And Mental Well Being',\n",
       "       'Coping Mechanisms', 'Impact On People Or Impact On Services',\n",
       "       'Driver/Aggravating Factors', 'Impact On People',\n",
       "       'Impact On Systems And Services', 'International Response',\n",
       "       'National Response', 'Number Of People Affected',\n",
       "       'Number Of People At Risk', 'Number Of People In Need',\n",
       "       'Number Of People Reached', 'Expressed By Population',\n",
       "       'Expressed By Humanitarian Staff', 'Response Gaps',\n",
       "       'Risk And Vulnerabilities', 'Impact On Services'], dtype=object)"
      ]
     },
     "execution_count": 40,
     "metadata": {},
     "output_type": "execute_result"
    }
   ],
   "source": [
    "matching[\"Final Sub-pillar Name\"].unique()"
   ]
  },
  {
   "cell_type": "code",
   "execution_count": 41,
   "metadata": {
    "ExecuteTime": {
     "end_time": "2021-06-23T11:18:54.388894Z",
     "start_time": "2021-06-23T11:18:54.386228Z"
    }
   },
   "outputs": [
    {
     "data": {
      "text/plain": [
       "array(['Humanitatian Conditions', 'Impact', 'Capacities & Response',\n",
       "       'People At Risk', 'Humanitarian Conditions', 'Priority Needs',\n",
       "       'Priority Interventions'], dtype=object)"
      ]
     },
     "execution_count": 41,
     "metadata": {},
     "output_type": "execute_result"
    }
   ],
   "source": [
    "matching[\"Final Pillar Name\"].unique()"
   ]
  },
  {
   "cell_type": "code",
   "execution_count": 42,
   "metadata": {
    "ExecuteTime": {
     "end_time": "2021-06-23T11:18:54.873300Z",
     "start_time": "2021-06-23T11:18:54.870956Z"
    }
   },
   "outputs": [],
   "source": [
    "matching.loc[matching[\"Final Pillar Name\"].eq('Humanitatian Conditions'),\n",
    "             \"Final Pillar Name\"] = 'Humanitarian Conditions'"
   ]
  },
  {
   "cell_type": "code",
   "execution_count": 43,
   "metadata": {
    "ExecuteTime": {
     "end_time": "2021-06-23T11:18:55.350556Z",
     "start_time": "2021-06-23T11:18:55.347585Z"
    }
   },
   "outputs": [],
   "source": [
    "matching = matching.astype({'Framework Name':str, 'Pillar':str, 'Sub-pillar':str, 'Final Pillar Name':str,\n",
    "       'Final Sub-pillar Name':str, 'analysis_framework_id':str})"
   ]
  },
  {
   "cell_type": "code",
   "execution_count": 44,
   "metadata": {
    "ExecuteTime": {
     "end_time": "2021-06-23T11:18:55.826132Z",
     "start_time": "2021-06-23T11:18:55.817027Z"
    }
   },
   "outputs": [],
   "source": [
    "matching[\n",
    "    \"original_pillar\"] = matching[\"analysis_framework_id\"] + \"->\" + matching[\n",
    "        \"Pillar\"] + \"->\" + matching[\"Sub-pillar\"]\n",
    "matching[\"original_subpillar\"] = matching[\n",
    "    \"analysis_framework_id\"] + \"->\" + matching[\"Pillar\"] + \"->\" + matching[\n",
    "        \"Sub-pillar\"]\n",
    "##\n",
    "matching[\"target_pillar\"] = matching[\"Final Pillar Name\"]\n",
    "matching[\"target_subpillar\"] = matching[\"Final Pillar Name\"] + \"->\" + matching[\n",
    "    \"Final Sub-pillar Name\"]"
   ]
  },
  {
   "cell_type": "code",
   "execution_count": 45,
   "metadata": {
    "ExecuteTime": {
     "end_time": "2021-06-23T11:18:56.304743Z",
     "start_time": "2021-06-23T11:18:56.302279Z"
    }
   },
   "outputs": [],
   "source": [
    "pillar_name_mapper = dict()\n",
    "subpillar_name_mapper = dict()\n",
    "for pillar, fpillar, subpillar, fsubpillar, af_id in zip(\n",
    "        matching[\"original_pillar\"], matching[\"target_pillar\"],\n",
    "        matching[\"original_subpillar\"], matching[\"target_subpillar\"],\n",
    "        matching[\"analysis_framework_id\"]):\n",
    "    pillar_name_mapper[pillar] = fpillar\n",
    "    subpillar_name_mapper[subpillar] = fsubpillar"
   ]
  },
  {
   "cell_type": "code",
   "execution_count": 46,
   "metadata": {
    "ExecuteTime": {
     "end_time": "2021-06-23T11:18:59.732383Z",
     "start_time": "2021-06-23T11:18:59.725485Z"
    }
   },
   "outputs": [
    {
     "data": {
      "text/plain": [
       "{'136->Humanitarian Conditions->1St Level Outcome': 'Humanitarian Conditions',\n",
       " '137->Humanitarian Conditions->1St Level Outcome': 'Humanitarian Conditions',\n",
       " '14->Humanitarian Conditions->Access To Basic Services Or Goods': 'Humanitarian Conditions',\n",
       " '273->Humanitarian Conditions->Impact On Accessibility, Availability, Quality, Use And Awareness Of Goods And Services': 'Humanitarian Conditions',\n",
       " '1004->Humanitarian Conditions->Living Standards': 'Humanitarian Conditions',\n",
       " '829->Humanitarian Conditions->Living Standards': 'Humanitarian Conditions',\n",
       " '1306->Humanitarian Conditions->Living Standards': 'Humanitarian Conditions',\n",
       " '552->Humanitarian Conditions->Living Standards': 'Humanitarian Conditions',\n",
       " '495->Humanitarian Conditions->Living Standards': 'Humanitarian Conditions',\n",
       " '537->Humanitarian Conditions->Living Standards': 'Humanitarian Conditions',\n",
       " '273->Humanitarian Conditions->Impact On Physical And Mental Wellbeing': 'Humanitarian Conditions',\n",
       " '14->Humanitarian Conditions->Impact On Physical And Mental Wellbeing': 'Humanitarian Conditions',\n",
       " '136->Humanitarian Conditions->2Nd Level Outcome': 'Humanitarian Conditions',\n",
       " '137->Humanitarian Conditions->2Nd Level Outcome': 'Humanitarian Conditions',\n",
       " '1004->Humanitarian Conditions->Physical & Mental Wellbeing': 'Humanitarian Conditions',\n",
       " '1306->Humanitarian Conditions->Physical & Mental Wellbeing': 'Humanitarian Conditions',\n",
       " '552->Humanitarian Conditions->Physical & Mental Wellbeing': 'Humanitarian Conditions',\n",
       " '495->Humanitarian Conditions->Physical & Mental Wellbeing': 'Humanitarian Conditions',\n",
       " '537->Humanitarian Conditions->Physical & Mental Wellbeing': 'Humanitarian Conditions',\n",
       " '829->Humanitarian Conditions->Physical And Mental Well-Being': 'Humanitarian Conditions',\n",
       " '14->Capacities And Response->Coping Mechanisms': 'Humanitarian Conditions',\n",
       " '136->Capacities And Response->Coping Mechanisms': 'Humanitarian Conditions',\n",
       " '137->Capacities And Response->Coping Mechanisms': 'Humanitarian Conditions',\n",
       " '1004->Humanitarian Conditions->Coping Mechanisms': 'Humanitarian Conditions',\n",
       " '829->Humanitarian Conditions->Coping Mechanisms': 'Humanitarian Conditions',\n",
       " '1306->Humanitarian Conditions->Coping Mechanisms': 'Humanitarian Conditions',\n",
       " '552->Humanitarian Conditions->Coping Mechanisms': 'Humanitarian Conditions',\n",
       " '495->Humanitarian Conditions->Coping Mechanisms': 'Humanitarian Conditions',\n",
       " '537->Humanitarian Conditions->Coping Mechanisms': 'Humanitarian Conditions',\n",
       " '273->Scope And Scale->Damage': 'Impact',\n",
       " '14->Scope And Scale->Damage': 'Impact',\n",
       " '136->Scope And Scale->Damage': 'Impact',\n",
       " '137->Scope And Scale->Damage': 'Impact',\n",
       " '829->Impact->Damages & Losses': 'Impact',\n",
       " '1004->Scope & Scale->Damages & Losses': 'Impact',\n",
       " '552->Scope & Scale->Damages & Losses': 'Impact',\n",
       " '495->Scope & Scale->Damages & Losses': 'Impact',\n",
       " '537->Scope & Scale->Damages & Losses': 'Impact',\n",
       " '273->Scope And Scale->Losses': 'Impact',\n",
       " '14->Scope And Scale->Losses': 'Impact',\n",
       " '136->Scope And Scale->Losses': 'Impact',\n",
       " '137->Scope And Scale->Losses': 'Impact',\n",
       " '829->Impact->Drivers': 'Impact',\n",
       " '273->Scope And Scale->Drivers/ Aggravating Factors': 'Impact',\n",
       " '14->Scope And Scale->Drivers/ Aggravating Factors': 'Impact',\n",
       " '1306->Impact->Drivers/Aggravating Factors': 'Impact',\n",
       " '1004->Scope & Scale->Drivers/Aggravating Factors': 'Impact',\n",
       " '552->Scope & Scale->Drivers/Aggravating Factors': 'Impact',\n",
       " '495->Scope & Scale->Drivers/Aggravating Factors': 'Impact',\n",
       " '537->Scope & Scale->Drivers/Aggravating Factors': 'Impact',\n",
       " '136->Scope And Scale->Drivers/Aggravating Factors': 'Impact',\n",
       " '137->Scope And Scale->Drivers/Aggravating Factors': 'Impact',\n",
       " '1306->Impact->Impact On People': 'Impact',\n",
       " '1306->Impact->Impact On System & Services': 'Impact',\n",
       " '136->Capacities And Response->Market Functionality': 'Impact',\n",
       " '137->Capacities And Response->Market Functionality': 'Impact',\n",
       " '1004->Capacities & Response->International': 'Capacities & Response',\n",
       " '1306->Capacities & Response->International': 'Capacities & Response',\n",
       " '552->Capacities & Response->International': 'Capacities & Response',\n",
       " '495->Capacities & Response->International': 'Capacities & Response',\n",
       " '537->Capacities & Response->International': 'Capacities & Response',\n",
       " '829->Response And Capacities->International': 'Capacities & Response',\n",
       " '273->Capacities And Response->International Response': 'Capacities & Response',\n",
       " '14->Capacities And Response->International Response': 'Capacities & Response',\n",
       " '136->Capacities And Response->International Response': 'Capacities & Response',\n",
       " '137->Capacities And Response->International Response': 'Capacities & Response',\n",
       " '552->Capacities & Response->Lngo': 'Capacities & Response',\n",
       " '495->Capacities & Response->Lngo': 'Capacities & Response',\n",
       " '537->Capacities & Response->Lngo': 'Capacities & Response',\n",
       " '1004->Capacities & Response->National': 'Capacities & Response',\n",
       " '1306->Capacities & Response->National & Local Actors': 'Capacities & Response',\n",
       " '829->Response And Capacities->National And Local': 'Capacities & Response',\n",
       " '14->Capacities And Response->National Response': 'Capacities & Response',\n",
       " '136->Capacities And Response->National Response': 'Capacities & Response',\n",
       " '137->Capacities And Response->National Response': 'Capacities & Response',\n",
       " '273->Capacities And Response->National Response Capacity': 'Capacities & Response',\n",
       " '273->Capacities And Response->National Society Capacity': 'Capacities & Response',\n",
       " '552->Capacities & Response->Government': 'Capacities & Response',\n",
       " '495->Capacities & Response->Government': 'Capacities & Response',\n",
       " '537->Capacities & Response->Government': 'Capacities & Response',\n",
       " '1306->Capacities & Response->Government & Local Authorities': 'Capacities & Response',\n",
       " '829->Impact->Number Of People Affected': 'Impact',\n",
       " '1306->Impact->Number Of People Affected': 'Impact',\n",
       " '495->Scope & Scale->Number Of People Affected': 'Impact',\n",
       " '1004->Scope & Scale->People Affected': 'Impact',\n",
       " '829->Humanitarian Conditions->Number Of People At Risk': 'People At Risk',\n",
       " '495->Humanitarian Conditions->Number Of People At Risk': 'People At Risk',\n",
       " '1306->Humanitarian Conditions->Number Of People In Need': 'Humanitarian Conditions',\n",
       " '1004->Humanitarian Conditions->People In Need': 'Humanitarian Conditions',\n",
       " '829->Humanitarian Conditions->Number Of People In Need And Priorities': 'Humanitarian Conditions',\n",
       " '495->Humanitarian Conditions->Number Of People In Need And Priorities': 'Humanitarian Conditions',\n",
       " '552->Humanitarian Conditions->Unmet Needs': 'Humanitarian Conditions',\n",
       " '537->Humanitarian Conditions->Unmet Needs': 'Humanitarian Conditions',\n",
       " '14->Humanitarian Conditions->Unmet Needs': 'Humanitarian Conditions',\n",
       " '136->Humanitarian Conditions->Unmet Needs': 'Humanitarian Conditions',\n",
       " '137->Humanitarian Conditions->Unmet Needs': 'Humanitarian Conditions',\n",
       " '1306->Capacities & Response->Number Of People Reached': 'Capacities & Response',\n",
       " '1004->Capacities & Response->People Reached': 'Capacities & Response',\n",
       " '495->Priorities->As Expressed By The Population': 'Priority Needs',\n",
       " '829->Response And Capacities->Community': 'Priority Needs',\n",
       " '829->Response And Capacities->Community Perceived Priorities': 'Priority Needs',\n",
       " '1306->Priorities->Priority Needs (Pop)': 'Priority Needs',\n",
       " '1004->Priorities->Priority Problems (Pop)': 'Priority Needs',\n",
       " '1004->Priorities->Priority Interventions (Pop)': 'Priority Interventions',\n",
       " '1306->Priorities->Priority Interventions (Pop)': 'Priority Interventions',\n",
       " '1004->Priorities->Priority Interventions (Staff)': 'Priority Interventions',\n",
       " '1306->Priorities->Priority Interventions (Staff)': 'Priority Interventions',\n",
       " '1004->Priorities->Priority Problems (Staff)': 'Priority Needs',\n",
       " '1306->Priorities->Priority Needs (Staff)': 'Priority Needs',\n",
       " '495->Priorities->As Expressed By Experts': 'Priority Needs',\n",
       " '552->Capacities & Response->Response Gaps': 'Capacities & Response',\n",
       " '495->Capacities & Response->Response Gaps': 'Capacities & Response',\n",
       " '537->Capacities & Response->Response Gaps': 'Capacities & Response',\n",
       " '14->Capacities And Response->Response Gaps': 'Capacities & Response',\n",
       " '136->Capacities And Response->Response Gaps': 'Capacities & Response',\n",
       " '137->Capacities And Response->Response Gaps': 'Capacities & Response',\n",
       " '136->Humanitarian Conditions->Risks': 'People At Risk',\n",
       " '137->Humanitarian Conditions->Risks': 'People At Risk',\n",
       " '829->Humanitarian Conditions->Risks &  New Or Aggravated Vulnerabilities': 'People At Risk',\n",
       " '552->Humanitarian Conditions->Risks & Vulnerabilities': 'People At Risk',\n",
       " '495->Humanitarian Conditions->Risks & Vulnerabilities': 'People At Risk',\n",
       " '537->Humanitarian Conditions->Risks & Vulnerabilities': 'People At Risk',\n",
       " '14->Humanitarian Conditions->Risks/Vulnerabilities': 'People At Risk',\n",
       " '136->Humanitarian Conditions->Vulnerabilities': 'People At Risk',\n",
       " '137->Humanitarian Conditions->Vulnerabilities': 'People At Risk',\n",
       " '273->Humanitarian Conditions->Vulnerabilities, Specific Needs And Risks': 'People At Risk',\n",
       " '1306->At Risk->People At Risk / Vulnerable': 'People At Risk',\n",
       " '1004->Humanitarian Conditions->People At Risk / Vulnerable': 'People At Risk',\n",
       " '829->Impact->Status Of Essential Infrastructure, Systems, Markets And Networks': 'Impact',\n",
       " '1004->Scope & Scale->System Disruption': 'Impact',\n",
       " '552->Scope & Scale->System Disruption': 'Impact',\n",
       " '495->Scope & Scale->System Disruption': 'Impact',\n",
       " '537->Scope & Scale->System Disruption': 'Impact',\n",
       " '273->Scope And Scale->System Disruption': 'Impact',\n",
       " '14->Scope And Scale->System Disruption': 'Impact',\n",
       " '1004->Capacities & Response->System Functionality': 'Impact',\n",
       " '552->Capacities & Response->System Functionality': 'Impact',\n",
       " '495->Capacities & Response->System Functionality': 'Impact',\n",
       " '537->Capacities & Response->System Functionality': 'Impact',\n",
       " '136->Scope And Scale->Systems Disruption': 'Impact',\n",
       " '137->Scope And Scale->Systems Disruption': 'Impact',\n",
       " '14->Capacities And Response->Systems Functionality': 'Impact'}"
      ]
     },
     "execution_count": 46,
     "metadata": {},
     "output_type": "execute_result"
    }
   ],
   "source": [
    "pillar_name_mapper"
   ]
  },
  {
   "cell_type": "code",
   "execution_count": 47,
   "metadata": {
    "ExecuteTime": {
     "end_time": "2021-06-23T11:19:00.486259Z",
     "start_time": "2021-06-23T11:19:00.481871Z"
    }
   },
   "outputs": [],
   "source": [
    "def sector_mapper(sec):\n",
    "    if sec == sec:\n",
    "        sectors =  [sector_name_mapper.get(s, \"\") for s in sec]\n",
    "        return [sec for sec in sectors if sec]\n",
    "    return []\n",
    "##\n",
    "def pillar_mapper(dim):\n",
    "    if dim == dim:\n",
    "        dim = [pillar_name_mapper.get(d, \"\") for d in dim]\n",
    "        return [d for d in dim if d]\n",
    "    return []\n",
    "##\n",
    "def subpillar_mapper(subdim):\n",
    "    if subdim == subdim:\n",
    "        subdim = [subpillar_name_mapper.get(d, \"\") for d in subdim]\n",
    "        return [d for d in subdim if d]\n",
    "    return []"
   ]
  },
  {
   "cell_type": "code",
   "execution_count": 48,
   "metadata": {
    "ExecuteTime": {
     "end_time": "2021-06-23T11:19:01.490791Z",
     "start_time": "2021-06-23T11:19:01.484662Z"
    }
   },
   "outputs": [],
   "source": [
    "final_df[\"sectors\"] = final_df[\"Sector\"].apply(sector_mapper)\n",
    "final_df[\"pillars\"] = final_df[\"Dimension\"].apply(pillar_mapper)\n",
    "final_df[\"subpillars\"] = final_df[\"Subdimension\"].apply(subpillar_mapper)"
   ]
  },
  {
   "cell_type": "code",
   "execution_count": 49,
   "metadata": {
    "ExecuteTime": {
     "end_time": "2021-06-23T11:19:02.131747Z",
     "start_time": "2021-06-23T11:19:02.120733Z"
    }
   },
   "outputs": [
    {
     "data": {
      "text/plain": [
       "Index(['id_entry', 'created_at', 'modified_at', 'excerpt', 'image_raw',\n",
       "       'analysis_framework_id', 'created_by_id', 'lead_id', 'modified_by_id',\n",
       "       'entry_type', 'information_date', 'order', 'client_id', 'project_id',\n",
       "       'tabular_field_id', 'dropped_excerpt', 'highlight_hidden', 'verified',\n",
       "       'verification_last_changed_by_id', 'image_id', 'tagger_name',\n",
       "       'project_title', 'analysis_framework_title', 'id_exportdata', 'data',\n",
       "       'entry_id', 'exportable_id', 'tag_title', 'tag_value', 'Dimension',\n",
       "       'Subdimension', 'Sector', 'sectors', 'pillars', 'subpillars'],\n",
       "      dtype='object')"
      ]
     },
     "execution_count": 49,
     "metadata": {},
     "output_type": "execute_result"
    }
   ],
   "source": [
    "final_df.columns"
   ]
  },
  {
   "cell_type": "code",
   "execution_count": 50,
   "metadata": {
    "ExecuteTime": {
     "end_time": "2021-06-23T11:19:02.919905Z",
     "start_time": "2021-06-23T11:19:02.904522Z"
    }
   },
   "outputs": [],
   "source": [
    "df = final_df[[\n",
    "    'entry_id',\n",
    "    'lead_id',\n",
    "    'project_id',\n",
    "    'project_title',\n",
    "    'analysis_framework_id',\n",
    "    'analysis_framework_title',\n",
    "    'excerpt',\n",
    "    'dropped_excerpt',\n",
    "    'created_by_id',\n",
    "    'tagger_name',\n",
    "    'modified_by_id',\n",
    "    'verified',\n",
    "    'verification_last_changed_by_id',\n",
    "    'sectors',\n",
    "    'pillars',\n",
    "    'subpillars',\n",
    "]]\n",
    "df.columns = [\n",
    "    'entry_id',\n",
    "    'lead_id',\n",
    "    'project_id',\n",
    "    'project_title',\n",
    "    'analysis_framework_id',\n",
    "    'analysis_framework_title',\n",
    "    'excerpt',\n",
    "    'dropped_excerpt',\n",
    "    'created_by_id',\n",
    "    'tagger_name',\n",
    "    'modified_by_id',\n",
    "    'verified',\n",
    "    'verification_last_changed_by_id',\n",
    "    'sectors',\n",
    "    'pillars',\n",
    "    'subpillars',\n",
    "]"
   ]
  },
  {
   "cell_type": "code",
   "execution_count": 51,
   "metadata": {
    "ExecuteTime": {
     "end_time": "2021-06-23T11:19:03.485521Z",
     "start_time": "2021-06-23T11:19:03.481945Z"
    }
   },
   "outputs": [
    {
     "data": {
      "text/plain": [
       "[('Protection', 136),\n",
       " ('Health', 100),\n",
       " ('Cross', 69),\n",
       " ('Food Security', 64),\n",
       " ('Education', 39),\n",
       " ('Shelter', 31),\n",
       " ('Logistics', 26),\n",
       " ('Agriculture', 21),\n",
       " ('Livelihoods', 16),\n",
       " ('WASH', 12),\n",
       " ('Nutrition', 4)]"
      ]
     },
     "execution_count": 51,
     "metadata": {},
     "output_type": "execute_result"
    }
   ],
   "source": [
    "secs_unique = set()\n",
    "secs_occurances = list()\n",
    "for secs in final_df[\"sectors\"]:\n",
    "    secs_unique.update(secs)\n",
    "    secs_occurances.extend(secs)\n",
    "#secs_unique\n",
    "Counter(secs_occurances).most_common()"
   ]
  },
  {
   "cell_type": "code",
   "execution_count": 52,
   "metadata": {
    "ExecuteTime": {
     "end_time": "2021-06-23T11:19:04.018672Z",
     "start_time": "2021-06-23T11:19:04.015410Z"
    }
   },
   "outputs": [
    {
     "data": {
      "text/plain": [
       "[('Impact', 319),\n",
       " ('Humanitarian Conditions', 206),\n",
       " ('People At Risk', 24),\n",
       " ('Priority Needs', 13),\n",
       " ('Capacities & Response', 12),\n",
       " ('Priority Interventions', 9)]"
      ]
     },
     "execution_count": 52,
     "metadata": {},
     "output_type": "execute_result"
    }
   ],
   "source": [
    "dims_unique = set()\n",
    "dims_occurances = list()\n",
    "for dims in final_df[\"pillars\"]:\n",
    "    dims_unique.update(dims)\n",
    "    dims_occurances.extend(dims)\n",
    "#dims_unique\n",
    "Counter(dims_occurances).most_common()"
   ]
  },
  {
   "cell_type": "code",
   "execution_count": 53,
   "metadata": {
    "ExecuteTime": {
     "end_time": "2021-06-23T11:19:04.554305Z",
     "start_time": "2021-06-23T11:19:04.547271Z"
    }
   },
   "outputs": [
    {
     "data": {
      "text/plain": [
       "[('Impact->Impact On Systems And Services', 139),\n",
       " ('Humanitarian Conditions->Physical And Mental Well Being', 117),\n",
       " ('Impact->Impact On People', 93),\n",
       " ('Impact->Driver/Aggravating Factors', 77),\n",
       " ('Humanitarian Conditions->Living Standards', 70),\n",
       " ('People At Risk->Risk And Vulnerabilities', 24),\n",
       " ('Humanitarian Conditions->Coping Mechanisms', 13),\n",
       " ('Impact->Number Of People Affected', 10),\n",
       " ('Priority Interventions->Expressed By Humanitarian Staff', 9),\n",
       " ('Priority Needs->Expressed By Humanitarian Staff', 8),\n",
       " ('Humanitarian Conditions->Number Of People In Need', 6),\n",
       " ('Priority Needs->Expressed By Population', 5),\n",
       " ('Capacities & Response->International Response', 5),\n",
       " ('Capacities & Response->National Response', 4),\n",
       " ('Capacities & Response->Number Of People Reached', 3)]"
      ]
     },
     "execution_count": 53,
     "metadata": {},
     "output_type": "execute_result"
    }
   ],
   "source": [
    "subdims_unique = set()\n",
    "subdims_occurances = list()\n",
    "for subdims in final_df[\"subpillars\"]:\n",
    "    subdims_unique.update(subdims)\n",
    "    subdims_occurances.extend(subdims)\n",
    "Counter(subdims_occurances).most_common()"
   ]
  },
  {
   "cell_type": "code",
   "execution_count": 54,
   "metadata": {
    "ExecuteTime": {
     "end_time": "2021-06-23T11:19:05.099975Z",
     "start_time": "2021-06-23T11:19:05.091648Z"
    }
   },
   "outputs": [],
   "source": [
    "df.to_csv(\"data_exported.csv\", index=None)"
   ]
  },
  {
   "cell_type": "code",
   "execution_count": null,
   "metadata": {},
   "outputs": [],
   "source": []
  }
 ],
 "metadata": {
  "kernelspec": {
   "display_name": "Python 3.8.5 64-bit ('base': conda)",
   "language": "python",
   "name": "python385jvsc74a57bd0f487e277ea6a75fd1c7c341a1deb40c7861148cbc006695943c5304af00fedbe"
  },
  "language_info": {
   "codemirror_mode": {
    "name": "ipython",
    "version": 3
   },
   "file_extension": ".py",
   "mimetype": "text/x-python",
   "name": "python",
   "nbconvert_exporter": "python",
   "pygments_lexer": "ipython3",
   "version": "3.8.5"
  },
  "varInspector": {
   "cols": {
    "lenName": 16,
    "lenType": 16,
    "lenVar": 40
   },
   "kernels_config": {
    "python": {
     "delete_cmd_postfix": "",
     "delete_cmd_prefix": "del ",
     "library": "var_list.py",
     "varRefreshCmd": "print(var_dic_list())"
    },
    "r": {
     "delete_cmd_postfix": ") ",
     "delete_cmd_prefix": "rm(",
     "library": "var_list.r",
     "varRefreshCmd": "cat(var_dic_list()) "
    }
   },
   "types_to_exclude": [
    "module",
    "function",
    "builtin_function_or_method",
    "instance",
    "_Feature"
   ],
   "window_display": false
  }
 },
 "nbformat": 4,
 "nbformat_minor": 4
}
