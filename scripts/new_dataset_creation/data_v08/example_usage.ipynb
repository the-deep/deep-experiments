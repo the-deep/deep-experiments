{
 "cells": [
  {
   "attachments": {},
   "cell_type": "markdown",
   "metadata": {},
   "source": [
    "1. In the script `get_data.py` : fill the credentials in the function `connect_db`.\n",
    "2. Connect to the db through the ssh tunnel.\n",
    "3. Run the following (example) script"
   ]
  },
  {
   "cell_type": "code",
   "execution_count": null,
   "metadata": {},
   "outputs": [],
   "source": [
    "import pandas as pd\n",
    "from typing import List\n",
    "from create_new_dataset_v08 import get_final_classification_df"
   ]
  },
  {
   "cell_type": "code",
   "execution_count": null,
   "metadata": {},
   "outputs": [],
   "source": [
    "project_ids: List[int] = \"\"\" List of project ids we want to pull \"\"\"\n",
    "mapping_sheet = pd.read_csv(\"data_v08_final_mapping_sheet.csv\")"
   ]
  },
  {
   "cell_type": "code",
   "execution_count": null,
   "metadata": {},
   "outputs": [],
   "source": [
    "processed_data = get_final_classification_df(project_ids, mapping_sheet)"
   ]
  }
 ],
 "metadata": {
  "language_info": {
   "name": "python"
  },
  "orig_nbformat": 4
 },
 "nbformat": 4,
 "nbformat_minor": 2
}
