{
 "cells": [
  {
   "cell_type": "markdown",
   "metadata": {},
   "source": [
    "# Train a Scikit-Learn model in SageMaker and track with MLFlow"
   ]
  },
  {
   "cell_type": "markdown",
   "metadata": {},
   "source": [
    "## Setup Environment"
   ]
  },
  {
   "cell_type": "code",
   "execution_count": 1,
   "metadata": {
    "ExecuteTime": {
     "end_time": "2021-06-09T08:27:22.086256Z",
     "start_time": "2021-06-09T08:27:22.080589Z"
    }
   },
   "outputs": [],
   "source": [
    "import sys\n",
    "sys.path.append('../../')"
   ]
  },
  {
   "cell_type": "code",
   "execution_count": 2,
   "metadata": {},
   "outputs": [],
   "source": [
    "import sagemaker\n",
    "import pandas as pd\n",
    "from sklearn.datasets import load_boston\n",
    "from sagemaker.sklearn.estimator import SKLearn\n",
    "from sklearn.model_selection import train_test_split\n"
   ]
  },
  {
   "cell_type": "code",
   "execution_count": 3,
   "metadata": {
    "ExecuteTime": {
     "end_time": "2021-06-09T08:27:25.006304Z",
     "start_time": "2021-06-09T08:27:24.916732Z"
    },
    "scrolled": true
   },
   "outputs": [],
   "source": [
    "from deep.constants import *\n",
    "from deep.utils import *"
   ]
  },
  {
   "cell_type": "markdown",
   "metadata": {},
   "source": [
    "It is important to use the constants `DEV_BUCKET`, `SAGEMAKER_ROLE` and `MLFLOW_SERVER`, otherwise it does not work."
   ]
  },
  {
   "cell_type": "code",
   "execution_count": 12,
   "metadata": {
    "ExecuteTime": {
     "end_time": "2021-06-09T08:29:20.899415Z",
     "start_time": "2021-06-09T08:29:19.327852Z"
    },
    "tags": []
   },
   "outputs": [],
   "source": [
    "sess = sagemaker.Session(default_bucket=DEV_BUCKET.name)\n",
    "role = SAGEMAKER_ROLE\n",
    "\n",
    "tracking_uri = MLFLOW_SERVER "
   ]
  },
  {
   "cell_type": "markdown",
   "metadata": {},
   "source": [
    "## Prepare data\n",
    "We load a dataset from sklearn, split it and send it to S3. The dataset and its preprocessing can be whatever."
   ]
  },
  {
   "cell_type": "code",
   "execution_count": 5,
   "metadata": {},
   "outputs": [],
   "source": [
    "# we use the Boston housing dataset \n",
    "data = load_boston()\n",
    "\n",
    "X_train, X_test, y_train, y_test = train_test_split(data.data, data.target, test_size=0.25, random_state=42)\n",
    "\n",
    "trainX = pd.DataFrame(X_train, columns=data.feature_names)\n",
    "trainX['target'] = y_train\n",
    "\n",
    "testX = pd.DataFrame(X_test, columns=data.feature_names)\n",
    "testX['target'] = y_test"
   ]
  },
  {
   "cell_type": "markdown",
   "metadata": {},
   "source": [
    "## Upload data to S3"
   ]
  },
  {
   "cell_type": "markdown",
   "metadata": {},
   "source": [
    "Please keep this format for the job name. You can change `sklearn` to the library you are using, e.g. `pytorch`, and `test` can be whatever you want."
   ]
  },
  {
   "cell_type": "code",
   "execution_count": 6,
   "metadata": {},
   "outputs": [],
   "source": [
    "job_name = f\"sklearn-{formatted_time()}-test\"\n",
    "\n",
    "input_path = DEV_BUCKET / 'training' / 'input_data' / job_name\n",
    "train_path = str(input_path / 'boston_train.csv')\n",
    "test_path = str(input_path / 'boston_test.csv')\n",
    "\n",
    "trainX.to_csv(train_path)\n",
    "testX.to_csv(test_path)"
   ]
  },
  {
   "cell_type": "markdown",
   "metadata": {},
   "source": [
    "## Train"
   ]
  },
  {
   "cell_type": "code",
   "execution_count": 10,
   "metadata": {},
   "outputs": [],
   "source": [
    "hyperparameters = {\n",
    "    'tracking_uri': tracking_uri,\n",
    "    'experiment_name': 'boston-housing',\n",
    "    'n-estimators': 100,\n",
    "    'min-samples-leaf': 3,\n",
    "    'features': 'CRIM ZN INDUS CHAS NOX RM AGE DIS RAD TAX PTRATIO B LSTAT',\n",
    "    'target': 'target'\n",
    "}\n",
    "\n",
    "metric_definitions = [{'Name': 'median-AE', 'Regex': \"AE-at-50th-percentile: ([0-9.]+).*$\"}]\n",
    "\n",
    "estimator = SKLearn(\n",
    "    entry_point='train.py',\n",
    "    source_dir=str(SCRIPTS_TRAINING_PATH / '../examples/mlflow-sklearn'),\n",
    "    output_path=str(DEV_BUCKET / 'models/'),\n",
    "    code_location=str(input_path),\n",
    "    instance_type='ml.m5.large',\n",
    "    instance_count=1,\n",
    "    role=role,\n",
    "    framework_version='0.23-1',\n",
    "    metric_definitions=metric_definitions,\n",
    "    hyperparameters=hyperparameters,\n",
    "    job_name=job_name,\n",
    ")"
   ]
  },
  {
   "cell_type": "code",
   "execution_count": 11,
   "metadata": {},
   "outputs": [
    {
     "name": "stdout",
     "output_type": "stream",
     "text": [
      "2021-06-24 11:32:21 Starting - Starting the training job...\n",
      "2021-06-24 11:32:44 Starting - Launching requested ML instancesProfilerReport-1624534338: InProgress\n",
      "......\n",
      "2021-06-24 11:33:44 Starting - Preparing the instances for training.........\n",
      "2021-06-24 11:35:35 Downloading - Downloading input data\n",
      "2021-06-24 11:35:35 Training - Downloading the training image...\n",
      "2021-06-24 11:36:05 Training - Training image download completed. Training in progress.\u001b[34m2021-06-24 11:35:51,613 sagemaker-containers INFO     Imported framework sagemaker_sklearn_container.training\u001b[0m\n",
      "\u001b[34m2021-06-24 11:35:51,629 sagemaker-training-toolkit INFO     No GPUs detected (normal if no gpus installed)\u001b[0m\n",
      "\u001b[34m2021-06-24 11:35:51,646 sagemaker_sklearn_container.training INFO     Invoking user training script.\u001b[0m\n",
      "\u001b[34m2021-06-24 11:35:58,973 sagemaker-training-toolkit INFO     Installing module with the following command:\u001b[0m\n",
      "\u001b[34m/miniconda3/bin/python -m pip install . -r requirements.txt\u001b[0m\n",
      "\u001b[34mProcessing /opt/ml/code\u001b[0m\n",
      "\u001b[34mCollecting mlflow==1.12.1\n",
      "  Downloading mlflow-1.12.1-py3-none-any.whl (13.9 MB)\u001b[0m\n",
      "\u001b[34mCollecting alembic<=1.4.1\n",
      "  Downloading alembic-1.4.1.tar.gz (1.1 MB)\u001b[0m\n",
      "\u001b[34mRequirement already satisfied: click>=7.0 in /miniconda3/lib/python3.7/site-packages (from mlflow==1.12.1->-r requirements.txt (line 1)) (7.1.2)\u001b[0m\n",
      "\u001b[34mCollecting databricks-cli>=0.8.7\n",
      "  Downloading databricks-cli-0.14.3.tar.gz (54 kB)\u001b[0m\n",
      "\u001b[34mRequirement already satisfied: protobuf>=3.6.0 in /miniconda3/lib/python3.7/site-packages (from mlflow==1.12.1->-r requirements.txt (line 1)) (3.15.6)\u001b[0m\n",
      "\u001b[34mCollecting azure-storage-blob\n",
      "  Downloading azure_storage_blob-12.8.1-py2.py3-none-any.whl (345 kB)\u001b[0m\n",
      "\u001b[34mCollecting prometheus-flask-exporter\n",
      "  Downloading prometheus_flask_exporter-0.18.2.tar.gz (22 kB)\u001b[0m\n",
      "\u001b[34mCollecting gitpython>=2.1.0\n",
      "  Downloading GitPython-3.1.18-py3-none-any.whl (170 kB)\u001b[0m\n",
      "\u001b[34mRequirement already satisfied: requests>=2.17.3 in /miniconda3/lib/python3.7/site-packages (from mlflow==1.12.1->-r requirements.txt (line 1)) (2.25.1)\u001b[0m\n",
      "\u001b[34mRequirement already satisfied: pandas in /miniconda3/lib/python3.7/site-packages (from mlflow==1.12.1->-r requirements.txt (line 1)) (1.1.3)\u001b[0m\n",
      "\u001b[34mCollecting sqlparse>=0.3.1\n",
      "  Downloading sqlparse-0.4.1-py3-none-any.whl (42 kB)\u001b[0m\n",
      "\u001b[34mRequirement already satisfied: six>=1.10.0 in /miniconda3/lib/python3.7/site-packages (from mlflow==1.12.1->-r requirements.txt (line 1)) (1.15.0)\u001b[0m\n",
      "\u001b[34mRequirement already satisfied: numpy in /miniconda3/lib/python3.7/site-packages (from mlflow==1.12.1->-r requirements.txt (line 1)) (1.19.2)\u001b[0m\n",
      "\u001b[34mCollecting sqlalchemy\n",
      "  Downloading SQLAlchemy-1.4.19-cp37-cp37m-manylinux_2_5_x86_64.manylinux1_x86_64.manylinux_2_17_x86_64.manylinux2014_x86_64.whl (1.5 MB)\u001b[0m\n",
      "\u001b[34mCollecting pyyaml\n",
      "  Downloading PyYAML-5.4.1-cp37-cp37m-manylinux1_x86_64.whl (636 kB)\u001b[0m\n",
      "\u001b[34mCollecting querystring-parser\n",
      "  Downloading querystring_parser-1.2.4-py2.py3-none-any.whl (7.9 kB)\u001b[0m\n",
      "\u001b[34mRequirement already satisfied: Flask in /miniconda3/lib/python3.7/site-packages (from mlflow==1.12.1->-r requirements.txt (line 1)) (1.1.1)\u001b[0m\n",
      "\u001b[34mCollecting docker>=4.0.0\n",
      "  Downloading docker-5.0.0-py2.py3-none-any.whl (146 kB)\u001b[0m\n",
      "\u001b[34mCollecting cloudpickle\n",
      "  Downloading cloudpickle-1.6.0-py3-none-any.whl (23 kB)\u001b[0m\n",
      "\u001b[34mCollecting entrypoints\n",
      "  Downloading entrypoints-0.3-py2.py3-none-any.whl (11 kB)\u001b[0m\n",
      "\u001b[34mRequirement already satisfied: python-dateutil in /miniconda3/lib/python3.7/site-packages (from mlflow==1.12.1->-r requirements.txt (line 1)) (2.8.1)\u001b[0m\n",
      "\u001b[34mRequirement already satisfied: gunicorn in /miniconda3/lib/python3.7/site-packages (from mlflow==1.12.1->-r requirements.txt (line 1)) (20.0.4)\u001b[0m\n",
      "\u001b[34mCollecting Mako\n",
      "  Downloading Mako-1.1.4-py2.py3-none-any.whl (75 kB)\u001b[0m\n",
      "\u001b[34mCollecting python-editor>=0.3\n",
      "  Downloading python_editor-1.0.4-py3-none-any.whl (4.9 kB)\u001b[0m\n",
      "\u001b[34mCollecting tabulate>=0.7.7\n",
      "  Downloading tabulate-0.8.9-py3-none-any.whl (25 kB)\u001b[0m\n",
      "\u001b[34mCollecting websocket-client>=0.32.0\n",
      "  Downloading websocket_client-1.1.0-py2.py3-none-any.whl (68 kB)\u001b[0m\n",
      "\u001b[34mCollecting gitdb<5,>=4.0.1\n",
      "  Downloading gitdb-4.0.7-py3-none-any.whl (63 kB)\u001b[0m\n",
      "\u001b[34mCollecting typing-extensions>=3.7.4.0\n",
      "  Downloading typing_extensions-3.10.0.0-py3-none-any.whl (26 kB)\u001b[0m\n",
      "\u001b[34mCollecting smmap<5,>=3.0.1\n",
      "  Downloading smmap-4.0.0-py2.py3-none-any.whl (24 kB)\u001b[0m\n",
      "\u001b[34mRequirement already satisfied: urllib3<1.27,>=1.21.1 in /miniconda3/lib/python3.7/site-packages (from requests>=2.17.3->mlflow==1.12.1->-r requirements.txt (line 1)) (1.25.11)\u001b[0m\n",
      "\u001b[34mRequirement already satisfied: idna<3,>=2.5 in /miniconda3/lib/python3.7/site-packages (from requests>=2.17.3->mlflow==1.12.1->-r requirements.txt (line 1)) (2.10)\u001b[0m\n",
      "\u001b[34mRequirement already satisfied: chardet<5,>=3.0.2 in /miniconda3/lib/python3.7/site-packages (from requests>=2.17.3->mlflow==1.12.1->-r requirements.txt (line 1)) (4.0.0)\u001b[0m\n",
      "\u001b[34mRequirement already satisfied: certifi>=2017.4.17 in /miniconda3/lib/python3.7/site-packages (from requests>=2.17.3->mlflow==1.12.1->-r requirements.txt (line 1)) (2020.12.5)\u001b[0m\n",
      "\u001b[34mCollecting importlib-metadata\n",
      "  Downloading importlib_metadata-4.5.0-py3-none-any.whl (17 kB)\u001b[0m\n",
      "\u001b[34mRequirement already satisfied: greenlet!=0.4.17 in /miniconda3/lib/python3.7/site-packages (from sqlalchemy->mlflow==1.12.1->-r requirements.txt (line 1)) (1.0.0)\u001b[0m\n",
      "\u001b[34mCollecting msrest>=0.6.18\n",
      "  Downloading msrest-0.6.21-py2.py3-none-any.whl (85 kB)\u001b[0m\n",
      "\u001b[34mRequirement already satisfied: cryptography>=2.1.4 in /miniconda3/lib/python3.7/site-packages (from azure-storage-blob->mlflow==1.12.1->-r requirements.txt (line 1)) (3.4.6)\u001b[0m\n",
      "\u001b[34mCollecting azure-core<2.0.0,>=1.10.0\n",
      "  Downloading azure_core-1.15.0-py2.py3-none-any.whl (138 kB)\u001b[0m\n",
      "\u001b[34mRequirement already satisfied: cffi>=1.12 in /miniconda3/lib/python3.7/site-packages (from cryptography>=2.1.4->azure-storage-blob->mlflow==1.12.1->-r requirements.txt (line 1)) (1.14.5)\u001b[0m\n",
      "\u001b[34mRequirement already satisfied: pycparser in /miniconda3/lib/python3.7/site-packages (from cffi>=1.12->cryptography>=2.1.4->azure-storage-blob->mlflow==1.12.1->-r requirements.txt (line 1)) (2.20)\u001b[0m\n",
      "\u001b[34mCollecting requests-oauthlib>=0.5.0\n",
      "  Downloading requests_oauthlib-1.3.0-py2.py3-none-any.whl (23 kB)\u001b[0m\n",
      "\u001b[34mCollecting isodate>=0.6.0\n",
      "  Downloading isodate-0.6.0-py2.py3-none-any.whl (45 kB)\u001b[0m\n",
      "\u001b[34mCollecting oauthlib>=3.0.0\n",
      "  Downloading oauthlib-3.1.1-py2.py3-none-any.whl (146 kB)\u001b[0m\n",
      "\u001b[34mRequirement already satisfied: Jinja2>=2.10.1 in /miniconda3/lib/python3.7/site-packages (from Flask->mlflow==1.12.1->-r requirements.txt (line 1)) (2.11.3)\u001b[0m\n",
      "\u001b[34mRequirement already satisfied: Werkzeug>=0.15 in /miniconda3/lib/python3.7/site-packages (from Flask->mlflow==1.12.1->-r requirements.txt (line 1)) (1.0.1)\u001b[0m\n",
      "\u001b[34mRequirement already satisfied: itsdangerous>=0.24 in /miniconda3/lib/python3.7/site-packages (from Flask->mlflow==1.12.1->-r requirements.txt (line 1)) (1.1.0)\u001b[0m\n",
      "\u001b[34mRequirement already satisfied: MarkupSafe>=0.23 in /miniconda3/lib/python3.7/site-packages (from Jinja2>=2.10.1->Flask->mlflow==1.12.1->-r requirements.txt (line 1)) (1.1.1)\u001b[0m\n",
      "\u001b[34mRequirement already satisfied: setuptools>=3.0 in /miniconda3/lib/python3.7/site-packages (from gunicorn->mlflow==1.12.1->-r requirements.txt (line 1)) (52.0.0.post20210125)\u001b[0m\n",
      "\u001b[34mCollecting zipp>=0.5\n",
      "  Downloading zipp-3.4.1-py3-none-any.whl (5.2 kB)\u001b[0m\n",
      "\u001b[34mRequirement already satisfied: pytz>=2017.2 in /miniconda3/lib/python3.7/site-packages (from pandas->mlflow==1.12.1->-r requirements.txt (line 1)) (2021.1)\u001b[0m\n",
      "\u001b[34mCollecting prometheus_client\n",
      "  Downloading prometheus_client-0.11.0-py2.py3-none-any.whl (56 kB)\u001b[0m\n",
      "\u001b[34mBuilding wheels for collected packages: sagemaker-example, alembic, databricks-cli, prometheus-flask-exporter\n",
      "  Building wheel for sagemaker-example (setup.py): started\n",
      "  Building wheel for sagemaker-example (setup.py): finished with status 'done'\n",
      "  Created wheel for sagemaker-example: filename=sagemaker_example-1.0-py3-none-any.whl size=1101 sha256=26462c3711644929fcac8829ef57e35b8adccf0d325b02e0d8ae55beb0ba5333\n",
      "  Stored in directory: /home/model-server/tmp/pip-ephem-wheel-cache-2wmshmqc/wheels/3e/0f/51/2f1df833dd0412c1bc2f5ee56baac195b5be563353d111dca6\n",
      "  Building wheel for alembic (setup.py): started\u001b[0m\n",
      "\u001b[34m  Building wheel for alembic (setup.py): finished with status 'done'\n",
      "  Created wheel for alembic: filename=alembic-1.4.1-py2.py3-none-any.whl size=158155 sha256=d384f8dd2dc21cf6b222876f0917ab0a6f3a3f7b493c93b278278bc945b22d30\n",
      "  Stored in directory: /root/.cache/pip/wheels/be/5d/0a/9e13f53f4f5dfb67cd8d245bb7cdffe12f135846f491a283e3\n",
      "  Building wheel for databricks-cli (setup.py): started\n",
      "  Building wheel for databricks-cli (setup.py): finished with status 'done'\n",
      "  Created wheel for databricks-cli: filename=databricks_cli-0.14.3-py3-none-any.whl size=100555 sha256=7c7752016a949dd1949be6637d9eb105aacb7806298eac4cff6cc8f32a92e522\n",
      "  Stored in directory: /root/.cache/pip/wheels/3b/60/14/6930445b08959fbdf4e3029bac7e1f2cccb2e94df8afa00b29\n",
      "  Building wheel for prometheus-flask-exporter (setup.py): started\u001b[0m\n",
      "\u001b[34m  Building wheel for prometheus-flask-exporter (setup.py): finished with status 'done'\n",
      "  Created wheel for prometheus-flask-exporter: filename=prometheus_flask_exporter-0.18.2-py3-none-any.whl size=17399 sha256=1581ee3234b900cb5a8dabdbd0ac0f6cfb087dd9f844175d37fe4e27ea1ece12\n",
      "  Stored in directory: /root/.cache/pip/wheels/6a/1e/1c/c765920cb92b2f0343d2dd8b481a407cee2823f9b4bbd2e52a\u001b[0m\n",
      "\u001b[34mSuccessfully built sagemaker-example alembic databricks-cli prometheus-flask-exporter\u001b[0m\n",
      "\u001b[34mInstalling collected packages: zipp, typing-extensions, oauthlib, smmap, requests-oauthlib, isodate, importlib-metadata, websocket-client, tabulate, sqlalchemy, python-editor, prometheus-client, msrest, Mako, gitdb, azure-core, sqlparse, querystring-parser, pyyaml, prometheus-flask-exporter, gitpython, entrypoints, docker, databricks-cli, cloudpickle, azure-storage-blob, alembic, sagemaker-example, mlflow\u001b[0m\n",
      "\u001b[34mSuccessfully installed Mako-1.1.4 alembic-1.4.1 azure-core-1.15.0 azure-storage-blob-12.8.1 cloudpickle-1.6.0 databricks-cli-0.14.3 docker-5.0.0 entrypoints-0.3 gitdb-4.0.7 gitpython-3.1.18 importlib-metadata-4.5.0 isodate-0.6.0 mlflow-1.12.1 msrest-0.6.21 oauthlib-3.1.1 prometheus-client-0.11.0 prometheus-flask-exporter-0.18.2 python-editor-1.0.4 pyyaml-5.4.1 querystring-parser-1.2.4 requests-oauthlib-1.3.0 sagemaker-example-1.0 smmap-4.0.0 sqlalchemy-1.4.19 sqlparse-0.4.1 tabulate-0.8.9 typing-extensions-3.10.0.0 websocket-client-1.1.0 zipp-3.4.1\u001b[0m\n",
      "\u001b[34m2021-06-24 11:36:09,017 sagemaker-training-toolkit INFO     No GPUs detected (normal if no gpus installed)\u001b[0m\n",
      "\u001b[34m2021-06-24 11:36:09,029 sagemaker-training-toolkit INFO     No GPUs detected (normal if no gpus installed)\u001b[0m\n",
      "\u001b[34m2021-06-24 11:36:09,041 sagemaker-training-toolkit INFO     No GPUs detected (normal if no gpus installed)\u001b[0m\n",
      "\u001b[34m2021-06-24 11:36:09,051 sagemaker-training-toolkit INFO     Invoking user script\n",
      "\u001b[0m\n",
      "\u001b[34mTraining Env:\n",
      "\u001b[0m\n",
      "\u001b[34m{\n",
      "    \"additional_framework_parameters\": {},\n",
      "    \"channel_input_dirs\": {\n",
      "        \"test\": \"/opt/ml/input/data/test\",\n",
      "        \"train\": \"/opt/ml/input/data/train\"\n",
      "    },\n",
      "    \"current_host\": \"algo-1\",\n",
      "    \"framework_module\": \"sagemaker_sklearn_container.training:main\",\n",
      "    \"hosts\": [\n",
      "        \"algo-1\"\n",
      "    ],\n",
      "    \"hyperparameters\": {\n",
      "        \"features\": \"CRIM ZN INDUS CHAS NOX RM AGE DIS RAD TAX PTRATIO B LSTAT\",\n",
      "        \"experiment_name\": \"boston-housing\",\n",
      "        \"n-estimators\": 100,\n",
      "        \"min-samples-leaf\": 3,\n",
      "        \"tracking_uri\": \"http://mlflow-terratest-387470f3-828569864.us-east-1.elb.amazonaws.com\",\n",
      "        \"target\": \"target\"\n",
      "    },\n",
      "    \"input_config_dir\": \"/opt/ml/input/config\",\n",
      "    \"input_data_config\": {\n",
      "        \"test\": {\n",
      "            \"TrainingInputMode\": \"File\",\n",
      "            \"S3DistributionType\": \"FullyReplicated\",\n",
      "            \"RecordWrapperType\": \"None\"\n",
      "        },\n",
      "        \"train\": {\n",
      "            \"TrainingInputMode\": \"File\",\n",
      "            \"S3DistributionType\": \"FullyReplicated\",\n",
      "            \"RecordWrapperType\": \"None\"\n",
      "        }\n",
      "    },\n",
      "    \"input_dir\": \"/opt/ml/input\",\n",
      "    \"is_master\": true,\n",
      "    \"job_name\": \"sagemaker-scikit-learn-2021-06-24-11-32-18-585\",\n",
      "    \"log_level\": 20,\n",
      "    \"master_hostname\": \"algo-1\",\n",
      "    \"model_dir\": \"/opt/ml/model\",\n",
      "    \"module_dir\": \"s3://sagemaker-deep-experiments-dev/training/input_data/sklearn-2021-06-24-13-31-42-437-test/sagemaker-scikit-learn-2021-06-24-11-32-18-585/source/sourcedir.tar.gz\",\n",
      "    \"module_name\": \"train\",\n",
      "    \"network_interface_name\": \"eth0\",\n",
      "    \"num_cpus\": 2,\n",
      "    \"num_gpus\": 0,\n",
      "    \"output_data_dir\": \"/opt/ml/output/data\",\n",
      "    \"output_dir\": \"/opt/ml/output\",\n",
      "    \"output_intermediate_dir\": \"/opt/ml/output/intermediate\",\n",
      "    \"resource_config\": {\n",
      "        \"current_host\": \"algo-1\",\n",
      "        \"hosts\": [\n",
      "            \"algo-1\"\n",
      "        ],\n",
      "        \"network_interface_name\": \"eth0\"\n",
      "    },\n",
      "    \"user_entry_point\": \"train.py\"\u001b[0m\n",
      "\u001b[34m}\n",
      "\u001b[0m\n",
      "\u001b[34mEnvironment variables:\n",
      "\u001b[0m\n",
      "\u001b[34mSM_HOSTS=[\"algo-1\"]\u001b[0m\n",
      "\u001b[34mSM_NETWORK_INTERFACE_NAME=eth0\u001b[0m\n",
      "\u001b[34mSM_HPS={\"experiment_name\":\"boston-housing\",\"features\":\"CRIM ZN INDUS CHAS NOX RM AGE DIS RAD TAX PTRATIO B LSTAT\",\"min-samples-leaf\":3,\"n-estimators\":100,\"target\":\"target\",\"tracking_uri\":\"http://mlflow-terratest-387470f3-828569864.us-east-1.elb.amazonaws.com\"}\u001b[0m\n",
      "\u001b[34mSM_USER_ENTRY_POINT=train.py\u001b[0m\n",
      "\u001b[34mSM_FRAMEWORK_PARAMS={}\u001b[0m\n",
      "\u001b[34mSM_RESOURCE_CONFIG={\"current_host\":\"algo-1\",\"hosts\":[\"algo-1\"],\"network_interface_name\":\"eth0\"}\u001b[0m\n",
      "\u001b[34mSM_INPUT_DATA_CONFIG={\"test\":{\"RecordWrapperType\":\"None\",\"S3DistributionType\":\"FullyReplicated\",\"TrainingInputMode\":\"File\"},\"train\":{\"RecordWrapperType\":\"None\",\"S3DistributionType\":\"FullyReplicated\",\"TrainingInputMode\":\"File\"}}\u001b[0m\n",
      "\u001b[34mSM_OUTPUT_DATA_DIR=/opt/ml/output/data\u001b[0m\n",
      "\u001b[34mSM_CHANNELS=[\"test\",\"train\"]\u001b[0m\n",
      "\u001b[34mSM_CURRENT_HOST=algo-1\u001b[0m\n",
      "\u001b[34mSM_MODULE_NAME=train\u001b[0m\n",
      "\u001b[34mSM_LOG_LEVEL=20\u001b[0m\n",
      "\u001b[34mSM_FRAMEWORK_MODULE=sagemaker_sklearn_container.training:main\u001b[0m\n",
      "\u001b[34mSM_INPUT_DIR=/opt/ml/input\u001b[0m\n",
      "\u001b[34mSM_INPUT_CONFIG_DIR=/opt/ml/input/config\u001b[0m\n",
      "\u001b[34mSM_OUTPUT_DIR=/opt/ml/output\u001b[0m\n",
      "\u001b[34mSM_NUM_CPUS=2\u001b[0m\n",
      "\u001b[34mSM_NUM_GPUS=0\u001b[0m\n",
      "\u001b[34mSM_MODEL_DIR=/opt/ml/model\u001b[0m\n",
      "\u001b[34mSM_MODULE_DIR=s3://sagemaker-deep-experiments-dev/training/input_data/sklearn-2021-06-24-13-31-42-437-test/sagemaker-scikit-learn-2021-06-24-11-32-18-585/source/sourcedir.tar.gz\u001b[0m\n",
      "\u001b[34mSM_TRAINING_ENV={\"additional_framework_parameters\":{},\"channel_input_dirs\":{\"test\":\"/opt/ml/input/data/test\",\"train\":\"/opt/ml/input/data/train\"},\"current_host\":\"algo-1\",\"framework_module\":\"sagemaker_sklearn_container.training:main\",\"hosts\":[\"algo-1\"],\"hyperparameters\":{\"experiment_name\":\"boston-housing\",\"features\":\"CRIM ZN INDUS CHAS NOX RM AGE DIS RAD TAX PTRATIO B LSTAT\",\"min-samples-leaf\":3,\"n-estimators\":100,\"target\":\"target\",\"tracking_uri\":\"http://mlflow-terratest-387470f3-828569864.us-east-1.elb.amazonaws.com\"},\"input_config_dir\":\"/opt/ml/input/config\",\"input_data_config\":{\"test\":{\"RecordWrapperType\":\"None\",\"S3DistributionType\":\"FullyReplicated\",\"TrainingInputMode\":\"File\"},\"train\":{\"RecordWrapperType\":\"None\",\"S3DistributionType\":\"FullyReplicated\",\"TrainingInputMode\":\"File\"}},\"input_dir\":\"/opt/ml/input\",\"is_master\":true,\"job_name\":\"sagemaker-scikit-learn-2021-06-24-11-32-18-585\",\"log_level\":20,\"master_hostname\":\"algo-1\",\"model_dir\":\"/opt/ml/model\",\"module_dir\":\"s3://sagemaker-deep-experiments-dev/training/input_data/sklearn-2021-06-24-13-31-42-437-test/sagemaker-scikit-learn-2021-06-24-11-32-18-585/source/sourcedir.tar.gz\",\"module_name\":\"train\",\"network_interface_name\":\"eth0\",\"num_cpus\":2,\"num_gpus\":0,\"output_data_dir\":\"/opt/ml/output/data\",\"output_dir\":\"/opt/ml/output\",\"output_intermediate_dir\":\"/opt/ml/output/intermediate\",\"resource_config\":{\"current_host\":\"algo-1\",\"hosts\":[\"algo-1\"],\"network_interface_name\":\"eth0\"},\"user_entry_point\":\"train.py\"}\u001b[0m\n",
      "\u001b[34mSM_USER_ARGS=[\"--experiment_name\",\"boston-housing\",\"--features\",\"CRIM ZN INDUS CHAS NOX RM AGE DIS RAD TAX PTRATIO B LSTAT\",\"--min-samples-leaf\",\"3\",\"--n-estimators\",\"100\",\"--target\",\"target\",\"--tracking_uri\",\"http://mlflow-terratest-387470f3-828569864.us-east-1.elb.amazonaws.com\"]\u001b[0m\n",
      "\u001b[34mSM_OUTPUT_INTERMEDIATE_DIR=/opt/ml/output/intermediate\u001b[0m\n",
      "\u001b[34mSM_CHANNEL_TEST=/opt/ml/input/data/test\u001b[0m\n",
      "\u001b[34mSM_CHANNEL_TRAIN=/opt/ml/input/data/train\u001b[0m\n",
      "\u001b[34mSM_HP_FEATURES=CRIM ZN INDUS CHAS NOX RM AGE DIS RAD TAX PTRATIO B LSTAT\u001b[0m\n",
      "\u001b[34mSM_HP_EXPERIMENT_NAME=boston-housing\u001b[0m\n",
      "\u001b[34mSM_HP_N-ESTIMATORS=100\u001b[0m\n",
      "\u001b[34mSM_HP_MIN-SAMPLES-LEAF=3\u001b[0m\n",
      "\u001b[34mSM_HP_TRACKING_URI=http://mlflow-terratest-387470f3-828569864.us-east-1.elb.amazonaws.com\u001b[0m\n",
      "\u001b[34mSM_HP_TARGET=target\u001b[0m\n",
      "\u001b[34mPYTHONPATH=/opt/ml/code:/miniconda3/bin:/miniconda3/lib/python37.zip:/miniconda3/lib/python3.7:/miniconda3/lib/python3.7/lib-dynload:/miniconda3/lib/python3.7/site-packages\n",
      "\u001b[0m\n",
      "\u001b[34mInvoking script with the following command:\n",
      "\u001b[0m\n",
      "\u001b[34m/miniconda3/bin/python -m train --experiment_name boston-housing --features CRIM ZN INDUS CHAS NOX RM AGE DIS RAD TAX PTRATIO B LSTAT --min-samples-leaf 3 --n-estimators 100 --target target --tracking_uri http://mlflow-terratest-387470f3-828569864.us-east-1.elb.amazonaws.com\n",
      "\n",
      "\u001b[0m\n",
      "\u001b[34mINFO:root:http://mlflow-terratest-387470f3-828569864.us-east-1.elb.amazonaws.com\u001b[0m\n",
      "\u001b[34mINFO:root:reading data\u001b[0m\n",
      "\u001b[34mINFO:root:building training and testing datasets\u001b[0m\n",
      "\u001b[34mINFO:root:training model\u001b[0m\n",
      "\u001b[34mINFO:root:evaluating model\u001b[0m\n",
      "\u001b[34mINFO:root:AE-at-10th-percentile: 0.3426795526695536\u001b[0m\n",
      "\u001b[34mINFO:root:AE-at-50th-percentile: 1.5293613997114015\u001b[0m\n",
      "\u001b[34mINFO:root:AE-at-90th-percentile: 4.513029090909098\u001b[0m\n",
      "\u001b[34mINFO:root:saving model in MLflow\u001b[0m\n",
      "\u001b[34mINFO:botocore.utils:IMDS ENDPOINT: http://169.254.169.254/\u001b[0m\n",
      "\u001b[34mRegistered model 'sklearn-first-example' already exists. Creating a new version of this model...\u001b[0m\n",
      "\u001b[34m2021/06/24 11:36:11 INFO mlflow.tracking._model_registry.client: Waiting up to 300 seconds for model version to finish creation.                     Model name: sklearn-first-example, version 3\u001b[0m\n",
      "\u001b[34mCreated version '3' of model 'sklearn-first-example'.\u001b[0m\n",
      "\u001b[34m2021-06-24 11:36:12,043 sagemaker-containers INFO     Reporting training SUCCESS\u001b[0m\n",
      "\n",
      "2021-06-24 11:36:25 Uploading - Uploading generated training model\n",
      "2021-06-24 11:36:25 Completed - Training job completed\n",
      "Training seconds: 70\n",
      "Billable seconds: 70\n"
     ]
    }
   ],
   "source": [
    "estimator.fit({'train':train_path, 'test': test_path})"
   ]
  },
  {
   "cell_type": "code",
   "execution_count": null,
   "metadata": {},
   "outputs": [],
   "source": []
  },
  {
   "cell_type": "code",
   "execution_count": null,
   "metadata": {},
   "outputs": [],
   "source": []
  },
  {
   "cell_type": "code",
   "execution_count": null,
   "metadata": {},
   "outputs": [],
   "source": []
  }
 ],
 "metadata": {
  "kernelspec": {
   "display_name": "Python 3",
   "language": "python",
   "name": "python3"
  },
  "language_info": {
   "codemirror_mode": {
    "name": "ipython",
    "version": 3
   },
   "file_extension": ".py",
   "mimetype": "text/x-python",
   "name": "python",
   "nbconvert_exporter": "python",
   "pygments_lexer": "ipython3",
   "version": "3.9.1"
  }
 },
 "nbformat": 4,
 "nbformat_minor": 4
}
