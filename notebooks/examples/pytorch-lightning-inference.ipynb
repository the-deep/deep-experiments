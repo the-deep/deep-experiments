{
 "cells": [
  {
   "cell_type": "markdown",
   "id": "eb8eb979",
   "metadata": {},
   "source": [
    "# Import"
   ]
  },
  {
   "cell_type": "code",
   "execution_count": null,
   "id": "73551f4c",
   "metadata": {},
   "outputs": [],
   "source": [
    "!pip install mlflow\n",
    "!pip install torch==1.8.1\n",
    "!pip install pytorch-lightning\n",
    "!pip install transformers\n",
    "!pip install cloudpathlib"
   ]
  },
  {
   "cell_type": "code",
   "execution_count": 1,
   "id": "f8386f54",
   "metadata": {
    "execution": {
     "iopub.execute_input": "2021-07-12T10:07:36.273295Z",
     "iopub.status.busy": "2021-07-12T10:07:36.271713Z",
     "iopub.status.idle": "2021-07-12T10:07:36.286959Z",
     "shell.execute_reply": "2021-07-12T10:07:36.285548Z",
     "shell.execute_reply.started": "2021-07-12T10:07:36.272960Z"
    },
    "tags": []
   },
   "outputs": [],
   "source": [
    "import sys\n",
    "sys.path.append('../../')\n",
    "\n",
    "import os\n",
    "import sys\n",
    "import logging\n",
    "import argparse\n",
    "from pathlib import Path\n",
    "from ast import literal_eval\n",
    "from collections import Counter\n",
    "from typing import Any, Dict, Optional"
   ]
  },
  {
   "cell_type": "code",
   "execution_count": 2,
   "id": "fa3bb4b1",
   "metadata": {
    "ExecuteTime": {
     "end_time": "2021-06-01T14:49:30.843642Z",
     "start_time": "2021-06-01T14:49:30.663973Z"
    },
    "execution": {
     "iopub.execute_input": "2021-07-12T10:07:36.600048Z",
     "iopub.status.busy": "2021-07-12T10:07:36.599397Z",
     "iopub.status.idle": "2021-07-12T10:07:39.383778Z",
     "shell.execute_reply": "2021-07-12T10:07:39.383424Z",
     "shell.execute_reply.started": "2021-07-12T10:07:36.599996Z"
    },
    "tags": []
   },
   "outputs": [],
   "source": [
    "from tqdm.auto import tqdm\n",
    "\n",
    "import torchmetrics\n",
    "from torchmetrics.functional import accuracy, f1, auroc\n",
    "\n",
    "import mlflow\n",
    "import mlflow.sagemaker\n",
    "import sagemaker\n",
    "from sagemaker import get_execution_role\n",
    "import pytorch_lightning as pl\n",
    "from pytorch_lightning.loggers import TensorBoardLogger\n",
    "from pytorch_lightning.core.decorators import auto_move_data\n",
    "from pytorch_lightning.callbacks import ModelCheckpoint, EarlyStopping\n",
    "from pytorch_lightning.loggers import MLFlowLogger\n",
    "\n",
    "\n",
    "import torch\n",
    "from torch import nn\n",
    "import torch.nn.functional as F\n",
    "from torch.utils.data import Dataset, DataLoader, RandomSampler, SequentialSampler\n",
    "\n",
    "import numpy as np\n",
    "import pandas as pd\n",
    "import seaborn as sns\n",
    "from sklearn.model_selection import train_test_split\n",
    "from sklearn.metrics import classification_report, multilabel_confusion_matrix\n",
    "\n",
    "\n",
    "import matplotlib.pyplot as plt\n",
    "from pylab import rcParams\n",
    "from matplotlib import rc\n",
    "\n",
    "import transformers\n",
    "from transformers import (\n",
    "    AdamW,\n",
    "    AutoConfig,\n",
    "    AutoModel,\n",
    "    AutoModelForSequenceClassification,\n",
    "    T5ForConditionalGeneration,\n",
    "    T5Tokenizer,\n",
    "    AutoTokenizer,\n",
    ")\n",
    "from transformers.optimization import (\n",
    "    Adafactor,\n",
    "    get_linear_schedule_with_warmup,\n",
    ")"
   ]
  },
  {
   "cell_type": "code",
   "execution_count": 3,
   "id": "d22e37b7",
   "metadata": {
    "execution": {
     "iopub.execute_input": "2021-07-12T10:07:39.384806Z",
     "iopub.status.busy": "2021-07-12T10:07:39.384691Z",
     "iopub.status.idle": "2021-07-12T10:07:39.500501Z",
     "shell.execute_reply": "2021-07-12T10:07:39.500106Z",
     "shell.execute_reply.started": "2021-07-12T10:07:39.384793Z"
    },
    "tags": []
   },
   "outputs": [],
   "source": [
    "from deep.constants import *\n",
    "from deep.utils import *"
   ]
  },
  {
   "cell_type": "code",
   "execution_count": 4,
   "id": "0007d936",
   "metadata": {
    "execution": {
     "iopub.execute_input": "2021-07-12T10:07:39.501748Z",
     "iopub.status.busy": "2021-07-12T10:07:39.501630Z",
     "iopub.status.idle": "2021-07-12T10:07:39.533324Z",
     "shell.execute_reply": "2021-07-12T10:07:39.532994Z",
     "shell.execute_reply.started": "2021-07-12T10:07:39.501735Z"
    },
    "tags": []
   },
   "outputs": [],
   "source": [
    "%load_ext autoreload\n",
    "%autoreload 2"
   ]
  },
  {
   "cell_type": "markdown",
   "id": "1fe29333",
   "metadata": {},
   "source": [
    "## Data"
   ]
  },
  {
   "cell_type": "code",
   "execution_count": 15,
   "id": "48362853-8236-4825-8a0e-4fa118a144f8",
   "metadata": {
    "execution": {
     "iopub.execute_input": "2021-07-12T18:14:10.919884Z",
     "iopub.status.busy": "2021-07-12T18:14:10.910634Z",
     "iopub.status.idle": "2021-07-12T18:14:11.094663Z",
     "shell.execute_reply": "2021-07-12T18:14:11.094265Z",
     "shell.execute_reply.started": "2021-07-12T18:14:10.919469Z"
    },
    "tags": []
   },
   "outputs": [],
   "source": [
    "logged_model = 's3://deep-mlflow-artifact/2/f3b4e0f9a0364f8dbfe1563b248348a1/artifacts/model'"
   ]
  },
  {
   "cell_type": "markdown",
   "id": "08448413",
   "metadata": {},
   "source": [
    "## Sagemaker Prep"
   ]
  },
  {
   "cell_type": "code",
   "execution_count": 16,
   "id": "dba32e3b",
   "metadata": {
    "ExecuteTime": {
     "end_time": "2021-06-09T08:29:20.899415Z",
     "start_time": "2021-06-09T08:29:19.327852Z"
    },
    "execution": {
     "iopub.execute_input": "2021-07-12T18:14:11.820217Z",
     "iopub.status.busy": "2021-07-12T18:14:11.819817Z",
     "iopub.status.idle": "2021-07-12T18:14:11.981097Z",
     "shell.execute_reply": "2021-07-12T18:14:11.980727Z",
     "shell.execute_reply.started": "2021-07-12T18:14:11.820182Z"
    },
    "tags": []
   },
   "outputs": [],
   "source": [
    "sess = sagemaker.Session(default_bucket=DEV_BUCKET.name)\n",
    "role = SAGEMAKER_ROLE\n",
    "role_arn = SAGEMAKER_ROLE_ARN\n",
    "prefix = \"pl/example\""
   ]
  },
  {
   "cell_type": "code",
   "execution_count": 17,
   "id": "3099f28f-a4e3-4e7e-b9af-2d3ec2c6aedb",
   "metadata": {
    "execution": {
     "iopub.execute_input": "2021-07-12T18:14:12.218961Z",
     "iopub.status.busy": "2021-07-12T18:14:12.218583Z",
     "iopub.status.idle": "2021-07-12T18:28:17.247101Z",
     "shell.execute_reply": "2021-07-12T18:28:17.245494Z",
     "shell.execute_reply.started": "2021-07-12T18:14:12.218927Z"
    },
    "tags": []
   },
   "outputs": [
    {
     "name": "stderr",
     "output_type": "stream",
     "text": [
      "2021/07/12 20:16:33 INFO mlflow.sagemaker: Using the python_function flavor for deployment!\n",
      "2021/07/12 20:16:34 INFO mlflow.sagemaker: No model data bucket specified, using the default bucket\n",
      "2021/07/12 20:16:35 INFO mlflow.sagemaker: Default bucket `mlflow-sagemaker-us-east-1-961104659532` already exists. Skipping creation.\n",
      "2021/07/12 20:18:38 INFO mlflow.sagemaker: tag response: {'ResponseMetadata': {'RequestId': 'VST2QV9A6EN08VX1', 'HostId': 'b/sF9HIJUDKfbbqcP30mAFDFIX0ZtOaOo/t4002V8TXxQgy6kNuUf0csuMDkR+fW4LI04c4M1gI=', 'HTTPStatusCode': 200, 'HTTPHeaders': {'x-amz-id-2': 'b/sF9HIJUDKfbbqcP30mAFDFIX0ZtOaOo/t4002V8TXxQgy6kNuUf0csuMDkR+fW4LI04c4M1gI=', 'x-amz-request-id': 'VST2QV9A6EN08VX1', 'date': 'Mon, 12 Jul 2021 18:18:39 GMT', 'server': 'AmazonS3', 'content-length': '0'}, 'RetryAttempts': 0}}\n",
      "2021/07/12 20:18:40 INFO mlflow.sagemaker: Found active endpoint with arn: arn:aws:sagemaker:us-east-1:961104659532:endpoint/pl-example. Updating...\n",
      "2021/07/12 20:18:40 INFO mlflow.sagemaker: Created new model with arn: arn:aws:sagemaker:us-east-1:961104659532:model/pl-example-model-00mjndnytc2x10nswqb9kw\n",
      "2021/07/12 20:18:41 INFO mlflow.sagemaker: Created new endpoint configuration with arn: arn:aws:sagemaker:us-east-1:961104659532:endpoint-config/pl-example-config-q6tgfxhrtuygdcgusfmgaw\n",
      "2021/07/12 20:18:45 INFO mlflow.sagemaker: Updated endpoint with new configuration!\n",
      "2021/07/12 20:18:45 INFO mlflow.sagemaker: Waiting for the deployment operation to complete...\n",
      "2021/07/12 20:18:45 INFO mlflow.sagemaker: The operation is still in progress.\n",
      "2021/07/12 20:19:06 INFO mlflow.sagemaker: The update operation is still in progress. Current endpoint status: \"Updating\"\n",
      "2021/07/12 20:19:27 INFO mlflow.sagemaker: The update operation is still in progress. Current endpoint status: \"Updating\"\n",
      "2021/07/12 20:19:48 INFO mlflow.sagemaker: The update operation is still in progress. Current endpoint status: \"Updating\"\n",
      "2021/07/12 20:20:09 INFO mlflow.sagemaker: The update operation is still in progress. Current endpoint status: \"Updating\"\n",
      "2021/07/12 20:20:30 INFO mlflow.sagemaker: The update operation is still in progress. Current endpoint status: \"Updating\"\n",
      "2021/07/12 20:20:51 INFO mlflow.sagemaker: The update operation is still in progress. Current endpoint status: \"Updating\"\n",
      "2021/07/12 20:21:12 INFO mlflow.sagemaker: The update operation is still in progress. Current endpoint status: \"Updating\"\n",
      "2021/07/12 20:21:33 INFO mlflow.sagemaker: The update operation is still in progress. Current endpoint status: \"Updating\"\n",
      "2021/07/12 20:21:54 INFO mlflow.sagemaker: The update operation is still in progress. Current endpoint status: \"Updating\"\n",
      "2021/07/12 20:22:15 INFO mlflow.sagemaker: The update operation is still in progress. Current endpoint status: \"Updating\"\n",
      "2021/07/12 20:22:36 INFO mlflow.sagemaker: The update operation is still in progress. Current endpoint status: \"Updating\"\n",
      "2021/07/12 20:22:57 INFO mlflow.sagemaker: The update operation is still in progress. Current endpoint status: \"Updating\"\n",
      "2021/07/12 20:23:19 INFO mlflow.sagemaker: The update operation is still in progress. Current endpoint status: \"Updating\"\n",
      "2021/07/12 20:23:40 INFO mlflow.sagemaker: The update operation is still in progress. Current endpoint status: \"Updating\"\n",
      "2021/07/12 20:24:01 INFO mlflow.sagemaker: The update operation is still in progress. Current endpoint status: \"Updating\"\n",
      "2021/07/12 20:24:22 INFO mlflow.sagemaker: The update operation is still in progress. Current endpoint status: \"Updating\"\n",
      "2021/07/12 20:24:44 INFO mlflow.sagemaker: The update operation is still in progress. Current endpoint status: \"Updating\"\n",
      "2021/07/12 20:25:05 INFO mlflow.sagemaker: The update operation is still in progress. Current endpoint status: \"Updating\"\n",
      "2021/07/12 20:25:26 INFO mlflow.sagemaker: The update operation is still in progress. Current endpoint status: \"Updating\"\n",
      "2021/07/12 20:25:47 INFO mlflow.sagemaker: The update operation is still in progress. Current endpoint status: \"Updating\"\n",
      "2021/07/12 20:26:08 INFO mlflow.sagemaker: The update operation is still in progress. Current endpoint status: \"Updating\"\n",
      "2021/07/12 20:26:29 INFO mlflow.sagemaker: The update operation is still in progress. Current endpoint status: \"Updating\"\n",
      "2021/07/12 20:26:51 INFO mlflow.sagemaker: The update operation is still in progress. Current endpoint status: \"Updating\"\n",
      "2021/07/12 20:27:12 INFO mlflow.sagemaker: The update operation is still in progress. Current endpoint status: \"Updating\"\n",
      "2021/07/12 20:27:33 INFO mlflow.sagemaker: The update operation is still in progress. Current endpoint status: \"Updating\"\n",
      "2021/07/12 20:27:54 INFO mlflow.sagemaker: The update operation is still in progress. Current endpoint status: \"Updating\"\n",
      "2021/07/12 20:28:15 INFO mlflow.sagemaker: The deployment operation completed successfully with message: \"The SageMaker endpoint was updated successfully.\"\n",
      "2021/07/12 20:28:15 INFO mlflow.sagemaker: Cleaning up unused resources...\n",
      "2021/07/12 20:28:17 INFO mlflow.sagemaker: Deleted model with arn: arn:aws:sagemaker:us-east-1:961104659532:model/pl-example-model-knys2zd2qcgejziszcszyw\n",
      "2021/07/12 20:28:17 INFO mlflow.sagemaker: Deleted endpoint configuration with arn: arn:aws:sagemaker:us-east-1:961104659532:endpoint-config/pl-example-config-jgow5kq6sfybubapiwstiw\n"
     ]
    }
   ],
   "source": [
    "mlflow.sagemaker.deploy(\n",
    "    'pl-example',\n",
    "    logged_model,\n",
    "    execution_role_arn=SAGEMAKER_ROLE_ARN,\n",
    "    image_url='961104659532.dkr.ecr.us-east-1.amazonaws.com/mlflow-pyfunc:latest',\n",
    "    region_name='us-east-1',\n",
    "    instance_type='ml.p2.xlarge',\n",
    "    mode='replace'\n",
    ")"
   ]
  },
  {
   "cell_type": "code",
   "execution_count": null,
   "id": "33d53ec8-ed7d-4a16-a2ff-039e1fe43976",
   "metadata": {},
   "outputs": [],
   "source": []
  }
 ],
 "metadata": {
  "kernelspec": {
   "display_name": "Python 3",
   "language": "python",
   "name": "python3"
  },
  "language_info": {
   "codemirror_mode": {
    "name": "ipython",
    "version": 3
   },
   "file_extension": ".py",
   "mimetype": "text/x-python",
   "name": "python",
   "nbconvert_exporter": "python",
   "pygments_lexer": "ipython3",
   "version": "3.9.1"
  }
 },
 "nbformat": 4,
 "nbformat_minor": 5
}
