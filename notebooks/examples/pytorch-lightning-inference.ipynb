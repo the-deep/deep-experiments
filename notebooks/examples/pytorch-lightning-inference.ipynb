{
 "cells": [
  {
   "cell_type": "markdown",
   "id": "eb8eb979",
   "metadata": {},
   "source": [
    "# Import"
   ]
  },
  {
   "cell_type": "markdown",
   "id": "4f4fa24e-b429-423b-87c8-b63124d3b36b",
   "metadata": {},
   "source": [
    "These requirements are necessary if you launch this notebook from SageMaker instances"
   ]
  },
  {
   "cell_type": "code",
   "execution_count": null,
   "id": "73551f4c",
   "metadata": {},
   "outputs": [],
   "source": [
    "!pip install mlflow\n",
    "!pip install torch==1.8.1\n",
    "!pip install pytorch-lightning\n",
    "!pip install transformers\n",
    "!pip install cloudpathlib"
   ]
  },
  {
   "cell_type": "code",
   "execution_count": null,
   "id": "f8386f54",
   "metadata": {
    "tags": []
   },
   "outputs": [],
   "source": [
    "import sys\n",
    "sys.path.append('../../')\n",
    "\n",
    "import os\n",
    "import sys\n",
    "import logging\n",
    "import argparse\n",
    "from pathlib import Path\n",
    "from ast import literal_eval\n",
    "from collections import Counter\n",
    "from typing import Any, Dict, Optional"
   ]
  },
  {
   "cell_type": "code",
   "execution_count": null,
   "id": "fa3bb4b1",
   "metadata": {
    "ExecuteTime": {
     "end_time": "2021-06-01T14:49:30.843642Z",
     "start_time": "2021-06-01T14:49:30.663973Z"
    },
    "tags": []
   },
   "outputs": [],
   "source": [
    "from tqdm.auto import tqdm\n",
    "\n",
    "import torchmetrics\n",
    "from torchmetrics.functional import accuracy, f1, auroc\n",
    "\n",
    "import mlflow\n",
    "import mlflow.sagemaker\n",
    "import sagemaker\n",
    "from sagemaker import get_execution_role\n",
    "import pytorch_lightning as pl\n",
    "from pytorch_lightning.loggers import TensorBoardLogger\n",
    "from pytorch_lightning.core.decorators import auto_move_data\n",
    "from pytorch_lightning.callbacks import ModelCheckpoint, EarlyStopping\n",
    "from pytorch_lightning.loggers import MLFlowLogger\n",
    "\n",
    "\n",
    "import torch\n",
    "from torch import nn\n",
    "import torch.nn.functional as F\n",
    "from torch.utils.data import Dataset, DataLoader, RandomSampler, SequentialSampler\n",
    "\n",
    "import numpy as np\n",
    "import pandas as pd\n",
    "import seaborn as sns\n",
    "from sklearn.model_selection import train_test_split\n",
    "from sklearn.metrics import classification_report, multilabel_confusion_matrix\n",
    "\n",
    "\n",
    "import matplotlib.pyplot as plt\n",
    "from pylab import rcParams\n",
    "from matplotlib import rc\n",
    "\n",
    "import transformers\n",
    "from transformers import (\n",
    "    AdamW,\n",
    "    AutoConfig,\n",
    "    AutoModel,\n",
    "    AutoModelForSequenceClassification,\n",
    "    T5ForConditionalGeneration,\n",
    "    T5Tokenizer,\n",
    "    AutoTokenizer,\n",
    ")\n",
    "from transformers.optimization import (\n",
    "    Adafactor,\n",
    "    get_linear_schedule_with_warmup,\n",
    ")"
   ]
  },
  {
   "cell_type": "code",
   "execution_count": null,
   "id": "d22e37b7",
   "metadata": {
    "tags": []
   },
   "outputs": [],
   "source": [
    "from deep.constants import *\n",
    "from deep.utils import *"
   ]
  },
  {
   "cell_type": "code",
   "execution_count": null,
   "id": "0007d936",
   "metadata": {
    "tags": []
   },
   "outputs": [],
   "source": [
    "%load_ext autoreload\n",
    "%autoreload 2"
   ]
  },
  {
   "cell_type": "markdown",
   "id": "1fe29333",
   "metadata": {},
   "source": [
    "## Data"
   ]
  },
  {
   "cell_type": "markdown",
   "id": "ec08ecaa-548c-4e07-bfd7-0d5043d47f1a",
   "metadata": {},
   "source": [
    "Select which MLFlow model to deploy"
   ]
  },
  {
   "cell_type": "code",
   "execution_count": null,
   "id": "48362853-8236-4825-8a0e-4fa118a144f8",
   "metadata": {
    "tags": []
   },
   "outputs": [],
   "source": [
    "logged_model = 's3://deep-mlflow-artifact/2/f3b4e0f9a0364f8dbfe1563b248348a1/artifacts/model'"
   ]
  },
  {
   "cell_type": "markdown",
   "id": "08448413",
   "metadata": {},
   "source": [
    "## Sagemaker Prep"
   ]
  },
  {
   "cell_type": "markdown",
   "id": "c1ee8c9e-8299-4f78-b531-9b923d3ffa13",
   "metadata": {},
   "source": [
    "SageMaker configuration"
   ]
  },
  {
   "cell_type": "code",
   "execution_count": null,
   "id": "dba32e3b",
   "metadata": {
    "ExecuteTime": {
     "end_time": "2021-06-09T08:29:20.899415Z",
     "start_time": "2021-06-09T08:29:19.327852Z"
    },
    "tags": []
   },
   "outputs": [],
   "source": [
    "sess = sagemaker.Session(default_bucket=DEV_BUCKET.name)\n",
    "role = SAGEMAKER_ROLE\n",
    "role_arn = SAGEMAKER_ROLE_ARN\n",
    "prefix = \"pl/example\""
   ]
  },
  {
   "cell_type": "markdown",
   "id": "e11e953b-759e-4742-be36-27829c85dd47",
   "metadata": {},
   "source": [
    "We use the MLFlow SageMaker API. The parameters you may want to change are:\n",
    "\n",
    "- `pl-example`, choose the name you want for your API\n",
    "- `instance-type`, select the instance type you want"
   ]
  },
  {
   "cell_type": "code",
   "execution_count": null,
   "id": "3099f28f-a4e3-4e7e-b9af-2d3ec2c6aedb",
   "metadata": {
    "tags": []
   },
   "outputs": [],
   "source": [
    "mlflow.sagemaker.deploy(\n",
    "    'pl-example',\n",
    "    logged_model,\n",
    "    execution_role_arn=SAGEMAKER_ROLE_ARN,\n",
    "    image_url='961104659532.dkr.ecr.us-east-1.amazonaws.com/mlflow-pyfunc:latest',\n",
    "    region_name='us-east-1',\n",
    "    instance_type='ml.p2.xlarge',\n",
    "    mode='replace'\n",
    ")"
   ]
  },
  {
   "cell_type": "code",
   "execution_count": null,
   "id": "33d53ec8-ed7d-4a16-a2ff-039e1fe43976",
   "metadata": {},
   "outputs": [],
   "source": []
  }
 ],
 "metadata": {
  "kernelspec": {
   "display_name": "Python 3",
   "language": "python",
   "name": "python3"
  },
  "language_info": {
   "codemirror_mode": {
    "name": "ipython",
    "version": 3
   },
   "file_extension": ".py",
   "mimetype": "text/x-python",
   "name": "python",
   "nbconvert_exporter": "python",
   "pygments_lexer": "ipython3",
   "version": "3.9.1"
  }
 },
 "nbformat": 4,
 "nbformat_minor": 5
}
