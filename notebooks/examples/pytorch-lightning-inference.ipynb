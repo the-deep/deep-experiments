{
 "cells": [
  {
   "cell_type": "markdown",
   "id": "eb8eb979",
   "metadata": {},
   "source": [
    "# Import"
   ]
  },
  {
   "cell_type": "code",
   "execution_count": null,
   "id": "73551f4c",
   "metadata": {},
   "outputs": [],
   "source": [
    "!pip install mlflow\n",
    "!pip install torch==1.8.1\n",
    "!pip install pytorch-lightning\n",
    "!pip install transformers\n",
    "!pip install cloudpathlib"
   ]
  },
  {
   "cell_type": "code",
   "execution_count": 1,
   "id": "f8386f54",
   "metadata": {
    "execution": {
     "iopub.execute_input": "2021-07-12T10:07:36.273295Z",
     "iopub.status.busy": "2021-07-12T10:07:36.271713Z",
     "iopub.status.idle": "2021-07-12T10:07:36.286959Z",
     "shell.execute_reply": "2021-07-12T10:07:36.285548Z",
     "shell.execute_reply.started": "2021-07-12T10:07:36.272960Z"
    },
    "tags": []
   },
   "outputs": [],
   "source": [
    "import sys\n",
    "sys.path.append('../../')\n",
    "\n",
    "import os\n",
    "import sys\n",
    "import logging\n",
    "import argparse\n",
    "from pathlib import Path\n",
    "from ast import literal_eval\n",
    "from collections import Counter\n",
    "from typing import Any, Dict, Optional"
   ]
  },
  {
   "cell_type": "code",
   "execution_count": 2,
   "id": "fa3bb4b1",
   "metadata": {
    "ExecuteTime": {
     "end_time": "2021-06-01T14:49:30.843642Z",
     "start_time": "2021-06-01T14:49:30.663973Z"
    },
    "execution": {
     "iopub.execute_input": "2021-07-12T10:07:36.600048Z",
     "iopub.status.busy": "2021-07-12T10:07:36.599397Z",
     "iopub.status.idle": "2021-07-12T10:07:39.383778Z",
     "shell.execute_reply": "2021-07-12T10:07:39.383424Z",
     "shell.execute_reply.started": "2021-07-12T10:07:36.599996Z"
    },
    "tags": []
   },
   "outputs": [],
   "source": [
    "from tqdm.auto import tqdm\n",
    "\n",
    "import torchmetrics\n",
    "from torchmetrics.functional import accuracy, f1, auroc\n",
    "\n",
    "import mlflow\n",
    "import mlflow.sagemaker\n",
    "import sagemaker\n",
    "from sagemaker import get_execution_role\n",
    "import pytorch_lightning as pl\n",
    "from pytorch_lightning.loggers import TensorBoardLogger\n",
    "from pytorch_lightning.core.decorators import auto_move_data\n",
    "from pytorch_lightning.callbacks import ModelCheckpoint, EarlyStopping\n",
    "from pytorch_lightning.loggers import MLFlowLogger\n",
    "\n",
    "\n",
    "import torch\n",
    "from torch import nn\n",
    "import torch.nn.functional as F\n",
    "from torch.utils.data import Dataset, DataLoader, RandomSampler, SequentialSampler\n",
    "\n",
    "import numpy as np\n",
    "import pandas as pd\n",
    "import seaborn as sns\n",
    "from sklearn.model_selection import train_test_split\n",
    "from sklearn.metrics import classification_report, multilabel_confusion_matrix\n",
    "\n",
    "\n",
    "import matplotlib.pyplot as plt\n",
    "from pylab import rcParams\n",
    "from matplotlib import rc\n",
    "\n",
    "import transformers\n",
    "from transformers import (\n",
    "    AdamW,\n",
    "    AutoConfig,\n",
    "    AutoModel,\n",
    "    AutoModelForSequenceClassification,\n",
    "    T5ForConditionalGeneration,\n",
    "    T5Tokenizer,\n",
    "    AutoTokenizer,\n",
    ")\n",
    "from transformers.optimization import (\n",
    "    Adafactor,\n",
    "    get_linear_schedule_with_warmup,\n",
    ")"
   ]
  },
  {
   "cell_type": "code",
   "execution_count": 3,
   "id": "d22e37b7",
   "metadata": {
    "execution": {
     "iopub.execute_input": "2021-07-12T10:07:39.384806Z",
     "iopub.status.busy": "2021-07-12T10:07:39.384691Z",
     "iopub.status.idle": "2021-07-12T10:07:39.500501Z",
     "shell.execute_reply": "2021-07-12T10:07:39.500106Z",
     "shell.execute_reply.started": "2021-07-12T10:07:39.384793Z"
    },
    "tags": []
   },
   "outputs": [],
   "source": [
    "from deep.constants import *\n",
    "from deep.utils import *"
   ]
  },
  {
   "cell_type": "code",
   "execution_count": 4,
   "id": "0007d936",
   "metadata": {
    "execution": {
     "iopub.execute_input": "2021-07-12T10:07:39.501748Z",
     "iopub.status.busy": "2021-07-12T10:07:39.501630Z",
     "iopub.status.idle": "2021-07-12T10:07:39.533324Z",
     "shell.execute_reply": "2021-07-12T10:07:39.532994Z",
     "shell.execute_reply.started": "2021-07-12T10:07:39.501735Z"
    },
    "tags": []
   },
   "outputs": [],
   "source": [
    "%load_ext autoreload\n",
    "%autoreload 2"
   ]
  },
  {
   "cell_type": "markdown",
   "id": "1fe29333",
   "metadata": {},
   "source": [
    "## Data"
   ]
  },
  {
   "cell_type": "code",
   "execution_count": 5,
   "id": "6c73356b",
   "metadata": {
    "execution": {
     "iopub.execute_input": "2021-07-12T10:07:39.534136Z",
     "iopub.status.busy": "2021-07-12T10:07:39.534034Z",
     "iopub.status.idle": "2021-07-12T10:07:39.563216Z",
     "shell.execute_reply": "2021-07-12T10:07:39.562500Z",
     "shell.execute_reply.started": "2021-07-12T10:07:39.534124Z"
    },
    "tags": []
   },
   "outputs": [],
   "source": [
    "logged_model = 's3://deep-mlflow-artifact/2/011aa4a20c5d4783bf6ed2fc100813ff/artifacts/model'"
   ]
  },
  {
   "cell_type": "code",
   "execution_count": 6,
   "id": "48362853-8236-4825-8a0e-4fa118a144f8",
   "metadata": {
    "execution": {
     "iopub.execute_input": "2021-07-12T10:07:39.564153Z",
     "iopub.status.busy": "2021-07-12T10:07:39.564043Z",
     "iopub.status.idle": "2021-07-12T10:07:39.591474Z",
     "shell.execute_reply": "2021-07-12T10:07:39.591034Z",
     "shell.execute_reply.started": "2021-07-12T10:07:39.564140Z"
    },
    "tags": []
   },
   "outputs": [],
   "source": [
    "temp_model = 's3://deep-mlflow-artifact/2/4a9f23dfab7f4d9cbda9803a1754fe19/artifacts/model'"
   ]
  },
  {
   "cell_type": "markdown",
   "id": "08448413",
   "metadata": {},
   "source": [
    "## Sagemaker Prep"
   ]
  },
  {
   "cell_type": "code",
   "execution_count": 7,
   "id": "dba32e3b",
   "metadata": {
    "ExecuteTime": {
     "end_time": "2021-06-09T08:29:20.899415Z",
     "start_time": "2021-06-09T08:29:19.327852Z"
    },
    "execution": {
     "iopub.execute_input": "2021-07-12T10:07:39.733409Z",
     "iopub.status.busy": "2021-07-12T10:07:39.733257Z",
     "iopub.status.idle": "2021-07-12T10:07:39.934326Z",
     "shell.execute_reply": "2021-07-12T10:07:39.933916Z",
     "shell.execute_reply.started": "2021-07-12T10:07:39.733396Z"
    },
    "tags": []
   },
   "outputs": [],
   "source": [
    "sess = sagemaker.Session(default_bucket=DEV_BUCKET.name)\n",
    "role = SAGEMAKER_ROLE\n",
    "role_arn = SAGEMAKER_ROLE_ARN\n",
    "prefix = \"pl/example\""
   ]
  },
  {
   "cell_type": "code",
   "execution_count": 8,
   "id": "3099f28f-a4e3-4e7e-b9af-2d3ec2c6aedb",
   "metadata": {
    "execution": {
     "iopub.execute_input": "2021-07-12T10:07:55.958928Z",
     "iopub.status.busy": "2021-07-12T10:07:55.957767Z",
     "iopub.status.idle": "2021-07-12T10:24:58.817090Z",
     "shell.execute_reply": "2021-07-12T10:24:58.813564Z",
     "shell.execute_reply.started": "2021-07-12T10:07:55.958864Z"
    },
    "tags": []
   },
   "outputs": [
    {
     "name": "stderr",
     "output_type": "stream",
     "text": [
      "2021/07/12 12:12:04 INFO mlflow.sagemaker: Using the python_function flavor for deployment!\n",
      "2021/07/12 12:12:05 INFO mlflow.sagemaker: No model data bucket specified, using the default bucket\n",
      "2021/07/12 12:12:06 INFO mlflow.sagemaker: Default bucket `mlflow-sagemaker-us-east-1-961104659532` already exists. Skipping creation.\n",
      "2021/07/12 12:13:32 INFO mlflow.sagemaker: tag response: {'ResponseMetadata': {'RequestId': 'KMWSYJQB8A8S1JWR', 'HostId': 'YzJislu/yQbVbgpfdkSdSsUeyP4SKt7IJ0ld6fjVxOxLjugSMpQPwypHU0GYmucgHvSDYYaRvfc=', 'HTTPStatusCode': 200, 'HTTPHeaders': {'x-amz-id-2': 'YzJislu/yQbVbgpfdkSdSsUeyP4SKt7IJ0ld6fjVxOxLjugSMpQPwypHU0GYmucgHvSDYYaRvfc=', 'x-amz-request-id': 'KMWSYJQB8A8S1JWR', 'date': 'Mon, 12 Jul 2021 10:13:33 GMT', 'server': 'AmazonS3', 'content-length': '0'}, 'RetryAttempts': 0}}\n",
      "2021/07/12 12:13:32 INFO mlflow.sagemaker: Creating new endpoint with name: pl-example ...\n",
      "2021/07/12 12:13:33 INFO mlflow.sagemaker: Created model with arn: arn:aws:sagemaker:us-east-1:961104659532:model/pl-example-model-knys2zd2qcgejziszcszyw\n",
      "2021/07/12 12:13:33 INFO mlflow.sagemaker: Created endpoint configuration with arn: arn:aws:sagemaker:us-east-1:961104659532:endpoint-config/pl-example-config-jgow5kq6sfybubapiwstiw\n",
      "2021/07/12 12:13:34 INFO mlflow.sagemaker: Created endpoint with arn: arn:aws:sagemaker:us-east-1:961104659532:endpoint/pl-example\n",
      "2021/07/12 12:13:34 INFO mlflow.sagemaker: Waiting for the deployment operation to complete...\n",
      "2021/07/12 12:13:34 INFO mlflow.sagemaker: Waiting for endpoint to reach the \"InService\" state. Current endpoint status: \"Creating\"\n",
      "2021/07/12 12:13:55 INFO mlflow.sagemaker: Waiting for endpoint to reach the \"InService\" state. Current endpoint status: \"Creating\"\n",
      "2021/07/12 12:14:16 INFO mlflow.sagemaker: Waiting for endpoint to reach the \"InService\" state. Current endpoint status: \"Creating\"\n",
      "2021/07/12 12:14:37 INFO mlflow.sagemaker: Waiting for endpoint to reach the \"InService\" state. Current endpoint status: \"Creating\"\n",
      "2021/07/12 12:14:57 INFO mlflow.sagemaker: Waiting for endpoint to reach the \"InService\" state. Current endpoint status: \"Creating\"\n",
      "2021/07/12 12:15:18 INFO mlflow.sagemaker: Waiting for endpoint to reach the \"InService\" state. Current endpoint status: \"Creating\"\n",
      "2021/07/12 12:15:39 INFO mlflow.sagemaker: Waiting for endpoint to reach the \"InService\" state. Current endpoint status: \"Creating\"\n",
      "2021/07/12 12:16:00 INFO mlflow.sagemaker: Waiting for endpoint to reach the \"InService\" state. Current endpoint status: \"Creating\"\n",
      "2021/07/12 12:16:21 INFO mlflow.sagemaker: Waiting for endpoint to reach the \"InService\" state. Current endpoint status: \"Creating\"\n",
      "2021/07/12 12:16:42 INFO mlflow.sagemaker: Waiting for endpoint to reach the \"InService\" state. Current endpoint status: \"Creating\"\n",
      "2021/07/12 12:17:03 INFO mlflow.sagemaker: Waiting for endpoint to reach the \"InService\" state. Current endpoint status: \"Creating\"\n",
      "2021/07/12 12:17:24 INFO mlflow.sagemaker: Waiting for endpoint to reach the \"InService\" state. Current endpoint status: \"Creating\"\n",
      "2021/07/12 12:17:45 INFO mlflow.sagemaker: Waiting for endpoint to reach the \"InService\" state. Current endpoint status: \"Creating\"\n",
      "2021/07/12 12:18:06 INFO mlflow.sagemaker: Waiting for endpoint to reach the \"InService\" state. Current endpoint status: \"Creating\"\n",
      "2021/07/12 12:18:27 INFO mlflow.sagemaker: Waiting for endpoint to reach the \"InService\" state. Current endpoint status: \"Creating\"\n",
      "2021/07/12 12:18:48 INFO mlflow.sagemaker: Waiting for endpoint to reach the \"InService\" state. Current endpoint status: \"Creating\"\n",
      "2021/07/12 12:19:09 INFO mlflow.sagemaker: Waiting for endpoint to reach the \"InService\" state. Current endpoint status: \"Creating\"\n",
      "2021/07/12 12:19:30 INFO mlflow.sagemaker: Waiting for endpoint to reach the \"InService\" state. Current endpoint status: \"Creating\"\n",
      "2021/07/12 12:19:51 INFO mlflow.sagemaker: Waiting for endpoint to reach the \"InService\" state. Current endpoint status: \"Creating\"\n",
      "2021/07/12 12:20:11 INFO mlflow.sagemaker: Waiting for endpoint to reach the \"InService\" state. Current endpoint status: \"Creating\"\n",
      "2021/07/12 12:20:32 INFO mlflow.sagemaker: Waiting for endpoint to reach the \"InService\" state. Current endpoint status: \"Creating\"\n",
      "2021/07/12 12:20:53 INFO mlflow.sagemaker: Waiting for endpoint to reach the \"InService\" state. Current endpoint status: \"Creating\"\n",
      "2021/07/12 12:21:14 INFO mlflow.sagemaker: Waiting for endpoint to reach the \"InService\" state. Current endpoint status: \"Creating\"\n",
      "2021/07/12 12:21:35 INFO mlflow.sagemaker: Waiting for endpoint to reach the \"InService\" state. Current endpoint status: \"Creating\"\n",
      "2021/07/12 12:21:56 INFO mlflow.sagemaker: Waiting for endpoint to reach the \"InService\" state. Current endpoint status: \"Creating\"\n",
      "2021/07/12 12:22:17 INFO mlflow.sagemaker: Waiting for endpoint to reach the \"InService\" state. Current endpoint status: \"Creating\"\n",
      "2021/07/12 12:22:38 INFO mlflow.sagemaker: Waiting for endpoint to reach the \"InService\" state. Current endpoint status: \"Creating\"\n",
      "2021/07/12 12:22:59 INFO mlflow.sagemaker: Waiting for endpoint to reach the \"InService\" state. Current endpoint status: \"Creating\"\n",
      "2021/07/12 12:23:19 INFO mlflow.sagemaker: Waiting for endpoint to reach the \"InService\" state. Current endpoint status: \"Creating\"\n",
      "2021/07/12 12:23:40 INFO mlflow.sagemaker: Waiting for endpoint to reach the \"InService\" state. Current endpoint status: \"Creating\"\n",
      "2021/07/12 12:24:01 INFO mlflow.sagemaker: Waiting for endpoint to reach the \"InService\" state. Current endpoint status: \"Creating\"\n",
      "2021/07/12 12:24:22 INFO mlflow.sagemaker: Waiting for endpoint to reach the \"InService\" state. Current endpoint status: \"Creating\"\n",
      "2021/07/12 12:24:43 INFO mlflow.sagemaker: Waiting for endpoint to reach the \"InService\" state. Current endpoint status: \"Creating\"\n",
      "2021/07/12 12:24:58 INFO mlflow.sagemaker: The deployment operation completed successfully with message: \"The SageMaker endpoint was created successfully.\"\n"
     ]
    }
   ],
   "source": [
    "mlflow.sagemaker.deploy(\n",
    "    'pl-example',\n",
    "    temp_model,\n",
    "    execution_role_arn=SAGEMAKER_ROLE_ARN,\n",
    "    image_url='961104659532.dkr.ecr.us-east-1.amazonaws.com/mlflow-pyfunc:latest',\n",
    "    region_name='us-east-1',\n",
    "    instance_type='ml.p2.xlarge',\n",
    "    mode='replace'\n",
    ")"
   ]
  }
 ],
 "metadata": {
  "kernelspec": {
   "display_name": "Python 3",
   "language": "python",
   "name": "python3"
  },
  "language_info": {
   "codemirror_mode": {
    "name": "ipython",
    "version": 3
   },
   "file_extension": ".py",
   "mimetype": "text/x-python",
   "name": "python",
   "nbconvert_exporter": "python",
   "pygments_lexer": "ipython3",
   "version": "3.9.1"
  }
 },
 "nbformat": 4,
 "nbformat_minor": 5
}
