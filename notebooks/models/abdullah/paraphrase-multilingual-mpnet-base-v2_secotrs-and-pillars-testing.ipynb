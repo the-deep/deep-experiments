{
 "cells": [
  {
   "cell_type": "markdown",
   "metadata": {
    "scrolled": true
   },
   "source": [
    "kernel `conda_pytorch_latest_p36`"
   ]
  },
  {
   "cell_type": "code",
   "execution_count": 1,
   "metadata": {
    "scrolled": true
   },
   "outputs": [],
   "source": [
    "# !pip install icecream\n",
    "# !pip install tqdm\n",
    "# !pip install torchmetrics\n",
    "# !pip install pytorch_lightning\n",
    "# !pip install transformers"
   ]
  },
  {
   "cell_type": "code",
   "execution_count": 2,
   "metadata": {
    "ExecuteTime": {
     "end_time": "2021-06-01T14:49:30.843642Z",
     "start_time": "2021-06-01T14:49:30.663973Z"
    }
   },
   "outputs": [],
   "source": [
    "import os\n",
    "import sys\n",
    "import logging\n",
    "import argparse\n",
    "from pathlib import Path\n",
    "from ast import literal_eval\n",
    "from collections import Counter\n",
    "from typing import Any, Dict, Optional\n",
    "\n",
    "from icecream import ic\n",
    "from tqdm.auto import tqdm\n",
    "\n",
    "import torchmetrics\n",
    "from torchmetrics.functional import accuracy, f1, auroc\n",
    "\n",
    "import pytorch_lightning as pl\n",
    "from pytorch_lightning.loggers import TensorBoardLogger\n",
    "from pytorch_lightning.core.decorators import auto_move_data\n",
    "from pytorch_lightning.callbacks import ModelCheckpoint, EarlyStopping\n",
    "\n",
    "import torch\n",
    "from torch import nn\n",
    "import torch.nn.functional as F\n",
    "from torch.utils.data import Dataset, DataLoader, RandomSampler, SequentialSampler\n",
    "\n",
    "import numpy as np\n",
    "import pandas as pd\n",
    "import seaborn as sns\n",
    "from sklearn.model_selection import train_test_split\n",
    "from sklearn.metrics import classification_report, multilabel_confusion_matrix\n",
    "\n",
    "\n",
    "import matplotlib.pyplot as plt\n",
    "from pylab import rcParams\n",
    "from matplotlib import rc\n",
    "\n",
    "import transformers\n",
    "from transformers import (\n",
    "    AdamW,\n",
    "    AutoConfig,\n",
    "    AutoModel,\n",
    "    AutoModelForSequenceClassification,\n",
    "    T5ForConditionalGeneration,\n",
    "    T5Tokenizer,\n",
    "    AutoTokenizer,\n",
    ")\n",
    "from transformers.optimization import (\n",
    "    Adafactor,\n",
    "    get_linear_schedule_with_warmup,\n",
    ")"
   ]
  },
  {
   "cell_type": "code",
   "execution_count": 3,
   "metadata": {
    "ExecuteTime": {
     "end_time": "2021-06-01T14:49:31.657777Z",
     "start_time": "2021-06-01T14:49:31.631040Z"
    }
   },
   "outputs": [],
   "source": [
    "%matplotlib inline\n",
    "%config InlineBackend.figure_format='retina'"
   ]
  },
  {
   "cell_type": "code",
   "execution_count": 4,
   "metadata": {
    "ExecuteTime": {
     "end_time": "2021-06-01T14:49:32.921745Z",
     "start_time": "2021-06-01T14:49:32.910873Z"
    }
   },
   "outputs": [],
   "source": [
    "sns.set(style='whitegrid', palette='muted', font_scale=1.2)\n",
    "HAPPY_COLORS_PALETTE = [\"#01BEFE\", \"#FFDD00\", \"#FF7D00\", \"#FF006D\", \"#ADFF02\", \"#8F00FF\"]\n",
    "sns.set_palette(sns.color_palette(HAPPY_COLORS_PALETTE))\n",
    "rcParams['figure.figsize'] = 12, 8"
   ]
  },
  {
   "cell_type": "code",
   "execution_count": 5,
   "metadata": {
    "ExecuteTime": {
     "end_time": "2021-06-01T14:49:35.745930Z",
     "start_time": "2021-06-01T14:49:35.741002Z"
    }
   },
   "outputs": [
    {
     "name": "stderr",
     "output_type": "stream",
     "text": [
      "Global seed set to 2021\n"
     ]
    },
    {
     "data": {
      "text/plain": [
       "2021"
      ]
     },
     "execution_count": 5,
     "metadata": {},
     "output_type": "execute_result"
    }
   ],
   "source": [
    "RANDOM_SEED=2021\n",
    "pl.seed_everything(RANDOM_SEED)"
   ]
  },
  {
   "cell_type": "code",
   "execution_count": 6,
   "metadata": {
    "ExecuteTime": {
     "end_time": "2021-06-01T14:49:41.389959Z",
     "start_time": "2021-06-01T14:49:41.387543Z"
    }
   },
   "outputs": [],
   "source": [
    "ic.configureOutput(outputFunction=sys.stdout.write, includeContext=True)"
   ]
  },
  {
   "cell_type": "code",
   "execution_count": 7,
   "metadata": {
    "ExecuteTime": {
     "end_time": "2021-06-01T14:57:02.359181Z",
     "start_time": "2021-06-01T14:57:02.353630Z"
    }
   },
   "outputs": [],
   "source": [
    "logger = logging.getLogger(__name__)"
   ]
  },
  {
   "cell_type": "code",
   "execution_count": 8,
   "metadata": {
    "ExecuteTime": {
     "end_time": "2021-06-01T14:57:28.545897Z",
     "start_time": "2021-06-01T14:57:02.782629Z"
    }
   },
   "outputs": [],
   "source": [
    "MAX_LEN = 200\n",
    "TRAIN_BATCH_SIZE = 32\n",
    "VALID_BATCH_SIZE = 64\n",
    "EPOCHS = 3\n",
    "LEARNING_RATE = 1e-05\n",
    "MODEL_NAME = \"sentence-transformers/paraphrase-multilingual-mpnet-base-v2\"\n",
    "DATA_ROOT_DIR = \"/home/ec2-user/SageMaker/deep-experiments/data/frameworks_data/data_v0.4.3\"\n",
    "TRAIN_PATH = os.path.join(DATA_ROOT_DIR, \"data_v0.4.3_train.csv\")\n",
    "VAL_PATH = os.path.join(DATA_ROOT_DIR, \"data_v0.4.3_val.csv\")\n",
    "tokenizer = AutoTokenizer.from_pretrained(MODEL_NAME)"
   ]
  },
  {
   "cell_type": "code",
   "execution_count": 9,
   "metadata": {
    "ExecuteTime": {
     "end_time": "2021-06-01T14:57:29.882333Z",
     "start_time": "2021-06-01T14:57:28.547379Z"
    }
   },
   "outputs": [
    {
     "data": {
      "text/plain": [
       "{'Agriculture': 0,\n",
       " 'Capacities & Response': 1,\n",
       " 'Cross': 2,\n",
       " 'Education': 3,\n",
       " 'Food Security': 4,\n",
       " 'Health': 5,\n",
       " 'Humanitarian Conditions': 6,\n",
       " 'Impact': 7,\n",
       " 'Livelihoods': 8,\n",
       " 'Logistics': 9,\n",
       " 'Nutrition': 10,\n",
       " 'People At Risk': 11,\n",
       " 'Priority Interventions': 12,\n",
       " 'Priority Needs': 13,\n",
       " 'Protection': 14,\n",
       " 'Shelter': 15,\n",
       " 'WASH': 16}"
      ]
     },
     "execution_count": 9,
     "metadata": {},
     "output_type": "execute_result"
    }
   ],
   "source": [
    "train_dataset = pd.read_csv(TRAIN_PATH)\n",
    "val_dataset = pd.read_csv(VAL_PATH)\n",
    "##\n",
    "train_dataset[\"sectors\"] = train_dataset[\"sectors\"].apply(literal_eval)\n",
    "train_dataset[\"pillars\"] = train_dataset[\"pillars\"].apply(literal_eval)\n",
    "val_dataset[\"sectors\"] = val_dataset[\"sectors\"].apply(literal_eval)\n",
    "val_dataset[\"pillars\"] = val_dataset[\"pillars\"].apply(literal_eval)\n",
    "##\n",
    "train_dataset[\"tags_2d_mat\"] = train_dataset[\"sectors\"] + train_dataset[\"pillars\"]\n",
    "val_dataset[\"tags_2d_mat\"] = val_dataset[\"sectors\"] + val_dataset[\"pillars\"]\n",
    "##\n",
    "tag_set = set()\n",
    "for tags_i in train_dataset[\"tags_2d_mat\"]:\n",
    "    tag_set.update(tags_i)\n",
    "tagname_to_tagid = {tag:i for i, tag in enumerate(list(sorted(tag_set)))}\n",
    "tagname_to_tagid"
   ]
  },
  {
   "cell_type": "code",
   "execution_count": 10,
   "metadata": {
    "ExecuteTime": {
     "end_time": "2021-06-01T14:57:29.890405Z",
     "start_time": "2021-06-01T14:57:29.883645Z"
    }
   },
   "outputs": [],
   "source": [
    "class CustomDataset(Dataset):\n",
    "    def __init__(self, dataframe, tagname_to_tagid, tokenizer, max_len):\n",
    "        self.tokenizer = tokenizer\n",
    "        self.data = dataframe\n",
    "        self.excerpt_text = dataframe[\"excerpt\"].tolist(\n",
    "        ) if dataframe is not None else None\n",
    "        self.targets = self.data[\"tags_2d_mat\"].tolist(\n",
    "        ) if dataframe is not None else None\n",
    "        self.tagname_to_tagid = tagname_to_tagid\n",
    "        self.tagid_to_tagname = list(tagname_to_tagid.keys())\n",
    "        self.max_len = max_len\n",
    "\n",
    "    def encode_example(self,\n",
    "                       excerpt_text: str,\n",
    "                       index=None,\n",
    "                       as_batch: bool = False):\n",
    "        \n",
    "        inputs = self.tokenizer(excerpt_text,\n",
    "                                            None,\n",
    "                                            truncation=True,\n",
    "                                            add_special_tokens=True,\n",
    "                                            max_length=self.max_len,\n",
    "                                            padding=\"max_length\",\n",
    "                                            return_token_type_ids=True)\n",
    "        ids = inputs['input_ids']\n",
    "        mask = inputs['attention_mask']\n",
    "        token_type_ids = inputs[\"token_type_ids\"]\n",
    "        targets = None\n",
    "        if self.targets:\n",
    "            target_indices = [\n",
    "                self.tagname_to_tagid[target]\n",
    "                for target in self.targets[index]\n",
    "                if target in self.tagname_to_tagid\n",
    "            ]\n",
    "            targets = np.zeros(len(self.tagname_to_tagid), dtype=np.int)\n",
    "            targets[target_indices] = 1\n",
    "\n",
    "        encoded = {\n",
    "            'ids':\n",
    "            torch.tensor(ids, dtype=torch.long),\n",
    "            'mask':\n",
    "            torch.tensor(mask, dtype=torch.long),\n",
    "            'token_type_ids':\n",
    "            torch.tensor(token_type_ids, dtype=torch.long),\n",
    "            'targets':\n",
    "            torch.tensor(targets, dtype=torch.float32)\n",
    "            if targets is not None else None\n",
    "        }\n",
    "        if as_batch:\n",
    "            return {\n",
    "                \"ids\": encoded[\"ids\"].unsqueeze(0),\n",
    "                \"mask\": encoded[\"mask\"].unsqueeze(0),\n",
    "                \"token_type_ids\": encoded[\"ids\"].unsqueeze(0)\n",
    "            }\n",
    "        return encoded\n",
    "\n",
    "    def __len__(self):\n",
    "        return len(self.excerpt_text)\n",
    "\n",
    "    def __getitem__(self, index):\n",
    "        excerpt_text = str(self.excerpt_text[index])\n",
    "        return self.encode_example(excerpt_text, index)"
   ]
  },
  {
   "cell_type": "code",
   "execution_count": 11,
   "metadata": {
    "ExecuteTime": {
     "end_time": "2021-06-01T14:57:29.900276Z",
     "start_time": "2021-06-01T14:57:29.891880Z"
    }
   },
   "outputs": [],
   "source": [
    "training_set = CustomDataset(train_dataset, tagname_to_tagid, tokenizer,\n",
    "                              MAX_LEN)\n",
    "val_set = CustomDataset(val_dataset, tagname_to_tagid, tokenizer,\n",
    "                         MAX_LEN)\n",
    "\n",
    "val_set_frac = CustomDataset(val_dataset.sample(frac=.01),\n",
    "                              tagname_to_tagid, tokenizer, MAX_LEN)"
   ]
  },
  {
   "cell_type": "code",
   "execution_count": 12,
   "metadata": {
    "ExecuteTime": {
     "end_time": "2021-06-01T14:57:29.904210Z",
     "start_time": "2021-06-01T14:57:29.901478Z"
    }
   },
   "outputs": [],
   "source": [
    "train_params = {\n",
    "    'batch_size': TRAIN_BATCH_SIZE,\n",
    "    'shuffle': True,\n",
    "    'num_workers': 4\n",
    "}\n",
    "\n",
    "val_params = {\n",
    "    'batch_size': VALID_BATCH_SIZE,\n",
    "    'shuffle': False,\n",
    "    'num_workers': 4\n",
    "}\n",
    "\n",
    "training_loader = DataLoader(training_set, **train_params)\n",
    "val_loader = DataLoader(val_set, **val_params)\n",
    "val_loader_frac = DataLoader(val_set_frac, **val_params)"
   ]
  },
  {
   "cell_type": "code",
   "execution_count": 13,
   "metadata": {
    "ExecuteTime": {
     "end_time": "2021-06-01T14:57:29.909386Z",
     "start_time": "2021-06-01T14:57:29.905678Z"
    }
   },
   "outputs": [],
   "source": [
    "class Model(nn.Module):\n",
    "    def __init__(self, model_name_or_path: str, num_labels:int):\n",
    "        super().__init__()\n",
    "        self.l1 = AutoModel.from_pretrained(model_name_or_path)\n",
    "        self.l2 = torch.nn.Dropout(0.3)\n",
    "        self.l3 = torch.nn.Linear(768, num_labels)\n",
    "    def forward(self, inputs):\n",
    "        output = self.l1(inputs[\"ids\"],\n",
    "                            attention_mask=inputs[\"mask\"],)\n",
    "        output = output.last_hidden_state\n",
    "        output = self.l2(output)\n",
    "        output = self.l3(output)\n",
    "        return output[:, 0, :]"
   ]
  },
  {
   "cell_type": "code",
   "execution_count": 14,
   "metadata": {
    "ExecuteTime": {
     "end_time": "2021-06-01T15:04:49.596074Z",
     "start_time": "2021-06-01T15:04:49.543948Z"
    }
   },
   "outputs": [],
   "source": [
    "class Transformer(pl.LightningModule):\n",
    "    def __init__(self,\n",
    "                 model_name_or_path: str,\n",
    "                 num_labels: int,\n",
    "                 empty_dataset: CustomDataset,\n",
    "                 pred_threshold: float = .5,\n",
    "                 learning_rate: float = 2e-5,\n",
    "                 adam_epsilon: float = 1e-8,\n",
    "                 warmup_steps: int = 0,\n",
    "                 weight_decay: float = 0.0,\n",
    "                 train_batch_size: int = 32,\n",
    "                 eval_batch_size: int = 32,\n",
    "                 eval_splits: Optional[list] = None,\n",
    "                 **kwargs):\n",
    "        super().__init__()\n",
    "\n",
    "        self.save_hyperparameters()\n",
    "\n",
    "        self.model = Model(model_name_or_path, num_labels)\n",
    "        self.empty_dataset = empty_dataset\n",
    "        self.pred_threshold = pred_threshold\n",
    "\n",
    "        self.f1_score_train = torchmetrics.F1(\n",
    "            num_classes=2,\n",
    "            threshold=0.5,\n",
    "            average='macro',\n",
    "            mdmc_average=\"samplewise\",\n",
    "            ignore_index=None,\n",
    "            top_k=None,\n",
    "            multiclass=True,\n",
    "            compute_on_step=True,\n",
    "            dist_sync_on_step=False,\n",
    "            process_group=None,\n",
    "            dist_sync_fn=None,\n",
    "        )\n",
    "\n",
    "        self.f1_score_val = torchmetrics.F1(\n",
    "            num_classes=2,\n",
    "            threshold=0.5,\n",
    "            average='macro',\n",
    "            mdmc_average=\"samplewise\",\n",
    "            ignore_index=None,\n",
    "            top_k=None,\n",
    "            multiclass=True,\n",
    "            compute_on_step=True,\n",
    "            dist_sync_on_step=False,\n",
    "            process_group=None,\n",
    "            dist_sync_fn=None,\n",
    "        )\n",
    "    @auto_move_data\n",
    "    def forward(self, inputs):\n",
    "        output = self.model(inputs)\n",
    "        return output\n",
    "\n",
    "    def training_step(self, batch, batch_idx):\n",
    "        outputs = self(batch)\n",
    "        loss = F.binary_cross_entropy_with_logits(outputs, batch[\"targets\"])\n",
    "\n",
    "        self.f1_score_train(torch.sigmoid(outputs),\n",
    "                            batch[\"targets\"].to(dtype=torch.long))\n",
    "        self.log(\"train_f1\", self.f1_score_train, prog_bar=True)\n",
    "        return loss\n",
    "\n",
    "    def validation_step(self, batch, batch_idx, dataloader_idx=0):\n",
    "        outputs = self(batch)\n",
    "        val_loss = F.binary_cross_entropy_with_logits(outputs,\n",
    "                                                      batch[\"targets\"])\n",
    "\n",
    "        self.f1_score_val(torch.sigmoid(outputs),\n",
    "                          batch[\"targets\"].to(dtype=torch.long))\n",
    "        self.log(\"val_f1\",\n",
    "                 self.f1_score_val,\n",
    "                 on_step=True,\n",
    "                 on_epoch=True,\n",
    "                 prog_bar=True,\n",
    "                 logger=False)\n",
    "        \n",
    "        self.log(\"val_loss\",\n",
    "                 val_loss,\n",
    "                 on_step=True,\n",
    "                 on_epoch=True,\n",
    "                 prog_bar=True,\n",
    "                 logger=False)\n",
    "        return {'val_loss': val_loss}\n",
    "\n",
    "    def test_step(self, batch, batch_nb):\n",
    "        logits = self(batch)\n",
    "        preds = (torch.sigmoid(logits) > .5)\n",
    "        return {\"preds\": preds, \"targets_i\": batch[\"targets\"]}\n",
    "\n",
    "    def on_test_epoch_end(self, outputs):\n",
    "        preds = torch.cat([output[\"preds\"] for output in outputs]).cpu()\n",
    "        targets = torch.cat([output[\"targets_i\"] for output in outputs]).cpu()\n",
    "        recalls = []\n",
    "        precisions = []\n",
    "        f1_scores = []\n",
    "        for i in range(targets.shape[1]):\n",
    "            class_roc_auc = auroc(preds[:, i], targets[:, i])\n",
    "            self.log(\n",
    "                f\"{self.empty_dataset.sectorid_to_sectorname[i]}_roc_auc/Train\",\n",
    "                class_roc_auc)\n",
    "            class_f1 = metrics.f1_score(targets[:, i], preds[:, i])\n",
    "            self.log(\n",
    "                f\"{self.empty_dataset.sectorid_to_sectorname[i]}_f1/Train\",\n",
    "                class_f1)\n",
    "\n",
    "    def predict_step(self, batch, batch_idx, dataloader_idx=None):\n",
    "        output = self(batch)\n",
    "        return {\"logits\": output}\n",
    "\n",
    "    def on_predict_epoch_end(self, outputs):\n",
    "        logits = torch.cat([output[\"logits\"] for output in outputs[0]])\n",
    "        preds = torch.sigmoid(logits) >= self.pred_threshold\n",
    "        pred_classes = []\n",
    "        for pred in preds:\n",
    "            pred_classes_i = [\n",
    "                self.empty_dataset.sectorid_to_sectorname[i]\n",
    "                for i, p in enumerate(pred) if p\n",
    "            ]\n",
    "            pred_classes.append(pred_classes_i)\n",
    "        self.log({\"pred_classes\": pred_classes})\n",
    "\n",
    "    def custom_predict(self, inputs):\n",
    "        self.eval()\n",
    "        self.freeze()\n",
    "        as_batch = False\n",
    "        if isinstance(inputs, str):\n",
    "            as_batch = True\n",
    "        inputs = self.empty_dataset.encode_example(inputs, as_batch)\n",
    "\n",
    "        with torch.no_grad():\n",
    "            logits = self(inputs)\n",
    "        preds = (torch.sigmoid(logits) >= self.pred_threshold)\n",
    "        pred_classes = []\n",
    "        for pred in preds:\n",
    "            pred_classes_i = [\n",
    "                self.empty_dataset.tagid_to_tagname[i]\n",
    "                for i, p in enumerate(pred) if p\n",
    "            ]\n",
    "            pred_classes.append(pred_classes_i)\n",
    "        return pred_classes\n",
    "\n",
    "    def total_steps(self) -> int:\n",
    "        \"\"\"The number of total training steps that will be run. Used for lr scheduler purposes.\"\"\"\n",
    "        self.dataset_size = len(self.train_dataloader().dataset)\n",
    "        num_devices = max(1, self.hparams.gpus)  # TODO: consider num_tpu_cores\n",
    "        effective_batch_size = self.hparams.train_batch_size * self.hparams.accumulate_grad_batches * num_devices\n",
    "        return (self.dataset_size /\n",
    "                effective_batch_size) * self.hparams.max_epochs\n",
    "\n",
    "    def configure_optimizers(self):\n",
    "        \"Prepare optimizer and schedule (linear warmup and decay)\"\n",
    "        model = self.model\n",
    "        no_decay = [\"bias\", \"LayerNorm.weight\"]\n",
    "        optimizer_grouped_parameters = [\n",
    "            {\n",
    "                \"params\": [\n",
    "                    p for n, p in model.named_parameters()\n",
    "                    if not any(nd in n for nd in no_decay)\n",
    "                ],\n",
    "                \"weight_decay\":\n",
    "                self.hparams.weight_decay,\n",
    "            },\n",
    "            {\n",
    "                \"params\": [\n",
    "                    p for n, p in model.named_parameters()\n",
    "                    if any(nd in n for nd in no_decay)\n",
    "                ],\n",
    "                \"weight_decay\":\n",
    "                0.0,\n",
    "            },\n",
    "        ]\n",
    "        optimizer = AdamW(optimizer_grouped_parameters,\n",
    "                          lr=self.hparams.learning_rate,\n",
    "                          eps=self.hparams.adam_epsilon)\n",
    "\n",
    "        scheduler = get_linear_schedule_with_warmup(\n",
    "            optimizer,\n",
    "            num_warmup_steps=self.hparams.warmup_steps,\n",
    "            num_training_steps=self.total_steps())\n",
    "        scheduler = {\n",
    "            'scheduler': scheduler,\n",
    "            'interval': 'step',\n",
    "            'frequency': 1\n",
    "        }\n",
    "        return [optimizer], [scheduler]\n",
    "\n",
    "    def train_dataloader(self):\n",
    "        return training_loader\n",
    "\n",
    "    def val_dataloader(self):\n",
    "        return val_loader\n",
    "    \n",
    "    def custom_eval(self, eval_dataloader):\n",
    "        if self.device.type == \"cpu\":\n",
    "            self.to(\"cuda\")\n",
    "        self.eval()\n",
    "        self.freeze()\n",
    "        preds_val_all = []\n",
    "        y_true = []\n",
    "\n",
    "        with torch.no_grad():\n",
    "            for batch in tqdm(eval_dataloader, total=len(eval_dataloader.dataset)//eval_dataloader.batch_size):\n",
    "                logits = self({\"ids\": batch[\"ids\"].to(\"cuda\"), \"mask\": batch[\"mask\"].to(\"cuda\"), \"token_type_ids\": batch[\"token_type_ids\"].to(\"cuda\")})\n",
    "                preds_batch = np.zeros(logits.shape, dtype=np.int)\n",
    "                preds_batch[(torch.sigmoid(logits) > self.pred_threshold).cpu().nonzero(as_tuple=True)] = 1\n",
    "                preds_val_all.append(preds_batch)\n",
    "                y_true.append(batch[\"targets\"].numpy().astype(np.int))\n",
    "\n",
    "        preds_val_all = np.concatenate(preds_val_all)\n",
    "        y_true = np.concatenate(y_true)\n",
    "\n",
    "        f1_scores = []\n",
    "        recalls = []\n",
    "        precisions = []\n",
    "        accuracies = []\n",
    "        supports = []\n",
    "        tagname_to_tagid = self.empty_dataset.tagname_to_tagid\n",
    "        for tag_name, tag_id in tagname_to_tagid.items():\n",
    "            cls_rprt = classification_report(y_true[:, tag_id], preds_val_all[:, tag_id], output_dict=True)\n",
    "            precisions.append(cls_rprt[\"macro avg\"][\"precision\"])\n",
    "            recalls.append(cls_rprt[\"macro avg\"][\"recall\"])\n",
    "            f1_scores.append(cls_rprt[\"macro avg\"][\"f1-score\"])\n",
    "            supports.append(cls_rprt[\"1\"][\"support\"])\n",
    "            accuracies.append(cls_rprt[\"accuracy\"])\n",
    "\n",
    "        metrics_df = pd.DataFrame({\n",
    "            \"Sector\": list(tagname_to_tagid.keys()),\n",
    "            \"Precision\": precisions,\n",
    "            \"Recall\": recalls,\n",
    "            \"F1 Score\": f1_scores,\n",
    "            \"Accuracy\": accuracies,\n",
    "            \"Support\": supports,\n",
    "        })\n",
    "        return metrics_df\n"
   ]
  },
  {
   "cell_type": "code",
   "execution_count": 17,
   "metadata": {},
   "outputs": [],
   "source": [
    "checkpoint_path = \"../checkpoints-sectors-and-pillarssentence-transformers-paraphrase-multilingual-mpnet-base-v2/epoch=1-step=5665.ckpt\"\n",
    "model = Transformer.load_from_checkpoint(checkpoint_path)"
   ]
  },
  {
   "cell_type": "code",
   "execution_count": 19,
   "metadata": {},
   "outputs": [],
   "source": [
    "leads = pd.read_csv(\"leads.csv\")\n",
    "leads[\"parsed_text\"] = leads[\"parsed_text\"].apply(literal_eval)"
   ]
  },
  {
   "cell_type": "code",
   "execution_count": 20,
   "metadata": {},
   "outputs": [
    {
     "data": {
      "application/vnd.jupyter.widget-view+json": {
       "model_id": "3df96c837c5e49b3b7863095a2df2b78",
       "version_major": 2,
       "version_minor": 0
      },
      "text/plain": [
       "  0%|          | 0/1 [00:00<?, ?it/s]"
      ]
     },
     "metadata": {},
     "output_type": "display_data"
    },
    {
     "data": {
      "application/vnd.jupyter.widget-view+json": {
       "model_id": "ac370c8890944a37a34cd2e0d8d6613a",
       "version_major": 2,
       "version_minor": 0
      },
      "text/plain": [
       "  0%|          | 0/2 [00:00<?, ?it/s]"
      ]
     },
     "metadata": {},
     "output_type": "display_data"
    },
    {
     "data": {
      "application/vnd.jupyter.widget-view+json": {
       "model_id": "11c086c7fb8d40a4a4b28de6799a778e",
       "version_major": 2,
       "version_minor": 0
      },
      "text/plain": [
       "  0%|          | 0/1 [00:00<?, ?it/s]"
      ]
     },
     "metadata": {},
     "output_type": "display_data"
    },
    {
     "data": {
      "application/vnd.jupyter.widget-view+json": {
       "model_id": "7500d2044dcf48c1893c86c7dea9f28e",
       "version_major": 2,
       "version_minor": 0
      },
      "text/plain": [
       "  0%|          | 0/1 [00:00<?, ?it/s]"
      ]
     },
     "metadata": {},
     "output_type": "display_data"
    },
    {
     "data": {
      "application/vnd.jupyter.widget-view+json": {
       "model_id": "cd759f1e098d4bac9c30ab4553af2595",
       "version_major": 2,
       "version_minor": 0
      },
      "text/plain": [
       "  0%|          | 0/68 [00:00<?, ?it/s]"
      ]
     },
     "metadata": {},
     "output_type": "display_data"
    },
    {
     "data": {
      "application/vnd.jupyter.widget-view+json": {
       "model_id": "f2f7257f65164df1be31330de1556630",
       "version_major": 2,
       "version_minor": 0
      },
      "text/plain": [
       "  0%|          | 0/2 [00:00<?, ?it/s]"
      ]
     },
     "metadata": {},
     "output_type": "display_data"
    }
   ],
   "source": [
    "preds_all = []\n",
    "bsz = 32\n",
    "for doc_sentences in leads[\"parsed_text\"]:\n",
    "    preds_i = []\n",
    "    for i in tqdm(range(0, len(doc_sentences), bsz)):\n",
    "        batch = doc_sentences[i:i+bsz]\n",
    "        preds = model.custom_predict(batch)\n",
    "        preds_i.extend(preds)\n",
    "    preds_all.append(preds_i)"
   ]
  },
  {
   "cell_type": "code",
   "execution_count": 21,
   "metadata": {},
   "outputs": [
    {
     "data": {
      "text/plain": [
       "6"
      ]
     },
     "execution_count": 21,
     "metadata": {},
     "output_type": "execute_result"
    }
   ],
   "source": [
    "len(preds_all)"
   ]
  },
  {
   "cell_type": "code",
   "execution_count": 22,
   "metadata": {},
   "outputs": [],
   "source": [
    "leads[\"preds\"] = preds_all"
   ]
  },
  {
   "cell_type": "code",
   "execution_count": 23,
   "metadata": {},
   "outputs": [],
   "source": [
    "leads.to_csv(\"leads_with_preds.csv\", index=None)"
   ]
  },
  {
   "cell_type": "code",
   "execution_count": null,
   "metadata": {},
   "outputs": [],
   "source": []
  }
 ],
 "metadata": {
  "kernelspec": {
   "display_name": "conda_pytorch_latest_p36",
   "language": "python",
   "name": "conda_pytorch_latest_p36"
  },
  "language_info": {
   "codemirror_mode": {
    "name": "ipython",
    "version": 3
   },
   "file_extension": ".py",
   "mimetype": "text/x-python",
   "name": "python",
   "nbconvert_exporter": "python",
   "pygments_lexer": "ipython3",
   "version": "3.6.13"
  }
 },
 "nbformat": 4,
 "nbformat_minor": 4
}
