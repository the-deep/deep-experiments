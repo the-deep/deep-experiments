{
 "cells": [
  {
   "cell_type": "markdown",
   "metadata": {
    "scrolled": true
   },
   "source": [
    "kernel `conda_pytorch_latest_p36`"
   ]
  },
  {
   "cell_type": "code",
   "execution_count": 1,
   "metadata": {
    "scrolled": true
   },
   "outputs": [],
   "source": [
    "# !pip install icecream\n",
    "# !pip install tqdm\n",
    "# !pip install torchmetrics\n",
    "# !pip install pytorch_lightning\n",
    "# !pip install transformers\n",
    "# !pip install sentencepiece"
   ]
  },
  {
   "cell_type": "code",
   "execution_count": 2,
   "metadata": {
    "ExecuteTime": {
     "end_time": "2021-06-01T14:49:30.843642Z",
     "start_time": "2021-06-01T14:49:30.663973Z"
    }
   },
   "outputs": [],
   "source": [
    "import os\n",
    "import sys\n",
    "import logging\n",
    "import argparse\n",
    "from pathlib import Path\n",
    "from ast import literal_eval\n",
    "from collections import Counter\n",
    "from typing import Any, Dict, Optional\n",
    "\n",
    "from icecream import ic\n",
    "from tqdm.auto import tqdm\n",
    "\n",
    "import torchmetrics\n",
    "from torchmetrics.functional import accuracy, f1, auroc\n",
    "\n",
    "import pytorch_lightning as pl\n",
    "from pytorch_lightning.loggers import TensorBoardLogger\n",
    "from pytorch_lightning.core.decorators import auto_move_data\n",
    "from pytorch_lightning.callbacks import ModelCheckpoint, EarlyStopping\n",
    "\n",
    "import torch\n",
    "from torch import nn\n",
    "import torch.nn.functional as F\n",
    "from torch.utils.data import Dataset, DataLoader, RandomSampler, SequentialSampler\n",
    "\n",
    "import numpy as np\n",
    "import pandas as pd\n",
    "import seaborn as sns\n",
    "from sklearn.model_selection import train_test_split\n",
    "from sklearn.metrics import classification_report, multilabel_confusion_matrix\n",
    "\n",
    "\n",
    "import matplotlib.pyplot as plt\n",
    "from pylab import rcParams\n",
    "from matplotlib import rc\n",
    "\n",
    "import transformers\n",
    "from transformers import (\n",
    "    AdamW,\n",
    "    AutoConfig,\n",
    "    AutoModel,\n",
    "    AutoModelForSequenceClassification,\n",
    "    T5ForConditionalGeneration,\n",
    "    T5Tokenizer,\n",
    "    AutoTokenizer,\n",
    ")\n",
    "from transformers.optimization import (\n",
    "    Adafactor,\n",
    "    get_linear_schedule_with_warmup,\n",
    ")"
   ]
  },
  {
   "cell_type": "code",
   "execution_count": 3,
   "metadata": {
    "ExecuteTime": {
     "end_time": "2021-06-01T14:49:31.657777Z",
     "start_time": "2021-06-01T14:49:31.631040Z"
    }
   },
   "outputs": [],
   "source": [
    "%matplotlib inline\n",
    "%config InlineBackend.figure_format='retina'"
   ]
  },
  {
   "cell_type": "code",
   "execution_count": 4,
   "metadata": {
    "ExecuteTime": {
     "end_time": "2021-06-01T14:49:32.921745Z",
     "start_time": "2021-06-01T14:49:32.910873Z"
    }
   },
   "outputs": [],
   "source": [
    "sns.set(style='whitegrid', palette='muted', font_scale=1.2)\n",
    "HAPPY_COLORS_PALETTE = [\"#01BEFE\", \"#FFDD00\", \"#FF7D00\", \"#FF006D\", \"#ADFF02\", \"#8F00FF\"]\n",
    "sns.set_palette(sns.color_palette(HAPPY_COLORS_PALETTE))\n",
    "rcParams['figure.figsize'] = 12, 8"
   ]
  },
  {
   "cell_type": "code",
   "execution_count": 5,
   "metadata": {
    "ExecuteTime": {
     "end_time": "2021-06-01T14:49:35.745930Z",
     "start_time": "2021-06-01T14:49:35.741002Z"
    }
   },
   "outputs": [
    {
     "name": "stderr",
     "output_type": "stream",
     "text": [
      "Global seed set to 2021\n"
     ]
    },
    {
     "data": {
      "text/plain": [
       "2021"
      ]
     },
     "execution_count": 5,
     "metadata": {},
     "output_type": "execute_result"
    }
   ],
   "source": [
    "RANDOM_SEED=2021\n",
    "pl.seed_everything(RANDOM_SEED)"
   ]
  },
  {
   "cell_type": "code",
   "execution_count": 6,
   "metadata": {
    "ExecuteTime": {
     "end_time": "2021-06-01T14:49:41.389959Z",
     "start_time": "2021-06-01T14:49:41.387543Z"
    }
   },
   "outputs": [],
   "source": [
    "ic.configureOutput(outputFunction=sys.stdout.write, includeContext=True)"
   ]
  },
  {
   "cell_type": "code",
   "execution_count": 7,
   "metadata": {
    "ExecuteTime": {
     "end_time": "2021-06-01T14:57:02.359181Z",
     "start_time": "2021-06-01T14:57:02.353630Z"
    }
   },
   "outputs": [],
   "source": [
    "logger = logging.getLogger(__name__)"
   ]
  },
  {
   "cell_type": "code",
   "execution_count": 8,
   "metadata": {
    "ExecuteTime": {
     "end_time": "2021-06-01T14:57:28.545897Z",
     "start_time": "2021-06-01T14:57:02.782629Z"
    }
   },
   "outputs": [],
   "source": [
    "MAX_LEN = 200\n",
    "TRAIN_BATCH_SIZE = 32\n",
    "VALID_BATCH_SIZE = 64\n",
    "EPOCHS = 3\n",
    "LEARNING_RATE = 1e-05\n",
    "MODEL_NAME = \"microsoft/xtremedistil-l6-h384-uncased\"\n",
    "DATA_ROOT_DIR = \"/home/ec2-user/SageMaker/deep-experiments/data/frameworks_data/data_v0.4.3\"\n",
    "TRAIN_PATH = os.path.join(DATA_ROOT_DIR, \"data_v0.4.3_train.csv\")\n",
    "VAL_PATH = os.path.join(DATA_ROOT_DIR, \"data_v0.4.3_val.csv\")\n",
    "tokenizer = AutoTokenizer.from_pretrained(MODEL_NAME)"
   ]
  },
  {
   "cell_type": "code",
   "execution_count": 9,
   "metadata": {
    "ExecuteTime": {
     "end_time": "2021-06-01T14:57:29.882333Z",
     "start_time": "2021-06-01T14:57:28.547379Z"
    }
   },
   "outputs": [
    {
     "data": {
      "text/plain": [
       "{'Agriculture': 0,\n",
       " 'Capacities & Response': 1,\n",
       " 'Cross': 2,\n",
       " 'Education': 3,\n",
       " 'Food Security': 4,\n",
       " 'Health': 5,\n",
       " 'Humanitarian Conditions': 6,\n",
       " 'Impact': 7,\n",
       " 'Livelihoods': 8,\n",
       " 'Logistics': 9,\n",
       " 'Nutrition': 10,\n",
       " 'People At Risk': 11,\n",
       " 'Priority Interventions': 12,\n",
       " 'Priority Needs': 13,\n",
       " 'Protection': 14,\n",
       " 'Shelter': 15,\n",
       " 'WASH': 16}"
      ]
     },
     "execution_count": 9,
     "metadata": {},
     "output_type": "execute_result"
    }
   ],
   "source": [
    "train_dataset = pd.read_csv(TRAIN_PATH)\n",
    "val_dataset = pd.read_csv(VAL_PATH)\n",
    "##\n",
    "train_dataset[\"sectors\"] = train_dataset[\"sectors\"].apply(literal_eval)\n",
    "train_dataset[\"pillars\"] = train_dataset[\"pillars\"].apply(literal_eval)\n",
    "val_dataset[\"sectors\"] = val_dataset[\"sectors\"].apply(literal_eval)\n",
    "val_dataset[\"pillars\"] = val_dataset[\"pillars\"].apply(literal_eval)\n",
    "##\n",
    "train_dataset[\"tags_2d_mat\"] = train_dataset[\"sectors\"] + train_dataset[\"pillars\"]\n",
    "val_dataset[\"tags_2d_mat\"] = val_dataset[\"sectors\"] + val_dataset[\"pillars\"]\n",
    "##\n",
    "tag_set = set()\n",
    "for tags_i in train_dataset[\"tags_2d_mat\"]:\n",
    "    tag_set.update(tags_i)\n",
    "tagname_to_tagid = {tag:i for i, tag in enumerate(list(sorted(tag_set)))}\n",
    "tagname_to_tagid"
   ]
  },
  {
   "cell_type": "code",
   "execution_count": 10,
   "metadata": {
    "ExecuteTime": {
     "end_time": "2021-06-01T14:57:29.890405Z",
     "start_time": "2021-06-01T14:57:29.883645Z"
    }
   },
   "outputs": [],
   "source": [
    "class CustomDataset(Dataset):\n",
    "    def __init__(self, dataframe, tagname_to_tagid, tokenizer, max_len):\n",
    "        self.tokenizer = tokenizer\n",
    "        self.data = dataframe\n",
    "        self.excerpt_text = dataframe[\"excerpt\"].tolist(\n",
    "        ) if dataframe is not None else None\n",
    "        self.targets = self.data[\"tags_2d_mat\"].tolist(\n",
    "        ) if dataframe is not None else None\n",
    "        self.tagname_to_tagid = tagname_to_tagid\n",
    "        self.tagid_to_tagname = list(tagname_to_tagid.keys())\n",
    "        self.max_len = max_len\n",
    "\n",
    "    def encode_example(self,\n",
    "                       excerpt_text: str,\n",
    "                       index=None,\n",
    "                       as_batch: bool = False):\n",
    "        \n",
    "        inputs = self.tokenizer(excerpt_text,\n",
    "                                            None,\n",
    "                                            truncation=True,\n",
    "                                            add_special_tokens=True,\n",
    "                                            max_length=self.max_len,\n",
    "                                            padding=\"max_length\",\n",
    "                                            return_token_type_ids=True)\n",
    "        ids = inputs['input_ids']\n",
    "        mask = inputs['attention_mask']\n",
    "        token_type_ids = inputs[\"token_type_ids\"]\n",
    "        targets = None\n",
    "        if self.targets:\n",
    "            target_indices = [\n",
    "                self.tagname_to_tagid[target]\n",
    "                for target in self.targets[index]\n",
    "                if target in self.tagname_to_tagid\n",
    "            ]\n",
    "            targets = np.zeros(len(self.tagname_to_tagid), dtype=np.int)\n",
    "            targets[target_indices] = 1\n",
    "\n",
    "        encoded = {\n",
    "            'ids':\n",
    "            torch.tensor(ids, dtype=torch.long),\n",
    "            'mask':\n",
    "            torch.tensor(mask, dtype=torch.long),\n",
    "            'token_type_ids':\n",
    "            torch.tensor(token_type_ids, dtype=torch.long),\n",
    "            'targets':\n",
    "            torch.tensor(targets, dtype=torch.float32)\n",
    "            if targets is not None else None\n",
    "        }\n",
    "        if as_batch:\n",
    "            return {\n",
    "                \"ids\": encoded[\"ids\"].unsqueeze(0),\n",
    "                \"mask\": encoded[\"mask\"].unsqueeze(0),\n",
    "                \"token_type_ids\": encoded[\"ids\"].unsqueeze(0)\n",
    "            }\n",
    "        return encoded\n",
    "\n",
    "    def __len__(self):\n",
    "        return len(self.excerpt_text)\n",
    "\n",
    "    def __getitem__(self, index):\n",
    "        excerpt_text = str(self.excerpt_text[index])\n",
    "        return self.encode_example(excerpt_text, index)"
   ]
  },
  {
   "cell_type": "code",
   "execution_count": 11,
   "metadata": {
    "ExecuteTime": {
     "end_time": "2021-06-01T14:57:29.900276Z",
     "start_time": "2021-06-01T14:57:29.891880Z"
    }
   },
   "outputs": [],
   "source": [
    "training_set = CustomDataset(train_dataset, tagname_to_tagid, tokenizer,\n",
    "                              MAX_LEN)\n",
    "val_set = CustomDataset(val_dataset, tagname_to_tagid, tokenizer,\n",
    "                         MAX_LEN)\n",
    "\n",
    "val_set_frac = CustomDataset(val_dataset.sample(frac=.01),\n",
    "                              tagname_to_tagid, tokenizer, MAX_LEN)"
   ]
  },
  {
   "cell_type": "code",
   "execution_count": 12,
   "metadata": {
    "ExecuteTime": {
     "end_time": "2021-06-01T14:57:29.904210Z",
     "start_time": "2021-06-01T14:57:29.901478Z"
    }
   },
   "outputs": [],
   "source": [
    "train_params = {\n",
    "    'batch_size': TRAIN_BATCH_SIZE,\n",
    "    'shuffle': True,\n",
    "    'num_workers': 4\n",
    "}\n",
    "\n",
    "val_params = {\n",
    "    'batch_size': VALID_BATCH_SIZE,\n",
    "    'shuffle': False,\n",
    "    'num_workers': 4\n",
    "}\n",
    "\n",
    "training_loader = DataLoader(training_set, **train_params)\n",
    "val_loader = DataLoader(val_set, **val_params)\n",
    "val_loader_frac = DataLoader(val_set_frac, **val_params)"
   ]
  },
  {
   "cell_type": "code",
   "execution_count": 13,
   "metadata": {
    "ExecuteTime": {
     "end_time": "2021-06-01T14:57:29.909386Z",
     "start_time": "2021-06-01T14:57:29.905678Z"
    }
   },
   "outputs": [],
   "source": [
    "class Model(nn.Module):\n",
    "    def __init__(self, model_name_or_path: str, num_labels:int):\n",
    "        super().__init__()\n",
    "        self.l1 = AutoModel.from_pretrained(model_name_or_path)\n",
    "        self.l2 = torch.nn.Dropout(0.3)\n",
    "        self.l3 = torch.nn.Linear(384, num_labels)\n",
    "    def forward(self, inputs):\n",
    "        output = self.l1(inputs[\"ids\"],\n",
    "                            attention_mask=inputs[\"mask\"],)\n",
    "        output = output.last_hidden_state\n",
    "        output = self.l2(output)\n",
    "        output = self.l3(output)\n",
    "        return output[:, 0, :]"
   ]
  },
  {
   "cell_type": "code",
   "execution_count": 14,
   "metadata": {
    "ExecuteTime": {
     "end_time": "2021-06-01T15:04:49.596074Z",
     "start_time": "2021-06-01T15:04:49.543948Z"
    }
   },
   "outputs": [],
   "source": [
    "class Transformer(pl.LightningModule):\n",
    "    def __init__(self,\n",
    "                 model_name_or_path: str,\n",
    "                 num_labels: int,\n",
    "                 empty_dataset: CustomDataset,\n",
    "                 pred_threshold: float = .5,\n",
    "                 learning_rate: float = 2e-5,\n",
    "                 adam_epsilon: float = 1e-8,\n",
    "                 warmup_steps: int = 0,\n",
    "                 weight_decay: float = 0.0,\n",
    "                 train_batch_size: int = 32,\n",
    "                 eval_batch_size: int = 32,\n",
    "                 eval_splits: Optional[list] = None,\n",
    "                 **kwargs):\n",
    "        super().__init__()\n",
    "\n",
    "        self.save_hyperparameters()\n",
    "\n",
    "        self.model = Model(model_name_or_path, num_labels)\n",
    "        self.empty_dataset = empty_dataset\n",
    "        self.pred_threshold = pred_threshold\n",
    "\n",
    "        self.f1_score_train = torchmetrics.F1(\n",
    "            num_classes=2,\n",
    "            threshold=0.5,\n",
    "            average='macro',\n",
    "            mdmc_average=\"samplewise\",\n",
    "            ignore_index=None,\n",
    "            top_k=None,\n",
    "            multiclass=True,\n",
    "            compute_on_step=True,\n",
    "            dist_sync_on_step=False,\n",
    "            process_group=None,\n",
    "            dist_sync_fn=None,\n",
    "        )\n",
    "\n",
    "        self.f1_score_val = torchmetrics.F1(\n",
    "            num_classes=2,\n",
    "            threshold=0.5,\n",
    "            average='macro',\n",
    "            mdmc_average=\"samplewise\",\n",
    "            ignore_index=None,\n",
    "            top_k=None,\n",
    "            multiclass=True,\n",
    "            compute_on_step=True,\n",
    "            dist_sync_on_step=False,\n",
    "            process_group=None,\n",
    "            dist_sync_fn=None,\n",
    "        )\n",
    "    @auto_move_data\n",
    "    def forward(self, inputs):\n",
    "        output = self.model(inputs)\n",
    "        return output\n",
    "\n",
    "    def training_step(self, batch, batch_idx):\n",
    "        outputs = self(batch)\n",
    "        loss = F.binary_cross_entropy_with_logits(outputs, batch[\"targets\"])\n",
    "\n",
    "        self.f1_score_train(torch.sigmoid(outputs),\n",
    "                            batch[\"targets\"].to(dtype=torch.long))\n",
    "        self.log(\"train_f1\", self.f1_score_train, prog_bar=True)\n",
    "        return loss\n",
    "\n",
    "    def validation_step(self, batch, batch_idx, dataloader_idx=0):\n",
    "        outputs = self(batch)\n",
    "        val_loss = F.binary_cross_entropy_with_logits(outputs,\n",
    "                                                      batch[\"targets\"])\n",
    "\n",
    "        self.f1_score_val(torch.sigmoid(outputs),\n",
    "                          batch[\"targets\"].to(dtype=torch.long))\n",
    "        self.log(\"val_f1\",\n",
    "                 self.f1_score_val,\n",
    "                 on_step=True,\n",
    "                 on_epoch=True,\n",
    "                 prog_bar=True,\n",
    "                 logger=False)\n",
    "        \n",
    "        self.log(\"val_loss\",\n",
    "                 val_loss,\n",
    "                 on_step=True,\n",
    "                 on_epoch=True,\n",
    "                 prog_bar=True,\n",
    "                 logger=False)\n",
    "        return {'val_loss': val_loss}\n",
    "\n",
    "    def test_step(self, batch, batch_nb):\n",
    "        logits = self(batch)\n",
    "        preds = (torch.sigmoid(logits) > .5)\n",
    "        return {\"preds\": preds, \"targets_i\": batch[\"targets\"]}\n",
    "\n",
    "    def on_test_epoch_end(self, outputs):\n",
    "        preds = torch.cat([output[\"preds\"] for output in outputs]).cpu()\n",
    "        targets = torch.cat([output[\"targets_i\"] for output in outputs]).cpu()\n",
    "        recalls = []\n",
    "        precisions = []\n",
    "        f1_scores = []\n",
    "        for i in range(targets.shape[1]):\n",
    "            class_roc_auc = auroc(preds[:, i], targets[:, i])\n",
    "            self.log(\n",
    "                f\"{self.empty_dataset.sectorid_to_sectorname[i]}_roc_auc/Train\",\n",
    "                class_roc_auc)\n",
    "            class_f1 = metrics.f1_score(targets[:, i], preds[:, i])\n",
    "            self.log(\n",
    "                f\"{self.empty_dataset.sectorid_to_sectorname[i]}_f1/Train\",\n",
    "                class_f1)\n",
    "\n",
    "    def predict_step(self, batch, batch_idx, dataloader_idx=None):\n",
    "        output = self(batch)\n",
    "        return {\"logits\": output}\n",
    "\n",
    "    def on_predict_epoch_end(self, outputs):\n",
    "        logits = torch.cat([output[\"logits\"] for output in outputs[0]])\n",
    "        preds = torch.sigmoid(logits) >= self.pred_threshold\n",
    "        pred_classes = []\n",
    "        for pred in preds:\n",
    "            pred_classes_i = [\n",
    "                self.empty_dataset.sectorid_to_sectorname[i]\n",
    "                for i, p in enumerate(pred) if p\n",
    "            ]\n",
    "            pred_classes.append(pred_classes_i)\n",
    "        self.log({\"pred_classes\": pred_classes})\n",
    "\n",
    "    def custom_predict(self, inputs):\n",
    "        self.eval()\n",
    "        self.freeze()\n",
    "        as_batch = False\n",
    "        if isinstance(inputs, str):\n",
    "            as_batch = True\n",
    "        inputs = self.empty_dataset.encode_example(inputs, as_batch)\n",
    "\n",
    "        with torch.no_grad():\n",
    "            logits = self(inputs)\n",
    "        preds = (torch.sigmoid(logits) >= self.pred_threshold)\n",
    "        pred_classes = []\n",
    "        for pred in preds:\n",
    "            pred_classes_i = [\n",
    "                self.empty_dataset.sectorid_to_sectorname[i]\n",
    "                for i, p in enumerate(pred) if p\n",
    "            ]\n",
    "            pred_classes.append(pred_classes_i)\n",
    "        return pred_classes\n",
    "\n",
    "    def total_steps(self) -> int:\n",
    "        \"\"\"The number of total training steps that will be run. Used for lr scheduler purposes.\"\"\"\n",
    "        self.dataset_size = len(self.train_dataloader().dataset)\n",
    "        num_devices = max(1, self.hparams.gpus)  # TODO: consider num_tpu_cores\n",
    "        effective_batch_size = self.hparams.train_batch_size * self.hparams.accumulate_grad_batches * num_devices\n",
    "        return (self.dataset_size /\n",
    "                effective_batch_size) * self.hparams.max_epochs\n",
    "\n",
    "    def configure_optimizers(self):\n",
    "        \"Prepare optimizer and schedule (linear warmup and decay)\"\n",
    "        model = self.model\n",
    "        no_decay = [\"bias\", \"LayerNorm.weight\"]\n",
    "        optimizer_grouped_parameters = [\n",
    "            {\n",
    "                \"params\": [\n",
    "                    p for n, p in model.named_parameters()\n",
    "                    if not any(nd in n for nd in no_decay)\n",
    "                ],\n",
    "                \"weight_decay\":\n",
    "                self.hparams.weight_decay,\n",
    "            },\n",
    "            {\n",
    "                \"params\": [\n",
    "                    p for n, p in model.named_parameters()\n",
    "                    if any(nd in n for nd in no_decay)\n",
    "                ],\n",
    "                \"weight_decay\":\n",
    "                0.0,\n",
    "            },\n",
    "        ]\n",
    "        optimizer = AdamW(optimizer_grouped_parameters,\n",
    "                          lr=self.hparams.learning_rate,\n",
    "                          eps=self.hparams.adam_epsilon)\n",
    "\n",
    "        scheduler = get_linear_schedule_with_warmup(\n",
    "            optimizer,\n",
    "            num_warmup_steps=self.hparams.warmup_steps,\n",
    "            num_training_steps=self.total_steps())\n",
    "        scheduler = {\n",
    "            'scheduler': scheduler,\n",
    "            'interval': 'step',\n",
    "            'frequency': 1\n",
    "        }\n",
    "        return [optimizer], [scheduler]\n",
    "\n",
    "    def train_dataloader(self):\n",
    "        return training_loader\n",
    "\n",
    "    def val_dataloader(self):\n",
    "        return val_loader\n",
    "    \n",
    "    def custom_eval(self, eval_dataloader):\n",
    "        if self.device.type == \"cpu\":\n",
    "            self.to(\"cuda\")\n",
    "        self.eval()\n",
    "        self.freeze()\n",
    "        preds_val_all = []\n",
    "        y_true = []\n",
    "\n",
    "        with torch.no_grad():\n",
    "            for batch in tqdm(eval_dataloader, total=len(eval_dataloader.dataset)//eval_dataloader.batch_size):\n",
    "                logits = self({\"ids\": batch[\"ids\"].to(\"cuda\"), \"mask\": batch[\"mask\"].to(\"cuda\"), \"token_type_ids\": batch[\"token_type_ids\"].to(\"cuda\")})\n",
    "                preds_batch = np.zeros(logits.shape, dtype=np.int)\n",
    "                preds_batch[(torch.sigmoid(logits) > self.pred_threshold).cpu().nonzero(as_tuple=True)] = 1\n",
    "                preds_val_all.append(preds_batch)\n",
    "                y_true.append(batch[\"targets\"].numpy().astype(np.int))\n",
    "\n",
    "        preds_val_all = np.concatenate(preds_val_all)\n",
    "        y_true = np.concatenate(y_true)\n",
    "\n",
    "        f1_scores = []\n",
    "        recalls = []\n",
    "        precisions = []\n",
    "        accuracies = []\n",
    "        supports = []\n",
    "        tagname_to_tagid = self.empty_dataset.tagname_to_tagid\n",
    "        for tag_name, tag_id in tagname_to_tagid.items():\n",
    "            cls_rprt = classification_report(y_true[:, tag_id], preds_val_all[:, tag_id], output_dict=True)\n",
    "            precisions.append(cls_rprt[\"macro avg\"][\"precision\"])\n",
    "            recalls.append(cls_rprt[\"macro avg\"][\"recall\"])\n",
    "            f1_scores.append(cls_rprt[\"macro avg\"][\"f1-score\"])\n",
    "            supports.append(cls_rprt[\"1\"][\"support\"])\n",
    "            accuracies.append(cls_rprt[\"accuracy\"])\n",
    "\n",
    "        metrics_df = pd.DataFrame({\n",
    "            \"Sector\": list(tagname_to_tagid.keys()),\n",
    "            \"Precision\": precisions,\n",
    "            \"Recall\": recalls,\n",
    "            \"F1 Score\": f1_scores,\n",
    "            \"Accuracy\": accuracies,\n",
    "            \"Support\": supports,\n",
    "        })\n",
    "        return metrics_df\n",
    "        #multilabel_confusion_matrix()"
   ]
  },
  {
   "cell_type": "code",
   "execution_count": 15,
   "metadata": {},
   "outputs": [],
   "source": [
    "log_dir_name = \"-\".join(MODEL_NAME.split(\"/\"))"
   ]
  },
  {
   "cell_type": "code",
   "execution_count": 16,
   "metadata": {
    "ExecuteTime": {
     "end_time": "2021-06-01T15:04:59.876834Z",
     "start_time": "2021-06-01T15:04:59.868499Z"
    }
   },
   "outputs": [],
   "source": [
    "dirpath = f\"./checkpoints-{log_dir_name}\"\n",
    "if not os.path.exists(dirpath):\n",
    "    os.makedirs(dirpath)\n",
    "checkpoint_callback = ModelCheckpoint(\n",
    "  dirpath=dirpath,\n",
    "  save_top_k=1,\n",
    "  verbose=True,\n",
    "  monitor=\"val_loss\",\n",
    "  mode=\"min\"\n",
    ")"
   ]
  },
  {
   "cell_type": "code",
   "execution_count": 17,
   "metadata": {
    "ExecuteTime": {
     "end_time": "2021-06-01T15:05:23.222350Z",
     "start_time": "2021-06-01T15:05:23.216450Z"
    }
   },
   "outputs": [],
   "source": [
    "logger = TensorBoardLogger(\"lightning_logs\", name=f\"sector-and-pillar-classifier-{log_dir_name}\")"
   ]
  },
  {
   "cell_type": "code",
   "execution_count": 18,
   "metadata": {
    "ExecuteTime": {
     "end_time": "2021-06-01T15:05:36.062619Z",
     "start_time": "2021-06-01T15:05:36.056457Z"
    }
   },
   "outputs": [],
   "source": [
    "early_stopping_callback = EarlyStopping(monitor='val_loss', patience=2)"
   ]
  },
  {
   "cell_type": "code",
   "execution_count": 19,
   "metadata": {
    "ExecuteTime": {
     "end_time": "2021-06-01T15:02:36.756808Z",
     "start_time": "2021-06-01T15:02:35.143455Z"
    }
   },
   "outputs": [
    {
     "name": "stderr",
     "output_type": "stream",
     "text": [
      "GPU available: True, used: True\n",
      "TPU available: False, using: 0 TPU cores\n"
     ]
    }
   ],
   "source": [
    "trainer = pl.Trainer(\n",
    "    logger=logger,\n",
    "    callbacks=[early_stopping_callback, checkpoint_callback],\n",
    "    progress_bar_refresh_rate=30,\n",
    "    profiler=\"simple\",\n",
    "    log_gpu_memory=True,\n",
    "    weights_summary=None,\n",
    "    gpus=1,\n",
    "    accumulate_grad_batches=1,\n",
    "    max_epochs=EPOCHS,\n",
    "    gradient_clip_val=1,\n",
    "    gradient_clip_algorithm='norm',\n",
    "    #overfit_batches=1,\n",
    "    #limit_predict_batches=2,\n",
    "    #limit_test_batches=2,\n",
    "    #fast_dev_run=True,\n",
    "    #limit_train_batches=1,\n",
    "    #limit_val_batches=1,\n",
    "    #limit_test_batches: Union[int, float] = 1.0,\n",
    ")"
   ]
  },
  {
   "cell_type": "code",
   "execution_count": 20,
   "metadata": {
    "ExecuteTime": {
     "end_time": "2021-06-01T15:02:51.684436Z",
     "start_time": "2021-06-01T15:02:41.889881Z"
    }
   },
   "outputs": [],
   "source": [
    "empty_dataset = CustomDataset(None, tagname_to_tagid, tokenizer,\n",
    "                         MAX_LEN)\n",
    "model = Transformer(MODEL_NAME,\n",
    "                           len(tagname_to_tagid),\n",
    "                           empty_dataset,\n",
    "                           gpus=1,\n",
    "                           precision=16,\n",
    "                           plugin='deepspeed_stage_3_offload',\n",
    "                           accumulate_grad_batches=1,\n",
    "                           max_epochs=EPOCHS)"
   ]
  },
  {
   "cell_type": "code",
   "execution_count": null,
   "metadata": {
    "ExecuteTime": {
     "end_time": "2021-05-24T13:40:56.746204Z",
     "start_time": "2021-05-24T13:39:46.376623Z"
    },
    "scrolled": true
   },
   "outputs": [
    {
     "name": "stderr",
     "output_type": "stream",
     "text": [
      "LOCAL_RANK: 0 - CUDA_VISIBLE_DEVICES: [0]\n"
     ]
    },
    {
     "data": {
      "application/vnd.jupyter.widget-view+json": {
       "model_id": "5061f2a95a08430aba24077d85eb8e94",
       "version_major": 2,
       "version_minor": 0
      },
      "text/plain": [
       "Validation sanity check: 0it [00:00, ?it/s]"
      ]
     },
     "metadata": {},
     "output_type": "display_data"
    },
    {
     "name": "stderr",
     "output_type": "stream",
     "text": [
      "Global seed set to 2021\n"
     ]
    },
    {
     "data": {
      "application/vnd.jupyter.widget-view+json": {
       "model_id": "c04acd44ce6b4ee5a96cab42144e6cf7",
       "version_major": 2,
       "version_minor": 0
      },
      "text/plain": [
       "Training: 0it [00:00, ?it/s]"
      ]
     },
     "metadata": {},
     "output_type": "display_data"
    },
    {
     "data": {
      "application/vnd.jupyter.widget-view+json": {
       "model_id": "",
       "version_major": 2,
       "version_minor": 0
      },
      "text/plain": [
       "Validating: 0it [00:00, ?it/s]"
      ]
     },
     "metadata": {},
     "output_type": "display_data"
    },
    {
     "name": "stderr",
     "output_type": "stream",
     "text": [
      "Epoch 0, global step 2832: val_loss reached 0.17165 (best 0.17165), saving model to \"/home/ec2-user/SageMaker/deep-experiments/notebooks/models/abdullah/modeling_data_v0.4.3/checkpoints-microsoft-xtremedistil-l6-h384-uncased/epoch=0-step=2832.ckpt\" as top 1\n",
      "/home/ec2-user/anaconda3/envs/pytorch_latest_p36/lib/python3.6/site-packages/torch/optim/lr_scheduler.py:216: UserWarning: Please also save or load the state of the optimizer when saving or loading the scheduler.\n",
      "  warnings.warn(SAVE_STATE_WARNING, UserWarning)\n"
     ]
    },
    {
     "data": {
      "application/vnd.jupyter.widget-view+json": {
       "model_id": "",
       "version_major": 2,
       "version_minor": 0
      },
      "text/plain": [
       "Validating: 0it [00:00, ?it/s]"
      ]
     },
     "metadata": {},
     "output_type": "display_data"
    },
    {
     "name": "stderr",
     "output_type": "stream",
     "text": [
      "Epoch 1, global step 5665: val_loss reached 0.14278 (best 0.14278), saving model to \"/home/ec2-user/SageMaker/deep-experiments/notebooks/models/abdullah/modeling_data_v0.4.3/checkpoints-microsoft-xtremedistil-l6-h384-uncased/epoch=1-step=5665.ckpt\" as top 1\n"
     ]
    },
    {
     "data": {
      "application/vnd.jupyter.widget-view+json": {
       "model_id": "",
       "version_major": 2,
       "version_minor": 0
      },
      "text/plain": [
       "Validating: 0it [00:00, ?it/s]"
      ]
     },
     "metadata": {},
     "output_type": "display_data"
    },
    {
     "name": "stderr",
     "output_type": "stream",
     "text": [
      "Epoch 2, global step 8498: val_loss was not in top 1\n",
      "FIT Profiler Report\n",
      "\n",
      "Action                             \t|  Mean duration (s)\t|Num calls      \t|  Total time (s) \t|  Percentage %   \t|\n",
      "--------------------------------------------------------------------------------------------------------------------------------------\n",
      "Total                              \t|  -              \t|_              \t|  3610.8         \t|  100 %          \t|\n",
      "--------------------------------------------------------------------------------------------------------------------------------------\n",
      "run_training_epoch                 \t|  1202.0         \t|3              \t|  3605.9         \t|  99.867         \t|\n",
      "run_training_batch                 \t|  0.40255        \t|8499           \t|  3421.3         \t|  94.753         \t|\n",
      "optimizer_step_and_closure_0       \t|  0.40194        \t|8499           \t|  3416.1         \t|  94.608         \t|\n",
      "training_step_and_backward         \t|  0.38579        \t|8499           \t|  3278.8         \t|  90.807         \t|\n",
      "backward                           \t|  0.23505        \t|8499           \t|  1997.6         \t|  55.325         \t|\n",
      "model_forward                      \t|  0.14677        \t|8499           \t|  1247.4         \t|  34.546         \t|\n",
      "training_step                      \t|  0.14634        \t|8499           \t|  1243.7         \t|  34.445         \t|\n",
      "evaluation_step_and_end            \t|  0.2765         \t|476            \t|  131.62         \t|  3.6451         \t|\n",
      "validation_step                    \t|  0.27619        \t|476            \t|  131.47         \t|  3.641          \t|\n",
      "get_train_batch                    \t|  0.002807       \t|8499           \t|  23.857         \t|  0.66071        \t|\n",
      "on_validation_end                  \t|  0.56583        \t|4              \t|  2.2633         \t|  0.062682       \t|\n",
      "on_train_batch_end                 \t|  0.00022416     \t|8499           \t|  1.9051         \t|  0.052762       \t|\n",
      "cache_result                       \t|  3.054e-05      \t|35469          \t|  1.0832         \t|  0.03           \t|\n",
      "on_after_backward                  \t|  4.4568e-05     \t|8499           \t|  0.37878        \t|  0.01049        \t|\n",
      "on_before_zero_grad                \t|  2.738e-05      \t|8499           \t|  0.2327         \t|  0.0064448      \t|\n",
      "on_batch_start                     \t|  2.7002e-05     \t|8499           \t|  0.22949        \t|  0.0063557      \t|\n",
      "on_batch_end                       \t|  2.619e-05      \t|8499           \t|  0.22258        \t|  0.0061645      \t|\n",
      "training_step_end                  \t|  2.254e-05      \t|8499           \t|  0.19157        \t|  0.0053054      \t|\n",
      "on_train_batch_start               \t|  1.8532e-05     \t|8499           \t|  0.1575         \t|  0.0043621      \t|\n",
      "on_validation_start                \t|  0.026683       \t|4              \t|  0.10673        \t|  0.0029559      \t|\n",
      "on_validation_batch_end            \t|  0.0001856      \t|476            \t|  0.088344       \t|  0.0024467      \t|\n",
      "on_train_start                     \t|  0.055915       \t|1              \t|  0.055915       \t|  0.0015486      \t|\n",
      "on_validation_batch_start          \t|  2.719e-05      \t|476            \t|  0.012942       \t|  0.00035844     \t|\n",
      "validation_step_end                \t|  2.0055e-05     \t|476            \t|  0.0095463      \t|  0.00026438     \t|\n",
      "on_train_epoch_start               \t|  0.0026639      \t|3              \t|  0.0079918      \t|  0.00022133     \t|\n",
      "on_train_end                       \t|  0.0012037      \t|1              \t|  0.0012037      \t|  3.3335e-05     \t|\n",
      "on_train_epoch_end                 \t|  0.0002514      \t|3              \t|  0.00075421     \t|  2.0888e-05     \t|\n",
      "on_epoch_start                     \t|  3.027e-05      \t|7              \t|  0.00021189     \t|  5.8682e-06     \t|\n",
      "on_epoch_end                       \t|  2.1928e-05     \t|7              \t|  0.00015349     \t|  4.251e-06      \t|\n",
      "on_validation_epoch_end            \t|  3.1567e-05     \t|4              \t|  0.00012627     \t|  3.497e-06      \t|\n",
      "on_validation_epoch_start          \t|  3.0361e-05     \t|4              \t|  0.00012144     \t|  3.3633e-06     \t|\n",
      "on_fit_start                       \t|  3.6499e-05     \t|1              \t|  3.6499e-05     \t|  1.0108e-06     \t|\n",
      "on_val_dataloader                  \t|  2.9304e-05     \t|1              \t|  2.9304e-05     \t|  8.1158e-07     \t|\n",
      "on_before_accelerator_backend_setup\t|  2.7952e-05     \t|1              \t|  2.7952e-05     \t|  7.7413e-07     \t|\n",
      "on_train_dataloader                \t|  1.7202e-05     \t|1              \t|  1.7202e-05     \t|  4.7641e-07     \t|\n",
      "\n"
     ]
    }
   ],
   "source": [
    "trainer.fit(model)"
   ]
  },
  {
   "cell_type": "code",
   "execution_count": null,
   "metadata": {},
   "outputs": [
    {
     "data": {
      "application/vnd.jupyter.widget-view+json": {
       "model_id": "69d644dd80604972834b715d26200679",
       "version_major": 2,
       "version_minor": 0
      },
      "text/plain": [
       "  0%|          | 0/157 [00:00<?, ?it/s]"
      ]
     },
     "metadata": {},
     "output_type": "display_data"
    },
    {
     "name": "stderr",
     "output_type": "stream",
     "text": [
      "/home/ec2-user/anaconda3/envs/pytorch_latest_p36/lib/python3.6/site-packages/sklearn/metrics/_classification.py:1245: UndefinedMetricWarning: Precision and F-score are ill-defined and being set to 0.0 in labels with no predicted samples. Use `zero_division` parameter to control this behavior.\n",
      "  _warn_prf(average, modifier, msg_start, len(result))\n",
      "/home/ec2-user/anaconda3/envs/pytorch_latest_p36/lib/python3.6/site-packages/sklearn/metrics/_classification.py:1245: UndefinedMetricWarning: Precision and F-score are ill-defined and being set to 0.0 in labels with no predicted samples. Use `zero_division` parameter to control this behavior.\n",
      "  _warn_prf(average, modifier, msg_start, len(result))\n",
      "/home/ec2-user/anaconda3/envs/pytorch_latest_p36/lib/python3.6/site-packages/sklearn/metrics/_classification.py:1245: UndefinedMetricWarning: Precision and F-score are ill-defined and being set to 0.0 in labels with no predicted samples. Use `zero_division` parameter to control this behavior.\n",
      "  _warn_prf(average, modifier, msg_start, len(result))\n",
      "/home/ec2-user/anaconda3/envs/pytorch_latest_p36/lib/python3.6/site-packages/sklearn/metrics/_classification.py:1245: UndefinedMetricWarning: Precision and F-score are ill-defined and being set to 0.0 in labels with no predicted samples. Use `zero_division` parameter to control this behavior.\n",
      "  _warn_prf(average, modifier, msg_start, len(result))\n",
      "/home/ec2-user/anaconda3/envs/pytorch_latest_p36/lib/python3.6/site-packages/sklearn/metrics/_classification.py:1245: UndefinedMetricWarning: Precision and F-score are ill-defined and being set to 0.0 in labels with no predicted samples. Use `zero_division` parameter to control this behavior.\n",
      "  _warn_prf(average, modifier, msg_start, len(result))\n",
      "/home/ec2-user/anaconda3/envs/pytorch_latest_p36/lib/python3.6/site-packages/sklearn/metrics/_classification.py:1245: UndefinedMetricWarning: Precision and F-score are ill-defined and being set to 0.0 in labels with no predicted samples. Use `zero_division` parameter to control this behavior.\n",
      "  _warn_prf(average, modifier, msg_start, len(result))\n"
     ]
    },
    {
     "data": {
      "text/html": [
       "<div>\n",
       "<style scoped>\n",
       "    .dataframe tbody tr th:only-of-type {\n",
       "        vertical-align: middle;\n",
       "    }\n",
       "\n",
       "    .dataframe tbody tr th {\n",
       "        vertical-align: top;\n",
       "    }\n",
       "\n",
       "    .dataframe thead th {\n",
       "        text-align: right;\n",
       "    }\n",
       "</style>\n",
       "<table border=\"1\" class=\"dataframe\">\n",
       "  <thead>\n",
       "    <tr style=\"text-align: right;\">\n",
       "      <th></th>\n",
       "      <th>Sector</th>\n",
       "      <th>Precision</th>\n",
       "      <th>Recall</th>\n",
       "      <th>F1 Score</th>\n",
       "      <th>Accuracy</th>\n",
       "      <th>Support</th>\n",
       "    </tr>\n",
       "  </thead>\n",
       "  <tbody>\n",
       "    <tr>\n",
       "      <th>0</th>\n",
       "      <td>Agriculture</td>\n",
       "      <td>0.905343</td>\n",
       "      <td>0.510679</td>\n",
       "      <td>0.515169</td>\n",
       "      <td>0.977266</td>\n",
       "      <td>233</td>\n",
       "    </tr>\n",
       "    <tr>\n",
       "      <th>1</th>\n",
       "      <td>Capacities &amp; Response</td>\n",
       "      <td>0.705278</td>\n",
       "      <td>0.619934</td>\n",
       "      <td>0.647198</td>\n",
       "      <td>0.902809</td>\n",
       "      <td>962</td>\n",
       "    </tr>\n",
       "    <tr>\n",
       "      <th>2</th>\n",
       "      <td>Cross</td>\n",
       "      <td>0.750701</td>\n",
       "      <td>0.668022</td>\n",
       "      <td>0.691464</td>\n",
       "      <td>0.816639</td>\n",
       "      <td>2286</td>\n",
       "    </tr>\n",
       "    <tr>\n",
       "      <th>3</th>\n",
       "      <td>Education</td>\n",
       "      <td>0.895042</td>\n",
       "      <td>0.881670</td>\n",
       "      <td>0.888213</td>\n",
       "      <td>0.966544</td>\n",
       "      <td>836</td>\n",
       "    </tr>\n",
       "    <tr>\n",
       "      <th>4</th>\n",
       "      <td>Food Security</td>\n",
       "      <td>0.893058</td>\n",
       "      <td>0.866055</td>\n",
       "      <td>0.878892</td>\n",
       "      <td>0.951752</td>\n",
       "      <td>1176</td>\n",
       "    </tr>\n",
       "    <tr>\n",
       "      <th>5</th>\n",
       "      <td>Health</td>\n",
       "      <td>0.869537</td>\n",
       "      <td>0.856106</td>\n",
       "      <td>0.862415</td>\n",
       "      <td>0.890996</td>\n",
       "      <td>2822</td>\n",
       "    </tr>\n",
       "    <tr>\n",
       "      <th>6</th>\n",
       "      <td>Humanitarian Conditions</td>\n",
       "      <td>0.730713</td>\n",
       "      <td>0.695184</td>\n",
       "      <td>0.707002</td>\n",
       "      <td>0.769979</td>\n",
       "      <td>3055</td>\n",
       "    </tr>\n",
       "    <tr>\n",
       "      <th>7</th>\n",
       "      <td>Impact</td>\n",
       "      <td>0.713439</td>\n",
       "      <td>0.624882</td>\n",
       "      <td>0.644541</td>\n",
       "      <td>0.805818</td>\n",
       "      <td>2168</td>\n",
       "    </tr>\n",
       "    <tr>\n",
       "      <th>8</th>\n",
       "      <td>Livelihoods</td>\n",
       "      <td>0.812810</td>\n",
       "      <td>0.756634</td>\n",
       "      <td>0.780638</td>\n",
       "      <td>0.910255</td>\n",
       "      <td>1297</td>\n",
       "    </tr>\n",
       "    <tr>\n",
       "      <th>9</th>\n",
       "      <td>Logistics</td>\n",
       "      <td>0.738283</td>\n",
       "      <td>0.502059</td>\n",
       "      <td>0.498231</td>\n",
       "      <td>0.976472</td>\n",
       "      <td>237</td>\n",
       "    </tr>\n",
       "    <tr>\n",
       "      <th>10</th>\n",
       "      <td>Nutrition</td>\n",
       "      <td>0.936196</td>\n",
       "      <td>0.839213</td>\n",
       "      <td>0.881086</td>\n",
       "      <td>0.983520</td>\n",
       "      <td>409</td>\n",
       "    </tr>\n",
       "    <tr>\n",
       "      <th>11</th>\n",
       "      <td>People At Risk</td>\n",
       "      <td>0.682100</td>\n",
       "      <td>0.508368</td>\n",
       "      <td>0.498434</td>\n",
       "      <td>0.925146</td>\n",
       "      <td>750</td>\n",
       "    </tr>\n",
       "    <tr>\n",
       "      <th>12</th>\n",
       "      <td>Priority Interventions</td>\n",
       "      <td>0.491810</td>\n",
       "      <td>0.500000</td>\n",
       "      <td>0.495871</td>\n",
       "      <td>0.983620</td>\n",
       "      <td>165</td>\n",
       "    </tr>\n",
       "    <tr>\n",
       "      <th>13</th>\n",
       "      <td>Priority Needs</td>\n",
       "      <td>0.489775</td>\n",
       "      <td>0.500000</td>\n",
       "      <td>0.494835</td>\n",
       "      <td>0.979549</td>\n",
       "      <td>206</td>\n",
       "    </tr>\n",
       "    <tr>\n",
       "      <th>14</th>\n",
       "      <td>Protection</td>\n",
       "      <td>0.849033</td>\n",
       "      <td>0.811880</td>\n",
       "      <td>0.828237</td>\n",
       "      <td>0.889606</td>\n",
       "      <td>2178</td>\n",
       "    </tr>\n",
       "    <tr>\n",
       "      <th>15</th>\n",
       "      <td>Shelter</td>\n",
       "      <td>0.886490</td>\n",
       "      <td>0.751304</td>\n",
       "      <td>0.801844</td>\n",
       "      <td>0.953837</td>\n",
       "      <td>767</td>\n",
       "    </tr>\n",
       "    <tr>\n",
       "      <th>16</th>\n",
       "      <td>WASH</td>\n",
       "      <td>0.887930</td>\n",
       "      <td>0.877676</td>\n",
       "      <td>0.882716</td>\n",
       "      <td>0.962672</td>\n",
       "      <td>891</td>\n",
       "    </tr>\n",
       "  </tbody>\n",
       "</table>\n",
       "</div>"
      ],
      "text/plain": [
       "                     Sector  Precision    Recall  F1 Score  Accuracy  Support\n",
       "0               Agriculture   0.905343  0.510679  0.515169  0.977266      233\n",
       "1     Capacities & Response   0.705278  0.619934  0.647198  0.902809      962\n",
       "2                     Cross   0.750701  0.668022  0.691464  0.816639     2286\n",
       "3                 Education   0.895042  0.881670  0.888213  0.966544      836\n",
       "4             Food Security   0.893058  0.866055  0.878892  0.951752     1176\n",
       "5                    Health   0.869537  0.856106  0.862415  0.890996     2822\n",
       "6   Humanitarian Conditions   0.730713  0.695184  0.707002  0.769979     3055\n",
       "7                    Impact   0.713439  0.624882  0.644541  0.805818     2168\n",
       "8               Livelihoods   0.812810  0.756634  0.780638  0.910255     1297\n",
       "9                 Logistics   0.738283  0.502059  0.498231  0.976472      237\n",
       "10                Nutrition   0.936196  0.839213  0.881086  0.983520      409\n",
       "11           People At Risk   0.682100  0.508368  0.498434  0.925146      750\n",
       "12   Priority Interventions   0.491810  0.500000  0.495871  0.983620      165\n",
       "13           Priority Needs   0.489775  0.500000  0.494835  0.979549      206\n",
       "14               Protection   0.849033  0.811880  0.828237  0.889606     2178\n",
       "15                  Shelter   0.886490  0.751304  0.801844  0.953837      767\n",
       "16                     WASH   0.887930  0.877676  0.882716  0.962672      891"
      ]
     },
     "execution_count": 22,
     "metadata": {},
     "output_type": "execute_result"
    }
   ],
   "source": [
    "df_metrics_val = model.custom_eval(val_loader)\n",
    "df_metrics_val"
   ]
  },
  {
   "cell_type": "code",
   "execution_count": null,
   "metadata": {},
   "outputs": [
    {
     "data": {
      "application/vnd.jupyter.widget-view+json": {
       "model_id": "657e260106a247caaa047336d32cc40c",
       "version_major": 2,
       "version_minor": 0
      },
      "text/plain": [
       "  0%|          | 0/2832 [00:00<?, ?it/s]"
      ]
     },
     "metadata": {},
     "output_type": "display_data"
    },
    {
     "name": "stderr",
     "output_type": "stream",
     "text": [
      "/home/ec2-user/anaconda3/envs/pytorch_latest_p36/lib/python3.6/site-packages/sklearn/metrics/_classification.py:1245: UndefinedMetricWarning: Precision and F-score are ill-defined and being set to 0.0 in labels with no predicted samples. Use `zero_division` parameter to control this behavior.\n",
      "  _warn_prf(average, modifier, msg_start, len(result))\n",
      "/home/ec2-user/anaconda3/envs/pytorch_latest_p36/lib/python3.6/site-packages/sklearn/metrics/_classification.py:1245: UndefinedMetricWarning: Precision and F-score are ill-defined and being set to 0.0 in labels with no predicted samples. Use `zero_division` parameter to control this behavior.\n",
      "  _warn_prf(average, modifier, msg_start, len(result))\n",
      "/home/ec2-user/anaconda3/envs/pytorch_latest_p36/lib/python3.6/site-packages/sklearn/metrics/_classification.py:1245: UndefinedMetricWarning: Precision and F-score are ill-defined and being set to 0.0 in labels with no predicted samples. Use `zero_division` parameter to control this behavior.\n",
      "  _warn_prf(average, modifier, msg_start, len(result))\n",
      "/home/ec2-user/anaconda3/envs/pytorch_latest_p36/lib/python3.6/site-packages/sklearn/metrics/_classification.py:1245: UndefinedMetricWarning: Precision and F-score are ill-defined and being set to 0.0 in labels with no predicted samples. Use `zero_division` parameter to control this behavior.\n",
      "  _warn_prf(average, modifier, msg_start, len(result))\n",
      "/home/ec2-user/anaconda3/envs/pytorch_latest_p36/lib/python3.6/site-packages/sklearn/metrics/_classification.py:1245: UndefinedMetricWarning: Precision and F-score are ill-defined and being set to 0.0 in labels with no predicted samples. Use `zero_division` parameter to control this behavior.\n",
      "  _warn_prf(average, modifier, msg_start, len(result))\n",
      "/home/ec2-user/anaconda3/envs/pytorch_latest_p36/lib/python3.6/site-packages/sklearn/metrics/_classification.py:1245: UndefinedMetricWarning: Precision and F-score are ill-defined and being set to 0.0 in labels with no predicted samples. Use `zero_division` parameter to control this behavior.\n",
      "  _warn_prf(average, modifier, msg_start, len(result))\n"
     ]
    },
    {
     "data": {
      "text/html": [
       "<div>\n",
       "<style scoped>\n",
       "    .dataframe tbody tr th:only-of-type {\n",
       "        vertical-align: middle;\n",
       "    }\n",
       "\n",
       "    .dataframe tbody tr th {\n",
       "        vertical-align: top;\n",
       "    }\n",
       "\n",
       "    .dataframe thead th {\n",
       "        text-align: right;\n",
       "    }\n",
       "</style>\n",
       "<table border=\"1\" class=\"dataframe\">\n",
       "  <thead>\n",
       "    <tr style=\"text-align: right;\">\n",
       "      <th></th>\n",
       "      <th>Sector</th>\n",
       "      <th>Precision</th>\n",
       "      <th>Recall</th>\n",
       "      <th>F1 Score</th>\n",
       "      <th>Accuracy</th>\n",
       "      <th>Support</th>\n",
       "    </tr>\n",
       "  </thead>\n",
       "  <tbody>\n",
       "    <tr>\n",
       "      <th>0</th>\n",
       "      <td>Agriculture</td>\n",
       "      <td>0.957485</td>\n",
       "      <td>0.514256</td>\n",
       "      <td>0.522006</td>\n",
       "      <td>0.977441</td>\n",
       "      <td>2101</td>\n",
       "    </tr>\n",
       "    <tr>\n",
       "      <th>1</th>\n",
       "      <td>Capacities &amp; Response</td>\n",
       "      <td>0.801678</td>\n",
       "      <td>0.650571</td>\n",
       "      <td>0.693978</td>\n",
       "      <td>0.919010</td>\n",
       "      <td>8772</td>\n",
       "    </tr>\n",
       "    <tr>\n",
       "      <th>2</th>\n",
       "      <td>Cross</td>\n",
       "      <td>0.787018</td>\n",
       "      <td>0.698484</td>\n",
       "      <td>0.725705</td>\n",
       "      <td>0.835163</td>\n",
       "      <td>20577</td>\n",
       "    </tr>\n",
       "    <tr>\n",
       "      <th>3</th>\n",
       "      <td>Education</td>\n",
       "      <td>0.913952</td>\n",
       "      <td>0.917452</td>\n",
       "      <td>0.915693</td>\n",
       "      <td>0.974231</td>\n",
       "      <td>7522</td>\n",
       "    </tr>\n",
       "    <tr>\n",
       "      <th>4</th>\n",
       "      <td>Food Security</td>\n",
       "      <td>0.891416</td>\n",
       "      <td>0.874083</td>\n",
       "      <td>0.882476</td>\n",
       "      <td>0.952588</td>\n",
       "      <td>10585</td>\n",
       "    </tr>\n",
       "    <tr>\n",
       "      <th>5</th>\n",
       "      <td>Health</td>\n",
       "      <td>0.897781</td>\n",
       "      <td>0.876563</td>\n",
       "      <td>0.886272</td>\n",
       "      <td>0.910637</td>\n",
       "      <td>25400</td>\n",
       "    </tr>\n",
       "    <tr>\n",
       "      <th>6</th>\n",
       "      <td>Humanitarian Conditions</td>\n",
       "      <td>0.776015</td>\n",
       "      <td>0.726066</td>\n",
       "      <td>0.742835</td>\n",
       "      <td>0.805004</td>\n",
       "      <td>26491</td>\n",
       "    </tr>\n",
       "    <tr>\n",
       "      <th>7</th>\n",
       "      <td>Impact</td>\n",
       "      <td>0.789151</td>\n",
       "      <td>0.676293</td>\n",
       "      <td>0.706665</td>\n",
       "      <td>0.839266</td>\n",
       "      <td>19253</td>\n",
       "    </tr>\n",
       "    <tr>\n",
       "      <th>8</th>\n",
       "      <td>Livelihoods</td>\n",
       "      <td>0.840579</td>\n",
       "      <td>0.751104</td>\n",
       "      <td>0.786198</td>\n",
       "      <td>0.916362</td>\n",
       "      <td>11672</td>\n",
       "    </tr>\n",
       "    <tr>\n",
       "      <th>9</th>\n",
       "      <td>Logistics</td>\n",
       "      <td>0.816432</td>\n",
       "      <td>0.504204</td>\n",
       "      <td>0.503493</td>\n",
       "      <td>0.980607</td>\n",
       "      <td>1765</td>\n",
       "    </tr>\n",
       "    <tr>\n",
       "      <th>10</th>\n",
       "      <td>Nutrition</td>\n",
       "      <td>0.914949</td>\n",
       "      <td>0.839250</td>\n",
       "      <td>0.872938</td>\n",
       "      <td>0.982008</td>\n",
       "      <td>3679</td>\n",
       "    </tr>\n",
       "    <tr>\n",
       "      <th>11</th>\n",
       "      <td>People At Risk</td>\n",
       "      <td>0.763778</td>\n",
       "      <td>0.511842</td>\n",
       "      <td>0.504916</td>\n",
       "      <td>0.926544</td>\n",
       "      <td>6715</td>\n",
       "    </tr>\n",
       "    <tr>\n",
       "      <th>12</th>\n",
       "      <td>Priority Interventions</td>\n",
       "      <td>0.491644</td>\n",
       "      <td>0.500000</td>\n",
       "      <td>0.495787</td>\n",
       "      <td>0.983288</td>\n",
       "      <td>1515</td>\n",
       "    </tr>\n",
       "    <tr>\n",
       "      <th>13</th>\n",
       "      <td>Priority Needs</td>\n",
       "      <td>0.489929</td>\n",
       "      <td>0.500000</td>\n",
       "      <td>0.494913</td>\n",
       "      <td>0.979857</td>\n",
       "      <td>1826</td>\n",
       "    </tr>\n",
       "    <tr>\n",
       "      <th>14</th>\n",
       "      <td>Protection</td>\n",
       "      <td>0.869650</td>\n",
       "      <td>0.827405</td>\n",
       "      <td>0.845867</td>\n",
       "      <td>0.901327</td>\n",
       "      <td>19601</td>\n",
       "    </tr>\n",
       "    <tr>\n",
       "      <th>15</th>\n",
       "      <td>Shelter</td>\n",
       "      <td>0.904975</td>\n",
       "      <td>0.784768</td>\n",
       "      <td>0.832403</td>\n",
       "      <td>0.959737</td>\n",
       "      <td>6904</td>\n",
       "    </tr>\n",
       "    <tr>\n",
       "      <th>16</th>\n",
       "      <td>WASH</td>\n",
       "      <td>0.913474</td>\n",
       "      <td>0.904136</td>\n",
       "      <td>0.908738</td>\n",
       "      <td>0.970900</td>\n",
       "      <td>8018</td>\n",
       "    </tr>\n",
       "  </tbody>\n",
       "</table>\n",
       "</div>"
      ],
      "text/plain": [
       "                     Sector  Precision    Recall  F1 Score  Accuracy  Support\n",
       "0               Agriculture   0.957485  0.514256  0.522006  0.977441     2101\n",
       "1     Capacities & Response   0.801678  0.650571  0.693978  0.919010     8772\n",
       "2                     Cross   0.787018  0.698484  0.725705  0.835163    20577\n",
       "3                 Education   0.913952  0.917452  0.915693  0.974231     7522\n",
       "4             Food Security   0.891416  0.874083  0.882476  0.952588    10585\n",
       "5                    Health   0.897781  0.876563  0.886272  0.910637    25400\n",
       "6   Humanitarian Conditions   0.776015  0.726066  0.742835  0.805004    26491\n",
       "7                    Impact   0.789151  0.676293  0.706665  0.839266    19253\n",
       "8               Livelihoods   0.840579  0.751104  0.786198  0.916362    11672\n",
       "9                 Logistics   0.816432  0.504204  0.503493  0.980607     1765\n",
       "10                Nutrition   0.914949  0.839250  0.872938  0.982008     3679\n",
       "11           People At Risk   0.763778  0.511842  0.504916  0.926544     6715\n",
       "12   Priority Interventions   0.491644  0.500000  0.495787  0.983288     1515\n",
       "13           Priority Needs   0.489929  0.500000  0.494913  0.979857     1826\n",
       "14               Protection   0.869650  0.827405  0.845867  0.901327    19601\n",
       "15                  Shelter   0.904975  0.784768  0.832403  0.959737     6904\n",
       "16                     WASH   0.913474  0.904136  0.908738  0.970900     8018"
      ]
     },
     "execution_count": 23,
     "metadata": {},
     "output_type": "execute_result"
    }
   ],
   "source": [
    "df_metrics_train = model.custom_eval(training_loader)\n",
    "df_metrics_train"
   ]
  },
  {
   "cell_type": "code",
   "execution_count": null,
   "metadata": {},
   "outputs": [],
   "source": []
  }
 ],
 "metadata": {
  "kernelspec": {
   "display_name": "conda_pytorch_latest_p36",
   "language": "python",
   "name": "conda_pytorch_latest_p36"
  },
  "language_info": {
   "codemirror_mode": {
    "name": "ipython",
    "version": 3
   },
   "file_extension": ".py",
   "mimetype": "text/x-python",
   "name": "python",
   "nbconvert_exporter": "python",
   "pygments_lexer": "ipython3",
   "version": "3.6.13"
  }
 },
 "nbformat": 4,
 "nbformat_minor": 4
}
