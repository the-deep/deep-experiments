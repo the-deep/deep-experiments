{
 "cells": [
  {
   "cell_type": "code",
   "execution_count": 1,
   "metadata": {
    "ExecuteTime": {
     "end_time": "2021-08-11T10:03:09.762515Z",
     "start_time": "2021-08-11T10:03:08.922252Z"
    }
   },
   "outputs": [],
   "source": [
    "import os\n",
    "import json\n",
    "import random\n",
    "from datetime import datetime as dt\n",
    "\n",
    "import fasttext\n",
    "import numpy as np\n",
    "import pandas as pd\n",
    "import seaborn as sns\n",
    "from tqdm.auto import tqdm\n",
    "import matplotlib.pyplot as plt\n",
    "\n",
    "from sklearn.utils import resample\n",
    "from sklearn.metrics import accuracy_score\n",
    "from sklearn.model_selection import ParameterGrid, StratifiedKFold, train_test_split\n",
    "from sklearn.metrics import accuracy_score, f1_score, classification_report\n",
    "\n",
    "import cleanlab\n",
    "from cleanlab.pruning import get_noise_indices\n",
    "from cleanlab.models.fasttext import FastTextClassifier, data_loader"
   ]
  },
  {
   "cell_type": "code",
   "execution_count": 2,
   "metadata": {
    "ExecuteTime": {
     "end_time": "2021-08-11T10:03:09.765900Z",
     "start_time": "2021-08-11T10:03:09.764042Z"
    }
   },
   "outputs": [],
   "source": [
    "RND_SEED = 2021\n",
    "np.random.seed(RND_SEED)\n",
    "random.seed(RND_SEED)"
   ]
  },
  {
   "cell_type": "code",
   "execution_count": 3,
   "metadata": {
    "ExecuteTime": {
     "end_time": "2021-08-11T10:03:10.699014Z",
     "start_time": "2021-08-11T10:03:09.768561Z"
    }
   },
   "outputs": [
    {
     "data": {
      "text/plain": [
       "array(['no_problem/minor_problem', 'of_concern', 'critical'], dtype=object)"
      ]
     },
     "execution_count": 3,
     "metadata": {},
     "output_type": "execute_result"
    }
   ],
   "source": [
    "df = pd.read_csv(\"severity_tags.csv\")\n",
    "df.drop(columns=['Unnamed: 0'], inplace=True)\n",
    "df[\"excerpt\"] = df[\"excerpt\"].str.replace(\"\\s+\", \" \", regex=True)\n",
    "df[\"tag_value\"] = df[\"tag_value\"].str.replace(\" \", \"_\").str.lower()\n",
    "df[\"tag_value\"].unique()"
   ]
  },
  {
   "cell_type": "code",
   "execution_count": 4,
   "metadata": {
    "ExecuteTime": {
     "end_time": "2021-08-11T10:03:10.706792Z",
     "start_time": "2021-08-11T10:03:10.700117Z"
    }
   },
   "outputs": [],
   "source": [
    "df[\"severity_level\"] = df[\"tag_value\"].map({'no_problem/minor_problem':0, 'of_concern':1, 'critical':2})"
   ]
  },
  {
   "cell_type": "code",
   "execution_count": 5,
   "metadata": {
    "ExecuteTime": {
     "end_time": "2021-08-11T10:03:10.712642Z",
     "start_time": "2021-08-11T10:03:10.708616Z"
    }
   },
   "outputs": [
    {
     "data": {
      "text/plain": [
       "2    27129\n",
       "1    10915\n",
       "0     3008\n",
       "Name: severity_level, dtype: int64"
      ]
     },
     "execution_count": 5,
     "metadata": {},
     "output_type": "execute_result"
    }
   ],
   "source": [
    "df[\"severity_level\"].value_counts()"
   ]
  },
  {
   "cell_type": "code",
   "execution_count": 6,
   "metadata": {
    "ExecuteTime": {
     "end_time": "2021-08-11T10:03:10.745798Z",
     "start_time": "2021-08-11T10:03:10.715307Z"
    }
   },
   "outputs": [],
   "source": [
    "# Separate majority and minority classes\n",
    "df_0 = df[df[\"severity_level\"] == 0]\n",
    "df_1 = df[df[\"severity_level\"] == 1]\n",
    "df_2 = df[df[\"severity_level\"] == 2]\n",
    "\n",
    "df_0_upsampled = resample(\n",
    "    df_0,\n",
    "    replace=True,  # sample without replacement\n",
    "    n_samples=len(df_2),  # to match minority class\n",
    ")\n",
    "df_1_upsampled = resample(\n",
    "    df_1,\n",
    "    replace=True,  # sample without replacement\n",
    "    n_samples=len(df_2),  # to match minority class\n",
    ")\n",
    "df = pd.concat([df_0_upsampled, df_1_upsampled, df_2])"
   ]
  },
  {
   "cell_type": "code",
   "execution_count": 7,
   "metadata": {
    "ExecuteTime": {
     "end_time": "2021-08-11T10:03:10.815304Z",
     "start_time": "2021-08-11T10:03:10.750795Z"
    }
   },
   "outputs": [],
   "source": [
    "x_train, x_test, y_train, y_test = train_test_split(\n",
    "    df[\"excerpt\"].values,\n",
    "    df[\"severity_level\"].values,\n",
    "    stratify=df[\"severity_level\"].values,\n",
    "    test_size=0.1)\n",
    "#\n",
    "x_train, x_val, y_train, y_val = train_test_split(x_train,\n",
    "                                                  y_train,\n",
    "                                                  stratify=y_train,\n",
    "                                                  test_size=0.1)"
   ]
  },
  {
   "cell_type": "code",
   "execution_count": 8,
   "metadata": {
    "ExecuteTime": {
     "end_time": "2021-08-11T10:03:10.820908Z",
     "start_time": "2021-08-11T10:03:10.816489Z"
    }
   },
   "outputs": [],
   "source": [
    "def write_data(X, y, path):\n",
    "    with open(path, \"w\") as f:\n",
    "        for xi, yi in zip(X, y):\n",
    "            f.write(f\"__label__{yi} {xi}\\n\")\n",
    "\n",
    "\n",
    "##\n",
    "def ft_pred(model, X):\n",
    "    preds = model.predict(X)\n",
    "    return [int(p[0][9:]) for p in preds[0]]\n",
    "\n",
    "\n",
    "##\n",
    "def ft_pred_proba(model, X):\n",
    "    preds = model.predict(X)\n",
    "    return [p[0] for p in preds[1]]\n",
    "\n",
    "\n",
    "##\n",
    "def ft_pred_proba_all(model, X):\n",
    "    num_classes = 3\n",
    "    _, preds_proba = model.predict(X, k=num_classes)\n",
    "    return np.array(preds_proba)\n",
    "\n",
    "\n",
    "##\n",
    "def train_and_pred_proba(x_train_k, x_test_k, y_train_k, kfold):\n",
    "    path_train = f\"ft_data_severity/train_{kfold}_fold.txt\"\n",
    "    write_data(x_train_k, y_train_k, path_train)\n",
    "    model = fasttext.train_supervised(input=path_train)\n",
    "    preds_y_test_k = ft_pred_proba_all(model, x_test_k)\n",
    "\n",
    "    return preds_y_test_k"
   ]
  },
  {
   "cell_type": "code",
   "execution_count": 9,
   "metadata": {
    "ExecuteTime": {
     "end_time": "2021-08-11T10:03:10.823587Z",
     "start_time": "2021-08-11T10:03:10.821949Z"
    }
   },
   "outputs": [],
   "source": [
    "# path_train = \"ft_data_severity/train.txt\"\n",
    "# write_data(x_train, y_train, path_train)\n",
    "# model = fasttext.train_supervised(input=path_train)"
   ]
  },
  {
   "cell_type": "code",
   "execution_count": 10,
   "metadata": {
    "ExecuteTime": {
     "end_time": "2021-08-11T10:03:13.057287Z",
     "start_time": "2021-08-11T10:03:10.824643Z"
    }
   },
   "outputs": [],
   "source": [
    "N_FOLDS = 2\n",
    "n = len(x_train)\n",
    "m = len(set(y_train))\n",
    "psx = np.zeros((n, m))\n",
    "skf = StratifiedKFold(n_splits=N_FOLDS)\n",
    "for k, (train_index, test_index) in enumerate(skf.split(x_train, y_train), start=1):\n",
    "    x_train_k, x_test_k = x_train[train_index], x_train[test_index]\n",
    "    y_train_k, y_test_k = y_train[train_index], y_train[test_index]\n",
    "    preds_y_test_k = train_and_pred_proba(x_train_k.tolist(), x_test_k.tolist(), y_train_k, k)\n",
    "    psx[test_index] = preds_y_test_k"
   ]
  },
  {
   "cell_type": "code",
   "execution_count": 11,
   "metadata": {
    "ExecuteTime": {
     "end_time": "2021-08-11T10:03:13.500446Z",
     "start_time": "2021-08-11T10:03:13.058682Z"
    }
   },
   "outputs": [],
   "source": [
    "ordered_label_errors = get_noise_indices(\n",
    "    s=y_train,\n",
    "    psx=psx,\n",
    "    sorted_index_method='both', # Orders label errors\n",
    " )"
   ]
  },
  {
   "cell_type": "code",
   "execution_count": 12,
   "metadata": {
    "ExecuteTime": {
     "end_time": "2021-08-11T10:03:13.506499Z",
     "start_time": "2021-08-11T10:03:13.501787Z"
    }
   },
   "outputs": [
    {
     "data": {
      "text/plain": [
       "(array([2, 2, 2, 1, 2, 2, 2, 2, 2, 2]),\n",
       " array([[1.00000179e+00, 1.67876624e-05, 1.14268223e-05],\n",
       "        [9.99991775e-01, 2.41959588e-05, 1.41088567e-05],\n",
       "        [9.99956846e-01, 5.65370246e-05, 1.66348109e-05],\n",
       "        [9.99971986e-01, 4.78059956e-05, 1.02377226e-05],\n",
       "        [9.99933958e-01, 8.42809823e-05, 1.17571562e-05],\n",
       "        [9.99928832e-01, 7.88064353e-05, 2.23837305e-05],\n",
       "        [9.99944568e-01, 4.59538860e-05, 3.93841910e-05],\n",
       "        [9.99894857e-01, 9.89133114e-05, 3.62666760e-05],\n",
       "        [9.99836624e-01, 1.79731534e-04, 1.36497429e-05],\n",
       "        [9.99815762e-01, 2.04237847e-04, 1.00572533e-05]]))"
      ]
     },
     "execution_count": 12,
     "metadata": {},
     "output_type": "execute_result"
    }
   ],
   "source": [
    "y_train[ordered_label_errors[:10]], psx[ordered_label_errors[:10]]"
   ]
  },
  {
   "cell_type": "code",
   "execution_count": null,
   "metadata": {
    "ExecuteTime": {
     "end_time": "2021-08-11T10:03:13.511262Z",
     "start_time": "2021-08-11T10:03:13.507709Z"
    }
   },
   "outputs": [],
   "source": [
    "x_train[ordered_label_errors[:10]]"
   ]
  },
  {
   "cell_type": "code",
   "execution_count": null,
   "metadata": {},
   "outputs": [],
   "source": []
  },
  {
   "cell_type": "code",
   "execution_count": null,
   "metadata": {},
   "outputs": [],
   "source": []
  }
 ],
 "metadata": {
  "kernelspec": {
   "display_name": "Python 3.8.5 64-bit ('base': conda)",
   "language": "python",
   "name": "python385jvsc74a57bd0f487e277ea6a75fd1c7c341a1deb40c7861148cbc006695943c5304af00fedbe"
  },
  "language_info": {
   "codemirror_mode": {
    "name": "ipython",
    "version": 3
   },
   "file_extension": ".py",
   "mimetype": "text/x-python",
   "name": "python",
   "nbconvert_exporter": "python",
   "pygments_lexer": "ipython3",
   "version": "3.8.11"
  },
  "varInspector": {
   "cols": {
    "lenName": 16,
    "lenType": 16,
    "lenVar": 40
   },
   "kernels_config": {
    "python": {
     "delete_cmd_postfix": "",
     "delete_cmd_prefix": "del ",
     "library": "var_list.py",
     "varRefreshCmd": "print(var_dic_list())"
    },
    "r": {
     "delete_cmd_postfix": ") ",
     "delete_cmd_prefix": "rm(",
     "library": "var_list.r",
     "varRefreshCmd": "cat(var_dic_list()) "
    }
   },
   "types_to_exclude": [
    "module",
    "function",
    "builtin_function_or_method",
    "instance",
    "_Feature"
   ],
   "window_display": false
  }
 },
 "nbformat": 4,
 "nbformat_minor": 4
}
