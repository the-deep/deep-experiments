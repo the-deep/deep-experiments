{
 "cells": [
  {
   "cell_type": "markdown",
   "metadata": {},
   "source": [
    "### Preprocessing"
   ]
  },
  {
   "cell_type": "code",
   "execution_count": 1,
   "metadata": {
    "ExecuteTime": {
     "end_time": "2021-09-27T06:50:29.899104Z",
     "start_time": "2021-09-27T06:50:29.599829Z"
    }
   },
   "outputs": [],
   "source": [
    "import re\n",
    "import fasttext\n",
    "import pandas as pd"
   ]
  },
  {
   "cell_type": "code",
   "execution_count": 2,
   "metadata": {
    "ExecuteTime": {
     "end_time": "2021-09-27T06:50:29.919117Z",
     "start_time": "2021-09-27T06:50:29.900442Z"
    }
   },
   "outputs": [
    {
     "name": "stderr",
     "output_type": "stream",
     "text": [
      "Warning : `load_model` does not return WordVectorModel or SupervisedModel any more, but a `FastText` object which is very similar.\n"
     ]
    }
   ],
   "source": [
    "model = fasttext.load_model('lid.176.ftz')"
   ]
  },
  {
   "cell_type": "code",
   "execution_count": 3,
   "metadata": {
    "ExecuteTime": {
     "end_time": "2021-09-27T06:50:29.922855Z",
     "start_time": "2021-09-27T06:50:29.920491Z"
    }
   },
   "outputs": [],
   "source": [
    "def detect_lang(entry):\n",
    "    entry = re.sub(\"\\s+\", \" \", entry)\n",
    "    pred_langs = model.predict(entry, k=176)[0]\n",
    "    pred_langs = [pred for pred in pred_langs if pred in ['__label__en', '__label__fr', '__label__es']]\n",
    "    return pred_langs[0][9:]"
   ]
  },
  {
   "cell_type": "code",
   "execution_count": 4,
   "metadata": {
    "ExecuteTime": {
     "end_time": "2021-09-27T06:50:29.925825Z",
     "start_time": "2021-09-27T06:50:29.924031Z"
    }
   },
   "outputs": [],
   "source": [
    "def preprocess(entry):\n",
    "    # remove the preceeding date\n",
    "    return re.sub(\"^\\[.+\\]\", \" \", entry).strip()"
   ]
  },
  {
   "cell_type": "code",
   "execution_count": 5,
   "metadata": {
    "ExecuteTime": {
     "end_time": "2021-09-27T06:50:30.904679Z",
     "start_time": "2021-09-27T06:50:29.926957Z"
    }
   },
   "outputs": [
    {
     "name": "stderr",
     "output_type": "stream",
     "text": [
      "/home/abdullah/anaconda3/lib/python3.8/site-packages/IPython/core/interactiveshell.py:3418: DtypeWarning: Columns (4,5,6,13) have mixed types.Specify dtype option on import or set low_memory=False.\n",
      "  exec(code_obj, self.user_global_ns, self.user_ns)\n"
     ]
    },
    {
     "data": {
      "text/plain": [
       "Index(['Unnamed: 0', 'entry_id', 'excerpt', 'analysis_framework_id', 'lead_id',\n",
       "       'project_id', 'verified', 'sectors', 'subpillars_2d', 'subpillars_1d',\n",
       "       'geo_location', 'specific_needs_groups', 'severity', 'dates',\n",
       "       'demographic_groups', 'reliability', 'affected_groups'],\n",
       "      dtype='object')"
      ]
     },
     "execution_count": 5,
     "metadata": {},
     "output_type": "execute_result"
    }
   ],
   "source": [
    "df = pd.read_csv(\"full_dataset.csv\")\n",
    "df.columns"
   ]
  },
  {
   "cell_type": "code",
   "execution_count": 6,
   "metadata": {
    "ExecuteTime": {
     "end_time": "2021-09-27T06:50:51.959464Z",
     "start_time": "2021-09-27T06:50:30.905863Z"
    }
   },
   "outputs": [],
   "source": [
    "df[\"excerpt\"] = df[\"excerpt\"].apply(preprocess)\n",
    "df[\"lang\"] = df[\"excerpt\"].apply(detect_lang)\n",
    "df_en = df[df[\"lang\"].eq(\"en\")]"
   ]
  },
  {
   "cell_type": "markdown",
   "metadata": {},
   "source": [
    "### TextAttack"
   ]
  },
  {
   "cell_type": "code",
   "execution_count": 7,
   "metadata": {
    "ExecuteTime": {
     "end_time": "2021-09-27T06:50:59.927627Z",
     "start_time": "2021-09-27T06:50:51.960855Z"
    }
   },
   "outputs": [],
   "source": [
    "from ast import literal_eval\n",
    "\n",
    "import torch\n",
    "from torch.nn.utils.rnn import pad_sequence\n",
    "\n",
    "import datasets\n",
    "import textattack\n",
    "from tqdm.auto import tqdm\n",
    "from textattack.attacker import Attacker\n",
    "from textattack.datasets import HuggingFaceDataset\n",
    "from textattack.attack_recipes import TextBuggerLi2018\n",
    "from textattack.models.wrappers.pytorch_model_wrapper import PyTorchModelWrapper"
   ]
  },
  {
   "cell_type": "code",
   "execution_count": 8,
   "metadata": {
    "ExecuteTime": {
     "end_time": "2021-09-27T06:50:59.968093Z",
     "start_time": "2021-09-27T06:50:59.930897Z"
    }
   },
   "outputs": [],
   "source": [
    "%load_ext autoreload\n",
    "%autoreload 2"
   ]
  },
  {
   "cell_type": "code",
   "execution_count": 9,
   "metadata": {
    "ExecuteTime": {
     "end_time": "2021-09-27T06:51:00.013271Z",
     "start_time": "2021-09-27T06:50:59.969995Z"
    }
   },
   "outputs": [],
   "source": [
    "df_en = df_en[['excerpt', 'sectors', 'subpillars_2d', 'subpillars_1d', \n",
    "    'geo_location', 'specific_needs_groups', 'severity',\n",
    "       'demographic_groups', 'reliability', 'affected_groups']]"
   ]
  },
  {
   "cell_type": "code",
   "execution_count": 10,
   "metadata": {
    "ExecuteTime": {
     "end_time": "2021-09-27T06:51:00.046222Z",
     "start_time": "2021-09-27T06:51:00.014842Z"
    }
   },
   "outputs": [],
   "source": [
    "def get_unique_values(df, colname):\n",
    "    unique_values = set()\n",
    "    for s in df[colname]:\n",
    "        unique_values.update(s)\n",
    "    return list(sorted(unique_values))\n",
    "\n",
    "def col_to_multicols(df, colname):\n",
    "    df = df[[\"excerpt\", colname]].copy()\n",
    "    df[colname] = df[colname].apply(literal_eval)\n",
    "    unique_values = get_unique_values(df, colname)\n",
    "    # create columns with dump values\n",
    "    for val in unique_values:\n",
    "        df[val] = 0\n",
    "    for idx, values in tqdm(zip(df.index, df[colname]), total=df.shape[0]):\n",
    "        for value in values:\n",
    "            df.at[idx, value] = 1\n",
    "    return df, unique_values"
   ]
  },
  {
   "cell_type": "code",
   "execution_count": 11,
   "metadata": {
    "ExecuteTime": {
     "end_time": "2021-09-27T06:51:01.627424Z",
     "start_time": "2021-09-27T06:51:00.047466Z"
    }
   },
   "outputs": [
    {
     "name": "stderr",
     "output_type": "stream",
     "text": [
      "100%|██████████| 114406/114406 [00:00<00:00, 136990.29it/s]\n"
     ]
    }
   ],
   "source": [
    "df_sectors, sectors = col_to_multicols(df_en, 'sectors')"
   ]
  },
  {
   "cell_type": "code",
   "execution_count": 12,
   "metadata": {
    "ExecuteTime": {
     "end_time": "2021-09-27T06:51:01.657859Z",
     "start_time": "2021-09-27T06:51:01.628567Z"
    }
   },
   "outputs": [
    {
     "data": {
      "text/plain": [
       "['Agriculture',\n",
       " 'Cross',\n",
       " 'Education',\n",
       " 'Food Security',\n",
       " 'Health',\n",
       " 'Livelihoods',\n",
       " 'Logistics',\n",
       " 'Nutrition',\n",
       " 'Protection',\n",
       " 'Shelter',\n",
       " 'WASH']"
      ]
     },
     "execution_count": 12,
     "metadata": {},
     "output_type": "execute_result"
    }
   ],
   "source": [
    "sectors"
   ]
  },
  {
   "cell_type": "code",
   "execution_count": 13,
   "metadata": {
    "ExecuteTime": {
     "end_time": "2021-09-27T06:51:01.745272Z",
     "start_time": "2021-09-27T06:51:01.659057Z"
    }
   },
   "outputs": [],
   "source": [
    "label = \"WASH\"\n",
    "ds = datasets.Dataset.from_pandas(df_sectors,\n",
    "                                  features=datasets.Features({\n",
    "                                      \"excerpt\":\n",
    "                                      datasets.Value(\"string\"),\n",
    "                                      label:\n",
    "                                      datasets.Value('uint8'),\n",
    "                                  }))"
   ]
  },
  {
   "cell_type": "code",
   "execution_count": 14,
   "metadata": {
    "ExecuteTime": {
     "end_time": "2021-09-27T06:51:01.775576Z",
     "start_time": "2021-09-27T06:51:01.746475Z"
    }
   },
   "outputs": [
    {
     "data": {
      "text/plain": [
       "114406"
      ]
     },
     "execution_count": 14,
     "metadata": {},
     "output_type": "execute_result"
    }
   ],
   "source": [
    "len(ds)"
   ]
  },
  {
   "cell_type": "code",
   "execution_count": 15,
   "metadata": {
    "ExecuteTime": {
     "end_time": "2021-09-27T06:51:01.806420Z",
     "start_time": "2021-09-27T06:51:01.776826Z"
    }
   },
   "outputs": [],
   "source": [
    "class TokenizerWrapper:\n",
    "    def __init__(self, tokenizer):\n",
    "        self.tokenizer = tokenizer\n",
    "\n",
    "    def __call__(self, *args, **kwargs):\n",
    "        return self.tokenizer(*args, **kwargs)[\"input_ids\"]"
   ]
  },
  {
   "cell_type": "code",
   "execution_count": 16,
   "metadata": {
    "ExecuteTime": {
     "end_time": "2021-09-27T06:51:01.838889Z",
     "start_time": "2021-09-27T06:51:01.807748Z"
    }
   },
   "outputs": [],
   "source": [
    "class CustomModelWrapper(PyTorchModelWrapper):\n",
    "    def __init__(self, model):\n",
    "        super().__init__(model,\n",
    "                         TokenizerWrapper(model.empty_dataset.tokenizer))\n",
    "        self.max_len = self.tokenizer.tokenizer.max_len_single_sentence\n",
    "        self.pad_token_id = model.empty_dataset.tokenizer.pad_token_id\n",
    "\n",
    "    def __call__(self, text_input_list, batch_size=32):\n",
    "        model_device = next(self.model.parameters()).device\n",
    "        ids = self.tokenizer(text_input_list,\n",
    "                             truncation=True,\n",
    "                             max_length=self.max_len)\n",
    "        try:\n",
    "            ids = torch.tensor(ids).to(model_device)\n",
    "        except:\n",
    "            pad_to_len = max(map(len, ids))\n",
    "            ids = [\n",
    "                x + [self.pad_token_id] * (pad_to_len - len(x)) for x in ids\n",
    "            ]\n",
    "            ids = torch.tensor(ids).to(model_device)\n",
    "        ids = {\"ids\": ids, \"mask\": None}\n",
    "\n",
    "        with torch.no_grad():\n",
    "            outputs = self.model(ids)\n",
    "\n",
    "        return outputs"
   ]
  },
  {
   "cell_type": "code",
   "execution_count": 17,
   "metadata": {
    "ExecuteTime": {
     "end_time": "2021-09-27T06:51:08.960767Z",
     "start_time": "2021-09-27T06:51:01.840172Z"
    }
   },
   "outputs": [
    {
     "name": "stderr",
     "output_type": "stream",
     "text": [
      "/home/abdullah/anaconda3/lib/python3.8/site-packages/pytorch_lightning/core/decorators.py:64: LightningDeprecationWarning: The `@auto_move_data` decorator is deprecated in v1.3 and will be removed in v1.5. Please use `trainer.predict` instead for inference. The decorator was applied to `forward`\n",
      "  rank_zero_deprecation(\n"
     ]
    }
   ],
   "source": [
    "from modeling import CustomDataset, Transformer\n",
    "CKPT_PATH = \"model.ckpt\"\n",
    "DEVICE = \"cpu\"\n",
    "model = Transformer.load_from_checkpoint(CKPT_PATH)\n",
    "model.to(DEVICE);"
   ]
  },
  {
   "cell_type": "code",
   "execution_count": 18,
   "metadata": {
    "ExecuteTime": {
     "end_time": "2021-09-27T06:51:08.998278Z",
     "start_time": "2021-09-27T06:51:08.961989Z"
    }
   },
   "outputs": [],
   "source": [
    "model_wrapper = CustomModelWrapper(model)\n",
    "#model_wrapper = PyTorchModelWrapper(model.model, TokenizerWrapper(model.empty_dataset.tokenizer))\n",
    "#model_wrapper"
   ]
  },
  {
   "cell_type": "code",
   "execution_count": 19,
   "metadata": {
    "ExecuteTime": {
     "end_time": "2021-09-27T06:51:09.032985Z",
     "start_time": "2021-09-27T06:51:08.999479Z"
    }
   },
   "outputs": [],
   "source": [
    "dataset = HuggingFaceDataset(ds, dataset_columns=[[\"excerpt\"], label])"
   ]
  },
  {
   "cell_type": "code",
   "execution_count": 20,
   "metadata": {
    "ExecuteTime": {
     "end_time": "2021-09-27T06:51:09.068012Z",
     "start_time": "2021-09-27T06:51:09.034329Z"
    }
   },
   "outputs": [
    {
     "data": {
      "text/plain": [
       "<module 'textattack.attack_args' from '/home/abdullah/anaconda3/lib/python3.8/site-packages/textattack/attack_args.py'>"
      ]
     },
     "execution_count": 20,
     "metadata": {},
     "output_type": "execute_result"
    }
   ],
   "source": [
    "textattack.attack_args"
   ]
  },
  {
   "cell_type": "code",
   "execution_count": 21,
   "metadata": {
    "ExecuteTime": {
     "end_time": "2021-09-27T06:51:09.105175Z",
     "start_time": "2021-09-27T06:51:09.069166Z"
    }
   },
   "outputs": [
    {
     "name": "stderr",
     "output_type": "stream",
     "text": [
      "textattack: Unknown if model of class <class 'modeling.Transformer'> compatible with goal function <class 'textattack.goal_functions.classification.untargeted_classification.UntargetedClassification'>.\n"
     ]
    }
   ],
   "source": [
    "attack = TextBuggerLi2018.build(model_wrapper)\n",
    "#attack = textattack.attack_recipes.BAEGarg2019.build(model_wrapper)\n",
    "#attack = textattack.attack_recipes.BERTAttackLi2020.build(model_wrapper)\n",
    "#attack = textattack.attack_recipes.CheckList2020.build(model_wrapper)\n",
    "attack_args = textattack.AttackArgs(\n",
    "    num_examples=10000,\n",
    "    num_successful_examples=None,\n",
    "    num_examples_offset=0,\n",
    "    attack_n=False,\n",
    "    shuffle=False,\n",
    "    query_budget=None,\n",
    "    checkpoint_interval=None,\n",
    "    checkpoint_dir='checkpoints',\n",
    "    random_seed=765,\n",
    "    parallel=False,\n",
    "    num_workers_per_device=1,\n",
    "    log_to_txt=None,\n",
    "    log_to_csv=None,\n",
    "    csv_coloring_style='file',\n",
    "    log_to_visdom=None,\n",
    "    log_to_wandb=None,\n",
    "    disable_stdout=False,\n",
    "    silent=False,\n",
    ")\n",
    "attacker = Attacker(attack, dataset, attack_args)"
   ]
  },
  {
   "cell_type": "code",
   "execution_count": null,
   "metadata": {
    "ExecuteTime": {
     "end_time": "2021-09-27T06:53:35.444326Z",
     "start_time": "2021-09-27T06:51:09.106307Z"
    }
   },
   "outputs": [],
   "source": [
    "attack_results = attacker.attack_dataset()"
   ]
  },
  {
   "cell_type": "code",
   "execution_count": 23,
   "metadata": {
    "ExecuteTime": {
     "end_time": "2021-09-27T06:53:35.481297Z",
     "start_time": "2021-09-27T06:53:35.445715Z"
    }
   },
   "outputs": [],
   "source": [
    "# textattack.attack_recipes.BAEGarg2019\n",
    "# textattack.attack_recipes.BERTAttackLi2020\n",
    "# textattack.attack_recipes.CheckList2020\n",
    "# textattack.attack_recipes.CLARE2020\n",
    "# textattack.attack_recipes.DeepWordBugGao2018\n",
    "# textattack.attack_recipes.FasterGeneticAlgorithmJia2019\n",
    "# textattack.attack_recipes.GeneticAlgorithmAlzantot2018\n",
    "# textattack.attack_recipes.HotFlipEbrahimi2017\n",
    "# textattack.attack_recipes.IGAWang2019\n",
    "# textattack.attack_recipes.InputReductionFeng2018\n",
    "# textattack.attack_recipes.Kuleshov2017\n",
    "# textattack.attack_recipes.MorpheusTan2020\n",
    "# textattack.attack_recipes.Pruthi2019\n",
    "# textattack.attack_recipes.PSOZang2020\n",
    "# textattack.attack_recipes.PWWSRen2019\n",
    "# textattack.attack_recipes.Seq2SickCheng2018BlackBox\n",
    "# textattack.attack_recipes.TextFoolerJin2019\n",
    "# textattack.attack_recipes.TextBuggerLi2018"
   ]
  },
  {
   "cell_type": "code",
   "execution_count": 25,
   "metadata": {
    "ExecuteTime": {
     "end_time": "2021-09-27T06:54:42.504279Z",
     "start_time": "2021-09-27T06:54:42.461871Z"
    }
   },
   "outputs": [],
   "source": [
    "ar = attack_results[0]"
   ]
  },
  {
   "cell_type": "code",
   "execution_count": 39,
   "metadata": {
    "ExecuteTime": {
     "end_time": "2021-09-27T07:01:27.083485Z",
     "start_time": "2021-09-27T07:01:26.994383Z"
    }
   },
   "outputs": [],
   "source": [
    "sucess_or_fail_atts = []\n",
    "for ar in attack_results:\n",
    "    if \"SKIPPED\" in ar.goal_function_result_str():\n",
    "        continue\n",
    "    sucess_or_fail_atts.append(ar)"
   ]
  },
  {
   "cell_type": "code",
   "execution_count": null,
   "metadata": {},
   "outputs": [],
   "source": []
  }
 ],
 "metadata": {
  "kernelspec": {
   "display_name": "Python 3.8.5 64-bit ('base': conda)",
   "language": "python",
   "name": "python385jvsc74a57bd0f487e277ea6a75fd1c7c341a1deb40c7861148cbc006695943c5304af00fedbe"
  },
  "language_info": {
   "codemirror_mode": {
    "name": "ipython",
    "version": 3
   },
   "file_extension": ".py",
   "mimetype": "text/x-python",
   "name": "python",
   "nbconvert_exporter": "python",
   "pygments_lexer": "ipython3",
   "version": "3.8.11"
  },
  "varInspector": {
   "cols": {
    "lenName": 16,
    "lenType": 16,
    "lenVar": 40
   },
   "kernels_config": {
    "python": {
     "delete_cmd_postfix": "",
     "delete_cmd_prefix": "del ",
     "library": "var_list.py",
     "varRefreshCmd": "print(var_dic_list())"
    },
    "r": {
     "delete_cmd_postfix": ") ",
     "delete_cmd_prefix": "rm(",
     "library": "var_list.r",
     "varRefreshCmd": "cat(var_dic_list()) "
    }
   },
   "types_to_exclude": [
    "module",
    "function",
    "builtin_function_or_method",
    "instance",
    "_Feature"
   ],
   "window_display": false
  }
 },
 "nbformat": 4,
 "nbformat_minor": 4
}
