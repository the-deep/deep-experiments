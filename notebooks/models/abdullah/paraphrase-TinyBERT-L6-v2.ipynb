{
 "cells": [
  {
   "cell_type": "code",
   "execution_count": 1,
   "metadata": {
    "scrolled": true
   },
   "outputs": [],
   "source": [
    "# kernel conda_pytorch_latest_p36\n",
    "#!pip install icecream\n",
    "# !pip install tqdm\n",
    "# !pip install torchmetrics\n",
    "# !pip install pytorch_lightning\n",
    "# !pip install transformers"
   ]
  },
  {
   "cell_type": "code",
   "execution_count": 2,
   "metadata": {
    "ExecuteTime": {
     "end_time": "2021-06-01T14:49:30.843642Z",
     "start_time": "2021-06-01T14:49:30.663973Z"
    }
   },
   "outputs": [],
   "source": [
    "import os\n",
    "import sys\n",
    "import logging\n",
    "import argparse\n",
    "from pathlib import Path\n",
    "from ast import literal_eval\n",
    "from collections import Counter\n",
    "from typing import Any, Dict, Optional\n",
    "\n",
    "from icecream import ic\n",
    "from tqdm.auto import tqdm\n",
    "\n",
    "import torchmetrics\n",
    "from torchmetrics.functional import accuracy, f1, auroc\n",
    "\n",
    "import pytorch_lightning as pl\n",
    "from pytorch_lightning.loggers import TensorBoardLogger\n",
    "from pytorch_lightning.core.decorators import auto_move_data\n",
    "from pytorch_lightning.callbacks import ModelCheckpoint, EarlyStopping\n",
    "\n",
    "import torch\n",
    "from torch import nn\n",
    "import torch.nn.functional as F\n",
    "from torch.utils.data import Dataset, DataLoader, RandomSampler, SequentialSampler\n",
    "\n",
    "import numpy as np\n",
    "import pandas as pd\n",
    "import seaborn as sns\n",
    "from sklearn.model_selection import train_test_split\n",
    "from sklearn.metrics import classification_report, multilabel_confusion_matrix\n",
    "\n",
    "\n",
    "import matplotlib.pyplot as plt\n",
    "from pylab import rcParams\n",
    "from matplotlib import rc\n",
    "\n",
    "import transformers\n",
    "from transformers import (\n",
    "    AdamW,\n",
    "    AutoConfig,\n",
    "    AutoModel,\n",
    "    AutoModelForSequenceClassification,\n",
    "    T5ForConditionalGeneration,\n",
    "    T5Tokenizer,\n",
    "    AutoTokenizer,\n",
    ")\n",
    "from transformers.optimization import (\n",
    "    Adafactor,\n",
    "    get_linear_schedule_with_warmup,\n",
    ")"
   ]
  },
  {
   "cell_type": "code",
   "execution_count": 3,
   "metadata": {
    "ExecuteTime": {
     "end_time": "2021-06-01T14:49:31.657777Z",
     "start_time": "2021-06-01T14:49:31.631040Z"
    }
   },
   "outputs": [],
   "source": [
    "%matplotlib inline\n",
    "%config InlineBackend.figure_format='retina'"
   ]
  },
  {
   "cell_type": "code",
   "execution_count": 4,
   "metadata": {
    "ExecuteTime": {
     "end_time": "2021-06-01T14:49:32.921745Z",
     "start_time": "2021-06-01T14:49:32.910873Z"
    }
   },
   "outputs": [],
   "source": [
    "sns.set(style='whitegrid', palette='muted', font_scale=1.2)\n",
    "HAPPY_COLORS_PALETTE = [\"#01BEFE\", \"#FFDD00\", \"#FF7D00\", \"#FF006D\", \"#ADFF02\", \"#8F00FF\"]\n",
    "sns.set_palette(sns.color_palette(HAPPY_COLORS_PALETTE))\n",
    "rcParams['figure.figsize'] = 12, 8"
   ]
  },
  {
   "cell_type": "code",
   "execution_count": 5,
   "metadata": {
    "ExecuteTime": {
     "end_time": "2021-06-01T14:49:35.745930Z",
     "start_time": "2021-06-01T14:49:35.741002Z"
    }
   },
   "outputs": [
    {
     "name": "stderr",
     "output_type": "stream",
     "text": [
      "Global seed set to 2021\n"
     ]
    },
    {
     "data": {
      "text/plain": [
       "2021"
      ]
     },
     "execution_count": 5,
     "metadata": {},
     "output_type": "execute_result"
    }
   ],
   "source": [
    "RANDOM_SEED=2021\n",
    "pl.seed_everything(RANDOM_SEED)"
   ]
  },
  {
   "cell_type": "code",
   "execution_count": 6,
   "metadata": {
    "ExecuteTime": {
     "end_time": "2021-06-01T14:49:41.389959Z",
     "start_time": "2021-06-01T14:49:41.387543Z"
    }
   },
   "outputs": [],
   "source": [
    "ic.configureOutput(outputFunction=sys.stdout.write, includeContext=True)"
   ]
  },
  {
   "cell_type": "code",
   "execution_count": 7,
   "metadata": {
    "ExecuteTime": {
     "end_time": "2021-06-01T14:57:02.359181Z",
     "start_time": "2021-06-01T14:57:02.353630Z"
    }
   },
   "outputs": [],
   "source": [
    "logger = logging.getLogger(__name__)"
   ]
  },
  {
   "cell_type": "code",
   "execution_count": 8,
   "metadata": {
    "ExecuteTime": {
     "end_time": "2021-06-01T14:57:28.545897Z",
     "start_time": "2021-06-01T14:57:02.782629Z"
    }
   },
   "outputs": [],
   "source": [
    "MAX_LEN = 200\n",
    "TRAIN_BATCH_SIZE = 32\n",
    "VALID_BATCH_SIZE = 64\n",
    "EPOCHS = 3\n",
    "LEARNING_RATE = 1e-05\n",
    "MODEL_NAME = \"sentence-transformers/paraphrase-TinyBERT-L6-v2\"\n",
    "tokenizer = AutoTokenizer.from_pretrained(MODEL_NAME)"
   ]
  },
  {
   "cell_type": "code",
   "execution_count": 9,
   "metadata": {
    "ExecuteTime": {
     "end_time": "2021-06-01T14:57:29.882333Z",
     "start_time": "2021-06-01T14:57:28.547379Z"
    }
   },
   "outputs": [],
   "source": [
    "train_dataset = pd.read_csv(\"data_v0.4.2_train.csv\")\n",
    "val_dataset = pd.read_csv(\"data_v0.4.2_val.csv\")\n",
    "##\n",
    "train_dataset[\"sectors\"] = train_dataset[\"sectors\"].apply(literal_eval)\n",
    "val_dataset[\"sectors\"] = val_dataset[\"sectors\"].apply(literal_eval)\n",
    "##\n",
    "secotr_set = set()\n",
    "for sectors_i in train_dataset[\"sectors\"]:\n",
    "    secotr_set.update(sectors_i)\n",
    "sectorname_to_sectorid = {sector:i for i, sector in enumerate(list(sorted(secotr_set)))}"
   ]
  },
  {
   "cell_type": "code",
   "execution_count": 10,
   "metadata": {
    "ExecuteTime": {
     "end_time": "2021-06-01T14:57:29.890405Z",
     "start_time": "2021-06-01T14:57:29.883645Z"
    }
   },
   "outputs": [],
   "source": [
    "class SectorsDataset(Dataset):\n",
    "    def __init__(self, dataframe, sectorname_to_sectorid, tokenizer, max_len):\n",
    "        self.tokenizer = tokenizer\n",
    "        self.data = dataframe\n",
    "        self.excerpt_text = dataframe[\"excerpt\"].tolist(\n",
    "        ) if dataframe is not None else None\n",
    "        self.targets = self.data[\"sectors\"].tolist(\n",
    "        ) if dataframe is not None else None\n",
    "        self.sectorname_to_sectorid = sectorname_to_sectorid\n",
    "        self.sectorid_to_sectorname = list(sectorname_to_sectorid.keys())\n",
    "        self.max_len = max_len\n",
    "\n",
    "    def encode_example(self,\n",
    "                       excerpt_text: str,\n",
    "                       index=None,\n",
    "                       as_batch: bool = False):\n",
    "        #excerpt_text = \" \".join(excerpt_text.split())\n",
    "\n",
    "        inputs = self.tokenizer(excerpt_text,\n",
    "                                            None,\n",
    "                                            truncation=True,\n",
    "                                            add_special_tokens=True,\n",
    "                                            max_length=self.max_len,\n",
    "                                            padding=\"max_length\",\n",
    "                                            return_token_type_ids=True)\n",
    "        ids = inputs['input_ids']\n",
    "        mask = inputs['attention_mask']\n",
    "        token_type_ids = inputs[\"token_type_ids\"]\n",
    "        targets = None\n",
    "        if self.targets:\n",
    "            target_indices = [\n",
    "                self.sectorname_to_sectorid[target]\n",
    "                for target in self.targets[index]\n",
    "                if target in self.sectorname_to_sectorid\n",
    "            ]\n",
    "            targets = np.zeros(len(self.sectorname_to_sectorid), dtype=np.int)\n",
    "            targets[target_indices] = 1\n",
    "\n",
    "        encoded = {\n",
    "            'ids':\n",
    "            torch.tensor(ids, dtype=torch.long),\n",
    "            'mask':\n",
    "            torch.tensor(mask, dtype=torch.long),\n",
    "            'token_type_ids':\n",
    "            torch.tensor(token_type_ids, dtype=torch.long),\n",
    "            'targets':\n",
    "            torch.tensor(targets, dtype=torch.float32)\n",
    "            if targets is not None else None\n",
    "        }\n",
    "        if as_batch:\n",
    "            return {\n",
    "                \"ids\": encoded[\"ids\"].unsqueeze(0),\n",
    "                \"mask\": encoded[\"mask\"].unsqueeze(0),\n",
    "                \"token_type_ids\": encoded[\"ids\"].unsqueeze(0)\n",
    "            }\n",
    "        return encoded\n",
    "\n",
    "    def __len__(self):\n",
    "        return len(self.excerpt_text)\n",
    "\n",
    "    def __getitem__(self, index):\n",
    "        excerpt_text = str(self.excerpt_text[index])\n",
    "        return self.encode_example(excerpt_text, index)"
   ]
  },
  {
   "cell_type": "code",
   "execution_count": 11,
   "metadata": {
    "ExecuteTime": {
     "end_time": "2021-06-01T14:57:29.900276Z",
     "start_time": "2021-06-01T14:57:29.891880Z"
    }
   },
   "outputs": [],
   "source": [
    "training_set = SectorsDataset(train_dataset, sectorname_to_sectorid, tokenizer,\n",
    "                              MAX_LEN)\n",
    "val_set = SectorsDataset(val_dataset, sectorname_to_sectorid, tokenizer,\n",
    "                         MAX_LEN)\n",
    "\n",
    "val_set_frac = SectorsDataset(val_dataset.sample(frac=.005),\n",
    "                              sectorname_to_sectorid, tokenizer, MAX_LEN)"
   ]
  },
  {
   "cell_type": "code",
   "execution_count": 12,
   "metadata": {
    "ExecuteTime": {
     "end_time": "2021-06-01T14:57:29.904210Z",
     "start_time": "2021-06-01T14:57:29.901478Z"
    }
   },
   "outputs": [],
   "source": [
    "train_params = {\n",
    "    'batch_size': TRAIN_BATCH_SIZE,\n",
    "    'shuffle': True,\n",
    "    'num_workers': 4\n",
    "}\n",
    "\n",
    "val_params = {\n",
    "    'batch_size': VALID_BATCH_SIZE,\n",
    "    'shuffle': False,\n",
    "    'num_workers': 4\n",
    "}\n",
    "\n",
    "training_loader = DataLoader(training_set, **train_params)\n",
    "val_loader = DataLoader(val_set, **val_params)\n",
    "val_loader_frac = DataLoader(val_set_frac, **val_params)"
   ]
  },
  {
   "cell_type": "code",
   "execution_count": 13,
   "metadata": {
    "ExecuteTime": {
     "end_time": "2021-06-01T14:57:29.909386Z",
     "start_time": "2021-06-01T14:57:29.905678Z"
    }
   },
   "outputs": [],
   "source": [
    "class Model(nn.Module):\n",
    "    def __init__(self, model_name_or_path: str, num_labels:int):\n",
    "        super().__init__()\n",
    "        self.l1 = AutoModel.from_pretrained(model_name_or_path)\n",
    "        self.l2 = torch.nn.Dropout(0.3)\n",
    "        self.l3 = torch.nn.Linear(768, num_labels)\n",
    "    def forward(self, inputs):\n",
    "        output = self.l1(inputs[\"ids\"],\n",
    "                            attention_mask=inputs[\"mask\"],)\n",
    "        output = output.last_hidden_state\n",
    "        output = self.l2(output)\n",
    "        output = self.l3(output)\n",
    "        return output[:, 0, :]"
   ]
  },
  {
   "cell_type": "code",
   "execution_count": 14,
   "metadata": {
    "ExecuteTime": {
     "end_time": "2021-06-01T15:04:49.596074Z",
     "start_time": "2021-06-01T15:04:49.543948Z"
    }
   },
   "outputs": [],
   "source": [
    "class SectorsTransformer(pl.LightningModule):\n",
    "    def __init__(self,\n",
    "                 model_name_or_path: str,\n",
    "                 num_labels: int,\n",
    "                 empty_dataset: SectorsDataset,\n",
    "                 pred_threshold: float = .5,\n",
    "                 learning_rate: float = 2e-5,\n",
    "                 adam_epsilon: float = 1e-8,\n",
    "                 warmup_steps: int = 0,\n",
    "                 weight_decay: float = 0.0,\n",
    "                 train_batch_size: int = 32,\n",
    "                 eval_batch_size: int = 32,\n",
    "                 eval_splits: Optional[list] = None,\n",
    "                 **kwargs):\n",
    "        super().__init__()\n",
    "\n",
    "        self.save_hyperparameters()\n",
    "\n",
    "        self.model = Model(model_name_or_path, num_labels)\n",
    "        self.empty_dataset = empty_dataset\n",
    "        self.pred_threshold = pred_threshold\n",
    "\n",
    "        self.f1_score_train = torchmetrics.F1(\n",
    "            num_classes=2,\n",
    "            threshold=0.5,\n",
    "            average='macro',\n",
    "            mdmc_average=\"samplewise\",\n",
    "            ignore_index=None,\n",
    "            top_k=None,\n",
    "            multiclass=True,\n",
    "            compute_on_step=True,\n",
    "            dist_sync_on_step=False,\n",
    "            process_group=None,\n",
    "            dist_sync_fn=None,\n",
    "        )\n",
    "\n",
    "        self.f1_score_val = torchmetrics.F1(\n",
    "            num_classes=2,\n",
    "            threshold=0.5,\n",
    "            average='macro',\n",
    "            mdmc_average=\"samplewise\",\n",
    "            ignore_index=None,\n",
    "            top_k=None,\n",
    "            multiclass=True,\n",
    "            compute_on_step=True,\n",
    "            dist_sync_on_step=False,\n",
    "            process_group=None,\n",
    "            dist_sync_fn=None,\n",
    "        )\n",
    "    @auto_move_data\n",
    "    def forward(self, inputs):\n",
    "        output = self.model(inputs)\n",
    "        return output\n",
    "\n",
    "    def training_step(self, batch, batch_idx):\n",
    "        outputs = self(batch)\n",
    "        loss = F.binary_cross_entropy_with_logits(outputs, batch[\"targets\"])\n",
    "\n",
    "        self.f1_score_train(torch.sigmoid(outputs),\n",
    "                            batch[\"targets\"].to(dtype=torch.long))\n",
    "        self.log(\"train_f1\", self.f1_score_train, prog_bar=True)\n",
    "        return loss\n",
    "\n",
    "    def validation_step(self, batch, batch_idx, dataloader_idx=0):\n",
    "        outputs = self(batch)\n",
    "        val_loss = F.binary_cross_entropy_with_logits(outputs,\n",
    "                                                      batch[\"targets\"])\n",
    "\n",
    "        self.f1_score_val(torch.sigmoid(outputs),\n",
    "                          batch[\"targets\"].to(dtype=torch.long))\n",
    "        self.log(\"val_f1\",\n",
    "                 self.f1_score_val,\n",
    "                 on_step=True,\n",
    "                 on_epoch=True,\n",
    "                 prog_bar=True,\n",
    "                 logger=False)\n",
    "        \n",
    "        self.log(\"val_loss\",\n",
    "                 val_loss,\n",
    "                 on_step=True,\n",
    "                 on_epoch=True,\n",
    "                 prog_bar=True,\n",
    "                 logger=False)\n",
    "        return {'val_loss': val_loss}\n",
    "\n",
    "    def test_step(self, batch, batch_nb):\n",
    "        logits = self(batch)\n",
    "        preds = (torch.sigmoid(logits) > .5)\n",
    "        return {\"preds\": preds, \"targets_i\": batch[\"targets\"]}\n",
    "\n",
    "    def on_test_epoch_end(self, outputs):\n",
    "        preds = torch.cat([output[\"preds\"] for output in outputs]).cpu()\n",
    "        targets = torch.cat([output[\"targets_i\"] for output in outputs]).cpu()\n",
    "        recalls = []\n",
    "        precisions = []\n",
    "        f1_scores = []\n",
    "        for i in range(targets.shape[1]):\n",
    "            class_roc_auc = auroc(preds[:, i], targets[:, i])\n",
    "            self.log(\n",
    "                f\"{self.empty_dataset.sectorid_to_sectorname[i]}_roc_auc/Train\",\n",
    "                class_roc_auc)\n",
    "            class_f1 = metrics.f1_score(targets[:, i], preds[:, i])\n",
    "            self.log(\n",
    "                f\"{self.empty_dataset.sectorid_to_sectorname[i]}_f1/Train\",\n",
    "                class_f1)\n",
    "\n",
    "    def predict_step(self, batch, batch_idx, dataloader_idx=None):\n",
    "        output = self(batch)\n",
    "        return {\"logits\": output}\n",
    "\n",
    "    def on_predict_epoch_end(self, outputs):\n",
    "        print(outputs)\n",
    "        logits = torch.cat([output[\"logits\"] for output in outputs[0]])\n",
    "        preds = torch.sigmoid(logits) >= self.pred_threshold\n",
    "        pred_classes = []\n",
    "        for pred in preds:\n",
    "            pred_classes_i = [\n",
    "                self.empty_dataset.sectorid_to_sectorname[i]\n",
    "                for i, p in enumerate(pred) if p\n",
    "            ]\n",
    "            pred_classes.append(pred_classes_i)\n",
    "        self.log({\"pred_classes\": pred_classes})\n",
    "\n",
    "    def custom_predict(self, inputs):\n",
    "        self.eval()\n",
    "        self.freeze()\n",
    "        as_batch = False\n",
    "        if isinstance(inputs, str):\n",
    "            as_batch = True\n",
    "        inputs = self.empty_dataset.encode_example(inputs, as_batch)\n",
    "\n",
    "        with torch.no_grad():\n",
    "            logits = self(inputs)\n",
    "        preds = (torch.sigmoid(logits) >= self.pred_threshold)\n",
    "        pred_classes = []\n",
    "        for pred in preds:\n",
    "            pred_classes_i = [\n",
    "                self.empty_dataset.sectorid_to_sectorname[i]\n",
    "                for i, p in enumerate(pred) if p\n",
    "            ]\n",
    "            pred_classes.append(pred_classes_i)\n",
    "        return pred_classes\n",
    "\n",
    "    def total_steps(self) -> int:\n",
    "        \"\"\"The number of total training steps that will be run. Used for lr scheduler purposes.\"\"\"\n",
    "        self.dataset_size = len(self.train_dataloader().dataset)\n",
    "        num_devices = max(1, self.hparams.gpus)  # TODO: consider num_tpu_cores\n",
    "        effective_batch_size = self.hparams.train_batch_size * self.hparams.accumulate_grad_batches * num_devices\n",
    "        return (self.dataset_size /\n",
    "                effective_batch_size) * self.hparams.max_epochs\n",
    "\n",
    "    def configure_optimizers(self):\n",
    "        \"Prepare optimizer and schedule (linear warmup and decay)\"\n",
    "        model = self.model\n",
    "        no_decay = [\"bias\", \"LayerNorm.weight\"]\n",
    "        optimizer_grouped_parameters = [\n",
    "            {\n",
    "                \"params\": [\n",
    "                    p for n, p in model.named_parameters()\n",
    "                    if not any(nd in n for nd in no_decay)\n",
    "                ],\n",
    "                \"weight_decay\":\n",
    "                self.hparams.weight_decay,\n",
    "            },\n",
    "            {\n",
    "                \"params\": [\n",
    "                    p for n, p in model.named_parameters()\n",
    "                    if any(nd in n for nd in no_decay)\n",
    "                ],\n",
    "                \"weight_decay\":\n",
    "                0.0,\n",
    "            },\n",
    "        ]\n",
    "        optimizer = AdamW(optimizer_grouped_parameters,\n",
    "                          lr=self.hparams.learning_rate,\n",
    "                          eps=self.hparams.adam_epsilon)\n",
    "\n",
    "        scheduler = get_linear_schedule_with_warmup(\n",
    "            optimizer,\n",
    "            num_warmup_steps=self.hparams.warmup_steps,\n",
    "            num_training_steps=self.total_steps())\n",
    "        scheduler = {\n",
    "            'scheduler': scheduler,\n",
    "            'interval': 'step',\n",
    "            'frequency': 1\n",
    "        }\n",
    "        return [optimizer], [scheduler]\n",
    "\n",
    "    def train_dataloader(self):\n",
    "        return training_loader\n",
    "\n",
    "    def val_dataloader(self):\n",
    "        return val_loader\n",
    "    \n",
    "    def custom_eval(self, eval_dataloader):\n",
    "        if self.device.type == \"cpu\":\n",
    "            self.to(\"cuda\")\n",
    "        self.eval()\n",
    "        self.freeze()\n",
    "        preds_val_all = []\n",
    "        y_true = []\n",
    "\n",
    "        with torch.no_grad():\n",
    "            for batch in tqdm(eval_dataloader, total=len(eval_dataloader.dataset)//eval_dataloader.batch_size):\n",
    "                logits = self({\"ids\": batch[\"ids\"].to(\"cuda\"), \"mask\": batch[\"mask\"].to(\"cuda\"), \"token_type_ids\": batch[\"token_type_ids\"].to(\"cuda\")})\n",
    "                preds_batch = np.zeros(logits.shape, dtype=np.int)\n",
    "                preds_batch[(torch.sigmoid(logits) > self.pred_threshold).cpu().nonzero(as_tuple=True)] = 1\n",
    "                preds_val_all.append(preds_batch)\n",
    "                y_true.append(batch[\"targets\"].numpy().astype(np.int))\n",
    "\n",
    "        preds_val_all = np.concatenate(preds_val_all)\n",
    "        y_true = np.concatenate(y_true)\n",
    "\n",
    "        f1_scores = []\n",
    "        recalls = []\n",
    "        precisions = []\n",
    "        accuracies = []\n",
    "        supports = []\n",
    "\n",
    "        for sec_name, sec_id in sectorname_to_sectorid.items():\n",
    "            cls_rprt = classification_report(y_true[:, sec_id], preds_val_all[:, sec_id], output_dict=True)\n",
    "            precisions.append(cls_rprt[\"macro avg\"][\"precision\"])\n",
    "            recalls.append(cls_rprt[\"macro avg\"][\"recall\"])\n",
    "            f1_scores.append(cls_rprt[\"macro avg\"][\"f1-score\"])\n",
    "            supports.append(cls_rprt[\"1\"][\"support\"])\n",
    "            accuracies.append(cls_rprt[\"accuracy\"])\n",
    "\n",
    "        metrics_df = pd.DataFrame({\n",
    "            \"Sector\": list(sectorname_to_sectorid.keys()),\n",
    "            \"Precision\": precisions,\n",
    "            \"Recall\": recalls,\n",
    "            \"F1 Score\": f1_scores,\n",
    "            \"Accuracy\": accuracies,\n",
    "            \"Support\": supports,\n",
    "        })\n",
    "        return metrics_df\n",
    "        #multilabel_confusion_matrix()"
   ]
  },
  {
   "cell_type": "code",
   "execution_count": 15,
   "metadata": {},
   "outputs": [],
   "source": [
    "log_dir_name = \"-\".join(MODEL_NAME.split(\"/\"))"
   ]
  },
  {
   "cell_type": "code",
   "execution_count": 16,
   "metadata": {
    "ExecuteTime": {
     "end_time": "2021-06-01T15:04:59.876834Z",
     "start_time": "2021-06-01T15:04:59.868499Z"
    }
   },
   "outputs": [
    {
     "name": "stderr",
     "output_type": "stream",
     "text": [
      "/home/ec2-user/anaconda3/envs/pytorch_latest_p36/lib/python3.6/site-packages/pytorch_lightning/utilities/distributed.py:69: UserWarning: Checkpoint directory ./checkpoints-sentence-transformers-paraphrase-TinyBERT-L6-v2 exists and is not empty.\n",
      "  warnings.warn(*args, **kwargs)\n"
     ]
    }
   ],
   "source": [
    "dirpath = f\"./checkpoints-{log_dir_name}\"\n",
    "if not os.path.exists(dirpath):\n",
    "    os.makedirs(dirpath)\n",
    "checkpoint_callback = ModelCheckpoint(\n",
    "  dirpath=dirpath,\n",
    "  save_top_k=1,\n",
    "  verbose=True,\n",
    "  monitor=\"val_loss\",\n",
    "  mode=\"min\"\n",
    ")"
   ]
  },
  {
   "cell_type": "code",
   "execution_count": 17,
   "metadata": {
    "ExecuteTime": {
     "end_time": "2021-06-01T15:05:23.222350Z",
     "start_time": "2021-06-01T15:05:23.216450Z"
    }
   },
   "outputs": [],
   "source": [
    "logger = TensorBoardLogger(\"lightning_logs\", name=f\"sector-classifier-{log_dir_name}\")"
   ]
  },
  {
   "cell_type": "code",
   "execution_count": 18,
   "metadata": {
    "ExecuteTime": {
     "end_time": "2021-06-01T15:05:36.062619Z",
     "start_time": "2021-06-01T15:05:36.056457Z"
    }
   },
   "outputs": [],
   "source": [
    "early_stopping_callback = EarlyStopping(monitor='val_loss', patience=2)"
   ]
  },
  {
   "cell_type": "code",
   "execution_count": 19,
   "metadata": {
    "ExecuteTime": {
     "end_time": "2021-06-01T15:02:36.756808Z",
     "start_time": "2021-06-01T15:02:35.143455Z"
    }
   },
   "outputs": [
    {
     "name": "stderr",
     "output_type": "stream",
     "text": [
      "GPU available: True, used: True\n",
      "TPU available: False, using: 0 TPU cores\n"
     ]
    }
   ],
   "source": [
    "trainer = pl.Trainer(\n",
    "    logger=logger,\n",
    "    callbacks=[early_stopping_callback, checkpoint_callback],\n",
    "    progress_bar_refresh_rate=30,\n",
    "    profiler=\"simple\",\n",
    "    log_gpu_memory=True,\n",
    "    weights_summary=None,\n",
    "    gpus=1,\n",
    "    accumulate_grad_batches=1,\n",
    "    max_epochs=EPOCHS,\n",
    "    gradient_clip_val=1,\n",
    "    gradient_clip_algorithm='norm',\n",
    "    #overfit_batches=1,\n",
    "    #limit_predict_batches=2,\n",
    "    #limit_test_batches=2,\n",
    "    #fast_dev_run=True,\n",
    "    #limit_train_batches=1,\n",
    "    #limit_val_batches=1,\n",
    "    #limit_test_batches: Union[int, float] = 1.0,\n",
    ")"
   ]
  },
  {
   "cell_type": "code",
   "execution_count": 20,
   "metadata": {
    "ExecuteTime": {
     "end_time": "2021-06-01T15:02:51.684436Z",
     "start_time": "2021-06-01T15:02:41.889881Z"
    }
   },
   "outputs": [],
   "source": [
    "empty_dataset = SectorsDataset(None, sectorname_to_sectorid, tokenizer,\n",
    "                         MAX_LEN)\n",
    "model = SectorsTransformer(MODEL_NAME,\n",
    "                           len(sectorname_to_sectorid),\n",
    "                           empty_dataset,\n",
    "                           gpus=1,\n",
    "                           precision=16,\n",
    "                           plugin='deepspeed_stage_3_offload',\n",
    "                           accumulate_grad_batches=1,\n",
    "                           max_epochs=EPOCHS)"
   ]
  },
  {
   "cell_type": "code",
   "execution_count": 21,
   "metadata": {
    "ExecuteTime": {
     "end_time": "2021-05-24T13:40:56.746204Z",
     "start_time": "2021-05-24T13:39:46.376623Z"
    },
    "scrolled": true
   },
   "outputs": [
    {
     "name": "stderr",
     "output_type": "stream",
     "text": [
      "LOCAL_RANK: 0 - CUDA_VISIBLE_DEVICES: [0]\n"
     ]
    },
    {
     "data": {
      "application/vnd.jupyter.widget-view+json": {
       "model_id": "85fb49c7b6db482c931c8f19ba404615",
       "version_major": 2,
       "version_minor": 0
      },
      "text/plain": [
       "Validation sanity check: 0it [00:00, ?it/s]"
      ]
     },
     "metadata": {},
     "output_type": "display_data"
    },
    {
     "name": "stderr",
     "output_type": "stream",
     "text": [
      "Global seed set to 2021\n"
     ]
    },
    {
     "data": {
      "application/vnd.jupyter.widget-view+json": {
       "model_id": "f6a4683525e947c3ac56c76452b624ee",
       "version_major": 2,
       "version_minor": 0
      },
      "text/plain": [
       "Training: 0it [00:00, ?it/s]"
      ]
     },
     "metadata": {},
     "output_type": "display_data"
    },
    {
     "data": {
      "application/vnd.jupyter.widget-view+json": {
       "model_id": "",
       "version_major": 2,
       "version_minor": 0
      },
      "text/plain": [
       "Validating: 0it [00:00, ?it/s]"
      ]
     },
     "metadata": {},
     "output_type": "display_data"
    },
    {
     "name": "stderr",
     "output_type": "stream",
     "text": [
      "Epoch 0, global step 2832: val_loss reached 0.21577 (best 0.21577), saving model to \"/home/ec2-user/SageMaker/deep-experiments/notebooks/models/abdullah/deberta_on_datav0.4.2/checkpoints-sentence-transformers-paraphrase-TinyBERT-L6-v2/epoch=0-step=2832-v1.ckpt\" as top 1\n",
      "/home/ec2-user/anaconda3/envs/pytorch_latest_p36/lib/python3.6/site-packages/torch/optim/lr_scheduler.py:216: UserWarning: Please also save or load the state of the optimizer when saving or loading the scheduler.\n",
      "  warnings.warn(SAVE_STATE_WARNING, UserWarning)\n"
     ]
    },
    {
     "data": {
      "application/vnd.jupyter.widget-view+json": {
       "model_id": "",
       "version_major": 2,
       "version_minor": 0
      },
      "text/plain": [
       "Validating: 0it [00:00, ?it/s]"
      ]
     },
     "metadata": {},
     "output_type": "display_data"
    },
    {
     "name": "stderr",
     "output_type": "stream",
     "text": [
      "Epoch 1, global step 5665: val_loss was not in top 1\n"
     ]
    },
    {
     "data": {
      "application/vnd.jupyter.widget-view+json": {
       "model_id": "",
       "version_major": 2,
       "version_minor": 0
      },
      "text/plain": [
       "Validating: 0it [00:00, ?it/s]"
      ]
     },
     "metadata": {},
     "output_type": "display_data"
    },
    {
     "name": "stderr",
     "output_type": "stream",
     "text": [
      "Epoch 2, global step 8498: val_loss was not in top 1\n",
      "FIT Profiler Report\n",
      "\n",
      "Action                             \t|  Mean duration (s)\t|Num calls      \t|  Total time (s) \t|  Percentage %   \t|\n",
      "--------------------------------------------------------------------------------------------------------------------------------------\n",
      "Total                              \t|  -              \t|_              \t|  9367.8         \t|  100 %          \t|\n",
      "--------------------------------------------------------------------------------------------------------------------------------------\n",
      "run_training_epoch                 \t|  3120.5         \t|3              \t|  9361.6         \t|  99.934         \t|\n",
      "run_training_batch                 \t|  1.0525         \t|8499           \t|  8945.4         \t|  95.491         \t|\n",
      "optimizer_step_and_closure_0       \t|  1.0296         \t|8499           \t|  8750.4         \t|  93.409         \t|\n",
      "training_step_and_backward         \t|  1.0152         \t|8499           \t|  8628.3         \t|  92.106         \t|\n",
      "backward                           \t|  0.61856        \t|8499           \t|  5257.1         \t|  56.119         \t|\n",
      "model_forward                      \t|  0.39309        \t|8499           \t|  3340.9         \t|  35.663         \t|\n",
      "training_step                      \t|  0.39272        \t|8499           \t|  3337.7         \t|  35.63          \t|\n",
      "evaluation_step_and_end            \t|  0.77642        \t|476            \t|  369.58         \t|  3.9452         \t|\n",
      "validation_step                    \t|  0.77616        \t|476            \t|  369.45         \t|  3.9438         \t|\n",
      "get_train_batch                    \t|  0.0027466      \t|8499           \t|  23.344         \t|  0.24919        \t|\n",
      "on_validation_end                  \t|  0.66207        \t|4              \t|  2.6483         \t|  0.02827        \t|\n",
      "on_train_batch_end                 \t|  0.00020215     \t|8499           \t|  1.7181         \t|  0.01834        \t|\n",
      "cache_result                       \t|  2.7077e-05     \t|35469          \t|  0.96039        \t|  0.010252       \t|\n",
      "on_after_backward                  \t|  3.8905e-05     \t|8499           \t|  0.33065        \t|  0.0035297      \t|\n",
      "on_batch_start                     \t|  2.5464e-05     \t|8499           \t|  0.21642        \t|  0.0023103      \t|\n",
      "on_before_zero_grad                \t|  2.4016e-05     \t|8499           \t|  0.20411        \t|  0.0021789      \t|\n",
      "on_batch_end                       \t|  2.3432e-05     \t|8499           \t|  0.19915        \t|  0.0021259      \t|\n",
      "on_train_batch_start               \t|  1.7482e-05     \t|8499           \t|  0.14858        \t|  0.0015861      \t|\n",
      "training_step_end                  \t|  1.7204e-05     \t|8499           \t|  0.14621        \t|  0.0015608      \t|\n",
      "on_validation_start                \t|  0.025049       \t|4              \t|  0.1002         \t|  0.0010696      \t|\n",
      "on_train_start                     \t|  0.092679       \t|1              \t|  0.092679       \t|  0.00098933     \t|\n",
      "on_validation_batch_end            \t|  0.00017042     \t|476            \t|  0.081121       \t|  0.00086595     \t|\n",
      "on_validation_batch_start          \t|  2.4401e-05     \t|476            \t|  0.011615       \t|  0.00012399     \t|\n",
      "validation_step_end                \t|  1.7094e-05     \t|476            \t|  0.0081365      \t|  8.6856e-05     \t|\n",
      "on_train_epoch_start               \t|  0.0025439      \t|3              \t|  0.0076317      \t|  8.1467e-05     \t|\n",
      "on_train_end                       \t|  0.00088237     \t|1              \t|  0.00088237     \t|  9.4192e-06     \t|\n",
      "on_train_epoch_end                 \t|  0.00022866     \t|3              \t|  0.00068598     \t|  7.3227e-06     \t|\n",
      "on_epoch_start                     \t|  2.4195e-05     \t|7              \t|  0.00016937     \t|  1.808e-06      \t|\n",
      "on_epoch_end                       \t|  2.2599e-05     \t|7              \t|  0.00015819     \t|  1.6887e-06     \t|\n",
      "on_validation_epoch_end            \t|  3.0146e-05     \t|4              \t|  0.00012058     \t|  1.2872e-06     \t|\n",
      "on_validation_epoch_start          \t|  1.9674e-05     \t|4              \t|  7.8698e-05     \t|  8.4009e-07     \t|\n",
      "on_fit_start                       \t|  2.8858e-05     \t|1              \t|  2.8858e-05     \t|  3.0805e-07     \t|\n",
      "on_val_dataloader                  \t|  2.5393e-05     \t|1              \t|  2.5393e-05     \t|  2.7107e-07     \t|\n",
      "on_before_accelerator_backend_setup\t|  2.4133e-05     \t|1              \t|  2.4133e-05     \t|  2.5762e-07     \t|\n",
      "on_train_dataloader                \t|  1.5005e-05     \t|1              \t|  1.5005e-05     \t|  1.6018e-07     \t|\n",
      "\n"
     ]
    }
   ],
   "source": [
    "trainer.fit(model)"
   ]
  },
  {
   "cell_type": "code",
   "execution_count": 22,
   "metadata": {},
   "outputs": [
    {
     "data": {
      "application/vnd.jupyter.widget-view+json": {
       "model_id": "f953bc17afd34972af8c2987904b4749",
       "version_major": 2,
       "version_minor": 0
      },
      "text/plain": [
       "  0%|          | 0/157 [00:00<?, ?it/s]"
      ]
     },
     "metadata": {},
     "output_type": "display_data"
    },
    {
     "data": {
      "text/html": [
       "<div>\n",
       "<style scoped>\n",
       "    .dataframe tbody tr th:only-of-type {\n",
       "        vertical-align: middle;\n",
       "    }\n",
       "\n",
       "    .dataframe tbody tr th {\n",
       "        vertical-align: top;\n",
       "    }\n",
       "\n",
       "    .dataframe thead th {\n",
       "        text-align: right;\n",
       "    }\n",
       "</style>\n",
       "<table border=\"1\" class=\"dataframe\">\n",
       "  <thead>\n",
       "    <tr style=\"text-align: right;\">\n",
       "      <th></th>\n",
       "      <th>Sector</th>\n",
       "      <th>Precision</th>\n",
       "      <th>Recall</th>\n",
       "      <th>F1 Score</th>\n",
       "      <th>Accuracy</th>\n",
       "      <th>Support</th>\n",
       "    </tr>\n",
       "  </thead>\n",
       "  <tbody>\n",
       "    <tr>\n",
       "      <th>0</th>\n",
       "      <td>Agriculture</td>\n",
       "      <td>0.792588</td>\n",
       "      <td>0.760604</td>\n",
       "      <td>0.775625</td>\n",
       "      <td>0.985109</td>\n",
       "      <td>180</td>\n",
       "    </tr>\n",
       "    <tr>\n",
       "      <th>1</th>\n",
       "      <td>Cross</td>\n",
       "      <td>0.773419</td>\n",
       "      <td>0.718016</td>\n",
       "      <td>0.738549</td>\n",
       "      <td>0.834210</td>\n",
       "      <td>2286</td>\n",
       "    </tr>\n",
       "    <tr>\n",
       "      <th>2</th>\n",
       "      <td>Education</td>\n",
       "      <td>0.914073</td>\n",
       "      <td>0.930221</td>\n",
       "      <td>0.921955</td>\n",
       "      <td>0.975777</td>\n",
       "      <td>836</td>\n",
       "    </tr>\n",
       "    <tr>\n",
       "      <th>3</th>\n",
       "      <td>Food Security</td>\n",
       "      <td>0.880135</td>\n",
       "      <td>0.896560</td>\n",
       "      <td>0.888102</td>\n",
       "      <td>0.952844</td>\n",
       "      <td>1176</td>\n",
       "    </tr>\n",
       "    <tr>\n",
       "      <th>4</th>\n",
       "      <td>Health</td>\n",
       "      <td>0.886749</td>\n",
       "      <td>0.898724</td>\n",
       "      <td>0.892410</td>\n",
       "      <td>0.911844</td>\n",
       "      <td>2822</td>\n",
       "    </tr>\n",
       "    <tr>\n",
       "      <th>5</th>\n",
       "      <td>Livelihoods</td>\n",
       "      <td>0.836648</td>\n",
       "      <td>0.810591</td>\n",
       "      <td>0.822842</td>\n",
       "      <td>0.923558</td>\n",
       "      <td>1297</td>\n",
       "    </tr>\n",
       "    <tr>\n",
       "      <th>6</th>\n",
       "      <td>Logistics</td>\n",
       "      <td>0.862493</td>\n",
       "      <td>0.685743</td>\n",
       "      <td>0.744296</td>\n",
       "      <td>0.983520</td>\n",
       "      <td>219</td>\n",
       "    </tr>\n",
       "    <tr>\n",
       "      <th>7</th>\n",
       "      <td>Nutrition</td>\n",
       "      <td>0.902173</td>\n",
       "      <td>0.918276</td>\n",
       "      <td>0.910050</td>\n",
       "      <td>0.985804</td>\n",
       "      <td>406</td>\n",
       "    </tr>\n",
       "    <tr>\n",
       "      <th>8</th>\n",
       "      <td>Protection</td>\n",
       "      <td>0.870662</td>\n",
       "      <td>0.862812</td>\n",
       "      <td>0.866644</td>\n",
       "      <td>0.910553</td>\n",
       "      <td>2178</td>\n",
       "    </tr>\n",
       "    <tr>\n",
       "      <th>9</th>\n",
       "      <td>Shelter</td>\n",
       "      <td>0.870524</td>\n",
       "      <td>0.870074</td>\n",
       "      <td>0.870299</td>\n",
       "      <td>0.963963</td>\n",
       "      <td>757</td>\n",
       "    </tr>\n",
       "    <tr>\n",
       "      <th>10</th>\n",
       "      <td>WASH</td>\n",
       "      <td>0.907071</td>\n",
       "      <td>0.913906</td>\n",
       "      <td>0.910452</td>\n",
       "      <td>0.970317</td>\n",
       "      <td>910</td>\n",
       "    </tr>\n",
       "  </tbody>\n",
       "</table>\n",
       "</div>"
      ],
      "text/plain": [
       "           Sector  Precision    Recall  F1 Score  Accuracy  Support\n",
       "0     Agriculture   0.792588  0.760604  0.775625  0.985109      180\n",
       "1           Cross   0.773419  0.718016  0.738549  0.834210     2286\n",
       "2       Education   0.914073  0.930221  0.921955  0.975777      836\n",
       "3   Food Security   0.880135  0.896560  0.888102  0.952844     1176\n",
       "4          Health   0.886749  0.898724  0.892410  0.911844     2822\n",
       "5     Livelihoods   0.836648  0.810591  0.822842  0.923558     1297\n",
       "6       Logistics   0.862493  0.685743  0.744296  0.983520      219\n",
       "7       Nutrition   0.902173  0.918276  0.910050  0.985804      406\n",
       "8      Protection   0.870662  0.862812  0.866644  0.910553     2178\n",
       "9         Shelter   0.870524  0.870074  0.870299  0.963963      757\n",
       "10           WASH   0.907071  0.913906  0.910452  0.970317      910"
      ]
     },
     "execution_count": 22,
     "metadata": {},
     "output_type": "execute_result"
    }
   ],
   "source": [
    "df_metrics_val = model.custom_eval(val_loader)\n",
    "df_metrics_val"
   ]
  },
  {
   "cell_type": "code",
   "execution_count": 23,
   "metadata": {},
   "outputs": [
    {
     "data": {
      "application/vnd.jupyter.widget-view+json": {
       "model_id": "ae1a226740244cf8b2dacb0099611f5c",
       "version_major": 2,
       "version_minor": 0
      },
      "text/plain": [
       "  0%|          | 0/2832 [00:00<?, ?it/s]"
      ]
     },
     "metadata": {},
     "output_type": "display_data"
    },
    {
     "data": {
      "text/html": [
       "<div>\n",
       "<style scoped>\n",
       "    .dataframe tbody tr th:only-of-type {\n",
       "        vertical-align: middle;\n",
       "    }\n",
       "\n",
       "    .dataframe tbody tr th {\n",
       "        vertical-align: top;\n",
       "    }\n",
       "\n",
       "    .dataframe thead th {\n",
       "        text-align: right;\n",
       "    }\n",
       "</style>\n",
       "<table border=\"1\" class=\"dataframe\">\n",
       "  <thead>\n",
       "    <tr style=\"text-align: right;\">\n",
       "      <th></th>\n",
       "      <th>Sector</th>\n",
       "      <th>Precision</th>\n",
       "      <th>Recall</th>\n",
       "      <th>F1 Score</th>\n",
       "      <th>Accuracy</th>\n",
       "      <th>Support</th>\n",
       "    </tr>\n",
       "  </thead>\n",
       "  <tbody>\n",
       "    <tr>\n",
       "      <th>0</th>\n",
       "      <td>Agriculture</td>\n",
       "      <td>0.865144</td>\n",
       "      <td>0.815234</td>\n",
       "      <td>0.838249</td>\n",
       "      <td>0.985649</td>\n",
       "      <td>2212</td>\n",
       "    </tr>\n",
       "    <tr>\n",
       "      <th>1</th>\n",
       "      <td>Cross</td>\n",
       "      <td>0.842598</td>\n",
       "      <td>0.788337</td>\n",
       "      <td>0.810380</td>\n",
       "      <td>0.877037</td>\n",
       "      <td>20577</td>\n",
       "    </tr>\n",
       "    <tr>\n",
       "      <th>2</th>\n",
       "      <td>Education</td>\n",
       "      <td>0.937139</td>\n",
       "      <td>0.956862</td>\n",
       "      <td>0.946731</td>\n",
       "      <td>0.983420</td>\n",
       "      <td>7522</td>\n",
       "    </tr>\n",
       "    <tr>\n",
       "      <th>3</th>\n",
       "      <td>Food Security</td>\n",
       "      <td>0.913567</td>\n",
       "      <td>0.931166</td>\n",
       "      <td>0.922110</td>\n",
       "      <td>0.967183</td>\n",
       "      <td>10585</td>\n",
       "    </tr>\n",
       "    <tr>\n",
       "      <th>4</th>\n",
       "      <td>Health</td>\n",
       "      <td>0.921182</td>\n",
       "      <td>0.927000</td>\n",
       "      <td>0.924024</td>\n",
       "      <td>0.938281</td>\n",
       "      <td>25400</td>\n",
       "    </tr>\n",
       "    <tr>\n",
       "      <th>5</th>\n",
       "      <td>Livelihoods</td>\n",
       "      <td>0.872644</td>\n",
       "      <td>0.842085</td>\n",
       "      <td>0.856416</td>\n",
       "      <td>0.938193</td>\n",
       "      <td>11672</td>\n",
       "    </tr>\n",
       "    <tr>\n",
       "      <th>6</th>\n",
       "      <td>Logistics</td>\n",
       "      <td>0.897629</td>\n",
       "      <td>0.757563</td>\n",
       "      <td>0.811994</td>\n",
       "      <td>0.988031</td>\n",
       "      <td>1785</td>\n",
       "    </tr>\n",
       "    <tr>\n",
       "      <th>7</th>\n",
       "      <td>Nutrition</td>\n",
       "      <td>0.917515</td>\n",
       "      <td>0.922653</td>\n",
       "      <td>0.920067</td>\n",
       "      <td>0.987546</td>\n",
       "      <td>3657</td>\n",
       "    </tr>\n",
       "    <tr>\n",
       "      <th>8</th>\n",
       "      <td>Protection</td>\n",
       "      <td>0.902021</td>\n",
       "      <td>0.896321</td>\n",
       "      <td>0.899127</td>\n",
       "      <td>0.932104</td>\n",
       "      <td>19601</td>\n",
       "    </tr>\n",
       "    <tr>\n",
       "      <th>9</th>\n",
       "      <td>Shelter</td>\n",
       "      <td>0.913974</td>\n",
       "      <td>0.908554</td>\n",
       "      <td>0.911242</td>\n",
       "      <td>0.975478</td>\n",
       "      <td>6815</td>\n",
       "    </tr>\n",
       "    <tr>\n",
       "      <th>10</th>\n",
       "      <td>WASH</td>\n",
       "      <td>0.933748</td>\n",
       "      <td>0.949245</td>\n",
       "      <td>0.941325</td>\n",
       "      <td>0.980817</td>\n",
       "      <td>7982</td>\n",
       "    </tr>\n",
       "  </tbody>\n",
       "</table>\n",
       "</div>"
      ],
      "text/plain": [
       "           Sector  Precision    Recall  F1 Score  Accuracy  Support\n",
       "0     Agriculture   0.865144  0.815234  0.838249  0.985649     2212\n",
       "1           Cross   0.842598  0.788337  0.810380  0.877037    20577\n",
       "2       Education   0.937139  0.956862  0.946731  0.983420     7522\n",
       "3   Food Security   0.913567  0.931166  0.922110  0.967183    10585\n",
       "4          Health   0.921182  0.927000  0.924024  0.938281    25400\n",
       "5     Livelihoods   0.872644  0.842085  0.856416  0.938193    11672\n",
       "6       Logistics   0.897629  0.757563  0.811994  0.988031     1785\n",
       "7       Nutrition   0.917515  0.922653  0.920067  0.987546     3657\n",
       "8      Protection   0.902021  0.896321  0.899127  0.932104    19601\n",
       "9         Shelter   0.913974  0.908554  0.911242  0.975478     6815\n",
       "10           WASH   0.933748  0.949245  0.941325  0.980817     7982"
      ]
     },
     "execution_count": 23,
     "metadata": {},
     "output_type": "execute_result"
    }
   ],
   "source": [
    "df_metrics_train = model.custom_eval(training_loader)\n",
    "df_metrics_train"
   ]
  },
  {
   "cell_type": "code",
   "execution_count": null,
   "metadata": {},
   "outputs": [],
   "source": []
  }
 ],
 "metadata": {
  "kernelspec": {
   "display_name": "conda_pytorch_latest_p36",
   "language": "python",
   "name": "conda_pytorch_latest_p36"
  },
  "language_info": {
   "codemirror_mode": {
    "name": "ipython",
    "version": 3
   },
   "file_extension": ".py",
   "mimetype": "text/x-python",
   "name": "python",
   "nbconvert_exporter": "python",
   "pygments_lexer": "ipython3",
   "version": "3.6.13"
  }
 },
 "nbformat": 4,
 "nbformat_minor": 4
}
