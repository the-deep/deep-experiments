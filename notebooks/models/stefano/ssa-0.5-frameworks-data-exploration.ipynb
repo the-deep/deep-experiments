{
 "cells": [
  {
   "cell_type": "markdown",
   "id": "e8c45bbe",
   "metadata": {},
   "source": [
    "Using kernel `conda_pytorch_latest_p36`"
   ]
  },
  {
   "cell_type": "code",
   "execution_count": 1,
   "id": "c975a209",
   "metadata": {
    "ExecuteTime": {
     "end_time": "2021-05-31T16:32:14.041627Z",
     "start_time": "2021-05-31T16:32:14.034702Z"
    }
   },
   "outputs": [],
   "source": [
    "import sys\n",
    "sys.path.append('../../../')"
   ]
  },
  {
   "cell_type": "code",
   "execution_count": 2,
   "id": "29900dab",
   "metadata": {
    "ExecuteTime": {
     "end_time": "2021-05-31T16:32:14.222208Z",
     "start_time": "2021-05-31T16:32:14.218471Z"
    }
   },
   "outputs": [],
   "source": [
    "from pathlib import Path\n",
    "import os\n",
    "import random"
   ]
  },
  {
   "cell_type": "code",
   "execution_count": 3,
   "id": "ce8da4b4",
   "metadata": {
    "ExecuteTime": {
     "end_time": "2021-05-31T16:32:15.764625Z",
     "start_time": "2021-05-31T16:32:14.404039Z"
    }
   },
   "outputs": [],
   "source": [
    "import pandas as pd\n",
    "import numpy as np\n",
    "from sklearn.metrics import classification_report\n",
    "import torch"
   ]
  },
  {
   "cell_type": "code",
   "execution_count": 4,
   "id": "90f7f70d",
   "metadata": {
    "ExecuteTime": {
     "end_time": "2021-05-31T16:32:15.919808Z",
     "start_time": "2021-05-31T16:32:15.765684Z"
    }
   },
   "outputs": [],
   "source": [
    "from deep.constants import *"
   ]
  },
  {
   "cell_type": "markdown",
   "id": "a2fa4654",
   "metadata": {},
   "source": [
    "## Data"
   ]
  },
  {
   "cell_type": "code",
   "execution_count": 6,
   "id": "9b3c4e04",
   "metadata": {
    "ExecuteTime": {
     "end_time": "2021-05-31T16:32:23.812110Z",
     "start_time": "2021-05-31T16:32:23.808436Z"
    }
   },
   "outputs": [],
   "source": [
    "data = FRAMEWORKS_PATH / 'data_v0.4.2'"
   ]
  },
  {
   "cell_type": "code",
   "execution_count": 11,
   "id": "76918b63",
   "metadata": {
    "ExecuteTime": {
     "end_time": "2021-05-31T16:33:08.027520Z",
     "start_time": "2021-05-31T16:33:07.114292Z"
    }
   },
   "outputs": [],
   "source": [
    "train = pd.read_csv(data / 'data_v0.4.2_train.csv')\n",
    "val = pd.read_csv(data / 'data_v0.4.2_val.csv')\n",
    "test = pd.read_csv(data / 'data_v0.4.2_test.csv')"
   ]
  },
  {
   "cell_type": "code",
   "execution_count": 12,
   "id": "90e5d9c1",
   "metadata": {
    "ExecuteTime": {
     "end_time": "2021-05-31T16:33:09.375108Z",
     "start_time": "2021-05-31T16:33:09.320622Z"
    }
   },
   "outputs": [
    {
     "data": {
      "text/html": [
       "<div>\n",
       "<style scoped>\n",
       "    .dataframe tbody tr th:only-of-type {\n",
       "        vertical-align: middle;\n",
       "    }\n",
       "\n",
       "    .dataframe tbody tr th {\n",
       "        vertical-align: top;\n",
       "    }\n",
       "\n",
       "    .dataframe thead th {\n",
       "        text-align: right;\n",
       "    }\n",
       "</style>\n",
       "<table border=\"1\" class=\"dataframe\">\n",
       "  <thead>\n",
       "    <tr style=\"text-align: right;\">\n",
       "      <th></th>\n",
       "      <th>entry_id</th>\n",
       "      <th>lead_id</th>\n",
       "      <th>project_id</th>\n",
       "      <th>project_title</th>\n",
       "      <th>analysis_framework_id</th>\n",
       "      <th>excerpt</th>\n",
       "      <th>dropped_excerpt</th>\n",
       "      <th>created_by_id</th>\n",
       "      <th>modified_by_id</th>\n",
       "      <th>verified</th>\n",
       "      <th>verification_last_changed_by_id</th>\n",
       "      <th>sectors</th>\n",
       "      <th>pillars</th>\n",
       "      <th>subpillars</th>\n",
       "    </tr>\n",
       "  </thead>\n",
       "  <tbody>\n",
       "    <tr>\n",
       "      <th>0</th>\n",
       "      <td>162814</td>\n",
       "      <td>37820</td>\n",
       "      <td>2098</td>\n",
       "      <td>IMMAP/DFS Bangladesh</td>\n",
       "      <td>1306</td>\n",
       "      <td>Dispatch and Referral Unit (DRU): IOM continue...</td>\n",
       "      <td>NaN</td>\n",
       "      <td>657</td>\n",
       "      <td>2233</td>\n",
       "      <td>False</td>\n",
       "      <td>NaN</td>\n",
       "      <td>['Logistics']</td>\n",
       "      <td>['Impact']</td>\n",
       "      <td>['International Response']</td>\n",
       "    </tr>\n",
       "    <tr>\n",
       "      <th>1</th>\n",
       "      <td>163664</td>\n",
       "      <td>35315</td>\n",
       "      <td>2028</td>\n",
       "      <td>IMMAP/DFS Syria</td>\n",
       "      <td>1306</td>\n",
       "      <td>Market monitoring by the World Food Programme ...</td>\n",
       "      <td>NaN</td>\n",
       "      <td>2232</td>\n",
       "      <td>2232</td>\n",
       "      <td>False</td>\n",
       "      <td>NaN</td>\n",
       "      <td>['Food Security']</td>\n",
       "      <td>['Impact']</td>\n",
       "      <td>['Impact On Systems And Services']</td>\n",
       "    </tr>\n",
       "    <tr>\n",
       "      <th>2</th>\n",
       "      <td>163115</td>\n",
       "      <td>37820</td>\n",
       "      <td>2098</td>\n",
       "      <td>IMMAP/DFS Bangladesh</td>\n",
       "      <td>1306</td>\n",
       "      <td>The RIRT coordination system has been formaliz...</td>\n",
       "      <td>NaN</td>\n",
       "      <td>2233</td>\n",
       "      <td>2233</td>\n",
       "      <td>False</td>\n",
       "      <td>NaN</td>\n",
       "      <td>['Health']</td>\n",
       "      <td>['Impact']</td>\n",
       "      <td>['International Response']</td>\n",
       "    </tr>\n",
       "    <tr>\n",
       "      <th>3</th>\n",
       "      <td>164560</td>\n",
       "      <td>39796</td>\n",
       "      <td>2098</td>\n",
       "      <td>IMMAP/DFS Bangladesh</td>\n",
       "      <td>1306</td>\n",
       "      <td>Within dimensions, markets are broadly operati...</td>\n",
       "      <td>NaN</td>\n",
       "      <td>1152</td>\n",
       "      <td>1152</td>\n",
       "      <td>False</td>\n",
       "      <td>NaN</td>\n",
       "      <td>['Cross']</td>\n",
       "      <td>['Impact']</td>\n",
       "      <td>['Impact On Systems And Services']</td>\n",
       "    </tr>\n",
       "    <tr>\n",
       "      <th>4</th>\n",
       "      <td>158430</td>\n",
       "      <td>39175</td>\n",
       "      <td>2170</td>\n",
       "      <td>IMMAP/DFS Nigeria</td>\n",
       "      <td>1306</td>\n",
       "      <td>A total of 269 awareness sessions and sensitiz...</td>\n",
       "      <td>NaN</td>\n",
       "      <td>2232</td>\n",
       "      <td>26</td>\n",
       "      <td>False</td>\n",
       "      <td>NaN</td>\n",
       "      <td>['Health', 'Protection']</td>\n",
       "      <td>['Impact']</td>\n",
       "      <td>['Number Of People Reached']</td>\n",
       "    </tr>\n",
       "    <tr>\n",
       "      <th>...</th>\n",
       "      <td>...</td>\n",
       "      <td>...</td>\n",
       "      <td>...</td>\n",
       "      <td>...</td>\n",
       "      <td>...</td>\n",
       "      <td>...</td>\n",
       "      <td>...</td>\n",
       "      <td>...</td>\n",
       "      <td>...</td>\n",
       "      <td>...</td>\n",
       "      <td>...</td>\n",
       "      <td>...</td>\n",
       "      <td>...</td>\n",
       "      <td>...</td>\n",
       "    </tr>\n",
       "    <tr>\n",
       "      <th>90648</th>\n",
       "      <td>282949</td>\n",
       "      <td>51241</td>\n",
       "      <td>2170</td>\n",
       "      <td>IMMAP/DFS Nigeria</td>\n",
       "      <td>1306</td>\n",
       "      <td>[16th Mar 2021,North east Nigeria]The governme...</td>\n",
       "      <td>NaN</td>\n",
       "      <td>2230</td>\n",
       "      <td>26</td>\n",
       "      <td>True</td>\n",
       "      <td>26.0</td>\n",
       "      <td>['Cross']</td>\n",
       "      <td>['Impact']</td>\n",
       "      <td>['Impact On Systems And Services']</td>\n",
       "    </tr>\n",
       "    <tr>\n",
       "      <th>90649</th>\n",
       "      <td>283375</td>\n",
       "      <td>51241</td>\n",
       "      <td>2170</td>\n",
       "      <td>IMMAP/DFS Nigeria</td>\n",
       "      <td>1306</td>\n",
       "      <td>[16th Mar 2021,North east Nigeria] Impact on s...</td>\n",
       "      <td>NaN</td>\n",
       "      <td>2230</td>\n",
       "      <td>1152</td>\n",
       "      <td>True</td>\n",
       "      <td>1152.0</td>\n",
       "      <td>['Livelihoods', 'Health', 'Protection', 'Educa...</td>\n",
       "      <td>['People At Risk', 'Impact']</td>\n",
       "      <td>['Living Standards', 'Driver/Aggravating Facto...</td>\n",
       "    </tr>\n",
       "    <tr>\n",
       "      <th>90650</th>\n",
       "      <td>268927</td>\n",
       "      <td>49888</td>\n",
       "      <td>2331</td>\n",
       "      <td>GIMAC Somalia</td>\n",
       "      <td>1465</td>\n",
       "      <td>A reported 14 per cent of women aged 15-49 had...</td>\n",
       "      <td>NaN</td>\n",
       "      <td>2741</td>\n",
       "      <td>2272</td>\n",
       "      <td>True</td>\n",
       "      <td>488.0</td>\n",
       "      <td>['Protection']</td>\n",
       "      <td>[]</td>\n",
       "      <td>[]</td>\n",
       "    </tr>\n",
       "    <tr>\n",
       "      <th>90651</th>\n",
       "      <td>268842</td>\n",
       "      <td>49945</td>\n",
       "      <td>2311</td>\n",
       "      <td>IMMAP/DFS Colombia</td>\n",
       "      <td>1306</td>\n",
       "      <td>La alternancia no es solo plantear cuáles niño...</td>\n",
       "      <td>La alternancia no es solo plantear cuáles niño...</td>\n",
       "      <td>2374</td>\n",
       "      <td>2374</td>\n",
       "      <td>True</td>\n",
       "      <td>1403.0</td>\n",
       "      <td>['Education']</td>\n",
       "      <td>['Impact']</td>\n",
       "      <td>['Impact On Systems And Services']</td>\n",
       "    </tr>\n",
       "    <tr>\n",
       "      <th>90652</th>\n",
       "      <td>305234</td>\n",
       "      <td>53100</td>\n",
       "      <td>2334</td>\n",
       "      <td>GIMAC Cameroon</td>\n",
       "      <td>1465</td>\n",
       "      <td>ACQUIS: Procédures de contrôle de l’infection ...</td>\n",
       "      <td>NaN</td>\n",
       "      <td>2854</td>\n",
       "      <td>2854</td>\n",
       "      <td>True</td>\n",
       "      <td>488.0</td>\n",
       "      <td>['Health']</td>\n",
       "      <td>[]</td>\n",
       "      <td>[]</td>\n",
       "    </tr>\n",
       "  </tbody>\n",
       "</table>\n",
       "<p>90653 rows × 14 columns</p>\n",
       "</div>"
      ],
      "text/plain": [
       "       entry_id  lead_id  project_id         project_title  \\\n",
       "0        162814    37820        2098  IMMAP/DFS Bangladesh   \n",
       "1        163664    35315        2028       IMMAP/DFS Syria   \n",
       "2        163115    37820        2098  IMMAP/DFS Bangladesh   \n",
       "3        164560    39796        2098  IMMAP/DFS Bangladesh   \n",
       "4        158430    39175        2170     IMMAP/DFS Nigeria   \n",
       "...         ...      ...         ...                   ...   \n",
       "90648    282949    51241        2170     IMMAP/DFS Nigeria   \n",
       "90649    283375    51241        2170     IMMAP/DFS Nigeria   \n",
       "90650    268927    49888        2331         GIMAC Somalia   \n",
       "90651    268842    49945        2311    IMMAP/DFS Colombia   \n",
       "90652    305234    53100        2334        GIMAC Cameroon   \n",
       "\n",
       "       analysis_framework_id  \\\n",
       "0                       1306   \n",
       "1                       1306   \n",
       "2                       1306   \n",
       "3                       1306   \n",
       "4                       1306   \n",
       "...                      ...   \n",
       "90648                   1306   \n",
       "90649                   1306   \n",
       "90650                   1465   \n",
       "90651                   1306   \n",
       "90652                   1465   \n",
       "\n",
       "                                                 excerpt  \\\n",
       "0      Dispatch and Referral Unit (DRU): IOM continue...   \n",
       "1      Market monitoring by the World Food Programme ...   \n",
       "2      The RIRT coordination system has been formaliz...   \n",
       "3      Within dimensions, markets are broadly operati...   \n",
       "4      A total of 269 awareness sessions and sensitiz...   \n",
       "...                                                  ...   \n",
       "90648  [16th Mar 2021,North east Nigeria]The governme...   \n",
       "90649  [16th Mar 2021,North east Nigeria] Impact on s...   \n",
       "90650  A reported 14 per cent of women aged 15-49 had...   \n",
       "90651  La alternancia no es solo plantear cuáles niño...   \n",
       "90652  ACQUIS: Procédures de contrôle de l’infection ...   \n",
       "\n",
       "                                         dropped_excerpt  created_by_id  \\\n",
       "0                                                    NaN            657   \n",
       "1                                                    NaN           2232   \n",
       "2                                                    NaN           2233   \n",
       "3                                                    NaN           1152   \n",
       "4                                                    NaN           2232   \n",
       "...                                                  ...            ...   \n",
       "90648                                                NaN           2230   \n",
       "90649                                                NaN           2230   \n",
       "90650                                                NaN           2741   \n",
       "90651  La alternancia no es solo plantear cuáles niño...           2374   \n",
       "90652                                                NaN           2854   \n",
       "\n",
       "       modified_by_id  verified  verification_last_changed_by_id  \\\n",
       "0                2233     False                              NaN   \n",
       "1                2232     False                              NaN   \n",
       "2                2233     False                              NaN   \n",
       "3                1152     False                              NaN   \n",
       "4                  26     False                              NaN   \n",
       "...               ...       ...                              ...   \n",
       "90648              26      True                             26.0   \n",
       "90649            1152      True                           1152.0   \n",
       "90650            2272      True                            488.0   \n",
       "90651            2374      True                           1403.0   \n",
       "90652            2854      True                            488.0   \n",
       "\n",
       "                                                 sectors  \\\n",
       "0                                          ['Logistics']   \n",
       "1                                      ['Food Security']   \n",
       "2                                             ['Health']   \n",
       "3                                              ['Cross']   \n",
       "4                               ['Health', 'Protection']   \n",
       "...                                                  ...   \n",
       "90648                                          ['Cross']   \n",
       "90649  ['Livelihoods', 'Health', 'Protection', 'Educa...   \n",
       "90650                                     ['Protection']   \n",
       "90651                                      ['Education']   \n",
       "90652                                         ['Health']   \n",
       "\n",
       "                            pillars  \\\n",
       "0                        ['Impact']   \n",
       "1                        ['Impact']   \n",
       "2                        ['Impact']   \n",
       "3                        ['Impact']   \n",
       "4                        ['Impact']   \n",
       "...                             ...   \n",
       "90648                    ['Impact']   \n",
       "90649  ['People At Risk', 'Impact']   \n",
       "90650                            []   \n",
       "90651                    ['Impact']   \n",
       "90652                            []   \n",
       "\n",
       "                                              subpillars  \n",
       "0                             ['International Response']  \n",
       "1                     ['Impact On Systems And Services']  \n",
       "2                             ['International Response']  \n",
       "3                     ['Impact On Systems And Services']  \n",
       "4                           ['Number Of People Reached']  \n",
       "...                                                  ...  \n",
       "90648                 ['Impact On Systems And Services']  \n",
       "90649  ['Living Standards', 'Driver/Aggravating Facto...  \n",
       "90650                                                 []  \n",
       "90651                 ['Impact On Systems And Services']  \n",
       "90652                                                 []  \n",
       "\n",
       "[90653 rows x 14 columns]"
      ]
     },
     "execution_count": 12,
     "metadata": {},
     "output_type": "execute_result"
    }
   ],
   "source": [
    "train"
   ]
  },
  {
   "cell_type": "code",
   "execution_count": 13,
   "id": "b6ad1f22",
   "metadata": {},
   "outputs": [],
   "source": [
    "dim = train[DIMENSION_CLASSES]"
   ]
  },
  {
   "cell_type": "code",
   "execution_count": 26,
   "id": "03d98482",
   "metadata": {},
   "outputs": [
    {
     "data": {
      "text/html": [
       "<div>\n",
       "<style scoped>\n",
       "    .dataframe tbody tr th:only-of-type {\n",
       "        vertical-align: middle;\n",
       "    }\n",
       "\n",
       "    .dataframe tbody tr th {\n",
       "        vertical-align: top;\n",
       "    }\n",
       "\n",
       "    .dataframe thead th {\n",
       "        text-align: right;\n",
       "    }\n",
       "</style>\n",
       "<table border=\"1\" class=\"dataframe\">\n",
       "  <thead>\n",
       "    <tr style=\"text-align: right;\">\n",
       "      <th></th>\n",
       "      <th>Shock Informaton</th>\n",
       "      <th>Effects Systems And Networks</th>\n",
       "      <th>Effects On Population</th>\n",
       "      <th>Capacities &amp; Response</th>\n",
       "      <th>At Risk</th>\n",
       "      <th>Scope &amp; Scale</th>\n",
       "      <th>Impact</th>\n",
       "      <th>Humanitarian Conditions</th>\n",
       "      <th>Priorities</th>\n",
       "      <th>Context</th>\n",
       "    </tr>\n",
       "  </thead>\n",
       "  <tbody>\n",
       "    <tr>\n",
       "      <th>count</th>\n",
       "      <td>85922.000000</td>\n",
       "      <td>85922.000000</td>\n",
       "      <td>85922.000000</td>\n",
       "      <td>85922.000000</td>\n",
       "      <td>85922.000000</td>\n",
       "      <td>85922.000000</td>\n",
       "      <td>85922.000000</td>\n",
       "      <td>85922.000000</td>\n",
       "      <td>85922.000000</td>\n",
       "      <td>85922.000000</td>\n",
       "    </tr>\n",
       "    <tr>\n",
       "      <th>mean</th>\n",
       "      <td>0.022753</td>\n",
       "      <td>0.040839</td>\n",
       "      <td>0.048451</td>\n",
       "      <td>0.154908</td>\n",
       "      <td>0.043539</td>\n",
       "      <td>0.047508</td>\n",
       "      <td>0.186134</td>\n",
       "      <td>0.476642</td>\n",
       "      <td>0.074323</td>\n",
       "      <td>0.116315</td>\n",
       "    </tr>\n",
       "    <tr>\n",
       "      <th>std</th>\n",
       "      <td>0.149117</td>\n",
       "      <td>0.197919</td>\n",
       "      <td>0.214718</td>\n",
       "      <td>0.361819</td>\n",
       "      <td>0.204069</td>\n",
       "      <td>0.212724</td>\n",
       "      <td>0.389217</td>\n",
       "      <td>0.499457</td>\n",
       "      <td>0.262298</td>\n",
       "      <td>0.320604</td>\n",
       "    </tr>\n",
       "    <tr>\n",
       "      <th>min</th>\n",
       "      <td>0.000000</td>\n",
       "      <td>0.000000</td>\n",
       "      <td>0.000000</td>\n",
       "      <td>0.000000</td>\n",
       "      <td>0.000000</td>\n",
       "      <td>0.000000</td>\n",
       "      <td>0.000000</td>\n",
       "      <td>0.000000</td>\n",
       "      <td>0.000000</td>\n",
       "      <td>0.000000</td>\n",
       "    </tr>\n",
       "    <tr>\n",
       "      <th>25%</th>\n",
       "      <td>0.000000</td>\n",
       "      <td>0.000000</td>\n",
       "      <td>0.000000</td>\n",
       "      <td>0.000000</td>\n",
       "      <td>0.000000</td>\n",
       "      <td>0.000000</td>\n",
       "      <td>0.000000</td>\n",
       "      <td>0.000000</td>\n",
       "      <td>0.000000</td>\n",
       "      <td>0.000000</td>\n",
       "    </tr>\n",
       "    <tr>\n",
       "      <th>50%</th>\n",
       "      <td>0.000000</td>\n",
       "      <td>0.000000</td>\n",
       "      <td>0.000000</td>\n",
       "      <td>0.000000</td>\n",
       "      <td>0.000000</td>\n",
       "      <td>0.000000</td>\n",
       "      <td>0.000000</td>\n",
       "      <td>0.000000</td>\n",
       "      <td>0.000000</td>\n",
       "      <td>0.000000</td>\n",
       "    </tr>\n",
       "    <tr>\n",
       "      <th>75%</th>\n",
       "      <td>0.000000</td>\n",
       "      <td>0.000000</td>\n",
       "      <td>0.000000</td>\n",
       "      <td>0.000000</td>\n",
       "      <td>0.000000</td>\n",
       "      <td>0.000000</td>\n",
       "      <td>0.000000</td>\n",
       "      <td>1.000000</td>\n",
       "      <td>0.000000</td>\n",
       "      <td>0.000000</td>\n",
       "    </tr>\n",
       "    <tr>\n",
       "      <th>max</th>\n",
       "      <td>1.000000</td>\n",
       "      <td>1.000000</td>\n",
       "      <td>1.000000</td>\n",
       "      <td>1.000000</td>\n",
       "      <td>1.000000</td>\n",
       "      <td>1.000000</td>\n",
       "      <td>1.000000</td>\n",
       "      <td>1.000000</td>\n",
       "      <td>1.000000</td>\n",
       "      <td>1.000000</td>\n",
       "    </tr>\n",
       "  </tbody>\n",
       "</table>\n",
       "</div>"
      ],
      "text/plain": [
       "       Shock Informaton  Effects Systems And Networks  Effects On Population  \\\n",
       "count      85922.000000                  85922.000000           85922.000000   \n",
       "mean           0.022753                      0.040839               0.048451   \n",
       "std            0.149117                      0.197919               0.214718   \n",
       "min            0.000000                      0.000000               0.000000   \n",
       "25%            0.000000                      0.000000               0.000000   \n",
       "50%            0.000000                      0.000000               0.000000   \n",
       "75%            0.000000                      0.000000               0.000000   \n",
       "max            1.000000                      1.000000               1.000000   \n",
       "\n",
       "       Capacities & Response       At Risk  Scope & Scale        Impact  \\\n",
       "count           85922.000000  85922.000000   85922.000000  85922.000000   \n",
       "mean                0.154908      0.043539       0.047508      0.186134   \n",
       "std                 0.361819      0.204069       0.212724      0.389217   \n",
       "min                 0.000000      0.000000       0.000000      0.000000   \n",
       "25%                 0.000000      0.000000       0.000000      0.000000   \n",
       "50%                 0.000000      0.000000       0.000000      0.000000   \n",
       "75%                 0.000000      0.000000       0.000000      0.000000   \n",
       "max                 1.000000      1.000000       1.000000      1.000000   \n",
       "\n",
       "       Humanitarian Conditions    Priorities       Context  \n",
       "count             85922.000000  85922.000000  85922.000000  \n",
       "mean                  0.476642      0.074323      0.116315  \n",
       "std                   0.499457      0.262298      0.320604  \n",
       "min                   0.000000      0.000000      0.000000  \n",
       "25%                   0.000000      0.000000      0.000000  \n",
       "50%                   0.000000      0.000000      0.000000  \n",
       "75%                   1.000000      0.000000      0.000000  \n",
       "max                   1.000000      1.000000      1.000000  "
      ]
     },
     "execution_count": 26,
     "metadata": {},
     "output_type": "execute_result"
    }
   ],
   "source": [
    "dim.describe()"
   ]
  },
  {
   "cell_type": "code",
   "execution_count": 9,
   "id": "d64cc649",
   "metadata": {
    "scrolled": true
   },
   "outputs": [
    {
     "data": {
      "text/plain": [
       "(85922, 46)"
      ]
     },
     "execution_count": 9,
     "metadata": {},
     "output_type": "execute_result"
    }
   ],
   "source": [
    "train.shape"
   ]
  },
  {
   "cell_type": "code",
   "execution_count": 25,
   "id": "790f19a5",
   "metadata": {
    "scrolled": true
   },
   "outputs": [
    {
     "data": {
      "text/plain": [
       "0        Our concern for the impact of the pandemic on ...\n",
       "1        WHO has provided sanitizers, PPE, and 92 infra...\n",
       "2        For COVID-19: • Another batch of supplies, und...\n",
       "3        On 28 April, the first repatriation flight of ...\n",
       "4        UNICEF has further provided additional support...\n",
       "                               ...                        \n",
       "85917    Kismayo IDPs registered a GAM prevalence of 12...\n",
       "85918    The poor nutrition situation in Kismayo IDPs i...\n",
       "85919    Kismayo Urban recorded a GAM prevalence of 12....\n",
       "85920    Galkacyo IDPs recorded a GAM prevalence of 10....\n",
       "85921    As of 7 April, Somalia has recorded close to 1...\n",
       "Name: excerpt, Length: 85922, dtype: object"
      ]
     },
     "execution_count": 25,
     "metadata": {},
     "output_type": "execute_result"
    }
   ],
   "source": [
    "train.excerpt"
   ]
  },
  {
   "cell_type": "code",
   "execution_count": 22,
   "id": "2209c2dd",
   "metadata": {},
   "outputs": [
    {
     "data": {
      "text/plain": [
       "Index(['entry_id', 'excerpt', 'analysis_framework_id', 'created_by_id',\n",
       "       'lead_id', 'modified_by_id', 'information_date', 'order', 'client_id',\n",
       "       'project_id', 'tabular_field_id', 'dropped_excerpt', 'verified',\n",
       "       'verification_last_changed_by_id', 'exportdata_id', 'exportable_id',\n",
       "       'dimensions', 'subdimensions', 'sectors', 'subsectors', 'Shelter',\n",
       "       'Livelihoods', 'Protection', 'Shelter and NFIs', 'NFI', 'Food Security',\n",
       "       'Logistics', 'Cross', 'CCCM', 'Agriculture', 'Health', 'Nutrition',\n",
       "       'Education', 'WASH', 'sector_ids', 'Shock Informaton',\n",
       "       'Effects Systems And Networks', 'Effects On Population',\n",
       "       'Capacities & Response', 'At Risk', 'Scope & Scale', 'Impact',\n",
       "       'Humanitarian Conditions', 'Priorities', 'Context', 'dimension_ids'],\n",
       "      dtype='object')"
      ]
     },
     "execution_count": 22,
     "metadata": {},
     "output_type": "execute_result"
    }
   ],
   "source": [
    "train.columns"
   ]
  },
  {
   "cell_type": "code",
   "execution_count": 24,
   "id": "7b2dbd24",
   "metadata": {},
   "outputs": [
    {
     "data": {
      "text/plain": [
       "0                        ['Physical & Mental Wellbeing']\n",
       "1                                      ['International']\n",
       "2                            ['National & Local Actors']\n",
       "3                     ['Government & Local Authorities']\n",
       "4                                      ['International']\n",
       "                              ...                       \n",
       "85917                           ['Humanitarian Profile']\n",
       "85918                           ['Humanitarian Profile']\n",
       "85919                                                 []\n",
       "85920                                                 []\n",
       "85921    ['Primary Shock (Covid Event Characteristics)']\n",
       "Name: subdimensions, Length: 85922, dtype: object"
      ]
     },
     "execution_count": 24,
     "metadata": {},
     "output_type": "execute_result"
    }
   ],
   "source": [
    "train['subdimensions']"
   ]
  },
  {
   "cell_type": "code",
   "execution_count": null,
   "id": "85cee4f7",
   "metadata": {},
   "outputs": [],
   "source": []
  },
  {
   "cell_type": "code",
   "execution_count": null,
   "id": "be6b89f0",
   "metadata": {},
   "outputs": [],
   "source": []
  },
  {
   "cell_type": "code",
   "execution_count": null,
   "id": "cee5e086",
   "metadata": {},
   "outputs": [],
   "source": []
  },
  {
   "cell_type": "code",
   "execution_count": null,
   "id": "dd52cef7",
   "metadata": {},
   "outputs": [],
   "source": [
    "def process_for_sector(df, sector, train):\n",
    "    relevant_train = df[df.is_relevant == 1]\n",
    "    relevant_train.sector_ids = relevant_train.sector_ids.apply(eval)\n",
    "    relevant_train = relevant_train[relevant_train.sector_ids.apply(len) > 0]\n",
    "    \n",
    "    positive_train = relevant_train[relevant_train.sector_ids.apply(lambda x: sector in x)]\n",
    "    negative_train = relevant_train[relevant_train.sector_ids.apply(lambda x: sector not in x)]\n",
    "\n",
    "    positive_train.sector_ids = 1\n",
    "    negative_train.sector_ids = 0\n",
    "    train_df = pd.concat([positive_train, negative_train])\n",
    "    train_df = train_df.sample(frac=1).reset_index(drop=True)\n",
    "    \n",
    "    train_df['is_valid'] = False if train else True\n",
    "        \n",
    "    return train_df"
   ]
  },
  {
   "cell_type": "code",
   "execution_count": null,
   "id": "0a713f16",
   "metadata": {
    "scrolled": true
   },
   "outputs": [],
   "source": [
    "train_df = process_for_sector(train, 4, True)\n",
    "test_df = process_for_sector(test, 4, False)"
   ]
  },
  {
   "cell_type": "code",
   "execution_count": null,
   "id": "c5c90b98",
   "metadata": {},
   "outputs": [],
   "source": [
    "train_df"
   ]
  },
  {
   "cell_type": "code",
   "execution_count": null,
   "id": "e8150600",
   "metadata": {},
   "outputs": [],
   "source": [
    "train_df.to_pickle('train_df.pickle')\n",
    "test_df.to_pickle('test_df.pickle')"
   ]
  },
  {
   "cell_type": "markdown",
   "id": "f5e0d5d1",
   "metadata": {},
   "source": [
    "## Sagemaker Prep"
   ]
  },
  {
   "cell_type": "code",
   "execution_count": null,
   "id": "93db01dc",
   "metadata": {},
   "outputs": [],
   "source": [
    "import sagemaker\n",
    "from sagemaker import get_execution_role\n",
    "import json\n",
    "import boto3\n",
    "\n",
    "sess = sagemaker.Session()\n",
    "\n",
    "role = get_execution_role()\n",
    "print(\n",
    "    role\n",
    ")  # This is the role that SageMaker would use to leverage AWS resources (S3, CloudWatch) on your behalf\n",
    "\n",
    "bucket = SAGEMAKER_BUCKET\n",
    "prefix = \"huggingface/first\"  # Replace with the prefix under which you want to store the data if needed\n"
   ]
  },
  {
   "cell_type": "markdown",
   "id": "fe9b3fba",
   "metadata": {},
   "source": [
    "### Bucket upload"
   ]
  },
  {
   "cell_type": "code",
   "execution_count": null,
   "id": "214c6612",
   "metadata": {
    "scrolled": true
   },
   "outputs": [],
   "source": [
    "bucket_path = 'test1/data'\n",
    "train_channel = bucket_path + \"/train_df.pickle\"\n",
    "validation_channel = bucket_path + \"/test_df.pickle\"\n",
    "\n",
    "sess.upload_data(path=\"train_df.pickle\", bucket=SAGEMAKER_BUCKET, key_prefix=bucket_path)\n",
    "sess.upload_data(path=\"test_df.pickle\", bucket=SAGEMAKER_BUCKET, key_prefix=bucket_path)\n",
    "\n",
    "s3_train_data = f\"s3://{SAGEMAKER_BUCKET}/{train_channel}\"\n",
    "s3_validation_data = f\"s3://{SAGEMAKER_BUCKET}/{validation_channel}\"\n",
    "\n",
    "s3_output_location = f\"s3://{SAGEMAKER_BUCKET}/{bucket_path}/output\""
   ]
  },
  {
   "cell_type": "code",
   "execution_count": null,
   "id": "8e3071d2",
   "metadata": {},
   "outputs": [],
   "source": [
    "from sagemaker.huggingface import HuggingFace\n",
    "\n",
    "\n",
    "# hyperparameters, which are passed into the training job\n",
    "hyperparameters={'epochs': 1,\n",
    "                 'per_device_train_batch_size': 32,\n",
    "                 'model_name': 'distilbert-base-uncased'\n",
    "                 }\n",
    "\n",
    "# create the Estimator\n",
    "huggingface_estimator = HuggingFace(\n",
    "        entry_point='train.py',\n",
    "        source_dir=str(SCRIPTS_MODELS_PATH / 'stefano'),\n",
    "        instance_type='ml.p3.2xlarge',\n",
    "        instance_count=1,\n",
    "        role=role,\n",
    "        transformers_version='4.4',\n",
    "        pytorch_version='1.6',\n",
    "        py_version='py36',\n",
    "        hyperparameters = hyperparameters\n",
    ")"
   ]
  },
  {
   "cell_type": "code",
   "execution_count": null,
   "id": "5131dbbc",
   "metadata": {},
   "outputs": [],
   "source": [
    "fit_arguments = {\n",
    "    'train': f's3://{SAGEMAKER_BUCKET}/{bucket_path}',\n",
    "    'test': f's3://{SAGEMAKER_BUCKET}/{bucket_path}'\n",
    "}"
   ]
  },
  {
   "cell_type": "code",
   "execution_count": null,
   "id": "98e8b1d5",
   "metadata": {
    "scrolled": true
   },
   "outputs": [],
   "source": [
    "huggingface_estimator.fit(fit_arguments)"
   ]
  },
  {
   "cell_type": "code",
   "execution_count": null,
   "id": "0ee03722",
   "metadata": {},
   "outputs": [],
   "source": [
    "1"
   ]
  },
  {
   "cell_type": "markdown",
   "id": "dfda0383",
   "metadata": {},
   "source": [
    "## Train"
   ]
  },
  {
   "cell_type": "code",
   "execution_count": null,
   "id": "48b1b3d6",
   "metadata": {},
   "outputs": [],
   "source": [
    "region_name = boto3.Session().region_name"
   ]
  },
  {
   "cell_type": "code",
   "execution_count": null,
   "id": "11a74d1e",
   "metadata": {},
   "outputs": [],
   "source": [
    "container = sagemaker.amazon.amazon_estimator.get_image_uri(region_name, \"blazingtext\", \"latest\")\n",
    "print(\"Using SageMaker BlazingText container: {} ({})\".format(container, region_name))"
   ]
  },
  {
   "cell_type": "code",
   "execution_count": null,
   "id": "0050cf2a",
   "metadata": {},
   "outputs": [],
   "source": [
    "bt_model = sagemaker.estimator.Estimator(\n",
    "    container,\n",
    "    role,\n",
    "    instance_count=1,\n",
    "    instance_type=\"ml.c4.4xlarge\",\n",
    "    volume_size=30,\n",
    "    max_run=360000,\n",
    "    input_mode=\"File\",\n",
    "    output_path=s3_output_location,\n",
    "    hyperparameters={\n",
    "        \"mode\": \"supervised\",\n",
    "        \"epochs\": 4,\n",
    "        \"min_count\": 2,\n",
    "        \"learning_rate\": 0.05,\n",
    "        \"vector_dim\": 10,\n",
    "#         \"early_stopping\": False,\n",
    "        \"patience\": 4,\n",
    "#         \"min_epochs\": 5,\n",
    "#         \"word_ngrams\": 2,\n",
    "    },\n",
    ")"
   ]
  },
  {
   "cell_type": "code",
   "execution_count": null,
   "id": "0bedf79b",
   "metadata": {},
   "outputs": [],
   "source": [
    "# Create a train data channel with S3_data_type as 'AugmentedManifestFile' and attribute names.\n",
    "# train_data = sagemaker.session.s3_input(\n",
    "#     your_augmented_manifest_file,\n",
    "#     distribution='FullyReplicated',\n",
    "#     content_type='application/x-recordio',\n",
    "#     s3_data_type='AugmentedManifestFile',\n",
    "#     attribute_names=['source-ref', 'annotations'],\n",
    "#     input_mode='Pipe',\n",
    "#     record_wrapping='RecordIO'\n",
    "# )"
   ]
  },
  {
   "cell_type": "code",
   "execution_count": null,
   "id": "75eebb65",
   "metadata": {},
   "outputs": [],
   "source": [
    "train_data = sagemaker.inputs.TrainingInput(\n",
    "    s3_train_data,\n",
    "    distribution=\"FullyReplicated\",\n",
    "    content_type=\"text/plain\",\n",
    "    s3_data_type=\"AugmentedManifestFile\",\n",
    "    input_mode='Pipe',\n",
    "    attribute_names=['source', 'label'],\n",
    "    record_wrapping='RecordIO',\n",
    ")\n",
    "validation_data = sagemaker.inputs.TrainingInput(\n",
    "    s3_validation_data,\n",
    "    distribution=\"FullyReplicated\",\n",
    "    content_type=\"text/plain\",\n",
    "    s3_data_type=\"AugmentedManifestFile\",\n",
    "    input_mode='Pipe',\n",
    "    attribute_names=['source', 'label'],\n",
    "    record_wrapping='RecordIO',\n",
    ")\n",
    "data_channels = {\"train\": train_data, \"validation\": validation_data}"
   ]
  },
  {
   "cell_type": "code",
   "execution_count": null,
   "id": "b4ad2126",
   "metadata": {},
   "outputs": [],
   "source": [
    "bt_model.fit(inputs=data_channels, logs=True)"
   ]
  },
  {
   "cell_type": "code",
   "execution_count": null,
   "id": "6cdc7cbc",
   "metadata": {},
   "outputs": [],
   "source": [
    "1"
   ]
  },
  {
   "cell_type": "code",
   "execution_count": null,
   "id": "e6782336",
   "metadata": {},
   "outputs": [],
   "source": [
    "from sagemaker.serializers import JSONSerializer\n",
    "\n",
    "text_classifier = bt_model.deploy(\n",
    "    initial_instance_count=1, instance_type=\"ml.m4.xlarge\", serializer=JSONSerializer()\n",
    ")\n"
   ]
  },
  {
   "cell_type": "code",
   "execution_count": null,
   "id": "ed04751e",
   "metadata": {},
   "outputs": [],
   "source": [
    "sentences = list(test_df.sentence_text)\n",
    "\n",
    "# using the same nltk tokenizer that we used during data preparation for training\n",
    "tokenized_sentences = [\" \".join(nltk.word_tokenize(sent)) for sent in sentences]\n",
    "\n",
    "payload = {\"instances\": tokenized_sentences, \"configuration\": {\"k\": 5}}\n",
    "\n",
    "response = text_classifier.predict(payload)\n",
    "\n",
    "predictions = json.loads(response)\n",
    "print(json.dumps(predictions, indent=2))"
   ]
  },
  {
   "cell_type": "code",
   "execution_count": null,
   "id": "4e89354f",
   "metadata": {},
   "outputs": [],
   "source": [
    "t = test_df.copy()"
   ]
  },
  {
   "cell_type": "code",
   "execution_count": null,
   "id": "275fa521",
   "metadata": {},
   "outputs": [],
   "source": [
    "a = []\n",
    "thresh = 0.05\n",
    "for pred in predictions:\n",
    "    labels = [int(x.replace('__label__', '')) for x, y in zip(pred['label'], pred['prob']) if y > thresh]\n",
    "    a.append(labels)"
   ]
  },
  {
   "cell_type": "code",
   "execution_count": null,
   "id": "fc0231f3",
   "metadata": {},
   "outputs": [],
   "source": [
    "t['preds'] = a"
   ]
  },
  {
   "cell_type": "code",
   "execution_count": null,
   "id": "cb7d0682",
   "metadata": {},
   "outputs": [],
   "source": [
    "indexes = []\n",
    "recalls = []\n",
    "precisions = []\n",
    "f1_scores = []\n",
    "\n",
    "for i, class_ in enumerate(classes):\n",
    "    class_preds = [1 if i in x else 0 for x in t.preds]\n",
    "    class_targets = [1 if i in x else 0 for x in t.sector_ids]\n",
    "\n",
    "    indexes.append(class_)\n",
    "    precisions.append(precision_score(class_targets, class_preds))\n",
    "    recalls.append(recall_score(class_targets, class_preds))    \n",
    "    f1_scores.append(f1_score(class_targets, class_preds))        \n",
    "\n",
    "\n",
    "all_metrics = pd.DataFrame(\n",
    "    {\n",
    "        'class': indexes,\n",
    "        'recall': recalls,\n",
    "        'precision': precisions,\n",
    "        'f1_score': f1_scores\n",
    "    }\n",
    ").set_index('class', drop=True)"
   ]
  },
  {
   "cell_type": "code",
   "execution_count": null,
   "id": "21b84f4e",
   "metadata": {},
   "outputs": [],
   "source": [
    "all_metrics.plot(\n",
    "    figsize=(20, 10), xticks=range(12), yticks=[x/10 for x in range(11)], ylim=(0, 1), grid=True\n",
    ")"
   ]
  },
  {
   "cell_type": "code",
   "execution_count": null,
   "id": "2b39fe80",
   "metadata": {},
   "outputs": [],
   "source": [
    "t"
   ]
  },
  {
   "cell_type": "code",
   "execution_count": null,
   "id": "4ad513c1",
   "metadata": {},
   "outputs": [],
   "source": []
  },
  {
   "cell_type": "code",
   "execution_count": null,
   "id": "4686c227",
   "metadata": {},
   "outputs": [],
   "source": []
  }
 ],
 "metadata": {
  "kernelspec": {
   "display_name": "Python 3",
   "language": "python",
   "name": "python3"
  },
  "language_info": {
   "codemirror_mode": {
    "name": "ipython",
    "version": 3
   },
   "file_extension": ".py",
   "mimetype": "text/x-python",
   "name": "python",
   "nbconvert_exporter": "python",
   "pygments_lexer": "ipython3",
   "version": "3.9.1"
  },
  "toc": {
   "base_numbering": 1,
   "nav_menu": {},
   "number_sections": true,
   "sideBar": true,
   "skip_h1_title": false,
   "title_cell": "Table of Contents",
   "title_sidebar": "Contents",
   "toc_cell": false,
   "toc_position": {},
   "toc_section_display": true,
   "toc_window_display": false
  }
 },
 "nbformat": 4,
 "nbformat_minor": 5
}
