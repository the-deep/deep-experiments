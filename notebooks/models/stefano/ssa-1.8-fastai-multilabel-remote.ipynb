{
 "cells": [
  {
   "cell_type": "markdown",
   "id": "a5079ffd",
   "metadata": {},
   "source": [
    "Using kernel `conda_pytorch_latest_p36`"
   ]
  },
  {
   "cell_type": "code",
   "execution_count": 1,
   "id": "0b889dcf",
   "metadata": {
    "ExecuteTime": {
     "end_time": "2021-06-07T09:05:40.064225Z",
     "start_time": "2021-06-07T09:05:40.057901Z"
    },
    "scrolled": true
   },
   "outputs": [],
   "source": [
    "# !pip install cloudpathlib\n",
    "# !pip install s3fs\n",
    "# !pip install transformers\\\n",
    "# !pip install pytorch-lightning"
   ]
  },
  {
   "cell_type": "markdown",
   "id": "a5148dbe",
   "metadata": {},
   "source": [
    "# Import"
   ]
  },
  {
   "cell_type": "code",
   "execution_count": 2,
   "id": "3395fb4f",
   "metadata": {
    "ExecuteTime": {
     "end_time": "2021-06-07T09:05:40.404977Z",
     "start_time": "2021-06-07T09:05:40.401458Z"
    }
   },
   "outputs": [],
   "source": [
    "import sys\n",
    "sys.path.append('../../../')"
   ]
  },
  {
   "cell_type": "code",
   "execution_count": 3,
   "id": "f5b6a45f",
   "metadata": {
    "ExecuteTime": {
     "end_time": "2021-06-07T09:05:40.613054Z",
     "start_time": "2021-06-07T09:05:40.609980Z"
    }
   },
   "outputs": [],
   "source": [
    "from pathlib import Path\n",
    "import os\n",
    "import random\n",
    "import json\n",
    "from datetime import datetime"
   ]
  },
  {
   "cell_type": "code",
   "execution_count": 4,
   "id": "7ef0e20e",
   "metadata": {
    "ExecuteTime": {
     "end_time": "2021-06-07T09:05:42.217992Z",
     "start_time": "2021-06-07T09:05:40.905522Z"
    }
   },
   "outputs": [],
   "source": [
    "import pandas as pd\n",
    "import numpy as np\n",
    "from sklearn.metrics import classification_report\n",
    "import torch\n",
    "import sagemaker\n",
    "from sagemaker import get_execution_role\n",
    "import boto3\n",
    "import torch.nn as nn\n",
    "from sklearn.preprocessing import MultiLabelBinarizer\n",
    "from torch.utils.data import DataLoader,Dataset\n",
    "from tqdm import tqdm\n",
    "from langdetect import detect"
   ]
  },
  {
   "cell_type": "code",
   "execution_count": 5,
   "id": "94f0dded",
   "metadata": {
    "ExecuteTime": {
     "end_time": "2021-06-07T09:05:42.306706Z",
     "start_time": "2021-06-07T09:05:42.219186Z"
    },
    "scrolled": true
   },
   "outputs": [],
   "source": [
    "from deep.constants import *\n",
    "from deep.utils import *"
   ]
  },
  {
   "cell_type": "code",
   "execution_count": 6,
   "id": "7a68c43d",
   "metadata": {
    "ExecuteTime": {
     "end_time": "2021-06-07T09:05:42.328962Z",
     "start_time": "2021-06-07T09:05:42.308335Z"
    }
   },
   "outputs": [],
   "source": [
    "%load_ext autoreload\n",
    "%autoreload 2"
   ]
  },
  {
   "cell_type": "markdown",
   "id": "314e88fa",
   "metadata": {},
   "source": [
    "## Data"
   ]
  },
  {
   "cell_type": "code",
   "execution_count": 7,
   "id": "8f87a8d9",
   "metadata": {
    "ExecuteTime": {
     "end_time": "2021-06-07T09:05:42.787306Z",
     "start_time": "2021-06-07T09:05:42.752532Z"
    }
   },
   "outputs": [],
   "source": [
    "def preprocessing(df):\n",
    "    df = df.copy()\n",
    "    df['sectors'] = df['sectors'].apply(eval)    \n",
    "    df['pillars'] = df['pillars'].apply(eval)\n",
    "    df['pillars'] = df['pillars'].apply(lambda x: list(set(x)))\n",
    "    df['subpillars'] = df['subpillars'].apply(eval)\n",
    "    return df"
   ]
  },
  {
   "cell_type": "code",
   "execution_count": 8,
   "id": "37c4ef8e",
   "metadata": {
    "ExecuteTime": {
     "end_time": "2021-06-07T09:05:43.081055Z",
     "start_time": "2021-06-07T09:05:43.042931Z"
    }
   },
   "outputs": [],
   "source": [
    "column = 'subpillars'\n",
    "classes=SUBPILLARS\n",
    "text_column = 'excerpt'\n",
    "label_column = 'merged'"
   ]
  },
  {
   "cell_type": "code",
   "execution_count": 9,
   "id": "350de4d7",
   "metadata": {
    "ExecuteTime": {
     "end_time": "2021-06-07T09:05:46.343394Z",
     "start_time": "2021-06-07T09:05:43.606945Z"
    },
    "scrolled": true
   },
   "outputs": [],
   "source": [
    "train = preprocessing(pd.read_csv(LATEST_DATA_PATH / 'data_v0.4.3_train.csv'))\n",
    "val = preprocessing(pd.read_csv(LATEST_DATA_PATH / 'data_v0.4.3_val.csv'))\n",
    "test = preprocessing(pd.read_csv(LATEST_DATA_PATH / 'data_v0.4.3_test.csv'))"
   ]
  },
  {
   "cell_type": "code",
   "execution_count": 12,
   "id": "6d3dace0",
   "metadata": {
    "ExecuteTime": {
     "end_time": "2021-06-07T09:07:10.377152Z",
     "start_time": "2021-06-07T09:07:10.324628Z"
    }
   },
   "outputs": [],
   "source": [
    "def process_multiclass(df, train, column='pillars', classes=PILLARS, only_english=True):\n",
    "    relevant_train = df.copy()\n",
    "    relevant_train = relevant_train[relevant_train[column].apply(len) > 0]\n",
    "    relevant_train[label_column] = relevant_train.pillars + relevant_train.subpillars\n",
    "    relevant_train[label_column] = relevant_train[label_column].apply(lambda x: ';'.join(x))\n",
    "    \n",
    "    relevant_train['is_valid'] = False if train else True\n",
    "    \n",
    "    if not only_english:\n",
    "        relevant_train['language'] = [detect(x) for x in tqdm(relevant_train.excerpt)]\n",
    "        relevant_train = relevant_train[relevant_train['language'] == 'en']\n",
    "        \n",
    "    return relevant_train\n",
    "    \n",
    "    "
   ]
  },
  {
   "cell_type": "code",
   "execution_count": 13,
   "id": "fa012c22",
   "metadata": {
    "ExecuteTime": {
     "end_time": "2021-06-07T09:10:40.760216Z",
     "start_time": "2021-06-07T09:07:10.503685Z"
    },
    "scrolled": true
   },
   "outputs": [
    {
     "name": "stderr",
     "output_type": "stream",
     "text": [
      "100%|██████████| 49319/49319 [03:05<00:00, 266.06it/s]\n",
      "100%|██████████| 6516/6516 [00:24<00:00, 268.60it/s]\n"
     ]
    }
   ],
   "source": [
    "train_df = process_multiclass(train, True, column=column, classes=classes, only_english=False)\n",
    "test_df = process_multiclass(test, False, column=column, classes=classes, only_english=False)\n",
    "df = pd.concat([train_df, test_df])"
   ]
  },
  {
   "cell_type": "code",
   "execution_count": null,
   "id": "15472a39",
   "metadata": {
    "ExecuteTime": {
     "end_time": "2021-06-03T15:43:47.947627Z",
     "start_time": "2021-06-03T15:43:47.865105Z"
    }
   },
   "outputs": [],
   "source": [
    "tmp = pd.DataFrame(train_df.pillars.explode().value_counts())\n",
    "sampling_rate = (float(tmp.max()) / tmp).to_dict()['pillars']"
   ]
  },
  {
   "cell_type": "code",
   "execution_count": null,
   "id": "43fe946f",
   "metadata": {
    "ExecuteTime": {
     "end_time": "2021-06-03T15:46:11.052978Z",
     "start_time": "2021-06-03T15:46:10.911236Z"
    }
   },
   "outputs": [],
   "source": [
    "dfs = []\n",
    "for c, rate in sampling_rate.items():\n",
    "    sampled = train_df[train_df.pillars.apply(lambda x: c in x)].sample(frac=rate, replace=True)\n",
    "    dfs.append(sampled)"
   ]
  },
  {
   "cell_type": "code",
   "execution_count": null,
   "id": "d2832912",
   "metadata": {
    "ExecuteTime": {
     "end_time": "2021-06-03T15:47:32.731326Z",
     "start_time": "2021-06-03T15:47:32.575462Z"
    }
   },
   "outputs": [],
   "source": [
    "t_df = pd.concat(dfs)\n",
    "df = pd.concat([t_df, test_df])\n",
    "df = df.reset_index(drop=True)"
   ]
  },
  {
   "cell_type": "markdown",
   "id": "f3b35555",
   "metadata": {},
   "source": [
    "## Sagemaker Prep"
   ]
  },
  {
   "cell_type": "markdown",
   "id": "2f0d3fc6",
   "metadata": {
    "ExecuteTime": {
     "end_time": "2021-05-27T15:42:32.024647Z",
     "start_time": "2021-05-27T15:42:31.984694Z"
    }
   },
   "source": [
    "### Session"
   ]
  },
  {
   "cell_type": "code",
   "execution_count": 20,
   "id": "dc60187d",
   "metadata": {
    "ExecuteTime": {
     "end_time": "2021-06-07T09:16:24.620427Z",
     "start_time": "2021-06-07T09:16:24.303148Z"
    }
   },
   "outputs": [],
   "source": [
    "sess = sagemaker.Session(default_bucket=DEV_BUCKET.name)\n",
    "role = 'AmazonSageMaker-ExecutionRole-20210519T102514'"
   ]
  },
  {
   "cell_type": "markdown",
   "id": "8509f633",
   "metadata": {},
   "source": [
    "### Bucket upload"
   ]
  },
  {
   "cell_type": "code",
   "execution_count": 33,
   "id": "7409442e",
   "metadata": {
    "ExecuteTime": {
     "end_time": "2021-06-07T09:18:23.959475Z",
     "start_time": "2021-06-07T09:18:06.656571Z"
    },
    "scrolled": true
   },
   "outputs": [],
   "source": [
    "sample = False\n",
    "\n",
    "if sample:\n",
    "    df = df.sample(100)\n",
    "    \n",
    "job_name = f\"pytorch-{formatted_time()}-fastai-3ep-english\"\n",
    "input_path = DEV_BUCKET / 'training' / 'input_data' / job_name\n",
    "\n",
    "s3_data = str(input_path / 'df.pickle')\n",
    "\n",
    "\n",
    "df.to_pickle(s3_data, protocol=4)"
   ]
  },
  {
   "cell_type": "markdown",
   "id": "99bbaa46",
   "metadata": {},
   "source": [
    "### Estimator Definition"
   ]
  },
  {
   "cell_type": "code",
   "execution_count": 34,
   "id": "32fe809f",
   "metadata": {
    "ExecuteTime": {
     "end_time": "2021-06-07T09:18:24.025153Z",
     "start_time": "2021-06-07T09:18:23.965075Z"
    }
   },
   "outputs": [],
   "source": [
    "instances = [\n",
    "    'ml.p2.xlarge',\n",
    "    'ml.p3.2xlarge'\n",
    "]"
   ]
  },
  {
   "cell_type": "code",
   "execution_count": 35,
   "id": "2b2decdc",
   "metadata": {
    "ExecuteTime": {
     "end_time": "2021-06-07T09:18:24.048910Z",
     "start_time": "2021-06-07T09:18:24.026963Z"
    }
   },
   "outputs": [
    {
     "data": {
      "text/plain": [
       "S3Path('s3://sagemaker-deep-experiments-dev/training/input_data/pytorch-2021-06-07-11-18-06-703-fastai-3ep-english')"
      ]
     },
     "execution_count": 35,
     "metadata": {},
     "output_type": "execute_result"
    }
   ],
   "source": [
    "input_path"
   ]
  },
  {
   "cell_type": "code",
   "execution_count": 39,
   "id": "9cdd672d",
   "metadata": {
    "ExecuteTime": {
     "end_time": "2021-06-07T09:19:02.316492Z",
     "start_time": "2021-06-07T09:19:02.197788Z"
    }
   },
   "outputs": [],
   "source": [
    "from sagemaker.pytorch import PyTorch\n",
    "\n",
    "hyperparameters={\n",
    "    'epochs': 3,\n",
    "    'train_batch_size': 64,\n",
    "    'learning_rate': 0.02,\n",
    "    'text_col': text_column,\n",
    "    'label_col': label_column,\n",
    "}\n",
    "\n",
    "estimator = PyTorch(\n",
    "    entry_point='train.py',\n",
    "    source_dir=str(SCRIPTS_TRAINING_PATH / 'stefano/multiclass-fastai'),\n",
    "    output_path=str(DEV_BUCKET / 'models/'),\n",
    "    code_location=str(input_path),\n",
    "    instance_type='ml.p2.xlarge',\n",
    "    instance_count=1,\n",
    "    role=role,\n",
    "    framework_version='1.8',\n",
    "    py_version='py36',\n",
    "    hyperparameters = hyperparameters,\n",
    "    job_name=job_name,\n",
    "#     train_instance_count=2,\n",
    "#     train_instance_type=\"ml.c4.xlarge\",\n",
    ")"
   ]
  },
  {
   "cell_type": "code",
   "execution_count": 40,
   "id": "ed07c92a",
   "metadata": {
    "ExecuteTime": {
     "end_time": "2021-06-07T09:19:02.851457Z",
     "start_time": "2021-06-07T09:19:02.808630Z"
    }
   },
   "outputs": [],
   "source": [
    "fit_arguments = {\n",
    "    'train': str(input_path),\n",
    "    'test': str(input_path)\n",
    "}"
   ]
  },
  {
   "cell_type": "code",
   "execution_count": 41,
   "id": "4dea6ffc",
   "metadata": {
    "ExecuteTime": {
     "end_time": "2021-06-07T09:19:06.354497Z",
     "start_time": "2021-06-07T09:19:03.660172Z"
    },
    "scrolled": true
   },
   "outputs": [],
   "source": [
    "estimator.fit(fit_arguments, job_name=job_name, wait=False)"
   ]
  },
  {
   "cell_type": "code",
   "execution_count": null,
   "id": "b8a3273d",
   "metadata": {
    "ExecuteTime": {
     "end_time": "2021-06-03T15:48:22.697284Z",
     "start_time": "2021-06-03T15:48:21.745875Z"
    }
   },
   "outputs": [],
   "source": [
    "from sagemaker import TrainingJobAnalytics\n",
    "\n",
    "# Captured metrics can be accessed as a Pandas dataframe\n",
    "df = TrainingJobAnalytics(training_job_name=estimator.latest_training_job.name).dataframe()\n",
    "df.head(10)"
   ]
  },
  {
   "cell_type": "code",
   "execution_count": null,
   "id": "f3801355",
   "metadata": {
    "ExecuteTime": {
     "end_time": "2021-06-03T15:48:22.699715Z",
     "start_time": "2021-06-03T15:48:20.738Z"
    }
   },
   "outputs": [],
   "source": [
    "df"
   ]
  },
  {
   "cell_type": "code",
   "execution_count": null,
   "id": "89b725f2",
   "metadata": {},
   "outputs": [],
   "source": []
  },
  {
   "cell_type": "code",
   "execution_count": null,
   "id": "7fc2cd52",
   "metadata": {},
   "outputs": [],
   "source": []
  }
 ],
 "metadata": {
  "kernelspec": {
   "display_name": "Python 3",
   "language": "python",
   "name": "python3"
  },
  "language_info": {
   "codemirror_mode": {
    "name": "ipython",
    "version": 3
   },
   "file_extension": ".py",
   "mimetype": "text/x-python",
   "name": "python",
   "nbconvert_exporter": "python",
   "pygments_lexer": "ipython3",
   "version": "3.9.1"
  },
  "notify_time": "5",
  "toc": {
   "base_numbering": 1,
   "nav_menu": {},
   "number_sections": true,
   "sideBar": true,
   "skip_h1_title": false,
   "title_cell": "Table of Contents",
   "title_sidebar": "Contents",
   "toc_cell": false,
   "toc_position": {},
   "toc_section_display": true,
   "toc_window_display": false
  }
 },
 "nbformat": 4,
 "nbformat_minor": 5
}
