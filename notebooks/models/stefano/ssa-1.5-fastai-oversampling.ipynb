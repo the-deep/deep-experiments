{
 "cells": [
  {
   "cell_type": "markdown",
   "id": "31394bbf",
   "metadata": {},
   "source": [
    "Using kernel `conda_pytorch_latest_p36`"
   ]
  },
  {
   "cell_type": "code",
   "execution_count": 9,
   "id": "8e8ff359",
   "metadata": {
    "scrolled": true
   },
   "outputs": [],
   "source": [
    "# !pip install fastai"
   ]
  },
  {
   "cell_type": "code",
   "execution_count": 1,
   "id": "ff4693ce",
   "metadata": {},
   "outputs": [],
   "source": [
    "classes = [\n",
    "    'Agricolture',\n",
    "    'Cross',\n",
    "    'Education',\n",
    "    'Food Security',\n",
    "    'Health',\n",
    "    'Livelihoods',\n",
    "    'Logistics',\n",
    "    'Nutrition',\n",
    "    'Protection',\n",
    "    'Shelter',\n",
    "    'Wash'\n",
    "]"
   ]
  },
  {
   "cell_type": "code",
   "execution_count": 2,
   "id": "3caa55e0",
   "metadata": {},
   "outputs": [],
   "source": [
    "import torch"
   ]
  },
  {
   "cell_type": "code",
   "execution_count": 3,
   "id": "65b94673",
   "metadata": {},
   "outputs": [],
   "source": [
    "from pathlib import Path\n",
    "import os\n",
    "import random\n",
    "import pickle"
   ]
  },
  {
   "cell_type": "code",
   "execution_count": 4,
   "id": "47427c1d",
   "metadata": {},
   "outputs": [],
   "source": [
    "from fastai.text.all import *\n",
    "from sklearn import metrics\n",
    "from sklearn.metrics import confusion_matrix, precision_score, recall_score, f1_score"
   ]
  },
  {
   "cell_type": "code",
   "execution_count": 5,
   "id": "cd3a1daa",
   "metadata": {},
   "outputs": [],
   "source": [
    "data = Path('data_prep/final_data/en/')\n",
    "raw = pd.read_csv('data_prep/data/entries_raw.csv')"
   ]
  },
  {
   "cell_type": "code",
   "execution_count": 6,
   "id": "93ad554e",
   "metadata": {},
   "outputs": [],
   "source": [
    "train = pd.read_csv(data / 'sentences_en_train.csv')\n",
    "test = pd.read_csv(data / 'sentences_en_test.csv')"
   ]
  },
  {
   "cell_type": "code",
   "execution_count": 7,
   "id": "579cf2d8",
   "metadata": {},
   "outputs": [
    {
     "data": {
      "text/html": [
       "<div>\n",
       "<style scoped>\n",
       "    .dataframe tbody tr th:only-of-type {\n",
       "        vertical-align: middle;\n",
       "    }\n",
       "\n",
       "    .dataframe tbody tr th {\n",
       "        vertical-align: top;\n",
       "    }\n",
       "\n",
       "    .dataframe thead th {\n",
       "        text-align: right;\n",
       "    }\n",
       "</style>\n",
       "<table border=\"1\" class=\"dataframe\">\n",
       "  <thead>\n",
       "    <tr style=\"text-align: right;\">\n",
       "      <th></th>\n",
       "      <th>doc_id</th>\n",
       "      <th>sentence_id</th>\n",
       "      <th>sentence_text</th>\n",
       "      <th>is_relevant</th>\n",
       "      <th>sector_ids</th>\n",
       "    </tr>\n",
       "  </thead>\n",
       "  <tbody>\n",
       "    <tr>\n",
       "      <th>0</th>\n",
       "      <td>51787</td>\n",
       "      <td>38</td>\n",
       "      <td>Climate Change and Agriculture: Subsistence Farmers Response to Extreme Heat.American Economic Journal: Economic Policy, 13(1), 1-35.</td>\n",
       "      <td>0</td>\n",
       "      <td>[]</td>\n",
       "    </tr>\n",
       "    <tr>\n",
       "      <th>1</th>\n",
       "      <td>51787</td>\n",
       "      <td>44</td>\n",
       "      <td>Bohorquez-Penuela, C., &amp; Otero-Cortes, A (2020).</td>\n",
       "      <td>0</td>\n",
       "      <td>[]</td>\n",
       "    </tr>\n",
       "    <tr>\n",
       "      <th>2</th>\n",
       "      <td>51787</td>\n",
       "      <td>45</td>\n",
       "      <td>Blame it on the Rain: The Effects of Weather Shocks on Formal Rural Employment in Colombia.Documento de Trabajo sobre Econom a Regional y Urbana; No.</td>\n",
       "      <td>0</td>\n",
       "      <td>[]</td>\n",
       "    </tr>\n",
       "    <tr>\n",
       "      <th>3</th>\n",
       "      <td>51787</td>\n",
       "      <td>49</td>\n",
       "      <td>Increasing frequency of extreme El Ni o events due to greenhouse warming.Nature climate change, 4(2), 111-116.</td>\n",
       "      <td>0</td>\n",
       "      <td>[]</td>\n",
       "    </tr>\n",
       "    <tr>\n",
       "      <th>4</th>\n",
       "      <td>51787</td>\n",
       "      <td>53</td>\n",
       "      <td>What do we learn from the weather?</td>\n",
       "      <td>0</td>\n",
       "      <td>[]</td>\n",
       "    </tr>\n",
       "    <tr>\n",
       "      <th>...</th>\n",
       "      <td>...</td>\n",
       "      <td>...</td>\n",
       "      <td>...</td>\n",
       "      <td>...</td>\n",
       "      <td>...</td>\n",
       "    </tr>\n",
       "    <tr>\n",
       "      <th>191932</th>\n",
       "      <td>34512</td>\n",
       "      <td>112</td>\n",
       "      <td>Emergency shelters in India had reportedly been converted to COVID-19 isolation centres, decreasing the capacity for evacuation shelters in affected areas (AA 20/05/2020).</td>\n",
       "      <td>0</td>\n",
       "      <td>[]</td>\n",
       "    </tr>\n",
       "    <tr>\n",
       "      <th>191933</th>\n",
       "      <td>34512</td>\n",
       "      <td>116</td>\n",
       "      <td>In these situations humanitarian operations may have been limited to essential services and slowed down, but not come to a complete stop.</td>\n",
       "      <td>0</td>\n",
       "      <td>[]</td>\n",
       "    </tr>\n",
       "    <tr>\n",
       "      <th>191934</th>\n",
       "      <td>34512</td>\n",
       "      <td>120</td>\n",
       "      <td>Governments of EU member states and several African states set up a humanitarian air bridge enabling the transport of humanitarian workers and relief items despite flight suspensions (EC 10/06/2020).</td>\n",
       "      <td>0</td>\n",
       "      <td>[]</td>\n",
       "    </tr>\n",
       "    <tr>\n",
       "      <th>191935</th>\n",
       "      <td>34512</td>\n",
       "      <td>124</td>\n",
       "      <td>You can find an overview of all ACAPS resources on COVID-19 here.</td>\n",
       "      <td>0</td>\n",
       "      <td>[]</td>\n",
       "    </tr>\n",
       "    <tr>\n",
       "      <th>191936</th>\n",
       "      <td>34512</td>\n",
       "      <td>125</td>\n",
       "      <td>11 ACAPS HUMANITARIAN ACCESS OVERVIEW JULY 2020 SEE THE CRISIS CHANGE THE OUTCOME ACAPS Avenue de France 23 5th floor CH 1202 Geneva +41 22 338 15 90 info@acaps.org 12 ACAPS HUMANITARIAN ACCESS OVERVIEW JULY 2020 www.acaps.org</td>\n",
       "      <td>0</td>\n",
       "      <td>[]</td>\n",
       "    </tr>\n",
       "  </tbody>\n",
       "</table>\n",
       "<p>191937 rows × 5 columns</p>\n",
       "</div>"
      ],
      "text/plain": [
       "        doc_id  sentence_id  \\\n",
       "0        51787           38   \n",
       "1        51787           44   \n",
       "2        51787           45   \n",
       "3        51787           49   \n",
       "4        51787           53   \n",
       "...        ...          ...   \n",
       "191932   34512          112   \n",
       "191933   34512          116   \n",
       "191934   34512          120   \n",
       "191935   34512          124   \n",
       "191936   34512          125   \n",
       "\n",
       "                                                                                                                                                                                                                             sentence_text  \\\n",
       "0                                                                                                    Climate Change and Agriculture: Subsistence Farmers Response to Extreme Heat.American Economic Journal: Economic Policy, 13(1), 1-35.   \n",
       "1                                                                                                                                                                                         Bohorquez-Penuela, C., & Otero-Cortes, A (2020).   \n",
       "2                                                                                    Blame it on the Rain: The Effects of Weather Shocks on Formal Rural Employment in Colombia.Documento de Trabajo sobre Econom a Regional y Urbana; No.   \n",
       "3                                                                                                                           Increasing frequency of extreme El Ni o events due to greenhouse warming.Nature climate change, 4(2), 111-116.   \n",
       "4                                                                                                                                                                                                       What do we learn from the weather?   \n",
       "...                                                                                                                                                                                                                                    ...   \n",
       "191932                                                         Emergency shelters in India had reportedly been converted to COVID-19 isolation centres, decreasing the capacity for evacuation shelters in affected areas (AA 20/05/2020).   \n",
       "191933                                                                                           In these situations humanitarian operations may have been limited to essential services and slowed down, but not come to a complete stop.   \n",
       "191934                             Governments of EU member states and several African states set up a humanitarian air bridge enabling the transport of humanitarian workers and relief items despite flight suspensions (EC 10/06/2020).   \n",
       "191935                                                                                                                                                                   You can find an overview of all ACAPS resources on COVID-19 here.   \n",
       "191936  11 ACAPS HUMANITARIAN ACCESS OVERVIEW JULY 2020 SEE THE CRISIS CHANGE THE OUTCOME ACAPS Avenue de France 23 5th floor CH 1202 Geneva +41 22 338 15 90 info@acaps.org 12 ACAPS HUMANITARIAN ACCESS OVERVIEW JULY 2020 www.acaps.org   \n",
       "\n",
       "        is_relevant sector_ids  \n",
       "0                 0         []  \n",
       "1                 0         []  \n",
       "2                 0         []  \n",
       "3                 0         []  \n",
       "4                 0         []  \n",
       "...             ...        ...  \n",
       "191932            0         []  \n",
       "191933            0         []  \n",
       "191934            0         []  \n",
       "191935            0         []  \n",
       "191936            0         []  \n",
       "\n",
       "[191937 rows x 5 columns]"
      ]
     },
     "execution_count": 7,
     "metadata": {},
     "output_type": "execute_result"
    }
   ],
   "source": [
    "train"
   ]
  },
  {
   "cell_type": "code",
   "execution_count": 8,
   "id": "8ba56c35",
   "metadata": {},
   "outputs": [],
   "source": [
    "def process_for_sector(df, sector, train):\n",
    "    relevant_train = df[df.is_relevant == 1]\n",
    "    relevant_train.sector_ids = relevant_train.sector_ids.apply(eval)\n",
    "    relevant_train = relevant_train[relevant_train.sector_ids.apply(len) > 0]\n",
    "    \n",
    "    positive_train = relevant_train[relevant_train.sector_ids.apply(lambda x: sector in x)]\n",
    "    negative_train = relevant_train[relevant_train.sector_ids.apply(lambda x: sector not in x)]\n",
    "\n",
    "    positive_train.sector_ids = 1\n",
    "    negative_train.sector_ids = 0\n",
    "    train_df = pd.concat([positive_train, negative_train])\n",
    "    train_df = train_df.sample(frac=1).reset_index(drop=True)\n",
    "    \n",
    "    train_df['is_valid'] = False if train else True\n",
    "        \n",
    "    return train_df"
   ]
  },
  {
   "cell_type": "code",
   "execution_count": 58,
   "id": "96983622",
   "metadata": {},
   "outputs": [],
   "source": [
    "def process_multiclass(df, train):\n",
    "    relevant_train = df[df.is_relevant == 1]\n",
    "    relevant_train.sector_ids = relevant_train.sector_ids.apply(eval)\n",
    "    relevant_train = relevant_train[relevant_train.sector_ids.apply(len) > 0]\n",
    "    relevant_train.sector_ids = relevant_train.sector_ids.apply(lambda x: ';'.join(classes[i] for i in x))\n",
    "#     relevant_train.sector_ids = relevant_train.sector_ids.apply(lambda x: [classes[i] for i in x][0])\n",
    "\n",
    "    \n",
    "    relevant_train['is_valid'] = False if train else True\n",
    "    \n",
    "    return relevant_train\n",
    "    \n",
    "    "
   ]
  },
  {
   "cell_type": "markdown",
   "id": "55e3c2f8",
   "metadata": {},
   "source": [
    "# Use fastai"
   ]
  },
  {
   "cell_type": "code",
   "execution_count": 60,
   "id": "4f5527f9",
   "metadata": {},
   "outputs": [
    {
     "name": "stderr",
     "output_type": "stream",
     "text": [
      "/home/ec2-user/anaconda3/envs/pytorch_latest_p36/lib/python3.6/site-packages/pandas/core/generic.py:5170: SettingWithCopyWarning: \n",
      "A value is trying to be set on a copy of a slice from a DataFrame.\n",
      "Try using .loc[row_indexer,col_indexer] = value instead\n",
      "\n",
      "See the caveats in the documentation: https://pandas.pydata.org/pandas-docs/stable/user_guide/indexing.html#returning-a-view-versus-a-copy\n",
      "  self[name] = value\n",
      "/home/ec2-user/anaconda3/envs/pytorch_latest_p36/lib/python3.6/site-packages/pandas/core/generic.py:5170: SettingWithCopyWarning: \n",
      "A value is trying to be set on a copy of a slice from a DataFrame.\n",
      "Try using .loc[row_indexer,col_indexer] = value instead\n",
      "\n",
      "See the caveats in the documentation: https://pandas.pydata.org/pandas-docs/stable/user_guide/indexing.html#returning-a-view-versus-a-copy\n",
      "  self[name] = value\n"
     ]
    }
   ],
   "source": [
    "train_df = process_multiclass(train, True)\n",
    "test_df = process_multiclass(test, False)\n",
    "df = pd.concat([train_df, test_df])"
   ]
  },
  {
   "cell_type": "code",
   "execution_count": 19,
   "id": "44d891c6",
   "metadata": {},
   "outputs": [],
   "source": [
    "a = train_df.explode('sector_ids')"
   ]
  },
  {
   "cell_type": "code",
   "execution_count": 25,
   "id": "6e9dafd5",
   "metadata": {},
   "outputs": [],
   "source": [
    "b = train_df.copy()"
   ]
  },
  {
   "cell_type": "code",
   "execution_count": 64,
   "id": "5cec1e33",
   "metadata": {},
   "outputs": [],
   "source": [
    "weights = torch.Tensor(a.sector_ids.value_counts().values)\n",
    "weights = weights/weights.sum()\n",
    "weights = (1/weights).cuda()"
   ]
  },
  {
   "cell_type": "code",
   "execution_count": 116,
   "id": "401dac80",
   "metadata": {},
   "outputs": [],
   "source": [
    "weights = weights / weights.sum()"
   ]
  },
  {
   "cell_type": "code",
   "execution_count": 118,
   "id": "7451d96e",
   "metadata": {},
   "outputs": [
    {
     "data": {
      "text/html": [],
      "text/plain": [
       "<IPython.core.display.HTML object>"
      ]
     },
     "metadata": {},
     "output_type": "display_data"
    },
    {
     "name": "stderr",
     "output_type": "stream",
     "text": [
      "/home/ec2-user/anaconda3/envs/pytorch_latest_p36/lib/python3.6/site-packages/numpy/core/_asarray.py:83: VisibleDeprecationWarning: Creating an ndarray from ragged nested sequences (which is a list-or-tuple of lists-or-tuples-or ndarrays with different lengths or shapes) is deprecated. If you meant to do this, you must specify 'dtype=object' when creating the ndarray\n",
      "  return array(a, dtype, copy=False, order=order)\n"
     ]
    }
   ],
   "source": [
    "dls = TextDataLoaders.from_df(\n",
    "    df,\n",
    "    text_col='sentence_text',\n",
    "    label_col='sector_ids',\n",
    "    label_delim=';',\n",
    "    valid_col='is_valid',\n",
    "    is_lm = False,    # Mention explicitly that this dataloader is meant for language model\n",
    "    seq_len = 72,     # Pick a sequence length i.e. how many words to feed through the RNN at once\n",
    "    bs = 64,     # Specify the batch size for the dataloader\n",
    "    y_block=MultiCategoryBlock,\n",
    ")\n",
    "learn = text_classifier_learner(\n",
    "    dls, \n",
    "    AWD_LSTM, \n",
    "    drop_mult=0.5, \n",
    "    metrics=[\n",
    "        accuracy_multi, \n",
    "        RecallMulti(thresh=0.35), \n",
    "        PrecisionMulti(thresh=0.35), \n",
    "        F1ScoreMulti(thresh=0.35), \n",
    "        RocAucMulti()\n",
    "    ]\n",
    ")"
   ]
  },
  {
   "cell_type": "code",
   "execution_count": 119,
   "id": "bb5cd848",
   "metadata": {},
   "outputs": [],
   "source": [
    "learn.loss_func = BCEWithLogitsLossFlat(pos_weight=weights)"
   ]
  },
  {
   "cell_type": "code",
   "execution_count": 120,
   "id": "a7e33664",
   "metadata": {},
   "outputs": [
    {
     "data": {
      "text/html": [],
      "text/plain": [
       "<IPython.core.display.HTML object>"
      ]
     },
     "metadata": {},
     "output_type": "display_data"
    },
    {
     "data": {
      "text/plain": [
       "SuggestedLRs(lr_min=0.06309573650360108, lr_steep=0.05754399299621582)"
      ]
     },
     "execution_count": 120,
     "metadata": {},
     "output_type": "execute_result"
    },
    {
     "data": {
      "image/png": "[encoded data removed]",
      "text/plain": [
       "<Figure size 432x288 with 1 Axes>"
      ]
     },
     "metadata": {
      "needs_background": "light"
     },
     "output_type": "display_data"
    }
   ],
   "source": [
    "learn.lr_find()"
   ]
  },
  {
   "cell_type": "code",
   "execution_count": 121,
   "id": "745ce094",
   "metadata": {},
   "outputs": [
    {
     "data": {
      "text/html": [
       "<table border=\"1\" class=\"dataframe\">\n",
       "  <thead>\n",
       "    <tr style=\"text-align: left;\">\n",
       "      <th>epoch</th>\n",
       "      <th>train_loss</th>\n",
       "      <th>valid_loss</th>\n",
       "      <th>accuracy_multi</th>\n",
       "      <th>recall_score</th>\n",
       "      <th>precision_score</th>\n",
       "      <th>f1_score</th>\n",
       "      <th>roc_auc_score</th>\n",
       "      <th>time</th>\n",
       "    </tr>\n",
       "  </thead>\n",
       "  <tbody>\n",
       "    <tr>\n",
       "      <td>0</td>\n",
       "      <td>0.047802</td>\n",
       "      <td>0.042935</td>\n",
       "      <td>0.878058</td>\n",
       "      <td>0.038106</td>\n",
       "      <td>0.618167</td>\n",
       "      <td>0.068460</td>\n",
       "      <td>0.808377</td>\n",
       "      <td>00:57</td>\n",
       "    </tr>\n",
       "  </tbody>\n",
       "</table>"
      ],
      "text/plain": [
       "<IPython.core.display.HTML object>"
      ]
     },
     "metadata": {},
     "output_type": "display_data"
    },
    {
     "name": "stderr",
     "output_type": "stream",
     "text": [
      "/home/ec2-user/anaconda3/envs/pytorch_latest_p36/lib/python3.6/site-packages/sklearn/metrics/_classification.py:1245: UndefinedMetricWarning: Precision is ill-defined and being set to 0.0 in labels with no predicted samples. Use `zero_division` parameter to control this behavior.\n",
      "  _warn_prf(average, modifier, msg_start, len(result))\n"
     ]
    },
    {
     "data": {
      "text/html": [
       "<table border=\"1\" class=\"dataframe\">\n",
       "  <thead>\n",
       "    <tr style=\"text-align: left;\">\n",
       "      <th>epoch</th>\n",
       "      <th>train_loss</th>\n",
       "      <th>valid_loss</th>\n",
       "      <th>accuracy_multi</th>\n",
       "      <th>recall_score</th>\n",
       "      <th>precision_score</th>\n",
       "      <th>f1_score</th>\n",
       "      <th>roc_auc_score</th>\n",
       "      <th>time</th>\n",
       "    </tr>\n",
       "  </thead>\n",
       "  <tbody>\n",
       "    <tr>\n",
       "      <td>0</td>\n",
       "      <td>0.039909</td>\n",
       "      <td>0.038371</td>\n",
       "      <td>0.893230</td>\n",
       "      <td>0.196865</td>\n",
       "      <td>0.642016</td>\n",
       "      <td>0.281341</td>\n",
       "      <td>0.866789</td>\n",
       "      <td>02:02</td>\n",
       "    </tr>\n",
       "    <tr>\n",
       "      <td>1</td>\n",
       "      <td>0.036703</td>\n",
       "      <td>0.035206</td>\n",
       "      <td>0.906307</td>\n",
       "      <td>0.247074</td>\n",
       "      <td>0.655731</td>\n",
       "      <td>0.346506</td>\n",
       "      <td>0.881460</td>\n",
       "      <td>02:05</td>\n",
       "    </tr>\n",
       "    <tr>\n",
       "      <td>2</td>\n",
       "      <td>0.032220</td>\n",
       "      <td>0.034500</td>\n",
       "      <td>0.907777</td>\n",
       "      <td>0.275050</td>\n",
       "      <td>0.749056</td>\n",
       "      <td>0.381553</td>\n",
       "      <td>0.887784</td>\n",
       "      <td>02:05</td>\n",
       "    </tr>\n",
       "    <tr>\n",
       "      <td>3</td>\n",
       "      <td>0.029504</td>\n",
       "      <td>0.035353</td>\n",
       "      <td>0.914597</td>\n",
       "      <td>0.322056</td>\n",
       "      <td>0.712782</td>\n",
       "      <td>0.431156</td>\n",
       "      <td>0.890491</td>\n",
       "      <td>02:05</td>\n",
       "    </tr>\n",
       "  </tbody>\n",
       "</table>"
      ],
      "text/plain": [
       "<IPython.core.display.HTML object>"
      ]
     },
     "metadata": {},
     "output_type": "display_data"
    },
    {
     "name": "stderr",
     "output_type": "stream",
     "text": [
      "/home/ec2-user/anaconda3/envs/pytorch_latest_p36/lib/python3.6/site-packages/sklearn/metrics/_classification.py:1245: UndefinedMetricWarning: Precision is ill-defined and being set to 0.0 in labels with no predicted samples. Use `zero_division` parameter to control this behavior.\n",
      "  _warn_prf(average, modifier, msg_start, len(result))\n",
      "/home/ec2-user/anaconda3/envs/pytorch_latest_p36/lib/python3.6/site-packages/sklearn/metrics/_classification.py:1245: UndefinedMetricWarning: Precision is ill-defined and being set to 0.0 in labels with no predicted samples. Use `zero_division` parameter to control this behavior.\n",
      "  _warn_prf(average, modifier, msg_start, len(result))\n",
      "/home/ec2-user/anaconda3/envs/pytorch_latest_p36/lib/python3.6/site-packages/sklearn/metrics/_classification.py:1245: UndefinedMetricWarning: Precision is ill-defined and being set to 0.0 in labels with no predicted samples. Use `zero_division` parameter to control this behavior.\n",
      "  _warn_prf(average, modifier, msg_start, len(result))\n",
      "/home/ec2-user/anaconda3/envs/pytorch_latest_p36/lib/python3.6/site-packages/sklearn/metrics/_classification.py:1245: UndefinedMetricWarning: Precision is ill-defined and being set to 0.0 in labels with no predicted samples. Use `zero_division` parameter to control this behavior.\n",
      "  _warn_prf(average, modifier, msg_start, len(result))\n"
     ]
    }
   ],
   "source": [
    "learn.fine_tune(4, 0.06)"
   ]
  },
  {
   "cell_type": "code",
   "execution_count": null,
   "id": "eccf4f09",
   "metadata": {},
   "outputs": [],
   "source": []
  },
  {
   "cell_type": "code",
   "execution_count": 94,
   "id": "5c073d1d",
   "metadata": {},
   "outputs": [],
   "source": [
    "def get_threshold_metrics(preds, targets, num_thresholds):\n",
    "    thresholds = [x/num_thresholds for x in range(num_thresholds)]\n",
    "\n",
    "    recalls = []\n",
    "    precisions = []\n",
    "    f1_scores = []\n",
    "\n",
    "    for threshold in thresholds:\n",
    "        t_preds = (preds.view(-1).numpy() > threshold).astype(int)\n",
    "        t_targets = targets.view(-1).numpy()\n",
    "        precisions.append(precision_score(t_targets, t_preds))\n",
    "        recalls.append(recall_score(t_targets, t_preds))    \n",
    "        f1_scores.append(f1_score(t_targets, t_preds))        \n",
    "        \n",
    "    all_metrics = pd.DataFrame(\n",
    "        {\n",
    "            'threshold': thresholds,\n",
    "            'recall': recalls,\n",
    "            'precision': precisions,\n",
    "            'f1_score': f1_scores\n",
    "        }\n",
    "    ).set_index('threshold', drop=True)\n",
    "\n",
    "    return all_metrics"
   ]
  },
  {
   "cell_type": "code",
   "execution_count": 131,
   "id": "0a15f9b5",
   "metadata": {},
   "outputs": [],
   "source": [
    "def get_best_threshold(learner, num_thresholds=20):\n",
    "    train_preds, train_targets = learn.get_preds(1)\n",
    "    train_metrics = get_threshold_metrics(train_preds, train_targets, num_thresholds)\n",
    "    best_threshold = train_metrics.f1_score.idxmax()\n",
    "    \n",
    "    return best_threshold, train_metrics"
   ]
  },
  {
   "cell_type": "code",
   "execution_count": 132,
   "id": "e8b5d3a8",
   "metadata": {},
   "outputs": [],
   "source": [
    "def get_metrics(preds, targets):\n",
    "    indexes = []\n",
    "    recalls = []\n",
    "    precisions = []\n",
    "    f1_scores = []\n",
    "    \n",
    "    for i, class_ in enumerate(classes):\n",
    "        class_preds = preds[:, i]\n",
    "        class_targets = targets[:, i]\n",
    "        \n",
    "        indexes.append(class_)\n",
    "        precisions.append(precision_score(class_targets, class_preds))\n",
    "        recalls.append(recall_score(class_targets, class_preds))    \n",
    "        f1_scores.append(f1_score(class_targets, class_preds))        \n",
    "        \n",
    "    indexes.append('all')\n",
    "    precisions.append(precision_score(targets.view(-1), preds.view(-1)))\n",
    "    recalls.append(recall_score(targets.view(-1), preds.view(-1)))    \n",
    "    f1_scores.append(f1_score(targets.view(-1), preds.view(-1)))       \n",
    "\n",
    "    \n",
    "    all_metrics = pd.DataFrame(\n",
    "        {\n",
    "            'class': indexes,\n",
    "            'recall': recalls,\n",
    "            'precision': precisions,\n",
    "            'f1_score': f1_scores\n",
    "        }\n",
    "    ).set_index('class', drop=True)\n",
    "    \n",
    "    return all_metrics"
   ]
  },
  {
   "cell_type": "code",
   "execution_count": 133,
   "id": "9aa7d3e9",
   "metadata": {},
   "outputs": [],
   "source": [
    "def evaluate(learner, threshold):\n",
    "    test_preds, test_targets = learn.get_preds(1)\n",
    "    "
   ]
  },
  {
   "cell_type": "code",
   "execution_count": 134,
   "id": "330d32a9",
   "metadata": {},
   "outputs": [
    {
     "data": {
      "text/html": [],
      "text/plain": [
       "<IPython.core.display.HTML object>"
      ]
     },
     "metadata": {},
     "output_type": "display_data"
    },
    {
     "name": "stderr",
     "output_type": "stream",
     "text": [
      "/home/ec2-user/anaconda3/envs/pytorch_latest_p36/lib/python3.6/site-packages/sklearn/metrics/_classification.py:1245: UndefinedMetricWarning: Precision is ill-defined and being set to 0.0 in labels with no predicted samples. Use `zero_division` parameter to control this behavior.\n",
      "  _warn_prf(average, modifier, msg_start, len(result))\n"
     ]
    },
    {
     "name": "stdout",
     "output_type": "stream",
     "text": [
      "0.05\n"
     ]
    }
   ],
   "source": [
    "best_threshold, train_metrics = get_best_threshold(learn)\n",
    "print(best_threshold)"
   ]
  },
  {
   "cell_type": "code",
   "execution_count": 135,
   "id": "43e038d4",
   "metadata": {},
   "outputs": [
    {
     "data": {
      "text/html": [
       "<div>\n",
       "<style scoped>\n",
       "    .dataframe tbody tr th:only-of-type {\n",
       "        vertical-align: middle;\n",
       "    }\n",
       "\n",
       "    .dataframe tbody tr th {\n",
       "        vertical-align: top;\n",
       "    }\n",
       "\n",
       "    .dataframe thead th {\n",
       "        text-align: right;\n",
       "    }\n",
       "</style>\n",
       "<table border=\"1\" class=\"dataframe\">\n",
       "  <thead>\n",
       "    <tr style=\"text-align: right;\">\n",
       "      <th></th>\n",
       "      <th>recall</th>\n",
       "      <th>precision</th>\n",
       "      <th>f1_score</th>\n",
       "    </tr>\n",
       "    <tr>\n",
       "      <th>threshold</th>\n",
       "      <th></th>\n",
       "      <th></th>\n",
       "      <th></th>\n",
       "    </tr>\n",
       "  </thead>\n",
       "  <tbody>\n",
       "    <tr>\n",
       "      <th>0.00</th>\n",
       "      <td>0.123538</td>\n",
       "      <td>1.000000</td>\n",
       "      <td>0.219908</td>\n",
       "    </tr>\n",
       "    <tr>\n",
       "      <th>0.05</th>\n",
       "      <td>0.750328</td>\n",
       "      <td>0.579894</td>\n",
       "      <td>0.654192</td>\n",
       "    </tr>\n",
       "    <tr>\n",
       "      <th>0.10</th>\n",
       "      <td>0.828262</td>\n",
       "      <td>0.503165</td>\n",
       "      <td>0.626024</td>\n",
       "    </tr>\n",
       "    <tr>\n",
       "      <th>0.15</th>\n",
       "      <td>0.863383</td>\n",
       "      <td>0.470499</td>\n",
       "      <td>0.609080</td>\n",
       "    </tr>\n",
       "    <tr>\n",
       "      <th>0.20</th>\n",
       "      <td>0.876761</td>\n",
       "      <td>0.441378</td>\n",
       "      <td>0.587165</td>\n",
       "    </tr>\n",
       "    <tr>\n",
       "      <th>0.25</th>\n",
       "      <td>0.892167</td>\n",
       "      <td>0.421119</td>\n",
       "      <td>0.572166</td>\n",
       "    </tr>\n",
       "    <tr>\n",
       "      <th>0.30</th>\n",
       "      <td>0.907887</td>\n",
       "      <td>0.399342</td>\n",
       "      <td>0.554696</td>\n",
       "    </tr>\n",
       "    <tr>\n",
       "      <th>0.35</th>\n",
       "      <td>0.914724</td>\n",
       "      <td>0.377564</td>\n",
       "      <td>0.534504</td>\n",
       "    </tr>\n",
       "    <tr>\n",
       "      <th>0.40</th>\n",
       "      <td>0.920798</td>\n",
       "      <td>0.362117</td>\n",
       "      <td>0.519811</td>\n",
       "    </tr>\n",
       "    <tr>\n",
       "      <th>0.45</th>\n",
       "      <td>0.929396</td>\n",
       "      <td>0.346670</td>\n",
       "      <td>0.504980</td>\n",
       "    </tr>\n",
       "    <tr>\n",
       "      <th>0.50</th>\n",
       "      <td>0.936292</td>\n",
       "      <td>0.331223</td>\n",
       "      <td>0.489338</td>\n",
       "    </tr>\n",
       "    <tr>\n",
       "      <th>0.55</th>\n",
       "      <td>0.942293</td>\n",
       "      <td>0.314257</td>\n",
       "      <td>0.471325</td>\n",
       "    </tr>\n",
       "    <tr>\n",
       "      <th>0.60</th>\n",
       "      <td>0.951807</td>\n",
       "      <td>0.300076</td>\n",
       "      <td>0.456296</td>\n",
       "    </tr>\n",
       "    <tr>\n",
       "      <th>0.65</th>\n",
       "      <td>0.954817</td>\n",
       "      <td>0.283616</td>\n",
       "      <td>0.437329</td>\n",
       "    </tr>\n",
       "    <tr>\n",
       "      <th>0.70</th>\n",
       "      <td>0.956084</td>\n",
       "      <td>0.264624</td>\n",
       "      <td>0.414518</td>\n",
       "    </tr>\n",
       "    <tr>\n",
       "      <th>0.75</th>\n",
       "      <td>0.957317</td>\n",
       "      <td>0.238541</td>\n",
       "      <td>0.381918</td>\n",
       "    </tr>\n",
       "    <tr>\n",
       "      <th>0.80</th>\n",
       "      <td>0.960046</td>\n",
       "      <td>0.212965</td>\n",
       "      <td>0.348601</td>\n",
       "    </tr>\n",
       "    <tr>\n",
       "      <th>0.85</th>\n",
       "      <td>0.967908</td>\n",
       "      <td>0.190934</td>\n",
       "      <td>0.318951</td>\n",
       "    </tr>\n",
       "    <tr>\n",
       "      <th>0.90</th>\n",
       "      <td>0.973354</td>\n",
       "      <td>0.157255</td>\n",
       "      <td>0.270765</td>\n",
       "    </tr>\n",
       "    <tr>\n",
       "      <th>0.95</th>\n",
       "      <td>0.981176</td>\n",
       "      <td>0.105596</td>\n",
       "      <td>0.190672</td>\n",
       "    </tr>\n",
       "  </tbody>\n",
       "</table>\n",
       "</div>"
      ],
      "text/plain": [
       "             recall  precision  f1_score\n",
       "threshold                               \n",
       "0.00       0.123538   1.000000  0.219908\n",
       "0.05       0.750328   0.579894  0.654192\n",
       "0.10       0.828262   0.503165  0.626024\n",
       "0.15       0.863383   0.470499  0.609080\n",
       "0.20       0.876761   0.441378  0.587165\n",
       "0.25       0.892167   0.421119  0.572166\n",
       "0.30       0.907887   0.399342  0.554696\n",
       "0.35       0.914724   0.377564  0.534504\n",
       "0.40       0.920798   0.362117  0.519811\n",
       "0.45       0.929396   0.346670  0.504980\n",
       "0.50       0.936292   0.331223  0.489338\n",
       "0.55       0.942293   0.314257  0.471325\n",
       "0.60       0.951807   0.300076  0.456296\n",
       "0.65       0.954817   0.283616  0.437329\n",
       "0.70       0.956084   0.264624  0.414518\n",
       "0.75       0.957317   0.238541  0.381918\n",
       "0.80       0.960046   0.212965  0.348601\n",
       "0.85       0.967908   0.190934  0.318951\n",
       "0.90       0.973354   0.157255  0.270765\n",
       "0.95       0.981176   0.105596  0.190672"
      ]
     },
     "execution_count": 135,
     "metadata": {},
     "output_type": "execute_result"
    }
   ],
   "source": [
    "train_metrics"
   ]
  },
  {
   "cell_type": "code",
   "execution_count": 127,
   "id": "65e5aeba",
   "metadata": {},
   "outputs": [
    {
     "data": {
      "text/html": [],
      "text/plain": [
       "<IPython.core.display.HTML object>"
      ]
     },
     "metadata": {},
     "output_type": "display_data"
    },
    {
     "name": "stderr",
     "output_type": "stream",
     "text": [
      "/home/ec2-user/anaconda3/envs/pytorch_latest_p36/lib/python3.6/site-packages/sklearn/metrics/_classification.py:1245: UndefinedMetricWarning: Precision is ill-defined and being set to 0.0 in labels with no predicted samples. Use `zero_division` parameter to control this behavior.\n",
      "  _warn_prf(average, modifier, msg_start, len(result))\n"
     ]
    }
   ],
   "source": [
    "test_preds, test_targets = learn.get_preds(1)\n",
    "test_discrete_preds = (test_preds > best_threshold).int()\n",
    "test_discrete_targets = test_targets.int()"
   ]
  },
  {
   "cell_type": "code",
   "execution_count": 128,
   "id": "b3fd072a",
   "metadata": {},
   "outputs": [],
   "source": [
    "multi_label_metrics = get_metrics(test_discrete_preds,test_discrete_targets)"
   ]
  },
  {
   "cell_type": "code",
   "execution_count": 129,
   "id": "a8dfd1c6",
   "metadata": {
    "scrolled": true
   },
   "outputs": [
    {
     "data": {
      "text/html": [
       "<div>\n",
       "<style scoped>\n",
       "    .dataframe tbody tr th:only-of-type {\n",
       "        vertical-align: middle;\n",
       "    }\n",
       "\n",
       "    .dataframe tbody tr th {\n",
       "        vertical-align: top;\n",
       "    }\n",
       "\n",
       "    .dataframe thead th {\n",
       "        text-align: right;\n",
       "    }\n",
       "</style>\n",
       "<table border=\"1\" class=\"dataframe\">\n",
       "  <thead>\n",
       "    <tr style=\"text-align: right;\">\n",
       "      <th></th>\n",
       "      <th>recall</th>\n",
       "      <th>precision</th>\n",
       "      <th>f1_score</th>\n",
       "    </tr>\n",
       "    <tr>\n",
       "      <th>class</th>\n",
       "      <th></th>\n",
       "      <th></th>\n",
       "      <th></th>\n",
       "    </tr>\n",
       "  </thead>\n",
       "  <tbody>\n",
       "    <tr>\n",
       "      <th>Agricolture</th>\n",
       "      <td>0.108696</td>\n",
       "      <td>0.714286</td>\n",
       "      <td>0.188679</td>\n",
       "    </tr>\n",
       "    <tr>\n",
       "      <th>Cross</th>\n",
       "      <td>0.103070</td>\n",
       "      <td>0.635135</td>\n",
       "      <td>0.177358</td>\n",
       "    </tr>\n",
       "    <tr>\n",
       "      <th>Education</th>\n",
       "      <td>0.580786</td>\n",
       "      <td>0.826087</td>\n",
       "      <td>0.682051</td>\n",
       "    </tr>\n",
       "    <tr>\n",
       "      <th>Food Security</th>\n",
       "      <td>0.585242</td>\n",
       "      <td>0.769231</td>\n",
       "      <td>0.664740</td>\n",
       "    </tr>\n",
       "    <tr>\n",
       "      <th>Health</th>\n",
       "      <td>0.781746</td>\n",
       "      <td>0.908672</td>\n",
       "      <td>0.840444</td>\n",
       "    </tr>\n",
       "    <tr>\n",
       "      <th>Livelihoods</th>\n",
       "      <td>0.449438</td>\n",
       "      <td>0.647773</td>\n",
       "      <td>0.530680</td>\n",
       "    </tr>\n",
       "    <tr>\n",
       "      <th>Logistics</th>\n",
       "      <td>0.366906</td>\n",
       "      <td>0.607143</td>\n",
       "      <td>0.457399</td>\n",
       "    </tr>\n",
       "    <tr>\n",
       "      <th>Nutrition</th>\n",
       "      <td>0.660870</td>\n",
       "      <td>0.655172</td>\n",
       "      <td>0.658009</td>\n",
       "    </tr>\n",
       "    <tr>\n",
       "      <th>Protection</th>\n",
       "      <td>0.661939</td>\n",
       "      <td>0.632054</td>\n",
       "      <td>0.646651</td>\n",
       "    </tr>\n",
       "    <tr>\n",
       "      <th>Shelter</th>\n",
       "      <td>0.639175</td>\n",
       "      <td>0.546256</td>\n",
       "      <td>0.589074</td>\n",
       "    </tr>\n",
       "    <tr>\n",
       "      <th>Wash</th>\n",
       "      <td>0.664384</td>\n",
       "      <td>0.640264</td>\n",
       "      <td>0.652101</td>\n",
       "    </tr>\n",
       "    <tr>\n",
       "      <th>all</th>\n",
       "      <td>0.579894</td>\n",
       "      <td>0.750328</td>\n",
       "      <td>0.654192</td>\n",
       "    </tr>\n",
       "  </tbody>\n",
       "</table>\n",
       "</div>"
      ],
      "text/plain": [
       "                 recall  precision  f1_score\n",
       "class                                       \n",
       "Agricolture    0.108696   0.714286  0.188679\n",
       "Cross          0.103070   0.635135  0.177358\n",
       "Education      0.580786   0.826087  0.682051\n",
       "Food Security  0.585242   0.769231  0.664740\n",
       "Health         0.781746   0.908672  0.840444\n",
       "Livelihoods    0.449438   0.647773  0.530680\n",
       "Logistics      0.366906   0.607143  0.457399\n",
       "Nutrition      0.660870   0.655172  0.658009\n",
       "Protection     0.661939   0.632054  0.646651\n",
       "Shelter        0.639175   0.546256  0.589074\n",
       "Wash           0.664384   0.640264  0.652101\n",
       "all            0.579894   0.750328  0.654192"
      ]
     },
     "execution_count": 129,
     "metadata": {},
     "output_type": "execute_result"
    }
   ],
   "source": [
    "multi_label_metrics"
   ]
  },
  {
   "cell_type": "code",
   "execution_count": 130,
   "id": "c2f3e291",
   "metadata": {
    "scrolled": false
   },
   "outputs": [
    {
     "data": {
      "text/plain": [
       "<AxesSubplot:xlabel='class'>"
      ]
     },
     "execution_count": 130,
     "metadata": {},
     "output_type": "execute_result"
    },
    {
     "data": {
      "image/png": "[encoded data removed]",
      "text/plain": [
       "<Figure size 1440x720 with 1 Axes>"
      ]
     },
     "metadata": {
      "needs_background": "light"
     },
     "output_type": "display_data"
    }
   ],
   "source": [
    "multi_label_metrics.plot(figsize=(20, 10), xticks=range(12), yticks=[x/10 for x in range(11)], ylim=(0, 1), grid=True)"
   ]
  },
  {
   "cell_type": "code",
   "execution_count": 113,
   "id": "6ebebdc8",
   "metadata": {},
   "outputs": [],
   "source": [
    "base = Path('/home/ec2-user/SageMaker/experiments-dfs/models/fastai/results')"
   ]
  },
  {
   "cell_type": "code",
   "execution_count": 114,
   "id": "59380935",
   "metadata": {},
   "outputs": [],
   "source": [
    "with open(base / 'weighted_multi_label.pickle', 'wb') as f:\n",
    "    pickle.dump(multi_label_metrics, f)"
   ]
  },
  {
   "cell_type": "code",
   "execution_count": null,
   "id": "1f4a0c4f",
   "metadata": {},
   "outputs": [],
   "source": []
  }
 ],
 "metadata": {
  "kernelspec": {
   "display_name": "conda_pytorch_latest_p36",
   "language": "python",
   "name": "conda_pytorch_latest_p36"
  },
  "language_info": {
   "codemirror_mode": {
    "name": "ipython",
    "version": 3
   },
   "file_extension": ".py",
   "mimetype": "text/x-python",
   "name": "python",
   "nbconvert_exporter": "python",
   "pygments_lexer": "ipython3",
   "version": "3.6.13"
  }
 },
 "nbformat": 4,
 "nbformat_minor": 5
}
