{
 "cells": [
  {
   "cell_type": "markdown",
   "id": "da175455",
   "metadata": {},
   "source": [
    "Using kernel `conda_pytorch_latest_p36`"
   ]
  },
  {
   "cell_type": "markdown",
   "id": "eb3507b1",
   "metadata": {},
   "source": [
    "# Import"
   ]
  },
  {
   "cell_type": "code",
   "execution_count": 1,
   "id": "14ea103d",
   "metadata": {
    "ExecuteTime": {
     "end_time": "2021-05-31T07:52:45.964237Z",
     "start_time": "2021-05-31T07:52:45.957401Z"
    }
   },
   "outputs": [],
   "source": [
    "import sys\n",
    "sys.path.append('../../../')"
   ]
  },
  {
   "cell_type": "code",
   "execution_count": 2,
   "id": "a548b57f",
   "metadata": {
    "ExecuteTime": {
     "end_time": "2021-05-31T07:52:45.973637Z",
     "start_time": "2021-05-31T07:52:45.968980Z"
    }
   },
   "outputs": [],
   "source": [
    "from pathlib import Path\n",
    "import os\n",
    "import random\n",
    "import json\n",
    "from datetime import datetime"
   ]
  },
  {
   "cell_type": "code",
   "execution_count": 3,
   "id": "01727bc6",
   "metadata": {
    "ExecuteTime": {
     "end_time": "2021-05-31T07:52:57.743857Z",
     "start_time": "2021-05-31T07:52:45.977207Z"
    }
   },
   "outputs": [],
   "source": [
    "import pandas as pd\n",
    "import numpy as np\n",
    "from sklearn.metrics import classification_report\n",
    "import torch\n",
    "import sagemaker\n",
    "from sagemaker import get_execution_role\n",
    "import boto3"
   ]
  },
  {
   "cell_type": "code",
   "execution_count": 4,
   "id": "1bc79461",
   "metadata": {
    "ExecuteTime": {
     "end_time": "2021-05-31T07:52:57.858513Z",
     "start_time": "2021-05-31T07:52:57.745332Z"
    }
   },
   "outputs": [],
   "source": [
    "from deep.constants import *\n",
    "from deep.utils import *"
   ]
  },
  {
   "cell_type": "code",
   "execution_count": 5,
   "id": "fef4595c",
   "metadata": {
    "ExecuteTime": {
     "end_time": "2021-05-31T07:52:57.879654Z",
     "start_time": "2021-05-31T07:52:57.859377Z"
    }
   },
   "outputs": [],
   "source": [
    "%load_ext autoreload\n",
    "%autoreload 2"
   ]
  },
  {
   "cell_type": "markdown",
   "id": "33ae160a",
   "metadata": {},
   "source": [
    "## Data"
   ]
  },
  {
   "cell_type": "code",
   "execution_count": 6,
   "id": "23af072b",
   "metadata": {
    "ExecuteTime": {
     "end_time": "2021-05-31T07:52:58.874787Z",
     "start_time": "2021-05-31T07:52:57.880530Z"
    }
   },
   "outputs": [
    {
     "name": "stderr",
     "output_type": "stream",
     "text": [
      "/Users/stefano/miniconda3/envs/deep-exp/lib/python3.9/site-packages/IPython/core/interactiveshell.py:3165: DtypeWarning: Columns (6) have mixed types.Specify dtype option on import or set low_memory=False.\n",
      "  has_raised = await self.run_ast_nodes(code_ast.body, cell_name,\n"
     ]
    }
   ],
   "source": [
    "train = pd.read_csv(FRAMEWORKS_PATH / 'data_v0.3_train.csv')\n",
    "val = pd.read_csv(FRAMEWORKS_PATH / 'data_v0.3_val.csv')\n",
    "test = pd.read_csv(FRAMEWORKS_PATH / 'data_v0.3_test.csv')"
   ]
  },
  {
   "cell_type": "code",
   "execution_count": 7,
   "id": "ce66a2e9",
   "metadata": {
    "ExecuteTime": {
     "end_time": "2021-05-31T07:52:58.891312Z",
     "start_time": "2021-05-31T07:52:58.875664Z"
    }
   },
   "outputs": [],
   "source": [
    "columns_to_keep = ['excerpt'] + DIMENSION_CLASSES"
   ]
  },
  {
   "cell_type": "code",
   "execution_count": 8,
   "id": "b868434b",
   "metadata": {
    "ExecuteTime": {
     "end_time": "2021-05-31T07:52:58.910027Z",
     "start_time": "2021-05-31T07:52:58.893266Z"
    }
   },
   "outputs": [],
   "source": [
    "def process_for_sector(df, sector):\n",
    "    df = df[['excerpt', sector]]\n",
    "        \n",
    "    return df"
   ]
  },
  {
   "cell_type": "code",
   "execution_count": 9,
   "id": "d150d2be",
   "metadata": {
    "ExecuteTime": {
     "end_time": "2021-05-31T07:52:58.934776Z",
     "start_time": "2021-05-31T07:52:58.911434Z"
    },
    "scrolled": true
   },
   "outputs": [],
   "source": [
    "train_df = process_for_sector(train, 'Humanitarian Conditions')\n",
    "test_df = process_for_sector(test, 'Humanitarian Conditions')"
   ]
  },
  {
   "cell_type": "markdown",
   "id": "f3be975a",
   "metadata": {},
   "source": [
    "## Sagemaker Prep"
   ]
  },
  {
   "cell_type": "markdown",
   "id": "b3b4b7db",
   "metadata": {
    "ExecuteTime": {
     "end_time": "2021-05-27T15:42:32.024647Z",
     "start_time": "2021-05-27T15:42:31.984694Z"
    }
   },
   "source": [
    "### Session"
   ]
  },
  {
   "cell_type": "code",
   "execution_count": 10,
   "id": "1891c670",
   "metadata": {
    "ExecuteTime": {
     "end_time": "2021-05-31T07:52:59.100997Z",
     "start_time": "2021-05-31T07:52:58.935671Z"
    }
   },
   "outputs": [],
   "source": [
    "sess = sagemaker.Session(default_bucket=DEV_BUCKET.name)\n",
    "role = 'AmazonSageMaker-ExecutionRole-20210519T102514'"
   ]
  },
  {
   "cell_type": "markdown",
   "id": "cfc69433",
   "metadata": {},
   "source": [
    "### Bucket upload"
   ]
  },
  {
   "cell_type": "code",
   "execution_count": 11,
   "id": "a3be97fd",
   "metadata": {
    "ExecuteTime": {
     "end_time": "2021-05-31T07:53:07.615199Z",
     "start_time": "2021-05-31T07:52:59.102586Z"
    },
    "scrolled": true
   },
   "outputs": [],
   "source": [
    "sample = True\n",
    "\n",
    "if sample:\n",
    "    train_df = train_df.sample(1000)\n",
    "    test_df = test_df.sample(1000)\n",
    "\n",
    "    \n",
    "job_name = f\"pytorch-training-{formatted_time()}\"\n",
    "input_path = DEV_BUCKET / 'training' / 'input_data' / job_name\n",
    "\n",
    "s3_train_data = str(input_path / 'train_df.pickle')\n",
    "s3_validation_data = str(input_path / 'test_df.pickle')\n",
    "\n",
    "train_df.to_pickle(s3_train_data, protocol=4)\n",
    "test_df.to_pickle(s3_validation_data, protocol=4)"
   ]
  },
  {
   "cell_type": "markdown",
   "id": "5ad0aba7",
   "metadata": {},
   "source": [
    "### Estimator Definition"
   ]
  },
  {
   "cell_type": "code",
   "execution_count": 12,
   "id": "f6b3e064",
   "metadata": {
    "ExecuteTime": {
     "end_time": "2021-05-31T07:53:07.660252Z",
     "start_time": "2021-05-31T07:53:07.618228Z"
    }
   },
   "outputs": [],
   "source": [
    "instances = [\n",
    "    'ml.p2.xlarge',\n",
    "    'ml.p3.2xlarge'\n",
    "]"
   ]
  },
  {
   "cell_type": "code",
   "execution_count": 13,
   "id": "302cfc01",
   "metadata": {
    "ExecuteTime": {
     "end_time": "2021-05-31T07:53:07.688671Z",
     "start_time": "2021-05-31T07:53:07.662167Z"
    }
   },
   "outputs": [],
   "source": [
    "metric_definitions=[\n",
    "    {'Name': 'loss', 'Regex': \"'loss': ([0-9]+(.|e\\-)[0-9]+),?\"},\n",
    "    {'Name': 'learning_rate', 'Regex': \"'learning_rate': ([0-9]+(.|e\\-)[0-9]+),?\"},\n",
    "    {'Name': 'eval_loss', 'Regex': \"'eval_loss': ([0-9]+(.|e\\-)[0-9]+),?\"},\n",
    "    {'Name': 'eval_accuracy', 'Regex': \"'eval_accuracy': ([0-9]+(.|e\\-)[0-9]+),?\"},\n",
    "    {'Name': 'eval_f1', 'Regex': \"'eval_f1': ([0-9]+(.|e\\-)[0-9]+),?\"},\n",
    "    {'Name': 'eval_precision', 'Regex': \"'eval_precision': ([0-9]+(.|e\\-)[0-9]+),?\"},\n",
    "    {'Name': 'eval_recall', 'Regex': \"'eval_recall': ([0-9]+(.|e\\-)[0-9]+),?\"},\n",
    "    {'Name': 'eval_stupid_metric', 'Regex': \"'eval_stupid_metric': ([0-9]+(.|e\\-)[0-9]+),?\"},\n",
    "    {'Name': 'eval_runtime', 'Regex': \"'eval_runtime': ([0-9]+(.|e\\-)[0-9]+),?\"},\n",
    "    {'Name': 'eval_samples_per_second', 'Regex': \"'eval_samples_per_second': ([0-9]+(.|e\\-)[0-9]+),?\"},\n",
    "    {'Name': 'epoch', 'Regex': \"'epoch': ([0-9]+(.|e\\-)[0-9]+),?\"}]"
   ]
  },
  {
   "cell_type": "code",
   "execution_count": 14,
   "id": "5dd9ab19",
   "metadata": {
    "ExecuteTime": {
     "end_time": "2021-05-31T07:53:07.707673Z",
     "start_time": "2021-05-31T07:53:07.689837Z"
    }
   },
   "outputs": [],
   "source": [
    "# # set True if you need spot instance\n",
    "# use_spot = True\n",
    "# train_max_run_secs =   2*24 * 60 * 60\n",
    "# spot_wait_sec =  5 * 60\n",
    "# max_wait_time_secs = train_max_run_secs +  spot_wait_sec\n",
    "\n",
    "# if not use_spot:\n",
    "#     max_wait_time_secs = None\n",
    "    \n",
    "# # During local mode, no spot.., use smaller dataset\n",
    "# if instance_type == 'local':\n",
    "#     use_spot = False\n",
    "#     max_wait_time_secs = 0\n",
    "#     wait = True\n",
    "#     # Use smaller dataset to run locally\n",
    "#     inputs = inputs_sample\n"
   ]
  },
  {
   "cell_type": "code",
   "execution_count": 15,
   "id": "c3afa217",
   "metadata": {
    "ExecuteTime": {
     "end_time": "2021-05-31T07:53:07.762009Z",
     "start_time": "2021-05-31T07:53:07.708587Z"
    }
   },
   "outputs": [],
   "source": [
    "from sagemaker.pytorch import PyTorch\n",
    "\n",
    "hyperparameters={'epochs': 1,\n",
    "                 'train_batch_size': 32,\n",
    "                 'model_name': 'distilbert-base-uncased'\n",
    "                 }\n",
    "\n",
    "estimator = PyTorch(\n",
    "    entry_point='train.py',\n",
    "    source_dir=str(SCRIPTS_TRAINING_PATH / 'stefano/pytorch_estimator_base'),\n",
    "    output_path=str(DEV_BUCKET / 'models/'),\n",
    "    code_location=str(input_path),\n",
    "    instance_type='ml.p3.2xlarge',\n",
    "    instance_count=1,\n",
    "    role=role,\n",
    "    framework_version='1.8',\n",
    "    py_version='py36',\n",
    "    hyperparameters = hyperparameters,\n",
    "    metric_definitions=metric_definitions,\n",
    "    job_name=job_name,\n",
    "#     train_instance_count=2,\n",
    "#     train_instance_type=\"ml.c4.xlarge\",\n",
    ")"
   ]
  },
  {
   "cell_type": "code",
   "execution_count": 16,
   "id": "a6e1e22c",
   "metadata": {
    "ExecuteTime": {
     "end_time": "2021-05-31T07:53:07.778821Z",
     "start_time": "2021-05-31T07:53:07.762935Z"
    }
   },
   "outputs": [],
   "source": [
    "fit_arguments = {\n",
    "    'train': str(input_path),\n",
    "    'test': str(input_path)\n",
    "}"
   ]
  },
  {
   "cell_type": "code",
   "execution_count": 17,
   "id": "70bf46cc",
   "metadata": {
    "ExecuteTime": {
     "end_time": "2021-05-31T08:01:07.271807Z",
     "start_time": "2021-05-31T07:53:07.779789Z"
    },
    "scrolled": true
   },
   "outputs": [
    {
     "name": "stdout",
     "output_type": "stream",
     "text": [
      "2021-05-31 07:53:10 Starting - Starting the training job...\n",
      "2021-05-31 07:53:33 Starting - Launching requested ML instancesProfilerReport-1622447587: InProgress\n",
      "......\n",
      "2021-05-31 07:54:33 Starting - Preparing the instances for training......\n",
      "2021-05-31 07:55:54 Downloading - Downloading input data...\n",
      "2021-05-31 07:56:14 Training - Downloading the training image...............\n",
      "2021-05-31 07:58:59 Training - Training image download completed. Training in progress.\u001b[34mbash: cannot set terminal process group (-1): Inappropriate ioctl for device\u001b[0m\n",
      "\u001b[34mbash: no job control in this shell\u001b[0m\n",
      "\u001b[34m2021-05-31 07:59:00,502 sagemaker-training-toolkit INFO     Imported framework sagemaker_pytorch_container.training\u001b[0m\n",
      "\u001b[34m2021-05-31 07:59:00,525 sagemaker_pytorch_container.training INFO     Block until all host DNS lookups succeed.\u001b[0m\n",
      "\u001b[34m2021-05-31 07:59:00,533 sagemaker_pytorch_container.training INFO     Invoking user training script.\u001b[0m\n",
      "\u001b[34m2021-05-31 07:59:00,872 sagemaker-training-toolkit INFO     Installing dependencies from requirements.txt:\u001b[0m\n",
      "\u001b[34m/opt/conda/bin/python3.6 -m pip install -r requirements.txt\u001b[0m\n",
      "\u001b[34mCollecting transformers==4.6.1\n",
      "  Downloading transformers-4.6.1-py3-none-any.whl (2.2 MB)\u001b[0m\n",
      "\u001b[34mCollecting pytorch-lightning==1.3.2\n",
      "  Downloading pytorch_lightning-1.3.2-py3-none-any.whl (805 kB)\u001b[0m\n",
      "\u001b[34mCollecting regex!=2019.12.17\n",
      "  Downloading regex-2021.4.4-cp36-cp36m-manylinux2014_x86_64.whl (722 kB)\u001b[0m\n",
      "\u001b[34mCollecting huggingface-hub==0.0.8\n",
      "  Downloading huggingface_hub-0.0.8-py3-none-any.whl (34 kB)\u001b[0m\n",
      "\u001b[34mRequirement already satisfied: packaging in /opt/conda/lib/python3.6/site-packages (from transformers==4.6.1->-r requirements.txt (line 1)) (20.9)\u001b[0m\n",
      "\u001b[34mRequirement already satisfied: numpy>=1.17 in /opt/conda/lib/python3.6/site-packages (from transformers==4.6.1->-r requirements.txt (line 1)) (1.19.1)\u001b[0m\n",
      "\u001b[34mCollecting tokenizers<0.11,>=0.10.1\u001b[0m\n",
      "\u001b[34m  Downloading tokenizers-0.10.3-cp36-cp36m-manylinux_2_5_x86_64.manylinux1_x86_64.manylinux_2_12_x86_64.manylinux2010_x86_64.whl (3.3 MB)\u001b[0m\n",
      "\u001b[34mRequirement already satisfied: requests in /opt/conda/lib/python3.6/site-packages (from transformers==4.6.1->-r requirements.txt (line 1)) (2.25.1)\u001b[0m\n",
      "\u001b[34mCollecting sacremoses\n",
      "  Downloading sacremoses-0.0.45-py3-none-any.whl (895 kB)\u001b[0m\n",
      "\u001b[34mRequirement already satisfied: importlib-metadata in /opt/conda/lib/python3.6/site-packages (from transformers==4.6.1->-r requirements.txt (line 1)) (4.0.1)\u001b[0m\n",
      "\u001b[34mRequirement already satisfied: dataclasses in /opt/conda/lib/python3.6/site-packages (from transformers==4.6.1->-r requirements.txt (line 1)) (0.8)\u001b[0m\n",
      "\u001b[34mCollecting filelock\n",
      "  Downloading filelock-3.0.12-py3-none-any.whl (7.6 kB)\u001b[0m\n",
      "\u001b[34mRequirement already satisfied: tqdm>=4.27 in /opt/conda/lib/python3.6/site-packages (from transformers==4.6.1->-r requirements.txt (line 1)) (4.51.0)\u001b[0m\n",
      "\u001b[34mRequirement already satisfied: future>=0.17.1 in /opt/conda/lib/python3.6/site-packages (from pytorch-lightning==1.3.2->-r requirements.txt (line 2)) (0.18.2)\u001b[0m\n",
      "\u001b[34mCollecting torchmetrics>=0.2.0\n",
      "  Downloading torchmetrics-0.3.2-py3-none-any.whl (274 kB)\u001b[0m\n",
      "\u001b[34mCollecting tensorboard!=2.5.0,>=2.2.0\n",
      "  Downloading tensorboard-2.4.1-py3-none-any.whl (10.6 MB)\u001b[0m\n",
      "\u001b[34mRequirement already satisfied: fsspec[http]>=2021.4.0 in /opt/conda/lib/python3.6/site-packages (from pytorch-lightning==1.3.2->-r requirements.txt (line 2)) (2021.4.0)\u001b[0m\n",
      "\u001b[34mCollecting pyDeprecate==0.3.0\n",
      "  Downloading pyDeprecate-0.3.0-py3-none-any.whl (10 kB)\u001b[0m\n",
      "\u001b[34mRequirement already satisfied: PyYAML<=5.4.1,>=5.1 in /opt/conda/lib/python3.6/site-packages (from pytorch-lightning==1.3.2->-r requirements.txt (line 2)) (5.4.1)\u001b[0m\n",
      "\u001b[34mRequirement already satisfied: torch>=1.4 in /opt/conda/lib/python3.6/site-packages (from pytorch-lightning==1.3.2->-r requirements.txt (line 2)) (1.8.1)\u001b[0m\n",
      "\u001b[34mCollecting aiohttp\n",
      "  Downloading aiohttp-3.7.4.post0-cp36-cp36m-manylinux2014_x86_64.whl (1.3 MB)\u001b[0m\n",
      "\u001b[34mRequirement already satisfied: wheel>=0.26 in /opt/conda/lib/python3.6/site-packages (from tensorboard!=2.5.0,>=2.2.0->pytorch-lightning==1.3.2->-r requirements.txt (line 2)) (0.35.1)\u001b[0m\n",
      "\u001b[34mCollecting google-auth-oauthlib<0.5,>=0.4.1\n",
      "  Downloading google_auth_oauthlib-0.4.4-py2.py3-none-any.whl (18 kB)\u001b[0m\n",
      "\u001b[34mCollecting tensorboard-plugin-wit>=1.6.0\n",
      "  Downloading tensorboard_plugin_wit-1.8.0-py3-none-any.whl (781 kB)\u001b[0m\n",
      "\u001b[34mCollecting markdown>=2.6.8\n",
      "  Downloading Markdown-3.3.4-py3-none-any.whl (97 kB)\u001b[0m\n",
      "\u001b[34mRequirement already satisfied: six>=1.10.0 in /opt/conda/lib/python3.6/site-packages (from tensorboard!=2.5.0,>=2.2.0->pytorch-lightning==1.3.2->-r requirements.txt (line 2)) (1.16.0)\u001b[0m\n",
      "\u001b[34mCollecting grpcio>=1.24.3\n",
      "  Downloading grpcio-1.38.0-cp36-cp36m-manylinux2014_x86_64.whl (4.2 MB)\u001b[0m\n",
      "\u001b[34mRequirement already satisfied: setuptools>=41.0.0 in /opt/conda/lib/python3.6/site-packages (from tensorboard!=2.5.0,>=2.2.0->pytorch-lightning==1.3.2->-r requirements.txt (line 2)) (49.6.0.post20210108)\u001b[0m\n",
      "\u001b[34mRequirement already satisfied: werkzeug>=0.11.15 in /opt/conda/lib/python3.6/site-packages (from tensorboard!=2.5.0,>=2.2.0->pytorch-lightning==1.3.2->-r requirements.txt (line 2)) (1.0.1)\u001b[0m\n",
      "\u001b[34mCollecting google-auth<2,>=1.6.3\n",
      "  Downloading google_auth-1.30.1-py2.py3-none-any.whl (146 kB)\u001b[0m\n",
      "\u001b[34mCollecting absl-py>=0.4\n",
      "  Downloading absl_py-0.12.0-py3-none-any.whl (129 kB)\u001b[0m\n",
      "\u001b[34mRequirement already satisfied: protobuf>=3.6.0 in /opt/conda/lib/python3.6/site-packages (from tensorboard!=2.5.0,>=2.2.0->pytorch-lightning==1.3.2->-r requirements.txt (line 2)) (3.16.0)\u001b[0m\n",
      "\u001b[34mCollecting cachetools<5.0,>=2.0.0\n",
      "  Downloading cachetools-4.2.2-py3-none-any.whl (11 kB)\u001b[0m\n",
      "\u001b[34mRequirement already satisfied: rsa<5,>=3.1.4 in /opt/conda/lib/python3.6/site-packages (from google-auth<2,>=1.6.3->tensorboard!=2.5.0,>=2.2.0->pytorch-lightning==1.3.2->-r requirements.txt (line 2)) (4.7.2)\u001b[0m\n",
      "\u001b[34mCollecting pyasn1-modules>=0.2.1\n",
      "  Downloading pyasn1_modules-0.2.8-py2.py3-none-any.whl (155 kB)\u001b[0m\n",
      "\u001b[34mCollecting requests-oauthlib>=0.7.0\n",
      "  Downloading requests_oauthlib-1.3.0-py2.py3-none-any.whl (23 kB)\u001b[0m\n",
      "\u001b[34mRequirement already satisfied: pyasn1<0.5.0,>=0.4.6 in /opt/conda/lib/python3.6/site-packages (from pyasn1-modules>=0.2.1->google-auth<2,>=1.6.3->tensorboard!=2.5.0,>=2.2.0->pytorch-lightning==1.3.2->-r requirements.txt (line 2)) (0.4.8)\u001b[0m\n",
      "\u001b[34mRequirement already satisfied: urllib3<1.27,>=1.21.1 in /opt/conda/lib/python3.6/site-packages (from requests->transformers==4.6.1->-r requirements.txt (line 1)) (1.25.11)\u001b[0m\n",
      "\u001b[34mRequirement already satisfied: idna<3,>=2.5 in /opt/conda/lib/python3.6/site-packages (from requests->transformers==4.6.1->-r requirements.txt (line 1)) (2.10)\u001b[0m\n",
      "\u001b[34mRequirement already satisfied: certifi>=2017.4.17 in /opt/conda/lib/python3.6/site-packages (from requests->transformers==4.6.1->-r requirements.txt (line 1)) (2020.12.5)\u001b[0m\n",
      "\u001b[34mRequirement already satisfied: chardet<5,>=3.0.2 in /opt/conda/lib/python3.6/site-packages (from requests->transformers==4.6.1->-r requirements.txt (line 1)) (3.0.4)\u001b[0m\n",
      "\u001b[34mCollecting oauthlib>=3.0.0\n",
      "  Downloading oauthlib-3.1.0-py2.py3-none-any.whl (147 kB)\u001b[0m\n",
      "\u001b[34mRequirement already satisfied: typing-extensions in /opt/conda/lib/python3.6/site-packages (from torch>=1.4->pytorch-lightning==1.3.2->-r requirements.txt (line 2)) (3.10.0.0)\u001b[0m\n",
      "\u001b[34mCollecting multidict<7.0,>=4.5\n",
      "  Downloading multidict-5.1.0-cp36-cp36m-manylinux2014_x86_64.whl (141 kB)\u001b[0m\n",
      "\u001b[34mCollecting async-timeout<4.0,>=3.0\n",
      "  Downloading async_timeout-3.0.1-py3-none-any.whl (8.2 kB)\u001b[0m\n",
      "\u001b[34mCollecting yarl<2.0,>=1.0\n",
      "  Downloading yarl-1.6.3-cp36-cp36m-manylinux2014_x86_64.whl (293 kB)\u001b[0m\n",
      "\u001b[34mCollecting idna-ssl>=1.0\n",
      "  Downloading idna-ssl-1.1.0.tar.gz (3.4 kB)\u001b[0m\n",
      "\u001b[34mRequirement already satisfied: attrs>=17.3.0 in /opt/conda/lib/python3.6/site-packages (from aiohttp->fsspec[http]>=2021.4.0->pytorch-lightning==1.3.2->-r requirements.txt (line 2)) (21.2.0)\u001b[0m\n",
      "\u001b[34mRequirement already satisfied: zipp>=0.5 in /opt/conda/lib/python3.6/site-packages (from importlib-metadata->transformers==4.6.1->-r requirements.txt (line 1)) (3.4.1)\u001b[0m\n",
      "\u001b[34mRequirement already satisfied: pyparsing>=2.0.2 in /opt/conda/lib/python3.6/site-packages (from packaging->transformers==4.6.1->-r requirements.txt (line 1)) (2.4.7)\u001b[0m\n",
      "\u001b[34mRequirement already satisfied: click in /opt/conda/lib/python3.6/site-packages (from sacremoses->transformers==4.6.1->-r requirements.txt (line 1)) (7.1.2)\u001b[0m\n",
      "\u001b[34mRequirement already satisfied: joblib in /opt/conda/lib/python3.6/site-packages (from sacremoses->transformers==4.6.1->-r requirements.txt (line 1)) (1.0.1)\u001b[0m\n",
      "\u001b[34mBuilding wheels for collected packages: idna-ssl\n",
      "  Building wheel for idna-ssl (setup.py): started\n",
      "  Building wheel for idna-ssl (setup.py): finished with status 'done'\n",
      "  Created wheel for idna-ssl: filename=idna_ssl-1.1.0-py3-none-any.whl size=3161 sha256=8ed939d739b94dfeb6973765ac4896645f35b64ca92bba3e1281d65493e78ce9\n",
      "  Stored in directory: /root/.cache/pip/wheels/6a/f5/9c/f8331a854f7a8739cf0e74c13854e4dd7b1af11b04fe1dde13\u001b[0m\n",
      "\u001b[34mSuccessfully built idna-ssl\u001b[0m\n",
      "\u001b[34mInstalling collected packages: pyasn1-modules, oauthlib, multidict, cachetools, yarl, requests-oauthlib, idna-ssl, google-auth, async-timeout, tensorboard-plugin-wit, regex, markdown, grpcio, google-auth-oauthlib, filelock, aiohttp, absl-py, torchmetrics, tokenizers, tensorboard, sacremoses, pyDeprecate, huggingface-hub, transformers, pytorch-lightning\u001b[0m\n",
      "\u001b[34mSuccessfully installed absl-py-0.12.0 aiohttp-3.7.4.post0 async-timeout-3.0.1 cachetools-4.2.2 filelock-3.0.12 google-auth-1.30.1 google-auth-oauthlib-0.4.4 grpcio-1.38.0 huggingface-hub-0.0.8 idna-ssl-1.1.0 markdown-3.3.4 multidict-5.1.0 oauthlib-3.1.0 pyDeprecate-0.3.0 pyasn1-modules-0.2.8 pytorch-lightning-1.3.2 regex-2021.4.4 requests-oauthlib-1.3.0 sacremoses-0.0.45 tensorboard-2.4.1 tensorboard-plugin-wit-1.8.0 tokenizers-0.10.3 torchmetrics-0.3.2 transformers-4.6.1 yarl-1.6.3\u001b[0m\n",
      "\u001b[34mWARNING: Running pip as root will break packages and permissions. You should install packages reliably by using venv: https://pip.pypa.io/warnings/venv\n",
      "\u001b[0m\n",
      "\u001b[34m2021-05-31 07:59:14,947 sagemaker-training-toolkit INFO     Invoking user script\n",
      "\u001b[0m\n",
      "\u001b[34mTraining Env:\n",
      "\u001b[0m\n",
      "\u001b[34m{\n",
      "    \"additional_framework_parameters\": {},\n",
      "    \"channel_input_dirs\": {\n",
      "        \"test\": \"/opt/ml/input/data/test\",\n",
      "        \"train\": \"/opt/ml/input/data/train\"\n",
      "    },\n",
      "    \"current_host\": \"algo-1\",\n",
      "    \"framework_module\": \"sagemaker_pytorch_container.training:main\",\n",
      "    \"hosts\": [\n",
      "        \"algo-1\"\n",
      "    ],\n",
      "    \"hyperparameters\": {\n",
      "        \"train_batch_size\": 32,\n",
      "        \"model_name\": \"distilbert-base-uncased\",\n",
      "        \"epochs\": 1\n",
      "    },\n",
      "    \"input_config_dir\": \"/opt/ml/input/config\",\n",
      "    \"input_data_config\": {\n",
      "        \"test\": {\n",
      "            \"TrainingInputMode\": \"File\",\n",
      "            \"S3DistributionType\": \"FullyReplicated\",\n",
      "            \"RecordWrapperType\": \"None\"\n",
      "        },\n",
      "        \"train\": {\n",
      "            \"TrainingInputMode\": \"File\",\n",
      "            \"S3DistributionType\": \"FullyReplicated\",\n",
      "            \"RecordWrapperType\": \"None\"\n",
      "        }\n",
      "    },\n",
      "    \"input_dir\": \"/opt/ml/input\",\n",
      "    \"is_master\": true,\n",
      "    \"job_name\": \"pytorch-training-2021-05-31-09-52-59-133\",\n",
      "    \"log_level\": 20,\n",
      "    \"master_hostname\": \"algo-1\",\n",
      "    \"model_dir\": \"/opt/ml/model\",\n",
      "    \"module_dir\": \"s3://sagemaker-deep-experiments-dev/training/input_data/pytorch-training-2021-05-31-09-52-59-133/pytorch-training-2021-05-31-09-52-59-133/source/sourcedir.tar.gz\",\n",
      "    \"module_name\": \"train\",\n",
      "    \"network_interface_name\": \"eth0\",\n",
      "    \"num_cpus\": 8,\n",
      "    \"num_gpus\": 1,\n",
      "    \"output_data_dir\": \"/opt/ml/output/data\",\n",
      "    \"output_dir\": \"/opt/ml/output\",\n",
      "    \"output_intermediate_dir\": \"/opt/ml/output/intermediate\",\n",
      "    \"resource_config\": {\n",
      "        \"current_host\": \"algo-1\",\n",
      "        \"hosts\": [\n",
      "            \"algo-1\"\n",
      "        ],\n",
      "        \"network_interface_name\": \"eth0\"\n",
      "    },\n",
      "    \"user_entry_point\": \"train.py\"\u001b[0m\n",
      "\u001b[34m}\n",
      "\u001b[0m\n",
      "\u001b[34mEnvironment variables:\n",
      "\u001b[0m\n",
      "\u001b[34mSM_HOSTS=[\"algo-1\"]\u001b[0m\n",
      "\u001b[34mSM_NETWORK_INTERFACE_NAME=eth0\u001b[0m\n",
      "\u001b[34mSM_HPS={\"epochs\":1,\"model_name\":\"distilbert-base-uncased\",\"train_batch_size\":32}\u001b[0m\n",
      "\u001b[34mSM_USER_ENTRY_POINT=train.py\u001b[0m\n",
      "\u001b[34mSM_FRAMEWORK_PARAMS={}\u001b[0m\n",
      "\u001b[34mSM_RESOURCE_CONFIG={\"current_host\":\"algo-1\",\"hosts\":[\"algo-1\"],\"network_interface_name\":\"eth0\"}\u001b[0m\n",
      "\u001b[34mSM_INPUT_DATA_CONFIG={\"test\":{\"RecordWrapperType\":\"None\",\"S3DistributionType\":\"FullyReplicated\",\"TrainingInputMode\":\"File\"},\"train\":{\"RecordWrapperType\":\"None\",\"S3DistributionType\":\"FullyReplicated\",\"TrainingInputMode\":\"File\"}}\u001b[0m\n",
      "\u001b[34mSM_OUTPUT_DATA_DIR=/opt/ml/output/data\u001b[0m\n",
      "\u001b[34mSM_CHANNELS=[\"test\",\"train\"]\u001b[0m\n",
      "\u001b[34mSM_CURRENT_HOST=algo-1\u001b[0m\n",
      "\u001b[34mSM_MODULE_NAME=train\u001b[0m\n",
      "\u001b[34mSM_LOG_LEVEL=20\u001b[0m\n",
      "\u001b[34mSM_FRAMEWORK_MODULE=sagemaker_pytorch_container.training:main\u001b[0m\n",
      "\u001b[34mSM_INPUT_DIR=/opt/ml/input\u001b[0m\n",
      "\u001b[34mSM_INPUT_CONFIG_DIR=/opt/ml/input/config\u001b[0m\n",
      "\u001b[34mSM_OUTPUT_DIR=/opt/ml/output\u001b[0m\n",
      "\u001b[34mSM_NUM_CPUS=8\u001b[0m\n",
      "\u001b[34mSM_NUM_GPUS=1\u001b[0m\n",
      "\u001b[34mSM_MODEL_DIR=/opt/ml/model\u001b[0m\n",
      "\u001b[34mSM_MODULE_DIR=s3://sagemaker-deep-experiments-dev/training/input_data/pytorch-training-2021-05-31-09-52-59-133/pytorch-training-2021-05-31-09-52-59-133/source/sourcedir.tar.gz\u001b[0m\n",
      "\u001b[34mSM_TRAINING_ENV={\"additional_framework_parameters\":{},\"channel_input_dirs\":{\"test\":\"/opt/ml/input/data/test\",\"train\":\"/opt/ml/input/data/train\"},\"current_host\":\"algo-1\",\"framework_module\":\"sagemaker_pytorch_container.training:main\",\"hosts\":[\"algo-1\"],\"hyperparameters\":{\"epochs\":1,\"model_name\":\"distilbert-base-uncased\",\"train_batch_size\":32},\"input_config_dir\":\"/opt/ml/input/config\",\"input_data_config\":{\"test\":{\"RecordWrapperType\":\"None\",\"S3DistributionType\":\"FullyReplicated\",\"TrainingInputMode\":\"File\"},\"train\":{\"RecordWrapperType\":\"None\",\"S3DistributionType\":\"FullyReplicated\",\"TrainingInputMode\":\"File\"}},\"input_dir\":\"/opt/ml/input\",\"is_master\":true,\"job_name\":\"pytorch-training-2021-05-31-09-52-59-133\",\"log_level\":20,\"master_hostname\":\"algo-1\",\"model_dir\":\"/opt/ml/model\",\"module_dir\":\"s3://sagemaker-deep-experiments-dev/training/input_data/pytorch-training-2021-05-31-09-52-59-133/pytorch-training-2021-05-31-09-52-59-133/source/sourcedir.tar.gz\",\"module_name\":\"train\",\"network_interface_name\":\"eth0\",\"num_cpus\":8,\"num_gpus\":1,\"output_data_dir\":\"/opt/ml/output/data\",\"output_dir\":\"/opt/ml/output\",\"output_intermediate_dir\":\"/opt/ml/output/intermediate\",\"resource_config\":{\"current_host\":\"algo-1\",\"hosts\":[\"algo-1\"],\"network_interface_name\":\"eth0\"},\"user_entry_point\":\"train.py\"}\u001b[0m\n",
      "\u001b[34mSM_USER_ARGS=[\"--epochs\",\"1\",\"--model_name\",\"distilbert-base-uncased\",\"--train_batch_size\",\"32\"]\u001b[0m\n",
      "\u001b[34mSM_OUTPUT_INTERMEDIATE_DIR=/opt/ml/output/intermediate\u001b[0m\n",
      "\u001b[34mSM_CHANNEL_TEST=/opt/ml/input/data/test\u001b[0m\n",
      "\u001b[34mSM_CHANNEL_TRAIN=/opt/ml/input/data/train\u001b[0m\n",
      "\u001b[34mSM_HP_TRAIN_BATCH_SIZE=32\u001b[0m\n",
      "\u001b[34mSM_HP_MODEL_NAME=distilbert-base-uncased\u001b[0m\n",
      "\u001b[34mSM_HP_EPOCHS=1\u001b[0m\n",
      "\u001b[34mPYTHONPATH=/opt/ml/code:/opt/conda/bin:/opt/conda/lib/python36.zip:/opt/conda/lib/python3.6:/opt/conda/lib/python3.6/lib-dynload:/opt/conda/lib/python3.6/site-packages\n",
      "\u001b[0m\n",
      "\u001b[34mInvoking script with the following command:\n",
      "\u001b[0m\n",
      "\u001b[34m/opt/conda/bin/python3.6 train.py --epochs 1 --model_name distilbert-base-uncased --train_batch_size 32\n",
      "\n",
      "\u001b[0m\n",
      "\u001b[34m2021-05-31 07:59:19,073 - __main__ - INFO -  loaded train_dataset length is: (1000, 2)\u001b[0m\n",
      "\u001b[34m2021-05-31 07:59:19,073 - __main__ - INFO -  loaded test_dataset length is: (1000, 2)\u001b[0m\n",
      "\u001b[34m2021-05-31 07:59:19,269 - filelock - INFO - Lock 139834416888016 acquired on /root/.cache/huggingface/transformers/23454919702d26495337f3da04d1655c7ee010d5ec9d77bdb9e399e00302c0a1.d423bdf2f58dc8b77d5f5d18028d7ae4a72dcfd8f468e81fe979ada957a8c361.lock\u001b[0m\n",
      "\u001b[34m2021-05-31 07:59:19,293 - filelock - INFO - Lock 139834416888016 released on /root/.cache/huggingface/transformers/23454919702d26495337f3da04d1655c7ee010d5ec9d77bdb9e399e00302c0a1.d423bdf2f58dc8b77d5f5d18028d7ae4a72dcfd8f468e81fe979ada957a8c361.lock\u001b[0m\n",
      "\u001b[34m2021-05-31 07:59:19,318 - filelock - INFO - Lock 139830359412072 acquired on /root/.cache/huggingface/transformers/0e1bbfda7f63a99bb52e3915dcf10c3c92122b827d92eb2d34ce94ee79ba486c.d789d64ebfe299b0e416afc4a169632f903f693095b4629a7ea271d5a0cf2c99.lock\u001b[0m\n",
      "\u001b[34m2021-05-31 07:59:19,347 - filelock - INFO - Lock 139830359412072 released on /root/.cache/huggingface/transformers/0e1bbfda7f63a99bb52e3915dcf10c3c92122b827d92eb2d34ce94ee79ba486c.d789d64ebfe299b0e416afc4a169632f903f693095b4629a7ea271d5a0cf2c99.lock\u001b[0m\n",
      "\u001b[34m2021-05-31 07:59:19,372 - filelock - INFO - Lock 139830359410560 acquired on /root/.cache/huggingface/transformers/75abb59d7a06f4f640158a9bfcde005264e59e8d566781ab1415b139d2e4c603.7f2721073f19841be16f41b0a70b600ca6b880c8f3df6f3535cbc704371bdfa4.lock\u001b[0m\n",
      "\u001b[34m2021-05-31 07:59:19,407 - filelock - INFO - Lock 139830359410560 released on /root/.cache/huggingface/transformers/75abb59d7a06f4f640158a9bfcde005264e59e8d566781ab1415b139d2e4c603.7f2721073f19841be16f41b0a70b600ca6b880c8f3df6f3535cbc704371bdfa4.lock\u001b[0m\n",
      "\u001b[34m2021-05-31 07:59:19,482 - filelock - INFO - Lock 139830359412576 acquired on /root/.cache/huggingface/transformers/8c8624b8ac8aa99c60c912161f8332de003484428c47906d7ff7eb7f73eecdbb.20430bd8e10ef77a7d2977accefe796051e01bc2fc4aa146bc862997a1a15e79.lock\u001b[0m\n",
      "\u001b[34m2021-05-31 07:59:19,504 - filelock - INFO - Lock 139830359412576 released on /root/.cache/huggingface/transformers/8c8624b8ac8aa99c60c912161f8332de003484428c47906d7ff7eb7f73eecdbb.20430bd8e10ef77a7d2977accefe796051e01bc2fc4aa146bc862997a1a15e79.lock\u001b[0m\n",
      "\u001b[34m2021-05-31 07:59:19,584 - filelock - INFO - Lock 139830359412576 acquired on /root/.cache/huggingface/transformers/9c169103d7e5a73936dd2b627e42851bec0831212b677c637033ee4bce9ab5ee.126183e36667471617ae2f0835fab707baa54b731f991507ebbb55ea85adb12a.lock\u001b[0m\n"
     ]
    },
    {
     "name": "stdout",
     "output_type": "stream",
     "text": [
      "\u001b[34m2021-05-31 07:59:24,823 - filelock - INFO - Lock 139830359412576 released on /root/.cache/huggingface/transformers/9c169103d7e5a73936dd2b627e42851bec0831212b677c637033ee4bce9ab5ee.126183e36667471617ae2f0835fab707baa54b731f991507ebbb55ea85adb12a.lock\u001b[0m\n",
      "\u001b[34mSome weights of the model checkpoint at distilbert-base-uncased were not used when initializing DistilBertForSequenceClassification: ['vocab_transform.weight', 'vocab_layer_norm.bias', 'vocab_projector.weight', 'vocab_projector.bias', 'vocab_layer_norm.weight', 'vocab_transform.bias']\u001b[0m\n",
      "\u001b[34m- This IS expected if you are initializing DistilBertForSequenceClassification from the checkpoint of a model trained on another task or with another architecture (e.g. initializing a BertForSequenceClassification model from a BertForPreTraining model).\u001b[0m\n",
      "\u001b[34m- This IS NOT expected if you are initializing DistilBertForSequenceClassification from the checkpoint of a model that you expect to be exactly identical (initializing a BertForSequenceClassification model from a BertForSequenceClassification model).\u001b[0m\n",
      "\u001b[34mSome weights of DistilBertForSequenceClassification were not initialized from the model checkpoint at distilbert-base-uncased and are newly initialized: ['classifier.weight', 'pre_classifier.weight', 'pre_classifier.bias', 'classifier.bias']\u001b[0m\n",
      "\u001b[34mYou should probably TRAIN this model on a down-stream task to be able to use it for predictions and inference.\u001b[0m\n",
      "\u001b[34m[2021-05-31 07:59:30.183 algo-1:37 INFO utils.py:27] RULE_JOB_STOP_SIGNAL_FILENAME: None\u001b[0m\n",
      "\u001b[34m[2021-05-31 07:59:30.288 algo-1:37 INFO profiler_config_parser.py:102] User has disabled profiler.\u001b[0m\n",
      "\u001b[34m[2021-05-31 07:59:30.288 algo-1:37 INFO json_config.py:91] Creating hook from json_config at /opt/ml/input/config/debughookconfig.json.\u001b[0m\n",
      "\u001b[34m[2021-05-31 07:59:30.289 algo-1:37 INFO hook.py:199] tensorboard_dir has not been set for the hook. SMDebug will not be exporting tensorboard summaries.\u001b[0m\n",
      "\u001b[34m[2021-05-31 07:59:30.290 algo-1:37 INFO hook.py:253] Saving to /opt/ml/output/tensors\u001b[0m\n",
      "\u001b[34m[2021-05-31 07:59:30.290 algo-1:37 INFO state_store.py:77] The checkpoint config file /opt/ml/input/config/checkpointconfig.json does not exist.\u001b[0m\n",
      "\u001b[34m[2021-05-31 07:59:30.443 algo-1:37 INFO hook.py:584] name:distilbert.embeddings.word_embeddings.weight count_params:23440896\u001b[0m\n",
      "\u001b[34m[2021-05-31 07:59:30.444 algo-1:37 INFO hook.py:584] name:distilbert.embeddings.position_embeddings.weight count_params:393216\u001b[0m\n",
      "\u001b[34m[2021-05-31 07:59:30.444 algo-1:37 INFO hook.py:584] name:distilbert.embeddings.LayerNorm.weight count_params:768\u001b[0m\n",
      "\u001b[34m[2021-05-31 07:59:30.444 algo-1:37 INFO hook.py:584] name:distilbert.embeddings.LayerNorm.bias count_params:768\u001b[0m\n",
      "\u001b[34m[2021-05-31 07:59:30.444 algo-1:37 INFO hook.py:584] name:distilbert.transformer.layer.0.attention.q_lin.weight count_params:589824\u001b[0m\n",
      "\u001b[34m[2021-05-31 07:59:30.444 algo-1:37 INFO hook.py:584] name:distilbert.transformer.layer.0.attention.q_lin.bias count_params:768\u001b[0m\n",
      "\u001b[34m[2021-05-31 07:59:30.444 algo-1:37 INFO hook.py:584] name:distilbert.transformer.layer.0.attention.k_lin.weight count_params:589824\u001b[0m\n",
      "\u001b[34m[2021-05-31 07:59:30.444 algo-1:37 INFO hook.py:584] name:distilbert.transformer.layer.0.attention.k_lin.bias count_params:768\u001b[0m\n",
      "\u001b[34m[2021-05-31 07:59:30.445 algo-1:37 INFO hook.py:584] name:distilbert.transformer.layer.0.attention.v_lin.weight count_params:589824\u001b[0m\n",
      "\u001b[34m[2021-05-31 07:59:30.445 algo-1:37 INFO hook.py:584] name:distilbert.transformer.layer.0.attention.v_lin.bias count_params:768\u001b[0m\n",
      "\u001b[34m[2021-05-31 07:59:30.445 algo-1:37 INFO hook.py:584] name:distilbert.transformer.layer.0.attention.out_lin.weight count_params:589824\u001b[0m\n",
      "\u001b[34m[2021-05-31 07:59:30.445 algo-1:37 INFO hook.py:584] name:distilbert.transformer.layer.0.attention.out_lin.bias count_params:768\u001b[0m\n",
      "\u001b[34m[2021-05-31 07:59:30.445 algo-1:37 INFO hook.py:584] name:distilbert.transformer.layer.0.sa_layer_norm.weight count_params:768\u001b[0m\n",
      "\u001b[34m[2021-05-31 07:59:30.445 algo-1:37 INFO hook.py:584] name:distilbert.transformer.layer.0.sa_layer_norm.bias count_params:768\u001b[0m\n",
      "\u001b[34m[2021-05-31 07:59:30.445 algo-1:37 INFO hook.py:584] name:distilbert.transformer.layer.0.ffn.lin1.weight count_params:2359296\u001b[0m\n",
      "\u001b[34m[2021-05-31 07:59:30.445 algo-1:37 INFO hook.py:584] name:distilbert.transformer.layer.0.ffn.lin1.bias count_params:3072\u001b[0m\n",
      "\u001b[34m[2021-05-31 07:59:30.445 algo-1:37 INFO hook.py:584] name:distilbert.transformer.layer.0.ffn.lin2.weight count_params:2359296\u001b[0m\n",
      "\u001b[34m[2021-05-31 07:59:30.445 algo-1:37 INFO hook.py:584] name:distilbert.transformer.layer.0.ffn.lin2.bias count_params:768\u001b[0m\n",
      "\u001b[34m[2021-05-31 07:59:30.445 algo-1:37 INFO hook.py:584] name:distilbert.transformer.layer.0.output_layer_norm.weight count_params:768\u001b[0m\n",
      "\u001b[34m[2021-05-31 07:59:30.446 algo-1:37 INFO hook.py:584] name:distilbert.transformer.layer.0.output_layer_norm.bias count_params:768\u001b[0m\n",
      "\u001b[34m[2021-05-31 07:59:30.446 algo-1:37 INFO hook.py:584] name:distilbert.transformer.layer.1.attention.q_lin.weight count_params:589824\u001b[0m\n",
      "\u001b[34m[2021-05-31 07:59:30.446 algo-1:37 INFO hook.py:584] name:distilbert.transformer.layer.1.attention.q_lin.bias count_params:768\u001b[0m\n",
      "\u001b[34m[2021-05-31 07:59:30.446 algo-1:37 INFO hook.py:584] name:distilbert.transformer.layer.1.attention.k_lin.weight count_params:589824\u001b[0m\n",
      "\u001b[34m[2021-05-31 07:59:30.446 algo-1:37 INFO hook.py:584] name:distilbert.transformer.layer.1.attention.k_lin.bias count_params:768\u001b[0m\n",
      "\u001b[34m[2021-05-31 07:59:30.446 algo-1:37 INFO hook.py:584] name:distilbert.transformer.layer.1.attention.v_lin.weight count_params:589824\u001b[0m\n",
      "\u001b[34m[2021-05-31 07:59:30.446 algo-1:37 INFO hook.py:584] name:distilbert.transformer.layer.1.attention.v_lin.bias count_params:768\u001b[0m\n",
      "\u001b[34m[2021-05-31 07:59:30.446 algo-1:37 INFO hook.py:584] name:distilbert.transformer.layer.1.attention.out_lin.weight count_params:589824\u001b[0m\n",
      "\u001b[34m[2021-05-31 07:59:30.446 algo-1:37 INFO hook.py:584] name:distilbert.transformer.layer.1.attention.out_lin.bias count_params:768\u001b[0m\n",
      "\u001b[34m[2021-05-31 07:59:30.446 algo-1:37 INFO hook.py:584] name:distilbert.transformer.layer.1.sa_layer_norm.weight count_params:768\u001b[0m\n",
      "\u001b[34m[2021-05-31 07:59:30.447 algo-1:37 INFO hook.py:584] name:distilbert.transformer.layer.1.sa_layer_norm.bias count_params:768\u001b[0m\n",
      "\u001b[34m[2021-05-31 07:59:30.447 algo-1:37 INFO hook.py:584] name:distilbert.transformer.layer.1.ffn.lin1.weight count_params:2359296\u001b[0m\n",
      "\u001b[34m[2021-05-31 07:59:30.447 algo-1:37 INFO hook.py:584] name:distilbert.transformer.layer.1.ffn.lin1.bias count_params:3072\u001b[0m\n",
      "\u001b[34m[2021-05-31 07:59:30.447 algo-1:37 INFO hook.py:584] name:distilbert.transformer.layer.1.ffn.lin2.weight count_params:2359296\u001b[0m\n",
      "\u001b[34m[2021-05-31 07:59:30.447 algo-1:37 INFO hook.py:584] name:distilbert.transformer.layer.1.ffn.lin2.bias count_params:768\u001b[0m\n",
      "\u001b[34m[2021-05-31 07:59:30.447 algo-1:37 INFO hook.py:584] name:distilbert.transformer.layer.1.output_layer_norm.weight count_params:768\u001b[0m\n",
      "\u001b[34m[2021-05-31 07:59:30.447 algo-1:37 INFO hook.py:584] name:distilbert.transformer.layer.1.output_layer_norm.bias count_params:768\u001b[0m\n",
      "\u001b[34m[2021-05-31 07:59:30.447 algo-1:37 INFO hook.py:584] name:distilbert.transformer.layer.2.attention.q_lin.weight count_params:589824\u001b[0m\n",
      "\u001b[34m[2021-05-31 07:59:30.447 algo-1:37 INFO hook.py:584] name:distilbert.transformer.layer.2.attention.q_lin.bias count_params:768\u001b[0m\n",
      "\u001b[34m[2021-05-31 07:59:30.448 algo-1:37 INFO hook.py:584] name:distilbert.transformer.layer.2.attention.k_lin.weight count_params:589824\u001b[0m\n",
      "\u001b[34m[2021-05-31 07:59:30.448 algo-1:37 INFO hook.py:584] name:distilbert.transformer.layer.2.attention.k_lin.bias count_params:768\u001b[0m\n",
      "\u001b[34m[2021-05-31 07:59:30.448 algo-1:37 INFO hook.py:584] name:distilbert.transformer.layer.2.attention.v_lin.weight count_params:589824\u001b[0m\n",
      "\u001b[34m[2021-05-31 07:59:30.448 algo-1:37 INFO hook.py:584] name:distilbert.transformer.layer.2.attention.v_lin.bias count_params:768\u001b[0m\n",
      "\u001b[34m[2021-05-31 07:59:30.448 algo-1:37 INFO hook.py:584] name:distilbert.transformer.layer.2.attention.out_lin.weight count_params:589824\u001b[0m\n",
      "\u001b[34m[2021-05-31 07:59:30.448 algo-1:37 INFO hook.py:584] name:distilbert.transformer.layer.2.attention.out_lin.bias count_params:768\u001b[0m\n",
      "\u001b[34m[2021-05-31 07:59:30.448 algo-1:37 INFO hook.py:584] name:distilbert.transformer.layer.2.sa_layer_norm.weight count_params:768\u001b[0m\n",
      "\u001b[34m[2021-05-31 07:59:30.449 algo-1:37 INFO hook.py:584] name:distilbert.transformer.layer.2.sa_layer_norm.bias count_params:768\u001b[0m\n",
      "\u001b[34m[2021-05-31 07:59:30.449 algo-1:37 INFO hook.py:584] name:distilbert.transformer.layer.2.ffn.lin1.weight count_params:2359296\u001b[0m\n",
      "\u001b[34m[2021-05-31 07:59:30.449 algo-1:37 INFO hook.py:584] name:distilbert.transformer.layer.2.ffn.lin1.bias count_params:3072\u001b[0m\n",
      "\u001b[34m[2021-05-31 07:59:30.449 algo-1:37 INFO hook.py:584] name:distilbert.transformer.layer.2.ffn.lin2.weight count_params:2359296\u001b[0m\n",
      "\u001b[34m[2021-05-31 07:59:30.449 algo-1:37 INFO hook.py:584] name:distilbert.transformer.layer.2.ffn.lin2.bias count_params:768\u001b[0m\n",
      "\u001b[34m[2021-05-31 07:59:30.449 algo-1:37 INFO hook.py:584] name:distilbert.transformer.layer.2.output_layer_norm.weight count_params:768\u001b[0m\n",
      "\u001b[34m[2021-05-31 07:59:30.449 algo-1:37 INFO hook.py:584] name:distilbert.transformer.layer.2.output_layer_norm.bias count_params:768\u001b[0m\n",
      "\u001b[34m[2021-05-31 07:59:30.450 algo-1:37 INFO hook.py:584] name:distilbert.transformer.layer.3.attention.q_lin.weight count_params:589824\u001b[0m\n",
      "\u001b[34m[2021-05-31 07:59:30.450 algo-1:37 INFO hook.py:584] name:distilbert.transformer.layer.3.attention.q_lin.bias count_params:768\u001b[0m\n",
      "\u001b[34m[2021-05-31 07:59:30.450 algo-1:37 INFO hook.py:584] name:distilbert.transformer.layer.3.attention.k_lin.weight count_params:589824\u001b[0m\n",
      "\u001b[34m[2021-05-31 07:59:30.450 algo-1:37 INFO hook.py:584] name:distilbert.transformer.layer.3.attention.k_lin.bias count_params:768\u001b[0m\n",
      "\u001b[34m[2021-05-31 07:59:30.450 algo-1:37 INFO hook.py:584] name:distilbert.transformer.layer.3.attention.v_lin.weight count_params:589824\u001b[0m\n",
      "\u001b[34m[2021-05-31 07:59:30.450 algo-1:37 INFO hook.py:584] name:distilbert.transformer.layer.3.attention.v_lin.bias count_params:768\u001b[0m\n",
      "\u001b[34m[2021-05-31 07:59:30.450 algo-1:37 INFO hook.py:584] name:distilbert.transformer.layer.3.attention.out_lin.weight count_params:589824\u001b[0m\n",
      "\u001b[34m[2021-05-31 07:59:30.450 algo-1:37 INFO hook.py:584] name:distilbert.transformer.layer.3.attention.out_lin.bias count_params:768\u001b[0m\n",
      "\u001b[34m[2021-05-31 07:59:30.450 algo-1:37 INFO hook.py:584] name:distilbert.transformer.layer.3.sa_layer_norm.weight count_params:768\u001b[0m\n",
      "\u001b[34m[2021-05-31 07:59:30.451 algo-1:37 INFO hook.py:584] name:distilbert.transformer.layer.3.sa_layer_norm.bias count_params:768\u001b[0m\n",
      "\u001b[34m[2021-05-31 07:59:30.451 algo-1:37 INFO hook.py:584] name:distilbert.transformer.layer.3.ffn.lin1.weight count_params:2359296\u001b[0m\n",
      "\u001b[34m[2021-05-31 07:59:30.451 algo-1:37 INFO hook.py:584] name:distilbert.transformer.layer.3.ffn.lin1.bias count_params:3072\u001b[0m\n",
      "\u001b[34m[2021-05-31 07:59:30.451 algo-1:37 INFO hook.py:584] name:distilbert.transformer.layer.3.ffn.lin2.weight count_params:2359296\u001b[0m\n",
      "\u001b[34m[2021-05-31 07:59:30.451 algo-1:37 INFO hook.py:584] name:distilbert.transformer.layer.3.ffn.lin2.bias count_params:768\u001b[0m\n",
      "\u001b[34m[2021-05-31 07:59:30.451 algo-1:37 INFO hook.py:584] name:distilbert.transformer.layer.3.output_layer_norm.weight count_params:768\u001b[0m\n",
      "\u001b[34m[2021-05-31 07:59:30.452 algo-1:37 INFO hook.py:584] name:distilbert.transformer.layer.3.output_layer_norm.bias count_params:768\u001b[0m\n",
      "\u001b[34m[2021-05-31 07:59:30.452 algo-1:37 INFO hook.py:584] name:distilbert.transformer.layer.4.attention.q_lin.weight count_params:589824\u001b[0m\n",
      "\u001b[34m[2021-05-31 07:59:30.452 algo-1:37 INFO hook.py:584] name:distilbert.transformer.layer.4.attention.q_lin.bias count_params:768\u001b[0m\n",
      "\u001b[34m[2021-05-31 07:59:30.452 algo-1:37 INFO hook.py:584] name:distilbert.transformer.layer.4.attention.k_lin.weight count_params:589824\u001b[0m\n",
      "\u001b[34m[2021-05-31 07:59:30.452 algo-1:37 INFO hook.py:584] name:distilbert.transformer.layer.4.attention.k_lin.bias count_params:768\u001b[0m\n",
      "\u001b[34m[2021-05-31 07:59:30.452 algo-1:37 INFO hook.py:584] name:distilbert.transformer.layer.4.attention.v_lin.weight count_params:589824\u001b[0m\n",
      "\u001b[34m[2021-05-31 07:59:30.452 algo-1:37 INFO hook.py:584] name:distilbert.transformer.layer.4.attention.v_lin.bias count_params:768\u001b[0m\n",
      "\u001b[34m[2021-05-31 07:59:30.452 algo-1:37 INFO hook.py:584] name:distilbert.transformer.layer.4.attention.out_lin.weight count_params:589824\u001b[0m\n",
      "\u001b[34m[2021-05-31 07:59:30.452 algo-1:37 INFO hook.py:584] name:distilbert.transformer.layer.4.attention.out_lin.bias count_params:768\u001b[0m\n",
      "\u001b[34m[2021-05-31 07:59:30.453 algo-1:37 INFO hook.py:584] name:distilbert.transformer.layer.4.sa_layer_norm.weight count_params:768\u001b[0m\n",
      "\u001b[34m[2021-05-31 07:59:30.453 algo-1:37 INFO hook.py:584] name:distilbert.transformer.layer.4.sa_layer_norm.bias count_params:768\u001b[0m\n",
      "\u001b[34m[2021-05-31 07:59:30.453 algo-1:37 INFO hook.py:584] name:distilbert.transformer.layer.4.ffn.lin1.weight count_params:2359296\u001b[0m\n",
      "\u001b[34m[2021-05-31 07:59:30.453 algo-1:37 INFO hook.py:584] name:distilbert.transformer.layer.4.ffn.lin1.bias count_params:3072\u001b[0m\n",
      "\u001b[34m[2021-05-31 07:59:30.453 algo-1:37 INFO hook.py:584] name:distilbert.transformer.layer.4.ffn.lin2.weight count_params:2359296\u001b[0m\n",
      "\u001b[34m[2021-05-31 07:59:30.453 algo-1:37 INFO hook.py:584] name:distilbert.transformer.layer.4.ffn.lin2.bias count_params:768\u001b[0m\n",
      "\u001b[34m[2021-05-31 07:59:30.453 algo-1:37 INFO hook.py:584] name:distilbert.transformer.layer.4.output_layer_norm.weight count_params:768\u001b[0m\n",
      "\u001b[34m[2021-05-31 07:59:30.453 algo-1:37 INFO hook.py:584] name:distilbert.transformer.layer.4.output_layer_norm.bias count_params:768\u001b[0m\n",
      "\u001b[34m[2021-05-31 07:59:30.453 algo-1:37 INFO hook.py:584] name:distilbert.transformer.layer.5.attention.q_lin.weight count_params:589824\u001b[0m\n",
      "\u001b[34m[2021-05-31 07:59:30.454 algo-1:37 INFO hook.py:584] name:distilbert.transformer.layer.5.attention.q_lin.bias count_params:768\u001b[0m\n",
      "\u001b[34m[2021-05-31 07:59:30.454 algo-1:37 INFO hook.py:584] name:distilbert.transformer.layer.5.attention.k_lin.weight count_params:589824\u001b[0m\n",
      "\u001b[34m[2021-05-31 07:59:30.454 algo-1:37 INFO hook.py:584] name:distilbert.transformer.layer.5.attention.k_lin.bias count_params:768\u001b[0m\n",
      "\u001b[34m[2021-05-31 07:59:30.454 algo-1:37 INFO hook.py:584] name:distilbert.transformer.layer.5.attention.v_lin.weight count_params:589824\u001b[0m\n",
      "\u001b[34m[2021-05-31 07:59:30.454 algo-1:37 INFO hook.py:584] name:distilbert.transformer.layer.5.attention.v_lin.bias count_params:768\u001b[0m\n",
      "\u001b[34m[2021-05-31 07:59:30.454 algo-1:37 INFO hook.py:584] name:distilbert.transformer.layer.5.attention.out_lin.weight count_params:589824\u001b[0m\n",
      "\u001b[34m[2021-05-31 07:59:30.454 algo-1:37 INFO hook.py:584] name:distilbert.transformer.layer.5.attention.out_lin.bias count_params:768\u001b[0m\n",
      "\u001b[34m[2021-05-31 07:59:30.454 algo-1:37 INFO hook.py:584] name:distilbert.transformer.layer.5.sa_layer_norm.weight count_params:768\u001b[0m\n",
      "\u001b[34m[2021-05-31 07:59:30.455 algo-1:37 INFO hook.py:584] name:distilbert.transformer.layer.5.sa_layer_norm.bias count_params:768\u001b[0m\n",
      "\u001b[34m[2021-05-31 07:59:30.455 algo-1:37 INFO hook.py:584] name:distilbert.transformer.layer.5.ffn.lin1.weight count_params:2359296\u001b[0m\n",
      "\u001b[34m[2021-05-31 07:59:30.455 algo-1:37 INFO hook.py:584] name:distilbert.transformer.layer.5.ffn.lin1.bias count_params:3072\u001b[0m\n",
      "\u001b[34m[2021-05-31 07:59:30.455 algo-1:37 INFO hook.py:584] name:distilbert.transformer.layer.5.ffn.lin2.weight count_params:2359296\u001b[0m\n",
      "\u001b[34m[2021-05-31 07:59:30.455 algo-1:37 INFO hook.py:584] name:distilbert.transformer.layer.5.ffn.lin2.bias count_params:768\u001b[0m\n",
      "\u001b[34m[2021-05-31 07:59:30.455 algo-1:37 INFO hook.py:584] name:distilbert.transformer.layer.5.output_layer_norm.weight count_params:768\u001b[0m\n",
      "\u001b[34m[2021-05-31 07:59:30.455 algo-1:37 INFO hook.py:584] name:distilbert.transformer.layer.5.output_layer_norm.bias count_params:768\u001b[0m\n",
      "\u001b[34m[2021-05-31 07:59:30.455 algo-1:37 INFO hook.py:584] name:pre_classifier.weight count_params:589824\u001b[0m\n",
      "\u001b[34m[2021-05-31 07:59:30.455 algo-1:37 INFO hook.py:584] name:pre_classifier.bias count_params:768\u001b[0m\n",
      "\u001b[34m[2021-05-31 07:59:30.456 algo-1:37 INFO hook.py:584] name:classifier.weight count_params:1536\u001b[0m\n",
      "\u001b[34m[2021-05-31 07:59:30.456 algo-1:37 INFO hook.py:584] name:classifier.bias count_params:2\u001b[0m\n",
      "\u001b[34m[2021-05-31 07:59:30.456 algo-1:37 INFO hook.py:586] Total Trainable Params: 66955010\u001b[0m\n",
      "\u001b[34m[2021-05-31 07:59:30.456 algo-1:37 INFO hook.py:413] Monitoring the collections: losses\u001b[0m\n",
      "\u001b[34m[2021-05-31 07:59:30.459 algo-1:37 INFO hook.py:476] Hook is writing from the hook with pid: 37\n",
      "\u001b[0m\n",
      "\u001b[34m{'loss': 0.6795, 'learning_rate': 1.0000000000000001e-07, 'epoch': 0.03}\u001b[0m\n",
      "\u001b[34m{'loss': 0.6961, 'learning_rate': 2.0000000000000002e-07, 'epoch': 0.06}\u001b[0m\n",
      "\u001b[34m{'loss': 0.7121, 'learning_rate': 3.0000000000000004e-07, 'epoch': 0.09}\u001b[0m\n",
      "\u001b[34m{'loss': 0.6921, 'learning_rate': 4.0000000000000003e-07, 'epoch': 0.12}\u001b[0m\n",
      "\u001b[34m{'loss': 0.7125, 'learning_rate': 5.000000000000001e-07, 'epoch': 0.16}\u001b[0m\n",
      "\u001b[34m{'loss': 0.7214, 'learning_rate': 6.000000000000001e-07, 'epoch': 0.19}\u001b[0m\n",
      "\u001b[34m{'loss': 0.7091, 'learning_rate': 7.000000000000001e-07, 'epoch': 0.22}\u001b[0m\n",
      "\u001b[34m{'loss': 0.6889, 'learning_rate': 8.000000000000001e-07, 'epoch': 0.25}\u001b[0m\n",
      "\u001b[34m{'loss': 0.7182, 'learning_rate': 9e-07, 'epoch': 0.28}\u001b[0m\n",
      "\u001b[34m{'loss': 0.6984, 'learning_rate': 1.0000000000000002e-06, 'epoch': 0.31}\u001b[0m\n",
      "\u001b[34m{'loss': 0.7027, 'learning_rate': 1.1e-06, 'epoch': 0.34}\u001b[0m\n",
      "\u001b[34m{'loss': 0.7251, 'learning_rate': 1.2000000000000002e-06, 'epoch': 0.38}\u001b[0m\n",
      "\u001b[34m{'loss': 0.6983, 'learning_rate': 1.3e-06, 'epoch': 0.41}\u001b[0m\n",
      "\u001b[34m{'loss': 0.7029, 'learning_rate': 1.4000000000000001e-06, 'epoch': 0.44}\u001b[0m\n",
      "\u001b[34m{'loss': 0.7231, 'learning_rate': 1.5e-06, 'epoch': 0.47}\u001b[0m\n",
      "\u001b[34m{'loss': 0.6858, 'learning_rate': 1.6000000000000001e-06, 'epoch': 0.5}\u001b[0m\n",
      "\u001b[34m{'loss': 0.7071, 'learning_rate': 1.7000000000000002e-06, 'epoch': 0.53}\u001b[0m\n",
      "\u001b[34m{'loss': 0.6863, 'learning_rate': 1.8e-06, 'epoch': 0.56}\u001b[0m\n",
      "\u001b[34m{'loss': 0.6923, 'learning_rate': 1.9e-06, 'epoch': 0.59}\u001b[0m\n",
      "\u001b[34m{'loss': 0.6804, 'learning_rate': 2.0000000000000003e-06, 'epoch': 0.62}\u001b[0m\n",
      "\u001b[34m{'loss': 0.6847, 'learning_rate': 2.1000000000000002e-06, 'epoch': 0.66}\u001b[0m\n",
      "\u001b[34m{'loss': 0.6981, 'learning_rate': 2.2e-06, 'epoch': 0.69}\u001b[0m\n",
      "\u001b[34m{'loss': 0.6932, 'learning_rate': 2.3e-06, 'epoch': 0.72}\u001b[0m\n",
      "\u001b[34m{'loss': 0.6919, 'learning_rate': 2.4000000000000003e-06, 'epoch': 0.75}\u001b[0m\n"
     ]
    },
    {
     "name": "stdout",
     "output_type": "stream",
     "text": [
      "\u001b[34m{'loss': 0.6801, 'learning_rate': 2.5e-06, 'epoch': 0.78}\u001b[0m\n",
      "\u001b[34m{'loss': 0.7009, 'learning_rate': 2.6e-06, 'epoch': 0.81}\u001b[0m\n",
      "\u001b[34m{'loss': 0.6959, 'learning_rate': 2.7e-06, 'epoch': 0.84}\u001b[0m\n",
      "\u001b[34m{'loss': 0.6941, 'learning_rate': 2.8000000000000003e-06, 'epoch': 0.88}\u001b[0m\n",
      "\u001b[34m{'loss': 0.7043, 'learning_rate': 2.9e-06, 'epoch': 0.91}\u001b[0m\n",
      "\u001b[34m{'loss': 0.695, 'learning_rate': 3e-06, 'epoch': 0.94}\u001b[0m\n",
      "\u001b[34m{'loss': 0.6843, 'learning_rate': 3.1e-06, 'epoch': 0.97}\u001b[0m\n",
      "\u001b[34m{'loss': 0.6808, 'learning_rate': 3.2000000000000003e-06, 'epoch': 1.0}\u001b[0m\n",
      "\u001b[34m{'eval_loss': 0.6882852911949158, 'eval_accuracy': 0.561, 'eval_f1': 0.5990867579908675, 'eval_precision': 0.5273311897106109, 'eval_recall': 0.693446088794926, 'eval_stupid_metric': 1.0, 'eval_runtime': 4.6093, 'eval_samples_per_second': 216.952, 'epoch': 1.0}\u001b[0m\n",
      "\u001b[34m{'train_runtime': 22.6518, 'train_samples_per_second': 1.413, 'epoch': 1.0}\u001b[0m\n",
      "\u001b[34m***** Eval results *****\u001b[0m\n",
      "\u001b[34m#015Downloading:   0%|          | 0.00/442 [00:00<?, ?B/s]#015Downloading: 100%|██████████| 442/442 [00:00<00:00, 633kB/s]\u001b[0m\n",
      "\u001b[34m#015Downloading:   0%|          | 0.00/232k [00:00<?, ?B/s]#015Downloading: 100%|██████████| 232k/232k [00:00<00:00, 40.9MB/s]\u001b[0m\n",
      "\u001b[34m#015Downloading:   0%|          | 0.00/466k [00:00<?, ?B/s]#015Downloading: 100%|██████████| 466k/466k [00:00<00:00, 42.3MB/s]\u001b[0m\n",
      "\u001b[34m#015Downloading:   0%|          | 0.00/28.0 [00:00<?, ?B/s]#015Downloading: 100%|██████████| 28.0/28.0 [00:00<00:00, 40.0kB/s]\u001b[0m\n",
      "\u001b[34m#015Downloading:   0%|          | 0.00/268M [00:00<?, ?B/s]#015Downloading:   2%|▏         | 4.39M/268M [00:00<00:06, 43.9MB/s]#015Downloading:   3%|▎         | 8.89M/268M [00:00<00:05, 44.2MB/s]#015Downloading:   5%|▌         | 13.4M/268M [00:00<00:05, 44.6MB/s]#015Downloading:   7%|▋         | 18.1M/268M [00:00<00:05, 45.2MB/s]#015Downloading:   9%|▊         | 22.8M/268M [00:00<00:05, 45.7MB/s]#015Downloading:  10%|█         | 27.6M/268M [00:00<00:05, 46.3MB/s]#015Downloading:  12%|█▏        | 32.7M/268M [00:00<00:04, 47.6MB/s]#015Downloading:  14%|█▍        | 37.4M/268M [00:00<00:04, 47.4MB/s]#015Downloading:  16%|█▌        | 42.7M/268M [00:00<00:04, 49.1MB/s]#015Downloading:  18%|█▊        | 48.1M/268M [00:01<00:04, 50.5MB/s]#015Downloading:  20%|█▉        | 53.6M/268M [00:01<00:04, 51.6MB/s]#015Downloading:  22%|██▏       | 59.0M/268M [00:01<00:03, 52.4MB/s]#015Downloading:  24%|██▍       | 64.5M/268M [00:01<00:03, 53.0MB/s]#015Downloading:  26%|██▌       | 69.9M/268M [00:01<00:03, 53.5MB/s]#015Downloading:  28%|██▊       | 75.4M/268M [00:01<00:03, 53.9MB/s]#015Downloading:  30%|███       | 80.9M/268M [00:01<00:03, 54.1MB/s]#015Downloading:  32%|███▏      | 86.3M/268M [00:01<00:03, 53.6MB/s]#015Downloading:  34%|███▍      | 91.8M/268M [00:01<00:03, 53.9MB/s]#015Downloading:  36%|███▋      | 97.2M/268M [00:01<00:03, 54.0MB/s]#015Downloading:  38%|███▊      | 103M/268M [00:02<00:03, 54.1MB/s] #015Downloading:  40%|████      | 108M/268M [00:02<00:02, 54.2MB/s]#015Downloading:  42%|████▏     | 113M/268M [00:02<00:02, 53.6MB/s]#015Downloading:  44%|████▍     | 119M/268M [00:02<00:02, 53.8MB/s]#015Downloading:  46%|████▋     | 124M/268M [00:02<00:02, 54.1MB/s]#015Downloading:  48%|████▊     | 130M/268M [00:02<00:02, 54.2MB/s]#015Downloading:  50%|█████     | 135M/268M [00:02<00:02, 54.2MB/s]#015Downloading:  53%|█████▎    | 141M/268M [00:02<00:02, 53.9MB/s]#015Downloading:  55%|█████▍    | 146M/268M [00:02<00:02, 54.0MB/s]#015Downloading:  57%|█████▋    | 152M/268M [00:02<00:02, 54.3MB/s]#015Downloading:  59%|█████▊    | 157M/268M [00:03<00:02, 54.4MB/s]#015Downloading:  61%|██████    | 163M/268M [00:03<00:01, 54.5MB/s]#015Downloading:  63%|██████▎   | 168M/268M [00:03<00:01, 54.5MB/s]#015Downloading:  65%|██████▍   | 173M/268M [00:03<00:01, 54.6MB/s]#015Downloading:  67%|██████▋   | 179M/268M [00:03<00:01, 54.7MB/s]#015Downloading:  69%|██████▉   | 184M/268M [00:03<00:01, 54.6MB/s]#015Downloading:  71%|███████   | 190M/268M [00:03<00:01, 54.6MB/s]#015Downloading:  73%|███████▎  | 195M/268M [00:03<00:01, 53.9MB/s]#015Downloading:  75%|███████▍  | 201M/268M [00:03<00:01, 53.9MB/s]#015Downloading:  77%|███████▋  | 206M/268M [00:03<00:01, 54.1MB/s]#015Downloading:  79%|███████▉  | 212M/268M [00:04<00:01, 54.3MB/s]#015Downloading:  81%|████████  | 217M/268M [00:04<00:00, 54.3MB/s]#015Downloading:  83%|████████▎ | 223M/268M [00:04<00:00, 54.6MB/s]#015Downloading:  85%|████████▌ | 228M/268M [00:04<00:00, 54.7MB/s]#015Downloading:  87%|████████▋ | 234M/268M [00:04<00:00, 54.6MB/s]#015Downloading:  89%|████████▉ | 239M/268M [00:04<00:00, 54.4MB/s]#015Downloading:  91%|█████████▏| 245M/268M [00:04<00:00, 54.5MB/s]#015Downloading:  93%|█████████▎| 250M/268M [00:04<00:00, 54.5MB/s]#015Downloading:  95%|█████████▌| 255M/268M [00:04<00:00, 54.2MB/s]#015Downloading:  97%|█████████▋| 261M/268M [00:04<00:00, 54.3MB/s]#015Downloading:  99%|█████████▉| 266M/268M [00:05<00:00, 54.5MB/s]#015Downloading: 100%|██████████| 268M/268M [00:05<00:00, 53.1MB/s]\u001b[0m\n",
      "\u001b[34mSome weights of the model checkpoint at distilbert-base-uncased were not used when initializing DistilBertForSequenceClassification: ['vocab_transform.weight', 'vocab_layer_norm.bias', 'vocab_projector.weight', 'vocab_projector.bias', 'vocab_layer_norm.weight', 'vocab_transform.bias']\u001b[0m\n",
      "\u001b[34m- This IS expected if you are initializing DistilBertForSequenceClassification from the checkpoint of a model trained on another task or with another architecture (e.g. initializing a BertForSequenceClassification model from a BertForPreTraining model).\u001b[0m\n",
      "\u001b[34m- This IS NOT expected if you are initializing DistilBertForSequenceClassification from the checkpoint of a model that you expect to be exactly identical (initializing a BertForSequenceClassification model from a BertForSequenceClassification model).\u001b[0m\n",
      "\u001b[34mSome weights of DistilBertForSequenceClassification were not initialized from the model checkpoint at distilbert-base-uncased and are newly initialized: ['classifier.weight', 'pre_classifier.weight', 'pre_classifier.bias', 'classifier.bias']\u001b[0m\n",
      "\u001b[34mYou should probably TRAIN this model on a down-stream task to be able to use it for predictions and inference.\u001b[0m\n",
      "\u001b[34m#015  0%|          | 0/32 [00:00<?, ?it/s]#015  3%|▎         | 1/32 [00:02<01:11,  2.30s/it]#015                                              #015#015  3%|▎         | 1/32 [00:02<01:11,  2.30s/it]#015  6%|▋         | 2/32 [00:02<00:53,  1.77s/it]#015                                              #015#015  6%|▋         | 2/32 [00:02<00:53,  1.77s/it]#015  9%|▉         | 3/32 [00:03<00:40,  1.39s/it]#015                                              #015#015  9%|▉         | 3/32 [00:03<00:40,  1.39s/it]#015 12%|█▎        | 4/32 [00:03<00:31,  1.13s/it]#015                                              #015#015 12%|█▎        | 4/32 [00:03<00:31,  1.13s/it]#015 16%|█▌        | 5/32 [00:04<00:25,  1.05it/s]#015                                              #015#015 16%|█▌        | 5/32 [00:04<00:25,  1.05it/s]#015 19%|█▉        | 6/32 [00:04<00:21,  1.22it/s]#015                                              #015#015 19%|█▉        | 6/32 [00:04<00:21,  1.22it/s]#015 22%|██▏       | 7/32 [00:05<00:18,  1.37it/s]#015                                              #015#015 22%|██▏       | 7/32 [00:05<00:18,  1.37it/s]#015 25%|██▌       | 8/32 [00:05<00:16,  1.50it/s]#015                                              #015#015 25%|██▌       | 8/32 [00:05<00:16,  1.50it/s]#015 28%|██▊       | 9/32 [00:06<00:14,  1.60it/s]#015                                              #015#015 28%|██▊       | 9/32 [00:06<00:14,  1.60it/s]#015 31%|███▏      | 10/32 [00:06<00:13,  1.69it/s]#015                                               #015#015 31%|███▏      | 10/32 [00:06<00:13,  1.69it/s]#015 34%|███▍      | 11/32 [00:07<00:11,  1.76it/s]#015                                               #015#015 34%|███▍      | 11/32 [00:07<00:11,  1.76it/s]#015 38%|███▊      | 12/32 [00:08<00:11,  1.81it/s]#015                                               #015#015 38%|███▊      | 12/32 [00:08<00:11,  1.81it/s]#015 41%|████      | 13/32 [00:08<00:10,  1.85it/s]#015                                               #015#015 41%|████      | 13/32 [00:08<00:10,  1.85it/s]#015 44%|████▍     | 14/32 [00:09<00:09,  1.88it/s]#015                                               #015#015 44%|████▍     | 14/32 [00:09<00:09,  1.88it/s]#015 47%|████▋     | 15/32 [00:09<00:08,  1.89it/s]#015                                               #015#015 47%|████▋     | 15/32 [00:09<00:08,  1.89it/s]#015 50%|█████     | 16/32 [00:10<00:08,  1.91it/s]#015                                               #015#015 50%|█████     | 16/32 [00:10<00:08,  1.91it/s]#015 53%|█████▎    | 17/32 [00:10<00:07,  1.92it/s]#015                                               #015#015 53%|█████▎    | 17/32 [00:10<00:07,  1.92it/s]#015 56%|█████▋    | 18/32 [00:11<00:07,  1.92it/s]#015                                               #015#015 56%|█████▋    | 18/32 [00:11<00:07,  1.92it/s]#015 59%|█████▉    | 19/32 [00:11<00:06,  1.91it/s]#015                                               #015#015 59%|█████▉    | 19/32 [00:11<00:06,  1.91it/s]#015 62%|██████▎   | 20/32 [00:12<00:06,  1.92it/s]#015                                               #015#015 62%|██████▎   | 20/32 [00:12<00:06,  1.92it/s]#015 66%|██████▌   | 21/32 [00:12<00:05,  1.93it/s]#015                                               #015#015 66%|██████▌   | 21/32 [00:12<00:05,  1.93it/s]#015 69%|██████▉   | 22/32 [00:13<00:05,  1.93it/s]#015                                               #015#015 69%|██████▉   | 22/32 [00:13<00:05,  1.93it/s]#015 72%|███████▏  | 23/32 [00:13<00:04,  1.94it/s]#015                                               #015#015 72%|███████▏  | 23/32 [00:13<00:04,  1.94it/s]#015 75%|███████▌  | 24/32 [00:14<00:04,  1.94it/s]#015                                               #015#015 75%|███████▌  | 24/32 [00:14<00:04,  1.94it/s]#015 78%|███████▊  | 25/32 [00:14<00:03,  1.95it/s]#015                                               #015#015 78%|███████▊  | 25/32 [00:14<00:03,  1.95it/s]#015 81%|████████▏ | 26/32 [00:15<00:03,  1.94it/s]#015                                               #015#015 81%|████████▏ | 26/32 [00:15<00:03,  1.94it/s]#015 84%|████████▍ | 27/32 [00:15<00:02,  1.94it/s]#015                                               #015#015 84%|████████▍ | 27/32 [00:15<00:02,  1.94it/s]#015 88%|████████▊ | 28/32 [00:16<00:02,  1.94it/s]#015                                               #015#015 88%|████████▊ | 28/32 [00:16<00:02,  1.94it/s]#015 91%|█████████ | 29/32 [00:16<00:01,  1.94it/s]#015                                               #015#015 91%|█████████ | 29/32 [00:16<00:01,  1.94it/s]#015 94%|█████████▍| 30/32 [00:17<00:01,  1.93it/s]#015                                               #015#015 94%|█████████▍| 30/32 [00:17<00:01,  1.93it/s]#015 97%|█████████▋| 31/32 [00:17<00:00,  1.94it/s]#015                                               #015#015 97%|█████████▋| 31/32 [00:17<00:00,  1.94it/s]#015100%|██████████| 32/32 [00:18<00:00,  2.38it/s]#015                                               #015#015100%|██████████| 32/32 [00:18<00:00,  2.38it/s]\u001b[0m\n",
      "\u001b[34m#015  0%|          | 0/16 [00:00<?, ?it/s]#033[A\u001b[0m\n",
      "\u001b[34m#015 12%|█▎        | 2/16 [00:00<00:01,  7.05it/s]#033[A\u001b[0m\n",
      "\u001b[34m#015 19%|█▉        | 3/16 [00:00<00:02,  5.42it/s]#033[A\u001b[0m\n",
      "\u001b[34m#015 25%|██▌       | 4/16 [00:00<00:02,  4.66it/s]#033[A\u001b[0m\n",
      "\u001b[34m#015 31%|███▏      | 5/16 [00:01<00:02,  4.25it/s]#033[A\u001b[0m\n",
      "\u001b[34m#015 38%|███▊      | 6/16 [00:01<00:02,  4.00it/s]#033[A\u001b[0m\n",
      "\u001b[34m#015 44%|████▍     | 7/16 [00:01<00:02,  3.84it/s]#033[A\u001b[0m\n",
      "\u001b[34m#015 50%|█████     | 8/16 [00:01<00:02,  3.74it/s]#033[A\u001b[0m\n",
      "\u001b[34m#015 56%|█████▋    | 9/16 [00:02<00:01,  3.67it/s]#033[A\u001b[0m\n",
      "\u001b[34m#015 62%|██████▎   | 10/16 [00:02<00:01,  3.63it/s]#033[A\u001b[0m\n",
      "\u001b[34m#015 69%|██████▉   | 11/16 [00:02<00:01,  3.60it/s]#033[A\u001b[0m\n",
      "\u001b[34m#015 75%|███████▌  | 12/16 [00:03<00:01,  3.57it/s]#033[A\u001b[0m\n",
      "\u001b[34m#015 81%|████████▏ | 13/16 [00:03<00:00,  3.56it/s]#033[A\u001b[0m\n",
      "\u001b[34m#015 88%|████████▊ | 14/16 [00:03<00:00,  3.55it/s]#033[A\u001b[0m\n",
      "\u001b[34m#015 94%|█████████▍| 15/16 [00:03<00:00,  3.54it/s]#033[A\u001b[0m\n",
      "\u001b[34m#015100%|██████████| 16/16 [00:04<00:00,  3.98it/s]#033[A#015                                               #015\u001b[0m\n",
      "\u001b[34m#015                                               #015#033[A#015100%|██████████| 32/32 [00:22<00:00,  2.38it/s]\u001b[0m\n",
      "\u001b[34m#015100%|██████████| 16/16 [00:04<00:00,  3.98it/s]#033[A\u001b[0m\n",
      "\u001b[34m#015                                               #033[A#015                                               #015#015100%|██████████| 32/32 [00:22<00:00,  2.38it/s]#015100%|██████████| 32/32 [00:22<00:00,  1.41it/s]\u001b[0m\n",
      "\u001b[34m#015  0%|          | 0/16 [00:00<?, ?it/s]#015 12%|█▎        | 2/16 [00:00<00:01,  7.06it/s]#015 19%|█▉        | 3/16 [00:00<00:02,  5.43it/s]#015 25%|██▌       | 4/16 [00:00<00:02,  4.67it/s]#015 31%|███▏      | 5/16 [00:01<00:02,  4.26it/s]#015 38%|███▊      | 6/16 [00:01<00:02,  4.01it/s]#015 44%|████▍     | 7/16 [00:01<00:02,  3.85it/s]#015 50%|█████     | 8/16 [00:01<00:02,  3.74it/s]#015 56%|█████▋    | 9/16 [00:02<00:01,  3.68it/s]#015 62%|██████▎   | 10/16 [00:02<00:01,  3.63it/s]#015 69%|██████▉   | 11/16 [00:02<00:01,  3.60it/s]#015 75%|███████▌  | 12/16 [00:03<00:01,  3.58it/s]#015 81%|████████▏ | 13/16 [00:03<00:00,  3.56it/s]#015 88%|████████▊ | 14/16 [00:03<00:00,  3.55it/s]#015 94%|█████████▍| 15/16 [00:03<00:00,  3.54it/s]#015100%|██████████| 16/16 [00:04<00:00,  3.98it/s]#015100%|██████████| 16/16 [00:04<00:00,  3.85it/s]\u001b[0m\n",
      "\u001b[34m#015  0%|          | 0/16 [00:00<?, ?it/s]#015 12%|█▎        | 2/16 [00:00<00:01,  7.07it/s]#015 19%|█▉        | 3/16 [00:00<00:02,  5.43it/s]#015 25%|██▌       | 4/16 [00:00<00:02,  4.67it/s]#015 31%|███▏      | 5/16 [00:01<00:02,  4.26it/s]#015 38%|███▊      | 6/16 [00:01<00:02,  4.01it/s]#015 44%|████▍     | 7/16 [00:01<00:02,  3.85it/s]#015 50%|█████     | 8/16 [00:01<00:02,  3.75it/s]#015 56%|█████▋    | 9/16 [00:02<00:01,  3.68it/s]#015 62%|██████▎   | 10/16 [00:02<00:01,  3.64it/s]#015 69%|██████▉   | 11/16 [00:02<00:01,  3.60it/s]#015 75%|███████▌  | 12/16 [00:03<00:01,  3.58it/s]#015 81%|████████▏ | 13/16 [00:03<00:00,  3.56it/s]#015 88%|████████▊ | 14/16 [00:03<00:00,  3.55it/s]#015 94%|█████████▍| 15/16 [00:03<00:00,  3.52it/s]#015100%|██████████| 16/16 [00:04<00:00,  3.95it/s]#015100%|██████████| 16/16 [00:04<00:00,  3.25it/s]\n",
      "\u001b[0m\n",
      "\u001b[34m2021-05-31 08:00:03,246 sagemaker-training-toolkit INFO     Reporting training SUCCESS\u001b[0m\n"
     ]
    },
    {
     "name": "stdout",
     "output_type": "stream",
     "text": [
      "\n",
      "2021-05-31 08:00:15 Uploading - Uploading generated training model\n",
      "2021-05-31 08:00:45 Completed - Training job completed\n",
      "Training seconds: 296\n",
      "Billable seconds: 296\n"
     ]
    }
   ],
   "source": [
    "estimator.fit(fit_arguments, job_name=job_name)"
   ]
  },
  {
   "cell_type": "code",
   "execution_count": 18,
   "id": "e1d31c74",
   "metadata": {
    "ExecuteTime": {
     "end_time": "2021-05-31T08:01:11.657005Z",
     "start_time": "2021-05-31T08:01:07.273546Z"
    }
   },
   "outputs": [
    {
     "data": {
      "text/html": [
       "<div>\n",
       "<style scoped>\n",
       "    .dataframe tbody tr th:only-of-type {\n",
       "        vertical-align: middle;\n",
       "    }\n",
       "\n",
       "    .dataframe tbody tr th {\n",
       "        vertical-align: top;\n",
       "    }\n",
       "\n",
       "    .dataframe thead th {\n",
       "        text-align: right;\n",
       "    }\n",
       "</style>\n",
       "<table border=\"1\" class=\"dataframe\">\n",
       "  <thead>\n",
       "    <tr style=\"text-align: right;\">\n",
       "      <th></th>\n",
       "      <th>timestamp</th>\n",
       "      <th>metric_name</th>\n",
       "      <th>value</th>\n",
       "    </tr>\n",
       "  </thead>\n",
       "  <tbody>\n",
       "    <tr>\n",
       "      <th>0</th>\n",
       "      <td>0.0</td>\n",
       "      <td>loss</td>\n",
       "      <td>0.697225</td>\n",
       "    </tr>\n",
       "    <tr>\n",
       "      <th>1</th>\n",
       "      <td>0.0</td>\n",
       "      <td>learning_rate</td>\n",
       "      <td>3.350000</td>\n",
       "    </tr>\n",
       "    <tr>\n",
       "      <th>2</th>\n",
       "      <td>0.0</td>\n",
       "      <td>eval_loss</td>\n",
       "      <td>0.688285</td>\n",
       "    </tr>\n",
       "    <tr>\n",
       "      <th>3</th>\n",
       "      <td>0.0</td>\n",
       "      <td>eval_accuracy</td>\n",
       "      <td>0.561000</td>\n",
       "    </tr>\n",
       "    <tr>\n",
       "      <th>4</th>\n",
       "      <td>0.0</td>\n",
       "      <td>eval_f1</td>\n",
       "      <td>0.599087</td>\n",
       "    </tr>\n",
       "    <tr>\n",
       "      <th>5</th>\n",
       "      <td>0.0</td>\n",
       "      <td>eval_precision</td>\n",
       "      <td>0.527331</td>\n",
       "    </tr>\n",
       "    <tr>\n",
       "      <th>6</th>\n",
       "      <td>0.0</td>\n",
       "      <td>eval_recall</td>\n",
       "      <td>0.693446</td>\n",
       "    </tr>\n",
       "    <tr>\n",
       "      <th>7</th>\n",
       "      <td>0.0</td>\n",
       "      <td>eval_stupid_metric</td>\n",
       "      <td>1.000000</td>\n",
       "    </tr>\n",
       "    <tr>\n",
       "      <th>8</th>\n",
       "      <td>0.0</td>\n",
       "      <td>eval_runtime</td>\n",
       "      <td>4.609300</td>\n",
       "    </tr>\n",
       "    <tr>\n",
       "      <th>9</th>\n",
       "      <td>0.0</td>\n",
       "      <td>eval_samples_per_second</td>\n",
       "      <td>216.952000</td>\n",
       "    </tr>\n",
       "  </tbody>\n",
       "</table>\n",
       "</div>"
      ],
      "text/plain": [
       "   timestamp              metric_name       value\n",
       "0        0.0                     loss    0.697225\n",
       "1        0.0            learning_rate    3.350000\n",
       "2        0.0                eval_loss    0.688285\n",
       "3        0.0            eval_accuracy    0.561000\n",
       "4        0.0                  eval_f1    0.599087\n",
       "5        0.0           eval_precision    0.527331\n",
       "6        0.0              eval_recall    0.693446\n",
       "7        0.0       eval_stupid_metric    1.000000\n",
       "8        0.0             eval_runtime    4.609300\n",
       "9        0.0  eval_samples_per_second  216.952000"
      ]
     },
     "execution_count": 18,
     "metadata": {},
     "output_type": "execute_result"
    }
   ],
   "source": [
    "from sagemaker import TrainingJobAnalytics\n",
    "\n",
    "# Captured metrics can be accessed as a Pandas dataframe\n",
    "df = TrainingJobAnalytics(training_job_name=estimator.latest_training_job.name).dataframe()\n",
    "df.head(10)"
   ]
  },
  {
   "cell_type": "code",
   "execution_count": 19,
   "id": "4792761d",
   "metadata": {
    "ExecuteTime": {
     "end_time": "2021-05-31T08:01:11.683560Z",
     "start_time": "2021-05-31T08:01:11.658403Z"
    }
   },
   "outputs": [
    {
     "data": {
      "text/html": [
       "<div>\n",
       "<style scoped>\n",
       "    .dataframe tbody tr th:only-of-type {\n",
       "        vertical-align: middle;\n",
       "    }\n",
       "\n",
       "    .dataframe tbody tr th {\n",
       "        vertical-align: top;\n",
       "    }\n",
       "\n",
       "    .dataframe thead th {\n",
       "        text-align: right;\n",
       "    }\n",
       "</style>\n",
       "<table border=\"1\" class=\"dataframe\">\n",
       "  <thead>\n",
       "    <tr style=\"text-align: right;\">\n",
       "      <th></th>\n",
       "      <th>timestamp</th>\n",
       "      <th>metric_name</th>\n",
       "      <th>value</th>\n",
       "    </tr>\n",
       "  </thead>\n",
       "  <tbody>\n",
       "    <tr>\n",
       "      <th>0</th>\n",
       "      <td>0.0</td>\n",
       "      <td>loss</td>\n",
       "      <td>0.697225</td>\n",
       "    </tr>\n",
       "    <tr>\n",
       "      <th>1</th>\n",
       "      <td>0.0</td>\n",
       "      <td>learning_rate</td>\n",
       "      <td>3.350000</td>\n",
       "    </tr>\n",
       "    <tr>\n",
       "      <th>2</th>\n",
       "      <td>0.0</td>\n",
       "      <td>eval_loss</td>\n",
       "      <td>0.688285</td>\n",
       "    </tr>\n",
       "    <tr>\n",
       "      <th>3</th>\n",
       "      <td>0.0</td>\n",
       "      <td>eval_accuracy</td>\n",
       "      <td>0.561000</td>\n",
       "    </tr>\n",
       "    <tr>\n",
       "      <th>4</th>\n",
       "      <td>0.0</td>\n",
       "      <td>eval_f1</td>\n",
       "      <td>0.599087</td>\n",
       "    </tr>\n",
       "    <tr>\n",
       "      <th>5</th>\n",
       "      <td>0.0</td>\n",
       "      <td>eval_precision</td>\n",
       "      <td>0.527331</td>\n",
       "    </tr>\n",
       "    <tr>\n",
       "      <th>6</th>\n",
       "      <td>0.0</td>\n",
       "      <td>eval_recall</td>\n",
       "      <td>0.693446</td>\n",
       "    </tr>\n",
       "    <tr>\n",
       "      <th>7</th>\n",
       "      <td>0.0</td>\n",
       "      <td>eval_stupid_metric</td>\n",
       "      <td>1.000000</td>\n",
       "    </tr>\n",
       "    <tr>\n",
       "      <th>8</th>\n",
       "      <td>0.0</td>\n",
       "      <td>eval_runtime</td>\n",
       "      <td>4.609300</td>\n",
       "    </tr>\n",
       "    <tr>\n",
       "      <th>9</th>\n",
       "      <td>0.0</td>\n",
       "      <td>eval_samples_per_second</td>\n",
       "      <td>216.952000</td>\n",
       "    </tr>\n",
       "    <tr>\n",
       "      <th>10</th>\n",
       "      <td>0.0</td>\n",
       "      <td>epoch</td>\n",
       "      <td>0.700000</td>\n",
       "    </tr>\n",
       "  </tbody>\n",
       "</table>\n",
       "</div>"
      ],
      "text/plain": [
       "    timestamp              metric_name       value\n",
       "0         0.0                     loss    0.697225\n",
       "1         0.0            learning_rate    3.350000\n",
       "2         0.0                eval_loss    0.688285\n",
       "3         0.0            eval_accuracy    0.561000\n",
       "4         0.0                  eval_f1    0.599087\n",
       "5         0.0           eval_precision    0.527331\n",
       "6         0.0              eval_recall    0.693446\n",
       "7         0.0       eval_stupid_metric    1.000000\n",
       "8         0.0             eval_runtime    4.609300\n",
       "9         0.0  eval_samples_per_second  216.952000\n",
       "10        0.0                    epoch    0.700000"
      ]
     },
     "execution_count": 19,
     "metadata": {},
     "output_type": "execute_result"
    }
   ],
   "source": [
    "df"
   ]
  },
  {
   "cell_type": "code",
   "execution_count": null,
   "id": "db001ada",
   "metadata": {},
   "outputs": [],
   "source": []
  },
  {
   "cell_type": "code",
   "execution_count": null,
   "id": "f098d716",
   "metadata": {},
   "outputs": [],
   "source": []
  }
 ],
 "metadata": {
  "kernelspec": {
   "display_name": "Python 3",
   "language": "python",
   "name": "python3"
  },
  "language_info": {
   "codemirror_mode": {
    "name": "ipython",
    "version": 3
   },
   "file_extension": ".py",
   "mimetype": "text/x-python",
   "name": "python",
   "nbconvert_exporter": "python",
   "pygments_lexer": "ipython3",
   "version": "3.9.1"
  },
  "notify_time": "5",
  "toc": {
   "base_numbering": 1,
   "nav_menu": {},
   "number_sections": true,
   "sideBar": true,
   "skip_h1_title": false,
   "title_cell": "Table of Contents",
   "title_sidebar": "Contents",
   "toc_cell": false,
   "toc_position": {},
   "toc_section_display": true,
   "toc_window_display": false
  }
 },
 "nbformat": 4,
 "nbformat_minor": 5
}
