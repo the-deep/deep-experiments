{
 "cells": [
  {
   "cell_type": "markdown",
   "id": "a5079ffd",
   "metadata": {},
   "source": [
    "Using kernel `conda_pytorch_latest_p36`"
   ]
  },
  {
   "cell_type": "code",
   "execution_count": 1,
   "id": "0b889dcf",
   "metadata": {
    "ExecuteTime": {
     "end_time": "2021-06-07T09:05:40.064225Z",
     "start_time": "2021-06-07T09:05:40.057901Z"
    },
    "scrolled": true
   },
   "outputs": [],
   "source": [
    "# !pip install cloudpathlib\n",
    "# !pip install s3fs\n",
    "# !pip install transformers\\\n",
    "# !pip install pytorch-lightning"
   ]
  },
  {
   "cell_type": "markdown",
   "id": "a5148dbe",
   "metadata": {},
   "source": [
    "# Import"
   ]
  },
  {
   "cell_type": "code",
   "execution_count": 1,
   "id": "3395fb4f",
   "metadata": {
    "ExecuteTime": {
     "end_time": "2021-06-07T09:29:07.539156Z",
     "start_time": "2021-06-07T09:29:07.533855Z"
    }
   },
   "outputs": [],
   "source": [
    "import sys\n",
    "sys.path.append('../../../')"
   ]
  },
  {
   "cell_type": "code",
   "execution_count": 2,
   "id": "f5b6a45f",
   "metadata": {
    "ExecuteTime": {
     "end_time": "2021-06-07T09:29:07.754194Z",
     "start_time": "2021-06-07T09:29:07.750584Z"
    }
   },
   "outputs": [],
   "source": [
    "from pathlib import Path\n",
    "import os\n",
    "import random\n",
    "import json\n",
    "from datetime import datetime"
   ]
  },
  {
   "cell_type": "code",
   "execution_count": 3,
   "id": "7ef0e20e",
   "metadata": {
    "ExecuteTime": {
     "end_time": "2021-06-07T09:29:09.460149Z",
     "start_time": "2021-06-07T09:29:07.897088Z"
    }
   },
   "outputs": [],
   "source": [
    "import pandas as pd\n",
    "import numpy as np\n",
    "from sklearn.metrics import classification_report\n",
    "import torch\n",
    "import sagemaker\n",
    "from sagemaker import get_execution_role\n",
    "from sagemaker.pytorch import PyTorch\n",
    "import boto3\n",
    "import torch.nn as nn\n",
    "from sklearn.preprocessing import MultiLabelBinarizer\n",
    "from torch.utils.data import DataLoader,Dataset\n",
    "from tqdm import tqdm\n",
    "from langdetect import detect"
   ]
  },
  {
   "cell_type": "code",
   "execution_count": 4,
   "id": "94f0dded",
   "metadata": {
    "ExecuteTime": {
     "end_time": "2021-06-07T09:29:09.561286Z",
     "start_time": "2021-06-07T09:29:09.461260Z"
    },
    "scrolled": true
   },
   "outputs": [],
   "source": [
    "from deep.constants import *\n",
    "from deep.utils import *"
   ]
  },
  {
   "cell_type": "code",
   "execution_count": 5,
   "id": "7a68c43d",
   "metadata": {
    "ExecuteTime": {
     "end_time": "2021-06-07T09:29:09.582497Z",
     "start_time": "2021-06-07T09:29:09.562595Z"
    }
   },
   "outputs": [],
   "source": [
    "%load_ext autoreload\n",
    "%autoreload 2"
   ]
  },
  {
   "cell_type": "markdown",
   "id": "314e88fa",
   "metadata": {},
   "source": [
    "## Data"
   ]
  },
  {
   "cell_type": "code",
   "execution_count": 6,
   "id": "8f87a8d9",
   "metadata": {
    "ExecuteTime": {
     "end_time": "2021-06-07T09:29:09.600813Z",
     "start_time": "2021-06-07T09:29:09.583566Z"
    }
   },
   "outputs": [],
   "source": [
    "def preprocessing(df):\n",
    "    df = df.copy()\n",
    "    df['sectors'] = df['sectors'].apply(eval)    \n",
    "    df['pillars'] = df['pillars'].apply(eval)\n",
    "    df['pillars'] = df['pillars'].apply(lambda x: list(set(x)))\n",
    "    df['subpillars'] = df['subpillars'].apply(eval)\n",
    "    return df"
   ]
  },
  {
   "cell_type": "code",
   "execution_count": 7,
   "id": "ddd2f7f1-4e3c-4dc4-ae9d-6c4777ed9317",
   "metadata": {
    "ExecuteTime": {
     "end_time": "2021-06-07T09:29:12.479428Z",
     "start_time": "2021-06-07T09:29:10.050677Z"
    },
    "scrolled": true
   },
   "outputs": [],
   "source": [
    "train = preprocessing(pd.read_csv(LATEST_DATA_PATH / 'data_v0.4.4_train.csv'))\n",
    "val = preprocessing(pd.read_csv(LATEST_DATA_PATH / 'data_v0.4.4_val.csv'))\n",
    "test = preprocessing(pd.read_csv(LATEST_DATA_PATH / 'data_v0.4.4_test.csv'))"
   ]
  },
  {
   "cell_type": "markdown",
   "id": "0d2f48af-b398-4897-add8-4dfa30a95eb1",
   "metadata": {},
   "source": [
    "## Sagemaker Class"
   ]
  },
  {
   "cell_type": "code",
   "execution_count": 8,
   "id": "1ca3971e-608c-4372-bcc9-08766aebd624",
   "metadata": {},
   "outputs": [],
   "source": [
    "class SageMakerRun:\n",
    "    \n",
    "    def __init__(\n",
    "            self, \n",
    "            job_end_name, \n",
    "            epochs,\n",
    "            train_batch_size,\n",
    "            learning_rate,\n",
    "            text_col,\n",
    "            label_col,\n",
    "            instance_type='ml.p3.2xlarge',\n",
    "        ):\n",
    "        self.sess = sagemaker.Session(default_bucket=DEV_BUCKET.name)\n",
    "        self.role = 'AmazonSageMaker-ExecutionRole-20210519T102514'\n",
    "        self.instance_type = instance_type\n",
    "    \n",
    "        self.job_name = f\"pytorch-{formatted_time()}-{job_end_name}\"\n",
    "        self.input_path = DEV_BUCKET / 'training' / 'input_data' / self.job_name\n",
    "        \n",
    "        self.hyperparameters={\n",
    "            'epochs': epochs,\n",
    "            'train_batch_size': train_batch_size,\n",
    "            'learning_rate': learning_rate,\n",
    "            'text_col': text_col,\n",
    "            'label_col': label_col,\n",
    "        }\n",
    "        self.fit_arguments = {\n",
    "            'train': str(self.input_path),\n",
    "            'test': str(self.input_path)\n",
    "        }\n",
    "        \n",
    "    def upload_bucket(self, df):\n",
    "        s3_data = str(self.input_path / 'df.pickle')\n",
    "        df.to_pickle(s3_data, protocol=4)\n",
    "        \n",
    "    def get_estimator(self):\n",
    "        estimator = PyTorch(\n",
    "            entry_point='train.py',\n",
    "            source_dir=str(SCRIPTS_TRAINING_PATH / 'stefano/multiclass-fastai'),\n",
    "            output_path=str(DEV_BUCKET / 'models/'),\n",
    "            code_location=str(self.input_path),\n",
    "            instance_type=self.instance_type,\n",
    "            instance_count=1,\n",
    "            role=self.role,\n",
    "            framework_version='1.8',\n",
    "            py_version='py36',\n",
    "            hyperparameters = self.hyperparameters,\n",
    "            job_name=self.job_name,\n",
    "        )\n",
    "        return estimator\n",
    "        \n",
    "    def run(self, df):\n",
    "        self.upload_bucket(df)\n",
    "        estimator = self.get_estimator()\n",
    "        estimator.fit(self.fit_arguments, job_name=self.job_name, wait=False)\n"
   ]
  },
  {
   "cell_type": "markdown",
   "id": "f47cc51c-fab9-462a-b51c-d2ef868e656d",
   "metadata": {},
   "source": [
    "## Pillars classification"
   ]
  },
  {
   "cell_type": "code",
   "execution_count": 9,
   "id": "2f4b877f-a23d-40db-b430-c5277c54ca29",
   "metadata": {
    "ExecuteTime": {
     "end_time": "2021-06-07T09:29:09.791751Z",
     "start_time": "2021-06-07T09:29:09.766858Z"
    }
   },
   "outputs": [],
   "source": [
    "column = 'pillars'\n",
    "classes = PILLARS\n",
    "text_column = 'excerpt'\n",
    "label_column = 'pillars'"
   ]
  },
  {
   "cell_type": "code",
   "execution_count": 10,
   "id": "f2eaed74-5fda-4f0f-a47b-ee505f437e9f",
   "metadata": {
    "ExecuteTime": {
     "end_time": "2021-06-07T09:29:12.497775Z",
     "start_time": "2021-06-07T09:29:12.480664Z"
    }
   },
   "outputs": [],
   "source": [
    "def process_multiclass(df, train, column, classes, only_english=True):\n",
    "    relevant_train = df.copy()\n",
    "    relevant_train = relevant_train[relevant_train[column].apply(len) > 0]\n",
    "    relevant_train[label_column] = relevant_train[label_column].apply(lambda x: ';'.join(x))\n",
    "    \n",
    "    relevant_train['is_valid'] = False if train else True\n",
    "    \n",
    "    if only_english:\n",
    "        relevant_train = relevant_train[relevant_train['language'] == 'en']\n",
    "        \n",
    "    return relevant_train\n",
    "    \n",
    "    "
   ]
  },
  {
   "cell_type": "code",
   "execution_count": 11,
   "id": "b5b7deb8-24e7-46a7-969e-1977a31d626f",
   "metadata": {
    "ExecuteTime": {
     "end_time": "2021-06-07T09:32:34.551621Z",
     "start_time": "2021-06-07T09:29:12.499208Z"
    },
    "scrolled": true
   },
   "outputs": [],
   "source": [
    "train_df = process_multiclass(train, True, column=column, classes=classes, only_english=True)\n",
    "val_df = process_multiclass(val, False, column=column, classes=classes, only_english=True)\n",
    "df = pd.concat([train_df, val_df])"
   ]
  },
  {
   "cell_type": "code",
   "execution_count": 12,
   "id": "1211cbe5-f0dd-4c2b-8ca9-2b1c2a9446f1",
   "metadata": {},
   "outputs": [
    {
     "data": {
      "text/plain": [
       "(29669, 17)"
      ]
     },
     "execution_count": 12,
     "metadata": {},
     "output_type": "execute_result"
    }
   ],
   "source": [
    "df.shape"
   ]
  },
  {
   "cell_type": "code",
   "execution_count": 13,
   "id": "1fdb3b57-13f8-4b20-859e-8a08269054e2",
   "metadata": {},
   "outputs": [
    {
     "data": {
      "text/plain": [
       "(2803, 17)"
      ]
     },
     "execution_count": 13,
     "metadata": {},
     "output_type": "execute_result"
    }
   ],
   "source": [
    "val_df.shape"
   ]
  },
  {
   "cell_type": "markdown",
   "id": "9a649176-f890-4da6-8ebf-173468014b68",
   "metadata": {},
   "source": [
    "### Job"
   ]
  },
  {
   "cell_type": "code",
   "execution_count": 68,
   "id": "75b03055-1b80-4d0a-9637-04cd3670da99",
   "metadata": {},
   "outputs": [],
   "source": [
    "sagemaker_pillars = SageMakerRun(\n",
    "    job_end_name='pillars-en', \n",
    "    epochs=3,\n",
    "    train_batch_size=64,\n",
    "    learning_rate=0.02,\n",
    "    text_col=text_column,\n",
    "    label_col=label_column,\n",
    "    instance_type='ml.p3.2xlarge',\n",
    ")"
   ]
  },
  {
   "cell_type": "code",
   "execution_count": 69,
   "id": "11c21c5d-20a5-44c9-b5a1-0c40260d60f4",
   "metadata": {},
   "outputs": [],
   "source": [
    "sagemaker_pillars.run(df)"
   ]
  },
  {
   "cell_type": "markdown",
   "id": "024d1009-971c-4736-994b-58482532df2c",
   "metadata": {},
   "source": [
    "## Subpillar runs"
   ]
  },
  {
   "cell_type": "code",
   "execution_count": 164,
   "id": "4cb412af-8a39-4b82-bcbc-584d46702704",
   "metadata": {},
   "outputs": [],
   "source": [
    "subpillars_to_exclude = [\n",
    "    'Capacities & Response->Response Gaps',\n",
    "    'People At Risk->Number Of People At Risk',\n",
    "]"
   ]
  },
  {
   "cell_type": "code",
   "execution_count": 165,
   "id": "0e69a969-7112-4bc9-8080-39638142338b",
   "metadata": {},
   "outputs": [],
   "source": [
    "SUBPILLARS_FILTERED = [x for x in SUBPILLARS if x not in subpillars_to_exclude]"
   ]
  },
  {
   "cell_type": "code",
   "execution_count": 166,
   "id": "460359ef-dde8-49cf-9d59-3cd2ec2a9fdd",
   "metadata": {},
   "outputs": [],
   "source": [
    "pillar_to_subpillars = {\n",
    "    pillar: [subpillar for subpillar in SUBPILLARS_FILTERED if subpillar.startswith(pillar)]\n",
    "    for pillar in PILLARS\n",
    "}"
   ]
  },
  {
   "cell_type": "code",
   "execution_count": 167,
   "id": "dcb79d33-9797-423a-8106-e2643299fb19",
   "metadata": {
    "ExecuteTime": {
     "end_time": "2021-06-07T09:29:12.497775Z",
     "start_time": "2021-06-07T09:29:12.480664Z"
    }
   },
   "outputs": [],
   "source": [
    "def process_pillar_subpillars(df, train, subpillars, label_col='subpillars', only_english=True):\n",
    "    relevant_train = df.copy()\n",
    "    \n",
    "    if not train:\n",
    "        relevant_train = relevant_train[relevant_train[label_col].apply(len) > 0]\n",
    "        \n",
    "    relevant_train[label_col] = relevant_train[label_col].apply(\n",
    "        lambda x: [y for y in x if y in subpillars]\n",
    "    )\n",
    "    \n",
    "    if train:\n",
    "        relevant_train = relevant_train[relevant_train[label_col].apply(len) > 0]\n",
    "    relevant_train[label_col] = relevant_train[label_col].apply(lambda x: ';'.join(x))\n",
    "    \n",
    "    relevant_train['is_valid'] = False if train else True\n",
    "    \n",
    "    if only_english:\n",
    "        relevant_train = relevant_train[relevant_train['language'] == 'en']\n",
    "        \n",
    "    return relevant_train\n",
    "    \n",
    "    "
   ]
  },
  {
   "cell_type": "markdown",
   "id": "4e35d273-966d-4ff1-b4e7-8fe378230c99",
   "metadata": {},
   "source": [
    "### Hum Condition"
   ]
  },
  {
   "cell_type": "code",
   "execution_count": 168,
   "id": "6da0d158-5e00-464f-8f61-5c7dc99bed15",
   "metadata": {},
   "outputs": [],
   "source": [
    "subpillar_label_col = 'subpillars'"
   ]
  },
  {
   "cell_type": "code",
   "execution_count": 169,
   "id": "5ca288e1-2683-48c3-b73b-263bd570c701",
   "metadata": {
    "tags": []
   },
   "outputs": [],
   "source": [
    "hum_condition_train_df = process_pillar_subpillars(train, True, pillar_to_subpillars['Humanitarian Conditions'])\n",
    "hum_condition_val_df = process_pillar_subpillars(val, False, pillar_to_subpillars['Humanitarian Conditions'])\n",
    "hum_condition_df = pd.concat([hum_condition_train_df, hum_condition_val_df])"
   ]
  },
  {
   "cell_type": "code",
   "execution_count": 170,
   "id": "c2def7f8-6481-4c1e-8f2d-8315347cbc62",
   "metadata": {},
   "outputs": [],
   "source": [
    "sagemaker_hum_cond= SageMakerRun(\n",
    "    job_end_name='hum-condition-en', \n",
    "    epochs=3,\n",
    "    train_batch_size=64,\n",
    "    learning_rate=0.02,\n",
    "    text_col=text_column,\n",
    "    label_col=subpillar_label_col,\n",
    "    instance_type='ml.g4dn.xlarge',\n",
    ")"
   ]
  },
  {
   "cell_type": "code",
   "execution_count": 171,
   "id": "90469065-65ba-413e-960b-337f8358526d",
   "metadata": {},
   "outputs": [],
   "source": [
    "sagemaker_hum_cond.run(hum_condition_df)"
   ]
  },
  {
   "cell_type": "markdown",
   "id": "032e37c3-093c-46bc-a65d-62806c745b08",
   "metadata": {},
   "source": [
    "### Cap Response"
   ]
  },
  {
   "cell_type": "code",
   "execution_count": 172,
   "id": "fd2397bc-97b2-494c-a1ce-8b747d0b1611",
   "metadata": {
    "tags": []
   },
   "outputs": [],
   "source": [
    "cap_response_train_df = process_pillar_subpillars(train, True, pillar_to_subpillars['Capacities & Response'])\n",
    "cap_response_val_df = process_pillar_subpillars(val, False, pillar_to_subpillars['Capacities & Response'])\n",
    "cap_response_df = pd.concat([cap_response_train_df, cap_response_val_df])"
   ]
  },
  {
   "cell_type": "code",
   "execution_count": 173,
   "id": "c8af6502-2afd-44cb-ad87-552fe7e523b9",
   "metadata": {},
   "outputs": [],
   "source": [
    "sagemaker_cap_response = SageMakerRun(\n",
    "    job_end_name='cap-response-en', \n",
    "    epochs=3,\n",
    "    train_batch_size=64,\n",
    "    learning_rate=0.02,\n",
    "    text_col=text_column,\n",
    "    label_col=subpillar_label_col,\n",
    "    instance_type='ml.g4dn.xlarge',\n",
    ")\n",
    "sagemaker_cap_response.run(cap_response_df)"
   ]
  },
  {
   "cell_type": "markdown",
   "id": "c6875efc-47c9-4c97-aec1-de438ab497f3",
   "metadata": {},
   "source": [
    "### Impact"
   ]
  },
  {
   "cell_type": "code",
   "execution_count": 174,
   "id": "c796c5c4-f311-4958-bd12-a278d0bc72d0",
   "metadata": {
    "tags": []
   },
   "outputs": [],
   "source": [
    "impact_train_df = process_pillar_subpillars(train, True, pillar_to_subpillars['Impact'])\n",
    "impact_val_df = process_pillar_subpillars(val, False, pillar_to_subpillars['Impact'])\n",
    "impact_df = pd.concat([impact_train_df, impact_val_df])"
   ]
  },
  {
   "cell_type": "code",
   "execution_count": 175,
   "id": "d8826c1c-2c31-4d07-91ff-358532c3a37f",
   "metadata": {},
   "outputs": [],
   "source": [
    "sagemaker_impact = SageMakerRun(\n",
    "    job_end_name='impact-en', \n",
    "    epochs=3,\n",
    "    train_batch_size=64,\n",
    "    learning_rate=0.02,\n",
    "    text_col=text_column,\n",
    "    label_col=subpillar_label_col,\n",
    "    instance_type='ml.p3.2xlarge',\n",
    ")\n",
    "sagemaker_impact.run(impact_df)"
   ]
  },
  {
   "cell_type": "markdown",
   "id": "6da2e3b8-0977-4f52-a307-3641ace175e9",
   "metadata": {},
   "source": [
    "### Priority Interventions"
   ]
  },
  {
   "cell_type": "code",
   "execution_count": 176,
   "id": "c7a348cb-232a-4533-a956-c1afab6334fc",
   "metadata": {
    "tags": []
   },
   "outputs": [],
   "source": [
    "priority_int_train_df = process_pillar_subpillars(train, True, pillar_to_subpillars['Priority Interventions'])\n",
    "priority_int_val_df = process_pillar_subpillars(val, False, pillar_to_subpillars['Priority Interventions'])\n",
    "priority_int_df = pd.concat([priority_int_train_df, priority_int_val_df])"
   ]
  },
  {
   "cell_type": "code",
   "execution_count": 177,
   "id": "ff1cf52f-6a88-48b7-9108-a0662667f729",
   "metadata": {},
   "outputs": [],
   "source": [
    "sagemaker_priority_int = SageMakerRun(\n",
    "    job_end_name='priority-int-en', \n",
    "    epochs=3,\n",
    "    train_batch_size=64,\n",
    "    learning_rate=0.02,\n",
    "    text_col=text_column,\n",
    "    label_col=subpillar_label_col,\n",
    "    instance_type='ml.p3.2xlarge',\n",
    ")\n",
    "sagemaker_priority_int.run(priority_int_df)"
   ]
  },
  {
   "cell_type": "markdown",
   "id": "2f23a30b-ec30-4114-a44b-86291377bd6f",
   "metadata": {},
   "source": [
    "### People Risk"
   ]
  },
  {
   "cell_type": "code",
   "execution_count": 178,
   "id": "77b64d37-7f89-4ad6-883f-4abe05e9272f",
   "metadata": {
    "tags": []
   },
   "outputs": [],
   "source": [
    "people_risk_train_df = process_pillar_subpillars(train, True, pillar_to_subpillars['People At Risk'])\n",
    "people_risk_val_df = process_pillar_subpillars(val, False, pillar_to_subpillars['People At Risk'])\n",
    "people_risk_df = pd.concat([people_risk_train_df, people_risk_val_df])"
   ]
  },
  {
   "cell_type": "code",
   "execution_count": 179,
   "id": "08f98027-2221-45b7-9159-53c90183f1c2",
   "metadata": {},
   "outputs": [],
   "source": [
    "sagemaker_people_risk = SageMakerRun(\n",
    "    job_end_name='people-risk-en', \n",
    "    epochs=3,\n",
    "    train_batch_size=64,\n",
    "    learning_rate=0.02,\n",
    "    text_col=text_column,\n",
    "    label_col=subpillar_label_col,\n",
    "    instance_type='ml.p2.xlarge',\n",
    ")\n",
    "sagemaker_people_risk.run(people_risk_df)"
   ]
  },
  {
   "cell_type": "markdown",
   "id": "a63d3d45-6e61-49e7-8a34-a43120eb4c7f",
   "metadata": {},
   "source": [
    "### Priority Needs"
   ]
  },
  {
   "cell_type": "code",
   "execution_count": 180,
   "id": "871331aa-66dd-4b29-9b94-76bb36d31e32",
   "metadata": {
    "tags": []
   },
   "outputs": [],
   "source": [
    "priority_needs_train_df = process_pillar_subpillars(train, True, pillar_to_subpillars['Priority Needs'])\n",
    "priority_needs_val_df = process_pillar_subpillars(val, False, pillar_to_subpillars['Priority Needs'])\n",
    "priority_needs_df = pd.concat([priority_needs_train_df, priority_needs_val_df])"
   ]
  },
  {
   "cell_type": "code",
   "execution_count": 182,
   "id": "72db3f1e-e8b1-4484-a0e6-6545dc4825eb",
   "metadata": {},
   "outputs": [],
   "source": [
    "sagemaker_priority_needs = SageMakerRun(\n",
    "    job_end_name='priority-needs-en', \n",
    "    epochs=3,\n",
    "    train_batch_size=64,\n",
    "    learning_rate=0.02,\n",
    "    text_col=text_column,\n",
    "    label_col=subpillar_label_col,\n",
    "    instance_type='ml.p3.2xlarge',\n",
    ")\n",
    "sagemaker_priority_needs.run(priority_needs_df)"
   ]
  },
  {
   "cell_type": "code",
   "execution_count": 125,
   "id": "46dc04cb-362e-47ae-8639-a726ef02e015",
   "metadata": {},
   "outputs": [
    {
     "data": {
      "text/plain": [
       "['Humanitarian Conditions',\n",
       " 'Capacities & Response',\n",
       " 'Impact',\n",
       " 'Priority Interventions',\n",
       " 'People At Risk',\n",
       " 'Priority Needs']"
      ]
     },
     "execution_count": 125,
     "metadata": {},
     "output_type": "execute_result"
    }
   ],
   "source": [
    "PILLARS"
   ]
  },
  {
   "cell_type": "code",
   "execution_count": null,
   "id": "48f6bc04-be51-49e9-aaeb-240cb1a76562",
   "metadata": {},
   "outputs": [],
   "source": []
  },
  {
   "cell_type": "code",
   "execution_count": null,
   "id": "2126af12-0457-40b5-8625-5f5bcc28de6f",
   "metadata": {},
   "outputs": [],
   "source": []
  },
  {
   "cell_type": "code",
   "execution_count": null,
   "id": "7d2b0147-b55c-4a8f-b13a-919bf44e35f5",
   "metadata": {},
   "outputs": [],
   "source": []
  },
  {
   "cell_type": "code",
   "execution_count": null,
   "id": "93766b99-fa9b-41ec-83a6-42c6921628ec",
   "metadata": {},
   "outputs": [],
   "source": []
  },
  {
   "cell_type": "markdown",
   "id": "f3b35555",
   "metadata": {},
   "source": [
    "## Sagemaker Prep"
   ]
  },
  {
   "cell_type": "markdown",
   "id": "2f0d3fc6",
   "metadata": {
    "ExecuteTime": {
     "end_time": "2021-05-27T15:42:32.024647Z",
     "start_time": "2021-05-27T15:42:31.984694Z"
    }
   },
   "source": [
    "### Session"
   ]
  },
  {
   "cell_type": "code",
   "execution_count": 11,
   "id": "dc60187d",
   "metadata": {
    "ExecuteTime": {
     "end_time": "2021-06-07T09:32:34.776034Z",
     "start_time": "2021-06-07T09:32:34.553061Z"
    }
   },
   "outputs": [],
   "source": [
    "sess = sagemaker.Session(default_bucket=DEV_BUCKET.name)\n",
    "role = 'AmazonSageMaker-ExecutionRole-20210519T102514'"
   ]
  },
  {
   "cell_type": "markdown",
   "id": "8509f633",
   "metadata": {},
   "source": [
    "### Bucket upload"
   ]
  },
  {
   "cell_type": "code",
   "execution_count": 12,
   "id": "7409442e",
   "metadata": {
    "ExecuteTime": {
     "end_time": "2021-06-07T09:32:50.466259Z",
     "start_time": "2021-06-07T09:32:34.777776Z"
    },
    "scrolled": true
   },
   "outputs": [],
   "source": [
    "sample = False\n",
    "\n",
    "if sample:\n",
    "    df = df.sample(100)\n",
    "    \n",
    "job_name = f\"pytorch-{formatted_time()}-fastai-5ep-english\"\n",
    "input_path = DEV_BUCKET / 'training' / 'input_data' / job_name\n",
    "\n",
    "s3_data = str(input_path / 'df.pickle')\n",
    "\n",
    "\n",
    "df.to_pickle(s3_data, protocol=4)"
   ]
  },
  {
   "cell_type": "markdown",
   "id": "99bbaa46",
   "metadata": {},
   "source": [
    "### Estimator Definition"
   ]
  },
  {
   "cell_type": "code",
   "execution_count": 13,
   "id": "32fe809f",
   "metadata": {
    "ExecuteTime": {
     "end_time": "2021-06-07T09:32:50.490344Z",
     "start_time": "2021-06-07T09:32:50.467916Z"
    }
   },
   "outputs": [],
   "source": [
    "instances = [\n",
    "    'ml.p2.xlarge',\n",
    "    'ml.p3.2xlarge',\n",
    "    'ml.g4dn.xlarge'\n",
    "]"
   ]
  },
  {
   "cell_type": "code",
   "execution_count": 14,
   "id": "2b2decdc",
   "metadata": {
    "ExecuteTime": {
     "end_time": "2021-06-07T09:32:50.513716Z",
     "start_time": "2021-06-07T09:32:50.491307Z"
    }
   },
   "outputs": [
    {
     "data": {
      "text/plain": [
       "S3Path('s3://sagemaker-deep-experiments-dev/training/input_data/pytorch-2021-06-07-11-32-34-795-fastai-5ep-english')"
      ]
     },
     "execution_count": 14,
     "metadata": {},
     "output_type": "execute_result"
    }
   ],
   "source": [
    "input_path"
   ]
  },
  {
   "cell_type": "code",
   "execution_count": 15,
   "id": "9cdd672d",
   "metadata": {
    "ExecuteTime": {
     "end_time": "2021-06-07T09:32:50.595594Z",
     "start_time": "2021-06-07T09:32:50.515143Z"
    }
   },
   "outputs": [],
   "source": [
    "\n",
    "hyperparameters={\n",
    "    'epochs': 3,\n",
    "    'train_batch_size': 64,\n",
    "    'learning_rate': 0.02,\n",
    "    'text_col': text_column,\n",
    "    'label_col': label_column,\n",
    "}\n",
    "\n",
    "estimator = PyTorch(\n",
    "    entry_point='train.py',\n",
    "    source_dir=str(SCRIPTS_TRAINING_PATH / 'stefano/multiclass-fastai'),\n",
    "    output_path=str(DEV_BUCKET / 'models/'),\n",
    "    code_location=str(input_path),\n",
    "    instance_type='ml.p3.2xlarge',\n",
    "    instance_count=1,\n",
    "    role=role,\n",
    "    framework_version='1.8',\n",
    "    py_version='py36',\n",
    "    hyperparameters = hyperparameters,\n",
    "    job_name=job_name,\n",
    "#     train_instance_count=2,\n",
    "#     train_instance_type=\"ml.c4.xlarge\",\n",
    ")"
   ]
  },
  {
   "cell_type": "code",
   "execution_count": 16,
   "id": "ed07c92a",
   "metadata": {
    "ExecuteTime": {
     "end_time": "2021-06-07T09:32:50.613568Z",
     "start_time": "2021-06-07T09:32:50.596505Z"
    }
   },
   "outputs": [],
   "source": [
    "fit_arguments = {\n",
    "    'train': str(input_path),\n",
    "    'test': str(input_path)\n",
    "}"
   ]
  },
  {
   "cell_type": "code",
   "execution_count": 17,
   "id": "4dea6ffc",
   "metadata": {
    "ExecuteTime": {
     "end_time": "2021-06-07T09:32:53.841829Z",
     "start_time": "2021-06-07T09:32:50.615296Z"
    },
    "scrolled": true
   },
   "outputs": [],
   "source": [
    "estimator.fit(fit_arguments, job_name=job_name, wait=False)"
   ]
  },
  {
   "cell_type": "code",
   "execution_count": null,
   "id": "b8a3273d",
   "metadata": {
    "ExecuteTime": {
     "end_time": "2021-06-03T15:48:22.697284Z",
     "start_time": "2021-06-03T15:48:21.745875Z"
    }
   },
   "outputs": [],
   "source": [
    "from sagemaker import TrainingJobAnalytics\n",
    "\n",
    "# Captured metrics can be accessed as a Pandas dataframe\n",
    "df = TrainingJobAnalytics(training_job_name=estimator.latest_training_job.name).dataframe()\n",
    "df.head(10)"
   ]
  },
  {
   "cell_type": "code",
   "execution_count": null,
   "id": "f3801355",
   "metadata": {
    "ExecuteTime": {
     "end_time": "2021-06-03T15:48:22.699715Z",
     "start_time": "2021-06-03T15:48:20.738Z"
    }
   },
   "outputs": [],
   "source": [
    "df"
   ]
  },
  {
   "cell_type": "code",
   "execution_count": null,
   "id": "89b725f2",
   "metadata": {},
   "outputs": [],
   "source": []
  },
  {
   "cell_type": "code",
   "execution_count": null,
   "id": "7fc2cd52",
   "metadata": {},
   "outputs": [],
   "source": []
  }
 ],
 "metadata": {
  "kernelspec": {
   "display_name": "Python 3",
   "language": "python",
   "name": "python3"
  },
  "language_info": {
   "codemirror_mode": {
    "name": "ipython",
    "version": 3
   },
   "file_extension": ".py",
   "mimetype": "text/x-python",
   "name": "python",
   "nbconvert_exporter": "python",
   "pygments_lexer": "ipython3",
   "version": "3.9.1"
  },
  "notify_time": "5",
  "toc": {
   "base_numbering": 1,
   "nav_menu": {},
   "number_sections": true,
   "sideBar": true,
   "skip_h1_title": false,
   "title_cell": "Table of Contents",
   "title_sidebar": "Contents",
   "toc_cell": false,
   "toc_position": {},
   "toc_section_display": true,
   "toc_window_display": false
  }
 },
 "nbformat": 4,
 "nbformat_minor": 5
}
