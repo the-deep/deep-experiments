{
 "cells": [
  {
   "cell_type": "markdown",
   "id": "da175455",
   "metadata": {},
   "source": [
    "Using kernel `conda_pytorch_latest_p36`"
   ]
  },
  {
   "cell_type": "code",
   "execution_count": 1,
   "id": "14ea103d",
   "metadata": {
    "ExecuteTime": {
     "end_time": "2021-05-27T14:06:57.478596Z",
     "start_time": "2021-05-27T14:06:57.475289Z"
    }
   },
   "outputs": [],
   "source": [
    "import sys\n",
    "sys.path.append('../../../')"
   ]
  },
  {
   "cell_type": "code",
   "execution_count": 2,
   "id": "a548b57f",
   "metadata": {
    "ExecuteTime": {
     "end_time": "2021-05-27T14:06:57.485337Z",
     "start_time": "2021-05-27T14:06:57.481388Z"
    }
   },
   "outputs": [],
   "source": [
    "from pathlib import Path\n",
    "import os\n",
    "import random\n",
    "import json\n"
   ]
  },
  {
   "cell_type": "code",
   "execution_count": 3,
   "id": "01727bc6",
   "metadata": {
    "ExecuteTime": {
     "end_time": "2021-05-27T14:06:59.714159Z",
     "start_time": "2021-05-27T14:06:57.487321Z"
    }
   },
   "outputs": [],
   "source": [
    "import pandas as pd\n",
    "import numpy as np\n",
    "from sklearn.metrics import classification_report\n",
    "import torch\n",
    "import boto3\n",
    "from transformers import (\n",
    "    AutoTokenizer, \n",
    "    DistilBertTokenizerFast,\n",
    "    DistilBertForSequenceClassification,\n",
    "    TrainingArguments, \n",
    "    Trainer\n",
    ")\n",
    "import sagemaker\n",
    "from sagemaker import get_execution_role\n",
    "from sagemaker.transformer import Transformer\n",
    "from sagemaker.pytorch import PyTorchModel"
   ]
  },
  {
   "cell_type": "code",
   "execution_count": 4,
   "id": "1bc79461",
   "metadata": {
    "ExecuteTime": {
     "end_time": "2021-05-27T14:06:59.718094Z",
     "start_time": "2021-05-27T14:06:59.715504Z"
    }
   },
   "outputs": [],
   "source": [
    "from deep.constants import *"
   ]
  },
  {
   "cell_type": "code",
   "execution_count": 5,
   "id": "fef4595c",
   "metadata": {
    "ExecuteTime": {
     "end_time": "2021-05-27T14:06:59.741351Z",
     "start_time": "2021-05-27T14:06:59.719038Z"
    }
   },
   "outputs": [],
   "source": [
    "%load_ext autoreload\n",
    "%autoreload 2"
   ]
  },
  {
   "cell_type": "markdown",
   "id": "f3be975a",
   "metadata": {},
   "source": [
    "## Sagemaker Prep"
   ]
  },
  {
   "cell_type": "code",
   "execution_count": 6,
   "id": "1891c670",
   "metadata": {
    "ExecuteTime": {
     "end_time": "2021-05-27T14:07:00.061378Z",
     "start_time": "2021-05-27T14:06:59.742403Z"
    }
   },
   "outputs": [
    {
     "name": "stdout",
     "output_type": "stream",
     "text": [
      "AmazonSageMaker-ExecutionRole-20210519T102514\n"
     ]
    }
   ],
   "source": [
    "default_bucket = 'deep-experiments-sagemaker-bucket'\n",
    "sess = sagemaker.Session(default_bucket=default_bucket)\n",
    "\n",
    "role = 'AmazonSageMaker-ExecutionRole-20210519T102514'\n",
    "print(\n",
    "    role\n",
    ")  # This is the role that SageMaker would use to leverage AWS resources (S3, CloudWatch) on your behalf\n",
    "\n",
    "bucket = SAGEMAKER_BUCKET\n",
    "prefix = \"huggingface/first\"  # Replace with the prefix under which you want to store the data if needed\n"
   ]
  },
  {
   "cell_type": "markdown",
   "id": "cfc69433",
   "metadata": {},
   "source": [
    "### Bucket upload"
   ]
  },
  {
   "cell_type": "code",
   "execution_count": 7,
   "id": "d7c444d5",
   "metadata": {
    "ExecuteTime": {
     "end_time": "2021-05-27T14:07:00.093118Z",
     "start_time": "2021-05-27T14:07:00.063801Z"
    }
   },
   "outputs": [],
   "source": [
    "pt_mnist_model_data = 's3://sagemaker-us-east-1-961104659532/pytorch-training-2021-05-26-13-34-05-285/output/model.tar.gz'"
   ]
  },
  {
   "cell_type": "code",
   "execution_count": 8,
   "id": "102054d3",
   "metadata": {
    "ExecuteTime": {
     "end_time": "2021-05-27T14:07:00.115527Z",
     "start_time": "2021-05-27T14:07:00.095246Z"
    }
   },
   "outputs": [],
   "source": [
    "hyperparameters={\n",
    "    'train_batch_size': 32,\n",
    "    'model_name': 'distilbert-base-uncased'\n",
    "}\n",
    "\n",
    "model = PyTorchModel(\n",
    "    entry_point=\"batch_inference.py\",\n",
    "    source_dir=str(SCRIPTS_TRAINING_PATH / 'stefano/pytorch_estimator_base'),\n",
    "    output_dir\n",
    "    role=role,\n",
    "    model_data=pt_mnist_model_data,\n",
    "    framework_version=\"1.8.1\",\n",
    "    py_version=\"py3\",\n",
    ")"
   ]
  },
  {
   "cell_type": "code",
   "execution_count": 9,
   "id": "c6dbeed4",
   "metadata": {
    "ExecuteTime": {
     "end_time": "2021-05-27T14:09:42.055761Z",
     "start_time": "2021-05-27T14:07:00.116742Z"
    }
   },
   "outputs": [],
   "source": [
    "# then create transformer from PyTorchModel object\n",
    "transformer = model.transformer(\n",
    "    instance_count=1, \n",
    "    instance_type='ml.m5.large', \n",
    "    strategy='MultiRecord',\n",
    "    assemble_with='Line',\n",
    "    output_path='s3://{}/batch_transform_output'.format(bucket),\n",
    ")"
   ]
  },
  {
   "cell_type": "code",
   "execution_count": 10,
   "id": "11a79499",
   "metadata": {
    "ExecuteTime": {
     "end_time": "2021-05-27T14:09:43.270212Z",
     "start_time": "2021-05-27T14:09:42.057709Z"
    }
   },
   "outputs": [],
   "source": [
    "dummy_data = pd.DataFrame({\"inputs\": ['There are many health problems', 'There are many more health problems']})\n",
    "dummy_data.to_csv('s3://deep-experiments-sagemaker-bucket/test1/prova.csv')"
   ]
  },
  {
   "cell_type": "code",
   "execution_count": 12,
   "id": "8974f768",
   "metadata": {
    "ExecuteTime": {
     "end_time": "2021-05-27T15:11:29.614245Z",
     "start_time": "2021-05-27T15:11:27.911854Z"
    },
    "scrolled": true
   },
   "outputs": [],
   "source": [
    "transformer.transform(\n",
    "    's3://deep-experiments-sagemaker-bucket/test1/prova.csv',\n",
    "    content_type='text/csv', \n",
    "    split_type='Line', \n",
    "    logs=True, \n",
    "    wait=False\n",
    ")"
   ]
  },
  {
   "cell_type": "code",
   "execution_count": null,
   "id": "9cb05b63",
   "metadata": {},
   "outputs": [],
   "source": []
  }
 ],
 "metadata": {
  "kernelspec": {
   "display_name": "Python 3",
   "language": "python",
   "name": "python3"
  },
  "language_info": {
   "codemirror_mode": {
    "name": "ipython",
    "version": 3
   },
   "file_extension": ".py",
   "mimetype": "text/x-python",
   "name": "python",
   "nbconvert_exporter": "python",
   "pygments_lexer": "ipython3",
   "version": "3.9.1"
  },
  "toc": {
   "base_numbering": 1,
   "nav_menu": {},
   "number_sections": true,
   "sideBar": true,
   "skip_h1_title": false,
   "title_cell": "Table of Contents",
   "title_sidebar": "Contents",
   "toc_cell": false,
   "toc_position": {},
   "toc_section_display": true,
   "toc_window_display": false
  }
 },
 "nbformat": 4,
 "nbformat_minor": 5
}
