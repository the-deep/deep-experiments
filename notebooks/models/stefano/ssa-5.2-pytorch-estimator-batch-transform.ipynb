{
 "cells": [
  {
   "cell_type": "markdown",
   "id": "da175455",
   "metadata": {},
   "source": [
    "Using kernel `conda_pytorch_latest_p36`"
   ]
  },
  {
   "cell_type": "code",
   "execution_count": 1,
   "id": "14ea103d",
   "metadata": {
    "ExecuteTime": {
     "end_time": "2021-05-27T14:06:57.478596Z",
     "start_time": "2021-05-27T14:06:57.475289Z"
    }
   },
   "outputs": [],
   "source": [
    "import sys\n",
    "sys.path.append('../../../')"
   ]
  },
  {
   "cell_type": "code",
   "execution_count": 2,
   "id": "a548b57f",
   "metadata": {
    "ExecuteTime": {
     "end_time": "2021-05-27T14:06:57.485337Z",
     "start_time": "2021-05-27T14:06:57.481388Z"
    }
   },
   "outputs": [],
   "source": [
    "from pathlib import Path\n",
    "import os\n",
    "import random\n",
    "import json\n"
   ]
  },
  {
   "cell_type": "code",
   "execution_count": 3,
   "id": "01727bc6",
   "metadata": {
    "ExecuteTime": {
     "end_time": "2021-05-27T14:06:59.714159Z",
     "start_time": "2021-05-27T14:06:57.487321Z"
    }
   },
   "outputs": [],
   "source": [
    "import pandas as pd\n",
    "import numpy as np\n",
    "from sklearn.metrics import classification_report\n",
    "import torch\n",
    "import boto3\n",
    "from transformers import (\n",
    "    AutoTokenizer, \n",
    "    DistilBertTokenizerFast,\n",
    "    DistilBertForSequenceClassification,\n",
    "    TrainingArguments, \n",
    "    Trainer\n",
    ")\n",
    "import sagemaker\n",
    "from sagemaker import get_execution_role\n",
    "from sagemaker.transformer import Transformer\n",
    "from sagemaker.pytorch import PyTorchModel"
   ]
  },
  {
   "cell_type": "code",
   "execution_count": 4,
   "id": "1bc79461",
   "metadata": {
    "ExecuteTime": {
     "end_time": "2021-05-27T14:06:59.718094Z",
     "start_time": "2021-05-27T14:06:59.715504Z"
    }
   },
   "outputs": [],
   "source": [
    "from deep.constants import *"
   ]
  },
  {
   "cell_type": "code",
   "execution_count": 5,
   "id": "fef4595c",
   "metadata": {
    "ExecuteTime": {
     "end_time": "2021-05-27T14:06:59.741351Z",
     "start_time": "2021-05-27T14:06:59.719038Z"
    }
   },
   "outputs": [],
   "source": [
    "%load_ext autoreload\n",
    "%autoreload 2"
   ]
  },
  {
   "cell_type": "markdown",
   "id": "f3be975a",
   "metadata": {},
   "source": [
    "## Sagemaker Prep"
   ]
  },
  {
   "cell_type": "code",
   "execution_count": 6,
   "id": "1891c670",
   "metadata": {
    "ExecuteTime": {
     "end_time": "2021-05-27T14:07:00.061378Z",
     "start_time": "2021-05-27T14:06:59.742403Z"
    }
   },
   "outputs": [
    {
     "name": "stdout",
     "output_type": "stream",
     "text": [
      "AmazonSageMaker-ExecutionRole-20210519T102514\n"
     ]
    }
   ],
   "source": [
    "default_bucket = 'deep-experiments-sagemaker-bucket'\n",
    "sess = sagemaker.Session(default_bucket=default_bucket)\n",
    "\n",
    "role = 'AmazonSageMaker-ExecutionRole-20210519T102514'\n",
    "print(\n",
    "    role\n",
    ")  # This is the role that SageMaker would use to leverage AWS resources (S3, CloudWatch) on your behalf\n",
    "\n",
    "bucket = SAGEMAKER_BUCKET\n",
    "prefix = \"huggingface/first\"  # Replace with the prefix under which you want to store the data if needed\n"
   ]
  },
  {
   "cell_type": "markdown",
   "id": "cfc69433",
   "metadata": {},
   "source": [
    "### Bucket upload"
   ]
  },
  {
   "cell_type": "code",
   "execution_count": 7,
   "id": "d7c444d5",
   "metadata": {
    "ExecuteTime": {
     "end_time": "2021-05-27T14:07:00.093118Z",
     "start_time": "2021-05-27T14:07:00.063801Z"
    }
   },
   "outputs": [],
   "source": [
    "pt_mnist_model_data = 's3://sagemaker-us-east-1-961104659532/pytorch-training-2021-05-26-13-34-05-285/output/model.tar.gz'"
   ]
  },
  {
   "cell_type": "code",
   "execution_count": 8,
   "id": "102054d3",
   "metadata": {
    "ExecuteTime": {
     "end_time": "2021-05-27T14:07:00.115527Z",
     "start_time": "2021-05-27T14:07:00.095246Z"
    }
   },
   "outputs": [],
   "source": [
    "hyperparameters={\n",
    "    'train_batch_size': 32,\n",
    "    'model_name': 'distilbert-base-uncased'\n",
    "}\n",
    "\n",
    "model = PyTorchModel(\n",
    "    entry_point=\"batch_inference.py\",\n",
    "    source_dir=str(SCRIPTS_TRAINING_PATH / 'stefano/pytorch_estimator_base'),\n",
    "    role=role,\n",
    "    model_data=pt_mnist_model_data,\n",
    "    framework_version=\"1.8.1\",\n",
    "    py_version=\"py3\",\n",
    ")"
   ]
  },
  {
   "cell_type": "code",
   "execution_count": 9,
   "id": "c6dbeed4",
   "metadata": {
    "ExecuteTime": {
     "end_time": "2021-05-27T14:09:42.055761Z",
     "start_time": "2021-05-27T14:07:00.116742Z"
    }
   },
   "outputs": [],
   "source": [
    "# then create transformer from PyTorchModel object\n",
    "transformer = model.transformer(\n",
    "    instance_count=1, \n",
    "    instance_type='ml.m5.large', \n",
    "    strategy='MultiRecord',\n",
    "    assemble_with='Line',\n",
    "    output_path='s3://{}/batch_transform_output'.format(bucket),\n",
    ")"
   ]
  },
  {
   "cell_type": "code",
   "execution_count": 10,
   "id": "11a79499",
   "metadata": {
    "ExecuteTime": {
     "end_time": "2021-05-27T14:09:43.270212Z",
     "start_time": "2021-05-27T14:09:42.057709Z"
    }
   },
   "outputs": [],
   "source": [
    "dummy_data = pd.DataFrame({\"inputs\": ['There are many health problems', 'There are many more health problems']})\n",
    "dummy_data.to_csv('s3://deep-experiments-sagemaker-bucket/test1/prova.csv')"
   ]
  },
  {
   "cell_type": "code",
   "execution_count": 11,
   "id": "8974f768",
   "metadata": {
    "ExecuteTime": {
     "end_time": "2021-05-27T14:15:20.776787Z",
     "start_time": "2021-05-27T14:09:43.272505Z"
    },
    "scrolled": true
   },
   "outputs": [
    {
     "name": "stdout",
     "output_type": "stream",
     "text": [
      ".............................\u001b[34mCollecting transformers==4.6.1\n",
      "  Downloading transformers-4.6.1-py3-none-any.whl (2.2 MB)\u001b[0m\n",
      "\u001b[34mCollecting pytorch-lightning==1.3.2\n",
      "  Downloading pytorch_lightning-1.3.2-py3-none-any.whl (805 kB)\u001b[0m\n",
      "\u001b[34mRequirement already satisfied: dataclasses in /opt/conda/lib/python3.6/site-packages (from transformers==4.6.1->-r /opt/ml/model/code/requirements.txt (line 1)) (0.8)\u001b[0m\n",
      "\u001b[34mCollecting importlib-metadata\n",
      "  Downloading importlib_metadata-4.3.0-py3-none-any.whl (16 kB)\u001b[0m\n",
      "\u001b[34mCollecting sacremoses\n",
      "  Downloading sacremoses-0.0.45-py3-none-any.whl (895 kB)\u001b[0m\n",
      "\u001b[34mCollecting tokenizers<0.11,>=0.10.1\n",
      "  Downloading tokenizers-0.10.3-cp36-cp36m-manylinux_2_5_x86_64.manylinux1_x86_64.manylinux_2_12_x86_64.manylinux2010_x86_64.whl (3.3 MB)\u001b[0m\n",
      "\u001b[34mRequirement already satisfied: tqdm>=4.27 in /opt/conda/lib/python3.6/site-packages (from transformers==4.6.1->-r /opt/ml/model/code/requirements.txt (line 1)) (4.59.0)\u001b[0m\n",
      "\u001b[34mCollecting huggingface-hub==0.0.8\n",
      "  Downloading huggingface_hub-0.0.8-py3-none-any.whl (34 kB)\u001b[0m\n",
      "\u001b[34mCollecting filelock\n",
      "  Downloading filelock-3.0.12-py3-none-any.whl (7.6 kB)\u001b[0m\n",
      "\u001b[34mCollecting regex!=2019.12.17\n",
      "  Downloading regex-2021.4.4-cp36-cp36m-manylinux2014_x86_64.whl (722 kB)\u001b[0m\n",
      "\u001b[34mRequirement already satisfied: packaging in /opt/conda/lib/python3.6/site-packages (from transformers==4.6.1->-r /opt/ml/model/code/requirements.txt (line 1)) (20.4)\u001b[0m\n",
      "\u001b[34mRequirement already satisfied: requests in /opt/conda/lib/python3.6/site-packages (from transformers==4.6.1->-r /opt/ml/model/code/requirements.txt (line 1)) (2.22.0)\u001b[0m\n",
      "\u001b[34mRequirement already satisfied: numpy>=1.17 in /opt/conda/lib/python3.6/site-packages (from transformers==4.6.1->-r /opt/ml/model/code/requirements.txt (line 1)) (1.19.1)\u001b[0m\n",
      "\u001b[34mRequirement already satisfied: future>=0.17.1 in /opt/conda/lib/python3.6/site-packages (from pytorch-lightning==1.3.2->-r /opt/ml/model/code/requirements.txt (line 2)) (0.18.2)\u001b[0m\n",
      "\u001b[34mCollecting fsspec[http]>=2021.4.0\n",
      "  Downloading fsspec-2021.5.0-py3-none-any.whl (111 kB)\u001b[0m\n",
      "\u001b[34mCollecting tensorboard!=2.5.0,>=2.2.0\n",
      "  Downloading tensorboard-2.4.1-py3-none-any.whl (10.6 MB)\u001b[0m\n",
      "\u001b[34mCollecting torchmetrics>=0.2.0\n",
      "  Downloading torchmetrics-0.3.2-py3-none-any.whl (274 kB)\u001b[0m\n",
      "\u001b[34mRequirement already satisfied: torch>=1.4 in /opt/conda/lib/python3.6/site-packages (from pytorch-lightning==1.3.2->-r /opt/ml/model/code/requirements.txt (line 2)) (1.8.1)\u001b[0m\n",
      "\u001b[34mRequirement already satisfied: PyYAML<=5.4.1,>=5.1 in /opt/conda/lib/python3.6/site-packages (from pytorch-lightning==1.3.2->-r /opt/ml/model/code/requirements.txt (line 2)) (5.4.1)\u001b[0m\n",
      "\u001b[34mCollecting pyDeprecate==0.3.0\n",
      "  Downloading pyDeprecate-0.3.0-py3-none-any.whl (10 kB)\u001b[0m\n",
      "\u001b[34mCollecting aiohttp\n",
      "  Downloading aiohttp-3.7.4.post0-cp36-cp36m-manylinux2014_x86_64.whl (1.3 MB)\u001b[0m\n",
      "\u001b[34mRequirement already satisfied: wheel>=0.26 in /opt/conda/lib/python3.6/site-packages (from tensorboard!=2.5.0,>=2.2.0->pytorch-lightning==1.3.2->-r /opt/ml/model/code/requirements.txt (line 2)) (0.36.2)\u001b[0m\n",
      "\u001b[34mCollecting google-auth<2,>=1.6.3\n",
      "  Downloading google_auth-1.30.1-py2.py3-none-any.whl (146 kB)\u001b[0m\n",
      "\u001b[34mCollecting absl-py>=0.4\n",
      "  Downloading absl_py-0.12.0-py3-none-any.whl (129 kB)\u001b[0m\n",
      "\u001b[34mCollecting google-auth-oauthlib<0.5,>=0.4.1\n",
      "  Downloading google_auth_oauthlib-0.4.4-py2.py3-none-any.whl (18 kB)\u001b[0m\n",
      "\u001b[34mCollecting protobuf>=3.6.0\n",
      "  Downloading protobuf-3.17.1-cp36-cp36m-manylinux_2_5_x86_64.manylinux1_x86_64.whl (1.0 MB)\u001b[0m\n",
      "\u001b[34mCollecting grpcio>=1.24.3\n",
      "  Downloading grpcio-1.38.0-cp36-cp36m-manylinux2014_x86_64.whl (4.2 MB)\u001b[0m\n",
      "\u001b[34mCollecting tensorboard-plugin-wit>=1.6.0\n",
      "  Downloading tensorboard_plugin_wit-1.8.0-py3-none-any.whl (781 kB)\u001b[0m\n",
      "\u001b[34mRequirement already satisfied: six>=1.10.0 in /opt/conda/lib/python3.6/site-packages (from tensorboard!=2.5.0,>=2.2.0->pytorch-lightning==1.3.2->-r /opt/ml/model/code/requirements.txt (line 2)) (1.15.0)\u001b[0m\n",
      "\u001b[34mCollecting markdown>=2.6.8\n",
      "  Downloading Markdown-3.3.4-py3-none-any.whl (97 kB)\u001b[0m\n",
      "\u001b[34mCollecting werkzeug>=0.11.15\n",
      "  Downloading Werkzeug-2.0.1-py3-none-any.whl (288 kB)\u001b[0m\n",
      "\u001b[34mRequirement already satisfied: setuptools>=41.0.0 in /opt/conda/lib/python3.6/site-packages (from tensorboard!=2.5.0,>=2.2.0->pytorch-lightning==1.3.2->-r /opt/ml/model/code/requirements.txt (line 2)) (49.6.0.post20210108)\u001b[0m\n",
      "\u001b[34mRequirement already satisfied: rsa<5,>=3.1.4 in /opt/conda/lib/python3.6/site-packages (from google-auth<2,>=1.6.3->tensorboard!=2.5.0,>=2.2.0->pytorch-lightning==1.3.2->-r /opt/ml/model/code/requirements.txt (line 2)) (4.7.2)\u001b[0m\n",
      "\u001b[34mCollecting pyasn1-modules>=0.2.1\n",
      "  Downloading pyasn1_modules-0.2.8-py2.py3-none-any.whl (155 kB)\u001b[0m\n",
      "\u001b[34mCollecting cachetools<5.0,>=2.0.0\n",
      "  Downloading cachetools-4.2.2-py3-none-any.whl (11 kB)\u001b[0m\n",
      "\u001b[34mCollecting requests-oauthlib>=0.7.0\n",
      "  Downloading requests_oauthlib-1.3.0-py2.py3-none-any.whl (23 kB)\u001b[0m\n",
      "\u001b[34mRequirement already satisfied: pyasn1<0.5.0,>=0.4.6 in /opt/conda/lib/python3.6/site-packages (from pyasn1-modules>=0.2.1->google-auth<2,>=1.6.3->tensorboard!=2.5.0,>=2.2.0->pytorch-lightning==1.3.2->-r /opt/ml/model/code/requirements.txt (line 2)) (0.4.8)\u001b[0m\n",
      "\u001b[34mRequirement already satisfied: urllib3!=1.25.0,!=1.25.1,<1.26,>=1.21.1 in /opt/conda/lib/python3.6/site-packages (from requests->transformers==4.6.1->-r /opt/ml/model/code/requirements.txt (line 1)) (1.25.11)\u001b[0m\n",
      "\u001b[34mRequirement already satisfied: certifi>=2017.4.17 in /opt/conda/lib/python3.6/site-packages (from requests->transformers==4.6.1->-r /opt/ml/model/code/requirements.txt (line 1)) (2020.12.5)\u001b[0m\n",
      "\u001b[34mRequirement already satisfied: chardet<3.1.0,>=3.0.2 in /opt/conda/lib/python3.6/site-packages (from requests->transformers==4.6.1->-r /opt/ml/model/code/requirements.txt (line 1)) (3.0.4)\u001b[0m\n",
      "\u001b[34mRequirement already satisfied: idna<2.9,>=2.5 in /opt/conda/lib/python3.6/site-packages (from requests->transformers==4.6.1->-r /opt/ml/model/code/requirements.txt (line 1)) (2.8)\u001b[0m\n",
      "\u001b[34mCollecting oauthlib>=3.0.0\n",
      "  Downloading oauthlib-3.1.0-py2.py3-none-any.whl (147 kB)\u001b[0m\n",
      "\u001b[34mRequirement already satisfied: typing-extensions in /opt/conda/lib/python3.6/site-packages (from torch>=1.4->pytorch-lightning==1.3.2->-r /opt/ml/model/code/requirements.txt (line 2)) (3.10.0.0)\u001b[0m\n",
      "\u001b[34mCollecting multidict<7.0,>=4.5\n",
      "  Downloading multidict-5.1.0-cp36-cp36m-manylinux2014_x86_64.whl (141 kB)\u001b[0m\n",
      "\u001b[34mCollecting async-timeout<4.0,>=3.0\n",
      "  Downloading async_timeout-3.0.1-py3-none-any.whl (8.2 kB)\u001b[0m\n",
      "\u001b[34mCollecting idna-ssl>=1.0\n",
      "  Downloading idna-ssl-1.1.0.tar.gz (3.4 kB)\u001b[0m\n",
      "\u001b[34mCollecting yarl<2.0,>=1.0\n",
      "  Downloading yarl-1.6.3-cp36-cp36m-manylinux2014_x86_64.whl (293 kB)\u001b[0m\n",
      "\u001b[34mCollecting attrs>=17.3.0\n",
      "  Downloading attrs-21.2.0-py2.py3-none-any.whl (53 kB)\u001b[0m\n",
      "\u001b[34mCollecting zipp>=0.5\n",
      "  Downloading zipp-3.4.1-py3-none-any.whl (5.2 kB)\u001b[0m\n",
      "\u001b[34mRequirement already satisfied: pyparsing>=2.0.2 in /opt/conda/lib/python3.6/site-packages (from packaging->transformers==4.6.1->-r /opt/ml/model/code/requirements.txt (line 1)) (2.4.7)\u001b[0m\n",
      "\u001b[34mCollecting click\n",
      "  Downloading click-8.0.1-py3-none-any.whl (97 kB)\u001b[0m\n",
      "\u001b[34mRequirement already satisfied: joblib in /opt/conda/lib/python3.6/site-packages (from sacremoses->transformers==4.6.1->-r /opt/ml/model/code/requirements.txt (line 1)) (1.0.1)\u001b[0m\n",
      "\u001b[34mBuilding wheels for collected packages: idna-ssl\n",
      "  Building wheel for idna-ssl (setup.py): started\n",
      "  Building wheel for idna-ssl (setup.py): finished with status 'done'\n",
      "  Created wheel for idna-ssl: filename=idna_ssl-1.1.0-py3-none-any.whl size=3160 sha256=ad332aea1f5dc6704b5536c8d5a5a845462e5cfa5a24224606fadb6ae8fdba33\n",
      "  Stored in directory: /root/.cache/pip/wheels/6a/f5/9c/f8331a854f7a8739cf0e74c13854e4dd7b1af11b04fe1dde13\u001b[0m\n",
      "\u001b[34mSuccessfully built idna-ssl\u001b[0m\n",
      "\u001b[34mInstalling collected packages: zipp, pyasn1-modules, oauthlib, multidict, cachetools, yarl, requests-oauthlib, importlib-metadata, idna-ssl, google-auth, attrs, async-timeout, werkzeug, tensorboard-plugin-wit, regex, protobuf, markdown, grpcio, google-auth-oauthlib, fsspec, filelock, click, aiohttp, absl-py, torchmetrics, tokenizers, tensorboard, sacremoses, pyDeprecate, huggingface-hub, transformers, pytorch-lightning\u001b[0m\n"
     ]
    },
    {
     "name": "stdout",
     "output_type": "stream",
     "text": [
      "\n",
      "\u001b[34mSuccessfully installed absl-py-0.12.0 aiohttp-3.7.4.post0 async-timeout-3.0.1 attrs-21.2.0 cachetools-4.2.2 click-8.0.1 filelock-3.0.12 fsspec-2021.5.0 google-auth-1.30.1 google-auth-oauthlib-0.4.4 grpcio-1.38.0 huggingface-hub-0.0.8 idna-ssl-1.1.0 importlib-metadata-4.3.0 markdown-3.3.4 multidict-5.1.0 oauthlib-3.1.0 protobuf-3.17.1 pyDeprecate-0.3.0 pyasn1-modules-0.2.8 pytorch-lightning-1.3.2 regex-2021.4.4 requests-oauthlib-1.3.0 sacremoses-0.0.45 tensorboard-2.4.1 tensorboard-plugin-wit-1.8.0 tokenizers-0.10.3 torchmetrics-0.3.2 transformers-4.6.1 werkzeug-2.0.1 yarl-1.6.3 zipp-3.4.1\u001b[0m\n",
      "\u001b[34mWARNING: Running pip as root will break packages and permissions. You should install packages reliably by using venv: https://pip.pypa.io/warnings/venv\u001b[0m\n",
      "\u001b[34m2021-05-27 14:14:51,840 [INFO ] main org.pytorch.serve.ModelServer - \u001b[0m\n",
      "\u001b[34mTorchserve version: 0.3.1\u001b[0m\n",
      "\u001b[34mTS Home: /opt/conda/lib/python3.6/site-packages\u001b[0m\n",
      "\u001b[34mCurrent directory: /\u001b[0m\n",
      "\u001b[34mTemp directory: /home/model-server/tmp\u001b[0m\n",
      "\u001b[34mNumber of GPUs: 0\u001b[0m\n",
      "\u001b[34mNumber of CPUs: 2\u001b[0m\n",
      "\u001b[34mMax heap size: 986 M\u001b[0m\n",
      "\u001b[34mPython executable: /opt/conda/bin/python3.6\u001b[0m\n",
      "\u001b[34mConfig file: /etc/sagemaker-ts.properties\u001b[0m\n",
      "\u001b[34mInference address: http://0.0.0.0:8080\u001b[0m\n",
      "\u001b[34mManagement address: http://0.0.0.0:8080\u001b[0m\n",
      "\u001b[34mMetrics address: http://127.0.0.1:8082\u001b[0m\n",
      "\u001b[34mModel Store: /.sagemaker/ts/models\u001b[0m\n",
      "\u001b[34mInitial Models: model.mar\u001b[0m\n",
      "\u001b[34mLog dir: /logs\u001b[0m\n",
      "\u001b[34mMetrics dir: /logs\u001b[0m\n",
      "\u001b[34mNetty threads: 0\u001b[0m\n",
      "\u001b[34mNetty client threads: 0\u001b[0m\n",
      "\u001b[34mDefault workers per model: 2\u001b[0m\n",
      "\u001b[34mBlacklist Regex: N/A\u001b[0m\n",
      "\u001b[34mMaximum Response Size: 6553500\u001b[0m\n",
      "\u001b[34mMaximum Request Size: 6553500\u001b[0m\n",
      "\u001b[34mPrefer direct buffer: false\u001b[0m\n",
      "\u001b[34mAllowed Urls: [file://.*|http(s)?://.*]\u001b[0m\n",
      "\u001b[34mCustom python dependency for model allowed: false\u001b[0m\n",
      "\u001b[34mMetrics report format: prometheus\u001b[0m\n",
      "\u001b[34mEnable metrics API: true\u001b[0m\n",
      "\u001b[34m2021-05-27 14:14:51,893 [INFO ] main org.pytorch.serve.ModelServer - Loading initial models: model.mar\u001b[0m\n",
      "\u001b[34m2021-05-27 14:14:56,553 [INFO ] main org.pytorch.serve.archive.ModelArchive - eTag b1d552d1af414cee859681a53ac9f364\u001b[0m\n",
      "\u001b[34m2021-05-27 14:14:56,569 [INFO ] main org.pytorch.serve.wlm.ModelManager - Model model loaded.\u001b[0m\n",
      "\u001b[34m2021-05-27 14:14:56,598 [INFO ] main org.pytorch.serve.ModelServer - Initialize Inference server with: EpollServerSocketChannel.\u001b[0m\n",
      "\u001b[34m2021-05-27 14:14:56,905 [INFO ] main org.pytorch.serve.ModelServer - Inference API bind to: http://0.0.0.0:8080\u001b[0m\n",
      "\u001b[34m2021-05-27 14:14:56,906 [INFO ] main org.pytorch.serve.ModelServer - Initialize Metrics server with: EpollServerSocketChannel.\u001b[0m\n",
      "\u001b[34m2021-05-27 14:14:56,918 [INFO ] main org.pytorch.serve.ModelServer - Metrics API bind to: http://127.0.0.1:8082\u001b[0m\n",
      "\u001b[34m2021-05-27 14:14:56,937 [INFO ] W-9000-model_1-stdout org.pytorch.serve.wlm.WorkerLifeCycle - Listening on port: /home/model-server/tmp/.ts.sock.9000\u001b[0m\n",
      "\u001b[34m2021-05-27 14:14:56,947 [INFO ] W-9001-model_1-stdout org.pytorch.serve.wlm.WorkerLifeCycle - Listening on port: /home/model-server/tmp/.ts.sock.9001\u001b[0m\n",
      "\u001b[34m2021-05-27 14:14:56,948 [INFO ] W-9000-model_1-stdout org.pytorch.serve.wlm.WorkerLifeCycle - [PID]54\u001b[0m\n",
      "\u001b[34m2021-05-27 14:14:56,948 [INFO ] W-9000-model_1-stdout org.pytorch.serve.wlm.WorkerLifeCycle - Torch worker started.\u001b[0m\n",
      "\u001b[34m2021-05-27 14:14:56,949 [INFO ] W-9001-model_1-stdout org.pytorch.serve.wlm.WorkerLifeCycle - [PID]55\u001b[0m\n",
      "\u001b[34m2021-05-27 14:14:56,949 [INFO ] W-9001-model_1-stdout org.pytorch.serve.wlm.WorkerLifeCycle - Torch worker started.\u001b[0m\n",
      "\u001b[34m2021-05-27 14:14:56,949 [INFO ] W-9000-model_1-stdout org.pytorch.serve.wlm.WorkerLifeCycle - Python runtime: 3.6.13\u001b[0m\n",
      "\u001b[34m2021-05-27 14:14:56,950 [INFO ] W-9001-model_1-stdout org.pytorch.serve.wlm.WorkerLifeCycle - Python runtime: 3.6.13\u001b[0m\n",
      "\u001b[34m2021-05-27 14:14:56,980 [INFO ] W-9000-model_1 org.pytorch.serve.wlm.WorkerThread - Connecting to: /home/model-server/tmp/.ts.sock.9000\u001b[0m\n",
      "\u001b[34m2021-05-27 14:14:56,980 [INFO ] W-9001-model_1 org.pytorch.serve.wlm.WorkerThread - Connecting to: /home/model-server/tmp/.ts.sock.9001\u001b[0m\n",
      "\u001b[34m2021-05-27 14:14:57,022 [INFO ] W-9001-model_1-stdout org.pytorch.serve.wlm.WorkerLifeCycle - Connection accepted: /home/model-server/tmp/.ts.sock.9001.\u001b[0m\n",
      "\u001b[34m2021-05-27 14:14:57,028 [INFO ] W-9000-model_1-stdout org.pytorch.serve.wlm.WorkerLifeCycle - Connection accepted: /home/model-server/tmp/.ts.sock.9000.\u001b[0m\n",
      "\u001b[34m2021-05-27 14:14:57,277 [INFO ] pool-1-thread-3 ACCESS_LOG - /169.254.255.130:56822 \"GET /ping HTTP/1.1\" 200 64\u001b[0m\n",
      "\u001b[34m2021-05-27 14:14:57,286 [INFO ] pool-1-thread-3 TS_METRICS - Requests2XX.Count:1|#Level:Host|#hostname:fd579125a2c0,timestamp:null\u001b[0m\n",
      "\u001b[34mModel server started.\u001b[0m\n",
      "\u001b[34m2021-05-27 14:14:58,108 [INFO ] epollEventLoopGroup-3-2 ACCESS_LOG - /169.254.255.130:56828 \"GET /execution-parameters HTTP/1.1\" 404 1\u001b[0m\n",
      "\u001b[34m2021-05-27 14:14:58,111 [INFO ] epollEventLoopGroup-3-2 TS_METRICS - Requests4XX.Count:1|#Level:Host|#hostname:fd579125a2c0,timestamp:null\u001b[0m\n",
      "\u001b[34m2021-05-27 14:14:58,314 [INFO ] pool-2-thread-1 TS_METRICS - CPUUtilization.Percent:100.0|#Level:Host|#hostname:fd579125a2c0,timestamp:1622124898\u001b[0m\n",
      "\u001b[34m2021-05-27 14:14:58,316 [INFO ] pool-2-thread-1 TS_METRICS - DiskAvailable.Gigabytes:47.44769287109375|#Level:Host|#hostname:fd579125a2c0,timestamp:1622124898\u001b[0m\n",
      "\u001b[34m2021-05-27 14:14:58,316 [INFO ] pool-2-thread-1 TS_METRICS - DiskUsage.Gigabytes:8.468219757080078|#Level:Host|#hostname:fd579125a2c0,timestamp:1622124898\u001b[0m\n",
      "\u001b[34m2021-05-27 14:14:58,317 [INFO ] pool-2-thread-1 TS_METRICS - DiskUtilization.Percent:15.1|#Level:Host|#hostname:fd579125a2c0,timestamp:1622124898\u001b[0m\n",
      "\u001b[34m2021-05-27 14:14:58,317 [INFO ] pool-2-thread-1 TS_METRICS - MemoryAvailable.Megabytes:6360.7890625|#Level:Host|#hostname:fd579125a2c0,timestamp:1622124898\u001b[0m\n",
      "\u001b[34m2021-05-27 14:14:58,318 [INFO ] pool-2-thread-1 TS_METRICS - MemoryUsed.Megabytes:1123.609375|#Level:Host|#hostname:fd579125a2c0,timestamp:1622124898\u001b[0m\n",
      "\u001b[34m2021-05-27 14:14:58,319 [INFO ] pool-2-thread-1 TS_METRICS - MemoryUtilization.Percent:18.1|#Level:Host|#hostname:fd579125a2c0,timestamp:1622124898\u001b[0m\n",
      "\u001b[34m2021-05-27 14:14:59,179 [INFO ] W-9000-model_1-stdout org.pytorch.serve.wlm.WorkerLifeCycle - Generating new fontManager, this may take some time...\u001b[0m\n",
      "\u001b[34m2021-05-27 14:14:59,186 [INFO ] W-9001-model_1-stdout org.pytorch.serve.wlm.WorkerLifeCycle - Generating new fontManager, this may take some time...\u001b[0m\n",
      "\u001b[34m2021-05-27 14:15:00,896 [INFO ] W-9000-model_1-stdout org.pytorch.serve.wlm.WorkerLifeCycle - model dir is/home/model-server/tmp/models/b1d552d1af414cee859681a53ac9f364\u001b[0m\n",
      "\u001b[34m2021-05-27 14:15:00,898 [INFO ] W-9000-model_1-stdout org.pytorch.serve.wlm.WorkerLifeCycle - model dir is/home/model-server/tmp/models/b1d552d1af414cee859681a53ac9f364\u001b[0m\n",
      "\u001b[34m2021-05-27 14:15:00,898 [INFO ] W-9000-model_1-stdout org.pytorch.serve.wlm.WorkerLifeCycle - ['MAR-INF', 'code', 'tokenizer', '__pycache__', 'training_args.bin', 'handler_service.py', 'config.json', 'pytorch_model.bin']\u001b[0m\n",
      "\u001b[34m2021-05-27 14:15:00,899 [INFO ] W-9000-model_1-stdout org.pytorch.serve.wlm.WorkerLifeCycle - ['MAR-INF', 'code', 'tokenizer', '__pycache__', 'training_args.bin', 'handler_service.py', 'config.json', 'pytorch_model.bin']\u001b[0m\n",
      "\u001b[34m2021-05-27 14:15:00,900 [INFO ] W-9000-model_1-stdout org.pytorch.serve.wlm.WorkerLifeCycle - ['special_tokens_map.json', 'vocab.txt', 'tokenizer_config.json', 'tokenizer.json']\u001b[0m\n",
      "\u001b[34m2021-05-27 14:15:00,900 [INFO ] W-9000-model_1-stdout org.pytorch.serve.wlm.WorkerLifeCycle - ['special_tokens_map.json', 'vocab.txt', 'tokenizer_config.json', 'tokenizer.json']\u001b[0m\n",
      "\u001b[34m2021-05-27 14:15:00,931 [INFO ] W-9001-model_1-stdout org.pytorch.serve.wlm.WorkerLifeCycle - model dir is/home/model-server/tmp/models/b1d552d1af414cee859681a53ac9f364\u001b[0m\n",
      "\u001b[34m2021-05-27 14:15:00,932 [INFO ] W-9001-model_1-stdout org.pytorch.serve.wlm.WorkerLifeCycle - model dir is/home/model-server/tmp/models/b1d552d1af414cee859681a53ac9f364\u001b[0m\n",
      "\u001b[34m2021-05-27 14:15:00,933 [INFO ] W-9001-model_1-stdout org.pytorch.serve.wlm.WorkerLifeCycle - ['MAR-INF', 'code', 'tokenizer', '__pycache__', 'training_args.bin', 'handler_service.py', 'config.json', 'pytorch_model.bin']\u001b[0m\n",
      "\u001b[34m2021-05-27 14:15:00,933 [INFO ] W-9001-model_1-stdout org.pytorch.serve.wlm.WorkerLifeCycle - ['MAR-INF', 'code', 'tokenizer', '__pycache__', 'training_args.bin', 'handler_service.py', 'config.json', 'pytorch_model.bin']\u001b[0m\n",
      "\u001b[34m2021-05-27 14:15:00,933 [INFO ] W-9001-model_1-stdout org.pytorch.serve.wlm.WorkerLifeCycle - ['special_tokens_map.json', 'vocab.txt', 'tokenizer_config.json', 'tokenizer.json']\u001b[0m\n",
      "\u001b[34m2021-05-27 14:15:00,934 [INFO ] W-9001-model_1-stdout org.pytorch.serve.wlm.WorkerLifeCycle - ['special_tokens_map.json', 'vocab.txt', 'tokenizer_config.json', 'tokenizer.json']\u001b[0m\n",
      "\u001b[34m2021-05-27 14:15:02,036 [INFO ] W-9001-model_1 org.pytorch.serve.wlm.WorkerThread - Backend response time: 4901\u001b[0m\n",
      "\u001b[34m2021-05-27 14:15:02,037 [INFO ] W-9001-model_1 TS_METRICS - W-9001-model_1.ms:5447|#Level:Host|#hostname:fd579125a2c0,timestamp:1622124902\u001b[0m\n",
      "\u001b[34m2021-05-27 14:15:02,038 [INFO ] W-9001-model_1 TS_METRICS - WorkerThreadTime.ms:111|#Level:Host|#hostname:fd579125a2c0,timestamp:null\u001b[0m\n",
      "\u001b[34m2021-05-27 14:15:02,139 [INFO ] W-9000-model_1 org.pytorch.serve.wlm.WorkerThread - Backend response time: 4981\u001b[0m\n",
      "\u001b[34m2021-05-27 14:15:02,140 [INFO ] W-9000-model_1 TS_METRICS - W-9000-model_1.ms:5556|#Level:Host|#hostname:fd579125a2c0,timestamp:1622124902\u001b[0m\n",
      "\u001b[34m2021-05-27 14:15:02,140 [INFO ] W-9000-model_1 TS_METRICS - WorkerThreadTime.ms:131|#Level:Host|#hostname:fd579125a2c0,timestamp:null\u001b[0m\n",
      "\u001b[34m2021-05-27 14:15:02,535 [WARN ] W-9001-model_1-stderr org.pytorch.serve.wlm.WorkerLifeCycle - \u001b[0m\n",
      "\u001b[34m2021-05-27 14:15:02,591 [INFO ] W-9001-model_1 org.pytorch.serve.wlm.WorkerThread - Backend response time: 440\u001b[0m\n",
      "\u001b[34m2021-05-27 14:15:02,591 [INFO ] W-9001-model_1-stdout MODEL_METRICS - PredictionTime.Milliseconds:443.56|#ModelName:model,Level:Model|#hostname:fd579125a2c0,requestID:ee933e8f-b2a2-4376-a652-e0b5b0ed10c8,timestamp:1622124902\u001b[0m\n",
      "\u001b[34m2021-05-27 14:15:02,593 [INFO ] W-9001-model_1 ACCESS_LOG - /169.254.255.130:56854 \"POST /invocations HTTP/1.1\" 200 459\u001b[0m\n",
      "\u001b[34m2021-05-27 14:15:02,593 [INFO ] W-9001-model_1 TS_METRICS - Requests2XX.Count:1|#Level:Host|#hostname:fd579125a2c0,timestamp:null\u001b[0m\n",
      "\u001b[34m2021-05-27 14:15:02,593 [INFO ] W-9001-model_1 TS_METRICS - QueueTime.ms:0|#Level:Host|#hostname:fd579125a2c0,timestamp:null\u001b[0m\n",
      "\u001b[34m2021-05-27 14:15:02,596 [INFO ] W-9001-model_1 TS_METRICS - WorkerThreadTime.ms:11|#Level:Host|#hostname:fd579125a2c0,timestamp:null\u001b[0m\n"
     ]
    },
    {
     "name": "stdout",
     "output_type": "stream",
     "text": [
      "\u001b[32m2021-05-27T14:14:59.253:[sagemaker logs]: MaxConcurrentTransforms=1, MaxPayloadInMB=6, BatchStrategy=MULTI_RECORD\u001b[0m\n"
     ]
    }
   ],
   "source": [
    "transformer.transform(\n",
    "    's3://deep-experiments-sagemaker-bucket/test1/prova.csv',\n",
    "    content_type='text/csv', \n",
    "    split_type='Line', \n",
    "    logs=True, \n",
    ")"
   ]
  },
  {
   "cell_type": "code",
   "execution_count": null,
   "id": "9cb05b63",
   "metadata": {},
   "outputs": [],
   "source": []
  }
 ],
 "metadata": {
  "kernelspec": {
   "display_name": "Python 3",
   "language": "python",
   "name": "python3"
  },
  "language_info": {
   "codemirror_mode": {
    "name": "ipython",
    "version": 3
   },
   "file_extension": ".py",
   "mimetype": "text/x-python",
   "name": "python",
   "nbconvert_exporter": "python",
   "pygments_lexer": "ipython3",
   "version": "3.9.1"
  },
  "toc": {
   "base_numbering": 1,
   "nav_menu": {},
   "number_sections": true,
   "sideBar": true,
   "skip_h1_title": false,
   "title_cell": "Table of Contents",
   "title_sidebar": "Contents",
   "toc_cell": false,
   "toc_position": {},
   "toc_section_display": true,
   "toc_window_display": false
  }
 },
 "nbformat": 4,
 "nbformat_minor": 5
}
