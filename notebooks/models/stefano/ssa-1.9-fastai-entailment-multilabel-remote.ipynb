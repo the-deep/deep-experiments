{
 "cells": [
  {
   "cell_type": "markdown",
   "id": "a5079ffd",
   "metadata": {},
   "source": [
    "Using kernel `conda_pytorch_latest_p36`"
   ]
  },
  {
   "cell_type": "markdown",
   "id": "521fd1c2",
   "metadata": {
    "ExecuteTime": {
     "end_time": "2021-06-08T08:56:30.597058Z",
     "start_time": "2021-06-08T08:56:30.579481Z"
    }
   },
   "source": [
    "We take inspiration from [this paper](https://arxiv.org/pdf/2104.14690.pdf)"
   ]
  },
  {
   "cell_type": "code",
   "execution_count": 1,
   "id": "0b889dcf",
   "metadata": {
    "ExecuteTime": {
     "end_time": "2021-06-08T08:47:21.706021Z",
     "start_time": "2021-06-08T08:47:21.699144Z"
    },
    "scrolled": true
   },
   "outputs": [],
   "source": [
    "# !pip install cloudpathlib\n",
    "# !pip install s3fs\n",
    "# !pip install transformers\\\n",
    "# !pip install pytorch-lightning"
   ]
  },
  {
   "cell_type": "markdown",
   "id": "a5148dbe",
   "metadata": {},
   "source": [
    "# Import"
   ]
  },
  {
   "cell_type": "code",
   "execution_count": 2,
   "id": "3395fb4f",
   "metadata": {
    "ExecuteTime": {
     "end_time": "2021-06-08T08:47:21.980293Z",
     "start_time": "2021-06-08T08:47:21.975708Z"
    }
   },
   "outputs": [],
   "source": [
    "import sys\n",
    "sys.path.append('../../../')"
   ]
  },
  {
   "cell_type": "code",
   "execution_count": 3,
   "id": "f5b6a45f",
   "metadata": {
    "ExecuteTime": {
     "end_time": "2021-06-08T08:47:22.160687Z",
     "start_time": "2021-06-08T08:47:22.156126Z"
    }
   },
   "outputs": [],
   "source": [
    "from pathlib import Path\n",
    "import os\n",
    "import random\n",
    "import json\n",
    "from datetime import datetime"
   ]
  },
  {
   "cell_type": "code",
   "execution_count": 4,
   "id": "7ef0e20e",
   "metadata": {
    "ExecuteTime": {
     "end_time": "2021-06-08T08:47:25.362111Z",
     "start_time": "2021-06-08T08:47:23.586366Z"
    }
   },
   "outputs": [],
   "source": [
    "import pandas as pd\n",
    "import numpy as np\n",
    "from sklearn.metrics import classification_report\n",
    "import torch\n",
    "import sagemaker\n",
    "from sagemaker import get_execution_role\n",
    "import boto3\n",
    "import torch.nn as nn\n",
    "from sklearn.preprocessing import MultiLabelBinarizer\n",
    "from torch.utils.data import DataLoader,Dataset\n",
    "from tqdm import tqdm\n",
    "from langdetect import detect"
   ]
  },
  {
   "cell_type": "code",
   "execution_count": 5,
   "id": "94f0dded",
   "metadata": {
    "ExecuteTime": {
     "end_time": "2021-06-08T08:47:25.491652Z",
     "start_time": "2021-06-08T08:47:25.363225Z"
    },
    "scrolled": true
   },
   "outputs": [],
   "source": [
    "from deep.constants import *\n",
    "from deep.utils import *"
   ]
  },
  {
   "cell_type": "code",
   "execution_count": 6,
   "id": "7a68c43d",
   "metadata": {
    "ExecuteTime": {
     "end_time": "2021-06-08T08:47:25.511985Z",
     "start_time": "2021-06-08T08:47:25.492967Z"
    }
   },
   "outputs": [],
   "source": [
    "%load_ext autoreload\n",
    "%autoreload 2"
   ]
  },
  {
   "cell_type": "markdown",
   "id": "314e88fa",
   "metadata": {},
   "source": [
    "## Data"
   ]
  },
  {
   "cell_type": "code",
   "execution_count": 17,
   "id": "47f42684",
   "metadata": {
    "ExecuteTime": {
     "end_time": "2021-06-08T08:49:51.638627Z",
     "start_time": "2021-06-08T08:49:51.594153Z"
    }
   },
   "outputs": [],
   "source": [
    "final_columns = ['entry_id', 'lead_id', 'project_id', 'project_title',\n",
    "       'analysis_framework_id', 'excerpt', 'dropped_excerpt', 'created_by_id',\n",
    "       'modified_by_id', 'verified', 'verification_last_changed_by_id', 'language',\n",
    "       'sectors', 'pillars', 'subpillars']"
   ]
  },
  {
   "cell_type": "code",
   "execution_count": 18,
   "id": "8f87a8d9",
   "metadata": {
    "ExecuteTime": {
     "end_time": "2021-06-08T08:50:06.917636Z",
     "start_time": "2021-06-08T08:50:06.859485Z"
    }
   },
   "outputs": [],
   "source": [
    "def preprocessing(df):\n",
    "    df = df.copy()\n",
    "    df['language'] = [detect(x) for x in tqdm(df.excerpt)]\n",
    "    df = df[final_columns]\n",
    "        \n",
    "    return df\n",
    "        \n",
    "    df['sectors'] = df['sectors'].apply(eval)    \n",
    "    df['pillars'] = df['pillars'].apply(eval)\n",
    "    df['pillars'] = df['pillars'].apply(lambda x: list(set(x)))\n",
    "    df['subpillars'] = df['subpillars'].apply(eval)\n",
    "    return df"
   ]
  },
  {
   "cell_type": "code",
   "execution_count": 8,
   "id": "37c4ef8e",
   "metadata": {
    "ExecuteTime": {
     "end_time": "2021-06-08T08:47:25.668481Z",
     "start_time": "2021-06-08T08:47:25.641997Z"
    }
   },
   "outputs": [],
   "source": [
    "column = 'subpillars'\n",
    "classes=SUBPILLARS\n",
    "text_column = 'excerpt'\n",
    "label_column = 'merged'"
   ]
  },
  {
   "cell_type": "code",
   "execution_count": 19,
   "id": "350de4d7",
   "metadata": {
    "ExecuteTime": {
     "end_time": "2021-06-08T08:56:30.516815Z",
     "start_time": "2021-06-08T08:50:08.524805Z"
    },
    "scrolled": true
   },
   "outputs": [
    {
     "name": "stderr",
     "output_type": "stream",
     "text": [
      "100%|██████████| 90653/90653 [05:06<00:00, 295.93it/s]\n",
      "100%|██████████| 10073/10073 [00:34<00:00, 291.50it/s]\n",
      "100%|██████████| 11192/11192 [00:39<00:00, 284.22it/s]\n"
     ]
    }
   ],
   "source": [
    "train = preprocessing(pd.read_csv(LATEST_DATA_PATH / 'data_v0.4.3_train.csv'))\n",
    "val = preprocessing(pd.read_csv(LATEST_DATA_PATH / 'data_v0.4.3_val.csv'))\n",
    "test = preprocessing(pd.read_csv(LATEST_DATA_PATH / 'data_v0.4.3_test.csv'))"
   ]
  },
  {
   "cell_type": "code",
   "execution_count": 22,
   "id": "13a3bc47",
   "metadata": {
    "ExecuteTime": {
     "end_time": "2021-06-08T08:56:49.755001Z",
     "start_time": "2021-06-08T08:56:49.712606Z"
    }
   },
   "outputs": [
    {
     "data": {
      "text/plain": [
       "PosixPath('/Users/stefano/Dropbox/Work/DFS/Code/deep-experiments/notebooks/models/stefano/../../../data/frameworks_data/data_v0.4.3')"
      ]
     },
     "execution_count": 22,
     "metadata": {},
     "output_type": "execute_result"
    }
   ],
   "source": [
    "new_data_path = LATEST_DATA_PATH.parent / ''"
   ]
  },
  {
   "cell_type": "code",
   "execution_count": 20,
   "id": "ffd3d19f",
   "metadata": {
    "ExecuteTime": {
     "end_time": "2021-06-08T08:56:30.578177Z",
     "start_time": "2021-06-08T08:56:30.519603Z"
    }
   },
   "outputs": [
    {
     "data": {
      "text/html": [
       "<div>\n",
       "<style scoped>\n",
       "    .dataframe tbody tr th:only-of-type {\n",
       "        vertical-align: middle;\n",
       "    }\n",
       "\n",
       "    .dataframe tbody tr th {\n",
       "        vertical-align: top;\n",
       "    }\n",
       "\n",
       "    .dataframe thead th {\n",
       "        text-align: right;\n",
       "    }\n",
       "</style>\n",
       "<table border=\"1\" class=\"dataframe\">\n",
       "  <thead>\n",
       "    <tr style=\"text-align: right;\">\n",
       "      <th></th>\n",
       "      <th>entry_id</th>\n",
       "      <th>lead_id</th>\n",
       "      <th>project_id</th>\n",
       "      <th>project_title</th>\n",
       "      <th>analysis_framework_id</th>\n",
       "      <th>excerpt</th>\n",
       "      <th>dropped_excerpt</th>\n",
       "      <th>created_by_id</th>\n",
       "      <th>modified_by_id</th>\n",
       "      <th>verified</th>\n",
       "      <th>verification_last_changed_by_id</th>\n",
       "      <th>language</th>\n",
       "      <th>sectors</th>\n",
       "      <th>pillars</th>\n",
       "      <th>subpillars</th>\n",
       "    </tr>\n",
       "  </thead>\n",
       "  <tbody>\n",
       "    <tr>\n",
       "      <th>0</th>\n",
       "      <td>163664</td>\n",
       "      <td>35315</td>\n",
       "      <td>2028</td>\n",
       "      <td>IMMAP/DFS Syria</td>\n",
       "      <td>1306</td>\n",
       "      <td>Market monitoring by the World Food Programme ...</td>\n",
       "      <td>NaN</td>\n",
       "      <td>2232</td>\n",
       "      <td>2232</td>\n",
       "      <td>False</td>\n",
       "      <td>NaN</td>\n",
       "      <td>en</td>\n",
       "      <td>['Food Security']</td>\n",
       "      <td>['Impact']</td>\n",
       "      <td>['Impact-&gt;Impact On Systems And Services']</td>\n",
       "    </tr>\n",
       "    <tr>\n",
       "      <th>1</th>\n",
       "      <td>162812</td>\n",
       "      <td>37820</td>\n",
       "      <td>2098</td>\n",
       "      <td>IMMAP/DFS Bangladesh</td>\n",
       "      <td>1306</td>\n",
       "      <td>Quarantine Facilities: ninety-three shelters i...</td>\n",
       "      <td>NaN</td>\n",
       "      <td>657</td>\n",
       "      <td>2233</td>\n",
       "      <td>False</td>\n",
       "      <td>NaN</td>\n",
       "      <td>en</td>\n",
       "      <td>['Health']</td>\n",
       "      <td>['Capacities &amp; Response']</td>\n",
       "      <td>['Capacities &amp; Response-&gt;International Response']</td>\n",
       "    </tr>\n",
       "    <tr>\n",
       "      <th>2</th>\n",
       "      <td>164560</td>\n",
       "      <td>39796</td>\n",
       "      <td>2098</td>\n",
       "      <td>IMMAP/DFS Bangladesh</td>\n",
       "      <td>1306</td>\n",
       "      <td>Within dimensions, markets are broadly operati...</td>\n",
       "      <td>NaN</td>\n",
       "      <td>1152</td>\n",
       "      <td>1152</td>\n",
       "      <td>False</td>\n",
       "      <td>NaN</td>\n",
       "      <td>en</td>\n",
       "      <td>['Cross']</td>\n",
       "      <td>['Impact']</td>\n",
       "      <td>['Impact-&gt;Impact On Systems And Services']</td>\n",
       "    </tr>\n",
       "    <tr>\n",
       "      <th>3</th>\n",
       "      <td>157496</td>\n",
       "      <td>38706</td>\n",
       "      <td>2098</td>\n",
       "      <td>IMMAP/DFS Bangladesh</td>\n",
       "      <td>1306</td>\n",
       "      <td>Frontline aid workers face a heightened risk o...</td>\n",
       "      <td>NaN</td>\n",
       "      <td>2233</td>\n",
       "      <td>2233</td>\n",
       "      <td>False</td>\n",
       "      <td>NaN</td>\n",
       "      <td>en</td>\n",
       "      <td>['Health', 'Logistics']</td>\n",
       "      <td>['Impact', 'People At Risk', 'Impact', 'Impact']</td>\n",
       "      <td>['Impact-&gt;Driver/Aggravating Factors', 'People...</td>\n",
       "    </tr>\n",
       "    <tr>\n",
       "      <th>4</th>\n",
       "      <td>170866</td>\n",
       "      <td>37673</td>\n",
       "      <td>1142</td>\n",
       "      <td>IFRC Turkey</td>\n",
       "      <td>699</td>\n",
       "      <td>[COVID] TRC is currently using its different c...</td>\n",
       "      <td>NaN</td>\n",
       "      <td>2233</td>\n",
       "      <td>2233</td>\n",
       "      <td>False</td>\n",
       "      <td>NaN</td>\n",
       "      <td>en</td>\n",
       "      <td>['Health']</td>\n",
       "      <td>[]</td>\n",
       "      <td>[]</td>\n",
       "    </tr>\n",
       "    <tr>\n",
       "      <th>...</th>\n",
       "      <td>...</td>\n",
       "      <td>...</td>\n",
       "      <td>...</td>\n",
       "      <td>...</td>\n",
       "      <td>...</td>\n",
       "      <td>...</td>\n",
       "      <td>...</td>\n",
       "      <td>...</td>\n",
       "      <td>...</td>\n",
       "      <td>...</td>\n",
       "      <td>...</td>\n",
       "      <td>...</td>\n",
       "      <td>...</td>\n",
       "      <td>...</td>\n",
       "      <td>...</td>\n",
       "    </tr>\n",
       "    <tr>\n",
       "      <th>90648</th>\n",
       "      <td>282949</td>\n",
       "      <td>51241</td>\n",
       "      <td>2170</td>\n",
       "      <td>IMMAP/DFS Nigeria</td>\n",
       "      <td>1306</td>\n",
       "      <td>[16th Mar 2021,North east Nigeria]The governme...</td>\n",
       "      <td>NaN</td>\n",
       "      <td>2230</td>\n",
       "      <td>26</td>\n",
       "      <td>True</td>\n",
       "      <td>26.0</td>\n",
       "      <td>en</td>\n",
       "      <td>['Cross']</td>\n",
       "      <td>['Impact']</td>\n",
       "      <td>['Impact-&gt;Impact On Systems And Services']</td>\n",
       "    </tr>\n",
       "    <tr>\n",
       "      <th>90649</th>\n",
       "      <td>283375</td>\n",
       "      <td>51241</td>\n",
       "      <td>2170</td>\n",
       "      <td>IMMAP/DFS Nigeria</td>\n",
       "      <td>1306</td>\n",
       "      <td>[16th Mar 2021,North east Nigeria] Impact on s...</td>\n",
       "      <td>NaN</td>\n",
       "      <td>2230</td>\n",
       "      <td>1152</td>\n",
       "      <td>True</td>\n",
       "      <td>1152.0</td>\n",
       "      <td>en</td>\n",
       "      <td>['Health', 'Education', 'Protection', 'Livelih...</td>\n",
       "      <td>['Impact', 'Humanitarian Conditions']</td>\n",
       "      <td>['Impact-&gt;Driver/Aggravating Factors', 'Humani...</td>\n",
       "    </tr>\n",
       "    <tr>\n",
       "      <th>90650</th>\n",
       "      <td>268927</td>\n",
       "      <td>49888</td>\n",
       "      <td>2331</td>\n",
       "      <td>GIMAC Somalia</td>\n",
       "      <td>1465</td>\n",
       "      <td>A reported 14 per cent of women aged 15-49 had...</td>\n",
       "      <td>NaN</td>\n",
       "      <td>2741</td>\n",
       "      <td>2272</td>\n",
       "      <td>True</td>\n",
       "      <td>488.0</td>\n",
       "      <td>en</td>\n",
       "      <td>['Protection']</td>\n",
       "      <td>[]</td>\n",
       "      <td>[]</td>\n",
       "    </tr>\n",
       "    <tr>\n",
       "      <th>90651</th>\n",
       "      <td>268842</td>\n",
       "      <td>49945</td>\n",
       "      <td>2311</td>\n",
       "      <td>IMMAP/DFS Colombia</td>\n",
       "      <td>1306</td>\n",
       "      <td>La alternancia no es solo plantear cuáles niño...</td>\n",
       "      <td>La alternancia no es solo plantear cuáles niño...</td>\n",
       "      <td>2374</td>\n",
       "      <td>2374</td>\n",
       "      <td>True</td>\n",
       "      <td>1403.0</td>\n",
       "      <td>es</td>\n",
       "      <td>['Education']</td>\n",
       "      <td>['Impact']</td>\n",
       "      <td>['Impact-&gt;Impact On Systems And Services']</td>\n",
       "    </tr>\n",
       "    <tr>\n",
       "      <th>90652</th>\n",
       "      <td>305234</td>\n",
       "      <td>53100</td>\n",
       "      <td>2334</td>\n",
       "      <td>GIMAC Cameroon</td>\n",
       "      <td>1465</td>\n",
       "      <td>ACQUIS: Procédures de contrôle de l’infection ...</td>\n",
       "      <td>NaN</td>\n",
       "      <td>2854</td>\n",
       "      <td>2854</td>\n",
       "      <td>True</td>\n",
       "      <td>488.0</td>\n",
       "      <td>fr</td>\n",
       "      <td>['Health']</td>\n",
       "      <td>[]</td>\n",
       "      <td>[]</td>\n",
       "    </tr>\n",
       "  </tbody>\n",
       "</table>\n",
       "<p>90653 rows × 15 columns</p>\n",
       "</div>"
      ],
      "text/plain": [
       "       entry_id  lead_id  project_id         project_title  \\\n",
       "0        163664    35315        2028       IMMAP/DFS Syria   \n",
       "1        162812    37820        2098  IMMAP/DFS Bangladesh   \n",
       "2        164560    39796        2098  IMMAP/DFS Bangladesh   \n",
       "3        157496    38706        2098  IMMAP/DFS Bangladesh   \n",
       "4        170866    37673        1142           IFRC Turkey   \n",
       "...         ...      ...         ...                   ...   \n",
       "90648    282949    51241        2170     IMMAP/DFS Nigeria   \n",
       "90649    283375    51241        2170     IMMAP/DFS Nigeria   \n",
       "90650    268927    49888        2331         GIMAC Somalia   \n",
       "90651    268842    49945        2311    IMMAP/DFS Colombia   \n",
       "90652    305234    53100        2334        GIMAC Cameroon   \n",
       "\n",
       "       analysis_framework_id  \\\n",
       "0                       1306   \n",
       "1                       1306   \n",
       "2                       1306   \n",
       "3                       1306   \n",
       "4                        699   \n",
       "...                      ...   \n",
       "90648                   1306   \n",
       "90649                   1306   \n",
       "90650                   1465   \n",
       "90651                   1306   \n",
       "90652                   1465   \n",
       "\n",
       "                                                 excerpt  \\\n",
       "0      Market monitoring by the World Food Programme ...   \n",
       "1      Quarantine Facilities: ninety-three shelters i...   \n",
       "2      Within dimensions, markets are broadly operati...   \n",
       "3      Frontline aid workers face a heightened risk o...   \n",
       "4      [COVID] TRC is currently using its different c...   \n",
       "...                                                  ...   \n",
       "90648  [16th Mar 2021,North east Nigeria]The governme...   \n",
       "90649  [16th Mar 2021,North east Nigeria] Impact on s...   \n",
       "90650  A reported 14 per cent of women aged 15-49 had...   \n",
       "90651  La alternancia no es solo plantear cuáles niño...   \n",
       "90652  ACQUIS: Procédures de contrôle de l’infection ...   \n",
       "\n",
       "                                         dropped_excerpt  created_by_id  \\\n",
       "0                                                    NaN           2232   \n",
       "1                                                    NaN            657   \n",
       "2                                                    NaN           1152   \n",
       "3                                                    NaN           2233   \n",
       "4                                                    NaN           2233   \n",
       "...                                                  ...            ...   \n",
       "90648                                                NaN           2230   \n",
       "90649                                                NaN           2230   \n",
       "90650                                                NaN           2741   \n",
       "90651  La alternancia no es solo plantear cuáles niño...           2374   \n",
       "90652                                                NaN           2854   \n",
       "\n",
       "       modified_by_id  verified  verification_last_changed_by_id language  \\\n",
       "0                2232     False                              NaN       en   \n",
       "1                2233     False                              NaN       en   \n",
       "2                1152     False                              NaN       en   \n",
       "3                2233     False                              NaN       en   \n",
       "4                2233     False                              NaN       en   \n",
       "...               ...       ...                              ...      ...   \n",
       "90648              26      True                             26.0       en   \n",
       "90649            1152      True                           1152.0       en   \n",
       "90650            2272      True                            488.0       en   \n",
       "90651            2374      True                           1403.0       es   \n",
       "90652            2854      True                            488.0       fr   \n",
       "\n",
       "                                                 sectors  \\\n",
       "0                                      ['Food Security']   \n",
       "1                                             ['Health']   \n",
       "2                                              ['Cross']   \n",
       "3                                ['Health', 'Logistics']   \n",
       "4                                             ['Health']   \n",
       "...                                                  ...   \n",
       "90648                                          ['Cross']   \n",
       "90649  ['Health', 'Education', 'Protection', 'Livelih...   \n",
       "90650                                     ['Protection']   \n",
       "90651                                      ['Education']   \n",
       "90652                                         ['Health']   \n",
       "\n",
       "                                                pillars  \\\n",
       "0                                            ['Impact']   \n",
       "1                             ['Capacities & Response']   \n",
       "2                                            ['Impact']   \n",
       "3      ['Impact', 'People At Risk', 'Impact', 'Impact']   \n",
       "4                                                    []   \n",
       "...                                                 ...   \n",
       "90648                                        ['Impact']   \n",
       "90649             ['Impact', 'Humanitarian Conditions']   \n",
       "90650                                                []   \n",
       "90651                                        ['Impact']   \n",
       "90652                                                []   \n",
       "\n",
       "                                              subpillars  \n",
       "0             ['Impact->Impact On Systems And Services']  \n",
       "1      ['Capacities & Response->International Response']  \n",
       "2             ['Impact->Impact On Systems And Services']  \n",
       "3      ['Impact->Driver/Aggravating Factors', 'People...  \n",
       "4                                                     []  \n",
       "...                                                  ...  \n",
       "90648         ['Impact->Impact On Systems And Services']  \n",
       "90649  ['Impact->Driver/Aggravating Factors', 'Humani...  \n",
       "90650                                                 []  \n",
       "90651         ['Impact->Impact On Systems And Services']  \n",
       "90652                                                 []  \n",
       "\n",
       "[90653 rows x 15 columns]"
      ]
     },
     "execution_count": 20,
     "metadata": {},
     "output_type": "execute_result"
    }
   ],
   "source": [
    "train"
   ]
  },
  {
   "cell_type": "code",
   "execution_count": 9,
   "id": "6d3dace0",
   "metadata": {
    "ExecuteTime": {
     "end_time": "2021-06-07T09:29:12.497775Z",
     "start_time": "2021-06-07T09:29:12.480664Z"
    }
   },
   "outputs": [],
   "source": [
    "def process_multiclass(df, train, column='pillars', classes=PILLARS, only_english=True):\n",
    "    relevant_train = df.copy()\n",
    "    relevant_train = relevant_train[relevant_train[column].apply(len) > 0]\n",
    "    relevant_train[label_column] = relevant_train.pillars + relevant_train.subpillars\n",
    "    relevant_train[label_column] = relevant_train[label_column].apply(lambda x: ';'.join(x))\n",
    "    \n",
    "    relevant_train['is_valid'] = False if train else True\n",
    "    \n",
    "    if not only_english:\n",
    "        relevant_train['language'] = [detect(x) for x in tqdm(relevant_train.excerpt)]\n",
    "        relevant_train = relevant_train[relevant_train['language'] == 'en']\n",
    "        \n",
    "    return relevant_train\n",
    "    \n",
    "    "
   ]
  },
  {
   "cell_type": "code",
   "execution_count": 10,
   "id": "fa012c22",
   "metadata": {
    "ExecuteTime": {
     "end_time": "2021-06-07T09:32:34.551621Z",
     "start_time": "2021-06-07T09:29:12.499208Z"
    },
    "scrolled": true
   },
   "outputs": [
    {
     "name": "stderr",
     "output_type": "stream",
     "text": [
      "100%|██████████| 49319/49319 [02:57<00:00, 277.17it/s]\n",
      "100%|██████████| 6516/6516 [00:23<00:00, 275.32it/s]\n"
     ]
    }
   ],
   "source": [
    "train_df = process_multiclass(train, True, column=column, classes=classes, only_english=False)\n",
    "test_df = process_multiclass(test, False, column=column, classes=classes, only_english=False)\n",
    "df = pd.concat([train_df, test_df])"
   ]
  },
  {
   "cell_type": "code",
   "execution_count": null,
   "id": "15472a39",
   "metadata": {
    "ExecuteTime": {
     "end_time": "2021-06-03T15:43:47.947627Z",
     "start_time": "2021-06-03T15:43:47.865105Z"
    }
   },
   "outputs": [],
   "source": [
    "tmp = pd.DataFrame(train_df.pillars.explode().value_counts())\n",
    "sampling_rate = (float(tmp.max()) / tmp).to_dict()['pillars']"
   ]
  },
  {
   "cell_type": "code",
   "execution_count": null,
   "id": "43fe946f",
   "metadata": {
    "ExecuteTime": {
     "end_time": "2021-06-03T15:46:11.052978Z",
     "start_time": "2021-06-03T15:46:10.911236Z"
    }
   },
   "outputs": [],
   "source": [
    "dfs = []\n",
    "for c, rate in sampling_rate.items():\n",
    "    sampled = train_df[train_df.pillars.apply(lambda x: c in x)].sample(frac=rate, replace=True)\n",
    "    dfs.append(sampled)"
   ]
  },
  {
   "cell_type": "code",
   "execution_count": null,
   "id": "d2832912",
   "metadata": {
    "ExecuteTime": {
     "end_time": "2021-06-03T15:47:32.731326Z",
     "start_time": "2021-06-03T15:47:32.575462Z"
    }
   },
   "outputs": [],
   "source": [
    "t_df = pd.concat(dfs)\n",
    "df = pd.concat([t_df, test_df])\n",
    "df = df.reset_index(drop=True)"
   ]
  },
  {
   "cell_type": "markdown",
   "id": "f3b35555",
   "metadata": {},
   "source": [
    "## Sagemaker Prep"
   ]
  },
  {
   "cell_type": "markdown",
   "id": "2f0d3fc6",
   "metadata": {
    "ExecuteTime": {
     "end_time": "2021-05-27T15:42:32.024647Z",
     "start_time": "2021-05-27T15:42:31.984694Z"
    }
   },
   "source": [
    "### Session"
   ]
  },
  {
   "cell_type": "code",
   "execution_count": 11,
   "id": "dc60187d",
   "metadata": {
    "ExecuteTime": {
     "end_time": "2021-06-07T09:32:34.776034Z",
     "start_time": "2021-06-07T09:32:34.553061Z"
    }
   },
   "outputs": [],
   "source": [
    "sess = sagemaker.Session(default_bucket=DEV_BUCKET.name)\n",
    "role = 'AmazonSageMaker-ExecutionRole-20210519T102514'"
   ]
  },
  {
   "cell_type": "markdown",
   "id": "8509f633",
   "metadata": {},
   "source": [
    "### Bucket upload"
   ]
  },
  {
   "cell_type": "code",
   "execution_count": 12,
   "id": "7409442e",
   "metadata": {
    "ExecuteTime": {
     "end_time": "2021-06-07T09:32:50.466259Z",
     "start_time": "2021-06-07T09:32:34.777776Z"
    },
    "scrolled": true
   },
   "outputs": [],
   "source": [
    "sample = False\n",
    "\n",
    "if sample:\n",
    "    df = df.sample(100)\n",
    "    \n",
    "job_name = f\"pytorch-{formatted_time()}-fastai-5ep-english\"\n",
    "input_path = DEV_BUCKET / 'training' / 'input_data' / job_name\n",
    "\n",
    "s3_data = str(input_path / 'df.pickle')\n",
    "\n",
    "\n",
    "df.to_pickle(s3_data, protocol=4)"
   ]
  },
  {
   "cell_type": "markdown",
   "id": "99bbaa46",
   "metadata": {},
   "source": [
    "### Estimator Definition"
   ]
  },
  {
   "cell_type": "code",
   "execution_count": 13,
   "id": "32fe809f",
   "metadata": {
    "ExecuteTime": {
     "end_time": "2021-06-07T09:32:50.490344Z",
     "start_time": "2021-06-07T09:32:50.467916Z"
    }
   },
   "outputs": [],
   "source": [
    "instances = [\n",
    "    'ml.p2.xlarge',\n",
    "    'ml.p3.2xlarge'\n",
    "]"
   ]
  },
  {
   "cell_type": "code",
   "execution_count": 14,
   "id": "2b2decdc",
   "metadata": {
    "ExecuteTime": {
     "end_time": "2021-06-07T09:32:50.513716Z",
     "start_time": "2021-06-07T09:32:50.491307Z"
    }
   },
   "outputs": [
    {
     "data": {
      "text/plain": [
       "S3Path('s3://sagemaker-deep-experiments-dev/training/input_data/pytorch-2021-06-07-11-32-34-795-fastai-5ep-english')"
      ]
     },
     "execution_count": 14,
     "metadata": {},
     "output_type": "execute_result"
    }
   ],
   "source": [
    "input_path"
   ]
  },
  {
   "cell_type": "code",
   "execution_count": 15,
   "id": "9cdd672d",
   "metadata": {
    "ExecuteTime": {
     "end_time": "2021-06-07T09:32:50.595594Z",
     "start_time": "2021-06-07T09:32:50.515143Z"
    }
   },
   "outputs": [],
   "source": [
    "from sagemaker.pytorch import PyTorch\n",
    "\n",
    "hyperparameters={\n",
    "    'epochs': 3,\n",
    "    'train_batch_size': 64,\n",
    "    'learning_rate': 0.02,\n",
    "    'text_col': text_column,\n",
    "    'label_col': label_column,\n",
    "}\n",
    "\n",
    "estimator = PyTorch(\n",
    "    entry_point='train.py',\n",
    "    source_dir=str(SCRIPTS_TRAINING_PATH / 'stefano/multiclass-fastai'),\n",
    "    output_path=str(DEV_BUCKET / 'models/'),\n",
    "    code_location=str(input_path),\n",
    "    instance_type='ml.p3.2xlarge',\n",
    "    instance_count=1,\n",
    "    role=role,\n",
    "    framework_version='1.8',\n",
    "    py_version='py36',\n",
    "    hyperparameters = hyperparameters,\n",
    "    job_name=job_name,\n",
    "#     train_instance_count=2,\n",
    "#     train_instance_type=\"ml.c4.xlarge\",\n",
    ")"
   ]
  },
  {
   "cell_type": "code",
   "execution_count": 16,
   "id": "ed07c92a",
   "metadata": {
    "ExecuteTime": {
     "end_time": "2021-06-07T09:32:50.613568Z",
     "start_time": "2021-06-07T09:32:50.596505Z"
    }
   },
   "outputs": [],
   "source": [
    "fit_arguments = {\n",
    "    'train': str(input_path),\n",
    "    'test': str(input_path)\n",
    "}"
   ]
  },
  {
   "cell_type": "code",
   "execution_count": 17,
   "id": "4dea6ffc",
   "metadata": {
    "ExecuteTime": {
     "end_time": "2021-06-07T09:32:53.841829Z",
     "start_time": "2021-06-07T09:32:50.615296Z"
    },
    "scrolled": true
   },
   "outputs": [],
   "source": [
    "estimator.fit(fit_arguments, job_name=job_name, wait=False)"
   ]
  },
  {
   "cell_type": "code",
   "execution_count": null,
   "id": "b8a3273d",
   "metadata": {
    "ExecuteTime": {
     "end_time": "2021-06-03T15:48:22.697284Z",
     "start_time": "2021-06-03T15:48:21.745875Z"
    }
   },
   "outputs": [],
   "source": [
    "from sagemaker import TrainingJobAnalytics\n",
    "\n",
    "# Captured metrics can be accessed as a Pandas dataframe\n",
    "df = TrainingJobAnalytics(training_job_name=estimator.latest_training_job.name).dataframe()\n",
    "df.head(10)"
   ]
  },
  {
   "cell_type": "code",
   "execution_count": null,
   "id": "f3801355",
   "metadata": {
    "ExecuteTime": {
     "end_time": "2021-06-03T15:48:22.699715Z",
     "start_time": "2021-06-03T15:48:20.738Z"
    }
   },
   "outputs": [],
   "source": [
    "df"
   ]
  },
  {
   "cell_type": "code",
   "execution_count": null,
   "id": "89b725f2",
   "metadata": {},
   "outputs": [],
   "source": []
  },
  {
   "cell_type": "code",
   "execution_count": null,
   "id": "7fc2cd52",
   "metadata": {},
   "outputs": [],
   "source": []
  }
 ],
 "metadata": {
  "kernelspec": {
   "display_name": "Python 3",
   "language": "python",
   "name": "python3"
  },
  "language_info": {
   "codemirror_mode": {
    "name": "ipython",
    "version": 3
   },
   "file_extension": ".py",
   "mimetype": "text/x-python",
   "name": "python",
   "nbconvert_exporter": "python",
   "pygments_lexer": "ipython3",
   "version": "3.9.1"
  },
  "notify_time": "5",
  "toc": {
   "base_numbering": 1,
   "nav_menu": {},
   "number_sections": true,
   "sideBar": true,
   "skip_h1_title": false,
   "title_cell": "Table of Contents",
   "title_sidebar": "Contents",
   "toc_cell": false,
   "toc_position": {},
   "toc_section_display": true,
   "toc_window_display": false
  }
 },
 "nbformat": 4,
 "nbformat_minor": 5
}
