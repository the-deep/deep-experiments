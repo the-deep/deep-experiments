{
 "cells": [
  {
   "cell_type": "markdown",
   "id": "a5079ffd",
   "metadata": {},
   "source": [
    "Using kernel `conda_pytorch_latest_p36`"
   ]
  },
  {
   "cell_type": "markdown",
   "id": "c116fc0a",
   "metadata": {
    "ExecuteTime": {
     "end_time": "2021-06-08T08:56:30.597058Z",
     "start_time": "2021-06-08T08:56:30.579481Z"
    }
   },
   "source": [
    "We take inspiration from [this paper](https://arxiv.org/pdf/2104.14690.pdf)"
   ]
  },
  {
   "cell_type": "code",
   "execution_count": 1,
   "id": "0b889dcf",
   "metadata": {
    "ExecuteTime": {
     "end_time": "2021-06-09T08:27:21.738975Z",
     "start_time": "2021-06-09T08:27:21.731784Z"
    },
    "scrolled": true
   },
   "outputs": [],
   "source": [
    "# !pip install cloudpathlib\n",
    "# !pip install s3fs\n",
    "# !pip install transformers\\\n",
    "# !pip install pytorch-lightning"
   ]
  },
  {
   "cell_type": "markdown",
   "id": "a5148dbe",
   "metadata": {},
   "source": [
    "# Import"
   ]
  },
  {
   "cell_type": "code",
   "execution_count": 2,
   "id": "3395fb4f",
   "metadata": {
    "ExecuteTime": {
     "end_time": "2021-06-09T08:27:22.086256Z",
     "start_time": "2021-06-09T08:27:22.080589Z"
    }
   },
   "outputs": [],
   "source": [
    "import sys\n",
    "sys.path.append('../../../')"
   ]
  },
  {
   "cell_type": "code",
   "execution_count": 3,
   "id": "f5b6a45f",
   "metadata": {
    "ExecuteTime": {
     "end_time": "2021-06-09T08:27:22.503875Z",
     "start_time": "2021-06-09T08:27:22.497884Z"
    }
   },
   "outputs": [],
   "source": [
    "from pathlib import Path\n",
    "import os\n",
    "import random\n",
    "import json\n",
    "from datetime import datetime"
   ]
  },
  {
   "cell_type": "code",
   "execution_count": 4,
   "id": "7ef0e20e",
   "metadata": {
    "ExecuteTime": {
     "end_time": "2021-06-09T08:27:24.915651Z",
     "start_time": "2021-06-09T08:27:22.730235Z"
    }
   },
   "outputs": [],
   "source": [
    "import pandas as pd\n",
    "import numpy as np\n",
    "from sklearn.metrics import classification_report\n",
    "import torch\n",
    "import sagemaker\n",
    "from sagemaker import get_execution_role\n",
    "import boto3\n",
    "import torch.nn as nn\n",
    "from sklearn.preprocessing import MultiLabelBinarizer\n",
    "from torch.utils.data import DataLoader,Dataset\n",
    "from tqdm import tqdm\n",
    "from langdetect import detect"
   ]
  },
  {
   "cell_type": "code",
   "execution_count": 5,
   "id": "94f0dded",
   "metadata": {
    "ExecuteTime": {
     "end_time": "2021-06-09T08:27:25.006304Z",
     "start_time": "2021-06-09T08:27:24.916732Z"
    },
    "scrolled": true
   },
   "outputs": [],
   "source": [
    "from deep.constants import *\n",
    "from deep.utils import *"
   ]
  },
  {
   "cell_type": "code",
   "execution_count": 6,
   "id": "7a68c43d",
   "metadata": {
    "ExecuteTime": {
     "end_time": "2021-06-09T08:27:25.025732Z",
     "start_time": "2021-06-09T08:27:25.007623Z"
    }
   },
   "outputs": [],
   "source": [
    "%load_ext autoreload\n",
    "%autoreload 2"
   ]
  },
  {
   "cell_type": "markdown",
   "id": "314e88fa",
   "metadata": {},
   "source": [
    "## Data"
   ]
  },
  {
   "cell_type": "code",
   "execution_count": 7,
   "id": "8f87a8d9",
   "metadata": {
    "ExecuteTime": {
     "end_time": "2021-06-09T08:27:25.044018Z",
     "start_time": "2021-06-09T08:27:25.026773Z"
    }
   },
   "outputs": [],
   "source": [
    "def preprocessing(df):\n",
    "    df = df.copy()\n",
    "    df['sectors'] = df['sectors'].apply(eval)    \n",
    "    df['pillars'] = df['pillars'].apply(eval)\n",
    "    df['pillars'] = df['pillars'].apply(lambda x: list(set(x)))\n",
    "    df['subpillars'] = df['subpillars'].apply(eval)\n",
    "    return df"
   ]
  },
  {
   "cell_type": "code",
   "execution_count": 9,
   "id": "37c4ef8e",
   "metadata": {
    "ExecuteTime": {
     "end_time": "2021-06-09T08:27:39.204305Z",
     "start_time": "2021-06-09T08:27:39.162675Z"
    }
   },
   "outputs": [],
   "source": [
    "column = 'subpillars'\n",
    "classes=SUBPILLARS\n",
    "text_column = 'excerpt'\n",
    "entail_text_column = 'entail_excerpt'\n",
    "label_column = 'entail_labels'"
   ]
  },
  {
   "cell_type": "code",
   "execution_count": 11,
   "id": "350de4d7",
   "metadata": {
    "ExecuteTime": {
     "end_time": "2021-06-09T08:27:55.091543Z",
     "start_time": "2021-06-09T08:27:52.687659Z"
    },
    "scrolled": true
   },
   "outputs": [],
   "source": [
    "train = preprocessing(pd.read_csv(LATEST_DATA_PATH / 'data_v0.4.4_train.csv', index_col=0))\n",
    "val = preprocessing(pd.read_csv(LATEST_DATA_PATH / 'data_v0.4.4_val.csv', index_col=0))\n",
    "test = preprocessing(pd.read_csv(LATEST_DATA_PATH / 'data_v0.4.4_test.csv', index_col=0))"
   ]
  },
  {
   "cell_type": "code",
   "execution_count": 13,
   "id": "6d3dace0",
   "metadata": {
    "ExecuteTime": {
     "end_time": "2021-06-09T08:28:48.793854Z",
     "start_time": "2021-06-09T08:28:48.745232Z"
    }
   },
   "outputs": [],
   "source": [
    "def process_entailment(df, train, column, classes, only_en=True, drop_empty=True):\n",
    "    df = df.copy()\n",
    "    \n",
    "    if only_en:\n",
    "        df = df[df['language'] == 'en']\n",
    "    if drop_empty:\n",
    "        df = df[df.pillars.apply(len) > 0]\n",
    "    \n",
    "    df[entail_text_column] = [\n",
    "        [x + f' This sentence is about {y.split(\"->\")[1]}.' for y in classes] \n",
    "        for x in df[text_column]\n",
    "    ]\n",
    "    df[label_column] = [[1 if z in y else 0 for z in classes] for y in df[column]]\n",
    "    df = df.set_index(\n",
    "        ['entry_id', text_column]\n",
    "    )[[entail_text_column, label_column]].apply(pd.Series.explode).reset_index()\n",
    "    \n",
    "    df['is_valid'] = False if train else True\n",
    "        \n",
    "    return df\n",
    "    \n",
    "    "
   ]
  },
  {
   "cell_type": "code",
   "execution_count": 14,
   "id": "fa012c22",
   "metadata": {
    "ExecuteTime": {
     "end_time": "2021-06-09T08:28:51.226226Z",
     "start_time": "2021-06-09T08:28:50.145427Z"
    },
    "scrolled": true
   },
   "outputs": [],
   "source": [
    "train_df = process_entailment(train, True, column=column, classes=classes)\n",
    "test_df = process_entailment(test, False, column=column, classes=classes)\n",
    "df = pd.concat([train_df, test_df])"
   ]
  },
  {
   "cell_type": "code",
   "execution_count": 17,
   "id": "15472a39",
   "metadata": {
    "ExecuteTime": {
     "end_time": "2021-06-09T08:29:17.937697Z",
     "start_time": "2021-06-09T08:29:17.904503Z"
    }
   },
   "outputs": [],
   "source": [
    "# # tmp = pd.DataFrame(train_df.pillars.explode().value_counts())\n",
    "# sampling_rate = (float(tmp.max()) / tmp).to_dict()['pillars']"
   ]
  },
  {
   "cell_type": "code",
   "execution_count": 18,
   "id": "43fe946f",
   "metadata": {
    "ExecuteTime": {
     "end_time": "2021-06-09T08:29:18.139508Z",
     "start_time": "2021-06-09T08:29:18.104482Z"
    }
   },
   "outputs": [],
   "source": [
    "# dfs = []\n",
    "# for c, rate in sampling_rate.items():\n",
    "#     sampled = train_df[train_df.pillars.apply(lambda x: c in x)].sample(frac=rate, replace=True)\n",
    "#     dfs.append(sampled)"
   ]
  },
  {
   "cell_type": "code",
   "execution_count": 19,
   "id": "d2832912",
   "metadata": {
    "ExecuteTime": {
     "end_time": "2021-06-09T08:29:18.361332Z",
     "start_time": "2021-06-09T08:29:18.315694Z"
    }
   },
   "outputs": [],
   "source": [
    "# t_df = pd.concat(dfs)\n",
    "# df = pd.concat([t_df, test_df])\n",
    "# df = df.reset_index(drop=True)"
   ]
  },
  {
   "cell_type": "markdown",
   "id": "f3b35555",
   "metadata": {},
   "source": [
    "## Sagemaker Prep"
   ]
  },
  {
   "cell_type": "markdown",
   "id": "2f0d3fc6",
   "metadata": {
    "ExecuteTime": {
     "end_time": "2021-05-27T15:42:32.024647Z",
     "start_time": "2021-05-27T15:42:31.984694Z"
    }
   },
   "source": [
    "### Session"
   ]
  },
  {
   "cell_type": "code",
   "execution_count": 20,
   "id": "dc60187d",
   "metadata": {
    "ExecuteTime": {
     "end_time": "2021-06-09T08:29:20.899415Z",
     "start_time": "2021-06-09T08:29:19.327852Z"
    }
   },
   "outputs": [],
   "source": [
    "sess = sagemaker.Session(default_bucket=DEV_BUCKET.name)\n",
    "role = 'AmazonSageMaker-ExecutionRole-20210519T102514'"
   ]
  },
  {
   "cell_type": "markdown",
   "id": "8509f633",
   "metadata": {},
   "source": [
    "### Bucket upload"
   ]
  },
  {
   "cell_type": "code",
   "execution_count": 21,
   "id": "7409442e",
   "metadata": {
    "ExecuteTime": {
     "end_time": "2021-06-09T08:31:43.201910Z",
     "start_time": "2021-06-09T08:29:28.837139Z"
    },
    "scrolled": true
   },
   "outputs": [],
   "source": [
    "sample = False\n",
    "\n",
    "if sample:\n",
    "    df = df.sample(100)\n",
    "    \n",
    "job_name = f\"pytorch-{formatted_time()}-fastai-entailsubpil-english\"\n",
    "input_path = DEV_BUCKET / 'training' / 'input_data' / job_name\n",
    "\n",
    "s3_data = str(input_path / 'df.pickle')\n",
    "\n",
    "\n",
    "df.to_pickle(s3_data, protocol=4)"
   ]
  },
  {
   "cell_type": "markdown",
   "id": "99bbaa46",
   "metadata": {},
   "source": [
    "### Estimator Definition"
   ]
  },
  {
   "cell_type": "code",
   "execution_count": 22,
   "id": "32fe809f",
   "metadata": {
    "ExecuteTime": {
     "end_time": "2021-06-09T08:31:43.284096Z",
     "start_time": "2021-06-09T08:31:43.206457Z"
    }
   },
   "outputs": [],
   "source": [
    "instances = [\n",
    "    'ml.p2.xlarge',\n",
    "    'ml.p3.2xlarge'\n",
    "]"
   ]
  },
  {
   "cell_type": "code",
   "execution_count": 23,
   "id": "2b2decdc",
   "metadata": {
    "ExecuteTime": {
     "end_time": "2021-06-09T08:31:43.303558Z",
     "start_time": "2021-06-09T08:31:43.285723Z"
    }
   },
   "outputs": [
    {
     "data": {
      "text/plain": [
       "S3Path('s3://sagemaker-deep-experiments-dev/training/input_data/pytorch-2021-06-09-10-29-28-880-fastai-entailsubpil-english')"
      ]
     },
     "execution_count": 23,
     "metadata": {},
     "output_type": "execute_result"
    }
   ],
   "source": [
    "input_path"
   ]
  },
  {
   "cell_type": "code",
   "execution_count": 24,
   "id": "9cdd672d",
   "metadata": {
    "ExecuteTime": {
     "end_time": "2021-06-09T08:31:43.458886Z",
     "start_time": "2021-06-09T08:31:43.304626Z"
    }
   },
   "outputs": [],
   "source": [
    "from sagemaker.pytorch import PyTorch\n",
    "\n",
    "hyperparameters={\n",
    "    'epochs': 3,\n",
    "    'train_batch_size': 64,\n",
    "    'learning_rate': 0.02,\n",
    "    'text_col': entail_text_column,\n",
    "    'label_col': label_column,\n",
    "    'multi_category': 0\n",
    "}\n",
    "\n",
    "estimator = PyTorch(\n",
    "    entry_point='train.py',\n",
    "    source_dir=str(SCRIPTS_TRAINING_PATH / 'stefano/multiclass-fastai'),\n",
    "    output_path=str(DEV_BUCKET / 'models/'),\n",
    "    code_location=str(input_path),\n",
    "    instance_type='ml.p3.2xlarge',\n",
    "    instance_count=1,\n",
    "    role=role,\n",
    "    framework_version='1.8',\n",
    "    py_version='py36',\n",
    "    hyperparameters = hyperparameters,\n",
    "    job_name=job_name,\n",
    "#     train_instance_count=2,\n",
    "#     train_instance_type=\"ml.c4.xlarge\",\n",
    ")"
   ]
  },
  {
   "cell_type": "code",
   "execution_count": 25,
   "id": "ed07c92a",
   "metadata": {
    "ExecuteTime": {
     "end_time": "2021-06-09T08:31:43.482969Z",
     "start_time": "2021-06-09T08:31:43.459884Z"
    }
   },
   "outputs": [],
   "source": [
    "fit_arguments = {\n",
    "    'train': str(input_path),\n",
    "    'test': str(input_path)\n",
    "}"
   ]
  },
  {
   "cell_type": "code",
   "execution_count": 26,
   "id": "4dea6ffc",
   "metadata": {
    "ExecuteTime": {
     "end_time": "2021-06-09T08:31:45.995868Z",
     "start_time": "2021-06-09T08:31:43.484212Z"
    },
    "scrolled": true
   },
   "outputs": [],
   "source": [
    "estimator.fit(fit_arguments, job_name=job_name, wait=False)"
   ]
  },
  {
   "cell_type": "code",
   "execution_count": null,
   "id": "b8a3273d",
   "metadata": {
    "ExecuteTime": {
     "end_time": "2021-06-08T15:17:49.103568Z",
     "start_time": "2021-06-08T15:17:41.561Z"
    }
   },
   "outputs": [],
   "source": [
    "from sagemaker import TrainingJobAnalytics\n",
    "\n",
    "# Captured metrics can be accessed as a Pandas dataframe\n",
    "df = TrainingJobAnalytics(training_job_name=estimator.latest_training_job.name).dataframe()\n",
    "df.head(10)"
   ]
  },
  {
   "cell_type": "code",
   "execution_count": null,
   "id": "f3801355",
   "metadata": {
    "ExecuteTime": {
     "end_time": "2021-06-08T15:17:49.104606Z",
     "start_time": "2021-06-08T15:17:41.562Z"
    }
   },
   "outputs": [],
   "source": [
    "df"
   ]
  },
  {
   "cell_type": "code",
   "execution_count": null,
   "id": "89b725f2",
   "metadata": {},
   "outputs": [],
   "source": []
  },
  {
   "cell_type": "code",
   "execution_count": null,
   "id": "7fc2cd52",
   "metadata": {},
   "outputs": [],
   "source": []
  }
 ],
 "metadata": {
  "kernelspec": {
   "display_name": "Python 3",
   "language": "python",
   "name": "python3"
  },
  "language_info": {
   "codemirror_mode": {
    "name": "ipython",
    "version": 3
   },
   "file_extension": ".py",
   "mimetype": "text/x-python",
   "name": "python",
   "nbconvert_exporter": "python",
   "pygments_lexer": "ipython3",
   "version": "3.9.1"
  },
  "notify_time": "5",
  "toc": {
   "base_numbering": 1,
   "nav_menu": {},
   "number_sections": true,
   "sideBar": true,
   "skip_h1_title": false,
   "title_cell": "Table of Contents",
   "title_sidebar": "Contents",
   "toc_cell": false,
   "toc_position": {},
   "toc_section_display": true,
   "toc_window_display": false
  }
 },
 "nbformat": 4,
 "nbformat_minor": 5
}
