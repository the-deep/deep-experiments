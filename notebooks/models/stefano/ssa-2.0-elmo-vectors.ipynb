{
 "cells": [
  {
   "cell_type": "code",
   "execution_count": 1,
   "id": "d7cb1e83",
   "metadata": {
    "scrolled": true
   },
   "outputs": [],
   "source": [
    "# !pip install allennlp"
   ]
  },
  {
   "cell_type": "code",
   "execution_count": 2,
   "id": "57898fae",
   "metadata": {},
   "outputs": [],
   "source": [
    "from pathlib import Path\n",
    "from tqdm import tqdm\n",
    "import pickle"
   ]
  },
  {
   "cell_type": "code",
   "execution_count": 3,
   "id": "1cecad11",
   "metadata": {},
   "outputs": [],
   "source": [
    "from allennlp.modules.elmo import Elmo, batch_to_ids\n",
    "import torch"
   ]
  },
  {
   "cell_type": "code",
   "execution_count": 4,
   "id": "47bb62b1",
   "metadata": {},
   "outputs": [],
   "source": [
    "import pandas as pd"
   ]
  },
  {
   "cell_type": "code",
   "execution_count": 5,
   "id": "c06a473c",
   "metadata": {},
   "outputs": [],
   "source": [
    "data = Path('data_prep/final_data/en/')\n",
    "elmo_path = Path('models/elmo_small/')"
   ]
  },
  {
   "cell_type": "code",
   "execution_count": 6,
   "id": "6270f29b",
   "metadata": {},
   "outputs": [],
   "source": [
    "raw = pd.read_csv('data_prep/data/entries_raw.csv')\n",
    "train = pd.read_csv(data / 'sentences_en_train.csv')\n",
    "test = pd.read_csv(data / 'sentences_en_test.csv')"
   ]
  },
  {
   "cell_type": "code",
   "execution_count": 7,
   "id": "830a7766",
   "metadata": {},
   "outputs": [],
   "source": [
    "sentences = [x.split() for x in train.sentence_text]"
   ]
  },
  {
   "cell_type": "code",
   "execution_count": 8,
   "id": "91a40c92",
   "metadata": {
    "scrolled": true
   },
   "outputs": [
    {
     "data": {
      "text/plain": [
       "Elmo(\n",
       "  (_elmo_lstm): _ElmoBiLm(\n",
       "    (_token_embedder): _ElmoCharacterEncoder(\n",
       "      (char_conv_0): Conv1d(16, 32, kernel_size=(1,), stride=(1,))\n",
       "      (char_conv_1): Conv1d(16, 32, kernel_size=(2,), stride=(1,))\n",
       "      (char_conv_2): Conv1d(16, 64, kernel_size=(3,), stride=(1,))\n",
       "      (char_conv_3): Conv1d(16, 128, kernel_size=(4,), stride=(1,))\n",
       "      (char_conv_4): Conv1d(16, 256, kernel_size=(5,), stride=(1,))\n",
       "      (char_conv_5): Conv1d(16, 512, kernel_size=(6,), stride=(1,))\n",
       "      (char_conv_6): Conv1d(16, 1024, kernel_size=(7,), stride=(1,))\n",
       "      (_highways): Highway(\n",
       "        (_layers): ModuleList(\n",
       "          (0): Linear(in_features=2048, out_features=4096, bias=True)\n",
       "        )\n",
       "      )\n",
       "      (_projection): Linear(in_features=2048, out_features=128, bias=True)\n",
       "    )\n",
       "    (_elmo_lstm): ElmoLstm(\n",
       "      (forward_layer_0): LstmCellWithProjection(\n",
       "        (input_linearity): Linear(in_features=128, out_features=4096, bias=False)\n",
       "        (state_linearity): Linear(in_features=128, out_features=4096, bias=True)\n",
       "        (state_projection): Linear(in_features=1024, out_features=128, bias=False)\n",
       "      )\n",
       "      (backward_layer_0): LstmCellWithProjection(\n",
       "        (input_linearity): Linear(in_features=128, out_features=4096, bias=False)\n",
       "        (state_linearity): Linear(in_features=128, out_features=4096, bias=True)\n",
       "        (state_projection): Linear(in_features=1024, out_features=128, bias=False)\n",
       "      )\n",
       "      (forward_layer_1): LstmCellWithProjection(\n",
       "        (input_linearity): Linear(in_features=128, out_features=4096, bias=False)\n",
       "        (state_linearity): Linear(in_features=128, out_features=4096, bias=True)\n",
       "        (state_projection): Linear(in_features=1024, out_features=128, bias=False)\n",
       "      )\n",
       "      (backward_layer_1): LstmCellWithProjection(\n",
       "        (input_linearity): Linear(in_features=128, out_features=4096, bias=False)\n",
       "        (state_linearity): Linear(in_features=128, out_features=4096, bias=True)\n",
       "        (state_projection): Linear(in_features=1024, out_features=128, bias=False)\n",
       "      )\n",
       "    )\n",
       "  )\n",
       "  (_dropout): Dropout(p=0.5, inplace=False)\n",
       "  (scalar_mix_0): ScalarMix(\n",
       "    (scalar_parameters): ParameterList(\n",
       "        (0): Parameter containing: [torch.cuda.FloatTensor of size 1 (GPU 0)]\n",
       "        (1): Parameter containing: [torch.cuda.FloatTensor of size 1 (GPU 0)]\n",
       "        (2): Parameter containing: [torch.cuda.FloatTensor of size 1 (GPU 0)]\n",
       "    )\n",
       "  )\n",
       ")"
      ]
     },
     "execution_count": 8,
     "metadata": {},
     "output_type": "execute_result"
    }
   ],
   "source": [
    "model = Elmo(\n",
    "    options_file=elmo_path / 'elmo_2x1024_128_2048cnn_1xhighway_options.json',\n",
    "    weight_file=elmo_path / 'elmo_2x1024_128_2048cnn_1xhighway_weights.hdf5',\n",
    "    num_output_representations=1\n",
    ")\n",
    "model.cuda()"
   ]
  },
  {
   "cell_type": "code",
   "execution_count": 9,
   "id": "21572580",
   "metadata": {
    "scrolled": true
   },
   "outputs": [
    {
     "name": "stderr",
     "output_type": "stream",
     "text": [
      "100%|██████████| 300/300 [05:19<00:00,  1.06s/it]\n"
     ]
    }
   ],
   "source": [
    "output = []\n",
    "batch_size = 64\n",
    "with torch.no_grad():\n",
    "    for i in tqdm(range(0, len(sentences), batch_size*10)):\n",
    "        batch = batch_to_ids(sentences[i:i+batch_size])[:, :350, :].cuda()\n",
    "#         print(batch.shape)\n",
    "    #     print(batch.shape)\n",
    "        output.append(model(batch)['elmo_representations'][0].cpu())\n",
    "#         batch.cpu()"
   ]
  },
  {
   "cell_type": "code",
   "execution_count": 10,
   "id": "ef778d82",
   "metadata": {},
   "outputs": [
    {
     "data": {
      "text/plain": [
       "3000"
      ]
     },
     "execution_count": 10,
     "metadata": {},
     "output_type": "execute_result"
    }
   ],
   "source": [
    "len(output)"
   ]
  },
  {
   "cell_type": "code",
   "execution_count": 11,
   "id": "7dbb37d4",
   "metadata": {},
   "outputs": [],
   "source": [
    "# base = Path('/home/ec2-user/SageMaker/experiments-dfs/models/elmo_small/results/sentence_embedding')\n",
    "# for i in tqdm(range(0, len(output), 64)):\n",
    "#     with open(base / f'{i}.pickle', 'wb') as f:\n",
    "#         pickle.dump(output[i:i+64], f)"
   ]
  },
  {
   "cell_type": "code",
   "execution_count": 12,
   "id": "65ce2f17",
   "metadata": {},
   "outputs": [
    {
     "data": {
      "text/plain": [
       "torch.Size([64, 84, 256])"
      ]
     },
     "execution_count": 12,
     "metadata": {},
     "output_type": "execute_result"
    }
   ],
   "source": [
    "output[0].shape"
   ]
  },
  {
   "cell_type": "code",
   "execution_count": 13,
   "id": "daf1ae87",
   "metadata": {},
   "outputs": [],
   "source": [
    "sentence_output = [x.mean(axis=1) for x in output]\n",
    "sentence_output = torch.cat(sentence_output)"
   ]
  },
  {
   "cell_type": "code",
   "execution_count": 14,
   "id": "5a1867be",
   "metadata": {},
   "outputs": [
    {
     "ename": "NameError",
     "evalue": "name 'base' is not defined",
     "output_type": "error",
     "traceback": [
      "\u001b[0;31m---------------------------------------------------------------------------\u001b[0m",
      "\u001b[0;31mNameError\u001b[0m                                 Traceback (most recent call last)",
      "\u001b[0;32m<ipython-input-14-04516d0587b6>\u001b[0m in \u001b[0;36m<module>\u001b[0;34m\u001b[0m\n\u001b[0;32m----> 1\u001b[0;31m \u001b[0;32mwith\u001b[0m \u001b[0mopen\u001b[0m\u001b[0;34m(\u001b[0m\u001b[0mbase\u001b[0m \u001b[0;34m/\u001b[0m \u001b[0;34mf'sentence_output.pickle'\u001b[0m\u001b[0;34m,\u001b[0m \u001b[0;34m'wb'\u001b[0m\u001b[0;34m)\u001b[0m \u001b[0;32mas\u001b[0m \u001b[0mf\u001b[0m\u001b[0;34m:\u001b[0m\u001b[0;34m\u001b[0m\u001b[0;34m\u001b[0m\u001b[0m\n\u001b[0m\u001b[1;32m      2\u001b[0m     \u001b[0mpickle\u001b[0m\u001b[0;34m.\u001b[0m\u001b[0mdump\u001b[0m\u001b[0;34m(\u001b[0m\u001b[0msentence_output\u001b[0m\u001b[0;34m,\u001b[0m \u001b[0mf\u001b[0m\u001b[0;34m)\u001b[0m\u001b[0;34m\u001b[0m\u001b[0;34m\u001b[0m\u001b[0m\n",
      "\u001b[0;31mNameError\u001b[0m: name 'base' is not defined"
     ]
    }
   ],
   "source": [
    "with open(base / f'sentence_output.pickle', 'wb') as f:\n",
    "    pickle.dump(sentence_output, f)"
   ]
  },
  {
   "cell_type": "code",
   "execution_count": null,
   "id": "686daa2d",
   "metadata": {
    "scrolled": true
   },
   "outputs": [],
   "source": [
    "!pwd"
   ]
  },
  {
   "cell_type": "code",
   "execution_count": null,
   "id": "50d5e91d",
   "metadata": {},
   "outputs": [],
   "source": []
  }
 ],
 "metadata": {
  "kernelspec": {
   "display_name": "conda_pytorch_latest_p36",
   "language": "python",
   "name": "conda_pytorch_latest_p36"
  },
  "language_info": {
   "codemirror_mode": {
    "name": "ipython",
    "version": 3
   },
   "file_extension": ".py",
   "mimetype": "text/x-python",
   "name": "python",
   "nbconvert_exporter": "python",
   "pygments_lexer": "ipython3",
   "version": "3.6.13"
  }
 },
 "nbformat": 4,
 "nbformat_minor": 5
}
