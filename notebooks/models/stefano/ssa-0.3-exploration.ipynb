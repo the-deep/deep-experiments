{
 "cells": [
  {
   "cell_type": "markdown",
   "id": "a2c7d55d",
   "metadata": {},
   "source": [
    "Using kernel `conda_pytorch_latest_p36`"
   ]
  },
  {
   "cell_type": "markdown",
   "id": "621133db",
   "metadata": {},
   "source": [
    "# Import"
   ]
  },
  {
   "cell_type": "code",
   "execution_count": 1,
   "id": "4bf313a5",
   "metadata": {
    "ExecuteTime": {
     "end_time": "2021-06-03T12:01:34.955008Z",
     "start_time": "2021-06-03T12:01:34.951075Z"
    },
    "scrolled": true
   },
   "outputs": [],
   "source": [
    "# !pip install transformers\n",
    "# !pip install datasets"
   ]
  },
  {
   "cell_type": "code",
   "execution_count": 2,
   "id": "d1df8cff",
   "metadata": {
    "ExecuteTime": {
     "end_time": "2021-06-03T12:01:35.114020Z",
     "start_time": "2021-06-03T12:01:35.109273Z"
    }
   },
   "outputs": [],
   "source": [
    "import sys\n",
    "sys.path.append('../../../')"
   ]
  },
  {
   "cell_type": "code",
   "execution_count": 3,
   "id": "8d571bc3",
   "metadata": {
    "ExecuteTime": {
     "end_time": "2021-06-03T12:01:35.268905Z",
     "start_time": "2021-06-03T12:01:35.265146Z"
    }
   },
   "outputs": [],
   "source": [
    "from pathlib import Path\n",
    "import os\n",
    "import random\n",
    "import pickle"
   ]
  },
  {
   "cell_type": "code",
   "execution_count": 4,
   "id": "22649486",
   "metadata": {
    "ExecuteTime": {
     "end_time": "2021-06-03T12:01:36.786516Z",
     "start_time": "2021-06-03T12:01:35.432860Z"
    }
   },
   "outputs": [],
   "source": [
    "import pandas as pd\n",
    "import numpy as np\n",
    "import matplotlib.pyplot as plt\n",
    "from transformers import DistilBertForSequenceClassification, DistilBertTokenizerFast, Trainer, TrainingArguments\n",
    "from sklearn.metrics import classification_report, precision_recall_fscore_support, precision_score, f1_score, recall_score\n",
    "from sklearn.preprocessing import MultiLabelBinarizer\n",
    "import torch"
   ]
  },
  {
   "cell_type": "code",
   "execution_count": 5,
   "id": "e6f9bd78",
   "metadata": {
    "ExecuteTime": {
     "end_time": "2021-06-03T12:01:36.925993Z",
     "start_time": "2021-06-03T12:01:36.787562Z"
    }
   },
   "outputs": [],
   "source": [
    "from deep.constants import *"
   ]
  },
  {
   "cell_type": "markdown",
   "id": "940d26b6",
   "metadata": {},
   "source": [
    "# Data"
   ]
  },
  {
   "cell_type": "code",
   "execution_count": 16,
   "id": "47f41790",
   "metadata": {
    "ExecuteTime": {
     "end_time": "2021-06-03T16:14:10.014724Z",
     "start_time": "2021-06-03T16:14:08.041072Z"
    }
   },
   "outputs": [
    {
     "name": "stderr",
     "output_type": "stream",
     "text": [
      "Some weights of the model checkpoint at distilbert-base-uncased were not used when initializing DistilBertForSequenceClassification: ['vocab_projector.bias', 'vocab_projector.weight', 'vocab_layer_norm.bias', 'vocab_transform.weight', 'vocab_layer_norm.weight', 'vocab_transform.bias']\n",
      "- This IS expected if you are initializing DistilBertForSequenceClassification from the checkpoint of a model trained on another task or with another architecture (e.g. initializing a BertForSequenceClassification model from a BertForPreTraining model).\n",
      "- This IS NOT expected if you are initializing DistilBertForSequenceClassification from the checkpoint of a model that you expect to be exactly identical (initializing a BertForSequenceClassification model from a BertForSequenceClassification model).\n",
      "Some weights of DistilBertForSequenceClassification were not initialized from the model checkpoint at distilbert-base-uncased and are newly initialized: ['pre_classifier.bias', 'classifier.weight', 'classifier.bias', 'pre_classifier.weight']\n",
      "You should probably TRAIN this model on a down-stream task to be able to use it for predictions and inference.\n"
     ]
    }
   ],
   "source": [
    "a = DistilBertForSequenceClassification.from_pretrained('distilbert-base-uncased')"
   ]
  },
  {
   "cell_type": "code",
   "execution_count": 18,
   "id": "a298d9a4",
   "metadata": {
    "ExecuteTime": {
     "end_time": "2021-06-03T16:14:24.531070Z",
     "start_time": "2021-06-03T16:14:20.377076Z"
    }
   },
   "outputs": [],
   "source": [
    "import torchvision, torch"
   ]
  },
  {
   "cell_type": "code",
   "execution_count": 19,
   "id": "92fc1340",
   "metadata": {
    "ExecuteTime": {
     "end_time": "2021-06-03T16:14:32.150655Z",
     "start_time": "2021-06-03T16:14:31.890467Z"
    }
   },
   "outputs": [
    {
     "ename": "UnsupportedNodeError",
     "evalue": "GeneratorExp aren't supported:\n  File \"/Users/stefano/miniconda3/envs/deep-exp/lib/python3.9/site-packages/transformers/models/distilbert/modeling_distilbert.py\", line 323\n    \n        if not return_dict:\n            return tuple(v for v in [hidden_state, all_hidden_states, all_attentions] if v is not None)\n                        ~ <--- HERE\n        return BaseModelOutput(\n            last_hidden_state=hidden_state, hidden_states=all_hidden_states, attentions=all_attentions\n",
     "output_type": "error",
     "traceback": [
      "\u001b[0;31m---------------------------------------------------------------------------\u001b[0m",
      "\u001b[0;31mUnsupportedNodeError\u001b[0m                      Traceback (most recent call last)",
      "\u001b[0;32m<ipython-input-19-031c3844ddec>\u001b[0m in \u001b[0;36m<module>\u001b[0;34m\u001b[0m\n\u001b[0;32m----> 1\u001b[0;31m \u001b[0mtorch\u001b[0m\u001b[0;34m.\u001b[0m\u001b[0mjit\u001b[0m\u001b[0;34m.\u001b[0m\u001b[0mscript\u001b[0m\u001b[0;34m(\u001b[0m\u001b[0ma\u001b[0m\u001b[0;34m)\u001b[0m\u001b[0;34m\u001b[0m\u001b[0;34m\u001b[0m\u001b[0m\n\u001b[0m",
      "\u001b[0;32m~/miniconda3/envs/deep-exp/lib/python3.9/site-packages/torch/jit/_script.py\u001b[0m in \u001b[0;36mscript\u001b[0;34m(obj, optimize, _frames_up, _rcb)\u001b[0m\n\u001b[1;32m    940\u001b[0m     \u001b[0;32mif\u001b[0m \u001b[0misinstance\u001b[0m\u001b[0;34m(\u001b[0m\u001b[0mobj\u001b[0m\u001b[0;34m,\u001b[0m \u001b[0mtorch\u001b[0m\u001b[0;34m.\u001b[0m\u001b[0mnn\u001b[0m\u001b[0;34m.\u001b[0m\u001b[0mModule\u001b[0m\u001b[0;34m)\u001b[0m\u001b[0;34m:\u001b[0m\u001b[0;34m\u001b[0m\u001b[0;34m\u001b[0m\u001b[0m\n\u001b[1;32m    941\u001b[0m         \u001b[0mobj\u001b[0m \u001b[0;34m=\u001b[0m \u001b[0mcall_prepare_scriptable_func\u001b[0m\u001b[0;34m(\u001b[0m\u001b[0mobj\u001b[0m\u001b[0;34m)\u001b[0m\u001b[0;34m\u001b[0m\u001b[0;34m\u001b[0m\u001b[0m\n\u001b[0;32m--> 942\u001b[0;31m         return torch.jit._recursive.create_script_module(\n\u001b[0m\u001b[1;32m    943\u001b[0m             \u001b[0mobj\u001b[0m\u001b[0;34m,\u001b[0m \u001b[0mtorch\u001b[0m\u001b[0;34m.\u001b[0m\u001b[0mjit\u001b[0m\u001b[0;34m.\u001b[0m\u001b[0m_recursive\u001b[0m\u001b[0;34m.\u001b[0m\u001b[0minfer_methods_to_compile\u001b[0m\u001b[0;34m\u001b[0m\u001b[0;34m\u001b[0m\u001b[0m\n\u001b[1;32m    944\u001b[0m         )\n",
      "\u001b[0;32m~/miniconda3/envs/deep-exp/lib/python3.9/site-packages/torch/jit/_recursive.py\u001b[0m in \u001b[0;36mcreate_script_module\u001b[0;34m(nn_module, stubs_fn, share_types)\u001b[0m\n\u001b[1;32m    389\u001b[0m     \u001b[0mcheck_module_initialized\u001b[0m\u001b[0;34m(\u001b[0m\u001b[0mnn_module\u001b[0m\u001b[0;34m)\u001b[0m\u001b[0;34m\u001b[0m\u001b[0;34m\u001b[0m\u001b[0m\n\u001b[1;32m    390\u001b[0m     \u001b[0mconcrete_type\u001b[0m \u001b[0;34m=\u001b[0m \u001b[0mget_module_concrete_type\u001b[0m\u001b[0;34m(\u001b[0m\u001b[0mnn_module\u001b[0m\u001b[0;34m,\u001b[0m \u001b[0mshare_types\u001b[0m\u001b[0;34m)\u001b[0m\u001b[0;34m\u001b[0m\u001b[0;34m\u001b[0m\u001b[0m\n\u001b[0;32m--> 391\u001b[0;31m     \u001b[0;32mreturn\u001b[0m \u001b[0mcreate_script_module_impl\u001b[0m\u001b[0;34m(\u001b[0m\u001b[0mnn_module\u001b[0m\u001b[0;34m,\u001b[0m \u001b[0mconcrete_type\u001b[0m\u001b[0;34m,\u001b[0m \u001b[0mstubs_fn\u001b[0m\u001b[0;34m)\u001b[0m\u001b[0;34m\u001b[0m\u001b[0;34m\u001b[0m\u001b[0m\n\u001b[0m\u001b[1;32m    392\u001b[0m \u001b[0;34m\u001b[0m\u001b[0m\n\u001b[1;32m    393\u001b[0m \u001b[0;32mdef\u001b[0m \u001b[0mcreate_script_module_impl\u001b[0m\u001b[0;34m(\u001b[0m\u001b[0mnn_module\u001b[0m\u001b[0;34m,\u001b[0m \u001b[0mconcrete_type\u001b[0m\u001b[0;34m,\u001b[0m \u001b[0mstubs_fn\u001b[0m\u001b[0;34m)\u001b[0m\u001b[0;34m:\u001b[0m\u001b[0;34m\u001b[0m\u001b[0;34m\u001b[0m\u001b[0m\n",
      "\u001b[0;32m~/miniconda3/envs/deep-exp/lib/python3.9/site-packages/torch/jit/_recursive.py\u001b[0m in \u001b[0;36mcreate_script_module_impl\u001b[0;34m(nn_module, concrete_type, stubs_fn)\u001b[0m\n\u001b[1;32m    446\u001b[0m \u001b[0;34m\u001b[0m\u001b[0m\n\u001b[1;32m    447\u001b[0m     \u001b[0;31m# Actually create the ScriptModule, initializing it with the function we just defined\u001b[0m\u001b[0;34m\u001b[0m\u001b[0;34m\u001b[0m\u001b[0;34m\u001b[0m\u001b[0m\n\u001b[0;32m--> 448\u001b[0;31m     \u001b[0mscript_module\u001b[0m \u001b[0;34m=\u001b[0m \u001b[0mtorch\u001b[0m\u001b[0;34m.\u001b[0m\u001b[0mjit\u001b[0m\u001b[0;34m.\u001b[0m\u001b[0mRecursiveScriptModule\u001b[0m\u001b[0;34m.\u001b[0m\u001b[0m_construct\u001b[0m\u001b[0;34m(\u001b[0m\u001b[0mcpp_module\u001b[0m\u001b[0;34m,\u001b[0m \u001b[0minit_fn\u001b[0m\u001b[0;34m)\u001b[0m\u001b[0;34m\u001b[0m\u001b[0;34m\u001b[0m\u001b[0m\n\u001b[0m\u001b[1;32m    449\u001b[0m \u001b[0;34m\u001b[0m\u001b[0m\n\u001b[1;32m    450\u001b[0m     \u001b[0;31m# Compile methods if necessary\u001b[0m\u001b[0;34m\u001b[0m\u001b[0;34m\u001b[0m\u001b[0;34m\u001b[0m\u001b[0m\n",
      "\u001b[0;32m~/miniconda3/envs/deep-exp/lib/python3.9/site-packages/torch/jit/_script.py\u001b[0m in \u001b[0;36m_construct\u001b[0;34m(cpp_module, init_fn)\u001b[0m\n\u001b[1;32m    389\u001b[0m             \"\"\"\n\u001b[1;32m    390\u001b[0m             \u001b[0mscript_module\u001b[0m \u001b[0;34m=\u001b[0m \u001b[0mRecursiveScriptModule\u001b[0m\u001b[0;34m(\u001b[0m\u001b[0mcpp_module\u001b[0m\u001b[0;34m)\u001b[0m\u001b[0;34m\u001b[0m\u001b[0;34m\u001b[0m\u001b[0m\n\u001b[0;32m--> 391\u001b[0;31m             \u001b[0minit_fn\u001b[0m\u001b[0;34m(\u001b[0m\u001b[0mscript_module\u001b[0m\u001b[0;34m)\u001b[0m\u001b[0;34m\u001b[0m\u001b[0;34m\u001b[0m\u001b[0m\n\u001b[0m\u001b[1;32m    392\u001b[0m \u001b[0;34m\u001b[0m\u001b[0m\n\u001b[1;32m    393\u001b[0m             \u001b[0;31m# Finalize the ScriptModule: replace the nn.Module state with our\u001b[0m\u001b[0;34m\u001b[0m\u001b[0;34m\u001b[0m\u001b[0;34m\u001b[0m\u001b[0m\n",
      "\u001b[0;32m~/miniconda3/envs/deep-exp/lib/python3.9/site-packages/torch/jit/_recursive.py\u001b[0m in \u001b[0;36minit_fn\u001b[0;34m(script_module)\u001b[0m\n\u001b[1;32m    426\u001b[0m             \u001b[0;32melse\u001b[0m\u001b[0;34m:\u001b[0m\u001b[0;34m\u001b[0m\u001b[0;34m\u001b[0m\u001b[0m\n\u001b[1;32m    427\u001b[0m                 \u001b[0;31m# always reuse the provided stubs_fn to infer the methods to compile\u001b[0m\u001b[0;34m\u001b[0m\u001b[0;34m\u001b[0m\u001b[0;34m\u001b[0m\u001b[0m\n\u001b[0;32m--> 428\u001b[0;31m                 \u001b[0mscripted\u001b[0m \u001b[0;34m=\u001b[0m \u001b[0mcreate_script_module_impl\u001b[0m\u001b[0;34m(\u001b[0m\u001b[0morig_value\u001b[0m\u001b[0;34m,\u001b[0m \u001b[0msub_concrete_type\u001b[0m\u001b[0;34m,\u001b[0m \u001b[0mstubs_fn\u001b[0m\u001b[0;34m)\u001b[0m\u001b[0;34m\u001b[0m\u001b[0;34m\u001b[0m\u001b[0m\n\u001b[0m\u001b[1;32m    429\u001b[0m \u001b[0;34m\u001b[0m\u001b[0m\n\u001b[1;32m    430\u001b[0m             \u001b[0mcpp_module\u001b[0m\u001b[0;34m.\u001b[0m\u001b[0msetattr\u001b[0m\u001b[0;34m(\u001b[0m\u001b[0mname\u001b[0m\u001b[0;34m,\u001b[0m \u001b[0mscripted\u001b[0m\u001b[0;34m)\u001b[0m\u001b[0;34m\u001b[0m\u001b[0;34m\u001b[0m\u001b[0m\n",
      "\u001b[0;32m~/miniconda3/envs/deep-exp/lib/python3.9/site-packages/torch/jit/_recursive.py\u001b[0m in \u001b[0;36mcreate_script_module_impl\u001b[0;34m(nn_module, concrete_type, stubs_fn)\u001b[0m\n\u001b[1;32m    446\u001b[0m \u001b[0;34m\u001b[0m\u001b[0m\n\u001b[1;32m    447\u001b[0m     \u001b[0;31m# Actually create the ScriptModule, initializing it with the function we just defined\u001b[0m\u001b[0;34m\u001b[0m\u001b[0;34m\u001b[0m\u001b[0;34m\u001b[0m\u001b[0m\n\u001b[0;32m--> 448\u001b[0;31m     \u001b[0mscript_module\u001b[0m \u001b[0;34m=\u001b[0m \u001b[0mtorch\u001b[0m\u001b[0;34m.\u001b[0m\u001b[0mjit\u001b[0m\u001b[0;34m.\u001b[0m\u001b[0mRecursiveScriptModule\u001b[0m\u001b[0;34m.\u001b[0m\u001b[0m_construct\u001b[0m\u001b[0;34m(\u001b[0m\u001b[0mcpp_module\u001b[0m\u001b[0;34m,\u001b[0m \u001b[0minit_fn\u001b[0m\u001b[0;34m)\u001b[0m\u001b[0;34m\u001b[0m\u001b[0;34m\u001b[0m\u001b[0m\n\u001b[0m\u001b[1;32m    449\u001b[0m \u001b[0;34m\u001b[0m\u001b[0m\n\u001b[1;32m    450\u001b[0m     \u001b[0;31m# Compile methods if necessary\u001b[0m\u001b[0;34m\u001b[0m\u001b[0;34m\u001b[0m\u001b[0;34m\u001b[0m\u001b[0m\n",
      "\u001b[0;32m~/miniconda3/envs/deep-exp/lib/python3.9/site-packages/torch/jit/_script.py\u001b[0m in \u001b[0;36m_construct\u001b[0;34m(cpp_module, init_fn)\u001b[0m\n\u001b[1;32m    389\u001b[0m             \"\"\"\n\u001b[1;32m    390\u001b[0m             \u001b[0mscript_module\u001b[0m \u001b[0;34m=\u001b[0m \u001b[0mRecursiveScriptModule\u001b[0m\u001b[0;34m(\u001b[0m\u001b[0mcpp_module\u001b[0m\u001b[0;34m)\u001b[0m\u001b[0;34m\u001b[0m\u001b[0;34m\u001b[0m\u001b[0m\n\u001b[0;32m--> 391\u001b[0;31m             \u001b[0minit_fn\u001b[0m\u001b[0;34m(\u001b[0m\u001b[0mscript_module\u001b[0m\u001b[0;34m)\u001b[0m\u001b[0;34m\u001b[0m\u001b[0;34m\u001b[0m\u001b[0m\n\u001b[0m\u001b[1;32m    392\u001b[0m \u001b[0;34m\u001b[0m\u001b[0m\n\u001b[1;32m    393\u001b[0m             \u001b[0;31m# Finalize the ScriptModule: replace the nn.Module state with our\u001b[0m\u001b[0;34m\u001b[0m\u001b[0;34m\u001b[0m\u001b[0;34m\u001b[0m\u001b[0m\n",
      "\u001b[0;32m~/miniconda3/envs/deep-exp/lib/python3.9/site-packages/torch/jit/_recursive.py\u001b[0m in \u001b[0;36minit_fn\u001b[0;34m(script_module)\u001b[0m\n\u001b[1;32m    426\u001b[0m             \u001b[0;32melse\u001b[0m\u001b[0;34m:\u001b[0m\u001b[0;34m\u001b[0m\u001b[0;34m\u001b[0m\u001b[0m\n\u001b[1;32m    427\u001b[0m                 \u001b[0;31m# always reuse the provided stubs_fn to infer the methods to compile\u001b[0m\u001b[0;34m\u001b[0m\u001b[0;34m\u001b[0m\u001b[0;34m\u001b[0m\u001b[0m\n\u001b[0;32m--> 428\u001b[0;31m                 \u001b[0mscripted\u001b[0m \u001b[0;34m=\u001b[0m \u001b[0mcreate_script_module_impl\u001b[0m\u001b[0;34m(\u001b[0m\u001b[0morig_value\u001b[0m\u001b[0;34m,\u001b[0m \u001b[0msub_concrete_type\u001b[0m\u001b[0;34m,\u001b[0m \u001b[0mstubs_fn\u001b[0m\u001b[0;34m)\u001b[0m\u001b[0;34m\u001b[0m\u001b[0;34m\u001b[0m\u001b[0m\n\u001b[0m\u001b[1;32m    429\u001b[0m \u001b[0;34m\u001b[0m\u001b[0m\n\u001b[1;32m    430\u001b[0m             \u001b[0mcpp_module\u001b[0m\u001b[0;34m.\u001b[0m\u001b[0msetattr\u001b[0m\u001b[0;34m(\u001b[0m\u001b[0mname\u001b[0m\u001b[0;34m,\u001b[0m \u001b[0mscripted\u001b[0m\u001b[0;34m)\u001b[0m\u001b[0;34m\u001b[0m\u001b[0;34m\u001b[0m\u001b[0m\n",
      "\u001b[0;32m~/miniconda3/envs/deep-exp/lib/python3.9/site-packages/torch/jit/_recursive.py\u001b[0m in \u001b[0;36mcreate_script_module_impl\u001b[0;34m(nn_module, concrete_type, stubs_fn)\u001b[0m\n\u001b[1;32m    401\u001b[0m     \"\"\"\n\u001b[1;32m    402\u001b[0m     \u001b[0mcpp_module\u001b[0m \u001b[0;34m=\u001b[0m \u001b[0mtorch\u001b[0m\u001b[0;34m.\u001b[0m\u001b[0m_C\u001b[0m\u001b[0;34m.\u001b[0m\u001b[0m_create_module_with_type\u001b[0m\u001b[0;34m(\u001b[0m\u001b[0mconcrete_type\u001b[0m\u001b[0;34m.\u001b[0m\u001b[0mjit_type\u001b[0m\u001b[0;34m)\u001b[0m\u001b[0;34m\u001b[0m\u001b[0;34m\u001b[0m\u001b[0m\n\u001b[0;32m--> 403\u001b[0;31m     \u001b[0mmethod_stubs\u001b[0m \u001b[0;34m=\u001b[0m \u001b[0mstubs_fn\u001b[0m\u001b[0;34m(\u001b[0m\u001b[0mnn_module\u001b[0m\u001b[0;34m)\u001b[0m\u001b[0;34m\u001b[0m\u001b[0;34m\u001b[0m\u001b[0m\n\u001b[0m\u001b[1;32m    404\u001b[0m     \u001b[0mproperty_stubs\u001b[0m \u001b[0;34m=\u001b[0m \u001b[0mget_property_stubs\u001b[0m\u001b[0;34m(\u001b[0m\u001b[0mnn_module\u001b[0m\u001b[0;34m)\u001b[0m\u001b[0;34m\u001b[0m\u001b[0;34m\u001b[0m\u001b[0m\n\u001b[1;32m    405\u001b[0m     \u001b[0mhook_stubs\u001b[0m\u001b[0;34m,\u001b[0m \u001b[0mpre_hook_stubs\u001b[0m \u001b[0;34m=\u001b[0m \u001b[0mget_hook_stubs\u001b[0m\u001b[0;34m(\u001b[0m\u001b[0mnn_module\u001b[0m\u001b[0;34m)\u001b[0m\u001b[0;34m\u001b[0m\u001b[0;34m\u001b[0m\u001b[0m\n",
      "\u001b[0;32m~/miniconda3/envs/deep-exp/lib/python3.9/site-packages/torch/jit/_recursive.py\u001b[0m in \u001b[0;36minfer_methods_to_compile\u001b[0;34m(nn_module)\u001b[0m\n\u001b[1;32m    649\u001b[0m     \u001b[0mstubs\u001b[0m \u001b[0;34m=\u001b[0m \u001b[0;34m[\u001b[0m\u001b[0;34m]\u001b[0m\u001b[0;34m\u001b[0m\u001b[0;34m\u001b[0m\u001b[0m\n\u001b[1;32m    650\u001b[0m     \u001b[0;32mfor\u001b[0m \u001b[0mmethod\u001b[0m \u001b[0;32min\u001b[0m \u001b[0muniqued_methods\u001b[0m\u001b[0;34m:\u001b[0m\u001b[0;34m\u001b[0m\u001b[0;34m\u001b[0m\u001b[0m\n\u001b[0;32m--> 651\u001b[0;31m         \u001b[0mstubs\u001b[0m\u001b[0;34m.\u001b[0m\u001b[0mappend\u001b[0m\u001b[0;34m(\u001b[0m\u001b[0mmake_stub_from_method\u001b[0m\u001b[0;34m(\u001b[0m\u001b[0mnn_module\u001b[0m\u001b[0;34m,\u001b[0m \u001b[0mmethod\u001b[0m\u001b[0;34m)\u001b[0m\u001b[0;34m)\u001b[0m\u001b[0;34m\u001b[0m\u001b[0;34m\u001b[0m\u001b[0m\n\u001b[0m\u001b[1;32m    652\u001b[0m     \u001b[0;32mreturn\u001b[0m \u001b[0moverload_stubs\u001b[0m \u001b[0;34m+\u001b[0m \u001b[0mstubs\u001b[0m\u001b[0;34m\u001b[0m\u001b[0;34m\u001b[0m\u001b[0m\n\u001b[1;32m    653\u001b[0m \u001b[0;34m\u001b[0m\u001b[0m\n",
      "\u001b[0;32m~/miniconda3/envs/deep-exp/lib/python3.9/site-packages/torch/jit/_recursive.py\u001b[0m in \u001b[0;36mmake_stub_from_method\u001b[0;34m(nn_module, method_name)\u001b[0m\n\u001b[1;32m     50\u001b[0m     \u001b[0;31m# In this case, the actual function object will have the name `_forward`,\u001b[0m\u001b[0;34m\u001b[0m\u001b[0;34m\u001b[0m\u001b[0;34m\u001b[0m\u001b[0m\n\u001b[1;32m     51\u001b[0m     \u001b[0;31m# even though we requested a stub for `forward`.\u001b[0m\u001b[0;34m\u001b[0m\u001b[0;34m\u001b[0m\u001b[0;34m\u001b[0m\u001b[0m\n\u001b[0;32m---> 52\u001b[0;31m     \u001b[0;32mreturn\u001b[0m \u001b[0mmake_stub\u001b[0m\u001b[0;34m(\u001b[0m\u001b[0mfunc\u001b[0m\u001b[0;34m,\u001b[0m \u001b[0mmethod_name\u001b[0m\u001b[0;34m)\u001b[0m\u001b[0;34m\u001b[0m\u001b[0;34m\u001b[0m\u001b[0m\n\u001b[0m\u001b[1;32m     53\u001b[0m \u001b[0;34m\u001b[0m\u001b[0m\n\u001b[1;32m     54\u001b[0m \u001b[0;34m\u001b[0m\u001b[0m\n",
      "\u001b[0;32m~/miniconda3/envs/deep-exp/lib/python3.9/site-packages/torch/jit/_recursive.py\u001b[0m in \u001b[0;36mmake_stub\u001b[0;34m(func, name)\u001b[0m\n\u001b[1;32m     35\u001b[0m \u001b[0;32mdef\u001b[0m \u001b[0mmake_stub\u001b[0m\u001b[0;34m(\u001b[0m\u001b[0mfunc\u001b[0m\u001b[0;34m,\u001b[0m \u001b[0mname\u001b[0m\u001b[0;34m)\u001b[0m\u001b[0;34m:\u001b[0m\u001b[0;34m\u001b[0m\u001b[0;34m\u001b[0m\u001b[0m\n\u001b[1;32m     36\u001b[0m     \u001b[0mrcb\u001b[0m \u001b[0;34m=\u001b[0m \u001b[0m_jit_internal\u001b[0m\u001b[0;34m.\u001b[0m\u001b[0mcreateResolutionCallbackFromClosure\u001b[0m\u001b[0;34m(\u001b[0m\u001b[0mfunc\u001b[0m\u001b[0;34m)\u001b[0m\u001b[0;34m\u001b[0m\u001b[0;34m\u001b[0m\u001b[0m\n\u001b[0;32m---> 37\u001b[0;31m     \u001b[0mast\u001b[0m \u001b[0;34m=\u001b[0m \u001b[0mget_jit_def\u001b[0m\u001b[0;34m(\u001b[0m\u001b[0mfunc\u001b[0m\u001b[0;34m,\u001b[0m \u001b[0mname\u001b[0m\u001b[0;34m,\u001b[0m \u001b[0mself_name\u001b[0m\u001b[0;34m=\u001b[0m\u001b[0;34m\"RecursiveScriptModule\"\u001b[0m\u001b[0;34m)\u001b[0m\u001b[0;34m\u001b[0m\u001b[0;34m\u001b[0m\u001b[0m\n\u001b[0m\u001b[1;32m     38\u001b[0m     \u001b[0;32mreturn\u001b[0m \u001b[0mScriptMethodStub\u001b[0m\u001b[0;34m(\u001b[0m\u001b[0mrcb\u001b[0m\u001b[0;34m,\u001b[0m \u001b[0mast\u001b[0m\u001b[0;34m,\u001b[0m \u001b[0mfunc\u001b[0m\u001b[0;34m)\u001b[0m\u001b[0;34m\u001b[0m\u001b[0;34m\u001b[0m\u001b[0m\n\u001b[1;32m     39\u001b[0m \u001b[0;34m\u001b[0m\u001b[0m\n",
      "\u001b[0;32m~/miniconda3/envs/deep-exp/lib/python3.9/site-packages/torch/jit/frontend.py\u001b[0m in \u001b[0;36mget_jit_def\u001b[0;34m(fn, def_name, self_name, is_classmethod)\u001b[0m\n\u001b[1;32m    269\u001b[0m             \u001b[0marg\u001b[0m\u001b[0;34m.\u001b[0m\u001b[0mannotation\u001b[0m \u001b[0;34m=\u001b[0m \u001b[0munused_def\u001b[0m\u001b[0;34m.\u001b[0m\u001b[0margs\u001b[0m\u001b[0;34m.\u001b[0m\u001b[0margs\u001b[0m\u001b[0;34m[\u001b[0m\u001b[0;36m0\u001b[0m\u001b[0;34m]\u001b[0m\u001b[0;34m.\u001b[0m\u001b[0mannotation\u001b[0m\u001b[0;34m\u001b[0m\u001b[0;34m\u001b[0m\u001b[0m\n\u001b[1;32m    270\u001b[0m \u001b[0;34m\u001b[0m\u001b[0m\n\u001b[0;32m--> 271\u001b[0;31m     \u001b[0;32mreturn\u001b[0m \u001b[0mbuild_def\u001b[0m\u001b[0;34m(\u001b[0m\u001b[0mctx\u001b[0m\u001b[0;34m,\u001b[0m \u001b[0mfn_def\u001b[0m\u001b[0;34m,\u001b[0m \u001b[0mtype_line\u001b[0m\u001b[0;34m,\u001b[0m \u001b[0mdef_name\u001b[0m\u001b[0;34m,\u001b[0m \u001b[0mself_name\u001b[0m\u001b[0;34m=\u001b[0m\u001b[0mself_name\u001b[0m\u001b[0;34m)\u001b[0m\u001b[0;34m\u001b[0m\u001b[0;34m\u001b[0m\u001b[0m\n\u001b[0m\u001b[1;32m    272\u001b[0m \u001b[0;34m\u001b[0m\u001b[0m\n\u001b[1;32m    273\u001b[0m \u001b[0;34m\u001b[0m\u001b[0m\n",
      "\u001b[0;32m~/miniconda3/envs/deep-exp/lib/python3.9/site-packages/torch/jit/frontend.py\u001b[0m in \u001b[0;36mbuild_def\u001b[0;34m(ctx, py_def, type_line, def_name, self_name)\u001b[0m\n\u001b[1;32m    303\u001b[0m     return Def(Ident(r, def_name),\n\u001b[1;32m    304\u001b[0m                \u001b[0mdecl\u001b[0m\u001b[0;34m,\u001b[0m\u001b[0;34m\u001b[0m\u001b[0;34m\u001b[0m\u001b[0m\n\u001b[0;32m--> 305\u001b[0;31m                build_stmts(ctx, body))\n\u001b[0m\u001b[1;32m    306\u001b[0m \u001b[0;34m\u001b[0m\u001b[0m\n\u001b[1;32m    307\u001b[0m \u001b[0;34m\u001b[0m\u001b[0m\n",
      "\u001b[0;32m~/miniconda3/envs/deep-exp/lib/python3.9/site-packages/torch/jit/frontend.py\u001b[0m in \u001b[0;36mbuild_stmts\u001b[0;34m(ctx, stmts)\u001b[0m\n\u001b[1;32m    127\u001b[0m \u001b[0;34m\u001b[0m\u001b[0m\n\u001b[1;32m    128\u001b[0m \u001b[0;32mdef\u001b[0m \u001b[0mbuild_stmts\u001b[0m\u001b[0;34m(\u001b[0m\u001b[0mctx\u001b[0m\u001b[0;34m,\u001b[0m \u001b[0mstmts\u001b[0m\u001b[0;34m)\u001b[0m\u001b[0;34m:\u001b[0m\u001b[0;34m\u001b[0m\u001b[0;34m\u001b[0m\u001b[0m\n\u001b[0;32m--> 129\u001b[0;31m     \u001b[0mstmts\u001b[0m \u001b[0;34m=\u001b[0m \u001b[0;34m[\u001b[0m\u001b[0mbuild_stmt\u001b[0m\u001b[0;34m(\u001b[0m\u001b[0mctx\u001b[0m\u001b[0;34m,\u001b[0m \u001b[0ms\u001b[0m\u001b[0;34m)\u001b[0m \u001b[0;32mfor\u001b[0m \u001b[0ms\u001b[0m \u001b[0;32min\u001b[0m \u001b[0mstmts\u001b[0m\u001b[0;34m]\u001b[0m\u001b[0;34m\u001b[0m\u001b[0;34m\u001b[0m\u001b[0m\n\u001b[0m\u001b[1;32m    130\u001b[0m     \u001b[0;32mreturn\u001b[0m \u001b[0mlist\u001b[0m\u001b[0;34m(\u001b[0m\u001b[0mfilter\u001b[0m\u001b[0;34m(\u001b[0m\u001b[0;32mNone\u001b[0m\u001b[0;34m,\u001b[0m \u001b[0mstmts\u001b[0m\u001b[0;34m)\u001b[0m\u001b[0;34m)\u001b[0m\u001b[0;34m\u001b[0m\u001b[0;34m\u001b[0m\u001b[0m\n\u001b[1;32m    131\u001b[0m \u001b[0;34m\u001b[0m\u001b[0m\n",
      "\u001b[0;32m~/miniconda3/envs/deep-exp/lib/python3.9/site-packages/torch/jit/frontend.py\u001b[0m in \u001b[0;36m<listcomp>\u001b[0;34m(.0)\u001b[0m\n\u001b[1;32m    127\u001b[0m \u001b[0;34m\u001b[0m\u001b[0m\n\u001b[1;32m    128\u001b[0m \u001b[0;32mdef\u001b[0m \u001b[0mbuild_stmts\u001b[0m\u001b[0;34m(\u001b[0m\u001b[0mctx\u001b[0m\u001b[0;34m,\u001b[0m \u001b[0mstmts\u001b[0m\u001b[0;34m)\u001b[0m\u001b[0;34m:\u001b[0m\u001b[0;34m\u001b[0m\u001b[0;34m\u001b[0m\u001b[0m\n\u001b[0;32m--> 129\u001b[0;31m     \u001b[0mstmts\u001b[0m \u001b[0;34m=\u001b[0m \u001b[0;34m[\u001b[0m\u001b[0mbuild_stmt\u001b[0m\u001b[0;34m(\u001b[0m\u001b[0mctx\u001b[0m\u001b[0;34m,\u001b[0m \u001b[0ms\u001b[0m\u001b[0;34m)\u001b[0m \u001b[0;32mfor\u001b[0m \u001b[0ms\u001b[0m \u001b[0;32min\u001b[0m \u001b[0mstmts\u001b[0m\u001b[0;34m]\u001b[0m\u001b[0;34m\u001b[0m\u001b[0;34m\u001b[0m\u001b[0m\n\u001b[0m\u001b[1;32m    130\u001b[0m     \u001b[0;32mreturn\u001b[0m \u001b[0mlist\u001b[0m\u001b[0;34m(\u001b[0m\u001b[0mfilter\u001b[0m\u001b[0;34m(\u001b[0m\u001b[0;32mNone\u001b[0m\u001b[0;34m,\u001b[0m \u001b[0mstmts\u001b[0m\u001b[0;34m)\u001b[0m\u001b[0;34m)\u001b[0m\u001b[0;34m\u001b[0m\u001b[0;34m\u001b[0m\u001b[0m\n\u001b[1;32m    131\u001b[0m \u001b[0;34m\u001b[0m\u001b[0m\n",
      "\u001b[0;32m~/miniconda3/envs/deep-exp/lib/python3.9/site-packages/torch/jit/frontend.py\u001b[0m in \u001b[0;36m__call__\u001b[0;34m(self, ctx, node)\u001b[0m\n\u001b[1;32m    277\u001b[0m         \u001b[0;32mif\u001b[0m \u001b[0mmethod\u001b[0m \u001b[0;32mis\u001b[0m \u001b[0;32mNone\u001b[0m\u001b[0;34m:\u001b[0m\u001b[0;34m\u001b[0m\u001b[0;34m\u001b[0m\u001b[0m\n\u001b[1;32m    278\u001b[0m             \u001b[0;32mraise\u001b[0m \u001b[0mUnsupportedNodeError\u001b[0m\u001b[0;34m(\u001b[0m\u001b[0mctx\u001b[0m\u001b[0;34m,\u001b[0m \u001b[0mnode\u001b[0m\u001b[0;34m)\u001b[0m\u001b[0;34m\u001b[0m\u001b[0;34m\u001b[0m\u001b[0m\n\u001b[0;32m--> 279\u001b[0;31m         \u001b[0;32mreturn\u001b[0m \u001b[0mmethod\u001b[0m\u001b[0;34m(\u001b[0m\u001b[0mctx\u001b[0m\u001b[0;34m,\u001b[0m \u001b[0mnode\u001b[0m\u001b[0;34m)\u001b[0m\u001b[0;34m\u001b[0m\u001b[0;34m\u001b[0m\u001b[0m\n\u001b[0m\u001b[1;32m    280\u001b[0m \u001b[0;34m\u001b[0m\u001b[0m\n\u001b[1;32m    281\u001b[0m \u001b[0;34m\u001b[0m\u001b[0m\n",
      "\u001b[0;32m~/miniconda3/envs/deep-exp/lib/python3.9/site-packages/torch/jit/frontend.py\u001b[0m in \u001b[0;36mbuild_If\u001b[0;34m(ctx, stmt)\u001b[0m\n\u001b[1;32m    495\u001b[0m         \u001b[0mr\u001b[0m \u001b[0;34m=\u001b[0m \u001b[0mctx\u001b[0m\u001b[0;34m.\u001b[0m\u001b[0mmake_range\u001b[0m\u001b[0;34m(\u001b[0m\u001b[0mstmt\u001b[0m\u001b[0;34m.\u001b[0m\u001b[0mlineno\u001b[0m\u001b[0;34m,\u001b[0m \u001b[0mstmt\u001b[0m\u001b[0;34m.\u001b[0m\u001b[0mcol_offset\u001b[0m\u001b[0;34m,\u001b[0m \u001b[0mstmt\u001b[0m\u001b[0;34m.\u001b[0m\u001b[0mcol_offset\u001b[0m \u001b[0;34m+\u001b[0m \u001b[0mlen\u001b[0m\u001b[0;34m(\u001b[0m\u001b[0;34m\"if\"\u001b[0m\u001b[0;34m)\u001b[0m\u001b[0;34m)\u001b[0m\u001b[0;34m\u001b[0m\u001b[0;34m\u001b[0m\u001b[0m\n\u001b[1;32m    496\u001b[0m         return If(r, build_expr(ctx, stmt.test),\n\u001b[0;32m--> 497\u001b[0;31m                   \u001b[0mbuild_stmts\u001b[0m\u001b[0;34m(\u001b[0m\u001b[0mctx\u001b[0m\u001b[0;34m,\u001b[0m \u001b[0mstmt\u001b[0m\u001b[0;34m.\u001b[0m\u001b[0mbody\u001b[0m\u001b[0;34m)\u001b[0m\u001b[0;34m,\u001b[0m\u001b[0;34m\u001b[0m\u001b[0;34m\u001b[0m\u001b[0m\n\u001b[0m\u001b[1;32m    498\u001b[0m                   build_stmts(ctx, stmt.orelse))\n\u001b[1;32m    499\u001b[0m \u001b[0;34m\u001b[0m\u001b[0m\n",
      "\u001b[0;32m~/miniconda3/envs/deep-exp/lib/python3.9/site-packages/torch/jit/frontend.py\u001b[0m in \u001b[0;36mbuild_stmts\u001b[0;34m(ctx, stmts)\u001b[0m\n\u001b[1;32m    127\u001b[0m \u001b[0;34m\u001b[0m\u001b[0m\n\u001b[1;32m    128\u001b[0m \u001b[0;32mdef\u001b[0m \u001b[0mbuild_stmts\u001b[0m\u001b[0;34m(\u001b[0m\u001b[0mctx\u001b[0m\u001b[0;34m,\u001b[0m \u001b[0mstmts\u001b[0m\u001b[0;34m)\u001b[0m\u001b[0;34m:\u001b[0m\u001b[0;34m\u001b[0m\u001b[0;34m\u001b[0m\u001b[0m\n\u001b[0;32m--> 129\u001b[0;31m     \u001b[0mstmts\u001b[0m \u001b[0;34m=\u001b[0m \u001b[0;34m[\u001b[0m\u001b[0mbuild_stmt\u001b[0m\u001b[0;34m(\u001b[0m\u001b[0mctx\u001b[0m\u001b[0;34m,\u001b[0m \u001b[0ms\u001b[0m\u001b[0;34m)\u001b[0m \u001b[0;32mfor\u001b[0m \u001b[0ms\u001b[0m \u001b[0;32min\u001b[0m \u001b[0mstmts\u001b[0m\u001b[0;34m]\u001b[0m\u001b[0;34m\u001b[0m\u001b[0;34m\u001b[0m\u001b[0m\n\u001b[0m\u001b[1;32m    130\u001b[0m     \u001b[0;32mreturn\u001b[0m \u001b[0mlist\u001b[0m\u001b[0;34m(\u001b[0m\u001b[0mfilter\u001b[0m\u001b[0;34m(\u001b[0m\u001b[0;32mNone\u001b[0m\u001b[0;34m,\u001b[0m \u001b[0mstmts\u001b[0m\u001b[0;34m)\u001b[0m\u001b[0;34m)\u001b[0m\u001b[0;34m\u001b[0m\u001b[0;34m\u001b[0m\u001b[0m\n\u001b[1;32m    131\u001b[0m \u001b[0;34m\u001b[0m\u001b[0m\n",
      "\u001b[0;32m~/miniconda3/envs/deep-exp/lib/python3.9/site-packages/torch/jit/frontend.py\u001b[0m in \u001b[0;36m<listcomp>\u001b[0;34m(.0)\u001b[0m\n\u001b[1;32m    127\u001b[0m \u001b[0;34m\u001b[0m\u001b[0m\n\u001b[1;32m    128\u001b[0m \u001b[0;32mdef\u001b[0m \u001b[0mbuild_stmts\u001b[0m\u001b[0;34m(\u001b[0m\u001b[0mctx\u001b[0m\u001b[0;34m,\u001b[0m \u001b[0mstmts\u001b[0m\u001b[0;34m)\u001b[0m\u001b[0;34m:\u001b[0m\u001b[0;34m\u001b[0m\u001b[0;34m\u001b[0m\u001b[0m\n\u001b[0;32m--> 129\u001b[0;31m     \u001b[0mstmts\u001b[0m \u001b[0;34m=\u001b[0m \u001b[0;34m[\u001b[0m\u001b[0mbuild_stmt\u001b[0m\u001b[0;34m(\u001b[0m\u001b[0mctx\u001b[0m\u001b[0;34m,\u001b[0m \u001b[0ms\u001b[0m\u001b[0;34m)\u001b[0m \u001b[0;32mfor\u001b[0m \u001b[0ms\u001b[0m \u001b[0;32min\u001b[0m \u001b[0mstmts\u001b[0m\u001b[0;34m]\u001b[0m\u001b[0;34m\u001b[0m\u001b[0;34m\u001b[0m\u001b[0m\n\u001b[0m\u001b[1;32m    130\u001b[0m     \u001b[0;32mreturn\u001b[0m \u001b[0mlist\u001b[0m\u001b[0;34m(\u001b[0m\u001b[0mfilter\u001b[0m\u001b[0;34m(\u001b[0m\u001b[0;32mNone\u001b[0m\u001b[0;34m,\u001b[0m \u001b[0mstmts\u001b[0m\u001b[0;34m)\u001b[0m\u001b[0;34m)\u001b[0m\u001b[0;34m\u001b[0m\u001b[0;34m\u001b[0m\u001b[0m\n\u001b[1;32m    131\u001b[0m \u001b[0;34m\u001b[0m\u001b[0m\n",
      "\u001b[0;32m~/miniconda3/envs/deep-exp/lib/python3.9/site-packages/torch/jit/frontend.py\u001b[0m in \u001b[0;36m__call__\u001b[0;34m(self, ctx, node)\u001b[0m\n\u001b[1;32m    277\u001b[0m         \u001b[0;32mif\u001b[0m \u001b[0mmethod\u001b[0m \u001b[0;32mis\u001b[0m \u001b[0;32mNone\u001b[0m\u001b[0;34m:\u001b[0m\u001b[0;34m\u001b[0m\u001b[0;34m\u001b[0m\u001b[0m\n\u001b[1;32m    278\u001b[0m             \u001b[0;32mraise\u001b[0m \u001b[0mUnsupportedNodeError\u001b[0m\u001b[0;34m(\u001b[0m\u001b[0mctx\u001b[0m\u001b[0;34m,\u001b[0m \u001b[0mnode\u001b[0m\u001b[0;34m)\u001b[0m\u001b[0;34m\u001b[0m\u001b[0;34m\u001b[0m\u001b[0m\n\u001b[0;32m--> 279\u001b[0;31m         \u001b[0;32mreturn\u001b[0m \u001b[0mmethod\u001b[0m\u001b[0;34m(\u001b[0m\u001b[0mctx\u001b[0m\u001b[0;34m,\u001b[0m \u001b[0mnode\u001b[0m\u001b[0;34m)\u001b[0m\u001b[0;34m\u001b[0m\u001b[0;34m\u001b[0m\u001b[0m\n\u001b[0m\u001b[1;32m    280\u001b[0m \u001b[0;34m\u001b[0m\u001b[0m\n\u001b[1;32m    281\u001b[0m \u001b[0;34m\u001b[0m\u001b[0m\n",
      "\u001b[0;32m~/miniconda3/envs/deep-exp/lib/python3.9/site-packages/torch/jit/frontend.py\u001b[0m in \u001b[0;36mbuild_Return\u001b[0;34m(ctx, stmt)\u001b[0m\n\u001b[1;32m    443\u001b[0m     \u001b[0;32mdef\u001b[0m \u001b[0mbuild_Return\u001b[0m\u001b[0;34m(\u001b[0m\u001b[0mctx\u001b[0m\u001b[0;34m,\u001b[0m \u001b[0mstmt\u001b[0m\u001b[0;34m)\u001b[0m\u001b[0;34m:\u001b[0m\u001b[0;34m\u001b[0m\u001b[0;34m\u001b[0m\u001b[0m\n\u001b[1;32m    444\u001b[0m         \u001b[0mr\u001b[0m \u001b[0;34m=\u001b[0m \u001b[0mctx\u001b[0m\u001b[0;34m.\u001b[0m\u001b[0mmake_range\u001b[0m\u001b[0;34m(\u001b[0m\u001b[0mstmt\u001b[0m\u001b[0;34m.\u001b[0m\u001b[0mlineno\u001b[0m\u001b[0;34m,\u001b[0m \u001b[0mstmt\u001b[0m\u001b[0;34m.\u001b[0m\u001b[0mcol_offset\u001b[0m\u001b[0;34m,\u001b[0m \u001b[0mstmt\u001b[0m\u001b[0;34m.\u001b[0m\u001b[0mcol_offset\u001b[0m \u001b[0;34m+\u001b[0m \u001b[0mlen\u001b[0m\u001b[0;34m(\u001b[0m\u001b[0;34m\"return\"\u001b[0m\u001b[0;34m)\u001b[0m\u001b[0;34m)\u001b[0m\u001b[0;34m\u001b[0m\u001b[0;34m\u001b[0m\u001b[0m\n\u001b[0;32m--> 445\u001b[0;31m         \u001b[0;32mreturn\u001b[0m \u001b[0mReturn\u001b[0m\u001b[0;34m(\u001b[0m\u001b[0mr\u001b[0m\u001b[0;34m,\u001b[0m \u001b[0;32mNone\u001b[0m \u001b[0;32mif\u001b[0m \u001b[0mstmt\u001b[0m\u001b[0;34m.\u001b[0m\u001b[0mvalue\u001b[0m \u001b[0;32mis\u001b[0m \u001b[0;32mNone\u001b[0m \u001b[0;32melse\u001b[0m \u001b[0mbuild_expr\u001b[0m\u001b[0;34m(\u001b[0m\u001b[0mctx\u001b[0m\u001b[0;34m,\u001b[0m \u001b[0mstmt\u001b[0m\u001b[0;34m.\u001b[0m\u001b[0mvalue\u001b[0m\u001b[0;34m)\u001b[0m\u001b[0;34m)\u001b[0m\u001b[0;34m\u001b[0m\u001b[0;34m\u001b[0m\u001b[0m\n\u001b[0m\u001b[1;32m    446\u001b[0m \u001b[0;34m\u001b[0m\u001b[0m\n\u001b[1;32m    447\u001b[0m     \u001b[0;34m@\u001b[0m\u001b[0mstaticmethod\u001b[0m\u001b[0;34m\u001b[0m\u001b[0;34m\u001b[0m\u001b[0m\n",
      "\u001b[0;32m~/miniconda3/envs/deep-exp/lib/python3.9/site-packages/torch/jit/frontend.py\u001b[0m in \u001b[0;36m__call__\u001b[0;34m(self, ctx, node)\u001b[0m\n\u001b[1;32m    277\u001b[0m         \u001b[0;32mif\u001b[0m \u001b[0mmethod\u001b[0m \u001b[0;32mis\u001b[0m \u001b[0;32mNone\u001b[0m\u001b[0;34m:\u001b[0m\u001b[0;34m\u001b[0m\u001b[0;34m\u001b[0m\u001b[0m\n\u001b[1;32m    278\u001b[0m             \u001b[0;32mraise\u001b[0m \u001b[0mUnsupportedNodeError\u001b[0m\u001b[0;34m(\u001b[0m\u001b[0mctx\u001b[0m\u001b[0;34m,\u001b[0m \u001b[0mnode\u001b[0m\u001b[0;34m)\u001b[0m\u001b[0;34m\u001b[0m\u001b[0;34m\u001b[0m\u001b[0m\n\u001b[0;32m--> 279\u001b[0;31m         \u001b[0;32mreturn\u001b[0m \u001b[0mmethod\u001b[0m\u001b[0;34m(\u001b[0m\u001b[0mctx\u001b[0m\u001b[0;34m,\u001b[0m \u001b[0mnode\u001b[0m\u001b[0;34m)\u001b[0m\u001b[0;34m\u001b[0m\u001b[0;34m\u001b[0m\u001b[0m\n\u001b[0m\u001b[1;32m    280\u001b[0m \u001b[0;34m\u001b[0m\u001b[0m\n\u001b[1;32m    281\u001b[0m \u001b[0;34m\u001b[0m\u001b[0m\n",
      "\u001b[0;32m~/miniconda3/envs/deep-exp/lib/python3.9/site-packages/torch/jit/frontend.py\u001b[0m in \u001b[0;36mbuild_Call\u001b[0;34m(ctx, expr)\u001b[0m\n\u001b[1;32m    588\u001b[0m     \u001b[0;32mdef\u001b[0m \u001b[0mbuild_Call\u001b[0m\u001b[0;34m(\u001b[0m\u001b[0mctx\u001b[0m\u001b[0;34m,\u001b[0m \u001b[0mexpr\u001b[0m\u001b[0;34m)\u001b[0m\u001b[0;34m:\u001b[0m\u001b[0;34m\u001b[0m\u001b[0;34m\u001b[0m\u001b[0m\n\u001b[1;32m    589\u001b[0m         \u001b[0mfunc\u001b[0m \u001b[0;34m=\u001b[0m \u001b[0mbuild_expr\u001b[0m\u001b[0;34m(\u001b[0m\u001b[0mctx\u001b[0m\u001b[0;34m,\u001b[0m \u001b[0mexpr\u001b[0m\u001b[0;34m.\u001b[0m\u001b[0mfunc\u001b[0m\u001b[0;34m)\u001b[0m\u001b[0;34m\u001b[0m\u001b[0;34m\u001b[0m\u001b[0m\n\u001b[0;32m--> 590\u001b[0;31m         \u001b[0margs\u001b[0m \u001b[0;34m=\u001b[0m \u001b[0;34m[\u001b[0m\u001b[0mbuild_expr\u001b[0m\u001b[0;34m(\u001b[0m\u001b[0mctx\u001b[0m\u001b[0;34m,\u001b[0m \u001b[0mpy_arg\u001b[0m\u001b[0;34m)\u001b[0m \u001b[0;32mfor\u001b[0m \u001b[0mpy_arg\u001b[0m \u001b[0;32min\u001b[0m \u001b[0mexpr\u001b[0m\u001b[0;34m.\u001b[0m\u001b[0margs\u001b[0m\u001b[0;34m]\u001b[0m\u001b[0;34m\u001b[0m\u001b[0;34m\u001b[0m\u001b[0m\n\u001b[0m\u001b[1;32m    591\u001b[0m         \u001b[0;32mif\u001b[0m \u001b[0mhasattr\u001b[0m\u001b[0;34m(\u001b[0m\u001b[0mexpr\u001b[0m\u001b[0;34m,\u001b[0m \u001b[0;34m'starargs'\u001b[0m\u001b[0;34m)\u001b[0m \u001b[0;32mand\u001b[0m \u001b[0mexpr\u001b[0m\u001b[0;34m.\u001b[0m\u001b[0mstarargs\u001b[0m\u001b[0;34m:\u001b[0m\u001b[0;34m\u001b[0m\u001b[0;34m\u001b[0m\u001b[0m\n\u001b[1;32m    592\u001b[0m             \u001b[0mstararg_expr\u001b[0m \u001b[0;34m=\u001b[0m \u001b[0mbuild_expr\u001b[0m\u001b[0;34m(\u001b[0m\u001b[0mctx\u001b[0m\u001b[0;34m,\u001b[0m \u001b[0mexpr\u001b[0m\u001b[0;34m.\u001b[0m\u001b[0mstarargs\u001b[0m\u001b[0;34m)\u001b[0m\u001b[0;34m\u001b[0m\u001b[0;34m\u001b[0m\u001b[0m\n",
      "\u001b[0;32m~/miniconda3/envs/deep-exp/lib/python3.9/site-packages/torch/jit/frontend.py\u001b[0m in \u001b[0;36m<listcomp>\u001b[0;34m(.0)\u001b[0m\n\u001b[1;32m    588\u001b[0m     \u001b[0;32mdef\u001b[0m \u001b[0mbuild_Call\u001b[0m\u001b[0;34m(\u001b[0m\u001b[0mctx\u001b[0m\u001b[0;34m,\u001b[0m \u001b[0mexpr\u001b[0m\u001b[0;34m)\u001b[0m\u001b[0;34m:\u001b[0m\u001b[0;34m\u001b[0m\u001b[0;34m\u001b[0m\u001b[0m\n\u001b[1;32m    589\u001b[0m         \u001b[0mfunc\u001b[0m \u001b[0;34m=\u001b[0m \u001b[0mbuild_expr\u001b[0m\u001b[0;34m(\u001b[0m\u001b[0mctx\u001b[0m\u001b[0;34m,\u001b[0m \u001b[0mexpr\u001b[0m\u001b[0;34m.\u001b[0m\u001b[0mfunc\u001b[0m\u001b[0;34m)\u001b[0m\u001b[0;34m\u001b[0m\u001b[0;34m\u001b[0m\u001b[0m\n\u001b[0;32m--> 590\u001b[0;31m         \u001b[0margs\u001b[0m \u001b[0;34m=\u001b[0m \u001b[0;34m[\u001b[0m\u001b[0mbuild_expr\u001b[0m\u001b[0;34m(\u001b[0m\u001b[0mctx\u001b[0m\u001b[0;34m,\u001b[0m \u001b[0mpy_arg\u001b[0m\u001b[0;34m)\u001b[0m \u001b[0;32mfor\u001b[0m \u001b[0mpy_arg\u001b[0m \u001b[0;32min\u001b[0m \u001b[0mexpr\u001b[0m\u001b[0;34m.\u001b[0m\u001b[0margs\u001b[0m\u001b[0;34m]\u001b[0m\u001b[0;34m\u001b[0m\u001b[0;34m\u001b[0m\u001b[0m\n\u001b[0m\u001b[1;32m    591\u001b[0m         \u001b[0;32mif\u001b[0m \u001b[0mhasattr\u001b[0m\u001b[0;34m(\u001b[0m\u001b[0mexpr\u001b[0m\u001b[0;34m,\u001b[0m \u001b[0;34m'starargs'\u001b[0m\u001b[0;34m)\u001b[0m \u001b[0;32mand\u001b[0m \u001b[0mexpr\u001b[0m\u001b[0;34m.\u001b[0m\u001b[0mstarargs\u001b[0m\u001b[0;34m:\u001b[0m\u001b[0;34m\u001b[0m\u001b[0;34m\u001b[0m\u001b[0m\n\u001b[1;32m    592\u001b[0m             \u001b[0mstararg_expr\u001b[0m \u001b[0;34m=\u001b[0m \u001b[0mbuild_expr\u001b[0m\u001b[0;34m(\u001b[0m\u001b[0mctx\u001b[0m\u001b[0;34m,\u001b[0m \u001b[0mexpr\u001b[0m\u001b[0;34m.\u001b[0m\u001b[0mstarargs\u001b[0m\u001b[0;34m)\u001b[0m\u001b[0;34m\u001b[0m\u001b[0;34m\u001b[0m\u001b[0m\n",
      "\u001b[0;32m~/miniconda3/envs/deep-exp/lib/python3.9/site-packages/torch/jit/frontend.py\u001b[0m in \u001b[0;36m__call__\u001b[0;34m(self, ctx, node)\u001b[0m\n\u001b[1;32m    276\u001b[0m         \u001b[0mmethod\u001b[0m \u001b[0;34m=\u001b[0m \u001b[0mgetattr\u001b[0m\u001b[0;34m(\u001b[0m\u001b[0mself\u001b[0m\u001b[0;34m,\u001b[0m \u001b[0;34m'build_'\u001b[0m \u001b[0;34m+\u001b[0m \u001b[0mnode\u001b[0m\u001b[0;34m.\u001b[0m\u001b[0m__class__\u001b[0m\u001b[0;34m.\u001b[0m\u001b[0m__name__\u001b[0m\u001b[0;34m,\u001b[0m \u001b[0;32mNone\u001b[0m\u001b[0;34m)\u001b[0m\u001b[0;34m\u001b[0m\u001b[0;34m\u001b[0m\u001b[0m\n\u001b[1;32m    277\u001b[0m         \u001b[0;32mif\u001b[0m \u001b[0mmethod\u001b[0m \u001b[0;32mis\u001b[0m \u001b[0;32mNone\u001b[0m\u001b[0;34m:\u001b[0m\u001b[0;34m\u001b[0m\u001b[0;34m\u001b[0m\u001b[0m\n\u001b[0;32m--> 278\u001b[0;31m             \u001b[0;32mraise\u001b[0m \u001b[0mUnsupportedNodeError\u001b[0m\u001b[0;34m(\u001b[0m\u001b[0mctx\u001b[0m\u001b[0;34m,\u001b[0m \u001b[0mnode\u001b[0m\u001b[0;34m)\u001b[0m\u001b[0;34m\u001b[0m\u001b[0;34m\u001b[0m\u001b[0m\n\u001b[0m\u001b[1;32m    279\u001b[0m         \u001b[0;32mreturn\u001b[0m \u001b[0mmethod\u001b[0m\u001b[0;34m(\u001b[0m\u001b[0mctx\u001b[0m\u001b[0;34m,\u001b[0m \u001b[0mnode\u001b[0m\u001b[0;34m)\u001b[0m\u001b[0;34m\u001b[0m\u001b[0;34m\u001b[0m\u001b[0m\n\u001b[1;32m    280\u001b[0m \u001b[0;34m\u001b[0m\u001b[0m\n",
      "\u001b[0;31mUnsupportedNodeError\u001b[0m: GeneratorExp aren't supported:\n  File \"/Users/stefano/miniconda3/envs/deep-exp/lib/python3.9/site-packages/transformers/models/distilbert/modeling_distilbert.py\", line 323\n    \n        if not return_dict:\n            return tuple(v for v in [hidden_state, all_hidden_states, all_attentions] if v is not None)\n                        ~ <--- HERE\n        return BaseModelOutput(\n            last_hidden_state=hidden_state, hidden_states=all_hidden_states, attentions=all_attentions\n"
     ]
    }
   ],
   "source": [
    "torch.jit.script(a)"
   ]
  },
  {
   "cell_type": "code",
   "execution_count": 6,
   "id": "49a2f049",
   "metadata": {
    "ExecuteTime": {
     "end_time": "2021-06-03T12:01:36.929572Z",
     "start_time": "2021-06-03T12:01:36.927296Z"
    }
   },
   "outputs": [],
   "source": [
    "def preprocessing(df):\n",
    "    df = df.copy()\n",
    "    df['sectors'] = df['sectors'].apply(eval)    \n",
    "    df['pillars'] = df['pillars'].apply(eval)\n",
    "    df['pillars'] = df['pillars'].apply(lambda x: list(set(x)))\n",
    "    df['subpillars'] = df['subpillars'].apply(eval)\n",
    "    return df"
   ]
  },
  {
   "cell_type": "code",
   "execution_count": 7,
   "id": "2ae89cd9",
   "metadata": {
    "ExecuteTime": {
     "end_time": "2021-06-03T12:01:40.399415Z",
     "start_time": "2021-06-03T12:01:37.888254Z"
    },
    "scrolled": true
   },
   "outputs": [],
   "source": [
    "train = preprocessing(pd.read_csv(LATEST_DATA_PATH / 'data_v0.4.3_train.csv'))\n",
    "val = preprocessing(pd.read_csv(LATEST_DATA_PATH / 'data_v0.4.3_val.csv'))\n",
    "test = preprocessing(pd.read_csv(LATEST_DATA_PATH / 'data_v0.4.3_test.csv'))\n",
    "\n",
    "def process(df, column, classes):\n",
    "    df = df.copy()\n",
    "    \n",
    "    mlb = MultiLabelBinarizer(classes=classes)\n",
    "    labels = mlb.fit_transform(list(df[column]))\n",
    "    df['labels'] = list(labels)\n",
    "    \n",
    "    df = df[['excerpt', 'labels']]\n",
    "    df = df.rename(columns={'excerpt': 'texts'})\n",
    "        \n",
    "    return df\n",
    "\n",
    "train_df = process(train, 'sectors', classes=SECTORS)\n",
    "val_df = process(val, 'sectors', classes=SECTORS)\n",
    "test_df = process(test, 'sectors', classes=SECTORS)"
   ]
  },
  {
   "cell_type": "markdown",
   "id": "88dd84b0",
   "metadata": {},
   "source": [
    "## Visualize"
   ]
  },
  {
   "cell_type": "code",
   "execution_count": 9,
   "id": "c76e4c59",
   "metadata": {
    "ExecuteTime": {
     "end_time": "2021-06-03T12:02:14.744244Z",
     "start_time": "2021-06-03T12:02:14.738062Z"
    },
    "scrolled": true
   },
   "outputs": [
    {
     "data": {
      "text/plain": [
       "['Humanitarian Conditions',\n",
       " 'Capacities & Response',\n",
       " 'Impact',\n",
       " 'Priority Interventions',\n",
       " 'People At Risk',\n",
       " 'Priority Needs']"
      ]
     },
     "execution_count": 9,
     "metadata": {},
     "output_type": "execute_result"
    }
   ],
   "source": [
    "PILLARS"
   ]
  },
  {
   "cell_type": "code",
   "execution_count": 14,
   "id": "3badc30c",
   "metadata": {
    "ExecuteTime": {
     "end_time": "2021-06-03T12:10:57.702893Z",
     "start_time": "2021-06-03T12:10:57.693065Z"
    }
   },
   "outputs": [
    {
     "data": {
      "text/plain": [
       "['Capacities & Response->International Response',\n",
       " 'Capacities & Response->National Response',\n",
       " 'Capacities & Response->Number Of People Reached',\n",
       " 'Capacities & Response->Response Gaps',\n",
       " 'Humanitarian Conditions->Coping Mechanisms',\n",
       " 'Humanitarian Conditions->Living Standards',\n",
       " 'Humanitarian Conditions->Number Of People In Need',\n",
       " 'Humanitarian Conditions->Physical And Mental Well Being',\n",
       " 'Impact->Driver/Aggravating Factors',\n",
       " 'Impact->Impact On People',\n",
       " 'Impact->Impact On People Or Impact On Services',\n",
       " 'Impact->Impact On Services',\n",
       " 'Impact->Impact On Systems And Services',\n",
       " 'Impact->Number Of People Affected',\n",
       " 'People At Risk->Number Of People At Risk',\n",
       " 'People At Risk->Risk And Vulnerabilities',\n",
       " 'Priority Interventions->Expressed By Humanitarian Staff',\n",
       " 'Priority Interventions->Expressed By Population',\n",
       " 'Priority Needs->Expressed By Humanitarian Staff',\n",
       " 'Priority Needs->Expressed By Population']"
      ]
     },
     "execution_count": 14,
     "metadata": {},
     "output_type": "execute_result"
    }
   ],
   "source": [
    "SUBPILLARS"
   ]
  },
  {
   "cell_type": "code",
   "execution_count": 15,
   "id": "c3025597",
   "metadata": {
    "ExecuteTime": {
     "end_time": "2021-06-03T16:04:57.544880Z",
     "start_time": "2021-06-03T12:11:16.893448Z"
    },
    "scrolled": true
   },
   "outputs": [
    {
     "name": "stdout",
     "output_type": "stream",
     "text": [
      "The reporting month of June, saw movement of 8,581 persons of which 6,680 were arrivals and 1,901 were departures. Preventive measures against the COVID-19 pandemic is a top priority particularly focusing on the highly congested camps to promote physical and safe distancing, and to help improve on camp planning and decongesting the camps. This will also reduce the impact of natural or man-made disasters such as fire outbreaks and floods.\n",
      "[]\n",
      "[]\n",
      "[]\n",
      "\n",
      "Under the ‘SDC-BRAC social cohesion fund for Cox’s Bazar district (COVID-19)’, HCMP provided BDT 1,500 to each of the selected 7,047 people from the host community. A total of 316 persons with disabilities were also brought under this support. The emergency aid aims to help low-income families who suffered most due to the pandemic.\n",
      "['Capacities & Response']\n",
      "['Capacities & Response->Number Of People Reached']\n",
      "['Livelihoods']\n",
      "\n",
      "With no sign of the curve flattening in the near future, further support is required to continue this battle against COVID-19. BRAC HCMP has reached 829,310 people with life-saving messages and other support.\n",
      "['Capacities & Response']\n",
      "['Capacities & Response->Number Of People Reached']\n",
      "['Health']\n",
      "\n",
      "A total of 7,047 families and 316 persons with disabilities received BDT 1,500 each in June 2020. Thousands of people from the host community were reached with awareness messages, psychosocial support, healthcare from the HCMP sectors in June.\n",
      "['Capacities & Response']\n",
      "['Capacities & Response->Number Of People Reached']\n",
      "['Health', 'Livelihoods']\n",
      "\n",
      "As a result of COVID-19, by the end of 2020, 12.9 million people are estimated to be food insecure in the three countries, the equivalent of 22 percent of the 57.6 million people expected to be food insecure in RBD region.\n",
      "['People At Risk']\n",
      "['People At Risk->Risk And Vulnerabilities']\n",
      "['Food Security']\n",
      "\n",
      "Dr Anthony has helped to train as many as 4000 health workers in Kaduna and across the northwest region on infection prevention and control, including the appropriate use of personal protective equipment, respiratory and hand hygiene.\n",
      "['Capacities & Response']\n",
      "['Capacities & Response->Number Of People Reached']\n",
      "['Health', 'WASH']\n",
      "\n",
      "To contribute to strengthening data collection to help Governments and partners make informed decisions, WFP has stepped up remote monitoring of prices, markets and food security, to inform responses real-time. Mobile vulnerability assessment mapping (mVAM) activities have expanded to 13 countries. In the first seven pilot countries (Burkina Faso, Cameroon, CAR, Mali, Niger and Nigeria), the first phase has been completed, while the second phase has started and is expected to last until the end of the year. In the six remaining countries (Sierra Leone, Cote d’Ivoire, Benin, Mauritania Liberia, and Guinea), the first phase is ongoing.\n",
      "['Capacities & Response']\n",
      "['Capacities & Response->International Response']\n",
      "['Food Security', 'Cross']\n",
      "\n",
      "The protection sector also conducted community-based awareness sessions by the ‘Rohingya role models’ in the camps. A total of 132,576 people have been reached through the protection initiatives to raise awareness on prevention of COVID-19.\n",
      "['Capacities & Response']\n",
      "['Capacities & Response->Number Of People Reached']\n",
      "['Health']\n",
      "\n",
      "As at 4 th July 2020, a total of 678 confirmed cases have been recorded including 47 deaths, 94 active cases and 537 recoveries in the three states.\n",
      "['Humanitarian Conditions']\n",
      "['Humanitarian Conditions->Physical And Mental Well Being']\n",
      "['Health']\n",
      "\n",
      "The education sector continued its services in a limited sphere, as core learning activities are withheld due to the pandemic. They distributed 7,393 caregiver guidelines amongst partner NGOs and distributed students' work books among 8,528 level two learners in 11 camps in June. The education sector also conducted a training programme on ‘Prevention of Sexual Exploitation and Abuse (PSEA)’ for 29 staff, including 148 language Instructors from the Rohingya camps and 86 teachers from the host community.\n",
      "['Impact', 'Capacities & Response']\n",
      "['Impact->Driver/Aggravating Factors', 'Capacities & Response->International Response', 'Impact->Impact On Systems And Services']\n",
      "['Education', 'Health', 'Protection']\n",
      "\n",
      "e las estrategias de supervivencia de emergencia utilizadas en Arauca, el 44% de los hogares migrantes mencionó haber realizado una actividad que nunca antes pensó hacer; el 30% pidió limosna en la calle y el 14% buscó sobras en la basura. Estos altos niveles de afrontamiento negativo en Arauca están relacionados con la vulnerabilidad económica, donde los hogares migrantes tienen un gasto per cápita más bajo de alimentos, es decir, menos de 0.5 USD por día.\n",
      "['Humanitarian Conditions', 'Impact']\n",
      "['Impact->Number Of People Affected', 'Humanitarian Conditions->Coping Mechanisms', 'Humanitarian Conditions->Living Standards']\n",
      "['Food Security', 'Livelihoods']\n",
      "\n",
      "Yobe State Molecular Diagnostic Laboratory in the State Specialist Hospital has commenced COVID-19 testing. • Cumulative Positivity rate is 8.3% in Borno State and Test per million of population is 1,119 while case per million Population is 92. • A total of 7,751 COVID-19 test has been conducted in Borno State, initial test stands at 7,426 while follow up test Stands at 326. In Adamawa State, 1,378 samples have been tested, 10 were inconclusive while 72 results are pending. In Yobe State, 313 samples have been tested with 67 positive results and 203 negative results.\n",
      "['Capacities & Response']\n",
      "['Capacities & Response->National Response']\n",
      "['Health']\n",
      "\n",
      "Over 20,900 caregivers were reached with COVID-19 messaging during the week by CGPP volunteers across 9 focal LGAs in Borno State. 232 VCMs received refresher training on COVID-19 facts, addressing rumours and preventive measures. • In Yobe State, house-to-house community sensitization by VCMs and WHO HTR teams was conducted.\n",
      "['Capacities & Response']\n",
      "['Capacities & Response->Number Of People Reached']\n",
      "['Health']\n",
      "\n",
      "In Borno State, no persons were screened at Njimtilo Point of Entry. • Screening of passengers in Yobe State was carried out at Potiskum, Yusufari, Nangere, Bade, Geidam and Nguru LGA PoEs.\n",
      "[]\n",
      "[]\n",
      "[]\n",
      "\n",
      "más de uno en tres hogares (38%) no tiene acceso a agua potable en el lugar donde habita: 41% de los hogares migrantes y 26% en hogares de acogida. Este porcentaje es aún más elevado entre los hogares migrantes que viven en La Guajira, donde el 80% no tiene acceso a agua potable en su vivienda.\n",
      "['Humanitarian Conditions']\n",
      "['Humanitarian Conditions->Living Standards']\n",
      "['WASH']\n",
      "\n",
      "Education has been a major casualty of the pandemic, with experts repeatedly calling for conditions to prevail to allow for the resumption of in-person classes.\n",
      "[]\n",
      "[]\n",
      "['Education']\n",
      "\n",
      "According to daily data released by the ministry, the new infections were identified in more than 112,000 COVID-19 tests carried out over the past 24 hours, bringing the total number of cases in the country to 292,878.\n",
      "[]\n",
      "[]\n",
      "['Health']\n",
      "\n",
      "[13th October 2020 , Bangladesh] So far, 2,844 people have died in Dhaka division, 1,122 in Chattogram, 359 in Rajshahi, 449 in Khulna, 193 in Barishal, 238 in Sylhet, 254 in Rangpur and 118 in Mymensingh.\n",
      "['Humanitarian Conditions']\n",
      "['Humanitarian Conditions->Physical And Mental Well Being']\n",
      "['Health']\n",
      "\n",
      "In 2020, attacks have become increasingly discriminate and are repeatedly displacing communities across Tanganyika (ICG 2020).\n",
      "[]\n",
      "[]\n",
      "[]\n",
      "\n",
      "On 31 May 2020, the recent sharp depreciation of the country’s currency led to the Government raising the 2020 purchasing price of wheat from SYP 225 to SYP 400 (around USD 0.44 to USD 0.77) per kg to support farmer’s incomes and increase the stock of domestically procured wheat\n",
      "['Impact']\n",
      "['Impact->Impact On Systems And Services']\n",
      "['Food Security']\n",
      "\n",
      "The control measures in place to curb the spread of COVID-19 were loosened in May. There is a high risk that this could result in an increase in COVID-19 cases, leading to tighter restrictions being imposed from July 2020 until the epidemic curve flattens (estimated to be around October 2020)\n",
      "['People At Risk']\n",
      "['People At Risk->Risk And Vulnerabilities']\n",
      "['Health']\n",
      "\n",
      "In Borno State IPC members visited 3 schools to assess the level of readiness and preparedness of the schools in the state for reopening after COVID-19 pandemic with regards IPC measures. In Yobe State, decontamination of high-risk areas across the state was conducted. FMC Nguru & SSH Damaturu Isolation Centres were also disinfected.\n",
      "['Capacities & Response']\n",
      "['Capacities & Response->National Response']\n",
      "['Health', 'WASH']\n"
     ]
    },
    {
     "name": "stdout",
     "output_type": "stream",
     "text": [
      "\n",
      "Over 24,150 caregivers were sensitized with messages on COVID-19 by UNICEF VCMs in 20 LGAs in Borno State. Messages focus on voluntary sample testing, timely reporting of cases and de-stigmatization.\n",
      "['Capacities & Response']\n",
      "['Capacities & Response->Number Of People Reached']\n",
      "['Health']\n",
      "\n",
      "In Borno State, MMC has 74.8% of total confirmed cases while Jere LGA has 17.5%. A total of 219 contacts are being closely monitored in Borno State and 1,857 Households with 11,442 persons were reached. In Yobe State, case fatality rate amongst confirmed cases is 11.9% and positivity rate of 13.7% of the 490 samples tested. Case to contact ratio is 1:10 and percentage of LGAs that reported at least one confirmed case in the state is 76.1%. The percentage of confirmed cases amongst healthcare workers is 20%. In Adamawa State, a total of 17 contacts are being monitored. 217 out of 1,633 samples tested are positive, giving a positivity rate of 13.3%. Also, 48.4% of confirmed cases are known contacts of previously confirmed cases. 14.3% of confirmed cases in Adamawa State are health workers.\n",
      "['Humanitarian Conditions', 'Capacities & Response']\n",
      "['Capacities & Response->Number Of People Reached', 'Humanitarian Conditions->Physical And Mental Well Being']\n",
      "['Cross', 'Health']\n",
      "s\n"
     ]
    }
   ],
   "source": [
    "df = train.iloc[100:]\n",
    "for x, y, z, q in zip(df.excerpt, df.pillars, df.subpillars, df.sectors):\n",
    "    print(x)\n",
    "    print(y)\n",
    "    print(z)\n",
    "    print(q)\n",
    "    a = input()\n",
    "    if a == 's':\n",
    "        break"
   ]
  },
  {
   "cell_type": "code",
   "execution_count": 8,
   "id": "3bb19f69",
   "metadata": {
    "ExecuteTime": {
     "end_time": "2021-06-03T12:01:43.401286Z",
     "start_time": "2021-06-03T12:01:43.356834Z"
    }
   },
   "outputs": [
    {
     "data": {
      "text/html": [
       "<div>\n",
       "<style scoped>\n",
       "    .dataframe tbody tr th:only-of-type {\n",
       "        vertical-align: middle;\n",
       "    }\n",
       "\n",
       "    .dataframe tbody tr th {\n",
       "        vertical-align: top;\n",
       "    }\n",
       "\n",
       "    .dataframe thead th {\n",
       "        text-align: right;\n",
       "    }\n",
       "</style>\n",
       "<table border=\"1\" class=\"dataframe\">\n",
       "  <thead>\n",
       "    <tr style=\"text-align: right;\">\n",
       "      <th></th>\n",
       "      <th>entry_id</th>\n",
       "      <th>lead_id</th>\n",
       "      <th>project_id</th>\n",
       "      <th>project_title</th>\n",
       "      <th>analysis_framework_id</th>\n",
       "      <th>excerpt</th>\n",
       "      <th>dropped_excerpt</th>\n",
       "      <th>created_by_id</th>\n",
       "      <th>modified_by_id</th>\n",
       "      <th>verified</th>\n",
       "      <th>verification_last_changed_by_id</th>\n",
       "      <th>sectors</th>\n",
       "      <th>pillars</th>\n",
       "      <th>subpillars</th>\n",
       "    </tr>\n",
       "  </thead>\n",
       "  <tbody>\n",
       "    <tr>\n",
       "      <th>0</th>\n",
       "      <td>163664</td>\n",
       "      <td>35315</td>\n",
       "      <td>2028</td>\n",
       "      <td>IMMAP/DFS Syria</td>\n",
       "      <td>1306</td>\n",
       "      <td>Market monitoring by the World Food Programme ...</td>\n",
       "      <td>NaN</td>\n",
       "      <td>2232</td>\n",
       "      <td>2232</td>\n",
       "      <td>False</td>\n",
       "      <td>NaN</td>\n",
       "      <td>[Food Security]</td>\n",
       "      <td>[Impact]</td>\n",
       "      <td>[Impact-&gt;Impact On Systems And Services]</td>\n",
       "    </tr>\n",
       "    <tr>\n",
       "      <th>1</th>\n",
       "      <td>162812</td>\n",
       "      <td>37820</td>\n",
       "      <td>2098</td>\n",
       "      <td>IMMAP/DFS Bangladesh</td>\n",
       "      <td>1306</td>\n",
       "      <td>Quarantine Facilities: ninety-three shelters i...</td>\n",
       "      <td>NaN</td>\n",
       "      <td>657</td>\n",
       "      <td>2233</td>\n",
       "      <td>False</td>\n",
       "      <td>NaN</td>\n",
       "      <td>[Health]</td>\n",
       "      <td>[Capacities &amp; Response]</td>\n",
       "      <td>[Capacities &amp; Response-&gt;International Response]</td>\n",
       "    </tr>\n",
       "    <tr>\n",
       "      <th>2</th>\n",
       "      <td>164560</td>\n",
       "      <td>39796</td>\n",
       "      <td>2098</td>\n",
       "      <td>IMMAP/DFS Bangladesh</td>\n",
       "      <td>1306</td>\n",
       "      <td>Within dimensions, markets are broadly operati...</td>\n",
       "      <td>NaN</td>\n",
       "      <td>1152</td>\n",
       "      <td>1152</td>\n",
       "      <td>False</td>\n",
       "      <td>NaN</td>\n",
       "      <td>[Cross]</td>\n",
       "      <td>[Impact]</td>\n",
       "      <td>[Impact-&gt;Impact On Systems And Services]</td>\n",
       "    </tr>\n",
       "    <tr>\n",
       "      <th>3</th>\n",
       "      <td>157496</td>\n",
       "      <td>38706</td>\n",
       "      <td>2098</td>\n",
       "      <td>IMMAP/DFS Bangladesh</td>\n",
       "      <td>1306</td>\n",
       "      <td>Frontline aid workers face a heightened risk o...</td>\n",
       "      <td>NaN</td>\n",
       "      <td>2233</td>\n",
       "      <td>2233</td>\n",
       "      <td>False</td>\n",
       "      <td>NaN</td>\n",
       "      <td>[Health, Logistics]</td>\n",
       "      <td>[Impact, People At Risk]</td>\n",
       "      <td>[Impact-&gt;Driver/Aggravating Factors, People At...</td>\n",
       "    </tr>\n",
       "    <tr>\n",
       "      <th>4</th>\n",
       "      <td>170866</td>\n",
       "      <td>37673</td>\n",
       "      <td>1142</td>\n",
       "      <td>IFRC Turkey</td>\n",
       "      <td>699</td>\n",
       "      <td>[COVID] TRC is currently using its different c...</td>\n",
       "      <td>NaN</td>\n",
       "      <td>2233</td>\n",
       "      <td>2233</td>\n",
       "      <td>False</td>\n",
       "      <td>NaN</td>\n",
       "      <td>[Health]</td>\n",
       "      <td>[]</td>\n",
       "      <td>[]</td>\n",
       "    </tr>\n",
       "    <tr>\n",
       "      <th>...</th>\n",
       "      <td>...</td>\n",
       "      <td>...</td>\n",
       "      <td>...</td>\n",
       "      <td>...</td>\n",
       "      <td>...</td>\n",
       "      <td>...</td>\n",
       "      <td>...</td>\n",
       "      <td>...</td>\n",
       "      <td>...</td>\n",
       "      <td>...</td>\n",
       "      <td>...</td>\n",
       "      <td>...</td>\n",
       "      <td>...</td>\n",
       "      <td>...</td>\n",
       "    </tr>\n",
       "    <tr>\n",
       "      <th>90648</th>\n",
       "      <td>282949</td>\n",
       "      <td>51241</td>\n",
       "      <td>2170</td>\n",
       "      <td>IMMAP/DFS Nigeria</td>\n",
       "      <td>1306</td>\n",
       "      <td>[16th Mar 2021,North east Nigeria]The governme...</td>\n",
       "      <td>NaN</td>\n",
       "      <td>2230</td>\n",
       "      <td>26</td>\n",
       "      <td>True</td>\n",
       "      <td>26.0</td>\n",
       "      <td>[Cross]</td>\n",
       "      <td>[Impact]</td>\n",
       "      <td>[Impact-&gt;Impact On Systems And Services]</td>\n",
       "    </tr>\n",
       "    <tr>\n",
       "      <th>90649</th>\n",
       "      <td>283375</td>\n",
       "      <td>51241</td>\n",
       "      <td>2170</td>\n",
       "      <td>IMMAP/DFS Nigeria</td>\n",
       "      <td>1306</td>\n",
       "      <td>[16th Mar 2021,North east Nigeria] Impact on s...</td>\n",
       "      <td>NaN</td>\n",
       "      <td>2230</td>\n",
       "      <td>1152</td>\n",
       "      <td>True</td>\n",
       "      <td>1152.0</td>\n",
       "      <td>[Health, Education, Protection, Livelihoods]</td>\n",
       "      <td>[Humanitarian Conditions, Impact]</td>\n",
       "      <td>[Impact-&gt;Driver/Aggravating Factors, Humanitar...</td>\n",
       "    </tr>\n",
       "    <tr>\n",
       "      <th>90650</th>\n",
       "      <td>268927</td>\n",
       "      <td>49888</td>\n",
       "      <td>2331</td>\n",
       "      <td>GIMAC Somalia</td>\n",
       "      <td>1465</td>\n",
       "      <td>A reported 14 per cent of women aged 15-49 had...</td>\n",
       "      <td>NaN</td>\n",
       "      <td>2741</td>\n",
       "      <td>2272</td>\n",
       "      <td>True</td>\n",
       "      <td>488.0</td>\n",
       "      <td>[Protection]</td>\n",
       "      <td>[]</td>\n",
       "      <td>[]</td>\n",
       "    </tr>\n",
       "    <tr>\n",
       "      <th>90651</th>\n",
       "      <td>268842</td>\n",
       "      <td>49945</td>\n",
       "      <td>2311</td>\n",
       "      <td>IMMAP/DFS Colombia</td>\n",
       "      <td>1306</td>\n",
       "      <td>La alternancia no es solo plantear cuáles niño...</td>\n",
       "      <td>La alternancia no es solo plantear cuáles niño...</td>\n",
       "      <td>2374</td>\n",
       "      <td>2374</td>\n",
       "      <td>True</td>\n",
       "      <td>1403.0</td>\n",
       "      <td>[Education]</td>\n",
       "      <td>[Impact]</td>\n",
       "      <td>[Impact-&gt;Impact On Systems And Services]</td>\n",
       "    </tr>\n",
       "    <tr>\n",
       "      <th>90652</th>\n",
       "      <td>305234</td>\n",
       "      <td>53100</td>\n",
       "      <td>2334</td>\n",
       "      <td>GIMAC Cameroon</td>\n",
       "      <td>1465</td>\n",
       "      <td>ACQUIS: Procédures de contrôle de l’infection ...</td>\n",
       "      <td>NaN</td>\n",
       "      <td>2854</td>\n",
       "      <td>2854</td>\n",
       "      <td>True</td>\n",
       "      <td>488.0</td>\n",
       "      <td>[Health]</td>\n",
       "      <td>[]</td>\n",
       "      <td>[]</td>\n",
       "    </tr>\n",
       "  </tbody>\n",
       "</table>\n",
       "<p>90653 rows × 14 columns</p>\n",
       "</div>"
      ],
      "text/plain": [
       "       entry_id  lead_id  project_id         project_title  \\\n",
       "0        163664    35315        2028       IMMAP/DFS Syria   \n",
       "1        162812    37820        2098  IMMAP/DFS Bangladesh   \n",
       "2        164560    39796        2098  IMMAP/DFS Bangladesh   \n",
       "3        157496    38706        2098  IMMAP/DFS Bangladesh   \n",
       "4        170866    37673        1142           IFRC Turkey   \n",
       "...         ...      ...         ...                   ...   \n",
       "90648    282949    51241        2170     IMMAP/DFS Nigeria   \n",
       "90649    283375    51241        2170     IMMAP/DFS Nigeria   \n",
       "90650    268927    49888        2331         GIMAC Somalia   \n",
       "90651    268842    49945        2311    IMMAP/DFS Colombia   \n",
       "90652    305234    53100        2334        GIMAC Cameroon   \n",
       "\n",
       "       analysis_framework_id  \\\n",
       "0                       1306   \n",
       "1                       1306   \n",
       "2                       1306   \n",
       "3                       1306   \n",
       "4                        699   \n",
       "...                      ...   \n",
       "90648                   1306   \n",
       "90649                   1306   \n",
       "90650                   1465   \n",
       "90651                   1306   \n",
       "90652                   1465   \n",
       "\n",
       "                                                 excerpt  \\\n",
       "0      Market monitoring by the World Food Programme ...   \n",
       "1      Quarantine Facilities: ninety-three shelters i...   \n",
       "2      Within dimensions, markets are broadly operati...   \n",
       "3      Frontline aid workers face a heightened risk o...   \n",
       "4      [COVID] TRC is currently using its different c...   \n",
       "...                                                  ...   \n",
       "90648  [16th Mar 2021,North east Nigeria]The governme...   \n",
       "90649  [16th Mar 2021,North east Nigeria] Impact on s...   \n",
       "90650  A reported 14 per cent of women aged 15-49 had...   \n",
       "90651  La alternancia no es solo plantear cuáles niño...   \n",
       "90652  ACQUIS: Procédures de contrôle de l’infection ...   \n",
       "\n",
       "                                         dropped_excerpt  created_by_id  \\\n",
       "0                                                    NaN           2232   \n",
       "1                                                    NaN            657   \n",
       "2                                                    NaN           1152   \n",
       "3                                                    NaN           2233   \n",
       "4                                                    NaN           2233   \n",
       "...                                                  ...            ...   \n",
       "90648                                                NaN           2230   \n",
       "90649                                                NaN           2230   \n",
       "90650                                                NaN           2741   \n",
       "90651  La alternancia no es solo plantear cuáles niño...           2374   \n",
       "90652                                                NaN           2854   \n",
       "\n",
       "       modified_by_id  verified  verification_last_changed_by_id  \\\n",
       "0                2232     False                              NaN   \n",
       "1                2233     False                              NaN   \n",
       "2                1152     False                              NaN   \n",
       "3                2233     False                              NaN   \n",
       "4                2233     False                              NaN   \n",
       "...               ...       ...                              ...   \n",
       "90648              26      True                             26.0   \n",
       "90649            1152      True                           1152.0   \n",
       "90650            2272      True                            488.0   \n",
       "90651            2374      True                           1403.0   \n",
       "90652            2854      True                            488.0   \n",
       "\n",
       "                                            sectors  \\\n",
       "0                                   [Food Security]   \n",
       "1                                          [Health]   \n",
       "2                                           [Cross]   \n",
       "3                               [Health, Logistics]   \n",
       "4                                          [Health]   \n",
       "...                                             ...   \n",
       "90648                                       [Cross]   \n",
       "90649  [Health, Education, Protection, Livelihoods]   \n",
       "90650                                  [Protection]   \n",
       "90651                                   [Education]   \n",
       "90652                                      [Health]   \n",
       "\n",
       "                                 pillars  \\\n",
       "0                               [Impact]   \n",
       "1                [Capacities & Response]   \n",
       "2                               [Impact]   \n",
       "3               [Impact, People At Risk]   \n",
       "4                                     []   \n",
       "...                                  ...   \n",
       "90648                           [Impact]   \n",
       "90649  [Humanitarian Conditions, Impact]   \n",
       "90650                                 []   \n",
       "90651                           [Impact]   \n",
       "90652                                 []   \n",
       "\n",
       "                                              subpillars  \n",
       "0               [Impact->Impact On Systems And Services]  \n",
       "1        [Capacities & Response->International Response]  \n",
       "2               [Impact->Impact On Systems And Services]  \n",
       "3      [Impact->Driver/Aggravating Factors, People At...  \n",
       "4                                                     []  \n",
       "...                                                  ...  \n",
       "90648           [Impact->Impact On Systems And Services]  \n",
       "90649  [Impact->Driver/Aggravating Factors, Humanitar...  \n",
       "90650                                                 []  \n",
       "90651           [Impact->Impact On Systems And Services]  \n",
       "90652                                                 []  \n",
       "\n",
       "[90653 rows x 14 columns]"
      ]
     },
     "execution_count": 8,
     "metadata": {},
     "output_type": "execute_result"
    }
   ],
   "source": [
    "train"
   ]
  },
  {
   "cell_type": "markdown",
   "id": "b2108756",
   "metadata": {},
   "source": [
    "## Freq"
   ]
  },
  {
   "cell_type": "code",
   "execution_count": null,
   "id": "4eee28d7",
   "metadata": {
    "ExecuteTime": {
     "end_time": "2021-06-03T09:41:33.988605Z",
     "start_time": "2021-06-03T09:41:33.979766Z"
    }
   },
   "outputs": [],
   "source": [
    "def get_freq_matrix(df):\n",
    "    t = df.explode('pillars').explode('subpillars')\n",
    "    t = t.groupby(['pillars', 'subpillars']).count()[['sectors']]\n",
    "    freq = t.unstack(level=0)['sectors'].fillna(0).astype(int)\n",
    "    return freq"
   ]
  },
  {
   "cell_type": "code",
   "execution_count": null,
   "id": "290de958",
   "metadata": {
    "ExecuteTime": {
     "end_time": "2021-06-03T09:41:35.486969Z",
     "start_time": "2021-06-03T09:41:35.064928Z"
    }
   },
   "outputs": [],
   "source": [
    "freq = get_freq_matrix(train)\n",
    "freq_val = get_freq_matrix(val)\n",
    "freq_test = get_freq_matrix(test)"
   ]
  },
  {
   "cell_type": "code",
   "execution_count": null,
   "id": "a55e6f4e",
   "metadata": {
    "ExecuteTime": {
     "end_time": "2021-06-03T09:41:36.189451Z",
     "start_time": "2021-06-03T09:41:36.138562Z"
    }
   },
   "outputs": [],
   "source": [
    "t = train[train.pillars.apply(len) == 1]"
   ]
  },
  {
   "cell_type": "code",
   "execution_count": null,
   "id": "a86f1569",
   "metadata": {
    "ExecuteTime": {
     "end_time": "2021-06-03T09:41:38.169086Z",
     "start_time": "2021-06-03T09:41:38.143418Z"
    },
    "scrolled": true
   },
   "outputs": [],
   "source": [
    "freq"
   ]
  },
  {
   "cell_type": "code",
   "execution_count": null,
   "id": "a035604d",
   "metadata": {
    "ExecuteTime": {
     "end_time": "2021-06-03T08:35:34.403968Z",
     "start_time": "2021-06-03T08:35:34.124650Z"
    }
   },
   "outputs": [],
   "source": [
    "t = train[train.pillars.apply(len)==0]"
   ]
  },
  {
   "cell_type": "code",
   "execution_count": null,
   "id": "a633ce7b",
   "metadata": {
    "ExecuteTime": {
     "end_time": "2021-06-03T08:35:41.159521Z",
     "start_time": "2021-06-03T08:35:41.118000Z"
    }
   },
   "outputs": [],
   "source": [
    "t"
   ]
  },
  {
   "cell_type": "code",
   "execution_count": null,
   "id": "b67d4d90",
   "metadata": {
    "ExecuteTime": {
     "end_time": "2021-06-03T08:24:49.492066Z",
     "start_time": "2021-06-03T08:24:49.006969Z"
    }
   },
   "outputs": [],
   "source": [
    "matching = pd.read_excel('/Users/stefano/Downloads/Pillars and Subpillars Matching.xlsx', sheet_name='Matching - duplicate')\n",
    "matching = matching[['Final Pillar Name', 'Final Sub-pillar Name']]\n",
    "matching.columns = ['pillars', 'subpillars']\n",
    "matching['ones'] = 1\n",
    "matching.pillars = matching.pillars.str.replace('Humanitatian conditions', 'Humanitarian Conditions')\n",
    "matching.pillars = matching.pillars.str.replace('impact', 'Impact')\n",
    "matching_freq = matching.groupby(['pillars', 'subpillars']).sum().unstack(level=0)['ones']"
   ]
  },
  {
   "cell_type": "code",
   "execution_count": null,
   "id": "ed16b796",
   "metadata": {
    "ExecuteTime": {
     "end_time": "2021-06-03T08:20:28.548502Z",
     "start_time": "2021-06-03T08:20:28.422176Z"
    },
    "scrolled": false
   },
   "outputs": [],
   "source": [
    "get_freq_matrix(t)"
   ]
  },
  {
   "cell_type": "code",
   "execution_count": null,
   "id": "b86ff25b",
   "metadata": {
    "ExecuteTime": {
     "end_time": "2021-06-03T08:25:02.214495Z",
     "start_time": "2021-06-03T08:25:02.183730Z"
    }
   },
   "outputs": [],
   "source": [
    "matching_freq"
   ]
  },
  {
   "cell_type": "code",
   "execution_count": null,
   "id": "491579e4",
   "metadata": {
    "ExecuteTime": {
     "end_time": "2021-06-02T15:30:39.671433Z",
     "start_time": "2021-06-02T15:30:39.666742Z"
    }
   },
   "outputs": [],
   "source": [
    "left = ['Impact','People at risk','Priority needs']\n",
    "removed = ['Capacities & Response','Humanitarian Conditions','Priority interventions']"
   ]
  },
  {
   "cell_type": "code",
   "execution_count": null,
   "id": "b542a58a",
   "metadata": {
    "ExecuteTime": {
     "end_time": "2021-06-02T15:30:57.442323Z",
     "start_time": "2021-06-02T15:30:57.430424Z"
    },
    "scrolled": true
   },
   "outputs": [],
   "source": [
    "list(matching_freq[removed].dropna(axis=0, how='all').index)"
   ]
  },
  {
   "cell_type": "code",
   "execution_count": null,
   "id": "c47651a6",
   "metadata": {
    "ExecuteTime": {
     "end_time": "2021-06-02T15:29:03.231968Z",
     "start_time": "2021-06-02T15:29:03.207009Z"
    }
   },
   "outputs": [],
   "source": [
    "matching_freq[left].dropna(axis=0, how='all')"
   ]
  },
  {
   "cell_type": "code",
   "execution_count": null,
   "id": "120c1c4b",
   "metadata": {
    "ExecuteTime": {
     "end_time": "2021-06-02T15:04:56.725599Z",
     "start_time": "2021-06-02T15:04:56.474146Z"
    }
   },
   "outputs": [],
   "source": [
    "get_freq_matrix(t)"
   ]
  },
  {
   "cell_type": "code",
   "execution_count": null,
   "id": "655a2b98",
   "metadata": {
    "ExecuteTime": {
     "end_time": "2021-06-02T14:54:44.096564Z",
     "start_time": "2021-06-02T14:54:44.080384Z"
    }
   },
   "outputs": [],
   "source": [
    "freq"
   ]
  },
  {
   "cell_type": "code",
   "execution_count": null,
   "id": "d1303a74",
   "metadata": {
    "ExecuteTime": {
     "end_time": "2021-06-02T14:52:10.815810Z",
     "start_time": "2021-06-02T14:52:10.801468Z"
    }
   },
   "outputs": [],
   "source": [
    "freq_val"
   ]
  },
  {
   "cell_type": "code",
   "execution_count": null,
   "id": "ac34712e",
   "metadata": {
    "ExecuteTime": {
     "end_time": "2021-06-02T14:52:26.591092Z",
     "start_time": "2021-06-02T14:52:26.577213Z"
    }
   },
   "outputs": [],
   "source": [
    "freq_test"
   ]
  },
  {
   "cell_type": "code",
   "execution_count": null,
   "id": "8609dc12",
   "metadata": {
    "ExecuteTime": {
     "end_time": "2021-06-02T14:43:57.737797Z",
     "start_time": "2021-06-02T14:43:57.713991Z"
    }
   },
   "outputs": [],
   "source": [
    "freq.sum(axis=0)"
   ]
  },
  {
   "cell_type": "code",
   "execution_count": null,
   "id": "d248d35f",
   "metadata": {},
   "outputs": [],
   "source": []
  }
 ],
 "metadata": {
  "kernelspec": {
   "display_name": "Python 3",
   "language": "python",
   "name": "python3"
  },
  "language_info": {
   "codemirror_mode": {
    "name": "ipython",
    "version": 3
   },
   "file_extension": ".py",
   "mimetype": "text/x-python",
   "name": "python",
   "nbconvert_exporter": "python",
   "pygments_lexer": "ipython3",
   "version": "3.9.1"
  },
  "toc": {
   "base_numbering": 1,
   "nav_menu": {},
   "number_sections": true,
   "sideBar": true,
   "skip_h1_title": false,
   "title_cell": "Table of Contents",
   "title_sidebar": "Contents",
   "toc_cell": false,
   "toc_position": {},
   "toc_section_display": true,
   "toc_window_display": false
  }
 },
 "nbformat": 4,
 "nbformat_minor": 5
}
