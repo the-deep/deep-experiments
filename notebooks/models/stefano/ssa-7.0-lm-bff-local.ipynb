{
 "cells": [
  {
   "cell_type": "markdown",
   "id": "a5079ffd",
   "metadata": {},
   "source": [
    "Using kernel `conda_pytorch_latest_p36`"
   ]
  },
  {
   "cell_type": "markdown",
   "id": "c116fc0a",
   "metadata": {
    "ExecuteTime": {
     "end_time": "2021-06-08T08:56:30.597058Z",
     "start_time": "2021-06-08T08:56:30.579481Z"
    }
   },
   "source": [
    "We take inspiration from [this paper](https://arxiv.org/pdf/2104.14690.pdf)"
   ]
  },
  {
   "cell_type": "code",
   "execution_count": 1,
   "id": "0b889dcf",
   "metadata": {
    "ExecuteTime": {
     "end_time": "2021-06-08T12:26:34.190399Z",
     "start_time": "2021-06-08T12:26:34.185389Z"
    },
    "scrolled": true
   },
   "outputs": [],
   "source": [
    "# !pip install cloudpathlib\n",
    "# !pip install s3fs\n",
    "# !pip install transformers\\\n",
    "# !pip install pytorch-lightning"
   ]
  },
  {
   "cell_type": "markdown",
   "id": "a5148dbe",
   "metadata": {},
   "source": [
    "# Import"
   ]
  },
  {
   "cell_type": "code",
   "execution_count": 2,
   "id": "3395fb4f",
   "metadata": {
    "ExecuteTime": {
     "end_time": "2021-06-08T12:26:34.484713Z",
     "start_time": "2021-06-08T12:26:34.479644Z"
    }
   },
   "outputs": [],
   "source": [
    "import sys\n",
    "sys.path.append('../../../')"
   ]
  },
  {
   "cell_type": "code",
   "execution_count": 3,
   "id": "f5b6a45f",
   "metadata": {
    "ExecuteTime": {
     "end_time": "2021-06-08T12:26:34.639049Z",
     "start_time": "2021-06-08T12:26:34.632874Z"
    }
   },
   "outputs": [],
   "source": [
    "from pathlib import Path\n",
    "import os\n",
    "import random\n",
    "import json\n",
    "from datetime import datetime"
   ]
  },
  {
   "cell_type": "code",
   "execution_count": 234,
   "id": "7ef0e20e",
   "metadata": {
    "ExecuteTime": {
     "end_time": "2021-06-08T13:31:03.135233Z",
     "start_time": "2021-06-08T13:31:02.993248Z"
    }
   },
   "outputs": [],
   "source": [
    "import pandas as pd\n",
    "import numpy as np\n",
    "from sklearn.metrics import classification_report\n",
    "import torch\n",
    "from torch import nn\n",
    "\n",
    "import sagemaker\n",
    "from sagemaker import get_execution_role\n",
    "import boto3\n",
    "import torch.nn as nn\n",
    "from sklearn.preprocessing import MultiLabelBinarizer\n",
    "from torch.utils.data import DataLoader,Dataset\n",
    "from tqdm import tqdm\n",
    "from langdetect import detect\n",
    "\n",
    "import boto3\n",
    "import pytorch_lightning as pl\n",
    "import torch.nn as nn\n",
    "from transformers import (\n",
    "    AutoModelForSequenceClassification,\n",
    "    BertForMaskedLM,\n",
    "    DistilBertForMaskedLM,\n",
    "    AutoModel,\n",
    "    AutoTokenizer,\n",
    "    AdamW,\n",
    "    get_linear_schedule_with_warmup,\n",
    ")\n",
    "from torch.utils.data import DataLoader,Dataset"
   ]
  },
  {
   "cell_type": "code",
   "execution_count": 5,
   "id": "94f0dded",
   "metadata": {
    "ExecuteTime": {
     "end_time": "2021-06-08T12:26:37.096726Z",
     "start_time": "2021-06-08T12:26:37.014199Z"
    },
    "scrolled": true
   },
   "outputs": [],
   "source": [
    "from deep.constants import *\n",
    "from deep.utils import *"
   ]
  },
  {
   "cell_type": "code",
   "execution_count": 6,
   "id": "7a68c43d",
   "metadata": {
    "ExecuteTime": {
     "end_time": "2021-06-08T12:26:37.123251Z",
     "start_time": "2021-06-08T12:26:37.097971Z"
    }
   },
   "outputs": [],
   "source": [
    "%load_ext autoreload\n",
    "%autoreload 2"
   ]
  },
  {
   "cell_type": "markdown",
   "id": "314e88fa",
   "metadata": {},
   "source": [
    "## Data"
   ]
  },
  {
   "cell_type": "code",
   "execution_count": 7,
   "id": "8f87a8d9",
   "metadata": {
    "ExecuteTime": {
     "end_time": "2021-06-08T12:26:37.147070Z",
     "start_time": "2021-06-08T12:26:37.124546Z"
    }
   },
   "outputs": [],
   "source": [
    "def preprocessing(df):\n",
    "    df = df.copy()\n",
    "    df['sectors'] = df['sectors'].apply(eval)    \n",
    "    df['pillars'] = df['pillars'].apply(eval)\n",
    "    df['pillars'] = df['pillars'].apply(lambda x: list(set(x)))\n",
    "    df['subpillars'] = df['subpillars'].apply(eval)\n",
    "    return df"
   ]
  },
  {
   "cell_type": "code",
   "execution_count": 298,
   "id": "37c4ef8e",
   "metadata": {
    "ExecuteTime": {
     "end_time": "2021-06-08T13:48:16.126584Z",
     "start_time": "2021-06-08T13:48:16.087696Z"
    }
   },
   "outputs": [],
   "source": [
    "column = 'pillars'\n",
    "classes=PILLARS\n",
    "text_column = 'excerpt'\n",
    "label_column = 'labels'"
   ]
  },
  {
   "cell_type": "code",
   "execution_count": 299,
   "id": "350de4d7",
   "metadata": {
    "ExecuteTime": {
     "end_time": "2021-06-08T13:48:19.469698Z",
     "start_time": "2021-06-08T13:48:16.791917Z"
    },
    "scrolled": true
   },
   "outputs": [],
   "source": [
    "train = preprocessing(pd.read_csv(LATEST_DATA_PATH / 'data_v0.4.4_train.csv', index_col=0))\n",
    "val = preprocessing(pd.read_csv(LATEST_DATA_PATH / 'data_v0.4.4_val.csv', index_col=0))\n",
    "test = preprocessing(pd.read_csv(LATEST_DATA_PATH / 'data_v0.4.4_test.csv', index_col=0))"
   ]
  },
  {
   "cell_type": "code",
   "execution_count": 293,
   "id": "57df8cd0",
   "metadata": {
    "ExecuteTime": {
     "end_time": "2021-06-08T13:47:41.811563Z",
     "start_time": "2021-06-08T13:47:41.771653Z"
    }
   },
   "outputs": [],
   "source": [
    "def preprocess_mlm(df):\n",
    "    df['labels'] = [[1 if y in x else 0 for y in classes] for x in df[column]]\n",
    "    return df"
   ]
  },
  {
   "cell_type": "code",
   "execution_count": 300,
   "id": "341253b6",
   "metadata": {
    "ExecuteTime": {
     "end_time": "2021-06-08T13:48:31.030064Z",
     "start_time": "2021-06-08T13:48:30.888891Z"
    }
   },
   "outputs": [],
   "source": [
    "train_df = preprocess_mlm(train)\n",
    "val_df = preprocess_mlm(val)\n",
    "test_df = preprocess_mlm(test)"
   ]
  },
  {
   "cell_type": "markdown",
   "id": "fa5dc270",
   "metadata": {},
   "source": [
    "# Model"
   ]
  },
  {
   "cell_type": "code",
   "execution_count": 301,
   "id": "0aee734d",
   "metadata": {
    "ExecuteTime": {
     "end_time": "2021-06-08T13:48:32.369552Z",
     "start_time": "2021-06-08T13:48:32.328284Z"
    }
   },
   "outputs": [],
   "source": [
    "classes = PILLARS\n",
    "len_longest_class =  max([len(x.split()) for x in classes])\n",
    "append_string = [\n",
    "    f'[SEP] Is this sentence about {c}? [MASK]'\n",
    "    for c in classes\n",
    "]\n",
    "append_string = ' '.join(append_string)"
   ]
  },
  {
   "cell_type": "code",
   "execution_count": 302,
   "id": "2385406d",
   "metadata": {
    "ExecuteTime": {
     "end_time": "2021-06-08T13:48:37.472198Z",
     "start_time": "2021-06-08T13:48:32.779260Z"
    }
   },
   "outputs": [],
   "source": [
    "model_name = 'distilbert-base-uncased'\n",
    "tokenizer = AutoTokenizer.from_pretrained(model_name)\n",
    "model = DistilBertForMaskedLM.from_pretrained(model_name)"
   ]
  },
  {
   "cell_type": "code",
   "execution_count": 304,
   "id": "8c77c5eb",
   "metadata": {
    "ExecuteTime": {
     "end_time": "2021-06-08T13:50:18.325760Z",
     "start_time": "2021-06-08T13:50:18.287014Z"
    }
   },
   "outputs": [
    {
     "data": {
      "text/plain": [
       "2748"
      ]
     },
     "execution_count": 304,
     "metadata": {},
     "output_type": "execute_result"
    }
   ],
   "source": [
    "tokenizer.convert_tokens_to_ids('yes')"
   ]
  },
  {
   "cell_type": "code",
   "execution_count": 322,
   "id": "ff8a7733",
   "metadata": {
    "ExecuteTime": {
     "end_time": "2021-06-08T13:53:22.966484Z",
     "start_time": "2021-06-08T13:53:22.922720Z"
    }
   },
   "outputs": [],
   "source": [
    "class LMBFFDataset(Dataset):\n",
    "    def __init__(self, tokenizer, df, text_col, label_col, append_string):\n",
    "        self.tokenizer = tokenizer\n",
    "        self.df = df\n",
    "        self.texts = df[text_col].values + append_string\n",
    "        self.labels = self.compute_labels(df[label_col])\n",
    "        \n",
    "    def compute_labels(self, labels):\n",
    "        yes_token = self.tokenizer.convert_tokens_to_ids('yes')\n",
    "        no_token = self.tokenizer.convert_tokens_to_ids('no')\n",
    "        labels = [[yes_token if y else no_token for y in label] for label in labels]\n",
    "        return torch.tensor(labels)\n",
    "\n",
    "    def __len__(self):\n",
    "        return self.df.shape[0]\n",
    "    \n",
    "    def __getitem__(self, idx):\n",
    "        text = self.texts[idx] \n",
    "        inputs = self.tokenizer.encode_plus(\n",
    "            text,\n",
    "#             truncation=True,\n",
    "            padding='max_length',\n",
    "            return_tensors='pt',\n",
    "        )\n",
    "        inputs['input_ids'] = inputs['input_ids'].squeeze(0)\n",
    "        labels = self.labels[idx]\n",
    "        inputs['labels'] = self.mlm_labels(inputs, labels)\n",
    "        return inputs\n",
    "\n",
    "    def mlm_labels(self, inputs, label):\n",
    "        labels = inputs['input_ids'].clone()\n",
    "        labels[labels != tokenizer.mask_token_id] = -100\n",
    "        labels[labels == tokenizer.mask_token_id] = label\n",
    "        return labels"
   ]
  },
  {
   "cell_type": "code",
   "execution_count": 323,
   "id": "ce43c8ad",
   "metadata": {
    "ExecuteTime": {
     "end_time": "2021-06-08T13:53:24.840914Z",
     "start_time": "2021-06-08T13:53:23.672746Z"
    }
   },
   "outputs": [],
   "source": [
    "dataset = LMBFFDataset(tokenizer, train, 'excerpt', label_column, append_string)\n",
    "batch_size = 16"
   ]
  },
  {
   "cell_type": "code",
   "execution_count": 324,
   "id": "d8de8a20",
   "metadata": {
    "ExecuteTime": {
     "end_time": "2021-06-08T13:53:24.945024Z",
     "start_time": "2021-06-08T13:53:24.842143Z"
    }
   },
   "outputs": [],
   "source": [
    "train_dataloader = DataLoader(\n",
    "    dataset, \n",
    "    batch_size=batch_size, \n",
    "    shuffle=True,\n",
    "    num_workers=0, \n",
    "    pin_memory=False\n",
    ")"
   ]
  },
  {
   "cell_type": "code",
   "execution_count": 326,
   "id": "48a760ef",
   "metadata": {
    "ExecuteTime": {
     "end_time": "2021-06-08T13:53:53.795915Z",
     "start_time": "2021-06-08T13:53:53.723416Z"
    }
   },
   "outputs": [],
   "source": [
    "optimizer = AdamW(model.parameters(), lr=5e-5)"
   ]
  },
  {
   "cell_type": "code",
   "execution_count": 327,
   "id": "3d3e2c67",
   "metadata": {
    "ExecuteTime": {
     "end_time": "2021-06-08T13:55:38.157939Z",
     "start_time": "2021-06-08T13:53:54.500218Z"
    },
    "scrolled": true
   },
   "outputs": [],
   "source": [
    "for batch in train_dataloader:\n",
    "    outputs = model(**batch)\n",
    "    loss = outputs.loss\n",
    "    loss.backward()\n",
    "    \n",
    "    optimizer.step()\n",
    "    optimizer.zero_grad()\n",
    "    break"
   ]
  },
  {
   "cell_type": "code",
   "execution_count": 328,
   "id": "d764fc32",
   "metadata": {
    "ExecuteTime": {
     "end_time": "2021-06-08T13:55:38.312486Z",
     "start_time": "2021-06-08T13:55:38.163091Z"
    }
   },
   "outputs": [
    {
     "data": {
      "text/plain": [
       "MaskedLMOutput(loss=tensor(10.3498, grad_fn=<NllLossBackward>), logits=tensor([[[ -5.8382,  -5.8248,  -5.8095,  ...,  -5.1800,  -4.9848,  -3.1095],\n",
       "         [ -6.4971,  -6.6986,  -6.6697,  ...,  -4.6652,  -5.9208,  -2.0425],\n",
       "         [ -8.4311,  -8.2863,  -8.8108,  ...,  -7.7188,  -7.1976,  -5.6503],\n",
       "         ...,\n",
       "         [ -3.6936,  -3.7121,  -4.0092,  ...,  -3.1034,  -4.7977,  -3.5473],\n",
       "         [ -6.0738,  -5.9762,  -5.8656,  ...,  -5.8428,  -5.8106,  -3.3913],\n",
       "         [ -4.3260,  -4.6040,  -4.5952,  ...,  -4.1918,  -4.5281,  -1.8303]],\n",
       "\n",
       "        [[ -5.7506,  -5.7316,  -5.7304,  ...,  -5.1290,  -4.8876,  -3.1849],\n",
       "         [ -4.6835,  -5.1957,  -5.0777,  ...,  -2.4479,  -4.2939,  -2.6147],\n",
       "         [ -3.6053,  -3.6985,  -4.1453,  ...,  -2.6684,  -3.8221,  -2.7757],\n",
       "         ...,\n",
       "         [ -5.3343,  -5.5377,  -5.1127,  ...,  -4.7392,  -4.4485,  -2.1090],\n",
       "         [ -4.6459,  -4.8420,  -4.5672,  ...,  -3.7292,  -3.9857,  -2.5699],\n",
       "         [ -5.3769,  -5.5618,  -5.2627,  ...,  -4.9255,  -4.5652,  -2.8313]],\n",
       "\n",
       "        [[ -5.9129,  -5.9080,  -5.8788,  ...,  -5.2423,  -5.0463,  -3.1261],\n",
       "         [-10.6069, -10.3798, -10.9534,  ...,  -8.6737,  -9.8940,  -7.2882],\n",
       "         [ -8.8447,  -8.6744,  -9.1047,  ...,  -7.4014,  -7.9735,  -7.3721],\n",
       "         ...,\n",
       "         [ -4.8403,  -4.8862,  -4.8231,  ...,  -6.0508,  -4.6599,  -3.3356],\n",
       "         [ -4.0409,  -4.2185,  -4.3068,  ...,  -3.0179,  -4.7384,  -0.7479],\n",
       "         [ -5.7236,  -5.7926,  -5.9283,  ...,  -4.9022,  -5.9152,  -1.6736]],\n",
       "\n",
       "        ...,\n",
       "\n",
       "        [[ -5.9681,  -5.9596,  -5.9596,  ...,  -5.3181,  -5.1333,  -3.3354],\n",
       "         [ -8.9892,  -8.8671,  -9.5450,  ...,  -9.0948,  -8.2489,  -6.9820],\n",
       "         [ -6.9105,  -7.2402,  -7.3931,  ...,  -6.2656,  -6.5805,  -4.7001],\n",
       "         ...,\n",
       "         [ -3.6999,  -4.0100,  -3.9021,  ...,  -2.7220,  -3.2934,  -5.7534],\n",
       "         [ -4.3068,  -4.7897,  -4.5418,  ...,  -3.1057,  -4.0941,  -5.3352],\n",
       "         [ -4.2994,  -4.6439,  -4.5734,  ...,  -3.9963,  -4.2459,  -3.9663]],\n",
       "\n",
       "        [[ -5.8415,  -5.8247,  -5.8130,  ...,  -5.1822,  -4.9968,  -3.1234],\n",
       "         [ -8.4520,  -8.5757,  -8.7968,  ...,  -7.8898,  -8.2573,  -5.4570],\n",
       "         [-14.0204, -13.9018, -14.1252,  ..., -13.2188, -10.4186, -10.3250],\n",
       "         ...,\n",
       "         [ -6.8490,  -6.9329,  -7.0420,  ...,  -5.9575,  -6.9134,  -4.4489],\n",
       "         [ -4.8640,  -4.9223,  -4.9594,  ...,  -3.6578,  -4.4325,  -1.2406],\n",
       "         [ -5.2047,  -5.1980,  -5.2552,  ...,  -4.2364,  -4.6477,  -1.4036]],\n",
       "\n",
       "        [[ -5.8985,  -5.8843,  -5.8689,  ...,  -5.2316,  -5.0498,  -3.1117],\n",
       "         [ -5.5928,  -5.4906,  -5.8488,  ...,  -4.6110,  -6.3386,  -4.1498],\n",
       "         [-10.4636, -10.4840, -10.9888,  ...,  -8.2691, -10.0811,  -6.7733],\n",
       "         ...,\n",
       "         [ -3.3662,  -3.3049,  -3.4084,  ...,  -2.2148,  -2.6393,  -4.1775],\n",
       "         [ -3.5762,  -3.7290,  -3.9426,  ...,  -3.0291,  -4.4624,  -1.2032],\n",
       "         [ -6.2126,  -6.1574,  -6.2378,  ...,  -5.2176,  -6.6796,  -3.3000]]],\n",
       "       grad_fn=<AddBackward0>), hidden_states=None, attentions=None)"
      ]
     },
     "execution_count": 328,
     "metadata": {},
     "output_type": "execute_result"
    }
   ],
   "source": [
    "outputs"
   ]
  },
  {
   "cell_type": "code",
   "execution_count": null,
   "id": "fb9d686d",
   "metadata": {},
   "outputs": [],
   "source": []
  },
  {
   "cell_type": "code",
   "execution_count": null,
   "id": "d64129d0",
   "metadata": {},
   "outputs": [],
   "source": []
  },
  {
   "cell_type": "code",
   "execution_count": 85,
   "id": "1f3201fb",
   "metadata": {
    "ExecuteTime": {
     "end_time": "2021-06-08T12:40:47.950582Z",
     "start_time": "2021-06-08T12:40:47.887986Z"
    }
   },
   "outputs": [
    {
     "data": {
      "text/plain": [
       "torch.Size([1, 1002])"
      ]
     },
     "execution_count": 85,
     "metadata": {},
     "output_type": "execute_result"
    }
   ],
   "source": [
    "input_['input_ids'].shape"
   ]
  },
  {
   "cell_type": "code",
   "execution_count": null,
   "id": "e90044eb",
   "metadata": {
    "ExecuteTime": {
     "end_time": "2021-06-08T10:26:29.634397Z",
     "start_time": "2021-06-08T10:26:29.583199Z"
    }
   },
   "outputs": [],
   "source": [
    "tokenizer.convert_ids_to_tokens(4650)"
   ]
  },
  {
   "cell_type": "code",
   "execution_count": null,
   "id": "100b6446",
   "metadata": {
    "ExecuteTime": {
     "end_time": "2021-06-08T10:26:04.100133Z",
     "start_time": "2021-06-08T10:26:04.049177Z"
    }
   },
   "outputs": [],
   "source": [
    "tokenizer.convert_tokens_to_ids('humanitarian')"
   ]
  },
  {
   "cell_type": "code",
   "execution_count": null,
   "id": "f3d2ea60",
   "metadata": {
    "ExecuteTime": {
     "end_time": "2021-06-08T10:23:36.165458Z",
     "start_time": "2021-06-08T10:23:36.033750Z"
    },
    "scrolled": true
   },
   "outputs": [],
   "source": [
    "outputs = model(**input_)"
   ]
  },
  {
   "cell_type": "code",
   "execution_count": null,
   "id": "38ed05ab",
   "metadata": {
    "ExecuteTime": {
     "end_time": "2021-06-08T10:23:36.455419Z",
     "start_time": "2021-06-08T10:23:36.405378Z"
    }
   },
   "outputs": [],
   "source": [
    "out = outputs.logits.detach()[0]"
   ]
  },
  {
   "cell_type": "code",
   "execution_count": null,
   "id": "7be026eb",
   "metadata": {
    "ExecuteTime": {
     "end_time": "2021-06-08T10:23:36.823047Z",
     "start_time": "2021-06-08T10:23:36.742788Z"
    }
   },
   "outputs": [],
   "source": [
    "tokenizer.convert_ids_to_tokens(out.argmax(axis=1))"
   ]
  },
  {
   "cell_type": "code",
   "execution_count": null,
   "id": "af9e26b6",
   "metadata": {},
   "outputs": [],
   "source": []
  },
  {
   "cell_type": "markdown",
   "id": "f3b35555",
   "metadata": {},
   "source": [
    "## Sagemaker Prep"
   ]
  },
  {
   "cell_type": "markdown",
   "id": "2f0d3fc6",
   "metadata": {
    "ExecuteTime": {
     "end_time": "2021-05-27T15:42:32.024647Z",
     "start_time": "2021-05-27T15:42:31.984694Z"
    }
   },
   "source": [
    "### Session"
   ]
  },
  {
   "cell_type": "code",
   "execution_count": null,
   "id": "dc60187d",
   "metadata": {
    "ExecuteTime": {
     "end_time": "2021-06-08T09:50:52.337475Z",
     "start_time": "2021-06-08T09:50:52.192488Z"
    }
   },
   "outputs": [],
   "source": [
    "sess = sagemaker.Session(default_bucket=DEV_BUCKET.name)\n",
    "role = 'AmazonSageMaker-ExecutionRole-20210519T102514'"
   ]
  },
  {
   "cell_type": "markdown",
   "id": "8509f633",
   "metadata": {},
   "source": [
    "### Bucket upload"
   ]
  },
  {
   "cell_type": "code",
   "execution_count": null,
   "id": "7409442e",
   "metadata": {
    "ExecuteTime": {
     "end_time": "2021-06-08T09:51:16.662948Z",
     "start_time": "2021-06-08T09:50:52.339021Z"
    },
    "scrolled": true
   },
   "outputs": [],
   "source": [
    "sample = False\n",
    "\n",
    "if sample:\n",
    "    df = df.sample(100)\n",
    "    \n",
    "job_name = f\"pytorch-{formatted_time()}-fastai-entail-english\"\n",
    "input_path = DEV_BUCKET / 'training' / 'input_data' / job_name\n",
    "\n",
    "s3_data = str(input_path / 'df.pickle')\n",
    "\n",
    "\n",
    "df.to_pickle(s3_data, protocol=4)"
   ]
  },
  {
   "cell_type": "markdown",
   "id": "99bbaa46",
   "metadata": {},
   "source": [
    "### Estimator Definition"
   ]
  },
  {
   "cell_type": "code",
   "execution_count": null,
   "id": "32fe809f",
   "metadata": {
    "ExecuteTime": {
     "end_time": "2021-06-08T09:51:16.726529Z",
     "start_time": "2021-06-08T09:51:16.664600Z"
    }
   },
   "outputs": [],
   "source": [
    "instances = [\n",
    "    'ml.p2.xlarge',\n",
    "    'ml.p3.2xlarge'\n",
    "]"
   ]
  },
  {
   "cell_type": "code",
   "execution_count": null,
   "id": "2b2decdc",
   "metadata": {
    "ExecuteTime": {
     "end_time": "2021-06-08T09:51:16.750956Z",
     "start_time": "2021-06-08T09:51:16.727576Z"
    }
   },
   "outputs": [],
   "source": [
    "input_path"
   ]
  },
  {
   "cell_type": "code",
   "execution_count": null,
   "id": "9cdd672d",
   "metadata": {
    "ExecuteTime": {
     "end_time": "2021-06-08T09:51:17.032117Z",
     "start_time": "2021-06-08T09:51:16.752487Z"
    }
   },
   "outputs": [],
   "source": [
    "from sagemaker.pytorch import PyTorch\n",
    "\n",
    "hyperparameters={\n",
    "    'epochs': 3,\n",
    "    'train_batch_size': 64,\n",
    "    'learning_rate': 0.02,\n",
    "    'text_col': text_column,\n",
    "    'label_col': label_column,\n",
    "    'multi_category': 0\n",
    "}\n",
    "\n",
    "estimator = PyTorch(\n",
    "    entry_point='train.py',\n",
    "    source_dir=str(SCRIPTS_TRAINING_PATH / 'stefano/multiclass-fastai'),\n",
    "    output_path=str(DEV_BUCKET / 'models/'),\n",
    "    code_location=str(input_path),\n",
    "    instance_type='ml.p3.2xlarge',\n",
    "    instance_count=1,\n",
    "    role=role,\n",
    "    framework_version='1.8',\n",
    "    py_version='py36',\n",
    "    hyperparameters = hyperparameters,\n",
    "    job_name=job_name,\n",
    "#     train_instance_count=2,\n",
    "#     train_instance_type=\"ml.c4.xlarge\",\n",
    ")"
   ]
  },
  {
   "cell_type": "code",
   "execution_count": null,
   "id": "ed07c92a",
   "metadata": {
    "ExecuteTime": {
     "end_time": "2021-06-08T09:51:17.050481Z",
     "start_time": "2021-06-08T09:51:17.033155Z"
    }
   },
   "outputs": [],
   "source": [
    "fit_arguments = {\n",
    "    'train': str(input_path),\n",
    "    'test': str(input_path)\n",
    "}"
   ]
  },
  {
   "cell_type": "code",
   "execution_count": null,
   "id": "4dea6ffc",
   "metadata": {
    "ExecuteTime": {
     "end_time": "2021-06-08T09:51:20.018700Z",
     "start_time": "2021-06-08T09:51:17.051461Z"
    },
    "scrolled": true
   },
   "outputs": [],
   "source": [
    "estimator.fit(fit_arguments, job_name=job_name, wait=False)"
   ]
  },
  {
   "cell_type": "code",
   "execution_count": null,
   "id": "b8a3273d",
   "metadata": {
    "ExecuteTime": {
     "end_time": "2021-06-08T09:51:21.123243Z",
     "start_time": "2021-06-08T09:51:20.027119Z"
    }
   },
   "outputs": [],
   "source": [
    "from sagemaker import TrainingJobAnalytics\n",
    "\n",
    "# Captured metrics can be accessed as a Pandas dataframe\n",
    "df = TrainingJobAnalytics(training_job_name=estimator.latest_training_job.name).dataframe()\n",
    "df.head(10)"
   ]
  },
  {
   "cell_type": "code",
   "execution_count": null,
   "id": "f3801355",
   "metadata": {
    "ExecuteTime": {
     "end_time": "2021-06-08T09:51:21.124405Z",
     "start_time": "2021-06-08T09:50:48.221Z"
    }
   },
   "outputs": [],
   "source": [
    "df"
   ]
  },
  {
   "cell_type": "code",
   "execution_count": null,
   "id": "89b725f2",
   "metadata": {},
   "outputs": [],
   "source": []
  },
  {
   "cell_type": "code",
   "execution_count": null,
   "id": "7fc2cd52",
   "metadata": {},
   "outputs": [],
   "source": []
  }
 ],
 "metadata": {
  "kernelspec": {
   "display_name": "Python 3",
   "language": "python",
   "name": "python3"
  },
  "language_info": {
   "codemirror_mode": {
    "name": "ipython",
    "version": 3
   },
   "file_extension": ".py",
   "mimetype": "text/x-python",
   "name": "python",
   "nbconvert_exporter": "python",
   "pygments_lexer": "ipython3",
   "version": "3.9.1"
  },
  "notify_time": "5",
  "toc": {
   "base_numbering": 1,
   "nav_menu": {},
   "number_sections": true,
   "sideBar": true,
   "skip_h1_title": false,
   "title_cell": "Table of Contents",
   "title_sidebar": "Contents",
   "toc_cell": false,
   "toc_position": {},
   "toc_section_display": true,
   "toc_window_display": false
  }
 },
 "nbformat": 4,
 "nbformat_minor": 5
}
