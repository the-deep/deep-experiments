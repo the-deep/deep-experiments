{
 "cells": [
  {
   "cell_type": "markdown",
   "id": "6389e982",
   "metadata": {},
   "source": [
    "Using kernel `conda_pytorch_latest_p36`"
   ]
  },
  {
   "cell_type": "markdown",
   "id": "384c1e17",
   "metadata": {
    "ExecuteTime": {
     "end_time": "2021-06-08T08:56:30.597058Z",
     "start_time": "2021-06-08T08:56:30.579481Z"
    }
   },
   "source": [
    "We take inspiration from [this paper](https://arxiv.org/pdf/2104.14690.pdf)"
   ]
  },
  {
   "cell_type": "code",
   "execution_count": 1,
   "id": "94a7dd3a",
   "metadata": {
    "ExecuteTime": {
     "end_time": "2021-06-08T12:26:34.190399Z",
     "start_time": "2021-06-08T12:26:34.185389Z"
    },
    "scrolled": true
   },
   "outputs": [],
   "source": [
    "# !pip install cloudpathlib\n",
    "# !pip install s3fs\n",
    "# !pip install transformers\n",
    "# !pip install pytorch-lightning"
   ]
  },
  {
   "cell_type": "markdown",
   "id": "d46795d2",
   "metadata": {},
   "source": [
    "# Import"
   ]
  },
  {
   "cell_type": "code",
   "execution_count": 2,
   "id": "21efe0de",
   "metadata": {
    "ExecuteTime": {
     "end_time": "2021-06-08T12:26:34.484713Z",
     "start_time": "2021-06-08T12:26:34.479644Z"
    }
   },
   "outputs": [],
   "source": [
    "import sys\n",
    "sys.path.append('../../../')"
   ]
  },
  {
   "cell_type": "code",
   "execution_count": 3,
   "id": "c4e20c6f",
   "metadata": {
    "ExecuteTime": {
     "end_time": "2021-06-08T12:26:34.639049Z",
     "start_time": "2021-06-08T12:26:34.632874Z"
    }
   },
   "outputs": [],
   "source": [
    "from pathlib import Path\n",
    "import os\n",
    "import random\n",
    "import json\n",
    "from datetime import datetime"
   ]
  },
  {
   "cell_type": "code",
   "execution_count": 4,
   "id": "19e74735",
   "metadata": {
    "ExecuteTime": {
     "end_time": "2021-06-08T13:31:03.135233Z",
     "start_time": "2021-06-08T13:31:02.993248Z"
    }
   },
   "outputs": [],
   "source": [
    "import pandas as pd\n",
    "import numpy as np\n",
    "from sklearn.metrics import classification_report\n",
    "import torch\n",
    "from torch import nn\n",
    "\n",
    "import sagemaker\n",
    "from sagemaker import get_execution_role\n",
    "import boto3\n",
    "import torch.nn as nn\n",
    "from sklearn.preprocessing import MultiLabelBinarizer\n",
    "from torch.utils.data import DataLoader,Dataset\n",
    "from tqdm import tqdm\n",
    "\n",
    "import boto3\n",
    "import pytorch_lightning as pl\n",
    "import torch.nn as nn\n",
    "from transformers import (\n",
    "    AutoModelForSequenceClassification,\n",
    "    BertForMaskedLM,\n",
    "    DistilBertForMaskedLM,\n",
    "    AutoModel,\n",
    "    AutoTokenizer,\n",
    "    AdamW,\n",
    "    get_linear_schedule_with_warmup,\n",
    "    Trainer,\n",
    "    TrainingArguments\n",
    ")\n",
    "from torch.utils.data import DataLoader,Dataset"
   ]
  },
  {
   "cell_type": "code",
   "execution_count": 5,
   "id": "e705b9c5",
   "metadata": {
    "ExecuteTime": {
     "end_time": "2021-06-08T12:26:37.096726Z",
     "start_time": "2021-06-08T12:26:37.014199Z"
    },
    "scrolled": true
   },
   "outputs": [],
   "source": [
    "from deep.constants import *\n",
    "from deep.utils import *"
   ]
  },
  {
   "cell_type": "code",
   "execution_count": 6,
   "id": "fda4347e",
   "metadata": {
    "ExecuteTime": {
     "end_time": "2021-06-08T12:26:37.123251Z",
     "start_time": "2021-06-08T12:26:37.097971Z"
    }
   },
   "outputs": [],
   "source": [
    "%load_ext autoreload\n",
    "%autoreload 2"
   ]
  },
  {
   "cell_type": "markdown",
   "id": "136136c3",
   "metadata": {},
   "source": [
    "## Data"
   ]
  },
  {
   "cell_type": "code",
   "execution_count": 7,
   "id": "f506cb3d",
   "metadata": {
    "ExecuteTime": {
     "end_time": "2021-06-08T12:26:37.147070Z",
     "start_time": "2021-06-08T12:26:37.124546Z"
    }
   },
   "outputs": [],
   "source": [
    "def preprocessing(df):\n",
    "    df = df.copy()\n",
    "    df['sectors'] = df['sectors'].apply(eval)    \n",
    "    df['pillars'] = df['pillars'].apply(eval)\n",
    "    df['pillars'] = df['pillars'].apply(lambda x: list(set(x)))\n",
    "    df['subpillars'] = df['subpillars'].apply(eval)\n",
    "    return df"
   ]
  },
  {
   "cell_type": "code",
   "execution_count": 8,
   "id": "978d9268",
   "metadata": {
    "ExecuteTime": {
     "end_time": "2021-06-08T13:48:16.126584Z",
     "start_time": "2021-06-08T13:48:16.087696Z"
    }
   },
   "outputs": [],
   "source": [
    "column = 'pillars'\n",
    "classes=PILLARS\n",
    "text_column = 'excerpt'\n",
    "text_column_mlm = 'excerpt_mlm'\n",
    "label_column = 'labels'"
   ]
  },
  {
   "cell_type": "code",
   "execution_count": 9,
   "id": "2e0d429c",
   "metadata": {
    "ExecuteTime": {
     "end_time": "2021-06-08T13:48:19.469698Z",
     "start_time": "2021-06-08T13:48:16.791917Z"
    },
    "scrolled": true
   },
   "outputs": [],
   "source": [
    "train = preprocessing(pd.read_csv(LATEST_DATA_PATH / 'data_v0.4.4_train.csv', index_col=0))\n",
    "val = preprocessing(pd.read_csv(LATEST_DATA_PATH / 'data_v0.4.4_val.csv', index_col=0))\n",
    "test = preprocessing(pd.read_csv(LATEST_DATA_PATH / 'data_v0.4.4_test.csv', index_col=0))"
   ]
  },
  {
   "cell_type": "code",
   "execution_count": 10,
   "id": "58d6e770",
   "metadata": {
    "ExecuteTime": {
     "end_time": "2021-06-08T13:48:32.369552Z",
     "start_time": "2021-06-08T13:48:32.328284Z"
    }
   },
   "outputs": [],
   "source": [
    "classes = PILLARS\n",
    "len_longest_class =  max([len(x.split()) for x in classes])\n",
    "append_string = [\n",
    "    f'[SEP] Is this sentence about {c}? [MASK]'\n",
    "    for c in classes\n",
    "]\n",
    "append_string = ' '.join(append_string)"
   ]
  },
  {
   "cell_type": "code",
   "execution_count": 11,
   "id": "31b9eeb8",
   "metadata": {
    "ExecuteTime": {
     "end_time": "2021-06-08T13:47:41.811563Z",
     "start_time": "2021-06-08T13:47:41.771653Z"
    }
   },
   "outputs": [],
   "source": [
    "def preprocess_mlm(df):\n",
    "    df = df.copy()\n",
    "    df = df[df[column].apply(len)>0]\n",
    "    df = df[df['language']=='en']\n",
    "    df[label_column] = [[1 if y in x else 0 for y in classes] for x in df[column]]\n",
    "    df[text_column_mlm] = df[text_column] + append_string\n",
    "    return df"
   ]
  },
  {
   "cell_type": "code",
   "execution_count": 12,
   "id": "74a7b733",
   "metadata": {
    "ExecuteTime": {
     "end_time": "2021-06-08T13:48:31.030064Z",
     "start_time": "2021-06-08T13:48:30.888891Z"
    }
   },
   "outputs": [],
   "source": [
    "train_df = preprocess_mlm(train)\n",
    "val_df = preprocess_mlm(val)\n",
    "test_df = preprocess_mlm(test)"
   ]
  },
  {
   "cell_type": "markdown",
   "id": "abb16fe6",
   "metadata": {},
   "source": [
    "# Model"
   ]
  },
  {
   "cell_type": "code",
   "execution_count": 13,
   "id": "ecbd66bf",
   "metadata": {
    "ExecuteTime": {
     "end_time": "2021-06-08T13:48:37.472198Z",
     "start_time": "2021-06-08T13:48:32.779260Z"
    }
   },
   "outputs": [],
   "source": [
    "model_name = 'distilbert-base-uncased'\n",
    "tokenizer = AutoTokenizer.from_pretrained(model_name)\n",
    "model = DistilBertForMaskedLM.from_pretrained(model_name)"
   ]
  },
  {
   "cell_type": "code",
   "execution_count": 14,
   "id": "7c4e5232",
   "metadata": {
    "ExecuteTime": {
     "end_time": "2021-06-08T13:53:22.966484Z",
     "start_time": "2021-06-08T13:53:22.922720Z"
    }
   },
   "outputs": [],
   "source": [
    "class LMBFFDataset(Dataset):\n",
    "    def __init__(self, tokenizer, df, text_col, label_col, append_string):\n",
    "        self.tokenizer = tokenizer\n",
    "        self.df = df\n",
    "        self.texts = df[text_col].values\n",
    "        self.labels = self.compute_labels(df[label_col])\n",
    "        \n",
    "    def compute_labels(self, labels):\n",
    "        yes_token = self.tokenizer.convert_tokens_to_ids('yes')\n",
    "        no_token = self.tokenizer.convert_tokens_to_ids('no')\n",
    "        labels = [[yes_token if y else no_token for y in label] for label in labels]\n",
    "        return torch.tensor(labels)\n",
    "\n",
    "    def __len__(self):\n",
    "        return self.df.shape[0]\n",
    "    \n",
    "    def __getitem__(self, idx):\n",
    "        text = self.texts[idx] \n",
    "        inputs = self.tokenizer.encode_plus(\n",
    "            text,\n",
    "            truncation=True,\n",
    "            padding='max_length',\n",
    "            return_tensors='pt',\n",
    "        )\n",
    "        inputs['input_ids'] = inputs['input_ids'].squeeze(0)\n",
    "        labels = self.labels[idx]\n",
    "        inputs['labels'] = self.mlm_labels(inputs, labels)\n",
    "        return inputs\n",
    "\n",
    "    def mlm_labels(self, inputs, label):\n",
    "        labels = inputs['input_ids'].clone()\n",
    "        labels[labels != tokenizer.mask_token_id] = -100\n",
    "        labels[labels == tokenizer.mask_token_id] = label\n",
    "        return labels"
   ]
  },
  {
   "cell_type": "code",
   "execution_count": 21,
   "id": "e85182ea",
   "metadata": {
    "ExecuteTime": {
     "end_time": "2021-06-08T13:53:24.840914Z",
     "start_time": "2021-06-08T13:53:23.672746Z"
    }
   },
   "outputs": [],
   "source": [
    "train_dataset = LMBFFDataset(tokenizer, train_df, text_column_mlm, label_column, append_string)\n",
    "val_dataset = LMBFFDataset(tokenizer, val_df, text_column_mlm, label_column, append_string)\n",
    "test_dataset = LMBFFDataset(tokenizer, test_df, text_column_mlm, label_column, append_string)"
   ]
  },
  {
   "cell_type": "code",
   "execution_count": 16,
   "id": "131f5a9d",
   "metadata": {},
   "outputs": [],
   "source": [
    "trainer_arguments = TrainingArguments(\n",
    "    output_dir='./results',\n",
    "    num_train_epochs=1,\n",
    "    per_device_train_batch_size=8,\n",
    "    per_device_eval_batch_size=8,\n",
    "    warmup_steps=500,\n",
    "    learning_rate=5e-5,\n",
    ")"
   ]
  },
  {
   "cell_type": "code",
   "execution_count": 17,
   "id": "c035d5e0",
   "metadata": {},
   "outputs": [],
   "source": [
    "trainer = Trainer(\n",
    "    model=model, \n",
    "    args=trainer_arguments, \n",
    "    train_dataset=train_dataset,\n",
    "    eval_dataset=val_dataset,\n",
    ")"
   ]
  },
  {
   "cell_type": "code",
   "execution_count": 22,
   "id": "6e50dec3",
   "metadata": {
    "scrolled": true
   },
   "outputs": [
    {
     "ename": "RuntimeError",
     "evalue": "CUDA out of memory. Tried to allocate 4.43 GiB (GPU 0; 11.17 GiB total capacity; 5.44 GiB already allocated; 4.40 GiB free; 6.44 GiB reserved in total by PyTorch)",
     "output_type": "error",
     "traceback": [
      "\u001b[0;31m---------------------------------------------------------------------------\u001b[0m",
      "\u001b[0;31mRuntimeError\u001b[0m                              Traceback (most recent call last)",
      "\u001b[0;32m<ipython-input-22-9329ad1cfedf>\u001b[0m in \u001b[0;36m<module>\u001b[0;34m\u001b[0m\n\u001b[0;32m----> 1\u001b[0;31m \u001b[0ma\u001b[0m \u001b[0;34m=\u001b[0m \u001b[0mtrainer\u001b[0m\u001b[0;34m.\u001b[0m\u001b[0mpredict\u001b[0m\u001b[0;34m(\u001b[0m\u001b[0mtest_dataset\u001b[0m\u001b[0;34m)\u001b[0m\u001b[0;34m\u001b[0m\u001b[0;34m\u001b[0m\u001b[0m\n\u001b[0m",
      "\u001b[0;32m~/anaconda3/envs/pytorch_latest_p36/lib/python3.6/site-packages/transformers/trainer.py\u001b[0m in \u001b[0;36mpredict\u001b[0;34m(self, test_dataset, ignore_keys, metric_key_prefix)\u001b[0m\n\u001b[1;32m   2064\u001b[0m         \u001b[0meval_loop\u001b[0m \u001b[0;34m=\u001b[0m \u001b[0mself\u001b[0m\u001b[0;34m.\u001b[0m\u001b[0mprediction_loop\u001b[0m \u001b[0;32mif\u001b[0m \u001b[0mself\u001b[0m\u001b[0;34m.\u001b[0m\u001b[0margs\u001b[0m\u001b[0;34m.\u001b[0m\u001b[0muse_legacy_prediction_loop\u001b[0m \u001b[0;32melse\u001b[0m \u001b[0mself\u001b[0m\u001b[0;34m.\u001b[0m\u001b[0mevaluation_loop\u001b[0m\u001b[0;34m\u001b[0m\u001b[0;34m\u001b[0m\u001b[0m\n\u001b[1;32m   2065\u001b[0m         output = eval_loop(\n\u001b[0;32m-> 2066\u001b[0;31m             \u001b[0mtest_dataloader\u001b[0m\u001b[0;34m,\u001b[0m \u001b[0mdescription\u001b[0m\u001b[0;34m=\u001b[0m\u001b[0;34m\"Prediction\"\u001b[0m\u001b[0;34m,\u001b[0m \u001b[0mignore_keys\u001b[0m\u001b[0;34m=\u001b[0m\u001b[0mignore_keys\u001b[0m\u001b[0;34m,\u001b[0m \u001b[0mmetric_key_prefix\u001b[0m\u001b[0;34m=\u001b[0m\u001b[0mmetric_key_prefix\u001b[0m\u001b[0;34m\u001b[0m\u001b[0;34m\u001b[0m\u001b[0m\n\u001b[0m\u001b[1;32m   2067\u001b[0m         )\n\u001b[1;32m   2068\u001b[0m         \u001b[0moutput\u001b[0m\u001b[0;34m.\u001b[0m\u001b[0mmetrics\u001b[0m\u001b[0;34m.\u001b[0m\u001b[0mupdate\u001b[0m\u001b[0;34m(\u001b[0m\u001b[0mspeed_metrics\u001b[0m\u001b[0;34m(\u001b[0m\u001b[0mmetric_key_prefix\u001b[0m\u001b[0;34m,\u001b[0m \u001b[0mstart_time\u001b[0m\u001b[0;34m,\u001b[0m \u001b[0moutput\u001b[0m\u001b[0;34m.\u001b[0m\u001b[0mnum_samples\u001b[0m\u001b[0;34m)\u001b[0m\u001b[0;34m)\u001b[0m\u001b[0;34m\u001b[0m\u001b[0;34m\u001b[0m\u001b[0m\n",
      "\u001b[0;32m~/anaconda3/envs/pytorch_latest_p36/lib/python3.6/site-packages/transformers/trainer.py\u001b[0m in \u001b[0;36mevaluation_loop\u001b[0;34m(self, dataloader, description, prediction_loss_only, ignore_keys, metric_key_prefix)\u001b[0m\n\u001b[1;32m   2161\u001b[0m                 \u001b[0mlogits\u001b[0m \u001b[0;34m=\u001b[0m \u001b[0mself\u001b[0m\u001b[0;34m.\u001b[0m\u001b[0m_pad_across_processes\u001b[0m\u001b[0;34m(\u001b[0m\u001b[0mlogits\u001b[0m\u001b[0;34m)\u001b[0m\u001b[0;34m\u001b[0m\u001b[0;34m\u001b[0m\u001b[0m\n\u001b[1;32m   2162\u001b[0m                 \u001b[0mlogits\u001b[0m \u001b[0;34m=\u001b[0m \u001b[0mself\u001b[0m\u001b[0;34m.\u001b[0m\u001b[0m_nested_gather\u001b[0m\u001b[0;34m(\u001b[0m\u001b[0mlogits\u001b[0m\u001b[0;34m)\u001b[0m\u001b[0;34m\u001b[0m\u001b[0;34m\u001b[0m\u001b[0m\n\u001b[0;32m-> 2163\u001b[0;31m                 \u001b[0mpreds_host\u001b[0m \u001b[0;34m=\u001b[0m \u001b[0mlogits\u001b[0m \u001b[0;32mif\u001b[0m \u001b[0mpreds_host\u001b[0m \u001b[0;32mis\u001b[0m \u001b[0;32mNone\u001b[0m \u001b[0;32melse\u001b[0m \u001b[0mnested_concat\u001b[0m\u001b[0;34m(\u001b[0m\u001b[0mpreds_host\u001b[0m\u001b[0;34m,\u001b[0m \u001b[0mlogits\u001b[0m\u001b[0;34m,\u001b[0m \u001b[0mpadding_index\u001b[0m\u001b[0;34m=\u001b[0m\u001b[0;34m-\u001b[0m\u001b[0;36m100\u001b[0m\u001b[0;34m)\u001b[0m\u001b[0;34m\u001b[0m\u001b[0;34m\u001b[0m\u001b[0m\n\u001b[0m\u001b[1;32m   2164\u001b[0m             \u001b[0;32mif\u001b[0m \u001b[0mlabels\u001b[0m \u001b[0;32mis\u001b[0m \u001b[0;32mnot\u001b[0m \u001b[0;32mNone\u001b[0m\u001b[0;34m:\u001b[0m\u001b[0;34m\u001b[0m\u001b[0;34m\u001b[0m\u001b[0m\n\u001b[1;32m   2165\u001b[0m                 \u001b[0mlabels\u001b[0m \u001b[0;34m=\u001b[0m \u001b[0mself\u001b[0m\u001b[0;34m.\u001b[0m\u001b[0m_pad_across_processes\u001b[0m\u001b[0;34m(\u001b[0m\u001b[0mlabels\u001b[0m\u001b[0;34m)\u001b[0m\u001b[0;34m\u001b[0m\u001b[0;34m\u001b[0m\u001b[0m\n",
      "\u001b[0;32m~/anaconda3/envs/pytorch_latest_p36/lib/python3.6/site-packages/transformers/trainer_pt_utils.py\u001b[0m in \u001b[0;36mnested_concat\u001b[0;34m(tensors, new_tensors, padding_index)\u001b[0m\n\u001b[1;32m     97\u001b[0m         \u001b[0;32mreturn\u001b[0m \u001b[0mtype\u001b[0m\u001b[0;34m(\u001b[0m\u001b[0mtensors\u001b[0m\u001b[0;34m)\u001b[0m\u001b[0;34m(\u001b[0m\u001b[0mnested_concat\u001b[0m\u001b[0;34m(\u001b[0m\u001b[0mt\u001b[0m\u001b[0;34m,\u001b[0m \u001b[0mn\u001b[0m\u001b[0;34m,\u001b[0m \u001b[0mpadding_index\u001b[0m\u001b[0;34m=\u001b[0m\u001b[0mpadding_index\u001b[0m\u001b[0;34m)\u001b[0m \u001b[0;32mfor\u001b[0m \u001b[0mt\u001b[0m\u001b[0;34m,\u001b[0m \u001b[0mn\u001b[0m \u001b[0;32min\u001b[0m \u001b[0mzip\u001b[0m\u001b[0;34m(\u001b[0m\u001b[0mtensors\u001b[0m\u001b[0;34m,\u001b[0m \u001b[0mnew_tensors\u001b[0m\u001b[0;34m)\u001b[0m\u001b[0;34m)\u001b[0m\u001b[0;34m\u001b[0m\u001b[0;34m\u001b[0m\u001b[0m\n\u001b[1;32m     98\u001b[0m     \u001b[0;32melif\u001b[0m \u001b[0misinstance\u001b[0m\u001b[0;34m(\u001b[0m\u001b[0mtensors\u001b[0m\u001b[0;34m,\u001b[0m \u001b[0mtorch\u001b[0m\u001b[0;34m.\u001b[0m\u001b[0mTensor\u001b[0m\u001b[0;34m)\u001b[0m\u001b[0;34m:\u001b[0m\u001b[0;34m\u001b[0m\u001b[0;34m\u001b[0m\u001b[0m\n\u001b[0;32m---> 99\u001b[0;31m         \u001b[0;32mreturn\u001b[0m \u001b[0mtorch_pad_and_concatenate\u001b[0m\u001b[0;34m(\u001b[0m\u001b[0mtensors\u001b[0m\u001b[0;34m,\u001b[0m \u001b[0mnew_tensors\u001b[0m\u001b[0;34m,\u001b[0m \u001b[0mpadding_index\u001b[0m\u001b[0;34m=\u001b[0m\u001b[0mpadding_index\u001b[0m\u001b[0;34m)\u001b[0m\u001b[0;34m\u001b[0m\u001b[0;34m\u001b[0m\u001b[0m\n\u001b[0m\u001b[1;32m    100\u001b[0m     \u001b[0;32melif\u001b[0m \u001b[0misinstance\u001b[0m\u001b[0;34m(\u001b[0m\u001b[0mtensors\u001b[0m\u001b[0;34m,\u001b[0m \u001b[0mnp\u001b[0m\u001b[0;34m.\u001b[0m\u001b[0mndarray\u001b[0m\u001b[0;34m)\u001b[0m\u001b[0;34m:\u001b[0m\u001b[0;34m\u001b[0m\u001b[0;34m\u001b[0m\u001b[0m\n\u001b[1;32m    101\u001b[0m         \u001b[0;32mreturn\u001b[0m \u001b[0mnumpy_pad_and_concatenate\u001b[0m\u001b[0;34m(\u001b[0m\u001b[0mtensors\u001b[0m\u001b[0;34m,\u001b[0m \u001b[0mnew_tensors\u001b[0m\u001b[0;34m,\u001b[0m \u001b[0mpadding_index\u001b[0m\u001b[0;34m=\u001b[0m\u001b[0mpadding_index\u001b[0m\u001b[0;34m)\u001b[0m\u001b[0;34m\u001b[0m\u001b[0;34m\u001b[0m\u001b[0m\n",
      "\u001b[0;32m~/anaconda3/envs/pytorch_latest_p36/lib/python3.6/site-packages/transformers/trainer_pt_utils.py\u001b[0m in \u001b[0;36mtorch_pad_and_concatenate\u001b[0;34m(tensor1, tensor2, padding_index)\u001b[0m\n\u001b[1;32m     59\u001b[0m     \u001b[0;34m\"\"\"Concatenates `tensor1` and `tensor2` on first axis, applying padding on the second if necessary.\"\"\"\u001b[0m\u001b[0;34m\u001b[0m\u001b[0;34m\u001b[0m\u001b[0m\n\u001b[1;32m     60\u001b[0m     \u001b[0;32mif\u001b[0m \u001b[0mlen\u001b[0m\u001b[0;34m(\u001b[0m\u001b[0mtensor1\u001b[0m\u001b[0;34m.\u001b[0m\u001b[0mshape\u001b[0m\u001b[0;34m)\u001b[0m \u001b[0;34m==\u001b[0m \u001b[0;36m1\u001b[0m \u001b[0;32mor\u001b[0m \u001b[0mtensor1\u001b[0m\u001b[0;34m.\u001b[0m\u001b[0mshape\u001b[0m\u001b[0;34m[\u001b[0m\u001b[0;36m1\u001b[0m\u001b[0;34m]\u001b[0m \u001b[0;34m==\u001b[0m \u001b[0mtensor2\u001b[0m\u001b[0;34m.\u001b[0m\u001b[0mshape\u001b[0m\u001b[0;34m[\u001b[0m\u001b[0;36m1\u001b[0m\u001b[0;34m]\u001b[0m\u001b[0;34m:\u001b[0m\u001b[0;34m\u001b[0m\u001b[0;34m\u001b[0m\u001b[0m\n\u001b[0;32m---> 61\u001b[0;31m         \u001b[0;32mreturn\u001b[0m \u001b[0mtorch\u001b[0m\u001b[0;34m.\u001b[0m\u001b[0mcat\u001b[0m\u001b[0;34m(\u001b[0m\u001b[0;34m(\u001b[0m\u001b[0mtensor1\u001b[0m\u001b[0;34m,\u001b[0m \u001b[0mtensor2\u001b[0m\u001b[0;34m)\u001b[0m\u001b[0;34m,\u001b[0m \u001b[0mdim\u001b[0m\u001b[0;34m=\u001b[0m\u001b[0;36m0\u001b[0m\u001b[0;34m)\u001b[0m\u001b[0;34m\u001b[0m\u001b[0;34m\u001b[0m\u001b[0m\n\u001b[0m\u001b[1;32m     62\u001b[0m \u001b[0;34m\u001b[0m\u001b[0m\n\u001b[1;32m     63\u001b[0m     \u001b[0;31m# Let's figure out the new shape\u001b[0m\u001b[0;34m\u001b[0m\u001b[0;34m\u001b[0m\u001b[0;34m\u001b[0m\u001b[0m\n",
      "\u001b[0;31mRuntimeError\u001b[0m: CUDA out of memory. Tried to allocate 4.43 GiB (GPU 0; 11.17 GiB total capacity; 5.44 GiB already allocated; 4.40 GiB free; 6.44 GiB reserved in total by PyTorch)"
     ]
    }
   ],
   "source": [
    "a = trainer.predict(test_dataset)"
   ]
  },
  {
   "cell_type": "code",
   "execution_count": null,
   "id": "cc779b96",
   "metadata": {},
   "outputs": [],
   "source": [
    "sacacsvdvvfbdf"
   ]
  },
  {
   "cell_type": "code",
   "execution_count": null,
   "id": "13a5d52a",
   "metadata": {
    "scrolled": true
   },
   "outputs": [],
   "source": [
    "trainer.train()"
   ]
  },
  {
   "cell_type": "code",
   "execution_count": null,
   "id": "63874f17",
   "metadata": {},
   "outputs": [],
   "source": []
  },
  {
   "cell_type": "code",
   "execution_count": null,
   "id": "a5fab03c",
   "metadata": {},
   "outputs": [],
   "source": []
  },
  {
   "cell_type": "code",
   "execution_count": null,
   "id": "b96132c8",
   "metadata": {},
   "outputs": [],
   "source": []
  },
  {
   "cell_type": "code",
   "execution_count": null,
   "id": "6e045a69",
   "metadata": {},
   "outputs": [],
   "source": []
  },
  {
   "cell_type": "code",
   "execution_count": null,
   "id": "f440b3f0",
   "metadata": {},
   "outputs": [],
   "source": []
  },
  {
   "cell_type": "code",
   "execution_count": null,
   "id": "409d00ee",
   "metadata": {
    "ExecuteTime": {
     "end_time": "2021-06-08T13:53:53.795915Z",
     "start_time": "2021-06-08T13:53:53.723416Z"
    }
   },
   "outputs": [],
   "source": [
    "optimizer = AdamW(model.parameters(), lr=5e-5)"
   ]
  },
  {
   "cell_type": "code",
   "execution_count": null,
   "id": "f50706c8",
   "metadata": {
    "ExecuteTime": {
     "end_time": "2021-06-08T13:55:38.157939Z",
     "start_time": "2021-06-08T13:53:54.500218Z"
    },
    "scrolled": true
   },
   "outputs": [],
   "source": [
    "for batch in tqdm(train_dataloader):\n",
    "    outputs = model(**batch)\n",
    "    loss = outputs.loss\n",
    "    loss.backward()\n",
    "    \n",
    "    optimizer.step()\n",
    "    optimizer.zero_grad()"
   ]
  },
  {
   "cell_type": "code",
   "execution_count": null,
   "id": "52693075",
   "metadata": {
    "ExecuteTime": {
     "end_time": "2021-06-08T13:55:38.312486Z",
     "start_time": "2021-06-08T13:55:38.163091Z"
    }
   },
   "outputs": [],
   "source": [
    "outputs"
   ]
  },
  {
   "cell_type": "code",
   "execution_count": null,
   "id": "80ecc040",
   "metadata": {},
   "outputs": [],
   "source": []
  },
  {
   "cell_type": "code",
   "execution_count": null,
   "id": "70ca7578",
   "metadata": {},
   "outputs": [],
   "source": []
  },
  {
   "cell_type": "code",
   "execution_count": null,
   "id": "16b59096",
   "metadata": {
    "ExecuteTime": {
     "end_time": "2021-06-08T12:40:47.950582Z",
     "start_time": "2021-06-08T12:40:47.887986Z"
    }
   },
   "outputs": [],
   "source": [
    "input_['input_ids'].shape"
   ]
  },
  {
   "cell_type": "code",
   "execution_count": null,
   "id": "188160a9",
   "metadata": {
    "ExecuteTime": {
     "end_time": "2021-06-08T10:26:29.634397Z",
     "start_time": "2021-06-08T10:26:29.583199Z"
    }
   },
   "outputs": [],
   "source": [
    "tokenizer.convert_ids_to_tokens(4650)"
   ]
  },
  {
   "cell_type": "code",
   "execution_count": null,
   "id": "1aef5d83",
   "metadata": {
    "ExecuteTime": {
     "end_time": "2021-06-08T10:26:04.100133Z",
     "start_time": "2021-06-08T10:26:04.049177Z"
    }
   },
   "outputs": [],
   "source": [
    "tokenizer.convert_tokens_to_ids('humanitarian')"
   ]
  },
  {
   "cell_type": "code",
   "execution_count": null,
   "id": "ab7e9819",
   "metadata": {
    "ExecuteTime": {
     "end_time": "2021-06-08T10:23:36.165458Z",
     "start_time": "2021-06-08T10:23:36.033750Z"
    },
    "scrolled": true
   },
   "outputs": [],
   "source": [
    "outputs = model(**input_)"
   ]
  },
  {
   "cell_type": "code",
   "execution_count": null,
   "id": "61786186",
   "metadata": {
    "ExecuteTime": {
     "end_time": "2021-06-08T10:23:36.455419Z",
     "start_time": "2021-06-08T10:23:36.405378Z"
    }
   },
   "outputs": [],
   "source": [
    "out = outputs.logits.detach()[0]"
   ]
  },
  {
   "cell_type": "code",
   "execution_count": null,
   "id": "41d4ff9b",
   "metadata": {
    "ExecuteTime": {
     "end_time": "2021-06-08T10:23:36.823047Z",
     "start_time": "2021-06-08T10:23:36.742788Z"
    }
   },
   "outputs": [],
   "source": [
    "tokenizer.convert_ids_to_tokens(out.argmax(axis=1))"
   ]
  },
  {
   "cell_type": "code",
   "execution_count": null,
   "id": "373cc122",
   "metadata": {},
   "outputs": [],
   "source": []
  },
  {
   "cell_type": "markdown",
   "id": "c1acc601",
   "metadata": {},
   "source": [
    "## Sagemaker Prep"
   ]
  },
  {
   "cell_type": "markdown",
   "id": "73c01bb2",
   "metadata": {
    "ExecuteTime": {
     "end_time": "2021-05-27T15:42:32.024647Z",
     "start_time": "2021-05-27T15:42:31.984694Z"
    }
   },
   "source": [
    "### Session"
   ]
  },
  {
   "cell_type": "code",
   "execution_count": null,
   "id": "00651af7",
   "metadata": {
    "ExecuteTime": {
     "end_time": "2021-06-08T09:50:52.337475Z",
     "start_time": "2021-06-08T09:50:52.192488Z"
    }
   },
   "outputs": [],
   "source": [
    "sess = sagemaker.Session(default_bucket=DEV_BUCKET.name)\n",
    "role = 'AmazonSageMaker-ExecutionRole-20210519T102514'"
   ]
  },
  {
   "cell_type": "markdown",
   "id": "42b96f77",
   "metadata": {},
   "source": [
    "### Bucket upload"
   ]
  },
  {
   "cell_type": "code",
   "execution_count": null,
   "id": "9ccf94ec",
   "metadata": {
    "ExecuteTime": {
     "end_time": "2021-06-08T09:51:16.662948Z",
     "start_time": "2021-06-08T09:50:52.339021Z"
    },
    "scrolled": true
   },
   "outputs": [],
   "source": [
    "sample = False\n",
    "\n",
    "if sample:\n",
    "    df = df.sample(100)\n",
    "    \n",
    "job_name = f\"pytorch-{formatted_time()}-fastai-entail-english\"\n",
    "input_path = DEV_BUCKET / 'training' / 'input_data' / job_name\n",
    "\n",
    "s3_data = str(input_path / 'df.pickle')\n",
    "\n",
    "\n",
    "df.to_pickle(s3_data, protocol=4)"
   ]
  },
  {
   "cell_type": "markdown",
   "id": "b6995d0d",
   "metadata": {},
   "source": [
    "### Estimator Definition"
   ]
  },
  {
   "cell_type": "code",
   "execution_count": null,
   "id": "aa5fd3af",
   "metadata": {
    "ExecuteTime": {
     "end_time": "2021-06-08T09:51:16.726529Z",
     "start_time": "2021-06-08T09:51:16.664600Z"
    }
   },
   "outputs": [],
   "source": [
    "instances = [\n",
    "    'ml.p2.xlarge',\n",
    "    'ml.p3.2xlarge'\n",
    "]"
   ]
  },
  {
   "cell_type": "code",
   "execution_count": null,
   "id": "f7d48464",
   "metadata": {
    "ExecuteTime": {
     "end_time": "2021-06-08T09:51:16.750956Z",
     "start_time": "2021-06-08T09:51:16.727576Z"
    }
   },
   "outputs": [],
   "source": [
    "input_path"
   ]
  },
  {
   "cell_type": "code",
   "execution_count": null,
   "id": "6cf7b118",
   "metadata": {
    "ExecuteTime": {
     "end_time": "2021-06-08T09:51:17.032117Z",
     "start_time": "2021-06-08T09:51:16.752487Z"
    }
   },
   "outputs": [],
   "source": [
    "from sagemaker.pytorch import PyTorch\n",
    "\n",
    "hyperparameters={\n",
    "    'epochs': 3,\n",
    "    'train_batch_size': 64,\n",
    "    'learning_rate': 0.02,\n",
    "    'text_col': text_column,\n",
    "    'label_col': label_column,\n",
    "    'multi_category': 0\n",
    "}\n",
    "\n",
    "estimator = PyTorch(\n",
    "    entry_point='train.py',\n",
    "    source_dir=str(SCRIPTS_TRAINING_PATH / 'stefano/multiclass-fastai'),\n",
    "    output_path=str(DEV_BUCKET / 'models/'),\n",
    "    code_location=str(input_path),\n",
    "    instance_type='ml.p3.2xlarge',\n",
    "    instance_count=1,\n",
    "    role=role,\n",
    "    framework_version='1.8',\n",
    "    py_version='py36',\n",
    "    hyperparameters = hyperparameters,\n",
    "    job_name=job_name,\n",
    "#     train_instance_count=2,\n",
    "#     train_instance_type=\"ml.c4.xlarge\",\n",
    ")"
   ]
  },
  {
   "cell_type": "code",
   "execution_count": null,
   "id": "d78b1234",
   "metadata": {
    "ExecuteTime": {
     "end_time": "2021-06-08T09:51:17.050481Z",
     "start_time": "2021-06-08T09:51:17.033155Z"
    }
   },
   "outputs": [],
   "source": [
    "fit_arguments = {\n",
    "    'train': str(input_path),\n",
    "    'test': str(input_path)\n",
    "}"
   ]
  },
  {
   "cell_type": "code",
   "execution_count": null,
   "id": "5d38873b",
   "metadata": {
    "ExecuteTime": {
     "end_time": "2021-06-08T09:51:20.018700Z",
     "start_time": "2021-06-08T09:51:17.051461Z"
    },
    "scrolled": true
   },
   "outputs": [],
   "source": [
    "estimator.fit(fit_arguments, job_name=job_name, wait=False)"
   ]
  },
  {
   "cell_type": "code",
   "execution_count": null,
   "id": "0063c81b",
   "metadata": {
    "ExecuteTime": {
     "end_time": "2021-06-08T09:51:21.123243Z",
     "start_time": "2021-06-08T09:51:20.027119Z"
    }
   },
   "outputs": [],
   "source": [
    "from sagemaker import TrainingJobAnalytics\n",
    "\n",
    "# Captured metrics can be accessed as a Pandas dataframe\n",
    "df = TrainingJobAnalytics(training_job_name=estimator.latest_training_job.name).dataframe()\n",
    "df.head(10)"
   ]
  },
  {
   "cell_type": "code",
   "execution_count": null,
   "id": "638c79db",
   "metadata": {
    "ExecuteTime": {
     "end_time": "2021-06-08T09:51:21.124405Z",
     "start_time": "2021-06-08T09:50:48.221Z"
    }
   },
   "outputs": [],
   "source": [
    "df"
   ]
  },
  {
   "cell_type": "code",
   "execution_count": null,
   "id": "1f4a19ac",
   "metadata": {},
   "outputs": [],
   "source": []
  },
  {
   "cell_type": "code",
   "execution_count": null,
   "id": "597bc159",
   "metadata": {},
   "outputs": [],
   "source": []
  }
 ],
 "metadata": {
  "kernelspec": {
   "display_name": "Python 3",
   "language": "python",
   "name": "python3"
  },
  "language_info": {
   "codemirror_mode": {
    "name": "ipython",
    "version": 3
   },
   "file_extension": ".py",
   "mimetype": "text/x-python",
   "name": "python",
   "nbconvert_exporter": "python",
   "pygments_lexer": "ipython3",
   "version": "3.9.1"
  },
  "notify_time": "5",
  "toc": {
   "base_numbering": 1,
   "nav_menu": {},
   "number_sections": true,
   "sideBar": true,
   "skip_h1_title": false,
   "title_cell": "Table of Contents",
   "title_sidebar": "Contents",
   "toc_cell": false,
   "toc_position": {},
   "toc_section_display": true,
   "toc_window_display": false
  }
 },
 "nbformat": 4,
 "nbformat_minor": 5
}
