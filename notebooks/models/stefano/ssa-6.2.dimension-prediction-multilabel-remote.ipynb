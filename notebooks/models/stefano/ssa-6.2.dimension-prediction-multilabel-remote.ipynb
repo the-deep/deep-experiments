{
 "cells": [
  {
   "cell_type": "markdown",
   "id": "24591703",
   "metadata": {},
   "source": [
    "Using kernel `conda_pytorch_latest_p36`"
   ]
  },
  {
   "cell_type": "code",
   "execution_count": null,
   "id": "6a22fea8",
   "metadata": {
    "scrolled": true
   },
   "outputs": [],
   "source": [
    "!pip install s3fs"
   ]
  },
  {
   "cell_type": "code",
   "execution_count": null,
   "id": "20eedaba",
   "metadata": {
    "scrolled": true
   },
   "outputs": [],
   "source": [
    "!pip install cloudpathlib\n",
    "!pip install s3fs\n",
    "!pip install transformers\n",
    "!pip install pytorch-lightning"
   ]
  },
  {
   "cell_type": "markdown",
   "id": "fa23b6fa",
   "metadata": {},
   "source": [
    "# Import"
   ]
  },
  {
   "cell_type": "code",
   "execution_count": 1,
   "id": "999f3add",
   "metadata": {
    "ExecuteTime": {
     "end_time": "2021-05-31T14:07:15.935523Z",
     "start_time": "2021-05-31T14:07:15.930430Z"
    }
   },
   "outputs": [],
   "source": [
    "import sys\n",
    "sys.path.append('../../../')"
   ]
  },
  {
   "cell_type": "code",
   "execution_count": 2,
   "id": "ef3c9d77",
   "metadata": {
    "ExecuteTime": {
     "end_time": "2021-05-31T14:07:16.201249Z",
     "start_time": "2021-05-31T14:07:16.197933Z"
    }
   },
   "outputs": [],
   "source": [
    "from pathlib import Path\n",
    "import os\n",
    "import random\n",
    "import json\n",
    "from datetime import datetime"
   ]
  },
  {
   "cell_type": "code",
   "execution_count": 3,
   "id": "4e7ee89c",
   "metadata": {
    "ExecuteTime": {
     "end_time": "2021-05-31T14:07:18.419806Z",
     "start_time": "2021-05-31T14:07:16.372974Z"
    }
   },
   "outputs": [],
   "source": [
    "import pandas as pd\n",
    "import numpy as np\n",
    "from sklearn.metrics import classification_report\n",
    "import torch\n",
    "import sagemaker\n",
    "from sagemaker import get_execution_role\n",
    "import boto3\n",
    "import pytorch_lightning as pl\n",
    "import torch.nn as nn\n",
    "from transformers import (\n",
    "    AutoModelForSequenceClassification,\n",
    "    AutoModel,\n",
    "    AutoTokenizer,\n",
    "    AdamW,\n",
    "    get_linear_schedule_with_warmup,\n",
    ")\n",
    "from sklearn.preprocessing import MultiLabelBinarizer\n",
    "from torch.utils.data import DataLoader,Dataset\n",
    "from tqdm import tqdm"
   ]
  },
  {
   "cell_type": "code",
   "execution_count": 4,
   "id": "5c036b67",
   "metadata": {
    "ExecuteTime": {
     "end_time": "2021-05-31T14:07:18.507597Z",
     "start_time": "2021-05-31T14:07:18.420962Z"
    },
    "scrolled": true
   },
   "outputs": [],
   "source": [
    "from deep.constants import *\n",
    "from deep.utils import *"
   ]
  },
  {
   "cell_type": "code",
   "execution_count": 5,
   "id": "f86b862e",
   "metadata": {
    "ExecuteTime": {
     "end_time": "2021-05-31T14:07:18.534308Z",
     "start_time": "2021-05-31T14:07:18.508898Z"
    }
   },
   "outputs": [],
   "source": [
    "%load_ext autoreload\n",
    "%autoreload 2"
   ]
  },
  {
   "cell_type": "markdown",
   "id": "fe489b21",
   "metadata": {},
   "source": [
    "## Data"
   ]
  },
  {
   "cell_type": "code",
   "execution_count": 6,
   "id": "6d147ba1",
   "metadata": {
    "ExecuteTime": {
     "end_time": "2021-05-31T14:07:19.514086Z",
     "start_time": "2021-05-31T14:07:18.535487Z"
    }
   },
   "outputs": [
    {
     "name": "stderr",
     "output_type": "stream",
     "text": [
      "/Users/stefano/miniconda3/envs/deep-exp/lib/python3.9/site-packages/IPython/core/interactiveshell.py:3165: DtypeWarning: Columns (6) have mixed types.Specify dtype option on import or set low_memory=False.\n",
      "  has_raised = await self.run_ast_nodes(code_ast.body, cell_name,\n"
     ]
    }
   ],
   "source": [
    "train = pd.read_csv(FRAMEWORKS_PATH / 'data_v0.3_train.csv')\n",
    "val = pd.read_csv(FRAMEWORKS_PATH / 'data_v0.3_val.csv')\n",
    "test = pd.read_csv(FRAMEWORKS_PATH / 'data_v0.3_test.csv')"
   ]
  },
  {
   "cell_type": "code",
   "execution_count": 7,
   "id": "0a12eb48",
   "metadata": {
    "ExecuteTime": {
     "end_time": "2021-05-31T14:07:19.539558Z",
     "start_time": "2021-05-31T14:07:19.515011Z"
    }
   },
   "outputs": [],
   "source": [
    "def process(df):\n",
    "    df = df.copy()\n",
    "    df['dimension_ids'] = df['dimension_ids'].apply(eval)\n",
    "#     df['dimension_ids'] = df['dimension_ids'].apply(lambda x: torch.tensor(x, dtype=torch.float))\n",
    "    \n",
    "    mlb = MultiLabelBinarizer()\n",
    "    labels = mlb.fit_transform(list(df['dimension_ids']))\n",
    "    df['labels'] = list(labels)\n",
    "    \n",
    "    df = df[['excerpt', 'labels']]\n",
    "    df = df.rename(columns={'excerpt': 'texts'})\n",
    "        \n",
    "    return df"
   ]
  },
  {
   "cell_type": "code",
   "execution_count": 8,
   "id": "9b2710bd",
   "metadata": {
    "ExecuteTime": {
     "end_time": "2021-05-31T14:07:20.161162Z",
     "start_time": "2021-05-31T14:07:19.541007Z"
    },
    "scrolled": true
   },
   "outputs": [],
   "source": [
    "train_df = process(train)\n",
    "val_df = process(val)\n",
    "test_df = process(test)"
   ]
  },
  {
   "cell_type": "code",
   "execution_count": 9,
   "id": "712c92db",
   "metadata": {
    "ExecuteTime": {
     "end_time": "2021-05-31T14:07:23.171759Z",
     "start_time": "2021-05-31T14:07:20.162340Z"
    },
    "scrolled": true
   },
   "outputs": [],
   "source": [
    "model_name = 'distilbert-base-uncased'\n",
    "tokenizer = AutoTokenizer.from_pretrained(model_name)"
   ]
  },
  {
   "cell_type": "markdown",
   "id": "e805e622",
   "metadata": {},
   "source": [
    "## Sagemaker Prep"
   ]
  },
  {
   "cell_type": "markdown",
   "id": "fe4baaca",
   "metadata": {
    "ExecuteTime": {
     "end_time": "2021-05-27T15:42:32.024647Z",
     "start_time": "2021-05-27T15:42:31.984694Z"
    }
   },
   "source": [
    "### Session"
   ]
  },
  {
   "cell_type": "code",
   "execution_count": 10,
   "id": "3a2753a1",
   "metadata": {
    "ExecuteTime": {
     "end_time": "2021-05-31T14:07:23.341429Z",
     "start_time": "2021-05-31T14:07:23.173364Z"
    }
   },
   "outputs": [],
   "source": [
    "sess = sagemaker.Session(default_bucket=DEV_BUCKET.name)\n",
    "role = 'AmazonSageMaker-ExecutionRole-20210519T102514'"
   ]
  },
  {
   "cell_type": "markdown",
   "id": "e2e4b932",
   "metadata": {},
   "source": [
    "### Bucket upload"
   ]
  },
  {
   "cell_type": "code",
   "execution_count": 12,
   "id": "8b09a9c1",
   "metadata": {
    "ExecuteTime": {
     "end_time": "2021-05-31T14:07:39.551642Z",
     "start_time": "2021-05-31T14:07:33.752355Z"
    },
    "scrolled": true
   },
   "outputs": [],
   "source": [
    "sample = True\n",
    "\n",
    "if sample:\n",
    "    train_df = train_df.sample(100)\n",
    "    val_df = val_df.sample(100)\n",
    "    test_df = test_df.sample(100)\n",
    "\n",
    "    \n",
    "job_name = f\"pytorch-training-{formatted_time()}\"\n",
    "input_path = DEV_BUCKET / 'training' / 'input_data' / job_name\n",
    "\n",
    "s3_train_data = str(input_path / 'train_df.pickle')\n",
    "s3_validation_data = str(input_path / 'val_df.pickle')\n",
    "s3_test_data = str(input_path / 'test_df.pickle')\n",
    "\n",
    "\n",
    "train_df.to_pickle(s3_train_data, protocol=4)\n",
    "test_df.to_pickle(s3_validation_data, protocol=4)\n",
    "test_df.to_pickle(s3_test_data, protocol=4)"
   ]
  },
  {
   "cell_type": "markdown",
   "id": "b83f4dc3",
   "metadata": {},
   "source": [
    "### Estimator Definition"
   ]
  },
  {
   "cell_type": "code",
   "execution_count": 13,
   "id": "6a5152e8",
   "metadata": {
    "ExecuteTime": {
     "end_time": "2021-05-31T14:07:40.663112Z",
     "start_time": "2021-05-31T14:07:40.610127Z"
    }
   },
   "outputs": [],
   "source": [
    "instances = [\n",
    "    'ml.p2.xlarge',\n",
    "    'ml.p3.2xlarge'\n",
    "]"
   ]
  },
  {
   "cell_type": "code",
   "execution_count": 14,
   "id": "94388e0b",
   "metadata": {
    "ExecuteTime": {
     "end_time": "2021-05-31T14:07:41.031726Z",
     "start_time": "2021-05-31T14:07:40.979045Z"
    }
   },
   "outputs": [],
   "source": [
    "metric_definitions=[\n",
    "    {'Name': 'loss', 'Regex': \"'loss': ([0-9]+(.|e\\-)[0-9]+),?\"},\n",
    "    {'Name': 'learning_rate', 'Regex': \"'learning_rate': ([0-9]+(.|e\\-)[0-9]+),?\"},\n",
    "    {'Name': 'eval_loss', 'Regex': \"'eval_loss': ([0-9]+(.|e\\-)[0-9]+),?\"},\n",
    "    {'Name': 'eval_accuracy', 'Regex': \"'eval_accuracy': ([0-9]+(.|e\\-)[0-9]+),?\"},\n",
    "    {'Name': 'eval_f1', 'Regex': \"'eval_f1': ([0-9]+(.|e\\-)[0-9]+),?\"},\n",
    "    {'Name': 'eval_precision', 'Regex': \"'eval_precision': ([0-9]+(.|e\\-)[0-9]+),?\"},\n",
    "    {'Name': 'eval_recall', 'Regex': \"'eval_recall': ([0-9]+(.|e\\-)[0-9]+),?\"},\n",
    "    {'Name': 'eval_stupid_metric', 'Regex': \"'eval_stupid_metric': ([0-9]+(.|e\\-)[0-9]+),?\"},\n",
    "    {'Name': 'eval_runtime', 'Regex': \"'eval_runtime': ([0-9]+(.|e\\-)[0-9]+),?\"},\n",
    "    {'Name': 'eval_samples_per_second', 'Regex': \"'eval_samples_per_second': ([0-9]+(.|e\\-)[0-9]+),?\"},\n",
    "    {'Name': 'epoch', 'Regex': \"'epoch': ([0-9]+(.|e\\-)[0-9]+),?\"}]"
   ]
  },
  {
   "cell_type": "code",
   "execution_count": 15,
   "id": "4f8b5cd2",
   "metadata": {
    "ExecuteTime": {
     "end_time": "2021-05-31T14:07:43.020290Z",
     "start_time": "2021-05-31T14:07:42.976588Z"
    }
   },
   "outputs": [],
   "source": [
    "# # set True if you need spot instance\n",
    "# use_spot = True\n",
    "# train_max_run_secs =   2*24 * 60 * 60\n",
    "# spot_wait_sec =  5 * 60\n",
    "# max_wait_time_secs = train_max_run_secs +  spot_wait_sec\n",
    "\n",
    "# if not use_spot:\n",
    "#     max_wait_time_secs = None\n",
    "    \n",
    "# # During local mode, no spot.., use smaller dataset\n",
    "# if instance_type == 'local':\n",
    "#     use_spot = False\n",
    "#     max_wait_time_secs = 0\n",
    "#     wait = True\n",
    "#     # Use smaller dataset to run locally\n",
    "#     inputs = inputs_sample\n"
   ]
  },
  {
   "cell_type": "code",
   "execution_count": 16,
   "id": "c8458da4",
   "metadata": {
    "ExecuteTime": {
     "end_time": "2021-05-31T14:10:43.115836Z",
     "start_time": "2021-05-31T14:10:42.903043Z"
    }
   },
   "outputs": [],
   "source": [
    "from sagemaker.pytorch import PyTorch\n",
    "\n",
    "hyperparameters={'epochs': 2,\n",
    "                 'train_batch_size': 16,\n",
    "                 'model_name': 'distilbert-base-uncased'\n",
    "                 }\n",
    "\n",
    "estimator = PyTorch(\n",
    "    entry_point='train.py',\n",
    "    source_dir=str(SCRIPTS_TRAINING_PATH / 'stefano/pytorch_estimator_example'),\n",
    "    output_path=str(DEV_BUCKET / 'models/'),\n",
    "    code_location=str(input_path),\n",
    "    instance_type='ml.p3.2xlarge',\n",
    "    instance_count=1,\n",
    "    role=role,\n",
    "    framework_version='1.8',\n",
    "    py_version='py36',\n",
    "    hyperparameters = hyperparameters,\n",
    "    metric_definitions=metric_definitions,\n",
    "    job_name=job_name,\n",
    "#     train_instance_count=2,\n",
    "#     train_instance_type=\"ml.c4.xlarge\",\n",
    ")"
   ]
  },
  {
   "cell_type": "code",
   "execution_count": 17,
   "id": "c2d57e6d",
   "metadata": {
    "ExecuteTime": {
     "end_time": "2021-05-31T14:10:55.764254Z",
     "start_time": "2021-05-31T14:10:55.714437Z"
    }
   },
   "outputs": [],
   "source": [
    "fit_arguments = {\n",
    "    'train': str(input_path),\n",
    "    'test': str(input_path)\n",
    "}"
   ]
  },
  {
   "cell_type": "code",
   "execution_count": 18,
   "id": "e6e230e3",
   "metadata": {
    "ExecuteTime": {
     "end_time": "2021-05-31T14:18:27.161420Z",
     "start_time": "2021-05-31T14:11:03.477574Z"
    },
    "scrolled": true
   },
   "outputs": [
    {
     "name": "stdout",
     "output_type": "stream",
     "text": [
      "2021-05-31 14:11:06 Starting - Starting the training job...\n",
      "2021-05-31 14:11:30 Starting - Launching requested ML instancesProfilerReport-1622470263: InProgress\n",
      "......\n",
      "2021-05-31 14:12:37 Starting - Preparing the instances for training.........\n",
      "2021-05-31 14:14:23 Downloading - Downloading input data\n",
      "2021-05-31 14:14:23 Training - Downloading the training image..................\n",
      "2021-05-31 14:17:34 Training - Training image download completed. Training in progress..\u001b[34mbash: cannot set terminal process group (-1): Inappropriate ioctl for device\u001b[0m\n",
      "\u001b[34mbash: no job control in this shell\u001b[0m\n",
      "\u001b[34m2021-05-31 14:17:34,909 sagemaker-training-toolkit INFO     Imported framework sagemaker_pytorch_container.training\u001b[0m\n",
      "\u001b[34m2021-05-31 14:17:34,933 sagemaker_pytorch_container.training INFO     Block until all host DNS lookups succeed.\u001b[0m\n",
      "\u001b[34m2021-05-31 14:17:41,165 sagemaker_pytorch_container.training INFO     Invoking user training script.\u001b[0m\n",
      "\u001b[34m2021-05-31 14:17:41,614 sagemaker-training-toolkit INFO     Installing dependencies from requirements.txt:\u001b[0m\n",
      "\u001b[34m/opt/conda/bin/python3.6 -m pip install -r requirements.txt\u001b[0m\n",
      "\u001b[34mCollecting transformers==4.6.1\n",
      "  Downloading transformers-4.6.1-py3-none-any.whl (2.2 MB)\u001b[0m\n",
      "\u001b[34mCollecting pytorch-lightning==1.3.2\n",
      "  Downloading pytorch_lightning-1.3.2-py3-none-any.whl (805 kB)\u001b[0m\n",
      "\u001b[34mCollecting regex!=2019.12.17\n",
      "  Downloading regex-2021.4.4-cp36-cp36m-manylinux2014_x86_64.whl (722 kB)\u001b[0m\n",
      "\u001b[34mCollecting tokenizers<0.11,>=0.10.1\n",
      "  Downloading tokenizers-0.10.3-cp36-cp36m-manylinux_2_5_x86_64.manylinux1_x86_64.manylinux_2_12_x86_64.manylinux2010_x86_64.whl (3.3 MB)\u001b[0m\n",
      "\u001b[34mRequirement already satisfied: dataclasses in /opt/conda/lib/python3.6/site-packages (from transformers==4.6.1->-r requirements.txt (line 1)) (0.8)\u001b[0m\n",
      "\u001b[34mRequirement already satisfied: importlib-metadata in /opt/conda/lib/python3.6/site-packages (from transformers==4.6.1->-r requirements.txt (line 1)) (4.0.1)\u001b[0m\n",
      "\u001b[34mRequirement already satisfied: numpy>=1.17 in /opt/conda/lib/python3.6/site-packages (from transformers==4.6.1->-r requirements.txt (line 1)) (1.19.1)\u001b[0m\n",
      "\u001b[34mRequirement already satisfied: tqdm>=4.27 in /opt/conda/lib/python3.6/site-packages (from transformers==4.6.1->-r requirements.txt (line 1)) (4.51.0)\u001b[0m\n",
      "\u001b[34mRequirement already satisfied: packaging in /opt/conda/lib/python3.6/site-packages (from transformers==4.6.1->-r requirements.txt (line 1)) (20.9)\u001b[0m\n",
      "\u001b[34mRequirement already satisfied: requests in /opt/conda/lib/python3.6/site-packages (from transformers==4.6.1->-r requirements.txt (line 1)) (2.25.1)\u001b[0m\n",
      "\u001b[34mCollecting huggingface-hub==0.0.8\n",
      "  Downloading huggingface_hub-0.0.8-py3-none-any.whl (34 kB)\u001b[0m\n",
      "\u001b[34mCollecting filelock\n",
      "  Downloading filelock-3.0.12-py3-none-any.whl (7.6 kB)\u001b[0m\n",
      "\u001b[34mCollecting sacremoses\n",
      "  Downloading sacremoses-0.0.45-py3-none-any.whl (895 kB)\u001b[0m\n",
      "\u001b[34mCollecting pyDeprecate==0.3.0\n",
      "  Downloading pyDeprecate-0.3.0-py3-none-any.whl (10 kB)\u001b[0m\n",
      "\u001b[34mCollecting torchmetrics>=0.2.0\n",
      "  Downloading torchmetrics-0.3.2-py3-none-any.whl (274 kB)\u001b[0m\n",
      "\u001b[34mRequirement already satisfied: fsspec[http]>=2021.4.0 in /opt/conda/lib/python3.6/site-packages (from pytorch-lightning==1.3.2->-r requirements.txt (line 2)) (2021.4.0)\u001b[0m\n",
      "\u001b[34mRequirement already satisfied: PyYAML<=5.4.1,>=5.1 in /opt/conda/lib/python3.6/site-packages (from pytorch-lightning==1.3.2->-r requirements.txt (line 2)) (5.4.1)\u001b[0m\n",
      "\u001b[34mRequirement already satisfied: torch>=1.4 in /opt/conda/lib/python3.6/site-packages (from pytorch-lightning==1.3.2->-r requirements.txt (line 2)) (1.8.1)\u001b[0m\n",
      "\u001b[34mRequirement already satisfied: future>=0.17.1 in /opt/conda/lib/python3.6/site-packages (from pytorch-lightning==1.3.2->-r requirements.txt (line 2)) (0.18.2)\u001b[0m\n",
      "\u001b[34mCollecting tensorboard!=2.5.0,>=2.2.0\n",
      "  Downloading tensorboard-2.4.1-py3-none-any.whl (10.6 MB)\u001b[0m\n",
      "\u001b[34mCollecting aiohttp\n",
      "  Downloading aiohttp-3.7.4.post0-cp36-cp36m-manylinux2014_x86_64.whl (1.3 MB)\u001b[0m\n",
      "\u001b[34mCollecting google-auth<2,>=1.6.3\n",
      "  Downloading google_auth-1.30.1-py2.py3-none-any.whl (146 kB)\u001b[0m\n",
      "\u001b[34mCollecting absl-py>=0.4\n",
      "  Downloading absl_py-0.12.0-py3-none-any.whl (129 kB)\u001b[0m\n",
      "\u001b[34mCollecting grpcio>=1.24.3\n",
      "  Downloading grpcio-1.38.0-cp36-cp36m-manylinux2014_x86_64.whl (4.2 MB)\u001b[0m\n",
      "\u001b[34mCollecting markdown>=2.6.8\n",
      "  Downloading Markdown-3.3.4-py3-none-any.whl (97 kB)\u001b[0m\n",
      "\u001b[34mRequirement already satisfied: protobuf>=3.6.0 in /opt/conda/lib/python3.6/site-packages (from tensorboard!=2.5.0,>=2.2.0->pytorch-lightning==1.3.2->-r requirements.txt (line 2)) (3.16.0)\u001b[0m\n",
      "\u001b[34mRequirement already satisfied: six>=1.10.0 in /opt/conda/lib/python3.6/site-packages (from tensorboard!=2.5.0,>=2.2.0->pytorch-lightning==1.3.2->-r requirements.txt (line 2)) (1.16.0)\u001b[0m\n",
      "\u001b[34mCollecting google-auth-oauthlib<0.5,>=0.4.1\n",
      "  Downloading google_auth_oauthlib-0.4.4-py2.py3-none-any.whl (18 kB)\u001b[0m\n",
      "\u001b[34mCollecting tensorboard-plugin-wit>=1.6.0\n",
      "  Downloading tensorboard_plugin_wit-1.8.0-py3-none-any.whl (781 kB)\u001b[0m\n",
      "\u001b[34mRequirement already satisfied: werkzeug>=0.11.15 in /opt/conda/lib/python3.6/site-packages (from tensorboard!=2.5.0,>=2.2.0->pytorch-lightning==1.3.2->-r requirements.txt (line 2)) (1.0.1)\u001b[0m\n",
      "\u001b[34mRequirement already satisfied: setuptools>=41.0.0 in /opt/conda/lib/python3.6/site-packages (from tensorboard!=2.5.0,>=2.2.0->pytorch-lightning==1.3.2->-r requirements.txt (line 2)) (49.6.0.post20210108)\u001b[0m\n",
      "\u001b[34mRequirement already satisfied: wheel>=0.26 in /opt/conda/lib/python3.6/site-packages (from tensorboard!=2.5.0,>=2.2.0->pytorch-lightning==1.3.2->-r requirements.txt (line 2)) (0.35.1)\u001b[0m\n",
      "\u001b[34mRequirement already satisfied: rsa<5,>=3.1.4 in /opt/conda/lib/python3.6/site-packages (from google-auth<2,>=1.6.3->tensorboard!=2.5.0,>=2.2.0->pytorch-lightning==1.3.2->-r requirements.txt (line 2)) (4.7.2)\u001b[0m\n",
      "\u001b[34mCollecting pyasn1-modules>=0.2.1\n",
      "  Downloading pyasn1_modules-0.2.8-py2.py3-none-any.whl (155 kB)\u001b[0m\n",
      "\u001b[34mCollecting cachetools<5.0,>=2.0.0\n",
      "  Downloading cachetools-4.2.2-py3-none-any.whl (11 kB)\u001b[0m\n",
      "\u001b[34mCollecting requests-oauthlib>=0.7.0\n",
      "  Downloading requests_oauthlib-1.3.0-py2.py3-none-any.whl (23 kB)\u001b[0m\n",
      "\u001b[34mRequirement already satisfied: pyasn1<0.5.0,>=0.4.6 in /opt/conda/lib/python3.6/site-packages (from pyasn1-modules>=0.2.1->google-auth<2,>=1.6.3->tensorboard!=2.5.0,>=2.2.0->pytorch-lightning==1.3.2->-r requirements.txt (line 2)) (0.4.8)\u001b[0m\n",
      "\u001b[34mRequirement already satisfied: urllib3<1.27,>=1.21.1 in /opt/conda/lib/python3.6/site-packages (from requests->transformers==4.6.1->-r requirements.txt (line 1)) (1.25.11)\u001b[0m\n",
      "\u001b[34mRequirement already satisfied: certifi>=2017.4.17 in /opt/conda/lib/python3.6/site-packages (from requests->transformers==4.6.1->-r requirements.txt (line 1)) (2020.12.5)\u001b[0m\n",
      "\u001b[34mRequirement already satisfied: chardet<5,>=3.0.2 in /opt/conda/lib/python3.6/site-packages (from requests->transformers==4.6.1->-r requirements.txt (line 1)) (3.0.4)\u001b[0m\n",
      "\u001b[34mRequirement already satisfied: idna<3,>=2.5 in /opt/conda/lib/python3.6/site-packages (from requests->transformers==4.6.1->-r requirements.txt (line 1)) (2.10)\u001b[0m\n",
      "\u001b[34mCollecting oauthlib>=3.0.0\n",
      "  Downloading oauthlib-3.1.0-py2.py3-none-any.whl (147 kB)\u001b[0m\n",
      "\u001b[34mRequirement already satisfied: typing-extensions in /opt/conda/lib/python3.6/site-packages (from torch>=1.4->pytorch-lightning==1.3.2->-r requirements.txt (line 2)) (3.10.0.0)\u001b[0m\n",
      "\u001b[34mRequirement already satisfied: attrs>=17.3.0 in /opt/conda/lib/python3.6/site-packages (from aiohttp->fsspec[http]>=2021.4.0->pytorch-lightning==1.3.2->-r requirements.txt (line 2)) (21.2.0)\u001b[0m\n",
      "\u001b[34mCollecting multidict<7.0,>=4.5\n",
      "  Downloading multidict-5.1.0-cp36-cp36m-manylinux2014_x86_64.whl (141 kB)\u001b[0m\n",
      "\u001b[34mCollecting yarl<2.0,>=1.0\n",
      "  Downloading yarl-1.6.3-cp36-cp36m-manylinux2014_x86_64.whl (293 kB)\u001b[0m\n",
      "\u001b[34mCollecting idna-ssl>=1.0\n",
      "  Downloading idna-ssl-1.1.0.tar.gz (3.4 kB)\u001b[0m\n",
      "\u001b[34mCollecting async-timeout<4.0,>=3.0\n",
      "  Downloading async_timeout-3.0.1-py3-none-any.whl (8.2 kB)\u001b[0m\n",
      "\u001b[34mRequirement already satisfied: zipp>=0.5 in /opt/conda/lib/python3.6/site-packages (from importlib-metadata->transformers==4.6.1->-r requirements.txt (line 1)) (3.4.1)\u001b[0m\n",
      "\u001b[34mRequirement already satisfied: pyparsing>=2.0.2 in /opt/conda/lib/python3.6/site-packages (from packaging->transformers==4.6.1->-r requirements.txt (line 1)) (2.4.7)\u001b[0m\n",
      "\u001b[34mRequirement already satisfied: click in /opt/conda/lib/python3.6/site-packages (from sacremoses->transformers==4.6.1->-r requirements.txt (line 1)) (7.1.2)\u001b[0m\n",
      "\u001b[34mRequirement already satisfied: joblib in /opt/conda/lib/python3.6/site-packages (from sacremoses->transformers==4.6.1->-r requirements.txt (line 1)) (1.0.1)\u001b[0m\n",
      "\u001b[34mBuilding wheels for collected packages: idna-ssl\n",
      "  Building wheel for idna-ssl (setup.py): started\n",
      "  Building wheel for idna-ssl (setup.py): finished with status 'done'\n",
      "  Created wheel for idna-ssl: filename=idna_ssl-1.1.0-py3-none-any.whl size=3161 sha256=3914cf38042c36f4d5f1758373e55c97b315266da4dc665aa2f5d7ee91936c6e\n",
      "  Stored in directory: /root/.cache/pip/wheels/6a/f5/9c/f8331a854f7a8739cf0e74c13854e4dd7b1af11b04fe1dde13\u001b[0m\n",
      "\u001b[34mSuccessfully built idna-ssl\u001b[0m\n",
      "\u001b[34mInstalling collected packages: pyasn1-modules, oauthlib, multidict, cachetools, yarl, requests-oauthlib, idna-ssl, google-auth, async-timeout, tensorboard-plugin-wit, regex, markdown, grpcio, google-auth-oauthlib, filelock, aiohttp, absl-py, torchmetrics, tokenizers, tensorboard, sacremoses, pyDeprecate, huggingface-hub, transformers, pytorch-lightning\u001b[0m\n",
      "\u001b[34mSuccessfully installed absl-py-0.12.0 aiohttp-3.7.4.post0 async-timeout-3.0.1 cachetools-4.2.2 filelock-3.0.12 google-auth-1.30.1 google-auth-oauthlib-0.4.4 grpcio-1.38.0 huggingface-hub-0.0.8 idna-ssl-1.1.0 markdown-3.3.4 multidict-5.1.0 oauthlib-3.1.0 pyDeprecate-0.3.0 pyasn1-modules-0.2.8 pytorch-lightning-1.3.2 regex-2021.4.4 requests-oauthlib-1.3.0 sacremoses-0.0.45 tensorboard-2.4.1 tensorboard-plugin-wit-1.8.0 tokenizers-0.10.3 torchmetrics-0.3.2 transformers-4.6.1 yarl-1.6.3\u001b[0m\n",
      "\u001b[34mWARNING: Running pip as root will break packages and permissions. You should install packages reliably by using venv: https://pip.pypa.io/warnings/venv\n",
      "\u001b[0m\n",
      "\u001b[34m2021-05-31 14:17:55,798 sagemaker-training-toolkit INFO     Invoking user script\n",
      "\u001b[0m\n",
      "\u001b[34mTraining Env:\n",
      "\u001b[0m\n",
      "\u001b[34m{\n",
      "    \"additional_framework_parameters\": {},\n",
      "    \"channel_input_dirs\": {\n",
      "        \"test\": \"/opt/ml/input/data/test\",\n",
      "        \"train\": \"/opt/ml/input/data/train\"\n",
      "    },\n",
      "    \"current_host\": \"algo-1\",\n",
      "    \"framework_module\": \"sagemaker_pytorch_container.training:main\",\n",
      "    \"hosts\": [\n",
      "        \"algo-1\"\n",
      "    ],\n",
      "    \"hyperparameters\": {\n",
      "        \"train_batch_size\": 16,\n",
      "        \"model_name\": \"distilbert-base-uncased\",\n",
      "        \"epochs\": 2\n",
      "    },\n",
      "    \"input_config_dir\": \"/opt/ml/input/config\",\n",
      "    \"input_data_config\": {\n",
      "        \"test\": {\n",
      "            \"TrainingInputMode\": \"File\",\n",
      "            \"S3DistributionType\": \"FullyReplicated\",\n",
      "            \"RecordWrapperType\": \"None\"\n",
      "        },\n",
      "        \"train\": {\n",
      "            \"TrainingInputMode\": \"File\",\n",
      "            \"S3DistributionType\": \"FullyReplicated\",\n",
      "            \"RecordWrapperType\": \"None\"\n",
      "        }\n",
      "    },\n",
      "    \"input_dir\": \"/opt/ml/input\",\n",
      "    \"is_master\": true,\n",
      "    \"job_name\": \"pytorch-training-2021-05-31-16-07-33-804\",\n",
      "    \"log_level\": 20,\n",
      "    \"master_hostname\": \"algo-1\",\n",
      "    \"model_dir\": \"/opt/ml/model\",\n",
      "    \"module_dir\": \"s3://sagemaker-deep-experiments-dev/training/input_data/pytorch-training-2021-05-31-16-07-33-804/pytorch-training-2021-05-31-16-07-33-804/source/sourcedir.tar.gz\",\n",
      "    \"module_name\": \"train\",\n",
      "    \"network_interface_name\": \"eth0\",\n",
      "    \"num_cpus\": 8,\n",
      "    \"num_gpus\": 1,\n",
      "    \"output_data_dir\": \"/opt/ml/output/data\",\n",
      "    \"output_dir\": \"/opt/ml/output\",\n",
      "    \"output_intermediate_dir\": \"/opt/ml/output/intermediate\",\n",
      "    \"resource_config\": {\n",
      "        \"current_host\": \"algo-1\",\n",
      "        \"hosts\": [\n",
      "            \"algo-1\"\n",
      "        ],\n",
      "        \"network_interface_name\": \"eth0\"\n",
      "    },\n",
      "    \"user_entry_point\": \"train.py\"\u001b[0m\n",
      "\u001b[34m}\n",
      "\u001b[0m\n",
      "\u001b[34mEnvironment variables:\n",
      "\u001b[0m\n",
      "\u001b[34mSM_HOSTS=[\"algo-1\"]\u001b[0m\n",
      "\u001b[34mSM_NETWORK_INTERFACE_NAME=eth0\u001b[0m\n",
      "\u001b[34mSM_HPS={\"epochs\":2,\"model_name\":\"distilbert-base-uncased\",\"train_batch_size\":16}\u001b[0m\n",
      "\u001b[34mSM_USER_ENTRY_POINT=train.py\u001b[0m\n",
      "\u001b[34mSM_FRAMEWORK_PARAMS={}\u001b[0m\n",
      "\u001b[34mSM_RESOURCE_CONFIG={\"current_host\":\"algo-1\",\"hosts\":[\"algo-1\"],\"network_interface_name\":\"eth0\"}\u001b[0m\n",
      "\u001b[34mSM_INPUT_DATA_CONFIG={\"test\":{\"RecordWrapperType\":\"None\",\"S3DistributionType\":\"FullyReplicated\",\"TrainingInputMode\":\"File\"},\"train\":{\"RecordWrapperType\":\"None\",\"S3DistributionType\":\"FullyReplicated\",\"TrainingInputMode\":\"File\"}}\u001b[0m\n",
      "\u001b[34mSM_OUTPUT_DATA_DIR=/opt/ml/output/data\u001b[0m\n",
      "\u001b[34mSM_CHANNELS=[\"test\",\"train\"]\u001b[0m\n",
      "\u001b[34mSM_CURRENT_HOST=algo-1\u001b[0m\n",
      "\u001b[34mSM_MODULE_NAME=train\u001b[0m\n",
      "\u001b[34mSM_LOG_LEVEL=20\u001b[0m\n",
      "\u001b[34mSM_FRAMEWORK_MODULE=sagemaker_pytorch_container.training:main\u001b[0m\n",
      "\u001b[34mSM_INPUT_DIR=/opt/ml/input\u001b[0m\n",
      "\u001b[34mSM_INPUT_CONFIG_DIR=/opt/ml/input/config\u001b[0m\n",
      "\u001b[34mSM_OUTPUT_DIR=/opt/ml/output\u001b[0m\n",
      "\u001b[34mSM_NUM_CPUS=8\u001b[0m\n",
      "\u001b[34mSM_NUM_GPUS=1\u001b[0m\n",
      "\u001b[34mSM_MODEL_DIR=/opt/ml/model\u001b[0m\n",
      "\u001b[34mSM_MODULE_DIR=s3://sagemaker-deep-experiments-dev/training/input_data/pytorch-training-2021-05-31-16-07-33-804/pytorch-training-2021-05-31-16-07-33-804/source/sourcedir.tar.gz\u001b[0m\n",
      "\u001b[34mSM_TRAINING_ENV={\"additional_framework_parameters\":{},\"channel_input_dirs\":{\"test\":\"/opt/ml/input/data/test\",\"train\":\"/opt/ml/input/data/train\"},\"current_host\":\"algo-1\",\"framework_module\":\"sagemaker_pytorch_container.training:main\",\"hosts\":[\"algo-1\"],\"hyperparameters\":{\"epochs\":2,\"model_name\":\"distilbert-base-uncased\",\"train_batch_size\":16},\"input_config_dir\":\"/opt/ml/input/config\",\"input_data_config\":{\"test\":{\"RecordWrapperType\":\"None\",\"S3DistributionType\":\"FullyReplicated\",\"TrainingInputMode\":\"File\"},\"train\":{\"RecordWrapperType\":\"None\",\"S3DistributionType\":\"FullyReplicated\",\"TrainingInputMode\":\"File\"}},\"input_dir\":\"/opt/ml/input\",\"is_master\":true,\"job_name\":\"pytorch-training-2021-05-31-16-07-33-804\",\"log_level\":20,\"master_hostname\":\"algo-1\",\"model_dir\":\"/opt/ml/model\",\"module_dir\":\"s3://sagemaker-deep-experiments-dev/training/input_data/pytorch-training-2021-05-31-16-07-33-804/pytorch-training-2021-05-31-16-07-33-804/source/sourcedir.tar.gz\",\"module_name\":\"train\",\"network_interface_name\":\"eth0\",\"num_cpus\":8,\"num_gpus\":1,\"output_data_dir\":\"/opt/ml/output/data\",\"output_dir\":\"/opt/ml/output\",\"output_intermediate_dir\":\"/opt/ml/output/intermediate\",\"resource_config\":{\"current_host\":\"algo-1\",\"hosts\":[\"algo-1\"],\"network_interface_name\":\"eth0\"},\"user_entry_point\":\"train.py\"}\u001b[0m\n",
      "\u001b[34mSM_USER_ARGS=[\"--epochs\",\"2\",\"--model_name\",\"distilbert-base-uncased\",\"--train_batch_size\",\"16\"]\u001b[0m\n",
      "\u001b[34mSM_OUTPUT_INTERMEDIATE_DIR=/opt/ml/output/intermediate\u001b[0m\n",
      "\u001b[34mSM_CHANNEL_TEST=/opt/ml/input/data/test\u001b[0m\n",
      "\u001b[34mSM_CHANNEL_TRAIN=/opt/ml/input/data/train\u001b[0m\n",
      "\u001b[34mSM_HP_TRAIN_BATCH_SIZE=16\u001b[0m\n",
      "\u001b[34mSM_HP_MODEL_NAME=distilbert-base-uncased\u001b[0m\n",
      "\u001b[34mSM_HP_EPOCHS=2\u001b[0m\n",
      "\u001b[34mPYTHONPATH=/opt/ml/code:/opt/conda/bin:/opt/conda/lib/python36.zip:/opt/conda/lib/python3.6:/opt/conda/lib/python3.6/lib-dynload:/opt/conda/lib/python3.6/site-packages\n",
      "\u001b[0m\n",
      "\u001b[34mInvoking script with the following command:\n",
      "\u001b[0m\n",
      "\u001b[34m/opt/conda/bin/python3.6 train.py --epochs 2 --model_name distilbert-base-uncased --train_batch_size 16\n",
      "\n",
      "\u001b[0m\n",
      "\u001b[34m2021-05-31 14:18:00,419 - __main__ - INFO -  loaded train_dataset length is: (100, 2)\u001b[0m\n",
      "\u001b[34m2021-05-31 14:18:00,419 - __main__ - INFO -  loaded test_dataset length is: (100, 2)\u001b[0m\n",
      "\u001b[34m2021-05-31 14:18:00,449 - filelock - INFO - Lock 139874851909704 acquired on /root/.cache/huggingface/transformers/23454919702d26495337f3da04d1655c7ee010d5ec9d77bdb9e399e00302c0a1.d423bdf2f58dc8b77d5f5d18028d7ae4a72dcfd8f468e81fe979ada957a8c361.lock\u001b[0m\n",
      "\u001b[34m2021-05-31 14:18:00,473 - filelock - INFO - Lock 139874851909704 released on /root/.cache/huggingface/transformers/23454919702d26495337f3da04d1655c7ee010d5ec9d77bdb9e399e00302c0a1.d423bdf2f58dc8b77d5f5d18028d7ae4a72dcfd8f468e81fe979ada957a8c361.lock\u001b[0m\n",
      "\u001b[34m2021-05-31 14:18:00,497 - filelock - INFO - Lock 139874851909704 acquired on /root/.cache/huggingface/transformers/0e1bbfda7f63a99bb52e3915dcf10c3c92122b827d92eb2d34ce94ee79ba486c.d789d64ebfe299b0e416afc4a169632f903f693095b4629a7ea271d5a0cf2c99.lock\u001b[0m\n",
      "\u001b[34m2021-05-31 14:18:00,529 - filelock - INFO - Lock 139874851909704 released on /root/.cache/huggingface/transformers/0e1bbfda7f63a99bb52e3915dcf10c3c92122b827d92eb2d34ce94ee79ba486c.d789d64ebfe299b0e416afc4a169632f903f693095b4629a7ea271d5a0cf2c99.lock\u001b[0m\n",
      "\u001b[34m2021-05-31 14:18:00,551 - filelock - INFO - Lock 139874851909704 acquired on /root/.cache/huggingface/transformers/75abb59d7a06f4f640158a9bfcde005264e59e8d566781ab1415b139d2e4c603.7f2721073f19841be16f41b0a70b600ca6b880c8f3df6f3535cbc704371bdfa4.lock\u001b[0m\n",
      "\u001b[34m2021-05-31 14:18:00,587 - filelock - INFO - Lock 139874851909704 released on /root/.cache/huggingface/transformers/75abb59d7a06f4f640158a9bfcde005264e59e8d566781ab1415b139d2e4c603.7f2721073f19841be16f41b0a70b600ca6b880c8f3df6f3535cbc704371bdfa4.lock\u001b[0m\n"
     ]
    },
    {
     "name": "stdout",
     "output_type": "stream",
     "text": [
      "\n",
      "2021-05-31 14:18:13 Uploading - Uploading generated training model\n",
      "2021-05-31 14:18:13 Failed - Training job failed\n",
      "\u001b[34m2021-05-31 14:18:00,658 - filelock - INFO - Lock 139874266892104 acquired on /root/.cache/huggingface/transformers/8c8624b8ac8aa99c60c912161f8332de003484428c47906d7ff7eb7f73eecdbb.20430bd8e10ef77a7d2977accefe796051e01bc2fc4aa146bc862997a1a15e79.lock\u001b[0m\n",
      "\u001b[34m2021-05-31 14:18:00,698 - filelock - INFO - Lock 139874266892104 released on /root/.cache/huggingface/transformers/8c8624b8ac8aa99c60c912161f8332de003484428c47906d7ff7eb7f73eecdbb.20430bd8e10ef77a7d2977accefe796051e01bc2fc4aa146bc862997a1a15e79.lock\u001b[0m\n",
      "\u001b[34m2021-05-31 14:18:00,777 - filelock - INFO - Lock 139874266802664 acquired on /root/.cache/huggingface/transformers/9c169103d7e5a73936dd2b627e42851bec0831212b677c637033ee4bce9ab5ee.126183e36667471617ae2f0835fab707baa54b731f991507ebbb55ea85adb12a.lock\u001b[0m\n",
      "\u001b[34m2021-05-31 14:18:06,264 - filelock - INFO - Lock 139874266802664 released on /root/.cache/huggingface/transformers/9c169103d7e5a73936dd2b627e42851bec0831212b677c637033ee4bce9ab5ee.126183e36667471617ae2f0835fab707baa54b731f991507ebbb55ea85adb12a.lock\u001b[0m\n",
      "\u001b[34mSome weights of the model checkpoint at distilbert-base-uncased were not used when initializing DistilBertForSequenceClassification: ['vocab_projector.bias', 'vocab_transform.bias', 'vocab_transform.weight', 'vocab_layer_norm.bias', 'vocab_layer_norm.weight', 'vocab_projector.weight']\u001b[0m\n",
      "\u001b[34m- This IS expected if you are initializing DistilBertForSequenceClassification from the checkpoint of a model trained on another task or with another architecture (e.g. initializing a BertForSequenceClassification model from a BertForPreTraining model).\u001b[0m\n",
      "\u001b[34m- This IS NOT expected if you are initializing DistilBertForSequenceClassification from the checkpoint of a model that you expect to be exactly identical (initializing a BertForSequenceClassification model from a BertForSequenceClassification model).\u001b[0m\n",
      "\u001b[34mSome weights of DistilBertForSequenceClassification were not initialized from the model checkpoint at distilbert-base-uncased and are newly initialized: ['pre_classifier.weight', 'pre_classifier.bias', 'classifier.bias', 'classifier.weight']\u001b[0m\n",
      "\u001b[34mYou should probably TRAIN this model on a down-stream task to be able to use it for predictions and inference.\u001b[0m\n",
      "\u001b[34m#015Downloading:   0%|          | 0.00/442 [00:00<?, ?B/s]#015Downloading: 100%|██████████| 442/442 [00:00<00:00, 598kB/s]\u001b[0m\n",
      "\u001b[34m#015Downloading:   0%|          | 0.00/232k [00:00<?, ?B/s]#015Downloading: 100%|██████████| 232k/232k [00:00<00:00, 43.1MB/s]\u001b[0m\n",
      "\u001b[34m#015Downloading:   0%|          | 0.00/466k [00:00<?, ?B/s]#015Downloading: 100%|██████████| 466k/466k [00:00<00:00, 44.3MB/s]\u001b[0m\n",
      "\u001b[34m#015Downloading:   0%|          | 0.00/28.0 [00:00<?, ?B/s]#015Downloading: 100%|██████████| 28.0/28.0 [00:00<00:00, 43.8kB/s]\u001b[0m\n",
      "\u001b[34m#015Downloading:   0%|          | 0.00/268M [00:00<?, ?B/s]#015Downloading:   2%|▏         | 4.36M/268M [00:00<00:06, 43.6MB/s]#015Downloading:   3%|▎         | 8.80M/268M [00:00<00:05, 43.8MB/s]#015Downloading:   5%|▌         | 13.5M/268M [00:00<00:05, 44.8MB/s]#015Downloading:   7%|▋         | 18.3M/268M [00:00<00:05, 45.7MB/s]#015Downloading:   9%|▊         | 23.4M/268M [00:00<00:05, 47.1MB/s]#015Downloading:  11%|█         | 28.5M/268M [00:00<00:04, 48.3MB/s]#015Downloading:  13%|█▎        | 33.7M/268M [00:00<00:04, 49.3MB/s]#015Downloading:  15%|█▍        | 39.0M/268M [00:00<00:04, 50.2MB/s]#015Downloading:  17%|█▋        | 44.2M/268M [00:00<00:04, 50.9MB/s]#015Downloading:  18%|█▊        | 49.1M/268M [00:01<00:04, 50.0MB/s]#015Downloading:  20%|██        | 54.0M/268M [00:01<00:04, 49.5MB/s]#015Downloading:  22%|██▏       | 58.9M/268M [00:01<00:04, 48.1MB/s]#015Downloading:  24%|██▍       | 63.9M/268M [00:01<00:04, 48.7MB/s]#015Downloading:  26%|██▌       | 68.8M/268M [00:01<00:04, 47.8MB/s]#015Downloading:  27%|██▋       | 73.5M/268M [00:01<00:04, 47.7MB/s]#015Downloading:  29%|██▉       | 78.4M/268M [00:01<00:03, 47.8MB/s]#015Downloading:  31%|███       | 83.1M/268M [00:01<00:03, 47.4MB/s]#015Downloading:  33%|███▎      | 88.0M/268M [00:01<00:03, 47.7MB/s]#015Downloading:  35%|███▍      | 93.1M/268M [00:01<00:03, 48.6MB/s]#015Downloading:  37%|███▋      | 97.9M/268M [00:02<00:03, 48.4MB/s]#015Downloading:  38%|███▊      | 103M/268M [00:02<00:03, 48.9MB/s] #015Downloading:  40%|████      | 108M/268M [00:02<00:03, 49.8MB/s]#015Downloading:  42%|████▏     | 113M/268M [00:02<00:03, 49.9MB/s]#015Downloading:  44%|████▍     | 118M/268M [00:02<00:03, 49.4MB/s]#015Downloading:  46%|████▌     | 123M/268M [00:02<00:02, 50.1MB/s]#015Downloading:  48%|████▊     | 128M/268M [00:02<00:02, 47.9MB/s]#015Downloading:  50%|████▉     | 133M/268M [00:02<00:02, 47.4MB/s]#015Downloading:  51%|█████▏    | 138M/268M [00:02<00:02, 47.3MB/s]#015Downloading:  53%|█████▎    | 143M/268M [00:02<00:02, 46.9MB/s]#015Downloading:  55%|█████▌    | 147M/268M [00:03<00:02, 47.0MB/s]#015Downloading:  57%|█████▋    | 152M/268M [00:03<00:02, 47.0MB/s]#015Downloading:  59%|█████▊    | 157M/268M [00:03<00:02, 45.7MB/s]#015Downloading:  60%|██████    | 162M/268M [00:03<00:02, 46.5MB/s]#015Downloading:  62%|██████▏   | 167M/268M [00:03<00:02, 48.7MB/s]#015Downloading:  64%|██████▍   | 172M/268M [00:03<00:01, 50.1MB/s]#015Downloading:  66%|██████▋   | 178M/268M [00:03<00:01, 51.4MB/s]#015Downloading:  68%|██████▊   | 183M/268M [00:03<00:01, 52.1MB/s]#015Downloading:  70%|███████   | 189M/268M [00:03<00:01, 52.4MB/s]#015Downloading:  72%|███████▏  | 194M/268M [00:03<00:01, 51.7MB/s]#015Downloading:  74%|███████▍  | 199M/268M [00:04<00:01, 50.5MB/s]#015Downloading:  76%|███████▋  | 204M/268M [00:04<00:01, 51.2MB/s]#015Downloading:  78%|███████▊  | 210M/268M [00:04<00:01, 52.4MB/s]#015Downloading:  80%|████████  | 216M/268M [00:04<00:00, 53.7MB/s]#015Downloading:  83%|████████▎ | 221M/268M [00:04<00:00, 53.5MB/s]#015Downloading:  85%|████████▍ | 227M/268M [00:04<00:00, 54.6MB/s]#015Downloading:  87%|████████▋ | 232M/268M [00:04<00:00, 55.0MB/s]#015Downloading:  89%|████████▉ | 238M/268M [00:04<00:00, 55.6MB/s]#015Downloading:  91%|█████████ | 244M/268M [00:04<00:00, 56.2MB/s]#015Downloading:  93%|█████████▎| 250M/268M [00:04<00:00, 57.0MB/s]#015Downloading:  95%|█████████▌| 256M/268M [00:05<00:00, 58.0MB/s]#015Downloading:  98%|█████████▊| 262M/268M [00:05<00:00, 59.0MB/s]#015Downloading: 100%|█████████▉| 268M/268M [00:05<00:00, 59.2MB/s]#015Downloading: 100%|██████████| 268M/268M [00:05<00:00, 50.8MB/s]\u001b[0m\n",
      "\u001b[34mSome weights of the model checkpoint at distilbert-base-uncased were not used when initializing DistilBertForSequenceClassification: ['vocab_projector.bias', 'vocab_transform.bias', 'vocab_transform.weight', 'vocab_layer_norm.bias', 'vocab_layer_norm.weight', 'vocab_projector.weight']\u001b[0m\n",
      "\u001b[34m- This IS expected if you are initializing DistilBertForSequenceClassification from the checkpoint of a model trained on another task or with another architecture (e.g. initializing a BertForSequenceClassification model from a BertForPreTraining model).\u001b[0m\n",
      "\u001b[34m- This IS NOT expected if you are initializing DistilBertForSequenceClassification from the checkpoint of a model that you expect to be exactly identical (initializing a BertForSequenceClassification model from a BertForSequenceClassification model).\u001b[0m\n",
      "\u001b[34mSome weights of DistilBertForSequenceClassification were not initialized from the model checkpoint at distilbert-base-uncased and are newly initialized: ['pre_classifier.weight', 'pre_classifier.bias', 'classifier.bias', 'classifier.weight']\u001b[0m\n",
      "\u001b[34mYou should probably TRAIN this model on a down-stream task to be able to use it for predictions and inference.\u001b[0m\n",
      "\u001b[34mTraceback (most recent call last):\n",
      "  File \"train.py\", line 77, in <module>\n",
      "    train_encodings = tokenizer(list(train_df.excerpt), truncation=True, padding=True)\n",
      "  File \"/opt/conda/lib/python3.6/site-packages/pandas/core/generic.py\", line 5141, in __getattr__\n",
      "    return object.__getattribute__(self, name)\u001b[0m\n",
      "\u001b[34mAttributeError: 'DataFrame' object has no attribute 'excerpt'\n",
      "\u001b[0m\n",
      "\u001b[34m2021-05-31 14:18:07,619 sagemaker-training-toolkit ERROR    ExecuteUserScriptError:\u001b[0m\n",
      "\u001b[34mCommand \"/opt/conda/bin/python3.6 train.py --epochs 2 --model_name distilbert-base-uncased --train_batch_size 16\"\u001b[0m\n",
      "\u001b[34m#015Downloading:   0%|          | 0.00/442 [00:00<?, ?B/s]#015Downloading: 100%|ââââââââââ| 442/442 [00:00<00:00, 598kB/s]\u001b[0m\n",
      "\u001b[34m#015Downloading:   0%|          | 0.00/232k [00:00<?, ?B/s]#015Downloading: 100%|ââââââââââ| 232k/232k [00:00<00:00, 43.1MB/s]\u001b[0m\n",
      "\u001b[34m#015Downloading:   0%|          | 0.00/466k [00:00<?, ?B/s]#015Downloading: 100%|ââââââââââ| 466k/466k [00:00<00:00, 44.3MB/s]\u001b[0m\n",
      "\u001b[34m#015Downloading:   0%|          | 0.00/28.0 [00:00<?, ?B/s]#015Downloading: 100%|ââââââââââ| 28.0/28.0 [00:00<00:00, 43.8kB/s]\u001b[0m\n",
      "\u001b[34m#015Downloading:   0%|          | 0.00/268M [00:00<?, ?B/s]#015Downloading:   2%|â         | 4.36M/268M [00:00<00:06, 43.6MB/s]#015Downloading:   3%|â         | 8.80M/268M [00:00<00:05, 43.8MB/s]#015Downloading:   5%|â         | 13.5M/268M [00:00<00:05, 44.8MB/s]#015Downloading:   7%|â         | 18.3M/268M [00:00<00:05, 45.7MB/s]#015Downloading:   9%|â         | 23.4M/268M [00:00<00:05, 47.1MB/s]#015Downloading:  11%|â         | 28.5M/268M [00:00<00:04, 48.3MB/s]#015Downloading:  13%|ââ        | 33.7M/268M [00:00<00:04, 49.3MB/s]#015Downloading:  15%|ââ        | 39.0M/268M [00:00<00:04, 50.2MB/s]#015Downloading:  17%|ââ        | 44.2M/268M [00:00<00:04, 50.9MB/s]#015Downloading:  18%|ââ        | 49.1M/268M [00:01<00:04, 50.0MB/s]#015Downloading:  20%|ââ        | 54.0M/268M [00:01<00:04, 49.5MB/s]#015Downloading:  22%|âââ       | 58.9M/268M [00:01<00:04, 48.1MB/s]#015Downloading:  24%|âââ       | 63.9M/268M [00:01<00:04, 48.7MB/s]#015Downloading:  26%|âââ       | 68.8M/268M [00:01<00:04, 47.8MB/s]#015Downloading:  27%|âââ       | 73.5M/268M [00:01<00:04, 47.7MB/s]#015Downloading:  29%|âââ       | 78.4M/268M [00:01<00:03, 47.8MB/s]#015Downloading:  31%|âââ       | 83.1M/268M [00:01<00:03, 47.4MB/s]#015Downloading:  33%|ââââ      | 88.0M/268M [00:01<00:03, 47.7MB/s]#015Downloading:  35%|ââââ      | 93.1M/268M [00:01<00:03, 48.6MB/s]#015Downloading:  37%|ââââ      | 97.9M/268M [00:02<00:03, 48.4MB/s]#015Downloading:  38%|ââââ      | 103M/268M [00:02<00:03, 48.9MB/s] #015Downloading:  40%|ââââ      | 108M/268M [00:02<00:03, 49.8MB/s]#015Downloading:  42%|âââââ     | 113M/268M [00:02<00:03, 49.9MB/s]#015Downloading:  44%|âââââ     | 118M/268M [00:02<00:03, 49.4MB/s]#015Downloading:  46%|âââââ     | 123M/268M [00:02<00:02, 50.1MB/s]#015Downloading:  48%|âââââ     | 128M/268M [00:02<00:02, 47.9MB/s]#015Downloading:  50%|âââââ     | 133M/268M [00:02<00:02, 47.4MB/s]#015Downloading:  51%|ââââââ    | 138M/268M [00:02<00:02, 47.3MB/s]#015Downloading:  53%|ââââââ    | 143M/268M [00:02<00:02, 46.9MB/s]#015Downloading:  55%|ââââââ    | 147M/268M [00:03<00:02, 47.0MB/s]#015Downloading:  57%|ââââââ    | 152M/268M [00:03<00:02, 47.0MB/s]#015Downloading:  59%|ââââââ    | 157M/268M [00:03<00:02, 45.7MB/s]#015Downloading:  60%|ââââââ    | 162M/268M [00:03<00:02, 46.5MB/s]#015Downloading:  62%|âââââââ   | 167M/268M [00:03<00:02, 48.7MB/s]#015Downloading:  64%|âââââââ   | 172M/268M [00:03<00:01, 50.1MB/s]#015Downloading:  66%|âââââââ   | 178M/268M [00:03<00:01, 51.4MB/s]#015Downloading:  68%|âââââââ   | 183M/268M [00:03<00:01, 52.1MB/s]#015Downloading:  70%|âââââââ   | 189M/268M [00:03<00:01, 52.4MB/s]#015Downloading:  72%|ââââââââ  | 194M/268M [00:03<00:01, 51.7MB/s]#015Downloading:  74%|ââââââââ  | 199M/268M [00:04<00:01, 50.5MB/s]#015Downloading:  76%|ââââââââ  | 204M/268M [00:04<00:01, 51.2MB/s]#015Downloading:  78%|ââââââââ  | 210M/268M [00:04<00:01, 52.4MB/s]#015Downloading:  80%|ââââââââ  | 216M/268M [00:04<00:00, 53.7MB/s]#015Downloading:  83%|âââââââââ | 221M/268M [00:04<00:00, 53.5MB/s]#015Downloading:  85%|âââââââââ | 227M/268M [00:04<00:00, 54.6MB/s]#015Downloading:  87%|âââââââââ | 232M/268M [00:04<00:00, 55.0MB/s]#015Downloading:  89%|âââââââââ | 238M/268M [00:04<00:00, 55.6MB/s]#015Downloading:  91%|âââââââââ | 244M/268M [00:04<00:00, 56.2MB/s]#015Downloading:  93%|ââââââââââ| 250M/268M [00:04<00:00, 57.0MB/s]#015Downloading:  95%|ââââââââââ| 256M/268M [00:05<00:00, 58.0MB/s]#015Downloading:  98%|ââââââââââ| 262M/268M [00:05<00:00, 59.0MB/s]#015Downloading: 100%|ââââââââââ| 268M/268M [00:05<00:00, 59.2MB/s]#015Downloading: 100%|ââââââââââ| 268M/268M [00:05<00:00, 50.8MB/s]\u001b[0m\n",
      "\u001b[34mSome weights of the model checkpoint at distilbert-base-uncased were not used when initializing DistilBertForSequenceClassification: ['vocab_projector.bias', 'vocab_transform.bias', 'vocab_transform.weight', 'vocab_layer_norm.bias', 'vocab_layer_norm.weight', 'vocab_projector.weight']\u001b[0m\n",
      "\u001b[34m- This IS expected if you are initializing DistilBertForSequenceClassification from the checkpoint of a model trained on another task or with another architecture (e.g. initializing a BertForSequenceClassification model from a BertForPreTraining model).\u001b[0m\n",
      "\u001b[34m- This IS NOT expected if you are initializing DistilBertForSequenceClassification from the checkpoint of a model that you expect to be exactly identical (initializing a BertForSequenceClassification model from a BertForSequenceClassification model).\u001b[0m\n",
      "\u001b[34mSome weights of DistilBertForSequenceClassification were not initialized from the model checkpoint at distilbert-base-uncased and are newly initialized: ['pre_classifier.weight', 'pre_classifier.bias', 'classifier.bias', 'classifier.weight']\u001b[0m\n",
      "\u001b[34mYou should probably TRAIN this model on a down-stream task to be able to use it for predictions and inference.\u001b[0m\n",
      "\u001b[34mTraceback (most recent call last):\n",
      "  File \"train.py\", line 77, in <module>\n",
      "    train_encodings = tokenizer(list(train_df.excerpt), truncation=True, padding=True)\n",
      "  File \"/opt/conda/lib/python3.6/site-packages/pandas/core/generic.py\", line 5141, in __getattr__\n",
      "    return object.__getattribute__(self, name)\u001b[0m\n",
      "\u001b[34mAttributeError: 'DataFrame' object has no attribute 'excerpt'\u001b[0m\n"
     ]
    },
    {
     "ename": "UnexpectedStatusException",
     "evalue": "Error for Training job pytorch-training-2021-05-31-16-07-33-804: Failed. Reason: AlgorithmError: ExecuteUserScriptError:\nCommand \"/opt/conda/bin/python3.6 train.py --epochs 2 --model_name distilbert-base-uncased --train_batch_size 16\"\n\rDownloading:   0%|          | 0.00/442 [00:00<?, ?B/s]\rDownloading: 100%|ââââââââââ| 442/442 [00:00<00:00, 598kB/s]\n\rDownloading:   0%|          | 0.00/232k [00:00<?, ?B/s]\rDownloading: 100%|ââââââââââ| 232k/232k [00:00<00:00, 43.1MB/s]\n\rDownloading:   0%|          | 0.00/466k [00:00<?, ?B/s]\rDownloading: 100%|ââââââââââ| 466k/466k [00:00<00:00, 44.3MB/s]\n\rDownloading:   0%|          | 0.00/28.0 [00:00<?, ?B/s]\rDownloading: 100%|ââââââââââ| 28.0/28.0 [00:00<00:00, 43.8kB/s]\n\rDownloading:   0%|          | 0.00/268M [00:00<?, ?B/s]\rDownloading:   2%|â         | 4.36M/268M [00:00<00:06, 43.6MB/s]\rDownloading:   3%|â         | 8.80M/268M [00:00<00:05, 43.8MB/s]\rDownloading:   5%|â         | 13.5M/268M [00:00<00:05, 44.8MB/s]\rDownloading:   7%|â         | 18.3M/268M [00:00<00",
     "output_type": "error",
     "traceback": [
      "\u001b[0;31m---------------------------------------------------------------------------\u001b[0m",
      "\u001b[0;31mUnexpectedStatusException\u001b[0m                 Traceback (most recent call last)",
      "\u001b[0;32m<ipython-input-18-92202d0fe8c3>\u001b[0m in \u001b[0;36m<module>\u001b[0;34m\u001b[0m\n\u001b[0;32m----> 1\u001b[0;31m \u001b[0mestimator\u001b[0m\u001b[0;34m.\u001b[0m\u001b[0mfit\u001b[0m\u001b[0;34m(\u001b[0m\u001b[0mfit_arguments\u001b[0m\u001b[0;34m,\u001b[0m \u001b[0mjob_name\u001b[0m\u001b[0;34m=\u001b[0m\u001b[0mjob_name\u001b[0m\u001b[0;34m,\u001b[0m \u001b[0mwait\u001b[0m\u001b[0;34m=\u001b[0m\u001b[0;32mTrue\u001b[0m\u001b[0;34m)\u001b[0m\u001b[0;34m\u001b[0m\u001b[0;34m\u001b[0m\u001b[0m\n\u001b[0m",
      "\u001b[0;32m~/miniconda3/envs/deep-exp/lib/python3.9/site-packages/sagemaker/estimator.py\u001b[0m in \u001b[0;36mfit\u001b[0;34m(self, inputs, wait, logs, job_name, experiment_config)\u001b[0m\n\u001b[1;32m    680\u001b[0m         \u001b[0mself\u001b[0m\u001b[0;34m.\u001b[0m\u001b[0mjobs\u001b[0m\u001b[0;34m.\u001b[0m\u001b[0mappend\u001b[0m\u001b[0;34m(\u001b[0m\u001b[0mself\u001b[0m\u001b[0;34m.\u001b[0m\u001b[0mlatest_training_job\u001b[0m\u001b[0;34m)\u001b[0m\u001b[0;34m\u001b[0m\u001b[0;34m\u001b[0m\u001b[0m\n\u001b[1;32m    681\u001b[0m         \u001b[0;32mif\u001b[0m \u001b[0mwait\u001b[0m\u001b[0;34m:\u001b[0m\u001b[0;34m\u001b[0m\u001b[0;34m\u001b[0m\u001b[0m\n\u001b[0;32m--> 682\u001b[0;31m             \u001b[0mself\u001b[0m\u001b[0;34m.\u001b[0m\u001b[0mlatest_training_job\u001b[0m\u001b[0;34m.\u001b[0m\u001b[0mwait\u001b[0m\u001b[0;34m(\u001b[0m\u001b[0mlogs\u001b[0m\u001b[0;34m=\u001b[0m\u001b[0mlogs\u001b[0m\u001b[0;34m)\u001b[0m\u001b[0;34m\u001b[0m\u001b[0;34m\u001b[0m\u001b[0m\n\u001b[0m\u001b[1;32m    683\u001b[0m \u001b[0;34m\u001b[0m\u001b[0m\n\u001b[1;32m    684\u001b[0m     \u001b[0;32mdef\u001b[0m \u001b[0m_compilation_job_name\u001b[0m\u001b[0;34m(\u001b[0m\u001b[0mself\u001b[0m\u001b[0;34m)\u001b[0m\u001b[0;34m:\u001b[0m\u001b[0;34m\u001b[0m\u001b[0;34m\u001b[0m\u001b[0m\n",
      "\u001b[0;32m~/miniconda3/envs/deep-exp/lib/python3.9/site-packages/sagemaker/estimator.py\u001b[0m in \u001b[0;36mwait\u001b[0;34m(self, logs)\u001b[0m\n\u001b[1;32m   1623\u001b[0m         \u001b[0;31m# If logs are requested, call logs_for_jobs.\u001b[0m\u001b[0;34m\u001b[0m\u001b[0;34m\u001b[0m\u001b[0;34m\u001b[0m\u001b[0m\n\u001b[1;32m   1624\u001b[0m         \u001b[0;32mif\u001b[0m \u001b[0mlogs\u001b[0m \u001b[0;34m!=\u001b[0m \u001b[0;34m\"None\"\u001b[0m\u001b[0;34m:\u001b[0m\u001b[0;34m\u001b[0m\u001b[0;34m\u001b[0m\u001b[0m\n\u001b[0;32m-> 1625\u001b[0;31m             \u001b[0mself\u001b[0m\u001b[0;34m.\u001b[0m\u001b[0msagemaker_session\u001b[0m\u001b[0;34m.\u001b[0m\u001b[0mlogs_for_job\u001b[0m\u001b[0;34m(\u001b[0m\u001b[0mself\u001b[0m\u001b[0;34m.\u001b[0m\u001b[0mjob_name\u001b[0m\u001b[0;34m,\u001b[0m \u001b[0mwait\u001b[0m\u001b[0;34m=\u001b[0m\u001b[0;32mTrue\u001b[0m\u001b[0;34m,\u001b[0m \u001b[0mlog_type\u001b[0m\u001b[0;34m=\u001b[0m\u001b[0mlogs\u001b[0m\u001b[0;34m)\u001b[0m\u001b[0;34m\u001b[0m\u001b[0;34m\u001b[0m\u001b[0m\n\u001b[0m\u001b[1;32m   1626\u001b[0m         \u001b[0;32melse\u001b[0m\u001b[0;34m:\u001b[0m\u001b[0;34m\u001b[0m\u001b[0;34m\u001b[0m\u001b[0m\n\u001b[1;32m   1627\u001b[0m             \u001b[0mself\u001b[0m\u001b[0;34m.\u001b[0m\u001b[0msagemaker_session\u001b[0m\u001b[0;34m.\u001b[0m\u001b[0mwait_for_job\u001b[0m\u001b[0;34m(\u001b[0m\u001b[0mself\u001b[0m\u001b[0;34m.\u001b[0m\u001b[0mjob_name\u001b[0m\u001b[0;34m)\u001b[0m\u001b[0;34m\u001b[0m\u001b[0;34m\u001b[0m\u001b[0m\n",
      "\u001b[0;32m~/miniconda3/envs/deep-exp/lib/python3.9/site-packages/sagemaker/session.py\u001b[0m in \u001b[0;36mlogs_for_job\u001b[0;34m(self, job_name, wait, poll, log_type)\u001b[0m\n\u001b[1;32m   3679\u001b[0m \u001b[0;34m\u001b[0m\u001b[0m\n\u001b[1;32m   3680\u001b[0m         \u001b[0;32mif\u001b[0m \u001b[0mwait\u001b[0m\u001b[0;34m:\u001b[0m\u001b[0;34m\u001b[0m\u001b[0;34m\u001b[0m\u001b[0m\n\u001b[0;32m-> 3681\u001b[0;31m             \u001b[0mself\u001b[0m\u001b[0;34m.\u001b[0m\u001b[0m_check_job_status\u001b[0m\u001b[0;34m(\u001b[0m\u001b[0mjob_name\u001b[0m\u001b[0;34m,\u001b[0m \u001b[0mdescription\u001b[0m\u001b[0;34m,\u001b[0m \u001b[0;34m\"TrainingJobStatus\"\u001b[0m\u001b[0;34m)\u001b[0m\u001b[0;34m\u001b[0m\u001b[0;34m\u001b[0m\u001b[0m\n\u001b[0m\u001b[1;32m   3682\u001b[0m             \u001b[0;32mif\u001b[0m \u001b[0mdot\u001b[0m\u001b[0;34m:\u001b[0m\u001b[0;34m\u001b[0m\u001b[0;34m\u001b[0m\u001b[0m\n\u001b[1;32m   3683\u001b[0m                 \u001b[0mprint\u001b[0m\u001b[0;34m(\u001b[0m\u001b[0;34m)\u001b[0m\u001b[0;34m\u001b[0m\u001b[0;34m\u001b[0m\u001b[0m\n",
      "\u001b[0;32m~/miniconda3/envs/deep-exp/lib/python3.9/site-packages/sagemaker/session.py\u001b[0m in \u001b[0;36m_check_job_status\u001b[0;34m(self, job, desc, status_key_name)\u001b[0m\n\u001b[1;32m   3238\u001b[0m             \u001b[0mreason\u001b[0m \u001b[0;34m=\u001b[0m \u001b[0mdesc\u001b[0m\u001b[0;34m.\u001b[0m\u001b[0mget\u001b[0m\u001b[0;34m(\u001b[0m\u001b[0;34m\"FailureReason\"\u001b[0m\u001b[0;34m,\u001b[0m \u001b[0;34m\"(No reason provided)\"\u001b[0m\u001b[0;34m)\u001b[0m\u001b[0;34m\u001b[0m\u001b[0;34m\u001b[0m\u001b[0m\n\u001b[1;32m   3239\u001b[0m             \u001b[0mjob_type\u001b[0m \u001b[0;34m=\u001b[0m \u001b[0mstatus_key_name\u001b[0m\u001b[0;34m.\u001b[0m\u001b[0mreplace\u001b[0m\u001b[0;34m(\u001b[0m\u001b[0;34m\"JobStatus\"\u001b[0m\u001b[0;34m,\u001b[0m \u001b[0;34m\" job\"\u001b[0m\u001b[0;34m)\u001b[0m\u001b[0;34m\u001b[0m\u001b[0;34m\u001b[0m\u001b[0m\n\u001b[0;32m-> 3240\u001b[0;31m             raise exceptions.UnexpectedStatusException(\n\u001b[0m\u001b[1;32m   3241\u001b[0m                 message=\"Error for {job_type} {job_name}: {status}. Reason: {reason}\".format(\n\u001b[1;32m   3242\u001b[0m                     \u001b[0mjob_type\u001b[0m\u001b[0;34m=\u001b[0m\u001b[0mjob_type\u001b[0m\u001b[0;34m,\u001b[0m \u001b[0mjob_name\u001b[0m\u001b[0;34m=\u001b[0m\u001b[0mjob\u001b[0m\u001b[0;34m,\u001b[0m \u001b[0mstatus\u001b[0m\u001b[0;34m=\u001b[0m\u001b[0mstatus\u001b[0m\u001b[0;34m,\u001b[0m \u001b[0mreason\u001b[0m\u001b[0;34m=\u001b[0m\u001b[0mreason\u001b[0m\u001b[0;34m\u001b[0m\u001b[0;34m\u001b[0m\u001b[0m\n",
      "\u001b[0;31mUnexpectedStatusException\u001b[0m: Error for Training job pytorch-training-2021-05-31-16-07-33-804: Failed. Reason: AlgorithmError: ExecuteUserScriptError:\nCommand \"/opt/conda/bin/python3.6 train.py --epochs 2 --model_name distilbert-base-uncased --train_batch_size 16\"\n\rDownloading:   0%|          | 0.00/442 [00:00<?, ?B/s]\rDownloading: 100%|ââââââââââ| 442/442 [00:00<00:00, 598kB/s]\n\rDownloading:   0%|          | 0.00/232k [00:00<?, ?B/s]\rDownloading: 100%|ââââââââââ| 232k/232k [00:00<00:00, 43.1MB/s]\n\rDownloading:   0%|          | 0.00/466k [00:00<?, ?B/s]\rDownloading: 100%|ââââââââââ| 466k/466k [00:00<00:00, 44.3MB/s]\n\rDownloading:   0%|          | 0.00/28.0 [00:00<?, ?B/s]\rDownloading: 100%|ââââââââââ| 28.0/28.0 [00:00<00:00, 43.8kB/s]\n\rDownloading:   0%|          | 0.00/268M [00:00<?, ?B/s]\rDownloading:   2%|â         | 4.36M/268M [00:00<00:06, 43.6MB/s]\rDownloading:   3%|â         | 8.80M/268M [00:00<00:05, 43.8MB/s]\rDownloading:   5%|â         | 13.5M/268M [00:00<00:05, 44.8MB/s]\rDownloading:   7%|â         | 18.3M/268M [00:00<00"
     ]
    }
   ],
   "source": [
    "estimator.fit(fit_arguments, job_name=job_name, wait=True)"
   ]
  },
  {
   "cell_type": "code",
   "execution_count": null,
   "id": "6267d0f9",
   "metadata": {
    "ExecuteTime": {
     "end_time": "2021-05-31T08:09:12.345965Z",
     "start_time": "2021-05-31T08:09:11.038303Z"
    }
   },
   "outputs": [],
   "source": [
    "from sagemaker import TrainingJobAnalytics\n",
    "\n",
    "# Captured metrics can be accessed as a Pandas dataframe\n",
    "df = TrainingJobAnalytics(training_job_name=estimator.latest_training_job.name).dataframe()\n",
    "df.head(10)"
   ]
  },
  {
   "cell_type": "code",
   "execution_count": null,
   "id": "fa12a7e5",
   "metadata": {
    "ExecuteTime": {
     "end_time": "2021-05-31T08:09:12.346950Z",
     "start_time": "2021-05-31T08:08:47.520Z"
    }
   },
   "outputs": [],
   "source": [
    "df"
   ]
  },
  {
   "cell_type": "code",
   "execution_count": null,
   "id": "da27ac85",
   "metadata": {},
   "outputs": [],
   "source": []
  },
  {
   "cell_type": "code",
   "execution_count": null,
   "id": "2ecb5587",
   "metadata": {},
   "outputs": [],
   "source": []
  }
 ],
 "metadata": {
  "kernelspec": {
   "display_name": "Python 3",
   "language": "python",
   "name": "python3"
  },
  "language_info": {
   "codemirror_mode": {
    "name": "ipython",
    "version": 3
   },
   "file_extension": ".py",
   "mimetype": "text/x-python",
   "name": "python",
   "nbconvert_exporter": "python",
   "pygments_lexer": "ipython3",
   "version": "3.9.1"
  },
  "notify_time": "5",
  "toc": {
   "base_numbering": 1,
   "nav_menu": {},
   "number_sections": true,
   "sideBar": true,
   "skip_h1_title": false,
   "title_cell": "Table of Contents",
   "title_sidebar": "Contents",
   "toc_cell": false,
   "toc_position": {},
   "toc_section_display": true,
   "toc_window_display": false
  }
 },
 "nbformat": 4,
 "nbformat_minor": 5
}
