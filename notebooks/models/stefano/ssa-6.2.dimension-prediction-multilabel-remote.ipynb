{
 "cells": [
  {
   "cell_type": "markdown",
   "id": "24591703",
   "metadata": {},
   "source": [
    "Using kernel `conda_pytorch_latest_p36`"
   ]
  },
  {
   "cell_type": "code",
   "execution_count": 1,
   "id": "20eedaba",
   "metadata": {
    "ExecuteTime": {
     "end_time": "2021-05-31T16:25:07.418371Z",
     "start_time": "2021-05-31T16:25:07.416433Z"
    },
    "scrolled": true
   },
   "outputs": [],
   "source": [
    "# !pip install cloudpathlib\n",
    "# !pip install s3fs\n",
    "# !pip install transformers\n",
    "# !pip install pytorch-lightning"
   ]
  },
  {
   "cell_type": "markdown",
   "id": "fa23b6fa",
   "metadata": {},
   "source": [
    "# Import"
   ]
  },
  {
   "cell_type": "code",
   "execution_count": 2,
   "id": "999f3add",
   "metadata": {
    "ExecuteTime": {
     "end_time": "2021-05-31T16:25:07.423270Z",
     "start_time": "2021-05-31T16:25:07.420160Z"
    }
   },
   "outputs": [],
   "source": [
    "import sys\n",
    "sys.path.append('../../../')"
   ]
  },
  {
   "cell_type": "code",
   "execution_count": 3,
   "id": "ef3c9d77",
   "metadata": {
    "ExecuteTime": {
     "end_time": "2021-05-31T16:25:07.426986Z",
     "start_time": "2021-05-31T16:25:07.424829Z"
    }
   },
   "outputs": [],
   "source": [
    "from pathlib import Path\n",
    "import os\n",
    "import random\n",
    "import json\n",
    "from datetime import datetime"
   ]
  },
  {
   "cell_type": "code",
   "execution_count": 4,
   "id": "4e7ee89c",
   "metadata": {
    "ExecuteTime": {
     "end_time": "2021-05-31T16:25:09.077056Z",
     "start_time": "2021-05-31T16:25:07.428704Z"
    }
   },
   "outputs": [],
   "source": [
    "import pandas as pd\n",
    "import numpy as np\n",
    "from sklearn.metrics import classification_report\n",
    "import torch\n",
    "import sagemaker\n",
    "from sagemaker import get_execution_role\n",
    "import boto3\n",
    "import pytorch_lightning as pl\n",
    "import torch.nn as nn\n",
    "from transformers import (\n",
    "    AutoModelForSequenceClassification,\n",
    "    AutoModel,\n",
    "    AutoTokenizer,\n",
    "    AdamW,\n",
    "    get_linear_schedule_with_warmup,\n",
    ")\n",
    "from sklearn.preprocessing import MultiLabelBinarizer\n",
    "from torch.utils.data import DataLoader,Dataset\n",
    "from tqdm import tqdm"
   ]
  },
  {
   "cell_type": "code",
   "execution_count": 5,
   "id": "5c036b67",
   "metadata": {
    "ExecuteTime": {
     "end_time": "2021-05-31T16:25:09.170106Z",
     "start_time": "2021-05-31T16:25:09.077894Z"
    },
    "scrolled": true
   },
   "outputs": [],
   "source": [
    "from deep.constants import *\n",
    "from deep.utils import *"
   ]
  },
  {
   "cell_type": "code",
   "execution_count": 6,
   "id": "f86b862e",
   "metadata": {
    "ExecuteTime": {
     "end_time": "2021-05-31T16:25:09.196205Z",
     "start_time": "2021-05-31T16:25:09.173076Z"
    }
   },
   "outputs": [],
   "source": [
    "%load_ext autoreload\n",
    "%autoreload 2"
   ]
  },
  {
   "cell_type": "markdown",
   "id": "fe489b21",
   "metadata": {},
   "source": [
    "## Data"
   ]
  },
  {
   "cell_type": "code",
   "execution_count": 7,
   "id": "6d147ba1",
   "metadata": {
    "ExecuteTime": {
     "end_time": "2021-05-31T16:25:10.097560Z",
     "start_time": "2021-05-31T16:25:09.197202Z"
    }
   },
   "outputs": [
    {
     "name": "stderr",
     "output_type": "stream",
     "text": [
      "/Users/stefano/miniconda3/envs/deep-exp/lib/python3.9/site-packages/IPython/core/interactiveshell.py:3165: DtypeWarning: Columns (6) have mixed types.Specify dtype option on import or set low_memory=False.\n",
      "  has_raised = await self.run_ast_nodes(code_ast.body, cell_name,\n"
     ]
    }
   ],
   "source": [
    "train = pd.read_csv(FRAMEWORKS_PATH / 'data_v0.3_train.csv')\n",
    "val = pd.read_csv(FRAMEWORKS_PATH / 'data_v0.3_val.csv')\n",
    "test = pd.read_csv(FRAMEWORKS_PATH / 'data_v0.3_test.csv')"
   ]
  },
  {
   "cell_type": "code",
   "execution_count": 8,
   "id": "0a12eb48",
   "metadata": {
    "ExecuteTime": {
     "end_time": "2021-05-31T16:25:10.121931Z",
     "start_time": "2021-05-31T16:25:10.098508Z"
    }
   },
   "outputs": [],
   "source": [
    "def process(df):\n",
    "    df = df.copy()\n",
    "    df['dimension_ids'] = df['dimension_ids'].apply(eval)\n",
    "#     df['dimension_ids'] = df['dimension_ids'].apply(lambda x: torch.tensor(x, dtype=torch.float))\n",
    "    \n",
    "    mlb = MultiLabelBinarizer()\n",
    "    labels = mlb.fit_transform(list(df['dimension_ids']))\n",
    "    df['labels'] = list(labels)\n",
    "    \n",
    "    df = df[['excerpt', 'labels']]\n",
    "    df = df.rename(columns={'excerpt': 'texts'})\n",
    "        \n",
    "    return df"
   ]
  },
  {
   "cell_type": "code",
   "execution_count": 9,
   "id": "9b2710bd",
   "metadata": {
    "ExecuteTime": {
     "end_time": "2021-05-31T16:25:10.705585Z",
     "start_time": "2021-05-31T16:25:10.122868Z"
    },
    "scrolled": true
   },
   "outputs": [],
   "source": [
    "train_df = process(train)\n",
    "val_df = process(val)\n",
    "test_df = process(test)"
   ]
  },
  {
   "cell_type": "code",
   "execution_count": 10,
   "id": "712c92db",
   "metadata": {
    "ExecuteTime": {
     "end_time": "2021-05-31T16:25:13.335287Z",
     "start_time": "2021-05-31T16:25:10.706570Z"
    },
    "scrolled": true
   },
   "outputs": [],
   "source": [
    "model_name = 'distilbert-base-uncased'\n",
    "tokenizer = AutoTokenizer.from_pretrained(model_name)"
   ]
  },
  {
   "cell_type": "markdown",
   "id": "e805e622",
   "metadata": {},
   "source": [
    "## Sagemaker Prep"
   ]
  },
  {
   "cell_type": "markdown",
   "id": "fe4baaca",
   "metadata": {
    "ExecuteTime": {
     "end_time": "2021-05-27T15:42:32.024647Z",
     "start_time": "2021-05-27T15:42:31.984694Z"
    }
   },
   "source": [
    "### Session"
   ]
  },
  {
   "cell_type": "code",
   "execution_count": 11,
   "id": "3a2753a1",
   "metadata": {
    "ExecuteTime": {
     "end_time": "2021-05-31T16:25:13.479281Z",
     "start_time": "2021-05-31T16:25:13.336694Z"
    }
   },
   "outputs": [],
   "source": [
    "sess = sagemaker.Session(default_bucket=DEV_BUCKET.name)\n",
    "role = 'AmazonSageMaker-ExecutionRole-20210519T102514'"
   ]
  },
  {
   "cell_type": "markdown",
   "id": "e2e4b932",
   "metadata": {},
   "source": [
    "### Bucket upload"
   ]
  },
  {
   "cell_type": "code",
   "execution_count": 12,
   "id": "8b09a9c1",
   "metadata": {
    "ExecuteTime": {
     "end_time": "2021-05-31T16:25:35.378592Z",
     "start_time": "2021-05-31T16:25:13.480153Z"
    },
    "scrolled": true
   },
   "outputs": [],
   "source": [
    "sample = False\n",
    "\n",
    "if sample:\n",
    "    train_df = train_df.sample(100)\n",
    "    val_df = val_df.sample(100)\n",
    "    test_df = test_df.sample(100)\n",
    "\n",
    "    \n",
    "job_name = f\"pytorch-training-{formatted_time()}\"\n",
    "input_path = DEV_BUCKET / 'training' / 'input_data' / job_name\n",
    "\n",
    "s3_train_data = str(input_path / 'train_df.pickle')\n",
    "s3_validation_data = str(input_path / 'val_df.pickle')\n",
    "s3_test_data = str(input_path / 'test_df.pickle')\n",
    "\n",
    "\n",
    "train_df.to_pickle(s3_train_data, protocol=4)\n",
    "test_df.to_pickle(s3_validation_data, protocol=4)\n",
    "test_df.to_pickle(s3_test_data, protocol=4)"
   ]
  },
  {
   "cell_type": "markdown",
   "id": "b83f4dc3",
   "metadata": {},
   "source": [
    "### Estimator Definition"
   ]
  },
  {
   "cell_type": "code",
   "execution_count": 13,
   "id": "6a5152e8",
   "metadata": {
    "ExecuteTime": {
     "end_time": "2021-05-31T16:25:35.426809Z",
     "start_time": "2021-05-31T16:25:35.384975Z"
    }
   },
   "outputs": [],
   "source": [
    "instances = [\n",
    "    'ml.p2.xlarge',\n",
    "    'ml.p3.2xlarge'\n",
    "]"
   ]
  },
  {
   "cell_type": "code",
   "execution_count": 14,
   "id": "94388e0b",
   "metadata": {
    "ExecuteTime": {
     "end_time": "2021-05-31T16:25:35.454447Z",
     "start_time": "2021-05-31T16:25:35.428312Z"
    }
   },
   "outputs": [],
   "source": [
    "metric_definitions=[\n",
    "    {'Name': 'loss', 'Regex': \"'loss': ([0-9]+(.|e\\-)[0-9]+),?\"},\n",
    "    {'Name': 'learning_rate', 'Regex': \"'learning_rate': ([0-9]+(.|e\\-)[0-9]+),?\"},\n",
    "    {'Name': 'eval_loss', 'Regex': \"'eval_loss': ([0-9]+(.|e\\-)[0-9]+),?\"},\n",
    "    {'Name': 'eval_accuracy', 'Regex': \"'eval_accuracy': ([0-9]+(.|e\\-)[0-9]+),?\"},\n",
    "    {'Name': 'f1', 'Regex': \"'f1': ([0-9]+(.|e\\-)[0-9]+),?\"},\n",
    "    {'Name': 'eval_precision', 'Regex': \"'eval_precision': ([0-9]+(.|e\\-)[0-9]+),?\"},\n",
    "    {'Name': 'eval_recall', 'Regex': \"'eval_recall': ([0-9]+(.|e\\-)[0-9]+),?\"},\n",
    "    {'Name': 'stupid_metric', 'Regex': \"'stupid_metric': ([0-9]+(.|e\\-)[0-9]+),?\"},\n",
    "    {'Name': 'eval_runtime', 'Regex': \"'eval_runtime': ([0-9]+(.|e\\-)[0-9]+),?\"},\n",
    "    {'Name': 'eval_samples_per_second', 'Regex': \"'eval_samples_per_second': ([0-9]+(.|e\\-)[0-9]+),?\"},\n",
    "    {'Name': 'epoch', 'Regex': \"'epoch': ([0-9]+(.|e\\-)[0-9]+),?\"}]"
   ]
  },
  {
   "cell_type": "code",
   "execution_count": 15,
   "id": "4f8b5cd2",
   "metadata": {
    "ExecuteTime": {
     "end_time": "2021-05-31T16:25:35.482003Z",
     "start_time": "2021-05-31T16:25:35.456102Z"
    }
   },
   "outputs": [],
   "source": [
    "# # set True if you need spot instance\n",
    "# use_spot = True\n",
    "# train_max_run_secs =   2*24 * 60 * 60\n",
    "# spot_wait_sec =  5 * 60\n",
    "# max_wait_time_secs = train_max_run_secs +  spot_wait_sec\n",
    "\n",
    "# if not use_spot:\n",
    "#     max_wait_time_secs = None\n",
    "    \n",
    "# # During local mode, no spot.., use smaller dataset\n",
    "# if instance_type == 'local':\n",
    "#     use_spot = False\n",
    "#     max_wait_time_secs = 0\n",
    "#     wait = True\n",
    "#     # Use smaller dataset to run locally\n",
    "#     inputs = inputs_sample\n"
   ]
  },
  {
   "cell_type": "code",
   "execution_count": 16,
   "id": "c8458da4",
   "metadata": {
    "ExecuteTime": {
     "end_time": "2021-05-31T16:25:35.625805Z",
     "start_time": "2021-05-31T16:25:35.483170Z"
    }
   },
   "outputs": [],
   "source": [
    "from sagemaker.pytorch import PyTorch\n",
    "\n",
    "hyperparameters={'epochs': 1,\n",
    "                 'train_batch_size': 32,\n",
    "                 'model_name': 'distilbert-base-uncased'\n",
    "                 }\n",
    "\n",
    "estimator = PyTorch(\n",
    "    entry_point='train.py',\n",
    "    source_dir=str(SCRIPTS_TRAINING_PATH / 'stefano/multiclass-lightning'),\n",
    "    output_path=str(DEV_BUCKET / 'models/'),\n",
    "    code_location=str(input_path),\n",
    "    instance_type='ml.p3.2xlarge',\n",
    "    instance_count=1,\n",
    "    role=role,\n",
    "    framework_version='1.8',\n",
    "    py_version='py36',\n",
    "    hyperparameters = hyperparameters,\n",
    "    metric_definitions=metric_definitions,\n",
    "    job_name=job_name,\n",
    "#     train_instance_count=2,\n",
    "#     train_instance_type=\"ml.c4.xlarge\",\n",
    ")"
   ]
  },
  {
   "cell_type": "code",
   "execution_count": 17,
   "id": "c2d57e6d",
   "metadata": {
    "ExecuteTime": {
     "end_time": "2021-05-31T16:25:35.650495Z",
     "start_time": "2021-05-31T16:25:35.626849Z"
    }
   },
   "outputs": [],
   "source": [
    "fit_arguments = {\n",
    "    'train': str(input_path),\n",
    "    'test': str(input_path)\n",
    "}"
   ]
  },
  {
   "cell_type": "code",
   "execution_count": null,
   "id": "e6e230e3",
   "metadata": {
    "ExecuteTime": {
     "start_time": "2021-05-31T16:25:07.441Z"
    },
    "scrolled": true
   },
   "outputs": [
    {
     "name": "stdout",
     "output_type": "stream",
     "text": [
      "2021-05-31 16:25:38 Starting - Starting the training job...\n",
      "2021-05-31 16:25:49 Starting - Launching requested ML instancesProfilerReport-1622478335: InProgress\n",
      "......\n",
      "2021-05-31 16:27:16 Starting - Preparing the instances for training........."
     ]
    }
   ],
   "source": [
    "estimator.fit(fit_arguments, job_name=job_name, wait=True)"
   ]
  },
  {
   "cell_type": "code",
   "execution_count": null,
   "id": "6267d0f9",
   "metadata": {
    "ExecuteTime": {
     "start_time": "2021-05-31T16:25:07.459Z"
    }
   },
   "outputs": [],
   "source": [
    "from sagemaker import TrainingJobAnalytics\n",
    "\n",
    "# Captured metrics can be accessed as a Pandas dataframe\n",
    "df = TrainingJobAnalytics(training_job_name=estimator.latest_training_job.name).dataframe()\n",
    "df.head(10)"
   ]
  },
  {
   "cell_type": "code",
   "execution_count": null,
   "id": "fa12a7e5",
   "metadata": {
    "ExecuteTime": {
     "start_time": "2021-05-31T16:25:07.460Z"
    }
   },
   "outputs": [],
   "source": [
    "df"
   ]
  },
  {
   "cell_type": "code",
   "execution_count": null,
   "id": "da27ac85",
   "metadata": {},
   "outputs": [],
   "source": []
  },
  {
   "cell_type": "code",
   "execution_count": null,
   "id": "2ecb5587",
   "metadata": {},
   "outputs": [],
   "source": []
  }
 ],
 "metadata": {
  "kernelspec": {
   "display_name": "Python 3",
   "language": "python",
   "name": "python3"
  },
  "language_info": {
   "codemirror_mode": {
    "name": "ipython",
    "version": 3
   },
   "file_extension": ".py",
   "mimetype": "text/x-python",
   "name": "python",
   "nbconvert_exporter": "python",
   "pygments_lexer": "ipython3",
   "version": "3.9.1"
  },
  "notify_time": "5",
  "toc": {
   "base_numbering": 1,
   "nav_menu": {},
   "number_sections": true,
   "sideBar": true,
   "skip_h1_title": false,
   "title_cell": "Table of Contents",
   "title_sidebar": "Contents",
   "toc_cell": false,
   "toc_position": {},
   "toc_section_display": true,
   "toc_window_display": false
  }
 },
 "nbformat": 4,
 "nbformat_minor": 5
}
