{
 "cells": [
  {
   "cell_type": "markdown",
   "id": "24591703",
   "metadata": {},
   "source": [
    "Using kernel `conda_pytorch_latest_p36`"
   ]
  },
  {
   "cell_type": "code",
   "execution_count": 1,
   "id": "20eedaba",
   "metadata": {
    "ExecuteTime": {
     "end_time": "2021-06-02T07:54:47.728178Z",
     "start_time": "2021-06-02T07:54:47.723615Z"
    },
    "scrolled": true
   },
   "outputs": [],
   "source": [
    "# !pip install cloudpathlib\n",
    "# !pip install s3fs\n",
    "# !pip install transformers\\\n",
    "# !pip install pytorch-lightning"
   ]
  },
  {
   "cell_type": "markdown",
   "id": "fa23b6fa",
   "metadata": {},
   "source": [
    "# Import"
   ]
  },
  {
   "cell_type": "code",
   "execution_count": 2,
   "id": "999f3add",
   "metadata": {
    "ExecuteTime": {
     "end_time": "2021-06-02T07:54:47.732781Z",
     "start_time": "2021-06-02T07:54:47.729905Z"
    }
   },
   "outputs": [],
   "source": [
    "import sys\n",
    "sys.path.append('../../../')"
   ]
  },
  {
   "cell_type": "code",
   "execution_count": 3,
   "id": "ef3c9d77",
   "metadata": {
    "ExecuteTime": {
     "end_time": "2021-06-02T07:54:47.737240Z",
     "start_time": "2021-06-02T07:54:47.734989Z"
    }
   },
   "outputs": [],
   "source": [
    "from pathlib import Path\n",
    "import os\n",
    "import random\n",
    "import json\n",
    "from datetime import datetime"
   ]
  },
  {
   "cell_type": "code",
   "execution_count": 4,
   "id": "4e7ee89c",
   "metadata": {
    "ExecuteTime": {
     "end_time": "2021-06-02T07:54:49.564074Z",
     "start_time": "2021-06-02T07:54:47.739107Z"
    }
   },
   "outputs": [],
   "source": [
    "import pandas as pd\n",
    "import numpy as np\n",
    "from sklearn.metrics import classification_report\n",
    "import torch\n",
    "import sagemaker\n",
    "from sagemaker import get_execution_role\n",
    "import boto3\n",
    "import pytorch_lightning as pl\n",
    "import torch.nn as nn\n",
    "from transformers import (\n",
    "    AutoModelForSequenceClassification,\n",
    "    AutoModel,\n",
    "    AutoTokenizer,\n",
    "    AdamW,\n",
    "    get_linear_schedule_with_warmup,\n",
    ")\n",
    "from sklearn.preprocessing import MultiLabelBinarizer\n",
    "from torch.utils.data import DataLoader,Dataset\n",
    "from tqdm import tqdm"
   ]
  },
  {
   "cell_type": "code",
   "execution_count": 5,
   "id": "5c036b67",
   "metadata": {
    "ExecuteTime": {
     "end_time": "2021-06-02T07:54:49.655025Z",
     "start_time": "2021-06-02T07:54:49.565005Z"
    },
    "scrolled": true
   },
   "outputs": [],
   "source": [
    "from deep.constants import *\n",
    "from deep.utils import *"
   ]
  },
  {
   "cell_type": "code",
   "execution_count": 6,
   "id": "f86b862e",
   "metadata": {
    "ExecuteTime": {
     "end_time": "2021-06-02T07:54:49.680069Z",
     "start_time": "2021-06-02T07:54:49.655977Z"
    }
   },
   "outputs": [],
   "source": [
    "%load_ext autoreload\n",
    "%autoreload 2"
   ]
  },
  {
   "cell_type": "markdown",
   "id": "fe489b21",
   "metadata": {},
   "source": [
    "## Data"
   ]
  },
  {
   "cell_type": "code",
   "execution_count": 7,
   "id": "6d147ba1",
   "metadata": {
    "ExecuteTime": {
     "end_time": "2021-06-02T07:54:50.467029Z",
     "start_time": "2021-06-02T07:54:49.681895Z"
    }
   },
   "outputs": [],
   "source": [
    "train = pd.read_csv(LATEST_DATA_PATH / 'data_v0.4.2_train.csv')\n",
    "val = pd.read_csv(LATEST_DATA_PATH / 'data_v0.4.2_val.csv')\n",
    "test = pd.read_csv(LATEST_DATA_PATH / 'data_v0.4.2_test.csv')"
   ]
  },
  {
   "cell_type": "code",
   "execution_count": 8,
   "id": "0a12eb48",
   "metadata": {
    "ExecuteTime": {
     "end_time": "2021-06-02T07:54:50.491234Z",
     "start_time": "2021-06-02T07:54:50.468902Z"
    }
   },
   "outputs": [],
   "source": [
    "def process(df, column='subpillars'):\n",
    "    df = df.copy()\n",
    "    df[column] = df[column].apply(eval)\n",
    "#     df['dimension_ids'] = df['dimension_ids'].apply(lambda x: torch.tensor(x, dtype=torch.float))\n",
    "    \n",
    "    mlb = MultiLabelBinarizer()\n",
    "    labels = mlb.fit_transform(list(df[column]))\n",
    "    df['labels'] = list(labels)\n",
    "    \n",
    "    df = df[['excerpt', 'labels']]\n",
    "    df = df.rename(columns={'excerpt': 'texts'})\n",
    "        \n",
    "    return df"
   ]
  },
  {
   "cell_type": "code",
   "execution_count": 9,
   "id": "9b2710bd",
   "metadata": {
    "ExecuteTime": {
     "end_time": "2021-06-02T07:54:51.149732Z",
     "start_time": "2021-06-02T07:54:50.492224Z"
    },
    "scrolled": true
   },
   "outputs": [],
   "source": [
    "train_df = process(train, column='sectors')\n",
    "val_df = process(val, column='sectors')\n",
    "test_df = process(test, column='sectors')"
   ]
  },
  {
   "cell_type": "code",
   "execution_count": 10,
   "id": "712c92db",
   "metadata": {
    "ExecuteTime": {
     "end_time": "2021-06-02T07:54:54.305904Z",
     "start_time": "2021-06-02T07:54:51.150698Z"
    },
    "scrolled": true
   },
   "outputs": [],
   "source": [
    "model_name = 'distilbert-base-uncased'\n",
    "tokenizer = AutoTokenizer.from_pretrained(model_name)"
   ]
  },
  {
   "cell_type": "markdown",
   "id": "e805e622",
   "metadata": {},
   "source": [
    "## Sagemaker Prep"
   ]
  },
  {
   "cell_type": "markdown",
   "id": "fe4baaca",
   "metadata": {
    "ExecuteTime": {
     "end_time": "2021-05-27T15:42:32.024647Z",
     "start_time": "2021-05-27T15:42:31.984694Z"
    }
   },
   "source": [
    "### Session"
   ]
  },
  {
   "cell_type": "code",
   "execution_count": 11,
   "id": "3a2753a1",
   "metadata": {
    "ExecuteTime": {
     "end_time": "2021-06-02T07:54:54.490814Z",
     "start_time": "2021-06-02T07:54:54.307381Z"
    }
   },
   "outputs": [],
   "source": [
    "sess = sagemaker.Session(default_bucket=DEV_BUCKET.name)\n",
    "role = 'AmazonSageMaker-ExecutionRole-20210519T102514'"
   ]
  },
  {
   "cell_type": "markdown",
   "id": "e2e4b932",
   "metadata": {},
   "source": [
    "### Bucket upload"
   ]
  },
  {
   "cell_type": "code",
   "execution_count": 12,
   "id": "8b09a9c1",
   "metadata": {
    "ExecuteTime": {
     "end_time": "2021-06-02T07:55:17.122095Z",
     "start_time": "2021-06-02T07:54:54.492095Z"
    },
    "scrolled": true
   },
   "outputs": [],
   "source": [
    "sample = False\n",
    "\n",
    "if sample:\n",
    "    train_df = train_df.sample(100)\n",
    "    val_df = val_df.sample(100)\n",
    "    test_df = test_df.sample(100)\n",
    "\n",
    "    \n",
    "job_name = f\"pytorch-training-{formatted_time()}\"\n",
    "input_path = DEV_BUCKET / 'training' / 'input_data' / job_name\n",
    "\n",
    "s3_train_data = str(input_path / 'train_df.pickle')\n",
    "s3_validation_data = str(input_path / 'val_df.pickle')\n",
    "s3_test_data = str(input_path / 'test_df.pickle')\n",
    "\n",
    "\n",
    "train_df.to_pickle(s3_train_data, protocol=4)\n",
    "test_df.to_pickle(s3_validation_data, protocol=4)\n",
    "test_df.to_pickle(s3_test_data, protocol=4)"
   ]
  },
  {
   "cell_type": "markdown",
   "id": "b83f4dc3",
   "metadata": {},
   "source": [
    "### Estimator Definition"
   ]
  },
  {
   "cell_type": "code",
   "execution_count": 13,
   "id": "6a5152e8",
   "metadata": {
    "ExecuteTime": {
     "end_time": "2021-06-02T07:55:17.160264Z",
     "start_time": "2021-06-02T07:55:17.125233Z"
    }
   },
   "outputs": [],
   "source": [
    "instances = [\n",
    "    'ml.p2.xlarge',\n",
    "    'ml.p3.2xlarge'\n",
    "]"
   ]
  },
  {
   "cell_type": "code",
   "execution_count": 14,
   "id": "94388e0b",
   "metadata": {
    "ExecuteTime": {
     "end_time": "2021-06-02T07:55:17.203626Z",
     "start_time": "2021-06-02T07:55:17.161840Z"
    }
   },
   "outputs": [],
   "source": [
    "metric_definitions=[\n",
    "    {'Name': 'loss', 'Regex': \"'loss': ([0-9]+(.|e\\-)[0-9]+),?\"},\n",
    "    {'Name': 'learning_rate', 'Regex': \"'learning_rate': ([0-9]+(.|e\\-)[0-9]+),?\"},\n",
    "    {'Name': 'eval_loss', 'Regex': \"'eval_loss': ([0-9]+(.|e\\-)[0-9]+),?\"},\n",
    "    {'Name': 'eval_accuracy', 'Regex': \"'eval_accuracy': ([0-9]+(.|e\\-)[0-9]+),?\"},\n",
    "    {'Name': 'f1', 'Regex': \"'f1': ([0-9]+(.|e\\-)[0-9]+),?\"},\n",
    "    {'Name': 'eval_precision', 'Regex': \"'eval_precision': ([0-9]+(.|e\\-)[0-9]+),?\"},\n",
    "    {'Name': 'eval_recall', 'Regex': \"'eval_recall': ([0-9]+(.|e\\-)[0-9]+),?\"},\n",
    "    {'Name': 'stupid_metric', 'Regex': \"'stupid_metric': ([0-9]+(.|e\\-)[0-9]+),?\"},\n",
    "    {'Name': 'eval_runtime', 'Regex': \"'eval_runtime': ([0-9]+(.|e\\-)[0-9]+),?\"},\n",
    "    {'Name': 'eval_samples_per_second', 'Regex': \"'eval_samples_per_second': ([0-9]+(.|e\\-)[0-9]+),?\"},\n",
    "    {'Name': 'epoch', 'Regex': \"'epoch': ([0-9]+(.|e\\-)[0-9]+),?\"}]"
   ]
  },
  {
   "cell_type": "code",
   "execution_count": 15,
   "id": "4f8b5cd2",
   "metadata": {
    "ExecuteTime": {
     "end_time": "2021-06-02T07:55:17.227912Z",
     "start_time": "2021-06-02T07:55:17.204867Z"
    }
   },
   "outputs": [],
   "source": [
    "# # set True if you need spot instance\n",
    "# use_spot = True\n",
    "# train_max_run_secs =   2*24 * 60 * 60\n",
    "# spot_wait_sec =  5 * 60\n",
    "# max_wait_time_secs = train_max_run_secs +  spot_wait_sec\n",
    "\n",
    "# if not use_spot:\n",
    "#     max_wait_time_secs = None\n",
    "    \n",
    "# # During local mode, no spot.., use smaller dataset\n",
    "# if instance_type == 'local':\n",
    "#     use_spot = False\n",
    "#     max_wait_time_secs = 0\n",
    "#     wait = True\n",
    "#     # Use smaller dataset to run locally\n",
    "#     inputs = inputs_sample\n"
   ]
  },
  {
   "cell_type": "code",
   "execution_count": 16,
   "id": "c8458da4",
   "metadata": {
    "ExecuteTime": {
     "end_time": "2021-06-02T07:55:17.341889Z",
     "start_time": "2021-06-02T07:55:17.229170Z"
    }
   },
   "outputs": [],
   "source": [
    "from sagemaker.pytorch import PyTorch\n",
    "\n",
    "hyperparameters={'epochs': 1,\n",
    "                 'train_batch_size': 32,\n",
    "                 'model_name': 'distilbert-base-uncased',\n",
    "                 'n_classes': 11,\n",
    "                 }\n",
    "\n",
    "estimator = PyTorch(\n",
    "    entry_point='train.py',\n",
    "    source_dir=str(SCRIPTS_TRAINING_PATH / 'stefano/multiclass-lightning'),\n",
    "    output_path=str(DEV_BUCKET / 'models/'),\n",
    "    code_location=str(input_path),\n",
    "    instance_type='ml.p3.2xlarge',\n",
    "    instance_count=1,\n",
    "    role=role,\n",
    "    framework_version='1.8',\n",
    "    py_version='py36',\n",
    "    hyperparameters = hyperparameters,\n",
    "    metric_definitions=metric_definitions,\n",
    "    job_name=job_name,\n",
    "#     train_instance_count=2,\n",
    "#     train_instance_type=\"ml.c4.xlarge\",\n",
    ")"
   ]
  },
  {
   "cell_type": "code",
   "execution_count": 17,
   "id": "c2d57e6d",
   "metadata": {
    "ExecuteTime": {
     "end_time": "2021-06-02T07:55:17.369716Z",
     "start_time": "2021-06-02T07:55:17.343024Z"
    }
   },
   "outputs": [],
   "source": [
    "fit_arguments = {\n",
    "    'train': str(input_path),\n",
    "    'test': str(input_path)\n",
    "}"
   ]
  },
  {
   "cell_type": "code",
   "execution_count": 18,
   "id": "e6e230e3",
   "metadata": {
    "ExecuteTime": {
     "end_time": "2021-06-02T08:02:41.714496Z",
     "start_time": "2021-06-02T07:55:17.370736Z"
    },
    "scrolled": true
   },
   "outputs": [
    {
     "name": "stdout",
     "output_type": "stream",
     "text": [
      "2021-06-02 07:55:19 Starting - Starting the training job...\n",
      "2021-06-02 07:55:22 Starting - Launching requested ML instancesProfilerReport-1622620517: InProgress\n",
      "......\n",
      "2021-06-02 07:56:38 Starting - Preparing the instances for training.........\n",
      "2021-06-02 07:58:19 Downloading - Downloading input data\n",
      "2021-06-02 07:58:19 Training - Downloading the training image.................\u001b[34mbash: cannot set terminal process group (-1): Inappropriate ioctl for device\u001b[0m\n",
      "\u001b[34mbash: no job control in this shell\u001b[0m\n",
      "\u001b[34m2021-06-02 08:01:34,590 sagemaker-training-toolkit INFO     Imported framework sagemaker_pytorch_container.training\u001b[0m\n",
      "\u001b[34m2021-06-02 08:01:34,614 sagemaker_pytorch_container.training INFO     Block until all host DNS lookups succeed.\u001b[0m\n",
      "\n",
      "2021-06-02 08:01:39 Training - Training image download completed. Training in progress.\u001b[34m2021-06-02 08:01:40,837 sagemaker_pytorch_container.training INFO     Invoking user training script.\u001b[0m\n",
      "\u001b[34m2021-06-02 08:01:41,191 sagemaker-training-toolkit INFO     Installing dependencies from requirements.txt:\u001b[0m\n",
      "\u001b[34m/opt/conda/bin/python3.6 -m pip install -r requirements.txt\u001b[0m\n",
      "\u001b[34mCollecting transformers==4.6.1\n",
      "  Downloading transformers-4.6.1-py3-none-any.whl (2.2 MB)\u001b[0m\n",
      "\u001b[34mCollecting pytorch-lightning==1.3.3\n",
      "  Downloading pytorch_lightning-1.3.3-py3-none-any.whl (806 kB)\u001b[0m\n",
      "\u001b[34mCollecting torchmetrics==0.3.2\n",
      "  Downloading torchmetrics-0.3.2-py3-none-any.whl (274 kB)\u001b[0m\n",
      "\u001b[34mCollecting filelock\n",
      "  Downloading filelock-3.0.12-py3-none-any.whl (7.6 kB)\u001b[0m\n",
      "\u001b[34mCollecting regex!=2019.12.17\n",
      "  Downloading regex-2021.4.4-cp36-cp36m-manylinux2014_x86_64.whl (722 kB)\u001b[0m\n",
      "\u001b[34mCollecting tokenizers<0.11,>=0.10.1\n",
      "  Downloading tokenizers-0.10.3-cp36-cp36m-manylinux_2_5_x86_64.manylinux1_x86_64.manylinux_2_12_x86_64.manylinux2010_x86_64.whl (3.3 MB)\u001b[0m\n",
      "\u001b[34mRequirement already satisfied: tqdm>=4.27 in /opt/conda/lib/python3.6/site-packages (from transformers==4.6.1->-r requirements.txt (line 1)) (4.51.0)\u001b[0m\n",
      "\u001b[34mRequirement already satisfied: numpy>=1.17 in /opt/conda/lib/python3.6/site-packages (from transformers==4.6.1->-r requirements.txt (line 1)) (1.19.1)\u001b[0m\n",
      "\u001b[34mRequirement already satisfied: importlib-metadata in /opt/conda/lib/python3.6/site-packages (from transformers==4.6.1->-r requirements.txt (line 1)) (4.0.1)\u001b[0m\n",
      "\u001b[34mRequirement already satisfied: requests in /opt/conda/lib/python3.6/site-packages (from transformers==4.6.1->-r requirements.txt (line 1)) (2.25.1)\u001b[0m\n",
      "\u001b[34mRequirement already satisfied: packaging in /opt/conda/lib/python3.6/site-packages (from transformers==4.6.1->-r requirements.txt (line 1)) (20.9)\u001b[0m\n",
      "\u001b[34mCollecting huggingface-hub==0.0.8\n",
      "  Downloading huggingface_hub-0.0.8-py3-none-any.whl (34 kB)\u001b[0m\n",
      "\u001b[34mCollecting sacremoses\n",
      "  Downloading sacremoses-0.0.45-py3-none-any.whl (895 kB)\u001b[0m\n",
      "\u001b[34mRequirement already satisfied: dataclasses in /opt/conda/lib/python3.6/site-packages (from transformers==4.6.1->-r requirements.txt (line 1)) (0.8)\u001b[0m\n",
      "\u001b[34mRequirement already satisfied: torch>=1.4 in /opt/conda/lib/python3.6/site-packages (from pytorch-lightning==1.3.3->-r requirements.txt (line 2)) (1.8.1)\u001b[0m\n",
      "\u001b[34mCollecting tensorboard!=2.5.0,>=2.2.0\n",
      "  Downloading tensorboard-2.4.1-py3-none-any.whl (10.6 MB)\u001b[0m\n",
      "\u001b[34mCollecting pyDeprecate==0.3.0\n",
      "  Downloading pyDeprecate-0.3.0-py3-none-any.whl (10 kB)\u001b[0m\n",
      "\u001b[34mRequirement already satisfied: future>=0.17.1 in /opt/conda/lib/python3.6/site-packages (from pytorch-lightning==1.3.3->-r requirements.txt (line 2)) (0.18.2)\u001b[0m\n",
      "\u001b[34mRequirement already satisfied: fsspec[http]>=2021.4.0 in /opt/conda/lib/python3.6/site-packages (from pytorch-lightning==1.3.3->-r requirements.txt (line 2)) (2021.4.0)\u001b[0m\n",
      "\u001b[34mRequirement already satisfied: PyYAML<=5.4.1,>=5.1 in /opt/conda/lib/python3.6/site-packages (from pytorch-lightning==1.3.3->-r requirements.txt (line 2)) (5.4.1)\u001b[0m\n",
      "\u001b[34mCollecting aiohttp\n",
      "  Downloading aiohttp-3.7.4.post0-cp36-cp36m-manylinux2014_x86_64.whl (1.3 MB)\u001b[0m\n",
      "\u001b[34mRequirement already satisfied: protobuf>=3.6.0 in /opt/conda/lib/python3.6/site-packages (from tensorboard!=2.5.0,>=2.2.0->pytorch-lightning==1.3.3->-r requirements.txt (line 2)) (3.16.0)\u001b[0m\n",
      "\u001b[34mCollecting tensorboard-plugin-wit>=1.6.0\n",
      "  Downloading tensorboard_plugin_wit-1.8.0-py3-none-any.whl (781 kB)\u001b[0m\n",
      "\u001b[34mCollecting grpcio>=1.24.3\n",
      "  Downloading grpcio-1.38.0-cp36-cp36m-manylinux2014_x86_64.whl (4.2 MB)\u001b[0m\n",
      "\u001b[34mRequirement already satisfied: werkzeug>=0.11.15 in /opt/conda/lib/python3.6/site-packages (from tensorboard!=2.5.0,>=2.2.0->pytorch-lightning==1.3.3->-r requirements.txt (line 2)) (1.0.1)\u001b[0m\n",
      "\u001b[34mCollecting absl-py>=0.4\n",
      "  Downloading absl_py-0.12.0-py3-none-any.whl (129 kB)\u001b[0m\n",
      "\u001b[34mCollecting google-auth<2,>=1.6.3\n",
      "  Downloading google_auth-1.30.1-py2.py3-none-any.whl (146 kB)\u001b[0m\n",
      "\u001b[34mRequirement already satisfied: six>=1.10.0 in /opt/conda/lib/python3.6/site-packages (from tensorboard!=2.5.0,>=2.2.0->pytorch-lightning==1.3.3->-r requirements.txt (line 2)) (1.16.0)\u001b[0m\n",
      "\u001b[34mRequirement already satisfied: wheel>=0.26 in /opt/conda/lib/python3.6/site-packages (from tensorboard!=2.5.0,>=2.2.0->pytorch-lightning==1.3.3->-r requirements.txt (line 2)) (0.35.1)\u001b[0m\n",
      "\u001b[34mRequirement already satisfied: setuptools>=41.0.0 in /opt/conda/lib/python3.6/site-packages (from tensorboard!=2.5.0,>=2.2.0->pytorch-lightning==1.3.3->-r requirements.txt (line 2)) (49.6.0.post20210108)\u001b[0m\n",
      "\u001b[34mCollecting google-auth-oauthlib<0.5,>=0.4.1\n",
      "  Downloading google_auth_oauthlib-0.4.4-py2.py3-none-any.whl (18 kB)\u001b[0m\n",
      "\u001b[34mCollecting markdown>=2.6.8\n",
      "  Downloading Markdown-3.3.4-py3-none-any.whl (97 kB)\u001b[0m\n",
      "\u001b[34mCollecting pyasn1-modules>=0.2.1\n",
      "  Downloading pyasn1_modules-0.2.8-py2.py3-none-any.whl (155 kB)\u001b[0m\n",
      "\u001b[34mCollecting cachetools<5.0,>=2.0.0\n",
      "  Downloading cachetools-4.2.2-py3-none-any.whl (11 kB)\u001b[0m\n",
      "\u001b[34mRequirement already satisfied: rsa<5,>=3.1.4 in /opt/conda/lib/python3.6/site-packages (from google-auth<2,>=1.6.3->tensorboard!=2.5.0,>=2.2.0->pytorch-lightning==1.3.3->-r requirements.txt (line 2)) (4.7.2)\u001b[0m\n",
      "\u001b[34mCollecting requests-oauthlib>=0.7.0\n",
      "  Downloading requests_oauthlib-1.3.0-py2.py3-none-any.whl (23 kB)\u001b[0m\n",
      "\u001b[34mRequirement already satisfied: pyasn1<0.5.0,>=0.4.6 in /opt/conda/lib/python3.6/site-packages (from pyasn1-modules>=0.2.1->google-auth<2,>=1.6.3->tensorboard!=2.5.0,>=2.2.0->pytorch-lightning==1.3.3->-r requirements.txt (line 2)) (0.4.8)\u001b[0m\n",
      "\u001b[34mRequirement already satisfied: certifi>=2017.4.17 in /opt/conda/lib/python3.6/site-packages (from requests->transformers==4.6.1->-r requirements.txt (line 1)) (2020.12.5)\u001b[0m\n",
      "\u001b[34mRequirement already satisfied: urllib3<1.27,>=1.21.1 in /opt/conda/lib/python3.6/site-packages (from requests->transformers==4.6.1->-r requirements.txt (line 1)) (1.25.11)\u001b[0m\n",
      "\u001b[34mRequirement already satisfied: chardet<5,>=3.0.2 in /opt/conda/lib/python3.6/site-packages (from requests->transformers==4.6.1->-r requirements.txt (line 1)) (3.0.4)\u001b[0m\n",
      "\u001b[34mRequirement already satisfied: idna<3,>=2.5 in /opt/conda/lib/python3.6/site-packages (from requests->transformers==4.6.1->-r requirements.txt (line 1)) (2.10)\u001b[0m\n",
      "\u001b[34mCollecting oauthlib>=3.0.0\n",
      "  Downloading oauthlib-3.1.1-py2.py3-none-any.whl (146 kB)\u001b[0m\n",
      "\u001b[34mRequirement already satisfied: typing-extensions in /opt/conda/lib/python3.6/site-packages (from torch>=1.4->pytorch-lightning==1.3.3->-r requirements.txt (line 2)) (3.10.0.0)\u001b[0m\n",
      "\u001b[34mRequirement already satisfied: attrs>=17.3.0 in /opt/conda/lib/python3.6/site-packages (from aiohttp->fsspec[http]>=2021.4.0->pytorch-lightning==1.3.3->-r requirements.txt (line 2)) (21.2.0)\u001b[0m\n",
      "\u001b[34mCollecting multidict<7.0,>=4.5\n",
      "  Downloading multidict-5.1.0-cp36-cp36m-manylinux2014_x86_64.whl (141 kB)\u001b[0m\n",
      "\u001b[34mCollecting yarl<2.0,>=1.0\n",
      "  Downloading yarl-1.6.3-cp36-cp36m-manylinux2014_x86_64.whl (293 kB)\u001b[0m\n",
      "\u001b[34mCollecting idna-ssl>=1.0\n",
      "  Downloading idna-ssl-1.1.0.tar.gz (3.4 kB)\u001b[0m\n",
      "\u001b[34mCollecting async-timeout<4.0,>=3.0\n",
      "  Downloading async_timeout-3.0.1-py3-none-any.whl (8.2 kB)\u001b[0m\n",
      "\u001b[34mRequirement already satisfied: zipp>=0.5 in /opt/conda/lib/python3.6/site-packages (from importlib-metadata->transformers==4.6.1->-r requirements.txt (line 1)) (3.4.1)\u001b[0m\n",
      "\u001b[34mRequirement already satisfied: pyparsing>=2.0.2 in /opt/conda/lib/python3.6/site-packages (from packaging->transformers==4.6.1->-r requirements.txt (line 1)) (2.4.7)\u001b[0m\n",
      "\u001b[34mRequirement already satisfied: joblib in /opt/conda/lib/python3.6/site-packages (from sacremoses->transformers==4.6.1->-r requirements.txt (line 1)) (1.0.1)\u001b[0m\n",
      "\u001b[34mRequirement already satisfied: click in /opt/conda/lib/python3.6/site-packages (from sacremoses->transformers==4.6.1->-r requirements.txt (line 1)) (7.1.2)\u001b[0m\n",
      "\u001b[34mBuilding wheels for collected packages: idna-ssl\n",
      "  Building wheel for idna-ssl (setup.py): started\n",
      "  Building wheel for idna-ssl (setup.py): finished with status 'done'\n",
      "  Created wheel for idna-ssl: filename=idna_ssl-1.1.0-py3-none-any.whl size=3161 sha256=78409f7582947d8d6d8e5f061feeba73aff1d064405a803fad5aa0e1db36e782\n",
      "  Stored in directory: /root/.cache/pip/wheels/6a/f5/9c/f8331a854f7a8739cf0e74c13854e4dd7b1af11b04fe1dde13\u001b[0m\n",
      "\u001b[34mSuccessfully built idna-ssl\u001b[0m\n"
     ]
    },
    {
     "name": "stdout",
     "output_type": "stream",
     "text": [
      "\u001b[34mInstalling collected packages: pyasn1-modules, oauthlib, multidict, cachetools, yarl, requests-oauthlib, idna-ssl, google-auth, async-timeout, tensorboard-plugin-wit, regex, markdown, grpcio, google-auth-oauthlib, filelock, aiohttp, absl-py, torchmetrics, tokenizers, tensorboard, sacremoses, pyDeprecate, huggingface-hub, transformers, pytorch-lightning\u001b[0m\n",
      "\u001b[34mSuccessfully installed absl-py-0.12.0 aiohttp-3.7.4.post0 async-timeout-3.0.1 cachetools-4.2.2 filelock-3.0.12 google-auth-1.30.1 google-auth-oauthlib-0.4.4 grpcio-1.38.0 huggingface-hub-0.0.8 idna-ssl-1.1.0 markdown-3.3.4 multidict-5.1.0 oauthlib-3.1.1 pyDeprecate-0.3.0 pyasn1-modules-0.2.8 pytorch-lightning-1.3.3 regex-2021.4.4 requests-oauthlib-1.3.0 sacremoses-0.0.45 tensorboard-2.4.1 tensorboard-plugin-wit-1.8.0 tokenizers-0.10.3 torchmetrics-0.3.2 transformers-4.6.1 yarl-1.6.3\u001b[0m\n",
      "\u001b[34mWARNING: Running pip as root will break packages and permissions. You should install packages reliably by using venv: https://pip.pypa.io/warnings/venv\n",
      "\u001b[0m\n",
      "\u001b[34m2021-06-02 08:01:55,067 sagemaker-training-toolkit INFO     Invoking user script\n",
      "\u001b[0m\n",
      "\u001b[34mTraining Env:\n",
      "\u001b[0m\n",
      "\u001b[34m{\n",
      "    \"additional_framework_parameters\": {},\n",
      "    \"channel_input_dirs\": {\n",
      "        \"test\": \"/opt/ml/input/data/test\",\n",
      "        \"train\": \"/opt/ml/input/data/train\"\n",
      "    },\n",
      "    \"current_host\": \"algo-1\",\n",
      "    \"framework_module\": \"sagemaker_pytorch_container.training:main\",\n",
      "    \"hosts\": [\n",
      "        \"algo-1\"\n",
      "    ],\n",
      "    \"hyperparameters\": {\n",
      "        \"train_batch_size\": 32,\n",
      "        \"model_name\": \"distilbert-base-uncased\",\n",
      "        \"epochs\": 1,\n",
      "        \"n_classes\": 11\n",
      "    },\n",
      "    \"input_config_dir\": \"/opt/ml/input/config\",\n",
      "    \"input_data_config\": {\n",
      "        \"test\": {\n",
      "            \"TrainingInputMode\": \"File\",\n",
      "            \"S3DistributionType\": \"FullyReplicated\",\n",
      "            \"RecordWrapperType\": \"None\"\n",
      "        },\n",
      "        \"train\": {\n",
      "            \"TrainingInputMode\": \"File\",\n",
      "            \"S3DistributionType\": \"FullyReplicated\",\n",
      "            \"RecordWrapperType\": \"None\"\n",
      "        }\n",
      "    },\n",
      "    \"input_dir\": \"/opt/ml/input\",\n",
      "    \"is_master\": true,\n",
      "    \"job_name\": \"pytorch-training-2021-06-02-09-54-54-518\",\n",
      "    \"log_level\": 20,\n",
      "    \"master_hostname\": \"algo-1\",\n",
      "    \"model_dir\": \"/opt/ml/model\",\n",
      "    \"module_dir\": \"s3://sagemaker-deep-experiments-dev/training/input_data/pytorch-training-2021-06-02-09-54-54-518/pytorch-training-2021-06-02-09-54-54-518/source/sourcedir.tar.gz\",\n",
      "    \"module_name\": \"train\",\n",
      "    \"network_interface_name\": \"eth0\",\n",
      "    \"num_cpus\": 8,\n",
      "    \"num_gpus\": 1,\n",
      "    \"output_data_dir\": \"/opt/ml/output/data\",\n",
      "    \"output_dir\": \"/opt/ml/output\",\n",
      "    \"output_intermediate_dir\": \"/opt/ml/output/intermediate\",\n",
      "    \"resource_config\": {\n",
      "        \"current_host\": \"algo-1\",\n",
      "        \"hosts\": [\n",
      "            \"algo-1\"\n",
      "        ],\n",
      "        \"network_interface_name\": \"eth0\"\n",
      "    },\n",
      "    \"user_entry_point\": \"train.py\"\u001b[0m\n",
      "\u001b[34m}\n",
      "\u001b[0m\n",
      "\u001b[34mEnvironment variables:\n",
      "\u001b[0m\n",
      "\u001b[34mSM_HOSTS=[\"algo-1\"]\u001b[0m\n",
      "\u001b[34mSM_NETWORK_INTERFACE_NAME=eth0\u001b[0m\n",
      "\u001b[34mSM_HPS={\"epochs\":1,\"model_name\":\"distilbert-base-uncased\",\"n_classes\":11,\"train_batch_size\":32}\u001b[0m\n",
      "\u001b[34mSM_USER_ENTRY_POINT=train.py\u001b[0m\n",
      "\u001b[34mSM_FRAMEWORK_PARAMS={}\u001b[0m\n",
      "\u001b[34mSM_RESOURCE_CONFIG={\"current_host\":\"algo-1\",\"hosts\":[\"algo-1\"],\"network_interface_name\":\"eth0\"}\u001b[0m\n",
      "\u001b[34mSM_INPUT_DATA_CONFIG={\"test\":{\"RecordWrapperType\":\"None\",\"S3DistributionType\":\"FullyReplicated\",\"TrainingInputMode\":\"File\"},\"train\":{\"RecordWrapperType\":\"None\",\"S3DistributionType\":\"FullyReplicated\",\"TrainingInputMode\":\"File\"}}\u001b[0m\n",
      "\u001b[34mSM_OUTPUT_DATA_DIR=/opt/ml/output/data\u001b[0m\n",
      "\u001b[34mSM_CHANNELS=[\"test\",\"train\"]\u001b[0m\n",
      "\u001b[34mSM_CURRENT_HOST=algo-1\u001b[0m\n",
      "\u001b[34mSM_MODULE_NAME=train\u001b[0m\n",
      "\u001b[34mSM_LOG_LEVEL=20\u001b[0m\n",
      "\u001b[34mSM_FRAMEWORK_MODULE=sagemaker_pytorch_container.training:main\u001b[0m\n",
      "\u001b[34mSM_INPUT_DIR=/opt/ml/input\u001b[0m\n",
      "\u001b[34mSM_INPUT_CONFIG_DIR=/opt/ml/input/config\u001b[0m\n",
      "\u001b[34mSM_OUTPUT_DIR=/opt/ml/output\u001b[0m\n",
      "\u001b[34mSM_NUM_CPUS=8\u001b[0m\n",
      "\u001b[34mSM_NUM_GPUS=1\u001b[0m\n",
      "\u001b[34mSM_MODEL_DIR=/opt/ml/model\u001b[0m\n",
      "\u001b[34mSM_MODULE_DIR=s3://sagemaker-deep-experiments-dev/training/input_data/pytorch-training-2021-06-02-09-54-54-518/pytorch-training-2021-06-02-09-54-54-518/source/sourcedir.tar.gz\u001b[0m\n",
      "\u001b[34mSM_TRAINING_ENV={\"additional_framework_parameters\":{},\"channel_input_dirs\":{\"test\":\"/opt/ml/input/data/test\",\"train\":\"/opt/ml/input/data/train\"},\"current_host\":\"algo-1\",\"framework_module\":\"sagemaker_pytorch_container.training:main\",\"hosts\":[\"algo-1\"],\"hyperparameters\":{\"epochs\":1,\"model_name\":\"distilbert-base-uncased\",\"n_classes\":11,\"train_batch_size\":32},\"input_config_dir\":\"/opt/ml/input/config\",\"input_data_config\":{\"test\":{\"RecordWrapperType\":\"None\",\"S3DistributionType\":\"FullyReplicated\",\"TrainingInputMode\":\"File\"},\"train\":{\"RecordWrapperType\":\"None\",\"S3DistributionType\":\"FullyReplicated\",\"TrainingInputMode\":\"File\"}},\"input_dir\":\"/opt/ml/input\",\"is_master\":true,\"job_name\":\"pytorch-training-2021-06-02-09-54-54-518\",\"log_level\":20,\"master_hostname\":\"algo-1\",\"model_dir\":\"/opt/ml/model\",\"module_dir\":\"s3://sagemaker-deep-experiments-dev/training/input_data/pytorch-training-2021-06-02-09-54-54-518/pytorch-training-2021-06-02-09-54-54-518/source/sourcedir.tar.gz\",\"module_name\":\"train\",\"network_interface_name\":\"eth0\",\"num_cpus\":8,\"num_gpus\":1,\"output_data_dir\":\"/opt/ml/output/data\",\"output_dir\":\"/opt/ml/output\",\"output_intermediate_dir\":\"/opt/ml/output/intermediate\",\"resource_config\":{\"current_host\":\"algo-1\",\"hosts\":[\"algo-1\"],\"network_interface_name\":\"eth0\"},\"user_entry_point\":\"train.py\"}\u001b[0m\n",
      "\u001b[34mSM_USER_ARGS=[\"--epochs\",\"1\",\"--model_name\",\"distilbert-base-uncased\",\"--n_classes\",\"11\",\"--train_batch_size\",\"32\"]\u001b[0m\n",
      "\u001b[34mSM_OUTPUT_INTERMEDIATE_DIR=/opt/ml/output/intermediate\u001b[0m\n",
      "\u001b[34mSM_CHANNEL_TEST=/opt/ml/input/data/test\u001b[0m\n",
      "\u001b[34mSM_CHANNEL_TRAIN=/opt/ml/input/data/train\u001b[0m\n",
      "\u001b[34mSM_HP_TRAIN_BATCH_SIZE=32\u001b[0m\n",
      "\u001b[34mSM_HP_MODEL_NAME=distilbert-base-uncased\u001b[0m\n",
      "\u001b[34mSM_HP_EPOCHS=1\u001b[0m\n",
      "\u001b[34mSM_HP_N_CLASSES=11\u001b[0m\n",
      "\u001b[34mPYTHONPATH=/opt/ml/code:/opt/conda/bin:/opt/conda/lib/python36.zip:/opt/conda/lib/python3.6:/opt/conda/lib/python3.6/lib-dynload:/opt/conda/lib/python3.6/site-packages\n",
      "\u001b[0m\n",
      "\u001b[34mInvoking script with the following command:\n",
      "\u001b[0m\n",
      "\u001b[34m/opt/conda/bin/python3.6 train.py --epochs 1 --model_name distilbert-base-uncased --n_classes 11 --train_batch_size 32\n",
      "\n",
      "\u001b[0m\n",
      "\u001b[34m2021-06-02 08:01:59,510 - __main__ - INFO -  loaded train_dataset shape is: (90653, 2)\u001b[0m\n",
      "\u001b[34m2021-06-02 08:01:59,510 - __main__ - INFO -  loaded val_dataset shape is: (11192, 2)\u001b[0m\n",
      "\u001b[34m2021-06-02 08:01:59,510 - __main__ - INFO -  loaded test_dataset shape is: (11192, 2)\u001b[0m\n",
      "\u001b[34m2021-06-02 08:01:59,711 - filelock - INFO - Lock 140188892317680 acquired on /root/.cache/huggingface/transformers/23454919702d26495337f3da04d1655c7ee010d5ec9d77bdb9e399e00302c0a1.d423bdf2f58dc8b77d5f5d18028d7ae4a72dcfd8f468e81fe979ada957a8c361.lock\u001b[0m\n",
      "\u001b[34m2021-06-02 08:01:59,737 - filelock - INFO - Lock 140188892317680 released on /root/.cache/huggingface/transformers/23454919702d26495337f3da04d1655c7ee010d5ec9d77bdb9e399e00302c0a1.d423bdf2f58dc8b77d5f5d18028d7ae4a72dcfd8f468e81fe979ada957a8c361.lock\u001b[0m\n",
      "\u001b[34m2021-06-02 08:01:59,760 - filelock - INFO - Lock 140188903079216 acquired on /root/.cache/huggingface/transformers/0e1bbfda7f63a99bb52e3915dcf10c3c92122b827d92eb2d34ce94ee79ba486c.d789d64ebfe299b0e416afc4a169632f903f693095b4629a7ea271d5a0cf2c99.lock\u001b[0m\n",
      "\u001b[34m2021-06-02 08:01:59,788 - filelock - INFO - Lock 140188903079216 released on /root/.cache/huggingface/transformers/0e1bbfda7f63a99bb52e3915dcf10c3c92122b827d92eb2d34ce94ee79ba486c.d789d64ebfe299b0e416afc4a169632f903f693095b4629a7ea271d5a0cf2c99.lock\u001b[0m\n",
      "\u001b[34m2021-06-02 08:01:59,810 - filelock - INFO - Lock 140188903079216 acquired on /root/.cache/huggingface/transformers/75abb59d7a06f4f640158a9bfcde005264e59e8d566781ab1415b139d2e4c603.7f2721073f19841be16f41b0a70b600ca6b880c8f3df6f3535cbc704371bdfa4.lock\u001b[0m\n",
      "\u001b[34m2021-06-02 08:01:59,845 - filelock - INFO - Lock 140188903079216 released on /root/.cache/huggingface/transformers/75abb59d7a06f4f640158a9bfcde005264e59e8d566781ab1415b139d2e4c603.7f2721073f19841be16f41b0a70b600ca6b880c8f3df6f3535cbc704371bdfa4.lock\u001b[0m\n",
      "\u001b[34m2021-06-02 08:01:59,921 - filelock - INFO - Lock 140188903079216 acquired on /root/.cache/huggingface/transformers/8c8624b8ac8aa99c60c912161f8332de003484428c47906d7ff7eb7f73eecdbb.20430bd8e10ef77a7d2977accefe796051e01bc2fc4aa146bc862997a1a15e79.lock\u001b[0m\n"
     ]
    },
    {
     "name": "stdout",
     "output_type": "stream",
     "text": [
      "\u001b[34m2021-06-02 08:01:59,955 - filelock - INFO - Lock 140188903079216 released on /root/.cache/huggingface/transformers/8c8624b8ac8aa99c60c912161f8332de003484428c47906d7ff7eb7f73eecdbb.20430bd8e10ef77a7d2977accefe796051e01bc2fc4aa146bc862997a1a15e79.lock\u001b[0m\n",
      "\u001b[34m2021-06-02 08:02:00,065 - filelock - INFO - Lock 140184926625576 acquired on /root/.cache/huggingface/transformers/9c169103d7e5a73936dd2b627e42851bec0831212b677c637033ee4bce9ab5ee.126183e36667471617ae2f0835fab707baa54b731f991507ebbb55ea85adb12a.lock\u001b[0m\n",
      "\u001b[34m2021-06-02 08:02:04,986 - filelock - INFO - Lock 140184926625576 released on /root/.cache/huggingface/transformers/9c169103d7e5a73936dd2b627e42851bec0831212b677c637033ee4bce9ab5ee.126183e36667471617ae2f0835fab707baa54b731f991507ebbb55ea85adb12a.lock\u001b[0m\n",
      "\u001b[34m#015Validation sanity check: 0it [00:00, ?it/s]#015Validation sanity check:   0%|          | 0/2 [00:00<?, ?it/s][2021-06-02 08:02:09.235 algo-1:37 INFO utils.py:27] RULE_JOB_STOP_SIGNAL_FILENAME: None\u001b[0m\n",
      "\u001b[34m[2021-06-02 08:02:09.299 algo-1:37 INFO profiler_config_parser.py:102] User has disabled profiler.\u001b[0m\n",
      "\u001b[34m[2021-06-02 08:02:09.299 algo-1:37 INFO json_config.py:91] Creating hook from json_config at /opt/ml/input/config/debughookconfig.json.\u001b[0m\n",
      "\u001b[34m[2021-06-02 08:02:09.300 algo-1:37 INFO hook.py:199] tensorboard_dir has not been set for the hook. SMDebug will not be exporting tensorboard summaries.\u001b[0m\n",
      "\u001b[34m[2021-06-02 08:02:09.301 algo-1:37 INFO hook.py:253] Saving to /opt/ml/output/tensors\u001b[0m\n",
      "\u001b[34m[2021-06-02 08:02:09.301 algo-1:37 INFO state_store.py:77] The checkpoint config file /opt/ml/input/config/checkpointconfig.json does not exist.\u001b[0m\n",
      "\u001b[34m[2021-06-02 08:02:09.345 algo-1:37 INFO hook.py:584] name:model.embeddings.word_embeddings.weight count_params:23440896\u001b[0m\n",
      "\u001b[34m[2021-06-02 08:02:09.345 algo-1:37 INFO hook.py:584] name:model.embeddings.position_embeddings.weight count_params:393216\u001b[0m\n",
      "\u001b[34m[2021-06-02 08:02:09.345 algo-1:37 INFO hook.py:584] name:model.embeddings.LayerNorm.weight count_params:768\u001b[0m\n",
      "\u001b[34m[2021-06-02 08:02:09.345 algo-1:37 INFO hook.py:584] name:model.embeddings.LayerNorm.bias count_params:768\u001b[0m\n",
      "\u001b[34m[2021-06-02 08:02:09.345 algo-1:37 INFO hook.py:584] name:model.transformer.layer.0.attention.q_lin.weight count_params:589824\u001b[0m\n",
      "\u001b[34m[2021-06-02 08:02:09.345 algo-1:37 INFO hook.py:584] name:model.transformer.layer.0.attention.q_lin.bias count_params:768\u001b[0m\n",
      "\u001b[34m[2021-06-02 08:02:09.345 algo-1:37 INFO hook.py:584] name:model.transformer.layer.0.attention.k_lin.weight count_params:589824\u001b[0m\n",
      "\u001b[34m[2021-06-02 08:02:09.345 algo-1:37 INFO hook.py:584] name:model.transformer.layer.0.attention.k_lin.bias count_params:768\u001b[0m\n",
      "\u001b[34m[2021-06-02 08:02:09.346 algo-1:37 INFO hook.py:584] name:model.transformer.layer.0.attention.v_lin.weight count_params:589824\u001b[0m\n",
      "\u001b[34m[2021-06-02 08:02:09.346 algo-1:37 INFO hook.py:584] name:model.transformer.layer.0.attention.v_lin.bias count_params:768\u001b[0m\n",
      "\u001b[34m[2021-06-02 08:02:09.346 algo-1:37 INFO hook.py:584] name:model.transformer.layer.0.attention.out_lin.weight count_params:589824\u001b[0m\n",
      "\u001b[34m[2021-06-02 08:02:09.346 algo-1:37 INFO hook.py:584] name:model.transformer.layer.0.attention.out_lin.bias count_params:768\u001b[0m\n",
      "\u001b[34m[2021-06-02 08:02:09.346 algo-1:37 INFO hook.py:584] name:model.transformer.layer.0.sa_layer_norm.weight count_params:768\u001b[0m\n",
      "\u001b[34m[2021-06-02 08:02:09.346 algo-1:37 INFO hook.py:584] name:model.transformer.layer.0.sa_layer_norm.bias count_params:768\u001b[0m\n",
      "\u001b[34m[2021-06-02 08:02:09.346 algo-1:37 INFO hook.py:584] name:model.transformer.layer.0.ffn.lin1.weight count_params:2359296\u001b[0m\n",
      "\u001b[34m[2021-06-02 08:02:09.346 algo-1:37 INFO hook.py:584] name:model.transformer.layer.0.ffn.lin1.bias count_params:3072\u001b[0m\n",
      "\u001b[34m[2021-06-02 08:02:09.346 algo-1:37 INFO hook.py:584] name:model.transformer.layer.0.ffn.lin2.weight count_params:2359296\u001b[0m\n",
      "\u001b[34m[2021-06-02 08:02:09.346 algo-1:37 INFO hook.py:584] name:model.transformer.layer.0.ffn.lin2.bias count_params:768\u001b[0m\n",
      "\u001b[34m[2021-06-02 08:02:09.346 algo-1:37 INFO hook.py:584] name:model.transformer.layer.0.output_layer_norm.weight count_params:768\u001b[0m\n",
      "\u001b[34m[2021-06-02 08:02:09.347 algo-1:37 INFO hook.py:584] name:model.transformer.layer.0.output_layer_norm.bias count_params:768\u001b[0m\n",
      "\u001b[34m[2021-06-02 08:02:09.347 algo-1:37 INFO hook.py:584] name:model.transformer.layer.1.attention.q_lin.weight count_params:589824\u001b[0m\n",
      "\u001b[34m[2021-06-02 08:02:09.347 algo-1:37 INFO hook.py:584] name:model.transformer.layer.1.attention.q_lin.bias count_params:768\u001b[0m\n",
      "\u001b[34m[2021-06-02 08:02:09.347 algo-1:37 INFO hook.py:584] name:model.transformer.layer.1.attention.k_lin.weight count_params:589824\u001b[0m\n",
      "\u001b[34m[2021-06-02 08:02:09.347 algo-1:37 INFO hook.py:584] name:model.transformer.layer.1.attention.k_lin.bias count_params:768\u001b[0m\n",
      "\u001b[34m[2021-06-02 08:02:09.347 algo-1:37 INFO hook.py:584] name:model.transformer.layer.1.attention.v_lin.weight count_params:589824\u001b[0m\n",
      "\u001b[34m[2021-06-02 08:02:09.347 algo-1:37 INFO hook.py:584] name:model.transformer.layer.1.attention.v_lin.bias count_params:768\u001b[0m\n",
      "\u001b[34m[2021-06-02 08:02:09.347 algo-1:37 INFO hook.py:584] name:model.transformer.layer.1.attention.out_lin.weight count_params:589824\u001b[0m\n",
      "\u001b[34m[2021-06-02 08:02:09.347 algo-1:37 INFO hook.py:584] name:model.transformer.layer.1.attention.out_lin.bias count_params:768\u001b[0m\n",
      "\u001b[34m[2021-06-02 08:02:09.347 algo-1:37 INFO hook.py:584] name:model.transformer.layer.1.sa_layer_norm.weight count_params:768\u001b[0m\n",
      "\u001b[34m[2021-06-02 08:02:09.347 algo-1:37 INFO hook.py:584] name:model.transformer.layer.1.sa_layer_norm.bias count_params:768\u001b[0m\n",
      "\u001b[34m[2021-06-02 08:02:09.348 algo-1:37 INFO hook.py:584] name:model.transformer.layer.1.ffn.lin1.weight count_params:2359296\u001b[0m\n",
      "\u001b[34m[2021-06-02 08:02:09.348 algo-1:37 INFO hook.py:584] name:model.transformer.layer.1.ffn.lin1.bias count_params:3072\u001b[0m\n",
      "\u001b[34m[2021-06-02 08:02:09.348 algo-1:37 INFO hook.py:584] name:model.transformer.layer.1.ffn.lin2.weight count_params:2359296\u001b[0m\n",
      "\u001b[34m[2021-06-02 08:02:09.348 algo-1:37 INFO hook.py:584] name:model.transformer.layer.1.ffn.lin2.bias count_params:768\u001b[0m\n",
      "\u001b[34m[2021-06-02 08:02:09.348 algo-1:37 INFO hook.py:584] name:model.transformer.layer.1.output_layer_norm.weight count_params:768\u001b[0m\n",
      "\u001b[34m[2021-06-02 08:02:09.348 algo-1:37 INFO hook.py:584] name:model.transformer.layer.1.output_layer_norm.bias count_params:768\u001b[0m\n",
      "\u001b[34m[2021-06-02 08:02:09.348 algo-1:37 INFO hook.py:584] name:model.transformer.layer.2.attention.q_lin.weight count_params:589824\u001b[0m\n",
      "\u001b[34m[2021-06-02 08:02:09.348 algo-1:37 INFO hook.py:584] name:model.transformer.layer.2.attention.q_lin.bias count_params:768\u001b[0m\n",
      "\u001b[34m[2021-06-02 08:02:09.348 algo-1:37 INFO hook.py:584] name:model.transformer.layer.2.attention.k_lin.weight count_params:589824\u001b[0m\n",
      "\u001b[34m[2021-06-02 08:02:09.348 algo-1:37 INFO hook.py:584] name:model.transformer.layer.2.attention.k_lin.bias count_params:768\u001b[0m\n",
      "\u001b[34m[2021-06-02 08:02:09.348 algo-1:37 INFO hook.py:584] name:model.transformer.layer.2.attention.v_lin.weight count_params:589824\u001b[0m\n",
      "\u001b[34m[2021-06-02 08:02:09.349 algo-1:37 INFO hook.py:584] name:model.transformer.layer.2.attention.v_lin.bias count_params:768\u001b[0m\n",
      "\u001b[34m[2021-06-02 08:02:09.349 algo-1:37 INFO hook.py:584] name:model.transformer.layer.2.attention.out_lin.weight count_params:589824\u001b[0m\n",
      "\u001b[34m[2021-06-02 08:02:09.349 algo-1:37 INFO hook.py:584] name:model.transformer.layer.2.attention.out_lin.bias count_params:768\u001b[0m\n",
      "\u001b[34m[2021-06-02 08:02:09.349 algo-1:37 INFO hook.py:584] name:model.transformer.layer.2.sa_layer_norm.weight count_params:768\u001b[0m\n",
      "\u001b[34m[2021-06-02 08:02:09.349 algo-1:37 INFO hook.py:584] name:model.transformer.layer.2.sa_layer_norm.bias count_params:768\u001b[0m\n",
      "\u001b[34m[2021-06-02 08:02:09.349 algo-1:37 INFO hook.py:584] name:model.transformer.layer.2.ffn.lin1.weight count_params:2359296\u001b[0m\n",
      "\u001b[34m[2021-06-02 08:02:09.349 algo-1:37 INFO hook.py:584] name:model.transformer.layer.2.ffn.lin1.bias count_params:3072\u001b[0m\n",
      "\u001b[34m[2021-06-02 08:02:09.349 algo-1:37 INFO hook.py:584] name:model.transformer.layer.2.ffn.lin2.weight count_params:2359296\u001b[0m\n",
      "\u001b[34m[2021-06-02 08:02:09.349 algo-1:37 INFO hook.py:584] name:model.transformer.layer.2.ffn.lin2.bias count_params:768\u001b[0m\n",
      "\u001b[34m[2021-06-02 08:02:09.349 algo-1:37 INFO hook.py:584] name:model.transformer.layer.2.output_layer_norm.weight count_params:768\u001b[0m\n",
      "\u001b[34m[2021-06-02 08:02:09.349 algo-1:37 INFO hook.py:584] name:model.transformer.layer.2.output_layer_norm.bias count_params:768\u001b[0m\n",
      "\u001b[34m[2021-06-02 08:02:09.350 algo-1:37 INFO hook.py:584] name:model.transformer.layer.3.attention.q_lin.weight count_params:589824\u001b[0m\n",
      "\u001b[34m[2021-06-02 08:02:09.350 algo-1:37 INFO hook.py:584] name:model.transformer.layer.3.attention.q_lin.bias count_params:768\u001b[0m\n",
      "\u001b[34m[2021-06-02 08:02:09.350 algo-1:37 INFO hook.py:584] name:model.transformer.layer.3.attention.k_lin.weight count_params:589824\u001b[0m\n",
      "\u001b[34m[2021-06-02 08:02:09.350 algo-1:37 INFO hook.py:584] name:model.transformer.layer.3.attention.k_lin.bias count_params:768\u001b[0m\n",
      "\u001b[34m[2021-06-02 08:02:09.350 algo-1:37 INFO hook.py:584] name:model.transformer.layer.3.attention.v_lin.weight count_params:589824\u001b[0m\n",
      "\u001b[34m[2021-06-02 08:02:09.350 algo-1:37 INFO hook.py:584] name:model.transformer.layer.3.attention.v_lin.bias count_params:768\u001b[0m\n",
      "\u001b[34m[2021-06-02 08:02:09.350 algo-1:37 INFO hook.py:584] name:model.transformer.layer.3.attention.out_lin.weight count_params:589824\u001b[0m\n",
      "\u001b[34m[2021-06-02 08:02:09.350 algo-1:37 INFO hook.py:584] name:model.transformer.layer.3.attention.out_lin.bias count_params:768\u001b[0m\n",
      "\u001b[34m[2021-06-02 08:02:09.350 algo-1:37 INFO hook.py:584] name:model.transformer.layer.3.sa_layer_norm.weight count_params:768\u001b[0m\n",
      "\u001b[34m[2021-06-02 08:02:09.350 algo-1:37 INFO hook.py:584] name:model.transformer.layer.3.sa_layer_norm.bias count_params:768\u001b[0m\n",
      "\u001b[34m[2021-06-02 08:02:09.350 algo-1:37 INFO hook.py:584] name:model.transformer.layer.3.ffn.lin1.weight count_params:2359296\u001b[0m\n",
      "\u001b[34m[2021-06-02 08:02:09.350 algo-1:37 INFO hook.py:584] name:model.transformer.layer.3.ffn.lin1.bias count_params:3072\u001b[0m\n",
      "\u001b[34m[2021-06-02 08:02:09.351 algo-1:37 INFO hook.py:584] name:model.transformer.layer.3.ffn.lin2.weight count_params:2359296\u001b[0m\n",
      "\u001b[34m[2021-06-02 08:02:09.351 algo-1:37 INFO hook.py:584] name:model.transformer.layer.3.ffn.lin2.bias count_params:768\u001b[0m\n",
      "\u001b[34m[2021-06-02 08:02:09.351 algo-1:37 INFO hook.py:584] name:model.transformer.layer.3.output_layer_norm.weight count_params:768\u001b[0m\n",
      "\u001b[34m[2021-06-02 08:02:09.351 algo-1:37 INFO hook.py:584] name:model.transformer.layer.3.output_layer_norm.bias count_params:768\u001b[0m\n",
      "\u001b[34m[2021-06-02 08:02:09.351 algo-1:37 INFO hook.py:584] name:model.transformer.layer.4.attention.q_lin.weight count_params:589824\u001b[0m\n",
      "\u001b[34m[2021-06-02 08:02:09.351 algo-1:37 INFO hook.py:584] name:model.transformer.layer.4.attention.q_lin.bias count_params:768\u001b[0m\n",
      "\u001b[34m[2021-06-02 08:02:09.351 algo-1:37 INFO hook.py:584] name:model.transformer.layer.4.attention.k_lin.weight count_params:589824\u001b[0m\n",
      "\u001b[34m[2021-06-02 08:02:09.351 algo-1:37 INFO hook.py:584] name:model.transformer.layer.4.attention.k_lin.bias count_params:768\u001b[0m\n",
      "\u001b[34m[2021-06-02 08:02:09.351 algo-1:37 INFO hook.py:584] name:model.transformer.layer.4.attention.v_lin.weight count_params:589824\u001b[0m\n",
      "\u001b[34m[2021-06-02 08:02:09.351 algo-1:37 INFO hook.py:584] name:model.transformer.layer.4.attention.v_lin.bias count_params:768\u001b[0m\n",
      "\u001b[34m[2021-06-02 08:02:09.351 algo-1:37 INFO hook.py:584] name:model.transformer.layer.4.attention.out_lin.weight count_params:589824\u001b[0m\n",
      "\u001b[34m[2021-06-02 08:02:09.351 algo-1:37 INFO hook.py:584] name:model.transformer.layer.4.attention.out_lin.bias count_params:768\u001b[0m\n",
      "\u001b[34m[2021-06-02 08:02:09.351 algo-1:37 INFO hook.py:584] name:model.transformer.layer.4.sa_layer_norm.weight count_params:768\u001b[0m\n",
      "\u001b[34m[2021-06-02 08:02:09.352 algo-1:37 INFO hook.py:584] name:model.transformer.layer.4.sa_layer_norm.bias count_params:768\u001b[0m\n",
      "\u001b[34m[2021-06-02 08:02:09.352 algo-1:37 INFO hook.py:584] name:model.transformer.layer.4.ffn.lin1.weight count_params:2359296\u001b[0m\n",
      "\u001b[34m[2021-06-02 08:02:09.352 algo-1:37 INFO hook.py:584] name:model.transformer.layer.4.ffn.lin1.bias count_params:3072\u001b[0m\n",
      "\u001b[34m[2021-06-02 08:02:09.352 algo-1:37 INFO hook.py:584] name:model.transformer.layer.4.ffn.lin2.weight count_params:2359296\u001b[0m\n",
      "\u001b[34m[2021-06-02 08:02:09.352 algo-1:37 INFO hook.py:584] name:model.transformer.layer.4.ffn.lin2.bias count_params:768\u001b[0m\n",
      "\u001b[34m[2021-06-02 08:02:09.352 algo-1:37 INFO hook.py:584] name:model.transformer.layer.4.output_layer_norm.weight count_params:768\u001b[0m\n",
      "\u001b[34m[2021-06-02 08:02:09.352 algo-1:37 INFO hook.py:584] name:model.transformer.layer.4.output_layer_norm.bias count_params:768\u001b[0m\n",
      "\u001b[34m[2021-06-02 08:02:09.352 algo-1:37 INFO hook.py:584] name:model.transformer.layer.5.attention.q_lin.weight count_params:589824\u001b[0m\n",
      "\u001b[34m[2021-06-02 08:02:09.352 algo-1:37 INFO hook.py:584] name:model.transformer.layer.5.attention.q_lin.bias count_params:768\u001b[0m\n",
      "\u001b[34m[2021-06-02 08:02:09.352 algo-1:37 INFO hook.py:584] name:model.transformer.layer.5.attention.k_lin.weight count_params:589824\u001b[0m\n",
      "\u001b[34m[2021-06-02 08:02:09.352 algo-1:37 INFO hook.py:584] name:model.transformer.layer.5.attention.k_lin.bias count_params:768\u001b[0m\n",
      "\u001b[34m[2021-06-02 08:02:09.352 algo-1:37 INFO hook.py:584] name:model.transformer.layer.5.attention.v_lin.weight count_params:589824\u001b[0m\n",
      "\u001b[34m[2021-06-02 08:02:09.353 algo-1:37 INFO hook.py:584] name:model.transformer.layer.5.attention.v_lin.bias count_params:768\u001b[0m\n",
      "\u001b[34m[2021-06-02 08:02:09.353 algo-1:37 INFO hook.py:584] name:model.transformer.layer.5.attention.out_lin.weight count_params:589824\u001b[0m\n",
      "\u001b[34m[2021-06-02 08:02:09.353 algo-1:37 INFO hook.py:584] name:model.transformer.layer.5.attention.out_lin.bias count_params:768\u001b[0m\n",
      "\u001b[34m[2021-06-02 08:02:09.353 algo-1:37 INFO hook.py:584] name:model.transformer.layer.5.sa_layer_norm.weight count_params:768\u001b[0m\n",
      "\u001b[34m[2021-06-02 08:02:09.353 algo-1:37 INFO hook.py:584] name:model.transformer.layer.5.sa_layer_norm.bias count_params:768\u001b[0m\n",
      "\u001b[34m[2021-06-02 08:02:09.353 algo-1:37 INFO hook.py:584] name:model.transformer.layer.5.ffn.lin1.weight count_params:2359296\u001b[0m\n",
      "\u001b[34m[2021-06-02 08:02:09.353 algo-1:37 INFO hook.py:584] name:model.transformer.layer.5.ffn.lin1.bias count_params:3072\u001b[0m\n",
      "\u001b[34m[2021-06-02 08:02:09.353 algo-1:37 INFO hook.py:584] name:model.transformer.layer.5.ffn.lin2.weight count_params:2359296\u001b[0m\n",
      "\u001b[34m[2021-06-02 08:02:09.353 algo-1:37 INFO hook.py:584] name:model.transformer.layer.5.ffn.lin2.bias count_params:768\u001b[0m\n",
      "\u001b[34m[2021-06-02 08:02:09.353 algo-1:37 INFO hook.py:584] name:model.transformer.layer.5.output_layer_norm.weight count_params:768\u001b[0m\n",
      "\u001b[34m[2021-06-02 08:02:09.353 algo-1:37 INFO hook.py:584] name:model.transformer.layer.5.output_layer_norm.bias count_params:768\u001b[0m\n",
      "\u001b[34m[2021-06-02 08:02:09.353 algo-1:37 INFO hook.py:584] name:classifier.weight count_params:8448\u001b[0m\n",
      "\u001b[34m[2021-06-02 08:02:09.353 algo-1:37 INFO hook.py:584] name:classifier.bias count_params:11\u001b[0m\n",
      "\u001b[34m[2021-06-02 08:02:09.354 algo-1:37 INFO hook.py:586] Total Trainable Params: 66371339\u001b[0m\n",
      "\u001b[34m[2021-06-02 08:02:09.354 algo-1:37 INFO hook.py:413] Monitoring the collections: losses\u001b[0m\n",
      "\u001b[34m[2021-06-02 08:02:09.356 algo-1:37 INFO hook.py:476] Hook is writing from the hook with pid: 37\n",
      "\u001b[0m\n"
     ]
    },
    {
     "name": "stdout",
     "output_type": "stream",
     "text": [
      "\n",
      "2021-06-02 08:02:22 Uploading - Uploading generated training model\n",
      "2021-06-02 08:02:22 Failed - Training job failed\n",
      "ProfilerReport-1622620517: Stopping\n",
      "\u001b[34m#015Validation sanity check:  50%|█████     | 1/2 [00:01<00:01,  1.52s/it]#015                                                                      #015#015Training: 0it [00:00, ?it/s]#015Training:   0%|          | 0/3008 [00:00<?, ?it/s]#015Epoch 0:   0%|          | 0/3008 [00:00<?, ?it/s] #015Downloading:   0%|          | 0.00/442 [00:00<?, ?B/s]#015Downloading: 100%|██████████| 442/442 [00:00<00:00, 694kB/s]\u001b[0m\n",
      "\u001b[34m#015Downloading:   0%|          | 0.00/232k [00:00<?, ?B/s]#015Downloading: 100%|██████████| 232k/232k [00:00<00:00, 44.0MB/s]\u001b[0m\n",
      "\u001b[34m#015Downloading:   0%|          | 0.00/466k [00:00<?, ?B/s]#015Downloading: 100%|██████████| 466k/466k [00:00<00:00, 45.8MB/s]\u001b[0m\n",
      "\u001b[34m#015Downloading:   0%|          | 0.00/28.0 [00:00<?, ?B/s]#015Downloading: 100%|██████████| 28.0/28.0 [00:00<00:00, 42.0kB/s]\u001b[0m\n",
      "\u001b[34m#015Downloading:   0%|          | 0.00/268M [00:00<?, ?B/s]#015Downloading:   2%|▏         | 4.66M/268M [00:00<00:05, 46.6MB/s]#015Downloading:   4%|▎         | 9.49M/268M [00:00<00:05, 47.1MB/s]#015Downloading:   5%|▌         | 14.3M/268M [00:00<00:05, 47.5MB/s]#015Downloading:   7%|▋         | 19.2M/268M [00:00<00:05, 47.9MB/s]#015Downloading:   9%|▊         | 23.1M/268M [00:00<00:05, 44.9MB/s]#015Downloading:  11%|█         | 28.2M/268M [00:00<00:05, 46.4MB/s]#015Downloading:  12%|█▏        | 33.2M/268M [00:00<00:04, 47.5MB/s]#015Downloading:  14%|█▍        | 38.3M/268M [00:00<00:04, 48.4MB/s]#015Downloading:  16%|█▌        | 43.4M/268M [00:00<00:04, 49.3MB/s]#015Downloading:  18%|█▊        | 48.7M/268M [00:01<00:04, 50.1MB/s]#015Downloading:  20%|██        | 53.8M/268M [00:01<00:04, 50.6MB/s]#015Downloading:  22%|██▏       | 58.8M/268M [00:01<00:04, 46.8MB/s]#015Downloading:  24%|██▍       | 64.0M/268M [00:01<00:04, 48.2MB/s]#015Downloading:  26%|██▌       | 69.6M/268M [00:01<00:03, 50.3MB/s]#015Downloading:  28%|██▊       | 75.2M/268M [00:01<00:03, 52.0MB/s]#015Downloading:  30%|███       | 80.9M/268M [00:01<00:03, 53.1MB/s]#015Downloading:  32%|███▏      | 86.6M/268M [00:01<00:03, 54.3MB/s]#015Downloading:  35%|███▍      | 92.5M/268M [00:01<00:03, 55.6MB/s]#015Downloading:  37%|███▋      | 98.4M/268M [00:01<00:02, 56.7MB/s]#015Downloading:  39%|███▉      | 104M/268M [00:02<00:02, 57.3MB/s] #015Downloading:  41%|████      | 110M/268M [00:02<00:02, 57.9MB/s]#015Downloading:  43%|████▎     | 116M/268M [00:02<00:02, 58.3MB/s]#015Downloading:  46%|████▌     | 122M/268M [00:02<00:02, 58.7MB/s]#015Downloading:  48%|████▊     | 128M/268M [00:02<00:02, 59.0MB/s]#015Downloading:  50%|█████     | 134M/268M [00:02<00:02, 58.3MB/s]#015Downloading:  52%|█████▏    | 140M/268M [00:02<00:02, 58.6MB/s]#015Downloading:  54%|█████▍    | 146M/268M [00:02<00:02, 58.8MB/s]#015Downloading:  57%|█████▋    | 152M/268M [00:02<00:01, 59.0MB/s]#015Downloading:  59%|█████▉    | 158M/268M [00:02<00:01, 59.1MB/s]#015Downloading:  61%|██████    | 164M/268M [00:03<00:01, 59.1MB/s]#015Downloading:  63%|██████▎   | 170M/268M [00:03<00:01, 59.2MB/s]#015Downloading:  65%|██████▌   | 176M/268M [00:03<00:01, 59.2MB/s]#015Downloading:  68%|██████▊   | 181M/268M [00:03<00:01, 59.2MB/s]#015Downloading:  70%|██████▉   | 187M/268M [00:03<00:01, 59.1MB/s]#015Downloading:  72%|███████▏  | 193M/268M [00:03<00:01, 58.5MB/s]#015Downloading:  74%|███████▍  | 199M/268M [00:03<00:01, 58.7MB/s]#015Downloading:  77%|███████▋  | 205M/268M [00:03<00:01, 58.7MB/s]#015Downloading:  79%|███████▊  | 211M/268M [00:03<00:00, 58.5MB/s]#015Downloading:  81%|████████  | 217M/268M [00:03<00:00, 58.4MB/s]#015Downloading:  83%|████████▎ | 223M/268M [00:04<00:00, 58.6MB/s]#015Downloading:  85%|████████▌ | 229M/268M [00:04<00:00, 58.6MB/s]#015Downloading:  87%|████████▋ | 234M/268M [00:04<00:00, 58.6MB/s]#015Downloading:  90%|████████▉ | 240M/268M [00:04<00:00, 58.9MB/s]#015Downloading:  92%|█████████▏| 246M/268M [00:04<00:00, 58.9MB/s]#015Downloading:  94%|█████████▍| 252M/268M [00:04<00:00, 58.3MB/s]#015Downloading:  96%|█████████▋| 258M/268M [00:04<00:00, 58.6MB/s]#015Downloading:  99%|█████████▊| 264M/268M [00:04<00:00, 58.8MB/s]#015Downloading: 100%|██████████| 268M/268M [00:04<00:00, 55.7MB/s]\u001b[0m\n",
      "\u001b[34mSome weights of the model checkpoint at distilbert-base-uncased were not used when initializing DistilBertModel: ['vocab_transform.weight', 'vocab_projector.weight', 'vocab_projector.bias', 'vocab_transform.bias', 'vocab_layer_norm.weight', 'vocab_layer_norm.bias']\u001b[0m\n",
      "\u001b[34m- This IS expected if you are initializing DistilBertModel from the checkpoint of a model trained on another task or with another architecture (e.g. initializing a BertForSequenceClassification model from a BertForPreTraining model).\u001b[0m\n",
      "\u001b[34m- This IS NOT expected if you are initializing DistilBertModel from the checkpoint of a model that you expect to be exactly identical (initializing a BertForSequenceClassification model from a BertForSequenceClassification model).\u001b[0m\n",
      "\u001b[34mGPU available: True, used: True\u001b[0m\n",
      "\u001b[34mTPU available: False, using: 0 TPU cores\u001b[0m\n",
      "\u001b[34mLOCAL_RANK: 0 - CUDA_VISIBLE_DEVICES: [0]\n",
      "\n",
      "  | Name       | Type              | Params\u001b[0m\n",
      "\u001b[34m-------------------------------------------------\u001b[0m\n",
      "\u001b[34m0 | model      | DistilBertModel   | 66.4 M\u001b[0m\n",
      "\u001b[34m1 | classifier | Linear            | 8.5 K \u001b[0m\n",
      "\u001b[34m2 | criterion  | BCEWithLogitsLoss | 0     \u001b[0m\n",
      "\u001b[34m-------------------------------------------------\u001b[0m\n",
      "\u001b[34m66.4 M    Trainable params\u001b[0m\n",
      "\u001b[34m0         Non-trainable params\u001b[0m\n",
      "\u001b[34m66.4 M    Total params\u001b[0m\n",
      "\u001b[34m265.485   Total estimated model params size (MB)\u001b[0m\n",
      "\u001b[34m/opt/conda/lib/python3.6/site-packages/pytorch_lightning/utilities/distributed.py:69: UserWarning: The dataloader, val dataloader 0, does not have many workers which may be a bottleneck. Consider increasing the value of the `num_workers` argument` (try 8 which is the number of cpus on this machine) in the `DataLoader` init to improve performance.\n",
      "  warnings.warn(*args, **kwargs)\u001b[0m\n",
      "\u001b[34m/opt/conda/lib/python3.6/site-packages/pytorch_lightning/utilities/distributed.py:69: UserWarning: The dataloader, train dataloader, does not have many workers which may be a bottleneck. Consider increasing the value of the `num_workers` argument` (try 8 which is the number of cpus on this machine) in the `DataLoader` init to improve performance.\n",
      "  warnings.warn(*args, **kwargs)\u001b[0m\n",
      "\u001b[34mTraceback (most recent call last):\n",
      "  File \"train.py\", line 216, in <module>\n",
      "    trainer.fit(model, data)\n",
      "  File \"/opt/conda/lib/python3.6/site-packages/pytorch_lightning/trainer/trainer.py\", line 458, in fit\n",
      "    self._run(model)\n",
      "  File \"/opt/conda/lib/python3.6/site-packages/pytorch_lightning/trainer/trainer.py\", line 756, in _run\n",
      "    self.dispatch()\n",
      "  File \"/opt/conda/lib/python3.6/site-packages/pytorch_lightning/trainer/trainer.py\", line 797, in dispatch\n",
      "    self.accelerator.start_training(self)\n",
      "  File \"/opt/conda/lib/python3.6/site-packages/pytorch_lightning/accelerators/accelerator.py\", line 96, in start_training\n",
      "    self.training_type_plugin.start_training(trainer)\n",
      "  File \"/opt/conda/lib/python3.6/site-packages/pytorch_lightning/plugins/training_type/training_type_plugin.py\", line 144, in start_training\n",
      "    self._results = trainer.run_stage()\n",
      "  File \"/opt/conda/lib/python3.6/site-packages/pytorch_lightning/trainer/trainer.py\", line 807, in run_stage\n",
      "    return self.run_train()\n",
      "  File \"/opt/conda/lib/python3.6/site-packages/pytorch_lightning/trainer/trainer.py\", line 869, in run_train\n",
      "    self.train_loop.run_training_epoch()\n",
      "  File \"/opt/conda/lib/python3.6/site-packages/pytorch_lightning/trainer/training_loop.py\", line 489, in run_training_epoch\n",
      "    batch_output = self.run_training_batch(batch, batch_idx, dataloader_idx)\n",
      "  File \"/opt/conda/lib/python3.6/site-packages/pytorch_lightning/trainer/training_loop.py\", line 728, in run_training_batch\n",
      "    self.optimizer_step(optimizer, opt_idx, batch_idx, train_step_and_backward_closure)\n",
      "  File \"/opt/conda/lib/python3.6/site-packages/pytorch_lightning/trainer/training_loop.py\", line 432, in optimizer_step\n",
      "    using_lbfgs=is_lbfgs,\n",
      "  File \"/opt/conda/lib/python3.6/site-packages/pytorch_lightning/core/lightning.py\", line 1403, in optimizer_step\n",
      "    optimizer.step(closure=optimizer_closure)\n",
      "  File \"/opt/conda/lib/python3.6/site-packages/pytorch_lightning/core/optimizer.py\", line 214, in step\n",
      "    self.__optimizer_step(*args, closure=closure, profiler_name=profiler_name, **kwargs)\n",
      "  File \"/opt/conda/lib/python3.6/site-packages/pytorch_lightning/core/optimizer.py\", line 134, in __optimizer_step\n",
      "    trainer.accelerator.optimizer_step(optimizer, self._optimizer_idx, lambda_closure=closure, **kwargs)\n",
      "  File \"/opt/conda/lib/python3.6/site-packages/pytorch_lightning/accelerators/accelerator.py\", line 329, in optimizer_step\n",
      "    self.run_optimizer_step(optimizer, opt_idx, lambda_closure, **kwargs)\n",
      "  File \"/opt/conda/lib/python3.6/site-packages/pytorch_lightning/accelerators/accelerator.py\", line 336, in run_optimizer_step\n",
      "    self.training_type_plugin.optimizer_step(optimizer, lambda_closure=lambda_closure, **kwargs)\n",
      "  File \"/opt/conda/lib/python3.6/site-packages/pytorch_lightning/plugins/training_type/training_type_plugin.py\", line 193, in optimizer_step\n",
      "    optimizer.step(closure=lambda_closure, **kwargs)\n",
      "  File \"/opt/conda/lib/python3.6/site-packages/torch/optim/lr_scheduler.py\", line 65, in wrapper\n",
      "    return wrapped(*args, **kwargs)\n",
      "  File \"/opt/conda/lib/python3.6/site-packages/torch/optim/optimizer.py\", line 89, in wrapper\n",
      "    return func(*args, **kwargs)\n",
      "  File \"/opt/conda/lib/python3.6/site-packages/transformers/optimization.py\", line 318, in step\n",
      "    loss = closure()\n",
      "  File \"/opt/conda/lib/python3.6/site-packages/pytorch_lightning/trainer/training_loop.py\", line 723, in train_step_and_backward_closure\n",
      "    split_batch, batch_idx, opt_idx, optimizer, self.trainer.hiddens\n",
      "  File \"/opt/conda/lib/python3.6/site-packages/pytorch_lightning/trainer/training_loop.py\", line 813, in training_step_and_backward\n",
      "    result = self.training_step(split_batch, batch_idx, opt_idx, hiddens)\n",
      "  File \"/opt/conda/lib/python3.6/site-packages/pytorch_lightning/trainer/training_loop.py\", line 280, in training_step\n",
      "    training_step_output = self.trainer.accelerator.training_step(args)\n",
      "  File \"/opt/conda/lib/python3.6/site-packages/pytorch_lightning/accelerators/accelerator.py\", line 204, in training_step\n",
      "    return self.training_type_plugin.training_step(*args)\n",
      "  File \"/opt/conda/lib/python3.6/site-packages/pytorch_lightning/plugins/training_type/training_type_plugin.py\", line 155, in training_step\n",
      "    return self.lightning_module.training_step(*args, **kwargs)\n",
      "  File \"train.py\", line 168, in training_step\n",
      "    self.compute_metrics(outputs, labels)\n",
      "  File \"train.py\", line 66, in compute_metrics\n",
      "    f1_score(labels.cpu().long().view(-1), sigmoid(outputs).cpu().view(-1))\n",
      "  File \"/opt/conda/lib/python3.6/site-packages/sklearn/utils/validation.py\", line 63, in inner_f\n",
      "    return f(*args, **kwargs)\n",
      "  File \"/opt/conda/lib/python3.6/site-packages/sklearn/metrics/_classification.py\", line 1071, in f1_score\n",
      "    zero_division=zero_division)\n",
      "  File \"/opt/conda/lib/python3.6/site-packages/sklearn/utils/validation.py\", line 63, in inner_f\n",
      "    return f(*args, **kwargs)\n",
      "  File \"/opt/conda/lib/python3.6/site-packages/sklearn/metrics/_classification.py\", line 1199, in fbeta_score\n",
      "    zero_division=zero_division)\n",
      "  File \"/opt/conda/lib/python3.6/site-packages/sklearn/utils/validation.py\", line 63, in inner_f\n",
      "    return f(*args, **kwargs)\n",
      "  File \"/opt/conda/lib/python3.6/site-packages/sklearn/metrics/_classification.py\", line 1462, in precision_recall_fscore_support\n",
      "    pos_label)\n",
      "  File \"/opt/conda/lib/python3.6/site-packages/sklearn/metrics/_classification.py\", line 1274, in _check_set_wise_labels\u001b[0m\n",
      "\u001b[34m2021-06-02 08:02:11,967 sagemaker-training-toolkit ERROR    ExecuteUserScriptError:\n",
      "    y_type, y_true, y_pred = _check_targets(y_true, y_pred)\u001b[0m\n",
      "\u001b[34mCommand \"/opt/conda/bin/python3.6 train.py --epochs 1 --model_name distilbert-base-uncased --n_classes 11 --train_batch_size 32\"\n",
      "  File \"/opt/conda/lib/python3.6/site-packages/sklearn/metrics/_classification.py\", line 85, in _check_targets\u001b[0m\n",
      "\u001b[34m#015Downloading:   0%|          | 0.00/442 [00:00<?, ?B/s]#015Downloading: 100%|ââââââââââ| 442/442 [00:00<00:00, 694kB/s]\n",
      "    type_pred = type_of_target(y_pred)\n",
      "  File \"/opt/conda/lib/python3.6/site-packages/sklearn/utils/multiclass.py\", line 261, in type_of_target\n",
      "    if is_multilabel(y):\n",
      "  File \"/opt/conda/lib/python3.6/site-packages/sklearn/utils/multiclass.py\", line 147, in is_multilabel\n",
      "    y = np.asarray(y)\n",
      "  File \"/opt/conda/lib/python3.6/site-packages/numpy/core/_asarray.py\", line 83, in asarray\n",
      "    return array(a, dtype, copy=False, order=order)\n",
      "  File \"/opt/conda/lib/python3.6/site-packages/torch/tensor.py\", line 621, in __array__\n",
      "    return self.numpy()\u001b[0m\n",
      "\u001b[34mRuntimeError: Can't call numpy() on Tensor that requires grad. Use tensor.detach().numpy() instead.\n",
      "\u001b[0m\n",
      "\u001b[34m#015Downloading:   0%|          | 0.00/232k [00:00<?, ?B/s]#015Downloading: 100%|ââââââââââ| 232k/232k [00:00<00:00, 44.0MB/s]\u001b[0m\n",
      "\u001b[34m#015Downloading:   0%|          | 0.00/466k [00:00<?, ?B/s]#015Downloading: 100%|ââââââââââ| 466k/466k [00:00<00:00, 45.8MB/s]\u001b[0m\n",
      "\u001b[34m#015Downloading:   0%|          | 0.00/28.0 [00:00<?, ?B/s]#015Downloading: 100%|ââââââââââ| 28.0/28.0 [00:00<00:00, 42.0kB/s]\u001b[0m\n",
      "\u001b[34m#015Downloading:   0%|          | 0.00/268M [00:00<?, ?B/s]#015Downloading:   2%|â         | 4.66M/268M [00:00<00:05, 46.6MB/s]#015Downloading:   4%|â         | 9.49M/268M [00:00<00:05, 47.1MB/s]#015Downloading:   5%|â         | 14.3M/268M [00:00<00:05, 47.5MB/s]#015Downloading:   7%|â         | 19.2M/268M [00:00<00:05, 47.9MB/s]#015Downloading:   9%|â         | 23.1M/268M [00:00<00:05, 44.9MB/s]#015Downloading:  11%|â         | 28.2M/268M [00:00<00:05, 46.4MB/s]#015Downloading:  12%|ââ        | 33.2M/268M [00:00<00:04, 47.5MB/s]#015Downloading:  14%|ââ        | 38.3M/268M [00:00<00:04, 48.4MB/s]#015Downloading:  16%|ââ        | 43.4M/268M [00:00<00:04, 49.3MB/s]#015Downloading:  18%|ââ        | 48.7M/268M [00:01<00:04, 50.1MB/s]#015Downloading:  20%|ââ        | 53.8M/268M [00:01<00:04, 50.6MB/s]#015Downloading:  22%|âââ       | 58.8M/268M [00:01<00:04, 46.8MB/s]#015Downloading:  24%|âââ       | 64.0M/268M [00:01<00:04, 48.2MB/s]#015Downloading:  26%|âââ       | 69.6M/268M [00:01<00:03, 50.3MB/s]#015Downloading:  28%|âââ       | 75.2M/268M [00:01<00:03, 52.0MB/s]#015Downloading:  30%|âââ       | 80.9M/268M [00:01<00:03, 53.1MB/s]#015Downloading:  32%|ââââ      | 86.6M/268M [00:01<00:03, 54.3MB/s]#015Downloading:  35%|ââââ      | 92.5M/268M [00:01<00:03, 55.6MB/s]#015Downloading:  37%|ââââ      | 98.4M/268M [00:01<00:02, 56.7MB/s]#015Downloading:  39%|ââââ      | 104M/268M [00:02<00:02, 57.3MB/s] #015Downloading:  41%|ââââ      | 110M/268M [00:02<00:02, 57.9MB/s]#015Downloading:  43%|âââââ     | 116M/268M [00:02<00:02, 58.3MB/s]#015Downloading:  46%|âââââ     | 122M/268M [00:02<00:02, 58.7MB/s]#015Downloading:  48%|âââââ     | 128M/268M [00:02<00:02, 59.0MB/s]#015Downloading:  50%|âââââ     | 134M/268M [00:02<00:02, 58.3MB/s]#015Downloading:  52%|ââââââ    | 140M/268M [00:02<00:02, 58.6MB/s]#015Downloading:  54%|ââââââ    | 146M/268M [00:02<00:02, 58.8MB/s]#015Downloading:  57%|ââââââ    | 152M/268M [00:02<00:01, 59.0MB/s]#015Downloading:  59%|ââââââ    | 158M/268M [00:02<00:01, 59.1MB/s]#015Downloading:  61%|ââââââ    | 164M/268M [00:03<00:01, 59.1MB/s]#015Downloading:  63%|âââââââ   | 170M/268M [00:03<00:01, 59.2MB/s]#015Downloading:  65%|âââââââ   | 176M/268M [00:03<00:01, 59.2MB/s]#015Downloading:  68%|âââââââ   | 181M/268M [00:03<00:01, 59.2MB/s]#015Downloading:  70%|âââââââ   | 187M/268M [00:03<00:01, 59.1MB/s]#015Downloading:  72%|ââââââââ  | 193M/268M [00:03<00:01, 58.5MB/s]#015Downloading:  74%|ââââââââ  | 199M/268M [00:03<00:01, 58.7MB/s]#015Downloading:  77%|ââââââââ  | 205M/268M [00:03<00:01, 58.7MB/s]#015Downloading:  79%|ââââââââ  | 211M/268M [00:03<00:00, 58.5MB/s]#015Downloading:  81%|ââââââââ  | 217M/268M [00:03<00:00, 58.4MB/s]#015Downloading:  83%|âââââââââ | 223M/268M [00:04<00:00, 58.6MB/s]#015Downloading:  85%|âââââââââ | 229M/268M [00:04<00:00, 58.6MB/s]#015Downloading:  87%|âââââââââ | 234M/268M [00:04<00:00, 58.6MB/s]#015Downloading:  90%|âââââââââ | 240M/268M [00:04<00:00, 58.9MB/s]#015Downloading:  92%|ââââââââââ| 246M/268M [00:04<00:00, 58.9MB/s]#015Downloading:  94%|ââââââââââ| 252M/268M [00:04<00:00, 58.3MB/s]#015Downloading:  96%|ââââââââââ| 258M/268M [00:04<00:00, 58.6MB/s]#015Downloading:  99%|ââââââââââ| 264M/268M [00:04<00:00, 58.8MB/s]#015Downloading: 100%|ââââââââââ| 268M/268M [00:04<00:00, 55.7MB/s]\u001b[0m\n",
      "\u001b[34mSome weights of the model checkpoint at distilbert-base-uncased were not used when initializing DistilBertModel: ['vocab_transform.weight', 'vocab_projector.weight', 'vocab_projector.bias', 'vocab_transform.bias', 'vocab_layer_norm.weight', 'vocab_layer_norm.bias']\u001b[0m\n",
      "\u001b[34m- This IS expected if you are initializing DistilBertModel from the checkpoint of a model trained on another task or with another architecture (e.g. initializing a BertForSequenceClassification model from a BertForPreTraining model).\u001b[0m\n",
      "\u001b[34m- This IS NOT expected if you are initializing DistilBertModel from the checkpoint of a model that you expect to be exactly identical (initializing a BertForSequenceClassification model from a BertForSequenceClassification model).\u001b[0m\n",
      "\u001b[34mGPU available: True, used: True\u001b[0m\n",
      "\u001b[34mTPU available: False, using: 0 TPU cores\u001b[0m\n",
      "\u001b[34mLOCAL_RANK: 0 - CUDA_VISIBLE_DEVICES: [0]\n",
      "\n",
      "  | Name       | Type              | Params\u001b[0m\n",
      "\u001b[34m-------------------------------------------------\u001b[0m\n",
      "\u001b[34m0 | model      | DistilBertModel   | 66.4 M\u001b[0m\n",
      "\u001b[34m1 | classifier | Linear            | 8.5 K \u001b[0m\n",
      "\u001b[34m2 | criterion  | BCEWithLogitsLoss | 0     \u001b[0m\n",
      "\u001b[34m-------------------------------------------------\u001b[0m\n",
      "\u001b[34m66.4 M    Trainable params\u001b[0m\n",
      "\u001b[34m0         Non-trainable params\u001b[0m\n",
      "\u001b[34m66.4 M    Total params\u001b[0m\n",
      "\u001b[34m265.485   Total estimated model params size (MB)\u001b[0m\n",
      "\u001b[34m/opt/conda/lib/python3.6/site-packages/pytorch_lightning/utilities/distributed.py:69: UserWarning: The dataloader, val dataloader 0, does not have many workers which may be a bottleneck. Consider increasing the value of the `num_workers` argument` (try 8 which is the number of cpus on this machine) in the `DataLoader` init to improve performance.\n",
      "  warnings.warn(*args, **kwargs)\u001b[0m\n",
      "\u001b[34m/opt/conda/lib/python3.6/site-packages/pytorch_lightning/utilities/distributed.py:69: UserWarning: The dataloader, train dataloader, does not have many workers which may be a bottleneck. Consider increasing the value of the `num_workers` argument` (try 8 which is the number of cpus on this machine) in the `DataLoader` init to improve performance.\n",
      "  warnings.warn(*args, **kwargs)\u001b[0m\n",
      "\u001b[34mTraceback (most recent call last):\n",
      "  File \"train.py\", line 216, in <module>\n",
      "    trainer.fit(model, data)\n",
      "  File \"/opt/conda/lib/python3.6/site-packages/pytorch_lightning/trainer/trainer.py\", line 458, in fit\n",
      "    self._run(model)\n",
      "  File \"/opt/conda/lib/python3.6/site-packages/pytorch_lightning/trainer/trainer.py\", line 756, in _run\n",
      "    self.dispatch()\n",
      "  File \"/opt/conda/lib/python3.6/site-packages/pytorch_lightning/trainer/trainer.py\", line 797, in dispatch\n",
      "    self.accelerator.start_training(self)\n",
      "  File \"/opt/conda/lib/python3.6/site-packages/pytorch_lightning/accelerators/accelerator.py\", line 96, in start_training\n",
      "    self.training_type_plugin.start_training(trainer)\n",
      "  File \"/opt/conda/lib/python3.6/site-packages/pytorch_lightning/plugins/training_type/training_type_plugin.py\", line 144, in start_training\n",
      "    self._results = trainer.run_stage()\n",
      "  File \"/opt/conda/lib/python3.6/site-packages/pytorch_lightning/trainer/trainer.py\", line 807, in run_stage\n",
      "    return self.run_train()\n",
      "  File \"/opt/conda/lib/python3.6/site-packages/pytorch_lightning/trainer/trainer.py\", line 869, in run_train\n",
      "    self.train_loop.run_training_epoch()\n",
      "  File \"/opt/conda/lib/python3.6/site-packages/pytorch_lightning/trainer/training_loop.py\", line 489, in run_training_epoch\n",
      "    batch_output = self.run_training_batch(batch, batch_idx, dataloader_idx)\n",
      "  File \"/opt/conda/lib/python3.6/site-packages/pytorch_lightning/trainer/training_loop.py\", line 728, in run_training_batch\n",
      "    self.optimizer_step(optimizer, opt_idx, batch_idx, train_step_and_backward_closure)\n",
      "  File \"/opt/conda/lib/python3.6/site-packages/pytorch_lightning/trainer/training_loop.py\", line 432, in optimizer_step\n",
      "    using_lbfgs=is_lbfgs,\n",
      "  File \"/opt/conda/lib/python3.6/site-packages/pytorch_lightning/core/lightning.py\", line 1403, in optimizer_step\n",
      "    optimizer.step(closure=optimizer_closure)\n",
      "  File \"/opt/conda/lib/python3.6/site-packages/pytorch_lightning/core/optimizer.py\", line 214, in step\n",
      "    self.__optimizer_step(*args, closure=closure, profiler_name=profiler_name, **kwargs)\n",
      "  File \"/opt/conda/lib/python3.6/site-packages/pytorch_lightning/core/optimizer.py\", line 134, in __optimizer_step\n",
      "    trainer.accelerator.optimizer_step(optimizer, self._optimizer_idx, lambda_closure=closure, **kwargs)\n",
      "  File \"/opt/conda/lib/python3.6/site-packages/pytorch_lightning/accelerators/accelerator.py\", line 329, in optimizer_step\n",
      "    self.run_optimizer_step(optimizer, opt_idx, lambda_closure, **kwargs)\n",
      "  File \"/opt/conda/lib/python3.6/site-packages/pytorch_lightning/accelerators/accelerator.py\", line 336, in run_optimizer_step\n",
      "    self.training_type_plugin.optimizer_step(optimizer, lambda_closure=lambda_closure, **kwargs)\n",
      "  File \"/opt/conda/lib/python3.6/site-packages/pytorch_lightning/plugins/training_type/training_type_plugin.py\", line 193, in optimizer_step\n",
      "    optimizer.step(closure=lambda_closure, **kwargs)\n",
      "  File \"/opt/conda/lib/python3.6/site-packages/torch/optim/lr_scheduler.py\", line 65, in wrapper\n",
      "    return wrapped(*args, **kwargs)\n",
      "  File \"/opt/conda/lib/python3.6/site-packages/torch/optim/optimizer.py\", line 89, in wrapper\n",
      "    return func(*args, **kwargs)\n",
      "  File \"/opt/conda/lib/python3.6/site-packages/transformers/optimization.py\", line 318, in step\n",
      "    loss = closure()\n",
      "  File \"/opt/conda/lib/python3.6/site-packages/pytorch_lightning/trainer/training_loop.py\", line 723, in train_step_and_backward_closure\n",
      "    split_batch, batch_idx, opt_idx, optimizer, self.trainer.hiddens\n",
      "  File \"/opt/conda/lib/python3.6/site-packages/pytorch_lightning/trainer/training_loop.py\", line 813, in training_step_and_backward\n",
      "    result = self.training_step(split_batch, batch_idx, opt_idx, hiddens)\n",
      "  File \"/opt/conda/lib/python3.6/site-packages/pytorch_lightning/trainer/training_loop.py\", line 280, in training_step\n",
      "    training_step_output = self.trainer.accelerator.training_step(args)\n",
      "  File \"/opt/conda/lib/python3.6/site-packages/pytorch_lightning/accelerators/accelerator.py\", line 204, in training_step\n",
      "    return self.training_type_plugin.training_step(*args)\n",
      "  File \"/opt/conda/lib/python3.6/site-packages/pytorch_lightning/plugins/training_type/training_type_plugin.py\", line 155, in training_step\n",
      "    return self.lightning_module.training_step(*args, **kwargs)\n",
      "  File \"train.py\", line 168, in training_step\n",
      "    self.compute_metrics(outputs, labels)\n",
      "  File \"train.py\", line 66, in compute_metrics\n",
      "    f1_score(labels.cpu().long().view(-1), sigmoid(outputs).cpu().view(-1))\n",
      "  File \"/opt/conda/lib/python3.6/site-packages/sklearn/utils/validation.py\", line 63, in inner_f\n",
      "    return f(*args, **kwargs)\n",
      "  File \"/opt/conda/lib/python3.6/site-packages/sklearn/metrics/_classification.py\", line 1071, in f1_score\n",
      "    zero_division=zero_division)\n",
      "  File \"/opt/conda/lib/python3.6/site-packages/sklearn/utils/validation.py\", line 63, in inner_f\n",
      "    return f(*args, **kwargs)\n",
      "  File \"/opt/conda/lib/python3.6/site-packages/sklearn/metrics/_classification.py\", line 1199, in fbeta_score\n",
      "    zero_division=zero_division)\n",
      "  File \"/opt/conda/lib/python3.6/site-packages/sklearn/utils/validation.py\", line 63, in inner_f\n",
      "    return f(*args, **kwargs)\n",
      "  File \"/opt/conda/lib/python3.6/site-packages/sklearn/metrics/_classification.py\", line 1462, in precision_recall_fscore_support\n",
      "    pos_label)\n",
      "  File \"/opt/conda/lib/python3.6/site-packages/sklearn/metrics/_classification.py\", line 1274, in _check_set_wise_labels\n",
      "    y_type, y_true, y_pred = _check_targets(y_true, y_pred)\n",
      "  File \"/opt/conda/lib/python3.6/site-packages/sklearn/metrics/_classification.py\", line 85, in _check_targets\n",
      "    type_pred = type_of_target(y_pred)\n",
      "  File \"/opt/conda/lib/python3.6/site-packages/sklearn/utils/multiclass.py\", line 261, in type_of_target\n",
      "    if is_multilabel(y):\n",
      "  File \"/opt/conda/lib/python3.6/site-packages/sklearn/utils/multiclass.py\", line 147, in is_multilabel\n",
      "    y = np.asarray(y)\n",
      "  File \"/opt/conda/lib/python3.6/site-packages/numpy/core/_asarray.py\", line 83, in asarray\n",
      "    return array(a, dtype, copy=False, order=order)\n",
      "  File \"/opt/conda/lib/python3.6/site-packages/torch/tensor.py\", line 621, in __array__\n",
      "    return self.numpy()\u001b[0m\n",
      "\u001b[34mRuntimeError: Can't call numpy() on Tensor that requires grad. Use tensor.detach().numpy() instead.\u001b[0m\n"
     ]
    },
    {
     "ename": "UnexpectedStatusException",
     "evalue": "Error for Training job pytorch-training-2021-06-02-09-54-54-518: Failed. Reason: AlgorithmError: ExecuteUserScriptError:\nCommand \"/opt/conda/bin/python3.6 train.py --epochs 1 --model_name distilbert-base-uncased --n_classes 11 --train_batch_size 32\"\n\rDownloading:   0%|          | 0.00/442 [00:00<?, ?B/s]\rDownloading: 100%|ââââââââââ| 442/442 [00:00<00:00, 694kB/s]\n\rDownloading:   0%|          | 0.00/232k [00:00<?, ?B/s]\rDownloading: 100%|ââââââââââ| 232k/232k [00:00<00:00, 44.0MB/s]\n\rDownloading:   0%|          | 0.00/466k [00:00<?, ?B/s]\rDownloading: 100%|ââââââââââ| 466k/466k [00:00<00:00, 45.8MB/s]\n\rDownloading:   0%|          | 0.00/28.0 [00:00<?, ?B/s]\rDownloading: 100%|ââââââââââ| 28.0/28.0 [00:00<00:00, 42.0kB/s]\n\rDownloading:   0%|          | 0.00/268M [00:00<?, ?B/s]\rDownloading:   2%|â         | 4.66M/268M [00:00<00:05, 46.6MB/s]\rDownloading:   4%|â         | 9.49M/268M [00:00<00:05, 47.1MB/s]\rDownloading:   5%|â         | 14.3M/268M [00:00<00:05, 47.5MB/s]\rDownloading:   7%|â         | 19.2M",
     "output_type": "error",
     "traceback": [
      "\u001b[0;31m---------------------------------------------------------------------------\u001b[0m",
      "\u001b[0;31mUnexpectedStatusException\u001b[0m                 Traceback (most recent call last)",
      "\u001b[0;32m<ipython-input-18-92202d0fe8c3>\u001b[0m in \u001b[0;36m<module>\u001b[0;34m\u001b[0m\n\u001b[0;32m----> 1\u001b[0;31m \u001b[0mestimator\u001b[0m\u001b[0;34m.\u001b[0m\u001b[0mfit\u001b[0m\u001b[0;34m(\u001b[0m\u001b[0mfit_arguments\u001b[0m\u001b[0;34m,\u001b[0m \u001b[0mjob_name\u001b[0m\u001b[0;34m=\u001b[0m\u001b[0mjob_name\u001b[0m\u001b[0;34m,\u001b[0m \u001b[0mwait\u001b[0m\u001b[0;34m=\u001b[0m\u001b[0;32mTrue\u001b[0m\u001b[0;34m)\u001b[0m\u001b[0;34m\u001b[0m\u001b[0;34m\u001b[0m\u001b[0m\n\u001b[0m",
      "\u001b[0;32m~/miniconda3/envs/deep-exp/lib/python3.9/site-packages/sagemaker/estimator.py\u001b[0m in \u001b[0;36mfit\u001b[0;34m(self, inputs, wait, logs, job_name, experiment_config)\u001b[0m\n\u001b[1;32m    680\u001b[0m         \u001b[0mself\u001b[0m\u001b[0;34m.\u001b[0m\u001b[0mjobs\u001b[0m\u001b[0;34m.\u001b[0m\u001b[0mappend\u001b[0m\u001b[0;34m(\u001b[0m\u001b[0mself\u001b[0m\u001b[0;34m.\u001b[0m\u001b[0mlatest_training_job\u001b[0m\u001b[0;34m)\u001b[0m\u001b[0;34m\u001b[0m\u001b[0;34m\u001b[0m\u001b[0m\n\u001b[1;32m    681\u001b[0m         \u001b[0;32mif\u001b[0m \u001b[0mwait\u001b[0m\u001b[0;34m:\u001b[0m\u001b[0;34m\u001b[0m\u001b[0;34m\u001b[0m\u001b[0m\n\u001b[0;32m--> 682\u001b[0;31m             \u001b[0mself\u001b[0m\u001b[0;34m.\u001b[0m\u001b[0mlatest_training_job\u001b[0m\u001b[0;34m.\u001b[0m\u001b[0mwait\u001b[0m\u001b[0;34m(\u001b[0m\u001b[0mlogs\u001b[0m\u001b[0;34m=\u001b[0m\u001b[0mlogs\u001b[0m\u001b[0;34m)\u001b[0m\u001b[0;34m\u001b[0m\u001b[0;34m\u001b[0m\u001b[0m\n\u001b[0m\u001b[1;32m    683\u001b[0m \u001b[0;34m\u001b[0m\u001b[0m\n\u001b[1;32m    684\u001b[0m     \u001b[0;32mdef\u001b[0m \u001b[0m_compilation_job_name\u001b[0m\u001b[0;34m(\u001b[0m\u001b[0mself\u001b[0m\u001b[0;34m)\u001b[0m\u001b[0;34m:\u001b[0m\u001b[0;34m\u001b[0m\u001b[0;34m\u001b[0m\u001b[0m\n",
      "\u001b[0;32m~/miniconda3/envs/deep-exp/lib/python3.9/site-packages/sagemaker/estimator.py\u001b[0m in \u001b[0;36mwait\u001b[0;34m(self, logs)\u001b[0m\n\u001b[1;32m   1623\u001b[0m         \u001b[0;31m# If logs are requested, call logs_for_jobs.\u001b[0m\u001b[0;34m\u001b[0m\u001b[0;34m\u001b[0m\u001b[0;34m\u001b[0m\u001b[0m\n\u001b[1;32m   1624\u001b[0m         \u001b[0;32mif\u001b[0m \u001b[0mlogs\u001b[0m \u001b[0;34m!=\u001b[0m \u001b[0;34m\"None\"\u001b[0m\u001b[0;34m:\u001b[0m\u001b[0;34m\u001b[0m\u001b[0;34m\u001b[0m\u001b[0m\n\u001b[0;32m-> 1625\u001b[0;31m             \u001b[0mself\u001b[0m\u001b[0;34m.\u001b[0m\u001b[0msagemaker_session\u001b[0m\u001b[0;34m.\u001b[0m\u001b[0mlogs_for_job\u001b[0m\u001b[0;34m(\u001b[0m\u001b[0mself\u001b[0m\u001b[0;34m.\u001b[0m\u001b[0mjob_name\u001b[0m\u001b[0;34m,\u001b[0m \u001b[0mwait\u001b[0m\u001b[0;34m=\u001b[0m\u001b[0;32mTrue\u001b[0m\u001b[0;34m,\u001b[0m \u001b[0mlog_type\u001b[0m\u001b[0;34m=\u001b[0m\u001b[0mlogs\u001b[0m\u001b[0;34m)\u001b[0m\u001b[0;34m\u001b[0m\u001b[0;34m\u001b[0m\u001b[0m\n\u001b[0m\u001b[1;32m   1626\u001b[0m         \u001b[0;32melse\u001b[0m\u001b[0;34m:\u001b[0m\u001b[0;34m\u001b[0m\u001b[0;34m\u001b[0m\u001b[0m\n\u001b[1;32m   1627\u001b[0m             \u001b[0mself\u001b[0m\u001b[0;34m.\u001b[0m\u001b[0msagemaker_session\u001b[0m\u001b[0;34m.\u001b[0m\u001b[0mwait_for_job\u001b[0m\u001b[0;34m(\u001b[0m\u001b[0mself\u001b[0m\u001b[0;34m.\u001b[0m\u001b[0mjob_name\u001b[0m\u001b[0;34m)\u001b[0m\u001b[0;34m\u001b[0m\u001b[0;34m\u001b[0m\u001b[0m\n",
      "\u001b[0;32m~/miniconda3/envs/deep-exp/lib/python3.9/site-packages/sagemaker/session.py\u001b[0m in \u001b[0;36mlogs_for_job\u001b[0;34m(self, job_name, wait, poll, log_type)\u001b[0m\n\u001b[1;32m   3679\u001b[0m \u001b[0;34m\u001b[0m\u001b[0m\n\u001b[1;32m   3680\u001b[0m         \u001b[0;32mif\u001b[0m \u001b[0mwait\u001b[0m\u001b[0;34m:\u001b[0m\u001b[0;34m\u001b[0m\u001b[0;34m\u001b[0m\u001b[0m\n\u001b[0;32m-> 3681\u001b[0;31m             \u001b[0mself\u001b[0m\u001b[0;34m.\u001b[0m\u001b[0m_check_job_status\u001b[0m\u001b[0;34m(\u001b[0m\u001b[0mjob_name\u001b[0m\u001b[0;34m,\u001b[0m \u001b[0mdescription\u001b[0m\u001b[0;34m,\u001b[0m \u001b[0;34m\"TrainingJobStatus\"\u001b[0m\u001b[0;34m)\u001b[0m\u001b[0;34m\u001b[0m\u001b[0;34m\u001b[0m\u001b[0m\n\u001b[0m\u001b[1;32m   3682\u001b[0m             \u001b[0;32mif\u001b[0m \u001b[0mdot\u001b[0m\u001b[0;34m:\u001b[0m\u001b[0;34m\u001b[0m\u001b[0;34m\u001b[0m\u001b[0m\n\u001b[1;32m   3683\u001b[0m                 \u001b[0mprint\u001b[0m\u001b[0;34m(\u001b[0m\u001b[0;34m)\u001b[0m\u001b[0;34m\u001b[0m\u001b[0;34m\u001b[0m\u001b[0m\n",
      "\u001b[0;32m~/miniconda3/envs/deep-exp/lib/python3.9/site-packages/sagemaker/session.py\u001b[0m in \u001b[0;36m_check_job_status\u001b[0;34m(self, job, desc, status_key_name)\u001b[0m\n\u001b[1;32m   3238\u001b[0m             \u001b[0mreason\u001b[0m \u001b[0;34m=\u001b[0m \u001b[0mdesc\u001b[0m\u001b[0;34m.\u001b[0m\u001b[0mget\u001b[0m\u001b[0;34m(\u001b[0m\u001b[0;34m\"FailureReason\"\u001b[0m\u001b[0;34m,\u001b[0m \u001b[0;34m\"(No reason provided)\"\u001b[0m\u001b[0;34m)\u001b[0m\u001b[0;34m\u001b[0m\u001b[0;34m\u001b[0m\u001b[0m\n\u001b[1;32m   3239\u001b[0m             \u001b[0mjob_type\u001b[0m \u001b[0;34m=\u001b[0m \u001b[0mstatus_key_name\u001b[0m\u001b[0;34m.\u001b[0m\u001b[0mreplace\u001b[0m\u001b[0;34m(\u001b[0m\u001b[0;34m\"JobStatus\"\u001b[0m\u001b[0;34m,\u001b[0m \u001b[0;34m\" job\"\u001b[0m\u001b[0;34m)\u001b[0m\u001b[0;34m\u001b[0m\u001b[0;34m\u001b[0m\u001b[0m\n\u001b[0;32m-> 3240\u001b[0;31m             raise exceptions.UnexpectedStatusException(\n\u001b[0m\u001b[1;32m   3241\u001b[0m                 message=\"Error for {job_type} {job_name}: {status}. Reason: {reason}\".format(\n\u001b[1;32m   3242\u001b[0m                     \u001b[0mjob_type\u001b[0m\u001b[0;34m=\u001b[0m\u001b[0mjob_type\u001b[0m\u001b[0;34m,\u001b[0m \u001b[0mjob_name\u001b[0m\u001b[0;34m=\u001b[0m\u001b[0mjob\u001b[0m\u001b[0;34m,\u001b[0m \u001b[0mstatus\u001b[0m\u001b[0;34m=\u001b[0m\u001b[0mstatus\u001b[0m\u001b[0;34m,\u001b[0m \u001b[0mreason\u001b[0m\u001b[0;34m=\u001b[0m\u001b[0mreason\u001b[0m\u001b[0;34m\u001b[0m\u001b[0;34m\u001b[0m\u001b[0m\n",
      "\u001b[0;31mUnexpectedStatusException\u001b[0m: Error for Training job pytorch-training-2021-06-02-09-54-54-518: Failed. Reason: AlgorithmError: ExecuteUserScriptError:\nCommand \"/opt/conda/bin/python3.6 train.py --epochs 1 --model_name distilbert-base-uncased --n_classes 11 --train_batch_size 32\"\n\rDownloading:   0%|          | 0.00/442 [00:00<?, ?B/s]\rDownloading: 100%|ââââââââââ| 442/442 [00:00<00:00, 694kB/s]\n\rDownloading:   0%|          | 0.00/232k [00:00<?, ?B/s]\rDownloading: 100%|ââââââââââ| 232k/232k [00:00<00:00, 44.0MB/s]\n\rDownloading:   0%|          | 0.00/466k [00:00<?, ?B/s]\rDownloading: 100%|ââââââââââ| 466k/466k [00:00<00:00, 45.8MB/s]\n\rDownloading:   0%|          | 0.00/28.0 [00:00<?, ?B/s]\rDownloading: 100%|ââââââââââ| 28.0/28.0 [00:00<00:00, 42.0kB/s]\n\rDownloading:   0%|          | 0.00/268M [00:00<?, ?B/s]\rDownloading:   2%|â         | 4.66M/268M [00:00<00:05, 46.6MB/s]\rDownloading:   4%|â         | 9.49M/268M [00:00<00:05, 47.1MB/s]\rDownloading:   5%|â         | 14.3M/268M [00:00<00:05, 47.5MB/s]\rDownloading:   7%|â         | 19.2M"
     ]
    }
   ],
   "source": [
    "estimator.fit(fit_arguments, job_name=job_name, wait=True)"
   ]
  },
  {
   "cell_type": "code",
   "execution_count": null,
   "id": "6267d0f9",
   "metadata": {
    "ExecuteTime": {
     "end_time": "2021-06-02T08:02:41.723416Z",
     "start_time": "2021-06-02T07:54:47.748Z"
    }
   },
   "outputs": [],
   "source": [
    "from sagemaker import TrainingJobAnalytics\n",
    "\n",
    "# Captured metrics can be accessed as a Pandas dataframe\n",
    "df = TrainingJobAnalytics(training_job_name=estimator.latest_training_job.name).dataframe()\n",
    "df.head(10)"
   ]
  },
  {
   "cell_type": "code",
   "execution_count": null,
   "id": "fa12a7e5",
   "metadata": {
    "ExecuteTime": {
     "end_time": "2021-06-02T08:02:41.724510Z",
     "start_time": "2021-06-02T07:54:47.749Z"
    }
   },
   "outputs": [],
   "source": [
    "df"
   ]
  },
  {
   "cell_type": "code",
   "execution_count": null,
   "id": "da27ac85",
   "metadata": {},
   "outputs": [],
   "source": []
  },
  {
   "cell_type": "code",
   "execution_count": null,
   "id": "2ecb5587",
   "metadata": {},
   "outputs": [],
   "source": []
  }
 ],
 "metadata": {
  "kernelspec": {
   "display_name": "Python 3",
   "language": "python",
   "name": "python3"
  },
  "language_info": {
   "codemirror_mode": {
    "name": "ipython",
    "version": 3
   },
   "file_extension": ".py",
   "mimetype": "text/x-python",
   "name": "python",
   "nbconvert_exporter": "python",
   "pygments_lexer": "ipython3",
   "version": "3.9.1"
  },
  "notify_time": "5",
  "toc": {
   "base_numbering": 1,
   "nav_menu": {},
   "number_sections": true,
   "sideBar": true,
   "skip_h1_title": false,
   "title_cell": "Table of Contents",
   "title_sidebar": "Contents",
   "toc_cell": false,
   "toc_position": {},
   "toc_section_display": true,
   "toc_window_display": false
  }
 },
 "nbformat": 4,
 "nbformat_minor": 5
}
