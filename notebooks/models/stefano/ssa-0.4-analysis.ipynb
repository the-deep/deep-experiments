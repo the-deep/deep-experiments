{
 "cells": [
  {
   "cell_type": "markdown",
   "id": "a2c7d55d",
   "metadata": {},
   "source": [
    "Using kernel `conda_pytorch_latest_p36`"
   ]
  },
  {
   "cell_type": "code",
   "execution_count": 1,
   "id": "4bf313a5",
   "metadata": {
    "ExecuteTime": {
     "end_time": "2021-05-31T14:48:54.639675Z",
     "start_time": "2021-05-31T14:48:54.633234Z"
    },
    "scrolled": true
   },
   "outputs": [],
   "source": [
    "# !pip install transformers\n",
    "# !pip install datasets"
   ]
  },
  {
   "cell_type": "code",
   "execution_count": 2,
   "id": "d1df8cff",
   "metadata": {
    "ExecuteTime": {
     "end_time": "2021-05-31T14:48:54.864556Z",
     "start_time": "2021-05-31T14:48:54.860271Z"
    }
   },
   "outputs": [],
   "source": [
    "import sys\n",
    "sys.path.append('../../../')"
   ]
  },
  {
   "cell_type": "code",
   "execution_count": 8,
   "id": "8d571bc3",
   "metadata": {
    "ExecuteTime": {
     "end_time": "2021-05-31T14:50:33.029733Z",
     "start_time": "2021-05-31T14:50:33.023510Z"
    }
   },
   "outputs": [],
   "source": [
    "from pathlib import Path\n",
    "import os\n",
    "import random\n",
    "import pickle"
   ]
  },
  {
   "cell_type": "code",
   "execution_count": 84,
   "id": "22649486",
   "metadata": {
    "ExecuteTime": {
     "end_time": "2021-05-31T16:19:37.971141Z",
     "start_time": "2021-05-31T16:19:37.966316Z"
    }
   },
   "outputs": [],
   "source": [
    "import pandas as pd\n",
    "import numpy as np\n",
    "from transformers import DistilBertForSequenceClassification, DistilBertTokenizerFast, Trainer, TrainingArguments\n",
    "from sklearn.metrics import classification_report, precision_recall_fscore_support, precision_score, f1_score, recall_score\n",
    "from sklearn.preprocessing import MultiLabelBinarizer\n",
    "import torch"
   ]
  },
  {
   "cell_type": "code",
   "execution_count": 5,
   "id": "e6f9bd78",
   "metadata": {
    "ExecuteTime": {
     "end_time": "2021-05-31T14:48:57.292391Z",
     "start_time": "2021-05-31T14:48:57.162152Z"
    }
   },
   "outputs": [],
   "source": [
    "from deep.constants import *"
   ]
  },
  {
   "cell_type": "code",
   "execution_count": 38,
   "id": "2ae89cd9",
   "metadata": {
    "ExecuteTime": {
     "end_time": "2021-05-31T16:13:51.694630Z",
     "start_time": "2021-05-31T16:13:50.221086Z"
    }
   },
   "outputs": [],
   "source": [
    "train = pd.read_csv(FRAMEWORKS_PATH / 'data_v0.3_train.csv')\n",
    "val = pd.read_csv(FRAMEWORKS_PATH / 'data_v0.3_val.csv')\n",
    "test = pd.read_csv(FRAMEWORKS_PATH / 'data_v0.3_test.csv')\n",
    "\n",
    "def process(df):\n",
    "    df = df.copy()\n",
    "    df['dimension_ids'] = df['dimension_ids'].apply(eval)\n",
    "#     df['dimension_ids'] = df['dimension_ids'].apply(lambda x: torch.tensor(x, dtype=torch.float))\n",
    "    \n",
    "    mlb = MultiLabelBinarizer()\n",
    "    labels = mlb.fit_transform(list(df['dimension_ids']))\n",
    "    df['labels'] = list(labels)\n",
    "    \n",
    "    df = df[['excerpt', 'labels']]\n",
    "    df = df.rename(columns={'excerpt': 'texts'})\n",
    "        \n",
    "    return df\n",
    "\n",
    "train_df = process(train)\n",
    "val_df = process(val)\n",
    "test_df = process(test)"
   ]
  },
  {
   "cell_type": "code",
   "execution_count": 39,
   "id": "f123926f",
   "metadata": {
    "ExecuteTime": {
     "end_time": "2021-05-31T16:13:51.697503Z",
     "start_time": "2021-05-31T16:13:51.695831Z"
    }
   },
   "outputs": [],
   "source": [
    "def sigmoid(x):\n",
    "    return 1 / (1 + torch.exp(-x))"
   ]
  },
  {
   "cell_type": "code",
   "execution_count": 40,
   "id": "24db828f",
   "metadata": {
    "ExecuteTime": {
     "end_time": "2021-05-31T16:13:52.219166Z",
     "start_time": "2021-05-31T16:13:52.202999Z"
    }
   },
   "outputs": [],
   "source": [
    "a = pd.read_pickle('/Users/stefano/Downloads/test_predictions.pickle')\n",
    "b = sigmoid(a)"
   ]
  },
  {
   "cell_type": "code",
   "execution_count": 109,
   "id": "b45f5534",
   "metadata": {
    "ExecuteTime": {
     "end_time": "2021-05-31T16:23:23.841631Z",
     "start_time": "2021-05-31T16:23:23.766650Z"
    }
   },
   "outputs": [
    {
     "data": {
      "text/plain": [
       "(0.20540074691180696, 0.5980761187787537, 0.30578424035068963, None)"
      ]
     },
     "execution_count": 109,
     "metadata": {},
     "output_type": "execute_result"
    }
   ],
   "source": [
    "thresh = 0.52\n",
    "index=1\n",
    "\n",
    "\n",
    "preds = (b > thresh).long()\n",
    "labels = torch.tensor(test_df.labels)\n",
    "\n",
    "preds = preds[:,index]\n",
    "labels = labels[:, index]\n",
    "\n",
    "prec = precision_score(labels, preds)\n",
    "rec = recall_score(labels, preds)\n",
    "precision_recall_fscore_support(labels, preds, average=\"binary\")"
   ]
  },
  {
   "cell_type": "code",
   "execution_count": null,
   "id": "10ec9bdb",
   "metadata": {},
   "outputs": [],
   "source": []
  },
  {
   "cell_type": "code",
   "execution_count": null,
   "id": "45255533",
   "metadata": {},
   "outputs": [],
   "source": []
  }
 ],
 "metadata": {
  "kernelspec": {
   "display_name": "Python 3",
   "language": "python",
   "name": "python3"
  },
  "language_info": {
   "codemirror_mode": {
    "name": "ipython",
    "version": 3
   },
   "file_extension": ".py",
   "mimetype": "text/x-python",
   "name": "python",
   "nbconvert_exporter": "python",
   "pygments_lexer": "ipython3",
   "version": "3.9.1"
  },
  "toc": {
   "base_numbering": 1,
   "nav_menu": {},
   "number_sections": true,
   "sideBar": true,
   "skip_h1_title": false,
   "title_cell": "Table of Contents",
   "title_sidebar": "Contents",
   "toc_cell": false,
   "toc_position": {},
   "toc_section_display": true,
   "toc_window_display": false
  }
 },
 "nbformat": 4,
 "nbformat_minor": 5
}
