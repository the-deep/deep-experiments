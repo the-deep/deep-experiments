{
 "cells": [
  {
   "cell_type": "markdown",
   "id": "a2c7d55d",
   "metadata": {},
   "source": [
    "Using kernel `conda_pytorch_latest_p36`"
   ]
  },
  {
   "cell_type": "code",
   "execution_count": 1,
   "id": "4bf313a5",
   "metadata": {
    "ExecuteTime": {
     "end_time": "2021-06-02T14:20:20.772438Z",
     "start_time": "2021-06-02T14:20:20.767722Z"
    },
    "scrolled": true
   },
   "outputs": [],
   "source": [
    "# !pip install transformers\n",
    "# !pip install datasets"
   ]
  },
  {
   "cell_type": "code",
   "execution_count": 6,
   "id": "d1df8cff",
   "metadata": {
    "ExecuteTime": {
     "end_time": "2021-06-02T14:21:19.156366Z",
     "start_time": "2021-06-02T14:21:19.152194Z"
    }
   },
   "outputs": [],
   "source": [
    "import sys\n",
    "sys.path.append('../../../')"
   ]
  },
  {
   "cell_type": "code",
   "execution_count": 7,
   "id": "8d571bc3",
   "metadata": {
    "ExecuteTime": {
     "end_time": "2021-06-02T14:21:19.315316Z",
     "start_time": "2021-06-02T14:21:19.311821Z"
    }
   },
   "outputs": [],
   "source": [
    "from pathlib import Path\n",
    "import os\n",
    "import random\n",
    "import pickle"
   ]
  },
  {
   "cell_type": "code",
   "execution_count": 8,
   "id": "22649486",
   "metadata": {
    "ExecuteTime": {
     "end_time": "2021-06-02T14:21:19.467251Z",
     "start_time": "2021-06-02T14:21:19.460399Z"
    }
   },
   "outputs": [],
   "source": [
    "import pandas as pd\n",
    "import numpy as np\n",
    "from transformers import DistilBertForSequenceClassification, DistilBertTokenizerFast, Trainer, TrainingArguments\n",
    "from sklearn.metrics import classification_report, precision_recall_fscore_support, precision_score, f1_score, recall_score\n",
    "from sklearn.preprocessing import MultiLabelBinarizer\n",
    "import torch"
   ]
  },
  {
   "cell_type": "code",
   "execution_count": 9,
   "id": "e6f9bd78",
   "metadata": {
    "ExecuteTime": {
     "end_time": "2021-06-02T14:21:19.835498Z",
     "start_time": "2021-06-02T14:21:19.644616Z"
    }
   },
   "outputs": [],
   "source": [
    "from deep.constants import *"
   ]
  },
  {
   "cell_type": "code",
   "execution_count": 20,
   "id": "2ae89cd9",
   "metadata": {
    "ExecuteTime": {
     "end_time": "2021-06-02T14:22:45.573931Z",
     "start_time": "2021-06-02T14:22:44.102577Z"
    },
    "scrolled": true
   },
   "outputs": [],
   "source": [
    "train = pd.read_csv(LATEST_DATA_PATH / 'data_v0.4.2_train.csv')\n",
    "val = pd.read_csv(LATEST_DATA_PATH / 'data_v0.4.2_val.csv')\n",
    "test = pd.read_csv(LATEST_DATA_PATH / 'data_v0.4.2_test.csv')\n",
    "\n",
    "def process(df):\n",
    "    df = df.copy()\n",
    "    df['sectors'] = df['sectors'].apply(eval)\n",
    "#     df['dimension_ids'] = df['dimension_ids'].apply(lambda x: torch.tensor(x, dtype=torch.float))\n",
    "    \n",
    "    mlb = MultiLabelBinarizer()\n",
    "    labels = mlb.fit_transform(list(df['sectors']))\n",
    "    df['labels'] = list(labels)\n",
    "    \n",
    "    df = df[['excerpt', 'labels']]\n",
    "    df = df.rename(columns={'excerpt': 'texts'})\n",
    "        \n",
    "    return df\n",
    "\n",
    "train_df = process(train)\n",
    "val_df = process(val)\n",
    "test_df = process(test)"
   ]
  },
  {
   "cell_type": "code",
   "execution_count": 21,
   "id": "f123926f",
   "metadata": {
    "ExecuteTime": {
     "end_time": "2021-06-02T14:22:46.737350Z",
     "start_time": "2021-06-02T14:22:46.733181Z"
    }
   },
   "outputs": [],
   "source": [
    "def sigmoid(x):\n",
    "    return 1 / (1 + torch.exp(-x))"
   ]
  },
  {
   "cell_type": "code",
   "execution_count": 22,
   "id": "24db828f",
   "metadata": {
    "ExecuteTime": {
     "end_time": "2021-06-02T14:22:46.941237Z",
     "start_time": "2021-06-02T14:22:46.933822Z"
    },
    "scrolled": true
   },
   "outputs": [],
   "source": [
    "a = pd.read_pickle('/Users/stefano/Downloads/test_predictions.pickle')\n",
    "b = sigmoid(a)"
   ]
  },
  {
   "cell_type": "code",
   "execution_count": 23,
   "id": "ee860411",
   "metadata": {
    "ExecuteTime": {
     "end_time": "2021-06-02T14:22:47.156785Z",
     "start_time": "2021-06-02T14:22:47.148570Z"
    }
   },
   "outputs": [
    {
     "data": {
      "text/plain": [
       "tensor([[-0.5335,  0.0302,  0.4279,  ..., -0.1528,  0.0892, -0.2532],\n",
       "        [-0.4693,  0.2286,  0.4292,  ..., -0.2542,  0.2493, -0.0855],\n",
       "        [-0.6634,  0.1816,  0.1597,  ..., -0.0674,  0.3895, -0.0136],\n",
       "        ...,\n",
       "        [-0.5865,  0.1427,  0.5291,  ..., -0.2105,  0.1357, -0.0486],\n",
       "        [-0.6558,  0.2421,  0.2595,  ..., -0.0424,  0.1129, -0.1527],\n",
       "        [-0.5395,  0.3054,  0.2341,  ..., -0.0561,  0.1751, -0.1357]])"
      ]
     },
     "execution_count": 23,
     "metadata": {},
     "output_type": "execute_result"
    }
   ],
   "source": [
    "a"
   ]
  },
  {
   "cell_type": "code",
   "execution_count": 24,
   "id": "dcee27d2",
   "metadata": {
    "ExecuteTime": {
     "end_time": "2021-06-02T14:22:47.517672Z",
     "start_time": "2021-06-02T14:22:47.508488Z"
    }
   },
   "outputs": [
    {
     "data": {
      "text/plain": [
       "tensor([[0.3697, 0.5075, 0.6054,  ..., 0.4619, 0.5223, 0.4370],\n",
       "        [0.3848, 0.5569, 0.6057,  ..., 0.4368, 0.5620, 0.4786],\n",
       "        [0.3400, 0.5453, 0.5399,  ..., 0.4831, 0.5962, 0.4966],\n",
       "        ...,\n",
       "        [0.3574, 0.5356, 0.6293,  ..., 0.4476, 0.5339, 0.4879],\n",
       "        [0.3417, 0.5602, 0.5645,  ..., 0.4894, 0.5282, 0.4619],\n",
       "        [0.3683, 0.5758, 0.5583,  ..., 0.4860, 0.5437, 0.4661]])"
      ]
     },
     "execution_count": 24,
     "metadata": {},
     "output_type": "execute_result"
    }
   ],
   "source": [
    "b"
   ]
  },
  {
   "cell_type": "code",
   "execution_count": 25,
   "id": "b80cd8f0",
   "metadata": {
    "ExecuteTime": {
     "end_time": "2021-06-02T14:22:48.564836Z",
     "start_time": "2021-06-02T14:22:48.559910Z"
    }
   },
   "outputs": [
    {
     "data": {
      "text/plain": [
       "torch.Size([11192, 11])"
      ]
     },
     "execution_count": 25,
     "metadata": {},
     "output_type": "execute_result"
    }
   ],
   "source": [
    "b.shape"
   ]
  },
  {
   "cell_type": "code",
   "execution_count": 26,
   "id": "0d04ad6f",
   "metadata": {
    "ExecuteTime": {
     "end_time": "2021-06-02T14:22:49.135013Z",
     "start_time": "2021-06-02T14:22:49.129084Z"
    }
   },
   "outputs": [
    {
     "data": {
      "text/plain": [
       "(11192, 2)"
      ]
     },
     "execution_count": 26,
     "metadata": {},
     "output_type": "execute_result"
    }
   ],
   "source": [
    "test_df.shape"
   ]
  },
  {
   "cell_type": "code",
   "execution_count": 35,
   "id": "b45f5534",
   "metadata": {
    "ExecuteTime": {
     "end_time": "2021-06-02T14:24:06.394369Z",
     "start_time": "2021-06-02T14:24:06.311166Z"
    }
   },
   "outputs": [
    {
     "data": {
      "text/plain": [
       "(0.39364035087719296, 0.11447704081632654, 0.1773715415019763, None)"
      ]
     },
     "execution_count": 35,
     "metadata": {},
     "output_type": "execute_result"
    }
   ],
   "source": [
    "thresh = 0.55\n",
    "index=4\n",
    "\n",
    "\n",
    "preds = (b > thresh).long()\n",
    "labels = torch.tensor(test_df.labels)\n",
    "\n",
    "preds = preds[:,index]\n",
    "labels = labels[:, index]\n",
    "\n",
    "prec = precision_score(labels, preds)\n",
    "rec = recall_score(labels, preds)\n",
    "precision_recall_fscore_support(labels, preds, average=\"binary\")"
   ]
  },
  {
   "cell_type": "code",
   "execution_count": null,
   "id": "10ec9bdb",
   "metadata": {},
   "outputs": [],
   "source": []
  },
  {
   "cell_type": "code",
   "execution_count": null,
   "id": "45255533",
   "metadata": {},
   "outputs": [],
   "source": []
  }
 ],
 "metadata": {
  "kernelspec": {
   "display_name": "Python 3",
   "language": "python",
   "name": "python3"
  },
  "language_info": {
   "codemirror_mode": {
    "name": "ipython",
    "version": 3
   },
   "file_extension": ".py",
   "mimetype": "text/x-python",
   "name": "python",
   "nbconvert_exporter": "python",
   "pygments_lexer": "ipython3",
   "version": "3.9.1"
  },
  "toc": {
   "base_numbering": 1,
   "nav_menu": {},
   "number_sections": true,
   "sideBar": true,
   "skip_h1_title": false,
   "title_cell": "Table of Contents",
   "title_sidebar": "Contents",
   "toc_cell": false,
   "toc_position": {},
   "toc_section_display": true,
   "toc_window_display": false
  }
 },
 "nbformat": 4,
 "nbformat_minor": 5
}
