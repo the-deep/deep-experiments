{
 "cells": [
  {
   "cell_type": "markdown",
   "id": "a2c7d55d",
   "metadata": {},
   "source": [
    "Using kernel `conda_pytorch_latest_p36`"
   ]
  },
  {
   "cell_type": "markdown",
   "id": "6f5effde",
   "metadata": {
    "ExecuteTime": {
     "end_time": "2021-06-03T14:14:41.675512Z",
     "start_time": "2021-06-03T14:14:41.672391Z"
    }
   },
   "source": [
    "# Import"
   ]
  },
  {
   "cell_type": "code",
   "execution_count": 1,
   "id": "4bf313a5",
   "metadata": {
    "ExecuteTime": {
     "end_time": "2021-06-07T07:26:38.629966Z",
     "start_time": "2021-06-07T07:26:38.623419Z"
    },
    "scrolled": true
   },
   "outputs": [],
   "source": [
    "# !pip install transformers\n",
    "# !pip install datasets"
   ]
  },
  {
   "cell_type": "code",
   "execution_count": 2,
   "id": "d1df8cff",
   "metadata": {
    "ExecuteTime": {
     "end_time": "2021-06-07T07:26:38.780523Z",
     "start_time": "2021-06-07T07:26:38.774931Z"
    }
   },
   "outputs": [],
   "source": [
    "import sys\n",
    "sys.path.append('../../../')"
   ]
  },
  {
   "cell_type": "code",
   "execution_count": 3,
   "id": "8d571bc3",
   "metadata": {
    "ExecuteTime": {
     "end_time": "2021-06-07T07:26:38.946560Z",
     "start_time": "2021-06-07T07:26:38.935179Z"
    }
   },
   "outputs": [],
   "source": [
    "from pathlib import Path\n",
    "import os\n",
    "import random\n",
    "import pickle\n",
    "import tarfile\n",
    "from typing import List\n",
    "from dataclasses import dataclass"
   ]
  },
  {
   "cell_type": "code",
   "execution_count": 108,
   "id": "22649486",
   "metadata": {
    "ExecuteTime": {
     "end_time": "2021-06-07T08:40:30.844646Z",
     "start_time": "2021-06-07T08:40:30.724482Z"
    }
   },
   "outputs": [],
   "source": [
    "import pandas as pd\n",
    "import numpy as np\n",
    "from transformers import DistilBertForSequenceClassification, DistilBertTokenizerFast, Trainer, TrainingArguments\n",
    "from sklearn.metrics import classification_report, precision_recall_fscore_support, precision_score, f1_score, recall_score, multilabel_confusion_matrix\n",
    "from sklearn.preprocessing import MultiLabelBinarizer\n",
    "import torch\n",
    "import boto3\n",
    "from langdetect import detect"
   ]
  },
  {
   "cell_type": "code",
   "execution_count": 5,
   "id": "e6f9bd78",
   "metadata": {
    "ExecuteTime": {
     "end_time": "2021-06-07T07:26:41.418699Z",
     "start_time": "2021-06-07T07:26:41.302539Z"
    }
   },
   "outputs": [],
   "source": [
    "from deep.constants import *"
   ]
  },
  {
   "cell_type": "markdown",
   "id": "65966b2e",
   "metadata": {},
   "source": [
    "# Fastai"
   ]
  },
  {
   "cell_type": "code",
   "execution_count": 66,
   "id": "cb3990df",
   "metadata": {
    "ExecuteTime": {
     "end_time": "2021-06-07T08:20:03.750120Z",
     "start_time": "2021-06-07T08:20:01.200140Z"
    }
   },
   "outputs": [],
   "source": [
    "def preprocessing(df):\n",
    "    df = df.copy()\n",
    "    df['sectors'] = df['sectors'].apply(eval)    \n",
    "    df['pillars'] = df['pillars'].apply(eval)\n",
    "    df['pillars'] = df['pillars'].apply(lambda x: list(set(x)))\n",
    "    df['subpillars'] = df['subpillars'].apply(eval)\n",
    "    return df\n",
    "\n",
    "def process_multiclass(df, train, column='pillars', classes=PILLARS):\n",
    "    relevant_train = df.copy()\n",
    "    relevant_train = relevant_train[relevant_train[column].apply(len) > 0]\n",
    "    relevant_train[label_column] = relevant_train.pillars + relevant_train.subpillars\n",
    "    relevant_train[label_column] = relevant_train[label_column].apply(lambda x: ';'.join(x))\n",
    "    \n",
    "    relevant_train['is_valid'] = False if train else True\n",
    "    \n",
    "    return relevant_train\n",
    "    \n",
    "\n",
    "train = preprocessing(pd.read_csv(LATEST_DATA_PATH / 'data_v0.4.3_train.csv'))\n",
    "val = preprocessing(pd.read_csv(LATEST_DATA_PATH / 'data_v0.4.3_val.csv'))\n",
    "test = preprocessing(pd.read_csv(LATEST_DATA_PATH / 'data_v0.4.3_test.csv'))\n",
    "\n",
    "column = 'subpillars'\n",
    "classes=SUBPILLARS\n",
    "text_column = 'excerpt'\n",
    "label_column = 'merged'\n",
    "train_df = process_multiclass(train, True, column=column, classes=classes)\n",
    "test_df = process_multiclass(test, False, column=column, classes=classes)\n",
    "df = pd.concat([train_df, test_df])"
   ]
  },
  {
   "cell_type": "code",
   "execution_count": 107,
   "id": "838efe07",
   "metadata": {
    "ExecuteTime": {
     "end_time": "2021-06-07T08:35:10.952404Z",
     "start_time": "2021-06-07T08:35:10.858140Z"
    }
   },
   "outputs": [
    {
     "data": {
      "text/html": [
       "<div>\n",
       "<style scoped>\n",
       "    .dataframe tbody tr th:only-of-type {\n",
       "        vertical-align: middle;\n",
       "    }\n",
       "\n",
       "    .dataframe tbody tr th {\n",
       "        vertical-align: top;\n",
       "    }\n",
       "\n",
       "    .dataframe thead th {\n",
       "        text-align: right;\n",
       "    }\n",
       "</style>\n",
       "<table border=\"1\" class=\"dataframe\">\n",
       "  <thead>\n",
       "    <tr style=\"text-align: right;\">\n",
       "      <th></th>\n",
       "      <th>entry_id</th>\n",
       "      <th>lead_id</th>\n",
       "      <th>project_id</th>\n",
       "      <th>project_title</th>\n",
       "      <th>analysis_framework_id</th>\n",
       "      <th>excerpt</th>\n",
       "      <th>dropped_excerpt</th>\n",
       "      <th>created_by_id</th>\n",
       "      <th>modified_by_id</th>\n",
       "      <th>verified</th>\n",
       "      <th>verification_last_changed_by_id</th>\n",
       "      <th>sectors</th>\n",
       "      <th>pillars</th>\n",
       "      <th>subpillars</th>\n",
       "      <th>merged</th>\n",
       "      <th>is_valid</th>\n",
       "    </tr>\n",
       "  </thead>\n",
       "  <tbody>\n",
       "    <tr>\n",
       "      <th>0</th>\n",
       "      <td>163665</td>\n",
       "      <td>35315</td>\n",
       "      <td>2028</td>\n",
       "      <td>IMMAP/DFS Syria</td>\n",
       "      <td>1306</td>\n",
       "      <td>What this means is that families across the country can no longer afford the very basics. And food security and nutrition indicators clearly reflect that. Some 9.3 million people are food insecure. More than 2 million more are at risk of becoming food insecure. 86 per cent of households say they are buying lower quality food, or less food, or skipping meals.</td>\n",
       "      <td>NaN</td>\n",
       "      <td>2232</td>\n",
       "      <td>2232</td>\n",
       "      <td>False</td>\n",
       "      <td>NaN</td>\n",
       "      <td>[Food Security, Cross]</td>\n",
       "      <td>[Humanitarian Conditions, People At Risk]</td>\n",
       "      <td>[Humanitarian Conditions-&gt;Coping Mechanisms, People At Risk-&gt;Risk And Vulnerabilities, Humanitarian Conditions-&gt;Living Standards, Humanitarian Conditions-&gt;Physical And Mental Well Being]</td>\n",
       "      <td>Humanitarian Conditions;People At Risk;Humanitarian Conditions-&gt;Coping Mechanisms;People At Risk-&gt;Risk And Vulnerabilities;Humanitarian Conditions-&gt;Living Standards;Humanitarian Conditions-&gt;Physical And Mental Well Being</td>\n",
       "      <td>True</td>\n",
       "    </tr>\n",
       "    <tr>\n",
       "      <th>1</th>\n",
       "      <td>162814</td>\n",
       "      <td>37820</td>\n",
       "      <td>2098</td>\n",
       "      <td>IMMAP/DFS Bangladesh</td>\n",
       "      <td>1306</td>\n",
       "      <td>Dispatch and Referral Unit (DRU): IOM continues to coordinate an expanded fleet of 22 vehicles, 11 of which are supplied by IOM and staffed with drivers fully trained on Infection Prevention and Control.</td>\n",
       "      <td>NaN</td>\n",
       "      <td>657</td>\n",
       "      <td>2233</td>\n",
       "      <td>False</td>\n",
       "      <td>NaN</td>\n",
       "      <td>[Logistics]</td>\n",
       "      <td>[Capacities &amp; Response]</td>\n",
       "      <td>[Capacities &amp; Response-&gt;International Response]</td>\n",
       "      <td>Capacities &amp; Response;Capacities &amp; Response-&gt;International Response</td>\n",
       "      <td>True</td>\n",
       "    </tr>\n",
       "    <tr>\n",
       "      <th>2</th>\n",
       "      <td>163668</td>\n",
       "      <td>35315</td>\n",
       "      <td>2028</td>\n",
       "      <td>IMMAP/DFS Syria</td>\n",
       "      <td>1306</td>\n",
       "      <td>A third of school-aged children in Syria – 2.5 million children – are out of school. Another 1.6 million are at risk of dropping out of school. The number of out-of-school children has increased by 16 per cent since last year. With school closures due to COVID-19, that number is very likely to increase further</td>\n",
       "      <td>NaN</td>\n",
       "      <td>2232</td>\n",
       "      <td>2232</td>\n",
       "      <td>False</td>\n",
       "      <td>NaN</td>\n",
       "      <td>[Education]</td>\n",
       "      <td>[Humanitarian Conditions, Impact]</td>\n",
       "      <td>[Impact-&gt;Driver/Aggravating Factors, Humanitarian Conditions-&gt;Living Standards, Impact-&gt;Impact On Systems And Services]</td>\n",
       "      <td>Humanitarian Conditions;Impact;Impact-&gt;Driver/Aggravating Factors;Humanitarian Conditions-&gt;Living Standards;Impact-&gt;Impact On Systems And Services</td>\n",
       "      <td>True</td>\n",
       "    </tr>\n",
       "    <tr>\n",
       "      <th>3</th>\n",
       "      <td>163115</td>\n",
       "      <td>37820</td>\n",
       "      <td>2098</td>\n",
       "      <td>IMMAP/DFS Bangladesh</td>\n",
       "      <td>1306</td>\n",
       "      <td>The RIRT coordination system has been formalized and each camp now has RIRT team composed of an isolation unit focal point, contact tracing supervisor and a SM focal. To operationalize engagement of these teams, the World Health organization established WhatsApp groups for a better coordinated COVID-19 response. On 18 July, the camp 22 RIRT team responded to its first confirmed COVID -19 patient. The team assisted the affected family by supporting the patient’s transfer to a SARI ITC. The team also supported as the four family members were transferred to Kerantoli Quarantine Centre in Teknaf.</td>\n",
       "      <td>NaN</td>\n",
       "      <td>2233</td>\n",
       "      <td>2233</td>\n",
       "      <td>False</td>\n",
       "      <td>NaN</td>\n",
       "      <td>[Health]</td>\n",
       "      <td>[Capacities &amp; Response]</td>\n",
       "      <td>[Capacities &amp; Response-&gt;International Response]</td>\n",
       "      <td>Capacities &amp; Response;Capacities &amp; Response-&gt;International Response</td>\n",
       "      <td>True</td>\n",
       "    </tr>\n",
       "    <tr>\n",
       "      <th>4</th>\n",
       "      <td>163030</td>\n",
       "      <td>37820</td>\n",
       "      <td>2098</td>\n",
       "      <td>IMMAP/DFS Bangladesh</td>\n",
       "      <td>1306</td>\n",
       "      <td>Project implementation partners continued dissemination of messages on prevention of COVID-19 transmission, food safety, waste management, and hygienic practices in advance of EID al – Adha, following IOM WASH unit guidance. The partner organization conducted a total of 153, 674 household sessions reaching 200, 328 beneficiaries an average of three times in the reporting period&gt;&gt; IOM’s implementing partners also conducted 4,410 megaphone messaging session, reaching an estimated 151,475 beneficiaries and average of two times each. Ips additionally coordinated with Camps-in -charge (CiC), si...</td>\n",
       "      <td>NaN</td>\n",
       "      <td>2233</td>\n",
       "      <td>2233</td>\n",
       "      <td>False</td>\n",
       "      <td>NaN</td>\n",
       "      <td>[Food Security, Health, Cross]</td>\n",
       "      <td>[Capacities &amp; Response]</td>\n",
       "      <td>[Capacities &amp; Response-&gt;Number Of People Reached, Capacities &amp; Response-&gt;International Response]</td>\n",
       "      <td>Capacities &amp; Response;Capacities &amp; Response-&gt;Number Of People Reached;Capacities &amp; Response-&gt;International Response</td>\n",
       "      <td>True</td>\n",
       "    </tr>\n",
       "    <tr>\n",
       "      <th>...</th>\n",
       "      <td>...</td>\n",
       "      <td>...</td>\n",
       "      <td>...</td>\n",
       "      <td>...</td>\n",
       "      <td>...</td>\n",
       "      <td>...</td>\n",
       "      <td>...</td>\n",
       "      <td>...</td>\n",
       "      <td>...</td>\n",
       "      <td>...</td>\n",
       "      <td>...</td>\n",
       "      <td>...</td>\n",
       "      <td>...</td>\n",
       "      <td>...</td>\n",
       "      <td>...</td>\n",
       "      <td>...</td>\n",
       "    </tr>\n",
       "    <tr>\n",
       "      <th>11114</th>\n",
       "      <td>288695</td>\n",
       "      <td>51646</td>\n",
       "      <td>2099</td>\n",
       "      <td>IMMAP/DFS Burkina Faso</td>\n",
       "      <td>1306</td>\n",
       "      <td>813 000 sont privés d’éducation</td>\n",
       "      <td>813 000 sont privés d’éducation</td>\n",
       "      <td>3247</td>\n",
       "      <td>3140</td>\n",
       "      <td>True</td>\n",
       "      <td>3140.0</td>\n",
       "      <td>[Education]</td>\n",
       "      <td>[Humanitarian Conditions]</td>\n",
       "      <td>[Humanitarian Conditions-&gt;Number Of People In Need]</td>\n",
       "      <td>Humanitarian Conditions;Humanitarian Conditions-&gt;Number Of People In Need</td>\n",
       "      <td>True</td>\n",
       "    </tr>\n",
       "    <tr>\n",
       "      <th>11121</th>\n",
       "      <td>288690</td>\n",
       "      <td>51646</td>\n",
       "      <td>2099</td>\n",
       "      <td>IMMAP/DFS Burkina Faso</td>\n",
       "      <td>1306</td>\n",
       "      <td>1,3 millions de personnes sont en situation de besoins de survie</td>\n",
       "      <td>1,3 millions de personnes sont en situation de besoins de survie</td>\n",
       "      <td>3247</td>\n",
       "      <td>3247</td>\n",
       "      <td>True</td>\n",
       "      <td>2329.0</td>\n",
       "      <td>[Livelihoods]</td>\n",
       "      <td>[Humanitarian Conditions]</td>\n",
       "      <td>[Humanitarian Conditions-&gt;Number Of People In Need]</td>\n",
       "      <td>Humanitarian Conditions;Humanitarian Conditions-&gt;Number Of People In Need</td>\n",
       "      <td>True</td>\n",
       "    </tr>\n",
       "    <tr>\n",
       "      <th>11178</th>\n",
       "      <td>283072</td>\n",
       "      <td>50844</td>\n",
       "      <td>2311</td>\n",
       "      <td>IMMAP/DFS Colombia</td>\n",
       "      <td>1306</td>\n",
       "      <td>Respecto al número de personas proyectadas a tener necesidades en WASH en el mismo año, se estima que serán 5,4 millones de personas (PIN intersectorial WASH) de las cuales un 6% cuenta con un nivel de severidad de las necesidades ‘Catastrófico’, un 51% nivel ‘Extremo’, un 35% nivel ‘Severo’, un 2% presenta ‘Estrés’ y un 7% con un nivel ‘Mínimo’.</td>\n",
       "      <td>Respecto al número de personas proyectadas a tener necesidades en WASH en el mismo año, se estima que serán 5,4 millones de personas (PIN intersectorial WASH) de las cuales un 6% cuenta con un nivel de severidad de las necesidades ‘Catastrófico’, un 51% nivel ‘Extremo’, un 35% nivel ‘Severo’, un 2% presenta ‘Estrés’ y un 7% con un nivel ‘Mínimo’.</td>\n",
       "      <td>1396</td>\n",
       "      <td>1396</td>\n",
       "      <td>True</td>\n",
       "      <td>1394.0</td>\n",
       "      <td>[WASH]</td>\n",
       "      <td>[Humanitarian Conditions]</td>\n",
       "      <td>[Humanitarian Conditions-&gt;Number Of People In Need]</td>\n",
       "      <td>Humanitarian Conditions;Humanitarian Conditions-&gt;Number Of People In Need</td>\n",
       "      <td>True</td>\n",
       "    </tr>\n",
       "    <tr>\n",
       "      <th>11181</th>\n",
       "      <td>283071</td>\n",
       "      <td>50844</td>\n",
       "      <td>2311</td>\n",
       "      <td>IMMAP/DFS Colombia</td>\n",
       "      <td>1306</td>\n",
       "      <td>De acuerdo con el Panorama de Necesidades Humanitarias⁸, en el 2021 se proyectan 77.199 personas en confinamiento y 36.631 personas víctimas de desplazamiento forzado.</td>\n",
       "      <td>De acuerdo con el Panorama de Necesidades Humanitarias⁸, en el 2021 se proyectan 77.199 personas en confinamiento y 36.631 personas víctimas de desplazamiento forzado.</td>\n",
       "      <td>1396</td>\n",
       "      <td>1396</td>\n",
       "      <td>True</td>\n",
       "      <td>1394.0</td>\n",
       "      <td>[Protection]</td>\n",
       "      <td>[Humanitarian Conditions]</td>\n",
       "      <td>[Humanitarian Conditions-&gt;Number Of People In Need]</td>\n",
       "      <td>Humanitarian Conditions;Humanitarian Conditions-&gt;Number Of People In Need</td>\n",
       "      <td>True</td>\n",
       "    </tr>\n",
       "    <tr>\n",
       "      <th>11190</th>\n",
       "      <td>283028</td>\n",
       "      <td>50844</td>\n",
       "      <td>2311</td>\n",
       "      <td>IMMAP/DFS Colombia</td>\n",
       "      <td>1306</td>\n",
       "      <td>Los PDET incluyen la implementación de proyectos sectoriales en WASH de acueducto y alcantarillado para reducir el déficit de las necesidades básicas insatisfechas en estos territorios. Los municipios PDET comprenden el 24% de la población rural del país; 2,5 millones de víctimas; el 57% de la población rural pobre; 6,6 millones de personas en total; el 36% del territorio nacional; y el 45% del área de Parques Nacionales Naturales. Cabe resaltar que el Plan de Respuesta Humanitaria (HRP, 2020), se identificaron y priorizaron 205 municipios, 119 de ellos siendo municipios PDET.</td>\n",
       "      <td>Los PDET incluyen la implementación de proyectos sectoriales en WASH de acueducto y alcantarillado para reducir el déficit de las necesidades básicas insatisfechas en estos territorios. Los municipios PDET comprenden el 24% de la población rural del país; 2,5 millones de víctimas; el 57% de la población rural pobre; 6,6 millones de personas en total; el 36% del territorio nacional; y el 45% del área de Parques Nacionales Naturales. Cabe resaltar que el Plan de Respuesta Humanitaria (HRP, 2020), se identificaron y priorizaron 205 municipios, 119 de ellos siendo municipios PDET.</td>\n",
       "      <td>1396</td>\n",
       "      <td>1396</td>\n",
       "      <td>True</td>\n",
       "      <td>1394.0</td>\n",
       "      <td>[WASH]</td>\n",
       "      <td>[Impact]</td>\n",
       "      <td>[Impact-&gt;Number Of People Affected]</td>\n",
       "      <td>Impact;Impact-&gt;Number Of People Affected</td>\n",
       "      <td>True</td>\n",
       "    </tr>\n",
       "  </tbody>\n",
       "</table>\n",
       "<p>6516 rows × 16 columns</p>\n",
       "</div>"
      ],
      "text/plain": [
       "       entry_id  lead_id  project_id           project_title  \\\n",
       "0        163665    35315        2028         IMMAP/DFS Syria   \n",
       "1        162814    37820        2098    IMMAP/DFS Bangladesh   \n",
       "2        163668    35315        2028         IMMAP/DFS Syria   \n",
       "3        163115    37820        2098    IMMAP/DFS Bangladesh   \n",
       "4        163030    37820        2098    IMMAP/DFS Bangladesh   \n",
       "...         ...      ...         ...                     ...   \n",
       "11114    288695    51646        2099  IMMAP/DFS Burkina Faso   \n",
       "11121    288690    51646        2099  IMMAP/DFS Burkina Faso   \n",
       "11178    283072    50844        2311      IMMAP/DFS Colombia   \n",
       "11181    283071    50844        2311      IMMAP/DFS Colombia   \n",
       "11190    283028    50844        2311      IMMAP/DFS Colombia   \n",
       "\n",
       "       analysis_framework_id  \\\n",
       "0                       1306   \n",
       "1                       1306   \n",
       "2                       1306   \n",
       "3                       1306   \n",
       "4                       1306   \n",
       "...                      ...   \n",
       "11114                   1306   \n",
       "11121                   1306   \n",
       "11178                   1306   \n",
       "11181                   1306   \n",
       "11190                   1306   \n",
       "\n",
       "                                                                                                                                                                                                                                                                                                                                                                                                                                                                                                                                                                                                                       excerpt  \\\n",
       "0                                                                                                                                                                                                                                                     What this means is that families across the country can no longer afford the very basics. And food security and nutrition indicators clearly reflect that. Some 9.3 million people are food insecure. More than 2 million more are at risk of becoming food insecure. 86 per cent of households say they are buying lower quality food, or less food, or skipping meals.   \n",
       "1                                                                                                                                                                                                                                                                                                                                                                                                                  Dispatch and Referral Unit (DRU): IOM continues to coordinate an expanded fleet of 22 vehicles, 11 of which are supplied by IOM and staffed with drivers fully trained on Infection Prevention and Control.   \n",
       "2                                                                                                                                                                                                                                                                                                      A third of school-aged children in Syria – 2.5 million children – are out of school. Another 1.6 million are at risk of dropping out of school. The number of out-of-school children has increased by 16 per cent since last year. With school closures due to COVID-19, that number is very likely to increase further   \n",
       "3      The RIRT coordination system has been formalized and each camp now has RIRT team composed of an isolation unit focal point, contact tracing supervisor and a SM focal. To operationalize engagement of these teams, the World Health organization established WhatsApp groups for a better coordinated COVID-19 response. On 18 July, the camp 22 RIRT team responded to its first confirmed COVID -19 patient. The team assisted the affected family by supporting the patient’s transfer to a SARI ITC. The team also supported as the four family members were transferred to Kerantoli Quarantine Centre in Teknaf.   \n",
       "4      Project implementation partners continued dissemination of messages on prevention of COVID-19 transmission, food safety, waste management, and hygienic practices in advance of EID al – Adha, following IOM WASH unit guidance. The partner organization conducted a total of 153, 674 household sessions reaching 200, 328 beneficiaries an average of three times in the reporting period>> IOM’s implementing partners also conducted 4,410 megaphone messaging session, reaching an estimated 151,475 beneficiaries and average of two times each. Ips additionally coordinated with Camps-in -charge (CiC), si...   \n",
       "...                                                                                                                                                                                                                                                                                                                                                                                                                                                                                                                                                                                                                        ...   \n",
       "11114                                                                                                                                                                                                                                                                                                                                                                                                                                                                                                                                                                                          813 000 sont privés d’éducation   \n",
       "11121                                                                                                                                                                                                                                                                                                                                                                                                                                                                                                                                                         1,3 millions de personnes sont en situation de besoins de survie   \n",
       "11178                                                                                                                                                                                                                                                             Respecto al número de personas proyectadas a tener necesidades en WASH en el mismo año, se estima que serán 5,4 millones de personas (PIN intersectorial WASH) de las cuales un 6% cuenta con un nivel de severidad de las necesidades ‘Catastrófico’, un 51% nivel ‘Extremo’, un 35% nivel ‘Severo’, un 2% presenta ‘Estrés’ y un 7% con un nivel ‘Mínimo’.   \n",
       "11181                                                                                                                                                                                                                                                                                                                                                                                                                                                  De acuerdo con el Panorama de Necesidades Humanitarias⁸, en el 2021 se proyectan 77.199 personas en confinamiento y 36.631 personas víctimas de desplazamiento forzado.   \n",
       "11190                  Los PDET incluyen la implementación de proyectos sectoriales en WASH de acueducto y alcantarillado para reducir el déficit de las necesidades básicas insatisfechas en estos territorios. Los municipios PDET comprenden el 24% de la población rural del país; 2,5 millones de víctimas; el 57% de la población rural pobre; 6,6 millones de personas en total; el 36% del territorio nacional; y el 45% del área de Parques Nacionales Naturales. Cabe resaltar que el Plan de Respuesta Humanitaria (HRP, 2020), se identificaron y priorizaron 205 municipios, 119 de ellos siendo municipios PDET.   \n",
       "\n",
       "                                                                                                                                                                                                                                                                                                                                                                                                                                                                                                                                                                                               dropped_excerpt  \\\n",
       "0                                                                                                                                                                                                                                                                                                                                                                                                                                                                                                                                                                                                          NaN   \n",
       "1                                                                                                                                                                                                                                                                                                                                                                                                                                                                                                                                                                                                          NaN   \n",
       "2                                                                                                                                                                                                                                                                                                                                                                                                                                                                                                                                                                                                          NaN   \n",
       "3                                                                                                                                                                                                                                                                                                                                                                                                                                                                                                                                                                                                          NaN   \n",
       "4                                                                                                                                                                                                                                                                                                                                                                                                                                                                                                                                                                                                          NaN   \n",
       "...                                                                                                                                                                                                                                                                                                                                                                                                                                                                                                                                                                                                        ...   \n",
       "11114                                                                                                                                                                                                                                                                                                                                                                                                                                                                                                                                                                          813 000 sont privés d’éducation   \n",
       "11121                                                                                                                                                                                                                                                                                                                                                                                                                                                                                                                                         1,3 millions de personnes sont en situation de besoins de survie   \n",
       "11178                                                                                                                                                                                                                                             Respecto al número de personas proyectadas a tener necesidades en WASH en el mismo año, se estima que serán 5,4 millones de personas (PIN intersectorial WASH) de las cuales un 6% cuenta con un nivel de severidad de las necesidades ‘Catastrófico’, un 51% nivel ‘Extremo’, un 35% nivel ‘Severo’, un 2% presenta ‘Estrés’ y un 7% con un nivel ‘Mínimo’.   \n",
       "11181                                                                                                                                                                                                                                                                                                                                                                                                                                  De acuerdo con el Panorama de Necesidades Humanitarias⁸, en el 2021 se proyectan 77.199 personas en confinamiento y 36.631 personas víctimas de desplazamiento forzado.   \n",
       "11190  Los PDET incluyen la implementación de proyectos sectoriales en WASH de acueducto y alcantarillado para reducir el déficit de las necesidades básicas insatisfechas en estos territorios. Los municipios PDET comprenden el 24% de la población rural del país; 2,5 millones de víctimas; el 57% de la población rural pobre; 6,6 millones de personas en total; el 36% del territorio nacional; y el 45% del área de Parques Nacionales Naturales. Cabe resaltar que el Plan de Respuesta Humanitaria (HRP, 2020), se identificaron y priorizaron 205 municipios, 119 de ellos siendo municipios PDET.   \n",
       "\n",
       "       created_by_id  modified_by_id  verified  \\\n",
       "0               2232            2232     False   \n",
       "1                657            2233     False   \n",
       "2               2232            2232     False   \n",
       "3               2233            2233     False   \n",
       "4               2233            2233     False   \n",
       "...              ...             ...       ...   \n",
       "11114           3247            3140      True   \n",
       "11121           3247            3247      True   \n",
       "11178           1396            1396      True   \n",
       "11181           1396            1396      True   \n",
       "11190           1396            1396      True   \n",
       "\n",
       "       verification_last_changed_by_id                         sectors  \\\n",
       "0                                  NaN          [Food Security, Cross]   \n",
       "1                                  NaN                     [Logistics]   \n",
       "2                                  NaN                     [Education]   \n",
       "3                                  NaN                        [Health]   \n",
       "4                                  NaN  [Food Security, Health, Cross]   \n",
       "...                                ...                             ...   \n",
       "11114                           3140.0                     [Education]   \n",
       "11121                           2329.0                   [Livelihoods]   \n",
       "11178                           1394.0                          [WASH]   \n",
       "11181                           1394.0                    [Protection]   \n",
       "11190                           1394.0                          [WASH]   \n",
       "\n",
       "                                         pillars  \\\n",
       "0      [Humanitarian Conditions, People At Risk]   \n",
       "1                        [Capacities & Response]   \n",
       "2              [Humanitarian Conditions, Impact]   \n",
       "3                        [Capacities & Response]   \n",
       "4                        [Capacities & Response]   \n",
       "...                                          ...   \n",
       "11114                  [Humanitarian Conditions]   \n",
       "11121                  [Humanitarian Conditions]   \n",
       "11178                  [Humanitarian Conditions]   \n",
       "11181                  [Humanitarian Conditions]   \n",
       "11190                                   [Impact]   \n",
       "\n",
       "                                                                                                                                                                                       subpillars  \\\n",
       "0      [Humanitarian Conditions->Coping Mechanisms, People At Risk->Risk And Vulnerabilities, Humanitarian Conditions->Living Standards, Humanitarian Conditions->Physical And Mental Well Being]   \n",
       "1                                                                                                                                                 [Capacities & Response->International Response]   \n",
       "2                                                                         [Impact->Driver/Aggravating Factors, Humanitarian Conditions->Living Standards, Impact->Impact On Systems And Services]   \n",
       "3                                                                                                                                                 [Capacities & Response->International Response]   \n",
       "4                                                                                                [Capacities & Response->Number Of People Reached, Capacities & Response->International Response]   \n",
       "...                                                                                                                                                                                           ...   \n",
       "11114                                                                                                                                         [Humanitarian Conditions->Number Of People In Need]   \n",
       "11121                                                                                                                                         [Humanitarian Conditions->Number Of People In Need]   \n",
       "11178                                                                                                                                         [Humanitarian Conditions->Number Of People In Need]   \n",
       "11181                                                                                                                                         [Humanitarian Conditions->Number Of People In Need]   \n",
       "11190                                                                                                                                                         [Impact->Number Of People Affected]   \n",
       "\n",
       "                                                                                                                                                                                                                             merged  \\\n",
       "0      Humanitarian Conditions;People At Risk;Humanitarian Conditions->Coping Mechanisms;People At Risk->Risk And Vulnerabilities;Humanitarian Conditions->Living Standards;Humanitarian Conditions->Physical And Mental Well Being   \n",
       "1                                                                                                                                                               Capacities & Response;Capacities & Response->International Response   \n",
       "2                                                                                Humanitarian Conditions;Impact;Impact->Driver/Aggravating Factors;Humanitarian Conditions->Living Standards;Impact->Impact On Systems And Services   \n",
       "3                                                                                                                                                               Capacities & Response;Capacities & Response->International Response   \n",
       "4                                                                                                               Capacities & Response;Capacities & Response->Number Of People Reached;Capacities & Response->International Response   \n",
       "...                                                                                                                                                                                                                             ...   \n",
       "11114                                                                                                                                                     Humanitarian Conditions;Humanitarian Conditions->Number Of People In Need   \n",
       "11121                                                                                                                                                     Humanitarian Conditions;Humanitarian Conditions->Number Of People In Need   \n",
       "11178                                                                                                                                                     Humanitarian Conditions;Humanitarian Conditions->Number Of People In Need   \n",
       "11181                                                                                                                                                     Humanitarian Conditions;Humanitarian Conditions->Number Of People In Need   \n",
       "11190                                                                                                                                                                                      Impact;Impact->Number Of People Affected   \n",
       "\n",
       "       is_valid  \n",
       "0          True  \n",
       "1          True  \n",
       "2          True  \n",
       "3          True  \n",
       "4          True  \n",
       "...         ...  \n",
       "11114      True  \n",
       "11121      True  \n",
       "11178      True  \n",
       "11181      True  \n",
       "11190      True  \n",
       "\n",
       "[6516 rows x 16 columns]"
      ]
     },
     "execution_count": 107,
     "metadata": {},
     "output_type": "execute_result"
    }
   ],
   "source": [
    "test_df"
   ]
  },
  {
   "cell_type": "code",
   "execution_count": 6,
   "id": "470eceb4",
   "metadata": {
    "ExecuteTime": {
     "end_time": "2021-06-07T07:27:32.073456Z",
     "start_time": "2021-06-07T07:27:32.066029Z"
    }
   },
   "outputs": [],
   "source": [
    "TMP_DIR = Path('./remote-jobs')\n",
    "MERGED_PATH = Path('models/pytorch-training-2021-06-03-15-28-53-523-fastai-merged/output/output.tar.gz')\n",
    "SUBPILLAR_PATH = Path('models/pytorch-training-2021-06-03-16-44-29-318-fastai-subpillar/output/output.tar.gz')\n",
    "EPOCHS5_PATH = Path('models/pytorch-2021-06-03-17-24-17-144-fastai-5ep-merged/output/output.tar.gz')\n",
    "RESAMPLED5_PATH = Path('models/pytorch-2021-06-03-17-47-47-773-fastai-5ep-resampled/output/output.tar.gz')"
   ]
  },
  {
   "cell_type": "code",
   "execution_count": 7,
   "id": "40e0b7c9",
   "metadata": {
    "ExecuteTime": {
     "end_time": "2021-06-07T07:27:34.351747Z",
     "start_time": "2021-06-07T07:27:34.342053Z"
    }
   },
   "outputs": [],
   "source": [
    "def download_locally(remote_path):\n",
    "    local_file = TMP_DIR / remote_path\n",
    "    local_file.parent.mkdir(exist_ok=True, parents=True)\n",
    "    s3 = boto3.client('s3')\n",
    "    s3.download_file(DEV_BUCKET.name, str(remote_path), str(local_file))\n",
    "    with tarfile.open(local_file) as f:\n",
    "        f.extractall(local_file.parent)\n",
    "    print(local_file.parent)\n",
    "    return local_file.parent"
   ]
  },
  {
   "cell_type": "code",
   "execution_count": 8,
   "id": "fe33a983",
   "metadata": {
    "ExecuteTime": {
     "end_time": "2021-06-07T07:28:13.737354Z",
     "start_time": "2021-06-07T07:27:45.355005Z"
    },
    "scrolled": true
   },
   "outputs": [
    {
     "name": "stdout",
     "output_type": "stream",
     "text": [
      "remote-jobs/models/pytorch-training-2021-06-03-15-28-53-523-fastai-merged/output\n",
      "remote-jobs/models/pytorch-training-2021-06-03-16-44-29-318-fastai-subpillar/output\n",
      "remote-jobs/models/pytorch-2021-06-03-17-24-17-144-fastai-5ep-merged/output\n",
      "remote-jobs/models/pytorch-2021-06-03-17-47-47-773-fastai-5ep-resampled/output\n"
     ]
    }
   ],
   "source": [
    "merged_path = download_locally(MERGED_PATH)\n",
    "subpillar_path = download_locally(SUBPILLAR_PATH)\n",
    "epochs5_path = download_locally(EPOCHS5_PATH)\n",
    "resampled5_path = download_locally(RESAMPLED5_PATH)"
   ]
  },
  {
   "cell_type": "code",
   "execution_count": 31,
   "id": "97c37de8",
   "metadata": {
    "ExecuteTime": {
     "end_time": "2021-06-07T08:00:49.972060Z",
     "start_time": "2021-06-07T08:00:49.937338Z"
    }
   },
   "outputs": [],
   "source": [
    "@dataclass\n",
    "class FastaiResults:\n",
    "    classes: List\n",
    "    train_preds: pd.DataFrame\n",
    "    train_targets: pd.DataFrame\n",
    "    test_preds: pd.DataFrame\n",
    "    test_targets: pd.DataFrame\n",
    "        \n",
    "    @staticmethod\n",
    "    def from_path(path):\n",
    "        classes = pd.read_pickle(path / 'classes.pickle')\n",
    "        train_preds = pd.read_pickle(path / 'train_preds.pickle')\n",
    "        train_targets = pd.read_pickle(path / 'train_targets.pickle')\n",
    "        test_preds = pd.read_pickle(path / 'test_preds.pickle')\n",
    "        test_targets = pd.read_pickle(path / 'test_targets.pickle')\n",
    "        return FastaiResults(\n",
    "            classes,\n",
    "            train_preds,\n",
    "            train_targets,\n",
    "            test_preds,\n",
    "            test_targets,\n",
    "        )\n",
    "    \n",
    "    def get_metrics(self, tresh):\n",
    "        preds = (self.test_preds > tresh).int()\n",
    "        targets = self.test_targets.int()\n",
    "        \n",
    "        indexes = []\n",
    "        recalls = []\n",
    "        precisions = []\n",
    "        f1_scores = []\n",
    "        counts = []\n",
    "\n",
    "        for i, class_ in enumerate(self.classes):\n",
    "            class_preds = preds[:, i]\n",
    "            class_targets = targets[:, i]\n",
    "\n",
    "            indexes.append(class_)\n",
    "            precisions.append(precision_score(class_targets, class_preds))\n",
    "            recalls.append(recall_score(class_targets, class_preds))    \n",
    "            f1_scores.append(f1_score(class_targets, class_preds))  \n",
    "            counts.append(int(class_targets.sum()))\n",
    "\n",
    "        indexes.append('all')\n",
    "        precisions.append(precision_score(targets.view(-1), preds.view(-1)))\n",
    "        recalls.append(recall_score(targets.view(-1), preds.view(-1)))    \n",
    "\n",
    "        f1_scores.append(f1_score(targets.view(-1), preds.view(-1)))  \n",
    "        counts.append(int(targets.view(-1).sum()))\n",
    "\n",
    "\n",
    "        all_metrics = pd.DataFrame(\n",
    "            {\n",
    "                'class': indexes,\n",
    "                'recall': recalls,\n",
    "                'precision': precisions,\n",
    "                'f1_score': f1_scores,\n",
    "                'counts': counts\n",
    "            }\n",
    "        ).set_index('class', drop=True)\n",
    "\n",
    "        return all_metrics"
   ]
  },
  {
   "cell_type": "code",
   "execution_count": 32,
   "id": "725786c1",
   "metadata": {
    "ExecuteTime": {
     "end_time": "2021-06-07T08:00:50.244397Z",
     "start_time": "2021-06-07T08:00:50.089273Z"
    }
   },
   "outputs": [],
   "source": [
    "merged_results = FastaiResults.from_path(merged_path)\n",
    "subpillar_results = FastaiResults.from_path(subpillar_path)\n",
    "epochs5_results = FastaiResults.from_path(epochs5_path)\n",
    "resampled5_results = FastaiResults.from_path(resampled5_path)"
   ]
  },
  {
   "cell_type": "code",
   "execution_count": 33,
   "id": "609bfb2e",
   "metadata": {
    "ExecuteTime": {
     "end_time": "2021-06-07T08:00:50.986366Z",
     "start_time": "2021-06-07T08:00:50.334023Z"
    },
    "scrolled": true
   },
   "outputs": [
    {
     "name": "stderr",
     "output_type": "stream",
     "text": [
      "/Users/stefano/miniconda3/envs/deep-exp/lib/python3.9/site-packages/sklearn/metrics/_classification.py:1248: UndefinedMetricWarning: Precision is ill-defined and being set to 0.0 due to no predicted samples. Use `zero_division` parameter to control this behavior.\n",
      "  _warn_prf(average, modifier, msg_start, len(result))\n",
      "/Users/stefano/miniconda3/envs/deep-exp/lib/python3.9/site-packages/sklearn/metrics/_classification.py:1248: UndefinedMetricWarning: Precision is ill-defined and being set to 0.0 due to no predicted samples. Use `zero_division` parameter to control this behavior.\n",
      "  _warn_prf(average, modifier, msg_start, len(result))\n",
      "/Users/stefano/miniconda3/envs/deep-exp/lib/python3.9/site-packages/sklearn/metrics/_classification.py:1248: UndefinedMetricWarning: Precision is ill-defined and being set to 0.0 due to no predicted samples. Use `zero_division` parameter to control this behavior.\n",
      "  _warn_prf(average, modifier, msg_start, len(result))\n",
      "/Users/stefano/miniconda3/envs/deep-exp/lib/python3.9/site-packages/sklearn/metrics/_classification.py:1248: UndefinedMetricWarning: Precision is ill-defined and being set to 0.0 due to no predicted samples. Use `zero_division` parameter to control this behavior.\n",
      "  _warn_prf(average, modifier, msg_start, len(result))\n",
      "/Users/stefano/miniconda3/envs/deep-exp/lib/python3.9/site-packages/sklearn/metrics/_classification.py:1248: UndefinedMetricWarning: Precision is ill-defined and being set to 0.0 due to no predicted samples. Use `zero_division` parameter to control this behavior.\n",
      "  _warn_prf(average, modifier, msg_start, len(result))\n",
      "/Users/stefano/miniconda3/envs/deep-exp/lib/python3.9/site-packages/sklearn/metrics/_classification.py:1248: UndefinedMetricWarning: Precision is ill-defined and being set to 0.0 due to no predicted samples. Use `zero_division` parameter to control this behavior.\n",
      "  _warn_prf(average, modifier, msg_start, len(result))\n",
      "/Users/stefano/miniconda3/envs/deep-exp/lib/python3.9/site-packages/sklearn/metrics/_classification.py:1248: UndefinedMetricWarning: Precision is ill-defined and being set to 0.0 due to no predicted samples. Use `zero_division` parameter to control this behavior.\n",
      "  _warn_prf(average, modifier, msg_start, len(result))\n",
      "/Users/stefano/miniconda3/envs/deep-exp/lib/python3.9/site-packages/sklearn/metrics/_classification.py:1248: UndefinedMetricWarning: Precision is ill-defined and being set to 0.0 due to no predicted samples. Use `zero_division` parameter to control this behavior.\n",
      "  _warn_prf(average, modifier, msg_start, len(result))\n",
      "/Users/stefano/miniconda3/envs/deep-exp/lib/python3.9/site-packages/sklearn/metrics/_classification.py:1248: UndefinedMetricWarning: Precision is ill-defined and being set to 0.0 due to no predicted samples. Use `zero_division` parameter to control this behavior.\n",
      "  _warn_prf(average, modifier, msg_start, len(result))\n"
     ]
    }
   ],
   "source": [
    "merged_metrics = merged_results.get_metrics(0.15)\n",
    "subpillar_metrics = subpillar_results.get_metrics(0.15)\n",
    "epochs5_metrics = epochs5_results.get_metrics(0.4)\n",
    "resampled5_metrics = resampled5_results.get_metrics(0.35)"
   ]
  },
  {
   "cell_type": "code",
   "execution_count": 34,
   "id": "a4a8a7b6",
   "metadata": {
    "ExecuteTime": {
     "end_time": "2021-06-07T08:00:52.805476Z",
     "start_time": "2021-06-07T08:00:52.800135Z"
    }
   },
   "outputs": [],
   "source": [
    "test_preds, test_targets = resampled5_results.test_preds, resampled5_results.test_targets\n",
    "train_preds, train_targets = resampled5_results.train_preds, resampled5_results.train_targets"
   ]
  },
  {
   "cell_type": "code",
   "execution_count": 35,
   "id": "393ecd90",
   "metadata": {
    "ExecuteTime": {
     "end_time": "2021-06-07T08:00:53.024989Z",
     "start_time": "2021-06-07T08:00:53.017869Z"
    }
   },
   "outputs": [],
   "source": [
    "def normalize(df):\n",
    "    correspondences = {\n",
    "        subpillar: subpillar.split('->')[0]\n",
    "        for subpillar in SUBPILLARS\n",
    "    }\n",
    "    for subp, pil in correspondences.items():\n",
    "        df[subp] *= df[pil]\n",
    "    return df[SUBPILLARS]"
   ]
  },
  {
   "cell_type": "code",
   "execution_count": 36,
   "id": "bcb128b6",
   "metadata": {
    "ExecuteTime": {
     "end_time": "2021-06-07T08:00:53.365511Z",
     "start_time": "2021-06-07T08:00:53.244207Z"
    }
   },
   "outputs": [],
   "source": [
    "df_train = normalize(pd.DataFrame(train_preds, columns=resampled5_results.classes))\n",
    "df_test = normalize(pd.DataFrame(test_preds, columns=resampled5_results.classes))\n",
    "train_targets = pd.DataFrame(train_targets, columns=resampled5_results.classes)[SUBPILLARS]\n",
    "test_targets = pd.DataFrame(test_targets, columns=resampled5_results.classes)[SUBPILLARS]"
   ]
  },
  {
   "cell_type": "code",
   "execution_count": 37,
   "id": "0842bd6e",
   "metadata": {
    "ExecuteTime": {
     "end_time": "2021-06-07T08:00:54.794556Z",
     "start_time": "2021-06-07T08:00:54.782644Z"
    }
   },
   "outputs": [],
   "source": [
    "def get_threshold_metrics(preds, targets, num_thresholds):\n",
    "    thresholds = [x/num_thresholds for x in range(num_thresholds)]\n",
    "\n",
    "    recalls = []\n",
    "    precisions = []\n",
    "    f1_scores = []\n",
    "\n",
    "    for threshold in thresholds:\n",
    "        t_preds = (preds.flatten().numpy() > threshold).astype(int)\n",
    "        t_targets = targets.flatten().numpy()\n",
    "        precisions.append(precision_score(t_targets, t_preds))\n",
    "        recalls.append(recall_score(t_targets, t_preds))    \n",
    "        f1_scores.append(f1_score(t_targets, t_preds))        \n",
    "        \n",
    "    all_metrics = pd.DataFrame(\n",
    "        {\n",
    "            'threshold': thresholds,\n",
    "            'recall': recalls,\n",
    "            'precision': precisions,\n",
    "            'f1_score': f1_scores\n",
    "        }\n",
    "    ).set_index('threshold', drop=True)\n",
    "\n",
    "    return all_metrics"
   ]
  },
  {
   "cell_type": "code",
   "execution_count": 38,
   "id": "694526f0",
   "metadata": {
    "ExecuteTime": {
     "end_time": "2021-06-07T08:00:54.959113Z",
     "start_time": "2021-06-07T08:00:54.950945Z"
    }
   },
   "outputs": [],
   "source": [
    "def get_best_threshold(preds, targets, num_thresholds=20):\n",
    "    train_metrics = get_threshold_metrics(preds, targets, num_thresholds)\n",
    "    best_threshold = train_metrics.f1_score.idxmax()\n",
    "    \n",
    "    return best_threshold, train_metrics"
   ]
  },
  {
   "cell_type": "code",
   "execution_count": 39,
   "id": "f9077ae2",
   "metadata": {
    "ExecuteTime": {
     "end_time": "2021-06-07T08:00:55.206370Z",
     "start_time": "2021-06-07T08:00:55.188312Z"
    }
   },
   "outputs": [],
   "source": [
    "def get_metrics(preds, targets, threshold, classes):\n",
    "    preds = (preds > threshold).int()\n",
    "    targets = targets.int()\n",
    "\n",
    "    indexes = []\n",
    "    recalls = []\n",
    "    precisions = []\n",
    "    f1_scores = []\n",
    "    counts = []\n",
    "\n",
    "    for i, class_ in enumerate(classes):\n",
    "        class_preds = preds[:, i]\n",
    "        class_targets = targets[:, i]\n",
    "\n",
    "        indexes.append(class_)\n",
    "        precisions.append(precision_score(class_targets, class_preds))\n",
    "        recalls.append(recall_score(class_targets, class_preds))    \n",
    "        f1_scores.append(f1_score(class_targets, class_preds))  \n",
    "        counts.append(int(class_targets.sum()))\n",
    "\n",
    "    indexes.append('all')\n",
    "    precisions.append(precision_score(targets.flatten(), preds.flatten()))\n",
    "    recalls.append(recall_score(targets.flatten(), preds.flatten()))    \n",
    "\n",
    "    f1_scores.append(f1_score(targets.flatten(), preds.flatten()))  \n",
    "    counts.append(int(targets.flatten().sum()))\n",
    "\n",
    "\n",
    "    all_metrics = pd.DataFrame(\n",
    "        {\n",
    "            'class': indexes,\n",
    "            'recall': recalls,\n",
    "            'precision': precisions,\n",
    "            'f1_score': f1_scores,\n",
    "            'counts': counts\n",
    "        }\n",
    "    ).set_index('class', drop=True)\n",
    "\n",
    "    return all_metrics"
   ]
  },
  {
   "cell_type": "code",
   "execution_count": 18,
   "id": "391e4a62",
   "metadata": {
    "ExecuteTime": {
     "end_time": "2021-06-07T07:29:52.164163Z",
     "start_time": "2021-06-07T07:29:07.676289Z"
    }
   },
   "outputs": [
    {
     "data": {
      "text/plain": [
       "(0.35,\n",
       "              recall  precision  f1_score\n",
       " threshold                               \n",
       " 0.00       1.000000   0.085629  0.157751\n",
       " 0.05       0.983120   0.699714  0.817553\n",
       " 0.10       0.970585   0.790222  0.871166\n",
       " 0.15       0.958458   0.842752  0.896889\n",
       " 0.20       0.947088   0.877327  0.910874\n",
       " 0.25       0.935575   0.902711  0.918849\n",
       " 0.30       0.924374   0.921801  0.923086\n",
       " 0.35       0.912395   0.936314  0.924200\n",
       " 0.40       0.899618   0.947378  0.922880\n",
       " 0.45       0.886477   0.957161  0.920464\n",
       " 0.50       0.872936   0.965433  0.916857\n",
       " 0.55       0.857235   0.971963  0.911001\n",
       " 0.60       0.840733   0.977307  0.903890\n",
       " 0.65       0.824087   0.981711  0.896020\n",
       " 0.70       0.803217   0.985304  0.884992\n",
       " 0.75       0.778461   0.988450  0.870977\n",
       " 0.80       0.749722   0.991392  0.853785\n",
       " 0.85       0.710814   0.993683  0.828777\n",
       " 0.90       0.653968   0.995649  0.789423\n",
       " 0.95       0.557586   0.997555  0.715334)"
      ]
     },
     "execution_count": 18,
     "metadata": {},
     "output_type": "execute_result"
    }
   ],
   "source": [
    "get_best_threshold(torch.tensor(df_train.values), torch.tensor(train_targets.values))"
   ]
  },
  {
   "cell_type": "code",
   "execution_count": 19,
   "id": "8c1dcc72",
   "metadata": {
    "ExecuteTime": {
     "end_time": "2021-06-07T07:30:05.576814Z",
     "start_time": "2021-06-07T07:30:05.422287Z"
    },
    "scrolled": true
   },
   "outputs": [
    {
     "name": "stderr",
     "output_type": "stream",
     "text": [
      "/Users/stefano/miniconda3/envs/deep-exp/lib/python3.9/site-packages/sklearn/metrics/_classification.py:1248: UndefinedMetricWarning: Precision is ill-defined and being set to 0.0 due to no predicted samples. Use `zero_division` parameter to control this behavior.\n",
      "  _warn_prf(average, modifier, msg_start, len(result))\n"
     ]
    }
   ],
   "source": [
    "metrics = get_metrics(torch.tensor(df_test.values), torch.tensor(test_targets.values), 0.35, SUBPILLARS)"
   ]
  },
  {
   "cell_type": "code",
   "execution_count": 40,
   "id": "dadffb23",
   "metadata": {
    "ExecuteTime": {
     "end_time": "2021-06-07T08:01:06.771817Z",
     "start_time": "2021-06-07T08:01:06.762775Z"
    }
   },
   "outputs": [],
   "source": [
    "merg_metrics = merged_metrics.loc[SUBPILLARS]\n",
    "sub_metrics = subpillar_metrics.loc[SUBPILLARS]\n",
    "ep5_metrics = epochs5_metrics.loc[SUBPILLARS]"
   ]
  },
  {
   "cell_type": "code",
   "execution_count": 41,
   "id": "479aaba8",
   "metadata": {
    "ExecuteTime": {
     "end_time": "2021-06-07T08:01:10.087974Z",
     "start_time": "2021-06-07T08:01:10.068888Z"
    }
   },
   "outputs": [],
   "source": [
    "joined = merg_metrics.join(ep5_metrics, rsuffix='_5').join(metrics, rsuffix='_new')"
   ]
  },
  {
   "cell_type": "code",
   "execution_count": 42,
   "id": "7b0f8352",
   "metadata": {
    "ExecuteTime": {
     "end_time": "2021-06-07T08:01:10.452571Z",
     "start_time": "2021-06-07T08:01:10.426288Z"
    },
    "scrolled": true
   },
   "outputs": [
    {
     "data": {
      "text/html": [
       "<div>\n",
       "<style scoped>\n",
       "    .dataframe tbody tr th:only-of-type {\n",
       "        vertical-align: middle;\n",
       "    }\n",
       "\n",
       "    .dataframe tbody tr th {\n",
       "        vertical-align: top;\n",
       "    }\n",
       "\n",
       "    .dataframe thead th {\n",
       "        text-align: right;\n",
       "    }\n",
       "</style>\n",
       "<table border=\"1\" class=\"dataframe\">\n",
       "  <thead>\n",
       "    <tr style=\"text-align: right;\">\n",
       "      <th></th>\n",
       "      <th>f1_score</th>\n",
       "      <th>f1_score_5</th>\n",
       "      <th>f1_score_new</th>\n",
       "    </tr>\n",
       "    <tr>\n",
       "      <th>class</th>\n",
       "      <th></th>\n",
       "      <th></th>\n",
       "      <th></th>\n",
       "    </tr>\n",
       "  </thead>\n",
       "  <tbody>\n",
       "    <tr>\n",
       "      <th>Capacities &amp; Response-&gt;International Response</th>\n",
       "      <td>0.681855</td>\n",
       "      <td>0.724974</td>\n",
       "      <td>0.719499</td>\n",
       "    </tr>\n",
       "    <tr>\n",
       "      <th>Capacities &amp; Response-&gt;National Response</th>\n",
       "      <td>0.406795</td>\n",
       "      <td>0.490506</td>\n",
       "      <td>0.468354</td>\n",
       "    </tr>\n",
       "    <tr>\n",
       "      <th>Capacities &amp; Response-&gt;Number Of People Reached</th>\n",
       "      <td>0.665208</td>\n",
       "      <td>0.721485</td>\n",
       "      <td>0.700000</td>\n",
       "    </tr>\n",
       "    <tr>\n",
       "      <th>Capacities &amp; Response-&gt;Response Gaps</th>\n",
       "      <td>0.000000</td>\n",
       "      <td>0.000000</td>\n",
       "      <td>0.000000</td>\n",
       "    </tr>\n",
       "    <tr>\n",
       "      <th>Humanitarian Conditions-&gt;Coping Mechanisms</th>\n",
       "      <td>0.367133</td>\n",
       "      <td>0.337182</td>\n",
       "      <td>0.337553</td>\n",
       "    </tr>\n",
       "    <tr>\n",
       "      <th>Humanitarian Conditions-&gt;Living Standards</th>\n",
       "      <td>0.605734</td>\n",
       "      <td>0.679237</td>\n",
       "      <td>0.616645</td>\n",
       "    </tr>\n",
       "    <tr>\n",
       "      <th>Humanitarian Conditions-&gt;Number Of People In Need</th>\n",
       "      <td>0.496241</td>\n",
       "      <td>0.523741</td>\n",
       "      <td>0.526012</td>\n",
       "    </tr>\n",
       "    <tr>\n",
       "      <th>Humanitarian Conditions-&gt;Physical And Mental Well Being</th>\n",
       "      <td>0.556456</td>\n",
       "      <td>0.701981</td>\n",
       "      <td>0.668430</td>\n",
       "    </tr>\n",
       "    <tr>\n",
       "      <th>Impact-&gt;Driver/Aggravating Factors</th>\n",
       "      <td>0.456876</td>\n",
       "      <td>0.471000</td>\n",
       "      <td>0.454789</td>\n",
       "    </tr>\n",
       "    <tr>\n",
       "      <th>Impact-&gt;Impact On People</th>\n",
       "      <td>0.408435</td>\n",
       "      <td>0.361262</td>\n",
       "      <td>0.412523</td>\n",
       "    </tr>\n",
       "    <tr>\n",
       "      <th>Impact-&gt;Impact On People Or Impact On Services</th>\n",
       "      <td>0.513433</td>\n",
       "      <td>0.512821</td>\n",
       "      <td>0.493590</td>\n",
       "    </tr>\n",
       "    <tr>\n",
       "      <th>Impact-&gt;Impact On Services</th>\n",
       "      <td>0.250000</td>\n",
       "      <td>0.215000</td>\n",
       "      <td>0.241135</td>\n",
       "    </tr>\n",
       "    <tr>\n",
       "      <th>Impact-&gt;Impact On Systems And Services</th>\n",
       "      <td>0.530589</td>\n",
       "      <td>0.535354</td>\n",
       "      <td>0.556142</td>\n",
       "    </tr>\n",
       "    <tr>\n",
       "      <th>Impact-&gt;Number Of People Affected</th>\n",
       "      <td>0.348910</td>\n",
       "      <td>0.259067</td>\n",
       "      <td>0.334884</td>\n",
       "    </tr>\n",
       "    <tr>\n",
       "      <th>People At Risk-&gt;Number Of People At Risk</th>\n",
       "      <td>0.000000</td>\n",
       "      <td>0.000000</td>\n",
       "      <td>0.025000</td>\n",
       "    </tr>\n",
       "    <tr>\n",
       "      <th>People At Risk-&gt;Risk And Vulnerabilities</th>\n",
       "      <td>0.502326</td>\n",
       "      <td>0.493151</td>\n",
       "      <td>0.490823</td>\n",
       "    </tr>\n",
       "    <tr>\n",
       "      <th>Priority Interventions-&gt;Expressed By Humanitarian Staff</th>\n",
       "      <td>0.558891</td>\n",
       "      <td>0.648148</td>\n",
       "      <td>0.613497</td>\n",
       "    </tr>\n",
       "    <tr>\n",
       "      <th>Priority Interventions-&gt;Expressed By Population</th>\n",
       "      <td>0.000000</td>\n",
       "      <td>0.000000</td>\n",
       "      <td>0.200000</td>\n",
       "    </tr>\n",
       "    <tr>\n",
       "      <th>Priority Needs-&gt;Expressed By Humanitarian Staff</th>\n",
       "      <td>0.226148</td>\n",
       "      <td>0.267516</td>\n",
       "      <td>0.297436</td>\n",
       "    </tr>\n",
       "    <tr>\n",
       "      <th>Priority Needs-&gt;Expressed By Population</th>\n",
       "      <td>0.241546</td>\n",
       "      <td>0.226667</td>\n",
       "      <td>0.322034</td>\n",
       "    </tr>\n",
       "  </tbody>\n",
       "</table>\n",
       "</div>"
      ],
      "text/plain": [
       "                                                         f1_score  f1_score_5  \\\n",
       "class                                                                           \n",
       "Capacities & Response->International Response            0.681855    0.724974   \n",
       "Capacities & Response->National Response                 0.406795    0.490506   \n",
       "Capacities & Response->Number Of People Reached          0.665208    0.721485   \n",
       "Capacities & Response->Response Gaps                     0.000000    0.000000   \n",
       "Humanitarian Conditions->Coping Mechanisms               0.367133    0.337182   \n",
       "Humanitarian Conditions->Living Standards                0.605734    0.679237   \n",
       "Humanitarian Conditions->Number Of People In Need        0.496241    0.523741   \n",
       "Humanitarian Conditions->Physical And Mental Well Being  0.556456    0.701981   \n",
       "Impact->Driver/Aggravating Factors                       0.456876    0.471000   \n",
       "Impact->Impact On People                                 0.408435    0.361262   \n",
       "Impact->Impact On People Or Impact On Services           0.513433    0.512821   \n",
       "Impact->Impact On Services                               0.250000    0.215000   \n",
       "Impact->Impact On Systems And Services                   0.530589    0.535354   \n",
       "Impact->Number Of People Affected                        0.348910    0.259067   \n",
       "People At Risk->Number Of People At Risk                 0.000000    0.000000   \n",
       "People At Risk->Risk And Vulnerabilities                 0.502326    0.493151   \n",
       "Priority Interventions->Expressed By Humanitarian Staff  0.558891    0.648148   \n",
       "Priority Interventions->Expressed By Population          0.000000    0.000000   \n",
       "Priority Needs->Expressed By Humanitarian Staff          0.226148    0.267516   \n",
       "Priority Needs->Expressed By Population                  0.241546    0.226667   \n",
       "\n",
       "                                                         f1_score_new  \n",
       "class                                                                  \n",
       "Capacities & Response->International Response                0.719499  \n",
       "Capacities & Response->National Response                     0.468354  \n",
       "Capacities & Response->Number Of People Reached              0.700000  \n",
       "Capacities & Response->Response Gaps                         0.000000  \n",
       "Humanitarian Conditions->Coping Mechanisms                   0.337553  \n",
       "Humanitarian Conditions->Living Standards                    0.616645  \n",
       "Humanitarian Conditions->Number Of People In Need            0.526012  \n",
       "Humanitarian Conditions->Physical And Mental Well Being      0.668430  \n",
       "Impact->Driver/Aggravating Factors                           0.454789  \n",
       "Impact->Impact On People                                     0.412523  \n",
       "Impact->Impact On People Or Impact On Services               0.493590  \n",
       "Impact->Impact On Services                                   0.241135  \n",
       "Impact->Impact On Systems And Services                       0.556142  \n",
       "Impact->Number Of People Affected                            0.334884  \n",
       "People At Risk->Number Of People At Risk                     0.025000  \n",
       "People At Risk->Risk And Vulnerabilities                     0.490823  \n",
       "Priority Interventions->Expressed By Humanitarian Staff      0.613497  \n",
       "Priority Interventions->Expressed By Population              0.200000  \n",
       "Priority Needs->Expressed By Humanitarian Staff              0.297436  \n",
       "Priority Needs->Expressed By Population                      0.322034  "
      ]
     },
     "execution_count": 42,
     "metadata": {},
     "output_type": "execute_result"
    }
   ],
   "source": [
    "joined[['f1_score', 'f1_score_5', 'f1_score_new']]"
   ]
  },
  {
   "cell_type": "code",
   "execution_count": 43,
   "id": "1156a6c0",
   "metadata": {
    "ExecuteTime": {
     "end_time": "2021-06-07T08:01:22.828828Z",
     "start_time": "2021-06-07T08:01:22.542643Z"
    }
   },
   "outputs": [
    {
     "data": {
      "text/plain": [
       "<AxesSubplot:xlabel='class'>"
      ]
     },
     "execution_count": 43,
     "metadata": {},
     "output_type": "execute_result"
    },
    {
     "data": {
      "image/png": "[encoded data removed]",
      "text/plain": [
       "<Figure size 1440x720 with 1 Axes>"
      ]
     },
     "metadata": {
      "needs_background": "light"
     },
     "output_type": "display_data"
    }
   ],
   "source": [
    "joined[['f1_score', 'f1_score_5', 'f1_score_new']].plot(figsize=(20, 10), xticks=range(len(SUBPILLARS)+1), yticks=[x/10 for x in range(11)], ylim=(0, 1), grid=True)"
   ]
  },
  {
   "cell_type": "markdown",
   "id": "b8dadf76",
   "metadata": {},
   "source": [
    "# Inspect results"
   ]
  },
  {
   "cell_type": "code",
   "execution_count": 76,
   "id": "a64e70c4",
   "metadata": {
    "ExecuteTime": {
     "end_time": "2021-06-07T08:22:32.072028Z",
     "start_time": "2021-06-07T08:22:32.062324Z"
    },
    "scrolled": true
   },
   "outputs": [
    {
     "data": {
      "text/plain": [
       "['Capacities & Response',\n",
       " 'Capacities & Response->International Response',\n",
       " 'Capacities & Response->National Response',\n",
       " 'Capacities & Response->Number Of People Reached',\n",
       " 'Capacities & Response->Response Gaps',\n",
       " 'Humanitarian Conditions',\n",
       " 'Humanitarian Conditions->Coping Mechanisms',\n",
       " 'Humanitarian Conditions->Living Standards',\n",
       " 'Humanitarian Conditions->Number Of People In Need',\n",
       " 'Humanitarian Conditions->Physical And Mental Well Being',\n",
       " 'Impact',\n",
       " 'Impact->Driver/Aggravating Factors',\n",
       " 'Impact->Impact On People',\n",
       " 'Impact->Impact On People Or Impact On Services',\n",
       " 'Impact->Impact On Services',\n",
       " 'Impact->Impact On Systems And Services',\n",
       " 'Impact->Number Of People Affected',\n",
       " 'People At Risk',\n",
       " 'People At Risk->Number Of People At Risk',\n",
       " 'People At Risk->Risk And Vulnerabilities',\n",
       " 'Priority Interventions',\n",
       " 'Priority Interventions->Expressed By Humanitarian Staff',\n",
       " 'Priority Interventions->Expressed By Population',\n",
       " 'Priority Needs',\n",
       " 'Priority Needs->Expressed By Humanitarian Staff',\n",
       " 'Priority Needs->Expressed By Population']"
      ]
     },
     "execution_count": 76,
     "metadata": {},
     "output_type": "execute_result"
    }
   ],
   "source": [
    "resampled5_results.classes"
   ]
  },
  {
   "cell_type": "code",
   "execution_count": 77,
   "id": "de18b29e",
   "metadata": {
    "ExecuteTime": {
     "end_time": "2021-06-07T08:22:35.024824Z",
     "start_time": "2021-06-07T08:22:35.019822Z"
    }
   },
   "outputs": [
    {
     "name": "stdout",
     "output_type": "stream",
     "text": [
      "Humanitarian Conditions\n",
      "Humanitarian Conditions->Coping Mechanisms\n",
      "Humanitarian Conditions->Living Standards\n",
      "Humanitarian Conditions->Physical And Mental Well Being\n",
      "People At Risk\n",
      "People At Risk->Risk And Vulnerabilities\n"
     ]
    }
   ],
   "source": [
    "for i, x in enumerate(resampled5_results.test_targets[0]):\n",
    "    if x:\n",
    "        print(resampled5_results.classes[i])"
   ]
  },
  {
   "cell_type": "code",
   "execution_count": 70,
   "id": "77dc5c61",
   "metadata": {
    "ExecuteTime": {
     "end_time": "2021-06-07T08:21:01.831306Z",
     "start_time": "2021-06-07T08:21:01.818971Z"
    }
   },
   "outputs": [
    {
     "data": {
      "text/plain": [
       "tensor([[3.3425e-03, 5.0780e-07, 7.9411e-06,  ..., 9.6688e-05, 1.3268e-09,\n",
       "         3.6622e-09],\n",
       "        [9.9735e-01, 9.9367e-01, 1.7090e-01,  ..., 7.5125e-08, 6.7299e-15,\n",
       "         9.7276e-15],\n",
       "        [1.7258e-03, 1.2547e-07, 1.0205e-05,  ..., 7.3872e-06, 9.4831e-11,\n",
       "         3.2621e-13],\n",
       "        ...,\n",
       "        [1.3767e-01, 1.5621e-04, 1.3215e-02,  ..., 5.8271e-01, 1.3070e-02,\n",
       "         3.3862e-01],\n",
       "        [4.6626e-03, 6.0594e-07, 4.6855e-05,  ..., 7.4559e-06, 1.2523e-11,\n",
       "         8.9302e-11],\n",
       "        [8.8518e-01, 1.0324e-01, 6.8829e-01,  ..., 3.3534e-06, 2.3583e-11,\n",
       "         1.9363e-11]])"
      ]
     },
     "execution_count": 70,
     "metadata": {},
     "output_type": "execute_result"
    }
   ],
   "source": [
    "resampled5_results.test_preds"
   ]
  },
  {
   "cell_type": "code",
   "execution_count": 96,
   "id": "8d5d3925",
   "metadata": {
    "ExecuteTime": {
     "end_time": "2021-06-07T08:26:58.106688Z",
     "start_time": "2021-06-07T08:26:58.100189Z"
    }
   },
   "outputs": [],
   "source": [
    "classes = np.array(resampled5_results.classes)"
   ]
  },
  {
   "cell_type": "code",
   "execution_count": 106,
   "id": "4fce9207",
   "metadata": {
    "ExecuteTime": {
     "end_time": "2021-06-07T08:34:45.139369Z",
     "start_time": "2021-06-07T08:28:59.796823Z"
    },
    "scrolled": true
   },
   "outputs": [
    {
     "name": "stdout",
     "output_type": "stream",
     "text": [
      "What this means is that families across the country can no longer afford the very basics. And food security and nutrition indicators clearly reflect that. Some 9.3 million people are food insecure. More than 2 million more are at risk of becoming food insecure. 86 per cent of households say they are buying lower quality food, or less food, or skipping meals.\n",
      "['Humanitarian Conditions', 'Humanitarian Conditions->Coping Mechanisms', 'Humanitarian Conditions->Living Standards', 'Humanitarian Conditions->Physical And Mental Well Being', 'People At Risk', 'People At Risk->Risk And Vulnerabilities']\n",
      "['Humanitarian Conditions', 'Humanitarian Conditions->Coping Mechanisms', 'Humanitarian Conditions->Living Standards', 'Humanitarian Conditions->Physical And Mental Well Being', 'People At Risk', 'People At Risk->Risk And Vulnerabilities']\n",
      "\n",
      "Dispatch and Referral Unit (DRU): IOM continues to coordinate an expanded fleet of 22 vehicles, 11 of which are supplied by IOM and staffed with drivers fully trained on Infection Prevention and Control.\n",
      "['Capacities & Response', 'Capacities & Response->International Response', 'Capacities & Response->National Response']\n",
      "['Capacities & Response', 'Capacities & Response->International Response']\n",
      "\n",
      "A third of school-aged children in Syria – 2.5 million children – are out of school. Another 1.6 million are at risk of dropping out of school. The number of out-of-school children has increased by 16 per cent since last year. With school closures due to COVID-19, that number is very likely to increase further\n",
      "['Humanitarian Conditions', 'Impact', 'Impact->Driver/Aggravating Factors', 'Impact->Impact On Systems And Services', 'People At Risk', 'People At Risk->Risk And Vulnerabilities']\n",
      "['Humanitarian Conditions', 'Humanitarian Conditions->Living Standards', 'Impact', 'Impact->Driver/Aggravating Factors', 'Impact->Impact On Systems And Services']\n",
      "\n",
      "The RIRT coordination system has been formalized and each camp now has RIRT team composed of an isolation unit focal point, contact tracing supervisor and a SM focal. To operationalize engagement of these teams, the World Health organization established WhatsApp groups for a better coordinated COVID-19 response. On 18 July, the camp 22 RIRT team responded to its first confirmed COVID -19 patient. The team assisted the affected family by supporting the patient’s transfer to a SARI ITC. The team also supported as the four family members were transferred to Kerantoli Quarantine Centre in Teknaf.\n",
      "['Capacities & Response', 'Capacities & Response->International Response']\n",
      "['Capacities & Response', 'Capacities & Response->International Response']\n",
      "\n",
      "Project implementation partners continued dissemination of messages on prevention of COVID-19 transmission, food safety, waste management, and hygienic practices in advance of EID al – Adha, following IOM WASH unit guidance. The partner organization conducted a total of 153, 674 household sessions reaching 200, 328 beneficiaries an average of three times in the reporting period>> IOM’s implementing partners also conducted 4,410 megaphone messaging session, reaching an estimated 151,475 beneficiaries and average of two times each. Ips additionally coordinated with Camps-in -charge (CiC), site management teams and local leaders to systematize the animal sacrifice and waste management process to ensure to reduce the risk of COVID -19 transmission, ensure soap and water at handwashing facilities, supply sufficient cleaning materials, and organize waste management.\n",
      "['Capacities & Response', 'Capacities & Response->International Response', 'Capacities & Response->National Response', 'Capacities & Response->Number Of People Reached']\n",
      "['Capacities & Response', 'Capacities & Response->International Response', 'Capacities & Response->Number Of People Reached']\n",
      "\n",
      "IOM and partners continued sensitization of both Rohingya refugees and host community members through awareness raising on human trafficking and Covid-19. The outreach messages promoted personal hygiene and physical distancing while discouraging mass gatherings, as well as describing the possible risks of human trafficking during the pandemic context. The effort reached 5,761 individuals (2,235 women, 12 elderly women, 10 women with disabilities, 2,063 men, 51 elderly m,en, 21 men with disabilities, 704 boys, two boys with disabilities and 663 girls) through 740 sessions. Meanwhile, 3,226 (comic) pocket books that depict possible trafficking scenarios were distributed to Rohingya and host community members to sensitize them regarding human trafficking risks.\n",
      "['Capacities & Response', 'Capacities & Response->International Response', 'Capacities & Response->Number Of People Reached']\n",
      "['Capacities & Response', 'Capacities & Response->International Response', 'Capacities & Response->National Response', 'Capacities & Response->Number Of People Reached']\n",
      "\n",
      "In Kongoussi, where tens of thousands of displaced people are living, construction workers were erecting a new ward at the local hospital last month to cope with the increasing numbers of emaciated children. The noise rattled through a makeshift waiting room where a line of anxious parents all held frail babies.\n",
      "['Capacities & Response', 'Humanitarian Conditions', 'Humanitarian Conditions->Coping Mechanisms', 'Humanitarian Conditions->Physical And Mental Well Being']\n",
      "['People At Risk', 'People At Risk->Risk And Vulnerabilities']\n",
      "\n",
      "A total of 269 awareness sessions and sensitizations reached 17,472 individuals in the BAY States (Men – 6,661; Women – 9,243; Boys - 696; Girls - 869) with protection-based messaging on COVID-19. Of this number, 75 % were in Borno State, 19 % in Adamawa State and 7 % in Yobe State. Thematic areas covered included Human rights, Prevention of Sexual Exploitation and Abuse and the referral pathway. Information on the Prevention and Response to COVID-19 have been mainstreamed into daily protection awareness sessions.\n",
      "['Capacities & Response', 'Capacities & Response->Number Of People Reached']\n",
      "['Capacities & Response', 'Capacities & Response->Number Of People Reached']\n",
      "\n",
      "Las mujeres provenientes de Venezuela son más vulnerables a esta situación puesto que por falta de ingresos relacionados con sus actividades económicas informales no cuentan con la capacidad ﬁnanciera para recargar sus teléfonos, comprar minutos o ir de manera presencial a la Comisaría de Familia.\n",
      "['Humanitarian Conditions', 'Humanitarian Conditions->Coping Mechanisms', 'Humanitarian Conditions->Living Standards', 'Humanitarian Conditions->Physical And Mental Well Being', 'Impact', 'People At Risk']\n",
      "['Humanitarian Conditions', 'Humanitarian Conditions->Living Standards', 'People At Risk', 'People At Risk->Risk And Vulnerabilities']\n",
      "\n",
      "No todas las mujeres cuentan con medios de comunicación (celulares, líneas telefónicas y paquete de minutos) para acceder a las líneas de atención y orientación de violencias basadas en género brindadas por las distintas instituciones presentes en el territorio.\n",
      "['Priority Needs']\n",
      "['Humanitarian Conditions', 'Humanitarian Conditions->Living Standards', 'Impact', 'Impact->Driver/Aggravating Factors']\n",
      "\n",
      "En Colombia se han reportado al día 25 de junio 80.599 casos de COVID-19, el departamento de La Guajira reporta hasta el momento 261 casos (Ministerio de Salud y Protección Social) y el número aproximado de pruebas realizadas en el departamento son 2.460 (AT- Salud La Guajira).\n",
      "['Capacities & Response', 'Humanitarian Conditions', 'Humanitarian Conditions->Physical And Mental Well Being']\n",
      "['Humanitarian Conditions', 'Humanitarian Conditions->Physical And Mental Well Being']\n",
      "s\n"
     ]
    }
   ],
   "source": [
    "for text, pred, target in zip(test_df.excerpt, resampled5_results.test_preds, resampled5_results.test_targets):\n",
    "    print(text)\n",
    "    print(sorted(classes[pred>0.15]))\n",
    "    print(sorted(classes[target==1]))\n",
    "    \n",
    "    \n",
    "    a = input()\n",
    "    if a == 's':\n",
    "        break"
   ]
  },
  {
   "cell_type": "code",
   "execution_count": 102,
   "id": "2bf97e44",
   "metadata": {
    "ExecuteTime": {
     "end_time": "2021-06-07T08:28:04.134609Z",
     "start_time": "2021-06-07T08:28:04.125985Z"
    }
   },
   "outputs": [
    {
     "data": {
      "text/plain": [
       "tensor([0., 0., 0., 0., 0., 1., 1., 1., 0., 1., 0., 0., 0., 0., 0., 0., 0., 1.,\n",
       "        0., 1., 0., 0., 0., 0., 0., 0.])"
      ]
     },
     "execution_count": 102,
     "metadata": {},
     "output_type": "execute_result"
    }
   ],
   "source": [
    "target"
   ]
  },
  {
   "cell_type": "code",
   "execution_count": 100,
   "id": "0c38565e",
   "metadata": {
    "ExecuteTime": {
     "end_time": "2021-06-07T08:27:16.586052Z",
     "start_time": "2021-06-07T08:27:16.577680Z"
    }
   },
   "outputs": [
    {
     "data": {
      "text/plain": [
       "array(['Capacities & Response',\n",
       "       'Capacities & Response->National Response',\n",
       "       'Humanitarian Conditions', 'People At Risk'], dtype='<U55')"
      ]
     },
     "execution_count": 100,
     "metadata": {},
     "output_type": "execute_result"
    }
   ],
   "source": []
  },
  {
   "cell_type": "code",
   "execution_count": null,
   "id": "206703ac",
   "metadata": {},
   "outputs": [],
   "source": []
  }
 ],
 "metadata": {
  "kernelspec": {
   "display_name": "Python 3",
   "language": "python",
   "name": "python3"
  },
  "language_info": {
   "codemirror_mode": {
    "name": "ipython",
    "version": 3
   },
   "file_extension": ".py",
   "mimetype": "text/x-python",
   "name": "python",
   "nbconvert_exporter": "python",
   "pygments_lexer": "ipython3",
   "version": "3.9.1"
  },
  "notify_time": "5",
  "toc": {
   "base_numbering": 1,
   "nav_menu": {},
   "number_sections": true,
   "sideBar": true,
   "skip_h1_title": false,
   "title_cell": "Table of Contents",
   "title_sidebar": "Contents",
   "toc_cell": false,
   "toc_position": {},
   "toc_section_display": true,
   "toc_window_display": false
  }
 },
 "nbformat": 4,
 "nbformat_minor": 5
}
