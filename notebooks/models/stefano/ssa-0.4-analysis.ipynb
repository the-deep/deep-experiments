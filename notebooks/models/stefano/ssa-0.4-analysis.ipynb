{
 "cells": [
  {
   "cell_type": "markdown",
   "id": "a2c7d55d",
   "metadata": {},
   "source": [
    "Using kernel `conda_pytorch_latest_p36`"
   ]
  },
  {
   "cell_type": "code",
   "execution_count": 1,
   "id": "4bf313a5",
   "metadata": {
    "ExecuteTime": {
     "end_time": "2021-05-31T14:48:54.639675Z",
     "start_time": "2021-05-31T14:48:54.633234Z"
    },
    "scrolled": true
   },
   "outputs": [],
   "source": [
    "# !pip install transformers\n",
    "# !pip install datasets"
   ]
  },
  {
   "cell_type": "code",
   "execution_count": 2,
   "id": "d1df8cff",
   "metadata": {
    "ExecuteTime": {
     "end_time": "2021-05-31T14:48:54.864556Z",
     "start_time": "2021-05-31T14:48:54.860271Z"
    }
   },
   "outputs": [],
   "source": [
    "import sys\n",
    "sys.path.append('../../../')"
   ]
  },
  {
   "cell_type": "code",
   "execution_count": 8,
   "id": "8d571bc3",
   "metadata": {
    "ExecuteTime": {
     "end_time": "2021-05-31T14:50:33.029733Z",
     "start_time": "2021-05-31T14:50:33.023510Z"
    }
   },
   "outputs": [],
   "source": [
    "from pathlib import Path\n",
    "import os\n",
    "import random\n",
    "import pickle"
   ]
  },
  {
   "cell_type": "code",
   "execution_count": 4,
   "id": "22649486",
   "metadata": {
    "ExecuteTime": {
     "end_time": "2021-05-31T14:48:57.161077Z",
     "start_time": "2021-05-31T14:48:55.348869Z"
    }
   },
   "outputs": [],
   "source": [
    "import pandas as pd\n",
    "import numpy as np\n",
    "from transformers import DistilBertForSequenceClassification, DistilBertTokenizerFast, Trainer, TrainingArguments\n",
    "from sklearn.metrics import classification_report\n",
    "import torch"
   ]
  },
  {
   "cell_type": "code",
   "execution_count": 5,
   "id": "e6f9bd78",
   "metadata": {
    "ExecuteTime": {
     "end_time": "2021-05-31T14:48:57.292391Z",
     "start_time": "2021-05-31T14:48:57.162152Z"
    }
   },
   "outputs": [],
   "source": [
    "from deep.constants import *"
   ]
  },
  {
   "cell_type": "code",
   "execution_count": 23,
   "id": "2b9983ac",
   "metadata": {
    "ExecuteTime": {
     "end_time": "2021-05-31T15:51:47.585032Z",
     "start_time": "2021-05-31T15:51:47.569921Z"
    }
   },
   "outputs": [],
   "source": [
    "def sigmoid(x):\n",
    "    return 1 / (1 + torch.exp(-x))"
   ]
  },
  {
   "cell_type": "code",
   "execution_count": 29,
   "id": "db11bccc",
   "metadata": {
    "ExecuteTime": {
     "end_time": "2021-05-31T15:54:35.664795Z",
     "start_time": "2021-05-31T15:54:35.652121Z"
    }
   },
   "outputs": [],
   "source": [
    "a = pd.read_pickle('/Users/stefano/Downloads/test_predictions.pickle')\n",
    "b = sigmoid(a)"
   ]
  },
  {
   "cell_type": "code",
   "execution_count": 30,
   "id": "daf7722e",
   "metadata": {
    "ExecuteTime": {
     "end_time": "2021-05-31T15:54:35.971577Z",
     "start_time": "2021-05-31T15:54:35.965626Z"
    },
    "scrolled": true
   },
   "outputs": [
    {
     "data": {
      "text/plain": [
       "torch.Size([11617, 10])"
      ]
     },
     "execution_count": 30,
     "metadata": {},
     "output_type": "execute_result"
    }
   ],
   "source": [
    "a.shape"
   ]
  },
  {
   "cell_type": "code",
   "execution_count": 31,
   "id": "69578d51",
   "metadata": {
    "ExecuteTime": {
     "end_time": "2021-05-31T15:54:36.461161Z",
     "start_time": "2021-05-31T15:54:36.450975Z"
    }
   },
   "outputs": [
    {
     "data": {
      "text/plain": [
       "tensor([[ 0.1980,  0.0710,  0.2459,  ..., -0.2403,  0.0762,  0.0413],\n",
       "        [ 0.3667,  0.1059,  0.3353,  ..., -0.0385,  0.0689, -0.2443],\n",
       "        [ 0.4063, -0.0352,  0.2770,  ..., -0.1974,  0.0131, -0.0497],\n",
       "        ...,\n",
       "        [ 0.2346,  0.2211,  0.4581,  ..., -0.0631,  0.0730, -0.0727],\n",
       "        [ 0.1940,  0.1128,  0.3020,  ..., -0.0594,  0.1630,  0.0610],\n",
       "        [ 0.0056,  0.1211,  0.3832,  ..., -0.1178,  0.1126, -0.1457]])"
      ]
     },
     "execution_count": 31,
     "metadata": {},
     "output_type": "execute_result"
    }
   ],
   "source": [
    "a"
   ]
  },
  {
   "cell_type": "code",
   "execution_count": 27,
   "id": "9b7fca50",
   "metadata": {
    "ExecuteTime": {
     "end_time": "2021-05-31T15:52:04.501022Z",
     "start_time": "2021-05-31T15:52:04.493276Z"
    }
   },
   "outputs": [
    {
     "data": {
      "text/plain": [
       "tensor([[0.5493, 0.5177, 0.5612,  ..., 0.4402, 0.5190, 0.5103],\n",
       "        [0.5907, 0.5265, 0.5830,  ..., 0.4904, 0.5172, 0.4392],\n",
       "        [0.6002, 0.4912, 0.5688,  ..., 0.4508, 0.5033, 0.4876],\n",
       "        ...,\n",
       "        [0.5584, 0.5551, 0.6126,  ..., 0.4842, 0.5182, 0.4818],\n",
       "        [0.5483, 0.5282, 0.5749,  ..., 0.4852, 0.5407, 0.5152],\n",
       "        [0.5014, 0.5302, 0.5947,  ..., 0.4706, 0.5281, 0.4636]])"
      ]
     },
     "execution_count": 27,
     "metadata": {},
     "output_type": "execute_result"
    }
   ],
   "source": [
    "a"
   ]
  },
  {
   "cell_type": "code",
   "execution_count": null,
   "id": "28c9fa6f",
   "metadata": {},
   "outputs": [],
   "source": []
  }
 ],
 "metadata": {
  "kernelspec": {
   "display_name": "Python 3",
   "language": "python",
   "name": "python3"
  },
  "language_info": {
   "codemirror_mode": {
    "name": "ipython",
    "version": 3
   },
   "file_extension": ".py",
   "mimetype": "text/x-python",
   "name": "python",
   "nbconvert_exporter": "python",
   "pygments_lexer": "ipython3",
   "version": "3.9.1"
  },
  "toc": {
   "base_numbering": 1,
   "nav_menu": {},
   "number_sections": true,
   "sideBar": true,
   "skip_h1_title": false,
   "title_cell": "Table of Contents",
   "title_sidebar": "Contents",
   "toc_cell": false,
   "toc_position": {},
   "toc_section_display": true,
   "toc_window_display": false
  }
 },
 "nbformat": 4,
 "nbformat_minor": 5
}
