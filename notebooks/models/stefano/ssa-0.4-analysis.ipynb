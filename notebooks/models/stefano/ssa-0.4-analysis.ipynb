{
 "cells": [
  {
   "cell_type": "markdown",
   "id": "a2c7d55d",
   "metadata": {},
   "source": [
    "Using kernel `conda_pytorch_latest_p36`"
   ]
  },
  {
   "cell_type": "markdown",
   "id": "6f5effde",
   "metadata": {
    "ExecuteTime": {
     "end_time": "2021-06-03T14:14:41.675512Z",
     "start_time": "2021-06-03T14:14:41.672391Z"
    }
   },
   "source": [
    "# Import"
   ]
  },
  {
   "cell_type": "code",
   "execution_count": 1,
   "id": "4bf313a5",
   "metadata": {
    "ExecuteTime": {
     "end_time": "2021-06-15T10:27:35.591857Z",
     "start_time": "2021-06-15T10:27:35.587951Z"
    },
    "scrolled": true
   },
   "outputs": [],
   "source": [
    "# !pip install transformers\n",
    "# !pip install datasets"
   ]
  },
  {
   "cell_type": "code",
   "execution_count": 2,
   "id": "d1df8cff",
   "metadata": {
    "ExecuteTime": {
     "end_time": "2021-06-15T10:27:35.742388Z",
     "start_time": "2021-06-15T10:27:35.737274Z"
    }
   },
   "outputs": [],
   "source": [
    "import sys\n",
    "sys.path.append('../../../')"
   ]
  },
  {
   "cell_type": "code",
   "execution_count": 3,
   "id": "8d571bc3",
   "metadata": {
    "ExecuteTime": {
     "end_time": "2021-06-15T10:27:35.905475Z",
     "start_time": "2021-06-15T10:27:35.897002Z"
    }
   },
   "outputs": [],
   "source": [
    "from pathlib import Path\n",
    "import os\n",
    "import random\n",
    "import pickle\n",
    "import tarfile\n",
    "from typing import List\n",
    "from dataclasses import dataclass"
   ]
  },
  {
   "cell_type": "code",
   "execution_count": 4,
   "id": "22649486",
   "metadata": {
    "ExecuteTime": {
     "end_time": "2021-06-15T10:27:48.518093Z",
     "start_time": "2021-06-15T10:27:36.065670Z"
    }
   },
   "outputs": [],
   "source": [
    "import pandas as pd\n",
    "import numpy as np\n",
    "from transformers import DistilBertForSequenceClassification, DistilBertTokenizerFast, Trainer, TrainingArguments\n",
    "from sklearn.metrics import classification_report, precision_recall_fscore_support, precision_score, f1_score, recall_score, multilabel_confusion_matrix\n",
    "from sklearn.preprocessing import MultiLabelBinarizer\n",
    "import torch\n",
    "import boto3\n",
    "from langdetect import detect"
   ]
  },
  {
   "cell_type": "code",
   "execution_count": 5,
   "id": "e6f9bd78",
   "metadata": {
    "ExecuteTime": {
     "end_time": "2021-06-15T10:27:48.737740Z",
     "start_time": "2021-06-15T10:27:48.519751Z"
    }
   },
   "outputs": [],
   "source": [
    "from deep.constants import *"
   ]
  },
  {
   "cell_type": "markdown",
   "id": "65966b2e",
   "metadata": {},
   "source": [
    "# Fastai"
   ]
  },
  {
   "cell_type": "code",
   "execution_count": 6,
   "id": "bac27a9a",
   "metadata": {
    "ExecuteTime": {
     "end_time": "2021-06-15T10:27:51.409737Z",
     "start_time": "2021-06-15T10:27:48.739550Z"
    },
    "scrolled": true
   },
   "outputs": [],
   "source": [
    "def preprocessing(df):\n",
    "    df = df.copy()\n",
    "    df['sectors'] = df['sectors'].apply(eval)    \n",
    "    df['pillars'] = df['pillars'].apply(eval)\n",
    "    df['pillars'] = df['pillars'].apply(lambda x: list(set(x)))\n",
    "    df['subpillars'] = df['subpillars'].apply(eval)\n",
    "    return df\n",
    "\n",
    "def process_multiclass(df, train, column='pillars', classes=PILLARS):\n",
    "    relevant_train = df.copy()\n",
    "    relevant_train = relevant_train[relevant_train[column].apply(len) > 0]\n",
    "    relevant_train[label_column] = relevant_train.pillars + relevant_train.subpillars\n",
    "    relevant_train[label_column] = relevant_train[label_column].apply(lambda x: ';'.join(x))\n",
    "    \n",
    "    relevant_train['is_valid'] = False if train else True\n",
    "    \n",
    "    return relevant_train\n",
    "    \n",
    "\n",
    "train = preprocessing(pd.read_csv(LATEST_DATA_PATH / 'data_v0.4.4_train.csv'))\n",
    "val = preprocessing(pd.read_csv(LATEST_DATA_PATH / 'data_v0.4.4_val.csv'))\n",
    "test = preprocessing(pd.read_csv(LATEST_DATA_PATH / 'data_v0.4.4_test.csv'))\n",
    "\n",
    "column = 'subpillars'\n",
    "classes=SUBPILLARS\n",
    "text_column = 'excerpt'\n",
    "label_column = 'merged'\n",
    "train_df = process_multiclass(train, True, column=column, classes=classes)\n",
    "test_df = process_multiclass(test, False, column=column, classes=classes)\n",
    "df = pd.concat([train_df, test_df])"
   ]
  },
  {
   "cell_type": "code",
   "execution_count": 8,
   "id": "b44f9c71",
   "metadata": {
    "ExecuteTime": {
     "end_time": "2021-06-15T10:27:51.437322Z",
     "start_time": "2021-06-15T10:27:51.414554Z"
    }
   },
   "outputs": [
    {
     "data": {
      "text/html": [
       "<div>\n",
       "<style scoped>\n",
       "    .dataframe tbody tr th:only-of-type {\n",
       "        vertical-align: middle;\n",
       "    }\n",
       "\n",
       "    .dataframe tbody tr th {\n",
       "        vertical-align: top;\n",
       "    }\n",
       "\n",
       "    .dataframe thead th {\n",
       "        text-align: right;\n",
       "    }\n",
       "</style>\n",
       "<table border=\"1\" class=\"dataframe\">\n",
       "  <thead>\n",
       "    <tr style=\"text-align: right;\">\n",
       "      <th></th>\n",
       "      <th>Unnamed: 0</th>\n",
       "      <th>entry_id</th>\n",
       "      <th>lead_id</th>\n",
       "      <th>project_id</th>\n",
       "      <th>project_title</th>\n",
       "      <th>analysis_framework_id</th>\n",
       "      <th>excerpt</th>\n",
       "      <th>dropped_excerpt</th>\n",
       "      <th>created_by_id</th>\n",
       "      <th>modified_by_id</th>\n",
       "      <th>verified</th>\n",
       "      <th>verification_last_changed_by_id</th>\n",
       "      <th>language</th>\n",
       "      <th>sectors</th>\n",
       "      <th>pillars</th>\n",
       "      <th>subpillars</th>\n",
       "    </tr>\n",
       "  </thead>\n",
       "  <tbody>\n",
       "    <tr>\n",
       "      <th>0</th>\n",
       "      <td>0</td>\n",
       "      <td>163664</td>\n",
       "      <td>35315</td>\n",
       "      <td>2028</td>\n",
       "      <td>IMMAP/DFS Syria</td>\n",
       "      <td>1306</td>\n",
       "      <td>Market monitoring by the World Food Programme ...</td>\n",
       "      <td>NaN</td>\n",
       "      <td>2232</td>\n",
       "      <td>2232</td>\n",
       "      <td>False</td>\n",
       "      <td>NaN</td>\n",
       "      <td>en</td>\n",
       "      <td>[Food Security]</td>\n",
       "      <td>[Impact]</td>\n",
       "      <td>[Impact-&gt;Impact On Systems And Services]</td>\n",
       "    </tr>\n",
       "    <tr>\n",
       "      <th>1</th>\n",
       "      <td>1</td>\n",
       "      <td>162812</td>\n",
       "      <td>37820</td>\n",
       "      <td>2098</td>\n",
       "      <td>IMMAP/DFS Bangladesh</td>\n",
       "      <td>1306</td>\n",
       "      <td>Quarantine Facilities: ninety-three shelters i...</td>\n",
       "      <td>NaN</td>\n",
       "      <td>657</td>\n",
       "      <td>2233</td>\n",
       "      <td>False</td>\n",
       "      <td>NaN</td>\n",
       "      <td>en</td>\n",
       "      <td>[Health]</td>\n",
       "      <td>[Capacities &amp; Response]</td>\n",
       "      <td>[Capacities &amp; Response-&gt;International Response]</td>\n",
       "    </tr>\n",
       "    <tr>\n",
       "      <th>2</th>\n",
       "      <td>2</td>\n",
       "      <td>164560</td>\n",
       "      <td>39796</td>\n",
       "      <td>2098</td>\n",
       "      <td>IMMAP/DFS Bangladesh</td>\n",
       "      <td>1306</td>\n",
       "      <td>Within dimensions, markets are broadly operati...</td>\n",
       "      <td>NaN</td>\n",
       "      <td>1152</td>\n",
       "      <td>1152</td>\n",
       "      <td>False</td>\n",
       "      <td>NaN</td>\n",
       "      <td>en</td>\n",
       "      <td>[Cross]</td>\n",
       "      <td>[Impact]</td>\n",
       "      <td>[Impact-&gt;Impact On Systems And Services]</td>\n",
       "    </tr>\n",
       "    <tr>\n",
       "      <th>3</th>\n",
       "      <td>3</td>\n",
       "      <td>157496</td>\n",
       "      <td>38706</td>\n",
       "      <td>2098</td>\n",
       "      <td>IMMAP/DFS Bangladesh</td>\n",
       "      <td>1306</td>\n",
       "      <td>Frontline aid workers face a heightened risk o...</td>\n",
       "      <td>NaN</td>\n",
       "      <td>2233</td>\n",
       "      <td>2233</td>\n",
       "      <td>False</td>\n",
       "      <td>NaN</td>\n",
       "      <td>en</td>\n",
       "      <td>[Health, Logistics]</td>\n",
       "      <td>[People At Risk, Impact]</td>\n",
       "      <td>[Impact-&gt;Driver/Aggravating Factors, People At...</td>\n",
       "    </tr>\n",
       "    <tr>\n",
       "      <th>4</th>\n",
       "      <td>4</td>\n",
       "      <td>170866</td>\n",
       "      <td>37673</td>\n",
       "      <td>1142</td>\n",
       "      <td>IFRC Turkey</td>\n",
       "      <td>699</td>\n",
       "      <td>[COVID] TRC is currently using its different c...</td>\n",
       "      <td>NaN</td>\n",
       "      <td>2233</td>\n",
       "      <td>2233</td>\n",
       "      <td>False</td>\n",
       "      <td>NaN</td>\n",
       "      <td>en</td>\n",
       "      <td>[Health]</td>\n",
       "      <td>[]</td>\n",
       "      <td>[]</td>\n",
       "    </tr>\n",
       "    <tr>\n",
       "      <th>...</th>\n",
       "      <td>...</td>\n",
       "      <td>...</td>\n",
       "      <td>...</td>\n",
       "      <td>...</td>\n",
       "      <td>...</td>\n",
       "      <td>...</td>\n",
       "      <td>...</td>\n",
       "      <td>...</td>\n",
       "      <td>...</td>\n",
       "      <td>...</td>\n",
       "      <td>...</td>\n",
       "      <td>...</td>\n",
       "      <td>...</td>\n",
       "      <td>...</td>\n",
       "      <td>...</td>\n",
       "      <td>...</td>\n",
       "    </tr>\n",
       "    <tr>\n",
       "      <th>90648</th>\n",
       "      <td>90648</td>\n",
       "      <td>282949</td>\n",
       "      <td>51241</td>\n",
       "      <td>2170</td>\n",
       "      <td>IMMAP/DFS Nigeria</td>\n",
       "      <td>1306</td>\n",
       "      <td>[16th Mar 2021,North east Nigeria]The governme...</td>\n",
       "      <td>NaN</td>\n",
       "      <td>2230</td>\n",
       "      <td>26</td>\n",
       "      <td>True</td>\n",
       "      <td>26.0</td>\n",
       "      <td>en</td>\n",
       "      <td>[Cross]</td>\n",
       "      <td>[Impact]</td>\n",
       "      <td>[Impact-&gt;Impact On Systems And Services]</td>\n",
       "    </tr>\n",
       "    <tr>\n",
       "      <th>90649</th>\n",
       "      <td>90649</td>\n",
       "      <td>283375</td>\n",
       "      <td>51241</td>\n",
       "      <td>2170</td>\n",
       "      <td>IMMAP/DFS Nigeria</td>\n",
       "      <td>1306</td>\n",
       "      <td>[16th Mar 2021,North east Nigeria] Impact on s...</td>\n",
       "      <td>NaN</td>\n",
       "      <td>2230</td>\n",
       "      <td>1152</td>\n",
       "      <td>True</td>\n",
       "      <td>1152.0</td>\n",
       "      <td>en</td>\n",
       "      <td>[Health, Education, Protection, Livelihoods]</td>\n",
       "      <td>[Impact, Humanitarian Conditions]</td>\n",
       "      <td>[Impact-&gt;Driver/Aggravating Factors, Humanitar...</td>\n",
       "    </tr>\n",
       "    <tr>\n",
       "      <th>90650</th>\n",
       "      <td>90650</td>\n",
       "      <td>268927</td>\n",
       "      <td>49888</td>\n",
       "      <td>2331</td>\n",
       "      <td>GIMAC Somalia</td>\n",
       "      <td>1465</td>\n",
       "      <td>A reported 14 per cent of women aged 15-49 had...</td>\n",
       "      <td>NaN</td>\n",
       "      <td>2741</td>\n",
       "      <td>2272</td>\n",
       "      <td>True</td>\n",
       "      <td>488.0</td>\n",
       "      <td>en</td>\n",
       "      <td>[Protection]</td>\n",
       "      <td>[]</td>\n",
       "      <td>[]</td>\n",
       "    </tr>\n",
       "    <tr>\n",
       "      <th>90651</th>\n",
       "      <td>90651</td>\n",
       "      <td>268842</td>\n",
       "      <td>49945</td>\n",
       "      <td>2311</td>\n",
       "      <td>IMMAP/DFS Colombia</td>\n",
       "      <td>1306</td>\n",
       "      <td>La alternancia no es solo plantear cuáles niño...</td>\n",
       "      <td>La alternancia no es solo plantear cuáles niño...</td>\n",
       "      <td>2374</td>\n",
       "      <td>2374</td>\n",
       "      <td>True</td>\n",
       "      <td>1403.0</td>\n",
       "      <td>es</td>\n",
       "      <td>[Education]</td>\n",
       "      <td>[Impact]</td>\n",
       "      <td>[Impact-&gt;Impact On Systems And Services]</td>\n",
       "    </tr>\n",
       "    <tr>\n",
       "      <th>90652</th>\n",
       "      <td>90652</td>\n",
       "      <td>305234</td>\n",
       "      <td>53100</td>\n",
       "      <td>2334</td>\n",
       "      <td>GIMAC Cameroon</td>\n",
       "      <td>1465</td>\n",
       "      <td>ACQUIS: Procédures de contrôle de l’infection ...</td>\n",
       "      <td>NaN</td>\n",
       "      <td>2854</td>\n",
       "      <td>2854</td>\n",
       "      <td>True</td>\n",
       "      <td>488.0</td>\n",
       "      <td>fr</td>\n",
       "      <td>[Health]</td>\n",
       "      <td>[]</td>\n",
       "      <td>[]</td>\n",
       "    </tr>\n",
       "  </tbody>\n",
       "</table>\n",
       "<p>90653 rows × 16 columns</p>\n",
       "</div>"
      ],
      "text/plain": [
       "       Unnamed: 0  entry_id  lead_id  project_id         project_title  \\\n",
       "0               0    163664    35315        2028       IMMAP/DFS Syria   \n",
       "1               1    162812    37820        2098  IMMAP/DFS Bangladesh   \n",
       "2               2    164560    39796        2098  IMMAP/DFS Bangladesh   \n",
       "3               3    157496    38706        2098  IMMAP/DFS Bangladesh   \n",
       "4               4    170866    37673        1142           IFRC Turkey   \n",
       "...           ...       ...      ...         ...                   ...   \n",
       "90648       90648    282949    51241        2170     IMMAP/DFS Nigeria   \n",
       "90649       90649    283375    51241        2170     IMMAP/DFS Nigeria   \n",
       "90650       90650    268927    49888        2331         GIMAC Somalia   \n",
       "90651       90651    268842    49945        2311    IMMAP/DFS Colombia   \n",
       "90652       90652    305234    53100        2334        GIMAC Cameroon   \n",
       "\n",
       "       analysis_framework_id  \\\n",
       "0                       1306   \n",
       "1                       1306   \n",
       "2                       1306   \n",
       "3                       1306   \n",
       "4                        699   \n",
       "...                      ...   \n",
       "90648                   1306   \n",
       "90649                   1306   \n",
       "90650                   1465   \n",
       "90651                   1306   \n",
       "90652                   1465   \n",
       "\n",
       "                                                 excerpt  \\\n",
       "0      Market monitoring by the World Food Programme ...   \n",
       "1      Quarantine Facilities: ninety-three shelters i...   \n",
       "2      Within dimensions, markets are broadly operati...   \n",
       "3      Frontline aid workers face a heightened risk o...   \n",
       "4      [COVID] TRC is currently using its different c...   \n",
       "...                                                  ...   \n",
       "90648  [16th Mar 2021,North east Nigeria]The governme...   \n",
       "90649  [16th Mar 2021,North east Nigeria] Impact on s...   \n",
       "90650  A reported 14 per cent of women aged 15-49 had...   \n",
       "90651  La alternancia no es solo plantear cuáles niño...   \n",
       "90652  ACQUIS: Procédures de contrôle de l’infection ...   \n",
       "\n",
       "                                         dropped_excerpt  created_by_id  \\\n",
       "0                                                    NaN           2232   \n",
       "1                                                    NaN            657   \n",
       "2                                                    NaN           1152   \n",
       "3                                                    NaN           2233   \n",
       "4                                                    NaN           2233   \n",
       "...                                                  ...            ...   \n",
       "90648                                                NaN           2230   \n",
       "90649                                                NaN           2230   \n",
       "90650                                                NaN           2741   \n",
       "90651  La alternancia no es solo plantear cuáles niño...           2374   \n",
       "90652                                                NaN           2854   \n",
       "\n",
       "       modified_by_id  verified  verification_last_changed_by_id language  \\\n",
       "0                2232     False                              NaN       en   \n",
       "1                2233     False                              NaN       en   \n",
       "2                1152     False                              NaN       en   \n",
       "3                2233     False                              NaN       en   \n",
       "4                2233     False                              NaN       en   \n",
       "...               ...       ...                              ...      ...   \n",
       "90648              26      True                             26.0       en   \n",
       "90649            1152      True                           1152.0       en   \n",
       "90650            2272      True                            488.0       en   \n",
       "90651            2374      True                           1403.0       es   \n",
       "90652            2854      True                            488.0       fr   \n",
       "\n",
       "                                            sectors  \\\n",
       "0                                   [Food Security]   \n",
       "1                                          [Health]   \n",
       "2                                           [Cross]   \n",
       "3                               [Health, Logistics]   \n",
       "4                                          [Health]   \n",
       "...                                             ...   \n",
       "90648                                       [Cross]   \n",
       "90649  [Health, Education, Protection, Livelihoods]   \n",
       "90650                                  [Protection]   \n",
       "90651                                   [Education]   \n",
       "90652                                      [Health]   \n",
       "\n",
       "                                 pillars  \\\n",
       "0                               [Impact]   \n",
       "1                [Capacities & Response]   \n",
       "2                               [Impact]   \n",
       "3               [People At Risk, Impact]   \n",
       "4                                     []   \n",
       "...                                  ...   \n",
       "90648                           [Impact]   \n",
       "90649  [Impact, Humanitarian Conditions]   \n",
       "90650                                 []   \n",
       "90651                           [Impact]   \n",
       "90652                                 []   \n",
       "\n",
       "                                              subpillars  \n",
       "0               [Impact->Impact On Systems And Services]  \n",
       "1        [Capacities & Response->International Response]  \n",
       "2               [Impact->Impact On Systems And Services]  \n",
       "3      [Impact->Driver/Aggravating Factors, People At...  \n",
       "4                                                     []  \n",
       "...                                                  ...  \n",
       "90648           [Impact->Impact On Systems And Services]  \n",
       "90649  [Impact->Driver/Aggravating Factors, Humanitar...  \n",
       "90650                                                 []  \n",
       "90651           [Impact->Impact On Systems And Services]  \n",
       "90652                                                 []  \n",
       "\n",
       "[90653 rows x 16 columns]"
      ]
     },
     "execution_count": 8,
     "metadata": {},
     "output_type": "execute_result"
    }
   ],
   "source": [
    "train"
   ]
  },
  {
   "cell_type": "code",
   "execution_count": 7,
   "id": "470eceb4",
   "metadata": {
    "ExecuteTime": {
     "end_time": "2021-06-15T10:27:51.413510Z",
     "start_time": "2021-06-15T10:27:51.411295Z"
    }
   },
   "outputs": [],
   "source": [
    "TMP_DIR = Path('./remote-jobs')\n",
    "MERGED_PATH = Path('models/pytorch-training-2021-06-03-15-28-53-523-fastai-merged/output/output.tar.gz')\n",
    "SUBPILLAR_PATH = Path('models/pytorch-training-2021-06-03-16-44-29-318-fastai-subpillar/output/output.tar.gz')\n",
    "EPOCHS5_PATH = Path('models/pytorch-2021-06-03-17-24-17-144-fastai-5ep-merged/output/output.tar.gz')\n",
    "RESAMPLED5_PATH = Path('models/pytorch-2021-06-03-17-47-47-773-fastai-5ep-resampled/output/output.tar.gz')\n",
    "ENGLISH_PATH = Path('models/pytorch-2021-06-07-11-32-34-795-fastai-5ep-english/output/output.tar.gz')\n",
    "ENTAILMENT_PATH = Path('models/pytorch-2021-06-08-16-02-55-469-fastai-entail-english/output/output.tar.gz')"
   ]
  },
  {
   "cell_type": "code",
   "execution_count": 28,
   "id": "40e0b7c9",
   "metadata": {
    "ExecuteTime": {
     "end_time": "2021-06-08T14:54:53.595253Z",
     "start_time": "2021-06-08T14:54:53.586268Z"
    }
   },
   "outputs": [],
   "source": [
    "def download_locally(remote_path):\n",
    "    local_file = TMP_DIR / remote_path\n",
    "    local_file.parent.mkdir(exist_ok=True, parents=True)\n",
    "    s3 = boto3.client('s3')\n",
    "    s3.download_file(DEV_BUCKET.name, str(remote_path), str(local_file))\n",
    "    with tarfile.open(local_file) as f:\n",
    "        f.extractall(local_file.parent)\n",
    "    print(local_file.parent)\n",
    "    return local_file.parent"
   ]
  },
  {
   "cell_type": "code",
   "execution_count": 29,
   "id": "fe33a983",
   "metadata": {
    "ExecuteTime": {
     "end_time": "2021-06-08T14:55:24.878307Z",
     "start_time": "2021-06-08T14:54:53.749513Z"
    },
    "scrolled": true
   },
   "outputs": [
    {
     "name": "stdout",
     "output_type": "stream",
     "text": [
      "remote-jobs/models/pytorch-training-2021-06-03-15-28-53-523-fastai-merged/output\n",
      "remote-jobs/models/pytorch-training-2021-06-03-16-44-29-318-fastai-subpillar/output\n",
      "remote-jobs/models/pytorch-2021-06-03-17-24-17-144-fastai-5ep-merged/output\n",
      "remote-jobs/models/pytorch-2021-06-03-17-47-47-773-fastai-5ep-resampled/output\n",
      "remote-jobs/models/pytorch-2021-06-07-11-32-34-795-fastai-5ep-english/output\n",
      "remote-jobs/models/pytorch-2021-06-08-16-02-55-469-fastai-entail-english/output\n"
     ]
    }
   ],
   "source": [
    "merged_path = download_locally(MERGED_PATH)\n",
    "subpillar_path = download_locally(SUBPILLAR_PATH)\n",
    "epochs5_path = download_locally(EPOCHS5_PATH)\n",
    "resampled5_path = download_locally(RESAMPLED5_PATH)\n",
    "english_path = download_locally(ENGLISH_PATH)\n",
    "entail_path = download_locally(ENTAILMENT_PATH)"
   ]
  },
  {
   "cell_type": "code",
   "execution_count": 30,
   "id": "97c37de8",
   "metadata": {
    "ExecuteTime": {
     "end_time": "2021-06-08T14:55:24.907218Z",
     "start_time": "2021-06-08T14:55:24.881409Z"
    }
   },
   "outputs": [],
   "source": [
    "@dataclass\n",
    "class FastaiResults:\n",
    "    classes: List\n",
    "    train_preds: pd.DataFrame\n",
    "    train_targets: pd.DataFrame\n",
    "    test_preds: pd.DataFrame\n",
    "    test_targets: pd.DataFrame\n",
    "        \n",
    "    @staticmethod\n",
    "    def from_path(path):\n",
    "        classes = pd.read_pickle(path / 'classes.pickle')\n",
    "        train_preds = pd.read_pickle(path / 'train_preds.pickle')\n",
    "        train_targets = pd.read_pickle(path / 'train_targets.pickle')\n",
    "        test_preds = pd.read_pickle(path / 'test_preds.pickle')\n",
    "        test_targets = pd.read_pickle(path / 'test_targets.pickle')\n",
    "        return FastaiResults(\n",
    "            classes,\n",
    "            train_preds,\n",
    "            train_targets,\n",
    "            test_preds,\n",
    "            test_targets,\n",
    "        )\n",
    "    \n",
    "    def get_metrics(self, tresh):\n",
    "        preds = (self.test_preds > tresh).int()\n",
    "        targets = self.test_targets.int()\n",
    "        \n",
    "        indexes = []\n",
    "        recalls = []\n",
    "        precisions = []\n",
    "        f1_scores = []\n",
    "        counts = []\n",
    "\n",
    "        for i, class_ in enumerate(self.classes):\n",
    "            class_preds = preds[:, i]\n",
    "            class_targets = targets[:, i]\n",
    "\n",
    "            indexes.append(class_)\n",
    "            precisions.append(precision_score(class_targets, class_preds))\n",
    "            recalls.append(recall_score(class_targets, class_preds))    \n",
    "            f1_scores.append(f1_score(class_targets, class_preds))  \n",
    "            counts.append(int(class_targets.sum()))\n",
    "\n",
    "        indexes.append('all')\n",
    "        precisions.append(precision_score(targets.view(-1), preds.view(-1)))\n",
    "        recalls.append(recall_score(targets.view(-1), preds.view(-1)))    \n",
    "\n",
    "        f1_scores.append(f1_score(targets.view(-1), preds.view(-1)))  \n",
    "        counts.append(int(targets.view(-1).sum()))\n",
    "\n",
    "\n",
    "        all_metrics = pd.DataFrame(\n",
    "            {\n",
    "                'class': indexes,\n",
    "                'recall': recalls,\n",
    "                'precision': precisions,\n",
    "                'f1_score': f1_scores,\n",
    "                'counts': counts\n",
    "            }\n",
    "        ).set_index('class', drop=True)\n",
    "\n",
    "        return all_metrics"
   ]
  },
  {
   "cell_type": "code",
   "execution_count": 63,
   "id": "725786c1",
   "metadata": {
    "ExecuteTime": {
     "end_time": "2021-06-08T15:03:58.252080Z",
     "start_time": "2021-06-08T15:03:58.150580Z"
    }
   },
   "outputs": [],
   "source": [
    "merged_results = FastaiResults.from_path(merged_path)\n",
    "subpillar_results = FastaiResults.from_path(subpillar_path)\n",
    "epochs5_results = FastaiResults.from_path(epochs5_path)\n",
    "resampled5_results = FastaiResults.from_path(resampled5_path)\n",
    "english_results = FastaiResults.from_path(english_path)\n",
    "entail_results = FastaiResults.from_path(entail_path)"
   ]
  },
  {
   "cell_type": "code",
   "execution_count": null,
   "id": "c2974102",
   "metadata": {},
   "outputs": [],
   "source": []
  },
  {
   "cell_type": "code",
   "execution_count": 64,
   "id": "7a0b16e5",
   "metadata": {
    "ExecuteTime": {
     "end_time": "2021-06-08T15:03:59.380496Z",
     "start_time": "2021-06-08T15:03:59.373328Z"
    }
   },
   "outputs": [
    {
     "data": {
      "text/plain": [
       "torch.Size([20316, 2])"
      ]
     },
     "execution_count": 64,
     "metadata": {},
     "output_type": "execute_result"
    }
   ],
   "source": [
    "entail_results.test_preds.shape"
   ]
  },
  {
   "cell_type": "code",
   "execution_count": 65,
   "id": "58d9774e",
   "metadata": {
    "ExecuteTime": {
     "end_time": "2021-06-08T15:04:00.448342Z",
     "start_time": "2021-06-08T15:04:00.442167Z"
    }
   },
   "outputs": [
    {
     "data": {
      "text/plain": [
       "(6516, 18)"
      ]
     },
     "execution_count": 65,
     "metadata": {},
     "output_type": "execute_result"
    }
   ],
   "source": [
    "test_df.shape"
   ]
  },
  {
   "cell_type": "code",
   "execution_count": 66,
   "id": "0df79d22",
   "metadata": {
    "ExecuteTime": {
     "end_time": "2021-06-08T15:04:00.781134Z",
     "start_time": "2021-06-08T15:04:00.773969Z"
    }
   },
   "outputs": [],
   "source": [
    "preds = entail_results.test_preds.argmax(1)"
   ]
  },
  {
   "cell_type": "code",
   "execution_count": 67,
   "id": "34e257b5",
   "metadata": {
    "ExecuteTime": {
     "end_time": "2021-06-08T15:04:01.371323Z",
     "start_time": "2021-06-08T15:04:01.366141Z"
    }
   },
   "outputs": [],
   "source": [
    "targets = entail_results.test_targets"
   ]
  },
  {
   "cell_type": "code",
   "execution_count": 71,
   "id": "45e6c914",
   "metadata": {
    "ExecuteTime": {
     "end_time": "2021-06-08T15:04:11.485048Z",
     "start_time": "2021-06-08T15:04:11.482558Z"
    },
    "scrolled": true
   },
   "outputs": [
    {
     "data": {
      "text/plain": [
       "['Humanitarian Conditions',\n",
       " 'Capacities & Response',\n",
       " 'Impact',\n",
       " 'Priority Interventions',\n",
       " 'People At Risk',\n",
       " 'Priority Needs']"
      ]
     },
     "execution_count": 71,
     "metadata": {},
     "output_type": "execute_result"
    }
   ],
   "source": [
    "PILLARS"
   ]
  },
  {
   "cell_type": "code",
   "execution_count": 74,
   "id": "1e795804",
   "metadata": {
    "ExecuteTime": {
     "end_time": "2021-06-08T15:04:24.345714Z",
     "start_time": "2021-06-08T15:04:24.307341Z"
    }
   },
   "outputs": [],
   "source": [
    "recalls, precisions, f1_scores = [], [], []\n",
    "for i,pillar in enumerate(PILLARS):\n",
    "    pillar_preds = preds[i::6]\n",
    "    pillar_targets = targets[i::6]\n",
    "    \n",
    "    \n",
    "    recalls.append(recall_score(pillar_targets, pillar_preds))\n",
    "    precisions.append(precision_score(pillar_targets, pillar_preds))\n",
    "    f1_scores.append(f1_score(pillar_targets, pillar_preds))\n",
    "    \n",
    "a = pd.DataFrame(index=PILLARS, data={'recall': recalls, 'precision': precisions, 'f1_score': f1_scores})"
   ]
  },
  {
   "cell_type": "code",
   "execution_count": 75,
   "id": "102d5ea6",
   "metadata": {
    "ExecuteTime": {
     "end_time": "2021-06-08T15:04:24.462548Z",
     "start_time": "2021-06-08T15:04:24.448836Z"
    }
   },
   "outputs": [
    {
     "data": {
      "text/html": [
       "<div>\n",
       "<style scoped>\n",
       "    .dataframe tbody tr th:only-of-type {\n",
       "        vertical-align: middle;\n",
       "    }\n",
       "\n",
       "    .dataframe tbody tr th {\n",
       "        vertical-align: top;\n",
       "    }\n",
       "\n",
       "    .dataframe thead th {\n",
       "        text-align: right;\n",
       "    }\n",
       "</style>\n",
       "<table border=\"1\" class=\"dataframe\">\n",
       "  <thead>\n",
       "    <tr style=\"text-align: right;\">\n",
       "      <th></th>\n",
       "      <th>recall</th>\n",
       "      <th>precision</th>\n",
       "      <th>f1_score</th>\n",
       "    </tr>\n",
       "  </thead>\n",
       "  <tbody>\n",
       "    <tr>\n",
       "      <th>Humanitarian Conditions</th>\n",
       "      <td>0.789607</td>\n",
       "      <td>0.783648</td>\n",
       "      <td>0.786616</td>\n",
       "    </tr>\n",
       "    <tr>\n",
       "      <th>Capacities &amp; Response</th>\n",
       "      <td>0.795082</td>\n",
       "      <td>0.854626</td>\n",
       "      <td>0.823779</td>\n",
       "    </tr>\n",
       "    <tr>\n",
       "      <th>Impact</th>\n",
       "      <td>0.755058</td>\n",
       "      <td>0.801995</td>\n",
       "      <td>0.777819</td>\n",
       "    </tr>\n",
       "    <tr>\n",
       "      <th>Priority Interventions</th>\n",
       "      <td>0.713115</td>\n",
       "      <td>0.685039</td>\n",
       "      <td>0.698795</td>\n",
       "    </tr>\n",
       "    <tr>\n",
       "      <th>People At Risk</th>\n",
       "      <td>0.631707</td>\n",
       "      <td>0.703804</td>\n",
       "      <td>0.665810</td>\n",
       "    </tr>\n",
       "    <tr>\n",
       "      <th>Priority Needs</th>\n",
       "      <td>0.283784</td>\n",
       "      <td>0.567568</td>\n",
       "      <td>0.378378</td>\n",
       "    </tr>\n",
       "  </tbody>\n",
       "</table>\n",
       "</div>"
      ],
      "text/plain": [
       "                           recall  precision  f1_score\n",
       "Humanitarian Conditions  0.789607   0.783648  0.786616\n",
       "Capacities & Response    0.795082   0.854626  0.823779\n",
       "Impact                   0.755058   0.801995  0.777819\n",
       "Priority Interventions   0.713115   0.685039  0.698795\n",
       "People At Risk           0.631707   0.703804  0.665810\n",
       "Priority Needs           0.283784   0.567568  0.378378"
      ]
     },
     "execution_count": 75,
     "metadata": {},
     "output_type": "execute_result"
    }
   ],
   "source": [
    "a"
   ]
  },
  {
   "cell_type": "code",
   "execution_count": null,
   "id": "6cb1f10d",
   "metadata": {},
   "outputs": [],
   "source": []
  },
  {
   "cell_type": "code",
   "execution_count": null,
   "id": "26b3497a",
   "metadata": {},
   "outputs": [],
   "source": []
  },
  {
   "cell_type": "code",
   "execution_count": 36,
   "id": "dbf790ca",
   "metadata": {
    "ExecuteTime": {
     "end_time": "2021-06-08T14:56:12.119775Z",
     "start_time": "2021-06-08T14:56:12.111424Z"
    }
   },
   "outputs": [
    {
     "data": {
      "text/plain": [
       "torch.Size([20316, 2])"
      ]
     },
     "execution_count": 36,
     "metadata": {},
     "output_type": "execute_result"
    }
   ],
   "source": [
    "entail_results.test_preds.shape"
   ]
  },
  {
   "cell_type": "code",
   "execution_count": null,
   "id": "b18386de",
   "metadata": {},
   "outputs": [],
   "source": []
  },
  {
   "cell_type": "code",
   "execution_count": 14,
   "id": "609bfb2e",
   "metadata": {
    "ExecuteTime": {
     "end_time": "2021-06-07T16:21:45.925902Z",
     "start_time": "2021-06-07T16:21:45.373134Z"
    },
    "scrolled": true
   },
   "outputs": [
    {
     "name": "stderr",
     "output_type": "stream",
     "text": [
      "/Users/stefano/miniconda3/envs/deep-exp/lib/python3.9/site-packages/sklearn/metrics/_classification.py:1248: UndefinedMetricWarning: Precision is ill-defined and being set to 0.0 due to no predicted samples. Use `zero_division` parameter to control this behavior.\n",
      "  _warn_prf(average, modifier, msg_start, len(result))\n",
      "/Users/stefano/miniconda3/envs/deep-exp/lib/python3.9/site-packages/sklearn/metrics/_classification.py:1248: UndefinedMetricWarning: Precision is ill-defined and being set to 0.0 due to no predicted samples. Use `zero_division` parameter to control this behavior.\n",
      "  _warn_prf(average, modifier, msg_start, len(result))\n",
      "/Users/stefano/miniconda3/envs/deep-exp/lib/python3.9/site-packages/sklearn/metrics/_classification.py:1248: UndefinedMetricWarning: Precision is ill-defined and being set to 0.0 due to no predicted samples. Use `zero_division` parameter to control this behavior.\n",
      "  _warn_prf(average, modifier, msg_start, len(result))\n",
      "/Users/stefano/miniconda3/envs/deep-exp/lib/python3.9/site-packages/sklearn/metrics/_classification.py:1248: UndefinedMetricWarning: Precision is ill-defined and being set to 0.0 due to no predicted samples. Use `zero_division` parameter to control this behavior.\n",
      "  _warn_prf(average, modifier, msg_start, len(result))\n",
      "/Users/stefano/miniconda3/envs/deep-exp/lib/python3.9/site-packages/sklearn/metrics/_classification.py:1248: UndefinedMetricWarning: Precision is ill-defined and being set to 0.0 due to no predicted samples. Use `zero_division` parameter to control this behavior.\n",
      "  _warn_prf(average, modifier, msg_start, len(result))\n",
      "/Users/stefano/miniconda3/envs/deep-exp/lib/python3.9/site-packages/sklearn/metrics/_classification.py:1248: UndefinedMetricWarning: Precision is ill-defined and being set to 0.0 due to no predicted samples. Use `zero_division` parameter to control this behavior.\n",
      "  _warn_prf(average, modifier, msg_start, len(result))\n",
      "/Users/stefano/miniconda3/envs/deep-exp/lib/python3.9/site-packages/sklearn/metrics/_classification.py:1248: UndefinedMetricWarning: Precision is ill-defined and being set to 0.0 due to no predicted samples. Use `zero_division` parameter to control this behavior.\n",
      "  _warn_prf(average, modifier, msg_start, len(result))\n",
      "/Users/stefano/miniconda3/envs/deep-exp/lib/python3.9/site-packages/sklearn/metrics/_classification.py:1248: UndefinedMetricWarning: Precision is ill-defined and being set to 0.0 due to no predicted samples. Use `zero_division` parameter to control this behavior.\n",
      "  _warn_prf(average, modifier, msg_start, len(result))\n",
      "/Users/stefano/miniconda3/envs/deep-exp/lib/python3.9/site-packages/sklearn/metrics/_classification.py:1248: UndefinedMetricWarning: Precision is ill-defined and being set to 0.0 due to no predicted samples. Use `zero_division` parameter to control this behavior.\n",
      "  _warn_prf(average, modifier, msg_start, len(result))\n",
      "/Users/stefano/miniconda3/envs/deep-exp/lib/python3.9/site-packages/sklearn/metrics/_classification.py:1248: UndefinedMetricWarning: Recall is ill-defined and being set to 0.0 due to no true samples. Use `zero_division` parameter to control this behavior.\n",
      "  _warn_prf(average, modifier, msg_start, len(result))\n",
      "/Users/stefano/miniconda3/envs/deep-exp/lib/python3.9/site-packages/sklearn/metrics/_classification.py:1495: UndefinedMetricWarning: F-score is ill-defined and being set to 0.0 due to no true nor predicted samples. Use `zero_division` parameter to control this behavior.\n",
      "  _warn_prf(\n",
      "/Users/stefano/miniconda3/envs/deep-exp/lib/python3.9/site-packages/sklearn/metrics/_classification.py:1248: UndefinedMetricWarning: Precision is ill-defined and being set to 0.0 due to no predicted samples. Use `zero_division` parameter to control this behavior.\n",
      "  _warn_prf(average, modifier, msg_start, len(result))\n",
      "/Users/stefano/miniconda3/envs/deep-exp/lib/python3.9/site-packages/sklearn/metrics/_classification.py:1248: UndefinedMetricWarning: Precision is ill-defined and being set to 0.0 due to no predicted samples. Use `zero_division` parameter to control this behavior.\n",
      "  _warn_prf(average, modifier, msg_start, len(result))\n"
     ]
    }
   ],
   "source": [
    "merged_metrics = merged_results.get_metrics(0.15)\n",
    "subpillar_metrics = subpillar_results.get_metrics(0.15)\n",
    "epochs5_metrics = epochs5_results.get_metrics(0.4)\n",
    "english_metrics = english_results.get_metrics(0.35)"
   ]
  },
  {
   "cell_type": "code",
   "execution_count": 16,
   "id": "482ca80f",
   "metadata": {
    "ExecuteTime": {
     "end_time": "2021-06-07T16:21:56.673295Z",
     "start_time": "2021-06-07T16:21:56.649734Z"
    }
   },
   "outputs": [
    {
     "data": {
      "text/html": [
       "<div>\n",
       "<style scoped>\n",
       "    .dataframe tbody tr th:only-of-type {\n",
       "        vertical-align: middle;\n",
       "    }\n",
       "\n",
       "    .dataframe tbody tr th {\n",
       "        vertical-align: top;\n",
       "    }\n",
       "\n",
       "    .dataframe thead th {\n",
       "        text-align: right;\n",
       "    }\n",
       "</style>\n",
       "<table border=\"1\" class=\"dataframe\">\n",
       "  <thead>\n",
       "    <tr style=\"text-align: right;\">\n",
       "      <th></th>\n",
       "      <th>recall</th>\n",
       "      <th>precision</th>\n",
       "      <th>f1_score</th>\n",
       "      <th>counts</th>\n",
       "    </tr>\n",
       "    <tr>\n",
       "      <th>class</th>\n",
       "      <th></th>\n",
       "      <th></th>\n",
       "      <th></th>\n",
       "      <th></th>\n",
       "    </tr>\n",
       "  </thead>\n",
       "  <tbody>\n",
       "    <tr>\n",
       "      <th>Humanitarian Conditions</th>\n",
       "      <td>0.910359</td>\n",
       "      <td>0.721959</td>\n",
       "      <td>0.805286</td>\n",
       "      <td>3514</td>\n",
       "    </tr>\n",
       "    <tr>\n",
       "      <th>Capacities &amp; Response</th>\n",
       "      <td>0.736842</td>\n",
       "      <td>0.727113</td>\n",
       "      <td>0.731945</td>\n",
       "      <td>1121</td>\n",
       "    </tr>\n",
       "    <tr>\n",
       "      <th>Impact</th>\n",
       "      <td>0.735735</td>\n",
       "      <td>0.707393</td>\n",
       "      <td>0.721285</td>\n",
       "      <td>2471</td>\n",
       "    </tr>\n",
       "    <tr>\n",
       "      <th>Priority Interventions</th>\n",
       "      <td>0.612565</td>\n",
       "      <td>0.672414</td>\n",
       "      <td>0.641096</td>\n",
       "      <td>191</td>\n",
       "    </tr>\n",
       "    <tr>\n",
       "      <th>People At Risk</th>\n",
       "      <td>0.377854</td>\n",
       "      <td>0.646484</td>\n",
       "      <td>0.476945</td>\n",
       "      <td>876</td>\n",
       "    </tr>\n",
       "    <tr>\n",
       "      <th>Priority Needs</th>\n",
       "      <td>0.301310</td>\n",
       "      <td>0.526718</td>\n",
       "      <td>0.383333</td>\n",
       "      <td>229</td>\n",
       "    </tr>\n",
       "  </tbody>\n",
       "</table>\n",
       "</div>"
      ],
      "text/plain": [
       "                           recall  precision  f1_score  counts\n",
       "class                                                         \n",
       "Humanitarian Conditions  0.910359   0.721959  0.805286    3514\n",
       "Capacities & Response    0.736842   0.727113  0.731945    1121\n",
       "Impact                   0.735735   0.707393  0.721285    2471\n",
       "Priority Interventions   0.612565   0.672414  0.641096     191\n",
       "People At Risk           0.377854   0.646484  0.476945     876\n",
       "Priority Needs           0.301310   0.526718  0.383333     229"
      ]
     },
     "execution_count": 16,
     "metadata": {},
     "output_type": "execute_result"
    }
   ],
   "source": [
    "epochs5_metrics.loc[PILLARS]"
   ]
  },
  {
   "cell_type": "code",
   "execution_count": 17,
   "id": "2d1987de",
   "metadata": {
    "ExecuteTime": {
     "end_time": "2021-06-07T16:22:17.481185Z",
     "start_time": "2021-06-07T16:22:17.465918Z"
    }
   },
   "outputs": [
    {
     "data": {
      "text/html": [
       "<div>\n",
       "<style scoped>\n",
       "    .dataframe tbody tr th:only-of-type {\n",
       "        vertical-align: middle;\n",
       "    }\n",
       "\n",
       "    .dataframe tbody tr th {\n",
       "        vertical-align: top;\n",
       "    }\n",
       "\n",
       "    .dataframe thead th {\n",
       "        text-align: right;\n",
       "    }\n",
       "</style>\n",
       "<table border=\"1\" class=\"dataframe\">\n",
       "  <thead>\n",
       "    <tr style=\"text-align: right;\">\n",
       "      <th></th>\n",
       "      <th>recall</th>\n",
       "      <th>precision</th>\n",
       "      <th>f1_score</th>\n",
       "      <th>counts</th>\n",
       "    </tr>\n",
       "    <tr>\n",
       "      <th>class</th>\n",
       "      <th></th>\n",
       "      <th></th>\n",
       "      <th></th>\n",
       "      <th></th>\n",
       "    </tr>\n",
       "  </thead>\n",
       "  <tbody>\n",
       "    <tr>\n",
       "      <th>Humanitarian Conditions</th>\n",
       "      <td>0.914449</td>\n",
       "      <td>0.716129</td>\n",
       "      <td>0.803228</td>\n",
       "      <td>1578</td>\n",
       "    </tr>\n",
       "    <tr>\n",
       "      <th>Capacities &amp; Response</th>\n",
       "      <td>0.840164</td>\n",
       "      <td>0.828841</td>\n",
       "      <td>0.834464</td>\n",
       "      <td>732</td>\n",
       "    </tr>\n",
       "    <tr>\n",
       "      <th>Impact</th>\n",
       "      <td>0.828757</td>\n",
       "      <td>0.751146</td>\n",
       "      <td>0.788045</td>\n",
       "      <td>1384</td>\n",
       "    </tr>\n",
       "    <tr>\n",
       "      <th>Priority Interventions</th>\n",
       "      <td>0.737705</td>\n",
       "      <td>0.671642</td>\n",
       "      <td>0.703125</td>\n",
       "      <td>122</td>\n",
       "    </tr>\n",
       "    <tr>\n",
       "      <th>People At Risk</th>\n",
       "      <td>0.697561</td>\n",
       "      <td>0.639821</td>\n",
       "      <td>0.667445</td>\n",
       "      <td>410</td>\n",
       "    </tr>\n",
       "    <tr>\n",
       "      <th>Priority Needs</th>\n",
       "      <td>0.418919</td>\n",
       "      <td>0.563636</td>\n",
       "      <td>0.480620</td>\n",
       "      <td>74</td>\n",
       "    </tr>\n",
       "  </tbody>\n",
       "</table>\n",
       "</div>"
      ],
      "text/plain": [
       "                           recall  precision  f1_score  counts\n",
       "class                                                         \n",
       "Humanitarian Conditions  0.914449   0.716129  0.803228    1578\n",
       "Capacities & Response    0.840164   0.828841  0.834464     732\n",
       "Impact                   0.828757   0.751146  0.788045    1384\n",
       "Priority Interventions   0.737705   0.671642  0.703125     122\n",
       "People At Risk           0.697561   0.639821  0.667445     410\n",
       "Priority Needs           0.418919   0.563636  0.480620      74"
      ]
     },
     "execution_count": 17,
     "metadata": {},
     "output_type": "execute_result"
    }
   ],
   "source": [
    "english_metrics.loc[PILLARS]"
   ]
  },
  {
   "cell_type": "code",
   "execution_count": 117,
   "id": "a4a8a7b6",
   "metadata": {
    "ExecuteTime": {
     "end_time": "2021-06-07T09:52:48.856031Z",
     "start_time": "2021-06-07T09:52:48.850820Z"
    }
   },
   "outputs": [],
   "source": [
    "test_preds, test_targets = english_results.test_preds, english_results.test_targets\n",
    "train_preds, train_targets = english_results.train_preds, english_results.train_targets"
   ]
  },
  {
   "cell_type": "code",
   "execution_count": 118,
   "id": "393ecd90",
   "metadata": {
    "ExecuteTime": {
     "end_time": "2021-06-07T09:52:49.051557Z",
     "start_time": "2021-06-07T09:52:49.044116Z"
    }
   },
   "outputs": [],
   "source": [
    "def normalize(df):\n",
    "    correspondences = {\n",
    "        subpillar: subpillar.split('->')[0]\n",
    "        for subpillar in SUBPILLARS\n",
    "    }\n",
    "    for subp, pil in correspondences.items():\n",
    "        df[subp] *= df[pil]\n",
    "    return df[SUBPILLARS]"
   ]
  },
  {
   "cell_type": "code",
   "execution_count": 119,
   "id": "bcb128b6",
   "metadata": {
    "ExecuteTime": {
     "end_time": "2021-06-07T09:52:52.537912Z",
     "start_time": "2021-06-07T09:52:52.490791Z"
    }
   },
   "outputs": [],
   "source": [
    "df_train = normalize(pd.DataFrame(train_preds, columns=resampled5_results.classes))\n",
    "df_test = normalize(pd.DataFrame(test_preds, columns=resampled5_results.classes))\n",
    "train_targets = pd.DataFrame(train_targets, columns=resampled5_results.classes)[SUBPILLARS]\n",
    "test_targets = pd.DataFrame(test_targets, columns=resampled5_results.classes)[SUBPILLARS]"
   ]
  },
  {
   "cell_type": "code",
   "execution_count": 120,
   "id": "0842bd6e",
   "metadata": {
    "ExecuteTime": {
     "end_time": "2021-06-07T09:52:52.660934Z",
     "start_time": "2021-06-07T09:52:52.652617Z"
    }
   },
   "outputs": [],
   "source": [
    "def get_threshold_metrics(preds, targets, num_thresholds):\n",
    "    thresholds = [x/num_thresholds for x in range(num_thresholds)]\n",
    "\n",
    "    recalls = []\n",
    "    precisions = []\n",
    "    f1_scores = []\n",
    "\n",
    "    for threshold in thresholds:\n",
    "        t_preds = (preds.flatten().numpy() > threshold).astype(int)\n",
    "        t_targets = targets.flatten().numpy()\n",
    "        precisions.append(precision_score(t_targets, t_preds))\n",
    "        recalls.append(recall_score(t_targets, t_preds))    \n",
    "        f1_scores.append(f1_score(t_targets, t_preds))        \n",
    "        \n",
    "    all_metrics = pd.DataFrame(\n",
    "        {\n",
    "            'threshold': thresholds,\n",
    "            'recall': recalls,\n",
    "            'precision': precisions,\n",
    "            'f1_score': f1_scores\n",
    "        }\n",
    "    ).set_index('threshold', drop=True)\n",
    "\n",
    "    return all_metrics"
   ]
  },
  {
   "cell_type": "code",
   "execution_count": 121,
   "id": "694526f0",
   "metadata": {
    "ExecuteTime": {
     "end_time": "2021-06-07T09:52:53.196964Z",
     "start_time": "2021-06-07T09:52:53.191979Z"
    }
   },
   "outputs": [],
   "source": [
    "def get_best_threshold(preds, targets, num_thresholds=20):\n",
    "    train_metrics = get_threshold_metrics(preds, targets, num_thresholds)\n",
    "    best_threshold = train_metrics.f1_score.idxmax()\n",
    "    \n",
    "    return best_threshold, train_metrics"
   ]
  },
  {
   "cell_type": "code",
   "execution_count": 122,
   "id": "f9077ae2",
   "metadata": {
    "ExecuteTime": {
     "end_time": "2021-06-07T09:52:54.020401Z",
     "start_time": "2021-06-07T09:52:54.007408Z"
    }
   },
   "outputs": [],
   "source": [
    "def get_metrics(preds, targets, threshold, classes):\n",
    "    preds = (preds > threshold).int()\n",
    "    targets = targets.int()\n",
    "\n",
    "    indexes = []\n",
    "    recalls = []\n",
    "    precisions = []\n",
    "    f1_scores = []\n",
    "    counts = []\n",
    "\n",
    "    for i, class_ in enumerate(classes):\n",
    "        class_preds = preds[:, i]\n",
    "        class_targets = targets[:, i]\n",
    "\n",
    "        indexes.append(class_)\n",
    "        precisions.append(precision_score(class_targets, class_preds))\n",
    "        recalls.append(recall_score(class_targets, class_preds))    \n",
    "        f1_scores.append(f1_score(class_targets, class_preds))  \n",
    "        counts.append(int(class_targets.sum()))\n",
    "\n",
    "    indexes.append('all')\n",
    "    precisions.append(precision_score(targets.flatten(), preds.flatten()))\n",
    "    recalls.append(recall_score(targets.flatten(), preds.flatten()))    \n",
    "\n",
    "    f1_scores.append(f1_score(targets.flatten(), preds.flatten()))  \n",
    "    counts.append(int(targets.flatten().sum()))\n",
    "\n",
    "\n",
    "    all_metrics = pd.DataFrame(\n",
    "        {\n",
    "            'class': indexes,\n",
    "            'recall': recalls,\n",
    "            'precision': precisions,\n",
    "            'f1_score': f1_scores,\n",
    "            'counts': counts\n",
    "        }\n",
    "    ).set_index('class', drop=True)\n",
    "\n",
    "    return all_metrics"
   ]
  },
  {
   "cell_type": "code",
   "execution_count": 123,
   "id": "391e4a62",
   "metadata": {
    "ExecuteTime": {
     "end_time": "2021-06-07T09:53:01.416770Z",
     "start_time": "2021-06-07T09:52:54.617384Z"
    }
   },
   "outputs": [
    {
     "data": {
      "text/plain": [
       "(0.25,\n",
       "              recall  precision  f1_score\n",
       " threshold                               \n",
       " 0.00       1.000000   0.076768  0.142590\n",
       " 0.05       0.910616   0.455534  0.607279\n",
       " 0.10       0.857912   0.548337  0.669049\n",
       " 0.15       0.813644   0.609741  0.697088\n",
       " 0.20       0.771194   0.659938  0.711242\n",
       " 0.25       0.729303   0.701350  0.715053\n",
       " 0.30       0.686271   0.735999  0.710266\n",
       " 0.35       0.644113   0.768557  0.700853\n",
       " 0.40       0.603699   0.795591  0.686488\n",
       " 0.45       0.563844   0.820967  0.668535\n",
       " 0.50       0.524110   0.843438  0.646492\n",
       " 0.55       0.485903   0.863215  0.621797\n",
       " 0.60       0.445926   0.882079  0.592380\n",
       " 0.65       0.406022   0.900237  0.559638\n",
       " 0.70       0.363379   0.916366  0.520397\n",
       " 0.75       0.321196   0.933094  0.477889\n",
       " 0.80       0.273461   0.947262  0.424403\n",
       " 0.85       0.222211   0.961401  0.360987\n",
       " 0.90       0.157555   0.974801  0.271266\n",
       " 0.95       0.079129   0.987296  0.146516)"
      ]
     },
     "execution_count": 123,
     "metadata": {},
     "output_type": "execute_result"
    }
   ],
   "source": [
    "get_best_threshold(torch.tensor(df_train.values), torch.tensor(train_targets.values))"
   ]
  },
  {
   "cell_type": "code",
   "execution_count": 124,
   "id": "8c1dcc72",
   "metadata": {
    "ExecuteTime": {
     "end_time": "2021-06-07T09:53:06.669398Z",
     "start_time": "2021-06-07T09:53:06.558316Z"
    },
    "scrolled": true
   },
   "outputs": [
    {
     "name": "stderr",
     "output_type": "stream",
     "text": [
      "/Users/stefano/miniconda3/envs/deep-exp/lib/python3.9/site-packages/sklearn/metrics/_classification.py:1248: UndefinedMetricWarning: Precision is ill-defined and being set to 0.0 due to no predicted samples. Use `zero_division` parameter to control this behavior.\n",
      "  _warn_prf(average, modifier, msg_start, len(result))\n",
      "/Users/stefano/miniconda3/envs/deep-exp/lib/python3.9/site-packages/sklearn/metrics/_classification.py:1248: UndefinedMetricWarning: Recall is ill-defined and being set to 0.0 due to no true samples. Use `zero_division` parameter to control this behavior.\n",
      "  _warn_prf(average, modifier, msg_start, len(result))\n",
      "/Users/stefano/miniconda3/envs/deep-exp/lib/python3.9/site-packages/sklearn/metrics/_classification.py:1495: UndefinedMetricWarning: F-score is ill-defined and being set to 0.0 due to no true nor predicted samples. Use `zero_division` parameter to control this behavior.\n",
      "  _warn_prf(\n",
      "/Users/stefano/miniconda3/envs/deep-exp/lib/python3.9/site-packages/sklearn/metrics/_classification.py:1248: UndefinedMetricWarning: Precision is ill-defined and being set to 0.0 due to no predicted samples. Use `zero_division` parameter to control this behavior.\n",
      "  _warn_prf(average, modifier, msg_start, len(result))\n",
      "/Users/stefano/miniconda3/envs/deep-exp/lib/python3.9/site-packages/sklearn/metrics/_classification.py:1248: UndefinedMetricWarning: Precision is ill-defined and being set to 0.0 due to no predicted samples. Use `zero_division` parameter to control this behavior.\n",
      "  _warn_prf(average, modifier, msg_start, len(result))\n"
     ]
    }
   ],
   "source": [
    "metrics = get_metrics(torch.tensor(df_test.values), torch.tensor(test_targets.values), 0.25, SUBPILLARS)"
   ]
  },
  {
   "cell_type": "code",
   "execution_count": 125,
   "id": "dadffb23",
   "metadata": {
    "ExecuteTime": {
     "end_time": "2021-06-07T09:53:11.661232Z",
     "start_time": "2021-06-07T09:53:11.652868Z"
    }
   },
   "outputs": [],
   "source": [
    "merg_metrics = merged_metrics.loc[SUBPILLARS]\n",
    "sub_metrics = subpillar_metrics.loc[SUBPILLARS]\n",
    "ep5_metrics = epochs5_metrics.loc[SUBPILLARS]"
   ]
  },
  {
   "cell_type": "code",
   "execution_count": 126,
   "id": "479aaba8",
   "metadata": {
    "ExecuteTime": {
     "end_time": "2021-06-07T09:53:12.432968Z",
     "start_time": "2021-06-07T09:53:12.410289Z"
    }
   },
   "outputs": [],
   "source": [
    "joined = merg_metrics.join(ep5_metrics, rsuffix='_5').join(metrics, rsuffix='_new')"
   ]
  },
  {
   "cell_type": "code",
   "execution_count": 127,
   "id": "7b0f8352",
   "metadata": {
    "ExecuteTime": {
     "end_time": "2021-06-07T09:53:13.549217Z",
     "start_time": "2021-06-07T09:53:13.525759Z"
    },
    "scrolled": true
   },
   "outputs": [
    {
     "data": {
      "text/html": [
       "<div>\n",
       "<style scoped>\n",
       "    .dataframe tbody tr th:only-of-type {\n",
       "        vertical-align: middle;\n",
       "    }\n",
       "\n",
       "    .dataframe tbody tr th {\n",
       "        vertical-align: top;\n",
       "    }\n",
       "\n",
       "    .dataframe thead th {\n",
       "        text-align: right;\n",
       "    }\n",
       "</style>\n",
       "<table border=\"1\" class=\"dataframe\">\n",
       "  <thead>\n",
       "    <tr style=\"text-align: right;\">\n",
       "      <th></th>\n",
       "      <th>f1_score</th>\n",
       "      <th>f1_score_5</th>\n",
       "      <th>f1_score_new</th>\n",
       "    </tr>\n",
       "    <tr>\n",
       "      <th>class</th>\n",
       "      <th></th>\n",
       "      <th></th>\n",
       "      <th></th>\n",
       "    </tr>\n",
       "  </thead>\n",
       "  <tbody>\n",
       "    <tr>\n",
       "      <th>Capacities &amp; Response-&gt;International Response</th>\n",
       "      <td>0.681855</td>\n",
       "      <td>0.724974</td>\n",
       "      <td>0.755037</td>\n",
       "    </tr>\n",
       "    <tr>\n",
       "      <th>Capacities &amp; Response-&gt;National Response</th>\n",
       "      <td>0.406795</td>\n",
       "      <td>0.490506</td>\n",
       "      <td>0.384491</td>\n",
       "    </tr>\n",
       "    <tr>\n",
       "      <th>Capacities &amp; Response-&gt;Number Of People Reached</th>\n",
       "      <td>0.665208</td>\n",
       "      <td>0.721485</td>\n",
       "      <td>0.758242</td>\n",
       "    </tr>\n",
       "    <tr>\n",
       "      <th>Capacities &amp; Response-&gt;Response Gaps</th>\n",
       "      <td>0.000000</td>\n",
       "      <td>0.000000</td>\n",
       "      <td>0.000000</td>\n",
       "    </tr>\n",
       "    <tr>\n",
       "      <th>Humanitarian Conditions-&gt;Coping Mechanisms</th>\n",
       "      <td>0.367133</td>\n",
       "      <td>0.337182</td>\n",
       "      <td>0.550523</td>\n",
       "    </tr>\n",
       "    <tr>\n",
       "      <th>Humanitarian Conditions-&gt;Living Standards</th>\n",
       "      <td>0.605734</td>\n",
       "      <td>0.679237</td>\n",
       "      <td>0.665037</td>\n",
       "    </tr>\n",
       "    <tr>\n",
       "      <th>Humanitarian Conditions-&gt;Number Of People In Need</th>\n",
       "      <td>0.496241</td>\n",
       "      <td>0.523741</td>\n",
       "      <td>0.734694</td>\n",
       "    </tr>\n",
       "    <tr>\n",
       "      <th>Humanitarian Conditions-&gt;Physical And Mental Well Being</th>\n",
       "      <td>0.556456</td>\n",
       "      <td>0.701981</td>\n",
       "      <td>0.781609</td>\n",
       "    </tr>\n",
       "    <tr>\n",
       "      <th>Impact-&gt;Driver/Aggravating Factors</th>\n",
       "      <td>0.456876</td>\n",
       "      <td>0.471000</td>\n",
       "      <td>0.563945</td>\n",
       "    </tr>\n",
       "    <tr>\n",
       "      <th>Impact-&gt;Impact On People</th>\n",
       "      <td>0.408435</td>\n",
       "      <td>0.361262</td>\n",
       "      <td>0.454039</td>\n",
       "    </tr>\n",
       "    <tr>\n",
       "      <th>Impact-&gt;Impact On People Or Impact On Services</th>\n",
       "      <td>0.513433</td>\n",
       "      <td>0.512821</td>\n",
       "      <td>0.691667</td>\n",
       "    </tr>\n",
       "    <tr>\n",
       "      <th>Impact-&gt;Impact On Services</th>\n",
       "      <td>0.250000</td>\n",
       "      <td>0.215000</td>\n",
       "      <td>0.357724</td>\n",
       "    </tr>\n",
       "    <tr>\n",
       "      <th>Impact-&gt;Impact On Systems And Services</th>\n",
       "      <td>0.530589</td>\n",
       "      <td>0.535354</td>\n",
       "      <td>0.607522</td>\n",
       "    </tr>\n",
       "    <tr>\n",
       "      <th>Impact-&gt;Number Of People Affected</th>\n",
       "      <td>0.348910</td>\n",
       "      <td>0.259067</td>\n",
       "      <td>0.166667</td>\n",
       "    </tr>\n",
       "    <tr>\n",
       "      <th>People At Risk-&gt;Number Of People At Risk</th>\n",
       "      <td>0.000000</td>\n",
       "      <td>0.000000</td>\n",
       "      <td>0.000000</td>\n",
       "    </tr>\n",
       "    <tr>\n",
       "      <th>People At Risk-&gt;Risk And Vulnerabilities</th>\n",
       "      <td>0.502326</td>\n",
       "      <td>0.493151</td>\n",
       "      <td>0.635135</td>\n",
       "    </tr>\n",
       "    <tr>\n",
       "      <th>Priority Interventions-&gt;Expressed By Humanitarian Staff</th>\n",
       "      <td>0.558891</td>\n",
       "      <td>0.648148</td>\n",
       "      <td>0.690909</td>\n",
       "    </tr>\n",
       "    <tr>\n",
       "      <th>Priority Interventions-&gt;Expressed By Population</th>\n",
       "      <td>0.000000</td>\n",
       "      <td>0.000000</td>\n",
       "      <td>0.000000</td>\n",
       "    </tr>\n",
       "    <tr>\n",
       "      <th>Priority Needs-&gt;Expressed By Humanitarian Staff</th>\n",
       "      <td>0.226148</td>\n",
       "      <td>0.267516</td>\n",
       "      <td>0.185185</td>\n",
       "    </tr>\n",
       "    <tr>\n",
       "      <th>Priority Needs-&gt;Expressed By Population</th>\n",
       "      <td>0.241546</td>\n",
       "      <td>0.226667</td>\n",
       "      <td>0.507937</td>\n",
       "    </tr>\n",
       "  </tbody>\n",
       "</table>\n",
       "</div>"
      ],
      "text/plain": [
       "                                                         f1_score  f1_score_5  \\\n",
       "class                                                                           \n",
       "Capacities & Response->International Response            0.681855    0.724974   \n",
       "Capacities & Response->National Response                 0.406795    0.490506   \n",
       "Capacities & Response->Number Of People Reached          0.665208    0.721485   \n",
       "Capacities & Response->Response Gaps                     0.000000    0.000000   \n",
       "Humanitarian Conditions->Coping Mechanisms               0.367133    0.337182   \n",
       "Humanitarian Conditions->Living Standards                0.605734    0.679237   \n",
       "Humanitarian Conditions->Number Of People In Need        0.496241    0.523741   \n",
       "Humanitarian Conditions->Physical And Mental Well Being  0.556456    0.701981   \n",
       "Impact->Driver/Aggravating Factors                       0.456876    0.471000   \n",
       "Impact->Impact On People                                 0.408435    0.361262   \n",
       "Impact->Impact On People Or Impact On Services           0.513433    0.512821   \n",
       "Impact->Impact On Services                               0.250000    0.215000   \n",
       "Impact->Impact On Systems And Services                   0.530589    0.535354   \n",
       "Impact->Number Of People Affected                        0.348910    0.259067   \n",
       "People At Risk->Number Of People At Risk                 0.000000    0.000000   \n",
       "People At Risk->Risk And Vulnerabilities                 0.502326    0.493151   \n",
       "Priority Interventions->Expressed By Humanitarian Staff  0.558891    0.648148   \n",
       "Priority Interventions->Expressed By Population          0.000000    0.000000   \n",
       "Priority Needs->Expressed By Humanitarian Staff          0.226148    0.267516   \n",
       "Priority Needs->Expressed By Population                  0.241546    0.226667   \n",
       "\n",
       "                                                         f1_score_new  \n",
       "class                                                                  \n",
       "Capacities & Response->International Response                0.755037  \n",
       "Capacities & Response->National Response                     0.384491  \n",
       "Capacities & Response->Number Of People Reached              0.758242  \n",
       "Capacities & Response->Response Gaps                         0.000000  \n",
       "Humanitarian Conditions->Coping Mechanisms                   0.550523  \n",
       "Humanitarian Conditions->Living Standards                    0.665037  \n",
       "Humanitarian Conditions->Number Of People In Need            0.734694  \n",
       "Humanitarian Conditions->Physical And Mental Well Being      0.781609  \n",
       "Impact->Driver/Aggravating Factors                           0.563945  \n",
       "Impact->Impact On People                                     0.454039  \n",
       "Impact->Impact On People Or Impact On Services               0.691667  \n",
       "Impact->Impact On Services                                   0.357724  \n",
       "Impact->Impact On Systems And Services                       0.607522  \n",
       "Impact->Number Of People Affected                            0.166667  \n",
       "People At Risk->Number Of People At Risk                     0.000000  \n",
       "People At Risk->Risk And Vulnerabilities                     0.635135  \n",
       "Priority Interventions->Expressed By Humanitarian Staff      0.690909  \n",
       "Priority Interventions->Expressed By Population              0.000000  \n",
       "Priority Needs->Expressed By Humanitarian Staff              0.185185  \n",
       "Priority Needs->Expressed By Population                      0.507937  "
      ]
     },
     "execution_count": 127,
     "metadata": {},
     "output_type": "execute_result"
    }
   ],
   "source": [
    "joined[['f1_score', 'f1_score_5', 'f1_score_new']]"
   ]
  },
  {
   "cell_type": "code",
   "execution_count": 128,
   "id": "1156a6c0",
   "metadata": {
    "ExecuteTime": {
     "end_time": "2021-06-07T09:53:15.131769Z",
     "start_time": "2021-06-07T09:53:14.767392Z"
    }
   },
   "outputs": [
    {
     "data": {
      "text/plain": [
       "<AxesSubplot:xlabel='class'>"
      ]
     },
     "execution_count": 128,
     "metadata": {},
     "output_type": "execute_result"
    },
    {
     "data": {
      "image/png": "[encoded data removed]",
      "text/plain": [
       "<Figure size 1440x720 with 1 Axes>"
      ]
     },
     "metadata": {
      "needs_background": "light"
     },
     "output_type": "display_data"
    }
   ],
   "source": [
    "joined[['f1_score', 'f1_score_5', 'f1_score_new']].plot(figsize=(20, 10), xticks=range(len(SUBPILLARS)+1), yticks=[x/10 for x in range(11)], ylim=(0, 1), grid=True)"
   ]
  },
  {
   "cell_type": "markdown",
   "id": "c9e7126b",
   "metadata": {},
   "source": [
    "# Inspect results"
   ]
  },
  {
   "cell_type": "code",
   "execution_count": 76,
   "id": "0b462962",
   "metadata": {
    "ExecuteTime": {
     "end_time": "2021-06-07T08:22:32.072028Z",
     "start_time": "2021-06-07T08:22:32.062324Z"
    },
    "scrolled": true
   },
   "outputs": [
    {
     "data": {
      "text/plain": [
       "['Capacities & Response',\n",
       " 'Capacities & Response->International Response',\n",
       " 'Capacities & Response->National Response',\n",
       " 'Capacities & Response->Number Of People Reached',\n",
       " 'Capacities & Response->Response Gaps',\n",
       " 'Humanitarian Conditions',\n",
       " 'Humanitarian Conditions->Coping Mechanisms',\n",
       " 'Humanitarian Conditions->Living Standards',\n",
       " 'Humanitarian Conditions->Number Of People In Need',\n",
       " 'Humanitarian Conditions->Physical And Mental Well Being',\n",
       " 'Impact',\n",
       " 'Impact->Driver/Aggravating Factors',\n",
       " 'Impact->Impact On People',\n",
       " 'Impact->Impact On People Or Impact On Services',\n",
       " 'Impact->Impact On Services',\n",
       " 'Impact->Impact On Systems And Services',\n",
       " 'Impact->Number Of People Affected',\n",
       " 'People At Risk',\n",
       " 'People At Risk->Number Of People At Risk',\n",
       " 'People At Risk->Risk And Vulnerabilities',\n",
       " 'Priority Interventions',\n",
       " 'Priority Interventions->Expressed By Humanitarian Staff',\n",
       " 'Priority Interventions->Expressed By Population',\n",
       " 'Priority Needs',\n",
       " 'Priority Needs->Expressed By Humanitarian Staff',\n",
       " 'Priority Needs->Expressed By Population']"
      ]
     },
     "execution_count": 76,
     "metadata": {},
     "output_type": "execute_result"
    }
   ],
   "source": [
    "resampled5_results.classes"
   ]
  },
  {
   "cell_type": "code",
   "execution_count": 77,
   "id": "c82bb626",
   "metadata": {
    "ExecuteTime": {
     "end_time": "2021-06-07T08:22:35.024824Z",
     "start_time": "2021-06-07T08:22:35.019822Z"
    }
   },
   "outputs": [
    {
     "name": "stdout",
     "output_type": "stream",
     "text": [
      "Humanitarian Conditions\n",
      "Humanitarian Conditions->Coping Mechanisms\n",
      "Humanitarian Conditions->Living Standards\n",
      "Humanitarian Conditions->Physical And Mental Well Being\n",
      "People At Risk\n",
      "People At Risk->Risk And Vulnerabilities\n"
     ]
    }
   ],
   "source": [
    "for i, x in enumerate(resampled5_results.test_targets[0]):\n",
    "    if x:\n",
    "        print(resampled5_results.classes[i])"
   ]
  },
  {
   "cell_type": "code",
   "execution_count": 70,
   "id": "ed60287e",
   "metadata": {
    "ExecuteTime": {
     "end_time": "2021-06-07T08:21:01.831306Z",
     "start_time": "2021-06-07T08:21:01.818971Z"
    }
   },
   "outputs": [
    {
     "data": {
      "text/plain": [
       "tensor([[3.3425e-03, 5.0780e-07, 7.9411e-06,  ..., 9.6688e-05, 1.3268e-09,\n",
       "         3.6622e-09],\n",
       "        [9.9735e-01, 9.9367e-01, 1.7090e-01,  ..., 7.5125e-08, 6.7299e-15,\n",
       "         9.7276e-15],\n",
       "        [1.7258e-03, 1.2547e-07, 1.0205e-05,  ..., 7.3872e-06, 9.4831e-11,\n",
       "         3.2621e-13],\n",
       "        ...,\n",
       "        [1.3767e-01, 1.5621e-04, 1.3215e-02,  ..., 5.8271e-01, 1.3070e-02,\n",
       "         3.3862e-01],\n",
       "        [4.6626e-03, 6.0594e-07, 4.6855e-05,  ..., 7.4559e-06, 1.2523e-11,\n",
       "         8.9302e-11],\n",
       "        [8.8518e-01, 1.0324e-01, 6.8829e-01,  ..., 3.3534e-06, 2.3583e-11,\n",
       "         1.9363e-11]])"
      ]
     },
     "execution_count": 70,
     "metadata": {},
     "output_type": "execute_result"
    }
   ],
   "source": [
    "resampled5_results.test_preds"
   ]
  },
  {
   "cell_type": "code",
   "execution_count": 96,
   "id": "89872f2c",
   "metadata": {
    "ExecuteTime": {
     "end_time": "2021-06-07T08:26:58.106688Z",
     "start_time": "2021-06-07T08:26:58.100189Z"
    }
   },
   "outputs": [],
   "source": [
    "classes = np.array(resampled5_results.classes)"
   ]
  },
  {
   "cell_type": "code",
   "execution_count": 106,
   "id": "2864e0f2",
   "metadata": {
    "ExecuteTime": {
     "end_time": "2021-06-07T08:34:45.139369Z",
     "start_time": "2021-06-07T08:28:59.796823Z"
    },
    "scrolled": true
   },
   "outputs": [
    {
     "name": "stdout",
     "output_type": "stream",
     "text": [
      "What this means is that families across the country can no longer afford the very basics. And food security and nutrition indicators clearly reflect that. Some 9.3 million people are food insecure. More than 2 million more are at risk of becoming food insecure. 86 per cent of households say they are buying lower quality food, or less food, or skipping meals.\n",
      "['Humanitarian Conditions', 'Humanitarian Conditions->Coping Mechanisms', 'Humanitarian Conditions->Living Standards', 'Humanitarian Conditions->Physical And Mental Well Being', 'People At Risk', 'People At Risk->Risk And Vulnerabilities']\n",
      "['Humanitarian Conditions', 'Humanitarian Conditions->Coping Mechanisms', 'Humanitarian Conditions->Living Standards', 'Humanitarian Conditions->Physical And Mental Well Being', 'People At Risk', 'People At Risk->Risk And Vulnerabilities']\n",
      "\n",
      "Dispatch and Referral Unit (DRU): IOM continues to coordinate an expanded fleet of 22 vehicles, 11 of which are supplied by IOM and staffed with drivers fully trained on Infection Prevention and Control.\n",
      "['Capacities & Response', 'Capacities & Response->International Response', 'Capacities & Response->National Response']\n",
      "['Capacities & Response', 'Capacities & Response->International Response']\n",
      "\n",
      "A third of school-aged children in Syria – 2.5 million children – are out of school. Another 1.6 million are at risk of dropping out of school. The number of out-of-school children has increased by 16 per cent since last year. With school closures due to COVID-19, that number is very likely to increase further\n",
      "['Humanitarian Conditions', 'Impact', 'Impact->Driver/Aggravating Factors', 'Impact->Impact On Systems And Services', 'People At Risk', 'People At Risk->Risk And Vulnerabilities']\n",
      "['Humanitarian Conditions', 'Humanitarian Conditions->Living Standards', 'Impact', 'Impact->Driver/Aggravating Factors', 'Impact->Impact On Systems And Services']\n",
      "\n",
      "The RIRT coordination system has been formalized and each camp now has RIRT team composed of an isolation unit focal point, contact tracing supervisor and a SM focal. To operationalize engagement of these teams, the World Health organization established WhatsApp groups for a better coordinated COVID-19 response. On 18 July, the camp 22 RIRT team responded to its first confirmed COVID -19 patient. The team assisted the affected family by supporting the patient’s transfer to a SARI ITC. The team also supported as the four family members were transferred to Kerantoli Quarantine Centre in Teknaf.\n",
      "['Capacities & Response', 'Capacities & Response->International Response']\n",
      "['Capacities & Response', 'Capacities & Response->International Response']\n",
      "\n",
      "Project implementation partners continued dissemination of messages on prevention of COVID-19 transmission, food safety, waste management, and hygienic practices in advance of EID al – Adha, following IOM WASH unit guidance. The partner organization conducted a total of 153, 674 household sessions reaching 200, 328 beneficiaries an average of three times in the reporting period>> IOM’s implementing partners also conducted 4,410 megaphone messaging session, reaching an estimated 151,475 beneficiaries and average of two times each. Ips additionally coordinated with Camps-in -charge (CiC), site management teams and local leaders to systematize the animal sacrifice and waste management process to ensure to reduce the risk of COVID -19 transmission, ensure soap and water at handwashing facilities, supply sufficient cleaning materials, and organize waste management.\n",
      "['Capacities & Response', 'Capacities & Response->International Response', 'Capacities & Response->National Response', 'Capacities & Response->Number Of People Reached']\n",
      "['Capacities & Response', 'Capacities & Response->International Response', 'Capacities & Response->Number Of People Reached']\n",
      "\n",
      "IOM and partners continued sensitization of both Rohingya refugees and host community members through awareness raising on human trafficking and Covid-19. The outreach messages promoted personal hygiene and physical distancing while discouraging mass gatherings, as well as describing the possible risks of human trafficking during the pandemic context. The effort reached 5,761 individuals (2,235 women, 12 elderly women, 10 women with disabilities, 2,063 men, 51 elderly m,en, 21 men with disabilities, 704 boys, two boys with disabilities and 663 girls) through 740 sessions. Meanwhile, 3,226 (comic) pocket books that depict possible trafficking scenarios were distributed to Rohingya and host community members to sensitize them regarding human trafficking risks.\n",
      "['Capacities & Response', 'Capacities & Response->International Response', 'Capacities & Response->Number Of People Reached']\n",
      "['Capacities & Response', 'Capacities & Response->International Response', 'Capacities & Response->National Response', 'Capacities & Response->Number Of People Reached']\n",
      "\n",
      "In Kongoussi, where tens of thousands of displaced people are living, construction workers were erecting a new ward at the local hospital last month to cope with the increasing numbers of emaciated children. The noise rattled through a makeshift waiting room where a line of anxious parents all held frail babies.\n",
      "['Capacities & Response', 'Humanitarian Conditions', 'Humanitarian Conditions->Coping Mechanisms', 'Humanitarian Conditions->Physical And Mental Well Being']\n",
      "['People At Risk', 'People At Risk->Risk And Vulnerabilities']\n",
      "\n",
      "A total of 269 awareness sessions and sensitizations reached 17,472 individuals in the BAY States (Men – 6,661; Women – 9,243; Boys - 696; Girls - 869) with protection-based messaging on COVID-19. Of this number, 75 % were in Borno State, 19 % in Adamawa State and 7 % in Yobe State. Thematic areas covered included Human rights, Prevention of Sexual Exploitation and Abuse and the referral pathway. Information on the Prevention and Response to COVID-19 have been mainstreamed into daily protection awareness sessions.\n",
      "['Capacities & Response', 'Capacities & Response->Number Of People Reached']\n",
      "['Capacities & Response', 'Capacities & Response->Number Of People Reached']\n",
      "\n",
      "Las mujeres provenientes de Venezuela son más vulnerables a esta situación puesto que por falta de ingresos relacionados con sus actividades económicas informales no cuentan con la capacidad ﬁnanciera para recargar sus teléfonos, comprar minutos o ir de manera presencial a la Comisaría de Familia.\n",
      "['Humanitarian Conditions', 'Humanitarian Conditions->Coping Mechanisms', 'Humanitarian Conditions->Living Standards', 'Humanitarian Conditions->Physical And Mental Well Being', 'Impact', 'People At Risk']\n",
      "['Humanitarian Conditions', 'Humanitarian Conditions->Living Standards', 'People At Risk', 'People At Risk->Risk And Vulnerabilities']\n",
      "\n",
      "No todas las mujeres cuentan con medios de comunicación (celulares, líneas telefónicas y paquete de minutos) para acceder a las líneas de atención y orientación de violencias basadas en género brindadas por las distintas instituciones presentes en el territorio.\n",
      "['Priority Needs']\n",
      "['Humanitarian Conditions', 'Humanitarian Conditions->Living Standards', 'Impact', 'Impact->Driver/Aggravating Factors']\n",
      "\n",
      "En Colombia se han reportado al día 25 de junio 80.599 casos de COVID-19, el departamento de La Guajira reporta hasta el momento 261 casos (Ministerio de Salud y Protección Social) y el número aproximado de pruebas realizadas en el departamento son 2.460 (AT- Salud La Guajira).\n",
      "['Capacities & Response', 'Humanitarian Conditions', 'Humanitarian Conditions->Physical And Mental Well Being']\n",
      "['Humanitarian Conditions', 'Humanitarian Conditions->Physical And Mental Well Being']\n",
      "s\n"
     ]
    }
   ],
   "source": [
    "for text, pred, target in zip(test_df.excerpt, resampled5_results.test_preds, resampled5_results.test_targets):\n",
    "    print(text)\n",
    "    print(sorted(classes[pred>0.15]))\n",
    "    print(sorted(classes[target==1]))\n",
    "    \n",
    "    \n",
    "    a = input()\n",
    "    if a == 's':\n",
    "        break"
   ]
  },
  {
   "cell_type": "code",
   "execution_count": 102,
   "id": "d16becfc",
   "metadata": {
    "ExecuteTime": {
     "end_time": "2021-06-07T08:28:04.134609Z",
     "start_time": "2021-06-07T08:28:04.125985Z"
    }
   },
   "outputs": [
    {
     "data": {
      "text/plain": [
       "tensor([0., 0., 0., 0., 0., 1., 1., 1., 0., 1., 0., 0., 0., 0., 0., 0., 0., 1.,\n",
       "        0., 1., 0., 0., 0., 0., 0., 0.])"
      ]
     },
     "execution_count": 102,
     "metadata": {},
     "output_type": "execute_result"
    }
   ],
   "source": [
    "target"
   ]
  },
  {
   "cell_type": "code",
   "execution_count": 100,
   "id": "644d5de6",
   "metadata": {
    "ExecuteTime": {
     "end_time": "2021-06-07T08:27:16.586052Z",
     "start_time": "2021-06-07T08:27:16.577680Z"
    }
   },
   "outputs": [
    {
     "data": {
      "text/plain": [
       "array(['Capacities & Response',\n",
       "       'Capacities & Response->National Response',\n",
       "       'Humanitarian Conditions', 'People At Risk'], dtype='<U55')"
      ]
     },
     "execution_count": 100,
     "metadata": {},
     "output_type": "execute_result"
    }
   ],
   "source": []
  },
  {
   "cell_type": "code",
   "execution_count": null,
   "id": "1330a641",
   "metadata": {},
   "outputs": [],
   "source": []
  }
 ],
 "metadata": {
  "kernelspec": {
   "display_name": "Python 3",
   "language": "python",
   "name": "python3"
  },
  "language_info": {
   "codemirror_mode": {
    "name": "ipython",
    "version": 3
   },
   "file_extension": ".py",
   "mimetype": "text/x-python",
   "name": "python",
   "nbconvert_exporter": "python",
   "pygments_lexer": "ipython3",
   "version": "3.9.1"
  },
  "notify_time": "5",
  "toc": {
   "base_numbering": 1,
   "nav_menu": {},
   "number_sections": true,
   "sideBar": true,
   "skip_h1_title": false,
   "title_cell": "Table of Contents",
   "title_sidebar": "Contents",
   "toc_cell": false,
   "toc_position": {},
   "toc_section_display": true,
   "toc_window_display": false
  }
 },
 "nbformat": 4,
 "nbformat_minor": 5
}
