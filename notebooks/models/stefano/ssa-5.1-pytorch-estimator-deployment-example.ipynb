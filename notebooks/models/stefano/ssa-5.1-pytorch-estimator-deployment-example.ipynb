{
 "cells": [
  {
   "cell_type": "markdown",
   "id": "da175455",
   "metadata": {},
   "source": [
    "Using kernel `conda_pytorch_latest_p36`"
   ]
  },
  {
   "cell_type": "code",
   "execution_count": 1,
   "id": "14ea103d",
   "metadata": {
    "ExecuteTime": {
     "end_time": "2021-06-02T09:41:03.841385Z",
     "start_time": "2021-06-02T09:41:03.837938Z"
    }
   },
   "outputs": [],
   "source": [
    "import sys\n",
    "sys.path.append('../../../')"
   ]
  },
  {
   "cell_type": "code",
   "execution_count": 2,
   "id": "a548b57f",
   "metadata": {
    "ExecuteTime": {
     "end_time": "2021-06-02T09:41:03.853087Z",
     "start_time": "2021-06-02T09:41:03.844280Z"
    }
   },
   "outputs": [],
   "source": [
    "from pathlib import Path\n",
    "import os\n",
    "import random\n",
    "from tqdm import tqdm"
   ]
  },
  {
   "cell_type": "code",
   "execution_count": 3,
   "id": "01727bc6",
   "metadata": {
    "ExecuteTime": {
     "end_time": "2021-06-02T09:41:05.046599Z",
     "start_time": "2021-06-02T09:41:03.855463Z"
    }
   },
   "outputs": [],
   "source": [
    "import pandas as pd\n",
    "import numpy as np\n",
    "from sklearn.metrics import classification_report\n",
    "import torch"
   ]
  },
  {
   "cell_type": "code",
   "execution_count": 4,
   "id": "1bc79461",
   "metadata": {
    "ExecuteTime": {
     "end_time": "2021-06-02T09:41:05.196876Z",
     "start_time": "2021-06-02T09:41:05.047797Z"
    }
   },
   "outputs": [],
   "source": [
    "from deep.constants import *"
   ]
  },
  {
   "cell_type": "code",
   "execution_count": 5,
   "id": "fef4595c",
   "metadata": {
    "ExecuteTime": {
     "end_time": "2021-06-02T09:41:05.215161Z",
     "start_time": "2021-06-02T09:41:05.197720Z"
    }
   },
   "outputs": [],
   "source": [
    "%load_ext autoreload\n",
    "%autoreload 2"
   ]
  },
  {
   "cell_type": "code",
   "execution_count": 6,
   "id": "e64c7587",
   "metadata": {
    "ExecuteTime": {
     "end_time": "2021-06-02T09:41:05.420120Z",
     "start_time": "2021-06-02T09:41:05.216118Z"
    }
   },
   "outputs": [],
   "source": [
    "from transformers import (\n",
    "    AutoTokenizer, \n",
    "    DistilBertTokenizerFast,\n",
    "    DistilBertForSequenceClassification,\n",
    "    TrainingArguments, \n",
    "    Trainer\n",
    ")"
   ]
  },
  {
   "cell_type": "markdown",
   "id": "f3be975a",
   "metadata": {},
   "source": [
    "## Sagemaker Prep"
   ]
  },
  {
   "cell_type": "code",
   "execution_count": 7,
   "id": "1891c670",
   "metadata": {
    "ExecuteTime": {
     "end_time": "2021-06-02T09:41:05.604712Z",
     "start_time": "2021-06-02T09:41:05.421042Z"
    }
   },
   "outputs": [
    {
     "name": "stdout",
     "output_type": "stream",
     "text": [
      "AmazonSageMaker-ExecutionRole-20210519T102514\n"
     ]
    }
   ],
   "source": [
    "import sagemaker\n",
    "from sagemaker import get_execution_role\n",
    "import json\n",
    "import boto3\n",
    "\n",
    "default_bucket = 'deep-experiments-sagemaker-bucket'\n",
    "sess = sagemaker.Session(default_bucket=default_bucket)\n",
    "\n",
    "role = 'AmazonSageMaker-ExecutionRole-20210519T102514'\n",
    "print(\n",
    "    role\n",
    ")  # This is the role that SageMaker would use to leverage AWS resources (S3, CloudWatch) on your behalf\n",
    "\n",
    "bucket = DEV_BUCKET\n",
    "prefix = \"huggingface/first\"  # Replace with the prefix under which you want to store the data if needed\n"
   ]
  },
  {
   "cell_type": "markdown",
   "id": "cfc69433",
   "metadata": {},
   "source": [
    "### Bucket upload"
   ]
  },
  {
   "cell_type": "code",
   "execution_count": 8,
   "id": "d7c444d5",
   "metadata": {
    "ExecuteTime": {
     "end_time": "2021-06-02T09:41:05.625894Z",
     "start_time": "2021-06-02T09:41:05.606726Z"
    }
   },
   "outputs": [],
   "source": [
    "pt_mnist_model_data = 's3://sagemaker-us-east-1-961104659532/pytorch-training-2021-05-26-13-34-05-285/output/model.tar.gz'"
   ]
  },
  {
   "cell_type": "code",
   "execution_count": 9,
   "id": "102054d3",
   "metadata": {
    "ExecuteTime": {
     "end_time": "2021-06-02T09:41:05.647355Z",
     "start_time": "2021-06-02T09:41:05.627326Z"
    }
   },
   "outputs": [],
   "source": [
    "from sagemaker.pytorch import PyTorchModel\n",
    "\n",
    "hyperparameters={\n",
    "    'train_batch_size': 32,\n",
    "    'model_name': 'distilbert-base-uncased'\n",
    "}\n",
    "\n",
    "model = PyTorchModel(\n",
    "    entry_point=\"inference.py\",\n",
    "    source_dir=str(SCRIPTS_TRAINING_PATH / 'stefano/pytorch_estimator_example'),\n",
    "    role=role,\n",
    "    model_data=pt_mnist_model_data,\n",
    "    framework_version=\"1.8.1\",\n",
    "    py_version=\"py3\",\n",
    ")"
   ]
  },
  {
   "cell_type": "code",
   "execution_count": 10,
   "id": "ac0e0e88",
   "metadata": {
    "ExecuteTime": {
     "end_time": "2021-06-02T09:41:05.666384Z",
     "start_time": "2021-06-02T09:41:05.648215Z"
    }
   },
   "outputs": [],
   "source": [
    "instances = [\n",
    "    'ml.p2.xlarge',\n",
    "    'ml.p3.2xlarge',\n",
    "    'ml.c4.xlarge'\n",
    "]"
   ]
  },
  {
   "cell_type": "code",
   "execution_count": 11,
   "id": "ec419b86",
   "metadata": {
    "ExecuteTime": {
     "end_time": "2021-06-02T09:53:27.899912Z",
     "start_time": "2021-06-02T09:41:05.667240Z"
    }
   },
   "outputs": [
    {
     "name": "stdout",
     "output_type": "stream",
     "text": [
      "----------------------!"
     ]
    }
   ],
   "source": [
    "from sagemaker.serializers import JSONSerializer\n",
    "from sagemaker.deserializers import JSONDeserializer\n",
    "\n",
    "# set local_mode to False if you want to deploy on a remote\n",
    "# SageMaker instance\n",
    "\n",
    "local_mode = False\n",
    "\n",
    "if local_mode:\n",
    "    instance_type = \"local\"\n",
    "else:\n",
    "    instance_type = \"ml.p2.xlarge\"\n",
    "\n",
    "predictor = model.deploy(\n",
    "    initial_instance_count=1,\n",
    "    instance_type=instance_type,\n",
    "    serializer=JSONSerializer(),\n",
    "    deserializer=JSONDeserializer(),\n",
    ")"
   ]
  },
  {
   "cell_type": "code",
   "execution_count": 12,
   "id": "736ae80f",
   "metadata": {
    "ExecuteTime": {
     "end_time": "2021-06-02T09:53:31.711053Z",
     "start_time": "2021-06-02T09:53:27.904395Z"
    }
   },
   "outputs": [
    {
     "name": "stderr",
     "output_type": "stream",
     "text": [
      "Some weights of the model checkpoint at distilbert-base-uncased were not used when initializing DistilBertForSequenceClassification: ['vocab_projector.weight', 'vocab_layer_norm.weight', 'vocab_projector.bias', 'vocab_layer_norm.bias', 'vocab_transform.weight', 'vocab_transform.bias']\n",
      "- This IS expected if you are initializing DistilBertForSequenceClassification from the checkpoint of a model trained on another task or with another architecture (e.g. initializing a BertForSequenceClassification model from a BertForPreTraining model).\n",
      "- This IS NOT expected if you are initializing DistilBertForSequenceClassification from the checkpoint of a model that you expect to be exactly identical (initializing a BertForSequenceClassification model from a BertForSequenceClassification model).\n",
      "Some weights of DistilBertForSequenceClassification were not initialized from the model checkpoint at distilbert-base-uncased and are newly initialized: ['pre_classifier.weight', 'pre_classifier.bias', 'classifier.weight', 'classifier.bias']\n",
      "You should probably TRAIN this model on a down-stream task to be able to use it for predictions and inference.\n"
     ]
    }
   ],
   "source": [
    "models = {\n",
    "    'tokenizer': DistilBertTokenizerFast.from_pretrained('distilbert-base-uncased'),\n",
    "    'model': DistilBertForSequenceClassification.from_pretrained('distilbert-base-uncased')\n",
    "\n",
    "}"
   ]
  },
  {
   "cell_type": "code",
   "execution_count": 13,
   "id": "a2142ef1",
   "metadata": {
    "ExecuteTime": {
     "end_time": "2021-06-02T09:53:31.731487Z",
     "start_time": "2021-06-02T09:53:31.711993Z"
    }
   },
   "outputs": [],
   "source": [
    "dummy_data = {\"inputs\": ['There are many health problems', 'There are many more health problems', 'hey how are you?']*100}"
   ]
  },
  {
   "cell_type": "code",
   "execution_count": 20,
   "id": "9dde3995",
   "metadata": {
    "ExecuteTime": {
     "end_time": "2021-06-02T09:54:24.242717Z",
     "start_time": "2021-06-02T09:54:23.124353Z"
    }
   },
   "outputs": [],
   "source": [
    "train = pd.read_csv(LATEST_DATA_PATH / 'data_v0.4.2_train.csv')\n",
    "val = pd.read_csv(LATEST_DATA_PATH / 'data_v0.4.2_val.csv')\n",
    "test = pd.read_csv(LATEST_DATA_PATH / 'data_v0.4.2_test.csv')"
   ]
  },
  {
   "cell_type": "code",
   "execution_count": 32,
   "id": "400b46cb",
   "metadata": {
    "ExecuteTime": {
     "end_time": "2021-06-02T09:55:53.781295Z",
     "start_time": "2021-06-02T09:55:53.733657Z"
    }
   },
   "outputs": [],
   "source": [
    "dummy_data = {'inputs': list(train.excerpt.iloc[400:500])}"
   ]
  },
  {
   "cell_type": "code",
   "execution_count": 33,
   "id": "0f645154",
   "metadata": {
    "ExecuteTime": {
     "end_time": "2021-06-02T09:55:57.225801Z",
     "start_time": "2021-06-02T09:55:53.963775Z"
    }
   },
   "outputs": [],
   "source": [
    "res = predictor.predict(dummy_data)"
   ]
  },
  {
   "cell_type": "code",
   "execution_count": 29,
   "id": "b2a5e3b3",
   "metadata": {
    "ExecuteTime": {
     "end_time": "2021-06-02T09:55:40.134492Z",
     "start_time": "2021-06-02T09:55:40.086221Z"
    },
    "scrolled": true
   },
   "outputs": [
    {
     "data": {
      "text/plain": [
       "[[-0.012573882937431335, -0.07482992857694626],\n",
       " [-0.009653947316110134, -0.027969634160399437],\n",
       " [-0.061148516833782196, -0.05205824598670006],\n",
       " [-0.036401353776454926, -0.07345907390117645],\n",
       " [-0.030329568311572075, -0.06974519789218903],\n",
       " [-0.016993410885334015, -0.05919870361685753],\n",
       " [-0.07242336869239807, -0.04151153936982155],\n",
       " [-0.056255873292684555, -0.07156162708997726],\n",
       " [-0.014177772216498852, -0.014838998205959797],\n",
       " [-0.0752091184258461, -0.07641132920980453],\n",
       " [0.01882767863571644, -0.013624168001115322],\n",
       " [-0.03899262100458145, -0.07284563779830933],\n",
       " [0.012607359327375889, -0.06264359503984451],\n",
       " [-0.01968485675752163, -0.06865695863962173],\n",
       " [-0.02501075156033039, -0.06545975804328918],\n",
       " [-0.06887733191251755, -0.0839947834610939],\n",
       " [-0.0577133409678936, -0.07013429701328278],\n",
       " [-0.04503881558775902, -0.0634227991104126],\n",
       " [-0.023082586005330086, -0.10964049398899078],\n",
       " [-0.03198631480336189, -0.09623625129461288],\n",
       " [-0.033341553062200546, -0.07573923468589783],\n",
       " [-0.04349550977349281, -0.07896874099969864],\n",
       " [-0.037078648805618286, -0.054063208401203156],\n",
       " [-0.06049244850873947, -0.10428128391504288],\n",
       " [-0.05665136128664017, -0.1021856740117073],\n",
       " [0.010693509131669998, -0.031391046941280365],\n",
       " [-0.039779141545295715, -0.08751695603132248],\n",
       " [-0.06494900584220886, -0.05308026075363159],\n",
       " [-0.045556504279375076, -0.10373827815055847],\n",
       " [-0.03789323940873146, -0.10753442347049713],\n",
       " [-0.03497277572751045, -0.08891592919826508],\n",
       " [-0.015394425019621849, -0.1574869155883789],\n",
       " [-0.008885114453732967, -0.1418561488389969],\n",
       " [0.0013201970141381025, -0.07027182728052139],\n",
       " [-0.0011347810504958034, -0.03611934185028076],\n",
       " [-0.03639761358499527, -0.06930083781480789],\n",
       " [-0.05854407325387001, -0.052795615047216415],\n",
       " [-0.04789697751402855, -0.08417152613401413],\n",
       " [-0.01644052378833294, -0.07049074023962021],\n",
       " [0.009527759626507759, -0.09873450547456741],\n",
       " [0.03634750843048096, -0.1003599464893341],\n",
       " [-0.0242278091609478, -0.06687109917402267],\n",
       " [-0.009458765387535095, -0.0018311170861124992],\n",
       " [-0.0005024040001444519, -0.09351129829883575],\n",
       " [-0.004384258762001991, -0.014930379576981068],\n",
       " [-0.04742322117090225, -0.03914770856499672],\n",
       " [-0.07679194211959839, -0.07509914040565491],\n",
       " [-0.027986371889710426, -0.03833714872598648],\n",
       " [-0.05880950763821602, -0.06353994458913803],\n",
       " [-0.010573095642030239, -0.07772428542375565],\n",
       " [-0.035438187420368195, -0.09313150495290756],\n",
       " [-0.01627788506448269, -0.04601161554455757],\n",
       " [0.009699119254946709, -0.050307441502809525],\n",
       " [-0.0093191834166646, -0.0478966049849987],\n",
       " [0.02330009825527668, -0.07348679006099701],\n",
       " [-0.010751433670520782, -0.025239262729883194],\n",
       " [-0.03581662476062775, -0.08937903493642807],\n",
       " [-0.039835818111896515, -0.03367039933800697],\n",
       " [-0.05319061875343323, -0.07221899181604385],\n",
       " [-0.05939803645014763, -0.06274189800024033],\n",
       " [-0.07739245146512985, -0.029189037159085274],\n",
       " [-0.03396514058113098, -0.06137421727180481],\n",
       " [-0.044380586594343185, -0.0578436478972435],\n",
       " [-0.033946335315704346, -0.08769647777080536],\n",
       " [0.0035744698252528906, 0.011962839402258396],\n",
       " [0.019796380773186684, 0.06665632128715515],\n",
       " [0.01054889801889658, -0.06738121807575226],\n",
       " [-0.028740322217345238, -0.10329359769821167],\n",
       " [-0.020437389612197876, -0.12384027242660522],\n",
       " [-0.02319842390716076, -0.1228228211402893],\n",
       " [-0.019404305145144463, -0.08802224695682526],\n",
       " [-0.02342638187110424, -0.04529929533600807],\n",
       " [-0.0518701933324337, -0.09574128687381744],\n",
       " [-0.010567264631390572, -0.08028042316436768],\n",
       " [-0.04743555188179016, -0.05313713476061821],\n",
       " [-0.03413626551628113, -0.12277785688638687],\n",
       " [-0.03883194550871849, -0.07193196564912796],\n",
       " [-0.04542649909853935, -0.06626585870981216],\n",
       " [-0.027078961953520775, -0.1361338049173355],\n",
       " [-0.04198059067130089, -0.0917293056845665],\n",
       " [0.041896168142557144, -0.08956588804721832],\n",
       " [-0.013979889452457428, -0.07188355177640915],\n",
       " [0.006981422659009695, -0.06564179807901382],\n",
       " [-0.05603652074933052, -0.1203053742647171],\n",
       " [-0.04134069010615349, -0.15100853145122528],\n",
       " [-0.04277666285634041, -0.08519938588142395],\n",
       " [-0.03678670898079872, -0.07285702228546143],\n",
       " [0.009026272222399712, -0.032995399087667465],\n",
       " [-0.011967460624873638, -0.04548032581806183],\n",
       " [-0.00952739454805851, -0.08792456984519958],\n",
       " [-0.04147358983755112, -0.035476356744766235],\n",
       " [0.01646486297249794, -0.061002571135759354],\n",
       " [-0.05260055512189865, -0.07740050554275513],\n",
       " [-0.05890601873397827, -0.05219821259379387],\n",
       " [-0.046967875212430954, -0.12448481470346451],\n",
       " [-0.05210934579372406, -0.08213280886411667],\n",
       " [-0.04719916358590126, -0.0836719274520874],\n",
       " [-0.04486946016550064, -0.09204143285751343],\n",
       " [0.02169240452349186, -0.09445397555828094],\n",
       " [0.020065728574991226, -0.03636043146252632]]"
      ]
     },
     "execution_count": 29,
     "metadata": {},
     "output_type": "execute_result"
    }
   ],
   "source": [
    "res"
   ]
  },
  {
   "cell_type": "code",
   "execution_count": null,
   "id": "983e5901",
   "metadata": {},
   "outputs": [],
   "source": []
  },
  {
   "cell_type": "code",
   "execution_count": null,
   "id": "2b7cb909",
   "metadata": {},
   "outputs": [],
   "source": []
  },
  {
   "cell_type": "code",
   "execution_count": null,
   "id": "8bdac4e0",
   "metadata": {},
   "outputs": [],
   "source": []
  },
  {
   "cell_type": "code",
   "execution_count": 34,
   "id": "a8d6e781",
   "metadata": {
    "ExecuteTime": {
     "end_time": "2021-06-02T09:57:13.711778Z",
     "start_time": "2021-06-02T09:57:12.296461Z"
    }
   },
   "outputs": [],
   "source": [
    "# predictor.delete_endpoint()"
   ]
  },
  {
   "cell_type": "code",
   "execution_count": null,
   "id": "a7b13b6f",
   "metadata": {},
   "outputs": [],
   "source": []
  }
 ],
 "metadata": {
  "kernelspec": {
   "display_name": "Python 3",
   "language": "python",
   "name": "python3"
  },
  "language_info": {
   "codemirror_mode": {
    "name": "ipython",
    "version": 3
   },
   "file_extension": ".py",
   "mimetype": "text/x-python",
   "name": "python",
   "nbconvert_exporter": "python",
   "pygments_lexer": "ipython3",
   "version": "3.9.1"
  },
  "notify_time": "5",
  "toc": {
   "base_numbering": 1,
   "nav_menu": {},
   "number_sections": true,
   "sideBar": true,
   "skip_h1_title": false,
   "title_cell": "Table of Contents",
   "title_sidebar": "Contents",
   "toc_cell": false,
   "toc_position": {},
   "toc_section_display": true,
   "toc_window_display": false
  }
 },
 "nbformat": 4,
 "nbformat_minor": 5
}
