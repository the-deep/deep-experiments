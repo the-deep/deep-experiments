{
 "cells": [
  {
   "cell_type": "markdown",
   "id": "6389e982",
   "metadata": {},
   "source": [
    "Using kernel `conda_pytorch_latest_p36`"
   ]
  },
  {
   "cell_type": "markdown",
   "id": "384c1e17",
   "metadata": {
    "ExecuteTime": {
     "end_time": "2021-06-08T08:56:30.597058Z",
     "start_time": "2021-06-08T08:56:30.579481Z"
    }
   },
   "source": [
    "We take inspiration from [this paper](https://arxiv.org/pdf/2104.14690.pdf)"
   ]
  },
  {
   "cell_type": "code",
   "execution_count": 1,
   "id": "94a7dd3a",
   "metadata": {
    "ExecuteTime": {
     "end_time": "2021-06-08T15:58:37.694874Z",
     "start_time": "2021-06-08T15:58:37.692392Z"
    },
    "scrolled": true
   },
   "outputs": [],
   "source": [
    "# !pip install cloudpathlib\n",
    "# !pip install s3fs\n",
    "# !pip install transformers\n",
    "# !pip install pytorch-lightning"
   ]
  },
  {
   "cell_type": "markdown",
   "id": "d46795d2",
   "metadata": {},
   "source": [
    "# Import"
   ]
  },
  {
   "cell_type": "code",
   "execution_count": 2,
   "id": "21efe0de",
   "metadata": {
    "ExecuteTime": {
     "end_time": "2021-06-08T15:58:37.703435Z",
     "start_time": "2021-06-08T15:58:37.700599Z"
    }
   },
   "outputs": [],
   "source": [
    "import sys\n",
    "sys.path.append('../../../')"
   ]
  },
  {
   "cell_type": "code",
   "execution_count": 3,
   "id": "c4e20c6f",
   "metadata": {
    "ExecuteTime": {
     "end_time": "2021-06-08T15:58:37.708344Z",
     "start_time": "2021-06-08T15:58:37.705819Z"
    }
   },
   "outputs": [],
   "source": [
    "from pathlib import Path\n",
    "import os\n",
    "import random\n",
    "import json\n",
    "from datetime import datetime"
   ]
  },
  {
   "cell_type": "code",
   "execution_count": 4,
   "id": "19e74735",
   "metadata": {
    "ExecuteTime": {
     "end_time": "2021-06-08T15:58:39.358890Z",
     "start_time": "2021-06-08T15:58:37.710571Z"
    }
   },
   "outputs": [],
   "source": [
    "import pandas as pd\n",
    "import numpy as np\n",
    "from sklearn.metrics import classification_report\n",
    "import torch\n",
    "from torch import nn\n",
    "\n",
    "import sagemaker\n",
    "from sagemaker import get_execution_role\n",
    "import boto3\n",
    "import torch.nn as nn\n",
    "from sklearn.preprocessing import MultiLabelBinarizer\n",
    "from torch.utils.data import DataLoader,Dataset\n",
    "from tqdm import tqdm\n",
    "\n",
    "import boto3\n",
    "import pytorch_lightning as pl\n",
    "import torch.nn as nn\n",
    "from transformers import (\n",
    "    AutoModelForSequenceClassification,\n",
    "    BertForMaskedLM,\n",
    "    DistilBertForMaskedLM,\n",
    "    AutoModel,\n",
    "    AutoTokenizer,\n",
    "    AdamW,\n",
    "    get_linear_schedule_with_warmup,\n",
    "    Trainer,\n",
    "    TrainingArguments\n",
    ")\n",
    "from torch.utils.data import DataLoader,Dataset"
   ]
  },
  {
   "cell_type": "code",
   "execution_count": 5,
   "id": "e705b9c5",
   "metadata": {
    "ExecuteTime": {
     "end_time": "2021-06-08T15:58:39.453206Z",
     "start_time": "2021-06-08T15:58:39.360038Z"
    },
    "scrolled": true
   },
   "outputs": [],
   "source": [
    "from deep.constants import *\n",
    "from deep.utils import *"
   ]
  },
  {
   "cell_type": "code",
   "execution_count": 6,
   "id": "fda4347e",
   "metadata": {
    "ExecuteTime": {
     "end_time": "2021-06-08T15:58:39.482366Z",
     "start_time": "2021-06-08T15:58:39.454089Z"
    }
   },
   "outputs": [],
   "source": [
    "%load_ext autoreload\n",
    "%autoreload 2"
   ]
  },
  {
   "cell_type": "markdown",
   "id": "136136c3",
   "metadata": {},
   "source": [
    "## Data"
   ]
  },
  {
   "cell_type": "code",
   "execution_count": 7,
   "id": "f506cb3d",
   "metadata": {
    "ExecuteTime": {
     "end_time": "2021-06-08T15:58:39.505105Z",
     "start_time": "2021-06-08T15:58:39.483275Z"
    }
   },
   "outputs": [],
   "source": [
    "def preprocessing(df):\n",
    "    df = df.copy()\n",
    "    df['sectors'] = df['sectors'].apply(eval)    \n",
    "    df['pillars'] = df['pillars'].apply(eval)\n",
    "    df['pillars'] = df['pillars'].apply(lambda x: list(set(x)))\n",
    "    df['subpillars'] = df['subpillars'].apply(eval)\n",
    "    return df"
   ]
  },
  {
   "cell_type": "code",
   "execution_count": 8,
   "id": "978d9268",
   "metadata": {
    "ExecuteTime": {
     "end_time": "2021-06-08T15:58:39.527113Z",
     "start_time": "2021-06-08T15:58:39.505972Z"
    }
   },
   "outputs": [],
   "source": [
    "column = 'pillars'\n",
    "classes=PILLARS\n",
    "text_column = 'excerpt'\n",
    "text_column_mlm = 'excerpt_mlm'\n",
    "label_column = 'labels'"
   ]
  },
  {
   "cell_type": "code",
   "execution_count": 9,
   "id": "2e0d429c",
   "metadata": {
    "ExecuteTime": {
     "end_time": "2021-06-08T15:58:41.919052Z",
     "start_time": "2021-06-08T15:58:39.528165Z"
    },
    "scrolled": true
   },
   "outputs": [],
   "source": [
    "train = preprocessing(pd.read_csv(LATEST_DATA_PATH / 'data_v0.4.4_train.csv', index_col=0))\n",
    "val = preprocessing(pd.read_csv(LATEST_DATA_PATH / 'data_v0.4.4_val.csv', index_col=0))\n",
    "test = preprocessing(pd.read_csv(LATEST_DATA_PATH / 'data_v0.4.4_test.csv', index_col=0))"
   ]
  },
  {
   "cell_type": "code",
   "execution_count": 10,
   "id": "58d6e770",
   "metadata": {
    "ExecuteTime": {
     "end_time": "2021-06-08T15:58:41.943699Z",
     "start_time": "2021-06-08T15:58:41.921068Z"
    }
   },
   "outputs": [],
   "source": [
    "classes = PILLARS\n",
    "len_longest_class =  max([len(x.split()) for x in classes])\n",
    "append_string = [\n",
    "    f'[SEP] Is this sentence about {c}? [MASK]'\n",
    "    for c in classes\n",
    "]\n",
    "# append_string = ' '.join(append_string)"
   ]
  },
  {
   "cell_type": "code",
   "execution_count": 11,
   "id": "31b9eeb8",
   "metadata": {
    "ExecuteTime": {
     "end_time": "2021-06-08T15:58:41.967483Z",
     "start_time": "2021-06-08T15:58:41.945020Z"
    }
   },
   "outputs": [],
   "source": [
    "def preprocess_mlm(df):\n",
    "    df = df.copy()\n",
    "    df = df[df[column].apply(len)>0]\n",
    "    df = df[df['language']=='en']\n",
    "    df['append'] = [append_string for _ in range(df.shape[0])]\n",
    "    df[label_column] = [[1 if y in x else 0 for y in classes] for x in df[column]]\n",
    "    df = df.set_index(['entry_id',text_column])[['append', label_column]].apply(pd.Series.explode).reset_index()\n",
    "    df[text_column_mlm] = df[text_column] + df['append']\n",
    "    return df"
   ]
  },
  {
   "cell_type": "code",
   "execution_count": 12,
   "id": "74a7b733",
   "metadata": {
    "ExecuteTime": {
     "end_time": "2021-06-08T15:58:42.416681Z",
     "start_time": "2021-06-08T15:58:41.968349Z"
    },
    "scrolled": true
   },
   "outputs": [],
   "source": [
    "train_df = preprocess_mlm(train)\n",
    "val_df = preprocess_mlm(val)\n",
    "test_df = preprocess_mlm(test)"
   ]
  },
  {
   "cell_type": "markdown",
   "id": "c1acc601",
   "metadata": {},
   "source": [
    "## Sagemaker Prep"
   ]
  },
  {
   "cell_type": "markdown",
   "id": "73c01bb2",
   "metadata": {
    "ExecuteTime": {
     "end_time": "2021-05-27T15:42:32.024647Z",
     "start_time": "2021-05-27T15:42:31.984694Z"
    }
   },
   "source": [
    "### Session"
   ]
  },
  {
   "cell_type": "code",
   "execution_count": 13,
   "id": "00651af7",
   "metadata": {
    "ExecuteTime": {
     "end_time": "2021-06-08T15:58:42.506353Z",
     "start_time": "2021-06-08T15:58:42.417586Z"
    }
   },
   "outputs": [],
   "source": [
    "sess = sagemaker.Session(default_bucket=DEV_BUCKET.name)\n",
    "role = 'AmazonSageMaker-ExecutionRole-20210519T102514'"
   ]
  },
  {
   "cell_type": "markdown",
   "id": "42b96f77",
   "metadata": {},
   "source": [
    "### Bucket upload"
   ]
  },
  {
   "cell_type": "code",
   "execution_count": 14,
   "id": "9ccf94ec",
   "metadata": {
    "ExecuteTime": {
     "end_time": "2021-06-08T15:59:10.391984Z",
     "start_time": "2021-06-08T15:58:42.507340Z"
    },
    "scrolled": true
   },
   "outputs": [],
   "source": [
    "sample = False\n",
    "\n",
    "if sample:\n",
    "    df = df.sample(100)\n",
    "    \n",
    "job_name = f\"pytorch-{formatted_time()}-entailment-masked-en\"\n",
    "input_path = DEV_BUCKET / 'training' / 'input_data' / job_name\n",
    "\n",
    "s3_train_data = str(input_path / 'train_df.pickle')\n",
    "s3_val_data = str(input_path / 'val_df.pickle')\n",
    "s3_test_data = str(input_path / 'test_df.pickle')\n",
    "\n",
    "\n",
    "train_df.to_pickle(s3_train_data, protocol=4)\n",
    "val_df.to_pickle(s3_val_data, protocol=4)\n",
    "test_df.to_pickle(s3_test_data, protocol=4)"
   ]
  },
  {
   "cell_type": "markdown",
   "id": "b6995d0d",
   "metadata": {},
   "source": [
    "### Estimator Definition"
   ]
  },
  {
   "cell_type": "code",
   "execution_count": 15,
   "id": "aa5fd3af",
   "metadata": {
    "ExecuteTime": {
     "end_time": "2021-06-08T15:59:10.449300Z",
     "start_time": "2021-06-08T15:59:10.395848Z"
    }
   },
   "outputs": [],
   "source": [
    "instances = [\n",
    "    'ml.p2.xlarge',\n",
    "    'ml.p3.2xlarge'\n",
    "]"
   ]
  },
  {
   "cell_type": "code",
   "execution_count": 16,
   "id": "f7d48464",
   "metadata": {
    "ExecuteTime": {
     "end_time": "2021-06-08T15:59:10.482029Z",
     "start_time": "2021-06-08T15:59:10.450531Z"
    }
   },
   "outputs": [
    {
     "data": {
      "text/plain": [
       "S3Path('s3://sagemaker-deep-experiments-dev/training/input_data/pytorch-2021-06-09-14-03-18-647-entailment-masked-en')"
      ]
     },
     "execution_count": 16,
     "metadata": {},
     "output_type": "execute_result"
    }
   ],
   "source": [
    "input_path"
   ]
  },
  {
   "cell_type": "code",
   "execution_count": 17,
   "id": "6cf7b118",
   "metadata": {
    "ExecuteTime": {
     "end_time": "2021-06-08T15:59:10.577361Z",
     "start_time": "2021-06-08T15:59:10.483022Z"
    }
   },
   "outputs": [],
   "source": [
    "from sagemaker.pytorch import PyTorch\n",
    "\n",
    "hyperparameters={\n",
    "    'epochs': 3,\n",
    "    'train-batch-size': 16,\n",
    "    'eval-batch-size': 16,\n",
    "    'learning_rate': 5e-5,\n",
    "    'model_name': 'distilbert-base-uncased',\n",
    "    'text_column_mlm': text_column_mlm,\n",
    "    'label_column': label_column,\n",
    "}\n",
    "\n",
    "estimator = PyTorch(\n",
    "    entry_point='train.py',\n",
    "    source_dir=str(SCRIPTS_TRAINING_PATH / 'stefano/huggingface_lmbff'),\n",
    "    output_path=str(DEV_BUCKET / 'models/'),\n",
    "    code_location=str(input_path),\n",
    "    instance_type='ml.p3.2xlarge',\n",
    "    instance_count=1,\n",
    "    role=role,\n",
    "    framework_version='1.8',\n",
    "    py_version='py36',\n",
    "    hyperparameters = hyperparameters,\n",
    "    job_name=job_name,\n",
    "#     train_instance_count=2,\n",
    "#     train_instance_type=\"ml.c4.xlarge\",\n",
    ")"
   ]
  },
  {
   "cell_type": "code",
   "execution_count": 18,
   "id": "d78b1234",
   "metadata": {
    "ExecuteTime": {
     "end_time": "2021-06-08T15:59:10.602719Z",
     "start_time": "2021-06-08T15:59:10.578491Z"
    }
   },
   "outputs": [],
   "source": [
    "fit_arguments = {\n",
    "    'train': str(input_path),\n",
    "    'test': str(input_path)\n",
    "}"
   ]
  },
  {
   "cell_type": "code",
   "execution_count": 19,
   "id": "5d38873b",
   "metadata": {
    "ExecuteTime": {
     "end_time": "2021-06-08T15:59:13.113832Z",
     "start_time": "2021-06-08T15:59:10.603609Z"
    },
    "scrolled": true
   },
   "outputs": [],
   "source": [
    "estimator.fit(fit_arguments, job_name=job_name, wait=False)"
   ]
  },
  {
   "cell_type": "code",
   "execution_count": 20,
   "id": "0063c81b",
   "metadata": {
    "ExecuteTime": {
     "end_time": "2021-06-08T15:59:14.270909Z",
     "start_time": "2021-06-08T15:59:13.117729Z"
    }
   },
   "outputs": [
    {
     "ename": "KeyError",
     "evalue": "'MetricDefinitions'",
     "output_type": "error",
     "traceback": [
      "\u001b[0;31m---------------------------------------------------------------------------\u001b[0m",
      "\u001b[0;31mKeyError\u001b[0m                                  Traceback (most recent call last)",
      "\u001b[0;32m<ipython-input-20-9da205f1d137>\u001b[0m in \u001b[0;36m<module>\u001b[0;34m\u001b[0m\n\u001b[1;32m      2\u001b[0m \u001b[0;34m\u001b[0m\u001b[0m\n\u001b[1;32m      3\u001b[0m \u001b[0;31m# Captured metrics can be accessed as a Pandas dataframe\u001b[0m\u001b[0;34m\u001b[0m\u001b[0;34m\u001b[0m\u001b[0;34m\u001b[0m\u001b[0m\n\u001b[0;32m----> 4\u001b[0;31m \u001b[0mdf\u001b[0m \u001b[0;34m=\u001b[0m \u001b[0mTrainingJobAnalytics\u001b[0m\u001b[0;34m(\u001b[0m\u001b[0mtraining_job_name\u001b[0m\u001b[0;34m=\u001b[0m\u001b[0mestimator\u001b[0m\u001b[0;34m.\u001b[0m\u001b[0mlatest_training_job\u001b[0m\u001b[0;34m.\u001b[0m\u001b[0mname\u001b[0m\u001b[0;34m)\u001b[0m\u001b[0;34m.\u001b[0m\u001b[0mdataframe\u001b[0m\u001b[0;34m(\u001b[0m\u001b[0;34m)\u001b[0m\u001b[0;34m\u001b[0m\u001b[0;34m\u001b[0m\u001b[0m\n\u001b[0m\u001b[1;32m      5\u001b[0m \u001b[0mdf\u001b[0m\u001b[0;34m.\u001b[0m\u001b[0mhead\u001b[0m\u001b[0;34m(\u001b[0m\u001b[0;36m10\u001b[0m\u001b[0;34m)\u001b[0m\u001b[0;34m\u001b[0m\u001b[0;34m\u001b[0m\u001b[0m\n",
      "\u001b[0;32m~/miniconda3/envs/deep/lib/python3.9/site-packages/sagemaker/analytics.py\u001b[0m in \u001b[0;36m__init__\u001b[0;34m(self, training_job_name, metric_names, sagemaker_session, start_time, end_time, period)\u001b[0m\n\u001b[1;32m    311\u001b[0m             \u001b[0mself\u001b[0m\u001b[0;34m.\u001b[0m\u001b[0m_metric_names\u001b[0m \u001b[0;34m=\u001b[0m \u001b[0mmetric_names\u001b[0m\u001b[0;34m\u001b[0m\u001b[0;34m\u001b[0m\u001b[0m\n\u001b[1;32m    312\u001b[0m         \u001b[0;32melse\u001b[0m\u001b[0;34m:\u001b[0m\u001b[0;34m\u001b[0m\u001b[0;34m\u001b[0m\u001b[0m\n\u001b[0;32m--> 313\u001b[0;31m             \u001b[0mself\u001b[0m\u001b[0;34m.\u001b[0m\u001b[0m_metric_names\u001b[0m \u001b[0;34m=\u001b[0m \u001b[0mself\u001b[0m\u001b[0;34m.\u001b[0m\u001b[0m_metric_names_for_training_job\u001b[0m\u001b[0;34m(\u001b[0m\u001b[0;34m)\u001b[0m\u001b[0;34m\u001b[0m\u001b[0;34m\u001b[0m\u001b[0m\n\u001b[0m\u001b[1;32m    314\u001b[0m \u001b[0;34m\u001b[0m\u001b[0m\n\u001b[1;32m    315\u001b[0m         \u001b[0msuper\u001b[0m\u001b[0;34m(\u001b[0m\u001b[0mTrainingJobAnalytics\u001b[0m\u001b[0;34m,\u001b[0m \u001b[0mself\u001b[0m\u001b[0;34m)\u001b[0m\u001b[0;34m.\u001b[0m\u001b[0m__init__\u001b[0m\u001b[0;34m(\u001b[0m\u001b[0;34m)\u001b[0m\u001b[0;34m\u001b[0m\u001b[0;34m\u001b[0m\u001b[0m\n",
      "\u001b[0;32m~/miniconda3/envs/deep/lib/python3.9/site-packages/sagemaker/analytics.py\u001b[0m in \u001b[0;36m_metric_names_for_training_job\u001b[0;34m(self)\u001b[0m\n\u001b[1;32m    419\u001b[0m         )\n\u001b[1;32m    420\u001b[0m \u001b[0;34m\u001b[0m\u001b[0m\n\u001b[0;32m--> 421\u001b[0;31m         \u001b[0mmetric_definitions\u001b[0m \u001b[0;34m=\u001b[0m \u001b[0mtraining_description\u001b[0m\u001b[0;34m[\u001b[0m\u001b[0;34m\"AlgorithmSpecification\"\u001b[0m\u001b[0;34m]\u001b[0m\u001b[0;34m[\u001b[0m\u001b[0;34m\"MetricDefinitions\"\u001b[0m\u001b[0;34m]\u001b[0m\u001b[0;34m\u001b[0m\u001b[0;34m\u001b[0m\u001b[0m\n\u001b[0m\u001b[1;32m    422\u001b[0m         \u001b[0mmetric_names\u001b[0m \u001b[0;34m=\u001b[0m \u001b[0;34m[\u001b[0m\u001b[0mmd\u001b[0m\u001b[0;34m[\u001b[0m\u001b[0;34m\"Name\"\u001b[0m\u001b[0;34m]\u001b[0m \u001b[0;32mfor\u001b[0m \u001b[0mmd\u001b[0m \u001b[0;32min\u001b[0m \u001b[0mmetric_definitions\u001b[0m\u001b[0;34m]\u001b[0m\u001b[0;34m\u001b[0m\u001b[0;34m\u001b[0m\u001b[0m\n\u001b[1;32m    423\u001b[0m \u001b[0;34m\u001b[0m\u001b[0m\n",
      "\u001b[0;31mKeyError\u001b[0m: 'MetricDefinitions'"
     ]
    }
   ],
   "source": [
    "from sagemaker import TrainingJobAnalytics\n",
    "\n",
    "# Captured metrics can be accessed as a Pandas dataframe\n",
    "df = TrainingJobAnalytics(training_job_name=estimator.latest_training_job.name).dataframe()\n",
    "df.head(10)"
   ]
  },
  {
   "cell_type": "code",
   "execution_count": null,
   "id": "638c79db",
   "metadata": {
    "ExecuteTime": {
     "end_time": "2021-06-08T15:59:14.271902Z",
     "start_time": "2021-06-08T15:58:37.729Z"
    }
   },
   "outputs": [],
   "source": [
    "df"
   ]
  },
  {
   "cell_type": "code",
   "execution_count": null,
   "id": "1f4a19ac",
   "metadata": {},
   "outputs": [],
   "source": []
  },
  {
   "cell_type": "code",
   "execution_count": null,
   "id": "597bc159",
   "metadata": {},
   "outputs": [],
   "source": []
  }
 ],
 "metadata": {
  "kernelspec": {
   "display_name": "Python 3",
   "language": "python",
   "name": "python3"
  },
  "language_info": {
   "codemirror_mode": {
    "name": "ipython",
    "version": 3
   },
   "file_extension": ".py",
   "mimetype": "text/x-python",
   "name": "python",
   "nbconvert_exporter": "python",
   "pygments_lexer": "ipython3",
   "version": "3.9.1"
  },
  "notify_time": "5",
  "toc": {
   "base_numbering": 1,
   "nav_menu": {},
   "number_sections": true,
   "sideBar": true,
   "skip_h1_title": false,
   "title_cell": "Table of Contents",
   "title_sidebar": "Contents",
   "toc_cell": false,
   "toc_position": {},
   "toc_section_display": true,
   "toc_window_display": false
  }
 },
 "nbformat": 4,
 "nbformat_minor": 5
}
