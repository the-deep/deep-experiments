{
 "cells": [
  {
   "cell_type": "markdown",
   "id": "c5e6c63d",
   "metadata": {},
   "source": [
    "Using kernel `conda_pytorch_latest_p36`"
   ]
  },
  {
   "cell_type": "code",
   "execution_count": 1,
   "id": "444b7d6f",
   "metadata": {
    "scrolled": true
   },
   "outputs": [],
   "source": [
    "# !pip install fastai"
   ]
  },
  {
   "cell_type": "code",
   "execution_count": 2,
   "id": "fc59a5ec",
   "metadata": {},
   "outputs": [],
   "source": [
    "classes = [\n",
    "    'Agricolture',\n",
    "    'Cross',\n",
    "    'Education',\n",
    "    'Food Security',\n",
    "    'Health',\n",
    "    'Livelihoods',\n",
    "    'Logistics',\n",
    "    'Nutrition',\n",
    "    'Protection',\n",
    "    'Shelter',\n",
    "    'Wash'\n",
    "]"
   ]
  },
  {
   "cell_type": "code",
   "execution_count": 3,
   "id": "db9af21e",
   "metadata": {},
   "outputs": [],
   "source": [
    "import torch"
   ]
  },
  {
   "cell_type": "code",
   "execution_count": 4,
   "id": "07249a6d",
   "metadata": {},
   "outputs": [],
   "source": [
    "from pathlib import Path\n",
    "import os\n",
    "import random\n",
    "import pickle"
   ]
  },
  {
   "cell_type": "code",
   "execution_count": 5,
   "id": "849e8b9a",
   "metadata": {},
   "outputs": [],
   "source": [
    "from fastai.text.all import *\n",
    "from sklearn import metrics\n",
    "from sklearn.metrics import confusion_matrix, precision_score, recall_score, f1_score"
   ]
  },
  {
   "cell_type": "code",
   "execution_count": 6,
   "id": "44eec647",
   "metadata": {},
   "outputs": [],
   "source": [
    "data = Path('data_prep/final_data/en/')\n",
    "raw = pd.read_csv('data_prep/data/entries_raw.csv')"
   ]
  },
  {
   "cell_type": "code",
   "execution_count": 7,
   "id": "6f460fbe",
   "metadata": {},
   "outputs": [],
   "source": [
    "train = pd.read_csv(data / 'sentences_en_train.csv')\n",
    "test = pd.read_csv(data / 'sentences_en_test.csv')"
   ]
  },
  {
   "cell_type": "code",
   "execution_count": 8,
   "id": "a8ba9cae",
   "metadata": {},
   "outputs": [
    {
     "data": {
      "text/html": [
       "<div>\n",
       "<style scoped>\n",
       "    .dataframe tbody tr th:only-of-type {\n",
       "        vertical-align: middle;\n",
       "    }\n",
       "\n",
       "    .dataframe tbody tr th {\n",
       "        vertical-align: top;\n",
       "    }\n",
       "\n",
       "    .dataframe thead th {\n",
       "        text-align: right;\n",
       "    }\n",
       "</style>\n",
       "<table border=\"1\" class=\"dataframe\">\n",
       "  <thead>\n",
       "    <tr style=\"text-align: right;\">\n",
       "      <th></th>\n",
       "      <th>doc_id</th>\n",
       "      <th>sentence_id</th>\n",
       "      <th>sentence_text</th>\n",
       "      <th>is_relevant</th>\n",
       "      <th>sector_ids</th>\n",
       "    </tr>\n",
       "  </thead>\n",
       "  <tbody>\n",
       "    <tr>\n",
       "      <th>0</th>\n",
       "      <td>51787</td>\n",
       "      <td>38</td>\n",
       "      <td>Climate Change and Agriculture: Subsistence Farmers Response to Extreme Heat.American Economic Journal: Economic Policy, 13(1), 1-35.</td>\n",
       "      <td>0</td>\n",
       "      <td>[]</td>\n",
       "    </tr>\n",
       "    <tr>\n",
       "      <th>1</th>\n",
       "      <td>51787</td>\n",
       "      <td>44</td>\n",
       "      <td>Bohorquez-Penuela, C., &amp; Otero-Cortes, A (2020).</td>\n",
       "      <td>0</td>\n",
       "      <td>[]</td>\n",
       "    </tr>\n",
       "    <tr>\n",
       "      <th>2</th>\n",
       "      <td>51787</td>\n",
       "      <td>45</td>\n",
       "      <td>Blame it on the Rain: The Effects of Weather Shocks on Formal Rural Employment in Colombia.Documento de Trabajo sobre Econom a Regional y Urbana; No.</td>\n",
       "      <td>0</td>\n",
       "      <td>[]</td>\n",
       "    </tr>\n",
       "    <tr>\n",
       "      <th>3</th>\n",
       "      <td>51787</td>\n",
       "      <td>49</td>\n",
       "      <td>Increasing frequency of extreme El Ni o events due to greenhouse warming.Nature climate change, 4(2), 111-116.</td>\n",
       "      <td>0</td>\n",
       "      <td>[]</td>\n",
       "    </tr>\n",
       "    <tr>\n",
       "      <th>4</th>\n",
       "      <td>51787</td>\n",
       "      <td>53</td>\n",
       "      <td>What do we learn from the weather?</td>\n",
       "      <td>0</td>\n",
       "      <td>[]</td>\n",
       "    </tr>\n",
       "    <tr>\n",
       "      <th>...</th>\n",
       "      <td>...</td>\n",
       "      <td>...</td>\n",
       "      <td>...</td>\n",
       "      <td>...</td>\n",
       "      <td>...</td>\n",
       "    </tr>\n",
       "    <tr>\n",
       "      <th>191932</th>\n",
       "      <td>34512</td>\n",
       "      <td>112</td>\n",
       "      <td>Emergency shelters in India had reportedly been converted to COVID-19 isolation centres, decreasing the capacity for evacuation shelters in affected areas (AA 20/05/2020).</td>\n",
       "      <td>0</td>\n",
       "      <td>[]</td>\n",
       "    </tr>\n",
       "    <tr>\n",
       "      <th>191933</th>\n",
       "      <td>34512</td>\n",
       "      <td>116</td>\n",
       "      <td>In these situations humanitarian operations may have been limited to essential services and slowed down, but not come to a complete stop.</td>\n",
       "      <td>0</td>\n",
       "      <td>[]</td>\n",
       "    </tr>\n",
       "    <tr>\n",
       "      <th>191934</th>\n",
       "      <td>34512</td>\n",
       "      <td>120</td>\n",
       "      <td>Governments of EU member states and several African states set up a humanitarian air bridge enabling the transport of humanitarian workers and relief items despite flight suspensions (EC 10/06/2020).</td>\n",
       "      <td>0</td>\n",
       "      <td>[]</td>\n",
       "    </tr>\n",
       "    <tr>\n",
       "      <th>191935</th>\n",
       "      <td>34512</td>\n",
       "      <td>124</td>\n",
       "      <td>You can find an overview of all ACAPS resources on COVID-19 here.</td>\n",
       "      <td>0</td>\n",
       "      <td>[]</td>\n",
       "    </tr>\n",
       "    <tr>\n",
       "      <th>191936</th>\n",
       "      <td>34512</td>\n",
       "      <td>125</td>\n",
       "      <td>11 ACAPS HUMANITARIAN ACCESS OVERVIEW JULY 2020 SEE THE CRISIS CHANGE THE OUTCOME ACAPS Avenue de France 23 5th floor CH 1202 Geneva +41 22 338 15 90 info@acaps.org 12 ACAPS HUMANITARIAN ACCESS OVERVIEW JULY 2020 www.acaps.org</td>\n",
       "      <td>0</td>\n",
       "      <td>[]</td>\n",
       "    </tr>\n",
       "  </tbody>\n",
       "</table>\n",
       "<p>191937 rows × 5 columns</p>\n",
       "</div>"
      ],
      "text/plain": [
       "        doc_id  sentence_id  \\\n",
       "0        51787           38   \n",
       "1        51787           44   \n",
       "2        51787           45   \n",
       "3        51787           49   \n",
       "4        51787           53   \n",
       "...        ...          ...   \n",
       "191932   34512          112   \n",
       "191933   34512          116   \n",
       "191934   34512          120   \n",
       "191935   34512          124   \n",
       "191936   34512          125   \n",
       "\n",
       "                                                                                                                                                                                                                             sentence_text  \\\n",
       "0                                                                                                    Climate Change and Agriculture: Subsistence Farmers Response to Extreme Heat.American Economic Journal: Economic Policy, 13(1), 1-35.   \n",
       "1                                                                                                                                                                                         Bohorquez-Penuela, C., & Otero-Cortes, A (2020).   \n",
       "2                                                                                    Blame it on the Rain: The Effects of Weather Shocks on Formal Rural Employment in Colombia.Documento de Trabajo sobre Econom a Regional y Urbana; No.   \n",
       "3                                                                                                                           Increasing frequency of extreme El Ni o events due to greenhouse warming.Nature climate change, 4(2), 111-116.   \n",
       "4                                                                                                                                                                                                       What do we learn from the weather?   \n",
       "...                                                                                                                                                                                                                                    ...   \n",
       "191932                                                         Emergency shelters in India had reportedly been converted to COVID-19 isolation centres, decreasing the capacity for evacuation shelters in affected areas (AA 20/05/2020).   \n",
       "191933                                                                                           In these situations humanitarian operations may have been limited to essential services and slowed down, but not come to a complete stop.   \n",
       "191934                             Governments of EU member states and several African states set up a humanitarian air bridge enabling the transport of humanitarian workers and relief items despite flight suspensions (EC 10/06/2020).   \n",
       "191935                                                                                                                                                                   You can find an overview of all ACAPS resources on COVID-19 here.   \n",
       "191936  11 ACAPS HUMANITARIAN ACCESS OVERVIEW JULY 2020 SEE THE CRISIS CHANGE THE OUTCOME ACAPS Avenue de France 23 5th floor CH 1202 Geneva +41 22 338 15 90 info@acaps.org 12 ACAPS HUMANITARIAN ACCESS OVERVIEW JULY 2020 www.acaps.org   \n",
       "\n",
       "        is_relevant sector_ids  \n",
       "0                 0         []  \n",
       "1                 0         []  \n",
       "2                 0         []  \n",
       "3                 0         []  \n",
       "4                 0         []  \n",
       "...             ...        ...  \n",
       "191932            0         []  \n",
       "191933            0         []  \n",
       "191934            0         []  \n",
       "191935            0         []  \n",
       "191936            0         []  \n",
       "\n",
       "[191937 rows x 5 columns]"
      ]
     },
     "execution_count": 8,
     "metadata": {},
     "output_type": "execute_result"
    }
   ],
   "source": [
    "train"
   ]
  },
  {
   "cell_type": "code",
   "execution_count": 9,
   "id": "4d5e97d0",
   "metadata": {},
   "outputs": [],
   "source": [
    "def process_for_sector(df, sector, train):\n",
    "    relevant_train = df[df.is_relevant == 1]\n",
    "    relevant_train.sector_ids = relevant_train.sector_ids.apply(eval)\n",
    "    relevant_train = relevant_train[relevant_train.sector_ids.apply(len) > 0]\n",
    "    \n",
    "    positive_train = relevant_train[relevant_train.sector_ids.apply(lambda x: sector in x)]\n",
    "    negative_train = relevant_train[relevant_train.sector_ids.apply(lambda x: sector not in x)]\n",
    "\n",
    "    positive_train.sector_ids = 1\n",
    "    negative_train.sector_ids = 0\n",
    "    train_df = pd.concat([positive_train, negative_train])\n",
    "    train_df = train_df.sample(frac=1).reset_index(drop=True)\n",
    "    \n",
    "    train_df['is_valid'] = False if train else True\n",
    "        \n",
    "    return train_df"
   ]
  },
  {
   "cell_type": "code",
   "execution_count": 10,
   "id": "d15059dd",
   "metadata": {},
   "outputs": [],
   "source": [
    "def process_multiclass(df, train):\n",
    "    relevant_train = df[df.is_relevant == 1]\n",
    "    relevant_train.sector_ids = relevant_train.sector_ids.apply(eval)\n",
    "    relevant_train = relevant_train[relevant_train.sector_ids.apply(len) > 0]\n",
    "    relevant_train.sector_ids = relevant_train.sector_ids.apply(lambda x: ';'.join(classes[i] for i in x))\n",
    "#     relevant_train.sector_ids = relevant_train.sector_ids.apply(lambda x: [classes[i] for i in x][0])\n",
    "\n",
    "    \n",
    "    relevant_train['is_valid'] = False if train else True\n",
    "    \n",
    "    return relevant_train\n",
    "    \n",
    "    "
   ]
  },
  {
   "cell_type": "markdown",
   "id": "417ded8f",
   "metadata": {},
   "source": [
    "# Use fastai"
   ]
  },
  {
   "cell_type": "code",
   "execution_count": 11,
   "id": "2bea772d",
   "metadata": {},
   "outputs": [
    {
     "name": "stderr",
     "output_type": "stream",
     "text": [
      "/home/ec2-user/anaconda3/envs/pytorch_latest_p36/lib/python3.6/site-packages/pandas/core/generic.py:5170: SettingWithCopyWarning: \n",
      "A value is trying to be set on a copy of a slice from a DataFrame.\n",
      "Try using .loc[row_indexer,col_indexer] = value instead\n",
      "\n",
      "See the caveats in the documentation: https://pandas.pydata.org/pandas-docs/stable/user_guide/indexing.html#returning-a-view-versus-a-copy\n",
      "  self[name] = value\n",
      "/home/ec2-user/anaconda3/envs/pytorch_latest_p36/lib/python3.6/site-packages/pandas/core/generic.py:5170: SettingWithCopyWarning: \n",
      "A value is trying to be set on a copy of a slice from a DataFrame.\n",
      "Try using .loc[row_indexer,col_indexer] = value instead\n",
      "\n",
      "See the caveats in the documentation: https://pandas.pydata.org/pandas-docs/stable/user_guide/indexing.html#returning-a-view-versus-a-copy\n",
      "  self[name] = value\n"
     ]
    }
   ],
   "source": [
    "train_df = process_multiclass(train, True)\n",
    "test_df = process_multiclass(test, False)\n",
    "df = pd.concat([train_df, test_df])"
   ]
  },
  {
   "cell_type": "code",
   "execution_count": 85,
   "id": "de4a7a60",
   "metadata": {},
   "outputs": [
    {
     "data": {
      "text/html": [],
      "text/plain": [
       "<IPython.core.display.HTML object>"
      ]
     },
     "metadata": {},
     "output_type": "display_data"
    },
    {
     "name": "stderr",
     "output_type": "stream",
     "text": [
      "/home/ec2-user/anaconda3/envs/pytorch_latest_p36/lib/python3.6/site-packages/numpy/core/_asarray.py:83: VisibleDeprecationWarning: Creating an ndarray from ragged nested sequences (which is a list-or-tuple of lists-or-tuples-or ndarrays with different lengths or shapes) is deprecated. If you meant to do this, you must specify 'dtype=object' when creating the ndarray\n",
      "  return array(a, dtype, copy=False, order=order)\n"
     ]
    }
   ],
   "source": [
    "dls = TextDataLoaders.from_df(\n",
    "    df,\n",
    "    text_col='sentence_text',\n",
    "    label_col='sector_ids',\n",
    "    label_delim=';',\n",
    "    valid_col='is_valid',\n",
    "    is_lm = False,    # Mention explicitly that this dataloader is meant for language model\n",
    "    seq_len = 72,     # Pick a sequence length i.e. how many words to feed through the RNN at once\n",
    "    bs = 64,     # Specify the batch size for the dataloader\n",
    "    y_block=MultiCategoryBlock,\n",
    ")\n",
    "learn = text_classifier_learner(\n",
    "    dls, \n",
    "    AWD_LSTM, \n",
    "    drop_mult=0.5, \n",
    "    metrics=[\n",
    "        accuracy_multi, \n",
    "        RecallMulti(thresh=0.35), \n",
    "        PrecisionMulti(thresh=0.35), \n",
    "        F1ScoreMulti(thresh=0.35), \n",
    "        RocAucMulti()\n",
    "    ]\n",
    ")"
   ]
  },
  {
   "cell_type": "code",
   "execution_count": 14,
   "id": "68685f64",
   "metadata": {},
   "outputs": [
    {
     "data": {
      "text/html": [
       "<table border=\"1\" class=\"dataframe\">\n",
       "  <thead>\n",
       "    <tr style=\"text-align: left;\">\n",
       "      <th>epoch</th>\n",
       "      <th>train_loss</th>\n",
       "      <th>valid_loss</th>\n",
       "      <th>accuracy_multi</th>\n",
       "      <th>recall_score</th>\n",
       "      <th>precision_score</th>\n",
       "      <th>f1_score</th>\n",
       "      <th>roc_auc_score</th>\n",
       "      <th>time</th>\n",
       "    </tr>\n",
       "  </thead>\n",
       "  <tbody>\n",
       "    <tr>\n",
       "      <td>0</td>\n",
       "      <td>0.270937</td>\n",
       "      <td>0.250803</td>\n",
       "      <td>0.905900</td>\n",
       "      <td>0.387124</td>\n",
       "      <td>0.563792</td>\n",
       "      <td>0.443881</td>\n",
       "      <td>0.829527</td>\n",
       "      <td>00:58</td>\n",
       "    </tr>\n",
       "  </tbody>\n",
       "</table>"
      ],
      "text/plain": [
       "<IPython.core.display.HTML object>"
      ]
     },
     "metadata": {},
     "output_type": "display_data"
    },
    {
     "data": {
      "text/html": [
       "<table border=\"1\" class=\"dataframe\">\n",
       "  <thead>\n",
       "    <tr style=\"text-align: left;\">\n",
       "      <th>epoch</th>\n",
       "      <th>train_loss</th>\n",
       "      <th>valid_loss</th>\n",
       "      <th>accuracy_multi</th>\n",
       "      <th>recall_score</th>\n",
       "      <th>precision_score</th>\n",
       "      <th>f1_score</th>\n",
       "      <th>roc_auc_score</th>\n",
       "      <th>time</th>\n",
       "    </tr>\n",
       "  </thead>\n",
       "  <tbody>\n",
       "    <tr>\n",
       "      <td>0</td>\n",
       "      <td>0.221038</td>\n",
       "      <td>0.212803</td>\n",
       "      <td>0.923700</td>\n",
       "      <td>0.506905</td>\n",
       "      <td>0.667022</td>\n",
       "      <td>0.570467</td>\n",
       "      <td>0.878474</td>\n",
       "      <td>02:04</td>\n",
       "    </tr>\n",
       "    <tr>\n",
       "      <td>1</td>\n",
       "      <td>0.201384</td>\n",
       "      <td>0.204382</td>\n",
       "      <td>0.928236</td>\n",
       "      <td>0.585784</td>\n",
       "      <td>0.651597</td>\n",
       "      <td>0.610229</td>\n",
       "      <td>0.891023</td>\n",
       "      <td>02:04</td>\n",
       "    </tr>\n",
       "    <tr>\n",
       "      <td>2</td>\n",
       "      <td>0.189195</td>\n",
       "      <td>0.200066</td>\n",
       "      <td>0.928017</td>\n",
       "      <td>0.610577</td>\n",
       "      <td>0.641223</td>\n",
       "      <td>0.620715</td>\n",
       "      <td>0.898830</td>\n",
       "      <td>02:04</td>\n",
       "    </tr>\n",
       "    <tr>\n",
       "      <td>3</td>\n",
       "      <td>0.164830</td>\n",
       "      <td>0.199090</td>\n",
       "      <td>0.929300</td>\n",
       "      <td>0.608023</td>\n",
       "      <td>0.651445</td>\n",
       "      <td>0.626017</td>\n",
       "      <td>0.899783</td>\n",
       "      <td>02:05</td>\n",
       "    </tr>\n",
       "  </tbody>\n",
       "</table>"
      ],
      "text/plain": [
       "<IPython.core.display.HTML object>"
      ]
     },
     "metadata": {},
     "output_type": "display_data"
    }
   ],
   "source": [
    "learn.fine_tune(4, 0.02)"
   ]
  },
  {
   "cell_type": "code",
   "execution_count": 26,
   "id": "2b57923a",
   "metadata": {},
   "outputs": [],
   "source": [
    "def get_threshold_metrics(preds, targets, num_thresholds):\n",
    "    thresholds = [x/num_thresholds for x in range(num_thresholds)]\n",
    "\n",
    "    recalls = []\n",
    "    precisions = []\n",
    "    f1_scores = []\n",
    "\n",
    "    for threshold in thresholds:\n",
    "        t_preds = (preds.view(-1).numpy() > threshold).astype(int)\n",
    "        t_targets = targets.view(-1).numpy()\n",
    "        precisions.append(precision_score(t_targets, t_preds))\n",
    "        recalls.append(recall_score(t_targets, t_preds))    \n",
    "        f1_scores.append(f1_score(t_targets, t_preds))        \n",
    "        \n",
    "    all_metrics = pd.DataFrame(\n",
    "        {\n",
    "            'threshold': thresholds,\n",
    "            'recall': recalls,\n",
    "            'precision': precisions,\n",
    "            'f1_score': f1_scores\n",
    "        }\n",
    "    ).set_index('threshold', drop=True)\n",
    "\n",
    "    return all_metrics"
   ]
  },
  {
   "cell_type": "code",
   "execution_count": 37,
   "id": "6932fb53",
   "metadata": {},
   "outputs": [],
   "source": [
    "def get_best_threshold(learner, num_thresholds=20):\n",
    "    train_preds, train_targets = learn.get_preds(0)\n",
    "    train_metrics = get_threshold_metrics(train_preds, train_targets, num_thresholds)\n",
    "    best_threshold = train_metrics.f1_score.idxmax()\n",
    "    \n",
    "    return best_threshold, train_metrics"
   ]
  },
  {
   "cell_type": "code",
   "execution_count": 38,
   "id": "2ff3c6b8",
   "metadata": {},
   "outputs": [],
   "source": [
    "def get_metrics(preds, targets):\n",
    "    indexes = []\n",
    "    recalls = []\n",
    "    precisions = []\n",
    "    f1_scores = []\n",
    "    \n",
    "    for i, class_ in enumerate(classes):\n",
    "        class_preds = preds[:, i]\n",
    "        class_targets = targets[:, i]\n",
    "        \n",
    "        indexes.append(class_)\n",
    "        precisions.append(precision_score(class_targets, class_preds))\n",
    "        recalls.append(recall_score(class_targets, class_preds))    \n",
    "        f1_scores.append(f1_score(class_targets, class_preds))        \n",
    "        \n",
    "    indexes.append('all')\n",
    "    precisions.append(precision_score(targets.view(-1), preds.view(-1)))\n",
    "    recalls.append(recall_score(targets.view(-1), preds.view(-1)))    \n",
    "    f1_scores.append(f1_score(targets.view(-1), preds.view(-1)))       \n",
    "\n",
    "    \n",
    "    all_metrics = pd.DataFrame(\n",
    "        {\n",
    "            'class': indexes,\n",
    "            'recall': recalls,\n",
    "            'precision': precisions,\n",
    "            'f1_score': f1_scores\n",
    "        }\n",
    "    ).set_index('class', drop=True)\n",
    "    \n",
    "    return all_metrics"
   ]
  },
  {
   "cell_type": "code",
   "execution_count": 39,
   "id": "cd0f9a72",
   "metadata": {},
   "outputs": [],
   "source": [
    "def evaluate(learner, threshold):\n",
    "    test_preds, test_targets = learn.get_preds(1)\n",
    "    "
   ]
  },
  {
   "cell_type": "code",
   "execution_count": 87,
   "id": "433b4222",
   "metadata": {},
   "outputs": [
    {
     "data": {
      "text/html": [],
      "text/plain": [
       "<IPython.core.display.HTML object>"
      ]
     },
     "metadata": {},
     "output_type": "display_data"
    },
    {
     "name": "stderr",
     "output_type": "stream",
     "text": [
      "/home/ec2-user/anaconda3/envs/pytorch_latest_p36/lib/python3.6/site-packages/sklearn/metrics/_classification.py:1245: UndefinedMetricWarning: Precision is ill-defined and being set to 0.0 due to no predicted samples. Use `zero_division` parameter to control this behavior.\n",
      "  _warn_prf(average, modifier, msg_start, len(result))\n",
      "/home/ec2-user/anaconda3/envs/pytorch_latest_p36/lib/python3.6/site-packages/sklearn/metrics/_classification.py:1245: UndefinedMetricWarning: Precision is ill-defined and being set to 0.0 due to no predicted samples. Use `zero_division` parameter to control this behavior.\n",
      "  _warn_prf(average, modifier, msg_start, len(result))\n",
      "/home/ec2-user/anaconda3/envs/pytorch_latest_p36/lib/python3.6/site-packages/sklearn/metrics/_classification.py:1245: UndefinedMetricWarning: Precision is ill-defined and being set to 0.0 due to no predicted samples. Use `zero_division` parameter to control this behavior.\n",
      "  _warn_prf(average, modifier, msg_start, len(result))\n",
      "/home/ec2-user/anaconda3/envs/pytorch_latest_p36/lib/python3.6/site-packages/sklearn/metrics/_classification.py:1245: UndefinedMetricWarning: Precision is ill-defined and being set to 0.0 due to no predicted samples. Use `zero_division` parameter to control this behavior.\n",
      "  _warn_prf(average, modifier, msg_start, len(result))\n",
      "/home/ec2-user/anaconda3/envs/pytorch_latest_p36/lib/python3.6/site-packages/sklearn/metrics/_classification.py:1245: UndefinedMetricWarning: Precision is ill-defined and being set to 0.0 due to no predicted samples. Use `zero_division` parameter to control this behavior.\n",
      "  _warn_prf(average, modifier, msg_start, len(result))\n",
      "/home/ec2-user/anaconda3/envs/pytorch_latest_p36/lib/python3.6/site-packages/sklearn/metrics/_classification.py:1245: UndefinedMetricWarning: Precision is ill-defined and being set to 0.0 due to no predicted samples. Use `zero_division` parameter to control this behavior.\n",
      "  _warn_prf(average, modifier, msg_start, len(result))\n",
      "/home/ec2-user/anaconda3/envs/pytorch_latest_p36/lib/python3.6/site-packages/sklearn/metrics/_classification.py:1245: UndefinedMetricWarning: Precision is ill-defined and being set to 0.0 due to no predicted samples. Use `zero_division` parameter to control this behavior.\n",
      "  _warn_prf(average, modifier, msg_start, len(result))\n"
     ]
    },
    {
     "name": "stdout",
     "output_type": "stream",
     "text": [
      "0.45\n"
     ]
    },
    {
     "name": "stderr",
     "output_type": "stream",
     "text": [
      "/home/ec2-user/anaconda3/envs/pytorch_latest_p36/lib/python3.6/site-packages/sklearn/metrics/_classification.py:1245: UndefinedMetricWarning: Precision is ill-defined and being set to 0.0 due to no predicted samples. Use `zero_division` parameter to control this behavior.\n",
      "  _warn_prf(average, modifier, msg_start, len(result))\n"
     ]
    }
   ],
   "source": [
    "best_threshold, train_metrics = get_best_threshold(learn)\n",
    "print(best_threshold)"
   ]
  },
  {
   "cell_type": "code",
   "execution_count": 41,
   "id": "49686d2c",
   "metadata": {
    "scrolled": true
   },
   "outputs": [
    {
     "data": {
      "text/html": [
       "<div>\n",
       "<style scoped>\n",
       "    .dataframe tbody tr th:only-of-type {\n",
       "        vertical-align: middle;\n",
       "    }\n",
       "\n",
       "    .dataframe tbody tr th {\n",
       "        vertical-align: top;\n",
       "    }\n",
       "\n",
       "    .dataframe thead th {\n",
       "        text-align: right;\n",
       "    }\n",
       "</style>\n",
       "<table border=\"1\" class=\"dataframe\">\n",
       "  <thead>\n",
       "    <tr style=\"text-align: right;\">\n",
       "      <th></th>\n",
       "      <th>recall</th>\n",
       "      <th>precision</th>\n",
       "      <th>f1_score</th>\n",
       "    </tr>\n",
       "    <tr>\n",
       "      <th>threshold</th>\n",
       "      <th></th>\n",
       "      <th></th>\n",
       "      <th></th>\n",
       "    </tr>\n",
       "  </thead>\n",
       "  <tbody>\n",
       "    <tr>\n",
       "      <th>0.00</th>\n",
       "      <td>1.000000</td>\n",
       "      <td>0.126565</td>\n",
       "      <td>0.224692</td>\n",
       "    </tr>\n",
       "    <tr>\n",
       "      <th>0.05</th>\n",
       "      <td>0.957632</td>\n",
       "      <td>0.413404</td>\n",
       "      <td>0.577503</td>\n",
       "    </tr>\n",
       "    <tr>\n",
       "      <th>0.10</th>\n",
       "      <td>0.914421</td>\n",
       "      <td>0.542529</td>\n",
       "      <td>0.681011</td>\n",
       "    </tr>\n",
       "    <tr>\n",
       "      <th>0.15</th>\n",
       "      <td>0.878776</td>\n",
       "      <td>0.631020</td>\n",
       "      <td>0.734570</td>\n",
       "    </tr>\n",
       "    <tr>\n",
       "      <th>0.20</th>\n",
       "      <td>0.846414</td>\n",
       "      <td>0.697159</td>\n",
       "      <td>0.764570</td>\n",
       "    </tr>\n",
       "    <tr>\n",
       "      <th>0.25</th>\n",
       "      <td>0.817866</td>\n",
       "      <td>0.745830</td>\n",
       "      <td>0.780189</td>\n",
       "    </tr>\n",
       "    <tr>\n",
       "      <th>0.30</th>\n",
       "      <td>0.791289</td>\n",
       "      <td>0.783377</td>\n",
       "      <td>0.787313</td>\n",
       "    </tr>\n",
       "    <tr>\n",
       "      <th>0.35</th>\n",
       "      <td>0.765618</td>\n",
       "      <td>0.815140</td>\n",
       "      <td>0.789604</td>\n",
       "    </tr>\n",
       "    <tr>\n",
       "      <th>0.40</th>\n",
       "      <td>0.741229</td>\n",
       "      <td>0.840847</td>\n",
       "      <td>0.787902</td>\n",
       "    </tr>\n",
       "    <tr>\n",
       "      <th>0.45</th>\n",
       "      <td>0.718060</td>\n",
       "      <td>0.863508</td>\n",
       "      <td>0.784096</td>\n",
       "    </tr>\n",
       "    <tr>\n",
       "      <th>0.50</th>\n",
       "      <td>0.696673</td>\n",
       "      <td>0.883501</td>\n",
       "      <td>0.779042</td>\n",
       "    </tr>\n",
       "    <tr>\n",
       "      <th>0.55</th>\n",
       "      <td>0.675161</td>\n",
       "      <td>0.898099</td>\n",
       "      <td>0.770834</td>\n",
       "    </tr>\n",
       "    <tr>\n",
       "      <th>0.60</th>\n",
       "      <td>0.651460</td>\n",
       "      <td>0.913055</td>\n",
       "      <td>0.760388</td>\n",
       "    </tr>\n",
       "    <tr>\n",
       "      <th>0.65</th>\n",
       "      <td>0.628416</td>\n",
       "      <td>0.924726</td>\n",
       "      <td>0.748306</td>\n",
       "    </tr>\n",
       "    <tr>\n",
       "      <th>0.70</th>\n",
       "      <td>0.604778</td>\n",
       "      <td>0.936069</td>\n",
       "      <td>0.734809</td>\n",
       "    </tr>\n",
       "    <tr>\n",
       "      <th>0.75</th>\n",
       "      <td>0.577075</td>\n",
       "      <td>0.945540</td>\n",
       "      <td>0.716724</td>\n",
       "    </tr>\n",
       "    <tr>\n",
       "      <th>0.80</th>\n",
       "      <td>0.546683</td>\n",
       "      <td>0.955671</td>\n",
       "      <td>0.695507</td>\n",
       "    </tr>\n",
       "    <tr>\n",
       "      <th>0.85</th>\n",
       "      <td>0.510662</td>\n",
       "      <td>0.965362</td>\n",
       "      <td>0.667975</td>\n",
       "    </tr>\n",
       "    <tr>\n",
       "      <th>0.90</th>\n",
       "      <td>0.461259</td>\n",
       "      <td>0.974501</td>\n",
       "      <td>0.626146</td>\n",
       "    </tr>\n",
       "    <tr>\n",
       "      <th>0.95</th>\n",
       "      <td>0.374680</td>\n",
       "      <td>0.986255</td>\n",
       "      <td>0.543053</td>\n",
       "    </tr>\n",
       "  </tbody>\n",
       "</table>\n",
       "</div>"
      ],
      "text/plain": [
       "             recall  precision  f1_score\n",
       "threshold                               \n",
       "0.00       1.000000   0.126565  0.224692\n",
       "0.05       0.957632   0.413404  0.577503\n",
       "0.10       0.914421   0.542529  0.681011\n",
       "0.15       0.878776   0.631020  0.734570\n",
       "0.20       0.846414   0.697159  0.764570\n",
       "0.25       0.817866   0.745830  0.780189\n",
       "0.30       0.791289   0.783377  0.787313\n",
       "0.35       0.765618   0.815140  0.789604\n",
       "0.40       0.741229   0.840847  0.787902\n",
       "0.45       0.718060   0.863508  0.784096\n",
       "0.50       0.696673   0.883501  0.779042\n",
       "0.55       0.675161   0.898099  0.770834\n",
       "0.60       0.651460   0.913055  0.760388\n",
       "0.65       0.628416   0.924726  0.748306\n",
       "0.70       0.604778   0.936069  0.734809\n",
       "0.75       0.577075   0.945540  0.716724\n",
       "0.80       0.546683   0.955671  0.695507\n",
       "0.85       0.510662   0.965362  0.667975\n",
       "0.90       0.461259   0.974501  0.626146\n",
       "0.95       0.374680   0.986255  0.543053"
      ]
     },
     "execution_count": 41,
     "metadata": {},
     "output_type": "execute_result"
    }
   ],
   "source": [
    "train_metrics"
   ]
  },
  {
   "cell_type": "code",
   "execution_count": 42,
   "id": "41a5ef16",
   "metadata": {},
   "outputs": [
    {
     "data": {
      "text/html": [],
      "text/plain": [
       "<IPython.core.display.HTML object>"
      ]
     },
     "metadata": {},
     "output_type": "display_data"
    }
   ],
   "source": [
    "test_preds, test_targets = learn.get_preds(1)\n",
    "test_discrete_preds = (test_preds > best_threshold).int()\n",
    "test_discrete_targets = test_targets.int()"
   ]
  },
  {
   "cell_type": "code",
   "execution_count": 43,
   "id": "0e904204",
   "metadata": {},
   "outputs": [],
   "source": [
    "multi_label_metrics = get_metrics(test_discrete_preds,test_discrete_targets)"
   ]
  },
  {
   "cell_type": "code",
   "execution_count": 44,
   "id": "7e9330b1",
   "metadata": {
    "scrolled": true
   },
   "outputs": [
    {
     "data": {
      "text/html": [
       "<div>\n",
       "<style scoped>\n",
       "    .dataframe tbody tr th:only-of-type {\n",
       "        vertical-align: middle;\n",
       "    }\n",
       "\n",
       "    .dataframe tbody tr th {\n",
       "        vertical-align: top;\n",
       "    }\n",
       "\n",
       "    .dataframe thead th {\n",
       "        text-align: right;\n",
       "    }\n",
       "</style>\n",
       "<table border=\"1\" class=\"dataframe\">\n",
       "  <thead>\n",
       "    <tr style=\"text-align: right;\">\n",
       "      <th></th>\n",
       "      <th>recall</th>\n",
       "      <th>precision</th>\n",
       "      <th>f1_score</th>\n",
       "    </tr>\n",
       "    <tr>\n",
       "      <th>class</th>\n",
       "      <th></th>\n",
       "      <th></th>\n",
       "      <th></th>\n",
       "    </tr>\n",
       "  </thead>\n",
       "  <tbody>\n",
       "    <tr>\n",
       "      <th>Agricolture</th>\n",
       "      <td>0.630435</td>\n",
       "      <td>0.568627</td>\n",
       "      <td>0.597938</td>\n",
       "    </tr>\n",
       "    <tr>\n",
       "      <th>Cross</th>\n",
       "      <td>0.471491</td>\n",
       "      <td>0.457447</td>\n",
       "      <td>0.464363</td>\n",
       "    </tr>\n",
       "    <tr>\n",
       "      <th>Education</th>\n",
       "      <td>0.624454</td>\n",
       "      <td>0.733333</td>\n",
       "      <td>0.674528</td>\n",
       "    </tr>\n",
       "    <tr>\n",
       "      <th>Food Security</th>\n",
       "      <td>0.659033</td>\n",
       "      <td>0.698113</td>\n",
       "      <td>0.678010</td>\n",
       "    </tr>\n",
       "    <tr>\n",
       "      <th>Health</th>\n",
       "      <td>0.834921</td>\n",
       "      <td>0.843625</td>\n",
       "      <td>0.839250</td>\n",
       "    </tr>\n",
       "    <tr>\n",
       "      <th>Livelihoods</th>\n",
       "      <td>0.536517</td>\n",
       "      <td>0.602524</td>\n",
       "      <td>0.567608</td>\n",
       "    </tr>\n",
       "    <tr>\n",
       "      <th>Logistics</th>\n",
       "      <td>0.402878</td>\n",
       "      <td>0.636364</td>\n",
       "      <td>0.493392</td>\n",
       "    </tr>\n",
       "    <tr>\n",
       "      <th>Nutrition</th>\n",
       "      <td>0.660870</td>\n",
       "      <td>0.633333</td>\n",
       "      <td>0.646809</td>\n",
       "    </tr>\n",
       "    <tr>\n",
       "      <th>Protection</th>\n",
       "      <td>0.624113</td>\n",
       "      <td>0.658354</td>\n",
       "      <td>0.640777</td>\n",
       "    </tr>\n",
       "    <tr>\n",
       "      <th>Shelter</th>\n",
       "      <td>0.613402</td>\n",
       "      <td>0.586207</td>\n",
       "      <td>0.599496</td>\n",
       "    </tr>\n",
       "    <tr>\n",
       "      <th>Wash</th>\n",
       "      <td>0.630137</td>\n",
       "      <td>0.747967</td>\n",
       "      <td>0.684015</td>\n",
       "    </tr>\n",
       "    <tr>\n",
       "      <th>all</th>\n",
       "      <td>0.662699</td>\n",
       "      <td>0.696011</td>\n",
       "      <td>0.678947</td>\n",
       "    </tr>\n",
       "  </tbody>\n",
       "</table>\n",
       "</div>"
      ],
      "text/plain": [
       "                 recall  precision  f1_score\n",
       "class                                       \n",
       "Agricolture    0.630435   0.568627  0.597938\n",
       "Cross          0.471491   0.457447  0.464363\n",
       "Education      0.624454   0.733333  0.674528\n",
       "Food Security  0.659033   0.698113  0.678010\n",
       "Health         0.834921   0.843625  0.839250\n",
       "Livelihoods    0.536517   0.602524  0.567608\n",
       "Logistics      0.402878   0.636364  0.493392\n",
       "Nutrition      0.660870   0.633333  0.646809\n",
       "Protection     0.624113   0.658354  0.640777\n",
       "Shelter        0.613402   0.586207  0.599496\n",
       "Wash           0.630137   0.747967  0.684015\n",
       "all            0.662699   0.696011  0.678947"
      ]
     },
     "execution_count": 44,
     "metadata": {},
     "output_type": "execute_result"
    }
   ],
   "source": [
    "multi_label_metrics"
   ]
  },
  {
   "cell_type": "code",
   "execution_count": 45,
   "id": "524677fd",
   "metadata": {
    "scrolled": false
   },
   "outputs": [
    {
     "data": {
      "text/plain": [
       "<AxesSubplot:xlabel='class'>"
      ]
     },
     "execution_count": 45,
     "metadata": {},
     "output_type": "execute_result"
    },
    {
     "data": {
      "image/png": "[encoded data removed]",
      "text/plain": [
       "<Figure size 1440x720 with 1 Axes>"
      ]
     },
     "metadata": {
      "needs_background": "light"
     },
     "output_type": "display_data"
    }
   ],
   "source": [
    "multi_label_metrics.plot(figsize=(20, 10), xticks=range(12), yticks=[x/10 for x in range(11)], \n",
    "                         ylim=(0, 1), grid=True, title)"
   ]
  },
  {
   "cell_type": "code",
   "execution_count": 49,
   "id": "77e94f3f",
   "metadata": {
    "scrolled": false
   },
   "outputs": [
    {
     "data": {
      "text/plain": [
       "<AxesSubplot:xlabel='class'>"
      ]
     },
     "execution_count": 49,
     "metadata": {},
     "output_type": "execute_result"
    },
    {
     "data": {
      "image/png": "[encoded data removed]",
      "text/plain": [
       "<Figure size 1440x720 with 1 Axes>"
      ]
     },
     "metadata": {
      "needs_background": "light"
     },
     "output_type": "display_data"
    }
   ],
   "source": [
    "multi_label_metrics.plot(figsize=(20, 10), xticks=range(12), yticks=[x/10 for x in range(11)], ylim=(0, 1), grid=True)"
   ]
  },
  {
   "cell_type": "code",
   "execution_count": 46,
   "id": "9bc93adc",
   "metadata": {},
   "outputs": [],
   "source": [
    "base = Path('/home/ec2-user/SageMaker/experiments-dfs/models/fastai/results')"
   ]
  },
  {
   "cell_type": "code",
   "execution_count": 47,
   "id": "89d61305",
   "metadata": {},
   "outputs": [],
   "source": [
    "with open(base / 'multi_label_metrics.pickle', 'wb') as f:\n",
    "    pickle.dump(multi_label_metrics, f)"
   ]
  },
  {
   "cell_type": "markdown",
   "id": "f6be6d85",
   "metadata": {},
   "source": [
    "# Analysis"
   ]
  },
  {
   "cell_type": "code",
   "execution_count": 50,
   "id": "7850e9d0",
   "metadata": {},
   "outputs": [],
   "source": [
    "tp = test_discrete_preds\n",
    "tt = test_discrete_targets"
   ]
  },
  {
   "cell_type": "code",
   "execution_count": 53,
   "id": "458da6b2",
   "metadata": {
    "scrolled": true
   },
   "outputs": [
    {
     "data": {
      "text/html": [
       "<div>\n",
       "<style scoped>\n",
       "    .dataframe tbody tr th:only-of-type {\n",
       "        vertical-align: middle;\n",
       "    }\n",
       "\n",
       "    .dataframe tbody tr th {\n",
       "        vertical-align: top;\n",
       "    }\n",
       "\n",
       "    .dataframe thead th {\n",
       "        text-align: right;\n",
       "    }\n",
       "</style>\n",
       "<table border=\"1\" class=\"dataframe\">\n",
       "  <thead>\n",
       "    <tr style=\"text-align: right;\">\n",
       "      <th></th>\n",
       "      <th>doc_id</th>\n",
       "      <th>sentence_id</th>\n",
       "      <th>sentence_text</th>\n",
       "      <th>is_relevant</th>\n",
       "      <th>sector_ids</th>\n",
       "      <th>is_valid</th>\n",
       "    </tr>\n",
       "  </thead>\n",
       "  <tbody>\n",
       "    <tr>\n",
       "      <th>0</th>\n",
       "      <td>51787</td>\n",
       "      <td>1</td>\n",
       "      <td>al., 2014; Dell, Jones, and Olken, 2014).</td>\n",
       "      <td>1</td>\n",
       "      <td>Agricolture</td>\n",
       "      <td>True</td>\n",
       "    </tr>\n",
       "    <tr>\n",
       "      <th>1</th>\n",
       "      <td>51657</td>\n",
       "      <td>15</td>\n",
       "      <td>Many orphaned youth live in poverty and have lost their parents to natural disasters, the HIV/AIDS epidemic and other diseases, war, or domestic issues.</td>\n",
       "      <td>1</td>\n",
       "      <td>Education;Livelihoods</td>\n",
       "      <td>True</td>\n",
       "    </tr>\n",
       "    <tr>\n",
       "      <th>2</th>\n",
       "      <td>51657</td>\n",
       "      <td>17</td>\n",
       "      <td>Other youth live in shelters or on the streets.</td>\n",
       "      <td>1</td>\n",
       "      <td>Education;Livelihoods</td>\n",
       "      <td>True</td>\n",
       "    </tr>\n",
       "    <tr>\n",
       "      <th>3</th>\n",
       "      <td>51542</td>\n",
       "      <td>0</td>\n",
       "      <td>WFP Colombia Country Brief December 2020 Operational Context The Colombian humanitarian context is complex, with multiple risks and affectations coexisting.</td>\n",
       "      <td>1</td>\n",
       "      <td>Food Security</td>\n",
       "      <td>True</td>\n",
       "    </tr>\n",
       "    <tr>\n",
       "      <th>4</th>\n",
       "      <td>51542</td>\n",
       "      <td>2</td>\n",
       "      <td>Colombia has also become the largest host for Venezuelan migrants fleeing dire living conditions in their country.</td>\n",
       "      <td>1</td>\n",
       "      <td>Food Security</td>\n",
       "      <td>True</td>\n",
       "    </tr>\n",
       "    <tr>\n",
       "      <th>...</th>\n",
       "      <td>...</td>\n",
       "      <td>...</td>\n",
       "      <td>...</td>\n",
       "      <td>...</td>\n",
       "      <td>...</td>\n",
       "      <td>...</td>\n",
       "    </tr>\n",
       "    <tr>\n",
       "      <th>17358</th>\n",
       "      <td>36453</td>\n",
       "      <td>56</td>\n",
       "      <td>The UN estimates that approximately 90 percent of Syrians live below the poverty line defined by the World Bank as living on less than $2 per day as of June 2020, compared to an estimated 80 percent of Syrians prior to the COVID-19 and economic crises.</td>\n",
       "      <td>1</td>\n",
       "      <td>Livelihoods;Nutrition</td>\n",
       "      <td>True</td>\n",
       "    </tr>\n",
       "    <tr>\n",
       "      <th>17670</th>\n",
       "      <td>36069</td>\n",
       "      <td>313</td>\n",
       "      <td>In the reporting period, UNICEF provided soap through WFP food distributions to 1,150 families in Homs and Hama, and hygiene kits for 1,177 returnees in Idleb.</td>\n",
       "      <td>1</td>\n",
       "      <td>Food Security;Wash</td>\n",
       "      <td>True</td>\n",
       "    </tr>\n",
       "    <tr>\n",
       "      <th>17838</th>\n",
       "      <td>36039</td>\n",
       "      <td>99</td>\n",
       "      <td>In addition, UNICEF report that nutrition activities are ongoing, including group and individual counselling sessions, and nutrition surveillance activities.</td>\n",
       "      <td>1</td>\n",
       "      <td>Education;Nutrition</td>\n",
       "      <td>True</td>\n",
       "    </tr>\n",
       "    <tr>\n",
       "      <th>17839</th>\n",
       "      <td>36039</td>\n",
       "      <td>100</td>\n",
       "      <td>Education activities has also increased in recent weeks, including with partially opened schools reported across most sub-districts where functioning schools existed prior to COVID-19, in light of national exams.</td>\n",
       "      <td>1</td>\n",
       "      <td>Education;Nutrition</td>\n",
       "      <td>True</td>\n",
       "    </tr>\n",
       "    <tr>\n",
       "      <th>18340</th>\n",
       "      <td>36019</td>\n",
       "      <td>52</td>\n",
       "      <td>The within-Syria nutrition response has also been severely hit by the pandemic, with over one million beneficiaries affected by the recent suspension and/or minimization of nutrition services and programs following the introduction of COVID-19 mitigation measures by GoS, mainly affecting mobile nutrition teams (who lack PPE); the provision of community-based services, such as blanket distributions, door-to-door screening, and IYCF counselling (given concerns around overcrowding).</td>\n",
       "      <td>1</td>\n",
       "      <td>Nutrition;Shelter</td>\n",
       "      <td>True</td>\n",
       "    </tr>\n",
       "  </tbody>\n",
       "</table>\n",
       "<p>2906 rows × 6 columns</p>\n",
       "</div>"
      ],
      "text/plain": [
       "       doc_id  sentence_id  \\\n",
       "0       51787            1   \n",
       "1       51657           15   \n",
       "2       51657           17   \n",
       "3       51542            0   \n",
       "4       51542            2   \n",
       "...       ...          ...   \n",
       "17358   36453           56   \n",
       "17670   36069          313   \n",
       "17838   36039           99   \n",
       "17839   36039          100   \n",
       "18340   36019           52   \n",
       "\n",
       "                                                                                                                                                                                                                                                                                                                                                                                                                                                                                              sentence_text  \\\n",
       "0                                                                                                                                                                                                                                                                                                                                                                                                                                                                 al., 2014; Dell, Jones, and Olken, 2014).   \n",
       "1                                                                                                                                                                                                                                                                                                                                                  Many orphaned youth live in poverty and have lost their parents to natural disasters, the HIV/AIDS epidemic and other diseases, war, or domestic issues.   \n",
       "2                                                                                                                                                                                                                                                                                                                                                                                                                                                           Other youth live in shelters or on the streets.   \n",
       "3                                                                                                                                                                                                                                                                                                                                              WFP Colombia Country Brief December 2020 Operational Context The Colombian humanitarian context is complex, with multiple risks and affectations coexisting.   \n",
       "4                                                                                                                                                                                                                                                                                                                                                                                        Colombia has also become the largest host for Venezuelan migrants fleeing dire living conditions in their country.   \n",
       "...                                                                                                                                                                                                                                                                                                                                                                                                                                                                                                     ...   \n",
       "17358                                                                                                                                                                                                                                          The UN estimates that approximately 90 percent of Syrians live below the poverty line defined by the World Bank as living on less than $2 per day as of June 2020, compared to an estimated 80 percent of Syrians prior to the COVID-19 and economic crises.   \n",
       "17670                                                                                                                                                                                                                                                                                                                                       In the reporting period, UNICEF provided soap through WFP food distributions to 1,150 families in Homs and Hama, and hygiene kits for 1,177 returnees in Idleb.   \n",
       "17838                                                                                                                                                                                                                                                                                                                                         In addition, UNICEF report that nutrition activities are ongoing, including group and individual counselling sessions, and nutrition surveillance activities.   \n",
       "17839                                                                                                                                                                                                                                                                                  Education activities has also increased in recent weeks, including with partially opened schools reported across most sub-districts where functioning schools existed prior to COVID-19, in light of national exams.   \n",
       "18340  The within-Syria nutrition response has also been severely hit by the pandemic, with over one million beneficiaries affected by the recent suspension and/or minimization of nutrition services and programs following the introduction of COVID-19 mitigation measures by GoS, mainly affecting mobile nutrition teams (who lack PPE); the provision of community-based services, such as blanket distributions, door-to-door screening, and IYCF counselling (given concerns around overcrowding).   \n",
       "\n",
       "       is_relevant             sector_ids  is_valid  \n",
       "0                1            Agricolture      True  \n",
       "1                1  Education;Livelihoods      True  \n",
       "2                1  Education;Livelihoods      True  \n",
       "3                1          Food Security      True  \n",
       "4                1          Food Security      True  \n",
       "...            ...                    ...       ...  \n",
       "17358            1  Livelihoods;Nutrition      True  \n",
       "17670            1     Food Security;Wash      True  \n",
       "17838            1    Education;Nutrition      True  \n",
       "17839            1    Education;Nutrition      True  \n",
       "18340            1      Nutrition;Shelter      True  \n",
       "\n",
       "[2906 rows x 6 columns]"
      ]
     },
     "execution_count": 53,
     "metadata": {},
     "output_type": "execute_result"
    }
   ],
   "source": [
    "test_df"
   ]
  },
  {
   "cell_type": "code",
   "execution_count": 83,
   "id": "b9675e05",
   "metadata": {},
   "outputs": [],
   "source": [
    "start = 0"
   ]
  },
  {
   "cell_type": "code",
   "execution_count": 84,
   "id": "4364d796",
   "metadata": {
    "scrolled": false
   },
   "outputs": [
    {
     "name": "stdout",
     "output_type": "stream",
     "text": [
      "al., 2014; Dell, Jones, and Olken, 2014).\n",
      "Expected: Agricolture\n",
      "Predicted: Protection\n",
      "\n",
      "Many orphaned youth live in poverty and have lost their parents to natural disasters, the HIV/AIDS epidemic and other diseases, war, or domestic issues.\n",
      "Expected: Education, Livelihoods\n",
      "Predicted: Cross, Health, Livelihoods\n",
      "\n",
      "Other youth live in shelters or on the streets.\n",
      "Expected: Education, Livelihoods\n",
      "Predicted: Shelter\n",
      "\n",
      "WFP Colombia Country Brief December 2020 Operational Context The Colombian humanitarian context is complex, with multiple risks and affectations coexisting.\n",
      "Expected: Food Security\n",
      "Predicted: Cross\n",
      "\n",
      "Colombia has also become the largest host for Venezuelan migrants fleeing dire living conditions in their country.\n",
      "Expected: Food Security\n",
      "Predicted: \n",
      "\n",
      "The COVID-19 crisis further exacerbates the situation and impacts food security for both Colombians and migrants, especially for those who depend on informal labour, or who are in extreme poverty.\n",
      "Expected: Food Security\n",
      "Predicted: Food Security, Livelihoods\n",
      "\n",
      "The percentage of people with acceptable FCS increased from 70 to 82 percent, and diets became more diverse.\n",
      "Expected: Food Security\n",
      "Predicted: Food Security\n",
      "\n",
      "Heavy rain has been affecting western Colombia (in particular Valle del Cauca Department) since 11 March, causing river overflow (particularly Pance and Cauca Rivers), floods and landslides that have resulted in casualties and damage.\n",
      "Expected: Cross\n",
      "Predicted: Agricolture, Shelter\n",
      "\n",
      "This practice is known as Falsos Positivos (false positives).\n",
      "Expected: Protection\n",
      "Predicted: Health\n",
      "s\n"
     ]
    }
   ],
   "source": [
    "for sentence, sector,p, t, in zip(\n",
    "    test_df.sentence_text.iloc[start:], \n",
    "    test_df.sector_ids.iloc[start:], \n",
    "    tp[start:], \n",
    "    tt[start:]\n",
    "):\n",
    "    if 1 or list(p) != list(t):\n",
    "        print(sentence)\n",
    "        t = [classes[i] for i, x in enumerate(t) if x]\n",
    "        print('Expected:', ', '.join(t))\n",
    "        p = [classes[i] for i, x in enumerate(p) if x]\n",
    "        print('Predicted:', ', '.join(p))\n",
    "    else:\n",
    "        continue\n",
    "    \n",
    "    a = input()\n",
    "    if a == 's':\n",
    "        break\n",
    "    "
   ]
  },
  {
   "cell_type": "code",
   "execution_count": null,
   "id": "2390b255",
   "metadata": {},
   "outputs": [],
   "source": []
  }
 ],
 "metadata": {
  "kernelspec": {
   "display_name": "conda_pytorch_latest_p36",
   "language": "python",
   "name": "conda_pytorch_latest_p36"
  },
  "language_info": {
   "codemirror_mode": {
    "name": "ipython",
    "version": 3
   },
   "file_extension": ".py",
   "mimetype": "text/x-python",
   "name": "python",
   "nbconvert_exporter": "python",
   "pygments_lexer": "ipython3",
   "version": "3.6.13"
  }
 },
 "nbformat": 4,
 "nbformat_minor": 5
}
