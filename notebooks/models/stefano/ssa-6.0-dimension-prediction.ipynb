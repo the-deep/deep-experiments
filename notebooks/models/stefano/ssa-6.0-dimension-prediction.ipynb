{
 "cells": [
  {
   "cell_type": "markdown",
   "id": "da175455",
   "metadata": {},
   "source": [
    "Using kernel `conda_pytorch_latest_p36`"
   ]
  },
  {
   "cell_type": "markdown",
   "id": "eb3507b1",
   "metadata": {},
   "source": [
    "# Import"
   ]
  },
  {
   "cell_type": "code",
   "execution_count": 1,
   "id": "14ea103d",
   "metadata": {
    "ExecuteTime": {
     "end_time": "2021-05-31T08:07:35.086705Z",
     "start_time": "2021-05-31T08:07:35.083959Z"
    }
   },
   "outputs": [],
   "source": [
    "import sys\n",
    "sys.path.append('../../../')"
   ]
  },
  {
   "cell_type": "code",
   "execution_count": 2,
   "id": "a548b57f",
   "metadata": {
    "ExecuteTime": {
     "end_time": "2021-05-31T08:07:35.091101Z",
     "start_time": "2021-05-31T08:07:35.088562Z"
    }
   },
   "outputs": [],
   "source": [
    "from pathlib import Path\n",
    "import os\n",
    "import random\n",
    "import json\n",
    "from datetime import datetime"
   ]
  },
  {
   "cell_type": "code",
   "execution_count": 3,
   "id": "01727bc6",
   "metadata": {
    "ExecuteTime": {
     "end_time": "2021-05-31T08:07:36.873441Z",
     "start_time": "2021-05-31T08:07:35.092719Z"
    }
   },
   "outputs": [],
   "source": [
    "import pandas as pd\n",
    "import numpy as np\n",
    "from sklearn.metrics import classification_report\n",
    "import torch\n",
    "import sagemaker\n",
    "from sagemaker import get_execution_role\n",
    "import boto3"
   ]
  },
  {
   "cell_type": "code",
   "execution_count": 4,
   "id": "1bc79461",
   "metadata": {
    "ExecuteTime": {
     "end_time": "2021-05-31T08:07:36.970818Z",
     "start_time": "2021-05-31T08:07:36.878482Z"
    }
   },
   "outputs": [],
   "source": [
    "from deep.constants import *\n",
    "from deep.utils import *"
   ]
  },
  {
   "cell_type": "code",
   "execution_count": 5,
   "id": "fef4595c",
   "metadata": {
    "ExecuteTime": {
     "end_time": "2021-05-31T08:07:36.989745Z",
     "start_time": "2021-05-31T08:07:36.971625Z"
    }
   },
   "outputs": [],
   "source": [
    "%load_ext autoreload\n",
    "%autoreload 2"
   ]
  },
  {
   "cell_type": "markdown",
   "id": "33ae160a",
   "metadata": {},
   "source": [
    "## Data"
   ]
  },
  {
   "cell_type": "code",
   "execution_count": 6,
   "id": "23af072b",
   "metadata": {
    "ExecuteTime": {
     "end_time": "2021-05-31T08:07:38.397212Z",
     "start_time": "2021-05-31T08:07:36.991695Z"
    }
   },
   "outputs": [
    {
     "name": "stderr",
     "output_type": "stream",
     "text": [
      "/Users/stefano/miniconda3/envs/deep-exp/lib/python3.9/site-packages/IPython/core/interactiveshell.py:3165: DtypeWarning: Columns (6) have mixed types.Specify dtype option on import or set low_memory=False.\n",
      "  has_raised = await self.run_ast_nodes(code_ast.body, cell_name,\n"
     ]
    }
   ],
   "source": [
    "train = pd.read_csv(FRAMEWORKS_PATH / 'data_v0.3_train.csv')\n",
    "val = pd.read_csv(FRAMEWORKS_PATH / 'data_v0.3_val.csv')\n",
    "test = pd.read_csv(FRAMEWORKS_PATH / 'data_v0.3_test.csv')"
   ]
  },
  {
   "cell_type": "code",
   "execution_count": 7,
   "id": "ce66a2e9",
   "metadata": {
    "ExecuteTime": {
     "end_time": "2021-05-31T08:07:38.421601Z",
     "start_time": "2021-05-31T08:07:38.399154Z"
    }
   },
   "outputs": [],
   "source": [
    "columns_to_keep = ['excerpt'] + DIMENSION_CLASSES"
   ]
  },
  {
   "cell_type": "code",
   "execution_count": 8,
   "id": "b868434b",
   "metadata": {
    "ExecuteTime": {
     "end_time": "2021-05-31T08:07:38.440093Z",
     "start_time": "2021-05-31T08:07:38.422675Z"
    }
   },
   "outputs": [],
   "source": [
    "def process_for_sector(df, sector):\n",
    "    df = df[['excerpt', sector]]\n",
    "        \n",
    "    return df"
   ]
  },
  {
   "cell_type": "code",
   "execution_count": 9,
   "id": "d150d2be",
   "metadata": {
    "ExecuteTime": {
     "end_time": "2021-05-31T08:07:38.463910Z",
     "start_time": "2021-05-31T08:07:38.441044Z"
    },
    "scrolled": true
   },
   "outputs": [],
   "source": [
    "train_df = process_for_sector(train, 'Humanitarian Conditions')\n",
    "test_df = process_for_sector(test, 'Humanitarian Conditions')"
   ]
  },
  {
   "cell_type": "markdown",
   "id": "f3be975a",
   "metadata": {},
   "source": [
    "## Sagemaker Prep"
   ]
  },
  {
   "cell_type": "markdown",
   "id": "b3b4b7db",
   "metadata": {
    "ExecuteTime": {
     "end_time": "2021-05-27T15:42:32.024647Z",
     "start_time": "2021-05-27T15:42:31.984694Z"
    }
   },
   "source": [
    "### Session"
   ]
  },
  {
   "cell_type": "code",
   "execution_count": 10,
   "id": "1891c670",
   "metadata": {
    "ExecuteTime": {
     "end_time": "2021-05-31T08:07:38.554581Z",
     "start_time": "2021-05-31T08:07:38.464896Z"
    }
   },
   "outputs": [],
   "source": [
    "sess = sagemaker.Session(default_bucket=DEV_BUCKET.name)\n",
    "role = 'AmazonSageMaker-ExecutionRole-20210519T102514'"
   ]
  },
  {
   "cell_type": "markdown",
   "id": "cfc69433",
   "metadata": {},
   "source": [
    "### Bucket upload"
   ]
  },
  {
   "cell_type": "code",
   "execution_count": 11,
   "id": "a3be97fd",
   "metadata": {
    "ExecuteTime": {
     "end_time": "2021-05-31T08:07:56.759628Z",
     "start_time": "2021-05-31T08:07:38.555509Z"
    },
    "scrolled": true
   },
   "outputs": [],
   "source": [
    "sample = False\n",
    "\n",
    "if sample:\n",
    "    train_df = train_df.sample(1000)\n",
    "    test_df = test_df.sample(1000)\n",
    "\n",
    "    \n",
    "job_name = f\"pytorch-training-{formatted_time()}\"\n",
    "input_path = DEV_BUCKET / 'training' / 'input_data' / job_name\n",
    "\n",
    "s3_train_data = str(input_path / 'train_df.pickle')\n",
    "s3_validation_data = str(input_path / 'test_df.pickle')\n",
    "\n",
    "train_df.to_pickle(s3_train_data, protocol=4)\n",
    "test_df.to_pickle(s3_validation_data, protocol=4)"
   ]
  },
  {
   "cell_type": "markdown",
   "id": "5ad0aba7",
   "metadata": {},
   "source": [
    "### Estimator Definition"
   ]
  },
  {
   "cell_type": "code",
   "execution_count": 12,
   "id": "f6b3e064",
   "metadata": {
    "ExecuteTime": {
     "end_time": "2021-05-31T08:07:56.802432Z",
     "start_time": "2021-05-31T08:07:56.762656Z"
    }
   },
   "outputs": [],
   "source": [
    "instances = [\n",
    "    'ml.p2.xlarge',\n",
    "    'ml.p3.2xlarge'\n",
    "]"
   ]
  },
  {
   "cell_type": "code",
   "execution_count": 13,
   "id": "302cfc01",
   "metadata": {
    "ExecuteTime": {
     "end_time": "2021-05-31T08:07:56.829036Z",
     "start_time": "2021-05-31T08:07:56.803966Z"
    }
   },
   "outputs": [],
   "source": [
    "metric_definitions=[\n",
    "    {'Name': 'loss', 'Regex': \"'loss': ([0-9]+(.|e\\-)[0-9]+),?\"},\n",
    "    {'Name': 'learning_rate', 'Regex': \"'learning_rate': ([0-9]+(.|e\\-)[0-9]+),?\"},\n",
    "    {'Name': 'eval_loss', 'Regex': \"'eval_loss': ([0-9]+(.|e\\-)[0-9]+),?\"},\n",
    "    {'Name': 'eval_accuracy', 'Regex': \"'eval_accuracy': ([0-9]+(.|e\\-)[0-9]+),?\"},\n",
    "    {'Name': 'eval_f1', 'Regex': \"'eval_f1': ([0-9]+(.|e\\-)[0-9]+),?\"},\n",
    "    {'Name': 'eval_precision', 'Regex': \"'eval_precision': ([0-9]+(.|e\\-)[0-9]+),?\"},\n",
    "    {'Name': 'eval_recall', 'Regex': \"'eval_recall': ([0-9]+(.|e\\-)[0-9]+),?\"},\n",
    "    {'Name': 'eval_stupid_metric', 'Regex': \"'eval_stupid_metric': ([0-9]+(.|e\\-)[0-9]+),?\"},\n",
    "    {'Name': 'eval_runtime', 'Regex': \"'eval_runtime': ([0-9]+(.|e\\-)[0-9]+),?\"},\n",
    "    {'Name': 'eval_samples_per_second', 'Regex': \"'eval_samples_per_second': ([0-9]+(.|e\\-)[0-9]+),?\"},\n",
    "    {'Name': 'epoch', 'Regex': \"'epoch': ([0-9]+(.|e\\-)[0-9]+),?\"}]"
   ]
  },
  {
   "cell_type": "code",
   "execution_count": 14,
   "id": "5dd9ab19",
   "metadata": {
    "ExecuteTime": {
     "end_time": "2021-05-31T08:07:56.848712Z",
     "start_time": "2021-05-31T08:07:56.830026Z"
    }
   },
   "outputs": [],
   "source": [
    "# # set True if you need spot instance\n",
    "# use_spot = True\n",
    "# train_max_run_secs =   2*24 * 60 * 60\n",
    "# spot_wait_sec =  5 * 60\n",
    "# max_wait_time_secs = train_max_run_secs +  spot_wait_sec\n",
    "\n",
    "# if not use_spot:\n",
    "#     max_wait_time_secs = None\n",
    "    \n",
    "# # During local mode, no spot.., use smaller dataset\n",
    "# if instance_type == 'local':\n",
    "#     use_spot = False\n",
    "#     max_wait_time_secs = 0\n",
    "#     wait = True\n",
    "#     # Use smaller dataset to run locally\n",
    "#     inputs = inputs_sample\n"
   ]
  },
  {
   "cell_type": "code",
   "execution_count": 15,
   "id": "c3afa217",
   "metadata": {
    "ExecuteTime": {
     "end_time": "2021-05-31T08:07:56.934562Z",
     "start_time": "2021-05-31T08:07:56.849715Z"
    }
   },
   "outputs": [],
   "source": [
    "from sagemaker.pytorch import PyTorch\n",
    "\n",
    "hyperparameters={'epochs': 2,\n",
    "                 'train_batch_size': 32,\n",
    "                 'model_name': 'distilbert-base-uncased'\n",
    "                 }\n",
    "\n",
    "estimator = PyTorch(\n",
    "    entry_point='train.py',\n",
    "    source_dir=str(SCRIPTS_TRAINING_PATH / 'stefano/pytorch_estimator_example'),\n",
    "    output_path=str(DEV_BUCKET / 'models/'),\n",
    "    code_location=str(input_path),\n",
    "    instance_type='ml.p3.2xlarge',\n",
    "    instance_count=1,\n",
    "    role=role,\n",
    "    framework_version='1.8',\n",
    "    py_version='py36',\n",
    "    hyperparameters = hyperparameters,\n",
    "    metric_definitions=metric_definitions,\n",
    "    job_name=job_name,\n",
    "#     train_instance_count=2,\n",
    "#     train_instance_type=\"ml.c4.xlarge\",\n",
    ")"
   ]
  },
  {
   "cell_type": "code",
   "execution_count": 16,
   "id": "a6e1e22c",
   "metadata": {
    "ExecuteTime": {
     "end_time": "2021-05-31T08:07:56.954243Z",
     "start_time": "2021-05-31T08:07:56.935645Z"
    }
   },
   "outputs": [],
   "source": [
    "fit_arguments = {\n",
    "    'train': str(input_path),\n",
    "    'test': str(input_path)\n",
    "}"
   ]
  },
  {
   "cell_type": "code",
   "execution_count": 17,
   "id": "70bf46cc",
   "metadata": {
    "ExecuteTime": {
     "end_time": "2021-05-31T08:07:57.111543Z",
     "start_time": "2021-05-31T08:07:56.956979Z"
    },
    "scrolled": true
   },
   "outputs": [
    {
     "ename": "ValueError",
     "evalue": "No file named \"train.py\" was found in directory \"/Users/stefano/Dropbox/Work/DFS/Code/deep-experiments/notebooks/models/stefano/../../../scripts/training/stefano/pytorch_estimator_base\".",
     "output_type": "error",
     "traceback": [
      "\u001b[0;31m---------------------------------------------------------------------------\u001b[0m",
      "\u001b[0;31mValueError\u001b[0m                                Traceback (most recent call last)",
      "\u001b[0;32m<ipython-input-17-a84fd151a313>\u001b[0m in \u001b[0;36m<module>\u001b[0;34m\u001b[0m\n\u001b[0;32m----> 1\u001b[0;31m \u001b[0mestimator\u001b[0m\u001b[0;34m.\u001b[0m\u001b[0mfit\u001b[0m\u001b[0;34m(\u001b[0m\u001b[0mfit_arguments\u001b[0m\u001b[0;34m,\u001b[0m \u001b[0mjob_name\u001b[0m\u001b[0;34m=\u001b[0m\u001b[0mjob_name\u001b[0m\u001b[0;34m,\u001b[0m \u001b[0mwait\u001b[0m\u001b[0;34m=\u001b[0m\u001b[0;32mFalse\u001b[0m\u001b[0;34m)\u001b[0m\u001b[0;34m\u001b[0m\u001b[0;34m\u001b[0m\u001b[0m\n\u001b[0m",
      "\u001b[0;32m~/miniconda3/envs/deep-exp/lib/python3.9/site-packages/sagemaker/estimator.py\u001b[0m in \u001b[0;36mfit\u001b[0;34m(self, inputs, wait, logs, job_name, experiment_config)\u001b[0m\n\u001b[1;32m    675\u001b[0m \u001b[0;34m\u001b[0m\u001b[0m\n\u001b[1;32m    676\u001b[0m         \"\"\"\n\u001b[0;32m--> 677\u001b[0;31m         \u001b[0mself\u001b[0m\u001b[0;34m.\u001b[0m\u001b[0m_prepare_for_training\u001b[0m\u001b[0;34m(\u001b[0m\u001b[0mjob_name\u001b[0m\u001b[0;34m=\u001b[0m\u001b[0mjob_name\u001b[0m\u001b[0;34m)\u001b[0m\u001b[0;34m\u001b[0m\u001b[0;34m\u001b[0m\u001b[0m\n\u001b[0m\u001b[1;32m    678\u001b[0m \u001b[0;34m\u001b[0m\u001b[0m\n\u001b[1;32m    679\u001b[0m         \u001b[0mself\u001b[0m\u001b[0;34m.\u001b[0m\u001b[0mlatest_training_job\u001b[0m \u001b[0;34m=\u001b[0m \u001b[0m_TrainingJob\u001b[0m\u001b[0;34m.\u001b[0m\u001b[0mstart_new\u001b[0m\u001b[0;34m(\u001b[0m\u001b[0mself\u001b[0m\u001b[0;34m,\u001b[0m \u001b[0minputs\u001b[0m\u001b[0;34m,\u001b[0m \u001b[0mexperiment_config\u001b[0m\u001b[0;34m)\u001b[0m\u001b[0;34m\u001b[0m\u001b[0;34m\u001b[0m\u001b[0m\n",
      "\u001b[0;32m~/miniconda3/envs/deep-exp/lib/python3.9/site-packages/sagemaker/estimator.py\u001b[0m in \u001b[0;36m_prepare_for_training\u001b[0;34m(self, job_name)\u001b[0m\n\u001b[1;32m   2213\u001b[0m         \u001b[0;31m# source directory. We are intentionally not handling it because this is a critical error.\u001b[0m\u001b[0;34m\u001b[0m\u001b[0;34m\u001b[0m\u001b[0;34m\u001b[0m\u001b[0m\n\u001b[1;32m   2214\u001b[0m         \u001b[0;32mif\u001b[0m \u001b[0mself\u001b[0m\u001b[0;34m.\u001b[0m\u001b[0msource_dir\u001b[0m \u001b[0;32mand\u001b[0m \u001b[0;32mnot\u001b[0m \u001b[0mself\u001b[0m\u001b[0;34m.\u001b[0m\u001b[0msource_dir\u001b[0m\u001b[0;34m.\u001b[0m\u001b[0mlower\u001b[0m\u001b[0;34m(\u001b[0m\u001b[0;34m)\u001b[0m\u001b[0;34m.\u001b[0m\u001b[0mstartswith\u001b[0m\u001b[0;34m(\u001b[0m\u001b[0;34m\"s3://\"\u001b[0m\u001b[0;34m)\u001b[0m\u001b[0;34m:\u001b[0m\u001b[0;34m\u001b[0m\u001b[0;34m\u001b[0m\u001b[0m\n\u001b[0;32m-> 2215\u001b[0;31m             \u001b[0mvalidate_source_dir\u001b[0m\u001b[0;34m(\u001b[0m\u001b[0mself\u001b[0m\u001b[0;34m.\u001b[0m\u001b[0mentry_point\u001b[0m\u001b[0;34m,\u001b[0m \u001b[0mself\u001b[0m\u001b[0;34m.\u001b[0m\u001b[0msource_dir\u001b[0m\u001b[0;34m)\u001b[0m\u001b[0;34m\u001b[0m\u001b[0;34m\u001b[0m\u001b[0m\n\u001b[0m\u001b[1;32m   2216\u001b[0m \u001b[0;34m\u001b[0m\u001b[0m\n\u001b[1;32m   2217\u001b[0m         \u001b[0;31m# if we are in local mode with local_code=True. We want the container to just\u001b[0m\u001b[0;34m\u001b[0m\u001b[0;34m\u001b[0m\u001b[0;34m\u001b[0m\u001b[0m\n",
      "\u001b[0;32m~/miniconda3/envs/deep-exp/lib/python3.9/site-packages/sagemaker/fw_utils.py\u001b[0m in \u001b[0;36mvalidate_source_dir\u001b[0;34m(script, directory)\u001b[0m\n\u001b[1;32m     78\u001b[0m     \u001b[0;32mif\u001b[0m \u001b[0mdirectory\u001b[0m\u001b[0;34m:\u001b[0m\u001b[0;34m\u001b[0m\u001b[0;34m\u001b[0m\u001b[0m\n\u001b[1;32m     79\u001b[0m         \u001b[0;32mif\u001b[0m \u001b[0;32mnot\u001b[0m \u001b[0mos\u001b[0m\u001b[0;34m.\u001b[0m\u001b[0mpath\u001b[0m\u001b[0;34m.\u001b[0m\u001b[0misfile\u001b[0m\u001b[0;34m(\u001b[0m\u001b[0mos\u001b[0m\u001b[0;34m.\u001b[0m\u001b[0mpath\u001b[0m\u001b[0;34m.\u001b[0m\u001b[0mjoin\u001b[0m\u001b[0;34m(\u001b[0m\u001b[0mdirectory\u001b[0m\u001b[0;34m,\u001b[0m \u001b[0mscript\u001b[0m\u001b[0;34m)\u001b[0m\u001b[0;34m)\u001b[0m\u001b[0;34m:\u001b[0m\u001b[0;34m\u001b[0m\u001b[0;34m\u001b[0m\u001b[0m\n\u001b[0;32m---> 80\u001b[0;31m             raise ValueError(\n\u001b[0m\u001b[1;32m     81\u001b[0m                 \u001b[0;34m'No file named \"{}\" was found in directory \"{}\".'\u001b[0m\u001b[0;34m.\u001b[0m\u001b[0mformat\u001b[0m\u001b[0;34m(\u001b[0m\u001b[0mscript\u001b[0m\u001b[0;34m,\u001b[0m \u001b[0mdirectory\u001b[0m\u001b[0;34m)\u001b[0m\u001b[0;34m\u001b[0m\u001b[0;34m\u001b[0m\u001b[0m\n\u001b[1;32m     82\u001b[0m             )\n",
      "\u001b[0;31mValueError\u001b[0m: No file named \"train.py\" was found in directory \"/Users/stefano/Dropbox/Work/DFS/Code/deep-experiments/notebooks/models/stefano/../../../scripts/training/stefano/pytorch_estimator_base\"."
     ]
    }
   ],
   "source": [
    "estimator.fit(fit_arguments, job_name=job_name, wait=False)"
   ]
  },
  {
   "cell_type": "code",
   "execution_count": null,
   "id": "e1d31c74",
   "metadata": {
    "ExecuteTime": {
     "end_time": "2021-05-31T08:07:57.112666Z",
     "start_time": "2021-05-31T08:07:35.095Z"
    }
   },
   "outputs": [],
   "source": [
    "from sagemaker import TrainingJobAnalytics\n",
    "\n",
    "# Captured metrics can be accessed as a Pandas dataframe\n",
    "df = TrainingJobAnalytics(training_job_name=estimator.latest_training_job.name).dataframe()\n",
    "df.head(10)"
   ]
  },
  {
   "cell_type": "code",
   "execution_count": null,
   "id": "4792761d",
   "metadata": {
    "ExecuteTime": {
     "end_time": "2021-05-31T08:07:57.113331Z",
     "start_time": "2021-05-31T08:07:35.096Z"
    }
   },
   "outputs": [],
   "source": [
    "df"
   ]
  },
  {
   "cell_type": "code",
   "execution_count": null,
   "id": "db001ada",
   "metadata": {},
   "outputs": [],
   "source": []
  },
  {
   "cell_type": "code",
   "execution_count": null,
   "id": "f098d716",
   "metadata": {},
   "outputs": [],
   "source": []
  }
 ],
 "metadata": {
  "kernelspec": {
   "display_name": "Python 3",
   "language": "python",
   "name": "python3"
  },
  "language_info": {
   "codemirror_mode": {
    "name": "ipython",
    "version": 3
   },
   "file_extension": ".py",
   "mimetype": "text/x-python",
   "name": "python",
   "nbconvert_exporter": "python",
   "pygments_lexer": "ipython3",
   "version": "3.9.1"
  },
  "notify_time": "5",
  "toc": {
   "base_numbering": 1,
   "nav_menu": {},
   "number_sections": true,
   "sideBar": true,
   "skip_h1_title": false,
   "title_cell": "Table of Contents",
   "title_sidebar": "Contents",
   "toc_cell": false,
   "toc_position": {},
   "toc_section_display": true,
   "toc_window_display": false
  }
 },
 "nbformat": 4,
 "nbformat_minor": 5
}
