{
 "cells": [
  {
   "cell_type": "markdown",
   "id": "426d7964",
   "metadata": {},
   "source": [
    "Using kernel `conda_pytorch_latest_p36`"
   ]
  },
  {
   "cell_type": "code",
   "execution_count": 1,
   "id": "adfd1824",
   "metadata": {
    "scrolled": true
   },
   "outputs": [],
   "source": [
    "# !pip install fastai"
   ]
  },
  {
   "cell_type": "code",
   "execution_count": 2,
   "id": "650ba6bf",
   "metadata": {},
   "outputs": [],
   "source": [
    "classes = [\n",
    "    'Agricolture',\n",
    "    'Cross',\n",
    "    'Education',\n",
    "    'Food Security',\n",
    "    'Health',\n",
    "    'Livelihoods',\n",
    "    'Logistics',\n",
    "    'Nutrition',\n",
    "    'Protection',\n",
    "    'Shelter',\n",
    "    'Wash'\n",
    "]"
   ]
  },
  {
   "cell_type": "code",
   "execution_count": 3,
   "id": "c331231b",
   "metadata": {},
   "outputs": [],
   "source": [
    "import torch"
   ]
  },
  {
   "cell_type": "code",
   "execution_count": 4,
   "id": "0c29e1c0",
   "metadata": {},
   "outputs": [],
   "source": [
    "from pathlib import Path\n",
    "import os\n",
    "import random\n",
    "import pickle"
   ]
  },
  {
   "cell_type": "code",
   "execution_count": 5,
   "id": "73679f20",
   "metadata": {},
   "outputs": [],
   "source": [
    "from fastai.text.all import *"
   ]
  },
  {
   "cell_type": "code",
   "execution_count": 6,
   "id": "1b74dabe",
   "metadata": {},
   "outputs": [],
   "source": [
    "data = Path('data_prep/final_data/en/')\n",
    "raw = pd.read_csv('data_prep/data/entries_raw.csv')"
   ]
  },
  {
   "cell_type": "code",
   "execution_count": 7,
   "id": "72208eac",
   "metadata": {},
   "outputs": [],
   "source": [
    "train = pd.read_csv(data / 'sentences_en_train.csv')\n",
    "test = pd.read_csv(data / 'sentences_en_test.csv')"
   ]
  },
  {
   "cell_type": "code",
   "execution_count": 8,
   "id": "0eb6b123",
   "metadata": {},
   "outputs": [],
   "source": [
    "def process_for_sector(df, sector, train):\n",
    "    relevant_train = df[df.is_relevant == 1]\n",
    "    relevant_train.sector_ids = relevant_train.sector_ids.apply(eval)\n",
    "    relevant_train = relevant_train[relevant_train.sector_ids.apply(len) > 0]\n",
    "    \n",
    "    positive_train = relevant_train[relevant_train.sector_ids.apply(lambda x: sector in x)]\n",
    "    negative_train = relevant_train[relevant_train.sector_ids.apply(lambda x: sector not in x)]\n",
    "\n",
    "    positive_train.sector_ids = 1\n",
    "    negative_train.sector_ids = 0\n",
    "    train_df = pd.concat([positive_train, negative_train])\n",
    "    train_df = train_df.sample(frac=1).reset_index(drop=True)\n",
    "    \n",
    "    train_df['is_valid'] = False if train else True\n",
    "        \n",
    "    return train_df"
   ]
  },
  {
   "cell_type": "markdown",
   "id": "052e86e0",
   "metadata": {},
   "source": [
    "# Use fastai"
   ]
  },
  {
   "cell_type": "code",
   "execution_count": null,
   "id": "af6a43bd",
   "metadata": {},
   "outputs": [],
   "source": [
    "sector = 0\n",
    "train_df = process_for_sector(train, sector)\n",
    "test_df = process_for_sector(test, sector)"
   ]
  },
  {
   "cell_type": "code",
   "execution_count": null,
   "id": "36e55f67",
   "metadata": {},
   "outputs": [],
   "source": [
    "test_df"
   ]
  },
  {
   "cell_type": "code",
   "execution_count": null,
   "id": "4c815a50",
   "metadata": {},
   "outputs": [],
   "source": [
    "learn.fine_tune(1, 1e-2)"
   ]
  },
  {
   "cell_type": "code",
   "execution_count": null,
   "id": "4354b22f",
   "metadata": {},
   "outputs": [],
   "source": [
    "learn.recorder.metrics[1]"
   ]
  },
  {
   "cell_type": "code",
   "execution_count": null,
   "id": "ac305d16",
   "metadata": {},
   "outputs": [],
   "source": [
    "pred = learn.get_preds()"
   ]
  },
  {
   "cell_type": "code",
   "execution_count": null,
   "id": "6e9260e0",
   "metadata": {},
   "outputs": [],
   "source": []
  },
  {
   "cell_type": "code",
   "execution_count": null,
   "id": "dff95470",
   "metadata": {},
   "outputs": [],
   "source": []
  },
  {
   "cell_type": "code",
   "execution_count": null,
   "id": "581d8cf1",
   "metadata": {},
   "outputs": [],
   "source": []
  },
  {
   "cell_type": "code",
   "execution_count": null,
   "id": "874dc43f",
   "metadata": {},
   "outputs": [],
   "source": []
  },
  {
   "cell_type": "code",
   "execution_count": null,
   "id": "ab6dcd1f",
   "metadata": {},
   "outputs": [],
   "source": [
    "base = Path('/home/ec2-user/SageMaker/experiments-dfs/models/fastai')"
   ]
  },
  {
   "cell_type": "code",
   "execution_count": null,
   "id": "2aa2ce71",
   "metadata": {
    "scrolled": false
   },
   "outputs": [],
   "source": [
    "for sector in range(11):\n",
    "    print(f'Processing sector {sector}')\n",
    "    train_df = process_for_sector(train, sector, train=True)\n",
    "    test_df = process_for_sector(test, sector, train=False)\n",
    "    df = pd.concat([train_df, test_df])\n",
    "    print(train_df.sector_ids.describe())\n",
    "    print(test_df.sector_ids.describe())\n",
    "    # Tokenize the dataframe created above to have all the descriptions tokenized properly and build a dataloader\n",
    "    # For creating a language model\n",
    "    dls = TextDataLoaders.from_df(\n",
    "        df,\n",
    "        text_col='sentence_text',\n",
    "        label_col='sector_ids',\n",
    "        valid_col='is_valid',\n",
    "        is_lm = False,    # Mention explicitly that this dataloader is meant for language model\n",
    "        seq_len = 72,     # Pick a sequence length i.e. how many words to feed through the RNN at once\n",
    "        bs = 64,     # Specify the batch size for the dataloader\n",
    "    )\n",
    "    learn = text_classifier_learner(\n",
    "        dls, \n",
    "        AWD_LSTM, \n",
    "        drop_mult=0.5, \n",
    "        metrics=[accuracy, Recall(), Precision(), F1Score()]\n",
    "    )\n",
    "    learn.fine_tune(4, 1e-2)\n",
    "    pred = learn.get_preds()\n",
    "    with open(base / f'{sector}.pickle', 'wb') as f:\n",
    "        pickle.dump(pred, f)"
   ]
  },
  {
   "cell_type": "code",
   "execution_count": null,
   "id": "46af8d35",
   "metadata": {},
   "outputs": [],
   "source": []
  }
 ],
 "metadata": {
  "kernelspec": {
   "display_name": "conda_pytorch_latest_p36",
   "language": "python",
   "name": "conda_pytorch_latest_p36"
  },
  "language_info": {
   "codemirror_mode": {
    "name": "ipython",
    "version": 3
   },
   "file_extension": ".py",
   "mimetype": "text/x-python",
   "name": "python",
   "nbconvert_exporter": "python",
   "pygments_lexer": "ipython3",
   "version": "3.6.13"
  }
 },
 "nbformat": 4,
 "nbformat_minor": 5
}
