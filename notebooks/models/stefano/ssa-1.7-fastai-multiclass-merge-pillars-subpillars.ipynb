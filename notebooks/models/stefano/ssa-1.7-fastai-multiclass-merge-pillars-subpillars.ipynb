{
 "cells": [
  {
   "cell_type": "markdown",
   "id": "4dd8b79f",
   "metadata": {},
   "source": [
    "Using kernel `conda_pytorch_latest_p36`"
   ]
  },
  {
   "cell_type": "code",
   "execution_count": 1,
   "id": "3a13deab",
   "metadata": {
    "scrolled": true
   },
   "outputs": [],
   "source": [
    "# !pip install fastai\n",
    "# !pip install cloudpathlib"
   ]
  },
  {
   "cell_type": "markdown",
   "id": "fea617db",
   "metadata": {},
   "source": [
    "# Import"
   ]
  },
  {
   "cell_type": "code",
   "execution_count": 2,
   "id": "5276ec69",
   "metadata": {},
   "outputs": [],
   "source": [
    "import sys\n",
    "sys.path.append('../../../')"
   ]
  },
  {
   "cell_type": "code",
   "execution_count": 3,
   "id": "b8dd1363",
   "metadata": {},
   "outputs": [],
   "source": [
    "from pathlib import Path\n",
    "import os\n",
    "import random\n",
    "import json\n",
    "from datetime import datetime\n",
    "from collections import defaultdict"
   ]
  },
  {
   "cell_type": "code",
   "execution_count": 4,
   "id": "7397bc46",
   "metadata": {},
   "outputs": [],
   "source": [
    "import pandas as pd\n",
    "import numpy as np\n",
    "from sklearn.metrics import classification_report\n",
    "import torch\n",
    "import sagemaker\n",
    "from sagemaker import get_execution_role\n",
    "import boto3\n",
    "import torch.nn as nn\n",
    "from sklearn.preprocessing import MultiLabelBinarizer\n",
    "from torch.utils.data import DataLoader,Dataset\n",
    "from tqdm import tqdm\n",
    "from fastai.text.all import *\n",
    "from sklearn import metrics\n",
    "from sklearn.metrics import confusion_matrix, precision_score, recall_score, f1_score, multilabel_confusion_matrix"
   ]
  },
  {
   "cell_type": "code",
   "execution_count": 5,
   "id": "c53c4ca0",
   "metadata": {},
   "outputs": [],
   "source": [
    "from deep.constants import *\n",
    "from deep.utils import *"
   ]
  },
  {
   "cell_type": "code",
   "execution_count": 6,
   "id": "e1859416",
   "metadata": {},
   "outputs": [],
   "source": [
    "%load_ext autoreload\n",
    "%autoreload 2"
   ]
  },
  {
   "cell_type": "markdown",
   "id": "282bdf5e",
   "metadata": {},
   "source": [
    "# Data"
   ]
  },
  {
   "cell_type": "code",
   "execution_count": 9,
   "id": "0fba67b2",
   "metadata": {},
   "outputs": [],
   "source": [
    "def preprocessing(df):\n",
    "    df = df.copy()\n",
    "    df['sectors'] = df['sectors'].apply(eval)    \n",
    "    df['pillars'] = df['pillars'].apply(eval)\n",
    "    df['pillars'] = df['pillars'].apply(lambda x: list(set(x)))\n",
    "    df['subpillars'] = df['subpillars'].apply(eval)\n",
    "    return df"
   ]
  },
  {
   "cell_type": "code",
   "execution_count": 14,
   "id": "a64f55c5",
   "metadata": {},
   "outputs": [],
   "source": [
    "column = 'subpillars'\n",
    "classes=SUBPILLARS\n",
    "text_column = 'excerpt'\n",
    "merge_column = 'merge'"
   ]
  },
  {
   "cell_type": "code",
   "execution_count": 11,
   "id": "2fdfb6ab",
   "metadata": {},
   "outputs": [],
   "source": [
    "train = preprocessing(pd.read_csv(LATEST_DATA_PATH / 'data_v0.4.3_train.csv'))\n",
    "val = preprocessing(pd.read_csv(LATEST_DATA_PATH / 'data_v0.4.3_val.csv'))\n",
    "test = preprocessing(pd.read_csv(LATEST_DATA_PATH / 'data_v0.4.3_test.csv'))"
   ]
  },
  {
   "cell_type": "code",
   "execution_count": null,
   "id": "797e7c87",
   "metadata": {},
   "outputs": [],
   "source": []
  },
  {
   "cell_type": "code",
   "execution_count": 15,
   "id": "451ee1cd",
   "metadata": {},
   "outputs": [],
   "source": [
    "def process_multiclass(df, train, column='pillars', classes=PILLARS):\n",
    "    relevant_train = df.copy()\n",
    "    relevant_train = relevant_train[relevant_train[column].apply(len) > 0]\n",
    "    relevant_train[merge_column] = relevant_train.pillars + relevant_train.subpillars\n",
    "    relevant_train[merge_column] = relevant_train[merge_column].apply(lambda x: ';'.join(x)) \n",
    "    \n",
    "    \n",
    "    relevant_train['is_valid'] = False if train else True\n",
    "    \n",
    "    return relevant_train\n",
    "    \n",
    "    "
   ]
  },
  {
   "cell_type": "markdown",
   "id": "6bae3d63",
   "metadata": {},
   "source": [
    "# Use fastai"
   ]
  },
  {
   "cell_type": "code",
   "execution_count": 16,
   "id": "adf86dc5",
   "metadata": {
    "scrolled": true
   },
   "outputs": [],
   "source": [
    "train_df = process_multiclass(train, True, column=column, classes=classes)\n",
    "test_df = process_multiclass(test, False, column=column, classes=classes)\n",
    "df = pd.concat([train_df, test_df])"
   ]
  },
  {
   "cell_type": "code",
   "execution_count": 17,
   "id": "aa7ebe4f",
   "metadata": {},
   "outputs": [
    {
     "data": {
      "text/html": [
       "<div>\n",
       "<style scoped>\n",
       "    .dataframe tbody tr th:only-of-type {\n",
       "        vertical-align: middle;\n",
       "    }\n",
       "\n",
       "    .dataframe tbody tr th {\n",
       "        vertical-align: top;\n",
       "    }\n",
       "\n",
       "    .dataframe thead th {\n",
       "        text-align: right;\n",
       "    }\n",
       "</style>\n",
       "<table border=\"1\" class=\"dataframe\">\n",
       "  <thead>\n",
       "    <tr style=\"text-align: right;\">\n",
       "      <th></th>\n",
       "      <th>entry_id</th>\n",
       "      <th>lead_id</th>\n",
       "      <th>project_id</th>\n",
       "      <th>project_title</th>\n",
       "      <th>analysis_framework_id</th>\n",
       "      <th>excerpt</th>\n",
       "      <th>dropped_excerpt</th>\n",
       "      <th>created_by_id</th>\n",
       "      <th>modified_by_id</th>\n",
       "      <th>verified</th>\n",
       "      <th>verification_last_changed_by_id</th>\n",
       "      <th>sectors</th>\n",
       "      <th>pillars</th>\n",
       "      <th>subpillars</th>\n",
       "      <th>merge</th>\n",
       "      <th>is_valid</th>\n",
       "    </tr>\n",
       "  </thead>\n",
       "  <tbody>\n",
       "    <tr>\n",
       "      <th>0</th>\n",
       "      <td>163664</td>\n",
       "      <td>35315</td>\n",
       "      <td>2028</td>\n",
       "      <td>IMMAP/DFS Syria</td>\n",
       "      <td>1306</td>\n",
       "      <td>Market monitoring by the World Food Programme recorded a 48 per cent increase in the average price of a standard reference food basket between May and June. Food prices are 240 per cent higher than in June last year.</td>\n",
       "      <td>NaN</td>\n",
       "      <td>2232</td>\n",
       "      <td>2232</td>\n",
       "      <td>False</td>\n",
       "      <td>NaN</td>\n",
       "      <td>[Food Security]</td>\n",
       "      <td>[Impact]</td>\n",
       "      <td>[Impact-&gt;Impact On Systems And Services]</td>\n",
       "      <td>Impact;Impact-&gt;Impact On Systems And Services</td>\n",
       "      <td>False</td>\n",
       "    </tr>\n",
       "    <tr>\n",
       "      <th>1</th>\n",
       "      <td>162812</td>\n",
       "      <td>37820</td>\n",
       "      <td>2098</td>\n",
       "      <td>IMMAP/DFS Bangladesh</td>\n",
       "      <td>1306</td>\n",
       "      <td>Quarantine Facilities: ninety-three shelters in Camp 20 Extension are currently operating as a Quarantine Facility for contacts of confirmed cases to support early containment of the outbreak. IOM is working with World Concern/ Medair who are providing dedicated Community Health Workers (CHWs) to carry out contact follow-up and health check-up services.</td>\n",
       "      <td>NaN</td>\n",
       "      <td>657</td>\n",
       "      <td>2233</td>\n",
       "      <td>False</td>\n",
       "      <td>NaN</td>\n",
       "      <td>[Health]</td>\n",
       "      <td>[Capacities &amp; Response]</td>\n",
       "      <td>[Capacities &amp; Response-&gt;International Response]</td>\n",
       "      <td>Capacities &amp; Response;Capacities &amp; Response-&gt;International Response</td>\n",
       "      <td>False</td>\n",
       "    </tr>\n",
       "    <tr>\n",
       "      <th>2</th>\n",
       "      <td>164560</td>\n",
       "      <td>39796</td>\n",
       "      <td>2098</td>\n",
       "      <td>IMMAP/DFS Bangladesh</td>\n",
       "      <td>1306</td>\n",
       "      <td>Within dimensions, markets are broadly operating at high functionality across supply chain indicators (availability of stock and resilience) but at low to moderate capacity in terms of assortment and price volatility.</td>\n",
       "      <td>NaN</td>\n",
       "      <td>1152</td>\n",
       "      <td>1152</td>\n",
       "      <td>False</td>\n",
       "      <td>NaN</td>\n",
       "      <td>[Cross]</td>\n",
       "      <td>[Impact]</td>\n",
       "      <td>[Impact-&gt;Impact On Systems And Services]</td>\n",
       "      <td>Impact;Impact-&gt;Impact On Systems And Services</td>\n",
       "      <td>False</td>\n",
       "    </tr>\n",
       "    <tr>\n",
       "      <th>3</th>\n",
       "      <td>157496</td>\n",
       "      <td>38706</td>\n",
       "      <td>2098</td>\n",
       "      <td>IMMAP/DFS Bangladesh</td>\n",
       "      <td>1306</td>\n",
       "      <td>Frontline aid workers face a heightened risk of COVID-19 infection.Since September 2019, the Government of Bangladesh has suspended 3G and 4G mobile networks and internet access in the Rohingya settlements. These restrictions have hindered the rapid dissemination of important public health messages related to COVID-19 targeting both Rohingya refugees and Bangladeshis, as well as their ability to stay connected with family and loved ones</td>\n",
       "      <td>NaN</td>\n",
       "      <td>2233</td>\n",
       "      <td>2233</td>\n",
       "      <td>False</td>\n",
       "      <td>NaN</td>\n",
       "      <td>[Health, Logistics]</td>\n",
       "      <td>[People At Risk, Impact]</td>\n",
       "      <td>[Impact-&gt;Driver/Aggravating Factors, People At Risk-&gt;Risk And Vulnerabilities, Impact-&gt;Impact On Systems And Services, Impact-&gt;Impact On People]</td>\n",
       "      <td>People At Risk;Impact;Impact-&gt;Driver/Aggravating Factors;People At Risk-&gt;Risk And Vulnerabilities;Impact-&gt;Impact On Systems And Services;Impact-&gt;Impact On People</td>\n",
       "      <td>False</td>\n",
       "    </tr>\n",
       "    <tr>\n",
       "      <th>5</th>\n",
       "      <td>162971</td>\n",
       "      <td>37820</td>\n",
       "      <td>2098</td>\n",
       "      <td>IMMAP/DFS Bangladesh</td>\n",
       "      <td>1306</td>\n",
       "      <td>IOM MHPSS teams supported in coordinating and providing trainings on Protection from Sexual Exploitations and Abuse (PSEA), basic psychological skills from ITC Interpreters, mental health and psycho-social support during COVID-19 pandemic. Stress management, and the Mental Health Gap Action Programme (mhGAP) during the month seeking to build the capacity of MHPSS volunteers, teachers, doctors and community leaders. A total of 214 participants benefitted from the trainings.</td>\n",
       "      <td>NaN</td>\n",
       "      <td>657</td>\n",
       "      <td>2233</td>\n",
       "      <td>False</td>\n",
       "      <td>NaN</td>\n",
       "      <td>[Health]</td>\n",
       "      <td>[Capacities &amp; Response]</td>\n",
       "      <td>[Capacities &amp; Response-&gt;Number Of People Reached, Capacities &amp; Response-&gt;International Response]</td>\n",
       "      <td>Capacities &amp; Response;Capacities &amp; Response-&gt;Number Of People Reached;Capacities &amp; Response-&gt;International Response</td>\n",
       "      <td>False</td>\n",
       "    </tr>\n",
       "    <tr>\n",
       "      <th>...</th>\n",
       "      <td>...</td>\n",
       "      <td>...</td>\n",
       "      <td>...</td>\n",
       "      <td>...</td>\n",
       "      <td>...</td>\n",
       "      <td>...</td>\n",
       "      <td>...</td>\n",
       "      <td>...</td>\n",
       "      <td>...</td>\n",
       "      <td>...</td>\n",
       "      <td>...</td>\n",
       "      <td>...</td>\n",
       "      <td>...</td>\n",
       "      <td>...</td>\n",
       "      <td>...</td>\n",
       "      <td>...</td>\n",
       "    </tr>\n",
       "    <tr>\n",
       "      <th>90643</th>\n",
       "      <td>283333</td>\n",
       "      <td>51241</td>\n",
       "      <td>2170</td>\n",
       "      <td>IMMAP/DFS Nigeria</td>\n",
       "      <td>1306</td>\n",
       "      <td>[16th Mar 2021,North east Nigeria]Levels of food insecurity and malnutrition across the BAY states remain of public-health significance, and are predicted to worsen, with conflict causing mass population displacement, sub-optimal access to primary health care services, poor hygiene and sanitation conditions (including poor child feeding and care environments) and high food prices being the main drivers. The food security situation has deteriorated significantly in 2020.</td>\n",
       "      <td>NaN</td>\n",
       "      <td>2230</td>\n",
       "      <td>1152</td>\n",
       "      <td>True</td>\n",
       "      <td>1152.0</td>\n",
       "      <td>[Food Security, Nutrition]</td>\n",
       "      <td>[Humanitarian Conditions, People At Risk, Impact]</td>\n",
       "      <td>[Impact-&gt;Driver/Aggravating Factors, People At Risk-&gt;Risk And Vulnerabilities, Humanitarian Conditions-&gt;Physical And Mental Well Being]</td>\n",
       "      <td>Humanitarian Conditions;People At Risk;Impact;Impact-&gt;Driver/Aggravating Factors;People At Risk-&gt;Risk And Vulnerabilities;Humanitarian Conditions-&gt;Physical And Mental Well Being</td>\n",
       "      <td>False</td>\n",
       "    </tr>\n",
       "    <tr>\n",
       "      <th>90647</th>\n",
       "      <td>282475</td>\n",
       "      <td>51241</td>\n",
       "      <td>2170</td>\n",
       "      <td>IMMAP/DFS Nigeria</td>\n",
       "      <td>1306</td>\n",
       "      <td>[16th Mar 2021,North east Nigeria] Lower availability of labour due to the conflict and the pandemic, in addition to higher prices and security-based restrictions on transportation of nitrate-based fertilizer, have reduced production. The government of Borno State, the epicentre of the conflict, estimates that the insurgency has caused $6 billion worth of destruction in the State .</td>\n",
       "      <td>NaN</td>\n",
       "      <td>2230</td>\n",
       "      <td>1152</td>\n",
       "      <td>True</td>\n",
       "      <td>1152.0</td>\n",
       "      <td>[Agriculture, Livelihoods]</td>\n",
       "      <td>[Humanitarian Conditions, Impact]</td>\n",
       "      <td>[Impact-&gt;Driver/Aggravating Factors, Humanitarian Conditions-&gt;Living Standards, Impact-&gt;Impact On Systems And Services]</td>\n",
       "      <td>Humanitarian Conditions;Impact;Impact-&gt;Driver/Aggravating Factors;Humanitarian Conditions-&gt;Living Standards;Impact-&gt;Impact On Systems And Services</td>\n",
       "      <td>False</td>\n",
       "    </tr>\n",
       "    <tr>\n",
       "      <th>90648</th>\n",
       "      <td>282949</td>\n",
       "      <td>51241</td>\n",
       "      <td>2170</td>\n",
       "      <td>IMMAP/DFS Nigeria</td>\n",
       "      <td>1306</td>\n",
       "      <td>[16th Mar 2021,North east Nigeria]The governments of BAY states imposed a three-week lockdown from mid-April 2020 to slow the spread of COVID-19. The measures, which comprised restrictions on movement and closures of markets and inter-state borders, severely impaired delivery and access to critical services by government and humanitarian partners. These restrictions seem to have contained the spread of COVID-19 into the highly congested IDP camps and communities, thus likely preventing significant loss of lives</td>\n",
       "      <td>NaN</td>\n",
       "      <td>2230</td>\n",
       "      <td>26</td>\n",
       "      <td>True</td>\n",
       "      <td>26.0</td>\n",
       "      <td>[Cross]</td>\n",
       "      <td>[Impact]</td>\n",
       "      <td>[Impact-&gt;Impact On Systems And Services]</td>\n",
       "      <td>Impact;Impact-&gt;Impact On Systems And Services</td>\n",
       "      <td>False</td>\n",
       "    </tr>\n",
       "    <tr>\n",
       "      <th>90649</th>\n",
       "      <td>283375</td>\n",
       "      <td>51241</td>\n",
       "      <td>2170</td>\n",
       "      <td>IMMAP/DFS Nigeria</td>\n",
       "      <td>1306</td>\n",
       "      <td>[16th Mar 2021,North east Nigeria] Impact on systems and services: Insecurity due to NSAG activities continues to limit the presence of civilian authorities outside state capitals, especially in northern Borno State, leaving people reliant on humanitarian aid. Basic social infrastructure and services including the police and judiciary, access to health care, education and livelihoods, and civilian personnel such as teachers, nurses, doctors and civil administrators are lacking in most locations. However, there is more frequent presence of local government officials in some LGAs (mostly in ...</td>\n",
       "      <td>NaN</td>\n",
       "      <td>2230</td>\n",
       "      <td>1152</td>\n",
       "      <td>True</td>\n",
       "      <td>1152.0</td>\n",
       "      <td>[Health, Education, Protection, Livelihoods]</td>\n",
       "      <td>[Humanitarian Conditions, Impact]</td>\n",
       "      <td>[Impact-&gt;Driver/Aggravating Factors, Humanitarian Conditions-&gt;Living Standards]</td>\n",
       "      <td>Humanitarian Conditions;Impact;Impact-&gt;Driver/Aggravating Factors;Humanitarian Conditions-&gt;Living Standards</td>\n",
       "      <td>False</td>\n",
       "    </tr>\n",
       "    <tr>\n",
       "      <th>90651</th>\n",
       "      <td>268842</td>\n",
       "      <td>49945</td>\n",
       "      <td>2311</td>\n",
       "      <td>IMMAP/DFS Colombia</td>\n",
       "      <td>1306</td>\n",
       "      <td>La alternancia no es solo plantear cuáles niños van cuáles días. Detrás hay un trabajo complejo con las instituciones, de recursos y de adecuaciones. Hay que pensarlo de forma pedagógica para que estos espacios permitan suplir las carencias generadas por la emergencia.</td>\n",
       "      <td>La alternancia no es solo plantear cuáles niños van cuáles días. Detrás hay un trabajo complejo con las instituciones, de recursos y de adecuaciones. Hay que pensarlo de forma pedagógica para que estos espacios permitan suplir las carencias generadas por la emergencia.</td>\n",
       "      <td>2374</td>\n",
       "      <td>2374</td>\n",
       "      <td>True</td>\n",
       "      <td>1403.0</td>\n",
       "      <td>[Education]</td>\n",
       "      <td>[Impact]</td>\n",
       "      <td>[Impact-&gt;Impact On Systems And Services]</td>\n",
       "      <td>Impact;Impact-&gt;Impact On Systems And Services</td>\n",
       "      <td>False</td>\n",
       "    </tr>\n",
       "  </tbody>\n",
       "</table>\n",
       "<p>49319 rows × 16 columns</p>\n",
       "</div>"
      ],
      "text/plain": [
       "       entry_id  lead_id  project_id         project_title  \\\n",
       "0        163664    35315        2028       IMMAP/DFS Syria   \n",
       "1        162812    37820        2098  IMMAP/DFS Bangladesh   \n",
       "2        164560    39796        2098  IMMAP/DFS Bangladesh   \n",
       "3        157496    38706        2098  IMMAP/DFS Bangladesh   \n",
       "5        162971    37820        2098  IMMAP/DFS Bangladesh   \n",
       "...         ...      ...         ...                   ...   \n",
       "90643    283333    51241        2170     IMMAP/DFS Nigeria   \n",
       "90647    282475    51241        2170     IMMAP/DFS Nigeria   \n",
       "90648    282949    51241        2170     IMMAP/DFS Nigeria   \n",
       "90649    283375    51241        2170     IMMAP/DFS Nigeria   \n",
       "90651    268842    49945        2311    IMMAP/DFS Colombia   \n",
       "\n",
       "       analysis_framework_id  \\\n",
       "0                       1306   \n",
       "1                       1306   \n",
       "2                       1306   \n",
       "3                       1306   \n",
       "5                       1306   \n",
       "...                      ...   \n",
       "90643                   1306   \n",
       "90647                   1306   \n",
       "90648                   1306   \n",
       "90649                   1306   \n",
       "90651                   1306   \n",
       "\n",
       "                                                                                                                                                                                                                                                                                                                                                                                                                                                                                                                                                                                                                       excerpt  \\\n",
       "0                                                                                                                                                                                                                                                                                                                                                                                                     Market monitoring by the World Food Programme recorded a 48 per cent increase in the average price of a standard reference food basket between May and June. Food prices are 240 per cent higher than in June last year.   \n",
       "1                                                                                                                                                                                                                                                          Quarantine Facilities: ninety-three shelters in Camp 20 Extension are currently operating as a Quarantine Facility for contacts of confirmed cases to support early containment of the outbreak. IOM is working with World Concern/ Medair who are providing dedicated Community Health Workers (CHWs) to carry out contact follow-up and health check-up services.   \n",
       "2                                                                                                                                                                                                                                                                                                                                                                                                    Within dimensions, markets are broadly operating at high functionality across supply chain indicators (availability of stock and resilience) but at low to moderate capacity in terms of assortment and price volatility.   \n",
       "3                                                                                                                                                                     Frontline aid workers face a heightened risk of COVID-19 infection.Since September 2019, the Government of Bangladesh has suspended 3G and 4G mobile networks and internet access in the Rohingya settlements. These restrictions have hindered the rapid dissemination of important public health messages related to COVID-19 targeting both Rohingya refugees and Bangladeshis, as well as their ability to stay connected with family and loved ones   \n",
       "5                                                                                                                                IOM MHPSS teams supported in coordinating and providing trainings on Protection from Sexual Exploitations and Abuse (PSEA), basic psychological skills from ITC Interpreters, mental health and psycho-social support during COVID-19 pandemic. Stress management, and the Mental Health Gap Action Programme (mhGAP) during the month seeking to build the capacity of MHPSS volunteers, teachers, doctors and community leaders. A total of 214 participants benefitted from the trainings.   \n",
       "...                                                                                                                                                                                                                                                                                                                                                                                                                                                                                                                                                                                                                        ...   \n",
       "90643                                                                                                                               [16th Mar 2021,North east Nigeria]Levels of food insecurity and malnutrition across the BAY states remain of public-health significance, and are predicted to worsen, with conflict causing mass population displacement, sub-optimal access to primary health care services, poor hygiene and sanitation conditions (including poor child feeding and care environments) and high food prices being the main drivers. The food security situation has deteriorated significantly in 2020.   \n",
       "90647                                                                                                                                                                                                                         [16th Mar 2021,North east Nigeria] Lower availability of labour due to the conflict and the pandemic, in addition to higher prices and security-based restrictions on transportation of nitrate-based fertilizer, have reduced production. The government of Borno State, the epicentre of the conflict, estimates that the insurgency has caused $6 billion worth of destruction in the State .   \n",
       "90648                                                                                     [16th Mar 2021,North east Nigeria]The governments of BAY states imposed a three-week lockdown from mid-April 2020 to slow the spread of COVID-19. The measures, which comprised restrictions on movement and closures of markets and inter-state borders, severely impaired delivery and access to critical services by government and humanitarian partners. These restrictions seem to have contained the spread of COVID-19 into the highly congested IDP camps and communities, thus likely preventing significant loss of lives   \n",
       "90649  [16th Mar 2021,North east Nigeria] Impact on systems and services: Insecurity due to NSAG activities continues to limit the presence of civilian authorities outside state capitals, especially in northern Borno State, leaving people reliant on humanitarian aid. Basic social infrastructure and services including the police and judiciary, access to health care, education and livelihoods, and civilian personnel such as teachers, nurses, doctors and civil administrators are lacking in most locations. However, there is more frequent presence of local government officials in some LGAs (mostly in ...   \n",
       "90651                                                                                                                                                                                                                                                                                                                                            La alternancia no es solo plantear cuáles niños van cuáles días. Detrás hay un trabajo complejo con las instituciones, de recursos y de adecuaciones. Hay que pensarlo de forma pedagógica para que estos espacios permitan suplir las carencias generadas por la emergencia.   \n",
       "\n",
       "                                                                                                                                                                                                                                                                     dropped_excerpt  \\\n",
       "0                                                                                                                                                                                                                                                                                NaN   \n",
       "1                                                                                                                                                                                                                                                                                NaN   \n",
       "2                                                                                                                                                                                                                                                                                NaN   \n",
       "3                                                                                                                                                                                                                                                                                NaN   \n",
       "5                                                                                                                                                                                                                                                                                NaN   \n",
       "...                                                                                                                                                                                                                                                                              ...   \n",
       "90643                                                                                                                                                                                                                                                                            NaN   \n",
       "90647                                                                                                                                                                                                                                                                            NaN   \n",
       "90648                                                                                                                                                                                                                                                                            NaN   \n",
       "90649                                                                                                                                                                                                                                                                            NaN   \n",
       "90651  La alternancia no es solo plantear cuáles niños van cuáles días. Detrás hay un trabajo complejo con las instituciones, de recursos y de adecuaciones. Hay que pensarlo de forma pedagógica para que estos espacios permitan suplir las carencias generadas por la emergencia.   \n",
       "\n",
       "       created_by_id  modified_by_id  verified  \\\n",
       "0               2232            2232     False   \n",
       "1                657            2233     False   \n",
       "2               1152            1152     False   \n",
       "3               2233            2233     False   \n",
       "5                657            2233     False   \n",
       "...              ...             ...       ...   \n",
       "90643           2230            1152      True   \n",
       "90647           2230            1152      True   \n",
       "90648           2230              26      True   \n",
       "90649           2230            1152      True   \n",
       "90651           2374            2374      True   \n",
       "\n",
       "       verification_last_changed_by_id  \\\n",
       "0                                  NaN   \n",
       "1                                  NaN   \n",
       "2                                  NaN   \n",
       "3                                  NaN   \n",
       "5                                  NaN   \n",
       "...                                ...   \n",
       "90643                           1152.0   \n",
       "90647                           1152.0   \n",
       "90648                             26.0   \n",
       "90649                           1152.0   \n",
       "90651                           1403.0   \n",
       "\n",
       "                                            sectors  \\\n",
       "0                                   [Food Security]   \n",
       "1                                          [Health]   \n",
       "2                                           [Cross]   \n",
       "3                               [Health, Logistics]   \n",
       "5                                          [Health]   \n",
       "...                                             ...   \n",
       "90643                    [Food Security, Nutrition]   \n",
       "90647                    [Agriculture, Livelihoods]   \n",
       "90648                                       [Cross]   \n",
       "90649  [Health, Education, Protection, Livelihoods]   \n",
       "90651                                   [Education]   \n",
       "\n",
       "                                                 pillars  \\\n",
       "0                                               [Impact]   \n",
       "1                                [Capacities & Response]   \n",
       "2                                               [Impact]   \n",
       "3                               [People At Risk, Impact]   \n",
       "5                                [Capacities & Response]   \n",
       "...                                                  ...   \n",
       "90643  [Humanitarian Conditions, People At Risk, Impact]   \n",
       "90647                  [Humanitarian Conditions, Impact]   \n",
       "90648                                           [Impact]   \n",
       "90649                  [Humanitarian Conditions, Impact]   \n",
       "90651                                           [Impact]   \n",
       "\n",
       "                                                                                                                                             subpillars  \\\n",
       "0                                                                                                              [Impact->Impact On Systems And Services]   \n",
       "1                                                                                                       [Capacities & Response->International Response]   \n",
       "2                                                                                                              [Impact->Impact On Systems And Services]   \n",
       "3      [Impact->Driver/Aggravating Factors, People At Risk->Risk And Vulnerabilities, Impact->Impact On Systems And Services, Impact->Impact On People]   \n",
       "5                                                      [Capacities & Response->Number Of People Reached, Capacities & Response->International Response]   \n",
       "...                                                                                                                                                 ...   \n",
       "90643           [Impact->Driver/Aggravating Factors, People At Risk->Risk And Vulnerabilities, Humanitarian Conditions->Physical And Mental Well Being]   \n",
       "90647                           [Impact->Driver/Aggravating Factors, Humanitarian Conditions->Living Standards, Impact->Impact On Systems And Services]   \n",
       "90648                                                                                                          [Impact->Impact On Systems And Services]   \n",
       "90649                                                                   [Impact->Driver/Aggravating Factors, Humanitarian Conditions->Living Standards]   \n",
       "90651                                                                                                          [Impact->Impact On Systems And Services]   \n",
       "\n",
       "                                                                                                                                                                                   merge  \\\n",
       "0                                                                                                                                          Impact;Impact->Impact On Systems And Services   \n",
       "1                                                                                                                    Capacities & Response;Capacities & Response->International Response   \n",
       "2                                                                                                                                          Impact;Impact->Impact On Systems And Services   \n",
       "3                      People At Risk;Impact;Impact->Driver/Aggravating Factors;People At Risk->Risk And Vulnerabilities;Impact->Impact On Systems And Services;Impact->Impact On People   \n",
       "5                                                                    Capacities & Response;Capacities & Response->Number Of People Reached;Capacities & Response->International Response   \n",
       "...                                                                                                                                                                                  ...   \n",
       "90643  Humanitarian Conditions;People At Risk;Impact;Impact->Driver/Aggravating Factors;People At Risk->Risk And Vulnerabilities;Humanitarian Conditions->Physical And Mental Well Being   \n",
       "90647                                 Humanitarian Conditions;Impact;Impact->Driver/Aggravating Factors;Humanitarian Conditions->Living Standards;Impact->Impact On Systems And Services   \n",
       "90648                                                                                                                                      Impact;Impact->Impact On Systems And Services   \n",
       "90649                                                                        Humanitarian Conditions;Impact;Impact->Driver/Aggravating Factors;Humanitarian Conditions->Living Standards   \n",
       "90651                                                                                                                                      Impact;Impact->Impact On Systems And Services   \n",
       "\n",
       "       is_valid  \n",
       "0         False  \n",
       "1         False  \n",
       "2         False  \n",
       "3         False  \n",
       "5         False  \n",
       "...         ...  \n",
       "90643     False  \n",
       "90647     False  \n",
       "90648     False  \n",
       "90649     False  \n",
       "90651     False  \n",
       "\n",
       "[49319 rows x 16 columns]"
      ]
     },
     "execution_count": 17,
     "metadata": {},
     "output_type": "execute_result"
    }
   ],
   "source": [
    "train_df"
   ]
  },
  {
   "cell_type": "code",
   "execution_count": 20,
   "id": "8160d64b",
   "metadata": {
    "scrolled": true
   },
   "outputs": [
    {
     "data": {
      "text/html": [],
      "text/plain": [
       "<IPython.core.display.HTML object>"
      ]
     },
     "metadata": {},
     "output_type": "display_data"
    },
    {
     "name": "stderr",
     "output_type": "stream",
     "text": [
      "/home/ec2-user/anaconda3/envs/pytorch_latest_p36/lib/python3.6/site-packages/numpy/core/_asarray.py:83: VisibleDeprecationWarning: Creating an ndarray from ragged nested sequences (which is a list-or-tuple of lists-or-tuples-or ndarrays with different lengths or shapes) is deprecated. If you meant to do this, you must specify 'dtype=object' when creating the ndarray\n",
      "  return array(a, dtype, copy=False, order=order)\n"
     ]
    }
   ],
   "source": [
    "dls = TextDataLoaders.from_df(\n",
    "    df,\n",
    "    text_col=text_column,\n",
    "    label_col=merge_column,\n",
    "    label_delim=';',\n",
    "    valid_col='is_valid',\n",
    "    is_lm = False,    # Mention explicitly that this dataloader is meant for language model\n",
    "    seq_len = 72,     # Pick a sequence length i.e. how many words to feed through the RNN at once\n",
    "    bs = 64,     # Specify the batch size for the dataloader\n",
    "    y_block=MultiCategoryBlock,\n",
    ")\n",
    "learn = text_classifier_learner(\n",
    "    dls, \n",
    "    AWD_LSTM, \n",
    "    drop_mult=0.5, \n",
    "    metrics=[\n",
    "        accuracy_multi, \n",
    "        RecallMulti(thresh=0.35), \n",
    "        PrecisionMulti(thresh=0.35), \n",
    "        F1ScoreMulti(thresh=0.35), \n",
    "        RocAucMulti()\n",
    "    ]\n",
    ")\n",
    "classes = learn.dls.vocab[1]"
   ]
  },
  {
   "cell_type": "code",
   "execution_count": null,
   "id": "3c88b4a0",
   "metadata": {},
   "outputs": [
    {
     "data": {
      "text/html": [
       "<table border=\"1\" class=\"dataframe\">\n",
       "  <thead>\n",
       "    <tr style=\"text-align: left;\">\n",
       "      <th>epoch</th>\n",
       "      <th>train_loss</th>\n",
       "      <th>valid_loss</th>\n",
       "      <th>accuracy_multi</th>\n",
       "      <th>recall_score</th>\n",
       "      <th>precision_score</th>\n",
       "      <th>f1_score</th>\n",
       "      <th>roc_auc_score</th>\n",
       "      <th>time</th>\n",
       "    </tr>\n",
       "  </thead>\n",
       "  <tbody>\n",
       "    <tr>\n",
       "      <td>0</td>\n",
       "      <td>0.241613</td>\n",
       "      <td>0.235420</td>\n",
       "      <td>0.907648</td>\n",
       "      <td>0.244468</td>\n",
       "      <td>0.357179</td>\n",
       "      <td>0.246176</td>\n",
       "      <td>0.769242</td>\n",
       "      <td>02:29</td>\n",
       "    </tr>\n",
       "  </tbody>\n",
       "</table>"
      ],
      "text/plain": [
       "<IPython.core.display.HTML object>"
      ]
     },
     "metadata": {},
     "output_type": "display_data"
    },
    {
     "name": "stderr",
     "output_type": "stream",
     "text": [
      "/home/ec2-user/anaconda3/envs/pytorch_latest_p36/lib/python3.6/site-packages/sklearn/metrics/_classification.py:1245: UndefinedMetricWarning: Precision is ill-defined and being set to 0.0 in labels with no predicted samples. Use `zero_division` parameter to control this behavior.\n",
      "  _warn_prf(average, modifier, msg_start, len(result))\n"
     ]
    },
    {
     "data": {
      "text/html": [
       "\n",
       "    <div>\n",
       "        <style>\n",
       "            /* Turns off some styling */\n",
       "            progress {\n",
       "                /* gets rid of default border in Firefox and Opera. */\n",
       "                border: none;\n",
       "                /* Needs to be in here for Safari polyfill so background images work as expected. */\n",
       "                background-size: auto;\n",
       "            }\n",
       "            .progress-bar-interrupted, .progress-bar-interrupted::-webkit-progress-bar {\n",
       "                background: #F44336;\n",
       "            }\n",
       "        </style>\n",
       "      <progress value='1' class='' max='3' style='width:300px; height:20px; vertical-align: middle;'></progress>\n",
       "      33.33% [1/3 06:24<12:48]\n",
       "    </div>\n",
       "    \n",
       "<table border=\"1\" class=\"dataframe\">\n",
       "  <thead>\n",
       "    <tr style=\"text-align: left;\">\n",
       "      <th>epoch</th>\n",
       "      <th>train_loss</th>\n",
       "      <th>valid_loss</th>\n",
       "      <th>accuracy_multi</th>\n",
       "      <th>recall_score</th>\n",
       "      <th>precision_score</th>\n",
       "      <th>f1_score</th>\n",
       "      <th>roc_auc_score</th>\n",
       "      <th>time</th>\n",
       "    </tr>\n",
       "  </thead>\n",
       "  <tbody>\n",
       "    <tr>\n",
       "      <td>0</td>\n",
       "      <td>0.213281</td>\n",
       "      <td>0.210538</td>\n",
       "      <td>0.915581</td>\n",
       "      <td>0.321233</td>\n",
       "      <td>0.485350</td>\n",
       "      <td>0.355466</td>\n",
       "      <td>0.834945</td>\n",
       "      <td>06:24</td>\n",
       "    </tr>\n",
       "  </tbody>\n",
       "</table><p>\n",
       "\n",
       "    <div>\n",
       "        <style>\n",
       "            /* Turns off some styling */\n",
       "            progress {\n",
       "                /* gets rid of default border in Firefox and Opera. */\n",
       "                border: none;\n",
       "                /* Needs to be in here for Safari polyfill so background images work as expected. */\n",
       "                background-size: auto;\n",
       "            }\n",
       "            .progress-bar-interrupted, .progress-bar-interrupted::-webkit-progress-bar {\n",
       "                background: #F44336;\n",
       "            }\n",
       "        </style>\n",
       "      <progress value='586' class='' max='770' style='width:300px; height:20px; vertical-align: middle;'></progress>\n",
       "      76.10% [586/770 04:39<01:27 0.2008]\n",
       "    </div>\n",
       "    "
      ],
      "text/plain": [
       "<IPython.core.display.HTML object>"
      ]
     },
     "metadata": {},
     "output_type": "display_data"
    },
    {
     "name": "stderr",
     "output_type": "stream",
     "text": [
      "/home/ec2-user/anaconda3/envs/pytorch_latest_p36/lib/python3.6/site-packages/sklearn/metrics/_classification.py:1245: UndefinedMetricWarning: Precision is ill-defined and being set to 0.0 in labels with no predicted samples. Use `zero_division` parameter to control this behavior.\n",
      "  _warn_prf(average, modifier, msg_start, len(result))\n"
     ]
    }
   ],
   "source": [
    "learn.fine_tune(3, 0.02)"
   ]
  },
  {
   "cell_type": "code",
   "execution_count": null,
   "id": "369ef0b1",
   "metadata": {},
   "outputs": [],
   "source": [
    "def get_threshold_metrics(preds, targets, num_thresholds):\n",
    "    thresholds = [x/num_thresholds for x in range(num_thresholds)]\n",
    "\n",
    "    recalls = []\n",
    "    precisions = []\n",
    "    f1_scores = []\n",
    "\n",
    "    for threshold in thresholds:\n",
    "        t_preds = (preds.view(-1).numpy() > threshold).astype(int)\n",
    "        t_targets = targets.view(-1).numpy()\n",
    "        precisions.append(precision_score(t_targets, t_preds))\n",
    "        recalls.append(recall_score(t_targets, t_preds))    \n",
    "        f1_scores.append(f1_score(t_targets, t_preds))        \n",
    "        \n",
    "    all_metrics = pd.DataFrame(\n",
    "        {\n",
    "            'threshold': thresholds,\n",
    "            'recall': recalls,\n",
    "            'precision': precisions,\n",
    "            'f1_score': f1_scores\n",
    "        }\n",
    "    ).set_index('threshold', drop=True)\n",
    "\n",
    "    return all_metrics"
   ]
  },
  {
   "cell_type": "code",
   "execution_count": null,
   "id": "757e6bba",
   "metadata": {},
   "outputs": [],
   "source": [
    "def get_best_threshold(learner, num_thresholds=20):\n",
    "    train_preds, train_targets = learn.get_preds(0)\n",
    "    train_metrics = get_threshold_metrics(train_preds, train_targets, num_thresholds)\n",
    "    best_threshold = train_metrics.f1_score.idxmax()\n",
    "    \n",
    "    return best_threshold, train_metrics"
   ]
  },
  {
   "cell_type": "code",
   "execution_count": null,
   "id": "36c29276",
   "metadata": {},
   "outputs": [],
   "source": []
  },
  {
   "cell_type": "code",
   "execution_count": null,
   "id": "cf3d7aa4",
   "metadata": {},
   "outputs": [],
   "source": [
    "def get_metrics(preds, targets):\n",
    "    indexes = []\n",
    "    recalls = []\n",
    "    precisions = []\n",
    "    f1_scores = []\n",
    "    counts = []\n",
    "    \n",
    "    for i, class_ in enumerate(classes):\n",
    "        class_preds = preds[:, i]\n",
    "        class_targets = targets[:, i]\n",
    "        \n",
    "        indexes.append(class_)\n",
    "        precisions.append(precision_score(class_targets, class_preds))\n",
    "        recalls.append(recall_score(class_targets, class_preds))    \n",
    "        f1_scores.append(f1_score(class_targets, class_preds))  \n",
    "        counts.append(int(class_targets.sum()))\n",
    "        \n",
    "    indexes.append('all')\n",
    "    precisions.append(precision_score(targets.view(-1), preds.view(-1)))\n",
    "    recalls.append(recall_score(targets.view(-1), preds.view(-1)))    \n",
    "    \n",
    "    f1_scores.append(f1_score(targets.view(-1), preds.view(-1)))  \n",
    "    counts.append(int(targets.view(-1).sum()))\n",
    "\n",
    "\n",
    "\n",
    "    \n",
    "    all_metrics = pd.DataFrame(\n",
    "        {\n",
    "            'class': indexes,\n",
    "            'recall': recalls,\n",
    "            'precision': precisions,\n",
    "            'f1_score': f1_scores,\n",
    "            'counts': counts\n",
    "        }\n",
    "    ).set_index('class', drop=True)\n",
    "    \n",
    "    return all_metrics"
   ]
  },
  {
   "cell_type": "code",
   "execution_count": null,
   "id": "a3d96d11",
   "metadata": {},
   "outputs": [],
   "source": [
    "def evaluate(learner, threshold):\n",
    "    test_preds, test_targets = learn.get_preds(1)\n",
    "    "
   ]
  },
  {
   "cell_type": "code",
   "execution_count": null,
   "id": "70a21543",
   "metadata": {
    "scrolled": true
   },
   "outputs": [],
   "source": [
    "best_threshold, train_metrics = get_best_threshold(learn)\n",
    "print(best_threshold)"
   ]
  },
  {
   "cell_type": "code",
   "execution_count": null,
   "id": "b3d018f5",
   "metadata": {
    "scrolled": true
   },
   "outputs": [],
   "source": [
    "train_metrics"
   ]
  },
  {
   "cell_type": "code",
   "execution_count": null,
   "id": "347133a0",
   "metadata": {},
   "outputs": [],
   "source": [
    "test_preds, test_targets = learn.get_preds(1)\n",
    "test_discrete_preds = (test_preds > best_threshold).int()\n",
    "test_discrete_targets = test_targets.int()"
   ]
  },
  {
   "cell_type": "code",
   "execution_count": null,
   "id": "cde76362",
   "metadata": {},
   "outputs": [],
   "source": [
    "test_preds"
   ]
  },
  {
   "cell_type": "code",
   "execution_count": null,
   "id": "411cf542",
   "metadata": {
    "scrolled": true
   },
   "outputs": [],
   "source": [
    "test_targets"
   ]
  },
  {
   "cell_type": "code",
   "execution_count": null,
   "id": "bbd33224",
   "metadata": {},
   "outputs": [],
   "source": [
    "count = defaultdict(int)\n",
    "a = test_df.pillars.apply(lambda x: x.split(';'))\n",
    "for x in a:\n",
    "    for y in x:\n",
    "        count[y] += 1"
   ]
  },
  {
   "cell_type": "code",
   "execution_count": null,
   "id": "d5da6a25",
   "metadata": {
    "scrolled": false
   },
   "outputs": [],
   "source": [
    "multilabel_confusion_matrix(test_discrete_preds, test_discrete_targets, samplewise=False)"
   ]
  },
  {
   "cell_type": "code",
   "execution_count": null,
   "id": "3c1200aa",
   "metadata": {},
   "outputs": [],
   "source": [
    "multi_label_metrics = get_metrics(test_discrete_preds,test_discrete_targets)"
   ]
  },
  {
   "cell_type": "code",
   "execution_count": null,
   "id": "fd347758",
   "metadata": {
    "scrolled": true
   },
   "outputs": [],
   "source": [
    "multi_label_metrics"
   ]
  },
  {
   "cell_type": "code",
   "execution_count": null,
   "id": "4c6ff001",
   "metadata": {
    "scrolled": false
   },
   "outputs": [],
   "source": [
    "multi_label_metrics.plot(figsize=(20, 10), xticks=range(len(classes)+1), yticks=[x/10 for x in range(11)], ylim=(0, 1), grid=True)"
   ]
  },
  {
   "cell_type": "code",
   "execution_count": null,
   "id": "7a0d329b",
   "metadata": {},
   "outputs": [],
   "source": [
    "base = Path('/home/ec2-user/SageMaker/experiments-dfs/models/fastai/results')"
   ]
  },
  {
   "cell_type": "code",
   "execution_count": null,
   "id": "6a92a11b",
   "metadata": {},
   "outputs": [],
   "source": [
    "with open(base / 'multi_label_metrics.pickle', 'wb') as f:\n",
    "    pickle.dump(multi_label_metrics, f)"
   ]
  },
  {
   "cell_type": "markdown",
   "id": "49e7c18b",
   "metadata": {},
   "source": [
    "# Analysis"
   ]
  },
  {
   "cell_type": "code",
   "execution_count": null,
   "id": "63350651",
   "metadata": {},
   "outputs": [],
   "source": [
    "tp = test_discrete_preds\n",
    "tt = test_discrete_targets"
   ]
  },
  {
   "cell_type": "code",
   "execution_count": null,
   "id": "6a4582c3",
   "metadata": {
    "scrolled": true
   },
   "outputs": [],
   "source": [
    "test_df"
   ]
  },
  {
   "cell_type": "code",
   "execution_count": null,
   "id": "027a35b9",
   "metadata": {},
   "outputs": [],
   "source": [
    "start = 0"
   ]
  },
  {
   "cell_type": "code",
   "execution_count": null,
   "id": "f8c791e9",
   "metadata": {
    "scrolled": false
   },
   "outputs": [],
   "source": [
    "for sentence, sector,p, t, in zip(\n",
    "    test_df.sentence_text.iloc[start:], \n",
    "    test_df.sector_ids.iloc[start:], \n",
    "    tp[start:], \n",
    "    tt[start:]\n",
    "):\n",
    "    if 1 or list(p) != list(t):\n",
    "        print(sentence)\n",
    "        t = [classes[i] for i, x in enumerate(t) if x]\n",
    "        print('Expected:', ', '.join(t))\n",
    "        p = [classes[i] for i, x in enumerate(p) if x]\n",
    "        print('Predicted:', ', '.join(p))\n",
    "    else:\n",
    "        continue\n",
    "    \n",
    "    a = input()\n",
    "    if a == 's':\n",
    "        break\n",
    "    "
   ]
  },
  {
   "cell_type": "code",
   "execution_count": null,
   "id": "06502e8a",
   "metadata": {},
   "outputs": [],
   "source": []
  }
 ],
 "metadata": {
  "kernelspec": {
   "display_name": "conda_pytorch_latest_p36",
   "language": "python",
   "name": "conda_pytorch_latest_p36"
  },
  "language_info": {
   "codemirror_mode": {
    "name": "ipython",
    "version": 3
   },
   "file_extension": ".py",
   "mimetype": "text/x-python",
   "name": "python",
   "nbconvert_exporter": "python",
   "pygments_lexer": "ipython3",
   "version": "3.6.13"
  }
 },
 "nbformat": 4,
 "nbformat_minor": 5
}
