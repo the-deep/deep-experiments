{
 "cells": [
  {
   "cell_type": "markdown",
   "id": "4b18614e",
   "metadata": {},
   "source": [
    "Using kernel `conda_pytorch_latest_p36`"
   ]
  },
  {
   "cell_type": "code",
   "execution_count": 1,
   "id": "96c08d5f",
   "metadata": {
    "scrolled": true
   },
   "outputs": [],
   "source": [
    "# !pip install fastai\n",
    "# !pip install cloudpathlib"
   ]
  },
  {
   "cell_type": "markdown",
   "id": "5ec5de82",
   "metadata": {},
   "source": [
    "# Import"
   ]
  },
  {
   "cell_type": "code",
   "execution_count": 2,
   "id": "15d6518d",
   "metadata": {},
   "outputs": [],
   "source": [
    "import sys\n",
    "sys.path.append('../../../')"
   ]
  },
  {
   "cell_type": "code",
   "execution_count": 3,
   "id": "5aa5acbd",
   "metadata": {},
   "outputs": [],
   "source": [
    "from pathlib import Path\n",
    "import os\n",
    "import random\n",
    "import json\n",
    "from datetime import datetime\n",
    "from collections import defaultdict"
   ]
  },
  {
   "cell_type": "code",
   "execution_count": 4,
   "id": "ee424ee2",
   "metadata": {},
   "outputs": [],
   "source": [
    "import pandas as pd\n",
    "import numpy as np\n",
    "from sklearn.metrics import classification_report\n",
    "import torch\n",
    "import sagemaker\n",
    "from sagemaker import get_execution_role\n",
    "import boto3\n",
    "import torch.nn as nn\n",
    "from sklearn.preprocessing import MultiLabelBinarizer\n",
    "from torch.utils.data import DataLoader,Dataset\n",
    "from tqdm import tqdm\n",
    "from fastai.text.all import *\n",
    "from sklearn import metrics\n",
    "from sklearn.metrics import confusion_matrix, precision_score, recall_score, f1_score, multilabel_confusion_matrix"
   ]
  },
  {
   "cell_type": "code",
   "execution_count": 5,
   "id": "c78f24f7",
   "metadata": {},
   "outputs": [],
   "source": [
    "from deep.constants import *\n",
    "from deep.utils import *"
   ]
  },
  {
   "cell_type": "code",
   "execution_count": 6,
   "id": "fd3caea0",
   "metadata": {},
   "outputs": [],
   "source": [
    "%load_ext autoreload\n",
    "%autoreload 2"
   ]
  },
  {
   "cell_type": "markdown",
   "id": "daddbdcb",
   "metadata": {},
   "source": [
    "# Data"
   ]
  },
  {
   "cell_type": "code",
   "execution_count": 9,
   "id": "47ef405e",
   "metadata": {},
   "outputs": [],
   "source": [
    "def preprocessing(df):\n",
    "    df = df.copy()\n",
    "    df['sectors'] = df['sectors'].apply(eval)    \n",
    "    df['pillars'] = df['pillars'].apply(eval)\n",
    "    df['pillars'] = df['pillars'].apply(lambda x: list(set(x)))\n",
    "    df['subpillars'] = df['subpillars'].apply(eval)\n",
    "    return df"
   ]
  },
  {
   "cell_type": "code",
   "execution_count": 14,
   "id": "904ac379",
   "metadata": {},
   "outputs": [],
   "source": [
    "column = 'subpillars'\n",
    "classes=SUBPILLARS\n",
    "text_column = 'excerpt'\n",
    "merge_column = 'merge'"
   ]
  },
  {
   "cell_type": "code",
   "execution_count": 11,
   "id": "624dea76",
   "metadata": {},
   "outputs": [],
   "source": [
    "train = preprocessing(pd.read_csv(LATEST_DATA_PATH / 'data_v0.4.3_train.csv'))\n",
    "val = preprocessing(pd.read_csv(LATEST_DATA_PATH / 'data_v0.4.3_val.csv'))\n",
    "test = preprocessing(pd.read_csv(LATEST_DATA_PATH / 'data_v0.4.3_test.csv'))"
   ]
  },
  {
   "cell_type": "code",
   "execution_count": null,
   "id": "7a35e2be",
   "metadata": {},
   "outputs": [],
   "source": []
  },
  {
   "cell_type": "code",
   "execution_count": 15,
   "id": "1e6cbf2f",
   "metadata": {},
   "outputs": [],
   "source": [
    "def process_multiclass(df, train, column='pillars', classes=PILLARS):\n",
    "    relevant_train = df.copy()\n",
    "    relevant_train = relevant_train[relevant_train[column].apply(len) > 0]\n",
    "    relevant_train[merge_column] = relevant_train.pillars + relevant_train.subpillars\n",
    "    relevant_train[merge_column] = relevant_train[merge_column].apply(lambda x: ';'.join(x)) \n",
    "    \n",
    "    \n",
    "    relevant_train['is_valid'] = False if train else True\n",
    "    \n",
    "    return relevant_train\n",
    "    \n",
    "    "
   ]
  },
  {
   "cell_type": "markdown",
   "id": "bcaa3980",
   "metadata": {},
   "source": [
    "# Use fastai"
   ]
  },
  {
   "cell_type": "code",
   "execution_count": 16,
   "id": "73b4558e",
   "metadata": {
    "scrolled": true
   },
   "outputs": [],
   "source": [
    "train_df = process_multiclass(train, True, column=column, classes=classes)\n",
    "test_df = process_multiclass(test, False, column=column, classes=classes)\n",
    "df = pd.concat([train_df, test_df])"
   ]
  },
  {
   "cell_type": "code",
   "execution_count": 20,
   "id": "abec98e8",
   "metadata": {
    "scrolled": true
   },
   "outputs": [
    {
     "data": {
      "text/html": [],
      "text/plain": [
       "<IPython.core.display.HTML object>"
      ]
     },
     "metadata": {},
     "output_type": "display_data"
    },
    {
     "name": "stderr",
     "output_type": "stream",
     "text": [
      "/home/ec2-user/anaconda3/envs/pytorch_latest_p36/lib/python3.6/site-packages/numpy/core/_asarray.py:83: VisibleDeprecationWarning: Creating an ndarray from ragged nested sequences (which is a list-or-tuple of lists-or-tuples-or ndarrays with different lengths or shapes) is deprecated. If you meant to do this, you must specify 'dtype=object' when creating the ndarray\n",
      "  return array(a, dtype, copy=False, order=order)\n"
     ]
    }
   ],
   "source": [
    "dls = TextDataLoaders.from_df(\n",
    "    df,\n",
    "    text_col=text_column,\n",
    "    label_col=merge_column,\n",
    "    label_delim=';',\n",
    "    valid_col='is_valid',\n",
    "    is_lm = False,    # Mention explicitly that this dataloader is meant for language model\n",
    "    seq_len = 72,     # Pick a sequence length i.e. how many words to feed through the RNN at once\n",
    "    bs = 64,     # Specify the batch size for the dataloader\n",
    "    y_block=MultiCategoryBlock,\n",
    ")\n",
    "learn = text_classifier_learner(\n",
    "    dls, \n",
    "    AWD_LSTM, \n",
    "    drop_mult=0.5, \n",
    "    metrics=[\n",
    "        accuracy_multi, \n",
    "        RecallMulti(thresh=0.35), \n",
    "        PrecisionMulti(thresh=0.35), \n",
    "        F1ScoreMulti(thresh=0.35), \n",
    "        RocAucMulti()\n",
    "    ]\n",
    ")\n",
    "classes = learn.dls.vocab[1]"
   ]
  },
  {
   "cell_type": "code",
   "execution_count": 21,
   "id": "6c943623",
   "metadata": {},
   "outputs": [
    {
     "data": {
      "text/html": [
       "<table border=\"1\" class=\"dataframe\">\n",
       "  <thead>\n",
       "    <tr style=\"text-align: left;\">\n",
       "      <th>epoch</th>\n",
       "      <th>train_loss</th>\n",
       "      <th>valid_loss</th>\n",
       "      <th>accuracy_multi</th>\n",
       "      <th>recall_score</th>\n",
       "      <th>precision_score</th>\n",
       "      <th>f1_score</th>\n",
       "      <th>roc_auc_score</th>\n",
       "      <th>time</th>\n",
       "    </tr>\n",
       "  </thead>\n",
       "  <tbody>\n",
       "    <tr>\n",
       "      <td>0</td>\n",
       "      <td>0.241613</td>\n",
       "      <td>0.235420</td>\n",
       "      <td>0.907648</td>\n",
       "      <td>0.244468</td>\n",
       "      <td>0.357179</td>\n",
       "      <td>0.246176</td>\n",
       "      <td>0.769242</td>\n",
       "      <td>02:29</td>\n",
       "    </tr>\n",
       "  </tbody>\n",
       "</table>"
      ],
      "text/plain": [
       "<IPython.core.display.HTML object>"
      ]
     },
     "metadata": {},
     "output_type": "display_data"
    },
    {
     "name": "stderr",
     "output_type": "stream",
     "text": [
      "/home/ec2-user/anaconda3/envs/pytorch_latest_p36/lib/python3.6/site-packages/sklearn/metrics/_classification.py:1245: UndefinedMetricWarning: Precision is ill-defined and being set to 0.0 in labels with no predicted samples. Use `zero_division` parameter to control this behavior.\n",
      "  _warn_prf(average, modifier, msg_start, len(result))\n"
     ]
    },
    {
     "data": {
      "text/html": [
       "<table border=\"1\" class=\"dataframe\">\n",
       "  <thead>\n",
       "    <tr style=\"text-align: left;\">\n",
       "      <th>epoch</th>\n",
       "      <th>train_loss</th>\n",
       "      <th>valid_loss</th>\n",
       "      <th>accuracy_multi</th>\n",
       "      <th>recall_score</th>\n",
       "      <th>precision_score</th>\n",
       "      <th>f1_score</th>\n",
       "      <th>roc_auc_score</th>\n",
       "      <th>time</th>\n",
       "    </tr>\n",
       "  </thead>\n",
       "  <tbody>\n",
       "    <tr>\n",
       "      <td>0</td>\n",
       "      <td>0.213281</td>\n",
       "      <td>0.210538</td>\n",
       "      <td>0.915581</td>\n",
       "      <td>0.321233</td>\n",
       "      <td>0.485350</td>\n",
       "      <td>0.355466</td>\n",
       "      <td>0.834945</td>\n",
       "      <td>06:24</td>\n",
       "    </tr>\n",
       "    <tr>\n",
       "      <td>1</td>\n",
       "      <td>0.194528</td>\n",
       "      <td>0.194077</td>\n",
       "      <td>0.922853</td>\n",
       "      <td>0.379586</td>\n",
       "      <td>0.534336</td>\n",
       "      <td>0.403280</td>\n",
       "      <td>0.865692</td>\n",
       "      <td>06:23</td>\n",
       "    </tr>\n",
       "    <tr>\n",
       "      <td>2</td>\n",
       "      <td>0.183265</td>\n",
       "      <td>0.189148</td>\n",
       "      <td>0.925515</td>\n",
       "      <td>0.398446</td>\n",
       "      <td>0.534008</td>\n",
       "      <td>0.423688</td>\n",
       "      <td>0.873375</td>\n",
       "      <td>06:23</td>\n",
       "    </tr>\n",
       "  </tbody>\n",
       "</table>"
      ],
      "text/plain": [
       "<IPython.core.display.HTML object>"
      ]
     },
     "metadata": {},
     "output_type": "display_data"
    },
    {
     "name": "stderr",
     "output_type": "stream",
     "text": [
      "/home/ec2-user/anaconda3/envs/pytorch_latest_p36/lib/python3.6/site-packages/sklearn/metrics/_classification.py:1245: UndefinedMetricWarning: Precision is ill-defined and being set to 0.0 in labels with no predicted samples. Use `zero_division` parameter to control this behavior.\n",
      "  _warn_prf(average, modifier, msg_start, len(result))\n",
      "/home/ec2-user/anaconda3/envs/pytorch_latest_p36/lib/python3.6/site-packages/sklearn/metrics/_classification.py:1245: UndefinedMetricWarning: Precision is ill-defined and being set to 0.0 in labels with no predicted samples. Use `zero_division` parameter to control this behavior.\n",
      "  _warn_prf(average, modifier, msg_start, len(result))\n",
      "/home/ec2-user/anaconda3/envs/pytorch_latest_p36/lib/python3.6/site-packages/sklearn/metrics/_classification.py:1245: UndefinedMetricWarning: Precision is ill-defined and being set to 0.0 in labels with no predicted samples. Use `zero_division` parameter to control this behavior.\n",
      "  _warn_prf(average, modifier, msg_start, len(result))\n"
     ]
    }
   ],
   "source": [
    "learn.fine_tune(3, 0.02)"
   ]
  },
  {
   "cell_type": "code",
   "execution_count": 22,
   "id": "396d4d06",
   "metadata": {},
   "outputs": [],
   "source": [
    "def get_threshold_metrics(preds, targets, num_thresholds):\n",
    "    thresholds = [x/num_thresholds for x in range(num_thresholds)]\n",
    "\n",
    "    recalls = []\n",
    "    precisions = []\n",
    "    f1_scores = []\n",
    "\n",
    "    for threshold in thresholds:\n",
    "        t_preds = (preds.view(-1).numpy() > threshold).astype(int)\n",
    "        t_targets = targets.view(-1).numpy()\n",
    "        precisions.append(precision_score(t_targets, t_preds))\n",
    "        recalls.append(recall_score(t_targets, t_preds))    \n",
    "        f1_scores.append(f1_score(t_targets, t_preds))        \n",
    "        \n",
    "    all_metrics = pd.DataFrame(\n",
    "        {\n",
    "            'threshold': thresholds,\n",
    "            'recall': recalls,\n",
    "            'precision': precisions,\n",
    "            'f1_score': f1_scores\n",
    "        }\n",
    "    ).set_index('threshold', drop=True)\n",
    "\n",
    "    return all_metrics"
   ]
  },
  {
   "cell_type": "code",
   "execution_count": 23,
   "id": "018ab018",
   "metadata": {},
   "outputs": [],
   "source": [
    "def get_best_threshold(learner, num_thresholds=20):\n",
    "    train_preds, train_targets = learn.get_preds(0)\n",
    "    train_metrics = get_threshold_metrics(train_preds, train_targets, num_thresholds)\n",
    "    best_threshold = train_metrics.f1_score.idxmax()\n",
    "    \n",
    "    return best_threshold, train_metrics"
   ]
  },
  {
   "cell_type": "code",
   "execution_count": null,
   "id": "2deaa5f9",
   "metadata": {},
   "outputs": [],
   "source": []
  },
  {
   "cell_type": "code",
   "execution_count": 24,
   "id": "e22186a5",
   "metadata": {},
   "outputs": [],
   "source": [
    "def get_metrics(preds, targets):\n",
    "    indexes = []\n",
    "    recalls = []\n",
    "    precisions = []\n",
    "    f1_scores = []\n",
    "    counts = []\n",
    "    \n",
    "    for i, class_ in enumerate(classes):\n",
    "        class_preds = preds[:, i]\n",
    "        class_targets = targets[:, i]\n",
    "        \n",
    "        indexes.append(class_)\n",
    "        precisions.append(precision_score(class_targets, class_preds))\n",
    "        recalls.append(recall_score(class_targets, class_preds))    \n",
    "        f1_scores.append(f1_score(class_targets, class_preds))  \n",
    "        counts.append(int(class_targets.sum()))\n",
    "        \n",
    "    indexes.append('all')\n",
    "    precisions.append(precision_score(targets.view(-1), preds.view(-1)))\n",
    "    recalls.append(recall_score(targets.view(-1), preds.view(-1)))    \n",
    "    \n",
    "    f1_scores.append(f1_score(targets.view(-1), preds.view(-1)))  \n",
    "    counts.append(int(targets.view(-1).sum()))\n",
    "\n",
    "\n",
    "\n",
    "    \n",
    "    all_metrics = pd.DataFrame(\n",
    "        {\n",
    "            'class': indexes,\n",
    "            'recall': recalls,\n",
    "            'precision': precisions,\n",
    "            'f1_score': f1_scores,\n",
    "            'counts': counts\n",
    "        }\n",
    "    ).set_index('class', drop=True)\n",
    "    \n",
    "    return all_metrics"
   ]
  },
  {
   "cell_type": "code",
   "execution_count": 25,
   "id": "623b7e20",
   "metadata": {},
   "outputs": [],
   "source": [
    "def evaluate(learner, threshold):\n",
    "    test_preds, test_targets = learn.get_preds(1)\n",
    "    "
   ]
  },
  {
   "cell_type": "code",
   "execution_count": 26,
   "id": "b7766920",
   "metadata": {
    "scrolled": true
   },
   "outputs": [
    {
     "data": {
      "text/html": [],
      "text/plain": [
       "<IPython.core.display.HTML object>"
      ]
     },
     "metadata": {},
     "output_type": "display_data"
    },
    {
     "name": "stderr",
     "output_type": "stream",
     "text": [
      "/home/ec2-user/anaconda3/envs/pytorch_latest_p36/lib/python3.6/site-packages/sklearn/metrics/_classification.py:1245: UndefinedMetricWarning: Precision is ill-defined and being set to 0.0 in labels with no predicted samples. Use `zero_division` parameter to control this behavior.\n",
      "  _warn_prf(average, modifier, msg_start, len(result))\n"
     ]
    },
    {
     "name": "stdout",
     "output_type": "stream",
     "text": [
      "0.35\n"
     ]
    }
   ],
   "source": [
    "best_threshold, train_metrics = get_best_threshold(learn)\n",
    "print(best_threshold)"
   ]
  },
  {
   "cell_type": "code",
   "execution_count": 27,
   "id": "28767882",
   "metadata": {
    "scrolled": true
   },
   "outputs": [
    {
     "data": {
      "text/html": [
       "<div>\n",
       "<style scoped>\n",
       "    .dataframe tbody tr th:only-of-type {\n",
       "        vertical-align: middle;\n",
       "    }\n",
       "\n",
       "    .dataframe tbody tr th {\n",
       "        vertical-align: top;\n",
       "    }\n",
       "\n",
       "    .dataframe thead th {\n",
       "        text-align: right;\n",
       "    }\n",
       "</style>\n",
       "<table border=\"1\" class=\"dataframe\">\n",
       "  <thead>\n",
       "    <tr style=\"text-align: right;\">\n",
       "      <th></th>\n",
       "      <th>recall</th>\n",
       "      <th>precision</th>\n",
       "      <th>f1_score</th>\n",
       "    </tr>\n",
       "    <tr>\n",
       "      <th>threshold</th>\n",
       "      <th></th>\n",
       "      <th></th>\n",
       "      <th></th>\n",
       "    </tr>\n",
       "  </thead>\n",
       "  <tbody>\n",
       "    <tr>\n",
       "      <th>0.00</th>\n",
       "      <td>1.000000</td>\n",
       "      <td>0.108998</td>\n",
       "      <td>0.196570</td>\n",
       "    </tr>\n",
       "    <tr>\n",
       "      <th>0.05</th>\n",
       "      <td>0.953988</td>\n",
       "      <td>0.323883</td>\n",
       "      <td>0.483587</td>\n",
       "    </tr>\n",
       "    <tr>\n",
       "      <th>0.10</th>\n",
       "      <td>0.902230</td>\n",
       "      <td>0.415813</td>\n",
       "      <td>0.569267</td>\n",
       "    </tr>\n",
       "    <tr>\n",
       "      <th>0.15</th>\n",
       "      <td>0.849779</td>\n",
       "      <td>0.489798</td>\n",
       "      <td>0.621420</td>\n",
       "    </tr>\n",
       "    <tr>\n",
       "      <th>0.20</th>\n",
       "      <td>0.798937</td>\n",
       "      <td>0.553899</td>\n",
       "      <td>0.654226</td>\n",
       "    </tr>\n",
       "    <tr>\n",
       "      <th>0.25</th>\n",
       "      <td>0.755901</td>\n",
       "      <td>0.602736</td>\n",
       "      <td>0.670685</td>\n",
       "    </tr>\n",
       "    <tr>\n",
       "      <th>0.30</th>\n",
       "      <td>0.714940</td>\n",
       "      <td>0.643254</td>\n",
       "      <td>0.677205</td>\n",
       "    </tr>\n",
       "    <tr>\n",
       "      <th>0.35</th>\n",
       "      <td>0.673936</td>\n",
       "      <td>0.680583</td>\n",
       "      <td>0.677243</td>\n",
       "    </tr>\n",
       "    <tr>\n",
       "      <th>0.40</th>\n",
       "      <td>0.631694</td>\n",
       "      <td>0.715339</td>\n",
       "      <td>0.670920</td>\n",
       "    </tr>\n",
       "    <tr>\n",
       "      <th>0.45</th>\n",
       "      <td>0.588622</td>\n",
       "      <td>0.749210</td>\n",
       "      <td>0.659278</td>\n",
       "    </tr>\n",
       "    <tr>\n",
       "      <th>0.50</th>\n",
       "      <td>0.544628</td>\n",
       "      <td>0.779753</td>\n",
       "      <td>0.641319</td>\n",
       "    </tr>\n",
       "    <tr>\n",
       "      <th>0.55</th>\n",
       "      <td>0.500132</td>\n",
       "      <td>0.810496</td>\n",
       "      <td>0.618566</td>\n",
       "    </tr>\n",
       "    <tr>\n",
       "      <th>0.60</th>\n",
       "      <td>0.455129</td>\n",
       "      <td>0.837132</td>\n",
       "      <td>0.589669</td>\n",
       "    </tr>\n",
       "    <tr>\n",
       "      <th>0.65</th>\n",
       "      <td>0.410211</td>\n",
       "      <td>0.864545</td>\n",
       "      <td>0.556414</td>\n",
       "    </tr>\n",
       "    <tr>\n",
       "      <th>0.70</th>\n",
       "      <td>0.365673</td>\n",
       "      <td>0.889192</td>\n",
       "      <td>0.518229</td>\n",
       "    </tr>\n",
       "    <tr>\n",
       "      <th>0.75</th>\n",
       "      <td>0.322322</td>\n",
       "      <td>0.912073</td>\n",
       "      <td>0.476316</td>\n",
       "    </tr>\n",
       "    <tr>\n",
       "      <th>0.80</th>\n",
       "      <td>0.278056</td>\n",
       "      <td>0.933354</td>\n",
       "      <td>0.428467</td>\n",
       "    </tr>\n",
       "    <tr>\n",
       "      <th>0.85</th>\n",
       "      <td>0.229797</td>\n",
       "      <td>0.952576</td>\n",
       "      <td>0.370270</td>\n",
       "    </tr>\n",
       "    <tr>\n",
       "      <th>0.90</th>\n",
       "      <td>0.174498</td>\n",
       "      <td>0.969356</td>\n",
       "      <td>0.295755</td>\n",
       "    </tr>\n",
       "    <tr>\n",
       "      <th>0.95</th>\n",
       "      <td>0.106813</td>\n",
       "      <td>0.985282</td>\n",
       "      <td>0.192733</td>\n",
       "    </tr>\n",
       "  </tbody>\n",
       "</table>\n",
       "</div>"
      ],
      "text/plain": [
       "             recall  precision  f1_score\n",
       "threshold                               \n",
       "0.00       1.000000   0.108998  0.196570\n",
       "0.05       0.953988   0.323883  0.483587\n",
       "0.10       0.902230   0.415813  0.569267\n",
       "0.15       0.849779   0.489798  0.621420\n",
       "0.20       0.798937   0.553899  0.654226\n",
       "0.25       0.755901   0.602736  0.670685\n",
       "0.30       0.714940   0.643254  0.677205\n",
       "0.35       0.673936   0.680583  0.677243\n",
       "0.40       0.631694   0.715339  0.670920\n",
       "0.45       0.588622   0.749210  0.659278\n",
       "0.50       0.544628   0.779753  0.641319\n",
       "0.55       0.500132   0.810496  0.618566\n",
       "0.60       0.455129   0.837132  0.589669\n",
       "0.65       0.410211   0.864545  0.556414\n",
       "0.70       0.365673   0.889192  0.518229\n",
       "0.75       0.322322   0.912073  0.476316\n",
       "0.80       0.278056   0.933354  0.428467\n",
       "0.85       0.229797   0.952576  0.370270\n",
       "0.90       0.174498   0.969356  0.295755\n",
       "0.95       0.106813   0.985282  0.192733"
      ]
     },
     "execution_count": 27,
     "metadata": {},
     "output_type": "execute_result"
    }
   ],
   "source": [
    "train_metrics"
   ]
  },
  {
   "cell_type": "code",
   "execution_count": 28,
   "id": "bdd7c150",
   "metadata": {},
   "outputs": [
    {
     "data": {
      "text/html": [],
      "text/plain": [
       "<IPython.core.display.HTML object>"
      ]
     },
     "metadata": {},
     "output_type": "display_data"
    },
    {
     "name": "stderr",
     "output_type": "stream",
     "text": [
      "/home/ec2-user/anaconda3/envs/pytorch_latest_p36/lib/python3.6/site-packages/sklearn/metrics/_classification.py:1245: UndefinedMetricWarning: Precision is ill-defined and being set to 0.0 in labels with no predicted samples. Use `zero_division` parameter to control this behavior.\n",
      "  _warn_prf(average, modifier, msg_start, len(result))\n"
     ]
    }
   ],
   "source": [
    "test_preds, test_targets = learn.get_preds(1)\n",
    "test_discrete_preds = (test_preds > best_threshold).int()\n",
    "test_discrete_targets = test_targets.int()"
   ]
  },
  {
   "cell_type": "code",
   "execution_count": 29,
   "id": "47fded4a",
   "metadata": {},
   "outputs": [
    {
     "data": {
      "text/plain": [
       "tensor([[3.5797e-03, 6.0366e-04, 3.4362e-03,  ..., 1.2056e-03, 2.6529e-04,\n",
       "         1.7839e-03],\n",
       "        [9.7551e-01, 9.1668e-01, 3.6971e-01,  ..., 3.5879e-04, 2.5593e-04,\n",
       "         6.4742e-05],\n",
       "        [8.6056e-03, 2.5875e-03, 4.6781e-03,  ..., 6.8204e-03, 3.0903e-03,\n",
       "         4.1156e-03],\n",
       "        ...,\n",
       "        [5.3481e-02, 7.4605e-03, 4.8034e-02,  ..., 9.5153e-02, 3.2265e-02,\n",
       "         6.6032e-02],\n",
       "        [3.8556e-01, 2.3315e-02, 4.1353e-01,  ..., 4.5696e-02, 1.8691e-02,\n",
       "         3.0039e-02],\n",
       "        [2.8918e-01, 5.7855e-02, 2.5533e-01,  ..., 4.5575e-02, 2.4170e-02,\n",
       "         2.4458e-02]])"
      ]
     },
     "execution_count": 29,
     "metadata": {},
     "output_type": "execute_result"
    }
   ],
   "source": [
    "test_preds"
   ]
  },
  {
   "cell_type": "code",
   "execution_count": 30,
   "id": "960b187e",
   "metadata": {
    "scrolled": true
   },
   "outputs": [
    {
     "data": {
      "text/plain": [
       "TensorMultiCategory([[0., 0., 0.,  ..., 0., 0., 0.],\n",
       "        [1., 1., 0.,  ..., 0., 0., 0.],\n",
       "        [0., 0., 0.,  ..., 0., 0., 0.],\n",
       "        ...,\n",
       "        [0., 0., 0.,  ..., 0., 0., 0.],\n",
       "        [0., 0., 0.,  ..., 0., 0., 0.],\n",
       "        [0., 0., 0.,  ..., 0., 0., 0.]])"
      ]
     },
     "execution_count": 30,
     "metadata": {},
     "output_type": "execute_result"
    }
   ],
   "source": [
    "test_targets"
   ]
  },
  {
   "cell_type": "code",
   "execution_count": 31,
   "id": "9da96121",
   "metadata": {
    "scrolled": true
   },
   "outputs": [
    {
     "ename": "AttributeError",
     "evalue": "'list' object has no attribute 'split'",
     "output_type": "error",
     "traceback": [
      "\u001b[0;31m---------------------------------------------------------------------------\u001b[0m",
      "\u001b[0;31mAttributeError\u001b[0m                            Traceback (most recent call last)",
      "\u001b[0;32m<ipython-input-31-214e66672457>\u001b[0m in \u001b[0;36m<module>\u001b[0;34m\u001b[0m\n\u001b[1;32m      1\u001b[0m \u001b[0mcount\u001b[0m \u001b[0;34m=\u001b[0m \u001b[0mdefaultdict\u001b[0m\u001b[0;34m(\u001b[0m\u001b[0mint\u001b[0m\u001b[0;34m)\u001b[0m\u001b[0;34m\u001b[0m\u001b[0;34m\u001b[0m\u001b[0m\n\u001b[0;32m----> 2\u001b[0;31m \u001b[0ma\u001b[0m \u001b[0;34m=\u001b[0m \u001b[0mtest_df\u001b[0m\u001b[0;34m.\u001b[0m\u001b[0mpillars\u001b[0m\u001b[0;34m.\u001b[0m\u001b[0mapply\u001b[0m\u001b[0;34m(\u001b[0m\u001b[0;32mlambda\u001b[0m \u001b[0mx\u001b[0m\u001b[0;34m:\u001b[0m \u001b[0mx\u001b[0m\u001b[0;34m.\u001b[0m\u001b[0msplit\u001b[0m\u001b[0;34m(\u001b[0m\u001b[0;34m';'\u001b[0m\u001b[0;34m)\u001b[0m\u001b[0;34m)\u001b[0m\u001b[0;34m\u001b[0m\u001b[0;34m\u001b[0m\u001b[0m\n\u001b[0m\u001b[1;32m      3\u001b[0m \u001b[0;32mfor\u001b[0m \u001b[0mx\u001b[0m \u001b[0;32min\u001b[0m \u001b[0ma\u001b[0m\u001b[0;34m:\u001b[0m\u001b[0;34m\u001b[0m\u001b[0;34m\u001b[0m\u001b[0m\n\u001b[1;32m      4\u001b[0m     \u001b[0;32mfor\u001b[0m \u001b[0my\u001b[0m \u001b[0;32min\u001b[0m \u001b[0mx\u001b[0m\u001b[0;34m:\u001b[0m\u001b[0;34m\u001b[0m\u001b[0;34m\u001b[0m\u001b[0m\n\u001b[1;32m      5\u001b[0m         \u001b[0mcount\u001b[0m\u001b[0;34m[\u001b[0m\u001b[0my\u001b[0m\u001b[0;34m]\u001b[0m \u001b[0;34m+=\u001b[0m \u001b[0;36m1\u001b[0m\u001b[0;34m\u001b[0m\u001b[0;34m\u001b[0m\u001b[0m\n",
      "\u001b[0;32m~/anaconda3/envs/pytorch_latest_p36/lib/python3.6/site-packages/pandas/core/series.py\u001b[0m in \u001b[0;36mapply\u001b[0;34m(self, func, convert_dtype, args, **kwds)\u001b[0m\n\u001b[1;32m   4211\u001b[0m             \u001b[0;32melse\u001b[0m\u001b[0;34m:\u001b[0m\u001b[0;34m\u001b[0m\u001b[0;34m\u001b[0m\u001b[0m\n\u001b[1;32m   4212\u001b[0m                 \u001b[0mvalues\u001b[0m \u001b[0;34m=\u001b[0m \u001b[0mself\u001b[0m\u001b[0;34m.\u001b[0m\u001b[0mastype\u001b[0m\u001b[0;34m(\u001b[0m\u001b[0mobject\u001b[0m\u001b[0;34m)\u001b[0m\u001b[0;34m.\u001b[0m\u001b[0m_values\u001b[0m\u001b[0;34m\u001b[0m\u001b[0;34m\u001b[0m\u001b[0m\n\u001b[0;32m-> 4213\u001b[0;31m                 \u001b[0mmapped\u001b[0m \u001b[0;34m=\u001b[0m \u001b[0mlib\u001b[0m\u001b[0;34m.\u001b[0m\u001b[0mmap_infer\u001b[0m\u001b[0;34m(\u001b[0m\u001b[0mvalues\u001b[0m\u001b[0;34m,\u001b[0m \u001b[0mf\u001b[0m\u001b[0;34m,\u001b[0m \u001b[0mconvert\u001b[0m\u001b[0;34m=\u001b[0m\u001b[0mconvert_dtype\u001b[0m\u001b[0;34m)\u001b[0m\u001b[0;34m\u001b[0m\u001b[0;34m\u001b[0m\u001b[0m\n\u001b[0m\u001b[1;32m   4214\u001b[0m \u001b[0;34m\u001b[0m\u001b[0m\n\u001b[1;32m   4215\u001b[0m         \u001b[0;32mif\u001b[0m \u001b[0mlen\u001b[0m\u001b[0;34m(\u001b[0m\u001b[0mmapped\u001b[0m\u001b[0;34m)\u001b[0m \u001b[0;32mand\u001b[0m \u001b[0misinstance\u001b[0m\u001b[0;34m(\u001b[0m\u001b[0mmapped\u001b[0m\u001b[0;34m[\u001b[0m\u001b[0;36m0\u001b[0m\u001b[0;34m]\u001b[0m\u001b[0;34m,\u001b[0m \u001b[0mSeries\u001b[0m\u001b[0;34m)\u001b[0m\u001b[0;34m:\u001b[0m\u001b[0;34m\u001b[0m\u001b[0;34m\u001b[0m\u001b[0m\n",
      "\u001b[0;32mpandas/_libs/lib.pyx\u001b[0m in \u001b[0;36mpandas._libs.lib.map_infer\u001b[0;34m()\u001b[0m\n",
      "\u001b[0;32m<ipython-input-31-214e66672457>\u001b[0m in \u001b[0;36m<lambda>\u001b[0;34m(x)\u001b[0m\n\u001b[1;32m      1\u001b[0m \u001b[0mcount\u001b[0m \u001b[0;34m=\u001b[0m \u001b[0mdefaultdict\u001b[0m\u001b[0;34m(\u001b[0m\u001b[0mint\u001b[0m\u001b[0;34m)\u001b[0m\u001b[0;34m\u001b[0m\u001b[0;34m\u001b[0m\u001b[0m\n\u001b[0;32m----> 2\u001b[0;31m \u001b[0ma\u001b[0m \u001b[0;34m=\u001b[0m \u001b[0mtest_df\u001b[0m\u001b[0;34m.\u001b[0m\u001b[0mpillars\u001b[0m\u001b[0;34m.\u001b[0m\u001b[0mapply\u001b[0m\u001b[0;34m(\u001b[0m\u001b[0;32mlambda\u001b[0m \u001b[0mx\u001b[0m\u001b[0;34m:\u001b[0m \u001b[0mx\u001b[0m\u001b[0;34m.\u001b[0m\u001b[0msplit\u001b[0m\u001b[0;34m(\u001b[0m\u001b[0;34m';'\u001b[0m\u001b[0;34m)\u001b[0m\u001b[0;34m)\u001b[0m\u001b[0;34m\u001b[0m\u001b[0;34m\u001b[0m\u001b[0m\n\u001b[0m\u001b[1;32m      3\u001b[0m \u001b[0;32mfor\u001b[0m \u001b[0mx\u001b[0m \u001b[0;32min\u001b[0m \u001b[0ma\u001b[0m\u001b[0;34m:\u001b[0m\u001b[0;34m\u001b[0m\u001b[0;34m\u001b[0m\u001b[0m\n\u001b[1;32m      4\u001b[0m     \u001b[0;32mfor\u001b[0m \u001b[0my\u001b[0m \u001b[0;32min\u001b[0m \u001b[0mx\u001b[0m\u001b[0;34m:\u001b[0m\u001b[0;34m\u001b[0m\u001b[0;34m\u001b[0m\u001b[0m\n\u001b[1;32m      5\u001b[0m         \u001b[0mcount\u001b[0m\u001b[0;34m[\u001b[0m\u001b[0my\u001b[0m\u001b[0;34m]\u001b[0m \u001b[0;34m+=\u001b[0m \u001b[0;36m1\u001b[0m\u001b[0;34m\u001b[0m\u001b[0;34m\u001b[0m\u001b[0m\n",
      "\u001b[0;31mAttributeError\u001b[0m: 'list' object has no attribute 'split'"
     ]
    }
   ],
   "source": [
    "count = defaultdict(int)\n",
    "a = test_df.pillars.apply(lambda x: x.split(';'))\n",
    "for x in a:\n",
    "    for y in x:\n",
    "        count[y] += 1"
   ]
  },
  {
   "cell_type": "code",
   "execution_count": 32,
   "id": "c6d15e73",
   "metadata": {},
   "outputs": [
    {
     "data": {
      "text/plain": [
       "array([[[5036,  305],\n",
       "        [ 359,  816]],\n",
       "\n",
       "       [[5846,   95],\n",
       "        [ 196,  379]],\n",
       "\n",
       "       [[5580,  377],\n",
       "        [ 303,  256]],\n",
       "\n",
       "       [[6265,   55],\n",
       "        [  67,  129]],\n",
       "\n",
       "       [[6507,    9],\n",
       "        [   0,    0]],\n",
       "\n",
       "       [[1591,  291],\n",
       "        [1411, 3223]],\n",
       "\n",
       "       [[6149,  248],\n",
       "        [  51,   68]],\n",
       "\n",
       "       [[3226,  432],\n",
       "        [1249, 1609]],\n",
       "\n",
       "       [[6003,  301],\n",
       "        [  47,  165]],\n",
       "\n",
       "       [[5101,  459],\n",
       "        [ 256,  700]],\n",
       "\n",
       "       [[2842,  550],\n",
       "        [1203, 1921]],\n",
       "\n",
       "       [[4964,  575],\n",
       "        [ 506,  471]],\n",
       "\n",
       "       [[5762,  501],\n",
       "        [ 121,  132]],\n",
       "\n",
       "       [[6278,  133],\n",
       "        [  25,   80]],\n",
       "\n",
       "       [[6153,  226],\n",
       "        [  90,   47]],\n",
       "\n",
       "       [[5634,  392],\n",
       "        [ 184,  306]],\n",
       "\n",
       "       [[6191,  280],\n",
       "        [  22,   23]],\n",
       "\n",
       "       [[5478,  577],\n",
       "        [ 162,  299]],\n",
       "\n",
       "       [[6438,   78],\n",
       "        [   0,    0]],\n",
       "\n",
       "       [[5542,  519],\n",
       "        [ 163,  292]],\n",
       "\n",
       "       [[6243,   72],\n",
       "        [  82,  119]],\n",
       "\n",
       "       [[6271,   60],\n",
       "        [  80,  105]],\n",
       "\n",
       "       [[6489,   27],\n",
       "        [   0,    0]],\n",
       "\n",
       "       [[6241,  187],\n",
       "        [  46,   42]],\n",
       "\n",
       "       [[6395,  105],\n",
       "        [   9,    7]],\n",
       "\n",
       "       [[6394,  102],\n",
       "        [   3,   17]]])"
      ]
     },
     "execution_count": 32,
     "metadata": {},
     "output_type": "execute_result"
    }
   ],
   "source": [
    "multilabel_confusion_matrix(test_discrete_preds, test_discrete_targets, samplewise=False)"
   ]
  },
  {
   "cell_type": "code",
   "execution_count": 33,
   "id": "07c393aa",
   "metadata": {},
   "outputs": [
    {
     "name": "stderr",
     "output_type": "stream",
     "text": [
      "/home/ec2-user/anaconda3/envs/pytorch_latest_p36/lib/python3.6/site-packages/sklearn/metrics/_classification.py:1245: UndefinedMetricWarning: Precision is ill-defined and being set to 0.0 due to no predicted samples. Use `zero_division` parameter to control this behavior.\n",
      "  _warn_prf(average, modifier, msg_start, len(result))\n",
      "/home/ec2-user/anaconda3/envs/pytorch_latest_p36/lib/python3.6/site-packages/sklearn/metrics/_classification.py:1245: UndefinedMetricWarning: Precision is ill-defined and being set to 0.0 due to no predicted samples. Use `zero_division` parameter to control this behavior.\n",
      "  _warn_prf(average, modifier, msg_start, len(result))\n",
      "/home/ec2-user/anaconda3/envs/pytorch_latest_p36/lib/python3.6/site-packages/sklearn/metrics/_classification.py:1245: UndefinedMetricWarning: Precision is ill-defined and being set to 0.0 due to no predicted samples. Use `zero_division` parameter to control this behavior.\n",
      "  _warn_prf(average, modifier, msg_start, len(result))\n"
     ]
    }
   ],
   "source": [
    "multi_label_metrics = get_metrics(test_discrete_preds,test_discrete_targets)"
   ]
  },
  {
   "cell_type": "code",
   "execution_count": 34,
   "id": "b08e8528",
   "metadata": {},
   "outputs": [
    {
     "data": {
      "text/html": [
       "<div>\n",
       "<style scoped>\n",
       "    .dataframe tbody tr th:only-of-type {\n",
       "        vertical-align: middle;\n",
       "    }\n",
       "\n",
       "    .dataframe tbody tr th {\n",
       "        vertical-align: top;\n",
       "    }\n",
       "\n",
       "    .dataframe thead th {\n",
       "        text-align: right;\n",
       "    }\n",
       "</style>\n",
       "<table border=\"1\" class=\"dataframe\">\n",
       "  <thead>\n",
       "    <tr style=\"text-align: right;\">\n",
       "      <th></th>\n",
       "      <th>recall</th>\n",
       "      <th>precision</th>\n",
       "      <th>f1_score</th>\n",
       "      <th>counts</th>\n",
       "    </tr>\n",
       "    <tr>\n",
       "      <th>class</th>\n",
       "      <th></th>\n",
       "      <th></th>\n",
       "      <th></th>\n",
       "      <th></th>\n",
       "    </tr>\n",
       "  </thead>\n",
       "  <tbody>\n",
       "    <tr>\n",
       "      <th>Capacities &amp; Response</th>\n",
       "      <td>0.727921</td>\n",
       "      <td>0.694468</td>\n",
       "      <td>0.710801</td>\n",
       "      <td>1121</td>\n",
       "    </tr>\n",
       "    <tr>\n",
       "      <th>Capacities &amp; Response-&gt;International Response</th>\n",
       "      <td>0.799578</td>\n",
       "      <td>0.659130</td>\n",
       "      <td>0.722593</td>\n",
       "      <td>474</td>\n",
       "    </tr>\n",
       "    <tr>\n",
       "      <th>Capacities &amp; Response-&gt;National Response</th>\n",
       "      <td>0.404423</td>\n",
       "      <td>0.457961</td>\n",
       "      <td>0.429530</td>\n",
       "      <td>633</td>\n",
       "    </tr>\n",
       "    <tr>\n",
       "      <th>Capacities &amp; Response-&gt;Number Of People Reached</th>\n",
       "      <td>0.701087</td>\n",
       "      <td>0.658163</td>\n",
       "      <td>0.678947</td>\n",
       "      <td>184</td>\n",
       "    </tr>\n",
       "    <tr>\n",
       "      <th>Capacities &amp; Response-&gt;Response Gaps</th>\n",
       "      <td>0.000000</td>\n",
       "      <td>0.000000</td>\n",
       "      <td>0.000000</td>\n",
       "      <td>9</td>\n",
       "    </tr>\n",
       "    <tr>\n",
       "      <th>Humanitarian Conditions</th>\n",
       "      <td>0.917188</td>\n",
       "      <td>0.695511</td>\n",
       "      <td>0.791114</td>\n",
       "      <td>3514</td>\n",
       "    </tr>\n",
       "    <tr>\n",
       "      <th>Humanitarian Conditions-&gt;Coping Mechanisms</th>\n",
       "      <td>0.215190</td>\n",
       "      <td>0.571429</td>\n",
       "      <td>0.312644</td>\n",
       "      <td>316</td>\n",
       "    </tr>\n",
       "    <tr>\n",
       "      <th>Humanitarian Conditions-&gt;Living Standards</th>\n",
       "      <td>0.788339</td>\n",
       "      <td>0.562981</td>\n",
       "      <td>0.656869</td>\n",
       "      <td>2041</td>\n",
       "    </tr>\n",
       "    <tr>\n",
       "      <th>Humanitarian Conditions-&gt;Number Of People In Need</th>\n",
       "      <td>0.354077</td>\n",
       "      <td>0.778302</td>\n",
       "      <td>0.486726</td>\n",
       "      <td>466</td>\n",
       "    </tr>\n",
       "    <tr>\n",
       "      <th>Humanitarian Conditions-&gt;Physical And Mental Well Being</th>\n",
       "      <td>0.603969</td>\n",
       "      <td>0.732218</td>\n",
       "      <td>0.661939</td>\n",
       "      <td>1159</td>\n",
       "    </tr>\n",
       "    <tr>\n",
       "      <th>Impact</th>\n",
       "      <td>0.777418</td>\n",
       "      <td>0.614917</td>\n",
       "      <td>0.686685</td>\n",
       "      <td>2471</td>\n",
       "    </tr>\n",
       "    <tr>\n",
       "      <th>Impact-&gt;Driver/Aggravating Factors</th>\n",
       "      <td>0.450287</td>\n",
       "      <td>0.482088</td>\n",
       "      <td>0.465645</td>\n",
       "      <td>1046</td>\n",
       "    </tr>\n",
       "    <tr>\n",
       "      <th>Impact-&gt;Impact On People</th>\n",
       "      <td>0.208531</td>\n",
       "      <td>0.521739</td>\n",
       "      <td>0.297968</td>\n",
       "      <td>633</td>\n",
       "    </tr>\n",
       "    <tr>\n",
       "      <th>Impact-&gt;Impact On People Or Impact On Services</th>\n",
       "      <td>0.375587</td>\n",
       "      <td>0.761905</td>\n",
       "      <td>0.503145</td>\n",
       "      <td>213</td>\n",
       "    </tr>\n",
       "    <tr>\n",
       "      <th>Impact-&gt;Impact On Services</th>\n",
       "      <td>0.172161</td>\n",
       "      <td>0.343066</td>\n",
       "      <td>0.229268</td>\n",
       "      <td>273</td>\n",
       "    </tr>\n",
       "    <tr>\n",
       "      <th>Impact-&gt;Impact On Systems And Services</th>\n",
       "      <td>0.438395</td>\n",
       "      <td>0.624490</td>\n",
       "      <td>0.515152</td>\n",
       "      <td>698</td>\n",
       "    </tr>\n",
       "    <tr>\n",
       "      <th>Impact-&gt;Number Of People Affected</th>\n",
       "      <td>0.075908</td>\n",
       "      <td>0.511111</td>\n",
       "      <td>0.132184</td>\n",
       "      <td>303</td>\n",
       "    </tr>\n",
       "    <tr>\n",
       "      <th>People At Risk</th>\n",
       "      <td>0.341324</td>\n",
       "      <td>0.648590</td>\n",
       "      <td>0.447270</td>\n",
       "      <td>876</td>\n",
       "    </tr>\n",
       "    <tr>\n",
       "      <th>People At Risk-&gt;Number Of People At Risk</th>\n",
       "      <td>0.000000</td>\n",
       "      <td>0.000000</td>\n",
       "      <td>0.000000</td>\n",
       "      <td>78</td>\n",
       "    </tr>\n",
       "    <tr>\n",
       "      <th>People At Risk-&gt;Risk And Vulnerabilities</th>\n",
       "      <td>0.360049</td>\n",
       "      <td>0.641758</td>\n",
       "      <td>0.461295</td>\n",
       "      <td>811</td>\n",
       "    </tr>\n",
       "    <tr>\n",
       "      <th>Priority Interventions</th>\n",
       "      <td>0.623037</td>\n",
       "      <td>0.592040</td>\n",
       "      <td>0.607143</td>\n",
       "      <td>191</td>\n",
       "    </tr>\n",
       "    <tr>\n",
       "      <th>Priority Interventions-&gt;Expressed By Humanitarian Staff</th>\n",
       "      <td>0.636364</td>\n",
       "      <td>0.567568</td>\n",
       "      <td>0.600000</td>\n",
       "      <td>165</td>\n",
       "    </tr>\n",
       "    <tr>\n",
       "      <th>Priority Interventions-&gt;Expressed By Population</th>\n",
       "      <td>0.000000</td>\n",
       "      <td>0.000000</td>\n",
       "      <td>0.000000</td>\n",
       "      <td>27</td>\n",
       "    </tr>\n",
       "    <tr>\n",
       "      <th>Priority Needs</th>\n",
       "      <td>0.183406</td>\n",
       "      <td>0.477273</td>\n",
       "      <td>0.264984</td>\n",
       "      <td>229</td>\n",
       "    </tr>\n",
       "    <tr>\n",
       "      <th>Priority Needs-&gt;Expressed By Humanitarian Staff</th>\n",
       "      <td>0.062500</td>\n",
       "      <td>0.437500</td>\n",
       "      <td>0.109375</td>\n",
       "      <td>112</td>\n",
       "    </tr>\n",
       "    <tr>\n",
       "      <th>Priority Needs-&gt;Expressed By Population</th>\n",
       "      <td>0.142857</td>\n",
       "      <td>0.850000</td>\n",
       "      <td>0.244604</td>\n",
       "      <td>119</td>\n",
       "    </tr>\n",
       "    <tr>\n",
       "      <th>all</th>\n",
       "      <td>0.617003</td>\n",
       "      <td>0.628104</td>\n",
       "      <td>0.622504</td>\n",
       "      <td>18162</td>\n",
       "    </tr>\n",
       "  </tbody>\n",
       "</table>\n",
       "</div>"
      ],
      "text/plain": [
       "                                                           recall  precision  \\\n",
       "class                                                                          \n",
       "Capacities & Response                                    0.727921   0.694468   \n",
       "Capacities & Response->International Response            0.799578   0.659130   \n",
       "Capacities & Response->National Response                 0.404423   0.457961   \n",
       "Capacities & Response->Number Of People Reached          0.701087   0.658163   \n",
       "Capacities & Response->Response Gaps                     0.000000   0.000000   \n",
       "Humanitarian Conditions                                  0.917188   0.695511   \n",
       "Humanitarian Conditions->Coping Mechanisms               0.215190   0.571429   \n",
       "Humanitarian Conditions->Living Standards                0.788339   0.562981   \n",
       "Humanitarian Conditions->Number Of People In Need        0.354077   0.778302   \n",
       "Humanitarian Conditions->Physical And Mental Well Being  0.603969   0.732218   \n",
       "Impact                                                   0.777418   0.614917   \n",
       "Impact->Driver/Aggravating Factors                       0.450287   0.482088   \n",
       "Impact->Impact On People                                 0.208531   0.521739   \n",
       "Impact->Impact On People Or Impact On Services           0.375587   0.761905   \n",
       "Impact->Impact On Services                               0.172161   0.343066   \n",
       "Impact->Impact On Systems And Services                   0.438395   0.624490   \n",
       "Impact->Number Of People Affected                        0.075908   0.511111   \n",
       "People At Risk                                           0.341324   0.648590   \n",
       "People At Risk->Number Of People At Risk                 0.000000   0.000000   \n",
       "People At Risk->Risk And Vulnerabilities                 0.360049   0.641758   \n",
       "Priority Interventions                                   0.623037   0.592040   \n",
       "Priority Interventions->Expressed By Humanitarian Staff  0.636364   0.567568   \n",
       "Priority Interventions->Expressed By Population          0.000000   0.000000   \n",
       "Priority Needs                                           0.183406   0.477273   \n",
       "Priority Needs->Expressed By Humanitarian Staff          0.062500   0.437500   \n",
       "Priority Needs->Expressed By Population                  0.142857   0.850000   \n",
       "all                                                      0.617003   0.628104   \n",
       "\n",
       "                                                         f1_score  counts  \n",
       "class                                                                      \n",
       "Capacities & Response                                    0.710801    1121  \n",
       "Capacities & Response->International Response            0.722593     474  \n",
       "Capacities & Response->National Response                 0.429530     633  \n",
       "Capacities & Response->Number Of People Reached          0.678947     184  \n",
       "Capacities & Response->Response Gaps                     0.000000       9  \n",
       "Humanitarian Conditions                                  0.791114    3514  \n",
       "Humanitarian Conditions->Coping Mechanisms               0.312644     316  \n",
       "Humanitarian Conditions->Living Standards                0.656869    2041  \n",
       "Humanitarian Conditions->Number Of People In Need        0.486726     466  \n",
       "Humanitarian Conditions->Physical And Mental Well Being  0.661939    1159  \n",
       "Impact                                                   0.686685    2471  \n",
       "Impact->Driver/Aggravating Factors                       0.465645    1046  \n",
       "Impact->Impact On People                                 0.297968     633  \n",
       "Impact->Impact On People Or Impact On Services           0.503145     213  \n",
       "Impact->Impact On Services                               0.229268     273  \n",
       "Impact->Impact On Systems And Services                   0.515152     698  \n",
       "Impact->Number Of People Affected                        0.132184     303  \n",
       "People At Risk                                           0.447270     876  \n",
       "People At Risk->Number Of People At Risk                 0.000000      78  \n",
       "People At Risk->Risk And Vulnerabilities                 0.461295     811  \n",
       "Priority Interventions                                   0.607143     191  \n",
       "Priority Interventions->Expressed By Humanitarian Staff  0.600000     165  \n",
       "Priority Interventions->Expressed By Population          0.000000      27  \n",
       "Priority Needs                                           0.264984     229  \n",
       "Priority Needs->Expressed By Humanitarian Staff          0.109375     112  \n",
       "Priority Needs->Expressed By Population                  0.244604     119  \n",
       "all                                                      0.622504   18162  "
      ]
     },
     "execution_count": 34,
     "metadata": {},
     "output_type": "execute_result"
    }
   ],
   "source": [
    "multi_label_metrics"
   ]
  },
  {
   "cell_type": "code",
   "execution_count": 35,
   "id": "9a3d6fb8",
   "metadata": {},
   "outputs": [
    {
     "data": {
      "text/plain": [
       "<AxesSubplot:xlabel='class'>"
      ]
     },
     "execution_count": 35,
     "metadata": {},
     "output_type": "execute_result"
    },
    {
     "data": {
      "image/png": "[encoded data removed]",
      "text/plain": [
       "<Figure size 1440x720 with 1 Axes>"
      ]
     },
     "metadata": {
      "needs_background": "light"
     },
     "output_type": "display_data"
    }
   ],
   "source": [
    "multi_label_metrics.plot(figsize=(20, 10), xticks=range(len(classes)+1), yticks=[x/10 for x in range(11)], ylim=(0, 1), grid=True)"
   ]
  },
  {
   "cell_type": "code",
   "execution_count": null,
   "id": "c3653224",
   "metadata": {},
   "outputs": [],
   "source": [
    "base = Path('/home/ec2-user/SageMaker/experiments-dfs/models/fastai/results')"
   ]
  },
  {
   "cell_type": "code",
   "execution_count": null,
   "id": "c62338c6",
   "metadata": {},
   "outputs": [],
   "source": [
    "with open(base / 'multi_label_metrics.pickle', 'wb') as f:\n",
    "    pickle.dump(multi_label_metrics, f)"
   ]
  },
  {
   "cell_type": "markdown",
   "id": "2668c9a2",
   "metadata": {},
   "source": [
    "# Analysis"
   ]
  },
  {
   "cell_type": "code",
   "execution_count": null,
   "id": "b170f0f3",
   "metadata": {},
   "outputs": [],
   "source": [
    "tp = test_discrete_preds\n",
    "tt = test_discrete_targets"
   ]
  },
  {
   "cell_type": "code",
   "execution_count": null,
   "id": "5110a004",
   "metadata": {
    "scrolled": true
   },
   "outputs": [],
   "source": [
    "test_df"
   ]
  },
  {
   "cell_type": "code",
   "execution_count": null,
   "id": "8ecf48e5",
   "metadata": {},
   "outputs": [],
   "source": [
    "start = 0"
   ]
  },
  {
   "cell_type": "code",
   "execution_count": null,
   "id": "5869413b",
   "metadata": {},
   "outputs": [],
   "source": [
    "for sentence, sector,p, t, in zip(\n",
    "    test_df.sentence_text.iloc[start:], \n",
    "    test_df.sector_ids.iloc[start:], \n",
    "    tp[start:], \n",
    "    tt[start:]\n",
    "):\n",
    "    if 1 or list(p) != list(t):\n",
    "        print(sentence)\n",
    "        t = [classes[i] for i, x in enumerate(t) if x]\n",
    "        print('Expected:', ', '.join(t))\n",
    "        p = [classes[i] for i, x in enumerate(p) if x]\n",
    "        print('Predicted:', ', '.join(p))\n",
    "    else:\n",
    "        continue\n",
    "    \n",
    "    a = input()\n",
    "    if a == 's':\n",
    "        break\n",
    "    "
   ]
  },
  {
   "cell_type": "code",
   "execution_count": null,
   "id": "b7097b60",
   "metadata": {},
   "outputs": [],
   "source": []
  }
 ],
 "metadata": {
  "kernelspec": {
   "display_name": "Python 3",
   "language": "python",
   "name": "python3"
  },
  "language_info": {
   "codemirror_mode": {
    "name": "ipython",
    "version": 3
   },
   "file_extension": ".py",
   "mimetype": "text/x-python",
   "name": "python",
   "nbconvert_exporter": "python",
   "pygments_lexer": "ipython3",
   "version": "3.9.1"
  }
 },
 "nbformat": 4,
 "nbformat_minor": 5
}
