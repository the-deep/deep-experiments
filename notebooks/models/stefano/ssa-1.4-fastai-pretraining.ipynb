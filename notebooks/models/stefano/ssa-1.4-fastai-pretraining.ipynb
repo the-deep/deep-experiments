{
 "cells": [
  {
   "cell_type": "markdown",
   "id": "7a3235bb",
   "metadata": {},
   "source": [
    "Using kernel `conda_pytorch_latest_p36`"
   ]
  },
  {
   "cell_type": "code",
   "execution_count": 1,
   "id": "d9058a61",
   "metadata": {
    "scrolled": true
   },
   "outputs": [],
   "source": [
    "# !pip install fastai"
   ]
  },
  {
   "cell_type": "code",
   "execution_count": 2,
   "id": "16beb922",
   "metadata": {},
   "outputs": [],
   "source": [
    "classes = [\n",
    "    'Agricolture',\n",
    "    'Cross',\n",
    "    'Education',\n",
    "    'Food Security',\n",
    "    'Health',\n",
    "    'Livelihoods',\n",
    "    'Logistics',\n",
    "    'Nutrition',\n",
    "    'Protection',\n",
    "    'Shelter',\n",
    "    'Wash'\n",
    "]"
   ]
  },
  {
   "cell_type": "code",
   "execution_count": 3,
   "id": "f4da5668",
   "metadata": {},
   "outputs": [],
   "source": [
    "import torch"
   ]
  },
  {
   "cell_type": "code",
   "execution_count": 4,
   "id": "6804abdd",
   "metadata": {},
   "outputs": [],
   "source": [
    "from pathlib import Path\n",
    "import os\n",
    "import random\n",
    "import pickle"
   ]
  },
  {
   "cell_type": "code",
   "execution_count": 5,
   "id": "4164e3dd",
   "metadata": {},
   "outputs": [],
   "source": [
    "from fastai.text.all import *\n",
    "from sklearn import metrics\n",
    "from sklearn.metrics import confusion_matrix, precision_score, recall_score, f1_score"
   ]
  },
  {
   "cell_type": "code",
   "execution_count": 6,
   "id": "c3d84814",
   "metadata": {},
   "outputs": [],
   "source": [
    "data = Path('data_prep/final_data/en/')\n",
    "raw = pd.read_csv('data_prep/data/entries_raw.csv')"
   ]
  },
  {
   "cell_type": "code",
   "execution_count": 7,
   "id": "6a1ad7f7",
   "metadata": {},
   "outputs": [],
   "source": [
    "train = pd.read_csv(data / 'sentences_en_train.csv')\n",
    "test = pd.read_csv(data / 'sentences_en_test.csv')"
   ]
  },
  {
   "cell_type": "code",
   "execution_count": 22,
   "id": "45491ff6",
   "metadata": {},
   "outputs": [],
   "source": [
    "def process_for_sector(df, sector, train):\n",
    "    relevant_train = df[df.is_relevant == 1]\n",
    "    relevant_train.sector_ids = relevant_train.sector_ids.apply(eval)\n",
    "    relevant_train = relevant_train[relevant_train.sector_ids.apply(len) > 0]\n",
    "    \n",
    "    positive_train = relevant_train[relevant_train.sector_ids.apply(lambda x: sector in x)]\n",
    "    negative_train = relevant_train[relevant_train.sector_ids.apply(lambda x: sector not in x)]\n",
    "\n",
    "    positive_train.sector_ids = 1\n",
    "    negative_train.sector_ids = 0\n",
    "    train_df = pd.concat([positive_train, negative_train])\n",
    "    train_df = train_df.sample(frac=1).reset_index(drop=True)\n",
    "    \n",
    "    train_df['is_valid'] = False if train else True\n",
    "        \n",
    "    return train_df"
   ]
  },
  {
   "cell_type": "code",
   "execution_count": 23,
   "id": "769064a4",
   "metadata": {},
   "outputs": [],
   "source": [
    "def process_multiclass(df, train):\n",
    "    relevant_train = df[df.is_relevant == 1]\n",
    "    relevant_train.sector_ids = relevant_train.sector_ids.apply(eval)\n",
    "    relevant_train = relevant_train[relevant_train.sector_ids.apply(len) > 0]\n",
    "    relevant_train.sector_ids = relevant_train.sector_ids.apply(lambda x: ';'.join(classes[i] for i in x))\n",
    "#     relevant_train.sector_ids = relevant_train.sector_ids.apply(lambda x: [classes[i] for i in x][0])\n",
    "\n",
    "    \n",
    "    relevant_train['is_valid'] = False if train else True\n",
    "    \n",
    "    return relevant_train\n",
    "    \n",
    "    "
   ]
  },
  {
   "cell_type": "markdown",
   "id": "36c1dcaf",
   "metadata": {},
   "source": [
    "# Pretraining with fastai"
   ]
  },
  {
   "cell_type": "code",
   "execution_count": 28,
   "id": "030388e1",
   "metadata": {},
   "outputs": [
    {
     "data": {
      "text/html": [],
      "text/plain": [
       "<IPython.core.display.HTML object>"
      ]
     },
     "metadata": {},
     "output_type": "display_data"
    },
    {
     "name": "stderr",
     "output_type": "stream",
     "text": [
      "/home/ec2-user/anaconda3/envs/pytorch_latest_p36/lib/python3.6/site-packages/numpy/core/_asarray.py:83: VisibleDeprecationWarning: Creating an ndarray from ragged nested sequences (which is a list-or-tuple of lists-or-tuples-or ndarrays with different lengths or shapes) is deprecated. If you meant to do this, you must specify 'dtype=object' when creating the ndarray\n",
      "  return array(a, dtype, copy=False, order=order)\n"
     ]
    }
   ],
   "source": [
    "dls_lm = TextDataLoaders.from_df(\n",
    "    raw,\n",
    "    text_col='modified_excerpt_text',\n",
    "    valid_pct=0.1,\n",
    "    is_lm = True,    # Mention explicitly that this dataloader is meant for language model\n",
    "    seq_len = 72,     # Pick a sequence length i.e. how many words to feed through the RNN at once\n",
    "    bs = 64,     # Specify the batch size for the dataloader\n",
    ")"
   ]
  },
  {
   "cell_type": "code",
   "execution_count": 12,
   "id": "bdc4871e",
   "metadata": {
    "scrolled": true
   },
   "outputs": [
    {
     "data": {
      "text/html": [
       "<table border=\"1\" class=\"dataframe\">\n",
       "  <thead>\n",
       "    <tr style=\"text-align: right;\">\n",
       "      <th></th>\n",
       "      <th>text</th>\n",
       "      <th>text_</th>\n",
       "    </tr>\n",
       "  </thead>\n",
       "  <tbody>\n",
       "    <tr>\n",
       "      <th>0</th>\n",
       "      <td>xxbos [ september 10 - 23 , xxup nes , challenges to mitigate xxup covid 19 ] xxmaj key challenges in relation to xxup covid-19 risk mitigation and response capacity include the poor adherence to lockdown / preventative measures , underreporting of symptoms ( especially when mild ) among the camp population with many people refusing to relocate to the isolation area . xxbos xxmaj pour le président de xxunk - l</td>\n",
       "      <td>[ september 10 - 23 , xxup nes , challenges to mitigate xxup covid 19 ] xxmaj key challenges in relation to xxup covid-19 risk mitigation and response capacity include the poor adherence to lockdown / preventative measures , underreporting of symptoms ( especially when mild ) among the camp population with many people refusing to relocate to the isolation area . xxbos xxmaj pour le président de xxunk - l ,</td>\n",
       "    </tr>\n",
       "    <tr>\n",
       "      <th>1</th>\n",
       "      <td>were collected from suspected xxmaj covid-19 patients in the last 24 hours . xxmaj as many as 12,650 samples , including some pending ones , were tested at the 167 authorized labs — government and private — across the country . xxmaj the latest figures showed an infection rate of 8.29 % . xxbos [ xxup nes , xxmaj dec ] xxmaj xxunk camp : xxmaj cases : xxmaj no cases reported</td>\n",
       "      <td>collected from suspected xxmaj covid-19 patients in the last 24 hours . xxmaj as many as 12,650 samples , including some pending ones , were tested at the 167 authorized labs — government and private — across the country . xxmaj the latest figures showed an infection rate of 8.29 % . xxbos [ xxup nes , xxmaj dec ] xxmaj xxunk camp : xxmaj cases : xxmaj no cases reported in</td>\n",
       "    </tr>\n",
       "    <tr>\n",
       "      <th>2</th>\n",
       "      <td>professionals would be largely vaccinated on the first day . xxmaj however , reports showed local representatives and government officials were prioritized instead . xxmaj ministers and high - ranking officials took the first jabs at the centers in the capital while mps , divisional commissioners , or deputy commissioners ( xxunk ) inaugurated their district level programs . xxmaj they got vaccinated in an attempt to encourage people to register for</td>\n",
       "      <td>would be largely vaccinated on the first day . xxmaj however , reports showed local representatives and government officials were prioritized instead . xxmaj ministers and high - ranking officials took the first jabs at the centers in the capital while mps , divisional commissioners , or deputy commissioners ( xxunk ) inaugurated their district level programs . xxmaj they got vaccinated in an attempt to encourage people to register for vaccines</td>\n",
       "    </tr>\n",
       "    <tr>\n",
       "      <th>3</th>\n",
       "      <td>2019 to 30th xxmaj september 2020 , comprised of xxunk xxunk ) . 83 % of the spontaneous refugee returnees report to have been unregistered with authorities in the country of asylum . xxup unhcr xxmaj nigeria is working closely with partners to implement a comprehensive response strategy , including providing targeted assistance to returning xxmaj nigerians , developing the capacity of key stakeholders to the response and xxunk for conditions of</td>\n",
       "      <td>to 30th xxmaj september 2020 , comprised of xxunk xxunk ) . 83 % of the spontaneous refugee returnees report to have been unregistered with authorities in the country of asylum . xxup unhcr xxmaj nigeria is working closely with partners to implement a comprehensive response strategy , including providing targeted assistance to returning xxmaj nigerians , developing the capacity of key stakeholders to the response and xxunk for conditions of returns</td>\n",
       "    </tr>\n",
       "    <tr>\n",
       "      <th>4</th>\n",
       "      <td>xxunk them with their families , as well as providing psychological first aid to ensure children feel safe and protected . xxbos [ dec 2020 , xxup nws ] 423 hfs functional compared to 396 in 3rd quarter 2020 . xxmaj the breakdown of the functioning health facilities is as follows \\n\\n 63 ( 15 % ) are xxmaj hospitals , 173 ( 41 % ) are fixed phcs , 83 (</td>\n",
       "      <td>them with their families , as well as providing psychological first aid to ensure children feel safe and protected . xxbos [ dec 2020 , xxup nws ] 423 hfs functional compared to 396 in 3rd quarter 2020 . xxmaj the breakdown of the functioning health facilities is as follows \\n\\n 63 ( 15 % ) are xxmaj hospitals , 173 ( 41 % ) are fixed phcs , 83 ( 19.5</td>\n",
       "    </tr>\n",
       "  </tbody>\n",
       "</table>"
      ],
      "text/plain": [
       "<IPython.core.display.HTML object>"
      ]
     },
     "metadata": {},
     "output_type": "display_data"
    }
   ],
   "source": [
    "dls.show_batch(max_n=5)"
   ]
  },
  {
   "cell_type": "code",
   "execution_count": 15,
   "id": "934710be",
   "metadata": {},
   "outputs": [],
   "source": [
    "learn = language_model_learner(dls, AWD_LSTM, metrics=[accuracy, Perplexity()], wd=0.1).to_fp16()"
   ]
  },
  {
   "cell_type": "code",
   "execution_count": 16,
   "id": "1701c625",
   "metadata": {},
   "outputs": [
    {
     "data": {
      "text/html": [
       "<table border=\"1\" class=\"dataframe\">\n",
       "  <thead>\n",
       "    <tr style=\"text-align: left;\">\n",
       "      <th>epoch</th>\n",
       "      <th>train_loss</th>\n",
       "      <th>valid_loss</th>\n",
       "      <th>accuracy</th>\n",
       "      <th>perplexity</th>\n",
       "      <th>time</th>\n",
       "    </tr>\n",
       "  </thead>\n",
       "  <tbody>\n",
       "    <tr>\n",
       "      <td>0</td>\n",
       "      <td>4.091970</td>\n",
       "      <td>3.733645</td>\n",
       "      <td>0.333683</td>\n",
       "      <td>41.831326</td>\n",
       "      <td>08:41</td>\n",
       "    </tr>\n",
       "  </tbody>\n",
       "</table>"
      ],
      "text/plain": [
       "<IPython.core.display.HTML object>"
      ]
     },
     "metadata": {},
     "output_type": "display_data"
    }
   ],
   "source": [
    "learn.fit_one_cycle(1, 1e-2)"
   ]
  },
  {
   "cell_type": "code",
   "execution_count": 18,
   "id": "338e2b83",
   "metadata": {},
   "outputs": [
    {
     "data": {
      "text/plain": [
       "'/home/ec2-user/SageMaker/experiments-dfs'"
      ]
     },
     "execution_count": 18,
     "metadata": {},
     "output_type": "execute_result"
    }
   ],
   "source": [
    "pwd"
   ]
  },
  {
   "cell_type": "code",
   "execution_count": 19,
   "id": "ab016635",
   "metadata": {},
   "outputs": [
    {
     "data": {
      "text/html": [
       "<table border=\"1\" class=\"dataframe\">\n",
       "  <thead>\n",
       "    <tr style=\"text-align: left;\">\n",
       "      <th>epoch</th>\n",
       "      <th>train_loss</th>\n",
       "      <th>valid_loss</th>\n",
       "      <th>accuracy</th>\n",
       "      <th>perplexity</th>\n",
       "      <th>time</th>\n",
       "    </tr>\n",
       "  </thead>\n",
       "  <tbody>\n",
       "    <tr>\n",
       "      <td>0</td>\n",
       "      <td>3.724900</td>\n",
       "      <td>3.533549</td>\n",
       "      <td>0.356897</td>\n",
       "      <td>34.245300</td>\n",
       "      <td>09:57</td>\n",
       "    </tr>\n",
       "    <tr>\n",
       "      <td>1</td>\n",
       "      <td>3.470097</td>\n",
       "      <td>3.333563</td>\n",
       "      <td>0.380279</td>\n",
       "      <td>28.038067</td>\n",
       "      <td>09:56</td>\n",
       "    </tr>\n",
       "    <tr>\n",
       "      <td>2</td>\n",
       "      <td>3.287098</td>\n",
       "      <td>3.167332</td>\n",
       "      <td>0.398922</td>\n",
       "      <td>23.744043</td>\n",
       "      <td>09:56</td>\n",
       "    </tr>\n",
       "    <tr>\n",
       "      <td>3</td>\n",
       "      <td>3.154584</td>\n",
       "      <td>3.066421</td>\n",
       "      <td>0.410630</td>\n",
       "      <td>21.464931</td>\n",
       "      <td>09:56</td>\n",
       "    </tr>\n",
       "    <tr>\n",
       "      <td>4</td>\n",
       "      <td>3.016346</td>\n",
       "      <td>2.986583</td>\n",
       "      <td>0.421629</td>\n",
       "      <td>19.817854</td>\n",
       "      <td>09:56</td>\n",
       "    </tr>\n",
       "    <tr>\n",
       "      <td>5</td>\n",
       "      <td>2.935730</td>\n",
       "      <td>2.932996</td>\n",
       "      <td>0.429213</td>\n",
       "      <td>18.783827</td>\n",
       "      <td>09:56</td>\n",
       "    </tr>\n",
       "    <tr>\n",
       "      <td>6</td>\n",
       "      <td>2.828352</td>\n",
       "      <td>2.899021</td>\n",
       "      <td>0.435023</td>\n",
       "      <td>18.156361</td>\n",
       "      <td>09:56</td>\n",
       "    </tr>\n",
       "    <tr>\n",
       "      <td>7</td>\n",
       "      <td>2.764089</td>\n",
       "      <td>2.878101</td>\n",
       "      <td>0.438352</td>\n",
       "      <td>17.780470</td>\n",
       "      <td>09:56</td>\n",
       "    </tr>\n",
       "    <tr>\n",
       "      <td>8</td>\n",
       "      <td>2.725973</td>\n",
       "      <td>2.870147</td>\n",
       "      <td>0.440028</td>\n",
       "      <td>17.639606</td>\n",
       "      <td>09:56</td>\n",
       "    </tr>\n",
       "    <tr>\n",
       "      <td>9</td>\n",
       "      <td>2.681025</td>\n",
       "      <td>2.869824</td>\n",
       "      <td>0.440240</td>\n",
       "      <td>17.633917</td>\n",
       "      <td>09:56</td>\n",
       "    </tr>\n",
       "  </tbody>\n",
       "</table>"
      ],
      "text/plain": [
       "<IPython.core.display.HTML object>"
      ]
     },
     "metadata": {},
     "output_type": "display_data"
    }
   ],
   "source": [
    "learn.unfreeze()\n",
    "learn.fit_one_cycle(10, 1e-3)"
   ]
  },
  {
   "cell_type": "code",
   "execution_count": 20,
   "id": "7c761e39",
   "metadata": {},
   "outputs": [],
   "source": [
    "learn.save_encoder('finetuned')"
   ]
  },
  {
   "cell_type": "markdown",
   "id": "cf726b4a",
   "metadata": {},
   "source": [
    "# Use fastai"
   ]
  },
  {
   "cell_type": "code",
   "execution_count": 24,
   "id": "eb833c51",
   "metadata": {},
   "outputs": [
    {
     "name": "stderr",
     "output_type": "stream",
     "text": [
      "/home/ec2-user/anaconda3/envs/pytorch_latest_p36/lib/python3.6/site-packages/pandas/core/generic.py:5170: SettingWithCopyWarning: \n",
      "A value is trying to be set on a copy of a slice from a DataFrame.\n",
      "Try using .loc[row_indexer,col_indexer] = value instead\n",
      "\n",
      "See the caveats in the documentation: https://pandas.pydata.org/pandas-docs/stable/user_guide/indexing.html#returning-a-view-versus-a-copy\n",
      "  self[name] = value\n",
      "/home/ec2-user/anaconda3/envs/pytorch_latest_p36/lib/python3.6/site-packages/pandas/core/generic.py:5170: SettingWithCopyWarning: \n",
      "A value is trying to be set on a copy of a slice from a DataFrame.\n",
      "Try using .loc[row_indexer,col_indexer] = value instead\n",
      "\n",
      "See the caveats in the documentation: https://pandas.pydata.org/pandas-docs/stable/user_guide/indexing.html#returning-a-view-versus-a-copy\n",
      "  self[name] = value\n"
     ]
    }
   ],
   "source": [
    "train_df = process_multiclass(train, True)\n",
    "test_df = process_multiclass(test, False)\n",
    "df = pd.concat([train_df, test_df])"
   ]
  },
  {
   "cell_type": "code",
   "execution_count": 29,
   "id": "abf8f155",
   "metadata": {},
   "outputs": [
    {
     "data": {
      "text/html": [],
      "text/plain": [
       "<IPython.core.display.HTML object>"
      ]
     },
     "metadata": {},
     "output_type": "display_data"
    },
    {
     "name": "stderr",
     "output_type": "stream",
     "text": [
      "/home/ec2-user/anaconda3/envs/pytorch_latest_p36/lib/python3.6/site-packages/numpy/core/_asarray.py:83: VisibleDeprecationWarning: Creating an ndarray from ragged nested sequences (which is a list-or-tuple of lists-or-tuples-or ndarrays with different lengths or shapes) is deprecated. If you meant to do this, you must specify 'dtype=object' when creating the ndarray\n",
      "  return array(a, dtype, copy=False, order=order)\n"
     ]
    }
   ],
   "source": [
    "dls = TextDataLoaders.from_df(\n",
    "    df,\n",
    "    text_col='sentence_text',\n",
    "    label_col='sector_ids',\n",
    "    label_delim=';',\n",
    "    valid_col='is_valid',\n",
    "    is_lm = False,    # Mention explicitly that this dataloader is meant for language model\n",
    "    seq_len = 72,     # Pick a sequence length i.e. how many words to feed through the RNN at once\n",
    "    bs = 64,     # Specify the batch size for the dataloader\n",
    "    y_block=MultiCategoryBlock,\n",
    "    text_vocab=dls_lm.vocab,\n",
    ")\n",
    "learn = text_classifier_learner(\n",
    "    dls, \n",
    "    AWD_LSTM, \n",
    "    drop_mult=0.5, \n",
    "    metrics=[\n",
    "        accuracy_multi, \n",
    "        RecallMulti(thresh=0.35), \n",
    "        PrecisionMulti(thresh=0.35), \n",
    "        F1ScoreMulti(thresh=0.35), \n",
    "        RocAucMulti()\n",
    "    ]\n",
    ")"
   ]
  },
  {
   "cell_type": "code",
   "execution_count": 30,
   "id": "1375d477",
   "metadata": {},
   "outputs": [],
   "source": [
    "learn = learn.load_encoder('finetuned')"
   ]
  },
  {
   "cell_type": "code",
   "execution_count": 31,
   "id": "36623b39",
   "metadata": {},
   "outputs": [
    {
     "data": {
      "text/html": [
       "<table border=\"1\" class=\"dataframe\">\n",
       "  <thead>\n",
       "    <tr style=\"text-align: left;\">\n",
       "      <th>epoch</th>\n",
       "      <th>train_loss</th>\n",
       "      <th>valid_loss</th>\n",
       "      <th>accuracy_multi</th>\n",
       "      <th>recall_score</th>\n",
       "      <th>precision_score</th>\n",
       "      <th>f1_score</th>\n",
       "      <th>roc_auc_score</th>\n",
       "      <th>time</th>\n",
       "    </tr>\n",
       "  </thead>\n",
       "  <tbody>\n",
       "    <tr>\n",
       "      <td>0</td>\n",
       "      <td>0.219619</td>\n",
       "      <td>0.208932</td>\n",
       "      <td>0.921855</td>\n",
       "      <td>0.537709</td>\n",
       "      <td>0.625068</td>\n",
       "      <td>0.574201</td>\n",
       "      <td>0.888888</td>\n",
       "      <td>00:59</td>\n",
       "    </tr>\n",
       "  </tbody>\n",
       "</table>"
      ],
      "text/plain": [
       "<IPython.core.display.HTML object>"
      ]
     },
     "metadata": {},
     "output_type": "display_data"
    }
   ],
   "source": [
    "learn.fit_one_cycle(1, 2e-2)"
   ]
  },
  {
   "cell_type": "code",
   "execution_count": 32,
   "id": "3c11bbcf",
   "metadata": {},
   "outputs": [
    {
     "data": {
      "text/html": [
       "<table border=\"1\" class=\"dataframe\">\n",
       "  <thead>\n",
       "    <tr style=\"text-align: left;\">\n",
       "      <th>epoch</th>\n",
       "      <th>train_loss</th>\n",
       "      <th>valid_loss</th>\n",
       "      <th>accuracy_multi</th>\n",
       "      <th>recall_score</th>\n",
       "      <th>precision_score</th>\n",
       "      <th>f1_score</th>\n",
       "      <th>roc_auc_score</th>\n",
       "      <th>time</th>\n",
       "    </tr>\n",
       "  </thead>\n",
       "  <tbody>\n",
       "    <tr>\n",
       "      <td>0</td>\n",
       "      <td>0.204921</td>\n",
       "      <td>0.201038</td>\n",
       "      <td>0.925828</td>\n",
       "      <td>0.558615</td>\n",
       "      <td>0.636169</td>\n",
       "      <td>0.589695</td>\n",
       "      <td>0.896844</td>\n",
       "      <td>01:08</td>\n",
       "    </tr>\n",
       "  </tbody>\n",
       "</table>"
      ],
      "text/plain": [
       "<IPython.core.display.HTML object>"
      ]
     },
     "metadata": {},
     "output_type": "display_data"
    }
   ],
   "source": [
    "learn.freeze_to(-2)\n",
    "learn.fit_one_cycle(1, slice(1e-2/(2.6**4),1e-2))"
   ]
  },
  {
   "cell_type": "code",
   "execution_count": 33,
   "id": "cea592d7",
   "metadata": {},
   "outputs": [
    {
     "data": {
      "text/html": [
       "<table border=\"1\" class=\"dataframe\">\n",
       "  <thead>\n",
       "    <tr style=\"text-align: left;\">\n",
       "      <th>epoch</th>\n",
       "      <th>train_loss</th>\n",
       "      <th>valid_loss</th>\n",
       "      <th>accuracy_multi</th>\n",
       "      <th>recall_score</th>\n",
       "      <th>precision_score</th>\n",
       "      <th>f1_score</th>\n",
       "      <th>roc_auc_score</th>\n",
       "      <th>time</th>\n",
       "    </tr>\n",
       "  </thead>\n",
       "  <tbody>\n",
       "    <tr>\n",
       "      <td>0</td>\n",
       "      <td>0.188564</td>\n",
       "      <td>0.194136</td>\n",
       "      <td>0.930019</td>\n",
       "      <td>0.624301</td>\n",
       "      <td>0.656154</td>\n",
       "      <td>0.635673</td>\n",
       "      <td>0.902883</td>\n",
       "      <td>01:39</td>\n",
       "    </tr>\n",
       "  </tbody>\n",
       "</table>"
      ],
      "text/plain": [
       "<IPython.core.display.HTML object>"
      ]
     },
     "metadata": {},
     "output_type": "display_data"
    }
   ],
   "source": [
    "learn.freeze_to(-3)\n",
    "learn.fit_one_cycle(1, slice(5e-3/(2.6**4),5e-3))"
   ]
  },
  {
   "cell_type": "code",
   "execution_count": 34,
   "id": "38416426",
   "metadata": {},
   "outputs": [
    {
     "data": {
      "text/html": [
       "<table border=\"1\" class=\"dataframe\">\n",
       "  <thead>\n",
       "    <tr style=\"text-align: left;\">\n",
       "      <th>epoch</th>\n",
       "      <th>train_loss</th>\n",
       "      <th>valid_loss</th>\n",
       "      <th>accuracy_multi</th>\n",
       "      <th>recall_score</th>\n",
       "      <th>precision_score</th>\n",
       "      <th>f1_score</th>\n",
       "      <th>roc_auc_score</th>\n",
       "      <th>time</th>\n",
       "    </tr>\n",
       "  </thead>\n",
       "  <tbody>\n",
       "    <tr>\n",
       "      <td>0</td>\n",
       "      <td>0.174221</td>\n",
       "      <td>0.191645</td>\n",
       "      <td>0.930958</td>\n",
       "      <td>0.620416</td>\n",
       "      <td>0.672335</td>\n",
       "      <td>0.642543</td>\n",
       "      <td>0.904927</td>\n",
       "      <td>02:11</td>\n",
       "    </tr>\n",
       "    <tr>\n",
       "      <td>1</td>\n",
       "      <td>0.166373</td>\n",
       "      <td>0.193153</td>\n",
       "      <td>0.930614</td>\n",
       "      <td>0.631178</td>\n",
       "      <td>0.653438</td>\n",
       "      <td>0.637467</td>\n",
       "      <td>0.904993</td>\n",
       "      <td>02:10</td>\n",
       "    </tr>\n",
       "  </tbody>\n",
       "</table>"
      ],
      "text/plain": [
       "<IPython.core.display.HTML object>"
      ]
     },
     "metadata": {},
     "output_type": "display_data"
    }
   ],
   "source": [
    "learn.unfreeze()\n",
    "learn.fit_one_cycle(2, slice(1e-3/(2.6**4),1e-3))"
   ]
  },
  {
   "cell_type": "code",
   "execution_count": 35,
   "id": "12d33ed6",
   "metadata": {},
   "outputs": [],
   "source": [
    "def get_threshold_metrics(preds, targets, num_thresholds):\n",
    "    thresholds = [x/num_thresholds for x in range(num_thresholds)]\n",
    "\n",
    "    recalls = []\n",
    "    precisions = []\n",
    "    f1_scores = []\n",
    "\n",
    "    for threshold in thresholds:\n",
    "        t_preds = (preds.view(-1).numpy() > threshold).astype(int)\n",
    "        t_targets = targets.view(-1).numpy()\n",
    "        precisions.append(precision_score(t_preds, t_targets))\n",
    "        recalls.append(recall_score(t_preds, t_targets))    \n",
    "        f1_scores.append(f1_score(t_preds, t_targets))        \n",
    "        \n",
    "    all_metrics = pd.DataFrame(\n",
    "        {\n",
    "            'threshold': thresholds,\n",
    "            'recall': recalls,\n",
    "            'precision': precisions,\n",
    "            'f1_score': f1_scores\n",
    "        }\n",
    "    ).set_index('threshold', drop=True)\n",
    "\n",
    "    return all_metrics"
   ]
  },
  {
   "cell_type": "code",
   "execution_count": 36,
   "id": "46d1f3c4",
   "metadata": {},
   "outputs": [],
   "source": [
    "def get_best_threshold(learner, num_thresholds=20):\n",
    "    train_preds, train_targets = learn.get_preds(0)\n",
    "    train_metrics = get_threshold_metrics(train_preds, train_targets, num_thresholds)\n",
    "    best_threshold = train_metrics.f1_score.idxmax()\n",
    "    \n",
    "    return best_threshold"
   ]
  },
  {
   "cell_type": "code",
   "execution_count": 37,
   "id": "9bc61eef",
   "metadata": {},
   "outputs": [],
   "source": [
    "def get_metrics(preds, targets):\n",
    "    indexes = []\n",
    "    recalls = []\n",
    "    precisions = []\n",
    "    f1_scores = []\n",
    "    \n",
    "    for i, class_ in enumerate(classes):\n",
    "        class_preds = preds[:, i]\n",
    "        class_targets = targets[:, i]\n",
    "        \n",
    "        indexes.append(class_)\n",
    "        precisions.append(precision_score(class_preds, class_targets))\n",
    "        recalls.append(recall_score(class_preds, class_targets))    \n",
    "        f1_scores.append(f1_score(class_preds, class_targets))        \n",
    "        \n",
    "    indexes.append('all')\n",
    "    precisions.append(precision_score(preds.view(-1), targets.view(-1)))\n",
    "    recalls.append(recall_score(preds.view(-1), targets.view(-1)))    \n",
    "    f1_scores.append(f1_score(preds.view(-1), targets.view(-1)))       \n",
    "\n",
    "    \n",
    "    all_metrics = pd.DataFrame(\n",
    "        {\n",
    "            'class': indexes,\n",
    "            'recall': recalls,\n",
    "            'precision': precisions,\n",
    "            'f1_score': f1_scores\n",
    "        }\n",
    "    ).set_index('class', drop=True)\n",
    "    \n",
    "    return all_metrics"
   ]
  },
  {
   "cell_type": "code",
   "execution_count": 38,
   "id": "8d589da0",
   "metadata": {},
   "outputs": [],
   "source": [
    "def evaluate(learner, threshold):\n",
    "    test_preds, test_targets = learn.get_preds(1)\n",
    "    "
   ]
  },
  {
   "cell_type": "code",
   "execution_count": 39,
   "id": "0a263acd",
   "metadata": {},
   "outputs": [
    {
     "data": {
      "text/html": [],
      "text/plain": [
       "<IPython.core.display.HTML object>"
      ]
     },
     "metadata": {},
     "output_type": "display_data"
    },
    {
     "name": "stdout",
     "output_type": "stream",
     "text": [
      "0.35\n"
     ]
    }
   ],
   "source": [
    "best_threshold = get_best_threshold(learn)\n",
    "print(best_threshold)"
   ]
  },
  {
   "cell_type": "code",
   "execution_count": 40,
   "id": "b395c84d",
   "metadata": {},
   "outputs": [
    {
     "data": {
      "text/html": [],
      "text/plain": [
       "<IPython.core.display.HTML object>"
      ]
     },
     "metadata": {},
     "output_type": "display_data"
    }
   ],
   "source": [
    "test_preds, test_targets = learn.get_preds(1)\n",
    "test_discrete_preds = (test_preds > best_threshold).int()\n",
    "test_discrete_targets = test_targets.int()"
   ]
  },
  {
   "cell_type": "code",
   "execution_count": 41,
   "id": "f020a4ec",
   "metadata": {},
   "outputs": [],
   "source": [
    "multi_label_metrics = get_metrics(test_discrete_preds,test_discrete_targets)"
   ]
  },
  {
   "cell_type": "code",
   "execution_count": 42,
   "id": "831660df",
   "metadata": {
    "scrolled": true
   },
   "outputs": [
    {
     "data": {
      "text/html": [
       "<div>\n",
       "<style scoped>\n",
       "    .dataframe tbody tr th:only-of-type {\n",
       "        vertical-align: middle;\n",
       "    }\n",
       "\n",
       "    .dataframe tbody tr th {\n",
       "        vertical-align: top;\n",
       "    }\n",
       "\n",
       "    .dataframe thead th {\n",
       "        text-align: right;\n",
       "    }\n",
       "</style>\n",
       "<table border=\"1\" class=\"dataframe\">\n",
       "  <thead>\n",
       "    <tr style=\"text-align: right;\">\n",
       "      <th></th>\n",
       "      <th>recall</th>\n",
       "      <th>precision</th>\n",
       "      <th>f1_score</th>\n",
       "    </tr>\n",
       "    <tr>\n",
       "      <th>class</th>\n",
       "      <th></th>\n",
       "      <th></th>\n",
       "      <th></th>\n",
       "    </tr>\n",
       "  </thead>\n",
       "  <tbody>\n",
       "    <tr>\n",
       "      <th>Agricolture</th>\n",
       "      <td>0.566038</td>\n",
       "      <td>0.652174</td>\n",
       "      <td>0.606061</td>\n",
       "    </tr>\n",
       "    <tr>\n",
       "      <th>Cross</th>\n",
       "      <td>0.452471</td>\n",
       "      <td>0.521930</td>\n",
       "      <td>0.484725</td>\n",
       "    </tr>\n",
       "    <tr>\n",
       "      <th>Education</th>\n",
       "      <td>0.757576</td>\n",
       "      <td>0.655022</td>\n",
       "      <td>0.702576</td>\n",
       "    </tr>\n",
       "    <tr>\n",
       "      <th>Food Security</th>\n",
       "      <td>0.675879</td>\n",
       "      <td>0.684478</td>\n",
       "      <td>0.680152</td>\n",
       "    </tr>\n",
       "    <tr>\n",
       "      <th>Health</th>\n",
       "      <td>0.873622</td>\n",
       "      <td>0.817460</td>\n",
       "      <td>0.844608</td>\n",
       "    </tr>\n",
       "    <tr>\n",
       "      <th>Livelihoods</th>\n",
       "      <td>0.578035</td>\n",
       "      <td>0.561798</td>\n",
       "      <td>0.569801</td>\n",
       "    </tr>\n",
       "    <tr>\n",
       "      <th>Logistics</th>\n",
       "      <td>0.659574</td>\n",
       "      <td>0.446043</td>\n",
       "      <td>0.532189</td>\n",
       "    </tr>\n",
       "    <tr>\n",
       "      <th>Nutrition</th>\n",
       "      <td>0.589928</td>\n",
       "      <td>0.713043</td>\n",
       "      <td>0.645669</td>\n",
       "    </tr>\n",
       "    <tr>\n",
       "      <th>Protection</th>\n",
       "      <td>0.665060</td>\n",
       "      <td>0.652482</td>\n",
       "      <td>0.658711</td>\n",
       "    </tr>\n",
       "    <tr>\n",
       "      <th>Shelter</th>\n",
       "      <td>0.580645</td>\n",
       "      <td>0.649485</td>\n",
       "      <td>0.613139</td>\n",
       "    </tr>\n",
       "    <tr>\n",
       "      <th>Wash</th>\n",
       "      <td>0.788991</td>\n",
       "      <td>0.589041</td>\n",
       "      <td>0.674510</td>\n",
       "    </tr>\n",
       "    <tr>\n",
       "      <th>all</th>\n",
       "      <td>0.694734</td>\n",
       "      <td>0.674854</td>\n",
       "      <td>0.684650</td>\n",
       "    </tr>\n",
       "  </tbody>\n",
       "</table>\n",
       "</div>"
      ],
      "text/plain": [
       "                 recall  precision  f1_score\n",
       "class                                       \n",
       "Agricolture    0.566038   0.652174  0.606061\n",
       "Cross          0.452471   0.521930  0.484725\n",
       "Education      0.757576   0.655022  0.702576\n",
       "Food Security  0.675879   0.684478  0.680152\n",
       "Health         0.873622   0.817460  0.844608\n",
       "Livelihoods    0.578035   0.561798  0.569801\n",
       "Logistics      0.659574   0.446043  0.532189\n",
       "Nutrition      0.589928   0.713043  0.645669\n",
       "Protection     0.665060   0.652482  0.658711\n",
       "Shelter        0.580645   0.649485  0.613139\n",
       "Wash           0.788991   0.589041  0.674510\n",
       "all            0.694734   0.674854  0.684650"
      ]
     },
     "execution_count": 42,
     "metadata": {},
     "output_type": "execute_result"
    }
   ],
   "source": [
    "multi_label_metrics"
   ]
  },
  {
   "cell_type": "code",
   "execution_count": 43,
   "id": "61a9e777",
   "metadata": {
    "scrolled": false
   },
   "outputs": [
    {
     "data": {
      "text/plain": [
       "<AxesSubplot:xlabel='class'>"
      ]
     },
     "execution_count": 43,
     "metadata": {},
     "output_type": "execute_result"
    },
    {
     "data": {
      "image/png": "[encoded data removed]",
      "text/plain": [
       "<Figure size 1440x720 with 1 Axes>"
      ]
     },
     "metadata": {
      "needs_background": "light"
     },
     "output_type": "display_data"
    }
   ],
   "source": [
    "multi_label_metrics.plot(figsize=(20, 10), xticks=range(12), yticks=[x/10 for x in range(11)], ylim=(0, 1), grid=True)"
   ]
  },
  {
   "cell_type": "code",
   "execution_count": 49,
   "id": "d0743e3d",
   "metadata": {
    "scrolled": false
   },
   "outputs": [
    {
     "data": {
      "text/plain": [
       "<AxesSubplot:xlabel='class'>"
      ]
     },
     "execution_count": 49,
     "metadata": {},
     "output_type": "execute_result"
    },
    {
     "data": {
      "image/png": "[encoded data removed]",
      "text/plain": [
       "<Figure size 1440x720 with 1 Axes>"
      ]
     },
     "metadata": {
      "needs_background": "light"
     },
     "output_type": "display_data"
    }
   ],
   "source": [
    "multi_label_metrics.plot(figsize=(20, 10), xticks=range(12), yticks=[x/10 for x in range(11)], ylim=(0, 1), grid=True)"
   ]
  },
  {
   "cell_type": "code",
   "execution_count": 45,
   "id": "db4c8d99",
   "metadata": {},
   "outputs": [],
   "source": [
    "base = Path('/home/ec2-user/SageMaker/experiments-dfs/models/fastai/results')"
   ]
  },
  {
   "cell_type": "code",
   "execution_count": 46,
   "id": "8f5ce737",
   "metadata": {},
   "outputs": [],
   "source": [
    "with open(base / 'pretrained_multi_label.pickle', 'wb') as f:\n",
    "    pickle.dump(multi_label_metrics, f)"
   ]
  },
  {
   "cell_type": "code",
   "execution_count": null,
   "id": "b8235df8",
   "metadata": {},
   "outputs": [],
   "source": []
  }
 ],
 "metadata": {
  "kernelspec": {
   "display_name": "conda_pytorch_latest_p36",
   "language": "python",
   "name": "conda_pytorch_latest_p36"
  },
  "language_info": {
   "codemirror_mode": {
    "name": "ipython",
    "version": 3
   },
   "file_extension": ".py",
   "mimetype": "text/x-python",
   "name": "python",
   "nbconvert_exporter": "python",
   "pygments_lexer": "ipython3",
   "version": "3.6.13"
  }
 },
 "nbformat": 4,
 "nbformat_minor": 5
}
