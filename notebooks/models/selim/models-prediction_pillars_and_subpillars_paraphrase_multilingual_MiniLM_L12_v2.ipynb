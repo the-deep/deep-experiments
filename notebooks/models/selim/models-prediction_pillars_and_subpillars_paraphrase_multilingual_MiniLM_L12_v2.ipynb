{
 "cells": [
  {
   "cell_type": "markdown",
   "metadata": {
    "id": "nFoHamdsl8fa",
    "scrolled": true
   },
   "source": [
    "kernel `conda_pytorch_latest_p36`"
   ]
  },
  {
   "cell_type": "code",
   "execution_count": 249,
   "metadata": {
    "colab": {
     "base_uri": "https://localhost:8080/",
     "height": 35
    },
    "id": "G-zRMx6ul8fo",
    "outputId": "ba376e6d-7275-4cf2-8332-64808a444751",
    "scrolled": true
   },
   "outputs": [
    {
     "data": {
      "application/vnd.google.colaboratory.intrinsic+json": {
       "type": "string"
      },
      "text/plain": [
       "'!pip install icecream\\n!pip install tqdm\\n!pip install torchmetrics\\n!pip install pytorch_lightning\\n!pip install transformers'"
      ]
     },
     "execution_count": 249,
     "metadata": {
      "tags": []
     },
     "output_type": "execute_result"
    }
   ],
   "source": [
    "\"\"\"!pip install icecream\n",
    "!pip install tqdm\n",
    "!pip install torchmetrics\n",
    "!pip install pytorch_lightning\n",
    "!pip install transformers\"\"\""
   ]
  },
  {
   "cell_type": "code",
   "execution_count": 237,
   "metadata": {
    "ExecuteTime": {
     "end_time": "2021-06-01T14:49:30.843642Z",
     "start_time": "2021-06-01T14:49:30.663973Z"
    },
    "id": "o6j6KBiWl8f4"
   },
   "outputs": [],
   "source": [
    "import os\n",
    "import sys\n",
    "import logging\n",
    "import argparse\n",
    "from pathlib import Path\n",
    "from ast import literal_eval\n",
    "from collections import Counter\n",
    "from typing import Any, Dict, Optional\n",
    "\n",
    "from icecream import ic\n",
    "from tqdm.auto import tqdm\n",
    "\n",
    "import torchmetrics\n",
    "from torchmetrics.functional import accuracy, f1, auroc\n",
    "\n",
    "import pytorch_lightning as pl\n",
    "from pytorch_lightning.loggers import TensorBoardLogger\n",
    "from pytorch_lightning.core.decorators import auto_move_data\n",
    "from pytorch_lightning.callbacks import ModelCheckpoint, EarlyStopping\n",
    "\n",
    "import torch\n",
    "from torch import nn\n",
    "import torch.nn.functional as F\n",
    "from torch.utils.data import Dataset, DataLoader, RandomSampler, SequentialSampler\n",
    "\n",
    "import numpy as np\n",
    "import pandas as pd\n",
    "import seaborn as sns\n",
    "from sklearn.model_selection import train_test_split\n",
    "from sklearn.metrics import classification_report, multilabel_confusion_matrix\n",
    "\n",
    "\n",
    "import matplotlib.pyplot as plt\n",
    "from pylab import rcParams\n",
    "from matplotlib import rc\n",
    "\n",
    "import transformers\n",
    "from transformers import (\n",
    "    AdamW,\n",
    "    AutoConfig,\n",
    "    AutoModel,\n",
    "    AutoModelForSequenceClassification,\n",
    "    T5ForConditionalGeneration,\n",
    "    T5Tokenizer,\n",
    "    AutoTokenizer,\n",
    ")\n",
    "from transformers.optimization import (\n",
    "    Adafactor,\n",
    "    get_linear_schedule_with_warmup,\n",
    ")\n",
    "\n",
    "import tensorflow as tf\n",
    "import re"
   ]
  },
  {
   "cell_type": "code",
   "execution_count": 3,
   "metadata": {
    "ExecuteTime": {
     "end_time": "2021-06-01T14:49:31.657777Z",
     "start_time": "2021-06-01T14:49:31.631040Z"
    },
    "id": "JpIr0FMtl8f9"
   },
   "outputs": [],
   "source": [
    "%matplotlib inline\n",
    "%config InlineBackend.figure_format='retina'"
   ]
  },
  {
   "cell_type": "code",
   "execution_count": 4,
   "metadata": {
    "ExecuteTime": {
     "end_time": "2021-06-01T14:49:32.921745Z",
     "start_time": "2021-06-01T14:49:32.910873Z"
    },
    "id": "MLaS7_7Vl8gA"
   },
   "outputs": [],
   "source": [
    "sns.set(style='whitegrid', palette='muted', font_scale=1.2)\n",
    "HAPPY_COLORS_PALETTE = [\"#01BEFE\", \"#FFDD00\", \"#FF7D00\", \"#FF006D\", \"#ADFF02\", \"#8F00FF\"]\n",
    "sns.set_palette(sns.color_palette(HAPPY_COLORS_PALETTE))\n",
    "rcParams['figure.figsize'] = 12, 8"
   ]
  },
  {
   "cell_type": "code",
   "execution_count": 5,
   "metadata": {
    "ExecuteTime": {
     "end_time": "2021-06-01T14:49:35.745930Z",
     "start_time": "2021-06-01T14:49:35.741002Z"
    },
    "colab": {
     "base_uri": "https://localhost:8080/"
    },
    "id": "HLmILwiEl8gE",
    "outputId": "f1b16074-c240-4499-f0da-a2b6e2dca22e"
   },
   "outputs": [
    {
     "name": "stderr",
     "output_type": "stream",
     "text": [
      "Global seed set to 2021\n"
     ]
    },
    {
     "data": {
      "text/plain": [
       "2021"
      ]
     },
     "execution_count": 5,
     "metadata": {
      "tags": []
     },
     "output_type": "execute_result"
    }
   ],
   "source": [
    "RANDOM_SEED=2021\n",
    "pl.seed_everything(RANDOM_SEED)"
   ]
  },
  {
   "cell_type": "code",
   "execution_count": 6,
   "metadata": {
    "ExecuteTime": {
     "end_time": "2021-06-01T14:49:41.389959Z",
     "start_time": "2021-06-01T14:49:41.387543Z"
    },
    "id": "7430FF0Rl8gJ"
   },
   "outputs": [],
   "source": [
    "ic.configureOutput(outputFunction=sys.stdout.write, includeContext=True)"
   ]
  },
  {
   "cell_type": "code",
   "execution_count": 7,
   "metadata": {
    "ExecuteTime": {
     "end_time": "2021-06-01T14:57:02.359181Z",
     "start_time": "2021-06-01T14:57:02.353630Z"
    },
    "id": "w2xFSf4Sl8gN"
   },
   "outputs": [],
   "source": [
    "logger = logging.getLogger(__name__)"
   ]
  },
  {
   "cell_type": "code",
   "execution_count": 11,
   "metadata": {
    "colab": {
     "base_uri": "https://localhost:8080/"
    },
    "id": "6_l2bSmSnbPP",
    "outputId": "9239f81b-ad92-4137-ebc2-eb89bb849117"
   },
   "outputs": [
    {
     "name": "stdout",
     "output_type": "stream",
     "text": [
      "Mounted at /content/drive\n"
     ]
    }
   ],
   "source": [
    "#from google.colab import drive\n",
    "#drive.mount ('/content/drive')"
   ]
  },
  {
   "cell_type": "code",
   "execution_count": 13,
   "metadata": {
    "colab": {
     "base_uri": "https://localhost:8080/"
    },
    "id": "rVh8_glvnz1d",
    "outputId": "59ba9875-65ae-490d-e5b0-5f338e25c1e9"
   },
   "outputs": [
    {
     "name": "stdout",
     "output_type": "stream",
     "text": [
      "/content/drive/My Drive/Colab Notebooks\n"
     ]
    }
   ],
   "source": [
    "#cd 'drive/My Drive/Colab Notebooks'"
   ]
  },
  {
   "cell_type": "code",
   "execution_count": 14,
   "metadata": {
    "ExecuteTime": {
     "end_time": "2021-06-01T14:57:28.545897Z",
     "start_time": "2021-06-01T14:57:02.782629Z"
    },
    "id": "AZOykfjWl8gW"
   },
   "outputs": [],
   "source": [
    "MAX_LEN = 200\n",
    "TRAIN_BATCH_SIZE = 32\n",
    "VALID_BATCH_SIZE = 64\n",
    "EPOCHS = 3\n",
    "LEARNING_RATE = 1e-05\n",
    "MODEL_NAME = \"sentence-transformers/paraphrase-multilingual-MiniLM-L12-v2\"\n",
    "DATA_ROOT_DIR = os.path.join(\"..\", \"..\", \"..\", \"data\", \"frameworks_data\", \"data_v0.4.4\")\n",
    "TRAIN_PATH = os.path.join(\"data_v0.4.4_train.csv\")\n",
    "VAL_PATH = os.path.join(\"data_v0.4.4_val.csv\")\n",
    "tokenizer = AutoTokenizer.from_pretrained(MODEL_NAME)"
   ]
  },
  {
   "cell_type": "code",
   "execution_count": 15,
   "metadata": {
    "id": "bBhJWZnSl8ga"
   },
   "outputs": [],
   "source": [
    "def clean_rows (row):\n",
    "    \"\"\"\n",
    "    1) Apply litteral evaluation\n",
    "    2) Drop values that are repeated multiple times in rows\n",
    "    \"\"\"\n",
    "    return list(set(literal_eval(row)))"
   ]
  },
  {
   "cell_type": "code",
   "execution_count": 23,
   "metadata": {
    "ExecuteTime": {
     "end_time": "2021-06-01T14:57:29.882333Z",
     "start_time": "2021-06-01T14:57:28.547379Z"
    },
    "id": "feaSkVCOl8ge"
   },
   "outputs": [],
   "source": [
    "train_dataset = pd.read_csv(TRAIN_PATH)\n",
    "val_dataset = pd.read_csv(VAL_PATH)\n",
    "\n",
    "all_dataset = pd.concat([train_dataset, val_dataset])\n",
    "\n",
    "# Keep only unique values in pillars\n",
    "all_dataset[\"subpillars\"] = all_dataset[\"subpillars\"].apply(lambda x: clean_rows (x))\n",
    "all_dataset[\"pillars\"] = all_dataset[\"pillars\"].apply(lambda x: clean_rows (x))\n",
    "\n",
    "# Keep only rows with a not empty pillar\n",
    "all_dataset = all_dataset[all_dataset.pillars.apply(lambda x: len(x)>0)]"
   ]
  },
  {
   "cell_type": "code",
   "execution_count": 24,
   "metadata": {
    "colab": {
     "base_uri": "https://localhost:8080/"
    },
    "id": "jp-5kCU2l8gi",
    "outputId": "c40ef050-813b-48e5-e816-2d4fe0111fec"
   },
   "outputs": [
    {
     "name": "stderr",
     "output_type": "stream",
     "text": [
      "/usr/local/lib/python3.7/dist-packages/ipykernel_launcher.py:10: SettingWithCopyWarning: \n",
      "A value is trying to be set on a copy of a slice from a DataFrame.\n",
      "Try using .loc[row_indexer,col_indexer] = value instead\n",
      "\n",
      "See the caveats in the documentation: https://pandas.pydata.org/pandas-docs/stable/user_guide/indexing.html#returning-a-view-versus-a-copy\n",
      "  # Remove the CWD from sys.path while we load stuff.\n"
     ]
    }
   ],
   "source": [
    "random_state=42\n",
    "val_size=0.2\n",
    "\n",
    "def get_subpillar_datasets (subpillar_name:str, dataset=all_dataset, seed=42):\n",
    "    \"\"\"\n",
    "    1) keep rows where the sub-pillar name is contained in the column 'subpillars'\n",
    "    2) keep only subpillar names in the column 'subpillar' (omit pillar name)\n",
    "    \"\"\"\n",
    "    df = dataset[['entry_id', 'excerpt', 'subpillars']]\n",
    "    df['subpillars'] = df.subpillars\\\n",
    "                        .apply(lambda x: list(filter(lambda y: subpillar_name in y, x)))\\\n",
    "                        .apply(lambda x: [y.split('->')[1] for y in (x)])\n",
    "\n",
    "    df = df[df.subpillars.apply(lambda x: len(x)>0)].rename(columns={'pillars':'target'})\\\n",
    "            .rename(columns={'subpillars':'target'})\n",
    "    return train_test_split(df, test_size=val_size, random_state=random_state)\n",
    "    \n",
    "    \n",
    "    \n",
    "capacities_response_train_dataset, capacities_response_val_dataset =\\\n",
    "                get_subpillar_datasets ('Capacities & Response')\n",
    "\n",
    "hum_conditions_train_dataset, hum_conditions_val_dataset =\\\n",
    "                get_subpillar_datasets ('Humanitarian Conditions')\n",
    "\n",
    "\n",
    "impact_train_dataset, impact_val_dataset = get_subpillar_datasets ('Impact')\n",
    "\n",
    "people_at_risk_train_dataset, people_at_risk_val_dataset = get_subpillar_datasets ('People At Risk')\n",
    "\n",
    "priority_interventions_train_dataset, priority_interventions_val_dataset = \\\n",
    "                get_subpillar_datasets ('Priority Interventions')\n",
    "\n",
    "priority_needs_train_dataset, priority_needs_val_dataset = get_subpillar_datasets ('Priority Needs')\n"
   ]
  },
  {
   "cell_type": "code",
   "execution_count": 25,
   "metadata": {
    "colab": {
     "base_uri": "https://localhost:8080/"
    },
    "id": "oMa8Ci2wl8gl",
    "outputId": "4a071997-a0a3-443c-9c78-0f4a48100e41",
    "scrolled": true
   },
   "outputs": [
    {
     "name": "stdout",
     "output_type": "stream",
     "text": [
      "number of rows for capacities & response : 7787\n",
      "number of rows for Humanitarian Conditions: 23636\n",
      "number of rows for Impact : 17136\n",
      "number of rows for People At Risk : 5972\n",
      "number of rows for Priority Interventions : 1344\n",
      "number of rows for Priority Needs : 1625\n"
     ]
    }
   ],
   "source": [
    "print('number of rows for capacities & response :', capacities_response_train_dataset.shape[0])\n",
    "print('number of rows for Humanitarian Conditions:', hum_conditions_train_dataset.shape[0])\n",
    "print('number of rows for Impact :', impact_train_dataset.shape[0])\n",
    "print('number of rows for People At Risk :', people_at_risk_train_dataset.shape[0])\n",
    "print('number of rows for Priority Interventions :', priority_interventions_train_dataset.shape[0])\n",
    "print('number of rows for Priority Needs :', priority_needs_train_dataset.shape[0])"
   ]
  },
  {
   "cell_type": "code",
   "execution_count": 26,
   "metadata": {
    "id": "6fsEmrR_l8gn"
   },
   "outputs": [],
   "source": [
    "all_dataset = all_dataset[['entry_id', 'excerpt', 'pillars']]\\\n",
    "                    .rename(columns={'pillars':'target'})\n",
    "\n",
    "pillars_train_dataset, pillars_val_dataset = train_test_split(all_dataset, \n",
    "                                                              random_state=random_state, \n",
    "                                                              test_size=val_size)\n"
   ]
  },
  {
   "cell_type": "code",
   "execution_count": 27,
   "metadata": {
    "colab": {
     "base_uri": "https://localhost:8080/"
    },
    "id": "ftjoGpuDl8gq",
    "outputId": "97077ed4-ed5f-4a7d-f118-9c95f94cbb21"
   },
   "outputs": [
    {
     "data": {
      "text/plain": [
       "True"
      ]
     },
     "execution_count": 27,
     "metadata": {
      "tags": []
     },
     "output_type": "execute_result"
    }
   ],
   "source": [
    "#check that entry_id is an id\n",
    "train_dataset.entry_id.is_unique"
   ]
  },
  {
   "cell_type": "code",
   "execution_count": 41,
   "metadata": {
    "ExecuteTime": {
     "end_time": "2021-06-01T14:57:29.890405Z",
     "start_time": "2021-06-01T14:57:29.883645Z"
    },
    "id": "Z1V-9qQRl8gr"
   },
   "outputs": [],
   "source": [
    "class CustomDataset(Dataset):\n",
    "    def __init__(self, dataframe, tagname_to_tagid, tokenizer, max_len):\n",
    "        self.tokenizer = tokenizer\n",
    "        self.data = dataframe\n",
    "\n",
    "        self.excerpt_text = dataframe[\"excerpt\"].tolist(\n",
    "        ) if dataframe is not None else None\n",
    "\n",
    "        self.targets = self.data['target'].tolist(\n",
    "        ) if dataframe is not None else None\n",
    "\n",
    "        self.entry_ids = self.data['entry_id'].tolist(\n",
    "        ) if dataframe is not None else None\n",
    "\n",
    "        self.tagname_to_tagid = tagname_to_tagid\n",
    "        self.tagid_to_tagname = list(tagname_to_tagid.keys())\n",
    "        self.max_len = max_len\n",
    "\n",
    "    def encode_example(self,\n",
    "                       excerpt_text: str,\n",
    "                       index=None,\n",
    "                       as_batch: bool = False):\n",
    "        \n",
    "        inputs = self.tokenizer(excerpt_text,\n",
    "                                            None,\n",
    "                                            truncation=True,\n",
    "                                            add_special_tokens=True,\n",
    "                                            max_length=self.max_len,\n",
    "                                            padding=\"max_length\",\n",
    "                                            return_token_type_ids=True)\n",
    "        ids = inputs['input_ids']\n",
    "        mask = inputs['attention_mask']\n",
    "        token_type_ids = inputs[\"token_type_ids\"]\n",
    "        \n",
    "        targets = None\n",
    "        if self.targets:\n",
    "            target_indices = [\n",
    "                self.tagname_to_tagid[target]\n",
    "                for target in self.targets[index]\n",
    "                if target in self.tagname_to_tagid\n",
    "            ]\n",
    "            targets = np.zeros(len(self.tagname_to_tagid), dtype=np.int)\n",
    "            targets[target_indices] = 1\n",
    "\n",
    "        encoded = {\n",
    "            'ids':\n",
    "            torch.tensor(ids, dtype=torch.long),\n",
    "            'mask':\n",
    "            torch.tensor(mask, dtype=torch.long),\n",
    "            'token_type_ids':\n",
    "            torch.tensor(token_type_ids, dtype=torch.long),\n",
    "            'targets':\n",
    "            torch.tensor(targets, dtype=torch.float32)\n",
    "            if targets is not None else None,\n",
    "            'entry_id':\n",
    "            self.entry_ids[index]\n",
    "        }\n",
    "        if as_batch:\n",
    "            return {\n",
    "                \"ids\": encoded[\"ids\"].unsqueeze(0),\n",
    "                \"mask\": encoded[\"mask\"].unsqueeze(0),\n",
    "                \"token_type_ids\": encoded[\"ids\"].unsqueeze(0)\n",
    "            }\n",
    "        return encoded\n",
    "\n",
    "    def __len__(self):\n",
    "        return len(self.excerpt_text)\n",
    "\n",
    "    def __getitem__(self, index):\n",
    "        excerpt_text = str(self.excerpt_text[index])\n",
    "        return self.encode_example(excerpt_text, index)"
   ]
  },
  {
   "cell_type": "code",
   "execution_count": 28,
   "metadata": {
    "ExecuteTime": {
     "end_time": "2021-06-01T14:57:29.900276Z",
     "start_time": "2021-06-01T14:57:29.891880Z"
    },
    "id": "99IV090rl8gs"
   },
   "outputs": [],
   "source": []
  },
  {
   "cell_type": "code",
   "execution_count": 29,
   "metadata": {
    "id": "gsg6EnB4l8gt"
   },
   "outputs": [],
   "source": [
    "train_params = {\n",
    "    'batch_size': TRAIN_BATCH_SIZE,\n",
    "    'shuffle': True,\n",
    "    'num_workers': 4\n",
    "}\n",
    "\n",
    "val_params = {\n",
    "    'batch_size': VALID_BATCH_SIZE,\n",
    "    'shuffle': False,\n",
    "    'num_workers': 4\n",
    "}\n"
   ]
  },
  {
   "cell_type": "code",
   "execution_count": 30,
   "metadata": {
    "ExecuteTime": {
     "end_time": "2021-06-01T14:57:29.904210Z",
     "start_time": "2021-06-01T14:57:29.901478Z"
    },
    "id": "p67VeR1cl8gu"
   },
   "outputs": [],
   "source": [
    "def get_loaders (train_dataset, val_dataset):\n",
    "    training_set = CustomDataset(train_dataset, tagname_to_tagid, tokenizer, MAX_LEN)\n",
    "    val_set = CustomDataset(val_dataset, tagname_to_tagid, tokenizer, MAX_LEN)\n",
    "    val_set_frac = CustomDataset(val_dataset.sample(frac=.01),\n",
    "                                  tagname_to_tagid, tokenizer, MAX_LEN)\n",
    "    \n",
    "    training_loader = DataLoader(training_set, **train_params)\n",
    "    \n",
    "    val_loader_frac = DataLoader(val_set_frac, **val_params)\n",
    "    return training_loader, val_loader, val_loader_frac"
   ]
  },
  {
   "cell_type": "code",
   "execution_count": null,
   "metadata": {
    "id": "iD0PN0rLl8gv"
   },
   "outputs": [],
   "source": []
  },
  {
   "cell_type": "code",
   "execution_count": 31,
   "metadata": {
    "ExecuteTime": {
     "end_time": "2021-06-01T14:57:29.909386Z",
     "start_time": "2021-06-01T14:57:29.905678Z"
    },
    "id": "WEZGpjaSl8gw"
   },
   "outputs": [],
   "source": [
    "class Model(nn.Module):\n",
    "    def __init__(self, model_name_or_path: str, num_labels:int, dropout_rate=0.3):\n",
    "        super().__init__()\n",
    "        self.l1 = AutoModel.from_pretrained(model_name_or_path)\n",
    "        self.l2 = torch.nn.Dropout(dropout_rate)\n",
    "        self.l3 = torch.nn.Linear(384, num_labels)\n",
    "        \n",
    "    def forward(self, inputs):\n",
    "        output = self.l1(inputs[\"ids\"],\n",
    "                            attention_mask=inputs[\"mask\"],)\n",
    "        output = output.last_hidden_state\n",
    "        output = self.l2(output)\n",
    "        output = self.l3(output)\n",
    "        return output[:, 0, :]"
   ]
  },
  {
   "cell_type": "code",
   "execution_count": 32,
   "metadata": {
    "ExecuteTime": {
     "end_time": "2021-06-01T15:04:49.596074Z",
     "start_time": "2021-06-01T15:04:49.543948Z"
    },
    "colab": {
     "base_uri": "https://localhost:8080/"
    },
    "id": "l-bZqSQAl8gx",
    "outputId": "5983550e-e722-4efd-c255-d11962abb8de"
   },
   "outputs": [
    {
     "name": "stderr",
     "output_type": "stream",
     "text": [
      "/usr/local/lib/python3.7/dist-packages/pytorch_lightning/core/decorators.py:65: LightningDeprecationWarning: The `@auto_move_data` decorator is deprecated in v1.3 and will be removed in v1.5. Please use `trainer.predict` instead for inference. The decorator was applied to `forward`\n",
      "  \"The `@auto_move_data` decorator is deprecated in v1.3 and will be removed in v1.5.\"\n"
     ]
    }
   ],
   "source": [
    "class Transformer(pl.LightningModule):\n",
    "    def __init__(self,\n",
    "                 model_name_or_path: str,\n",
    "                 num_labels: int,\n",
    "                 empty_dataset: CustomDataset,\n",
    "                 \n",
    "                 pred_threshold: float = .5,\n",
    "                 learning_rate: float = 2e-5,\n",
    "                 adam_epsilon: float = 1e-8,\n",
    "                 warmup_steps: int = 0,\n",
    "                 weight_decay: float = 0.0,\n",
    "                 train_batch_size: int = 32,\n",
    "                 eval_batch_size: int = 32,\n",
    "                 eval_splits: Optional[list] = None,\n",
    "                 dropout_rate: float = 0.3,\n",
    "\n",
    "                 **kwargs):\n",
    "        super().__init__()\n",
    "\n",
    "        self.save_hyperparameters()\n",
    "\n",
    "        self.model = Model(model_name_or_path, num_labels, dropout_rate)\n",
    "        self.empty_dataset = empty_dataset\n",
    "        self.pred_threshold = pred_threshold\n",
    "\n",
    "        self.f1_score_train = torchmetrics.F1(\n",
    "            num_classes=2,\n",
    "            threshold=0.5,\n",
    "            average='macro',\n",
    "            mdmc_average=\"samplewise\",\n",
    "            ignore_index=None,\n",
    "            top_k=None,\n",
    "            multiclass=True,\n",
    "            compute_on_step=True,\n",
    "            dist_sync_on_step=False,\n",
    "            process_group=None,\n",
    "            dist_sync_fn=None,\n",
    "        )\n",
    "\n",
    "        self.f1_score_val = torchmetrics.F1(\n",
    "            num_classes=2,\n",
    "            threshold=0.5,\n",
    "            average='macro',\n",
    "            mdmc_average=\"samplewise\",\n",
    "            ignore_index=None,\n",
    "            top_k=None,\n",
    "            multiclass=True,\n",
    "            compute_on_step=True,\n",
    "            dist_sync_on_step=False,\n",
    "            process_group=None,\n",
    "            dist_sync_fn=None,\n",
    "        )\n",
    "    @auto_move_data\n",
    "    def forward(self, inputs):\n",
    "        output = self.model(inputs)\n",
    "        return output\n",
    "\n",
    "    def training_step(self, batch, batch_idx):\n",
    "        outputs = self(batch)\n",
    "        loss = F.binary_cross_entropy_with_logits(outputs, batch[\"targets\"])\n",
    "\n",
    "        self.f1_score_train(torch.sigmoid(outputs),\n",
    "                            batch[\"targets\"].to(dtype=torch.long))\n",
    "        self.log(\"train_f1\", self.f1_score_train, prog_bar=True)\n",
    "        return loss\n",
    "\n",
    "    def validation_step(self, batch, batch_idx, dataloader_idx=0):\n",
    "        outputs = self(batch)\n",
    "        val_loss = F.binary_cross_entropy_with_logits(outputs,\n",
    "                                                      batch[\"targets\"])\n",
    "\n",
    "        self.f1_score_val(torch.sigmoid(outputs),\n",
    "                          batch[\"targets\"].to(dtype=torch.long))\n",
    "        self.log(\"val_f1\",\n",
    "                 self.f1_score_val,\n",
    "                 on_step=True,\n",
    "                 on_epoch=True,\n",
    "                 prog_bar=True,\n",
    "                 logger=False)\n",
    "        \n",
    "        self.log(\"val_loss\",\n",
    "                 val_loss,\n",
    "                 on_step=True,\n",
    "                 on_epoch=True,\n",
    "                 prog_bar=True,\n",
    "                 logger=False)\n",
    "        return {'val_loss': val_loss}\n",
    "\n",
    "    def test_step(self, batch, batch_nb):\n",
    "        logits = self(batch)\n",
    "        preds = (torch.sigmoid(logits) > .5)\n",
    "        return {\"preds\": preds, \"targets_i\": batch[\"targets\"]}\n",
    "\n",
    "    def on_test_epoch_end(self, outputs):\n",
    "        preds = torch.cat([output[\"preds\"] for output in outputs]).cpu()\n",
    "        targets = torch.cat([output[\"targets_i\"] for output in outputs]).cpu()\n",
    "        recalls = []\n",
    "        precisions = []\n",
    "        f1_scores = []\n",
    "        for i in range(targets.shape[1]):\n",
    "            class_roc_auc = auroc(preds[:, i], targets[:, i])\n",
    "            self.log(\n",
    "                f\"{self.empty_dataset.sectorid_to_sectorname[i]}_roc_auc/Train\",\n",
    "                class_roc_auc)\n",
    "            class_f1 = metrics.f1_score(targets[:, i], preds[:, i])\n",
    "            self.log(\n",
    "                f\"{self.empty_dataset.sectorid_to_sectorname[i]}_f1/Train\",\n",
    "                class_f1)\n",
    "\n",
    "    def predict_step(self, batch, batch_idx, dataloader_idx=None):\n",
    "        output = self(batch)\n",
    "        return {\"logits\": output}\n",
    "\n",
    "    def on_predict_epoch_end(self, outputs):\n",
    "        logits = torch.cat([output[\"logits\"] for output in outputs[0]])\n",
    "        preds = torch.sigmoid(logits) >= self.pred_threshold\n",
    "        pred_classes = []\n",
    "        for pred in preds:\n",
    "            pred_classes_i = [\n",
    "                self.empty_dataset.sectorid_to_sectorname[i]\n",
    "                for i, p in enumerate(pred) if p\n",
    "            ]\n",
    "            pred_classes.append(pred_classes_i)\n",
    "        self.log({\"pred_classes\": pred_classes})\n",
    "\n",
    "    def custom_predict(self, inputs):\n",
    "        self.eval()\n",
    "        self.freeze()\n",
    "        as_batch = False\n",
    "        if isinstance(inputs, str):\n",
    "            as_batch = True\n",
    "        inputs = self.empty_dataset.encode_example(inputs, as_batch)\n",
    "\n",
    "        with torch.no_grad():\n",
    "            logits = self(inputs)\n",
    "        preds = (torch.sigmoid(logits) >= self.pred_threshold)\n",
    "        pred_classes = []\n",
    "        for pred in preds:\n",
    "            pred_classes_i = [\n",
    "                self.empty_dataset.tagid_to_tagname[i]\n",
    "                for i, p in enumerate(pred) if p\n",
    "            ]\n",
    "            pred_classes.append(pred_classes_i)\n",
    "        return pred_classes\n",
    "\n",
    "    def total_steps(self) -> int:\n",
    "        \"\"\"The number of total training steps that will be run. Used for lr scheduler purposes.\"\"\"\n",
    "        self.dataset_size = len(self.train_dataloader().dataset)\n",
    "        num_devices = max(1, self.hparams.gpus)  # TODO: consider num_tpu_cores\n",
    "        effective_batch_size = self.hparams.train_batch_size * self.hparams.accumulate_grad_batches * num_devices\n",
    "        return (self.dataset_size /\n",
    "                effective_batch_size) * self.hparams.max_epochs\n",
    "\n",
    "    def configure_optimizers(self):\n",
    "        \"Prepare optimizer and schedule (linear warmup and decay)\"\n",
    "        model = self.model\n",
    "        no_decay = [\"bias\", \"LayerNorm.weight\"]\n",
    "        optimizer_grouped_parameters = [\n",
    "            {\n",
    "                \"params\": [\n",
    "                    p for n, p in model.named_parameters()\n",
    "                    if not any(nd in n for nd in no_decay)\n",
    "                ],\n",
    "                \"weight_decay\":\n",
    "                self.hparams.weight_decay,\n",
    "            },\n",
    "            {\n",
    "                \"params\": [\n",
    "                    p for n, p in model.named_parameters()\n",
    "                    if any(nd in n for nd in no_decay)\n",
    "                ],\n",
    "                \"weight_decay\":\n",
    "                0.0,\n",
    "            },\n",
    "        ]\n",
    "        optimizer = AdamW(optimizer_grouped_parameters,\n",
    "                          lr=self.hparams.learning_rate,\n",
    "                          eps=self.hparams.adam_epsilon)\n",
    "\n",
    "        scheduler = get_linear_schedule_with_warmup(\n",
    "            optimizer,\n",
    "            num_warmup_steps=self.hparams.warmup_steps,\n",
    "            num_training_steps=self.total_steps())\n",
    "        scheduler = {\n",
    "            'scheduler': scheduler,\n",
    "            'interval': 'step',\n",
    "            'frequency': 1\n",
    "        }\n",
    "        return [optimizer], [scheduler]\n",
    "\n",
    "    def train_dataloader(self):\n",
    "        return training_loader\n",
    "\n",
    "    def val_dataloader(self):\n",
    "        return val_loader\n",
    "    \n",
    "    def custom_eval(self, eval_dataloader):\n",
    "        if self.device.type == \"cpu\":\n",
    "            self.to(\"cuda\")\n",
    "        self.eval()\n",
    "        self.freeze()\n",
    "        preds_val_all = []\n",
    "        y_true = []\n",
    "\n",
    "        with torch.no_grad():\n",
    "            for batch in tqdm(eval_dataloader, total=len(eval_dataloader.dataset)//eval_dataloader.batch_size):\n",
    "                logits = self({\"ids\": batch[\"ids\"].to(\"cuda\"), \"mask\": batch[\"mask\"].to(\"cuda\"), \"token_type_ids\": batch[\"token_type_ids\"].to(\"cuda\")})\n",
    "                preds_batch = np.zeros(logits.shape, dtype=np.int)\n",
    "                preds_batch[(torch.sigmoid(logits) > self.pred_threshold).cpu().nonzero(as_tuple=True)] = 1\n",
    "                preds_val_all.append(preds_batch)\n",
    "                y_true.append(batch[\"targets\"].numpy().astype(np.int))\n",
    "\n",
    "        preds_val_all = np.concatenate(preds_val_all)\n",
    "        y_true = np.concatenate(y_true)\n",
    "\n",
    "        f1_scores = []\n",
    "        recalls = []\n",
    "        precisions = []\n",
    "        accuracies = []\n",
    "        supports = []\n",
    "        tagname_to_tagid = self.empty_dataset.tagname_to_tagid\n",
    "        for tag_name, tag_id in tagname_to_tagid.items():\n",
    "            cls_rprt = classification_report(y_true[:, tag_id], preds_val_all[:, tag_id], output_dict=True)\n",
    "            precisions.append(cls_rprt[\"macro avg\"][\"precision\"])\n",
    "            recalls.append(cls_rprt[\"macro avg\"][\"recall\"])\n",
    "            f1_scores.append(cls_rprt[\"macro avg\"][\"f1-score\"])\n",
    "            accuracies.append(cls_rprt[\"accuracy\"])\n",
    "\n",
    "        metrics_df = pd.DataFrame({\n",
    "            \"Sector\": list(tagname_to_tagid.keys()),\n",
    "            \"Precision\": precisions,\n",
    "            \"Recall\": recalls,\n",
    "            \"F1 Score\": f1_scores,\n",
    "            \"Accuracy\": accuracies,\n",
    "        })\n",
    "        return metrics_df\n"
   ]
  },
  {
   "cell_type": "code",
   "execution_count": null,
   "metadata": {
    "id": "HOWN0w1fempJ"
   },
   "outputs": [],
   "source": [
    "\n",
    "def train_on_specific_targets (train_dataset, tagname_to_tagid, name_classifier:str, dropout_rate:float):\n",
    "\n",
    "    if not os.path.exists(dirpath):\n",
    "        os.makedirs(dirpath)\n",
    "\n",
    "    logger = TensorBoardLogger(\"lightning_logs\", name=name_classifier)\n",
    "\n",
    "    empty_dataset = CustomDataset(None, tagname_to_tagid, tokenizer,\n",
    "                         MAX_LEN)\n",
    "\n",
    "    trainer = pl.Trainer(\n",
    "        logger=logger,\n",
    "        callbacks=[early_stopping_callback, checkpoint_callback],\n",
    "        progress_bar_refresh_rate=30,\n",
    "        profiler=\"simple\",\n",
    "        log_gpu_memory=True,\n",
    "        weights_summary=None,\n",
    "        gpus=1,\n",
    "        accumulate_grad_batches=1,\n",
    "        max_epochs=EPOCHS,\n",
    "        gradient_clip_val=1,\n",
    "        gradient_clip_algorithm='norm'\n",
    "        #overfit_batches=1,\n",
    "        #limit_predict_batches=2,\n",
    "        #limit_test_batches=2,\n",
    "        #fast_dev_run=True,\n",
    "        #limit_train_batches=1,\n",
    "        #limit_val_batches=1,\n",
    "        #limit_test_batches: Union[int, float] = 1.0,\n",
    "    )\n",
    "\n",
    "\n",
    "    model = Transformer(MODEL_NAME,\n",
    "                            len(tagname_to_tagid),\n",
    "                            empty_dataset,\n",
    "                            gpus=1,\n",
    "                            precision=16,\n",
    "                            plugin='deepspeed_stage_3_offload',\n",
    "                            accumulate_grad_batches=1,\n",
    "                            max_epochs=EPOCHS,\n",
    "                            dropout_rate=dropout_rate)\n",
    "\n",
    "    trainer.fit(model)\n",
    "\n",
    "    return model.custom_eval(val_loader)"
   ]
  },
  {
   "cell_type": "markdown",
   "metadata": {
    "id": "vZXSfhQXm6i2"
   },
   "source": [
    "### Train model to predict pillars"
   ]
  },
  {
   "cell_type": "code",
   "execution_count": null,
   "metadata": {
    "id": "8J1mMftfl8g3"
   },
   "outputs": [],
   "source": [
    "log_dir_name = \"-\".join(MODEL_NAME.split(\"/\"))\n",
    "early_stopping_callback = EarlyStopping(monitor='val_loss', patience=2)\n",
    "\n",
    "\n",
    "dirpath = f\"./checkpoints-pillars-{log_dir_name}\"\n",
    "\n",
    "checkpoint_callback = ModelCheckpoint(\n",
    "  dirpath=dirpath,\n",
    "  save_top_k=1,\n",
    "  verbose=True,\n",
    "  monitor=\"val_loss\",\n",
    "  mode=\"min\"\n",
    ")\n",
    "\n",
    "\n",
    "tag_set = set()\n",
    "for tags_i in pillars_train_dataset[\"target\"]:\n",
    "    tag_set.update(tags_i)\n",
    "tagname_to_tagid = {tag:i for i, tag in enumerate(list(sorted(tag_set)))}\n",
    "\n",
    "training_loader, val_loader, val_loader_frac = get_loaders (pillars_train_dataset,\n",
    "                                                 pillars_val_dataset)\n",
    "\n",
    "errors_pillars = train_on_specific_targets(pillars_train_dataset,\n",
    "                                                 tagname_to_tagid,\n",
    "                                                 f\"pillars-classifier-{log_dir_name}\",\n",
    "                                                 dropout_rate=0.5)\n",
    "errors_pillars"
   ]
  },
  {
   "cell_type": "code",
   "execution_count": null,
   "metadata": {
    "id": "hzPhU-gXl8g6"
   },
   "outputs": [],
   "source": []
  },
  {
   "cell_type": "markdown",
   "metadata": {
    "id": "SlCXu-8cl8hG"
   },
   "source": [
    "### Train models to predict sub-pillars\n",
    "- Dropout rate is 0.5 for length of training between 5.000 and 10.000\n",
    "- Dropout rate is 0.7 for length of training inferior to 5.000\n",
    "- Dropout rate is 0.3 for length of training superior to 10.000"
   ]
  },
  {
   "cell_type": "code",
   "execution_count": null,
   "metadata": {
    "id": "oxUu1WSHEo1w"
   },
   "outputs": [],
   "source": [
    "\n",
    "dirpath = f\"./checkpoints-subpillars-capacities-responses-{log_dir_name}\"\n",
    "\n",
    "checkpoint_callback = ModelCheckpoint(\n",
    "  dirpath=dirpath,\n",
    "  save_top_k=1,\n",
    "  verbose=True,\n",
    "  monitor=\"val_loss\",\n",
    "  mode=\"min\"\n",
    ")\n",
    "\n",
    "\n",
    "tag_set = set()\n",
    "for tags_i in capacities_response_train_dataset[\"target\"]:\n",
    "    tag_set.update(tags_i)\n",
    "tagname_to_tagid = {tag:i for i, tag in enumerate(list(sorted(tag_set)))}\n",
    "\n",
    "training_loader, val_loader, val_loader_frac = get_loaders (capacities_response_train_dataset,\n",
    "                                                 capacities_response_val_dataset)\n",
    "\n",
    "errors_capacities_response = train_on_specific_targets(capacities_response_train_dataset,\n",
    "                                                 tagname_to_tagid,\n",
    "                                                 f\"capacities-and-response-classifier-{log_dir_name}\",\n",
    "                                                 dropout_rate=0.5)\n",
    "errors_capacities_response"
   ]
  },
  {
   "cell_type": "code",
   "execution_count": null,
   "metadata": {
    "id": "OZa9FS8vE5Ty"
   },
   "outputs": [],
   "source": [
    "dirpath = f\"./checkpoints-subpillars-people-at-risk-{log_dir_name}\"\n",
    "\n",
    "checkpoint_callback = ModelCheckpoint(\n",
    "  dirpath=dirpath,\n",
    "  save_top_k=1,\n",
    "  verbose=True,\n",
    "  monitor=\"val_loss\",\n",
    "  mode=\"min\"\n",
    ")\n",
    "\n",
    "tag_set = set()\n",
    "for tags_i in people_at_risk_train_dataset[\"target\"]:\n",
    "    tag_set.update(tags_i)\n",
    "tagname_to_tagid = {tag:i for i, tag in enumerate(list(sorted(tag_set)))}\n",
    "\n",
    "training_loader, val_loader, val_loader_frac = get_loaders (people_at_risk_train_dataset,\n",
    "                                                 people_at_risk_val_dataset)\n",
    "\n",
    "errors_people_at_risk = train_on_specific_targets(people_at_risk_train_dataset,\n",
    "                                            tagname_to_tagid,\n",
    "                                            f\"people-at-risk-classifier-{log_dir_name}\",\n",
    "                                            dropout_rate=0.5)\n",
    "errors_people_at_risk\n",
    "\n"
   ]
  },
  {
   "cell_type": "code",
   "execution_count": null,
   "metadata": {
    "id": "27J-osEXE5Wj"
   },
   "outputs": [],
   "source": [
    "dirpath = f\"./checkpoints-subpillars-impact-{log_dir_name}\"\n",
    "\n",
    "checkpoint_callback = ModelCheckpoint(\n",
    "  dirpath=dirpath,\n",
    "  save_top_k=1,\n",
    "  verbose=True,\n",
    "  monitor=\"val_loss\",\n",
    "  mode=\"min\"\n",
    ")\n",
    "\n",
    "tag_set = set()\n",
    "for tags_i in impact_train_dataset[\"target\"]:\n",
    "    tag_set.update(tags_i)\n",
    "tagname_to_tagid = {tag:i for i, tag in enumerate(list(sorted(tag_set)))}\n",
    "\n",
    "training_loader, val_loader, val_loader_frac = get_loaders (impact_train_dataset,\n",
    "                                                 impact_val_dataset)\n",
    "\n",
    "errors_impact = train_on_specific_targets(impact_train_dataset,\n",
    "                                    tagname_to_tagid,\n",
    "                                    f\"impact-classifier-{log_dir_name}\",\n",
    "                                    dropout_rate=0.3)\n",
    "errors_impact"
   ]
  },
  {
   "cell_type": "code",
   "execution_count": null,
   "metadata": {
    "id": "pzxHEuQbE5Z2"
   },
   "outputs": [],
   "source": [
    "dirpath = f\"./checkpoints-subpillars-humanitarian-conditions-{log_dir_name}\"\n",
    "\n",
    "checkpoint_callback = ModelCheckpoint(\n",
    "  dirpath=dirpath,\n",
    "  save_top_k=1,\n",
    "  verbose=True,\n",
    "  monitor=\"val_loss\",\n",
    "  mode=\"min\"\n",
    ")\n",
    "\n",
    "\n",
    "tag_set = set()\n",
    "for tags_i in hum_conditions_train_dataset[\"target\"]:\n",
    "    tag_set.update(tags_i)\n",
    "tagname_to_tagid = {tag:i for i, tag in enumerate(list(sorted(tag_set)))}\n",
    "\n",
    "training_loader, val_loader, val_loader_frac = get_loaders (hum_conditions_train_dataset,\n",
    "                                                 hum_conditions_val_dataset)\n",
    "\n",
    "errors_hum_conditions = train_on_specific_targets(hum_conditions_train_dataset,\n",
    "                                                 tagname_to_tagid,\n",
    "                                                 f\"Humanitarian-Conditions-classifier-{log_dir_name}\",\n",
    "                                                 dropout_rate=0.3)\n",
    "errors_hum_conditions"
   ]
  },
  {
   "cell_type": "code",
   "execution_count": null,
   "metadata": {
    "id": "WYEo4Uj0E5c3"
   },
   "outputs": [],
   "source": [
    "dirpath = f\"./checkpoints-subpillars-priority-interventions-{log_dir_name}\"\n",
    "\n",
    "checkpoint_callback = ModelCheckpoint(\n",
    "  dirpath=dirpath,\n",
    "  save_top_k=1,\n",
    "  verbose=True,\n",
    "  monitor=\"val_loss\",\n",
    "  mode=\"min\"\n",
    ")\n",
    "\n",
    "tag_set = set()\n",
    "for tags_i in priority_interventions_train_dataset[\"target\"]:\n",
    "    tag_set.update(tags_i)\n",
    "tagname_to_tagid = {tag:i for i, tag in enumerate(list(sorted(tag_set)))}\n",
    "\n",
    "training_loader, val_loader, val_loader_frac = get_loaders (priority_interventions_train_dataset,\n",
    "                                                 priority_interventions_val_dataset)\n",
    "\n",
    "errors_priority_interventions = train_on_specific_targets(priority_interventions_train_dataset,\n",
    "                                                 tagname_to_tagid,\n",
    "                                                 f\"Priority-Interventions-classifier-{log_dir_name}\",\n",
    "                                                 dropout_rate=0.7)\n",
    "errors_priority_interventions\n"
   ]
  },
  {
   "cell_type": "code",
   "execution_count": null,
   "metadata": {
    "id": "A3JOjEO2E5f8"
   },
   "outputs": [],
   "source": [
    "dirpath = f\"./checkpoints-subpillars-priority-needs-{log_dir_name}\"\n",
    "\n",
    "checkpoint_callback = ModelCheckpoint(\n",
    "  dirpath=dirpath,\n",
    "  save_top_k=1,\n",
    "  verbose=True,\n",
    "  monitor=\"val_loss\",\n",
    "  mode=\"min\"\n",
    ")\n",
    "\n",
    "tag_set = set()\n",
    "for tags_i in priority_needs_train_dataset[\"target\"]:\n",
    "    tag_set.update(tags_i)\n",
    "tagname_to_tagid = {tag:i for i, tag in enumerate(list(sorted(tag_set)))}\n",
    "\n",
    "training_loader, val_loader, val_loader_frac = get_loaders (priority_needs_train_dataset,\n",
    "                                                 priority_needs_val_dataset)\n",
    "\n",
    "\n",
    "errors_priority_needs = train_on_specific_targets(priority_needs_train_dataset,\n",
    "                                                 tagname_to_tagid,\n",
    "                                                 f\"priority-needs-classifier-{log_dir_name}\",\n",
    "                                                 dropout_rate=0.6)\n",
    "errors_priority_needs"
   ]
  },
  {
   "cell_type": "code",
   "execution_count": null,
   "metadata": {
    "id": "sfvuU2bkE5ij"
   },
   "outputs": [],
   "source": []
  },
  {
   "cell_type": "code",
   "execution_count": null,
   "metadata": {
    "id": "FZVhl7Col8hH"
   },
   "outputs": [],
   "source": []
  },
  {
   "cell_type": "code",
   "execution_count": null,
   "metadata": {
    "id": "7gudm6AEotVa"
   },
   "outputs": [],
   "source": []
  },
  {
   "cell_type": "code",
   "execution_count": null,
   "metadata": {
    "id": "E8HWNKbnotX_"
   },
   "outputs": [],
   "source": []
  },
  {
   "cell_type": "markdown",
   "metadata": {
    "id": "j-Mk-MPYou2-"
   },
   "source": [
    "# TESTING:\n"
   ]
  },
  {
   "cell_type": "code",
   "execution_count": null,
   "metadata": {
    "colab": {
     "base_uri": "https://localhost:8080/"
    },
    "id": "K7VAzxSGotfH",
    "outputId": "a86efb7a-b35d-4a73-e1f6-d97b7e2c9e80"
   },
   "outputs": [],
   "source": []
  },
  {
   "cell_type": "code",
   "execution_count": 36,
   "metadata": {
    "colab": {
     "base_uri": "https://localhost:8080/",
     "height": 66,
     "referenced_widgets": [
      "dd255d8003104901992978bcddea93e5",
      "970d7fd0d93a4fc3b189c9698d2a4eed",
      "32f9a92603c34246b71903995e8275dd",
      "81ba6d9a80e64357913a7ec9f299d428",
      "0cde4d4356124e518ba8b78936a8e867",
      "59ab4b6bf35441e9a314fec5b2b0fb28",
      "0801842b29134e64913946c1b07920c3",
      "938571f771e54ee495f7510ae5e9b2e5"
     ]
    },
    "id": "GU6MVyl2pc0d",
    "outputId": "3d539c57-569a-48c2-a4c5-1f0d4d1cae4e"
   },
   "outputs": [
    {
     "data": {
      "application/vnd.jupyter.widget-view+json": {
       "model_id": "dd255d8003104901992978bcddea93e5",
       "version_major": 2,
       "version_minor": 0
      },
      "text/plain": [
       "HBox(children=(FloatProgress(value=0.0, description='Downloading', max=470693617.0, style=ProgressStyle(descri…"
      ]
     },
     "metadata": {
      "tags": []
     },
     "output_type": "display_data"
    },
    {
     "name": "stdout",
     "output_type": "stream",
     "text": [
      "\n"
     ]
    }
   ],
   "source": [
    "checkpoint_path_pillars = \"checkpoints-pillarssentence-transformers-paraphrase-multilingual-MiniLM-L12-v2/epoch=1-step=2749.ckpt\"\n",
    "model_pillars = Transformer.load_from_checkpoint(checkpoint_path_pillars)"
   ]
  },
  {
   "cell_type": "code",
   "execution_count": 42,
   "metadata": {
    "colab": {
     "base_uri": "https://localhost:8080/"
    },
    "id": "pdLGOcsMrZq1",
    "outputId": "2973e09d-d740-407b-af9a-bd2b76bc7a5e"
   },
   "outputs": [
    {
     "name": "stderr",
     "output_type": "stream",
     "text": [
      "/usr/local/lib/python3.7/dist-packages/torch/utils/data/dataloader.py:481: UserWarning: This DataLoader will create 4 worker processes in total. Our suggested max number of worker in current system is 2, which is smaller than what this DataLoader is going to create. Please be aware that excessive worker creation might get DataLoader running slow or even freeze, lower the worker number to avoid potential slowness/freeze if necessary.\n",
      "  cpuset_checked))\n"
     ]
    }
   ],
   "source": []
  },
  {
   "cell_type": "code",
   "execution_count": 45,
   "metadata": {
    "id": "0RehvhhTtwTA"
   },
   "outputs": [],
   "source": []
  },
  {
   "cell_type": "code",
   "execution_count": null,
   "metadata": {
    "id": "bxFr69lnglPF"
   },
   "outputs": [],
   "source": [
    "def model_evaluate_(model, dataset, name:str):\n",
    "    tag_set = set()\n",
    "    for tags_i in dataset[\"target\"]:\n",
    "        tag_set.update(tags_i)\n",
    "    tagname_to_tagid = {tag:i for i, tag in enumerate(list(sorted(tag_set)))}\n",
    "\n",
    "    val_set = CustomDataset(dataset, tagname_to_tagid, tokenizer, MAX_LEN)\n",
    "    val_loader = DataLoader(val_set, **val_params)\n",
    "\n",
    "    model.eval()\n",
    "    model.freeze()\n",
    "    predictions_pillar = []\n",
    "    y_true = []\n",
    "    logits_tot=[]\n",
    "    indexes=torch.tensor([])\n",
    "\n",
    "\n",
    "    with torch.no_grad():\n",
    "        iter=0\n",
    "        for batch in tqdm(val_loader, total=len(val_loader.dataset)//val_loader.batch_size):\n",
    "            \n",
    "            logits = model({\"ids\": batch[\"ids\"].to('cuda'),\n",
    "                            \"mask\": batch[\"mask\"].to('cuda'),\n",
    "                            \"token_type_ids\": batch[\"token_type_ids\"].to('cuda')})\n",
    "            \n",
    "            preds_batch = np.zeros(logits.shape, dtype=np.int)\n",
    "            preds_batch[(torch.sigmoid(logits) >= model.pred_threshold).cpu().nonzero(as_tuple=True)] = 1\n",
    "            if iter==0:\n",
    "                predictions = preds_batch\n",
    "                indexes = batch[\"entry_id\"]\n",
    "            \n",
    "            else:\n",
    "                predictions = np.concatenate([predictions,preds_batch], 0) #.append(preds_batch)\n",
    "                indexes = tf.concat([indexes, batch[\"entry_id\"]], 0)\n",
    "            \n",
    "            \"\"\"original_sentences.append(batch['original_sentence'])\"\"\"\n",
    "            iter += 1\n",
    "    \n",
    "    np.save('predictions_round_1'+name, np.array(predictions_pillar))\n",
    "    np.save('indexes_round1'+name, np.array(indexes))\n",
    "    return predictions, indexes"
   ]
  },
  {
   "cell_type": "code",
   "execution_count": 46,
   "metadata": {
    "colab": {
     "base_uri": "https://localhost:8080/",
     "height": 121,
     "referenced_widgets": [
      "94809634593e43b4a1136838ba441486",
      "c2aaec7f8d974248b7df2ef25e3e59e3",
      "b55228b05c7b4b08807a63c355442c1b",
      "d199333c8f524fbe96a1c0d0b83a14b5",
      "fff7532ed04a4ae2bd9f6f214ad39075",
      "5841a0d0ad234988842b0188da83665d",
      "d65e9977da6143b9a3863daf82b08582",
      "213b2b2454464ae587158642d4e12264"
     ]
    },
    "id": "D0bedvSEo56a",
    "outputId": "36afb81b-279c-43b1-a7d2-8212c566ca65"
   },
   "outputs": [
    {
     "data": {
      "application/vnd.jupyter.widget-view+json": {
       "model_id": "94809634593e43b4a1136838ba441486",
       "version_major": 2,
       "version_minor": 0
      },
      "text/plain": [
       "HBox(children=(FloatProgress(value=0.0, max=171.0), HTML(value='')))"
      ]
     },
     "metadata": {
      "tags": []
     },
     "output_type": "display_data"
    },
    {
     "name": "stderr",
     "output_type": "stream",
     "text": [
      "/usr/local/lib/python3.7/dist-packages/torch/utils/data/dataloader.py:481: UserWarning: This DataLoader will create 4 worker processes in total. Our suggested max number of worker in current system is 2, which is smaller than what this DataLoader is going to create. Please be aware that excessive worker creation might get DataLoader running slow or even freeze, lower the worker number to avoid potential slowness/freeze if necessary.\n",
      "  cpuset_checked))\n"
     ]
    },
    {
     "name": "stdout",
     "output_type": "stream",
     "text": [
      "\n"
     ]
    }
   ],
   "source": [
    "\n",
    "predictions_priority_needs, indexes_priority_needs = model_evaluate_(model_pillars, pillars_val_dataset, name='pillars')"
   ]
  },
  {
   "cell_type": "code",
   "execution_count": 47,
   "metadata": {
    "id": "s1ZUaCCOydLn"
   },
   "outputs": [],
   "source": []
  },
  {
   "cell_type": "code",
   "execution_count": 48,
   "metadata": {
    "id": "RvZK2uguzkhm"
   },
   "outputs": [],
   "source": [
    "boolean_capacities_responses = predictions_pillar[:,0]==1\n",
    "capacities_response_after_bool = pillars_val_dataset[boolean_capacities_responses]\n",
    "\n",
    "boolean_hum_conditions = predictions_pillar[:,1]==1\n",
    "hum_conditions_after_bool = pillars_val_dataset[boolean_hum_conditions]\n",
    "\n",
    "boolean_impact = predictions_pillar[:,2]==1\n",
    "impact_after_bool = pillars_val_dataset[boolean_impact]\n",
    "\n",
    "boolean_people_at_risk = predictions_pillar[:,3]==1\n",
    "people_at_risk_after_bool = pillars_val_dataset[boolean_people_at_risk]\n",
    "\n",
    "boolean_priority_interventions = predictions_pillar[:,4]==1\n",
    "priority_interventions_after_bool = pillars_val_dataset[boolean_priority_interventions]\n",
    "\n",
    "boolean_priority_needs = predictions_pillar[:,5]==1\n",
    "priority_needs_after_bool = pillars_val_dataset[boolean_priority_needs]"
   ]
  },
  {
   "cell_type": "code",
   "execution_count": 52,
   "metadata": {
    "id": "lORS4BsDz5u5"
   },
   "outputs": [],
   "source": [
    "checkpoint_path_subpillars_priority_needs =\\\n",
    "         \"checkpoints-subpillars-priority-needs-sentence-transformers-paraphrase-multilingual-MiniLM-L12-v2/epoch=0-step=50.ckpt\"\n",
    "model_subpillars_priority_needs = Transformer.load_from_checkpoint(checkpoint_path_subpillars_priority_needs)"
   ]
  },
  {
   "cell_type": "code",
   "execution_count": 49,
   "metadata": {
    "id": "o_DemAxhq1XL"
   },
   "outputs": [],
   "source": [
    "checkpoint_path_subpillars_capacities_responses =\\\n",
    "         \"checkpoints-subpillars-capacities-responses-sentence-transformers-paraphrase-multilingual-MiniLM-L12-v2/epoch=1-step=487.ckpt\"\n",
    "model_subpillars_capacities_responses = Transformer.load_from_checkpoint(checkpoint_path_subpillars_capacities_responses)\n",
    "\n"
   ]
  },
  {
   "cell_type": "code",
   "execution_count": 60,
   "metadata": {
    "id": "5wyOPN8r2uSK"
   },
   "outputs": [],
   "source": [
    "checkpoint_path_subpillars_hum_conditions =\\\n",
    "         \"checkpoints-subpillars-humanitarian-conditions-sentence-transformers-paraphrase-multilingual-MiniLM-L12-v2/epoch=0-step=738.ckpt\"\n",
    "model_subpillars_hum_conditions = Transformer.load_from_checkpoint(checkpoint_path_subpillars_hum_conditions)"
   ]
  },
  {
   "cell_type": "code",
   "execution_count": 62,
   "metadata": {
    "id": "Iwg9M1xN2uYd"
   },
   "outputs": [],
   "source": [
    "checkpoint_path_subpillars_impact =\\\n",
    "         \"checkpoints-subpillars-impact-sentence-transformers-paraphrase-multilingual-MiniLM-L12-v2/epoch=1-step=1071.ckpt\"\n",
    "model_subpillars_impact = Transformer.load_from_checkpoint(checkpoint_path_subpillars_impact)"
   ]
  },
  {
   "cell_type": "code",
   "execution_count": 64,
   "metadata": {
    "id": "GdHqhPkb2ucK"
   },
   "outputs": [],
   "source": [
    "checkpoint_path_subpillars_people_at_risk =\\\n",
    "         \"checkpoints-subpillars-people-at-risk-sentence-transformers-paraphrase-multilingual-MiniLM-L12-v2/epoch=2-step=560.ckpt\"\n",
    "model_subpillars_people_at_risk = Transformer.load_from_checkpoint(checkpoint_path_subpillars_people_at_risk)"
   ]
  },
  {
   "cell_type": "code",
   "execution_count": 66,
   "metadata": {
    "id": "It9yW1zf2uhP"
   },
   "outputs": [],
   "source": [
    "checkpoint_path_subpillars_priority_interventions =\\\n",
    "         \"checkpoints-subpillars-priority-interventions-sentence-transformers-paraphrase-multilingual-MiniLM-L12-v2/epoch=0-step=41.ckpt\"\n",
    "model_subpillars_priority_interventions = Transformer.load_from_checkpoint(checkpoint_path_subpillars_priority_interventions)"
   ]
  },
  {
   "cell_type": "code",
   "execution_count": null,
   "metadata": {
    "id": "OoUjJj-24CV9"
   },
   "outputs": [],
   "source": []
  },
  {
   "cell_type": "code",
   "execution_count": 56,
   "metadata": {
    "id": "swzIb6qaq1Z6"
   },
   "outputs": [],
   "source": []
  },
  {
   "cell_type": "code",
   "execution_count": 57,
   "metadata": {
    "colab": {
     "base_uri": "https://localhost:8080/",
     "height": 121,
     "referenced_widgets": [
      "8c3c3d7efca14efaa3b4e5b1ce3551fb",
      "fb63b2bad51e4f018d34f9ad7ec806b1",
      "d4624e00a46643a2b3d119e5289fe84b",
      "28752d38a3eb4fa2894c0bd418ca9f06",
      "f4e1ec8ef6754eca85403e20c6eeb466",
      "85f935fe06a24eb3b3db340e44bc5650",
      "c0f03e2557194a96a8f0d71d80ad6afe",
      "7e2e81372c744f779cd61dd3ab911492"
     ]
    },
    "id": "Xwy8W3qKq1dP",
    "outputId": "d58ae5bd-583f-4a1a-a25c-436393eb9f38"
   },
   "outputs": [
    {
     "name": "stderr",
     "output_type": "stream",
     "text": [
      "/usr/local/lib/python3.7/dist-packages/torch/utils/data/dataloader.py:481: UserWarning: This DataLoader will create 4 worker processes in total. Our suggested max number of worker in current system is 2, which is smaller than what this DataLoader is going to create. Please be aware that excessive worker creation might get DataLoader running slow or even freeze, lower the worker number to avoid potential slowness/freeze if necessary.\n",
      "  cpuset_checked))\n"
     ]
    },
    {
     "data": {
      "application/vnd.jupyter.widget-view+json": {
       "model_id": "8c3c3d7efca14efaa3b4e5b1ce3551fb",
       "version_major": 2,
       "version_minor": 0
      },
      "text/plain": [
       "HBox(children=(FloatProgress(value=0.0, max=1.0), HTML(value='')))"
      ]
     },
     "metadata": {
      "tags": []
     },
     "output_type": "display_data"
    },
    {
     "name": "stdout",
     "output_type": "stream",
     "text": [
      "\n"
     ]
    }
   ],
   "source": [
    "predictions_priority_needs, indexes_priority_needs = model_evaluate_(model_subpillars_priority_needs, priority_needs_after_bool, name='priority needs')"
   ]
  },
  {
   "cell_type": "code",
   "execution_count": 59,
   "metadata": {
    "colab": {
     "base_uri": "https://localhost:8080/",
     "height": 121,
     "referenced_widgets": [
      "63673ba1a6d549d6b6f4bdb59c4e4b37",
      "830a9f256fb847fc89e33501797eda19",
      "6a7f7debdc9d466facdf99bc80bab685",
      "a260220506a447239060029d367d27f2",
      "1b907cb80f4f465abb7f5da6788f08b8",
      "01805afe8664491c90146fd66858215f",
      "4b510be582d14936aefcdb5ce3f7fb58",
      "eb2d62709ac5476ba254adb5451aa439"
     ]
    },
    "id": "zB4hFytY2afX",
    "outputId": "31fd7078-0cb0-48d9-9825-16d5c637f92c"
   },
   "outputs": [
    {
     "name": "stderr",
     "output_type": "stream",
     "text": [
      "/usr/local/lib/python3.7/dist-packages/torch/utils/data/dataloader.py:481: UserWarning: This DataLoader will create 4 worker processes in total. Our suggested max number of worker in current system is 2, which is smaller than what this DataLoader is going to create. Please be aware that excessive worker creation might get DataLoader running slow or even freeze, lower the worker number to avoid potential slowness/freeze if necessary.\n",
      "  cpuset_checked))\n"
     ]
    },
    {
     "data": {
      "application/vnd.jupyter.widget-view+json": {
       "model_id": "63673ba1a6d549d6b6f4bdb59c4e4b37",
       "version_major": 2,
       "version_minor": 0
      },
      "text/plain": [
       "HBox(children=(FloatProgress(value=0.0, max=26.0), HTML(value='')))"
      ]
     },
     "metadata": {
      "tags": []
     },
     "output_type": "display_data"
    },
    {
     "name": "stdout",
     "output_type": "stream",
     "text": [
      "\n"
     ]
    }
   ],
   "source": [
    "predictions_capacities_responses, indexes_capacities_responses = \\\n",
    "        model_evaluate_(model_subpillars_capacities_responses, capacities_response_after_bool, name='capacities responses')"
   ]
  },
  {
   "cell_type": "code",
   "execution_count": 61,
   "metadata": {
    "colab": {
     "base_uri": "https://localhost:8080/",
     "height": 121,
     "referenced_widgets": [
      "cf7d11867ec84584ab4e20d7756104a4",
      "398ed1a11c424da19099755df2e41a9c",
      "26a982a33cf248d4842c0b7c41060fd0",
      "e260aed5fa1a462a875d73aa0284afaf",
      "26bf01a1edb843b5b0e4bc946b8cc957",
      "e34ca6624025419d95479d12db34e404",
      "c32300d27a58430eabc758898fc23498",
      "87b6cf63fd73416cbddb3836ef01cc14"
     ]
    },
    "id": "RaZSNzup2ajr",
    "outputId": "06997a52-674c-4cd1-a8a4-a6e4d015dd00"
   },
   "outputs": [
    {
     "name": "stderr",
     "output_type": "stream",
     "text": [
      "/usr/local/lib/python3.7/dist-packages/torch/utils/data/dataloader.py:481: UserWarning: This DataLoader will create 4 worker processes in total. Our suggested max number of worker in current system is 2, which is smaller than what this DataLoader is going to create. Please be aware that excessive worker creation might get DataLoader running slow or even freeze, lower the worker number to avoid potential slowness/freeze if necessary.\n",
      "  cpuset_checked))\n"
     ]
    },
    {
     "data": {
      "application/vnd.jupyter.widget-view+json": {
       "model_id": "cf7d11867ec84584ab4e20d7756104a4",
       "version_major": 2,
       "version_minor": 0
      },
      "text/plain": [
       "HBox(children=(FloatProgress(value=0.0, max=92.0), HTML(value='')))"
      ]
     },
     "metadata": {
      "tags": []
     },
     "output_type": "display_data"
    },
    {
     "name": "stdout",
     "output_type": "stream",
     "text": [
      "\n"
     ]
    }
   ],
   "source": [
    "predictions_hum_conditions, indexes_hum_conditions = \\\n",
    "        model_evaluate_(model_subpillars_hum_conditions, hum_conditions_after_bool, name='humanitarian conditions')"
   ]
  },
  {
   "cell_type": "code",
   "execution_count": 63,
   "metadata": {
    "colab": {
     "base_uri": "https://localhost:8080/",
     "height": 121,
     "referenced_widgets": [
      "633181b128124a0e9228a00e4849b2ca",
      "8f1db75287944b3aab8338fdf2296561",
      "afa579df80834717b138e58205b6a12f",
      "0c807909271549df9768554dc828c8c1",
      "02c183bf70b34dfe9b7b0ed2d3b213bd",
      "58cb50333c2244f2a61ada3c39f3b360",
      "4ee4d177ccd748a38209982cd60044b8",
      "541ca6ef38d442d1a56b519ab03b7b14"
     ]
    },
    "id": "eIWLzudt2anI",
    "outputId": "9842f49a-e5d9-4925-a06f-8a2b0317368c"
   },
   "outputs": [
    {
     "name": "stderr",
     "output_type": "stream",
     "text": [
      "/usr/local/lib/python3.7/dist-packages/torch/utils/data/dataloader.py:481: UserWarning: This DataLoader will create 4 worker processes in total. Our suggested max number of worker in current system is 2, which is smaller than what this DataLoader is going to create. Please be aware that excessive worker creation might get DataLoader running slow or even freeze, lower the worker number to avoid potential slowness/freeze if necessary.\n",
      "  cpuset_checked))\n"
     ]
    },
    {
     "data": {
      "application/vnd.jupyter.widget-view+json": {
       "model_id": "633181b128124a0e9228a00e4849b2ca",
       "version_major": 2,
       "version_minor": 0
      },
      "text/plain": [
       "HBox(children=(FloatProgress(value=0.0, max=64.0), HTML(value='')))"
      ]
     },
     "metadata": {
      "tags": []
     },
     "output_type": "display_data"
    },
    {
     "name": "stdout",
     "output_type": "stream",
     "text": [
      "\n"
     ]
    }
   ],
   "source": [
    "predictions_impact, indexes_impact = \\\n",
    "        model_evaluate_(model_subpillars_impact, impact_after_bool, name='impact')"
   ]
  },
  {
   "cell_type": "code",
   "execution_count": 65,
   "metadata": {
    "colab": {
     "base_uri": "https://localhost:8080/",
     "height": 121,
     "referenced_widgets": [
      "ccbe09155d4b4148b43f32be84975c27",
      "c2f7d212c92e431e98cb23cec7681c1c",
      "bded750b213a43d4a078819da0796892",
      "799e8131ac2048b59f4c8a96f88a63b1",
      "f6e17eabbefa45df9daf67857cd031bd",
      "485eaa727f1c4127856c1b536b290186",
      "09a05bf9747d462a92ab94ee1b128f5b",
      "2f0ad1e73f3944a1b289ca095f494c16"
     ]
    },
    "id": "ozlMK5u92app",
    "outputId": "8e5a85ea-a8c2-4327-96ce-2a843395fe8d"
   },
   "outputs": [
    {
     "name": "stderr",
     "output_type": "stream",
     "text": [
      "/usr/local/lib/python3.7/dist-packages/torch/utils/data/dataloader.py:481: UserWarning: This DataLoader will create 4 worker processes in total. Our suggested max number of worker in current system is 2, which is smaller than what this DataLoader is going to create. Please be aware that excessive worker creation might get DataLoader running slow or even freeze, lower the worker number to avoid potential slowness/freeze if necessary.\n",
      "  cpuset_checked))\n"
     ]
    },
    {
     "data": {
      "application/vnd.jupyter.widget-view+json": {
       "model_id": "ccbe09155d4b4148b43f32be84975c27",
       "version_major": 2,
       "version_minor": 0
      },
      "text/plain": [
       "HBox(children=(FloatProgress(value=0.0, max=13.0), HTML(value='')))"
      ]
     },
     "metadata": {
      "tags": []
     },
     "output_type": "display_data"
    },
    {
     "name": "stdout",
     "output_type": "stream",
     "text": [
      "\n"
     ]
    }
   ],
   "source": [
    "predictions_people_at_risk, indexes_people_at_risk = \\\n",
    "        model_evaluate_(model_subpillars_people_at_risk, people_at_risk_after_bool, name='people at risk')"
   ]
  },
  {
   "cell_type": "code",
   "execution_count": 67,
   "metadata": {
    "colab": {
     "base_uri": "https://localhost:8080/",
     "height": 121,
     "referenced_widgets": [
      "0a3a417070604c7981a37e3bb9008623",
      "a4e57dd14698443b8d48c8ad3ef06e11",
      "cbe9d8553fc141ff861bc4f5d2a1d7f3",
      "ebd9df7ab6fa445fae1a99cf6e194f89",
      "21c542e4ace642c2b723e01ca380b2ec",
      "2a405ed5f07042ad8884cc6486c7a4aa",
      "fdccf682700444f5bfe56ba5e306679c",
      "f5ee3856b4764de4a0ee0f5e95177d99"
     ]
    },
    "id": "CgV8tdqJ2atG",
    "outputId": "0e18dfa8-eb84-41c7-aea2-4ba49c5fb698"
   },
   "outputs": [
    {
     "name": "stderr",
     "output_type": "stream",
     "text": [
      "/usr/local/lib/python3.7/dist-packages/torch/utils/data/dataloader.py:481: UserWarning: This DataLoader will create 4 worker processes in total. Our suggested max number of worker in current system is 2, which is smaller than what this DataLoader is going to create. Please be aware that excessive worker creation might get DataLoader running slow or even freeze, lower the worker number to avoid potential slowness/freeze if necessary.\n",
      "  cpuset_checked))\n"
     ]
    },
    {
     "data": {
      "application/vnd.jupyter.widget-view+json": {
       "model_id": "0a3a417070604c7981a37e3bb9008623",
       "version_major": 2,
       "version_minor": 0
      },
      "text/plain": [
       "HBox(children=(FloatProgress(value=0.0, max=4.0), HTML(value='')))"
      ]
     },
     "metadata": {
      "tags": []
     },
     "output_type": "display_data"
    },
    {
     "name": "stdout",
     "output_type": "stream",
     "text": [
      "\n"
     ]
    }
   ],
   "source": [
    "predictions_priority_interventions, indexes_priority_interventions = \\\n",
    "        model_evaluate_(model_subpillars_priority_interventions, priority_interventions_after_bool, name='priority interventions')"
   ]
  },
  {
   "cell_type": "code",
   "execution_count": 68,
   "metadata": {
    "id": "QfyM9tpZq1fz"
   },
   "outputs": [],
   "source": [
    "indexes_list = pillars_val_dataset.entry_id\n",
    "np.save('indexes total list', np.array(indexes_list))"
   ]
  },
  {
   "cell_type": "code",
   "execution_count": 155,
   "metadata": {
    "colab": {
     "base_uri": "https://localhost:8080/"
    },
    "id": "zzmzpMuOq1iq",
    "outputId": "a448c4d7-71a4-41f9-ad0b-a5a7f8d20f38"
   },
   "outputs": [
    {
     "data": {
      "text/plain": [
       "{'Capacities & Response->International Response': 0,\n",
       " 'Capacities & Response->National Response': 1,\n",
       " 'Capacities & Response->Number Of People Reached': 2,\n",
       " 'Capacities & Response->Response Gaps': 3,\n",
       " 'Humanitarian Conditions->Coping Mechanisms': 4,\n",
       " 'Humanitarian Conditions->Living Standards': 5,\n",
       " 'Humanitarian Conditions->Number Of People In Need': 6,\n",
       " 'Humanitarian Conditions->Physical And Mental Well Being': 7,\n",
       " 'Impact->Driver/Aggravating Factors': 8,\n",
       " 'Impact->Impact On People': 9,\n",
       " 'Impact->Impact On People Or Impact On Services': 10,\n",
       " 'Impact->Impact On Services': 11,\n",
       " 'Impact->Impact On Systems And Services': 12,\n",
       " 'Impact->Number Of People Affected': 13,\n",
       " 'People At Risk->Number Of People At Risk': 14,\n",
       " 'People At Risk->Risk And Vulnerabilities': 15,\n",
       " 'Priority Interventions->Expressed By Humanitarian Staff': 16,\n",
       " 'Priority Interventions->Expressed By Population': 17,\n",
       " 'Priority Needs->Expressed By Humanitarian Staff': 18,\n",
       " 'Priority Needs->Expressed By Population': 19}"
      ]
     },
     "execution_count": 155,
     "metadata": {
      "tags": []
     },
     "output_type": "execute_result"
    }
   ],
   "source": [
    "train_dataset = pd.read_csv(TRAIN_PATH)\n",
    "val_dataset = pd.read_csv(VAL_PATH)\n",
    "\n",
    "all_dataset = pd.concat([train_dataset, val_dataset])\n",
    "\n",
    "final_val_df = all_dataset.loc[all_dataset.entry_id.isin(pillars_val_dataset.entry_id)][['entry_id', 'subpillars']]\n",
    "\n",
    "\n",
    "def perfectEval(anonstring):\n",
    "        try:\n",
    "            ev = literal_eval(anonstring)\n",
    "            return ev\n",
    "        except ValueError:\n",
    "            corrected = \"\\'\" + anonstring + \"\\'\"\n",
    "            ev = literal_eval(corrected)\n",
    "            return ev\n",
    "\n",
    "final_val_df['evall'] = final_val_df.subpillars.apply(lambda x: perfectEval(x))\n",
    "\n",
    "tag_set = set()\n",
    "for tags_i in final_val_df[\"evall\"]:\n",
    "    tag_set.update(tags_i)\n",
    "tagname_to_tagid = {tag:i for i, tag in enumerate(list(sorted(tag_set)))}\n",
    "tagname_to_tagid"
   ]
  },
  {
   "cell_type": "code",
   "execution_count": null,
   "metadata": {
    "id": "DsqID5wETMTm"
   },
   "outputs": [],
   "source": []
  },
  {
   "cell_type": "code",
   "execution_count": 153,
   "metadata": {
    "colab": {
     "base_uri": "https://localhost:8080/"
    },
    "id": "ERxniY6ZSWGY",
    "outputId": "bcbde335-b1ef-420d-ff7b-5a02ec8b1324"
   },
   "outputs": [
    {
     "data": {
      "text/plain": [
       "0"
      ]
     },
     "execution_count": 153,
     "metadata": {
      "tags": []
     },
     "output_type": "execute_result"
    }
   ],
   "source": [
    "tagname_to_tagid['Capacities & Response->International Response']"
   ]
  },
  {
   "cell_type": "code",
   "execution_count": 158,
   "metadata": {
    "id": "dXbMetGWCHe5"
   },
   "outputs": [],
   "source": [
    "\n",
    "def fill_column (row, n_labels):\n",
    "    \"\"\"\n",
    "    function to return proper labels (for relevance column and for sectors column)\n",
    "    \"\"\"\n",
    "    values_to_fill = row\n",
    "    row = [0]*n_labels\n",
    "    for target_tmp in values_to_fill:\n",
    "        row[tagname_to_tagid[target_tmp]]=1\n",
    "    return row\n",
    "\n",
    "final_val_df.evall = final_val_df.evall.apply(lambda x: fill_column(x, n_labels=20))"
   ]
  },
  {
   "cell_type": "code",
   "execution_count": 161,
   "metadata": {
    "colab": {
     "base_uri": "https://localhost:8080/",
     "height": 206
    },
    "id": "6s-j4eznDDSM",
    "outputId": "d71db8ab-79b9-4c48-b97d-00f97245c75e"
   },
   "outputs": [
    {
     "data": {
      "text/html": [
       "<div>\n",
       "<style scoped>\n",
       "    .dataframe tbody tr th:only-of-type {\n",
       "        vertical-align: middle;\n",
       "    }\n",
       "\n",
       "    .dataframe tbody tr th {\n",
       "        vertical-align: top;\n",
       "    }\n",
       "\n",
       "    .dataframe thead th {\n",
       "        text-align: right;\n",
       "    }\n",
       "</style>\n",
       "<table border=\"1\" class=\"dataframe\">\n",
       "  <thead>\n",
       "    <tr style=\"text-align: right;\">\n",
       "      <th></th>\n",
       "      <th>entry_id</th>\n",
       "      <th>y true</th>\n",
       "    </tr>\n",
       "  </thead>\n",
       "  <tbody>\n",
       "    <tr>\n",
       "      <th>5</th>\n",
       "      <td>162971</td>\n",
       "      <td>[1, 0, 1, 0, 0, 0, 0, 0, 0, 0, 0, 0, 0, 0, 0, ...</td>\n",
       "    </tr>\n",
       "    <tr>\n",
       "      <th>7</th>\n",
       "      <td>174404</td>\n",
       "      <td>[0, 1, 0, 0, 0, 0, 0, 0, 0, 0, 0, 0, 0, 0, 0, ...</td>\n",
       "    </tr>\n",
       "    <tr>\n",
       "      <th>36</th>\n",
       "      <td>163544</td>\n",
       "      <td>[0, 1, 0, 0, 0, 1, 0, 0, 0, 0, 0, 0, 0, 0, 0, ...</td>\n",
       "    </tr>\n",
       "    <tr>\n",
       "      <th>40</th>\n",
       "      <td>164446</td>\n",
       "      <td>[0, 0, 1, 0, 0, 0, 0, 0, 0, 0, 0, 0, 0, 0, 0, ...</td>\n",
       "    </tr>\n",
       "    <tr>\n",
       "      <th>45</th>\n",
       "      <td>163613</td>\n",
       "      <td>[0, 1, 0, 0, 0, 0, 0, 0, 0, 0, 0, 0, 0, 0, 0, ...</td>\n",
       "    </tr>\n",
       "  </tbody>\n",
       "</table>\n",
       "</div>"
      ],
      "text/plain": [
       "    entry_id                                             y true\n",
       "5     162971  [1, 0, 1, 0, 0, 0, 0, 0, 0, 0, 0, 0, 0, 0, 0, ...\n",
       "7     174404  [0, 1, 0, 0, 0, 0, 0, 0, 0, 0, 0, 0, 0, 0, 0, ...\n",
       "36    163544  [0, 1, 0, 0, 0, 1, 0, 0, 0, 0, 0, 0, 0, 0, 0, ...\n",
       "40    164446  [0, 0, 1, 0, 0, 0, 0, 0, 0, 0, 0, 0, 0, 0, 0, ...\n",
       "45    163613  [0, 1, 0, 0, 0, 0, 0, 0, 0, 0, 0, 0, 0, 0, 0, ..."
      ]
     },
     "execution_count": 161,
     "metadata": {
      "tags": []
     },
     "output_type": "execute_result"
    }
   ],
   "source": [
    "final_val_df['y true']=final_val_df.evall\n",
    "final_val_df = final_val_df[['entry_id', 'y true']]\n",
    "final_val_df.head()"
   ]
  },
  {
   "cell_type": "code",
   "execution_count": 75,
   "metadata": {
    "id": "qI3Tj8-fDJQO"
   },
   "outputs": [],
   "source": [
    "predicted_dataset = final_val_df[['entry_id']]"
   ]
  },
  {
   "cell_type": "code",
   "execution_count": 85,
   "metadata": {
    "colab": {
     "base_uri": "https://localhost:8080/",
     "height": 223
    },
    "id": "5HdTo8NZDg2v",
    "outputId": "43c6d7d4-67e4-46fe-ec5c-01ca642f3e41"
   },
   "outputs": [
    {
     "data": {
      "text/html": [
       "<div>\n",
       "<style scoped>\n",
       "    .dataframe tbody tr th:only-of-type {\n",
       "        vertical-align: middle;\n",
       "    }\n",
       "\n",
       "    .dataframe tbody tr th {\n",
       "        vertical-align: top;\n",
       "    }\n",
       "\n",
       "    .dataframe thead th {\n",
       "        text-align: right;\n",
       "    }\n",
       "</style>\n",
       "<table border=\"1\" class=\"dataframe\">\n",
       "  <thead>\n",
       "    <tr style=\"text-align: right;\">\n",
       "      <th></th>\n",
       "      <th>entry_id</th>\n",
       "      <th>prediction</th>\n",
       "      <th>prediction capacity response</th>\n",
       "      <th>prediction hum conditions</th>\n",
       "      <th>prediction impact</th>\n",
       "      <th>prediction people at risk</th>\n",
       "      <th>prediction Priority Interventions</th>\n",
       "      <th>prediction Priority needs</th>\n",
       "    </tr>\n",
       "  </thead>\n",
       "  <tbody>\n",
       "    <tr>\n",
       "      <th>5</th>\n",
       "      <td>162971</td>\n",
       "      <td>162971</td>\n",
       "      <td>[0, 0, 0, 0]</td>\n",
       "      <td>[0, 0, 0, 0]</td>\n",
       "      <td>[0, 0, 0, 0, 0, 0]</td>\n",
       "      <td>[0, 0]</td>\n",
       "      <td>[0, 0]</td>\n",
       "      <td>[0, 0]</td>\n",
       "    </tr>\n",
       "    <tr>\n",
       "      <th>7</th>\n",
       "      <td>174404</td>\n",
       "      <td>174404</td>\n",
       "      <td>[0, 0, 0, 0]</td>\n",
       "      <td>[0, 0, 0, 0]</td>\n",
       "      <td>[0, 0, 0, 0, 0, 0]</td>\n",
       "      <td>[0, 0]</td>\n",
       "      <td>[0, 0]</td>\n",
       "      <td>[0, 0]</td>\n",
       "    </tr>\n",
       "    <tr>\n",
       "      <th>36</th>\n",
       "      <td>163544</td>\n",
       "      <td>163544</td>\n",
       "      <td>[0, 0, 0, 0]</td>\n",
       "      <td>[0, 0, 0, 0]</td>\n",
       "      <td>[0, 0, 0, 0, 0, 0]</td>\n",
       "      <td>[0, 0]</td>\n",
       "      <td>[0, 0]</td>\n",
       "      <td>[0, 0]</td>\n",
       "    </tr>\n",
       "    <tr>\n",
       "      <th>40</th>\n",
       "      <td>164446</td>\n",
       "      <td>164446</td>\n",
       "      <td>[0, 0, 0, 0]</td>\n",
       "      <td>[0, 0, 0, 0]</td>\n",
       "      <td>[0, 0, 0, 0, 0, 0]</td>\n",
       "      <td>[0, 0]</td>\n",
       "      <td>[0, 0]</td>\n",
       "      <td>[0, 0]</td>\n",
       "    </tr>\n",
       "    <tr>\n",
       "      <th>45</th>\n",
       "      <td>163613</td>\n",
       "      <td>163613</td>\n",
       "      <td>[0, 0, 0, 0]</td>\n",
       "      <td>[0, 0, 0, 0]</td>\n",
       "      <td>[0, 0, 0, 0, 0, 0]</td>\n",
       "      <td>[0, 0]</td>\n",
       "      <td>[0, 0]</td>\n",
       "      <td>[0, 0]</td>\n",
       "    </tr>\n",
       "  </tbody>\n",
       "</table>\n",
       "</div>"
      ],
      "text/plain": [
       "    entry_id  ...  prediction Priority needs\n",
       "5     162971  ...                     [0, 0]\n",
       "7     174404  ...                     [0, 0]\n",
       "36    163544  ...                     [0, 0]\n",
       "40    164446  ...                     [0, 0]\n",
       "45    163613  ...                     [0, 0]\n",
       "\n",
       "[5 rows x 8 columns]"
      ]
     },
     "execution_count": 85,
     "metadata": {
      "tags": []
     },
     "output_type": "execute_result"
    }
   ],
   "source": [
    "predicted_dataset['prediction'] = predicted_dataset['entry_id']\n",
    "predicted_dataset['prediction capacity response'] = predicted_dataset['prediction'].apply(lambda x: [0]*4)\n",
    "predicted_dataset['prediction hum conditions'] = predicted_dataset['prediction'].apply(lambda x: [0]*4)\n",
    "predicted_dataset['prediction impact'] = predicted_dataset['prediction'].apply(lambda x: [0]*6)\n",
    "predicted_dataset['prediction people at risk'] = predicted_dataset['prediction'].apply(lambda x: [0]*2)\n",
    "predicted_dataset['prediction Priority Interventions'] = predicted_dataset['prediction'].apply(lambda x: [0]*2)\n",
    "predicted_dataset['prediction Priority needs'] = predicted_dataset['prediction'].apply(lambda x: [0]*2)\n",
    "\n",
    "\n",
    "\n",
    "predicted_dataset.head()"
   ]
  },
  {
   "cell_type": "code",
   "execution_count": 146,
   "metadata": {
    "id": "T3GDFwCCDilm"
   },
   "outputs": [],
   "source": [
    "for i in range (len(predictions_priority_needs)):\n",
    "    predicted_dataset.loc[predicted_dataset['entry_id']==indexes_priority_needs[i], 'prediction Priority needs']=\\\n",
    "            predicted_dataset.loc[predicted_dataset['entry_id']==indexes_priority_needs[i], 'prediction Priority needs'].\\\n",
    "            apply(lambda x: predictions_priority_needs[i,:])"
   ]
  },
  {
   "cell_type": "code",
   "execution_count": 147,
   "metadata": {
    "id": "gKnX4JocEXAx"
   },
   "outputs": [],
   "source": [
    "for i in range (len(predictions_capacities_responses)):\n",
    "    predicted_dataset.loc[predicted_dataset['entry_id']==indexes_capacities_responses[i], 'prediction capacity response']=\\\n",
    "            predicted_dataset.loc[predicted_dataset['entry_id']==indexes_capacities_responses[i], 'prediction capacity response'].\\\n",
    "            apply(lambda x: predictions_capacities_responses[i,:])"
   ]
  },
  {
   "cell_type": "code",
   "execution_count": 148,
   "metadata": {
    "id": "-xHPlYlpPHuW"
   },
   "outputs": [],
   "source": [
    "for i in range (len(predictions_hum_conditions)):\n",
    "    predicted_dataset.loc[predicted_dataset['entry_id']==indexes_hum_conditions[i], 'prediction hum conditions']=\\\n",
    "            predicted_dataset.loc[predicted_dataset['entry_id']==indexes_hum_conditions[i], 'prediction hum conditions'].\\\n",
    "            apply(lambda x: predictions_hum_conditions[i,:])"
   ]
  },
  {
   "cell_type": "code",
   "execution_count": 149,
   "metadata": {
    "id": "OwoeU-SDPHxV"
   },
   "outputs": [],
   "source": [
    "for i in range (len(predictions_impact)):\n",
    "    predicted_dataset.loc[predicted_dataset['entry_id']==indexes_impact[i], 'prediction impact']=\\\n",
    "            predicted_dataset.loc[predicted_dataset['entry_id']==indexes_impact[i], 'prediction impact'].\\\n",
    "            apply(lambda x: predictions_impact[i,:])"
   ]
  },
  {
   "cell_type": "code",
   "execution_count": 150,
   "metadata": {
    "id": "JpTa7lIoPH0p"
   },
   "outputs": [],
   "source": [
    "for i in range (len(predictions_people_at_risk)):\n",
    "    predicted_dataset.loc[predicted_dataset['entry_id']==indexes_people_at_risk[i], 'prediction people at risk']=\\\n",
    "            predicted_dataset.loc[predicted_dataset['entry_id']==indexes_people_at_risk[i], 'prediction people at risk'].\\\n",
    "            apply(lambda x: predictions_people_at_risk[i,:])"
   ]
  },
  {
   "cell_type": "code",
   "execution_count": 151,
   "metadata": {
    "id": "49ZCy5V_PH6Q"
   },
   "outputs": [],
   "source": [
    "for i in range (len(predictions_priority_interventions)):\n",
    "    predicted_dataset.loc[predicted_dataset['entry_id']==indexes_priority_interventions[i], 'prediction Priority Interventions']=\\\n",
    "            predicted_dataset.loc[predicted_dataset['entry_id']==indexes_priority_interventions[i], 'prediction Priority Interventions'].\\\n",
    "            apply(lambda x: predictions_priority_interventions[i,:])"
   ]
  },
  {
   "cell_type": "code",
   "execution_count": 248,
   "metadata": {
    "colab": {
     "base_uri": "https://localhost:8080/",
     "height": 223
    },
    "id": "t7y62xdjPIAQ",
    "outputId": "3cb97ec3-4572-46f5-da5e-8ed79f0a7c0d"
   },
   "outputs": [
    {
     "data": {
      "text/html": [
       "<div>\n",
       "<style scoped>\n",
       "    .dataframe tbody tr th:only-of-type {\n",
       "        vertical-align: middle;\n",
       "    }\n",
       "\n",
       "    .dataframe tbody tr th {\n",
       "        vertical-align: top;\n",
       "    }\n",
       "\n",
       "    .dataframe thead th {\n",
       "        text-align: right;\n",
       "    }\n",
       "</style>\n",
       "<table border=\"1\" class=\"dataframe\">\n",
       "  <thead>\n",
       "    <tr style=\"text-align: right;\">\n",
       "      <th></th>\n",
       "      <th>entry_id</th>\n",
       "      <th>prediction</th>\n",
       "      <th>prediction capacity response</th>\n",
       "      <th>prediction hum conditions</th>\n",
       "      <th>prediction impact</th>\n",
       "      <th>prediction people at risk</th>\n",
       "      <th>prediction Priority Interventions</th>\n",
       "      <th>prediction Priority needs</th>\n",
       "    </tr>\n",
       "  </thead>\n",
       "  <tbody>\n",
       "    <tr>\n",
       "      <th>5</th>\n",
       "      <td>162971</td>\n",
       "      <td>162971</td>\n",
       "      <td>[1, 0, 1, 0]</td>\n",
       "      <td>[0, 0, 0, 0]</td>\n",
       "      <td>[0, 0, 0, 0, 0, 0]</td>\n",
       "      <td>[0, 0]</td>\n",
       "      <td>[0, 0]</td>\n",
       "      <td>[0, 0]</td>\n",
       "    </tr>\n",
       "    <tr>\n",
       "      <th>7</th>\n",
       "      <td>174404</td>\n",
       "      <td>174404</td>\n",
       "      <td>[0, 0, 0, 0]</td>\n",
       "      <td>[0, 0, 0, 1]</td>\n",
       "      <td>[0, 0, 0, 0, 0, 0]</td>\n",
       "      <td>[0, 0]</td>\n",
       "      <td>[0, 0]</td>\n",
       "      <td>[0, 0]</td>\n",
       "    </tr>\n",
       "    <tr>\n",
       "      <th>36</th>\n",
       "      <td>163544</td>\n",
       "      <td>163544</td>\n",
       "      <td>[0, 0, 0, 0]</td>\n",
       "      <td>[0, 1, 0, 0]</td>\n",
       "      <td>[0, 0, 0, 0, 0, 0]</td>\n",
       "      <td>[0, 0]</td>\n",
       "      <td>[0, 0]</td>\n",
       "      <td>[0, 0]</td>\n",
       "    </tr>\n",
       "    <tr>\n",
       "      <th>40</th>\n",
       "      <td>164446</td>\n",
       "      <td>164446</td>\n",
       "      <td>[0, 0, 1, 0]</td>\n",
       "      <td>[0, 0, 0, 0]</td>\n",
       "      <td>[0, 0, 0, 0, 0, 0]</td>\n",
       "      <td>[0, 0]</td>\n",
       "      <td>[0, 0]</td>\n",
       "      <td>[0, 0]</td>\n",
       "    </tr>\n",
       "    <tr>\n",
       "      <th>45</th>\n",
       "      <td>163613</td>\n",
       "      <td>163613</td>\n",
       "      <td>[0, 1, 0, 0]</td>\n",
       "      <td>[0, 0, 0, 0]</td>\n",
       "      <td>[0, 0, 0, 0, 0, 0]</td>\n",
       "      <td>[0, 0]</td>\n",
       "      <td>[0, 0]</td>\n",
       "      <td>[0, 0]</td>\n",
       "    </tr>\n",
       "  </tbody>\n",
       "</table>\n",
       "</div>"
      ],
      "text/plain": [
       "    entry_id  ...  prediction Priority needs\n",
       "5     162971  ...                     [0, 0]\n",
       "7     174404  ...                     [0, 0]\n",
       "36    163544  ...                     [0, 0]\n",
       "40    164446  ...                     [0, 0]\n",
       "45    163613  ...                     [0, 0]\n",
       "\n",
       "[5 rows x 8 columns]"
      ]
     },
     "execution_count": 248,
     "metadata": {
      "tags": []
     },
     "output_type": "execute_result"
    }
   ],
   "source": [
    "predicted_dataset.head()"
   ]
  },
  {
   "cell_type": "code",
   "execution_count": 171,
   "metadata": {
    "id": "VXTKrIbGXYEt"
   },
   "outputs": [],
   "source": []
  },
  {
   "cell_type": "code",
   "execution_count": 188,
   "metadata": {
    "colab": {
     "base_uri": "https://localhost:8080/",
     "height": 310
    },
    "id": "9xY6HYnGUvZh",
    "outputId": "ecd2f905-7587-46c4-9264-d194b05967e7"
   },
   "outputs": [
    {
     "data": {
      "text/html": [
       "<div>\n",
       "<style scoped>\n",
       "    .dataframe tbody tr th:only-of-type {\n",
       "        vertical-align: middle;\n",
       "    }\n",
       "\n",
       "    .dataframe tbody tr th {\n",
       "        vertical-align: top;\n",
       "    }\n",
       "\n",
       "    .dataframe thead th {\n",
       "        text-align: right;\n",
       "    }\n",
       "</style>\n",
       "<table border=\"1\" class=\"dataframe\">\n",
       "  <thead>\n",
       "    <tr style=\"text-align: right;\">\n",
       "      <th></th>\n",
       "      <th>entry_id</th>\n",
       "      <th>prediction capacity response</th>\n",
       "      <th>prediction hum conditions</th>\n",
       "      <th>prediction impact</th>\n",
       "      <th>prediction people at risk</th>\n",
       "      <th>prediction Priority Interventions</th>\n",
       "      <th>prediction Priority needs</th>\n",
       "      <th>predictions combined</th>\n",
       "    </tr>\n",
       "  </thead>\n",
       "  <tbody>\n",
       "    <tr>\n",
       "      <th>5</th>\n",
       "      <td>162971</td>\n",
       "      <td>[1, 0, 1, 0]</td>\n",
       "      <td>[0, 0, 0, 0]</td>\n",
       "      <td>[0, 0, 0, 0, 0, 0]</td>\n",
       "      <td>[0, 0]</td>\n",
       "      <td>[0, 0]</td>\n",
       "      <td>[0, 0]</td>\n",
       "      <td>[1 0 1 0],[0, 0, 0, 0],[0, 0, 0, 0, 0, 0],[0, ...</td>\n",
       "    </tr>\n",
       "    <tr>\n",
       "      <th>7</th>\n",
       "      <td>174404</td>\n",
       "      <td>[0, 0, 0, 0]</td>\n",
       "      <td>[0, 0, 0, 1]</td>\n",
       "      <td>[0, 0, 0, 0, 0, 0]</td>\n",
       "      <td>[0, 0]</td>\n",
       "      <td>[0, 0]</td>\n",
       "      <td>[0, 0]</td>\n",
       "      <td>[0, 0, 0, 0],[0 0 0 1],[0, 0, 0, 0, 0, 0],[0, ...</td>\n",
       "    </tr>\n",
       "    <tr>\n",
       "      <th>36</th>\n",
       "      <td>163544</td>\n",
       "      <td>[0, 0, 0, 0]</td>\n",
       "      <td>[0, 1, 0, 0]</td>\n",
       "      <td>[0, 0, 0, 0, 0, 0]</td>\n",
       "      <td>[0, 0]</td>\n",
       "      <td>[0, 0]</td>\n",
       "      <td>[0, 0]</td>\n",
       "      <td>[0, 0, 0, 0],[0 1 0 0],[0, 0, 0, 0, 0, 0],[0, ...</td>\n",
       "    </tr>\n",
       "    <tr>\n",
       "      <th>40</th>\n",
       "      <td>164446</td>\n",
       "      <td>[0, 0, 1, 0]</td>\n",
       "      <td>[0, 0, 0, 0]</td>\n",
       "      <td>[0, 0, 0, 0, 0, 0]</td>\n",
       "      <td>[0, 0]</td>\n",
       "      <td>[0, 0]</td>\n",
       "      <td>[0, 0]</td>\n",
       "      <td>[0 0 1 0],[0, 0, 0, 0],[0, 0, 0, 0, 0, 0],[0, ...</td>\n",
       "    </tr>\n",
       "    <tr>\n",
       "      <th>45</th>\n",
       "      <td>163613</td>\n",
       "      <td>[0, 1, 0, 0]</td>\n",
       "      <td>[0, 0, 0, 0]</td>\n",
       "      <td>[0, 0, 0, 0, 0, 0]</td>\n",
       "      <td>[0, 0]</td>\n",
       "      <td>[0, 0]</td>\n",
       "      <td>[0, 0]</td>\n",
       "      <td>[0 1 0 0],[0, 0, 0, 0],[0, 0, 0, 0, 0, 0],[0, ...</td>\n",
       "    </tr>\n",
       "  </tbody>\n",
       "</table>\n",
       "</div>"
      ],
      "text/plain": [
       "    entry_id  ...                               predictions combined\n",
       "5     162971  ...  [1 0 1 0],[0, 0, 0, 0],[0, 0, 0, 0, 0, 0],[0, ...\n",
       "7     174404  ...  [0, 0, 0, 0],[0 0 0 1],[0, 0, 0, 0, 0, 0],[0, ...\n",
       "36    163544  ...  [0, 0, 0, 0],[0 1 0 0],[0, 0, 0, 0, 0, 0],[0, ...\n",
       "40    164446  ...  [0 0 1 0],[0, 0, 0, 0],[0, 0, 0, 0, 0, 0],[0, ...\n",
       "45    163613  ...  [0 1 0 0],[0, 0, 0, 0],[0, 0, 0, 0, 0, 0],[0, ...\n",
       "\n",
       "[5 rows x 8 columns]"
      ]
     },
     "execution_count": 188,
     "metadata": {
      "tags": []
     },
     "output_type": "execute_result"
    }
   ],
   "source": [
    "predicted_dataset_v2 = predicted_dataset[['entry_id', \n",
    "                                          'prediction capacity response',\n",
    "                                          'prediction hum conditions',\n",
    "                                          'prediction impact',\n",
    "                                          'prediction people at risk',\n",
    "                                          'prediction Priority Interventions',\n",
    "                                          'prediction Priority needs']]\n",
    "predicted_dataset_v2['predictions combined'] = \\\n",
    "            predicted_dataset_v2[predicted_dataset_v2.columns[1:]].apply(\n",
    "                    lambda x: ','.join(x.dropna().astype(str)),\n",
    "                    axis=1\n",
    "                )         \n",
    "             \n",
    "predicted_dataset_v2.head()"
   ]
  },
  {
   "cell_type": "code",
   "execution_count": 247,
   "metadata": {
    "id": "47Db6L9Iaozx"
   },
   "outputs": [],
   "source": []
  },
  {
   "cell_type": "code",
   "execution_count": 202,
   "metadata": {
    "id": "h_2dI8FUao28"
   },
   "outputs": [],
   "source": [
    "def custom_concat (row):\n",
    "    sample = row[0]\n",
    "    for array in row[1:]:\n",
    "        sample = np.concatenate((sample, array), axis=0)\n",
    "    return sample\n",
    "    \n",
    "predicted_dataset_v2['predictions combined'] = \\\n",
    "            predicted_dataset_v2[predicted_dataset_v2.columns[1:]].apply(\n",
    "                    lambda x: custom_concat(x),\n",
    "                    axis=1\n",
    "                )       \n",
    "predicted_dataset_v2 = predicted_dataset_v2[['entry_id', 'predictions combined']]"
   ]
  },
  {
   "cell_type": "code",
   "execution_count": 209,
   "metadata": {
    "id": "jHT_-H83QWAE"
   },
   "outputs": [],
   "source": [
    "final_df = final_val_df.merge(predicted_dataset_v2, on='entry_id', how='inner')"
   ]
  },
  {
   "cell_type": "code",
   "execution_count": 210,
   "metadata": {
    "colab": {
     "base_uri": "https://localhost:8080/",
     "height": 206
    },
    "id": "C1cVgr5rQWDQ",
    "outputId": "724f867d-1b68-4217-e2ef-e6aac097cd58"
   },
   "outputs": [
    {
     "data": {
      "text/html": [
       "<div>\n",
       "<style scoped>\n",
       "    .dataframe tbody tr th:only-of-type {\n",
       "        vertical-align: middle;\n",
       "    }\n",
       "\n",
       "    .dataframe tbody tr th {\n",
       "        vertical-align: top;\n",
       "    }\n",
       "\n",
       "    .dataframe thead th {\n",
       "        text-align: right;\n",
       "    }\n",
       "</style>\n",
       "<table border=\"1\" class=\"dataframe\">\n",
       "  <thead>\n",
       "    <tr style=\"text-align: right;\">\n",
       "      <th></th>\n",
       "      <th>entry_id</th>\n",
       "      <th>y true</th>\n",
       "      <th>predictions combined</th>\n",
       "    </tr>\n",
       "  </thead>\n",
       "  <tbody>\n",
       "    <tr>\n",
       "      <th>0</th>\n",
       "      <td>162971</td>\n",
       "      <td>[1, 0, 1, 0, 0, 0, 0, 0, 0, 0, 0, 0, 0, 0, 0, ...</td>\n",
       "      <td>[1, 0, 1, 0, 0, 0, 0, 0, 0, 0, 0, 0, 0, 0, 0, ...</td>\n",
       "    </tr>\n",
       "    <tr>\n",
       "      <th>1</th>\n",
       "      <td>174404</td>\n",
       "      <td>[0, 1, 0, 0, 0, 0, 0, 0, 0, 0, 0, 0, 0, 0, 0, ...</td>\n",
       "      <td>[0, 0, 0, 0, 0, 0, 0, 1, 0, 0, 0, 0, 0, 0, 0, ...</td>\n",
       "    </tr>\n",
       "    <tr>\n",
       "      <th>2</th>\n",
       "      <td>163544</td>\n",
       "      <td>[0, 1, 0, 0, 0, 1, 0, 0, 0, 0, 0, 0, 0, 0, 0, ...</td>\n",
       "      <td>[0, 0, 0, 0, 0, 1, 0, 0, 0, 0, 0, 0, 0, 0, 0, ...</td>\n",
       "    </tr>\n",
       "    <tr>\n",
       "      <th>3</th>\n",
       "      <td>164446</td>\n",
       "      <td>[0, 0, 1, 0, 0, 0, 0, 0, 0, 0, 0, 0, 0, 0, 0, ...</td>\n",
       "      <td>[0, 0, 1, 0, 0, 0, 0, 0, 0, 0, 0, 0, 0, 0, 0, ...</td>\n",
       "    </tr>\n",
       "    <tr>\n",
       "      <th>4</th>\n",
       "      <td>163613</td>\n",
       "      <td>[0, 1, 0, 0, 0, 0, 0, 0, 0, 0, 0, 0, 0, 0, 0, ...</td>\n",
       "      <td>[0, 1, 0, 0, 0, 0, 0, 0, 0, 0, 0, 0, 0, 0, 0, ...</td>\n",
       "    </tr>\n",
       "  </tbody>\n",
       "</table>\n",
       "</div>"
      ],
      "text/plain": [
       "   entry_id  ...                               predictions combined\n",
       "0    162971  ...  [1, 0, 1, 0, 0, 0, 0, 0, 0, 0, 0, 0, 0, 0, 0, ...\n",
       "1    174404  ...  [0, 0, 0, 0, 0, 0, 0, 1, 0, 0, 0, 0, 0, 0, 0, ...\n",
       "2    163544  ...  [0, 0, 0, 0, 0, 1, 0, 0, 0, 0, 0, 0, 0, 0, 0, ...\n",
       "3    164446  ...  [0, 0, 1, 0, 0, 0, 0, 0, 0, 0, 0, 0, 0, 0, 0, ...\n",
       "4    163613  ...  [0, 1, 0, 0, 0, 0, 0, 0, 0, 0, 0, 0, 0, 0, 0, ...\n",
       "\n",
       "[5 rows x 3 columns]"
      ]
     },
     "execution_count": 210,
     "metadata": {
      "tags": []
     },
     "output_type": "execute_result"
    }
   ],
   "source": [
    "final_df.head()"
   ]
  },
  {
   "cell_type": "code",
   "execution_count": 211,
   "metadata": {
    "id": "ZWFCQWBfQWGJ"
   },
   "outputs": [],
   "source": [
    "final_df.to_csv('finalllll')\n"
   ]
  },
  {
   "cell_type": "code",
   "execution_count": 218,
   "metadata": {
    "id": "MEAdwuvmdJF2"
   },
   "outputs": [],
   "source": [
    "true_y = np.array([true_yss for true_yss in final_df['y true']])\n",
    "pred_y = np.array([true_yss for true_yss in final_df['predictions combined']])\n"
   ]
  },
  {
   "cell_type": "code",
   "execution_count": 221,
   "metadata": {
    "colab": {
     "base_uri": "https://localhost:8080/"
    },
    "id": "lrp_vhJxeOKC",
    "outputId": "5c085b31-43b6-4355-afa9-5063f4aced10"
   },
   "outputs": [
    {
     "data": {
      "text/plain": [
       "array([1, 0, 0, ..., 0, 0, 0])"
      ]
     },
     "execution_count": 221,
     "metadata": {
      "tags": []
     },
     "output_type": "execute_result"
    }
   ],
   "source": [
    "pred_y[:,0]"
   ]
  },
  {
   "cell_type": "code",
   "execution_count": 230,
   "metadata": {
    "colab": {
     "base_uri": "https://localhost:8080/"
    },
    "id": "9OrC0UTIQWIz",
    "outputId": "f602e79f-3935-4d62-ca8e-2ed8a6e3d129"
   },
   "outputs": [
    {
     "name": "stderr",
     "output_type": "stream",
     "text": [
      "/usr/local/lib/python3.7/dist-packages/sklearn/metrics/_classification.py:1272: UndefinedMetricWarning: Precision and F-score are ill-defined and being set to 0.0 in labels with no predicted samples. Use `zero_division` parameter to control this behavior.\n",
      "  _warn_prf(average, modifier, msg_start, len(result))\n"
     ]
    }
   ],
   "source": [
    "precisions = []\n",
    "recalls = []\n",
    "f1_scores = []\n",
    "accuracies = []\n",
    "\n",
    "for i in range (20):\n",
    "    cls_rprt = classification_report(true_y[:, i], pred_y[:, i], output_dict=True)\n",
    "    precisions.append(cls_rprt[\"macro avg\"][\"precision\"])\n",
    "    recalls.append(cls_rprt[\"macro avg\"][\"recall\"])\n",
    "    f1_scores.append(cls_rprt[\"macro avg\"][\"f1-score\"])\n",
    "    accuracies.append(cls_rprt[\"accuracy\"])"
   ]
  },
  {
   "cell_type": "code",
   "execution_count": 247,
   "metadata": {
    "colab": {
     "base_uri": "https://localhost:8080/",
     "height": 676
    },
    "id": "e-XKyXnjc5Ni",
    "outputId": "18473765-f0a7-4eed-ea75-499f7982ca17"
   },
   "outputs": [
    {
     "data": {
      "text/html": [
       "<div>\n",
       "<style scoped>\n",
       "    .dataframe tbody tr th:only-of-type {\n",
       "        vertical-align: middle;\n",
       "    }\n",
       "\n",
       "    .dataframe tbody tr th {\n",
       "        vertical-align: top;\n",
       "    }\n",
       "\n",
       "    .dataframe thead th {\n",
       "        text-align: right;\n",
       "    }\n",
       "</style>\n",
       "<table border=\"1\" class=\"dataframe\">\n",
       "  <thead>\n",
       "    <tr style=\"text-align: right;\">\n",
       "      <th></th>\n",
       "      <th>accuracy</th>\n",
       "      <th>f1_scores</th>\n",
       "      <th>precisions</th>\n",
       "      <th>recalls</th>\n",
       "    </tr>\n",
       "  </thead>\n",
       "  <tbody>\n",
       "    <tr>\n",
       "      <th>Capacities &amp; Response-&gt;International Response</th>\n",
       "      <td>0.956249</td>\n",
       "      <td>0.850766</td>\n",
       "      <td>0.833437</td>\n",
       "      <td>0.870540</td>\n",
       "    </tr>\n",
       "    <tr>\n",
       "      <th>Capacities &amp; Response-&gt;National Response</th>\n",
       "      <td>0.921412</td>\n",
       "      <td>0.755087</td>\n",
       "      <td>0.811081</td>\n",
       "      <td>0.719961</td>\n",
       "    </tr>\n",
       "    <tr>\n",
       "      <th>Capacities &amp; Response-&gt;Number Of People Reached</th>\n",
       "      <td>0.987084</td>\n",
       "      <td>0.879518</td>\n",
       "      <td>0.927895</td>\n",
       "      <td>0.841506</td>\n",
       "    </tr>\n",
       "    <tr>\n",
       "      <th>Capacities &amp; Response-&gt;Response Gaps</th>\n",
       "      <td>0.998999</td>\n",
       "      <td>0.499750</td>\n",
       "      <td>0.499500</td>\n",
       "      <td>0.500000</td>\n",
       "    </tr>\n",
       "    <tr>\n",
       "      <th>Humanitarian Conditions-&gt;Coping Mechanisms</th>\n",
       "      <td>0.957431</td>\n",
       "      <td>0.705649</td>\n",
       "      <td>0.871415</td>\n",
       "      <td>0.647512</td>\n",
       "    </tr>\n",
       "    <tr>\n",
       "      <th>Humanitarian Conditions-&gt;Living Standards</th>\n",
       "      <td>0.788703</td>\n",
       "      <td>0.768127</td>\n",
       "      <td>0.764052</td>\n",
       "      <td>0.773620</td>\n",
       "    </tr>\n",
       "    <tr>\n",
       "      <th>Humanitarian Conditions-&gt;Number Of People In Need</th>\n",
       "      <td>0.971439</td>\n",
       "      <td>0.792849</td>\n",
       "      <td>0.847261</td>\n",
       "      <td>0.754312</td>\n",
       "    </tr>\n",
       "    <tr>\n",
       "      <th>Humanitarian Conditions-&gt;Physical And Mental Well Being</th>\n",
       "      <td>0.894124</td>\n",
       "      <td>0.813598</td>\n",
       "      <td>0.838610</td>\n",
       "      <td>0.794305</td>\n",
       "    </tr>\n",
       "    <tr>\n",
       "      <th>Impact-&gt;Driver/Aggravating Factors</th>\n",
       "      <td>0.844370</td>\n",
       "      <td>0.711894</td>\n",
       "      <td>0.714116</td>\n",
       "      <td>0.709760</td>\n",
       "    </tr>\n",
       "    <tr>\n",
       "      <th>Impact-&gt;Impact On People</th>\n",
       "      <td>0.913953</td>\n",
       "      <td>0.736992</td>\n",
       "      <td>0.773447</td>\n",
       "      <td>0.711404</td>\n",
       "    </tr>\n",
       "    <tr>\n",
       "      <th>Impact-&gt;Impact On People Or Impact On Services</th>\n",
       "      <td>0.984537</td>\n",
       "      <td>0.828720</td>\n",
       "      <td>0.868647</td>\n",
       "      <td>0.796985</td>\n",
       "    </tr>\n",
       "    <tr>\n",
       "      <th>Impact-&gt;Impact On Services</th>\n",
       "      <td>0.960888</td>\n",
       "      <td>0.719754</td>\n",
       "      <td>0.780078</td>\n",
       "      <td>0.682570</td>\n",
       "    </tr>\n",
       "    <tr>\n",
       "      <th>Impact-&gt;Impact On Systems And Services</th>\n",
       "      <td>0.924322</td>\n",
       "      <td>0.812384</td>\n",
       "      <td>0.818194</td>\n",
       "      <td>0.806870</td>\n",
       "    </tr>\n",
       "    <tr>\n",
       "      <th>Impact-&gt;Number Of People Affected</th>\n",
       "      <td>0.971803</td>\n",
       "      <td>0.648359</td>\n",
       "      <td>0.759767</td>\n",
       "      <td>0.606270</td>\n",
       "    </tr>\n",
       "    <tr>\n",
       "      <th>People At Risk-&gt;Number Of People At Risk</th>\n",
       "      <td>0.996544</td>\n",
       "      <td>0.499134</td>\n",
       "      <td>0.498272</td>\n",
       "      <td>0.500000</td>\n",
       "    </tr>\n",
       "    <tr>\n",
       "      <th>People At Risk-&gt;Risk And Vulnerabilities</th>\n",
       "      <td>0.901583</td>\n",
       "      <td>0.741658</td>\n",
       "      <td>0.825539</td>\n",
       "      <td>0.700378</td>\n",
       "    </tr>\n",
       "    <tr>\n",
       "      <th>Priority Interventions-&gt;Expressed By Humanitarian Staff</th>\n",
       "      <td>0.982809</td>\n",
       "      <td>0.840915</td>\n",
       "      <td>0.858655</td>\n",
       "      <td>0.824960</td>\n",
       "    </tr>\n",
       "    <tr>\n",
       "      <th>Priority Interventions-&gt;Expressed By Population</th>\n",
       "      <td>0.995816</td>\n",
       "      <td>0.498952</td>\n",
       "      <td>0.497908</td>\n",
       "      <td>0.500000</td>\n",
       "    </tr>\n",
       "    <tr>\n",
       "      <th>Priority Needs-&gt;Expressed By Humanitarian Staff</th>\n",
       "      <td>0.982445</td>\n",
       "      <td>0.588390</td>\n",
       "      <td>0.731412</td>\n",
       "      <td>0.556481</td>\n",
       "    </tr>\n",
       "    <tr>\n",
       "      <th>Priority Needs-&gt;Expressed By Population</th>\n",
       "      <td>0.982900</td>\n",
       "      <td>0.644926</td>\n",
       "      <td>0.809913</td>\n",
       "      <td>0.596495</td>\n",
       "    </tr>\n",
       "  </tbody>\n",
       "</table>\n",
       "</div>"
      ],
      "text/plain": [
       "                                                    accuracy  ...   recalls\n",
       "Capacities & Response->International Response       0.956249  ...  0.870540\n",
       "Capacities & Response->National Response            0.921412  ...  0.719961\n",
       "Capacities & Response->Number Of People Reached     0.987084  ...  0.841506\n",
       "Capacities & Response->Response Gaps                0.998999  ...  0.500000\n",
       "Humanitarian Conditions->Coping Mechanisms          0.957431  ...  0.647512\n",
       "Humanitarian Conditions->Living Standards           0.788703  ...  0.773620\n",
       "Humanitarian Conditions->Number Of People In Need   0.971439  ...  0.754312\n",
       "Humanitarian Conditions->Physical And Mental We...  0.894124  ...  0.794305\n",
       "Impact->Driver/Aggravating Factors                  0.844370  ...  0.709760\n",
       "Impact->Impact On People                            0.913953  ...  0.711404\n",
       "Impact->Impact On People Or Impact On Services      0.984537  ...  0.796985\n",
       "Impact->Impact On Services                          0.960888  ...  0.682570\n",
       "Impact->Impact On Systems And Services              0.924322  ...  0.806870\n",
       "Impact->Number Of People Affected                   0.971803  ...  0.606270\n",
       "People At Risk->Number Of People At Risk            0.996544  ...  0.500000\n",
       "People At Risk->Risk And Vulnerabilities            0.901583  ...  0.700378\n",
       "Priority Interventions->Expressed By Humanitari...  0.982809  ...  0.824960\n",
       "Priority Interventions->Expressed By Population     0.995816  ...  0.500000\n",
       "Priority Needs->Expressed By Humanitarian Staff     0.982445  ...  0.556481\n",
       "Priority Needs->Expressed By Population             0.982900  ...  0.596495\n",
       "\n",
       "[20 rows x 4 columns]"
      ]
     },
     "execution_count": 247,
     "metadata": {
      "tags": []
     },
     "output_type": "execute_result"
    }
   ],
   "source": [
    "results_df = pd.DataFrame.from_dict(tagname_to_tagid, orient='index')\n",
    "results_df['accuracy'] = accuracies\n",
    "results_df['recalls'] = recalls\n",
    "results_df['precisions'] = precisions\n",
    "results_df['f1_scores'] = f1_scores\n",
    "results_df = results_df[['accuracy', 'f1_scores', 'precisions', 'recalls']]\n",
    "results_df"
   ]
  },
  {
   "cell_type": "code",
   "execution_count": 242,
   "metadata": {
    "id": "eETTVBbKc5QO"
   },
   "outputs": [],
   "source": []
  },
  {
   "cell_type": "code",
   "execution_count": null,
   "metadata": {
    "id": "l_cJYk07iQzP"
   },
   "outputs": [],
   "source": []
  },
  {
   "cell_type": "code",
   "execution_count": 242,
   "metadata": {
    "colab": {
     "base_uri": "https://localhost:8080/"
    },
    "id": "S9X2FOWNc5Xt",
    "outputId": "273b8425-5422-49c7-8caf-c2a0310c8a95"
   },
   "outputs": [
    {
     "name": "stdout",
     "output_type": "stream",
     "text": [
      "time taken for one sample in seconds: 0.3547389485173731\n"
     ]
    }
   ],
   "source": [
    "time_taken_for_prediction = 65 * 60\n",
    "time_per_sample = time_taken_for_prediction / pillars_val_dataset.shape[0]\n",
    "print('time taken for one sample in seconds:', time_per_sample)"
   ]
  },
  {
   "cell_type": "code",
   "execution_count": 242,
   "metadata": {
    "id": "E2xXTl5Vc5ap"
   },
   "outputs": [],
   "source": []
  },
  {
   "cell_type": "code",
   "execution_count": 242,
   "metadata": {
    "id": "GzySiSAGc5dm"
   },
   "outputs": [],
   "source": []
  },
  {
   "cell_type": "code",
   "execution_count": null,
   "metadata": {
    "id": "JKuJFVO6c5gk"
   },
   "outputs": [],
   "source": []
  },
  {
   "cell_type": "code",
   "execution_count": null,
   "metadata": {
    "id": "bKWxGivkNrNc"
   },
   "outputs": [],
   "source": []
  }
 ],
 "metadata": {
  "accelerator": "GPU",
  "colab": {
   "collapsed_sections": [],
   "name": "create_models_pillars_and_subpillars_paraphrase_multilingual_MiniLM_L12_v2.ipynb",
   "provenance": []
  },
  "kernelspec": {
   "display_name": "Python 3",
   "language": "python",
   "name": "python3"
  },
  "language_info": {
   "codemirror_mode": {
    "name": "ipython",
    "version": 3
   },
   "file_extension": ".py",
   "mimetype": "text/x-python",
   "name": "python",
   "nbconvert_exporter": "python",
   "pygments_lexer": "ipython3",
   "version": "3.8.5"
  },
  "widgets": {
   "application/vnd.jupyter.widget-state+json": {
    "01805afe8664491c90146fd66858215f": {
     "model_module": "@jupyter-widgets/base",
     "model_name": "LayoutModel",
     "state": {
      "_model_module": "@jupyter-widgets/base",
      "_model_module_version": "1.2.0",
      "_model_name": "LayoutModel",
      "_view_count": null,
      "_view_module": "@jupyter-widgets/base",
      "_view_module_version": "1.2.0",
      "_view_name": "LayoutView",
      "align_content": null,
      "align_items": null,
      "align_self": null,
      "border": null,
      "bottom": null,
      "display": null,
      "flex": null,
      "flex_flow": null,
      "grid_area": null,
      "grid_auto_columns": null,
      "grid_auto_flow": null,
      "grid_auto_rows": null,
      "grid_column": null,
      "grid_gap": null,
      "grid_row": null,
      "grid_template_areas": null,
      "grid_template_columns": null,
      "grid_template_rows": null,
      "height": null,
      "justify_content": null,
      "justify_items": null,
      "left": null,
      "margin": null,
      "max_height": null,
      "max_width": null,
      "min_height": null,
      "min_width": null,
      "object_fit": null,
      "object_position": null,
      "order": null,
      "overflow": null,
      "overflow_x": null,
      "overflow_y": null,
      "padding": null,
      "right": null,
      "top": null,
      "visibility": null,
      "width": null
     }
    },
    "02c183bf70b34dfe9b7b0ed2d3b213bd": {
     "model_module": "@jupyter-widgets/controls",
     "model_name": "ProgressStyleModel",
     "state": {
      "_model_module": "@jupyter-widgets/controls",
      "_model_module_version": "1.5.0",
      "_model_name": "ProgressStyleModel",
      "_view_count": null,
      "_view_module": "@jupyter-widgets/base",
      "_view_module_version": "1.2.0",
      "_view_name": "StyleView",
      "bar_color": null,
      "description_width": "initial"
     }
    },
    "0801842b29134e64913946c1b07920c3": {
     "model_module": "@jupyter-widgets/controls",
     "model_name": "DescriptionStyleModel",
     "state": {
      "_model_module": "@jupyter-widgets/controls",
      "_model_module_version": "1.5.0",
      "_model_name": "DescriptionStyleModel",
      "_view_count": null,
      "_view_module": "@jupyter-widgets/base",
      "_view_module_version": "1.2.0",
      "_view_name": "StyleView",
      "description_width": ""
     }
    },
    "09a05bf9747d462a92ab94ee1b128f5b": {
     "model_module": "@jupyter-widgets/controls",
     "model_name": "DescriptionStyleModel",
     "state": {
      "_model_module": "@jupyter-widgets/controls",
      "_model_module_version": "1.5.0",
      "_model_name": "DescriptionStyleModel",
      "_view_count": null,
      "_view_module": "@jupyter-widgets/base",
      "_view_module_version": "1.2.0",
      "_view_name": "StyleView",
      "description_width": ""
     }
    },
    "0a3a417070604c7981a37e3bb9008623": {
     "model_module": "@jupyter-widgets/controls",
     "model_name": "HBoxModel",
     "state": {
      "_dom_classes": [],
      "_model_module": "@jupyter-widgets/controls",
      "_model_module_version": "1.5.0",
      "_model_name": "HBoxModel",
      "_view_count": null,
      "_view_module": "@jupyter-widgets/controls",
      "_view_module_version": "1.5.0",
      "_view_name": "HBoxView",
      "box_style": "",
      "children": [
       "IPY_MODEL_cbe9d8553fc141ff861bc4f5d2a1d7f3",
       "IPY_MODEL_ebd9df7ab6fa445fae1a99cf6e194f89"
      ],
      "layout": "IPY_MODEL_a4e57dd14698443b8d48c8ad3ef06e11"
     }
    },
    "0c807909271549df9768554dc828c8c1": {
     "model_module": "@jupyter-widgets/controls",
     "model_name": "HTMLModel",
     "state": {
      "_dom_classes": [],
      "_model_module": "@jupyter-widgets/controls",
      "_model_module_version": "1.5.0",
      "_model_name": "HTMLModel",
      "_view_count": null,
      "_view_module": "@jupyter-widgets/controls",
      "_view_module_version": "1.5.0",
      "_view_name": "HTMLView",
      "description": "",
      "description_tooltip": null,
      "layout": "IPY_MODEL_541ca6ef38d442d1a56b519ab03b7b14",
      "placeholder": "​",
      "style": "IPY_MODEL_4ee4d177ccd748a38209982cd60044b8",
      "value": " 65/? [11:57&lt;00:00, 11.04s/it]"
     }
    },
    "0cde4d4356124e518ba8b78936a8e867": {
     "model_module": "@jupyter-widgets/controls",
     "model_name": "ProgressStyleModel",
     "state": {
      "_model_module": "@jupyter-widgets/controls",
      "_model_module_version": "1.5.0",
      "_model_name": "ProgressStyleModel",
      "_view_count": null,
      "_view_module": "@jupyter-widgets/base",
      "_view_module_version": "1.2.0",
      "_view_name": "StyleView",
      "bar_color": null,
      "description_width": "initial"
     }
    },
    "1b907cb80f4f465abb7f5da6788f08b8": {
     "model_module": "@jupyter-widgets/controls",
     "model_name": "ProgressStyleModel",
     "state": {
      "_model_module": "@jupyter-widgets/controls",
      "_model_module_version": "1.5.0",
      "_model_name": "ProgressStyleModel",
      "_view_count": null,
      "_view_module": "@jupyter-widgets/base",
      "_view_module_version": "1.2.0",
      "_view_name": "StyleView",
      "bar_color": null,
      "description_width": "initial"
     }
    },
    "213b2b2454464ae587158642d4e12264": {
     "model_module": "@jupyter-widgets/base",
     "model_name": "LayoutModel",
     "state": {
      "_model_module": "@jupyter-widgets/base",
      "_model_module_version": "1.2.0",
      "_model_name": "LayoutModel",
      "_view_count": null,
      "_view_module": "@jupyter-widgets/base",
      "_view_module_version": "1.2.0",
      "_view_name": "LayoutView",
      "align_content": null,
      "align_items": null,
      "align_self": null,
      "border": null,
      "bottom": null,
      "display": null,
      "flex": null,
      "flex_flow": null,
      "grid_area": null,
      "grid_auto_columns": null,
      "grid_auto_flow": null,
      "grid_auto_rows": null,
      "grid_column": null,
      "grid_gap": null,
      "grid_row": null,
      "grid_template_areas": null,
      "grid_template_columns": null,
      "grid_template_rows": null,
      "height": null,
      "justify_content": null,
      "justify_items": null,
      "left": null,
      "margin": null,
      "max_height": null,
      "max_width": null,
      "min_height": null,
      "min_width": null,
      "object_fit": null,
      "object_position": null,
      "order": null,
      "overflow": null,
      "overflow_x": null,
      "overflow_y": null,
      "padding": null,
      "right": null,
      "top": null,
      "visibility": null,
      "width": null
     }
    },
    "21c542e4ace642c2b723e01ca380b2ec": {
     "model_module": "@jupyter-widgets/controls",
     "model_name": "ProgressStyleModel",
     "state": {
      "_model_module": "@jupyter-widgets/controls",
      "_model_module_version": "1.5.0",
      "_model_name": "ProgressStyleModel",
      "_view_count": null,
      "_view_module": "@jupyter-widgets/base",
      "_view_module_version": "1.2.0",
      "_view_name": "StyleView",
      "bar_color": null,
      "description_width": "initial"
     }
    },
    "26a982a33cf248d4842c0b7c41060fd0": {
     "model_module": "@jupyter-widgets/controls",
     "model_name": "FloatProgressModel",
     "state": {
      "_dom_classes": [],
      "_model_module": "@jupyter-widgets/controls",
      "_model_module_version": "1.5.0",
      "_model_name": "FloatProgressModel",
      "_view_count": null,
      "_view_module": "@jupyter-widgets/controls",
      "_view_module_version": "1.5.0",
      "_view_name": "ProgressView",
      "bar_style": "success",
      "description": "",
      "description_tooltip": null,
      "layout": "IPY_MODEL_e34ca6624025419d95479d12db34e404",
      "max": 92,
      "min": 0,
      "orientation": "horizontal",
      "style": "IPY_MODEL_26bf01a1edb843b5b0e4bc946b8cc957",
      "value": 92
     }
    },
    "26bf01a1edb843b5b0e4bc946b8cc957": {
     "model_module": "@jupyter-widgets/controls",
     "model_name": "ProgressStyleModel",
     "state": {
      "_model_module": "@jupyter-widgets/controls",
      "_model_module_version": "1.5.0",
      "_model_name": "ProgressStyleModel",
      "_view_count": null,
      "_view_module": "@jupyter-widgets/base",
      "_view_module_version": "1.2.0",
      "_view_name": "StyleView",
      "bar_color": null,
      "description_width": "initial"
     }
    },
    "28752d38a3eb4fa2894c0bd418ca9f06": {
     "model_module": "@jupyter-widgets/controls",
     "model_name": "HTMLModel",
     "state": {
      "_dom_classes": [],
      "_model_module": "@jupyter-widgets/controls",
      "_model_module_version": "1.5.0",
      "_model_name": "HTMLModel",
      "_view_count": null,
      "_view_module": "@jupyter-widgets/controls",
      "_view_module_version": "1.5.0",
      "_view_name": "HTMLView",
      "description": "",
      "description_tooltip": null,
      "layout": "IPY_MODEL_7e2e81372c744f779cd61dd3ab911492",
      "placeholder": "​",
      "style": "IPY_MODEL_c0f03e2557194a96a8f0d71d80ad6afe",
      "value": " 2/? [01:22&lt;00:00, 41.40s/it]"
     }
    },
    "2a405ed5f07042ad8884cc6486c7a4aa": {
     "model_module": "@jupyter-widgets/base",
     "model_name": "LayoutModel",
     "state": {
      "_model_module": "@jupyter-widgets/base",
      "_model_module_version": "1.2.0",
      "_model_name": "LayoutModel",
      "_view_count": null,
      "_view_module": "@jupyter-widgets/base",
      "_view_module_version": "1.2.0",
      "_view_name": "LayoutView",
      "align_content": null,
      "align_items": null,
      "align_self": null,
      "border": null,
      "bottom": null,
      "display": null,
      "flex": null,
      "flex_flow": null,
      "grid_area": null,
      "grid_auto_columns": null,
      "grid_auto_flow": null,
      "grid_auto_rows": null,
      "grid_column": null,
      "grid_gap": null,
      "grid_row": null,
      "grid_template_areas": null,
      "grid_template_columns": null,
      "grid_template_rows": null,
      "height": null,
      "justify_content": null,
      "justify_items": null,
      "left": null,
      "margin": null,
      "max_height": null,
      "max_width": null,
      "min_height": null,
      "min_width": null,
      "object_fit": null,
      "object_position": null,
      "order": null,
      "overflow": null,
      "overflow_x": null,
      "overflow_y": null,
      "padding": null,
      "right": null,
      "top": null,
      "visibility": null,
      "width": null
     }
    },
    "2f0ad1e73f3944a1b289ca095f494c16": {
     "model_module": "@jupyter-widgets/base",
     "model_name": "LayoutModel",
     "state": {
      "_model_module": "@jupyter-widgets/base",
      "_model_module_version": "1.2.0",
      "_model_name": "LayoutModel",
      "_view_count": null,
      "_view_module": "@jupyter-widgets/base",
      "_view_module_version": "1.2.0",
      "_view_name": "LayoutView",
      "align_content": null,
      "align_items": null,
      "align_self": null,
      "border": null,
      "bottom": null,
      "display": null,
      "flex": null,
      "flex_flow": null,
      "grid_area": null,
      "grid_auto_columns": null,
      "grid_auto_flow": null,
      "grid_auto_rows": null,
      "grid_column": null,
      "grid_gap": null,
      "grid_row": null,
      "grid_template_areas": null,
      "grid_template_columns": null,
      "grid_template_rows": null,
      "height": null,
      "justify_content": null,
      "justify_items": null,
      "left": null,
      "margin": null,
      "max_height": null,
      "max_width": null,
      "min_height": null,
      "min_width": null,
      "object_fit": null,
      "object_position": null,
      "order": null,
      "overflow": null,
      "overflow_x": null,
      "overflow_y": null,
      "padding": null,
      "right": null,
      "top": null,
      "visibility": null,
      "width": null
     }
    },
    "32f9a92603c34246b71903995e8275dd": {
     "model_module": "@jupyter-widgets/controls",
     "model_name": "FloatProgressModel",
     "state": {
      "_dom_classes": [],
      "_model_module": "@jupyter-widgets/controls",
      "_model_module_version": "1.5.0",
      "_model_name": "FloatProgressModel",
      "_view_count": null,
      "_view_module": "@jupyter-widgets/controls",
      "_view_module_version": "1.5.0",
      "_view_name": "ProgressView",
      "bar_style": "success",
      "description": "Downloading: 100%",
      "description_tooltip": null,
      "layout": "IPY_MODEL_59ab4b6bf35441e9a314fec5b2b0fb28",
      "max": 470693617,
      "min": 0,
      "orientation": "horizontal",
      "style": "IPY_MODEL_0cde4d4356124e518ba8b78936a8e867",
      "value": 470693617
     }
    },
    "398ed1a11c424da19099755df2e41a9c": {
     "model_module": "@jupyter-widgets/base",
     "model_name": "LayoutModel",
     "state": {
      "_model_module": "@jupyter-widgets/base",
      "_model_module_version": "1.2.0",
      "_model_name": "LayoutModel",
      "_view_count": null,
      "_view_module": "@jupyter-widgets/base",
      "_view_module_version": "1.2.0",
      "_view_name": "LayoutView",
      "align_content": null,
      "align_items": null,
      "align_self": null,
      "border": null,
      "bottom": null,
      "display": null,
      "flex": null,
      "flex_flow": null,
      "grid_area": null,
      "grid_auto_columns": null,
      "grid_auto_flow": null,
      "grid_auto_rows": null,
      "grid_column": null,
      "grid_gap": null,
      "grid_row": null,
      "grid_template_areas": null,
      "grid_template_columns": null,
      "grid_template_rows": null,
      "height": null,
      "justify_content": null,
      "justify_items": null,
      "left": null,
      "margin": null,
      "max_height": null,
      "max_width": null,
      "min_height": null,
      "min_width": null,
      "object_fit": null,
      "object_position": null,
      "order": null,
      "overflow": null,
      "overflow_x": null,
      "overflow_y": null,
      "padding": null,
      "right": null,
      "top": null,
      "visibility": null,
      "width": null
     }
    },
    "485eaa727f1c4127856c1b536b290186": {
     "model_module": "@jupyter-widgets/base",
     "model_name": "LayoutModel",
     "state": {
      "_model_module": "@jupyter-widgets/base",
      "_model_module_version": "1.2.0",
      "_model_name": "LayoutModel",
      "_view_count": null,
      "_view_module": "@jupyter-widgets/base",
      "_view_module_version": "1.2.0",
      "_view_name": "LayoutView",
      "align_content": null,
      "align_items": null,
      "align_self": null,
      "border": null,
      "bottom": null,
      "display": null,
      "flex": null,
      "flex_flow": null,
      "grid_area": null,
      "grid_auto_columns": null,
      "grid_auto_flow": null,
      "grid_auto_rows": null,
      "grid_column": null,
      "grid_gap": null,
      "grid_row": null,
      "grid_template_areas": null,
      "grid_template_columns": null,
      "grid_template_rows": null,
      "height": null,
      "justify_content": null,
      "justify_items": null,
      "left": null,
      "margin": null,
      "max_height": null,
      "max_width": null,
      "min_height": null,
      "min_width": null,
      "object_fit": null,
      "object_position": null,
      "order": null,
      "overflow": null,
      "overflow_x": null,
      "overflow_y": null,
      "padding": null,
      "right": null,
      "top": null,
      "visibility": null,
      "width": null
     }
    },
    "4b510be582d14936aefcdb5ce3f7fb58": {
     "model_module": "@jupyter-widgets/controls",
     "model_name": "DescriptionStyleModel",
     "state": {
      "_model_module": "@jupyter-widgets/controls",
      "_model_module_version": "1.5.0",
      "_model_name": "DescriptionStyleModel",
      "_view_count": null,
      "_view_module": "@jupyter-widgets/base",
      "_view_module_version": "1.2.0",
      "_view_name": "StyleView",
      "description_width": ""
     }
    },
    "4ee4d177ccd748a38209982cd60044b8": {
     "model_module": "@jupyter-widgets/controls",
     "model_name": "DescriptionStyleModel",
     "state": {
      "_model_module": "@jupyter-widgets/controls",
      "_model_module_version": "1.5.0",
      "_model_name": "DescriptionStyleModel",
      "_view_count": null,
      "_view_module": "@jupyter-widgets/base",
      "_view_module_version": "1.2.0",
      "_view_name": "StyleView",
      "description_width": ""
     }
    },
    "541ca6ef38d442d1a56b519ab03b7b14": {
     "model_module": "@jupyter-widgets/base",
     "model_name": "LayoutModel",
     "state": {
      "_model_module": "@jupyter-widgets/base",
      "_model_module_version": "1.2.0",
      "_model_name": "LayoutModel",
      "_view_count": null,
      "_view_module": "@jupyter-widgets/base",
      "_view_module_version": "1.2.0",
      "_view_name": "LayoutView",
      "align_content": null,
      "align_items": null,
      "align_self": null,
      "border": null,
      "bottom": null,
      "display": null,
      "flex": null,
      "flex_flow": null,
      "grid_area": null,
      "grid_auto_columns": null,
      "grid_auto_flow": null,
      "grid_auto_rows": null,
      "grid_column": null,
      "grid_gap": null,
      "grid_row": null,
      "grid_template_areas": null,
      "grid_template_columns": null,
      "grid_template_rows": null,
      "height": null,
      "justify_content": null,
      "justify_items": null,
      "left": null,
      "margin": null,
      "max_height": null,
      "max_width": null,
      "min_height": null,
      "min_width": null,
      "object_fit": null,
      "object_position": null,
      "order": null,
      "overflow": null,
      "overflow_x": null,
      "overflow_y": null,
      "padding": null,
      "right": null,
      "top": null,
      "visibility": null,
      "width": null
     }
    },
    "5841a0d0ad234988842b0188da83665d": {
     "model_module": "@jupyter-widgets/base",
     "model_name": "LayoutModel",
     "state": {
      "_model_module": "@jupyter-widgets/base",
      "_model_module_version": "1.2.0",
      "_model_name": "LayoutModel",
      "_view_count": null,
      "_view_module": "@jupyter-widgets/base",
      "_view_module_version": "1.2.0",
      "_view_name": "LayoutView",
      "align_content": null,
      "align_items": null,
      "align_self": null,
      "border": null,
      "bottom": null,
      "display": null,
      "flex": null,
      "flex_flow": null,
      "grid_area": null,
      "grid_auto_columns": null,
      "grid_auto_flow": null,
      "grid_auto_rows": null,
      "grid_column": null,
      "grid_gap": null,
      "grid_row": null,
      "grid_template_areas": null,
      "grid_template_columns": null,
      "grid_template_rows": null,
      "height": null,
      "justify_content": null,
      "justify_items": null,
      "left": null,
      "margin": null,
      "max_height": null,
      "max_width": null,
      "min_height": null,
      "min_width": null,
      "object_fit": null,
      "object_position": null,
      "order": null,
      "overflow": null,
      "overflow_x": null,
      "overflow_y": null,
      "padding": null,
      "right": null,
      "top": null,
      "visibility": null,
      "width": null
     }
    },
    "58cb50333c2244f2a61ada3c39f3b360": {
     "model_module": "@jupyter-widgets/base",
     "model_name": "LayoutModel",
     "state": {
      "_model_module": "@jupyter-widgets/base",
      "_model_module_version": "1.2.0",
      "_model_name": "LayoutModel",
      "_view_count": null,
      "_view_module": "@jupyter-widgets/base",
      "_view_module_version": "1.2.0",
      "_view_name": "LayoutView",
      "align_content": null,
      "align_items": null,
      "align_self": null,
      "border": null,
      "bottom": null,
      "display": null,
      "flex": null,
      "flex_flow": null,
      "grid_area": null,
      "grid_auto_columns": null,
      "grid_auto_flow": null,
      "grid_auto_rows": null,
      "grid_column": null,
      "grid_gap": null,
      "grid_row": null,
      "grid_template_areas": null,
      "grid_template_columns": null,
      "grid_template_rows": null,
      "height": null,
      "justify_content": null,
      "justify_items": null,
      "left": null,
      "margin": null,
      "max_height": null,
      "max_width": null,
      "min_height": null,
      "min_width": null,
      "object_fit": null,
      "object_position": null,
      "order": null,
      "overflow": null,
      "overflow_x": null,
      "overflow_y": null,
      "padding": null,
      "right": null,
      "top": null,
      "visibility": null,
      "width": null
     }
    },
    "59ab4b6bf35441e9a314fec5b2b0fb28": {
     "model_module": "@jupyter-widgets/base",
     "model_name": "LayoutModel",
     "state": {
      "_model_module": "@jupyter-widgets/base",
      "_model_module_version": "1.2.0",
      "_model_name": "LayoutModel",
      "_view_count": null,
      "_view_module": "@jupyter-widgets/base",
      "_view_module_version": "1.2.0",
      "_view_name": "LayoutView",
      "align_content": null,
      "align_items": null,
      "align_self": null,
      "border": null,
      "bottom": null,
      "display": null,
      "flex": null,
      "flex_flow": null,
      "grid_area": null,
      "grid_auto_columns": null,
      "grid_auto_flow": null,
      "grid_auto_rows": null,
      "grid_column": null,
      "grid_gap": null,
      "grid_row": null,
      "grid_template_areas": null,
      "grid_template_columns": null,
      "grid_template_rows": null,
      "height": null,
      "justify_content": null,
      "justify_items": null,
      "left": null,
      "margin": null,
      "max_height": null,
      "max_width": null,
      "min_height": null,
      "min_width": null,
      "object_fit": null,
      "object_position": null,
      "order": null,
      "overflow": null,
      "overflow_x": null,
      "overflow_y": null,
      "padding": null,
      "right": null,
      "top": null,
      "visibility": null,
      "width": null
     }
    },
    "633181b128124a0e9228a00e4849b2ca": {
     "model_module": "@jupyter-widgets/controls",
     "model_name": "HBoxModel",
     "state": {
      "_dom_classes": [],
      "_model_module": "@jupyter-widgets/controls",
      "_model_module_version": "1.5.0",
      "_model_name": "HBoxModel",
      "_view_count": null,
      "_view_module": "@jupyter-widgets/controls",
      "_view_module_version": "1.5.0",
      "_view_name": "HBoxView",
      "box_style": "",
      "children": [
       "IPY_MODEL_afa579df80834717b138e58205b6a12f",
       "IPY_MODEL_0c807909271549df9768554dc828c8c1"
      ],
      "layout": "IPY_MODEL_8f1db75287944b3aab8338fdf2296561"
     }
    },
    "63673ba1a6d549d6b6f4bdb59c4e4b37": {
     "model_module": "@jupyter-widgets/controls",
     "model_name": "HBoxModel",
     "state": {
      "_dom_classes": [],
      "_model_module": "@jupyter-widgets/controls",
      "_model_module_version": "1.5.0",
      "_model_name": "HBoxModel",
      "_view_count": null,
      "_view_module": "@jupyter-widgets/controls",
      "_view_module_version": "1.5.0",
      "_view_name": "HBoxView",
      "box_style": "",
      "children": [
       "IPY_MODEL_6a7f7debdc9d466facdf99bc80bab685",
       "IPY_MODEL_a260220506a447239060029d367d27f2"
      ],
      "layout": "IPY_MODEL_830a9f256fb847fc89e33501797eda19"
     }
    },
    "6a7f7debdc9d466facdf99bc80bab685": {
     "model_module": "@jupyter-widgets/controls",
     "model_name": "FloatProgressModel",
     "state": {
      "_dom_classes": [],
      "_model_module": "@jupyter-widgets/controls",
      "_model_module_version": "1.5.0",
      "_model_name": "FloatProgressModel",
      "_view_count": null,
      "_view_module": "@jupyter-widgets/controls",
      "_view_module_version": "1.5.0",
      "_view_name": "ProgressView",
      "bar_style": "success",
      "description": "",
      "description_tooltip": null,
      "layout": "IPY_MODEL_01805afe8664491c90146fd66858215f",
      "max": 26,
      "min": 0,
      "orientation": "horizontal",
      "style": "IPY_MODEL_1b907cb80f4f465abb7f5da6788f08b8",
      "value": 26
     }
    },
    "799e8131ac2048b59f4c8a96f88a63b1": {
     "model_module": "@jupyter-widgets/controls",
     "model_name": "HTMLModel",
     "state": {
      "_dom_classes": [],
      "_model_module": "@jupyter-widgets/controls",
      "_model_module_version": "1.5.0",
      "_model_name": "HTMLModel",
      "_view_count": null,
      "_view_module": "@jupyter-widgets/controls",
      "_view_module_version": "1.5.0",
      "_view_name": "HTMLView",
      "description": "",
      "description_tooltip": null,
      "layout": "IPY_MODEL_2f0ad1e73f3944a1b289ca095f494c16",
      "placeholder": "​",
      "style": "IPY_MODEL_09a05bf9747d462a92ab94ee1b128f5b",
      "value": " 14/? [02:53&lt;00:00, 12.42s/it]"
     }
    },
    "7e2e81372c744f779cd61dd3ab911492": {
     "model_module": "@jupyter-widgets/base",
     "model_name": "LayoutModel",
     "state": {
      "_model_module": "@jupyter-widgets/base",
      "_model_module_version": "1.2.0",
      "_model_name": "LayoutModel",
      "_view_count": null,
      "_view_module": "@jupyter-widgets/base",
      "_view_module_version": "1.2.0",
      "_view_name": "LayoutView",
      "align_content": null,
      "align_items": null,
      "align_self": null,
      "border": null,
      "bottom": null,
      "display": null,
      "flex": null,
      "flex_flow": null,
      "grid_area": null,
      "grid_auto_columns": null,
      "grid_auto_flow": null,
      "grid_auto_rows": null,
      "grid_column": null,
      "grid_gap": null,
      "grid_row": null,
      "grid_template_areas": null,
      "grid_template_columns": null,
      "grid_template_rows": null,
      "height": null,
      "justify_content": null,
      "justify_items": null,
      "left": null,
      "margin": null,
      "max_height": null,
      "max_width": null,
      "min_height": null,
      "min_width": null,
      "object_fit": null,
      "object_position": null,
      "order": null,
      "overflow": null,
      "overflow_x": null,
      "overflow_y": null,
      "padding": null,
      "right": null,
      "top": null,
      "visibility": null,
      "width": null
     }
    },
    "81ba6d9a80e64357913a7ec9f299d428": {
     "model_module": "@jupyter-widgets/controls",
     "model_name": "HTMLModel",
     "state": {
      "_dom_classes": [],
      "_model_module": "@jupyter-widgets/controls",
      "_model_module_version": "1.5.0",
      "_model_name": "HTMLModel",
      "_view_count": null,
      "_view_module": "@jupyter-widgets/controls",
      "_view_module_version": "1.5.0",
      "_view_name": "HTMLView",
      "description": "",
      "description_tooltip": null,
      "layout": "IPY_MODEL_938571f771e54ee495f7510ae5e9b2e5",
      "placeholder": "​",
      "style": "IPY_MODEL_0801842b29134e64913946c1b07920c3",
      "value": " 471M/471M [00:10&lt;00:00, 46.8MB/s]"
     }
    },
    "830a9f256fb847fc89e33501797eda19": {
     "model_module": "@jupyter-widgets/base",
     "model_name": "LayoutModel",
     "state": {
      "_model_module": "@jupyter-widgets/base",
      "_model_module_version": "1.2.0",
      "_model_name": "LayoutModel",
      "_view_count": null,
      "_view_module": "@jupyter-widgets/base",
      "_view_module_version": "1.2.0",
      "_view_name": "LayoutView",
      "align_content": null,
      "align_items": null,
      "align_self": null,
      "border": null,
      "bottom": null,
      "display": null,
      "flex": null,
      "flex_flow": null,
      "grid_area": null,
      "grid_auto_columns": null,
      "grid_auto_flow": null,
      "grid_auto_rows": null,
      "grid_column": null,
      "grid_gap": null,
      "grid_row": null,
      "grid_template_areas": null,
      "grid_template_columns": null,
      "grid_template_rows": null,
      "height": null,
      "justify_content": null,
      "justify_items": null,
      "left": null,
      "margin": null,
      "max_height": null,
      "max_width": null,
      "min_height": null,
      "min_width": null,
      "object_fit": null,
      "object_position": null,
      "order": null,
      "overflow": null,
      "overflow_x": null,
      "overflow_y": null,
      "padding": null,
      "right": null,
      "top": null,
      "visibility": null,
      "width": null
     }
    },
    "85f935fe06a24eb3b3db340e44bc5650": {
     "model_module": "@jupyter-widgets/base",
     "model_name": "LayoutModel",
     "state": {
      "_model_module": "@jupyter-widgets/base",
      "_model_module_version": "1.2.0",
      "_model_name": "LayoutModel",
      "_view_count": null,
      "_view_module": "@jupyter-widgets/base",
      "_view_module_version": "1.2.0",
      "_view_name": "LayoutView",
      "align_content": null,
      "align_items": null,
      "align_self": null,
      "border": null,
      "bottom": null,
      "display": null,
      "flex": null,
      "flex_flow": null,
      "grid_area": null,
      "grid_auto_columns": null,
      "grid_auto_flow": null,
      "grid_auto_rows": null,
      "grid_column": null,
      "grid_gap": null,
      "grid_row": null,
      "grid_template_areas": null,
      "grid_template_columns": null,
      "grid_template_rows": null,
      "height": null,
      "justify_content": null,
      "justify_items": null,
      "left": null,
      "margin": null,
      "max_height": null,
      "max_width": null,
      "min_height": null,
      "min_width": null,
      "object_fit": null,
      "object_position": null,
      "order": null,
      "overflow": null,
      "overflow_x": null,
      "overflow_y": null,
      "padding": null,
      "right": null,
      "top": null,
      "visibility": null,
      "width": null
     }
    },
    "87b6cf63fd73416cbddb3836ef01cc14": {
     "model_module": "@jupyter-widgets/base",
     "model_name": "LayoutModel",
     "state": {
      "_model_module": "@jupyter-widgets/base",
      "_model_module_version": "1.2.0",
      "_model_name": "LayoutModel",
      "_view_count": null,
      "_view_module": "@jupyter-widgets/base",
      "_view_module_version": "1.2.0",
      "_view_name": "LayoutView",
      "align_content": null,
      "align_items": null,
      "align_self": null,
      "border": null,
      "bottom": null,
      "display": null,
      "flex": null,
      "flex_flow": null,
      "grid_area": null,
      "grid_auto_columns": null,
      "grid_auto_flow": null,
      "grid_auto_rows": null,
      "grid_column": null,
      "grid_gap": null,
      "grid_row": null,
      "grid_template_areas": null,
      "grid_template_columns": null,
      "grid_template_rows": null,
      "height": null,
      "justify_content": null,
      "justify_items": null,
      "left": null,
      "margin": null,
      "max_height": null,
      "max_width": null,
      "min_height": null,
      "min_width": null,
      "object_fit": null,
      "object_position": null,
      "order": null,
      "overflow": null,
      "overflow_x": null,
      "overflow_y": null,
      "padding": null,
      "right": null,
      "top": null,
      "visibility": null,
      "width": null
     }
    },
    "8c3c3d7efca14efaa3b4e5b1ce3551fb": {
     "model_module": "@jupyter-widgets/controls",
     "model_name": "HBoxModel",
     "state": {
      "_dom_classes": [],
      "_model_module": "@jupyter-widgets/controls",
      "_model_module_version": "1.5.0",
      "_model_name": "HBoxModel",
      "_view_count": null,
      "_view_module": "@jupyter-widgets/controls",
      "_view_module_version": "1.5.0",
      "_view_name": "HBoxView",
      "box_style": "",
      "children": [
       "IPY_MODEL_d4624e00a46643a2b3d119e5289fe84b",
       "IPY_MODEL_28752d38a3eb4fa2894c0bd418ca9f06"
      ],
      "layout": "IPY_MODEL_fb63b2bad51e4f018d34f9ad7ec806b1"
     }
    },
    "8f1db75287944b3aab8338fdf2296561": {
     "model_module": "@jupyter-widgets/base",
     "model_name": "LayoutModel",
     "state": {
      "_model_module": "@jupyter-widgets/base",
      "_model_module_version": "1.2.0",
      "_model_name": "LayoutModel",
      "_view_count": null,
      "_view_module": "@jupyter-widgets/base",
      "_view_module_version": "1.2.0",
      "_view_name": "LayoutView",
      "align_content": null,
      "align_items": null,
      "align_self": null,
      "border": null,
      "bottom": null,
      "display": null,
      "flex": null,
      "flex_flow": null,
      "grid_area": null,
      "grid_auto_columns": null,
      "grid_auto_flow": null,
      "grid_auto_rows": null,
      "grid_column": null,
      "grid_gap": null,
      "grid_row": null,
      "grid_template_areas": null,
      "grid_template_columns": null,
      "grid_template_rows": null,
      "height": null,
      "justify_content": null,
      "justify_items": null,
      "left": null,
      "margin": null,
      "max_height": null,
      "max_width": null,
      "min_height": null,
      "min_width": null,
      "object_fit": null,
      "object_position": null,
      "order": null,
      "overflow": null,
      "overflow_x": null,
      "overflow_y": null,
      "padding": null,
      "right": null,
      "top": null,
      "visibility": null,
      "width": null
     }
    },
    "938571f771e54ee495f7510ae5e9b2e5": {
     "model_module": "@jupyter-widgets/base",
     "model_name": "LayoutModel",
     "state": {
      "_model_module": "@jupyter-widgets/base",
      "_model_module_version": "1.2.0",
      "_model_name": "LayoutModel",
      "_view_count": null,
      "_view_module": "@jupyter-widgets/base",
      "_view_module_version": "1.2.0",
      "_view_name": "LayoutView",
      "align_content": null,
      "align_items": null,
      "align_self": null,
      "border": null,
      "bottom": null,
      "display": null,
      "flex": null,
      "flex_flow": null,
      "grid_area": null,
      "grid_auto_columns": null,
      "grid_auto_flow": null,
      "grid_auto_rows": null,
      "grid_column": null,
      "grid_gap": null,
      "grid_row": null,
      "grid_template_areas": null,
      "grid_template_columns": null,
      "grid_template_rows": null,
      "height": null,
      "justify_content": null,
      "justify_items": null,
      "left": null,
      "margin": null,
      "max_height": null,
      "max_width": null,
      "min_height": null,
      "min_width": null,
      "object_fit": null,
      "object_position": null,
      "order": null,
      "overflow": null,
      "overflow_x": null,
      "overflow_y": null,
      "padding": null,
      "right": null,
      "top": null,
      "visibility": null,
      "width": null
     }
    },
    "94809634593e43b4a1136838ba441486": {
     "model_module": "@jupyter-widgets/controls",
     "model_name": "HBoxModel",
     "state": {
      "_dom_classes": [],
      "_model_module": "@jupyter-widgets/controls",
      "_model_module_version": "1.5.0",
      "_model_name": "HBoxModel",
      "_view_count": null,
      "_view_module": "@jupyter-widgets/controls",
      "_view_module_version": "1.5.0",
      "_view_name": "HBoxView",
      "box_style": "",
      "children": [
       "IPY_MODEL_b55228b05c7b4b08807a63c355442c1b",
       "IPY_MODEL_d199333c8f524fbe96a1c0d0b83a14b5"
      ],
      "layout": "IPY_MODEL_c2aaec7f8d974248b7df2ef25e3e59e3"
     }
    },
    "970d7fd0d93a4fc3b189c9698d2a4eed": {
     "model_module": "@jupyter-widgets/base",
     "model_name": "LayoutModel",
     "state": {
      "_model_module": "@jupyter-widgets/base",
      "_model_module_version": "1.2.0",
      "_model_name": "LayoutModel",
      "_view_count": null,
      "_view_module": "@jupyter-widgets/base",
      "_view_module_version": "1.2.0",
      "_view_name": "LayoutView",
      "align_content": null,
      "align_items": null,
      "align_self": null,
      "border": null,
      "bottom": null,
      "display": null,
      "flex": null,
      "flex_flow": null,
      "grid_area": null,
      "grid_auto_columns": null,
      "grid_auto_flow": null,
      "grid_auto_rows": null,
      "grid_column": null,
      "grid_gap": null,
      "grid_row": null,
      "grid_template_areas": null,
      "grid_template_columns": null,
      "grid_template_rows": null,
      "height": null,
      "justify_content": null,
      "justify_items": null,
      "left": null,
      "margin": null,
      "max_height": null,
      "max_width": null,
      "min_height": null,
      "min_width": null,
      "object_fit": null,
      "object_position": null,
      "order": null,
      "overflow": null,
      "overflow_x": null,
      "overflow_y": null,
      "padding": null,
      "right": null,
      "top": null,
      "visibility": null,
      "width": null
     }
    },
    "a260220506a447239060029d367d27f2": {
     "model_module": "@jupyter-widgets/controls",
     "model_name": "HTMLModel",
     "state": {
      "_dom_classes": [],
      "_model_module": "@jupyter-widgets/controls",
      "_model_module_version": "1.5.0",
      "_model_name": "HTMLModel",
      "_view_count": null,
      "_view_module": "@jupyter-widgets/controls",
      "_view_module_version": "1.5.0",
      "_view_name": "HTMLView",
      "description": "",
      "description_tooltip": null,
      "layout": "IPY_MODEL_eb2d62709ac5476ba254adb5451aa439",
      "placeholder": "​",
      "style": "IPY_MODEL_4b510be582d14936aefcdb5ce3f7fb58",
      "value": " 27/? [54:42&lt;00:00, 121.57s/it]"
     }
    },
    "a4e57dd14698443b8d48c8ad3ef06e11": {
     "model_module": "@jupyter-widgets/base",
     "model_name": "LayoutModel",
     "state": {
      "_model_module": "@jupyter-widgets/base",
      "_model_module_version": "1.2.0",
      "_model_name": "LayoutModel",
      "_view_count": null,
      "_view_module": "@jupyter-widgets/base",
      "_view_module_version": "1.2.0",
      "_view_name": "LayoutView",
      "align_content": null,
      "align_items": null,
      "align_self": null,
      "border": null,
      "bottom": null,
      "display": null,
      "flex": null,
      "flex_flow": null,
      "grid_area": null,
      "grid_auto_columns": null,
      "grid_auto_flow": null,
      "grid_auto_rows": null,
      "grid_column": null,
      "grid_gap": null,
      "grid_row": null,
      "grid_template_areas": null,
      "grid_template_columns": null,
      "grid_template_rows": null,
      "height": null,
      "justify_content": null,
      "justify_items": null,
      "left": null,
      "margin": null,
      "max_height": null,
      "max_width": null,
      "min_height": null,
      "min_width": null,
      "object_fit": null,
      "object_position": null,
      "order": null,
      "overflow": null,
      "overflow_x": null,
      "overflow_y": null,
      "padding": null,
      "right": null,
      "top": null,
      "visibility": null,
      "width": null
     }
    },
    "afa579df80834717b138e58205b6a12f": {
     "model_module": "@jupyter-widgets/controls",
     "model_name": "FloatProgressModel",
     "state": {
      "_dom_classes": [],
      "_model_module": "@jupyter-widgets/controls",
      "_model_module_version": "1.5.0",
      "_model_name": "FloatProgressModel",
      "_view_count": null,
      "_view_module": "@jupyter-widgets/controls",
      "_view_module_version": "1.5.0",
      "_view_name": "ProgressView",
      "bar_style": "success",
      "description": "",
      "description_tooltip": null,
      "layout": "IPY_MODEL_58cb50333c2244f2a61ada3c39f3b360",
      "max": 64,
      "min": 0,
      "orientation": "horizontal",
      "style": "IPY_MODEL_02c183bf70b34dfe9b7b0ed2d3b213bd",
      "value": 64
     }
    },
    "b55228b05c7b4b08807a63c355442c1b": {
     "model_module": "@jupyter-widgets/controls",
     "model_name": "FloatProgressModel",
     "state": {
      "_dom_classes": [],
      "_model_module": "@jupyter-widgets/controls",
      "_model_module_version": "1.5.0",
      "_model_name": "FloatProgressModel",
      "_view_count": null,
      "_view_module": "@jupyter-widgets/controls",
      "_view_module_version": "1.5.0",
      "_view_name": "ProgressView",
      "bar_style": "success",
      "description": "",
      "description_tooltip": null,
      "layout": "IPY_MODEL_5841a0d0ad234988842b0188da83665d",
      "max": 171,
      "min": 0,
      "orientation": "horizontal",
      "style": "IPY_MODEL_fff7532ed04a4ae2bd9f6f214ad39075",
      "value": 171
     }
    },
    "bded750b213a43d4a078819da0796892": {
     "model_module": "@jupyter-widgets/controls",
     "model_name": "FloatProgressModel",
     "state": {
      "_dom_classes": [],
      "_model_module": "@jupyter-widgets/controls",
      "_model_module_version": "1.5.0",
      "_model_name": "FloatProgressModel",
      "_view_count": null,
      "_view_module": "@jupyter-widgets/controls",
      "_view_module_version": "1.5.0",
      "_view_name": "ProgressView",
      "bar_style": "success",
      "description": "",
      "description_tooltip": null,
      "layout": "IPY_MODEL_485eaa727f1c4127856c1b536b290186",
      "max": 13,
      "min": 0,
      "orientation": "horizontal",
      "style": "IPY_MODEL_f6e17eabbefa45df9daf67857cd031bd",
      "value": 13
     }
    },
    "c0f03e2557194a96a8f0d71d80ad6afe": {
     "model_module": "@jupyter-widgets/controls",
     "model_name": "DescriptionStyleModel",
     "state": {
      "_model_module": "@jupyter-widgets/controls",
      "_model_module_version": "1.5.0",
      "_model_name": "DescriptionStyleModel",
      "_view_count": null,
      "_view_module": "@jupyter-widgets/base",
      "_view_module_version": "1.2.0",
      "_view_name": "StyleView",
      "description_width": ""
     }
    },
    "c2aaec7f8d974248b7df2ef25e3e59e3": {
     "model_module": "@jupyter-widgets/base",
     "model_name": "LayoutModel",
     "state": {
      "_model_module": "@jupyter-widgets/base",
      "_model_module_version": "1.2.0",
      "_model_name": "LayoutModel",
      "_view_count": null,
      "_view_module": "@jupyter-widgets/base",
      "_view_module_version": "1.2.0",
      "_view_name": "LayoutView",
      "align_content": null,
      "align_items": null,
      "align_self": null,
      "border": null,
      "bottom": null,
      "display": null,
      "flex": null,
      "flex_flow": null,
      "grid_area": null,
      "grid_auto_columns": null,
      "grid_auto_flow": null,
      "grid_auto_rows": null,
      "grid_column": null,
      "grid_gap": null,
      "grid_row": null,
      "grid_template_areas": null,
      "grid_template_columns": null,
      "grid_template_rows": null,
      "height": null,
      "justify_content": null,
      "justify_items": null,
      "left": null,
      "margin": null,
      "max_height": null,
      "max_width": null,
      "min_height": null,
      "min_width": null,
      "object_fit": null,
      "object_position": null,
      "order": null,
      "overflow": null,
      "overflow_x": null,
      "overflow_y": null,
      "padding": null,
      "right": null,
      "top": null,
      "visibility": null,
      "width": null
     }
    },
    "c2f7d212c92e431e98cb23cec7681c1c": {
     "model_module": "@jupyter-widgets/base",
     "model_name": "LayoutModel",
     "state": {
      "_model_module": "@jupyter-widgets/base",
      "_model_module_version": "1.2.0",
      "_model_name": "LayoutModel",
      "_view_count": null,
      "_view_module": "@jupyter-widgets/base",
      "_view_module_version": "1.2.0",
      "_view_name": "LayoutView",
      "align_content": null,
      "align_items": null,
      "align_self": null,
      "border": null,
      "bottom": null,
      "display": null,
      "flex": null,
      "flex_flow": null,
      "grid_area": null,
      "grid_auto_columns": null,
      "grid_auto_flow": null,
      "grid_auto_rows": null,
      "grid_column": null,
      "grid_gap": null,
      "grid_row": null,
      "grid_template_areas": null,
      "grid_template_columns": null,
      "grid_template_rows": null,
      "height": null,
      "justify_content": null,
      "justify_items": null,
      "left": null,
      "margin": null,
      "max_height": null,
      "max_width": null,
      "min_height": null,
      "min_width": null,
      "object_fit": null,
      "object_position": null,
      "order": null,
      "overflow": null,
      "overflow_x": null,
      "overflow_y": null,
      "padding": null,
      "right": null,
      "top": null,
      "visibility": null,
      "width": null
     }
    },
    "c32300d27a58430eabc758898fc23498": {
     "model_module": "@jupyter-widgets/controls",
     "model_name": "DescriptionStyleModel",
     "state": {
      "_model_module": "@jupyter-widgets/controls",
      "_model_module_version": "1.5.0",
      "_model_name": "DescriptionStyleModel",
      "_view_count": null,
      "_view_module": "@jupyter-widgets/base",
      "_view_module_version": "1.2.0",
      "_view_name": "StyleView",
      "description_width": ""
     }
    },
    "cbe9d8553fc141ff861bc4f5d2a1d7f3": {
     "model_module": "@jupyter-widgets/controls",
     "model_name": "FloatProgressModel",
     "state": {
      "_dom_classes": [],
      "_model_module": "@jupyter-widgets/controls",
      "_model_module_version": "1.5.0",
      "_model_name": "FloatProgressModel",
      "_view_count": null,
      "_view_module": "@jupyter-widgets/controls",
      "_view_module_version": "1.5.0",
      "_view_name": "ProgressView",
      "bar_style": "success",
      "description": "",
      "description_tooltip": null,
      "layout": "IPY_MODEL_2a405ed5f07042ad8884cc6486c7a4aa",
      "max": 4,
      "min": 0,
      "orientation": "horizontal",
      "style": "IPY_MODEL_21c542e4ace642c2b723e01ca380b2ec",
      "value": 4
     }
    },
    "ccbe09155d4b4148b43f32be84975c27": {
     "model_module": "@jupyter-widgets/controls",
     "model_name": "HBoxModel",
     "state": {
      "_dom_classes": [],
      "_model_module": "@jupyter-widgets/controls",
      "_model_module_version": "1.5.0",
      "_model_name": "HBoxModel",
      "_view_count": null,
      "_view_module": "@jupyter-widgets/controls",
      "_view_module_version": "1.5.0",
      "_view_name": "HBoxView",
      "box_style": "",
      "children": [
       "IPY_MODEL_bded750b213a43d4a078819da0796892",
       "IPY_MODEL_799e8131ac2048b59f4c8a96f88a63b1"
      ],
      "layout": "IPY_MODEL_c2f7d212c92e431e98cb23cec7681c1c"
     }
    },
    "cf7d11867ec84584ab4e20d7756104a4": {
     "model_module": "@jupyter-widgets/controls",
     "model_name": "HBoxModel",
     "state": {
      "_dom_classes": [],
      "_model_module": "@jupyter-widgets/controls",
      "_model_module_version": "1.5.0",
      "_model_name": "HBoxModel",
      "_view_count": null,
      "_view_module": "@jupyter-widgets/controls",
      "_view_module_version": "1.5.0",
      "_view_name": "HBoxView",
      "box_style": "",
      "children": [
       "IPY_MODEL_26a982a33cf248d4842c0b7c41060fd0",
       "IPY_MODEL_e260aed5fa1a462a875d73aa0284afaf"
      ],
      "layout": "IPY_MODEL_398ed1a11c424da19099755df2e41a9c"
     }
    },
    "d199333c8f524fbe96a1c0d0b83a14b5": {
     "model_module": "@jupyter-widgets/controls",
     "model_name": "HTMLModel",
     "state": {
      "_dom_classes": [],
      "_model_module": "@jupyter-widgets/controls",
      "_model_module_version": "1.5.0",
      "_model_name": "HTMLModel",
      "_view_count": null,
      "_view_module": "@jupyter-widgets/controls",
      "_view_module_version": "1.5.0",
      "_view_name": "HTMLView",
      "description": "",
      "description_tooltip": null,
      "layout": "IPY_MODEL_213b2b2454464ae587158642d4e12264",
      "placeholder": "​",
      "style": "IPY_MODEL_d65e9977da6143b9a3863daf82b08582",
      "value": " 172/? [1:33:24&lt;00:00, 32.58s/it]"
     }
    },
    "d4624e00a46643a2b3d119e5289fe84b": {
     "model_module": "@jupyter-widgets/controls",
     "model_name": "FloatProgressModel",
     "state": {
      "_dom_classes": [],
      "_model_module": "@jupyter-widgets/controls",
      "_model_module_version": "1.5.0",
      "_model_name": "FloatProgressModel",
      "_view_count": null,
      "_view_module": "@jupyter-widgets/controls",
      "_view_module_version": "1.5.0",
      "_view_name": "ProgressView",
      "bar_style": "success",
      "description": "",
      "description_tooltip": null,
      "layout": "IPY_MODEL_85f935fe06a24eb3b3db340e44bc5650",
      "max": 1,
      "min": 0,
      "orientation": "horizontal",
      "style": "IPY_MODEL_f4e1ec8ef6754eca85403e20c6eeb466",
      "value": 1
     }
    },
    "d65e9977da6143b9a3863daf82b08582": {
     "model_module": "@jupyter-widgets/controls",
     "model_name": "DescriptionStyleModel",
     "state": {
      "_model_module": "@jupyter-widgets/controls",
      "_model_module_version": "1.5.0",
      "_model_name": "DescriptionStyleModel",
      "_view_count": null,
      "_view_module": "@jupyter-widgets/base",
      "_view_module_version": "1.2.0",
      "_view_name": "StyleView",
      "description_width": ""
     }
    },
    "dd255d8003104901992978bcddea93e5": {
     "model_module": "@jupyter-widgets/controls",
     "model_name": "HBoxModel",
     "state": {
      "_dom_classes": [],
      "_model_module": "@jupyter-widgets/controls",
      "_model_module_version": "1.5.0",
      "_model_name": "HBoxModel",
      "_view_count": null,
      "_view_module": "@jupyter-widgets/controls",
      "_view_module_version": "1.5.0",
      "_view_name": "HBoxView",
      "box_style": "",
      "children": [
       "IPY_MODEL_32f9a92603c34246b71903995e8275dd",
       "IPY_MODEL_81ba6d9a80e64357913a7ec9f299d428"
      ],
      "layout": "IPY_MODEL_970d7fd0d93a4fc3b189c9698d2a4eed"
     }
    },
    "e260aed5fa1a462a875d73aa0284afaf": {
     "model_module": "@jupyter-widgets/controls",
     "model_name": "HTMLModel",
     "state": {
      "_dom_classes": [],
      "_model_module": "@jupyter-widgets/controls",
      "_model_module_version": "1.5.0",
      "_model_name": "HTMLModel",
      "_view_count": null,
      "_view_module": "@jupyter-widgets/controls",
      "_view_module_version": "1.5.0",
      "_view_name": "HTMLView",
      "description": "",
      "description_tooltip": null,
      "layout": "IPY_MODEL_87b6cf63fd73416cbddb3836ef01cc14",
      "placeholder": "​",
      "style": "IPY_MODEL_c32300d27a58430eabc758898fc23498",
      "value": " 93/? [16:55&lt;00:00, 10.92s/it]"
     }
    },
    "e34ca6624025419d95479d12db34e404": {
     "model_module": "@jupyter-widgets/base",
     "model_name": "LayoutModel",
     "state": {
      "_model_module": "@jupyter-widgets/base",
      "_model_module_version": "1.2.0",
      "_model_name": "LayoutModel",
      "_view_count": null,
      "_view_module": "@jupyter-widgets/base",
      "_view_module_version": "1.2.0",
      "_view_name": "LayoutView",
      "align_content": null,
      "align_items": null,
      "align_self": null,
      "border": null,
      "bottom": null,
      "display": null,
      "flex": null,
      "flex_flow": null,
      "grid_area": null,
      "grid_auto_columns": null,
      "grid_auto_flow": null,
      "grid_auto_rows": null,
      "grid_column": null,
      "grid_gap": null,
      "grid_row": null,
      "grid_template_areas": null,
      "grid_template_columns": null,
      "grid_template_rows": null,
      "height": null,
      "justify_content": null,
      "justify_items": null,
      "left": null,
      "margin": null,
      "max_height": null,
      "max_width": null,
      "min_height": null,
      "min_width": null,
      "object_fit": null,
      "object_position": null,
      "order": null,
      "overflow": null,
      "overflow_x": null,
      "overflow_y": null,
      "padding": null,
      "right": null,
      "top": null,
      "visibility": null,
      "width": null
     }
    },
    "eb2d62709ac5476ba254adb5451aa439": {
     "model_module": "@jupyter-widgets/base",
     "model_name": "LayoutModel",
     "state": {
      "_model_module": "@jupyter-widgets/base",
      "_model_module_version": "1.2.0",
      "_model_name": "LayoutModel",
      "_view_count": null,
      "_view_module": "@jupyter-widgets/base",
      "_view_module_version": "1.2.0",
      "_view_name": "LayoutView",
      "align_content": null,
      "align_items": null,
      "align_self": null,
      "border": null,
      "bottom": null,
      "display": null,
      "flex": null,
      "flex_flow": null,
      "grid_area": null,
      "grid_auto_columns": null,
      "grid_auto_flow": null,
      "grid_auto_rows": null,
      "grid_column": null,
      "grid_gap": null,
      "grid_row": null,
      "grid_template_areas": null,
      "grid_template_columns": null,
      "grid_template_rows": null,
      "height": null,
      "justify_content": null,
      "justify_items": null,
      "left": null,
      "margin": null,
      "max_height": null,
      "max_width": null,
      "min_height": null,
      "min_width": null,
      "object_fit": null,
      "object_position": null,
      "order": null,
      "overflow": null,
      "overflow_x": null,
      "overflow_y": null,
      "padding": null,
      "right": null,
      "top": null,
      "visibility": null,
      "width": null
     }
    },
    "ebd9df7ab6fa445fae1a99cf6e194f89": {
     "model_module": "@jupyter-widgets/controls",
     "model_name": "HTMLModel",
     "state": {
      "_dom_classes": [],
      "_model_module": "@jupyter-widgets/controls",
      "_model_module_version": "1.5.0",
      "_model_name": "HTMLModel",
      "_view_count": null,
      "_view_module": "@jupyter-widgets/controls",
      "_view_module_version": "1.5.0",
      "_view_name": "HTMLView",
      "description": "",
      "description_tooltip": null,
      "layout": "IPY_MODEL_f5ee3856b4764de4a0ee0f5e95177d99",
      "placeholder": "​",
      "style": "IPY_MODEL_fdccf682700444f5bfe56ba5e306679c",
      "value": " 5/? [12:57&lt;00:00, 155.57s/it]"
     }
    },
    "f4e1ec8ef6754eca85403e20c6eeb466": {
     "model_module": "@jupyter-widgets/controls",
     "model_name": "ProgressStyleModel",
     "state": {
      "_model_module": "@jupyter-widgets/controls",
      "_model_module_version": "1.5.0",
      "_model_name": "ProgressStyleModel",
      "_view_count": null,
      "_view_module": "@jupyter-widgets/base",
      "_view_module_version": "1.2.0",
      "_view_name": "StyleView",
      "bar_color": null,
      "description_width": "initial"
     }
    },
    "f5ee3856b4764de4a0ee0f5e95177d99": {
     "model_module": "@jupyter-widgets/base",
     "model_name": "LayoutModel",
     "state": {
      "_model_module": "@jupyter-widgets/base",
      "_model_module_version": "1.2.0",
      "_model_name": "LayoutModel",
      "_view_count": null,
      "_view_module": "@jupyter-widgets/base",
      "_view_module_version": "1.2.0",
      "_view_name": "LayoutView",
      "align_content": null,
      "align_items": null,
      "align_self": null,
      "border": null,
      "bottom": null,
      "display": null,
      "flex": null,
      "flex_flow": null,
      "grid_area": null,
      "grid_auto_columns": null,
      "grid_auto_flow": null,
      "grid_auto_rows": null,
      "grid_column": null,
      "grid_gap": null,
      "grid_row": null,
      "grid_template_areas": null,
      "grid_template_columns": null,
      "grid_template_rows": null,
      "height": null,
      "justify_content": null,
      "justify_items": null,
      "left": null,
      "margin": null,
      "max_height": null,
      "max_width": null,
      "min_height": null,
      "min_width": null,
      "object_fit": null,
      "object_position": null,
      "order": null,
      "overflow": null,
      "overflow_x": null,
      "overflow_y": null,
      "padding": null,
      "right": null,
      "top": null,
      "visibility": null,
      "width": null
     }
    },
    "f6e17eabbefa45df9daf67857cd031bd": {
     "model_module": "@jupyter-widgets/controls",
     "model_name": "ProgressStyleModel",
     "state": {
      "_model_module": "@jupyter-widgets/controls",
      "_model_module_version": "1.5.0",
      "_model_name": "ProgressStyleModel",
      "_view_count": null,
      "_view_module": "@jupyter-widgets/base",
      "_view_module_version": "1.2.0",
      "_view_name": "StyleView",
      "bar_color": null,
      "description_width": "initial"
     }
    },
    "fb63b2bad51e4f018d34f9ad7ec806b1": {
     "model_module": "@jupyter-widgets/base",
     "model_name": "LayoutModel",
     "state": {
      "_model_module": "@jupyter-widgets/base",
      "_model_module_version": "1.2.0",
      "_model_name": "LayoutModel",
      "_view_count": null,
      "_view_module": "@jupyter-widgets/base",
      "_view_module_version": "1.2.0",
      "_view_name": "LayoutView",
      "align_content": null,
      "align_items": null,
      "align_self": null,
      "border": null,
      "bottom": null,
      "display": null,
      "flex": null,
      "flex_flow": null,
      "grid_area": null,
      "grid_auto_columns": null,
      "grid_auto_flow": null,
      "grid_auto_rows": null,
      "grid_column": null,
      "grid_gap": null,
      "grid_row": null,
      "grid_template_areas": null,
      "grid_template_columns": null,
      "grid_template_rows": null,
      "height": null,
      "justify_content": null,
      "justify_items": null,
      "left": null,
      "margin": null,
      "max_height": null,
      "max_width": null,
      "min_height": null,
      "min_width": null,
      "object_fit": null,
      "object_position": null,
      "order": null,
      "overflow": null,
      "overflow_x": null,
      "overflow_y": null,
      "padding": null,
      "right": null,
      "top": null,
      "visibility": null,
      "width": null
     }
    },
    "fdccf682700444f5bfe56ba5e306679c": {
     "model_module": "@jupyter-widgets/controls",
     "model_name": "DescriptionStyleModel",
     "state": {
      "_model_module": "@jupyter-widgets/controls",
      "_model_module_version": "1.5.0",
      "_model_name": "DescriptionStyleModel",
      "_view_count": null,
      "_view_module": "@jupyter-widgets/base",
      "_view_module_version": "1.2.0",
      "_view_name": "StyleView",
      "description_width": ""
     }
    },
    "fff7532ed04a4ae2bd9f6f214ad39075": {
     "model_module": "@jupyter-widgets/controls",
     "model_name": "ProgressStyleModel",
     "state": {
      "_model_module": "@jupyter-widgets/controls",
      "_model_module_version": "1.5.0",
      "_model_name": "ProgressStyleModel",
      "_view_count": null,
      "_view_module": "@jupyter-widgets/base",
      "_view_module_version": "1.2.0",
      "_view_name": "StyleView",
      "bar_color": null,
      "description_width": "initial"
     }
    }
   }
  }
 },
 "nbformat": 4,
 "nbformat_minor": 1
}
