{
 "cells": [
  {
   "cell_type": "code",
   "execution_count": 1,
   "metadata": {},
   "outputs": [],
   "source": [
    "import pandas as pd\n",
    "import os\n",
    "from ast import literal_eval\n",
    "from tqdm import tqdm\n",
    "import numpy as np\n",
    "\n",
    "import seaborn as sns"
   ]
  },
  {
   "cell_type": "code",
   "execution_count": 2,
   "metadata": {},
   "outputs": [],
   "source": [
    "def flatten(t):\n",
    "    return [item for sublist in t for item in sublist]"
   ]
  },
  {
   "cell_type": "code",
   "execution_count": 3,
   "metadata": {},
   "outputs": [],
   "source": [
    "DATA_PATH = os.path.join(\n",
    "    '..', '..', '..', \"data\", \"frameworks_data\", 'data_v0.7.1'\n",
    ")\n",
    "RELABELED_DATA_PATH = os.path.join(\n",
    "    DATA_PATH, 'relabeled_data'\n",
    ")"
   ]
  },
  {
   "cell_type": "code",
   "execution_count": 4,
   "metadata": {},
   "outputs": [
    {
     "name": "stderr",
     "output_type": "stream",
     "text": [
      "/home/selim/anaconda3/lib/python3.8/site-packages/IPython/core/interactiveshell.py:3146: DtypeWarning: Columns (5) have mixed types.Specify dtype option on import or set low_memory=False.\n",
      "  has_raised = await self.run_ast_nodes(code_ast.body, cell_name,\n"
     ]
    }
   ],
   "source": [
    "full_data = pd.read_csv(os.path.join(DATA_PATH, 'full_dataset_with_translations.csv'))\n",
    "test_data = pd.read_csv(os.path.join(DATA_PATH, 'test_v0.7.1.csv'))\n",
    "\n",
    "keyword_affected = pd.concat([\n",
    "    pd.read_csv(os.path.join(RELABELED_DATA_PATH, 'train_0.7.1_keyword_affected_groups_level_3.csv')),\n",
    "    pd.read_csv(os.path.join(RELABELED_DATA_PATH, 'val_0.7.1_keyword_affected_groups_level_3.csv'))\n",
    "])\n",
    "keyword_age = pd.concat([\n",
    "    pd.read_csv(os.path.join(RELABELED_DATA_PATH, 'train_0.7.1_keyword_age.csv')),\n",
    "    pd.read_csv(os.path.join(RELABELED_DATA_PATH, 'val_0.7.1_keyword_age.csv'))\n",
    "])\n",
    "keyword_gender = pd.concat([\n",
    "    pd.read_csv(os.path.join(RELABELED_DATA_PATH, 'train_0.7.1_keyword_gender.csv')),\n",
    "    pd.read_csv(os.path.join(RELABELED_DATA_PATH, 'val_0.7.1_keyword_gender.csv'))\n",
    "])\n",
    "keyword_specific_needs_groups = pd.concat([\n",
    "    pd.read_csv(os.path.join(RELABELED_DATA_PATH, 'train_0.7.1_keyword_specific_needs_groups.csv')),\n",
    "    pd.read_csv(os.path.join(RELABELED_DATA_PATH, 'val_0.7.1_keyword_specific_needs_groups.csv'))\n",
    "])"
   ]
  },
  {
   "cell_type": "code",
   "execution_count": null,
   "metadata": {},
   "outputs": [],
   "source": []
  },
  {
   "cell_type": "code",
   "execution_count": 5,
   "metadata": {},
   "outputs": [],
   "source": [
    "full_data = pd.merge(\n",
    "    right=full_data,\n",
    "    left=keyword_affected,\n",
    "    on='entry_id',\n",
    "    how='right'\n",
    ")\n",
    "full_data = pd.merge(\n",
    "    right=full_data,\n",
    "    left=keyword_age,\n",
    "    on='entry_id',\n",
    "    how='right'\n",
    ")\n",
    "full_data = pd.merge(\n",
    "    right=full_data,\n",
    "    left=keyword_gender,\n",
    "    on='entry_id',\n",
    "    how='right'\n",
    ")\n",
    "full_data = pd.merge(\n",
    "    right=full_data,\n",
    "    left=keyword_specific_needs_groups,\n",
    "    on='entry_id',\n",
    "    how='right'\n",
    ")"
   ]
  },
  {
   "cell_type": "code",
   "execution_count": 6,
   "metadata": {},
   "outputs": [],
   "source": [
    "full_data = full_data.drop(columns=[\n",
    "    'age', 'gender', 'specific_needs_groups', 'affected_groups_level_0',\n",
    "       'affected_groups_level_1', 'affected_groups_level_2',\n",
    "       'affected_groups_level_3']).\\\n",
    "        rename(columns={'specific_needs_groups_kw': 'specific_needs_groups',\n",
    "                        'gender_kw_pred': 'gender', 'age_kw_pred': 'age',\n",
    "                        'affected_groups_level_3_kw': 'affected_groups'\n",
    "                       })"
   ]
  },
  {
   "cell_type": "code",
   "execution_count": 7,
   "metadata": {},
   "outputs": [
    {
     "data": {
      "text/plain": [
       "Index(['entry_id', 'specific_needs_groups', 'gender', 'age', 'affected_groups',\n",
       "       'excerpt', 'analysis_framework_id', 'lead_id', 'project_id', 'verified',\n",
       "       'sectors', 'subpillars_2d', 'subpillars_1d', 'geo_location', 'severity',\n",
       "       'info_date', 'reliability', 'source_type', 'url', 'website', 'lang',\n",
       "       'translation_en', 'translation_fr', 'translation_es'],\n",
       "      dtype='object')"
      ]
     },
     "execution_count": 7,
     "metadata": {},
     "output_type": "execute_result"
    }
   ],
   "source": [
    "full_data.columns"
   ]
  },
  {
   "cell_type": "code",
   "execution_count": null,
   "metadata": {},
   "outputs": [],
   "source": []
  },
  {
   "cell_type": "code",
   "execution_count": null,
   "metadata": {},
   "outputs": [],
   "source": []
  },
  {
   "cell_type": "code",
   "execution_count": 8,
   "metadata": {},
   "outputs": [],
   "source": [
    "full_data['sectors'] = full_data.sectors.apply(\n",
    "    lambda x: [item for item in literal_eval(x) if item !='NOT_MAPPED']\n",
    ")\n",
    "full_data['subpillars_2d'] = full_data.subpillars_2d.apply(\n",
    "    lambda x: [item for item in literal_eval(x) if item !='NOT_MAPPED']\n",
    ")\n",
    "full_data['subpillars_1d'] = full_data.subpillars_1d.apply(\n",
    "    lambda x: [item for item in literal_eval(x) if item !='NOT_MAPPED']\n",
    ")\n",
    "full_data['pillars_1d'] = full_data.subpillars_1d.apply(\n",
    "    lambda x: list(np.unique([item.split('->')[0] for item in x]))\n",
    "               )\n",
    "full_data['pillars_2d'] = full_data.subpillars_2d.apply(\n",
    "    lambda x: list(np.unique([item.split('->')[0] for item in x]))\n",
    "               )"
   ]
  },
  {
   "cell_type": "code",
   "execution_count": 9,
   "metadata": {},
   "outputs": [],
   "source": [
    "#full_data['subpillars']"
   ]
  },
  {
   "cell_type": "code",
   "execution_count": 10,
   "metadata": {},
   "outputs": [
    {
     "data": {
      "text/plain": [
       "(['At Risk',\n",
       "  'Capacities & Response',\n",
       "  'Humanitarian Conditions',\n",
       "  'Impact',\n",
       "  'Priority Interventions',\n",
       "  'Priority Needs'],\n",
       " ['Casualties',\n",
       "  'Context',\n",
       "  'Covid-19',\n",
       "  'Displacement',\n",
       "  'Humanitarian Access',\n",
       "  'Information And Communication',\n",
       "  'Shock/Event'],\n",
       " ['At Risk',\n",
       "  'Capacities & Response',\n",
       "  'Humanitarian Conditions',\n",
       "  'Impact',\n",
       "  'Priority Interventions',\n",
       "  'Priority Needs',\n",
       "  'Casualties',\n",
       "  'Context',\n",
       "  'Covid-19',\n",
       "  'Displacement',\n",
       "  'Humanitarian Access',\n",
       "  'Information And Communication',\n",
       "  'Shock/Event'])"
      ]
     },
     "execution_count": 10,
     "metadata": {},
     "output_type": "execute_result"
    }
   ],
   "source": [
    "all_pillars_2d = list(np.unique(flatten(full_data['pillars_2d'])))\n",
    "all_pillars_1d = list(np.unique(flatten(full_data['pillars_1d'])))\n",
    "all_pillars = all_pillars_2d + all_pillars_1d\n",
    "all_pillars_2d, all_pillars_1d, all_pillars"
   ]
  },
  {
   "cell_type": "code",
   "execution_count": null,
   "metadata": {},
   "outputs": [],
   "source": []
  },
  {
   "cell_type": "code",
   "execution_count": null,
   "metadata": {},
   "outputs": [],
   "source": []
  },
  {
   "cell_type": "code",
   "execution_count": 11,
   "metadata": {},
   "outputs": [
    {
     "data": {
      "text/plain": [
       "'full_data[\\'sectors_pillars_2d\\'] = full_data.apply(\\n    lambda x: flatten(\\n        [[f\"{level0}->{item}\" for item in x[level0]] for level0 in [\\'sectors\\', \\'pillars_2d\\']\\n    ]), axis=1\\n)'"
      ]
     },
     "execution_count": 11,
     "metadata": {},
     "output_type": "execute_result"
    }
   ],
   "source": [
    "\"\"\"full_data['sectors_pillars_2d'] = full_data.apply(\n",
    "    lambda x: flatten(\n",
    "        [[f\"{level0}->{item}\" for item in x[level0]] for level0 in ['sectors', 'pillars_2d']\n",
    "    ]), axis=1\n",
    ")\"\"\""
   ]
  },
  {
   "cell_type": "code",
   "execution_count": 12,
   "metadata": {},
   "outputs": [],
   "source": [
    "#full_data['sectors_pillars_2d']"
   ]
  },
  {
   "cell_type": "code",
   "execution_count": 13,
   "metadata": {},
   "outputs": [],
   "source": [
    "#prop of positive examples in that\n",
    "#full_data['present_prim_tags'].apply(lambda x: len(x)>0).sum() / full_data.shape[0]"
   ]
  },
  {
   "cell_type": "code",
   "execution_count": 14,
   "metadata": {},
   "outputs": [],
   "source": [
    "#full_data['present_prim_tags'].head()"
   ]
  },
  {
   "cell_type": "code",
   "execution_count": null,
   "metadata": {},
   "outputs": [],
   "source": []
  },
  {
   "cell_type": "code",
   "execution_count": null,
   "metadata": {},
   "outputs": [],
   "source": []
  },
  {
   "cell_type": "code",
   "execution_count": 15,
   "metadata": {},
   "outputs": [
    {
     "data": {
      "text/plain": [
       "\"full_data['subpillars_1d_part1'] = full_data.subpillars_1d.apply(\\n    lambda x: [\\n        item for item in x if item.split('->')[0] in [\\n            'Displacement',\\n             'Context',\\n        ]\\n    ]\\n)\\n\\nfull_data['subpillars_1d_part2'] = full_data.subpillars_1d.apply(\\n    lambda x: [\\n        item for item in x if item.split('->')[0] in [\\n            'Shock/Event',   \\n            'Humanitarian Access',\\n            'Casualties'\\n        ]\\n    ]\\n)\\n\\nfull_data['subpillars_1d_part3'] = full_data.subpillars_1d.apply(\\n    lambda x: [\\n        item for item in x if item.split('->')[0] in [\\n            'Covid-19', \\n            'Information And Communication',\\n        ]\\n    ]\\n)\\n\""
      ]
     },
     "execution_count": 15,
     "metadata": {},
     "output_type": "execute_result"
    }
   ],
   "source": [
    "\"\"\"full_data['subpillars_1d_part1'] = full_data.subpillars_1d.apply(\n",
    "    lambda x: [\n",
    "        item for item in x if item.split('->')[0] in [\n",
    "            'Displacement',\n",
    "             'Context',\n",
    "        ]\n",
    "    ]\n",
    ")\n",
    "\n",
    "full_data['subpillars_1d_part2'] = full_data.subpillars_1d.apply(\n",
    "    lambda x: [\n",
    "        item for item in x if item.split('->')[0] in [\n",
    "            'Shock/Event',   \n",
    "            'Humanitarian Access',\n",
    "            'Casualties'\n",
    "        ]\n",
    "    ]\n",
    ")\n",
    "\n",
    "full_data['subpillars_1d_part3'] = full_data.subpillars_1d.apply(\n",
    "    lambda x: [\n",
    "        item for item in x if item.split('->')[0] in [\n",
    "            'Covid-19', \n",
    "            'Information And Communication',\n",
    "        ]\n",
    "    ]\n",
    ")\n",
    "\"\"\""
   ]
  },
  {
   "cell_type": "code",
   "execution_count": 16,
   "metadata": {},
   "outputs": [
    {
     "data": {
      "text/plain": [
       "\"full_data['subpillars_2d_part1'] = full_data.subpillars_2d.apply(\\n    lambda x: [\\n        item for item in x if item.split('->')[0] in [\\n            'Humanitarian Conditions',\\n             'Impact',\\n            'At Risk',\\n        ]\\n    ]\\n)\\n\\nfull_data['subpillars_2d_part2'] = full_data.subpillars_2d.apply(\\n    lambda x: [\\n        item for item in x if item.split('->')[0] in [\\n            'Capacities & Response',\\n            'Priority Interventions',  \\n            'Priority Needs', \\n        ]\\n    ]\\n)\\n\""
      ]
     },
     "execution_count": 16,
     "metadata": {},
     "output_type": "execute_result"
    }
   ],
   "source": [
    "\"\"\"full_data['subpillars_2d_part1'] = full_data.subpillars_2d.apply(\n",
    "    lambda x: [\n",
    "        item for item in x if item.split('->')[0] in [\n",
    "            'Humanitarian Conditions',\n",
    "             'Impact',\n",
    "            'At Risk',\n",
    "        ]\n",
    "    ]\n",
    ")\n",
    "\n",
    "full_data['subpillars_2d_part2'] = full_data.subpillars_2d.apply(\n",
    "    lambda x: [\n",
    "        item for item in x if item.split('->')[0] in [\n",
    "            'Capacities & Response',\n",
    "            'Priority Interventions',  \n",
    "            'Priority Needs', \n",
    "        ]\n",
    "    ]\n",
    ")\n",
    "\"\"\""
   ]
  },
  {
   "cell_type": "code",
   "execution_count": 17,
   "metadata": {},
   "outputs": [
    {
     "data": {
      "text/plain": [
       "\"print('subpillars_1d_first_part',\\n    len(list(set(flatten(full_data.subpillars_1d_part1)))),\\n      '\\nsubpillars_1d_second_part',\\n      len(list(set(flatten(full_data.subpillars_1d_part2)))),\\n      '\\nsubpillars_1d_third_part',\\n      len(list(set(flatten(full_data.subpillars_1d_part3)))),\\n      '\\nsubpillars_2d_first_part',\\n      len(list(set(flatten(full_data.subpillars_2d_part1)))),\\n      '\\nsubpillars_2d_second_part',\\n      len(list(set(flatten(full_data.subpillars_2d_part2))))\\n)\""
      ]
     },
     "execution_count": 17,
     "metadata": {},
     "output_type": "execute_result"
    }
   ],
   "source": [
    "\"\"\"print('subpillars_1d_first_part',\n",
    "    len(list(set(flatten(full_data.subpillars_1d_part1)))),\n",
    "      '\\nsubpillars_1d_second_part',\n",
    "      len(list(set(flatten(full_data.subpillars_1d_part2)))),\n",
    "      '\\nsubpillars_1d_third_part',\n",
    "      len(list(set(flatten(full_data.subpillars_1d_part3)))),\n",
    "      '\\nsubpillars_2d_first_part',\n",
    "      len(list(set(flatten(full_data.subpillars_2d_part1)))),\n",
    "      '\\nsubpillars_2d_second_part',\n",
    "      len(list(set(flatten(full_data.subpillars_2d_part2))))\n",
    ")\"\"\""
   ]
  },
  {
   "cell_type": "code",
   "execution_count": null,
   "metadata": {},
   "outputs": [],
   "source": []
  },
  {
   "cell_type": "code",
   "execution_count": 18,
   "metadata": {},
   "outputs": [
    {
     "name": "stdout",
     "output_type": "stream",
     "text": [
      "[0, 1, 2, 3, 4]\n"
     ]
    },
    {
     "data": {
      "text/plain": [
       "Text(0.5, 1.0, '1d subpillars')"
      ]
     },
     "execution_count": 18,
     "metadata": {},
     "output_type": "execute_result"
    },
    {
     "data": {
      "image/png": "[encoded data removed]",
      "text/plain": [
       "<Figure size 432x288 with 1 Axes>"
      ]
     },
     "metadata": {
      "needs_background": "light"
     },
     "output_type": "display_data"
    }
   ],
   "source": [
    "import matplotlib.pyplot as plt\n",
    "flat_results = full_data.pillars_1d.apply(lambda x: len(x))\n",
    "print(list(set(flat_results)))\n",
    "sns.histplot(x=flat_results)\n",
    "plt.xlabel('nb of tags')\n",
    "plt.title('1d subpillars')"
   ]
  },
  {
   "cell_type": "code",
   "execution_count": 19,
   "metadata": {},
   "outputs": [
    {
     "name": "stdout",
     "output_type": "stream",
     "text": [
      "[0, 1, 2, 3, 4, 5]\n"
     ]
    },
    {
     "data": {
      "text/plain": [
       "Text(0.5, 1.0, '2d subpillars')"
      ]
     },
     "execution_count": 19,
     "metadata": {},
     "output_type": "execute_result"
    },
    {
     "data": {
      "image/png": "[encoded data removed]",
      "text/plain": [
       "<Figure size 432x288 with 1 Axes>"
      ]
     },
     "metadata": {
      "needs_background": "light"
     },
     "output_type": "display_data"
    }
   ],
   "source": [
    "flat_results = full_data.pillars_2d.apply(lambda x: len(x))\n",
    "print(list(set(flat_results)))\n",
    "sns.histplot(x=flat_results)\n",
    "plt.xlabel('nb of tags')\n",
    "plt.title('2d subpillars')"
   ]
  },
  {
   "cell_type": "code",
   "execution_count": null,
   "metadata": {},
   "outputs": [],
   "source": []
  },
  {
   "cell_type": "code",
   "execution_count": null,
   "metadata": {},
   "outputs": [],
   "source": []
  },
  {
   "cell_type": "code",
   "execution_count": 20,
   "metadata": {},
   "outputs": [
    {
     "name": "stdout",
     "output_type": "stream",
     "text": [
      "['Information And Communication', 'Displacement', 'Context', 'Shock/Event', 'Casualties', 'Humanitarian Access', 'Covid-19']\n"
     ]
    },
    {
     "data": {
      "text/plain": [
       "<AxesSubplot:xlabel='Count'>"
      ]
     },
     "execution_count": 20,
     "metadata": {},
     "output_type": "execute_result"
    },
    {
     "data": {
      "image/png": "[encoded data removed]",
      "text/plain": [
       "<Figure size 432x288 with 1 Axes>"
      ]
     },
     "metadata": {
      "needs_background": "light"
     },
     "output_type": "display_data"
    }
   ],
   "source": [
    "flat_results = flatten(full_data['pillars_1d'])\n",
    "print(list(set(flat_results)))\n",
    "sns.histplot(y=flat_results)"
   ]
  },
  {
   "cell_type": "code",
   "execution_count": 21,
   "metadata": {},
   "outputs": [
    {
     "name": "stdout",
     "output_type": "stream",
     "text": [
      "['Priority Needs', 'Impact', 'Capacities & Response', 'Humanitarian Conditions', 'Priority Interventions', 'At Risk']\n"
     ]
    },
    {
     "data": {
      "text/plain": [
       "<AxesSubplot:xlabel='Count'>"
      ]
     },
     "execution_count": 21,
     "metadata": {},
     "output_type": "execute_result"
    },
    {
     "data": {
      "image/png": "[encoded data removed]",
      "text/plain": [
       "<Figure size 432x288 with 1 Axes>"
      ]
     },
     "metadata": {
      "needs_background": "light"
     },
     "output_type": "display_data"
    }
   ],
   "source": [
    "flat_results = flatten(full_data['pillars_2d'])\n",
    "print(list(set(flat_results)))\n",
    "sns.histplot(y=flat_results)"
   ]
  },
  {
   "cell_type": "code",
   "execution_count": 22,
   "metadata": {},
   "outputs": [
    {
     "data": {
      "text/plain": [
       "\"full_data['subpillars_2d_part1'] = full_data.subpillars_2d.apply(\\n    lambda x: [\\n        item for item in x if item in [\\n            'Humanitarian Conditions->Living Standards',\\n             'Humanitarian Conditions->Physical And Mental Well Being',\\n             'Impact->Impact On Systems, Services And Networks',\\n             'Capacities & Response->International Response',\\n             'Impact->Driver/Aggravating Factors',\\n             'Impact->Impact On People',\\n             'At Risk->Risk And Vulnerabilities'\\n        ]\\n    ]\\n)\""
      ]
     },
     "execution_count": 22,
     "metadata": {},
     "output_type": "execute_result"
    }
   ],
   "source": [
    "\"\"\"full_data['subpillars_2d_part1'] = full_data.subpillars_2d.apply(\n",
    "    lambda x: [\n",
    "        item for item in x if item in [\n",
    "            'Humanitarian Conditions->Living Standards',\n",
    "             'Humanitarian Conditions->Physical And Mental Well Being',\n",
    "             'Impact->Impact On Systems, Services And Networks',\n",
    "             'Capacities & Response->International Response',\n",
    "             'Impact->Driver/Aggravating Factors',\n",
    "             'Impact->Impact On People',\n",
    "             'At Risk->Risk And Vulnerabilities'\n",
    "        ]\n",
    "    ]\n",
    ")\"\"\""
   ]
  },
  {
   "cell_type": "code",
   "execution_count": null,
   "metadata": {},
   "outputs": [],
   "source": []
  },
  {
   "cell_type": "code",
   "execution_count": null,
   "metadata": {},
   "outputs": [],
   "source": []
  },
  {
   "cell_type": "code",
   "execution_count": null,
   "metadata": {},
   "outputs": [],
   "source": []
  },
  {
   "cell_type": "code",
   "execution_count": null,
   "metadata": {},
   "outputs": [],
   "source": []
  },
  {
   "cell_type": "code",
   "execution_count": 23,
   "metadata": {},
   "outputs": [],
   "source": [
    "def custom_eval(x):\n",
    "    if str(x)=='nan':\n",
    "        return []\n",
    "    if str(x)=='[None]':\n",
    "        return []\n",
    "    if type(x)==list:\n",
    "        return x\n",
    "    else:\n",
    "        return literal_eval(x)\n",
    "    \n",
    "#full_data['affected_groups'] = full_data['affected_groups_level_0']"
   ]
  },
  {
   "cell_type": "code",
   "execution_count": 24,
   "metadata": {},
   "outputs": [
    {
     "data": {
      "text/plain": [
       "\"affected_groups_level_2_3_merger = {\\n    'Asylum Seekers': 'Displaced->Asylum Seekers', \\n    'Host': 'Non Displaced->Host', \\n    'Non Host': 'Non Displaced->Non Host',\\n    'IDP': 'Displaced->IDP', \\n    'In Transit': 'NOT_MAPPED', \\n    'Migrants': 'Displaced->Migrants',\\n    'NOT_MAPPED': 'NOT_MAPPED',\\n    'Others of Concern': 'NOT_MAPPED', \\n    'Pendular': 'NOT_MAPPED',\\n    'Permanent': 'NOT_MAPPED', \\n    'Refugees': 'Displaced->Refugees', \\n    'Returnees': 'Displaced->Returnees', \\n    'Stateless': 'Displaced->Stateless'\\n}\\nfull_data['affected_groups'] = full_data['affected_groups'].apply(\\n    lambda x: [affected_groups_level_2_3_merger[item] for item in custom_eval(x)               if affected_groups_level_2_3_merger[item]!='NOT_MAPPED']\\n)\""
      ]
     },
     "execution_count": 24,
     "metadata": {},
     "output_type": "execute_result"
    }
   ],
   "source": [
    "\"\"\"affected_groups_level_2_3_merger = {\n",
    "    'Asylum Seekers': 'Displaced->Asylum Seekers', \n",
    "    'Host': 'Non Displaced->Host', \n",
    "    'Non Host': 'Non Displaced->Non Host',\n",
    "    'IDP': 'Displaced->IDP', \n",
    "    'In Transit': 'NOT_MAPPED', \n",
    "    'Migrants': 'Displaced->Migrants',\n",
    "    'NOT_MAPPED': 'NOT_MAPPED',\n",
    "    'Others of Concern': 'NOT_MAPPED', \n",
    "    'Pendular': 'NOT_MAPPED',\n",
    "    'Permanent': 'NOT_MAPPED', \n",
    "    'Refugees': 'Displaced->Refugees', \n",
    "    'Returnees': 'Displaced->Returnees', \n",
    "    'Stateless': 'Displaced->Stateless'\n",
    "}\n",
    "full_data['affected_groups'] = full_data['affected_groups'].\\\n",
    "apply(\n",
    "    lambda x: [affected_groups_level_2_3_merger[item] for item in custom_eval(x)\\\n",
    "               if affected_groups_level_2_3_merger[item]!='NOT_MAPPED']\n",
    ")\"\"\""
   ]
  },
  {
   "cell_type": "code",
   "execution_count": null,
   "metadata": {},
   "outputs": [],
   "source": []
  },
  {
   "cell_type": "code",
   "execution_count": 25,
   "metadata": {},
   "outputs": [],
   "source": [
    "cols = ['gender', 'age',  'specific_needs_groups', 'severity', 'affected_groups']\n",
    "for col in cols:\n",
    "    full_data[col] = full_data[col].apply(\n",
    "       lambda x: [f\"{col}->{item}\" for item in custom_eval(x) if item!='NOT_MAPPED']\n",
    "    )"
   ]
  },
  {
   "cell_type": "code",
   "execution_count": 26,
   "metadata": {},
   "outputs": [
    {
     "data": {
      "text/plain": [
       "['severity->Minor Problem',\n",
       " 'severity->No problem',\n",
       " 'severity->Critical',\n",
       " 'severity->Of Concern',\n",
       " 'severity->Major']"
      ]
     },
     "execution_count": 26,
     "metadata": {},
     "output_type": "execute_result"
    }
   ],
   "source": [
    "list(set(flatten(full_data.severity.tolist())))"
   ]
  },
  {
   "cell_type": "code",
   "execution_count": 27,
   "metadata": {},
   "outputs": [
    {
     "data": {
      "text/plain": [
       "['specific_needs_groups->Indigenous people',\n",
       " 'specific_needs_groups->GBV survivors',\n",
       " 'specific_needs_groups->Single Women (including Widows)',\n",
       " 'specific_needs_groups->Persons with Disability',\n",
       " 'specific_needs_groups->Pregnant or Lactating Women',\n",
       " 'specific_needs_groups->Child Head of Household',\n",
       " 'specific_needs_groups->Unaccompanied or Separated Children',\n",
       " 'specific_needs_groups->Minorities',\n",
       " 'specific_needs_groups->Chronically Ill',\n",
       " 'specific_needs_groups->Elderly Head of Household',\n",
       " 'specific_needs_groups->Female Head of Household',\n",
       " 'specific_needs_groups->LGBTQI+']"
      ]
     },
     "execution_count": 27,
     "metadata": {},
     "output_type": "execute_result"
    }
   ],
   "source": [
    "list(set(flatten(full_data.specific_needs_groups.tolist())))"
   ]
  },
  {
   "cell_type": "code",
   "execution_count": 28,
   "metadata": {},
   "outputs": [
    {
     "data": {
      "text/plain": [
       "['age->Infants/Toddlers (<5 years old)',\n",
       " 'age->Children/Youth (5 to 17 years old)',\n",
       " 'age->Older Persons (60+ years old)',\n",
       " 'age->Adult (18 to 59 years old)']"
      ]
     },
     "execution_count": 28,
     "metadata": {},
     "output_type": "execute_result"
    }
   ],
   "source": [
    "list(set(flatten(full_data.age.tolist())))"
   ]
  },
  {
   "cell_type": "code",
   "execution_count": 29,
   "metadata": {},
   "outputs": [
    {
     "data": {
      "text/plain": [
       "['gender->Male', 'gender->Female']"
      ]
     },
     "execution_count": 29,
     "metadata": {},
     "output_type": "execute_result"
    }
   ],
   "source": [
    "list(set(flatten(full_data.gender.tolist())))"
   ]
  },
  {
   "cell_type": "code",
   "execution_count": 30,
   "metadata": {},
   "outputs": [
    {
     "data": {
      "text/plain": [
       "['affected_groups->Migrants',\n",
       " 'affected_groups->Refugees',\n",
       " 'affected_groups->IDP',\n",
       " 'affected_groups->Host',\n",
       " 'affected_groups->Asylum Seekers',\n",
       " 'affected_groups->Returnees']"
      ]
     },
     "execution_count": 30,
     "metadata": {},
     "output_type": "execute_result"
    }
   ],
   "source": [
    "list(set(flatten(full_data.affected_groups.tolist())))"
   ]
  },
  {
   "cell_type": "code",
   "execution_count": null,
   "metadata": {},
   "outputs": [],
   "source": []
  },
  {
   "cell_type": "code",
   "execution_count": 31,
   "metadata": {},
   "outputs": [],
   "source": [
    "full_data['subpillars'] = full_data.apply(\n",
    "    lambda x: x.subpillars_1d + x.subpillars_2d, axis=1\n",
    ")\n",
    "\n",
    "full_data['secondary_tags'] = full_data.apply(\n",
    "    lambda x:x.severity + x.gender + x.age + x.affected_groups + x.specific_needs_groups, axis=1\n",
    ")"
   ]
  },
  {
   "cell_type": "code",
   "execution_count": null,
   "metadata": {},
   "outputs": [],
   "source": []
  },
  {
   "cell_type": "code",
   "execution_count": 32,
   "metadata": {},
   "outputs": [
    {
     "data": {
      "text/plain": [
       "\"full_data['present_age'] = full_data.apply(\\n    lambda x: [column for column in [\\n        'age_original',\\n        'age_kw_pred'] if len(custom_eval(x[column]))>0], axis=1\\n               )\\nfull_data['present_gender'] = full_data.apply(\\n    lambda x: [column for column in [\\n        'gender_original',\\n        'gender_snorkel', 'gender_kw_pred'\\n    ] if len(custom_eval(x[column]))>0], axis=1\\n               )\\nfull_data['present_affected_groups_level_3'] = full_data.apply(\\n    lambda x: [column for column in [\\n        'affected_groups_level_3_original',\\n        'affected_groups_level_3_kw'] if len(custom_eval(x[column]))>0], axis=1\\n               )\""
      ]
     },
     "execution_count": 32,
     "metadata": {},
     "output_type": "execute_result"
    }
   ],
   "source": [
    "\"\"\"full_data['present_age'] = full_data.apply(\n",
    "    lambda x: [column for column in [\n",
    "        'age_original',\n",
    "        'age_kw_pred'] if len(custom_eval(x[column]))>0], axis=1\n",
    "               )\n",
    "full_data['present_gender'] = full_data.apply(\n",
    "    lambda x: [column for column in [\n",
    "        'gender_original',\n",
    "        'gender_snorkel', 'gender_kw_pred'\n",
    "    ] if len(custom_eval(x[column]))>0], axis=1\n",
    "               )\n",
    "full_data['present_affected_groups_level_3'] = full_data.apply(\n",
    "    lambda x: [column for column in [\n",
    "        'affected_groups_level_3_original',\n",
    "        'affected_groups_level_3_kw'] if len(custom_eval(x[column]))>0], axis=1\n",
    "               )\"\"\""
   ]
  },
  {
   "cell_type": "code",
   "execution_count": null,
   "metadata": {},
   "outputs": [],
   "source": []
  },
  {
   "cell_type": "code",
   "execution_count": null,
   "metadata": {},
   "outputs": [],
   "source": []
  },
  {
   "cell_type": "code",
   "execution_count": 33,
   "metadata": {},
   "outputs": [
    {
     "data": {
      "text/plain": [
       "\"def custom_eval(x):\\n    if type(x)==list:\\n        return x\\n    else:\\n        return literal_eval(x)\\n    \\nfull_data['affected_groups_level_3_nona'] = full_data['affected_groups_level_3'].apply(\\n    lambda x: [] if str(x)=='nan' else x\\n)\\nfull_data['affected_groups_levels_2_3'] = full_data['affected_groups_level_3_nona'].apply(\\n    lambda x: [affected_groups_level_2_3_merger[item] for item in custom_eval(x) if item!='None']\\n)\""
      ]
     },
     "execution_count": 33,
     "metadata": {},
     "output_type": "execute_result"
    }
   ],
   "source": [
    "\"\"\"def custom_eval(x):\n",
    "    if type(x)==list:\n",
    "        return x\n",
    "    else:\n",
    "        return literal_eval(x)\n",
    "    \n",
    "full_data['affected_groups_level_3_nona'] = full_data['affected_groups_level_3'].apply(\n",
    "    lambda x: [] if str(x)=='nan' else x\n",
    ")\n",
    "full_data['affected_groups_levels_2_3'] = full_data['affected_groups_level_3_nona'].\\\n",
    "apply(\n",
    "    lambda x: [affected_groups_level_2_3_merger[item] for item in custom_eval(x) if item!='None']\n",
    ")\"\"\""
   ]
  },
  {
   "cell_type": "code",
   "execution_count": null,
   "metadata": {},
   "outputs": [],
   "source": []
  },
  {
   "cell_type": "code",
   "execution_count": 34,
   "metadata": {},
   "outputs": [
    {
     "data": {
      "text/plain": [
       "\"np.unique(flatten(full_data.affected_groups_level_0.dropna().apply(literal_eval).tolist()))\\nnp.unique(flatten(full_data.affected_groups_level_1.dropna().apply(literal_eval).tolist()))\\nnp.unique(flatten(full_data.affected_groups_level_2.dropna().apply(literal_eval).tolist()))\\nnp.unique(flatten(full_data['affected_groups_levels_2_3'].apply(custom_eval).tolist()))\""
      ]
     },
     "execution_count": 34,
     "metadata": {},
     "output_type": "execute_result"
    }
   ],
   "source": [
    "\"\"\"np.unique(flatten(full_data.affected_groups_level_0.dropna().apply(literal_eval).tolist()))\n",
    "np.unique(flatten(full_data.affected_groups_level_1.dropna().apply(literal_eval).tolist()))\n",
    "np.unique(flatten(full_data.affected_groups_level_2.dropna().apply(literal_eval).tolist()))\n",
    "np.unique(flatten(full_data['affected_groups_levels_2_3'].apply(custom_eval).tolist()))\"\"\""
   ]
  },
  {
   "cell_type": "code",
   "execution_count": null,
   "metadata": {},
   "outputs": [],
   "source": []
  },
  {
   "cell_type": "code",
   "execution_count": 35,
   "metadata": {},
   "outputs": [
    {
     "data": {
      "text/plain": [
       "\"full_data['present_tags'] = full_data.apply(\\n    lambda x: [column for column in [\\n        'sectors','pillars_2d', 'pillars_1d', 'affected_groups_level_3_kw',\\n        'gender_kw_pred', 'age_kw_pred', 'specific_needs_groups'\\n    ] if len(x[column])>0], axis=1\\n               )\""
      ]
     },
     "execution_count": 35,
     "metadata": {},
     "output_type": "execute_result"
    }
   ],
   "source": [
    "\"\"\"full_data['present_tags'] = full_data.apply(\n",
    "    lambda x: [column for column in [\n",
    "        'sectors','pillars_2d', 'pillars_1d', 'affected_groups_level_3_kw',\n",
    "        'gender_kw_pred', 'age_kw_pred', 'specific_needs_groups'\n",
    "    ] if len(x[column])>0], axis=1\n",
    "               )\"\"\""
   ]
  },
  {
   "cell_type": "code",
   "execution_count": 36,
   "metadata": {},
   "outputs": [
    {
     "data": {
      "text/plain": [
       "Index(['entry_id', 'specific_needs_groups', 'gender', 'age', 'affected_groups',\n",
       "       'excerpt', 'analysis_framework_id', 'lead_id', 'project_id', 'verified',\n",
       "       'sectors', 'subpillars_2d', 'subpillars_1d', 'geo_location', 'severity',\n",
       "       'info_date', 'reliability', 'source_type', 'url', 'website', 'lang',\n",
       "       'translation_en', 'translation_fr', 'translation_es', 'pillars_1d',\n",
       "       'pillars_2d', 'subpillars', 'secondary_tags'],\n",
       "      dtype='object')"
      ]
     },
     "execution_count": 36,
     "metadata": {},
     "output_type": "execute_result"
    }
   ],
   "source": [
    "full_data.columns"
   ]
  },
  {
   "cell_type": "code",
   "execution_count": null,
   "metadata": {},
   "outputs": [],
   "source": []
  },
  {
   "cell_type": "code",
   "execution_count": 37,
   "metadata": {},
   "outputs": [],
   "source": [
    "train_val_full = full_data[~full_data.entry_id.isin(test_data.entry_id)]\n"
   ]
  },
  {
   "cell_type": "code",
   "execution_count": 38,
   "metadata": {},
   "outputs": [],
   "source": [
    "fr_df = train_val_full[['entry_id', 'translation_fr']]\\\n",
    "        .rename(columns={'translation_fr':'excerpt'}).dropna()\n",
    "en_df = train_val_full[['entry_id', 'translation_en']]\\\n",
    "        .rename(columns={'translation_en':'excerpt'}).dropna()\n",
    "es_df = train_val_full[['entry_id', 'translation_es']]\\\n",
    "        .rename(columns={'translation_es':'excerpt'}).dropna()\n",
    "\n",
    "augmented_data = pd.concat([en_df, fr_df, es_df])"
   ]
  },
  {
   "cell_type": "code",
   "execution_count": 39,
   "metadata": {},
   "outputs": [],
   "source": [
    "augmented_data = pd.merge(\n",
    "    right=train_val_full.drop(columns=[\n",
    "        'excerpt', 'translation_en', 'translation_fr', 'translation_es']\n",
    "                           ),\n",
    "    left=augmented_data[['entry_id', 'excerpt']],\n",
    "    on='entry_id',\n",
    "    how='right'\n",
    ")"
   ]
  },
  {
   "cell_type": "code",
   "execution_count": 40,
   "metadata": {},
   "outputs": [],
   "source": [
    "train_val_df = pd.concat([train_val_full, augmented_data]).drop(columns=[\n",
    "        'translation_en', 'translation_fr', 'translation_es', 'lang']\n",
    "                           )"
   ]
  },
  {
   "cell_type": "code",
   "execution_count": null,
   "metadata": {},
   "outputs": [],
   "source": []
  },
  {
   "cell_type": "code",
   "execution_count": 41,
   "metadata": {},
   "outputs": [],
   "source": [
    "train_val_df.to_csv(os.path.join(DATA_PATH, 'new_columns_train_val.csv'), index=None)"
   ]
  },
  {
   "cell_type": "code",
   "execution_count": null,
   "metadata": {},
   "outputs": [],
   "source": []
  },
  {
   "cell_type": "code",
   "execution_count": 42,
   "metadata": {},
   "outputs": [
    {
     "data": {
      "text/plain": [
       "\"test_df = full_data[full_data.entry_id.isin(test_data.entry_id)].drop(\\n    columns=['translation_en', 'translation_fr', 'translation_es']\\n)\\ntest_df['gender_snorkel'] = test_df['gender']\\ntest_df.to_csv(os.path.join(DATA_PATH, 'new_columns_test_v0.7.1.csv'), index=None)\""
      ]
     },
     "execution_count": 42,
     "metadata": {},
     "output_type": "execute_result"
    }
   ],
   "source": [
    "\"\"\"test_df = full_data[full_data.entry_id.isin(test_data.entry_id)].drop(\n",
    "    columns=['translation_en', 'translation_fr', 'translation_es']\n",
    ")\n",
    "test_df['gender_snorkel'] = test_df['gender']\n",
    "test_df.to_csv(os.path.join(DATA_PATH, 'new_columns_test_v0.7.1.csv'), index=None)\"\"\""
   ]
  },
  {
   "cell_type": "code",
   "execution_count": 43,
   "metadata": {},
   "outputs": [
    {
     "data": {
      "text/plain": [
       "(474077, 24)"
      ]
     },
     "execution_count": 43,
     "metadata": {},
     "output_type": "execute_result"
    }
   ],
   "source": [
    "train_val_df.shape"
   ]
  },
  {
   "cell_type": "code",
   "execution_count": null,
   "metadata": {},
   "outputs": [],
   "source": []
  },
  {
   "cell_type": "code",
   "execution_count": 44,
   "metadata": {},
   "outputs": [
    {
     "data": {
      "text/plain": [
       "Index(['entry_id', 'specific_needs_groups', 'gender', 'age', 'affected_groups',\n",
       "       'excerpt', 'analysis_framework_id', 'lead_id', 'project_id', 'verified',\n",
       "       'sectors', 'subpillars_2d', 'subpillars_1d', 'geo_location', 'severity',\n",
       "       'info_date', 'reliability', 'source_type', 'url', 'website',\n",
       "       'pillars_1d', 'pillars_2d', 'subpillars', 'secondary_tags'],\n",
       "      dtype='object')"
      ]
     },
     "execution_count": 44,
     "metadata": {},
     "output_type": "execute_result"
    }
   ],
   "source": [
    "train_val_df.columns"
   ]
  },
  {
   "cell_type": "code",
   "execution_count": null,
   "metadata": {},
   "outputs": [],
   "source": [
    "\n",
    "    \n"
   ]
  },
  {
   "cell_type": "code",
   "execution_count": null,
   "metadata": {},
   "outputs": [],
   "source": []
  },
  {
   "cell_type": "code",
   "execution_count": 45,
   "metadata": {},
   "outputs": [],
   "source": [
    "columns = ['sectors',\n",
    "           'subpillars_2d', \n",
    "           'subpillars_1d', \n",
    "           'secondary_tags']\n",
    "\n",
    "dict_cols = {}\n",
    "for col in columns:\n",
    "    unique_tags = list(set(flatten(full_data[col].tolist())))\n",
    "    dict_cols[col] = unique_tags"
   ]
  },
  {
   "cell_type": "code",
   "execution_count": 46,
   "metadata": {},
   "outputs": [
    {
     "data": {
      "text/plain": [
       "{'sectors': ['Cross',\n",
       "  'Education',\n",
       "  'Agriculture',\n",
       "  'Nutrition',\n",
       "  'Health',\n",
       "  'Food Security',\n",
       "  'WASH',\n",
       "  'Livelihoods',\n",
       "  'Shelter',\n",
       "  'Logistics',\n",
       "  'Protection'],\n",
       " 'subpillars_2d': ['Capacities & Response->Local Response',\n",
       "  'Impact->Driver/Aggravating Factors',\n",
       "  'Humanitarian Conditions->Living Standards',\n",
       "  'Humanitarian Conditions->Number Of People In Need',\n",
       "  'Capacities & Response->International Response',\n",
       "  'Capacities & Response->Number Of People Reached/Response Gaps',\n",
       "  'At Risk->Risk And Vulnerabilities',\n",
       "  'Humanitarian Conditions->Physical And Mental Well Being',\n",
       "  'At Risk->Number Of People At Risk',\n",
       "  'Impact->Impact On Systems, Services And Networks',\n",
       "  'Priority Interventions->Expressed By Population',\n",
       "  'Capacities & Response->National Response',\n",
       "  'Priority Needs->Expressed By Humanitarian Staff',\n",
       "  'Priority Interventions->Expressed By Humanitarian Staff',\n",
       "  'Impact->Number Of People Affected',\n",
       "  'Priority Needs->Expressed By Population',\n",
       "  'Humanitarian Conditions->Coping Mechanisms',\n",
       "  'Impact->Impact On People'],\n",
       " 'subpillars_1d': ['Humanitarian Access->Population To Relief',\n",
       "  'Covid-19->Vaccination',\n",
       "  'Context->Legal & Policy',\n",
       "  'Shock/Event->Type And Characteristics',\n",
       "  'Covid-19->Cases',\n",
       "  'Context->Socio Cultural',\n",
       "  'Casualties->Injured',\n",
       "  'Covid-19->Restriction Measures',\n",
       "  'Context->Politics',\n",
       "  'Context->Economy',\n",
       "  'Information And Communication->Knowledge And Info Gaps (Pop)',\n",
       "  'Information And Communication->Knowledge And Info Gaps (Hum)',\n",
       "  'Context->Environment',\n",
       "  'Displacement->Pull Factors',\n",
       "  'Context->Demography',\n",
       "  'Humanitarian Access->Physical Constraints',\n",
       "  'Covid-19->Contact Tracing',\n",
       "  'Displacement->Push Factors',\n",
       "  'Covid-19->Hospitalization & Care',\n",
       "  'Casualties->Dead',\n",
       "  'Displacement->Intentions',\n",
       "  'Shock/Event->Underlying/Aggravating Factors',\n",
       "  'Information And Communication->Information Challenges And Barriers',\n",
       "  'Displacement->Local Integration',\n",
       "  'Humanitarian Access->Relief To Population',\n",
       "  'Shock/Event->Hazard & Threats',\n",
       "  'Displacement->Type/Numbers/Movements',\n",
       "  'Information And Communication->Communication Means And Preferences',\n",
       "  'Casualties->Missing',\n",
       "  'Humanitarian Access->Number Of People Facing Humanitarian Access Constraints/Humanitarian Access Gaps',\n",
       "  'Covid-19->Deaths',\n",
       "  'Covid-19->Testing',\n",
       "  'Context->Security & Stability'],\n",
       " 'secondary_tags': ['specific_needs_groups->Indigenous people',\n",
       "  'affected_groups->IDP',\n",
       "  'age->Infants/Toddlers (<5 years old)',\n",
       "  'severity->Critical',\n",
       "  'specific_needs_groups->Persons with Disability',\n",
       "  'affected_groups->Asylum Seekers',\n",
       "  'specific_needs_groups->Child Head of Household',\n",
       "  'specific_needs_groups->Female Head of Household',\n",
       "  'affected_groups->Returnees',\n",
       "  'affected_groups->Migrants',\n",
       "  'specific_needs_groups->GBV survivors',\n",
       "  'affected_groups->Refugees',\n",
       "  'severity->No problem',\n",
       "  'age->Children/Youth (5 to 17 years old)',\n",
       "  'age->Older Persons (60+ years old)',\n",
       "  'affected_groups->Host',\n",
       "  'specific_needs_groups->Pregnant or Lactating Women',\n",
       "  'age->Adult (18 to 59 years old)',\n",
       "  'severity->Major',\n",
       "  'specific_needs_groups->Elderly Head of Household',\n",
       "  'gender->Female',\n",
       "  'specific_needs_groups->LGBTQI+',\n",
       "  'specific_needs_groups->Minorities',\n",
       "  'specific_needs_groups->Single Women (including Widows)',\n",
       "  'severity->Minor Problem',\n",
       "  'gender->Male',\n",
       "  'severity->Of Concern',\n",
       "  'specific_needs_groups->Unaccompanied or Separated Children',\n",
       "  'specific_needs_groups->Chronically Ill']}"
      ]
     },
     "execution_count": 46,
     "metadata": {},
     "output_type": "execute_result"
    }
   ],
   "source": [
    "dict_cols"
   ]
  },
  {
   "cell_type": "code",
   "execution_count": 47,
   "metadata": {},
   "outputs": [
    {
     "name": "stderr",
     "output_type": "stream",
     "text": [
      "/home/selim/anaconda3/lib/python3.8/site-packages/IPython/core/interactiveshell.py:3146: DtypeWarning: Columns (9) have mixed types.Specify dtype option on import or set low_memory=False.\n",
      "  has_raised = await self.run_ast_nodes(code_ast.body, cell_name,\n"
     ]
    }
   ],
   "source": [
    "DATA_PATH = os.path.join(\n",
    "    '..', '..', '..', \"data\", \"frameworks_data\", 'data_v0.7.1'\n",
    ")\n",
    "train_val_df = pd.read_csv(os.path.join(DATA_PATH, 'new_columns_train_val.csv'))"
   ]
  },
  {
   "cell_type": "code",
   "execution_count": null,
   "metadata": {},
   "outputs": [],
   "source": []
  },
  {
   "cell_type": "code",
   "execution_count": 48,
   "metadata": {},
   "outputs": [
    {
     "name": "stderr",
     "output_type": "stream",
     "text": [
      "/home/selim/anaconda3/lib/python3.8/site-packages/IPython/core/interactiveshell.py:3146: DtypeWarning: Columns (6) have mixed types.Specify dtype option on import or set low_memory=False.\n",
      "  has_raised = await self.run_ast_nodes(code_ast.body, cell_name,\n"
     ]
    }
   ],
   "source": [
    "DATA_PATH = os.path.join(\n",
    "    '..', '..', '..', \"data\", \"frameworks_data\", 'data_v0.7.1'\n",
    ")\n",
    "\n",
    "tot_df = pd.read_csv(os.path.join(DATA_PATH, 'new_columns_train_val.csv')).drop_duplicates()\n",
    "test_df = pd.read_csv(os.path.join(DATA_PATH, 'new_columns_test_v0.7.1.csv'))"
   ]
  },
  {
   "cell_type": "code",
   "execution_count": 49,
   "metadata": {},
   "outputs": [
    {
     "data": {
      "text/plain": [
       "6"
      ]
     },
     "execution_count": 49,
     "metadata": {},
     "output_type": "execute_result"
    }
   ],
   "source": [
    "len(set(flat_results))"
   ]
  },
  {
   "cell_type": "code",
   "execution_count": 50,
   "metadata": {},
   "outputs": [
    {
     "data": {
      "text/plain": [
       "Counter({'severity->Of Concern': 33001,\n",
       "         'affected_groups->Migrants': 33426,\n",
       "         'severity->Major': 44085,\n",
       "         'age->Children/Youth (5 to 17 years old)': 53064,\n",
       "         'gender->Female': 65372,\n",
       "         'gender->Male': 36137,\n",
       "         'affected_groups->Refugees': 36326,\n",
       "         'severity->Critical': 41876,\n",
       "         'specific_needs_groups->GBV survivors': 19625,\n",
       "         'age->Infants/Toddlers (<5 years old)': 10655,\n",
       "         'specific_needs_groups->Pregnant or Lactating Women': 7929,\n",
       "         'specific_needs_groups->Female Head of Household': 2850,\n",
       "         'specific_needs_groups->Persons with Disability': 6732,\n",
       "         'specific_needs_groups->Chronically Ill': 18413,\n",
       "         'specific_needs_groups->LGBTQI+': 1401,\n",
       "         'affected_groups->Host': 20444,\n",
       "         'affected_groups->Returnees': 15821,\n",
       "         'specific_needs_groups->Indigenous people': 4308,\n",
       "         'specific_needs_groups->Minorities': 6882,\n",
       "         'age->Older Persons (60+ years old)': 6234,\n",
       "         'affected_groups->IDP': 51797,\n",
       "         'specific_needs_groups->Unaccompanied or Separated Children': 3219,\n",
       "         'affected_groups->Asylum Seekers': 3720,\n",
       "         'age->Adult (18 to 59 years old)': 5514,\n",
       "         'specific_needs_groups->Single Women (including Widows)': 963,\n",
       "         'specific_needs_groups->Elderly Head of Household': 312,\n",
       "         'specific_needs_groups->Child Head of Household': 501,\n",
       "         'severity->Minor Problem': 486,\n",
       "         'severity->No problem': 5781})"
      ]
     },
     "execution_count": 50,
     "metadata": {},
     "output_type": "execute_result"
    }
   ],
   "source": [
    "from collections import Counter\n",
    "flat_results = flatten(tot_df.secondary_tags.apply(literal_eval))\n",
    "Counter(flat_results)"
   ]
  },
  {
   "cell_type": "code",
   "execution_count": 51,
   "metadata": {},
   "outputs": [
    {
     "data": {
      "text/plain": [
       "'Information And Communication, Displacement, Context, Priority Needs, Impact, Capacities & Response, Shock/Event, Humanitarian Conditions, Priority Interventions, Casualties, At Risk, Humanitarian Access, Covid-19'"
      ]
     },
     "execution_count": 51,
     "metadata": {},
     "output_type": "execute_result"
    }
   ],
   "source": [
    "', '.join(list(set(flatten(tot_df.subpillars.apply(literal_eval).apply(\n",
    "    lambda t: [x.split('->')[0] for x in t]\n",
    ")))))"
   ]
  },
  {
   "cell_type": "code",
   "execution_count": 52,
   "metadata": {},
   "outputs": [],
   "source": [
    "tot_df['target'] = tot_df.secondary_tags.apply(literal_eval)"
   ]
  },
  {
   "cell_type": "code",
   "execution_count": 53,
   "metadata": {},
   "outputs": [],
   "source": [
    "import random\n",
    "\n",
    "def custom_stratified_train_test_split(df, ratios):\n",
    "    \"\"\"\n",
    "    custom function for stratified train test splitting\n",
    "    1) take unique sub-tags (example: ['Health'])\n",
    "    2) For each unique subtag:\n",
    "        i) take all indexes that have that specific subtag\n",
    "        ii) split them randomly to train and test sets\n",
    "    \"\"\"\n",
    "    train_ids = []\n",
    "    val_ids = []\n",
    "    positive_df = df.copy()\n",
    "    positive_df[\"target\"] = positive_df[\"target\"].apply(str)\n",
    "    ids = positive_df.groupby(\"target\")[\"entry_id\"].agg(list).values\n",
    "    unique_ids = [list(np.unique(list_)) for list_ in ids]\n",
    "\n",
    "    for ids_entry in unique_ids:\n",
    "\n",
    "        train_ids_entry = random.sample(\n",
    "            ids_entry, int(len(ids_entry) * ratios[\"train\"])\n",
    "        )\n",
    "        val_ids_entry = list(set(ids_entry) - set(train_ids_entry))\n",
    "\n",
    "        train_ids.append(train_ids_entry)\n",
    "        val_ids.append(val_ids_entry)\n",
    "\n",
    "    return flatten(train_ids), flatten(val_ids)"
   ]
  },
  {
   "cell_type": "code",
   "execution_count": 54,
   "metadata": {},
   "outputs": [],
   "source": [
    "ratios = {\n",
    "    \"train\": 0.8,\n",
    "    \"val\": 0.2,\n",
    "}\n",
    "\n",
    "train_pos_entries, val_pos_entries = custom_stratified_train_test_split(\n",
    "    tot_df, ratios\n",
    ")\n",
    "\n",
    "df_train = tot_df[tot_df.entry_id.isin(train_pos_entries)]\n",
    "df_val = tot_df[tot_df.entry_id.isin(val_pos_entries)]"
   ]
  },
  {
   "cell_type": "code",
   "execution_count": 55,
   "metadata": {},
   "outputs": [
    {
     "data": {
      "text/plain": [
       "(29, 29)"
      ]
     },
     "execution_count": 55,
     "metadata": {},
     "output_type": "execute_result"
    }
   ],
   "source": [
    "len(list(set(flatten(df_train.target)))), len(list(set(flatten(df_val.target))))"
   ]
  },
  {
   "cell_type": "code",
   "execution_count": null,
   "metadata": {},
   "outputs": [],
   "source": []
  }
 ],
 "metadata": {
  "kernelspec": {
   "display_name": "Python 3",
   "language": "python",
   "name": "python3"
  },
  "language_info": {
   "codemirror_mode": {
    "name": "ipython",
    "version": 3
   },
   "file_extension": ".py",
   "mimetype": "text/x-python",
   "name": "python",
   "nbconvert_exporter": "python",
   "pygments_lexer": "ipython3",
   "version": "3.8.5"
  }
 },
 "nbformat": 4,
 "nbformat_minor": 4
}
