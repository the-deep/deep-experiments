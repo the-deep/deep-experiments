{
 "cells": [
  {
   "cell_type": "code",
   "execution_count": 7,
   "metadata": {},
   "outputs": [],
   "source": [
    "import pandas as pd\n",
    "import os\n",
    "from ast import literal_eval\n",
    "from tqdm import tqdm\n",
    "import numpy as np"
   ]
  },
  {
   "cell_type": "code",
   "execution_count": 8,
   "metadata": {},
   "outputs": [],
   "source": [
    "DATA_PATH = os.path.join(\n",
    "    '..', '..', '..', \"data\", \"frameworks_data\", 'data_v0.7.1'\n",
    ")"
   ]
  },
  {
   "cell_type": "code",
   "execution_count": 9,
   "metadata": {},
   "outputs": [],
   "source": [
    "full_data = pd.read_csv(os.path.join(DATA_PATH, 'full_dataset_with_translations.csv'))\n",
    "test_data = pd.read_csv(os.path.join(DATA_PATH, 'test_v0.7.1.csv'))"
   ]
  },
  {
   "cell_type": "code",
   "execution_count": null,
   "metadata": {},
   "outputs": [],
   "source": []
  },
  {
   "cell_type": "code",
   "execution_count": 10,
   "metadata": {},
   "outputs": [],
   "source": [
    "full_data['present_prim_tags'] = full_data.apply(\n",
    "    lambda x: [column for column in ['sectors','subpillars_2d', 'subpillars_1d'] if len(x[column])>2], axis=1\n",
    "               )"
   ]
  },
  {
   "cell_type": "code",
   "execution_count": 11,
   "metadata": {},
   "outputs": [],
   "source": [
    "full_data['pillars_1d'] = full_data.subpillars_1d.apply(\n",
    "    lambda x: list(np.unique([item.split('->')[0] for item in literal_eval(x)]))\n",
    "               )"
   ]
  },
  {
   "cell_type": "code",
   "execution_count": 12,
   "metadata": {},
   "outputs": [],
   "source": [
    "full_data['pillars_2d'] = full_data.subpillars_2d.apply(\n",
    "    lambda x: list(np.unique([item.split('->')[0] for item in literal_eval(x)]))\n",
    "               )"
   ]
  },
  {
   "cell_type": "code",
   "execution_count": 13,
   "metadata": {},
   "outputs": [],
   "source": [
    "full_data['impact_capresp_humcond'] = full_data.subpillars_2d.apply(\n",
    "    lambda x: [\n",
    "        item for item in literal_eval(x) if item.split('->')[0] in [\n",
    "            'Capacities & Response', 'Humanitarian Conditions', 'Impact'\n",
    "        ]\n",
    "    ]\n",
    ")"
   ]
  },
  {
   "cell_type": "code",
   "execution_count": 14,
   "metadata": {},
   "outputs": [],
   "source": [
    "full_data['need_intervention_risk'] = full_data.subpillars_2d.apply(\n",
    "    lambda x: [\n",
    "        item for item in literal_eval(x) if item.split('->')[0] in [\n",
    "            'At Risk', 'Priority Needs', 'Priority Interventions'\n",
    "        ]\n",
    "    ]\n",
    ")"
   ]
  },
  {
   "cell_type": "code",
   "execution_count": 15,
   "metadata": {},
   "outputs": [],
   "source": [
    "full_data['context_covid'] = full_data.subpillars_1d.apply(\n",
    "    lambda x: [\n",
    "        item for item in literal_eval(x) if item.split('->')[0] in [\n",
    "            'Context', 'Covid-19'\n",
    "        ]\n",
    "    ]\n",
    ")"
   ]
  },
  {
   "cell_type": "code",
   "execution_count": 16,
   "metadata": {},
   "outputs": [],
   "source": [
    "full_data['displacement_shockevent'] = full_data.subpillars_1d.apply(\n",
    "    lambda x: [\n",
    "        item for item in literal_eval(x) if item.split('->')[0] in [\n",
    "            'Displacement', 'Shock/Event'\n",
    "        ]\n",
    "    ]\n",
    ")"
   ]
  },
  {
   "cell_type": "code",
   "execution_count": 17,
   "metadata": {},
   "outputs": [],
   "source": [
    "full_data['access_infcom_casualities'] = full_data.subpillars_1d.apply(\n",
    "    lambda x: [\n",
    "        item for item in literal_eval(x) if item.split('->')[0] in [\n",
    "            'Humanitarian Access', 'Information And Communication', 'Casualties'\n",
    "        ]\n",
    "    ]\n",
    ")"
   ]
  },
  {
   "cell_type": "code",
   "execution_count": null,
   "metadata": {},
   "outputs": [],
   "source": []
  },
  {
   "cell_type": "code",
   "execution_count": null,
   "metadata": {},
   "outputs": [],
   "source": []
  },
  {
   "cell_type": "code",
   "execution_count": null,
   "metadata": {},
   "outputs": [],
   "source": []
  },
  {
   "cell_type": "code",
   "execution_count": null,
   "metadata": {},
   "outputs": [],
   "source": []
  },
  {
   "cell_type": "code",
   "execution_count": null,
   "metadata": {},
   "outputs": [],
   "source": []
  },
  {
   "cell_type": "code",
   "execution_count": 18,
   "metadata": {},
   "outputs": [],
   "source": [
    "train_val_full = full_data[~full_data.entry_id.isin(test_data.entry_id)]"
   ]
  },
  {
   "cell_type": "code",
   "execution_count": 19,
   "metadata": {},
   "outputs": [],
   "source": [
    "fr_df = train_val_full[['entry_id', 'translation_fr']]\\\n",
    "        .rename(columns={'translation_fr':'excerpt'}).dropna()\n",
    "en_df = train_val_full[['entry_id', 'translation_en']]\\\n",
    "        .rename(columns={'translation_en':'excerpt'}).dropna()\n",
    "es_df = train_val_full[['entry_id', 'translation_es']]\\\n",
    "        .rename(columns={'translation_es':'excerpt'}).dropna()\n",
    "\n",
    "augmented_data = pd.concat([en_df, fr_df, es_df])"
   ]
  },
  {
   "cell_type": "code",
   "execution_count": 20,
   "metadata": {},
   "outputs": [],
   "source": [
    "augmented_data = pd.merge(\n",
    "    right=train_val_full.drop(columns=[\n",
    "        'excerpt', 'translation_en', 'translation_fr', 'translation_es']\n",
    "                           ),\n",
    "    left=augmented_data[['entry_id', 'excerpt']],\n",
    "    on='entry_id',\n",
    "    how='right'\n",
    ")"
   ]
  },
  {
   "cell_type": "code",
   "execution_count": 21,
   "metadata": {},
   "outputs": [],
   "source": [
    "train_val_df = pd.concat([train_val_full, augmented_data]).drop(columns=[\n",
    "        'translation_en', 'translation_fr', 'translation_es', 'lang']\n",
    "                           )"
   ]
  },
  {
   "cell_type": "code",
   "execution_count": 22,
   "metadata": {},
   "outputs": [],
   "source": [
    "train_val_df.to_csv(os.path.join(DATA_PATH, 'new_columns_train_val.csv'))"
   ]
  },
  {
   "cell_type": "code",
   "execution_count": 23,
   "metadata": {},
   "outputs": [],
   "source": [
    "test_df = full_data[full_data.entry_id.isin(test_data.entry_id)].drop(\n",
    "    columns=['translation_en', 'translation_fr', 'translation_es']\n",
    ")\n",
    "test_df.to_csv(os.path.join(DATA_PATH, 'new_columns_test_v0.7.1.csv'))"
   ]
  },
  {
   "cell_type": "code",
   "execution_count": 18,
   "metadata": {},
   "outputs": [
    {
     "data": {
      "text/plain": [
       "(422327, 31)"
      ]
     },
     "execution_count": 18,
     "metadata": {},
     "output_type": "execute_result"
    }
   ],
   "source": [
    "train_val_df.shape"
   ]
  },
  {
   "cell_type": "code",
   "execution_count": 19,
   "metadata": {},
   "outputs": [
    {
     "data": {
      "text/plain": [
       "(17202, 31)"
      ]
     },
     "execution_count": 19,
     "metadata": {},
     "output_type": "execute_result"
    }
   ],
   "source": [
    "test_df.shape"
   ]
  },
  {
   "cell_type": "code",
   "execution_count": 9,
   "metadata": {},
   "outputs": [],
   "source": [
    "train_val_data = pd.read_csv(os.path.join(DATA_PATH, 'prim_tags.csv'))\n"
   ]
  },
  {
   "cell_type": "code",
   "execution_count": 16,
   "metadata": {},
   "outputs": [
    {
     "data": {
      "text/plain": [
       "326079"
      ]
     },
     "execution_count": 16,
     "metadata": {},
     "output_type": "execute_result"
    }
   ],
   "source": [
    "train_val_data.sectors.apply(lambda x: len(x)>2).sum()"
   ]
  },
  {
   "cell_type": "code",
   "execution_count": 14,
   "metadata": {},
   "outputs": [],
   "source": [
    "tot_df = pd.read_csv(os.path.join(DATA_PATH, 'new_columns_train_val.csv'))\n"
   ]
  },
  {
   "cell_type": "code",
   "execution_count": 15,
   "metadata": {},
   "outputs": [
    {
     "data": {
      "text/plain": [
       "327001"
      ]
     },
     "execution_count": 15,
     "metadata": {},
     "output_type": "execute_result"
    }
   ],
   "source": [
    "tot_df.drop_duplicates().sectors.apply(lambda x: len(x)>2).sum()"
   ]
  },
  {
   "cell_type": "code",
   "execution_count": null,
   "metadata": {},
   "outputs": [],
   "source": []
  },
  {
   "cell_type": "code",
   "execution_count": null,
   "metadata": {},
   "outputs": [],
   "source": []
  },
  {
   "cell_type": "code",
   "execution_count": null,
   "metadata": {},
   "outputs": [],
   "source": []
  }
 ],
 "metadata": {
  "kernelspec": {
   "display_name": "Python 3",
   "language": "python",
   "name": "python3"
  },
  "language_info": {
   "codemirror_mode": {
    "name": "ipython",
    "version": 3
   },
   "file_extension": ".py",
   "mimetype": "text/x-python",
   "name": "python",
   "nbconvert_exporter": "python",
   "pygments_lexer": "ipython3",
   "version": "3.8.5"
  }
 },
 "nbformat": 4,
 "nbformat_minor": 4
}
