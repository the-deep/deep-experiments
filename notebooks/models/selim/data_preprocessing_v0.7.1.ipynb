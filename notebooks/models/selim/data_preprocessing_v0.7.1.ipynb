{
 "cells": [
  {
   "cell_type": "code",
   "execution_count": 1,
   "metadata": {},
   "outputs": [],
   "source": [
    "import pandas as pd\n",
    "import os\n",
    "from ast import literal_eval\n",
    "from tqdm import tqdm\n",
    "import numpy as np\n",
    "\n",
    "import seaborn as sns"
   ]
  },
  {
   "cell_type": "code",
   "execution_count": 4,
   "metadata": {},
   "outputs": [],
   "source": [
    "def flatten(t):\n",
    "    return [item for sublist in t for item in sublist]"
   ]
  },
  {
   "cell_type": "code",
   "execution_count": 3,
   "metadata": {},
   "outputs": [],
   "source": [
    "DATA_PATH = os.path.join(\n",
    "    '..', '..', '..', \"data\", \"frameworks_data\", 'data_v0.7.1'\n",
    ")"
   ]
  },
  {
   "cell_type": "code",
   "execution_count": 4,
   "metadata": {},
   "outputs": [
    {
     "name": "stderr",
     "output_type": "stream",
     "text": [
      "/home/selim/anaconda3/lib/python3.8/site-packages/IPython/core/interactiveshell.py:3146: DtypeWarning: Columns (5) have mixed types.Specify dtype option on import or set low_memory=False.\n",
      "  has_raised = await self.run_ast_nodes(code_ast.body, cell_name,\n"
     ]
    }
   ],
   "source": [
    "full_data = pd.read_csv(os.path.join(DATA_PATH, 'full_dataset_with_translations.csv'))\n",
    "test_data = pd.read_csv(os.path.join(DATA_PATH, 'test_v0.7.1.csv'))\n",
    "modified_age = pd.concat([\n",
    "    pd.read_csv(os.path.join(DATA_PATH, 'train_v0.7.1_gender_snorkel.csv')),\n",
    "    pd.read_csv(os.path.join(DATA_PATH, 'val_v0.7.1_gender_snorkel.csv'))\n",
    "])\n",
    "keyword_affected = pd.concat([\n",
    "    pd.read_csv(os.path.join(DATA_PATH, 'train_0.7.1_keyword_affected_groups_level_3.csv')),\n",
    "    pd.read_csv(os.path.join(DATA_PATH, 'val_0.7.1_keyword_affected_groups_level_3.csv'))\n",
    "])\n",
    "keyword_age = pd.concat([\n",
    "    pd.read_csv(os.path.join(DATA_PATH, 'train_0.7.1_keyword_age.csv')),\n",
    "    pd.read_csv(os.path.join(DATA_PATH, 'val_0.7.1_keyword_age.csv'))\n",
    "])\n",
    "keyword_gender = pd.concat([\n",
    "    pd.read_csv(os.path.join(DATA_PATH, 'train_0.7.1_keyword_gender.csv')),\n",
    "    pd.read_csv(os.path.join(DATA_PATH, 'val_0.7.1_keyword_gender.csv'))\n",
    "])\n"
   ]
  },
  {
   "cell_type": "code",
   "execution_count": null,
   "metadata": {},
   "outputs": [],
   "source": []
  },
  {
   "cell_type": "code",
   "execution_count": 5,
   "metadata": {},
   "outputs": [],
   "source": [
    "full_data = pd.merge(\n",
    "    right=full_data,\n",
    "    left=modified_age,\n",
    "    on='entry_id',\n",
    "    how='right'\n",
    ")\n",
    "full_data = pd.merge(\n",
    "    right=full_data,\n",
    "    left=keyword_affected,\n",
    "    on='entry_id',\n",
    "    how='right'\n",
    ")\n",
    "full_data = pd.merge(\n",
    "    right=full_data,\n",
    "    left=keyword_age,\n",
    "    on='entry_id',\n",
    "    how='right'\n",
    ")\n",
    "full_data = pd.merge(\n",
    "    right=full_data,\n",
    "    left=keyword_gender,\n",
    "    on='entry_id',\n",
    "    how='right'\n",
    ")"
   ]
  },
  {
   "cell_type": "code",
   "execution_count": 6,
   "metadata": {},
   "outputs": [
    {
     "data": {
      "text/plain": [
       "Index(['entry_id', 'gender_kw_pred', 'age_kw_pred',\n",
       "       'affected_groups_level_3_kw', 'gender_snorkel', 'excerpt',\n",
       "       'analysis_framework_id', 'lead_id', 'project_id', 'verified', 'sectors',\n",
       "       'subpillars_2d', 'subpillars_1d', 'geo_location',\n",
       "       'specific_needs_groups', 'severity', 'info_date', 'reliability',\n",
       "       'affected_groups_level_0', 'affected_groups_level_1',\n",
       "       'affected_groups_level_2', 'affected_groups_level_3', 'age', 'gender',\n",
       "       'source_type', 'url', 'website', 'lang', 'translation_en',\n",
       "       'translation_fr', 'translation_es'],\n",
       "      dtype='object')"
      ]
     },
     "execution_count": 6,
     "metadata": {},
     "output_type": "execute_result"
    }
   ],
   "source": [
    "full_data.columns"
   ]
  },
  {
   "cell_type": "code",
   "execution_count": null,
   "metadata": {},
   "outputs": [],
   "source": []
  },
  {
   "cell_type": "code",
   "execution_count": null,
   "metadata": {},
   "outputs": [],
   "source": []
  },
  {
   "cell_type": "code",
   "execution_count": 7,
   "metadata": {},
   "outputs": [],
   "source": [
    "full_data['sectors'] = full_data.sectors.apply(\n",
    "    lambda x: [item for item in literal_eval(x) if item !='NOT_MAPPED']\n",
    ")\n",
    "full_data['subpillars_2d'] = full_data.subpillars_2d.apply(\n",
    "    lambda x: [item for item in literal_eval(x) if item !='NOT_MAPPED']\n",
    ")\n",
    "full_data['subpillars_1d'] = full_data.subpillars_1d.apply(\n",
    "    lambda x: [item for item in literal_eval(x) if item !='NOT_MAPPED']\n",
    ")\n",
    "full_data['pillars_1d'] = full_data.subpillars_1d.apply(\n",
    "    lambda x: list(np.unique([item.split('->')[0] for item in x]))\n",
    "               )\n",
    "full_data['pillars_2d'] = full_data.subpillars_2d.apply(\n",
    "    lambda x: list(np.unique([item.split('->')[0] for item in x]))\n",
    "               )"
   ]
  },
  {
   "cell_type": "code",
   "execution_count": 8,
   "metadata": {},
   "outputs": [],
   "source": [
    "#full_data['subpillars']"
   ]
  },
  {
   "cell_type": "code",
   "execution_count": 9,
   "metadata": {},
   "outputs": [
    {
     "data": {
      "text/plain": [
       "(['At Risk',\n",
       "  'Capacities & Response',\n",
       "  'Humanitarian Conditions',\n",
       "  'Impact',\n",
       "  'Priority Interventions',\n",
       "  'Priority Needs'],\n",
       " ['Casualties',\n",
       "  'Context',\n",
       "  'Covid-19',\n",
       "  'Displacement',\n",
       "  'Humanitarian Access',\n",
       "  'Information And Communication',\n",
       "  'Shock/Event'],\n",
       " ['At Risk',\n",
       "  'Capacities & Response',\n",
       "  'Humanitarian Conditions',\n",
       "  'Impact',\n",
       "  'Priority Interventions',\n",
       "  'Priority Needs',\n",
       "  'Casualties',\n",
       "  'Context',\n",
       "  'Covid-19',\n",
       "  'Displacement',\n",
       "  'Humanitarian Access',\n",
       "  'Information And Communication',\n",
       "  'Shock/Event'])"
      ]
     },
     "execution_count": 9,
     "metadata": {},
     "output_type": "execute_result"
    }
   ],
   "source": [
    "all_pillars_2d = list(np.unique(flatten(full_data['pillars_2d'])))\n",
    "all_pillars_1d = list(np.unique(flatten(full_data['pillars_1d'])))\n",
    "all_pillars = all_pillars_2d + all_pillars_1d\n",
    "all_pillars_2d, all_pillars_1d, all_pillars"
   ]
  },
  {
   "cell_type": "code",
   "execution_count": 10,
   "metadata": {},
   "outputs": [],
   "source": [
    "for one_pillar in all_pillars_1d:\n",
    "    full_data[one_pillar] = full_data.subpillars_1d.apply(\n",
    "        lambda x: [item for item in x if one_pillar in item]\n",
    "    )\n",
    "    \n",
    "for one_pillar in all_pillars_2d:\n",
    "    full_data[one_pillar] = full_data.subpillars_2d.apply(\n",
    "        lambda x: [item for item in x if one_pillar in item]\n",
    "    )"
   ]
  },
  {
   "cell_type": "code",
   "execution_count": null,
   "metadata": {},
   "outputs": [],
   "source": []
  },
  {
   "cell_type": "code",
   "execution_count": 11,
   "metadata": {},
   "outputs": [
    {
     "data": {
      "text/plain": [
       "'full_data[\\'sectors_pillars_2d\\'] = full_data.apply(\\n    lambda x: flatten(\\n        [[f\"{level0}->{item}\" for item in x[level0]] for level0 in [\\'sectors\\', \\'pillars_2d\\']\\n    ]), axis=1\\n)'"
      ]
     },
     "execution_count": 11,
     "metadata": {},
     "output_type": "execute_result"
    }
   ],
   "source": [
    "\"\"\"full_data['sectors_pillars_2d'] = full_data.apply(\n",
    "    lambda x: flatten(\n",
    "        [[f\"{level0}->{item}\" for item in x[level0]] for level0 in ['sectors', 'pillars_2d']\n",
    "    ]), axis=1\n",
    ")\"\"\""
   ]
  },
  {
   "cell_type": "code",
   "execution_count": 12,
   "metadata": {},
   "outputs": [],
   "source": [
    "#full_data['sectors_pillars_2d']"
   ]
  },
  {
   "cell_type": "code",
   "execution_count": 13,
   "metadata": {},
   "outputs": [],
   "source": [
    "#prop of positive examples in that\n",
    "#full_data['present_prim_tags'].apply(lambda x: len(x)>0).sum() / full_data.shape[0]"
   ]
  },
  {
   "cell_type": "code",
   "execution_count": 14,
   "metadata": {},
   "outputs": [],
   "source": [
    "#full_data['present_prim_tags'].head()"
   ]
  },
  {
   "cell_type": "code",
   "execution_count": null,
   "metadata": {},
   "outputs": [],
   "source": []
  },
  {
   "cell_type": "code",
   "execution_count": null,
   "metadata": {},
   "outputs": [],
   "source": []
  },
  {
   "cell_type": "code",
   "execution_count": 15,
   "metadata": {},
   "outputs": [
    {
     "data": {
      "text/plain": [
       "\"full_data['subpillars_1d_part1'] = full_data.subpillars_1d.apply(\\n    lambda x: [\\n        item for item in x if item.split('->')[0] in [\\n            'Displacement',\\n             'Context',\\n        ]\\n    ]\\n)\\n\\nfull_data['subpillars_1d_part2'] = full_data.subpillars_1d.apply(\\n    lambda x: [\\n        item for item in x if item.split('->')[0] in [\\n            'Shock/Event',   \\n            'Humanitarian Access',\\n            'Casualties'\\n        ]\\n    ]\\n)\\n\\nfull_data['subpillars_1d_part3'] = full_data.subpillars_1d.apply(\\n    lambda x: [\\n        item for item in x if item.split('->')[0] in [\\n            'Covid-19', \\n            'Information And Communication',\\n        ]\\n    ]\\n)\\n\""
      ]
     },
     "execution_count": 15,
     "metadata": {},
     "output_type": "execute_result"
    }
   ],
   "source": [
    "\"\"\"full_data['subpillars_1d_part1'] = full_data.subpillars_1d.apply(\n",
    "    lambda x: [\n",
    "        item for item in x if item.split('->')[0] in [\n",
    "            'Displacement',\n",
    "             'Context',\n",
    "        ]\n",
    "    ]\n",
    ")\n",
    "\n",
    "full_data['subpillars_1d_part2'] = full_data.subpillars_1d.apply(\n",
    "    lambda x: [\n",
    "        item for item in x if item.split('->')[0] in [\n",
    "            'Shock/Event',   \n",
    "            'Humanitarian Access',\n",
    "            'Casualties'\n",
    "        ]\n",
    "    ]\n",
    ")\n",
    "\n",
    "full_data['subpillars_1d_part3'] = full_data.subpillars_1d.apply(\n",
    "    lambda x: [\n",
    "        item for item in x if item.split('->')[0] in [\n",
    "            'Covid-19', \n",
    "            'Information And Communication',\n",
    "        ]\n",
    "    ]\n",
    ")\n",
    "\"\"\""
   ]
  },
  {
   "cell_type": "code",
   "execution_count": 16,
   "metadata": {},
   "outputs": [
    {
     "data": {
      "text/plain": [
       "\"full_data['subpillars_2d_part1'] = full_data.subpillars_2d.apply(\\n    lambda x: [\\n        item for item in x if item.split('->')[0] in [\\n            'Humanitarian Conditions',\\n             'Impact',\\n            'At Risk',\\n        ]\\n    ]\\n)\\n\\nfull_data['subpillars_2d_part2'] = full_data.subpillars_2d.apply(\\n    lambda x: [\\n        item for item in x if item.split('->')[0] in [\\n            'Capacities & Response',\\n            'Priority Interventions',  \\n            'Priority Needs', \\n        ]\\n    ]\\n)\\n\""
      ]
     },
     "execution_count": 16,
     "metadata": {},
     "output_type": "execute_result"
    }
   ],
   "source": [
    "\"\"\"full_data['subpillars_2d_part1'] = full_data.subpillars_2d.apply(\n",
    "    lambda x: [\n",
    "        item for item in x if item.split('->')[0] in [\n",
    "            'Humanitarian Conditions',\n",
    "             'Impact',\n",
    "            'At Risk',\n",
    "        ]\n",
    "    ]\n",
    ")\n",
    "\n",
    "full_data['subpillars_2d_part2'] = full_data.subpillars_2d.apply(\n",
    "    lambda x: [\n",
    "        item for item in x if item.split('->')[0] in [\n",
    "            'Capacities & Response',\n",
    "            'Priority Interventions',  \n",
    "            'Priority Needs', \n",
    "        ]\n",
    "    ]\n",
    ")\n",
    "\"\"\""
   ]
  },
  {
   "cell_type": "code",
   "execution_count": 17,
   "metadata": {},
   "outputs": [
    {
     "data": {
      "text/plain": [
       "\"print('subpillars_1d_first_part',\\n    len(list(set(flatten(full_data.subpillars_1d_part1)))),\\n      '\\nsubpillars_1d_second_part',\\n      len(list(set(flatten(full_data.subpillars_1d_part2)))),\\n      '\\nsubpillars_1d_third_part',\\n      len(list(set(flatten(full_data.subpillars_1d_part3)))),\\n      '\\nsubpillars_2d_first_part',\\n      len(list(set(flatten(full_data.subpillars_2d_part1)))),\\n      '\\nsubpillars_2d_second_part',\\n      len(list(set(flatten(full_data.subpillars_2d_part2))))\\n)\""
      ]
     },
     "execution_count": 17,
     "metadata": {},
     "output_type": "execute_result"
    }
   ],
   "source": [
    "\"\"\"print('subpillars_1d_first_part',\n",
    "    len(list(set(flatten(full_data.subpillars_1d_part1)))),\n",
    "      '\\nsubpillars_1d_second_part',\n",
    "      len(list(set(flatten(full_data.subpillars_1d_part2)))),\n",
    "      '\\nsubpillars_1d_third_part',\n",
    "      len(list(set(flatten(full_data.subpillars_1d_part3)))),\n",
    "      '\\nsubpillars_2d_first_part',\n",
    "      len(list(set(flatten(full_data.subpillars_2d_part1)))),\n",
    "      '\\nsubpillars_2d_second_part',\n",
    "      len(list(set(flatten(full_data.subpillars_2d_part2))))\n",
    ")\"\"\""
   ]
  },
  {
   "cell_type": "code",
   "execution_count": null,
   "metadata": {},
   "outputs": [],
   "source": []
  },
  {
   "cell_type": "code",
   "execution_count": 18,
   "metadata": {},
   "outputs": [
    {
     "name": "stdout",
     "output_type": "stream",
     "text": [
      "[0, 1, 2, 3, 4]\n"
     ]
    },
    {
     "data": {
      "text/plain": [
       "Text(0.5, 1.0, '1d subpillars')"
      ]
     },
     "execution_count": 18,
     "metadata": {},
     "output_type": "execute_result"
    },
    {
     "data": {
      "image/png": "[encoded data removed]",
      "text/plain": [
       "<Figure size 432x288 with 1 Axes>"
      ]
     },
     "metadata": {
      "needs_background": "light"
     },
     "output_type": "display_data"
    }
   ],
   "source": [
    "import matplotlib.pyplot as plt\n",
    "flat_results = full_data.pillars_1d.apply(lambda x: len(x))\n",
    "print(list(set(flat_results)))\n",
    "sns.histplot(x=flat_results)\n",
    "plt.xlabel('nb of tags')\n",
    "plt.title('1d subpillars')"
   ]
  },
  {
   "cell_type": "code",
   "execution_count": 19,
   "metadata": {},
   "outputs": [
    {
     "name": "stdout",
     "output_type": "stream",
     "text": [
      "[0, 1, 2, 3, 4, 5]\n"
     ]
    },
    {
     "data": {
      "text/plain": [
       "Text(0.5, 1.0, '2d subpillars')"
      ]
     },
     "execution_count": 19,
     "metadata": {},
     "output_type": "execute_result"
    },
    {
     "data": {
      "image/png": "[encoded data removed]",
      "text/plain": [
       "<Figure size 432x288 with 1 Axes>"
      ]
     },
     "metadata": {
      "needs_background": "light"
     },
     "output_type": "display_data"
    }
   ],
   "source": [
    "flat_results = full_data.pillars_2d.apply(lambda x: len(x))\n",
    "print(list(set(flat_results)))\n",
    "sns.histplot(x=flat_results)\n",
    "plt.xlabel('nb of tags')\n",
    "plt.title('2d subpillars')"
   ]
  },
  {
   "cell_type": "code",
   "execution_count": null,
   "metadata": {},
   "outputs": [],
   "source": []
  },
  {
   "cell_type": "code",
   "execution_count": null,
   "metadata": {},
   "outputs": [],
   "source": []
  },
  {
   "cell_type": "code",
   "execution_count": 20,
   "metadata": {},
   "outputs": [
    {
     "name": "stdout",
     "output_type": "stream",
     "text": [
      "['Covid-19', 'Shock/Event', 'Casualties', 'Humanitarian Access', 'Context', 'Information And Communication', 'Displacement']\n"
     ]
    },
    {
     "data": {
      "text/plain": [
       "<AxesSubplot:xlabel='Count'>"
      ]
     },
     "execution_count": 20,
     "metadata": {},
     "output_type": "execute_result"
    },
    {
     "data": {
      "image/png": "[encoded data removed]",
      "text/plain": [
       "<Figure size 432x288 with 1 Axes>"
      ]
     },
     "metadata": {
      "needs_background": "light"
     },
     "output_type": "display_data"
    }
   ],
   "source": [
    "flat_results = flatten(full_data['pillars_1d'])\n",
    "print(list(set(flat_results)))\n",
    "sns.histplot(y=flat_results)"
   ]
  },
  {
   "cell_type": "code",
   "execution_count": 21,
   "metadata": {},
   "outputs": [
    {
     "name": "stdout",
     "output_type": "stream",
     "text": [
      "['Capacities & Response', 'Humanitarian Conditions', 'Impact', 'Priority Interventions', 'Priority Needs', 'At Risk']\n"
     ]
    },
    {
     "data": {
      "text/plain": [
       "<AxesSubplot:xlabel='Count'>"
      ]
     },
     "execution_count": 21,
     "metadata": {},
     "output_type": "execute_result"
    },
    {
     "data": {
      "image/png": "[encoded data removed]",
      "text/plain": [
       "<Figure size 432x288 with 1 Axes>"
      ]
     },
     "metadata": {
      "needs_background": "light"
     },
     "output_type": "display_data"
    }
   ],
   "source": [
    "flat_results = flatten(full_data['pillars_2d'])\n",
    "print(list(set(flat_results)))\n",
    "sns.histplot(y=flat_results)"
   ]
  },
  {
   "cell_type": "code",
   "execution_count": 22,
   "metadata": {},
   "outputs": [
    {
     "data": {
      "text/plain": [
       "\"full_data['subpillars_2d_part1'] = full_data.subpillars_2d.apply(\\n    lambda x: [\\n        item for item in x if item in [\\n            'Humanitarian Conditions->Living Standards',\\n             'Humanitarian Conditions->Physical And Mental Well Being',\\n             'Impact->Impact On Systems, Services And Networks',\\n             'Capacities & Response->International Response',\\n             'Impact->Driver/Aggravating Factors',\\n             'Impact->Impact On People',\\n             'At Risk->Risk And Vulnerabilities'\\n        ]\\n    ]\\n)\""
      ]
     },
     "execution_count": 22,
     "metadata": {},
     "output_type": "execute_result"
    }
   ],
   "source": [
    "\"\"\"full_data['subpillars_2d_part1'] = full_data.subpillars_2d.apply(\n",
    "    lambda x: [\n",
    "        item for item in x if item in [\n",
    "            'Humanitarian Conditions->Living Standards',\n",
    "             'Humanitarian Conditions->Physical And Mental Well Being',\n",
    "             'Impact->Impact On Systems, Services And Networks',\n",
    "             'Capacities & Response->International Response',\n",
    "             'Impact->Driver/Aggravating Factors',\n",
    "             'Impact->Impact On People',\n",
    "             'At Risk->Risk And Vulnerabilities'\n",
    "        ]\n",
    "    ]\n",
    ")\"\"\""
   ]
  },
  {
   "cell_type": "code",
   "execution_count": null,
   "metadata": {},
   "outputs": [],
   "source": []
  },
  {
   "cell_type": "code",
   "execution_count": null,
   "metadata": {},
   "outputs": [],
   "source": []
  },
  {
   "cell_type": "code",
   "execution_count": null,
   "metadata": {},
   "outputs": [],
   "source": []
  },
  {
   "cell_type": "code",
   "execution_count": null,
   "metadata": {},
   "outputs": [],
   "source": []
  },
  {
   "cell_type": "code",
   "execution_count": 23,
   "metadata": {},
   "outputs": [],
   "source": [
    "def custom_eval(x):\n",
    "    if str(x)=='nan':\n",
    "        return []\n",
    "    if str(x)=='[None]':\n",
    "        return []\n",
    "    if type(x)==list:\n",
    "        return x\n",
    "    else:\n",
    "        return literal_eval(x)\n",
    "    \n",
    "full_data['affected_groups'] = full_data['affected_groups_level_0']"
   ]
  },
  {
   "cell_type": "code",
   "execution_count": 24,
   "metadata": {},
   "outputs": [],
   "source": [
    "full_data = full_data.rename(columns={\n",
    "    'age': 'age_original',\n",
    "    'gender': 'gender_original',\n",
    "    'affected_groups_level_3': 'affected_groups_level_3_original'\n",
    "})"
   ]
  },
  {
   "cell_type": "code",
   "execution_count": 25,
   "metadata": {},
   "outputs": [],
   "source": [
    "cols = ['gender_kw_pred', 'age_kw_pred',\n",
    "       'affected_groups_level_3_kw', 'age_original', 'gender_original', \n",
    "        'affected_groups_level_3_original', 'gender_snorkel', 'specific_needs_groups']\n",
    "for col in cols:\n",
    "    full_data[col] = full_data[col].apply(\n",
    "       lambda x: [f\"{col}->{item}\" for item in custom_eval(x)]\n",
    "    )"
   ]
  },
  {
   "cell_type": "code",
   "execution_count": 26,
   "metadata": {},
   "outputs": [
    {
     "data": {
      "text/plain": [
       "0         [specific_needs_groups->Pregnant or Lactating ...\n",
       "1                                                        []\n",
       "2                                                        []\n",
       "3                                                        []\n",
       "4                                                        []\n",
       "                                ...                        \n",
       "158309                                                   []\n",
       "158310                                                   []\n",
       "158311                                                   []\n",
       "158312                                                   []\n",
       "158313     [specific_needs_groups->Persons with Disability]\n",
       "Name: specific_needs_groups, Length: 158314, dtype: object"
      ]
     },
     "execution_count": 26,
     "metadata": {},
     "output_type": "execute_result"
    }
   ],
   "source": [
    "full_data.specific_needs_groups"
   ]
  },
  {
   "cell_type": "code",
   "execution_count": 27,
   "metadata": {},
   "outputs": [],
   "source": [
    "full_data['severity'] = full_data.severity.apply(\n",
    "    lambda x: [f'severity->{item}' for item in custom_eval(x) if item !='NOT_MAPPED']\n",
    ")\n",
    "\n",
    "full_data['subpillars'] = full_data.apply(\n",
    "    lambda x: x.subpillars_1d + x.subpillars_2d, axis=1\n",
    ")\n",
    "\n",
    "full_data['secondary_tags'] = full_data.apply(\n",
    "    lambda x:x.severity + x.gender_kw_pred + x.age_kw_pred +\\\n",
    "                x.affected_groups_level_3_kw + x.specific_needs_groups, axis=1\n",
    ")"
   ]
  },
  {
   "cell_type": "code",
   "execution_count": null,
   "metadata": {},
   "outputs": [],
   "source": []
  },
  {
   "cell_type": "code",
   "execution_count": 28,
   "metadata": {},
   "outputs": [],
   "source": [
    "full_data['present_age'] = full_data.apply(\n",
    "    lambda x: [column for column in [\n",
    "        'age_original',\n",
    "        'age_kw_pred'] if len(custom_eval(x[column]))>0], axis=1\n",
    "               )\n",
    "full_data['present_gender'] = full_data.apply(\n",
    "    lambda x: [column for column in [\n",
    "        'gender_original',\n",
    "        'gender_snorkel', 'gender_kw_pred'\n",
    "    ] if len(custom_eval(x[column]))>0], axis=1\n",
    "               )\n",
    "full_data['present_affected_groups_level_3'] = full_data.apply(\n",
    "    lambda x: [column for column in [\n",
    "        'affected_groups_level_3_original',\n",
    "        'affected_groups_level_3_kw'] if len(custom_eval(x[column]))>0], axis=1\n",
    "               )"
   ]
  },
  {
   "cell_type": "code",
   "execution_count": null,
   "metadata": {},
   "outputs": [],
   "source": []
  },
  {
   "cell_type": "code",
   "execution_count": 29,
   "metadata": {},
   "outputs": [],
   "source": [
    "affected_groups_level_2_3_merger = {\n",
    "    'Asylum Seekers': 'Displaced->Asylum Seekers', \n",
    "    'Host': 'Non Displaced->Host', \n",
    "    'Non Host': 'Non Displaced->Non Host',\n",
    "    'IDP': 'Displaced->IDP', \n",
    "    'In Transit': 'Displaced->In Transit', \n",
    "    'Migrants': 'Displaced->Migrants',\n",
    "    'NOT_MAPPED': 'NOT_MAPPED',\n",
    "    'Others of Concern': 'Displaced->Others of Concern', \n",
    "    'Pendular': 'Displaced->Pendular',\n",
    "    'Permanent': 'Displaced->Permanent', \n",
    "    'Refugees': 'Displaced->Refugees', \n",
    "    'Returnees': 'Displaced->Returnees', \n",
    "    'Stateless': 'Displaced->Stateless'\n",
    "}"
   ]
  },
  {
   "cell_type": "code",
   "execution_count": 30,
   "metadata": {},
   "outputs": [
    {
     "data": {
      "text/plain": [
       "\"def custom_eval(x):\\n    if type(x)==list:\\n        return x\\n    else:\\n        return literal_eval(x)\\n    \\nfull_data['affected_groups_level_3_nona'] = full_data['affected_groups_level_3'].apply(\\n    lambda x: [] if str(x)=='nan' else x\\n)\\nfull_data['affected_groups_levels_2_3'] = full_data['affected_groups_level_3_nona'].apply(\\n    lambda x: [affected_groups_level_2_3_merger[item] for item in custom_eval(x) if item!='None']\\n)\""
      ]
     },
     "execution_count": 30,
     "metadata": {},
     "output_type": "execute_result"
    }
   ],
   "source": [
    "\"\"\"def custom_eval(x):\n",
    "    if type(x)==list:\n",
    "        return x\n",
    "    else:\n",
    "        return literal_eval(x)\n",
    "    \n",
    "full_data['affected_groups_level_3_nona'] = full_data['affected_groups_level_3'].apply(\n",
    "    lambda x: [] if str(x)=='nan' else x\n",
    ")\n",
    "full_data['affected_groups_levels_2_3'] = full_data['affected_groups_level_3_nona'].\\\n",
    "apply(\n",
    "    lambda x: [affected_groups_level_2_3_merger[item] for item in custom_eval(x) if item!='None']\n",
    ")\"\"\""
   ]
  },
  {
   "cell_type": "code",
   "execution_count": null,
   "metadata": {},
   "outputs": [],
   "source": []
  },
  {
   "cell_type": "code",
   "execution_count": 31,
   "metadata": {},
   "outputs": [
    {
     "data": {
      "text/plain": [
       "\"np.unique(flatten(full_data.affected_groups_level_0.dropna().apply(literal_eval).tolist()))\\nnp.unique(flatten(full_data.affected_groups_level_1.dropna().apply(literal_eval).tolist()))\\nnp.unique(flatten(full_data.affected_groups_level_2.dropna().apply(literal_eval).tolist()))\\nnp.unique(flatten(full_data['affected_groups_levels_2_3'].apply(custom_eval).tolist()))\""
      ]
     },
     "execution_count": 31,
     "metadata": {},
     "output_type": "execute_result"
    }
   ],
   "source": [
    "\"\"\"np.unique(flatten(full_data.affected_groups_level_0.dropna().apply(literal_eval).tolist()))\n",
    "np.unique(flatten(full_data.affected_groups_level_1.dropna().apply(literal_eval).tolist()))\n",
    "np.unique(flatten(full_data.affected_groups_level_2.dropna().apply(literal_eval).tolist()))\n",
    "np.unique(flatten(full_data['affected_groups_levels_2_3'].apply(custom_eval).tolist()))\"\"\""
   ]
  },
  {
   "cell_type": "code",
   "execution_count": null,
   "metadata": {},
   "outputs": [],
   "source": []
  },
  {
   "cell_type": "code",
   "execution_count": 32,
   "metadata": {},
   "outputs": [],
   "source": [
    "full_data['present_tags'] = full_data.apply(\n",
    "    lambda x: [column for column in [\n",
    "        'sectors','pillars_2d', 'pillars_1d', 'affected_groups_level_3_kw',\n",
    "        'gender_kw_pred', 'age_kw_pred', 'specific_needs_groups'\n",
    "    ] if len(x[column])>0], axis=1\n",
    "               )"
   ]
  },
  {
   "cell_type": "code",
   "execution_count": null,
   "metadata": {},
   "outputs": [],
   "source": []
  },
  {
   "cell_type": "code",
   "execution_count": null,
   "metadata": {},
   "outputs": [],
   "source": []
  },
  {
   "cell_type": "code",
   "execution_count": 33,
   "metadata": {},
   "outputs": [],
   "source": [
    "train_val_full = full_data[~full_data.entry_id.isin(test_data.entry_id)]\n"
   ]
  },
  {
   "cell_type": "code",
   "execution_count": 34,
   "metadata": {},
   "outputs": [],
   "source": [
    "fr_df = train_val_full[['entry_id', 'translation_fr']]\\\n",
    "        .rename(columns={'translation_fr':'excerpt'}).dropna()\n",
    "en_df = train_val_full[['entry_id', 'translation_en']]\\\n",
    "        .rename(columns={'translation_en':'excerpt'}).dropna()\n",
    "es_df = train_val_full[['entry_id', 'translation_es']]\\\n",
    "        .rename(columns={'translation_es':'excerpt'}).dropna()\n",
    "\n",
    "augmented_data = pd.concat([en_df, fr_df, es_df])"
   ]
  },
  {
   "cell_type": "code",
   "execution_count": 35,
   "metadata": {},
   "outputs": [],
   "source": [
    "augmented_data = pd.merge(\n",
    "    right=train_val_full.drop(columns=[\n",
    "        'excerpt', 'translation_en', 'translation_fr', 'translation_es']\n",
    "                           ),\n",
    "    left=augmented_data[['entry_id', 'excerpt']],\n",
    "    on='entry_id',\n",
    "    how='right'\n",
    ")"
   ]
  },
  {
   "cell_type": "code",
   "execution_count": 36,
   "metadata": {},
   "outputs": [],
   "source": [
    "train_val_df = pd.concat([train_val_full, augmented_data]).drop(columns=[\n",
    "        'translation_en', 'translation_fr', 'translation_es', 'lang']\n",
    "                           )"
   ]
  },
  {
   "cell_type": "code",
   "execution_count": null,
   "metadata": {},
   "outputs": [],
   "source": []
  },
  {
   "cell_type": "code",
   "execution_count": 37,
   "metadata": {},
   "outputs": [],
   "source": [
    "train_val_df.to_csv(os.path.join(DATA_PATH, 'new_columns_train_val.csv'), index=None)"
   ]
  },
  {
   "cell_type": "code",
   "execution_count": null,
   "metadata": {},
   "outputs": [],
   "source": []
  },
  {
   "cell_type": "code",
   "execution_count": 38,
   "metadata": {},
   "outputs": [
    {
     "data": {
      "text/plain": [
       "\"test_df = full_data[full_data.entry_id.isin(test_data.entry_id)].drop(\\n    columns=['translation_en', 'translation_fr', 'translation_es']\\n)\\ntest_df['gender_snorkel'] = test_df['gender']\\ntest_df.to_csv(os.path.join(DATA_PATH, 'new_columns_test_v0.7.1.csv'), index=None)\""
      ]
     },
     "execution_count": 38,
     "metadata": {},
     "output_type": "execute_result"
    }
   ],
   "source": [
    "\"\"\"test_df = full_data[full_data.entry_id.isin(test_data.entry_id)].drop(\n",
    "    columns=['translation_en', 'translation_fr', 'translation_es']\n",
    ")\n",
    "test_df['gender_snorkel'] = test_df['gender']\n",
    "test_df.to_csv(os.path.join(DATA_PATH, 'new_columns_test_v0.7.1.csv'), index=None)\"\"\""
   ]
  },
  {
   "cell_type": "code",
   "execution_count": 39,
   "metadata": {},
   "outputs": [
    {
     "data": {
      "text/plain": [
       "(436829, 49)"
      ]
     },
     "execution_count": 39,
     "metadata": {},
     "output_type": "execute_result"
    }
   ],
   "source": [
    "train_val_df.shape"
   ]
  },
  {
   "cell_type": "code",
   "execution_count": 40,
   "metadata": {},
   "outputs": [
    {
     "ename": "NameError",
     "evalue": "name 'test_df' is not defined",
     "output_type": "error",
     "traceback": [
      "\u001b[0;31m---------------------------------------------------------------------------\u001b[0m",
      "\u001b[0;31mNameError\u001b[0m                                 Traceback (most recent call last)",
      "\u001b[0;32m<ipython-input-40-8dce04e9bdce>\u001b[0m in \u001b[0;36m<module>\u001b[0;34m\u001b[0m\n\u001b[0;32m----> 1\u001b[0;31m \u001b[0mtest_df\u001b[0m\u001b[0;34m.\u001b[0m\u001b[0mshape\u001b[0m\u001b[0;34m\u001b[0m\u001b[0;34m\u001b[0m\u001b[0m\n\u001b[0m",
      "\u001b[0;31mNameError\u001b[0m: name 'test_df' is not defined"
     ]
    }
   ],
   "source": [
    "test_df.shape"
   ]
  },
  {
   "cell_type": "code",
   "execution_count": null,
   "metadata": {},
   "outputs": [],
   "source": [
    "train_val_df.columns"
   ]
  },
  {
   "cell_type": "code",
   "execution_count": null,
   "metadata": {},
   "outputs": [],
   "source": [
    "\n",
    "    \n"
   ]
  },
  {
   "cell_type": "code",
   "execution_count": null,
   "metadata": {},
   "outputs": [],
   "source": []
  },
  {
   "cell_type": "code",
   "execution_count": null,
   "metadata": {},
   "outputs": [],
   "source": [
    "columns = ['present_prim_tags',\n",
    "           'sectors',\n",
    "           'pillars_2d',\n",
    "           'pillars_1d', \n",
    "           'subpillars_2d_part1', \n",
    "           'subpillars_2d_part2', 'subpillars_1d_part1', \n",
    "           'subpillars_1d_part2', 'subpillars_1d_part3', \n",
    "           'severity']\n",
    "\n",
    "dict_cols = {}\n",
    "for col in columns:\n",
    "    unique_tags = list(set(flatten(full_data[col].tolist())))\n",
    "    dict_cols[col] = unique_tags"
   ]
  },
  {
   "cell_type": "code",
   "execution_count": null,
   "metadata": {},
   "outputs": [],
   "source": [
    "dict_cols"
   ]
  },
  {
   "cell_type": "code",
   "execution_count": 46,
   "metadata": {},
   "outputs": [
    {
     "name": "stderr",
     "output_type": "stream",
     "text": [
      "/home/selim/anaconda3/lib/python3.8/site-packages/IPython/core/interactiveshell.py:3146: DtypeWarning: Columns (9) have mixed types.Specify dtype option on import or set low_memory=False.\n",
      "  has_raised = await self.run_ast_nodes(code_ast.body, cell_name,\n"
     ]
    }
   ],
   "source": [
    "DATA_PATH = os.path.join(\n",
    "    '..', '..', '..', \"data\", \"frameworks_data\", 'data_v0.7.1'\n",
    ")\n",
    "train_val_df = pd.read_csv(os.path.join(DATA_PATH, 'new_columns_train_val.csv'))"
   ]
  },
  {
   "cell_type": "code",
   "execution_count": null,
   "metadata": {},
   "outputs": [],
   "source": [
    "train_val_df['subpillars_and_secondary_tags'] = train_val_df['subpillars_and_secondary_tags'].apply(str)\n",
    "ids = train_val_df.groupby('subpillars_and_secondary_tags')['entry_id'].agg(list).values\n",
    "unique_ids = [list(np.unique(list_)) for list_ in ids]"
   ]
  },
  {
   "cell_type": "code",
   "execution_count": 47,
   "metadata": {},
   "outputs": [
    {
     "data": {
      "text/plain": [
       "0                                                        []\n",
       "1                                                        []\n",
       "2         ['severity->Of Concern', 'affected_groups_leve...\n",
       "3         ['severity->Major', 'age_kw_pred->Children/You...\n",
       "4                                  ['severity->Of Concern']\n",
       "                                ...                        \n",
       "436824    ['age_kw_pred->Children/Youth (5 to 17 years o...\n",
       "436825    ['gender_kw_pred->Female', 'gender_kw_pred->Ma...\n",
       "436826    ['gender_kw_pred->Female', 'gender_kw_pred->Ma...\n",
       "436827    ['specific_needs_groups->Persons with Disabili...\n",
       "436828    ['specific_needs_groups->Persons with Disabili...\n",
       "Name: secondary_tags, Length: 436829, dtype: object"
      ]
     },
     "execution_count": 47,
     "metadata": {},
     "output_type": "execute_result"
    }
   ],
   "source": [
    "train_val_df.secondary_tags"
   ]
  },
  {
   "cell_type": "code",
   "execution_count": null,
   "metadata": {},
   "outputs": [],
   "source": []
  },
  {
   "cell_type": "code",
   "execution_count": null,
   "metadata": {},
   "outputs": [],
   "source": []
  },
  {
   "cell_type": "code",
   "execution_count": null,
   "metadata": {},
   "outputs": [],
   "source": []
  },
  {
   "cell_type": "code",
   "execution_count": null,
   "metadata": {},
   "outputs": [],
   "source": []
  },
  {
   "cell_type": "code",
   "execution_count": null,
   "metadata": {},
   "outputs": [],
   "source": []
  },
  {
   "cell_type": "code",
   "execution_count": null,
   "metadata": {},
   "outputs": [],
   "source": []
  },
  {
   "cell_type": "code",
   "execution_count": null,
   "metadata": {},
   "outputs": [],
   "source": []
  },
  {
   "cell_type": "code",
   "execution_count": null,
   "metadata": {},
   "outputs": [],
   "source": []
  },
  {
   "cell_type": "code",
   "execution_count": null,
   "metadata": {},
   "outputs": [],
   "source": []
  },
  {
   "cell_type": "code",
   "execution_count": 2,
   "metadata": {},
   "outputs": [
    {
     "name": "stderr",
     "output_type": "stream",
     "text": [
      "/home/selim/anaconda3/lib/python3.8/site-packages/IPython/core/interactiveshell.py:3146: DtypeWarning: Columns (9) have mixed types.Specify dtype option on import or set low_memory=False.\n",
      "  has_raised = await self.run_ast_nodes(code_ast.body, cell_name,\n",
      "/home/selim/anaconda3/lib/python3.8/site-packages/IPython/core/interactiveshell.py:3146: DtypeWarning: Columns (6) have mixed types.Specify dtype option on import or set low_memory=False.\n",
      "  has_raised = await self.run_ast_nodes(code_ast.body, cell_name,\n"
     ]
    }
   ],
   "source": [
    "DATA_PATH = os.path.join(\n",
    "    '..', '..', '..', \"data\", \"frameworks_data\", 'data_v0.7.1'\n",
    ")\n",
    "\n",
    "tot_df = pd.read_csv(os.path.join(DATA_PATH, 'new_columns_train_val.csv')).drop_duplicates()\n",
    "test_df = pd.read_csv(os.path.join(DATA_PATH, 'new_columns_test_v0.7.1.csv'))"
   ]
  },
  {
   "cell_type": "code",
   "execution_count": 38,
   "metadata": {},
   "outputs": [
    {
     "data": {
      "text/plain": [
       "'severity, gender_kw_pred, age_kw_pred, specific_needs_groups, affected_groups_level_3_kw'"
      ]
     },
     "execution_count": 38,
     "metadata": {},
     "output_type": "execute_result"
    }
   ],
   "source": [
    "', '.join(list(set(flatten(tot_df.secondary_tags.apply(literal_eval).apply(\n",
    "    lambda t: [x.split('->')[0] for x in t]\n",
    ")))))"
   ]
  },
  {
   "cell_type": "code",
   "execution_count": 36,
   "metadata": {},
   "outputs": [
    {
     "data": {
      "text/plain": [
       "'Expressed By Population,Expressed By Humanitarian Staff'"
      ]
     },
     "execution_count": 36,
     "metadata": {},
     "output_type": "execute_result"
    }
   ],
   "source": [
    "','.join(list(set(flatten(tot_df..apply(literal_eval).apply(\n",
    "    lambda t: [x.split('->')[1] for x in t if x.split('->')[0] == 'Priority Needs']\n",
    ")))))"
   ]
  },
  {
   "cell_type": "code",
   "execution_count": null,
   "metadata": {},
   "outputs": [],
   "source": []
  }
 ],
 "metadata": {
  "kernelspec": {
   "display_name": "Python 3",
   "language": "python",
   "name": "python3"
  },
  "language_info": {
   "codemirror_mode": {
    "name": "ipython",
    "version": 3
   },
   "file_extension": ".py",
   "mimetype": "text/x-python",
   "name": "python",
   "nbconvert_exporter": "python",
   "pygments_lexer": "ipython3",
   "version": "3.8.5"
  }
 },
 "nbformat": 4,
 "nbformat_minor": 4
}
