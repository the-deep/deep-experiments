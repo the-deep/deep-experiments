{
 "cells": [
  {
   "cell_type": "code",
   "execution_count": null,
   "metadata": {},
   "outputs": [],
   "source": [
    "import json\n",
    "import re\n",
    "\n",
    "sectors_list = [\n",
    "    'Shelter',\n",
    "    'Food Security',\n",
    "    'Agriculture',\n",
    "    'Education',\n",
    "    'Health',\n",
    "    'Logistics',\n",
    "    'Protection',\n",
    "    'Livelihoods',\n",
    "    'Wash',\n",
    "    'Nutrition']"
   ]
  },
  {
   "cell_type": "code",
   "execution_count": null,
   "metadata": {},
   "outputs": [],
   "source": [
    "def order_dict(x):\n",
    "    cleaned_x = {k: v for k, v in x.items() if str(k) != \"[]\" and str(v) != \"{}\"}\n",
    "\n",
    "    if \"General Overview\" in list(cleaned_x.keys()):\n",
    "        first_dict = {\"General Overview\": cleaned_x[\"General Overview\"]}\n",
    "        second_dict = {k: v for k, v in cleaned_x.items() if k != \"General Overview\"}\n",
    "        y = {**first_dict, **second_dict}\n",
    "        return y\n",
    "\n",
    "    elif \"['General Overview']\" in list(cleaned_x.keys()):\n",
    "        first_dict = {\"[General Overview]\": cleaned_x[\"['General Overview']\"]}\n",
    "        second_dict = {\n",
    "            str(k): str(v) for k, v in cleaned_x.items() if k != \"['General Overview']\"\n",
    "        }\n",
    "        y = {**first_dict, **second_dict}\n",
    "        return y\n",
    "\n",
    "    else:\n",
    "        return cleaned_x"
   ]
  },
  {
   "cell_type": "code",
   "execution_count": null,
   "metadata": {},
   "outputs": [],
   "source": [
    "def omit_punctuation(text):\n",
    "    # layout clean\n",
    "    clean_key = text.replace(\"'\", '').replace(\"[\", '').replace(\"]\", '')\n",
    "\n",
    "    # omit pillar of any\n",
    "    if '->' in clean_key:\n",
    "        clean_key = clean_key.split('->')[1]\n",
    "\n",
    "    return clean_key\n",
    "\n",
    "def clean_characters(text):\n",
    "    #clean for latex characters\n",
    "    latex_text = text.replace('%', '\\%').replace('$', '\\$')\n",
    "\n",
    "    #strip punctuation\n",
    "    latex_text = re.sub(r'\\s([?.!\"](?:\\s|$))', r'\\1', latex_text)\n",
    "\n",
    "    return latex_text"
   ]
  },
  {
   "cell_type": "code",
   "execution_count": null,
   "metadata": {},
   "outputs": [],
   "source": [
    "def get_overleaf_text_sectors(sectors_dict):\n",
    "\n",
    "    final_str = ''\n",
    "\n",
    "    for col in sectors_list:\n",
    "        one_part = sectors_dict[col]\n",
    "        final_str += '\\subsection{' + col + '}\\n'\n",
    "        for key_one_sub in ['Most affected population groups', 'Key trends', 'Needs, severity and linkages with other sectors']:\n",
    "            final_str += '\\subsubsection*{' + key_one_sub + '}\\n'\n",
    "\n",
    "            dict_treated = order_dict(one_part[key_one_sub])\n",
    "\n",
    "            if len(dict_treated)>1:\n",
    "                \n",
    "                for key, value in dict_treated.items(): \n",
    "                    final_str += \"\\paragraph{\" + omit_punctuation(key) + '}\\n'\n",
    "                    final_str += clean_characters(value)\n",
    "                    final_str += '\\n \\n'\n",
    "\n",
    "            elif len(dict_treated)==1:\n",
    "                final_str += clean_characters(list(dict_treated.values())[0])\n",
    "                final_str += '\\n \\n'\n",
    "\n",
    "    return final_str"
   ]
  },
  {
   "cell_type": "code",
   "execution_count": null,
   "metadata": {},
   "outputs": [],
   "source": [
    "\n",
    "third_part_report = open ('full_report_05_20.json', \"r\")\n",
    "full_report = json.loads(third_part_report.read())\n",
    " \n",
    "# Reading from file\n",
    "data_sectors = full_report['Sectoral Analysis']\n",
    "#sectors = data_sectors['Sectoral Analysis']\n",
    "\n",
    "print(get_overleaf_text_sectors(data_sectors))"
   ]
  },
  {
   "cell_type": "code",
   "execution_count": null,
   "metadata": {},
   "outputs": [],
   "source": [
    "\"\"\"final_str = ''\n",
    "dict_treated = order_dict_new(first['Shocks and impact of the crisis']['Impact on systems and services']\n",
    ")\n",
    "                \n",
    "for key, value in dict_treated.items(): \n",
    "    if str(key)!='[]':\n",
    "        final_str += \"\\paragraph{\" + omit_punctuation(key) + '}\\n'\n",
    "        final_str += clean_characters(value)\n",
    "        final_str += '\\n \\n'\"\"\""
   ]
  },
  {
   "cell_type": "code",
   "execution_count": null,
   "metadata": {},
   "outputs": [],
   "source": [
    "first_part = full_report['\"Impact of the crisis and humanitarian conditions\"']"
   ]
  },
  {
   "cell_type": "code",
   "execution_count": null,
   "metadata": {},
   "outputs": [],
   "source": [
    "def get_overleaf_text_first_part(first_part_dict):\n",
    "\n",
    "    final_str = ''\n",
    "\n",
    "    final_str += '\\subsection{Context of the crisis}\\n'\n",
    "    context = order_dict(first_part_dict['Context of the crisis'])\n",
    "    for k, v in context.items():\n",
    "        final_str += \"\\paragraph{\" + omit_punctuation(k) + '}\\n'\n",
    "        final_str += clean_characters(v)\n",
    "        final_str += '\\n \\n'\n",
    "\n",
    "    final_str += '\\subsection{Shocks and impact of the crisis}\\n'\n",
    "    impact = first_part_dict['Shocks and impact of the crisis']\n",
    "\n",
    "    for first_key, first_value in impact.items():\n",
    "\n",
    "        final_str += '\\subsubsection{' + first_key + '}\\n'\n",
    "\n",
    "        dict_treated = order_dict(first_value)\n",
    "\n",
    "        if len(dict_treated)>1:\n",
    "            \n",
    "            for key, value in dict_treated.items(): \n",
    "                final_str += \"\\paragraph{\" + omit_punctuation(key) + '}\\n'\n",
    "                final_str += clean_characters(value)\n",
    "                final_str += '\\n \\n'\n",
    "\n",
    "        elif len(dict_treated)==1:\n",
    "            final_str += clean_characters(list(dict_treated.values())[0])\n",
    "            final_str += '\\n \\n'\n",
    "\n",
    "    final_str += '\\subsection{Humanitarian conditions and severity of needs}\\n'\n",
    "    hum_conditions = order_dict(first_part_dict['Humanitarian conditions and severity of needs'])\n",
    "    for first_key, first_value in hum_conditions.items():\n",
    "\n",
    "        final_str += '\\subsubsection{' + first_key + '}\\n'\n",
    "\n",
    "        dict_treated = order_dict(first_value)\n",
    "\n",
    "        if len(dict_treated)>1:\n",
    "            \n",
    "            for key, value in dict_treated.items(): \n",
    "                final_str += \"\\paragraph{\" + omit_punctuation(key) + '}\\n'\n",
    "                final_str += clean_characters(value)\n",
    "                final_str += '\\n \\n'\n",
    "\n",
    "        elif len(dict_treated)==1:\n",
    "            final_str += clean_characters(list(dict_treated.values())[0])\n",
    "            final_str += '\\n \\n'\n",
    "\n",
    "    return final_str\n",
    "\n",
    "print(get_overleaf_text_first_part(first_part))"
   ]
  },
  {
   "cell_type": "code",
   "execution_count": null,
   "metadata": {},
   "outputs": [],
   "source": []
  }
 ],
 "metadata": {
  "interpreter": {
   "hash": "8a5ddf8e25d962f331e8059973cfd97c5aef9d0ccfdd243943e9f1f512e91043"
  },
  "kernelspec": {
   "display_name": "Python 3.9.1 ('deepl')",
   "language": "python",
   "name": "python3"
  },
  "language_info": {
   "codemirror_mode": {
    "name": "ipython",
    "version": 3
   },
   "file_extension": ".py",
   "mimetype": "text/x-python",
   "name": "python",
   "nbconvert_exporter": "python",
   "pygments_lexer": "ipython3",
   "version": "3.9.1"
  },
  "orig_nbformat": 4
 },
 "nbformat": 4,
 "nbformat_minor": 2
}
