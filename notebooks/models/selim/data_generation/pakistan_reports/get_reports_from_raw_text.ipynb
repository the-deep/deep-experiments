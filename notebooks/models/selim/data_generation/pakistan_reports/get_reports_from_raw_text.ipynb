{
 "cells": [
  {
   "cell_type": "code",
   "execution_count": null,
   "metadata": {},
   "outputs": [],
   "source": [
    "pip install git+https://github.com/the-deep/reports_generator --quiet"
   ]
  },
  {
   "cell_type": "code",
   "execution_count": 1,
   "metadata": {},
   "outputs": [],
   "source": [
    "import sys\n",
    "sys.path.append('..')\n",
    "\n",
    "import os\n",
    "from typing import List\n",
    "import json\n",
    "import pandas as pd\n",
    "from tqdm import tqdm\n",
    "\n",
    "from nltk import data\n",
    "tokenizer = data.load('tokenizers/punkt/english.pickle')\n",
    "\n",
    "from ast import literal_eval\n",
    "from collections import Counter\n",
    "from reports_generator import RerportsGenerator\n",
    "import boto3"
   ]
  },
  {
   "cell_type": "markdown",
   "metadata": {},
   "source": [
    "## I. sentences from raw documents (after manually filtering relevant documents)"
   ]
  },
  {
   "cell_type": "code",
   "execution_count": 2,
   "metadata": {},
   "outputs": [],
   "source": [
    "def flatten(input_list: List[List[str]]):\n",
    "    return [item for sublist in input_list for item in sublist]# for item in subsublist]\n",
    "\n",
    "RAW_FILES_PATH = os.path.join('data', 'raw')\n",
    "file_paths = os.listdir(RAW_FILES_PATH)\n",
    "\n",
    "def preprocess_file(file_path):\n",
    "    file = json.load(open(os.path.join(RAW_FILES_PATH, file_path)))\n",
    "    file = flatten(file)\n",
    "    file = [tokenizer.tokenize(paragraph) for paragraph in file]\n",
    "    sentences = flatten(file)\n",
    "    return sentences\n",
    "\n",
    "text_list = flatten([preprocess_file(file_path) for file_path in file_paths])"
   ]
  },
  {
   "cell_type": "code",
   "execution_count": 6,
   "metadata": {},
   "outputs": [
    {
     "data": {
      "text/html": [
       "<div>\n",
       "<style scoped>\n",
       "    .dataframe tbody tr th:only-of-type {\n",
       "        vertical-align: middle;\n",
       "    }\n",
       "\n",
       "    .dataframe tbody tr th {\n",
       "        vertical-align: top;\n",
       "    }\n",
       "\n",
       "    .dataframe thead th {\n",
       "        text-align: right;\n",
       "    }\n",
       "</style>\n",
       "<table border=\"1\" class=\"dataframe\">\n",
       "  <thead>\n",
       "    <tr style=\"text-align: right;\">\n",
       "      <th></th>\n",
       "      <th>excerpt</th>\n",
       "    </tr>\n",
       "  </thead>\n",
       "  <tbody>\n",
       "    <tr>\n",
       "      <th>0</th>\n",
       "      <td>DEC Pakistan floods appeal raises £13.5 millio...</td>\n",
       "    </tr>\n",
       "    <tr>\n",
       "      <th>1</th>\n",
       "      <td>The Disasters Emergency Committee’s (DEC) appe...</td>\n",
       "    </tr>\n",
       "    <tr>\n",
       "      <th>2</th>\n",
       "      <td>The total includes £5 million matched pound-fo...</td>\n",
       "    </tr>\n",
       "    <tr>\n",
       "      <th>3</th>\n",
       "      <td>The DEC launched the appeal on Thursday to hel...</td>\n",
       "    </tr>\n",
       "    <tr>\n",
       "      <th>4</th>\n",
       "      <td>Appeal films presented on ITV, Channel 4, Chan...</td>\n",
       "    </tr>\n",
       "    <tr>\n",
       "      <th>...</th>\n",
       "      <td>...</td>\n",
       "    </tr>\n",
       "    <tr>\n",
       "      <th>480</th>\n",
       "      <td>In order to ensure that aid reaches everyone a...</td>\n",
       "    </tr>\n",
       "    <tr>\n",
       "      <th>481</th>\n",
       "      <td>What we are doing NOW &amp; Where:\\nSupporting the...</td>\n",
       "    </tr>\n",
       "    <tr>\n",
       "      <th>482</th>\n",
       "      <td>Your donations will be vital in changing and s...</td>\n",
       "    </tr>\n",
       "    <tr>\n",
       "      <th>483</th>\n",
       "      <td>To support our medical response activities in ...</td>\n",
       "    </tr>\n",
       "    <tr>\n",
       "      <th>484</th>\n",
       "      <td>To keep up to date with our projects, make sur...</td>\n",
       "    </tr>\n",
       "  </tbody>\n",
       "</table>\n",
       "<p>485 rows × 1 columns</p>\n",
       "</div>"
      ],
      "text/plain": [
       "                                               excerpt\n",
       "0    DEC Pakistan floods appeal raises £13.5 millio...\n",
       "1    The Disasters Emergency Committee’s (DEC) appe...\n",
       "2    The total includes £5 million matched pound-fo...\n",
       "3    The DEC launched the appeal on Thursday to hel...\n",
       "4    Appeal films presented on ITV, Channel 4, Chan...\n",
       "..                                                 ...\n",
       "480  In order to ensure that aid reaches everyone a...\n",
       "481  What we are doing NOW & Where:\\nSupporting the...\n",
       "482  Your donations will be vital in changing and s...\n",
       "483  To support our medical response activities in ...\n",
       "484  To keep up to date with our projects, make sur...\n",
       "\n",
       "[485 rows x 1 columns]"
      ]
     },
     "execution_count": 6,
     "metadata": {},
     "output_type": "execute_result"
    }
   ],
   "source": [
    "df = pd.DataFrame(text_list, columns=['excerpt'])\n",
    "df"
   ]
  },
  {
   "cell_type": "markdown",
   "metadata": {},
   "source": [
    "## II. Model prediction of sentences"
   ]
  },
  {
   "cell_type": "code",
   "execution_count": 16,
   "metadata": {},
   "outputs": [
    {
     "name": "stderr",
     "output_type": "stream",
     "text": [
      "100%|██████████| 485/485 [01:49<00:00,  4.44it/s]\n"
     ]
    }
   ],
   "source": [
    "client = boto3.session.Session().client(\"sagemaker-runtime\", region_name='us-east-1')\n",
    "\n",
    "all_outputs = []\n",
    "\n",
    "for i in tqdm(range(df.shape[0])):\n",
    "    test_tmp = df[i:i+1]\n",
    "    inputs = test_tmp[['excerpt']]  \n",
    "    inputs['return_type'] = \"default_analyis\" \n",
    "    \n",
    "    backbone_inputs_json = inputs.to_json(orient=\"split\")\n",
    "\n",
    "    try:\n",
    "        response = client.invoke_endpoint(\n",
    "            EndpointName='test-all-models-rsh',\n",
    "            Body=backbone_inputs_json,\n",
    "            ContentType=\"application/json; format=pandas-split\",\n",
    "        )\n",
    "        output = response[\"Body\"].read().decode(\"ascii\")\n",
    "    except Exception:\n",
    "        output = 'error'\n",
    "    #output = literal_eval(output)\n",
    "    \n",
    "    all_outputs.append(output)"
   ]
  },
  {
   "cell_type": "code",
   "execution_count": 20,
   "metadata": {},
   "outputs": [],
   "source": [
    "labels = []\n",
    "threshold_ratio = 1.1\n",
    "\n",
    "for one_output in all_outputs:\n",
    "    output = literal_eval(one_output)[\"raw_predictions\"]\n",
    "    sector_preds = [\n",
    "        f\"sectors->{item}\"\n",
    "        for item, ratio in literal_eval(one_output)[\"raw_predictions\"][\"sectors\"][\n",
    "            0\n",
    "        ].items()\n",
    "        if ratio > threshold_ratio\n",
    "    ]\n",
    "    subpilllars_preds = [\n",
    "        f\"subpillars->{item}\"\n",
    "        for item, ratio in literal_eval(one_output)[\"raw_predictions\"][\"subpillars\"][\n",
    "            0\n",
    "        ].items()\n",
    "        if ratio > threshold_ratio\n",
    "    ]\n",
    "    labels.append(sector_preds + subpilllars_preds)\n",
    "\n",
    "label_counts = dict(Counter(flatten(labels)).most_common(30))"
   ]
  },
  {
   "cell_type": "code",
   "execution_count": 26,
   "metadata": {},
   "outputs": [
    {
     "name": "stderr",
     "output_type": "stream",
     "text": [
      "<ipython-input-26-a07a5db5c05e>:1: SettingWithCopyWarning: \n",
      "A value is trying to be set on a copy of a slice from a DataFrame.\n",
      "Try using .loc[row_indexer,col_indexer] = value instead\n",
      "\n",
      "See the caveats in the documentation: https://pandas.pydata.org/pandas-docs/stable/user_guide/indexing.html#returning-a-view-versus-a-copy\n",
      "  df['predictions'] = [label for label in labels if len(label)>0]\n"
     ]
    },
    {
     "data": {
      "text/html": [
       "<div>\n",
       "<style scoped>\n",
       "    .dataframe tbody tr th:only-of-type {\n",
       "        vertical-align: middle;\n",
       "    }\n",
       "\n",
       "    .dataframe tbody tr th {\n",
       "        vertical-align: top;\n",
       "    }\n",
       "\n",
       "    .dataframe thead th {\n",
       "        text-align: right;\n",
       "    }\n",
       "</style>\n",
       "<table border=\"1\" class=\"dataframe\">\n",
       "  <thead>\n",
       "    <tr style=\"text-align: right;\">\n",
       "      <th></th>\n",
       "      <th>excerpt</th>\n",
       "      <th>predictions</th>\n",
       "    </tr>\n",
       "  </thead>\n",
       "  <tbody>\n",
       "    <tr>\n",
       "      <th>0</th>\n",
       "      <td>DEC Pakistan floods appeal raises £13.5 millio...</td>\n",
       "      <td>[sectors-&gt;Food Security, subpillars-&gt;Shock/Eve...</td>\n",
       "    </tr>\n",
       "    <tr>\n",
       "      <th>1</th>\n",
       "      <td>The Disasters Emergency Committee’s (DEC) appe...</td>\n",
       "      <td>[sectors-&gt;Food Security, sectors-&gt;Nutrition]</td>\n",
       "    </tr>\n",
       "    <tr>\n",
       "      <th>2</th>\n",
       "      <td>The total includes £5 million matched pound-fo...</td>\n",
       "      <td>[subpillars-&gt;Capacities &amp; Response-&gt;Internatio...</td>\n",
       "    </tr>\n",
       "    <tr>\n",
       "      <th>4</th>\n",
       "      <td>Appeal films presented on ITV, Channel 4, Chan...</td>\n",
       "      <td>[subpillars-&gt;Capacities &amp; Response-&gt;Internatio...</td>\n",
       "    </tr>\n",
       "    <tr>\n",
       "      <th>5</th>\n",
       "      <td>DEC Director of Programmes &amp; Accountability Ma...</td>\n",
       "      <td>[sectors-&gt;Health, subpillars-&gt;Impact-&gt;Impact O...</td>\n",
       "    </tr>\n",
       "    <tr>\n",
       "      <th>...</th>\n",
       "      <td>...</td>\n",
       "      <td>...</td>\n",
       "    </tr>\n",
       "    <tr>\n",
       "      <th>479</th>\n",
       "      <td>Our Emergency Response:\\nDoctors Worldwide UK ...</td>\n",
       "      <td>[sectors-&gt;Health, subpillars-&gt;Capacities &amp; Res...</td>\n",
       "    </tr>\n",
       "    <tr>\n",
       "      <th>481</th>\n",
       "      <td>What we are doing NOW &amp; Where:\\nSupporting the...</td>\n",
       "      <td>[sectors-&gt;Health, sectors-&gt;Nutrition, sectors-...</td>\n",
       "    </tr>\n",
       "    <tr>\n",
       "      <th>482</th>\n",
       "      <td>Your donations will be vital in changing and s...</td>\n",
       "      <td>[subpillars-&gt;Priority Interventions-&gt;Expressed...</td>\n",
       "    </tr>\n",
       "    <tr>\n",
       "      <th>483</th>\n",
       "      <td>To support our medical response activities in ...</td>\n",
       "      <td>[sectors-&gt;Health, subpillars-&gt;Priority Interve...</td>\n",
       "    </tr>\n",
       "    <tr>\n",
       "      <th>484</th>\n",
       "      <td>To keep up to date with our projects, make sur...</td>\n",
       "      <td>[subpillars-&gt;Priority Interventions-&gt;Expressed...</td>\n",
       "    </tr>\n",
       "  </tbody>\n",
       "</table>\n",
       "<p>394 rows × 2 columns</p>\n",
       "</div>"
      ],
      "text/plain": [
       "                                               excerpt  \\\n",
       "0    DEC Pakistan floods appeal raises £13.5 millio...   \n",
       "1    The Disasters Emergency Committee’s (DEC) appe...   \n",
       "2    The total includes £5 million matched pound-fo...   \n",
       "4    Appeal films presented on ITV, Channel 4, Chan...   \n",
       "5    DEC Director of Programmes & Accountability Ma...   \n",
       "..                                                 ...   \n",
       "479  Our Emergency Response:\\nDoctors Worldwide UK ...   \n",
       "481  What we are doing NOW & Where:\\nSupporting the...   \n",
       "482  Your donations will be vital in changing and s...   \n",
       "483  To support our medical response activities in ...   \n",
       "484  To keep up to date with our projects, make sur...   \n",
       "\n",
       "                                           predictions  \n",
       "0    [sectors->Food Security, subpillars->Shock/Eve...  \n",
       "1         [sectors->Food Security, sectors->Nutrition]  \n",
       "2    [subpillars->Capacities & Response->Internatio...  \n",
       "4    [subpillars->Capacities & Response->Internatio...  \n",
       "5    [sectors->Health, subpillars->Impact->Impact O...  \n",
       "..                                                 ...  \n",
       "479  [sectors->Health, subpillars->Capacities & Res...  \n",
       "481  [sectors->Health, sectors->Nutrition, sectors-...  \n",
       "482  [subpillars->Priority Interventions->Expressed...  \n",
       "483  [sectors->Health, subpillars->Priority Interve...  \n",
       "484  [subpillars->Priority Interventions->Expressed...  \n",
       "\n",
       "[394 rows x 2 columns]"
      ]
     },
     "execution_count": 26,
     "metadata": {},
     "output_type": "execute_result"
    }
   ],
   "source": [
    "df['predictions'] = labels\n",
    "df = df[df.predictions.apply(lambda x: len(x)>0)]\n",
    "df"
   ]
  },
  {
   "cell_type": "code",
   "execution_count": 43,
   "metadata": {},
   "outputs": [],
   "source": [
    "df.to_csv('pakistan_df.csv.gz', index=None, compression='gzip')"
   ]
  },
  {
   "cell_type": "markdown",
   "metadata": {},
   "source": [
    "## III. Summaries"
   ]
  },
  {
   "cell_type": "code",
   "execution_count": null,
   "metadata": {},
   "outputs": [],
   "source": [
    "data = pd.read_csv('pakistan_df.csv.gz', compression='gzip')\n",
    "data['predictions'] = data['predictions'].apply(literal_eval)\n",
    "\n",
    "summarizer = ReportsGenerator()   \n",
    "important_labels = [label for label, count in label_counts.items() if count>=15]\n",
    "\n",
    "summarized_text = {}\n",
    "for one_label in important_labels:\n",
    "    data_one_label = data[data['predictions'].apply(lambda x: one_label in x)].excerpt.tolist()\n",
    "    summary = summarizer(data_one_label)\n",
    "    summarized_text[one_label] = summary\n",
    "    print(one_label)\n",
    "    print(summary)\n",
    "\n",
    "with open('summary_pakistan.json', 'w') as fp:\n",
    "    json.dump(summary, fp)"
   ]
  },
  {
   "cell_type": "markdown",
   "metadata": {},
   "source": [
    "## IV. Vizu"
   ]
  },
  {
   "cell_type": "code",
   "execution_count": 21,
   "metadata": {},
   "outputs": [],
   "source": [
    "from vizualization import get_barplots"
   ]
  },
  {
   "cell_type": "code",
   "execution_count": 37,
   "metadata": {},
   "outputs": [
    {
     "data": {
      "image/png": "[encoded data removed]",
      "text/plain": [
       "<Figure size 576x288 with 1 Axes>"
      ]
     },
     "metadata": {
      "needs_background": "light"
     },
     "output_type": "display_data"
    },
    {
     "data": {
      "image/png": "[encoded data removed]",
      "text/plain": [
       "<Figure size 864x432 with 1 Axes>"
      ]
     },
     "metadata": {
      "needs_background": "light"
     },
     "output_type": "display_data"
    }
   ],
   "source": [
    "df['predictions_modified'] = df['predictions'].apply(lambda x: ['--'.join(item.split('->')[1:]) for item in x])\n",
    "df['sectors'] = df['predictions_modified'].apply(lambda x: [item for item in x if '--' not in item])\n",
    "df['subpillars'] = df['predictions_modified'].apply(lambda x: [item for item in x if '--' in item])\n",
    "\n",
    "get_barplots(\n",
    "    col=df.sectors,\n",
    "    col_name=\"sectors\",\n",
    "    image_name=\"sectors\",\n",
    "    min_percentage=1,\n",
    ")\n",
    "\n",
    "get_barplots(\n",
    "    col=df.subpillars,\n",
    "    col_name=\"subpillars\",\n",
    "    image_name=\"subpillars\",\n",
    "    min_percentage=1,\n",
    ")"
   ]
  },
  {
   "cell_type": "code",
   "execution_count": null,
   "metadata": {},
   "outputs": [],
   "source": []
  }
 ],
 "metadata": {
  "kernelspec": {
   "display_name": "Python 3.9.1 ('deepl')",
   "language": "python",
   "name": "python3"
  },
  "language_info": {
   "codemirror_mode": {
    "name": "ipython",
    "version": 3
   },
   "file_extension": ".py",
   "mimetype": "text/x-python",
   "name": "python",
   "nbconvert_exporter": "python",
   "pygments_lexer": "ipython3",
   "version": "3.9.1"
  },
  "orig_nbformat": 4,
  "vscode": {
   "interpreter": {
    "hash": "8a5ddf8e25d962f331e8059973cfd97c5aef9d0ccfdd243943e9f1f512e91043"
   }
  }
 },
 "nbformat": 4,
 "nbformat_minor": 2
}
