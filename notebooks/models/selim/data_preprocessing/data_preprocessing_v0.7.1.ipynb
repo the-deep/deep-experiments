{
 "cells": [
  {
   "cell_type": "code",
   "execution_count": 1,
   "metadata": {},
   "outputs": [],
   "source": [
    "import pandas as pd\n",
    "import os\n",
    "from ast import literal_eval\n",
    "from tqdm import tqdm\n",
    "import numpy as np\n",
    "\n",
    "import seaborn as sns"
   ]
  },
  {
   "cell_type": "code",
   "execution_count": 2,
   "metadata": {},
   "outputs": [],
   "source": [
    "def flatten(t):\n",
    "    return [item for sublist in t for item in sublist]"
   ]
  },
  {
   "cell_type": "code",
   "execution_count": 3,
   "metadata": {},
   "outputs": [],
   "source": [
    "DATA_PATH = os.path.join(\n",
    "   '..', '..', '..', '..', \"data\", \"frameworks_data\", 'data_v0.7.1'\n",
    ")\n",
    "RELABELED_DATA_PATH = os.path.join(\n",
    "    DATA_PATH, 'relabeled_data'\n",
    ")"
   ]
  },
  {
   "cell_type": "code",
   "execution_count": 28,
   "metadata": {},
   "outputs": [],
   "source": [
    "original_data = pd.read_csv(os.path.join(DATA_PATH, 'full_dataset_with_translations.csv'))\n",
    "test_data = pd.read_csv(os.path.join(DATA_PATH, 'test_v0.7.1.csv'))\n",
    "\n",
    "keyword_affected = pd.concat([\n",
    "    pd.read_csv(os.path.join(RELABELED_DATA_PATH, 'train_0.7.1_keyword_affected_groups_level_3.csv')),\n",
    "    pd.read_csv(os.path.join(RELABELED_DATA_PATH, 'val_0.7.1_keyword_affected_groups_level_3.csv'))\n",
    "])\n",
    "keyword_age = pd.concat([\n",
    "    pd.read_csv(os.path.join(RELABELED_DATA_PATH, 'train_0.7.1_keyword_age.csv')),\n",
    "    pd.read_csv(os.path.join(RELABELED_DATA_PATH, 'val_0.7.1_keyword_age.csv'))\n",
    "])\n",
    "keyword_gender = pd.concat([\n",
    "    pd.read_csv(os.path.join(RELABELED_DATA_PATH, 'train_0.7.1_keyword_gender.csv')),\n",
    "    pd.read_csv(os.path.join(RELABELED_DATA_PATH, 'val_0.7.1_keyword_gender.csv'))\n",
    "])\n",
    "keyword_specific_needs_groups = pd.concat([\n",
    "    pd.read_csv(os.path.join(RELABELED_DATA_PATH, 'train_0.7.1_keyword_specific_needs_groups.csv')),\n",
    "    pd.read_csv(os.path.join(RELABELED_DATA_PATH, 'val_0.7.1_keyword_specific_needs_groups.csv'))\n",
    "])"
   ]
  },
  {
   "cell_type": "code",
   "execution_count": 5,
   "metadata": {},
   "outputs": [
    {
     "name": "stderr",
     "output_type": "stream",
     "text": [
      "<ipython-input-5-69eb095592f0>:9: SettingWithCopyWarning: \n",
      "A value is trying to be set on a copy of a slice from a DataFrame.\n",
      "Try using .loc[row_indexer,col_indexer] = value instead\n",
      "\n",
      "See the caveats in the documentation: https://pandas.pydata.org/pandas-docs/stable/user_guide/indexing.html#returning-a-view-versus-a-copy\n",
      "  data_tmp[col] = data_tmp[col].apply(literal_eval)\n"
     ]
    }
   ],
   "source": [
    "from collections import Counter\n",
    "\n",
    "important_cols = ['sectors', 'subpillars_2d', 'subpillars_1d']\n",
    "\n",
    "data_tmp = full_data[important_cols]\n",
    "n_data = data_tmp.shape[0]\n",
    "\n",
    "for col in important_cols:\n",
    "    data_tmp[col] = data_tmp[col].apply(literal_eval)\n",
    "\n",
    "def flatten(t):\n",
    "    return [item for sublist in t for item in sublist]\n",
    "\n",
    "full_tags = flatten(data_tmp.apply(lambda x: x['sectors'] + x['subpillars_2d'] + x['subpillars_1d'], axis=1 ))\n",
    "\n",
    "sorted_counts = dict(sorted(\n",
    "    dict(Counter(full_tags)).items(),\n",
    "    key=lambda item: item[1],\n",
    "    reverse=True))\n",
    "\n",
    "Counts = {key: 100*value/n_data for key, value in sorted_counts.items() if key!='NOT_MAPPED' and key!='Cross'}"
   ]
  },
  {
   "cell_type": "code",
   "execution_count": 6,
   "metadata": {},
   "outputs": [
    {
     "data": {
      "text/plain": [
       "['Health', 'Protection', 'Humanitarian Conditions->Living Standards']"
      ]
     },
     "execution_count": 6,
     "metadata": {},
     "output_type": "execute_result"
    }
   ],
   "source": [
    "[key for key, value in Counts.items() if value>15]"
   ]
  },
  {
   "cell_type": "code",
   "execution_count": 7,
   "metadata": {},
   "outputs": [],
   "source": [
    "f1_scores = []\n",
    "counts = []\n",
    "\n",
    "for name in ['results_sectors', 'subpillars_1d_results', 'subpillars_2d_results']:\n",
    "    df = pd.read_csv(f'../test_predictions/{name}.csv').iloc[:-1]\n",
    "    for index, row in df.iterrows():\n",
    "        name_tag = row['names']\n",
    "        try:\n",
    "            counts.append(Counts[name_tag])\n",
    "            f1_scores.append(row['1_f1_score'])\n",
    "        except Exception as e:\n",
    "            pass\n",
    "\n",
    "args_sort_counts = np.argsort(counts)\n",
    "counts_sorted = [counts[i] for i in args_sort_counts]\n",
    "f1_scores_sorted = [f1_scores[i] for i in args_sort_counts]\n",
    "\n",
    "plot_data = pd.DataFrame(\n",
    "    list(zip(counts_sorted, f1_scores_sorted)),\n",
    "    columns=['probability of occurence of tag', 'f1 score on test set']\n",
    ")"
   ]
  },
  {
   "cell_type": "code",
   "execution_count": 8,
   "metadata": {},
   "outputs": [
    {
     "data": {
      "text/html": [
       "<div>\n",
       "<style scoped>\n",
       "    .dataframe tbody tr th:only-of-type {\n",
       "        vertical-align: middle;\n",
       "    }\n",
       "\n",
       "    .dataframe tbody tr th {\n",
       "        vertical-align: top;\n",
       "    }\n",
       "\n",
       "    .dataframe thead th {\n",
       "        text-align: right;\n",
       "    }\n",
       "</style>\n",
       "<table border=\"1\" class=\"dataframe\">\n",
       "  <thead>\n",
       "    <tr style=\"text-align: right;\">\n",
       "      <th></th>\n",
       "      <th>probability of occurence of tag</th>\n",
       "      <th>f1 score on test set</th>\n",
       "    </tr>\n",
       "  </thead>\n",
       "  <tbody>\n",
       "    <tr>\n",
       "      <th>37</th>\n",
       "      <td>2.904120</td>\n",
       "      <td>0.375</td>\n",
       "    </tr>\n",
       "    <tr>\n",
       "      <th>27</th>\n",
       "      <td>1.496695</td>\n",
       "      <td>0.352</td>\n",
       "    </tr>\n",
       "    <tr>\n",
       "      <th>23</th>\n",
       "      <td>1.179502</td>\n",
       "      <td>0.163</td>\n",
       "    </tr>\n",
       "    <tr>\n",
       "      <th>22</th>\n",
       "      <td>1.110492</td>\n",
       "      <td>0.321</td>\n",
       "    </tr>\n",
       "    <tr>\n",
       "      <th>20</th>\n",
       "      <td>1.067440</td>\n",
       "      <td>0.386</td>\n",
       "    </tr>\n",
       "    <tr>\n",
       "      <th>17</th>\n",
       "      <td>0.845848</td>\n",
       "      <td>0.324</td>\n",
       "    </tr>\n",
       "    <tr>\n",
       "      <th>16</th>\n",
       "      <td>0.764176</td>\n",
       "      <td>0.336</td>\n",
       "    </tr>\n",
       "    <tr>\n",
       "      <th>15</th>\n",
       "      <td>0.600198</td>\n",
       "      <td>0.261</td>\n",
       "    </tr>\n",
       "    <tr>\n",
       "      <th>14</th>\n",
       "      <td>0.459645</td>\n",
       "      <td>0.227</td>\n",
       "    </tr>\n",
       "    <tr>\n",
       "      <th>13</th>\n",
       "      <td>0.424823</td>\n",
       "      <td>0.251</td>\n",
       "    </tr>\n",
       "    <tr>\n",
       "      <th>10</th>\n",
       "      <td>0.324157</td>\n",
       "      <td>0.289</td>\n",
       "    </tr>\n",
       "    <tr>\n",
       "      <th>8</th>\n",
       "      <td>0.219693</td>\n",
       "      <td>0.288</td>\n",
       "    </tr>\n",
       "    <tr>\n",
       "      <th>7</th>\n",
       "      <td>0.192468</td>\n",
       "      <td>0.085</td>\n",
       "    </tr>\n",
       "    <tr>\n",
       "      <th>6</th>\n",
       "      <td>0.183605</td>\n",
       "      <td>0.350</td>\n",
       "    </tr>\n",
       "    <tr>\n",
       "      <th>5</th>\n",
       "      <td>0.175374</td>\n",
       "      <td>0.056</td>\n",
       "    </tr>\n",
       "    <tr>\n",
       "      <th>4</th>\n",
       "      <td>0.172209</td>\n",
       "      <td>0.184</td>\n",
       "    </tr>\n",
       "    <tr>\n",
       "      <th>3</th>\n",
       "      <td>0.163978</td>\n",
       "      <td>0.122</td>\n",
       "    </tr>\n",
       "    <tr>\n",
       "      <th>2</th>\n",
       "      <td>0.144351</td>\n",
       "      <td>0.042</td>\n",
       "    </tr>\n",
       "    <tr>\n",
       "      <th>1</th>\n",
       "      <td>0.140553</td>\n",
       "      <td>0.211</td>\n",
       "    </tr>\n",
       "    <tr>\n",
       "      <th>0</th>\n",
       "      <td>0.098134</td>\n",
       "      <td>0.000</td>\n",
       "    </tr>\n",
       "  </tbody>\n",
       "</table>\n",
       "</div>"
      ],
      "text/plain": [
       "    probability of occurence of tag  f1 score on test set\n",
       "37                         2.904120                 0.375\n",
       "27                         1.496695                 0.352\n",
       "23                         1.179502                 0.163\n",
       "22                         1.110492                 0.321\n",
       "20                         1.067440                 0.386\n",
       "17                         0.845848                 0.324\n",
       "16                         0.764176                 0.336\n",
       "15                         0.600198                 0.261\n",
       "14                         0.459645                 0.227\n",
       "13                         0.424823                 0.251\n",
       "10                         0.324157                 0.289\n",
       "8                          0.219693                 0.288\n",
       "7                          0.192468                 0.085\n",
       "6                          0.183605                 0.350\n",
       "5                          0.175374                 0.056\n",
       "4                          0.172209                 0.184\n",
       "3                          0.163978                 0.122\n",
       "2                          0.144351                 0.042\n",
       "1                          0.140553                 0.211\n",
       "0                          0.098134                 0.000"
      ]
     },
     "execution_count": 8,
     "metadata": {},
     "output_type": "execute_result"
    }
   ],
   "source": [
    "plot_data[plot_data['f1 score on test set']<0.4].sort_values(by='probability of occurence of tag', ascending=False)"
   ]
  },
  {
   "cell_type": "code",
   "execution_count": 9,
   "metadata": {},
   "outputs": [
    {
     "name": "stderr",
     "output_type": "stream",
     "text": [
      "<ipython-input-9-173e2f7c60fe>:6: RuntimeWarning: invalid value encountered in log\n",
      "  return a * np.log(b * x) + c\n"
     ]
    },
    {
     "data": {
      "image/png": "[encoded data removed]",
      "text/plain": [
       "<Figure size 576x432 with 1 Axes>"
      ]
     },
     "metadata": {},
     "output_type": "display_data"
    }
   ],
   "source": [
    "import numpy as np\n",
    "import matplotlib.pyplot as plt\n",
    "from scipy.optimize import curve_fit\n",
    "\n",
    "def func(x, a, b, c):\n",
    "    return a * np.log(b * x) + c\n",
    "\n",
    "x = np.array(counts_sorted)\n",
    "yn = np.array(f1_scores_sorted)\n",
    "\n",
    "popt, pcov = curve_fit(func,  x,  yn)\n",
    "\n",
    "plt.figure(figsize=(8, 6), facecolor='white')\n",
    "plt.plot(x, yn, 'ko', label=\"1 point = 1 tag\")\n",
    "plt.plot(x, func(x, *popt), '-r', label=\"Fitted Curve\")\n",
    "plt.legend(loc='lower right')\n",
    "\n",
    "plt.yticks(fontsize=12)\n",
    "plt.xticks(fontsize=12)\n",
    "plt.xlabel('probability of occurence of tag', fontsize=14)\n",
    "plt.ylabel('f1 score on test set', fontsize=14)\n",
    "plt.ylim(top=1)\n",
    "plt.title('tags performance as a function of\\nthe probability of occurence', fontsize=16)\n",
    "plt.savefig('../../../amld_code/img/tags_score_vs_proba.png', bbox_inches=\"tight\")"
   ]
  },
  {
   "cell_type": "code",
   "execution_count": 10,
   "metadata": {},
   "outputs": [
    {
     "data": {
      "text/plain": [
       "'import matplotlib.pyplot as plt\\nimport seaborn as sns\\nplt.figure(figsize=(8, 6), facecolor=\\'white\\')\\n\\nsns.lmplot(x=\\'probability of occurence of tag\\', y=\\'f1 score on test set\\', data=plot_data,\\n           order=1, scatter_kws={\"s\": 40}, line_kws={\\'color\\': \\'cyan\\'})\\nplt.yticks(fontsize=12)\\nplt.xticks(fontsize=12)\\nplt.xlabel(\\'probability of occurence of tag\\', fontsize=14)\\nplt.ylabel(\\'f1 score on test set\\', fontsize=14)\\nplt.ylim(top=1)\\nplt.title(\\'tags performance as a function of\\nthe probability of occurence\\', fontsize=16)\\nplt.savefig(\\'../../amld_code/img/tags_score_vs_proba.png\\', bbox_inches=\"tight\")'"
      ]
     },
     "execution_count": 10,
     "metadata": {},
     "output_type": "execute_result"
    }
   ],
   "source": [
    "\"\"\"import matplotlib.pyplot as plt\n",
    "import seaborn as sns\n",
    "plt.figure(figsize=(8, 6), facecolor='white')\n",
    "\n",
    "sns.lmplot(x='probability of occurence of tag', y='f1 score on test set', data=plot_data,\n",
    "           order=1, scatter_kws={\"s\": 40}, line_kws={'color': 'cyan'})\n",
    "plt.yticks(fontsize=12)\n",
    "plt.xticks(fontsize=12)\n",
    "plt.xlabel('probability of occurence of tag', fontsize=14)\n",
    "plt.ylabel('f1 score on test set', fontsize=14)\n",
    "plt.ylim(top=1)\n",
    "plt.title('tags performance as a function of\\nthe probability of occurence', fontsize=16)\n",
    "plt.savefig('../../amld_code/img/tags_score_vs_proba.png', bbox_inches=\"tight\")\"\"\""
   ]
  },
  {
   "cell_type": "code",
   "execution_count": 11,
   "metadata": {},
   "outputs": [
    {
     "data": {
      "image/png": "[encoded data removed]",
      "text/plain": [
       "<Figure size 576x432 with 1 Axes>"
      ]
     },
     "metadata": {},
     "output_type": "display_data"
    }
   ],
   "source": [
    "import matplotlib.pyplot as plt\n",
    "plt.figure(figsize=(8, 6), facecolor='white')\n",
    "sns.barplot(x=list(Counts.keys()), y=list(Counts.values()), palette='mako')\n",
    "plt.tick_params(\n",
    "    axis='x',          # changes apply to the x-axis\n",
    "    which='both',      # both major and minor ticks are affected\n",
    "    bottom=False,      # ticks along the bottom edge are off\n",
    "    top=False,         # ticks along the top edge are off\n",
    "    labelbottom=False)\n",
    "\n",
    "plt.yticks(fontsize=16)\n",
    "plt.xlabel('tags in data (1 bar = 1 tag)', fontsize=16)\n",
    "plt.ylabel('occurence probability in entries (%)', fontsize=16)\n",
    "plt.title('diagram of tags occurences probability', fontsize=18)\n",
    "plt.savefig('../../../amld_code/img/tags_proba.png', bbox_inches=\"tight\")"
   ]
  },
  {
   "cell_type": "code",
   "execution_count": 12,
   "metadata": {},
   "outputs": [
    {
     "data": {
      "text/plain": [
       "{'en': 61.78995618811254, 'fr': 19.407020031909237, 'es': 18.803023779978222}"
      ]
     },
     "execution_count": 12,
     "metadata": {},
     "output_type": "execute_result"
    }
   ],
   "source": [
    "{key: 100*value / (97596 + 30653 + 29699) for key, value in dict(Counter(full_data.lang).most_common(3)).items()}"
   ]
  },
  {
   "cell_type": "code",
   "execution_count": 13,
   "metadata": {},
   "outputs": [
    {
     "data": {
      "image/png": "[encoded data removed]",
      "text/plain": [
       "<Figure size 576x432 with 1 Axes>"
      ]
     },
     "metadata": {},
     "output_type": "display_data"
    }
   ],
   "source": [
    "import matplotlib.pyplot as plt\n",
    "# The slices will be ordered and plotted counter-clockwise.\n",
    "plt.figure(figsize=(8, 6), facecolor='white')\n",
    "\n",
    "labels = ['English (62 %)', 'French (19 %)', 'Spanish (19 %)']\n",
    "sizes = [62, 19, 19]\n",
    "colors = ['yellowgreen', 'lightskyblue', 'lightcoral']\n",
    "patches, texts = plt.pie(sizes, colors=colors, startangle=90)\n",
    "plt.legend(patches, labels, loc=\"best\", fontsize=12)\n",
    "# Set aspect ratio to be equal so that pie is drawn as a circle.\n",
    "plt.title('piechart showing languages distribution in data', fontsize=16)\n",
    "plt.axis('equal')\n",
    "plt.tight_layout()\n",
    "plt.savefig('../../../amld_code/img/piechart_lang.png', bbox_inches=\"tight\")"
   ]
  },
  {
   "cell_type": "code",
   "execution_count": 40,
   "metadata": {},
   "outputs": [],
   "source": [
    "full_data = pd.merge(\n",
    "    right=original_data,\n",
    "    left=keyword_affected,\n",
    "    on='entry_id',\n",
    "    how='right'\n",
    ")\n",
    "full_data = pd.merge(\n",
    "    right=full_data,\n",
    "    left=keyword_age,\n",
    "    on='entry_id',\n",
    "    how='right'\n",
    ")\n",
    "full_data = pd.merge(\n",
    "    right=full_data,\n",
    "    left=keyword_gender,\n",
    "    on='entry_id',\n",
    "    how='right'\n",
    ")\n",
    "full_data = pd.merge(\n",
    "    right=full_data,\n",
    "    left=keyword_specific_needs_groups,\n",
    "    on='entry_id',\n",
    "    how='right'\n",
    ")"
   ]
  },
  {
   "cell_type": "code",
   "execution_count": 41,
   "metadata": {},
   "outputs": [],
   "source": [
    "full_data = full_data.drop(columns=[\n",
    "    'age', 'gender', 'specific_needs_groups', 'affected_groups_level_0',\n",
    "       'affected_groups_level_1', 'affected_groups_level_2',\n",
    "       'affected_groups_level_3']).\\\n",
    "        rename(columns={'specific_needs_groups_kw': 'specific_needs_groups',\n",
    "                        'gender_kw_pred': 'gender', 'age_kw_pred': 'age',\n",
    "                        'affected_groups_level_3_kw': 'affected_groups'\n",
    "                       })"
   ]
  },
  {
   "cell_type": "code",
   "execution_count": 42,
   "metadata": {},
   "outputs": [
    {
     "data": {
      "text/plain": [
       "Index(['entry_id', 'specific_needs_groups', 'gender', 'age', 'affected_groups',\n",
       "       'excerpt', 'analysis_framework_id', 'lead_id', 'project_id', 'verified',\n",
       "       'sectors', 'subpillars_2d', 'subpillars_1d', 'geo_location', 'severity',\n",
       "       'info_date', 'reliability', 'source_type', 'url', 'website', 'lang',\n",
       "       'translation_en', 'translation_fr', 'translation_es'],\n",
       "      dtype='object')"
      ]
     },
     "execution_count": 42,
     "metadata": {},
     "output_type": "execute_result"
    }
   ],
   "source": [
    "full_data.columns"
   ]
  },
  {
   "cell_type": "code",
   "execution_count": 43,
   "metadata": {},
   "outputs": [
    {
     "data": {
      "text/plain": [
       "(158698, 24)"
      ]
     },
     "execution_count": 43,
     "metadata": {},
     "output_type": "execute_result"
    }
   ],
   "source": [
    "full_data.shape"
   ]
  },
  {
   "cell_type": "markdown",
   "metadata": {},
   "source": [
    "### subpillars setup"
   ]
  },
  {
   "cell_type": "code",
   "execution_count": 44,
   "metadata": {},
   "outputs": [],
   "source": [
    "sec_tags_mapper = {\n",
    "    #\"Humanitarian Conditions->Number Of People In Need\": \"Number Tags->Number Of People In Need\",\n",
    "    #\"Capacities & Response->Number Of People Reached/Response Gaps\": \"Number Tags->Capacities & Response Number Of People Reached/Response Gaps\",\n",
    "    #\"At Risk->Number Of People At Risk\": \"Number Tags->Number Of People At Risk\",\n",
    "    #\"Displacement->Type/Numbers/Movements\": \"Number Tags->Displacement Type/Numbers/Movements\",\n",
    "    #\"Humanitarian Access->Number Of People Facing Humanitarian Access Constraints/Humanitarian Access Gaps\": \"Number Tags->Humanitarian Access Number Of People Facing Humanitarian Access Constraints/Humanitarian Access Gaps\",\n",
    "    \n",
    "    \"At Risk->Risk And Vulnerabilities\": \"Humanitarian Conditions->At Risk\",\n",
    "\n",
    "    \"Priority Interventions->Expressed By Humanitarian Staff\": \"Priorities->Interventions Expressed By Humanitarian Staff\",\n",
    "    \"Priority Interventions->Expressed By Population\": \"Priorities->Interventions Expressed By Population\",\n",
    "    \"Priority Needs->Expressed By Humanitarian Staff\": \"Priorities->Needs Expressed By Humanitarian Staff\",\n",
    "    \"Priority Needs->Expressed By Population\": \"Priorities->Needs Expressed By Population\",\n",
    "}\n",
    "\n",
    "keys = list(sec_tags_mapper.keys())\n",
    "\n",
    "def get_new_subpillars(row):\n",
    "    final_row = []\n",
    "    for item in row:\n",
    "        \n",
    "        if item != 'NOT_MAPPED':\n",
    "            if item in keys:\n",
    "                final_row.append(f'subpillars->{sec_tags_mapper[item]}')\n",
    "            elif 'number' not in item.lower():\n",
    "                final_row.append(f'subpillars->{item}')\n",
    "\n",
    "    return list(set(final_row))\n",
    "\n",
    "for col in [\"subpillars_2d\", \"subpillars_1d\"]:\n",
    "    full_data[f'{col}_modified'] = full_data[col].apply(\n",
    "        lambda x: get_new_subpillars(literal_eval(x))\n",
    "    )\n",
    "\n",
    "full_data['subpillars'] = full_data.apply(\n",
    "    lambda x: flatten([x[f'{tag}_modified'] for tag in ['subpillars_1d', 'subpillars_2d']]), axis=1\n",
    ")\n"
   ]
  },
  {
   "cell_type": "code",
   "execution_count": 45,
   "metadata": {},
   "outputs": [
    {
     "data": {
      "text/plain": [
       "0         [subpillars->Capacities & Response->Internatio...\n",
       "1         [subpillars->Context->Socio Cultural, subpilla...\n",
       "2         [subpillars->Shock/Event->Underlying/Aggravati...\n",
       "3         [subpillars->Humanitarian Access->Physical Con...\n",
       "4                     [subpillars->Context->Socio Cultural]\n",
       "                                ...                        \n",
       "158693                                                   []\n",
       "158694                                                   []\n",
       "158695                                                   []\n",
       "158696                                                   []\n",
       "158697                                                   []\n",
       "Name: subpillars, Length: 158698, dtype: object"
      ]
     },
     "execution_count": 45,
     "metadata": {},
     "output_type": "execute_result"
    }
   ],
   "source": [
    "full_data['subpillars']"
   ]
  },
  {
   "cell_type": "code",
   "execution_count": 62,
   "metadata": {},
   "outputs": [
    {
     "data": {
      "text/plain": [
       "['subpillars->Capacities & Response->International Response',\n",
       " 'subpillars->Capacities & Response->Local Response',\n",
       " 'subpillars->Capacities & Response->National Response',\n",
       " 'subpillars->Casualties->Dead',\n",
       " 'subpillars->Casualties->Injured',\n",
       " 'subpillars->Casualties->Missing',\n",
       " 'subpillars->Context->Demography',\n",
       " 'subpillars->Context->Economy',\n",
       " 'subpillars->Context->Environment',\n",
       " 'subpillars->Context->Legal & Policy',\n",
       " 'subpillars->Context->Politics',\n",
       " 'subpillars->Context->Security & Stability',\n",
       " 'subpillars->Context->Socio Cultural',\n",
       " 'subpillars->Covid-19->Cases',\n",
       " 'subpillars->Covid-19->Contact Tracing',\n",
       " 'subpillars->Covid-19->Deaths',\n",
       " 'subpillars->Covid-19->Hospitalization & Care',\n",
       " 'subpillars->Covid-19->Restriction Measures',\n",
       " 'subpillars->Covid-19->Testing',\n",
       " 'subpillars->Covid-19->Vaccination',\n",
       " 'subpillars->Displacement->Intentions',\n",
       " 'subpillars->Displacement->Local Integration',\n",
       " 'subpillars->Displacement->Pull Factors',\n",
       " 'subpillars->Displacement->Push Factors',\n",
       " 'subpillars->Humanitarian Access->Physical Constraints',\n",
       " 'subpillars->Humanitarian Access->Population To Relief',\n",
       " 'subpillars->Humanitarian Access->Relief To Population',\n",
       " 'subpillars->Humanitarian Conditions->At Risk',\n",
       " 'subpillars->Humanitarian Conditions->Coping Mechanisms',\n",
       " 'subpillars->Humanitarian Conditions->Living Standards',\n",
       " 'subpillars->Humanitarian Conditions->Physical And Mental Well Being',\n",
       " 'subpillars->Impact->Driver/Aggravating Factors',\n",
       " 'subpillars->Impact->Impact On People',\n",
       " 'subpillars->Impact->Impact On Systems, Services And Networks',\n",
       " 'subpillars->Information And Communication->Communication Means And Preferences',\n",
       " 'subpillars->Information And Communication->Information Challenges And Barriers',\n",
       " 'subpillars->Information And Communication->Knowledge And Info Gaps (Hum)',\n",
       " 'subpillars->Information And Communication->Knowledge And Info Gaps (Pop)',\n",
       " 'subpillars->Priorities->Interventions Expressed By Humanitarian Staff',\n",
       " 'subpillars->Priorities->Interventions Expressed By Population',\n",
       " 'subpillars->Priorities->Needs Expressed By Humanitarian Staff',\n",
       " 'subpillars->Priorities->Needs Expressed By Population',\n",
       " 'subpillars->Shock/Event->Hazard & Threats',\n",
       " 'subpillars->Shock/Event->Type And Characteristics',\n",
       " 'subpillars->Shock/Event->Underlying/Aggravating Factors']"
      ]
     },
     "execution_count": 62,
     "metadata": {},
     "output_type": "execute_result"
    }
   ],
   "source": [
    "sorted(list(set(flatten(full_data['subpillars']))))"
   ]
  },
  {
   "cell_type": "markdown",
   "metadata": {},
   "source": [
    "### prim_tags setup"
   ]
  },
  {
   "cell_type": "code",
   "execution_count": 46,
   "metadata": {},
   "outputs": [],
   "source": [
    "all_sectors = [\n",
    "    \"Livelihoods\",\n",
    "    \"Food Security\",\n",
    "    \"WASH\",\n",
    "    \"Logistics\",\n",
    "    \"Health\",\n",
    "    \"Shelter\",\n",
    "    \"Nutrition\",\n",
    "    \"Education\",\n",
    "    \"Protection\",\n",
    "    \"Agriculture\",\n",
    "]\n",
    "\n",
    "full_data['sectors'] = full_data['sectors'].apply(\n",
    "        lambda x: [item for item in literal_eval(x) if item != \"NOT_MAPPED\"]\n",
    "    )"
   ]
  },
  {
   "cell_type": "code",
   "execution_count": 65,
   "metadata": {},
   "outputs": [],
   "source": [
    "sectors_tags_part_one = [\"Protection\", \"Food Security\", \"Health\", \"Livelihoods\"]\n",
    "sectors_tags_part_two = list(set(all_sectors) - set(sectors_tags_part_one))\n",
    "\n",
    "full_data[\"sectors_part_one\"] = full_data.sectors.apply(\n",
    "    lambda x: list(\n",
    "        set(\n",
    "            [\n",
    "                f\"first_level_tags->sectors_part_one->{item}\"\n",
    "                for item in x\n",
    "                if item in sectors_tags_part_one\n",
    "            ]\n",
    "        )\n",
    "    )\n",
    ")\n",
    "\n",
    "full_data[\"sectors_part_two\"] = full_data.sectors.apply(\n",
    "    lambda x: list(\n",
    "        set(\n",
    "            [\n",
    "                f\"first_level_tags->sectors_part_two->{item}\"\n",
    "                for item in x\n",
    "                if item in sectors_tags_part_two\n",
    "            ]\n",
    "        )\n",
    "    )\n",
    ")\n",
    "\n",
    "full_data[\"pillars_1d\"] = full_data.subpillars_1d_modified.apply(\n",
    "    lambda x: list(\n",
    "        set([f'first_level_tags->pillars_1d->{item.split(\"->\")[1]}' for item in x])\n",
    "    )\n",
    ")\n",
    "\n",
    "full_data[\"pillars_2d\"] = full_data.subpillars_2d_modified.apply(\n",
    "    lambda x: list(\n",
    "        set([f'first_level_tags->pillars_2d->{item.split(\"->\")[1]}' for item in x])\n",
    "    )\n",
    ")\n",
    "\n",
    "# add a risk pillar\n",
    "full_data[\"at_risk_pillar\"] = full_data.subpillars_2d.apply(\n",
    "    lambda x: list(\n",
    "        set(\n",
    "            [\n",
    "                f\"first_level_tags->pillars_2d->At Risk\"\n",
    "                for item in literal_eval(x)\n",
    "                if \"at risk\" in item.lower()\n",
    "            ]\n",
    "        )\n",
    "    )\n",
    ")\n",
    "\n",
    "# number tags included with pillar 2d because they have a smaller number of pillars compared to pillars 1d\n",
    "full_data[\"number_tags\"] = full_data.apply(\n",
    "    lambda x: list(\n",
    "        set(\n",
    "            [\n",
    "                \"first_level_tags->pillars_2d->number_tag\"\n",
    "                for item in literal_eval(x.subpillars_2d)\n",
    "                + literal_eval(x.subpillars_1d)\n",
    "                if \"number\" in item.lower()\n",
    "            ]\n",
    "        )\n",
    "    ),\n",
    "    axis=1,\n",
    ")\n",
    "\n",
    "\n",
    "first_level_tags = [\n",
    "    \"sectors_part_one\",\n",
    "    \"sectors_part_two\",\n",
    "    \"pillars_1d\",\n",
    "    \"pillars_2d\",\n",
    "    \"number_tags\",\n",
    "    \"at_risk_pillar\",\n",
    "]\n",
    "\n",
    "full_data[\"first_level_tags\"] = full_data.apply(\n",
    "    lambda x: flatten([x[tag] for tag in first_level_tags]), axis=1\n",
    ")\n"
   ]
  },
  {
   "cell_type": "code",
   "execution_count": 66,
   "metadata": {},
   "outputs": [
    {
     "data": {
      "text/plain": [
       "array(['[]', \"['first_level_tags->pillars_2d->At Risk']\"], dtype=object)"
      ]
     },
     "execution_count": 66,
     "metadata": {},
     "output_type": "execute_result"
    }
   ],
   "source": [
    "full_data[\"at_risk_pillar\"].apply(str).unique()"
   ]
  },
  {
   "cell_type": "code",
   "execution_count": 67,
   "metadata": {},
   "outputs": [
    {
     "data": {
      "text/plain": [
       "0         [first_level_tags->sectors_part_one->Health, f...\n",
       "1         [first_level_tags->sectors_part_two->Education...\n",
       "2         [first_level_tags->sectors_part_one->Food Secu...\n",
       "3         [first_level_tags->pillars_1d->Humanitarian Ac...\n",
       "4                   [first_level_tags->pillars_1d->Context]\n",
       "                                ...                        \n",
       "158693                                                   []\n",
       "158694                                                   []\n",
       "158695                                                   []\n",
       "158696                                                   []\n",
       "158697                                                   []\n",
       "Name: first_level_tags, Length: 158698, dtype: object"
      ]
     },
     "execution_count": 67,
     "metadata": {},
     "output_type": "execute_result"
    }
   ],
   "source": [
    "full_data['first_level_tags']"
   ]
  },
  {
   "cell_type": "code",
   "execution_count": 68,
   "metadata": {},
   "outputs": [
    {
     "data": {
      "text/plain": [
       "['first_level_tags->pillars_1d->Casualties',\n",
       " 'first_level_tags->pillars_1d->Context',\n",
       " 'first_level_tags->pillars_1d->Covid-19',\n",
       " 'first_level_tags->pillars_1d->Displacement',\n",
       " 'first_level_tags->pillars_1d->Humanitarian Access',\n",
       " 'first_level_tags->pillars_1d->Information And Communication',\n",
       " 'first_level_tags->pillars_1d->Shock/Event',\n",
       " 'first_level_tags->pillars_2d->At Risk',\n",
       " 'first_level_tags->pillars_2d->Capacities & Response',\n",
       " 'first_level_tags->pillars_2d->Humanitarian Conditions',\n",
       " 'first_level_tags->pillars_2d->Impact',\n",
       " 'first_level_tags->pillars_2d->Priorities',\n",
       " 'first_level_tags->pillars_2d->number_tag',\n",
       " 'first_level_tags->sectors_part_one->Food Security',\n",
       " 'first_level_tags->sectors_part_one->Health',\n",
       " 'first_level_tags->sectors_part_one->Livelihoods',\n",
       " 'first_level_tags->sectors_part_one->Protection',\n",
       " 'first_level_tags->sectors_part_two->Agriculture',\n",
       " 'first_level_tags->sectors_part_two->Education',\n",
       " 'first_level_tags->sectors_part_two->Logistics',\n",
       " 'first_level_tags->sectors_part_two->Nutrition',\n",
       " 'first_level_tags->sectors_part_two->Shelter',\n",
       " 'first_level_tags->sectors_part_two->WASH']"
      ]
     },
     "execution_count": 68,
     "metadata": {},
     "output_type": "execute_result"
    }
   ],
   "source": [
    "sorted(list(set(flatten(full_data['first_level_tags']))))"
   ]
  },
  {
   "cell_type": "markdown",
   "metadata": {},
   "source": [
    "### sec tags setup"
   ]
  },
  {
   "cell_type": "code",
   "execution_count": 69,
   "metadata": {},
   "outputs": [],
   "source": [
    "def custom_eval(x):\n",
    "    if str(x)=='nan':\n",
    "        return []\n",
    "    if str(x)=='[None]':\n",
    "        return []\n",
    "    if type(x)==list:\n",
    "        return x\n",
    "    else:\n",
    "        return literal_eval(x)\n",
    "\n",
    "full_data['demographic_groups'] = full_data.apply(\n",
    "    lambda x: flatten([custom_eval(x[tag]) for tag in ['age', 'gender']]), axis=1\n",
    ")"
   ]
  },
  {
   "cell_type": "code",
   "execution_count": 70,
   "metadata": {},
   "outputs": [],
   "source": [
    "second_level_tags = ['demographic_groups',  'specific_needs_groups', 'severity', 'affected_groups']\n",
    "\n",
    "for col in second_level_tags:\n",
    "    full_data[col] = full_data[col].apply(\n",
    "       lambda x: list(set([f\"secondary_tags->{col}->{item}\" for item in custom_eval(x) if item!='NOT_MAPPED']))\n",
    "    )\n",
    "\n",
    "full_data['second_level_tags'] = full_data.apply(\n",
    "    lambda x: flatten([x[tag] for tag in second_level_tags]), axis=1\n",
    ")"
   ]
  },
  {
   "cell_type": "code",
   "execution_count": 71,
   "metadata": {},
   "outputs": [
    {
     "data": {
      "text/plain": [
       "0                    [secondary_tags->severity->No problem]\n",
       "1                         [secondary_tags->severity->Major]\n",
       "2                    [secondary_tags->severity->Of Concern]\n",
       "3                                                        []\n",
       "4                                                        []\n",
       "                                ...                        \n",
       "158693                                                   []\n",
       "158694                                                   []\n",
       "158695    [secondary_tags->demographic_groups->Children/...\n",
       "158696    [secondary_tags->demographic_groups->Male, sec...\n",
       "158697    [secondary_tags->specific_needs_groups->Person...\n",
       "Name: second_level_tags, Length: 158698, dtype: object"
      ]
     },
     "execution_count": 71,
     "metadata": {},
     "output_type": "execute_result"
    }
   ],
   "source": [
    "full_data['second_level_tags']"
   ]
  },
  {
   "cell_type": "code",
   "execution_count": 72,
   "metadata": {},
   "outputs": [],
   "source": [
    "all_tags = ['first_level_tags', 'second_level_tags', 'subpillars']\n",
    "\n",
    "full_data['target'] = full_data.apply(\n",
    "    lambda x: flatten([x[tag] for tag in all_tags]), axis=1\n",
    ")"
   ]
  },
  {
   "cell_type": "code",
   "execution_count": 73,
   "metadata": {},
   "outputs": [
    {
     "data": {
      "text/plain": [
       "0         [first_level_tags->sectors_part_one->Health, f...\n",
       "1         [first_level_tags->sectors_part_two->Education...\n",
       "2         [first_level_tags->sectors_part_one->Food Secu...\n",
       "3         [first_level_tags->pillars_1d->Humanitarian Ac...\n",
       "4         [first_level_tags->pillars_1d->Context, subpil...\n",
       "                                ...                        \n",
       "158693                                                   []\n",
       "158694                                                   []\n",
       "158695    [secondary_tags->demographic_groups->Children/...\n",
       "158696    [secondary_tags->demographic_groups->Male, sec...\n",
       "158697    [secondary_tags->specific_needs_groups->Person...\n",
       "Name: target, Length: 158698, dtype: object"
      ]
     },
     "execution_count": 73,
     "metadata": {},
     "output_type": "execute_result"
    }
   ],
   "source": [
    "full_data['target']"
   ]
  },
  {
   "cell_type": "code",
   "execution_count": 74,
   "metadata": {},
   "outputs": [],
   "source": [
    "all_names = list(set(flatten(full_data['target'])))\n",
    "split_names = [name.split(\"->\") for name in all_names]\n",
    "\n",
    "assert np.all([len(name_list) == 3 for name_list in split_names])"
   ]
  },
  {
   "cell_type": "code",
   "execution_count": 75,
   "metadata": {},
   "outputs": [
    {
     "data": {
      "text/plain": [
       "97"
      ]
     },
     "execution_count": 75,
     "metadata": {},
     "output_type": "execute_result"
    }
   ],
   "source": [
    "len(all_names)"
   ]
  },
  {
   "cell_type": "code",
   "execution_count": 76,
   "metadata": {},
   "outputs": [
    {
     "data": {
      "text/plain": [
       "(3, 19)"
      ]
     },
     "execution_count": 76,
     "metadata": {},
     "output_type": "execute_result"
    }
   ],
   "source": [
    "def get_first_level_ids():\n",
    "\n",
    "    assert np.all([len(name_list) == 3 for name_list in split_names])\n",
    "    final_ids = []\n",
    "\n",
    "    tag_id = 0\n",
    "    first_level_names = list(np.unique([name_list[0] for name_list in split_names]))\n",
    "    for first_level_name in first_level_names:\n",
    "        first_level_ids = []\n",
    "        kept_names = [\n",
    "            name_list[1:]\n",
    "            for name_list in split_names\n",
    "            if name_list[0] == first_level_name\n",
    "        ]\n",
    "        second_level_names = list(np.unique([name[0] for name in kept_names]))\n",
    "        for second_level_name in second_level_names:\n",
    "            second_level_ids = []\n",
    "            third_level_names = [\n",
    "                name_list[1]\n",
    "                for name_list in kept_names\n",
    "                if name_list[0] == second_level_name\n",
    "            ]\n",
    "            for _ in range(len(third_level_names)):\n",
    "                second_level_ids.append(tag_id)\n",
    "                tag_id += 1\n",
    "            first_level_ids.append(second_level_ids)\n",
    "        final_ids.append(first_level_ids)\n",
    "\n",
    "    flat_ids = [\n",
    "        small_list for mid_list in final_ids for small_list in mid_list\n",
    "    ]\n",
    "    return final_ids, flat_ids\n",
    "\n",
    "final_ids, flat_ids = get_first_level_ids()\n",
    "\n",
    "len(final_ids), len(flat_ids)"
   ]
  },
  {
   "cell_type": "code",
   "execution_count": 77,
   "metadata": {},
   "outputs": [
    {
     "data": {
      "text/plain": [
       "[[[0, 1, 2, 3, 4, 5, 6],\n",
       "  [7, 8, 9, 10, 11, 12],\n",
       "  [13, 14, 15, 16],\n",
       "  [17, 18, 19, 20, 21, 22]],\n",
       " [[23, 24, 25, 26, 27, 28],\n",
       "  [29, 30, 31, 32, 33, 34],\n",
       "  [35, 36, 37, 38, 39],\n",
       "  [40, 41, 42, 43, 44, 45, 46, 47, 48, 49, 50, 51]],\n",
       " [[52, 53, 54],\n",
       "  [55, 56, 57],\n",
       "  [58, 59, 60, 61, 62, 63, 64],\n",
       "  [65, 66, 67, 68, 69, 70, 71],\n",
       "  [72, 73, 74, 75],\n",
       "  [76, 77, 78],\n",
       "  [79, 80, 81, 82],\n",
       "  [83, 84, 85],\n",
       "  [86, 87, 88, 89],\n",
       "  [90, 91, 92, 93],\n",
       "  [94, 95, 96]]]"
      ]
     },
     "execution_count": 77,
     "metadata": {},
     "output_type": "execute_result"
    }
   ],
   "source": [
    "final_ids"
   ]
  },
  {
   "cell_type": "code",
   "execution_count": 78,
   "metadata": {},
   "outputs": [
    {
     "data": {
      "text/plain": [
       "[[0, 1, 2, 3, 4, 5, 6],\n",
       " [7, 8, 9, 10, 11, 12],\n",
       " [13, 14, 15, 16],\n",
       " [17, 18, 19, 20, 21, 22],\n",
       " [23, 24, 25, 26, 27, 28],\n",
       " [29, 30, 31, 32, 33, 34],\n",
       " [35, 36, 37, 38, 39],\n",
       " [40, 41, 42, 43, 44, 45, 46, 47, 48, 49, 50, 51],\n",
       " [52, 53, 54],\n",
       " [55, 56, 57],\n",
       " [58, 59, 60, 61, 62, 63, 64],\n",
       " [65, 66, 67, 68, 69, 70, 71],\n",
       " [72, 73, 74, 75],\n",
       " [76, 77, 78],\n",
       " [79, 80, 81, 82],\n",
       " [83, 84, 85],\n",
       " [86, 87, 88, 89],\n",
       " [90, 91, 92, 93],\n",
       " [94, 95, 96]]"
      ]
     },
     "execution_count": 78,
     "metadata": {},
     "output_type": "execute_result"
    }
   ],
   "source": [
    "flat_ids "
   ]
  },
  {
   "cell_type": "code",
   "execution_count": 79,
   "metadata": {},
   "outputs": [
    {
     "data": {
      "text/plain": [
       "['subpillars->Information And Communication->Knowledge And Info Gaps (Hum)',\n",
       " 'subpillars->Capacities & Response->National Response',\n",
       " 'secondary_tags->affected_groups->Host',\n",
       " 'first_level_tags->sectors_part_two->Education',\n",
       " 'subpillars->Shock/Event->Underlying/Aggravating Factors',\n",
       " 'subpillars->Covid-19->Testing',\n",
       " 'subpillars->Context->Economy',\n",
       " 'subpillars->Covid-19->Hospitalization & Care',\n",
       " 'subpillars->Priorities->Needs Expressed By Humanitarian Staff',\n",
       " 'subpillars->Priorities->Interventions Expressed By Humanitarian Staff',\n",
       " 'first_level_tags->sectors_part_two->Nutrition',\n",
       " 'subpillars->Displacement->Pull Factors',\n",
       " 'subpillars->Priorities->Needs Expressed By Population',\n",
       " 'subpillars->Displacement->Push Factors',\n",
       " 'subpillars->Shock/Event->Hazard & Threats',\n",
       " 'secondary_tags->demographic_groups->Male',\n",
       " 'first_level_tags->sectors_part_one->Health',\n",
       " 'secondary_tags->specific_needs_groups->Child Head of Household',\n",
       " 'first_level_tags->pillars_2d->At Risk',\n",
       " 'subpillars->Covid-19->Restriction Measures',\n",
       " 'subpillars->Shock/Event->Type And Characteristics',\n",
       " 'secondary_tags->affected_groups->Returnees',\n",
       " 'subpillars->Priorities->Interventions Expressed By Population',\n",
       " 'secondary_tags->affected_groups->Refugees',\n",
       " 'secondary_tags->demographic_groups->Infants/Toddlers (<5 years old)',\n",
       " 'secondary_tags->severity->Minor Problem',\n",
       " 'first_level_tags->pillars_1d->Shock/Event',\n",
       " 'secondary_tags->severity->No problem',\n",
       " 'secondary_tags->specific_needs_groups->GBV survivors',\n",
       " 'secondary_tags->specific_needs_groups->Pregnant or Lactating Women',\n",
       " 'subpillars->Humanitarian Access->Relief To Population',\n",
       " 'secondary_tags->affected_groups->Asylum Seekers',\n",
       " 'first_level_tags->pillars_1d->Displacement',\n",
       " 'subpillars->Humanitarian Conditions->Physical And Mental Well Being',\n",
       " 'subpillars->Context->Politics',\n",
       " 'subpillars->Displacement->Local Integration',\n",
       " 'first_level_tags->pillars_2d->Capacities & Response',\n",
       " 'subpillars->Casualties->Missing',\n",
       " 'first_level_tags->pillars_1d->Information And Communication',\n",
       " 'first_level_tags->sectors_part_one->Food Security',\n",
       " 'subpillars->Humanitarian Access->Population To Relief',\n",
       " 'first_level_tags->sectors_part_one->Livelihoods',\n",
       " 'subpillars->Humanitarian Conditions->Living Standards',\n",
       " 'subpillars->Covid-19->Cases',\n",
       " 'secondary_tags->specific_needs_groups->Chronically Ill',\n",
       " 'secondary_tags->demographic_groups->Adult (18 to 59 years old)',\n",
       " 'subpillars->Context->Socio Cultural',\n",
       " 'secondary_tags->demographic_groups->Female',\n",
       " 'subpillars->Context->Legal & Policy',\n",
       " 'subpillars->Information And Communication->Information Challenges And Barriers',\n",
       " 'secondary_tags->specific_needs_groups->Persons with Disability',\n",
       " 'subpillars->Context->Demography',\n",
       " 'subpillars->Information And Communication->Knowledge And Info Gaps (Pop)',\n",
       " 'first_level_tags->sectors_part_two->Logistics',\n",
       " 'subpillars->Covid-19->Vaccination',\n",
       " 'secondary_tags->specific_needs_groups->Minorities',\n",
       " 'first_level_tags->pillars_1d->Humanitarian Access',\n",
       " 'subpillars->Impact->Impact On Systems, Services And Networks',\n",
       " 'secondary_tags->severity->Critical',\n",
       " 'first_level_tags->pillars_1d->Casualties',\n",
       " 'first_level_tags->sectors_part_two->Shelter',\n",
       " 'first_level_tags->pillars_2d->Priorities',\n",
       " 'secondary_tags->demographic_groups->Older Persons (60+ years old)',\n",
       " 'subpillars->Humanitarian Access->Physical Constraints',\n",
       " 'first_level_tags->pillars_2d->number_tag',\n",
       " 'first_level_tags->sectors_part_two->Agriculture',\n",
       " 'subpillars->Casualties->Injured',\n",
       " 'subpillars->Context->Security & Stability',\n",
       " 'first_level_tags->pillars_1d->Context',\n",
       " 'subpillars->Capacities & Response->International Response',\n",
       " 'subpillars->Capacities & Response->Local Response',\n",
       " 'subpillars->Context->Environment',\n",
       " 'subpillars->Humanitarian Conditions->At Risk',\n",
       " 'subpillars->Casualties->Dead',\n",
       " 'secondary_tags->specific_needs_groups->Single Women (including Widows)',\n",
       " 'secondary_tags->specific_needs_groups->Elderly Head of Household',\n",
       " 'first_level_tags->pillars_2d->Impact',\n",
       " 'subpillars->Impact->Impact On People',\n",
       " 'secondary_tags->specific_needs_groups->Unaccompanied or Separated Children',\n",
       " 'subpillars->Displacement->Intentions',\n",
       " 'secondary_tags->specific_needs_groups->Female Head of Household',\n",
       " 'first_level_tags->sectors_part_one->Protection',\n",
       " 'subpillars->Information And Communication->Communication Means And Preferences',\n",
       " 'secondary_tags->severity->Of Concern',\n",
       " 'secondary_tags->severity->Major',\n",
       " 'subpillars->Humanitarian Conditions->Coping Mechanisms',\n",
       " 'first_level_tags->pillars_1d->Covid-19',\n",
       " 'subpillars->Impact->Driver/Aggravating Factors',\n",
       " 'subpillars->Covid-19->Deaths',\n",
       " 'secondary_tags->affected_groups->Migrants',\n",
       " 'first_level_tags->sectors_part_two->WASH',\n",
       " 'secondary_tags->specific_needs_groups->Indigenous people',\n",
       " 'first_level_tags->pillars_2d->Humanitarian Conditions',\n",
       " 'secondary_tags->specific_needs_groups->LGBTQI+',\n",
       " 'secondary_tags->demographic_groups->Children/Youth (5 to 17 years old)',\n",
       " 'secondary_tags->affected_groups->IDP',\n",
       " 'subpillars->Covid-19->Contact Tracing']"
      ]
     },
     "execution_count": 79,
     "metadata": {},
     "output_type": "execute_result"
    }
   ],
   "source": [
    "all_names"
   ]
  },
  {
   "cell_type": "code",
   "execution_count": 80,
   "metadata": {},
   "outputs": [
    {
     "data": {
      "text/plain": [
       "['Information Challenges And Barriers',\n",
       " 'Agriculture',\n",
       " 'Humanitarian Conditions',\n",
       " 'Living Standards',\n",
       " 'Nutrition',\n",
       " 'Impact',\n",
       " 'Injured',\n",
       " 'Adult (18 to 59 years old)',\n",
       " 'Food Security',\n",
       " 'Male',\n",
       " 'number_tag',\n",
       " 'Local Integration',\n",
       " 'Older Persons (60+ years old)',\n",
       " 'Missing',\n",
       " 'Physical Constraints',\n",
       " 'Economy',\n",
       " 'demographic_groups',\n",
       " 'Impact On People',\n",
       " 'Pull Factors',\n",
       " 'Knowledge And Info Gaps (Pop)',\n",
       " 'subpillars',\n",
       " 'Impact On Systems, Services And Networks',\n",
       " 'Protection',\n",
       " 'Type And Characteristics',\n",
       " 'Female Head of Household',\n",
       " 'Restriction Measures',\n",
       " 'Communication Means And Preferences',\n",
       " 'Information And Communication',\n",
       " 'Infants/Toddlers (<5 years old)',\n",
       " 'At Risk',\n",
       " 'Driver/Aggravating Factors',\n",
       " 'Livelihoods',\n",
       " 'Pregnant or Lactating Women',\n",
       " 'Major',\n",
       " 'secondary_tags',\n",
       " 'Education',\n",
       " 'Dead',\n",
       " 'Hospitalization & Care',\n",
       " 'Relief To Population',\n",
       " 'Minorities',\n",
       " 'Elderly Head of Household',\n",
       " 'specific_needs_groups',\n",
       " 'first_level_tags',\n",
       " 'Of Concern',\n",
       " 'Intentions',\n",
       " 'pillars_2d',\n",
       " 'Knowledge And Info Gaps (Hum)',\n",
       " 'Push Factors',\n",
       " 'Children/Youth (5 to 17 years old)',\n",
       " 'Vaccination',\n",
       " 'Asylum Seekers',\n",
       " 'Covid-19',\n",
       " 'Minor Problem',\n",
       " 'Host',\n",
       " 'Single Women (including Widows)',\n",
       " 'Returnees',\n",
       " 'IDP',\n",
       " 'severity',\n",
       " 'LGBTQI+',\n",
       " 'Testing',\n",
       " 'Chronically Ill',\n",
       " 'Underlying/Aggravating Factors',\n",
       " 'Deaths',\n",
       " 'Female',\n",
       " 'Refugees',\n",
       " 'Hazard & Threats',\n",
       " 'Population To Relief',\n",
       " 'Interventions Expressed By Humanitarian Staff',\n",
       " 'Unaccompanied or Separated Children',\n",
       " 'Casualties',\n",
       " 'pillars_1d',\n",
       " 'Context',\n",
       " 'sectors_part_two',\n",
       " 'Critical',\n",
       " 'Cases',\n",
       " 'sectors_part_one',\n",
       " 'Priorities',\n",
       " 'Coping Mechanisms',\n",
       " 'Capacities & Response',\n",
       " 'Needs Expressed By Humanitarian Staff',\n",
       " 'Politics',\n",
       " 'Logistics',\n",
       " 'Shock/Event',\n",
       " 'Humanitarian Access',\n",
       " 'National Response',\n",
       " 'Environment',\n",
       " 'affected_groups',\n",
       " 'Shelter',\n",
       " 'No problem',\n",
       " 'Interventions Expressed By Population',\n",
       " 'Demography',\n",
       " 'Legal & Policy',\n",
       " 'Child Head of Household',\n",
       " 'Security & Stability',\n",
       " 'Indigenous people',\n",
       " 'Migrants',\n",
       " 'GBV survivors',\n",
       " 'Socio Cultural',\n",
       " 'Health',\n",
       " 'Displacement',\n",
       " 'International Response',\n",
       " 'Local Response',\n",
       " 'Needs Expressed By Population',\n",
       " 'Contact Tracing',\n",
       " 'WASH',\n",
       " 'Persons with Disability',\n",
       " 'Physical And Mental Well Being']"
      ]
     },
     "execution_count": 80,
     "metadata": {},
     "output_type": "execute_result"
    }
   ],
   "source": [
    "list(set([small_list for mid_list in split_names for small_list in mid_list]))"
   ]
  },
  {
   "cell_type": "code",
   "execution_count": null,
   "metadata": {},
   "outputs": [],
   "source": []
  },
  {
   "cell_type": "code",
   "execution_count": 83,
   "metadata": {},
   "outputs": [
    {
     "data": {
      "text/plain": [
       "Index(['entry_id', 'specific_needs_groups', 'gender', 'age', 'affected_groups',\n",
       "       'excerpt', 'analysis_framework_id', 'lead_id', 'project_id', 'verified',\n",
       "       'sectors', 'subpillars_2d', 'subpillars_1d', 'geo_location', 'severity',\n",
       "       'info_date', 'reliability', 'source_type', 'url', 'website', 'lang',\n",
       "       'translation_en', 'translation_fr', 'translation_es',\n",
       "       'subpillars_2d_modified', 'subpillars_1d_modified', 'subpillars',\n",
       "       'sectors_part_one', 'sectors_part_two', 'pillars_1d', 'pillars_2d',\n",
       "       'number_tags', 'first_level_tags', 'at_risk_pillar',\n",
       "       'demographic_groups', 'second_level_tags', 'target'],\n",
       "      dtype='object')"
      ]
     },
     "execution_count": 83,
     "metadata": {},
     "output_type": "execute_result"
    }
   ],
   "source": [
    "train_val_full = full_data[~full_data.entry_id.isin(test_data.entry_id)]\n",
    "train_val_full.columns"
   ]
  },
  {
   "cell_type": "code",
   "execution_count": 84,
   "metadata": {},
   "outputs": [],
   "source": [
    "fr_df = train_val_full[['entry_id', 'translation_fr']]\\\n",
    "        .rename(columns={'translation_fr':'excerpt'}).dropna()\n",
    "#fr_df['lang'] = 'fr'\n",
    "\n",
    "en_df = train_val_full[['entry_id', 'translation_en']]\\\n",
    "        .rename(columns={'translation_en':'excerpt'}).dropna()\n",
    "#en_df['lang'] = 'en'\n",
    "\n",
    "es_df = train_val_full[['entry_id', 'translation_es']]\\\n",
    "        .rename(columns={'translation_es':'excerpt'}).dropna()\n",
    "#es_df['lang'] = 'es'\n",
    "\n",
    "augmented_data = pd.concat([en_df, fr_df, es_df])"
   ]
  },
  {
   "cell_type": "code",
   "execution_count": 85,
   "metadata": {},
   "outputs": [],
   "source": [
    "augmented_data = pd.merge(\n",
    "    right=train_val_full.drop(columns=[\n",
    "        'excerpt', 'translation_en', 'translation_fr', 'translation_es']\n",
    "                           ),\n",
    "    left=augmented_data[['entry_id', 'excerpt']],\n",
    "    on='entry_id',\n",
    "    how='right'\n",
    ")"
   ]
  },
  {
   "cell_type": "code",
   "execution_count": 86,
   "metadata": {},
   "outputs": [],
   "source": [
    "train_val_df = pd.concat([train_val_full, augmented_data])[['excerpt', 'entry_id', 'target']]"
   ]
  },
  {
   "cell_type": "code",
   "execution_count": 87,
   "metadata": {},
   "outputs": [],
   "source": [
    "train_val_df.to_csv(os.path.join(DATA_PATH, 'new_columns_train_val.csv'), index=None)"
   ]
  },
  {
   "cell_type": "code",
   "execution_count": null,
   "metadata": {},
   "outputs": [
    {
     "data": {
      "text/plain": [
       "Index(['entry_id', 'specific_needs_groups', 'gender', 'age', 'affected_groups',\n",
       "       'excerpt', 'analysis_framework_id', 'lead_id', 'project_id', 'verified',\n",
       "       'sectors', 'subpillars_2d', 'subpillars_1d', 'geo_location', 'severity',\n",
       "       'info_date', 'reliability', 'source_type', 'url', 'website', 'lang',\n",
       "       'pillars_1d', 'pillars_2d', 'subpillars', 'secondary_tags',\n",
       "       'sectors_with_arrows', 'pillars_with_arrows', 'part3_hno'],\n",
       "      dtype='object')"
      ]
     },
     "execution_count": 50,
     "metadata": {},
     "output_type": "execute_result"
    }
   ],
   "source": [
    "train_val_df.columns"
   ]
  },
  {
   "cell_type": "code",
   "execution_count": null,
   "metadata": {},
   "outputs": [],
   "source": []
  },
  {
   "cell_type": "code",
   "execution_count": null,
   "metadata": {},
   "outputs": [
    {
     "name": "stderr",
     "output_type": "stream",
     "text": [
      "/home/selim/anaconda3/lib/python3.8/site-packages/IPython/core/interactiveshell.py:3146: DtypeWarning: Columns (6) have mixed types.Specify dtype option on import or set low_memory=False.\n",
      "  has_raised = await self.run_ast_nodes(code_ast.body, cell_name,\n"
     ]
    }
   ],
   "source": [
    "\n",
    "tot_df = pd.read_csv(os.path.join(DATA_PATH, 'new_columns_train_val.csv')).drop_duplicates()\n",
    "test_df = pd.read_csv(os.path.join(DATA_PATH, 'new_columns_test_v0.7.1.csv'))"
   ]
  },
  {
   "cell_type": "code",
   "execution_count": null,
   "metadata": {},
   "outputs": [
    {
     "data": {
      "text/plain": [
       "6"
      ]
     },
     "execution_count": 49,
     "metadata": {},
     "output_type": "execute_result"
    }
   ],
   "source": [
    "len(set(flat_results))"
   ]
  },
  {
   "cell_type": "code",
   "execution_count": null,
   "metadata": {},
   "outputs": [
    {
     "data": {
      "text/plain": [
       "Counter({'severity->Of Concern': 33001,\n",
       "         'affected_groups->Migrants': 33426,\n",
       "         'severity->Major': 44085,\n",
       "         'age->Children/Youth (5 to 17 years old)': 53064,\n",
       "         'gender->Female': 65372,\n",
       "         'gender->Male': 36137,\n",
       "         'affected_groups->Refugees': 36326,\n",
       "         'severity->Critical': 41876,\n",
       "         'specific_needs_groups->GBV survivors': 19625,\n",
       "         'age->Infants/Toddlers (<5 years old)': 10655,\n",
       "         'specific_needs_groups->Pregnant or Lactating Women': 7929,\n",
       "         'specific_needs_groups->Female Head of Household': 2850,\n",
       "         'specific_needs_groups->Persons with Disability': 6732,\n",
       "         'specific_needs_groups->Chronically Ill': 18413,\n",
       "         'specific_needs_groups->LGBTQI+': 1401,\n",
       "         'affected_groups->Host': 20444,\n",
       "         'affected_groups->Returnees': 15821,\n",
       "         'specific_needs_groups->Indigenous people': 4308,\n",
       "         'specific_needs_groups->Minorities': 6882,\n",
       "         'age->Older Persons (60+ years old)': 6234,\n",
       "         'affected_groups->IDP': 51797,\n",
       "         'specific_needs_groups->Unaccompanied or Separated Children': 3219,\n",
       "         'affected_groups->Asylum Seekers': 3720,\n",
       "         'age->Adult (18 to 59 years old)': 5514,\n",
       "         'specific_needs_groups->Single Women (including Widows)': 963,\n",
       "         'specific_needs_groups->Elderly Head of Household': 312,\n",
       "         'specific_needs_groups->Child Head of Household': 501,\n",
       "         'severity->Minor Problem': 486,\n",
       "         'severity->No problem': 5781})"
      ]
     },
     "execution_count": 50,
     "metadata": {},
     "output_type": "execute_result"
    }
   ],
   "source": [
    "from collections import Counter\n",
    "flat_results = flatten(tot_df.secondary_tags.apply(literal_eval))\n",
    "Counter(flat_results)"
   ]
  },
  {
   "cell_type": "code",
   "execution_count": null,
   "metadata": {},
   "outputs": [
    {
     "data": {
      "text/plain": [
       "'Information And Communication, Displacement, Context, Priority Needs, Impact, Capacities & Response, Shock/Event, Humanitarian Conditions, Priority Interventions, Casualties, At Risk, Humanitarian Access, Covid-19'"
      ]
     },
     "execution_count": 51,
     "metadata": {},
     "output_type": "execute_result"
    }
   ],
   "source": [
    "', '.join(list(set(flatten(tot_df.subpillars.apply(literal_eval).apply(\n",
    "    lambda t: [x.split('->')[0] for x in t]\n",
    ")))))"
   ]
  },
  {
   "cell_type": "code",
   "execution_count": null,
   "metadata": {},
   "outputs": [],
   "source": [
    "tot_df['target'] = tot_df.secondary_tags.apply(literal_eval)"
   ]
  },
  {
   "cell_type": "code",
   "execution_count": null,
   "metadata": {},
   "outputs": [],
   "source": [
    "import random\n",
    "\n",
    "def custom_stratified_train_test_split(df, ratios):\n",
    "    \"\"\"\n",
    "    custom function for stratified train test splitting\n",
    "    1) take unique sub-tags (example: ['Health'])\n",
    "    2) For each unique subtag:\n",
    "        i) take all indexes that have that specific subtag\n",
    "        ii) split them randomly to train and test sets\n",
    "    \"\"\"\n",
    "    train_ids = []\n",
    "    val_ids = []\n",
    "    positive_df = df.copy()\n",
    "    positive_df[\"target\"] = positive_df[\"target\"].apply(str)\n",
    "    ids = positive_df.groupby(\"target\")[\"entry_id\"].agg(list).values\n",
    "    unique_ids = [list(np.unique(list_)) for list_ in ids]\n",
    "\n",
    "    for ids_entry in unique_ids:\n",
    "\n",
    "        train_ids_entry = random.sample(\n",
    "            ids_entry, int(len(ids_entry) * ratios[\"train\"])\n",
    "        )\n",
    "        val_ids_entry = list(set(ids_entry) - set(train_ids_entry))\n",
    "\n",
    "        train_ids.append(train_ids_entry)\n",
    "        val_ids.append(val_ids_entry)\n",
    "\n",
    "    return flatten(train_ids), flatten(val_ids)"
   ]
  },
  {
   "cell_type": "code",
   "execution_count": null,
   "metadata": {},
   "outputs": [],
   "source": [
    "ratios = {\n",
    "    \"train\": 0.8,\n",
    "    \"val\": 0.2,\n",
    "}\n",
    "\n",
    "train_pos_entries, val_pos_entries = custom_stratified_train_test_split(\n",
    "    tot_df, ratios\n",
    ")\n",
    "\n",
    "df_train = tot_df[tot_df.entry_id.isin(train_pos_entries)]\n",
    "df_val = tot_df[tot_df.entry_id.isin(val_pos_entries)]"
   ]
  },
  {
   "cell_type": "code",
   "execution_count": null,
   "metadata": {},
   "outputs": [
    {
     "data": {
      "text/plain": [
       "(29, 29)"
      ]
     },
     "execution_count": 55,
     "metadata": {},
     "output_type": "execute_result"
    }
   ],
   "source": [
    "len(list(set(flatten(df_train.target)))), len(list(set(flatten(df_val.target))))"
   ]
  },
  {
   "cell_type": "code",
   "execution_count": null,
   "metadata": {},
   "outputs": [],
   "source": []
  },
  {
   "cell_type": "code",
   "execution_count": null,
   "metadata": {},
   "outputs": [],
   "source": []
  }
 ],
 "metadata": {
  "interpreter": {
   "hash": "8a5ddf8e25d962f331e8059973cfd97c5aef9d0ccfdd243943e9f1f512e91043"
  },
  "kernelspec": {
   "display_name": "Python 3.9.1 ('deepl')",
   "language": "python",
   "name": "python3"
  },
  "language_info": {
   "codemirror_mode": {
    "name": "ipython",
    "version": 3
   },
   "file_extension": ".py",
   "mimetype": "text/x-python",
   "name": "python",
   "nbconvert_exporter": "python",
   "pygments_lexer": "ipython3",
   "version": "3.9.1"
  }
 },
 "nbformat": 4,
 "nbformat_minor": 4
}
