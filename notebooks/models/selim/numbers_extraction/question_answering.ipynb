{
 "cells": [
  {
   "cell_type": "code",
   "execution_count": 1,
   "metadata": {},
   "outputs": [],
   "source": [
    "import pandas as pd\n",
    "from ast import literal_eval\n",
    "import os\n",
    "from collections import Counter\n",
    "import numpy as np\n",
    "from tqdm import tqdm"
   ]
  },
  {
   "cell_type": "code",
   "execution_count": 2,
   "metadata": {},
   "outputs": [
    {
     "name": "stderr",
     "output_type": "stream",
     "text": [
      "/home/selim/anaconda3/envs/deepl/lib/python3.9/site-packages/IPython/core/interactiveshell.py:3165: DtypeWarning: Columns (5) have mixed types.Specify dtype option on import or set low_memory=False.\n",
      "  has_raised = await self.run_ast_nodes(code_ast.body, cell_name,\n"
     ]
    }
   ],
   "source": [
    "def flatten(t):\n",
    "    return [item for sublist in t for item in sublist]\n",
    "\n",
    "DATA_PATH = os.path.join(\n",
    "    '..', '..', '..', '..', \"data\", \"frameworks_data\", 'data_v0.7.1'\n",
    ")\n",
    "\n",
    "full_df = pd.read_csv(os.path.join(DATA_PATH, 'full_dataset_with_translations.csv'))\n",
    "\n",
    "for col in ['subpillars_2d', 'subpillars_1d']:\n",
    "    full_df[col] = full_df[col].apply(literal_eval)\n",
    "\n",
    "full_df['subpillars'] = full_df.apply(\n",
    "    lambda x: x.subpillars_2d + x.subpillars_1d, axis=1\n",
    ")"
   ]
  },
  {
   "cell_type": "code",
   "execution_count": null,
   "metadata": {},
   "outputs": [],
   "source": []
  },
  {
   "cell_type": "code",
   "execution_count": 3,
   "metadata": {},
   "outputs": [
    {
     "data": {
      "text/html": [
       "<div>\n",
       "<style scoped>\n",
       "    .dataframe tbody tr th:only-of-type {\n",
       "        vertical-align: middle;\n",
       "    }\n",
       "\n",
       "    .dataframe tbody tr th {\n",
       "        vertical-align: top;\n",
       "    }\n",
       "\n",
       "    .dataframe thead th {\n",
       "        text-align: right;\n",
       "    }\n",
       "</style>\n",
       "<table border=\"1\" class=\"dataframe\">\n",
       "  <thead>\n",
       "    <tr style=\"text-align: right;\">\n",
       "      <th></th>\n",
       "      <th>entry_id</th>\n",
       "      <th>excerpt</th>\n",
       "      <th>subpillars</th>\n",
       "      <th>project_id</th>\n",
       "      <th>project_title</th>\n",
       "    </tr>\n",
       "  </thead>\n",
       "  <tbody>\n",
       "    <tr>\n",
       "      <th>0</th>\n",
       "      <td>186155</td>\n",
       "      <td>Impacto en las personas a. Inseguridad aliment...</td>\n",
       "      <td>[Impact-&gt;Number Of People Affected, At Risk-&gt;R...</td>\n",
       "      <td>1898.0</td>\n",
       "      <td>UNHCR El Salvador</td>\n",
       "    </tr>\n",
       "    <tr>\n",
       "      <th>1</th>\n",
       "      <td>187037</td>\n",
       "      <td>• According to the World Bank, most Venezuelan...</td>\n",
       "      <td>[Displacement-&gt;Type/Numbers/Movements, Humanit...</td>\n",
       "      <td>1184.0</td>\n",
       "      <td>UNHCR Ecuador</td>\n",
       "    </tr>\n",
       "    <tr>\n",
       "      <th>2</th>\n",
       "      <td>346234</td>\n",
       "      <td>De otro lado, resaltamos que las niñas y adole...</td>\n",
       "      <td>[Humanitarian Conditions-&gt;Physical And Mental ...</td>\n",
       "      <td>2311.0</td>\n",
       "      <td>IMMAP/DFS Colombia</td>\n",
       "    </tr>\n",
       "    <tr>\n",
       "      <th>3</th>\n",
       "      <td>241161</td>\n",
       "      <td>En cuanto a las comunidades rurales, periurban...</td>\n",
       "      <td>[Humanitarian Conditions-&gt;Number Of People In ...</td>\n",
       "      <td>2311.0</td>\n",
       "      <td>IMMAP/DFS Colombia</td>\n",
       "    </tr>\n",
       "    <tr>\n",
       "      <th>4</th>\n",
       "      <td>186874</td>\n",
       "      <td>La dieta promedio nacional cumple con los requ...</td>\n",
       "      <td>[At Risk-&gt;Risk And Vulnerabilities, At Risk-&gt;N...</td>\n",
       "      <td>1184.0</td>\n",
       "      <td>UNHCR Ecuador</td>\n",
       "    </tr>\n",
       "    <tr>\n",
       "      <th>...</th>\n",
       "      <td>...</td>\n",
       "      <td>...</td>\n",
       "      <td>...</td>\n",
       "      <td>...</td>\n",
       "      <td>...</td>\n",
       "    </tr>\n",
       "    <tr>\n",
       "      <th>15965</th>\n",
       "      <td>218958</td>\n",
       "      <td>Although food distribution amounts per househo...</td>\n",
       "      <td>[Capacities &amp; Response-&gt;International Response...</td>\n",
       "      <td>2335.0</td>\n",
       "      <td>GIMAC South Sudan</td>\n",
       "    </tr>\n",
       "    <tr>\n",
       "      <th>15966</th>\n",
       "      <td>218960</td>\n",
       "      <td>In July, WFP reached .95 million in the first ...</td>\n",
       "      <td>[Capacities &amp; Response-&gt;International Response...</td>\n",
       "      <td>2335.0</td>\n",
       "      <td>GIMAC South Sudan</td>\n",
       "    </tr>\n",
       "    <tr>\n",
       "      <th>15967</th>\n",
       "      <td>318213</td>\n",
       "      <td>An upsurge in violence severely impacted human...</td>\n",
       "      <td>[Humanitarian Access-&gt;Number Of People Facing ...</td>\n",
       "      <td>2335.0</td>\n",
       "      <td>GIMAC South Sudan</td>\n",
       "    </tr>\n",
       "    <tr>\n",
       "      <th>15968</th>\n",
       "      <td>307062</td>\n",
       "      <td>Conflict between Somaliland and Puntland over ...</td>\n",
       "      <td>[NOT_MAPPED, Capacities &amp; Response-&gt;Number Of ...</td>\n",
       "      <td>2331.0</td>\n",
       "      <td>GIMAC Somalia</td>\n",
       "    </tr>\n",
       "    <tr>\n",
       "      <th>15969</th>\n",
       "      <td>306893</td>\n",
       "      <td>PSNs (Persons with Specific Needs) are not dis...</td>\n",
       "      <td>[Capacities &amp; Response-&gt;International Response...</td>\n",
       "      <td>2335.0</td>\n",
       "      <td>GIMAC South Sudan</td>\n",
       "    </tr>\n",
       "  </tbody>\n",
       "</table>\n",
       "<p>15970 rows × 5 columns</p>\n",
       "</div>"
      ],
      "text/plain": [
       "       entry_id                                            excerpt  \\\n",
       "0        186155  Impacto en las personas a. Inseguridad aliment...   \n",
       "1        187037  • According to the World Bank, most Venezuelan...   \n",
       "2        346234  De otro lado, resaltamos que las niñas y adole...   \n",
       "3        241161  En cuanto a las comunidades rurales, periurban...   \n",
       "4        186874  La dieta promedio nacional cumple con los requ...   \n",
       "...         ...                                                ...   \n",
       "15965    218958  Although food distribution amounts per househo...   \n",
       "15966    218960  In July, WFP reached .95 million in the first ...   \n",
       "15967    318213  An upsurge in violence severely impacted human...   \n",
       "15968    307062  Conflict between Somaliland and Puntland over ...   \n",
       "15969    306893  PSNs (Persons with Specific Needs) are not dis...   \n",
       "\n",
       "                                              subpillars  project_id  \\\n",
       "0      [Impact->Number Of People Affected, At Risk->R...      1898.0   \n",
       "1      [Displacement->Type/Numbers/Movements, Humanit...      1184.0   \n",
       "2      [Humanitarian Conditions->Physical And Mental ...      2311.0   \n",
       "3      [Humanitarian Conditions->Number Of People In ...      2311.0   \n",
       "4      [At Risk->Risk And Vulnerabilities, At Risk->N...      1184.0   \n",
       "...                                                  ...         ...   \n",
       "15965  [Capacities & Response->International Response...      2335.0   \n",
       "15966  [Capacities & Response->International Response...      2335.0   \n",
       "15967  [Humanitarian Access->Number Of People Facing ...      2335.0   \n",
       "15968  [NOT_MAPPED, Capacities & Response->Number Of ...      2331.0   \n",
       "15969  [Capacities & Response->International Response...      2335.0   \n",
       "\n",
       "            project_title  \n",
       "0       UNHCR El Salvador  \n",
       "1           UNHCR Ecuador  \n",
       "2      IMMAP/DFS Colombia  \n",
       "3      IMMAP/DFS Colombia  \n",
       "4           UNHCR Ecuador  \n",
       "...                   ...  \n",
       "15965   GIMAC South Sudan  \n",
       "15966   GIMAC South Sudan  \n",
       "15967   GIMAC South Sudan  \n",
       "15968       GIMAC Somalia  \n",
       "15969   GIMAC South Sudan  \n",
       "\n",
       "[15970 rows x 5 columns]"
      ]
     },
     "execution_count": 3,
     "metadata": {},
     "output_type": "execute_result"
    }
   ],
   "source": [
    "numbers_df = full_df[full_df.subpillars.apply(\n",
    "    lambda x: any(['number' in item.lower() for item in x])\n",
    ")][['entry_id', 'excerpt', 'subpillars', 'project_id']]\n",
    "\n",
    "PROJECTS_PATH = os.path.join(\n",
    "    '..', '..', '..', '..', \"data\", \"frameworks_data\", 'data_v0.7', 'projects.csv'\n",
    ")\n",
    "\n",
    "projects = pd.read_csv(PROJECTS_PATH)[['id', 'title']].rename(\n",
    "    columns={'id': 'project_id', 'title': 'project_title'}\n",
    ")\n",
    "\n",
    "numbers_df = numbers_df.merge(projects, on='project_id', how='left')\n",
    "numbers_df"
   ]
  },
  {
   "cell_type": "code",
   "execution_count": 4,
   "metadata": {},
   "outputs": [
    {
     "data": {
      "text/plain": [
       "(15970, 5)"
      ]
     },
     "execution_count": 4,
     "metadata": {},
     "output_type": "execute_result"
    }
   ],
   "source": [
    "numbers_df.shape "
   ]
  },
  {
   "cell_type": "code",
   "execution_count": 4,
   "metadata": {},
   "outputs": [],
   "source": [
    "numbers_df.to_csv('number_related_tags.csv')"
   ]
  },
  {
   "cell_type": "code",
   "execution_count": 5,
   "metadata": {},
   "outputs": [
    {
     "data": {
      "text/plain": [
       "[('Displacement->Type/Numbers/Movements', 9051),\n",
       " ('Capacities & Response->Number Of People Reached/Response Gaps', 3419),\n",
       " ('Impact->Number Of People Affected', 2364),\n",
       " ('Humanitarian Conditions->Number Of People In Need', 1339),\n",
       " ('Humanitarian Access->Number Of People Facing Humanitarian Access Constraints/Humanitarian Access Gaps',\n",
       "  726),\n",
       " ('At Risk->Number Of People At Risk', 277)]"
      ]
     },
     "execution_count": 5,
     "metadata": {},
     "output_type": "execute_result"
    }
   ],
   "source": [
    "tags = flatten(numbers_df['subpillars'])\n",
    "all_numbers_tags = [item for item in tags if 'number' in item.lower()]\n",
    "Counter(all_numbers_tags).most_common(10)"
   ]
  },
  {
   "cell_type": "code",
   "execution_count": 6,
   "metadata": {},
   "outputs": [],
   "source": [
    "questions = {\n",
    "   'Displacement->Type/Numbers/Movements': 'How many people have been displaced?', \n",
    "\n",
    "   'Capacities & Response->Number Of People Reached/Response Gaps': 'How many people have been reached?',\n",
    "\n",
    "   'Impact->Number Of People Affected': 'How many people are affected?',\n",
    "\n",
    "   'Humanitarian Conditions->Number Of People In Need': 'How many people are in need?',\n",
    "\n",
    "   'Humanitarian Access->Number Of People Facing Humanitarian Access Constraints/Humanitarian Access Gaps': 'How many people are facing humanitarian acceess gaps or constrainsts?',\n",
    "\n",
    "   'At Risk->Number Of People At Risk': 'How many people are at risk?'\n",
    "}"
   ]
  },
  {
   "cell_type": "code",
   "execution_count": null,
   "metadata": {},
   "outputs": [],
   "source": []
  },
  {
   "cell_type": "code",
   "execution_count": 7,
   "metadata": {},
   "outputs": [],
   "source": [
    "from transformers import pipeline\n",
    "\n",
    "qa_model = pipeline(\"question-answering\")\n"
   ]
  },
  {
   "cell_type": "code",
   "execution_count": 8,
   "metadata": {},
   "outputs": [
    {
     "data": {
      "text/plain": [
       "['Impact->Number Of People Affected',\n",
       " 'Displacement->Type/Numbers/Movements',\n",
       " 'Humanitarian Access->Number Of People Facing Humanitarian Access Constraints/Humanitarian Access Gaps',\n",
       " 'Humanitarian Conditions->Number Of People In Need',\n",
       " 'Capacities & Response->Number Of People Reached/Response Gaps',\n",
       " 'At Risk->Number Of People At Risk']"
      ]
     },
     "execution_count": 8,
     "metadata": {},
     "output_type": "execute_result"
    }
   ],
   "source": [
    "number_related_tags = list(set(all_numbers_tags))\n",
    "number_related_tags"
   ]
  },
  {
   "cell_type": "code",
   "execution_count": 13,
   "metadata": {},
   "outputs": [
    {
     "data": {
      "text/plain": [
       "array(['UNHCR El Salvador', 'UNHCR Ecuador', 'IMMAP/DFS Colombia',\n",
       "       'IMMAP/DFS Nigeria', 'UNHCR Honduras', 'UNHCR Trinidad and Tobago',\n",
       "       'IMMAP/DFS RDC', 'UNHCR Uruguay', 'UNHCR Guatemala',\n",
       "       'UNHCR Colombia', 'IMMAP/DFS Burkina Faso', 'IMMAP/DFS Syria',\n",
       "       'UNHCR Costa Rica', 'UNHCR Dominican Republic', 'UNHCR Argentina',\n",
       "       'Lebanon Situation Analysis', 'UNHCR Chile',\n",
       "       'IMMAP/DFS Bangladesh', 'UNHCR Panama', 'UNHCR Peru',\n",
       "       'UNHCR Guyana',\n",
       "       'Bosnia and Herzegovina_Population Movement Report',\n",
       "       'Central America: Hurricanes Eta and Iota', 'UNHCR Bolivia',\n",
       "       'UNHCR Venezuela', 'Sudan Floods - September 2020',\n",
       "       'UNHCR Paraguay', 'UNHCR Aruba', 'UNHCR Curacao',\n",
       "       'IFRC Philippines', '2020 DFS Libya', 'IFRC Nigeria',\n",
       "       'Nigeria Situation Analysis (OA)', 'IFRC Kenya', 'IFRC Uganda',\n",
       "       'Libya Situation Analysis (OA)', 'IFRC Niger', '2020 DFS Nigeria',\n",
       "       'Situation Analysis Generic Yemen',\n",
       "       'Situation Analysis Generic Libya',\n",
       "       'The Bahamas - Hurricane Dorian - Early Recovery Assessment',\n",
       "       'Americas Regional Population Movement',\n",
       "       'COVID-19 Americas Region Multi-Sectorial Assessment',\n",
       "       'Central America - Dengue Outbreak 2019', 'UNHCR Mexico',\n",
       "       'IFRC Peru', 'IFRC Democratic Republic of Congo',\n",
       "       'Yemen Situation Analysis (OA)',\n",
       "       'IFRC Yemen Sit Analysis, July 2020', 'Venezuela crisis 2019',\n",
       "       'IFRC Guatemala', 'IFRC Yemen', 'IFRC - Cyclone Idai, March 2019',\n",
       "       'GIMAC Cameroon', 'GIMAC South Sudan', 'GIMAC Afghanistan',\n",
       "       'GIMAC Niger', 'GIMAC Chad', 'GIMAC Somalia', 'GIMAC Sudan'],\n",
       "      dtype=object)"
      ]
     },
     "execution_count": 13,
     "metadata": {},
     "output_type": "execute_result"
    }
   ],
   "source": [
    "project_names = numbers_df.project_title.unique()\n",
    "project_names"
   ]
  },
  {
   "cell_type": "code",
   "execution_count": 14,
   "metadata": {},
   "outputs": [
    {
     "name": "stderr",
     "output_type": "stream",
     "text": [
      " 20%|██        | 1/5 [00:07<00:29,  7.25s/it]"
     ]
    }
   ],
   "source": [
    "extracted_numbers_dict = {\n",
    "    project_name: {tag_name: 'None'} for project_name in project_names for tag_name in number_related_tags\n",
    "}\n",
    "\n",
    "for id in tqdm(numbers_df.project_id.unique()[:5]):\n",
    "    df_one_project = numbers_df[\n",
    "        numbers_df.project_id==id\n",
    "    ]\n",
    "    project_name = df_one_project.iloc[0].project_title\n",
    "    for tag in number_related_tags:\n",
    "        tag_specific_excerpts = ' '.join(df_one_project[\n",
    "            df_one_project.subpillars.apply(\n",
    "                    lambda x: tag in x\n",
    "                )\n",
    "        ].excerpt)\n",
    "\n",
    "        if (tag_specific_excerpts==''):\n",
    "            continue\n",
    "        else:\n",
    "            question_one_project = questions[tag]\n",
    "            response = qa_model(question = question_one_project, context = tag_specific_excerpts)['answer']\n",
    "            extracted_numbers_dict[project_name][tag] = response\n"
   ]
  },
  {
   "cell_type": "code",
   "execution_count": 56,
   "metadata": {},
   "outputs": [
    {
     "data": {
      "text/plain": [
       "'Se ha observado una disminución de personas con vocación de retorno, pero incrementándose la población venezolana ingresando al país por pasos informales, lo que aumenta el riesgo de esta población a multas migratorias, de deportación y otros temas de protección. Según monitoreos de frontera, diariamente ingresan al Ecuador entre 80 a 120 personas en su mayoría en tránsito a terceros países.'"
      ]
     },
     "execution_count": 56,
     "metadata": {},
     "output_type": "execute_result"
    }
   ],
   "source": [
    "number_hum_gaps_df.iloc[1].excerpt"
   ]
  },
  {
   "cell_type": "code",
   "execution_count": null,
   "metadata": {},
   "outputs": [],
   "source": [
    "\n"
   ]
  },
  {
   "cell_type": "code",
   "execution_count": null,
   "metadata": {},
   "outputs": [],
   "source": []
  },
  {
   "cell_type": "code",
   "execution_count": null,
   "metadata": {},
   "outputs": [],
   "source": []
  }
 ],
 "metadata": {
  "interpreter": {
   "hash": "8a5ddf8e25d962f331e8059973cfd97c5aef9d0ccfdd243943e9f1f512e91043"
  },
  "kernelspec": {
   "display_name": "Python 3.9.1 ('deepl')",
   "language": "python",
   "name": "python3"
  },
  "language_info": {
   "codemirror_mode": {
    "name": "ipython",
    "version": 3
   },
   "file_extension": ".py",
   "mimetype": "text/x-python",
   "name": "python",
   "nbconvert_exporter": "python",
   "pygments_lexer": "ipython3",
   "version": "3.9.1"
  },
  "orig_nbformat": 4
 },
 "nbformat": 4,
 "nbformat_minor": 2
}
