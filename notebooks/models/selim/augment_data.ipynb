{
  "nbformat": 4,
  "nbformat_minor": 0,
  "metadata": {
    "colab": {
      "name": "augment_data.ipynb",
      "provenance": [],
      "collapsed_sections": []
    },
    "kernelspec": {
      "name": "python3",
      "display_name": "Python 3"
    },
    "language_info": {
      "name": "python"
    }
  },
  "cells": [
    {
      "cell_type": "code",
      "metadata": {
        "colab": {
          "base_uri": "https://localhost:8080/",
          "height": 35
        },
        "id": "YHPD4g42Ln0D",
        "outputId": "83e3ec29-9ee3-4a10-8a8c-b175e88b23ac"
      },
      "source": [
        "\"\"\"!pip install nlpaug\n",
        "!pip3 install nltk\n",
        "!pip install transformers\n",
        "!pip install --upgrade tensorflow\n",
        "!pip install --upgrade sentencepiece\n",
        "!pip install transformers[sentencepiece]\"\"\""
      ],
      "execution_count": 1,
      "outputs": [
        {
          "output_type": "execute_result",
          "data": {
            "application/vnd.google.colaboratory.intrinsic+json": {
              "type": "string"
            },
            "text/plain": [
              "'!pip install nlpaug\\n!pip3 install nltk\\n!pip install transformers\\n!pip install --upgrade tensorflow\\n!pip install --upgrade sentencepiece\\n!pip install transformers[sentencepiece]'"
            ]
          },
          "metadata": {
            "tags": []
          },
          "execution_count": 1
        }
      ]
    },
    {
      "cell_type": "code",
      "metadata": {
        "id": "eGVmkn_m-q3d"
      },
      "source": [
        ""
      ],
      "execution_count": null,
      "outputs": []
    },
    {
      "cell_type": "code",
      "metadata": {
        "id": "oecip2xzLYab"
      },
      "source": [
        "%load_ext autoreload\n",
        "%autoreload 2\n",
        "import importlib"
      ],
      "execution_count": null,
      "outputs": []
    },
    {
      "cell_type": "code",
      "metadata": {
        "id": "zfNrzXITLgg3"
      },
      "source": [
        "import os\n",
        "os.environ[\"MODEL_DIR\"] = '../model'"
      ],
      "execution_count": null,
      "outputs": []
    },
    {
      "cell_type": "code",
      "metadata": {
        "id": "wUWTULn1Liv_",
        "colab": {
          "base_uri": "https://localhost:8080/"
        },
        "outputId": "0480d39f-e962-455e-da72-a9193f20e200"
      },
      "source": [
        "import pandas as pd\n",
        "import matplotlib.pyplot as plt\n",
        "\n",
        "from sklearn.model_selection import train_test_split\n",
        "from ast import literal_eval\n",
        "\n",
        "#import nlpaug.augmenter.char as nac\n",
        "import nlpaug.augmenter.word as naw\n",
        "#import nlpaug.augmenter.sentence as nas\n",
        "#import nlpaug.flow as nafc\n",
        "#from nlpaug.util import Action\n",
        "\n",
        "import numpy as np\n",
        "import nltk\n",
        "nltk.download('averaged_perceptron_tagger')\n",
        "nltk.download('wordnet')\n",
        "nltk.download('omw')"
      ],
      "execution_count": null,
      "outputs": [
        {
          "output_type": "stream",
          "text": [
            "[nltk_data] Downloading package averaged_perceptron_tagger to\n",
            "[nltk_data]     /root/nltk_data...\n",
            "[nltk_data]   Unzipping taggers/averaged_perceptron_tagger.zip.\n",
            "[nltk_data] Downloading package wordnet to /root/nltk_data...\n",
            "[nltk_data]   Unzipping corpora/wordnet.zip.\n",
            "[nltk_data] Downloading package omw to /root/nltk_data...\n",
            "[nltk_data]   Unzipping corpora/omw.zip.\n"
          ],
          "name": "stdout"
        }
      ]
    },
    {
      "cell_type": "code",
      "metadata": {
        "colab": {
          "base_uri": "https://localhost:8080/"
        },
        "id": "h35SjxraLmN6",
        "outputId": "0db9f683-8c9c-41f8-84d8-603cea3ccb67"
      },
      "source": [
        "from google.colab import drive\n",
        "drive.mount ('/content/drive', force_remount=True)"
      ],
      "execution_count": null,
      "outputs": [
        {
          "output_type": "stream",
          "text": [
            "Mounted at /content/drive\n"
          ],
          "name": "stdout"
        }
      ]
    },
    {
      "cell_type": "code",
      "metadata": {
        "colab": {
          "base_uri": "https://localhost:8080/"
        },
        "id": "l9mDluTrMFX0",
        "outputId": "142827ee-4549-4df0-c590-ced894b38e88"
      },
      "source": [
        "cd 'drive/My Drive/Colab Notebooks'"
      ],
      "execution_count": null,
      "outputs": [
        {
          "output_type": "stream",
          "text": [
            "/content/drive/My Drive/Colab Notebooks\n"
          ],
          "name": "stdout"
        }
      ]
    },
    {
      "cell_type": "code",
      "metadata": {
        "id": "hbtECzz7MKXj"
      },
      "source": [
        "DATA_ROOT_DIR = os.path.join(\"..\", \"..\", \"..\", \"data\", \"frameworks_data\", \"data_v0.4.4\")\n",
        "TRAIN_PATH = os.path.join(\"data_v0.4.4_train.csv\")\n",
        "VAL_PATH = os.path.join(\"data_v0.4.4_val.csv\")"
      ],
      "execution_count": null,
      "outputs": []
    },
    {
      "cell_type": "code",
      "metadata": {
        "id": "H0cdpTit3Qfx"
      },
      "source": [
        ""
      ],
      "execution_count": null,
      "outputs": []
    },
    {
      "cell_type": "code",
      "metadata": {
        "id": "az-_OG6DMKax"
      },
      "source": [
        "train_dataset = pd.read_csv(TRAIN_PATH)\n",
        "val_dataset = pd.read_csv(VAL_PATH)"
      ],
      "execution_count": null,
      "outputs": []
    },
    {
      "cell_type": "code",
      "metadata": {
        "id": "UuGgFy4kMKdz"
      },
      "source": [
        "def clean_rows (row):\n",
        "    \"\"\"\n",
        "    1) Apply litteral evaluation\n",
        "    2) Drop values that are repeated multiple times in rows\n",
        "    \"\"\"\n",
        "    return list(set(literal_eval(row)))"
      ],
      "execution_count": null,
      "outputs": []
    },
    {
      "cell_type": "code",
      "metadata": {
        "id": "XtP32k8vMKjR"
      },
      "source": [
        "train_dataset = pd.read_csv(TRAIN_PATH)\n",
        "val_dataset = pd.read_csv(VAL_PATH)\n",
        "\n",
        "all_dataset = pd.concat([train_dataset, val_dataset])\n",
        "\n",
        "# Keep only unique values in pillars\n",
        "all_dataset[\"pillars\"] = all_dataset[\"pillars\"].apply(lambda x: clean_rows (x))\n",
        "all_dataset[\"subpillars\"] = all_dataset[\"subpillars\"].apply(lambda x: clean_rows (x))\n",
        "\n",
        "# Keep only rows with a not empty pillar\n",
        "all_dataset = all_dataset[all_dataset.pillars.apply(lambda x: len(x)>0)]"
      ],
      "execution_count": null,
      "outputs": []
    },
    {
      "cell_type": "code",
      "metadata": {
        "colab": {
          "base_uri": "https://localhost:8080/",
          "height": 608
        },
        "id": "UU0z9OYbMKwc",
        "outputId": "ab97cfcf-409c-4251-c641-8291d34c16a1"
      },
      "source": [
        "all_dataset.head()"
      ],
      "execution_count": null,
      "outputs": [
        {
          "output_type": "execute_result",
          "data": {
            "text/html": [
              "<div>\n",
              "<style scoped>\n",
              "    .dataframe tbody tr th:only-of-type {\n",
              "        vertical-align: middle;\n",
              "    }\n",
              "\n",
              "    .dataframe tbody tr th {\n",
              "        vertical-align: top;\n",
              "    }\n",
              "\n",
              "    .dataframe thead th {\n",
              "        text-align: right;\n",
              "    }\n",
              "</style>\n",
              "<table border=\"1\" class=\"dataframe\">\n",
              "  <thead>\n",
              "    <tr style=\"text-align: right;\">\n",
              "      <th></th>\n",
              "      <th>Unnamed: 0</th>\n",
              "      <th>entry_id</th>\n",
              "      <th>lead_id</th>\n",
              "      <th>project_id</th>\n",
              "      <th>project_title</th>\n",
              "      <th>analysis_framework_id</th>\n",
              "      <th>excerpt</th>\n",
              "      <th>dropped_excerpt</th>\n",
              "      <th>created_by_id</th>\n",
              "      <th>modified_by_id</th>\n",
              "      <th>verified</th>\n",
              "      <th>verification_last_changed_by_id</th>\n",
              "      <th>language</th>\n",
              "      <th>sectors</th>\n",
              "      <th>pillars</th>\n",
              "      <th>subpillars</th>\n",
              "    </tr>\n",
              "  </thead>\n",
              "  <tbody>\n",
              "    <tr>\n",
              "      <th>0</th>\n",
              "      <td>0</td>\n",
              "      <td>163664</td>\n",
              "      <td>35315</td>\n",
              "      <td>2028</td>\n",
              "      <td>IMMAP/DFS Syria</td>\n",
              "      <td>1306</td>\n",
              "      <td>Market monitoring by the World Food Programme ...</td>\n",
              "      <td>NaN</td>\n",
              "      <td>2232</td>\n",
              "      <td>2232</td>\n",
              "      <td>False</td>\n",
              "      <td>NaN</td>\n",
              "      <td>en</td>\n",
              "      <td>['Food Security']</td>\n",
              "      <td>[Impact]</td>\n",
              "      <td>[Impact-&gt;Impact On Systems And Services]</td>\n",
              "    </tr>\n",
              "    <tr>\n",
              "      <th>1</th>\n",
              "      <td>1</td>\n",
              "      <td>162812</td>\n",
              "      <td>37820</td>\n",
              "      <td>2098</td>\n",
              "      <td>IMMAP/DFS Bangladesh</td>\n",
              "      <td>1306</td>\n",
              "      <td>Quarantine Facilities: ninety-three shelters i...</td>\n",
              "      <td>NaN</td>\n",
              "      <td>657</td>\n",
              "      <td>2233</td>\n",
              "      <td>False</td>\n",
              "      <td>NaN</td>\n",
              "      <td>en</td>\n",
              "      <td>['Health']</td>\n",
              "      <td>[Capacities &amp; Response]</td>\n",
              "      <td>[Capacities &amp; Response-&gt;International Response]</td>\n",
              "    </tr>\n",
              "    <tr>\n",
              "      <th>2</th>\n",
              "      <td>2</td>\n",
              "      <td>164560</td>\n",
              "      <td>39796</td>\n",
              "      <td>2098</td>\n",
              "      <td>IMMAP/DFS Bangladesh</td>\n",
              "      <td>1306</td>\n",
              "      <td>Within dimensions, markets are broadly operati...</td>\n",
              "      <td>NaN</td>\n",
              "      <td>1152</td>\n",
              "      <td>1152</td>\n",
              "      <td>False</td>\n",
              "      <td>NaN</td>\n",
              "      <td>en</td>\n",
              "      <td>['Cross']</td>\n",
              "      <td>[Impact]</td>\n",
              "      <td>[Impact-&gt;Impact On Systems And Services]</td>\n",
              "    </tr>\n",
              "    <tr>\n",
              "      <th>3</th>\n",
              "      <td>3</td>\n",
              "      <td>157496</td>\n",
              "      <td>38706</td>\n",
              "      <td>2098</td>\n",
              "      <td>IMMAP/DFS Bangladesh</td>\n",
              "      <td>1306</td>\n",
              "      <td>Frontline aid workers face a heightened risk o...</td>\n",
              "      <td>NaN</td>\n",
              "      <td>2233</td>\n",
              "      <td>2233</td>\n",
              "      <td>False</td>\n",
              "      <td>NaN</td>\n",
              "      <td>en</td>\n",
              "      <td>['Health', 'Logistics']</td>\n",
              "      <td>[People At Risk, Impact]</td>\n",
              "      <td>[Impact-&gt;Impact On Systems And Services, Impac...</td>\n",
              "    </tr>\n",
              "    <tr>\n",
              "      <th>5</th>\n",
              "      <td>5</td>\n",
              "      <td>162971</td>\n",
              "      <td>37820</td>\n",
              "      <td>2098</td>\n",
              "      <td>IMMAP/DFS Bangladesh</td>\n",
              "      <td>1306</td>\n",
              "      <td>IOM MHPSS teams supported in coordinating and ...</td>\n",
              "      <td>NaN</td>\n",
              "      <td>657</td>\n",
              "      <td>2233</td>\n",
              "      <td>False</td>\n",
              "      <td>NaN</td>\n",
              "      <td>en</td>\n",
              "      <td>['Health']</td>\n",
              "      <td>[Capacities &amp; Response]</td>\n",
              "      <td>[Capacities &amp; Response-&gt;Number Of People Reach...</td>\n",
              "    </tr>\n",
              "  </tbody>\n",
              "</table>\n",
              "</div>"
            ],
            "text/plain": [
              "   Unnamed: 0  ...                                         subpillars\n",
              "0           0  ...           [Impact->Impact On Systems And Services]\n",
              "1           1  ...    [Capacities & Response->International Response]\n",
              "2           2  ...           [Impact->Impact On Systems And Services]\n",
              "3           3  ...  [Impact->Impact On Systems And Services, Impac...\n",
              "5           5  ...  [Capacities & Response->Number Of People Reach...\n",
              "\n",
              "[5 rows x 16 columns]"
            ]
          },
          "metadata": {
            "tags": []
          },
          "execution_count": 13
        }
      ]
    },
    {
      "cell_type": "code",
      "metadata": {
        "colab": {
          "base_uri": "https://localhost:8080/",
          "height": 334
        },
        "id": "NdN6rPW5M68k",
        "outputId": "eaa0a9a7-14d4-466a-db05-7a81b12af94d"
      },
      "source": [
        "plt.hist(all_dataset.language)"
      ],
      "execution_count": null,
      "outputs": [
        {
          "output_type": "execute_result",
          "data": {
            "text/plain": [
              "(array([4.4041e+04, 1.0882e+04, 7.0000e+00, 1.5000e+01, 3.0000e+00,\n",
              "        1.2000e+01, 3.0000e+00, 1.0000e+00, 2.0000e+00, 2.0000e+00]),\n",
              " array([ 0. ,  1.1,  2.2,  3.3,  4.4,  5.5,  6.6,  7.7,  8.8,  9.9, 11. ]),\n",
              " <a list of 10 Patch objects>)"
            ]
          },
          "metadata": {
            "tags": []
          },
          "execution_count": 12
        },
        {
          "output_type": "display_data",
          "data": {
            "image/png": "[encoded data removed]",
            "text/plain": [
              "<Figure size 432x288 with 1 Axes>"
            ]
          },
          "metadata": {
            "tags": [],
            "needs_background": "light"
          }
        }
      ]
    },
    {
      "cell_type": "code",
      "metadata": {
        "id": "G6EERO7VNFKn"
      },
      "source": [
        "def get_subpillar_datasets (subpillar_name:str, dataset, perform_augmentation:bool=True, n_times=1):\n",
        "    \"\"\"\n",
        "    1) keep rows where the sub-pillar name is contained in the column 'subpillars'\n",
        "    2) keep only subpillar names in the column 'subpillar' (omit pillar name)\n",
        "    \"\"\"\n",
        "    df = dataset[['entry_id', 'excerpt', 'pillars', 'subpillars', 'language']]\n",
        "    df['subpillars'] = df.subpillars\\\n",
        "                        .apply(lambda x: list(filter(lambda y: subpillar_name in y, x)))\\\n",
        "                        .apply(lambda x: [y.split('->')[1] for y in (x)])\n",
        "\n",
        "    df = df[df.subpillars.apply(lambda x: len(x)>0)]\n",
        "    \n",
        "    if perform_augmentation:\n",
        "        train_data, test_data = train_test_split(df, test_size=0.3)\n",
        "        return augment_data(train_data, n_times), test_data\n",
        "    else: \n",
        "        return train_test_split(df, test_size=0.2)"
      ],
      "execution_count": null,
      "outputs": []
    },
    {
      "cell_type": "code",
      "metadata": {
        "id": "ZphqekwO7NeE"
      },
      "source": [
        "def augment_data (df, n_times):\n",
        "    en_tmp = df[df.language=='en']\n",
        "    fr_tmp = df[df.language=='fr']\n",
        "    es_tmp = df[df.language=='es']\n",
        "    \n",
        "    syn_aug_en = naw.SynonymAug(lang='eng', aug_min=3, aug_p=0.4)\n",
        "    syn_aug_fr = naw.SynonymAug(lang='fra', aug_min=3, aug_p=0.4)\n",
        "    syn_aug_es = naw.SynonymAug(lang='spa', aug_min=3, aug_p=0.4)\n",
        "\n",
        "    \"\"\"context_aug = naw.ContextualWordEmbsAug(\n",
        "        model_path='squeezebert/squeezebert-uncased',\n",
        "        device='cuda')\n",
        "\n",
        "    aug_trans_en = naw.BackTranslationAug(\n",
        "        from_model_name='facebook/wmt19-en-ru', \n",
        "        to_model_name='facebook/wmt19-ru-en',\n",
        "        device='cuda'\n",
        "    )\n",
        "    aug_trans_fr = naw.BackTranslationAug(\n",
        "        from_model_name='Helsinki-NLP/opus-mt-fr-ru', \n",
        "        to_model_name='Helsinki-NLP/opus-mt-ru-fr',\n",
        "        device='cuda'\n",
        "    )\n",
        "    aug_trans_es = naw.BackTranslationAug(\n",
        "        from_model_name='Helsinki-NLP/opus-mt-es-ru', \n",
        "        to_model_name='Helsinki-NLP/opus-mt-ru-es',\n",
        "        device='cuda'\n",
        "    )\n",
        "    #device='cuda'\n",
        "    en_trans_word = en_tmp\n",
        "    fr_trans_word = fr_tmp\n",
        "    es_trans_word = es_tmp\n",
        "    en_context_word = en_tmp\"\"\"\n",
        "\n",
        "    en_tmp.excerpt = en_tmp.excerpt.apply(lambda x: syn_aug_en.augment(x, n=n_times))\n",
        "    fr_tmp.excerpt = fr_tmp.excerpt.apply(lambda x: syn_aug_fr.augment(x, n=n_times))\n",
        "    es_tmp.excerpt = es_tmp.excerpt.apply(lambda x: syn_aug_es.augment(x, n=n_times))\n",
        "\n",
        "    #en_context_word.excerpt = en_context_word.excerpt.apply(lambda x: context_aug.augment(x, n=n_times))\n",
        "\n",
        "    \"\"\"en_trans_word.excerpt = en_trans_word.excerpt.apply(lambda x: aug_trans_en.augment(x, n=n_times))\n",
        "    fr_trans_word.excerpt = fr_trans_word.excerpt.apply(lambda x: aug_trans_fr.augment(x, n=n_times))\n",
        "    es_trans_word.excerpt = es_trans_word.excerpt.apply(lambda x: aug_trans_es.augment(x, n=n_times))\"\"\"\n",
        "\n",
        "    whole_df_tmp = pd.concat([en_tmp, fr_tmp, es_tmp])\n",
        "     \n",
        "    for _, row in whole_df_tmp.iterrows():\n",
        "        excerpts = row.excerpt\n",
        "        for i in range (0,n_times):\n",
        "            row.excerpt = excerpts[i]\n",
        "            df = df.append(row)\n",
        "    return df"
      ],
      "execution_count": null,
      "outputs": []
    },
    {
      "cell_type": "code",
      "metadata": {
        "colab": {
          "base_uri": "https://localhost:8080/"
        },
        "id": "3HU8LSL97NhY",
        "outputId": "35438b54-c9f6-4e0e-94cb-2ab4492fb563"
      },
      "source": [
        "capacities_response_train_dataset, capacities_response_val_dataset =\\\n",
        "                get_subpillar_datasets ('Capacities & Response', \n",
        "                                        all_dataset,\n",
        "                                       n_times=2)\n",
        "\n",
        "hum_conditions_train_dataset, hum_conditions_val_dataset =\\\n",
        "                get_subpillar_datasets ('Humanitarian Conditions', \n",
        "                                        all_dataset,\n",
        "                                       perform_augmentation=False)\n",
        "\n",
        "impact_train_dataset, impact_val_dataset = get_subpillar_datasets ('Impact', \n",
        "                                                                   all_dataset,\n",
        "                                                                  perform_augmentation=False)\n",
        "\n",
        "people_at_risk_train_dataset, people_at_risk_val_dataset = get_subpillar_datasets ('People At Risk',\n",
        "                                                                                   all_dataset,\n",
        "                                                                                  n_times=2)\n",
        "\n",
        "priority_interventions_train_dataset, priority_interventions_val_dataset = \\\n",
        "                get_subpillar_datasets ('Priority Interventions', \n",
        "                                        all_dataset,\n",
        "                                       n_times=3)\n",
        "\n",
        "priority_needs_train_dataset, priority_needs_val_dataset = get_subpillar_datasets ('Priority Needs', \n",
        "                                                                                   all_dataset, \n",
        "                                                                                   n_times=3)"
      ],
      "execution_count": null,
      "outputs": [
        {
          "output_type": "stream",
          "text": [
            "/usr/local/lib/python3.7/dist-packages/ipykernel_launcher.py:7: SettingWithCopyWarning: \n",
            "A value is trying to be set on a copy of a slice from a DataFrame.\n",
            "Try using .loc[row_indexer,col_indexer] = value instead\n",
            "\n",
            "See the caveats in the documentation: https://pandas.pydata.org/pandas-docs/stable/user_guide/indexing.html#returning-a-view-versus-a-copy\n",
            "  import sys\n",
            "/usr/local/lib/python3.7/dist-packages/pandas/core/generic.py:5170: SettingWithCopyWarning: \n",
            "A value is trying to be set on a copy of a slice from a DataFrame.\n",
            "Try using .loc[row_indexer,col_indexer] = value instead\n",
            "\n",
            "See the caveats in the documentation: https://pandas.pydata.org/pandas-docs/stable/user_guide/indexing.html#returning-a-view-versus-a-copy\n",
            "  self[name] = value\n"
          ],
          "name": "stderr"
        }
      ]
    },
    {
      "cell_type": "code",
      "metadata": {
        "colab": {
          "base_uri": "https://localhost:8080/"
        },
        "id": "kJritKAy7Nki",
        "outputId": "bab6b939-7ac9-4b3d-827c-3076a6143e89"
      },
      "source": [
        "print('number of rows for capacities & response :', capacities_response_train_dataset.shape[0])\n",
        "print('number of rows for Humanitarian Conditions:', hum_conditions_train_dataset.shape[0])\n",
        "print('number of rows for Impact :', impact_train_dataset.shape[0])\n",
        "print('number of rows for People At Risk :', people_at_risk_train_dataset.shape[0])\n",
        "print('number of rows for Priority Interventions :', priority_interventions_train_dataset.shape[0])\n",
        "print('number of rows for Priority Needs :', priority_needs_train_dataset.shape[0])"
      ],
      "execution_count": null,
      "outputs": [
        {
          "output_type": "stream",
          "text": [
            "number of rows for capacities & response : 20419\n",
            "number of rows for Humanitarian Conditions: 23636\n",
            "number of rows for Impact : 17136\n",
            "number of rows for People At Risk : 15671\n",
            "number of rows for Priority Interventions : 4704\n",
            "number of rows for Priority Needs : 5679\n"
          ],
          "name": "stdout"
        }
      ]
    },
    {
      "cell_type": "code",
      "metadata": {
        "colab": {
          "base_uri": "https://localhost:8080/",
          "height": 206
        },
        "id": "ogf7m1Z3QT7w",
        "outputId": "5ddcc329-5621-4238-ee57-19ad966ea563"
      },
      "source": [
        "impact_train_dataset.head()"
      ],
      "execution_count": null,
      "outputs": [
        {
          "output_type": "execute_result",
          "data": {
            "text/html": [
              "<div>\n",
              "<style scoped>\n",
              "    .dataframe tbody tr th:only-of-type {\n",
              "        vertical-align: middle;\n",
              "    }\n",
              "\n",
              "    .dataframe tbody tr th {\n",
              "        vertical-align: top;\n",
              "    }\n",
              "\n",
              "    .dataframe thead th {\n",
              "        text-align: right;\n",
              "    }\n",
              "</style>\n",
              "<table border=\"1\" class=\"dataframe\">\n",
              "  <thead>\n",
              "    <tr style=\"text-align: right;\">\n",
              "      <th></th>\n",
              "      <th>entry_id</th>\n",
              "      <th>excerpt</th>\n",
              "      <th>target</th>\n",
              "      <th>language</th>\n",
              "    </tr>\n",
              "  </thead>\n",
              "  <tbody>\n",
              "    <tr>\n",
              "      <th>66185</th>\n",
              "      <td>220079</td>\n",
              "      <td>Au secteur 6 de la commune de Banzon, le comit...</td>\n",
              "      <td>[Driver/Aggravating Factors]</td>\n",
              "      <td>fr</td>\n",
              "    </tr>\n",
              "    <tr>\n",
              "      <th>1056</th>\n",
              "      <td>166899</td>\n",
              "      <td>Trinidad and Tobago, along with other Eastern ...</td>\n",
              "      <td>[Driver/Aggravating Factors]</td>\n",
              "      <td>en</td>\n",
              "    </tr>\n",
              "    <tr>\n",
              "      <th>856</th>\n",
              "      <td>159577</td>\n",
              "      <td>So far, 12,671 HH have been affected by floodi...</td>\n",
              "      <td>[Number Of People Affected, Impact On Systems ...</td>\n",
              "      <td>en</td>\n",
              "    </tr>\n",
              "    <tr>\n",
              "      <th>71</th>\n",
              "      <td>163885</td>\n",
              "      <td>• En Nariño y Chocó las fuertes inundaciones h...</td>\n",
              "      <td>[Impact On People Or Impact On Services, Drive...</td>\n",
              "      <td>es</td>\n",
              "    </tr>\n",
              "    <tr>\n",
              "      <th>46616</th>\n",
              "      <td>325323</td>\n",
              "      <td>[4th-10th April 2021, Cox's Bazar] Both Refuge...</td>\n",
              "      <td>[Impact On People]</td>\n",
              "      <td>en</td>\n",
              "    </tr>\n",
              "  </tbody>\n",
              "</table>\n",
              "</div>"
            ],
            "text/plain": [
              "       entry_id  ... language\n",
              "66185    220079  ...       fr\n",
              "1056     166899  ...       en\n",
              "856      159577  ...       en\n",
              "71       163885  ...       es\n",
              "46616    325323  ...       en\n",
              "\n",
              "[5 rows x 4 columns]"
            ]
          },
          "metadata": {
            "tags": []
          },
          "execution_count": 30
        }
      ]
    },
    {
      "cell_type": "code",
      "metadata": {
        "id": "si5poXid7Nno"
      },
      "source": [
        "tot_train = pd.concat([capacities_response_train_dataset,\n",
        "                       hum_conditions_train_dataset,\n",
        "                       impact_train_dataset,\n",
        "                       people_at_risk_train_dataset,\n",
        "                       priority_interventions_train_dataset,\n",
        "                       priority_needs_train_dataset])[['entry_id', 'excerpt', 'pillars']].rename(columns={'pillars': 'target'})\n",
        "\n",
        "tot_test = pd.concat([capacities_response_val_dataset,\n",
        "                       hum_conditions_val_dataset,\n",
        "                       impact_val_dataset,\n",
        "                       people_at_risk_val_dataset,\n",
        "                       priority_interventions_val_dataset,\n",
        "                       priority_needs_val_dataset])[['entry_id', 'excerpt', 'pillars']].rename(columns={'pillars': 'target'})\n",
        "\n",
        "tot_train.to_csv('augmented_train.csv')\n",
        "tot_test.to_csv('augmented_test.csv')"
      ],
      "execution_count": null,
      "outputs": []
    },
    {
      "cell_type": "code",
      "metadata": {
        "colab": {
          "base_uri": "https://localhost:8080/"
        },
        "id": "E6G3h8wIU3u_",
        "outputId": "a9e5ed96-bf81-422e-ff19-70b0ffb3094c"
      },
      "source": [
        "cd 'data'"
      ],
      "execution_count": null,
      "outputs": [
        {
          "output_type": "stream",
          "text": [
            "/content/drive/My Drive/Colab Notebooks/data\n"
          ],
          "name": "stdout"
        }
      ]
    },
    {
      "cell_type": "code",
      "metadata": {
        "id": "i52a0DZdTBxp"
      },
      "source": [
        "capacities_response_train_dataset[['entry_id', 'excerpt', 'subpillars']].rename(columns={'subpillars': 'target'}).to_csv('capacities_response_train_dataset.csv')\n",
        "capacities_response_val_dataset[['entry_id', 'excerpt', 'subpillars']].rename(columns={'subpillars': 'target'}).to_csv('capacities_response_val_dataset.csv')\n",
        "\n",
        "hum_conditions_train_dataset[['entry_id', 'excerpt', 'subpillars']].rename(columns={'subpillars': 'target'}).to_csv('hum_conditions_train_dataset.csv')\n",
        "hum_conditions_val_dataset[['entry_id', 'excerpt', 'subpillars']].rename(columns={'subpillars': 'target'}).to_csv('hum_conditions_val_dataset.csv')\n",
        "\n",
        "impact_train_dataset[['entry_id', 'excerpt', 'subpillars']].rename(columns={'subpillars': 'target'}).to_csv('impact_train_dataset.csv')\n",
        "impact_val_dataset[['entry_id', 'excerpt', 'subpillars']].rename(columns={'subpillars': 'target'}).to_csv('impact_val_dataset.csv')\n",
        "\n",
        "people_at_risk_train_dataset[['entry_id', 'excerpt', 'subpillars']].rename(columns={'subpillars': 'target'}).to_csv('people_at_risk_train_dataset.csv')\n",
        "people_at_risk_val_dataset[['entry_id', 'excerpt', 'subpillars']].rename(columns={'subpillars': 'target'}).to_csv('people_at_risk_val_dataset.csv')\n",
        "\n",
        "priority_interventions_train_dataset[['entry_id', 'excerpt', 'subpillars']].rename(columns={'subpillars': 'target'}).to_csv('priority_interventions_train_dataset.csv')\n",
        "priority_interventions_val_dataset[['entry_id', 'excerpt', 'subpillars']].rename(columns={'subpillars': 'target'}).to_csv('priority_interventions_val_dataset.csv')\n",
        "\n",
        "priority_needs_train_dataset[['entry_id', 'excerpt', 'subpillars']].rename(columns={'subpillars': 'target'}).to_csv('priority_needs_train_dataset.csv')\n",
        "priority_needs_val_dataset[['entry_id', 'excerpt', 'subpillars']].rename(columns={'subpillars': 'target'}).to_csv('priority_needs_val_dataset.csv')"
      ],
      "execution_count": null,
      "outputs": []
    },
    {
      "cell_type": "code",
      "metadata": {
        "id": "YsE-1W9h7NrL"
      },
      "source": [
        ""
      ],
      "execution_count": null,
      "outputs": []
    },
    {
      "cell_type": "markdown",
      "metadata": {
        "id": "rBSsJ2NYZuDU"
      },
      "source": [
        "1) Priority needs and interventions too underrepresented, better to change it  \n",
        "2) Impact, there is an overlap, what to do?  \n",
        "3) Dataset augmentation that depends on pretrained models (back-translation, context augmentation takes too long, I prefferend to stick with basic nltk libraries)"
      ]
    },
    {
      "cell_type": "code",
      "metadata": {
        "id": "Rrbh6-iDSwVv"
      },
      "source": [
        ""
      ],
      "execution_count": null,
      "outputs": []
    },
    {
      "cell_type": "code",
      "metadata": {
        "id": "wPxrqseoN8qH"
      },
      "source": [
        ""
      ],
      "execution_count": null,
      "outputs": []
    },
    {
      "cell_type": "code",
      "metadata": {
        "id": "U7R82MF_M9jy"
      },
      "source": [
        ""
      ],
      "execution_count": null,
      "outputs": []
    },
    {
      "cell_type": "code",
      "metadata": {
        "id": "CgAnkVXrJQJj"
      },
      "source": [
        ""
      ],
      "execution_count": null,
      "outputs": []
    },
    {
      "cell_type": "code",
      "metadata": {
        "id": "T3E805j7JL52"
      },
      "source": [
        ""
      ],
      "execution_count": null,
      "outputs": []
    },
    {
      "cell_type": "code",
      "metadata": {
        "id": "RN3gnAp7JoXF"
      },
      "source": [
        ""
      ],
      "execution_count": null,
      "outputs": []
    },
    {
      "cell_type": "code",
      "metadata": {
        "id": "OoQ6BYKwLKZE"
      },
      "source": [
        ""
      ],
      "execution_count": null,
      "outputs": []
    }
  ]
}