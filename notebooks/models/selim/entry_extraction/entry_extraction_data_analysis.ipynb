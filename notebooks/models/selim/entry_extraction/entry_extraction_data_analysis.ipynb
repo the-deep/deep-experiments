{
 "cells": [
  {
   "cell_type": "code",
   "execution_count": 1,
   "metadata": {},
   "outputs": [],
   "source": [
    "import pandas as pd\n",
    "import os\n",
    "import matplotlib.pyplot as plt\n",
    "\n",
    "from tqdm import tqdm\n",
    "import numpy as np\n",
    "\n",
    "import pickle"
   ]
  },
  {
   "cell_type": "code",
   "execution_count": 2,
   "metadata": {},
   "outputs": [],
   "source": [
    "#!pip install datasets"
   ]
  },
  {
   "cell_type": "code",
   "execution_count": 3,
   "metadata": {},
   "outputs": [],
   "source": [
    "from datasets import load_dataset"
   ]
  },
  {
   "cell_type": "code",
   "execution_count": 4,
   "metadata": {},
   "outputs": [
    {
     "name": "stderr",
     "output_type": "stream",
     "text": [
      "Using custom data configuration default-510b7b2ef9812173\n",
      "Reusing dataset json (/home/selim/.cache/huggingface/datasets/json/default-510b7b2ef9812173/0.0.0/ac0ca5f5289a6cf108e706efcf040422dbbfa8e658dee6a819f20d76bb84d26b)\n",
      "100%|██████████| 1/1 [00:00<00:00, 24.26it/s]\n"
     ]
    }
   ],
   "source": [
    "data = load_dataset(\"json\", data_files=\"new_matching.json\")"
   ]
  },
  {
   "cell_type": "code",
   "execution_count": 5,
   "metadata": {},
   "outputs": [
    {
     "data": {
      "text/plain": [
       "DatasetDict({\n",
       "    train: Dataset({\n",
       "        features: ['id', 'text', 'sentences', 'excerpt_sentence_indices', 'excerpts', 'raw_excerpts'],\n",
       "        num_rows: 1713\n",
       "    })\n",
       "})"
      ]
     },
     "execution_count": 5,
     "metadata": {},
     "output_type": "execute_result"
    }
   ],
   "source": [
    "data"
   ]
  },
  {
   "cell_type": "code",
   "execution_count": 6,
   "metadata": {},
   "outputs": [],
   "source": [
    "pd_data = pd.DataFrame(data)\n",
    "pd_data['lead_id'] = pd_data.train.apply(lambda x: x['id'][0])\n",
    "pd_data['project_id'] = pd_data.train.apply(lambda x: x['id'][1])\n",
    "pd_data['text'] = pd_data.train.apply(lambda x: x['text'])\n",
    "pd_data['sentences'] = pd_data.train.apply(lambda x: x['sentences'])\n",
    "pd_data['raw_excerpts'] = pd_data.train.apply(lambda x: x['raw_excerpts'])\n",
    "pd_data['excerpts'] = pd_data.train.apply(lambda x: x['excerpts'])\n",
    "pd_data['excerpt_sentence_indices'] = pd_data.train.apply(lambda x: x['excerpt_sentence_indices'])\n",
    "pd_data.drop(inplace=True, columns=['train'])"
   ]
  },
  {
   "cell_type": "code",
   "execution_count": 7,
   "metadata": {},
   "outputs": [
    {
     "data": {
      "text/html": [
       "<div>\n",
       "<style scoped>\n",
       "    .dataframe tbody tr th:only-of-type {\n",
       "        vertical-align: middle;\n",
       "    }\n",
       "\n",
       "    .dataframe tbody tr th {\n",
       "        vertical-align: top;\n",
       "    }\n",
       "\n",
       "    .dataframe thead th {\n",
       "        text-align: right;\n",
       "    }\n",
       "</style>\n",
       "<table border=\"1\" class=\"dataframe\">\n",
       "  <thead>\n",
       "    <tr style=\"text-align: right;\">\n",
       "      <th></th>\n",
       "      <th>lead_id</th>\n",
       "      <th>project_id</th>\n",
       "      <th>text</th>\n",
       "      <th>sentences</th>\n",
       "      <th>raw_excerpts</th>\n",
       "      <th>excerpts</th>\n",
       "      <th>excerpt_sentence_indices</th>\n",
       "    </tr>\n",
       "  </thead>\n",
       "  <tbody>\n",
       "    <tr>\n",
       "      <th>0</th>\n",
       "      <td>1190</td>\n",
       "      <td>321</td>\n",
       "      <td>252 Libyan civilians killed or injured\\n\\n52 2...</td>\n",
       "      <td>[252 Libyan civilians killed or injured\\n\\n52 ...</td>\n",
       "      <td>[8 January - Tunisian border The clashes betwe...</td>\n",
       "      <td>[8 January - Tunisian border The clashes betwe...</td>\n",
       "      <td>[{'index': 5, 'distance': 159}, {'index': 32, ...</td>\n",
       "    </tr>\n",
       "    <tr>\n",
       "      <th>1</th>\n",
       "      <td>5644</td>\n",
       "      <td>321</td>\n",
       "      <td>Protection sector update on the protection sit...</td>\n",
       "      <td>[Protection sector update on the protection si...</td>\n",
       "      <td>[The fighting erupted between several armed gr...</td>\n",
       "      <td>[The fighting erupted between several armed gr...</td>\n",
       "      <td>[{'index': 6, 'distance': 2}, {'index': 7, 'di...</td>\n",
       "    </tr>\n",
       "  </tbody>\n",
       "</table>\n",
       "</div>"
      ],
      "text/plain": [
       "   lead_id  project_id                                               text  \\\n",
       "0     1190         321  252 Libyan civilians killed or injured\\n\\n52 2...   \n",
       "1     5644         321  Protection sector update on the protection sit...   \n",
       "\n",
       "                                           sentences  \\\n",
       "0  [252 Libyan civilians killed or injured\\n\\n52 ...   \n",
       "1  [Protection sector update on the protection si...   \n",
       "\n",
       "                                        raw_excerpts  \\\n",
       "0  [8 January - Tunisian border The clashes betwe...   \n",
       "1  [The fighting erupted between several armed gr...   \n",
       "\n",
       "                                            excerpts  \\\n",
       "0  [8 January - Tunisian border The clashes betwe...   \n",
       "1  [The fighting erupted between several armed gr...   \n",
       "\n",
       "                            excerpt_sentence_indices  \n",
       "0  [{'index': 5, 'distance': 159}, {'index': 32, ...  \n",
       "1  [{'index': 6, 'distance': 2}, {'index': 7, 'di...  "
      ]
     },
     "execution_count": 7,
     "metadata": {},
     "output_type": "execute_result"
    }
   ],
   "source": [
    "pd_data.head(2)"
   ]
  },
  {
   "cell_type": "code",
   "execution_count": 8,
   "metadata": {},
   "outputs": [
    {
     "data": {
      "text/plain": [
       "(1713, 7)"
      ]
     },
     "execution_count": 8,
     "metadata": {},
     "output_type": "execute_result"
    }
   ],
   "source": [
    "pd_data.shape"
   ]
  },
  {
   "cell_type": "code",
   "execution_count": 9,
   "metadata": {},
   "outputs": [
    {
     "data": {
      "text/plain": [
       "Text(0.5, 1.0, 'estimated time for processing using pretrained models')"
      ]
     },
     "execution_count": 9,
     "metadata": {},
     "output_type": "execute_result"
    },
    {
     "data": {
      "image/png": "[encoded data removed]",
      "text/plain": [
       "<Figure size 432x288 with 1 Axes>"
      ]
     },
     "metadata": {
      "needs_background": "light"
     },
     "output_type": "display_data"
    }
   ],
   "source": [
    "len_sentences = pd_data.sentences.apply(lambda x: len(x) / 3)\n",
    "plt.hist(len_sentences)\n",
    "plt.ylabel('number of documents')\n",
    "plt.xlabel('higher bound on estimated time for processing (s)')\n",
    "plt.title('estimated time for processing using pretrained models')"
   ]
  },
  {
   "cell_type": "code",
   "execution_count": 10,
   "metadata": {},
   "outputs": [
    {
     "name": "stderr",
     "output_type": "stream",
     "text": [
      "/home/selim/anaconda3/envs/deepl/lib/python3.9/site-packages/IPython/core/interactiveshell.py:3165: DtypeWarning: Columns (5) have mixed types.Specify dtype option on import or set low_memory=False.\n",
      "  has_raised = await self.run_ast_nodes(code_ast.body, cell_name,\n"
     ]
    }
   ],
   "source": [
    "DATA_PATH = os.path.join(\n",
    "    '..', '..', '..', '..', \"data\", \"frameworks_data\", 'data_v0.7.1'\n",
    ")\n",
    "\n",
    "full_data = pd.read_csv(os.path.join(DATA_PATH, 'full_dataset_with_translations.csv'))\n",
    "full_excerpts = list(full_data['excerpt'])"
   ]
  },
  {
   "cell_type": "code",
   "execution_count": 11,
   "metadata": {},
   "outputs": [],
   "source": [
    "import spacy\n",
    "\n",
    "# Load English tokenizer, tagger, parser and NER\n",
    "nlp = spacy.load(\"xx_sent_ud_sm\")"
   ]
  },
  {
   "cell_type": "code",
   "execution_count": 12,
   "metadata": {},
   "outputs": [],
   "source": [
    "#!python -m spacy download xx_sent_ud_sm"
   ]
  },
  {
   "cell_type": "code",
   "execution_count": null,
   "metadata": {},
   "outputs": [],
   "source": []
  },
  {
   "cell_type": "code",
   "execution_count": 13,
   "metadata": {},
   "outputs": [
    {
     "name": "stderr",
     "output_type": "stream",
     "text": [
      " 15%|█▌        | 24297/157948 [01:18<07:11, 309.47it/s]\n"
     ]
    },
    {
     "ename": "KeyboardInterrupt",
     "evalue": "",
     "output_type": "error",
     "traceback": [
      "\u001b[0;31m---------------------------------------------------------------------------\u001b[0m",
      "\u001b[0;31mKeyboardInterrupt\u001b[0m                         Traceback (most recent call last)",
      "\u001b[0;32m<ipython-input-13-fbc24424984a>\u001b[0m in \u001b[0;36m<module>\u001b[0;34m\u001b[0m\n\u001b[1;32m      1\u001b[0m \u001b[0mn_sentences\u001b[0m \u001b[0;34m=\u001b[0m \u001b[0;34m[\u001b[0m\u001b[0;34m]\u001b[0m\u001b[0;34m\u001b[0m\u001b[0;34m\u001b[0m\u001b[0m\n\u001b[1;32m      2\u001b[0m \u001b[0;32mfor\u001b[0m \u001b[0msentence\u001b[0m \u001b[0;32min\u001b[0m \u001b[0mtqdm\u001b[0m\u001b[0;34m(\u001b[0m\u001b[0mfull_excerpts\u001b[0m\u001b[0;34m)\u001b[0m\u001b[0;34m:\u001b[0m\u001b[0;34m\u001b[0m\u001b[0;34m\u001b[0m\u001b[0m\n\u001b[0;32m----> 3\u001b[0;31m     \u001b[0msent\u001b[0m \u001b[0;34m=\u001b[0m \u001b[0mnlp\u001b[0m\u001b[0;34m(\u001b[0m\u001b[0msentence\u001b[0m\u001b[0;34m)\u001b[0m\u001b[0;34m\u001b[0m\u001b[0;34m\u001b[0m\u001b[0m\n\u001b[0m\u001b[1;32m      4\u001b[0m     \u001b[0mi\u001b[0m \u001b[0;34m=\u001b[0m \u001b[0msum\u001b[0m\u001b[0;34m(\u001b[0m\u001b[0;34m[\u001b[0m\u001b[0;36m1\u001b[0m \u001b[0;32mfor\u001b[0m \u001b[0m_\u001b[0m \u001b[0;32min\u001b[0m \u001b[0msent\u001b[0m\u001b[0;34m.\u001b[0m\u001b[0msents\u001b[0m\u001b[0;34m]\u001b[0m\u001b[0;34m)\u001b[0m\u001b[0;34m\u001b[0m\u001b[0;34m\u001b[0m\u001b[0m\n\u001b[1;32m      5\u001b[0m     \u001b[0mn_sentences\u001b[0m\u001b[0;34m.\u001b[0m\u001b[0mappend\u001b[0m\u001b[0;34m(\u001b[0m\u001b[0mi\u001b[0m\u001b[0;34m)\u001b[0m\u001b[0;34m\u001b[0m\u001b[0;34m\u001b[0m\u001b[0m\n",
      "\u001b[0;32m~/anaconda3/envs/deepl/lib/python3.9/site-packages/spacy/language.py\u001b[0m in \u001b[0;36m__call__\u001b[0;34m(self, text, disable, component_cfg)\u001b[0m\n\u001b[1;32m    986\u001b[0m         \u001b[0mDOCS\u001b[0m\u001b[0;34m:\u001b[0m \u001b[0mhttps\u001b[0m\u001b[0;34m:\u001b[0m\u001b[0;34m//\u001b[0m\u001b[0mspacy\u001b[0m\u001b[0;34m.\u001b[0m\u001b[0mio\u001b[0m\u001b[0;34m/\u001b[0m\u001b[0mapi\u001b[0m\u001b[0;34m/\u001b[0m\u001b[0mlanguage\u001b[0m\u001b[0;31m#call\u001b[0m\u001b[0;34m\u001b[0m\u001b[0;34m\u001b[0m\u001b[0m\n\u001b[1;32m    987\u001b[0m         \"\"\"\n\u001b[0;32m--> 988\u001b[0;31m         \u001b[0mdoc\u001b[0m \u001b[0;34m=\u001b[0m \u001b[0mself\u001b[0m\u001b[0;34m.\u001b[0m\u001b[0mmake_doc\u001b[0m\u001b[0;34m(\u001b[0m\u001b[0mtext\u001b[0m\u001b[0;34m)\u001b[0m\u001b[0;34m\u001b[0m\u001b[0;34m\u001b[0m\u001b[0m\n\u001b[0m\u001b[1;32m    989\u001b[0m         \u001b[0;32mif\u001b[0m \u001b[0mcomponent_cfg\u001b[0m \u001b[0;32mis\u001b[0m \u001b[0;32mNone\u001b[0m\u001b[0;34m:\u001b[0m\u001b[0;34m\u001b[0m\u001b[0;34m\u001b[0m\u001b[0m\n\u001b[1;32m    990\u001b[0m             \u001b[0mcomponent_cfg\u001b[0m \u001b[0;34m=\u001b[0m \u001b[0;34m{\u001b[0m\u001b[0;34m}\u001b[0m\u001b[0;34m\u001b[0m\u001b[0;34m\u001b[0m\u001b[0m\n",
      "\u001b[0;32m~/anaconda3/envs/deepl/lib/python3.9/site-packages/spacy/language.py\u001b[0m in \u001b[0;36mmake_doc\u001b[0;34m(self, text)\u001b[0m\n\u001b[1;32m   1068\u001b[0m                 \u001b[0mErrors\u001b[0m\u001b[0;34m.\u001b[0m\u001b[0mE088\u001b[0m\u001b[0;34m.\u001b[0m\u001b[0mformat\u001b[0m\u001b[0;34m(\u001b[0m\u001b[0mlength\u001b[0m\u001b[0;34m=\u001b[0m\u001b[0mlen\u001b[0m\u001b[0;34m(\u001b[0m\u001b[0mtext\u001b[0m\u001b[0;34m)\u001b[0m\u001b[0;34m,\u001b[0m \u001b[0mmax_length\u001b[0m\u001b[0;34m=\u001b[0m\u001b[0mself\u001b[0m\u001b[0;34m.\u001b[0m\u001b[0mmax_length\u001b[0m\u001b[0;34m)\u001b[0m\u001b[0;34m\u001b[0m\u001b[0;34m\u001b[0m\u001b[0m\n\u001b[1;32m   1069\u001b[0m             )\n\u001b[0;32m-> 1070\u001b[0;31m         \u001b[0;32mreturn\u001b[0m \u001b[0mself\u001b[0m\u001b[0;34m.\u001b[0m\u001b[0mtokenizer\u001b[0m\u001b[0;34m(\u001b[0m\u001b[0mtext\u001b[0m\u001b[0;34m)\u001b[0m\u001b[0;34m\u001b[0m\u001b[0;34m\u001b[0m\u001b[0m\n\u001b[0m\u001b[1;32m   1071\u001b[0m \u001b[0;34m\u001b[0m\u001b[0m\n\u001b[1;32m   1072\u001b[0m     def update(\n",
      "\u001b[0;32m~/anaconda3/envs/deepl/lib/python3.9/site-packages/spacy/tokenizer.pyx\u001b[0m in \u001b[0;36mspacy.tokenizer.Tokenizer.__call__\u001b[0;34m()\u001b[0m\n",
      "\u001b[0;32m~/anaconda3/envs/deepl/lib/python3.9/site-packages/spacy/tokenizer.pyx\u001b[0m in \u001b[0;36mspacy.tokenizer.Tokenizer._tokenize_affixes\u001b[0;34m()\u001b[0m\n",
      "\u001b[0;32m~/anaconda3/envs/deepl/lib/python3.9/site-packages/spacy/tokenizer.pyx\u001b[0m in \u001b[0;36mspacy.tokenizer.Tokenizer._tokenize\u001b[0;34m()\u001b[0m\n",
      "\u001b[0;32m~/anaconda3/envs/deepl/lib/python3.9/site-packages/spacy/tokenizer.pyx\u001b[0m in \u001b[0;36mspacy.tokenizer.Tokenizer._attach_tokens\u001b[0;34m()\u001b[0m\n",
      "\u001b[0;32m~/anaconda3/envs/deepl/lib/python3.9/site-packages/spacy/vocab.pyx\u001b[0m in \u001b[0;36mspacy.vocab.Vocab.get\u001b[0;34m()\u001b[0m\n",
      "\u001b[0;32m~/anaconda3/envs/deepl/lib/python3.9/site-packages/spacy/vocab.pyx\u001b[0m in \u001b[0;36mspacy.vocab.Vocab._new_lexeme\u001b[0;34m()\u001b[0m\n",
      "\u001b[0;32m~/anaconda3/envs/deepl/lib/python3.9/site-packages/spacy/lang/lex_attrs.py\u001b[0m in \u001b[0;36mlower\u001b[0;34m(string)\u001b[0m\n\u001b[1;32m    140\u001b[0m \u001b[0;34m\u001b[0m\u001b[0m\n\u001b[1;32m    141\u001b[0m \u001b[0;34m\u001b[0m\u001b[0m\n\u001b[0;32m--> 142\u001b[0;31m \u001b[0;32mdef\u001b[0m \u001b[0mlower\u001b[0m\u001b[0;34m(\u001b[0m\u001b[0mstring\u001b[0m\u001b[0;34m:\u001b[0m \u001b[0mstr\u001b[0m\u001b[0;34m)\u001b[0m \u001b[0;34m->\u001b[0m \u001b[0mstr\u001b[0m\u001b[0;34m:\u001b[0m\u001b[0;34m\u001b[0m\u001b[0;34m\u001b[0m\u001b[0m\n\u001b[0m\u001b[1;32m    143\u001b[0m     \u001b[0;32mreturn\u001b[0m \u001b[0mstring\u001b[0m\u001b[0;34m.\u001b[0m\u001b[0mlower\u001b[0m\u001b[0;34m(\u001b[0m\u001b[0;34m)\u001b[0m\u001b[0;34m\u001b[0m\u001b[0;34m\u001b[0m\u001b[0m\n\u001b[1;32m    144\u001b[0m \u001b[0;34m\u001b[0m\u001b[0m\n",
      "\u001b[0;31mKeyboardInterrupt\u001b[0m: "
     ]
    }
   ],
   "source": [
    "n_sentences = []\n",
    "for sentence in tqdm(full_excerpts):\n",
    "    sent = nlp(sentence)\n",
    "    i = sum([1 for _ in sent.sents])\n",
    "    n_sentences.append(i)"
   ]
  },
  {
   "cell_type": "code",
   "execution_count": null,
   "metadata": {},
   "outputs": [
    {
     "data": {
      "text/plain": [
       "(0.0, 10.0)"
      ]
     },
     "execution_count": 62,
     "metadata": {},
     "output_type": "execute_result"
    },
    {
     "data": {
      "image/png": "[encoded data removed]",
      "text/plain": [
       "<Figure size 432x288 with 1 Axes>"
      ]
     },
     "metadata": {
      "needs_background": "light"
     },
     "output_type": "display_data"
    }
   ],
   "source": [
    "plt.hist(n_sentences, bins=[i for i in range (1, 10)], histtype='barstacked')\n",
    "plt.ylabel('number of entreis')\n",
    "plt.xlabel('number of sentences per excerpt')\n",
    "plt.xlim(0, 10)\n",
    "#plt.title('estimated time for processing using pretrained models')"
   ]
  },
  {
   "cell_type": "code",
   "execution_count": null,
   "metadata": {},
   "outputs": [
    {
     "data": {
      "text/plain": [
       "2.0"
      ]
     },
     "execution_count": 36,
     "metadata": {},
     "output_type": "execute_result"
    }
   ],
   "source": [
    "np.median(n_sentences)"
   ]
  },
  {
   "cell_type": "code",
   "execution_count": null,
   "metadata": {},
   "outputs": [
    {
     "data": {
      "text/plain": [
       "Text(0.5, 0, 'length of entry')"
      ]
     },
     "execution_count": 61,
     "metadata": {},
     "output_type": "execute_result"
    },
    {
     "data": {
      "image/png": "[encoded data removed]",
      "text/plain": [
       "<Figure size 432x288 with 1 Axes>"
      ]
     },
     "metadata": {
      "needs_background": "light"
     },
     "output_type": "display_data"
    }
   ],
   "source": [
    "lengthes_sentences = [len(sent) for sent in full_excerpts]\n",
    "\n",
    "plt.hist(lengthes_sentences, bins=[i*100 for i in range (1, 10)], histtype='barstacked')\n",
    "plt.ylabel('number of entries')\n",
    "plt.xlabel('length of entry')"
   ]
  },
  {
   "cell_type": "code",
   "execution_count": null,
   "metadata": {},
   "outputs": [],
   "source": []
  },
  {
   "cell_type": "code",
   "execution_count": 8,
   "metadata": {},
   "outputs": [
    {
     "ename": "NameError",
     "evalue": "name 'DATA_PATH' is not defined",
     "output_type": "error",
     "traceback": [
      "\u001b[0;31m---------------------------------------------------------------------------\u001b[0m",
      "\u001b[0;31mNameError\u001b[0m                                 Traceback (most recent call last)",
      "\u001b[0;32m<ipython-input-8-4c0aa02a2a2e>\u001b[0m in \u001b[0;36m<module>\u001b[0;34m\u001b[0m\n\u001b[0;32m----> 1\u001b[0;31m \u001b[0mtest_data\u001b[0m \u001b[0;34m=\u001b[0m \u001b[0mpd\u001b[0m\u001b[0;34m.\u001b[0m\u001b[0mread_csv\u001b[0m\u001b[0;34m(\u001b[0m\u001b[0mos\u001b[0m\u001b[0;34m.\u001b[0m\u001b[0mpath\u001b[0m\u001b[0;34m.\u001b[0m\u001b[0mjoin\u001b[0m\u001b[0;34m(\u001b[0m\u001b[0mDATA_PATH\u001b[0m\u001b[0;34m,\u001b[0m \u001b[0;34m'test_v0.7.1.csv'\u001b[0m\u001b[0;34m)\u001b[0m\u001b[0;34m)\u001b[0m\u001b[0;34m\u001b[0m\u001b[0;34m\u001b[0m\u001b[0m\n\u001b[0m\u001b[1;32m      2\u001b[0m \u001b[0mtrain_data\u001b[0m \u001b[0;34m=\u001b[0m \u001b[0mfull_data\u001b[0m\u001b[0;34m[\u001b[0m\u001b[0;34m~\u001b[0m\u001b[0mfull_data\u001b[0m\u001b[0;34m.\u001b[0m\u001b[0mentry_id\u001b[0m\u001b[0;34m.\u001b[0m\u001b[0misin\u001b[0m\u001b[0;34m(\u001b[0m\u001b[0mtest_data\u001b[0m\u001b[0;34m.\u001b[0m\u001b[0mentry_id\u001b[0m\u001b[0;34m)\u001b[0m\u001b[0;34m]\u001b[0m\u001b[0;34m\u001b[0m\u001b[0;34m\u001b[0m\u001b[0m\n",
      "\u001b[0;31mNameError\u001b[0m: name 'DATA_PATH' is not defined"
     ]
    }
   ],
   "source": [
    "test_data = pd.read_csv(os.path.join(DATA_PATH, 'test_v0.7.1.csv'))\n",
    "train_data = full_data[~full_data.entry_id.isin(test_data.entry_id)]"
   ]
  },
  {
   "cell_type": "code",
   "execution_count": null,
   "metadata": {},
   "outputs": [
    {
     "data": {
      "text/plain": [
       "((157948, 27), (17200, 27), (140746, 27))"
      ]
     },
     "execution_count": 15,
     "metadata": {},
     "output_type": "execute_result"
    }
   ],
   "source": [
    "full_data.shape, test_data.shape, train_data.shape"
   ]
  },
  {
   "cell_type": "code",
   "execution_count": null,
   "metadata": {},
   "outputs": [
    {
     "data": {
      "text/plain": [
       "4607"
      ]
     },
     "execution_count": 16,
     "metadata": {},
     "output_type": "execute_result"
    }
   ],
   "source": [
    "#number of leads present in both the train and test set\n",
    "len(set(train_data.lead_id).intersection(set(test_data.lead_id)))"
   ]
  },
  {
   "cell_type": "code",
   "execution_count": null,
   "metadata": {},
   "outputs": [
    {
     "data": {
      "text/plain": [
       "17990"
      ]
     },
     "execution_count": 17,
     "metadata": {},
     "output_type": "execute_result"
    }
   ],
   "source": [
    "#total number of leads\n",
    "len(set(train_data.lead_id).union(set(test_data.lead_id)))"
   ]
  },
  {
   "cell_type": "code",
   "execution_count": null,
   "metadata": {},
   "outputs": [
    {
     "data": {
      "text/plain": [
       "569"
      ]
     },
     "execution_count": 18,
     "metadata": {},
     "output_type": "execute_result"
    }
   ],
   "source": [
    "#number of leads only present in test set\n",
    "only_test_leads = list(\n",
    "    set(test_data.lead_id) - set(train_data.lead_id).intersection(set(test_data.lead_id))\n",
    ")\n",
    "len(only_test_leads)"
   ]
  },
  {
   "cell_type": "code",
   "execution_count": null,
   "metadata": {},
   "outputs": [
    {
     "data": {
      "text/plain": [
       "0"
      ]
     },
     "execution_count": 19,
     "metadata": {},
     "output_type": "execute_result"
    }
   ],
   "source": [
    "#number of leads that are only present in test set\n",
    "test_pd_data = list(\n",
    "    set(pd_data.lead_id).intersection(set(only_test_leads))\n",
    ")\n",
    "len(test_pd_data)"
   ]
  },
  {
   "cell_type": "code",
   "execution_count": null,
   "metadata": {},
   "outputs": [],
   "source": []
  },
  {
   "cell_type": "code",
   "execution_count": 9,
   "metadata": {},
   "outputs": [
    {
     "data": {
      "text/plain": [
       "0.8814944541739638"
      ]
     },
     "execution_count": 9,
     "metadata": {},
     "output_type": "execute_result"
    }
   ],
   "source": [
    "#proportion of clean entries\n",
    "pd_data.sentences.apply(lambda x: len(x)>=5).sum() / pd_data.shape[0]"
   ]
  },
  {
   "cell_type": "code",
   "execution_count": 10,
   "metadata": {},
   "outputs": [
    {
     "data": {
      "text/html": [
       "<div>\n",
       "<style scoped>\n",
       "    .dataframe tbody tr th:only-of-type {\n",
       "        vertical-align: middle;\n",
       "    }\n",
       "\n",
       "    .dataframe tbody tr th {\n",
       "        vertical-align: top;\n",
       "    }\n",
       "\n",
       "    .dataframe thead th {\n",
       "        text-align: right;\n",
       "    }\n",
       "</style>\n",
       "<table border=\"1\" class=\"dataframe\">\n",
       "  <thead>\n",
       "    <tr style=\"text-align: right;\">\n",
       "      <th></th>\n",
       "      <th>lead_id</th>\n",
       "      <th>project_id</th>\n",
       "      <th>text</th>\n",
       "      <th>sentences</th>\n",
       "      <th>raw_excerpts</th>\n",
       "      <th>excerpts</th>\n",
       "      <th>excerpt_sentence_indices</th>\n",
       "    </tr>\n",
       "  </thead>\n",
       "  <tbody>\n",
       "    <tr>\n",
       "      <th>0</th>\n",
       "      <td>1190</td>\n",
       "      <td>321</td>\n",
       "      <td>252 Libyan civilians killed or injured\\n\\n52 2...</td>\n",
       "      <td>[252 Libyan civilians killed or injured\\n\\n52 ...</td>\n",
       "      <td>[8 January - Tunisian border The clashes betwe...</td>\n",
       "      <td>[8 January - Tunisian border The clashes betwe...</td>\n",
       "      <td>[{'index': 5, 'distance': 159}, {'index': 32, ...</td>\n",
       "    </tr>\n",
       "    <tr>\n",
       "      <th>1</th>\n",
       "      <td>5644</td>\n",
       "      <td>321</td>\n",
       "      <td>Protection sector update on the protection sit...</td>\n",
       "      <td>[Protection sector update on the protection si...</td>\n",
       "      <td>[The fighting erupted between several armed gr...</td>\n",
       "      <td>[The fighting erupted between several armed gr...</td>\n",
       "      <td>[{'index': 6, 'distance': 2}, {'index': 7, 'di...</td>\n",
       "    </tr>\n",
       "  </tbody>\n",
       "</table>\n",
       "</div>"
      ],
      "text/plain": [
       "   lead_id  project_id                                               text  \\\n",
       "0     1190         321  252 Libyan civilians killed or injured\\n\\n52 2...   \n",
       "1     5644         321  Protection sector update on the protection sit...   \n",
       "\n",
       "                                           sentences  \\\n",
       "0  [252 Libyan civilians killed or injured\\n\\n52 ...   \n",
       "1  [Protection sector update on the protection si...   \n",
       "\n",
       "                                        raw_excerpts  \\\n",
       "0  [8 January - Tunisian border The clashes betwe...   \n",
       "1  [The fighting erupted between several armed gr...   \n",
       "\n",
       "                                            excerpts  \\\n",
       "0  [8 January - Tunisian border The clashes betwe...   \n",
       "1  [The fighting erupted between several armed gr...   \n",
       "\n",
       "                            excerpt_sentence_indices  \n",
       "0  [{'index': 5, 'distance': 159}, {'index': 32, ...  \n",
       "1  [{'index': 6, 'distance': 2}, {'index': 7, 'di...  "
      ]
     },
     "execution_count": 10,
     "metadata": {},
     "output_type": "execute_result"
    }
   ],
   "source": [
    "endpoint_test_data = pd_data[pd_data.sentences.apply(lambda x: len(x)>=5)]\n",
    "endpoint_test_data.head(2)"
   ]
  },
  {
   "cell_type": "code",
   "execution_count": 11,
   "metadata": {},
   "outputs": [
    {
     "data": {
      "text/plain": [
       "['252 Libyan civilians killed or injured\\n\\n52 200 civilians civilians killed injured Caused by\\n\\nActs of terrorism Armed/tribal conflict\\n\\nremnants of war\\n\\nExtrajudicial execution Unlawful killing\\n\\n600 new families displaced (during the reporting period) Approximately 600 families, mainly in Sebha due to the ongoing tribal clashes between Awlad Sulieman and the Tebu tribes\\n\\nRecent developments\\n\\n8 January - Tunisian border The clashes between armed groups loyal to the unity government and Libyan border offi cials in the town of Ras Ajdir on the Tunisian border on 8 January resulted in the closure of the border for one day.',\n",
       " '\\n\\n15 January - Tripoli Violent clashes erupted in Tripoli on January 15th, as armed brigades attacked Mitiga prison inside Mitiga Airport in Suq Aljumaa area. ',\n",
       " 'All schools in the area were closed for one week, the roads surrounding the fights in the Beach Road, Suq Alumaa and Bab Tajoura areas were shut down. ',\n",
       " 'Heavy weapons were heard in the area of clashes, some families were trapped inside the fi ght zone. ',\n",
       " 'The Airport of Mitiga was closed for one week.',\n",
       " '\\n\\n24 January - Tripoli The coastal road that links Tripoli to cities and districts in West Libya was closed for 10 days by Fursan Janzour brigade. ',\n",
       " 'The closure of the road affected tens of thousands civilians who were not able to reach Tripoli to have access to services, mainly hospitals, go to work, or banks. ',\n",
       " 'Reportedly, many civilians had to take alternative unsafe roads to reach Tripoli.',\n",
       " '\\n\\nSince 2017 - Derna The military encirclement of Derna continues since July 2017. ',\n",
       " 'More than 100,000 civilians including IDPs, returnees and host communities remain trapped in the city and face increasingly deteriorating humanitarian conditions and protec- tion concerns.']"
      ]
     },
     "execution_count": 11,
     "metadata": {},
     "output_type": "execute_result"
    }
   ],
   "source": [
    "endpoint_test_data.iloc[0].sentences[:10]"
   ]
  },
  {
   "cell_type": "markdown",
   "metadata": {},
   "source": [
    "### Issues:\n",
    "* If we use the models, the models will be tested on some entries they were trained on.\n",
    "* Taggers select modified excerpts, but we need to use the original excerpt.\n",
    "* !!! bias in data (example in libya lead) !!!:\n",
    "    - some relevant entries not tagged (example first sentence)\n",
    "    - change in frameworks: some tags just not present and therefore not tagged\n",
    "    - parts of sentences selected, not always sentences"
   ]
  },
  {
   "cell_type": "code",
   "execution_count": 3,
   "metadata": {},
   "outputs": [],
   "source": [
    "def flatten(t):\n",
    "    return [item for sublist in t for item in sublist]\n",
    "    \n",
    "def process_raw_sentences(entry: str):\n",
    "    new_sentences = [sent.split('\\n\\n') for sent in entry]\n",
    "    flat_new_sentences = [item for sublist in new_sentences for item in sublist if len(item)>5]\n",
    "    return flat_new_sentences"
   ]
  },
  {
   "cell_type": "code",
   "execution_count": 12,
   "metadata": {},
   "outputs": [
    {
     "name": "stderr",
     "output_type": "stream",
     "text": [
      "<ipython-input-12-1249e8b616c7>:9: SettingWithCopyWarning: \n",
      "A value is trying to be set on a copy of a slice from a DataFrame.\n",
      "Try using .loc[row_indexer,col_indexer] = value instead\n",
      "\n",
      "See the caveats in the documentation: https://pandas.pydata.org/pandas-docs/stable/user_guide/indexing.html#returning-a-view-versus-a-copy\n",
      "  endpoint_test_data['processed_sentences'] = endpoint_test_data['sentences'].apply(process_raw_sentences)\n"
     ]
    }
   ],
   "source": [
    "\n",
    "endpoint_test_data['processed_sentences'] = endpoint_test_data['sentences'].apply(process_raw_sentences)"
   ]
  },
  {
   "cell_type": "code",
   "execution_count": 13,
   "metadata": {},
   "outputs": [
    {
     "data": {
      "text/plain": [
       "0       [252 Libyan civilians killed or injured, 52 20...\n",
       "1       [Protection sector update on the protection si...\n",
       "2       [Protection sector update on the protection si...\n",
       "5       [Resettlement update #44, LIBYA-NIGER situatio...\n",
       "6       [DISPLACEMENT MOBILITY TRACKING EVENT TRACKER ...\n",
       "                              ...                        \n",
       "1708    [Govt. , of the People's Republic of Banglades...\n",
       "1709    [Ce rapport est produit par OCHA RDC en collab...\n",
       "1710    [SITUATION UPDATE, DRC Nyiragongo Volcano Situ...\n",
       "1711    [Ce rapport est produit par OCHA RDC en collab...\n",
       "1712    [Briefing note 26 May 2021, Mount Nyiragongo e...\n",
       "Name: processed_sentences, Length: 1510, dtype: object"
      ]
     },
     "execution_count": 13,
     "metadata": {},
     "output_type": "execute_result"
    }
   ],
   "source": [
    "endpoint_test_data['processed_sentences']"
   ]
  },
  {
   "cell_type": "code",
   "execution_count": 14,
   "metadata": {},
   "outputs": [
    {
     "data": {
      "text/plain": [
       "55659"
      ]
     },
     "execution_count": 14,
     "metadata": {},
     "output_type": "execute_result"
    }
   ],
   "source": [
    "len(flatten(endpoint_test_data['processed_sentences']))"
   ]
  },
  {
   "cell_type": "markdown",
   "metadata": {},
   "source": [
    "### generate predictions for all sentences using endpoint:"
   ]
  },
  {
   "cell_type": "code",
   "execution_count": 15,
   "metadata": {},
   "outputs": [],
   "source": [
    "pillars_1d_tags = [\n",
    "    \"Covid-19\",\n",
    "    \"Casualties\",\n",
    "    \"Context\",\n",
    "    \"Displacement\",\n",
    "    \"Humanitarian Access\",\n",
    "    \"Shock/Event\",\n",
    "    \"Information And Communication\",\n",
    "]\n",
    "\n",
    "pillars_2d_tags = [\n",
    "    \"At Risk\",\n",
    "    \"Priority Interventions\",\n",
    "    \"Capacities & Response\",\n",
    "    \"Humanitarian Conditions\",\n",
    "    \"Impact\",\n",
    "    \"Priority Needs\",\n",
    "]\n",
    "\n",
    "output_columns = [\n",
    "    \"sectors\",\n",
    "    \"subpillars_2d\",\n",
    "    \"subpillars_1d\",\n",
    "    \"gender\",\n",
    "    \"age\",\n",
    "    \"severity\",\n",
    "    \"specific_needs_groups\",\n",
    "    \"affected_groups\",\n",
    "]\n",
    "\n",
    "primary_tags = [\"sectors\", \"subpillars_2d\", \"subpillars_1d\"]\n",
    "secondary_tags = [\"age\", \"gender\", \"affected_groups\", \"specific_needs_groups\"]\n",
    "\n",
    "\n",
    "def get_predictions_all(\n",
    "    ratio_proba_threshold,\n",
    "    output_columns=output_columns,\n",
    "    pillars_2d=pillars_2d_tags,\n",
    "    pillars_1d=pillars_1d_tags,\n",
    "    nb_entries: int = 1,\n",
    "    ratio_nb: int = 1,\n",
    "):\n",
    "\n",
    "    predictions = {column: [] for column in output_columns}\n",
    "    for entry_nb in range(nb_entries):\n",
    "        returns_sectors = ratio_proba_threshold[\"sectors\"][entry_nb]\n",
    "\n",
    "        returns_subpillars = ratio_proba_threshold[\"subpillars\"][entry_nb]\n",
    "\n",
    "        subpillars_2d_tags = {\n",
    "            key: value\n",
    "            for key, value in returns_subpillars.items()\n",
    "            if key.split(\"->\")[0] in pillars_2d\n",
    "        }\n",
    "        subpillars_1d_tags = {\n",
    "            key: value\n",
    "            for key, value in returns_subpillars.items()\n",
    "            if key.split(\"->\")[0] in pillars_1d\n",
    "        }\n",
    "\n",
    "        ratios_sectors_subpillars_2d = list(returns_sectors.values()) + list(\n",
    "            subpillars_2d_tags.values()\n",
    "        )\n",
    "\n",
    "        if np.any([item >= ratio_nb for item in ratios_sectors_subpillars_2d]):\n",
    "            preds_2d = get_preds_entry(subpillars_2d_tags, True, ratio_nb)\n",
    "            preds_sectors = get_preds_entry(returns_sectors, True, ratio_nb)\n",
    "\n",
    "        else:\n",
    "            preds_2d = []\n",
    "            preds_sectors = []\n",
    "\n",
    "        predictions[\"sectors\"].append(preds_sectors)\n",
    "        predictions[\"subpillars_2d\"].append(preds_2d)\n",
    "\n",
    "        preds_1d = get_preds_entry(subpillars_1d_tags, False, ratio_nb)\n",
    "        predictions[\"subpillars_1d\"].append(preds_1d)\n",
    "\n",
    "        returns_sec_tags = ratio_proba_threshold[\"secondary_tags\"][entry_nb]\n",
    "        preds_entry = get_preds_entry(returns_sec_tags, False, ratio_nb)\n",
    "\n",
    "        for secondary_tag in [\n",
    "            \"age\",\n",
    "            \"gender\",\n",
    "            \"affected_groups\",\n",
    "            \"specific_needs_groups\",\n",
    "        ]:\n",
    "            preds_sec_tag = [\n",
    "                item.split(\"->\")[1]\n",
    "                for item in preds_entry\n",
    "                if item.split(\"->\")[0] == secondary_tag\n",
    "            ]\n",
    "            predictions[secondary_tag].append(preds_sec_tag)\n",
    "\n",
    "        severity_tags = {\n",
    "            key: value\n",
    "            for key, value in returns_sec_tags.items()\n",
    "            if key.split(\"->\")[0] == \"severity\"\n",
    "        }\n",
    "        if np.any([\"Humanitarian Conditions\" in item for item in preds_2d]):\n",
    "            preds_severity = get_preds_entry(severity_tags, True, ratio_nb, True)\n",
    "            preds_severity = [item.split(\"->\")[1] for item in preds_severity]\n",
    "        else:\n",
    "            preds_severity = []\n",
    "        predictions[\"severity\"].append(preds_severity)\n",
    "\n",
    "    return predictions\n",
    "\n",
    "\n",
    "def get_preds_entry(\n",
    "    preds_column, return_at_least_one=True, ratio_nb=1, return_only_one=False\n",
    "):\n",
    "    preds_entry = [\n",
    "        sub_tag\n",
    "        for sub_tag in list(preds_column.keys())\n",
    "        if preds_column[sub_tag] > ratio_nb\n",
    "    ]\n",
    "    if return_only_one:\n",
    "        preds_entry = [\n",
    "            sub_tag\n",
    "            for sub_tag in list(preds_column.keys())\n",
    "            if preds_column[sub_tag] == max(list(preds_column.values()))\n",
    "        ]\n",
    "    if return_at_least_one:\n",
    "        if len(preds_entry) == 0:\n",
    "            preds_entry = [\n",
    "                sub_tag\n",
    "                for sub_tag in list(preds_column.keys())\n",
    "                if preds_column[sub_tag] == max(list(preds_column.values()))\n",
    "            ]\n",
    "    return preds_entry"
   ]
  },
  {
   "cell_type": "code",
   "execution_count": 16,
   "metadata": {},
   "outputs": [],
   "source": [
    "import boto3\n",
    "import pandas as pd\n",
    "from tqdm import tqdm\n",
    "import os\n",
    "from ast import literal_eval\n",
    "\n",
    "# sample code for predictions with endpoint\n",
    "client = boto3.session.Session().client(\"sagemaker-runtime\", region_name=\"us-east-1\")"
   ]
  },
  {
   "cell_type": "code",
   "execution_count": 34,
   "metadata": {},
   "outputs": [
    {
     "name": "stderr",
     "output_type": "stream",
     "text": [
      " 68%|██████▊   | 1021/1510 [2:06:49<1:00:44,  7.45s/it]\n"
     ]
    },
    {
     "ename": "KeyboardInterrupt",
     "evalue": "",
     "output_type": "error",
     "traceback": [
      "\u001b[0;31m---------------------------------------------------------------------------\u001b[0m",
      "\u001b[0;31mKeyboardInterrupt\u001b[0m                         Traceback (most recent call last)",
      "\u001b[0;32m<ipython-input-34-cc008adca188>\u001b[0m in \u001b[0;36m<module>\u001b[0;34m\u001b[0m\n\u001b[1;32m     11\u001b[0m         \u001b[0mdata_dict\u001b[0m\u001b[0;34m[\u001b[0m\u001b[0;34m\"return_type\"\u001b[0m\u001b[0;34m]\u001b[0m \u001b[0;34m=\u001b[0m \u001b[0mreturn_type\u001b[0m\u001b[0;34m\u001b[0m\u001b[0;34m\u001b[0m\u001b[0m\n\u001b[1;32m     12\u001b[0m \u001b[0;34m\u001b[0m\u001b[0m\n\u001b[0;32m---> 13\u001b[0;31m         \u001b[0mdata\u001b[0m \u001b[0;34m=\u001b[0m \u001b[0mpd\u001b[0m\u001b[0;34m.\u001b[0m\u001b[0mDataFrame\u001b[0m\u001b[0;34m(\u001b[0m\u001b[0mdata_dict\u001b[0m\u001b[0;34m)\u001b[0m\u001b[0;34m\u001b[0m\u001b[0;34m\u001b[0m\u001b[0m\n\u001b[0m\u001b[1;32m     14\u001b[0m \u001b[0;34m\u001b[0m\u001b[0m\n\u001b[1;32m     15\u001b[0m \u001b[0;34m\u001b[0m\u001b[0m\n",
      "\u001b[0;32m~/anaconda3/envs/deepl/lib/python3.9/site-packages/pandas/core/frame.py\u001b[0m in \u001b[0;36m__init__\u001b[0;34m(self, data, index, columns, dtype, copy)\u001b[0m\n\u001b[1;32m    527\u001b[0m \u001b[0;34m\u001b[0m\u001b[0m\n\u001b[1;32m    528\u001b[0m         \u001b[0;32melif\u001b[0m \u001b[0misinstance\u001b[0m\u001b[0;34m(\u001b[0m\u001b[0mdata\u001b[0m\u001b[0;34m,\u001b[0m \u001b[0mdict\u001b[0m\u001b[0;34m)\u001b[0m\u001b[0;34m:\u001b[0m\u001b[0;34m\u001b[0m\u001b[0;34m\u001b[0m\u001b[0m\n\u001b[0;32m--> 529\u001b[0;31m             \u001b[0mmgr\u001b[0m \u001b[0;34m=\u001b[0m \u001b[0minit_dict\u001b[0m\u001b[0;34m(\u001b[0m\u001b[0mdata\u001b[0m\u001b[0;34m,\u001b[0m \u001b[0mindex\u001b[0m\u001b[0;34m,\u001b[0m \u001b[0mcolumns\u001b[0m\u001b[0;34m,\u001b[0m \u001b[0mdtype\u001b[0m\u001b[0;34m=\u001b[0m\u001b[0mdtype\u001b[0m\u001b[0;34m)\u001b[0m\u001b[0;34m\u001b[0m\u001b[0;34m\u001b[0m\u001b[0m\n\u001b[0m\u001b[1;32m    530\u001b[0m         \u001b[0;32melif\u001b[0m \u001b[0misinstance\u001b[0m\u001b[0;34m(\u001b[0m\u001b[0mdata\u001b[0m\u001b[0;34m,\u001b[0m \u001b[0mma\u001b[0m\u001b[0;34m.\u001b[0m\u001b[0mMaskedArray\u001b[0m\u001b[0;34m)\u001b[0m\u001b[0;34m:\u001b[0m\u001b[0;34m\u001b[0m\u001b[0;34m\u001b[0m\u001b[0m\n\u001b[1;32m    531\u001b[0m             \u001b[0;32mimport\u001b[0m \u001b[0mnumpy\u001b[0m\u001b[0;34m.\u001b[0m\u001b[0mma\u001b[0m\u001b[0;34m.\u001b[0m\u001b[0mmrecords\u001b[0m \u001b[0;32mas\u001b[0m \u001b[0mmrecords\u001b[0m\u001b[0;34m\u001b[0m\u001b[0;34m\u001b[0m\u001b[0m\n",
      "\u001b[0;32m~/anaconda3/envs/deepl/lib/python3.9/site-packages/pandas/core/internals/construction.py\u001b[0m in \u001b[0;36minit_dict\u001b[0;34m(data, index, columns, dtype)\u001b[0m\n\u001b[1;32m    285\u001b[0m             \u001b[0marr\u001b[0m \u001b[0;32mif\u001b[0m \u001b[0;32mnot\u001b[0m \u001b[0mis_datetime64tz_dtype\u001b[0m\u001b[0;34m(\u001b[0m\u001b[0marr\u001b[0m\u001b[0;34m)\u001b[0m \u001b[0;32melse\u001b[0m \u001b[0marr\u001b[0m\u001b[0;34m.\u001b[0m\u001b[0mcopy\u001b[0m\u001b[0;34m(\u001b[0m\u001b[0;34m)\u001b[0m \u001b[0;32mfor\u001b[0m \u001b[0marr\u001b[0m \u001b[0;32min\u001b[0m \u001b[0marrays\u001b[0m\u001b[0;34m\u001b[0m\u001b[0;34m\u001b[0m\u001b[0m\n\u001b[1;32m    286\u001b[0m         ]\n\u001b[0;32m--> 287\u001b[0;31m     \u001b[0;32mreturn\u001b[0m \u001b[0marrays_to_mgr\u001b[0m\u001b[0;34m(\u001b[0m\u001b[0marrays\u001b[0m\u001b[0;34m,\u001b[0m \u001b[0mdata_names\u001b[0m\u001b[0;34m,\u001b[0m \u001b[0mindex\u001b[0m\u001b[0;34m,\u001b[0m \u001b[0mcolumns\u001b[0m\u001b[0;34m,\u001b[0m \u001b[0mdtype\u001b[0m\u001b[0;34m=\u001b[0m\u001b[0mdtype\u001b[0m\u001b[0;34m)\u001b[0m\u001b[0;34m\u001b[0m\u001b[0;34m\u001b[0m\u001b[0m\n\u001b[0m\u001b[1;32m    288\u001b[0m \u001b[0;34m\u001b[0m\u001b[0m\n\u001b[1;32m    289\u001b[0m \u001b[0;34m\u001b[0m\u001b[0m\n",
      "\u001b[0;32m~/anaconda3/envs/deepl/lib/python3.9/site-packages/pandas/core/internals/construction.py\u001b[0m in \u001b[0;36marrays_to_mgr\u001b[0;34m(arrays, arr_names, index, columns, dtype, verify_integrity)\u001b[0m\n\u001b[1;32m     83\u001b[0m \u001b[0;34m\u001b[0m\u001b[0m\n\u001b[1;32m     84\u001b[0m         \u001b[0;31m# don't force copy because getting jammed in an ndarray anyway\u001b[0m\u001b[0;34m\u001b[0m\u001b[0;34m\u001b[0m\u001b[0;34m\u001b[0m\u001b[0m\n\u001b[0;32m---> 85\u001b[0;31m         \u001b[0marrays\u001b[0m \u001b[0;34m=\u001b[0m \u001b[0m_homogenize\u001b[0m\u001b[0;34m(\u001b[0m\u001b[0marrays\u001b[0m\u001b[0;34m,\u001b[0m \u001b[0mindex\u001b[0m\u001b[0;34m,\u001b[0m \u001b[0mdtype\u001b[0m\u001b[0;34m)\u001b[0m\u001b[0;34m\u001b[0m\u001b[0;34m\u001b[0m\u001b[0m\n\u001b[0m\u001b[1;32m     86\u001b[0m \u001b[0;34m\u001b[0m\u001b[0m\n\u001b[1;32m     87\u001b[0m         \u001b[0mcolumns\u001b[0m \u001b[0;34m=\u001b[0m \u001b[0mensure_index\u001b[0m\u001b[0;34m(\u001b[0m\u001b[0mcolumns\u001b[0m\u001b[0;34m)\u001b[0m\u001b[0;34m\u001b[0m\u001b[0;34m\u001b[0m\u001b[0m\n",
      "\u001b[0;32m~/anaconda3/envs/deepl/lib/python3.9/site-packages/pandas/core/internals/construction.py\u001b[0m in \u001b[0;36m_homogenize\u001b[0;34m(data, index, dtype)\u001b[0m\n\u001b[1;32m    353\u001b[0m                     \u001b[0mval\u001b[0m \u001b[0;34m=\u001b[0m \u001b[0mdict\u001b[0m\u001b[0;34m(\u001b[0m\u001b[0mval\u001b[0m\u001b[0;34m)\u001b[0m\u001b[0;34m\u001b[0m\u001b[0;34m\u001b[0m\u001b[0m\n\u001b[1;32m    354\u001b[0m                 \u001b[0mval\u001b[0m \u001b[0;34m=\u001b[0m \u001b[0mlib\u001b[0m\u001b[0;34m.\u001b[0m\u001b[0mfast_multiget\u001b[0m\u001b[0;34m(\u001b[0m\u001b[0mval\u001b[0m\u001b[0;34m,\u001b[0m \u001b[0moindex\u001b[0m\u001b[0;34m.\u001b[0m\u001b[0m_values\u001b[0m\u001b[0;34m,\u001b[0m \u001b[0mdefault\u001b[0m\u001b[0;34m=\u001b[0m\u001b[0mnp\u001b[0m\u001b[0;34m.\u001b[0m\u001b[0mnan\u001b[0m\u001b[0;34m)\u001b[0m\u001b[0;34m\u001b[0m\u001b[0;34m\u001b[0m\u001b[0m\n\u001b[0;32m--> 355\u001b[0;31m             val = sanitize_array(\n\u001b[0m\u001b[1;32m    356\u001b[0m                 \u001b[0mval\u001b[0m\u001b[0;34m,\u001b[0m \u001b[0mindex\u001b[0m\u001b[0;34m,\u001b[0m \u001b[0mdtype\u001b[0m\u001b[0;34m=\u001b[0m\u001b[0mdtype\u001b[0m\u001b[0;34m,\u001b[0m \u001b[0mcopy\u001b[0m\u001b[0;34m=\u001b[0m\u001b[0;32mFalse\u001b[0m\u001b[0;34m,\u001b[0m \u001b[0mraise_cast_failure\u001b[0m\u001b[0;34m=\u001b[0m\u001b[0;32mFalse\u001b[0m\u001b[0;34m\u001b[0m\u001b[0;34m\u001b[0m\u001b[0m\n\u001b[1;32m    357\u001b[0m             )\n",
      "\u001b[0;32m~/anaconda3/envs/deepl/lib/python3.9/site-packages/pandas/core/construction.py\u001b[0m in \u001b[0;36msanitize_array\u001b[0;34m(data, index, dtype, copy, raise_cast_failure)\u001b[0m\n\u001b[1;32m    480\u001b[0m             \u001b[0msubarr\u001b[0m \u001b[0;34m=\u001b[0m \u001b[0m_try_cast\u001b[0m\u001b[0;34m(\u001b[0m\u001b[0mdata\u001b[0m\u001b[0;34m,\u001b[0m \u001b[0mdtype\u001b[0m\u001b[0;34m,\u001b[0m \u001b[0mcopy\u001b[0m\u001b[0;34m,\u001b[0m \u001b[0mraise_cast_failure\u001b[0m\u001b[0;34m)\u001b[0m\u001b[0;34m\u001b[0m\u001b[0;34m\u001b[0m\u001b[0m\n\u001b[1;32m    481\u001b[0m         \u001b[0;32melse\u001b[0m\u001b[0;34m:\u001b[0m\u001b[0;34m\u001b[0m\u001b[0;34m\u001b[0m\u001b[0m\n\u001b[0;32m--> 482\u001b[0;31m             \u001b[0msubarr\u001b[0m \u001b[0;34m=\u001b[0m \u001b[0mmaybe_convert_platform\u001b[0m\u001b[0;34m(\u001b[0m\u001b[0mdata\u001b[0m\u001b[0;34m)\u001b[0m\u001b[0;34m\u001b[0m\u001b[0;34m\u001b[0m\u001b[0m\n\u001b[0m\u001b[1;32m    483\u001b[0m \u001b[0;34m\u001b[0m\u001b[0m\n\u001b[1;32m    484\u001b[0m         \u001b[0msubarr\u001b[0m \u001b[0;34m=\u001b[0m \u001b[0mmaybe_cast_to_datetime\u001b[0m\u001b[0;34m(\u001b[0m\u001b[0msubarr\u001b[0m\u001b[0;34m,\u001b[0m \u001b[0mdtype\u001b[0m\u001b[0;34m)\u001b[0m\u001b[0;34m\u001b[0m\u001b[0;34m\u001b[0m\u001b[0m\n",
      "\u001b[0;32m~/anaconda3/envs/deepl/lib/python3.9/site-packages/pandas/core/dtypes/cast.py\u001b[0m in \u001b[0;36mmaybe_convert_platform\u001b[0;34m(values)\u001b[0m\n\u001b[1;32m    114\u001b[0m         \u001b[0;32mif\u001b[0m \u001b[0mhasattr\u001b[0m\u001b[0;34m(\u001b[0m\u001b[0mvalues\u001b[0m\u001b[0;34m,\u001b[0m \u001b[0;34m\"_values\"\u001b[0m\u001b[0;34m)\u001b[0m\u001b[0;34m:\u001b[0m\u001b[0;34m\u001b[0m\u001b[0;34m\u001b[0m\u001b[0m\n\u001b[1;32m    115\u001b[0m             \u001b[0mvalues\u001b[0m \u001b[0;34m=\u001b[0m \u001b[0mvalues\u001b[0m\u001b[0;34m.\u001b[0m\u001b[0m_values\u001b[0m\u001b[0;34m\u001b[0m\u001b[0;34m\u001b[0m\u001b[0m\n\u001b[0;32m--> 116\u001b[0;31m         \u001b[0mvalues\u001b[0m \u001b[0;34m=\u001b[0m \u001b[0mlib\u001b[0m\u001b[0;34m.\u001b[0m\u001b[0mmaybe_convert_objects\u001b[0m\u001b[0;34m(\u001b[0m\u001b[0mvalues\u001b[0m\u001b[0;34m)\u001b[0m\u001b[0;34m\u001b[0m\u001b[0;34m\u001b[0m\u001b[0m\n\u001b[0m\u001b[1;32m    117\u001b[0m \u001b[0;34m\u001b[0m\u001b[0m\n\u001b[1;32m    118\u001b[0m     \u001b[0;32mreturn\u001b[0m \u001b[0mvalues\u001b[0m\u001b[0;34m\u001b[0m\u001b[0;34m\u001b[0m\u001b[0m\n",
      "\u001b[0;31mKeyboardInterrupt\u001b[0m: "
     ]
    }
   ],
   "source": [
    "overall_preds = []\n",
    "\n",
    "for doc in tqdm(endpoint_test_data['processed_sentences']):\n",
    "    preds_doc = []\n",
    "    for sentence in doc:\n",
    "        #generate predictions\n",
    "        data_dict = {}\n",
    "        data_dict['excerpt'] = [sentence]\n",
    "        # new parameter for input\n",
    "        return_type = [\"all_models\"]\n",
    "        data_dict[\"return_type\"] = return_type\n",
    "\n",
    "        data = pd.DataFrame(data_dict)\n",
    "\n",
    "\n",
    "        input_json = data.to_json(orient=\"split\")\n",
    "\n",
    "        response = client.invoke_endpoint(\n",
    "            EndpointName=\"test-all-models\",\n",
    "            Body=input_json,\n",
    "            ContentType=\"application/json; format=pandas-split\",\n",
    "        )\n",
    "        output = response[\"Body\"].read().decode(\"ascii\")\n",
    "        output = literal_eval(output)\n",
    "\n",
    "        # get final output\n",
    "        predictions_one_sent = get_predictions_all(output[\"raw_predictions\"])\n",
    "\n",
    "        preds_doc.append(predictions_one_sent)\n",
    "\n",
    "    overall_preds.append(preds_doc)"
   ]
  },
  {
   "cell_type": "code",
   "execution_count": 35,
   "metadata": {},
   "outputs": [
    {
     "data": {
      "text/plain": [
       "1021"
      ]
     },
     "execution_count": 35,
     "metadata": {},
     "output_type": "execute_result"
    }
   ],
   "source": [
    "len(overall_preds)"
   ]
  },
  {
   "cell_type": "code",
   "execution_count": 36,
   "metadata": {},
   "outputs": [],
   "source": [
    "\n",
    "with open(\"test_using_endpoint\", \"wb\") as fp:   #Pickling\n",
    "    pickle.dump(overall_preds, fp)"
   ]
  },
  {
   "cell_type": "code",
   "execution_count": 2,
   "metadata": {},
   "outputs": [],
   "source": [
    "with open(\"test_using_endpoint\", \"rb\") as fp:   # Unpickling\n",
    "    imported_preds = pickle.load(fp)"
   ]
  },
  {
   "cell_type": "code",
   "execution_count": 4,
   "metadata": {},
   "outputs": [
    {
     "data": {
      "text/plain": [
       "37109"
      ]
     },
     "execution_count": 4,
     "metadata": {},
     "output_type": "execute_result"
    }
   ],
   "source": [
    "len(flatten(imported_preds))"
   ]
  },
  {
   "cell_type": "code",
   "execution_count": 39,
   "metadata": {},
   "outputs": [
    {
     "data": {
      "text/plain": [
       "[{'sectors': [[]],\n",
       "  'subpillars_2d': [[]],\n",
       "  'subpillars_1d': [[]],\n",
       "  'gender': [[]],\n",
       "  'age': [[]],\n",
       "  'severity': [[]],\n",
       "  'specific_needs_groups': [[]],\n",
       "  'affected_groups': [[]]},\n",
       " {'sectors': [['Protection']],\n",
       "  'subpillars_2d': [['Humanitarian Conditions->Physical And Mental Well Being']],\n",
       "  'subpillars_1d': [['Casualties->Dead', 'Casualties->Injured']],\n",
       "  'gender': [[]],\n",
       "  'age': [[]],\n",
       "  'severity': [['Critical']],\n",
       "  'specific_needs_groups': [[]],\n",
       "  'affected_groups': [[]]},\n",
       " {'sectors': [[]],\n",
       "  'subpillars_2d': [[]],\n",
       "  'subpillars_1d': [['Context->Security & Stability']],\n",
       "  'gender': [[]],\n",
       "  'age': [[]],\n",
       "  'severity': [[]],\n",
       "  'specific_needs_groups': [[]],\n",
       "  'affected_groups': [[]]},\n",
       " {'sectors': [['Protection']],\n",
       "  'subpillars_2d': [['At Risk->Risk And Vulnerabilities']],\n",
       "  'subpillars_1d': [['Context->Security & Stability']],\n",
       "  'gender': [[]],\n",
       "  'age': [[]],\n",
       "  'severity': [[]],\n",
       "  'specific_needs_groups': [[]],\n",
       "  'affected_groups': [[]]},\n",
       " {'sectors': [[]],\n",
       "  'subpillars_2d': [[]],\n",
       "  'subpillars_1d': [[]],\n",
       "  'gender': [[]],\n",
       "  'age': [[]],\n",
       "  'severity': [[]],\n",
       "  'specific_needs_groups': [[]],\n",
       "  'affected_groups': [[]]},\n",
       " {'sectors': [[]],\n",
       "  'subpillars_2d': [[]],\n",
       "  'subpillars_1d': [[]],\n",
       "  'gender': [[]],\n",
       "  'age': [[]],\n",
       "  'severity': [[]],\n",
       "  'specific_needs_groups': [[]],\n",
       "  'affected_groups': [['IDP']]},\n",
       " {'sectors': [[]],\n",
       "  'subpillars_2d': [[]],\n",
       "  'subpillars_1d': [[]],\n",
       "  'gender': [[]],\n",
       "  'age': [[]],\n",
       "  'severity': [[]],\n",
       "  'specific_needs_groups': [[]],\n",
       "  'affected_groups': [[]]},\n",
       " {'sectors': [['Protection']],\n",
       "  'subpillars_2d': [['Impact->Impact On Systems, Services And Networks']],\n",
       "  'subpillars_1d': [['Context->Security & Stability']],\n",
       "  'gender': [[]],\n",
       "  'age': [[]],\n",
       "  'severity': [[]],\n",
       "  'specific_needs_groups': [[]],\n",
       "  'affected_groups': [[]]},\n",
       " {'sectors': [[]],\n",
       "  'subpillars_2d': [[]],\n",
       "  'subpillars_1d': [['Context->Security & Stability']],\n",
       "  'gender': [[]],\n",
       "  'age': [[]],\n",
       "  'severity': [[]],\n",
       "  'specific_needs_groups': [[]],\n",
       "  'affected_groups': [[]]},\n",
       " {'sectors': [['Education', 'Logistics']],\n",
       "  'subpillars_2d': [['Impact->Impact On Systems, Services And Networks']],\n",
       "  'subpillars_1d': [[]],\n",
       "  'gender': [[]],\n",
       "  'age': [[]],\n",
       "  'severity': [[]],\n",
       "  'specific_needs_groups': [[]],\n",
       "  'affected_groups': [[]]},\n",
       " {'sectors': [['Protection']],\n",
       "  'subpillars_2d': [['At Risk->Risk And Vulnerabilities']],\n",
       "  'subpillars_1d': [['Context->Security & Stability']],\n",
       "  'gender': [[]],\n",
       "  'age': [[]],\n",
       "  'severity': [[]],\n",
       "  'specific_needs_groups': [[]],\n",
       "  'affected_groups': [[]]},\n",
       " {'sectors': [['Logistics']],\n",
       "  'subpillars_2d': [['Impact->Impact On Systems, Services And Networks']],\n",
       "  'subpillars_1d': [[]],\n",
       "  'gender': [[]],\n",
       "  'age': [[]],\n",
       "  'severity': [[]],\n",
       "  'specific_needs_groups': [[]],\n",
       "  'affected_groups': [[]]},\n",
       " {'sectors': [['Protection']],\n",
       "  'subpillars_2d': [['Impact->Impact On Systems, Services And Networks']],\n",
       "  'subpillars_1d': [[]],\n",
       "  'gender': [[]],\n",
       "  'age': [[]],\n",
       "  'severity': [[]],\n",
       "  'specific_needs_groups': [[]],\n",
       "  'affected_groups': [[]]},\n",
       " {'sectors': [['Health']],\n",
       "  'subpillars_2d': [['Humanitarian Conditions->Living Standards']],\n",
       "  'subpillars_1d': [[]],\n",
       "  'gender': [[]],\n",
       "  'age': [[]],\n",
       "  'severity': [['Major']],\n",
       "  'specific_needs_groups': [[]],\n",
       "  'affected_groups': [[]]},\n",
       " {'sectors': [['Logistics']],\n",
       "  'subpillars_2d': [['At Risk->Risk And Vulnerabilities']],\n",
       "  'subpillars_1d': [[]],\n",
       "  'gender': [[]],\n",
       "  'age': [[]],\n",
       "  'severity': [[]],\n",
       "  'specific_needs_groups': [[]],\n",
       "  'affected_groups': [[]]},\n",
       " {'sectors': [[]],\n",
       "  'subpillars_2d': [[]],\n",
       "  'subpillars_1d': [['Context->Security & Stability']],\n",
       "  'gender': [[]],\n",
       "  'age': [[]],\n",
       "  'severity': [[]],\n",
       "  'specific_needs_groups': [[]],\n",
       "  'affected_groups': [[]]},\n",
       " {'sectors': [['Protection']],\n",
       "  'subpillars_2d': [['At Risk->Risk And Vulnerabilities']],\n",
       "  'subpillars_1d': [[]],\n",
       "  'gender': [[]],\n",
       "  'age': [[]],\n",
       "  'severity': [[]],\n",
       "  'specific_needs_groups': [[]],\n",
       "  'affected_groups': [['Host', 'IDP', 'Returnees']]},\n",
       " {'sectors': [['Protection']],\n",
       "  'subpillars_2d': [['Impact->Driver/Aggravating Factors']],\n",
       "  'subpillars_1d': [['Context->Security & Stability']],\n",
       "  'gender': [[]],\n",
       "  'age': [[]],\n",
       "  'severity': [[]],\n",
       "  'specific_needs_groups': [[]],\n",
       "  'affected_groups': [[]]},\n",
       " {'sectors': [[]],\n",
       "  'subpillars_2d': [[]],\n",
       "  'subpillars_1d': [[]],\n",
       "  'gender': [[]],\n",
       "  'age': [[]],\n",
       "  'severity': [[]],\n",
       "  'specific_needs_groups': [[]],\n",
       "  'affected_groups': [['IDP']]},\n",
       " {'sectors': [[]],\n",
       "  'subpillars_2d': [[]],\n",
       "  'subpillars_1d': [[]],\n",
       "  'gender': [[]],\n",
       "  'age': [[]],\n",
       "  'severity': [[]],\n",
       "  'specific_needs_groups': [[]],\n",
       "  'affected_groups': [[]]},\n",
       " {'sectors': [['Protection']],\n",
       "  'subpillars_2d': [['Humanitarian Conditions->Living Standards']],\n",
       "  'subpillars_1d': [[]],\n",
       "  'gender': [[]],\n",
       "  'age': [[]],\n",
       "  'severity': [['No problem']],\n",
       "  'specific_needs_groups': [[]],\n",
       "  'affected_groups': [[]]},\n",
       " {'sectors': [['Protection']],\n",
       "  'subpillars_2d': [['Priority Interventions->Expressed By Humanitarian Staff']],\n",
       "  'subpillars_1d': [[]],\n",
       "  'gender': [[]],\n",
       "  'age': [[]],\n",
       "  'severity': [[]],\n",
       "  'specific_needs_groups': [[]],\n",
       "  'affected_groups': [[]]},\n",
       " {'sectors': [[]],\n",
       "  'subpillars_2d': [[]],\n",
       "  'subpillars_1d': [[]],\n",
       "  'gender': [[]],\n",
       "  'age': [[]],\n",
       "  'severity': [[]],\n",
       "  'specific_needs_groups': [[]],\n",
       "  'affected_groups': [[]]},\n",
       " {'sectors': [[]],\n",
       "  'subpillars_2d': [[]],\n",
       "  'subpillars_1d': [[]],\n",
       "  'gender': [[]],\n",
       "  'age': [[]],\n",
       "  'severity': [[]],\n",
       "  'specific_needs_groups': [[]],\n",
       "  'affected_groups': [['IDP']]},\n",
       " {'sectors': [[]],\n",
       "  'subpillars_2d': [[]],\n",
       "  'subpillars_1d': [[]],\n",
       "  'gender': [[]],\n",
       "  'age': [[]],\n",
       "  'severity': [[]],\n",
       "  'specific_needs_groups': [[]],\n",
       "  'affected_groups': [[]]},\n",
       " {'sectors': [[]],\n",
       "  'subpillars_2d': [[]],\n",
       "  'subpillars_1d': [[]],\n",
       "  'gender': [[]],\n",
       "  'age': [[]],\n",
       "  'severity': [[]],\n",
       "  'specific_needs_groups': [[]],\n",
       "  'affected_groups': [['IDP', 'Returnees']]},\n",
       " {'sectors': [[]],\n",
       "  'subpillars_2d': [[]],\n",
       "  'subpillars_1d': [[]],\n",
       "  'gender': [[]],\n",
       "  'age': [[]],\n",
       "  'severity': [[]],\n",
       "  'specific_needs_groups': [[]],\n",
       "  'affected_groups': [['Returnees']]},\n",
       " {'sectors': [[]],\n",
       "  'subpillars_2d': [[]],\n",
       "  'subpillars_1d': [['Context->Security & Stability']],\n",
       "  'gender': [['Male']],\n",
       "  'age': [[]],\n",
       "  'severity': [[]],\n",
       "  'specific_needs_groups': [[]],\n",
       "  'affected_groups': [['IDP']]},\n",
       " {'sectors': [[]],\n",
       "  'subpillars_2d': [[]],\n",
       "  'subpillars_1d': [['Context->Security & Stability']],\n",
       "  'gender': [[]],\n",
       "  'age': [[]],\n",
       "  'severity': [[]],\n",
       "  'specific_needs_groups': [[]],\n",
       "  'affected_groups': [['IDP']]},\n",
       " {'sectors': [[]],\n",
       "  'subpillars_2d': [[]],\n",
       "  'subpillars_1d': [['Displacement->Type/Numbers/Movements']],\n",
       "  'gender': [[]],\n",
       "  'age': [[]],\n",
       "  'severity': [[]],\n",
       "  'specific_needs_groups': [[]],\n",
       "  'affected_groups': [['IDP']]},\n",
       " {'sectors': [['Protection']],\n",
       "  'subpillars_2d': [['Humanitarian Conditions->Living Standards']],\n",
       "  'subpillars_1d': [['Humanitarian Access->Physical Constraints',\n",
       "    'Humanitarian Access->Relief To Population']],\n",
       "  'gender': [[]],\n",
       "  'age': [[]],\n",
       "  'severity': [['Of Concern']],\n",
       "  'specific_needs_groups': [[]],\n",
       "  'affected_groups': [['IDP']]},\n",
       " {'sectors': [[]],\n",
       "  'subpillars_2d': [[]],\n",
       "  'subpillars_1d': [['Humanitarian Access->Physical Constraints']],\n",
       "  'gender': [[]],\n",
       "  'age': [[]],\n",
       "  'severity': [[]],\n",
       "  'specific_needs_groups': [[]],\n",
       "  'affected_groups': [[]]},\n",
       " {'sectors': [['Protection']],\n",
       "  'subpillars_2d': [['Humanitarian Conditions->Physical And Mental Well Being']],\n",
       "  'subpillars_1d': [[]],\n",
       "  'gender': [[]],\n",
       "  'age': [[]],\n",
       "  'severity': [['Critical']],\n",
       "  'specific_needs_groups': [[]],\n",
       "  'affected_groups': [[]]},\n",
       " {'sectors': [['Protection']],\n",
       "  'subpillars_2d': [['Impact->Driver/Aggravating Factors']],\n",
       "  'subpillars_1d': [['Context->Security & Stability']],\n",
       "  'gender': [[]],\n",
       "  'age': [[]],\n",
       "  'severity': [[]],\n",
       "  'specific_needs_groups': [[]],\n",
       "  'affected_groups': [['IDP']]},\n",
       " {'sectors': [['Protection']],\n",
       "  'subpillars_2d': [['At Risk->Risk And Vulnerabilities']],\n",
       "  'subpillars_1d': [['Shock/Event->Hazard & Threats']],\n",
       "  'gender': [[]],\n",
       "  'age': [[]],\n",
       "  'severity': [[]],\n",
       "  'specific_needs_groups': [[]],\n",
       "  'affected_groups': [['IDP']]},\n",
       " {'sectors': [['Protection']],\n",
       "  'subpillars_2d': [['Humanitarian Conditions->Living Standards']],\n",
       "  'subpillars_1d': [[]],\n",
       "  'gender': [[]],\n",
       "  'age': [[]],\n",
       "  'severity': [['Critical']],\n",
       "  'specific_needs_groups': [[]],\n",
       "  'affected_groups': [['IDP']]},\n",
       " {'sectors': [['Protection']],\n",
       "  'subpillars_2d': [['At Risk->Risk And Vulnerabilities']],\n",
       "  'subpillars_1d': [['Humanitarian Access->Physical Constraints']],\n",
       "  'gender': [[]],\n",
       "  'age': [[]],\n",
       "  'severity': [[]],\n",
       "  'specific_needs_groups': [[]],\n",
       "  'affected_groups': [[]]},\n",
       " {'sectors': [['Health']],\n",
       "  'subpillars_2d': [['Humanitarian Conditions->Physical And Mental Well Being']],\n",
       "  'subpillars_1d': [[]],\n",
       "  'gender': [[]],\n",
       "  'age': [[]],\n",
       "  'severity': [['Critical']],\n",
       "  'specific_needs_groups': [[]],\n",
       "  'affected_groups': [['IDP']]},\n",
       " {'sectors': [['Protection']],\n",
       "  'subpillars_2d': [['Priority Interventions->Expressed By Humanitarian Staff']],\n",
       "  'subpillars_1d': [[]],\n",
       "  'gender': [[]],\n",
       "  'age': [[]],\n",
       "  'severity': [[]],\n",
       "  'specific_needs_groups': [[]],\n",
       "  'affected_groups': [['Refugees']]},\n",
       " {'sectors': [[]],\n",
       "  'subpillars_2d': [[]],\n",
       "  'subpillars_1d': [[]],\n",
       "  'gender': [[]],\n",
       "  'age': [[]],\n",
       "  'severity': [[]],\n",
       "  'specific_needs_groups': [[]],\n",
       "  'affected_groups': [['IDP']]},\n",
       " {'sectors': [['Protection']],\n",
       "  'subpillars_2d': [['At Risk->Risk And Vulnerabilities']],\n",
       "  'subpillars_1d': [[]],\n",
       "  'gender': [[]],\n",
       "  'age': [[]],\n",
       "  'severity': [[]],\n",
       "  'specific_needs_groups': [[]],\n",
       "  'affected_groups': [['IDP']]},\n",
       " {'sectors': [['Shelter']],\n",
       "  'subpillars_2d': [['At Risk->Risk And Vulnerabilities']],\n",
       "  'subpillars_1d': [[]],\n",
       "  'gender': [[]],\n",
       "  'age': [[]],\n",
       "  'severity': [[]],\n",
       "  'specific_needs_groups': [[]],\n",
       "  'affected_groups': [['IDP']]},\n",
       " {'sectors': [['Shelter']],\n",
       "  'subpillars_2d': [['Humanitarian Conditions->Coping Mechanisms']],\n",
       "  'subpillars_1d': [[]],\n",
       "  'gender': [[]],\n",
       "  'age': [[]],\n",
       "  'severity': [['Major']],\n",
       "  'specific_needs_groups': [[]],\n",
       "  'affected_groups': [[]]},\n",
       " {'sectors': [['Shelter']],\n",
       "  'subpillars_2d': [['Impact->Impact On People']],\n",
       "  'subpillars_1d': [['Shock/Event->Hazard & Threats']],\n",
       "  'gender': [[]],\n",
       "  'age': [[]],\n",
       "  'severity': [[]],\n",
       "  'specific_needs_groups': [[]],\n",
       "  'affected_groups': [['IDP']]},\n",
       " {'sectors': [['Shelter']],\n",
       "  'subpillars_2d': [['At Risk->Risk And Vulnerabilities']],\n",
       "  'subpillars_1d': [[]],\n",
       "  'gender': [[]],\n",
       "  'age': [[]],\n",
       "  'severity': [[]],\n",
       "  'specific_needs_groups': [[]],\n",
       "  'affected_groups': [['IDP']]},\n",
       " {'sectors': [['Protection']],\n",
       "  'subpillars_2d': [['At Risk->Risk And Vulnerabilities']],\n",
       "  'subpillars_1d': [[]],\n",
       "  'gender': [[]],\n",
       "  'age': [[]],\n",
       "  'severity': [[]],\n",
       "  'specific_needs_groups': [[]],\n",
       "  'affected_groups': [['IDP']]},\n",
       " {'sectors': [[]],\n",
       "  'subpillars_2d': [[]],\n",
       "  'subpillars_1d': [[]],\n",
       "  'gender': [[]],\n",
       "  'age': [[]],\n",
       "  'severity': [[]],\n",
       "  'specific_needs_groups': [[]],\n",
       "  'affected_groups': [['IDP']]},\n",
       " {'sectors': [[]],\n",
       "  'subpillars_2d': [[]],\n",
       "  'subpillars_1d': [['Displacement->Type/Numbers/Movements']],\n",
       "  'gender': [[]],\n",
       "  'age': [[]],\n",
       "  'severity': [[]],\n",
       "  'specific_needs_groups': [[]],\n",
       "  'affected_groups': [['IDP']]},\n",
       " {'sectors': [['Shelter']],\n",
       "  'subpillars_2d': [['Impact->Impact On People']],\n",
       "  'subpillars_1d': [[]],\n",
       "  'gender': [[]],\n",
       "  'age': [[]],\n",
       "  'severity': [[]],\n",
       "  'specific_needs_groups': [[]],\n",
       "  'affected_groups': [['IDP']]},\n",
       " {'sectors': [[]],\n",
       "  'subpillars_2d': [[]],\n",
       "  'subpillars_1d': [['Displacement->Type/Numbers/Movements']],\n",
       "  'gender': [[]],\n",
       "  'age': [[]],\n",
       "  'severity': [[]],\n",
       "  'specific_needs_groups': [[]],\n",
       "  'affected_groups': [['IDP']]},\n",
       " {'sectors': [[]],\n",
       "  'subpillars_2d': [[]],\n",
       "  'subpillars_1d': [[]],\n",
       "  'gender': [[]],\n",
       "  'age': [[]],\n",
       "  'severity': [[]],\n",
       "  'specific_needs_groups': [[]],\n",
       "  'affected_groups': [['IDP', 'Returnees']]},\n",
       " {'sectors': [[]],\n",
       "  'subpillars_2d': [[]],\n",
       "  'subpillars_1d': [[]],\n",
       "  'gender': [[]],\n",
       "  'age': [[]],\n",
       "  'severity': [[]],\n",
       "  'specific_needs_groups': [[]],\n",
       "  'affected_groups': [['IDP']]},\n",
       " {'sectors': [['Protection']],\n",
       "  'subpillars_2d': [['Priority Interventions->Expressed By Humanitarian Staff']],\n",
       "  'subpillars_1d': [[]],\n",
       "  'gender': [[]],\n",
       "  'age': [[]],\n",
       "  'severity': [[]],\n",
       "  'specific_needs_groups': [[]],\n",
       "  'affected_groups': [[]]},\n",
       " {'sectors': [[]],\n",
       "  'subpillars_2d': [[]],\n",
       "  'subpillars_1d': [['Context->Politics']],\n",
       "  'gender': [[]],\n",
       "  'age': [[]],\n",
       "  'severity': [[]],\n",
       "  'specific_needs_groups': [[]],\n",
       "  'affected_groups': [[]]},\n",
       " {'sectors': [[]],\n",
       "  'subpillars_2d': [[]],\n",
       "  'subpillars_1d': [[]],\n",
       "  'gender': [[]],\n",
       "  'age': [[]],\n",
       "  'severity': [[]],\n",
       "  'specific_needs_groups': [[]],\n",
       "  'affected_groups': [[]]},\n",
       " {'sectors': [[]],\n",
       "  'subpillars_2d': [[]],\n",
       "  'subpillars_1d': [[]],\n",
       "  'gender': [[]],\n",
       "  'age': [[]],\n",
       "  'severity': [[]],\n",
       "  'specific_needs_groups': [[]],\n",
       "  'affected_groups': [['Migrants']]},\n",
       " {'sectors': [[]],\n",
       "  'subpillars_2d': [[]],\n",
       "  'subpillars_1d': [['Context->Demography',\n",
       "    'Displacement->Type/Numbers/Movements']],\n",
       "  'gender': [[]],\n",
       "  'age': [[]],\n",
       "  'severity': [[]],\n",
       "  'specific_needs_groups': [[]],\n",
       "  'affected_groups': [[]]},\n",
       " {'sectors': [[]],\n",
       "  'subpillars_2d': [[]],\n",
       "  'subpillars_1d': [['Context->Demography',\n",
       "    'Displacement->Type/Numbers/Movements']],\n",
       "  'gender': [[]],\n",
       "  'age': [['Children/Youth (5 to 17 years old)']],\n",
       "  'severity': [[]],\n",
       "  'specific_needs_groups': [['Unaccompanied or Separated Children']],\n",
       "  'affected_groups': [[]]},\n",
       " {'sectors': [['Protection']],\n",
       "  'subpillars_2d': [['Capacities & Response->International Response',\n",
       "    'Capacities & Response->National Response']],\n",
       "  'subpillars_1d': [[]],\n",
       "  'gender': [[]],\n",
       "  'age': [[]],\n",
       "  'severity': [[]],\n",
       "  'specific_needs_groups': [[]],\n",
       "  'affected_groups': [[]]},\n",
       " {'sectors': [['Protection']],\n",
       "  'subpillars_2d': [['Capacities & Response->International Response',\n",
       "    'Capacities & Response->National Response']],\n",
       "  'subpillars_1d': [['Context->Demography']],\n",
       "  'gender': [['Female']],\n",
       "  'age': [['Children/Youth (5 to 17 years old)']],\n",
       "  'severity': [[]],\n",
       "  'specific_needs_groups': [[]],\n",
       "  'affected_groups': [[]]},\n",
       " {'sectors': [[]],\n",
       "  'subpillars_2d': [[]],\n",
       "  'subpillars_1d': [[]],\n",
       "  'gender': [[]],\n",
       "  'age': [[]],\n",
       "  'severity': [[]],\n",
       "  'specific_needs_groups': [[]],\n",
       "  'affected_groups': [[]]},\n",
       " {'sectors': [[]],\n",
       "  'subpillars_2d': [[]],\n",
       "  'subpillars_1d': [['Context->Security & Stability']],\n",
       "  'gender': [[]],\n",
       "  'age': [[]],\n",
       "  'severity': [[]],\n",
       "  'specific_needs_groups': [[]],\n",
       "  'affected_groups': [[]]},\n",
       " {'sectors': [['Protection']],\n",
       "  'subpillars_2d': [['At Risk->Risk And Vulnerabilities']],\n",
       "  'subpillars_1d': [['Context->Security & Stability']],\n",
       "  'gender': [[]],\n",
       "  'age': [[]],\n",
       "  'severity': [[]],\n",
       "  'specific_needs_groups': [[]],\n",
       "  'affected_groups': [[]]},\n",
       " {'sectors': [['Livelihoods']],\n",
       "  'subpillars_2d': [['Humanitarian Conditions->Living Standards']],\n",
       "  'subpillars_1d': [[]],\n",
       "  'gender': [[]],\n",
       "  'age': [[]],\n",
       "  'severity': [['Major']],\n",
       "  'specific_needs_groups': [[]],\n",
       "  'affected_groups': [[]]},\n",
       " {'sectors': [['Health']],\n",
       "  'subpillars_2d': [['Humanitarian Conditions->Living Standards']],\n",
       "  'subpillars_1d': [[]],\n",
       "  'gender': [[]],\n",
       "  'age': [[]],\n",
       "  'severity': [['Critical']],\n",
       "  'specific_needs_groups': [[]],\n",
       "  'affected_groups': [[]]},\n",
       " {'sectors': [[]],\n",
       "  'subpillars_2d': [[]],\n",
       "  'subpillars_1d': [['Displacement->Intentions']],\n",
       "  'gender': [[]],\n",
       "  'age': [[]],\n",
       "  'severity': [[]],\n",
       "  'specific_needs_groups': [[]],\n",
       "  'affected_groups': [[]]},\n",
       " {'sectors': [[]],\n",
       "  'subpillars_2d': [[]],\n",
       "  'subpillars_1d': [[]],\n",
       "  'gender': [[]],\n",
       "  'age': [[]],\n",
       "  'severity': [[]],\n",
       "  'specific_needs_groups': [[]],\n",
       "  'affected_groups': [[]]},\n",
       " {'sectors': [['Protection']],\n",
       "  'subpillars_2d': [['Humanitarian Conditions->Living Standards']],\n",
       "  'subpillars_1d': [[]],\n",
       "  'gender': [[]],\n",
       "  'age': [[]],\n",
       "  'severity': [['No problem']],\n",
       "  'specific_needs_groups': [[]],\n",
       "  'affected_groups': [[]]},\n",
       " {'sectors': [['Protection']],\n",
       "  'subpillars_2d': [['Priority Interventions->Expressed By Humanitarian Staff']],\n",
       "  'subpillars_1d': [[]],\n",
       "  'gender': [[]],\n",
       "  'age': [[]],\n",
       "  'severity': [[]],\n",
       "  'specific_needs_groups': [[]],\n",
       "  'affected_groups': [[]]},\n",
       " {'sectors': [['Protection']],\n",
       "  'subpillars_2d': [['Priority Interventions->Expressed By Humanitarian Staff']],\n",
       "  'subpillars_1d': [[]],\n",
       "  'gender': [[]],\n",
       "  'age': [[]],\n",
       "  'severity': [[]],\n",
       "  'specific_needs_groups': [[]],\n",
       "  'affected_groups': [['Refugees']]}]"
      ]
     },
     "execution_count": 39,
     "metadata": {},
     "output_type": "execute_result"
    }
   ],
   "source": [
    "imported_preds[0]"
   ]
  },
  {
   "cell_type": "markdown",
   "metadata": {},
   "source": [
    "1000 docs treated successfully, 8s/doc in total."
   ]
  },
  {
   "cell_type": "code",
   "execution_count": 5,
   "metadata": {},
   "outputs": [
    {
     "data": {
      "text/plain": [
       "0.20534102239348945"
      ]
     },
     "execution_count": 5,
     "metadata": {},
     "output_type": "execute_result"
    }
   ],
   "source": [
    "(60*127) / 37109"
   ]
  },
  {
   "cell_type": "code",
   "execution_count": null,
   "metadata": {},
   "outputs": [],
   "source": []
  }
 ],
 "metadata": {
  "interpreter": {
   "hash": "8a5ddf8e25d962f331e8059973cfd97c5aef9d0ccfdd243943e9f1f512e91043"
  },
  "kernelspec": {
   "display_name": "Python 3.9.1 ('deepl')",
   "language": "python",
   "name": "python3"
  },
  "language_info": {
   "codemirror_mode": {
    "name": "ipython",
    "version": 3
   },
   "file_extension": ".py",
   "mimetype": "text/x-python",
   "name": "python",
   "nbconvert_exporter": "python",
   "pygments_lexer": "ipython3",
   "version": "3.9.1"
  },
  "orig_nbformat": 4
 },
 "nbformat": 4,
 "nbformat_minor": 2
}
