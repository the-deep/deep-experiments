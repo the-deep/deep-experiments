{
 "cells": [
  {
   "cell_type": "markdown",
   "metadata": {},
   "source": [
    "# Import"
   ]
  },
  {
   "cell_type": "markdown",
   "metadata": {},
   "source": [
    "These requirements are necessary if you launch this notebook from SageMaker instances"
   ]
  },
  {
   "cell_type": "code",
   "execution_count": 1,
   "metadata": {
    "tags": []
   },
   "outputs": [
    {
     "data": {
      "text/plain": [
       "'!pip install mlflow\\n!pip install pytorch-lightning\\n!pip install transformers\\n!pip install tqdm\\n!pip install sagemaker\\n\\n!pip install s3fs\\n!pip install smdebug'"
      ]
     },
     "execution_count": 1,
     "metadata": {},
     "output_type": "execute_result"
    }
   ],
   "source": [
    "\"\"\"!pip install mlflow\n",
    "!pip install pytorch-lightning\n",
    "!pip install transformers\n",
    "!pip install tqdm\n",
    "!pip install sagemaker\n",
    "\n",
    "!pip install s3fs\n",
    "!pip install smdebug\"\"\""
   ]
  },
  {
   "cell_type": "code",
   "execution_count": 2,
   "metadata": {
    "tags": []
   },
   "outputs": [],
   "source": [
    "import sys\n",
    "sys.path.append('../../../')\n",
    "\n",
    "import os\n",
    "import sys\n",
    "import logging\n",
    "import argparse\n",
    "from pathlib import Path\n",
    "from typing import Any, Dict, Optional"
   ]
  },
  {
   "cell_type": "code",
   "execution_count": 3,
   "metadata": {
    "ExecuteTime": {
     "end_time": "2021-06-01T14:49:30.843642Z",
     "start_time": "2021-06-01T14:49:30.663973Z"
    },
    "tags": []
   },
   "outputs": [],
   "source": [
    "from tqdm.auto import tqdm\n",
    "\n",
    "import torchmetrics\n",
    "from torchmetrics.functional import accuracy, f1, auroc\n",
    "\n",
    "import sagemaker\n",
    "from sagemaker import get_execution_role\n",
    "import pytorch_lightning as pl\n",
    "from pytorch_lightning.loggers import TensorBoardLogger\n",
    "from pytorch_lightning.core.decorators import auto_move_data\n",
    "from pytorch_lightning.callbacks import ModelCheckpoint, EarlyStopping\n",
    "from pytorch_lightning.loggers import MLFlowLogger\n",
    "\n",
    "\n",
    "import matplotlib.pyplot as plt\n",
    "from pylab import rcParams\n",
    "from matplotlib import rc\n",
    "\n",
    "import pandas as pd"
   ]
  },
  {
   "cell_type": "code",
   "execution_count": null,
   "metadata": {},
   "outputs": [],
   "source": []
  },
  {
   "cell_type": "code",
   "execution_count": null,
   "metadata": {},
   "outputs": [],
   "source": []
  },
  {
   "cell_type": "code",
   "execution_count": null,
   "metadata": {},
   "outputs": [],
   "source": []
  },
  {
   "cell_type": "markdown",
   "metadata": {},
   "source": [
    "Local constants, regarding the data, MLFlow server, paths, etc..: use them"
   ]
  },
  {
   "cell_type": "code",
   "execution_count": 4,
   "metadata": {
    "tags": []
   },
   "outputs": [],
   "source": [
    "from deep.constants import *\n",
    "from deep.utils import *"
   ]
  },
  {
   "cell_type": "code",
   "execution_count": 5,
   "metadata": {
    "tags": []
   },
   "outputs": [],
   "source": [
    "%load_ext autoreload\n",
    "%autoreload 2"
   ]
  },
  {
   "cell_type": "markdown",
   "metadata": {},
   "source": [
    "# Data"
   ]
  },
  {
   "cell_type": "markdown",
   "metadata": {},
   "source": [
    "You can use the data you want. We advise the `pandas` format."
   ]
  },
  {
   "cell_type": "code",
   "execution_count": null,
   "metadata": {},
   "outputs": [],
   "source": []
  },
  {
   "cell_type": "code",
   "execution_count": 6,
   "metadata": {
    "ExecuteTime": {
     "end_time": "2021-06-01T14:57:29.882333Z",
     "start_time": "2021-06-01T14:57:28.547379Z"
    },
    "tags": []
   },
   "outputs": [
    {
     "name": "stderr",
     "output_type": "stream",
     "text": [
      "/home/selim/anaconda3/lib/python3.8/site-packages/IPython/core/interactiveshell.py:3146: DtypeWarning: Columns (7) have mixed types.Specify dtype option on import or set low_memory=False.\n",
      "  has_raised = await self.run_ast_nodes(code_ast.body, cell_name,\n"
     ]
    }
   ],
   "source": [
    "DATA_PATH = os.path.join(\n",
    "    '..', '..', '..', \"data\", \"frameworks_data\", 'data_v0.6.2','generated_entries'\n",
    ")\n",
    "\n",
    "\n",
    "original_df = pd.read_csv(os.path.join(DATA_PATH, 'full_dataset.csv'))\n",
    "augmented_data = pd.read_csv(os.path.join(DATA_PATH, 'generated_text.csv'))"
   ]
  },
  {
   "cell_type": "code",
   "execution_count": null,
   "metadata": {},
   "outputs": [],
   "source": []
  },
  {
   "cell_type": "code",
   "execution_count": 7,
   "metadata": {},
   "outputs": [],
   "source": [
    "test_data = pd.read_excel(os.path.join('..', '..', '..', '..', 'feedback_output.xlsx'))\n",
    "test_data = test_data[['Entry']].rename(columns={'Entry':'excerpt'})\n",
    "test_data = test_data[test_data.excerpt.apply(lambda x: 'NONE' != x.upper())]"
   ]
  },
  {
   "cell_type": "code",
   "execution_count": null,
   "metadata": {},
   "outputs": [],
   "source": []
  },
  {
   "cell_type": "code",
   "execution_count": 8,
   "metadata": {},
   "outputs": [],
   "source": [
    "augmented_data = pd.merge(\n",
    "    right=original_df.drop(columns=['excerpt']),\n",
    "    left=augmented_data[['entry_id', 'excerpt']],\n",
    "    on='entry_id',\n",
    "    how='right'\n",
    ")"
   ]
  },
  {
   "cell_type": "code",
   "execution_count": 9,
   "metadata": {},
   "outputs": [],
   "source": [
    "tot_df = pd.concat([original_df, augmented_data])"
   ]
  },
  {
   "cell_type": "code",
   "execution_count": 10,
   "metadata": {},
   "outputs": [
    {
     "data": {
      "text/plain": [
       "(489869, 21)"
      ]
     },
     "execution_count": 10,
     "metadata": {},
     "output_type": "execute_result"
    }
   ],
   "source": [
    "tot_df.shape"
   ]
  },
  {
   "cell_type": "code",
   "execution_count": null,
   "metadata": {},
   "outputs": [],
   "source": []
  },
  {
   "cell_type": "code",
   "execution_count": 11,
   "metadata": {},
   "outputs": [],
   "source": [
    "tot_df = tot_df[\n",
    "    ['entry_id', 'excerpt', 'lead_id',\n",
    "     'sectors',\n",
    "     #'severity',\n",
    "     'demographic_groups',\n",
    "     #'subpillars_1d', \n",
    "     #'specific_needs_groups',\n",
    "     #'subpillars_2d', \n",
    "     #'affected_groups',\n",
    "     \n",
    "    ]\n",
    "]"
   ]
  },
  {
   "cell_type": "code",
   "execution_count": null,
   "metadata": {},
   "outputs": [],
   "source": []
  },
  {
   "cell_type": "code",
   "execution_count": null,
   "metadata": {},
   "outputs": [],
   "source": []
  },
  {
   "cell_type": "code",
   "execution_count": null,
   "metadata": {},
   "outputs": [],
   "source": []
  },
  {
   "cell_type": "markdown",
   "metadata": {},
   "source": [
    "## Sagemaker Prep"
   ]
  },
  {
   "cell_type": "markdown",
   "metadata": {
    "ExecuteTime": {
     "end_time": "2021-05-27T15:42:32.024647Z",
     "start_time": "2021-05-27T15:42:31.984694Z"
    }
   },
   "source": [
    "### Session"
   ]
  },
  {
   "cell_type": "markdown",
   "metadata": {},
   "source": [
    "Configure SageMaker"
   ]
  },
  {
   "cell_type": "code",
   "execution_count": 12,
   "metadata": {
    "ExecuteTime": {
     "end_time": "2021-06-09T08:29:20.899415Z",
     "start_time": "2021-06-09T08:29:19.327852Z"
    },
    "tags": []
   },
   "outputs": [],
   "source": [
    "sess = sagemaker.Session(default_bucket=DEV_BUCKET.name)\n",
    "role = SAGEMAKER_ROLE\n",
    "role_arn = SAGEMAKER_ROLE_ARN\n",
    "tracking_uri = MLFLOW_SERVER"
   ]
  },
  {
   "cell_type": "code",
   "execution_count": null,
   "metadata": {},
   "outputs": [],
   "source": []
  },
  {
   "cell_type": "markdown",
   "metadata": {},
   "source": [
    "### Bucket upload"
   ]
  },
  {
   "cell_type": "markdown",
   "metadata": {},
   "source": [
    "You need to upload data to an S3 bucket. \n",
    "\n",
    "\n"
   ]
  },
  {
   "cell_type": "code",
   "execution_count": 13,
   "metadata": {},
   "outputs": [
    {
     "data": {
      "text/plain": [
       "'http://mlflow-deep-387470f3-1883319727.us-east-1.elb.amazonaws.com/'"
      ]
     },
     "execution_count": 13,
     "metadata": {},
     "output_type": "execute_result"
    }
   ],
   "source": [
    "MLFLOW_SERVER"
   ]
  },
  {
   "cell_type": "code",
   "execution_count": 14,
   "metadata": {
    "ExecuteTime": {
     "end_time": "2021-06-09T08:31:43.201910Z",
     "start_time": "2021-06-09T08:29:28.837139Z"
    },
    "scrolled": true,
    "tags": []
   },
   "outputs": [],
   "source": [
    "sample = True  # To make the computations faster, sample = True.\n",
    "\n",
    "if sample:\n",
    "    tot_df = tot_df.sample(n=50_000)\n",
    "    \n",
    "job_name = f\"pytorch-{formatted_time()}-all-models\"  # change it as you prefer\n",
    "input_path = DEV_BUCKET / 'training' / 'input_data' / job_name  # Do not change this\n",
    "\n",
    "train_path = str(input_path / 'train.pickle')\n",
    "val_path = str(input_path / 'val.pickle')\n",
    "\n",
    "\n",
    "tot_df.to_pickle(train_path, protocol=4)  # protocol 4 is necessary, since SageMaker uses python 3.6\n",
    "test_data.to_pickle(val_path, protocol=4)"
   ]
  },
  {
   "cell_type": "markdown",
   "metadata": {},
   "source": [
    "### Estimator Definition"
   ]
  },
  {
   "cell_type": "code",
   "execution_count": 15,
   "metadata": {
    "ExecuteTime": {
     "end_time": "2021-06-09T08:31:43.284096Z",
     "start_time": "2021-06-09T08:31:43.206457Z"
    },
    "tags": []
   },
   "outputs": [],
   "source": [
    "# GPU instances\n",
    "\n",
    "instances = [\n",
    "    'ml.p2.xlarge',\n",
    "    'ml.p3.2xlarge'\n",
    "]"
   ]
  },
  {
   "cell_type": "code",
   "execution_count": null,
   "metadata": {},
   "outputs": [],
   "source": []
  },
  {
   "cell_type": "markdown",
   "metadata": {},
   "source": [
    "The hyperparameters are passed as command line arguments to the training script. \n",
    "\n",
    "You can add/change them as you like. It's important to keep the `tracking_uri` and the `experiment_name` which are used by MLFlow.\n",
    "\n",
    "The class `PyTorch` is part of the `SageMaker` python API. The parameters are important and you should probably not change most of them. The ones you may want to change are:\n",
    "\n",
    "- `instance_type`, specify the instance you want\n",
    "- `source_dir`, specify your script directory. Try to use global variable as much as possible"
   ]
  },
  {
   "cell_type": "code",
   "execution_count": 16,
   "metadata": {
    "ExecuteTime": {
     "end_time": "2021-06-09T08:31:43.458886Z",
     "start_time": "2021-06-09T08:31:43.304626Z"
    },
    "tags": []
   },
   "outputs": [],
   "source": [
    "from sagemaker.pytorch import PyTorch\n",
    "\n",
    "proportions_negative_examples_test = {\n",
    "    'sectors':0.16,\n",
    "    'subpillars_2d':0.3,\n",
    "    'subpillars_1d': 0.69,\n",
    "    'demographic_groups': 0.74,\n",
    "    'specific_needs_groups': 0.86,\n",
    "    'affected_groups': 0.35\n",
    "}\n",
    "factor_prop_tot_train = 0.05\n",
    "proportions_negative_examples_train = {\n",
    "    key:value*factor_prop_tot_train for key, value in proportions_negative_examples_test.items()\n",
    "}\n",
    "instance_type='ml.p2.xlarge'\n",
    "\n",
    "hyperparameters={\n",
    "    'tracking_uri': MLFLOW_SERVER,\n",
    "    'experiment_name': \"pl-trials\",\n",
    "    'max_len': 256,\n",
    "    'epochs': 1,\n",
    "    'model_name': 'microsoft/xtremedistil-l6-h256-uncased',\n",
    "    'tokenizer_name': 'microsoft/xtremedistil-l6-h256-uncased',\n",
    "    'dropout_rate': 0.3,\n",
    "    'pred_threshold':0.4,\n",
    "    'output_length': 256,\n",
    "    'learning_rate': 5e-5,\n",
    "    #'training_names':'sectors,subpillars_2d,subpillars_1d,specific_needs_groups,affected_groups,demographic_groups',\n",
    "    'training_names':'sectors,demographic_groups',\n",
    "    #'training_names':'subpillars_1d,specific_needs_groups,demographic_groups',\n",
    "    #'training_names':'sectors,subpillars_2d,subpillars_1d,severity,specific_needs_groups,affected_groups,demographic_groups',\n",
    "    #'train_with_all_positive_examples':True,\n",
    "    \"model_mode\":\"train\",\n",
    "    \"proportions_negative_examples_test\": str(proportions_negative_examples_test),\n",
    "    \"proportions_negative_examples_train\": str(proportions_negative_examples_train),\n",
    "    \"instance_type\": instance_type,\n",
    "    \n",
    "    #\"numbers_augmentation\":\"with\"\n",
    "}\n",
    "\n",
    "estimator = PyTorch(\n",
    "    entry_point='train_mlflow.py',\n",
    "    source_dir=str('../../../scripts/training/selim/multiclass-lightning'),\n",
    "    output_path=str(DEV_BUCKET/'models/'),\n",
    "    code_location=str(input_path),\n",
    "    instance_type=instance_type,\n",
    "    instance_count=1,\n",
    "    role=role,\n",
    "    framework_version=\"1.8\",\n",
    "    py_version=\"py36\",\n",
    "    hyperparameters = hyperparameters,\n",
    "    job_name=job_name,\n",
    "    #distribution={\"smdistributed\": {\"dataparallel\": {\"enabled\": False}}}\n",
    "#     train_instance_count=2,\n",
    "#     train_instance_type=\"ml.c4.xlarge\",\n",
    ")"
   ]
  },
  {
   "cell_type": "code",
   "execution_count": 17,
   "metadata": {
    "ExecuteTime": {
     "end_time": "2021-06-09T08:31:43.482969Z",
     "start_time": "2021-06-09T08:31:43.459884Z"
    },
    "tags": []
   },
   "outputs": [],
   "source": [
    "fit_arguments = {\n",
    "    'train': str(input_path),\n",
    "    'test': str(input_path)\n",
    "}"
   ]
  },
  {
   "cell_type": "code",
   "execution_count": 18,
   "metadata": {
    "ExecuteTime": {
     "end_time": "2021-06-09T08:31:45.995868Z",
     "start_time": "2021-06-09T08:31:43.484212Z"
    },
    "scrolled": false,
    "tags": []
   },
   "outputs": [
    {
     "name": "stdout",
     "output_type": "stream",
     "text": [
      "2021-10-21 17:09:37 Starting - Starting the training job...\n",
      "2021-10-21 17:09:50 Starting - Launching requested ML instancesProfilerReport-1634836175: InProgress\n",
      "......\n",
      "2021-10-21 17:11:13 Starting - Preparing the instances for training.........\n",
      "2021-10-21 17:12:49 Downloading - Downloading input data...\n",
      "2021-10-21 17:13:13 Training - Downloading the training image...........................\n",
      "2021-10-21 17:18:05 Training - Training image download completed. Training in progress.\u001b[34mbash: cannot set terminal process group (-1): Inappropriate ioctl for device\u001b[0m\n",
      "\u001b[34mbash: no job control in this shell\u001b[0m\n",
      "\u001b[34m2021-10-21 17:18:02,727 sagemaker-training-toolkit INFO     Imported framework sagemaker_pytorch_container.training\u001b[0m\n",
      "\u001b[34m2021-10-21 17:18:02,749 sagemaker_pytorch_container.training INFO     Block until all host DNS lookups succeed.\u001b[0m\n",
      "\u001b[34m2021-10-21 17:18:05,788 sagemaker_pytorch_container.training INFO     Invoking user training script.\u001b[0m\n",
      "\u001b[34m2021-10-21 17:18:06,508 sagemaker-training-toolkit INFO     Installing dependencies from requirements.txt:\u001b[0m\n",
      "\u001b[34m/opt/conda/bin/python3.6 -m pip install -r requirements.txt\u001b[0m\n",
      "\u001b[34mCollecting transformers==4.8.2\n",
      "  Downloading transformers-4.8.2-py3-none-any.whl (2.5 MB)\u001b[0m\n",
      "\u001b[34mCollecting tensorflow==2.4.0\n",
      "  Downloading tensorflow-2.4.0-cp36-cp36m-manylinux2010_x86_64.whl (394.7 MB)\u001b[0m\n",
      "\u001b[34mCollecting pytorch-lightning==1.3.8\n",
      "  Downloading pytorch_lightning-1.3.8-py3-none-any.whl (813 kB)\u001b[0m\n",
      "\u001b[34mCollecting torchmetrics==0.4.1\n",
      "  Downloading torchmetrics-0.4.1-py3-none-any.whl (234 kB)\u001b[0m\n",
      "\u001b[34mCollecting tqdm==4.41.1\n",
      "  Downloading tqdm-4.41.1-py2.py3-none-any.whl (56 kB)\u001b[0m\n",
      "\u001b[34mCollecting nlpaug==1.1.6\n",
      "  Downloading nlpaug-1.1.6-py3-none-any.whl (405 kB)\u001b[0m\n",
      "\u001b[34mCollecting nltk==3.2.5\n",
      "  Downloading nltk-3.2.5.tar.gz (1.2 MB)\n",
      "  Preparing metadata (setup.py): started\u001b[0m\n",
      "\u001b[34m  Preparing metadata (setup.py): finished with status 'done'\u001b[0m\n",
      "\u001b[34mCollecting mlflow==1.18.0\n",
      "  Downloading mlflow-1.18.0-py3-none-any.whl (14.2 MB)\u001b[0m\n",
      "\u001b[34mCollecting scikit-learn==0.22.2.post1\n",
      "  Downloading scikit_learn-0.22.2.post1-cp36-cp36m-manylinux1_x86_64.whl (7.1 MB)\u001b[0m\n",
      "\u001b[34mCollecting sagemaker==2.49.1\n",
      "  Downloading sagemaker-2.49.1.tar.gz (421 kB)\n",
      "  Preparing metadata (setup.py): started\n",
      "  Preparing metadata (setup.py): finished with status 'done'\u001b[0m\n",
      "\u001b[34mCollecting s3fs==2021.07.0\n",
      "  Downloading s3fs-2021.7.0-py3-none-any.whl (25 kB)\u001b[0m\n",
      "\u001b[34mCollecting smdebug==1.0.11\n",
      "  Downloading smdebug-1.0.11-py2.py3-none-any.whl (269 kB)\u001b[0m\n",
      "\u001b[34mCollecting scikit-multilearn==0.2.0\n",
      "  Downloading scikit_multilearn-0.2.0-py3-none-any.whl (89 kB)\u001b[0m\n",
      "\u001b[34mCollecting huggingface-hub==0.0.12\n",
      "  Downloading huggingface_hub-0.0.12-py3-none-any.whl (37 kB)\u001b[0m\n",
      "\u001b[34mRequirement already satisfied: filelock in /opt/conda/lib/python3.6/site-packages (from transformers==4.8.2->-r requirements.txt (line 1)) (3.3.1)\u001b[0m\n",
      "\u001b[34mRequirement already satisfied: pyyaml in /opt/conda/lib/python3.6/site-packages (from transformers==4.8.2->-r requirements.txt (line 1)) (5.4.1)\u001b[0m\n",
      "\u001b[34mRequirement already satisfied: packaging in /opt/conda/lib/python3.6/site-packages (from transformers==4.8.2->-r requirements.txt (line 1)) (21.0)\u001b[0m\n",
      "\u001b[34mCollecting tokenizers<0.11,>=0.10.1\n",
      "  Downloading tokenizers-0.10.3-cp36-cp36m-manylinux_2_5_x86_64.manylinux1_x86_64.manylinux_2_12_x86_64.manylinux2010_x86_64.whl (3.3 MB)\u001b[0m\n",
      "\u001b[34mRequirement already satisfied: dataclasses in /opt/conda/lib/python3.6/site-packages (from transformers==4.8.2->-r requirements.txt (line 1)) (0.8)\u001b[0m\n",
      "\u001b[34mRequirement already satisfied: importlib-metadata in /opt/conda/lib/python3.6/site-packages (from transformers==4.8.2->-r requirements.txt (line 1)) (4.8.1)\u001b[0m\n",
      "\u001b[34mCollecting regex!=2019.12.17\n",
      "  Downloading regex-2021.10.21-cp36-cp36m-manylinux_2_17_x86_64.manylinux2014_x86_64.whl (749 kB)\u001b[0m\n",
      "\u001b[34mCollecting sacremoses\n",
      "  Downloading sacremoses-0.0.46-py3-none-any.whl (895 kB)\u001b[0m\n",
      "\u001b[34mRequirement already satisfied: requests in /opt/conda/lib/python3.6/site-packages (from transformers==4.8.2->-r requirements.txt (line 1)) (2.26.0)\u001b[0m\n",
      "\u001b[34mRequirement already satisfied: numpy>=1.17 in /opt/conda/lib/python3.6/site-packages (from transformers==4.8.2->-r requirements.txt (line 1)) (1.19.1)\u001b[0m\n",
      "\u001b[34mCollecting grpcio~=1.32.0\n",
      "  Downloading grpcio-1.32.0-cp36-cp36m-manylinux2014_x86_64.whl (3.8 MB)\u001b[0m\n",
      "\u001b[34mCollecting astunparse~=1.6.3\n",
      "  Downloading astunparse-1.6.3-py2.py3-none-any.whl (12 kB)\u001b[0m\n",
      "\u001b[34mCollecting typing-extensions~=3.7.4\n",
      "  Downloading typing_extensions-3.7.4.3-py3-none-any.whl (22 kB)\u001b[0m\n",
      "\u001b[34mCollecting h5py~=2.10.0\n",
      "  Downloading h5py-2.10.0-cp36-cp36m-manylinux1_x86_64.whl (2.9 MB)\u001b[0m\n",
      "\u001b[34mCollecting six~=1.15.0\n",
      "  Downloading six-1.15.0-py2.py3-none-any.whl (10 kB)\u001b[0m\n",
      "\u001b[34mRequirement already satisfied: wheel~=0.35 in /opt/conda/lib/python3.6/site-packages (from tensorflow==2.4.0->-r requirements.txt (line 2)) (0.36.2)\u001b[0m\n",
      "\u001b[34mCollecting termcolor~=1.1.0\n",
      "  Downloading termcolor-1.1.0.tar.gz (3.9 kB)\n",
      "  Preparing metadata (setup.py): started\u001b[0m\n",
      "\u001b[34m  Preparing metadata (setup.py): finished with status 'done'\u001b[0m\n",
      "\u001b[34mRequirement already satisfied: google-pasta~=0.2 in /opt/conda/lib/python3.6/site-packages (from tensorflow==2.4.0->-r requirements.txt (line 2)) (0.2.0)\u001b[0m\n",
      "\u001b[34mCollecting absl-py~=0.10\n",
      "  Downloading absl_py-0.15.0-py3-none-any.whl (132 kB)\u001b[0m\n",
      "\u001b[34mCollecting opt-einsum~=3.3.0\n",
      "  Downloading opt_einsum-3.3.0-py3-none-any.whl (65 kB)\u001b[0m\n",
      "\u001b[34mCollecting wrapt~=1.12.1\n",
      "  Downloading wrapt-1.12.1.tar.gz (27 kB)\n",
      "  Preparing metadata (setup.py): started\n",
      "  Preparing metadata (setup.py): finished with status 'done'\u001b[0m\n",
      "\u001b[34mCollecting gast==0.3.3\n",
      "  Downloading gast-0.3.3-py2.py3-none-any.whl (9.7 kB)\u001b[0m\n",
      "\u001b[34mCollecting numpy>=1.17\n",
      "  Downloading numpy-1.19.5-cp36-cp36m-manylinux2010_x86_64.whl (14.8 MB)\u001b[0m\n",
      "\u001b[34mRequirement already satisfied: protobuf>=3.9.2 in /opt/conda/lib/python3.6/site-packages (from tensorflow==2.4.0->-r requirements.txt (line 2)) (3.18.1)\u001b[0m\n",
      "\u001b[34mCollecting keras-preprocessing~=1.1.2\n",
      "  Downloading Keras_Preprocessing-1.1.2-py2.py3-none-any.whl (42 kB)\u001b[0m\n",
      "\u001b[34mCollecting flatbuffers~=1.12.0\n",
      "  Downloading flatbuffers-1.12-py2.py3-none-any.whl (15 kB)\u001b[0m\n",
      "\u001b[34mCollecting tensorflow-estimator<2.5.0,>=2.4.0rc0\n",
      "  Downloading tensorflow_estimator-2.4.0-py2.py3-none-any.whl (462 kB)\u001b[0m\n",
      "\u001b[34mCollecting tensorboard~=2.4\n",
      "  Downloading tensorboard-2.7.0-py3-none-any.whl (5.8 MB)\u001b[0m\n",
      "\u001b[34mRequirement already satisfied: fsspec[http]!=2021.06.0,>=2021.05.0 in /opt/conda/lib/python3.6/site-packages (from pytorch-lightning==1.3.8->-r requirements.txt (line 3)) (2021.10.1)\u001b[0m\n",
      "\u001b[34mRequirement already satisfied: pillow!=8.3.0 in /opt/conda/lib/python3.6/site-packages (from pytorch-lightning==1.3.8->-r requirements.txt (line 3)) (8.3.2)\u001b[0m\n",
      "\u001b[34mRequirement already satisfied: torch>=1.4 in /opt/conda/lib/python3.6/site-packages (from pytorch-lightning==1.3.8->-r requirements.txt (line 3)) (1.8.1)\u001b[0m\n",
      "\u001b[34mCollecting pyDeprecate==0.3.0\n",
      "  Downloading pyDeprecate-0.3.0-py3-none-any.whl (10 kB)\u001b[0m\n",
      "\u001b[34mRequirement already satisfied: future>=0.17.1 in /opt/conda/lib/python3.6/site-packages (from pytorch-lightning==1.3.8->-r requirements.txt (line 3)) (0.18.2)\u001b[0m\n",
      "\u001b[34mRequirement already satisfied: click>=7.0 in /opt/conda/lib/python3.6/site-packages (from mlflow==1.18.0->-r requirements.txt (line 8)) (8.0.3)\u001b[0m\n",
      "\u001b[34mCollecting querystring-parser\n",
      "  Downloading querystring_parser-1.2.4-py2.py3-none-any.whl (7.9 kB)\u001b[0m\n",
      "\u001b[34mCollecting gitpython>=2.1.0\n",
      "  Downloading GitPython-3.1.18-py3-none-any.whl (170 kB)\u001b[0m\n",
      "\u001b[34mRequirement already satisfied: entrypoints in /opt/conda/lib/python3.6/site-packages (from mlflow==1.18.0->-r requirements.txt (line 8)) (0.3)\u001b[0m\n",
      "\u001b[34mRequirement already satisfied: Flask in /opt/conda/lib/python3.6/site-packages (from mlflow==1.18.0->-r requirements.txt (line 8)) (2.0.2)\u001b[0m\n",
      "\u001b[34mRequirement already satisfied: pandas in /opt/conda/lib/python3.6/site-packages (from mlflow==1.18.0->-r requirements.txt (line 8)) (1.1.5)\u001b[0m\n",
      "\u001b[34mCollecting alembic<=1.4.1\n",
      "  Downloading alembic-1.4.1.tar.gz (1.1 MB)\n",
      "  Preparing metadata (setup.py): started\u001b[0m\n",
      "\u001b[34m  Preparing metadata (setup.py): finished with status 'done'\u001b[0m\n",
      "\u001b[34mCollecting docker>=4.0.0\n",
      "  Downloading docker-5.0.3-py2.py3-none-any.whl (146 kB)\u001b[0m\n",
      "\u001b[34mRequirement already satisfied: cloudpickle in /opt/conda/lib/python3.6/site-packages (from mlflow==1.18.0->-r requirements.txt (line 8)) (2.0.0)\u001b[0m\n",
      "\u001b[34mCollecting databricks-cli>=0.8.7\n",
      "  Downloading databricks-cli-0.16.2.tar.gz (58 kB)\n",
      "  Preparing metadata (setup.py): started\n",
      "  Preparing metadata (setup.py): finished with status 'done'\u001b[0m\n",
      "\u001b[34mRequirement already satisfied: pytz in /opt/conda/lib/python3.6/site-packages (from mlflow==1.18.0->-r requirements.txt (line 8)) (2021.3)\u001b[0m\n",
      "\u001b[34mCollecting prometheus-flask-exporter\n",
      "  Downloading prometheus_flask_exporter-0.18.3-py3-none-any.whl (17 kB)\u001b[0m\n",
      "\u001b[34mCollecting sqlparse>=0.3.1\n",
      "  Downloading sqlparse-0.4.2-py3-none-any.whl (42 kB)\u001b[0m\n",
      "\u001b[34mCollecting sqlalchemy\n",
      "  Downloading SQLAlchemy-1.4.26-cp36-cp36m-manylinux_2_5_x86_64.manylinux1_x86_64.manylinux_2_17_x86_64.manylinux2014_x86_64.whl (1.6 MB)\u001b[0m\n",
      "\u001b[34mCollecting gunicorn\n",
      "  Downloading gunicorn-20.1.0-py3-none-any.whl (79 kB)\u001b[0m\n",
      "\u001b[34mRequirement already satisfied: joblib>=0.11 in /opt/conda/lib/python3.6/site-packages (from scikit-learn==0.22.2.post1->-r requirements.txt (line 9)) (1.0.1)\u001b[0m\n",
      "\u001b[34mRequirement already satisfied: scipy>=0.17.0 in /opt/conda/lib/python3.6/site-packages (from scikit-learn==0.22.2.post1->-r requirements.txt (line 9)) (1.5.4)\u001b[0m\n",
      "\u001b[34mRequirement already satisfied: attrs in /opt/conda/lib/python3.6/site-packages (from sagemaker==2.49.1->-r requirements.txt (line 10)) (21.2.0)\u001b[0m\n",
      "\u001b[34mRequirement already satisfied: boto3>=1.16.32 in /opt/conda/lib/python3.6/site-packages (from sagemaker==2.49.1->-r requirements.txt (line 10)) (1.18.63)\u001b[0m\n",
      "\u001b[34mRequirement already satisfied: protobuf3-to-dict>=0.1.5 in /opt/conda/lib/python3.6/site-packages (from sagemaker==2.49.1->-r requirements.txt (line 10)) (0.1.5)\u001b[0m\n",
      "\u001b[34mRequirement already satisfied: smdebug_rulesconfig==1.0.1 in /opt/conda/lib/python3.6/site-packages (from sagemaker==2.49.1->-r requirements.txt (line 10)) (1.0.1)\u001b[0m\n",
      "\u001b[34mRequirement already satisfied: pathos in /opt/conda/lib/python3.6/site-packages (from sagemaker==2.49.1->-r requirements.txt (line 10)) (0.2.8)\u001b[0m\n",
      "\u001b[34mCollecting fsspec==2021.07.0\n",
      "  Downloading fsspec-2021.7.0-py3-none-any.whl (118 kB)\u001b[0m\n",
      "\u001b[34mCollecting aiobotocore>=1.0.1\n",
      "  Downloading aiobotocore-1.4.2.tar.gz (52 kB)\n",
      "  Preparing metadata (setup.py): started\u001b[0m\n",
      "\u001b[34m  Preparing metadata (setup.py): finished with status 'done'\u001b[0m\n",
      "\u001b[34mRequirement already satisfied: pyinstrument>=3.1.3 in /opt/conda/lib/python3.6/site-packages (from smdebug==1.0.11->-r requirements.txt (line 12)) (3.4.2)\u001b[0m\n",
      "\u001b[34mCollecting botocore<1.20.107,>=1.20.106\n",
      "  Downloading botocore-1.20.106-py2.py3-none-any.whl (7.7 MB)\u001b[0m\n"
     ]
    },
    {
     "name": "stdout",
     "output_type": "stream",
     "text": [
      "\u001b[34mCollecting aiohttp>=3.3.1\n",
      "  Downloading aiohttp-3.7.4.post0-cp36-cp36m-manylinux2014_x86_64.whl (1.3 MB)\u001b[0m\n",
      "\u001b[34mCollecting aioitertools>=0.5.1\n",
      "  Downloading aioitertools-0.8.0-py3-none-any.whl (21 kB)\u001b[0m\n",
      "\u001b[34mCollecting Mako\n",
      "  Downloading Mako-1.1.5-py2.py3-none-any.whl (75 kB)\u001b[0m\n",
      "\u001b[34mCollecting python-editor>=0.3\n",
      "  Downloading python_editor-1.0.4-py3-none-any.whl (4.9 kB)\u001b[0m\n",
      "\u001b[34mRequirement already satisfied: python-dateutil in /opt/conda/lib/python3.6/site-packages (from alembic<=1.4.1->mlflow==1.18.0->-r requirements.txt (line 8)) (2.8.2)\u001b[0m\n",
      "\u001b[34mRequirement already satisfied: s3transfer<0.6.0,>=0.5.0 in /opt/conda/lib/python3.6/site-packages (from boto3>=1.16.32->sagemaker==2.49.1->-r requirements.txt (line 10)) (0.5.0)\u001b[0m\n",
      "\u001b[34mRequirement already satisfied: jmespath<1.0.0,>=0.7.1 in /opt/conda/lib/python3.6/site-packages (from boto3>=1.16.32->sagemaker==2.49.1->-r requirements.txt (line 10)) (0.10.0)\u001b[0m\n",
      "\u001b[34mCollecting boto3>=1.16.32\n",
      "  Downloading boto3-1.19.0-py3-none-any.whl (131 kB)\n",
      "  Downloading boto3-1.18.65-py3-none-any.whl (131 kB)\n",
      "  Downloading boto3-1.18.64-py3-none-any.whl (131 kB)\n",
      "  Downloading boto3-1.18.62-py3-none-any.whl (131 kB)\u001b[0m\n",
      "\u001b[34m  Downloading boto3-1.18.61-py3-none-any.whl (131 kB)\n",
      "  Downloading boto3-1.18.60-py3-none-any.whl (131 kB)\n",
      "  Downloading boto3-1.18.59-py3-none-any.whl (131 kB)\n",
      "  Downloading boto3-1.18.58-py3-none-any.whl (131 kB)\n",
      "  Downloading boto3-1.18.57-py3-none-any.whl (131 kB)\n",
      "  Downloading boto3-1.18.56-py3-none-any.whl (131 kB)\u001b[0m\n",
      "\u001b[34m  Downloading boto3-1.18.55-py3-none-any.whl (131 kB)\n",
      "  Downloading boto3-1.18.54-py3-none-any.whl (131 kB)\n",
      "  Downloading boto3-1.18.53-py3-none-any.whl (131 kB)\n",
      "  Downloading boto3-1.18.52-py3-none-any.whl (131 kB)\n",
      "  Downloading boto3-1.18.51-py3-none-any.whl (131 kB)\u001b[0m\n",
      "\u001b[34m  Downloading boto3-1.18.50-py3-none-any.whl (131 kB)\n",
      "  Downloading boto3-1.18.49-py3-none-any.whl (131 kB)\n",
      "  Downloading boto3-1.18.48-py3-none-any.whl (131 kB)\n",
      "  Downloading boto3-1.18.47-py3-none-any.whl (131 kB)\n",
      "  Downloading boto3-1.18.46-py3-none-any.whl (131 kB)\n",
      "  Downloading boto3-1.18.45-py3-none-any.whl (131 kB)\u001b[0m\n",
      "\u001b[34m  Downloading boto3-1.18.44-py3-none-any.whl (131 kB)\n",
      "  Downloading boto3-1.18.43-py3-none-any.whl (131 kB)\n",
      "  Downloading boto3-1.18.42-py3-none-any.whl (131 kB)\n",
      "  Downloading boto3-1.18.41-py3-none-any.whl (131 kB)\u001b[0m\n",
      "\u001b[34m  Downloading boto3-1.18.40-py3-none-any.whl (131 kB)\n",
      "  Downloading boto3-1.18.39-py3-none-any.whl (131 kB)\n",
      "  Downloading boto3-1.18.38-py3-none-any.whl (131 kB)\n",
      "  Downloading boto3-1.18.37-py3-none-any.whl (131 kB)\n",
      "  Downloading boto3-1.18.36-py3-none-any.whl (131 kB)\u001b[0m\n",
      "\u001b[34m  Downloading boto3-1.18.35-py3-none-any.whl (131 kB)\n",
      "  Downloading boto3-1.18.34-py3-none-any.whl (131 kB)\n",
      "  Downloading boto3-1.18.33-py3-none-any.whl (131 kB)\n",
      "  Downloading boto3-1.18.32-py3-none-any.whl (131 kB)\n",
      "  Downloading boto3-1.18.31-py3-none-any.whl (131 kB)\u001b[0m\n",
      "\u001b[34m  Downloading boto3-1.18.30-py3-none-any.whl (131 kB)\n",
      "  Downloading boto3-1.18.29-py3-none-any.whl (131 kB)\n",
      "  Downloading boto3-1.18.28-py3-none-any.whl (131 kB)\n",
      "  Downloading boto3-1.18.27-py3-none-any.whl (131 kB)\n",
      "  Downloading boto3-1.18.26-py3-none-any.whl (131 kB)\u001b[0m\n",
      "\u001b[34m  Downloading boto3-1.18.25-py3-none-any.whl (131 kB)\n",
      "  Downloading boto3-1.18.24-py3-none-any.whl (131 kB)\n",
      "  Downloading boto3-1.18.23-py3-none-any.whl (131 kB)\n",
      "  Downloading boto3-1.18.22-py3-none-any.whl (131 kB)\n",
      "  Downloading boto3-1.18.21-py3-none-any.whl (131 kB)\n",
      "  Downloading boto3-1.18.20-py3-none-any.whl (131 kB)\u001b[0m\n",
      "\u001b[34m  Downloading boto3-1.18.19-py3-none-any.whl (131 kB)\n",
      "  Downloading boto3-1.18.18-py3-none-any.whl (131 kB)\n",
      "  Downloading boto3-1.18.17-py3-none-any.whl (131 kB)\n",
      "  Downloading boto3-1.18.16-py3-none-any.whl (131 kB)\n",
      "  Downloading boto3-1.18.15-py3-none-any.whl (131 kB)\n",
      "  Downloading boto3-1.18.14-py3-none-any.whl (131 kB)\u001b[0m\n",
      "\u001b[34m  Downloading boto3-1.18.13-py3-none-any.whl (131 kB)\n",
      "  Downloading boto3-1.18.12-py3-none-any.whl (131 kB)\n",
      "  Downloading boto3-1.18.11-py3-none-any.whl (131 kB)\n",
      "  Downloading boto3-1.18.10-py3-none-any.whl (131 kB)\n",
      "  Downloading boto3-1.18.9-py3-none-any.whl (131 kB)\n",
      "  Downloading boto3-1.18.8-py3-none-any.whl (131 kB)\u001b[0m\n",
      "\u001b[34m  Downloading boto3-1.18.7-py3-none-any.whl (131 kB)\n",
      "  Downloading boto3-1.18.6-py3-none-any.whl (131 kB)\n",
      "  Downloading boto3-1.18.5-py3-none-any.whl (131 kB)\n",
      "  Downloading boto3-1.18.4-py3-none-any.whl (131 kB)\n",
      "  Downloading boto3-1.18.3-py3-none-any.whl (131 kB)\u001b[0m\n",
      "\u001b[34m  Downloading boto3-1.18.2-py3-none-any.whl (131 kB)\n",
      "  Downloading boto3-1.18.1-py3-none-any.whl (131 kB)\n",
      "  Downloading boto3-1.18.0-py3-none-any.whl (131 kB)\n",
      "  Downloading boto3-1.17.112-py2.py3-none-any.whl (131 kB)\u001b[0m\n",
      "\u001b[34mCollecting s3transfer<0.5.0,>=0.4.0\n",
      "  Downloading s3transfer-0.4.2-py2.py3-none-any.whl (79 kB)\u001b[0m\n",
      "\u001b[34mCollecting boto3>=1.16.32\n",
      "  Downloading boto3-1.17.111-py2.py3-none-any.whl (131 kB)\n",
      "  Downloading boto3-1.17.110-py2.py3-none-any.whl (131 kB)\u001b[0m\n",
      "\u001b[34m  Downloading boto3-1.17.109-py2.py3-none-any.whl (131 kB)\n",
      "  Downloading boto3-1.17.108-py2.py3-none-any.whl (131 kB)\n",
      "  Downloading boto3-1.17.107-py2.py3-none-any.whl (131 kB)\n",
      "  Downloading boto3-1.17.106-py2.py3-none-any.whl (131 kB)\u001b[0m\n",
      "\u001b[34mRequirement already satisfied: tabulate>=0.7.7 in /opt/conda/lib/python3.6/site-packages (from databricks-cli>=0.8.7->mlflow==1.18.0->-r requirements.txt (line 8)) (0.8.9)\u001b[0m\n",
      "\u001b[34mRequirement already satisfied: websocket-client>=0.32.0 in /opt/conda/lib/python3.6/site-packages (from docker>=4.0.0->mlflow==1.18.0->-r requirements.txt (line 8)) (1.2.1)\u001b[0m\n",
      "\u001b[34mCollecting fsspec[http]!=2021.06.0,>=2021.05.0\n",
      "  Downloading fsspec-2021.10.0-py3-none-any.whl (125 kB)\u001b[0m\n",
      "\u001b[34m  Downloading fsspec-2021.9.0-py3-none-any.whl (123 kB)\n",
      "  Downloading fsspec-2021.8.1-py3-none-any.whl (119 kB)\u001b[0m\n",
      "\u001b[34mCollecting gitdb<5,>=4.0.1\n",
      "  Downloading gitdb-4.0.7-py3-none-any.whl (63 kB)\u001b[0m\n",
      "\u001b[34mRequirement already satisfied: zipp>=0.5 in /opt/conda/lib/python3.6/site-packages (from importlib-metadata->transformers==4.8.2->-r requirements.txt (line 1)) (3.6.0)\u001b[0m\n",
      "\u001b[34mRequirement already satisfied: pyparsing>=2.0.2 in /opt/conda/lib/python3.6/site-packages (from packaging->transformers==4.8.2->-r requirements.txt (line 1)) (2.4.7)\u001b[0m\n",
      "\u001b[34mRequirement already satisfied: pyinstrument-cext>=0.2.2 in /opt/conda/lib/python3.6/site-packages (from pyinstrument>=3.1.3->smdebug==1.0.11->-r requirements.txt (line 12)) (0.2.4)\u001b[0m\n",
      "\u001b[34mRequirement already satisfied: certifi>=2017.4.17 in /opt/conda/lib/python3.6/site-packages (from requests->transformers==4.8.2->-r requirements.txt (line 1)) (2021.5.30)\u001b[0m\n",
      "\u001b[34mRequirement already satisfied: idna<4,>=2.5 in /opt/conda/lib/python3.6/site-packages (from requests->transformers==4.8.2->-r requirements.txt (line 1)) (2.10)\u001b[0m\n",
      "\u001b[34mRequirement already satisfied: urllib3<1.27,>=1.21.1 in /opt/conda/lib/python3.6/site-packages (from requests->transformers==4.8.2->-r requirements.txt (line 1)) (1.26.6)\u001b[0m\n",
      "\u001b[34mRequirement already satisfied: charset-normalizer~=2.0.0 in /opt/conda/lib/python3.6/site-packages (from requests->transformers==4.8.2->-r requirements.txt (line 1)) (2.0.4)\u001b[0m\n",
      "\u001b[34mRequirement already satisfied: greenlet!=0.4.17 in /opt/conda/lib/python3.6/site-packages (from sqlalchemy->mlflow==1.18.0->-r requirements.txt (line 8)) (1.1.2)\u001b[0m\n",
      "\u001b[34mCollecting tensorboard-plugin-wit>=1.6.0\n",
      "  Downloading tensorboard_plugin_wit-1.8.0-py3-none-any.whl (781 kB)\u001b[0m\n",
      "\u001b[34mCollecting markdown>=2.6.8\n",
      "  Downloading Markdown-3.3.4-py3-none-any.whl (97 kB)\u001b[0m\n",
      "\u001b[34mCollecting google-auth<3,>=1.6.3\n",
      "  Downloading google_auth-2.3.0-py2.py3-none-any.whl (154 kB)\u001b[0m\n",
      "\u001b[34mRequirement already satisfied: werkzeug>=0.11.15 in /opt/conda/lib/python3.6/site-packages (from tensorboard~=2.4->tensorflow==2.4.0->-r requirements.txt (line 2)) (2.0.2)\u001b[0m\n",
      "\u001b[34mRequirement already satisfied: setuptools>=41.0.0 in /opt/conda/lib/python3.6/site-packages (from tensorboard~=2.4->tensorflow==2.4.0->-r requirements.txt (line 2)) (49.6.0.post20210108)\u001b[0m\n",
      "\u001b[34mCollecting tensorboard-data-server<0.7.0,>=0.6.0\n",
      "  Downloading tensorboard_data_server-0.6.1-py3-none-manylinux2010_x86_64.whl (4.9 MB)\u001b[0m\n",
      "\u001b[34mCollecting google-auth-oauthlib<0.5,>=0.4.1\n",
      "  Downloading google_auth_oauthlib-0.4.6-py2.py3-none-any.whl (18 kB)\u001b[0m\n",
      "\u001b[34mRequirement already satisfied: Jinja2>=3.0 in /opt/conda/lib/python3.6/site-packages (from Flask->mlflow==1.18.0->-r requirements.txt (line 8)) (3.0.2)\u001b[0m\n",
      "\u001b[34mRequirement already satisfied: itsdangerous>=2.0 in /opt/conda/lib/python3.6/site-packages (from Flask->mlflow==1.18.0->-r requirements.txt (line 8)) (2.0.1)\u001b[0m\n",
      "\u001b[34mRequirement already satisfied: ppft>=1.6.6.4 in /opt/conda/lib/python3.6/site-packages (from pathos->sagemaker==2.49.1->-r requirements.txt (line 10)) (1.6.6.4)\u001b[0m\n",
      "\u001b[34mRequirement already satisfied: multiprocess>=0.70.12 in /opt/conda/lib/python3.6/site-packages (from pathos->sagemaker==2.49.1->-r requirements.txt (line 10)) (0.70.12.2)\u001b[0m\n",
      "\u001b[34mRequirement already satisfied: dill>=0.3.4 in /opt/conda/lib/python3.6/site-packages (from pathos->sagemaker==2.49.1->-r requirements.txt (line 10)) (0.3.4)\u001b[0m\n",
      "\u001b[34mRequirement already satisfied: pox>=0.3.0 in /opt/conda/lib/python3.6/site-packages (from pathos->sagemaker==2.49.1->-r requirements.txt (line 10)) (0.3.0)\u001b[0m\n",
      "\u001b[34mRequirement already satisfied: prometheus-client in /opt/conda/lib/python3.6/site-packages (from prometheus-flask-exporter->mlflow==1.18.0->-r requirements.txt (line 8)) (0.11.0)\u001b[0m\n",
      "\u001b[34mRequirement already satisfied: chardet<5.0,>=2.0 in /opt/conda/lib/python3.6/site-packages (from aiohttp>=3.3.1->aiobotocore>=1.0.1->s3fs==2021.07.0->-r requirements.txt (line 11)) (4.0.0)\u001b[0m\n",
      "\u001b[34mCollecting async-timeout<4.0,>=3.0\n",
      "  Downloading async_timeout-3.0.1-py3-none-any.whl (8.2 kB)\u001b[0m\n",
      "\u001b[34mCollecting yarl<2.0,>=1.0\n",
      "  Downloading yarl-1.7.0-cp36-cp36m-manylinux_2_5_x86_64.manylinux1_x86_64.manylinux_2_12_x86_64.manylinux2010_x86_64.whl (270 kB)\u001b[0m\n",
      "\u001b[34mCollecting idna-ssl>=1.0\n",
      "  Downloading idna-ssl-1.1.0.tar.gz (3.4 kB)\u001b[0m\n",
      "\u001b[34m  Preparing metadata (setup.py): started\n",
      "  Preparing metadata (setup.py): finished with status 'done'\u001b[0m\n",
      "\u001b[34mCollecting multidict<7.0,>=4.5\n",
      "  Downloading multidict-5.2.0-cp36-cp36m-manylinux_2_5_x86_64.manylinux1_x86_64.manylinux_2_12_x86_64.manylinux2010_x86_64.whl (159 kB)\u001b[0m\n",
      "\u001b[34mCollecting smmap<5,>=3.0.1\n",
      "  Downloading smmap-4.0.0-py2.py3-none-any.whl (24 kB)\u001b[0m\n",
      "\u001b[34mCollecting pyasn1-modules>=0.2.1\n",
      "  Downloading pyasn1_modules-0.2.8-py2.py3-none-any.whl (155 kB)\u001b[0m\n",
      "\u001b[34mRequirement already satisfied: rsa<5,>=3.1.4 in /opt/conda/lib/python3.6/site-packages (from google-auth<3,>=1.6.3->tensorboard~=2.4->tensorflow==2.4.0->-r requirements.txt (line 2)) (4.7.2)\u001b[0m\n",
      "\u001b[34mCollecting cachetools<5.0,>=2.0.0\n",
      "  Downloading cachetools-4.2.4-py3-none-any.whl (10 kB)\u001b[0m\n",
      "\u001b[34mCollecting requests-oauthlib>=0.7.0\n",
      "  Downloading requests_oauthlib-1.3.0-py2.py3-none-any.whl (23 kB)\u001b[0m\n",
      "\u001b[34mRequirement already satisfied: MarkupSafe>=2.0 in /opt/conda/lib/python3.6/site-packages (from Jinja2>=3.0->Flask->mlflow==1.18.0->-r requirements.txt (line 8)) (2.0.1)\u001b[0m\n",
      "\u001b[34mRequirement already satisfied: pyasn1<0.5.0,>=0.4.6 in /opt/conda/lib/python3.6/site-packages (from pyasn1-modules>=0.2.1->google-auth<3,>=1.6.3->tensorboard~=2.4->tensorflow==2.4.0->-r requirements.txt (line 2)) (0.4.8)\u001b[0m\n",
      "\u001b[34mCollecting oauthlib>=3.0.0\n",
      "  Downloading oauthlib-3.1.1-py2.py3-none-any.whl (146 kB)\u001b[0m\n",
      "\u001b[34mBuilding wheels for collected packages: nltk, sagemaker, aiobotocore, alembic, databricks-cli, termcolor, wrapt, idna-ssl\n",
      "  Building wheel for nltk (setup.py): started\u001b[0m\n",
      "\u001b[34m  Building wheel for nltk (setup.py): finished with status 'done'\n",
      "  Created wheel for nltk: filename=nltk-3.2.5-py3-none-any.whl size=1392141 sha256=51a9a3c7d73d117d20a5239ca8dd3e8ce90feefab2117b76ac4af0ede16314d6\n",
      "  Stored in directory: /root/.cache/pip/wheels/f2/7f/71/cb36468789a03b5e2908281c8e1ce093e6860258b6b61677d8\n",
      "  Building wheel for sagemaker (setup.py): started\u001b[0m\n",
      "\u001b[34m  Building wheel for sagemaker (setup.py): finished with status 'done'\n",
      "  Created wheel for sagemaker: filename=sagemaker-2.49.1-py2.py3-none-any.whl size=591916 sha256=40d3b1efab91ca778a9822bee4375766e1ac3ef62ff34f5e6ef20706ee97327e\n",
      "  Stored in directory: /root/.cache/pip/wheels/4c/af/ea/8ff5943a87155df5b184e54474fbf2b59b75e5c172854643c6\n",
      "  Building wheel for aiobotocore (setup.py): started\n",
      "  Building wheel for aiobotocore (setup.py): finished with status 'done'\n",
      "  Created wheel for aiobotocore: filename=aiobotocore-1.4.2-py3-none-any.whl size=49910 sha256=f8ea5bc6efe717cdb0a8057203e83066cfbf8acbac7d6404f185cd8203048d16\n",
      "  Stored in directory: /root/.cache/pip/wheels/28/61/17/b5ccee30498ab9e21ed6ed0f65d71f79cd252017bc95b6fc00\n",
      "  Building wheel for alembic (setup.py): started\u001b[0m\n",
      "\u001b[34m  Building wheel for alembic (setup.py): finished with status 'done'\n",
      "  Created wheel for alembic: filename=alembic-1.4.1-py2.py3-none-any.whl size=158155 sha256=c0a7a407377b37bd848a390954ae988e07898a533e66743dd6bd562890c3eb0a\n",
      "  Stored in directory: /root/.cache/pip/wheels/e9/7b/aa/e18c983d8236b141f85838ba0f8e4e4ae9bcf7f1e00ff726ec\n",
      "  Building wheel for databricks-cli (setup.py): started\n",
      "  Building wheel for databricks-cli (setup.py): finished with status 'done'\n",
      "  Created wheel for databricks-cli: filename=databricks_cli-0.16.2-py3-none-any.whl size=106811 sha256=18e2b5306de20dbe3f01d05c87a682c3a3c173f074d5194dd9f9368c10210851\n",
      "  Stored in directory: /root/.cache/pip/wheels/f5/cf/28/d354903b6e02a075cec67cfb2414321d2beed2cc428fe26478\n",
      "  Building wheel for termcolor (setup.py): started\u001b[0m\n",
      "\u001b[34m  Building wheel for termcolor (setup.py): finished with status 'done'\n",
      "  Created wheel for termcolor: filename=termcolor-1.1.0-py3-none-any.whl size=4829 sha256=c1f5fafc6d1ad6ca21317f2aafacf62743942037cb983576fa3a14247f9c9255\n",
      "  Stored in directory: /root/.cache/pip/wheels/93/2a/eb/e58dbcbc963549ee4f065ff80a59f274cc7210b6eab962acdc\n",
      "  Building wheel for wrapt (setup.py): started\u001b[0m\n",
      "\u001b[34m  Building wheel for wrapt (setup.py): finished with status 'done'\n",
      "  Created wheel for wrapt: filename=wrapt-1.12.1-cp36-cp36m-linux_x86_64.whl size=69754 sha256=3ab9017197c45f44a72a6ff763a9120f9a81ac1728573a3dfa9d55be1919c2d0\n",
      "  Stored in directory: /root/.cache/pip/wheels/32/42/7f/23cae9ff6ef66798d00dc5d659088e57dbba01566f6c60db63\n",
      "  Building wheel for idna-ssl (setup.py): started\n",
      "  Building wheel for idna-ssl (setup.py): finished with status 'done'\n",
      "  Created wheel for idna-ssl: filename=idna_ssl-1.1.0-py3-none-any.whl size=3160 sha256=42a52ba159eee06729c843a99f37dfe8a1f403928a0bc6f1068300c4bc15e36f\n",
      "  Stored in directory: /root/.cache/pip/wheels/6a/f5/9c/f8331a854f7a8739cf0e74c13854e4dd7b1af11b04fe1dde13\u001b[0m\n",
      "\u001b[34mSuccessfully built nltk sagemaker aiobotocore alembic databricks-cli termcolor wrapt idna-ssl\u001b[0m\n"
     ]
    },
    {
     "name": "stdout",
     "output_type": "stream",
     "text": [
      "\u001b[34mInstalling collected packages: typing-extensions, six, pyasn1-modules, oauthlib, multidict, cachetools, yarl, smmap, requests-oauthlib, numpy, idna-ssl, google-auth, botocore, async-timeout, wrapt, tqdm, tensorboard-plugin-wit, tensorboard-data-server, sqlalchemy, s3transfer, regex, python-editor, markdown, Mako, grpcio, google-auth-oauthlib, gitdb, fsspec, aioitertools, aiohttp, absl-py, torchmetrics, tokenizers, termcolor, tensorflow-estimator, tensorboard, sqlparse, sacremoses, querystring-parser, pyDeprecate, prometheus-flask-exporter, opt-einsum, keras-preprocessing, huggingface-hub, h5py, gunicorn, gitpython, gast, flatbuffers, docker, databricks-cli, boto3, astunparse, alembic, aiobotocore, transformers, tensorflow, smdebug, scikit-multilearn, scikit-learn, sagemaker, s3fs, pytorch-lightning, nltk, nlpaug, mlflow\n",
      "  Attempting uninstall: typing-extensions\n",
      "    Found existing installation: typing-extensions 3.10.0.2\n",
      "    Uninstalling typing-extensions-3.10.0.2:\u001b[0m\n",
      "\u001b[34m      Successfully uninstalled typing-extensions-3.10.0.2\n",
      "  Attempting uninstall: six\n",
      "    Found existing installation: six 1.16.0\n",
      "    Uninstalling six-1.16.0:\u001b[0m\n",
      "\u001b[34m      Successfully uninstalled six-1.16.0\n",
      "  Attempting uninstall: numpy\n",
      "    Found existing installation: numpy 1.19.1\n",
      "    Uninstalling numpy-1.19.1:\n",
      "      Successfully uninstalled numpy-1.19.1\u001b[0m\n",
      "\u001b[34m  Attempting uninstall: botocore\n",
      "    Found existing installation: botocore 1.21.63\n",
      "    Uninstalling botocore-1.21.63:\n",
      "      Successfully uninstalled botocore-1.21.63\u001b[0m\n",
      "\u001b[34m  Attempting uninstall: tqdm\n",
      "    Found existing installation: tqdm 4.61.2\n",
      "    Uninstalling tqdm-4.61.2:\n",
      "      Successfully uninstalled tqdm-4.61.2\u001b[0m\n",
      "\u001b[34m  Attempting uninstall: s3transfer\n",
      "    Found existing installation: s3transfer 0.5.0\n",
      "    Uninstalling s3transfer-0.5.0:\n",
      "      Successfully uninstalled s3transfer-0.5.0\u001b[0m\n",
      "\u001b[34m  Attempting uninstall: fsspec\n",
      "    Found existing installation: fsspec 2021.10.1\n",
      "    Uninstalling fsspec-2021.10.1:\n",
      "      Successfully uninstalled fsspec-2021.10.1\u001b[0m\n",
      "\u001b[34m  Attempting uninstall: h5py\n",
      "    Found existing installation: h5py 2.8.0\n",
      "    Uninstalling h5py-2.8.0:\u001b[0m\n",
      "\u001b[34m      Successfully uninstalled h5py-2.8.0\u001b[0m\n",
      "\u001b[34m  Attempting uninstall: boto3\n",
      "    Found existing installation: boto3 1.18.63\n",
      "    Uninstalling boto3-1.18.63:\n",
      "      Successfully uninstalled boto3-1.18.63\u001b[0m\n",
      "\u001b[34m  Attempting uninstall: smdebug\n",
      "    Found existing installation: smdebug 1.0.9\n",
      "    Uninstalling smdebug-1.0.9:\n",
      "      Successfully uninstalled smdebug-1.0.9\n",
      "  Attempting uninstall: scikit-learn\n",
      "    Found existing installation: scikit-learn 0.24.2\n",
      "    Uninstalling scikit-learn-0.24.2:\n",
      "      Successfully uninstalled scikit-learn-0.24.2\u001b[0m\n",
      "\u001b[34m  Attempting uninstall: sagemaker\n",
      "    Found existing installation: sagemaker 2.63.1\n",
      "    Uninstalling sagemaker-2.63.1:\n",
      "      Successfully uninstalled sagemaker-2.63.1\n",
      "  Attempting uninstall: s3fs\n",
      "    Found existing installation: s3fs 0.4.2\n",
      "    Uninstalling s3fs-0.4.2:\n",
      "      Successfully uninstalled s3fs-0.4.2\u001b[0m\n",
      "\u001b[34mSuccessfully installed Mako-1.1.5 absl-py-0.15.0 aiobotocore-1.4.2 aiohttp-3.7.4.post0 aioitertools-0.8.0 alembic-1.4.1 astunparse-1.6.3 async-timeout-3.0.1 boto3-1.17.106 botocore-1.20.106 cachetools-4.2.4 databricks-cli-0.16.2 docker-5.0.3 flatbuffers-1.12 fsspec-2021.7.0 gast-0.3.3 gitdb-4.0.7 gitpython-3.1.18 google-auth-2.3.0 google-auth-oauthlib-0.4.6 grpcio-1.32.0 gunicorn-20.1.0 h5py-2.10.0 huggingface-hub-0.0.12 idna-ssl-1.1.0 keras-preprocessing-1.1.2 markdown-3.3.4 mlflow-1.18.0 multidict-5.2.0 nlpaug-1.1.6 nltk-3.2.5 numpy-1.19.5 oauthlib-3.1.1 opt-einsum-3.3.0 prometheus-flask-exporter-0.18.3 pyDeprecate-0.3.0 pyasn1-modules-0.2.8 python-editor-1.0.4 pytorch-lightning-1.3.8 querystring-parser-1.2.4 regex-2021.10.21 requests-oauthlib-1.3.0 s3fs-2021.7.0 s3transfer-0.4.2 sacremoses-0.0.46 sagemaker-2.49.1 scikit-learn-0.22.2.post1 scikit-multilearn-0.2.0 six-1.15.0 smdebug-1.0.11 smmap-4.0.0 sqlalchemy-1.4.26 sqlparse-0.4.2 tensorboard-2.7.0 tensorboard-data-server-0.6.1 tensorboard-plugin-wit-1.8.0 tensorflow-2.4.0 tensorflow-estimator-2.4.0 termcolor-1.1.0 tokenizers-0.10.3 torchmetrics-0.4.1 tqdm-4.41.1 transformers-4.8.2 typing-extensions-3.7.4.3 wrapt-1.12.1 yarl-1.7.0\u001b[0m\n",
      "\u001b[34mERROR: pip's dependency resolver does not currently take into account all the packages that are installed. This behaviour is the source of the following dependency conflicts.\u001b[0m\n",
      "\u001b[34mawscli 1.20.63 requires botocore==1.21.63, but you have botocore 1.20.106 which is incompatible.\u001b[0m\n",
      "\u001b[34mawscli 1.20.63 requires s3transfer<0.6.0,>=0.5.0, but you have s3transfer 0.4.2 which is incompatible.\u001b[0m\n",
      "\u001b[34mWARNING: Running pip as the 'root' user can result in broken permissions and conflicting behaviour with the system package manager. It is recommended to use a virtual environment instead: https://pip.pypa.io/warnings/venv\n",
      "\u001b[0m\n",
      "\u001b[34m2021-10-21 17:19:48,012 sagemaker-training-toolkit INFO     Invoking user script\n",
      "\u001b[0m\n",
      "\u001b[34mTraining Env:\n",
      "\u001b[0m\n",
      "\u001b[34m{\n",
      "    \"additional_framework_parameters\": {},\n",
      "    \"channel_input_dirs\": {\n",
      "        \"test\": \"/opt/ml/input/data/test\",\n",
      "        \"train\": \"/opt/ml/input/data/train\"\n",
      "    },\n",
      "    \"current_host\": \"algo-1\",\n",
      "    \"framework_module\": \"sagemaker_pytorch_container.training:main\",\n",
      "    \"hosts\": [\n",
      "        \"algo-1\"\n",
      "    ],\n",
      "    \"hyperparameters\": {\n",
      "        \"dropout_rate\": 0.3,\n",
      "        \"experiment_name\": \"pl-trials\",\n",
      "        \"proportions_negative_examples_test\": \"{'sectors': 0.16, 'subpillars_2d': 0.3, 'subpillars_1d': 0.69, 'demographic_groups': 0.74, 'specific_needs_groups': 0.86, 'affected_groups': 0.35}\",\n",
      "        \"model_mode\": \"train\",\n",
      "        \"max_len\": 256,\n",
      "        \"training_names\": \"sectors,demographic_groups\",\n",
      "        \"model_name\": \"microsoft/xtremedistil-l6-h256-uncased\",\n",
      "        \"output_length\": 256,\n",
      "        \"proportions_negative_examples_train\": \"{'sectors': 0.008, 'subpillars_2d': 0.015, 'subpillars_1d': 0.034499999999999996, 'demographic_groups': 0.037, 'specific_needs_groups': 0.043000000000000003, 'affected_groups': 0.017499999999999998}\",\n",
      "        \"tokenizer_name\": \"microsoft/xtremedistil-l6-h256-uncased\",\n",
      "        \"epochs\": 1,\n",
      "        \"instance_type\": \"ml.p2.xlarge\",\n",
      "        \"learning_rate\": 5e-05,\n",
      "        \"pred_threshold\": 0.4,\n",
      "        \"tracking_uri\": \"http://mlflow-deep-387470f3-1883319727.us-east-1.elb.amazonaws.com/\"\n",
      "    },\n",
      "    \"input_config_dir\": \"/opt/ml/input/config\",\n",
      "    \"input_data_config\": {\n",
      "        \"test\": {\n",
      "            \"TrainingInputMode\": \"File\",\n",
      "            \"S3DistributionType\": \"FullyReplicated\",\n",
      "            \"RecordWrapperType\": \"None\"\n",
      "        },\n",
      "        \"train\": {\n",
      "            \"TrainingInputMode\": \"File\",\n",
      "            \"S3DistributionType\": \"FullyReplicated\",\n",
      "            \"RecordWrapperType\": \"None\"\n",
      "        }\n",
      "    },\n",
      "    \"input_dir\": \"/opt/ml/input\",\n",
      "    \"is_master\": true,\n",
      "    \"job_name\": \"pytorch-2021-10-21-19-09-25-978-all-models\",\n",
      "    \"log_level\": 20,\n",
      "    \"master_hostname\": \"algo-1\",\n",
      "    \"model_dir\": \"/opt/ml/model\",\n",
      "    \"module_dir\": \"s3://sagemaker-deep-experiments-dev/training/input_data/pytorch-2021-10-21-19-09-25-978-all-models/pytorch-2021-10-21-19-09-25-978-all-models/source/sourcedir.tar.gz\",\n",
      "    \"module_name\": \"train_mlflow\",\n",
      "    \"network_interface_name\": \"eth0\",\n",
      "    \"num_cpus\": 4,\n",
      "    \"num_gpus\": 1,\n",
      "    \"output_data_dir\": \"/opt/ml/output/data\",\n",
      "    \"output_dir\": \"/opt/ml/output\",\n",
      "    \"output_intermediate_dir\": \"/opt/ml/output/intermediate\",\n",
      "    \"resource_config\": {\n",
      "        \"current_host\": \"algo-1\",\n",
      "        \"hosts\": [\n",
      "            \"algo-1\"\n",
      "        ],\n",
      "        \"network_interface_name\": \"eth0\"\n",
      "    },\n",
      "    \"user_entry_point\": \"train_mlflow.py\"\u001b[0m\n",
      "\u001b[34m}\n",
      "\u001b[0m\n",
      "\u001b[34mEnvironment variables:\n",
      "\u001b[0m\n",
      "\u001b[34mSM_HOSTS=[\"algo-1\"]\u001b[0m\n",
      "\u001b[34mSM_NETWORK_INTERFACE_NAME=eth0\u001b[0m\n",
      "\u001b[34mSM_HPS={\"dropout_rate\":0.3,\"epochs\":1,\"experiment_name\":\"pl-trials\",\"instance_type\":\"ml.p2.xlarge\",\"learning_rate\":5e-05,\"max_len\":256,\"model_mode\":\"train\",\"model_name\":\"microsoft/xtremedistil-l6-h256-uncased\",\"output_length\":256,\"pred_threshold\":0.4,\"proportions_negative_examples_test\":\"{'sectors': 0.16, 'subpillars_2d': 0.3, 'subpillars_1d': 0.69, 'demographic_groups': 0.74, 'specific_needs_groups': 0.86, 'affected_groups': 0.35}\",\"proportions_negative_examples_train\":\"{'sectors': 0.008, 'subpillars_2d': 0.015, 'subpillars_1d': 0.034499999999999996, 'demographic_groups': 0.037, 'specific_needs_groups': 0.043000000000000003, 'affected_groups': 0.017499999999999998}\",\"tokenizer_name\":\"microsoft/xtremedistil-l6-h256-uncased\",\"tracking_uri\":\"http://mlflow-deep-387470f3-1883319727.us-east-1.elb.amazonaws.com/\",\"training_names\":\"sectors,demographic_groups\"}\u001b[0m\n",
      "\u001b[34mSM_USER_ENTRY_POINT=train_mlflow.py\u001b[0m\n",
      "\u001b[34mSM_FRAMEWORK_PARAMS={}\u001b[0m\n",
      "\u001b[34mSM_RESOURCE_CONFIG={\"current_host\":\"algo-1\",\"hosts\":[\"algo-1\"],\"network_interface_name\":\"eth0\"}\u001b[0m\n",
      "\u001b[34mSM_INPUT_DATA_CONFIG={\"test\":{\"RecordWrapperType\":\"None\",\"S3DistributionType\":\"FullyReplicated\",\"TrainingInputMode\":\"File\"},\"train\":{\"RecordWrapperType\":\"None\",\"S3DistributionType\":\"FullyReplicated\",\"TrainingInputMode\":\"File\"}}\u001b[0m\n",
      "\u001b[34mSM_OUTPUT_DATA_DIR=/opt/ml/output/data\u001b[0m\n",
      "\u001b[34mSM_CHANNELS=[\"test\",\"train\"]\u001b[0m\n",
      "\u001b[34mSM_CURRENT_HOST=algo-1\u001b[0m\n",
      "\u001b[34mSM_MODULE_NAME=train_mlflow\u001b[0m\n",
      "\u001b[34mSM_LOG_LEVEL=20\u001b[0m\n",
      "\u001b[34mSM_FRAMEWORK_MODULE=sagemaker_pytorch_container.training:main\u001b[0m\n",
      "\u001b[34mSM_INPUT_DIR=/opt/ml/input\u001b[0m\n",
      "\u001b[34mSM_INPUT_CONFIG_DIR=/opt/ml/input/config\u001b[0m\n",
      "\u001b[34mSM_OUTPUT_DIR=/opt/ml/output\u001b[0m\n",
      "\u001b[34mSM_NUM_CPUS=4\u001b[0m\n",
      "\u001b[34mSM_NUM_GPUS=1\u001b[0m\n",
      "\u001b[34mSM_MODEL_DIR=/opt/ml/model\u001b[0m\n",
      "\u001b[34mSM_MODULE_DIR=s3://sagemaker-deep-experiments-dev/training/input_data/pytorch-2021-10-21-19-09-25-978-all-models/pytorch-2021-10-21-19-09-25-978-all-models/source/sourcedir.tar.gz\u001b[0m\n",
      "\u001b[34mSM_TRAINING_ENV={\"additional_framework_parameters\":{},\"channel_input_dirs\":{\"test\":\"/opt/ml/input/data/test\",\"train\":\"/opt/ml/input/data/train\"},\"current_host\":\"algo-1\",\"framework_module\":\"sagemaker_pytorch_container.training:main\",\"hosts\":[\"algo-1\"],\"hyperparameters\":{\"dropout_rate\":0.3,\"epochs\":1,\"experiment_name\":\"pl-trials\",\"instance_type\":\"ml.p2.xlarge\",\"learning_rate\":5e-05,\"max_len\":256,\"model_mode\":\"train\",\"model_name\":\"microsoft/xtremedistil-l6-h256-uncased\",\"output_length\":256,\"pred_threshold\":0.4,\"proportions_negative_examples_test\":\"{'sectors': 0.16, 'subpillars_2d': 0.3, 'subpillars_1d': 0.69, 'demographic_groups': 0.74, 'specific_needs_groups': 0.86, 'affected_groups': 0.35}\",\"proportions_negative_examples_train\":\"{'sectors': 0.008, 'subpillars_2d': 0.015, 'subpillars_1d': 0.034499999999999996, 'demographic_groups': 0.037, 'specific_needs_groups': 0.043000000000000003, 'affected_groups': 0.017499999999999998}\",\"tokenizer_name\":\"microsoft/xtremedistil-l6-h256-uncased\",\"tracking_uri\":\"http://mlflow-deep-387470f3-1883319727.us-east-1.elb.amazonaws.com/\",\"training_names\":\"sectors,demographic_groups\"},\"input_config_dir\":\"/opt/ml/input/config\",\"input_data_config\":{\"test\":{\"RecordWrapperType\":\"None\",\"S3DistributionType\":\"FullyReplicated\",\"TrainingInputMode\":\"File\"},\"train\":{\"RecordWrapperType\":\"None\",\"S3DistributionType\":\"FullyReplicated\",\"TrainingInputMode\":\"File\"}},\"input_dir\":\"/opt/ml/input\",\"is_master\":true,\"job_name\":\"pytorch-2021-10-21-19-09-25-978-all-models\",\"log_level\":20,\"master_hostname\":\"algo-1\",\"model_dir\":\"/opt/ml/model\",\"module_dir\":\"s3://sagemaker-deep-experiments-dev/training/input_data/pytorch-2021-10-21-19-09-25-978-all-models/pytorch-2021-10-21-19-09-25-978-all-models/source/sourcedir.tar.gz\",\"module_name\":\"train_mlflow\",\"network_interface_name\":\"eth0\",\"num_cpus\":4,\"num_gpus\":1,\"output_data_dir\":\"/opt/ml/output/data\",\"output_dir\":\"/opt/ml/output\",\"output_intermediate_dir\":\"/opt/ml/output/intermediate\",\"resource_config\":{\"current_host\":\"algo-1\",\"hosts\":[\"algo-1\"],\"network_interface_name\":\"eth0\"},\"user_entry_point\":\"train_mlflow.py\"}\u001b[0m\n",
      "\u001b[34mSM_USER_ARGS=[\"--dropout_rate\",\"0.3\",\"--epochs\",\"1\",\"--experiment_name\",\"pl-trials\",\"--instance_type\",\"ml.p2.xlarge\",\"--learning_rate\",\"5e-05\",\"--max_len\",\"256\",\"--model_mode\",\"train\",\"--model_name\",\"microsoft/xtremedistil-l6-h256-uncased\",\"--output_length\",\"256\",\"--pred_threshold\",\"0.4\",\"--proportions_negative_examples_test\",\"{'sectors': 0.16, 'subpillars_2d': 0.3, 'subpillars_1d': 0.69, 'demographic_groups': 0.74, 'specific_needs_groups': 0.86, 'affected_groups': 0.35}\",\"--proportions_negative_examples_train\",\"{'sectors': 0.008, 'subpillars_2d': 0.015, 'subpillars_1d': 0.034499999999999996, 'demographic_groups': 0.037, 'specific_needs_groups': 0.043000000000000003, 'affected_groups': 0.017499999999999998}\",\"--tokenizer_name\",\"microsoft/xtremedistil-l6-h256-uncased\",\"--tracking_uri\",\"http://mlflow-deep-387470f3-1883319727.us-east-1.elb.amazonaws.com/\",\"--training_names\",\"sectors,demographic_groups\"]\u001b[0m\n",
      "\u001b[34mSM_OUTPUT_INTERMEDIATE_DIR=/opt/ml/output/intermediate\u001b[0m\n",
      "\u001b[34mSM_CHANNEL_TEST=/opt/ml/input/data/test\u001b[0m\n",
      "\u001b[34mSM_CHANNEL_TRAIN=/opt/ml/input/data/train\u001b[0m\n",
      "\u001b[34mSM_HP_DROPOUT_RATE=0.3\u001b[0m\n",
      "\u001b[34mSM_HP_EXPERIMENT_NAME=pl-trials\u001b[0m\n",
      "\u001b[34mSM_HP_PROPORTIONS_NEGATIVE_EXAMPLES_TEST={'sectors': 0.16, 'subpillars_2d': 0.3, 'subpillars_1d': 0.69, 'demographic_groups': 0.74, 'specific_needs_groups': 0.86, 'affected_groups': 0.35}\u001b[0m\n",
      "\u001b[34mSM_HP_MODEL_MODE=train\u001b[0m\n",
      "\u001b[34mSM_HP_MAX_LEN=256\u001b[0m\n",
      "\u001b[34mSM_HP_TRAINING_NAMES=sectors,demographic_groups\u001b[0m\n",
      "\u001b[34mSM_HP_MODEL_NAME=microsoft/xtremedistil-l6-h256-uncased\u001b[0m\n",
      "\u001b[34mSM_HP_OUTPUT_LENGTH=256\u001b[0m\n",
      "\u001b[34mSM_HP_PROPORTIONS_NEGATIVE_EXAMPLES_TRAIN={'sectors': 0.008, 'subpillars_2d': 0.015, 'subpillars_1d': 0.034499999999999996, 'demographic_groups': 0.037, 'specific_needs_groups': 0.043000000000000003, 'affected_groups': 0.017499999999999998}\u001b[0m\n",
      "\u001b[34mSM_HP_TOKENIZER_NAME=microsoft/xtremedistil-l6-h256-uncased\u001b[0m\n",
      "\u001b[34mSM_HP_EPOCHS=1\u001b[0m\n",
      "\u001b[34mSM_HP_INSTANCE_TYPE=ml.p2.xlarge\u001b[0m\n",
      "\u001b[34mSM_HP_LEARNING_RATE=5e-05\u001b[0m\n",
      "\u001b[34mSM_HP_PRED_THRESHOLD=0.4\u001b[0m\n",
      "\u001b[34mSM_HP_TRACKING_URI=http://mlflow-deep-387470f3-1883319727.us-east-1.elb.amazonaws.com/\u001b[0m\n",
      "\u001b[34mPYTHONPATH=/opt/ml/code:/opt/conda/bin:/opt/conda/lib/python36.zip:/opt/conda/lib/python3.6:/opt/conda/lib/python3.6/lib-dynload:/opt/conda/lib/python3.6/site-packages\n",
      "\u001b[0m\n",
      "\u001b[34mInvoking script with the following command:\n",
      "\u001b[0m\n",
      "\u001b[34m/opt/conda/bin/python3.6 train_mlflow.py --dropout_rate 0.3 --epochs 1 --experiment_name pl-trials --instance_type ml.p2.xlarge --learning_rate 5e-05 --max_len 256 --model_mode train --model_name microsoft/xtremedistil-l6-h256-uncased --output_length 256 --pred_threshold 0.4 --proportions_negative_examples_test {'sectors': 0.16, 'subpillars_2d': 0.3, 'subpillars_1d': 0.69, 'demographic_groups': 0.74, 'specific_needs_groups': 0.86, 'affected_groups': 0.35} --proportions_negative_examples_train {'sectors': 0.008, 'subpillars_2d': 0.015, 'subpillars_1d': 0.034499999999999996, 'demographic_groups': 0.037, 'specific_needs_groups': 0.043000000000000003, 'affected_groups': 0.017499999999999998} --tokenizer_name microsoft/xtremedistil-l6-h256-uncased --tracking_uri http://mlflow-deep-387470f3-1883319727.us-east-1.elb.amazonaws.com/ --training_names sectors,demographic_groups\n",
      "\n",
      "\u001b[0m\n"
     ]
    },
    {
     "name": "stdout",
     "output_type": "stream",
     "text": [
      "\u001b[34m#015Validation sanity check: 0it [00:00, ?it/s]#015Validation sanity check:   0%|          | 0/2 [00:00<?, ?it/s][2021-10-21 17:20:41.247 algo-1:86 INFO utils.py:27] RULE_JOB_STOP_SIGNAL_FILENAME: None\u001b[0m\n",
      "\u001b[34m[2021-10-21 17:20:41.292 algo-1:86 INFO profiler_config_parser.py:102] User has disabled profiler.\u001b[0m\n",
      "\u001b[34m[2021-10-21 17:20:41.293 algo-1:86 INFO json_config.py:91] Creating hook from json_config at /opt/ml/input/config/debughookconfig.json.\u001b[0m\n",
      "\u001b[34m[2021-10-21 17:20:41.294 algo-1:86 INFO hook.py:201] tensorboard_dir has not been set for the hook. SMDebug will not be exporting tensorboard summaries.\u001b[0m\n",
      "\u001b[34m[2021-10-21 17:20:41.295 algo-1:86 INFO hook.py:255] Saving to /opt/ml/output/tensors\u001b[0m\n",
      "\u001b[34m[2021-10-21 17:20:41.295 algo-1:86 INFO state_store.py:77] The checkpoint config file /opt/ml/input/config/checkpointconfig.json does not exist.\u001b[0m\n",
      "\u001b[34m[2021-10-21 17:20:41.487 algo-1:86 INFO hook.py:594] name:model.l0.embeddings.word_embeddings.weight count_params:7813632\u001b[0m\n",
      "\u001b[34m[2021-10-21 17:20:41.487 algo-1:86 INFO hook.py:594] name:model.l0.embeddings.position_embeddings.weight count_params:131072\u001b[0m\n",
      "\u001b[34m[2021-10-21 17:20:41.487 algo-1:86 INFO hook.py:594] name:model.l0.embeddings.token_type_embeddings.weight count_params:512\u001b[0m\n",
      "\u001b[34m[2021-10-21 17:20:41.487 algo-1:86 INFO hook.py:594] name:model.l0.embeddings.LayerNorm.weight count_params:256\u001b[0m\n",
      "\u001b[34m[2021-10-21 17:20:41.488 algo-1:86 INFO hook.py:594] name:model.l0.embeddings.LayerNorm.bias count_params:256\u001b[0m\n",
      "\u001b[34m[2021-10-21 17:20:41.488 algo-1:86 INFO hook.py:594] name:model.l0.encoder.layer.0.attention.self.query.weight count_params:65536\u001b[0m\n",
      "\u001b[34m[2021-10-21 17:20:41.488 algo-1:86 INFO hook.py:594] name:model.l0.encoder.layer.0.attention.self.query.bias count_params:256\u001b[0m\n",
      "\u001b[34m[2021-10-21 17:20:41.488 algo-1:86 INFO hook.py:594] name:model.l0.encoder.layer.0.attention.self.key.weight count_params:65536\u001b[0m\n",
      "\u001b[34m[2021-10-21 17:20:41.488 algo-1:86 INFO hook.py:594] name:model.l0.encoder.layer.0.attention.self.key.bias count_params:256\u001b[0m\n",
      "\u001b[34m[2021-10-21 17:20:41.488 algo-1:86 INFO hook.py:594] name:model.l0.encoder.layer.0.attention.self.value.weight count_params:65536\u001b[0m\n",
      "\u001b[34m[2021-10-21 17:20:41.488 algo-1:86 INFO hook.py:594] name:model.l0.encoder.layer.0.attention.self.value.bias count_params:256\u001b[0m\n",
      "\u001b[34m[2021-10-21 17:20:41.488 algo-1:86 INFO hook.py:594] name:model.l0.encoder.layer.0.attention.output.dense.weight count_params:65536\u001b[0m\n",
      "\u001b[34m[2021-10-21 17:20:41.488 algo-1:86 INFO hook.py:594] name:model.l0.encoder.layer.0.attention.output.dense.bias count_params:256\u001b[0m\n",
      "\u001b[34m[2021-10-21 17:20:41.488 algo-1:86 INFO hook.py:594] name:model.l0.encoder.layer.0.attention.output.LayerNorm.weight count_params:256\u001b[0m\n",
      "\u001b[34m[2021-10-21 17:20:41.488 algo-1:86 INFO hook.py:594] name:model.l0.encoder.layer.0.attention.output.LayerNorm.bias count_params:256\u001b[0m\n",
      "\u001b[34m[2021-10-21 17:20:41.489 algo-1:86 INFO hook.py:594] name:model.l0.encoder.layer.0.intermediate.dense.weight count_params:262144\u001b[0m\n",
      "\u001b[34m[2021-10-21 17:20:41.489 algo-1:86 INFO hook.py:594] name:model.l0.encoder.layer.0.intermediate.dense.bias count_params:1024\u001b[0m\n",
      "\u001b[34m[2021-10-21 17:20:41.489 algo-1:86 INFO hook.py:594] name:model.l0.encoder.layer.0.output.dense.weight count_params:262144\u001b[0m\n",
      "\u001b[34m[2021-10-21 17:20:41.489 algo-1:86 INFO hook.py:594] name:model.l0.encoder.layer.0.output.dense.bias count_params:256\u001b[0m\n",
      "\u001b[34m[2021-10-21 17:20:41.489 algo-1:86 INFO hook.py:594] name:model.l0.encoder.layer.0.output.LayerNorm.weight count_params:256\u001b[0m\n",
      "\u001b[34m[2021-10-21 17:20:41.489 algo-1:86 INFO hook.py:594] name:model.l0.encoder.layer.0.output.LayerNorm.bias count_params:256\u001b[0m\n",
      "\u001b[34m[2021-10-21 17:20:41.489 algo-1:86 INFO hook.py:594] name:model.l0.encoder.layer.1.attention.self.query.weight count_params:65536\u001b[0m\n",
      "\u001b[34m[2021-10-21 17:20:41.489 algo-1:86 INFO hook.py:594] name:model.l0.encoder.layer.1.attention.self.query.bias count_params:256\u001b[0m\n",
      "\u001b[34m[2021-10-21 17:20:41.489 algo-1:86 INFO hook.py:594] name:model.l0.encoder.layer.1.attention.self.key.weight count_params:65536\u001b[0m\n",
      "\u001b[34m[2021-10-21 17:20:41.489 algo-1:86 INFO hook.py:594] name:model.l0.encoder.layer.1.attention.self.key.bias count_params:256\u001b[0m\n",
      "\u001b[34m[2021-10-21 17:20:41.489 algo-1:86 INFO hook.py:594] name:model.l0.encoder.layer.1.attention.self.value.weight count_params:65536\u001b[0m\n",
      "\u001b[34m[2021-10-21 17:20:41.490 algo-1:86 INFO hook.py:594] name:model.l0.encoder.layer.1.attention.self.value.bias count_params:256\u001b[0m\n",
      "\u001b[34m[2021-10-21 17:20:41.490 algo-1:86 INFO hook.py:594] name:model.l0.encoder.layer.1.attention.output.dense.weight count_params:65536\u001b[0m\n",
      "\u001b[34m[2021-10-21 17:20:41.490 algo-1:86 INFO hook.py:594] name:model.l0.encoder.layer.1.attention.output.dense.bias count_params:256\u001b[0m\n",
      "\u001b[34m[2021-10-21 17:20:41.490 algo-1:86 INFO hook.py:594] name:model.l0.encoder.layer.1.attention.output.LayerNorm.weight count_params:256\u001b[0m\n",
      "\u001b[34m[2021-10-21 17:20:41.490 algo-1:86 INFO hook.py:594] name:model.l0.encoder.layer.1.attention.output.LayerNorm.bias count_params:256\u001b[0m\n",
      "\u001b[34m[2021-10-21 17:20:41.490 algo-1:86 INFO hook.py:594] name:model.l0.encoder.layer.1.intermediate.dense.weight count_params:262144\u001b[0m\n",
      "\u001b[34m[2021-10-21 17:20:41.490 algo-1:86 INFO hook.py:594] name:model.l0.encoder.layer.1.intermediate.dense.bias count_params:1024\u001b[0m\n",
      "\u001b[34m[2021-10-21 17:20:41.490 algo-1:86 INFO hook.py:594] name:model.l0.encoder.layer.1.output.dense.weight count_params:262144\u001b[0m\n",
      "\u001b[34m[2021-10-21 17:20:41.490 algo-1:86 INFO hook.py:594] name:model.l0.encoder.layer.1.output.dense.bias count_params:256\u001b[0m\n",
      "\u001b[34m[2021-10-21 17:20:41.491 algo-1:86 INFO hook.py:594] name:model.l0.encoder.layer.1.output.LayerNorm.weight count_params:256\u001b[0m\n",
      "\u001b[34m[2021-10-21 17:20:41.491 algo-1:86 INFO hook.py:594] name:model.l0.encoder.layer.1.output.LayerNorm.bias count_params:256\u001b[0m\n",
      "\u001b[34m[2021-10-21 17:20:41.491 algo-1:86 INFO hook.py:594] name:model.l0.encoder.layer.2.attention.self.query.weight count_params:65536\u001b[0m\n",
      "\u001b[34m[2021-10-21 17:20:41.491 algo-1:86 INFO hook.py:594] name:model.l0.encoder.layer.2.attention.self.query.bias count_params:256\u001b[0m\n",
      "\u001b[34m[2021-10-21 17:20:41.491 algo-1:86 INFO hook.py:594] name:model.l0.encoder.layer.2.attention.self.key.weight count_params:65536\u001b[0m\n",
      "\u001b[34m[2021-10-21 17:20:41.491 algo-1:86 INFO hook.py:594] name:model.l0.encoder.layer.2.attention.self.key.bias count_params:256\u001b[0m\n",
      "\u001b[34m[2021-10-21 17:20:41.491 algo-1:86 INFO hook.py:594] name:model.l0.encoder.layer.2.attention.self.value.weight count_params:65536\u001b[0m\n",
      "\u001b[34m[2021-10-21 17:20:41.491 algo-1:86 INFO hook.py:594] name:model.l0.encoder.layer.2.attention.self.value.bias count_params:256\u001b[0m\n",
      "\u001b[34m[2021-10-21 17:20:41.491 algo-1:86 INFO hook.py:594] name:model.l0.encoder.layer.2.attention.output.dense.weight count_params:65536\u001b[0m\n",
      "\u001b[34m[2021-10-21 17:20:41.491 algo-1:86 INFO hook.py:594] name:model.l0.encoder.layer.2.attention.output.dense.bias count_params:256\u001b[0m\n",
      "\u001b[34m[2021-10-21 17:20:41.491 algo-1:86 INFO hook.py:594] name:model.l0.encoder.layer.2.attention.output.LayerNorm.weight count_params:256\u001b[0m\n",
      "\u001b[34m[2021-10-21 17:20:41.492 algo-1:86 INFO hook.py:594] name:model.l0.encoder.layer.2.attention.output.LayerNorm.bias count_params:256\u001b[0m\n",
      "\u001b[34m[2021-10-21 17:20:41.492 algo-1:86 INFO hook.py:594] name:model.l0.encoder.layer.2.intermediate.dense.weight count_params:262144\u001b[0m\n",
      "\u001b[34m[2021-10-21 17:20:41.492 algo-1:86 INFO hook.py:594] name:model.l0.encoder.layer.2.intermediate.dense.bias count_params:1024\u001b[0m\n",
      "\u001b[34m[2021-10-21 17:20:41.492 algo-1:86 INFO hook.py:594] name:model.l0.encoder.layer.2.output.dense.weight count_params:262144\u001b[0m\n",
      "\u001b[34m[2021-10-21 17:20:41.492 algo-1:86 INFO hook.py:594] name:model.l0.encoder.layer.2.output.dense.bias count_params:256\u001b[0m\n",
      "\u001b[34m[2021-10-21 17:20:41.492 algo-1:86 INFO hook.py:594] name:model.l0.encoder.layer.2.output.LayerNorm.weight count_params:256\u001b[0m\n",
      "\u001b[34m[2021-10-21 17:20:41.492 algo-1:86 INFO hook.py:594] name:model.l0.encoder.layer.2.output.LayerNorm.bias count_params:256\u001b[0m\n",
      "\u001b[34m[2021-10-21 17:20:41.492 algo-1:86 INFO hook.py:594] name:model.l0.encoder.layer.3.attention.self.query.weight count_params:65536\u001b[0m\n",
      "\u001b[34m[2021-10-21 17:20:41.492 algo-1:86 INFO hook.py:594] name:model.l0.encoder.layer.3.attention.self.query.bias count_params:256\u001b[0m\n",
      "\u001b[34m[2021-10-21 17:20:41.492 algo-1:86 INFO hook.py:594] name:model.l0.encoder.layer.3.attention.self.key.weight count_params:65536\u001b[0m\n",
      "\u001b[34m[2021-10-21 17:20:41.493 algo-1:86 INFO hook.py:594] name:model.l0.encoder.layer.3.attention.self.key.bias count_params:256\u001b[0m\n",
      "\u001b[34m[2021-10-21 17:20:41.493 algo-1:86 INFO hook.py:594] name:model.l0.encoder.layer.3.attention.self.value.weight count_params:65536\u001b[0m\n",
      "\u001b[34m[2021-10-21 17:20:41.493 algo-1:86 INFO hook.py:594] name:model.l0.encoder.layer.3.attention.self.value.bias count_params:256\u001b[0m\n",
      "\u001b[34m[2021-10-21 17:20:41.493 algo-1:86 INFO hook.py:594] name:model.l0.encoder.layer.3.attention.output.dense.weight count_params:65536\u001b[0m\n",
      "\u001b[34m[2021-10-21 17:20:41.493 algo-1:86 INFO hook.py:594] name:model.l0.encoder.layer.3.attention.output.dense.bias count_params:256\u001b[0m\n",
      "\u001b[34m[2021-10-21 17:20:41.493 algo-1:86 INFO hook.py:594] name:model.l0.encoder.layer.3.attention.output.LayerNorm.weight count_params:256\u001b[0m\n",
      "\u001b[34m[2021-10-21 17:20:41.493 algo-1:86 INFO hook.py:594] name:model.l0.encoder.layer.3.attention.output.LayerNorm.bias count_params:256\u001b[0m\n",
      "\u001b[34m[2021-10-21 17:20:41.493 algo-1:86 INFO hook.py:594] name:model.l0.encoder.layer.3.intermediate.dense.weight count_params:262144\u001b[0m\n",
      "\u001b[34m[2021-10-21 17:20:41.493 algo-1:86 INFO hook.py:594] name:model.l0.encoder.layer.3.intermediate.dense.bias count_params:1024\u001b[0m\n",
      "\u001b[34m[2021-10-21 17:20:41.493 algo-1:86 INFO hook.py:594] name:model.l0.encoder.layer.3.output.dense.weight count_params:262144\u001b[0m\n",
      "\u001b[34m[2021-10-21 17:20:41.493 algo-1:86 INFO hook.py:594] name:model.l0.encoder.layer.3.output.dense.bias count_params:256\u001b[0m\n",
      "\u001b[34m[2021-10-21 17:20:41.494 algo-1:86 INFO hook.py:594] name:model.l0.encoder.layer.3.output.LayerNorm.weight count_params:256\u001b[0m\n",
      "\u001b[34m[2021-10-21 17:20:41.494 algo-1:86 INFO hook.py:594] name:model.l0.encoder.layer.3.output.LayerNorm.bias count_params:256\u001b[0m\n",
      "\u001b[34m[2021-10-21 17:20:41.494 algo-1:86 INFO hook.py:594] name:model.l0.encoder.layer.4.attention.self.query.weight count_params:65536\u001b[0m\n",
      "\u001b[34m[2021-10-21 17:20:41.494 algo-1:86 INFO hook.py:594] name:model.l0.encoder.layer.4.attention.self.query.bias count_params:256\u001b[0m\n",
      "\u001b[34m[2021-10-21 17:20:41.494 algo-1:86 INFO hook.py:594] name:model.l0.encoder.layer.4.attention.self.key.weight count_params:65536\u001b[0m\n",
      "\u001b[34m[2021-10-21 17:20:41.494 algo-1:86 INFO hook.py:594] name:model.l0.encoder.layer.4.attention.self.key.bias count_params:256\u001b[0m\n",
      "\u001b[34m[2021-10-21 17:20:41.494 algo-1:86 INFO hook.py:594] name:model.l0.encoder.layer.4.attention.self.value.weight count_params:65536\u001b[0m\n",
      "\u001b[34m[2021-10-21 17:20:41.494 algo-1:86 INFO hook.py:594] name:model.l0.encoder.layer.4.attention.self.value.bias count_params:256\u001b[0m\n",
      "\u001b[34m[2021-10-21 17:20:41.494 algo-1:86 INFO hook.py:594] name:model.l0.encoder.layer.4.attention.output.dense.weight count_params:65536\u001b[0m\n",
      "\u001b[34m[2021-10-21 17:20:41.494 algo-1:86 INFO hook.py:594] name:model.l0.encoder.layer.4.attention.output.dense.bias count_params:256\u001b[0m\n",
      "\u001b[34m[2021-10-21 17:20:41.495 algo-1:86 INFO hook.py:594] name:model.l0.encoder.layer.4.attention.output.LayerNorm.weight count_params:256\u001b[0m\n",
      "\u001b[34m[2021-10-21 17:20:41.495 algo-1:86 INFO hook.py:594] name:model.l0.encoder.layer.4.attention.output.LayerNorm.bias count_params:256\u001b[0m\n",
      "\u001b[34m[2021-10-21 17:20:41.495 algo-1:86 INFO hook.py:594] name:model.l0.encoder.layer.4.intermediate.dense.weight count_params:262144\u001b[0m\n",
      "\u001b[34m[2021-10-21 17:20:41.495 algo-1:86 INFO hook.py:594] name:model.l0.encoder.layer.4.intermediate.dense.bias count_params:1024\u001b[0m\n",
      "\u001b[34m[2021-10-21 17:20:41.495 algo-1:86 INFO hook.py:594] name:model.l0.encoder.layer.4.output.dense.weight count_params:262144\u001b[0m\n",
      "\u001b[34m[2021-10-21 17:20:41.495 algo-1:86 INFO hook.py:594] name:model.l0.encoder.layer.4.output.dense.bias count_params:256\u001b[0m\n",
      "\u001b[34m[2021-10-21 17:20:41.495 algo-1:86 INFO hook.py:594] name:model.l0.encoder.layer.4.output.LayerNorm.weight count_params:256\u001b[0m\n",
      "\u001b[34m[2021-10-21 17:20:41.495 algo-1:86 INFO hook.py:594] name:model.l0.encoder.layer.4.output.LayerNorm.bias count_params:256\u001b[0m\n",
      "\u001b[34m[2021-10-21 17:20:41.495 algo-1:86 INFO hook.py:594] name:model.l0.encoder.layer.5.attention.self.query.weight count_params:65536\u001b[0m\n",
      "\u001b[34m[2021-10-21 17:20:41.495 algo-1:86 INFO hook.py:594] name:model.l0.encoder.layer.5.attention.self.query.bias count_params:256\u001b[0m\n",
      "\u001b[34m[2021-10-21 17:20:41.496 algo-1:86 INFO hook.py:594] name:model.l0.encoder.layer.5.attention.self.key.weight count_params:65536\u001b[0m\n",
      "\u001b[34m[2021-10-21 17:20:41.496 algo-1:86 INFO hook.py:594] name:model.l0.encoder.layer.5.attention.self.key.bias count_params:256\u001b[0m\n",
      "\u001b[34m[2021-10-21 17:20:41.496 algo-1:86 INFO hook.py:594] name:model.l0.encoder.layer.5.attention.self.value.weight count_params:65536\u001b[0m\n",
      "\u001b[34m[2021-10-21 17:20:41.496 algo-1:86 INFO hook.py:594] name:model.l0.encoder.layer.5.attention.self.value.bias count_params:256\u001b[0m\n",
      "\u001b[34m[2021-10-21 17:20:41.496 algo-1:86 INFO hook.py:594] name:model.l0.encoder.layer.5.attention.output.dense.weight count_params:65536\u001b[0m\n",
      "\u001b[34m[2021-10-21 17:20:41.496 algo-1:86 INFO hook.py:594] name:model.l0.encoder.layer.5.attention.output.dense.bias count_params:256\u001b[0m\n",
      "\u001b[34m[2021-10-21 17:20:41.496 algo-1:86 INFO hook.py:594] name:model.l0.encoder.layer.5.attention.output.LayerNorm.weight count_params:256\u001b[0m\n",
      "\u001b[34m[2021-10-21 17:20:41.496 algo-1:86 INFO hook.py:594] name:model.l0.encoder.layer.5.attention.output.LayerNorm.bias count_params:256\u001b[0m\n",
      "\u001b[34m[2021-10-21 17:20:41.496 algo-1:86 INFO hook.py:594] name:model.l0.encoder.layer.5.intermediate.dense.weight count_params:262144\u001b[0m\n",
      "\u001b[34m[2021-10-21 17:20:41.497 algo-1:86 INFO hook.py:594] name:model.l0.encoder.layer.5.intermediate.dense.bias count_params:1024\u001b[0m\n",
      "\u001b[34m[2021-10-21 17:20:41.497 algo-1:86 INFO hook.py:594] name:model.l0.encoder.layer.5.output.dense.weight count_params:262144\u001b[0m\n",
      "\u001b[34m[2021-10-21 17:20:41.497 algo-1:86 INFO hook.py:594] name:model.l0.encoder.layer.5.output.dense.bias count_params:256\u001b[0m\n",
      "\u001b[34m[2021-10-21 17:20:41.497 algo-1:86 INFO hook.py:594] name:model.l0.encoder.layer.5.output.LayerNorm.weight count_params:256\u001b[0m\n",
      "\u001b[34m[2021-10-21 17:20:41.497 algo-1:86 INFO hook.py:594] name:model.l0.encoder.layer.5.output.LayerNorm.bias count_params:256\u001b[0m\n",
      "\u001b[34m[2021-10-21 17:20:41.497 algo-1:86 INFO hook.py:594] name:model.l0.pooler.dense.weight count_params:65536\u001b[0m\n",
      "\u001b[34m[2021-10-21 17:20:41.497 algo-1:86 INFO hook.py:594] name:model.l0.pooler.dense.bias count_params:256\u001b[0m\n",
      "\u001b[34m[2021-10-21 17:20:41.497 algo-1:86 INFO hook.py:594] name:model.l2.weight count_params:38400\u001b[0m\n",
      "\u001b[34m[2021-10-21 17:20:41.497 algo-1:86 INFO hook.py:594] name:model.l2.bias count_params:150\u001b[0m\n",
      "\u001b[34m[2021-10-21 17:20:41.497 algo-1:86 INFO hook.py:594] name:model.l3.weight count_params:150\u001b[0m\n",
      "\u001b[34m[2021-10-21 17:20:41.497 algo-1:86 INFO hook.py:594] name:model.l3.bias count_params:150\u001b[0m\n",
      "\u001b[34m[2021-10-21 17:20:41.498 algo-1:86 INFO hook.py:594] name:model.l5.weight count_params:1650\u001b[0m\n",
      "\u001b[34m[2021-10-21 17:20:41.498 algo-1:86 INFO hook.py:594] name:model.l5.bias count_params:11\u001b[0m\n",
      "\u001b[34m[2021-10-21 17:20:41.498 algo-1:86 INFO hook.py:596] Total Trainable Params: 12790591\u001b[0m\n",
      "\u001b[34m[2021-10-21 17:20:41.498 algo-1:86 INFO hook.py:423] Monitoring the collections: losses\u001b[0m\n",
      "\u001b[34m[2021-10-21 17:20:41.505 algo-1:86 INFO hook.py:486] Hook is writing from the hook with pid: 86\n",
      "\u001b[0m\n"
     ]
    },
    {
     "name": "stdout",
     "output_type": "stream",
     "text": [
      "\u001b[34m#015                                                              #015#015Training: 0it [00:00, ?it/s]#015Training:   0%|          | 0/803 [00:00<?, ?it/s]#015Epoch 0:   0%|          | 0/803 [00:00<?, ?it/s] #015Epoch 0:   4%|▎         | 30/803 [00:06<02:37,  4.91it/s]#015Epoch 0:   4%|▎         | 30/803 [00:06<02:37,  4.91it/s, loss=3.95, v_num=0, val_f1_epoch=0.0829, val_loss_epoch=0.690, train_f1=0.515]#015Epoch 0:   7%|▋         | 60/803 [00:11<02:26,  5.07it/s, loss=3.95, v_num=0, val_f1_epoch=0.0829, val_loss_epoch=0.690, train_f1=0.515]#015Epoch 0:   7%|▋         | 60/803 [00:11<02:26,  5.07it/s, loss=2.45, v_num=0, val_f1_epoch=0.0829, val_loss_epoch=0.690, train_f1=0.521]#015Epoch 0:  11%|█         | 90/803 [00:17<02:18,  5.15it/s, loss=2.45, v_num=0, val_f1_epoch=0.0829, val_loss_epoch=0.690, train_f1=0.521]#015Epoch 0:  11%|█         | 90/803 [00:17<02:18,  5.15it/s, loss=2.22, v_num=0, val_f1_epoch=0.0829, val_loss_epoch=0.690, train_f1=0.499]#015Epoch 0:  15%|█▍        | 120/803 [00:23<02:12,  5.14it/s, loss=2.22, v_num=0, val_f1_epoch=0.0829, val_loss_epoch=0.690, train_f1=0.499]#015Epoch 0:  15%|█▍        | 120/803 [00:23<02:12,  5.14it/s, loss=2.1, v_num=0, val_f1_epoch=0.0829, val_loss_epoch=0.690, train_f1=0.534] #015Epoch 0:  19%|█▊        | 150/803 [00:28<02:06,  5.18it/s, loss=2.1, v_num=0, val_f1_epoch=0.0829, val_loss_epoch=0.690, train_f1=0.534]#015Epoch 0:  19%|█▊        | 150/803 [00:28<02:06,  5.18it/s, loss=2, v_num=0, val_f1_epoch=0.0829, val_loss_epoch=0.690, train_f1=0.516]  #015Epoch 0:  22%|██▏       | 180/803 [00:34<01:59,  5.19it/s, loss=2, v_num=0, val_f1_epoch=0.0829, val_loss_epoch=0.690, train_f1=0.516]#015Epoch 0:  22%|██▏       | 180/803 [00:34<01:59,  5.19it/s, loss=2.08, v_num=0, val_f1_epoch=0.0829, val_loss_epoch=0.690, train_f1=0.490]#015Epoch 0:  26%|██▌       | 210/803 [00:40<01:54,  5.19it/s, loss=2.08, v_num=0, val_f1_epoch=0.0829, val_loss_epoch=0.690, train_f1=0.490]#015Epoch 0:  26%|██▌       | 210/803 [00:40<01:54,  5.19it/s, loss=1.85, v_num=0, val_f1_epoch=0.0829, val_loss_epoch=0.690, train_f1=0.475]#015Epoch 0:  30%|██▉       | 240/803 [00:46<01:48,  5.20it/s, loss=1.85, v_num=0, val_f1_epoch=0.0829, val_loss_epoch=0.690, train_f1=0.475]#015Epoch 0:  30%|██▉       | 240/803 [00:46<01:48,  5.20it/s, loss=1.95, v_num=0, val_f1_epoch=0.0829, val_loss_epoch=0.690, train_f1=0.492]#015Epoch 0:  34%|███▎      | 270/803 [00:51<01:42,  5.21it/s, loss=1.95, v_num=0, val_f1_epoch=0.0829, val_loss_epoch=0.690, train_f1=0.492]#015Epoch 0:  34%|███▎      | 270/803 [00:51<01:42,  5.21it/s, loss=1.76, v_num=0, val_f1_epoch=0.0829, val_loss_epoch=0.690, train_f1=0.490]#015Epoch 0:  37%|███▋      | 300/803 [00:57<01:36,  5.22it/s, loss=1.76, v_num=0, val_f1_epoch=0.0829, val_loss_epoch=0.690, train_f1=0.490]#015Epoch 0:  37%|███▋      | 300/803 [00:57<01:36,  5.22it/s, loss=2.19, v_num=0, val_f1_epoch=0.0829, val_loss_epoch=0.690, train_f1=0.488]#015Epoch 0:  41%|████      | 330/803 [01:03<01:30,  5.20it/s, loss=2.19, v_num=0, val_f1_epoch=0.0829, val_loss_epoch=0.690, train_f1=0.488]#015Epoch 0:  41%|████      | 330/803 [01:03<01:30,  5.20it/s, loss=1.89, v_num=0, val_f1_epoch=0.0829, val_loss_epoch=0.690, train_f1=0.506]#015Epoch 0:  45%|████▍     | 360/803 [01:09<01:24,  5.22it/s, loss=1.89, v_num=0, val_f1_epoch=0.0829, val_loss_epoch=0.690, train_f1=0.506]#015Epoch 0:  45%|████▍     | 360/803 [01:09<01:24,  5.22it/s, loss=1.99, v_num=0, val_f1_epoch=0.0829, val_loss_epoch=0.690, train_f1=0.493]#015Epoch 0:  49%|████▊     | 390/803 [01:14<01:18,  5.23it/s, loss=1.99, v_num=0, val_f1_epoch=0.0829, val_loss_epoch=0.690, train_f1=0.493]#015Epoch 0:  49%|████▊     | 390/803 [01:14<01:18,  5.23it/s, loss=1.76, v_num=0, val_f1_epoch=0.0829, val_loss_epoch=0.690, train_f1=0.475]#015Epoch 0:  52%|█████▏    | 420/803 [01:20<01:13,  5.22it/s, loss=1.76, v_num=0, val_f1_epoch=0.0829, val_loss_epoch=0.690, train_f1=0.475]#015Epoch 0:  52%|█████▏    | 420/803 [01:20<01:13,  5.22it/s, loss=1.84, v_num=0, val_f1_epoch=0.0829, val_loss_epoch=0.690, train_f1=0.493]#015Epoch 0:  56%|█████▌    | 450/803 [01:26<01:07,  5.23it/s, loss=1.84, v_num=0, val_f1_epoch=0.0829, val_loss_epoch=0.690, train_f1=0.493]#015Epoch 0:  56%|█████▌    | 450/803 [01:26<01:07,  5.23it/s, loss=1.87, v_num=0, val_f1_epoch=0.0829, val_loss_epoch=0.690, train_f1=0.474]#015Epoch 0:  60%|█████▉    | 480/803 [01:31<01:01,  5.24it/s, loss=1.87, v_num=0, val_f1_epoch=0.0829, val_loss_epoch=0.690, train_f1=0.474]#015Epoch 0:  60%|█████▉    | 480/803 [01:31<01:01,  5.24it/s, loss=1.94, v_num=0, val_f1_epoch=0.0829, val_loss_epoch=0.690, train_f1=0.474]#015Epoch 0:  64%|██████▎   | 510/803 [01:37<00:55,  5.25it/s, loss=1.94, v_num=0, val_f1_epoch=0.0829, val_loss_epoch=0.690, train_f1=0.474]#015Epoch 0:  64%|██████▎   | 510/803 [01:37<00:55,  5.25it/s, loss=1.83, v_num=0, val_f1_epoch=0.0829, val_loss_epoch=0.690, train_f1=0.472]#015Epoch 0:  67%|██████▋   | 540/803 [01:42<00:50,  5.25it/s, loss=1.83, v_num=0, val_f1_epoch=0.0829, val_loss_epoch=0.690, train_f1=0.472]#015Epoch 0:  67%|██████▋   | 540/803 [01:42<00:50,  5.25it/s, loss=1.69, v_num=0, val_f1_epoch=0.0829, val_loss_epoch=0.690, train_f1=0.491]#015Epoch 0:  71%|███████   | 570/803 [01:48<00:44,  5.26it/s, loss=1.69, v_num=0, val_f1_epoch=0.0829, val_loss_epoch=0.690, train_f1=0.491]#015Epoch 0:  71%|███████   | 570/803 [01:48<00:44,  5.26it/s, loss=1.77, v_num=0, val_f1_epoch=0.0829, val_loss_epoch=0.690, train_f1=0.488]#015Epoch 0:  75%|███████▍  | 600/803 [01:53<00:38,  5.27it/s, loss=1.77, v_num=0, val_f1_epoch=0.0829, val_loss_epoch=0.690, train_f1=0.488]#015Epoch 0:  75%|███████▍  | 600/803 [01:53<00:38,  5.27it/s, loss=1.9, v_num=0, val_f1_epoch=0.0829, val_loss_epoch=0.690, train_f1=0.473] #015Epoch 0:  78%|███████▊  | 630/803 [01:59<00:32,  5.28it/s, loss=1.9, v_num=0, val_f1_epoch=0.0829, val_loss_epoch=0.690, train_f1=0.473]#015Epoch 0:  78%|███████▊  | 630/803 [01:59<00:32,  5.28it/s, loss=1.84, v_num=0, val_f1_epoch=0.0829, val_loss_epoch=0.690, train_f1=0.500]#015Epoch 0:  82%|████████▏ | 660/803 [02:05<00:27,  5.28it/s, loss=1.84, v_num=0, val_f1_epoch=0.0829, val_loss_epoch=0.690, train_f1=0.500]#015Epoch 0:  82%|████████▏ | 660/803 [02:05<00:27,  5.28it/s, loss=1.82, v_num=0, val_f1_epoch=0.0829, val_loss_epoch=0.690, train_f1=0.507]#015Epoch 0:  86%|████████▌ | 690/803 [02:10<00:21,  5.29it/s, loss=1.82, v_num=0, val_f1_epoch=0.0829, val_loss_epoch=0.690, train_f1=0.507]#015Epoch 0:  86%|████████▌ | 690/803 [02:10<00:21,  5.29it/s, loss=1.82, v_num=0, val_f1_epoch=0.0829, val_loss_epoch=0.690, train_f1=0.524]#015Epoch 0:  90%|████████▉ | 720/803 [02:16<00:15,  5.29it/s, loss=1.82, v_num=0, val_f1_epoch=0.0829, val_loss_epoch=0.690, train_f1=0.524]#015Epoch 0:  90%|████████▉ | 720/803 [02:16<00:15,  5.29it/s, loss=1.8, v_num=0, val_f1_epoch=0.0829, val_loss_epoch=0.690, train_f1=0.490] #015Epoch 0:  93%|█████████▎| 750/803 [02:21<00:09,  5.31it/s, loss=1.8, v_num=0, val_f1_epoch=0.0829, val_loss_epoch=0.690, train_f1=0.490]\u001b[0m\n",
      "\u001b[34m#015Validating: 0it [00:00, ?it/s]#033[A\u001b[0m\n",
      "\u001b[34m#015Validating:   0%|          | 0/56 [00:00<?, ?it/s]#033[A\u001b[0m\n",
      "\u001b[34m#015Validating:  54%|█████▎    | 30/56 [00:03<00:03,  8.22it/s]#033[A#015Epoch 0:  97%|█████████▋| 780/803 [02:24<00:04,  5.38it/s, loss=1.8, v_num=0, val_f1_epoch=0.0829, val_loss_epoch=0.690, train_f1=0.490]\u001b[0m\n",
      "\u001b[34m#015Validating: 100%|██████████| 56/56 [00:06<00:00,  8.43it/s]#033[A#015Epoch 0: 100%|██████████| 803/803 [02:27<00:00,  5.43it/s, loss=1.75, v_num=0, val_f1_epoch=0.486, val_loss_epoch=0.228, train_f1=0.511, val_f1_step=0.479, val_loss_step=0.207]\u001b[0m\n",
      "\u001b[34m#015                                                           #033[A#015Epoch 0: 100%|██████████| 803/803 [02:28<00:00,  5.41it/s, loss=1.75, v_num=0, val_f1_epoch=0.486, val_loss_epoch=0.228, train_f1=0.511, val_f1_step=0.479, val_loss_step=0.207]\u001b[0m\n",
      "\u001b[34m#015Validation sanity check: 0it [00:00, ?it/s]#015Validation sanity check:   0%|          | 0/2 [00:00<?, ?it/s]#015                                                              #015#015Training: 0it [00:00, ?it/s]#015Training:   0%|          | 0/221 [00:00<?, ?it/s]#015Epoch 0:   0%|          | 0/221 [00:00<?, ?it/s] #015Epoch 0:  14%|█▎        | 30/221 [00:05<00:36,  5.26it/s]#015Epoch 0:  14%|█▎        | 30/221 [00:05<00:36,  5.26it/s, loss=1.18, v_num=0, val_f1_epoch=0.0714, val_loss_epoch=0.701, train_f1=0.775]#015Epoch 0:  27%|██▋       | 60/221 [00:11<00:30,  5.26it/s, loss=1.18, v_num=0, val_f1_epoch=0.0714, val_loss_epoch=0.701, train_f1=0.775]#015Epoch 0:  27%|██▋       | 60/221 [00:11<00:30,  5.26it/s, loss=1.11, v_num=0, val_f1_epoch=0.0714, val_loss_epoch=0.701, train_f1=0.726]#015Epoch 0:  41%|████      | 90/221 [00:16<00:24,  5.32it/s, loss=1.11, v_num=0, val_f1_epoch=0.0714, val_loss_epoch=0.701, train_f1=0.726]#015Epoch 0:  41%|████      | 90/221 [00:16<00:24,  5.32it/s, loss=1.16, v_num=0, val_f1_epoch=0.0714, val_loss_epoch=0.701, train_f1=0.638]#015Epoch 0:  54%|█████▍    | 120/221 [00:22<00:18,  5.33it/s, loss=1.16, v_num=0, val_f1_epoch=0.0714, val_loss_epoch=0.701, train_f1=0.638]#015Epoch 0:  54%|█████▍    | 120/221 [00:22<00:18,  5.33it/s, loss=1.1, v_num=0, val_f1_epoch=0.0714, val_loss_epoch=0.701, train_f1=0.633] #015Epoch 0:  68%|██████▊   | 150/221 [00:28<00:13,  5.36it/s, loss=1.1, v_num=0, val_f1_epoch=0.0714, val_loss_epoch=0.701, train_f1=0.633]#015Epoch 0:  68%|██████▊   | 150/221 [00:28<00:13,  5.36it/s, loss=1.11, v_num=0, val_f1_epoch=0.0714, val_loss_epoch=0.701, train_f1=0.635]#015Epoch 0:  81%|████████▏ | 180/221 [00:33<00:07,  5.40it/s, loss=1.11, v_num=0, val_f1_epoch=0.0714, val_loss_epoch=0.701, train_f1=0.635]\u001b[0m\n",
      "\u001b[34m#015Validating: 0it [00:00, ?it/s]#033[A\u001b[0m\n",
      "\u001b[34m#015Validating:   0%|          | 0/42 [00:00<?, ?it/s]#033[A\u001b[0m\n"
     ]
    },
    {
     "name": "stdout",
     "output_type": "stream",
     "text": [
      "\u001b[34m#015Validating:  71%|███████▏  | 30/42 [00:03<00:01,  8.28it/s]#033[A#015Epoch 0:  95%|█████████▌| 210/221 [00:36<00:01,  5.68it/s, loss=1.11, v_num=0, val_f1_epoch=0.0714, val_loss_epoch=0.701, train_f1=0.635]\u001b[0m\n",
      "\u001b[34m#015Validating: 100%|██████████| 42/42 [00:04<00:00,  8.53it/s]#033[A#015Epoch 0: 100%|██████████| 221/221 [00:38<00:00,  5.76it/s, loss=1.14, v_num=0, val_f1_epoch=0.496, val_loss_epoch=0.457, train_f1=0.530, val_f1_step=0.572, val_loss_step=0.378]\u001b[0m\n",
      "\u001b[34m#015                                                           #033[A#015Epoch 0: 100%|██████████| 221/221 [00:38<00:00,  5.69it/s, loss=1.14, v_num=0, val_f1_epoch=0.496, val_loss_epoch=0.457, train_f1=0.530, val_f1_step=0.572, val_loss_step=0.378]\u001b[0m\n",
      "\u001b[34m2021-10-21 17:19:53.663690: I tensorflow/stream_executor/platform/default/dso_loader.cc:49] Successfully opened dynamic library libcudart.so.11.0\u001b[0m\n",
      "\u001b[34m/opt/conda/lib/python3.6/site-packages/pytorch_lightning/core/decorators.py:65: LightningDeprecationWarning: The `@auto_move_data` decorator is deprecated in v1.3 and will be removed in v1.5. Please use `trainer.predict` instead for inference. The decorator was applied to `forward`\n",
      "  \"The `@auto_move_data` decorator is deprecated in v1.3 and will be removed in v1.5.\"\u001b[0m\n",
      "\u001b[34mINFO:root:reading, preprocessing data\u001b[0m\n",
      "\u001b[34m2021/10/21 17:19:57 WARNING mlflow.utils.autologging_utils: You are using an unsupported version of pytorch. If you encounter errors during autologging, try upgrading / downgrading pytorch to a supported version, or try upgrading MLflow.\u001b[0m\n",
      "\u001b[34mINFO:numexpr.utils:NumExpr defaulting to 4 threads.\u001b[0m\n",
      "\u001b[34mGPU available: True, used: True\u001b[0m\n",
      "\u001b[34mTPU available: False, using: 0 TPU cores\u001b[0m\n",
      "\u001b[34m#015Downloading:   0%|          | 0.00/525 [00:00<?, ?B/s]#015Downloading: 100%|██████████| 525/525 [00:00<00:00, 563kB/s]\u001b[0m\n",
      "\u001b[34m#015Downloading:   0%|          | 0.00/232k [00:00<?, ?B/s]#015Downloading: 100%|██████████| 232k/232k [00:00<00:00, 21.1MB/s]\u001b[0m\n",
      "\u001b[34m#015Downloading:   0%|          | 0.00/51.0M [00:00<?, ?B/s]#015Downloading:   9%|▉         | 4.78M/51.0M [00:00<00:00, 47.8MB/s]#015Downloading:  17%|█▋        | 8.56M/51.0M [00:00<00:00, 44.3MB/s]#015Downloading:  24%|██▍       | 12.4M/51.0M [00:00<00:00, 42.1MB/s]#015Downloading:  31%|███       | 15.9M/51.0M [00:00<00:00, 39.9MB/s]#015Downloading:  37%|███▋      | 19.1M/51.0M [00:00<00:00, 37.0MB/s]#015Downloading:  43%|████▎     | 22.1M/51.0M [00:00<00:00, 33.9MB/s]#015Downloading:  49%|████▉     | 25.0M/51.0M [00:00<00:00, 29.6MB/s]#015Downloading:  58%|█████▊    | 29.6M/51.0M [00:00<00:00, 33.1MB/s]#015Downloading:  66%|██████▌   | 33.6M/51.0M [00:00<00:00, 34.7MB/s]#015Downloading:  73%|███████▎  | 37.1M/51.0M [00:01<00:00, 31.7MB/s]#015Downloading:  79%|███████▉  | 40.4M/51.0M [00:01<00:00, 32.0MB/s]#015Downloading:  85%|████████▌ | 43.6M/51.0M [00:01<00:00, 31.7MB/s]#015Downloading:  93%|█████████▎| 47.7M/51.0M [00:01<00:00, 33.9MB/s]#015Downloading: 100%|██████████| 51.0M/51.0M [00:01<00:00, 33.6MB/s]\u001b[0m\n",
      "\u001b[34mLOCAL_RANK: 0 - CUDA_VISIBLE_DEVICES: [0]\u001b[0m\n",
      "\u001b[34m/opt/conda/lib/python3.6/site-packages/pytorch_lightning/trainer/deprecated_api.py:152: LightningDeprecationWarning: `Trainer.running_sanity_check` has been renamed to `Trainer.sanity_checking` and will be removed in v1.5.\n",
      "  \"`Trainer.running_sanity_check` has been renamed to `Trainer.sanity_checking` and will be removed in v1.5.\"\u001b[0m\n",
      "\u001b[34m/opt/conda/lib/python3.6/site-packages/pytorch_lightning/trainer/callback_hook.py:101: LightningDeprecationWarning: The signature of `Callback.on_train_epoch_end` has changed in v1.3. `outputs` parameter has been removed. Support for the old signature will be removed in v1.5\n",
      "  \"The signature of `Callback.on_train_epoch_end` has changed in v1.3.\"\u001b[0m\n",
      "\u001b[34mEpoch 0, global step 746: val_loss reached 0.20742 (best 0.20742), saving model to \"/opt/ml/model/model_sectors.ckpt\" as top 1\u001b[0m\n",
      "\u001b[34mFIT Profiler Report\n",
      "\u001b[0m\n",
      "\u001b[34mAction                             #011|  Mean duration (s)#011|Num calls      #011|  Total time (s) #011|  Percentage %   #011|\u001b[0m\n",
      "\u001b[34m--------------------------------------------------------------------------------------------------------------------------------------\u001b[0m\n",
      "\u001b[34mTotal                              #011|  -              #011|_              #011|  194.66         #011|  100 %          #011|\u001b[0m\n",
      "\u001b[34m--------------------------------------------------------------------------------------------------------------------------------------\u001b[0m\n",
      "\u001b[34mrun_training_epoch                 #011|  148.53         #011|1              #011|  148.53         #011|  76.302         #011|\u001b[0m\n",
      "\u001b[34mrun_training_batch                 #011|  0.18317        #011|747            #011|  136.82         #011|  70.289         #011|\u001b[0m\n",
      "\u001b[34moptimizer_step_and_closure_0       #011|  0.18182        #011|747            #011|  135.82         #011|  69.773         #011|\u001b[0m\n",
      "\u001b[34mtraining_step_and_backward         #011|  0.17201        #011|747            #011|  128.49         #011|  66.008         #011|\u001b[0m\n",
      "\u001b[34mbackward                           #011|  0.10495        #011|747            #011|  78.397         #011|  40.274         #011|\u001b[0m\n",
      "\u001b[34mmodel_forward                      #011|  0.065229       #011|747            #011|  48.726         #011|  25.031         #011|\u001b[0m\n",
      "\u001b[34mtraining_step                      #011|  0.064859       #011|747            #011|  48.449         #011|  24.889         #011|\u001b[0m\n",
      "\u001b[34mevaluation_step_and_end            #011|  0.15502        #011|58             #011|  8.9913         #011|  4.619          #011|\u001b[0m\n",
      "\u001b[34mvalidation_step                    #011|  0.15477        #011|58             #011|  8.9767         #011|  4.6115         #011|\u001b[0m\n",
      "\u001b[34mget_train_batch                    #011|  0.0036761      #011|747            #011|  2.746          #011|  1.4107         #011|\u001b[0m\n",
      "\u001b[34mon_validation_end                  #011|  0.30325        #011|2              #011|  0.6065         #011|  0.31157        #011|\u001b[0m\n",
      "\u001b[34mon_train_start                     #011|  0.53406        #011|1              #011|  0.53406        #011|  0.27435        #011|\u001b[0m\n",
      "\u001b[34mcache_result                       #011|  2.5975e-05     #011|3185           #011|  0.082731       #011|  0.0425         #011|\u001b[0m\n",
      "\u001b[34mon_train_batch_end                 #011|  0.00010854     #011|747            #011|  0.081083       #011|  0.041653       #011|\u001b[0m\n",
      "\u001b[34mon_after_backward                  #011|  3.5627e-05     #011|747            #011|  0.026614       #011|  0.013672       #011|\u001b[0m\n",
      "\u001b[34mon_batch_start                     #011|  2.8724e-05     #011|747            #011|  0.021457       #011|  0.011023       #011|\u001b[0m\n",
      "\u001b[34mon_before_zero_grad                #011|  2.5793e-05     #011|747            #011|  0.019267       #011|  0.0098979      #011|\u001b[0m\n",
      "\u001b[34mon_batch_end                       #011|  2.4678e-05     #011|747            #011|  0.018434       #011|  0.0094701      #011|\u001b[0m\n",
      "\u001b[34mon_train_batch_start               #011|  2.0829e-05     #011|747            #011|  0.015559       #011|  0.007993       #011|\u001b[0m\n",
      "\u001b[34mtraining_step_end                  #011|  1.7986e-05     #011|747            #011|  0.013436       #011|  0.0069022      #011|\u001b[0m\n",
      "\u001b[34mon_validation_batch_end            #011|  6.4198e-05     #011|58             #011|  0.0037235      #011|  0.0019128      #011|\u001b[0m\n",
      "\u001b[34mon_validation_epoch_end            #011|  0.0011336      #011|2              #011|  0.0022673      #011|  0.0011647      #011|\u001b[0m\n",
      "\u001b[34mon_validation_batch_start          #011|  3.1947e-05     #011|58             #011|  0.001853       #011|  0.00095189     #011|\u001b[0m\n",
      "\u001b[34mon_train_epoch_end                 #011|  0.0014203      #011|1              #011|  0.0014203      #011|  0.00072963     #011|\u001b[0m\n",
      "\u001b[34mon_validation_start                #011|  0.00048173     #011|2              #011|  0.00096345     #011|  0.00049494     #011|\u001b[0m\n",
      "\u001b[34m2021-10-21 17:25:22,752 sagemaker-training-toolkit INFO     Reporting training SUCCESS\u001b[0m\n",
      "\u001b[34mvalidation_step_end                #011|  1.6451e-05     #011|58             #011|  0.00095416     #011|  0.00049016     #011|\u001b[0m\n",
      "\u001b[34mon_train_end                       #011|  0.00054412     #011|1              #011|  0.00054412     #011|  0.00027952     #011|\u001b[0m\n",
      "\u001b[34mon_train_epoch_start               #011|  0.0004002      #011|1              #011|  0.0004002      #011|  0.00020559     #011|\u001b[0m\n",
      "\u001b[34mon_epoch_end                       #011|  3.026e-05      #011|3              #011|  9.078e-05      #011|  4.6635e-05     #011|\u001b[0m\n",
      "\u001b[34mon_epoch_start                     #011|  2.7803e-05     #011|3              #011|  8.341e-05      #011|  4.2849e-05     #011|\u001b[0m\n",
      "\u001b[34mon_fit_start                       #011|  5.1738e-05     #011|1              #011|  5.1738e-05     #011|  2.6579e-05     #011|\u001b[0m\n",
      "\u001b[34mon_validation_epoch_start          #011|  1.8182e-05     #011|2              #011|  3.6364e-05     #011|  1.8681e-05     #011|\u001b[0m\n",
      "\u001b[34mon_val_dataloader                  #011|  2.669e-05      #011|1              #011|  2.669e-05      #011|  1.3711e-05     #011|\u001b[0m\n",
      "\u001b[34mon_train_dataloader                #011|  2.4473e-05     #011|1              #011|  2.4473e-05     #011|  1.2572e-05     #011|\u001b[0m\n",
      "\u001b[34mon_before_accelerator_backend_setup#011|  2.3349e-05     #011|1              #011|  2.3349e-05     #011|  1.1995e-05     #011|\n",
      "\u001b[0m\n",
      "\u001b[34m#015  0%|          | 0/55 [00:00<?, ?it/s]#015  2%|▏         | 1/55 [00:00<00:16,  3.37it/s]#015  4%|▎         | 2/55 [00:00<00:12,  4.15it/s]#015  5%|▌         | 3/55 [00:00<00:10,  4.98it/s]#015  7%|▋         | 4/55 [00:00<00:08,  5.69it/s]#015  9%|▉         | 5/55 [00:00<00:07,  6.38it/s]#015 11%|█         | 6/55 [00:00<00:07,  6.92it/s]#015 13%|█▎        | 7/55 [00:00<00:06,  7.46it/s]#015 15%|█▍        | 8/55 [00:01<00:05,  7.89it/s]#015 16%|█▋        | 9/55 [00:01<00:05,  8.12it/s]#015 18%|█▊        | 10/55 [00:01<00:05,  8.29it/s]#015 20%|██        | 11/55 [00:01<00:05,  8.45it/s]#015 22%|██▏       | 12/55 [00:01<00:04,  8.60it/s]#015 24%|██▎       | 13/55 [00:01<00:04,  8.72it/s]#015 25%|██▌       | 14/55 [00:01<00:04,  8.79it/s]#015 27%|██▋       | 15/55 [00:01<00:04,  8.84it/s]#015 29%|██▉       | 16/55 [00:01<00:04,  8.88it/s]#015 31%|███       | 17/55 [00:02<00:04,  8.81it/s]#015 33%|███▎      | 18/55 [00:02<00:04,  8.79it/s]#015 35%|███▍      | 19/55 [00:02<00:04,  8.79it/s]#015 36%|███▋      | 20/55 [00:02<00:03,  8.83it/s]#015 38%|███▊      | 21/55 [00:02<00:03,  8.87it/s]#015 40%|████      | 22/55 [00:02<00:03,  8.90it/s]#015 42%|████▏     | 23/55 [00:02<00:03,  8.89it/s]#015 44%|████▎     | 24/55 [00:02<00:03,  8.90it/s]#015 45%|████▌     | 25/55 [00:02<00:03,  8.83it/s]#015 47%|████▋     | 26/55 [00:03<00:03,  8.79it/s]#015 49%|████▉     | 27/55 [00:03<00:03,  8.78it/s]#015 51%|█████     | 28/55 [00:03<00:03,  8.82it/s]#015 53%|█████▎    | 29/55 [00:03<00:02,  8.86it/s]#015 55%|█████▍    | 30/55 [00:03<00:02,  8.88it/s]#015 56%|█████▋    | 31/55 [00:03<00:02,  8.91it/s]#015 58%|█████▊    | 32/55 [00:03<00:02,  8.92it/s]#015 60%|██████    | 33/55 [00:03<00:02,  8.83it/s]#015 62%|██████▏   | 34/55 [00:04<00:02,  8.78it/s]#015 64%|██████▎   | 35/55 [00:04<00:02,  8.81it/s]#015 65%|██████▌   | 36/55 [00:04<00:02,  8.85it/s]#015 67%|██████▋   | 37/55 [00:04<00:02,  8.88it/s]#015 69%|██████▉   | 38/55 [00:04<00:01,  8.91it/s]#015 71%|███████   | 39/55 [00:04<00:01,  8.93it/s]#015 73%|███████▎  | 40/55 [00:04<00:01,  8.93it/s]#015 75%|███████▍  | 41/55 [00:04<00:01,  8.86it/s]#015 76%|███████▋  | 42/55 [00:04<00:01,  8.82it/s]#015 78%|███████▊  | 43/55 [00:05<00:01,  8.86it/s]#015 80%|████████  | 44/55 [00:05<00:01,  8.85it/s]#015 82%|████████▏ | 45/55 [00:05<00:01,  8.87it/s]#015 84%|████████▎ | 46/55 [00:05<00:01,  8.89it/s]#015 85%|████████▌ | 47/55 [00:05<00:00,  8.91it/s]#015 87%|████████▋ | 48/55 [00:05<00:00,  8.93it/s]#015 89%|████████▉ | 49/55 [00:05<00:00,  8.96it/s]#015 91%|█████████ | 50/55 [00:05<00:00,  8.91it/s]#015 93%|█████████▎| 51/55 [00:05<00:00,  8.84it/s]#015 95%|█████████▍| 52/55 [00:06<00:00,  8.82it/s]#015 96%|█████████▋| 53/55 [00:06<00:00,  8.85it/s]#015 98%|█████████▊| 54/55 [00:06<00:00,  8.88it/s]#015100%|██████████| 55/55 [00:06<00:00,  8.89it/s]#01556it [00:06,  8.69it/s]                        \u001b[0m\n",
      "\u001b[34m#015  0%|          | 0/55 [00:00<?, ?it/s]#015  2%|▏         | 1/55 [00:00<00:17,  3.14it/s]#015  4%|▎         | 2/55 [00:00<00:13,  3.92it/s]#015  5%|▌         | 3/55 [00:00<00:10,  4.73it/s]#015  7%|▋         | 4/55 [00:00<00:09,  5.51it/s]#015  9%|▉         | 5/55 [00:00<00:08,  6.15it/s]#015 11%|█         | 6/55 [00:00<00:07,  6.74it/s]#015 13%|█▎        | 7/55 [00:00<00:06,  7.30it/s]#015 15%|█▍        | 8/55 [00:01<00:06,  7.75it/s]#015 16%|█▋        | 9/55 [00:01<00:05,  8.06it/s]#015 18%|█▊        | 10/55 [00:01<00:05,  8.31it/s]#015 20%|██        | 11/55 [00:01<00:05,  8.49it/s]#015 22%|██▏       | 12/55 [00:01<00:04,  8.60it/s]#015 24%|██▎       | 13/55 [00:01<00:04,  8.75it/s]#015 25%|██▌       | 14/55 [00:01<00:04,  8.80it/s]#015 27%|██▋       | 15/55 [00:01<00:04,  8.77it/s]#015 29%|██▉       | 16/55 [00:02<00:04,  8.78it/s]#015 31%|███       | 17/55 [00:02<00:04,  8.83it/s]#015 33%|███▎      | 18/55 [00:02<00:04,  8.89it/s]#015 35%|███▍      | 19/55 [00:02<00:04,  8.90it/s]#015 36%|███▋      | 20/55 [00:02<00:03,  8.91it/s]#015 38%|███▊      | 21/55 [00:02<00:03,  8.87it/s]#015 40%|████      | 22/55 [00:02<00:03,  8.89it/s]#015 42%|████▏     | 23/55 [00:02<00:03,  8.88it/s]#015 44%|████▎     | 24/55 [00:02<00:03,  8.89it/s]#015 45%|████▌     | 25/55 [00:03<00:03,  8.92it/s]#015 47%|████▋     | 26/55 [00:03<00:03,  8.93it/s]#015 49%|████▉     | 27/55 [00:03<00:03,  8.92it/s]#015 51%|█████     | 28/55 [00:03<00:03,  8.92it/s]#015 53%|█████▎    | 29/55 [00:03<00:02,  8.96it/s]#015 55%|█████▍    | 30/55 [00:03<00:02,  9.00it/s]#015 56%|█████▋    | 31/55 [00:03<00:02,  8.95it/s]#015 58%|█████▊    | 32/55 [00:03<00:02,  8.91it/s]#015 60%|██████    | 33/55 [00:03<00:02,  8.89it/s]#015 62%|██████▏   | 34/55 [00:04<00:02,  8.89it/s]#015 64%|██████▎   | 35/55 [00:04<00:02,  8.90it/s]#015 65%|██████▌   | 36/55 [00:04<00:02,  8.92it/s]#015 67%|██████▋   | 37/55 [00:04<00:02,  8.94it/s]#015 69%|██████▉   | 38/55 [00:04<00:01,  8.96it/s]#015 71%|███████   | 39/55 [00:04<00:01,  8.98it/s]#015 73%|███████▎  | 40/55 [00:04<00:01,  8.93it/s]#015 75%|███████▍  | 41/55 [00:04<00:01,  8.92it/s]#015 76%|███████▋  | 42/55 [00:04<00:01,  8.92it/s]#015 78%|███████▊  | 43/55 [00:05<00:01,  8.93it/s]#015 80%|████████  | 44/55 [00:05<00:01,  8.93it/s]#015 82%|████████▏ | 45/55 [00:05<00:01,  8.93it/s]#015 84%|████████▎ | 46/55 [00:05<00:01,  8.91it/s]#015 85%|████████▌ | 47/55 [00:05<00:00,  8.97it/s]#015 87%|████████▋ | 48/55 [00:05<00:00,  8.96it/s]#015 89%|████████▉ | 49/55 [00:05<00:00,  8.91it/s]#015 91%|█████████ | 50/55 [00:05<00:00,  8.88it/s]#015 93%|█████████▎| 51/55 [00:05<00:00,  8.36it/s]#015 95%|█████████▍| 52/55 [00:06<00:00,  8.58it/s]#015 96%|█████████▋| 53/55 [00:06<00:00,  8.77it/s]#015 98%|█████████▊| 54/55 [00:06<00:00,  8.87it/s]#015100%|██████████| 55/55 [00:06<00:00,  8.94it/s]#01556it [00:06,  8.69it/s]                        \u001b[0m\n",
      "\u001b[34mGPU available: True, used: True\u001b[0m\n",
      "\u001b[34mTPU available: False, using: 0 TPU cores\u001b[0m\n",
      "\u001b[34mLOCAL_RANK: 0 - CUDA_VISIBLE_DEVICES: [0]\u001b[0m\n",
      "\u001b[34m/opt/conda/lib/python3.6/site-packages/pytorch_lightning/trainer/deprecated_api.py:152: LightningDeprecationWarning: `Trainer.running_sanity_check` has been renamed to `Trainer.sanity_checking` and will be removed in v1.5.\n",
      "  \"`Trainer.running_sanity_check` has been renamed to `Trainer.sanity_checking` and will be removed in v1.5.\"\u001b[0m\n",
      "\u001b[34mEpoch 0, global step 178: val_loss reached 0.37831 (best 0.37831), saving model to \"/opt/ml/model/model_demographic_groups.ckpt\" as top 1\u001b[0m\n",
      "\u001b[34mFIT Profiler Report\n",
      "\u001b[0m\n",
      "\u001b[34mAction                             #011|  Mean duration (s)#011|Num calls      #011|  Total time (s) #011|  Percentage %   #011|\u001b[0m\n",
      "\u001b[34m--------------------------------------------------------------------------------------------------------------------------------------\u001b[0m\n",
      "\u001b[34mTotal                              #011|  -              #011|_              #011|  74.583         #011|  100 %          #011|\u001b[0m\n",
      "\u001b[34m--------------------------------------------------------------------------------------------------------------------------------------\u001b[0m\n",
      "\u001b[34mrun_training_epoch                 #011|  38.872         #011|1              #011|  38.872         #011|  52.12          #011|\u001b[0m\n",
      "\u001b[34mrun_training_batch                 #011|  0.17943        #011|179            #011|  32.118         #011|  43.064         #011|\u001b[0m\n",
      "\u001b[34moptimizer_step_and_closure_0       #011|  0.17834        #011|179            #011|  31.922         #011|  42.801         #011|\u001b[0m\n",
      "\u001b[34mtraining_step_and_backward         #011|  0.16852        #011|179            #011|  30.165         #011|  40.445         #011|\u001b[0m\n",
      "\u001b[34mbackward                           #011|  0.10336        #011|179            #011|  18.502         #011|  24.807         #011|\u001b[0m\n",
      "\u001b[34mmodel_forward                      #011|  0.063343       #011|179            #011|  11.338         #011|  15.202         #011|\u001b[0m\n",
      "\u001b[34mtraining_step                      #011|  0.06297        #011|179            #011|  11.272         #011|  15.113         #011|\u001b[0m\n",
      "\u001b[34mevaluation_step_and_end            #011|  0.10855        #011|44             #011|  4.7763         #011|  6.404          #011|\u001b[0m\n",
      "\u001b[34mvalidation_step                    #011|  0.10824        #011|44             #011|  4.7627         #011|  6.3858         #011|\u001b[0m\n",
      "\u001b[34mget_train_batch                    #011|  0.0045344      #011|179            #011|  0.81166        #011|  1.0883         #011|\u001b[0m\n",
      "\u001b[34mon_validation_end                  #011|  0.26865        #011|2              #011|  0.53729        #011|  0.72039        #011|\u001b[0m\n",
      "\u001b[34mon_train_start                     #011|  0.35066        #011|1              #011|  0.35066        #011|  0.47016        #011|\u001b[0m\n",
      "\u001b[34mcache_result                       #011|  2.8256e-05     #011|871            #011|  0.024611       #011|  0.032998       #011|\u001b[0m\n",
      "\u001b[34mon_train_batch_end                 #011|  0.00011024     #011|179            #011|  0.019734       #011|  0.026459       #011|\u001b[0m\n",
      "\u001b[34mon_after_backward                  #011|  3.7064e-05     #011|179            #011|  0.0066344      #011|  0.0088953      #011|\u001b[0m\n",
      "\u001b[34mon_batch_start                     #011|  2.8879e-05     #011|179            #011|  0.0051693      #011|  0.0069309      #011|\u001b[0m\n",
      "\u001b[34mon_before_zero_grad                #011|  2.6703e-05     #011|179            #011|  0.0047798      #011|  0.0064087      #011|\u001b[0m\n",
      "\u001b[34mon_batch_end                       #011|  2.4695e-05     #011|179            #011|  0.0044203      #011|  0.0059267      #011|\u001b[0m\n",
      "\u001b[34mon_validation_batch_end            #011|  8.6582e-05     #011|44             #011|  0.0038096      #011|  0.0051079      #011|\u001b[0m\n",
      "\u001b[34mon_train_batch_start               #011|  1.9813e-05     #011|179            #011|  0.0035466      #011|  0.0047552      #011|\u001b[0m\n",
      "\u001b[34mtraining_step_end                  #011|  1.8233e-05     #011|179            #011|  0.0032637      #011|  0.0043759      #011|\u001b[0m\n",
      "\u001b[34mon_validation_epoch_end            #011|  0.0010525      #011|2              #011|  0.0021049      #011|  0.0028222      #011|\u001b[0m\n",
      "\u001b[34mon_validation_batch_start          #011|  3.695e-05      #011|44             #011|  0.0016258      #011|  0.0021798      #011|\u001b[0m\n",
      "\u001b[34mon_validation_start                #011|  0.00050005     #011|2              #011|  0.0010001      #011|  0.0013409      #011|\u001b[0m\n",
      "\u001b[34mvalidation_step_end                #011|  2.0044e-05     #011|44             #011|  0.00088193     #011|  0.0011825      #011|\u001b[0m\n",
      "\u001b[34mon_train_end                       #011|  0.00054643     #011|1              #011|  0.00054643     #011|  0.00073265     #011|\u001b[0m\n",
      "\u001b[34mon_train_epoch_start               #011|  0.00044473     #011|1              #011|  0.00044473     #011|  0.00059629     #011|\u001b[0m\n",
      "\u001b[34mon_train_epoch_end                 #011|  0.00030578     #011|1              #011|  0.00030578     #011|  0.00040998     #011|\u001b[0m\n",
      "\u001b[34mon_epoch_start                     #011|  2.8802e-05     #011|3              #011|  8.6405e-05     #011|  0.00011585     #011|\u001b[0m\n",
      "\u001b[34mon_epoch_end                       #011|  2.7608e-05     #011|3              #011|  8.2824e-05     #011|  0.00011105     #011|\u001b[0m\n",
      "\u001b[34mon_validation_epoch_start          #011|  1.824e-05      #011|2              #011|  3.648e-05      #011|  4.8912e-05     #011|\u001b[0m\n",
      "\u001b[34mon_fit_start                       #011|  3.1185e-05     #011|1              #011|  3.1185e-05     #011|  4.1812e-05     #011|\u001b[0m\n",
      "\u001b[34mon_before_accelerator_backend_setup#011|  2.3355e-05     #011|1              #011|  2.3355e-05     #011|  3.1314e-05     #011|\u001b[0m\n",
      "\u001b[34mon_val_dataloader                  #011|  1.7111e-05     #011|1              #011|  1.7111e-05     #011|  2.2942e-05     #011|\u001b[0m\n",
      "\u001b[34mon_train_dataloader                #011|  1.5245e-05     #011|1              #011|  1.5245e-05     #011|  2.044e-05      #011|\n",
      "\u001b[0m\n",
      "\u001b[34m#015  0%|          | 0/41 [00:00<?, ?it/s]#015  2%|▏         | 1/41 [00:00<00:13,  2.98it/s]#015  5%|▍         | 2/41 [00:00<00:10,  3.75it/s]#015  7%|▋         | 3/41 [00:00<00:08,  4.59it/s]#015 10%|▉         | 4/41 [00:00<00:06,  5.41it/s]#015 12%|█▏        | 5/41 [00:00<00:05,  6.10it/s]#015 15%|█▍        | 6/41 [00:00<00:05,  6.74it/s]#015 17%|█▋        | 7/41 [00:00<00:04,  7.28it/s]#015 20%|█▉        | 8/41 [00:01<00:04,  7.76it/s]#015 22%|██▏       | 9/41 [00:01<00:03,  8.08it/s]#015 24%|██▍       | 10/41 [00:01<00:03,  8.33it/s]#015 27%|██▋       | 11/41 [00:01<00:03,  8.49it/s]#015 29%|██▉       | 12/41 [00:01<00:03,  8.61it/s]#015 32%|███▏      | 13/41 [00:01<00:03,  8.71it/s]#015 34%|███▍      | 14/41 [00:01<00:03,  8.76it/s]#015 37%|███▋      | 15/41 [00:01<00:02,  8.84it/s]#015 39%|███▉      | 16/41 [00:01<00:02,  8.90it/s]#015 41%|████▏     | 17/41 [00:02<00:02,  8.90it/s]#015 44%|████▍     | 18/41 [00:02<00:02,  8.88it/s]#015 46%|████▋     | 19/41 [00:02<00:02,  8.87it/s]#015 49%|████▉     | 20/41 [00:02<00:02,  8.91it/s]#015 51%|█████     | 21/41 [00:02<00:02,  8.93it/s]#015 54%|█████▎    | 22/41 [00:02<00:02,  8.95it/s]#015 56%|█████▌    | 23/41 [00:02<00:02,  8.95it/s]#015 59%|█████▊    | 24/41 [00:02<00:01,  8.98it/s]#015 61%|██████    | 25/41 [00:02<00:01,  9.02it/s]#015 63%|██████▎   | 26/41 [00:03<00:01,  8.97it/s]#015 66%|██████▌   | 27/41 [00:03<00:01,  8.92it/s]#015 68%|██████▊   | 28/41 [00:03<00:01,  8.92it/s]#015 71%|███████   | 29/41 [00:03<00:01,  8.94it/s]#015 73%|███████▎  | 30/41 [00:03<00:01,  8.94it/s]#015 76%|███████▌  | 31/41 [00:03<00:01,  8.94it/s]#015 78%|███████▊  | 32/41 [00:03<00:01,  8.95it/s]#015 80%|████████  | 33/41 [00:03<00:00,  8.99it/s]#015 83%|████████▎ | 34/41 [00:04<00:00,  9.03it/s]#015 85%|████████▌ | 35/41 [00:04<00:00,  9.00it/s]#015 88%|████████▊ | 36/41 [00:04<00:00,  8.90it/s]#015 90%|█████████ | 37/41 [00:04<00:00,  8.84it/s]#015 93%|█████████▎| 38/41 [00:04<00:00,  8.91it/s]#015 95%|█████████▌| 39/41 [00:04<00:00,  8.94it/s]#015 98%|█████████▊| 40/41 [00:04<00:00,  8.95it/s]#015100%|██████████| 41/41 [00:04<00:00,  8.96it/s]#01542it [00:04,  8.63it/s]                        \u001b[0m\n",
      "\u001b[34m#015  0%|          | 0/44 [00:00<?, ?it/s]#015  2%|▏         | 1/44 [00:00<00:13,  3.14it/s]#015  5%|▍         | 2/44 [00:00<00:10,  3.93it/s]#015  7%|▋         | 3/44 [00:00<00:08,  4.72it/s]#015  9%|▉         | 4/44 [00:00<00:07,  5.50it/s]#015 11%|█▏        | 5/44 [00:00<00:06,  6.13it/s]#015 14%|█▎        | 6/44 [00:00<00:05,  6.76it/s]#015 16%|█▌        | 7/44 [00:00<00:05,  7.28it/s]#015 18%|█▊        | 8/44 [00:01<00:04,  7.64it/s]#015 20%|██        | 9/44 [00:01<00:04,  7.93it/s]#015 23%|██▎       | 10/44 [00:01<00:04,  8.15it/s]#015 25%|██▌       | 11/44 [00:01<00:03,  8.32it/s]#015 27%|██▋       | 12/44 [00:01<00:03,  8.48it/s]#015 30%|██▉       | 13/44 [00:01<00:03,  8.60it/s]#015 32%|███▏      | 14/44 [00:01<00:03,  8.68it/s]#015 34%|███▍      | 15/44 [00:01<00:03,  8.78it/s]#015 36%|███▋      | 16/44 [00:02<00:03,  8.83it/s]#015 39%|███▊      | 17/44 [00:02<00:03,  8.88it/s]#015 41%|████      | 18/44 [00:02<00:02,  8.92it/s]#015 43%|████▎     | 19/44 [00:02<00:02,  8.94it/s]#015 45%|████▌     | 20/44 [00:02<00:02,  8.98it/s]#015 48%|████▊     | 21/44 [00:02<00:02,  8.99it/s]#015 50%|█████     | 22/44 [00:02<00:02,  8.97it/s]#015 52%|█████▏    | 23/44 [00:02<00:02,  8.95it/s]#015 55%|█████▍    | 24/44 [00:02<00:02,  8.95it/s]#015 57%|█████▋    | 25/44 [00:03<00:02,  8.95it/s]#015 59%|█████▉    | 26/44 [00:03<00:02,  8.95it/s]#015 61%|██████▏   | 27/44 [00:03<00:01,  8.96it/s]#015 64%|██████▎   | 28/44 [00:03<00:01,  8.98it/s]#015 66%|██████▌   | 29/44 [00:03<00:01,  9.02it/s]#015 68%|██████▊   | 30/44 [00:03<00:01,  9.06it/s]#015 70%|███████   | 31/44 [00:03<00:01,  9.02it/s]#015 73%|███████▎  | 32/44 [00:03<00:01,  8.97it/s]#015 75%|███████▌  | 33/44 [00:03<00:01,  8.95it/s]#015 77%|███████▋  | 34/44 [00:04<00:01,  8.96it/s]#015 80%|███████▉  | 35/44 [00:04<00:01,  8.95it/s]#015 82%|████████▏ | 36/44 [00:04<00:00,  8.97it/s]#015 84%|████████▍ | 37/44 [00:04<00:00,  8.99it/s]#015 86%|████████▋ | 38/44 [00:04<00:00,  8.90it/s]#015 89%|████████▊ | 39/44 [00:04<00:00,  8.96it/s]#015 91%|█████████ | 40/44 [00:04<00:00,  9.01it/s]#015 93%|█████████▎| 41/44 [00:04<00:00,  9.00it/s]#015 95%|█████████▌| 42/44 [00:04<00:00,  8.95it/s]#015 98%|█████████▊| 43/44 [00:05<00:00,  8.92it/s]#015100%|██████████| 44/44 [00:05<00:00,  8.94it/s]#01545it [00:05,  9.21it/s]                        #01545it [00:05,  8.53it/s]\n",
      "\u001b[0m\n"
     ]
    },
    {
     "name": "stdout",
     "output_type": "stream",
     "text": [
      "\n",
      "2021-10-21 17:25:57 Uploading - Uploading generated training model\n",
      "2021-10-21 17:26:17 Completed - Training job completed\n",
      "ProfilerReport-1634836175: IssuesFound\n",
      "Training seconds: 794\n",
      "Billable seconds: 794\n"
     ]
    }
   ],
   "source": [
    "# Fit the estimator\n",
    "\n",
    "estimator.fit(fit_arguments, job_name=job_name)"
   ]
  },
  {
   "cell_type": "code",
   "execution_count": null,
   "metadata": {},
   "outputs": [],
   "source": []
  },
  {
   "cell_type": "code",
   "execution_count": null,
   "metadata": {},
   "outputs": [],
   "source": []
  },
  {
   "cell_type": "code",
   "execution_count": null,
   "metadata": {},
   "outputs": [],
   "source": []
  },
  {
   "cell_type": "code",
   "execution_count": null,
   "metadata": {},
   "outputs": [],
   "source": []
  },
  {
   "cell_type": "code",
   "execution_count": 19,
   "metadata": {},
   "outputs": [
    {
     "ename": "AssertionError",
     "evalue": "",
     "output_type": "error",
     "traceback": [
      "\u001b[0;31m---------------------------------------------------------------------------\u001b[0m",
      "\u001b[0;31mAssertionError\u001b[0m                            Traceback (most recent call last)",
      "\u001b[0;32m<ipython-input-19-b5ea04f4f930>\u001b[0m in \u001b[0;36m<module>\u001b[0;34m\u001b[0m\n\u001b[0;32m----> 1\u001b[0;31m \u001b[0;32massert\u001b[0m \u001b[0;34m(\u001b[0m\u001b[0;36m1\u001b[0m\u001b[0;34m==\u001b[0m\u001b[0;36m2\u001b[0m\u001b[0;34m)\u001b[0m\u001b[0;34m\u001b[0m\u001b[0;34m\u001b[0m\u001b[0m\n\u001b[0m",
      "\u001b[0;31mAssertionError\u001b[0m: "
     ]
    }
   ],
   "source": [
    "assert (1==2)\n"
   ]
  },
  {
   "cell_type": "markdown",
   "metadata": {},
   "source": [
    "## Code used for deploying and testing models:"
   ]
  },
  {
   "cell_type": "code",
   "execution_count": null,
   "metadata": {},
   "outputs": [],
   "source": [
    "import mlflow\n",
    "import torch"
   ]
  },
  {
   "cell_type": "code",
   "execution_count": null,
   "metadata": {},
   "outputs": [],
   "source": [
    "model = mlflow.pytorch.load_model(\n",
    "    's3://deep-mlflow-artifact/16/21a5ece6091b4ddf8b223e78159ce1c7/artifacts/pytorch_model_all',\n",
    "    map_location=torch.device('cpu')   \n",
    ")"
   ]
  },
  {
   "cell_type": "code",
   "execution_count": null,
   "metadata": {},
   "outputs": [],
   "source": [
    "model.predict(test_data['excerpt'])"
   ]
  },
  {
   "cell_type": "code",
   "execution_count": null,
   "metadata": {},
   "outputs": [],
   "source": [
    "from mlflow import sagemaker"
   ]
  },
  {
   "cell_type": "code",
   "execution_count": null,
   "metadata": {},
   "outputs": [],
   "source": [
    "sagemaker.deploy(\n",
    "    'testcpu-pytorch-trained-gpu',\n",
    "    's3://deep-mlflow-artifact/16/21a5ece6091b4ddf8b223e78159ce1c7/artifacts/pytorch_model_all',\n",
    "    execution_role_arn=SAGEMAKER_ROLE_ARN,\n",
    "    image_url=\"961104659532.dkr.ecr.us-east-1.amazonaws.com/mlflow-pyfunc:latest\",\n",
    "    region_name=\"us-east-1\",\n",
    "    instance_type=\"ml.c4.xlarge\",\n",
    "    synchronous=False,\n",
    "    archive=True,\n",
    ")"
   ]
  },
  {
   "cell_type": "code",
   "execution_count": null,
   "metadata": {},
   "outputs": [],
   "source": []
  },
  {
   "cell_type": "code",
   "execution_count": null,
   "metadata": {},
   "outputs": [],
   "source": []
  }
 ],
 "metadata": {
  "kernelspec": {
   "display_name": "Python 3",
   "language": "python",
   "name": "python3"
  },
  "language_info": {
   "codemirror_mode": {
    "name": "ipython",
    "version": 3
   },
   "file_extension": ".py",
   "mimetype": "text/x-python",
   "name": "python",
   "nbconvert_exporter": "python",
   "pygments_lexer": "ipython3",
   "version": "3.8.5"
  }
 },
 "nbformat": 4,
 "nbformat_minor": 4
}
