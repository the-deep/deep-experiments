{
 "cells": [
  {
   "cell_type": "markdown",
   "metadata": {},
   "source": [
    "# Import"
   ]
  },
  {
   "cell_type": "markdown",
   "metadata": {},
   "source": [
    "These requirements are necessary if you launch this notebook from SageMaker instances"
   ]
  },
  {
   "cell_type": "code",
   "execution_count": null,
   "metadata": {
    "tags": []
   },
   "outputs": [],
   "source": [
    "\"\"\"!pip install mlflow\n",
    "!pip install pytorch-lightning\n",
    "!pip install transformers\n",
    "!pip install tqdm\n",
    "!pip install sagemaker\n",
    "\n",
    "!pip install s3fs\n",
    "!pip install smdebug\"\"\""
   ]
  },
  {
   "cell_type": "code",
   "execution_count": 1,
   "metadata": {
    "tags": []
   },
   "outputs": [],
   "source": [
    "import sys\n",
    "sys.path.append('../../../')\n",
    "\n",
    "import os\n",
    "import sys\n",
    "import logging\n",
    "import argparse\n",
    "from pathlib import Path\n",
    "from typing import Any, Dict, Optional"
   ]
  },
  {
   "cell_type": "code",
   "execution_count": 2,
   "metadata": {
    "ExecuteTime": {
     "end_time": "2021-06-01T14:49:30.843642Z",
     "start_time": "2021-06-01T14:49:30.663973Z"
    },
    "tags": []
   },
   "outputs": [],
   "source": [
    "from tqdm.auto import tqdm\n",
    "\n",
    "import torchmetrics\n",
    "from torchmetrics.functional import accuracy, f1, auroc\n",
    "\n",
    "import sagemaker\n",
    "from sagemaker import get_execution_role\n",
    "import pytorch_lightning as pl\n",
    "from pytorch_lightning.loggers import TensorBoardLogger\n",
    "from pytorch_lightning.core.decorators import auto_move_data\n",
    "from pytorch_lightning.callbacks import ModelCheckpoint, EarlyStopping\n",
    "from pytorch_lightning.loggers import MLFlowLogger\n",
    "\n",
    "\n",
    "import matplotlib.pyplot as plt\n",
    "from pylab import rcParams\n",
    "from matplotlib import rc\n",
    "\n",
    "import pandas as pd"
   ]
  },
  {
   "cell_type": "markdown",
   "metadata": {},
   "source": [
    "Local constants, regarding the data, MLFlow server, paths, etc..: use them"
   ]
  },
  {
   "cell_type": "code",
   "execution_count": 3,
   "metadata": {
    "tags": []
   },
   "outputs": [],
   "source": [
    "from deep.constants import *\n",
    "from deep.utils import *"
   ]
  },
  {
   "cell_type": "code",
   "execution_count": 4,
   "metadata": {
    "tags": []
   },
   "outputs": [],
   "source": [
    "%load_ext autoreload\n",
    "%autoreload 2"
   ]
  },
  {
   "cell_type": "markdown",
   "metadata": {},
   "source": [
    "# Data"
   ]
  },
  {
   "cell_type": "markdown",
   "metadata": {},
   "source": [
    "You can use the data you want. We advise the `pandas` format."
   ]
  },
  {
   "cell_type": "code",
   "execution_count": 7,
   "metadata": {
    "ExecuteTime": {
     "end_time": "2021-06-01T14:57:29.882333Z",
     "start_time": "2021-06-01T14:57:28.547379Z"
    },
    "tags": []
   },
   "outputs": [],
   "source": [
    "DATA_PATH = os.path.join(\n",
    "    '..', '..', '..', \"data\", \"frameworks_data\", 'data_v0.7.1'\n",
    ")\n",
    "\n",
    "\n",
    "tot_df = pd.read_csv(os.path.join(DATA_PATH, 'new_columns_train_val.csv')).drop_duplicates()\n",
    "\n",
    "test_df = pd.read_csv(os.path.join(DATA_PATH, 'new_columns_test_v0.7.1.csv'))"
   ]
  },
  {
   "cell_type": "code",
   "execution_count": null,
   "metadata": {},
   "outputs": [],
   "source": []
  },
  {
   "cell_type": "code",
   "execution_count": 9,
   "metadata": {},
   "outputs": [],
   "source": [
    "minimal_results = {\n",
    "    'present_prim_tags': 0.8,\n",
    "    'present_sec_tags': 0.85,\n",
    "    'sectors': 0.89,\n",
    "    'pillars_1d': 0.85,\n",
    "    'pillars_2d': 0.81,\n",
    "    'subpillars_2d_part1': 0.8, \n",
    "   'subpillars_2d_part2': 0.72,\n",
    "   'subpillars_1d_part1': 0.89,\n",
    "   'subpillars_1d_part2': 0.85,\n",
    "   'subpillars_1d_part3': 0.84,\n",
    "    'gender': 0.84,\n",
    "    'age': 0.84,\n",
    "    'specific_needs_groups': 0.79,\n",
    "    'affected_groups_levels_2_3': 0.99,\n",
    "    'gender_snorkel': 0.87\n",
    "}"
   ]
  },
  {
   "cell_type": "code",
   "execution_count": 19,
   "metadata": {},
   "outputs": [],
   "source": [
    "columns = ['excerpt', 'entry_id',\n",
    "           'present_prim_tags',\n",
    "           #'sectors',\n",
    "           'pillars_2d',\n",
    "           #'pillars_1d',\n",
    "           'subpillars_2d_part1', \n",
    "           'subpillars_2d_part2'\n",
    "           #'subpillars_1d_part1',\n",
    "           #'subpillars_1d_part2',\n",
    "           #'subpillars_1d_part3'\n",
    "        ]"
   ]
  },
  {
   "cell_type": "code",
   "execution_count": null,
   "metadata": {},
   "outputs": [],
   "source": []
  },
  {
   "cell_type": "code",
   "execution_count": null,
   "metadata": {},
   "outputs": [],
   "source": [
    "columns = [\n",
    "    'excerpt', 'entry_id',\n",
    "    'present_sec_tags',\n",
    "    'gender',\n",
    "    'age',\n",
    "    'specific_needs_groups',\n",
    "    'affected_groups_levels_2_3',\n",
    "    'gender_snorkel'\n",
    "]"
   ]
  },
  {
   "cell_type": "code",
   "execution_count": null,
   "metadata": {},
   "outputs": [],
   "source": [
    "columns = [\n",
    "    'excerpt', 'entry_id',\n",
    "    'present_sec_tags',\n",
    "    'gender',\n",
    "    'age',\n",
    "    'specific_needs_groups',\n",
    "    'gender_snorkel'\n",
    "]"
   ]
  },
  {
   "cell_type": "code",
   "execution_count": 22,
   "metadata": {},
   "outputs": [],
   "source": [
    "\n",
    "tot_df = tot_df[columns]\n",
    "test_df = test_df[columns]"
   ]
  },
  {
   "cell_type": "code",
   "execution_count": 23,
   "metadata": {},
   "outputs": [
    {
     "data": {
      "text/html": [
       "<div>\n",
       "<style scoped>\n",
       "    .dataframe tbody tr th:only-of-type {\n",
       "        vertical-align: middle;\n",
       "    }\n",
       "\n",
       "    .dataframe tbody tr th {\n",
       "        vertical-align: top;\n",
       "    }\n",
       "\n",
       "    .dataframe thead th {\n",
       "        text-align: right;\n",
       "    }\n",
       "</style>\n",
       "<table border=\"1\" class=\"dataframe\">\n",
       "  <thead>\n",
       "    <tr style=\"text-align: right;\">\n",
       "      <th></th>\n",
       "      <th>excerpt</th>\n",
       "      <th>entry_id</th>\n",
       "      <th>present_prim_tags</th>\n",
       "      <th>pillars_2d</th>\n",
       "      <th>subpillars_2d_part1</th>\n",
       "      <th>subpillars_2d_part2</th>\n",
       "    </tr>\n",
       "  </thead>\n",
       "  <tbody>\n",
       "    <tr>\n",
       "      <th>0</th>\n",
       "      <td>After past, partially implemented attempts, th...</td>\n",
       "      <td>489435</td>\n",
       "      <td>['sectors', 'subpillars_2d', 'subpillars_1d']</td>\n",
       "      <td>['Capacities &amp; Response']</td>\n",
       "      <td>['Capacities &amp; Response-&gt;International Response']</td>\n",
       "      <td>['Capacities &amp; Response-&gt;National Response']</td>\n",
       "    </tr>\n",
       "    <tr>\n",
       "      <th>1</th>\n",
       "      <td>[10th November, NW Syria] Now with the lockdow...</td>\n",
       "      <td>194719</td>\n",
       "      <td>['subpillars_1d']</td>\n",
       "      <td>[]</td>\n",
       "      <td>[]</td>\n",
       "      <td>[]</td>\n",
       "    </tr>\n",
       "    <tr>\n",
       "      <th>2</th>\n",
       "      <td>El Salvador hace frente a una combinación de c...</td>\n",
       "      <td>186152</td>\n",
       "      <td>['sectors', 'subpillars_2d']</td>\n",
       "      <td>['Humanitarian Conditions']</td>\n",
       "      <td>['Humanitarian Conditions-&gt;Living Standards']</td>\n",
       "      <td>[]</td>\n",
       "    </tr>\n",
       "    <tr>\n",
       "      <th>3</th>\n",
       "      <td>Extreme poverty and the government’s fiscal li...</td>\n",
       "      <td>489431</td>\n",
       "      <td>['sectors', 'subpillars_2d', 'subpillars_1d']</td>\n",
       "      <td>['Humanitarian Conditions']</td>\n",
       "      <td>['Humanitarian Conditions-&gt;Living Standards']</td>\n",
       "      <td>[]</td>\n",
       "    </tr>\n",
       "    <tr>\n",
       "      <th>4</th>\n",
       "      <td>Las personas que habitan en cantones donde no ...</td>\n",
       "      <td>186986</td>\n",
       "      <td>['sectors']</td>\n",
       "      <td>[]</td>\n",
       "      <td>[]</td>\n",
       "      <td>[]</td>\n",
       "    </tr>\n",
       "    <tr>\n",
       "      <th>...</th>\n",
       "      <td>...</td>\n",
       "      <td>...</td>\n",
       "      <td>...</td>\n",
       "      <td>...</td>\n",
       "      <td>...</td>\n",
       "      <td>...</td>\n",
       "    </tr>\n",
       "    <tr>\n",
       "      <th>422322</th>\n",
       "      <td>En 2021, UNICEF tiene acciones priorizadas en ...</td>\n",
       "      <td>500721</td>\n",
       "      <td>[]</td>\n",
       "      <td>[]</td>\n",
       "      <td>[]</td>\n",
       "      <td>[]</td>\n",
       "    </tr>\n",
       "    <tr>\n",
       "      <th>422323</th>\n",
       "      <td>29 percent of women and 24 percent of men who ...</td>\n",
       "      <td>500108</td>\n",
       "      <td>[]</td>\n",
       "      <td>[]</td>\n",
       "      <td>[]</td>\n",
       "      <td>[]</td>\n",
       "    </tr>\n",
       "    <tr>\n",
       "      <th>422324</th>\n",
       "      <td>29% des femmes et 24% des hommes qui ont accès...</td>\n",
       "      <td>500108</td>\n",
       "      <td>[]</td>\n",
       "      <td>[]</td>\n",
       "      <td>[]</td>\n",
       "      <td>[]</td>\n",
       "    </tr>\n",
       "    <tr>\n",
       "      <th>422325</th>\n",
       "      <td>The emergency generated by the Covid-19 pandem...</td>\n",
       "      <td>500645</td>\n",
       "      <td>[]</td>\n",
       "      <td>[]</td>\n",
       "      <td>[]</td>\n",
       "      <td>[]</td>\n",
       "    </tr>\n",
       "    <tr>\n",
       "      <th>422326</th>\n",
       "      <td>L'urgence générée par la pandémie Covid-19 est...</td>\n",
       "      <td>500645</td>\n",
       "      <td>[]</td>\n",
       "      <td>[]</td>\n",
       "      <td>[]</td>\n",
       "      <td>[]</td>\n",
       "    </tr>\n",
       "  </tbody>\n",
       "</table>\n",
       "<p>422160 rows × 6 columns</p>\n",
       "</div>"
      ],
      "text/plain": [
       "                                                  excerpt  entry_id  \\\n",
       "0       After past, partially implemented attempts, th...    489435   \n",
       "1       [10th November, NW Syria] Now with the lockdow...    194719   \n",
       "2       El Salvador hace frente a una combinación de c...    186152   \n",
       "3       Extreme poverty and the government’s fiscal li...    489431   \n",
       "4       Las personas que habitan en cantones donde no ...    186986   \n",
       "...                                                   ...       ...   \n",
       "422322  En 2021, UNICEF tiene acciones priorizadas en ...    500721   \n",
       "422323  29 percent of women and 24 percent of men who ...    500108   \n",
       "422324  29% des femmes et 24% des hommes qui ont accès...    500108   \n",
       "422325  The emergency generated by the Covid-19 pandem...    500645   \n",
       "422326  L'urgence générée par la pandémie Covid-19 est...    500645   \n",
       "\n",
       "                                    present_prim_tags  \\\n",
       "0       ['sectors', 'subpillars_2d', 'subpillars_1d']   \n",
       "1                                   ['subpillars_1d']   \n",
       "2                        ['sectors', 'subpillars_2d']   \n",
       "3       ['sectors', 'subpillars_2d', 'subpillars_1d']   \n",
       "4                                         ['sectors']   \n",
       "...                                               ...   \n",
       "422322                                             []   \n",
       "422323                                             []   \n",
       "422324                                             []   \n",
       "422325                                             []   \n",
       "422326                                             []   \n",
       "\n",
       "                         pillars_2d  \\\n",
       "0         ['Capacities & Response']   \n",
       "1                                []   \n",
       "2       ['Humanitarian Conditions']   \n",
       "3       ['Humanitarian Conditions']   \n",
       "4                                []   \n",
       "...                             ...   \n",
       "422322                           []   \n",
       "422323                           []   \n",
       "422324                           []   \n",
       "422325                           []   \n",
       "422326                           []   \n",
       "\n",
       "                                      subpillars_2d_part1  \\\n",
       "0       ['Capacities & Response->International Response']   \n",
       "1                                                      []   \n",
       "2           ['Humanitarian Conditions->Living Standards']   \n",
       "3           ['Humanitarian Conditions->Living Standards']   \n",
       "4                                                      []   \n",
       "...                                                   ...   \n",
       "422322                                                 []   \n",
       "422323                                                 []   \n",
       "422324                                                 []   \n",
       "422325                                                 []   \n",
       "422326                                                 []   \n",
       "\n",
       "                                 subpillars_2d_part2  \n",
       "0       ['Capacities & Response->National Response']  \n",
       "1                                                 []  \n",
       "2                                                 []  \n",
       "3                                                 []  \n",
       "4                                                 []  \n",
       "...                                              ...  \n",
       "422322                                            []  \n",
       "422323                                            []  \n",
       "422324                                            []  \n",
       "422325                                            []  \n",
       "422326                                            []  \n",
       "\n",
       "[422160 rows x 6 columns]"
      ]
     },
     "execution_count": 23,
     "metadata": {},
     "output_type": "execute_result"
    }
   ],
   "source": [
    "tot_df"
   ]
  },
  {
   "cell_type": "markdown",
   "metadata": {},
   "source": [
    "## Sagemaker Prep"
   ]
  },
  {
   "cell_type": "markdown",
   "metadata": {
    "ExecuteTime": {
     "end_time": "2021-05-27T15:42:32.024647Z",
     "start_time": "2021-05-27T15:42:31.984694Z"
    }
   },
   "source": [
    "### Session"
   ]
  },
  {
   "cell_type": "markdown",
   "metadata": {},
   "source": [
    "Configure SageMaker"
   ]
  },
  {
   "cell_type": "code",
   "execution_count": 24,
   "metadata": {
    "ExecuteTime": {
     "end_time": "2021-06-09T08:29:20.899415Z",
     "start_time": "2021-06-09T08:29:19.327852Z"
    },
    "tags": []
   },
   "outputs": [],
   "source": [
    "sess = sagemaker.Session(default_bucket=DEV_BUCKET.name)\n",
    "role = SAGEMAKER_ROLE\n",
    "role_arn = SAGEMAKER_ROLE_ARN\n",
    "tracking_uri = MLFLOW_SERVER"
   ]
  },
  {
   "cell_type": "code",
   "execution_count": 25,
   "metadata": {},
   "outputs": [
    {
     "data": {
      "text/plain": [
       "'AmazonSageMaker-ExecutionRole-20210519T102514'"
      ]
     },
     "execution_count": 25,
     "metadata": {},
     "output_type": "execute_result"
    }
   ],
   "source": [
    "SAGEMAKER_ROLE"
   ]
  },
  {
   "cell_type": "markdown",
   "metadata": {},
   "source": [
    "### Bucket upload"
   ]
  },
  {
   "cell_type": "markdown",
   "metadata": {},
   "source": [
    "You need to upload data to an S3 bucket. \n",
    "\n",
    "\n"
   ]
  },
  {
   "cell_type": "code",
   "execution_count": 26,
   "metadata": {},
   "outputs": [
    {
     "data": {
      "text/plain": [
       "'http://mlflow-deep-387470f3-1883319727.us-east-1.elb.amazonaws.com/'"
      ]
     },
     "execution_count": 26,
     "metadata": {},
     "output_type": "execute_result"
    }
   ],
   "source": [
    "MLFLOW_SERVER"
   ]
  },
  {
   "cell_type": "code",
   "execution_count": 30,
   "metadata": {},
   "outputs": [
    {
     "data": {
      "text/plain": [
       "S3Path('s3://sagemaker-deep-experiments-dev')"
      ]
     },
     "execution_count": 30,
     "metadata": {},
     "output_type": "execute_result"
    }
   ],
   "source": [
    "DEV_BUCKET"
   ]
  },
  {
   "cell_type": "code",
   "execution_count": 29,
   "metadata": {
    "ExecuteTime": {
     "end_time": "2021-06-09T08:31:43.201910Z",
     "start_time": "2021-06-09T08:29:28.837139Z"
    },
    "scrolled": true,
    "tags": []
   },
   "outputs": [],
   "source": [
    "sample = True  # To make the computations faster, sample = True.\n",
    "\n",
    "if sample:\n",
    "    tot_df = tot_df.sample(n=10000)\n",
    "    \n",
    "job_name = f\"pytorch-{formatted_time()}-all-models\"  # change it as you prefer\n",
    "input_path = DEV_BUCKET / 'training' / 'input_data' / job_name  # Do not change this\n",
    "\n",
    "train_path = str(input_path / 'train.pickle')\n",
    "val_path = str(input_path / 'val.pickle')\n",
    "\n",
    "\n",
    "tot_df.to_pickle(train_path, protocol=4)  # protocol 4 is necessary, since SageMaker uses python 3.6\n",
    "test_df.to_pickle(val_path, protocol=4)"
   ]
  },
  {
   "cell_type": "code",
   "execution_count": 31,
   "metadata": {},
   "outputs": [
    {
     "data": {
      "text/plain": [
       "'pytorch-2021-11-29-14-46-21-478-all-models'"
      ]
     },
     "execution_count": 31,
     "metadata": {},
     "output_type": "execute_result"
    }
   ],
   "source": [
    "job_name"
   ]
  },
  {
   "cell_type": "markdown",
   "metadata": {},
   "source": [
    "### Estimator Definition"
   ]
  },
  {
   "cell_type": "code",
   "execution_count": 32,
   "metadata": {
    "ExecuteTime": {
     "end_time": "2021-06-09T08:31:43.284096Z",
     "start_time": "2021-06-09T08:31:43.206457Z"
    },
    "tags": []
   },
   "outputs": [],
   "source": [
    "# GPU instances\n",
    "\n",
    "instances = [\n",
    "    'ml.p2.xlarge',\n",
    "    'ml.p3.2xlarge'\n",
    "]"
   ]
  },
  {
   "cell_type": "code",
   "execution_count": null,
   "metadata": {},
   "outputs": [],
   "source": []
  },
  {
   "cell_type": "markdown",
   "metadata": {},
   "source": [
    "The hyperparameters are passed as command line arguments to the training script. \n",
    "\n",
    "You can add/change them as you like. It's important to keep the `tracking_uri` and the `experiment_name` which are used by MLFlow.\n",
    "\n",
    "The class `PyTorch` is part of the `SageMaker` python API. The parameters are important and you should probably not change most of them. The ones you may want to change are:\n",
    "\n",
    "- `instance_type`, specify the instance you want\n",
    "- `source_dir`, specify your script directory. Try to use global variable as much as possible"
   ]
  },
  {
   "cell_type": "code",
   "execution_count": null,
   "metadata": {
    "ExecuteTime": {
     "end_time": "2021-06-09T08:31:43.458886Z",
     "start_time": "2021-06-09T08:31:43.304626Z"
    },
    "tags": []
   },
   "outputs": [],
   "source": [
    "from sagemaker.pytorch import PyTorch\n",
    "\n",
    "instance_type='ml.p3.2xlarge'\n",
    "\n",
    "hyperparameters={\n",
    "    'tracking_uri': MLFLOW_SERVER,\n",
    "    'experiment_name': \"pl-all-models-experiments\",\n",
    "    'max_len': 512,\n",
    "    'epochs': 6,\n",
    "    'model_name': 'microsoft/xtremedistil-l6-h256-uncased',\n",
    "    'tokenizer_name': 'microsoft/xtremedistil-l6-h256-uncased',\n",
    "    'output_length': 256,\n",
    "    'training_names':','.join(columns[2:]),\n",
    "    \"instance_type\": instance_type,\n",
    "    'beta_f1': 0.5,\n",
    "    'nb_repetitions': 2,\n",
    "    'run_name': 'models_primary_tags',\n",
    "    'min_results': str(minimal_results)\n",
    "}\n",
    "\n",
    "estimator = PyTorch(\n",
    "    entry_point='train_mlflow.py',\n",
    "    source_dir=str('../../../scripts/training/nicolo/multiclass-lightning'),\n",
    "    output_path=str(DEV_BUCKET/'models/'),\n",
    "    code_location=str(input_path),\n",
    "    instance_type=instance_type,\n",
    "    instance_count=1,\n",
    "    role=role,\n",
    "    framework_version=\"1.8\",\n",
    "    py_version=\"py36\",\n",
    "    hyperparameters = hyperparameters,\n",
    "    job_name=job_name,\n",
    "#     train_instance_count=2,\n",
    "#     train_instance_type=\"ml.c4.xlarge\",\n",
    ")"
   ]
  },
  {
   "cell_type": "code",
   "execution_count": null,
   "metadata": {
    "ExecuteTime": {
     "end_time": "2021-06-09T08:31:43.482969Z",
     "start_time": "2021-06-09T08:31:43.459884Z"
    },
    "tags": []
   },
   "outputs": [],
   "source": [
    "fit_arguments = {\n",
    "    'train': str(input_path),\n",
    "    'test': str(input_path)\n",
    "}"
   ]
  },
  {
   "cell_type": "code",
   "execution_count": null,
   "metadata": {
    "ExecuteTime": {
     "end_time": "2021-06-09T08:31:45.995868Z",
     "start_time": "2021-06-09T08:31:43.484212Z"
    },
    "scrolled": false,
    "tags": []
   },
   "outputs": [],
   "source": [
    "# Fit the estimator\n",
    "\n",
    "estimator.fit(fit_arguments, job_name=job_name)"
   ]
  },
  {
   "cell_type": "code",
   "execution_count": null,
   "metadata": {},
   "outputs": [],
   "source": []
  },
  {
   "cell_type": "code",
   "execution_count": null,
   "metadata": {},
   "outputs": [],
   "source": []
  },
  {
   "cell_type": "code",
   "execution_count": null,
   "metadata": {},
   "outputs": [],
   "source": []
  },
  {
   "cell_type": "code",
   "execution_count": null,
   "metadata": {},
   "outputs": [],
   "source": []
  },
  {
   "cell_type": "code",
   "execution_count": null,
   "metadata": {},
   "outputs": [],
   "source": []
  }
 ],
 "metadata": {
  "kernelspec": {
   "display_name": "python3.8-pp",
   "language": "python",
   "name": "python3.8-pp"
  },
  "language_info": {
   "codemirror_mode": {
    "name": "ipython",
    "version": 3
   },
   "file_extension": ".py",
   "mimetype": "text/x-python",
   "name": "python",
   "nbconvert_exporter": "python",
   "pygments_lexer": "ipython3",
   "version": "3.8.10"
  }
 },
 "nbformat": 4,
 "nbformat_minor": 4
}
