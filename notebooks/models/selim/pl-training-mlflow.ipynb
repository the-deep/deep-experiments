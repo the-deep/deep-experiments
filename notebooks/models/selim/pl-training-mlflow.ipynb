{
 "cells": [
  {
   "cell_type": "markdown",
   "metadata": {},
   "source": [
    "# Import"
   ]
  },
  {
   "cell_type": "markdown",
   "metadata": {},
   "source": [
    "These requirements are necessary if you launch this notebook from SageMaker instances"
   ]
  },
  {
   "cell_type": "code",
   "execution_count": null,
   "metadata": {
    "tags": []
   },
   "outputs": [],
   "source": [
    "\"\"\"!pip install mlflow\n",
    "!pip install pytorch-lightning\n",
    "!pip install transformers\n",
    "!pip install tqdm\n",
    "!pip install sagemaker\n",
    "\n",
    "!pip install s3fs\n",
    "!pip install smdebug\"\"\""
   ]
  },
  {
   "cell_type": "code",
   "execution_count": 1,
   "metadata": {
    "tags": []
   },
   "outputs": [],
   "source": [
    "import sys\n",
    "sys.path.append('../../../')\n",
    "\n",
    "import os\n",
    "import sys\n",
    "import logging\n",
    "import argparse\n",
    "from pathlib import Path\n",
    "from typing import Any, Dict, Optional"
   ]
  },
  {
   "cell_type": "code",
   "execution_count": 2,
   "metadata": {
    "ExecuteTime": {
     "end_time": "2021-06-01T14:49:30.843642Z",
     "start_time": "2021-06-01T14:49:30.663973Z"
    },
    "scrolled": true,
    "tags": []
   },
   "outputs": [],
   "source": [
    "from tqdm.auto import tqdm\n",
    "\n",
    "import torchmetrics\n",
    "from torchmetrics.functional import accuracy, f1, auroc\n",
    "\n",
    "import sagemaker\n",
    "from sagemaker import get_execution_role\n",
    "import pytorch_lightning as pl\n",
    "from pytorch_lightning.loggers import TensorBoardLogger\n",
    "from pytorch_lightning.core.decorators import auto_move_data\n",
    "from pytorch_lightning.callbacks import ModelCheckpoint, EarlyStopping\n",
    "from pytorch_lightning.loggers import MLFlowLogger\n",
    "\n",
    "\n",
    "import matplotlib.pyplot as plt\n",
    "from pylab import rcParams\n",
    "from matplotlib import rc\n",
    "\n",
    "import pandas as pd"
   ]
  },
  {
   "cell_type": "code",
   "execution_count": null,
   "metadata": {},
   "outputs": [],
   "source": []
  },
  {
   "cell_type": "markdown",
   "metadata": {},
   "source": [
    "Local constants, regarding the data, MLFlow server, paths, etc..: use them"
   ]
  },
  {
   "cell_type": "code",
   "execution_count": 3,
   "metadata": {
    "tags": []
   },
   "outputs": [],
   "source": [
    "from deep.constants import *\n",
    "from deep.utils import *"
   ]
  },
  {
   "cell_type": "code",
   "execution_count": 4,
   "metadata": {
    "tags": []
   },
   "outputs": [],
   "source": [
    "%load_ext autoreload\n",
    "%autoreload 2"
   ]
  },
  {
   "cell_type": "markdown",
   "metadata": {},
   "source": [
    "# Data"
   ]
  },
  {
   "cell_type": "markdown",
   "metadata": {},
   "source": [
    "You can use the data you want. We advise the `pandas` format."
   ]
  },
  {
   "cell_type": "code",
   "execution_count": 5,
   "metadata": {
    "ExecuteTime": {
     "end_time": "2021-06-01T14:57:29.882333Z",
     "start_time": "2021-06-01T14:57:28.547379Z"
    },
    "tags": []
   },
   "outputs": [
    {
     "name": "stderr",
     "output_type": "stream",
     "text": [
      "/home/nico/anaconda3/envs/pp/lib/python3.8/site-packages/IPython/core/interactiveshell.py:3062: DtypeWarning: Columns (5) have mixed types.Specify dtype option on import or set low_memory=False.\n",
      "  has_raised = await self.run_ast_nodes(code_ast.body, cell_name,\n"
     ]
    }
   ],
   "source": [
    "DATA_PATH = os.path.join(\n",
    "    '..', '..', '..', \"data\", \"frameworks_data\", 'data_v0.7.1'\n",
    ")\n",
    "\n",
    "\n",
    "tot_df = pd.read_csv(os.path.join(DATA_PATH, 'new_columns_train_val.csv')).drop_duplicates()\n",
    "\n",
    "test_df = pd.read_csv(os.path.join(DATA_PATH, 'new_columns_test_v0.7.1.csv'))"
   ]
  },
  {
   "cell_type": "code",
   "execution_count": null,
   "metadata": {},
   "outputs": [],
   "source": []
  },
  {
   "cell_type": "code",
   "execution_count": 18,
   "metadata": {},
   "outputs": [],
   "source": [
    "minimal_results = {\n",
    "    'present_prim_tags': 0.8,\n",
    "    'present_sec_tags': 0.85,\n",
    "    'sectors': 0.89,\n",
    "    'pillars_1d': 0.85,\n",
    "    'pillars_2d': 0.81,\n",
    "    'subpillars_2d_part1': 0.8, \n",
    "   'subpillars_2d_part2': 0.72,\n",
    "   'subpillars_1d_part1': 0.89,\n",
    "   'subpillars_1d_part2': 0.85,\n",
    "   'subpillars_1d_part3': 0.84,\n",
    "    'gender': 0.84,\n",
    "    'age': 0.84,\n",
    "    'specific_needs_groups': 0.79,\n",
    "    'affected_groups_levels_2_3': 0.99,\n",
    "    'gender_snorkel': 0.87\n",
    "}"
   ]
  },
  {
   "cell_type": "code",
   "execution_count": null,
   "metadata": {},
   "outputs": [],
   "source": [
    "columns = ['excerpt', 'entry_id',\n",
    "           'present_prim_tags',\n",
    "           #'sectors',\n",
    "           'pillars_2d',\n",
    "           #'pillars_1d',\n",
    "           'subpillars_2d_part1', \n",
    "           'subpillars_2d_part2'\n",
    "           #'subpillars_1d_part1',\n",
    "           #'subpillars_1d_part2',\n",
    "           #'subpillars_1d_part3'\n",
    "        ]"
   ]
  },
  {
   "cell_type": "code",
   "execution_count": 19,
   "metadata": {},
   "outputs": [],
   "source": [
    "columns = ['excerpt', 'entry_id',\n",
    "           'present_prim_tags',\n",
    "           'pillars_2d',\n",
    "           'subpillars_2d_part1', \n",
    "           'subpillars_2d_part2'\n",
    "        ]"
   ]
  },
  {
   "cell_type": "code",
   "execution_count": null,
   "metadata": {},
   "outputs": [],
   "source": [
    "columns = [\n",
    "    'excerpt', 'entry_id',\n",
    "    'present_sec_tags',\n",
    "    'gender',\n",
    "    'age',\n",
    "    'specific_needs_groups',\n",
    "    'affected_groups_levels_2_3',\n",
    "    'gender_snorkel'\n",
    "]"
   ]
  },
  {
   "cell_type": "code",
   "execution_count": null,
   "metadata": {},
   "outputs": [],
   "source": [
    "columns = [\n",
    "    'excerpt', 'entry_id',\n",
    "    'present_sec_tags',\n",
    "    'gender',\n",
    "    'age',\n",
    "    'specific_needs_groups',\n",
    "    'gender_snorkel'\n",
    "]"
   ]
  },
  {
   "cell_type": "code",
   "execution_count": 8,
   "metadata": {},
   "outputs": [],
   "source": [
    "\n",
    "tot_df = tot_df[columns]\n",
    "test_df = test_df[columns]"
   ]
  },
  {
   "cell_type": "code",
   "execution_count": 9,
   "metadata": {},
   "outputs": [
    {
     "data": {
      "text/html": [
       "<div>\n",
       "<style scoped>\n",
       "    .dataframe tbody tr th:only-of-type {\n",
       "        vertical-align: middle;\n",
       "    }\n",
       "\n",
       "    .dataframe tbody tr th {\n",
       "        vertical-align: top;\n",
       "    }\n",
       "\n",
       "    .dataframe thead th {\n",
       "        text-align: right;\n",
       "    }\n",
       "</style>\n",
       "<table border=\"1\" class=\"dataframe\">\n",
       "  <thead>\n",
       "    <tr style=\"text-align: right;\">\n",
       "      <th></th>\n",
       "      <th>excerpt</th>\n",
       "      <th>entry_id</th>\n",
       "      <th>present_prim_tags</th>\n",
       "      <th>pillars_2d</th>\n",
       "      <th>subpillars_2d_part1</th>\n",
       "      <th>subpillars_2d_part2</th>\n",
       "    </tr>\n",
       "  </thead>\n",
       "  <tbody>\n",
       "    <tr>\n",
       "      <th>0</th>\n",
       "      <td>After past, partially implemented attempts, th...</td>\n",
       "      <td>489435</td>\n",
       "      <td>['sectors', 'subpillars_2d', 'subpillars_1d']</td>\n",
       "      <td>['Capacities &amp; Response']</td>\n",
       "      <td>['Capacities &amp; Response-&gt;International Response']</td>\n",
       "      <td>['Capacities &amp; Response-&gt;National Response']</td>\n",
       "    </tr>\n",
       "    <tr>\n",
       "      <th>1</th>\n",
       "      <td>[10th November, NW Syria] Now with the lockdow...</td>\n",
       "      <td>194719</td>\n",
       "      <td>['subpillars_1d']</td>\n",
       "      <td>[]</td>\n",
       "      <td>[]</td>\n",
       "      <td>[]</td>\n",
       "    </tr>\n",
       "    <tr>\n",
       "      <th>2</th>\n",
       "      <td>El Salvador hace frente a una combinación de c...</td>\n",
       "      <td>186152</td>\n",
       "      <td>['sectors', 'subpillars_2d']</td>\n",
       "      <td>['Humanitarian Conditions']</td>\n",
       "      <td>['Humanitarian Conditions-&gt;Living Standards']</td>\n",
       "      <td>[]</td>\n",
       "    </tr>\n",
       "    <tr>\n",
       "      <th>3</th>\n",
       "      <td>Extreme poverty and the government’s fiscal li...</td>\n",
       "      <td>489431</td>\n",
       "      <td>['sectors', 'subpillars_2d', 'subpillars_1d']</td>\n",
       "      <td>['Humanitarian Conditions']</td>\n",
       "      <td>['Humanitarian Conditions-&gt;Living Standards']</td>\n",
       "      <td>[]</td>\n",
       "    </tr>\n",
       "    <tr>\n",
       "      <th>4</th>\n",
       "      <td>Las personas que habitan en cantones donde no ...</td>\n",
       "      <td>186986</td>\n",
       "      <td>['sectors']</td>\n",
       "      <td>[]</td>\n",
       "      <td>[]</td>\n",
       "      <td>[]</td>\n",
       "    </tr>\n",
       "  </tbody>\n",
       "</table>\n",
       "</div>"
      ],
      "text/plain": [
       "                                             excerpt  entry_id  \\\n",
       "0  After past, partially implemented attempts, th...    489435   \n",
       "1  [10th November, NW Syria] Now with the lockdow...    194719   \n",
       "2  El Salvador hace frente a una combinación de c...    186152   \n",
       "3  Extreme poverty and the government’s fiscal li...    489431   \n",
       "4  Las personas que habitan en cantones donde no ...    186986   \n",
       "\n",
       "                               present_prim_tags                   pillars_2d  \\\n",
       "0  ['sectors', 'subpillars_2d', 'subpillars_1d']    ['Capacities & Response']   \n",
       "1                              ['subpillars_1d']                           []   \n",
       "2                   ['sectors', 'subpillars_2d']  ['Humanitarian Conditions']   \n",
       "3  ['sectors', 'subpillars_2d', 'subpillars_1d']  ['Humanitarian Conditions']   \n",
       "4                                    ['sectors']                           []   \n",
       "\n",
       "                                 subpillars_2d_part1  \\\n",
       "0  ['Capacities & Response->International Response']   \n",
       "1                                                 []   \n",
       "2      ['Humanitarian Conditions->Living Standards']   \n",
       "3      ['Humanitarian Conditions->Living Standards']   \n",
       "4                                                 []   \n",
       "\n",
       "                            subpillars_2d_part2  \n",
       "0  ['Capacities & Response->National Response']  \n",
       "1                                            []  \n",
       "2                                            []  \n",
       "3                                            []  \n",
       "4                                            []  "
      ]
     },
     "execution_count": 9,
     "metadata": {},
     "output_type": "execute_result"
    }
   ],
   "source": [
    "tot_df.head()"
   ]
  },
  {
   "cell_type": "markdown",
   "metadata": {},
   "source": [
    "## Sagemaker Prep"
   ]
  },
  {
   "cell_type": "markdown",
   "metadata": {
    "ExecuteTime": {
     "end_time": "2021-05-27T15:42:32.024647Z",
     "start_time": "2021-05-27T15:42:31.984694Z"
    }
   },
   "source": [
    "### Session"
   ]
  },
  {
   "cell_type": "markdown",
   "metadata": {},
   "source": [
    "Configure SageMaker"
   ]
  },
  {
   "cell_type": "code",
   "execution_count": 10,
   "metadata": {
    "ExecuteTime": {
     "end_time": "2021-06-09T08:29:20.899415Z",
     "start_time": "2021-06-09T08:29:19.327852Z"
    },
    "tags": []
   },
   "outputs": [],
   "source": [
    "sess = sagemaker.Session(default_bucket=DEV_BUCKET.name)\n",
    "role = SAGEMAKER_ROLE\n",
    "role_arn = SAGEMAKER_ROLE_ARN\n",
    "tracking_uri = MLFLOW_SERVER"
   ]
  },
  {
   "cell_type": "code",
   "execution_count": 11,
   "metadata": {},
   "outputs": [
    {
     "data": {
      "text/plain": [
       "'AmazonSageMaker-ExecutionRole-20210519T102514'"
      ]
     },
     "execution_count": 11,
     "metadata": {},
     "output_type": "execute_result"
    }
   ],
   "source": [
    "SAGEMAKER_ROLE"
   ]
  },
  {
   "cell_type": "markdown",
   "metadata": {},
   "source": [
    "### Bucket upload"
   ]
  },
  {
   "cell_type": "markdown",
   "metadata": {},
   "source": [
    "You need to upload data to an S3 bucket. \n",
    "\n",
    "\n"
   ]
  },
  {
   "cell_type": "code",
   "execution_count": 12,
   "metadata": {},
   "outputs": [
    {
     "data": {
      "text/plain": [
       "'http://mlflow-deep-387470f3-1883319727.us-east-1.elb.amazonaws.com/'"
      ]
     },
     "execution_count": 12,
     "metadata": {},
     "output_type": "execute_result"
    }
   ],
   "source": [
    "MLFLOW_SERVER"
   ]
  },
  {
   "cell_type": "code",
   "execution_count": 13,
   "metadata": {},
   "outputs": [
    {
     "data": {
      "text/plain": [
       "S3Path('s3://sagemaker-deep-experiments-dev')"
      ]
     },
     "execution_count": 13,
     "metadata": {},
     "output_type": "execute_result"
    }
   ],
   "source": [
    "DEV_BUCKET"
   ]
  },
  {
   "cell_type": "code",
   "execution_count": 14,
   "metadata": {
    "ExecuteTime": {
     "end_time": "2021-06-09T08:31:43.201910Z",
     "start_time": "2021-06-09T08:29:28.837139Z"
    },
    "scrolled": true,
    "tags": []
   },
   "outputs": [],
   "source": [
    "sample = True  # To make the computations faster, sample = True.\n",
    "\n",
    "if sample:\n",
    "    tot_df = tot_df.sample(n=20000)\n",
    "    \n",
    "job_name = f\"pytorch-{formatted_time()}-all-models\"  # change it as you prefer\n",
    "input_path = DEV_BUCKET / 'training' / 'input_data' / job_name  # Do not change this\n",
    "\n",
    "train_path = str(input_path / 'train.pickle')\n",
    "val_path = str(input_path / 'val.pickle')\n",
    "\n",
    "\n",
    "tot_df.to_pickle(train_path, protocol=4)  # protocol 4 is necessary, since SageMaker uses python 3.6\n",
    "test_df.to_pickle(val_path, protocol=4)"
   ]
  },
  {
   "cell_type": "code",
   "execution_count": 15,
   "metadata": {},
   "outputs": [
    {
     "data": {
      "text/plain": [
       "'pytorch-2021-11-29-17-29-28-211-all-models'"
      ]
     },
     "execution_count": 15,
     "metadata": {},
     "output_type": "execute_result"
    }
   ],
   "source": [
    "job_name"
   ]
  },
  {
   "cell_type": "markdown",
   "metadata": {},
   "source": [
    "### Estimator Definition"
   ]
  },
  {
   "cell_type": "code",
   "execution_count": 16,
   "metadata": {
    "ExecuteTime": {
     "end_time": "2021-06-09T08:31:43.284096Z",
     "start_time": "2021-06-09T08:31:43.206457Z"
    },
    "tags": []
   },
   "outputs": [],
   "source": [
    "# GPU instances\n",
    "\n",
    "instances = [\n",
    "    'ml.p2.xlarge',\n",
    "    'ml.p3.2xlarge'\n",
    "]"
   ]
  },
  {
   "cell_type": "markdown",
   "metadata": {},
   "source": [
    "The hyperparameters are passed as command line arguments to the training script. \n",
    "\n",
    "You can add/change them as you like. It's important to keep the `tracking_uri` and the `experiment_name` which are used by MLFlow.\n",
    "\n",
    "The class `PyTorch` is part of the `SageMaker` python API. The parameters are important and you should probably not change most of them. The ones you may want to change are:\n",
    "\n",
    "- `instance_type`, specify the instance you want\n",
    "- `source_dir`, specify your script directory. Try to use global variable as much as possible"
   ]
  },
  {
   "cell_type": "code",
   "execution_count": 20,
   "metadata": {
    "ExecuteTime": {
     "end_time": "2021-06-09T08:31:43.458886Z",
     "start_time": "2021-06-09T08:31:43.304626Z"
    },
    "tags": []
   },
   "outputs": [],
   "source": [
    "from sagemaker.pytorch import PyTorch\n",
    "\n",
    "instance_type='ml.p3.2xlarge'\n",
    "\n",
    "hyperparameters={\n",
    "    'tracking_uri': MLFLOW_SERVER,\n",
    "    'experiment_name': \"pl-all-models-experiments\",\n",
    "    'max_len': 512,\n",
    "    'epochs': 1,\n",
    "    'model_name': 'microsoft/xtremedistil-l6-h256-uncased',\n",
    "    'tokenizer_name': 'microsoft/xtremedistil-l6-h256-uncased',\n",
    "    'output_length': 256,\n",
    "    'training_names':','.join(columns[2:]),\n",
    "    \"instance_type\": instance_type,\n",
    "    'beta_f1': 0.5,\n",
    "    'nb_repetitions': 1,\n",
    "    'run_name': 'models_primary_tags',\n",
    "    'min_results': str(minimal_results)\n",
    "}\n",
    "\n",
    "estimator = PyTorch(\n",
    "    entry_point='train_mlflow.py',\n",
    "    source_dir=str('../../../scripts/training/nicolo/multiclass-lightning'),\n",
    "    output_path=str(DEV_BUCKET/'models/'),\n",
    "    code_location=str(input_path),\n",
    "    instance_type=instance_type,\n",
    "    instance_count=1,\n",
    "    role=role,\n",
    "    framework_version=\"1.8\",\n",
    "    py_version=\"py36\",\n",
    "    hyperparameters = hyperparameters,\n",
    "    job_name=job_name,\n",
    "#     train_instance_count=2,\n",
    "#     train_instance_type=\"ml.c4.xlarge\",\n",
    ")"
   ]
  },
  {
   "cell_type": "code",
   "execution_count": 21,
   "metadata": {
    "ExecuteTime": {
     "end_time": "2021-06-09T08:31:43.482969Z",
     "start_time": "2021-06-09T08:31:43.459884Z"
    },
    "tags": []
   },
   "outputs": [],
   "source": [
    "fit_arguments = {\n",
    "    'train': str(input_path),\n",
    "    'test': str(input_path)\n",
    "}"
   ]
  },
  {
   "cell_type": "code",
   "execution_count": null,
   "metadata": {
    "ExecuteTime": {
     "end_time": "2021-06-09T08:31:45.995868Z",
     "start_time": "2021-06-09T08:31:43.484212Z"
    },
    "scrolled": false,
    "tags": []
   },
   "outputs": [
    {
     "name": "stdout",
     "output_type": "stream",
     "text": [
      "2021-11-29 16:29:59 Starting - Starting the training job...\n",
      "2021-11-29 16:30:25 Starting - Launching requested ML instancesProfilerReport-1638203396: InProgress\n",
      "......\n",
      "2021-11-29 16:31:34 Starting - Preparing the instances for training............\n",
      "2021-11-29 16:33:33 Downloading - Downloading input data\n",
      "2021-11-29 16:33:33 Training - Downloading the training image.....................\n",
      "2021-11-29 16:37:24 Training - Training image download completed. Training in progress..\u001b[34mbash: cannot set terminal process group (-1): Inappropriate ioctl for device\u001b[0m\n",
      "\u001b[34mbash: no job control in this shell\u001b[0m\n",
      "\u001b[34m2021-11-29 16:37:25,491 sagemaker-training-toolkit INFO     Imported framework sagemaker_pytorch_container.training\u001b[0m\n",
      "\u001b[34m2021-11-29 16:37:25,525 sagemaker_pytorch_container.training INFO     Block until all host DNS lookups succeed.\u001b[0m\n",
      "\u001b[34m2021-11-29 16:37:31,756 sagemaker_pytorch_container.training INFO     Invoking user training script.\u001b[0m\n",
      "\u001b[34m2021-11-29 16:37:32,225 sagemaker-training-toolkit INFO     Installing dependencies from requirements.txt:\u001b[0m\n",
      "\u001b[34m/opt/conda/bin/python3.6 -m pip install -r requirements.txt\u001b[0m\n",
      "\u001b[34mCollecting transformers==4.8.2\n",
      "  Downloading transformers-4.8.2-py3-none-any.whl (2.5 MB)\u001b[0m\n",
      "\u001b[34mCollecting tensorflow==2.4.0\n",
      "  Downloading tensorflow-2.4.0-cp36-cp36m-manylinux2010_x86_64.whl (394.7 MB)\u001b[0m\n",
      "\u001b[34mCollecting pytorch-lightning==1.3.8\n",
      "  Downloading pytorch_lightning-1.3.8-py3-none-any.whl (813 kB)\u001b[0m\n",
      "\u001b[34mCollecting torchmetrics==0.4.1\n",
      "  Downloading torchmetrics-0.4.1-py3-none-any.whl (234 kB)\u001b[0m\n",
      "\u001b[34mCollecting tqdm==4.41.1\n",
      "  Downloading tqdm-4.41.1-py2.py3-none-any.whl (56 kB)\u001b[0m\n",
      "\u001b[34mCollecting mlflow==1.18.0\n",
      "  Downloading mlflow-1.18.0-py3-none-any.whl (14.2 MB)\u001b[0m\n",
      "\u001b[34mCollecting scikit-learn==0.22.2.post1\n",
      "  Downloading scikit_learn-0.22.2.post1-cp36-cp36m-manylinux1_x86_64.whl (7.1 MB)\u001b[0m\n",
      "\u001b[34mCollecting sagemaker==2.49.1\n",
      "  Downloading sagemaker-2.49.1.tar.gz (421 kB)\n",
      "  Preparing metadata (setup.py): started\u001b[0m\n",
      "\u001b[34m  Preparing metadata (setup.py): finished with status 'done'\u001b[0m\n",
      "\u001b[34mCollecting s3fs==2021.07.0\n",
      "  Downloading s3fs-2021.7.0-py3-none-any.whl (25 kB)\u001b[0m\n",
      "\u001b[34mCollecting smdebug==1.0.11\n",
      "  Downloading smdebug-1.0.11-py2.py3-none-any.whl (269 kB)\u001b[0m\n",
      "\u001b[34mCollecting scikit-multilearn==0.2.0\n",
      "  Downloading scikit_multilearn-0.2.0-py3-none-any.whl (89 kB)\u001b[0m\n",
      "\u001b[34mRequirement already satisfied: cloudpickle==2.0.0 in /opt/conda/lib/python3.6/site-packages (from -r requirements.txt (line 12)) (2.0.0)\u001b[0m\n",
      "\u001b[34mRequirement already satisfied: numpy>=1.17 in /opt/conda/lib/python3.6/site-packages (from transformers==4.8.2->-r requirements.txt (line 1)) (1.19.1)\u001b[0m\n",
      "\u001b[34mCollecting huggingface-hub==0.0.12\n",
      "  Downloading huggingface_hub-0.0.12-py3-none-any.whl (37 kB)\u001b[0m\n",
      "\u001b[34mCollecting tokenizers<0.11,>=0.10.1\n",
      "  Downloading tokenizers-0.10.3-cp36-cp36m-manylinux_2_5_x86_64.manylinux1_x86_64.manylinux_2_12_x86_64.manylinux2010_x86_64.whl (3.3 MB)\u001b[0m\n",
      "\u001b[34mRequirement already satisfied: dataclasses in /opt/conda/lib/python3.6/site-packages (from transformers==4.8.2->-r requirements.txt (line 1)) (0.8)\u001b[0m\n",
      "\u001b[34mRequirement already satisfied: filelock in /opt/conda/lib/python3.6/site-packages (from transformers==4.8.2->-r requirements.txt (line 1)) (3.3.1)\u001b[0m\n",
      "\u001b[34mCollecting sacremoses\n",
      "  Downloading sacremoses-0.0.46-py3-none-any.whl (895 kB)\u001b[0m\n",
      "\u001b[34mRequirement already satisfied: pyyaml in /opt/conda/lib/python3.6/site-packages (from transformers==4.8.2->-r requirements.txt (line 1)) (5.4.1)\u001b[0m\n",
      "\u001b[34mRequirement already satisfied: packaging in /opt/conda/lib/python3.6/site-packages (from transformers==4.8.2->-r requirements.txt (line 1)) (21.0)\u001b[0m\n",
      "\u001b[34mRequirement already satisfied: importlib-metadata in /opt/conda/lib/python3.6/site-packages (from transformers==4.8.2->-r requirements.txt (line 1)) (4.8.1)\u001b[0m\n",
      "\u001b[34mRequirement already satisfied: requests in /opt/conda/lib/python3.6/site-packages (from transformers==4.8.2->-r requirements.txt (line 1)) (2.26.0)\u001b[0m\n",
      "\u001b[34mCollecting regex!=2019.12.17\n",
      "  Downloading regex-2021.11.10-cp36-cp36m-manylinux_2_17_x86_64.manylinux2014_x86_64.whl (748 kB)\u001b[0m\n",
      "\u001b[34mCollecting termcolor~=1.1.0\n",
      "  Downloading termcolor-1.1.0.tar.gz (3.9 kB)\n",
      "  Preparing metadata (setup.py): started\n",
      "  Preparing metadata (setup.py): finished with status 'done'\u001b[0m\n",
      "\u001b[34mRequirement already satisfied: wheel~=0.35 in /opt/conda/lib/python3.6/site-packages (from tensorflow==2.4.0->-r requirements.txt (line 2)) (0.36.2)\u001b[0m\n",
      "\u001b[34mCollecting opt-einsum~=3.3.0\n",
      "  Downloading opt_einsum-3.3.0-py3-none-any.whl (65 kB)\u001b[0m\n",
      "\u001b[34mCollecting tensorflow-estimator<2.5.0,>=2.4.0rc0\n",
      "  Downloading tensorflow_estimator-2.4.0-py2.py3-none-any.whl (462 kB)\u001b[0m\n",
      "\u001b[34mRequirement already satisfied: protobuf>=3.9.2 in /opt/conda/lib/python3.6/site-packages (from tensorflow==2.4.0->-r requirements.txt (line 2)) (3.18.1)\u001b[0m\n",
      "\u001b[34mCollecting flatbuffers~=1.12.0\n",
      "  Downloading flatbuffers-1.12-py2.py3-none-any.whl (15 kB)\u001b[0m\n",
      "\u001b[34mCollecting astunparse~=1.6.3\n",
      "  Downloading astunparse-1.6.3-py2.py3-none-any.whl (12 kB)\u001b[0m\n",
      "\u001b[34mCollecting absl-py~=0.10\n",
      "  Downloading absl_py-0.15.0-py3-none-any.whl (132 kB)\u001b[0m\n",
      "\u001b[34mCollecting numpy>=1.17\n",
      "  Downloading numpy-1.19.5-cp36-cp36m-manylinux2010_x86_64.whl (14.8 MB)\u001b[0m\n",
      "\u001b[34mCollecting grpcio~=1.32.0\n",
      "  Downloading grpcio-1.32.0-cp36-cp36m-manylinux2014_x86_64.whl (3.8 MB)\u001b[0m\n",
      "\u001b[34mCollecting h5py~=2.10.0\n",
      "  Downloading h5py-2.10.0-cp36-cp36m-manylinux1_x86_64.whl (2.9 MB)\u001b[0m\n",
      "\u001b[34mCollecting typing-extensions~=3.7.4\n",
      "  Downloading typing_extensions-3.7.4.3-py3-none-any.whl (22 kB)\u001b[0m\n",
      "\u001b[34mCollecting keras-preprocessing~=1.1.2\n",
      "  Downloading Keras_Preprocessing-1.1.2-py2.py3-none-any.whl (42 kB)\u001b[0m\n",
      "\u001b[34mRequirement already satisfied: google-pasta~=0.2 in /opt/conda/lib/python3.6/site-packages (from tensorflow==2.4.0->-r requirements.txt (line 2)) (0.2.0)\u001b[0m\n",
      "\u001b[34mCollecting six~=1.15.0\n",
      "  Downloading six-1.15.0-py2.py3-none-any.whl (10 kB)\u001b[0m\n",
      "\u001b[34mCollecting wrapt~=1.12.1\n",
      "  Downloading wrapt-1.12.1.tar.gz (27 kB)\n",
      "  Preparing metadata (setup.py): started\n",
      "  Preparing metadata (setup.py): finished with status 'done'\u001b[0m\n",
      "\u001b[34mCollecting gast==0.3.3\n",
      "  Downloading gast-0.3.3-py2.py3-none-any.whl (9.7 kB)\u001b[0m\n",
      "\u001b[34mCollecting tensorboard~=2.4\n",
      "  Downloading tensorboard-2.7.0-py3-none-any.whl (5.8 MB)\u001b[0m\n",
      "\u001b[34mCollecting pyDeprecate==0.3.0\n",
      "  Downloading pyDeprecate-0.3.0-py3-none-any.whl (10 kB)\u001b[0m\n",
      "\u001b[34mRequirement already satisfied: pillow!=8.3.0 in /opt/conda/lib/python3.6/site-packages (from pytorch-lightning==1.3.8->-r requirements.txt (line 3)) (8.3.2)\u001b[0m\n",
      "\u001b[34mRequirement already satisfied: future>=0.17.1 in /opt/conda/lib/python3.6/site-packages (from pytorch-lightning==1.3.8->-r requirements.txt (line 3)) (0.18.2)\u001b[0m\n",
      "\u001b[34mRequirement already satisfied: fsspec[http]!=2021.06.0,>=2021.05.0 in /opt/conda/lib/python3.6/site-packages (from pytorch-lightning==1.3.8->-r requirements.txt (line 3)) (2021.10.1)\u001b[0m\n",
      "\u001b[34mRequirement already satisfied: torch>=1.4 in /opt/conda/lib/python3.6/site-packages (from pytorch-lightning==1.3.8->-r requirements.txt (line 3)) (1.8.1)\u001b[0m\n",
      "\u001b[34mRequirement already satisfied: pandas in /opt/conda/lib/python3.6/site-packages (from mlflow==1.18.0->-r requirements.txt (line 6)) (1.1.5)\u001b[0m\n",
      "\u001b[34mRequirement already satisfied: click>=7.0 in /opt/conda/lib/python3.6/site-packages (from mlflow==1.18.0->-r requirements.txt (line 6)) (8.0.3)\u001b[0m\n",
      "\u001b[34mCollecting docker>=4.0.0\n",
      "  Downloading docker-5.0.3-py2.py3-none-any.whl (146 kB)\u001b[0m\n",
      "\u001b[34mRequirement already satisfied: Flask in /opt/conda/lib/python3.6/site-packages (from mlflow==1.18.0->-r requirements.txt (line 6)) (2.0.2)\u001b[0m\n",
      "\u001b[34mCollecting querystring-parser\n",
      "  Downloading querystring_parser-1.2.4-py2.py3-none-any.whl (7.9 kB)\u001b[0m\n",
      "\u001b[34mCollecting gitpython>=2.1.0\n",
      "  Downloading GitPython-3.1.18-py3-none-any.whl (170 kB)\u001b[0m\n",
      "\u001b[34mCollecting sqlalchemy\n",
      "  Downloading SQLAlchemy-1.4.27-cp36-cp36m-manylinux_2_5_x86_64.manylinux1_x86_64.manylinux_2_17_x86_64.manylinux2014_x86_64.whl (1.6 MB)\u001b[0m\n",
      "\u001b[34mCollecting gunicorn\n",
      "  Downloading gunicorn-20.1.0-py3-none-any.whl (79 kB)\u001b[0m\n",
      "\u001b[34mCollecting databricks-cli>=0.8.7\n",
      "  Downloading databricks-cli-0.16.2.tar.gz (58 kB)\n",
      "  Preparing metadata (setup.py): started\n",
      "  Preparing metadata (setup.py): finished with status 'done'\u001b[0m\n",
      "\u001b[34mRequirement already satisfied: pytz in /opt/conda/lib/python3.6/site-packages (from mlflow==1.18.0->-r requirements.txt (line 6)) (2021.3)\u001b[0m\n",
      "\u001b[34mCollecting prometheus-flask-exporter\n",
      "  Downloading prometheus_flask_exporter-0.18.6-py3-none-any.whl (17 kB)\u001b[0m\n",
      "\u001b[34mRequirement already satisfied: entrypoints in /opt/conda/lib/python3.6/site-packages (from mlflow==1.18.0->-r requirements.txt (line 6)) (0.3)\u001b[0m\n",
      "\u001b[34mCollecting alembic<=1.4.1\n",
      "  Downloading alembic-1.4.1.tar.gz (1.1 MB)\u001b[0m\n",
      "\u001b[34m  Preparing metadata (setup.py): started\n",
      "  Preparing metadata (setup.py): finished with status 'done'\u001b[0m\n",
      "\u001b[34mCollecting sqlparse>=0.3.1\n",
      "  Downloading sqlparse-0.4.2-py3-none-any.whl (42 kB)\u001b[0m\n",
      "\u001b[34mRequirement already satisfied: scipy>=0.17.0 in /opt/conda/lib/python3.6/site-packages (from scikit-learn==0.22.2.post1->-r requirements.txt (line 7)) (1.5.4)\u001b[0m\n",
      "\u001b[34mRequirement already satisfied: joblib>=0.11 in /opt/conda/lib/python3.6/site-packages (from scikit-learn==0.22.2.post1->-r requirements.txt (line 7)) (1.0.1)\u001b[0m\n",
      "\u001b[34mRequirement already satisfied: attrs in /opt/conda/lib/python3.6/site-packages (from sagemaker==2.49.1->-r requirements.txt (line 8)) (21.2.0)\u001b[0m\n",
      "\u001b[34mRequirement already satisfied: boto3>=1.16.32 in /opt/conda/lib/python3.6/site-packages (from sagemaker==2.49.1->-r requirements.txt (line 8)) (1.18.63)\u001b[0m\n",
      "\u001b[34mRequirement already satisfied: protobuf3-to-dict>=0.1.5 in /opt/conda/lib/python3.6/site-packages (from sagemaker==2.49.1->-r requirements.txt (line 8)) (0.1.5)\u001b[0m\n",
      "\u001b[34mRequirement already satisfied: smdebug_rulesconfig==1.0.1 in /opt/conda/lib/python3.6/site-packages (from sagemaker==2.49.1->-r requirements.txt (line 8)) (1.0.1)\u001b[0m\n",
      "\u001b[34mRequirement already satisfied: pathos in /opt/conda/lib/python3.6/site-packages (from sagemaker==2.49.1->-r requirements.txt (line 8)) (0.2.8)\u001b[0m\n",
      "\u001b[34mCollecting aiobotocore>=1.0.1\n",
      "  Downloading aiobotocore-2.0.1.tar.gz (54 kB)\n",
      "  Preparing metadata (setup.py): started\n",
      "  Preparing metadata (setup.py): finished with status 'done'\u001b[0m\n",
      "\u001b[34mCollecting fsspec==2021.07.0\n",
      "  Downloading fsspec-2021.7.0-py3-none-any.whl (118 kB)\u001b[0m\n",
      "\u001b[34mRequirement already satisfied: pyinstrument>=3.1.3 in /opt/conda/lib/python3.6/site-packages (from smdebug==1.0.11->-r requirements.txt (line 10)) (3.4.2)\u001b[0m\n",
      "\u001b[34mCollecting botocore<1.22.9,>=1.22.8\n",
      "  Downloading botocore-1.22.8-py3-none-any.whl (8.1 MB)\u001b[0m\n",
      "\u001b[34mCollecting aiohttp>=3.3.1\u001b[0m\n",
      "\u001b[34m  Downloading aiohttp-3.8.1-cp36-cp36m-manylinux_2_5_x86_64.manylinux1_x86_64.manylinux_2_12_x86_64.manylinux2010_x86_64.whl (1.1 MB)\u001b[0m\n",
      "\u001b[34mCollecting aioitertools>=0.5.1\n",
      "  Downloading aioitertools-0.8.0-py3-none-any.whl (21 kB)\u001b[0m\n",
      "\u001b[34mCollecting Mako\n",
      "  Downloading Mako-1.1.6-py2.py3-none-any.whl (75 kB)\u001b[0m\n",
      "\u001b[34mCollecting python-editor>=0.3\n",
      "  Downloading python_editor-1.0.4-py3-none-any.whl (4.9 kB)\u001b[0m\n",
      "\u001b[34mRequirement already satisfied: python-dateutil in /opt/conda/lib/python3.6/site-packages (from alembic<=1.4.1->mlflow==1.18.0->-r requirements.txt (line 6)) (2.8.2)\u001b[0m\n",
      "\u001b[34mCollecting boto3>=1.16.32\n",
      "  Downloading boto3-1.20.15-py3-none-any.whl (131 kB)\u001b[0m\n",
      "\u001b[34mRequirement already satisfied: s3transfer<0.6.0,>=0.5.0 in /opt/conda/lib/python3.6/site-packages (from boto3>=1.16.32->sagemaker==2.49.1->-r requirements.txt (line 8)) (0.5.0)\u001b[0m\n",
      "\u001b[34mRequirement already satisfied: jmespath<1.0.0,>=0.7.1 in /opt/conda/lib/python3.6/site-packages (from boto3>=1.16.32->sagemaker==2.49.1->-r requirements.txt (line 8)) (0.10.0)\n",
      "  Downloading boto3-1.20.14-py3-none-any.whl (131 kB)\n",
      "  Downloading boto3-1.20.13-py3-none-any.whl (131 kB)\n",
      "  Downloading boto3-1.20.12-py3-none-any.whl (131 kB)\n",
      "  Downloading boto3-1.20.11-py3-none-any.whl (131 kB)\n",
      "  Downloading boto3-1.20.10-py3-none-any.whl (131 kB)\u001b[0m\n"
     ]
    },
    {
     "name": "stdout",
     "output_type": "stream",
     "text": [
      "\u001b[34m  Downloading boto3-1.20.9-py3-none-any.whl (131 kB)\n",
      "  Downloading boto3-1.20.8-py3-none-any.whl (131 kB)\n",
      "  Downloading boto3-1.20.7-py3-none-any.whl (131 kB)\n",
      "  Downloading boto3-1.20.6-py3-none-any.whl (131 kB)\n",
      "  Downloading boto3-1.20.5-py3-none-any.whl (131 kB)\n",
      "  Downloading boto3-1.20.4-py3-none-any.whl (131 kB)\n",
      "  Downloading boto3-1.20.3-py3-none-any.whl (131 kB)\u001b[0m\n",
      "\u001b[34m  Downloading boto3-1.20.2-py3-none-any.whl (131 kB)\n",
      "  Downloading boto3-1.20.1-py3-none-any.whl (131 kB)\n",
      "  Downloading boto3-1.20.0-py3-none-any.whl (131 kB)\n",
      "  Downloading boto3-1.19.12-py3-none-any.whl (131 kB)\n",
      "  Downloading boto3-1.19.11-py3-none-any.whl (131 kB)\n",
      "  Downloading boto3-1.19.10-py3-none-any.whl (131 kB)\n",
      "  Downloading boto3-1.19.9-py3-none-any.whl (131 kB)\u001b[0m\n",
      "\u001b[34m  Downloading boto3-1.19.8-py3-none-any.whl (131 kB)\u001b[0m\n",
      "\u001b[34mRequirement already satisfied: tabulate>=0.7.7 in /opt/conda/lib/python3.6/site-packages (from databricks-cli>=0.8.7->mlflow==1.18.0->-r requirements.txt (line 6)) (0.8.9)\u001b[0m\n",
      "\u001b[34mRequirement already satisfied: websocket-client>=0.32.0 in /opt/conda/lib/python3.6/site-packages (from docker>=4.0.0->mlflow==1.18.0->-r requirements.txt (line 6)) (1.2.1)\u001b[0m\n",
      "\u001b[34mCollecting fsspec[http]!=2021.06.0,>=2021.05.0\n",
      "  Downloading fsspec-2021.11.1-py3-none-any.whl (132 kB)\n",
      "  Downloading fsspec-2021.11.0-py3-none-any.whl (132 kB)\n",
      "  Downloading fsspec-2021.10.0-py3-none-any.whl (125 kB)\n",
      "  Downloading fsspec-2021.9.0-py3-none-any.whl (123 kB)\n",
      "  Downloading fsspec-2021.8.1-py3-none-any.whl (119 kB)\u001b[0m\n",
      "\u001b[34mCollecting gitdb<5,>=4.0.1\n",
      "  Downloading gitdb-4.0.9-py3-none-any.whl (63 kB)\u001b[0m\n",
      "\u001b[34mRequirement already satisfied: zipp>=0.5 in /opt/conda/lib/python3.6/site-packages (from importlib-metadata->transformers==4.8.2->-r requirements.txt (line 1)) (3.6.0)\u001b[0m\n",
      "\u001b[34mRequirement already satisfied: pyparsing>=2.0.2 in /opt/conda/lib/python3.6/site-packages (from packaging->transformers==4.8.2->-r requirements.txt (line 1)) (2.4.7)\u001b[0m\n",
      "\u001b[34mRequirement already satisfied: pyinstrument-cext>=0.2.2 in /opt/conda/lib/python3.6/site-packages (from pyinstrument>=3.1.3->smdebug==1.0.11->-r requirements.txt (line 10)) (0.2.4)\u001b[0m\n",
      "\u001b[34mRequirement already satisfied: idna<4,>=2.5 in /opt/conda/lib/python3.6/site-packages (from requests->transformers==4.8.2->-r requirements.txt (line 1)) (2.10)\u001b[0m\n",
      "\u001b[34mRequirement already satisfied: urllib3<1.27,>=1.21.1 in /opt/conda/lib/python3.6/site-packages (from requests->transformers==4.8.2->-r requirements.txt (line 1)) (1.26.6)\u001b[0m\n",
      "\u001b[34mRequirement already satisfied: charset-normalizer~=2.0.0 in /opt/conda/lib/python3.6/site-packages (from requests->transformers==4.8.2->-r requirements.txt (line 1)) (2.0.4)\u001b[0m\n",
      "\u001b[34mRequirement already satisfied: certifi>=2017.4.17 in /opt/conda/lib/python3.6/site-packages (from requests->transformers==4.8.2->-r requirements.txt (line 1)) (2021.5.30)\u001b[0m\n",
      "\u001b[34mRequirement already satisfied: greenlet!=0.4.17 in /opt/conda/lib/python3.6/site-packages (from sqlalchemy->mlflow==1.18.0->-r requirements.txt (line 6)) (1.1.2)\u001b[0m\n",
      "\u001b[34mCollecting google-auth<3,>=1.6.3\n",
      "  Downloading google_auth-2.3.3-py2.py3-none-any.whl (155 kB)\u001b[0m\n",
      "\u001b[34mRequirement already satisfied: setuptools>=41.0.0 in /opt/conda/lib/python3.6/site-packages (from tensorboard~=2.4->tensorflow==2.4.0->-r requirements.txt (line 2)) (49.6.0.post20210108)\u001b[0m\n",
      "\u001b[34mCollecting markdown>=2.6.8\n",
      "  Downloading Markdown-3.3.6-py3-none-any.whl (97 kB)\u001b[0m\n",
      "\u001b[34mRequirement already satisfied: werkzeug>=0.11.15 in /opt/conda/lib/python3.6/site-packages (from tensorboard~=2.4->tensorflow==2.4.0->-r requirements.txt (line 2)) (2.0.2)\u001b[0m\n",
      "\u001b[34mCollecting tensorboard-plugin-wit>=1.6.0\n",
      "  Downloading tensorboard_plugin_wit-1.8.0-py3-none-any.whl (781 kB)\u001b[0m\n",
      "\u001b[34mCollecting google-auth-oauthlib<0.5,>=0.4.1\n",
      "  Downloading google_auth_oauthlib-0.4.6-py2.py3-none-any.whl (18 kB)\u001b[0m\n",
      "\u001b[34mCollecting tensorboard-data-server<0.7.0,>=0.6.0\n",
      "  Downloading tensorboard_data_server-0.6.1-py3-none-manylinux2010_x86_64.whl (4.9 MB)\u001b[0m\n",
      "\u001b[34mRequirement already satisfied: Jinja2>=3.0 in /opt/conda/lib/python3.6/site-packages (from Flask->mlflow==1.18.0->-r requirements.txt (line 6)) (3.0.2)\u001b[0m\n",
      "\u001b[34mRequirement already satisfied: itsdangerous>=2.0 in /opt/conda/lib/python3.6/site-packages (from Flask->mlflow==1.18.0->-r requirements.txt (line 6)) (2.0.1)\u001b[0m\n",
      "\u001b[34mRequirement already satisfied: multiprocess>=0.70.12 in /opt/conda/lib/python3.6/site-packages (from pathos->sagemaker==2.49.1->-r requirements.txt (line 8)) (0.70.12.2)\u001b[0m\n",
      "\u001b[34mRequirement already satisfied: dill>=0.3.4 in /opt/conda/lib/python3.6/site-packages (from pathos->sagemaker==2.49.1->-r requirements.txt (line 8)) (0.3.4)\u001b[0m\n",
      "\u001b[34mRequirement already satisfied: pox>=0.3.0 in /opt/conda/lib/python3.6/site-packages (from pathos->sagemaker==2.49.1->-r requirements.txt (line 8)) (0.3.0)\u001b[0m\n",
      "\u001b[34mRequirement already satisfied: ppft>=1.6.6.4 in /opt/conda/lib/python3.6/site-packages (from pathos->sagemaker==2.49.1->-r requirements.txt (line 8)) (1.6.6.4)\u001b[0m\n",
      "\u001b[34mRequirement already satisfied: prometheus-client in /opt/conda/lib/python3.6/site-packages (from prometheus-flask-exporter->mlflow==1.18.0->-r requirements.txt (line 6)) (0.11.0)\u001b[0m\n",
      "\u001b[34mCollecting frozenlist>=1.1.1\n",
      "  Downloading frozenlist-1.2.0-cp36-cp36m-manylinux_2_5_x86_64.manylinux1_x86_64.manylinux_2_12_x86_64.manylinux2010_x86_64.whl (191 kB)\u001b[0m\n",
      "\u001b[34mCollecting aiosignal>=1.1.2\n",
      "  Downloading aiosignal-1.2.0-py3-none-any.whl (8.2 kB)\u001b[0m\n",
      "\u001b[34mCollecting multidict<7.0,>=4.5\n",
      "  Downloading multidict-5.2.0-cp36-cp36m-manylinux_2_5_x86_64.manylinux1_x86_64.manylinux_2_12_x86_64.manylinux2010_x86_64.whl (159 kB)\u001b[0m\n",
      "\u001b[34mCollecting yarl<2.0,>=1.0\n",
      "  Downloading yarl-1.7.2-cp36-cp36m-manylinux_2_5_x86_64.manylinux1_x86_64.manylinux_2_12_x86_64.manylinux2010_x86_64.whl (270 kB)\u001b[0m\n",
      "\u001b[34mCollecting asynctest==0.13.0\n",
      "  Downloading asynctest-0.13.0-py3-none-any.whl (26 kB)\u001b[0m\n",
      "\u001b[34mCollecting idna-ssl>=1.0\n",
      "  Downloading idna-ssl-1.1.0.tar.gz (3.4 kB)\n",
      "  Preparing metadata (setup.py): started\n",
      "  Preparing metadata (setup.py): finished with status 'done'\u001b[0m\n",
      "\u001b[34mCollecting async-timeout<5.0,>=4.0.0a3\n",
      "  Downloading async_timeout-4.0.1-py3-none-any.whl (5.7 kB)\u001b[0m\n",
      "\u001b[34mCollecting smmap<6,>=3.0.1\n",
      "  Downloading smmap-5.0.0-py3-none-any.whl (24 kB)\u001b[0m\n",
      "\u001b[34mCollecting pyasn1-modules>=0.2.1\n",
      "  Downloading pyasn1_modules-0.2.8-py2.py3-none-any.whl (155 kB)\u001b[0m\n",
      "\u001b[34mCollecting cachetools<5.0,>=2.0.0\n",
      "  Downloading cachetools-4.2.4-py3-none-any.whl (10 kB)\u001b[0m\n",
      "\u001b[34mRequirement already satisfied: rsa<5,>=3.1.4 in /opt/conda/lib/python3.6/site-packages (from google-auth<3,>=1.6.3->tensorboard~=2.4->tensorflow==2.4.0->-r requirements.txt (line 2)) (4.7.2)\u001b[0m\n",
      "\u001b[34mCollecting requests-oauthlib>=0.7.0\n",
      "  Downloading requests_oauthlib-1.3.0-py2.py3-none-any.whl (23 kB)\u001b[0m\n",
      "\u001b[34mRequirement already satisfied: MarkupSafe>=2.0 in /opt/conda/lib/python3.6/site-packages (from Jinja2>=3.0->Flask->mlflow==1.18.0->-r requirements.txt (line 6)) (2.0.1)\u001b[0m\n",
      "\u001b[34mRequirement already satisfied: pyasn1<0.5.0,>=0.4.6 in /opt/conda/lib/python3.6/site-packages (from pyasn1-modules>=0.2.1->google-auth<3,>=1.6.3->tensorboard~=2.4->tensorflow==2.4.0->-r requirements.txt (line 2)) (0.4.8)\u001b[0m\n",
      "\u001b[34mCollecting oauthlib>=3.0.0\n",
      "  Downloading oauthlib-3.1.1-py2.py3-none-any.whl (146 kB)\u001b[0m\n",
      "\u001b[34mBuilding wheels for collected packages: sagemaker, aiobotocore, alembic, databricks-cli, termcolor, wrapt, idna-ssl\n",
      "  Building wheel for sagemaker (setup.py): started\n",
      "  Building wheel for sagemaker (setup.py): finished with status 'done'\n",
      "  Created wheel for sagemaker: filename=sagemaker-2.49.1-py2.py3-none-any.whl size=591916 sha256=a92b7dec2224bc86fbdb1cbec43b15b8f76b3193c4865bfd058b82f332cea255\n",
      "  Stored in directory: /root/.cache/pip/wheels/4c/af/ea/8ff5943a87155df5b184e54474fbf2b59b75e5c172854643c6\n",
      "  Building wheel for aiobotocore (setup.py): started\u001b[0m\n",
      "\u001b[34m  Building wheel for aiobotocore (setup.py): finished with status 'done'\n",
      "  Created wheel for aiobotocore: filename=aiobotocore-2.0.1-py3-none-any.whl size=51978 sha256=e28dbb3de9655854e039f8d523301ffadca52298436c572b48d06fb44adf4816\n",
      "  Stored in directory: /root/.cache/pip/wheels/73/b7/3b/15481dc56d092eba140bebca5486d592b34b90f93b99c46d3b\n",
      "  Building wheel for alembic (setup.py): started\n",
      "  Building wheel for alembic (setup.py): finished with status 'done'\n",
      "  Created wheel for alembic: filename=alembic-1.4.1-py2.py3-none-any.whl size=158155 sha256=acdae295c6b075bae490eaaed9844b83f71d63b6e2310ef9bb56dd8ad2008266\n",
      "  Stored in directory: /root/.cache/pip/wheels/e9/7b/aa/e18c983d8236b141f85838ba0f8e4e4ae9bcf7f1e00ff726ec\n",
      "  Building wheel for databricks-cli (setup.py): started\u001b[0m\n",
      "\u001b[34m  Building wheel for databricks-cli (setup.py): finished with status 'done'\n",
      "  Created wheel for databricks-cli: filename=databricks_cli-0.16.2-py3-none-any.whl size=106811 sha256=5944fe154008e6b8fd134102c5394e6c053888d4595bdb6e70b8320726dd33e1\n",
      "  Stored in directory: /root/.cache/pip/wheels/f5/cf/28/d354903b6e02a075cec67cfb2414321d2beed2cc428fe26478\n",
      "  Building wheel for termcolor (setup.py): started\n",
      "  Building wheel for termcolor (setup.py): finished with status 'done'\n",
      "  Created wheel for termcolor: filename=termcolor-1.1.0-py3-none-any.whl size=4829 sha256=80968235ee7788637c3addb2979c769afe8ce5f822a7643d1ee2ab3d6e9d507a\n",
      "  Stored in directory: /root/.cache/pip/wheels/93/2a/eb/e58dbcbc963549ee4f065ff80a59f274cc7210b6eab962acdc\n",
      "  Building wheel for wrapt (setup.py): started\u001b[0m\n"
     ]
    },
    {
     "name": "stdout",
     "output_type": "stream",
     "text": [
      "\u001b[34m  Building wheel for wrapt (setup.py): finished with status 'done'\n",
      "  Created wheel for wrapt: filename=wrapt-1.12.1-cp36-cp36m-linux_x86_64.whl size=69750 sha256=f1bdf749fb74b12d3668261c1fa36981bafaee2d37215e4d82f8683567806c20\n",
      "  Stored in directory: /root/.cache/pip/wheels/32/42/7f/23cae9ff6ef66798d00dc5d659088e57dbba01566f6c60db63\n",
      "  Building wheel for idna-ssl (setup.py): started\n",
      "  Building wheel for idna-ssl (setup.py): finished with status 'done'\n",
      "  Created wheel for idna-ssl: filename=idna_ssl-1.1.0-py3-none-any.whl size=3160 sha256=306adde6b91d03a4651485ec4e8388c3ea17bc16b3b32d6ee6d971d2e3937f68\n",
      "  Stored in directory: /root/.cache/pip/wheels/6a/f5/9c/f8331a854f7a8739cf0e74c13854e4dd7b1af11b04fe1dde13\u001b[0m\n",
      "\u001b[34mSuccessfully built sagemaker aiobotocore alembic databricks-cli termcolor wrapt idna-ssl\u001b[0m\n",
      "\u001b[34mInstalling collected packages: typing-extensions, six, pyasn1-modules, oauthlib, multidict, frozenlist, cachetools, yarl, smmap, requests-oauthlib, numpy, idna-ssl, google-auth, botocore, asynctest, async-timeout, aiosignal, wrapt, tqdm, tensorboard-plugin-wit, tensorboard-data-server, sqlalchemy, regex, python-editor, markdown, Mako, grpcio, google-auth-oauthlib, gitdb, fsspec, aioitertools, aiohttp, absl-py, torchmetrics, tokenizers, termcolor, tensorflow-estimator, tensorboard, sqlparse, sacremoses, querystring-parser, pyDeprecate, prometheus-flask-exporter, opt-einsum, keras-preprocessing, huggingface-hub, h5py, gunicorn, gitpython, gast, flatbuffers, docker, databricks-cli, boto3, astunparse, alembic, aiobotocore, transformers, tensorflow, smdebug, scikit-multilearn, scikit-learn, sagemaker, s3fs, pytorch-lightning, mlflow\n",
      "  Attempting uninstall: typing-extensions\n",
      "    Found existing installation: typing-extensions 3.10.0.2\n",
      "    Uninstalling typing-extensions-3.10.0.2:\u001b[0m\n",
      "\u001b[34m      Successfully uninstalled typing-extensions-3.10.0.2\n",
      "  Attempting uninstall: six\n",
      "    Found existing installation: six 1.16.0\n",
      "    Uninstalling six-1.16.0:\n",
      "      Successfully uninstalled six-1.16.0\n",
      "  Attempting uninstall: numpy\n",
      "    Found existing installation: numpy 1.19.1\u001b[0m\n",
      "\u001b[34m    Uninstalling numpy-1.19.1:\n",
      "      Successfully uninstalled numpy-1.19.1\u001b[0m\n",
      "\u001b[34m  Attempting uninstall: botocore\n",
      "    Found existing installation: botocore 1.21.63\n",
      "    Uninstalling botocore-1.21.63:\u001b[0m\n",
      "\u001b[34m      Successfully uninstalled botocore-1.21.63\n",
      "  Attempting uninstall: tqdm\n",
      "    Found existing installation: tqdm 4.61.2\n",
      "    Uninstalling tqdm-4.61.2:\n",
      "      Successfully uninstalled tqdm-4.61.2\u001b[0m\n",
      "\u001b[34m  Attempting uninstall: fsspec\n",
      "    Found existing installation: fsspec 2021.10.1\n",
      "    Uninstalling fsspec-2021.10.1:\n",
      "      Successfully uninstalled fsspec-2021.10.1\u001b[0m\n",
      "\u001b[34m  Attempting uninstall: h5py\n",
      "    Found existing installation: h5py 2.8.0\n",
      "    Uninstalling h5py-2.8.0:\n",
      "      Successfully uninstalled h5py-2.8.0\u001b[0m\n",
      "\u001b[34m  Attempting uninstall: boto3\n",
      "    Found existing installation: boto3 1.18.63\n",
      "    Uninstalling boto3-1.18.63:\n",
      "      Successfully uninstalled boto3-1.18.63\u001b[0m\n",
      "\u001b[34m  Attempting uninstall: smdebug\n",
      "    Found existing installation: smdebug 1.0.9\n",
      "    Uninstalling smdebug-1.0.9:\n",
      "      Successfully uninstalled smdebug-1.0.9\u001b[0m\n",
      "\u001b[34m  Attempting uninstall: scikit-learn\n",
      "    Found existing installation: scikit-learn 0.24.2\n",
      "    Uninstalling scikit-learn-0.24.2:\n",
      "      Successfully uninstalled scikit-learn-0.24.2\u001b[0m\n",
      "\u001b[34m  Attempting uninstall: sagemaker\n",
      "    Found existing installation: sagemaker 2.63.1\n",
      "    Uninstalling sagemaker-2.63.1:\n",
      "      Successfully uninstalled sagemaker-2.63.1\u001b[0m\n",
      "\u001b[34m  Attempting uninstall: s3fs\n",
      "    Found existing installation: s3fs 0.4.2\n",
      "    Uninstalling s3fs-0.4.2:\n",
      "      Successfully uninstalled s3fs-0.4.2\u001b[0m\n",
      "\u001b[34mSuccessfully installed Mako-1.1.6 absl-py-0.15.0 aiobotocore-2.0.1 aiohttp-3.8.1 aioitertools-0.8.0 aiosignal-1.2.0 alembic-1.4.1 astunparse-1.6.3 async-timeout-4.0.1 asynctest-0.13.0 boto3-1.19.8 botocore-1.22.8 cachetools-4.2.4 databricks-cli-0.16.2 docker-5.0.3 flatbuffers-1.12 frozenlist-1.2.0 fsspec-2021.7.0 gast-0.3.3 gitdb-4.0.9 gitpython-3.1.18 google-auth-2.3.3 google-auth-oauthlib-0.4.6 grpcio-1.32.0 gunicorn-20.1.0 h5py-2.10.0 huggingface-hub-0.0.12 idna-ssl-1.1.0 keras-preprocessing-1.1.2 markdown-3.3.6 mlflow-1.18.0 multidict-5.2.0 numpy-1.19.5 oauthlib-3.1.1 opt-einsum-3.3.0 prometheus-flask-exporter-0.18.6 pyDeprecate-0.3.0 pyasn1-modules-0.2.8 python-editor-1.0.4 pytorch-lightning-1.3.8 querystring-parser-1.2.4 regex-2021.11.10 requests-oauthlib-1.3.0 s3fs-2021.7.0 sacremoses-0.0.46 sagemaker-2.49.1 scikit-learn-0.22.2.post1 scikit-multilearn-0.2.0 six-1.15.0 smdebug-1.0.11 smmap-5.0.0 sqlalchemy-1.4.27 sqlparse-0.4.2 tensorboard-2.7.0 tensorboard-data-server-0.6.1 tensorboard-plugin-wit-1.8.0 tensorflow-2.4.0 tensorflow-estimator-2.4.0 termcolor-1.1.0 tokenizers-0.10.3 torchmetrics-0.4.1 tqdm-4.41.1 transformers-4.8.2 typing-extensions-3.7.4.3 wrapt-1.12.1 yarl-1.7.2\u001b[0m\n",
      "\u001b[34mERROR: pip's dependency resolver does not currently take into account all the packages that are installed. This behaviour is the source of the following dependency conflicts.\u001b[0m\n",
      "\u001b[34mawscli 1.20.63 requires botocore==1.21.63, but you have botocore 1.22.8 which is incompatible.\u001b[0m\n",
      "\u001b[34mWARNING: Running pip as the 'root' user can result in broken permissions and conflicting behaviour with the system package manager. It is recommended to use a virtual environment instead: https://pip.pypa.io/warnings/venv\u001b[0m\n",
      "\u001b[34m2021-11-29 16:38:42,664 sagemaker-training-toolkit INFO     Invoking user script\u001b[0m\n",
      "\u001b[34mTraining Env:\u001b[0m\n",
      "\u001b[34m{\n",
      "    \"additional_framework_parameters\": {},\n",
      "    \"channel_input_dirs\": {\n",
      "        \"test\": \"/opt/ml/input/data/test\",\n",
      "        \"train\": \"/opt/ml/input/data/train\"\n",
      "    },\n",
      "    \"current_host\": \"algo-1\",\n",
      "    \"framework_module\": \"sagemaker_pytorch_container.training:main\",\n",
      "    \"hosts\": [\n",
      "        \"algo-1\"\n",
      "    ],\n",
      "    \"hyperparameters\": {\n",
      "        \"experiment_name\": \"pl-all-models-experiments\",\n",
      "        \"min_results\": \"{'present_prim_tags': 0.8, 'present_sec_tags': 0.85, 'sectors': 0.89, 'pillars_1d': 0.85, 'pillars_2d': 0.81, 'subpillars_2d_part1': 0.8, 'subpillars_2d_part2': 0.72, 'subpillars_1d_part1': 0.89, 'subpillars_1d_part2': 0.85, 'subpillars_1d_part3': 0.84, 'gender': 0.84, 'age': 0.84, 'specific_needs_groups': 0.79, 'affected_groups_levels_2_3': 0.99, 'gender_snorkel': 0.87}\",\n",
      "        \"max_len\": 512,\n",
      "        \"training_names\": \"present_prim_tags,pillars_2d,subpillars_2d_part1,subpillars_2d_part2\",\n",
      "        \"model_name\": \"microsoft/xtremedistil-l6-h256-uncased\",\n",
      "        \"output_length\": 256,\n",
      "        \"beta_f1\": 0.5,\n",
      "        \"tokenizer_name\": \"microsoft/xtremedistil-l6-h256-uncased\",\n",
      "        \"nb_repetitions\": 1,\n",
      "        \"epochs\": 1,\n",
      "        \"instance_type\": \"ml.p3.2xlarge\",\n",
      "        \"run_name\": \"models_primary_tags\",\n",
      "        \"tracking_uri\": \"http://mlflow-deep-387470f3-1883319727.us-east-1.elb.amazonaws.com/\"\n",
      "    },\n",
      "    \"input_config_dir\": \"/opt/ml/input/config\",\n",
      "    \"input_data_config\": {\n",
      "        \"test\": {\n",
      "            \"TrainingInputMode\": \"File\",\n",
      "            \"S3DistributionType\": \"FullyReplicated\",\n",
      "            \"RecordWrapperType\": \"None\"\n",
      "        },\n",
      "        \"train\": {\n",
      "            \"TrainingInputMode\": \"File\",\n",
      "            \"S3DistributionType\": \"FullyReplicated\",\n",
      "            \"RecordWrapperType\": \"None\"\n",
      "        }\n",
      "    },\n",
      "    \"input_dir\": \"/opt/ml/input\",\n",
      "    \"is_master\": true,\n",
      "    \"job_name\": \"pytorch-2021-11-29-17-29-28-211-all-models\",\n",
      "    \"log_level\": 20,\n",
      "    \"master_hostname\": \"algo-1\",\n",
      "    \"model_dir\": \"/opt/ml/model\",\n",
      "    \"module_dir\": \"s3://sagemaker-deep-experiments-dev/training/input_data/pytorch-2021-11-29-17-29-28-211-all-models/pytorch-2021-11-29-17-29-28-211-all-models/source/sourcedir.tar.gz\",\n",
      "    \"module_name\": \"train_mlflow\",\n",
      "    \"network_interface_name\": \"eth0\",\n",
      "    \"num_cpus\": 8,\n",
      "    \"num_gpus\": 1,\n",
      "    \"output_data_dir\": \"/opt/ml/output/data\",\n",
      "    \"output_dir\": \"/opt/ml/output\",\n",
      "    \"output_intermediate_dir\": \"/opt/ml/output/intermediate\",\n",
      "    \"resource_config\": {\n",
      "        \"current_host\": \"algo-1\",\n",
      "        \"hosts\": [\n",
      "            \"algo-1\"\n",
      "        ],\n",
      "        \"network_interface_name\": \"eth0\"\n",
      "    },\n",
      "    \"user_entry_point\": \"train_mlflow.py\"\u001b[0m\n",
      "\u001b[34m}\u001b[0m\n",
      "\u001b[34mEnvironment variables:\u001b[0m\n",
      "\u001b[34mSM_HOSTS=[\"algo-1\"]\u001b[0m\n",
      "\u001b[34mSM_NETWORK_INTERFACE_NAME=eth0\u001b[0m\n",
      "\u001b[34mSM_HPS={\"beta_f1\":0.5,\"epochs\":1,\"experiment_name\":\"pl-all-models-experiments\",\"instance_type\":\"ml.p3.2xlarge\",\"max_len\":512,\"min_results\":\"{'present_prim_tags': 0.8, 'present_sec_tags': 0.85, 'sectors': 0.89, 'pillars_1d': 0.85, 'pillars_2d': 0.81, 'subpillars_2d_part1': 0.8, 'subpillars_2d_part2': 0.72, 'subpillars_1d_part1': 0.89, 'subpillars_1d_part2': 0.85, 'subpillars_1d_part3': 0.84, 'gender': 0.84, 'age': 0.84, 'specific_needs_groups': 0.79, 'affected_groups_levels_2_3': 0.99, 'gender_snorkel': 0.87}\",\"model_name\":\"microsoft/xtremedistil-l6-h256-uncased\",\"nb_repetitions\":1,\"output_length\":256,\"run_name\":\"models_primary_tags\",\"tokenizer_name\":\"microsoft/xtremedistil-l6-h256-uncased\",\"tracking_uri\":\"http://mlflow-deep-387470f3-1883319727.us-east-1.elb.amazonaws.com/\",\"training_names\":\"present_prim_tags,pillars_2d,subpillars_2d_part1,subpillars_2d_part2\"}\u001b[0m\n",
      "\u001b[34mSM_USER_ENTRY_POINT=train_mlflow.py\u001b[0m\n",
      "\u001b[34mSM_FRAMEWORK_PARAMS={}\u001b[0m\n",
      "\u001b[34mSM_RESOURCE_CONFIG={\"current_host\":\"algo-1\",\"hosts\":[\"algo-1\"],\"network_interface_name\":\"eth0\"}\u001b[0m\n",
      "\u001b[34mSM_INPUT_DATA_CONFIG={\"test\":{\"RecordWrapperType\":\"None\",\"S3DistributionType\":\"FullyReplicated\",\"TrainingInputMode\":\"File\"},\"train\":{\"RecordWrapperType\":\"None\",\"S3DistributionType\":\"FullyReplicated\",\"TrainingInputMode\":\"File\"}}\u001b[0m\n",
      "\u001b[34mSM_OUTPUT_DATA_DIR=/opt/ml/output/data\u001b[0m\n",
      "\u001b[34mSM_CHANNELS=[\"test\",\"train\"]\u001b[0m\n",
      "\u001b[34mSM_CURRENT_HOST=algo-1\u001b[0m\n",
      "\u001b[34mSM_MODULE_NAME=train_mlflow\u001b[0m\n",
      "\u001b[34mSM_LOG_LEVEL=20\u001b[0m\n",
      "\u001b[34mSM_FRAMEWORK_MODULE=sagemaker_pytorch_container.training:main\u001b[0m\n",
      "\u001b[34mSM_INPUT_DIR=/opt/ml/input\u001b[0m\n",
      "\u001b[34mSM_INPUT_CONFIG_DIR=/opt/ml/input/config\u001b[0m\n",
      "\u001b[34mSM_OUTPUT_DIR=/opt/ml/output\u001b[0m\n",
      "\u001b[34mSM_NUM_CPUS=8\u001b[0m\n",
      "\u001b[34mSM_NUM_GPUS=1\u001b[0m\n",
      "\u001b[34mSM_MODEL_DIR=/opt/ml/model\u001b[0m\n",
      "\u001b[34mSM_MODULE_DIR=s3://sagemaker-deep-experiments-dev/training/input_data/pytorch-2021-11-29-17-29-28-211-all-models/pytorch-2021-11-29-17-29-28-211-all-models/source/sourcedir.tar.gz\u001b[0m\n",
      "\u001b[34mSM_TRAINING_ENV={\"additional_framework_parameters\":{},\"channel_input_dirs\":{\"test\":\"/opt/ml/input/data/test\",\"train\":\"/opt/ml/input/data/train\"},\"current_host\":\"algo-1\",\"framework_module\":\"sagemaker_pytorch_container.training:main\",\"hosts\":[\"algo-1\"],\"hyperparameters\":{\"beta_f1\":0.5,\"epochs\":1,\"experiment_name\":\"pl-all-models-experiments\",\"instance_type\":\"ml.p3.2xlarge\",\"max_len\":512,\"min_results\":\"{'present_prim_tags': 0.8, 'present_sec_tags': 0.85, 'sectors': 0.89, 'pillars_1d': 0.85, 'pillars_2d': 0.81, 'subpillars_2d_part1': 0.8, 'subpillars_2d_part2': 0.72, 'subpillars_1d_part1': 0.89, 'subpillars_1d_part2': 0.85, 'subpillars_1d_part3': 0.84, 'gender': 0.84, 'age': 0.84, 'specific_needs_groups': 0.79, 'affected_groups_levels_2_3': 0.99, 'gender_snorkel': 0.87}\",\"model_name\":\"microsoft/xtremedistil-l6-h256-uncased\",\"nb_repetitions\":1,\"output_length\":256,\"run_name\":\"models_primary_tags\",\"tokenizer_name\":\"microsoft/xtremedistil-l6-h256-uncased\",\"tracking_uri\":\"http://mlflow-deep-387470f3-1883319727.us-east-1.elb.amazonaws.com/\",\"training_names\":\"present_prim_tags,pillars_2d,subpillars_2d_part1,subpillars_2d_part2\"},\"input_config_dir\":\"/opt/ml/input/config\",\"input_data_config\":{\"test\":{\"RecordWrapperType\":\"None\",\"S3DistributionType\":\"FullyReplicated\",\"TrainingInputMode\":\"File\"},\"train\":{\"RecordWrapperType\":\"None\",\"S3DistributionType\":\"FullyReplicated\",\"TrainingInputMode\":\"File\"}},\"input_dir\":\"/opt/ml/input\",\"is_master\":true,\"job_name\":\"pytorch-2021-11-29-17-29-28-211-all-models\",\"log_level\":20,\"master_hostname\":\"algo-1\",\"model_dir\":\"/opt/ml/model\",\"module_dir\":\"s3://sagemaker-deep-experiments-dev/training/input_data/pytorch-2021-11-29-17-29-28-211-all-models/pytorch-2021-11-29-17-29-28-211-all-models/source/sourcedir.tar.gz\",\"module_name\":\"train_mlflow\",\"network_interface_name\":\"eth0\",\"num_cpus\":8,\"num_gpus\":1,\"output_data_dir\":\"/opt/ml/output/data\",\"output_dir\":\"/opt/ml/output\",\"output_intermediate_dir\":\"/opt/ml/output/intermediate\",\"resource_config\":{\"current_host\":\"algo-1\",\"hosts\":[\"algo-1\"],\"network_interface_name\":\"eth0\"},\"user_entry_point\":\"train_mlflow.py\"}\u001b[0m\n",
      "\u001b[34mSM_USER_ARGS=[\"--beta_f1\",\"0.5\",\"--epochs\",\"1\",\"--experiment_name\",\"pl-all-models-experiments\",\"--instance_type\",\"ml.p3.2xlarge\",\"--max_len\",\"512\",\"--min_results\",\"{'present_prim_tags': 0.8, 'present_sec_tags': 0.85, 'sectors': 0.89, 'pillars_1d': 0.85, 'pillars_2d': 0.81, 'subpillars_2d_part1': 0.8, 'subpillars_2d_part2': 0.72, 'subpillars_1d_part1': 0.89, 'subpillars_1d_part2': 0.85, 'subpillars_1d_part3': 0.84, 'gender': 0.84, 'age': 0.84, 'specific_needs_groups': 0.79, 'affected_groups_levels_2_3': 0.99, 'gender_snorkel': 0.87}\",\"--model_name\",\"microsoft/xtremedistil-l6-h256-uncased\",\"--nb_repetitions\",\"1\",\"--output_length\",\"256\",\"--run_name\",\"models_primary_tags\",\"--tokenizer_name\",\"microsoft/xtremedistil-l6-h256-uncased\",\"--tracking_uri\",\"http://mlflow-deep-387470f3-1883319727.us-east-1.elb.amazonaws.com/\",\"--training_names\",\"present_prim_tags,pillars_2d,subpillars_2d_part1,subpillars_2d_part2\"]\u001b[0m\n",
      "\u001b[34mSM_OUTPUT_INTERMEDIATE_DIR=/opt/ml/output/intermediate\u001b[0m\n",
      "\u001b[34mSM_CHANNEL_TEST=/opt/ml/input/data/test\u001b[0m\n",
      "\u001b[34mSM_CHANNEL_TRAIN=/opt/ml/input/data/train\u001b[0m\n",
      "\u001b[34mSM_HP_EXPERIMENT_NAME=pl-all-models-experiments\u001b[0m\n",
      "\u001b[34mSM_HP_MIN_RESULTS={'present_prim_tags': 0.8, 'present_sec_tags': 0.85, 'sectors': 0.89, 'pillars_1d': 0.85, 'pillars_2d': 0.81, 'subpillars_2d_part1': 0.8, 'subpillars_2d_part2': 0.72, 'subpillars_1d_part1': 0.89, 'subpillars_1d_part2': 0.85, 'subpillars_1d_part3': 0.84, 'gender': 0.84, 'age': 0.84, 'specific_needs_groups': 0.79, 'affected_groups_levels_2_3': 0.99, 'gender_snorkel': 0.87}\u001b[0m\n",
      "\u001b[34mSM_HP_MAX_LEN=512\u001b[0m\n",
      "\u001b[34mSM_HP_TRAINING_NAMES=present_prim_tags,pillars_2d,subpillars_2d_part1,subpillars_2d_part2\u001b[0m\n",
      "\u001b[34mSM_HP_MODEL_NAME=microsoft/xtremedistil-l6-h256-uncased\u001b[0m\n",
      "\u001b[34mSM_HP_OUTPUT_LENGTH=256\u001b[0m\n",
      "\u001b[34mSM_HP_BETA_F1=0.5\u001b[0m\n",
      "\u001b[34mSM_HP_TOKENIZER_NAME=microsoft/xtremedistil-l6-h256-uncased\u001b[0m\n",
      "\u001b[34mSM_HP_NB_REPETITIONS=1\u001b[0m\n",
      "\u001b[34mSM_HP_EPOCHS=1\u001b[0m\n",
      "\u001b[34mSM_HP_INSTANCE_TYPE=ml.p3.2xlarge\u001b[0m\n",
      "\u001b[34mSM_HP_RUN_NAME=models_primary_tags\u001b[0m\n",
      "\u001b[34mSM_HP_TRACKING_URI=http://mlflow-deep-387470f3-1883319727.us-east-1.elb.amazonaws.com/\u001b[0m\n",
      "\u001b[34mPYTHONPATH=/opt/ml/code:/opt/conda/bin:/opt/conda/lib/python36.zip:/opt/conda/lib/python3.6:/opt/conda/lib/python3.6/lib-dynload:/opt/conda/lib/python3.6/site-packages\u001b[0m\n",
      "\u001b[34mInvoking script with the following command:\u001b[0m\n",
      "\u001b[34m/opt/conda/bin/python3.6 train_mlflow.py --beta_f1 0.5 --epochs 1 --experiment_name pl-all-models-experiments --instance_type ml.p3.2xlarge --max_len 512 --min_results {'present_prim_tags': 0.8, 'present_sec_tags': 0.85, 'sectors': 0.89, 'pillars_1d': 0.85, 'pillars_2d': 0.81, 'subpillars_2d_part1': 0.8, 'subpillars_2d_part2': 0.72, 'subpillars_1d_part1': 0.89, 'subpillars_1d_part2': 0.85, 'subpillars_1d_part3': 0.84, 'gender': 0.84, 'age': 0.84, 'specific_needs_groups': 0.79, 'affected_groups_levels_2_3': 0.99, 'gender_snorkel': 0.87} --model_name microsoft/xtremedistil-l6-h256-uncased --nb_repetitions 1 --output_length 256 --run_name models_primary_tags --tokenizer_name microsoft/xtremedistil-l6-h256-uncased --tracking_uri http://mlflow-deep-387470f3-1883319727.us-east-1.elb.amazonaws.com/ --training_names present_prim_tags,pillars_2d,subpillars_2d_part1,subpillars_2d_part2\u001b[0m\n"
     ]
    },
    {
     "name": "stdout",
     "output_type": "stream",
     "text": [
      "\u001b[34m[2021-11-29 16:38:57.858 algo-1:80 INFO utils.py:27] RULE_JOB_STOP_SIGNAL_FILENAME: None\u001b[0m\n",
      "\u001b[34m[2021-11-29 16:38:57.894 algo-1:80 INFO profiler_config_parser.py:102] User has disabled profiler.\u001b[0m\n",
      "\u001b[34m[2021-11-29 16:38:57.895 algo-1:80 INFO json_config.py:91] Creating hook from json_config at /opt/ml/input/config/debughookconfig.json.\u001b[0m\n",
      "\u001b[34m[2021-11-29 16:38:57.896 algo-1:80 INFO hook.py:201] tensorboard_dir has not been set for the hook. SMDebug will not be exporting tensorboard summaries.\u001b[0m\n",
      "\u001b[34m[2021-11-29 16:38:57.896 algo-1:80 INFO hook.py:255] Saving to /opt/ml/output/tensors\u001b[0m\n",
      "\u001b[34m[2021-11-29 16:38:57.896 algo-1:80 INFO state_store.py:77] The checkpoint config file /opt/ml/input/config/checkpointconfig.json does not exist.\u001b[0m\n",
      "\u001b[34m[2021-11-29 16:38:58.098 algo-1:80 INFO hook.py:594] name:model.l0.embeddings.word_embeddings.weight count_params:7813632\u001b[0m\n",
      "\u001b[34m[2021-11-29 16:38:58.099 algo-1:80 INFO hook.py:594] name:model.l0.embeddings.position_embeddings.weight count_params:131072\u001b[0m\n",
      "\u001b[34m[2021-11-29 16:38:58.099 algo-1:80 INFO hook.py:594] name:model.l0.embeddings.token_type_embeddings.weight count_params:512\u001b[0m\n",
      "\u001b[34m[2021-11-29 16:38:58.099 algo-1:80 INFO hook.py:594] name:model.l0.embeddings.LayerNorm.weight count_params:256\u001b[0m\n",
      "\u001b[34m[2021-11-29 16:38:58.099 algo-1:80 INFO hook.py:594] name:model.l0.embeddings.LayerNorm.bias count_params:256\u001b[0m\n",
      "\u001b[34m[2021-11-29 16:38:58.099 algo-1:80 INFO hook.py:594] name:model.l0.encoder.layer.0.attention.self.query.weight count_params:65536\u001b[0m\n",
      "\u001b[34m[2021-11-29 16:38:58.099 algo-1:80 INFO hook.py:594] name:model.l0.encoder.layer.0.attention.self.query.bias count_params:256\u001b[0m\n",
      "\u001b[34m[2021-11-29 16:38:58.099 algo-1:80 INFO hook.py:594] name:model.l0.encoder.layer.0.attention.self.key.weight count_params:65536\u001b[0m\n",
      "\u001b[34m[2021-11-29 16:38:58.099 algo-1:80 INFO hook.py:594] name:model.l0.encoder.layer.0.attention.self.key.bias count_params:256\u001b[0m\n",
      "\u001b[34m[2021-11-29 16:38:58.099 algo-1:80 INFO hook.py:594] name:model.l0.encoder.layer.0.attention.self.value.weight count_params:65536\u001b[0m\n",
      "\u001b[34m[2021-11-29 16:38:58.099 algo-1:80 INFO hook.py:594] name:model.l0.encoder.layer.0.attention.self.value.bias count_params:256\u001b[0m\n",
      "\u001b[34m[2021-11-29 16:38:58.099 algo-1:80 INFO hook.py:594] name:model.l0.encoder.layer.0.attention.output.dense.weight count_params:65536\u001b[0m\n",
      "\u001b[34m[2021-11-29 16:38:58.100 algo-1:80 INFO hook.py:594] name:model.l0.encoder.layer.0.attention.output.dense.bias count_params:256\u001b[0m\n",
      "\u001b[34m[2021-11-29 16:38:58.100 algo-1:80 INFO hook.py:594] name:model.l0.encoder.layer.0.attention.output.LayerNorm.weight count_params:256\u001b[0m\n",
      "\u001b[34m[2021-11-29 16:38:58.100 algo-1:80 INFO hook.py:594] name:model.l0.encoder.layer.0.attention.output.LayerNorm.bias count_params:256\u001b[0m\n",
      "\u001b[34m[2021-11-29 16:38:58.100 algo-1:80 INFO hook.py:594] name:model.l0.encoder.layer.0.intermediate.dense.weight count_params:262144\u001b[0m\n",
      "\u001b[34m[2021-11-29 16:38:58.100 algo-1:80 INFO hook.py:594] name:model.l0.encoder.layer.0.intermediate.dense.bias count_params:1024\u001b[0m\n",
      "\u001b[34m[2021-11-29 16:38:58.100 algo-1:80 INFO hook.py:594] name:model.l0.encoder.layer.0.output.dense.weight count_params:262144\u001b[0m\n",
      "\u001b[34m[2021-11-29 16:38:58.100 algo-1:80 INFO hook.py:594] name:model.l0.encoder.layer.0.output.dense.bias count_params:256\u001b[0m\n",
      "\u001b[34m[2021-11-29 16:38:58.100 algo-1:80 INFO hook.py:594] name:model.l0.encoder.layer.0.output.LayerNorm.weight count_params:256\u001b[0m\n",
      "\u001b[34m[2021-11-29 16:38:58.100 algo-1:80 INFO hook.py:594] name:model.l0.encoder.layer.0.output.LayerNorm.bias count_params:256\u001b[0m\n",
      "\u001b[34m[2021-11-29 16:38:58.100 algo-1:80 INFO hook.py:594] name:model.l0.encoder.layer.1.attention.self.query.weight count_params:65536\u001b[0m\n",
      "\u001b[34m[2021-11-29 16:38:58.100 algo-1:80 INFO hook.py:594] name:model.l0.encoder.layer.1.attention.self.query.bias count_params:256\u001b[0m\n",
      "\u001b[34m[2021-11-29 16:38:58.101 algo-1:80 INFO hook.py:594] name:model.l0.encoder.layer.1.attention.self.key.weight count_params:65536\u001b[0m\n",
      "\u001b[34m[2021-11-29 16:38:58.101 algo-1:80 INFO hook.py:594] name:model.l0.encoder.layer.1.attention.self.key.bias count_params:256\u001b[0m\n",
      "\u001b[34m[2021-11-29 16:38:58.101 algo-1:80 INFO hook.py:594] name:model.l0.encoder.layer.1.attention.self.value.weight count_params:65536\u001b[0m\n",
      "\u001b[34m[2021-11-29 16:38:58.101 algo-1:80 INFO hook.py:594] name:model.l0.encoder.layer.1.attention.self.value.bias count_params:256\u001b[0m\n",
      "\u001b[34m[2021-11-29 16:38:58.101 algo-1:80 INFO hook.py:594] name:model.l0.encoder.layer.1.attention.output.dense.weight count_params:65536\u001b[0m\n",
      "\u001b[34m[2021-11-29 16:38:58.101 algo-1:80 INFO hook.py:594] name:model.l0.encoder.layer.1.attention.output.dense.bias count_params:256\u001b[0m\n",
      "\u001b[34m[2021-11-29 16:38:58.101 algo-1:80 INFO hook.py:594] name:model.l0.encoder.layer.1.attention.output.LayerNorm.weight count_params:256\u001b[0m\n",
      "\u001b[34m[2021-11-29 16:38:58.101 algo-1:80 INFO hook.py:594] name:model.l0.encoder.layer.1.attention.output.LayerNorm.bias count_params:256\u001b[0m\n",
      "\u001b[34m[2021-11-29 16:38:58.101 algo-1:80 INFO hook.py:594] name:model.l0.encoder.layer.1.intermediate.dense.weight count_params:262144\u001b[0m\n",
      "\u001b[34m[2021-11-29 16:38:58.101 algo-1:80 INFO hook.py:594] name:model.l0.encoder.layer.1.intermediate.dense.bias count_params:1024\u001b[0m\n",
      "\u001b[34m[2021-11-29 16:38:58.101 algo-1:80 INFO hook.py:594] name:model.l0.encoder.layer.1.output.dense.weight count_params:262144\u001b[0m\n",
      "\u001b[34m[2021-11-29 16:38:58.102 algo-1:80 INFO hook.py:594] name:model.l0.encoder.layer.1.output.dense.bias count_params:256\u001b[0m\n",
      "\u001b[34m[2021-11-29 16:38:58.102 algo-1:80 INFO hook.py:594] name:model.l0.encoder.layer.1.output.LayerNorm.weight count_params:256\u001b[0m\n",
      "\u001b[34m[2021-11-29 16:38:58.102 algo-1:80 INFO hook.py:594] name:model.l0.encoder.layer.1.output.LayerNorm.bias count_params:256\u001b[0m\n",
      "\u001b[34m[2021-11-29 16:38:58.102 algo-1:80 INFO hook.py:594] name:model.l0.encoder.layer.2.attention.self.query.weight count_params:65536\u001b[0m\n",
      "\u001b[34m[2021-11-29 16:38:58.102 algo-1:80 INFO hook.py:594] name:model.l0.encoder.layer.2.attention.self.query.bias count_params:256\u001b[0m\n",
      "\u001b[34m[2021-11-29 16:38:58.102 algo-1:80 INFO hook.py:594] name:model.l0.encoder.layer.2.attention.self.key.weight count_params:65536\u001b[0m\n",
      "\u001b[34m[2021-11-29 16:38:58.102 algo-1:80 INFO hook.py:594] name:model.l0.encoder.layer.2.attention.self.key.bias count_params:256\u001b[0m\n",
      "\u001b[34m[2021-11-29 16:38:58.102 algo-1:80 INFO hook.py:594] name:model.l0.encoder.layer.2.attention.self.value.weight count_params:65536\u001b[0m\n",
      "\u001b[34m[2021-11-29 16:38:58.102 algo-1:80 INFO hook.py:594] name:model.l0.encoder.layer.2.attention.self.value.bias count_params:256\u001b[0m\n",
      "\u001b[34m[2021-11-29 16:38:58.102 algo-1:80 INFO hook.py:594] name:model.l0.encoder.layer.2.attention.output.dense.weight count_params:65536\u001b[0m\n",
      "\u001b[34m[2021-11-29 16:38:58.102 algo-1:80 INFO hook.py:594] name:model.l0.encoder.layer.2.attention.output.dense.bias count_params:256\u001b[0m\n",
      "\u001b[34m[2021-11-29 16:38:58.102 algo-1:80 INFO hook.py:594] name:model.l0.encoder.layer.2.attention.output.LayerNorm.weight count_params:256\u001b[0m\n",
      "\u001b[34m[2021-11-29 16:38:58.102 algo-1:80 INFO hook.py:594] name:model.l0.encoder.layer.2.attention.output.LayerNorm.bias count_params:256\u001b[0m\n",
      "\u001b[34m[2021-11-29 16:38:58.102 algo-1:80 INFO hook.py:594] name:model.l0.encoder.layer.2.intermediate.dense.weight count_params:262144\u001b[0m\n",
      "\u001b[34m[2021-11-29 16:38:58.102 algo-1:80 INFO hook.py:594] name:model.l0.encoder.layer.2.intermediate.dense.bias count_params:1024\u001b[0m\n",
      "\u001b[34m[2021-11-29 16:38:58.102 algo-1:80 INFO hook.py:594] name:model.l0.encoder.layer.2.output.dense.weight count_params:262144\u001b[0m\n",
      "\u001b[34m[2021-11-29 16:38:58.103 algo-1:80 INFO hook.py:594] name:model.l0.encoder.layer.2.output.dense.bias count_params:256\u001b[0m\n",
      "\u001b[34m[2021-11-29 16:38:58.103 algo-1:80 INFO hook.py:594] name:model.l0.encoder.layer.2.output.LayerNorm.weight count_params:256\u001b[0m\n",
      "\u001b[34m[2021-11-29 16:38:58.103 algo-1:80 INFO hook.py:594] name:model.l0.encoder.layer.2.output.LayerNorm.bias count_params:256\u001b[0m\n",
      "\u001b[34m[2021-11-29 16:38:58.103 algo-1:80 INFO hook.py:594] name:model.l0.encoder.layer.3.attention.self.query.weight count_params:65536\u001b[0m\n",
      "\u001b[34m[2021-11-29 16:38:58.103 algo-1:80 INFO hook.py:594] name:model.l0.encoder.layer.3.attention.self.query.bias count_params:256\u001b[0m\n",
      "\u001b[34m[2021-11-29 16:38:58.103 algo-1:80 INFO hook.py:594] name:model.l0.encoder.layer.3.attention.self.key.weight count_params:65536\u001b[0m\n",
      "\u001b[34m[2021-11-29 16:38:58.103 algo-1:80 INFO hook.py:594] name:model.l0.encoder.layer.3.attention.self.key.bias count_params:256\u001b[0m\n",
      "\u001b[34m[2021-11-29 16:38:58.103 algo-1:80 INFO hook.py:594] name:model.l0.encoder.layer.3.attention.self.value.weight count_params:65536\u001b[0m\n",
      "\u001b[34m[2021-11-29 16:38:58.103 algo-1:80 INFO hook.py:594] name:model.l0.encoder.layer.3.attention.self.value.bias count_params:256\u001b[0m\n",
      "\u001b[34m[2021-11-29 16:38:58.103 algo-1:80 INFO hook.py:594] name:model.l0.encoder.layer.3.attention.output.dense.weight count_params:65536\u001b[0m\n",
      "\u001b[34m[2021-11-29 16:38:58.103 algo-1:80 INFO hook.py:594] name:model.l0.encoder.layer.3.attention.output.dense.bias count_params:256\u001b[0m\n",
      "\u001b[34m[2021-11-29 16:38:58.104 algo-1:80 INFO hook.py:594] name:model.l0.encoder.layer.3.attention.output.LayerNorm.weight count_params:256\u001b[0m\n",
      "\u001b[34m[2021-11-29 16:38:58.104 algo-1:80 INFO hook.py:594] name:model.l0.encoder.layer.3.attention.output.LayerNorm.bias count_params:256\u001b[0m\n",
      "\u001b[34m[2021-11-29 16:38:58.104 algo-1:80 INFO hook.py:594] name:model.l0.encoder.layer.3.intermediate.dense.weight count_params:262144\u001b[0m\n",
      "\u001b[34m[2021-11-29 16:38:58.104 algo-1:80 INFO hook.py:594] name:model.l0.encoder.layer.3.intermediate.dense.bias count_params:1024\u001b[0m\n",
      "\u001b[34m[2021-11-29 16:38:58.104 algo-1:80 INFO hook.py:594] name:model.l0.encoder.layer.3.output.dense.weight count_params:262144\u001b[0m\n",
      "\u001b[34m[2021-11-29 16:38:58.104 algo-1:80 INFO hook.py:594] name:model.l0.encoder.layer.3.output.dense.bias count_params:256\u001b[0m\n",
      "\u001b[34m[2021-11-29 16:38:58.104 algo-1:80 INFO hook.py:594] name:model.l0.encoder.layer.3.output.LayerNorm.weight count_params:256\u001b[0m\n",
      "\u001b[34m[2021-11-29 16:38:58.104 algo-1:80 INFO hook.py:594] name:model.l0.encoder.layer.3.output.LayerNorm.bias count_params:256\u001b[0m\n",
      "\u001b[34m[2021-11-29 16:38:58.104 algo-1:80 INFO hook.py:594] name:model.l0.encoder.layer.4.attention.self.query.weight count_params:65536\u001b[0m\n",
      "\u001b[34m[2021-11-29 16:38:58.104 algo-1:80 INFO hook.py:594] name:model.l0.encoder.layer.4.attention.self.query.bias count_params:256\u001b[0m\n",
      "\u001b[34m[2021-11-29 16:38:58.104 algo-1:80 INFO hook.py:594] name:model.l0.encoder.layer.4.attention.self.key.weight count_params:65536\u001b[0m\n",
      "\u001b[34m[2021-11-29 16:38:58.104 algo-1:80 INFO hook.py:594] name:model.l0.encoder.layer.4.attention.self.key.bias count_params:256\u001b[0m\n",
      "\u001b[34m[2021-11-29 16:38:58.105 algo-1:80 INFO hook.py:594] name:model.l0.encoder.layer.4.attention.self.value.weight count_params:65536\u001b[0m\n",
      "\u001b[34m[2021-11-29 16:38:58.105 algo-1:80 INFO hook.py:594] name:model.l0.encoder.layer.4.attention.self.value.bias count_params:256\u001b[0m\n",
      "\u001b[34m[2021-11-29 16:38:58.105 algo-1:80 INFO hook.py:594] name:model.l0.encoder.layer.4.attention.output.dense.weight count_params:65536\u001b[0m\n",
      "\u001b[34m[2021-11-29 16:38:58.105 algo-1:80 INFO hook.py:594] name:model.l0.encoder.layer.4.attention.output.dense.bias count_params:256\u001b[0m\n",
      "\u001b[34m[2021-11-29 16:38:58.105 algo-1:80 INFO hook.py:594] name:model.l0.encoder.layer.4.attention.output.LayerNorm.weight count_params:256\u001b[0m\n",
      "\u001b[34m[2021-11-29 16:38:58.105 algo-1:80 INFO hook.py:594] name:model.l0.encoder.layer.4.attention.output.LayerNorm.bias count_params:256\u001b[0m\n",
      "\u001b[34m[2021-11-29 16:38:58.105 algo-1:80 INFO hook.py:594] name:model.l0.encoder.layer.4.intermediate.dense.weight count_params:262144\u001b[0m\n",
      "\u001b[34m[2021-11-29 16:38:58.105 algo-1:80 INFO hook.py:594] name:model.l0.encoder.layer.4.intermediate.dense.bias count_params:1024\u001b[0m\n",
      "\u001b[34m[2021-11-29 16:38:58.105 algo-1:80 INFO hook.py:594] name:model.l0.encoder.layer.4.output.dense.weight count_params:262144\u001b[0m\n",
      "\u001b[34m[2021-11-29 16:38:58.105 algo-1:80 INFO hook.py:594] name:model.l0.encoder.layer.4.output.dense.bias count_params:256\u001b[0m\n",
      "\u001b[34m[2021-11-29 16:38:58.105 algo-1:80 INFO hook.py:594] name:model.l0.encoder.layer.4.output.LayerNorm.weight count_params:256\u001b[0m\n",
      "\u001b[34m[2021-11-29 16:38:58.105 algo-1:80 INFO hook.py:594] name:model.l0.encoder.layer.4.output.LayerNorm.bias count_params:256\u001b[0m\n",
      "\u001b[34m[2021-11-29 16:38:58.105 algo-1:80 INFO hook.py:594] name:model.l0.encoder.layer.5.attention.self.query.weight count_params:65536\u001b[0m\n",
      "\u001b[34m[2021-11-29 16:38:58.105 algo-1:80 INFO hook.py:594] name:model.l0.encoder.layer.5.attention.self.query.bias count_params:256\u001b[0m\n",
      "\u001b[34m[2021-11-29 16:38:58.105 algo-1:80 INFO hook.py:594] name:model.l0.encoder.layer.5.attention.self.key.weight count_params:65536\u001b[0m\n",
      "\u001b[34m[2021-11-29 16:38:58.105 algo-1:80 INFO hook.py:594] name:model.l0.encoder.layer.5.attention.self.key.bias count_params:256\u001b[0m\n",
      "\u001b[34m[2021-11-29 16:38:58.106 algo-1:80 INFO hook.py:594] name:model.l0.encoder.layer.5.attention.self.value.weight count_params:65536\u001b[0m\n",
      "\u001b[34m[2021-11-29 16:38:58.106 algo-1:80 INFO hook.py:594] name:model.l0.encoder.layer.5.attention.self.value.bias count_params:256\u001b[0m\n",
      "\u001b[34m[2021-11-29 16:38:58.106 algo-1:80 INFO hook.py:594] name:model.l0.encoder.layer.5.attention.output.dense.weight count_params:65536\u001b[0m\n",
      "\u001b[34m[2021-11-29 16:38:58.106 algo-1:80 INFO hook.py:594] name:model.l0.encoder.layer.5.attention.output.dense.bias count_params:256\u001b[0m\n",
      "\u001b[34m[2021-11-29 16:38:58.106 algo-1:80 INFO hook.py:594] name:model.l0.encoder.layer.5.attention.output.LayerNorm.weight count_params:256\u001b[0m\n",
      "\u001b[34m[2021-11-29 16:38:58.106 algo-1:80 INFO hook.py:594] name:model.l0.encoder.layer.5.attention.output.LayerNorm.bias count_params:256\u001b[0m\n",
      "\u001b[34m[2021-11-29 16:38:58.106 algo-1:80 INFO hook.py:594] name:model.l0.encoder.layer.5.intermediate.dense.weight count_params:262144\u001b[0m\n",
      "\u001b[34m[2021-11-29 16:38:58.106 algo-1:80 INFO hook.py:594] name:model.l0.encoder.layer.5.intermediate.dense.bias count_params:1024\u001b[0m\n",
      "\u001b[34m[2021-11-29 16:38:58.106 algo-1:80 INFO hook.py:594] name:model.l0.encoder.layer.5.output.dense.weight count_params:262144\u001b[0m\n",
      "\u001b[34m[2021-11-29 16:38:58.106 algo-1:80 INFO hook.py:594] name:model.l0.encoder.layer.5.output.dense.bias count_params:256\u001b[0m\n",
      "\u001b[34m[2021-11-29 16:38:58.106 algo-1:80 INFO hook.py:594] name:model.l0.encoder.layer.5.output.LayerNorm.weight count_params:256\u001b[0m\n",
      "\u001b[34m[2021-11-29 16:38:58.106 algo-1:80 INFO hook.py:594] name:model.l0.encoder.layer.5.output.LayerNorm.bias count_params:256\u001b[0m\n",
      "\u001b[34m[2021-11-29 16:38:58.106 algo-1:80 INFO hook.py:594] name:model.l0.pooler.dense.weight count_params:65536\u001b[0m\n",
      "\u001b[34m[2021-11-29 16:38:58.107 algo-1:80 INFO hook.py:594] name:model.l0.pooler.dense.bias count_params:256\u001b[0m\n",
      "\u001b[34m[2021-11-29 16:38:58.107 algo-1:80 INFO hook.py:594] name:model.l2.weight count_params:131072\u001b[0m\n",
      "\u001b[34m[2021-11-29 16:38:58.107 algo-1:80 INFO hook.py:594] name:model.l2.bias count_params:512\u001b[0m\n",
      "\u001b[34m[2021-11-29 16:38:58.107 algo-1:80 INFO hook.py:594] name:model.l5.weight count_params:1536\u001b[0m\n",
      "\u001b[34m[2021-11-29 16:38:58.107 algo-1:80 INFO hook.py:594] name:model.l5.bias count_params:3\u001b[0m\n",
      "\u001b[34m[2021-11-29 16:38:58.107 algo-1:80 INFO hook.py:596] Total Trainable Params: 12883203\u001b[0m\n",
      "\u001b[34m[2021-11-29 16:38:58.107 algo-1:80 INFO hook.py:423] Monitoring the collections: losses\u001b[0m\n",
      "\u001b[34m[2021-11-29 16:38:58.111 algo-1:80 INFO hook.py:486] Hook is writing from the hook with pid: 80\u001b[0m\n"
     ]
    },
    {
     "name": "stdout",
     "output_type": "stream",
     "text": [
      "\u001b[34m#015Validation sanity check: 0it [00:00, ?it/s]#015Validation sanity check:   0%|          | 0/2 [00:00<?, ?it/s]#015                                                              #015#015Training: 88it [00:00, ?it/s]#015Training:   0%|          | 0/595 [00:00<?, ?it/s]#015Epoch 0:   0%|          | 0/595 [00:00<?, ?it/s] #015Epoch 0:   5%|▌         | 30/595 [00:03<01:07,  8.43it/s]#015Epoch 0:   5%|▌         | 30/595 [00:03<01:07,  8.43it/s, loss=0.0229, v_num=0, val_loss_epoch=0.0433, train_loss=0.0219]#015Epoch 0:  10%|█         | 60/595 [00:06<01:02,  8.59it/s, loss=0.0229, v_num=0, val_loss_epoch=0.0433, train_loss=0.0219]#015Epoch 0:  10%|█         | 60/595 [00:06<01:02,  8.59it/s, loss=0.0205, v_num=0, val_loss_epoch=0.0433, train_loss=0.0218]#015Epoch 0:  15%|█▌        | 90/595 [00:10<00:58,  8.70it/s, loss=0.0205, v_num=0, val_loss_epoch=0.0433, train_loss=0.0218]#015Epoch 0:  15%|█▌        | 90/595 [00:10<00:58,  8.70it/s, loss=0.0193, v_num=0, val_loss_epoch=0.0433, train_loss=0.0218]#015Epoch 0:  20%|██        | 120/595 [00:13<00:54,  8.70it/s, loss=0.0193, v_num=0, val_loss_epoch=0.0433, train_loss=0.0218]#015Epoch 0:  20%|██        | 120/595 [00:13<00:54,  8.70it/s, loss=0.0194, v_num=0, val_loss_epoch=0.0433, train_loss=0.0194]#015Epoch 0:  25%|██▌       | 150/595 [00:17<00:51,  8.70it/s, loss=0.0194, v_num=0, val_loss_epoch=0.0433, train_loss=0.0194]#015Epoch 0:  25%|██▌       | 150/595 [00:17<00:51,  8.70it/s, loss=0.0183, v_num=0, val_loss_epoch=0.0433, train_loss=0.016] #015Epoch 0:  30%|███       | 180/595 [00:20<00:47,  8.74it/s, loss=0.0183, v_num=0, val_loss_epoch=0.0433, train_loss=0.016]#015Epoch 0:  30%|███       | 180/595 [00:20<00:47,  8.74it/s, loss=0.0178, v_num=0, val_loss_epoch=0.0433, train_loss=0.0191]#015Epoch 0:  35%|███▌      | 210/595 [00:24<00:44,  8.73it/s, loss=0.0178, v_num=0, val_loss_epoch=0.0433, train_loss=0.0191]#015Epoch 0:  35%|███▌      | 210/595 [00:24<00:44,  8.73it/s, loss=0.0173, v_num=0, val_loss_epoch=0.0433, train_loss=0.0173]#015Epoch 0:  40%|████      | 240/595 [00:27<00:40,  8.74it/s, loss=0.0173, v_num=0, val_loss_epoch=0.0433, train_loss=0.0173]#015Epoch 0:  40%|████      | 240/595 [00:27<00:40,  8.74it/s, loss=0.0171, v_num=0, val_loss_epoch=0.0433, train_loss=0.0138]#015Epoch 0:  45%|████▌     | 270/595 [00:30<00:37,  8.74it/s, loss=0.0171, v_num=0, val_loss_epoch=0.0433, train_loss=0.0138]#015Epoch 0:  45%|████▌     | 270/595 [00:30<00:37,  8.74it/s, loss=0.0171, v_num=0, val_loss_epoch=0.0433, train_loss=0.0163]#015Epoch 0:  50%|█████     | 300/595 [00:34<00:33,  8.74it/s, loss=0.0171, v_num=0, val_loss_epoch=0.0433, train_loss=0.0163]#015Epoch 0:  50%|█████     | 300/595 [00:34<00:33,  8.74it/s, loss=0.0167, v_num=0, val_loss_epoch=0.0433, train_loss=0.0185]#015Epoch 0:  55%|█████▌    | 330/595 [00:37<00:30,  8.76it/s, loss=0.0167, v_num=0, val_loss_epoch=0.0433, train_loss=0.0185]#015Epoch 0:  55%|█████▌    | 330/595 [00:37<00:30,  8.76it/s, loss=0.0172, v_num=0, val_loss_epoch=0.0433, train_loss=0.0146]#015Epoch 0:  61%|██████    | 360/595 [00:41<00:26,  8.75it/s, loss=0.0172, v_num=0, val_loss_epoch=0.0433, train_loss=0.0146]#015Epoch 0:  61%|██████    | 360/595 [00:41<00:26,  8.75it/s, loss=0.0155, v_num=0, val_loss_epoch=0.0433, train_loss=0.0169]#015Epoch 0:  66%|██████▌   | 390/595 [00:44<00:23,  8.77it/s, loss=0.0155, v_num=0, val_loss_epoch=0.0433, train_loss=0.0169]#015Epoch 0:  66%|██████▌   | 390/595 [00:44<00:23,  8.77it/s, loss=0.0153, v_num=0, val_loss_epoch=0.0433, train_loss=0.0168]#015Epoch 0:  71%|███████   | 420/595 [00:47<00:19,  8.76it/s, loss=0.0153, v_num=0, val_loss_epoch=0.0433, train_loss=0.0168]#015Epoch 0:  71%|███████   | 420/595 [00:47<00:19,  8.76it/s, loss=0.0163, v_num=0, val_loss_epoch=0.0433, train_loss=0.0136]#015Epoch 0:  76%|███████▌  | 450/595 [00:51<00:16,  8.76it/s, loss=0.0163, v_num=0, val_loss_epoch=0.0433, train_loss=0.0136]#015Epoch 0:  76%|███████▌  | 450/595 [00:51<00:16,  8.76it/s, loss=0.0149, v_num=0, val_loss_epoch=0.0433, train_loss=0.0155]#015Epoch 0:  81%|████████  | 480/595 [00:54<00:13,  8.77it/s, loss=0.0149, v_num=0, val_loss_epoch=0.0433, train_loss=0.0155]#015Epoch 0:  81%|████████  | 480/595 [00:54<00:13,  8.77it/s, loss=0.0154, v_num=0, val_loss_epoch=0.0433, train_loss=0.0135]#015Epoch 0:  86%|████████▌ | 510/595 [00:58<00:09,  8.76it/s, loss=0.0154, v_num=0, val_loss_epoch=0.0433, train_loss=0.0135]#015Epoch 0:  86%|████████▌ | 510/595 [00:58<00:09,  8.76it/s, loss=0.0143, v_num=0, val_loss_epoch=0.0433, train_loss=0.0147]#015Epoch 0:  91%|█████████ | 540/595 [01:01<00:06,  8.77it/s, loss=0.0143, v_num=0, val_loss_epoch=0.0433, train_loss=0.0147]#015Epoch 0:  91%|█████████ | 540/595 [01:01<00:06,  8.77it/s, loss=0.0141, v_num=0, val_loss_epoch=0.0433, train_loss=0.0136]#015Epoch 0:  96%|█████████▌| 570/595 [01:04<00:02,  8.87it/s, loss=0.0141, v_num=0, val_loss_epoch=0.0433, train_loss=0.0136]\u001b[0m\n",
      "\u001b[34m#015Validating: 0it [00:00, ?it/s]#033[A\u001b[0m\n",
      "\u001b[34m#015Validating:   0%|          | 0/32 [00:00<?, ?it/s]#033[A\u001b[0m\n",
      "\u001b[34m#015Validating:  94%|█████████▍| 30/32 [00:01<00:00, 15.71it/s]#033[A\u001b[0m\n",
      "\u001b[34m#015Validating: 100%|██████████| 32/32 [00:02<00:00, 16.22it/s]#033[A#015Epoch 0: 100%|██████████| 595/595 [01:06<00:00,  8.97it/s, loss=0.0156, v_num=0, val_loss_epoch=0.0262, train_loss=0.0203, val_loss_step=0.0347]\u001b[0m\n",
      "\u001b[34m#015                                                           #033[A#015Epoch 0: 100%|██████████| 595/595 [01:17<00:00,  7.72it/s, loss=0.0156, v_num=0, val_loss_epoch=0.0262, train_loss=0.0203, val_loss_step=0.0347]#015Validation sanity check: 0it [00:00, ?it/s]#015Validation sanity check:   0%|          | 0/2 [00:00<?, ?it/s]#015                                                              #015#015Training: 84it [00:00, ?it/s]#015Training:   0%|          | 0/380 [00:00<?, ?it/s]#015Epoch 0:   0%|          | 0/380 [00:00<?, ?it/s] #015Epoch 0:   8%|▊         | 30/380 [00:03<00:41,  8.41it/s]#015Epoch 0:   8%|▊         | 30/380 [00:03<00:41,  8.41it/s, loss=0.0291, v_num=0, val_loss_epoch=0.0321, train_loss=0.0282]#015Epoch 0:  16%|█▌        | 60/380 [00:06<00:37,  8.60it/s, loss=0.0291, v_num=0, val_loss_epoch=0.0321, train_loss=0.0282]#015Epoch 0:  16%|█▌        | 60/380 [00:06<00:37,  8.60it/s, loss=0.028, v_num=0, val_loss_epoch=0.0321, train_loss=0.026]  #015Epoch 0:  24%|██▎       | 90/380 [00:10<00:33,  8.72it/s, loss=0.028, v_num=0, val_loss_epoch=0.0321, train_loss=0.026]#015Epoch 0:  24%|██▎       | 90/380 [00:10<00:33,  8.72it/s, loss=0.0261, v_num=0, val_loss_epoch=0.0321, train_loss=0.0263]#015Epoch 0:  32%|███▏      | 120/380 [00:13<00:29,  8.74it/s, loss=0.0261, v_num=0, val_loss_epoch=0.0321, train_loss=0.0263]#015Epoch 0:  32%|███▏      | 120/380 [00:13<00:29,  8.74it/s, loss=0.0256, v_num=0, val_loss_epoch=0.0321, train_loss=0.0237]#015Epoch 0:  39%|███▉      | 150/380 [00:17<00:26,  8.75it/s, loss=0.0256, v_num=0, val_loss_epoch=0.0321, train_loss=0.0237]#015Epoch 0:  39%|███▉      | 150/380 [00:17<00:26,  8.75it/s, loss=0.0237, v_num=0, val_loss_epoch=0.0321, train_loss=0.0227]#015Epoch 0:  47%|████▋     | 180/380 [00:20<00:22,  8.78it/s, loss=0.0237, v_num=0, val_loss_epoch=0.0321, train_loss=0.0227]#015Epoch 0:  47%|████▋     | 180/380 [00:20<00:22,  8.78it/s, loss=0.0227, v_num=0, val_loss_epoch=0.0321, train_loss=0.025] #015Epoch 0:  55%|█████▌    | 210/380 [00:23<00:19,  8.78it/s, loss=0.0227, v_num=0, val_loss_epoch=0.0321, train_loss=0.025]#015Epoch 0:  55%|█████▌    | 210/380 [00:23<00:19,  8.78it/s, loss=0.0234, v_num=0, val_loss_epoch=0.0321, train_loss=0.0206]#015Epoch 0:  63%|██████▎   | 240/380 [00:27<00:15,  8.81it/s, loss=0.0234, v_num=0, val_loss_epoch=0.0321, train_loss=0.0206]#015Epoch 0:  63%|██████▎   | 240/380 [00:27<00:15,  8.81it/s, loss=0.0219, v_num=0, val_loss_epoch=0.0321, train_loss=0.0188]#015Epoch 0:  71%|███████   | 270/380 [00:30<00:12,  8.81it/s, loss=0.0219, v_num=0, val_loss_epoch=0.0321, train_loss=0.0188]#015Epoch 0:  71%|███████   | 270/380 [00:30<00:12,  8.80it/s, loss=0.023, v_num=0, val_loss_epoch=0.0321, train_loss=0.0249] #015Epoch 0:  79%|███████▉  | 300/380 [00:34<00:09,  8.80it/s, loss=0.023, v_num=0, val_loss_epoch=0.0321, train_loss=0.0249]#015Epoch 0:  79%|███████▉  | 300/380 [00:34<00:09,  8.80it/s, loss=0.0233, v_num=0, val_loss_epoch=0.0321, train_loss=0.0252]#015Epoch 0:  87%|████████▋ | 330/380 [00:37<00:05,  8.81it/s, loss=0.0233, v_num=0, val_loss_epoch=0.0321, train_loss=0.0252]#015Epoch 0:  87%|████████▋ | 330/380 [00:37<00:05,  8.81it/s, loss=0.0215, v_num=0, val_loss_epoch=0.0321, train_loss=0.0249]#015Epoch 0:  95%|█████████▍| 360/380 [00:40<00:02,  8.82it/s, loss=0.0215, v_num=0, val_loss_epoch=0.0321, train_loss=0.0249]\u001b[0m\n",
      "\u001b[34m#015Validating: 0it [00:00, ?it/s]#033[A\u001b[0m\n",
      "\u001b[34m#015Validating:   0%|          | 0/21 [00:00<?, ?it/s]#033[A\u001b[0m\n",
      "\u001b[34m#015Validating: 100%|██████████| 21/21 [00:01<00:00, 15.44it/s]#033[A#015Epoch 0: 100%|██████████| 380/380 [00:42<00:00,  9.00it/s, loss=0.0228, v_num=0, val_loss_epoch=0.0235, train_loss=0.0184, val_loss_step=0.0248]\u001b[0m\n"
     ]
    },
    {
     "name": "stdout",
     "output_type": "stream",
     "text": [
      "\u001b[34m#015                                                           #033[A#015Epoch 0: 100%|██████████| 380/380 [00:53<00:00,  7.09it/s, loss=0.0228, v_num=0, val_loss_epoch=0.0235, train_loss=0.0184, val_loss_step=0.0248]#015Validation sanity check: 0it [00:00, ?it/s]#015Validation sanity check:   0%|          | 0/2 [00:00<?, ?it/s]#015                                                              #015#015Training: 85it [00:00, ?it/s]#015Training:   0%|          | 0/323 [00:00<?, ?it/s]#015Epoch 0:   0%|          | 0/323 [00:00<?, ?it/s] #015Epoch 0:   9%|▉         | 30/323 [00:03<00:35,  8.32it/s]#015Epoch 0:   9%|▉         | 30/323 [00:03<00:35,  8.32it/s, loss=0.0271, v_num=0, val_loss_epoch=0.0245, train_loss=0.0227]#015Epoch 0:  19%|█▊        | 60/323 [00:07<00:30,  8.50it/s, loss=0.0271, v_num=0, val_loss_epoch=0.0245, train_loss=0.0227]#015Epoch 0:  19%|█▊        | 60/323 [00:07<00:30,  8.50it/s, loss=0.0256, v_num=0, val_loss_epoch=0.0245, train_loss=0.0269]#015Epoch 0:  28%|██▊       | 90/323 [00:10<00:27,  8.63it/s, loss=0.0256, v_num=0, val_loss_epoch=0.0245, train_loss=0.0269]#015Epoch 0:  28%|██▊       | 90/323 [00:10<00:27,  8.63it/s, loss=0.0259, v_num=0, val_loss_epoch=0.0245, train_loss=0.0252]#015Epoch 0:  37%|███▋      | 120/323 [00:13<00:23,  8.64it/s, loss=0.0259, v_num=0, val_loss_epoch=0.0245, train_loss=0.0252]#015Epoch 0:  37%|███▋      | 120/323 [00:13<00:23,  8.64it/s, loss=0.0261, v_num=0, val_loss_epoch=0.0245, train_loss=0.0283]#015Epoch 0:  46%|████▋     | 150/323 [00:17<00:19,  8.67it/s, loss=0.0261, v_num=0, val_loss_epoch=0.0245, train_loss=0.0283]#015Epoch 0:  46%|████▋     | 150/323 [00:17<00:19,  8.67it/s, loss=0.0265, v_num=0, val_loss_epoch=0.0245, train_loss=0.0254]#015Epoch 0:  56%|█████▌    | 180/323 [00:20<00:16,  8.70it/s, loss=0.0265, v_num=0, val_loss_epoch=0.0245, train_loss=0.0254]#015Epoch 0:  56%|█████▌    | 180/323 [00:20<00:16,  8.70it/s, loss=0.0264, v_num=0, val_loss_epoch=0.0245, train_loss=0.0269]#015Epoch 0:  65%|██████▌   | 210/323 [00:24<00:13,  8.69it/s, loss=0.0264, v_num=0, val_loss_epoch=0.0245, train_loss=0.0269]#015Epoch 0:  65%|██████▌   | 210/323 [00:24<00:13,  8.69it/s, loss=0.0257, v_num=0, val_loss_epoch=0.0245, train_loss=0.0286]#015Epoch 0:  74%|███████▍  | 240/323 [00:27<00:09,  8.72it/s, loss=0.0257, v_num=0, val_loss_epoch=0.0245, train_loss=0.0286]#015Epoch 0:  74%|███████▍  | 240/323 [00:27<00:09,  8.72it/s, loss=0.0254, v_num=0, val_loss_epoch=0.0245, train_loss=0.0235]#015Epoch 0:  84%|████████▎ | 270/323 [00:30<00:06,  8.72it/s, loss=0.0254, v_num=0, val_loss_epoch=0.0245, train_loss=0.0235]#015Epoch 0:  84%|████████▎ | 270/323 [00:30<00:06,  8.72it/s, loss=0.0257, v_num=0, val_loss_epoch=0.0245, train_loss=0.0239]#015Epoch 0:  93%|█████████▎| 300/323 [00:34<00:02,  8.73it/s, loss=0.0257, v_num=0, val_loss_epoch=0.0245, train_loss=0.0239]#015Epoch 0:  93%|█████████▎| 300/323 [00:34<00:02,  8.73it/s, loss=0.0262, v_num=0, val_loss_epoch=0.0245, train_loss=0.025] \u001b[0m\n",
      "\u001b[34m#015Validating: 0it [00:00, ?it/s]#033[A\u001b[0m\n",
      "\u001b[34m#015Validating:   0%|          | 0/18 [00:00<?, ?it/s]#033[A\u001b[0m\n",
      "\u001b[34m#015Validating: 100%|██████████| 18/18 [00:01<00:00, 14.95it/s]#033[A#015Epoch 0: 100%|██████████| 323/323 [00:36<00:00,  8.92it/s, loss=0.0256, v_num=0, val_loss_epoch=0.0242, train_loss=0.0293, val_loss_step=0.0232]\u001b[0m\n",
      "\u001b[34m#015                                                           #033[A#015Epoch 0: 100%|██████████| 323/323 [00:45<00:00,  7.10it/s, loss=0.0256, v_num=0, val_loss_epoch=0.0242, train_loss=0.0293, val_loss_step=0.0232]#015Validation sanity check: 0it [00:00, ?it/s]#015Validation sanity check:   0%|          | 0/2 [00:00<?, ?it/s]#015                                                              #015#015Training: 86it [00:00, ?it/s]#015Training:   0%|          | 0/103 [00:00<?, ?it/s]#015Epoch 0:   0%|          | 0/103 [00:00<?, ?it/s] #015Epoch 0:  29%|██▉       | 30/103 [00:03<00:08,  8.40it/s]#015Epoch 0:  29%|██▉       | 30/103 [00:03<00:08,  8.40it/s, loss=0.0222, v_num=0, val_loss_epoch=0.0202, train_loss=0.0219]#015Epoch 0:  58%|█████▊    | 60/103 [00:06<00:05,  8.58it/s, loss=0.0222, v_num=0, val_loss_epoch=0.0202, train_loss=0.0219]#015Epoch 0:  58%|█████▊    | 60/103 [00:06<00:05,  8.58it/s, loss=0.021, v_num=0, val_loss_epoch=0.0202, train_loss=0.0225] #015Epoch 0:  87%|████████▋ | 90/103 [00:10<00:01,  8.71it/s, loss=0.021, v_num=0, val_loss_epoch=0.0202, train_loss=0.0225]#015Epoch 0:  87%|████████▋ | 90/103 [00:10<00:01,  8.71it/s, loss=0.021, v_num=0, val_loss_epoch=0.0202, train_loss=0.0219]\u001b[0m\n",
      "\u001b[34m#015Validating: 0it [00:00, ?it/s]#033[A\u001b[0m\n",
      "\u001b[34m#015Validating:   0%|          | 0/6 [00:00<?, ?it/s]#033[A\u001b[0m\n",
      "\u001b[34m#015Validating: 100%|██████████| 6/6 [00:00<00:00, 11.99it/s]#033[A#015Epoch 0: 100%|██████████| 103/103 [00:11<00:00,  8.78it/s, loss=0.0209, v_num=0, val_loss_epoch=0.0186, train_loss=0.0207, val_loss_step=0.0185]\u001b[0m\n"
     ]
    }
   ],
   "source": [
    "# Fit the estimator\n",
    "\n",
    "estimator.fit(fit_arguments, job_name=job_name)"
   ]
  },
  {
   "cell_type": "code",
   "execution_count": null,
   "metadata": {},
   "outputs": [],
   "source": []
  }
 ],
 "metadata": {
  "kernelspec": {
   "display_name": "python3.8-pp",
   "language": "python",
   "name": "python3.8-pp"
  },
  "language_info": {
   "codemirror_mode": {
    "name": "ipython",
    "version": 3
   },
   "file_extension": ".py",
   "mimetype": "text/x-python",
   "name": "python",
   "nbconvert_exporter": "python",
   "pygments_lexer": "ipython3",
   "version": "3.8.10"
  }
 },
 "nbformat": 4,
 "nbformat_minor": 4
}
