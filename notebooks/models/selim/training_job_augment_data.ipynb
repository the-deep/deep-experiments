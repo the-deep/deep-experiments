{
 "cells": [
  {
   "cell_type": "markdown",
   "metadata": {},
   "source": [
    "# Import"
   ]
  },
  {
   "cell_type": "markdown",
   "metadata": {},
   "source": [
    "These requirements are necessary if you launch this notebook from SageMaker instances"
   ]
  },
  {
   "cell_type": "code",
   "execution_count": 1,
   "metadata": {
    "tags": []
   },
   "outputs": [
    {
     "data": {
      "text/plain": [
       "'!pip install mlflow\\n!pip install pytorch-lightning\\n!pip install transformers\\n!pip install tqdm\\n!pip install sagemaker\\n!pip install s3fs'"
      ]
     },
     "execution_count": 1,
     "metadata": {},
     "output_type": "execute_result"
    }
   ],
   "source": [
    "\"\"\"!pip install mlflow\n",
    "!pip install pytorch-lightning\n",
    "!pip install transformers\n",
    "!pip install tqdm\n",
    "!pip install sagemaker\n",
    "!pip install s3fs\"\"\""
   ]
  },
  {
   "cell_type": "code",
   "execution_count": 2,
   "metadata": {
    "tags": []
   },
   "outputs": [],
   "source": [
    "import sys\n",
    "sys.path.append('../../../')\n",
    "\n",
    "import os\n",
    "import sys\n",
    "import logging\n",
    "import argparse\n",
    "from pathlib import Path\n",
    "from ast import literal_eval\n",
    "from collections import Counter\n",
    "from typing import Any, Dict, Optional"
   ]
  },
  {
   "cell_type": "code",
   "execution_count": 3,
   "metadata": {
    "ExecuteTime": {
     "end_time": "2021-06-01T14:49:30.843642Z",
     "start_time": "2021-06-01T14:49:30.663973Z"
    },
    "tags": []
   },
   "outputs": [],
   "source": [
    "from tqdm.auto import tqdm\n",
    "\n",
    "import torchmetrics\n",
    "from torchmetrics.functional import accuracy, f1, auroc\n",
    "\n",
    "import sagemaker\n",
    "from sagemaker import get_execution_role\n",
    "import pytorch_lightning as pl\n",
    "from pytorch_lightning.loggers import TensorBoardLogger\n",
    "from pytorch_lightning.core.decorators import auto_move_data\n",
    "from pytorch_lightning.callbacks import ModelCheckpoint, EarlyStopping\n",
    "from pytorch_lightning.loggers import MLFlowLogger\n",
    "\n",
    "\n",
    "import torch\n",
    "from torch import nn\n",
    "import torch.nn.functional as F\n",
    "from torch.utils.data import Dataset, DataLoader, RandomSampler, SequentialSampler\n",
    "\n",
    "import numpy as np\n",
    "import pandas as pd\n",
    "import seaborn as sns\n",
    "from sklearn.model_selection import train_test_split\n",
    "from sklearn.metrics import classification_report, multilabel_confusion_matrix\n",
    "\n",
    "\n",
    "import matplotlib.pyplot as plt\n",
    "from pylab import rcParams\n",
    "from matplotlib import rc\n"
   ]
  },
  {
   "cell_type": "markdown",
   "metadata": {},
   "source": [
    "Local constants, regarding the data, MLFlow server, paths, etc..: use them"
   ]
  },
  {
   "cell_type": "code",
   "execution_count": 4,
   "metadata": {
    "tags": []
   },
   "outputs": [
    {
     "name": "stderr",
     "output_type": "stream",
     "text": [
      "/home/selim/anaconda3/lib/python3.8/site-packages/ipykernel/ipkernel.py:287: DeprecationWarning: `should_run_async` will not call `transform_cell` automatically in the future. Please pass the result to `transformed_cell` argument and any exception that happen during thetransform in `preprocessing_exc_tuple` in IPython 7.17 and above.\n",
      "  and should_run_async(code)\n"
     ]
    }
   ],
   "source": [
    "from deep.constants import *\n",
    "from deep.utils import *"
   ]
  },
  {
   "cell_type": "code",
   "execution_count": 5,
   "metadata": {
    "tags": []
   },
   "outputs": [],
   "source": [
    "%load_ext autoreload\n",
    "%autoreload 2"
   ]
  },
  {
   "cell_type": "markdown",
   "metadata": {},
   "source": [
    "# Data"
   ]
  },
  {
   "cell_type": "markdown",
   "metadata": {},
   "source": [
    "You can use the data you want. We advise the `pandas` format."
   ]
  },
  {
   "cell_type": "code",
   "execution_count": 6,
   "metadata": {
    "ExecuteTime": {
     "end_time": "2021-06-01T14:57:29.882333Z",
     "start_time": "2021-06-01T14:57:28.547379Z"
    },
    "tags": []
   },
   "outputs": [
    {
     "name": "stderr",
     "output_type": "stream",
     "text": [
      "/home/selim/anaconda3/lib/python3.8/site-packages/IPython/core/interactiveshell.py:3146: DtypeWarning: Columns (0,1,2,3) have mixed types.Specify dtype option on import or set low_memory=False.\n",
      "  has_raised = await self.run_ast_nodes(code_ast.body, cell_name,\n"
     ]
    }
   ],
   "source": [
    "DATA_PATH = os.path.join('..', \n",
    "                         '..', \n",
    "                         '..', \n",
    "                         \"data\", \n",
    "                         \"frameworks_data\", \n",
    "                         \"data_v0.6\", \n",
    "                         \"generated_entries\", \n",
    "                         \"entries_df.csv\")\n",
    "#VAL_PATH = os.path.join('..', '..', '..', \"data\", \"frameworks_data\", \"data_v0.4.4\", \"data_v0.4.4_val.csv\")\n",
    "\n",
    "df = pd.read_csv(DATA_PATH, index_col=0).dropna()\n",
    "\n",
    "train_df, val_df = train_test_split(df)"
   ]
  },
  {
   "cell_type": "code",
   "execution_count": 7,
   "metadata": {},
   "outputs": [
    {
     "name": "stderr",
     "output_type": "stream",
     "text": [
      "/home/selim/anaconda3/lib/python3.8/site-packages/ipykernel/ipkernel.py:287: DeprecationWarning: `should_run_async` will not call `transform_cell` automatically in the future. Please pass the result to `transformed_cell` argument and any exception that happen during thetransform in `preprocessing_exc_tuple` in IPython 7.17 and above.\n",
      "  and should_run_async(code)\n"
     ]
    },
    {
     "data": {
      "text/html": [
       "<div>\n",
       "<style scoped>\n",
       "    .dataframe tbody tr th:only-of-type {\n",
       "        vertical-align: middle;\n",
       "    }\n",
       "\n",
       "    .dataframe tbody tr th {\n",
       "        vertical-align: top;\n",
       "    }\n",
       "\n",
       "    .dataframe thead th {\n",
       "        text-align: right;\n",
       "    }\n",
       "</style>\n",
       "<table border=\"1\" class=\"dataframe\">\n",
       "  <thead>\n",
       "    <tr style=\"text-align: right;\">\n",
       "      <th></th>\n",
       "      <th>id</th>\n",
       "      <th>excerpt</th>\n",
       "      <th>language</th>\n",
       "    </tr>\n",
       "  </thead>\n",
       "  <tbody>\n",
       "    <tr>\n",
       "      <th>137401</th>\n",
       "      <td>287487</td>\n",
       "      <td>A raíz de la pandemia por covid-19 la salud me...</td>\n",
       "      <td>es</td>\n",
       "    </tr>\n",
       "    <tr>\n",
       "      <th>195421</th>\n",
       "      <td>389587</td>\n",
       "      <td>No existe información de contraste de estos in...</td>\n",
       "      <td>es</td>\n",
       "    </tr>\n",
       "    <tr>\n",
       "      <th>134780</th>\n",
       "      <td>290891</td>\n",
       "      <td>Internews media partners continue to address m...</td>\n",
       "      <td>en</td>\n",
       "    </tr>\n",
       "    <tr>\n",
       "      <th>14045</th>\n",
       "      <td>64297</td>\n",
       "      <td>Con respecto a: Las capturas de ciudadanos ven...</td>\n",
       "      <td>es</td>\n",
       "    </tr>\n",
       "    <tr>\n",
       "      <th>39188</th>\n",
       "      <td>96415</td>\n",
       "      <td>Drones and helicopters usually reserved for ch...</td>\n",
       "      <td>en</td>\n",
       "    </tr>\n",
       "    <tr>\n",
       "      <th>...</th>\n",
       "      <td>...</td>\n",
       "      <td>...</td>\n",
       "      <td>...</td>\n",
       "    </tr>\n",
       "    <tr>\n",
       "      <th>184363</th>\n",
       "      <td>309176</td>\n",
       "      <td>(15-21 Nov 2020)Under the Global Fund multicou...</td>\n",
       "      <td>en</td>\n",
       "    </tr>\n",
       "    <tr>\n",
       "      <th>113870</th>\n",
       "      <td>266787</td>\n",
       "      <td>UNICEF data shows that some 40,000 children wo...</td>\n",
       "      <td>en</td>\n",
       "    </tr>\n",
       "    <tr>\n",
       "      <th>127944</th>\n",
       "      <td>264692</td>\n",
       "      <td>[3rd Feb 2021, Bangladesh] Thirteen more peopl...</td>\n",
       "      <td>en</td>\n",
       "    </tr>\n",
       "    <tr>\n",
       "      <th>32949</th>\n",
       "      <td>21148</td>\n",
       "      <td>There are severe shortages of basic items such...</td>\n",
       "      <td>en</td>\n",
       "    </tr>\n",
       "    <tr>\n",
       "      <th>619</th>\n",
       "      <td>22433</td>\n",
       "      <td>The US military will transport some 200 tons o...</td>\n",
       "      <td>en</td>\n",
       "    </tr>\n",
       "  </tbody>\n",
       "</table>\n",
       "<p>116806 rows × 3 columns</p>\n",
       "</div>"
      ],
      "text/plain": [
       "            id                                            excerpt language\n",
       "137401  287487  A raíz de la pandemia por covid-19 la salud me...       es\n",
       "195421  389587  No existe información de contraste de estos in...       es\n",
       "134780  290891  Internews media partners continue to address m...       en\n",
       "14045    64297  Con respecto a: Las capturas de ciudadanos ven...       es\n",
       "39188    96415  Drones and helicopters usually reserved for ch...       en\n",
       "...        ...                                                ...      ...\n",
       "184363  309176  (15-21 Nov 2020)Under the Global Fund multicou...       en\n",
       "113870  266787  UNICEF data shows that some 40,000 children wo...       en\n",
       "127944  264692  [3rd Feb 2021, Bangladesh] Thirteen more peopl...       en\n",
       "32949    21148  There are severe shortages of basic items such...       en\n",
       "619      22433  The US military will transport some 200 tons o...       en\n",
       "\n",
       "[116806 rows x 3 columns]"
      ]
     },
     "execution_count": 7,
     "metadata": {},
     "output_type": "execute_result"
    }
   ],
   "source": [
    "train_df"
   ]
  },
  {
   "cell_type": "markdown",
   "metadata": {},
   "source": [
    "## Sagemaker Prep"
   ]
  },
  {
   "cell_type": "markdown",
   "metadata": {
    "ExecuteTime": {
     "end_time": "2021-05-27T15:42:32.024647Z",
     "start_time": "2021-05-27T15:42:31.984694Z"
    }
   },
   "source": [
    "### Session"
   ]
  },
  {
   "cell_type": "markdown",
   "metadata": {},
   "source": [
    "Configure SageMaker"
   ]
  },
  {
   "cell_type": "code",
   "execution_count": 8,
   "metadata": {
    "ExecuteTime": {
     "end_time": "2021-06-09T08:29:20.899415Z",
     "start_time": "2021-06-09T08:29:19.327852Z"
    },
    "tags": []
   },
   "outputs": [
    {
     "name": "stderr",
     "output_type": "stream",
     "text": [
      "/home/selim/anaconda3/lib/python3.8/site-packages/ipykernel/ipkernel.py:287: DeprecationWarning: `should_run_async` will not call `transform_cell` automatically in the future. Please pass the result to `transformed_cell` argument and any exception that happen during thetransform in `preprocessing_exc_tuple` in IPython 7.17 and above.\n",
      "  and should_run_async(code)\n"
     ]
    }
   ],
   "source": [
    "sess = sagemaker.Session(default_bucket=DEV_BUCKET.name)\n",
    "role = SAGEMAKER_ROLE\n",
    "role_arn = SAGEMAKER_ROLE_ARN"
   ]
  },
  {
   "cell_type": "markdown",
   "metadata": {},
   "source": [
    "### Bucket upload"
   ]
  },
  {
   "cell_type": "markdown",
   "metadata": {},
   "source": [
    "You need to upload data to an S3 bucket. \n",
    "\n",
    "\n"
   ]
  },
  {
   "cell_type": "code",
   "execution_count": null,
   "metadata": {},
   "outputs": [],
   "source": []
  },
  {
   "cell_type": "code",
   "execution_count": 9,
   "metadata": {
    "ExecuteTime": {
     "end_time": "2021-06-09T08:31:43.201910Z",
     "start_time": "2021-06-09T08:29:28.837139Z"
    },
    "scrolled": true,
    "tags": []
   },
   "outputs": [],
   "source": [
    "sample = False  # To make the computations faster, sample = True.\n",
    "\n",
    "if sample:\n",
    "    train_df = train_df.sample(n=1000)\n",
    "    val_df = val_df.sample(n=1000)\n",
    "    \n",
    "job_name = f\"pytorch-{formatted_time()}-subpillars-model\"  # change it as you prefer\n",
    "input_path = DEV_BUCKET / 'training' / 'input_data' / job_name  # Do not change this\n",
    "\n",
    "train_path = str(input_path / 'train.pickle')\n",
    "val_path = str(input_path / 'val.pickle')\n",
    "\n",
    "\n",
    "train_df.to_pickle(train_path, protocol=4)  # protocol 4 is necessary, since SageMaker uses python 3.6\n",
    "val_df.to_pickle(val_path, protocol=4)"
   ]
  },
  {
   "cell_type": "markdown",
   "metadata": {},
   "source": [
    "### Estimator Definition"
   ]
  },
  {
   "cell_type": "code",
   "execution_count": 10,
   "metadata": {
    "ExecuteTime": {
     "end_time": "2021-06-09T08:31:43.284096Z",
     "start_time": "2021-06-09T08:31:43.206457Z"
    },
    "tags": []
   },
   "outputs": [],
   "source": [
    "# GPU instances\n",
    "\n",
    "instances = [\n",
    "    'ml.p2.xlarge',\n",
    "    'ml.p3.2xlarge'\n",
    "]"
   ]
  },
  {
   "cell_type": "code",
   "execution_count": 11,
   "metadata": {},
   "outputs": [
    {
     "data": {
      "text/plain": [
       "S3Path('s3://sagemaker-deep-experiments-dev')"
      ]
     },
     "execution_count": 11,
     "metadata": {},
     "output_type": "execute_result"
    }
   ],
   "source": [
    "DEV_BUCKET"
   ]
  },
  {
   "cell_type": "markdown",
   "metadata": {},
   "source": [
    "The hyperparameters are passed as command line arguments to the training script. \n",
    "\n",
    "You can add/change them as you like. It's important to keep the `tracking_uri` and the `experiment_name` which are used by MLFlow.\n",
    "\n",
    "The class `PyTorch` is part of the `SageMaker` python API. The parameters are important and you should probably not change most of them. The ones you may want to change are:\n",
    "\n",
    "- `instance_type`, specify the instance you want\n",
    "- `source_dir`, specify your script directory. Try to use global variable as much as possible"
   ]
  },
  {
   "cell_type": "code",
   "execution_count": 12,
   "metadata": {
    "ExecuteTime": {
     "end_time": "2021-06-09T08:31:43.458886Z",
     "start_time": "2021-06-09T08:31:43.304626Z"
    },
    "tags": []
   },
   "outputs": [],
   "source": [
    "from sagemaker.pytorch import PyTorch\n",
    "\n",
    "\n",
    "hyperparameters={\n",
    "    'tracking_uri': MLFLOW_SERVER,\n",
    "    'experiment_name': 'all_languages_subpillars',\n",
    "    'batch_size': 4,\n",
    "\n",
    "}\n",
    "\n",
    "estimator = PyTorch(\n",
    "    entry_point='augment_data.py',\n",
    "    source_dir=str('../../../scripts/training/selim/data-augmentation'),\n",
    "    output_path=str(DEV_BUCKET/'models/'),\n",
    "    code_location=str(input_path),\n",
    "    instance_type='ml.p3.2xlarge',\n",
    "    instance_count=1,\n",
    "    role=role,\n",
    "    framework_version='1.8',\n",
    "    py_version='py36',\n",
    "    hyperparameters = hyperparameters,\n",
    "    job_name=job_name,\n",
    "#     train_instance_count=2,\n",
    "#     train_instance_type=\"ml.c4.xlarge\",\n",
    ")"
   ]
  },
  {
   "cell_type": "code",
   "execution_count": 13,
   "metadata": {
    "ExecuteTime": {
     "end_time": "2021-06-09T08:31:43.482969Z",
     "start_time": "2021-06-09T08:31:43.459884Z"
    },
    "tags": []
   },
   "outputs": [],
   "source": [
    "fit_arguments = {\n",
    "    'train': str(input_path),\n",
    "    'test': str(input_path)\n",
    "}"
   ]
  },
  {
   "cell_type": "code",
   "execution_count": 14,
   "metadata": {
    "ExecuteTime": {
     "end_time": "2021-06-09T08:31:45.995868Z",
     "start_time": "2021-06-09T08:31:43.484212Z"
    },
    "scrolled": true,
    "tags": []
   },
   "outputs": [
    {
     "name": "stdout",
     "output_type": "stream",
     "text": [
      "2021-09-02 14:00:30 Starting - Starting the training job...\n",
      "2021-09-02 14:00:54 Starting - Launching requested ML instancesProfilerReport-1630591227: InProgress\n",
      ".........\n",
      "2021-09-02 14:02:35 Starting - Preparing the instances for training.........\n",
      "2021-09-02 14:04:19 Downloading - Downloading input data\n",
      "2021-09-02 14:04:19 Training - Downloading the training image...........................\u001b[34mbash: cannot set terminal process group (-1): Inappropriate ioctl for device\u001b[0m\n",
      "\u001b[34mbash: no job control in this shell\u001b[0m\n",
      "\u001b[34m2021-09-02 14:09:05,121 sagemaker-training-toolkit INFO     Imported framework sagemaker_pytorch_container.training\u001b[0m\n",
      "\u001b[34m2021-09-02 14:09:05,145 sagemaker_pytorch_container.training INFO     Block until all host DNS lookups succeed.\u001b[0m\n",
      "\u001b[34m2021-09-02 14:09:05,383 sagemaker_pytorch_container.training INFO     Invoking user training script.\u001b[0m\n",
      "\u001b[34m2021-09-02 14:09:06,230 sagemaker-training-toolkit INFO     Installing dependencies from requirements.txt:\u001b[0m\n",
      "\u001b[34m/opt/conda/bin/python3.6 -m pip install -r requirements.txt\u001b[0m\n",
      "\u001b[34mCollecting transformers==4.8.2\n",
      "  Downloading transformers-4.8.2-py3-none-any.whl (2.5 MB)\u001b[0m\n",
      "\u001b[34mCollecting tensorflow==2.4.0\n",
      "  Downloading tensorflow-2.4.0-cp36-cp36m-manylinux2010_x86_64.whl (394.7 MB)\u001b[0m\n",
      "\u001b[34mCollecting pytorch-lightning==1.3.8\n",
      "  Downloading pytorch_lightning-1.3.8-py3-none-any.whl (813 kB)\u001b[0m\n",
      "\u001b[34mCollecting sentencepiece==0.1.90\n",
      "  Downloading sentencepiece-0.1.90-cp36-cp36m-manylinux1_x86_64.whl (1.1 MB)\u001b[0m\n",
      "\u001b[34mCollecting tqdm==4.41.1\n",
      "  Downloading tqdm-4.41.1-py2.py3-none-any.whl (56 kB)\u001b[0m\n",
      "\u001b[34mCollecting mlflow==1.18.0\n",
      "  Downloading mlflow-1.18.0-py3-none-any.whl (14.2 MB)\u001b[0m\n",
      "\u001b[34mCollecting scikit-learn==0.22.2.post1\n",
      "  Downloading scikit_learn-0.22.2.post1-cp36-cp36m-manylinux1_x86_64.whl (7.1 MB)\u001b[0m\n",
      "\u001b[34mCollecting sagemaker==2.49.1\n",
      "  Downloading sagemaker-2.49.1.tar.gz (421 kB)\u001b[0m\n",
      "\u001b[34mCollecting s3fs==2021.07.0\n",
      "  Downloading s3fs-2021.7.0-py3-none-any.whl (25 kB)\u001b[0m\n",
      "\u001b[34mCollecting smdebug==1.0.11\n",
      "  Downloading smdebug-1.0.11-py2.py3-none-any.whl (269 kB)\u001b[0m\n",
      "\u001b[34mRequirement already satisfied: packaging in /opt/conda/lib/python3.6/site-packages (from transformers==4.8.2->-r requirements.txt (line 1)) (21.0)\u001b[0m\n",
      "\u001b[34mCollecting regex!=2019.12.17\n",
      "  Downloading regex-2021.8.28-cp36-cp36m-manylinux_2_17_x86_64.manylinux2014_x86_64.whl (745 kB)\u001b[0m\n",
      "\u001b[34mCollecting huggingface-hub==0.0.12\n",
      "  Downloading huggingface_hub-0.0.12-py3-none-any.whl (37 kB)\u001b[0m\n",
      "\u001b[34mCollecting filelock\n",
      "  Downloading filelock-3.0.12-py3-none-any.whl (7.6 kB)\u001b[0m\n",
      "\u001b[34mRequirement already satisfied: pyyaml in /opt/conda/lib/python3.6/site-packages (from transformers==4.8.2->-r requirements.txt (line 1)) (5.4.1)\u001b[0m\n",
      "\u001b[34mCollecting sacremoses\n",
      "  Downloading sacremoses-0.0.45-py3-none-any.whl (895 kB)\u001b[0m\n",
      "\u001b[34mCollecting tokenizers<0.11,>=0.10.1\n",
      "  Downloading tokenizers-0.10.3-cp36-cp36m-manylinux_2_5_x86_64.manylinux1_x86_64.manylinux_2_12_x86_64.manylinux2010_x86_64.whl (3.3 MB)\u001b[0m\n",
      "\u001b[34mRequirement already satisfied: importlib-metadata in /opt/conda/lib/python3.6/site-packages (from transformers==4.8.2->-r requirements.txt (line 1)) (4.6.1)\u001b[0m\n",
      "\u001b[34mRequirement already satisfied: numpy>=1.17 in /opt/conda/lib/python3.6/site-packages (from transformers==4.8.2->-r requirements.txt (line 1)) (1.19.1)\u001b[0m\n",
      "\u001b[34mRequirement already satisfied: requests in /opt/conda/lib/python3.6/site-packages (from transformers==4.8.2->-r requirements.txt (line 1)) (2.25.1)\u001b[0m\n",
      "\u001b[34mRequirement already satisfied: dataclasses in /opt/conda/lib/python3.6/site-packages (from transformers==4.8.2->-r requirements.txt (line 1)) (0.8)\u001b[0m\n",
      "\u001b[34mCollecting opt-einsum~=3.3.0\n",
      "  Downloading opt_einsum-3.3.0-py3-none-any.whl (65 kB)\u001b[0m\n",
      "\u001b[34mRequirement already satisfied: wheel~=0.35 in /opt/conda/lib/python3.6/site-packages (from tensorflow==2.4.0->-r requirements.txt (line 2)) (0.35.1)\u001b[0m\n",
      "\u001b[34mCollecting grpcio~=1.32.0\n",
      "  Downloading grpcio-1.32.0-cp36-cp36m-manylinux2014_x86_64.whl (3.8 MB)\u001b[0m\n",
      "\u001b[34mCollecting tensorboard~=2.4\n",
      "  Downloading tensorboard-2.6.0-py3-none-any.whl (5.6 MB)\u001b[0m\n",
      "\u001b[34mCollecting tensorflow-estimator<2.5.0,>=2.4.0rc0\n",
      "  Downloading tensorflow_estimator-2.4.0-py2.py3-none-any.whl (462 kB)\u001b[0m\n",
      "\u001b[34mCollecting keras-preprocessing~=1.1.2\u001b[0m\n",
      "\u001b[34m  Downloading Keras_Preprocessing-1.1.2-py2.py3-none-any.whl (42 kB)\u001b[0m\n",
      "\u001b[34mCollecting h5py~=2.10.0\n",
      "  Downloading h5py-2.10.0-cp36-cp36m-manylinux1_x86_64.whl (2.9 MB)\u001b[0m\n",
      "\u001b[34mCollecting gast==0.3.3\n",
      "  Downloading gast-0.3.3-py2.py3-none-any.whl (9.7 kB)\u001b[0m\n",
      "\u001b[34mCollecting numpy>=1.17\n",
      "  Downloading numpy-1.19.5-cp36-cp36m-manylinux2010_x86_64.whl (14.8 MB)\u001b[0m\n",
      "\u001b[34mRequirement already satisfied: protobuf>=3.9.2 in /opt/conda/lib/python3.6/site-packages (from tensorflow==2.4.0->-r requirements.txt (line 2)) (3.17.3)\u001b[0m\n",
      "\u001b[34mCollecting six~=1.15.0\n",
      "  Downloading six-1.15.0-py2.py3-none-any.whl (10 kB)\u001b[0m\n",
      "\u001b[34mCollecting flatbuffers~=1.12.0\n",
      "  Downloading flatbuffers-1.12-py2.py3-none-any.whl (15 kB)\u001b[0m\n",
      "\u001b[34mCollecting astunparse~=1.6.3\n",
      "  Downloading astunparse-1.6.3-py2.py3-none-any.whl (12 kB)\u001b[0m\n",
      "\u001b[34mCollecting absl-py~=0.10\n",
      "  Downloading absl_py-0.13.0-py3-none-any.whl (132 kB)\u001b[0m\n",
      "\u001b[34mCollecting typing-extensions~=3.7.4\n",
      "  Downloading typing_extensions-3.7.4.3-py3-none-any.whl (22 kB)\u001b[0m\n",
      "\u001b[34mCollecting termcolor~=1.1.0\n",
      "  Downloading termcolor-1.1.0.tar.gz (3.9 kB)\u001b[0m\n",
      "\u001b[34mCollecting wrapt~=1.12.1\n",
      "  Downloading wrapt-1.12.1.tar.gz (27 kB)\u001b[0m\n",
      "\u001b[34mRequirement already satisfied: google-pasta~=0.2 in /opt/conda/lib/python3.6/site-packages (from tensorflow==2.4.0->-r requirements.txt (line 2)) (0.2.0)\u001b[0m\n",
      "\u001b[34mRequirement already satisfied: future>=0.17.1 in /opt/conda/lib/python3.6/site-packages (from pytorch-lightning==1.3.8->-r requirements.txt (line 3)) (0.18.2)\u001b[0m\n",
      "\u001b[34mRequirement already satisfied: torch>=1.4 in /opt/conda/lib/python3.6/site-packages (from pytorch-lightning==1.3.8->-r requirements.txt (line 3)) (1.8.1)\u001b[0m\n",
      "\u001b[34mCollecting pyDeprecate==0.3.0\n",
      "  Downloading pyDeprecate-0.3.0-py3-none-any.whl (10 kB)\u001b[0m\n",
      "\u001b[34mRequirement already satisfied: fsspec[http]!=2021.06.0,>=2021.05.0 in /opt/conda/lib/python3.6/site-packages (from pytorch-lightning==1.3.8->-r requirements.txt (line 3)) (2021.7.0)\u001b[0m\n",
      "\u001b[34mCollecting torchmetrics>=0.2.0\n",
      "  Downloading torchmetrics-0.5.1-py3-none-any.whl (282 kB)\u001b[0m\n",
      "\u001b[34mRequirement already satisfied: pillow!=8.3.0 in /opt/conda/lib/python3.6/site-packages (from pytorch-lightning==1.3.8->-r requirements.txt (line 3)) (8.3.1)\u001b[0m\n",
      "\u001b[34mRequirement already satisfied: click>=7.0 in /opt/conda/lib/python3.6/site-packages (from mlflow==1.18.0->-r requirements.txt (line 6)) (7.1.2)\u001b[0m\n",
      "\u001b[34mCollecting querystring-parser\n",
      "  Downloading querystring_parser-1.2.4-py2.py3-none-any.whl (7.9 kB)\u001b[0m\n",
      "\u001b[34mCollecting prometheus-flask-exporter\n",
      "  Downloading prometheus_flask_exporter-0.18.2.tar.gz (22 kB)\u001b[0m\n",
      "\u001b[34mCollecting docker>=4.0.0\n",
      "  Downloading docker-5.0.2-py2.py3-none-any.whl (145 kB)\u001b[0m\n",
      "\u001b[34mCollecting sqlalchemy\n",
      "  Downloading SQLAlchemy-1.4.23-cp36-cp36m-manylinux_2_5_x86_64.manylinux1_x86_64.manylinux_2_17_x86_64.manylinux2014_x86_64.whl (1.5 MB)\u001b[0m\n",
      "\u001b[34mCollecting databricks-cli>=0.8.7\n",
      "  Downloading databricks-cli-0.15.0.tar.gz (56 kB)\u001b[0m\n",
      "\u001b[34mRequirement already satisfied: pandas in /opt/conda/lib/python3.6/site-packages (from mlflow==1.18.0->-r requirements.txt (line 6)) (1.1.5)\u001b[0m\n",
      "\u001b[34mCollecting sqlparse>=0.3.1\n",
      "  Downloading sqlparse-0.4.1-py3-none-any.whl (42 kB)\u001b[0m\n",
      "\u001b[34mRequirement already satisfied: cloudpickle in /opt/conda/lib/python3.6/site-packages (from mlflow==1.18.0->-r requirements.txt (line 6)) (1.6.0)\u001b[0m\n",
      "\u001b[34mCollecting Flask\u001b[0m\n",
      "\u001b[34m  Downloading Flask-2.0.1-py3-none-any.whl (94 kB)\u001b[0m\n",
      "\u001b[34mCollecting gunicorn\n",
      "  Downloading gunicorn-20.1.0-py3-none-any.whl (79 kB)\u001b[0m\n",
      "\u001b[34mRequirement already satisfied: pytz in /opt/conda/lib/python3.6/site-packages (from mlflow==1.18.0->-r requirements.txt (line 6)) (2021.1)\u001b[0m\n",
      "\u001b[34mCollecting entrypoints\n",
      "  Downloading entrypoints-0.3-py2.py3-none-any.whl (11 kB)\u001b[0m\n",
      "\u001b[34mCollecting gitpython>=2.1.0\n",
      "  Downloading GitPython-3.1.18-py3-none-any.whl (170 kB)\u001b[0m\n",
      "\u001b[34mCollecting alembic<=1.4.1\n",
      "  Downloading alembic-1.4.1.tar.gz (1.1 MB)\u001b[0m\n",
      "\u001b[34mRequirement already satisfied: joblib>=0.11 in /opt/conda/lib/python3.6/site-packages (from scikit-learn==0.22.2.post1->-r requirements.txt (line 7)) (1.0.1)\u001b[0m\n",
      "\u001b[34mRequirement already satisfied: scipy>=0.17.0 in /opt/conda/lib/python3.6/site-packages (from scikit-learn==0.22.2.post1->-r requirements.txt (line 7)) (1.5.4)\u001b[0m\n",
      "\u001b[34mRequirement already satisfied: attrs in /opt/conda/lib/python3.6/site-packages (from sagemaker==2.49.1->-r requirements.txt (line 8)) (21.2.0)\u001b[0m\n",
      "\u001b[34mRequirement already satisfied: boto3>=1.16.32 in /opt/conda/lib/python3.6/site-packages (from sagemaker==2.49.1->-r requirements.txt (line 8)) (1.17.110)\u001b[0m\n",
      "\u001b[34mRequirement already satisfied: protobuf3-to-dict>=0.1.5 in /opt/conda/lib/python3.6/site-packages (from sagemaker==2.49.1->-r requirements.txt (line 8)) (0.1.5)\u001b[0m\n",
      "\u001b[34mRequirement already satisfied: smdebug_rulesconfig==1.0.1 in /opt/conda/lib/python3.6/site-packages (from sagemaker==2.49.1->-r requirements.txt (line 8)) (1.0.1)\u001b[0m\n",
      "\u001b[34mRequirement already satisfied: pathos in /opt/conda/lib/python3.6/site-packages (from sagemaker==2.49.1->-r requirements.txt (line 8)) (0.2.8)\u001b[0m\n",
      "\u001b[34mCollecting aiobotocore>=1.0.1\n",
      "  Downloading aiobotocore-1.4.1.tar.gz (52 kB)\u001b[0m\n",
      "\u001b[34mRequirement already satisfied: pyinstrument>=3.1.3 in /opt/conda/lib/python3.6/site-packages (from smdebug==1.0.11->-r requirements.txt (line 10)) (3.4.2)\u001b[0m\n",
      "\u001b[34mCollecting botocore<1.20.107,>=1.20.106\n",
      "  Downloading botocore-1.20.106-py2.py3-none-any.whl (7.7 MB)\u001b[0m\n",
      "\u001b[34mCollecting aiohttp>=3.3.1\n",
      "  Downloading aiohttp-3.7.4.post0-cp36-cp36m-manylinux2014_x86_64.whl (1.3 MB)\u001b[0m\n",
      "\u001b[34mCollecting aioitertools>=0.5.1\n",
      "  Downloading aioitertools-0.8.0-py3-none-any.whl (21 kB)\u001b[0m\n",
      "\u001b[34mCollecting yarl<2.0,>=1.0\n",
      "  Downloading yarl-1.6.3-cp36-cp36m-manylinux2014_x86_64.whl (293 kB)\u001b[0m\n",
      "\u001b[34mCollecting async-timeout<4.0,>=3.0\n",
      "  Downloading async_timeout-3.0.1-py3-none-any.whl (8.2 kB)\u001b[0m\n",
      "\u001b[34mCollecting idna-ssl>=1.0\n",
      "  Downloading idna-ssl-1.1.0.tar.gz (3.4 kB)\u001b[0m\n",
      "\u001b[34mRequirement already satisfied: chardet<5.0,>=2.0 in /opt/conda/lib/python3.6/site-packages (from aiohttp>=3.3.1->aiobotocore>=1.0.1->s3fs==2021.07.0->-r requirements.txt (line 9)) (3.0.4)\u001b[0m\n",
      "\u001b[34mCollecting multidict<7.0,>=4.5\n",
      "  Downloading multidict-5.1.0-cp36-cp36m-manylinux2014_x86_64.whl (141 kB)\u001b[0m\n",
      "\u001b[34mCollecting Mako\n",
      "  Downloading Mako-1.1.5-py2.py3-none-any.whl (75 kB)\u001b[0m\n",
      "\u001b[34mCollecting python-editor>=0.3\n",
      "  Downloading python_editor-1.0.4-py3-none-any.whl (4.9 kB)\u001b[0m\n",
      "\u001b[34mRequirement already satisfied: python-dateutil in /opt/conda/lib/python3.6/site-packages (from alembic<=1.4.1->mlflow==1.18.0->-r requirements.txt (line 6)) (2.8.1)\u001b[0m\n",
      "\u001b[34mRequirement already satisfied: s3transfer<0.5.0,>=0.4.0 in /opt/conda/lib/python3.6/site-packages (from boto3>=1.16.32->sagemaker==2.49.1->-r requirements.txt (line 8)) (0.4.2)\u001b[0m\n",
      "\u001b[34mRequirement already satisfied: jmespath<1.0.0,>=0.7.1 in /opt/conda/lib/python3.6/site-packages (from boto3>=1.16.32->sagemaker==2.49.1->-r requirements.txt (line 8)) (0.10.0)\u001b[0m\n",
      "\u001b[34mCollecting boto3>=1.16.32\n",
      "  Downloading boto3-1.18.34-py3-none-any.whl (131 kB)\u001b[0m\n",
      "\u001b[34mCollecting s3transfer<0.6.0,>=0.5.0\n",
      "  Downloading s3transfer-0.5.0-py3-none-any.whl (79 kB)\u001b[0m\n",
      "\u001b[34mCollecting boto3>=1.16.32\n",
      "  Downloading boto3-1.18.33-py3-none-any.whl (131 kB)\n",
      "  Downloading boto3-1.18.32-py3-none-any.whl (131 kB)\n",
      "  Downloading boto3-1.18.31-py3-none-any.whl (131 kB)\n",
      "  Downloading boto3-1.18.30-py3-none-any.whl (131 kB)\u001b[0m\n",
      "\u001b[34m  Downloading boto3-1.18.29-py3-none-any.whl (131 kB)\n",
      "  Downloading boto3-1.18.28-py3-none-any.whl (131 kB)\n",
      "  Downloading boto3-1.18.27-py3-none-any.whl (131 kB)\n",
      "  Downloading boto3-1.18.26-py3-none-any.whl (131 kB)\u001b[0m\n",
      "\u001b[34m  Downloading boto3-1.18.25-py3-none-any.whl (131 kB)\n",
      "  Downloading boto3-1.18.24-py3-none-any.whl (131 kB)\n",
      "  Downloading boto3-1.18.23-py3-none-any.whl (131 kB)\n",
      "  Downloading boto3-1.18.22-py3-none-any.whl (131 kB)\u001b[0m\n",
      "\u001b[34m  Downloading boto3-1.18.21-py3-none-any.whl (131 kB)\n",
      "  Downloading boto3-1.18.20-py3-none-any.whl (131 kB)\n",
      "  Downloading boto3-1.18.19-py3-none-any.whl (131 kB)\n",
      "  Downloading boto3-1.18.18-py3-none-any.whl (131 kB)\u001b[0m\n",
      "\u001b[34m  Downloading boto3-1.18.17-py3-none-any.whl (131 kB)\n",
      "  Downloading boto3-1.18.16-py3-none-any.whl (131 kB)\n",
      "  Downloading boto3-1.18.15-py3-none-any.whl (131 kB)\n",
      "  Downloading boto3-1.18.14-py3-none-any.whl (131 kB)\u001b[0m\n",
      "\u001b[34m  Downloading boto3-1.18.13-py3-none-any.whl (131 kB)\n",
      "  Downloading boto3-1.18.12-py3-none-any.whl (131 kB)\n",
      "  Downloading boto3-1.18.11-py3-none-any.whl (131 kB)\n",
      "  Downloading boto3-1.18.10-py3-none-any.whl (131 kB)\n",
      "  Downloading boto3-1.18.9-py3-none-any.whl (131 kB)\u001b[0m\n",
      "\u001b[34m  Downloading boto3-1.18.8-py3-none-any.whl (131 kB)\n",
      "  Downloading boto3-1.18.7-py3-none-any.whl (131 kB)\n",
      "  Downloading boto3-1.18.6-py3-none-any.whl (131 kB)\n",
      "  Downloading boto3-1.18.5-py3-none-any.whl (131 kB)\u001b[0m\n",
      "\u001b[34m  Downloading boto3-1.18.4-py3-none-any.whl (131 kB)\n",
      "  Downloading boto3-1.18.3-py3-none-any.whl (131 kB)\n",
      "  Downloading boto3-1.18.2-py3-none-any.whl (131 kB)\n",
      "  Downloading boto3-1.18.1-py3-none-any.whl (131 kB)\u001b[0m\n",
      "\u001b[34m  Downloading boto3-1.18.0-py3-none-any.whl (131 kB)\n",
      "  Downloading boto3-1.17.112-py2.py3-none-any.whl (131 kB)\n",
      "  Downloading boto3-1.17.111-py2.py3-none-any.whl (131 kB)\n",
      "  Downloading boto3-1.17.109-py2.py3-none-any.whl (131 kB)\u001b[0m\n"
     ]
    },
    {
     "name": "stdout",
     "output_type": "stream",
     "text": [
      "\n",
      "2021-09-02 14:09:57 Training - Training image download completed. Training in progress.\u001b[34m  Downloading boto3-1.17.108-py2.py3-none-any.whl (131 kB)\n",
      "  Downloading boto3-1.17.107-py2.py3-none-any.whl (131 kB)\n",
      "  Downloading boto3-1.17.106-py2.py3-none-any.whl (131 kB)\u001b[0m\n",
      "\u001b[34mRequirement already satisfied: urllib3<1.27,>=1.25.4 in /opt/conda/lib/python3.6/site-packages (from botocore<1.20.107,>=1.20.106->aiobotocore>=1.0.1->s3fs==2021.07.0->-r requirements.txt (line 9)) (1.25.11)\u001b[0m\n",
      "\u001b[34mRequirement already satisfied: tabulate>=0.7.7 in /opt/conda/lib/python3.6/site-packages (from databricks-cli>=0.8.7->mlflow==1.18.0->-r requirements.txt (line 6)) (0.8.9)\u001b[0m\n",
      "\u001b[34mRequirement already satisfied: websocket-client>=0.32.0 in /opt/conda/lib/python3.6/site-packages (from docker>=4.0.0->mlflow==1.18.0->-r requirements.txt (line 6)) (1.1.0)\u001b[0m\n",
      "\u001b[34mCollecting gitdb<5,>=4.0.1\n",
      "  Downloading gitdb-4.0.7-py3-none-any.whl (63 kB)\u001b[0m\n",
      "\u001b[34mCollecting smmap<5,>=3.0.1\n",
      "  Downloading smmap-4.0.0-py2.py3-none-any.whl (24 kB)\u001b[0m\n",
      "\u001b[34mRequirement already satisfied: idna>=2.0 in /opt/conda/lib/python3.6/site-packages (from idna-ssl>=1.0->aiohttp>=3.3.1->aiobotocore>=1.0.1->s3fs==2021.07.0->-r requirements.txt (line 9)) (2.10)\u001b[0m\n",
      "\u001b[34mRequirement already satisfied: zipp>=0.5 in /opt/conda/lib/python3.6/site-packages (from importlib-metadata->transformers==4.8.2->-r requirements.txt (line 1)) (3.5.0)\u001b[0m\n",
      "\u001b[34mRequirement already satisfied: pyparsing>=2.0.2 in /opt/conda/lib/python3.6/site-packages (from packaging->transformers==4.8.2->-r requirements.txt (line 1)) (2.4.7)\u001b[0m\n",
      "\u001b[34mRequirement already satisfied: pyinstrument-cext>=0.2.2 in /opt/conda/lib/python3.6/site-packages (from pyinstrument>=3.1.3->smdebug==1.0.11->-r requirements.txt (line 10)) (0.2.4)\u001b[0m\n",
      "\u001b[34mRequirement already satisfied: certifi>=2017.4.17 in /opt/conda/lib/python3.6/site-packages (from requests->transformers==4.8.2->-r requirements.txt (line 1)) (2021.5.30)\u001b[0m\n",
      "\u001b[34mRequirement already satisfied: greenlet!=0.4.17 in /opt/conda/lib/python3.6/site-packages (from sqlalchemy->mlflow==1.18.0->-r requirements.txt (line 6)) (1.1.0)\u001b[0m\n",
      "\u001b[34mRequirement already satisfied: werkzeug>=0.11.15 in /opt/conda/lib/python3.6/site-packages (from tensorboard~=2.4->tensorflow==2.4.0->-r requirements.txt (line 2)) (2.0.1)\u001b[0m\n",
      "\u001b[34mCollecting tensorboard-data-server<0.7.0,>=0.6.0\n",
      "  Downloading tensorboard_data_server-0.6.1-py3-none-manylinux2010_x86_64.whl (4.9 MB)\u001b[0m\n",
      "\u001b[34mCollecting google-auth<2,>=1.6.3\n",
      "  Downloading google_auth-1.35.0-py2.py3-none-any.whl (152 kB)\u001b[0m\n",
      "\u001b[34mRequirement already satisfied: setuptools>=41.0.0 in /opt/conda/lib/python3.6/site-packages (from tensorboard~=2.4->tensorflow==2.4.0->-r requirements.txt (line 2)) (49.6.0.post20210108)\u001b[0m\n",
      "\u001b[34mCollecting markdown>=2.6.8\n",
      "  Downloading Markdown-3.3.4-py3-none-any.whl (97 kB)\u001b[0m\n",
      "\u001b[34mCollecting google-auth-oauthlib<0.5,>=0.4.1\n",
      "  Downloading google_auth_oauthlib-0.4.6-py2.py3-none-any.whl (18 kB)\u001b[0m\n",
      "\u001b[34mCollecting tensorboard-plugin-wit>=1.6.0\n",
      "  Downloading tensorboard_plugin_wit-1.8.0-py3-none-any.whl (781 kB)\u001b[0m\n",
      "\u001b[34mCollecting pyasn1-modules>=0.2.1\n",
      "  Downloading pyasn1_modules-0.2.8-py2.py3-none-any.whl (155 kB)\u001b[0m\n",
      "\u001b[34mRequirement already satisfied: rsa<5,>=3.1.4 in /opt/conda/lib/python3.6/site-packages (from google-auth<2,>=1.6.3->tensorboard~=2.4->tensorflow==2.4.0->-r requirements.txt (line 2)) (4.7.2)\u001b[0m\n",
      "\u001b[34mCollecting cachetools<5.0,>=2.0.0\n",
      "  Downloading cachetools-4.2.2-py3-none-any.whl (11 kB)\u001b[0m\n",
      "\u001b[34mCollecting requests-oauthlib>=0.7.0\n",
      "  Downloading requests_oauthlib-1.3.0-py2.py3-none-any.whl (23 kB)\u001b[0m\n",
      "\u001b[34mRequirement already satisfied: pyasn1<0.5.0,>=0.4.6 in /opt/conda/lib/python3.6/site-packages (from pyasn1-modules>=0.2.1->google-auth<2,>=1.6.3->tensorboard~=2.4->tensorflow==2.4.0->-r requirements.txt (line 2)) (0.4.8)\u001b[0m\n",
      "\u001b[34mCollecting oauthlib>=3.0.0\n",
      "  Downloading oauthlib-3.1.1-py2.py3-none-any.whl (146 kB)\u001b[0m\n",
      "\u001b[34mCollecting itsdangerous>=2.0\n",
      "  Downloading itsdangerous-2.0.1-py3-none-any.whl (18 kB)\u001b[0m\n",
      "\u001b[34mRequirement already satisfied: Jinja2>=3.0 in /opt/conda/lib/python3.6/site-packages (from Flask->mlflow==1.18.0->-r requirements.txt (line 6)) (3.0.1)\u001b[0m\n",
      "\u001b[34mRequirement already satisfied: MarkupSafe>=2.0 in /opt/conda/lib/python3.6/site-packages (from Jinja2>=3.0->Flask->mlflow==1.18.0->-r requirements.txt (line 6)) (2.0.1)\u001b[0m\n",
      "\u001b[34mRequirement already satisfied: ppft>=1.6.6.4 in /opt/conda/lib/python3.6/site-packages (from pathos->sagemaker==2.49.1->-r requirements.txt (line 8)) (1.6.6.4)\u001b[0m\n",
      "\u001b[34mRequirement already satisfied: pox>=0.3.0 in /opt/conda/lib/python3.6/site-packages (from pathos->sagemaker==2.49.1->-r requirements.txt (line 8)) (0.3.0)\u001b[0m\n",
      "\u001b[34mRequirement already satisfied: dill>=0.3.4 in /opt/conda/lib/python3.6/site-packages (from pathos->sagemaker==2.49.1->-r requirements.txt (line 8)) (0.3.4)\u001b[0m\n",
      "\u001b[34mRequirement already satisfied: multiprocess>=0.70.12 in /opt/conda/lib/python3.6/site-packages (from pathos->sagemaker==2.49.1->-r requirements.txt (line 8)) (0.70.12.2)\u001b[0m\n",
      "\u001b[34mCollecting prometheus_client\n",
      "  Downloading prometheus_client-0.11.0-py2.py3-none-any.whl (56 kB)\u001b[0m\n",
      "\u001b[34mBuilding wheels for collected packages: sagemaker, aiobotocore, alembic, databricks-cli, idna-ssl, termcolor, wrapt, prometheus-flask-exporter\n",
      "  Building wheel for sagemaker (setup.py): started\u001b[0m\n",
      "\u001b[34m  Building wheel for sagemaker (setup.py): finished with status 'done'\n",
      "  Created wheel for sagemaker: filename=sagemaker-2.49.1-py2.py3-none-any.whl size=591917 sha256=cc2829a6e5ddb8ddad768f4fe8e1617a62c43d837a75c682a19ed5c2e6772606\n",
      "  Stored in directory: /root/.cache/pip/wheels/4c/af/ea/8ff5943a87155df5b184e54474fbf2b59b75e5c172854643c6\n",
      "  Building wheel for aiobotocore (setup.py): started\n",
      "  Building wheel for aiobotocore (setup.py): finished with status 'done'\n",
      "  Created wheel for aiobotocore: filename=aiobotocore-1.4.1-py3-none-any.whl size=49822 sha256=24838640c4a405d80e8e6e49a3a905f2aed9b9ea5ea84a47fb8c1aee0d316420\n",
      "  Stored in directory: /root/.cache/pip/wheels/0e/ee/c0/a79457b0bdf63d19a62fb58df7d8f760e5e4811ef2f7058436\n",
      "  Building wheel for alembic (setup.py): started\u001b[0m\n",
      "\u001b[34m  Building wheel for alembic (setup.py): finished with status 'done'\n",
      "  Created wheel for alembic: filename=alembic-1.4.1-py2.py3-none-any.whl size=158155 sha256=9309f2287c6df298ebc92441a143a59d3d9410863dfa921dac20c463e0e28f2b\n",
      "  Stored in directory: /root/.cache/pip/wheels/e9/7b/aa/e18c983d8236b141f85838ba0f8e4e4ae9bcf7f1e00ff726ec\n",
      "  Building wheel for databricks-cli (setup.py): started\n",
      "  Building wheel for databricks-cli (setup.py): finished with status 'done'\n",
      "  Created wheel for databricks-cli: filename=databricks_cli-0.15.0-py3-none-any.whl size=105259 sha256=bae787b30380c3f65ec5c33a0c629eeacb74fbeda8068aa27c9e6e9d24e2c857\n",
      "  Stored in directory: /root/.cache/pip/wheels/c0/0b/2a/ba06e44bcbf2a48da34fde3c3ebcf5f7d5ef8cb975f9571305\n",
      "  Building wheel for idna-ssl (setup.py): started\n",
      "  Building wheel for idna-ssl (setup.py): finished with status 'done'\n",
      "  Created wheel for idna-ssl: filename=idna_ssl-1.1.0-py3-none-any.whl size=3161 sha256=90cb9ccbe3e1b2aa4592b60d8c1060b53a2bc6db24f1dce1e3f1136e9b6eeb77\n",
      "  Stored in directory: /root/.cache/pip/wheels/6a/f5/9c/f8331a854f7a8739cf0e74c13854e4dd7b1af11b04fe1dde13\n",
      "  Building wheel for termcolor (setup.py): started\u001b[0m\n",
      "\u001b[34m  Building wheel for termcolor (setup.py): finished with status 'done'\n",
      "  Created wheel for termcolor: filename=termcolor-1.1.0-py3-none-any.whl size=4830 sha256=937d5c7861b81f0c9f318b80a5c6f99339bda5b3ea5ca03edcb21b0ca20e0221\n",
      "  Stored in directory: /root/.cache/pip/wheels/93/2a/eb/e58dbcbc963549ee4f065ff80a59f274cc7210b6eab962acdc\n",
      "  Building wheel for wrapt (setup.py): started\u001b[0m\n",
      "\u001b[34m  Building wheel for wrapt (setup.py): finished with status 'done'\n",
      "  Created wheel for wrapt: filename=wrapt-1.12.1-cp36-cp36m-linux_x86_64.whl size=69749 sha256=5eeec1edc5a984d9fd9ac04ad6f5e310febf46d699811a88c29b1935b2bac003\n",
      "  Stored in directory: /root/.cache/pip/wheels/32/42/7f/23cae9ff6ef66798d00dc5d659088e57dbba01566f6c60db63\n",
      "  Building wheel for prometheus-flask-exporter (setup.py): started\u001b[0m\n",
      "\u001b[34m  Building wheel for prometheus-flask-exporter (setup.py): finished with status 'done'\n",
      "  Created wheel for prometheus-flask-exporter: filename=prometheus_flask_exporter-0.18.2-py3-none-any.whl size=17398 sha256=16bf2483cb587f191e0b22aa22c3d9a429ef4a4db33317ab5f7ebe86fe118446\n",
      "  Stored in directory: /root/.cache/pip/wheels/15/77/e8/3ca90b66243b0b58d5a5323a3da02cc8c5daf1de7a65141701\u001b[0m\n",
      "\u001b[34mSuccessfully built sagemaker aiobotocore alembic databricks-cli idna-ssl termcolor wrapt prometheus-flask-exporter\u001b[0m\n",
      "\u001b[34mInstalling collected packages: six, typing-extensions, pyasn1-modules, oauthlib, multidict, cachetools, yarl, smmap, requests-oauthlib, numpy, itsdangerous, idna-ssl, google-auth, botocore, async-timeout, wrapt, tqdm, tensorboard-plugin-wit, tensorboard-data-server, sqlalchemy, regex, python-editor, prometheus-client, markdown, Mako, grpcio, google-auth-oauthlib, gitdb, Flask, filelock, aioitertools, aiohttp, absl-py, torchmetrics, tokenizers, termcolor, tensorflow-estimator, tensorboard, sqlparse, sacremoses, querystring-parser, pyDeprecate, prometheus-flask-exporter, opt-einsum, keras-preprocessing, huggingface-hub, h5py, gunicorn, gitpython, gast, flatbuffers, entrypoints, docker, databricks-cli, boto3, astunparse, alembic, aiobotocore, transformers, tensorflow, smdebug, sentencepiece, scikit-learn, sagemaker, s3fs, pytorch-lightning, mlflow\n",
      "  Attempting uninstall: six\n",
      "    Found existing installation: six 1.16.0\n",
      "    Uninstalling six-1.16.0:\u001b[0m\n"
     ]
    },
    {
     "name": "stdout",
     "output_type": "stream",
     "text": [
      "\u001b[34m      Successfully uninstalled six-1.16.0\n",
      "  Attempting uninstall: typing-extensions\n",
      "    Found existing installation: typing-extensions 3.10.0.0\n",
      "    Uninstalling typing-extensions-3.10.0.0:\n",
      "      Successfully uninstalled typing-extensions-3.10.0.0\n",
      "  Attempting uninstall: numpy\n",
      "    Found existing installation: numpy 1.19.1\u001b[0m\n",
      "\u001b[34m    Uninstalling numpy-1.19.1:\n",
      "      Successfully uninstalled numpy-1.19.1\u001b[0m\n",
      "\u001b[34m  Attempting uninstall: botocore\n",
      "    Found existing installation: botocore 1.20.110\n",
      "    Uninstalling botocore-1.20.110:\n",
      "      Successfully uninstalled botocore-1.20.110\u001b[0m\n",
      "\u001b[34m  Attempting uninstall: tqdm\n",
      "    Found existing installation: tqdm 4.51.0\n",
      "    Uninstalling tqdm-4.51.0:\n",
      "      Successfully uninstalled tqdm-4.51.0\u001b[0m\n",
      "\u001b[34m  Attempting uninstall: h5py\n",
      "    Found existing installation: h5py 2.8.0\n",
      "    Uninstalling h5py-2.8.0:\u001b[0m\n",
      "\u001b[34m      Successfully uninstalled h5py-2.8.0\u001b[0m\n",
      "\u001b[34m  Attempting uninstall: boto3\n",
      "    Found existing installation: boto3 1.17.110\n",
      "    Uninstalling boto3-1.17.110:\n",
      "      Successfully uninstalled boto3-1.17.110\u001b[0m\n",
      "\u001b[34m  Attempting uninstall: smdebug\n",
      "    Found existing installation: smdebug 1.0.9\n",
      "    Uninstalling smdebug-1.0.9:\n",
      "      Successfully uninstalled smdebug-1.0.9\n",
      "  Attempting uninstall: scikit-learn\n",
      "    Found existing installation: scikit-learn 0.24.2\n",
      "    Uninstalling scikit-learn-0.24.2:\n",
      "      Successfully uninstalled scikit-learn-0.24.2\u001b[0m\n",
      "\u001b[34m  Attempting uninstall: sagemaker\n",
      "    Found existing installation: sagemaker 2.48.2\n",
      "    Uninstalling sagemaker-2.48.2:\n",
      "      Successfully uninstalled sagemaker-2.48.2\n",
      "  Attempting uninstall: s3fs\n",
      "    Found existing installation: s3fs 0.4.2\n",
      "    Uninstalling s3fs-0.4.2:\n",
      "      Successfully uninstalled s3fs-0.4.2\u001b[0m\n",
      "\u001b[34mSuccessfully installed Flask-2.0.1 Mako-1.1.5 absl-py-0.13.0 aiobotocore-1.4.1 aiohttp-3.7.4.post0 aioitertools-0.8.0 alembic-1.4.1 astunparse-1.6.3 async-timeout-3.0.1 boto3-1.17.106 botocore-1.20.106 cachetools-4.2.2 databricks-cli-0.15.0 docker-5.0.2 entrypoints-0.3 filelock-3.0.12 flatbuffers-1.12 gast-0.3.3 gitdb-4.0.7 gitpython-3.1.18 google-auth-1.35.0 google-auth-oauthlib-0.4.6 grpcio-1.32.0 gunicorn-20.1.0 h5py-2.10.0 huggingface-hub-0.0.12 idna-ssl-1.1.0 itsdangerous-2.0.1 keras-preprocessing-1.1.2 markdown-3.3.4 mlflow-1.18.0 multidict-5.1.0 numpy-1.19.5 oauthlib-3.1.1 opt-einsum-3.3.0 prometheus-client-0.11.0 prometheus-flask-exporter-0.18.2 pyDeprecate-0.3.0 pyasn1-modules-0.2.8 python-editor-1.0.4 pytorch-lightning-1.3.8 querystring-parser-1.2.4 regex-2021.8.28 requests-oauthlib-1.3.0 s3fs-2021.7.0 sacremoses-0.0.45 sagemaker-2.49.1 scikit-learn-0.22.2.post1 sentencepiece-0.1.90 six-1.15.0 smdebug-1.0.11 smmap-4.0.0 sqlalchemy-1.4.23 sqlparse-0.4.1 tensorboard-2.6.0 tensorboard-data-server-0.6.1 tensorboard-plugin-wit-1.8.0 tensorflow-2.4.0 tensorflow-estimator-2.4.0 termcolor-1.1.0 tokenizers-0.10.3 torchmetrics-0.5.1 tqdm-4.41.1 transformers-4.8.2 typing-extensions-3.7.4.3 wrapt-1.12.1 yarl-1.6.3\u001b[0m\n",
      "\u001b[34mERROR: pip's dependency resolver does not currently take into account all the packages that are installed. This behaviour is the source of the following dependency conflicts.\u001b[0m\n",
      "\u001b[34mawscli 1.19.110 requires botocore==1.20.110, but you have botocore 1.20.106 which is incompatible.\u001b[0m\n",
      "\u001b[34mWARNING: Running pip as the 'root' user can result in broken permissions and conflicting behaviour with the system package manager. It is recommended to use a virtual environment instead: https://pip.pypa.io/warnings/venv\n",
      "\u001b[0m\n",
      "\u001b[34m2021-09-02 14:10:25,870 sagemaker-training-toolkit INFO     Invoking user script\n",
      "\u001b[0m\n",
      "\u001b[34mTraining Env:\n",
      "\u001b[0m\n",
      "\u001b[34m{\n",
      "    \"additional_framework_parameters\": {},\n",
      "    \"channel_input_dirs\": {\n",
      "        \"test\": \"/opt/ml/input/data/test\",\n",
      "        \"train\": \"/opt/ml/input/data/train\"\n",
      "    },\n",
      "    \"current_host\": \"algo-1\",\n",
      "    \"framework_module\": \"sagemaker_pytorch_container.training:main\",\n",
      "    \"hosts\": [\n",
      "        \"algo-1\"\n",
      "    ],\n",
      "    \"hyperparameters\": {\n",
      "        \"experiment_name\": \"all_languages_subpillars\",\n",
      "        \"batch_size\": 4,\n",
      "        \"tracking_uri\": \"http://mlflow-deep-387470f3-1883319727.us-east-1.elb.amazonaws.com/\"\n",
      "    },\n",
      "    \"input_config_dir\": \"/opt/ml/input/config\",\n",
      "    \"input_data_config\": {\n",
      "        \"test\": {\n",
      "            \"TrainingInputMode\": \"File\",\n",
      "            \"S3DistributionType\": \"FullyReplicated\",\n",
      "            \"RecordWrapperType\": \"None\"\n",
      "        },\n",
      "        \"train\": {\n",
      "            \"TrainingInputMode\": \"File\",\n",
      "            \"S3DistributionType\": \"FullyReplicated\",\n",
      "            \"RecordWrapperType\": \"None\"\n",
      "        }\n",
      "    },\n",
      "    \"input_dir\": \"/opt/ml/input\",\n",
      "    \"is_master\": true,\n",
      "    \"job_name\": \"pytorch-2021-09-02-15-56-04-074-subpillars-model\",\n",
      "    \"log_level\": 20,\n",
      "    \"master_hostname\": \"algo-1\",\n",
      "    \"model_dir\": \"/opt/ml/model\",\n",
      "    \"module_dir\": \"s3://sagemaker-deep-experiments-dev/training/input_data/pytorch-2021-09-02-15-56-04-074-subpillars-model/pytorch-2021-09-02-15-56-04-074-subpillars-model/source/sourcedir.tar.gz\",\n",
      "    \"module_name\": \"augment_data\",\n",
      "    \"network_interface_name\": \"eth0\",\n",
      "    \"num_cpus\": 8,\n",
      "    \"num_gpus\": 1,\n",
      "    \"output_data_dir\": \"/opt/ml/output/data\",\n",
      "    \"output_dir\": \"/opt/ml/output\",\n",
      "    \"output_intermediate_dir\": \"/opt/ml/output/intermediate\",\n",
      "    \"resource_config\": {\n",
      "        \"current_host\": \"algo-1\",\n",
      "        \"hosts\": [\n",
      "            \"algo-1\"\n",
      "        ],\n",
      "        \"network_interface_name\": \"eth0\"\n",
      "    },\n",
      "    \"user_entry_point\": \"augment_data.py\"\u001b[0m\n",
      "\u001b[34m}\n",
      "\u001b[0m\n",
      "\u001b[34mEnvironment variables:\n",
      "\u001b[0m\n",
      "\u001b[34mSM_HOSTS=[\"algo-1\"]\u001b[0m\n",
      "\u001b[34mSM_NETWORK_INTERFACE_NAME=eth0\u001b[0m\n",
      "\u001b[34mSM_HPS={\"batch_size\":4,\"experiment_name\":\"all_languages_subpillars\",\"tracking_uri\":\"http://mlflow-deep-387470f3-1883319727.us-east-1.elb.amazonaws.com/\"}\u001b[0m\n",
      "\u001b[34mSM_USER_ENTRY_POINT=augment_data.py\u001b[0m\n",
      "\u001b[34mSM_FRAMEWORK_PARAMS={}\u001b[0m\n",
      "\u001b[34mSM_RESOURCE_CONFIG={\"current_host\":\"algo-1\",\"hosts\":[\"algo-1\"],\"network_interface_name\":\"eth0\"}\u001b[0m\n",
      "\u001b[34mSM_INPUT_DATA_CONFIG={\"test\":{\"RecordWrapperType\":\"None\",\"S3DistributionType\":\"FullyReplicated\",\"TrainingInputMode\":\"File\"},\"train\":{\"RecordWrapperType\":\"None\",\"S3DistributionType\":\"FullyReplicated\",\"TrainingInputMode\":\"File\"}}\u001b[0m\n",
      "\u001b[34mSM_OUTPUT_DATA_DIR=/opt/ml/output/data\u001b[0m\n",
      "\u001b[34mSM_CHANNELS=[\"test\",\"train\"]\u001b[0m\n",
      "\u001b[34mSM_CURRENT_HOST=algo-1\u001b[0m\n",
      "\u001b[34mSM_MODULE_NAME=augment_data\u001b[0m\n",
      "\u001b[34mSM_LOG_LEVEL=20\u001b[0m\n",
      "\u001b[34mSM_FRAMEWORK_MODULE=sagemaker_pytorch_container.training:main\u001b[0m\n",
      "\u001b[34mSM_INPUT_DIR=/opt/ml/input\u001b[0m\n",
      "\u001b[34mSM_INPUT_CONFIG_DIR=/opt/ml/input/config\u001b[0m\n",
      "\u001b[34mSM_OUTPUT_DIR=/opt/ml/output\u001b[0m\n",
      "\u001b[34mSM_NUM_CPUS=8\u001b[0m\n",
      "\u001b[34mSM_NUM_GPUS=1\u001b[0m\n",
      "\u001b[34mSM_MODEL_DIR=/opt/ml/model\u001b[0m\n",
      "\u001b[34mSM_MODULE_DIR=s3://sagemaker-deep-experiments-dev/training/input_data/pytorch-2021-09-02-15-56-04-074-subpillars-model/pytorch-2021-09-02-15-56-04-074-subpillars-model/source/sourcedir.tar.gz\u001b[0m\n",
      "\u001b[34mSM_TRAINING_ENV={\"additional_framework_parameters\":{},\"channel_input_dirs\":{\"test\":\"/opt/ml/input/data/test\",\"train\":\"/opt/ml/input/data/train\"},\"current_host\":\"algo-1\",\"framework_module\":\"sagemaker_pytorch_container.training:main\",\"hosts\":[\"algo-1\"],\"hyperparameters\":{\"batch_size\":4,\"experiment_name\":\"all_languages_subpillars\",\"tracking_uri\":\"http://mlflow-deep-387470f3-1883319727.us-east-1.elb.amazonaws.com/\"},\"input_config_dir\":\"/opt/ml/input/config\",\"input_data_config\":{\"test\":{\"RecordWrapperType\":\"None\",\"S3DistributionType\":\"FullyReplicated\",\"TrainingInputMode\":\"File\"},\"train\":{\"RecordWrapperType\":\"None\",\"S3DistributionType\":\"FullyReplicated\",\"TrainingInputMode\":\"File\"}},\"input_dir\":\"/opt/ml/input\",\"is_master\":true,\"job_name\":\"pytorch-2021-09-02-15-56-04-074-subpillars-model\",\"log_level\":20,\"master_hostname\":\"algo-1\",\"model_dir\":\"/opt/ml/model\",\"module_dir\":\"s3://sagemaker-deep-experiments-dev/training/input_data/pytorch-2021-09-02-15-56-04-074-subpillars-model/pytorch-2021-09-02-15-56-04-074-subpillars-model/source/sourcedir.tar.gz\",\"module_name\":\"augment_data\",\"network_interface_name\":\"eth0\",\"num_cpus\":8,\"num_gpus\":1,\"output_data_dir\":\"/opt/ml/output/data\",\"output_dir\":\"/opt/ml/output\",\"output_intermediate_dir\":\"/opt/ml/output/intermediate\",\"resource_config\":{\"current_host\":\"algo-1\",\"hosts\":[\"algo-1\"],\"network_interface_name\":\"eth0\"},\"user_entry_point\":\"augment_data.py\"}\u001b[0m\n",
      "\u001b[34mSM_USER_ARGS=[\"--batch_size\",\"4\",\"--experiment_name\",\"all_languages_subpillars\",\"--tracking_uri\",\"http://mlflow-deep-387470f3-1883319727.us-east-1.elb.amazonaws.com/\"]\u001b[0m\n",
      "\u001b[34mSM_OUTPUT_INTERMEDIATE_DIR=/opt/ml/output/intermediate\u001b[0m\n",
      "\u001b[34mSM_CHANNEL_TEST=/opt/ml/input/data/test\u001b[0m\n",
      "\u001b[34mSM_CHANNEL_TRAIN=/opt/ml/input/data/train\u001b[0m\n",
      "\u001b[34mSM_HP_EXPERIMENT_NAME=all_languages_subpillars\u001b[0m\n",
      "\u001b[34mSM_HP_BATCH_SIZE=4\u001b[0m\n",
      "\u001b[34mSM_HP_TRACKING_URI=http://mlflow-deep-387470f3-1883319727.us-east-1.elb.amazonaws.com/\u001b[0m\n",
      "\u001b[34mPYTHONPATH=/opt/ml/code:/opt/conda/bin:/opt/conda/lib/python36.zip:/opt/conda/lib/python3.6:/opt/conda/lib/python3.6/lib-dynload:/opt/conda/lib/python3.6/site-packages\n",
      "\u001b[0m\n",
      "\u001b[34mInvoking script with the following command:\n",
      "\u001b[0m\n",
      "\u001b[34m/opt/conda/bin/python3.6 augment_data.py --batch_size 4 --experiment_name all_languages_subpillars --tracking_uri http://mlflow-deep-387470f3-1883319727.us-east-1.elb.amazonaws.com/\n",
      "\n",
      "\u001b[0m\n"
     ]
    },
    {
     "name": "stdout",
     "output_type": "stream",
     "text": [
      "\u001b[34m[2021-09-02 14:10:54.687 algo-1:85 INFO utils.py:27] RULE_JOB_STOP_SIGNAL_FILENAME: None\u001b[0m\n",
      "\u001b[34m[2021-09-02 14:10:54.723 algo-1:85 INFO profiler_config_parser.py:102] User has disabled profiler.\u001b[0m\n",
      "\u001b[34m[2021-09-02 14:10:54.724 algo-1:85 INFO json_config.py:91] Creating hook from json_config at /opt/ml/input/config/debughookconfig.json.\u001b[0m\n",
      "\u001b[34m[2021-09-02 14:10:54.725 algo-1:85 INFO hook.py:201] tensorboard_dir has not been set for the hook. SMDebug will not be exporting tensorboard summaries.\u001b[0m\n",
      "\u001b[34m[2021-09-02 14:10:54.725 algo-1:85 INFO hook.py:255] Saving to /opt/ml/output/tensors\u001b[0m\n",
      "\u001b[34m[2021-09-02 14:10:54.725 algo-1:85 INFO state_store.py:77] The checkpoint config file /opt/ml/input/config/checkpointconfig.json does not exist.\u001b[0m\n",
      "\u001b[34m[2021-09-02 14:10:54.727 algo-1:85 INFO hook.py:594] name:embed_tokens.weight count_params:33280512\u001b[0m\n",
      "\u001b[34m[2021-09-02 14:10:54.727 algo-1:85 INFO hook.py:594] name:layers.0.self_attn.k_proj.weight count_params:262144\u001b[0m\n",
      "\u001b[34m[2021-09-02 14:10:54.727 algo-1:85 INFO hook.py:594] name:layers.0.self_attn.k_proj.bias count_params:512\u001b[0m\n",
      "\u001b[34m[2021-09-02 14:10:54.727 algo-1:85 INFO hook.py:594] name:layers.0.self_attn.v_proj.weight count_params:262144\u001b[0m\n",
      "\u001b[34m[2021-09-02 14:10:54.727 algo-1:85 INFO hook.py:594] name:layers.0.self_attn.v_proj.bias count_params:512\u001b[0m\n",
      "\u001b[34m[2021-09-02 14:10:54.728 algo-1:85 INFO hook.py:594] name:layers.0.self_attn.q_proj.weight count_params:262144\u001b[0m\n",
      "\u001b[34m[2021-09-02 14:10:54.728 algo-1:85 INFO hook.py:594] name:layers.0.self_attn.q_proj.bias count_params:512\u001b[0m\n",
      "\u001b[34m[2021-09-02 14:10:54.728 algo-1:85 INFO hook.py:594] name:layers.0.self_attn.out_proj.weight count_params:262144\u001b[0m\n",
      "\u001b[34m[2021-09-02 14:10:54.728 algo-1:85 INFO hook.py:594] name:layers.0.self_attn.out_proj.bias count_params:512\u001b[0m\n",
      "\u001b[34m[2021-09-02 14:10:54.728 algo-1:85 INFO hook.py:594] name:layers.0.self_attn_layer_norm.weight count_params:512\u001b[0m\n",
      "\u001b[34m[2021-09-02 14:10:54.728 algo-1:85 INFO hook.py:594] name:layers.0.self_attn_layer_norm.bias count_params:512\u001b[0m\n",
      "\u001b[34m[2021-09-02 14:10:54.728 algo-1:85 INFO hook.py:594] name:layers.0.fc1.weight count_params:1048576\u001b[0m\n",
      "\u001b[34m[2021-09-02 14:10:54.728 algo-1:85 INFO hook.py:594] name:layers.0.fc1.bias count_params:2048\u001b[0m\n",
      "\u001b[34m[2021-09-02 14:10:54.728 algo-1:85 INFO hook.py:594] name:layers.0.fc2.weight count_params:1048576\u001b[0m\n",
      "\u001b[34m[2021-09-02 14:10:54.728 algo-1:85 INFO hook.py:594] name:layers.0.fc2.bias count_params:512\u001b[0m\n",
      "\u001b[34m[2021-09-02 14:10:54.728 algo-1:85 INFO hook.py:594] name:layers.0.final_layer_norm.weight count_params:512\u001b[0m\n",
      "\u001b[34m[2021-09-02 14:10:54.729 algo-1:85 INFO hook.py:594] name:layers.0.final_layer_norm.bias count_params:512\u001b[0m\n",
      "\u001b[34m[2021-09-02 14:10:54.729 algo-1:85 INFO hook.py:594] name:layers.1.self_attn.k_proj.weight count_params:262144\u001b[0m\n",
      "\u001b[34m[2021-09-02 14:10:54.729 algo-1:85 INFO hook.py:594] name:layers.1.self_attn.k_proj.bias count_params:512\u001b[0m\n",
      "\u001b[34m[2021-09-02 14:10:54.729 algo-1:85 INFO hook.py:594] name:layers.1.self_attn.v_proj.weight count_params:262144\u001b[0m\n",
      "\u001b[34m[2021-09-02 14:10:54.729 algo-1:85 INFO hook.py:594] name:layers.1.self_attn.v_proj.bias count_params:512\u001b[0m\n",
      "\u001b[34m[2021-09-02 14:10:54.729 algo-1:85 INFO hook.py:594] name:layers.1.self_attn.q_proj.weight count_params:262144\u001b[0m\n",
      "\u001b[34m[2021-09-02 14:10:54.729 algo-1:85 INFO hook.py:594] name:layers.1.self_attn.q_proj.bias count_params:512\u001b[0m\n",
      "\u001b[34m[2021-09-02 14:10:54.729 algo-1:85 INFO hook.py:594] name:layers.1.self_attn.out_proj.weight count_params:262144\u001b[0m\n",
      "\u001b[34m[2021-09-02 14:10:54.729 algo-1:85 INFO hook.py:594] name:layers.1.self_attn.out_proj.bias count_params:512\u001b[0m\n",
      "\u001b[34m[2021-09-02 14:10:54.729 algo-1:85 INFO hook.py:594] name:layers.1.self_attn_layer_norm.weight count_params:512\u001b[0m\n",
      "\u001b[34m[2021-09-02 14:10:54.729 algo-1:85 INFO hook.py:594] name:layers.1.self_attn_layer_norm.bias count_params:512\u001b[0m\n",
      "\u001b[34m[2021-09-02 14:10:54.730 algo-1:85 INFO hook.py:594] name:layers.1.fc1.weight count_params:1048576\u001b[0m\n",
      "\u001b[34m[2021-09-02 14:10:54.730 algo-1:85 INFO hook.py:594] name:layers.1.fc1.bias count_params:2048\u001b[0m\n",
      "\u001b[34m[2021-09-02 14:10:54.730 algo-1:85 INFO hook.py:594] name:layers.1.fc2.weight count_params:1048576\u001b[0m\n",
      "\u001b[34m[2021-09-02 14:10:54.730 algo-1:85 INFO hook.py:594] name:layers.1.fc2.bias count_params:512\u001b[0m\n",
      "\u001b[34m[2021-09-02 14:10:54.730 algo-1:85 INFO hook.py:594] name:layers.1.final_layer_norm.weight count_params:512\u001b[0m\n",
      "\u001b[34m[2021-09-02 14:10:54.730 algo-1:85 INFO hook.py:594] name:layers.1.final_layer_norm.bias count_params:512\u001b[0m\n",
      "\u001b[34m[2021-09-02 14:10:54.730 algo-1:85 INFO hook.py:594] name:layers.2.self_attn.k_proj.weight count_params:262144\u001b[0m\n",
      "\u001b[34m[2021-09-02 14:10:54.730 algo-1:85 INFO hook.py:594] name:layers.2.self_attn.k_proj.bias count_params:512\u001b[0m\n",
      "\u001b[34m[2021-09-02 14:10:54.730 algo-1:85 INFO hook.py:594] name:layers.2.self_attn.v_proj.weight count_params:262144\u001b[0m\n",
      "\u001b[34m[2021-09-02 14:10:54.730 algo-1:85 INFO hook.py:594] name:layers.2.self_attn.v_proj.bias count_params:512\u001b[0m\n",
      "\u001b[34m[2021-09-02 14:10:54.731 algo-1:85 INFO hook.py:594] name:layers.2.self_attn.q_proj.weight count_params:262144\u001b[0m\n",
      "\u001b[34m[2021-09-02 14:10:54.731 algo-1:85 INFO hook.py:594] name:layers.2.self_attn.q_proj.bias count_params:512\u001b[0m\n",
      "\u001b[34m[2021-09-02 14:10:54.731 algo-1:85 INFO hook.py:594] name:layers.2.self_attn.out_proj.weight count_params:262144\u001b[0m\n",
      "\u001b[34m[2021-09-02 14:10:54.731 algo-1:85 INFO hook.py:594] name:layers.2.self_attn.out_proj.bias count_params:512\u001b[0m\n",
      "\u001b[34m[2021-09-02 14:10:54.731 algo-1:85 INFO hook.py:594] name:layers.2.self_attn_layer_norm.weight count_params:512\u001b[0m\n",
      "\u001b[34m[2021-09-02 14:10:54.731 algo-1:85 INFO hook.py:594] name:layers.2.self_attn_layer_norm.bias count_params:512\u001b[0m\n",
      "\u001b[34m[2021-09-02 14:10:54.731 algo-1:85 INFO hook.py:594] name:layers.2.fc1.weight count_params:1048576\u001b[0m\n",
      "\u001b[34m[2021-09-02 14:10:54.731 algo-1:85 INFO hook.py:594] name:layers.2.fc1.bias count_params:2048\u001b[0m\n",
      "\u001b[34m[2021-09-02 14:10:54.731 algo-1:85 INFO hook.py:594] name:layers.2.fc2.weight count_params:1048576\u001b[0m\n",
      "\u001b[34m[2021-09-02 14:10:54.731 algo-1:85 INFO hook.py:594] name:layers.2.fc2.bias count_params:512\u001b[0m\n",
      "\u001b[34m[2021-09-02 14:10:54.731 algo-1:85 INFO hook.py:594] name:layers.2.final_layer_norm.weight count_params:512\u001b[0m\n",
      "\u001b[34m[2021-09-02 14:10:54.732 algo-1:85 INFO hook.py:594] name:layers.2.final_layer_norm.bias count_params:512\u001b[0m\n",
      "\u001b[34m[2021-09-02 14:10:54.732 algo-1:85 INFO hook.py:594] name:layers.3.self_attn.k_proj.weight count_params:262144\u001b[0m\n",
      "\u001b[34m[2021-09-02 14:10:54.732 algo-1:85 INFO hook.py:594] name:layers.3.self_attn.k_proj.bias count_params:512\u001b[0m\n",
      "\u001b[34m[2021-09-02 14:10:54.732 algo-1:85 INFO hook.py:594] name:layers.3.self_attn.v_proj.weight count_params:262144\u001b[0m\n",
      "\u001b[34m[2021-09-02 14:10:54.732 algo-1:85 INFO hook.py:594] name:layers.3.self_attn.v_proj.bias count_params:512\u001b[0m\n",
      "\u001b[34m[2021-09-02 14:10:54.732 algo-1:85 INFO hook.py:594] name:layers.3.self_attn.q_proj.weight count_params:262144\u001b[0m\n",
      "\u001b[34m[2021-09-02 14:10:54.732 algo-1:85 INFO hook.py:594] name:layers.3.self_attn.q_proj.bias count_params:512\u001b[0m\n",
      "\u001b[34m[2021-09-02 14:10:54.732 algo-1:85 INFO hook.py:594] name:layers.3.self_attn.out_proj.weight count_params:262144\u001b[0m\n",
      "\u001b[34m[2021-09-02 14:10:54.732 algo-1:85 INFO hook.py:594] name:layers.3.self_attn.out_proj.bias count_params:512\u001b[0m\n",
      "\u001b[34m[2021-09-02 14:10:54.732 algo-1:85 INFO hook.py:594] name:layers.3.self_attn_layer_norm.weight count_params:512\u001b[0m\n",
      "\u001b[34m[2021-09-02 14:10:54.732 algo-1:85 INFO hook.py:594] name:layers.3.self_attn_layer_norm.bias count_params:512\u001b[0m\n",
      "\u001b[34m[2021-09-02 14:10:54.732 algo-1:85 INFO hook.py:594] name:layers.3.fc1.weight count_params:1048576\u001b[0m\n",
      "\u001b[34m[2021-09-02 14:10:54.733 algo-1:85 INFO hook.py:594] name:layers.3.fc1.bias count_params:2048\u001b[0m\n",
      "\u001b[34m[2021-09-02 14:10:54.733 algo-1:85 INFO hook.py:594] name:layers.3.fc2.weight count_params:1048576\u001b[0m\n",
      "\u001b[34m[2021-09-02 14:10:54.733 algo-1:85 INFO hook.py:594] name:layers.3.fc2.bias count_params:512\u001b[0m\n",
      "\u001b[34m[2021-09-02 14:10:54.733 algo-1:85 INFO hook.py:594] name:layers.3.final_layer_norm.weight count_params:512\u001b[0m\n",
      "\u001b[34m[2021-09-02 14:10:54.733 algo-1:85 INFO hook.py:594] name:layers.3.final_layer_norm.bias count_params:512\u001b[0m\n",
      "\u001b[34m[2021-09-02 14:10:54.733 algo-1:85 INFO hook.py:594] name:layers.4.self_attn.k_proj.weight count_params:262144\u001b[0m\n",
      "\u001b[34m[2021-09-02 14:10:54.733 algo-1:85 INFO hook.py:594] name:layers.4.self_attn.k_proj.bias count_params:512\u001b[0m\n",
      "\u001b[34m[2021-09-02 14:10:54.733 algo-1:85 INFO hook.py:594] name:layers.4.self_attn.v_proj.weight count_params:262144\u001b[0m\n",
      "\u001b[34m[2021-09-02 14:10:54.733 algo-1:85 INFO hook.py:594] name:layers.4.self_attn.v_proj.bias count_params:512\u001b[0m\n",
      "\u001b[34m[2021-09-02 14:10:54.733 algo-1:85 INFO hook.py:594] name:layers.4.self_attn.q_proj.weight count_params:262144\u001b[0m\n",
      "\u001b[34m[2021-09-02 14:10:54.734 algo-1:85 INFO hook.py:594] name:layers.4.self_attn.q_proj.bias count_params:512\u001b[0m\n",
      "\u001b[34m[2021-09-02 14:10:54.734 algo-1:85 INFO hook.py:594] name:layers.4.self_attn.out_proj.weight count_params:262144\u001b[0m\n",
      "\u001b[34m[2021-09-02 14:10:54.734 algo-1:85 INFO hook.py:594] name:layers.4.self_attn.out_proj.bias count_params:512\u001b[0m\n",
      "\u001b[34m[2021-09-02 14:10:54.734 algo-1:85 INFO hook.py:594] name:layers.4.self_attn_layer_norm.weight count_params:512\u001b[0m\n",
      "\u001b[34m[2021-09-02 14:10:54.734 algo-1:85 INFO hook.py:594] name:layers.4.self_attn_layer_norm.bias count_params:512\u001b[0m\n",
      "\u001b[34m[2021-09-02 14:10:54.734 algo-1:85 INFO hook.py:594] name:layers.4.fc1.weight count_params:1048576\u001b[0m\n",
      "\u001b[34m[2021-09-02 14:10:54.734 algo-1:85 INFO hook.py:594] name:layers.4.fc1.bias count_params:2048\u001b[0m\n",
      "\u001b[34m[2021-09-02 14:10:54.734 algo-1:85 INFO hook.py:594] name:layers.4.fc2.weight count_params:1048576\u001b[0m\n",
      "\u001b[34m[2021-09-02 14:10:54.734 algo-1:85 INFO hook.py:594] name:layers.4.fc2.bias count_params:512\u001b[0m\n",
      "\u001b[34m[2021-09-02 14:10:54.734 algo-1:85 INFO hook.py:594] name:layers.4.final_layer_norm.weight count_params:512\u001b[0m\n",
      "\u001b[34m[2021-09-02 14:10:54.734 algo-1:85 INFO hook.py:594] name:layers.4.final_layer_norm.bias count_params:512\u001b[0m\n",
      "\u001b[34m[2021-09-02 14:10:54.735 algo-1:85 INFO hook.py:594] name:layers.5.self_attn.k_proj.weight count_params:262144\u001b[0m\n",
      "\u001b[34m[2021-09-02 14:10:54.735 algo-1:85 INFO hook.py:594] name:layers.5.self_attn.k_proj.bias count_params:512\u001b[0m\n",
      "\u001b[34m[2021-09-02 14:10:54.735 algo-1:85 INFO hook.py:594] name:layers.5.self_attn.v_proj.weight count_params:262144\u001b[0m\n",
      "\u001b[34m[2021-09-02 14:10:54.735 algo-1:85 INFO hook.py:594] name:layers.5.self_attn.v_proj.bias count_params:512\u001b[0m\n",
      "\u001b[34m[2021-09-02 14:10:54.735 algo-1:85 INFO hook.py:594] name:layers.5.self_attn.q_proj.weight count_params:262144\u001b[0m\n",
      "\u001b[34m[2021-09-02 14:10:54.735 algo-1:85 INFO hook.py:594] name:layers.5.self_attn.q_proj.bias count_params:512\u001b[0m\n",
      "\u001b[34m[2021-09-02 14:10:54.735 algo-1:85 INFO hook.py:594] name:layers.5.self_attn.out_proj.weight count_params:262144\u001b[0m\n",
      "\u001b[34m[2021-09-02 14:10:54.735 algo-1:85 INFO hook.py:594] name:layers.5.self_attn.out_proj.bias count_params:512\u001b[0m\n",
      "\u001b[34m[2021-09-02 14:10:54.735 algo-1:85 INFO hook.py:594] name:layers.5.self_attn_layer_norm.weight count_params:512\u001b[0m\n",
      "\u001b[34m[2021-09-02 14:10:54.735 algo-1:85 INFO hook.py:594] name:layers.5.self_attn_layer_norm.bias count_params:512\u001b[0m\n",
      "\u001b[34m[2021-09-02 14:10:54.735 algo-1:85 INFO hook.py:594] name:layers.5.fc1.weight count_params:1048576\u001b[0m\n",
      "\u001b[34m[2021-09-02 14:10:54.736 algo-1:85 INFO hook.py:594] name:layers.5.fc1.bias count_params:2048\u001b[0m\n",
      "\u001b[34m[2021-09-02 14:10:54.736 algo-1:85 INFO hook.py:594] name:layers.5.fc2.weight count_params:1048576\u001b[0m\n",
      "\u001b[34m[2021-09-02 14:10:54.736 algo-1:85 INFO hook.py:594] name:layers.5.fc2.bias count_params:512\u001b[0m\n",
      "\u001b[34m[2021-09-02 14:10:54.736 algo-1:85 INFO hook.py:594] name:layers.5.final_layer_norm.weight count_params:512\u001b[0m\n",
      "\u001b[34m[2021-09-02 14:10:54.736 algo-1:85 INFO hook.py:594] name:layers.5.final_layer_norm.bias count_params:512\u001b[0m\n",
      "\u001b[34m[2021-09-02 14:10:54.736 algo-1:85 INFO hook.py:596] Total Trainable Params: 52194816\u001b[0m\n",
      "\u001b[34m[2021-09-02 14:10:54.736 algo-1:85 INFO hook.py:423] Monitoring the collections: losses\u001b[0m\n",
      "\u001b[34m[2021-09-02 14:10:54.739 algo-1:85 INFO hook.py:486] Hook is writing from the hook with pid: 85\n",
      "\u001b[0m\n"
     ]
    },
    {
     "name": "stdout",
     "output_type": "stream",
     "text": [
      "\n",
      "2021-09-02 16:01:07 Stopping - Stopping the training job"
     ]
    },
    {
     "ename": "KeyboardInterrupt",
     "evalue": "",
     "output_type": "error",
     "traceback": [
      "\u001b[0;31m---------------------------------------------------------------------------\u001b[0m",
      "\u001b[0;31mKeyboardInterrupt\u001b[0m                         Traceback (most recent call last)",
      "\u001b[0;32m<ipython-input-14-cb2617298331>\u001b[0m in \u001b[0;36m<module>\u001b[0;34m\u001b[0m\n\u001b[1;32m      1\u001b[0m \u001b[0;31m# Fit the estimator\u001b[0m\u001b[0;34m\u001b[0m\u001b[0;34m\u001b[0m\u001b[0;34m\u001b[0m\u001b[0m\n\u001b[1;32m      2\u001b[0m \u001b[0;34m\u001b[0m\u001b[0m\n\u001b[0;32m----> 3\u001b[0;31m \u001b[0mestimator\u001b[0m\u001b[0;34m.\u001b[0m\u001b[0mfit\u001b[0m\u001b[0;34m(\u001b[0m\u001b[0mfit_arguments\u001b[0m\u001b[0;34m,\u001b[0m \u001b[0mjob_name\u001b[0m\u001b[0;34m=\u001b[0m\u001b[0mjob_name\u001b[0m\u001b[0;34m)\u001b[0m\u001b[0;34m\u001b[0m\u001b[0;34m\u001b[0m\u001b[0m\n\u001b[0m",
      "\u001b[0;32m~/anaconda3/lib/python3.8/site-packages/sagemaker/estimator.py\u001b[0m in \u001b[0;36mfit\u001b[0;34m(self, inputs, wait, logs, job_name, experiment_config)\u001b[0m\n\u001b[1;32m    681\u001b[0m         \u001b[0mself\u001b[0m\u001b[0;34m.\u001b[0m\u001b[0mjobs\u001b[0m\u001b[0;34m.\u001b[0m\u001b[0mappend\u001b[0m\u001b[0;34m(\u001b[0m\u001b[0mself\u001b[0m\u001b[0;34m.\u001b[0m\u001b[0mlatest_training_job\u001b[0m\u001b[0;34m)\u001b[0m\u001b[0;34m\u001b[0m\u001b[0;34m\u001b[0m\u001b[0m\n\u001b[1;32m    682\u001b[0m         \u001b[0;32mif\u001b[0m \u001b[0mwait\u001b[0m\u001b[0;34m:\u001b[0m\u001b[0;34m\u001b[0m\u001b[0;34m\u001b[0m\u001b[0m\n\u001b[0;32m--> 683\u001b[0;31m             \u001b[0mself\u001b[0m\u001b[0;34m.\u001b[0m\u001b[0mlatest_training_job\u001b[0m\u001b[0;34m.\u001b[0m\u001b[0mwait\u001b[0m\u001b[0;34m(\u001b[0m\u001b[0mlogs\u001b[0m\u001b[0;34m=\u001b[0m\u001b[0mlogs\u001b[0m\u001b[0;34m)\u001b[0m\u001b[0;34m\u001b[0m\u001b[0;34m\u001b[0m\u001b[0m\n\u001b[0m\u001b[1;32m    684\u001b[0m \u001b[0;34m\u001b[0m\u001b[0m\n\u001b[1;32m    685\u001b[0m     \u001b[0;32mdef\u001b[0m \u001b[0m_compilation_job_name\u001b[0m\u001b[0;34m(\u001b[0m\u001b[0mself\u001b[0m\u001b[0;34m)\u001b[0m\u001b[0;34m:\u001b[0m\u001b[0;34m\u001b[0m\u001b[0;34m\u001b[0m\u001b[0m\n",
      "\u001b[0;32m~/anaconda3/lib/python3.8/site-packages/sagemaker/estimator.py\u001b[0m in \u001b[0;36mwait\u001b[0;34m(self, logs)\u001b[0m\n\u001b[1;32m   1626\u001b[0m         \u001b[0;31m# If logs are requested, call logs_for_jobs.\u001b[0m\u001b[0;34m\u001b[0m\u001b[0;34m\u001b[0m\u001b[0;34m\u001b[0m\u001b[0m\n\u001b[1;32m   1627\u001b[0m         \u001b[0;32mif\u001b[0m \u001b[0mlogs\u001b[0m \u001b[0;34m!=\u001b[0m \u001b[0;34m\"None\"\u001b[0m\u001b[0;34m:\u001b[0m\u001b[0;34m\u001b[0m\u001b[0;34m\u001b[0m\u001b[0m\n\u001b[0;32m-> 1628\u001b[0;31m             \u001b[0mself\u001b[0m\u001b[0;34m.\u001b[0m\u001b[0msagemaker_session\u001b[0m\u001b[0;34m.\u001b[0m\u001b[0mlogs_for_job\u001b[0m\u001b[0;34m(\u001b[0m\u001b[0mself\u001b[0m\u001b[0;34m.\u001b[0m\u001b[0mjob_name\u001b[0m\u001b[0;34m,\u001b[0m \u001b[0mwait\u001b[0m\u001b[0;34m=\u001b[0m\u001b[0;32mTrue\u001b[0m\u001b[0;34m,\u001b[0m \u001b[0mlog_type\u001b[0m\u001b[0;34m=\u001b[0m\u001b[0mlogs\u001b[0m\u001b[0;34m)\u001b[0m\u001b[0;34m\u001b[0m\u001b[0;34m\u001b[0m\u001b[0m\n\u001b[0m\u001b[1;32m   1629\u001b[0m         \u001b[0;32melse\u001b[0m\u001b[0;34m:\u001b[0m\u001b[0;34m\u001b[0m\u001b[0;34m\u001b[0m\u001b[0m\n\u001b[1;32m   1630\u001b[0m             \u001b[0mself\u001b[0m\u001b[0;34m.\u001b[0m\u001b[0msagemaker_session\u001b[0m\u001b[0;34m.\u001b[0m\u001b[0mwait_for_job\u001b[0m\u001b[0;34m(\u001b[0m\u001b[0mself\u001b[0m\u001b[0;34m.\u001b[0m\u001b[0mjob_name\u001b[0m\u001b[0;34m)\u001b[0m\u001b[0;34m\u001b[0m\u001b[0;34m\u001b[0m\u001b[0m\n",
      "\u001b[0;32m~/anaconda3/lib/python3.8/site-packages/sagemaker/session.py\u001b[0m in \u001b[0;36mlogs_for_job\u001b[0;34m(self, job_name, wait, poll, log_type)\u001b[0m\n\u001b[1;32m   3608\u001b[0m                 \u001b[0;32mbreak\u001b[0m\u001b[0;34m\u001b[0m\u001b[0;34m\u001b[0m\u001b[0m\n\u001b[1;32m   3609\u001b[0m \u001b[0;34m\u001b[0m\u001b[0m\n\u001b[0;32m-> 3610\u001b[0;31m             \u001b[0mtime\u001b[0m\u001b[0;34m.\u001b[0m\u001b[0msleep\u001b[0m\u001b[0;34m(\u001b[0m\u001b[0mpoll\u001b[0m\u001b[0;34m)\u001b[0m\u001b[0;34m\u001b[0m\u001b[0;34m\u001b[0m\u001b[0m\n\u001b[0m\u001b[1;32m   3611\u001b[0m \u001b[0;34m\u001b[0m\u001b[0m\n\u001b[1;32m   3612\u001b[0m             \u001b[0;32mif\u001b[0m \u001b[0mstate\u001b[0m \u001b[0;34m==\u001b[0m \u001b[0mLogState\u001b[0m\u001b[0;34m.\u001b[0m\u001b[0mJOB_COMPLETE\u001b[0m\u001b[0;34m:\u001b[0m\u001b[0;34m\u001b[0m\u001b[0;34m\u001b[0m\u001b[0m\n",
      "\u001b[0;31mKeyboardInterrupt\u001b[0m: "
     ]
    }
   ],
   "source": [
    "# Fit the estimator\n",
    "\n",
    "estimator.fit(fit_arguments, job_name=job_name)"
   ]
  },
  {
   "cell_type": "code",
   "execution_count": null,
   "metadata": {},
   "outputs": [],
   "source": []
  },
  {
   "cell_type": "code",
   "execution_count": null,
   "metadata": {},
   "outputs": [],
   "source": []
  },
  {
   "cell_type": "code",
   "execution_count": null,
   "metadata": {},
   "outputs": [],
   "source": []
  }
 ],
 "metadata": {
  "kernelspec": {
   "display_name": "Python 3",
   "language": "python",
   "name": "python3"
  },
  "language_info": {
   "codemirror_mode": {
    "name": "ipython",
    "version": 3
   },
   "file_extension": ".py",
   "mimetype": "text/x-python",
   "name": "python",
   "nbconvert_exporter": "python",
   "pygments_lexer": "ipython3",
   "version": "3.8.5"
  }
 },
 "nbformat": 4,
 "nbformat_minor": 4
}
