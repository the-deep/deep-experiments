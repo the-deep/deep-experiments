{
 "cells": [
  {
   "cell_type": "code",
   "execution_count": 1,
   "id": "301aea27",
   "metadata": {
    "ExecuteTime": {
     "end_time": "2021-11-22T11:15:31.372972Z",
     "start_time": "2021-11-22T11:15:31.367921Z"
    }
   },
   "outputs": [],
   "source": [
    "import os\n",
    "os.environ[\"WANDB_DISABLED\"] = \"true\""
   ]
  },
  {
   "cell_type": "code",
   "execution_count": 3,
   "id": "5275ea4d",
   "metadata": {
    "ExecuteTime": {
     "end_time": "2021-11-22T11:15:43.843391Z",
     "start_time": "2021-11-22T11:15:41.104970Z"
    }
   },
   "outputs": [
    {
     "name": "stderr",
     "output_type": "stream",
     "text": [
      "2021-11-22 14:15:42.232000: I tensorflow/stream_executor/platform/default/dso_loader.cc:53] Successfully opened dynamic library libcudart.so.11.0\n"
     ]
    }
   ],
   "source": [
    "import random\n",
    "from typing import Callable, Dict, List, Optional, Tuple, Union\n",
    "\n",
    "import torch\n",
    "import torch.nn as nn\n",
    "import torch.nn.functional as F\n",
    "from torch.utils.data import Dataset, DataLoader\n",
    "\n",
    "import datasets\n",
    "from transformers import (DataCollator, EvalPrediction, PreTrainedModel,\n",
    "                          PreTrainedTokenizerBase, Trainer, TrainerCallback,\n",
    "                          TrainingArguments, AutoTokenizer,\n",
    "                          AutoModelForSequenceClassification)\n",
    "\n",
    "import numpy as np\n",
    "import pandas as pd\n",
    "from tqdm.notebook import tqdm\n",
    "from torchmetrics.functional import f1, precision_recall, accuracy"
   ]
  },
  {
   "cell_type": "code",
   "execution_count": 4,
   "id": "51a83baf",
   "metadata": {
    "ExecuteTime": {
     "end_time": "2021-11-22T11:15:43.879214Z",
     "start_time": "2021-11-22T11:15:43.874365Z"
    }
   },
   "outputs": [
    {
     "data": {
      "text/plain": [
       "<torch._C.Generator at 0x7f087c114850>"
      ]
     },
     "execution_count": 4,
     "metadata": {},
     "output_type": "execute_result"
    }
   ],
   "source": [
    "random.seed(2021)\n",
    "np.random.seed(2021)\n",
    "torch.manual_seed(2021)"
   ]
  },
  {
   "cell_type": "code",
   "execution_count": 5,
   "id": "886982ee",
   "metadata": {
    "ExecuteTime": {
     "end_time": "2021-11-22T11:15:46.714834Z",
     "start_time": "2021-11-22T11:15:46.529955Z"
    }
   },
   "outputs": [],
   "source": [
    "df_train = pd.read_csv(\"df_train_balanced_gender.csv\")\n",
    "df_val = pd.read_csv(\"df_val_balanced_gender.csv\")"
   ]
  },
  {
   "cell_type": "code",
   "execution_count": 6,
   "id": "79ef3c29",
   "metadata": {
    "ExecuteTime": {
     "end_time": "2021-11-22T11:15:57.179693Z",
     "start_time": "2021-11-22T11:15:48.441560Z"
    }
   },
   "outputs": [
    {
     "name": "stderr",
     "output_type": "stream",
     "text": [
      "Some weights of BertForSequenceClassification were not initialized from the model checkpoint at microsoft/xtremedistil-l6-h256-uncased and are newly initialized: ['classifier.weight', 'classifier.bias']\n",
      "You should probably TRAIN this model on a down-stream task to be able to use it for predictions and inference.\n"
     ]
    }
   ],
   "source": [
    "# model_name = \"sentence-transformers/paraphrase-multilingual-MiniLM-L12-v2\"\n",
    "model_name = \"microsoft/xtremedistil-l6-h256-uncased\"\n",
    "tokenizer = AutoTokenizer.from_pretrained(model_name)\n",
    "model = AutoModelForSequenceClassification.from_pretrained(model_name)"
   ]
  },
  {
   "cell_type": "code",
   "execution_count": 7,
   "id": "80db5d5f",
   "metadata": {
    "ExecuteTime": {
     "end_time": "2021-11-22T11:16:03.425391Z",
     "start_time": "2021-11-22T11:16:02.109760Z"
    }
   },
   "outputs": [
    {
     "name": "stderr",
     "output_type": "stream",
     "text": [
      "/home/abdullah/.local/lib/python3.8/site-packages/transformers/tokenization_utils_base.py:2227: UserWarning: `max_length` is ignored when `padding`=`True`.\n",
      "  warnings.warn(\"`max_length` is ignored when `padding`=`True`.\")\n"
     ]
    }
   ],
   "source": [
    "train_encodings = tokenizer(df_train['excerpt'].tolist(),\n",
    "                            truncation=True,\n",
    "                            padding=True,\n",
    "                            max_length=512)\n",
    "val_encodings = tokenizer(df_val['excerpt'].tolist(),\n",
    "                          truncation=True,\n",
    "                          padding=True,\n",
    "                          max_length=512)"
   ]
  },
  {
   "cell_type": "code",
   "execution_count": 8,
   "id": "49917553",
   "metadata": {
    "ExecuteTime": {
     "end_time": "2021-11-22T11:16:10.858592Z",
     "start_time": "2021-11-22T11:16:10.852313Z"
    }
   },
   "outputs": [],
   "source": [
    "class GenderClassificationDataset(torch.utils.data.Dataset):\n",
    "    def __init__(self, encodings, labels):\n",
    "        self.encodings = encodings\n",
    "        self.labels = labels\n",
    "        self.dataset_size = len(labels)\n",
    "        self.lbl_to_id = {\"Female\": 0, \"Male\": 1}\n",
    "        self.id_to_lbl = [\"Female\", \"Male\"]\n",
    "\n",
    "    def __getitem__(self, idx):\n",
    "        item = {\n",
    "            key: torch.tensor(val[idx])\n",
    "            for key, val in self.encodings.items()\n",
    "        }\n",
    "        item['labels'] = torch.tensor(\n",
    "            [1. if x in self.labels[idx] else 0. for x in self.lbl_to_id])\n",
    "\n",
    "        return item\n",
    "\n",
    "    def __len__(self):\n",
    "        return self.dataset_size\n",
    "\n",
    "\n",
    "train_dataset = GenderClassificationDataset(train_encodings,\n",
    "                                            df_train['gender'].tolist())\n",
    "val_dataset = GenderClassificationDataset(\n",
    "    val_encodings,\n",
    "    df_val['gender'].tolist(),\n",
    ")"
   ]
  },
  {
   "cell_type": "code",
   "execution_count": 11,
   "id": "76c26c00",
   "metadata": {
    "ExecuteTime": {
     "end_time": "2021-11-22T11:16:40.184056Z",
     "start_time": "2021-11-22T11:16:40.177904Z"
    }
   },
   "outputs": [],
   "source": [
    "def compute_metrics(eval_pred):\n",
    "    preds, target = eval_pred\n",
    "    res = dict()\n",
    "    for metric in [f1, precision_recall, accuracy]:\n",
    "        res[metric.__name__] = metric(preds,\n",
    "                                      target,\n",
    "                                      average=\"macro\",\n",
    "                                      num_classes=2)\n",
    "    return res"
   ]
  },
  {
   "cell_type": "code",
   "execution_count": 12,
   "id": "1883acd5",
   "metadata": {
    "ExecuteTime": {
     "end_time": "2021-11-22T11:16:47.687088Z",
     "start_time": "2021-11-22T11:16:47.684203Z"
    }
   },
   "outputs": [],
   "source": [
    "male_neg_sampling_prob = (2 * df_train[\"male\"].sum()) / len(df_train)\n",
    "female_neg_sampling_prob = (2 * df_train[\"female\"].sum()) / len(df_train)\n",
    "neg_sampling_ratios = {\n",
    "    \"Female\": female_neg_sampling_prob,\n",
    "    \"Male\": male_neg_sampling_prob\n",
    "}"
   ]
  },
  {
   "cell_type": "code",
   "execution_count": 14,
   "id": "948accf7",
   "metadata": {
    "ExecuteTime": {
     "end_time": "2021-11-22T11:17:04.659235Z",
     "start_time": "2021-11-22T11:17:04.648747Z"
    }
   },
   "outputs": [],
   "source": [
    "class MultilabelTrainer(Trainer):\n",
    "    def __init__(\n",
    "        self,\n",
    "        neg_sampling_ratios: Dict[str, float],\n",
    "        model: Union[PreTrainedModel, nn.Module] = None,\n",
    "        args: TrainingArguments = None,\n",
    "        data_collator: Optional[DataCollator] = None,\n",
    "        train_dataset: Optional[Dataset] = None,\n",
    "        eval_dataset: Optional[Dataset] = None,\n",
    "        tokenizer: Optional[PreTrainedTokenizerBase] = None,\n",
    "        model_init: Callable[[], PreTrainedModel] = None,\n",
    "        compute_metrics: Optional[Callable[[EvalPrediction], Dict]] = None,\n",
    "        callbacks: Optional[List[TrainerCallback]] = None,\n",
    "        optimizers: Tuple[torch.optim.Optimizer,\n",
    "                          torch.optim.lr_scheduler.LambdaLR] = (None, None),\n",
    "    ):\n",
    "        super().__init__(\n",
    "            model=model,\n",
    "            args=args,\n",
    "            data_collator=data_collator,\n",
    "            train_dataset=train_dataset,\n",
    "            eval_dataset=eval_dataset,\n",
    "            tokenizer=tokenizer,\n",
    "            model_init=model_init,\n",
    "            compute_metrics=compute_metrics,\n",
    "            callbacks=callbacks,\n",
    "            optimizers=optimizers,\n",
    "        )\n",
    "        self.neg_sampling_ratios = neg_sampling_ratios\n",
    "\n",
    "    def compute_loss(self, model, inputs, return_outputs=False):\n",
    "        labels = inputs.pop(\"labels\")\n",
    "        outputs = model(**inputs)\n",
    "        logits = outputs.get('logits')\n",
    "        loss_weights = labels.clone()\n",
    "        # handle negative examples sampling for the \"Female\" class\n",
    "        neg_examples_indices_female = torch.nonzero(1-labels[:, 0])\n",
    "        n = len(neg_examples_indices_female)\n",
    "        if n > 0:\n",
    "            a = torch.tensor([0., 1.], device=loss_weights.device)\n",
    "            p = torch.tensor([1-self.neg_sampling_ratios[\"Female\"], self.neg_sampling_ratios[\"Female\"]])\n",
    "            idx = p.multinomial(num_samples=n, replacement=True)\n",
    "            loss_weights[neg_examples_indices_female, [0]*n] = a[idx]\n",
    "        # handle negative examples sampling for the \"Male\" class\n",
    "        neg_examples_indices_male = torch.nonzero(1-labels[:, 1])\n",
    "        n = len(neg_examples_indices_male)\n",
    "        if n > 0:\n",
    "            a = torch.tensor([0., 1.], device=loss_weights.device)\n",
    "            p = torch.tensor([1-self.neg_sampling_ratios[\"Male\"], self.neg_sampling_ratios[\"Male\"]])\n",
    "            idx = p.multinomial(num_samples=n, replacement=True)\n",
    "            loss_weights[neg_examples_indices_male, [1]*n] = a[idx]\n",
    "        ##\n",
    "        \n",
    "        loss = F.binary_cross_entropy_with_logits(\n",
    "            logits.view(-1, self.model.config.num_labels),\n",
    "            labels.float().view(-1, self.model.config.num_labels) ,weight=loss_weights)\n",
    "        return (loss, outputs) if return_outputs else loss"
   ]
  },
  {
   "cell_type": "code",
   "execution_count": 15,
   "id": "e5160d99",
   "metadata": {
    "ExecuteTime": {
     "end_time": "2021-11-22T11:17:12.248232Z",
     "start_time": "2021-11-22T11:17:12.188861Z"
    }
   },
   "outputs": [
    {
     "name": "stderr",
     "output_type": "stream",
     "text": [
      "Using the `WAND_DISABLED` environment variable is deprecated and will be removed in v5. Use the --report_to flag to control the integrations used for logging result (for instance --report_to none).\n"
     ]
    }
   ],
   "source": [
    "training_args = TrainingArguments(\n",
    "    output_dir='./results',          # output directory\n",
    "    num_train_epochs=1,              # total number of training epochs\n",
    "    per_device_train_batch_size=4,  # batch size per device during training\n",
    "    per_device_eval_batch_size=8,   # batch size for evaluation\n",
    "    warmup_steps=500,                # number of warmup steps for learning rate scheduler\n",
    "    weight_decay=0.01,               # strength of weight decay\n",
    "    logging_dir='./logs',            # directory for storing logs\n",
    "    logging_steps=100,\n",
    ")"
   ]
  },
  {
   "cell_type": "code",
   "execution_count": 16,
   "id": "517f7cda",
   "metadata": {
    "ExecuteTime": {
     "end_time": "2021-11-22T11:17:22.778100Z",
     "start_time": "2021-11-22T11:17:19.675526Z"
    }
   },
   "outputs": [],
   "source": [
    "trainer = MultilabelTrainer(\n",
    "    model=model,                         # the instantiated 🤗 Transformers model to be trained\n",
    "    neg_sampling_ratios=neg_sampling_ratios,\n",
    "    args=training_args,                  # training arguments, defined above\n",
    "    train_dataset=train_dataset,         # training dataset\n",
    "    eval_dataset=val_dataset,             # evaluation dataset\n",
    "    compute_metrics=compute_metrics,\n",
    ")"
   ]
  },
  {
   "cell_type": "code",
   "execution_count": null,
   "id": "49a3a8bf",
   "metadata": {
    "ExecuteTime": {
     "end_time": "2021-11-20T15:36:55.691090Z",
     "start_time": "2021-11-20T15:36:55.298158Z"
    }
   },
   "outputs": [],
   "source": [
    "trainer.train()"
   ]
  },
  {
   "cell_type": "code",
   "execution_count": null,
   "id": "4412eb93",
   "metadata": {},
   "outputs": [],
   "source": [
    "trainer.save_model(\"./model.ckpt\")"
   ]
  },
  {
   "cell_type": "markdown",
   "id": "f2e75540",
   "metadata": {},
   "source": [
    "### Evaluation"
   ]
  },
  {
   "cell_type": "code",
   "execution_count": null,
   "id": "c22ab98d",
   "metadata": {},
   "outputs": [],
   "source": [
    "model_finetuned = AutoModelForSequenceClassification.from_pretrained(\"./model.ckpt\")\n",
    "model_finetuned = model_finetuned.to(\"cpu\")"
   ]
  },
  {
   "cell_type": "code",
   "execution_count": null,
   "id": "efcf3a7b",
   "metadata": {},
   "outputs": [],
   "source": [
    "df_test = pd.read_csv(root_dir / \"data/test_v0.7.1.csv\",\n",
    "                      usecols=['entry_id', 'excerpt', 'gender', 'lang',])\n",
    "##\n",
    "df_test[\"gender\"] = df_test[\"gender\"].apply(literal_eval)\n",
    "test_encodings = tokenizer(df_test['excerpt'].tolist(),\n",
    "                            truncation=True,\n",
    "                            padding=True,\n",
    "                            max_length=512)\n",
    "test_dataset = GenderClassificationDataset(test_encodings, df_test[\"gender\"].tolist())\n",
    "##\n",
    "model_finetuned.eval()\n",
    "dl_test = DataLoader(test_dataset, batch_size=16)\n",
    "logits = []\n",
    "labels = []\n",
    "for batch in tqdm(dl_test):\n",
    "    labels.append(batch.pop(\"labels\"))\n",
    "    batch = {k:v.to(\"cuda\") for k, v in batch.items()}\n",
    "    with torch.inference_mode():\n",
    "        outputs = model_finetuned(**batch)\n",
    "    logits.append(outputs[\"logits\"].cpu())\n",
    "    torch.cuda.empty_cache()\n",
    "##\n",
    "print(compute_metrics((torch.vstack(logits), torch.vstack(labels).type(torch.int))))\n",
    "##\n",
    "np.save(root_dir / \"test_logits.npy\", torch.vstack(logits).numpy())\n",
    "##\n",
    "label_to_id = {\"Female\": 0, \"Male\":1}\n",
    "##\n",
    "test_logits = np.load(\"test_logits.npy\")\n",
    "test_logits = torch.tensor(test_logits)\n",
    "preds = []\n",
    "for pred_proba in torch.sigmoid(test_logits):\n",
    "    x = []\n",
    "    if pred_proba[0] > .5:\n",
    "        x.append(\"Female\")\n",
    "    if pred_proba[1] > .5:\n",
    "        x.append(\"Male\")\n",
    "    preds.append(x)\n",
    "##\n",
    "y_true = df_test[\"gender\"].tolist()\n",
    "y_true_bmat = multilabel_list_to_binary_mat(y_true, label_to_id)\n",
    "y_pred_bmat = multilabel_list_to_binary_mat(preds, label_to_id)\n",
    "##\n",
    "acc = metrics.accuracy_score(y_true_bmat, y_pred_bmat)\n",
    "f1 = metrics.f1_score(y_true_bmat, y_pred_bmat, average='macro')\n",
    "recall = metrics.f1_score(y_true_bmat, y_pred_bmat, average='macro')\n",
    "precision = metrics.f1_score(y_true_bmat, y_pred_bmat, average='macro')\n",
    "cm = metrics.multilabel_confusion_matrix(y_true_bmat, y_pred_bmat)\n",
    "print(\n",
    "    metrics.classification_report(y_true_bmat,\n",
    "                                  y_pred_bmat,\n",
    "                                  target_names=label_to_id.keys()))\n",
    "print(f\"acc={acc}, f1={f1}, precision={precision}, recall={recall}\")\n",
    "print(cm)"
   ]
  },
  {
   "cell_type": "markdown",
   "id": "e8e488e7",
   "metadata": {},
   "source": [
    "### Generate Predictions on the Train Set"
   ]
  },
  {
   "cell_type": "code",
   "execution_count": null,
   "id": "2f1f1518",
   "metadata": {},
   "outputs": [],
   "source": [
    "df_train_orig = pd.read_csv(root_dir / \"data/train_v0.7.1.csv\",\n",
    "                      usecols=['entry_id', 'excerpt', 'gender', 'lang',])\n",
    "##\n",
    "df_train_orig[\"gender\"] = df_train_orig[\"gender\"].apply(literal_eval)\n",
    "train_orig_encodings = tokenizer(df_train_orig['excerpt'].tolist(),\n",
    "                            truncation=True,\n",
    "                            padding=True,\n",
    "                            max_length=512)\n",
    "train_orig_dataset = GenderClassificationDataset(train_orig_encodings, df_train_orig[\"gender\"].tolist())\n",
    "##\n",
    "model_finetuned.eval()\n",
    "dl_train_orig = DataLoader(train_orig_dataset, batch_size=16)\n",
    "logits = []\n",
    "labels = []\n",
    "for batch in tqdm(dl_train_orig):\n",
    "    labels.append(batch.pop(\"labels\"))\n",
    "    batch = {k:v.to(\"cuda\") for k, v in batch.items()}\n",
    "    with torch.inference_mode():\n",
    "        outputs = model_finetuned(**batch)\n",
    "    logits.append(outputs[\"logits\"].cpu())\n",
    "    torch.cuda.empty_cache()\n",
    "##\n",
    "preds = []\n",
    "for pred_proba in torch.sigmoid(logits):\n",
    "    x = []\n",
    "    if pred_proba[0] > .5:\n",
    "        x.append(\"Female\")\n",
    "    if pred_proba[1] > .5:\n",
    "        x.append(\"Male\")\n",
    "    preds.append(x)\n",
    "##\n",
    "df_train[\"gender_model_pred\"] = preds\n",
    "df_train[[\"entry_id\", \"gender_model_pred\"]].to_csv(\"kw_model_gender_preds_on_train.csv\", index=None)"
   ]
  },
  {
   "cell_type": "code",
   "execution_count": null,
   "id": "ba556af6",
   "metadata": {},
   "outputs": [],
   "source": [
    "df_val_orig = pd.read_csv(root_dir / \"data/val_v0.7.1.csv\",\n",
    "                      usecols=['entry_id', 'excerpt', 'gender', 'lang',])\n",
    "##\n",
    "df_val_orig[\"gender\"] = df_val_orig[\"gender\"].apply(literal_eval)\n",
    "val_orig_encodings = tokenizer(df_val_orig['excerpt'].tolist(),\n",
    "                            truncation=True,\n",
    "                            padding=True,\n",
    "                            max_length=512)\n",
    "val_orig_dataset = GenderClassificationDataset(val_orig_encodings, df_val_orig[\"gender\"].tolist())\n",
    "##\n",
    "model_finetuned.eval()\n",
    "dl_val_orig = DataLoader(val_orig_dataset, batch_size=16)\n",
    "logits = []\n",
    "labels = []\n",
    "for batch in tqdm(dl_val_orig):\n",
    "    labels.append(batch.pop(\"labels\"))\n",
    "    batch = {k:v.to(\"cuda\") for k, v in batch.items()}\n",
    "    with torch.inference_mode():\n",
    "        outputs = model_finetuned(**batch)\n",
    "    logits.append(outputs[\"logits\"].cpu())\n",
    "    torch.cuda.empty_cache()\n",
    "##\n",
    "preds = []\n",
    "for pred_proba in torch.sigmoid(logits):\n",
    "    x = []\n",
    "    if pred_proba[0] > .5:\n",
    "        x.append(\"Female\")\n",
    "    if pred_proba[1] > .5:\n",
    "        x.append(\"Male\")\n",
    "    preds.append(x)\n",
    "##\n",
    "df_val[\"gender_model_pred\"] = preds\n",
    "df_val[[\"entry_id\", \"gender_model_pred\"]].to_csv(\"kw_model_gender_preds_on_val.csv\", index=None)"
   ]
  },
  {
   "cell_type": "markdown",
   "id": "0751f8bd",
   "metadata": {},
   "source": [
    "***"
   ]
  },
  {
   "cell_type": "markdown",
   "id": "2c398747",
   "metadata": {},
   "source": [
    "### Data Augmentation Techniques\n",
    "\n",
    "- Random Cropping\n",
    "    This is a standard augmentation in CV, but I haven't seen it applied to NLP, although it fits perfectly here: we need to chunk a very long text into a fixed token length fragments. Rather than doing it once and showing the same examples in each epoch, why not make it a dynamic and random crop? Initially, I implemented a function that took a random crop with padding around the answer text for positive examples, and a random crop for negative examples. Once I moved to data recipes described above, I realized that the same can be simpler achieved by using a different stride and negative sampling every time I add a dataset to my recipe.\n",
    "\n",
    "- Progressive Resizing\n",
    "    This is another trick that Jeremy teaches in the fastai lectures, applied commonly for images. In case of progressive resizing, I use different sequence lengths during training. E.g. start with 256, then move to 384, then move to 448.\n",
    "\n",
    "- Cutout\n",
    "    In computer vision, we sometimes black out patches of image as augmentation. In NLP, we can do the same by replacing some tokens with \\[MASK\\]. I saw that @cdeotte used this technique in Tweet Sentiment competition. I used 0-10% cutout in my models.\n",
    "\n"
   ]
  },
  {
   "cell_type": "code",
   "execution_count": null,
   "id": "13954e04",
   "metadata": {},
   "outputs": [],
   "source": []
  }
 ],
 "metadata": {
  "kernelspec": {
   "display_name": "Python 3.8.5 64-bit ('base': conda)",
   "language": "python",
   "name": "python385jvsc74a57bd0f487e277ea6a75fd1c7c341a1deb40c7861148cbc006695943c5304af00fedbe"
  },
  "language_info": {
   "codemirror_mode": {
    "name": "ipython",
    "version": 3
   },
   "file_extension": ".py",
   "mimetype": "text/x-python",
   "name": "python",
   "nbconvert_exporter": "python",
   "pygments_lexer": "ipython3",
   "version": "3.8.11"
  },
  "varInspector": {
   "cols": {
    "lenName": 16,
    "lenType": 16,
    "lenVar": 40
   },
   "kernels_config": {
    "python": {
     "delete_cmd_postfix": "",
     "delete_cmd_prefix": "del ",
     "library": "var_list.py",
     "varRefreshCmd": "print(var_dic_list())"
    },
    "r": {
     "delete_cmd_postfix": ") ",
     "delete_cmd_prefix": "rm(",
     "library": "var_list.r",
     "varRefreshCmd": "cat(var_dic_list()) "
    }
   },
   "types_to_exclude": [
    "module",
    "function",
    "builtin_function_or_method",
    "instance",
    "_Feature"
   ],
   "window_display": false
  }
 },
 "nbformat": 4,
 "nbformat_minor": 5
}
