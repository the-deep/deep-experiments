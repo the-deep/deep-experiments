{
 "cells": [
  {
   "cell_type": "code",
   "execution_count": 1,
   "id": "199e338c",
   "metadata": {
    "ExecuteTime": {
     "end_time": "2021-11-24T11:44:45.156600Z",
     "start_time": "2021-11-24T11:44:44.259207Z"
    }
   },
   "outputs": [],
   "source": [
    "import functools\n",
    "from ast import literal_eval\n",
    "\n",
    "import pandas as pd\n",
    "from snorkel.labeling import LFAnalysis\n",
    "from snorkel.labeling.model.label_model import LabelModel"
   ]
  },
  {
   "cell_type": "code",
   "execution_count": 2,
   "id": "17cb2ceb",
   "metadata": {
    "ExecuteTime": {
     "end_time": "2021-11-24T11:44:46.600061Z",
     "start_time": "2021-11-24T11:44:45.157893Z"
    }
   },
   "outputs": [],
   "source": [
    "# original dataset\n",
    "df_train_orig = pd.read_csv(\"../data/train_v0.7.1.csv\", usecols=['entry_id','gender',])\n",
    "df_train_kw_lbl = pd.read_csv(\"train_0.7.1_kw_gender.csv\", usecols=['entry_id', 'gender_kw_pred'])\n",
    "df_train_model_kw = pd.read_csv(\"kw_model_gender_preds_on_train.csv\")\n",
    "df_train_model_orig = pd.read_csv(\"orig_model_gender_preds_on_train.csv\")"
   ]
  },
  {
   "cell_type": "code",
   "execution_count": 3,
   "id": "b6b1b919",
   "metadata": {
    "ExecuteTime": {
     "end_time": "2021-11-24T11:44:46.738157Z",
     "start_time": "2021-11-24T11:44:46.601465Z"
    },
    "scrolled": true
   },
   "outputs": [
    {
     "name": "stdout",
     "output_type": "stream",
     "text": [
      "126659\n",
      "126299\n"
     ]
    }
   ],
   "source": [
    "dfs = [df_train_orig, df_train_kw_lbl, df_train_model_kw, df_train_model_orig]\n",
    "df_final = functools.reduce(lambda left,right: pd.merge(left,right,on='entry_id'), dfs)\n",
    "print(len(df_final))\n",
    "df_final.drop_duplicates(inplace=True)\n",
    "print(len(df_final))"
   ]
  },
  {
   "cell_type": "code",
   "execution_count": 4,
   "id": "115b9710",
   "metadata": {
    "ExecuteTime": {
     "end_time": "2021-11-24T11:44:49.318289Z",
     "start_time": "2021-11-24T11:44:46.739423Z"
    }
   },
   "outputs": [],
   "source": [
    "for col in ['gender', 'gender_kw_pred', 'gender_model_pred', 'gender_model_orig_pred']:\n",
    "    df_final[col] = df_final[col].apply(literal_eval)"
   ]
  },
  {
   "cell_type": "code",
   "execution_count": 5,
   "id": "a9054ac3",
   "metadata": {
    "ExecuteTime": {
     "end_time": "2021-11-24T11:44:49.593585Z",
     "start_time": "2021-11-24T11:44:49.319418Z"
    }
   },
   "outputs": [],
   "source": [
    "df_final_male = df_final.copy()\n",
    "df_final_male[\"male_1\"] = df_final_male[\"gender\"].apply(lambda x: 1 if \"Male\" in x else 0)\n",
    "df_final_male[\"male_2\"] = df_final_male[\"gender_kw_pred\"].apply(lambda x: 1 if \"Male\" in x else 0)\n",
    "df_final_male[\"male_3\"] = df_final_male[\"gender_model_pred\"].apply(lambda x: 1 if \"Male\" in x else 0)\n",
    "df_final_male[\"male_4\"] = df_final_male[\"gender_model_orig_pred\"].apply(lambda x: 1 if \"Male\" in x else 0)\n",
    "##\n",
    "df_final_female = df_final.copy()\n",
    "df_final_female[\"female_1\"] = df_final_female[\"gender\"].apply(lambda x: 1 if \"Female\" in x else 0)\n",
    "df_final_female[\"female_2\"] = df_final_female[\"gender_kw_pred\"].apply(lambda x: 1 if \"Female\" in x else 0)\n",
    "df_final_female[\"female_3\"] = df_final_female[\"gender_model_pred\"].apply(lambda x: 1 if \"Female\" in x else 0)\n",
    "df_final_female[\"female_4\"] = df_final_female[\"gender_model_orig_pred\"].apply(lambda x: 1 if \"Female\" in x else 0)"
   ]
  },
  {
   "cell_type": "code",
   "execution_count": 6,
   "id": "80d1f7bf",
   "metadata": {
    "ExecuteTime": {
     "end_time": "2021-11-24T11:44:49.701102Z",
     "start_time": "2021-11-24T11:44:49.594806Z"
    }
   },
   "outputs": [
    {
     "data": {
      "text/html": [
       "<div>\n",
       "<style scoped>\n",
       "    .dataframe tbody tr th:only-of-type {\n",
       "        vertical-align: middle;\n",
       "    }\n",
       "\n",
       "    .dataframe tbody tr th {\n",
       "        vertical-align: top;\n",
       "    }\n",
       "\n",
       "    .dataframe thead th {\n",
       "        text-align: right;\n",
       "    }\n",
       "</style>\n",
       "<table border=\"1\" class=\"dataframe\">\n",
       "  <thead>\n",
       "    <tr style=\"text-align: right;\">\n",
       "      <th></th>\n",
       "      <th>Polarity</th>\n",
       "      <th>Coverage</th>\n",
       "      <th>Overlaps</th>\n",
       "      <th>Conflicts</th>\n",
       "    </tr>\n",
       "  </thead>\n",
       "  <tbody>\n",
       "    <tr>\n",
       "      <th>0</th>\n",
       "      <td>[0, 1]</td>\n",
       "      <td>1.0</td>\n",
       "      <td>1.0</td>\n",
       "      <td>0.13898</td>\n",
       "    </tr>\n",
       "    <tr>\n",
       "      <th>1</th>\n",
       "      <td>[0, 1]</td>\n",
       "      <td>1.0</td>\n",
       "      <td>1.0</td>\n",
       "      <td>0.13898</td>\n",
       "    </tr>\n",
       "    <tr>\n",
       "      <th>2</th>\n",
       "      <td>[0, 1]</td>\n",
       "      <td>1.0</td>\n",
       "      <td>1.0</td>\n",
       "      <td>0.13898</td>\n",
       "    </tr>\n",
       "    <tr>\n",
       "      <th>3</th>\n",
       "      <td>[0, 1]</td>\n",
       "      <td>1.0</td>\n",
       "      <td>1.0</td>\n",
       "      <td>0.13898</td>\n",
       "    </tr>\n",
       "  </tbody>\n",
       "</table>\n",
       "</div>"
      ],
      "text/plain": [
       "  Polarity  Coverage  Overlaps  Conflicts\n",
       "0   [0, 1]       1.0       1.0    0.13898\n",
       "1   [0, 1]       1.0       1.0    0.13898\n",
       "2   [0, 1]       1.0       1.0    0.13898\n",
       "3   [0, 1]       1.0       1.0    0.13898"
      ]
     },
     "execution_count": 6,
     "metadata": {},
     "output_type": "execute_result"
    }
   ],
   "source": [
    "LFAnalysis(L=df_final_male[[\"male_1\", \"male_2\", \"male_3\", \"male_4\"]].to_numpy()).lf_summary()"
   ]
  },
  {
   "cell_type": "code",
   "execution_count": 7,
   "id": "333e6156",
   "metadata": {
    "ExecuteTime": {
     "end_time": "2021-11-24T11:44:49.802394Z",
     "start_time": "2021-11-24T11:44:49.702209Z"
    }
   },
   "outputs": [
    {
     "data": {
      "text/html": [
       "<div>\n",
       "<style scoped>\n",
       "    .dataframe tbody tr th:only-of-type {\n",
       "        vertical-align: middle;\n",
       "    }\n",
       "\n",
       "    .dataframe tbody tr th {\n",
       "        vertical-align: top;\n",
       "    }\n",
       "\n",
       "    .dataframe thead th {\n",
       "        text-align: right;\n",
       "    }\n",
       "</style>\n",
       "<table border=\"1\" class=\"dataframe\">\n",
       "  <thead>\n",
       "    <tr style=\"text-align: right;\">\n",
       "      <th></th>\n",
       "      <th>Polarity</th>\n",
       "      <th>Coverage</th>\n",
       "      <th>Overlaps</th>\n",
       "      <th>Conflicts</th>\n",
       "    </tr>\n",
       "  </thead>\n",
       "  <tbody>\n",
       "    <tr>\n",
       "      <th>0</th>\n",
       "      <td>[0, 1]</td>\n",
       "      <td>1.0</td>\n",
       "      <td>1.0</td>\n",
       "      <td>0.137222</td>\n",
       "    </tr>\n",
       "    <tr>\n",
       "      <th>1</th>\n",
       "      <td>[0, 1]</td>\n",
       "      <td>1.0</td>\n",
       "      <td>1.0</td>\n",
       "      <td>0.137222</td>\n",
       "    </tr>\n",
       "    <tr>\n",
       "      <th>2</th>\n",
       "      <td>[0, 1]</td>\n",
       "      <td>1.0</td>\n",
       "      <td>1.0</td>\n",
       "      <td>0.137222</td>\n",
       "    </tr>\n",
       "    <tr>\n",
       "      <th>3</th>\n",
       "      <td>[0, 1]</td>\n",
       "      <td>1.0</td>\n",
       "      <td>1.0</td>\n",
       "      <td>0.137222</td>\n",
       "    </tr>\n",
       "  </tbody>\n",
       "</table>\n",
       "</div>"
      ],
      "text/plain": [
       "  Polarity  Coverage  Overlaps  Conflicts\n",
       "0   [0, 1]       1.0       1.0   0.137222\n",
       "1   [0, 1]       1.0       1.0   0.137222\n",
       "2   [0, 1]       1.0       1.0   0.137222\n",
       "3   [0, 1]       1.0       1.0   0.137222"
      ]
     },
     "execution_count": 7,
     "metadata": {},
     "output_type": "execute_result"
    }
   ],
   "source": [
    "LFAnalysis(L=df_final_female[[\"female_1\", \"female_2\", \"female_3\", \"female_4\"]].to_numpy()).lf_summary()"
   ]
  },
  {
   "cell_type": "code",
   "execution_count": 8,
   "id": "46ce0ac9",
   "metadata": {
    "ExecuteTime": {
     "end_time": "2021-11-24T11:44:50.674985Z",
     "start_time": "2021-11-24T11:44:49.803605Z"
    },
    "scrolled": true
   },
   "outputs": [],
   "source": [
    "label_model_male = LabelModel()\n",
    "label_model_male.fit(L_train=df_final_male[[\"male_1\", \"male_2\", \"male_3\", \"male_4\"]].to_numpy(), n_epochs=200, seed=100)\n",
    "df_final[\"preds_labeling_model_male\"] = label_model_male.predict(L=df_final_male[[\"male_1\", \"male_2\", \"male_3\", \"male_4\"]].to_numpy())\n",
    "##\n",
    "label_model_female = LabelModel()\n",
    "label_model_female.fit(L_train=df_final_female[[\"female_1\", \"female_2\", \"female_3\", \"female_4\"]].to_numpy(), n_epochs=200, seed=100)\n",
    "df_final[\"preds_labeling_model_female\"] = label_model_female.predict(L=df_final_female[[\"female_1\", \"female_2\", \"female_3\", \"female_4\"]].to_numpy())"
   ]
  },
  {
   "cell_type": "code",
   "execution_count": 9,
   "id": "ac98dbda",
   "metadata": {
    "ExecuteTime": {
     "end_time": "2021-11-24T11:44:51.803517Z",
     "start_time": "2021-11-24T11:44:50.676998Z"
    },
    "scrolled": true
   },
   "outputs": [],
   "source": [
    "def agg_lbls(row):\n",
    "    lbls = []\n",
    "    if row[\"preds_labeling_model_female\"]:\n",
    "        lbls.append(\"Female\")\n",
    "    if row[\"preds_labeling_model_male\"]:\n",
    "        lbls.append(\"Male\")\n",
    "    return lbls\n",
    "        \n",
    "df_final[\"gender_snorkel\"] = df_final.apply(agg_lbls, axis=1)"
   ]
  },
  {
   "cell_type": "code",
   "execution_count": 10,
   "id": "dcfc70b7",
   "metadata": {
    "ExecuteTime": {
     "end_time": "2021-11-24T11:44:51.961373Z",
     "start_time": "2021-11-24T11:44:51.804582Z"
    }
   },
   "outputs": [],
   "source": [
    "df_final[[\"entry_id\", \"gender_snorkel\"]].to_csv(\"train_v0.7.1_gender_snorkel.csv\", index=None)"
   ]
  },
  {
   "cell_type": "code",
   "execution_count": null,
   "id": "71ea162f",
   "metadata": {},
   "outputs": [],
   "source": []
  },
  {
   "cell_type": "code",
   "execution_count": null,
   "id": "627c1ae2",
   "metadata": {},
   "outputs": [],
   "source": []
  }
 ],
 "metadata": {
  "kernelspec": {
   "display_name": "Python 3.8.5 64-bit ('base': conda)",
   "language": "python",
   "name": "python385jvsc74a57bd0f487e277ea6a75fd1c7c341a1deb40c7861148cbc006695943c5304af00fedbe"
  },
  "language_info": {
   "codemirror_mode": {
    "name": "ipython",
    "version": 3
   },
   "file_extension": ".py",
   "mimetype": "text/x-python",
   "name": "python",
   "nbconvert_exporter": "python",
   "pygments_lexer": "ipython3",
   "version": "3.8.11"
  },
  "varInspector": {
   "cols": {
    "lenName": 16,
    "lenType": 16,
    "lenVar": 40
   },
   "kernels_config": {
    "python": {
     "delete_cmd_postfix": "",
     "delete_cmd_prefix": "del ",
     "library": "var_list.py",
     "varRefreshCmd": "print(var_dic_list())"
    },
    "r": {
     "delete_cmd_postfix": ") ",
     "delete_cmd_prefix": "rm(",
     "library": "var_list.r",
     "varRefreshCmd": "cat(var_dic_list()) "
    }
   },
   "types_to_exclude": [
    "module",
    "function",
    "builtin_function_or_method",
    "instance",
    "_Feature"
   ],
   "window_display": false
  }
 },
 "nbformat": 4,
 "nbformat_minor": 5
}
