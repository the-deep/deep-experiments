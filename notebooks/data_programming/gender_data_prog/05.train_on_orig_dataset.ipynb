{
 "cells": [
  {
   "cell_type": "code",
   "execution_count": 1,
   "id": "eca40468",
   "metadata": {
    "ExecuteTime": {
     "end_time": "2021-11-23T09:36:25.776359Z",
     "start_time": "2021-11-23T09:36:25.773167Z"
    }
   },
   "outputs": [],
   "source": [
    "import os\n",
    "os.environ[\"WANDB_DISABLED\"] = \"true\""
   ]
  },
  {
   "cell_type": "code",
   "execution_count": 5,
   "id": "8764a303",
   "metadata": {
    "ExecuteTime": {
     "end_time": "2021-11-23T09:36:48.858021Z",
     "start_time": "2021-11-23T09:36:48.845043Z"
    }
   },
   "outputs": [],
   "source": [
    "import random\n",
    "from ast import literal_eval\n",
    "from typing import Callable, Dict, List, Optional, Tuple, Union\n",
    "\n",
    "import torch\n",
    "import torch.nn as nn\n",
    "import torch.nn.functional as F\n",
    "from torch.utils.data import Dataset, DataLoader\n",
    "\n",
    "import datasets\n",
    "from transformers import (DataCollator, EvalPrediction, PreTrainedModel,\n",
    "                          PreTrainedTokenizerBase, Trainer, TrainerCallback,\n",
    "                          TrainingArguments, AutoTokenizer,\n",
    "                          AutoModelForSequenceClassification)\n",
    "\n",
    "import numpy as np\n",
    "import pandas as pd\n",
    "from tqdm.notebook import tqdm\n",
    "from torchmetrics.functional import f1, precision_recall, accuracy"
   ]
  },
  {
   "cell_type": "code",
   "execution_count": 7,
   "id": "ccb28d00",
   "metadata": {
    "ExecuteTime": {
     "end_time": "2021-11-23T09:37:29.176681Z",
     "start_time": "2021-11-23T09:37:29.164794Z"
    }
   },
   "outputs": [
    {
     "data": {
      "text/plain": [
       "<torch._C.Generator at 0x7fd68de59d50>"
      ]
     },
     "execution_count": 7,
     "metadata": {},
     "output_type": "execute_result"
    }
   ],
   "source": [
    "random.seed(2021)\n",
    "np.random.seed(2021)\n",
    "torch.manual_seed(2021)"
   ]
  },
  {
   "cell_type": "code",
   "execution_count": 3,
   "id": "810c0091",
   "metadata": {
    "ExecuteTime": {
     "end_time": "2021-11-23T09:36:33.468965Z",
     "start_time": "2021-11-23T09:36:31.381742Z"
    }
   },
   "outputs": [],
   "source": [
    "df_train = pd.read_csv(\"../data/train_v0.7.1.csv\",\n",
    "                       usecols=[\n",
    "                           'entry_id', 'excerpt', 'gender', 'lang',\n",
    "                           \"translation_en\", \"translation_fr\", \"translation_es\"\n",
    "                       ])\n",
    "df_val = pd.read_csv(\"../data/val_v0.7.1.csv\",\n",
    "                     usecols=[\n",
    "                         'entry_id', 'excerpt', 'gender', 'lang',\n",
    "                         \"translation_en\", \"translation_fr\", \"translation_es\"\n",
    "                     ])\n",
    "df_test = pd.read_csv(\"../data/test_v0.7.1.csv\",\n",
    "                      usecols=[\n",
    "                          'entry_id', 'excerpt', 'gender', 'lang',\n",
    "                          \"translation_en\", \"translation_fr\", \"translation_es\"\n",
    "                      ])"
   ]
  },
  {
   "cell_type": "code",
   "execution_count": 6,
   "id": "6f48af5c",
   "metadata": {
    "ExecuteTime": {
     "end_time": "2021-11-23T09:36:51.519036Z",
     "start_time": "2021-11-23T09:36:50.543692Z"
    }
   },
   "outputs": [],
   "source": [
    "col = \"gender\"\n",
    "for df in [df_train, df_val, df_test]:\n",
    "    df[col] = df[col].apply(lambda x: list(sorted(list(set(literal_eval(x))))))"
   ]
  },
  {
   "cell_type": "code",
   "execution_count": 8,
   "id": "c4053e41",
   "metadata": {
    "ExecuteTime": {
     "end_time": "2021-11-23T09:38:34.245173Z",
     "start_time": "2021-11-23T09:38:24.933759Z"
    }
   },
   "outputs": [
    {
     "name": "stderr",
     "output_type": "stream",
     "text": [
      "Some weights of BertForSequenceClassification were not initialized from the model checkpoint at microsoft/xtremedistil-l6-h256-uncased and are newly initialized: ['classifier.bias', 'classifier.weight']\n",
      "You should probably TRAIN this model on a down-stream task to be able to use it for predictions and inference.\n"
     ]
    }
   ],
   "source": [
    "# model_name = \"sentence-transformers/paraphrase-multilingual-MiniLM-L12-v2\"\n",
    "model_name = \"microsoft/xtremedistil-l6-h256-uncased\"\n",
    "tokenizer = AutoTokenizer.from_pretrained(model_name)\n",
    "model = AutoModelForSequenceClassification.from_pretrained(model_name)"
   ]
  },
  {
   "cell_type": "code",
   "execution_count": 9,
   "id": "453ed7d8",
   "metadata": {
    "ExecuteTime": {
     "end_time": "2021-11-23T09:40:38.907699Z",
     "start_time": "2021-11-23T09:40:23.686573Z"
    }
   },
   "outputs": [
    {
     "name": "stderr",
     "output_type": "stream",
     "text": [
      "/home/abdullah/.local/lib/python3.8/site-packages/transformers/tokenization_utils_base.py:2227: UserWarning: `max_length` is ignored when `padding`=`True`.\n",
      "  warnings.warn(\"`max_length` is ignored when `padding`=`True`.\")\n"
     ]
    }
   ],
   "source": [
    "train_encodings = tokenizer(df_train['excerpt'].tolist(),\n",
    "                            truncation=True,\n",
    "                            padding=True,\n",
    "                            max_length=512)\n",
    "val_encodings = tokenizer(df_val['excerpt'].tolist(),\n",
    "                          truncation=True,\n",
    "                          padding=True,\n",
    "                          max_length=512)"
   ]
  },
  {
   "cell_type": "code",
   "execution_count": 10,
   "id": "83e6e477",
   "metadata": {
    "ExecuteTime": {
     "end_time": "2021-11-23T09:40:58.017653Z",
     "start_time": "2021-11-23T09:40:58.011351Z"
    }
   },
   "outputs": [],
   "source": [
    "class GenderClassificationDataset(torch.utils.data.Dataset):\n",
    "    def __init__(self, encodings, labels):\n",
    "        self.encodings = encodings\n",
    "        self.labels = labels\n",
    "        self.dataset_size = len(labels)\n",
    "        self.lbl_to_id = {\"Female\": 0, \"Male\": 1}\n",
    "        self.id_to_lbl = [\"Female\", \"Male\"]\n",
    "\n",
    "    def __getitem__(self, idx):\n",
    "        item = {\n",
    "            key: torch.tensor(val[idx])\n",
    "            for key, val in self.encodings.items()\n",
    "        }\n",
    "        item['labels'] = torch.tensor(\n",
    "            [1. if x in self.labels[idx] else 0. for x in self.lbl_to_id])\n",
    "\n",
    "        return item\n",
    "\n",
    "    def __len__(self):\n",
    "        return self.dataset_size\n",
    "\n",
    "\n",
    "train_dataset = GenderClassificationDataset(train_encodings,\n",
    "                                            df_train['gender'].tolist())\n",
    "val_dataset = GenderClassificationDataset(\n",
    "    val_encodings,\n",
    "    df_val['gender'].tolist(),\n",
    ")"
   ]
  },
  {
   "cell_type": "code",
   "execution_count": 11,
   "id": "10ccaafa",
   "metadata": {
    "ExecuteTime": {
     "end_time": "2021-11-23T09:41:17.495662Z",
     "start_time": "2021-11-23T09:41:17.492615Z"
    }
   },
   "outputs": [],
   "source": [
    "def compute_metrics(eval_pred):\n",
    "    preds, target = eval_pred\n",
    "    res = dict()\n",
    "    for metric in [f1, precision_recall, accuracy]:\n",
    "        res[metric.__name__] = metric(preds,\n",
    "                                      target,\n",
    "                                      average=\"macro\",\n",
    "                                      num_classes=2)\n",
    "    return res"
   ]
  },
  {
   "cell_type": "code",
   "execution_count": 12,
   "id": "37106eaf",
   "metadata": {
    "ExecuteTime": {
     "end_time": "2021-11-23T09:42:43.283163Z",
     "start_time": "2021-11-23T09:42:43.214171Z"
    }
   },
   "outputs": [],
   "source": [
    "df_train[\"male\"] = df_train[\"gender\"].apply(lambda x: 1 if \"Male\" in x else 0)\n",
    "df_train[\"female\"] = df_train[\"gender\"].apply(lambda x: 1 if \"Female\" in x else 0)\n",
    "##\n",
    "male_neg_sampling_prob = (2 * df_train[\"male\"].sum()) / len(df_train)\n",
    "female_neg_sampling_prob = (2 * df_train[\"female\"].sum()) / len(df_train)\n",
    "neg_sampling_ratios = {\n",
    "    \"Female\": female_neg_sampling_prob,\n",
    "    \"Male\": male_neg_sampling_prob\n",
    "}"
   ]
  },
  {
   "cell_type": "code",
   "execution_count": 14,
   "id": "b533709b",
   "metadata": {
    "ExecuteTime": {
     "end_time": "2021-11-23T09:43:49.081071Z",
     "start_time": "2021-11-23T09:43:49.055970Z"
    }
   },
   "outputs": [],
   "source": [
    "class MultilabelTrainer(Trainer):\n",
    "    def __init__(\n",
    "        self,\n",
    "        neg_sampling_ratios: Dict[str, float],\n",
    "        model: Union[PreTrainedModel, nn.Module] = None,\n",
    "        args: TrainingArguments = None,\n",
    "        data_collator: Optional[DataCollator] = None,\n",
    "        train_dataset: Optional[Dataset] = None,\n",
    "        eval_dataset: Optional[Dataset] = None,\n",
    "        tokenizer: Optional[PreTrainedTokenizerBase] = None,\n",
    "        model_init: Callable[[], PreTrainedModel] = None,\n",
    "        compute_metrics: Optional[Callable[[EvalPrediction], Dict]] = None,\n",
    "        callbacks: Optional[List[TrainerCallback]] = None,\n",
    "        optimizers: Tuple[torch.optim.Optimizer,\n",
    "                          torch.optim.lr_scheduler.LambdaLR] = (None, None),\n",
    "    ):\n",
    "        super().__init__(\n",
    "            model=model,\n",
    "            args=args,\n",
    "            data_collator=data_collator,\n",
    "            train_dataset=train_dataset,\n",
    "            eval_dataset=eval_dataset,\n",
    "            tokenizer=tokenizer,\n",
    "            model_init=model_init,\n",
    "            compute_metrics=compute_metrics,\n",
    "            callbacks=callbacks,\n",
    "            optimizers=optimizers,\n",
    "        )\n",
    "        self.neg_sampling_ratios = neg_sampling_ratios\n",
    "\n",
    "    def compute_loss(self, model, inputs, return_outputs=False):\n",
    "        labels = inputs.pop(\"labels\")\n",
    "        outputs = model(**inputs)\n",
    "        logits = outputs.get('logits')\n",
    "        loss_weights = labels.clone()\n",
    "        # handle negative examples sampling for the \"Female\" class\n",
    "        neg_examples_indices_female = torch.nonzero(1-labels[:, 0])\n",
    "        n = len(neg_examples_indices_female)\n",
    "        if n > 0:\n",
    "            a = torch.tensor([0., 1.], device=loss_weights.device)\n",
    "            p = torch.tensor([1-self.neg_sampling_ratios[\"Female\"], self.neg_sampling_ratios[\"Female\"]])\n",
    "            idx = p.multinomial(num_samples=n, replacement=True)\n",
    "            loss_weights[neg_examples_indices_female, [0]*n] = a[idx]\n",
    "        # handle negative examples sampling for the \"Male\" class\n",
    "        neg_examples_indices_male = torch.nonzero(1-labels[:, 1])\n",
    "        n = len(neg_examples_indices_male)\n",
    "        if n > 0:\n",
    "            a = torch.tensor([0., 1.], device=loss_weights.device)\n",
    "            p = torch.tensor([1-self.neg_sampling_ratios[\"Male\"], self.neg_sampling_ratios[\"Male\"]])\n",
    "            idx = p.multinomial(num_samples=n, replacement=True)\n",
    "            loss_weights[neg_examples_indices_male, [1]*n] = a[idx]\n",
    "        ##\n",
    "        \n",
    "        loss = F.binary_cross_entropy_with_logits(\n",
    "            logits.view(-1, self.model.config.num_labels),\n",
    "            labels.float().view(-1, self.model.config.num_labels) ,weight=loss_weights)\n",
    "        return (loss, outputs) if return_outputs else loss"
   ]
  },
  {
   "cell_type": "code",
   "execution_count": null,
   "id": "9f38db12",
   "metadata": {},
   "outputs": [],
   "source": [
    "training_args = TrainingArguments(\n",
    "    output_dir='./results',          # output directory\n",
    "    num_train_epochs=1,              # total number of training epochs\n",
    "    per_device_train_batch_size=4,  # batch size per device during training\n",
    "    per_device_eval_batch_size=8,   # batch size for evaluation\n",
    "    warmup_steps=500,                # number of warmup steps for learning rate scheduler\n",
    "    weight_decay=0.01,               # strength of weight decay\n",
    "    logging_dir='./logs',            # directory for storing logs\n",
    "    logging_steps=100,\n",
    ")"
   ]
  },
  {
   "cell_type": "code",
   "execution_count": null,
   "id": "516f3235",
   "metadata": {},
   "outputs": [],
   "source": [
    "trainer = MultilabelTrainer(\n",
    "    model=model,                         # the instantiated 🤗 Transformers model to be trained\n",
    "    neg_sampling_ratios=neg_sampling_ratios,\n",
    "    args=training_args,                  # training arguments, defined above\n",
    "    train_dataset=train_dataset,         # training dataset\n",
    "    eval_dataset=val_dataset,             # evaluation dataset\n",
    "    compute_metrics=compute_metrics,\n",
    ")"
   ]
  },
  {
   "cell_type": "code",
   "execution_count": null,
   "id": "2b0ed0a8",
   "metadata": {},
   "outputs": [],
   "source": [
    "trainer.train()"
   ]
  },
  {
   "cell_type": "code",
   "execution_count": null,
   "id": "12154387",
   "metadata": {},
   "outputs": [],
   "source": [
    "trainer.save_model(\"./model_on_orig_train\")"
   ]
  },
  {
   "cell_type": "markdown",
   "id": "e2def2d1",
   "metadata": {},
   "source": [
    "### Generate Predictions on Train Set"
   ]
  },
  {
   "cell_type": "code",
   "execution_count": null,
   "id": "3239f411",
   "metadata": {},
   "outputs": [],
   "source": [
    "model_finetuned.eval()\n",
    "dl_train = DataLoader(train_orig_dataset, batch_size=16)\n",
    "logits = []\n",
    "labels = []\n",
    "for batch in tqdm(dl_train):\n",
    "    labels.append(batch.pop(\"labels\"))\n",
    "    batch = {k:v.to(\"cuda\") for k, v in batch.items()}\n",
    "    with torch.inference_mode():\n",
    "        outputs = model_finetuned(**batch)\n",
    "    logits.append(outputs[\"logits\"].cpu())\n",
    "    torch.cuda.empty_cache()\n",
    "##\n",
    "logits = torch.cat(logits)\n",
    "preds = []\n",
    "for pred_proba in torch.sigmoid(logits):\n",
    "    x = []\n",
    "    if pred_proba[0] > .5:\n",
    "        x.append(\"Female\")\n",
    "    if pred_proba[1] > .5:\n",
    "        x.append(\"Male\")\n",
    "    preds.append(x)\n",
    "##\n",
    "df_train[\"gender_model_orig_pred\"] = preds\n",
    "df_train[[\"entry_id\", \"gender_model_orig_pred\"]].to_csv(\"orig_model_gender_preds_on_train.csv\", index=None)"
   ]
  },
  {
   "cell_type": "code",
   "execution_count": null,
   "id": "56298c3b",
   "metadata": {},
   "outputs": [],
   "source": []
  },
  {
   "cell_type": "code",
   "execution_count": null,
   "id": "5563e24a",
   "metadata": {},
   "outputs": [],
   "source": []
  },
  {
   "cell_type": "code",
   "execution_count": null,
   "id": "abd9a9c2",
   "metadata": {},
   "outputs": [],
   "source": []
  }
 ],
 "metadata": {
  "kernelspec": {
   "display_name": "Python 3.8.5 64-bit ('base': conda)",
   "language": "python",
   "name": "python385jvsc74a57bd0f487e277ea6a75fd1c7c341a1deb40c7861148cbc006695943c5304af00fedbe"
  },
  "language_info": {
   "codemirror_mode": {
    "name": "ipython",
    "version": 3
   },
   "file_extension": ".py",
   "mimetype": "text/x-python",
   "name": "python",
   "nbconvert_exporter": "python",
   "pygments_lexer": "ipython3",
   "version": "3.8.11"
  },
  "varInspector": {
   "cols": {
    "lenName": 16,
    "lenType": 16,
    "lenVar": 40
   },
   "kernels_config": {
    "python": {
     "delete_cmd_postfix": "",
     "delete_cmd_prefix": "del ",
     "library": "var_list.py",
     "varRefreshCmd": "print(var_dic_list())"
    },
    "r": {
     "delete_cmd_postfix": ") ",
     "delete_cmd_prefix": "rm(",
     "library": "var_list.r",
     "varRefreshCmd": "cat(var_dic_list()) "
    }
   },
   "types_to_exclude": [
    "module",
    "function",
    "builtin_function_or_method",
    "instance",
    "_Feature"
   ],
   "window_display": false
  }
 },
 "nbformat": 4,
 "nbformat_minor": 5
}
