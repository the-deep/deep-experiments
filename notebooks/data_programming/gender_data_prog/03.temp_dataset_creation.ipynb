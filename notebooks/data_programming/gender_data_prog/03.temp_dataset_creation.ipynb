{
 "cells": [
  {
   "cell_type": "code",
   "execution_count": 1,
   "id": "b74d4b50",
   "metadata": {
    "ExecuteTime": {
     "end_time": "2021-11-19T08:14:00.313931Z",
     "start_time": "2021-11-19T08:14:00.089323Z"
    }
   },
   "outputs": [],
   "source": [
    "import random\n",
    "from ast import literal_eval\n",
    "\n",
    "import numpy as np\n",
    "import pandas as pd\n",
    "from tqdm.notebook import tqdm"
   ]
  },
  {
   "cell_type": "code",
   "execution_count": 2,
   "id": "3ba6670d",
   "metadata": {
    "ExecuteTime": {
     "end_time": "2021-11-19T08:14:00.317434Z",
     "start_time": "2021-11-19T08:14:00.315063Z"
    }
   },
   "outputs": [],
   "source": [
    "tqdm.pandas()"
   ]
  },
  {
   "cell_type": "code",
   "execution_count": 3,
   "id": "7fdfa5ca",
   "metadata": {
    "ExecuteTime": {
     "end_time": "2021-11-19T08:14:00.320692Z",
     "start_time": "2021-11-19T08:14:00.318919Z"
    }
   },
   "outputs": [],
   "source": [
    "random.seed(2021)\n",
    "np.random.seed(2021)"
   ]
  },
  {
   "cell_type": "code",
   "execution_count": 4,
   "id": "44ebaa59",
   "metadata": {
    "ExecuteTime": {
     "end_time": "2021-11-19T08:14:01.919309Z",
     "start_time": "2021-11-19T08:14:00.321863Z"
    }
   },
   "outputs": [],
   "source": [
    "df_train = pd.read_csv(\"train_0.7.1_kw_gender.csv\")\n",
    "df_val = pd.read_csv(\"val_0.7.1_kw_gender.csv\")"
   ]
  },
  {
   "cell_type": "code",
   "execution_count": 5,
   "id": "cf2ef370",
   "metadata": {
    "ExecuteTime": {
     "end_time": "2021-11-19T08:14:03.294010Z",
     "start_time": "2021-11-19T08:14:01.920222Z"
    },
    "scrolled": true
   },
   "outputs": [],
   "source": [
    "cols = [\"gender\", \"gender_kw_pred\"]\n",
    "for col in cols:\n",
    "    for df in [df_train, df_val]:\n",
    "        df[col] = df[col].apply(lambda x: [] if x != x else literal_eval(x))"
   ]
  },
  {
   "cell_type": "code",
   "execution_count": 6,
   "id": "6a9150f5",
   "metadata": {
    "ExecuteTime": {
     "end_time": "2021-11-19T08:14:03.403023Z",
     "start_time": "2021-11-19T08:14:03.295087Z"
    }
   },
   "outputs": [],
   "source": [
    "df_train = df_train[df_train['gender'] == df_train['gender_kw_pred']].copy()\n",
    "df_train['male'] = df_train['gender'].apply(lambda x: 1 if 'Male' in x else 0)\n",
    "df_train['female'] = df_train['gender'].apply(lambda x: 1\n",
    "                                              if 'Female' in x else 0)"
   ]
  },
  {
   "cell_type": "code",
   "execution_count": 7,
   "id": "cd437bcb",
   "metadata": {
    "ExecuteTime": {
     "end_time": "2021-11-19T08:14:03.418193Z",
     "start_time": "2021-11-19T08:14:03.404042Z"
    }
   },
   "outputs": [],
   "source": [
    "df_val = df_val[df_val['gender'] == df_val['gender_kw_pred']].copy()\n",
    "df_val['male'] = df_val['gender'].apply(lambda x: 1 if 'Male' in x else 0)\n",
    "df_val['female'] = df_val['gender'].apply(lambda x: 1 if 'Female' in x else 0)"
   ]
  },
  {
   "cell_type": "code",
   "execution_count": 8,
   "id": "50db8dcc",
   "metadata": {
    "ExecuteTime": {
     "end_time": "2021-11-19T08:14:03.474620Z",
     "start_time": "2021-11-19T08:14:03.419237Z"
    }
   },
   "outputs": [],
   "source": [
    "df_train_male_pos = df_train[df_train[\"male\"].eq(1)]\n",
    "df_train_male_neg = df_train[df_train[\"male\"].eq(0)].sample(\n",
    "    n=len(df_train_male_pos))\n",
    "##\n",
    "df_train_female_pos = df_train[df_train[\"female\"].eq(1)]\n",
    "df_train_female_neg = df_train[df_train[\"female\"].eq(0)].sample(\n",
    "    n=len(df_train_female_pos))"
   ]
  },
  {
   "cell_type": "code",
   "execution_count": 9,
   "id": "4779c9a5",
   "metadata": {
    "ExecuteTime": {
     "end_time": "2021-11-19T08:14:03.489981Z",
     "start_time": "2021-11-19T08:14:03.477125Z"
    }
   },
   "outputs": [],
   "source": [
    "df_val_male_pos = df_val[df_val[\"male\"].eq(1)]\n",
    "df_val_male_neg = df_val[df_val[\"male\"].eq(0)].sample(\n",
    "    n=len(df_val_male_pos))\n",
    "##\n",
    "df_val_female_pos = df_val[df_val[\"female\"].eq(1)]\n",
    "df_val_female_neg = df_val[df_val[\"female\"].eq(0)].sample(\n",
    "    n=len(df_val_female_pos))"
   ]
  },
  {
   "cell_type": "code",
   "execution_count": 10,
   "id": "f261cea6",
   "metadata": {
    "ExecuteTime": {
     "end_time": "2021-11-19T08:14:03.500788Z",
     "start_time": "2021-11-19T08:14:03.491309Z"
    }
   },
   "outputs": [],
   "source": [
    "df_train_male_balanced = pd.concat([df_train_male_pos, df_train_male_neg])\n",
    "df_train_male_balanced = df_train_male_balanced.sample(frac=1.)\n",
    "##\n",
    "df_val_male_balanced = pd.concat([df_val_male_pos, df_val_male_neg])\n",
    "df_val_male_balanced = df_val_male_balanced.sample(frac=1.)"
   ]
  },
  {
   "cell_type": "code",
   "execution_count": 11,
   "id": "08d3398e",
   "metadata": {
    "ExecuteTime": {
     "end_time": "2021-11-19T08:14:03.514017Z",
     "start_time": "2021-11-19T08:14:03.501958Z"
    }
   },
   "outputs": [],
   "source": [
    "df_train_female_balanced = pd.concat([df_train_female_pos, df_train_female_neg])\n",
    "df_train_female_balanced = df_train_female_balanced.sample(frac=1.)\n",
    "##\n",
    "df_val_female_balanced = pd.concat([df_val_female_pos, df_val_female_neg])\n",
    "df_val_female_balanced = df_val_female_balanced.sample(frac=1.)"
   ]
  },
  {
   "cell_type": "markdown",
   "id": "0388c6b1",
   "metadata": {},
   "source": [
    "### Merge"
   ]
  },
  {
   "cell_type": "code",
   "execution_count": 12,
   "id": "fd92906f",
   "metadata": {
    "ExecuteTime": {
     "end_time": "2021-11-19T08:14:03.532874Z",
     "start_time": "2021-11-19T08:14:03.515244Z"
    }
   },
   "outputs": [
    {
     "data": {
      "text/plain": [
       "((14517, 10), 2205, 2205, 6132, 6132)"
      ]
     },
     "execution_count": 12,
     "metadata": {},
     "output_type": "execute_result"
    }
   ],
   "source": [
    "df_train_final = pd.concat([df_train_female_balanced, df_train_male_balanced\n",
    "                            ]).drop_duplicates(subset=['entry_id'])\n",
    "(\n",
    "    df_train_final.shape,\n",
    "    df_train_final[\"male\"].sum(),\n",
    "    df_train_male_balanced[\"male\"].sum(),\n",
    "    df_train_final[\"female\"].sum(),\n",
    "    df_train_female_balanced[\"female\"].sum()\n",
    ")"
   ]
  },
  {
   "cell_type": "code",
   "execution_count": 13,
   "id": "16ee3ecd",
   "metadata": {
    "ExecuteTime": {
     "end_time": "2021-11-19T08:14:03.541865Z",
     "start_time": "2021-11-19T08:14:03.533830Z"
    }
   },
   "outputs": [
    {
     "data": {
      "text/plain": [
       "((1396, 10), 226, 226, 584, 584)"
      ]
     },
     "execution_count": 13,
     "metadata": {},
     "output_type": "execute_result"
    }
   ],
   "source": [
    "df_val_final = pd.concat([df_val_female_balanced, df_val_male_balanced\n",
    "                            ]).drop_duplicates(subset=['entry_id'])\n",
    "(\n",
    "    df_val_final.shape,\n",
    "    df_val_final[\"male\"].sum(),\n",
    "    df_val_male_balanced[\"male\"].sum(),\n",
    "    df_val_final[\"female\"].sum(),\n",
    "    df_val_female_balanced[\"female\"].sum()\n",
    ")"
   ]
  },
  {
   "cell_type": "code",
   "execution_count": 15,
   "id": "4424dc7a",
   "metadata": {
    "ExecuteTime": {
     "end_time": "2021-11-19T08:23:40.245748Z",
     "start_time": "2021-11-19T08:23:39.927785Z"
    }
   },
   "outputs": [],
   "source": [
    "df_train_final.to_csv(\"df_train_balanced_gender.csv\", index=None)\n",
    "df_val_final.to_csv(\"df_val_balanced_gender.csv\", index=None)"
   ]
  },
  {
   "cell_type": "code",
   "execution_count": null,
   "id": "6d7177d2",
   "metadata": {},
   "outputs": [],
   "source": []
  }
 ],
 "metadata": {
  "kernelspec": {
   "display_name": "Python 3.8.5 64-bit ('base': conda)",
   "language": "python",
   "name": "python385jvsc74a57bd0f487e277ea6a75fd1c7c341a1deb40c7861148cbc006695943c5304af00fedbe"
  },
  "language_info": {
   "codemirror_mode": {
    "name": "ipython",
    "version": 3
   },
   "file_extension": ".py",
   "mimetype": "text/x-python",
   "name": "python",
   "nbconvert_exporter": "python",
   "pygments_lexer": "ipython3",
   "version": "3.8.11"
  },
  "varInspector": {
   "cols": {
    "lenName": 16,
    "lenType": 16,
    "lenVar": 40
   },
   "kernels_config": {
    "python": {
     "delete_cmd_postfix": "",
     "delete_cmd_prefix": "del ",
     "library": "var_list.py",
     "varRefreshCmd": "print(var_dic_list())"
    },
    "r": {
     "delete_cmd_postfix": ") ",
     "delete_cmd_prefix": "rm(",
     "library": "var_list.r",
     "varRefreshCmd": "cat(var_dic_list()) "
    }
   },
   "types_to_exclude": [
    "module",
    "function",
    "builtin_function_or_method",
    "instance",
    "_Feature"
   ],
   "window_display": false
  }
 },
 "nbformat": 4,
 "nbformat_minor": 5
}
