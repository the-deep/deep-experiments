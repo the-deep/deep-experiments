{
 "cells": [
  {
   "cell_type": "code",
   "execution_count": 1,
   "id": "510e136b",
   "metadata": {
    "ExecuteTime": {
     "end_time": "2021-11-23T15:51:33.243979Z",
     "start_time": "2021-11-23T15:51:32.574622Z"
    }
   },
   "outputs": [],
   "source": [
    "import re\n",
    "from ast import literal_eval\n",
    "\n",
    "import pandas as pd\n",
    "from tqdm.notebook import tqdm\n",
    "from nltk import word_tokenize"
   ]
  },
  {
   "cell_type": "code",
   "execution_count": 2,
   "id": "ae38d76b",
   "metadata": {
    "ExecuteTime": {
     "end_time": "2021-11-23T15:51:33.247261Z",
     "start_time": "2021-11-23T15:51:33.244928Z"
    }
   },
   "outputs": [],
   "source": [
    "tqdm.pandas()"
   ]
  },
  {
   "cell_type": "code",
   "execution_count": 3,
   "id": "211edd20",
   "metadata": {
    "ExecuteTime": {
     "end_time": "2021-11-23T15:51:35.363893Z",
     "start_time": "2021-11-23T15:51:33.248569Z"
    }
   },
   "outputs": [],
   "source": [
    "df_train = pd.read_csv(\"../data/train_v0.7.1.csv\",\n",
    "                       usecols=[\n",
    "                           'entry_id', 'excerpt', 'gender', 'lang',\n",
    "                           \"translation_en\", \"translation_fr\", \"translation_es\"\n",
    "                       ])\n",
    "df_val = pd.read_csv(\"../data/val_v0.7.1.csv\",\n",
    "                     usecols=[\n",
    "                         'entry_id', 'excerpt', 'gender', 'lang',\n",
    "                         \"translation_en\", \"translation_fr\", \"translation_es\"\n",
    "                     ])\n",
    "df_test = pd.read_csv(\"../data/test_v0.7.1.csv\",\n",
    "                      usecols=[\n",
    "                          'entry_id', 'excerpt', 'gender', 'lang',\n",
    "                          \"translation_en\", \"translation_fr\", \"translation_es\"\n",
    "                      ])"
   ]
  },
  {
   "cell_type": "code",
   "execution_count": 4,
   "id": "342304b7",
   "metadata": {
    "ExecuteTime": {
     "end_time": "2021-11-23T15:51:35.382876Z",
     "start_time": "2021-11-23T15:51:35.365061Z"
    }
   },
   "outputs": [
    {
     "data": {
      "text/html": [
       "<div>\n",
       "<style scoped>\n",
       "    .dataframe tbody tr th:only-of-type {\n",
       "        vertical-align: middle;\n",
       "    }\n",
       "\n",
       "    .dataframe tbody tr th {\n",
       "        vertical-align: top;\n",
       "    }\n",
       "\n",
       "    .dataframe thead th {\n",
       "        text-align: right;\n",
       "    }\n",
       "</style>\n",
       "<table border=\"1\" class=\"dataframe\">\n",
       "  <thead>\n",
       "    <tr style=\"text-align: right;\">\n",
       "      <th></th>\n",
       "      <th>entry_id</th>\n",
       "      <th>excerpt</th>\n",
       "      <th>gender</th>\n",
       "      <th>lang</th>\n",
       "      <th>translation_en</th>\n",
       "      <th>translation_fr</th>\n",
       "      <th>translation_es</th>\n",
       "    </tr>\n",
       "  </thead>\n",
       "  <tbody>\n",
       "    <tr>\n",
       "      <th>0</th>\n",
       "      <td>16851</td>\n",
       "      <td>During the reporting week, IOM provided medica...</td>\n",
       "      <td>[]</td>\n",
       "      <td>en</td>\n",
       "      <td>NaN</td>\n",
       "      <td>Au cours de la semaine de reporting, l'OIM a f...</td>\n",
       "      <td>Durante la semana de presentación de informes,...</td>\n",
       "    </tr>\n",
       "    <tr>\n",
       "      <th>1</th>\n",
       "      <td>489433</td>\n",
       "      <td>Primary and secondary net enrollment rates are...</td>\n",
       "      <td>[]</td>\n",
       "      <td>en</td>\n",
       "      <td>NaN</td>\n",
       "      <td>Les taux de scolarisation nets primaires et se...</td>\n",
       "      <td>Las tasas de inscripción netas primarias y sec...</td>\n",
       "    </tr>\n",
       "    <tr>\n",
       "      <th>2</th>\n",
       "      <td>186155</td>\n",
       "      <td>Impacto en las personas a. Inseguridad aliment...</td>\n",
       "      <td>[]</td>\n",
       "      <td>es</td>\n",
       "      <td>Impact on people a. Food insecurity Recurrent ...</td>\n",
       "      <td>Impact sur les gens a. Insécurité alimentaire ...</td>\n",
       "      <td>NaN</td>\n",
       "    </tr>\n",
       "    <tr>\n",
       "      <th>3</th>\n",
       "      <td>187037</td>\n",
       "      <td>• According to the World Bank, most Venezuelan...</td>\n",
       "      <td>[]</td>\n",
       "      <td>en</td>\n",
       "      <td>NaN</td>\n",
       "      <td>• Selon la Banque mondiale, la plupart des mig...</td>\n",
       "      <td>• Según el Banco Mundial, la mayoría de los mi...</td>\n",
       "    </tr>\n",
       "    <tr>\n",
       "      <th>4</th>\n",
       "      <td>489430</td>\n",
       "      <td>Like few other countries globally, the majorit...</td>\n",
       "      <td>[]</td>\n",
       "      <td>en</td>\n",
       "      <td>NaN</td>\n",
       "      <td>Comme peu d'autres pays à l'échelle mondiale, ...</td>\n",
       "      <td>Al igual que algunos otros países a nivel mund...</td>\n",
       "    </tr>\n",
       "    <tr>\n",
       "      <th>...</th>\n",
       "      <td>...</td>\n",
       "      <td>...</td>\n",
       "      <td>...</td>\n",
       "      <td>...</td>\n",
       "      <td>...</td>\n",
       "      <td>...</td>\n",
       "      <td>...</td>\n",
       "    </tr>\n",
       "    <tr>\n",
       "      <th>17195</th>\n",
       "      <td>347034</td>\n",
       "      <td>S’il s’agit d’un mouvement spontané au lieu d’...</td>\n",
       "      <td>[]</td>\n",
       "      <td>fr</td>\n",
       "      <td>In the case of a spontaneous movement instead ...</td>\n",
       "      <td>NaN</td>\n",
       "      <td>En el caso de un movimiento espontáneo en luga...</td>\n",
       "    </tr>\n",
       "    <tr>\n",
       "      <th>17196</th>\n",
       "      <td>347041</td>\n",
       "      <td>En raison de la forte demande, une augmentatio...</td>\n",
       "      <td>[]</td>\n",
       "      <td>fr</td>\n",
       "      <td>Due to the strong demand, an increase in the p...</td>\n",
       "      <td>NaN</td>\n",
       "      <td>Debido a la fuerte demanda, a veces se ha obse...</td>\n",
       "    </tr>\n",
       "    <tr>\n",
       "      <th>17197</th>\n",
       "      <td>347063</td>\n",
       "      <td>D’après les études MSA des équipes RRM, le niv...</td>\n",
       "      <td>[]</td>\n",
       "      <td>fr</td>\n",
       "      <td>According to MSA studies of RRM teams, the lev...</td>\n",
       "      <td>NaN</td>\n",
       "      <td>Según los estudios de MSA de los equipos RRM, ...</td>\n",
       "    </tr>\n",
       "    <tr>\n",
       "      <th>17198</th>\n",
       "      <td>347042</td>\n",
       "      <td>La majorité des ménages PDI vit dans des logem...</td>\n",
       "      <td>[]</td>\n",
       "      <td>fr</td>\n",
       "      <td>The majority of PDI households live in housing...</td>\n",
       "      <td>NaN</td>\n",
       "      <td>La mayoría de los hogares de PDI viven en vivi...</td>\n",
       "    </tr>\n",
       "    <tr>\n",
       "      <th>17199</th>\n",
       "      <td>496384</td>\n",
       "      <td>No ha sido posible explorar en la magnitud de ...</td>\n",
       "      <td>[]</td>\n",
       "      <td>es</td>\n",
       "      <td>It has not been possible to explore in the mag...</td>\n",
       "      <td>Il n'a pas été possible d'explorer dans l'ampl...</td>\n",
       "      <td>NaN</td>\n",
       "    </tr>\n",
       "  </tbody>\n",
       "</table>\n",
       "<p>17200 rows × 7 columns</p>\n",
       "</div>"
      ],
      "text/plain": [
       "       entry_id                                            excerpt gender  \\\n",
       "0         16851  During the reporting week, IOM provided medica...     []   \n",
       "1        489433  Primary and secondary net enrollment rates are...     []   \n",
       "2        186155  Impacto en las personas a. Inseguridad aliment...     []   \n",
       "3        187037  • According to the World Bank, most Venezuelan...     []   \n",
       "4        489430  Like few other countries globally, the majorit...     []   \n",
       "...         ...                                                ...    ...   \n",
       "17195    347034  S’il s’agit d’un mouvement spontané au lieu d’...     []   \n",
       "17196    347041  En raison de la forte demande, une augmentatio...     []   \n",
       "17197    347063  D’après les études MSA des équipes RRM, le niv...     []   \n",
       "17198    347042  La majorité des ménages PDI vit dans des logem...     []   \n",
       "17199    496384  No ha sido posible explorar en la magnitud de ...     []   \n",
       "\n",
       "      lang                                     translation_en  \\\n",
       "0       en                                                NaN   \n",
       "1       en                                                NaN   \n",
       "2       es  Impact on people a. Food insecurity Recurrent ...   \n",
       "3       en                                                NaN   \n",
       "4       en                                                NaN   \n",
       "...    ...                                                ...   \n",
       "17195   fr  In the case of a spontaneous movement instead ...   \n",
       "17196   fr  Due to the strong demand, an increase in the p...   \n",
       "17197   fr  According to MSA studies of RRM teams, the lev...   \n",
       "17198   fr  The majority of PDI households live in housing...   \n",
       "17199   es  It has not been possible to explore in the mag...   \n",
       "\n",
       "                                          translation_fr  \\\n",
       "0      Au cours de la semaine de reporting, l'OIM a f...   \n",
       "1      Les taux de scolarisation nets primaires et se...   \n",
       "2      Impact sur les gens a. Insécurité alimentaire ...   \n",
       "3      • Selon la Banque mondiale, la plupart des mig...   \n",
       "4      Comme peu d'autres pays à l'échelle mondiale, ...   \n",
       "...                                                  ...   \n",
       "17195                                                NaN   \n",
       "17196                                                NaN   \n",
       "17197                                                NaN   \n",
       "17198                                                NaN   \n",
       "17199  Il n'a pas été possible d'explorer dans l'ampl...   \n",
       "\n",
       "                                          translation_es  \n",
       "0      Durante la semana de presentación de informes,...  \n",
       "1      Las tasas de inscripción netas primarias y sec...  \n",
       "2                                                    NaN  \n",
       "3      • Según el Banco Mundial, la mayoría de los mi...  \n",
       "4      Al igual que algunos otros países a nivel mund...  \n",
       "...                                                  ...  \n",
       "17195  En el caso de un movimiento espontáneo en luga...  \n",
       "17196  Debido a la fuerte demanda, a veces se ha obse...  \n",
       "17197  Según los estudios de MSA de los equipos RRM, ...  \n",
       "17198  La mayoría de los hogares de PDI viven en vivi...  \n",
       "17199                                                NaN  \n",
       "\n",
       "[17200 rows x 7 columns]"
      ]
     },
     "execution_count": 4,
     "metadata": {},
     "output_type": "execute_result"
    }
   ],
   "source": [
    "df_test"
   ]
  },
  {
   "cell_type": "code",
   "execution_count": 5,
   "id": "1501600c",
   "metadata": {
    "ExecuteTime": {
     "end_time": "2021-11-23T15:51:36.335340Z",
     "start_time": "2021-11-23T15:51:35.384146Z"
    }
   },
   "outputs": [],
   "source": [
    "col = \"gender\"\n",
    "for df in [df_train, df_val, df_test]:\n",
    "    df[col] = df[col].apply(lambda x: list(sorted(list(set(literal_eval(x))))))"
   ]
  },
  {
   "cell_type": "code",
   "execution_count": 6,
   "id": "c4d2820c",
   "metadata": {
    "ExecuteTime": {
     "end_time": "2021-11-23T15:51:36.338300Z",
     "start_time": "2021-11-23T15:51:36.336349Z"
    }
   },
   "outputs": [],
   "source": [
    "# df_train.loc[df_train[\"lang\"].eq(\"en\"),\n",
    "#                 \"translation_en\"] = df_train.loc[\n",
    "#                     df_train[\"lang\"].eq(\"en\"), \"excerpt\"]\n",
    "# ##\n",
    "# df_train.loc[df_train[\"lang\"].eq(\"fr\"),\n",
    "#                 \"translation_fr\"] = df_train.loc[\n",
    "#                     df_train[\"lang\"].eq(\"fr\"), \"excerpt\"]\n",
    "# ##\n",
    "# df_train.loc[df_train[\"lang\"].eq(\"es\"),\n",
    "#                 \"translation_es\"] = df_train.loc[\n",
    "#                     df_train[\"lang\"].eq(\"es\"), \"excerpt\"]"
   ]
  },
  {
   "cell_type": "code",
   "execution_count": 7,
   "id": "6d7f26e4",
   "metadata": {
    "ExecuteTime": {
     "end_time": "2021-11-23T15:51:36.345826Z",
     "start_time": "2021-11-23T15:51:36.339786Z"
    }
   },
   "outputs": [],
   "source": [
    "male_kw_en = [\n",
    "    'man', 'men', 'boy', 'boys', 'male', 'males', \"him\", \"his\", \"son\", \"sons\",\n",
    "    \"father\", \"fathers\"\n",
    "]\n",
    "female_kw_en = [\n",
    "    'woman', 'women', 'girl', 'girls', 'female', 'females', 'mother',\n",
    "    'mothers', \"pregnancy\", \"pregnancies\", \"pregnant\", \"pregnants\", \"she\",\n",
    "    \"her\", \"hers\", \"reproductive\", \"maternal\", \"daughter\", \"daughters\",\n",
    "    \"childbearing\", \"feminicide\", \"feminicides\", \"femicide\", \"femicides\",\n",
    "    \"vbg\", \"gbv\", \"sgbv\", \"fgm\", \"srh\", \"lactating\", \"menstrual\", \"contraceptive\",\n",
    "    \"fetus\", \"foetation\", \"foetus\",\n",
    "]\n",
    "##\n",
    "male_kw_fr = [\n",
    "    \"homme\", \"hommes\", \"garçon\", \"garçons\", \"masculin\", \"masculins\", \"lui\", \n",
    "]\n",
    "female_kw_fr = [\n",
    "    \"femme\", \"femmes\", \"vbg\", \"maternelle\", \"maternelles\", \"vénézuélienne\",\n",
    "    \"vénézuéliennes\", \"mère\", \"mères\", \"sexiste\", \"grossesse\", \"grossesses\",\n",
    "    \"elle\", \"elles\" \"fille\", \"filles\", \"reproduction\", \"reproductions\", \n",
    "    \"gbv\", \"migrante\", \"migrantes\", \"survivante\", \"survivantes\", \"allaitante\"\n",
    "    \"allaitantes\", \"handicapée\", \"handicapées\", \"srh\", \"fgm\", \"féminicide\",\n",
    "    \"féminicides\", \"affectées\", \"réfugiée\", \"réfugiées\", \"sgbv\", \"mariée\",\n",
    "    \"mariées\", \"féminine\", \"féminines\", \"violée\", \"violées\", \"sis\", \"menstruelle\",\n",
    "    \"menstruelles\", \"péruvienne\", \"péruviennes\", \n",
    "]\n",
    "##\n",
    "male_kw_es = [\n",
    "    \"hombre\", \"hombres\", \"viajero\", \"viajeros\", \"masculino\", \"masculinos\",\n",
    "    \"venezolano\", \"venezolanos\", \"macho\", \"machos\", \"testigo\", \"masculina\",\n",
    "    \"niño\", \"niños\", \n",
    "]\n",
    "female_kw_es = [\n",
    "    \"mujere\", \"mujeres\", \"vbg\", \"venezolana\", \"venezolanas\", \"materna\", \"maternas\", \n",
    "    \"embarazada\", \"embarazadas\", \"madre\", \"madres\", \"embarazo\", \"embarazos\", \"supervivencia\",\n",
    "    \"supervivencias\", \"mujer\", \"mujers\", \"gbv\", \"fgm\", \"lactante\", \"lactantes\", \"lideresa\",\n",
    "    \"lideresas\", \"hija\", \"hijas\", \"feminicidio\", \"feminicidios\", \"femenina\", \"femeninas\",\n",
    "    \"anticonceptivo\", \"anticonceptivos\", \"srh\", \"refugiada\", \"refugiadas\", \"peruana\", \"peruanas\",\n",
    "    \"niñas\", \"niña\", \"embarazo\", \"embarazos\", \"gestantes\", \"gestante\", \"menstrual\", \"menstruals\",\n",
    "    \"sgbv\", \"menstruale\", \"menstruales\", \"vulnerabilidade\", \"vulnerabilidades\", \"desplazada\",\n",
    "    \"desplazadas\", \"casada\", \"casadas\", \"prenatale\", \"prenatales\", \"femicidio\", \"femicidios\",\n",
    "    \n",
    "]"
   ]
  },
  {
   "cell_type": "code",
   "execution_count": 8,
   "id": "4f09f0cf",
   "metadata": {
    "ExecuteTime": {
     "end_time": "2021-11-23T15:51:36.348525Z",
     "start_time": "2021-11-23T15:51:36.346792Z"
    }
   },
   "outputs": [],
   "source": [
    "# male_kw = set(male_kw_en + male_kw_fr + male_kw_es)\n",
    "# female_kw = set(female_kw_en + female_kw_fr + female_kw_es)"
   ]
  },
  {
   "cell_type": "code",
   "execution_count": 9,
   "id": "8c145f65",
   "metadata": {
    "ExecuteTime": {
     "end_time": "2021-11-23T15:51:36.353842Z",
     "start_time": "2021-11-23T15:51:36.350687Z"
    }
   },
   "outputs": [],
   "source": [
    "def preprocess_and_tokenize(doc):\n",
    "    # remove preceeding dates\n",
    "    try:\n",
    "        doc = re.sub(\"^\\[.+\\]\", \" \", doc).strip()\n",
    "    except:\n",
    "        print(type(doc), doc)\n",
    "        raise\n",
    "    doc = re.sub(\"^\\(.+\\)\", \" \", doc).strip()\n",
    "    # spaces btw numbers and words\n",
    "    doc = re.sub('(\\d+(\\.\\d+)?)', r' \\1 ', doc).strip()\n",
    "    # tokenize\n",
    "    words = word_tokenize(doc)\n",
    "    # lower and remove non-words\n",
    "    words = [word.lower() for word in words if word.isalpha()]\n",
    "    return words"
   ]
  },
  {
   "cell_type": "code",
   "execution_count": 10,
   "id": "f6facf2a",
   "metadata": {
    "ExecuteTime": {
     "end_time": "2021-11-23T15:51:36.358366Z",
     "start_time": "2021-11-23T15:51:36.355002Z"
    }
   },
   "outputs": [],
   "source": [
    "def pred_gender(row):\n",
    "    words = preprocess_and_tokenize(row['excerpt'])\n",
    "    if row['lang']=='en':\n",
    "        female_kw = female_kw_en\n",
    "        male_kw = male_kw_en\n",
    "    elif row['lang']=='fr':\n",
    "        female_kw = female_kw_fr\n",
    "        male_kw = male_kw_fr\n",
    "    elif row['lang']=='es':\n",
    "        female_kw = female_kw_es\n",
    "        male_kw = male_kw_es\n",
    "    else:\n",
    "        raise\n",
    "    lbls = []\n",
    "    if any(word in words for word in female_kw):\n",
    "        lbls.append(\"Female\")\n",
    "    if any(word in words for word in male_kw):\n",
    "        lbls.append(\"Male\")\n",
    "    return lbls"
   ]
  },
  {
   "cell_type": "code",
   "execution_count": 11,
   "id": "4ccfb4cf",
   "metadata": {
    "ExecuteTime": {
     "end_time": "2021-11-23T15:52:28.170694Z",
     "start_time": "2021-11-23T15:51:36.359615Z"
    },
    "scrolled": true
   },
   "outputs": [
    {
     "data": {
      "application/vnd.jupyter.widget-view+json": {
       "model_id": "3cfe1a0cb42a46169f51dd3f189709d8",
       "version_major": 2,
       "version_minor": 0
      },
      "text/plain": [
       "  0%|          | 0/126323 [00:00<?, ?it/s]"
      ]
     },
     "metadata": {},
     "output_type": "display_data"
    }
   ],
   "source": [
    "df_train[\"gender_kw_pred\"] = df_train.progress_apply(pred_gender, axis=1)"
   ]
  },
  {
   "cell_type": "code",
   "execution_count": 12,
   "id": "c408ad58",
   "metadata": {
    "ExecuteTime": {
     "end_time": "2021-11-23T15:52:34.701576Z",
     "start_time": "2021-11-23T15:52:28.171983Z"
    }
   },
   "outputs": [
    {
     "data": {
      "application/vnd.jupyter.widget-view+json": {
       "model_id": "1031bc83c6ba40f39ed4eb8ebf9cc59f",
       "version_major": 2,
       "version_minor": 0
      },
      "text/plain": [
       "  0%|          | 0/14425 [00:00<?, ?it/s]"
      ]
     },
     "metadata": {},
     "output_type": "display_data"
    }
   ],
   "source": [
    "df_val[\"gender_kw_pred\"] = df_val.progress_apply(pred_gender, axis=1)"
   ]
  },
  {
   "cell_type": "code",
   "execution_count": 13,
   "id": "568ef7a3",
   "metadata": {
    "ExecuteTime": {
     "end_time": "2021-11-23T15:52:34.714755Z",
     "start_time": "2021-11-23T15:52:34.702540Z"
    }
   },
   "outputs": [
    {
     "data": {
      "text/plain": [
       "(107757, (126323, 8))"
      ]
     },
     "execution_count": 13,
     "metadata": {},
     "output_type": "execute_result"
    }
   ],
   "source": [
    "(df_train[\"gender_kw_pred\"] == df_train[\"gender\"]).sum(), df_train.shape"
   ]
  },
  {
   "cell_type": "code",
   "execution_count": 14,
   "id": "8255546e",
   "metadata": {
    "ExecuteTime": {
     "end_time": "2021-11-23T15:52:34.720861Z",
     "start_time": "2021-11-23T15:52:34.715978Z"
    }
   },
   "outputs": [
    {
     "data": {
      "text/plain": [
       "(12055, (14425, 8))"
      ]
     },
     "execution_count": 14,
     "metadata": {},
     "output_type": "execute_result"
    }
   ],
   "source": [
    "(df_val[\"gender_kw_pred\"] == df_val[\"gender\"]).sum(), df_val.shape"
   ]
  },
  {
   "cell_type": "code",
   "execution_count": 15,
   "id": "eea74e6e",
   "metadata": {
    "ExecuteTime": {
     "end_time": "2021-11-23T15:52:37.414543Z",
     "start_time": "2021-11-23T15:52:34.721860Z"
    }
   },
   "outputs": [],
   "source": [
    "df_train.to_csv(\"train_0.7.1_kw_gender.csv\", index=False)\n",
    "df_val.to_csv(\"val_0.7.1_kw_gender.csv\", index=False)"
   ]
  },
  {
   "cell_type": "code",
   "execution_count": 16,
   "id": "e172751f",
   "metadata": {
    "ExecuteTime": {
     "end_time": "2021-11-23T15:52:38.310354Z",
     "start_time": "2021-11-23T15:52:38.307464Z"
    }
   },
   "outputs": [
    {
     "data": {
      "text/plain": [
       "(126323, 14425)"
      ]
     },
     "execution_count": 16,
     "metadata": {},
     "output_type": "execute_result"
    }
   ],
   "source": [
    "len(df_train), len(df_val)"
   ]
  },
  {
   "cell_type": "code",
   "execution_count": null,
   "id": "79b7de94",
   "metadata": {},
   "outputs": [],
   "source": []
  }
 ],
 "metadata": {
  "kernelspec": {
   "display_name": "Python 3.8.5 64-bit ('base': conda)",
   "language": "python",
   "name": "python385jvsc74a57bd0f487e277ea6a75fd1c7c341a1deb40c7861148cbc006695943c5304af00fedbe"
  },
  "language_info": {
   "codemirror_mode": {
    "name": "ipython",
    "version": 3
   },
   "file_extension": ".py",
   "mimetype": "text/x-python",
   "name": "python",
   "nbconvert_exporter": "python",
   "pygments_lexer": "ipython3",
   "version": "3.8.11"
  },
  "varInspector": {
   "cols": {
    "lenName": 16,
    "lenType": 16,
    "lenVar": 40
   },
   "kernels_config": {
    "python": {
     "delete_cmd_postfix": "",
     "delete_cmd_prefix": "del ",
     "library": "var_list.py",
     "varRefreshCmd": "print(var_dic_list())"
    },
    "r": {
     "delete_cmd_postfix": ") ",
     "delete_cmd_prefix": "rm(",
     "library": "var_list.r",
     "varRefreshCmd": "cat(var_dic_list()) "
    }
   },
   "types_to_exclude": [
    "module",
    "function",
    "builtin_function_or_method",
    "instance",
    "_Feature"
   ],
   "window_display": false
  }
 },
 "nbformat": 4,
 "nbformat_minor": 5
}
