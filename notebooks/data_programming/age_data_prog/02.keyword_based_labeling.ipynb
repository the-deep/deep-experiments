{
 "cells": [
  {
   "cell_type": "code",
   "execution_count": 1,
   "id": "1ab597fe",
   "metadata": {
    "ExecuteTime": {
     "end_time": "2021-12-27T12:09:53.462878Z",
     "start_time": "2021-12-27T12:09:53.460919Z"
    }
   },
   "outputs": [],
   "source": [
    "import os\n",
    "cwd = \"/home/abdullah/Documents/DFS/kw_and_snorkel_based_labeling/age\"\n",
    "os.chdir(cwd)"
   ]
  },
  {
   "cell_type": "code",
   "execution_count": 2,
   "id": "510e136b",
   "metadata": {
    "ExecuteTime": {
     "end_time": "2021-12-27T12:09:54.741969Z",
     "start_time": "2021-12-27T12:09:54.121630Z"
    }
   },
   "outputs": [],
   "source": [
    "import re\n",
    "from ast import literal_eval\n",
    "\n",
    "import pandas as pd\n",
    "from tqdm.notebook import tqdm\n",
    "from nltk.corpus import stopwords\n",
    "from nltk import word_tokenize, ngrams\n",
    "from IPython.core.display import HTML"
   ]
  },
  {
   "cell_type": "code",
   "execution_count": 3,
   "id": "ae38d76b",
   "metadata": {
    "ExecuteTime": {
     "end_time": "2021-12-27T12:09:55.180988Z",
     "start_time": "2021-12-27T12:09:55.178533Z"
    }
   },
   "outputs": [],
   "source": [
    "tqdm.pandas()"
   ]
  },
  {
   "cell_type": "code",
   "execution_count": 4,
   "id": "211edd20",
   "metadata": {
    "ExecuteTime": {
     "end_time": "2021-12-27T12:09:58.155552Z",
     "start_time": "2021-12-27T12:09:55.953778Z"
    }
   },
   "outputs": [],
   "source": [
    "df_train = pd.read_csv(\"../data/train_v0.7.1.csv\",\n",
    "                       usecols=[\n",
    "                           'entry_id', 'excerpt', 'age', 'lang',\n",
    "                           \"translation_en\", \"translation_fr\", \"translation_es\"\n",
    "                       ])\n",
    "df_val = pd.read_csv(\"../data/val_v0.7.1.csv\",\n",
    "                     usecols=[\n",
    "                         'entry_id', 'excerpt', 'age', 'lang',\n",
    "                         \"translation_en\", \"translation_fr\", \"translation_es\"\n",
    "                     ])\n",
    "df_test = pd.read_csv(\"../data/test_v0.7.1.csv\",\n",
    "                      usecols=[\n",
    "                          'entry_id', 'excerpt', 'age', 'lang',\n",
    "                          \"translation_en\", \"translation_fr\", \"translation_es\"\n",
    "                      ])"
   ]
  },
  {
   "cell_type": "code",
   "execution_count": 5,
   "id": "1501600c",
   "metadata": {
    "ExecuteTime": {
     "end_time": "2021-12-27T12:10:00.047732Z",
     "start_time": "2021-12-27T12:09:59.041520Z"
    }
   },
   "outputs": [],
   "source": [
    "col = \"age\"\n",
    "for df in [df_train, df_val, df_test]:\n",
    "    df[col] = df[col].apply(lambda x: list(sorted(list(set(literal_eval(x))))))"
   ]
  },
  {
   "cell_type": "code",
   "execution_count": 6,
   "id": "c4d2820c",
   "metadata": {
    "ExecuteTime": {
     "end_time": "2021-12-27T12:10:01.236029Z",
     "start_time": "2021-12-27T12:10:01.185327Z"
    }
   },
   "outputs": [],
   "source": [
    "df_train.loc[df_train[\"lang\"].eq(\"en\"),\n",
    "                \"translation_en\"] = df_train.loc[\n",
    "                    df_train[\"lang\"].eq(\"en\"), \"excerpt\"]\n",
    "# df_train[\"excerpt\"] = df_train[\"translation_en\"]\n",
    "# df_train = df_train[['entry_id', 'excerpt', 'age', 'lang']]"
   ]
  },
  {
   "cell_type": "code",
   "execution_count": 7,
   "id": "cadd8d43",
   "metadata": {
    "ExecuteTime": {
     "end_time": "2021-12-27T12:10:01.817294Z",
     "start_time": "2021-12-27T12:10:01.809631Z"
    }
   },
   "outputs": [],
   "source": [
    "df_val.loc[df_val[\"lang\"].eq(\"en\"),\n",
    "                \"translation_en\"] = df_val.loc[\n",
    "                    df_val[\"lang\"].eq(\"en\"), \"excerpt\"]\n",
    "# df_val[\"excerpt\"] = df_val[\"translation_en\"]\n",
    "# df_val = df_val[['entry_id', 'excerpt', 'age', 'lang']]"
   ]
  },
  {
   "cell_type": "code",
   "execution_count": 8,
   "id": "45d03534",
   "metadata": {
    "ExecuteTime": {
     "end_time": "2021-12-27T12:10:02.863645Z",
     "start_time": "2021-12-27T12:10:02.856793Z"
    }
   },
   "outputs": [],
   "source": [
    "df_test.loc[df_test[\"lang\"].eq(\"en\"),\n",
    "                \"translation_en\"] = df_test.loc[\n",
    "                    df_test[\"lang\"].eq(\"en\"), \"excerpt\"]\n",
    "# df_test[\"excerpt\"] = df_test[\"translation_en\"]\n",
    "# df_test = df_test[['entry_id', 'excerpt', 'age', 'lang']]"
   ]
  },
  {
   "cell_type": "code",
   "execution_count": 9,
   "id": "87e0e418",
   "metadata": {
    "ExecuteTime": {
     "end_time": "2021-12-27T12:10:03.886326Z",
     "start_time": "2021-12-27T12:10:03.881379Z"
    }
   },
   "outputs": [],
   "source": [
    "def preprocess(doc):\n",
    "    if doc != doc:\n",
    "        return \"\"\n",
    "    doc = doc.lower()\n",
    "    # remove preceeding dates\n",
    "    #doc = re.sub(\"^\\[.+\\]\", \" \", doc).strip()\n",
    "    #doc = re.sub(\"^\\(.+\\)\", \" \", doc).strip()\n",
    "    # spaces btw numbers and words\n",
    "    doc = re.sub('(\\d+(\\W\\d+)?)', r' \\1 ', doc).strip()\n",
    "    doc = re.sub(\"[‐‑–—―─_]\", \"-\", doc)\n",
    "    doc = re.sub(\"(\\w)\\- (\\w)\", r\"\\1\\2\", doc)\n",
    "    doc = re.sub(\n",
    "        \"[\" + re.escape(\n",
    "            '_@^~.()[],\"“’…<❖‐»—─|•&{≥➢\\ue0e4\\uf0d8\\uf0fc●°#\\u200b>`?�€■!‘%;̧\\'›«”:≤―\\uf0b7$}*´=‑▪\\xad❑·–'\n",
    "        ) + \"]\", \" \", doc)\n",
    "    #remove some puncs\n",
    "    doc = re.sub('\\s+', \" \", doc).strip()\n",
    "    return doc\n",
    "##\n",
    "def preprocess_and_tokenize(doc, n=1):\n",
    "    doc = preprocess(doc)\n",
    "    # tokenize\n",
    "    words = word_tokenize(doc)\n",
    "    if n == 1:\n",
    "        return set(words)\n",
    "    return set(ngrams(words, n))"
   ]
  },
  {
   "cell_type": "code",
   "execution_count": 10,
   "id": "6d7f26e4",
   "metadata": {
    "ExecuteTime": {
     "end_time": "2021-12-27T12:10:05.710725Z",
     "start_time": "2021-12-27T12:10:05.689783Z"
    }
   },
   "outputs": [],
   "source": [
    "kw_en_infant = [\n",
    "    '(24-59m)',\n",
    "    ('0', '-', '59', 'months'),\n",
    "    ('0-59', 'months'),\n",
    "    ('1', '-year-old'),\n",
    "    '1-year-old',\n",
    "    ('12-15', 'month'),\n",
    "    ('2', '-year-old'),\n",
    "    '2-year-old',\n",
    "    ('24-59', 'm'),\n",
    "    ('3', '-year-old'),\n",
    "    '3-year-old',\n",
    "    ('4', '-year-old'),\n",
    "    '4-year-old',\n",
    "    ('5', '-year-old'),\n",
    "    '5-year-old',\n",
    "    ('6', '-', '23', 'months', 'old'),\n",
    "    ('6-', '23', 'months', 'old'),\n",
    "    ('6-23', 'months', 'old'),\n",
    "    ('age', 'of', '5'),\n",
    "    ('age', 'of', 'five'),\n",
    "    ('aged', '0', '-', '23', 'months'),\n",
    "    ('aged', '0-23', 'months'),\n",
    "    ('aged', '0-', '23', 'months'),\n",
    "    ('aged', 'zero', '-', 'twenty-three', 'months'),\n",
    "    'babies',\n",
    "    'baby',\n",
    "    'born',\n",
    "    'breastfed',\n",
    "    ('children', '6-', '59', 'months', 'of', 'age'),\n",
    "    ('children', '6-59', 'months'),\n",
    "    ('children', 'under', 'the', 'age', 'of', 'five', 'years'),\n",
    "    ('children', 'below', 'five', 'years', 'of', 'age'),\n",
    "    ('children', '6-', '59', 'months'),\n",
    "    ('children', '0-23', 'months'),\n",
    "    ('children', 'aged', '0-', '23', 'months'),\n",
    "    ('children', 'under', '5', 'years', 'of', 'age'),\n",
    "    ('children', 'of', '6-', '59', 'months'),\n",
    "    ('children', 'six', '-', 'fifty-nine', 'months'),\n",
    "    ('children', 'aged', '0-23', 'months'),\n",
    "    ('children', 'aged', '0', '-', '23', 'months'),\n",
    "    ('children', 'under', 'five', 'years', 'of', 'age'),\n",
    "    ('children', 'aged', 'six', 'to', 'fifty-nine', 'months'),\n",
    "    ('children', 'between', 'the', 'ages', 'of', 'twenty-four', 'and',\n",
    "     'fifty-nine', 'months'),\n",
    "    ('children', 'aged', '6-59', 'months'),\n",
    "    ('children', '6-59', 'months', 'of', 'age'),\n",
    "    ('children', 'of', '6-59', 'months'),\n",
    "    ('children', 'under', 'the', 'age', 'of', '5'),\n",
    "    ('children', 'below', '5', 'years', 'of', 'age'),\n",
    "    ('children', 'between', 'six', 'to', 'twenty-three', 'months'),\n",
    "    ('children', 'from', '6', 'to', '59', 'months'),\n",
    "    ('children', '6', '-', '59', 'months'),\n",
    "    ('children', 'under', '5', 'years', 'old'),\n",
    "    ('children', 'under', 'the', 'age', 'of', '5', 'years'),\n",
    "    ('children', 'aged', 'six', '-', 'fifty-nine', 'months'),\n",
    "    ('children', 'aged', '6-', '59', 'months'),\n",
    "    ('children', 'six', '-', 'fifty-nine', 'months', 'of', 'age'),\n",
    "    ('children', 'aged', '6', '-', '59', 'months'),\n",
    "    ('children', '0', '-', '23', 'months'),\n",
    "    ('children', 'from', 'six', 'to', 'fifty-nine', 'months'),\n",
    "    ('children', 'zero', '-', 'twenty-three', 'months'),\n",
    "    ('children', 'of', '6', '-', '59', 'months'),\n",
    "    ('children', 'under', 'five', 'years'),\n",
    "    ('children', 'of', 'six', '-', 'fifty-nine', 'months'),\n",
    "    ('children', 'aged', 'zero', '-', 'twenty-three', 'months'),\n",
    "    ('children', '0-', '23', 'months'),\n",
    "    ('children', 'between', 'the', 'ages', 'of', '24', 'and', '59', 'months'),\n",
    "    ('children', 'under', 'the', 'age', 'of', 'five'),\n",
    "    ('children', '6', '-', '59', 'months', 'of', 'age'),\n",
    "    ('children', 'under', 'five', 'years', 'old'),\n",
    "    ('children', 'aged', '6', 'to', '59', 'months'),\n",
    "    ('children', 'between', '6', 'to', '23', 'months'),\n",
    "    'cmam',\n",
    "    'congenital',\n",
    "    ('infant', 'and', 'young', 'child'),\n",
    "    'infant',\n",
    "    ('infant', 'and', 'young', 'child', 'feeding'),\n",
    "    'infantile',\n",
    "    'infants',\n",
    "    'iycf',\n",
    "    ('less', 'than', 'five', 'years'),\n",
    "    ('less', 'than', '5', 'years'),\n",
    "    ('live', 'births'),\n",
    "    ('live', 'birth'),\n",
    "    'measles',\n",
    "    'neonatal',\n",
    "    'newborn',\n",
    "    'newborns',\n",
    "    'perinatal',\n",
    "    'post-natal',\n",
    "    ('six', '-', 'twenty-three', 'months', 'old'),\n",
    "    'stunted',\n",
    "    'stunting',\n",
    "    ('under', 'the', 'age', 'of', 'five', 'years'),\n",
    "    ('under', 'the', 'age', 'of', '5'),\n",
    "    ('under', 'the', 'age', 'of', 'five'),\n",
    "    ('under', 'the', 'age', 'of', '5', 'years'),\n",
    "    (\"aged\", \"0-9\", \"years\"),\n",
    "]\n",
    "# list(\n",
    "#     sorted(list(set(kw_en_infant)),\n",
    "#            key=lambda x: x if isinstance(x, str) else x[0]))\n",
    "negative_kw_infant = [\n",
    "    (\"women\", \"with\", \"babies\"),\n",
    "]\n",
    "##\n",
    "r_0_59 = r\"\\b(5[0-9]|[0-9])\\b\"  # 0->59\n",
    "r_0_5 = r\"\\b([0-5])\\b\"  # 0->5\n",
    "##\n",
    "infant_patterns = [\n",
    "    f\"less than {r_0_5} years\",\n",
    "    f\"younger than {r_0_5} years\",\n",
    "    f\"under the age of {r_0_5}\",\n",
    "    f\"below the age of {r_0_5}\",\n",
    "    f\"{r_0_59} ?- ?{r_0_59} months old\",\n",
    "    f\"aged {r_0_5} ?- ?[0-9] years\",\n",
    "    f\"aged {r_0_59} ?- ?{r_0_59} months?\",\n",
    "    f\"{r_0_59} ?- ?{r_0_59} ?m\",\n",
    "    f\"{r_0_59} ?- ?{r_0_59} ?months?\",\n",
    "    f\"{r_0_5}-year-old\",\n",
    "    f\"children {r_0_59} ?- ?{r_0_59} months?\",\n",
    "    f\"children of {r_0_59} ?- ?{r_0_59} months?\",\n",
    "    f\"children under {r_0_5}\",\n",
    "    f\"children under the age of {r_0_5}\",\n",
    "    f\"children under {r_0_5} years\",\n",
    "    f\"children below {r_0_5} years\",\n",
    "    f\"children below the age of {r_0_5}\",\n",
    "    f\"children below {r_0_5}\",\n",
    "    f\"children aged {r_0_59} ?- ?{r_0_59} months?\",\n",
    "    f\"children aged {r_0_59} to {r_0_59} months?\",\n",
    "    f\"children between {r_0_59} ?- ?{r_0_59} months?\",\n",
    "    f\"children between {r_0_59} to {r_0_59} months?\",\n",
    "    f\"children between the ages of {r_0_59} and {r_0_59} months?\",\n",
    "    f\"children from {r_0_59} ?- ?{r_0_59} months?\",\n",
    "    f\"children from {r_0_59} to {r_0_59} months?\",\n",
    "    f\"children of {r_0_59} ?- ?{r_0_59} months?\",\n",
    "]\n",
    "\n",
    "\n",
    "##\n",
    "def is_infant(row):\n",
    "    for kw in negative_kw_infant:\n",
    "        if isinstance(kw, str) and kw in row['tokenized_excerpt']: return False\n",
    "        elif len(kw) == 2 and kw in row['bigram_excerpt']: return False\n",
    "        elif len(kw) == 3 and kw in row['trigram_excerpt']: return False\n",
    "        elif len(kw) == 4 and kw in row['fourgram_excerpt']: return False\n",
    "        elif len(kw) == 5 and kw in row['fivegram_excerpt']: return False\n",
    "        elif len(kw) == 6 and kw in row['sixgram_excerpt']: return False\n",
    "        elif len(kw) == 7 and kw in row['sevengram_excerpt']: return False\n",
    "    for p in infant_patterns:\n",
    "        if re.search(p, row[\"excerpt_pp\"]): return True\n",
    "    for kw in kw_en_infant:\n",
    "        if isinstance(kw, str) and kw in row['tokenized_excerpt']: return True\n",
    "        elif len(kw) == 2 and kw in row['bigram_excerpt']: return True\n",
    "        elif len(kw) == 3 and kw in row['trigram_excerpt']: return True\n",
    "        elif len(kw) == 4 and kw in row['fourgram_excerpt']: return True\n",
    "        elif len(kw) == 5 and kw in row['fivegram_excerpt']: return True\n",
    "        elif len(kw) == 6 and kw in row['sixgram_excerpt']: return True\n",
    "        elif len(kw) == 7 and kw in row['sevengram_excerpt']: return True\n",
    "    return False"
   ]
  },
  {
   "cell_type": "code",
   "execution_count": 11,
   "id": "cbabc1c6",
   "metadata": {
    "ExecuteTime": {
     "end_time": "2021-12-27T12:10:06.264751Z",
     "start_time": "2021-12-27T12:10:06.249454Z"
    }
   },
   "outputs": [],
   "source": [
    "kw_en_child = [\n",
    "    ('14', 'years'), ('17', 'years'), 'adolescent', 'adolescents',\n",
    "    ('age', 'group', '5', '-', '14', 'years'),\n",
    "    ('age', 'group', '5-14', 'years'), ('aged', 'ten'), ('aged', '10'),\n",
    "    ('attending', 'school'), ('below', '18', 'years'), ('below', '18'),\n",
    "    ('below', 'the', 'age', 'of', '14'), ('below', '14'),\n",
    "    ('below', '18', 'years', 'of', 'age'), ('below', 'the', 'age', 'of', '17'),\n",
    "    ('below', 'the', 'age', 'of','18'), ('below', '17'),\n",
    "    ('below', 'eighteen', 'years'), ('below', 'eighteen'),\n",
    "    ('below', 'the', 'age', 'of','19'), 'boy', 'boys', 'child',\n",
    "    ('child', 'marriages'), ('child', 'labor'), ('child', 'abuse'),\n",
    "    ('child', 'marriage'), ('child', 'labour'), ('child', 'friendly'),\n",
    "    'child-friendly', ('child-friendly', 'spaces'), 'child-headed',\n",
    "    ('children', 'with', 'disabilities'), 'children',\n",
    "    ('children', 'under', 'eighteen'),\n",
    "    ('children', 'below', 'the', 'age', 'of', 'twelve'),\n",
    "    ('children', 'dropping', 'out', 'of', 'school'),\n",
    "    ('children', 'separated', 'from', 'their', 'parents'),\n",
    "    ('children', 'below', 'the', 'age', 'of', '12'),\n",
    "    ('children', 'not', 'attending', 'school'), ('children', 'school'),\n",
    "    ('children', 'under', '18'), ('children', 'caregivers'),\n",
    "    ('early', 'marriage'),\n",
    "    ('eighteen', 'years'), ('for', 'refugee', 'children'),\n",
    "    ('for', 'displaced', 'children'), ('fourteen', 'years'), 'girl', 'girls',\n",
    "    ('girls', 'children'), 'grades', 'in-school', ('labor', 'child'),\n",
    "    ('minor', 'child'), ('minor', 'children'), 'minors', ('mixed', 'school'),\n",
    "    ('out', 'of', 'education'), ('out', 'of', 'school'),\n",
    "    ('out-of-school', 'children'), 'out-of-school', 'pediatric',\n",
    "    ('primary', 'students'), ('primary', 'student'), ('refugee', 'children'),\n",
    "    ('rohingya', 'children'), ('school', 'students'),\n",
    "    ('school', 'aged', 'children'), ('school', 'children'),\n",
    "    ('school', 'aged'), 'school-age', ('school-age', 'children'),\n",
    "    ('school-aged', 'children'), 'school-aged', 'school-going', 'schoolboys',\n",
    "    'schoolchildren', 'schoolgirls', ('separated', 'children'),\n",
    "    ('seventeen', 'years'), 'students', 'teenagers', 'uasc', ('under', '18'),\n",
    "    ('under', 'the', 'age', 'of','14'), ('under', '18', 'years'), ('under', '14'),\n",
    "    ('under', 'the', 'age', 'of', 'eighteen'), ('under', 'the', 'age', 'of', '17'),\n",
    "    ('under', '17'), ('under', 'the', 'age', 'of', '18'),\n",
    "    ('under', 'the', 'age', 'of', '19'), ('under', 'eighteen'),\n",
    "    ('under', 'eighteen', 'years'), ('under', '18', 'years', 'of', 'age'),\n",
    "    ('under', 'the', 'age', 'of', '18'), ('venezuelan', 'minors'),\n",
    "    ('violence', 'against', 'children'), ('vulnerable', 'children'),\n",
    "    ('young', 'girls'), (\"teenage\",\"girl\"), (\"teenage\",\"girls\"),\n",
    "    (\"teenage\",\"boy\"), (\"teenage\",\"boys\"), (\"older\", \"than\", \"5\", \"years\")\n",
    "]\n",
    "# list(\n",
    "#     sorted(list(set(kw_en_child)),\n",
    "#            key=lambda x: x if isinstance(x, str) else x[0]))\n",
    "negative_kw_child = [\n",
    "    \"gam\",\n",
    "    \"sam\",\n",
    "    \"muac\",\n",
    "    \"24-59m\",\n",
    "    ('above', 'the', 'age', '18', 'years'),\n",
    "    ('above', '18', 'years', 'of', 'age'),\n",
    "    ('moderate', 'acute', 'malnutrition', 'mam'),\n",
    "    ('moderate', 'acute', 'malnutrition'),\n",
    "    'mam',\n",
    "    ('aged', '6-59', 'months'),\n",
    "    ('aged', '6-59'),\n",
    "]\n",
    "##\n",
    "##\n",
    "r_6_18 = r\"\\b(1[0-8]|[6-9])\\b\"  # 6->18\n",
    "r_5_15 = r\"\\b(1[0-5]|[5-9])\\b\"  # 5->15\n",
    "r_5_18 = r\"\\b(1[0-8]|[5-9])\\b\"  # 5->18\n",
    "r_14_18 = r\"\\b(1[4-8])\\b\"  # 4->18\n",
    "##\n",
    "child_patterns = [\n",
    "    f\"between {r_6_18} ?- ?{r_6_18}\",\n",
    "    f\"between {r_6_18} to {r_6_18}\",\n",
    "    f\"between the age of {r_6_18} and {r_6_18}\",\n",
    "    f\"the {r_6_18} ?- ?{r_6_18} age\",\n",
    "    f\"{r_6_18} ?- ?{r_6_18} years\",\n",
    "    f\"{r_6_18} to {r_6_18} years\",\n",
    "    f\"{r_6_18} ?-year-old\",\n",
    "    f\"{r_6_18} ?-year-olds\",\n",
    "    f\"{r_6_18} ?- ?{r_6_18} years old\",\n",
    "    f\"{r_6_18} ?- ?{r_6_18} age\",\n",
    "    f\"ages of {r_6_18} ?- ?{r_6_18}\",\n",
    "    f\"ages of {r_6_18} and {r_6_18}\",\n",
    "    f\"age of {r_6_18} ?- ?{r_6_18}\",\n",
    "    f\"age of {r_6_18} years\",\n",
    "    f\"age {r_6_18}\",\n",
    "    f\"aged {r_6_18}\",\n",
    "    f\"age {r_6_18} ?- ?{r_6_18}\",\n",
    "    f\"ages {r_6_18} ?- ?{r_6_18}\",\n",
    "    f\"aged {r_6_18} ?- ?{r_6_18}\",\n",
    "    f\"age {r_6_18} ?- ?{r_6_18}\",\n",
    "    f\"{r_6_18} years\",\n",
    "    f\"age group {r_5_18} ?- ?{r_6_18} years\",\n",
    "    f\"below {r_14_18} years\",\n",
    "    f\"below the age of {r_14_18}\",\n",
    "    f\"children under {r_14_18}\",\n",
    "    f\"under the age of {r_14_18}\",\n",
    "    f\"under {r_14_18} years\",\n",
    "    f\"below {r_14_18} years\",\n",
    "    f\"below the age of {r_14_18}\",\n",
    "    f\"younger than {r_14_18}\",\n",
    "    f\"less than {r_14_18}\",\n",
    "    f\"older than {r_5_15} years\",\n",
    "]\n",
    "##\n",
    "def is_child(row):\n",
    "    for kw in negative_kw_child:\n",
    "        if isinstance(kw, str) and kw in row['tokenized_excerpt']: return False\n",
    "        elif len(kw) == 2 and kw in row['bigram_excerpt']: return False\n",
    "        elif len(kw) == 3 and kw in row['trigram_excerpt']: return False\n",
    "        elif len(kw) == 4 and kw in row['fourgram_excerpt']: return False\n",
    "        elif len(kw) == 5 and kw in row['fivegram_excerpt']: return False\n",
    "        elif len(kw) == 6 and kw in row['sixgram_excerpt']: return False\n",
    "        elif len(kw) == 7 and kw in row['sevengram_excerpt']: return False\n",
    "    for p in child_patterns:\n",
    "        if re.search(p, row[\"excerpt_pp\"]): return True\n",
    "    for kw in kw_en_child:\n",
    "        if isinstance(kw, str) and kw in row['tokenized_excerpt']: return True\n",
    "        elif len(kw) == 2 and kw in row['bigram_excerpt']: return True\n",
    "        elif len(kw) == 3 and kw in row['trigram_excerpt']: return True\n",
    "        elif len(kw) == 4 and kw in row['fourgram_excerpt']: return True\n",
    "        elif len(kw) == 5 and kw in row['fivegram_excerpt']: return True\n",
    "        elif len(kw) == 6 and kw in row['sixgram_excerpt']: return True\n",
    "        elif len(kw) == 7 and kw in row['sevengram_excerpt']: return True\n",
    "    return False"
   ]
  },
  {
   "cell_type": "code",
   "execution_count": 12,
   "id": "2fa41bb9",
   "metadata": {
    "ExecuteTime": {
     "end_time": "2021-12-27T12:10:06.693171Z",
     "start_time": "2021-12-27T12:10:06.681464Z"
    }
   },
   "outputs": [],
   "source": [
    "kw_en_adult = [\n",
    "    'adult', 'adults', ('asylum', 'seekers'), 'breadwinner',\n",
    "    ('care', 'givers'), 'care-giving', 'caregivers', 'child-bearing',\n",
    "    'childbearing', 'employability', 'employed', 'employees', 'employers',\n",
    "    'employment', 'entrepreneurs', ('female', 'detainees'), 'female-headed',\n",
    "    ('foreign', 'health', 'professionals'), 'gbv', 'graduates',\n",
    "    ('had', 'given', 'a', 'life', 'birth'), 'husbands', 'jobs',\n",
    "    ('killing', 'of', 'teachers'), ('labor', 'market'), ('life', 'birth'),\n",
    "    ('male', 'headed'), 'male-headed', 'maternal', 'men', 'mothers', 'parents',\n",
    "    ('reproductive', 'age'), 'scholarships', ('stateless', 'persons'),\n",
    "    ('to',\n",
    "     'work'), 'underemployed', 'underemployment', 'unemployed', 'unemployment',\n",
    "    ('unintended', 'pregnancies'), 'university', 'widow',\n",
    "    'widows', 'wives', 'woman', 'women', 'women-headed', 'workers',\n",
    "    ('working', 'in'), 'working-age', 'youth', 'youths'\n",
    "]\n",
    "# list(\n",
    "#     sorted(list(set(kw_en_adult)),\n",
    "#            key=lambda x: x if isinstance(x, str) else x[0]))\n",
    "negative_kw_adult = []\n",
    "##\n",
    "r_18_59 = r\"\\b([2-5][0-9]|1[8-9])\\b\"  # 18->59\n",
    "r_20_59 = r\"\\b([2-5][0-9])\\b\"  # 20->59\n",
    "r_15_19 = r\"\\b(1[5-9])\\b\"  # 15->19\n",
    "r_11_19 = r\"\\b(1[1-9])\\b\"  # 11->19\n",
    "r_18_49 = r\"\\b([2-4][0-9]|1[8-9])\\b\"  # 18->49\n",
    "##\n",
    "adult_patterns = [\n",
    "    f\"between {r_11_19} ?- ?{r_20_59}\",\n",
    "    f\"between {r_18_59} ?- ?{r_18_59}\",\n",
    "    f\"between {r_18_59} to {r_18_59}\",\n",
    "    f\"between {r_11_19} to {r_20_59}\",\n",
    "    f\"between the age of {r_18_59} and {r_18_59}\",\n",
    "    f\"between the age of {r_11_19} and {r_20_59}\",\n",
    "    f\"the {r_18_59} ?- ?{r_18_59} age\",\n",
    "    f\"{r_18_59} ?- ?{r_18_59} years\",\n",
    "    f\"{r_18_59} to {r_18_59} years\",\n",
    "    f\"{r_18_59}\\+ years\",\n",
    "    f\"{r_18_59} ?-year-old\",\n",
    "    f\"{r_18_59} ?-year-olds\",\n",
    "    f\"{r_18_59} ?- ?{r_18_59} years old\",\n",
    "    f\"{r_18_59} ?- ?{r_18_59} age\",\n",
    "    f\"ages of {r_18_59} ?- ?{r_18_59}\",\n",
    "    f\"ages of {r_11_19} ?- ?{r_20_59}\",\n",
    "    f\"ages of {r_11_19} and {r_20_59}\",\n",
    "    f\"age of {r_18_59} ?- ?{r_18_59}\",\n",
    "    f\"age of {r_18_59} ?- ?{r_18_59}\",\n",
    "    f\"age of {r_18_59} years\",\n",
    "    f\"age {r_18_59}\",\n",
    "    f\"age {r_18_59} ?- ?{r_18_59}\",\n",
    "    f\"ages {r_11_19} ?- ?{r_20_59}\",\n",
    "    f\"aged {r_18_59} ?- ?{r_18_59}\",\n",
    "    f\"age {r_11_19} ?- ?{r_20_59}\",\n",
    "    f\"\\d\\d+,?\\d* female\",\n",
    "    f\"\\d\\d+,?\\d* females\",\n",
    "    f\"\\d\\d+,?\\d* male\",\n",
    "    f\"\\d\\d+,?\\d* males\",\n",
    "    #f\"\\d\\d+,?\\d* people\",\n",
    "    #f\"\\d\\d+,?\\d* persons\",\n",
    "    f\"older than {r_18_49} years\",\n",
    "    f\"{r_18_49} years and above\",\n",
    "    f\"{r_18_49} years old and above\",\n",
    "    f\"above the age of {r_18_49}\",\n",
    "    f\"over the age of {r_18_49}\",\n",
    "    f\"over >{r_18_59} ?years\",\n",
    "    f\"above >{r_18_59} ?years\",\n",
    "]\n",
    "##\n",
    "def is_adult(row):\n",
    "    for kw in negative_kw_adult:\n",
    "        if isinstance(kw, str) and kw in row['tokenized_excerpt']: return False\n",
    "        elif len(kw) == 2 and kw in row['bigram_excerpt']: return False\n",
    "        elif len(kw) == 3 and kw in row['trigram_excerpt']: return False\n",
    "        elif len(kw) == 4 and kw in row['fourgram_excerpt']: return False\n",
    "        elif len(kw) == 5 and kw in row['fivegram_excerpt']: return False\n",
    "        elif len(kw) == 6 and kw in row['sixgram_excerpt']: return False\n",
    "        elif len(kw) == 7 and kw in row['sevengram_excerpt']: return False\n",
    "    for p in adult_patterns:\n",
    "        if re.search(p, row[\"excerpt_pp\"]): return True\n",
    "    for kw in kw_en_adult:\n",
    "        if isinstance(kw, str) and kw in row['tokenized_excerpt']: return True\n",
    "        elif len(kw) == 2 and kw in row['bigram_excerpt']: return True\n",
    "        elif len(kw) == 3 and kw in row['trigram_excerpt']: return True\n",
    "        elif len(kw) == 4 and kw in row['fourgram_excerpt']: return True\n",
    "        elif len(kw) == 5 and kw in row['fivegram_excerpt']: return True\n",
    "        elif len(kw) == 6 and kw in row['sixgram_excerpt']: return True\n",
    "        elif len(kw) == 7 and kw in row['sevengram_excerpt']: return True\n",
    "    return False"
   ]
  },
  {
   "cell_type": "code",
   "execution_count": 13,
   "id": "5abc2010",
   "metadata": {
    "ExecuteTime": {
     "end_time": "2021-12-27T12:10:07.151733Z",
     "start_time": "2021-12-27T12:10:07.137091Z"
    }
   },
   "outputs": [],
   "source": [
    "kw_en_old = [\n",
    "    ('55', 'years', 'and', 'above'),\n",
    "    ('59', 'years', 'and', 'above'),\n",
    "    ('60', 's'),\n",
    "    ('60', 'years'),\n",
    "    ('60', 'years', 'and', 'above'),\n",
    "    '60-year-old',\n",
    "    ('62', 'older'),\n",
    "    ('65', 'years'),\n",
    "    ('65', 'years', 'and', 'above'),\n",
    "    ('70', 'years'),\n",
    "    ('70', 'years', 'and', 'above'),\n",
    "    ('70', '-year-old'),\n",
    "    '70-year-old',\n",
    "    ('75', 'years', 'and', 'above'),\n",
    "    ('80', 'years'),\n",
    "    '80-year-old',\n",
    "    ('above', '65', 'years'),\n",
    "    ('above', '65', 'years', 'of', 'age'),\n",
    "    ('above', '60', 'years'),\n",
    "    ('above', '55', 'years'),\n",
    "    ('above', '70'),\n",
    "    ('above', '80'),\n",
    "    ('above', '59'),\n",
    "    ('above', '70', 'years'),\n",
    "    ('above', '59', 'years'),\n",
    "    ('above', '75', 'years'),\n",
    "    ('above', '60'),\n",
    "    ('above', '65'),\n",
    "    ('adults', 'aged', '65'),\n",
    "    ('adults', 'aged', '70'),\n",
    "    ('aged', 'above', '59'),\n",
    "    ('aged', '80', 'and', 'above'),\n",
    "    ('aged', 'above', '60'),\n",
    "    ('aged', '65'),\n",
    "    ('aged', 'above', '85'),\n",
    "    ('aged', 'above', '55'),\n",
    "    ('aged', '70', 'and', 'above'),\n",
    "    ('aged', '75', 'and', 'above'),\n",
    "    ('aged', 'above', '65'),\n",
    "    ('aged', '80'),\n",
    "    ('aged', 'above', '75'),\n",
    "    ('aged', '70'),\n",
    "    ('aged', 'above', '50'),\n",
    "    ('aged', 'above', '70'),\n",
    "    ('aged', '60', 'and', 'above'),\n",
    "    ('aged', '65', 'and', 'above'),\n",
    "    ('aged', '60'),\n",
    "    ('aged', 'above', '80'),\n",
    "    'ageing',\n",
    "    ('elderly', 'community'),\n",
    "    ('elderly', 'population'),\n",
    "    ('elderly', 'men'),\n",
    "    ('elderly', 'women'),\n",
    "    ('elderly', 'persons'),\n",
    "    'elderly',\n",
    "    ('elderly', 'people'),\n",
    "    ('elders', 'people'),\n",
    "    ('older', 'persons'),\n",
    "    ('older', 'people'),\n",
    "    ('older', 'population'),\n",
    "    ('older', 'person'),\n",
    "    ('older', 'men'),\n",
    "    ('older', 'women'),\n",
    "    ('over', '59'),\n",
    "    ('over', '70', 'years'),\n",
    "    ('over', '59', 'years'),\n",
    "    ('over', '55'),\n",
    "    ('over', '60', 'years', 'old'),\n",
    "    ('over', '80', 'years', 'old'),\n",
    "    ('over', '60'),\n",
    "    ('over', '65', 'years'),\n",
    "    ('over', '60', 'years'),\n",
    "    ('over', '55', 'years'),\n",
    "    ('over', '80', 'years'),\n",
    "    ('people', 'aged', '59'),\n",
    "    ('people', 'over', '65'),\n",
    "    ('people', 'aged', '55'),\n",
    "    ('people', 'aged', '60'),\n",
    "    ('people', 'over', '80'),\n",
    "    ('people', 'over', '70'),\n",
    "    ('the', '59', '+', 'population'),\n",
    "    \"elders\",\n",
    "    ('50', '+', 'years'),\n",
    "    (\"geriatric\", \"population\"),\n",
    "]\n",
    "# list(\n",
    "#     sorted(list(set(kw_en_old)),\n",
    "#            key=lambda x: x if isinstance(x, str) else x[0]))\n",
    "negative_kw_old = []\n",
    "r_59_100 = r\"\\b(100|[6-9][0-9]|59)\\b\"  # 59-100\n",
    "r_50_100 = r\"\\b(100|[6-9][0-9]|5[0-9])\\b\"  # 50-100\n",
    "r_61_100 = r\"\\b(100|[6-9][1-9])\\b\"  # 61-100\n",
    "r_60_100 = r\"\\b(100|[6-9][0-9])\\b\"  # 60-100\n",
    "r_0_59 = r\"\\b(5[0-9]|[0-9][0-9])\\b\"  # 0-59\n",
    "patterns_old = [\n",
    "    f\"between {r_59_100} ?- ?{r_59_100}\",\n",
    "    f\"between {r_50_100} ?- ?{r_61_100}\",\n",
    "    f\"{r_59_100} years and older\",\n",
    "    f\"{r_59_100} years and above\",\n",
    "    f\"{r_59_100} years old and above\",\n",
    "    f\"above {r_59_100} years\",\n",
    "    f\"over {r_59_100} years\",\n",
    "    f\"above the age of {r_50_100}\",\n",
    "    f\"over the age of {r_50_100}\",\n",
    "    f\"between {r_50_100} ?- ?{r_59_100}\",\n",
    "    f\"between {r_50_100} to {r_59_100}\",\n",
    "    f\"between the age of {r_50_100} and {r_59_100}\",\n",
    "    f\"between the ages of {r_50_100} and {r_59_100}\",\n",
    "    f\"the {r_59_100} ?- ?{r_59_100} age\",\n",
    "    f\"{r_50_100} ?- ?{r_61_100} years\",\n",
    "    f\"{r_50_100} to {r_61_100} years\",\n",
    "    f\"{r_50_100}\\+ years\",\n",
    "    f\"{r_60_100} ?-year-old\",\n",
    "    f\"{r_60_100} ?-year-olds\",\n",
    "    f\"{r_50_100} ?- ?{r_61_100} years old\",\n",
    "    f\"{r_50_100} ?- ?{r_61_100} age\",\n",
    "    f\"ages of {r_50_100} ?- ?{r_61_100}\",\n",
    "    f\"ages of {r_50_100} ?- ?{r_61_100}\",\n",
    "    f\"ages of {r_50_100} and {r_61_100}\",\n",
    "    f\"age of {r_50_100} ?- ?{r_61_100}\",\n",
    "    f\"age of {r_50_100} ?- ?{r_61_100}\",\n",
    "    f\"age of {r_60_100} years\",\n",
    "    f\"age {r_60_100}\",\n",
    "    f\"age {r_50_100} ?- ?{r_61_100}\",\n",
    "    f\"ages {r_50_100} ?- ?{r_61_100}\",\n",
    "    f\"aged {r_50_100} ?- ?{r_61_100}\",\n",
    "    f\"age {r_50_100} ?- ?{r_61_100}\",\n",
    "    f\"aged {r_50_100} years and older\",\n",
    "    f\"older than {r_50_100}\",\n",
    "]\n",
    "\n",
    "\n",
    "##\n",
    "def is_old(row):\n",
    "    for kw in negative_kw_old:\n",
    "        if isinstance(kw, str) and kw in row['tokenized_excerpt']: return False\n",
    "        elif len(kw) == 2 and kw in row['bigram_excerpt']: return False\n",
    "        elif len(kw) == 3 and kw in row['trigram_excerpt']: return False\n",
    "        elif len(kw) == 4 and kw in row['fourgram_excerpt']: return False\n",
    "        elif len(kw) == 5 and kw in row['fivegram_excerpt']: return False\n",
    "        elif len(kw) == 6 and kw in row['sixgram_excerpt']: return False\n",
    "        elif len(kw) == 7 and kw in row['sevengram_excerpt']: return False\n",
    "    for p in patterns_old:\n",
    "        if re.search(p, row[\"excerpt_pp\"]): return True\n",
    "    for kw in kw_en_old:\n",
    "        if isinstance(kw, str) and kw in row['tokenized_excerpt']: return True\n",
    "        elif len(kw) == 2 and kw in row['bigram_excerpt']: return True\n",
    "        elif len(kw) == 3 and kw in row['trigram_excerpt']: return True\n",
    "        elif len(kw) == 4 and kw in row['fourgram_excerpt']: return True\n",
    "        elif len(kw) == 5 and kw in row['fivegram_excerpt']: return True\n",
    "        elif len(kw) == 6 and kw in row['sixgram_excerpt']: return True\n",
    "        elif len(kw) == 7 and kw in row['sevengram_excerpt']: return True\n",
    "    return False"
   ]
  },
  {
   "cell_type": "code",
   "execution_count": 14,
   "id": "1f0dbdda",
   "metadata": {
    "ExecuteTime": {
     "end_time": "2021-12-27T12:14:48.553200Z",
     "start_time": "2021-12-27T12:10:20.023040Z"
    }
   },
   "outputs": [
    {
     "data": {
      "application/vnd.jupyter.widget-view+json": {
       "model_id": "456be251e5794763b747dd2b61b24c67",
       "version_major": 2,
       "version_minor": 0
      },
      "text/plain": [
       "  0%|          | 0/126323 [00:00<?, ?it/s]"
      ]
     },
     "metadata": {},
     "output_type": "display_data"
    },
    {
     "data": {
      "application/vnd.jupyter.widget-view+json": {
       "model_id": "14d3eae2567e49e0acc4c5172ceb55c5",
       "version_major": 2,
       "version_minor": 0
      },
      "text/plain": [
       "  0%|          | 0/126323 [00:00<?, ?it/s]"
      ]
     },
     "metadata": {},
     "output_type": "display_data"
    },
    {
     "data": {
      "application/vnd.jupyter.widget-view+json": {
       "model_id": "b905e6b5ca284bbe898a3d42a7df3364",
       "version_major": 2,
       "version_minor": 0
      },
      "text/plain": [
       "  0%|          | 0/126323 [00:00<?, ?it/s]"
      ]
     },
     "metadata": {},
     "output_type": "display_data"
    },
    {
     "data": {
      "application/vnd.jupyter.widget-view+json": {
       "model_id": "385cd66aec6b41eda0dddd688051ad5c",
       "version_major": 2,
       "version_minor": 0
      },
      "text/plain": [
       "  0%|          | 0/126323 [00:00<?, ?it/s]"
      ]
     },
     "metadata": {},
     "output_type": "display_data"
    },
    {
     "data": {
      "application/vnd.jupyter.widget-view+json": {
       "model_id": "c6e29c2566464cb48d41dbb297540d2d",
       "version_major": 2,
       "version_minor": 0
      },
      "text/plain": [
       "  0%|          | 0/126323 [00:00<?, ?it/s]"
      ]
     },
     "metadata": {},
     "output_type": "display_data"
    },
    {
     "data": {
      "application/vnd.jupyter.widget-view+json": {
       "model_id": "907ceb55393a48f8b3094a2f4674846d",
       "version_major": 2,
       "version_minor": 0
      },
      "text/plain": [
       "  0%|          | 0/126323 [00:00<?, ?it/s]"
      ]
     },
     "metadata": {},
     "output_type": "display_data"
    },
    {
     "data": {
      "application/vnd.jupyter.widget-view+json": {
       "model_id": "5a37d7afac1e4d148bdd7acac2def5d2",
       "version_major": 2,
       "version_minor": 0
      },
      "text/plain": [
       "  0%|          | 0/126323 [00:00<?, ?it/s]"
      ]
     },
     "metadata": {},
     "output_type": "display_data"
    },
    {
     "data": {
      "application/vnd.jupyter.widget-view+json": {
       "model_id": "7a11174e4145479cb1da33668515d502",
       "version_major": 2,
       "version_minor": 0
      },
      "text/plain": [
       "  0%|          | 0/126323 [00:00<?, ?it/s]"
      ]
     },
     "metadata": {},
     "output_type": "display_data"
    }
   ],
   "source": [
    "# preprocess\n",
    "df_train[\"excerpt_pp\"] = df_train[\"translation_en\"].progress_apply(preprocess)\n",
    "# tokenize and cacl ngrams\n",
    "df_train[\"tokenized_excerpt\"] = df_train[\"translation_en\"].progress_apply(preprocess_and_tokenize)\n",
    "df_train[\"bigram_excerpt\"] = df_train[\"translation_en\"].progress_apply(lambda x: preprocess_and_tokenize(x, 2))\n",
    "df_train[\"trigram_excerpt\"] = df_train[\"translation_en\"].progress_apply(lambda x: preprocess_and_tokenize(x, 3))\n",
    "df_train[\"fourgram_excerpt\"] = df_train[\"translation_en\"].progress_apply(lambda x: preprocess_and_tokenize(x, 4))\n",
    "df_train[\"fivegram_excerpt\"] = df_train[\"translation_en\"].progress_apply(lambda x: preprocess_and_tokenize(x, 5))\n",
    "df_train[\"sixgram_excerpt\"] = df_train[\"translation_en\"].progress_apply(lambda x: preprocess_and_tokenize(x, 6))\n",
    "df_train[\"sevengram_excerpt\"] = df_train[\"translation_en\"].progress_apply(lambda x: preprocess_and_tokenize(x, 7))"
   ]
  },
  {
   "cell_type": "code",
   "execution_count": 15,
   "id": "7cb82e1e",
   "metadata": {
    "ExecuteTime": {
     "end_time": "2021-12-27T12:15:24.490445Z",
     "start_time": "2021-12-27T12:14:49.708695Z"
    }
   },
   "outputs": [
    {
     "data": {
      "application/vnd.jupyter.widget-view+json": {
       "model_id": "c7fe67734b55435797477fefb1a52c17",
       "version_major": 2,
       "version_minor": 0
      },
      "text/plain": [
       "  0%|          | 0/14425 [00:00<?, ?it/s]"
      ]
     },
     "metadata": {},
     "output_type": "display_data"
    },
    {
     "data": {
      "application/vnd.jupyter.widget-view+json": {
       "model_id": "ec64442ac1d84f8fb79aa7ef57ce50d4",
       "version_major": 2,
       "version_minor": 0
      },
      "text/plain": [
       "  0%|          | 0/14425 [00:00<?, ?it/s]"
      ]
     },
     "metadata": {},
     "output_type": "display_data"
    },
    {
     "data": {
      "application/vnd.jupyter.widget-view+json": {
       "model_id": "e6b07743c9e746648791f359af4dec7b",
       "version_major": 2,
       "version_minor": 0
      },
      "text/plain": [
       "  0%|          | 0/14425 [00:00<?, ?it/s]"
      ]
     },
     "metadata": {},
     "output_type": "display_data"
    },
    {
     "data": {
      "application/vnd.jupyter.widget-view+json": {
       "model_id": "8d46f54b0d43405d9dae7d14da7de0be",
       "version_major": 2,
       "version_minor": 0
      },
      "text/plain": [
       "  0%|          | 0/14425 [00:00<?, ?it/s]"
      ]
     },
     "metadata": {},
     "output_type": "display_data"
    },
    {
     "data": {
      "application/vnd.jupyter.widget-view+json": {
       "model_id": "a1369f2a859b401a9645535a69406cf2",
       "version_major": 2,
       "version_minor": 0
      },
      "text/plain": [
       "  0%|          | 0/14425 [00:00<?, ?it/s]"
      ]
     },
     "metadata": {},
     "output_type": "display_data"
    },
    {
     "data": {
      "application/vnd.jupyter.widget-view+json": {
       "model_id": "3ea1902acd3449ada7b022efdfc420ed",
       "version_major": 2,
       "version_minor": 0
      },
      "text/plain": [
       "  0%|          | 0/14425 [00:00<?, ?it/s]"
      ]
     },
     "metadata": {},
     "output_type": "display_data"
    },
    {
     "data": {
      "application/vnd.jupyter.widget-view+json": {
       "model_id": "0e8adba2d0d540649465df71363699af",
       "version_major": 2,
       "version_minor": 0
      },
      "text/plain": [
       "  0%|          | 0/14425 [00:00<?, ?it/s]"
      ]
     },
     "metadata": {},
     "output_type": "display_data"
    },
    {
     "data": {
      "application/vnd.jupyter.widget-view+json": {
       "model_id": "107dd5348fba44be9aa6751f75f71448",
       "version_major": 2,
       "version_minor": 0
      },
      "text/plain": [
       "  0%|          | 0/14425 [00:00<?, ?it/s]"
      ]
     },
     "metadata": {},
     "output_type": "display_data"
    }
   ],
   "source": [
    "# preprocess\n",
    "df_val[\"excerpt_pp\"] = df_val[\"translation_en\"].progress_apply(preprocess)\n",
    "# tokenize and cacl ngrams\n",
    "df_val[\"tokenized_excerpt\"] = df_val[\"translation_en\"].progress_apply(preprocess_and_tokenize)\n",
    "df_val[\"bigram_excerpt\"] = df_val[\"translation_en\"].progress_apply(lambda x: preprocess_and_tokenize(x, 2))\n",
    "df_val[\"trigram_excerpt\"] = df_val[\"translation_en\"].progress_apply(lambda x: preprocess_and_tokenize(x, 3))\n",
    "df_val[\"fourgram_excerpt\"] = df_val[\"translation_en\"].progress_apply(lambda x: preprocess_and_tokenize(x, 4))\n",
    "df_val[\"fivegram_excerpt\"] = df_val[\"translation_en\"].progress_apply(lambda x: preprocess_and_tokenize(x, 5))\n",
    "df_val[\"sixgram_excerpt\"] = df_val[\"translation_en\"].progress_apply(lambda x: preprocess_and_tokenize(x, 6))\n",
    "df_val[\"sevengram_excerpt\"] = df_val[\"translation_en\"].progress_apply(lambda x: preprocess_and_tokenize(x, 7))"
   ]
  },
  {
   "cell_type": "code",
   "execution_count": 17,
   "id": "cd72ae78",
   "metadata": {
    "ExecuteTime": {
     "end_time": "2021-12-27T12:16:03.939751Z",
     "start_time": "2021-12-27T12:15:26.381335Z"
    }
   },
   "outputs": [
    {
     "data": {
      "application/vnd.jupyter.widget-view+json": {
       "model_id": "0eb07611818c4c2ab2d95f5b9d9a1a4d",
       "version_major": 2,
       "version_minor": 0
      },
      "text/plain": [
       "  0%|          | 0/17200 [00:00<?, ?it/s]"
      ]
     },
     "metadata": {},
     "output_type": "display_data"
    },
    {
     "data": {
      "application/vnd.jupyter.widget-view+json": {
       "model_id": "e1015d087a1941fba277485674c9d521",
       "version_major": 2,
       "version_minor": 0
      },
      "text/plain": [
       "  0%|          | 0/17200 [00:00<?, ?it/s]"
      ]
     },
     "metadata": {},
     "output_type": "display_data"
    },
    {
     "data": {
      "application/vnd.jupyter.widget-view+json": {
       "model_id": "db5f07649a9f4d6a957436c5dfbe404c",
       "version_major": 2,
       "version_minor": 0
      },
      "text/plain": [
       "  0%|          | 0/17200 [00:00<?, ?it/s]"
      ]
     },
     "metadata": {},
     "output_type": "display_data"
    },
    {
     "data": {
      "application/vnd.jupyter.widget-view+json": {
       "model_id": "4d4685f2d5cf47de9de7ecda8622d0f8",
       "version_major": 2,
       "version_minor": 0
      },
      "text/plain": [
       "  0%|          | 0/17200 [00:00<?, ?it/s]"
      ]
     },
     "metadata": {},
     "output_type": "display_data"
    },
    {
     "data": {
      "application/vnd.jupyter.widget-view+json": {
       "model_id": "4232e0efd46945f1b1b6244ba7ea1445",
       "version_major": 2,
       "version_minor": 0
      },
      "text/plain": [
       "  0%|          | 0/17200 [00:00<?, ?it/s]"
      ]
     },
     "metadata": {},
     "output_type": "display_data"
    },
    {
     "data": {
      "application/vnd.jupyter.widget-view+json": {
       "model_id": "1d38939db5324b069706851d79937cab",
       "version_major": 2,
       "version_minor": 0
      },
      "text/plain": [
       "  0%|          | 0/17200 [00:00<?, ?it/s]"
      ]
     },
     "metadata": {},
     "output_type": "display_data"
    },
    {
     "data": {
      "application/vnd.jupyter.widget-view+json": {
       "model_id": "3b78e7509fe04a44bbbecf0ab9a547a6",
       "version_major": 2,
       "version_minor": 0
      },
      "text/plain": [
       "  0%|          | 0/17200 [00:00<?, ?it/s]"
      ]
     },
     "metadata": {},
     "output_type": "display_data"
    },
    {
     "data": {
      "application/vnd.jupyter.widget-view+json": {
       "model_id": "8ee9d75a68e347c794474f6df3f92bdd",
       "version_major": 2,
       "version_minor": 0
      },
      "text/plain": [
       "  0%|          | 0/17200 [00:00<?, ?it/s]"
      ]
     },
     "metadata": {},
     "output_type": "display_data"
    }
   ],
   "source": [
    "# preprocess\n",
    "df_test[\"excerpt_pp\"] = df_test[\"translation_en\"].progress_apply(preprocess)\n",
    "# tokenize and cacl ngrams\n",
    "df_test[\"tokenized_excerpt\"] = df_test[\"translation_en\"].progress_apply(preprocess_and_tokenize)\n",
    "df_test[\"bigram_excerpt\"] = df_test[\"translation_en\"].progress_apply(lambda x: preprocess_and_tokenize(x, 2))\n",
    "df_test[\"trigram_excerpt\"] = df_test[\"translation_en\"].progress_apply(lambda x: preprocess_and_tokenize(x, 3))\n",
    "df_test[\"fourgram_excerpt\"] = df_test[\"translation_en\"].progress_apply(lambda x: preprocess_and_tokenize(x, 4))\n",
    "df_test[\"fivegram_excerpt\"] = df_test[\"translation_en\"].progress_apply(lambda x: preprocess_and_tokenize(x, 5))\n",
    "df_test[\"sixgram_excerpt\"] = df_test[\"translation_en\"].progress_apply(lambda x: preprocess_and_tokenize(x, 6))\n",
    "df_test[\"sevengram_excerpt\"] = df_test[\"translation_en\"].progress_apply(lambda x: preprocess_and_tokenize(x, 7))"
   ]
  },
  {
   "cell_type": "code",
   "execution_count": 18,
   "id": "4b08315e",
   "metadata": {
    "ExecuteTime": {
     "end_time": "2021-12-27T12:16:07.156923Z",
     "start_time": "2021-12-27T12:16:07.154819Z"
    }
   },
   "outputs": [],
   "source": [
    "INFANT = 'Infants/Toddlers (<5 years old)'\n",
    "CHILD = 'Children/Youth (5 to 17 years old)'\n",
    "ADULT = 'Adult (18 to 59 years old)'\n",
    "OLD = 'Older Persons (60+ years old)'"
   ]
  },
  {
   "cell_type": "code",
   "execution_count": 19,
   "id": "f6facf2a",
   "metadata": {
    "ExecuteTime": {
     "end_time": "2021-12-27T12:16:10.393993Z",
     "start_time": "2021-12-27T12:16:10.391371Z"
    }
   },
   "outputs": [],
   "source": [
    "def pred_age(row):\n",
    "    lbls = []\n",
    "    if is_infant(row):\n",
    "        lbls.append(INFANT)\n",
    "    if is_child(row):\n",
    "        lbls.append(CHILD)\n",
    "    if is_adult(row):\n",
    "        lbls.append(ADULT)\n",
    "    if is_old(row):\n",
    "        lbls.append(OLD)\n",
    "    return lbls"
   ]
  },
  {
   "cell_type": "code",
   "execution_count": 20,
   "id": "03704f41",
   "metadata": {
    "ExecuteTime": {
     "end_time": "2021-12-27T12:24:10.036508Z",
     "start_time": "2021-12-27T12:24:09.972088Z"
    }
   },
   "outputs": [
    {
     "data": {
      "text/plain": [
       "'In 2018, UNHCR provided solutions to 2,520 refugees and asylum-seekers. Since 1 September 2017, 701 individuals were submitted for resettlement to 8 States (Canada, France, Germany, Italy, Netherlands, Norway, Sweden, Switzerland). A total of 70 individuals departed on resettlement directly from Libya to Canada, France, Sweden and the Netherlands. A total of 10 individuals have been accepted for resettlement and are pending departure directly from Libya to Sweden. In addition, a total of 1,858 persons (including unaccompanied children) were evacuated to Niger (1,536), Italy (312) and the Romania (10). Currently, the total remaining capacity to accommodate evacuees in the Emergency Transit Mechanism in Niamey is 322 persons.'"
      ]
     },
     "execution_count": 20,
     "metadata": {},
     "output_type": "execute_result"
    }
   ],
   "source": [
    "i = 11255\n",
    "row = df_test[df_test['entry_id'].eq(i)].iloc[0]\n",
    "row[\"excerpt\"]"
   ]
  },
  {
   "cell_type": "code",
   "execution_count": 21,
   "id": "40a5330e",
   "metadata": {
    "ExecuteTime": {
     "end_time": "2021-12-27T12:24:58.499837Z",
     "start_time": "2021-12-27T12:24:58.492034Z"
    }
   },
   "outputs": [],
   "source": [
    "x = \"sth\"\n",
    "for kw in negative_kw_child:\n",
    "    if isinstance(kw, str) and kw in row['tokenized_excerpt']: x = False\n",
    "    elif len(kw) == 2 and kw in row['bigram_excerpt']: x= False\n",
    "    elif len(kw) == 3 and kw in row['trigram_excerpt']: x= False\n",
    "    elif len(kw) == 4 and kw in row['fourgram_excerpt']: x= False\n",
    "    elif len(kw) == 5 and kw in row['fivegram_excerpt']: x= False\n",
    "    elif len(kw) == 6 and kw in row['sixgram_excerpt']: x= False\n",
    "    elif len(kw) == 7 and kw in row['sevengram_excerpt']: x= False\n",
    "for p in child_patterns:\n",
    "    if re.search(p, row[\"excerpt_pp\"]): x= True\n",
    "for kw in kw_en_child:\n",
    "    if isinstance(kw, str) and kw in row['tokenized_excerpt']: x= True\n",
    "    elif len(kw) == 2 and kw in row['bigram_excerpt']: x= True\n",
    "    elif len(kw) == 3 and kw in row['trigram_excerpt']: x= True\n",
    "    elif len(kw) == 4 and kw in row['fourgram_excerpt']: x= True\n",
    "    elif len(kw) == 5 and kw in row['fivegram_excerpt']: x= True\n",
    "    elif len(kw) == 6 and kw in row['sixgram_excerpt']: x= True\n",
    "    elif len(kw) == 7 and kw in row['sevengram_excerpt']: x= True\n",
    "# x=False"
   ]
  },
  {
   "cell_type": "code",
   "execution_count": 22,
   "id": "d3cc8ceb",
   "metadata": {
    "ExecuteTime": {
     "end_time": "2021-12-27T13:07:33.210678Z",
     "start_time": "2021-12-27T13:07:33.198999Z"
    }
   },
   "outputs": [
    {
     "data": {
      "text/plain": [
       "True"
      ]
     },
     "execution_count": 22,
     "metadata": {},
     "output_type": "execute_result"
    }
   ],
   "source": [
    "is_child(row)"
   ]
  },
  {
   "cell_type": "code",
   "execution_count": 23,
   "id": "4ccfb4cf",
   "metadata": {
    "ExecuteTime": {
     "end_time": "2021-12-27T08:48:47.836021Z",
     "start_time": "2021-12-27T08:45:31.745924Z"
    },
    "scrolled": true
   },
   "outputs": [
    {
     "data": {
      "application/vnd.jupyter.widget-view+json": {
       "model_id": "9f2d56592314429c929c6cd76b996ed3",
       "version_major": 2,
       "version_minor": 0
      },
      "text/plain": [
       "  0%|          | 0/126323 [00:00<?, ?it/s]"
      ]
     },
     "metadata": {},
     "output_type": "display_data"
    }
   ],
   "source": [
    "df_train[\"age_kw_pred\"] = df_train.progress_apply(pred_age, axis=1)"
   ]
  },
  {
   "cell_type": "code",
   "execution_count": 24,
   "id": "c408ad58",
   "metadata": {
    "ExecuteTime": {
     "end_time": "2021-12-27T08:49:15.851336Z",
     "start_time": "2021-12-27T08:48:50.032331Z"
    }
   },
   "outputs": [
    {
     "data": {
      "application/vnd.jupyter.widget-view+json": {
       "model_id": "b0663b387424441abe218640e41d8866",
       "version_major": 2,
       "version_minor": 0
      },
      "text/plain": [
       "  0%|          | 0/14425 [00:00<?, ?it/s]"
      ]
     },
     "metadata": {},
     "output_type": "display_data"
    }
   ],
   "source": [
    "df_val[\"age_kw_pred\"] = df_val.progress_apply(pred_age, axis=1)"
   ]
  },
  {
   "cell_type": "code",
   "execution_count": 25,
   "id": "966feb65",
   "metadata": {
    "ExecuteTime": {
     "end_time": "2021-12-27T13:10:41.191589Z",
     "start_time": "2021-12-27T13:10:12.819758Z"
    }
   },
   "outputs": [
    {
     "data": {
      "application/vnd.jupyter.widget-view+json": {
       "model_id": "9e1941351a1e40ca848455d22bbdd639",
       "version_major": 2,
       "version_minor": 0
      },
      "text/plain": [
       "  0%|          | 0/17200 [00:00<?, ?it/s]"
      ]
     },
     "metadata": {},
     "output_type": "display_data"
    }
   ],
   "source": [
    "df_test[\"age_kw_pred\"] = df_test.progress_apply(pred_age, axis=1)"
   ]
  },
  {
   "cell_type": "code",
   "execution_count": 50,
   "id": "81bcbdf2",
   "metadata": {
    "ExecuteTime": {
     "end_time": "2021-12-27T13:47:38.213373Z",
     "start_time": "2021-12-27T13:47:38.203076Z"
    }
   },
   "outputs": [
    {
     "data": {
      "text/plain": [
       "Index(['entry_id', 'excerpt', 'age', 'lang', 'translation_en',\n",
       "       'translation_fr', 'translation_es', 'excerpt_pp', 'tokenized_excerpt',\n",
       "       'bigram_excerpt', 'trigram_excerpt', 'fourgram_excerpt',\n",
       "       'fivegram_excerpt', 'sixgram_excerpt', 'sevengram_excerpt',\n",
       "       'age_kw_pred'],\n",
       "      dtype='object')"
      ]
     },
     "execution_count": 50,
     "metadata": {},
     "output_type": "execute_result"
    }
   ],
   "source": [
    "df_test.columns"
   ]
  },
  {
   "cell_type": "code",
   "execution_count": 26,
   "id": "9d5f086b",
   "metadata": {
    "ExecuteTime": {
     "end_time": "2021-12-27T13:47:51.044101Z",
     "start_time": "2021-12-27T13:47:50.901013Z"
    }
   },
   "outputs": [],
   "source": [
    "df_train.to_csv(\"train_0.7.1_keyword_age.csv\",\n",
    "               index=False,\n",
    "               columns=['entry_id', 'age_kw_pred'])\n",
    "##\n",
    "df_val.to_csv(\"val_0.7.1_keyword_age.csv\",\n",
    "               index=False,\n",
    "               columns=['entry_id', 'age_kw_pred'])\n",
    "##\n",
    "df_test.to_csv(\"test_0.7.1_keyword_age.csv\",\n",
    "               index=False,\n",
    "               columns=['entry_id', 'age_kw_pred'])"
   ]
  },
  {
   "cell_type": "code",
   "execution_count": 23,
   "id": "568ef7a3",
   "metadata": {
    "ExecuteTime": {
     "end_time": "2021-12-27T08:49:47.149661Z",
     "start_time": "2021-12-27T08:49:47.135384Z"
    }
   },
   "outputs": [
    {
     "data": {
      "text/plain": [
       "(95919, (126323, 16))"
      ]
     },
     "execution_count": 23,
     "metadata": {},
     "output_type": "execute_result"
    }
   ],
   "source": [
    "(df_train[\"age_kw_pred\"] == df_train[\"age\"]).sum(), df_train.shape"
   ]
  },
  {
   "cell_type": "code",
   "execution_count": 24,
   "id": "8255546e",
   "metadata": {
    "ExecuteTime": {
     "end_time": "2021-12-27T08:49:49.228078Z",
     "start_time": "2021-12-27T08:49:49.223804Z"
    }
   },
   "outputs": [
    {
     "data": {
      "text/plain": [
       "(10689, (14425, 16))"
      ]
     },
     "execution_count": 24,
     "metadata": {},
     "output_type": "execute_result"
    }
   ],
   "source": [
    "(df_val[\"age_kw_pred\"] == df_val[\"age\"]).sum(), df_val.shape"
   ]
  },
  {
   "cell_type": "code",
   "execution_count": 25,
   "id": "f96cdbf9",
   "metadata": {
    "ExecuteTime": {
     "end_time": "2021-12-27T08:49:51.356204Z",
     "start_time": "2021-12-27T08:49:51.351266Z"
    }
   },
   "outputs": [
    {
     "data": {
      "text/plain": [
       "(12843, (14425, 16))"
      ]
     },
     "execution_count": 25,
     "metadata": {},
     "output_type": "execute_result"
    }
   ],
   "source": [
    "(df_test[\"age_kw_pred\"] == df_test[\"age\"]).sum(), df_val.shape"
   ]
  },
  {
   "cell_type": "markdown",
   "id": "4f0170a3",
   "metadata": {},
   "source": [
    "### Create a test set"
   ]
  },
  {
   "cell_type": "code",
   "execution_count": 26,
   "id": "46dd6962",
   "metadata": {
    "ExecuteTime": {
     "end_time": "2021-12-27T08:49:53.424289Z",
     "start_time": "2021-12-27T08:49:53.422117Z"
    }
   },
   "outputs": [],
   "source": [
    "import random\n",
    "import numpy as np\n",
    "random.seed(2021)\n",
    "np.random.seed(2021)"
   ]
  },
  {
   "cell_type": "code",
   "execution_count": 27,
   "id": "34d523b9",
   "metadata": {
    "ExecuteTime": {
     "end_time": "2021-12-27T08:49:55.534287Z",
     "start_time": "2021-12-27T08:49:55.512482Z"
    }
   },
   "outputs": [
    {
     "data": {
      "text/plain": [
       "(2739, 16)"
      ]
     },
     "execution_count": 27,
     "metadata": {},
     "output_type": "execute_result"
    }
   ],
   "source": [
    "df_test[(df_test[\"age_kw_pred\"] != df_test[\"age\"]) & (df_test[\"age_kw_pred\"].apply(lambda x: x!=[]))  & (df_test[\"age\"].apply(lambda x: x==[]))].shape"
   ]
  },
  {
   "cell_type": "code",
   "execution_count": 28,
   "id": "800461b7",
   "metadata": {
    "ExecuteTime": {
     "end_time": "2021-12-27T08:49:57.655581Z",
     "start_time": "2021-12-27T08:49:57.605718Z"
    }
   },
   "outputs": [
    {
     "data": {
      "text/plain": [
       "(250, 16)"
      ]
     },
     "execution_count": 28,
     "metadata": {},
     "output_type": "execute_result"
    }
   ],
   "source": [
    "df_part_1 = df_test[(df_test[\"age_kw_pred\"] == df_test[\"age\"]) & (df_test[\"age_kw_pred\"].apply(lambda x: x!=[]))  & (df_test[\"age\"].apply(lambda x: x!=[]))].sample(n=50, replace=False)\n",
    "#df_part_2 = df_test[(df_test[\"age_kw_pred\"] == df_test[\"age\"]) & (df_test[\"age_kw_pred\"].apply(lambda x: x==[]))  & (df_test[\"age\"].apply(lambda x: x!=[]))].sample(n=10)\n",
    "#df_part_3 = df_test[(df_test[\"age_kw_pred\"] == df_test[\"age\"]) & (df_test[\"age_kw_pred\"].apply(lambda x: x!=[]))  & (df_test[\"age\"].apply(lambda x: x==[]))].sample(n=10)\n",
    "df_part_4 = df_test[(df_test[\"age_kw_pred\"] == df_test[\"age\"]) & (df_test[\"age_kw_pred\"].apply(lambda x: x==[]))  & (df_test[\"age\"].apply(lambda x: x==[]))].sample(n=50, replace=False)\n",
    "##\n",
    "df_part_5 = df_test[(df_test[\"age_kw_pred\"] != df_test[\"age\"]) & (df_test[\"age_kw_pred\"].apply(lambda x: x!=[]))  & (df_test[\"age\"].apply(lambda x: x!=[]))].sample(n=50, replace=False)\n",
    "df_part_6 = df_test[(df_test[\"age_kw_pred\"] != df_test[\"age\"]) & (df_test[\"age_kw_pred\"].apply(lambda x: x==[]))  & (df_test[\"age\"].apply(lambda x: x!=[]))].sample(n=50, replace=False)\n",
    "df_part_7 = df_test[(df_test[\"age_kw_pred\"] != df_test[\"age\"]) & (df_test[\"age_kw_pred\"].apply(lambda x: x!=[]))  & (df_test[\"age\"].apply(lambda x: x==[]))].sample(n=50, replace=False)\n",
    "#df_part_8 = df_test[(df_test[\"age_kw_pred\"] != df_test[\"age\"]) & (df_test[\"age_kw_pred\"].apply(lambda x: x==[]))  & (df_test[\"age\"].apply(lambda x: x==[]))].sample(n=50)\n",
    "##\n",
    "df_test_to_be_tagged = pd.concat([df_part_1, df_part_4, df_part_5, df_part_6, df_part_7], axis=0).sample(frac=1., replace=False)\n",
    "df_test_to_be_tagged.shape"
   ]
  },
  {
   "cell_type": "code",
   "execution_count": 30,
   "id": "0d10e08d",
   "metadata": {
    "ExecuteTime": {
     "end_time": "2021-12-27T08:55:45.977507Z",
     "start_time": "2021-12-27T08:55:45.958815Z"
    }
   },
   "outputs": [],
   "source": [
    "df_test_to_be_tagged[['entry_id', \"translation_en\",\n",
    "                      \"age_kw_pred\"]].to_csv(\"kw_tagged_test_taggers.csv\",\n",
    "                                             index=False)"
   ]
  },
  {
   "cell_type": "code",
   "execution_count": 61,
   "id": "3920ae83",
   "metadata": {},
   "outputs": [
    {
     "data": {
      "text/html": [
       "<table border=\"1\" class=\"dataframe\">\n",
       "  <thead>\n",
       "    <tr style=\"text-align: right;\">\n",
       "      <th></th>\n",
       "      <th>translation_en</th>\n",
       "      <th>age_kw_pred</th>\n",
       "    </tr>\n",
       "  </thead>\n",
       "  <tbody>\n",
       "    <tr>\n",
       "      <th>12135</th>\n",
       "      <td>In response to the needs faced by migrant children, the Ecuador Red Cross implements 14 safe spaces in 11 provinces across the country. It also has additional mobile safe spaces it deploys when the number of migrants increase. The mobile spaces support children as they walk for long distances in hard to access locations.</td>\n",
       "      <td>[Children/Youth (5 to 17 years old)]</td>\n",
       "    </tr>\n",
       "    <tr>\n",
       "      <th>13935</th>\n",
       "      <td>The situation of gender-based violence (VBG) in the region has grown with the safe crisis. In this month, two incidents of rapes were perpetrated against women by a non-state armed group (Gane) in the municipality of Matiacoali, province of Gourma. Indeed, during the night of 31/05/2021, a gane burst into the village of Ougarou in Matiacoali in a courtyard where two women aged about 26 and 29 years old were removed and raped. They were then released in the morning of the next day.</td>\n",
       "      <td>[Adult (18 to 59 years old)]</td>\n",
       "    </tr>\n",
       "    <tr>\n",
       "      <th>11103</th>\n",
       "      <td>69 percent of in-school Colombians and 65 percent of in-school Venezuelans performed only at or below the benchmark for ORF. Similarly, for reading comprehension, 64 percent of in-school Colombians, 61 percent of in-school Venezuelans and 86 percent of OOS Venezuelans fell below the benchmark.</td>\n",
       "      <td>[Children/Youth (5 to 17 years old)]</td>\n",
       "    </tr>\n",
       "    <tr>\n",
       "      <th>5728</th>\n",
       "      <td>Vulnerabilites: Discontinuation of education and or learning opportunities (short, medium &amp; longterm) and vaccination and other childhood care including ECD (early childhood development); • Food shortage/security, resulting in malnutrition; • Domestic violence, abuse, child labour and involvement in crime for livelihood (mugging/snatching, commercial sex, drug courier). • Trafficking</td>\n",
       "      <td>[Children/Youth (5 to 17 years old)]</td>\n",
       "    </tr>\n",
       "    <tr>\n",
       "      <th>16840</th>\n",
       "      <td>According to the UN, Al-Shabaab remains the main threat to security and stability in Somalia today. The group exerts effective control over large parts of rural areas in southern and central Somalia. Al-Shabaab has resorted to largely asymmetrical means of warfare, such as suicide attacks and the use of improvised explosive devices (IEDs). Its presence has exacerbated unrest in Somalia and represents a specific threat to children, between 2016 and 2019 Al-Shabaab committed 10,462 grave violations against children. During the same period2,916 children were killed or maimed in armed violence in Somalia. In 2019 alone, some 222 children were killed and 481 were maimeddue to armed conflict in Somalia, the majority of which were perpetrated by Al-Shabaab.</td>\n",
       "      <td>[Children/Youth (5 to 17 years old)]</td>\n",
       "    </tr>\n",
       "    <tr>\n",
       "      <th>3653</th>\n",
       "      <td>Saint Vincent del Caganá is a non-Covid municipality, but 86 percent of families declare not to be willing to bring their children to school under the alternating model</td>\n",
       "      <td>[Children/Youth (5 to 17 years old)]</td>\n",
       "    </tr>\n",
       "    <tr>\n",
       "      <th>17060</th>\n",
       "      <td>Lack of education, secure employment and life prospects combine to drive young men and women onward across borders, towards Egypt, Libya and Europe.</td>\n",
       "      <td>[Adult (18 to 59 years old)]</td>\n",
       "    </tr>\n",
       "    <tr>\n",
       "      <th>6966</th>\n",
       "      <td>UNICEF continued to strengthen interventions to protect Almajiri children and support their family reunification in the northern states as well as enhancing community engagement to address violence against children, FGM and other protection concerns affecting during the COVID-19 pandemic.</td>\n",
       "      <td>[Children/Youth (5 to 17 years old)]</td>\n",
       "    </tr>\n",
       "    <tr>\n",
       "      <th>3369</th>\n",
       "      <td>In 2016 and 2017, the Constitutional Court of Colombia concluded that corruption was one of the main factors that affected the access of children to water, school feeding programs and health services in La Guajira. The Court determined that the hiring of these services was carried out with little transparency and pointed out that the Prosecutor's Office, the Attorney General's Office should prioritize the measures to sanction corruption in the department.</td>\n",
       "      <td>[Children/Youth (5 to 17 years old)]</td>\n",
       "    </tr>\n",
       "    <tr>\n",
       "      <th>9678</th>\n",
       "      <td>[1st -31st Oct 2020, North east Nigeria]In October 2020, a total of 189 boys and girls aged 6-59 months were screened from UNICEF-supported reception centers in IDP Camps across hard to reach areas of Bama, Gwoza, Mobbar and Ngala LGAs of Borno state. Out of the 189 children, 11 (5.8%) were found with SAM while 15 (7.9%) were found with MAM. A total of 47 (25%%) were from other accessible LGAs, 105 (55%) came from neighboring countries of Niger, Cameroon and Chad while the remaining 37 (20%) were from inaccessible locations. All children with SAM were enrolled in the therapeutic feeding and treatment service delivery sites</td>\n",
       "      <td>[Infants/Toddlers (&lt;5 years old)]</td>\n",
       "    </tr>\n",
       "    <tr>\n",
       "      <th>11623</th>\n",
       "      <td>Audio del Vice Minister of Health, Luis Alexander Moscoso Bogotá, August 3, 2021 - The Ministry of Health and Social Protection led the launching results of the Longitance Survey of Women from Venezuela in Colombia, first study of this dimension in The country, which was carried out by the University of the North, with the support of the United States Agency for International Development (USAID) and the World Organization for Migration (IOM), and that will serve for the design of public policies for this population.</td>\n",
       "      <td>[Adult (18 to 59 years old)]</td>\n",
       "    </tr>\n",
       "    <tr>\n",
       "      <th>8614</th>\n",
       "      <td>MRM Trends for First Quarter 2021: During the first quarter of the year, 602 serious violations of the rights of children were verified. Most violations have been committed and recorded in North Kivu (262) and Ituri (177).</td>\n",
       "      <td>[Children/Youth (5 to 17 years old)]</td>\n",
       "    </tr>\n",
       "    <tr>\n",
       "      <th>9359</th>\n",
       "      <td>[16th Mar 2021, North east Nigeria]The formal education sector is struggling to cope with the responsibility of educating IDP and returnee students in addition to host community students in overcrowded, poorly maintained school buildings where teachers are often poorly qualified or irregularly paid, and class sizes large. WASH facilities including access to potable drinking water are often lacking or insufficient in schools and have been identified as a barrier to attendance by families for both boys and girls (19% and 18% respectively), especially for children living with disabilities.</td>\n",
       "      <td>[Children/Youth (5 to 17 years old)]</td>\n",
       "    </tr>\n",
       "    <tr>\n",
       "      <th>819</th>\n",
       "      <td>Thanks to the needs mapping conducted by the Ministry of Education, Save The Children, NRC and UNICEF, it is known that: 11 percent of the educational headquarters detected descrolard NNA, with a total of 524 NNA; 67 percent of educational headquarters report not having received training on COVID-19 prevention measures in the educational environment. 93 percent of educational headquarters do not have a virtual academic platform; The main means of distance learning are the guidelines built by teachers; In the municipalities of Arauquita, Fortul, Saravena, Cravo Norte and Tame do not exceed 22 percent assistance in school food rations, while Arauca capital only reported 37 percent of food ration reports.</td>\n",
       "      <td>[Children/Youth (5 to 17 years old)]</td>\n",
       "    </tr>\n",
       "    <tr>\n",
       "      <th>8437</th>\n",
       "      <td>• Ensure that older persons on the move receive by all means and formats infor- mation on activities and opportunities for participation, recreation and integration.</td>\n",
       "      <td>[Older Persons (60+ years old)]</td>\n",
       "    </tr>\n",
       "    <tr>\n",
       "      <th>12524</th>\n",
       "      <td>Precisely in the annual report of the Secretary-General of the United Nations, António Guterres, on children and armed conflicts, which was announced this past July 30, the organization warned that migrants residing in Colombia are at risk of displacement due to cause of the conflict.</td>\n",
       "      <td>[Children/Youth (5 to 17 years old)]</td>\n",
       "    </tr>\n",
       "    <tr>\n",
       "      <th>11530</th>\n",
       "      <td>Most people included in the survey (including members of family groups) were between 18 and 59 years of age, with a higher incidence of women.</td>\n",
       "      <td>[Adult (18 to 59 years old)]</td>\n",
       "    </tr>\n",
       "    <tr>\n",
       "      <th>4514</th>\n",
       "      <td>It was agreed with the Supreme Court that the judges specialized in gender violence extended the deadlines for precautionary measures, as requested by feminist organizations adhered within the Uruguayan network against domestic and sexual violence. A protocol was implemented so that health teams, public and private scope could detect situations of domestic violence. With the Ministry of Education and Culture, a system was designed that allowed girls and children to request assistance through the laptops of the Ceibal Plan.</td>\n",
       "      <td>[Children/Youth (5 to 17 years old)]</td>\n",
       "    </tr>\n",
       "    <tr>\n",
       "      <th>16869</th>\n",
       "      <td>Recourse to Community Masters: Faced with the inadequacy of teachers, communities use people with an average instruction to supervise children in common areas. These people are paid on the basis of a Community contribution. This practice meets the inadequacy of teachers and supervising children for their learning certain basic concepts such as reading, writing, counting and certain notions of citizenship. These community classes offer a better child protection framework although some community masters require the strengthening of intellectual and material capacity.</td>\n",
       "      <td>[Children/Youth (5 to 17 years old)]</td>\n",
       "    </tr>\n",
       "    <tr>\n",
       "      <th>8411</th>\n",
       "      <td>[January 2021, NES] Children below the age of 12 were reported as a group affected by child labour in 21% of communities. Hazardous child labour was reported as a protection risk in 10 communities/</td>\n",
       "      <td>[Children/Youth (5 to 17 years old)]</td>\n",
       "    </tr>\n",
       "    <tr>\n",
       "      <th>13912</th>\n",
       "      <td>Targeted kidnappings continued during this month against people who do not meet the requirements of the gane. It is a total of 09 people all of men who have been victims of this typology of incidents in the communes of Di, Barani and Toien, respectively on 11, 20 and 26 June 2021. As for the reasons put forward by their captors, he The refusal is criticized for sailing to their wives, belonging to self-defense groups or other Islamic currents.</td>\n",
       "      <td>[Adult (18 to 59 years old)]</td>\n",
       "    </tr>\n",
       "    <tr>\n",
       "      <th>7941</th>\n",
       "      <td>It is important to note that there are mental health risks for older persons that are related to uprooting; the harsh conditions of the jour- ney, facing long bus rides or even walking; the loss of the professional status or retirement they had in the country of origin, and having generated expectations that they would do better elsewhere.</td>\n",
       "      <td>[Older Persons (60+ years old)]</td>\n",
       "    </tr>\n",
       "    <tr>\n",
       "      <th>12025</th>\n",
       "      <td>In this way, we warn the hypervision of migrant women employed in care chains, ambulatory work and sexual work, situation that reinforces work exclusion processes, stigmatization and division of labor.</td>\n",
       "      <td>[Adult (18 to 59 years old)]</td>\n",
       "    </tr>\n",
       "    <tr>\n",
       "      <th>16236</th>\n",
       "      <td>[Adamaoua, east and north] undercategory of unaccompanied or separate child vulnerability (6,176 individuals) = 1% (70 individuals) are children's heads and localized as follows, 34% in the LOM-and -Djerem 23% in the MBER, 31% in Kadei, 6% in Mayo-Rey, 6% in the Boumba-et-Ngoko and none in the Vina and Djerem.</td>\n",
       "      <td>[Children/Youth (5 to 17 years old)]</td>\n",
       "    </tr>\n",
       "    <tr>\n",
       "      <th>17049</th>\n",
       "      <td>[Extreme North] Vulnerability of child protection: 94% (13,105 individuals) of children are at risk due to non-schooling and are located as follows, 49% in the Mayo-Tsanaga 39% in the logon -And-Chari, 10% in Mayosava, 0.1% in the Diamare.</td>\n",
       "      <td>[Children/Youth (5 to 17 years old)]</td>\n",
       "    </tr>\n",
       "    <tr>\n",
       "      <th>740</th>\n",
       "      <td>[13 September 2021, Bangladesh] According to Bangladesh’s telecom operators’ association, only 41 percent of its 169 million population have smartphones, with students in rural districts suffering further due to a lack of high-speed internet.</td>\n",
       "      <td>[Children/Youth (5 to 17 years old)]</td>\n",
       "    </tr>\n",
       "    <tr>\n",
       "      <th>5994</th>\n",
       "      <td>Fifty host community households received COVID-19 NFI packages. A total of 11,000 households that are home to older persons in camps 8E, 9, 10, 11, 12, 13, 14, 15, 16. 19, 20, 20 EXT, 24, 25 received the COVID-19 NFI packages through IOM's direct and common pipeline partners.</td>\n",
       "      <td>[Older Persons (60+ years old)]</td>\n",
       "    </tr>\n",
       "    <tr>\n",
       "      <th>7144</th>\n",
       "      <td>In Wendou, authorities have provided three classrooms to accommodate children from both the refugee and host communities living in the area.</td>\n",
       "      <td>[Children/Youth (5 to 17 years old)]</td>\n",
       "    </tr>\n",
       "    <tr>\n",
       "      <th>13473</th>\n",
       "      <td>Bad communication with your peers and with your caregivers.</td>\n",
       "      <td>[Adult (18 to 59 years old)]</td>\n",
       "    </tr>\n",
       "    <tr>\n",
       "      <th>693</th>\n",
       "      <td>Education As a result of the COVID-19, a longer period of the suspension of face-to-face classes is expected, it is necessary to continue with remote learning strategies, both printed and digital and audiovisual. This translates into an increase of students (4,034,909) and families of all levels that will need educational materials. This implies the design, development, printing and distribution of educational material, considering also that it should be provided with specific material for indigenous childhood and adolescence and students with disabilities. More audiovisual material will have to be produced to continue with television and radio strategies and update the material in the digital solutions offered by the Ministry of Education on site I learn at home. It will be essential to make a diagnosis of the learning achieved in order to determine the type and pedagogical strategy to recover and level students to the degree they do in the year 2021. It is also essential to consider the impression and distribution of material for mental health and psychosocial support for The different actors of the educational community.</td>\n",
       "      <td>[Children/Youth (5 to 17 years old)]</td>\n",
       "    </tr>\n",
       "    <tr>\n",
       "      <th>15381</th>\n",
       "      <td>According to the information received during the focus groups, the children of these households are exposed to the various risks of protection and bad weather due to lack of shelters, blankets, mats and children's clothing especially in this period of freshness. This situation is relative to their hasty trip that had not allowed them to pack essential items.</td>\n",
       "      <td>[Children/Youth (5 to 17 years old)]</td>\n",
       "    </tr>\n",
       "    <tr>\n",
       "      <th>12831</th>\n",
       "      <td>Child Protection 20,000 children receiving psychosocial support through Safe Spaces 1,000 Separated and unaccompanied children are identified and are in familybased care or an alternative care</td>\n",
       "      <td>[Children/Youth (5 to 17 years old)]</td>\n",
       "    </tr>\n",
       "    <tr>\n",
       "      <th>3614</th>\n",
       "      <td>In the past week, CHWs provided messages on COVID-19 to 257 665 persons. Since the beginning of the response, CHWG conducted more than 1.24 million household visits and had contacts with a cumulative number of more than 2.43 million adult household members.</td>\n",
       "      <td>[Adult (18 to 59 years old)]</td>\n",
       "    </tr>\n",
       "    <tr>\n",
       "      <th>9788</th>\n",
       "      <td>Table IV.3 shows the gaps in the observable characteristics of the schools to which immigrants and locals first apply. In the first place, immigrants are noticed first apply considerably than premises to municipal establishments, free, with low average Simce, high average IVE and less indicator in school coexistence. Second, it is observed that the differences between the applications of immigrants and local are, in general, higher for the pre-kindergarten level than for the average of all grades. These enormous differences in school preferences may be due to multiple factors, such as asymmetries in access to information, residential segregation, differences in distance tolerance or simply cultural differences.</td>\n",
       "      <td>[Children/Youth (5 to 17 years old)]</td>\n",
       "    </tr>\n",
       "    <tr>\n",
       "      <th>2589</th>\n",
       "      <td>Spaces of psycho-emotional recovery are required with children, adolescents and families affected by the emergency, in the most affected municipalities. This work can include methodologies as \"Retental to joy\" and protective spaces for boys and girls.</td>\n",
       "      <td>[Children/Youth (5 to 17 years old)]</td>\n",
       "    </tr>\n",
       "    <tr>\n",
       "      <th>17127</th>\n",
       "      <td>Because children have been out of school since March and families have experienced income loss, food insecurity, and stress, children may have been engaged in negative coping skills such as child labor, begging, early marriage, and other forms of exploitation and abuse. Children who are still engaged in these coping mechanisms may not return to school without support. Children who do return to school may require psychosocial support from their experiences during lockdown. These are all key considerations for a successful Back-to-School Campaign.</td>\n",
       "      <td>[Children/Youth (5 to 17 years old)]</td>\n",
       "    </tr>\n",
       "    <tr>\n",
       "      <th>13553</th>\n",
       "      <td>There are spaces such as Ludoteca and other places of care where children manage to generate confidence in people in charge of attention, when listened to and have gaming and well-being spaces, which allow them to create defenses to protect themselves (as horns and teeth) and escape To loneliness and the risks that live in their homes.</td>\n",
       "      <td>[Children/Youth (5 to 17 years old)]</td>\n",
       "    </tr>\n",
       "    <tr>\n",
       "      <th>12022</th>\n",
       "      <td>Children living in the most vulnerable communities face challenges to access quality education. The capacities of the education system have been impacted by the crisis, in terms of the number of qualified personnel, the availability of teaching materials, the provision of school feeding and of psychosocial support and the functioning of water and sanitation services. As families struggle to maintain their livelihoods, many are unable to support their children to regularly attend school.</td>\n",
       "      <td>[Children/Youth (5 to 17 years old)]</td>\n",
       "    </tr>\n",
       "    <tr>\n",
       "      <th>748</th>\n",
       "      <td>[13 September 2021, Bangladesh] Students have been instructed to ensure hygiene and maintain distance from their peers in classrooms. The benches that used to fit four-five students now host only two at most. They have also been barred from bringing any home-cooked food on the premises.</td>\n",
       "      <td>[Children/Youth (5 to 17 years old)]</td>\n",
       "    </tr>\n",
       "    <tr>\n",
       "      <th>11420</th>\n",
       "      <td>[July 2021, Al-Hasakeh, NES] [ PROTECTION]In 100% of assessed settlements, KIs reported that they were aware of child labour occuring among children under the age of 11, most commonly reporting domestic labour (44% of these assessed settlements) and selling goods (31%).</td>\n",
       "      <td>[Children/Youth (5 to 17 years old)]</td>\n",
       "    </tr>\n",
       "    <tr>\n",
       "      <th>3999</th>\n",
       "      <td>UNICEF made sure that health, nutrition, water, hygiene and sanitation services were available in the temporary shelters the government provided,” said Miatta Abdulai, UNICEF’s Child Protection Specialist in Maiduguri.“We also provided the children with safe psychosocial, recreational and life skills training as the first steps towards their reintegration into their communities, outside the Almajiri system</td>\n",
       "      <td>[Children/Youth (5 to 17 years old)]</td>\n",
       "    </tr>\n",
       "    <tr>\n",
       "      <th>17186</th>\n",
       "      <td>94,232 (42,968 boys and 51,264 girls) have been reached with prevention and control messages through print materials</td>\n",
       "      <td>[Children/Youth (5 to 17 years old)]</td>\n",
       "    </tr>\n",
       "    <tr>\n",
       "      <th>15152</th>\n",
       "      <td>[Extreme North] Legal protection needs and other vulnerabilities: 9% (3,216 individuals) of the elderly have specific needs among them 39% are not able to take care of themselves, 34% are Older people with children, 27% of seniors alone.</td>\n",
       "      <td>[Children/Youth (5 to 17 years old), Older Persons (60+ years old)]</td>\n",
       "    </tr>\n",
       "    <tr>\n",
       "      <th>13527</th>\n",
       "      <td>About 50% of boys, girls and adolescents have a friendly space offered by ICBF, SOS Children's Villages and the Norwegian Council for Refugees. However, the offer is insufficient against the accelerated growth of demand (general subdirectorate of ICBF, interview, 2019).</td>\n",
       "      <td>[Children/Youth (5 to 17 years old)]</td>\n",
       "    </tr>\n",
       "    <tr>\n",
       "      <th>7816</th>\n",
       "      <td>It is worth mentioning, in this regard of sexual violence to girls, that this is not a situation that is only linked to poverty, since it is transversal to social classes, therefore, the relationship that can be done with the social context in which Live girls, it does not keep causality with gender and sexual violence that you live (Correa, 2012). The legal framework of migrant childhood in Chile is located in a society that lacks comprehensive child protection policies, being a country challenge being able to eradicate the violence of those who are victims of migrant children.</td>\n",
       "      <td>[Children/Youth (5 to 17 years old)]</td>\n",
       "    </tr>\n",
       "    <tr>\n",
       "      <th>5064</th>\n",
       "      <td>The medical centers in La Guajira are usually at a great distance from the indigenous communities and access them is expensive for many Wayuu, which in some cases must travel several hours to receive medical care. Many sick boys and girls do not survive the trip or experience a relapse after leaving the center of attention.</td>\n",
       "      <td>[Children/Youth (5 to 17 years old)]</td>\n",
       "    </tr>\n",
       "    <tr>\n",
       "      <th>6009</th>\n",
       "      <td>Access to education is one of the fundamental rights of children embodied in the Convention on the Rights of the Child.15 Since 2018, development partners and non-governmental organizations (NGOs) have worked with the government to guarantee migrant children access to the formal public education system, including In early childhood development December 2019, the Prime Minister announced that the Government of Trinidad and Tobago would not prevent Catholic schools from educating children of Venezuelan migrants.17 In addition, Presbyterian school boards indicated willingness to assist in providing accredited education to migrant children</td>\n",
       "      <td>[Children/Youth (5 to 17 years old)]</td>\n",
       "    </tr>\n",
       "    <tr>\n",
       "      <th>3227</th>\n",
       "      <td>[1st Nov2020, Ngala LGA ,Borno state] Among internally displaced households reporting having child(ren) 5 years old or younger, 44% of internally displaced households, and 44% of non-displaced households reported that at least one child 5 years old or younger was receiving at least one nutritional supplement at the time of data collection.</td>\n",
       "      <td>[Children/Youth (5 to 17 years old)]</td>\n",
       "    </tr>\n",
       "    <tr>\n",
       "      <th>3787</th>\n",
       "      <td>The impact of the economic deterioration and COVID-19 mitigation measures exacerbates an already dire humanitarian situation for children in northwest Syria, resulting in a steep increase of families resorting to negative and harmful coping mechanisms including child labour, including the worst forms of child labour, and child marriage.</td>\n",
       "      <td>[Children/Youth (5 to 17 years old)]</td>\n",
       "    </tr>\n",
       "    <tr>\n",
       "      <th>11051</th>\n",
       "      <td>Bancolombia researchers also highlighted that if the country manages to implement policies that recover the formality of the labor market, the salary gender gap would decrease in the country.</td>\n",
       "      <td>[Adult (18 to 59 years old)]</td>\n",
       "    </tr>\n",
       "    <tr>\n",
       "      <th>6620</th>\n",
       "      <td>The CHWs in Al Salama camp boosted the effort to provide awareness sessions about COVID-19’s risk to the IDPs in the camps stressing on importance of quarantine for close contacts of the first 2 cases. The CHWs, in close collaboration with ACU/EWARN are encouraging the contacts to seek testing as well to abide to basic risk mitigation preventive rules such as usage of masks, physical distancing and avoiding crowded areas.</td>\n",
       "      <td>[]</td>\n",
       "    </tr>\n",
       "    <tr>\n",
       "      <th>11176</th>\n",
       "      <td>[20th January 2021, Cox's Bazar] In addition to decreased work opportunities/access to cash, it is reported that the amount of relief provided has been reduced since the COVID-19 outbreak. Some of those interviewed reported they receive smaller quantities of food such as rice, lentils, chilies, onions, ginger, garlic and oil. As a result they now must purchase some of these items as well as fish, meat and spices.All participants expressed their dissatisfaction with this, some even saying that as a result they are consuming less food. Some participants also complained about the quality of food, for example the dried fish they receive. Others noted they normally sell lentils which are not part of their diet.</td>\n",
       "      <td>[]</td>\n",
       "    </tr>\n",
       "    <tr>\n",
       "      <th>12065</th>\n",
       "      <td>As of November, at least 5,295 civilians had been killed and 8,873 wounded, according to the UN human rights office, although the actual civilian casualty count is likely much higher.</td>\n",
       "      <td>[]</td>\n",
       "    </tr>\n",
       "    <tr>\n",
       "      <th>4866</th>\n",
       "      <td>Due to recent changes in the political and security environment, security forces have heightened restrictions on the movement of refugees within the district.</td>\n",
       "      <td>[]</td>\n",
       "    </tr>\n",
       "    <tr>\n",
       "      <th>16482</th>\n",
       "      <td>The poverty rate remains high while the country reported an average annual growth rate of at least 7% during the 2004-2014 decade.</td>\n",
       "      <td>[]</td>\n",
       "    </tr>\n",
       "    <tr>\n",
       "      <th>13015</th>\n",
       "      <td>The journey from the south of Libya, through the desert, to the north is marked by its own challenges. Refugees and migrants remain at the mercy of smugglers and traffickers: they are often left with little food or water, held in captivity in cities in the south, extorted for money, and at times trafficked for periods before being released to continue their route to the north. Some have reported being sexually abused in the desert. The grim reality for most refugees and migrants is that, once they manage to make their way up to the north of Libya, they feel their only way out of Libya is by sea towards Europe, since neighbouring African countries shut their borders to non-Libyan nationals who do not have valid visas and travel documents to enter.</td>\n",
       "      <td>[]</td>\n",
       "    </tr>\n",
       "    <tr>\n",
       "      <th>549</th>\n",
       "      <td>[June - July 2021, Cox's Bazar] Some awareness-raising activities in the camps and host communities were limited by COVID-19 lockdown restrictions, yet they are part of the COVID-19 Risk Communication and Community Engagement (RCCE) strategy endorsed by the RRRC and Civil Surgeon’s office. Ensuring the widespread circulation of information is critical to curbing the spread of the virus, as well as preventing the spread of rumours, which have contributed to stigma and place vulnerable populations at greater risk.</td>\n",
       "      <td>[]</td>\n",
       "    </tr>\n",
       "    <tr>\n",
       "      <th>8311</th>\n",
       "      <td>[ 31st Jan, NES] As of February, extensive gaps continue to be reported in the COVID-19 response in many camps, including with regards to contact tracing, community engagement and the capacity of designated isolation areas. Despite the public health rationale, there remain questions whether the current camp strategy (underpinned by enhanced surveillance combined with a focus on test-trace-isolate) is deliverable. In February, the COVID-19 strategy in camps will be reviewed and clarified.</td>\n",
       "      <td>[]</td>\n",
       "    </tr>\n",
       "    <tr>\n",
       "      <th>1416</th>\n",
       "      <td>Difficulties for teachers in implementing virtual classes, due to lack of connectivity, equipment, and digital competences to perform their work.</td>\n",
       "      <td>[]</td>\n",
       "    </tr>\n",
       "    <tr>\n",
       "      <th>7868</th>\n",
       "      <td>[14th March 2021, Bangladesh] The daily percentage of people testing positive for the virus surged past 5% a few days back after a month of downtrend. The infection rate stood at 6.26% on Saturday after a slight fall from 6.62% on Friday.</td>\n",
       "      <td>[]</td>\n",
       "    </tr>\n",
       "    <tr>\n",
       "      <th>2805</th>\n",
       "      <td>The province experienced flooding that affected 3,000 people and led to the displacement of 2,565 people in Kailo.</td>\n",
       "      <td>[]</td>\n",
       "    </tr>\n",
       "    <tr>\n",
       "      <th>6212</th>\n",
       "      <td>[September 2020, Cox’s Bazar] Traders report decline in rice quality due to disruption of agricultural extension services from the Government and other organizations due to COVID-19.</td>\n",
       "      <td>[]</td>\n",
       "    </tr>\n",
       "    <tr>\n",
       "      <th>15053</th>\n",
       "      <td>Establish community service structures</td>\n",
       "      <td>[]</td>\n",
       "    </tr>\n",
       "    <tr>\n",
       "      <th>5044</th>\n",
       "      <td>[August, Bangladesh] In August, WFP provided food assistance to 854,483 refugees: 750,978 through e-vouchers, and 103,505 through in-kind food distributions. Of the 17 e-voucher outlets, Building Blocks (a software based on blockchain technology) is operational in eight outlets; the others still use SCOPE.</td>\n",
       "      <td>[]</td>\n",
       "    </tr>\n",
       "    <tr>\n",
       "      <th>4054</th>\n",
       "      <td>Stigma and fear of contagion are delaying the search for medical assistance, which sometimes ends up having fatal consequences. Many people are afraid to leave their homes to go to hospitals or health centers. Others fear being judged for being carriers of the disease or that they leave their families if they are hospitalized. Some people have ** Economic difficulties even to get a mask **, while others seek help, but they are not treated on time due to the suspension of medical consultations and services in hospitals and health centers.</td>\n",
       "      <td>[]</td>\n",
       "    </tr>\n",
       "    <tr>\n",
       "      <th>8088</th>\n",
       "      <td>North Kivu has seen some of the most intense and lasting conflicts in DRC, and violence and insecurity persist, with over 120 armed groups active across Eastern DRC in shifting constellations.</td>\n",
       "      <td>[]</td>\n",
       "    </tr>\n",
       "    <tr>\n",
       "      <th>10793</th>\n",
       "      <td>A monthly food ration with staple items costs at least 90 per cent of an unskilled labourer’s average monthly salary and between 50 and 80 per cent of a public service employee’s average monthly salary, demonstrating the existence of “working poor” in Syria.</td>\n",
       "      <td>[]</td>\n",
       "    </tr>\n",
       "    <tr>\n",
       "      <th>10345</th>\n",
       "      <td>[8 August 2021, Bangladesh]Given the situation, the government of Bangladesh has taken some measures that many analysts felt insufficient. As a result, a noticeable disruption of essential health care services is reported. The Ministry of Health and Family Welfare issued a circular in May 2020 with the instructions for all public and private hospitals to provide health care services to non-COVID-19 patients5. Many people are reported to have died without treatment.</td>\n",
       "      <td>[]</td>\n",
       "    </tr>\n",
       "    <tr>\n",
       "      <th>13793</th>\n",
       "      <td>The besieged President Nicolas Maduro shows no signs of losing the critical support of the elites and the military since the declaration of Guidó on January 23, and the experts warn that the situation could be reaching a \"harmful stagnation\": a confrontation that none Of the two you can win and in which none will accept to reverse.</td>\n",
       "      <td>[]</td>\n",
       "    </tr>\n",
       "    <tr>\n",
       "      <th>8344</th>\n",
       "      <td>Last year’s humanitarian response plan (HRP) was only 39% funded. The 2021 HRP requires almost USD 2 billion. The United Nations, international non-governmental organisations and the government of the DRC stress that funding is urgently needed to address the pressing humanitarian needs.</td>\n",
       "      <td>[]</td>\n",
       "    </tr>\n",
       "    <tr>\n",
       "      <th>2350</th>\n",
       "      <td>The high prevalence of diseases with epidemic potential is deepening the complexity of the humanitarian situation.</td>\n",
       "      <td>[]</td>\n",
       "    </tr>\n",
       "    <tr>\n",
       "      <th>13430</th>\n",
       "      <td>The subject worries. 71 percent of respondents believe that migration increases poverty; 64 percent, which imposes a burden for social services of the State; And just 28 percent sees it as an opportunity for the development of the country. And that last figure decreased 9 percentage points with respect to the previous measurement.</td>\n",
       "      <td>[]</td>\n",
       "    </tr>\n",
       "    <tr>\n",
       "      <th>9107</th>\n",
       "      <td>Pathway 3: Social Cohesion and Intergroup Relations In Colombia and Afghanistan, pandemic restrictions had a deleterious effect on social relations. Community leaders and organizations in Colombia were unable to meet due to the country’s prolonged lockdown.</td>\n",
       "      <td>[]</td>\n",
       "    </tr>\n",
       "    <tr>\n",
       "      <th>5724</th>\n",
       "      <td>[20th Sept 2021, Borno State] Konduga: (IRC, CRS, IOM, Malteser International): 6 blocks of latrine and bathroom were rehabilitated and evacuation of two solid waste disposal pits at Konduga boarding IDP camp. 1,944,000 liters of safe water was supplied by IRC at Boarding Primary School IDP camp and Yandarari kura/Gana host communities with Chlorination of 11 Boreholes and 6 handpumps at Boarding IDP camp Konduga.</td>\n",
       "      <td>[]</td>\n",
       "    </tr>\n",
       "    <tr>\n",
       "      <th>1504</th>\n",
       "      <td>After a relative stability between May and July, there has been an increase in the number of active cases of COVID-19 since the month of August, mostly because of Community transmissions. The accumulation of cases confirmed since March is 2466 of which 218 cases active as of October 25. The pandemic continues to negatively affect the economy as a whole and the sectors of the hotel, catering and tourism in particular. The land boundaries remain closed, limiting the migration flows of persons</td>\n",
       "      <td>[]</td>\n",
       "    </tr>\n",
       "    <tr>\n",
       "      <th>1683</th>\n",
       "      <td>The ongoing 2020 hurricane season could bring weather events that would exacerbate the food insecurity crisis caused by Covid-19, due to potential impact to infrastructure, supply chains, and incomes. • An increase in the exchange rate between the Dominican Peso and the US Dollar contributes to rising costs of basic food commodities, accentuating food insecurity among the population. • Food security actors, the government, and NGOs have highlighted the lack of a means to map food security needs among various vulnerable populations.</td>\n",
       "      <td>[]</td>\n",
       "    </tr>\n",
       "    <tr>\n",
       "      <th>7668</th>\n",
       "      <td>[15 March 2021, Overall Syria] Many Syrians don’t seem to benefit from an increased supply of medical equipment, simply because they have no access to health infrastructure.</td>\n",
       "      <td>[]</td>\n",
       "    </tr>\n",
       "    <tr>\n",
       "      <th>8785</th>\n",
       "      <td>[April 2021, Bangladesh, cox's Bazar]Refugee: Including the estimated value of assistance, the share of monthly budget on food increases to 77 percent for the Rohingya households, which exceeds the severe economic vulnerability threshold of 75 percent. 23 This depicts a trend of increasing vulnerability within the camp population, in the absence of sustainable livelihood solutions. The promotion of farm and non-farm labour market participation remains an important strategy for improving the livelihoods and food security of the camp population.</td>\n",
       "      <td>[]</td>\n",
       "    </tr>\n",
       "    <tr>\n",
       "      <th>14555</th>\n",
       "      <td>To raise awareness of the fight against COVID-19, the Kesho Congo Association promotes the respect of barrier gestures in its center designed to fight malnutrition: handwashing, mask distribution.</td>\n",
       "      <td>[]</td>\n",
       "    </tr>\n",
       "    <tr>\n",
       "      <th>5392</th>\n",
       "      <td>As of 29 June 2020, six SARI ITCs are active, and can receive patients. This includes the ICU/HDU facility at Sadar Hospital with ten ICU and eight HDU beds. There are 267 and 112 active SARI and isolation beds respectively in the camps. Efforts are underway to identify potential partners and facilities to boost quarantine capacity from 1,570 to 1,800. Additional sites for quarantine explored in Teknaf to gauge feasibility to expand facilities for COVID-19 high priority contacts</td>\n",
       "      <td>[]</td>\n",
       "    </tr>\n",
       "    <tr>\n",
       "      <th>15229</th>\n",
       "      <td>The nominal retail price of rice in Jalalabad was maximum from October 2020 to February 2021 and was minimum in September 2020.</td>\n",
       "      <td>[]</td>\n",
       "    </tr>\n",
       "    <tr>\n",
       "      <th>10474</th>\n",
       "      <td>[November,2020 Northeast Syria] The loss of income coupled with a rise in food prices - mainly due to the end of the agricultural season and the increased reliance on costly imported fresh food items a - resulted in insufficient food consumption for roughly 40% of households across NES.</td>\n",
       "      <td>[]</td>\n",
       "    </tr>\n",
       "    <tr>\n",
       "      <th>12696</th>\n",
       "      <td>In 2018, Plan International decided to undertake a Regional Response in Colombia, Ecuador, and Peru to improve the life and conditions of the Venezuelan refugees and migrants during their transit and settlement. Over 180.000 individuals and families have been supported across the countries, yet new actions will continue to be undertaken to allow them to rebuild their lives in a violence-free and sustainable environment.</td>\n",
       "      <td>[]</td>\n",
       "    </tr>\n",
       "    <tr>\n",
       "      <th>1964</th>\n",
       "      <td>[21st Dec2020,Nigeria]USAID/BHA partners deploy mobile teams to deliver health care and nutrition services to hard-to-reach populations—particularly in conflictaffected northeastern Nigeria—and distribute vaccines to and conduct emergency health services for populations in need. In addition, State/PRM partners, including UNHCR and NGOs, support essential health interventions for IDPs and other vulnerable populations in Nigeria.</td>\n",
       "      <td>[]</td>\n",
       "    </tr>\n",
       "    <tr>\n",
       "      <th>5087</th>\n",
       "      <td>NGOs, in coordination with local authorities in the NES, have undertaken contact tracing of the two active cases. Despite the additional cases recently reported, curfew measures in NES have been relaxed since 30 May; all shops are now open between 6am and 3pm and there is an increased number of people on the streets.</td>\n",
       "      <td>[]</td>\n",
       "    </tr>\n",
       "    <tr>\n",
       "      <th>9855</th>\n",
       "      <td>[NES] The number of tests conducted in December was 3,441, which is an 1,894 reduction (-36 per cent) from November. As of 9 January, the 7-day average of tests conducted was 61, the lowest total since regular mass testing began at the end of August.</td>\n",
       "      <td>[]</td>\n",
       "    </tr>\n",
       "    <tr>\n",
       "      <th>3275</th>\n",
       "      <td>Compared to 2019, about 46 million more people have been affected by hunger in Africa in 2020, 57 million more in Asia and about 14 million more in Latin America and the Caribbean.</td>\n",
       "      <td>[]</td>\n",
       "    </tr>\n",
       "    <tr>\n",
       "      <th>17024</th>\n",
       "      <td>The majority of off-camp refugees live in host communities (52% or 4,178 households) and spontaneous shelters (42% or 3,412 households). The others are in rented houses (247 households), in collective centers that are public buildings and abandoned schools (212 households), a household found endlessly in the district of Waza, in the locality of Zizagué .</td>\n",
       "      <td>[]</td>\n",
       "    </tr>\n",
       "    <tr>\n",
       "      <th>14571</th>\n",
       "      <td>(North Central, Kongoussi, Tikaré) • Needs: 1 water point, 2 latrines, 2 showers, 1 emptying (WHH positioning for the water point).</td>\n",
       "      <td>[]</td>\n",
       "    </tr>\n",
       "    <tr>\n",
       "      <th>12039</th>\n",
       "      <td>• Friendly/secure space is operational.</td>\n",
       "      <td>[]</td>\n",
       "    </tr>\n",
       "    <tr>\n",
       "      <th>12876</th>\n",
       "      <td>While access to Zwara remains hazardous, in coordination with the local authorities, members of the MMWG are providing emergency humanitarian assistance at the detention centre, while transferring the most vulnerable cases to Tripoli by air.</td>\n",
       "      <td>[]</td>\n",
       "    </tr>\n",
       "    <tr>\n",
       "      <th>6928</th>\n",
       "      <td>. In addition, the lockdown has led to price increases and shortages of basic goods in some areas of Colombia, due to increased demand for certain products and disruption of production and transport lines</td>\n",
       "      <td>[]</td>\n",
       "    </tr>\n",
       "    <tr>\n",
       "      <th>11010</th>\n",
       "      <td>09/06/2021: Attacks by an armed group in Ituri province on 31 May resulted in the death of 57 people and displacement. Nearly 6,000 people living in IDP sites around Boga town fled to Busio, Malibongo and Tchabi centre villages. Most of them found refuge in host families or churches. Others have fled to North Kivu province and Kainama locality, in areas inaccessible to humanitarian organisations due to insecurity, and towards the border with Uganda.</td>\n",
       "      <td>[]</td>\n",
       "    </tr>\n",
       "    <tr>\n",
       "      <th>9141</th>\n",
       "      <td>Violence erupted in several other locations, including in the Djibo area, where the situation had remained relatively calm since the last major attack on the military camp established in Gaskindé in September 2020. However, tensions between ethnic Fulani and Mossi communities in Kobaoua and Namssiguia resurfaced between late February and early March 2021, when a series of tit-for-tat attacks occurred between JNIM and volunteer fighters (VDP).The VDP are local defense fighters who were predominantly recruited from sedentary communities by the government in 2020 to support the soldiers (Menastream, 11 March 2021). It remains unclear what triggered the resumption of hostilities, although VDP or FDS action cannot be ruled out.</td>\n",
       "      <td>[]</td>\n",
       "    </tr>\n",
       "    <tr>\n",
       "      <th>11936</th>\n",
       "      <td>Since January 2018, Uganda is experiencing a high influx of Congolese refugees due to the insecurity situation in North Kivu and Ituri provinces, both affected by the current EVD outbreak. Between January and June 2018 UNHCR and the Office of Prime Minister (OPM) for Refugees registered 99,447 people coming from these EVD affected provinces and entering Ugandathrough official borders seeking protection. There is a considerable number of people crossing the border from Uganda to DRC and vice versa through: • Entebbe International Airport with daily flights between Entebbe, Kinshasa and Goma; • Unofficial borders which are estimated as double in comparison with the approved ones used daily (approximately 57 PoE).</td>\n",
       "      <td>[]</td>\n",
       "    </tr>\n",
       "    <tr>\n",
       "      <th>7772</th>\n",
       "      <td>According to this result, 21 million people were in a monetary poverty in 2020, representing an increase of 3.5 million people in poverty with the 17.5 million people observed in 2019.</td>\n",
       "      <td>[]</td>\n",
       "    </tr>\n",
       "    <tr>\n",
       "      <th>15255</th>\n",
       "      <td>Increases in food prices represent a threat to the populations of the [Adamoua, East, North] regions, including refugees and particularly those who do not have fixed income resources and live day-to-day. According to the National Institute of Statistics (INS) of Cameroon, the general price level increased by 2.6% in the first quarter of 2020, compared to the first quarter of 2019 where this increase was 2.3%.</td>\n",
       "      <td>[]</td>\n",
       "    </tr>\n",
       "    <tr>\n",
       "      <th>5034</th>\n",
       "      <td>CwC WG partners organised COVID-19 awareness announcements via loudspeakers/megaphones in 21 camps. For receiving community feedback/complaints, 92 information service centres in the camps and 4 information service centres in the host community were operational. 5 new audio messages and 1 video on COVID-19 were developed by CwC WG partners.</td>\n",
       "      <td>[]</td>\n",
       "    </tr>\n",
       "    <tr>\n",
       "      <th>12287</th>\n",
       "      <td>In a resolution on strengthening cooperation and technical assistance in the field of human rights in Venezuela, the body reaffirms the universal principles of sovereignty, territorial integrity, free determination, sovereign equality of States, not intervention and not interference in The internal affairs of the States. In relation to this, it emphasizes that the Venezuelans are one who should seek a \"peaceful, democratic and constitutional\" solution to the situation that their country goes through, \"without any military interference, security forces or foreign intelligence services\". The text supports, in this regard, diplomatic initiatives aimed at promoting negotiations and political dialogue between the Government and the opposition, such as the Norwegian mediation and the work of the International Contact Group and the Montevide Mechanism</td>\n",
       "      <td>[]</td>\n",
       "    </tr>\n",
       "    <tr>\n",
       "      <th>11563</th>\n",
       "      <td>Many Wayuu people travel hours by foot, bicycle or donkey to get water from often poorly maintained wells or jagüeyes, natural aquifers that are entirely rain-dependent. Without clean, ample water, hygiene suffers, bringing diarrheal diseases — which are disproportionately high in La Guajira.</td>\n",
       "      <td>[]</td>\n",
       "    </tr>\n",
       "  </tbody>\n",
       "</table>"
      ],
      "text/plain": [
       "<IPython.core.display.HTML object>"
      ]
     },
     "metadata": {},
     "output_type": "display_data"
    }
   ],
   "source": [
    "max_rows = 100\n",
    "df_x = df_test_to_be_tagged[[\"translation_en\", \"age_kw_pred\"]][:max_rows]\n",
    "display(HTML(df_x.to_html()))"
   ]
  },
  {
   "cell_type": "code",
   "execution_count": 68,
   "id": "eb6a831c",
   "metadata": {},
   "outputs": [],
   "source": [
    "df_test_to_be_tagged[['entry_id', 'translation_en']].to_excel(\"AgeData.xlsx\", index=False)"
   ]
  },
  {
   "cell_type": "code",
   "execution_count": 20,
   "id": "eea74e6e",
   "metadata": {
    "ExecuteTime": {
     "end_time": "2021-12-09T13:34:30.970558Z",
     "start_time": "2021-12-09T13:33:35.272838Z"
    }
   },
   "outputs": [],
   "source": [
    "df_train.to_csv(\"train_0.7.1_kw_age.csv\", index=False)\n",
    "df_val.to_csv(\"val_0.7.1_kw_age.csv\", index=False)"
   ]
  },
  {
   "cell_type": "code",
   "execution_count": 20,
   "id": "d23e91c1",
   "metadata": {
    "ExecuteTime": {
     "end_time": "2021-12-14T11:11:36.235150Z",
     "start_time": "2021-12-14T11:11:36.228497Z"
    }
   },
   "outputs": [
    {
     "data": {
      "text/plain": [
       "Index(['entry_id', 'excerpt', 'age', 'lang', 'translation_en',\n",
       "       'translation_fr', 'translation_es', 'excerpt_pp', 'tokenized_excerpt',\n",
       "       'bigram_excerpt', 'trigram_excerpt', 'fourgram_excerpt',\n",
       "       'fivegram_excerpt', 'sixgram_excerpt', 'sevengram_excerpt',\n",
       "       'age_kw_pred'],\n",
       "      dtype='object')"
      ]
     },
     "execution_count": 20,
     "metadata": {},
     "output_type": "execute_result"
    }
   ],
   "source": [
    "df_train.columns"
   ]
  },
  {
   "cell_type": "code",
   "execution_count": 22,
   "id": "552675e7",
   "metadata": {
    "ExecuteTime": {
     "end_time": "2021-12-14T11:13:52.736548Z",
     "start_time": "2021-12-14T11:13:52.548826Z"
    }
   },
   "outputs": [],
   "source": [
    "df_train[['entry_id', 'age_kw_pred']].to_csv(\"train_0.7.1_keyword_age.csv\", index=False)\n",
    "df_val[['entry_id', 'age_kw_pred']].to_csv(\"val_0.7.1_keyword_age.csv\", index=False)\n",
    "df_test[['entry_id', 'age_kw_pred']].to_csv(\"test_0.7.1_keyword_age.csv\", index=False)"
   ]
  },
  {
   "cell_type": "code",
   "execution_count": 21,
   "id": "e172751f",
   "metadata": {
    "ExecuteTime": {
     "end_time": "2021-12-09T13:34:30.977773Z",
     "start_time": "2021-12-09T13:34:30.971769Z"
    }
   },
   "outputs": [
    {
     "data": {
      "text/plain": [
       "(126323, 14425)"
      ]
     },
     "execution_count": 21,
     "metadata": {},
     "output_type": "execute_result"
    }
   ],
   "source": [
    "len(df_train), len(df_val)"
   ]
  },
  {
   "cell_type": "code",
   "execution_count": null,
   "id": "79b7de94",
   "metadata": {},
   "outputs": [],
   "source": []
  }
 ],
 "metadata": {
  "interpreter": {
   "hash": "bfd2cb51950d52841292b08ea08cdc1dbb17d8669f0e50080d9d4c6b3a007569"
  },
  "kernelspec": {
   "display_name": "Python 3.8.5 64-bit ('base': conda)",
   "language": "python",
   "name": "python3"
  },
  "language_info": {
   "codemirror_mode": {
    "name": "ipython",
    "version": 3
   },
   "file_extension": ".py",
   "mimetype": "text/x-python",
   "name": "python",
   "nbconvert_exporter": "python",
   "pygments_lexer": "ipython3",
   "version": "3.8.11"
  },
  "varInspector": {
   "cols": {
    "lenName": 16,
    "lenType": 16,
    "lenVar": 40
   },
   "kernels_config": {
    "python": {
     "delete_cmd_postfix": "",
     "delete_cmd_prefix": "del ",
     "library": "var_list.py",
     "varRefreshCmd": "print(var_dic_list())"
    },
    "r": {
     "delete_cmd_postfix": ") ",
     "delete_cmd_prefix": "rm(",
     "library": "var_list.r",
     "varRefreshCmd": "cat(var_dic_list()) "
    }
   },
   "types_to_exclude": [
    "module",
    "function",
    "builtin_function_or_method",
    "instance",
    "_Feature"
   ],
   "window_display": false
  }
 },
 "nbformat": 4,
 "nbformat_minor": 5
}
