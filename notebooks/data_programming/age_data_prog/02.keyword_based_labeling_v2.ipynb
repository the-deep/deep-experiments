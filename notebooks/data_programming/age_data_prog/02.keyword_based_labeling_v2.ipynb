{
 "cells": [
  {
   "cell_type": "code",
   "execution_count": 1,
   "id": "510e136b",
   "metadata": {
    "ExecuteTime": {
     "end_time": "2022-01-27T12:18:20.999509Z",
     "start_time": "2022-01-27T12:18:20.386116Z"
    }
   },
   "outputs": [],
   "source": [
    "import re\n",
    "from ast import literal_eval\n",
    "\n",
    "import pandas as pd\n",
    "from tqdm.notebook import tqdm\n",
    "from nltk.corpus import stopwords\n",
    "from nltk import word_tokenize, ngrams\n",
    "from IPython.core.display import HTML"
   ]
  },
  {
   "cell_type": "code",
   "execution_count": 2,
   "id": "ae38d76b",
   "metadata": {
    "ExecuteTime": {
     "end_time": "2022-01-27T12:18:21.402649Z",
     "start_time": "2022-01-27T12:18:21.398160Z"
    }
   },
   "outputs": [],
   "source": [
    "tqdm.pandas()"
   ]
  },
  {
   "cell_type": "code",
   "execution_count": 3,
   "id": "211edd20",
   "metadata": {
    "ExecuteTime": {
     "end_time": "2022-01-27T12:18:25.366864Z",
     "start_time": "2022-01-27T12:18:23.298095Z"
    }
   },
   "outputs": [],
   "source": [
    "df_train = pd.read_csv(\"../data/train_v0.7.1.csv\",\n",
    "                       usecols=[\n",
    "                           'entry_id', 'excerpt', 'age', 'lang',\n",
    "                           \"translation_en\", \"translation_fr\", \"translation_es\"\n",
    "                       ])\n",
    "df_val = pd.read_csv(\"../data/val_v0.7.1.csv\",\n",
    "                     usecols=[\n",
    "                         'entry_id', 'excerpt', 'age', 'lang',\n",
    "                         \"translation_en\", \"translation_fr\", \"translation_es\"\n",
    "                     ])\n",
    "df_test = pd.read_csv(\"../data/test_v0.7.1.csv\",\n",
    "                      usecols=[\n",
    "                          'entry_id', 'excerpt', 'age', 'lang',\n",
    "                          \"translation_en\", \"translation_fr\", \"translation_es\"\n",
    "                      ])"
   ]
  },
  {
   "cell_type": "code",
   "execution_count": 4,
   "id": "1501600c",
   "metadata": {
    "ExecuteTime": {
     "end_time": "2022-01-27T12:18:26.360717Z",
     "start_time": "2022-01-27T12:18:25.420946Z"
    }
   },
   "outputs": [],
   "source": [
    "col = \"age\"\n",
    "for df in [df_train, df_val, df_test]:\n",
    "    df[col] = df[col].apply(lambda x: list(sorted(list(set(literal_eval(x))))))"
   ]
  },
  {
   "cell_type": "code",
   "execution_count": 5,
   "id": "3ecd95c9",
   "metadata": {
    "ExecuteTime": {
     "end_time": "2022-01-27T12:18:26.425733Z",
     "start_time": "2022-01-27T12:18:26.423565Z"
    }
   },
   "outputs": [],
   "source": [
    "child = 'Children/Youth (5 to 17 years old)'\n",
    "adult = 'Adult (18 to 59 years old)'\n",
    "old = 'Older Persons (60+ years old)'\n",
    "infant = 'Infants/Toddlers (<5 years old)'"
   ]
  },
  {
   "cell_type": "code",
   "execution_count": 6,
   "id": "c4d2820c",
   "metadata": {
    "ExecuteTime": {
     "end_time": "2022-01-27T12:18:27.237785Z",
     "start_time": "2022-01-27T12:18:27.199638Z"
    }
   },
   "outputs": [],
   "source": [
    "df_train.loc[df_train[\"lang\"].eq(\"en\"),\n",
    "                \"translation_en\"] = df_train.loc[\n",
    "                    df_train[\"lang\"].eq(\"en\"), \"excerpt\"]\n",
    "# df_train[\"excerpt\"] = df_train[\"translation_en\"]\n",
    "# df_train = df_train[['entry_id', 'excerpt', 'age', 'lang']]"
   ]
  },
  {
   "cell_type": "code",
   "execution_count": 7,
   "id": "cadd8d43",
   "metadata": {
    "ExecuteTime": {
     "end_time": "2022-01-27T12:18:28.727572Z",
     "start_time": "2022-01-27T12:18:28.721442Z"
    }
   },
   "outputs": [],
   "source": [
    "df_val.loc[df_val[\"lang\"].eq(\"en\"),\n",
    "                \"translation_en\"] = df_val.loc[\n",
    "                    df_val[\"lang\"].eq(\"en\"), \"excerpt\"]\n",
    "# df_val[\"excerpt\"] = df_val[\"translation_en\"]\n",
    "# df_val = df_val[['entry_id', 'excerpt', 'age', 'lang']]"
   ]
  },
  {
   "cell_type": "code",
   "execution_count": 8,
   "id": "45d03534",
   "metadata": {
    "ExecuteTime": {
     "end_time": "2022-01-27T12:18:29.416199Z",
     "start_time": "2022-01-27T12:18:29.394475Z"
    }
   },
   "outputs": [],
   "source": [
    "df_test.loc[df_test[\"lang\"].eq(\"en\"),\n",
    "                \"translation_en\"] = df_test.loc[\n",
    "                    df_test[\"lang\"].eq(\"en\"), \"excerpt\"]\n",
    "# df_test[\"excerpt\"] = df_test[\"translation_en\"]\n",
    "# df_test = df_test[['entry_id', 'excerpt', 'age', 'lang']]"
   ]
  },
  {
   "cell_type": "code",
   "execution_count": 9,
   "id": "87e0e418",
   "metadata": {
    "ExecuteTime": {
     "end_time": "2022-01-27T12:18:30.254355Z",
     "start_time": "2022-01-27T12:18:30.249878Z"
    }
   },
   "outputs": [],
   "source": [
    "def preprocess(doc):\n",
    "    if doc != doc:\n",
    "        return \"\"\n",
    "    doc = doc.lower()\n",
    "    # remove preceeding dates\n",
    "    #doc = re.sub(\"^\\[.+\\]\", \" \", doc).strip()\n",
    "    #doc = re.sub(\"^\\(.+\\)\", \" \", doc).strip()\n",
    "    # spaces btw numbers and words\n",
    "    doc = re.sub('(\\d+(\\W\\d+)?)', r' \\1 ', doc).strip()\n",
    "    doc = re.sub(\"[‐‑–—―─_]\", \"-\", doc)\n",
    "    doc = re.sub(\"(\\w)\\- (\\w)\", r\"\\1\\2\", doc)\n",
    "    doc = re.sub(\n",
    "        \"[\" + re.escape(\n",
    "            '_@^~.()[],\"“’…<❖‐»—─|•&{≥➢\\ue0e4\\uf0d8\\uf0fc●°#\\u200b>`?�€■!‘%;̧\\'›«”:≤―\\uf0b7$}*´=‑▪\\xad❑·–'\n",
    "        ) + \"]\", \" \", doc)\n",
    "    #remove some puncs\n",
    "    doc = re.sub('\\s+', \" \", doc).strip()\n",
    "    return doc\n",
    "##\n",
    "def preprocess_and_tokenize(doc, n=1):\n",
    "    doc = preprocess(doc)\n",
    "    # tokenize\n",
    "    words = word_tokenize(doc)\n",
    "    if n == 1:\n",
    "        return set(words)\n",
    "    return set(ngrams(words, n))"
   ]
  },
  {
   "cell_type": "code",
   "execution_count": 10,
   "id": "6d7f26e4",
   "metadata": {
    "ExecuteTime": {
     "end_time": "2022-01-27T12:18:33.578121Z",
     "start_time": "2022-01-27T12:18:33.509828Z"
    }
   },
   "outputs": [],
   "source": [
    "kw_en_infant = [\n",
    "#     '(24-59m)',\n",
    "#     ('0', '-', '59', 'months'),\n",
    "#     ('0-59', 'months'),\n",
    "#     ('1', '-year-old'),\n",
    "#     '1-year-old',\n",
    "#     ('12-15', 'month'),\n",
    "#     ('2', '-year-old'),\n",
    "#     '2-year-old',\n",
    "#     ('24-59', 'm'),\n",
    "#     ('3', '-year-old'),\n",
    "#     '3-year-old',\n",
    "#     ('4', '-year-old'),\n",
    "#     '4-year-old',\n",
    "#     ('5', '-year-old'),\n",
    "#     '5-year-old',\n",
    "#     ('6', '-', '23', 'months', 'old'),\n",
    "#     ('6-', '23', 'months', 'old'),\n",
    "#     ('6-23', 'months', 'old'),\n",
    "#     ('age', 'of', '5'),\n",
    "#     ('age', 'of', 'five'),\n",
    "#     ('aged', '0', '-', '23', 'months'),\n",
    "#     ('aged', '0-23', 'months'),\n",
    "#     ('aged', '0-', '23', 'months'),\n",
    "#     ('aged', 'zero', '-', 'twenty-three', 'months'),\n",
    "    'babies',\n",
    "    'baby',\n",
    "    #'born',\n",
    "    #'breastfed',\n",
    "    ('children', '6-', '59', 'months', 'of', 'age'),\n",
    "    ('children', '6-59', 'months'),\n",
    "    ('children', 'under', 'the', 'age', 'of', 'five', 'years'),\n",
    "    ('children', 'below', 'five', 'years', 'of', 'age'),\n",
    "    ('children', '6-', '59', 'months'),\n",
    "    ('children', '0-23', 'months'),\n",
    "    ('children', 'aged', '0-', '23', 'months'),\n",
    "    ('children', 'under', '5', 'years', 'of', 'age'),\n",
    "    ('children', 'of', '6-', '59', 'months'),\n",
    "    ('children', 'six', '-', 'fifty-nine', 'months'),\n",
    "    ('children', 'aged', '0-23', 'months'),\n",
    "    ('children', 'aged', '0', '-', '23', 'months'),\n",
    "    ('children', 'under', 'five', 'years', 'of', 'age'),\n",
    "    ('children', 'aged', 'six', 'to', 'fifty-nine', 'months'),\n",
    "    ('children', 'between', 'the', 'ages', 'of', 'twenty-four', 'and',\n",
    "     'fifty-nine', 'months'),\n",
    "    ('children', 'aged', '6-59', 'months'),\n",
    "    ('children', '6-59', 'months', 'of', 'age'),\n",
    "    ('children', 'of', '6-59', 'months'),\n",
    "    ('children', 'under', 'the', 'age', 'of', '5'),\n",
    "    ('children', 'below', '5', 'years', 'of', 'age'),\n",
    "    ('children', 'between', 'six', 'to', 'twenty-three', 'months'),\n",
    "    ('children', 'from', '6', 'to', '59', 'months'),\n",
    "    ('children', '6', '-', '59', 'months'),\n",
    "    ('children', 'under', '5', 'years', 'old'),\n",
    "    ('children', 'under', 'the', 'age', 'of', '5', 'years'),\n",
    "    ('children', 'aged', 'six', '-', 'fifty-nine', 'months'),\n",
    "    ('children', 'aged', '6-', '59', 'months'),\n",
    "    ('children', 'six', '-', 'fifty-nine', 'months', 'of', 'age'),\n",
    "    ('children', 'aged', '6', '-', '59', 'months'),\n",
    "    ('children', '0', '-', '23', 'months'),\n",
    "    ('children', 'from', 'six', 'to', 'fifty-nine', 'months'),\n",
    "    ('children', 'zero', '-', 'twenty-three', 'months'),\n",
    "    ('children', 'of', '6', '-', '59', 'months'),\n",
    "    ('children', 'under', 'five', 'years'),\n",
    "    ('children', 'of', 'six', '-', 'fifty-nine', 'months'),\n",
    "    ('children', 'aged', 'zero', '-', 'twenty-three', 'months'),\n",
    "    ('children', '0-', '23', 'months'),\n",
    "    ('children', 'between', 'the', 'ages', 'of', '24', 'and', '59', 'months'),\n",
    "    ('children', 'under', 'the', 'age', 'of', 'five'),\n",
    "    ('children', '6', '-', '59', 'months', 'of', 'age'),\n",
    "    ('children', 'under', 'five', 'years', 'old'),\n",
    "    ('children', 'aged', '6', 'to', '59', 'months'),\n",
    "    ('children', 'between', '6', 'to', '23', 'months'),\n",
    "    #'cmam',\n",
    "    #'congenital',\n",
    "#     ('infant', 'and', 'young', 'child'),\n",
    "#     'infant',\n",
    "#     ('infant', 'and', 'young', 'child', 'feeding'),\n",
    "#     'infantile',\n",
    "#     'infants',\n",
    "#     'iycf',\n",
    "#     ('less', 'than', 'five', 'years'),\n",
    "#     ('less', 'than', '5', 'years'),\n",
    "#     ('live', 'births'),\n",
    "#     ('live', 'birth'),\n",
    "#     'measles',\n",
    "#     'neonatal',\n",
    "#     'newborn',\n",
    "#     'newborns',\n",
    "#     'perinatal',\n",
    "#     'post-natal',\n",
    "    ('six', '-', 'twenty-three', 'months', 'old'),\n",
    "#     'stunted',\n",
    "#     'stunting',\n",
    "    ('under', 'the', 'age', 'of', 'five', 'years'),\n",
    "    ('under', 'the', 'age', 'of', '5'),\n",
    "    ('under', 'the', 'age', 'of', 'five'),\n",
    "    ('under', 'the', 'age', 'of', '5', 'years'),\n",
    "    (\"aged\", \"0-9\", \"years\"),\n",
    "]\n",
    "# list(\n",
    "#     sorted(list(set(kw_en_infant)),\n",
    "#            key=lambda x: x if isinstance(x, str) else x[0]))\n",
    "negative_kw_infant = [\n",
    "    (\"women\", \"with\", \"babies\"),\n",
    "]\n",
    "##\n",
    "r_0_59 = r\"\\b(5[0-9]|[0-9])\\b\"  # 0->59\n",
    "r_0_5 = r\"\\b([0-5])\\b\"  # 0->5\n",
    "##\n",
    "infant_patterns = [\n",
    "    #f\"less than {r_0_5} years\",\n",
    "    #f\"younger than {r_0_5} years\",\n",
    "    #f\"under the age of {r_0_5}\",\n",
    "    #f\"below the age of {r_0_5}\",\n",
    "    #f\"{r_0_59} ?- ?{r_0_59} months old\",\n",
    "    f\"aged {r_0_5} ?- ?[0-9] years\",\n",
    "    f\"aged {r_0_59} ?- ?{r_0_59} months?\",\n",
    "    #f\"{r_0_59} ?- ?{r_0_59} ?m\",\n",
    "    #f\"{r_0_59} ?- ?{r_0_59} ?months?\",\n",
    "    #f\"{r_0_5}-year-old\",\n",
    "    f\"children {r_0_59} ?- ?{r_0_59} months?\",\n",
    "    f\"children of {r_0_59} ?- ?{r_0_59} months?\",\n",
    "    f\"children under {r_0_5}\",\n",
    "    f\"children under the age of {r_0_5}\",\n",
    "    f\"children under {r_0_5} years\",\n",
    "    f\"children below {r_0_5} years\",\n",
    "    f\"children below the age of {r_0_5}\",\n",
    "    f\"children below {r_0_5}\",\n",
    "    f\"children aged {r_0_59} ?- ?{r_0_59} months?\",\n",
    "    f\"children aged {r_0_59} to {r_0_59} months?\",\n",
    "    f\"children between {r_0_59} ?- ?{r_0_59} months?\",\n",
    "    f\"children between {r_0_59} to {r_0_59} months?\",\n",
    "    f\"children between the ages of {r_0_59} and {r_0_59} months?\",\n",
    "    f\"children from {r_0_59} ?- ?{r_0_59} months?\",\n",
    "    f\"children from {r_0_59} to {r_0_59} months?\",\n",
    "    f\"children of {r_0_59} ?- ?{r_0_59} months?\",\n",
    "]\n",
    "\n",
    "\n",
    "##\n",
    "def is_infant(row):\n",
    "    if infant in row[\"age\"]:\n",
    "        return True\n",
    "    for kw in negative_kw_infant:\n",
    "        if isinstance(kw, str) and kw in row['tokenized_excerpt']: return False\n",
    "        elif len(kw) == 2 and kw in row['bigram_excerpt']: return False\n",
    "        elif len(kw) == 3 and kw in row['trigram_excerpt']: return False\n",
    "        elif len(kw) == 4 and kw in row['fourgram_excerpt']: return False\n",
    "        elif len(kw) == 5 and kw in row['fivegram_excerpt']: return False\n",
    "        elif len(kw) == 6 and kw in row['sixgram_excerpt']: return False\n",
    "        elif len(kw) == 7 and kw in row['sevengram_excerpt']: return False\n",
    "    for p in infant_patterns:\n",
    "        if re.search(p, row[\"excerpt_pp\"]): return True\n",
    "    for kw in kw_en_infant:\n",
    "        if isinstance(kw, str) and kw in row['tokenized_excerpt']: return True\n",
    "        elif len(kw) == 2 and kw in row['bigram_excerpt']: return True\n",
    "        elif len(kw) == 3 and kw in row['trigram_excerpt']: return True\n",
    "        elif len(kw) == 4 and kw in row['fourgram_excerpt']: return True\n",
    "        elif len(kw) == 5 and kw in row['fivegram_excerpt']: return True\n",
    "        elif len(kw) == 6 and kw in row['sixgram_excerpt']: return True\n",
    "        elif len(kw) == 7 and kw in row['sevengram_excerpt']: return True\n",
    "    return False"
   ]
  },
  {
   "cell_type": "code",
   "execution_count": 11,
   "id": "cbabc1c6",
   "metadata": {
    "ExecuteTime": {
     "end_time": "2022-01-27T12:18:36.561756Z",
     "start_time": "2022-01-27T12:18:36.523575Z"
    }
   },
   "outputs": [],
   "source": [
    "kw_en_child = [\n",
    "    ('14', 'years'), ('17', 'years'), 'adolescent', 'adolescents',\n",
    "    ('age', 'group', '5', '-', '14', 'years'),\n",
    "    ('age', 'group', '5-14', 'years'), ('aged', 'ten'), ('aged', '10'),\n",
    "    ('attending', 'school'), ('below', '18', 'years'), ('below', '18'),\n",
    "    ('below', 'the', 'age', 'of', '14'), ('below', '14'),\n",
    "    ('below', '18', 'years', 'of', 'age'), ('below', 'the', 'age', 'of', '17'),\n",
    "    ('below', 'the', 'age', 'of','18'), ('below', '17'),\n",
    "    ('below', 'eighteen', 'years'), ('below', 'eighteen'),\n",
    "    ('below', 'the', 'age', 'of','19'), #'boy', 'boys', \n",
    "    'child',\n",
    "    ('child', 'marriages'), ('child', 'labor'), ('child', 'abuse'),\n",
    "    ('child', 'marriage'), ('child', 'labour'), ('child', 'friendly'),\n",
    "    'child-friendly', ('child-friendly', 'spaces'), 'child-headed',\n",
    "    ('children', 'with', 'disabilities'), 'children',\n",
    "    ('children', 'under', 'eighteen'),\n",
    "    ('children', 'below', 'the', 'age', 'of', 'twelve'),\n",
    "    ('children', 'dropping', 'out', 'of', 'school'),\n",
    "    ('children', 'separated', 'from', 'their', 'parents'),\n",
    "    ('children', 'below', 'the', 'age', 'of', '12'),\n",
    "    ('children', 'not', 'attending', 'school'), ('children', 'school'),\n",
    "    ('children', 'under', '18'), ('children', 'caregivers'),\n",
    "    ('early', 'marriage'),\n",
    "    ('eighteen', 'years'), ('for', 'refugee', 'children'),\n",
    "    ('for', 'displaced', 'children'), ('fourteen', 'years'), #'girl', 'girls',\n",
    "    ('girls', 'children'), 'grades', 'in-school', ('labor', 'child'),\n",
    "    ('minor', 'child'), ('minor', 'children'), 'minors', ('mixed', 'school'),\n",
    "    ('out', 'of', 'education'), ('out', 'of', 'school'),\n",
    "    ('out-of-school', 'children'), 'out-of-school', 'pediatric',\n",
    "    ('primary', 'students'), ('primary', 'student'), ('refugee', 'children'),\n",
    "    ('rohingya', 'children'), #('school', 'students'),\n",
    "    ('school', 'aged', 'children'), ('school', 'children'),\n",
    "    ('school', 'aged'), 'school-age', ('school-age', 'children'),\n",
    "    ('school-aged', 'children'), 'school-aged', 'school-going', 'schoolboys',\n",
    "    'schoolchildren', 'schoolgirls', ('separated', 'children'),\n",
    "    ('seventeen', 'years'), 'teenagers', 'uasc', ('under', '18'),\n",
    "    ('under', 'the', 'age', 'of','14'), ('under', '18', 'years'), ('under', '14'),\n",
    "    ('under', 'the', 'age', 'of', 'eighteen'), ('under', 'the', 'age', 'of', '17'),\n",
    "    ('under', '17'), ('under', 'the', 'age', 'of', '18'),\n",
    "    ('under', 'the', 'age', 'of', '19'), ('under', 'eighteen'),\n",
    "    ('under', 'eighteen', 'years'), ('under', '18', 'years', 'of', 'age'),\n",
    "    ('under', 'the', 'age', 'of', '18'), ('venezuelan', 'minors'),\n",
    "    ('violence', 'against', 'children'), ('vulnerable', 'children'),\n",
    "    ('young', 'girls'), (\"teenage\",\"girl\"), (\"teenage\",\"girls\"),\n",
    "    (\"teenage\",\"boy\"), (\"teenage\",\"boys\"), (\"older\", \"than\", \"5\", \"years\")\n",
    "]\n",
    "# list(\n",
    "#     sorted(list(set(kw_en_child)),\n",
    "#            key=lambda x: x if isinstance(x, str) else x[0]))\n",
    "negative_kw_child = [\n",
    "    \"gam\",\n",
    "    \"sam\",\n",
    "    \"muac\",\n",
    "    \"24-59m\",\n",
    "    ('above', 'the', 'age', '18', 'years'),\n",
    "    ('above', '18', 'years', 'of', 'age'),\n",
    "    ('moderate', 'acute', 'malnutrition', 'mam'),\n",
    "    ('moderate', 'acute', 'malnutrition'),\n",
    "    'mam',\n",
    "    ('aged', '6-59', 'months'),\n",
    "    ('aged', '6-59'),\n",
    "]\n",
    "##\n",
    "##\n",
    "r_6_18 = r\"\\b(1[0-8]|[6-9])\\b\"  # 6->18\n",
    "r_5_15 = r\"\\b(1[0-5]|[5-9])\\b\"  # 5->15\n",
    "r_5_18 = r\"\\b(1[0-8]|[5-9])\\b\"  # 5->18\n",
    "r_14_18 = r\"\\b(1[4-8])\\b\"  # 4->18\n",
    "##\n",
    "child_patterns = [\n",
    "    f\"between {r_6_18} ?- ?{r_6_18}\",\n",
    "    f\"between {r_6_18} to {r_6_18}\",\n",
    "    f\"between the age of {r_6_18} and {r_6_18}\",\n",
    "    f\"the {r_6_18} ?- ?{r_6_18} age\",\n",
    "    f\"{r_6_18} ?- ?{r_6_18} years\",\n",
    "    f\"{r_6_18} to {r_6_18} years\",\n",
    "    f\"{r_6_18} ?-year-old\",\n",
    "    f\"{r_6_18} ?-year-olds\",\n",
    "    f\"{r_6_18} ?- ?{r_6_18} years old\",\n",
    "    f\"{r_6_18} ?- ?{r_6_18} age\",\n",
    "    f\"ages of {r_6_18} ?- ?{r_6_18}\",\n",
    "    f\"ages of {r_6_18} and {r_6_18}\",\n",
    "    f\"age of {r_6_18} ?- ?{r_6_18}\",\n",
    "    f\"age of {r_6_18} years\",\n",
    "    f\"age {r_6_18}\",\n",
    "    f\"aged {r_6_18}\",\n",
    "    f\"age {r_6_18} ?- ?{r_6_18}\",\n",
    "    f\"ages {r_6_18} ?- ?{r_6_18}\",\n",
    "    f\"aged {r_6_18} ?- ?{r_6_18}\",\n",
    "    f\"age {r_6_18} ?- ?{r_6_18}\",\n",
    "    f\"{r_6_18} years\",\n",
    "    f\"age group {r_5_18} ?- ?{r_6_18} years\",\n",
    "    f\"below {r_14_18} years\",\n",
    "    f\"below the age of {r_14_18}\",\n",
    "    f\"children under {r_14_18}\",\n",
    "    f\"under the age of {r_14_18}\",\n",
    "    f\"under {r_14_18} years\",\n",
    "    f\"below {r_14_18} years\",\n",
    "    f\"below the age of {r_14_18}\",\n",
    "    f\"younger than {r_14_18}\",\n",
    "    f\"less than {r_14_18}\",\n",
    "    f\"older than {r_5_15} years\",\n",
    "]\n",
    "##\n",
    "def is_child(row):\n",
    "    for kw in negative_kw_child:\n",
    "        if isinstance(kw, str) and kw in row['tokenized_excerpt']: return False\n",
    "        elif len(kw) == 2 and kw in row['bigram_excerpt']: return False\n",
    "        elif len(kw) == 3 and kw in row['trigram_excerpt']: return False\n",
    "        elif len(kw) == 4 and kw in row['fourgram_excerpt']: return False\n",
    "        elif len(kw) == 5 and kw in row['fivegram_excerpt']: return False\n",
    "        elif len(kw) == 6 and kw in row['sixgram_excerpt']: return False\n",
    "        elif len(kw) == 7 and kw in row['sevengram_excerpt']: return False\n",
    "    for p in child_patterns:\n",
    "        if re.search(p, row[\"excerpt_pp\"]): return True\n",
    "    for kw in kw_en_child:\n",
    "        if isinstance(kw, str) and kw in row['tokenized_excerpt']: return True\n",
    "        elif len(kw) == 2 and kw in row['bigram_excerpt']: return True\n",
    "        elif len(kw) == 3 and kw in row['trigram_excerpt']: return True\n",
    "        elif len(kw) == 4 and kw in row['fourgram_excerpt']: return True\n",
    "        elif len(kw) == 5 and kw in row['fivegram_excerpt']: return True\n",
    "        elif len(kw) == 6 and kw in row['sixgram_excerpt']: return True\n",
    "        elif len(kw) == 7 and kw in row['sevengram_excerpt']: return True\n",
    "    return False"
   ]
  },
  {
   "cell_type": "code",
   "execution_count": 12,
   "id": "2fa41bb9",
   "metadata": {
    "ExecuteTime": {
     "end_time": "2022-01-27T12:18:37.306807Z",
     "start_time": "2022-01-27T12:18:37.291138Z"
    }
   },
   "outputs": [],
   "source": [
    "kw_en_adult = [\n",
    "    #'adult', 'adults', \n",
    "    #('asylum', 'seekers'), 'breadwinner',\n",
    "    #('care', 'givers'), 'care-giving', 'caregivers', 'child-bearing',\n",
    "    #'childbearing', 'employability', 'employed', 'employees', 'employers',\n",
    "    #'employment', 'entrepreneurs', ('female', 'detainees'), 'female-headed',\n",
    "    #('foreign', 'health', 'professionals'), 'gbv', 'graduates',\n",
    "    #('had', 'given', 'a', 'life', 'birth'), 'husbands', 'jobs',\n",
    "    #('killing', 'of', 'teachers'), ('labor', 'market'), ('life', 'birth'),\n",
    "    #('male', 'headed'), 'male-headed', 'maternal', 'men', 'mothers', 'parents',\n",
    "    #('reproductive', 'age'), \n",
    "    #'scholarships', ('stateless', 'persons'),\n",
    "    #('to', 'work'), 'underemployed', 'underemployment', 'unemployed', 'unemployment',\n",
    "    #('unintended', 'pregnancies'), 'university', 'widow',\n",
    "    #'widows', 'wives', \n",
    "    #'woman', 'women', 'women-headed', 'workers',\n",
    "    #('working', 'in'), \n",
    "    'working-age', \n",
    "    'youth', 'youths'\n",
    "]\n",
    "# list(\n",
    "#     sorted(list(set(kw_en_adult)),\n",
    "#            key=lambda x: x if isinstance(x, str) else x[0]))\n",
    "negative_kw_adult = []\n",
    "##\n",
    "r_18_59 = r\"\\b([2-5][0-9]|1[8-9])\\b\"  # 18->59\n",
    "r_20_59 = r\"\\b([2-5][0-9])\\b\"  # 20->59\n",
    "r_15_19 = r\"\\b(1[5-9])\\b\"  # 15->19\n",
    "r_11_19 = r\"\\b(1[1-9])\\b\"  # 11->19\n",
    "r_18_49 = r\"\\b([2-4][0-9]|1[8-9])\\b\"  # 18->49\n",
    "##\n",
    "adult_patterns = [\n",
    "    f\"between {r_11_19} ?- ?{r_20_59}\",\n",
    "    f\"between {r_18_59} ?- ?{r_18_59}\",\n",
    "    f\"between {r_18_59} to {r_18_59}\",\n",
    "    f\"between {r_11_19} to {r_20_59}\",\n",
    "    f\"between the age of {r_18_59} and {r_18_59}\",\n",
    "    f\"between the age of {r_11_19} and {r_20_59}\",\n",
    "    f\"the {r_18_59} ?- ?{r_18_59} age\",\n",
    "    f\"{r_18_59} ?- ?{r_18_59} years\",\n",
    "    f\"{r_18_59} to {r_18_59} years\",\n",
    "    f\"{r_18_59}\\+ years\",\n",
    "    f\"{r_18_59} ?-year-old\",\n",
    "    f\"{r_18_59} ?-year-olds\",\n",
    "    f\"{r_18_59} ?- ?{r_18_59} years old\",\n",
    "    f\"{r_18_59} ?- ?{r_18_59} age\",\n",
    "    f\"ages of {r_18_59} ?- ?{r_18_59}\",\n",
    "    f\"ages of {r_11_19} ?- ?{r_20_59}\",\n",
    "    f\"ages of {r_11_19} and {r_20_59}\",\n",
    "    f\"age of {r_18_59} ?- ?{r_18_59}\",\n",
    "    f\"age of {r_18_59} ?- ?{r_18_59}\",\n",
    "    f\"age of {r_18_59} years\",\n",
    "    f\"age {r_18_59}\",\n",
    "    f\"age {r_18_59} ?- ?{r_18_59}\",\n",
    "    f\"ages {r_11_19} ?- ?{r_20_59}\",\n",
    "    f\"aged {r_18_59} ?- ?{r_18_59}\",\n",
    "    f\"age {r_11_19} ?- ?{r_20_59}\",\n",
    "    f\"\\d\\d+,?\\d* female\",\n",
    "    f\"\\d\\d+,?\\d* females\",\n",
    "    f\"\\d\\d+,?\\d* male\",\n",
    "    f\"\\d\\d+,?\\d* males\",\n",
    "    #f\"\\d\\d+,?\\d* people\",\n",
    "    #f\"\\d\\d+,?\\d* persons\",\n",
    "    f\"older than {r_18_49} years\",\n",
    "    f\"{r_18_49} years and above\",\n",
    "    f\"{r_18_49} years old and above\",\n",
    "    f\"above the age of {r_18_49}\",\n",
    "    f\"over the age of {r_18_49}\",\n",
    "    f\"over >{r_18_59} ?years\",\n",
    "    f\"above >{r_18_59} ?years\",\n",
    "]\n",
    "##\n",
    "def is_adult(row):\n",
    "    for kw in negative_kw_adult:\n",
    "        if isinstance(kw, str) and kw in row['tokenized_excerpt']: return False\n",
    "        elif len(kw) == 2 and kw in row['bigram_excerpt']: return False\n",
    "        elif len(kw) == 3 and kw in row['trigram_excerpt']: return False\n",
    "        elif len(kw) == 4 and kw in row['fourgram_excerpt']: return False\n",
    "        elif len(kw) == 5 and kw in row['fivegram_excerpt']: return False\n",
    "        elif len(kw) == 6 and kw in row['sixgram_excerpt']: return False\n",
    "        elif len(kw) == 7 and kw in row['sevengram_excerpt']: return False\n",
    "    for p in adult_patterns:\n",
    "        if re.search(p, row[\"excerpt_pp\"]): return True\n",
    "    for kw in kw_en_adult:\n",
    "        if isinstance(kw, str) and kw in row['tokenized_excerpt']: return True\n",
    "        elif len(kw) == 2 and kw in row['bigram_excerpt']: return True\n",
    "        elif len(kw) == 3 and kw in row['trigram_excerpt']: return True\n",
    "        elif len(kw) == 4 and kw in row['fourgram_excerpt']: return True\n",
    "        elif len(kw) == 5 and kw in row['fivegram_excerpt']: return True\n",
    "        elif len(kw) == 6 and kw in row['sixgram_excerpt']: return True\n",
    "        elif len(kw) == 7 and kw in row['sevengram_excerpt']: return True\n",
    "    return False"
   ]
  },
  {
   "cell_type": "code",
   "execution_count": 13,
   "id": "5abc2010",
   "metadata": {
    "ExecuteTime": {
     "end_time": "2022-01-27T12:18:37.963402Z",
     "start_time": "2022-01-27T12:18:37.946313Z"
    }
   },
   "outputs": [],
   "source": [
    "kw_en_old = [\n",
    "    ('55', 'years', 'and', 'above'),\n",
    "    ('59', 'years', 'and', 'above'),\n",
    "    ('60', 's'),\n",
    "    ('60', 'years'),\n",
    "    ('60', 'years', 'and', 'above'),\n",
    "    '60-year-old',\n",
    "    ('62', 'older'),\n",
    "    ('65', 'years'),\n",
    "    ('65', 'years', 'and', 'above'),\n",
    "    ('70', 'years'),\n",
    "    ('70', 'years', 'and', 'above'),\n",
    "    ('70', '-year-old'),\n",
    "    '70-year-old',\n",
    "    ('75', 'years', 'and', 'above'),\n",
    "    ('80', 'years'),\n",
    "    '80-year-old',\n",
    "    ('above', '65', 'years'),\n",
    "    ('above', '65', 'years', 'of', 'age'),\n",
    "    ('above', '60', 'years'),\n",
    "    ('above', '55', 'years'),\n",
    "    ('above', '70'),\n",
    "    ('above', '80'),\n",
    "    ('above', '59'),\n",
    "    ('above', '70', 'years'),\n",
    "    ('above', '59', 'years'),\n",
    "    ('above', '75', 'years'),\n",
    "    ('above', '60'),\n",
    "    ('above', '65'),\n",
    "    ('adults', 'aged', '65'),\n",
    "    ('adults', 'aged', '70'),\n",
    "    ('aged', 'above', '59'),\n",
    "    ('aged', '80', 'and', 'above'),\n",
    "    ('aged', 'above', '60'),\n",
    "    ('aged', '65'),\n",
    "    ('aged', 'above', '85'),\n",
    "    ('aged', 'above', '55'),\n",
    "    ('aged', '70', 'and', 'above'),\n",
    "    ('aged', '75', 'and', 'above'),\n",
    "    ('aged', 'above', '65'),\n",
    "    ('aged', '80'),\n",
    "    ('aged', 'above', '75'),\n",
    "    ('aged', '70'),\n",
    "    ('aged', 'above', '50'),\n",
    "    ('aged', 'above', '70'),\n",
    "    ('aged', '60', 'and', 'above'),\n",
    "    ('aged', '65', 'and', 'above'),\n",
    "    ('aged', '60'),\n",
    "    ('aged', 'above', '80'),\n",
    "    #'ageing',\n",
    "    ('elderly', 'community'),\n",
    "    ('elderly', 'population'),\n",
    "    ('elderly', 'men'),\n",
    "    ('elderly', 'women'),\n",
    "    ('elderly', 'persons'),\n",
    "    'elderly',\n",
    "    ('elderly', 'people'),\n",
    "    ('elders', 'people'),\n",
    "    ('older', 'persons'),\n",
    "    ('older', 'people'),\n",
    "    ('older', 'population'),\n",
    "    ('older', 'person'),\n",
    "    ('older', 'men'),\n",
    "    ('older', 'women'),\n",
    "    ('over', '59'),\n",
    "    ('over', '70', 'years'),\n",
    "    ('over', '59', 'years'),\n",
    "    ('over', '55'),\n",
    "    ('over', '60', 'years', 'old'),\n",
    "    ('over', '80', 'years', 'old'),\n",
    "    ('over', '60'),\n",
    "    ('over', '65', 'years'),\n",
    "    ('over', '60', 'years'),\n",
    "    ('over', '55', 'years'),\n",
    "    ('over', '80', 'years'),\n",
    "    ('people', 'aged', '59'),\n",
    "    ('people', 'over', '65'),\n",
    "    ('people', 'aged', '55'),\n",
    "    ('people', 'aged', '60'),\n",
    "    ('people', 'over', '80'),\n",
    "    ('people', 'over', '70'),\n",
    "    ('the', '59', '+', 'population'),\n",
    "    \"elders\",\n",
    "    ('50', '+', 'years'),\n",
    "    (\"geriatric\", \"population\"),\n",
    "]\n",
    "# list(\n",
    "#     sorted(list(set(kw_en_old)),\n",
    "#            key=lambda x: x if isinstance(x, str) else x[0]))\n",
    "negative_kw_old = []\n",
    "r_59_100 = r\"\\b(100|[6-9][0-9]|59)\\b\"  # 59-100\n",
    "r_50_100 = r\"\\b(100|[6-9][0-9]|5[0-9])\\b\"  # 50-100\n",
    "r_61_100 = r\"\\b(100|[6-9][1-9])\\b\"  # 61-100\n",
    "r_60_100 = r\"\\b(100|[6-9][0-9])\\b\"  # 60-100\n",
    "r_0_59 = r\"\\b(5[0-9]|[0-9][0-9])\\b\"  # 0-59\n",
    "patterns_old = [\n",
    "    f\"between {r_59_100} ?- ?{r_59_100}\",\n",
    "    f\"between {r_50_100} ?- ?{r_61_100}\",\n",
    "    f\"{r_59_100} years and older\",\n",
    "    f\"{r_59_100} years and above\",\n",
    "    f\"{r_59_100} years old and above\",\n",
    "    f\"above {r_59_100} years\",\n",
    "    f\"over {r_59_100} years\",\n",
    "    f\"above the age of {r_50_100}\",\n",
    "    f\"over the age of {r_50_100}\",\n",
    "    f\"between {r_50_100} ?- ?{r_59_100}\",\n",
    "    f\"between {r_50_100} to {r_59_100}\",\n",
    "    f\"between the age of {r_50_100} and {r_59_100}\",\n",
    "    f\"between the ages of {r_50_100} and {r_59_100}\",\n",
    "    f\"the {r_59_100} ?- ?{r_59_100} age\",\n",
    "    f\"{r_50_100} ?- ?{r_61_100} years\",\n",
    "    f\"{r_50_100} to {r_61_100} years\",\n",
    "    f\"{r_50_100}\\+ years\",\n",
    "    f\"{r_60_100} ?-year-old\",\n",
    "    f\"{r_60_100} ?-year-olds\",\n",
    "    f\"{r_50_100} ?- ?{r_61_100} years old\",\n",
    "    f\"{r_50_100} ?- ?{r_61_100} age\",\n",
    "    f\"ages of {r_50_100} ?- ?{r_61_100}\",\n",
    "    f\"ages of {r_50_100} ?- ?{r_61_100}\",\n",
    "    f\"ages of {r_50_100} and {r_61_100}\",\n",
    "    f\"age of {r_50_100} ?- ?{r_61_100}\",\n",
    "    f\"age of {r_50_100} ?- ?{r_61_100}\",\n",
    "    f\"age of {r_60_100} years\",\n",
    "    f\"age {r_60_100}\",\n",
    "    f\"age {r_50_100} ?- ?{r_61_100}\",\n",
    "    f\"ages {r_50_100} ?- ?{r_61_100}\",\n",
    "    f\"aged {r_50_100} ?- ?{r_61_100}\",\n",
    "    f\"age {r_50_100} ?- ?{r_61_100}\",\n",
    "    f\"aged {r_50_100} years and older\",\n",
    "    f\"older than {r_50_100}\",\n",
    "]\n",
    "\n",
    "\n",
    "##\n",
    "def is_old(row):\n",
    "    for kw in negative_kw_old:\n",
    "        if isinstance(kw, str) and kw in row['tokenized_excerpt']: return False\n",
    "        elif len(kw) == 2 and kw in row['bigram_excerpt']: return False\n",
    "        elif len(kw) == 3 and kw in row['trigram_excerpt']: return False\n",
    "        elif len(kw) == 4 and kw in row['fourgram_excerpt']: return False\n",
    "        elif len(kw) == 5 and kw in row['fivegram_excerpt']: return False\n",
    "        elif len(kw) == 6 and kw in row['sixgram_excerpt']: return False\n",
    "        elif len(kw) == 7 and kw in row['sevengram_excerpt']: return False\n",
    "    for p in patterns_old:\n",
    "        if re.search(p, row[\"excerpt_pp\"]): return True\n",
    "    for kw in kw_en_old:\n",
    "        if isinstance(kw, str) and kw in row['tokenized_excerpt']: return True\n",
    "        elif len(kw) == 2 and kw in row['bigram_excerpt']: return True\n",
    "        elif len(kw) == 3 and kw in row['trigram_excerpt']: return True\n",
    "        elif len(kw) == 4 and kw in row['fourgram_excerpt']: return True\n",
    "        elif len(kw) == 5 and kw in row['fivegram_excerpt']: return True\n",
    "        elif len(kw) == 6 and kw in row['sixgram_excerpt']: return True\n",
    "        elif len(kw) == 7 and kw in row['sevengram_excerpt']: return True\n",
    "    return False"
   ]
  },
  {
   "cell_type": "code",
   "execution_count": 14,
   "id": "1f0dbdda",
   "metadata": {
    "ExecuteTime": {
     "end_time": "2022-01-27T12:23:03.657162Z",
     "start_time": "2022-01-27T12:18:39.541976Z"
    }
   },
   "outputs": [
    {
     "data": {
      "application/vnd.jupyter.widget-view+json": {
       "model_id": "486387e408f6416492b5710a0e8417f9",
       "version_major": 2,
       "version_minor": 0
      },
      "text/plain": [
       "  0%|          | 0/126323 [00:00<?, ?it/s]"
      ]
     },
     "metadata": {},
     "output_type": "display_data"
    },
    {
     "data": {
      "application/vnd.jupyter.widget-view+json": {
       "model_id": "ac33c421ebb340369691dc7bd0f5c2f9",
       "version_major": 2,
       "version_minor": 0
      },
      "text/plain": [
       "  0%|          | 0/126323 [00:00<?, ?it/s]"
      ]
     },
     "metadata": {},
     "output_type": "display_data"
    },
    {
     "data": {
      "application/vnd.jupyter.widget-view+json": {
       "model_id": "b08403fdd6dc4c2da557e286c2c27105",
       "version_major": 2,
       "version_minor": 0
      },
      "text/plain": [
       "  0%|          | 0/126323 [00:00<?, ?it/s]"
      ]
     },
     "metadata": {},
     "output_type": "display_data"
    },
    {
     "data": {
      "application/vnd.jupyter.widget-view+json": {
       "model_id": "0d1d8e2a394c4909b14d83a21c08dc82",
       "version_major": 2,
       "version_minor": 0
      },
      "text/plain": [
       "  0%|          | 0/126323 [00:00<?, ?it/s]"
      ]
     },
     "metadata": {},
     "output_type": "display_data"
    },
    {
     "data": {
      "application/vnd.jupyter.widget-view+json": {
       "model_id": "200331840edb4c258343f13b5cff4dd7",
       "version_major": 2,
       "version_minor": 0
      },
      "text/plain": [
       "  0%|          | 0/126323 [00:00<?, ?it/s]"
      ]
     },
     "metadata": {},
     "output_type": "display_data"
    },
    {
     "data": {
      "application/vnd.jupyter.widget-view+json": {
       "model_id": "f4da6a644f304325a4a5a734e4e5388d",
       "version_major": 2,
       "version_minor": 0
      },
      "text/plain": [
       "  0%|          | 0/126323 [00:00<?, ?it/s]"
      ]
     },
     "metadata": {},
     "output_type": "display_data"
    },
    {
     "data": {
      "application/vnd.jupyter.widget-view+json": {
       "model_id": "57d989a7fa3849cf9a19ce41923817e7",
       "version_major": 2,
       "version_minor": 0
      },
      "text/plain": [
       "  0%|          | 0/126323 [00:00<?, ?it/s]"
      ]
     },
     "metadata": {},
     "output_type": "display_data"
    },
    {
     "data": {
      "application/vnd.jupyter.widget-view+json": {
       "model_id": "448bb3b579a54764ae78ffe55d0b4fb1",
       "version_major": 2,
       "version_minor": 0
      },
      "text/plain": [
       "  0%|          | 0/126323 [00:00<?, ?it/s]"
      ]
     },
     "metadata": {},
     "output_type": "display_data"
    }
   ],
   "source": [
    "# preprocess\n",
    "df_train[\"excerpt_pp\"] = df_train[\"translation_en\"].progress_apply(preprocess)\n",
    "# tokenize and cacl ngrams\n",
    "df_train[\"tokenized_excerpt\"] = df_train[\"translation_en\"].progress_apply(preprocess_and_tokenize)\n",
    "df_train[\"bigram_excerpt\"] = df_train[\"translation_en\"].progress_apply(lambda x: preprocess_and_tokenize(x, 2))\n",
    "df_train[\"trigram_excerpt\"] = df_train[\"translation_en\"].progress_apply(lambda x: preprocess_and_tokenize(x, 3))\n",
    "df_train[\"fourgram_excerpt\"] = df_train[\"translation_en\"].progress_apply(lambda x: preprocess_and_tokenize(x, 4))\n",
    "df_train[\"fivegram_excerpt\"] = df_train[\"translation_en\"].progress_apply(lambda x: preprocess_and_tokenize(x, 5))\n",
    "df_train[\"sixgram_excerpt\"] = df_train[\"translation_en\"].progress_apply(lambda x: preprocess_and_tokenize(x, 6))\n",
    "df_train[\"sevengram_excerpt\"] = df_train[\"translation_en\"].progress_apply(lambda x: preprocess_and_tokenize(x, 7))"
   ]
  },
  {
   "cell_type": "code",
   "execution_count": 15,
   "id": "7cb82e1e",
   "metadata": {
    "ExecuteTime": {
     "end_time": "2022-01-27T12:23:36.937662Z",
     "start_time": "2022-01-27T12:23:04.691158Z"
    }
   },
   "outputs": [
    {
     "data": {
      "application/vnd.jupyter.widget-view+json": {
       "model_id": "741ca60125064fe183da0e0026445528",
       "version_major": 2,
       "version_minor": 0
      },
      "text/plain": [
       "  0%|          | 0/14425 [00:00<?, ?it/s]"
      ]
     },
     "metadata": {},
     "output_type": "display_data"
    },
    {
     "data": {
      "application/vnd.jupyter.widget-view+json": {
       "model_id": "35c9facd9ede4d21b41786c445ad42f6",
       "version_major": 2,
       "version_minor": 0
      },
      "text/plain": [
       "  0%|          | 0/14425 [00:00<?, ?it/s]"
      ]
     },
     "metadata": {},
     "output_type": "display_data"
    },
    {
     "data": {
      "application/vnd.jupyter.widget-view+json": {
       "model_id": "80d70b5ef8454289a67d9071bca78a16",
       "version_major": 2,
       "version_minor": 0
      },
      "text/plain": [
       "  0%|          | 0/14425 [00:00<?, ?it/s]"
      ]
     },
     "metadata": {},
     "output_type": "display_data"
    },
    {
     "data": {
      "application/vnd.jupyter.widget-view+json": {
       "model_id": "cf4a9edda2b0409ea057f83052c19ba4",
       "version_major": 2,
       "version_minor": 0
      },
      "text/plain": [
       "  0%|          | 0/14425 [00:00<?, ?it/s]"
      ]
     },
     "metadata": {},
     "output_type": "display_data"
    },
    {
     "data": {
      "application/vnd.jupyter.widget-view+json": {
       "model_id": "173906b70c2049a5b944db1ebc69fb46",
       "version_major": 2,
       "version_minor": 0
      },
      "text/plain": [
       "  0%|          | 0/14425 [00:00<?, ?it/s]"
      ]
     },
     "metadata": {},
     "output_type": "display_data"
    },
    {
     "data": {
      "application/vnd.jupyter.widget-view+json": {
       "model_id": "f55dbc4d62774d89a7b555ccf56d5e85",
       "version_major": 2,
       "version_minor": 0
      },
      "text/plain": [
       "  0%|          | 0/14425 [00:00<?, ?it/s]"
      ]
     },
     "metadata": {},
     "output_type": "display_data"
    },
    {
     "data": {
      "application/vnd.jupyter.widget-view+json": {
       "model_id": "a4cc926d37db4873b674e23b58d5535f",
       "version_major": 2,
       "version_minor": 0
      },
      "text/plain": [
       "  0%|          | 0/14425 [00:00<?, ?it/s]"
      ]
     },
     "metadata": {},
     "output_type": "display_data"
    },
    {
     "data": {
      "application/vnd.jupyter.widget-view+json": {
       "model_id": "0b5be2559c364cb299c085bcdb72805b",
       "version_major": 2,
       "version_minor": 0
      },
      "text/plain": [
       "  0%|          | 0/14425 [00:00<?, ?it/s]"
      ]
     },
     "metadata": {},
     "output_type": "display_data"
    }
   ],
   "source": [
    "# preprocess\n",
    "df_val[\"excerpt_pp\"] = df_val[\"translation_en\"].progress_apply(preprocess)\n",
    "# tokenize and cacl ngrams\n",
    "df_val[\"tokenized_excerpt\"] = df_val[\"translation_en\"].progress_apply(preprocess_and_tokenize)\n",
    "df_val[\"bigram_excerpt\"] = df_val[\"translation_en\"].progress_apply(lambda x: preprocess_and_tokenize(x, 2))\n",
    "df_val[\"trigram_excerpt\"] = df_val[\"translation_en\"].progress_apply(lambda x: preprocess_and_tokenize(x, 3))\n",
    "df_val[\"fourgram_excerpt\"] = df_val[\"translation_en\"].progress_apply(lambda x: preprocess_and_tokenize(x, 4))\n",
    "df_val[\"fivegram_excerpt\"] = df_val[\"translation_en\"].progress_apply(lambda x: preprocess_and_tokenize(x, 5))\n",
    "df_val[\"sixgram_excerpt\"] = df_val[\"translation_en\"].progress_apply(lambda x: preprocess_and_tokenize(x, 6))\n",
    "df_val[\"sevengram_excerpt\"] = df_val[\"translation_en\"].progress_apply(lambda x: preprocess_and_tokenize(x, 7))"
   ]
  },
  {
   "cell_type": "code",
   "execution_count": 16,
   "id": "cd72ae78",
   "metadata": {
    "ExecuteTime": {
     "end_time": "2022-01-27T12:24:17.527808Z",
     "start_time": "2022-01-27T12:23:38.674525Z"
    }
   },
   "outputs": [
    {
     "data": {
      "application/vnd.jupyter.widget-view+json": {
       "model_id": "1f9bec3e59964adca48a6cb597d2b9d3",
       "version_major": 2,
       "version_minor": 0
      },
      "text/plain": [
       "  0%|          | 0/17200 [00:00<?, ?it/s]"
      ]
     },
     "metadata": {},
     "output_type": "display_data"
    },
    {
     "data": {
      "application/vnd.jupyter.widget-view+json": {
       "model_id": "51f0905a0e4745e186066ec0b1221fe6",
       "version_major": 2,
       "version_minor": 0
      },
      "text/plain": [
       "  0%|          | 0/17200 [00:00<?, ?it/s]"
      ]
     },
     "metadata": {},
     "output_type": "display_data"
    },
    {
     "data": {
      "application/vnd.jupyter.widget-view+json": {
       "model_id": "f2ee9d7617624ce0a904aba61b7a5ec6",
       "version_major": 2,
       "version_minor": 0
      },
      "text/plain": [
       "  0%|          | 0/17200 [00:00<?, ?it/s]"
      ]
     },
     "metadata": {},
     "output_type": "display_data"
    },
    {
     "data": {
      "application/vnd.jupyter.widget-view+json": {
       "model_id": "c5ab06b72cdd4cd6973e38aae7f1085d",
       "version_major": 2,
       "version_minor": 0
      },
      "text/plain": [
       "  0%|          | 0/17200 [00:00<?, ?it/s]"
      ]
     },
     "metadata": {},
     "output_type": "display_data"
    },
    {
     "data": {
      "application/vnd.jupyter.widget-view+json": {
       "model_id": "74d9999bf02f4f0ebba37cc8ac65c732",
       "version_major": 2,
       "version_minor": 0
      },
      "text/plain": [
       "  0%|          | 0/17200 [00:00<?, ?it/s]"
      ]
     },
     "metadata": {},
     "output_type": "display_data"
    },
    {
     "data": {
      "application/vnd.jupyter.widget-view+json": {
       "model_id": "ffeaca08648640c6b6aeeeaa562c5b48",
       "version_major": 2,
       "version_minor": 0
      },
      "text/plain": [
       "  0%|          | 0/17200 [00:00<?, ?it/s]"
      ]
     },
     "metadata": {},
     "output_type": "display_data"
    },
    {
     "data": {
      "application/vnd.jupyter.widget-view+json": {
       "model_id": "f3cd16ec4b99467c9d64f751d0fc9efe",
       "version_major": 2,
       "version_minor": 0
      },
      "text/plain": [
       "  0%|          | 0/17200 [00:00<?, ?it/s]"
      ]
     },
     "metadata": {},
     "output_type": "display_data"
    },
    {
     "data": {
      "application/vnd.jupyter.widget-view+json": {
       "model_id": "0557eb2f861841c0b0ca0954598a1303",
       "version_major": 2,
       "version_minor": 0
      },
      "text/plain": [
       "  0%|          | 0/17200 [00:00<?, ?it/s]"
      ]
     },
     "metadata": {},
     "output_type": "display_data"
    }
   ],
   "source": [
    "# preprocess\n",
    "df_test[\"excerpt_pp\"] = df_test[\"translation_en\"].progress_apply(preprocess)\n",
    "# tokenize and cacl ngrams\n",
    "df_test[\"tokenized_excerpt\"] = df_test[\"translation_en\"].progress_apply(preprocess_and_tokenize)\n",
    "df_test[\"bigram_excerpt\"] = df_test[\"translation_en\"].progress_apply(lambda x: preprocess_and_tokenize(x, 2))\n",
    "df_test[\"trigram_excerpt\"] = df_test[\"translation_en\"].progress_apply(lambda x: preprocess_and_tokenize(x, 3))\n",
    "df_test[\"fourgram_excerpt\"] = df_test[\"translation_en\"].progress_apply(lambda x: preprocess_and_tokenize(x, 4))\n",
    "df_test[\"fivegram_excerpt\"] = df_test[\"translation_en\"].progress_apply(lambda x: preprocess_and_tokenize(x, 5))\n",
    "df_test[\"sixgram_excerpt\"] = df_test[\"translation_en\"].progress_apply(lambda x: preprocess_and_tokenize(x, 6))\n",
    "df_test[\"sevengram_excerpt\"] = df_test[\"translation_en\"].progress_apply(lambda x: preprocess_and_tokenize(x, 7))"
   ]
  },
  {
   "cell_type": "code",
   "execution_count": 17,
   "id": "4b08315e",
   "metadata": {
    "ExecuteTime": {
     "end_time": "2022-01-27T12:24:20.514247Z",
     "start_time": "2022-01-27T12:24:20.512192Z"
    }
   },
   "outputs": [],
   "source": [
    "INFANT = 'Infants/Toddlers (<5 years old)'\n",
    "CHILD = 'Children/Youth (5 to 17 years old)'\n",
    "ADULT = 'Adult (18 to 59 years old)'\n",
    "OLD = 'Older Persons (60+ years old)'"
   ]
  },
  {
   "cell_type": "code",
   "execution_count": 18,
   "id": "f6facf2a",
   "metadata": {
    "ExecuteTime": {
     "end_time": "2022-01-27T12:24:23.387659Z",
     "start_time": "2022-01-27T12:24:23.385079Z"
    }
   },
   "outputs": [],
   "source": [
    "def pred_age(row):\n",
    "    lbls = []\n",
    "    if is_infant(row):\n",
    "        lbls.append(INFANT)\n",
    "    if is_child(row):\n",
    "        lbls.append(CHILD)\n",
    "    if is_adult(row):\n",
    "        lbls.append(ADULT)\n",
    "    if is_old(row):\n",
    "        lbls.append(OLD)\n",
    "    return lbls"
   ]
  },
  {
   "cell_type": "code",
   "execution_count": 19,
   "id": "03704f41",
   "metadata": {
    "ExecuteTime": {
     "end_time": "2022-01-27T12:24:26.295975Z",
     "start_time": "2022-01-27T12:24:26.294250Z"
    }
   },
   "outputs": [],
   "source": [
    "# i = 11255\n",
    "# row = df_test[df_test['entry_id'].eq(i)].iloc[0]\n",
    "# row[\"excerpt\"]"
   ]
  },
  {
   "cell_type": "code",
   "execution_count": 20,
   "id": "d3cc8ceb",
   "metadata": {
    "ExecuteTime": {
     "end_time": "2022-01-27T12:24:29.166842Z",
     "start_time": "2022-01-27T12:24:29.164840Z"
    }
   },
   "outputs": [],
   "source": [
    "# is_child(row)"
   ]
  },
  {
   "cell_type": "code",
   "execution_count": 21,
   "id": "4ccfb4cf",
   "metadata": {
    "ExecuteTime": {
     "end_time": "2022-01-27T12:27:03.193744Z",
     "start_time": "2022-01-27T12:24:32.051876Z"
    },
    "scrolled": true
   },
   "outputs": [
    {
     "data": {
      "application/vnd.jupyter.widget-view+json": {
       "model_id": "0ae9d64fd15e4f998bf326dad217221f",
       "version_major": 2,
       "version_minor": 0
      },
      "text/plain": [
       "  0%|          | 0/126323 [00:00<?, ?it/s]"
      ]
     },
     "metadata": {},
     "output_type": "display_data"
    }
   ],
   "source": [
    "df_train[\"age_kw_pred\"] = df_train.progress_apply(pred_age, axis=1)"
   ]
  },
  {
   "cell_type": "code",
   "execution_count": 22,
   "id": "c408ad58",
   "metadata": {
    "ExecuteTime": {
     "end_time": "2022-01-27T12:27:23.591667Z",
     "start_time": "2022-01-27T12:27:06.074316Z"
    }
   },
   "outputs": [
    {
     "data": {
      "application/vnd.jupyter.widget-view+json": {
       "model_id": "9ab8dd088ac8452d92fdb56fbb169989",
       "version_major": 2,
       "version_minor": 0
      },
      "text/plain": [
       "  0%|          | 0/14425 [00:00<?, ?it/s]"
      ]
     },
     "metadata": {},
     "output_type": "display_data"
    }
   ],
   "source": [
    "df_val[\"age_kw_pred\"] = df_val.progress_apply(pred_age, axis=1)"
   ]
  },
  {
   "cell_type": "code",
   "execution_count": 23,
   "id": "966feb65",
   "metadata": {
    "ExecuteTime": {
     "end_time": "2022-01-27T12:27:47.247524Z",
     "start_time": "2022-01-27T12:27:26.443628Z"
    }
   },
   "outputs": [
    {
     "data": {
      "application/vnd.jupyter.widget-view+json": {
       "model_id": "4a8b71c460524758b98213db6c732bbf",
       "version_major": 2,
       "version_minor": 0
      },
      "text/plain": [
       "  0%|          | 0/17200 [00:00<?, ?it/s]"
      ]
     },
     "metadata": {},
     "output_type": "display_data"
    }
   ],
   "source": [
    "df_test[\"age_kw_pred\"] = df_test.progress_apply(pred_age, axis=1)"
   ]
  },
  {
   "cell_type": "code",
   "execution_count": 24,
   "id": "9d5f086b",
   "metadata": {
    "ExecuteTime": {
     "end_time": "2022-01-27T12:27:50.365302Z",
     "start_time": "2022-01-27T12:27:50.120164Z"
    }
   },
   "outputs": [],
   "source": [
    "df_train.to_csv(\"train_0.7.1_keyword_age.csv\",\n",
    "               index=False,\n",
    "               columns=['entry_id', 'age_kw_pred'])\n",
    "##\n",
    "df_val.to_csv(\"val_0.7.1_keyword_age.csv\",\n",
    "               index=False,\n",
    "               columns=['entry_id', 'age_kw_pred'])\n",
    "##\n",
    "df_test.to_csv(\"test_0.7.1_keyword_age.csv\",\n",
    "               index=False,\n",
    "               columns=['entry_id', 'age_kw_pred'])"
   ]
  },
  {
   "cell_type": "code",
   "execution_count": 25,
   "id": "568ef7a3",
   "metadata": {
    "ExecuteTime": {
     "end_time": "2022-01-27T12:27:53.227698Z",
     "start_time": "2022-01-27T12:27:53.214575Z"
    }
   },
   "outputs": [
    {
     "data": {
      "text/plain": [
       "(108248, (126323, 16))"
      ]
     },
     "execution_count": 25,
     "metadata": {},
     "output_type": "execute_result"
    }
   ],
   "source": [
    "(df_train[\"age_kw_pred\"] == df_train[\"age\"]).sum(), df_train.shape"
   ]
  },
  {
   "cell_type": "code",
   "execution_count": 26,
   "id": "8255546e",
   "metadata": {
    "ExecuteTime": {
     "end_time": "2022-01-27T12:27:56.062923Z",
     "start_time": "2022-01-27T12:27:56.058696Z"
    }
   },
   "outputs": [
    {
     "data": {
      "text/plain": [
       "(12338, (14425, 16))"
      ]
     },
     "execution_count": 26,
     "metadata": {},
     "output_type": "execute_result"
    }
   ],
   "source": [
    "(df_val[\"age_kw_pred\"] == df_val[\"age\"]).sum(), df_val.shape"
   ]
  },
  {
   "cell_type": "code",
   "execution_count": 28,
   "id": "f96cdbf9",
   "metadata": {
    "ExecuteTime": {
     "end_time": "2022-01-27T12:28:50.729865Z",
     "start_time": "2022-01-27T12:28:50.723948Z"
    }
   },
   "outputs": [
    {
     "data": {
      "text/plain": [
       "(14610, (17200, 16))"
      ]
     },
     "execution_count": 28,
     "metadata": {},
     "output_type": "execute_result"
    }
   ],
   "source": [
    "(df_test[\"age_kw_pred\"] == df_test[\"age\"]).sum(), df_test.shape"
   ]
  },
  {
   "cell_type": "code",
   "execution_count": null,
   "id": "79b7de94",
   "metadata": {},
   "outputs": [],
   "source": []
  }
 ],
 "metadata": {
  "interpreter": {
   "hash": "bfd2cb51950d52841292b08ea08cdc1dbb17d8669f0e50080d9d4c6b3a007569"
  },
  "kernelspec": {
   "display_name": "Python 3 (ipykernel)",
   "language": "python",
   "name": "python3"
  },
  "language_info": {
   "codemirror_mode": {
    "name": "ipython",
    "version": 3
   },
   "file_extension": ".py",
   "mimetype": "text/x-python",
   "name": "python",
   "nbconvert_exporter": "python",
   "pygments_lexer": "ipython3",
   "version": "3.8.11"
  },
  "varInspector": {
   "cols": {
    "lenName": 16,
    "lenType": 16,
    "lenVar": 40
   },
   "kernels_config": {
    "python": {
     "delete_cmd_postfix": "",
     "delete_cmd_prefix": "del ",
     "library": "var_list.py",
     "varRefreshCmd": "print(var_dic_list())"
    },
    "r": {
     "delete_cmd_postfix": ") ",
     "delete_cmd_prefix": "rm(",
     "library": "var_list.r",
     "varRefreshCmd": "cat(var_dic_list()) "
    }
   },
   "types_to_exclude": [
    "module",
    "function",
    "builtin_function_or_method",
    "instance",
    "_Feature"
   ],
   "window_display": false
  }
 },
 "nbformat": 4,
 "nbformat_minor": 5
}
