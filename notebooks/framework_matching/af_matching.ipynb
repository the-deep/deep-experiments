{
 "cells": [
  {
   "cell_type": "markdown",
   "metadata": {},
   "source": [
    "### Matching frameworks\n",
    "0. Let's call the set of analysis frameworks that we have in our training set as AF-t. We already know how to map any framework from AF-t to the NLP framework using the mapping excel sheet that we created with Patrice.\n",
    "1. Given a user-defined analysis framework, calculate a matching score between it and all the analysis frameworks in AF-t.\n",
    "2. Let's call the analysis framework from AF-t that gave the highest matching score AF-match.\n",
    "3. The mapping between AF-match and the NLP framework will be suggested as the mapping between the user-defined framework and the NLP framework.\n",
    "\n",
    "Example:\n",
    "Given a user-defined analysis framework, we find that the closest framework to be, for example, \"IFRC ESSN Turkey 2021\". The mapping between the user-defined analysis and the NLP framework will be the same as (or similar to) the mapping between \"IFRC ESSN Turkey 2021\" and the NLP framework."
   ]
  },
  {
   "cell_type": "code",
   "execution_count": 1,
   "metadata": {
    "ExecuteTime": {
     "end_time": "2021-09-20T11:07:03.776507Z",
     "start_time": "2021-09-20T11:07:03.459679Z"
    }
   },
   "outputs": [],
   "source": [
    "import re\n",
    "import json\n",
    "import pandas as pd"
   ]
  },
  {
   "cell_type": "code",
   "execution_count": 2,
   "metadata": {},
   "outputs": [],
   "source": [
    "import os\n",
    "os.chdir(\"/home/abdullah/Documents/DFS/data_raw\")"
   ]
  },
  {
   "cell_type": "code",
   "execution_count": 3,
   "metadata": {
    "ExecuteTime": {
     "end_time": "2021-09-20T11:07:04.602228Z",
     "start_time": "2021-09-20T11:07:04.313728Z"
    }
   },
   "outputs": [],
   "source": [
    "afs = pd.read_csv(\"analysis_frameworks.csv\")\n",
    "af_widgets = pd.read_csv(\"af_widgets_all.csv\")"
   ]
  },
  {
   "cell_type": "code",
   "execution_count": 4,
   "metadata": {},
   "outputs": [],
   "source": [
    "af_widgets['title'] = af_widgets['title'].str.title()"
   ]
  },
  {
   "cell_type": "code",
   "execution_count": 5,
   "metadata": {
    "ExecuteTime": {
     "end_time": "2021-09-20T11:07:05.022100Z",
     "start_time": "2021-09-20T11:07:04.990667Z"
    }
   },
   "outputs": [
    {
     "data": {
      "text/plain": [
       "722"
      ]
     },
     "execution_count": 5,
     "metadata": {},
     "output_type": "execute_result"
    }
   ],
   "source": [
    "# filter out test frameworks\n",
    "afs = afs[~((afs[\"title\"].str.len() < 4) | afs[\"title\"].str.\n",
    "            contains(\"train|test|clone|draft\", regex=True, case=False)\n",
    "            | afs[\"description\"].str.\n",
    "            contains(\"train|test|clone|draft\", regex=True, case=False))]\n",
    "len(afs)"
   ]
  },
  {
   "cell_type": "code",
   "execution_count": 6,
   "metadata": {
    "ExecuteTime": {
     "end_time": "2021-09-20T11:07:05.567075Z",
     "start_time": "2021-09-20T11:07:05.339916Z"
    },
    "scrolled": true
   },
   "outputs": [],
   "source": [
    "af_widgets[\"properties\"] = af_widgets[\"properties\"].apply(json.loads)\n",
    "af_widgets = pd.merge(af_widgets,\n",
    "                      afs[[\"id\", \"title\"]],\n",
    "                      left_on=\"analysis_framework_id\",\n",
    "                      right_on=\"id\",\n",
    "                      suffixes=(\"\", \"_af\"))\n",
    "af_widgets.drop(columns=\"id_af\", inplace=True)\n",
    "af_widgets.rename({\"title_af\": \"analysis_framework_title\"}, axis=1, inplace=True)"
   ]
  },
  {
   "cell_type": "code",
   "execution_count": 7,
   "metadata": {},
   "outputs": [],
   "source": [
    "def process_str(s):\n",
    "    # to make the matching easier,\n",
    "    # preprocess 1D sub-pillars, 2D sub-pillars and sectors' titles\n",
    "    if s != s or s==\"\":\n",
    "        return \"\"\n",
    "    s = s.upper()\n",
    "    s = s.replace(\"/\", \" / \")\n",
    "    s = s.replace(\"&\", \" and \")\n",
    "    s = re.sub(\"\\s+\", \" \", s).strip()\n",
    "    return s\n",
    "\n",
    "def get_2d_pillars(widget_properties):\n",
    "    # given a `matrix2dWidget` widget properties, extract 2D pillars and 2D sub-pillars' titles\n",
    "    if \"data\" not in widget_properties or widget_properties[\"data\"] is None:\n",
    "        pillars, subpillars = set(), set()\n",
    "    else:\n",
    "        dims = widget_properties[\"data\"]['dimensions']\n",
    "        pillars_subpillars = dict()\n",
    "        for dim in dims:\n",
    "            pillar = process_str(dim[\"title\"])\n",
    "            sub_pillars = []\n",
    "            for sub_pillar_dict in dim[\"subdimensions\"]:\n",
    "                sub_pillars.append(process_str(sub_pillar_dict[\"title\"]))\n",
    "            pillars_subpillars[pillar] = sub_pillars\n",
    "        pillars = set(list(sorted(list(pillars_subpillars.keys()))))\n",
    "        subpillars = set(list(sorted([\n",
    "            f\"{p}->{sp}\" for p, sps in pillars_subpillars.items() for sp in sps\n",
    "        ])))\n",
    "    return pillars, subpillars\n",
    "\n",
    "\n",
    "def get_1d_pillars(widget_properties):\n",
    "    # given a `matrix1dWidget` widget properties, extract 1D pillars and 1D sub-pillars' titles\n",
    "    if \"data\" not in widget_properties or widget_properties[\"data\"] is None:\n",
    "        pillars, subpillars = set(), set()\n",
    "    else:\n",
    "        pills = widget_properties[\"data\"]['rows']\n",
    "        pillars_subpillars = dict()\n",
    "        for pill in pills:\n",
    "            pillar = process_str(pill[\"title\"])\n",
    "            sub_pillars = []\n",
    "            for sub_pillar_dict in pill[\"cells\"]:\n",
    "                sub_pillars.append(process_str(sub_pillar_dict[\"value\"]))\n",
    "            pillars_subpillars[pillar] = sub_pillars\n",
    "        pillars = set(list(sorted(list(pillars_subpillars.keys()))))\n",
    "        subpillars = set(list(sorted([\n",
    "            f\"{p}->{sp}\" for p, sps in pillars_subpillars.items() for sp in sps\n",
    "        ])))\n",
    "    return pillars, subpillars\n",
    "\n",
    "\n",
    "def get_sectors(widget_properties):\n",
    "    # given a `matrix2dWidget` widget, extract sectors and sub-sectors' titles\n",
    "    if \"data\" not in widget_properties or widget_properties[\"data\"] is None:\n",
    "        sectors, subsectors = set(), set()\n",
    "    else:\n",
    "        sectors = widget_properties[\"data\"]['sectors']\n",
    "        sectors_subsectors = dict()\n",
    "        for sec in sectors:\n",
    "            sector = process_str(sec[\"title\"])\n",
    "            sub_sectors = []\n",
    "            for sub_sector_dict in sec[\"subsectors\"]:\n",
    "                sub_sectors.append(process_str(sub_sector_dict[\"title\"]))\n",
    "            sectors_subsectors[sector] = sub_sectors\n",
    "        sectors = set(list(sorted(list(sectors_subsectors.keys()))))\n",
    "        subsectors = set(list(sorted([\n",
    "            f\"{p}->{sp}\" for p, sps in sectors_subsectors.items() for sp in sps\n",
    "        ])))\n",
    "    return sectors, subsectors\n",
    "\n"
   ]
  },
  {
   "cell_type": "code",
   "execution_count": 8,
   "metadata": {},
   "outputs": [],
   "source": [
    "def match_score(af_user, af_predefined):\n",
    "    # This function calculates a score of the similarity between two analysis frameworks.\n",
    "    # It first gets the sectors, 1D sub-pillars and 2D sub-pillars of each framework as sets of strings.\n",
    "    # Then, it calculates the ratios of matched sectors, 1D sub-pillars and 2D sub-pillars.\n",
    "    # Finally, it sums those scores to return a final matchign score.\n",
    "    #\n",
    "    # Notes: \n",
    "    # # 1. I am not matching sub-sectors since they are not used at the moment\n",
    "    # # 2. sometimes a 2D sub-pillar from a source framework matches a 1D sub-pillar from a target framework,\n",
    "    # # so I am taking this into account when matching.\n",
    "    \n",
    "    sectors_af_user, _ = get_sectors(af_user[\"2D Matrix\"])\n",
    "    _, subpillars_1d_af_user = get_1d_pillars(af_user[\"1D Matrix\"])\n",
    "    _, subpillars_2d_af_user = get_2d_pillars(af_user[\"2D Matrix\"])\n",
    "    #\n",
    "    sectors_af_predefined, _ = get_sectors(af_predefined[\"2D Matrix\"])\n",
    "    _, subpillars_1d_af_predefined = get_1d_pillars(\n",
    "        af_predefined[\"1D Matrix\"])\n",
    "    _, subpillars_2d_af_predefined = get_2d_pillars(\n",
    "        af_predefined[\"2D Matrix\"])\n",
    "    ###\n",
    "    matched_sectors_perc = 0\n",
    "    if len(sectors_af_user):\n",
    "        matched_sectors_perc = len(\n",
    "            sectors_af_user & sectors_af_predefined)/len(sectors_af_user)\n",
    "    #\n",
    "    matched_subpillars_1d_perc = 0\n",
    "    if len(subpillars_1d_af_user):\n",
    "        matched_subpillars_1d_perc = len(subpillars_1d_af_user & (\n",
    "            subpillars_1d_af_predefined | subpillars_2d_af_predefined))/len(subpillars_1d_af_user)\n",
    "    #\n",
    "    matched_subpillars_2d_perc = 0\n",
    "    if len(subpillars_2d_af_user):\n",
    "        matched_subpillars_2d_perc = len(subpillars_2d_af_user & (\n",
    "            subpillars_1d_af_predefined | subpillars_2d_af_predefined))/len(subpillars_2d_af_user)\n",
    "    #\n",
    "    return matched_sectors_perc + matched_subpillars_1d_perc + matched_subpillars_2d_perc\n"
   ]
  },
  {
   "cell_type": "code",
   "execution_count": 9,
   "metadata": {},
   "outputs": [
    {
     "data": {
      "text/plain": [
       "(1.3487193920630454, 1.6090909090909091, 3.0, 3.0)"
      ]
     },
     "execution_count": 9,
     "metadata": {},
     "output_type": "execute_result"
    }
   ],
   "source": [
    "# Test `match_score` function\n",
    "af_1 = { # IMMAP/DFS Situation Analysis Framework (id=1306)\n",
    "    \"2D Matrix\": af_widgets[af_widgets[\"analysis_framework_id\"].eq(1306) & af_widgets[\"title\"].eq(\"Sectoral Information\")][\"properties\"].iloc[0],\n",
    "    \"1D Matrix\": af_widgets[af_widgets[\"analysis_framework_id\"].eq(1306) & af_widgets[\"title\"].eq(\"Operational Environment\")][\"properties\"].iloc[0],\n",
    "\n",
    "}\n",
    "af_2 = { # IFRC Master Framework 2019 (id=699)\n",
    "    \"2D Matrix\": af_widgets[af_widgets[\"analysis_framework_id\"].eq(699) & af_widgets[\"title\"].eq(\"Sectoral Information\")][\"properties\"].iloc[0],\n",
    "    \"1D Matrix\": af_widgets[af_widgets[\"analysis_framework_id\"].eq(699) & af_widgets[\"title\"].eq(\"Operational Environment\")][\"properties\"].iloc[0],\n",
    "}\n",
    "#\n",
    "match_score(af_1, af_2), match_score(af_2, af_1), match_score(af_1, af_1), match_score(af_2, af_2)\n"
   ]
  },
  {
   "cell_type": "code",
   "execution_count": 10,
   "metadata": {},
   "outputs": [],
   "source": [
    "already_mapped_frameworks = {\n",
    "        \"2020 Okular Analytics Framework\": {\"2D Matrix\": None, \"1D Matrix\": None},\n",
    "        \"Colombia-AF\": {\"2D Matrix\": None, \"1D Matrix\": None},\n",
    "        \"GIMAC Generic\": {\"2D Matrix\": None, \"1D Matrix\": None},\n",
    "        \"IFRC Analytical Framework 2018\": {\"2D Matrix\": None, \"1D Matrix\": None},\n",
    "        \"IFRC ESSN Turkey 2021\": {\"2D Matrix\": None, \"1D Matrix\": None},\n",
    "        \"IFRC Master Framework 2019\": {\"2D Matrix\": None, \"1D Matrix\": None},\n",
    "        \"IMMAP/DFS Situation Analysis Framework\": {\"2D Matrix\": None, \"1D Matrix\": None},\n",
    "        #\"JIAF Multi Sectoral\": {\"2D Matrix\": None, \"1D Matrix\": None},\n",
    "        \"Nigeria Situation Analysis (OA)\": {\"2D Matrix\": None, \"1D Matrix\": None},\n",
    "        \"Okular Analytics Generic\": {\"2D Matrix\": None, \"1D Matrix\": None},\n",
    "        \"Okular Analytics Libya\": {\"2D Matrix\": None, \"1D Matrix\": None},\n",
    "        \"Rohingya Framework\": {\"2D Matrix\": None, \"1D Matrix\": None},\n",
    "        \"Situation Analysis Generic Libya\": {\"2D Matrix\": None, \"1D Matrix\": None},\n",
    "        \"Situation Analysis Generic Yemen\": {\"2D Matrix\": None, \"1D Matrix\": None},\n",
    "    }\n",
    "\n",
    "mat2d_titles = [\n",
    "    \"Pre-Crisis\",\n",
    "    \"Shock/Event\",\n",
    "    \"In-Crisis\",\n",
    "    \"Sectors\",\n",
    "    \"Sectoral Information\",\n",
    "    \"Matrix 2D\",\n",
    "]\n",
    "\n",
    "mat1d_titles = [ \"Operational Environment\", \"Cross Sector\", \"Matrix 1D\", \"Cross Sectors\", ('Operational Environment - Dimension', 'Operational Environment - Subdimension'), 'Flag',  \"High Level Tags\", ('Flag - Dimension', 'Flag - Subdimension'), ('High Level Tags - Dimension', 'High Level Tags - Subdimension')\n",
    "]\n",
    "\n",
    "for af_title in already_mapped_frameworks:\n",
    "    already_mapped_frameworks[af_title][\"2D Matrix\"] = af_widgets[af_widgets[\"analysis_framework_title\"].eq(af_title) & af_widgets[\"title\"].isin(mat2d_titles)][\"properties\"].iloc[0]\n",
    "    # WARNING: this will not always give complete info, because some frameworks have both two 1D matrices, Flags and another one.\n",
    "    already_mapped_frameworks[af_title][\"1D Matrix\"] = af_widgets[af_widgets[\"analysis_framework_title\"].eq(af_title) & af_widgets[\"title\"].isin(mat1d_titles)][\"properties\"].iloc[0]"
   ]
  },
  {
   "cell_type": "code",
   "execution_count": 11,
   "metadata": {},
   "outputs": [],
   "source": [
    "def map_to_nlp_framework(af_user):\n",
    "    # calculate the matching_score with each of the pre-matched frameworks, then output the one with highest matching score.\n",
    "    highest_matching_score = 0\n",
    "    best_matching_framework = None\n",
    "    for af_predefined_title, af_predefined in already_mapped_frameworks.items():\n",
    "        matching_score = match_score(af_user, af_predefined)\n",
    "        if matching_score > highest_matching_score:\n",
    "            highest_matching_score = matching_score\n",
    "            best_matching_framework = af_predefined_title\n",
    "    return best_matching_framework"
   ]
  },
  {
   "cell_type": "code",
   "execution_count": 12,
   "metadata": {},
   "outputs": [
    {
     "data": {
      "text/plain": [
       "'IMMAP/DFS Situation Analysis Framework'"
      ]
     },
     "execution_count": 12,
     "metadata": {},
     "output_type": "execute_result"
    }
   ],
   "source": [
    "# \"Syria Conflict Generic Framework (OA)\"\n",
    "user_defined_af_example = {\n",
    "    \"2D Matrix\": af_widgets[af_widgets[\"analysis_framework_id\"].eq(1306) & af_widgets[\"title\"].eq(\"Sectoral Information\")][\"properties\"].iloc[0],\n",
    "    \"1D Matrix\": af_widgets[af_widgets[\"analysis_framework_id\"].eq(1306) & af_widgets[\"title\"].eq(\"Operational Environment\")][\"properties\"].iloc[0],\n",
    "}\n",
    "map_to_nlp_framework(user_defined_af_example)"
   ]
  },
  {
   "cell_type": "code",
   "execution_count": null,
   "metadata": {},
   "outputs": [],
   "source": []
  }
 ],
 "metadata": {
  "kernelspec": {
   "display_name": "Python 3.8.5 64-bit ('base': conda)",
   "language": "python",
   "name": "python385jvsc74a57bd0f487e277ea6a75fd1c7c341a1deb40c7861148cbc006695943c5304af00fedbe"
  },
  "language_info": {
   "codemirror_mode": {
    "name": "ipython",
    "version": 3
   },
   "file_extension": ".py",
   "mimetype": "text/x-python",
   "name": "python",
   "nbconvert_exporter": "python",
   "pygments_lexer": "ipython3",
   "version": "3.8.5"
  },
  "varInspector": {
   "cols": {
    "lenName": 16,
    "lenType": 16,
    "lenVar": 40
   },
   "kernels_config": {
    "python": {
     "delete_cmd_postfix": "",
     "delete_cmd_prefix": "del ",
     "library": "var_list.py",
     "varRefreshCmd": "print(var_dic_list())"
    },
    "r": {
     "delete_cmd_postfix": ") ",
     "delete_cmd_prefix": "rm(",
     "library": "var_list.r",
     "varRefreshCmd": "cat(var_dic_list()) "
    }
   },
   "types_to_exclude": [
    "module",
    "function",
    "builtin_function_or_method",
    "instance",
    "_Feature"
   ],
   "window_display": false
  }
 },
 "nbformat": 4,
 "nbformat_minor": 4
}
