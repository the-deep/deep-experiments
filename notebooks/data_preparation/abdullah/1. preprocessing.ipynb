{
 "cells": [
  {
   "cell_type": "code",
   "execution_count": 1,
   "metadata": {},
   "outputs": [
    {
     "name": "stdout",
     "output_type": "stream",
     "text": [
      "time: 87.7 ms (started: 2021-04-19 19:02:30 +03:00)\n"
     ]
    }
   ],
   "source": [
    "%load_ext autotime\n",
    "%load_ext blackcellmagic"
   ]
  },
  {
   "cell_type": "code",
   "execution_count": 2,
   "metadata": {},
   "outputs": [
    {
     "name": "stdout",
     "output_type": "stream",
     "text": [
      "time: 348 ms (started: 2021-04-19 19:02:30 +03:00)\n"
     ]
    }
   ],
   "source": [
    "import re\n",
    "import string\n",
    "import numpy as np\n",
    "import pandas as pd\n",
    "import polars as pol\n",
    "from tqdm.auto import tqdm\n",
    "# from nostril import nonsense\n",
    "from rich.progress import track\n",
    "# from derand import Derand"
   ]
  },
  {
   "cell_type": "code",
   "execution_count": 3,
   "metadata": {},
   "outputs": [
    {
     "name": "stdout",
     "output_type": "stream",
     "text": [
      "time: 3.49 ms (started: 2021-04-19 19:02:36 +03:00)\n"
     ]
    },
    {
     "name": "stderr",
     "output_type": "stream",
     "text": [
      "/home/abdullah/anaconda3/lib/python3.8/site-packages/tqdm/std.py:697: FutureWarning: The Panel class is removed from pandas. Accessing it from the top-level namespace will also be removed in the next version\n",
      "  from pandas import Panel\n"
     ]
    }
   ],
   "source": [
    "tqdm.pandas()"
   ]
  },
  {
   "cell_type": "code",
   "execution_count": 4,
   "metadata": {},
   "outputs": [
    {
     "name": "stdout",
     "output_type": "stream",
     "text": [
      "time: 1.82 s (started: 2021-04-19 19:02:50 +03:00)\n"
     ]
    }
   ],
   "source": [
    "sentences = pd.read_csv(\"data/sentences.csv\")\n",
    "sentences_ann = pd.read_csv(\"data/sentences_annotated.csv\")\n",
    "collections = pd.read_csv(\"data/collections.csv\")\n",
    "# entries = pd.read_csv(\"data/entries_raw.csv\")"
   ]
  },
  {
   "cell_type": "code",
   "execution_count": 22,
   "metadata": {},
   "outputs": [
    {
     "data": {
      "text/plain": [
       "4924"
      ]
     },
     "execution_count": 22,
     "metadata": {},
     "output_type": "execute_result"
    },
    {
     "name": "stdout",
     "output_type": "stream",
     "text": [
      "time: 2.4 ms (started: 2021-04-21 11:12:18 +03:00)\n"
     ]
    }
   ],
   "source": [
    "len(collections)"
   ]
  },
  {
   "cell_type": "code",
   "execution_count": 5,
   "metadata": {},
   "outputs": [
    {
     "name": "stdout",
     "output_type": "stream",
     "text": [
      "time: 294 µs (started: 2021-04-19 19:02:54 +03:00)\n"
     ]
    }
   ],
   "source": [
    "# 1. preprocess\n",
    "# 2. remove meaningless strings\n",
    "# 3. match\n",
    "# 4. detect lang\n",
    "# 5. split"
   ]
  },
  {
   "cell_type": "code",
   "execution_count": 6,
   "metadata": {},
   "outputs": [
    {
     "name": "stdout",
     "output_type": "stream",
     "text": [
      "time: 1.47 ms (started: 2021-04-19 19:02:58 +03:00)\n"
     ]
    }
   ],
   "source": [
    "MIN_CHAR_COUNT = 3\n",
    "MIN_WORD_COUNT = 3\n",
    "\n",
    "\n",
    "def filter_trivial(sentence):\n",
    "    if len(sentence) < MIN_CHAR_COUNT or len(\n",
    "            sentence.split()) < MIN_WORD_COUNT:\n",
    "        return \"\"\n",
    "    meaningful_words_count = 0\n",
    "    for word in sentence.split():\n",
    "        if len(word) > MIN_CHAR_COUNT:\n",
    "            meaningful_words_count += 1\n",
    "    if meaningful_words_count < MIN_WORD_COUNT:\n",
    "        return \"\"\n",
    "    return sentence"
   ]
  },
  {
   "cell_type": "code",
   "execution_count": 7,
   "metadata": {},
   "outputs": [
    {
     "name": "stdout",
     "output_type": "stream",
     "text": [
      "time: 1.07 ms (started: 2021-04-19 19:02:59 +03:00)\n"
     ]
    }
   ],
   "source": [
    "def remove_urls(sentence):\n",
    "    url_regex = re.compile(\n",
    "        r\"(?i)\\b((?:https?://|www\\d{0,3}[.]|[a-z0-9.\\-]+[.][a-z]{2,4}/)(?:[^\\s()<>]+|\\(([^\\s()<>]+|(\\([^\\s()<>]+\\)))*\\))+(?:\\(([^\\s()<>]+|(\\([^\\s()<>]+\\)))*\\)|[^\\s`!()\\[\\]{};:'\\\".,<>?«»“”‘’]))\"\n",
    "    )\n",
    "    return url_regex.sub(\" \", sentence)"
   ]
  },
  {
   "cell_type": "code",
   "execution_count": 8,
   "metadata": {},
   "outputs": [
    {
     "name": "stdout",
     "output_type": "stream",
     "text": [
      "time: 600 µs (started: 2021-04-19 19:03:00 +03:00)\n"
     ]
    }
   ],
   "source": [
    "# derander = Derand()"
   ]
  },
  {
   "cell_type": "code",
   "execution_count": 9,
   "metadata": {},
   "outputs": [
    {
     "name": "stdout",
     "output_type": "stream",
     "text": [
      "time: 1.48 ms (started: 2021-04-19 19:03:01 +03:00)\n"
     ]
    }
   ],
   "source": [
    "def preprocess(sentence, lower=True):\n",
    "    if not isinstance(sentence, str):\n",
    "        return \"\"\n",
    "    if lower:\n",
    "        sentence = sentence.lower()\n",
    "    sentence = re.sub(fr'(\\w+)([{string.punctuation}])', r'\\1 \\2', sentence)\n",
    "    sentence = re.sub(fr'([{string.punctuation}])(\\w+)', r'\\1 \\2', sentence)\n",
    "    sentence = re.sub(fr'[\\s^]([{string.punctuation}]){2,}[\\s$]', r'\\1 \\2',\n",
    "                      sentence)\n",
    "    sentence = remove_urls(sentence)\n",
    "    sentence = re.sub(r'(.)\\1+', r\"\\1\", sentence)\n",
    "    # sentence = derander.clean(sentence)\n",
    "    sentence = re.sub(\"\\s+\", \" \", sentence)\n",
    "    return sentence.strip()"
   ]
  },
  {
   "cell_type": "code",
   "execution_count": 10,
   "metadata": {},
   "outputs": [
    {
     "data": {
      "application/vnd.jupyter.widget-view+json": {
       "model_id": "b172dd0e16da450bb243cf8e2131f652",
       "version_major": 2,
       "version_minor": 0
      },
      "text/plain": [
       "HBox(children=(HTML(value=''), FloatProgress(value=0.0, max=523862.0), HTML(value='')))"
      ]
     },
     "metadata": {},
     "output_type": "display_data"
    },
    {
     "name": "stdout",
     "output_type": "stream",
     "text": [
      "\n",
      "time: 35.2 s (started: 2021-04-19 19:03:05 +03:00)\n"
     ]
    }
   ],
   "source": [
    "sentences[\"excerpt_text_pp\"] = sentences[\"excerpt_text\"].progress_apply(\n",
    "    preprocess)"
   ]
  },
  {
   "cell_type": "code",
   "execution_count": 11,
   "metadata": {},
   "outputs": [
    {
     "data": {
      "application/vnd.jupyter.widget-view+json": {
       "model_id": "c71776da5ce449d88361e32bbf378443",
       "version_major": 2,
       "version_minor": 0
      },
      "text/plain": [
       "HBox(children=(HTML(value=''), FloatProgress(value=0.0, max=523862.0), HTML(value='')))"
      ]
     },
     "metadata": {},
     "output_type": "display_data"
    },
    {
     "name": "stdout",
     "output_type": "stream",
     "text": [
      "\n",
      "time: 3.12 s (started: 2021-04-19 19:03:40 +03:00)\n"
     ]
    }
   ],
   "source": [
    "sentences[\"excerpt_text_pp\"] = sentences[\"excerpt_text_pp\"].progress_apply(\n",
    "    filter_trivial)"
   ]
  },
  {
   "cell_type": "code",
   "execution_count": 12,
   "metadata": {},
   "outputs": [
    {
     "name": "stdout",
     "output_type": "stream",
     "text": [
      "523862\n",
      "418968 104894\n",
      "time: 169 ms (started: 2021-04-19 19:03:43 +03:00)\n"
     ]
    }
   ],
   "source": [
    "print(sentences.shape[0])\n",
    "before = sentences.shape[0]\n",
    "sentences = sentences[~sentences[\"excerpt_text_pp\"].eq(\"\")]\n",
    "print(sentences.shape[0], before - sentences.shape[0])"
   ]
  },
  {
   "cell_type": "code",
   "execution_count": 13,
   "metadata": {},
   "outputs": [
    {
     "name": "stdout",
     "output_type": "stream",
     "text": [
      "418968\n",
      "355715 63253\n",
      "time: 171 ms (started: 2021-04-19 19:03:43 +03:00)\n"
     ]
    }
   ],
   "source": [
    "print(sentences.shape[0])\n",
    "before = sentences.shape[0]\n",
    "sentences = sentences[~sentences[\"excerpt_text_pp\"].duplicated()]\n",
    "print(sentences.shape[0], before - sentences.shape[0])"
   ]
  },
  {
   "cell_type": "code",
   "execution_count": 14,
   "metadata": {},
   "outputs": [
    {
     "name": "stdout",
     "output_type": "stream",
     "text": [
      "time: 1.18 s (started: 2021-04-19 19:03:59 +03:00)\n"
     ]
    }
   ],
   "source": [
    "sentences[\"unique_id\"] = sentences[\"lead_id\"].astype(str) + \"_\" + sentences[\"excerpt_id\"].astype(str)\n",
    "sentences_ann[\"unique_id\"] = sentences_ann[\"lead_id\"].astype(str) + \"_\" + sentences_ann[\"excerpt_id\"].astype(str)"
   ]
  },
  {
   "cell_type": "code",
   "execution_count": 15,
   "metadata": {},
   "outputs": [
    {
     "name": "stdout",
     "output_type": "stream",
     "text": [
      "523862\n",
      "355715 168147\n",
      "time: 278 ms (started: 2021-04-19 19:04:02 +03:00)\n"
     ]
    }
   ],
   "source": [
    "print(sentences_ann.shape[0])\n",
    "before = sentences_ann.shape[0]\n",
    "sentences_ann = sentences_ann[sentences_ann[\"unique_id\"].isin(sentences[\"unique_id\"])]\n",
    "print(sentences_ann.shape[0], before - sentences_ann.shape[0])"
   ]
  },
  {
   "cell_type": "code",
   "execution_count": 16,
   "metadata": {},
   "outputs": [
    {
     "name": "stdout",
     "output_type": "stream",
     "text": [
      "5291\n",
      "4924 367\n",
      "time: 11.6 ms (started: 2021-04-19 19:04:07 +03:00)\n"
     ]
    }
   ],
   "source": [
    "print(collections.shape[0])\n",
    "before = collections.shape[0]\n",
    "collections = collections[collections[\"lead_id\"].isin(sentences[\"lead_id\"])]\n",
    "print(collections.shape[0], before - collections.shape[0])"
   ]
  },
  {
   "cell_type": "code",
   "execution_count": 17,
   "metadata": {},
   "outputs": [
    {
     "name": "stdout",
     "output_type": "stream",
     "text": [
      "time: 5.51 s (started: 2021-04-19 19:04:17 +03:00)\n"
     ]
    }
   ],
   "source": [
    "sentences.to_csv(\"data_pp/sentences.csv\", index=None)\n",
    "sentences_ann.to_csv(\"data_pp/sentences_annotated.csv\", index=None)\n",
    "collections.to_csv(\"data_pp/collections.csv\", index=None)"
   ]
  },
  {
   "cell_type": "code",
   "execution_count": 21,
   "metadata": {},
   "outputs": [
    {
     "name": "stdout",
     "output_type": "stream",
     "text": [
      "time: 195 ms (started: 2021-04-19 19:15:05 +03:00)\n"
     ]
    }
   ],
   "source": [
    "with open(\"data_pp.txt\", \"w\") as f:\n",
    "    for s in sentences[\"excerpt_text\"]:\n",
    "        f.write(f\"{s}\\n\")"
   ]
  },
  {
   "cell_type": "code",
   "execution_count": null,
   "metadata": {},
   "outputs": [],
   "source": []
  },
  {
   "cell_type": "code",
   "execution_count": null,
   "metadata": {},
   "outputs": [],
   "source": []
  },
  {
   "cell_type": "code",
   "execution_count": null,
   "metadata": {},
   "outputs": [],
   "source": []
  }
 ],
 "metadata": {
  "kernelspec": {
   "display_name": "Python 3",
   "language": "python",
   "name": "python3"
  },
  "language_info": {
   "codemirror_mode": {
    "name": "ipython",
    "version": 3
   },
   "file_extension": ".py",
   "mimetype": "text/x-python",
   "name": "python",
   "nbconvert_exporter": "python",
   "pygments_lexer": "ipython3",
   "version": "3.8.5"
  }
 },
 "nbformat": 4,
 "nbformat_minor": 4
}
