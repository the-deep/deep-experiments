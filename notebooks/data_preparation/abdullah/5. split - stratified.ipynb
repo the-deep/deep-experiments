{
 "cells": [
  {
   "cell_type": "code",
   "execution_count": 1,
   "metadata": {
    "ExecuteTime": {
     "end_time": "2021-04-20T11:54:51.177583Z",
     "start_time": "2021-04-20T11:54:50.653862Z"
    }
   },
   "outputs": [],
   "source": [
    "import re\n",
    "import random\n",
    "from ast import literal_eval\n",
    "from collections import Counter\n",
    "import fasttext\n",
    "import numpy as np\n",
    "import pandas as pd\n",
    "from tqdm.auto import tqdm\n",
    "from skmultilearn.model_selection import iterative_train_test_split\n",
    "from skmultilearn.model_selection.measures import get_combination_wise_output_matrix"
   ]
  },
  {
   "cell_type": "code",
   "execution_count": 2,
   "metadata": {
    "ExecuteTime": {
     "end_time": "2021-04-20T11:54:51.331099Z",
     "start_time": "2021-04-20T11:54:51.325980Z"
    }
   },
   "outputs": [
    {
     "name": "stderr",
     "output_type": "stream",
     "text": [
      "/home/abdullah/anaconda3/lib/python3.8/site-packages/tqdm/std.py:697: FutureWarning: The Panel class is removed from pandas. Accessing it from the top-level namespace will also be removed in the next version\n",
      "  from pandas import Panel\n"
     ]
    }
   ],
   "source": [
    "tqdm.pandas()"
   ]
  },
  {
   "cell_type": "code",
   "execution_count": 3,
   "metadata": {
    "ExecuteTime": {
     "end_time": "2021-04-20T11:54:53.215676Z",
     "start_time": "2021-04-20T11:54:51.839219Z"
    }
   },
   "outputs": [],
   "source": [
    "documents = pd.read_csv(\"final_before_split/immap_dfs_documents.csv\")\n",
    "sentences = pd.read_csv(\"final_before_split/immap_dfs_sentences.csv\")"
   ]
  },
  {
   "cell_type": "code",
   "execution_count": 4,
   "metadata": {
    "ExecuteTime": {
     "end_time": "2021-04-20T11:55:45.845373Z",
     "start_time": "2021-04-20T11:55:43.213962Z"
    }
   },
   "outputs": [
    {
     "data": {
      "application/vnd.jupyter.widget-view+json": {
       "model_id": "0f5a1077b1f74d14b5bb913fcc169926",
       "version_major": 2,
       "version_minor": 0
      },
      "text/plain": [
       "HBox(children=(HTML(value=''), FloatProgress(value=0.0, max=355715.0), HTML(value='')))"
      ]
     },
     "metadata": {},
     "output_type": "display_data"
    },
    {
     "name": "stdout",
     "output_type": "stream",
     "text": [
      "\n"
     ]
    }
   ],
   "source": [
    "sentences[\"sector_ids\"] = sentences[\"sector_ids\"].progress_apply(literal_eval)"
   ]
  },
  {
   "cell_type": "code",
   "execution_count": 5,
   "metadata": {
    "ExecuteTime": {
     "end_time": "2021-04-20T11:55:46.741810Z",
     "start_time": "2021-04-20T11:55:46.665508Z"
    }
   },
   "outputs": [
    {
     "data": {
      "text/plain": [
       "{0, 1, 2, 3, 4, 5, 6, 7, 8, 9, 10}"
      ]
     },
     "execution_count": 5,
     "metadata": {},
     "output_type": "execute_result"
    }
   ],
   "source": [
    "sec_ids = set()\n",
    "for sec_ids_list in sentences[\"sector_ids\"]:\n",
    "    sec_ids.update(sec_ids_list)\n",
    "sec_ids"
   ]
  },
  {
   "cell_type": "code",
   "execution_count": 6,
   "metadata": {
    "ExecuteTime": {
     "end_time": "2021-04-20T11:55:53.197193Z",
     "start_time": "2021-04-20T11:55:53.181256Z"
    }
   },
   "outputs": [],
   "source": [
    "sentences[\"sec_0\"] = 0\n",
    "sentences[\"sec_1\"] = 0\n",
    "sentences[\"sec_2\"] = 0\n",
    "sentences[\"sec_3\"] = 0\n",
    "sentences[\"sec_4\"] = 0\n",
    "sentences[\"sec_6\"] = 0\n",
    "sentences[\"sec_7\"] = 0\n",
    "sentences[\"sec_8\"] = 0\n",
    "sentences[\"sec_9\"] = 0\n",
    "sentences[\"sec_10\"] = 0"
   ]
  },
  {
   "cell_type": "code",
   "execution_count": 7,
   "metadata": {
    "ExecuteTime": {
     "end_time": "2021-04-20T11:57:06.193503Z",
     "start_time": "2021-04-20T11:55:55.535887Z"
    }
   },
   "outputs": [
    {
     "data": {
      "application/vnd.jupyter.widget-view+json": {
       "model_id": "31e009aade0741198314ec3e549e2662",
       "version_major": 2,
       "version_minor": 0
      },
      "text/plain": [
       "HBox(children=(HTML(value=''), FloatProgress(value=0.0, max=355715.0), HTML(value='')))"
      ]
     },
     "metadata": {},
     "output_type": "display_data"
    },
    {
     "name": "stdout",
     "output_type": "stream",
     "text": [
      "\n"
     ]
    }
   ],
   "source": [
    "for row in tqdm(sentences.iterrows(), total=sentences.shape[0]):\n",
    "    sec_ids = row[1][\"sector_ids\"]\n",
    "    idx = row[0]\n",
    "    if 0 in sec_ids:\n",
    "        sentences.loc[idx, \"sec_0\"] = 1\n",
    "    if 1 in sec_ids:\n",
    "        sentences.loc[idx, \"sec_1\"] = 1\n",
    "    if 2 in sec_ids:\n",
    "        sentences.loc[idx, \"sec_2\"] = 1\n",
    "    if 3 in sec_ids:\n",
    "        sentences.loc[idx, \"sec_3\"] = 1\n",
    "    if 4 in sec_ids:\n",
    "        sentences.loc[idx, \"sec_4\"] = 1\n",
    "    if 5 in sec_ids:\n",
    "        sentences.loc[idx, \"sec_5\"] = 1\n",
    "    if 6 in sec_ids:\n",
    "        sentences.loc[idx, \"sec_6\"] = 1\n",
    "    if 7 in sec_ids:\n",
    "        sentences.loc[idx, \"sec_7\"] = 1\n",
    "    if 8 in sec_ids:\n",
    "        sentences.loc[idx, \"sec_8\"] = 1\n",
    "    if 9 in sec_ids:\n",
    "        sentences.loc[idx, \"sec_9\"] = 1\n",
    "    if 10 in sec_ids:\n",
    "        sentences.loc[idx, \"sec_10\"] = 1     "
   ]
  },
  {
   "cell_type": "code",
   "execution_count": 40,
   "metadata": {
    "ExecuteTime": {
     "end_time": "2021-04-20T14:47:36.902553Z",
     "start_time": "2021-04-20T14:47:36.889133Z"
    }
   },
   "outputs": [
    {
     "data": {
      "text/plain": [
       "doc_id         15916292190\n",
       "sentence_id      340022757\n",
       "is_relevant          67945\n",
       "sec_0                 2134\n",
       "sec_1                 6175\n",
       "sec_2                 4033\n",
       "sec_3                 6528\n",
       "sec_4                17287\n",
       "sec_6                 1820\n",
       "sec_7                 1959\n",
       "sec_8                 8813\n",
       "sec_9                 3131\n",
       "sec_10                4453\n",
       "sec_5                 6922\n",
       "dtype: int64"
      ]
     },
     "execution_count": 40,
     "metadata": {},
     "output_type": "execute_result"
    }
   ],
   "source": [
    "sentences.sum(numeric_only=True).astype(np.int)"
   ]
  },
  {
   "cell_type": "code",
   "execution_count": 10,
   "metadata": {
    "ExecuteTime": {
     "end_time": "2021-04-20T11:58:49.455437Z",
     "start_time": "2021-04-20T11:58:49.452178Z"
    }
   },
   "outputs": [
    {
     "data": {
      "text/plain": [
       "355715"
      ]
     },
     "execution_count": 10,
     "metadata": {},
     "output_type": "execute_result"
    }
   ],
   "source": [
    "len(sentences)"
   ]
  },
  {
   "cell_type": "code",
   "execution_count": 11,
   "metadata": {
    "ExecuteTime": {
     "end_time": "2021-04-20T11:58:50.937059Z",
     "start_time": "2021-04-20T11:58:50.908012Z"
    }
   },
   "outputs": [
    {
     "data": {
      "text/plain": [
       "en    236961\n",
       "es     59590\n",
       "fr     59164\n",
       "Name: lang_code, dtype: int64"
      ]
     },
     "execution_count": 11,
     "metadata": {},
     "output_type": "execute_result"
    }
   ],
   "source": [
    "sentences[\"lang_code\"].value_counts()"
   ]
  },
  {
   "cell_type": "code",
   "execution_count": 12,
   "metadata": {
    "ExecuteTime": {
     "end_time": "2021-04-20T11:58:53.256971Z",
     "start_time": "2021-04-20T11:58:53.166096Z"
    }
   },
   "outputs": [],
   "source": [
    "sentences_en = sentences[sentences[\"lang_code\"].eq(\"en\")]\n",
    "sentences_fr = sentences[sentences[\"lang_code\"].eq(\"fr\")]\n",
    "sentences_es = sentences[sentences[\"lang_code\"].eq(\"es\")]"
   ]
  },
  {
   "cell_type": "code",
   "execution_count": 36,
   "metadata": {
    "ExecuteTime": {
     "end_time": "2021-04-20T14:34:33.843102Z",
     "start_time": "2021-04-20T14:34:33.840002Z"
    }
   },
   "outputs": [],
   "source": [
    "def transform_labels(df):\n",
    "    labels = np.zeros([len(df), 11])\n",
    "    for i, sec_ids in enumerate(df[\"sector_ids\"]):\n",
    "        for sec_id in sec_ids:\n",
    "            labels[i, sec_id] = 1\n",
    "    return labels"
   ]
  },
  {
   "cell_type": "code",
   "execution_count": 13,
   "metadata": {
    "ExecuteTime": {
     "end_time": "2021-04-20T12:07:54.726678Z",
     "start_time": "2021-04-20T12:07:54.721312Z"
    }
   },
   "outputs": [],
   "source": [
    "def train_val_test_df_split(df):\n",
    "    labels = np.zeros([len(df), 11])\n",
    "    for i, sec_ids in enumerate(df[\"sector_ids\"]):\n",
    "        for sec_id in sec_ids:\n",
    "            labels[i, sec_id] = 1\n",
    "    X_train, y_train, X_test, y_test = iterative_train_test_split(df[\"sentence_text\"].to_numpy().reshape(-1, 1), labels, test_size = 0.1)\n",
    "    X_train, y_train, X_val, y_val = iterative_train_test_split(X_train, y_train, test_size = 0.1)\n",
    "    return {\n",
    "        \"X_train\": X_train, \"y_train\": y_train, \"X_test\": X_test, \"y_test\": y_test, \"X_val\": X_val, \"y_val\": y_val\n",
    "    }"
   ]
  },
  {
   "cell_type": "code",
   "execution_count": 14,
   "metadata": {
    "ExecuteTime": {
     "end_time": "2021-04-20T12:09:23.079968Z",
     "start_time": "2021-04-20T12:09:10.238917Z"
    }
   },
   "outputs": [],
   "source": [
    "X_train_en, y_train_en, X_test_en, y_test_en, X_val_en, y_val_en = list(train_val_test_df_split(sentences_en).values())"
   ]
  },
  {
   "cell_type": "code",
   "execution_count": 15,
   "metadata": {
    "ExecuteTime": {
     "end_time": "2021-04-20T12:09:37.452365Z",
     "start_time": "2021-04-20T12:09:34.688813Z"
    }
   },
   "outputs": [],
   "source": [
    "X_train_fr, y_train_fr, X_test_fr, y_test_fr, X_val_fr, y_val_fr = list(train_val_test_df_split(sentences_fr).values())"
   ]
  },
  {
   "cell_type": "code",
   "execution_count": 16,
   "metadata": {
    "ExecuteTime": {
     "end_time": "2021-04-20T12:09:51.428693Z",
     "start_time": "2021-04-20T12:09:48.585826Z"
    }
   },
   "outputs": [],
   "source": [
    "X_train_es, y_train_es, X_test_es, y_test_es, X_val_es, y_val_es = list(train_val_test_df_split(sentences_es).values())"
   ]
  },
  {
   "cell_type": "code",
   "execution_count": 35,
   "metadata": {
    "ExecuteTime": {
     "end_time": "2021-04-20T14:33:16.154178Z",
     "start_time": "2021-04-20T14:33:16.145512Z"
    }
   },
   "outputs": [
    {
     "data": {
      "text/plain": [
       "doc_id         10420874061\n",
       "sentence_id      295368456\n",
       "is_relevant          41622\n",
       "sec_0                  918\n",
       "sec_1                 4557\n",
       "sec_2                 2291\n",
       "sec_3                 3926\n",
       "sec_4                12597\n",
       "sec_6                 1393\n",
       "sec_7                 1151\n",
       "sec_8                 4233\n",
       "sec_9                 1944\n",
       "sec_10                2915\n",
       "sec_5                 3559\n",
       "dtype: int64"
      ]
     },
     "execution_count": 35,
     "metadata": {},
     "output_type": "execute_result"
    }
   ],
   "source": [
    "sentences_en.sum(numeric_only=True).astype(np.int)"
   ]
  },
  {
   "cell_type": "code",
   "execution_count": 41,
   "metadata": {
    "ExecuteTime": {
     "end_time": "2021-04-20T22:59:29.565428Z",
     "start_time": "2021-04-20T22:59:29.544346Z"
    }
   },
   "outputs": [
    {
     "data": {
      "text/plain": [
       "doc_id         43977.169496\n",
       "sentence_id     1246.485523\n",
       "is_relevant        0.175649\n",
       "sec_0              0.003874\n",
       "sec_1              0.019231\n",
       "sec_2              0.009668\n",
       "sec_3              0.016568\n",
       "sec_4              0.053161\n",
       "sec_6              0.005879\n",
       "sec_7              0.004857\n",
       "sec_8              0.017864\n",
       "sec_9              0.008204\n",
       "sec_10             0.012302\n",
       "sec_5              0.015019\n",
       "dtype: float64"
      ]
     },
     "execution_count": 41,
     "metadata": {},
     "output_type": "execute_result"
    }
   ],
   "source": [
    "sentences_en.sum(numeric_only=True).astype(np.int)/sentences_en.shape[0]"
   ]
  },
  {
   "cell_type": "code",
   "execution_count": 38,
   "metadata": {
    "ExecuteTime": {
     "end_time": "2021-04-20T14:42:11.801704Z",
     "start_time": "2021-04-20T14:42:11.730297Z"
    }
   },
   "outputs": [
    {
     "data": {
      "text/plain": [
       "(array([0.80936819, 0.80996269, 0.81012658, 0.80998472, 0.80995475,\n",
       "        0.81005901, 0.81048098, 0.80973067, 0.81006378, 0.81018519,\n",
       "        0.80994854]),\n",
       " array([0.09041394, 0.08997147, 0.08991707, 0.0899134 , 0.09002143,\n",
       "        0.0899129 , 0.08973439, 0.09035621, 0.09000709, 0.09002058,\n",
       "        0.08987993]),\n",
       " array([0.10021786, 0.10006583, 0.09995635, 0.10010188, 0.10002382,\n",
       "        0.1000281 , 0.09978464, 0.09991312, 0.09992913, 0.09979424,\n",
       "        0.10017153]))"
      ]
     },
     "execution_count": 38,
     "metadata": {},
     "output_type": "execute_result"
    }
   ],
   "source": [
    "en_labels = transform_labels(sentences_en)\n",
    "y_train_en.sum(axis=0)/en_labels.sum(axis=0) ,y_val_en.sum(axis=0)/en_labels.sum(axis=0), y_test_en.sum(axis=0)/en_labels.sum(axis=0)"
   ]
  },
  {
   "cell_type": "code",
   "execution_count": 20,
   "metadata": {
    "ExecuteTime": {
     "end_time": "2021-04-20T12:30:23.392588Z",
     "start_time": "2021-04-20T12:30:23.222648Z"
    }
   },
   "outputs": [],
   "source": [
    "sentences_en_train = sentences_en[sentences_en[\"sentence_text\"].isin(X_train_en.reshape(-1))]\n",
    "sentences_en_val = sentences_en[sentences_en[\"sentence_text\"].isin(X_val_en.reshape(-1))]\n",
    "sentences_en_test = sentences_en[sentences_en[\"sentence_text\"].isin(X_test_en.reshape(-1))]"
   ]
  },
  {
   "cell_type": "code",
   "execution_count": 22,
   "metadata": {
    "ExecuteTime": {
     "end_time": "2021-04-20T12:31:35.583017Z",
     "start_time": "2021-04-20T12:31:35.576170Z"
    }
   },
   "outputs": [
    {
     "data": {
      "text/plain": [
       "(Int64Index([], dtype='int64'),\n",
       " Int64Index([], dtype='int64'),\n",
       " Int64Index([], dtype='int64'))"
      ]
     },
     "execution_count": 22,
     "metadata": {},
     "output_type": "execute_result"
    }
   ],
   "source": [
    "sentences_en_train.index & sentences_en_val.index, sentences_en_train.index & sentences_en_test.index, sentences_en_test.index & sentences_en_val.index "
   ]
  },
  {
   "cell_type": "code",
   "execution_count": 23,
   "metadata": {
    "ExecuteTime": {
     "end_time": "2021-04-20T12:32:20.141120Z",
     "start_time": "2021-04-20T12:32:20.084308Z"
    }
   },
   "outputs": [
    {
     "data": {
      "text/plain": [
       "(Int64Index([], dtype='int64'),\n",
       " Int64Index([], dtype='int64'),\n",
       " Int64Index([], dtype='int64'))"
      ]
     },
     "execution_count": 23,
     "metadata": {},
     "output_type": "execute_result"
    }
   ],
   "source": [
    "sentences_fr_train = sentences_fr[sentences_fr[\"sentence_text\"].isin(X_train_fr.reshape(-1))]\n",
    "sentences_fr_val = sentences_fr[sentences_fr[\"sentence_text\"].isin(X_val_fr.reshape(-1))]\n",
    "sentences_fr_test = sentences_fr[sentences_fr[\"sentence_text\"].isin(X_test_fr.reshape(-1))]\n",
    "##\n",
    "sentences_fr_train.index & sentences_fr_val.index, sentences_fr_train.index & sentences_fr_test.index, sentences_fr_test.index & sentences_fr_val.index "
   ]
  },
  {
   "cell_type": "code",
   "execution_count": 24,
   "metadata": {
    "ExecuteTime": {
     "end_time": "2021-04-20T12:32:43.907968Z",
     "start_time": "2021-04-20T12:32:43.853294Z"
    },
    "scrolled": true
   },
   "outputs": [
    {
     "data": {
      "text/plain": [
       "(Int64Index([], dtype='int64'),\n",
       " Int64Index([], dtype='int64'),\n",
       " Int64Index([], dtype='int64'))"
      ]
     },
     "execution_count": 24,
     "metadata": {},
     "output_type": "execute_result"
    }
   ],
   "source": [
    "sentences_es_train = sentences_es[sentences_es[\"sentence_text\"].isin(X_train_es.reshape(-1))]\n",
    "sentences_es_val = sentences_es[sentences_es[\"sentence_text\"].isin(X_val_es.reshape(-1))]\n",
    "sentences_es_test = sentences_es[sentences_es[\"sentence_text\"].isin(X_test_es.reshape(-1))]\n",
    "##\n",
    "sentences_es_train.index & sentences_es_val.index, sentences_es_train.index & sentences_es_test.index, sentences_es_test.index & sentences_es_val.index "
   ]
  },
  {
   "cell_type": "code",
   "execution_count": 29,
   "metadata": {
    "ExecuteTime": {
     "end_time": "2021-04-20T12:42:29.109747Z",
     "start_time": "2021-04-20T12:42:28.005799Z"
    }
   },
   "outputs": [],
   "source": [
    "sentences_en_train[['doc_id', 'sentence_id', 'sentence_text', 'is_relevant', 'sector_ids']].to_csv(\"final_data/en/sentences_en_train.csv\", index=None)\n",
    "sentences_en_val[['doc_id', 'sentence_id', 'sentence_text', 'is_relevant', 'sector_ids']].to_csv(\"final_data/en/sentences_en_val.csv\", index=None)\n",
    "sentences_en_test[['doc_id', 'sentence_id', 'sentence_text', 'is_relevant', 'sector_ids']].to_csv(\"final_data/en/sentences_en_test.csv\", index=None)\n",
    "sentences_en_test[['doc_id', 'sentence_id', 'sentence_text']].to_csv(\"final_data/en/sentences_en_test_without_ground_truth.csv\", index=None)"
   ]
  },
  {
   "cell_type": "code",
   "execution_count": 32,
   "metadata": {
    "ExecuteTime": {
     "end_time": "2021-04-20T12:54:35.270413Z",
     "start_time": "2021-04-20T12:54:33.840735Z"
    }
   },
   "outputs": [],
   "source": [
    "sentences_en_train.to_csv(\"my_final_data/en/sentences_en_train.csv\", index=None)\n",
    "sentences_en_val.to_csv(\"my_final_data/en/sentences_en_val.csv\", index=None)\n",
    "sentences_en_test.to_csv(\"my_final_data/en/sentences_en_test.csv\", index=None)"
   ]
  },
  {
   "cell_type": "code",
   "execution_count": 30,
   "metadata": {
    "ExecuteTime": {
     "end_time": "2021-04-20T12:43:22.679244Z",
     "start_time": "2021-04-20T12:43:22.352705Z"
    }
   },
   "outputs": [],
   "source": [
    "sentences_fr_train[['doc_id', 'sentence_id', 'sentence_text', 'is_relevant', 'sector_ids']].to_csv(\"final_data/fr/sentences_fr_train.csv\", index=None)\n",
    "sentences_fr_val[['doc_id', 'sentence_id', 'sentence_text', 'is_relevant', 'sector_ids']].to_csv(\"final_data/fr/sentences_fr_val.csv\", index=None)\n",
    "sentences_fr_test[['doc_id', 'sentence_id', 'sentence_text', 'is_relevant', 'sector_ids']].to_csv(\"final_data/fr/sentences_fr_test.csv\", index=None)\n",
    "sentences_fr_test[['doc_id', 'sentence_id', 'sentence_text']].to_csv(\"final_data/fr/sentences_fr_test_without_ground_truth.csv\", index=None)"
   ]
  },
  {
   "cell_type": "code",
   "execution_count": 33,
   "metadata": {
    "ExecuteTime": {
     "end_time": "2021-04-20T12:55:00.055416Z",
     "start_time": "2021-04-20T12:54:59.668331Z"
    }
   },
   "outputs": [],
   "source": [
    "sentences_fr_train.to_csv(\"my_final_data/fr/sentences_fr_train.csv\", index=None)\n",
    "sentences_fr_val.to_csv(\"my_final_data/fr/sentences_fr_val.csv\", index=None)\n",
    "sentences_fr_test.to_csv(\"my_final_data/fr/sentences_fr_test.csv\", index=None)"
   ]
  },
  {
   "cell_type": "code",
   "execution_count": 31,
   "metadata": {
    "ExecuteTime": {
     "end_time": "2021-04-20T12:43:23.738104Z",
     "start_time": "2021-04-20T12:43:23.432403Z"
    }
   },
   "outputs": [],
   "source": [
    "sentences_es_train[['doc_id', 'sentence_id', 'sentence_text', 'is_relevant', 'sector_ids']].to_csv(\"final_data/es/sentences_es_train.csv\", index=None)\n",
    "sentences_es_val[['doc_id', 'sentence_id', 'sentence_text', 'is_relevant', 'sector_ids']].to_csv(\"final_data/es/sentences_es_val.csv\", index=None)\n",
    "sentences_es_test[['doc_id', 'sentence_id', 'sentence_text', 'is_relevant', 'sector_ids']].to_csv(\"final_data/es/sentences_es_test.csv\", index=None)\n",
    "sentences_es_test[['doc_id', 'sentence_id', 'sentence_text']].to_csv(\"final_data/es/sentences_es_test_without_ground_truth.csv\", index=None)"
   ]
  },
  {
   "cell_type": "code",
   "execution_count": 34,
   "metadata": {
    "ExecuteTime": {
     "end_time": "2021-04-20T12:55:21.603815Z",
     "start_time": "2021-04-20T12:55:21.240150Z"
    }
   },
   "outputs": [],
   "source": [
    "sentences_es_train.to_csv(\"my_final_data/es/sentences_es_train.csv\", index=None)\n",
    "sentences_es_val.to_csv(\"my_final_data/es/sentences_es_val.csv\", index=None)\n",
    "sentences_es_test.to_csv(\"my_final_data/es/sentences_es_test.csv\", index=None)"
   ]
  },
  {
   "cell_type": "code",
   "execution_count": null,
   "metadata": {},
   "outputs": [],
   "source": []
  },
  {
   "cell_type": "code",
   "execution_count": null,
   "metadata": {},
   "outputs": [],
   "source": []
  },
  {
   "cell_type": "code",
   "execution_count": null,
   "metadata": {},
   "outputs": [],
   "source": []
  }
 ],
 "metadata": {
  "kernelspec": {
   "display_name": "Python 3",
   "language": "python",
   "name": "python3"
  },
  "language_info": {
   "codemirror_mode": {
    "name": "ipython",
    "version": 3
   },
   "file_extension": ".py",
   "mimetype": "text/x-python",
   "name": "python",
   "nbconvert_exporter": "python",
   "pygments_lexer": "ipython3",
   "version": "3.8.5"
  }
 },
 "nbformat": 4,
 "nbformat_minor": 4
}
