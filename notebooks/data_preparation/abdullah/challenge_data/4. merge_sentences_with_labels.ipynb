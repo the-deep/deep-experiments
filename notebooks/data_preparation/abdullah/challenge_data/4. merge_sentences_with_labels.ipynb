{
 "cells": [
  {
   "cell_type": "code",
   "execution_count": 1,
   "metadata": {
    "ExecuteTime": {
     "end_time": "2021-04-19T19:51:53.511635Z",
     "start_time": "2021-04-19T19:51:53.321341Z"
    }
   },
   "outputs": [],
   "source": [
    "import json\n",
    "import pandas as pd"
   ]
  },
  {
   "cell_type": "code",
   "execution_count": 2,
   "metadata": {
    "ExecuteTime": {
     "end_time": "2021-04-19T19:52:02.138990Z",
     "start_time": "2021-04-19T19:51:59.692920Z"
    },
    "scrolled": true
   },
   "outputs": [
    {
     "ename": "FileNotFoundError",
     "evalue": "[Errno 2] No such file or directory: 'data_pp/collections.csv'",
     "output_type": "error",
     "traceback": [
      "\u001b[0;31m---------------------------------------------------------------------------\u001b[0m",
      "\u001b[0;31mFileNotFoundError\u001b[0m                         Traceback (most recent call last)",
      "\u001b[0;32m<ipython-input-2-182b5299c10d>\u001b[0m in \u001b[0;36m<module>\u001b[0;34m\u001b[0m\n\u001b[0;32m----> 1\u001b[0;31m \u001b[0mcollections\u001b[0m \u001b[0;34m=\u001b[0m \u001b[0mpd\u001b[0m\u001b[0;34m.\u001b[0m\u001b[0mread_csv\u001b[0m\u001b[0;34m(\u001b[0m\u001b[0;34m\"data_pp/collections.csv\"\u001b[0m\u001b[0;34m)\u001b[0m\u001b[0;34m\u001b[0m\u001b[0;34m\u001b[0m\u001b[0m\n\u001b[0m\u001b[1;32m      2\u001b[0m \u001b[0msentences\u001b[0m \u001b[0;34m=\u001b[0m \u001b[0mpd\u001b[0m\u001b[0;34m.\u001b[0m\u001b[0mread_csv\u001b[0m\u001b[0;34m(\u001b[0m\u001b[0;34m\"data_pp/sentences_lang.csv\"\u001b[0m\u001b[0;34m)\u001b[0m\u001b[0;34m\u001b[0m\u001b[0;34m\u001b[0m\u001b[0m\n\u001b[1;32m      3\u001b[0m \u001b[0msentences_annotated_new\u001b[0m \u001b[0;34m=\u001b[0m \u001b[0mpd\u001b[0m\u001b[0;34m.\u001b[0m\u001b[0mread_csv\u001b[0m\u001b[0;34m(\u001b[0m\u001b[0;34m\"data_pp/sentences_annotated_new.csv\"\u001b[0m\u001b[0;34m)\u001b[0m\u001b[0;34m\u001b[0m\u001b[0;34m\u001b[0m\u001b[0m\n",
      "\u001b[0;32m~/anaconda3/envs/pytorch_latest_p36/lib/python3.6/site-packages/pandas/io/parsers.py\u001b[0m in \u001b[0;36mread_csv\u001b[0;34m(filepath_or_buffer, sep, delimiter, header, names, index_col, usecols, squeeze, prefix, mangle_dupe_cols, dtype, engine, converters, true_values, false_values, skipinitialspace, skiprows, skipfooter, nrows, na_values, keep_default_na, na_filter, verbose, skip_blank_lines, parse_dates, infer_datetime_format, keep_date_col, date_parser, dayfirst, cache_dates, iterator, chunksize, compression, thousands, decimal, lineterminator, quotechar, quoting, doublequote, escapechar, comment, encoding, dialect, error_bad_lines, warn_bad_lines, delim_whitespace, low_memory, memory_map, float_precision)\u001b[0m\n\u001b[1;32m    686\u001b[0m     )\n\u001b[1;32m    687\u001b[0m \u001b[0;34m\u001b[0m\u001b[0m\n\u001b[0;32m--> 688\u001b[0;31m     \u001b[0;32mreturn\u001b[0m \u001b[0m_read\u001b[0m\u001b[0;34m(\u001b[0m\u001b[0mfilepath_or_buffer\u001b[0m\u001b[0;34m,\u001b[0m \u001b[0mkwds\u001b[0m\u001b[0;34m)\u001b[0m\u001b[0;34m\u001b[0m\u001b[0;34m\u001b[0m\u001b[0m\n\u001b[0m\u001b[1;32m    689\u001b[0m \u001b[0;34m\u001b[0m\u001b[0m\n\u001b[1;32m    690\u001b[0m \u001b[0;34m\u001b[0m\u001b[0m\n",
      "\u001b[0;32m~/anaconda3/envs/pytorch_latest_p36/lib/python3.6/site-packages/pandas/io/parsers.py\u001b[0m in \u001b[0;36m_read\u001b[0;34m(filepath_or_buffer, kwds)\u001b[0m\n\u001b[1;32m    452\u001b[0m \u001b[0;34m\u001b[0m\u001b[0m\n\u001b[1;32m    453\u001b[0m     \u001b[0;31m# Create the parser.\u001b[0m\u001b[0;34m\u001b[0m\u001b[0;34m\u001b[0m\u001b[0;34m\u001b[0m\u001b[0m\n\u001b[0;32m--> 454\u001b[0;31m     \u001b[0mparser\u001b[0m \u001b[0;34m=\u001b[0m \u001b[0mTextFileReader\u001b[0m\u001b[0;34m(\u001b[0m\u001b[0mfp_or_buf\u001b[0m\u001b[0;34m,\u001b[0m \u001b[0;34m**\u001b[0m\u001b[0mkwds\u001b[0m\u001b[0;34m)\u001b[0m\u001b[0;34m\u001b[0m\u001b[0;34m\u001b[0m\u001b[0m\n\u001b[0m\u001b[1;32m    455\u001b[0m \u001b[0;34m\u001b[0m\u001b[0m\n\u001b[1;32m    456\u001b[0m     \u001b[0;32mif\u001b[0m \u001b[0mchunksize\u001b[0m \u001b[0;32mor\u001b[0m \u001b[0miterator\u001b[0m\u001b[0;34m:\u001b[0m\u001b[0;34m\u001b[0m\u001b[0;34m\u001b[0m\u001b[0m\n",
      "\u001b[0;32m~/anaconda3/envs/pytorch_latest_p36/lib/python3.6/site-packages/pandas/io/parsers.py\u001b[0m in \u001b[0;36m__init__\u001b[0;34m(self, f, engine, **kwds)\u001b[0m\n\u001b[1;32m    946\u001b[0m             \u001b[0mself\u001b[0m\u001b[0;34m.\u001b[0m\u001b[0moptions\u001b[0m\u001b[0;34m[\u001b[0m\u001b[0;34m\"has_index_names\"\u001b[0m\u001b[0;34m]\u001b[0m \u001b[0;34m=\u001b[0m \u001b[0mkwds\u001b[0m\u001b[0;34m[\u001b[0m\u001b[0;34m\"has_index_names\"\u001b[0m\u001b[0;34m]\u001b[0m\u001b[0;34m\u001b[0m\u001b[0;34m\u001b[0m\u001b[0m\n\u001b[1;32m    947\u001b[0m \u001b[0;34m\u001b[0m\u001b[0m\n\u001b[0;32m--> 948\u001b[0;31m         \u001b[0mself\u001b[0m\u001b[0;34m.\u001b[0m\u001b[0m_make_engine\u001b[0m\u001b[0;34m(\u001b[0m\u001b[0mself\u001b[0m\u001b[0;34m.\u001b[0m\u001b[0mengine\u001b[0m\u001b[0;34m)\u001b[0m\u001b[0;34m\u001b[0m\u001b[0;34m\u001b[0m\u001b[0m\n\u001b[0m\u001b[1;32m    949\u001b[0m \u001b[0;34m\u001b[0m\u001b[0m\n\u001b[1;32m    950\u001b[0m     \u001b[0;32mdef\u001b[0m \u001b[0mclose\u001b[0m\u001b[0;34m(\u001b[0m\u001b[0mself\u001b[0m\u001b[0;34m)\u001b[0m\u001b[0;34m:\u001b[0m\u001b[0;34m\u001b[0m\u001b[0;34m\u001b[0m\u001b[0m\n",
      "\u001b[0;32m~/anaconda3/envs/pytorch_latest_p36/lib/python3.6/site-packages/pandas/io/parsers.py\u001b[0m in \u001b[0;36m_make_engine\u001b[0;34m(self, engine)\u001b[0m\n\u001b[1;32m   1178\u001b[0m     \u001b[0;32mdef\u001b[0m \u001b[0m_make_engine\u001b[0m\u001b[0;34m(\u001b[0m\u001b[0mself\u001b[0m\u001b[0;34m,\u001b[0m \u001b[0mengine\u001b[0m\u001b[0;34m=\u001b[0m\u001b[0;34m\"c\"\u001b[0m\u001b[0;34m)\u001b[0m\u001b[0;34m:\u001b[0m\u001b[0;34m\u001b[0m\u001b[0;34m\u001b[0m\u001b[0m\n\u001b[1;32m   1179\u001b[0m         \u001b[0;32mif\u001b[0m \u001b[0mengine\u001b[0m \u001b[0;34m==\u001b[0m \u001b[0;34m\"c\"\u001b[0m\u001b[0;34m:\u001b[0m\u001b[0;34m\u001b[0m\u001b[0;34m\u001b[0m\u001b[0m\n\u001b[0;32m-> 1180\u001b[0;31m             \u001b[0mself\u001b[0m\u001b[0;34m.\u001b[0m\u001b[0m_engine\u001b[0m \u001b[0;34m=\u001b[0m \u001b[0mCParserWrapper\u001b[0m\u001b[0;34m(\u001b[0m\u001b[0mself\u001b[0m\u001b[0;34m.\u001b[0m\u001b[0mf\u001b[0m\u001b[0;34m,\u001b[0m \u001b[0;34m**\u001b[0m\u001b[0mself\u001b[0m\u001b[0;34m.\u001b[0m\u001b[0moptions\u001b[0m\u001b[0;34m)\u001b[0m\u001b[0;34m\u001b[0m\u001b[0;34m\u001b[0m\u001b[0m\n\u001b[0m\u001b[1;32m   1181\u001b[0m         \u001b[0;32melse\u001b[0m\u001b[0;34m:\u001b[0m\u001b[0;34m\u001b[0m\u001b[0;34m\u001b[0m\u001b[0m\n\u001b[1;32m   1182\u001b[0m             \u001b[0;32mif\u001b[0m \u001b[0mengine\u001b[0m \u001b[0;34m==\u001b[0m \u001b[0;34m\"python\"\u001b[0m\u001b[0;34m:\u001b[0m\u001b[0;34m\u001b[0m\u001b[0;34m\u001b[0m\u001b[0m\n",
      "\u001b[0;32m~/anaconda3/envs/pytorch_latest_p36/lib/python3.6/site-packages/pandas/io/parsers.py\u001b[0m in \u001b[0;36m__init__\u001b[0;34m(self, src, **kwds)\u001b[0m\n\u001b[1;32m   2008\u001b[0m         \u001b[0mkwds\u001b[0m\u001b[0;34m[\u001b[0m\u001b[0;34m\"usecols\"\u001b[0m\u001b[0;34m]\u001b[0m \u001b[0;34m=\u001b[0m \u001b[0mself\u001b[0m\u001b[0;34m.\u001b[0m\u001b[0musecols\u001b[0m\u001b[0;34m\u001b[0m\u001b[0;34m\u001b[0m\u001b[0m\n\u001b[1;32m   2009\u001b[0m \u001b[0;34m\u001b[0m\u001b[0m\n\u001b[0;32m-> 2010\u001b[0;31m         \u001b[0mself\u001b[0m\u001b[0;34m.\u001b[0m\u001b[0m_reader\u001b[0m \u001b[0;34m=\u001b[0m \u001b[0mparsers\u001b[0m\u001b[0;34m.\u001b[0m\u001b[0mTextReader\u001b[0m\u001b[0;34m(\u001b[0m\u001b[0msrc\u001b[0m\u001b[0;34m,\u001b[0m \u001b[0;34m**\u001b[0m\u001b[0mkwds\u001b[0m\u001b[0;34m)\u001b[0m\u001b[0;34m\u001b[0m\u001b[0;34m\u001b[0m\u001b[0m\n\u001b[0m\u001b[1;32m   2011\u001b[0m         \u001b[0mself\u001b[0m\u001b[0;34m.\u001b[0m\u001b[0munnamed_cols\u001b[0m \u001b[0;34m=\u001b[0m \u001b[0mself\u001b[0m\u001b[0;34m.\u001b[0m\u001b[0m_reader\u001b[0m\u001b[0;34m.\u001b[0m\u001b[0munnamed_cols\u001b[0m\u001b[0;34m\u001b[0m\u001b[0;34m\u001b[0m\u001b[0m\n\u001b[1;32m   2012\u001b[0m \u001b[0;34m\u001b[0m\u001b[0m\n",
      "\u001b[0;32mpandas/_libs/parsers.pyx\u001b[0m in \u001b[0;36mpandas._libs.parsers.TextReader.__cinit__\u001b[0;34m()\u001b[0m\n",
      "\u001b[0;32mpandas/_libs/parsers.pyx\u001b[0m in \u001b[0;36mpandas._libs.parsers.TextReader._setup_parser_source\u001b[0;34m()\u001b[0m\n",
      "\u001b[0;31mFileNotFoundError\u001b[0m: [Errno 2] No such file or directory: 'data_pp/collections.csv'"
     ]
    }
   ],
   "source": [
    "collections = pd.read_csv(\"data_pp/collections.csv\")\n",
    "sentences = pd.read_csv(\"data_pp/sentences_lang.csv\")\n",
    "sentences_annotated_new = pd.read_csv(\"data_pp/sentences_annotated_new.csv\")"
   ]
  },
  {
   "cell_type": "code",
   "execution_count": 15,
   "metadata": {
    "ExecuteTime": {
     "end_time": "2021-04-21T08:10:59.692886Z",
     "start_time": "2021-04-21T08:10:59.689832Z"
    }
   },
   "outputs": [
    {
     "data": {
      "text/plain": [
       "4924"
      ]
     },
     "execution_count": 15,
     "metadata": {},
     "output_type": "execute_result"
    }
   ],
   "source": [
    "len(collections)"
   ]
  },
  {
   "cell_type": "markdown",
   "metadata": {},
   "source": [
    "### Fix some values"
   ]
  },
  {
   "cell_type": "code",
   "execution_count": 3,
   "metadata": {
    "ExecuteTime": {
     "end_time": "2021-04-19T19:52:02.146176Z",
     "start_time": "2021-04-19T19:52:02.140246Z"
    }
   },
   "outputs": [],
   "source": [
    "collections.loc[collections['project_country_title'] == \"Syria - Division Labels,Syria for IMMAP/DFS\", \"project_country_title\"] = \"Syria for IMMAP/DFS\"\n",
    "collections.loc[collections['project_title'] == \"IMMAP/DFS Syria (IRRELEVANT) [REMOVE ME]\", \"project_title\"] = \"IMMAP/DFS Syria\"\n",
    "collections.loc[collections['project_country_title'] == \"IMMAP RDC\", \"project_country_title\"] = \"IMMAP DRC\"\n",
    "collections.loc[collections[\"project_country_code\"]==\"SYRDL,SYR\", \"project_country_code\"] = \"SYR\""
   ]
  },
  {
   "cell_type": "code",
   "execution_count": 4,
   "metadata": {
    "ExecuteTime": {
     "end_time": "2021-04-19T19:52:02.225502Z",
     "start_time": "2021-04-19T19:52:02.147694Z"
    }
   },
   "outputs": [],
   "source": [
    "sentences.loc[sentences['project_country_title'] == \"Syria - Division Labels,Syria for IMMAP/DFS\", \"project_country_title\"] = \"Syria for IMMAP/DFS\"\n",
    "sentences.loc[sentences['project_title'] == \"IMMAP/DFS Syria (IRRELEVANT) [REMOVE ME]\", \"project_title\"] = \"IMMAP/DFS Syria\"\n",
    "sentences.loc[sentences['project_country_title'] == \"IMMAP RDC\", \"project_country_title\"] = \"IMMAP DRC\"\n",
    "sentences.loc[sentences[\"project_country_code\"]==\"SYRDL,SYR\", \"project_country_code\"] = \"SYR\""
   ]
  },
  {
   "cell_type": "code",
   "execution_count": 5,
   "metadata": {
    "ExecuteTime": {
     "end_time": "2021-04-19T19:52:02.565670Z",
     "start_time": "2021-04-19T19:52:02.479771Z"
    }
   },
   "outputs": [],
   "source": [
    "sentences_annotated_new.loc[sentences_annotated_new['project_country_title'] == \"Syria - Division Labels,Syria for IMMAP/DFS\", \"project_country_title\"] = \"Syria for IMMAP/DFS\"\n",
    "sentences_annotated_new.loc[sentences_annotated_new['project_title'] == \"IMMAP/DFS Syria (IRRELEVANT) [REMOVE ME]\", \"project_title\"] = \"IMMAP/DFS Syria\"\n",
    "sentences_annotated_new.loc[sentences_annotated_new['project_country_title'] == \"IMMAP RDC\", \"project_country_title\"] = \"IMMAP DRC\""
   ]
  },
  {
   "cell_type": "markdown",
   "metadata": {
    "ExecuteTime": {
     "end_time": "2021-04-19T11:42:57.512273Z",
     "start_time": "2021-04-19T11:42:57.509974Z"
    }
   },
   "source": [
    "### Prepare The Documents"
   ]
  },
  {
   "cell_type": "code",
   "execution_count": 6,
   "metadata": {
    "ExecuteTime": {
     "end_time": "2021-04-19T19:52:03.666724Z",
     "start_time": "2021-04-19T19:52:03.654946Z"
    }
   },
   "outputs": [
    {
     "data": {
      "text/plain": [
       "Index(['project_id', 'project_title', 'project_country_code',\n",
       "       'project_country_title', 'lead_id', 'url', 'simplified_text'],\n",
       "      dtype='object')"
      ]
     },
     "execution_count": 6,
     "metadata": {},
     "output_type": "execute_result"
    }
   ],
   "source": [
    "collections.columns"
   ]
  },
  {
   "cell_type": "code",
   "execution_count": 7,
   "metadata": {
    "ExecuteTime": {
     "end_time": "2021-04-19T19:52:04.947703Z",
     "start_time": "2021-04-19T19:52:04.926135Z"
    }
   },
   "outputs": [
    {
     "data": {
      "text/plain": [
       "Series([], Name: project_country_title, dtype: object)"
      ]
     },
     "execution_count": 7,
     "metadata": {},
     "output_type": "execute_result"
    }
   ],
   "source": [
    "collections.loc[sentences['project_country_title'] == \"IMMAP/DFS Syria (IRRELEVANT) [REMOVE ME]\", \"project_country_title\"]"
   ]
  },
  {
   "cell_type": "code",
   "execution_count": 8,
   "metadata": {
    "ExecuteTime": {
     "end_time": "2021-04-19T19:52:05.833642Z",
     "start_time": "2021-04-19T19:52:05.828880Z"
    }
   },
   "outputs": [
    {
     "data": {
      "text/plain": [
       "['IMMAP/DFS Bangladesh',\n",
       " 'IMMAP/DFS Syria',\n",
       " 'IMMAP/DFS Nigeria',\n",
       " 'IMMAP/DFS Burkina Faso',\n",
       " 'IMMAP/DFS Colombia',\n",
       " 'IMMAP/DFS RDC']"
      ]
     },
     "execution_count": 8,
     "metadata": {},
     "output_type": "execute_result"
    }
   ],
   "source": [
    "collections[\"project_title\"].value_counts().index.tolist()"
   ]
  },
  {
   "cell_type": "code",
   "execution_count": 9,
   "metadata": {
    "ExecuteTime": {
     "end_time": "2021-04-19T19:52:11.382168Z",
     "start_time": "2021-04-19T19:52:11.377129Z"
    }
   },
   "outputs": [
    {
     "data": {
      "text/plain": [
       "['BGD', 'SYR', 'NGA', 'BFA', 'COL', 'COD']"
      ]
     },
     "execution_count": 9,
     "metadata": {},
     "output_type": "execute_result"
    }
   ],
   "source": [
    "collections[\"project_country_code\"].value_counts().index.tolist()"
   ]
  },
  {
   "cell_type": "code",
   "execution_count": 10,
   "metadata": {
    "ExecuteTime": {
     "end_time": "2021-04-19T19:52:15.011482Z",
     "start_time": "2021-04-19T19:52:13.632888Z"
    }
   },
   "outputs": [],
   "source": [
    "# documents --> project_title, country_code, lang_code, doc_id, doc_text, doc_url\n",
    "documents = collections[[\"project_title\", \"project_country_code\", \"lead_id\", \"simplified_text\", \"url\"]]\n",
    "documents.columns = [\"project_name\", \"country_code\", \"doc_id\", \"doc_text\", \"doc_url\"]\n",
    "##\n",
    "documents.to_csv(\"final_before_split/immap_dfs_documents.csv\", index=None)"
   ]
  },
  {
   "cell_type": "markdown",
   "metadata": {},
   "source": [
    "### Prepare The Sentences"
   ]
  },
  {
   "cell_type": "code",
   "execution_count": 11,
   "metadata": {
    "ExecuteTime": {
     "end_time": "2021-04-19T19:52:16.409718Z",
     "start_time": "2021-04-19T19:52:15.656972Z"
    }
   },
   "outputs": [],
   "source": [
    "# annotated_sentences --> doc_id, sentence_id, is_relevant, sector_ids\n",
    "annotations = sentences_annotated_new[['lead_id', 'excerpt_id', 'is_selected',\n",
    "       'label_sectors', 'label_dimensions', 'unique_id']]\n",
    "##\n",
    "# doc_id, sentence_id, is_relevant, sector_id --> annotated_sentences\n",
    "annotated_sentences = pd.merge(sentences, annotations, how=\"inner\", on=['lead_id', 'excerpt_id'])\n",
    "#\n",
    "annotated_sentences = annotated_sentences[['project_id', 'project_title', 'project_country_code',\n",
    "       'project_country_title', 'lead_id', 'excerpt_id', 'excerpt_text',\n",
    "       'excerpt_text_pp', 'lang', 'is_selected',\n",
    "       'label_sectors', 'label_dimensions', 'unique_id_y']]\n",
    "#\n",
    "annotated_sentences.columns = ['project_id', 'project_title', 'project_country_code',\n",
    "       'project_country_title', 'doc_id', 'sentence_id', 'sentence_text',\n",
    "       'sentence_text_simplified', 'lang_code', 'is_relevant', 'sector_ids', 'label_dimensions',\n",
    "       'unique_id']\n",
    "annotated_sentences = annotated_sentences[~annotated_sentences[\"lang_code\"].eq(\"ar\")]\n",
    "annotated_sentences = annotated_sentences[[\"doc_id\", \"sentence_id\", \"sentence_text\", \"lang_code\", \"is_relevant\", \"sector_ids\"]]\n",
    "##\n",
    "all_labels = annotated_sentences[\"sector_ids\"].unique().tolist()[1:]\n",
    "unique_labels = set()\n",
    "for label in all_labels:\n",
    "    labels = label.split(\", \")\n",
    "    unique_labels.update(labels)\n",
    "label_to_id = {label:i for i, label in enumerate(sorted(unique_labels))}\n",
    "label_to_id\n",
    "##\n",
    "def convert_label_to_id(label_array):\n",
    "    if pd.isna(label_array):\n",
    "        return []\n",
    "#     if not isinstance(label_array, str):\n",
    "#         return label_array\n",
    "    labels = label_array.split(\", \")\n",
    "    return [label_to_id[label] for label in sorted(labels)]\n",
    "##\n",
    "annotated_sentences[\"sector_ids\"] = annotated_sentences[\"sector_ids\"].map(convert_label_to_id)\n",
    "##\n",
    "annotated_sentences[\"is_relevant\"] = annotated_sentences[\"is_relevant\"].map({True:1, False:0})\n",
    "##\n"
   ]
  },
  {
   "cell_type": "code",
   "execution_count": 12,
   "metadata": {
    "ExecuteTime": {
     "end_time": "2021-04-19T19:52:17.725292Z",
     "start_time": "2021-04-19T19:52:17.632976Z"
    }
   },
   "outputs": [
    {
     "data": {
      "text/plain": [
       "0"
      ]
     },
     "execution_count": 12,
     "metadata": {},
     "output_type": "execute_result"
    }
   ],
   "source": [
    "annotated_sentences[\"sentence_text\"].duplicated().sum()"
   ]
  },
  {
   "cell_type": "code",
   "execution_count": 13,
   "metadata": {
    "ExecuteTime": {
     "end_time": "2021-04-19T19:52:24.467877Z",
     "start_time": "2021-04-19T19:52:22.907738Z"
    }
   },
   "outputs": [],
   "source": [
    "annotated_sentences.to_csv(\"final_before_split/immap_dfs_sentences.csv\", index=None)"
   ]
  },
  {
   "cell_type": "code",
   "execution_count": 14,
   "metadata": {
    "ExecuteTime": {
     "end_time": "2021-04-19T19:52:24.728749Z",
     "start_time": "2021-04-19T19:52:24.708658Z"
    }
   },
   "outputs": [
    {
     "data": {
      "text/html": [
       "<div>\n",
       "<style scoped>\n",
       "    .dataframe tbody tr th:only-of-type {\n",
       "        vertical-align: middle;\n",
       "    }\n",
       "\n",
       "    .dataframe tbody tr th {\n",
       "        vertical-align: top;\n",
       "    }\n",
       "\n",
       "    .dataframe thead th {\n",
       "        text-align: right;\n",
       "    }\n",
       "</style>\n",
       "<table border=\"1\" class=\"dataframe\">\n",
       "  <thead>\n",
       "    <tr style=\"text-align: right;\">\n",
       "      <th></th>\n",
       "      <th>doc_id</th>\n",
       "      <th>sentence_id</th>\n",
       "      <th>sentence_text</th>\n",
       "      <th>lang_code</th>\n",
       "      <th>is_relevant</th>\n",
       "      <th>sector_ids</th>\n",
       "    </tr>\n",
       "  </thead>\n",
       "  <tbody>\n",
       "    <tr>\n",
       "      <th>0</th>\n",
       "      <td>51795</td>\n",
       "      <td>0</td>\n",
       "      <td>Por cuenta de las declaraciones de la alcaldes...</td>\n",
       "      <td>es</td>\n",
       "      <td>1</td>\n",
       "      <td>[]</td>\n",
       "    </tr>\n",
       "    <tr>\n",
       "      <th>1</th>\n",
       "      <td>51795</td>\n",
       "      <td>1</td>\n",
       "      <td>Para analizar esta situaci n y las consecuenci...</td>\n",
       "      <td>es</td>\n",
       "      <td>0</td>\n",
       "      <td>[]</td>\n",
       "    </tr>\n",
       "    <tr>\n",
       "      <th>2</th>\n",
       "      <td>51795</td>\n",
       "      <td>2</td>\n",
       "      <td>M s all de la errada relaci n de causalidad en...</td>\n",
       "      <td>es</td>\n",
       "      <td>0</td>\n",
       "      <td>[]</td>\n",
       "    </tr>\n",
       "    <tr>\n",
       "      <th>3</th>\n",
       "      <td>51795</td>\n",
       "      <td>3</td>\n",
       "      <td>Aqu falta invertir recursos, tiempo, equipos d...</td>\n",
       "      <td>es</td>\n",
       "      <td>0</td>\n",
       "      <td>[]</td>\n",
       "    </tr>\n",
       "    <tr>\n",
       "      <th>4</th>\n",
       "      <td>51795</td>\n",
       "      <td>4</td>\n",
       "      <td>Hay que dejar de hablar de la seguridad de Bog...</td>\n",
       "      <td>es</td>\n",
       "      <td>0</td>\n",
       "      <td>[]</td>\n",
       "    </tr>\n",
       "    <tr>\n",
       "      <th>...</th>\n",
       "      <td>...</td>\n",
       "      <td>...</td>\n",
       "      <td>...</td>\n",
       "      <td>...</td>\n",
       "      <td>...</td>\n",
       "      <td>...</td>\n",
       "    </tr>\n",
       "    <tr>\n",
       "      <th>355710</th>\n",
       "      <td>34512</td>\n",
       "      <td>121</td>\n",
       "      <td>However, humanitarian exemptions are not alway...</td>\n",
       "      <td>en</td>\n",
       "      <td>0</td>\n",
       "      <td>[]</td>\n",
       "    </tr>\n",
       "    <tr>\n",
       "      <th>355711</th>\n",
       "      <td>34512</td>\n",
       "      <td>122</td>\n",
       "      <td>In Iraq, there are reports of exemptions from ...</td>\n",
       "      <td>en</td>\n",
       "      <td>0</td>\n",
       "      <td>[]</td>\n",
       "    </tr>\n",
       "    <tr>\n",
       "      <th>355712</th>\n",
       "      <td>34512</td>\n",
       "      <td>123</td>\n",
       "      <td>The ACAPS team will keep monitoring the impact...</td>\n",
       "      <td>en</td>\n",
       "      <td>0</td>\n",
       "      <td>[]</td>\n",
       "    </tr>\n",
       "    <tr>\n",
       "      <th>355713</th>\n",
       "      <td>34512</td>\n",
       "      <td>124</td>\n",
       "      <td>You can find an overview of all ACAPS resource...</td>\n",
       "      <td>en</td>\n",
       "      <td>0</td>\n",
       "      <td>[]</td>\n",
       "    </tr>\n",
       "    <tr>\n",
       "      <th>355714</th>\n",
       "      <td>34512</td>\n",
       "      <td>125</td>\n",
       "      <td>11 ACAPS HUMANITARIAN ACCESS OVERVIEW JULY 202...</td>\n",
       "      <td>en</td>\n",
       "      <td>0</td>\n",
       "      <td>[]</td>\n",
       "    </tr>\n",
       "  </tbody>\n",
       "</table>\n",
       "<p>355715 rows × 6 columns</p>\n",
       "</div>"
      ],
      "text/plain": [
       "        doc_id  sentence_id  \\\n",
       "0        51795            0   \n",
       "1        51795            1   \n",
       "2        51795            2   \n",
       "3        51795            3   \n",
       "4        51795            4   \n",
       "...        ...          ...   \n",
       "355710   34512          121   \n",
       "355711   34512          122   \n",
       "355712   34512          123   \n",
       "355713   34512          124   \n",
       "355714   34512          125   \n",
       "\n",
       "                                            sentence_text lang_code  \\\n",
       "0       Por cuenta de las declaraciones de la alcaldes...        es   \n",
       "1       Para analizar esta situaci n y las consecuenci...        es   \n",
       "2       M s all de la errada relaci n de causalidad en...        es   \n",
       "3       Aqu falta invertir recursos, tiempo, equipos d...        es   \n",
       "4       Hay que dejar de hablar de la seguridad de Bog...        es   \n",
       "...                                                   ...       ...   \n",
       "355710  However, humanitarian exemptions are not alway...        en   \n",
       "355711  In Iraq, there are reports of exemptions from ...        en   \n",
       "355712  The ACAPS team will keep monitoring the impact...        en   \n",
       "355713  You can find an overview of all ACAPS resource...        en   \n",
       "355714  11 ACAPS HUMANITARIAN ACCESS OVERVIEW JULY 202...        en   \n",
       "\n",
       "        is_relevant sector_ids  \n",
       "0                 1         []  \n",
       "1                 0         []  \n",
       "2                 0         []  \n",
       "3                 0         []  \n",
       "4                 0         []  \n",
       "...             ...        ...  \n",
       "355710            0         []  \n",
       "355711            0         []  \n",
       "355712            0         []  \n",
       "355713            0         []  \n",
       "355714            0         []  \n",
       "\n",
       "[355715 rows x 6 columns]"
      ]
     },
     "execution_count": 14,
     "metadata": {},
     "output_type": "execute_result"
    }
   ],
   "source": [
    "annotated_sentences"
   ]
  },
  {
   "cell_type": "code",
   "execution_count": null,
   "metadata": {},
   "outputs": [],
   "source": []
  },
  {
   "cell_type": "code",
   "execution_count": null,
   "metadata": {},
   "outputs": [],
   "source": []
  }
 ],
 "metadata": {
  "kernelspec": {
   "display_name": "conda_pytorch_latest_p36",
   "language": "python",
   "name": "conda_pytorch_latest_p36"
  },
  "language_info": {
   "codemirror_mode": {
    "name": "ipython",
    "version": 3
   },
   "file_extension": ".py",
   "mimetype": "text/x-python",
   "name": "python",
   "nbconvert_exporter": "python",
   "pygments_lexer": "ipython3",
   "version": "3.6.13"
  }
 },
 "nbformat": 4,
 "nbformat_minor": 4
}
