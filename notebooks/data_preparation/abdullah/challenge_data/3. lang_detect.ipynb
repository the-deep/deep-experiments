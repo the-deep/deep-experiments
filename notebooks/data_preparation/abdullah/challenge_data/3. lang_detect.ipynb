{
 "cells": [
  {
   "cell_type": "code",
   "execution_count": 1,
   "metadata": {
    "ExecuteTime": {
     "end_time": "2021-04-19T19:50:25.623484Z",
     "start_time": "2021-04-19T19:50:25.400002Z"
    }
   },
   "outputs": [],
   "source": [
    "import re\n",
    "import random\n",
    "\n",
    "import fasttext\n",
    "import numpy as np\n",
    "import pandas as pd\n",
    "from tqdm.auto import tqdm"
   ]
  },
  {
   "cell_type": "code",
   "execution_count": 2,
   "metadata": {
    "ExecuteTime": {
     "end_time": "2021-04-19T19:50:25.958718Z",
     "start_time": "2021-04-19T19:50:25.954048Z"
    }
   },
   "outputs": [
    {
     "name": "stderr",
     "output_type": "stream",
     "text": [
      "/home/abdullah/anaconda3/lib/python3.8/site-packages/tqdm/std.py:697: FutureWarning: The Panel class is removed from pandas. Accessing it from the top-level namespace will also be removed in the next version\n",
      "  from pandas import Panel\n"
     ]
    }
   ],
   "source": [
    "tqdm.pandas()"
   ]
  },
  {
   "cell_type": "code",
   "execution_count": 3,
   "metadata": {
    "ExecuteTime": {
     "end_time": "2021-04-19T19:50:28.639159Z",
     "start_time": "2021-04-19T19:50:26.310241Z"
    }
   },
   "outputs": [],
   "source": [
    "sentences = pd.read_csv(\"data_pp/sentences.csv\")\n",
    "sentences_ann_new = pd.read_csv(\"data_pp/sentences_annotated_new.csv\")\n",
    "collections = pd.read_csv(\"data_pp/collections.csv\")\n"
   ]
  },
  {
   "cell_type": "code",
   "execution_count": 11,
   "metadata": {
    "ExecuteTime": {
     "end_time": "2021-04-21T08:13:19.215402Z",
     "start_time": "2021-04-21T08:13:19.207790Z"
    }
   },
   "outputs": [
    {
     "data": {
      "text/plain": [
       "4924"
      ]
     },
     "execution_count": 11,
     "metadata": {},
     "output_type": "execute_result"
    }
   ],
   "source": [
    "collections[\"lead_id\"].isin(sentences[\"lead_id\"]).sum()"
   ]
  },
  {
   "cell_type": "code",
   "execution_count": 4,
   "metadata": {
    "ExecuteTime": {
     "end_time": "2021-04-19T19:50:28.646896Z",
     "start_time": "2021-04-19T19:50:28.640261Z"
    }
   },
   "outputs": [
    {
     "data": {
      "text/plain": [
       "(355715, 355715)"
      ]
     },
     "execution_count": 4,
     "metadata": {},
     "output_type": "execute_result"
    }
   ],
   "source": [
    "len(sentences), len(sentences_ann_new)"
   ]
  },
  {
   "cell_type": "code",
   "execution_count": 5,
   "metadata": {
    "ExecuteTime": {
     "end_time": "2021-04-19T19:50:28.736972Z",
     "start_time": "2021-04-19T19:50:28.648229Z"
    }
   },
   "outputs": [
    {
     "name": "stderr",
     "output_type": "stream",
     "text": [
      "Warning : `load_model` does not return WordVectorModel or SupervisedModel any more, but a `FastText` object which is very similar.\n"
     ]
    }
   ],
   "source": [
    "# get the model\n",
    "# https://fasttext.cc/docs/en/language-identification.html\n",
    "# https://dl.fbaipublicfiles.com/fasttext/supervised-models/lid.176.bin\n",
    "path_to_pretrained_model = 'lid.176.bin'\n",
    "fmodel = fasttext.load_model(path_to_pretrained_model)\n",
    "def lang_detect_ft(doc):\n",
    "    if isinstance(doc, str):\n",
    "        doc = re.sub(\"\\s+\", \" \", doc)\n",
    "        return fmodel.predict([doc])[0][0][0][len(\"__label__\"):]\n",
    "    return np.nan"
   ]
  },
  {
   "cell_type": "code",
   "execution_count": 6,
   "metadata": {
    "ExecuteTime": {
     "end_time": "2021-04-19T19:50:43.715317Z",
     "start_time": "2021-04-19T19:50:28.738158Z"
    }
   },
   "outputs": [
    {
     "data": {
      "application/vnd.jupyter.widget-view+json": {
       "model_id": "a206f3fdb5ea43229ecd4c465c371d81",
       "version_major": 2,
       "version_minor": 0
      },
      "text/plain": [
       "HBox(children=(HTML(value=''), FloatProgress(value=0.0, max=355715.0), HTML(value='')))"
      ]
     },
     "metadata": {},
     "output_type": "display_data"
    },
    {
     "name": "stdout",
     "output_type": "stream",
     "text": [
      "\n"
     ]
    }
   ],
   "source": [
    "sentences[\"lang_ft\"] = sentences[\"excerpt_text\"].progress_apply(lang_detect_ft)"
   ]
  },
  {
   "cell_type": "code",
   "execution_count": 7,
   "metadata": {
    "ExecuteTime": {
     "end_time": "2021-04-19T19:51:34.945185Z",
     "start_time": "2021-04-19T19:50:43.717627Z"
    }
   },
   "outputs": [
    {
     "data": {
      "application/vnd.jupyter.widget-view+json": {
       "model_id": "ca5faa0515ef477dbed7582c77c5c520",
       "version_major": 2,
       "version_minor": 0
      },
      "text/plain": [
       "HBox(children=(HTML(value=''), FloatProgress(value=0.0, max=355715.0), HTML(value='')))"
      ]
     },
     "metadata": {},
     "output_type": "display_data"
    },
    {
     "name": "stdout",
     "output_type": "stream",
     "text": [
      "\n"
     ]
    }
   ],
   "source": [
    "sentences[\"lang\"] = sentences[\"lang_ft\"].copy()\n",
    "for row in tqdm(sentences.iterrows(), total=len(sentences)):\n",
    "    idx = row[0]\n",
    "    if row[1].lang_ft not in [\"es\", \"en\", \"fr\"]:\n",
    "        if row[1].project_country_code == \"COL\":\n",
    "            sentences.loc[idx, \"lang\"] = \"es\"\n",
    "        elif row[1].project_country_code in [\"SYRDL,SYR\", \"SYR\", \"BGD\", \"NGA\"]:\n",
    "            sentences.loc[idx, \"lang\"] = \"en\"\n",
    "        else:\n",
    "            sentences.loc[idx, \"lang\"] = \"fr\""
   ]
  },
  {
   "cell_type": "code",
   "execution_count": 8,
   "metadata": {
    "ExecuteTime": {
     "end_time": "2021-04-19T19:51:34.980973Z",
     "start_time": "2021-04-19T19:51:34.946285Z"
    }
   },
   "outputs": [
    {
     "data": {
      "text/plain": [
       "en    236961\n",
       "es     59590\n",
       "fr     59164\n",
       "Name: lang, dtype: int64"
      ]
     },
     "execution_count": 8,
     "metadata": {},
     "output_type": "execute_result"
    }
   ],
   "source": [
    "sentences[\"lang\"].value_counts()"
   ]
  },
  {
   "cell_type": "code",
   "execution_count": 9,
   "metadata": {
    "ExecuteTime": {
     "end_time": "2021-04-19T19:51:38.115785Z",
     "start_time": "2021-04-19T19:51:34.982150Z"
    }
   },
   "outputs": [],
   "source": [
    "sentences.to_csv(\"data_pp/sentences_lang.csv\", index=None)"
   ]
  },
  {
   "cell_type": "code",
   "execution_count": null,
   "metadata": {},
   "outputs": [],
   "source": []
  }
 ],
 "metadata": {
  "kernelspec": {
   "display_name": "Python 3",
   "language": "python",
   "name": "python3"
  },
  "language_info": {
   "codemirror_mode": {
    "name": "ipython",
    "version": 3
   },
   "file_extension": ".py",
   "mimetype": "text/x-python",
   "name": "python",
   "nbconvert_exporter": "python",
   "pygments_lexer": "ipython3",
   "version": "3.8.5"
  }
 },
 "nbformat": 4,
 "nbformat_minor": 4
}
