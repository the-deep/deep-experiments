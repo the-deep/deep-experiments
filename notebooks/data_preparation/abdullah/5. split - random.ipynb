{
 "cells": [
  {
   "cell_type": "code",
   "execution_count": 1,
   "metadata": {
    "ExecuteTime": {
     "end_time": "2021-04-20T13:05:07.579500Z",
     "start_time": "2021-04-20T13:05:07.367764Z"
    }
   },
   "outputs": [],
   "source": [
    "import re\n",
    "import random\n",
    "from ast import literal_eval\n",
    "from collections import Counter\n",
    "import fasttext\n",
    "import numpy as np\n",
    "import pandas as pd\n",
    "from tqdm.auto import tqdm"
   ]
  },
  {
   "cell_type": "code",
   "execution_count": 2,
   "metadata": {
    "ExecuteTime": {
     "end_time": "2021-04-20T13:05:10.413841Z",
     "start_time": "2021-04-20T13:05:10.410230Z"
    }
   },
   "outputs": [
    {
     "name": "stderr",
     "output_type": "stream",
     "text": [
      "/home/abdullah/anaconda3/lib/python3.8/site-packages/tqdm/std.py:697: FutureWarning: The Panel class is removed from pandas. Accessing it from the top-level namespace will also be removed in the next version\n",
      "  from pandas import Panel\n"
     ]
    }
   ],
   "source": [
    "tqdm.pandas()"
   ]
  },
  {
   "cell_type": "code",
   "execution_count": 3,
   "metadata": {
    "ExecuteTime": {
     "end_time": "2021-04-20T13:05:12.068114Z",
     "start_time": "2021-04-20T13:05:10.852938Z"
    }
   },
   "outputs": [],
   "source": [
    "documents = pd.read_csv(\"final_before_split/immap_dfs_documents.csv\")\n",
    "sentences = pd.read_csv(\"final_before_split/immap_dfs_sentences.csv\")"
   ]
  },
  {
   "cell_type": "code",
   "execution_count": 4,
   "metadata": {
    "ExecuteTime": {
     "end_time": "2021-04-20T13:05:15.438634Z",
     "start_time": "2021-04-20T13:05:12.746493Z"
    }
   },
   "outputs": [
    {
     "data": {
      "application/vnd.jupyter.widget-view+json": {
       "model_id": "dfe0a8157e444fbfa88a69f36289c166",
       "version_major": 2,
       "version_minor": 0
      },
      "text/plain": [
       "HBox(children=(HTML(value=''), FloatProgress(value=0.0, max=355715.0), HTML(value='')))"
      ]
     },
     "metadata": {},
     "output_type": "display_data"
    },
    {
     "name": "stdout",
     "output_type": "stream",
     "text": [
      "\n"
     ]
    }
   ],
   "source": [
    "sentences[\"sector_ids\"] = sentences[\"sector_ids\"].progress_apply(literal_eval)"
   ]
  },
  {
   "cell_type": "code",
   "execution_count": 5,
   "metadata": {
    "ExecuteTime": {
     "end_time": "2021-04-20T13:05:18.076191Z",
     "start_time": "2021-04-20T13:05:17.997961Z"
    }
   },
   "outputs": [
    {
     "data": {
      "text/plain": [
       "{0, 1, 2, 3, 4, 5, 6, 7, 8, 9, 10}"
      ]
     },
     "execution_count": 5,
     "metadata": {},
     "output_type": "execute_result"
    }
   ],
   "source": [
    "sec_ids = set()\n",
    "for sec_ids_list in sentences[\"sector_ids\"]:\n",
    "    sec_ids.update(sec_ids_list)\n",
    "sec_ids"
   ]
  },
  {
   "cell_type": "code",
   "execution_count": 6,
   "metadata": {
    "ExecuteTime": {
     "end_time": "2021-04-20T13:05:18.371896Z",
     "start_time": "2021-04-20T13:05:18.351497Z"
    }
   },
   "outputs": [],
   "source": [
    "sentences[\"sec_0\"] = 0\n",
    "sentences[\"sec_1\"] = 0\n",
    "sentences[\"sec_2\"] = 0\n",
    "sentences[\"sec_3\"] = 0\n",
    "sentences[\"sec_4\"] = 0\n",
    "sentences[\"sec_6\"] = 0\n",
    "sentences[\"sec_7\"] = 0\n",
    "sentences[\"sec_8\"] = 0\n",
    "sentences[\"sec_9\"] = 0\n",
    "sentences[\"sec_10\"] = 0"
   ]
  },
  {
   "cell_type": "code",
   "execution_count": 7,
   "metadata": {
    "ExecuteTime": {
     "end_time": "2021-04-20T13:06:28.611073Z",
     "start_time": "2021-04-20T13:05:19.512026Z"
    }
   },
   "outputs": [
    {
     "data": {
      "application/vnd.jupyter.widget-view+json": {
       "model_id": "e8bcec22178e48b5af4425c5982f6488",
       "version_major": 2,
       "version_minor": 0
      },
      "text/plain": [
       "HBox(children=(HTML(value=''), FloatProgress(value=0.0, max=355715.0), HTML(value='')))"
      ]
     },
     "metadata": {},
     "output_type": "display_data"
    },
    {
     "name": "stdout",
     "output_type": "stream",
     "text": [
      "\n"
     ]
    }
   ],
   "source": [
    "for row in tqdm(sentences.iterrows(), total=sentences.shape[0]):\n",
    "    sec_ids = row[1][\"sector_ids\"]\n",
    "    idx = row[0]\n",
    "    if 0 in sec_ids:\n",
    "        sentences.loc[idx, \"sec_0\"] = 1\n",
    "    if 1 in sec_ids:\n",
    "        sentences.loc[idx, \"sec_1\"] = 1\n",
    "    if 2 in sec_ids:\n",
    "        sentences.loc[idx, \"sec_2\"] = 1\n",
    "    if 3 in sec_ids:\n",
    "        sentences.loc[idx, \"sec_3\"] = 1\n",
    "    if 4 in sec_ids:\n",
    "        sentences.loc[idx, \"sec_4\"] = 1\n",
    "    if 5 in sec_ids:\n",
    "        sentences.loc[idx, \"sec_5\"] = 1\n",
    "    if 6 in sec_ids:\n",
    "        sentences.loc[idx, \"sec_6\"] = 1\n",
    "    if 7 in sec_ids:\n",
    "        sentences.loc[idx, \"sec_7\"] = 1\n",
    "    if 8 in sec_ids:\n",
    "        sentences.loc[idx, \"sec_8\"] = 1\n",
    "    if 9 in sec_ids:\n",
    "        sentences.loc[idx, \"sec_9\"] = 1\n",
    "    if 10 in sec_ids:\n",
    "        sentences.loc[idx, \"sec_10\"] = 1     "
   ]
  },
  {
   "cell_type": "code",
   "execution_count": 11,
   "metadata": {
    "ExecuteTime": {
     "end_time": "2021-04-20T11:58:50.937059Z",
     "start_time": "2021-04-20T11:58:50.908012Z"
    }
   },
   "outputs": [
    {
     "data": {
      "text/plain": [
       "en    236961\n",
       "es     59590\n",
       "fr     59164\n",
       "Name: lang_code, dtype: int64"
      ]
     },
     "execution_count": 11,
     "metadata": {},
     "output_type": "execute_result"
    }
   ],
   "source": [
    "sentences[\"lang_code\"].value_counts()"
   ]
  },
  {
   "cell_type": "code",
   "execution_count": 8,
   "metadata": {
    "ExecuteTime": {
     "end_time": "2021-04-20T13:06:28.682405Z",
     "start_time": "2021-04-20T13:06:28.612178Z"
    }
   },
   "outputs": [],
   "source": [
    "sentences_en = sentences[sentences[\"lang_code\"].eq(\"en\")]\n",
    "sentences_fr = sentences[sentences[\"lang_code\"].eq(\"fr\")]\n",
    "sentences_es = sentences[sentences[\"lang_code\"].eq(\"es\")]"
   ]
  },
  {
   "cell_type": "code",
   "execution_count": 9,
   "metadata": {
    "ExecuteTime": {
     "end_time": "2021-04-20T13:06:28.778552Z",
     "start_time": "2021-04-20T13:06:28.683616Z"
    }
   },
   "outputs": [
    {
     "name": "stderr",
     "output_type": "stream",
     "text": [
      "Warning : `load_model` does not return WordVectorModel or SupervisedModel any more, but a `FastText` object which is very similar.\n"
     ]
    }
   ],
   "source": [
    "path_to_pretrained_model = 'lid.176.bin'\n",
    "fmodel = fasttext.load_model(path_to_pretrained_model)\n",
    "def detect_lang(doc):\n",
    "    if isinstance(doc, str):\n",
    "        doc = re.sub(\"\\s+\", \" \", doc)\n",
    "        return fmodel.predict([doc])[0][0][0][len(\"__label__\"):]\n",
    "    return np.nan"
   ]
  },
  {
   "cell_type": "code",
   "execution_count": 10,
   "metadata": {
    "ExecuteTime": {
     "end_time": "2021-04-20T13:06:39.933434Z",
     "start_time": "2021-04-20T13:06:28.927593Z"
    }
   },
   "outputs": [
    {
     "data": {
      "application/vnd.jupyter.widget-view+json": {
       "model_id": "9a8f62cca2a645beb807483100b99a11",
       "version_major": 2,
       "version_minor": 0
      },
      "text/plain": [
       "HBox(children=(HTML(value=''), FloatProgress(value=0.0, max=4924.0), HTML(value='')))"
      ]
     },
     "metadata": {},
     "output_type": "display_data"
    },
    {
     "name": "stdout",
     "output_type": "stream",
     "text": [
      "\n"
     ]
    }
   ],
   "source": [
    "documents[\"lang_ft\"] = documents[\"doc_text\"].progress_apply(detect_lang)"
   ]
  },
  {
   "cell_type": "code",
   "execution_count": 12,
   "metadata": {
    "ExecuteTime": {
     "end_time": "2021-04-20T13:08:00.398097Z",
     "start_time": "2021-04-20T13:08:00.394463Z"
    }
   },
   "outputs": [
    {
     "data": {
      "text/plain": [
       "Index(['project_name', 'country_code', 'doc_id', 'doc_text', 'doc_url',\n",
       "       'lang_ft', 'lang'],\n",
       "      dtype='object')"
      ]
     },
     "execution_count": 12,
     "metadata": {},
     "output_type": "execute_result"
    }
   ],
   "source": [
    "documents.columns"
   ]
  },
  {
   "cell_type": "code",
   "execution_count": 13,
   "metadata": {
    "ExecuteTime": {
     "end_time": "2021-04-20T13:08:19.614996Z",
     "start_time": "2021-04-20T13:08:19.606733Z"
    }
   },
   "outputs": [
    {
     "data": {
      "text/plain": [
       "BGD    1160\n",
       "SYR    1125\n",
       "NGA     719\n",
       "BFA     676\n",
       "COL     652\n",
       "COD     592\n",
       "Name: country_code, dtype: int64"
      ]
     },
     "execution_count": 13,
     "metadata": {},
     "output_type": "execute_result"
    }
   ],
   "source": [
    "documents.country_code.value_counts()"
   ]
  },
  {
   "cell_type": "code",
   "execution_count": 14,
   "metadata": {
    "ExecuteTime": {
     "end_time": "2021-04-20T13:08:48.288051Z",
     "start_time": "2021-04-20T13:08:47.913494Z"
    }
   },
   "outputs": [
    {
     "data": {
      "application/vnd.jupyter.widget-view+json": {
       "model_id": "09e24d50a8a5497abff550650af1a0d4",
       "version_major": 2,
       "version_minor": 0
      },
      "text/plain": [
       "HBox(children=(HTML(value=''), FloatProgress(value=0.0, max=4924.0), HTML(value='')))"
      ]
     },
     "metadata": {},
     "output_type": "display_data"
    },
    {
     "name": "stdout",
     "output_type": "stream",
     "text": [
      "\n"
     ]
    }
   ],
   "source": [
    "documents[\"lang\"] = documents[\"lang_ft\"].copy()\n",
    "for row in tqdm(documents.iterrows(), total=len(documents)):\n",
    "    idx = row[0]\n",
    "    if row[1].lang_ft not in [\"es\", \"en\", \"fr\"]:\n",
    "        if row[1].country_code == \"COL\":\n",
    "            documents.loc[idx, \"lang\"] = \"es\"\n",
    "        elif row[1].country_code in [\"SYR\", \"BGD\", \"NGA\"]:\n",
    "            documents.loc[idx, \"lang\"] = \"en\"\n",
    "        else:\n",
    "            documents.loc[idx, \"lang\"] = \"fr\""
   ]
  },
  {
   "cell_type": "code",
   "execution_count": 17,
   "metadata": {
    "ExecuteTime": {
     "end_time": "2021-04-20T13:09:11.583340Z",
     "start_time": "2021-04-20T13:09:11.576095Z"
    }
   },
   "outputs": [],
   "source": [
    "documents_en = documents[documents[\"lang\"].eq(\"en\")]\n",
    "documents_fr = documents[documents[\"lang\"].eq(\"fr\")]\n",
    "documents_es = documents[documents[\"lang\"].eq(\"es\")]"
   ]
  },
  {
   "cell_type": "code",
   "execution_count": 19,
   "metadata": {
    "ExecuteTime": {
     "end_time": "2021-04-20T13:09:33.512438Z",
     "start_time": "2021-04-20T13:09:33.510365Z"
    }
   },
   "outputs": [],
   "source": [
    "documents.drop('lang_ft', axis=1, inplace=True)"
   ]
  },
  {
   "cell_type": "code",
   "execution_count": 20,
   "metadata": {
    "ExecuteTime": {
     "end_time": "2021-04-20T13:09:45.296250Z",
     "start_time": "2021-04-20T13:09:45.292718Z"
    }
   },
   "outputs": [
    {
     "data": {
      "text/plain": [
       "(4924, 3313, 1016, 595)"
      ]
     },
     "execution_count": 20,
     "metadata": {},
     "output_type": "execute_result"
    }
   ],
   "source": [
    "len(documents), len(documents_en), len(documents_fr), len(documents_es)"
   ]
  },
  {
   "cell_type": "code",
   "execution_count": 21,
   "metadata": {
    "ExecuteTime": {
     "end_time": "2021-04-20T13:09:57.569744Z",
     "start_time": "2021-04-20T13:09:57.563842Z"
    }
   },
   "outputs": [],
   "source": [
    "def split(docs, train_perc=.8, val_perc=.1, random_state=2021):\n",
    "    \"\"\"split a dataframe into train, val, test\"\"\"\n",
    "    train, val, test = np.split(docs.sample(frac=1, random_state=random_state), [int(train_perc*len(docs)), int((train_perc+val_perc)*len(docs))])\n",
    "    return train, val, test"
   ]
  },
  {
   "cell_type": "code",
   "execution_count": 22,
   "metadata": {
    "ExecuteTime": {
     "end_time": "2021-04-20T13:12:00.832634Z",
     "start_time": "2021-04-20T13:11:59.495626Z"
    }
   },
   "outputs": [],
   "source": [
    "train_docs_en, val_docs_en, test_docs_en = split(documents_en)\n",
    "train_docs_fr, val_docs_fr, test_docs_fr = split(documents_fr)\n",
    "train_docs_es, val_docs_es, test_docs_es = split(documents_es)\n",
    "## write en\n",
    "train_docs_en.to_csv(\"final_data_random_split/en/documents_en_train.csv\", index=None)\n",
    "val_docs_en.to_csv(\"final_data_random_split/en/documents_en_val.csv\", index=None)\n",
    "test_docs_en.to_csv(\"final_data_random_split/en/documents_en_test.csv\", index=None)\n",
    "## write fr\n",
    "train_docs_fr.to_csv(\"final_data_random_split/fr/documents_fr_train.csv\", index=None)\n",
    "val_docs_fr.to_csv(\"final_data_random_split/fr/documents_fr_val.csv\", index=None)\n",
    "test_docs_fr.to_csv(\"final_data_random_split/fr/documents_fr_test.csv\", index=None)\n",
    "## write es\n",
    "train_docs_es.to_csv(\"final_data_random_split/es/documents_es_train.csv\", index=None)\n",
    "val_docs_es.to_csv(\"final_data_random_split/es/documents_es_val.csv\", index=None)\n",
    "test_docs_es.to_csv(\"final_data_random_split/es/documents_es_test.csv\", index=None)"
   ]
  },
  {
   "cell_type": "code",
   "execution_count": 23,
   "metadata": {
    "ExecuteTime": {
     "end_time": "2021-04-20T13:12:25.469706Z",
     "start_time": "2021-04-20T13:12:24.023466Z"
    }
   },
   "outputs": [],
   "source": [
    "## en\n",
    "train_sentences_en = sentences[sentences[\"doc_id\"].isin(train_docs_en[\"doc_id\"])]\n",
    "val_sentences_en = sentences[sentences[\"doc_id\"].isin(val_docs_en[\"doc_id\"])]\n",
    "test_sentences_en = sentences[sentences[\"doc_id\"].isin(test_docs_en[\"doc_id\"])]\n",
    "## write\n",
    "train_sentences_en.to_csv(\"final_data_random_split/en/sentences_en_train.csv\", index=None)\n",
    "val_sentences_en.to_csv(\"final_data_random_split/en/sentences_en_val.csv\", index=None)\n",
    "test_sentences_en.to_csv(\"final_data_random_split/en/sentences_en_test.csv\", index=None)\n",
    "test_sentences_en.to_csv(\"final_data_random_split/en/sentences_en_test_without_ground_truth.csv\", index=None, columns=['doc_id', 'sentence_id', 'sentence_text'])"
   ]
  },
  {
   "cell_type": "code",
   "execution_count": 24,
   "metadata": {
    "ExecuteTime": {
     "end_time": "2021-04-20T13:15:05.825079Z",
     "start_time": "2021-04-20T13:15:05.409315Z"
    }
   },
   "outputs": [],
   "source": [
    "## fr\n",
    "train_sentences_fr = sentences[sentences[\"doc_id\"].isin(train_docs_fr[\"doc_id\"])]\n",
    "val_sentences_fr = sentences[sentences[\"doc_id\"].isin(val_docs_fr[\"doc_id\"])]\n",
    "test_sentences_fr = sentences[sentences[\"doc_id\"].isin(test_docs_fr[\"doc_id\"])]\n",
    "## write\n",
    "train_sentences_fr.to_csv(\"final_data_random_split/fr/sentences_fr_train.csv\", index=None)\n",
    "val_sentences_fr.to_csv(\"final_data_random_split/fr/sentences_fr_val.csv\", index=None)\n",
    "test_sentences_fr.to_csv(\"final_data_random_split/fr/sentences_fr_test.csv\", index=None)\n",
    "test_sentences_fr.to_csv(\"final_data_random_split/fr/sentences_fr_test_without_ground_truth.csv\", index=None, columns=['doc_id', 'sentence_id', 'sentence_text'])"
   ]
  },
  {
   "cell_type": "code",
   "execution_count": 25,
   "metadata": {
    "ExecuteTime": {
     "end_time": "2021-04-20T13:15:27.846435Z",
     "start_time": "2021-04-20T13:15:27.452432Z"
    }
   },
   "outputs": [],
   "source": [
    "## es\n",
    "train_sentences_es = sentences[sentences[\"doc_id\"].isin(train_docs_es[\"doc_id\"])]\n",
    "val_sentences_es = sentences[sentences[\"doc_id\"].isin(val_docs_es[\"doc_id\"])]\n",
    "test_sentences_es = sentences[sentences[\"doc_id\"].isin(test_docs_es[\"doc_id\"])]\n",
    "## write\n",
    "train_sentences_es.to_csv(\"final_data_random_split/es/sentences_es_train.csv\", index=None)\n",
    "val_sentences_es.to_csv(\"final_data_random_split/es/sentences_es_val.csv\", index=None)\n",
    "test_sentences_es.to_csv(\"final_data_random_split/es/sentences_es_test.csv\", index=None)\n",
    "test_sentences_es.to_csv(\"final_data_random_split/es/sentences_es_test_without_ground_truth.csv\", index=None, columns=['doc_id', 'sentence_id', 'sentence_text'])"
   ]
  },
  {
   "cell_type": "code",
   "execution_count": 26,
   "metadata": {
    "ExecuteTime": {
     "end_time": "2021-04-20T14:30:04.190309Z",
     "start_time": "2021-04-20T14:30:04.167212Z"
    }
   },
   "outputs": [
    {
     "data": {
      "text/plain": [
       "doc_id         10420874061\n",
       "sentence_id      295368456\n",
       "is_relevant          41622\n",
       "sec_0                  918\n",
       "sec_1                 4557\n",
       "sec_2                 2291\n",
       "sec_3                 3926\n",
       "sec_4                12597\n",
       "sec_6                 1393\n",
       "sec_7                 1151\n",
       "sec_8                 4233\n",
       "sec_9                 1944\n",
       "sec_10                2915\n",
       "sec_5                 3559\n",
       "dtype: int64"
      ]
     },
     "execution_count": 26,
     "metadata": {},
     "output_type": "execute_result"
    }
   ],
   "source": [
    "sentences_en.sum(numeric_only=True).astype(np.int)"
   ]
  },
  {
   "cell_type": "code",
   "execution_count": 28,
   "metadata": {
    "ExecuteTime": {
     "end_time": "2021-04-20T14:31:03.458657Z",
     "start_time": "2021-04-20T14:31:03.443949Z"
    }
   },
   "outputs": [
    {
     "data": {
      "text/plain": [
       "doc_id         8406656283\n",
       "sentence_id     271130440\n",
       "is_relevant         32974\n",
       "sec_0                 724\n",
       "sec_1                3414\n",
       "sec_2                1693\n",
       "sec_3                3154\n",
       "sec_4               10278\n",
       "sec_6                1120\n",
       "sec_7                 811\n",
       "sec_8                3295\n",
       "sec_9                1482\n",
       "sec_10               2235\n",
       "sec_5                2888\n",
       "dtype: int64"
      ]
     },
     "execution_count": 28,
     "metadata": {},
     "output_type": "execute_result"
    }
   ],
   "source": [
    "train_sentences_en.sum(numeric_only=True).astype(np.int)"
   ]
  },
  {
   "cell_type": "code",
   "execution_count": 31,
   "metadata": {
    "ExecuteTime": {
     "end_time": "2021-04-20T14:32:04.627861Z",
     "start_time": "2021-04-20T14:32:04.612609Z"
    }
   },
   "outputs": [
    {
     "data": {
      "text/plain": [
       "doc_id         0.097745\n",
       "sentence_id    0.025652\n",
       "is_relevant    0.096632\n",
       "sec_0          0.068627\n",
       "sec_1          0.093483\n",
       "sec_2          0.098647\n",
       "sec_3          0.068518\n",
       "sec_4          0.092324\n",
       "sec_6          0.093324\n",
       "sec_7          0.084275\n",
       "sec_8          0.086464\n",
       "sec_9          0.078704\n",
       "sec_10         0.093310\n",
       "sec_5          0.073897\n",
       "dtype: float64"
      ]
     },
     "execution_count": 31,
     "metadata": {},
     "output_type": "execute_result"
    }
   ],
   "source": [
    "test_sentences_en.sum(numeric_only=True).astype(np.int)/sentences_en.sum(numeric_only=True).astype(np.int)"
   ]
  },
  {
   "cell_type": "code",
   "execution_count": 32,
   "metadata": {
    "ExecuteTime": {
     "end_time": "2021-04-20T14:32:26.435211Z",
     "start_time": "2021-04-20T14:32:26.421246Z"
    }
   },
   "outputs": [
    {
     "data": {
      "text/plain": [
       "doc_id         0.091296\n",
       "sentence_id    0.086326\n",
       "is_relevant    0.110639\n",
       "sec_0          0.140523\n",
       "sec_1          0.156682\n",
       "sec_2          0.161938\n",
       "sec_3          0.127101\n",
       "sec_4          0.091688\n",
       "sec_6          0.102656\n",
       "sec_7          0.208514\n",
       "sec_8          0.134420\n",
       "sec_9          0.158436\n",
       "sec_10         0.139623\n",
       "sec_5          0.114077\n",
       "dtype: float64"
      ]
     },
     "execution_count": 32,
     "metadata": {},
     "output_type": "execute_result"
    }
   ],
   "source": [
    "val_sentences_en.sum(numeric_only=True).astype(np.int)/sentences_en.sum(numeric_only=True).astype(np.int)"
   ]
  },
  {
   "cell_type": "code",
   "execution_count": 33,
   "metadata": {
    "ExecuteTime": {
     "end_time": "2021-04-20T14:40:19.633013Z",
     "start_time": "2021-04-20T14:40:19.617298Z"
    }
   },
   "outputs": [
    {
     "data": {
      "text/plain": [
       "doc_id         0.806713\n",
       "sentence_id    0.917940\n",
       "is_relevant    0.792225\n",
       "sec_0          0.788671\n",
       "sec_1          0.749177\n",
       "sec_2          0.738979\n",
       "sec_3          0.803362\n",
       "sec_4          0.815909\n",
       "sec_6          0.804020\n",
       "sec_7          0.704605\n",
       "sec_8          0.778408\n",
       "sec_9          0.762346\n",
       "sec_10         0.766724\n",
       "sec_5          0.811464\n",
       "dtype: float64"
      ]
     },
     "execution_count": 33,
     "metadata": {},
     "output_type": "execute_result"
    }
   ],
   "source": [
    "train_sentences_en.sum(numeric_only=True).astype(np.int)/sentences_en.sum(numeric_only=True).astype(np.int)"
   ]
  },
  {
   "cell_type": "code",
   "execution_count": 30,
   "metadata": {
    "ExecuteTime": {
     "end_time": "2021-04-20T14:31:30.782668Z",
     "start_time": "2021-04-20T14:31:30.776551Z"
    }
   },
   "outputs": [
    {
     "data": {
      "text/plain": [
       "doc_id         951386867\n",
       "sentence_id     25497994\n",
       "is_relevant         4605\n",
       "sec_0                129\n",
       "sec_1                714\n",
       "sec_2                371\n",
       "sec_3                499\n",
       "sec_4               1155\n",
       "sec_6                143\n",
       "sec_7                240\n",
       "sec_8                569\n",
       "sec_9                308\n",
       "sec_10               407\n",
       "sec_5                406\n",
       "dtype: int64"
      ]
     },
     "execution_count": 30,
     "metadata": {},
     "output_type": "execute_result"
    }
   ],
   "source": [
    "val_sentences_en.sum(numeric_only=True).astype(np.int)"
   ]
  },
  {
   "cell_type": "code",
   "execution_count": null,
   "metadata": {},
   "outputs": [],
   "source": []
  },
  {
   "cell_type": "code",
   "execution_count": null,
   "metadata": {},
   "outputs": [],
   "source": []
  },
  {
   "cell_type": "code",
   "execution_count": null,
   "metadata": {},
   "outputs": [],
   "source": []
  }
 ],
 "metadata": {
  "kernelspec": {
   "display_name": "Python 3",
   "language": "python",
   "name": "python3"
  },
  "language_info": {
   "codemirror_mode": {
    "name": "ipython",
    "version": 3
   },
   "file_extension": ".py",
   "mimetype": "text/x-python",
   "name": "python",
   "nbconvert_exporter": "python",
   "pygments_lexer": "ipython3",
   "version": "3.8.5"
  }
 },
 "nbformat": 4,
 "nbformat_minor": 4
}
