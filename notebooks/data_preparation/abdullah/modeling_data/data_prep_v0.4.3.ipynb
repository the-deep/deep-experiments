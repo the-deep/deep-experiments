{
 "cells": [
  {
   "cell_type": "code",
   "execution_count": 1,
   "metadata": {
    "ExecuteTime": {
     "end_time": "2021-06-03T07:38:57.719313Z",
     "start_time": "2021-06-03T07:38:57.526799Z"
    }
   },
   "outputs": [],
   "source": [
    "import re\n",
    "import json\n",
    "import random\n",
    "from pprint import pprint\n",
    "from ast import literal_eval\n",
    "from collections import Counter\n",
    "\n",
    "import numpy as np\n",
    "import pandas as pd\n",
    "from tqdm.auto import tqdm"
   ]
  },
  {
   "cell_type": "code",
   "execution_count": 2,
   "metadata": {
    "ExecuteTime": {
     "end_time": "2021-06-03T07:38:57.722406Z",
     "start_time": "2021-06-03T07:38:57.720474Z"
    }
   },
   "outputs": [],
   "source": [
    "random.seed(2021)\n",
    "np.random.seed(2021)"
   ]
  },
  {
   "cell_type": "code",
   "execution_count": 3,
   "metadata": {
    "ExecuteTime": {
     "end_time": "2021-06-03T07:39:00.251261Z",
     "start_time": "2021-06-03T07:38:57.725134Z"
    }
   },
   "outputs": [],
   "source": [
    "exportdata = pd.read_csv(\"exportdata.csv\")\n",
    "entries = pd.read_csv(\"entries_of_projects_chosen_by_patrice.csv\")\n",
    "af_widgets = pd.read_csv(\"af_widgets_of_interest.csv\")\n",
    "projects = pd.read_csv(\"projects_chosen_by_patrice.csv\")\n",
    "exportables = pd.read_csv(\"af_exportables.csv\")\n",
    "##\n",
    "afs = pd.read_csv(\"analysis_frameworks.csv\")\n",
    "users = pd.read_csv(\"user_names.csv\")\n",
    "##\n",
    "matching = pd.read_csv(\"pillars_subpillars_matching.csv\")"
   ]
  },
  {
   "cell_type": "code",
   "execution_count": 4,
   "metadata": {
    "ExecuteTime": {
     "end_time": "2021-06-03T07:39:00.257420Z",
     "start_time": "2021-06-03T07:39:00.252346Z"
    }
   },
   "outputs": [],
   "source": [
    "af_widgets[\"properties\"] = af_widgets[\"properties\"].apply(json.loads)"
   ]
  },
  {
   "cell_type": "code",
   "execution_count": 5,
   "metadata": {
    "ExecuteTime": {
     "end_time": "2021-06-03T07:39:00.264144Z",
     "start_time": "2021-06-03T07:39:00.258739Z"
    }
   },
   "outputs": [],
   "source": [
    "mat2d_titles = [\n",
    "    s.upper() for s in [\n",
    "        \"Pre-Crisis\",\n",
    "        \"Shock/Event\",\n",
    "        \"In-Crisis\",\n",
    "        \"Sectors\",\n",
    "        \"Sectoral Information\",\n",
    "        \"Matrix 2D\",\n",
    "    ]\n",
    "]\n",
    "mat2d_properties_ids = af_widgets[(\n",
    "    af_widgets[\"title\"].str.upper()).isin(mat2d_titles)][[\n",
    "        \"properties\", \"analysis_framework_id\"\n",
    "    ]]\n",
    "mat2d_properties = mat2d_properties_ids[\"properties\"].tolist()\n",
    "mat2d_ids = mat2d_properties_ids[\"analysis_framework_id\"].tolist()"
   ]
  },
  {
   "cell_type": "code",
   "execution_count": 6,
   "metadata": {
    "ExecuteTime": {
     "end_time": "2021-06-03T07:39:00.268598Z",
     "start_time": "2021-06-03T07:39:00.265457Z"
    },
    "scrolled": true
   },
   "outputs": [],
   "source": [
    "afids_pillars_subpillars = dict()\n",
    "for mat, af_id in zip(mat2d_properties, mat2d_ids):\n",
    "    dims = mat[\"data\"]['dimensions']\n",
    "    afids_pillars_subpillars[af_id] = {}\n",
    "    for dim in dims:\n",
    "        pillar = dim[\"title\"]\n",
    "        sub_pillars = []\n",
    "        for sub_pillar_dict in dim[\"subdimensions\"]:\n",
    "            sub_pillars.append(sub_pillar_dict[\"title\"])\n",
    "        afids_pillars_subpillars[af_id][pillar] = sub_pillars\n"
   ]
  },
  {
   "cell_type": "code",
   "execution_count": 7,
   "metadata": {
    "ExecuteTime": {
     "end_time": "2021-06-03T07:39:00.337377Z",
     "start_time": "2021-06-03T07:39:00.271148Z"
    }
   },
   "outputs": [],
   "source": [
    "exportables[\"data\"] = exportables[\"data\"].apply(literal_eval)"
   ]
  },
  {
   "cell_type": "code",
   "execution_count": 8,
   "metadata": {
    "ExecuteTime": {
     "end_time": "2021-06-03T07:39:00.341618Z",
     "start_time": "2021-06-03T07:39:00.338903Z"
    }
   },
   "outputs": [],
   "source": [
    "def extract_title(x):\n",
    "    if x[\"excel\"].get(\"title\"):\n",
    "        return x[\"excel\"][\"title\"]\n",
    "    elif x[\"excel\"].get(\"type\") == \"multiple\":\n",
    "        return x[\"excel\"][\"titles\"]\n",
    "\n",
    "af_titles = exportables[\"data\"].apply(extract_title).tolist()"
   ]
  },
  {
   "cell_type": "code",
   "execution_count": 9,
   "metadata": {
    "ExecuteTime": {
     "end_time": "2021-06-03T07:39:00.348765Z",
     "start_time": "2021-06-03T07:39:00.342545Z"
    }
   },
   "outputs": [
    {
     "data": {
      "text/plain": [
       "((181142, 21), (1018086, 4))"
      ]
     },
     "execution_count": 9,
     "metadata": {},
     "output_type": "execute_result"
    }
   ],
   "source": [
    "entries.shape, exportdata.shape"
   ]
  },
  {
   "cell_type": "code",
   "execution_count": 10,
   "metadata": {
    "ExecuteTime": {
     "end_time": "2021-06-03T07:39:00.564220Z",
     "start_time": "2021-06-03T07:39:00.349743Z"
    }
   },
   "outputs": [
    {
     "data": {
      "text/plain": [
       "(138924,)"
      ]
     },
     "execution_count": 10,
     "metadata": {},
     "output_type": "execute_result"
    }
   ],
   "source": [
    "entries[~entries[\"excerpt\"].isna()][\"excerpt\"].unique().shape"
   ]
  },
  {
   "cell_type": "code",
   "execution_count": 11,
   "metadata": {
    "ExecuteTime": {
     "end_time": "2021-06-03T07:39:00.567560Z",
     "start_time": "2021-06-03T07:39:00.565364Z"
    }
   },
   "outputs": [],
   "source": [
    "exid_to_exdata = dict()\n",
    "for ex_id, ex_data in zip(exportables[\"id\"], exportables[\"data\"]):\n",
    "    exid_to_exdata[ex_id] = ex_data"
   ]
  },
  {
   "cell_type": "code",
   "execution_count": 12,
   "metadata": {
    "ExecuteTime": {
     "end_time": "2021-06-03T07:39:00.571376Z",
     "start_time": "2021-06-03T07:39:00.568655Z"
    }
   },
   "outputs": [
    {
     "data": {
      "text/plain": [
       "array(['Sectoral Information', 'LOCATION', 'EXCERPT',\n",
       "       'Operational Environment', 'Information Date', 'RELIABILITY',\n",
       "       'Flag', 'DEMOGRAPHIC GROUPS', 'SPECIFIC NEEDS GROUPS',\n",
       "       'AFFECTED GROUPS', 'Severity', 'Sectors', 'Cross sector',\n",
       "       'Affected groups', 'Specific Needs Groups', 'Demographic Groups',\n",
       "       'Reliability', 'Geo Location', 'Excerpt', 'Information date',\n",
       "       'PRE-CRISIS', 'IN-CRISIS', 'Crisis type',\n",
       "       'Context additional tags', 'Crisis Type', 'SHOCK/EVENT',\n",
       "       'Additional Context', 'DISPLACED POP TYPE', 'CLEANING tags',\n",
       "       'POPULATION GROUPS', 'Cleaning comments', 'HIGH LEVEL TAGS',\n",
       "       'Comment'], dtype=object)"
      ]
     },
     "execution_count": 12,
     "metadata": {},
     "output_type": "execute_result"
    }
   ],
   "source": [
    "af_widgets[\"title\"].unique()"
   ]
  },
  {
   "cell_type": "code",
   "execution_count": 13,
   "metadata": {
    "ExecuteTime": {
     "end_time": "2021-06-03T07:39:00.575158Z",
     "start_time": "2021-06-03T07:39:00.572326Z"
    }
   },
   "outputs": [],
   "source": [
    "widget_key_id_to_title = dict()\n",
    "for w_key, w_id, title in zip(af_widgets[\"key\"], af_widgets[\"widget_id\"], af_widgets[\"title\"]):\n",
    "    widget_key_id_to_title[(w_key, w_id)] = title"
   ]
  },
  {
   "cell_type": "code",
   "execution_count": 14,
   "metadata": {
    "ExecuteTime": {
     "end_time": "2021-06-03T07:39:00.581122Z",
     "start_time": "2021-06-03T07:39:00.576118Z"
    }
   },
   "outputs": [],
   "source": [
    "def exportdata_to_tag_title(row):\n",
    "    data = json.loads(row[1])\n",
    "    wkey, wid = None, None\n",
    "    if data.get(\"common\"):\n",
    "        wkey = data.get(\"common\").get(\"widget_key\")\n",
    "        wid = data[\"common\"].get(\"widget_id\")\n",
    "    if wkey and wid:\n",
    "        if widget_key_id_to_title.get((wkey, wid)):\n",
    "            return widget_key_id_to_title.get((wkey, wid))\n",
    "    if data.get(\"report\") and data[\"report\"].get(\"other\"):\n",
    "            if len(data[\"report\"][\"other\"]) == 1 and data[\"report\"][\"other\"][0].get(\"title\"):\n",
    "                if data[\"report\"][\"other\"][0][\"title\"]:\n",
    "                    return data[\"report\"][\"other\"][0][\"title\"]\n",
    "    if isinstance(data.get(\"excel\"), list) and len(data[\"excel\"])==1 and \\\n",
    "     data[\"excel\"][0].get(\"widget_key\") and data[\"excel\"][0].get(\"widget_id\"):\n",
    "        wkey = data[\"excel\"][0][\"widget_key\"]\n",
    "        wid = data[\"excel\"][0][\"widget_id\"]\n",
    "        if widget_key_id_to_title.get((wkey, wid)):\n",
    "            return widget_key_id_to_title.get((wkey, wid))\n",
    "    exportable_id = row[3]\n",
    "    if exid_to_exdata[exportable_id][\"excel\"].get(\"title\"):\n",
    "        return exid_to_exdata[exportable_id][\"excel\"][\"title\"]\n",
    "    elif exid_to_exdata[exportable_id][\"excel\"].get(\"type\") == \"multiple\":\n",
    "        return exid_to_exdata[exportable_id][\"excel\"][\"titles\"]\n",
    "    raise"
   ]
  },
  {
   "cell_type": "code",
   "execution_count": 15,
   "metadata": {
    "ExecuteTime": {
     "end_time": "2021-06-03T07:39:11.383391Z",
     "start_time": "2021-06-03T07:39:00.582038Z"
    }
   },
   "outputs": [],
   "source": [
    "exportdata[\"tag_title\"] = exportdata.apply(exportdata_to_tag_title, axis=1)"
   ]
  },
  {
   "cell_type": "code",
   "execution_count": 16,
   "metadata": {
    "ExecuteTime": {
     "end_time": "2021-06-03T07:39:11.387962Z",
     "start_time": "2021-06-03T07:39:11.384452Z"
    }
   },
   "outputs": [],
   "source": [
    "def exportdata_to_tag_value(row):\n",
    "    data = json.loads(row[1])\n",
    "    if isinstance(data[\"excel\"], list) and len(data[\"excel\"])==1:\n",
    "        return data[\"excel\"][0][\"value\"]\n",
    "    if data[\"excel\"].get(\"type\") == \"lists\":\n",
    "        return data[\"excel\"][\"values\"]\n",
    "    if isinstance(data[\"excel\"], dict) and \"value\" in data[\"excel\"]:\n",
    "        return data[\"excel\"].get(\"value\")\n",
    "    if isinstance(data[\"excel\"], dict) and \"values\" in data[\"excel\"]:\n",
    "        return data[\"excel\"].get(\"values\")\n",
    "    elif \"values\" in data[\"common\"]:\n",
    "        return data[\"common\"][\"values\"]\n",
    "    elif \"value\" in data[\"common\"]:\n",
    "        return data[\"common\"][\"value\"]\n",
    "    raise"
   ]
  },
  {
   "cell_type": "code",
   "execution_count": 17,
   "metadata": {
    "ExecuteTime": {
     "end_time": "2021-06-03T07:39:24.410072Z",
     "start_time": "2021-06-03T07:39:11.389079Z"
    }
   },
   "outputs": [],
   "source": [
    "exportdata[\"tag_value\"] = exportdata.apply(exportdata_to_tag_value, axis=1)"
   ]
  },
  {
   "cell_type": "code",
   "execution_count": 18,
   "metadata": {
    "ExecuteTime": {
     "end_time": "2021-06-03T07:39:24.414369Z",
     "start_time": "2021-06-03T07:39:24.411538Z"
    }
   },
   "outputs": [],
   "source": [
    "def title_case(tag):\n",
    "    if isinstance(tag, (list, tuple)):\n",
    "        return tuple([x.title() for x in tag])\n",
    "    return tag.title()"
   ]
  },
  {
   "cell_type": "code",
   "execution_count": 19,
   "metadata": {
    "ExecuteTime": {
     "end_time": "2021-06-03T07:39:24.835931Z",
     "start_time": "2021-06-03T07:39:24.415835Z"
    }
   },
   "outputs": [],
   "source": [
    "exportdata[\"tag_title\"] = exportdata[\"tag_title\"].apply(title_case)"
   ]
  },
  {
   "cell_type": "code",
   "execution_count": 20,
   "metadata": {
    "ExecuteTime": {
     "end_time": "2021-06-03T07:39:24.839151Z",
     "start_time": "2021-06-03T07:39:24.837206Z"
    }
   },
   "outputs": [],
   "source": [
    "#exportdata[\"tag_title\"].unique()\n",
    "# 1. GIMAC --> Pre-Crisis, Shock/Event, In-Crisis\n",
    "# 2. 2020 Okular --> Sectoral Information\n",
    "# 3. Okular Analytics Generic --> Sectoral Information\n",
    "# 4. Rohingya Framework --> Sectors\n",
    "# 5. IFRC 2018 --> Sectors\n",
    "# 6. Colombia AF --> Sectoral Information\n",
    "# 7. Nigeria Situation Analysis (OA) --> Sectoral Information\n",
    "# 8. Situation Analysis Generic Yemen --> Matrix 2D\n",
    "# 9. Situation Analysis Generic Libya --> Sectors"
   ]
  },
  {
   "cell_type": "code",
   "execution_count": 21,
   "metadata": {
    "ExecuteTime": {
     "end_time": "2021-06-03T07:39:24.842485Z",
     "start_time": "2021-06-03T07:39:24.840294Z"
    }
   },
   "outputs": [],
   "source": [
    "mat2d_titles = [\n",
    "    s.title() for s in [\n",
    "        \"Pre-Crisis\",\n",
    "        \"Shock/Event\",\n",
    "        \"In-Crisis\",\n",
    "        \"Sectors\",\n",
    "        \"Sectoral Information\",\n",
    "        \"Matrix 2D\",\n",
    "    ]\n",
    "]"
   ]
  },
  {
   "cell_type": "code",
   "execution_count": 22,
   "metadata": {
    "ExecuteTime": {
     "end_time": "2021-06-03T07:39:25.028734Z",
     "start_time": "2021-06-03T07:39:24.847221Z"
    }
   },
   "outputs": [],
   "source": [
    "exportdata_mat2d = exportdata[exportdata[\"tag_title\"].isin(mat2d_titles)]"
   ]
  },
  {
   "cell_type": "code",
   "execution_count": 23,
   "metadata": {
    "ExecuteTime": {
     "end_time": "2021-06-03T07:39:25.035351Z",
     "start_time": "2021-06-03T07:39:25.031723Z"
    }
   },
   "outputs": [
    {
     "data": {
      "text/plain": [
       "((149701, 6), (1018086, 6), (181142, 21))"
      ]
     },
     "execution_count": 23,
     "metadata": {},
     "output_type": "execute_result"
    }
   ],
   "source": [
    "exportdata_mat2d.shape, exportdata.shape, entries.shape"
   ]
  },
  {
   "cell_type": "code",
   "execution_count": 24,
   "metadata": {
    "ExecuteTime": {
     "end_time": "2021-06-03T07:39:25.262177Z",
     "start_time": "2021-06-03T07:39:25.037339Z"
    }
   },
   "outputs": [],
   "source": [
    "entries_labeled_mat2d = pd.merge(entries,\n",
    "                                 exportdata_mat2d,\n",
    "                                 how=\"inner\",\n",
    "                                 left_on=\"id\",\n",
    "                                 right_on=\"entry_id\",\n",
    "                                 suffixes=('_entry', '_exportdata'))"
   ]
  },
  {
   "cell_type": "code",
   "execution_count": 25,
   "metadata": {
    "ExecuteTime": {
     "end_time": "2021-06-03T07:39:25.444911Z",
     "start_time": "2021-06-03T07:39:25.263859Z"
    }
   },
   "outputs": [
    {
     "data": {
      "text/plain": [
       "((181142, 21), (138924,))"
      ]
     },
     "execution_count": 25,
     "metadata": {},
     "output_type": "execute_result"
    }
   ],
   "source": [
    "entries.shape, entries[~entries[\"excerpt\"].isna()][\"excerpt\"].unique().shape"
   ]
  },
  {
   "cell_type": "code",
   "execution_count": 26,
   "metadata": {
    "ExecuteTime": {
     "end_time": "2021-06-03T07:39:25.449600Z",
     "start_time": "2021-06-03T07:39:25.446294Z"
    }
   },
   "outputs": [
    {
     "data": {
      "text/plain": [
       "((149701, 27),\n",
       " Index(['id_entry', 'created_at', 'modified_at', 'excerpt', 'image_raw',\n",
       "        'analysis_framework_id', 'created_by_id', 'lead_id', 'modified_by_id',\n",
       "        'entry_type', 'information_date', 'order', 'client_id', 'project_id',\n",
       "        'tabular_field_id', 'dropped_excerpt', 'highlight_hidden', 'verified',\n",
       "        'verification_last_changed_by_id', 'image_id', 'title', 'id_exportdata',\n",
       "        'data', 'entry_id', 'exportable_id', 'tag_title', 'tag_value'],\n",
       "       dtype='object'))"
      ]
     },
     "execution_count": 26,
     "metadata": {},
     "output_type": "execute_result"
    }
   ],
   "source": [
    "entries_labeled_mat2d.shape, entries_labeled_mat2d.columns"
   ]
  },
  {
   "cell_type": "code",
   "execution_count": 27,
   "metadata": {
    "ExecuteTime": {
     "end_time": "2021-06-03T07:39:25.459066Z",
     "start_time": "2021-06-03T07:39:25.451145Z"
    }
   },
   "outputs": [],
   "source": [
    "def mat2d_labels_to_dimension(x):\n",
    "    tag_value = x[0]\n",
    "    af_id = x[1]\n",
    "    if not isinstance(tag_value, list):\n",
    "        print(tag_value)\n",
    "        raise\n",
    "    if len(tag_value):\n",
    "        dimensions = []\n",
    "        for t in tag_value:\n",
    "            if t[0]:\n",
    "                dimensions.append(str(af_id)+\"->\"+t[0].title() +\"->\"+t[1].title())\n",
    "        return list(set(dimensions))\n",
    "    else:\n",
    "        return []\n",
    "\n",
    "def mat2d_labels_to_subdimension(x):\n",
    "    tag_value = x[0]\n",
    "    af_id = x[1]\n",
    "    if not isinstance(tag_value, list):\n",
    "        print(tag_value)\n",
    "        raise\n",
    "    if len(tag_value):\n",
    "        subdimensions = []\n",
    "        for t in tag_value:\n",
    "            if t[1]:\n",
    "                subdimensions.append(str(af_id)+\"->\"+t[0].title() +\"->\"+t[1].title())\n",
    "        return list(set(subdimensions))\n",
    "    else:\n",
    "        return []\n",
    "\n",
    "def mat2d_labels_to_sector(tag_value):\n",
    "    if not isinstance(tag_value, list):\n",
    "        print(tag_value)\n",
    "        raise\n",
    "    if len(tag_value):\n",
    "        sectors = []\n",
    "        for t in tag_value:\n",
    "            if t[2]:\n",
    "                sectors.append(t[2].title())\n",
    "        return list(set(sectors))\n",
    "    else:\n",
    "        return []\n",
    "\n",
    "def mat2d_labels_to_subsector(tag_value):\n",
    "    if not isinstance(tag_value, list):\n",
    "        print(tag_value)\n",
    "        raise\n",
    "    if len(tag_value):\n",
    "        subsectors = []\n",
    "        for t in tag_value:\n",
    "            if len(t) == 4 and t[3]:\n",
    "                if isinstance(t[3], list):\n",
    "                    subsectors.extend([x.title() for x in t[3]])\n",
    "                else:\n",
    "                    subsectors.append(t[3].title())\n",
    "        return list(set(subsectors))\n",
    "    else:\n",
    "        return []"
   ]
  },
  {
   "cell_type": "code",
   "execution_count": 28,
   "metadata": {
    "ExecuteTime": {
     "end_time": "2021-06-03T07:39:28.846837Z",
     "start_time": "2021-06-03T07:39:25.460672Z"
    }
   },
   "outputs": [],
   "source": [
    "entries_labeled_mat2d[\"Dimension\"] = entries_labeled_mat2d[[\"tag_value\",'analysis_framework_id']].apply(mat2d_labels_to_dimension, axis=1)\n",
    "entries_labeled_mat2d[\"Subdimension\"] = entries_labeled_mat2d[[\"tag_value\",'analysis_framework_id']].apply(mat2d_labels_to_subdimension, axis=1)\n",
    "entries_labeled_mat2d[\"Sector\"] = entries_labeled_mat2d[\"tag_value\"].apply(mat2d_labels_to_sector)\n",
    "#entries_labeled_mat2d[\"Sector\"] = entries_labeled_mat2d[[\"tag_value\",'analysis_framework_id']].apply(mat2d_labels_to_sector)\n",
    "#entries_labeled_mat2d[\"Subsector\"] = entries_labeled_mat2d[[\"tag_value\",'analysis_framework_id']].apply(mat2d_labels_to_subsector)"
   ]
  },
  {
   "cell_type": "code",
   "execution_count": 29,
   "metadata": {
    "ExecuteTime": {
     "end_time": "2021-06-03T07:39:29.138100Z",
     "start_time": "2021-06-03T07:39:28.848023Z"
    }
   },
   "outputs": [
    {
     "data": {
      "text/plain": [
       "(112012,)"
      ]
     },
     "execution_count": 29,
     "metadata": {},
     "output_type": "execute_result"
    }
   ],
   "source": [
    "# entries_labeled_mat2d\n",
    "entries_labeled_mat2d[~entries_labeled_mat2d[\"excerpt\"].isna()][\"excerpt\"].unique().shape"
   ]
  },
  {
   "cell_type": "code",
   "execution_count": 30,
   "metadata": {
    "ExecuteTime": {
     "end_time": "2021-06-03T07:39:29.212054Z",
     "start_time": "2021-06-03T07:39:29.139367Z"
    }
   },
   "outputs": [
    {
     "data": {
      "text/plain": [
       "[('1306->Humanitarian Conditions->Living Standards', 15401),\n",
       " ('1306->Humanitarian Conditions->Physical & Mental Wellbeing', 9070),\n",
       " ('829->Humanitarian Conditions->Living Standards', 8956),\n",
       " ('1465->Humanitarian Conditions->Humanitarian Condition', 8690),\n",
       " ('1306->Impact->Impact On System & Services', 8482),\n",
       " ('1306->Impact->Drivers/Aggravating Factors', 8463),\n",
       " ('1306->Impact->Impact On People', 8248),\n",
       " ('1465->Operational Environment->International Humanitarian Response And Capacities',\n",
       "  7816),\n",
       " ('1306->At Risk->People At Risk / Vulnerable', 4897),\n",
       " ('829->Response And Capacities->National And Local', 4358),\n",
       " ('1306->Capacities & Response->International', 4311),\n",
       " ('699->Capacities & Response->International Actors', 4190),\n",
       " ('1465->Humanitarian Conditions->Risk', 3646),\n",
       " ('1465->Humanitarian Situation->Humanitarian Profile', 3642),\n",
       " ('1465->Stated Priorities And Recommendations->Recommendations From Aid/Research Actors',\n",
       "  3531),\n",
       " ('1465->Operational Environment->National/Sub-National Response And Capacities',\n",
       "  3507),\n",
       " ('829->Humanitarian Conditions->Physical And Mental Well-Being', 3265),\n",
       " ('699->Humanitarian Conditions->Living Standards', 3205),\n",
       " ('829->Response And Capacities->International ', 2971),\n",
       " ('699->Capacities & Response->Government And Local Authorities', 2542),\n",
       " ('699->Humanitarian Conditions->Physical & Mental Wellbeing', 2317),\n",
       " ('1306->Humanitarian Conditions->Coping Mechanisms', 2290),\n",
       " ('1465->Effects On Population->Post-Shock Displacement', 2269),\n",
       " ('1306->Capacities & Response->Number Of People Reached', 2263),\n",
       " ('552->Humanitarian Conditions->Physical & Mental Wellbeing', 2108),\n",
       " ('1465->Effects On Population->Damage To Physical Integrity', 2050),\n",
       " ('1465->Effects Systems And Networks->Basic Infrastructure And Social Services',\n",
       "  1930),\n",
       " ('699->Humanitarian Conditions->Risks & Vulnerabilities', 1876),\n",
       " ('1004->Humanitarian Conditions->Physical & Mental Wellbeing', 1871),\n",
       " ('829->Impact->Drivers', 1865),\n",
       " ('1465->Effects On Population->Disruption Of Social Behaviors And Networks',\n",
       "  1857),\n",
       " ('1306->Impact->Number Of People Affected', 1789),\n",
       " ('699->Capacities & Response->National Actors', 1780),\n",
       " ('1306->Priorities->Priority Interventions (Staff)', 1684),\n",
       " ('829->Humanitarian Conditions->Risks &  New Or Aggravated Vulnerabilities',\n",
       "  1573),\n",
       " ('1306->Capacities & Response->Government & Local Authorities', 1553),\n",
       " ('1004->Humanitarian Conditions->Living Standards', 1551),\n",
       " ('699->Scope & Scale->Drivers/Aggravating Factors', 1521),\n",
       " ('1306->Capacities & Response->National & Local Actors', 1504),\n",
       " ('1306->Humanitarian Conditions->Number Of People In Need', 1404),\n",
       " ('1465->Effects On Population->Disruption Of Resources And Assets', 1379),\n",
       " ('552->Humanitarian Conditions->Living Standards', 1361),\n",
       " ('699->Scope & Scale->System Disruption', 1344),\n",
       " ('1465->Operational Environment->Humanitarian Access', 1330),\n",
       " ('829->Impact->Status Of Essential Infrastructure, Systems, Markets And Networks',\n",
       "  1323),\n",
       " ('1306->Priorities->Priority Needs (Staff)', 1249),\n",
       " ('1465->Coping Capacity->Negative Coping Strategies', 1238),\n",
       " ('829->Humanitarian Conditions->Number Of People In Need And Priorities',\n",
       "  1196),\n",
       " ('829->Humanitarian Conditions->Coping Mechanisms', 1141),\n",
       " ('1465->Context->Security', 1112),\n",
       " ('1465->Shock Informaton->Government Measures', 1109),\n",
       " ('699->Scope & Scale->Damages & Losses', 1100),\n",
       " ('1465->Effects Systems And Networks->Food System', 1094),\n",
       " ('1465->Shock Informaton->Primary Shock (Covid Event Characteristics)', 1088),\n",
       " ('1465->Effects Systems And Networks->Political And Security', 1081),\n",
       " ('1465->Context->Basic Infrastructure And Social Services', 1040),\n",
       " ('495->Humanitarian Conditions->Living Standards', 1038),\n",
       " ('699->Humanitarian Conditions->Humanitarian Conditions', 1030),\n",
       " ('829->Impact->Number Of People Affected', 973),\n",
       " ('1465->Context->Socio-Economic', 930),\n",
       " ('552->Humanitarian Conditions->Unmet Needs', 889),\n",
       " ('1004->Scope & Scale->System Disruption', 885),\n",
       " ('1306->Priorities->Priority Needs (Pop)', 885),\n",
       " ('699->Capacities & Response->Rcrc Movement', 873),\n",
       " ('699->Capacities & Response->Response Gaps', 809),\n",
       " ('1465->Humanitarian Situation->Pre-Covid Humanitarian Operations', 807),\n",
       " ('537->Humanitarian Conditions->Risks & Vulnerabilities', 806),\n",
       " ('273->Humanitarian Conditions->Vulnerabilities, Specific Needs And Risks',\n",
       "  740),\n",
       " ('1465->Shock Informaton->Secondary Shocks (Non Covid)', 733),\n",
       " ('552->Humanitarian Conditions->Risks & Vulnerabilities', 721),\n",
       " ('273->Capacities And Response->International Response', 718),\n",
       " ('829->Humanitarian Conditions->Persons/Groups With Specific Needs', 712),\n",
       " ('273->Humanitarian Conditions->Impact On Accessibility, Availability, Quality, Use And Awareness Of Goods And Services',\n",
       "  711),\n",
       " ('1004->Humanitarian Conditions->People At Risk / Vulnerable', 708),\n",
       " ('552->Scope & Scale->System Disruption', 666),\n",
       " ('1465->Context->Socio-Cultural', 623),\n",
       " ('829->Humanitarian Conditions->Number Of People At Risk', 622),\n",
       " ('699->Capacities & Response->System Functionality', 618),\n",
       " ('1465->Stated Priorities And Recommendations->Affected Population Priorities',\n",
       "  598),\n",
       " ('699->Humanitarian Conditions->Coping Mechanisms', 594),\n",
       " ('537->Humanitarian Conditions->Living Standards', 558),\n",
       " ('829->Impact->Damages & Losses', 533),\n",
       " ('829->Response And Capacities->Community Perceived Priorities', 488),\n",
       " ('537->Humanitarian Conditions->Unmet Needs', 463),\n",
       " ('1465->Shock Informaton->Aggravating Factors', 461),\n",
       " ('1465->Effects Systems And Networks->Financial System', 454),\n",
       " ('1004->Humanitarian Conditions->People In Need', 450),\n",
       " ('1004->Scope & Scale->Drivers/Aggravating Factors', 445),\n",
       " ('552->Scope & Scale->Drivers/Aggravating Factors', 441),\n",
       " ('1465->Effects Systems And Networks->Physical Environment', 428),\n",
       " ('273->Humanitarian Conditions->Impact On Physical And Mental Wellbeing',\n",
       "  426),\n",
       " ('537->Scope & Scale->System Disruption', 423),\n",
       " ('273->Scope And Scale->Damage', 419),\n",
       " ('699->Humanitarian Conditions->People With Specific Needs', 415),\n",
       " ('495->Capacities & Response->International', 399),\n",
       " ('1465->Effects Systems And Networks->Supply Chains', 365),\n",
       " ('1465->Context->Environmental', 344),\n",
       " ('829->Response And Capacities->Community', 338),\n",
       " ('1465->Effects Systems And Networks->Labour Market', 332),\n",
       " ('1004->Scope & Scale->Damages & Losses', 329),\n",
       " ('537->Humanitarian Conditions->Physical & Mental Wellbeing', 326),\n",
       " ('495->Scope & Scale->System Disruption', 322),\n",
       " ('537->Scope & Scale->Drivers/Aggravating Factors', 321),\n",
       " ('1004->Humanitarian Conditions->Coping Mechanisms', 295),\n",
       " ('552->Scope & Scale->Damages & Losses', 294),\n",
       " ('273->Scope And Scale->System Disruption', 292),\n",
       " ('495->Scope & Scale->Drivers/Aggravating Factors', 284),\n",
       " ('1465->Humanitarian Situation->Humanitarian Access', 279),\n",
       " ('1465->Coping Capacity->Positive Adaptive Mechanisms And Responses', 270),\n",
       " ('1465->Context->Policy/Normative Frameworks', 266),\n",
       " ('537->Scope & Scale->Damages & Losses', 261),\n",
       " ('1306->Priorities->Priority Interventions (Pop)', 258),\n",
       " ('552->Humanitarian Conditions->Coping Mechanisms', 251),\n",
       " ('495->Humanitarian Conditions->Physical & Mental Wellbeing', 249),\n",
       " ('1465->Humanitarian Situation->Pre-Covid National Response Mechanisms', 242),\n",
       " ('1465->Context->Demographic', 240),\n",
       " ('495->Humanitarian Conditions->Risks & Vulnerabilities', 230),\n",
       " ('495->Humanitarian Conditions->Number Of People In Need And Priorities',\n",
       "  228),\n",
       " ('273->Capacities And Response->National Response Capacity', 217),\n",
       " ('1465->Effects On Population->Damage To Resources And Assets', 186),\n",
       " ('1465->Context->Political', 172),\n",
       " ('537->Humanitarian Conditions->Coping Mechanisms', 171),\n",
       " ('1465->Effects On Population->Disruption Of Rights And Norms', 157),\n",
       " ('495->Humanitarian Conditions->People With Specific Needs', 153),\n",
       " ('495->Humanitarian Conditions->Coping Mechanisms', 153),\n",
       " ('495->Capacities & Response->Government', 145),\n",
       " ('1004->Scope & Scale->People Affected', 139),\n",
       " ('273->Scope And Scale->Drivers/ Aggravating Factors', 104),\n",
       " ('495->Capacities & Response->Lngo', 101),\n",
       " ('537->Humanitarian Conditions->People With Specific Needs', 92),\n",
       " ('552->Humanitarian Conditions->People With Specific Needs', 91),\n",
       " ('495->Capacities & Response->Response Gaps', 86),\n",
       " ('1004->Capacities & Response->System Functionality', 75),\n",
       " ('495->Capacities & Response->System Functionality', 75),\n",
       " ('273->Capacities And Response->National Society Capacity', 67),\n",
       " ('1465->Context->Information And Communication', 66),\n",
       " ('1004->Priorities->Priority Interventions (Staff)', 60),\n",
       " ('1465->Shock Informaton->Mitigating Factors', 58),\n",
       " ('273->Scope And Scale->Losses', 55),\n",
       " ('495->Scope & Scale->Damages & Losses', 49),\n",
       " ('1004->Priorities->Priority Problems (Pop)', 46),\n",
       " ('726->Humanitarian Conditions->Living Standards', 18),\n",
       " ('1465->Shock Informaton->Primary Shock (Covid)', 16),\n",
       " ('726->Response And Capacities->National And Local', 12),\n",
       " ('1004->Priorities->Priority Problems (Staff)', 12),\n",
       " ('726->Humanitarian Conditions->Coping Mechanisms', 10),\n",
       " ('1004->Capacities & Response->National', 7),\n",
       " ('799->Humanitarian Conditions->Unmet Needs', 5),\n",
       " ('1004->Capacities & Response->International', 4),\n",
       " ('799->Capacities And Response->International Response', 4),\n",
       " ('1004->Priorities->Priority Interventions (Pop)', 4),\n",
       " ('495->Priorities->As Expressed By Experts', 3),\n",
       " ('799->Humanitarian Conditions->Access To Basic Services Or Goods', 3),\n",
       " ('799->Humanitarian Conditions->Risks/Vulnerabilities', 3),\n",
       " ('495->Scope & Scale->Number Of People Affected', 3),\n",
       " ('726->Impact->Drivers', 3),\n",
       " ('799->Scope And Scale->Drivers/ Aggravating Factors', 2),\n",
       " ('537->Humanitarian Conditions->Lessons Learnt', 2),\n",
       " ('799->Capacities And Response->Systems Functionality', 2),\n",
       " ('726->Humanitarian Conditions->Number Of People In Need And Priorities', 2),\n",
       " ('799->Humanitarian Conditions->Impact On Physical And Mental Wellbeing', 2),\n",
       " ('726->Humanitarian Conditions->Physical And Mental Well-Being', 2),\n",
       " ('726->Impact->Damages & Losses', 2),\n",
       " ('726->Impact->Status Of Essential Infrastructure, Systems, Markets And Networks',\n",
       "  2),\n",
       " ('552->Capacities & Response->Government', 1),\n",
       " ('799->Humanitarian Conditions->Specific Needs', 1),\n",
       " ('799->Capacities And Response->Coping Mechanisms', 1),\n",
       " ('799->Capacities And Response->Response Gaps', 1),\n",
       " ('495->Humanitarian Conditions->Lessons Learnt', 1),\n",
       " ('726->Humanitarian Conditions->Unmet Needs', 1),\n",
       " ('726->Response And Capacities->International ', 1),\n",
       " ('726->Capacities & Response->Government', 1),\n",
       " ('726->Capacities & Response->International', 1),\n",
       " ('726->Humanitarian Conditions->Risks &  New Or Aggravated Vulnerabilities',\n",
       "  1),\n",
       " ('726->Humanitarian Conditions->Risks & Vulnerabilities', 1),\n",
       " ('799->Capacities & Response->Rcrc Movement', 1),\n",
       " ('799->Humanitarian Conditions->Physical & Mental Wellbeing', 1),\n",
       " ('799->Humanitarian Conditions->People With Specific Needs', 1),\n",
       " ('726->Humanitarian Conditions->Physical & Mental Wellbeing', 1),\n",
       " ('495->Scope & Scale->Lessons Learnt', 1),\n",
       " ('1004->Capacities & Response->People Reached', 1)]"
      ]
     },
     "execution_count": 30,
     "metadata": {},
     "output_type": "execute_result"
    }
   ],
   "source": [
    "dims_unique = set()\n",
    "dims_occurances = list()\n",
    "for dims in entries_labeled_mat2d[\"Dimension\"]:\n",
    "    dims_unique.update(dims)\n",
    "    dims_occurances.extend(dims)\n",
    "#dims_unique\n",
    "Counter(dims_occurances).most_common()"
   ]
  },
  {
   "cell_type": "code",
   "execution_count": 31,
   "metadata": {
    "ExecuteTime": {
     "end_time": "2021-06-03T07:39:29.279352Z",
     "start_time": "2021-06-03T07:39:29.213106Z"
    }
   },
   "outputs": [
    {
     "data": {
      "text/plain": [
       "[('1306->Humanitarian Conditions->Living Standards', 15401),\n",
       " ('1306->Humanitarian Conditions->Physical & Mental Wellbeing', 9070),\n",
       " ('829->Humanitarian Conditions->Living Standards', 8956),\n",
       " ('1465->Humanitarian Conditions->Humanitarian Condition', 8690),\n",
       " ('1306->Impact->Impact On System & Services', 8482),\n",
       " ('1306->Impact->Drivers/Aggravating Factors', 8463),\n",
       " ('1306->Impact->Impact On People', 8248),\n",
       " ('1465->Operational Environment->International Humanitarian Response And Capacities',\n",
       "  7816),\n",
       " ('1306->At Risk->People At Risk / Vulnerable', 4897),\n",
       " ('829->Response And Capacities->National And Local', 4358),\n",
       " ('1306->Capacities & Response->International', 4311),\n",
       " ('699->Capacities & Response->International Actors', 4190),\n",
       " ('1465->Humanitarian Conditions->Risk', 3646),\n",
       " ('1465->Humanitarian Situation->Humanitarian Profile', 3642),\n",
       " ('1465->Stated Priorities And Recommendations->Recommendations From Aid/Research Actors',\n",
       "  3531),\n",
       " ('1465->Operational Environment->National/Sub-National Response And Capacities',\n",
       "  3507),\n",
       " ('829->Humanitarian Conditions->Physical And Mental Well-Being', 3265),\n",
       " ('699->Humanitarian Conditions->Living Standards', 3205),\n",
       " ('829->Response And Capacities->International ', 2971),\n",
       " ('699->Capacities & Response->Government And Local Authorities', 2542),\n",
       " ('699->Humanitarian Conditions->Physical & Mental Wellbeing', 2317),\n",
       " ('1306->Humanitarian Conditions->Coping Mechanisms', 2290),\n",
       " ('1465->Effects On Population->Post-Shock Displacement', 2269),\n",
       " ('1306->Capacities & Response->Number Of People Reached', 2263),\n",
       " ('552->Humanitarian Conditions->Physical & Mental Wellbeing', 2108),\n",
       " ('1465->Effects On Population->Damage To Physical Integrity', 2050),\n",
       " ('1465->Effects Systems And Networks->Basic Infrastructure And Social Services',\n",
       "  1930),\n",
       " ('699->Humanitarian Conditions->Risks & Vulnerabilities', 1876),\n",
       " ('1004->Humanitarian Conditions->Physical & Mental Wellbeing', 1871),\n",
       " ('829->Impact->Drivers', 1865),\n",
       " ('1465->Effects On Population->Disruption Of Social Behaviors And Networks',\n",
       "  1857),\n",
       " ('1306->Impact->Number Of People Affected', 1789),\n",
       " ('699->Capacities & Response->National Actors', 1780),\n",
       " ('1306->Priorities->Priority Interventions (Staff)', 1684),\n",
       " ('829->Humanitarian Conditions->Risks &  New Or Aggravated Vulnerabilities',\n",
       "  1573),\n",
       " ('1306->Capacities & Response->Government & Local Authorities', 1553),\n",
       " ('1004->Humanitarian Conditions->Living Standards', 1551),\n",
       " ('699->Scope & Scale->Drivers/Aggravating Factors', 1521),\n",
       " ('1306->Capacities & Response->National & Local Actors', 1504),\n",
       " ('1306->Humanitarian Conditions->Number Of People In Need', 1404),\n",
       " ('1465->Effects On Population->Disruption Of Resources And Assets', 1379),\n",
       " ('552->Humanitarian Conditions->Living Standards', 1361),\n",
       " ('699->Scope & Scale->System Disruption', 1344),\n",
       " ('1465->Operational Environment->Humanitarian Access', 1330),\n",
       " ('829->Impact->Status Of Essential Infrastructure, Systems, Markets And Networks',\n",
       "  1323),\n",
       " ('1306->Priorities->Priority Needs (Staff)', 1249),\n",
       " ('1465->Coping Capacity->Negative Coping Strategies', 1238),\n",
       " ('829->Humanitarian Conditions->Number Of People In Need And Priorities',\n",
       "  1196),\n",
       " ('829->Humanitarian Conditions->Coping Mechanisms', 1141),\n",
       " ('1465->Context->Security', 1112),\n",
       " ('1465->Shock Informaton->Government Measures', 1109),\n",
       " ('699->Scope & Scale->Damages & Losses', 1100),\n",
       " ('1465->Effects Systems And Networks->Food System', 1094),\n",
       " ('1465->Shock Informaton->Primary Shock (Covid Event Characteristics)', 1088),\n",
       " ('1465->Effects Systems And Networks->Political And Security', 1081),\n",
       " ('1465->Context->Basic Infrastructure And Social Services', 1040),\n",
       " ('495->Humanitarian Conditions->Living Standards', 1038),\n",
       " ('699->Humanitarian Conditions->Humanitarian Conditions', 1030),\n",
       " ('829->Impact->Number Of People Affected', 973),\n",
       " ('1465->Context->Socio-Economic', 930),\n",
       " ('552->Humanitarian Conditions->Unmet Needs', 889),\n",
       " ('1004->Scope & Scale->System Disruption', 885),\n",
       " ('1306->Priorities->Priority Needs (Pop)', 885),\n",
       " ('699->Capacities & Response->Rcrc Movement', 873),\n",
       " ('699->Capacities & Response->Response Gaps', 809),\n",
       " ('1465->Humanitarian Situation->Pre-Covid Humanitarian Operations', 807),\n",
       " ('537->Humanitarian Conditions->Risks & Vulnerabilities', 806),\n",
       " ('273->Humanitarian Conditions->Vulnerabilities, Specific Needs And Risks',\n",
       "  740),\n",
       " ('1465->Shock Informaton->Secondary Shocks (Non Covid)', 733),\n",
       " ('552->Humanitarian Conditions->Risks & Vulnerabilities', 721),\n",
       " ('273->Capacities And Response->International Response', 718),\n",
       " ('829->Humanitarian Conditions->Persons/Groups With Specific Needs', 712),\n",
       " ('273->Humanitarian Conditions->Impact On Accessibility, Availability, Quality, Use And Awareness Of Goods And Services',\n",
       "  711),\n",
       " ('1004->Humanitarian Conditions->People At Risk / Vulnerable', 708),\n",
       " ('552->Scope & Scale->System Disruption', 666),\n",
       " ('1465->Context->Socio-Cultural', 623),\n",
       " ('829->Humanitarian Conditions->Number Of People At Risk', 622),\n",
       " ('699->Capacities & Response->System Functionality', 618),\n",
       " ('1465->Stated Priorities And Recommendations->Affected Population Priorities',\n",
       "  598),\n",
       " ('699->Humanitarian Conditions->Coping Mechanisms', 594),\n",
       " ('537->Humanitarian Conditions->Living Standards', 558),\n",
       " ('829->Impact->Damages & Losses', 533),\n",
       " ('829->Response And Capacities->Community Perceived Priorities', 488),\n",
       " ('537->Humanitarian Conditions->Unmet Needs', 463),\n",
       " ('1465->Shock Informaton->Aggravating Factors', 461),\n",
       " ('1465->Effects Systems And Networks->Financial System', 454),\n",
       " ('1004->Humanitarian Conditions->People In Need', 450),\n",
       " ('1004->Scope & Scale->Drivers/Aggravating Factors', 445),\n",
       " ('552->Scope & Scale->Drivers/Aggravating Factors', 441),\n",
       " ('1465->Effects Systems And Networks->Physical Environment', 428),\n",
       " ('273->Humanitarian Conditions->Impact On Physical And Mental Wellbeing',\n",
       "  426),\n",
       " ('537->Scope & Scale->System Disruption', 423),\n",
       " ('273->Scope And Scale->Damage', 419),\n",
       " ('699->Humanitarian Conditions->People With Specific Needs', 415),\n",
       " ('495->Capacities & Response->International', 399),\n",
       " ('1465->Effects Systems And Networks->Supply Chains', 365),\n",
       " ('1465->Context->Environmental', 344),\n",
       " ('829->Response And Capacities->Community', 338),\n",
       " ('1465->Effects Systems And Networks->Labour Market', 332),\n",
       " ('1004->Scope & Scale->Damages & Losses', 329),\n",
       " ('537->Humanitarian Conditions->Physical & Mental Wellbeing', 326),\n",
       " ('495->Scope & Scale->System Disruption', 322),\n",
       " ('537->Scope & Scale->Drivers/Aggravating Factors', 321),\n",
       " ('1004->Humanitarian Conditions->Coping Mechanisms', 295),\n",
       " ('552->Scope & Scale->Damages & Losses', 294),\n",
       " ('273->Scope And Scale->System Disruption', 292),\n",
       " ('495->Scope & Scale->Drivers/Aggravating Factors', 284),\n",
       " ('1465->Humanitarian Situation->Humanitarian Access', 279),\n",
       " ('1465->Coping Capacity->Positive Adaptive Mechanisms And Responses', 270),\n",
       " ('1465->Context->Policy/Normative Frameworks', 266),\n",
       " ('537->Scope & Scale->Damages & Losses', 261),\n",
       " ('1306->Priorities->Priority Interventions (Pop)', 258),\n",
       " ('552->Humanitarian Conditions->Coping Mechanisms', 251),\n",
       " ('495->Humanitarian Conditions->Physical & Mental Wellbeing', 249),\n",
       " ('1465->Humanitarian Situation->Pre-Covid National Response Mechanisms', 242),\n",
       " ('1465->Context->Demographic', 240),\n",
       " ('495->Humanitarian Conditions->Risks & Vulnerabilities', 230),\n",
       " ('495->Humanitarian Conditions->Number Of People In Need And Priorities',\n",
       "  228),\n",
       " ('273->Capacities And Response->National Response Capacity', 217),\n",
       " ('1465->Effects On Population->Damage To Resources And Assets', 186),\n",
       " ('1465->Context->Political', 172),\n",
       " ('537->Humanitarian Conditions->Coping Mechanisms', 171),\n",
       " ('1465->Effects On Population->Disruption Of Rights And Norms', 157),\n",
       " ('495->Humanitarian Conditions->People With Specific Needs', 153),\n",
       " ('495->Humanitarian Conditions->Coping Mechanisms', 153),\n",
       " ('495->Capacities & Response->Government', 145),\n",
       " ('1004->Scope & Scale->People Affected', 139),\n",
       " ('273->Scope And Scale->Drivers/ Aggravating Factors', 104),\n",
       " ('495->Capacities & Response->Lngo', 101),\n",
       " ('537->Humanitarian Conditions->People With Specific Needs', 92),\n",
       " ('552->Humanitarian Conditions->People With Specific Needs', 91),\n",
       " ('495->Capacities & Response->Response Gaps', 86),\n",
       " ('1004->Capacities & Response->System Functionality', 75),\n",
       " ('495->Capacities & Response->System Functionality', 75),\n",
       " ('273->Capacities And Response->National Society Capacity', 67),\n",
       " ('1465->Context->Information And Communication', 66),\n",
       " ('1004->Priorities->Priority Interventions (Staff)', 60),\n",
       " ('1465->Shock Informaton->Mitigating Factors', 58),\n",
       " ('273->Scope And Scale->Losses', 55),\n",
       " ('495->Scope & Scale->Damages & Losses', 49),\n",
       " ('1004->Priorities->Priority Problems (Pop)', 46),\n",
       " ('726->Humanitarian Conditions->Living Standards', 18),\n",
       " ('1465->Shock Informaton->Primary Shock (Covid)', 16),\n",
       " ('726->Response And Capacities->National And Local', 12),\n",
       " ('1004->Priorities->Priority Problems (Staff)', 12),\n",
       " ('726->Humanitarian Conditions->Coping Mechanisms', 10),\n",
       " ('1004->Capacities & Response->National', 7),\n",
       " ('799->Humanitarian Conditions->Unmet Needs', 5),\n",
       " ('1004->Capacities & Response->International', 4),\n",
       " ('799->Capacities And Response->International Response', 4),\n",
       " ('1004->Priorities->Priority Interventions (Pop)', 4),\n",
       " ('495->Priorities->As Expressed By Experts', 3),\n",
       " ('799->Humanitarian Conditions->Access To Basic Services Or Goods', 3),\n",
       " ('799->Humanitarian Conditions->Risks/Vulnerabilities', 3),\n",
       " ('495->Scope & Scale->Number Of People Affected', 3),\n",
       " ('726->Impact->Drivers', 3),\n",
       " ('799->Scope And Scale->Drivers/ Aggravating Factors', 2),\n",
       " ('537->Humanitarian Conditions->Lessons Learnt', 2),\n",
       " ('799->Capacities And Response->Systems Functionality', 2),\n",
       " ('726->Humanitarian Conditions->Number Of People In Need And Priorities', 2),\n",
       " ('799->Humanitarian Conditions->Impact On Physical And Mental Wellbeing', 2),\n",
       " ('726->Humanitarian Conditions->Physical And Mental Well-Being', 2),\n",
       " ('726->Impact->Damages & Losses', 2),\n",
       " ('726->Impact->Status Of Essential Infrastructure, Systems, Markets And Networks',\n",
       "  2),\n",
       " ('552->Capacities & Response->Government', 1),\n",
       " ('799->Humanitarian Conditions->Specific Needs', 1),\n",
       " ('799->Capacities And Response->Coping Mechanisms', 1),\n",
       " ('799->Capacities And Response->Response Gaps', 1),\n",
       " ('495->Humanitarian Conditions->Lessons Learnt', 1),\n",
       " ('726->Humanitarian Conditions->Unmet Needs', 1),\n",
       " ('726->Response And Capacities->International ', 1),\n",
       " ('726->Capacities & Response->Government', 1),\n",
       " ('726->Capacities & Response->International', 1),\n",
       " ('726->Humanitarian Conditions->Risks &  New Or Aggravated Vulnerabilities',\n",
       "  1),\n",
       " ('726->Humanitarian Conditions->Risks & Vulnerabilities', 1),\n",
       " ('799->Capacities & Response->Rcrc Movement', 1),\n",
       " ('799->Humanitarian Conditions->Physical & Mental Wellbeing', 1),\n",
       " ('799->Humanitarian Conditions->People With Specific Needs', 1),\n",
       " ('726->Humanitarian Conditions->Physical & Mental Wellbeing', 1),\n",
       " ('495->Scope & Scale->Lessons Learnt', 1),\n",
       " ('1004->Capacities & Response->People Reached', 1)]"
      ]
     },
     "execution_count": 31,
     "metadata": {},
     "output_type": "execute_result"
    }
   ],
   "source": [
    "subdims_unique = set()\n",
    "subdims_occurances = list()\n",
    "for subdims in entries_labeled_mat2d[\"Subdimension\"]:\n",
    "    subdims_unique.update(subdims)\n",
    "    subdims_occurances.extend(subdims)\n",
    "#dims_unique\n",
    "Counter(subdims_occurances).most_common()"
   ]
  },
  {
   "cell_type": "code",
   "execution_count": 32,
   "metadata": {
    "ExecuteTime": {
     "end_time": "2021-06-03T07:39:29.339836Z",
     "start_time": "2021-06-03T07:39:29.280355Z"
    }
   },
   "outputs": [
    {
     "data": {
      "text/plain": [
       "[('Health', 42613),\n",
       " ('Protection', 30789),\n",
       " ('Livelihoods', 19186),\n",
       " ('Cross-Sector', 18476),\n",
       " ('Food Security', 14711),\n",
       " ('Cross', 14014),\n",
       " ('Wash', 13448),\n",
       " ('Education', 12450),\n",
       " ('Shelter', 9275),\n",
       " ('Nutrition', 6220),\n",
       " ('Food', 3854),\n",
       " ('Agriculture', 3183),\n",
       " ('Logistics', 2763),\n",
       " ('Shelter And Nfis', 2130),\n",
       " ('Cross Cutting', 770),\n",
       " ('Cccm', 757),\n",
       " ('Logistic', 277),\n",
       " ('Nfi', 137),\n",
       " ('Livelihood', 134)]"
      ]
     },
     "execution_count": 32,
     "metadata": {},
     "output_type": "execute_result"
    }
   ],
   "source": [
    "secs_unique = set()\n",
    "secs_occurances = list()\n",
    "for secs in entries_labeled_mat2d[\"Sector\"]:\n",
    "    secs_unique.update(secs)\n",
    "    secs_occurances.extend(secs)\n",
    "#secs_unique\n",
    "Counter(secs_occurances).most_common()"
   ]
  },
  {
   "cell_type": "code",
   "execution_count": 33,
   "metadata": {
    "ExecuteTime": {
     "end_time": "2021-06-03T07:39:29.344938Z",
     "start_time": "2021-06-03T07:39:29.341160Z"
    }
   },
   "outputs": [
    {
     "data": {
      "text/plain": [
       "Index(['id_entry', 'created_at', 'modified_at', 'excerpt', 'image_raw',\n",
       "       'analysis_framework_id', 'created_by_id', 'lead_id', 'modified_by_id',\n",
       "       'entry_type', 'information_date', 'order', 'client_id', 'project_id',\n",
       "       'tabular_field_id', 'dropped_excerpt', 'highlight_hidden', 'verified',\n",
       "       'verification_last_changed_by_id', 'image_id', 'title', 'id_exportdata',\n",
       "       'data', 'entry_id', 'exportable_id', 'tag_title', 'tag_value',\n",
       "       'Dimension', 'Subdimension', 'Sector'],\n",
       "      dtype='object')"
      ]
     },
     "execution_count": 33,
     "metadata": {},
     "output_type": "execute_result"
    }
   ],
   "source": [
    "entries_labeled_mat2d.columns"
   ]
  },
  {
   "cell_type": "code",
   "execution_count": 34,
   "metadata": {
    "ExecuteTime": {
     "end_time": "2021-06-03T07:39:29.409403Z",
     "start_time": "2021-06-03T07:39:29.346255Z"
    }
   },
   "outputs": [],
   "source": [
    "final_df = entries_labeled_mat2d[\n",
    "    entries_labeled_mat2d[\"entry_type\"].eq(\"excerpt\")\n",
    "    & (~entries_labeled_mat2d[\"excerpt\"].isna())]"
   ]
  },
  {
   "cell_type": "code",
   "execution_count": 35,
   "metadata": {
    "ExecuteTime": {
     "end_time": "2021-06-03T07:39:32.824178Z",
     "start_time": "2021-06-03T07:39:29.410863Z"
    }
   },
   "outputs": [
    {
     "name": "stderr",
     "output_type": "stream",
     "text": [
      "/home/abdullah/anaconda3/lib/python3.8/site-packages/pandas/core/indexing.py:1745: SettingWithCopyWarning: \n",
      "A value is trying to be set on a copy of a slice from a DataFrame.\n",
      "Try using .loc[row_indexer,col_indexer] = value instead\n",
      "\n",
      "See the caveats in the documentation: https://pandas.pydata.org/pandas-docs/stable/user_guide/indexing.html#returning-a-view-versus-a-copy\n",
      "  isetter(ilocs[0], value)\n"
     ]
    },
    {
     "data": {
      "text/plain": [
       "((111918, 30), 0)"
      ]
     },
     "execution_count": 35,
     "metadata": {},
     "output_type": "execute_result"
    }
   ],
   "source": [
    "def remove_newlines(excerpt):\n",
    "    if not isinstance(excerpt, str):\n",
    "        return excerpt\n",
    "    return re.sub(\"\\s+\", \" \", excerpt)\n",
    "\n",
    "final_df.loc[:, 'excerpt'] = final_df['excerpt'].apply(remove_newlines)\n",
    "final_df.loc[:, 'dropped_excerpt'] = final_df['dropped_excerpt'].apply(remove_newlines)\n",
    "##\n",
    "final_df = final_df.sort_values(\"verified\").reset_index(drop=True).drop_duplicates(subset='excerpt', keep=\"last\")\n",
    "final_df.shape, final_df.duplicated(subset=\"excerpt\").sum()"
   ]
  },
  {
   "cell_type": "code",
   "execution_count": 36,
   "metadata": {
    "ExecuteTime": {
     "end_time": "2021-06-03T07:39:32.827793Z",
     "start_time": "2021-06-03T07:39:32.825270Z"
    }
   },
   "outputs": [],
   "source": [
    "sector_name_mapper = {\n",
    "    \"Agriculture\": \"Agriculture\",\n",
    "    \"Cccm\": \"\",\n",
    "    \"Cross\": \"Cross\",\n",
    "    \"Cross Cutting\": \"Cross\",\n",
    "    \"Cross-Sector\": \"Cross\",\n",
    "    \"Education\": \"Education\",\n",
    "    \"Food\": \"Food Security\",\n",
    "    \"Food Security\": \"Food Security\",\n",
    "    \"Nutrition\": \"Nutrition\",\n",
    "    \"Health\": \"Health\",\n",
    "    \"Livelihood\": \"Livelihoods\",\n",
    "    \"Livelihoods\": \"Livelihoods\",\n",
    "    \"Logistic\": \"Logistics\",\n",
    "    \"Logistics\": \"Logistics\",\n",
    "    \"Protection\": \"Protection\",\n",
    "    \"Shelter\": \"Shelter\",\n",
    "    \"Shelter And Nfis\": \"Shelter\",\n",
    "    \"Nfi\": \"\",\n",
    "    \"Wash\": \"WASH\",\n",
    "}"
   ]
  },
  {
   "cell_type": "code",
   "execution_count": 37,
   "metadata": {
    "ExecuteTime": {
     "end_time": "2021-06-03T07:39:32.831365Z",
     "start_time": "2021-06-03T07:39:32.828779Z"
    }
   },
   "outputs": [],
   "source": [
    "af_title_to_id = dict()\n",
    "for afid, title in zip(afs[\"id\"], afs[\"title\"]):\n",
    "    af_title_to_id[\"title\"] = afid"
   ]
  },
  {
   "cell_type": "code",
   "execution_count": 38,
   "metadata": {
    "ExecuteTime": {
     "end_time": "2021-06-03T07:39:32.839792Z",
     "start_time": "2021-06-03T07:39:32.832379Z"
    }
   },
   "outputs": [
    {
     "data": {
      "text/plain": [
       "Index(['Framework Name', 'Pillar', 'Sub-pillar', 'Final Pillar Name',\n",
       "       'Final Sub-pillar Name', 'analysis_framework_id'],\n",
       "      dtype='object')"
      ]
     },
     "execution_count": 38,
     "metadata": {},
     "output_type": "execute_result"
    }
   ],
   "source": [
    "af_id_title = afs[[\"id\", \"title\"]]\n",
    "af_id_title.columns = [\"analysis_framework_id\", \"Framework Name\"]\n",
    "matching = pd.merge(matching, af_id_title, how=\"left\", left_on=\"Framework Name\", right_on=\"Framework Name\")\n",
    "matching.columns"
   ]
  },
  {
   "cell_type": "code",
   "execution_count": 39,
   "metadata": {
    "ExecuteTime": {
     "end_time": "2021-06-03T07:39:32.846262Z",
     "start_time": "2021-06-03T07:39:32.840748Z"
    }
   },
   "outputs": [],
   "source": [
    "matching[\"Pillar\"] = matching[\"Pillar\"].apply(lambda x: x.strip().title())\n",
    "matching[\"Sub-pillar\"] = matching[\"Sub-pillar\"].apply(lambda x: x.strip().title())\n",
    "matching[\"Final Pillar Name\"] = matching[\"Final Pillar Name\"].apply(lambda x: x.strip().title())\n",
    "matching[\"Final Sub-pillar Name\"] = matching[\"Final Sub-pillar Name\"].apply(lambda x: x.strip().title())"
   ]
  },
  {
   "cell_type": "code",
   "execution_count": 40,
   "metadata": {
    "ExecuteTime": {
     "end_time": "2021-06-03T07:39:32.850486Z",
     "start_time": "2021-06-03T07:39:32.847573Z"
    }
   },
   "outputs": [
    {
     "data": {
      "text/plain": [
       "array(['Living Standards', 'Physical And Mental Well Being',\n",
       "       'Coping Mechanisms', 'Impact On People Or Impact On Services',\n",
       "       'Driver/Aggravating Factors', 'Impact On People',\n",
       "       'Impact On Systems And Services', 'International Response',\n",
       "       'National Response', 'Number Of People Affected',\n",
       "       'Number Of People At Risk', 'Number Of People In Need',\n",
       "       'Number Of People Reached', 'Expressed By Population',\n",
       "       'Expressed By Humanitarian Staff', 'Response Gaps',\n",
       "       'Risk And Vulnerabilities', 'Impact On Services'], dtype=object)"
      ]
     },
     "execution_count": 40,
     "metadata": {},
     "output_type": "execute_result"
    }
   ],
   "source": [
    "matching[\"Final Sub-pillar Name\"].unique()"
   ]
  },
  {
   "cell_type": "code",
   "execution_count": 41,
   "metadata": {
    "ExecuteTime": {
     "end_time": "2021-06-03T07:39:32.855021Z",
     "start_time": "2021-06-03T07:39:32.851757Z"
    }
   },
   "outputs": [
    {
     "data": {
      "text/plain": [
       "array(['Humanitatian Conditions', 'Impact', 'Capacities & Response',\n",
       "       'People At Risk', 'Humanitarian Conditions', 'Priority Needs',\n",
       "       'Priority Interventions'], dtype=object)"
      ]
     },
     "execution_count": 41,
     "metadata": {},
     "output_type": "execute_result"
    }
   ],
   "source": [
    "matching[\"Final Pillar Name\"].unique()"
   ]
  },
  {
   "cell_type": "code",
   "execution_count": 42,
   "metadata": {
    "ExecuteTime": {
     "end_time": "2021-06-03T07:39:32.858855Z",
     "start_time": "2021-06-03T07:39:32.856102Z"
    }
   },
   "outputs": [],
   "source": [
    "matching.loc[matching[\"Final Pillar Name\"].eq('Humanitatian Conditions'),\n",
    "             \"Final Pillar Name\"] = 'Humanitarian Conditions'"
   ]
  },
  {
   "cell_type": "code",
   "execution_count": 43,
   "metadata": {
    "ExecuteTime": {
     "end_time": "2021-06-03T07:39:32.863838Z",
     "start_time": "2021-06-03T07:39:32.860268Z"
    }
   },
   "outputs": [],
   "source": [
    "matching = matching.astype({'Framework Name':str, 'Pillar':str, 'Sub-pillar':str, 'Final Pillar Name':str,\n",
    "       'Final Sub-pillar Name':str, 'analysis_framework_id':str})"
   ]
  },
  {
   "cell_type": "code",
   "execution_count": 44,
   "metadata": {
    "ExecuteTime": {
     "end_time": "2021-06-03T07:39:32.886448Z",
     "start_time": "2021-06-03T07:39:32.864940Z"
    }
   },
   "outputs": [],
   "source": [
    "matching[\n",
    "    \"original_pillar\"] = matching[\"analysis_framework_id\"] + \"->\" + matching[\n",
    "        \"Pillar\"] + \"->\" + matching[\"Sub-pillar\"]\n",
    "matching[\"original_subpillar\"] = matching[\n",
    "    \"analysis_framework_id\"] + \"->\" + matching[\"Pillar\"] + \"->\" + matching[\n",
    "        \"Sub-pillar\"]\n",
    "##\n",
    "matching[\"target_pillar\"] = matching[\"Final Pillar Name\"]\n",
    "matching[\"target_subpillar\"] = matching[\"Final Pillar Name\"] + \"->\" + matching[\n",
    "    \"Final Sub-pillar Name\"]"
   ]
  },
  {
   "cell_type": "code",
   "execution_count": 45,
   "metadata": {
    "ExecuteTime": {
     "end_time": "2021-06-03T07:39:32.890906Z",
     "start_time": "2021-06-03T07:39:32.887666Z"
    }
   },
   "outputs": [],
   "source": [
    "pillar_name_mapper = dict()\n",
    "subpillar_name_mapper = dict()\n",
    "for pillar, fpillar, subpillar, fsubpillar, af_id in zip(\n",
    "        matching[\"original_pillar\"], matching[\"target_pillar\"],\n",
    "        matching[\"original_subpillar\"], matching[\"target_subpillar\"],\n",
    "        matching[\"analysis_framework_id\"]):\n",
    "    pillar_name_mapper[pillar] = fpillar\n",
    "    subpillar_name_mapper[subpillar] = fsubpillar"
   ]
  },
  {
   "cell_type": "code",
   "execution_count": 46,
   "metadata": {
    "ExecuteTime": {
     "end_time": "2021-06-03T07:39:32.894344Z",
     "start_time": "2021-06-03T07:39:32.892396Z"
    }
   },
   "outputs": [],
   "source": [
    "#matching[\"Pillar\"].unique().tolist() == list(pillar_name_mapper.keys())"
   ]
  },
  {
   "cell_type": "code",
   "execution_count": 47,
   "metadata": {
    "ExecuteTime": {
     "end_time": "2021-06-03T07:39:32.897348Z",
     "start_time": "2021-06-03T07:39:32.895641Z"
    }
   },
   "outputs": [],
   "source": [
    "# matching[\"Sub-pillar\"].unique().tolist() == list(subpillar_name_mapper.keys())"
   ]
  },
  {
   "cell_type": "code",
   "execution_count": 48,
   "metadata": {
    "ExecuteTime": {
     "end_time": "2021-06-03T07:39:32.904061Z",
     "start_time": "2021-06-03T07:39:32.898566Z"
    }
   },
   "outputs": [
    {
     "data": {
      "text/plain": [
       "{'136->Humanitarian Conditions->1St Level Outcome': 'Humanitarian Conditions',\n",
       " '137->Humanitarian Conditions->1St Level Outcome': 'Humanitarian Conditions',\n",
       " '14->Humanitarian Conditions->Access To Basic Services Or Goods': 'Humanitarian Conditions',\n",
       " '273->Humanitarian Conditions->Impact On Accessibility, Availability, Quality, Use And Awareness Of Goods And Services': 'Humanitarian Conditions',\n",
       " '1004->Humanitarian Conditions->Living Standards': 'Humanitarian Conditions',\n",
       " '829->Humanitarian Conditions->Living Standards': 'Humanitarian Conditions',\n",
       " '1306->Humanitarian Conditions->Living Standards': 'Humanitarian Conditions',\n",
       " '552->Humanitarian Conditions->Living Standards': 'Humanitarian Conditions',\n",
       " '495->Humanitarian Conditions->Living Standards': 'Humanitarian Conditions',\n",
       " '537->Humanitarian Conditions->Living Standards': 'Humanitarian Conditions',\n",
       " '273->Humanitarian Conditions->Impact On Physical And Mental Wellbeing': 'Humanitarian Conditions',\n",
       " '14->Humanitarian Conditions->Impact On Physical And Mental Wellbeing': 'Humanitarian Conditions',\n",
       " '136->Humanitarian Conditions->2Nd Level Outcome': 'Humanitarian Conditions',\n",
       " '137->Humanitarian Conditions->2Nd Level Outcome': 'Humanitarian Conditions',\n",
       " '1004->Humanitarian Conditions->Physical & Mental Wellbeing': 'Humanitarian Conditions',\n",
       " '1306->Humanitarian Conditions->Physical & Mental Wellbeing': 'Humanitarian Conditions',\n",
       " '552->Humanitarian Conditions->Physical & Mental Wellbeing': 'Humanitarian Conditions',\n",
       " '495->Humanitarian Conditions->Physical & Mental Wellbeing': 'Humanitarian Conditions',\n",
       " '537->Humanitarian Conditions->Physical & Mental Wellbeing': 'Humanitarian Conditions',\n",
       " '829->Humanitarian Conditions->Physical And Mental Well-Being': 'Humanitarian Conditions',\n",
       " '14->Capacities And Response->Coping Mechanisms': 'Humanitarian Conditions',\n",
       " '136->Capacities And Response->Coping Mechanisms': 'Humanitarian Conditions',\n",
       " '137->Capacities And Response->Coping Mechanisms': 'Humanitarian Conditions',\n",
       " '1004->Humanitarian Conditions->Coping Mechanisms': 'Humanitarian Conditions',\n",
       " '829->Humanitarian Conditions->Coping Mechanisms': 'Humanitarian Conditions',\n",
       " '1306->Humanitarian Conditions->Coping Mechanisms': 'Humanitarian Conditions',\n",
       " '552->Humanitarian Conditions->Coping Mechanisms': 'Humanitarian Conditions',\n",
       " '495->Humanitarian Conditions->Coping Mechanisms': 'Humanitarian Conditions',\n",
       " '537->Humanitarian Conditions->Coping Mechanisms': 'Humanitarian Conditions',\n",
       " '273->Scope And Scale->Damage': 'Impact',\n",
       " '14->Scope And Scale->Damage': 'Impact',\n",
       " '136->Scope And Scale->Damage': 'Impact',\n",
       " '137->Scope And Scale->Damage': 'Impact',\n",
       " '829->Impact->Damages & Losses': 'Impact',\n",
       " '1004->Scope & Scale->Damages & Losses': 'Impact',\n",
       " '552->Scope & Scale->Damages & Losses': 'Impact',\n",
       " '495->Scope & Scale->Damages & Losses': 'Impact',\n",
       " '537->Scope & Scale->Damages & Losses': 'Impact',\n",
       " '273->Scope And Scale->Losses': 'Impact',\n",
       " '14->Scope And Scale->Losses': 'Impact',\n",
       " '136->Scope And Scale->Losses': 'Impact',\n",
       " '137->Scope And Scale->Losses': 'Impact',\n",
       " '829->Impact->Drivers': 'Impact',\n",
       " '273->Scope And Scale->Drivers/ Aggravating Factors': 'Impact',\n",
       " '14->Scope And Scale->Drivers/ Aggravating Factors': 'Impact',\n",
       " '1306->Impact->Drivers/Aggravating Factors': 'Impact',\n",
       " '1004->Scope & Scale->Drivers/Aggravating Factors': 'Impact',\n",
       " '552->Scope & Scale->Drivers/Aggravating Factors': 'Impact',\n",
       " '495->Scope & Scale->Drivers/Aggravating Factors': 'Impact',\n",
       " '537->Scope & Scale->Drivers/Aggravating Factors': 'Impact',\n",
       " '136->Scope And Scale->Drivers/Aggravating Factors': 'Impact',\n",
       " '137->Scope And Scale->Drivers/Aggravating Factors': 'Impact',\n",
       " '1306->Impact->Impact On People': 'Impact',\n",
       " '1306->Impact->Impact On System & Services': 'Impact',\n",
       " '136->Capacities And Response->Market Functionality': 'Impact',\n",
       " '137->Capacities And Response->Market Functionality': 'Impact',\n",
       " '1004->Capacities & Response->International': 'Capacities & Response',\n",
       " '1306->Capacities & Response->International': 'Capacities & Response',\n",
       " '552->Capacities & Response->International': 'Capacities & Response',\n",
       " '495->Capacities & Response->International': 'Capacities & Response',\n",
       " '537->Capacities & Response->International': 'Capacities & Response',\n",
       " '829->Response And Capacities->International': 'Capacities & Response',\n",
       " '273->Capacities And Response->International Response': 'Capacities & Response',\n",
       " '14->Capacities And Response->International Response': 'Capacities & Response',\n",
       " '136->Capacities And Response->International Response': 'Capacities & Response',\n",
       " '137->Capacities And Response->International Response': 'Capacities & Response',\n",
       " '552->Capacities & Response->Lngo': 'Capacities & Response',\n",
       " '495->Capacities & Response->Lngo': 'Capacities & Response',\n",
       " '537->Capacities & Response->Lngo': 'Capacities & Response',\n",
       " '1004->Capacities & Response->National': 'Capacities & Response',\n",
       " '1306->Capacities & Response->National & Local Actors': 'Capacities & Response',\n",
       " '829->Response And Capacities->National And Local': 'Capacities & Response',\n",
       " '14->Capacities And Response->National Response': 'Capacities & Response',\n",
       " '136->Capacities And Response->National Response': 'Capacities & Response',\n",
       " '137->Capacities And Response->National Response': 'Capacities & Response',\n",
       " '273->Capacities And Response->National Response Capacity': 'Capacities & Response',\n",
       " '273->Capacities And Response->National Society Capacity': 'Capacities & Response',\n",
       " '552->Capacities & Response->Government': 'Capacities & Response',\n",
       " '495->Capacities & Response->Government': 'Capacities & Response',\n",
       " '537->Capacities & Response->Government': 'Capacities & Response',\n",
       " '1306->Capacities & Response->Government & Local Authorities': 'Capacities & Response',\n",
       " '829->Impact->Number Of People Affected': 'Impact',\n",
       " '1306->Impact->Number Of People Affected': 'Impact',\n",
       " '495->Scope & Scale->Number Of People Affected': 'Impact',\n",
       " '1004->Scope & Scale->People Affected': 'Impact',\n",
       " '829->Humanitarian Conditions->Number Of People At Risk': 'People At Risk',\n",
       " '495->Humanitarian Conditions->Number Of People At Risk': 'People At Risk',\n",
       " '1306->Humanitarian Conditions->Number Of People In Need': 'Humanitarian Conditions',\n",
       " '1004->Humanitarian Conditions->People In Need': 'Humanitarian Conditions',\n",
       " '829->Humanitarian Conditions->Number Of People In Need And Priorities': 'Humanitarian Conditions',\n",
       " '495->Humanitarian Conditions->Number Of People In Need And Priorities': 'Humanitarian Conditions',\n",
       " '552->Humanitarian Conditions->Unmet Needs': 'Humanitarian Conditions',\n",
       " '537->Humanitarian Conditions->Unmet Needs': 'Humanitarian Conditions',\n",
       " '14->Humanitarian Conditions->Unmet Needs': 'Humanitarian Conditions',\n",
       " '136->Humanitarian Conditions->Unmet Needs': 'Humanitarian Conditions',\n",
       " '137->Humanitarian Conditions->Unmet Needs': 'Humanitarian Conditions',\n",
       " '1306->Capacities & Response->Number Of People Reached': 'Capacities & Response',\n",
       " '1004->Capacities & Response->People Reached': 'Capacities & Response',\n",
       " '495->Priorities->As Expressed By The Population': 'Priority Needs',\n",
       " '829->Response And Capacities->Community': 'Priority Needs',\n",
       " '829->Response And Capacities->Community Perceived Priorities': 'Priority Needs',\n",
       " '1306->Priorities->Priority Needs (Pop)': 'Priority Needs',\n",
       " '1004->Priorities->Priority Problems (Pop)': 'Priority Needs',\n",
       " '1004->Priorities->Priority Interventions (Pop)': 'Priority Interventions',\n",
       " '1306->Priorities->Priority Interventions (Pop)': 'Priority Interventions',\n",
       " '1004->Priorities->Priority Interventions (Staff)': 'Priority Interventions',\n",
       " '1306->Priorities->Priority Interventions (Staff)': 'Priority Interventions',\n",
       " '1004->Priorities->Priority Problems (Staff)': 'Priority Needs',\n",
       " '1306->Priorities->Priority Needs (Staff)': 'Priority Needs',\n",
       " '495->Priorities->As Expressed By Experts': 'Priority Needs',\n",
       " '552->Capacities & Response->Response Gaps': 'Capacities & Response',\n",
       " '495->Capacities & Response->Response Gaps': 'Capacities & Response',\n",
       " '537->Capacities & Response->Response Gaps': 'Capacities & Response',\n",
       " '14->Capacities And Response->Response Gaps': 'Capacities & Response',\n",
       " '136->Capacities And Response->Response Gaps': 'Capacities & Response',\n",
       " '137->Capacities And Response->Response Gaps': 'Capacities & Response',\n",
       " '136->Humanitarian Conditions->Risks': 'People At Risk',\n",
       " '137->Humanitarian Conditions->Risks': 'People At Risk',\n",
       " '829->Humanitarian Conditions->Risks &  New Or Aggravated Vulnerabilities': 'People At Risk',\n",
       " '552->Humanitarian Conditions->Risks & Vulnerabilities': 'People At Risk',\n",
       " '495->Humanitarian Conditions->Risks & Vulnerabilities': 'People At Risk',\n",
       " '537->Humanitarian Conditions->Risks & Vulnerabilities': 'People At Risk',\n",
       " '14->Humanitarian Conditions->Risks/Vulnerabilities': 'People At Risk',\n",
       " '136->Humanitarian Conditions->Vulnerabilities': 'People At Risk',\n",
       " '137->Humanitarian Conditions->Vulnerabilities': 'People At Risk',\n",
       " '273->Humanitarian Conditions->Vulnerabilities, Specific Needs And Risks': 'People At Risk',\n",
       " '1306->At Risk->People At Risk / Vulnerable': 'People At Risk',\n",
       " '1004->Humanitarian Conditions->People At Risk / Vulnerable': 'People At Risk',\n",
       " '829->Impact->Status Of Essential Infrastructure, Systems, Markets And Networks': 'Impact',\n",
       " '1004->Scope & Scale->System Disruption': 'Impact',\n",
       " '552->Scope & Scale->System Disruption': 'Impact',\n",
       " '495->Scope & Scale->System Disruption': 'Impact',\n",
       " '537->Scope & Scale->System Disruption': 'Impact',\n",
       " '273->Scope And Scale->System Disruption': 'Impact',\n",
       " '14->Scope And Scale->System Disruption': 'Impact',\n",
       " '1004->Capacities & Response->System Functionality': 'Impact',\n",
       " '552->Capacities & Response->System Functionality': 'Impact',\n",
       " '495->Capacities & Response->System Functionality': 'Impact',\n",
       " '537->Capacities & Response->System Functionality': 'Impact',\n",
       " '136->Scope And Scale->Systems Disruption': 'Impact',\n",
       " '137->Scope And Scale->Systems Disruption': 'Impact',\n",
       " '14->Capacities And Response->Systems Functionality': 'Impact'}"
      ]
     },
     "execution_count": 48,
     "metadata": {},
     "output_type": "execute_result"
    }
   ],
   "source": [
    "pillar_name_mapper"
   ]
  },
  {
   "cell_type": "code",
   "execution_count": 49,
   "metadata": {
    "ExecuteTime": {
     "end_time": "2021-06-03T07:39:32.909076Z",
     "start_time": "2021-06-03T07:39:32.905162Z"
    }
   },
   "outputs": [],
   "source": [
    "def sector_mapper(sec):\n",
    "    if sec == sec:\n",
    "        sectors =  [sector_name_mapper.get(s, \"\") for s in sec]\n",
    "        return [sec for sec in sectors if sec]\n",
    "    return []\n",
    "##\n",
    "def pillar_mapper(dim):\n",
    "    if dim == dim:\n",
    "        dim = [pillar_name_mapper.get(d, \"\") for d in dim]\n",
    "        return [d for d in dim if d]\n",
    "    return []\n",
    "##\n",
    "def subpillar_mapper(subdim):\n",
    "    if subdim == subdim:\n",
    "        subdim = [subpillar_name_mapper.get(d, \"\") for d in subdim]\n",
    "        return [d for d in subdim if d]\n",
    "    return []"
   ]
  },
  {
   "cell_type": "code",
   "execution_count": 50,
   "metadata": {
    "ExecuteTime": {
     "end_time": "2021-06-03T07:39:33.452665Z",
     "start_time": "2021-06-03T07:39:32.911036Z"
    }
   },
   "outputs": [],
   "source": [
    "final_df[\"sectors\"] = final_df[\"Sector\"].apply(sector_mapper)\n",
    "final_df[\"pillars\"] = final_df[\"Dimension\"].apply(pillar_mapper)\n",
    "final_df[\"subpillars\"] = final_df[\"Subdimension\"].apply(subpillar_mapper)"
   ]
  },
  {
   "cell_type": "code",
   "execution_count": 51,
   "metadata": {
    "ExecuteTime": {
     "end_time": "2021-06-03T07:39:33.495683Z",
     "start_time": "2021-06-03T07:39:33.453666Z"
    }
   },
   "outputs": [
    {
     "data": {
      "text/plain": [
       "[('Health', 31358),\n",
       " ('Cross', 25403),\n",
       " ('Protection', 24199),\n",
       " ('Livelihoods', 14410),\n",
       " ('Food Security', 13068),\n",
       " ('WASH', 9899),\n",
       " ('Education', 9287),\n",
       " ('Shelter', 8523),\n",
       " ('Nutrition', 4542),\n",
       " ('Agriculture', 2593),\n",
       " ('Logistics', 2263)]"
      ]
     },
     "execution_count": 51,
     "metadata": {},
     "output_type": "execute_result"
    }
   ],
   "source": [
    "secs_unique = set()\n",
    "secs_occurances = list()\n",
    "for secs in final_df[\"sectors\"]:\n",
    "    secs_unique.update(secs)\n",
    "    secs_occurances.extend(secs)\n",
    "#secs_unique\n",
    "Counter(secs_occurances).most_common()"
   ]
  },
  {
   "cell_type": "code",
   "execution_count": 52,
   "metadata": {
    "ExecuteTime": {
     "end_time": "2021-06-03T07:39:33.537010Z",
     "start_time": "2021-06-03T07:39:33.496814Z"
    }
   },
   "outputs": [
    {
     "data": {
      "text/plain": [
       "[('Humanitarian Conditions', 37799),\n",
       " ('Impact', 30095),\n",
       " ('Capacities & Response', 13296),\n",
       " ('People At Risk', 8385),\n",
       " ('Priority Needs', 2315),\n",
       " ('Priority Interventions', 1880)]"
      ]
     },
     "execution_count": 52,
     "metadata": {},
     "output_type": "execute_result"
    }
   ],
   "source": [
    "dims_unique = set()\n",
    "dims_occurances = list()\n",
    "for dims in final_df[\"pillars\"]:\n",
    "    dims_unique.update(dims)\n",
    "    dims_occurances.extend(dims)\n",
    "#dims_unique\n",
    "Counter(dims_occurances).most_common()"
   ]
  },
  {
   "cell_type": "code",
   "execution_count": 53,
   "metadata": {
    "ExecuteTime": {
     "end_time": "2021-06-03T07:39:33.579832Z",
     "start_time": "2021-06-03T07:39:33.537949Z"
    }
   },
   "outputs": [
    {
     "data": {
      "text/plain": [
       "[('Humanitarian Conditions->Living Standards', 20411),\n",
       " ('Humanitarian Conditions->Physical And Mental Well Being', 11586),\n",
       " ('Impact->Driver/Aggravating Factors', 10464),\n",
       " ('People At Risk->Risk And Vulnerabilities', 8108),\n",
       " ('Impact->Impact On Systems And Services', 6982),\n",
       " ('Capacities & Response->National Response', 6658),\n",
       " ('Impact->Impact On People', 6333),\n",
       " ('Capacities & Response->International Response', 4741),\n",
       " ('Humanitarian Conditions->Coping Mechanisms', 3162),\n",
       " ('Impact->Impact On Services', 2752),\n",
       " ('Humanitarian Conditions->Number Of People In Need', 2640),\n",
       " ('Impact->Number Of People Affected', 1962),\n",
       " ('Capacities & Response->Number Of People Reached', 1836),\n",
       " ('Priority Interventions->Expressed By Humanitarian Staff', 1653),\n",
       " ('Impact->Impact On People Or Impact On Services', 1602),\n",
       " ('Priority Needs->Expressed By Population', 1193),\n",
       " ('Priority Needs->Expressed By Humanitarian Staff', 1122),\n",
       " ('People At Risk->Number Of People At Risk', 277),\n",
       " ('Priority Interventions->Expressed By Population', 227),\n",
       " ('Capacities & Response->Response Gaps', 61)]"
      ]
     },
     "execution_count": 53,
     "metadata": {},
     "output_type": "execute_result"
    }
   ],
   "source": [
    "subdims_unique = set()\n",
    "subdims_occurances = list()\n",
    "for subdims in final_df[\"subpillars\"]:\n",
    "    subdims_unique.update(subdims)\n",
    "    subdims_occurances.extend(subdims)\n",
    "Counter(subdims_occurances).most_common()"
   ]
  },
  {
   "cell_type": "code",
   "execution_count": 54,
   "metadata": {
    "ExecuteTime": {
     "end_time": "2021-06-03T07:39:33.596445Z",
     "start_time": "2021-06-03T07:39:33.580739Z"
    }
   },
   "outputs": [],
   "source": [
    "# add columns for sectors\n",
    "for sector in secs_unique:\n",
    "    final_df[sector] = 0\n",
    "# add columns for dimensions\n",
    "for dimension in dims_unique:\n",
    "    final_df[dimension] = 0\n",
    "# add columns for subdimensions\n",
    "for subdimension in subdims_unique:\n",
    "    final_df[subdimension] = 0"
   ]
  },
  {
   "cell_type": "code",
   "execution_count": 55,
   "metadata": {
    "ExecuteTime": {
     "end_time": "2021-06-03T07:39:33.600438Z",
     "start_time": "2021-06-03T07:39:33.597481Z"
    }
   },
   "outputs": [
    {
     "data": {
      "text/plain": [
       "Index(['id_entry', 'created_at', 'modified_at', 'excerpt', 'image_raw',\n",
       "       'analysis_framework_id', 'created_by_id', 'lead_id', 'modified_by_id',\n",
       "       'entry_type', 'information_date', 'order', 'client_id', 'project_id',\n",
       "       'tabular_field_id', 'dropped_excerpt', 'highlight_hidden', 'verified',\n",
       "       'verification_last_changed_by_id', 'image_id', 'title', 'id_exportdata',\n",
       "       'data', 'entry_id', 'exportable_id', 'tag_title', 'tag_value',\n",
       "       'Dimension', 'Subdimension', 'Sector', 'sectors', 'pillars',\n",
       "       'subpillars', 'Food Security', 'Education', 'WASH', 'Cross', 'Health',\n",
       "       'Protection', 'Agriculture', 'Logistics', 'Shelter', 'Nutrition',\n",
       "       'Livelihoods', 'Impact', 'Priority Needs', 'Priority Interventions',\n",
       "       'Capacities & Response', 'Humanitarian Conditions', 'People At Risk',\n",
       "       'Impact->Number Of People Affected',\n",
       "       'Capacities & Response->Number Of People Reached',\n",
       "       'Impact->Impact On People',\n",
       "       'Impact->Impact On People Or Impact On Services',\n",
       "       'Impact->Driver/Aggravating Factors',\n",
       "       'Humanitarian Conditions->Living Standards',\n",
       "       'Priority Interventions->Expressed By Population',\n",
       "       'Priority Needs->Expressed By Population',\n",
       "       'Priority Needs->Expressed By Humanitarian Staff',\n",
       "       'Humanitarian Conditions->Number Of People In Need',\n",
       "       'Impact->Impact On Services', 'Impact->Impact On Systems And Services',\n",
       "       'Capacities & Response->Response Gaps',\n",
       "       'Humanitarian Conditions->Physical And Mental Well Being',\n",
       "       'People At Risk->Number Of People At Risk',\n",
       "       'People At Risk->Risk And Vulnerabilities',\n",
       "       'Capacities & Response->National Response',\n",
       "       'Capacities & Response->International Response',\n",
       "       'Priority Interventions->Expressed By Humanitarian Staff',\n",
       "       'Humanitarian Conditions->Coping Mechanisms'],\n",
       "      dtype='object')"
      ]
     },
     "execution_count": 55,
     "metadata": {},
     "output_type": "execute_result"
    }
   ],
   "source": [
    "final_df.columns"
   ]
  },
  {
   "cell_type": "code",
   "execution_count": 56,
   "metadata": {
    "ExecuteTime": {
     "end_time": "2021-06-03T07:41:27.102670Z",
     "start_time": "2021-06-03T07:39:33.601418Z"
    }
   },
   "outputs": [
    {
     "name": "stderr",
     "output_type": "stream",
     "text": [
      "100%|██████████| 111918/111918 [01:53<00:00, 986.12it/s] \n"
     ]
    }
   ],
   "source": [
    "for row in tqdm(final_df.iterrows(), total=final_df.shape[0]):\n",
    "    sectors_i = row[1][\"sectors\"]\n",
    "    pillars_i = row[1][\"pillars\"]\n",
    "    subpillars_i = row[1][\"subpillars\"]\n",
    "    idx = row[0]\n",
    "    for sector in sectors_i:\n",
    "        final_df.loc[idx, sector] = 1\n",
    "    for pillar in pillars_i:\n",
    "        final_df.loc[idx, pillar] = 1\n",
    "    for subpillar in subpillars_i:\n",
    "        final_df.loc[idx, subpillar] = 1"
   ]
  },
  {
   "cell_type": "code",
   "execution_count": 57,
   "metadata": {
    "ExecuteTime": {
     "end_time": "2021-06-03T07:41:27.106821Z",
     "start_time": "2021-06-03T07:41:27.103750Z"
    }
   },
   "outputs": [
    {
     "data": {
      "text/plain": [
       "Index(['id_entry', 'created_at', 'modified_at', 'excerpt', 'image_raw',\n",
       "       'analysis_framework_id', 'created_by_id', 'lead_id', 'modified_by_id',\n",
       "       'entry_type', 'information_date', 'order', 'client_id', 'project_id',\n",
       "       'tabular_field_id', 'dropped_excerpt', 'highlight_hidden', 'verified',\n",
       "       'verification_last_changed_by_id', 'image_id', 'title', 'id_exportdata',\n",
       "       'data', 'entry_id', 'exportable_id', 'tag_title', 'tag_value',\n",
       "       'Dimension', 'Subdimension', 'Sector', 'sectors', 'pillars',\n",
       "       'subpillars', 'Food Security', 'Education', 'WASH', 'Cross', 'Health',\n",
       "       'Protection', 'Agriculture', 'Logistics', 'Shelter', 'Nutrition',\n",
       "       'Livelihoods', 'Impact', 'Priority Needs', 'Priority Interventions',\n",
       "       'Capacities & Response', 'Humanitarian Conditions', 'People At Risk',\n",
       "       'Impact->Number Of People Affected',\n",
       "       'Capacities & Response->Number Of People Reached',\n",
       "       'Impact->Impact On People',\n",
       "       'Impact->Impact On People Or Impact On Services',\n",
       "       'Impact->Driver/Aggravating Factors',\n",
       "       'Humanitarian Conditions->Living Standards',\n",
       "       'Priority Interventions->Expressed By Population',\n",
       "       'Priority Needs->Expressed By Population',\n",
       "       'Priority Needs->Expressed By Humanitarian Staff',\n",
       "       'Humanitarian Conditions->Number Of People In Need',\n",
       "       'Impact->Impact On Services', 'Impact->Impact On Systems And Services',\n",
       "       'Capacities & Response->Response Gaps',\n",
       "       'Humanitarian Conditions->Physical And Mental Well Being',\n",
       "       'People At Risk->Number Of People At Risk',\n",
       "       'People At Risk->Risk And Vulnerabilities',\n",
       "       'Capacities & Response->National Response',\n",
       "       'Capacities & Response->International Response',\n",
       "       'Priority Interventions->Expressed By Humanitarian Staff',\n",
       "       'Humanitarian Conditions->Coping Mechanisms'],\n",
       "      dtype='object')"
      ]
     },
     "execution_count": 57,
     "metadata": {},
     "output_type": "execute_result"
    }
   ],
   "source": [
    "final_df.columns"
   ]
  },
  {
   "cell_type": "code",
   "execution_count": 58,
   "metadata": {
    "ExecuteTime": {
     "end_time": "2021-06-03T07:41:27.151841Z",
     "start_time": "2021-06-03T07:41:27.107857Z"
    }
   },
   "outputs": [
    {
     "data": {
      "text/plain": [
       "37"
      ]
     },
     "execution_count": 58,
     "metadata": {},
     "output_type": "execute_result"
    }
   ],
   "source": [
    "len(list(secs_unique)+list(dims_unique)+list(subdims_unique))"
   ]
  },
  {
   "cell_type": "code",
   "execution_count": 59,
   "metadata": {
    "ExecuteTime": {
     "end_time": "2021-06-03T07:41:27.166869Z",
     "start_time": "2021-06-03T07:41:27.153033Z"
    }
   },
   "outputs": [
    {
     "data": {
      "text/plain": [
       "Food Security                                              13068\n",
       "Education                                                   9287\n",
       "WASH                                                        9899\n",
       "Cross                                                      25403\n",
       "Health                                                     31358\n",
       "Protection                                                 24199\n",
       "Agriculture                                                 2593\n",
       "Logistics                                                   2263\n",
       "Shelter                                                     8523\n",
       "Nutrition                                                   4542\n",
       "Livelihoods                                                14410\n",
       "Impact                                                     23892\n",
       "Priority Needs                                              2261\n",
       "Priority Interventions                                      1871\n",
       "Capacities & Response                                      10855\n",
       "Humanitarian Conditions                                    33060\n",
       "People At Risk                                              8341\n",
       "Impact->Number Of People Affected                           1962\n",
       "Capacities & Response->Number Of People Reached             1836\n",
       "Impact->Impact On People                                    6333\n",
       "Impact->Impact On People Or Impact On Services              1575\n",
       "Impact->Driver/Aggravating Factors                         10464\n",
       "Humanitarian Conditions->Living Standards                  20411\n",
       "Priority Interventions->Expressed By Population              227\n",
       "Priority Needs->Expressed By Population                     1186\n",
       "Priority Needs->Expressed By Humanitarian Staff             1122\n",
       "Humanitarian Conditions->Number Of People In Need           2640\n",
       "Impact->Impact On Services                                  2735\n",
       "Impact->Impact On Systems And Services                      6982\n",
       "Capacities & Response->Response Gaps                          61\n",
       "Humanitarian Conditions->Physical And Mental Well Being    11586\n",
       "People At Risk->Number Of People At Risk                     277\n",
       "People At Risk->Risk And Vulnerabilities                    8108\n",
       "Capacities & Response->National Response                    6327\n",
       "Capacities & Response->International Response               4741\n",
       "Priority Interventions->Expressed By Humanitarian Staff     1653\n",
       "Humanitarian Conditions->Coping Mechanisms                  3162\n",
       "dtype: int64"
      ]
     },
     "execution_count": 59,
     "metadata": {},
     "output_type": "execute_result"
    }
   ],
   "source": [
    "final_df[list(secs_unique)+list(dims_unique)+list(subdims_unique)].sum().astype(int)"
   ]
  },
  {
   "cell_type": "markdown",
   "metadata": {},
   "source": [
    "### Stratified Split"
   ]
  },
  {
   "cell_type": "code",
   "execution_count": 60,
   "metadata": {
    "ExecuteTime": {
     "end_time": "2021-06-03T07:41:27.588644Z",
     "start_time": "2021-06-03T07:41:27.168233Z"
    }
   },
   "outputs": [],
   "source": [
    "from skmultilearn.model_selection import iterative_train_test_split\n",
    "from skmultilearn.model_selection.measures import get_combination_wise_output_matrix"
   ]
  },
  {
   "cell_type": "code",
   "execution_count": 61,
   "metadata": {
    "ExecuteTime": {
     "end_time": "2021-06-03T07:41:27.593704Z",
     "start_time": "2021-06-03T07:41:27.589618Z"
    }
   },
   "outputs": [],
   "source": [
    "def train_val_test_df_split(df):\n",
    "    classes = list(secs_unique)+list(dims_unique)+list(subdims_unique)\n",
    "    class_to_id = {clss:i for i, clss in enumerate(classes)}\n",
    "    num_classes = len(classes)\n",
    "    labels = np.zeros([len(df), num_classes])\n",
    "    for i, (sectors_i, pillars_i, subpillars_i) in enumerate(zip(df[\"sectors\"], df[\"pillars\"], df[\"subpillars\"])):\n",
    "        for sec in sectors_i:\n",
    "            labels[i, class_to_id[sec]] = 1\n",
    "        for pil in pillars_i:\n",
    "            labels[i, class_to_id[pil]] = 1\n",
    "        for subpil in subpillars_i:\n",
    "            labels[i, class_to_id[subpil]] = 1\n",
    "    ##\n",
    "    X_train, y_train, X_test, y_test = iterative_train_test_split(\n",
    "        df[\"excerpt\"].to_numpy().reshape(-1, 1), labels, test_size=0.1)\n",
    "    X_train, y_train, X_val, y_val = iterative_train_test_split(X_train,\n",
    "                                                                y_train,\n",
    "                                                                test_size=0.1)\n",
    "    return {\n",
    "        \"X_train\": X_train,\n",
    "        \"y_train\": y_train,\n",
    "        \"X_test\": X_test,\n",
    "        \"y_test\": y_test,\n",
    "        \"X_val\": X_val,\n",
    "        \"y_val\": y_val\n",
    "    }"
   ]
  },
  {
   "cell_type": "code",
   "execution_count": 62,
   "metadata": {
    "ExecuteTime": {
     "end_time": "2021-06-03T07:41:27.605581Z",
     "start_time": "2021-06-03T07:41:27.594905Z"
    }
   },
   "outputs": [],
   "source": [
    "df = final_df[[\n",
    "    'entry_id',\n",
    "    'lead_id',\n",
    "    'project_id',\n",
    "    'title',\n",
    "    'analysis_framework_id',\n",
    "    'excerpt',\n",
    "    'dropped_excerpt',\n",
    "    'created_by_id',\n",
    "    'modified_by_id',\n",
    "    'verified',\n",
    "    'verification_last_changed_by_id',\n",
    "    'sectors',\n",
    "    'pillars',\n",
    "    'subpillars',\n",
    "]]\n",
    "df.columns = [\n",
    "    'entry_id',\n",
    "    'lead_id',\n",
    "    'project_id',\n",
    "    'project_title',\n",
    "    'analysis_framework_id',\n",
    "    'excerpt',\n",
    "    'dropped_excerpt',\n",
    "    'created_by_id',\n",
    "    'modified_by_id',\n",
    "    'verified',\n",
    "    'verification_last_changed_by_id',\n",
    "    'sectors',\n",
    "    'pillars',\n",
    "    'subpillars',\n",
    "]"
   ]
  },
  {
   "cell_type": "code",
   "execution_count": 63,
   "metadata": {
    "ExecuteTime": {
     "end_time": "2021-06-03T07:42:53.621995Z",
     "start_time": "2021-06-03T07:41:27.606753Z"
    }
   },
   "outputs": [],
   "source": [
    "X_train, y_train, X_test, y_test, X_val, y_val = list(\n",
    "    train_val_test_df_split(df).values())"
   ]
  },
  {
   "cell_type": "code",
   "execution_count": 64,
   "metadata": {
    "ExecuteTime": {
     "end_time": "2021-06-03T07:42:53.839091Z",
     "start_time": "2021-06-03T07:42:53.623097Z"
    }
   },
   "outputs": [],
   "source": [
    "final_df_train = final_df[final_df[\"excerpt\"].isin(X_train.reshape(-1))]\n",
    "final_df_val = final_df[final_df[\"excerpt\"].isin(X_val.reshape(-1))]\n",
    "final_df_test = final_df[final_df[\"excerpt\"].isin(X_test.reshape(-1))]"
   ]
  },
  {
   "cell_type": "code",
   "execution_count": 65,
   "metadata": {
    "ExecuteTime": {
     "end_time": "2021-06-03T07:42:53.935659Z",
     "start_time": "2021-06-03T07:42:53.840539Z"
    }
   },
   "outputs": [],
   "source": [
    "df_train = df[df[\"excerpt\"].isin(X_train.reshape(-1))]\n",
    "df_val = df[df[\"excerpt\"].isin(X_val.reshape(-1))]\n",
    "df_test = df[df[\"excerpt\"].isin(X_test.reshape(-1))]"
   ]
  },
  {
   "cell_type": "code",
   "execution_count": 66,
   "metadata": {
    "ExecuteTime": {
     "end_time": "2021-06-03T07:42:53.943804Z",
     "start_time": "2021-06-03T07:42:53.937511Z"
    }
   },
   "outputs": [
    {
     "data": {
      "text/plain": [
       "(Int64Index([], dtype='int64'),\n",
       " Int64Index([], dtype='int64'),\n",
       " Int64Index([], dtype='int64'))"
      ]
     },
     "execution_count": 66,
     "metadata": {},
     "output_type": "execute_result"
    }
   ],
   "source": [
    "df_train.index & df_val.index, df_train.index & df_test.index, df_test.index & df_val.index "
   ]
  },
  {
   "cell_type": "code",
   "execution_count": 67,
   "metadata": {
    "ExecuteTime": {
     "end_time": "2021-06-03T07:42:55.552586Z",
     "start_time": "2021-06-03T07:42:53.948370Z"
    }
   },
   "outputs": [],
   "source": [
    "df_train.to_csv(\"data_v0.4.3_train.csv\", index=None)\n",
    "df_val.to_csv(\"data_v0.4.3_val.csv\", index=None)\n",
    "df_test.to_csv(\"data_v0.4.3_test.csv\", index=None)"
   ]
  },
  {
   "cell_type": "code",
   "execution_count": 68,
   "metadata": {
    "ExecuteTime": {
     "end_time": "2021-06-03T07:42:57.016077Z",
     "start_time": "2021-06-03T07:42:55.553926Z"
    }
   },
   "outputs": [],
   "source": [
    "df.to_csv(\"data_v0.4.3_full.csv\", index=None)"
   ]
  },
  {
   "cell_type": "code",
   "execution_count": null,
   "metadata": {},
   "outputs": [],
   "source": []
  },
  {
   "cell_type": "code",
   "execution_count": null,
   "metadata": {},
   "outputs": [],
   "source": []
  },
  {
   "cell_type": "code",
   "execution_count": null,
   "metadata": {},
   "outputs": [],
   "source": []
  },
  {
   "cell_type": "code",
   "execution_count": null,
   "metadata": {},
   "outputs": [],
   "source": []
  },
  {
   "cell_type": "code",
   "execution_count": null,
   "metadata": {},
   "outputs": [],
   "source": []
  }
 ],
 "metadata": {
  "kernelspec": {
   "display_name": "Python 3.8.5 64-bit ('base': conda)",
   "language": "python",
   "name": "python385jvsc74a57bd0f487e277ea6a75fd1c7c341a1deb40c7861148cbc006695943c5304af00fedbe"
  },
  "language_info": {
   "codemirror_mode": {
    "name": "ipython",
    "version": 3
   },
   "file_extension": ".py",
   "mimetype": "text/x-python",
   "name": "python",
   "nbconvert_exporter": "python",
   "pygments_lexer": "ipython3",
   "version": "3.8.5"
  }
 },
 "nbformat": 4,
 "nbformat_minor": 4
}
