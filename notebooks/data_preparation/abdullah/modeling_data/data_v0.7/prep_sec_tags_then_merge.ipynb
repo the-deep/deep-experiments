{
 "cells": [
  {
   "cell_type": "code",
   "execution_count": 1,
   "metadata": {
    "ExecuteTime": {
     "end_time": "2021-10-26T11:12:22.838638Z",
     "start_time": "2021-10-26T11:12:22.196022Z"
    }
   },
   "outputs": [],
   "source": [
    "import os\n",
    "import re\n",
    "import json\n",
    "import random\n",
    "from pprint import pprint\n",
    "from ast import literal_eval\n",
    "from collections import Counter, defaultdict\n",
    "\n",
    "import numpy as np\n",
    "import pandas as pd\n",
    "from tqdm.auto import tqdm\n",
    "\n",
    "import seaborn as sns\n",
    "import matplotlib.pyplot as plt\n",
    "\n",
    "tqdm.pandas()"
   ]
  },
  {
   "cell_type": "code",
   "execution_count": 2,
   "metadata": {
    "ExecuteTime": {
     "end_time": "2021-10-26T11:12:22.842126Z",
     "start_time": "2021-10-26T11:12:22.839933Z"
    }
   },
   "outputs": [],
   "source": [
    "random.seed(2021)\n",
    "np.random.seed(2021)"
   ]
  },
  {
   "cell_type": "code",
   "execution_count": 3,
   "metadata": {
    "ExecuteTime": {
     "end_time": "2021-10-26T11:12:22.845195Z",
     "start_time": "2021-10-26T11:12:22.843072Z"
    }
   },
   "outputs": [],
   "source": [
    "tqdm.pandas()"
   ]
  },
  {
   "cell_type": "code",
   "execution_count": 4,
   "metadata": {
    "ExecuteTime": {
     "end_time": "2021-10-26T11:12:22.848762Z",
     "start_time": "2021-10-26T11:12:22.846502Z"
    }
   },
   "outputs": [],
   "source": [
    "flatten = lambda l: sum(map(flatten, l), []) if isinstance(l, list) else [l]"
   ]
  },
  {
   "cell_type": "code",
   "execution_count": 5,
   "metadata": {
    "ExecuteTime": {
     "end_time": "2021-10-26T11:12:26.178005Z",
     "start_time": "2021-10-26T11:12:22.849638Z"
    }
   },
   "outputs": [],
   "source": [
    "exportdata = pd.read_csv(\"exportdata.csv\")\n",
    "entries = pd.read_csv(\"entries.csv\")\n",
    "af_widgets = pd.read_csv(\"af_widgets.csv\")\n",
    "projects = pd.read_csv(\"projects.csv\")\n",
    "exportables = pd.read_csv(\"af_exportables.csv\")\n",
    "##\n",
    "afs = pd.read_csv(\"analysis_frameworks.csv\")\n",
    "users = pd.read_csv(\"user_names.csv\")"
   ]
  },
  {
   "cell_type": "code",
   "execution_count": 6,
   "metadata": {
    "ExecuteTime": {
     "end_time": "2021-10-26T11:12:26.181541Z",
     "start_time": "2021-10-26T11:12:26.179270Z"
    }
   },
   "outputs": [],
   "source": [
    "dirName = 'generated_dataset'\n",
    "if not os.path.exists(dirName):\n",
    "    os.mkdir(dirName)"
   ]
  },
  {
   "cell_type": "code",
   "execution_count": 7,
   "metadata": {
    "ExecuteTime": {
     "end_time": "2021-10-26T11:12:26.193286Z",
     "start_time": "2021-10-26T11:12:26.182919Z"
    }
   },
   "outputs": [
    {
     "data": {
      "text/html": [
       "<div>\n",
       "<style scoped>\n",
       "    .dataframe tbody tr th:only-of-type {\n",
       "        vertical-align: middle;\n",
       "    }\n",
       "\n",
       "    .dataframe tbody tr th {\n",
       "        vertical-align: top;\n",
       "    }\n",
       "\n",
       "    .dataframe thead th {\n",
       "        text-align: right;\n",
       "    }\n",
       "</style>\n",
       "<table border=\"1\" class=\"dataframe\">\n",
       "  <thead>\n",
       "    <tr style=\"text-align: right;\">\n",
       "      <th></th>\n",
       "      <th>id</th>\n",
       "      <th>widget_id</th>\n",
       "      <th>title</th>\n",
       "      <th>properties</th>\n",
       "      <th>analysis_framework_id</th>\n",
       "      <th>key</th>\n",
       "    </tr>\n",
       "  </thead>\n",
       "  <tbody>\n",
       "    <tr>\n",
       "      <th>0</th>\n",
       "      <td>483</td>\n",
       "      <td>multiselectWidget</td>\n",
       "      <td>SPECIFIC NEEDS GROUPS</td>\n",
       "      <td>{\"data\": {\"options\": [{\"key\": \"option-1\", \"lab...</td>\n",
       "      <td>137</td>\n",
       "      <td>element7</td>\n",
       "    </tr>\n",
       "    <tr>\n",
       "      <th>1</th>\n",
       "      <td>484</td>\n",
       "      <td>dateWidget</td>\n",
       "      <td>DATE OF INFORMATION</td>\n",
       "      <td>{\"added_from\": \"list\", \"list_grid_layout\": {\"t...</td>\n",
       "      <td>137</td>\n",
       "      <td>element8</td>\n",
       "    </tr>\n",
       "    <tr>\n",
       "      <th>2</th>\n",
       "      <td>475</td>\n",
       "      <td>excerptWidget</td>\n",
       "      <td>EXCERPT</td>\n",
       "      <td>{\"added_from\": \"overview\", \"list_grid_layout\":...</td>\n",
       "      <td>137</td>\n",
       "      <td>page-two-excerpt</td>\n",
       "    </tr>\n",
       "    <tr>\n",
       "      <th>3</th>\n",
       "      <td>482</td>\n",
       "      <td>multiselectWidget</td>\n",
       "      <td>DEMOGRAPHIC GROUPS</td>\n",
       "      <td>{\"data\": {\"options\": [{\"key\": \"option-1\", \"lab...</td>\n",
       "      <td>137</td>\n",
       "      <td>element6</td>\n",
       "    </tr>\n",
       "    <tr>\n",
       "      <th>4</th>\n",
       "      <td>479</td>\n",
       "      <td>scaleWidget</td>\n",
       "      <td>RELIABILITY</td>\n",
       "      <td>{\"data\": {\"scale_units\": [{\"key\": \"scale-1\", \"...</td>\n",
       "      <td>137</td>\n",
       "      <td>element3</td>\n",
       "    </tr>\n",
       "  </tbody>\n",
       "</table>\n",
       "</div>"
      ],
      "text/plain": [
       "    id          widget_id                  title  \\\n",
       "0  483  multiselectWidget  SPECIFIC NEEDS GROUPS   \n",
       "1  484         dateWidget    DATE OF INFORMATION   \n",
       "2  475      excerptWidget                EXCERPT   \n",
       "3  482  multiselectWidget     DEMOGRAPHIC GROUPS   \n",
       "4  479        scaleWidget            RELIABILITY   \n",
       "\n",
       "                                          properties  analysis_framework_id  \\\n",
       "0  {\"data\": {\"options\": [{\"key\": \"option-1\", \"lab...                    137   \n",
       "1  {\"added_from\": \"list\", \"list_grid_layout\": {\"t...                    137   \n",
       "2  {\"added_from\": \"overview\", \"list_grid_layout\":...                    137   \n",
       "3  {\"data\": {\"options\": [{\"key\": \"option-1\", \"lab...                    137   \n",
       "4  {\"data\": {\"scale_units\": [{\"key\": \"scale-1\", \"...                    137   \n",
       "\n",
       "                key  \n",
       "0          element7  \n",
       "1          element8  \n",
       "2  page-two-excerpt  \n",
       "3          element6  \n",
       "4          element3  "
      ]
     },
     "execution_count": 7,
     "metadata": {},
     "output_type": "execute_result"
    }
   ],
   "source": [
    "af_widgets.head()"
   ]
  },
  {
   "cell_type": "code",
   "execution_count": 8,
   "metadata": {
    "ExecuteTime": {
     "end_time": "2021-10-26T11:12:26.200378Z",
     "start_time": "2021-10-26T11:12:26.194251Z"
    }
   },
   "outputs": [],
   "source": [
    "af_widgets[\"properties\"] = af_widgets[\"properties\"].apply(json.loads)"
   ]
  },
  {
   "cell_type": "code",
   "execution_count": 9,
   "metadata": {
    "ExecuteTime": {
     "end_time": "2021-10-26T11:12:26.205252Z",
     "start_time": "2021-10-26T11:12:26.201477Z"
    }
   },
   "outputs": [
    {
     "data": {
      "text/plain": [
       "array(['SPECIFIC NEEDS GROUPS', 'DATE OF INFORMATION', 'EXCERPT',\n",
       "       'DEMOGRAPHIC GROUPS', 'RELIABILITY', 'SEVERITY', 'AFFECTED GROUPS',\n",
       "       'MATRIX 1D', 'SECTORAL INFORMATION', 'LOCATION',\n",
       "       'OPERATIONAL ENVIRONMENT', 'INFORMATION DATE', 'SECTORS', 'FLAG',\n",
       "       'CROSS SECTOR', 'GEO LOCATION', 'CROSS SECTORS', 'MATRIX 2D',\n",
       "       'PRE-CRISIS', 'IN-CRISIS', 'CRISIS TYPE', 'SHOCK/EVENT',\n",
       "       'ADDITIONAL CONTEXT', 'DISPLACED POP TYPE', 'CLEANING TAGS',\n",
       "       'POPULATION GROUPS', 'CLEANING COMMENTS', 'HIGH LEVEL TAGS',\n",
       "       'CONTEXT ADDITIONAL TAGS', 'COMMENT'], dtype=object)"
      ]
     },
     "execution_count": 9,
     "metadata": {},
     "output_type": "execute_result"
    }
   ],
   "source": [
    "af_widgets[\"title\"].str.upper().unique()"
   ]
  },
  {
   "cell_type": "code",
   "execution_count": 10,
   "metadata": {
    "ExecuteTime": {
     "end_time": "2021-10-26T11:12:26.211998Z",
     "start_time": "2021-10-26T11:12:26.207428Z"
    }
   },
   "outputs": [],
   "source": [
    "mat2d_titles = [\n",
    "    s.upper() for s in [\n",
    "        \"Pre-Crisis\",\n",
    "        \"Shock/Event\",\n",
    "        \"In-Crisis\",\n",
    "        \"Sectors\",\n",
    "        \"Sectoral Information\",\n",
    "        \"Matrix 2D\",\n",
    "    ]\n",
    "]\n",
    "mat2d_properties_ids = af_widgets[(\n",
    "    af_widgets[\"title\"].str.upper()).isin(mat2d_titles)][[\n",
    "        \"properties\", \"analysis_framework_id\"\n",
    "    ]]\n",
    "mat2d_properties = mat2d_properties_ids[\"properties\"].tolist()\n",
    "mat2d_ids = mat2d_properties_ids[\"analysis_framework_id\"].tolist()"
   ]
  },
  {
   "cell_type": "code",
   "execution_count": 11,
   "metadata": {
    "ExecuteTime": {
     "end_time": "2021-10-26T11:12:26.216385Z",
     "start_time": "2021-10-26T11:12:26.213176Z"
    },
    "scrolled": true
   },
   "outputs": [],
   "source": [
    "afids_pillars_subpillars = dict()\n",
    "errors = []\n",
    "for mat, af_id in zip(mat2d_properties, mat2d_ids):\n",
    "    try:\n",
    "        dims = mat[\"data\"]['dimensions']\n",
    "        afids_pillars_subpillars[af_id] = {}\n",
    "        for dim in dims:\n",
    "            pillar = dim[\"title\"]\n",
    "            sub_pillars = []\n",
    "            for sub_pillar_dict in dim[\"subdimensions\"]:\n",
    "                sub_pillars.append(sub_pillar_dict[\"title\"])\n",
    "            afids_pillars_subpillars[af_id][pillar] = sub_pillars\n",
    "    except KeyError:\n",
    "        errors.append(mat)"
   ]
  },
  {
   "cell_type": "code",
   "execution_count": 12,
   "metadata": {
    "ExecuteTime": {
     "end_time": "2021-10-26T11:12:26.222985Z",
     "start_time": "2021-10-26T11:12:26.217489Z"
    }
   },
   "outputs": [],
   "source": [
    "exportables[\"data\"] = exportables[\"data\"].apply(json.loads)"
   ]
  },
  {
   "cell_type": "code",
   "execution_count": 13,
   "metadata": {
    "ExecuteTime": {
     "end_time": "2021-10-26T11:12:26.228295Z",
     "start_time": "2021-10-26T11:12:26.224165Z"
    }
   },
   "outputs": [],
   "source": [
    "def extract_title(x):\n",
    "    if x[\"excel\"].get(\"title\"):\n",
    "        return x[\"excel\"][\"title\"]\n",
    "    elif x[\"excel\"].get(\"type\") == \"multiple\":\n",
    "        return x[\"excel\"][\"titles\"]\n",
    "    \n",
    "def title_case(tag):\n",
    "    if isinstance(tag, (list, tuple)):\n",
    "        return tuple([x.title() for x in tag])\n",
    "    return tag.title()\n",
    "\n",
    "af_titles = exportables[\"data\"].apply(extract_title)"
   ]
  },
  {
   "cell_type": "code",
   "execution_count": 14,
   "metadata": {
    "ExecuteTime": {
     "end_time": "2021-10-26T11:12:26.232257Z",
     "start_time": "2021-10-26T11:12:26.229402Z"
    }
   },
   "outputs": [
    {
     "data": {
      "text/plain": [
       "((203464, 21), (1156529, 4))"
      ]
     },
     "execution_count": 14,
     "metadata": {},
     "output_type": "execute_result"
    }
   ],
   "source": [
    "entries.shape, exportdata.shape"
   ]
  },
  {
   "cell_type": "code",
   "execution_count": 15,
   "metadata": {
    "ExecuteTime": {
     "end_time": "2021-10-26T11:12:26.470034Z",
     "start_time": "2021-10-26T11:12:26.233484Z"
    }
   },
   "outputs": [
    {
     "data": {
      "text/plain": [
       "(155472,)"
      ]
     },
     "execution_count": 15,
     "metadata": {},
     "output_type": "execute_result"
    }
   ],
   "source": [
    "entries[~entries[\"excerpt\"].isna()][\"excerpt\"].unique().shape"
   ]
  },
  {
   "cell_type": "code",
   "execution_count": 16,
   "metadata": {
    "ExecuteTime": {
     "end_time": "2021-10-26T11:12:26.474285Z",
     "start_time": "2021-10-26T11:12:26.471313Z"
    }
   },
   "outputs": [],
   "source": [
    "exid_to_exdata = dict()\n",
    "for ex_id, ex_data in zip(exportables[\"id\"], exportables[\"data\"]):\n",
    "    exid_to_exdata[ex_id] = ex_data"
   ]
  },
  {
   "cell_type": "code",
   "execution_count": 17,
   "metadata": {
    "ExecuteTime": {
     "end_time": "2021-10-26T11:12:26.477514Z",
     "start_time": "2021-10-26T11:12:26.475571Z"
    }
   },
   "outputs": [],
   "source": [
    "#exportdata[exportdata[\"tag_title\"].eq('Crisis Type')][\"tag_value\"].tolist()\n",
    "# exportdata[exportdata[\"tag_title\"].eq('Crisis Type')][\"tag_value\"].shape"
   ]
  },
  {
   "cell_type": "code",
   "execution_count": 18,
   "metadata": {
    "ExecuteTime": {
     "end_time": "2021-10-26T11:12:26.482056Z",
     "start_time": "2021-10-26T11:12:26.478793Z"
    }
   },
   "outputs": [
    {
     "data": {
      "text/plain": [
       "array(['SPECIFIC NEEDS GROUPS', 'DATE OF INFORMATION', 'EXCERPT',\n",
       "       'DEMOGRAPHIC GROUPS', 'RELIABILITY', 'SEVERITY', 'AFFECTED GROUPS',\n",
       "       'Matrix 1D', 'Sectoral Information', 'LOCATION',\n",
       "       'Operational Environment', 'Information Date', 'Sectors', 'Flag',\n",
       "       'Severity', 'Cross sector', 'Affected groups',\n",
       "       'Specific Needs Groups', 'Demographic Groups', 'Reliability',\n",
       "       'Geo Location', 'Excerpt', 'Information date', 'Cross Sectors',\n",
       "       'Matrix 2D', 'PRE-CRISIS', 'IN-CRISIS', 'Crisis type',\n",
       "       'Crisis Type', 'SHOCK/EVENT', 'Additional Context',\n",
       "       'DISPLACED POP TYPE', 'CLEANING tags', 'POPULATION GROUPS',\n",
       "       'Cleaning comments', 'HIGH LEVEL TAGS', 'Context additional tags',\n",
       "       'Comment'], dtype=object)"
      ]
     },
     "execution_count": 18,
     "metadata": {},
     "output_type": "execute_result"
    }
   ],
   "source": [
    "af_widgets[\"title\"].unique()"
   ]
  },
  {
   "cell_type": "code",
   "execution_count": 19,
   "metadata": {
    "ExecuteTime": {
     "end_time": "2021-10-26T11:12:26.485649Z",
     "start_time": "2021-10-26T11:12:26.483111Z"
    }
   },
   "outputs": [],
   "source": [
    "widget_key_id_to_title = dict()\n",
    "for w_key, w_id, title in zip(af_widgets[\"key\"], af_widgets[\"widget_id\"],\n",
    "                              af_widgets[\"title\"]):\n",
    "    widget_key_id_to_title[(w_key, w_id)] = title"
   ]
  },
  {
   "cell_type": "code",
   "execution_count": 20,
   "metadata": {
    "ExecuteTime": {
     "end_time": "2021-10-26T11:12:26.492528Z",
     "start_time": "2021-10-26T11:12:26.486684Z"
    }
   },
   "outputs": [],
   "source": [
    "def exportdata_to_tag_title(row):\n",
    "    data = json.loads(row[1])\n",
    "    wkey, wid = None, None\n",
    "    if data.get(\"common\"):\n",
    "        wkey = data.get(\"common\").get(\"widget_key\")\n",
    "        wid = data[\"common\"].get(\"widget_id\")\n",
    "    if wkey and wid:\n",
    "        if widget_key_id_to_title.get((wkey, wid)):\n",
    "            return widget_key_id_to_title.get((wkey, wid))\n",
    "    if data.get(\"report\") and data[\"report\"].get(\"other\"):\n",
    "        if len(data[\"report\"]\n",
    "               [\"other\"]) == 1 and data[\"report\"][\"other\"][0].get(\"title\"):\n",
    "            if data[\"report\"][\"other\"][0][\"title\"]:\n",
    "                return data[\"report\"][\"other\"][0][\"title\"]\n",
    "    if isinstance(data.get(\"excel\"), list) and len(data[\"excel\"])==1 and \\\n",
    "     data[\"excel\"][0].get(\"widget_key\") and data[\"excel\"][0].get(\"widget_id\"):\n",
    "        wkey = data[\"excel\"][0][\"widget_key\"]\n",
    "        wid = data[\"excel\"][0][\"widget_id\"]\n",
    "        if widget_key_id_to_title.get((wkey, wid)):\n",
    "            return widget_key_id_to_title.get((wkey, wid))\n",
    "    exportable_id = row[3]\n",
    "    if exid_to_exdata[exportable_id][\"excel\"].get(\"title\"):\n",
    "        return exid_to_exdata[exportable_id][\"excel\"][\"title\"]\n",
    "    elif exid_to_exdata[exportable_id][\"excel\"].get(\"type\") == \"multiple\":\n",
    "        return exid_to_exdata[exportable_id][\"excel\"][\"titles\"]\n",
    "    raise"
   ]
  },
  {
   "cell_type": "code",
   "execution_count": 21,
   "metadata": {
    "ExecuteTime": {
     "end_time": "2021-10-26T11:12:38.832432Z",
     "start_time": "2021-10-26T11:12:26.493740Z"
    }
   },
   "outputs": [],
   "source": [
    "exportdata[\"tag_title\"] = exportdata.apply(exportdata_to_tag_title, axis=1)"
   ]
  },
  {
   "cell_type": "code",
   "execution_count": 22,
   "metadata": {
    "ExecuteTime": {
     "end_time": "2021-10-26T11:12:38.837245Z",
     "start_time": "2021-10-26T11:12:38.833509Z"
    }
   },
   "outputs": [],
   "source": [
    "def exportdata_to_tag_value(row):\n",
    "    data = json.loads(row[1])\n",
    "    if isinstance(data[\"excel\"], list) and len(data[\"excel\"]) == 1:\n",
    "        return data[\"excel\"][0][\"value\"]\n",
    "    if data[\"excel\"].get(\"type\") == \"lists\":\n",
    "        return data[\"excel\"][\"values\"]\n",
    "    if isinstance(data[\"excel\"], dict) and \"value\" in data[\"excel\"]:\n",
    "        return data[\"excel\"].get(\"value\")\n",
    "    if isinstance(data[\"excel\"], dict) and \"values\" in data[\"excel\"]:\n",
    "        return data[\"excel\"].get(\"values\")\n",
    "    elif \"values\" in data[\"common\"]:\n",
    "        return data[\"common\"][\"values\"]\n",
    "    elif \"value\" in data[\"common\"]:\n",
    "        return data[\"common\"][\"value\"]\n",
    "    raise"
   ]
  },
  {
   "cell_type": "code",
   "execution_count": 23,
   "metadata": {
    "ExecuteTime": {
     "end_time": "2021-10-26T11:12:52.731678Z",
     "start_time": "2021-10-26T11:12:38.838609Z"
    }
   },
   "outputs": [],
   "source": [
    "exportdata[\"tag_value\"] = exportdata.apply(exportdata_to_tag_value, axis=1)"
   ]
  },
  {
   "cell_type": "code",
   "execution_count": 24,
   "metadata": {
    "ExecuteTime": {
     "end_time": "2021-10-26T11:12:52.736372Z",
     "start_time": "2021-10-26T11:12:52.733127Z"
    }
   },
   "outputs": [],
   "source": [
    "def title_case(tag):\n",
    "    if isinstance(tag, (list, tuple)):\n",
    "        return tuple([x.title() for x in tag])\n",
    "    return tag.title()"
   ]
  },
  {
   "cell_type": "code",
   "execution_count": 25,
   "metadata": {
    "ExecuteTime": {
     "end_time": "2021-10-26T11:12:53.149372Z",
     "start_time": "2021-10-26T11:12:52.737964Z"
    }
   },
   "outputs": [],
   "source": [
    "exportdata[\"tag_title\"] = exportdata[\"tag_title\"].apply(title_case)"
   ]
  },
  {
   "cell_type": "code",
   "execution_count": 26,
   "metadata": {
    "ExecuteTime": {
     "end_time": "2021-10-26T11:12:53.152853Z",
     "start_time": "2021-10-26T11:12:53.150645Z"
    }
   },
   "outputs": [],
   "source": [
    "#exportdata[\"tag_title\"].unique()\n",
    "# 1. GIMAC --> Pre-Crisis, Shock/Event, In-Crisis\n",
    "# 2. 2020 Okular --> Sectoral Information\n",
    "# 3. Okular Analytics Generic --> Sectoral Information\n",
    "# 4. Rohingya Framework --> Sectors\n",
    "# 5. IFRC 2018 --> Sectors\n",
    "# 6. Colombia AF --> Sectoral Information\n",
    "# 7. Nigeria Situation Analysis (OA) --> Sectoral Information\n",
    "# 8. Situation Analysis Generic Yemen --> Matrix 2D\n",
    "# 9. Situation Analysis Generic Libya --> Sectors"
   ]
  },
  {
   "cell_type": "code",
   "execution_count": 27,
   "metadata": {
    "ExecuteTime": {
     "end_time": "2021-10-26T11:12:53.234516Z",
     "start_time": "2021-10-26T11:12:53.154023Z"
    }
   },
   "outputs": [
    {
     "data": {
      "text/plain": [
       "array(['Severity', 'Reliability', 'Affected Groups', 'Information Date',\n",
       "       'Location', 'Sectoral Information', 'Demographic Groups', 'Flag',\n",
       "       'Operational Environment', 'Shock/Event',\n",
       "       'Context Additional Tags', 'In-Crisis', 'Specific Needs Groups',\n",
       "       'Crisis Type', 'Comment', 'Additional Context', 'Sectors',\n",
       "       'Cross Sector', 'Date Of Information', 'Geo Location',\n",
       "       'Displaced Pop Type', 'Cleaning Tags',\n",
       "       'Displacement Profile Details',\n",
       "       ('Affected Groups - Level 0', 'Affected Groups - Level 1', 'Affected Groups - Level 2', 'Affected Groups - Level 3'),\n",
       "       'Cleaning Comments',\n",
       "       ('Sectoral Information - Dimension', 'Sectoral Information - Subdimension', 'Sectoral Information - Sector', 'Sectoral Information - Subsectors'),\n",
       "       ('Information Date (From)', 'Information Date (To)'),\n",
       "       ('Operational Environment - Dimension', 'Operational Environment - Subdimension'),\n",
       "       ('Matrix 1D - Dimension', 'Matrix 1D - Subdimension'),\n",
       "       ('Matrix 2D - Dimension', 'Matrix 2D - Subdimension', 'Matrix 2D - Sector', 'Matrix 2D - Subsectors'),\n",
       "       ('In-Crisis - Dimension', 'In-Crisis - Subdimension', 'In-Crisis - Sector', 'In-Crisis - Subsectors'),\n",
       "       ('Affected Groups - Level 0', 'Affected Groups - Level 1', 'Affected Groups - Level 2', 'Affected Groups - Level 3', 'Affected Groups - Level 4', 'Affected Groups - Level 5'),\n",
       "       ('Flag - Dimension', 'Flag - Subdimension'),\n",
       "       ('Pre-Crisis - Dimension', 'Pre-Crisis - Subdimension', 'Pre-Crisis - Sector', 'Pre-Crisis - Subsectors'),\n",
       "       ('High Level Tags - Dimension', 'High Level Tags - Subdimension')],\n",
       "      dtype=object)"
      ]
     },
     "execution_count": 27,
     "metadata": {},
     "output_type": "execute_result"
    }
   ],
   "source": [
    "exportdata['tag_title'].unique()"
   ]
  },
  {
   "cell_type": "code",
   "execution_count": 28,
   "metadata": {
    "ExecuteTime": {
     "end_time": "2021-10-26T11:12:53.240702Z",
     "start_time": "2021-10-26T11:12:53.237821Z"
    }
   },
   "outputs": [],
   "source": [
    "date = [\n",
    "    'Information Date', ('Information Date (From)', 'Information Date (To)'),\n",
    "    'Date Of Information'\n",
    "]\n",
    "affected_groups = [\n",
    "    'Population Groups', 'Affected Groups',\n",
    "    ('Affected Groups - Level 0', 'Affected Groups - Level 1',\n",
    "     'Affected Groups - Level 2', 'Affected Groups - Level 3'),\n",
    "    ('Affected Groups - Level 0', 'Affected Groups - Level 1',\n",
    "     'Affected Groups - Level 2', 'Affected Groups - Level 3',\n",
    "     'Affected Groups - Level 4', 'Affected Groups - Level 5'),\n",
    "    'Displacement Profile Details', 'Displaced Pop Type'\n",
    "]\n",
    "location = ['Location', 'Geo Location']\n",
    "\n",
    "secondary_tags_titles = [\n",
    "    \"Severity\",\n",
    "    \"Reliability\",\n",
    "    \"Demographic Groups\",\n",
    "    \"Specific Needs Groups\",\n",
    "] + date + location + affected_groups"
   ]
  },
  {
   "cell_type": "code",
   "execution_count": 29,
   "metadata": {
    "ExecuteTime": {
     "end_time": "2021-10-26T11:12:53.426998Z",
     "start_time": "2021-10-26T11:12:53.241713Z"
    }
   },
   "outputs": [],
   "source": [
    "exportdata_secondary_tags = exportdata[exportdata[\"tag_title\"].isin(\n",
    "    secondary_tags_titles)]"
   ]
  },
  {
   "cell_type": "code",
   "execution_count": 30,
   "metadata": {
    "ExecuteTime": {
     "end_time": "2021-10-26T11:12:53.434248Z",
     "start_time": "2021-10-26T11:12:53.428300Z"
    }
   },
   "outputs": [],
   "source": [
    "def agg_group(group):\n",
    "    tag_titles = group[\"tag_title\"]\n",
    "    tag_values = group[\"tag_value\"]\n",
    "    #\n",
    "    new_row = {\n",
    "        \"entry_id\": group['entry_id'].iloc[0],\n",
    "        \"Severity\": None,\n",
    "        \"Reliability\": [],\n",
    "        \"Demographic Groups\": [],\n",
    "        \"Specific Needs Groups\": [],\n",
    "        \"Location\": [],\n",
    "        \"Information Date\": None,\n",
    "        \"Affected Groups\": [],\n",
    "    }\n",
    "    for title, value in zip(tag_titles, tag_values):\n",
    "        if title is None:\n",
    "            continue\n",
    "        if title in date:\n",
    "            new_row[\"Information Date\"] = value\n",
    "        elif title in location:\n",
    "            new_row['Location'].extend(value)\n",
    "        elif title in affected_groups:\n",
    "            new_row['Affected Groups'].extend(flatten(value))\n",
    "        elif title in [\"Demographic Groups\", \"Specific Needs Groups\"]:\n",
    "            new_row[title].extend(value)\n",
    "        elif title == \"Severity\":\n",
    "            new_row[title] = value\n",
    "        elif title == \"Reliability\":\n",
    "            new_row[title].append(value)\n",
    "        else:\n",
    "            raise\n",
    "    new_row['Affected Groups'] = list(\n",
    "        set([x for x in new_row['Affected Groups'] if x]))\n",
    "    return new_row"
   ]
  },
  {
   "cell_type": "code",
   "execution_count": 31,
   "metadata": {
    "ExecuteTime": {
     "end_time": "2021-10-26T11:13:16.107156Z",
     "start_time": "2021-10-26T11:12:53.435797Z"
    },
    "scrolled": true
   },
   "outputs": [],
   "source": [
    "exportdata_secondary_tags = pd.DataFrame.from_records(\n",
    "    exportdata_secondary_tags.groupby(\"entry_id\").apply(agg_group).values)"
   ]
  },
  {
   "cell_type": "code",
   "execution_count": 32,
   "metadata": {
    "ExecuteTime": {
     "end_time": "2021-10-26T11:13:16.139228Z",
     "start_time": "2021-10-26T11:13:16.110294Z"
    },
    "scrolled": true
   },
   "outputs": [
    {
     "data": {
      "text/html": [
       "<div>\n",
       "<style scoped>\n",
       "    .dataframe tbody tr th:only-of-type {\n",
       "        vertical-align: middle;\n",
       "    }\n",
       "\n",
       "    .dataframe tbody tr th {\n",
       "        vertical-align: top;\n",
       "    }\n",
       "\n",
       "    .dataframe thead th {\n",
       "        text-align: right;\n",
       "    }\n",
       "</style>\n",
       "<table border=\"1\" class=\"dataframe\">\n",
       "  <thead>\n",
       "    <tr style=\"text-align: right;\">\n",
       "      <th></th>\n",
       "      <th>entry_id</th>\n",
       "      <th>Severity</th>\n",
       "      <th>Reliability</th>\n",
       "      <th>Demographic Groups</th>\n",
       "      <th>Specific Needs Groups</th>\n",
       "      <th>Location</th>\n",
       "      <th>Information Date</th>\n",
       "      <th>Affected Groups</th>\n",
       "    </tr>\n",
       "  </thead>\n",
       "  <tbody>\n",
       "    <tr>\n",
       "      <th>0</th>\n",
       "      <td>556</td>\n",
       "      <td>No problem</td>\n",
       "      <td>[Usually]</td>\n",
       "      <td>[]</td>\n",
       "      <td>[]</td>\n",
       "      <td>[28391]</td>\n",
       "      <td>None</td>\n",
       "      <td>[Displaced, Affected]</td>\n",
       "    </tr>\n",
       "    <tr>\n",
       "      <th>1</th>\n",
       "      <td>558</td>\n",
       "      <td>Severe conditions</td>\n",
       "      <td>[Usually]</td>\n",
       "      <td>[]</td>\n",
       "      <td>[]</td>\n",
       "      <td>[28391]</td>\n",
       "      <td>None</td>\n",
       "      <td>[Displaced, Affected, Returnees]</td>\n",
       "    </tr>\n",
       "    <tr>\n",
       "      <th>2</th>\n",
       "      <td>559</td>\n",
       "      <td>Severe conditions</td>\n",
       "      <td>[Usually]</td>\n",
       "      <td>[]</td>\n",
       "      <td>[]</td>\n",
       "      <td>[28389]</td>\n",
       "      <td>None</td>\n",
       "      <td>[]</td>\n",
       "    </tr>\n",
       "    <tr>\n",
       "      <th>3</th>\n",
       "      <td>562</td>\n",
       "      <td>Severe conditions</td>\n",
       "      <td>[Usually]</td>\n",
       "      <td>[]</td>\n",
       "      <td>[]</td>\n",
       "      <td>[28389]</td>\n",
       "      <td>None</td>\n",
       "      <td>[]</td>\n",
       "    </tr>\n",
       "    <tr>\n",
       "      <th>4</th>\n",
       "      <td>563</td>\n",
       "      <td>No problem</td>\n",
       "      <td>[Usually]</td>\n",
       "      <td>[]</td>\n",
       "      <td>[]</td>\n",
       "      <td>[28389]</td>\n",
       "      <td>None</td>\n",
       "      <td>[]</td>\n",
       "    </tr>\n",
       "    <tr>\n",
       "      <th>...</th>\n",
       "      <td>...</td>\n",
       "      <td>...</td>\n",
       "      <td>...</td>\n",
       "      <td>...</td>\n",
       "      <td>...</td>\n",
       "      <td>...</td>\n",
       "      <td>...</td>\n",
       "      <td>...</td>\n",
       "    </tr>\n",
       "    <tr>\n",
       "      <th>202837</th>\n",
       "      <td>501310</td>\n",
       "      <td>None</td>\n",
       "      <td>[Usually Reliable]</td>\n",
       "      <td>[]</td>\n",
       "      <td>[]</td>\n",
       "      <td>[82862]</td>\n",
       "      <td>[07-05-2020, None]</td>\n",
       "      <td>[Out of Venezuela, Migrants, In transit, Affec...</td>\n",
       "    </tr>\n",
       "    <tr>\n",
       "      <th>202838</th>\n",
       "      <td>501311</td>\n",
       "      <td>None</td>\n",
       "      <td>[Usually Reliable]</td>\n",
       "      <td>[]</td>\n",
       "      <td>[]</td>\n",
       "      <td>[82862]</td>\n",
       "      <td>[07-05-2020, None]</td>\n",
       "      <td>[Out of Venezuela, Migrants, In transit, Affec...</td>\n",
       "    </tr>\n",
       "    <tr>\n",
       "      <th>202839</th>\n",
       "      <td>501312</td>\n",
       "      <td>None</td>\n",
       "      <td>[Usually Reliable]</td>\n",
       "      <td>[]</td>\n",
       "      <td>[]</td>\n",
       "      <td>[82862]</td>\n",
       "      <td>[07-05-2020, None]</td>\n",
       "      <td>[Out of Venezuela, Migrants, In transit, Affec...</td>\n",
       "    </tr>\n",
       "    <tr>\n",
       "      <th>202840</th>\n",
       "      <td>501313</td>\n",
       "      <td>None</td>\n",
       "      <td>[Usually Reliable]</td>\n",
       "      <td>[]</td>\n",
       "      <td>[]</td>\n",
       "      <td>[82862]</td>\n",
       "      <td>[07-05-2020, None]</td>\n",
       "      <td>[Out of Venezuela, Migrants, In transit, Affec...</td>\n",
       "    </tr>\n",
       "    <tr>\n",
       "      <th>202841</th>\n",
       "      <td>501352</td>\n",
       "      <td>None</td>\n",
       "      <td>[Usually Reliable]</td>\n",
       "      <td>[]</td>\n",
       "      <td>[]</td>\n",
       "      <td>[]</td>\n",
       "      <td>[None, None]</td>\n",
       "      <td>[]</td>\n",
       "    </tr>\n",
       "  </tbody>\n",
       "</table>\n",
       "<p>202842 rows × 8 columns</p>\n",
       "</div>"
      ],
      "text/plain": [
       "        entry_id           Severity         Reliability Demographic Groups  \\\n",
       "0            556         No problem           [Usually]                 []   \n",
       "1            558  Severe conditions           [Usually]                 []   \n",
       "2            559  Severe conditions           [Usually]                 []   \n",
       "3            562  Severe conditions           [Usually]                 []   \n",
       "4            563         No problem           [Usually]                 []   \n",
       "...          ...                ...                 ...                ...   \n",
       "202837    501310               None  [Usually Reliable]                 []   \n",
       "202838    501311               None  [Usually Reliable]                 []   \n",
       "202839    501312               None  [Usually Reliable]                 []   \n",
       "202840    501313               None  [Usually Reliable]                 []   \n",
       "202841    501352               None  [Usually Reliable]                 []   \n",
       "\n",
       "       Specific Needs Groups Location    Information Date  \\\n",
       "0                         []  [28391]                None   \n",
       "1                         []  [28391]                None   \n",
       "2                         []  [28389]                None   \n",
       "3                         []  [28389]                None   \n",
       "4                         []  [28389]                None   \n",
       "...                      ...      ...                 ...   \n",
       "202837                    []  [82862]  [07-05-2020, None]   \n",
       "202838                    []  [82862]  [07-05-2020, None]   \n",
       "202839                    []  [82862]  [07-05-2020, None]   \n",
       "202840                    []  [82862]  [07-05-2020, None]   \n",
       "202841                    []       []        [None, None]   \n",
       "\n",
       "                                          Affected Groups  \n",
       "0                                   [Displaced, Affected]  \n",
       "1                        [Displaced, Affected, Returnees]  \n",
       "2                                                      []  \n",
       "3                                                      []  \n",
       "4                                                      []  \n",
       "...                                                   ...  \n",
       "202837  [Out of Venezuela, Migrants, In transit, Affec...  \n",
       "202838  [Out of Venezuela, Migrants, In transit, Affec...  \n",
       "202839  [Out of Venezuela, Migrants, In transit, Affec...  \n",
       "202840  [Out of Venezuela, Migrants, In transit, Affec...  \n",
       "202841                                                 []  \n",
       "\n",
       "[202842 rows x 8 columns]"
      ]
     },
     "execution_count": 32,
     "metadata": {},
     "output_type": "execute_result"
    }
   ],
   "source": [
    "exportdata_secondary_tags"
   ]
  },
  {
   "cell_type": "code",
   "execution_count": 33,
   "metadata": {
    "ExecuteTime": {
     "end_time": "2021-10-26T11:13:16.145327Z",
     "start_time": "2021-10-26T11:13:16.141003Z"
    }
   },
   "outputs": [
    {
     "data": {
      "text/plain": [
       "Index(['id', 'created_at', 'modified_at', 'excerpt', 'image_raw',\n",
       "       'analysis_framework_id', 'created_by_id', 'lead_id', 'modified_by_id',\n",
       "       'entry_type', 'information_date', 'order', 'client_id', 'project_id',\n",
       "       'tabular_field_id', 'dropped_excerpt', 'highlight_hidden', 'verified',\n",
       "       'verification_last_changed_by_id', 'image_id', 'title'],\n",
       "      dtype='object')"
      ]
     },
     "execution_count": 33,
     "metadata": {},
     "output_type": "execute_result"
    }
   ],
   "source": [
    "entries.columns"
   ]
  },
  {
   "cell_type": "code",
   "execution_count": 34,
   "metadata": {
    "ExecuteTime": {
     "end_time": "2021-10-26T11:13:16.405901Z",
     "start_time": "2021-10-26T11:13:16.146768Z"
    }
   },
   "outputs": [],
   "source": [
    "entries_labeled_secondary_tags = pd.merge(entries,\n",
    "                                          exportdata_secondary_tags,\n",
    "                                          how=\"inner\",\n",
    "                                          left_on=\"id\",\n",
    "                                          right_on=\"entry_id\",\n",
    "                                          suffixes=('_entry', '_exportdata'))"
   ]
  },
  {
   "cell_type": "code",
   "execution_count": 35,
   "metadata": {
    "ExecuteTime": {
     "end_time": "2021-10-26T11:13:16.599509Z",
     "start_time": "2021-10-26T11:13:16.407655Z"
    }
   },
   "outputs": [
    {
     "data": {
      "text/plain": [
       "((203464, 21), (155472,), (202842, 8))"
      ]
     },
     "execution_count": 35,
     "metadata": {},
     "output_type": "execute_result"
    }
   ],
   "source": [
    "entries.shape, entries[~entries[\"excerpt\"].isna()][\"excerpt\"].unique(\n",
    ").shape, exportdata_secondary_tags.shape"
   ]
  },
  {
   "cell_type": "code",
   "execution_count": 36,
   "metadata": {
    "ExecuteTime": {
     "end_time": "2021-10-26T11:13:16.621145Z",
     "start_time": "2021-10-26T11:13:16.600599Z"
    }
   },
   "outputs": [
    {
     "data": {
      "text/html": [
       "<div>\n",
       "<style scoped>\n",
       "    .dataframe tbody tr th:only-of-type {\n",
       "        vertical-align: middle;\n",
       "    }\n",
       "\n",
       "    .dataframe tbody tr th {\n",
       "        vertical-align: top;\n",
       "    }\n",
       "\n",
       "    .dataframe thead th {\n",
       "        text-align: right;\n",
       "    }\n",
       "</style>\n",
       "<table border=\"1\" class=\"dataframe\">\n",
       "  <thead>\n",
       "    <tr style=\"text-align: right;\">\n",
       "      <th></th>\n",
       "      <th>id</th>\n",
       "      <th>created_at</th>\n",
       "      <th>modified_at</th>\n",
       "      <th>excerpt</th>\n",
       "      <th>image_raw</th>\n",
       "      <th>analysis_framework_id</th>\n",
       "      <th>created_by_id</th>\n",
       "      <th>lead_id</th>\n",
       "      <th>modified_by_id</th>\n",
       "      <th>entry_type</th>\n",
       "      <th>...</th>\n",
       "      <th>order</th>\n",
       "      <th>client_id</th>\n",
       "      <th>project_id</th>\n",
       "      <th>tabular_field_id</th>\n",
       "      <th>dropped_excerpt</th>\n",
       "      <th>highlight_hidden</th>\n",
       "      <th>verified</th>\n",
       "      <th>verification_last_changed_by_id</th>\n",
       "      <th>image_id</th>\n",
       "      <th>title</th>\n",
       "    </tr>\n",
       "  </thead>\n",
       "  <tbody>\n",
       "    <tr>\n",
       "      <th>0</th>\n",
       "      <td>16851</td>\n",
       "      <td>2018-12-22 13:19:52.922273+00</td>\n",
       "      <td>2018-12-24 05:24:33.116063+00</td>\n",
       "      <td>During the reporting week, IOM provided medica...</td>\n",
       "      <td>NaN</td>\n",
       "      <td>137</td>\n",
       "      <td>354</td>\n",
       "      <td>6334</td>\n",
       "      <td>354</td>\n",
       "      <td>excerpt</td>\n",
       "      <td>...</td>\n",
       "      <td>2</td>\n",
       "      <td>tasiymx9</td>\n",
       "      <td>322</td>\n",
       "      <td>NaN</td>\n",
       "      <td>NaN</td>\n",
       "      <td>False</td>\n",
       "      <td>False</td>\n",
       "      <td>NaN</td>\n",
       "      <td>NaN</td>\n",
       "      <td>Situation Analysis Generic Yemen</td>\n",
       "    </tr>\n",
       "    <tr>\n",
       "      <th>1</th>\n",
       "      <td>25639</td>\n",
       "      <td>2019-03-24 11:25:28.055219+00</td>\n",
       "      <td>2019-03-25 04:27:17.715687+00</td>\n",
       "      <td>On March 19, search-andrescue personnel airlif...</td>\n",
       "      <td>NaN</td>\n",
       "      <td>273</td>\n",
       "      <td>26</td>\n",
       "      <td>10607</td>\n",
       "      <td>26</td>\n",
       "      <td>excerpt</td>\n",
       "      <td>...</td>\n",
       "      <td>13</td>\n",
       "      <td>odi4z54i</td>\n",
       "      <td>878</td>\n",
       "      <td>NaN</td>\n",
       "      <td>NaN</td>\n",
       "      <td>False</td>\n",
       "      <td>False</td>\n",
       "      <td>NaN</td>\n",
       "      <td>NaN</td>\n",
       "      <td>IFRC - Cyclone Idai, March 2019</td>\n",
       "    </tr>\n",
       "    <tr>\n",
       "      <th>2</th>\n",
       "      <td>54325</td>\n",
       "      <td>2019-08-13 08:51:01.120935+00</td>\n",
       "      <td>2021-05-06 07:14:14.773704+00</td>\n",
       "      <td>NaN</td>\n",
       "      <td>https://api.thedeep.io/file/19293/</td>\n",
       "      <td>829</td>\n",
       "      <td>1395</td>\n",
       "      <td>16973</td>\n",
       "      <td>1395</td>\n",
       "      <td>image</td>\n",
       "      <td>...</td>\n",
       "      <td>17</td>\n",
       "      <td>ptmusm3b</td>\n",
       "      <td>1186</td>\n",
       "      <td>NaN</td>\n",
       "      <td>NaN</td>\n",
       "      <td>False</td>\n",
       "      <td>False</td>\n",
       "      <td>NaN</td>\n",
       "      <td>19293.0</td>\n",
       "      <td>UNHCR Chile</td>\n",
       "    </tr>\n",
       "    <tr>\n",
       "      <th>3</th>\n",
       "      <td>65692</td>\n",
       "      <td>2019-10-09 11:40:11.416419+00</td>\n",
       "      <td>2021-05-06 07:14:31.449556+00</td>\n",
       "      <td>NaN</td>\n",
       "      <td>https://api.thedeep.io/file/23416/</td>\n",
       "      <td>829</td>\n",
       "      <td>1396</td>\n",
       "      <td>18714</td>\n",
       "      <td>1396</td>\n",
       "      <td>image</td>\n",
       "      <td>...</td>\n",
       "      <td>21</td>\n",
       "      <td>a7dfeews</td>\n",
       "      <td>1183</td>\n",
       "      <td>NaN</td>\n",
       "      <td>NaN</td>\n",
       "      <td>False</td>\n",
       "      <td>False</td>\n",
       "      <td>NaN</td>\n",
       "      <td>23416.0</td>\n",
       "      <td>UNHCR Colombia</td>\n",
       "    </tr>\n",
       "    <tr>\n",
       "      <th>4</th>\n",
       "      <td>21660</td>\n",
       "      <td>2019-02-08 11:27:52.756824+00</td>\n",
       "      <td>2019-02-08 11:27:53.091176+00</td>\n",
       "      <td>According to The Guardian, more than 9,000 ref...</td>\n",
       "      <td>NaN</td>\n",
       "      <td>552</td>\n",
       "      <td>657</td>\n",
       "      <td>8644</td>\n",
       "      <td>657</td>\n",
       "      <td>excerpt</td>\n",
       "      <td>...</td>\n",
       "      <td>2</td>\n",
       "      <td>x8t1upes</td>\n",
       "      <td>788</td>\n",
       "      <td>NaN</td>\n",
       "      <td>According to The Guardian, more than 9,000 ref...</td>\n",
       "      <td>False</td>\n",
       "      <td>False</td>\n",
       "      <td>NaN</td>\n",
       "      <td>NaN</td>\n",
       "      <td>Nigeria Situation Analysis (OA)</td>\n",
       "    </tr>\n",
       "  </tbody>\n",
       "</table>\n",
       "<p>5 rows × 21 columns</p>\n",
       "</div>"
      ],
      "text/plain": [
       "      id                     created_at                    modified_at  \\\n",
       "0  16851  2018-12-22 13:19:52.922273+00  2018-12-24 05:24:33.116063+00   \n",
       "1  25639  2019-03-24 11:25:28.055219+00  2019-03-25 04:27:17.715687+00   \n",
       "2  54325  2019-08-13 08:51:01.120935+00  2021-05-06 07:14:14.773704+00   \n",
       "3  65692  2019-10-09 11:40:11.416419+00  2021-05-06 07:14:31.449556+00   \n",
       "4  21660  2019-02-08 11:27:52.756824+00  2019-02-08 11:27:53.091176+00   \n",
       "\n",
       "                                             excerpt  \\\n",
       "0  During the reporting week, IOM provided medica...   \n",
       "1  On March 19, search-andrescue personnel airlif...   \n",
       "2                                                NaN   \n",
       "3                                                NaN   \n",
       "4  According to The Guardian, more than 9,000 ref...   \n",
       "\n",
       "                            image_raw  analysis_framework_id  created_by_id  \\\n",
       "0                                 NaN                    137            354   \n",
       "1                                 NaN                    273             26   \n",
       "2  https://api.thedeep.io/file/19293/                    829           1395   \n",
       "3  https://api.thedeep.io/file/23416/                    829           1396   \n",
       "4                                 NaN                    552            657   \n",
       "\n",
       "   lead_id  modified_by_id entry_type  ...  order  client_id project_id  \\\n",
       "0     6334             354    excerpt  ...      2   tasiymx9        322   \n",
       "1    10607              26    excerpt  ...     13   odi4z54i        878   \n",
       "2    16973            1395      image  ...     17   ptmusm3b       1186   \n",
       "3    18714            1396      image  ...     21   a7dfeews       1183   \n",
       "4     8644             657    excerpt  ...      2   x8t1upes        788   \n",
       "\n",
       "   tabular_field_id                                    dropped_excerpt  \\\n",
       "0               NaN                                                NaN   \n",
       "1               NaN                                                NaN   \n",
       "2               NaN                                                NaN   \n",
       "3               NaN                                                NaN   \n",
       "4               NaN  According to The Guardian, more than 9,000 ref...   \n",
       "\n",
       "  highlight_hidden  verified  verification_last_changed_by_id  image_id  \\\n",
       "0            False     False                              NaN       NaN   \n",
       "1            False     False                              NaN       NaN   \n",
       "2            False     False                              NaN   19293.0   \n",
       "3            False     False                              NaN   23416.0   \n",
       "4            False     False                              NaN       NaN   \n",
       "\n",
       "                              title  \n",
       "0  Situation Analysis Generic Yemen  \n",
       "1   IFRC - Cyclone Idai, March 2019  \n",
       "2                       UNHCR Chile  \n",
       "3                    UNHCR Colombia  \n",
       "4   Nigeria Situation Analysis (OA)  \n",
       "\n",
       "[5 rows x 21 columns]"
      ]
     },
     "execution_count": 36,
     "metadata": {},
     "output_type": "execute_result"
    }
   ],
   "source": [
    "entries.head()"
   ]
  },
  {
   "cell_type": "code",
   "execution_count": 37,
   "metadata": {
    "ExecuteTime": {
     "end_time": "2021-10-26T11:13:16.639073Z",
     "start_time": "2021-10-26T11:13:16.622448Z"
    }
   },
   "outputs": [
    {
     "data": {
      "text/html": [
       "<div>\n",
       "<style scoped>\n",
       "    .dataframe tbody tr th:only-of-type {\n",
       "        vertical-align: middle;\n",
       "    }\n",
       "\n",
       "    .dataframe tbody tr th {\n",
       "        vertical-align: top;\n",
       "    }\n",
       "\n",
       "    .dataframe thead th {\n",
       "        text-align: right;\n",
       "    }\n",
       "</style>\n",
       "<table border=\"1\" class=\"dataframe\">\n",
       "  <thead>\n",
       "    <tr style=\"text-align: right;\">\n",
       "      <th></th>\n",
       "      <th>entry_id</th>\n",
       "      <th>Severity</th>\n",
       "      <th>Reliability</th>\n",
       "      <th>Demographic Groups</th>\n",
       "      <th>Specific Needs Groups</th>\n",
       "      <th>Location</th>\n",
       "      <th>Information Date</th>\n",
       "      <th>Affected Groups</th>\n",
       "    </tr>\n",
       "  </thead>\n",
       "  <tbody>\n",
       "    <tr>\n",
       "      <th>0</th>\n",
       "      <td>556</td>\n",
       "      <td>No problem</td>\n",
       "      <td>[Usually]</td>\n",
       "      <td>[]</td>\n",
       "      <td>[]</td>\n",
       "      <td>[28391]</td>\n",
       "      <td>None</td>\n",
       "      <td>[Displaced, Affected]</td>\n",
       "    </tr>\n",
       "    <tr>\n",
       "      <th>1</th>\n",
       "      <td>558</td>\n",
       "      <td>Severe conditions</td>\n",
       "      <td>[Usually]</td>\n",
       "      <td>[]</td>\n",
       "      <td>[]</td>\n",
       "      <td>[28391]</td>\n",
       "      <td>None</td>\n",
       "      <td>[Displaced, Affected, Returnees]</td>\n",
       "    </tr>\n",
       "    <tr>\n",
       "      <th>2</th>\n",
       "      <td>559</td>\n",
       "      <td>Severe conditions</td>\n",
       "      <td>[Usually]</td>\n",
       "      <td>[]</td>\n",
       "      <td>[]</td>\n",
       "      <td>[28389]</td>\n",
       "      <td>None</td>\n",
       "      <td>[]</td>\n",
       "    </tr>\n",
       "    <tr>\n",
       "      <th>3</th>\n",
       "      <td>562</td>\n",
       "      <td>Severe conditions</td>\n",
       "      <td>[Usually]</td>\n",
       "      <td>[]</td>\n",
       "      <td>[]</td>\n",
       "      <td>[28389]</td>\n",
       "      <td>None</td>\n",
       "      <td>[]</td>\n",
       "    </tr>\n",
       "    <tr>\n",
       "      <th>4</th>\n",
       "      <td>563</td>\n",
       "      <td>No problem</td>\n",
       "      <td>[Usually]</td>\n",
       "      <td>[]</td>\n",
       "      <td>[]</td>\n",
       "      <td>[28389]</td>\n",
       "      <td>None</td>\n",
       "      <td>[]</td>\n",
       "    </tr>\n",
       "  </tbody>\n",
       "</table>\n",
       "</div>"
      ],
      "text/plain": [
       "   entry_id           Severity Reliability Demographic Groups  \\\n",
       "0       556         No problem   [Usually]                 []   \n",
       "1       558  Severe conditions   [Usually]                 []   \n",
       "2       559  Severe conditions   [Usually]                 []   \n",
       "3       562  Severe conditions   [Usually]                 []   \n",
       "4       563         No problem   [Usually]                 []   \n",
       "\n",
       "  Specific Needs Groups Location Information Date  \\\n",
       "0                    []  [28391]             None   \n",
       "1                    []  [28391]             None   \n",
       "2                    []  [28389]             None   \n",
       "3                    []  [28389]             None   \n",
       "4                    []  [28389]             None   \n",
       "\n",
       "                    Affected Groups  \n",
       "0             [Displaced, Affected]  \n",
       "1  [Displaced, Affected, Returnees]  \n",
       "2                                []  \n",
       "3                                []  \n",
       "4                                []  "
      ]
     },
     "execution_count": 37,
     "metadata": {},
     "output_type": "execute_result"
    }
   ],
   "source": [
    "exportdata_secondary_tags.head()"
   ]
  },
  {
   "cell_type": "code",
   "execution_count": 38,
   "metadata": {
    "ExecuteTime": {
     "end_time": "2021-10-26T11:13:16.838005Z",
     "start_time": "2021-10-26T11:13:16.640326Z"
    },
    "scrolled": true
   },
   "outputs": [],
   "source": [
    "entries_labeled_secondary_tags_cleaned = entries_labeled_secondary_tags[\n",
    "    ~entries_labeled_secondary_tags[\"excerpt\"].isna()]"
   ]
  },
  {
   "cell_type": "code",
   "execution_count": 39,
   "metadata": {
    "ExecuteTime": {
     "end_time": "2021-10-26T11:13:16.886571Z",
     "start_time": "2021-10-26T11:13:16.839532Z"
    },
    "scrolled": true
   },
   "outputs": [],
   "source": [
    "entries_labeled_secondary_tags_cleaned = entries_labeled_secondary_tags_cleaned.drop(\n",
    "    columns=[\n",
    "        'tabular_field_id', 'image_id', 'image_raw', 'created_at',\n",
    "        'modified_at', 'created_by_id', 'modified_by_id', 'entry_type',\n",
    "        'dropped_excerpt', 'highlight_hidden', 'verified',\n",
    "        'verification_last_changed_by_id', 'client_id', 'information_date',\n",
    "        'order'\n",
    "    ])"
   ]
  },
  {
   "cell_type": "code",
   "execution_count": 40,
   "metadata": {
    "ExecuteTime": {
     "end_time": "2021-10-26T11:13:16.892672Z",
     "start_time": "2021-10-26T11:13:16.888299Z"
    }
   },
   "outputs": [
    {
     "data": {
      "text/plain": [
       "((157469, 14),\n",
       " Index(['id', 'excerpt', 'analysis_framework_id', 'lead_id', 'project_id',\n",
       "        'title', 'entry_id', 'Severity', 'Reliability', 'Demographic Groups',\n",
       "        'Specific Needs Groups', 'Location', 'Information Date',\n",
       "        'Affected Groups'],\n",
       "       dtype='object'))"
      ]
     },
     "execution_count": 40,
     "metadata": {},
     "output_type": "execute_result"
    }
   ],
   "source": [
    "entries_labeled_secondary_tags_cleaned.shape, entries_labeled_secondary_tags_cleaned.columns"
   ]
  },
  {
   "cell_type": "markdown",
   "metadata": {},
   "source": [
    "### Reliability"
   ]
  },
  {
   "cell_type": "code",
   "execution_count": 41,
   "metadata": {
    "ExecuteTime": {
     "end_time": "2021-10-26T11:13:16.896792Z",
     "start_time": "2021-10-26T11:13:16.893955Z"
    }
   },
   "outputs": [],
   "source": [
    "reliability_raw_to_processed_dict = {\n",
    "    'Completely': 'Completely Reliable',\n",
    "    'Completely Reliable': 'Completely Reliable',\n",
    "    'Usually Reliable': 'Usually reliable',\n",
    "    'Usually': 'Usually reliable',\n",
    "    'Fairly Reliable': 'Fairly Reliable',\n",
    "    'Fairly': 'Fairly Reliable',\n",
    "    'Not Usually': 'Not Usually Reliable',\n",
    "    'Not Usually Reliable': 'Not Usually Reliable',\n",
    "    'Unreliable': 'Unreliable',\n",
    "    'Cannot be Used': 'Unreliable',\n",
    "    'Unreliable ': 'Unreliable',\n",
    "}"
   ]
  },
  {
   "cell_type": "code",
   "execution_count": 42,
   "metadata": {
    "ExecuteTime": {
     "end_time": "2021-10-26T11:13:17.055935Z",
     "start_time": "2021-10-26T11:13:16.898111Z"
    }
   },
   "outputs": [],
   "source": [
    "entries_labeled_secondary_tags_cleaned[\n",
    "    'Reliability'] = entries_labeled_secondary_tags_cleaned[\n",
    "        'Reliability'].apply(\n",
    "            lambda l: [reliability_raw_to_processed_dict[x] for x in l if x])"
   ]
  },
  {
   "cell_type": "markdown",
   "metadata": {},
   "source": [
    "## Dates"
   ]
  },
  {
   "cell_type": "code",
   "execution_count": 43,
   "metadata": {
    "ExecuteTime": {
     "end_time": "2021-10-26T11:13:17.062952Z",
     "start_time": "2021-10-26T11:13:17.057403Z"
    }
   },
   "outputs": [
    {
     "data": {
      "text/plain": [
       "0                 None\n",
       "1           22-03-2019\n",
       "4         [None, None]\n",
       "5                 None\n",
       "7                 None\n",
       "              ...     \n",
       "202837    [None, None]\n",
       "202838    [None, None]\n",
       "202839    [None, None]\n",
       "202840    [None, None]\n",
       "202841    [None, None]\n",
       "Name: Information Date, Length: 157469, dtype: object"
      ]
     },
     "execution_count": 43,
     "metadata": {},
     "output_type": "execute_result"
    }
   ],
   "source": [
    "entries_labeled_secondary_tags_cleaned[\"Information Date\"]"
   ]
  },
  {
   "cell_type": "code",
   "execution_count": 44,
   "metadata": {
    "ExecuteTime": {
     "end_time": "2021-10-26T11:13:17.140521Z",
     "start_time": "2021-10-26T11:13:17.064375Z"
    }
   },
   "outputs": [],
   "source": [
    "entries_labeled_secondary_tags_cleaned[\n",
    "    \"Information Date\"] = entries_labeled_secondary_tags_cleaned[\n",
    "        \"Information Date\"].apply(lambda x: x if x != [None, None] else None)"
   ]
  },
  {
   "cell_type": "code",
   "execution_count": 45,
   "metadata": {
    "ExecuteTime": {
     "end_time": "2021-10-26T11:13:17.159604Z",
     "start_time": "2021-10-26T11:13:17.141862Z"
    }
   },
   "outputs": [
    {
     "data": {
      "text/html": [
       "<div>\n",
       "<style scoped>\n",
       "    .dataframe tbody tr th:only-of-type {\n",
       "        vertical-align: middle;\n",
       "    }\n",
       "\n",
       "    .dataframe tbody tr th {\n",
       "        vertical-align: top;\n",
       "    }\n",
       "\n",
       "    .dataframe thead th {\n",
       "        text-align: right;\n",
       "    }\n",
       "</style>\n",
       "<table border=\"1\" class=\"dataframe\">\n",
       "  <thead>\n",
       "    <tr style=\"text-align: right;\">\n",
       "      <th></th>\n",
       "      <th>id</th>\n",
       "      <th>excerpt</th>\n",
       "      <th>analysis_framework_id</th>\n",
       "      <th>lead_id</th>\n",
       "      <th>project_id</th>\n",
       "      <th>title</th>\n",
       "      <th>entry_id</th>\n",
       "      <th>Severity</th>\n",
       "      <th>Reliability</th>\n",
       "      <th>Demographic Groups</th>\n",
       "      <th>Specific Needs Groups</th>\n",
       "      <th>Location</th>\n",
       "      <th>Information Date</th>\n",
       "      <th>Affected Groups</th>\n",
       "    </tr>\n",
       "  </thead>\n",
       "  <tbody>\n",
       "    <tr>\n",
       "      <th>0</th>\n",
       "      <td>16851</td>\n",
       "      <td>During the reporting week, IOM provided medica...</td>\n",
       "      <td>137</td>\n",
       "      <td>6334</td>\n",
       "      <td>322</td>\n",
       "      <td>Situation Analysis Generic Yemen</td>\n",
       "      <td>16851</td>\n",
       "      <td>No problem</td>\n",
       "      <td>[Usually reliable]</td>\n",
       "      <td>[]</td>\n",
       "      <td>[Pregnant or Lactating Women]</td>\n",
       "      <td>[27956]</td>\n",
       "      <td>None</td>\n",
       "      <td>[]</td>\n",
       "    </tr>\n",
       "    <tr>\n",
       "      <th>1</th>\n",
       "      <td>25639</td>\n",
       "      <td>On March 19, search-andrescue personnel airlif...</td>\n",
       "      <td>273</td>\n",
       "      <td>10607</td>\n",
       "      <td>878</td>\n",
       "      <td>IFRC - Cyclone Idai, March 2019</td>\n",
       "      <td>25639</td>\n",
       "      <td>No Problem</td>\n",
       "      <td>[Usually reliable]</td>\n",
       "      <td>[]</td>\n",
       "      <td>[]</td>\n",
       "      <td>[135799, 135800]</td>\n",
       "      <td>22-03-2019</td>\n",
       "      <td>[]</td>\n",
       "    </tr>\n",
       "    <tr>\n",
       "      <th>4</th>\n",
       "      <td>21660</td>\n",
       "      <td>According to The Guardian, more than 9,000 ref...</td>\n",
       "      <td>552</td>\n",
       "      <td>8644</td>\n",
       "      <td>788</td>\n",
       "      <td>Nigeria Situation Analysis (OA)</td>\n",
       "      <td>21660</td>\n",
       "      <td>None</td>\n",
       "      <td>[Usually reliable]</td>\n",
       "      <td>[]</td>\n",
       "      <td>[]</td>\n",
       "      <td>[29687]</td>\n",
       "      <td>None</td>\n",
       "      <td>[Displaced, Refugees, Affected]</td>\n",
       "    </tr>\n",
       "    <tr>\n",
       "      <th>5</th>\n",
       "      <td>16852</td>\n",
       "      <td>Distributed Rapid Response Mechanism (RMM) kit...</td>\n",
       "      <td>137</td>\n",
       "      <td>6334</td>\n",
       "      <td>322</td>\n",
       "      <td>Situation Analysis Generic Yemen</td>\n",
       "      <td>16852</td>\n",
       "      <td>No problem</td>\n",
       "      <td>[Usually reliable]</td>\n",
       "      <td>[]</td>\n",
       "      <td>[]</td>\n",
       "      <td>[27956]</td>\n",
       "      <td>None</td>\n",
       "      <td>[Displaced, Affected]</td>\n",
       "    </tr>\n",
       "    <tr>\n",
       "      <th>7</th>\n",
       "      <td>17917</td>\n",
       "      <td>Water represents the main nerve-racking proble...</td>\n",
       "      <td>137</td>\n",
       "      <td>6357</td>\n",
       "      <td>322</td>\n",
       "      <td>Situation Analysis Generic Yemen</td>\n",
       "      <td>17917</td>\n",
       "      <td>No problem</td>\n",
       "      <td>[Usually reliable]</td>\n",
       "      <td>[]</td>\n",
       "      <td>[]</td>\n",
       "      <td>[27956]</td>\n",
       "      <td>None</td>\n",
       "      <td>[]</td>\n",
       "    </tr>\n",
       "  </tbody>\n",
       "</table>\n",
       "</div>"
      ],
      "text/plain": [
       "      id                                            excerpt  \\\n",
       "0  16851  During the reporting week, IOM provided medica...   \n",
       "1  25639  On March 19, search-andrescue personnel airlif...   \n",
       "4  21660  According to The Guardian, more than 9,000 ref...   \n",
       "5  16852  Distributed Rapid Response Mechanism (RMM) kit...   \n",
       "7  17917  Water represents the main nerve-racking proble...   \n",
       "\n",
       "   analysis_framework_id  lead_id  project_id  \\\n",
       "0                    137     6334         322   \n",
       "1                    273    10607         878   \n",
       "4                    552     8644         788   \n",
       "5                    137     6334         322   \n",
       "7                    137     6357         322   \n",
       "\n",
       "                              title  entry_id    Severity         Reliability  \\\n",
       "0  Situation Analysis Generic Yemen     16851  No problem  [Usually reliable]   \n",
       "1   IFRC - Cyclone Idai, March 2019     25639  No Problem  [Usually reliable]   \n",
       "4   Nigeria Situation Analysis (OA)     21660        None  [Usually reliable]   \n",
       "5  Situation Analysis Generic Yemen     16852  No problem  [Usually reliable]   \n",
       "7  Situation Analysis Generic Yemen     17917  No problem  [Usually reliable]   \n",
       "\n",
       "  Demographic Groups          Specific Needs Groups          Location  \\\n",
       "0                 []  [Pregnant or Lactating Women]           [27956]   \n",
       "1                 []                             []  [135799, 135800]   \n",
       "4                 []                             []           [29687]   \n",
       "5                 []                             []           [27956]   \n",
       "7                 []                             []           [27956]   \n",
       "\n",
       "  Information Date                  Affected Groups  \n",
       "0             None                               []  \n",
       "1       22-03-2019                               []  \n",
       "4             None  [Displaced, Refugees, Affected]  \n",
       "5             None            [Displaced, Affected]  \n",
       "7             None                               []  "
      ]
     },
     "execution_count": 45,
     "metadata": {},
     "output_type": "execute_result"
    }
   ],
   "source": [
    "entries_labeled_secondary_tags_cleaned.head()"
   ]
  },
  {
   "cell_type": "markdown",
   "metadata": {},
   "source": [
    "## Location"
   ]
  },
  {
   "cell_type": "code",
   "execution_count": 46,
   "metadata": {
    "ExecuteTime": {
     "end_time": "2021-10-26T11:13:17.290147Z",
     "start_time": "2021-10-26T11:13:17.160663Z"
    }
   },
   "outputs": [],
   "source": [
    "geoarea_df = pd.read_csv('geo_geoarea.csv')"
   ]
  },
  {
   "cell_type": "code",
   "execution_count": 47,
   "metadata": {
    "ExecuteTime": {
     "end_time": "2021-10-26T11:13:17.723924Z",
     "start_time": "2021-10-26T11:13:17.291239Z"
    }
   },
   "outputs": [],
   "source": [
    "geoarea_cleaned = geoarea_df[['id', 'title']].dropna()\n",
    "geoarea_cleaned['title'] = geoarea_cleaned['title'].apply(\n",
    "    lambda x: x.replace('(the)', '').replace('(la)', '').lstrip().rstrip())\n",
    "\n",
    "list_dicts = geoarea_cleaned.to_dict(orient='split')['data']\n",
    "id_to_location = {}\n",
    "for row in list_dicts:\n",
    "    id_to_location[row[0]] = row[1]"
   ]
  },
  {
   "cell_type": "code",
   "execution_count": 48,
   "metadata": {
    "ExecuteTime": {
     "end_time": "2021-10-26T11:13:17.748248Z",
     "start_time": "2021-10-26T11:13:17.724980Z"
    },
    "scrolled": true
   },
   "outputs": [
    {
     "data": {
      "text/plain": [
       "[(41917, 'Ethiopia'),\n",
       " (41918, 'Addis Ababa'),\n",
       " (41919, 'Tigray'),\n",
       " (41920, 'Somali'),\n",
       " (41921, 'Hareri'),\n",
       " (41922, 'Gambela'),\n",
       " (41923, 'Beneshangul Gumu'),\n",
       " (41924, 'Amhara'),\n",
       " (41925, 'Afar'),\n",
       " (41926, 'Oromia')]"
      ]
     },
     "execution_count": 48,
     "metadata": {},
     "output_type": "execute_result"
    }
   ],
   "source": [
    "list(id_to_location.items())[:10]"
   ]
  },
  {
   "cell_type": "code",
   "execution_count": 49,
   "metadata": {
    "ExecuteTime": {
     "end_time": "2021-10-26T11:13:18.403257Z",
     "start_time": "2021-10-26T11:13:17.749301Z"
    },
    "scrolled": true
   },
   "outputs": [],
   "source": [
    "entries_labeled_secondary_tags_cleaned[\n",
    "    \"Location\"] = entries_labeled_secondary_tags_cleaned[\"Location\"].apply(\n",
    "        lambda x: [\n",
    "            id_to_location[int(loc_id)] for loc_id in x\n",
    "            if int(loc_id) in id_to_location\n",
    "        ])"
   ]
  },
  {
   "cell_type": "code",
   "execution_count": 50,
   "metadata": {
    "ExecuteTime": {
     "end_time": "2021-10-26T11:13:18.420402Z",
     "start_time": "2021-10-26T11:13:18.404663Z"
    }
   },
   "outputs": [
    {
     "data": {
      "text/html": [
       "<div>\n",
       "<style scoped>\n",
       "    .dataframe tbody tr th:only-of-type {\n",
       "        vertical-align: middle;\n",
       "    }\n",
       "\n",
       "    .dataframe tbody tr th {\n",
       "        vertical-align: top;\n",
       "    }\n",
       "\n",
       "    .dataframe thead th {\n",
       "        text-align: right;\n",
       "    }\n",
       "</style>\n",
       "<table border=\"1\" class=\"dataframe\">\n",
       "  <thead>\n",
       "    <tr style=\"text-align: right;\">\n",
       "      <th></th>\n",
       "      <th>id</th>\n",
       "      <th>excerpt</th>\n",
       "      <th>analysis_framework_id</th>\n",
       "      <th>lead_id</th>\n",
       "      <th>project_id</th>\n",
       "      <th>title</th>\n",
       "      <th>entry_id</th>\n",
       "      <th>Severity</th>\n",
       "      <th>Reliability</th>\n",
       "      <th>Demographic Groups</th>\n",
       "      <th>Specific Needs Groups</th>\n",
       "      <th>Location</th>\n",
       "      <th>Information Date</th>\n",
       "      <th>Affected Groups</th>\n",
       "    </tr>\n",
       "  </thead>\n",
       "  <tbody>\n",
       "    <tr>\n",
       "      <th>0</th>\n",
       "      <td>16851</td>\n",
       "      <td>During the reporting week, IOM provided medica...</td>\n",
       "      <td>137</td>\n",
       "      <td>6334</td>\n",
       "      <td>322</td>\n",
       "      <td>Situation Analysis Generic Yemen</td>\n",
       "      <td>16851</td>\n",
       "      <td>No problem</td>\n",
       "      <td>[Usually reliable]</td>\n",
       "      <td>[]</td>\n",
       "      <td>[Pregnant or Lactating Women]</td>\n",
       "      <td>[Yemen]</td>\n",
       "      <td>None</td>\n",
       "      <td>[]</td>\n",
       "    </tr>\n",
       "    <tr>\n",
       "      <th>1</th>\n",
       "      <td>25639</td>\n",
       "      <td>On March 19, search-andrescue personnel airlif...</td>\n",
       "      <td>273</td>\n",
       "      <td>10607</td>\n",
       "      <td>878</td>\n",
       "      <td>IFRC - Cyclone Idai, March 2019</td>\n",
       "      <td>25639</td>\n",
       "      <td>No Problem</td>\n",
       "      <td>[Usually reliable]</td>\n",
       "      <td>[]</td>\n",
       "      <td>[]</td>\n",
       "      <td>[Cidade Da Beira, Buzi]</td>\n",
       "      <td>22-03-2019</td>\n",
       "      <td>[]</td>\n",
       "    </tr>\n",
       "    <tr>\n",
       "      <th>4</th>\n",
       "      <td>21660</td>\n",
       "      <td>According to The Guardian, more than 9,000 ref...</td>\n",
       "      <td>552</td>\n",
       "      <td>8644</td>\n",
       "      <td>788</td>\n",
       "      <td>Nigeria Situation Analysis (OA)</td>\n",
       "      <td>21660</td>\n",
       "      <td>None</td>\n",
       "      <td>[Usually reliable]</td>\n",
       "      <td>[]</td>\n",
       "      <td>[]</td>\n",
       "      <td>[Nigeria]</td>\n",
       "      <td>None</td>\n",
       "      <td>[Displaced, Refugees, Affected]</td>\n",
       "    </tr>\n",
       "  </tbody>\n",
       "</table>\n",
       "</div>"
      ],
      "text/plain": [
       "      id                                            excerpt  \\\n",
       "0  16851  During the reporting week, IOM provided medica...   \n",
       "1  25639  On March 19, search-andrescue personnel airlif...   \n",
       "4  21660  According to The Guardian, more than 9,000 ref...   \n",
       "\n",
       "   analysis_framework_id  lead_id  project_id  \\\n",
       "0                    137     6334         322   \n",
       "1                    273    10607         878   \n",
       "4                    552     8644         788   \n",
       "\n",
       "                              title  entry_id    Severity         Reliability  \\\n",
       "0  Situation Analysis Generic Yemen     16851  No problem  [Usually reliable]   \n",
       "1   IFRC - Cyclone Idai, March 2019     25639  No Problem  [Usually reliable]   \n",
       "4   Nigeria Situation Analysis (OA)     21660        None  [Usually reliable]   \n",
       "\n",
       "  Demographic Groups          Specific Needs Groups                 Location  \\\n",
       "0                 []  [Pregnant or Lactating Women]                  [Yemen]   \n",
       "1                 []                             []  [Cidade Da Beira, Buzi]   \n",
       "4                 []                             []                [Nigeria]   \n",
       "\n",
       "  Information Date                  Affected Groups  \n",
       "0             None                               []  \n",
       "1       22-03-2019                               []  \n",
       "4             None  [Displaced, Refugees, Affected]  "
      ]
     },
     "execution_count": 50,
     "metadata": {},
     "output_type": "execute_result"
    }
   ],
   "source": [
    "entries_labeled_secondary_tags_cleaned.head(3)"
   ]
  },
  {
   "cell_type": "markdown",
   "metadata": {},
   "source": [
    "## Severity"
   ]
  },
  {
   "cell_type": "code",
   "execution_count": 51,
   "metadata": {
    "ExecuteTime": {
     "end_time": "2021-10-26T11:13:18.424664Z",
     "start_time": "2021-10-26T11:13:18.421580Z"
    }
   },
   "outputs": [],
   "source": [
    "severity_raw_to_processed_dict = {\n",
    "    'Critical': 'Critical',\n",
    "    'Severe': 'Critical',\n",
    "    'Critical Situation': 'Critical',\n",
    "    'Critical situation': 'Critical',\n",
    "    'Critical problem. Urgent intervention required': 'Critical',\n",
    "    'Severe Conditions': 'Critical',\n",
    "    'Severe conditions': 'Critical',\n",
    "    'Major': 'Major',\n",
    "    'Severe Problem. Intervention required': 'Major',\n",
    "    'Important problem. Middle to short term intervention required': 'Major',\n",
    "    'Situation of Major Concern': 'Major',\n",
    "    'Situation of major concern': 'Major',\n",
    "    'Of Concern. Monitoring required': 'Of Concern',\n",
    "    'Of Concern': 'Of Concern',\n",
    "    'Situation of Concern': 'Of Concern',\n",
    "    'No Problem': 'No problem',\n",
    "    'No problem': 'No problem',\n",
    "    'Minor Problem': 'Minor Problem',\n",
    "    'No problem/minor problem. No intervention required': 'INVALID CONVERSION',\n",
    "    'No problem/Minor Problem': 'INVALID CONVERSION',\n",
    "    '': None,\n",
    "    None: None\n",
    "}"
   ]
  },
  {
   "cell_type": "code",
   "execution_count": 52,
   "metadata": {
    "ExecuteTime": {
     "end_time": "2021-10-26T11:13:18.466110Z",
     "start_time": "2021-10-26T11:13:18.425706Z"
    }
   },
   "outputs": [],
   "source": [
    "entries_labeled_secondary_tags_cleaned[\n",
    "    \"Severity\"] = entries_labeled_secondary_tags_cleaned[\"Severity\"].apply(\n",
    "        lambda x: severity_raw_to_processed_dict[x])"
   ]
  },
  {
   "cell_type": "code",
   "execution_count": 53,
   "metadata": {
    "ExecuteTime": {
     "end_time": "2021-10-26T11:13:18.480389Z",
     "start_time": "2021-10-26T11:13:18.467291Z"
    }
   },
   "outputs": [
    {
     "data": {
      "text/html": [
       "<div>\n",
       "<style scoped>\n",
       "    .dataframe tbody tr th:only-of-type {\n",
       "        vertical-align: middle;\n",
       "    }\n",
       "\n",
       "    .dataframe tbody tr th {\n",
       "        vertical-align: top;\n",
       "    }\n",
       "\n",
       "    .dataframe thead th {\n",
       "        text-align: right;\n",
       "    }\n",
       "</style>\n",
       "<table border=\"1\" class=\"dataframe\">\n",
       "  <thead>\n",
       "    <tr style=\"text-align: right;\">\n",
       "      <th></th>\n",
       "      <th>id</th>\n",
       "      <th>excerpt</th>\n",
       "      <th>analysis_framework_id</th>\n",
       "      <th>lead_id</th>\n",
       "      <th>project_id</th>\n",
       "      <th>title</th>\n",
       "      <th>entry_id</th>\n",
       "      <th>Severity</th>\n",
       "      <th>Reliability</th>\n",
       "      <th>Demographic Groups</th>\n",
       "      <th>Specific Needs Groups</th>\n",
       "      <th>Location</th>\n",
       "      <th>Information Date</th>\n",
       "      <th>Affected Groups</th>\n",
       "    </tr>\n",
       "  </thead>\n",
       "  <tbody>\n",
       "    <tr>\n",
       "      <th>0</th>\n",
       "      <td>16851</td>\n",
       "      <td>During the reporting week, IOM provided medica...</td>\n",
       "      <td>137</td>\n",
       "      <td>6334</td>\n",
       "      <td>322</td>\n",
       "      <td>Situation Analysis Generic Yemen</td>\n",
       "      <td>16851</td>\n",
       "      <td>No problem</td>\n",
       "      <td>[Usually reliable]</td>\n",
       "      <td>[]</td>\n",
       "      <td>[Pregnant or Lactating Women]</td>\n",
       "      <td>[Yemen]</td>\n",
       "      <td>None</td>\n",
       "      <td>[]</td>\n",
       "    </tr>\n",
       "    <tr>\n",
       "      <th>1</th>\n",
       "      <td>25639</td>\n",
       "      <td>On March 19, search-andrescue personnel airlif...</td>\n",
       "      <td>273</td>\n",
       "      <td>10607</td>\n",
       "      <td>878</td>\n",
       "      <td>IFRC - Cyclone Idai, March 2019</td>\n",
       "      <td>25639</td>\n",
       "      <td>No problem</td>\n",
       "      <td>[Usually reliable]</td>\n",
       "      <td>[]</td>\n",
       "      <td>[]</td>\n",
       "      <td>[Cidade Da Beira, Buzi]</td>\n",
       "      <td>22-03-2019</td>\n",
       "      <td>[]</td>\n",
       "    </tr>\n",
       "    <tr>\n",
       "      <th>4</th>\n",
       "      <td>21660</td>\n",
       "      <td>According to The Guardian, more than 9,000 ref...</td>\n",
       "      <td>552</td>\n",
       "      <td>8644</td>\n",
       "      <td>788</td>\n",
       "      <td>Nigeria Situation Analysis (OA)</td>\n",
       "      <td>21660</td>\n",
       "      <td>None</td>\n",
       "      <td>[Usually reliable]</td>\n",
       "      <td>[]</td>\n",
       "      <td>[]</td>\n",
       "      <td>[Nigeria]</td>\n",
       "      <td>None</td>\n",
       "      <td>[Displaced, Refugees, Affected]</td>\n",
       "    </tr>\n",
       "  </tbody>\n",
       "</table>\n",
       "</div>"
      ],
      "text/plain": [
       "      id                                            excerpt  \\\n",
       "0  16851  During the reporting week, IOM provided medica...   \n",
       "1  25639  On March 19, search-andrescue personnel airlif...   \n",
       "4  21660  According to The Guardian, more than 9,000 ref...   \n",
       "\n",
       "   analysis_framework_id  lead_id  project_id  \\\n",
       "0                    137     6334         322   \n",
       "1                    273    10607         878   \n",
       "4                    552     8644         788   \n",
       "\n",
       "                              title  entry_id    Severity         Reliability  \\\n",
       "0  Situation Analysis Generic Yemen     16851  No problem  [Usually reliable]   \n",
       "1   IFRC - Cyclone Idai, March 2019     25639  No problem  [Usually reliable]   \n",
       "4   Nigeria Situation Analysis (OA)     21660        None  [Usually reliable]   \n",
       "\n",
       "  Demographic Groups          Specific Needs Groups                 Location  \\\n",
       "0                 []  [Pregnant or Lactating Women]                  [Yemen]   \n",
       "1                 []                             []  [Cidade Da Beira, Buzi]   \n",
       "4                 []                             []                [Nigeria]   \n",
       "\n",
       "  Information Date                  Affected Groups  \n",
       "0             None                               []  \n",
       "1       22-03-2019                               []  \n",
       "4             None  [Displaced, Refugees, Affected]  "
      ]
     },
     "execution_count": 53,
     "metadata": {},
     "output_type": "execute_result"
    }
   ],
   "source": [
    "entries_labeled_secondary_tags_cleaned.head(3)"
   ]
  },
  {
   "cell_type": "markdown",
   "metadata": {},
   "source": [
    "### Move some tags from Specific Needs Groups to Affected Groups"
   ]
  },
  {
   "cell_type": "code",
   "execution_count": 54,
   "metadata": {
    "ExecuteTime": {
     "end_time": "2021-10-26T11:13:18.483664Z",
     "start_time": "2021-10-26T11:13:18.481560Z"
    }
   },
   "outputs": [],
   "source": [
    "to_be_moved = {\n",
    "    'Unregistered Refugee', 'No legal documentation',\n",
    "    'People with irregular status', 'Stateless'\n",
    "}"
   ]
  },
  {
   "cell_type": "code",
   "execution_count": 55,
   "metadata": {
    "ExecuteTime": {
     "end_time": "2021-10-26T11:13:18.487960Z",
     "start_time": "2021-10-26T11:13:18.484709Z"
    }
   },
   "outputs": [
    {
     "data": {
      "text/plain": [
       "Index(['id', 'excerpt', 'analysis_framework_id', 'lead_id', 'project_id',\n",
       "       'title', 'entry_id', 'Severity', 'Reliability', 'Demographic Groups',\n",
       "       'Specific Needs Groups', 'Location', 'Information Date',\n",
       "       'Affected Groups'],\n",
       "      dtype='object')"
      ]
     },
     "execution_count": 55,
     "metadata": {},
     "output_type": "execute_result"
    }
   ],
   "source": [
    "entries_labeled_secondary_tags_cleaned.columns"
   ]
  },
  {
   "cell_type": "code",
   "execution_count": 56,
   "metadata": {
    "ExecuteTime": {
     "end_time": "2021-10-26T11:13:18.491024Z",
     "start_time": "2021-10-26T11:13:18.488969Z"
    }
   },
   "outputs": [],
   "source": [
    "def unique_values(df, col):\n",
    "    uv = set()\n",
    "    for x in df[col]:\n",
    "        uv.update(x)\n",
    "    return uv"
   ]
  },
  {
   "cell_type": "code",
   "execution_count": 57,
   "metadata": {
    "ExecuteTime": {
     "end_time": "2021-10-26T11:13:18.529207Z",
     "start_time": "2021-10-26T11:13:18.492056Z"
    },
    "scrolled": true
   },
   "outputs": [
    {
     "data": {
      "text/plain": [
       "{' Separated Children',\n",
       " 'Child Head of Household',\n",
       " 'Chronically Ill',\n",
       " 'Chronically ill',\n",
       " 'Elderly Head of Household',\n",
       " 'Ethnic minority',\n",
       " 'Female Head of Household',\n",
       " 'GBV survivors',\n",
       " 'Indigenous people',\n",
       " 'LGBTQI',\n",
       " 'LGBTQI community member',\n",
       " 'LGBTQI+',\n",
       " 'Minorities',\n",
       " 'No legal documentation',\n",
       " 'People with irregular status',\n",
       " 'Person with Disabilities',\n",
       " 'Persons with Disability',\n",
       " 'Pregnant or Lactating Women',\n",
       " 'Religious minority',\n",
       " 'Separated Children',\n",
       " 'Single Women (including Widows)',\n",
       " 'Stateless',\n",
       " 'Unaccompanied Children (without Caregiver)',\n",
       " 'Unaccompanied Children (without caregiver)',\n",
       " 'Unaccompanied or Separated Children (UASC)',\n",
       " 'Unregistered Refugee'}"
      ]
     },
     "execution_count": 57,
     "metadata": {},
     "output_type": "execute_result"
    }
   ],
   "source": [
    "unique_values(entries_labeled_secondary_tags_cleaned, \"Specific Needs Groups\")"
   ]
  },
  {
   "cell_type": "code",
   "execution_count": 58,
   "metadata": {
    "ExecuteTime": {
     "end_time": "2021-10-26T11:13:19.750180Z",
     "start_time": "2021-10-26T11:13:18.530233Z"
    }
   },
   "outputs": [],
   "source": [
    "def move(row):\n",
    "    ag = set(row[13])\n",
    "    ag.update([x for x in row[10] if x in to_be_moved])\n",
    "    return list(ag)\n",
    "\n",
    "\n",
    "entries_labeled_secondary_tags_cleaned[\n",
    "    'Affected Groups'] = entries_labeled_secondary_tags_cleaned.apply(move,\n",
    "                                                                      axis=1)"
   ]
  },
  {
   "cell_type": "code",
   "execution_count": 59,
   "metadata": {
    "ExecuteTime": {
     "end_time": "2021-10-26T11:13:19.756678Z",
     "start_time": "2021-10-26T11:13:19.751344Z"
    },
    "scrolled": true
   },
   "outputs": [
    {
     "data": {
      "text/plain": [
       "0                                                        []\n",
       "1                                                        []\n",
       "4                           [Displaced, Refugees, Affected]\n",
       "5                                     [Displaced, Affected]\n",
       "7                                                        []\n",
       "                                ...                        \n",
       "202837    [Migrants, Refugees, Affected, Displaced, Perm...\n",
       "202838    [Migrants, Refugees, Affected, Displaced, Perm...\n",
       "202839    [Migrants, Refugees, Affected, Displaced, Perm...\n",
       "202840    [Migrants, Refugees, Affected, Displaced, Perm...\n",
       "202841    [Migrants, Refugees, Affected, Displaced, Perm...\n",
       "Name: Affected Groups, Length: 157469, dtype: object"
      ]
     },
     "execution_count": 59,
     "metadata": {},
     "output_type": "execute_result"
    }
   ],
   "source": [
    "entries_labeled_secondary_tags_cleaned['Affected Groups']"
   ]
  },
  {
   "cell_type": "markdown",
   "metadata": {
    "ExecuteTime": {
     "end_time": "2021-10-18T14:41:29.102885Z",
     "start_time": "2021-10-18T14:41:29.088872Z"
    }
   },
   "source": [
    "### Specific Needs Groups"
   ]
  },
  {
   "cell_type": "code",
   "execution_count": 60,
   "metadata": {
    "ExecuteTime": {
     "end_time": "2021-10-26T11:13:19.761119Z",
     "start_time": "2021-10-26T11:13:19.757839Z"
    }
   },
   "outputs": [],
   "source": [
    "specific_needs_groups_raw_to_processed_dict = {\n",
    "    ' Separated Children': 'Unaccompanied or Separated Children',\n",
    "    'Separated Children': 'Unaccompanied or Separated Children',\n",
    "    'Unaccompanied Children (without caregiver)':\n",
    "    'Unaccompanied or Separated Children',\n",
    "    'Unaccompanied Children (without Caregiver)':\n",
    "    'Unaccompanied or Separated Children',\n",
    "    'Unaccompanied or Separated Children (UASC)':\n",
    "    'Unaccompanied or Separated Children',\n",
    "    'Child Head of Household': 'Child Head of Household',\n",
    "    'Elderly Head of Household': 'Elderly Head of Household',\n",
    "    'Female Head of Household': 'Female Head of Household',\n",
    "    'GBV survivors': 'GBV survivors',\n",
    "    'Pregnant or Lactating Women': 'Pregnant or Lactating Women',\n",
    "    'Single Women (including Widows)': 'Single Women (including Widows)',\n",
    "    'Ethnic minority': 'Minorities',\n",
    "    'Indigenous people': 'Indigenous people',\n",
    "    'LGBTQI': 'LGBTQI+',\n",
    "    'LGBTQI community member': 'LGBTQI+',\n",
    "    'LGBTQI+': 'LGBTQI+',\n",
    "    'Minorities': 'Minorities',\n",
    "    'Religious minority': 'Minorities',\n",
    "    'Unregistered Refugee':None,\n",
    "    'No legal documentation':None,\n",
    "    'People with irregular status':None,\n",
    "    'Stateless':None,\n",
    "    'Person with Disabilities': 'Persons with Disability',\n",
    "    'Persons with Disability': 'Persons with Disability',\n",
    "    'Chronically Ill': 'Chronically Ill',\n",
    "    'Chronically ill': 'Chronically Ill'\n",
    "}"
   ]
  },
  {
   "cell_type": "code",
   "execution_count": 61,
   "metadata": {
    "ExecuteTime": {
     "end_time": "2021-10-26T11:13:19.871347Z",
     "start_time": "2021-10-26T11:13:19.762327Z"
    }
   },
   "outputs": [],
   "source": [
    "entries_labeled_secondary_tags_cleaned[\n",
    "    \"Specific Needs Groups\"] = entries_labeled_secondary_tags_cleaned[\n",
    "        \"Specific Needs Groups\"].apply(lambda x: list(\n",
    "            set([\n",
    "                specific_needs_groups_raw_to_processed_dict[e] for e in x\n",
    "                if not e in to_be_moved\n",
    "            ])))"
   ]
  },
  {
   "cell_type": "markdown",
   "metadata": {},
   "source": [
    "### Demographic Groups"
   ]
  },
  {
   "cell_type": "code",
   "execution_count": 62,
   "metadata": {
    "ExecuteTime": {
     "end_time": "2021-10-26T11:13:19.879419Z",
     "start_time": "2021-10-26T11:13:19.872553Z"
    }
   },
   "outputs": [],
   "source": [
    "demographic_groups_raw_to_processed_dict = {\n",
    "    'Adult (18 to 59 years old)':\n",
    "    ['Adult Female (18 to 59 years old)', 'Adult Male (18 to 59 years old)'],\n",
    "    'Adult (18-59 years old)':\n",
    "    ['Adult Female (18 to 59 years old)', 'Adult Male (18 to 59 years old)'],\n",
    "    'Adult Female (18 to 59 years old)': ['Adult Female (18 to 59 years old)'],\n",
    "    'Adult female (18 to 59 years old)': ['Adult Female (18 to 59 years old)'],\n",
    "    'Adult female (18-59 years old)': ['Adult Female (18 to 59 years old)'],\n",
    "    'Adult Male (18 to 59 years old)': ['Adult Male (18 to 59 years old)'],\n",
    "    'Adult (25 to 59 years old)':\n",
    "    ['Adult Female (18 to 59 years old)', 'Adult Male (18 to 59 years old)'],\n",
    "    'Youth (18 to 24 years old)':\n",
    "    ['Adult Female (18 to 59 years old)', 'Adult Male (18 to 59 years old)'],\n",
    "    'Adult Female (25 to 59 years old)': ['Adult Female (18 to 59 years old)'],\n",
    "    'Adult Male (25 to 59 years old)': ['Adult Male (18 to 59 years old)'],\n",
    "    'Youth Female (18 to 24 years old)': ['Adult Female (18 to 59 years old)'],\n",
    "    'Youth Male (18 to 24 years old)': ['Adult Male (18 to 59 years old)'],\n",
    "    'Adult male (18-59 years old)': ['Adult Male (18 to 59 years old)'],\n",
    "    'Female Older Persons (60+ years old)':\n",
    "    ['Older Persons Female (60+ years old)'],\n",
    "    'Male Older Persons (60+ years old)':\n",
    "    ['Older Persons Male (60+ years old)'],\n",
    "    'Older Persons (60+ years old)': [\n",
    "        'Older Persons Female (60+ years old)',\n",
    "        'Older Persons Male (60+ years old)'\n",
    "    ],\n",
    "    'Older Persons Female (60+ years old)':\n",
    "    ['Older Persons Female (60+ years old)'],\n",
    "    'Older Persons Male (60+ years old)':\n",
    "    ['Older Persons Male (60+ years old)'],\n",
    "    'Older persons (60+ years old)': [\n",
    "        'Older Persons Female (60+ years old)',\n",
    "        'Older Persons Male (60+ years old)'\n",
    "    ],\n",
    "    'Older persons female (60+ years old)':\n",
    "    ['Older Persons Female (60+ years old)'],\n",
    "    'Older persons male (60+ years old)':\n",
    "    ['Older Persons Male (60+ years old)'],\n",
    "    'Infants/Toddlers (<5 years old)': ['Infants/Toddlers (<5 years old)'],\n",
    "    'Infants/toddlers (<5)': ['Infants/Toddlers (<5 years old)'],\n",
    "    'Infants (0-2 years old)': ['Infants/Toddlers (<5 years old)'],\n",
    "    'Children (0-4 years old)': ['Infants/Toddlers (<5 years old)'],\n",
    "\n",
    "    #'Children Male (5 to 1 years old)\n",
    "    'Children (5 to 11 years old)': [\n",
    "        'Children/Youth Male (5 to 17 years old)',\n",
    "        'Children/Youth Female (5 to 17 years old)'\n",
    "    ],\n",
    "    'Children (5 to 17 years old)': [\n",
    "        'Children/Youth Male (5 to 17 years old)',\n",
    "        'Children/Youth Female (5 to 17 years old)'\n",
    "    ],\n",
    "    'Children (5-11 years old)': [\n",
    "        'Children/Youth Male (5 to 17 years old)',\n",
    "        'Children/Youth Female (5 to 17 years old)'\n",
    "    ],\n",
    "    'Children (< 18 years)': [\n",
    "        'Children/Youth Male (5 to 17 years old)',\n",
    "        'Children/Youth Female (5 to 17 years old)'\n",
    "    ],\n",
    "    'Children Female  <18 years old':\n",
    "    ['Children/Youth Female (5 to 17 years old)'],\n",
    "    'Children Female (5 to 11 years old)':\n",
    "    ['Children/Youth Female (5 to 17 years old)'],\n",
    "    'Children Female (5 to 17 years old)': [\n",
    "        'Children/Youth Female (5 to 17 years old)'\n",
    "    ],\n",
    "    'Children Female (< 18 years)': [\n",
    "        'Children/Youth Female (5 to 17 years old)'\n",
    "    ],\n",
    "    'Children Male (5 to 11 years old)': [\n",
    "        'Children/Youth Male (5 to 17 years old)'\n",
    "    ],\n",
    "    'Children Male (< 18 years)': ['Children/Youth Male (5 to 17 years old)'],\n",
    "    ###\n",
    "    'Children <18 years old': [\n",
    "        'Children/Youth Male (5 to 17 years old)',\n",
    "        'Children/Youth Female (5 to 17 years old)'\n",
    "    ],\n",
    "    ###\n",
    "    'Children Male < 18 years old': [\n",
    "        'Children/Youth Male (5 to 17 years old)'\n",
    "    ],\n",
    "    'Children female (5-11 years old)': [\n",
    "        'Children/Youth Female (5 to 17 years old)'\n",
    "    ],\n",
    "    'Children male (5-11 years old)': [\n",
    "        'Children/Youth Male (5 to 17 years old)'\n",
    "    ],\n",
    "    'Youth (12 to 17 years old)': [\n",
    "        'Children/Youth Male (5 to 17 years old)',\n",
    "        'Children/Youth Female (5 to 17 years old)'\n",
    "    ],\n",
    "    'Youth (12-17 years old)': [\n",
    "        'Children/Youth Male (5 to 17 years old)',\n",
    "        'Children/Youth Female (5 to 17 years old)'\n",
    "    ],\n",
    "    'Youth Female (12 to 17 years old)': [\n",
    "        'Children/Youth Female (5 to 17 years old)'\n",
    "    ],\n",
    "    'Youth Male (12 to 17 years old)': [\n",
    "        'Children/Youth Male (5 to 17 years old)'\n",
    "    ],\n",
    "    'Youth female (12-17 years old)': [\n",
    "        'Children/Youth Female (5 to 17 years old)'\n",
    "    ],\n",
    "    'Youth male (12-17 years old)': [\n",
    "        'Children/Youth Male (5 to 17 years old)'\n",
    "    ],\n",
    "    'Children Male (5 to 1 years old)': [\n",
    "        'Children/Youth Male (5 to 17 years old)'\n",
    "    ],\n",
    "    'Female':\n",
    "    'Female',\n",
    "    'Male':\n",
    "    'Male',\n",
    "}"
   ]
  },
  {
   "cell_type": "code",
   "execution_count": 63,
   "metadata": {
    "ExecuteTime": {
     "end_time": "2021-10-26T11:13:19.960789Z",
     "start_time": "2021-10-26T11:13:19.880700Z"
    }
   },
   "outputs": [],
   "source": [
    "entries_labeled_secondary_tags_cleaned[\n",
    "    \"Demographic Groups\"] = entries_labeled_secondary_tags_cleaned[\n",
    "        \"Demographic Groups\"].apply(\n",
    "            lambda x: [demographic_groups_raw_to_processed_dict[e] for e in x])"
   ]
  },
  {
   "cell_type": "code",
   "execution_count": 64,
   "metadata": {
    "ExecuteTime": {
     "end_time": "2021-10-26T11:13:20.042703Z",
     "start_time": "2021-10-26T11:13:19.962000Z"
    }
   },
   "outputs": [],
   "source": [
    "entries_labeled_secondary_tags_cleaned[\n",
    "    \"Demographic Groups\"] = entries_labeled_secondary_tags_cleaned[\n",
    "        \"Demographic Groups\"].apply(flatten)"
   ]
  },
  {
   "cell_type": "markdown",
   "metadata": {},
   "source": [
    "### Affected Groups"
   ]
  },
  {
   "cell_type": "code",
   "execution_count": 65,
   "metadata": {
    "ExecuteTime": {
     "end_time": "2021-10-26T11:13:20.046002Z",
     "start_time": "2021-10-26T11:13:20.043832Z"
    }
   },
   "outputs": [],
   "source": [
    "# def clean_names(x):\n",
    "#     return x.replace('Others of Concern',\n",
    "#                      'Others').replace('affected', 'Affected')\n",
    "\n",
    "\n",
    "# def preprocess_lists_affected_groups(ag):\n",
    "#     return list(set([clean_names(x) for x in ag]))\n",
    "\n",
    "\n",
    "# def preprocess_lists_affected_groups(t):\n",
    "#     return list(\n",
    "#         np.unique([\n",
    "#             clean_names(item) for sublist in t for item in sublist\n",
    "#             if item not in [\n",
    "#                 '',\n",
    "#                 'Out of Venezuela',\n",
    "#                 'Back to Venezuela',\n",
    "#                 'All',\n",
    "#                 'Stateless',\n",
    "#                 'Non Host',\n",
    "#                 'Not Affected',\n",
    "#                 'Not affected',\n",
    "#                 'Pendular',\n",
    "#             ]\n",
    "#         ]))"
   ]
  },
  {
   "cell_type": "code",
   "execution_count": 66,
   "metadata": {
    "ExecuteTime": {
     "end_time": "2021-10-26T11:13:20.048570Z",
     "start_time": "2021-10-26T11:13:20.046911Z"
    }
   },
   "outputs": [],
   "source": [
    "# entries_labeled_secondary_tags_cleaned[\n",
    "#     'Affected Groups'] = entries_labeled_secondary_tags_cleaned[\n",
    "#         'Affected Groups'].apply(preprocess_lists_affected_groups)"
   ]
  },
  {
   "cell_type": "code",
   "execution_count": 67,
   "metadata": {
    "ExecuteTime": {
     "end_time": "2021-10-26T11:13:20.051024Z",
     "start_time": "2021-10-26T11:13:20.049592Z"
    }
   },
   "outputs": [],
   "source": [
    "# entries_labeled_secondary_tags_cleaned.head(5)"
   ]
  },
  {
   "cell_type": "markdown",
   "metadata": {},
   "source": [
    "### Final Processing of the Dataframe"
   ]
  },
  {
   "cell_type": "code",
   "execution_count": 68,
   "metadata": {
    "ExecuteTime": {
     "end_time": "2021-10-26T11:13:20.063143Z",
     "start_time": "2021-10-26T11:13:20.052033Z"
    }
   },
   "outputs": [],
   "source": [
    "entries_cleaned_final = entries.drop(columns=[\n",
    "    'tabular_field_id', 'image_id', 'image_raw', 'created_at', 'modified_at',\n",
    "    'created_by_id', 'modified_by_id', 'dropped_excerpt', 'highlight_hidden',\n",
    "    'verified', 'verification_last_changed_by_id', 'client_id', 'title',\n",
    "    'entry_type', 'information_date', 'order'\n",
    "]).rename(columns={'id': 'entry_id'})"
   ]
  },
  {
   "cell_type": "code",
   "execution_count": 69,
   "metadata": {
    "ExecuteTime": {
     "end_time": "2021-10-26T11:13:20.101886Z",
     "start_time": "2021-10-26T11:13:20.064164Z"
    }
   },
   "outputs": [],
   "source": [
    "entries_labeled_secondary_tags_cleaned = entries_labeled_secondary_tags_cleaned.drop(\n",
    "    columns=['title', 'entry_id']).rename(\n",
    "        columns={\n",
    "            'id': 'entry_id',\n",
    "            \"Location\": 'geo_location',\n",
    "            \"Specific Needs Groups\": 'specific_needs_groups',\n",
    "            \"Severity\": 'severity',\n",
    "            \"Demographic Groups\": 'demographic_groups',\n",
    "            'Reliability': 'reliability',\n",
    "            \"Affected Groups\": 'affected_groups',\n",
    "            \"Information Date\": \"info_date\"\n",
    "        })"
   ]
  },
  {
   "cell_type": "code",
   "execution_count": 70,
   "metadata": {
    "ExecuteTime": {
     "end_time": "2021-10-26T11:13:20.151790Z",
     "start_time": "2021-10-26T11:13:20.103291Z"
    }
   },
   "outputs": [],
   "source": [
    "entries_labeled_secondary_tags_cleaned = entries_labeled_secondary_tags_cleaned[~(\n",
    "    entries_labeled_secondary_tags_cleaned.analysis_framework_id.isna()\n",
    "    | entries_labeled_secondary_tags_cleaned.entry_id.isna()\n",
    "    | entries_labeled_secondary_tags_cleaned.lead_id.isna()\n",
    "    | entries_labeled_secondary_tags_cleaned.excerpt.isna())]"
   ]
  },
  {
   "cell_type": "code",
   "execution_count": 71,
   "metadata": {
    "ExecuteTime": {
     "end_time": "2021-10-26T11:13:20.178444Z",
     "start_time": "2021-10-26T11:13:20.153165Z"
    }
   },
   "outputs": [],
   "source": [
    "entries_labeled_secondary_tags_cleaned[\n",
    "    'info_date'] = entries_labeled_secondary_tags_cleaned['info_date'].fillna(\n",
    "        \"UNKNOWN\")"
   ]
  },
  {
   "cell_type": "code",
   "execution_count": 72,
   "metadata": {
    "ExecuteTime": {
     "end_time": "2021-10-26T11:13:20.197156Z",
     "start_time": "2021-10-26T11:13:20.180082Z"
    }
   },
   "outputs": [
    {
     "data": {
      "text/html": [
       "<div>\n",
       "<style scoped>\n",
       "    .dataframe tbody tr th:only-of-type {\n",
       "        vertical-align: middle;\n",
       "    }\n",
       "\n",
       "    .dataframe tbody tr th {\n",
       "        vertical-align: top;\n",
       "    }\n",
       "\n",
       "    .dataframe thead th {\n",
       "        text-align: right;\n",
       "    }\n",
       "</style>\n",
       "<table border=\"1\" class=\"dataframe\">\n",
       "  <thead>\n",
       "    <tr style=\"text-align: right;\">\n",
       "      <th></th>\n",
       "      <th>entry_id</th>\n",
       "      <th>excerpt</th>\n",
       "      <th>analysis_framework_id</th>\n",
       "      <th>lead_id</th>\n",
       "      <th>project_id</th>\n",
       "      <th>severity</th>\n",
       "      <th>reliability</th>\n",
       "      <th>demographic_groups</th>\n",
       "      <th>specific_needs_groups</th>\n",
       "      <th>geo_location</th>\n",
       "      <th>info_date</th>\n",
       "      <th>affected_groups</th>\n",
       "    </tr>\n",
       "  </thead>\n",
       "  <tbody>\n",
       "    <tr>\n",
       "      <th>0</th>\n",
       "      <td>16851</td>\n",
       "      <td>During the reporting week, IOM provided medica...</td>\n",
       "      <td>137</td>\n",
       "      <td>6334</td>\n",
       "      <td>322</td>\n",
       "      <td>No problem</td>\n",
       "      <td>[Usually reliable]</td>\n",
       "      <td>[]</td>\n",
       "      <td>[Pregnant or Lactating Women]</td>\n",
       "      <td>[Yemen]</td>\n",
       "      <td>UNKNOWN</td>\n",
       "      <td>[]</td>\n",
       "    </tr>\n",
       "    <tr>\n",
       "      <th>1</th>\n",
       "      <td>25639</td>\n",
       "      <td>On March 19, search-andrescue personnel airlif...</td>\n",
       "      <td>273</td>\n",
       "      <td>10607</td>\n",
       "      <td>878</td>\n",
       "      <td>No problem</td>\n",
       "      <td>[Usually reliable]</td>\n",
       "      <td>[]</td>\n",
       "      <td>[]</td>\n",
       "      <td>[Cidade Da Beira, Buzi]</td>\n",
       "      <td>22-03-2019</td>\n",
       "      <td>[]</td>\n",
       "    </tr>\n",
       "    <tr>\n",
       "      <th>4</th>\n",
       "      <td>21660</td>\n",
       "      <td>According to The Guardian, more than 9,000 ref...</td>\n",
       "      <td>552</td>\n",
       "      <td>8644</td>\n",
       "      <td>788</td>\n",
       "      <td>None</td>\n",
       "      <td>[Usually reliable]</td>\n",
       "      <td>[]</td>\n",
       "      <td>[]</td>\n",
       "      <td>[Nigeria]</td>\n",
       "      <td>UNKNOWN</td>\n",
       "      <td>[Displaced, Refugees, Affected]</td>\n",
       "    </tr>\n",
       "    <tr>\n",
       "      <th>5</th>\n",
       "      <td>16852</td>\n",
       "      <td>Distributed Rapid Response Mechanism (RMM) kit...</td>\n",
       "      <td>137</td>\n",
       "      <td>6334</td>\n",
       "      <td>322</td>\n",
       "      <td>No problem</td>\n",
       "      <td>[Usually reliable]</td>\n",
       "      <td>[]</td>\n",
       "      <td>[]</td>\n",
       "      <td>[Yemen]</td>\n",
       "      <td>UNKNOWN</td>\n",
       "      <td>[Displaced, Affected]</td>\n",
       "    </tr>\n",
       "    <tr>\n",
       "      <th>7</th>\n",
       "      <td>17917</td>\n",
       "      <td>Water represents the main nerve-racking proble...</td>\n",
       "      <td>137</td>\n",
       "      <td>6357</td>\n",
       "      <td>322</td>\n",
       "      <td>No problem</td>\n",
       "      <td>[Usually reliable]</td>\n",
       "      <td>[]</td>\n",
       "      <td>[]</td>\n",
       "      <td>[Yemen]</td>\n",
       "      <td>UNKNOWN</td>\n",
       "      <td>[]</td>\n",
       "    </tr>\n",
       "  </tbody>\n",
       "</table>\n",
       "</div>"
      ],
      "text/plain": [
       "   entry_id                                            excerpt  \\\n",
       "0     16851  During the reporting week, IOM provided medica...   \n",
       "1     25639  On March 19, search-andrescue personnel airlif...   \n",
       "4     21660  According to The Guardian, more than 9,000 ref...   \n",
       "5     16852  Distributed Rapid Response Mechanism (RMM) kit...   \n",
       "7     17917  Water represents the main nerve-racking proble...   \n",
       "\n",
       "   analysis_framework_id  lead_id  project_id    severity         reliability  \\\n",
       "0                    137     6334         322  No problem  [Usually reliable]   \n",
       "1                    273    10607         878  No problem  [Usually reliable]   \n",
       "4                    552     8644         788        None  [Usually reliable]   \n",
       "5                    137     6334         322  No problem  [Usually reliable]   \n",
       "7                    137     6357         322  No problem  [Usually reliable]   \n",
       "\n",
       "  demographic_groups          specific_needs_groups             geo_location  \\\n",
       "0                 []  [Pregnant or Lactating Women]                  [Yemen]   \n",
       "1                 []                             []  [Cidade Da Beira, Buzi]   \n",
       "4                 []                             []                [Nigeria]   \n",
       "5                 []                             []                  [Yemen]   \n",
       "7                 []                             []                  [Yemen]   \n",
       "\n",
       "    info_date                  affected_groups  \n",
       "0     UNKNOWN                               []  \n",
       "1  22-03-2019                               []  \n",
       "4     UNKNOWN  [Displaced, Refugees, Affected]  \n",
       "5     UNKNOWN            [Displaced, Affected]  \n",
       "7     UNKNOWN                               []  "
      ]
     },
     "execution_count": 72,
     "metadata": {},
     "output_type": "execute_result"
    }
   ],
   "source": [
    "entries_labeled_secondary_tags_cleaned.head()"
   ]
  },
  {
   "cell_type": "code",
   "execution_count": 73,
   "metadata": {
    "ExecuteTime": {
     "end_time": "2021-10-26T11:13:20.201856Z",
     "start_time": "2021-10-26T11:13:20.198634Z"
    }
   },
   "outputs": [
    {
     "data": {
      "text/plain": [
       "(157469, 12)"
      ]
     },
     "execution_count": 73,
     "metadata": {},
     "output_type": "execute_result"
    }
   ],
   "source": [
    "entries_labeled_secondary_tags_cleaned.shape"
   ]
  },
  {
   "cell_type": "markdown",
   "metadata": {},
   "source": [
    "## Merging with primary tags"
   ]
  },
  {
   "cell_type": "code",
   "execution_count": 74,
   "metadata": {
    "ExecuteTime": {
     "end_time": "2021-10-26T11:13:21.045539Z",
     "start_time": "2021-10-26T11:13:20.202974Z"
    }
   },
   "outputs": [],
   "source": [
    "primary_tags = pd.read_csv('generated_dataset/primary_tags.csv')\n",
    "primary_tags_gimmac = pd.read_csv(\n",
    "    'generated_dataset/primary_tags_gimmac_data.csv')"
   ]
  },
  {
   "cell_type": "code",
   "execution_count": 75,
   "metadata": {
    "ExecuteTime": {
     "end_time": "2021-10-26T11:13:21.378283Z",
     "start_time": "2021-10-26T11:13:21.046662Z"
    }
   },
   "outputs": [],
   "source": [
    "all_dataset = pd.concat([primary_tags, primary_tags_gimmac])\n",
    "all_dataset = all_dataset.drop_duplicates()"
   ]
  },
  {
   "cell_type": "code",
   "execution_count": 76,
   "metadata": {
    "ExecuteTime": {
     "end_time": "2021-10-26T11:13:21.415547Z",
     "start_time": "2021-10-26T11:13:21.379568Z"
    }
   },
   "outputs": [
    {
     "data": {
      "text/plain": [
       "(154455, 13)"
      ]
     },
     "execution_count": 76,
     "metadata": {},
     "output_type": "execute_result"
    }
   ],
   "source": [
    "all_dataset = all_dataset[~(\n",
    "    all_dataset.analysis_framework_id.isna() | all_dataset.entry_id.isna()\n",
    "    | all_dataset.lead_id.isna() | all_dataset.excerpt.isna())]\n",
    "all_dataset.shape"
   ]
  },
  {
   "cell_type": "code",
   "execution_count": 77,
   "metadata": {
    "ExecuteTime": {
     "end_time": "2021-10-26T11:13:21.695751Z",
     "start_time": "2021-10-26T11:13:21.416840Z"
    }
   },
   "outputs": [
    {
     "data": {
      "text/plain": [
       "Index(['entry_id', 'excerpt_x', 'entry_type', 'analysis_framework_id_x',\n",
       "       'lead_id_x', 'title', 'project_id_x', 'verified', 'sectors',\n",
       "       'pillars_2d', 'pillars_1d', 'subpillars_2d', 'subpillars_1d',\n",
       "       'excerpt_y', 'analysis_framework_id_y', 'lead_id_y', 'project_id_y',\n",
       "       'severity', 'reliability', 'demographic_groups',\n",
       "       'specific_needs_groups', 'geo_location', 'info_date',\n",
       "       'affected_groups'],\n",
       "      dtype='object')"
      ]
     },
     "execution_count": 77,
     "metadata": {},
     "output_type": "execute_result"
    }
   ],
   "source": [
    "final_merged = pd.merge(left=all_dataset,\n",
    "                        right=entries_labeled_secondary_tags_cleaned,\n",
    "                        how='outer',\n",
    "                        on='entry_id')\n",
    "final_merged.columns"
   ]
  },
  {
   "cell_type": "code",
   "execution_count": 78,
   "metadata": {
    "ExecuteTime": {
     "end_time": "2021-10-26T11:13:31.433215Z",
     "start_time": "2021-10-26T11:13:21.697614Z"
    }
   },
   "outputs": [],
   "source": [
    "final_merged['excerpt'] = final_merged.apply(\n",
    "    lambda x: x.excerpt_y if pd.isna(x.excerpt_x) else x.excerpt_x, axis=1)\n",
    "final_merged = final_merged[~final_merged.excerpt.isna()].drop(\n",
    "    columns=['excerpt_x', 'excerpt_y'])\n",
    "\n",
    "final_merged['analysis_framework_id'] = final_merged.apply(\n",
    "    lambda x: x.analysis_framework_id_y\n",
    "    if pd.isna(x.analysis_framework_id_x) else x.analysis_framework_id_x,\n",
    "    axis=1)\n",
    "final_merged = final_merged[~final_merged.analysis_framework_id.isna()].drop(\n",
    "    columns=['analysis_framework_id_x', 'analysis_framework_id_y'])\n",
    "\n",
    "final_merged['lead_id'] = final_merged.apply(\n",
    "    lambda x: x.lead_id_y if pd.isna(x.lead_id_x) else x.lead_id_x, axis=1)\n",
    "final_merged = final_merged[~final_merged.lead_id.isna()].drop(\n",
    "    columns=['lead_id_x', 'lead_id_y'])\n",
    "\n",
    "final_merged['project_id'] = final_merged.apply(\n",
    "    lambda x: x.project_id_y if pd.isna(x.project_id_x) else x.project_id_x,\n",
    "    axis=1)\n",
    "final_merged = final_merged[~final_merged.project_id.isna()].drop(\n",
    "    columns=['project_id_x', 'project_id_y'])\n"
   ]
  },
  {
   "cell_type": "code",
   "execution_count": 79,
   "metadata": {
    "ExecuteTime": {
     "end_time": "2021-10-26T11:13:31.522585Z",
     "start_time": "2021-10-26T11:13:31.434919Z"
    }
   },
   "outputs": [],
   "source": [
    "tags = ['sectors', 'subpillars_2d', 'subpillars_1d']\n",
    "\n",
    "for tag in tags:\n",
    "    final_merged[tag] = final_merged[tag].fillna(\"\").apply(lambda x: []\n",
    "                                                           if x == \"\" else x)"
   ]
  },
  {
   "cell_type": "code",
   "execution_count": 80,
   "metadata": {
    "ExecuteTime": {
     "end_time": "2021-10-26T11:13:31.526621Z",
     "start_time": "2021-10-26T11:13:31.523668Z"
    }
   },
   "outputs": [
    {
     "data": {
      "text/plain": [
       "Index(['entry_id', 'entry_type', 'title', 'verified', 'sectors', 'pillars_2d',\n",
       "       'pillars_1d', 'subpillars_2d', 'subpillars_1d', 'severity',\n",
       "       'reliability', 'demographic_groups', 'specific_needs_groups',\n",
       "       'geo_location', 'info_date', 'affected_groups', 'excerpt',\n",
       "       'analysis_framework_id', 'lead_id', 'project_id'],\n",
       "      dtype='object')"
      ]
     },
     "execution_count": 80,
     "metadata": {},
     "output_type": "execute_result"
    }
   ],
   "source": [
    "final_merged.columns"
   ]
  },
  {
   "cell_type": "code",
   "execution_count": 81,
   "metadata": {
    "ExecuteTime": {
     "end_time": "2021-10-26T11:13:31.563086Z",
     "start_time": "2021-10-26T11:13:31.527967Z"
    }
   },
   "outputs": [],
   "source": [
    "final_merged = final_merged[[\n",
    "    'entry_id', 'excerpt', 'analysis_framework_id', 'lead_id', 'project_id',\n",
    "    'verified', 'sectors', 'subpillars_2d', 'subpillars_1d', 'geo_location',\n",
    "    'specific_needs_groups', 'severity', 'info_date', 'demographic_groups',\n",
    "    'reliability', 'affected_groups'\n",
    "]]"
   ]
  },
  {
   "cell_type": "markdown",
   "metadata": {},
   "source": [
    "## Adding Lead Details"
   ]
  },
  {
   "cell_type": "code",
   "execution_count": 82,
   "metadata": {
    "ExecuteTime": {
     "end_time": "2021-10-26T11:13:31.914313Z",
     "start_time": "2021-10-26T11:13:31.573196Z"
    }
   },
   "outputs": [
    {
     "data": {
      "text/plain": [
       "Index(['lead_id', 'source_type', 'url', 'website'], dtype='object')"
      ]
     },
     "execution_count": 82,
     "metadata": {},
     "output_type": "execute_result"
    }
   ],
   "source": [
    "leads = pd.read_csv('leads.csv').rename(columns={'id': 'lead_id'})[[\n",
    "    'lead_id', 'source_type', 'url', 'website'\n",
    "]]\n",
    "leads.columns"
   ]
  },
  {
   "cell_type": "code",
   "execution_count": 83,
   "metadata": {
    "ExecuteTime": {
     "end_time": "2021-10-26T11:13:32.074913Z",
     "start_time": "2021-10-26T11:13:31.915529Z"
    }
   },
   "outputs": [],
   "source": [
    "final_merged = pd.merge(left=final_merged,\n",
    "                        right=leads,\n",
    "                        how='left',\n",
    "                        on='lead_id')"
   ]
  },
  {
   "cell_type": "code",
   "execution_count": 84,
   "metadata": {
    "ExecuteTime": {
     "end_time": "2021-10-26T11:13:34.373911Z",
     "start_time": "2021-10-26T11:13:32.076311Z"
    }
   },
   "outputs": [],
   "source": [
    "final_merged.to_csv('generated_dataset/full_dataset.csv', index=None)"
   ]
  },
  {
   "cell_type": "markdown",
   "metadata": {},
   "source": [
    "### Quick Stats"
   ]
  },
  {
   "cell_type": "code",
   "execution_count": 85,
   "metadata": {
    "ExecuteTime": {
     "end_time": "2021-10-26T11:13:43.679128Z",
     "start_time": "2021-10-26T11:13:34.374987Z"
    }
   },
   "outputs": [
    {
     "name": "stderr",
     "output_type": "stream",
     "text": [
      "/home/abdullah/.local/lib/python3.8/site-packages/IPython/core/interactiveshell.py:3172: DtypeWarning: Columns (5) have mixed types.Specify dtype option on import or set low_memory=False.\n",
      "  has_raised = await self.run_ast_nodes(code_ast.body, cell_name,\n"
     ]
    }
   ],
   "source": [
    "df = pd.read_csv('generated_dataset/full_dataset.csv')\n",
    "##\n",
    "for col in [\n",
    "        'sectors', 'subpillars_2d', 'subpillars_1d', 'geo_location',\n",
    "        'specific_needs_groups', 'demographic_groups',\n",
    "        'reliability', 'affected_groups'\n",
    "]:\n",
    "    df[col] = df[col].apply(lambda x: [] if x != x else literal_eval(x))\n",
    "##\n",
    "def count_vals(df, col):\n",
    "    vals = Counter()\n",
    "    for e in df[col]:\n",
    "        vals.update(e)\n",
    "    return vals.most_common()"
   ]
  },
  {
   "cell_type": "code",
   "execution_count": 86,
   "metadata": {
    "ExecuteTime": {
     "end_time": "2021-10-26T11:13:43.795757Z",
     "start_time": "2021-10-26T11:13:43.680507Z"
    },
    "scrolled": true
   },
   "outputs": [
    {
     "data": {
      "text/plain": [
       "[('Affected', 79438),\n",
       " ('Displaced', 49874),\n",
       " ('Migrants', 16516),\n",
       " ('Refugees', 15348),\n",
       " ('IDP', 14617),\n",
       " ('All', 7905),\n",
       " ('Non Displaced', 7154),\n",
       " ('Host', 6202),\n",
       " ('Others of Concern', 5299),\n",
       " ('Returnees', 4575),\n",
       " ('Permanent', 3346),\n",
       " ('Camp', 2332),\n",
       " ('Asylum Seekers', 2080),\n",
       " ('Others', 1587),\n",
       " ('In transit', 1287),\n",
       " ('People with irregular status', 501),\n",
       " ('Not affected', 421),\n",
       " ('Non-camp', 396),\n",
       " ('Pendular', 275),\n",
       " ('No legal documentation', 224),\n",
       " ('Unregistered Refugee', 221),\n",
       " ('Out of Venezuela', 130),\n",
       " ('Non Host', 126),\n",
       " ('Back to Venezuela', 108),\n",
       " ('Stateless', 88),\n",
       " ('Venezuelans with intention to remain in Colombia', 83),\n",
       " ('Venezuelans in transit (caminantes)', 25),\n",
       " ('Venezuelans engaged in pendular/circular movement ', 16),\n",
       " ('Other', 11),\n",
       " ('Not Affected', 10)]"
      ]
     },
     "execution_count": 86,
     "metadata": {},
     "output_type": "execute_result"
    }
   ],
   "source": [
    "count_vals(df, 'affected_groups')"
   ]
  },
  {
   "cell_type": "code",
   "execution_count": 87,
   "metadata": {
    "ExecuteTime": {
     "end_time": "2021-10-26T11:13:43.902031Z",
     "start_time": "2021-10-26T11:13:43.796758Z"
    },
    "scrolled": true
   },
   "outputs": [
    {
     "data": {
      "text/plain": [
       "[('Usually reliable', 152865),\n",
       " ('Fairly Reliable', 2596),\n",
       " ('Completely Reliable', 1205),\n",
       " ('Not Usually Reliable', 121),\n",
       " ('Unreliable', 46)]"
      ]
     },
     "execution_count": 87,
     "metadata": {},
     "output_type": "execute_result"
    }
   ],
   "source": [
    "count_vals(df, 'reliability')"
   ]
  },
  {
   "cell_type": "code",
   "execution_count": 88,
   "metadata": {
    "ExecuteTime": {
     "end_time": "2021-10-26T11:13:43.996709Z",
     "start_time": "2021-10-26T11:13:43.903092Z"
    },
    "scrolled": true
   },
   "outputs": [
    {
     "data": {
      "text/plain": [
       "[('Children/Youth Female (5 to 17 years old)', 18909),\n",
       " ('Children/Youth Male (5 to 17 years old)', 15477),\n",
       " ('Adult Female (18 to 59 years old)', 12182),\n",
       " ('Adult Male (18 to 59 years old)', 5523),\n",
       " ('Older Persons Female (60+ years old)', 4978),\n",
       " ('Infants/Toddlers (<5 years old)', 3723),\n",
       " ('Older Persons Male (60+ years old)', 3023),\n",
       " ('Female', 1486),\n",
       " ('Male', 572)]"
      ]
     },
     "execution_count": 88,
     "metadata": {},
     "output_type": "execute_result"
    }
   ],
   "source": [
    "count_vals(df, 'demographic_groups')"
   ]
  },
  {
   "cell_type": "code",
   "execution_count": 89,
   "metadata": {
    "ExecuteTime": {
     "end_time": "2021-10-26T11:13:44.088633Z",
     "start_time": "2021-10-26T11:13:43.997707Z"
    },
    "scrolled": true
   },
   "outputs": [
    {
     "data": {
      "text/plain": [
       "[('Pregnant or Lactating Women', 2071),\n",
       " ('Indigenous people', 1789),\n",
       " ('Persons with Disability', 1659),\n",
       " ('Minorities', 1001),\n",
       " ('GBV survivors', 855),\n",
       " ('Unaccompanied or Separated Children', 814),\n",
       " ('Chronically Ill', 770),\n",
       " ('Female Head of Household', 722),\n",
       " ('LGBTQI+', 517),\n",
       " ('Single Women (including Widows)', 202),\n",
       " ('Child Head of Household', 192),\n",
       " ('Elderly Head of Household', 116)]"
      ]
     },
     "execution_count": 89,
     "metadata": {},
     "output_type": "execute_result"
    }
   ],
   "source": [
    "count_vals(df, 'specific_needs_groups')"
   ]
  },
  {
   "cell_type": "code",
   "execution_count": 90,
   "metadata": {
    "ExecuteTime": {
     "end_time": "2021-10-26T11:13:44.236990Z",
     "start_time": "2021-10-26T11:13:44.089697Z"
    }
   },
   "outputs": [
    {
     "data": {
      "text/plain": [
       "[('Colombia', 13459),\n",
       " ('Bangladesh', 8926),\n",
       " ('Nigeria', 7132),\n",
       " ('Afghanistan', 6647),\n",
       " ('Syrian Arab Republic', 5771),\n",
       " (\"Cox's Bazar\", 5084),\n",
       " ('Borno', 4824),\n",
       " ('South Sudan', 4704),\n",
       " ('Libya', 3760),\n",
       " ('Somalia', 3380),\n",
       " ('Tchad', 2962),\n",
       " ('Adamawa', 2922),\n",
       " ('Burkina Faso', 2810),\n",
       " ('Yobe', 2570),\n",
       " ('Venezuela', 2365),\n",
       " ('Sudan', 2207),\n",
       " ('Sud-Ouest', 2189),\n",
       " ('Peru', 2105),\n",
       " ('Chile', 2063),\n",
       " ('Nord-Ouest', 1970),\n",
       " ('Norte de Santander', 1858),\n",
       " ('Lac', 1823),\n",
       " ('Est', 1769),\n",
       " ('République démocratique du Congo', 1731),\n",
       " ('Sahel', 1729),\n",
       " ('Cameroon', 1675),\n",
       " ('Northeast', 1668),\n",
       " ('La Guajira', 1609),\n",
       " ('Arauca', 1607),\n",
       " ('Tripoli', 1546),\n",
       " ('Nord-Kivu', 1512),\n",
       " ('Nord', 1495),\n",
       " ('Nariño', 1476),\n",
       " ('Northwest', 1378),\n",
       " ('Antioquia', 1313),\n",
       " ('Bogotá, D.C.', 1310),\n",
       " ('Centre-Nord', 1286),\n",
       " ('Argentina', 1265),\n",
       " ('Extrême-Nord', 1218),\n",
       " ('Ecuador', 1197),\n",
       " ('NIGER', 1154),\n",
       " ('Yemen', 1115),\n",
       " ('Government-Controlled Areas', 1081),\n",
       " ('Sud-Kivu', 1047),\n",
       " ('Kinshasa', 964),\n",
       " ('Boucle du Mouhoun', 915),\n",
       " ('Ituri', 893),\n",
       " ('Aleppo', 888),\n",
       " ('Chocó', 886),\n",
       " ('Putumayo', 872),\n",
       " ('Gwoza', 813),\n",
       " ('Atlántico', 809),\n",
       " ('Al-Hasakeh', 767),\n",
       " ('Bama', 754),\n",
       " ('Kaya', 726),\n",
       " ('Tillabéri', 717),\n",
       " ('Diffa', 702),\n",
       " ('Monguno', 693),\n",
       " ('Valle del Cauca', 686),\n",
       " ('Cauca', 684),\n",
       " ('Dikwa', 658),\n",
       " ('Trinidad and Tobago', 652),\n",
       " ('Jere', 645),\n",
       " ('Tanganyika', 635),\n",
       " ('San José de Cúcuta', 631),\n",
       " ('Hirat', 631),\n",
       " ('Al Hudaydah', 620),\n",
       " ('Fouli', 614),\n",
       " ('Lima', 611),\n",
       " ('Mozambique', 590),\n",
       " ('Dhaka', 581),\n",
       " ('Damboa', 580),\n",
       " ('Barranquilla', 575),\n",
       " ('Costa Rica', 571),\n",
       " ('Ar-Raqqa', 563),\n",
       " ('Konduga', 555),\n",
       " ('Damascus', 553),\n",
       " ('Honduras', 545),\n",
       " ('Ngala', 545),\n",
       " ('Idleb', 541),\n",
       " ('Maiduguri', 539),\n",
       " ('Bolívar', 529),\n",
       " ('Guatemala', 515),\n",
       " ('Kabul', 515),\n",
       " ('Kandahar', 514),\n",
       " ('Jonglei', 507),\n",
       " ('Bauchi', 504),\n",
       " ('Santander', 485),\n",
       " ('Deir-ez-Zor', 485),\n",
       " ('Kunduz', 475),\n",
       " ('Tahoua', 471),\n",
       " ('West Darfur', 465),\n",
       " ('Cesar', 462),\n",
       " ('Maidugur', 457),\n",
       " ('Bay', 456),\n",
       " ('Chittagong', 454),\n",
       " ('Mayo-Sava', 454),\n",
       " ('Pibor', 453),\n",
       " ('Juba', 449),\n",
       " ('Taraba', 447),\n",
       " ('Riohacha', 445),\n",
       " ('DO', 445),\n",
       " ('Cidade Da Beira', 444),\n",
       " ('Logone Oriental', 439),\n",
       " ('Mayo-Tsanaga', 435),\n",
       " ('Amazonas', 424),\n",
       " ('Ouaddaï', 423),\n",
       " ('Central Darfur', 421),\n",
       " ('Cundinamarca', 418),\n",
       " ('South Darfur', 418),\n",
       " (\"N'Djamena\", 417),\n",
       " ('Magdalena', 415),\n",
       " ('Goma', 414),\n",
       " ('Lower Juba', 406),\n",
       " ('Moyen-Chari', 406),\n",
       " ('El Salvador', 404),\n",
       " ('Logone-et-Chari', 398),\n",
       " ('Gedo', 393),\n",
       " ('Gombe', 391),\n",
       " ('Badghis', 386),\n",
       " ('Arauquita', 385),\n",
       " ('Middle Shabelle', 382),\n",
       " ('Lower Shabelle', 380),\n",
       " ('Adamaoua', 377),\n",
       " ('Yola North', 372),\n",
       " ('Central Equatoria', 370),\n",
       " ('Kaduna', 367),\n",
       " ('North Darfur', 366),\n",
       " ('South Kordofan', 364),\n",
       " ('Córdoba', 363),\n",
       " ('Bakool', 363),\n",
       " ('Upper Nile', 362),\n",
       " ('Federal Capital Territory', 361),\n",
       " ('Yola South', 361),\n",
       " ('East Darfur', 359),\n",
       " ('Maradi', 357),\n",
       " ('Mayo-Kebbi Est', 357),\n",
       " ('Nangarhar', 354),\n",
       " ('Soum', 353),\n",
       " ('Ghor', 351),\n",
       " ('Meta', 347),\n",
       " ('Mobbar', 346),\n",
       " ('Katsina', 345),\n",
       " ('Lagos', 340),\n",
       " ('Nord-Ubangi', 340),\n",
       " ('Zamfara', 340),\n",
       " ('Teknaf', 339),\n",
       " ('Banadir', 337),\n",
       " ('Cali', 334),\n",
       " ('Mamdi', 330),\n",
       " ('Khulna', 329),\n",
       " ('Maicao', 323),\n",
       " ('Benghazi', 323),\n",
       " (\"N'Guigmi\", 323),\n",
       " ('Kano', 321),\n",
       " ('Blue Nile', 321),\n",
       " ('Kasaï', 320),\n",
       " ('Rajshahi', 319),\n",
       " ('Michika', 315),\n",
       " ('Medellín', 313),\n",
       " ('Biu', 309),\n",
       " ('Ukhia', 307),\n",
       " ('Bas-Uele', 305),\n",
       " ('Middle Juba', 305),\n",
       " ('Benue', 297),\n",
       " ('Caquetá', 296),\n",
       " ('Haut-Katanga', 295),\n",
       " ('Hauts-Bassins', 293),\n",
       " ('Khartoum', 293),\n",
       " ('Sokoto', 292),\n",
       " ('Kasaï-Central', 291),\n",
       " ('Warrap', 290),\n",
       " ('Madagali', 289),\n",
       " ('Rangpur', 289),\n",
       " ('Ouagadougou', 289),\n",
       " ('Geidam', 288),\n",
       " ('Hong', 286),\n",
       " ('Sud-Ubangi', 285),\n",
       " ('Sylhet', 285),\n",
       " ('Plateau', 282),\n",
       " ('Liwa', 281),\n",
       " ('Barisal', 280),\n",
       " ('Kassala', 279),\n",
       " ('Sebha', 279),\n",
       " ('Oudalan', 278),\n",
       " ('Guyana', 277),\n",
       " ('Beni', 275),\n",
       " ('Tumbes', 275),\n",
       " ('Mubi North', 273),\n",
       " ('Khost', 273),\n",
       " ('Hilmand', 273),\n",
       " ('Kala/Balge', 272),\n",
       " ('Homs', 268),\n",
       " ('Centre-Est', 266),\n",
       " ('Balkh', 265),\n",
       " ('Djibo', 264),\n",
       " ('Akobo', 262),\n",
       " ('Kanem', 262),\n",
       " ('Vichada', 256),\n",
       " ('Ngouboua', 256),\n",
       " ('Maniema', 255),\n",
       " ('Mymensingh', 255),\n",
       " ('Mudug', 255),\n",
       " ('Rural Damascus', 254),\n",
       " ('Wau', 254),\n",
       " ('Tonj North', 253),\n",
       " ('Sanaag', 253),\n",
       " ('Baga-Sola', 253),\n",
       " ('Faryab', 251),\n",
       " ('Callao', 250),\n",
       " ('Borkou', 250),\n",
       " ('Uruguay', 248),\n",
       " ('Takhar', 248),\n",
       " ('Melut', 248),\n",
       " ('Mayo-Kebbi Ouest', 248),\n",
       " ('Rivers', 247),\n",
       " ('Unity', 247),\n",
       " ('Gedaref', 247),\n",
       " ('Panama', 246),\n",
       " ('Askira/Uba', 245),\n",
       " ('Badakhshan', 245),\n",
       " ('Sila', 245),\n",
       " ('Hawul', 244),\n",
       " ('Dori', 244),\n",
       " ('Wadi Fira', 244),\n",
       " ('Gombi', 242),\n",
       " ('Derna', 241),\n",
       " ('Tonj East', 241),\n",
       " ('Sool', 241),\n",
       " ('Región Metropolitana de Santiago', 240),\n",
       " ('Centre', 238),\n",
       " ('Magumeri', 238),\n",
       " ('Plateau-Central', 238),\n",
       " (\"San`a'\", 238),\n",
       " ('Yagha', 237),\n",
       " ('Malakal', 236),\n",
       " ('Torodi', 236),\n",
       " ('Mubi South', 234),\n",
       " (\"Dar'a\", 233),\n",
       " ('Bor South', 232),\n",
       " ('Guainía', 226),\n",
       " ('Cartagena de Indias', 225),\n",
       " ('Barsalogho', 223),\n",
       " ('Tarapacá', 223),\n",
       " ('Lattakia', 222),\n",
       " ('Lakes', 222),\n",
       " ('Tonj South', 220),\n",
       " ('Edo', 219),\n",
       " ('White Nile', 218),\n",
       " ('Jawzjan', 216),\n",
       " ('Song', 215),\n",
       " ('Tacna', 214),\n",
       " ('Kasaï-Oriental', 213),\n",
       " ('Misrata', 213),\n",
       " ('Tibesti', 213),\n",
       " ('Paktya', 210),\n",
       " ('Haut-Uele', 209),\n",
       " ('Parwan', 209),\n",
       " ('Guaviare', 208),\n",
       " ('Askira/U', 208),\n",
       " ('Maidan Wardak', 208),\n",
       " ('Nimroz', 208),\n",
       " ('Murzuq', 207),\n",
       " ('Mandoul', 207),\n",
       " ('Bari', 207),\n",
       " ('Farah', 207),\n",
       " ('Mafa', 206),\n",
       " ('Santa Marta', 206),\n",
       " ('Rubkona', 206),\n",
       " ('Ennedi Ouest', 206),\n",
       " ('Guidan Roumdji', 205),\n",
       " ('Kaiga-Kindjiria', 204),\n",
       " ('Kukawa', 203),\n",
       " ('Niger', 202),\n",
       " ('Aweil South', 201),\n",
       " ('Fufore', 200),\n",
       " ('Gourma', 200),\n",
       " ('Camp 09', 199),\n",
       " ('Séno', 199),\n",
       " ('Hiraan', 197),\n",
       " ('Samangan', 197),\n",
       " ('Logone Occidental', 196),\n",
       " ('Tshopo', 194),\n",
       " ('Nugaal', 194),\n",
       " ('Maiha', 193),\n",
       " ('Numan', 193),\n",
       " ('Eastern Equatoria', 192),\n",
       " ('Uruzgan', 192),\n",
       " ('Bol', 192),\n",
       " ('Kapisa', 191),\n",
       " ('Tajoura', 190),\n",
       " ('Western Equatoria', 190),\n",
       " ('Kongoussi', 189),\n",
       " ('Niamey', 189),\n",
       " ('`Adan', 189),\n",
       " ('Ondo', 186),\n",
       " ('Northern Bahr el Ghazal', 186),\n",
       " ('Camp 08E', 184),\n",
       " ('Batha', 183),\n",
       " ('West Kordofan', 183),\n",
       " ('Bucaramanga', 182),\n",
       " ('Hama', 182),\n",
       " ('Loroum', 182),\n",
       " ('Red Sea', 182),\n",
       " ('Western Bahr el Ghazal', 181),\n",
       " ('Bamyan', 181),\n",
       " ('Togdheer', 181),\n",
       " ('Sar-e-Pul', 180),\n",
       " ('Kunar', 180),\n",
       " ('Gubio', 179),\n",
       " ('Masisi', 179),\n",
       " ('Ipiales', 178),\n",
       " ('Kongo-Central', 177),\n",
       " ('Camp 08W', 176),\n",
       " ('Guéra', 176),\n",
       " ('Meme', 174),\n",
       " ('Fada-Ngourma', 173),\n",
       " ('Ain Zara', 173),\n",
       " ('Fako', 173),\n",
       " ('Fangak', 173),\n",
       " ('Tartous', 172),\n",
       " ('Delta', 171),\n",
       " ('Girei', 171),\n",
       " ('Damaturu', 171),\n",
       " ('Ta`izz', 171),\n",
       " ('Ennedi Est', 169),\n",
       " ('Vaupés', 168),\n",
       " ('Kaga', 168),\n",
       " ('Kossi', 166),\n",
       " ('Mora', 166),\n",
       " ('Villa del Rosario', 166),\n",
       " ('Baghlan', 166),\n",
       " ('Girie', 164),\n",
       " ('Zinder', 163),\n",
       " ('Ghazni', 163),\n",
       " ('Tulcán', 161),\n",
       " ('Galgaduud', 161),\n",
       " ('Sirt', 160),\n",
       " ('Ouest', 160),\n",
       " ('Quito', 158),\n",
       " ('Gorom-Gorom', 158),\n",
       " ('Distrito Capital', 158),\n",
       " ('Kebbi', 157),\n",
       " ('Zambezia', 157),\n",
       " ('Duk', 157),\n",
       " ('Ag Geneina', 157),\n",
       " ('Uribia', 155),\n",
       " ('Buenaventura', 155),\n",
       " ('Laghman', 155),\n",
       " ('Nganzai', 154),\n",
       " ('Antofagasta', 153),\n",
       " ('Huila', 152),\n",
       " ('Sucre', 152),\n",
       " ('Sebba', 152),\n",
       " ('North Kordofan', 152),\n",
       " ('Ouahigouya', 151),\n",
       " ('Ouara', 151),\n",
       " ('Guayaquil', 149),\n",
       " ('Archipiélago de San Andrés, Providencia y Santa Catalina', 149),\n",
       " ('Lamurde', 149),\n",
       " ('Cross River', 149),\n",
       " ('Casanare', 149),\n",
       " ('Tame', 149),\n",
       " ('Paktika', 149),\n",
       " ('Chari-Baguirmi', 149),\n",
       " ('Oyo', 148),\n",
       " ('Gujba', 148),\n",
       " ('Chibok', 147),\n",
       " ('Ebonyi', 147),\n",
       " ('Grande Sido', 147),\n",
       " ('Magwi', 146),\n",
       " (\"N'Djaména\", 146),\n",
       " ('Ogun', 145),\n",
       " ('Antique', 145),\n",
       " ('Kalemie', 144),\n",
       " ('Sofala', 144),\n",
       " ('Ouallam', 144),\n",
       " ('Kogi', 143),\n",
       " ('Sennar', 143),\n",
       " ('Kolofata', 143),\n",
       " ('Littoral', 143),\n",
       " ('Kangalom', 143),\n",
       " ('Kwara', 142),\n",
       " ('Cascades', 142),\n",
       " ('Piura', 142),\n",
       " ('Camarines Norte', 141),\n",
       " ('Cueibet', 141),\n",
       " ('Zabul', 141),\n",
       " ('Enugu', 140),\n",
       " ('As-Sweida', 140),\n",
       " ('Lima Province', 137),\n",
       " ('Awdal', 137),\n",
       " ('Damasak', 136),\n",
       " ('Boyacá', 135),\n",
       " ('Nasarawa', 135),\n",
       " ('Villavicencio', 135),\n",
       " ('Arica y Parinacota', 135),\n",
       " ('Equateur', 134),\n",
       " ('Zimbabwe', 134),\n",
       " ('Tete', 134),\n",
       " ('Wulu', 134),\n",
       " ('Fortul', 133),\n",
       " ('Tunja', 132),\n",
       " ('Sanmatenga', 131),\n",
       " ('Terekeka', 131),\n",
       " ('Hajjah', 130),\n",
       " ('Toumour', 130),\n",
       " ('Daboua', 130),\n",
       " ('Makary', 129),\n",
       " ('Douala 1er', 129),\n",
       " ('Douala 2e', 129),\n",
       " ('Panjsher', 129),\n",
       " ('Aruba', 128),\n",
       " ('Zulia', 128),\n",
       " ('Yaounde 5e', 128),\n",
       " ('Yaounde 6e', 128),\n",
       " ('Yaounde 7e', 128),\n",
       " ('Douala 3e', 128),\n",
       " ('Douala 4e', 128),\n",
       " ('Douala 5e', 128),\n",
       " ('Douala 6e', 128),\n",
       " ('Yaounde 1er', 128),\n",
       " ('Yaounde 2e', 128),\n",
       " ('Yaounde 3e', 128),\n",
       " ('Yaounde 4e', 128),\n",
       " ('Tolima', 127),\n",
       " ('La Nya Pendé', 127),\n",
       " ('Kismaayo', 126),\n",
       " ('Marte', 125),\n",
       " ('Mweka', 125),\n",
       " ('Azzawya', 125),\n",
       " ('La Libertad', 123),\n",
       " ('Monts de Lam', 123),\n",
       " ('Jigawa', 122),\n",
       " ('Yatenga', 122),\n",
       " ('Malawi', 122),\n",
       " ('Renk', 122),\n",
       " ('Demsa', 121),\n",
       " ('Salamat', 121),\n",
       " ('Bayo', 120),\n",
       " ('Nguru', 120),\n",
       " ('Nyiragongo', 119),\n",
       " ('Buea', 119),\n",
       " ('Risaralda', 118),\n",
       " ('Sogamoso', 118),\n",
       " ('Agadez', 118),\n",
       " ('Kutupalong RC', 117),\n",
       " ('Centre-Ouest', 117),\n",
       " ('Aklan', 117),\n",
       " ('Aguazul', 117),\n",
       " (\"Cox's Bazar Sadar\", 116),\n",
       " ('Paz de Ariporo', 116),\n",
       " ('Titao', 115),\n",
       " ('SANTIAGO', 115),\n",
       " ('Twic East', 115),\n",
       " ('Logar', 114),\n",
       " ('LA ROMANA', 113),\n",
       " ('Bani Waleed', 113),\n",
       " ('Diamaré', 113),\n",
       " ('Yei', 113),\n",
       " ('Daykundi', 113),\n",
       " ('Tandjilé', 113),\n",
       " ('Quibdó', 112),\n",
       " ('Kompienga', 112),\n",
       " ('Mezam', 112),\n",
       " ('Bayelsa', 111),\n",
       " ('Saravena', 111),\n",
       " ('Ocaña', 111),\n",
       " ('Yunusari', 111),\n",
       " ('Qasr Bin Ghasheer', 111),\n",
       " ('Sa`dah', 111),\n",
       " ('Kousseri', 111),\n",
       " ('Bobo-Dioulasso', 109),\n",
       " ('Tin-Akoff', 108),\n",
       " ('Arequipa', 108),\n",
       " ('Quneitra', 107),\n",
       " ('Maban', 107),\n",
       " ('Woqooyi Galbeed', 107),\n",
       " ('Bosso', 106),\n",
       " ('Abyei Region', 106),\n",
       " ('Mayo-Danay', 106),\n",
       " ('Makalondi', 106),\n",
       " ('Awerial', 106),\n",
       " ('Camp 10', 105),\n",
       " ('Rutshuru', 105),\n",
       " ('Ghat', 105),\n",
       " ('Nuristan', 105),\n",
       " ('Bam', 103),\n",
       " ('Bolivia', 103),\n",
       " ('Tapoa', 103),\n",
       " ('Ubari', 103),\n",
       " ('Bahamas', 103),\n",
       " ('Manica', 103),\n",
       " ('Leticia', 102),\n",
       " ('Potiskum', 102),\n",
       " ('Pasto', 101),\n",
       " ('Ayod', 101),\n",
       " ('Walikale', 100),\n",
       " ('Abusliem', 99),\n",
       " ('Kajo-keji', 99),\n",
       " ('Huaquillas', 98),\n",
       " ('Lualaba', 98),\n",
       " ('Buenos Aires', 97),\n",
       " ('Osun', 97),\n",
       " ('Mexico', 97),\n",
       " ('Abuja Municipal', 96),\n",
       " ('Northern', 96),\n",
       " ('Manyu', 96),\n",
       " ('Yambio', 96),\n",
       " ('Barh-El-Gazel', 96),\n",
       " ('Sourou', 95),\n",
       " ('Ibb', 95),\n",
       " ('Tillia', 95),\n",
       " ('Aj Jazirah', 94),\n",
       " ('San Jose', 93),\n",
       " ('Zwara', 93),\n",
       " ('Aweil East', 93),\n",
       " ('Boyo', 93),\n",
       " ('Bojayá', 92),\n",
       " ('Tierralta', 92),\n",
       " ('Alkufra', 92),\n",
       " ('Torit', 92),\n",
       " ('Djugu', 91),\n",
       " ('Ramu', 91),\n",
       " ('Komandjari', 90),\n",
       " ('Markoye', 90),\n",
       " ('Imo', 90),\n",
       " ('River Nile', 90),\n",
       " ('Táchira', 90),\n",
       " ('Momo', 90),\n",
       " ('Twic', 90),\n",
       " ('Rumbek Centre', 90),\n",
       " ('Kapoeta East', 89),\n",
       " ('Marka', 89),\n",
       " ('Namentenga', 88),\n",
       " ('Centre-Sud', 88),\n",
       " ('Pouytenga', 88),\n",
       " ('Aweil North', 88),\n",
       " ('Rumbek North', 88),\n",
       " ('Rumbek East', 88),\n",
       " ('Bade', 87),\n",
       " ('Pariang', 87),\n",
       " ('Ngo-Ketunjia', 86),\n",
       " ('Tassara', 86),\n",
       " ('Bahr-Köh', 86),\n",
       " ('Ouargaye', 85),\n",
       " ('Guzamala', 85),\n",
       " ('SANTO DOMINGO DE GUZMN', 85),\n",
       " ('Bui', 85),\n",
       " ('Ayerou', 85),\n",
       " ('Matiakoali', 84),\n",
       " ('Ekiti', 84),\n",
       " ('Aweil Centre', 84),\n",
       " ('Koch', 84),\n",
       " ('Cuenca', 83),\n",
       " ('Argelia', 83),\n",
       " ('Tibesti Ouest', 83),\n",
       " ('Lubumbashi', 82),\n",
       " ('Pamplona', 82),\n",
       " ('Camp 24 (Leda)', 82),\n",
       " ('Miranda', 82),\n",
       " ('Barima-Waini', 82),\n",
       " ('Nyirol', 82),\n",
       " ('Uror', 82),\n",
       " ('Gogrial West', 82),\n",
       " ('Gogrial East', 82),\n",
       " ('Akwa Ibom', 81),\n",
       " ('Alkhums', 81),\n",
       " ('Buzi', 81),\n",
       " ('Manta', 80),\n",
       " ('Koumbri', 80),\n",
       " ('Aweil West', 80),\n",
       " ('Dosso', 79),\n",
       " ('Mayendit', 79),\n",
       " ('Kapoeta North', 79),\n",
       " ('San Miguel', 78),\n",
       " ('Tajikistan', 78),\n",
       " ('Limbe 3rd', 78),\n",
       " ('Mbéré', 78),\n",
       " ('Fashoda', 78),\n",
       " ('Lubero', 77),\n",
       " ('Pekua', 77),\n",
       " ('Tarhuna', 77),\n",
       " ('Uganda', 77),\n",
       " ('Ndian', 77),\n",
       " ('Limbe 1st', 77),\n",
       " ('Maiwut', 77),\n",
       " ('Uvira', 76),\n",
       " ('Darién', 76),\n",
       " ('Gorgadji', 76),\n",
       " ('Anambra', 76),\n",
       " ('Quindio', 75),\n",
       " ('Maï-Ndombe', 75),\n",
       " ('Ulang', 75),\n",
       " ('Tibú', 74),\n",
       " ('Camp 22 (Unchiprang)', 74),\n",
       " ('Tougan', 74),\n",
       " ('Caldas', 74),\n",
       " ('Central Abaco', 74),\n",
       " ('Ejdabia', 74),\n",
       " ('Mundri East', 74),\n",
       " ('Arbinda', 73),\n",
       " ('Camp 03', 73),\n",
       " ('Dondo', 73),\n",
       " ('Luakpiny/Nasir', 73),\n",
       " ('Fotokol', 73),\n",
       " ('Mayom', 73),\n",
       " ('Mourtcha', 73),\n",
       " ('Belet Weyne', 73),\n",
       " ('Gnagna', 72),\n",
       " ('Ibarra', 72),\n",
       " ('Arica', 72),\n",
       " ('Tiko', 72),\n",
       " ('Jujuy', 71),\n",
       " ('Mansila', 71),\n",
       " ('Iquique', 71),\n",
       " ('South Abaco', 71),\n",
       " ('North Abaco', 71),\n",
       " ('Gueskérou', 71),\n",
       " ('Ibba', 71),\n",
       " ('San Andrés de Tumaco', 70),\n",
       " ('Camp 02W', 70),\n",
       " ('Montería', 70),\n",
       " ('Solhan', 70),\n",
       " ('Maheshkhali', 70),\n",
       " ('Abia', 70),\n",
       " ('Tangalan', 70),\n",
       " ('Donga-Mantung', 70),\n",
       " ('Mayo-Kani', 70),\n",
       " ('Kapoeta South', 70),\n",
       " ('Mundri West', 70),\n",
       " ('Panyikang', 70),\n",
       " ('Nayapara RC', 69),\n",
       " ('Alto Baudó', 69),\n",
       " ('Lambayeque', 69),\n",
       " ('Sabratha', 69),\n",
       " ('Arghandab', 69),\n",
       " ('Pochalla', 69),\n",
       " ('Manyo', 69),\n",
       " ('Banki', 68),\n",
       " ('Bhasan Char', 68),\n",
       " ('Aljufra', 68),\n",
       " ('Lebialem', 68),\n",
       " ('Camp 20 Extension', 67),\n",
       " ('Valledupar', 67),\n",
       " ('Chiriquí', 67),\n",
       " ('SAN PEDRO DE MACORS', 67),\n",
       " ('PUERTO PLATA', 67),\n",
       " ('Hamtic', 67),\n",
       " ('SANTO DOMINGO', 67),\n",
       " ('Menchum', 67),\n",
       " ('Maridi', 67),\n",
       " ('Panjwayi', 67),\n",
       " ('Zalingi', 67),\n",
       " ('Namissiguima', 66),\n",
       " ('Camp 14 (Hakimpara)', 66),\n",
       " ('Camp 04', 66),\n",
       " ('Nouna', 66),\n",
       " ('Sampelga', 66),\n",
       " ('Yusufari', 66),\n",
       " ('SAMAN', 66),\n",
       " ('VILLA ALTAGRACIA', 66),\n",
       " ('Zheray', 66),\n",
       " ('Hadjer-Lamis', 66),\n",
       " ('Haut-Lomami', 65),\n",
       " ('Chakaria', 65),\n",
       " ('Bouroum', 65),\n",
       " ('Lara', 65),\n",
       " ('Democratic Republic of the Congo', 65),\n",
       " ('Kadey', 65),\n",
       " ('Yirol East', 65),\n",
       " ('Bossaso', 65),\n",
       " ('Camp 15 (Jamtoli)', 64),\n",
       " ('Camp 01W', 64),\n",
       " ('Seytenga', 64),\n",
       " ('Kablewa', 64),\n",
       " ('Mocoa', 63),\n",
       " ('Camp 07', 63),\n",
       " ('Camp 01E', 63),\n",
       " ('Camp 13', 63),\n",
       " ('Abadam', 63),\n",
       " ('Ituango', 63),\n",
       " ('East Grand Bahama', 63),\n",
       " ('Swani Bin Adam', 63),\n",
       " ('Vinzons', 63),\n",
       " ('Longochuk', 63),\n",
       " ('La Pendé', 63),\n",
       " ('Lac Iro', 63),\n",
       " ('Irumu', 62),\n",
       " ('Camp 18', 62),\n",
       " ('Camp 11', 62),\n",
       " ('Camp 12', 62),\n",
       " ('Tougouri', 62),\n",
       " ('Bourzanga', 62),\n",
       " ('Lahij', 62),\n",
       " ('Patnongon', 62),\n",
       " ('Nagero', 62),\n",
       " ('Camp 19', 61),\n",
       " ('Nicaragua', 61),\n",
       " ('West Grand Bahama', 61),\n",
       " ('Budi', 61),\n",
       " ('Guit', 61),\n",
       " ('Baliet', 61),\n",
       " ('Kutubdia', 60),\n",
       " ('Camp 02E', 60),\n",
       " ('Jakusko', 60),\n",
       " ('Al Aziziya', 60),\n",
       " ('Garoua-Boulai', 60),\n",
       " ('Wouri', 60),\n",
       " ('Ezo', 60),\n",
       " ('Mvolo', 60),\n",
       " ('Bío-Bío', 59),\n",
       " ('Senguènèga', 59),\n",
       " ('Déou', 59),\n",
       " ('Demba', 59),\n",
       " ('Janzour', 59),\n",
       " ('Amanat Al Asimah', 59),\n",
       " ('Fizi', 58),\n",
       " ('Coquimbo', 58),\n",
       " ('Kenya', 58),\n",
       " ('Mabaruma / Kumaka / Hosororo', 58),\n",
       " ('Maroua 3e', 58),\n",
       " ('Lac Léré', 58),\n",
       " ('Camp 17', 57),\n",
       " ('Djibasso', 57),\n",
       " ('Apartadó', 57),\n",
       " ('Brazil', 57),\n",
       " ('Muyuka', 57),\n",
       " ('Nzara', 57),\n",
       " ('Ikotos', 57),\n",
       " ('Guidan Sori', 57),\n",
       " ('Banibangou', 57),\n",
       " ('Tambura', 57),\n",
       " ('Yirol West', 57),\n",
       " ('Kwilu', 56),\n",
       " ('Afrin', 56),\n",
       " ('Mercedes', 56),\n",
       " ('Maroua 2e', 56),\n",
       " ('Mbonge', 56),\n",
       " ('Boumba-et-Ngoko', 56),\n",
       " ('Maïné Soroa', 56),\n",
       " ('La Nya', 56),\n",
       " ('Camp 06', 55),\n",
       " ('Fika', 55),\n",
       " ('Atacama', 55),\n",
       " ('Puerto Santander', 55),\n",
       " ('Dimbelenge', 55),\n",
       " ('Maputo', 55),\n",
       " ('Bamenda 2nd', 55),\n",
       " ('Maroua 1er', 55),\n",
       " ('Abala', 55),\n",
       " ('Dessa', 55),\n",
       " ('Camp 27 (Jadimura)', 54),\n",
       " ('Camp 21 (Chakmarkul)', 54),\n",
       " ('Bomborokui', 54),\n",
       " ('Boundoré', 54),\n",
       " ('Santo Domingo de los Colorados', 54),\n",
       " ('Mayo-Moskota', 54),\n",
       " ('Doolow', 54),\n",
       " ('Gaalkacyo', 54),\n",
       " ('Camp 16 (Potibonia)', 53),\n",
       " ('Cusco', 53),\n",
       " ('Ambato', 53),\n",
       " ('Tobruk', 53),\n",
       " ('Kwango', 52),\n",
       " ('Camp 05', 52),\n",
       " ('Camp 26 (Nayapara)', 52),\n",
       " ('Bukavu', 52),\n",
       " ('Gulani', 52),\n",
       " ('Araucanía', 52),\n",
       " ('Cidade De Chimoio', 52),\n",
       " ('Afgooye', 52),\n",
       " ('Dablo', 51),\n",
       " ('Camp 25 (Ali Khali)', 51),\n",
       " ('Camp 20', 51),\n",
       " ('Mwenga', 51),\n",
       " ('Barbacoas', 51),\n",
       " ('Misiones', 51),\n",
       " ('Bamenda 3rd', 51),\n",
       " ('Santiago', 50),\n",
       " ('Pensa', 50),\n",
       " ('Ciudad de Buenos Aires', 50),\n",
       " ('Bamenda 1st', 50),\n",
       " ('Jowhar', 50),\n",
       " ('Shelleng', 49),\n",
       " ('Puerto Libertador', 49),\n",
       " ('Valparaíso', 49),\n",
       " ('Zina', 49),\n",
       " ('Menoua', 49),\n",
       " ('Carchi', 48),\n",
       " ('Murindó', 48),\n",
       " ('Fune', 48),\n",
       " ('Cáceres', 48),\n",
       " ('Beltrán', 48),\n",
       " ('Caloocan City', 48),\n",
       " ('Nassarawa', 48),\n",
       " ('City of Georgetown', 48),\n",
       " ('Al Jawf', 48),\n",
       " ('West-Coast', 48),\n",
       " ('Mifi', 48),\n",
       " ('Hargeysa', 48),\n",
       " ('Camp 23 (Shamlapur)', 47),\n",
       " ('Passoré', 47),\n",
       " ('Soacha', 47),\n",
       " ('Shani', 47),\n",
       " ('Bursari', 47),\n",
       " ('Bandarban', 47),\n",
       " ('Lake Chad', 47),\n",
       " ('Kalibo', 47),\n",
       " ('NCR, Second District', 47),\n",
       " ('Almargeb', 47),\n",
       " ('VERN PUNTA CANA (D. M.).', 47),\n",
       " ('Mayo-Boneye', 47),\n",
       " ('Qardho', 47),\n",
       " ('Nyunzu', 46),\n",
       " ('Manaure', 46),\n",
       " ('Lomami', 46),\n",
       " ('Guyuk', 46),\n",
       " ('La Paz', 46),\n",
       " ('Al Bab', 46),\n",
       " ('Nangere', 46),\n",
       " ('Soledad', 46),\n",
       " ('Amran', 46),\n",
       " ('Meiganga', 46),\n",
       " ('Fada', 46),\n",
       " ('Batha Est', 46),\n",
       " ('Iguazú', 45),\n",
       " ('Maracaibo', 45),\n",
       " ('Ghiryan', 45),\n",
       " ('SAN CRISTBAL', 45),\n",
       " ('Nhamatanda', 45),\n",
       " ('Chetimari', 45),\n",
       " ('Garoowe', 45),\n",
       " ('El Oro', 44),\n",
       " ('Pichincha', 44),\n",
       " ('El Litoral del San Juan', 44),\n",
       " ('Machala', 44),\n",
       " ('Sardinata', 44),\n",
       " (\"Libertador General Bernardo O'Higgins\", 44),\n",
       " ('Matthews Ridge / Arakaka (Matakai) / Port Kaituma', 44),\n",
       " ('Mokolo', 44),\n",
       " ('Camp 04 Extension', 43),\n",
       " ('Popayán', 43),\n",
       " ('Baraboulé', 43),\n",
       " ('Dana', 43),\n",
       " ('Tongomayel', 43),\n",
       " ('San José de Uré', 43),\n",
       " ('Magüí', 43),\n",
       " ('Al Khawkhah', 43),\n",
       " ('Ngaoui', 43),\n",
       " ('Di', 42),\n",
       " ('Butembo', 42),\n",
       " ('Boulkiemdé', 42),\n",
       " ('Garabolli', 42),\n",
       " ('Bartica', 42),\n",
       " ('Noun', 42),\n",
       " ('Zondoma', 41),\n",
       " ('Menbij', 41),\n",
       " ('Koutougou', 41),\n",
       " ('Tarmua', 41),\n",
       " ('Wadi Ashshati', 41),\n",
       " ('Djohong', 41),\n",
       " ('Moungo', 41),\n",
       " ('Hauts-Plateaux', 41),\n",
       " ('Ndé', 41),\n",
       " ('Bamboutos', 41),\n",
       " ('Koung-Khi', 41),\n",
       " ('Gomboro', 40),\n",
       " ('Lloró', 40),\n",
       " ('Puerto Leguízamo', 40),\n",
       " ('Puerto Rico', 40),\n",
       " ('Bani', 40),\n",
       " ('Karasuwa', 40),\n",
       " ('Kwaya Kusar', 40),\n",
       " ('Valle del Guamuez', 40),\n",
       " ('Zliten', 40),\n",
       " ('Hays', 40),\n",
       " ('Sud', 40),\n",
       " ('Lom-et-Djérem', 40),\n",
       " ('Borkou Yala', 40),\n",
       " ('Abyei PCA', 40),\n",
       " ('Providencia', 39),\n",
       " ('Nasséré', 39),\n",
       " ('Caucasia', 39),\n",
       " ('Turbo', 39),\n",
       " ('Barani', 39),\n",
       " ('Los Patios', 39),\n",
       " ('Thiou', 39),\n",
       " ('Quamishli', 39),\n",
       " ('Machina', 39),\n",
       " ('Satkhira', 39),\n",
       " ('India', 39),\n",
       " ('As Salif', 39),\n",
       " ('Mont Illi', 39),\n",
       " ('Pulka Bokko', 38),\n",
       " ('Carepa', 38),\n",
       " ('Toéni', 38),\n",
       " ('Kombori', 38),\n",
       " ('Kananga', 38),\n",
       " ('Gayéri', 38),\n",
       " ('Tarazá', 38),\n",
       " ('Azzintan', 38),\n",
       " ('Abyan', 38),\n",
       " ('New Providence', 38),\n",
       " ('Lainya', 38),\n",
       " ('Baydhaba', 38),\n",
       " ('Morazán', 37),\n",
       " ('Fonseca', 37),\n",
       " ('Tankougounadié', 37),\n",
       " ('Roberto Payán', 37),\n",
       " ('Bello', 37),\n",
       " ('Carabobo', 37),\n",
       " ('Abs', 37),\n",
       " ('Shabwah', 37),\n",
       " ('Téra', 37),\n",
       " ('Tshuapa', 36),\n",
       " ('Lago Agrio', 36),\n",
       " ('Houet', 36),\n",
       " ('Apure', 36),\n",
       " ('Al Jabal Al Gharbi', 36),\n",
       " ('Aljfara', 36),\n",
       " (\"Al Bayda'\", 36),\n",
       " ('Nyala Janoub', 36),\n",
       " ('San Andrés', 35),\n",
       " ('Pissila', 35),\n",
       " ('Alta Verapaz', 35),\n",
       " ('Puno', 35),\n",
       " ('Kantchari', 35),\n",
       " ('Pama', 34),\n",
       " ('Diapaga', 34),\n",
       " ('Puerto Colombia', 34),\n",
       " ('Kabambare', 34),\n",
       " ('El Tarra', 34),\n",
       " ('Mendoza', 34),\n",
       " ('Ad Durayhimi', 34),\n",
       " ('Panyijiar', 34),\n",
       " ('Puerto Asís', 33),\n",
       " ('Kassoum', 33),\n",
       " ('San Juan del Cesar', 33),\n",
       " ('Dibulla', 33),\n",
       " ('Loreto', 33),\n",
       " ('Philippines', 33),\n",
       " ('Kumba 2nd', 33),\n",
       " ('Assoungha', 33),\n",
       " ('Azuay', 32),\n",
       " ('Pobé-Mengao', 32),\n",
       " ('Vistahermosa', 32),\n",
       " ('At Tuhayat', 32),\n",
       " ('Dhamar', 32),\n",
       " ('Kumba 1st', 32),\n",
       " ('Kumba 3rd', 32),\n",
       " ('Goulfey', 32),\n",
       " ('Jalalabad', 32),\n",
       " ('Mayo-Binder', 32),\n",
       " ('Sankuru', 31),\n",
       " ('Bahn', 31),\n",
       " ('Oursi', 31),\n",
       " ('Zimtanga', 31),\n",
       " ('El Carmen', 31),\n",
       " ('Zabid', 31),\n",
       " ('Bayt Al Faqiah', 31),\n",
       " ('Bajo Baudó', 30),\n",
       " ('Ariha', 30),\n",
       " ('Zaragoza', 30),\n",
       " ('Sucumbios', 30),\n",
       " ('Chimanimani', 30),\n",
       " ('Biltine', 30),\n",
       " ('Ville de Niamey', 30),\n",
       " ('Titabè', 29),\n",
       " ('Nassoumbou', 29),\n",
       " ('Boussouma', 29),\n",
       " ('Hacarí', 29),\n",
       " ('Paraguay', 29),\n",
       " ('Suq Aljumaa', 29),\n",
       " ('Santa Elena', 29),\n",
       " ('Al Mahwit', 29),\n",
       " ('Limbe 2nd', 29),\n",
       " ('Goudoumaria', 29),\n",
       " ('Tondikiwindi', 29),\n",
       " ('Guamal', 28),\n",
       " ('Montelíbano', 28),\n",
       " ('Maule', 28),\n",
       " ('Lankoué', 27),\n",
       " ('Ouindigui', 27),\n",
       " ('Nuquí', 27),\n",
       " ('Shabunda', 27),\n",
       " ('Kamonia', 27),\n",
       " ('Kalehe', 27),\n",
       " ('Gaoua', 27),\n",
       " ('Necoclí', 27),\n",
       " ('Bogandé', 27),\n",
       " ('Esmeraldas', 27),\n",
       " ('Manabi', 27),\n",
       " ('Yumbi', 27),\n",
       " ('Anzoátegui', 27),\n",
       " ('Cuyuni-Mazaruni', 27),\n",
       " ('Hrawa', 27),\n",
       " ('Ábrego', 27),\n",
       " ('Kupe-Manenguba', 27),\n",
       " ('Jur River', 27),\n",
       " ...]"
      ]
     },
     "execution_count": 90,
     "metadata": {},
     "output_type": "execute_result"
    }
   ],
   "source": [
    "count_vals(df, 'geo_location')"
   ]
  },
  {
   "cell_type": "code",
   "execution_count": 91,
   "metadata": {
    "ExecuteTime": {
     "end_time": "2021-10-26T11:13:44.340758Z",
     "start_time": "2021-10-26T11:13:44.237951Z"
    },
    "scrolled": true
   },
   "outputs": [
    {
     "data": {
      "text/plain": [
       "[('NOT_MAPPED', 39526),\n",
       " ('Displacement->Type/Numbers/Movements', 9051),\n",
       " ('Context->Security & Stability', 7926),\n",
       " ('Covid-19->Cases', 5507),\n",
       " ('Covid-19->Restriction Measures', 4879),\n",
       " ('Context->Economy', 4756),\n",
       " ('Shock/Event->Hazard & Threats', 4587),\n",
       " ('Context->Demography', 3378),\n",
       " ('Casualties->Dead', 3194),\n",
       " ('Covid-19->Deaths', 3098),\n",
       " ('Context->Legal & Policy', 2804),\n",
       " ('Covid-19->Vaccination', 2776),\n",
       " ('Displacement->Local Integration', 2617),\n",
       " ('Context->Politics', 2095),\n",
       " ('Displacement->Push Factors', 2051),\n",
       " ('Shock/Event->Underlying/Aggravating Factors', 1863),\n",
       " ('Context->Socio Cultural', 1754),\n",
       " ('Humanitarian Access->Physical Constraints', 1743),\n",
       " ('Covid-19->Testing', 1622),\n",
       " ('Shock/Event->Type And Characteristics', 1336),\n",
       " ('Context->Environment', 1207),\n",
       " ('Humanitarian Access->Relief To Population', 948),\n",
       " ('Capacities & Response->Number Of People Reached/Response Gaps', 746),\n",
       " ('Humanitarian Access->Number Of People Facing Humanitarian Access Constraints/Humanitarian Access Gaps',\n",
       "  726),\n",
       " ('Information And Communication->Knowledge And Info Gaps (Hum)', 671),\n",
       " ('Casualties->Injured', 663),\n",
       " ('Covid-19->Contact Tracing', 627),\n",
       " ('Covid-19->Hospitalization & Care', 512),\n",
       " ('Displacement->Intentions', 506),\n",
       " ('Displacement->Pull Factors', 347),\n",
       " ('Information And Communication->Knowledge And Info Gaps (Pop)', 304),\n",
       " ('Casualties->Missing', 272),\n",
       " ('Humanitarian Access->Population To Relief', 228),\n",
       " ('Information And Communication->Communication Means And Preferences', 222),\n",
       " ('Information And Communication->Information Challenges And Barriers', 155)]"
      ]
     },
     "execution_count": 91,
     "metadata": {},
     "output_type": "execute_result"
    }
   ],
   "source": [
    "count_vals(df, 'subpillars_1d')"
   ]
  },
  {
   "cell_type": "code",
   "execution_count": 92,
   "metadata": {
    "ExecuteTime": {
     "end_time": "2021-10-26T11:13:44.453098Z",
     "start_time": "2021-10-26T11:13:44.341795Z"
    },
    "scrolled": true
   },
   "outputs": [
    {
     "data": {
      "text/plain": [
       "[('NOT_MAPPED', 35577),\n",
       " ('Humanitarian Conditions->Living Standards', 27948),\n",
       " ('Humanitarian Conditions->Physical And Mental Well Being', 17246),\n",
       " ('Capacities & Response->International Response', 16305),\n",
       " ('Impact->Impact On Systems, Services And Networks', 15235),\n",
       " ('Impact->Impact On People', 12875),\n",
       " ('Impact->Driver/Aggravating Factors', 12737),\n",
       " ('At Risk->Risk And Vulnerabilities', 12460),\n",
       " ('Capacities & Response->National Response', 7277),\n",
       " ('Priority Interventions->Expressed By Humanitarian Staff', 5673),\n",
       " ('Humanitarian Conditions->Coping Mechanisms', 5577),\n",
       " ('Capacities & Response->Number Of People Reached/Response Gaps', 3419),\n",
       " ('Impact->Number Of People Affected', 2364),\n",
       " ('Priority Needs->Expressed By Population', 2222),\n",
       " ('Priority Needs->Expressed By Humanitarian Staff', 1686),\n",
       " ('Humanitarian Conditions->Number Of People In Need', 1339),\n",
       " ('Covid-19->Restriction Measures', 1050),\n",
       " ('Context->Economy', 427),\n",
       " ('Priority Interventions->Expressed By Population', 290),\n",
       " ('At Risk->Number Of People At Risk', 277),\n",
       " ('Capacities & Response->Local Response', 259)]"
      ]
     },
     "execution_count": 92,
     "metadata": {},
     "output_type": "execute_result"
    }
   ],
   "source": [
    "count_vals(df, 'subpillars_2d')"
   ]
  },
  {
   "cell_type": "code",
   "execution_count": 93,
   "metadata": {
    "ExecuteTime": {
     "end_time": "2021-10-26T11:13:44.563711Z",
     "start_time": "2021-10-26T11:13:44.454099Z"
    },
    "scrolled": false
   },
   "outputs": [
    {
     "data": {
      "text/plain": [
       "[('Health', 34290),\n",
       " ('Protection', 28020),\n",
       " ('Cross', 26670),\n",
       " ('Livelihoods', 16421),\n",
       " ('Food Security', 15651),\n",
       " ('WASH', 11468),\n",
       " ('Education', 10141),\n",
       " ('Shelter', 10004),\n",
       " ('Nutrition', 5222),\n",
       " ('Agriculture', 3114),\n",
       " ('Logistics', 2798),\n",
       " ('NOT_MAPPED', 1262)]"
      ]
     },
     "execution_count": 93,
     "metadata": {},
     "output_type": "execute_result"
    }
   ],
   "source": [
    "count_vals(df, 'sectors')"
   ]
  },
  {
   "cell_type": "code",
   "execution_count": null,
   "metadata": {},
   "outputs": [],
   "source": []
  },
  {
   "cell_type": "code",
   "execution_count": null,
   "metadata": {},
   "outputs": [],
   "source": []
  },
  {
   "cell_type": "code",
   "execution_count": null,
   "metadata": {},
   "outputs": [],
   "source": []
  }
 ],
 "metadata": {
  "kernelspec": {
   "display_name": "Python 3 (ipykernel)",
   "language": "python",
   "name": "python3"
  },
  "language_info": {
   "codemirror_mode": {
    "name": "ipython",
    "version": 3
   },
   "file_extension": ".py",
   "mimetype": "text/x-python",
   "name": "python",
   "nbconvert_exporter": "python",
   "pygments_lexer": "ipython3",
   "version": "3.8.11"
  },
  "varInspector": {
   "cols": {
    "lenName": 16,
    "lenType": 16,
    "lenVar": 40
   },
   "kernels_config": {
    "python": {
     "delete_cmd_postfix": "",
     "delete_cmd_prefix": "del ",
     "library": "var_list.py",
     "varRefreshCmd": "print(var_dic_list())"
    },
    "r": {
     "delete_cmd_postfix": ") ",
     "delete_cmd_prefix": "rm(",
     "library": "var_list.r",
     "varRefreshCmd": "cat(var_dic_list()) "
    }
   },
   "types_to_exclude": [
    "module",
    "function",
    "builtin_function_or_method",
    "instance",
    "_Feature"
   ],
   "window_display": false
  }
 },
 "nbformat": 4,
 "nbformat_minor": 4
}
