{
 "cells": [
  {
   "cell_type": "code",
   "execution_count": 1,
   "id": "38286a73",
   "metadata": {
    "ExecuteTime": {
     "end_time": "2021-10-26T13:44:06.247008Z",
     "start_time": "2021-10-26T13:44:05.831442Z"
    }
   },
   "outputs": [],
   "source": [
    "import json\n",
    "from itertools import islice\n",
    "from ast import literal_eval\n",
    "\n",
    "import numpy as np\n",
    "import pandas as pd\n",
    "from tqdm.notebook import tqdm\n",
    "\n",
    "from skmultilearn.model_selection import iterative_train_test_split\n",
    "from skmultilearn.model_selection.measures import get_combination_wise_output_matrix"
   ]
  },
  {
   "cell_type": "code",
   "execution_count": 2,
   "id": "503db826",
   "metadata": {
    "ExecuteTime": {
     "end_time": "2021-10-26T13:44:06.761474Z",
     "start_time": "2021-10-26T13:44:06.759011Z"
    }
   },
   "outputs": [],
   "source": [
    "tqdm.pandas()"
   ]
  },
  {
   "cell_type": "code",
   "execution_count": 3,
   "id": "f79c1239",
   "metadata": {
    "ExecuteTime": {
     "end_time": "2021-10-26T13:44:16.104445Z",
     "start_time": "2021-10-26T13:44:07.548794Z"
    }
   },
   "outputs": [
    {
     "name": "stderr",
     "output_type": "stream",
     "text": [
      "/home/abdullah/.local/lib/python3.8/site-packages/IPython/core/interactiveshell.py:3172: DtypeWarning: Columns (5) have mixed types.Specify dtype option on import or set low_memory=False.\n",
      "  has_raised = await self.run_ast_nodes(code_ast.body, cell_name,\n"
     ]
    },
    {
     "name": "stdout",
     "output_type": "stream",
     "text": [
      "Index(['entry_id', 'excerpt', 'analysis_framework_id', 'lead_id', 'project_id',\n",
      "       'verified', 'sectors', 'subpillars_2d', 'subpillars_1d', 'geo_location',\n",
      "       'specific_needs_groups', 'severity', 'info_date', 'demographic_groups',\n",
      "       'reliability', 'affected_groups', 'source_type', 'url', 'website'],\n",
      "      dtype='object')\n"
     ]
    }
   ],
   "source": [
    "df = pd.read_csv('generated_dataset/full_dataset.csv')\n",
    "##\n",
    "print(df.columns)\n",
    "##\n",
    "for col in [\n",
    "        'sectors', 'subpillars_2d', 'subpillars_1d', 'geo_location',\n",
    "        'specific_needs_groups', 'demographic_groups',\n",
    "        'reliability', 'affected_groups'\n",
    "]:\n",
    "    df[col] = df[col].apply(lambda x: [] if x != x else literal_eval(x))\n",
    "##\n",
    "def count_vals(df, col):\n",
    "    vals = Counter()\n",
    "    for e in df[col]:\n",
    "        vals.update(e)\n",
    "    return vals.most_common()"
   ]
  },
  {
   "cell_type": "code",
   "execution_count": 4,
   "id": "5896109e",
   "metadata": {
    "ExecuteTime": {
     "end_time": "2021-10-26T13:44:16.249303Z",
     "start_time": "2021-10-26T13:44:16.195705Z"
    }
   },
   "outputs": [],
   "source": [
    "df[\"analysis_framework_id\"] = df[\"analysis_framework_id\"].apply(lambda x: str(int(x)))"
   ]
  },
  {
   "cell_type": "code",
   "execution_count": 5,
   "id": "0705f3fa",
   "metadata": {
    "ExecuteTime": {
     "end_time": "2021-10-26T13:44:16.351424Z",
     "start_time": "2021-10-26T13:44:16.348599Z"
    }
   },
   "outputs": [],
   "source": [
    "tagname_to_tagvalues = {\n",
    "    'sectors': set(),\n",
    "    'subpillars_2d': set(),\n",
    "    'subpillars_1d': set(),\n",
    "    'specific_needs_groups': set(),\n",
    "    'severity': set(),\n",
    "    'demographic_groups': set(),\n",
    "    'reliability': set(),\n",
    "    'affected_groups': set(),\n",
    "    'analysis_framework_id': set(),\n",
    "}"
   ]
  },
  {
   "cell_type": "code",
   "execution_count": 6,
   "id": "910e1d46",
   "metadata": {
    "ExecuteTime": {
     "end_time": "2021-10-26T13:44:32.940831Z",
     "start_time": "2021-10-26T13:44:32.934241Z"
    }
   },
   "outputs": [],
   "source": [
    "def unique_tags(col):\n",
    "    unique = set()\n",
    "    for label in col:\n",
    "        unique.update(label)\n",
    "    return unique"
   ]
  },
  {
   "cell_type": "code",
   "execution_count": 7,
   "id": "67fe2444",
   "metadata": {
    "ExecuteTime": {
     "end_time": "2021-10-26T13:44:33.920871Z",
     "start_time": "2021-10-26T13:44:33.676587Z"
    }
   },
   "outputs": [],
   "source": [
    "for tagname in tagname_to_tagvalues:\n",
    "    if tagname in ['analysis_framework_id', 'severity']:\n",
    "        tagname_to_tagvalues[tagname] = set(df[tagname].unique().tolist())\n",
    "    else:\n",
    "        tagname_to_tagvalues[tagname] = unique_tags(df[tagname])"
   ]
  },
  {
   "cell_type": "code",
   "execution_count": 8,
   "id": "018d8c89",
   "metadata": {
    "ExecuteTime": {
     "end_time": "2021-10-26T13:45:10.172253Z",
     "start_time": "2021-10-26T13:45:10.142075Z"
    },
    "scrolled": true
   },
   "outputs": [
    {
     "data": {
      "text/plain": [
       "{'sectors': {'Agriculture',\n",
       "  'Cross',\n",
       "  'Education',\n",
       "  'Food Security',\n",
       "  'Health',\n",
       "  'Livelihoods',\n",
       "  'Logistics',\n",
       "  'NOT_MAPPED',\n",
       "  'Nutrition',\n",
       "  'Protection',\n",
       "  'Shelter',\n",
       "  'WASH'},\n",
       " 'subpillars_2d': {'At Risk->Number Of People At Risk',\n",
       "  'At Risk->Risk And Vulnerabilities',\n",
       "  'Capacities & Response->International Response',\n",
       "  'Capacities & Response->Local Response',\n",
       "  'Capacities & Response->National Response',\n",
       "  'Capacities & Response->Number Of People Reached/Response Gaps',\n",
       "  'Context->Economy',\n",
       "  'Covid-19->Restriction Measures',\n",
       "  'Humanitarian Conditions->Coping Mechanisms',\n",
       "  'Humanitarian Conditions->Living Standards',\n",
       "  'Humanitarian Conditions->Number Of People In Need',\n",
       "  'Humanitarian Conditions->Physical And Mental Well Being',\n",
       "  'Impact->Driver/Aggravating Factors',\n",
       "  'Impact->Impact On People',\n",
       "  'Impact->Impact On Systems, Services And Networks',\n",
       "  'Impact->Number Of People Affected',\n",
       "  'NOT_MAPPED',\n",
       "  'Priority Interventions->Expressed By Humanitarian Staff',\n",
       "  'Priority Interventions->Expressed By Population',\n",
       "  'Priority Needs->Expressed By Humanitarian Staff',\n",
       "  'Priority Needs->Expressed By Population'},\n",
       " 'subpillars_1d': {'Capacities & Response->Number Of People Reached/Response Gaps',\n",
       "  'Casualties->Dead',\n",
       "  'Casualties->Injured',\n",
       "  'Casualties->Missing',\n",
       "  'Context->Demography',\n",
       "  'Context->Economy',\n",
       "  'Context->Environment',\n",
       "  'Context->Legal & Policy',\n",
       "  'Context->Politics',\n",
       "  'Context->Security & Stability',\n",
       "  'Context->Socio Cultural',\n",
       "  'Covid-19->Cases',\n",
       "  'Covid-19->Contact Tracing',\n",
       "  'Covid-19->Deaths',\n",
       "  'Covid-19->Hospitalization & Care',\n",
       "  'Covid-19->Restriction Measures',\n",
       "  'Covid-19->Testing',\n",
       "  'Covid-19->Vaccination',\n",
       "  'Displacement->Intentions',\n",
       "  'Displacement->Local Integration',\n",
       "  'Displacement->Pull Factors',\n",
       "  'Displacement->Push Factors',\n",
       "  'Displacement->Type/Numbers/Movements',\n",
       "  'Humanitarian Access->Number Of People Facing Humanitarian Access Constraints/Humanitarian Access Gaps',\n",
       "  'Humanitarian Access->Physical Constraints',\n",
       "  'Humanitarian Access->Population To Relief',\n",
       "  'Humanitarian Access->Relief To Population',\n",
       "  'Information And Communication->Communication Means And Preferences',\n",
       "  'Information And Communication->Information Challenges And Barriers',\n",
       "  'Information And Communication->Knowledge And Info Gaps (Hum)',\n",
       "  'Information And Communication->Knowledge And Info Gaps (Pop)',\n",
       "  'NOT_MAPPED',\n",
       "  'Shock/Event->Hazard & Threats',\n",
       "  'Shock/Event->Type And Characteristics',\n",
       "  'Shock/Event->Underlying/Aggravating Factors'},\n",
       " 'specific_needs_groups': {'Child Head of Household',\n",
       "  'Chronically Ill',\n",
       "  'Elderly Head of Household',\n",
       "  'Female Head of Household',\n",
       "  'GBV survivors',\n",
       "  'Indigenous people',\n",
       "  'LGBTQI+',\n",
       "  'Minorities',\n",
       "  'Persons with Disability',\n",
       "  'Pregnant or Lactating Women',\n",
       "  'Single Women (including Widows)',\n",
       "  'Unaccompanied or Separated Children'},\n",
       " 'severity': {'Critical',\n",
       "  'INVALID CONVERSION',\n",
       "  'Major',\n",
       "  'Minor Problem',\n",
       "  'No problem',\n",
       "  'Of Concern',\n",
       "  nan},\n",
       " 'demographic_groups': {'Adult Female (18 to 59 years old)',\n",
       "  'Adult Male (18 to 59 years old)',\n",
       "  'Children/Youth Female (5 to 17 years old)',\n",
       "  'Children/Youth Male (5 to 17 years old)',\n",
       "  'Female',\n",
       "  'Infants/Toddlers (<5 years old)',\n",
       "  'Male',\n",
       "  'Older Persons Female (60+ years old)',\n",
       "  'Older Persons Male (60+ years old)'},\n",
       " 'reliability': {'Completely Reliable',\n",
       "  'Fairly Reliable',\n",
       "  'Not Usually Reliable',\n",
       "  'Unreliable',\n",
       "  'Usually reliable'},\n",
       " 'affected_groups': {'Affected',\n",
       "  'All',\n",
       "  'Asylum Seekers',\n",
       "  'Back to Venezuela',\n",
       "  'Camp',\n",
       "  'Displaced',\n",
       "  'Host',\n",
       "  'IDP',\n",
       "  'In transit',\n",
       "  'Migrants',\n",
       "  'No legal documentation',\n",
       "  'Non Displaced',\n",
       "  'Non Host',\n",
       "  'Non-camp',\n",
       "  'Not Affected',\n",
       "  'Not affected',\n",
       "  'Other',\n",
       "  'Others',\n",
       "  'Others of Concern',\n",
       "  'Out of Venezuela',\n",
       "  'Pendular',\n",
       "  'People with irregular status',\n",
       "  'Permanent',\n",
       "  'Refugees',\n",
       "  'Returnees',\n",
       "  'Stateless',\n",
       "  'Unregistered Refugee',\n",
       "  'Venezuelans engaged in pendular/circular movement ',\n",
       "  'Venezuelans in transit (caminantes)',\n",
       "  'Venezuelans with intention to remain in Colombia'},\n",
       " 'analysis_framework_id': {'1004',\n",
       "  '1306',\n",
       "  '136',\n",
       "  '137',\n",
       "  '1465',\n",
       "  '273',\n",
       "  '495',\n",
       "  '537',\n",
       "  '552',\n",
       "  '699',\n",
       "  '726',\n",
       "  '799',\n",
       "  '829'}}"
      ]
     },
     "execution_count": 8,
     "metadata": {},
     "output_type": "execute_result"
    }
   ],
   "source": [
    "tagname_to_tagvalues"
   ]
  },
  {
   "cell_type": "code",
   "execution_count": 9,
   "id": "fb6e6a9c",
   "metadata": {
    "ExecuteTime": {
     "end_time": "2021-10-26T13:45:12.017822Z",
     "start_time": "2021-10-26T13:45:12.005647Z"
    }
   },
   "outputs": [
    {
     "data": {
      "text/plain": [
       "139"
      ]
     },
     "execution_count": 9,
     "metadata": {},
     "output_type": "execute_result"
    }
   ],
   "source": [
    "classes = set()\n",
    "for tagvalues in tagname_to_tagvalues.values():\n",
    "    classes |= tagvalues \n",
    "len(classes) # total number of tags"
   ]
  },
  {
   "cell_type": "code",
   "execution_count": 10,
   "id": "dde8cd2f",
   "metadata": {
    "ExecuteTime": {
     "end_time": "2021-10-26T13:45:13.309708Z",
     "start_time": "2021-10-26T13:45:13.293607Z"
    }
   },
   "outputs": [
    {
     "data": {
      "text/plain": [
       "{'1004',\n",
       " '1306',\n",
       " '136',\n",
       " '137',\n",
       " '1465',\n",
       " '273',\n",
       " '495',\n",
       " '537',\n",
       " '552',\n",
       " '699',\n",
       " '726',\n",
       " '799',\n",
       " '829',\n",
       " 'Adult Female (18 to 59 years old)',\n",
       " 'Adult Male (18 to 59 years old)',\n",
       " 'Affected',\n",
       " 'Agriculture',\n",
       " 'All',\n",
       " 'Asylum Seekers',\n",
       " 'At Risk->Number Of People At Risk',\n",
       " 'At Risk->Risk And Vulnerabilities',\n",
       " 'Back to Venezuela',\n",
       " 'Camp',\n",
       " 'Capacities & Response->International Response',\n",
       " 'Capacities & Response->Local Response',\n",
       " 'Capacities & Response->National Response',\n",
       " 'Capacities & Response->Number Of People Reached/Response Gaps',\n",
       " 'Casualties->Dead',\n",
       " 'Casualties->Injured',\n",
       " 'Casualties->Missing',\n",
       " 'Child Head of Household',\n",
       " 'Children/Youth Female (5 to 17 years old)',\n",
       " 'Children/Youth Male (5 to 17 years old)',\n",
       " 'Chronically Ill',\n",
       " 'Completely Reliable',\n",
       " 'Context->Demography',\n",
       " 'Context->Economy',\n",
       " 'Context->Environment',\n",
       " 'Context->Legal & Policy',\n",
       " 'Context->Politics',\n",
       " 'Context->Security & Stability',\n",
       " 'Context->Socio Cultural',\n",
       " 'Covid-19->Cases',\n",
       " 'Covid-19->Contact Tracing',\n",
       " 'Covid-19->Deaths',\n",
       " 'Covid-19->Hospitalization & Care',\n",
       " 'Covid-19->Restriction Measures',\n",
       " 'Covid-19->Testing',\n",
       " 'Covid-19->Vaccination',\n",
       " 'Critical',\n",
       " 'Cross',\n",
       " 'Displaced',\n",
       " 'Displacement->Intentions',\n",
       " 'Displacement->Local Integration',\n",
       " 'Displacement->Pull Factors',\n",
       " 'Displacement->Push Factors',\n",
       " 'Displacement->Type/Numbers/Movements',\n",
       " 'Education',\n",
       " 'Elderly Head of Household',\n",
       " 'Fairly Reliable',\n",
       " 'Female',\n",
       " 'Female Head of Household',\n",
       " 'Food Security',\n",
       " 'GBV survivors',\n",
       " 'Health',\n",
       " 'Host',\n",
       " 'Humanitarian Access->Number Of People Facing Humanitarian Access Constraints/Humanitarian Access Gaps',\n",
       " 'Humanitarian Access->Physical Constraints',\n",
       " 'Humanitarian Access->Population To Relief',\n",
       " 'Humanitarian Access->Relief To Population',\n",
       " 'Humanitarian Conditions->Coping Mechanisms',\n",
       " 'Humanitarian Conditions->Living Standards',\n",
       " 'Humanitarian Conditions->Number Of People In Need',\n",
       " 'Humanitarian Conditions->Physical And Mental Well Being',\n",
       " 'IDP',\n",
       " 'INVALID CONVERSION',\n",
       " 'Impact->Driver/Aggravating Factors',\n",
       " 'Impact->Impact On People',\n",
       " 'Impact->Impact On Systems, Services And Networks',\n",
       " 'Impact->Number Of People Affected',\n",
       " 'In transit',\n",
       " 'Indigenous people',\n",
       " 'Infants/Toddlers (<5 years old)',\n",
       " 'Information And Communication->Communication Means And Preferences',\n",
       " 'Information And Communication->Information Challenges And Barriers',\n",
       " 'Information And Communication->Knowledge And Info Gaps (Hum)',\n",
       " 'Information And Communication->Knowledge And Info Gaps (Pop)',\n",
       " 'LGBTQI+',\n",
       " 'Livelihoods',\n",
       " 'Logistics',\n",
       " 'Major',\n",
       " 'Male',\n",
       " 'Migrants',\n",
       " 'Minor Problem',\n",
       " 'Minorities',\n",
       " 'NOT_MAPPED',\n",
       " 'No legal documentation',\n",
       " 'No problem',\n",
       " 'Non Displaced',\n",
       " 'Non Host',\n",
       " 'Non-camp',\n",
       " 'Not Affected',\n",
       " 'Not Usually Reliable',\n",
       " 'Not affected',\n",
       " 'Nutrition',\n",
       " 'Of Concern',\n",
       " 'Older Persons Female (60+ years old)',\n",
       " 'Older Persons Male (60+ years old)',\n",
       " 'Other',\n",
       " 'Others',\n",
       " 'Others of Concern',\n",
       " 'Out of Venezuela',\n",
       " 'Pendular',\n",
       " 'People with irregular status',\n",
       " 'Permanent',\n",
       " 'Persons with Disability',\n",
       " 'Pregnant or Lactating Women',\n",
       " 'Priority Interventions->Expressed By Humanitarian Staff',\n",
       " 'Priority Interventions->Expressed By Population',\n",
       " 'Priority Needs->Expressed By Humanitarian Staff',\n",
       " 'Priority Needs->Expressed By Population',\n",
       " 'Protection',\n",
       " 'Refugees',\n",
       " 'Returnees',\n",
       " 'Shelter',\n",
       " 'Shock/Event->Hazard & Threats',\n",
       " 'Shock/Event->Type And Characteristics',\n",
       " 'Shock/Event->Underlying/Aggravating Factors',\n",
       " 'Single Women (including Widows)',\n",
       " 'Stateless',\n",
       " 'Unaccompanied or Separated Children',\n",
       " 'Unregistered Refugee',\n",
       " 'Unreliable',\n",
       " 'Usually reliable',\n",
       " 'Venezuelans engaged in pendular/circular movement ',\n",
       " 'Venezuelans in transit (caminantes)',\n",
       " 'Venezuelans with intention to remain in Colombia',\n",
       " 'WASH'}"
      ]
     },
     "execution_count": 10,
     "metadata": {},
     "output_type": "execute_result"
    }
   ],
   "source": [
    "classes = classes - {np.nan}\n",
    "classes"
   ]
  },
  {
   "cell_type": "code",
   "execution_count": 11,
   "id": "4c6da198",
   "metadata": {
    "ExecuteTime": {
     "end_time": "2021-10-26T13:45:21.568222Z",
     "start_time": "2021-10-26T13:45:21.561157Z"
    }
   },
   "outputs": [],
   "source": [
    "class_to_id = {cls:i for i, cls in enumerate(classes)}"
   ]
  },
  {
   "cell_type": "code",
   "execution_count": 27,
   "id": "c186994a",
   "metadata": {
    "ExecuteTime": {
     "end_time": "2021-10-26T12:33:31.241653Z",
     "start_time": "2021-10-26T12:33:31.220514Z"
    }
   },
   "outputs": [
    {
     "data": {
      "text/plain": [
       "{'Displaced': 0,\n",
       " 'Elderly Head of Household': 1,\n",
       " 'Covid-19->Testing': 2,\n",
       " 'Covid-19->Cases': 3,\n",
       " 'Food Security': 4,\n",
       " '495': 5,\n",
       " 'Cross': 6,\n",
       " 'Humanitarian Access->Number Of People Facing Humanitarian Access Constraints/Humanitarian Access Gaps': 7,\n",
       " 'Covid-19->Vaccination': 8,\n",
       " '136': 9,\n",
       " 'Shock/Event->Underlying/Aggravating Factors': 10,\n",
       " 'Displacement->Push Factors': 11,\n",
       " 'All': 12,\n",
       " 'In transit': 13,\n",
       " 'Impact->Driver/Aggravating Factors': 14,\n",
       " 'Context->Legal & Policy': 15,\n",
       " '699': 16,\n",
       " '1306': 17,\n",
       " 'Completely Reliable': 18,\n",
       " 'Casualties->Injured': 19,\n",
       " 'Infants/Toddlers (<5 years old)': 20,\n",
       " 'Not affected': 21,\n",
       " 'Protection': 22,\n",
       " 'At Risk->Number Of People At Risk': 23,\n",
       " '829': 24,\n",
       " 'Migrants': 25,\n",
       " 'Priority Interventions->Expressed By Population': 26,\n",
       " 'Major': 27,\n",
       " 'Child Head of Household': 28,\n",
       " 'Impact->Impact On Systems, Services And Networks': 29,\n",
       " 'Context->Politics': 30,\n",
       " 'Nutrition': 31,\n",
       " 'Usually reliable': 32,\n",
       " 'Humanitarian Conditions->Coping Mechanisms': 33,\n",
       " 'Stateless': 34,\n",
       " '726': 35,\n",
       " 'Humanitarian Access->Relief To Population': 36,\n",
       " 'Displacement->Intentions': 37,\n",
       " 'NOT_MAPPED': 38,\n",
       " 'Fairly Reliable': 39,\n",
       " 'INVALID CONVERSION': 40,\n",
       " 'Capacities & Response->International Response': 41,\n",
       " '537': 42,\n",
       " 'GBV survivors': 43,\n",
       " 'Covid-19->Hospitalization & Care': 44,\n",
       " 'Covid-19->Deaths': 45,\n",
       " 'At Risk->Risk And Vulnerabilities': 46,\n",
       " 'Livelihoods': 47,\n",
       " 'Priority Needs->Expressed By Population': 48,\n",
       " 'Venezuelans in transit (caminantes)': 49,\n",
       " 'Education': 50,\n",
       " 'Humanitarian Access->Population To Relief': 51,\n",
       " 'Context->Demography': 52,\n",
       " 'Impact->Number Of People Affected': 53,\n",
       " 'Pregnant or Lactating Women': 54,\n",
       " 'Adult Male (18 to 59 years old)': 55,\n",
       " 'Casualties->Dead': 56,\n",
       " 'Male': 57,\n",
       " '1465': 58,\n",
       " 'Chronically Ill': 59,\n",
       " 'Indigenous people': 60,\n",
       " 'Humanitarian Conditions->Living Standards': 61,\n",
       " 'Capacities & Response->Local Response': 62,\n",
       " 'Refugees': 63,\n",
       " 'Not Usually Reliable': 64,\n",
       " 'Other': 65,\n",
       " 'Unregistered Refugee': 66,\n",
       " '1004': 67,\n",
       " 'Priority Needs->Expressed By Humanitarian Staff': 68,\n",
       " 'IDP': 69,\n",
       " 'Single Women (including Widows)': 70,\n",
       " 'Older Persons Male (60+ years old)': 71,\n",
       " 'Context->Socio Cultural': 72,\n",
       " 'Permanent': 73,\n",
       " 'Displacement->Pull Factors': 74,\n",
       " 'Non Host': 75,\n",
       " 'People with irregular status': 76,\n",
       " 'Of Concern': 77,\n",
       " 'Context->Economy': 78,\n",
       " 'Camp': 79,\n",
       " 'Female Head of Household': 80,\n",
       " 'Non Displaced': 81,\n",
       " 'Asylum Seekers': 82,\n",
       " 'Unreliable': 83,\n",
       " 'Capacities & Response->National Response': 84,\n",
       " 'Older Persons Female (60+ years old)': 85,\n",
       " 'Shelter': 86,\n",
       " 'Venezuelans with intention to remain in Colombia': 87,\n",
       " 'Minorities': 88,\n",
       " 'Female': 89,\n",
       " 'Casualties->Missing': 90,\n",
       " 'Information And Communication->Knowledge And Info Gaps (Pop)': 91,\n",
       " 'Others': 92,\n",
       " 'Health': 93,\n",
       " 'Agriculture': 94,\n",
       " '273': 95,\n",
       " 'Returnees': 96,\n",
       " 'Displacement->Type/Numbers/Movements': 97,\n",
       " 'Context->Security & Stability': 98,\n",
       " 'Children/Youth Female (5 to 17 years old)': 99,\n",
       " 'Humanitarian Conditions->Number Of People In Need': 100,\n",
       " 'Humanitarian Conditions->Physical And Mental Well Being': 101,\n",
       " 'Persons with Disability': 102,\n",
       " 'Shock/Event->Hazard & Threats': 103,\n",
       " 'Others of Concern': 104,\n",
       " 'Shock/Event->Type And Characteristics': 105,\n",
       " 'Minor Problem': 106,\n",
       " 'Pendular': 107,\n",
       " 'Non-camp': 108,\n",
       " 'No problem': 109,\n",
       " 'Information And Communication->Communication Means And Preferences': 110,\n",
       " 'Host': 111,\n",
       " 'Information And Communication->Knowledge And Info Gaps (Hum)': 112,\n",
       " 'Not Affected': 113,\n",
       " 'Covid-19->Contact Tracing': 114,\n",
       " 'Venezuelans engaged in pendular/circular movement ': 115,\n",
       " 'Back to Venezuela': 116,\n",
       " 'WASH': 117,\n",
       " 'Displacement->Local Integration': 118,\n",
       " 'Capacities & Response->Number Of People Reached/Response Gaps': 119,\n",
       " 'Out of Venezuela': 120,\n",
       " 'Affected': 121,\n",
       " 'Context->Environment': 122,\n",
       " '799': 123,\n",
       " 'Humanitarian Access->Physical Constraints': 124,\n",
       " 'Covid-19->Restriction Measures': 125,\n",
       " 'Critical': 126,\n",
       " 'Logistics': 127,\n",
       " 'Priority Interventions->Expressed By Humanitarian Staff': 128,\n",
       " 'Unaccompanied or Separated Children': 129,\n",
       " 'Impact->Impact On People': 130,\n",
       " '137': 131,\n",
       " 'Adult Female (18 to 59 years old)': 132,\n",
       " 'No legal documentation': 133,\n",
       " 'Information And Communication->Information Challenges And Barriers': 134,\n",
       " '552': 135,\n",
       " 'LGBTQI+': 136,\n",
       " 'Children/Youth Male (5 to 17 years old)': 137}"
      ]
     },
     "execution_count": 27,
     "metadata": {},
     "output_type": "execute_result"
    }
   ],
   "source": [
    "class_to_id"
   ]
  },
  {
   "cell_type": "code",
   "execution_count": 12,
   "id": "2321f4d9",
   "metadata": {
    "ExecuteTime": {
     "end_time": "2021-10-26T13:45:23.517112Z",
     "start_time": "2021-10-26T13:45:23.266683Z"
    }
   },
   "outputs": [],
   "source": [
    "for tagvalues in tagname_to_tagvalues.values():\n",
    "    for tagvalue in tagvalues:\n",
    "        df[tagvalue] = 0"
   ]
  },
  {
   "cell_type": "code",
   "execution_count": 13,
   "id": "0317ef4d",
   "metadata": {
    "ExecuteTime": {
     "end_time": "2021-10-26T13:46:14.000748Z",
     "start_time": "2021-10-26T13:45:46.001979Z"
    }
   },
   "outputs": [
    {
     "data": {
      "application/vnd.jupyter.widget-view+json": {
       "model_id": "e8648f6d3a2447a7ba069580b663482e",
       "version_major": 2,
       "version_minor": 0
      },
      "text/plain": [
       "  0%|          | 0/157920 [00:00<?, ?it/s]"
      ]
     },
     "metadata": {},
     "output_type": "display_data"
    }
   ],
   "source": [
    "labels_2d = np.zeros((df.shape[0], len(classes)))\n",
    "for row in tqdm(df.iterrows(), total=df.shape[0]):\n",
    "    for tagname in tagname_to_tagvalues.keys():\n",
    "        idx = row[0]\n",
    "        yi = row[1][tagname]\n",
    "        if isinstance(yi, str):\n",
    "            df.at[idx, yi] = 1\n",
    "            labels_2d[idx, class_to_id[yi]] = 1\n",
    "        elif isinstance(yi, list):\n",
    "            for lbl in yi:\n",
    "                df.at[idx, lbl] = 1\n",
    "                labels_2d[idx, class_to_id[lbl]] = 1"
   ]
  },
  {
   "cell_type": "code",
   "execution_count": 14,
   "id": "0967ee5d",
   "metadata": {
    "ExecuteTime": {
     "end_time": "2021-10-26T13:46:14.381342Z",
     "start_time": "2021-10-26T13:46:14.354289Z"
    }
   },
   "outputs": [
    {
     "data": {
      "text/plain": [
       "array([   627,   2142,   1789,   1852,    722,   1287,  12538,     32,\n",
       "         3095,  38148,  15649,   1326,  16421,   1751,   6202,   2256,\n",
       "        17244,     88,   2798,   1486,    228,     25,   1841,   4587,\n",
       "          501,   2080,   2364,   1622,   5673,    290,    199,     45,\n",
       "         3098,   1587,    192,     83,     11,    396,   7905,  20792,\n",
       "          277,  73750,  34290,    221,   4082,  12737,    202, 152833,\n",
       "        16516,   5171,    948,   6946,  11243,   3346,   1743,   1659,\n",
       "          726,   8189,  49874,    572,   3819,    855,   3472,  13741,\n",
       "         5078,   1914,   2051,    304,    347,   5507,   3496,   5332,\n",
       "         2804,   5299,  26668,    126,   2596,    116,  42059,  15405,\n",
       "         8721,     10,   2095,   1339,   5072,     46,   4575,  27948,\n",
       "          814,    770,   1205,   1207,   2332,    512,   2071,  16634,\n",
       "          130,    272,   2355,  10000,    155,   3114,   2975,   4859,\n",
       "        16382,  15129,    671,    224,   1336,   1686,    275,  16304,\n",
       "          259,  79438,  11468,   5222,   3378,   3936,    517,   2186,\n",
       "         2868,    421,    663,  14617,  12821,   3194,   7154,   2776,\n",
       "         7926,     16,    108,  15348,    222,    121,   1001,  10141,\n",
       "          506,  28020])"
      ]
     },
     "execution_count": 14,
     "metadata": {},
     "output_type": "execute_result"
    }
   ],
   "source": [
    "labels_2d.sum(axis=0, dtype=int)"
   ]
  },
  {
   "cell_type": "code",
   "execution_count": 15,
   "id": "52721249",
   "metadata": {
    "ExecuteTime": {
     "end_time": "2021-10-26T13:46:14.818049Z",
     "start_time": "2021-10-26T13:46:14.762818Z"
    }
   },
   "outputs": [
    {
     "data": {
      "text/plain": [
       "{'Not Affected': 10,\n",
       " 'Other': 11,\n",
       " 'Venezuelans engaged in pendular/circular movement ': 16,\n",
       " 'Venezuelans in transit (caminantes)': 25,\n",
       " '726': 32,\n",
       " '799': 45,\n",
       " 'Unreliable': 46,\n",
       " 'Venezuelans with intention to remain in Colombia': 83,\n",
       " 'Stateless': 88,\n",
       " 'Back to Venezuela': 108,\n",
       " 'Elderly Head of Household': 116,\n",
       " 'Not Usually Reliable': 121,\n",
       " 'Non Host': 126,\n",
       " 'Out of Venezuela': 130,\n",
       " 'Information And Communication->Information Challenges And Barriers': 155,\n",
       " 'Child Head of Household': 192,\n",
       " 'Minor Problem': 199,\n",
       " 'Single Women (including Widows)': 202,\n",
       " 'Unregistered Refugee': 221,\n",
       " 'Information And Communication->Communication Means And Preferences': 222,\n",
       " 'No legal documentation': 224,\n",
       " 'Humanitarian Access->Population To Relief': 228,\n",
       " 'Capacities & Response->Local Response': 259,\n",
       " 'Casualties->Missing': 272,\n",
       " 'Pendular': 275,\n",
       " 'At Risk->Number Of People At Risk': 277,\n",
       " 'Priority Interventions->Expressed By Population': 290,\n",
       " 'Information And Communication->Knowledge And Info Gaps (Pop)': 304,\n",
       " 'Displacement->Pull Factors': 347,\n",
       " 'Non-camp': 396,\n",
       " 'Not affected': 421,\n",
       " 'People with irregular status': 501,\n",
       " 'Displacement->Intentions': 506,\n",
       " 'Covid-19->Hospitalization & Care': 512,\n",
       " 'LGBTQI+': 517,\n",
       " 'Male': 572,\n",
       " 'Covid-19->Contact Tracing': 627,\n",
       " 'Casualties->Injured': 663,\n",
       " 'Information And Communication->Knowledge And Info Gaps (Hum)': 671,\n",
       " 'Female Head of Household': 722,\n",
       " 'Humanitarian Access->Number Of People Facing Humanitarian Access Constraints/Humanitarian Access Gaps': 726,\n",
       " 'Chronically Ill': 770,\n",
       " 'Unaccompanied or Separated Children': 814,\n",
       " 'GBV survivors': 855,\n",
       " 'Humanitarian Access->Relief To Population': 948,\n",
       " 'Minorities': 1001,\n",
       " 'Completely Reliable': 1205,\n",
       " 'Context->Environment': 1207,\n",
       " 'In transit': 1287,\n",
       " 'INVALID CONVERSION': 1326,\n",
       " 'Shock/Event->Type And Characteristics': 1336,\n",
       " 'Humanitarian Conditions->Number Of People In Need': 1339,\n",
       " 'Female': 1486,\n",
       " 'Others': 1587,\n",
       " 'Covid-19->Testing': 1622,\n",
       " 'Persons with Disability': 1659,\n",
       " 'Priority Needs->Expressed By Humanitarian Staff': 1686,\n",
       " 'Humanitarian Access->Physical Constraints': 1743,\n",
       " 'Context->Socio Cultural': 1751,\n",
       " 'Indigenous people': 1789,\n",
       " 'Shock/Event->Underlying/Aggravating Factors': 1841,\n",
       " 'Displacement->Local Integration': 1852,\n",
       " 'Priority Needs->Expressed By Population': 1914,\n",
       " 'Displacement->Push Factors': 2051,\n",
       " 'Pregnant or Lactating Women': 2071,\n",
       " 'Asylum Seekers': 2080,\n",
       " 'Context->Politics': 2095,\n",
       " 'No problem': 2142,\n",
       " '495': 2186,\n",
       " '137': 2256,\n",
       " 'Camp': 2332,\n",
       " '136': 2355,\n",
       " 'Impact->Number Of People Affected': 2364,\n",
       " 'Fairly Reliable': 2596,\n",
       " 'Covid-19->Vaccination': 2776,\n",
       " 'Logistics': 2798,\n",
       " 'Context->Legal & Policy': 2804,\n",
       " '537': 2868,\n",
       " 'Older Persons Male (60+ years old)': 2975,\n",
       " '273': 3095,\n",
       " 'Covid-19->Deaths': 3098,\n",
       " 'Agriculture': 3114,\n",
       " 'Casualties->Dead': 3194,\n",
       " 'Permanent': 3346,\n",
       " 'Context->Demography': 3378,\n",
       " 'Infants/Toddlers (<5 years old)': 3472,\n",
       " '552': 3496,\n",
       " '1004': 3819,\n",
       " 'Adult Male (18 to 59 years old)': 3936,\n",
       " 'Capacities & Response->Number Of People Reached/Response Gaps': 4082,\n",
       " 'Returnees': 4575,\n",
       " 'Shock/Event->Hazard & Threats': 4587,\n",
       " 'Older Persons Female (60+ years old)': 4859,\n",
       " 'Covid-19->Restriction Measures': 5072,\n",
       " '699': 5078,\n",
       " 'Context->Economy': 5171,\n",
       " 'Nutrition': 5222,\n",
       " 'Others of Concern': 5299,\n",
       " 'Humanitarian Conditions->Coping Mechanisms': 5332,\n",
       " 'Covid-19->Cases': 5507,\n",
       " 'Priority Interventions->Expressed By Humanitarian Staff': 5673,\n",
       " 'Host': 6202,\n",
       " 'Capacities & Response->National Response': 6946,\n",
       " 'Non Displaced': 7154,\n",
       " 'All': 7905,\n",
       " 'Context->Security & Stability': 7926,\n",
       " 'Adult Female (18 to 59 years old)': 8189,\n",
       " 'Displacement->Type/Numbers/Movements': 8721,\n",
       " 'Shelter': 10000,\n",
       " 'Education': 10141,\n",
       " 'At Risk->Risk And Vulnerabilities': 11243,\n",
       " 'WASH': 11468,\n",
       " 'Of Concern': 12538,\n",
       " 'Impact->Driver/Aggravating Factors': 12737,\n",
       " 'Impact->Impact On People': 12821,\n",
       " 'Children/Youth Male (5 to 17 years old)': 13741,\n",
       " 'IDP': 14617,\n",
       " 'Impact->Impact On Systems, Services And Networks': 15129,\n",
       " 'Refugees': 15348,\n",
       " 'Critical': 15405,\n",
       " 'Food Security': 15649,\n",
       " 'Capacities & Response->International Response': 16304,\n",
       " 'Children/Youth Female (5 to 17 years old)': 16382,\n",
       " 'Livelihoods': 16421,\n",
       " 'Migrants': 16516,\n",
       " 'Major': 16634,\n",
       " 'Humanitarian Conditions->Physical And Mental Well Being': 17244,\n",
       " '829': 20792,\n",
       " 'Cross': 26668,\n",
       " 'Humanitarian Conditions->Living Standards': 27948,\n",
       " 'Protection': 28020,\n",
       " 'Health': 34290,\n",
       " '1465': 38148,\n",
       " 'NOT_MAPPED': 42059,\n",
       " 'Displaced': 49874,\n",
       " '1306': 73750,\n",
       " 'Affected': 79438,\n",
       " 'Usually reliable': 152833}"
      ]
     },
     "execution_count": 15,
     "metadata": {},
     "output_type": "execute_result"
    }
   ],
   "source": [
    "df[classes].sum().astype(int).sort_values().to_dict()"
   ]
  },
  {
   "cell_type": "code",
   "execution_count": 16,
   "id": "f8ac97ae",
   "metadata": {
    "ExecuteTime": {
     "end_time": "2021-10-26T13:54:17.208370Z",
     "start_time": "2021-10-26T13:46:15.177858Z"
    }
   },
   "outputs": [],
   "source": [
    "X_train, y_train, X_test, y_test = iterative_train_test_split(\n",
    "    df.index.to_numpy().reshape(-1, 1), labels_2d, test_size=0.1)"
   ]
  },
  {
   "cell_type": "code",
   "execution_count": 17,
   "id": "3fa24722",
   "metadata": {
    "ExecuteTime": {
     "end_time": "2021-10-26T14:00:41.703176Z",
     "start_time": "2021-10-26T13:54:17.557328Z"
    }
   },
   "outputs": [],
   "source": [
    "X_train, y_train, X_val, y_val = iterative_train_test_split(X_train,\n",
    "                                                            y_train,\n",
    "                                                            test_size=0.1)"
   ]
  },
  {
   "cell_type": "code",
   "execution_count": 18,
   "id": "45cfccae",
   "metadata": {
    "ExecuteTime": {
     "end_time": "2021-10-26T14:00:42.167993Z",
     "start_time": "2021-10-26T14:00:42.067703Z"
    }
   },
   "outputs": [],
   "source": [
    "df_train = df[df.index.isin(X_train.reshape(-1))]\n",
    "df_val = df[df.index.isin(X_val.reshape(-1))]\n",
    "df_test = df[df.index.isin(X_test.reshape(-1))]"
   ]
  },
  {
   "cell_type": "code",
   "execution_count": 19,
   "id": "356cbdbc",
   "metadata": {
    "ExecuteTime": {
     "end_time": "2021-10-26T14:00:42.995027Z",
     "start_time": "2021-10-26T14:00:42.988680Z"
    }
   },
   "outputs": [
    {
     "name": "stderr",
     "output_type": "stream",
     "text": [
      "/tmp/ipykernel_428360/393006598.py:1: FutureWarning: Index.__and__ operating as a set operation is deprecated, in the future this will be a logical operation matching Series.__and__.  Use index.intersection(other) instead\n",
      "  (df_train.index & df_val.index, df_train.index & df_test.index,\n",
      "/tmp/ipykernel_428360/393006598.py:2: FutureWarning: Index.__and__ operating as a set operation is deprecated, in the future this will be a logical operation matching Series.__and__.  Use index.intersection(other) instead\n",
      "  df_test.index & df_val.index)\n"
     ]
    },
    {
     "data": {
      "text/plain": [
       "(Int64Index([], dtype='int64'),\n",
       " Int64Index([], dtype='int64'),\n",
       " Int64Index([], dtype='int64'))"
      ]
     },
     "execution_count": 19,
     "metadata": {},
     "output_type": "execute_result"
    }
   ],
   "source": [
    "(df_train.index & df_val.index, df_train.index & df_test.index,\n",
    " df_test.index & df_val.index)"
   ]
  },
  {
   "cell_type": "code",
   "execution_count": 20,
   "id": "cf630fbd",
   "metadata": {
    "ExecuteTime": {
     "end_time": "2021-10-26T14:05:49.761737Z",
     "start_time": "2021-10-26T14:05:49.696335Z"
    }
   },
   "outputs": [],
   "source": [
    "cols = [\n",
    "    'entry_id', 'excerpt', 'analysis_framework_id', 'lead_id', 'project_id',\n",
    "    'verified', 'sectors', 'subpillars_2d', 'subpillars_1d', 'geo_location',\n",
    "    'specific_needs_groups', 'severity', 'info_date', 'demographic_groups',\n",
    "    'reliability', 'affected_groups', 'source_type', 'url', 'website'\n",
    "]\n",
    "df_train = df_train[cols]\n",
    "df_val = df_val[cols]\n",
    "df_test = df_test[cols]"
   ]
  },
  {
   "cell_type": "code",
   "execution_count": 21,
   "id": "2db3d400",
   "metadata": {
    "ExecuteTime": {
     "end_time": "2021-10-26T14:07:27.453614Z",
     "start_time": "2021-10-26T14:07:25.076614Z"
    }
   },
   "outputs": [],
   "source": [
    "df_train.to_csv(\"generated_dataset/train_v0.7.csv\", index=None)\n",
    "df_val.to_csv(\"generated_dataset/val_v0.7.csv\", index=None)\n",
    "df_test.to_csv(\"generated_dataset/test_v0.7.csv\", index=None)"
   ]
  },
  {
   "cell_type": "code",
   "execution_count": 22,
   "id": "ba4abd67",
   "metadata": {
    "ExecuteTime": {
     "end_time": "2021-10-26T14:07:34.179163Z",
     "start_time": "2021-10-26T14:07:33.987724Z"
    }
   },
   "outputs": [
    {
     "name": "stdout",
     "output_type": "stream",
     "text": [
      "sectors: 0.22\n",
      "subpillars_2d: 0.24\n",
      "subpillars_1d: 0.48\n",
      "specific_needs_groups: 0.95\n",
      "severity: 0.00\n",
      "demographic_groups: 0.84\n",
      "reliability: 0.01\n",
      "affected_groups: 0.46\n",
      "analysis_framework_id: 0.00\n"
     ]
    }
   ],
   "source": [
    "for tagname in tagname_to_tagvalues.keys():\n",
    "    perc = df_train[tagname].apply(lambda x: x!= []).sum()\n",
    "    perc = perc/df_train.shape[0]\n",
    "    print(f\"{tagname}: {1-perc:.2f}\")"
   ]
  },
  {
   "cell_type": "code",
   "execution_count": 23,
   "id": "b571ad77",
   "metadata": {
    "ExecuteTime": {
     "end_time": "2021-10-26T14:07:50.204080Z",
     "start_time": "2021-10-26T14:07:50.150281Z"
    }
   },
   "outputs": [
    {
     "name": "stdout",
     "output_type": "stream",
     "text": [
      "sectors: 0.21\n",
      "subpillars_2d: 0.23\n",
      "subpillars_1d: 0.55\n",
      "specific_needs_groups: 0.94\n",
      "severity: 0.00\n",
      "demographic_groups: 0.84\n",
      "reliability: 0.01\n",
      "affected_groups: 0.45\n",
      "analysis_framework_id: 0.00\n"
     ]
    }
   ],
   "source": [
    "for tagname in tagname_to_tagvalues.keys():\n",
    "    perc = df_val[tagname].apply(lambda x: x!= []).sum()\n",
    "    perc = perc/df_val.shape[0]\n",
    "    print(f\"{tagname}: {1-perc:.2f}\")"
   ]
  },
  {
   "cell_type": "code",
   "execution_count": 24,
   "id": "ce836b00",
   "metadata": {
    "ExecuteTime": {
     "end_time": "2021-10-26T14:08:51.320799Z",
     "start_time": "2021-10-26T14:08:51.261737Z"
    }
   },
   "outputs": [
    {
     "name": "stdout",
     "output_type": "stream",
     "text": [
      "sectors: 0.23\n",
      "subpillars_2d: 0.25\n",
      "subpillars_1d: 0.52\n",
      "specific_needs_groups: 0.95\n",
      "severity: 0.00\n",
      "demographic_groups: 0.85\n",
      "reliability: 0.01\n",
      "affected_groups: 0.47\n",
      "analysis_framework_id: 0.00\n"
     ]
    }
   ],
   "source": [
    "for tagname in tagname_to_tagvalues.keys():\n",
    "    perc = df_test[tagname].apply(lambda x: x!= []).sum()\n",
    "    perc = perc/df_test.shape[0]\n",
    "    print(f\"{tagname}: {1-perc:.2f}\")"
   ]
  },
  {
   "cell_type": "code",
   "execution_count": 25,
   "id": "feac6768",
   "metadata": {
    "ExecuteTime": {
     "end_time": "2021-10-26T14:09:05.336359Z",
     "start_time": "2021-10-26T14:09:05.106300Z"
    }
   },
   "outputs": [
    {
     "name": "stdout",
     "output_type": "stream",
     "text": [
      "sectors: 0.22\n",
      "subpillars_2d: 0.24\n",
      "subpillars_1d: 0.49\n",
      "specific_needs_groups: 0.95\n",
      "severity: 0.00\n",
      "demographic_groups: 0.85\n",
      "reliability: 0.01\n",
      "affected_groups: 0.46\n",
      "analysis_framework_id: 0.00\n"
     ]
    }
   ],
   "source": [
    "for tagname in tagname_to_tagvalues.keys():\n",
    "    perc = df[tagname].apply(lambda x: x!= []).sum()\n",
    "    perc = perc/df.shape[0]\n",
    "    print(f\"{tagname}: {1-perc:.2f}\")"
   ]
  },
  {
   "cell_type": "code",
   "execution_count": 29,
   "id": "7cbdb938",
   "metadata": {
    "ExecuteTime": {
     "end_time": "2021-10-26T14:13:20.129268Z",
     "start_time": "2021-10-26T14:12:29.816432Z"
    },
    "scrolled": true
   },
   "outputs": [
    {
     "data": {
      "application/vnd.jupyter.widget-view+json": {
       "model_id": "9d9a83abc8e9475fac6389eb5640969a",
       "version_major": 2,
       "version_minor": 0
      },
      "text/plain": [
       "  0%|          | 0/157920 [00:00<?, ?it/s]"
      ]
     },
     "metadata": {},
     "output_type": "display_data"
    }
   ],
   "source": [
    "tagnames = list(tagname_to_tagvalues.keys())\n",
    "def merge_all_labels(x):\n",
    "    res = []\n",
    "    for t in x[tagnames[:-1]]:\n",
    "        if isinstance(t, list):\n",
    "            res.extend(t)\n",
    "        elif isinstance(t, str):\n",
    "            res.append(t)\n",
    "    return res\n",
    "\n",
    "df['target'] = df.progress_apply(merge_all_labels, axis=1)"
   ]
  },
  {
   "cell_type": "code",
   "execution_count": 31,
   "id": "0aa50d1a",
   "metadata": {
    "ExecuteTime": {
     "end_time": "2021-10-26T14:13:29.260173Z",
     "start_time": "2021-10-26T14:13:29.233043Z"
    }
   },
   "outputs": [
    {
     "data": {
      "text/plain": [
       "38"
      ]
     },
     "execution_count": 31,
     "metadata": {},
     "output_type": "execute_result"
    }
   ],
   "source": [
    "df['target'].apply(lambda x: x==[]).sum()"
   ]
  },
  {
   "cell_type": "code",
   "execution_count": 32,
   "id": "ab5933e3",
   "metadata": {
    "ExecuteTime": {
     "end_time": "2021-10-26T14:13:36.204019Z",
     "start_time": "2021-10-26T14:13:36.025885Z"
    }
   },
   "outputs": [],
   "source": [
    "df_bis = df[['entry_id', 'target', 'lead_id']].copy()\n",
    "\n",
    "df_bis['count'] = df_bis['target'].apply(lambda x: len(x))\n",
    "\n",
    "max_counts = df_bis[['lead_id', 'count']].groupby('lead_id',\n",
    "                                                  as_index=False).max()\n",
    "tagged_leads = max_counts[max_counts['count'] > 0]['lead_id'].tolist()\n",
    "\n",
    "all_negative_ids = df_bis[\n",
    "    df_bis.lead_id.isin(tagged_leads)\n",
    "    & df_bis.target.apply(lambda x: len(x) == 0)].entry_id.unique().tolist()"
   ]
  },
  {
   "cell_type": "code",
   "execution_count": 33,
   "id": "e5d7b6cf",
   "metadata": {
    "ExecuteTime": {
     "end_time": "2021-10-26T14:13:38.182462Z",
     "start_time": "2021-10-26T14:13:38.088549Z"
    }
   },
   "outputs": [
    {
     "data": {
      "text/plain": [
       "((157896, 159), (157920, 159))"
      ]
     },
     "execution_count": 33,
     "metadata": {},
     "output_type": "execute_result"
    }
   ],
   "source": [
    "df_tagged = df[~df.lead_id.isin(all_negative_ids)]\n",
    "df_tagged.shape, df.shape"
   ]
  },
  {
   "cell_type": "code",
   "execution_count": 34,
   "id": "636c8207",
   "metadata": {
    "ExecuteTime": {
     "end_time": "2021-10-26T14:13:54.639127Z",
     "start_time": "2021-10-26T14:13:54.325161Z"
    }
   },
   "outputs": [
    {
     "name": "stdout",
     "output_type": "stream",
     "text": [
      "sectors: 0.22\n",
      "subpillars_2d: 0.24\n",
      "subpillars_1d: 0.49\n",
      "specific_needs_groups: 0.95\n",
      "severity: 0.00\n",
      "demographic_groups: 0.85\n",
      "reliability: 0.01\n",
      "affected_groups: 0.46\n",
      "analysis_framework_id: 0.00\n"
     ]
    }
   ],
   "source": [
    "df_tagged = df[~df.lead_id.isin(all_negative_ids)]\n",
    "for tagname in tagname_to_tagvalues.keys():\n",
    "    perc = df_tagged[tagname].apply(lambda x: x!= []).sum()\n",
    "    perc = perc/df_tagged.shape[0]\n",
    "    print(f\"{tagname}: {1-perc:.2f}\")"
   ]
  },
  {
   "cell_type": "code",
   "execution_count": 35,
   "id": "c7ad4f15",
   "metadata": {
    "ExecuteTime": {
     "end_time": "2021-10-26T14:16:02.064258Z",
     "start_time": "2021-10-26T14:16:02.004895Z"
    }
   },
   "outputs": [
    {
     "name": "stdout",
     "output_type": "stream",
     "text": [
      "sectors: 0.28\n",
      "subpillars_2d: 0.28\n",
      "subpillars_1d: 0.43\n",
      "specific_needs_groups: 0.94\n",
      "severity: 0.00\n",
      "demographic_groups: 0.88\n",
      "reliability: 0.03\n",
      "affected_groups: 0.47\n",
      "analysis_framework_id: 0.00\n"
     ]
    }
   ],
   "source": [
    "df_train_tagged = df_train[df_train.index.isin(tagged_leads)]\n",
    "for tagname in tagname_to_tagvalues.keys():\n",
    "    perc = df_train_tagged[tagname].apply(lambda x: x!= []).sum()\n",
    "    perc = perc/df_train_tagged.shape[0]\n",
    "    print(f\"{tagname}: {1-perc:.2f}\")"
   ]
  },
  {
   "cell_type": "code",
   "execution_count": 36,
   "id": "685ea29c",
   "metadata": {
    "ExecuteTime": {
     "end_time": "2021-10-26T14:16:09.827705Z",
     "start_time": "2021-10-26T14:16:09.812331Z"
    }
   },
   "outputs": [
    {
     "name": "stdout",
     "output_type": "stream",
     "text": [
      "sectors: 0.25\n",
      "subpillars_2d: 0.25\n",
      "subpillars_1d: 0.47\n",
      "specific_needs_groups: 0.96\n",
      "severity: 0.00\n",
      "demographic_groups: 0.89\n",
      "reliability: 0.02\n",
      "affected_groups: 0.45\n",
      "analysis_framework_id: 0.00\n"
     ]
    }
   ],
   "source": [
    "df_val_tagged = df_val[df_val.index.isin(tagged_leads)]\n",
    "for tagname in tagname_to_tagvalues.keys():\n",
    "    perc = df_val_tagged[tagname].apply(lambda x: x!= []).sum()\n",
    "    perc = perc/df_val_tagged.shape[0]\n",
    "    print(f\"{tagname}: {1-perc:.2f}\")"
   ]
  },
  {
   "cell_type": "code",
   "execution_count": 37,
   "id": "d0ba4b79",
   "metadata": {
    "ExecuteTime": {
     "end_time": "2021-10-26T14:16:12.779240Z",
     "start_time": "2021-10-26T14:16:12.739485Z"
    }
   },
   "outputs": [
    {
     "name": "stdout",
     "output_type": "stream",
     "text": [
      "sectors: 0.26\n",
      "subpillars_2d: 0.26\n",
      "subpillars_1d: 0.46\n",
      "specific_needs_groups: 0.96\n",
      "severity: 0.00\n",
      "demographic_groups: 0.89\n",
      "reliability: 0.03\n",
      "affected_groups: 0.47\n",
      "analysis_framework_id: 0.00\n"
     ]
    }
   ],
   "source": [
    "df_test_tagged = df_test[df_test.index.isin(tagged_leads)]\n",
    "for tagname in tagname_to_tagvalues.keys():\n",
    "    perc = df_test_tagged[tagname].apply(lambda x: x!= []).sum()\n",
    "    perc = perc/df_test_tagged.shape[0]\n",
    "    print(f\"{tagname}: {1-perc:.2f}\")"
   ]
  },
  {
   "cell_type": "code",
   "execution_count": null,
   "id": "33e33378",
   "metadata": {},
   "outputs": [],
   "source": []
  },
  {
   "cell_type": "code",
   "execution_count": null,
   "id": "22fb1532",
   "metadata": {},
   "outputs": [],
   "source": []
  }
 ],
 "metadata": {
  "kernelspec": {
   "display_name": "Python 3.8.5 64-bit ('base': conda)",
   "language": "python",
   "name": "python385jvsc74a57bd0f487e277ea6a75fd1c7c341a1deb40c7861148cbc006695943c5304af00fedbe"
  },
  "language_info": {
   "codemirror_mode": {
    "name": "ipython",
    "version": 3
   },
   "file_extension": ".py",
   "mimetype": "text/x-python",
   "name": "python",
   "nbconvert_exporter": "python",
   "pygments_lexer": "ipython3",
   "version": "3.8.11"
  },
  "varInspector": {
   "cols": {
    "lenName": 16,
    "lenType": 16,
    "lenVar": 40
   },
   "kernels_config": {
    "python": {
     "delete_cmd_postfix": "",
     "delete_cmd_prefix": "del ",
     "library": "var_list.py",
     "varRefreshCmd": "print(var_dic_list())"
    },
    "r": {
     "delete_cmd_postfix": ") ",
     "delete_cmd_prefix": "rm(",
     "library": "var_list.r",
     "varRefreshCmd": "cat(var_dic_list()) "
    }
   },
   "types_to_exclude": [
    "module",
    "function",
    "builtin_function_or_method",
    "instance",
    "_Feature"
   ],
   "window_display": false
  }
 },
 "nbformat": 4,
 "nbformat_minor": 5
}
