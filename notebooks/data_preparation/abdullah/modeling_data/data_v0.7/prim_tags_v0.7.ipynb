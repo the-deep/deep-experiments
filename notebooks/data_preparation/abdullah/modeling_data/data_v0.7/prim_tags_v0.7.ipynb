{
 "cells": [
  {
   "cell_type": "code",
   "execution_count": 1,
   "metadata": {
    "ExecuteTime": {
     "end_time": "2021-10-26T11:08:00.608529Z",
     "start_time": "2021-10-26T11:08:00.352817Z"
    }
   },
   "outputs": [],
   "source": [
    "import re\n",
    "import os\n",
    "import json\n",
    "import random\n",
    "from pprint import pprint\n",
    "from ast import literal_eval\n",
    "from collections import Counter, defaultdict\n",
    "\n",
    "import numpy as np\n",
    "import pandas as pd\n",
    "from tqdm.auto import tqdm"
   ]
  },
  {
   "cell_type": "code",
   "execution_count": 2,
   "metadata": {
    "ExecuteTime": {
     "end_time": "2021-10-26T11:08:00.611867Z",
     "start_time": "2021-10-26T11:08:00.609851Z"
    }
   },
   "outputs": [],
   "source": [
    "random.seed(2021)\n",
    "np.random.seed(2021)"
   ]
  },
  {
   "cell_type": "code",
   "execution_count": 3,
   "metadata": {
    "ExecuteTime": {
     "end_time": "2021-10-26T11:08:04.014077Z",
     "start_time": "2021-10-26T11:08:00.612892Z"
    },
    "code_folding": [],
    "scrolled": true
   },
   "outputs": [],
   "source": [
    "# each line in this table correspond to single tagging of an entry.\n",
    "# an entry may have more than one tagging (e.g. a tag in 2D matrix, another in 1D matrix,\n",
    "# secondary tags, etc. )\n",
    "exportdata = pd.read_csv(\"exportdata.csv\")\n",
    "# I pulled entries related to projects chosen by Patrice\n",
    "entries = pd.read_csv(\"entries.csv\")\n",
    "# The widgets of AF's, i.e. 2D matrices, 1D matrices, secondary tagging widgets, etc.\n",
    "af_widgets = pd.read_csv(\"af_widgets.csv\")\n",
    "# Projects chosen by Patrice\n",
    "projects = pd.read_csv(\"projects.csv\")\n",
    "#\n",
    "exportables = pd.read_csv(\"af_exportables.csv\")\n",
    "# AF details\n",
    "afs = pd.read_csv(\"analysis_frameworks.csv\")\n",
    "# user ids, first names and last names\n",
    "users = pd.read_csv(\"user_names.csv\")\n",
    "# The matchin of pillar/sub-pillar names from different AFs into unified pillar/sub-pillar names\n",
    "# matching_2d_mat = pd.read_csv(\"mat_2d_matching.csv\")\n",
    "# matching_1d_mat = pd.read_csv(\"mat_1d_matching.csv\")\n",
    "mapping = pd.read_csv(\"mapping.csv\")"
   ]
  },
  {
   "cell_type": "code",
   "execution_count": 4,
   "metadata": {
    "ExecuteTime": {
     "end_time": "2021-10-26T11:08:04.022286Z",
     "start_time": "2021-10-26T11:08:04.015627Z"
    }
   },
   "outputs": [],
   "source": [
    "# remove raws related to GIMAC framework\n",
    "mapping = mapping[mapping['Framework Title'].ne('GIMAC Generic')]\n",
    "# split into two mapping dfs: 1D and 2D mappings\n",
    "matching_2d_mat = mapping[mapping[\"Type\"].eq(\"2D\")].copy()\n",
    "matching_1d_mat = mapping[mapping[\"Type\"].isin([\"1D\", \"Flag\"])].copy()"
   ]
  },
  {
   "cell_type": "code",
   "execution_count": 5,
   "metadata": {
    "ExecuteTime": {
     "end_time": "2021-10-26T11:08:04.026137Z",
     "start_time": "2021-10-26T11:08:04.023712Z"
    }
   },
   "outputs": [],
   "source": [
    "gen_data_dirname = 'generated_dataset'\n",
    "if not os.path.exists(gen_data_dirname):\n",
    "    os.mkdir(gen_data_dirname)"
   ]
  },
  {
   "cell_type": "code",
   "execution_count": 6,
   "metadata": {
    "ExecuteTime": {
     "end_time": "2021-10-26T11:08:04.075745Z",
     "start_time": "2021-10-26T11:08:04.027501Z"
    }
   },
   "outputs": [],
   "source": [
    "# remove \"GIMAC Generic\"'s data\n",
    "entries = entries[entries[\"analysis_framework_id\"].ne(1465)]"
   ]
  },
  {
   "cell_type": "code",
   "execution_count": 7,
   "metadata": {
    "ExecuteTime": {
     "end_time": "2021-10-26T11:08:04.082284Z",
     "start_time": "2021-10-26T11:08:04.077623Z"
    }
   },
   "outputs": [],
   "source": [
    "raw_name_to_tag_dict = {\n",
    "    \"Severity\":\"Severity\",\n",
    "    \"Severity (Needs assessment entries only)\":\"Severity\",\n",
    "    \"SEVERITY\":\"Severity\",\n",
    "    \n",
    "    \"Reliability\":\"Reliability\",\n",
    "    \"RELIABILITY\":\"Reliability\",\n",
    "    \n",
    "    \"Demographic Groups\":\"Demographic Groups\",\n",
    "    \"DEMOGRAPHIC GROUPS\":\"Demographic Groups\",\n",
    "    \n",
    "    \"Information date\":\"Information Date\",\n",
    "    \"Information Date\":\"Information Date\",\n",
    "    \"Date\":\"Information Date\",\n",
    "    \"DATE OF INFORMATION\":\"Information Date\",\n",
    "    \"Date range\":\"Information Date\",\n",
    "    \n",
    "    \"Geo Location\":\"Geo Location\",\n",
    "    \"LOCATION\":\"Geo Location\",\n",
    "    \"Geo location\":\"Geo Location\",\n",
    "    \"Country\":\"Geo Location\",\n",
    "    \"GEOLOCATIONS\":\"Geo Location\",\n",
    "    \n",
    "    \"Affected groups\":\"Affected Groups\",\n",
    "    \"AFFECTED GROUPS\":\"Affected Groups\",\n",
    "    \n",
    "    \"Specific Needs Groups\":\"Specific Needs Groups\",\n",
    "    \"SPECIFIC NEEDS GROUPS\":\"Specific Needs Groups\",\n",
    "}\n"
   ]
  },
  {
   "cell_type": "code",
   "execution_count": 8,
   "metadata": {
    "ExecuteTime": {
     "end_time": "2021-10-26T11:08:04.093285Z",
     "start_time": "2021-10-26T11:08:04.083971Z"
    }
   },
   "outputs": [
    {
     "data": {
      "text/plain": [
       "(161244, 21)"
      ]
     },
     "execution_count": 8,
     "metadata": {},
     "output_type": "execute_result"
    }
   ],
   "source": [
    "entries.shape"
   ]
  },
  {
   "cell_type": "code",
   "execution_count": 9,
   "metadata": {
    "ExecuteTime": {
     "end_time": "2021-10-26T11:08:04.098346Z",
     "start_time": "2021-10-26T11:08:04.094800Z"
    }
   },
   "outputs": [],
   "source": [
    "def clean_titles(x):\n",
    "    return raw_name_to_tag_dict.get(x, x)\n",
    "\n",
    "\n",
    "af_widgets['title'] = af_widgets['title'].apply(clean_titles)"
   ]
  },
  {
   "cell_type": "code",
   "execution_count": 10,
   "metadata": {
    "ExecuteTime": {
     "end_time": "2021-10-26T11:08:04.114913Z",
     "start_time": "2021-10-26T11:08:04.100957Z"
    },
    "code_folding": []
   },
   "outputs": [],
   "source": [
    "# widget names of 2D matrices in the chosen AFs's\n",
    "mat2d_titles = [\n",
    "    s.upper() for s in [\n",
    "        \"Sectors\",\n",
    "        \"Sectoral Information\",\n",
    "        \"Matrix 2D\",\n",
    "    ]\n",
    "]\n",
    "# Pandas will read json objects as strings,\n",
    "# here I am converting them into Python dict objects\n",
    "af_widgets[\"properties\"] = af_widgets[\"properties\"].apply(json.loads)\n",
    "##\n",
    "mat2d_properties_ids = af_widgets[(\n",
    "    af_widgets[\"title\"].str.upper()).isin(mat2d_titles)][[\n",
    "        \"properties\", \"analysis_framework_id\"\n",
    "    ]]\n",
    "mat2d_properties = mat2d_properties_ids[\"properties\"].tolist()\n",
    "mat2d_ids = mat2d_properties_ids[\"analysis_framework_id\"].tolist()\n",
    "## 1D Matrices\n",
    "# widget names of 1D matrices in the chosen AFs's\n",
    "mat1d_titles = [\n",
    "    s.upper() for s in [\n",
    "        \"Operational Environment\",  # iMMAP, 2020 Okular, Okular Generic, Colombia-AF, Nigeria Situation Analysis (OA), IFRC Master Framework 2019\n",
    "        \"Cross Sector\",  #Rohingya Framework, IFRC Analytical Framework 2018, \n",
    "        \"Matrix 1D\",  # Situation Analysis Generic Yemen, \n",
    "        \"Cross Sectors\",  # Situation Analysis Generic Libya\n",
    "    ]\n",
    "]\n",
    "mat1d_titles = mat1d_titles + [\n",
    "    sub_s.title() for sub_s in ('Operational Environment - Dimension',\n",
    "                                'Operational Environment - Subdimension')\n",
    "]\n",
    "mat1d_properties_ids = af_widgets[(\n",
    "    af_widgets[\"title\"].str.upper()).isin(mat1d_titles)][[\n",
    "        \"properties\", \"analysis_framework_id\"\n",
    "    ]]\n",
    "mat1d_properties = mat1d_properties_ids[\"properties\"].tolist()\n",
    "mat1d_ids = mat1d_properties_ids[\"analysis_framework_id\"].tolist()"
   ]
  },
  {
   "cell_type": "code",
   "execution_count": 11,
   "metadata": {
    "ExecuteTime": {
     "end_time": "2021-10-26T11:08:04.122782Z",
     "start_time": "2021-10-26T11:08:04.116520Z"
    },
    "scrolled": true
   },
   "outputs": [],
   "source": [
    "afids_pillars_subpillars = dict()\n",
    "errors = []\n",
    "for mat, af_id in zip(mat2d_properties, mat2d_ids):\n",
    "    try:\n",
    "        dims = mat[\"data\"]['dimensions']\n",
    "        afids_pillars_subpillars[af_id] = {}\n",
    "        for dim in dims:\n",
    "            pillar = dim[\"title\"]\n",
    "            sub_pillars = []\n",
    "            for sub_pillar_dict in dim[\"subdimensions\"]:\n",
    "                sub_pillars.append(sub_pillar_dict[\"title\"])\n",
    "            afids_pillars_subpillars[af_id][pillar] = sub_pillars\n",
    "    except KeyError:\n",
    "        errors.append([mat, af_id])\n",
    "##\n",
    "afids_rows_cells = dict()\n",
    "for mat, af_id in zip(mat1d_properties, mat1d_ids):\n",
    "    try:\n",
    "        rows = mat[\"data\"]['rows']\n",
    "        afids_rows_cells[af_id] = {}\n",
    "        for row in rows:\n",
    "            pillar = row[\"title\"]\n",
    "            sub_pillars = []\n",
    "            for sub_pillar_dict in row[\"cells\"]:\n",
    "                sub_pillars.append(sub_pillar_dict[\"value\"])\n",
    "            afids_rows_cells[af_id][pillar] = sub_pillars\n",
    "    except KeyError:\n",
    "        errors.append([mat, af_id])"
   ]
  },
  {
   "cell_type": "code",
   "execution_count": 12,
   "metadata": {
    "ExecuteTime": {
     "end_time": "2021-10-26T11:08:04.165193Z",
     "start_time": "2021-10-26T11:08:04.124401Z"
    }
   },
   "outputs": [],
   "source": [
    "def extract_title(x):\n",
    "    if x[\"excel\"].get(\"title\"):\n",
    "        return x[\"excel\"][\"title\"]\n",
    "    elif x[\"excel\"].get(\"type\") == \"multiple\":\n",
    "        return x[\"excel\"][\"titles\"]\n",
    "\n",
    "\n",
    "##\n",
    "exportables[\"data\"] = exportables[\"data\"].apply(literal_eval)\n",
    "af_titles = exportables[\"data\"].apply(extract_title).tolist()"
   ]
  },
  {
   "cell_type": "code",
   "execution_count": 13,
   "metadata": {
    "ExecuteTime": {
     "end_time": "2021-10-26T11:08:04.216757Z",
     "start_time": "2021-10-26T11:08:04.166627Z"
    }
   },
   "outputs": [
    {
     "name": "stdout",
     "output_type": "stream",
     "text": [
      "(161244, 21) (1156529, 4)\n",
      "(119755, 21) (1156529, 4)\n"
     ]
    }
   ],
   "source": [
    "print(entries.shape, exportdata.shape)\n",
    "entries = entries[entries[\"entry_type\"].eq(\"excerpt\")\n",
    "                  & (~entries[\"excerpt\"].isna())]\n",
    "print(entries.shape, exportdata.shape)"
   ]
  },
  {
   "cell_type": "code",
   "execution_count": 14,
   "metadata": {
    "ExecuteTime": {
     "end_time": "2021-10-26T11:08:04.221111Z",
     "start_time": "2021-10-26T11:08:04.217998Z"
    }
   },
   "outputs": [],
   "source": [
    "exid_to_exdata = dict()\n",
    "for ex_id, ex_data in zip(exportables[\"id\"], exportables[\"data\"]):\n",
    "    exid_to_exdata[ex_id] = ex_data"
   ]
  },
  {
   "cell_type": "code",
   "execution_count": 15,
   "metadata": {
    "ExecuteTime": {
     "end_time": "2021-10-26T11:08:04.225465Z",
     "start_time": "2021-10-26T11:08:04.222448Z"
    }
   },
   "outputs": [],
   "source": [
    "widget_key_id_to_title = dict()\n",
    "for w_key, w_id, title in zip(af_widgets[\"key\"], af_widgets[\"widget_id\"],\n",
    "                              af_widgets[\"title\"]):\n",
    "    widget_key_id_to_title[(w_key, w_id)] = title"
   ]
  },
  {
   "cell_type": "code",
   "execution_count": 16,
   "metadata": {
    "ExecuteTime": {
     "end_time": "2021-10-26T11:08:04.232989Z",
     "start_time": "2021-10-26T11:08:04.226679Z"
    }
   },
   "outputs": [],
   "source": [
    "def exportdata_to_tag_title(row):\n",
    "    data = json.loads(row[1])\n",
    "    wkey, wid = None, None\n",
    "    if data.get(\"common\"):\n",
    "        wkey = data.get(\"common\").get(\"widget_key\")\n",
    "        wid = data[\"common\"].get(\"widget_id\")\n",
    "    if wkey and wid:\n",
    "        if widget_key_id_to_title.get((wkey, wid)):\n",
    "            return widget_key_id_to_title.get((wkey, wid))\n",
    "    if data.get(\"report\") and data[\"report\"].get(\"other\"):\n",
    "        if len(data[\"report\"]\n",
    "               [\"other\"]) == 1 and data[\"report\"][\"other\"][0].get(\"title\"):\n",
    "            if data[\"report\"][\"other\"][0][\"title\"]:\n",
    "                return data[\"report\"][\"other\"][0][\"title\"]\n",
    "    if isinstance(data.get(\"excel\"), list) and len(data[\"excel\"])==1 and \\\n",
    "     data[\"excel\"][0].get(\"widget_key\") and data[\"excel\"][0].get(\"widget_id\"):\n",
    "        wkey = data[\"excel\"][0][\"widget_key\"]\n",
    "        wid = data[\"excel\"][0][\"widget_id\"]\n",
    "        if widget_key_id_to_title.get((wkey, wid)):\n",
    "            return widget_key_id_to_title.get((wkey, wid))\n",
    "    exportable_id = row[3]\n",
    "    if exid_to_exdata[exportable_id][\"excel\"].get(\"title\"):\n",
    "        return exid_to_exdata[exportable_id][\"excel\"][\"title\"]\n",
    "    elif exid_to_exdata[exportable_id][\"excel\"].get(\"type\") == \"multiple\":\n",
    "        return exid_to_exdata[exportable_id][\"excel\"][\"titles\"]\n",
    "    raise"
   ]
  },
  {
   "cell_type": "code",
   "execution_count": 17,
   "metadata": {
    "ExecuteTime": {
     "end_time": "2021-10-26T11:08:16.081372Z",
     "start_time": "2021-10-26T11:08:04.234165Z"
    },
    "scrolled": true
   },
   "outputs": [],
   "source": [
    "exportdata[\"tag_title\"] = exportdata.apply(exportdata_to_tag_title, axis=1)"
   ]
  },
  {
   "cell_type": "code",
   "execution_count": 18,
   "metadata": {
    "ExecuteTime": {
     "end_time": "2021-10-26T11:08:16.086549Z",
     "start_time": "2021-10-26T11:08:16.082435Z"
    }
   },
   "outputs": [],
   "source": [
    "def exportdata_to_tag_value(row):\n",
    "    data = json.loads(row[1])\n",
    "    if isinstance(data[\"excel\"], list) and len(data[\"excel\"]) == 1:\n",
    "        return data[\"excel\"][0][\"value\"]\n",
    "    if data[\"excel\"].get(\"type\") == \"lists\":\n",
    "        return data[\"excel\"][\"values\"]\n",
    "    if isinstance(data[\"excel\"], dict) and \"value\" in data[\"excel\"]:\n",
    "        return data[\"excel\"].get(\"value\")\n",
    "    if isinstance(data[\"excel\"], dict) and \"values\" in data[\"excel\"]:\n",
    "        return data[\"excel\"].get(\"values\")\n",
    "    elif \"values\" in data[\"common\"]:\n",
    "        return data[\"common\"][\"values\"]\n",
    "    elif \"value\" in data[\"common\"]:\n",
    "        return data[\"common\"][\"value\"]\n",
    "    raise"
   ]
  },
  {
   "cell_type": "code",
   "execution_count": 19,
   "metadata": {
    "ExecuteTime": {
     "end_time": "2021-10-26T11:08:29.326909Z",
     "start_time": "2021-10-26T11:08:16.087702Z"
    }
   },
   "outputs": [],
   "source": [
    "exportdata[\"tag_value\"] = exportdata.apply(exportdata_to_tag_value, axis=1)"
   ]
  },
  {
   "cell_type": "code",
   "execution_count": 20,
   "metadata": {
    "ExecuteTime": {
     "end_time": "2021-10-26T11:08:29.331297Z",
     "start_time": "2021-10-26T11:08:29.328243Z"
    }
   },
   "outputs": [],
   "source": [
    "def title_case(tag):\n",
    "    if isinstance(tag, (list, tuple)):\n",
    "        return tuple([x.title() for x in tag])\n",
    "    return tag.title()"
   ]
  },
  {
   "cell_type": "code",
   "execution_count": 21,
   "metadata": {
    "ExecuteTime": {
     "end_time": "2021-10-26T11:08:29.754367Z",
     "start_time": "2021-10-26T11:08:29.333230Z"
    }
   },
   "outputs": [],
   "source": [
    "exportdata[\"tag_title\"] = exportdata[\"tag_title\"].apply(title_case)"
   ]
  },
  {
   "cell_type": "code",
   "execution_count": 22,
   "metadata": {
    "ExecuteTime": {
     "end_time": "2021-10-26T11:08:29.758251Z",
     "start_time": "2021-10-26T11:08:29.755634Z"
    }
   },
   "outputs": [],
   "source": [
    "mat_1d_and_flag_titles = [\n",
    "    'Flag', 'Operational Environment', 'Cross Sector', 'Temática',\n",
    "    ('Operational Environment - Dimension',\n",
    "     'Operational Environment - Subdimension'),\n",
    "    ('Flag - Dimension', 'Flag - Subdimension'),\n",
    "    ('High Level Tags - Dimension', 'High Level Tags - Subdimension')\n",
    "]"
   ]
  },
  {
   "cell_type": "code",
   "execution_count": 23,
   "metadata": {
    "ExecuteTime": {
     "end_time": "2021-10-26T11:08:29.761292Z",
     "start_time": "2021-10-26T11:08:29.759327Z"
    }
   },
   "outputs": [],
   "source": [
    "#exportdata.tag_title.unique()"
   ]
  },
  {
   "cell_type": "code",
   "execution_count": 24,
   "metadata": {
    "ExecuteTime": {
     "end_time": "2021-10-26T11:08:29.764113Z",
     "start_time": "2021-10-26T11:08:29.762322Z"
    }
   },
   "outputs": [],
   "source": [
    "#exportdata[exportdata[\"tag_title\"].isin([('Operational Environment - Dimension', 'Operational Environment - Subdimension')])][\"tag_value\"].tolist()\n",
    "#exportdata[exportdata[\"tag_title\"].eq('High Level Tags')][\"tag_value\"].tolist()"
   ]
  },
  {
   "cell_type": "code",
   "execution_count": 25,
   "metadata": {
    "ExecuteTime": {
     "end_time": "2021-10-26T11:08:29.767860Z",
     "start_time": "2021-10-26T11:08:29.765181Z"
    }
   },
   "outputs": [],
   "source": [
    "mat2d_titles = [s.title() for s in mat2d_titles]\n",
    "mat1d_titles = [\n",
    "    s.title() if isinstance(s, str) else (sub_s.title() for sub_s in s)\n",
    "    for s in mat1d_titles\n",
    "]\n",
    "mat_1d_and_flag_titles = [\n",
    "    s.title() if isinstance(s, str) else (sub_s.title() for sub_s in s)\n",
    "    for s in mat_1d_and_flag_titles\n",
    "]"
   ]
  },
  {
   "cell_type": "code",
   "execution_count": 26,
   "metadata": {
    "ExecuteTime": {
     "end_time": "2021-10-26T11:08:29.954289Z",
     "start_time": "2021-10-26T11:08:29.768794Z"
    }
   },
   "outputs": [],
   "source": [
    "exportdata_of_interest = exportdata[exportdata[\"tag_title\"].isin(\n",
    "    mat2d_titles + mat_1d_and_flag_titles)]"
   ]
  },
  {
   "cell_type": "code",
   "execution_count": 27,
   "metadata": {
    "ExecuteTime": {
     "end_time": "2021-10-26T11:08:29.959847Z",
     "start_time": "2021-10-26T11:08:29.955864Z"
    }
   },
   "outputs": [
    {
     "data": {
      "text/plain": [
       "((211986, 6), (119755, 21))"
      ]
     },
     "execution_count": 27,
     "metadata": {},
     "output_type": "execute_result"
    }
   ],
   "source": [
    "exportdata_of_interest.shape, entries.shape"
   ]
  },
  {
   "cell_type": "code",
   "execution_count": 28,
   "metadata": {
    "ExecuteTime": {
     "end_time": "2021-10-26T11:08:30.177383Z",
     "start_time": "2021-10-26T11:08:29.964468Z"
    }
   },
   "outputs": [],
   "source": [
    "entries_labeled = pd.merge(entries,\n",
    "                           exportdata_of_interest,\n",
    "                           how=\"inner\",\n",
    "                           left_on=\"id\",\n",
    "                           right_on=\"entry_id\",\n",
    "                           suffixes=('_entry', '_exportdata'))"
   ]
  },
  {
   "cell_type": "code",
   "execution_count": 29,
   "metadata": {
    "ExecuteTime": {
     "end_time": "2021-10-26T11:08:30.187433Z",
     "start_time": "2021-10-26T11:08:30.179091Z"
    }
   },
   "outputs": [
    {
     "data": {
      "text/plain": [
       "((152251,), (118816,))"
      ]
     },
     "execution_count": 29,
     "metadata": {},
     "output_type": "execute_result"
    }
   ],
   "source": [
    "entries_labeled[\"id_entry\"].shape, entries_labeled[\"id_entry\"].unique().shape"
   ]
  },
  {
   "cell_type": "code",
   "execution_count": 30,
   "metadata": {
    "ExecuteTime": {
     "end_time": "2021-10-26T11:08:30.192263Z",
     "start_time": "2021-10-26T11:08:30.188859Z"
    }
   },
   "outputs": [],
   "source": [
    "def agg_group(group):\n",
    "    tag_titles = group[\"tag_title\"]\n",
    "    tag_values = group[\"tag_value\"]\n",
    "    #\n",
    "    grouped = defaultdict(list)\n",
    "    for title, value in zip(tag_titles, tag_values):\n",
    "        if title in mat_1d_and_flag_titles:\n",
    "            grouped[\"Mat1D\"].extend(value)\n",
    "        elif title in mat2d_titles:\n",
    "            grouped[\"Mat2D\"].extend(value)\n",
    "    return grouped"
   ]
  },
  {
   "cell_type": "code",
   "execution_count": 31,
   "metadata": {
    "ExecuteTime": {
     "end_time": "2021-10-26T11:08:30.196879Z",
     "start_time": "2021-10-26T11:08:30.193508Z"
    }
   },
   "outputs": [
    {
     "data": {
      "text/plain": [
       "Index(['id_entry', 'created_at', 'modified_at', 'excerpt', 'image_raw',\n",
       "       'analysis_framework_id', 'created_by_id', 'lead_id', 'modified_by_id',\n",
       "       'entry_type', 'information_date', 'order', 'client_id', 'project_id',\n",
       "       'tabular_field_id', 'dropped_excerpt', 'highlight_hidden', 'verified',\n",
       "       'verification_last_changed_by_id', 'image_id', 'title', 'id_exportdata',\n",
       "       'data', 'entry_id', 'exportable_id', 'tag_title', 'tag_value'],\n",
       "      dtype='object')"
      ]
     },
     "execution_count": 31,
     "metadata": {},
     "output_type": "execute_result"
    }
   ],
   "source": [
    "entries_labeled.columns"
   ]
  },
  {
   "cell_type": "code",
   "execution_count": 32,
   "metadata": {
    "ExecuteTime": {
     "end_time": "2021-10-26T11:08:38.425523Z",
     "start_time": "2021-10-26T11:08:30.197986Z"
    },
    "scrolled": true
   },
   "outputs": [],
   "source": [
    "tags = entries_labeled.groupby(\"id_entry\").apply(agg_group)"
   ]
  },
  {
   "cell_type": "code",
   "execution_count": 33,
   "metadata": {
    "ExecuteTime": {
     "end_time": "2021-10-26T11:08:38.432341Z",
     "start_time": "2021-10-26T11:08:38.426476Z"
    }
   },
   "outputs": [],
   "source": [
    "entryids_tags = pd.DataFrame({\"entry_id\": tags.index, \"tags\": tags.values})"
   ]
  },
  {
   "cell_type": "code",
   "execution_count": 34,
   "metadata": {
    "ExecuteTime": {
     "end_time": "2021-10-26T11:08:38.445536Z",
     "start_time": "2021-10-26T11:08:38.433567Z"
    }
   },
   "outputs": [
    {
     "data": {
      "text/plain": [
       "(118816, 2)"
      ]
     },
     "execution_count": 34,
     "metadata": {},
     "output_type": "execute_result"
    }
   ],
   "source": [
    "entryids_tags.shape"
   ]
  },
  {
   "cell_type": "code",
   "execution_count": 35,
   "metadata": {
    "ExecuteTime": {
     "end_time": "2021-10-26T11:08:38.774897Z",
     "start_time": "2021-10-26T11:08:38.446718Z"
    }
   },
   "outputs": [
    {
     "name": "stdout",
     "output_type": "stream",
     "text": [
      "(119755, 21)\n",
      "(119755, 14)\n"
     ]
    }
   ],
   "source": [
    "entries_ = entries.rename({\"id\": \"entry_id\"}, axis=1, inplace=False)\n",
    "#\n",
    "print(entries.shape)\n",
    "#\n",
    "entries_ = entries_[[\n",
    "    'entry_id',\n",
    "    'created_at',\n",
    "    'modified_at',\n",
    "    'excerpt',\n",
    "    'entry_type',\n",
    "    'analysis_framework_id',\n",
    "    'created_by_id',\n",
    "    'lead_id',\n",
    "    'modified_by_id',\n",
    "    'information_date',\n",
    "    'order',\n",
    "    'project_id',\n",
    "    'title',\n",
    "    'verified',\n",
    "]].drop_duplicates()\n",
    "#\n",
    "print(entries_.shape)"
   ]
  },
  {
   "cell_type": "code",
   "execution_count": 36,
   "metadata": {
    "ExecuteTime": {
     "end_time": "2021-10-26T11:08:38.848074Z",
     "start_time": "2021-10-26T11:08:38.776268Z"
    }
   },
   "outputs": [
    {
     "data": {
      "text/plain": [
       "((118816, 15),\n",
       " Index(['entry_id', 'created_at', 'modified_at', 'excerpt', 'entry_type',\n",
       "        'analysis_framework_id', 'created_by_id', 'lead_id', 'modified_by_id',\n",
       "        'information_date', 'order', 'project_id', 'title', 'verified', 'tags'],\n",
       "       dtype='object'))"
      ]
     },
     "execution_count": 36,
     "metadata": {},
     "output_type": "execute_result"
    }
   ],
   "source": [
    "entries_labeled = pd.merge(entries_, entryids_tags, on=\"entry_id\", how=\"inner\")\n",
    "entries_labeled.shape, entries_labeled.columns"
   ]
  },
  {
   "cell_type": "code",
   "execution_count": 37,
   "metadata": {
    "ExecuteTime": {
     "end_time": "2021-10-26T11:08:39.254595Z",
     "start_time": "2021-10-26T11:08:38.849389Z"
    }
   },
   "outputs": [
    {
     "data": {
      "text/plain": [
       "0"
      ]
     },
     "execution_count": 37,
     "metadata": {},
     "output_type": "execute_result"
    }
   ],
   "source": [
    "entries_labeled[\"tags_str\"] = entries_labeled[\"tags\"].apply(str)\n",
    "entries_labeled.duplicated(subset=[\"entry_id\", \"tags_str\"]).sum()"
   ]
  },
  {
   "cell_type": "code",
   "execution_count": 38,
   "metadata": {
    "ExecuteTime": {
     "end_time": "2021-10-26T11:08:39.263393Z",
     "start_time": "2021-10-26T11:08:39.255817Z"
    }
   },
   "outputs": [
    {
     "data": {
      "text/plain": [
       "0"
      ]
     },
     "execution_count": 38,
     "metadata": {},
     "output_type": "execute_result"
    }
   ],
   "source": [
    "entries_labeled[\"entry_id\"].duplicated().sum()"
   ]
  },
  {
   "cell_type": "code",
   "execution_count": 39,
   "metadata": {
    "ExecuteTime": {
     "end_time": "2021-10-26T11:08:39.267572Z",
     "start_time": "2021-10-26T11:08:39.264592Z"
    }
   },
   "outputs": [
    {
     "data": {
      "text/plain": [
       "(118816, 16)"
      ]
     },
     "execution_count": 39,
     "metadata": {},
     "output_type": "execute_result"
    }
   ],
   "source": [
    "entries_labeled.shape"
   ]
  },
  {
   "cell_type": "code",
   "execution_count": 40,
   "metadata": {
    "ExecuteTime": {
     "end_time": "2021-10-26T11:08:39.278507Z",
     "start_time": "2021-10-26T11:08:39.268856Z"
    }
   },
   "outputs": [
    {
     "data": {
      "text/plain": [
       "0"
      ]
     },
     "execution_count": 40,
     "metadata": {},
     "output_type": "execute_result"
    }
   ],
   "source": [
    "entries_labeled[\"tags\"].isna().sum()"
   ]
  },
  {
   "cell_type": "code",
   "execution_count": 41,
   "metadata": {
    "ExecuteTime": {
     "end_time": "2021-10-26T11:08:39.468749Z",
     "start_time": "2021-10-26T11:08:39.279365Z"
    }
   },
   "outputs": [
    {
     "data": {
      "text/plain": [
       "((119755, 21), (117743,))"
      ]
     },
     "execution_count": 41,
     "metadata": {},
     "output_type": "execute_result"
    }
   ],
   "source": [
    "entries.shape, entries[~entries[\"excerpt\"].isna()][\"excerpt\"].unique().shape"
   ]
  },
  {
   "cell_type": "code",
   "execution_count": 42,
   "metadata": {
    "ExecuteTime": {
     "end_time": "2021-10-26T11:08:39.474389Z",
     "start_time": "2021-10-26T11:08:39.470300Z"
    }
   },
   "outputs": [
    {
     "data": {
      "text/plain": [
       "((118816, 16),\n",
       " Index(['entry_id', 'created_at', 'modified_at', 'excerpt', 'entry_type',\n",
       "        'analysis_framework_id', 'created_by_id', 'lead_id', 'modified_by_id',\n",
       "        'information_date', 'order', 'project_id', 'title', 'verified', 'tags',\n",
       "        'tags_str'],\n",
       "       dtype='object'))"
      ]
     },
     "execution_count": 42,
     "metadata": {},
     "output_type": "execute_result"
    }
   ],
   "source": [
    "entries_labeled.shape, entries_labeled.columns"
   ]
  },
  {
   "cell_type": "code",
   "execution_count": 43,
   "metadata": {
    "ExecuteTime": {
     "end_time": "2021-10-26T11:08:39.484682Z",
     "start_time": "2021-10-26T11:08:39.475807Z"
    }
   },
   "outputs": [],
   "source": [
    "def tags_to_pillars(x):\n",
    "    tags = x[0]\n",
    "    af_id = x[1]\n",
    "    pillars = []\n",
    "    for tag_key, tag_value in tags.items():\n",
    "        if tag_key != \"Mat2D\":\n",
    "            continue\n",
    "        if len(tag_value):\n",
    "            for t in tag_value:\n",
    "                if t[0] and t[1]:\n",
    "                    pillars.append(t[0].title().strip() + \"->\" +\n",
    "                                   t[1].title().strip())\n",
    "    return list(set(pillars))\n",
    "\n",
    "\n",
    "def tags_to_sectors(x):\n",
    "    tags = x[0]\n",
    "    af_id = x[1]\n",
    "    sectors = []\n",
    "    for tag_key, tag_value in tags.items():\n",
    "        if tag_key != \"Mat2D\":\n",
    "            continue\n",
    "        if len(tag_value):\n",
    "            for t in tag_value:\n",
    "                if len(t) > 2 and t[2]:\n",
    "                    sectors.append(t[2].title().strip())\n",
    "    return list(set(sectors))\n",
    "\n",
    "\n",
    "def tags_to_subsectors(x):\n",
    "    tags = x[0]\n",
    "    af_id = x[1]\n",
    "    subsectors = []\n",
    "    for tag_key, tag_value in tags.items():\n",
    "        if tag_key != \"Mat2D\":\n",
    "            continue\n",
    "        if len(tag_value):\n",
    "            subsectors = []\n",
    "            for t in tag_value:\n",
    "                if len(t) > 3 and t[3]:\n",
    "                    if isinstance(t[3], list):\n",
    "                        subsectors.extend([x.title().strip() for x in t[3]])\n",
    "                    else:\n",
    "                        subsectors.append(t[3].title().strip())\n",
    "    return list(set(subsectors))\n",
    "\n",
    "\n",
    "##\n",
    "def tags_to_label2d(x):\n",
    "    tags = x[0]\n",
    "    af_id = x[1]\n",
    "    label2d = []\n",
    "    for tag_key, tag_value in tags.items():\n",
    "        if tag_key != \"Mat2D\":\n",
    "            continue\n",
    "        if len(tag_value):\n",
    "            for t in tag_value:\n",
    "                if t[0] and t[1]:\n",
    "                    label2d.append(\"AF-ID:\" + str(af_id) + \"->Sector:\" +\n",
    "                                   t[2].title().strip() + \"->Pillar:\" +\n",
    "                                   t[0].title().strip() + \"->Sub-pillar:\" +\n",
    "                                   t[1].title().strip())\n",
    "    return list(set(label2d))\n",
    "\n",
    "\n",
    "##\n",
    "def tags_to_pillars_1d(x):\n",
    "    tags = x[0]\n",
    "    af_id = x[1]\n",
    "    pillars_1d = []\n",
    "    for tag_key, tag_value in tags.items():\n",
    "        if tag_key != \"Mat1D\":\n",
    "            continue\n",
    "        if len(tag_value):\n",
    "            for t in tag_value:\n",
    "                if t[0] and t[1]:\n",
    "                    pillars_1d.append(t[0].title().strip() + \"->\" +\n",
    "                                      t[1].title().strip())\n",
    "    return list(set(pillars_1d))"
   ]
  },
  {
   "cell_type": "code",
   "execution_count": 44,
   "metadata": {
    "ExecuteTime": {
     "end_time": "2021-10-26T11:08:44.949701Z",
     "start_time": "2021-10-26T11:08:39.485714Z"
    },
    "scrolled": true
   },
   "outputs": [],
   "source": [
    "entries_labeled[\"pillars\"] = entries_labeled[[\"tags\", 'analysis_framework_id'\n",
    "                                              ]].apply(tags_to_pillars, axis=1)\n",
    "entries_labeled[\"sectors\"] = entries_labeled[[\"tags\", 'analysis_framework_id'\n",
    "                                              ]].apply(tags_to_sectors, axis=1)\n",
    "entries_labeled[\"subsectors\"] = entries_labeled[[\n",
    "    \"tags\", 'analysis_framework_id'\n",
    "]].apply(tags_to_subsectors, axis=1)\n",
    "##\n",
    "entries_labeled[\"label_2d\"] = entries_labeled[[\n",
    "    \"tags\", 'analysis_framework_id'\n",
    "]].apply(tags_to_label2d, axis=1)\n",
    "##\n",
    "entries_labeled[\"pillars_1d\"] = entries_labeled[[\"tags\", 'analysis_framework_id'\n",
    "                                              ]].apply(tags_to_pillars_1d, axis=1)"
   ]
  },
  {
   "cell_type": "code",
   "execution_count": 45,
   "metadata": {
    "ExecuteTime": {
     "end_time": "2021-10-26T11:08:45.194068Z",
     "start_time": "2021-10-26T11:08:44.950961Z"
    }
   },
   "outputs": [
    {
     "data": {
      "text/plain": [
       "(116857,)"
      ]
     },
     "execution_count": 45,
     "metadata": {},
     "output_type": "execute_result"
    }
   ],
   "source": [
    "entries_labeled[~entries_labeled[\"excerpt\"].isna()][\"excerpt\"].unique().shape"
   ]
  },
  {
   "cell_type": "code",
   "execution_count": 46,
   "metadata": {
    "ExecuteTime": {
     "end_time": "2021-10-26T11:08:45.239255Z",
     "start_time": "2021-10-26T11:08:45.195375Z"
    }
   },
   "outputs": [
    {
     "data": {
      "text/plain": [
       "(111,\n",
       " [('Covid-19 Overview->Cases', 5549),\n",
       "  ('Humanitarian Profile->Affected Groups', 4194),\n",
       "  ('Displacement->Type/Numbers/Movements', 3960),\n",
       "  ('Context->Security & Stability', 3846),\n",
       "  ('Context->Economy', 3340),\n",
       "  ('Casualties->Dead', 3216),\n",
       "  ('Context->Security', 3169),\n",
       "  ('Covid-19 Overview->Deaths', 3122),\n",
       "  ('Covid-19 Overview->Vaccination', 2791),\n",
       "  ('Displacement->Displacement', 2778),\n",
       "  ('Covid-19 Containment Measures->Public Health Measures', 2256),\n",
       "  ('Humanitarian Profile->Casualties', 2020),\n",
       "  ('Context->Demography', 1877),\n",
       "  ('Displacement->Local Integration', 1863),\n",
       "  ('Context->Legal Or Normative Framework', 1828),\n",
       "  ('Flag->Hazard & Threats', 1824),\n",
       "  ('Humanitarian Access->Physical Constraints', 1797),\n",
       "  ('Displacement->Push Factors', 1736),\n",
       "  ('Covid-19 Overview->Testing', 1629),\n",
       "  ('Context->Politics', 1466),\n",
       "  ('Covid-19 Containment Measures->Movement Restrictions', 1256),\n",
       "  ('Humanitarian Profile->Population Movement', 1192),\n",
       "  ('Humanitarian Profile->Push/Pull Factors', 1135),\n",
       "  ('Flag->Overview', 1051),\n",
       "  ('Humanitarian Access->Relief To Beneficiaries', 918),\n",
       "  ('Context->Demographics', 907),\n",
       "  ('Context->Environment', 896),\n",
       "  ('Covid-19 Containment Measures->Physical Distancing', 868),\n",
       "  ('Displacement Profile->Type/Numbers', 849),\n",
       "  ('Covid-19 Communication & Information->Channels & Means', 839),\n",
       "  ('Covid-19 Communication & Information->Prevention Campaigns', 796),\n",
       "  ('Shock /Event/Ongoing Conditions->Type And Characteristics', 782),\n",
       "  ('Durable Solutions->Local Integration', 774),\n",
       "  ('Context->Socio Cultural', 772),\n",
       "  ('Covid-19 Communication & Information->Knowledge & Misinformation', 753),\n",
       "  ('Flag->Response Gap', 751),\n",
       "  ('Flag->Stakeholders', 740),\n",
       "  ('Population Profile->Population With Specific Needs', 666),\n",
       "  ('Casualties->Injured', 665),\n",
       "  ('Covid-19 Overview->Contact Tracing', 627),\n",
       "  ('Context->Legal & Policy', 594),\n",
       "  ('Context->Economic', 575),\n",
       "  ('Covid-19 Containment Measures->Lockdown', 574),\n",
       "  ('Flag->Key Event', 572),\n",
       "  ('Event/Shock->Aggravating Factors', 536),\n",
       "  ('Displacement->Push/Pull Factors', 520),\n",
       "  ('Covid-19 Overview->Hospitalization & Care', 518),\n",
       "  ('Humanitarian Access->Humanitarian Access Gaps', 512),\n",
       "  ('Displacement->Intentions', 511),\n",
       "  ('Population Profile->Demographic Profile', 493),\n",
       "  ('Context->Political', 478),\n",
       "  ('Context->Overview', 434),\n",
       "  ('Event/Shock->Underlying Factors/Pre-Existing Vulnerabilities', 424),\n",
       "  ('Flag->Information Gaps', 404),\n",
       "  ('Context->Risk', 397),\n",
       "  ('Displacement Profile->Movement', 382),\n",
       "  ('Shock /Event/Ongoing Conditions->Aggravating Factors', 334),\n",
       "  ('Context->Socio-Cultural', 330),\n",
       "  ('Displacement->Pull Factors', 325),\n",
       "  ('Displacement Profile->Push Factors', 322),\n",
       "  ('Event/Shock->Shock/Driver', 308),\n",
       "  ('Covid-19 Overview->Research & Outlook', 288),\n",
       "  ('Displacement->Affected Groups', 285),\n",
       "  ('Casualties->Missing', 273),\n",
       "  ('Event/Shock->Type And Characteristics', 247),\n",
       "  ('Humanitarian Profile->Casualties Or Injured', 242),\n",
       "  ('Context->Stakeholders', 238),\n",
       "  ('Covid-19 Containment Measures->Compliance & Resistance To Measures', 228),\n",
       "  ('Information->Information Needs & Gaps', 207),\n",
       "  ('Covid-19 Communication & Information->Challenges & Barriers', 186),\n",
       "  ('Context->Key Events', 166),\n",
       "  ('Humanitarian Access->Beneficiaries To Relief', 165),\n",
       "  ('Flag->Lessons Learnt', 151),\n",
       "  ('Context->Hazard Developments', 117),\n",
       "  ('Displacement->Casualties', 116),\n",
       "  ('Context->Legal  & Policy', 111),\n",
       "  ('Event/Shock->Pre-Existing Vulnerabilities', 101),\n",
       "  ('Communication->Information Gaps', 92),\n",
       "  ('Event/Shock->Hazard And Threats', 92),\n",
       "  ('Context->Society And Community', 84),\n",
       "  ('Durable Solutions->Voluntary Repatriation', 83),\n",
       "  ('Information->Communication Means & Channels', 81),\n",
       "  ('Information->Information Challenges', 80),\n",
       "  ('Communication->Communication Means', 68),\n",
       "  ('Information And Communication->Knoweldge And Info Needs', 65),\n",
       "  ('Humanitarian Access->Pin To Relief', 65),\n",
       "  ('Context->Legal/Policy', 57),\n",
       "  ('Humanitarian Access->Relief To Pin', 57),\n",
       "  ('Information And Communication->Info Barriers And Challenges', 53),\n",
       "  ('Information And Communication->Info And Comm Means', 49),\n",
       "  ('Event/Schock->Aggravating Factors', 41),\n",
       "  ('Population Profile->Economic Profile', 36),\n",
       "  ('Communication->Information Needs', 33),\n",
       "  ('Communication->Information Challenges', 28),\n",
       "  ('Information->Communication Means', 27),\n",
       "  ('Information->Information Gaps', 25),\n",
       "  ('Displacement Profile->Pull Factors', 22),\n",
       "  ('Flag->Hazard/Threats/Risk', 19),\n",
       "  ('Durable Solutions->Resettlement', 19),\n",
       "  ('Population Profile->Social Profile', 17),\n",
       "  ('Shock /Event/Ongoing Conditions->Mtitigating Factors', 13),\n",
       "  ('Information->Information Needs', 9),\n",
       "  ('Context->Stakeholder', 7),\n",
       "  ('Displacement Profile->Local Integration', 7),\n",
       "  ('Event/Schock->Type And Characteristics', 6),\n",
       "  ('Event/Shock->Mitigating Factors', 3),\n",
       "  ('Displacement Profile->Intentions', 3),\n",
       "  ('Shock And Event->Type And Characteristics', 3),\n",
       "  ('Context->Hazard Development', 2),\n",
       "  ('Shock And Event->Aggravating Factors', 1),\n",
       "  ('Humanitarian Access->Numb Of People Facing Access Constraints', 1)])"
      ]
     },
     "execution_count": 46,
     "metadata": {},
     "output_type": "execute_result"
    }
   ],
   "source": [
    "pills_unique_1d = set()\n",
    "pills_occurances_1d = list()\n",
    "for pills_1d in entries_labeled[\"pillars_1d\"]:\n",
    "    pills_unique_1d.update(pills_1d)\n",
    "    pills_occurances_1d.extend(pills_1d)\n",
    "len(pills_unique_1d), Counter(pills_occurances_1d).most_common()"
   ]
  },
  {
   "cell_type": "code",
   "execution_count": 47,
   "metadata": {
    "ExecuteTime": {
     "end_time": "2021-10-26T11:08:45.297916Z",
     "start_time": "2021-10-26T11:08:45.240922Z"
    },
    "scrolled": true
   },
   "outputs": [
    {
     "data": {
      "text/plain": [
       "[('Humanitarian Conditions->Living Standards', 26611),\n",
       " ('Humanitarian Conditions->Physical & Mental Wellbeing', 12287),\n",
       " ('Impact->Impact On People', 9752),\n",
       " ('Impact->Drivers/Aggravating Factors', 9583),\n",
       " ('Impact->Impact On System & Services', 9084),\n",
       " ('At Risk->People At Risk / Vulnerable', 5183),\n",
       " ('Capacities & Response->International', 4629),\n",
       " ('Humanitarian Conditions->Coping Mechanisms', 4295),\n",
       " ('Response And Capacities->National And Local', 3646),\n",
       " ('Humanitarian Conditions->Risks & Vulnerabilities', 2723),\n",
       " ('Humanitarian Conditions->Physical And Mental Well-Being', 2521),\n",
       " ('Impact->Number Of People Affected', 2277),\n",
       " ('Priorities->Priority Interventions (Staff)', 2269),\n",
       " ('Scope & Scale->Drivers/Aggravating Factors', 2239),\n",
       " ('Capacities And Response->International Response', 2171),\n",
       " ('Scope & Scale->System Disruption', 2126),\n",
       " ('Capacities & Response->Number Of People Reached', 2101),\n",
       " ('Response And Capacities->International', 2066),\n",
       " ('Risks->People At Risk Or Vulnerable', 1662),\n",
       " ('Scope & Scale->Damages & Losses', 1662),\n",
       " ('Priorities->Priority Needs (Staff)', 1565),\n",
       " ('Capacities & Response->Government & Local Authorities', 1487),\n",
       " ('Capacities & Response->National & Local Actors', 1408),\n",
       " ('Impact->Drivers', 1344),\n",
       " ('Humanitarian Conditions->1St Level Outcome', 1262),\n",
       " ('Humanitarian Conditions->Risks &  New Or Aggravated Vulnerabilities (Do Not Tag)',\n",
       "  1147),\n",
       " ('Humanitarian Conditions->Unmet Needs', 1141),\n",
       " ('Humanitarian Conditions->Number Of People In Need', 1117),\n",
       " ('Impact->Status Of Essential Infrastructure, Systems, Markets And Networks',\n",
       "  849),\n",
       " ('Priorities->Priority Needs (Pop)', 842),\n",
       " ('Humanitarian Conditions->Vulnerabilities, Specific Needs And Risks', 727),\n",
       " ('Impact->Drivers And Aggravating Factors', 710),\n",
       " ('Scope And Scale->Systems Disruption', 647),\n",
       " ('Humanitarian Conditions->2Nd Level Outcome', 630),\n",
       " ('Humanitarian Conditions->Number Of People In Need And Priorities', 628),\n",
       " ('Impact->Impact On Systems And Services', 616),\n",
       " ('Humanitarian Conditions->Impact On Accessibility, Availability, Quality, Use And Awareness Of Goods And Services',\n",
       "  609),\n",
       " ('Humanitarian Conditions->Risks', 576),\n",
       " ('Humanitarian Conditions->People At Risk / Vulnerable', 564),\n",
       " ('Capacities And Response->National Response', 557),\n",
       " ('Scope And Scale->Damage', 557),\n",
       " ('Priorities->Prioritiy Issues (Pop)', 519),\n",
       " ('Humanitarian Conditions->Humanitarian Conditions', 479),\n",
       " ('Humanitarian Conditions->People With Specific Needs', 456),\n",
       " ('Humanitarian Conditions->Impact On Physical And Mental Wellbeing', 414),\n",
       " ('Humanitarian Conditions->Persons/Groups With Specific Needs', 394),\n",
       " ('Scope And Scale->Drivers/Aggravating Factors', 374),\n",
       " ('Impact->Damages & Losses', 350),\n",
       " ('Response And Capacities->Community Perceived Priorities', 314),\n",
       " ('Humanitarian Conditions->Number Of People At Risk (Do Not Tag)', 284),\n",
       " ('Priorities->Priority Interventions (Pop)', 281),\n",
       " ('Humanitarian Conditions->Vulnerabilities', 269),\n",
       " ('Capacities & Response->International Actors', 265),\n",
       " ('Response And Capacities->Community', 260),\n",
       " ('Scope And Scale->System Disruption', 254),\n",
       " ('Humanitarian Conditions->People In Need', 240),\n",
       " ('Capacities & Response->System Functionality', 218),\n",
       " ('Capacities And Response->National Response Capacity', 215),\n",
       " ('Capacities & Response->Response Gaps', 207),\n",
       " ('Capacities & Response->National Actors', 184),\n",
       " ('Capacities & Response->Government And Local Authorities', 164),\n",
       " ('Capacities And Response->Coping Mechanisms', 153),\n",
       " ('Capacities & Response->Rcrc Movement', 152),\n",
       " ('Priorities->Prioritiy Issues (Hum. Staff)', 142),\n",
       " ('Capacities & Response->Government', 128),\n",
       " ('Scope And Scale->Drivers/ Aggravating Factors', 105),\n",
       " ('Scope & Scale->People Affected', 100),\n",
       " ('Capacities And Response->National Society Capacity', 66),\n",
       " ('Scope And Scale->Losses', 62),\n",
       " ('Capacities & Response->Lngo', 61),\n",
       " ('Priorities->Recommended Interventions (Hum. Staff)', 52),\n",
       " ('Capacities And Response->Response Gaps', 35),\n",
       " ('Capacities And Response->Market Functionality', 18),\n",
       " ('Priorities->Preferred Response (Pop)', 9),\n",
       " ('Priorities->Priority Problems (Pop)', 8),\n",
       " ('Humanitarian Conditions->Lessons Learnt', 4),\n",
       " ('Capacities & Response->National', 4),\n",
       " ('Priorities->As Expressed By Experts', 3),\n",
       " ('Humanitarian Conditions->Access To Basic Services Or Goods', 3),\n",
       " ('Scope And Scale->Lessons Learnt', 2),\n",
       " ('Capacities And Response->Systems Functionality', 2),\n",
       " ('Humanitarian Conditions->Risks/Vulnerabilities', 2),\n",
       " ('Scope & Scale->Number Of People Affected', 2),\n",
       " ('Humanitarian Conditions->Specific Needs', 1),\n",
       " ('Humanitarian Conditions->Risks &  New Or Aggravated Vulnerabilities', 1),\n",
       " ('Scope & Scale->Lessons Learnt', 1)]"
      ]
     },
     "execution_count": 47,
     "metadata": {},
     "output_type": "execute_result"
    }
   ],
   "source": [
    "pills_unique = set()\n",
    "pills_occurances = list()\n",
    "for pills in entries_labeled[\"pillars\"]:\n",
    "    pills_unique.update(pills)\n",
    "    pills_occurances.extend(pills)\n",
    "Counter(pills_occurances).most_common()"
   ]
  },
  {
   "cell_type": "code",
   "execution_count": 48,
   "metadata": {
    "ExecuteTime": {
     "end_time": "2021-10-26T11:08:45.350767Z",
     "start_time": "2021-10-26T11:08:45.299167Z"
    }
   },
   "outputs": [
    {
     "data": {
      "text/plain": [
       "[('Health', 26283),\n",
       " ('Protection', 21298),\n",
       " ('Livelihoods', 12582),\n",
       " ('Cross', 11531),\n",
       " ('Food Security', 8593),\n",
       " ('Wash', 8328),\n",
       " ('Shelter', 7902),\n",
       " ('Education', 7364),\n",
       " ('Nutrition', 3325),\n",
       " ('Agriculture', 3159),\n",
       " ('Food', 2757),\n",
       " ('Cross-Sector', 2629),\n",
       " ('Logistics', 2614),\n",
       " ('Cross Cutting', 678),\n",
       " ('Nfi', 611),\n",
       " ('Logistic', 248),\n",
       " ('Livelihood', 132)]"
      ]
     },
     "execution_count": 48,
     "metadata": {},
     "output_type": "execute_result"
    }
   ],
   "source": [
    "secs_unique = set()\n",
    "secs_occurances = list()\n",
    "for secs in entries_labeled[\"sectors\"]:\n",
    "    secs_unique.update(secs)\n",
    "    secs_occurances.extend(secs)\n",
    "#secs_unique\n",
    "Counter(secs_occurances).most_common()"
   ]
  },
  {
   "cell_type": "code",
   "execution_count": 49,
   "metadata": {
    "ExecuteTime": {
     "end_time": "2021-10-26T11:08:45.355504Z",
     "start_time": "2021-10-26T11:08:45.351963Z"
    }
   },
   "outputs": [
    {
     "data": {
      "text/plain": [
       "Index(['entry_id', 'created_at', 'modified_at', 'excerpt', 'entry_type',\n",
       "       'analysis_framework_id', 'created_by_id', 'lead_id', 'modified_by_id',\n",
       "       'information_date', 'order', 'project_id', 'title', 'verified', 'tags',\n",
       "       'tags_str', 'pillars', 'sectors', 'subsectors', 'label_2d',\n",
       "       'pillars_1d'],\n",
       "      dtype='object')"
      ]
     },
     "execution_count": 49,
     "metadata": {},
     "output_type": "execute_result"
    }
   ],
   "source": [
    "entries_labeled.columns"
   ]
  },
  {
   "cell_type": "code",
   "execution_count": 50,
   "metadata": {
    "ExecuteTime": {
     "end_time": "2021-10-26T11:08:45.393689Z",
     "start_time": "2021-10-26T11:08:45.356782Z"
    }
   },
   "outputs": [
    {
     "data": {
      "text/plain": [
       "(118816, 21)"
      ]
     },
     "execution_count": 50,
     "metadata": {},
     "output_type": "execute_result"
    }
   ],
   "source": [
    "final_df = entries_labeled[entries_labeled[\"entry_type\"].eq(\"excerpt\")\n",
    "                           & (~entries_labeled[\"excerpt\"].isna())]\n",
    "final_df.shape"
   ]
  },
  {
   "cell_type": "code",
   "execution_count": 51,
   "metadata": {
    "ExecuteTime": {
     "end_time": "2021-10-26T11:08:48.073515Z",
     "start_time": "2021-10-26T11:08:45.394849Z"
    },
    "scrolled": true
   },
   "outputs": [
    {
     "data": {
      "text/plain": [
       "((116744, 21), 0)"
      ]
     },
     "execution_count": 51,
     "metadata": {},
     "output_type": "execute_result"
    }
   ],
   "source": [
    "def remove_newlines(excerpt):\n",
    "    if not isinstance(excerpt, str):\n",
    "        return excerpt\n",
    "    return re.sub(\"\\s+\", \" \", excerpt)\n",
    "\n",
    "final_df.loc[:, 'excerpt'] = final_df['excerpt'].apply(remove_newlines)\n",
    "#final_df.loc[:, 'dropped_excerpt'] = final_df['dropped_excerpt'].apply(remove_newlines)\n",
    "##\n",
    "final_df = final_df.sort_values(\"verified\").reset_index(drop=True).drop_duplicates(subset='excerpt', keep=\"last\")\n",
    "final_df.shape, final_df.duplicated(subset=\"excerpt\").sum()"
   ]
  },
  {
   "cell_type": "code",
   "execution_count": 52,
   "metadata": {
    "ExecuteTime": {
     "end_time": "2021-10-26T11:08:48.077087Z",
     "start_time": "2021-10-26T11:08:48.074422Z"
    }
   },
   "outputs": [],
   "source": [
    "sector_name_mapper = {\n",
    "    \"Agriculture\": \"Agriculture\",\n",
    "    \"Cccm\": \"Nan\",\n",
    "    \"Cross\": \"Cross\",\n",
    "    \"Cross Cutting\": \"Cross\",\n",
    "    \"Cross-Sector\": \"Cross\",\n",
    "    \"Education\": \"Education\",\n",
    "    \"Food\": \"Food Security\",\n",
    "    \"Food Security\": \"Food Security\",\n",
    "    \"Nutrition\": \"Nutrition\",\n",
    "    \"Health\": \"Health\",\n",
    "    \"Livelihood\": \"Livelihoods\",\n",
    "    \"Livelihoods\": \"Livelihoods\",\n",
    "    \"Logistic\": \"Logistics\",\n",
    "    \"Logistics\": \"Logistics\",\n",
    "    \"Protection\": \"Protection\",\n",
    "    \"Shelter\": \"Shelter\",\n",
    "    \"Shelter And Nfis\": \"Shelter\",\n",
    "    \"Nfi\": \"Nan\",\n",
    "    \"Wash\": \"WASH\",\n",
    "}"
   ]
  },
  {
   "cell_type": "code",
   "execution_count": 53,
   "metadata": {
    "ExecuteTime": {
     "end_time": "2021-10-26T11:08:48.081506Z",
     "start_time": "2021-10-26T11:08:48.078526Z"
    }
   },
   "outputs": [],
   "source": [
    "af_title_to_id = dict()\n",
    "for afid, title in zip(afs[\"id\"], afs[\"title\"]):\n",
    "    af_title_to_id[\"title\"] = afid"
   ]
  },
  {
   "cell_type": "code",
   "execution_count": 54,
   "metadata": {
    "ExecuteTime": {
     "end_time": "2021-10-26T11:08:48.086478Z",
     "start_time": "2021-10-26T11:08:48.082561Z"
    }
   },
   "outputs": [
    {
     "name": "stderr",
     "output_type": "stream",
     "text": [
      "/tmp/ipykernel_401272/3501500923.py:2: SettingWithCopyWarning: \n",
      "A value is trying to be set on a copy of a slice from a DataFrame.\n",
      "Try using .loc[row_indexer,col_indexer] = value instead\n",
      "\n",
      "See the caveats in the documentation: https://pandas.pydata.org/pandas-docs/stable/user_guide/indexing.html#returning-a-view-versus-a-copy\n",
      "  af_id_title[\"title\"] = af_id_title[\"title\"].str.title()\n"
     ]
    }
   ],
   "source": [
    "af_id_title = afs[[\"id\", \"title\"]]\n",
    "af_id_title[\"title\"] = af_id_title[\"title\"].str.title()"
   ]
  },
  {
   "cell_type": "code",
   "execution_count": 55,
   "metadata": {
    "ExecuteTime": {
     "end_time": "2021-10-26T11:08:48.089814Z",
     "start_time": "2021-10-26T11:08:48.087365Z"
    }
   },
   "outputs": [],
   "source": [
    "matching_2d_mat[\"Framework Title\"] = matching_2d_mat[\"Framework Title\"].str.title()"
   ]
  },
  {
   "cell_type": "code",
   "execution_count": 56,
   "metadata": {
    "ExecuteTime": {
     "end_time": "2021-10-26T11:08:48.092504Z",
     "start_time": "2021-10-26T11:08:48.090710Z"
    }
   },
   "outputs": [],
   "source": [
    "af_id_title.columns = [\"analysis_framework_id\", \"Framework Name\"]"
   ]
  },
  {
   "cell_type": "code",
   "execution_count": 57,
   "metadata": {
    "ExecuteTime": {
     "end_time": "2021-10-26T11:08:48.097498Z",
     "start_time": "2021-10-26T11:08:48.093781Z"
    }
   },
   "outputs": [],
   "source": [
    "matching_2d_mat = pd.merge(matching_2d_mat,\n",
    "                    af_id_title,\n",
    "                    how=\"left\",\n",
    "                    left_on=\"Framework Title\",\n",
    "                    right_on=\"Framework Name\")"
   ]
  },
  {
   "cell_type": "code",
   "execution_count": 58,
   "metadata": {
    "ExecuteTime": {
     "end_time": "2021-10-26T11:08:48.100913Z",
     "start_time": "2021-10-26T11:08:48.098337Z"
    }
   },
   "outputs": [
    {
     "data": {
      "text/plain": [
       "Index(['Framework Title', 'Type', 'Pillar', 'Sub-pillar', 'Virtual Type',\n",
       "       'Virtual Pillar', 'Virtual Sub-pillar', 'First-pass', 'Verified',\n",
       "       'Reversible', 'Cover', 'analysis_framework_id', 'Framework Name'],\n",
       "      dtype='object')"
      ]
     },
     "execution_count": 58,
     "metadata": {},
     "output_type": "execute_result"
    }
   ],
   "source": [
    "matching_2d_mat.columns"
   ]
  },
  {
   "cell_type": "code",
   "execution_count": 59,
   "metadata": {
    "ExecuteTime": {
     "end_time": "2021-10-26T11:08:48.107670Z",
     "start_time": "2021-10-26T11:08:48.101849Z"
    },
    "scrolled": true
   },
   "outputs": [],
   "source": [
    "matching_2d_mat.drop([\"Framework Name\"], axis=1, inplace=True)\n",
    "for col in matching_2d_mat.columns[1:7]:\n",
    "    matching_2d_mat[col] = matching_2d_mat[col].astype(str).str.title()"
   ]
  },
  {
   "cell_type": "code",
   "execution_count": 60,
   "metadata": {
    "ExecuteTime": {
     "end_time": "2021-10-26T11:08:48.113190Z",
     "start_time": "2021-10-26T11:08:48.108533Z"
    }
   },
   "outputs": [],
   "source": [
    "matching_2d_mat[\"Pillar\"] = matching_2d_mat[\"Pillar\"].apply(\n",
    "    lambda x: x.strip().title())\n",
    "matching_2d_mat[\"Sub-pillar\"] = matching_2d_mat[\"Sub-pillar\"].apply(\n",
    "    lambda x: x.strip().title())\n",
    "matching_2d_mat[\"Final Pillar Name\"] = matching_2d_mat[\"Virtual Pillar\"].apply(\n",
    "    lambda x: x.strip().title())\n",
    "matching_2d_mat[\"Final Sub-pillar Name\"] = matching_2d_mat[\n",
    "    \"Virtual Sub-pillar\"].apply(lambda x: x.strip().title())"
   ]
  },
  {
   "cell_type": "code",
   "execution_count": 61,
   "metadata": {
    "ExecuteTime": {
     "end_time": "2021-10-26T11:08:48.119334Z",
     "start_time": "2021-10-26T11:08:48.114622Z"
    }
   },
   "outputs": [],
   "source": [
    "matching_2d_mat[\"original_pillar\"] = matching_2d_mat[\n",
    "    \"Pillar\"] + \"->\" + matching_2d_mat[\"Sub-pillar\"]\n",
    "matching_2d_mat[\"original_subpillar\"] = matching_2d_mat[\n",
    "    \"Pillar\"] + \"->\" + matching_2d_mat[\"Sub-pillar\"]\n",
    "##\n",
    "matching_2d_mat[\"target_pillar\"] = matching_2d_mat[\"Final Pillar Name\"]\n",
    "matching_2d_mat[\"target_subpillar\"] = matching_2d_mat[\n",
    "    \"Final Pillar Name\"] + \"->\" + matching_2d_mat[\"Final Sub-pillar Name\"]"
   ]
  },
  {
   "cell_type": "code",
   "execution_count": 62,
   "metadata": {
    "ExecuteTime": {
     "end_time": "2021-10-26T11:08:48.123027Z",
     "start_time": "2021-10-26T11:08:48.120269Z"
    }
   },
   "outputs": [],
   "source": [
    "pillar_name_mapper = dict()\n",
    "subpillar_name_mapper = dict()\n",
    "for pillar, fpillar, subpillar, fsubpillar, af_id in zip(\n",
    "        matching_2d_mat[\"original_pillar\"], matching_2d_mat[\"target_pillar\"],\n",
    "        matching_2d_mat[\"original_subpillar\"],\n",
    "        matching_2d_mat[\"target_subpillar\"],\n",
    "        matching_2d_mat[\"analysis_framework_id\"]):\n",
    "    pillar_name_mapper[pillar] = fpillar\n",
    "    subpillar_name_mapper[subpillar] = fsubpillar"
   ]
  },
  {
   "cell_type": "code",
   "execution_count": 63,
   "metadata": {
    "ExecuteTime": {
     "end_time": "2021-10-26T11:08:48.128407Z",
     "start_time": "2021-10-26T11:08:48.123903Z"
    },
    "scrolled": true
   },
   "outputs": [],
   "source": [
    "matching_1d_mat[\"Framework Title\"] = matching_1d_mat[\n",
    "    \"Framework Title\"].str.title()\n",
    "##\n",
    "matching_1d_mat = pd.merge(matching_1d_mat,\n",
    "                           af_id_title,\n",
    "                           how=\"left\",\n",
    "                           left_on=\"Framework Title\",\n",
    "                           right_on=\"Framework Name\")"
   ]
  },
  {
   "cell_type": "code",
   "execution_count": 64,
   "metadata": {
    "ExecuteTime": {
     "end_time": "2021-10-26T11:08:48.135500Z",
     "start_time": "2021-10-26T11:08:48.129277Z"
    }
   },
   "outputs": [],
   "source": [
    "matching_1d_mat.drop([\"Framework Name\"], axis=1, inplace=True)\n",
    "for col in matching_1d_mat.columns[1:7]:\n",
    "    matching_1d_mat[col] = matching_1d_mat[col].astype(str).str.title()"
   ]
  },
  {
   "cell_type": "code",
   "execution_count": 65,
   "metadata": {
    "ExecuteTime": {
     "end_time": "2021-10-26T11:08:48.138836Z",
     "start_time": "2021-10-26T11:08:48.136537Z"
    }
   },
   "outputs": [],
   "source": [
    "#matching_1d_mat = matching_1d_mat[~matching_1d_mat[\"analysis_framework_id\"].isna()]\n",
    "matching_1d_mat[\"analysis_framework_id\"] = matching_1d_mat[\n",
    "    \"analysis_framework_id\"].apply(int)"
   ]
  },
  {
   "cell_type": "code",
   "execution_count": 66,
   "metadata": {
    "ExecuteTime": {
     "end_time": "2021-10-26T11:08:48.142285Z",
     "start_time": "2021-10-26T11:08:48.139701Z"
    }
   },
   "outputs": [
    {
     "data": {
      "text/plain": [
       "Index(['Framework Title', 'Type', 'Pillar', 'Sub-pillar', 'Virtual Type',\n",
       "       'Virtual Pillar', 'Virtual Sub-pillar', 'First-pass', 'Verified',\n",
       "       'Reversible', 'Cover', 'analysis_framework_id'],\n",
       "      dtype='object')"
      ]
     },
     "execution_count": 66,
     "metadata": {},
     "output_type": "execute_result"
    }
   ],
   "source": [
    "matching_1d_mat.columns"
   ]
  },
  {
   "cell_type": "code",
   "execution_count": 67,
   "metadata": {
    "ExecuteTime": {
     "end_time": "2021-10-26T11:08:48.146532Z",
     "start_time": "2021-10-26T11:08:48.143125Z"
    }
   },
   "outputs": [],
   "source": [
    "pillar_name_mapper_1d = dict()\n",
    "subpillar_name_mapper_1d = dict()\n",
    "for pillar, fpillar, subpillar, fsubpillar, af_id in zip(\n",
    "        matching_1d_mat[\"Pillar\"], matching_1d_mat[\"Virtual Pillar\"],\n",
    "        matching_1d_mat[\"Sub-pillar\"], matching_1d_mat[\"Virtual Sub-pillar\"],\n",
    "        matching_1d_mat[\"analysis_framework_id\"]):\n",
    "    pillar = pillar.strip() + \"->\" + subpillar.strip()\n",
    "    pillar_name_mapper_1d[pillar] = fpillar.strip()\n",
    "    subpillar_name_mapper_1d[pillar] = fpillar.strip() + \"->\" + fsubpillar.strip()"
   ]
  },
  {
   "cell_type": "code",
   "execution_count": 68,
   "metadata": {
    "ExecuteTime": {
     "end_time": "2021-10-26T11:08:48.150729Z",
     "start_time": "2021-10-26T11:08:48.147345Z"
    }
   },
   "outputs": [],
   "source": [
    "def sector_mapper(sec):\n",
    "    if sec == sec:\n",
    "        sectors = [sector_name_mapper[s] for s in sec]\n",
    "        return sectors  #[sec for sec in sectors if sec]\n",
    "    return []\n",
    "\n",
    "\n",
    "##\n",
    "def pillar_mapper(dim):\n",
    "    if dim == dim:\n",
    "        return [pillar_name_mapper[d.strip()] for d in dim]\n",
    "    return []\n",
    "\n",
    "\n",
    "##\n",
    "def subpillar_mapper(subdim):\n",
    "    if subdim == subdim:\n",
    "        return [subpillar_name_mapper[d.strip()] for d in subdim]\n",
    "    return []\n",
    "\n",
    "\n",
    "##\n",
    "def pillar_mapper_1d(pill):\n",
    "    if pill == pill:\n",
    "        return [pillar_name_mapper_1d[p] for p in pill]\n",
    "    return []\n",
    "\n",
    "\n",
    "##\n",
    "def subpillar_mapper_1d(subpill):\n",
    "    if subpill == subpill:\n",
    "        return [subpillar_name_mapper_1d[p] for p in subpill]\n",
    "    return []"
   ]
  },
  {
   "cell_type": "code",
   "execution_count": 69,
   "metadata": {
    "ExecuteTime": {
     "end_time": "2021-10-26T11:08:48.154197Z",
     "start_time": "2021-10-26T11:08:48.151626Z"
    }
   },
   "outputs": [],
   "source": [
    "subpillar_name_mapper['Impact->'\n",
    "                      'Status Of Essential Infrastructure'\n",
    "                      ', Systems, Markets And Networks'] = 'Nan'\n",
    "\n",
    "subpillar_name_mapper['Impact->Drivers'] = 'Nan'\n",
    "##\n",
    "corrected = 'Humanitarian Conditions->Risks & new or aggravated vulnerabilities (DO NOT TAG)'.title(\n",
    ")\n",
    "orig = 'Humanitarian Conditions->Risks &  New Or Aggravated Vulnerabilities (Do Not Tag)'.title(\n",
    ")\n",
    "subpillar_name_mapper[orig] = subpillar_name_mapper[corrected]\n",
    "##\n",
    "missing = 'Humanitarian Conditions->Risks &  New Or Aggravated Vulnerabilities'.title(\n",
    ")\n",
    "existing = 'Humanitarian Conditions->Risks &  New Or Aggravated Vulnerabilities (Do Not Tag)'.title(\n",
    ")\n",
    "subpillar_name_mapper[missing] = subpillar_name_mapper[existing]\n",
    "##\n",
    "subpillar_name_mapper[\n",
    "    'Humanitarian Conditions->Persons/Groups With Specific Needs'] = 'Nan'\n",
    "subpillar_name_mapper['Impact->Damages & Losses'] = 'Nan'"
   ]
  },
  {
   "cell_type": "code",
   "execution_count": 70,
   "metadata": {
    "ExecuteTime": {
     "end_time": "2021-10-26T11:08:48.156938Z",
     "start_time": "2021-10-26T11:08:48.155332Z"
    }
   },
   "outputs": [],
   "source": [
    "for k, v in subpillar_name_mapper.items():\n",
    "    if v == \"Nan->Nan\":\n",
    "        subpillar_name_mapper[k] = 'Nan'"
   ]
  },
  {
   "cell_type": "code",
   "execution_count": 71,
   "metadata": {
    "ExecuteTime": {
     "end_time": "2021-10-26T11:08:48.159494Z",
     "start_time": "2021-10-26T11:08:48.157797Z"
    }
   },
   "outputs": [],
   "source": [
    "for k, v in subpillar_name_mapper.items():\n",
    "    pillar_name_mapper[k] = v.split(\"->\")[0]"
   ]
  },
  {
   "cell_type": "code",
   "execution_count": 72,
   "metadata": {
    "ExecuteTime": {
     "end_time": "2021-10-26T11:08:48.163569Z",
     "start_time": "2021-10-26T11:08:48.160471Z"
    }
   },
   "outputs": [],
   "source": [
    "corrected = 'Covid-19 Communication & Information->Prevention Campaings'.title(\n",
    ")\n",
    "orig = 'Covid-19 Communication & Information->Prevention Campaigns'.title()\n",
    "subpillar_name_mapper_1d[orig] = subpillar_name_mapper_1d[corrected]\n",
    "##\n",
    "missing = 'Event/Shock->Pre-Existing Vulnerabilities'.title()\n",
    "existing = 'Event/Shock->Underlying Factors/Pre-existing vulnerabilities'.title(\n",
    ")\n",
    "subpillar_name_mapper_1d[missing] = subpillar_name_mapper_1d[existing]\n",
    "##\n",
    "corrected = 'Shock /Event/Ongoing Conditions->Mitigating factors'.title()\n",
    "orig = 'Shock /Event/Ongoing Conditions->Mtitigating Factors'.title()\n",
    "subpillar_name_mapper_1d[orig] = subpillar_name_mapper_1d[corrected]\n",
    "##\n",
    "corrected = 'Information And Communication->Knowledge and info needs'.title()\n",
    "orig = 'Information And Communication->Knoweldge And Info Needs'.title()\n",
    "subpillar_name_mapper_1d[orig] = subpillar_name_mapper_1d[corrected]\n",
    "##\n",
    "missing = 'Context->Hazard Development'.title()\n",
    "existing = 'Context->Hazard Developments'.title()\n",
    "subpillar_name_mapper_1d[missing] = subpillar_name_mapper_1d[existing]"
   ]
  },
  {
   "cell_type": "code",
   "execution_count": 73,
   "metadata": {
    "ExecuteTime": {
     "end_time": "2021-10-26T11:08:48.166568Z",
     "start_time": "2021-10-26T11:08:48.164598Z"
    }
   },
   "outputs": [],
   "source": [
    "for k, v in subpillar_name_mapper_1d.items():\n",
    "    if v == \"Nan->Nan\":\n",
    "        subpillar_name_mapper_1d[k] = 'Nan'"
   ]
  },
  {
   "cell_type": "code",
   "execution_count": 74,
   "metadata": {
    "ExecuteTime": {
     "end_time": "2021-10-26T11:08:48.169498Z",
     "start_time": "2021-10-26T11:08:48.167682Z"
    }
   },
   "outputs": [],
   "source": [
    "for k, v in subpillar_name_mapper_1d.items():\n",
    "    pillar_name_mapper_1d[k] = v.split(\"->\")[0]"
   ]
  },
  {
   "cell_type": "code",
   "execution_count": 75,
   "metadata": {
    "ExecuteTime": {
     "end_time": "2021-10-26T11:08:48.800021Z",
     "start_time": "2021-10-26T11:08:48.170515Z"
    }
   },
   "outputs": [],
   "source": [
    "final_df[\"sectors\"] = final_df[\"sectors\"].apply(sector_mapper)\n",
    "##\n",
    "final_df[\"subpillars_2d\"] = final_df[\"pillars\"].apply(subpillar_mapper)\n",
    "final_df[\"pillars_2d\"] = final_df[\"pillars\"].apply(pillar_mapper)\n",
    "##\n",
    "final_df[\"subpillars_1d\"] = final_df[\"pillars_1d\"].apply(subpillar_mapper_1d)\n",
    "final_df[\"pillars_1d\"] = final_df[\"pillars_1d\"].apply(pillar_mapper_1d)"
   ]
  },
  {
   "cell_type": "code",
   "execution_count": 76,
   "metadata": {
    "ExecuteTime": {
     "end_time": "2021-10-26T11:08:48.804315Z",
     "start_time": "2021-10-26T11:08:48.801212Z"
    }
   },
   "outputs": [
    {
     "data": {
      "text/plain": [
       "Index(['entry_id', 'created_at', 'modified_at', 'excerpt', 'entry_type',\n",
       "       'analysis_framework_id', 'created_by_id', 'lead_id', 'modified_by_id',\n",
       "       'information_date', 'order', 'project_id', 'title', 'verified', 'tags',\n",
       "       'tags_str', 'pillars', 'sectors', 'subsectors', 'label_2d',\n",
       "       'pillars_1d', 'subpillars_2d', 'pillars_2d', 'subpillars_1d'],\n",
       "      dtype='object')"
      ]
     },
     "execution_count": 76,
     "metadata": {},
     "output_type": "execute_result"
    }
   ],
   "source": [
    "final_df.columns"
   ]
  },
  {
   "cell_type": "code",
   "execution_count": 77,
   "metadata": {
    "ExecuteTime": {
     "end_time": "2021-10-26T11:08:48.915253Z",
     "start_time": "2021-10-26T11:08:48.805404Z"
    }
   },
   "outputs": [],
   "source": [
    "final_df = final_df[~final_df.excerpt.isna()]\n"
   ]
  },
  {
   "cell_type": "code",
   "execution_count": 78,
   "metadata": {
    "ExecuteTime": {
     "end_time": "2021-10-26T11:08:48.960466Z",
     "start_time": "2021-10-26T11:08:48.916738Z"
    }
   },
   "outputs": [
    {
     "data": {
      "text/plain": [
       "[('Health', 25733),\n",
       " ('Protection', 20827),\n",
       " ('Cross', 14389),\n",
       " ('Livelihoods', 12496),\n",
       " ('Food Security', 11138),\n",
       " ('WASH', 8150),\n",
       " ('Shelter', 7711),\n",
       " ('Education', 7254),\n",
       " ('Nutrition', 3243),\n",
       " ('Agriculture', 3114),\n",
       " ('Logistics', 2798),\n",
       " ('Nan', 587)]"
      ]
     },
     "execution_count": 78,
     "metadata": {},
     "output_type": "execute_result"
    }
   ],
   "source": [
    "secs_unique = set()\n",
    "secs_occurances = list()\n",
    "for secs in final_df[\"sectors\"]:\n",
    "    secs_unique.update(secs)\n",
    "    secs_occurances.extend(secs)\n",
    "#secs_unique\n",
    "Counter(secs_occurances).most_common()"
   ]
  },
  {
   "cell_type": "code",
   "execution_count": 79,
   "metadata": {
    "ExecuteTime": {
     "end_time": "2021-10-26T11:08:49.002114Z",
     "start_time": "2021-10-26T11:08:48.961422Z"
    }
   },
   "outputs": [
    {
     "data": {
      "text/plain": [
       "[('Humanitarian Conditions', 49191),\n",
       " ('Impact', 37536),\n",
       " ('Capacities & Response', 15526),\n",
       " ('At Risk', 12737),\n",
       " ('Nan', 11483),\n",
       " ('Priority Needs', 3346),\n",
       " ('Priority Interventions', 2579)]"
      ]
     },
     "execution_count": 79,
     "metadata": {},
     "output_type": "execute_result"
    }
   ],
   "source": [
    "pills_unique = set()\n",
    "pills_occurances = list()\n",
    "for pills in final_df[\"pillars_2d\"]:\n",
    "    pills_unique.update(pills)\n",
    "    pills_occurances.extend(pills)\n",
    "#pills_unique\n",
    "Counter(pills_occurances).most_common()"
   ]
  },
  {
   "cell_type": "code",
   "execution_count": 80,
   "metadata": {
    "ExecuteTime": {
     "end_time": "2021-10-26T11:08:49.040797Z",
     "start_time": "2021-10-26T11:08:49.003039Z"
    },
    "scrolled": false
   },
   "outputs": [
    {
     "data": {
      "text/plain": [
       "[('Humanitarian Conditions->Living Standards', 27948),\n",
       " ('Humanitarian Conditions->Physical And Mental Well Being', 15535),\n",
       " ('Impact->Impact On Systems, Services And Networks', 12751),\n",
       " ('Impact->Driver/Aggravating Factors', 12737),\n",
       " ('At Risk->Risk And Vulnerabilities', 12460),\n",
       " ('Nan', 11483),\n",
       " ('Impact->Impact On People', 9684),\n",
       " ('Capacities & Response->International Response', 8920),\n",
       " ('Humanitarian Conditions->Coping Mechanisms', 4369),\n",
       " ('Capacities & Response->National Response', 4027),\n",
       " ('Impact->Number Of People Affected', 2364),\n",
       " ('Capacities & Response->Number Of People Reached/Response Gaps', 2320),\n",
       " ('Priority Interventions->Expressed By Humanitarian Staff', 2289),\n",
       " ('Priority Needs->Expressed By Humanitarian Staff', 1686),\n",
       " ('Priority Needs->Expressed By Population', 1660),\n",
       " ('Humanitarian Conditions->Number Of People In Need', 1339),\n",
       " ('Priority Interventions->Expressed By Population', 290),\n",
       " ('At Risk->Number Of People At Risk', 277),\n",
       " ('Capacities & Response->Local Response', 259)]"
      ]
     },
     "execution_count": 80,
     "metadata": {},
     "output_type": "execute_result"
    }
   ],
   "source": [
    "subpills_unique = set()\n",
    "subpills_occurances = list()\n",
    "for subpills in final_df[\"subpillars_2d\"]:\n",
    "    subpills_unique.update(subpills)\n",
    "    subpills_occurances.extend(subpills)\n",
    "Counter(subpills_occurances).most_common()"
   ]
  },
  {
   "cell_type": "code",
   "execution_count": 81,
   "metadata": {
    "ExecuteTime": {
     "end_time": "2021-10-26T11:08:49.076380Z",
     "start_time": "2021-10-26T11:08:49.041764Z"
    }
   },
   "outputs": [
    {
     "data": {
      "text/plain": [
       "[('Context', 20513),\n",
       " ('Covid-19', 19021),\n",
       " ('Nan', 15432),\n",
       " ('Displacement', 14572),\n",
       " ('Shock/Event', 5019),\n",
       " ('Casualties', 4129),\n",
       " ('Humanitarian Access', 3377),\n",
       " ('Information And Communication', 1196),\n",
       " ('Capacities & Response', 746)]"
      ]
     },
     "execution_count": 81,
     "metadata": {},
     "output_type": "execute_result"
    }
   ],
   "source": [
    "pills_unique_1d = set()\n",
    "pills_occurances_1d = list()\n",
    "for pills_1d in final_df[\"pillars_1d\"]:\n",
    "    pills_unique_1d.update(pills_1d)\n",
    "    pills_occurances_1d.extend(pills_1d)\n",
    "#pills_unique_1d\n",
    "Counter(pills_occurances_1d).most_common()"
   ]
  },
  {
   "cell_type": "code",
   "execution_count": 82,
   "metadata": {
    "ExecuteTime": {
     "end_time": "2021-10-26T11:08:49.120842Z",
     "start_time": "2021-10-26T11:08:49.085324Z"
    },
    "scrolled": true
   },
   "outputs": [
    {
     "data": {
      "text/plain": [
       "[('Nan', 15432),\n",
       " ('Displacement->Type/Numbers/Movements', 9051),\n",
       " ('Context->Security & Stability', 6902),\n",
       " ('Covid-19->Cases', 5507),\n",
       " ('Covid-19->Restriction Measures', 4879),\n",
       " ('Context->Economy', 3899),\n",
       " ('Casualties->Dead', 3194),\n",
       " ('Context->Demography', 3185),\n",
       " ('Covid-19->Deaths', 3098),\n",
       " ('Covid-19->Vaccination', 2776),\n",
       " ('Displacement->Local Integration', 2617),\n",
       " ('Context->Legal & Policy', 2543),\n",
       " ('Shock/Event->Hazard & Threats', 2271),\n",
       " ('Displacement->Push Factors', 2051),\n",
       " ('Context->Politics', 1925),\n",
       " ('Humanitarian Access->Physical Constraints', 1743),\n",
       " ('Covid-19->Testing', 1622),\n",
       " ('Shock/Event->Underlying/Aggravating Factors', 1412),\n",
       " ('Shock/Event->Type And Characteristics', 1336),\n",
       " ('Context->Socio Cultural', 1178),\n",
       " ('Humanitarian Access->Relief To Population', 948),\n",
       " ('Context->Environment', 881),\n",
       " ('Capacities & Response->Number Of People Reached/Response Gaps', 746),\n",
       " ('Casualties->Injured', 663),\n",
       " ('Covid-19->Contact Tracing', 627),\n",
       " ('Information And Communication->Knowledge And Info Gaps (Hum)', 515),\n",
       " ('Covid-19->Hospitalization & Care', 512),\n",
       " ('Displacement->Intentions', 506),\n",
       " ('Humanitarian Access->Number Of People Facing Humanitarian Access Constraints/Humanitarian Access Gaps',\n",
       "  458),\n",
       " ('Displacement->Pull Factors', 347),\n",
       " ('Information And Communication->Knowledge And Info Gaps (Pop)', 304),\n",
       " ('Casualties->Missing', 272),\n",
       " ('Humanitarian Access->Population To Relief', 228),\n",
       " ('Information And Communication->Communication Means And Preferences', 222),\n",
       " ('Information And Communication->Information Challenges And Barriers', 155)]"
      ]
     },
     "execution_count": 82,
     "metadata": {},
     "output_type": "execute_result"
    }
   ],
   "source": [
    "subpills_unique_1d = set()\n",
    "subpills_occurances_1d = list()\n",
    "for subpills_1d in final_df[\"subpillars_1d\"]:\n",
    "    subpills_unique_1d.update(subpills_1d)\n",
    "    subpills_occurances_1d.extend(subpills_1d)\n",
    "#subpills_unique_1d\n",
    "Counter(subpills_occurances_1d).most_common()"
   ]
  },
  {
   "cell_type": "code",
   "execution_count": 83,
   "metadata": {
    "ExecuteTime": {
     "end_time": "2021-10-26T11:08:49.171663Z",
     "start_time": "2021-10-26T11:08:49.121769Z"
    }
   },
   "outputs": [
    {
     "data": {
      "text/plain": [
       "(57933, 85174, 85174)"
      ]
     },
     "execution_count": 83,
     "metadata": {},
     "output_type": "execute_result"
    }
   ],
   "source": [
    "final_df[\"subpillars_1d\"].apply(lambda x:x!=[]).sum(),\\\n",
    "final_df[\"subpillars_2d\"].apply(lambda x:x!=[]).sum(),\\\n",
    "final_df[\"sectors\"].apply(lambda x:x!=[]).sum()"
   ]
  },
  {
   "cell_type": "code",
   "execution_count": 84,
   "metadata": {
    "ExecuteTime": {
     "end_time": "2021-10-26T11:08:49.193442Z",
     "start_time": "2021-10-26T11:08:49.172565Z"
    }
   },
   "outputs": [],
   "source": [
    "final_df = final_df[[\n",
    "    'entry_id', 'excerpt', 'entry_type', 'analysis_framework_id', 'lead_id',\n",
    "    'title', 'project_id', 'verified', 'sectors', 'pillars_2d', 'pillars_1d',\n",
    "    'subpillars_2d', 'subpillars_1d'\n",
    "]]"
   ]
  },
  {
   "cell_type": "code",
   "execution_count": 85,
   "metadata": {
    "ExecuteTime": {
     "end_time": "2021-10-26T11:08:49.423919Z",
     "start_time": "2021-10-26T11:08:49.194950Z"
    }
   },
   "outputs": [],
   "source": [
    "for col in [\n",
    "        'sectors', 'pillars_2d', 'pillars_1d', 'subpillars_2d', 'subpillars_1d'\n",
    "]:\n",
    "    final_df[col] = final_df[col].apply(\n",
    "        lambda lbls: [x if x != 'Nan' else \"NOT_MAPPED\" for x in lbls])"
   ]
  },
  {
   "cell_type": "code",
   "execution_count": 86,
   "metadata": {
    "ExecuteTime": {
     "end_time": "2021-10-26T11:08:49.514897Z",
     "start_time": "2021-10-26T11:08:49.424990Z"
    }
   },
   "outputs": [
    {
     "name": "stdout",
     "output_type": "stream",
     "text": [
      "(95004, 13) (116744, 13)\n"
     ]
    }
   ],
   "source": [
    "all_valid_df = final_df[\n",
    "    final_df['sectors'].apply(lambda lbls: \"NOT_MAPPED\" not in lbls)\n",
    "    & final_df['pillars_2d'].apply(\n",
    "        lambda lbls: \"NOT_MAPPED\" not in lbls) &\n",
    "    final_df['pillars_1d'].apply(lambda lbls: \"NOT_MAPPED\" not in lbls)\n",
    "    & final_df['subpillars_2d'].apply(\n",
    "        lambda lbls: \"NOT_MAPPED\" not in lbls)\n",
    "    & final_df['subpillars_1d'].apply(\n",
    "        lambda lbls: \"NOT_MAPPED\" not in lbls)]\n",
    "print(all_valid_df.shape, final_df.shape)"
   ]
  },
  {
   "cell_type": "code",
   "execution_count": 87,
   "metadata": {
    "ExecuteTime": {
     "end_time": "2021-10-26T11:08:51.823098Z",
     "start_time": "2021-10-26T11:08:49.515909Z"
    }
   },
   "outputs": [],
   "source": [
    "final_df.to_csv('generated_dataset/primary_tags.csv', index=None)\n",
    "all_valid_df.to_csv('generated_dataset/primary_tags_vc.csv', index=None)"
   ]
  },
  {
   "cell_type": "code",
   "execution_count": null,
   "metadata": {},
   "outputs": [],
   "source": []
  }
 ],
 "metadata": {
  "kernelspec": {
   "display_name": "Python 3 (ipykernel)",
   "language": "python",
   "name": "python3"
  },
  "language_info": {
   "codemirror_mode": {
    "name": "ipython",
    "version": 3
   },
   "file_extension": ".py",
   "mimetype": "text/x-python",
   "name": "python",
   "nbconvert_exporter": "python",
   "pygments_lexer": "ipython3",
   "version": "3.8.11"
  },
  "varInspector": {
   "cols": {
    "lenName": 16,
    "lenType": 16,
    "lenVar": 40
   },
   "kernels_config": {
    "python": {
     "delete_cmd_postfix": "",
     "delete_cmd_prefix": "del ",
     "library": "var_list.py",
     "varRefreshCmd": "print(var_dic_list())"
    },
    "r": {
     "delete_cmd_postfix": ") ",
     "delete_cmd_prefix": "rm(",
     "library": "var_list.r",
     "varRefreshCmd": "cat(var_dic_list()) "
    }
   },
   "types_to_exclude": [
    "module",
    "function",
    "builtin_function_or_method",
    "instance",
    "_Feature"
   ],
   "window_display": false
  }
 },
 "nbformat": 4,
 "nbformat_minor": 4
}
