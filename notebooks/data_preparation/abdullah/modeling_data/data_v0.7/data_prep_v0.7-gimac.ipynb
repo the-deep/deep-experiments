{
 "cells": [
  {
   "cell_type": "markdown",
   "metadata": {},
   "source": [
    "### Matching GIMAC Generic"
   ]
  },
  {
   "cell_type": "code",
   "execution_count": 1,
   "metadata": {
    "ExecuteTime": {
     "end_time": "2021-10-26T11:07:52.759403Z",
     "start_time": "2021-10-26T11:07:52.530130Z"
    }
   },
   "outputs": [],
   "source": [
    "import re\n",
    "import json\n",
    "import random\n",
    "from pprint import pprint\n",
    "from ast import literal_eval\n",
    "from collections import Counter, defaultdict\n",
    "import os\n",
    "\n",
    "import numpy as np\n",
    "import pandas as pd\n",
    "from tqdm.auto import tqdm"
   ]
  },
  {
   "cell_type": "code",
   "execution_count": 2,
   "metadata": {
    "ExecuteTime": {
     "end_time": "2021-10-26T11:07:52.769332Z",
     "start_time": "2021-10-26T11:07:52.760640Z"
    }
   },
   "outputs": [],
   "source": [
    "random.seed(2021)\n",
    "np.random.seed(2021)"
   ]
  },
  {
   "cell_type": "code",
   "execution_count": 3,
   "metadata": {
    "ExecuteTime": {
     "end_time": "2021-10-26T11:07:56.295683Z",
     "start_time": "2021-10-26T11:07:52.771145Z"
    },
    "code_folding": [],
    "scrolled": true
   },
   "outputs": [],
   "source": [
    "# each line in this table correspond to single tagging of an entry.\n",
    "# an entry may have more than one tagging (e.g. a tag in 2D matrix, another in 1D matrix,\n",
    "# secondary tags, etc. )\n",
    "exportdata = pd.read_csv(\"exportdata.csv\")\n",
    "# I pulled entries related to projects chosen by Patrice\n",
    "entries = pd.read_csv(\"entries.csv\")\n",
    "# The widgets of AF's, i.e. 2D matrices, 1D matrices, secondary tagging widgets, etc.\n",
    "af_widgets = pd.read_csv(\"af_widgets.csv\")\n",
    "# Projects chosen by Patrice\n",
    "projects = pd.read_csv(\"projects.csv\")\n",
    "#\n",
    "exportables = pd.read_csv(\"af_exportables.csv\")\n",
    "# AF details\n",
    "afs = pd.read_csv(\"analysis_frameworks.csv\")\n",
    "# user ids, first names and last names\n",
    "users = pd.read_csv(\"user_names.csv\")\n",
    "# The matchin of pillar/sub-pillar names from different AFs into unified pillar/sub-pillar names\n",
    "matching_gimac = pd.read_csv(\"gimac_to_vaf.csv\")"
   ]
  },
  {
   "cell_type": "code",
   "execution_count": 4,
   "metadata": {
    "ExecuteTime": {
     "end_time": "2021-10-26T11:07:56.299415Z",
     "start_time": "2021-10-26T11:07:56.297078Z"
    }
   },
   "outputs": [],
   "source": [
    "dirName = 'generated_dataset'\n",
    "if not os.path.exists(dirName):\n",
    "    os.mkdir(dirName)"
   ]
  },
  {
   "cell_type": "code",
   "execution_count": 5,
   "metadata": {
    "ExecuteTime": {
     "end_time": "2021-10-26T11:07:56.341361Z",
     "start_time": "2021-10-26T11:07:56.300566Z"
    }
   },
   "outputs": [
    {
     "data": {
      "text/plain": [
       "[1465]"
      ]
     },
     "execution_count": 5,
     "metadata": {},
     "output_type": "execute_result"
    }
   ],
   "source": [
    "af_id_to_title = afs[[\"id\", \"title\"]].set_index(\"id\")[\"title\"].to_dict()\n",
    "af_title_to_ids = afs[[\"id\", \"title\"]].groupby(\"title\")[\"id\"].apply(list).to_dict()\n",
    "af_title_to_ids[\"GIMAC Generic\"]"
   ]
  },
  {
   "cell_type": "code",
   "execution_count": 6,
   "metadata": {
    "ExecuteTime": {
     "end_time": "2021-10-26T11:07:56.345454Z",
     "start_time": "2021-10-26T11:07:56.342345Z"
    }
   },
   "outputs": [
    {
     "data": {
      "text/plain": [
       "Index(['id', 'data', 'entry_id', 'exportable_id'], dtype='object')"
      ]
     },
     "execution_count": 6,
     "metadata": {},
     "output_type": "execute_result"
    }
   ],
   "source": [
    "exportdata.columns"
   ]
  },
  {
   "cell_type": "code",
   "execution_count": 7,
   "metadata": {
    "ExecuteTime": {
     "end_time": "2021-10-26T11:07:56.379724Z",
     "start_time": "2021-10-26T11:07:56.346317Z"
    }
   },
   "outputs": [],
   "source": [
    "# keep \"GIMAC Generic\"'s data\n",
    "af_widgets = af_widgets[af_widgets[\"analysis_framework_id\"].eq(1465)]\n",
    "exportables = exportables[exportables[\"analysis_framework_id\"].eq(1465)]\n",
    "exportdata = exportdata[exportdata[\"exportable_id\"].isin(exportables.id)]"
   ]
  },
  {
   "cell_type": "code",
   "execution_count": 8,
   "metadata": {
    "ExecuteTime": {
     "end_time": "2021-10-26T11:07:56.393598Z",
     "start_time": "2021-10-26T11:07:56.381202Z"
    }
   },
   "outputs": [
    {
     "data": {
      "text/plain": [
       "(42220,)"
      ]
     },
     "execution_count": 8,
     "metadata": {},
     "output_type": "execute_result"
    }
   ],
   "source": [
    "exportdata[exportdata[\"exportable_id\"].isin(exportables.id)][\"entry_id\"].unique().shape"
   ]
  },
  {
   "cell_type": "code",
   "execution_count": 9,
   "metadata": {
    "ExecuteTime": {
     "end_time": "2021-10-26T11:07:56.397776Z",
     "start_time": "2021-10-26T11:07:56.394693Z"
    }
   },
   "outputs": [],
   "source": [
    "raw_name_to_tag_dict = {\n",
    "    \"Severity\":\"Severity\",\n",
    "    \"Severity (Needs assessment entries only)\":\"Severity\",\n",
    "    \"SEVERITY\":\"Severity\",\n",
    "    \n",
    "    \"Reliability\":\"Reliability\",\n",
    "    \"RELIABILITY\":\"Reliability\",\n",
    "    \n",
    "    \"Demographic Groups\":\"Demographic Groups\",\n",
    "    \"DEMOGRAPHIC GROUPS\":\"Demographic Groups\",\n",
    "    \n",
    "    \"Information date\":\"Information Date\",\n",
    "    \"Information Date\":\"Information Date\",\n",
    "    \"Date\":\"Information Date\",\n",
    "    \"DATE OF INFORMATION\":\"Information Date\",\n",
    "    \"Date range\":\"Information Date\",\n",
    "    \n",
    "    \"Geo Location\":\"Geo Location\",\n",
    "    \"LOCATION\":\"Geo Location\",\n",
    "    \"Geo location\":\"Geo Location\",\n",
    "    \"Country\":\"Geo Location\",\n",
    "    \"GEOLOCATIONS\":\"Geo Location\",\n",
    "    \n",
    "    \"Affected groups\":\"Affected Groups\",\n",
    "    \"AFFECTED GROUPS\":\"Affected Groups\",\n",
    "    \n",
    "    \"Specific Needs Groups\":\"Specific Needs Groups\",\n",
    "    \"SPECIFIC NEEDS GROUPS\":\"Specific Needs Groups\",\n",
    "}\n"
   ]
  },
  {
   "cell_type": "code",
   "execution_count": 10,
   "metadata": {
    "ExecuteTime": {
     "end_time": "2021-10-26T11:07:56.402905Z",
     "start_time": "2021-10-26T11:07:56.399679Z"
    }
   },
   "outputs": [],
   "source": [
    "def clean_titles(x):\n",
    "    if x in list(raw_name_to_tag_dict.keys()):\n",
    "        return raw_name_to_tag_dict[x]\n",
    "    return x.title()\n",
    "\n",
    "\n",
    "af_widgets['title'] = af_widgets['title'].apply(clean_titles)"
   ]
  },
  {
   "cell_type": "code",
   "execution_count": 11,
   "metadata": {
    "ExecuteTime": {
     "end_time": "2021-10-26T11:07:56.407718Z",
     "start_time": "2021-10-26T11:07:56.404038Z"
    }
   },
   "outputs": [
    {
     "data": {
      "text/plain": [
       "42     Specific Needs Groups\n",
       "95                Pre-Crisis\n",
       "96                 In-Crisis\n",
       "100             Geo Location\n",
       "123                  Excerpt\n",
       "124              Shock/Event\n",
       "125              Reliability\n",
       "126       Additional Context\n",
       "127       Displaced Pop Type\n",
       "129            Cleaning Tags\n",
       "130        Population Groups\n",
       "131        Cleaning Comments\n",
       "132       Demographic Groups\n",
       "133          High Level Tags\n",
       "Name: title, dtype: object"
      ]
     },
     "execution_count": 11,
     "metadata": {},
     "output_type": "execute_result"
    }
   ],
   "source": [
    "af_widgets['title']"
   ]
  },
  {
   "cell_type": "code",
   "execution_count": 12,
   "metadata": {
    "ExecuteTime": {
     "end_time": "2021-10-26T11:07:56.416220Z",
     "start_time": "2021-10-26T11:07:56.408650Z"
    },
    "code_folding": []
   },
   "outputs": [],
   "source": [
    "# widget names of 2D matrices in the chosen AFs's\n",
    "mat2d_titles = [\n",
    "    \"Pre-Crisis\",\n",
    "    \"Shock/Event\",\n",
    "    \"In-Crisis\",\n",
    "]\n",
    "# Pandas will read json objects as strings,\n",
    "# here I am converting them into Python dict objects\n",
    "af_widgets[\"properties\"] = af_widgets[\"properties\"].apply(json.loads)\n",
    "##\n",
    "mat2d_properties_ids = af_widgets[(\n",
    "    af_widgets[\"title\"].str.title()).isin(mat2d_titles)][[\n",
    "        \"properties\", \"analysis_framework_id\"\n",
    "    ]]\n",
    "mat2d_properties = mat2d_properties_ids[\"properties\"].tolist()\n",
    "mat2d_ids = mat2d_properties_ids[\"analysis_framework_id\"].tolist()\n",
    "## 1D Matrices\n",
    "# widget names of 1D matrices in the chosen AFs's\n",
    "mat1d_titles = [\"High Level Tags\"]\n",
    "\n",
    "mat1d_properties_ids = af_widgets[(\n",
    "    af_widgets[\"title\"].str.upper()).isin(mat1d_titles)][[\n",
    "        \"properties\", \"analysis_framework_id\"\n",
    "    ]]\n",
    "mat1d_properties = mat1d_properties_ids[\"properties\"].tolist()\n",
    "mat1d_ids = mat1d_properties_ids[\"analysis_framework_id\"].tolist()"
   ]
  },
  {
   "cell_type": "code",
   "execution_count": 13,
   "metadata": {
    "ExecuteTime": {
     "end_time": "2021-10-26T11:07:56.421397Z",
     "start_time": "2021-10-26T11:07:56.417254Z"
    },
    "scrolled": true
   },
   "outputs": [],
   "source": [
    "afids_pillars_subpillars = dict()\n",
    "errors = []\n",
    "for mat, af_id in zip(mat2d_properties, mat2d_ids):\n",
    "    try:\n",
    "        dims = mat[\"data\"]['dimensions']\n",
    "        afids_pillars_subpillars[af_id] = {}\n",
    "        for dim in dims:\n",
    "            pillar = dim[\"title\"]\n",
    "            sub_pillars = []\n",
    "            for sub_pillar_dict in dim[\"subdimensions\"]:\n",
    "                sub_pillars.append(sub_pillar_dict[\"title\"])\n",
    "            afids_pillars_subpillars[af_id][pillar] = sub_pillars\n",
    "    except KeyError:\n",
    "        errors.append([mat, af_id])\n",
    "##\n",
    "afids_rows_cells = dict()\n",
    "for mat, af_id in zip(mat1d_properties, mat1d_ids):\n",
    "    try:\n",
    "        rows = mat[\"data\"]['rows']\n",
    "        afids_rows_cells[af_id] = {}\n",
    "        for row in rows:\n",
    "            pillar = row[\"title\"]\n",
    "            sub_pillars = []\n",
    "            for sub_pillar_dict in row[\"cells\"]:\n",
    "                sub_pillars.append(sub_pillar_dict[\"value\"])\n",
    "            afids_rows_cells[af_id][pillar] = sub_pillars\n",
    "    except KeyError:\n",
    "        errors.append([mat, af_id])"
   ]
  },
  {
   "cell_type": "code",
   "execution_count": 14,
   "metadata": {
    "ExecuteTime": {
     "end_time": "2021-10-26T11:07:56.431714Z",
     "start_time": "2021-10-26T11:07:56.422454Z"
    }
   },
   "outputs": [],
   "source": [
    "def extract_title(x):\n",
    "    if x[\"excel\"].get(\"title\"):\n",
    "        return x[\"excel\"][\"title\"]\n",
    "    elif x[\"excel\"].get(\"type\") == \"multiple\":\n",
    "        return x[\"excel\"][\"titles\"]\n",
    "##\n",
    "exportables[\"data\"] = exportables[\"data\"].apply(literal_eval)\n",
    "exportable_titles = exportables[\"data\"].apply(extract_title).tolist()"
   ]
  },
  {
   "cell_type": "code",
   "execution_count": 15,
   "metadata": {
    "ExecuteTime": {
     "end_time": "2021-10-26T11:07:56.488495Z",
     "start_time": "2021-10-26T11:07:56.432651Z"
    }
   },
   "outputs": [
    {
     "name": "stdout",
     "output_type": "stream",
     "text": [
      "(203464, 21) (186929, 4)\n",
      "(157903, 21) (186929, 4)\n"
     ]
    }
   ],
   "source": [
    "print(entries.shape, exportdata.shape)\n",
    "entries = entries[entries[\"entry_type\"].eq(\"excerpt\") & (~entries[\"excerpt\"].isna())]\n",
    "print(entries.shape, exportdata.shape)"
   ]
  },
  {
   "cell_type": "code",
   "execution_count": 16,
   "metadata": {
    "ExecuteTime": {
     "end_time": "2021-10-26T11:07:56.491942Z",
     "start_time": "2021-10-26T11:07:56.489511Z"
    }
   },
   "outputs": [],
   "source": [
    "exid_to_exdata = dict()\n",
    "for ex_id, ex_data in zip(exportables[\"id\"], exportables[\"data\"]):\n",
    "    exid_to_exdata[ex_id] = ex_data"
   ]
  },
  {
   "cell_type": "code",
   "execution_count": 17,
   "metadata": {
    "ExecuteTime": {
     "end_time": "2021-10-26T11:07:56.496796Z",
     "start_time": "2021-10-26T11:07:56.493519Z"
    }
   },
   "outputs": [],
   "source": [
    "widget_key_id_to_title = dict()\n",
    "for w_key, w_id, title in zip(af_widgets[\"key\"], af_widgets[\"widget_id\"], af_widgets[\"title\"]):\n",
    "    widget_key_id_to_title[(w_key, w_id)] = title"
   ]
  },
  {
   "cell_type": "code",
   "execution_count": 18,
   "metadata": {
    "ExecuteTime": {
     "end_time": "2021-10-26T11:07:56.503717Z",
     "start_time": "2021-10-26T11:07:56.497880Z"
    }
   },
   "outputs": [],
   "source": [
    "def exportdata_to_tag_title(row):\n",
    "    data = json.loads(row[1])\n",
    "    wkey, wid = None, None\n",
    "    if data.get(\"common\"):\n",
    "        wkey = data.get(\"common\").get(\"widget_key\")\n",
    "        wid = data[\"common\"].get(\"widget_id\")\n",
    "    if wkey and wid:\n",
    "        if widget_key_id_to_title.get((wkey, wid)):\n",
    "            return widget_key_id_to_title.get((wkey, wid))\n",
    "    if data.get(\"report\") and data[\"report\"].get(\"other\"):\n",
    "            if len(data[\"report\"][\"other\"]) == 1 and data[\"report\"][\"other\"][0].get(\"title\"):\n",
    "                if data[\"report\"][\"other\"][0][\"title\"]:\n",
    "                    return data[\"report\"][\"other\"][0][\"title\"]\n",
    "    if isinstance(data.get(\"excel\"), list) and len(data[\"excel\"])==1 and \\\n",
    "     data[\"excel\"][0].get(\"widget_key\") and data[\"excel\"][0].get(\"widget_id\"):\n",
    "        wkey = data[\"excel\"][0][\"widget_key\"]\n",
    "        wid = data[\"excel\"][0][\"widget_id\"]\n",
    "        if widget_key_id_to_title.get((wkey, wid)):\n",
    "            return widget_key_id_to_title.get((wkey, wid))\n",
    "    exportable_id = row[3]\n",
    "    if exid_to_exdata[exportable_id][\"excel\"].get(\"title\"):\n",
    "        return exid_to_exdata[exportable_id][\"excel\"][\"title\"]\n",
    "    elif exid_to_exdata[exportable_id][\"excel\"].get(\"type\") == \"multiple\":\n",
    "        return exid_to_exdata[exportable_id][\"excel\"][\"titles\"]\n",
    "    raise"
   ]
  },
  {
   "cell_type": "code",
   "execution_count": 19,
   "metadata": {
    "ExecuteTime": {
     "end_time": "2021-10-26T11:07:58.460690Z",
     "start_time": "2021-10-26T11:07:56.504858Z"
    }
   },
   "outputs": [],
   "source": [
    "exportdata[\"tag_title\"] = exportdata.apply(exportdata_to_tag_title, axis=1)"
   ]
  },
  {
   "cell_type": "code",
   "execution_count": 20,
   "metadata": {
    "ExecuteTime": {
     "end_time": "2021-10-26T11:07:58.465938Z",
     "start_time": "2021-10-26T11:07:58.461762Z"
    }
   },
   "outputs": [],
   "source": [
    "def exportdata_to_tag_value(row):\n",
    "    data = json.loads(row[1])\n",
    "    if isinstance(data[\"excel\"], list) and len(data[\"excel\"])==1:\n",
    "        return data[\"excel\"][0][\"value\"]\n",
    "    if data[\"excel\"].get(\"type\") == \"lists\":\n",
    "        return data[\"excel\"][\"values\"]\n",
    "    if isinstance(data[\"excel\"], dict) and \"value\" in data[\"excel\"]:\n",
    "        return data[\"excel\"].get(\"value\")\n",
    "    if isinstance(data[\"excel\"], dict) and \"values\" in data[\"excel\"]:\n",
    "        return data[\"excel\"].get(\"values\")\n",
    "    elif \"values\" in data[\"common\"]:\n",
    "        return data[\"common\"][\"values\"]\n",
    "    elif \"value\" in data[\"common\"]:\n",
    "        return data[\"common\"][\"value\"]\n",
    "    raise"
   ]
  },
  {
   "cell_type": "code",
   "execution_count": 21,
   "metadata": {
    "ExecuteTime": {
     "end_time": "2021-10-26T11:08:00.695583Z",
     "start_time": "2021-10-26T11:07:58.467018Z"
    }
   },
   "outputs": [],
   "source": [
    "exportdata[\"tag_value\"] = exportdata.apply(exportdata_to_tag_value, axis=1)"
   ]
  },
  {
   "cell_type": "code",
   "execution_count": 22,
   "metadata": {
    "ExecuteTime": {
     "end_time": "2021-10-26T11:08:00.699368Z",
     "start_time": "2021-10-26T11:08:00.696618Z"
    }
   },
   "outputs": [],
   "source": [
    "def title_case(tag):\n",
    "    if isinstance(tag, (list, tuple)):\n",
    "        return tuple([x.title() for x in tag])\n",
    "    return tag.title()"
   ]
  },
  {
   "cell_type": "code",
   "execution_count": 23,
   "metadata": {
    "ExecuteTime": {
     "end_time": "2021-10-26T11:08:00.775880Z",
     "start_time": "2021-10-26T11:08:00.700903Z"
    }
   },
   "outputs": [],
   "source": [
    "exportdata[\"tag_title\"] = exportdata[\"tag_title\"].apply(title_case)"
   ]
  },
  {
   "cell_type": "code",
   "execution_count": 24,
   "metadata": {
    "ExecuteTime": {
     "end_time": "2021-10-26T11:08:00.778827Z",
     "start_time": "2021-10-26T11:08:00.776816Z"
    }
   },
   "outputs": [],
   "source": [
    "mat_1d_and_flag_titles = [\"High Level Tags\"]#, ('High Level Tags - Dimension', 'High Level Tags - Subdimension')]"
   ]
  },
  {
   "cell_type": "code",
   "execution_count": 25,
   "metadata": {
    "ExecuteTime": {
     "end_time": "2021-10-26T11:08:00.796114Z",
     "start_time": "2021-10-26T11:08:00.780010Z"
    }
   },
   "outputs": [
    {
     "data": {
      "text/plain": [
       "array(['Pre-Crisis', 'Population Groups', 'Geo Location', 'Reliability',\n",
       "       'Demographic Groups', 'Shock/Event', 'High Level Tags',\n",
       "       'In-Crisis', 'Specific Needs Groups', 'Additional Context',\n",
       "       'Displaced Pop Type', 'Cleaning Tags', 'Cleaning Comments',\n",
       "       ('In-Crisis - Dimension', 'In-Crisis - Subdimension', 'In-Crisis - Sector', 'In-Crisis - Subsectors'),\n",
       "       ('Pre-Crisis - Dimension', 'Pre-Crisis - Subdimension', 'Pre-Crisis - Sector', 'Pre-Crisis - Subsectors'),\n",
       "       ('High Level Tags - Dimension', 'High Level Tags - Subdimension')],\n",
       "      dtype=object)"
      ]
     },
     "execution_count": 25,
     "metadata": {},
     "output_type": "execute_result"
    }
   ],
   "source": [
    "exportdata[\"tag_title\"].unique()"
   ]
  },
  {
   "cell_type": "code",
   "execution_count": 26,
   "metadata": {
    "ExecuteTime": {
     "end_time": "2021-10-26T11:08:00.800171Z",
     "start_time": "2021-10-26T11:08:00.797157Z"
    }
   },
   "outputs": [
    {
     "data": {
      "text/plain": [
       "array(['Specific Needs Groups', 'Pre-Crisis', 'In-Crisis', 'Geo Location',\n",
       "       'Excerpt', 'Shock/Event', 'Reliability', 'Additional Context',\n",
       "       'Displaced Pop Type', 'Cleaning Tags', 'Population Groups',\n",
       "       'Cleaning Comments', 'Demographic Groups', 'High Level Tags'],\n",
       "      dtype=object)"
      ]
     },
     "execution_count": 26,
     "metadata": {},
     "output_type": "execute_result"
    }
   ],
   "source": [
    "af_widgets[\"title\"].unique()"
   ]
  },
  {
   "cell_type": "code",
   "execution_count": 27,
   "metadata": {
    "ExecuteTime": {
     "end_time": "2021-10-26T11:08:00.872403Z",
     "start_time": "2021-10-26T11:08:00.801149Z"
    }
   },
   "outputs": [
    {
     "data": {
      "text/plain": [
       "((8024,), (8644,), (34198,), (4647,))"
      ]
     },
     "execution_count": 27,
     "metadata": {},
     "output_type": "execute_result"
    }
   ],
   "source": [
    "#exportdata[exportdata[\"tag_title\"].isin([('High Level Tags - Dimension', 'High Level Tags - Subdimension')])][\"tag_value\"].tolist()\n",
    "# exportdata[exportdata[\"tag_title\"].isin([('In-Crisis - Dimension', 'In-Crisis - Subdimension', 'In-Crisis - Sector', 'In-Crisis - Subsectors'),\n",
    "#        ('Pre-Crisis - Dimension', 'Pre-Crisis - Subdimension', 'Pre-Crisis - Sector', 'Pre-Crisis - Subsectors')])][\"tag_value\"].tolist()\n",
    "#exportdata[exportdata[\"tag_title\"].eq('High Level Tags')][\"tag_value\"].tolist()\n",
    "exportdata[exportdata[\"tag_title\"].eq('High Level Tags')][\"tag_value\"].shape, \\\n",
    "exportdata[exportdata[\"tag_title\"].eq('Pre-Crisis')][\"tag_value\"].shape, \\\n",
    "exportdata[exportdata[\"tag_title\"].eq('In-Crisis')][\"tag_value\"].shape, \\\n",
    "exportdata[exportdata[\"tag_title\"].eq('Shock/Event')][\"tag_value\"].shape"
   ]
  },
  {
   "cell_type": "code",
   "execution_count": 28,
   "metadata": {
    "ExecuteTime": {
     "end_time": "2021-10-26T11:08:00.887722Z",
     "start_time": "2021-10-26T11:08:00.876305Z"
    }
   },
   "outputs": [],
   "source": [
    "exportdata_of_interest = exportdata[exportdata[\"tag_title\"].isin(\n",
    "    mat2d_titles + mat_1d_and_flag_titles)]"
   ]
  },
  {
   "cell_type": "code",
   "execution_count": 29,
   "metadata": {
    "ExecuteTime": {
     "end_time": "2021-10-26T11:08:00.891717Z",
     "start_time": "2021-10-26T11:08:00.888866Z"
    }
   },
   "outputs": [
    {
     "data": {
      "text/plain": [
       "((55513, 6), (157903, 21))"
      ]
     },
     "execution_count": 29,
     "metadata": {},
     "output_type": "execute_result"
    }
   ],
   "source": [
    "exportdata_of_interest.shape, entries.shape"
   ]
  },
  {
   "cell_type": "code",
   "execution_count": 30,
   "metadata": {
    "ExecuteTime": {
     "end_time": "2021-10-26T11:08:00.975778Z",
     "start_time": "2021-10-26T11:08:00.892713Z"
    }
   },
   "outputs": [],
   "source": [
    "entries_labeled = pd.merge(entries,\n",
    "                           exportdata_of_interest,\n",
    "                           how=\"inner\",\n",
    "                           left_on=\"id\",\n",
    "                           right_on=\"entry_id\",\n",
    "                           suffixes=('_entry', '_exportdata'))"
   ]
  },
  {
   "cell_type": "code",
   "execution_count": 31,
   "metadata": {
    "ExecuteTime": {
     "end_time": "2021-10-26T11:08:00.981526Z",
     "start_time": "2021-10-26T11:08:00.976982Z"
    }
   },
   "outputs": [
    {
     "data": {
      "text/plain": [
       "((49789,), (38148,))"
      ]
     },
     "execution_count": 31,
     "metadata": {},
     "output_type": "execute_result"
    }
   ],
   "source": [
    "entries_labeled[\"id_entry\"].shape, entries_labeled[\"id_entry\"].unique().shape"
   ]
  },
  {
   "cell_type": "code",
   "execution_count": 32,
   "metadata": {
    "ExecuteTime": {
     "end_time": "2021-10-26T11:08:00.985385Z",
     "start_time": "2021-10-26T11:08:00.982479Z"
    }
   },
   "outputs": [],
   "source": [
    "def agg_group(group):\n",
    "    tag_titles = group[\"tag_title\"]\n",
    "    tag_values = group[\"tag_value\"]\n",
    "    #\n",
    "    grouped = defaultdict(list)\n",
    "    for title, value in zip(tag_titles, tag_values):\n",
    "        if title in mat_1d_and_flag_titles:\n",
    "            grouped[\"Mat1D\"].extend(value)\n",
    "        elif title in mat2d_titles:\n",
    "            grouped[\"Mat2D\"].extend(value)\n",
    "    return grouped"
   ]
  },
  {
   "cell_type": "code",
   "execution_count": 33,
   "metadata": {
    "ExecuteTime": {
     "end_time": "2021-10-26T11:08:00.989248Z",
     "start_time": "2021-10-26T11:08:00.986378Z"
    }
   },
   "outputs": [
    {
     "data": {
      "text/plain": [
       "Index(['id_entry', 'created_at', 'modified_at', 'excerpt', 'image_raw',\n",
       "       'analysis_framework_id', 'created_by_id', 'lead_id', 'modified_by_id',\n",
       "       'entry_type', 'information_date', 'order', 'client_id', 'project_id',\n",
       "       'tabular_field_id', 'dropped_excerpt', 'highlight_hidden', 'verified',\n",
       "       'verification_last_changed_by_id', 'image_id', 'title', 'id_exportdata',\n",
       "       'data', 'entry_id', 'exportable_id', 'tag_title', 'tag_value'],\n",
       "      dtype='object')"
      ]
     },
     "execution_count": 33,
     "metadata": {},
     "output_type": "execute_result"
    }
   ],
   "source": [
    "entries_labeled.columns"
   ]
  },
  {
   "cell_type": "code",
   "execution_count": 34,
   "metadata": {
    "ExecuteTime": {
     "end_time": "2021-10-26T11:08:03.672374Z",
     "start_time": "2021-10-26T11:08:00.990184Z"
    },
    "scrolled": true
   },
   "outputs": [],
   "source": [
    "tags = entries_labeled.groupby(\"id_entry\").apply(agg_group)"
   ]
  },
  {
   "cell_type": "code",
   "execution_count": 35,
   "metadata": {
    "ExecuteTime": {
     "end_time": "2021-10-26T11:08:03.677632Z",
     "start_time": "2021-10-26T11:08:03.673446Z"
    }
   },
   "outputs": [],
   "source": [
    "entryids_tags = pd.DataFrame({\"entry_id\": tags.index, \"tags\": tags.values})"
   ]
  },
  {
   "cell_type": "code",
   "execution_count": 36,
   "metadata": {
    "ExecuteTime": {
     "end_time": "2021-10-26T11:08:03.691038Z",
     "start_time": "2021-10-26T11:08:03.678851Z"
    }
   },
   "outputs": [
    {
     "data": {
      "text/plain": [
       "(38148, 2)"
      ]
     },
     "execution_count": 36,
     "metadata": {},
     "output_type": "execute_result"
    }
   ],
   "source": [
    "entryids_tags.shape"
   ]
  },
  {
   "cell_type": "code",
   "execution_count": 37,
   "metadata": {
    "ExecuteTime": {
     "end_time": "2021-10-26T11:08:04.063388Z",
     "start_time": "2021-10-26T11:08:03.692197Z"
    }
   },
   "outputs": [
    {
     "name": "stdout",
     "output_type": "stream",
     "text": [
      "(157903, 21)\n",
      "(157903, 14)\n"
     ]
    }
   ],
   "source": [
    "entries_ = entries.rename({\"id\": \"entry_id\"}, axis=1, inplace=False)\n",
    "#\n",
    "print(entries.shape)\n",
    "#\n",
    "entries_ = entries_[[\n",
    "    'entry_id',\n",
    "    'created_at',\n",
    "    'modified_at',\n",
    "    'excerpt',\n",
    "    'entry_type',\n",
    "    'analysis_framework_id',\n",
    "    'created_by_id',\n",
    "    'lead_id',\n",
    "    'modified_by_id',\n",
    "    'information_date',\n",
    "    'order',\n",
    "    'title',\n",
    "    'project_id',\n",
    "    'verified',\n",
    "]].drop_duplicates()\n",
    "#\n",
    "print(entries_.shape)"
   ]
  },
  {
   "cell_type": "code",
   "execution_count": 38,
   "metadata": {
    "ExecuteTime": {
     "end_time": "2021-10-26T11:08:04.067438Z",
     "start_time": "2021-10-26T11:08:04.064967Z"
    }
   },
   "outputs": [],
   "source": [
    "# print(entries_labeled.shape)\n",
    "# entries_labeled = entries_labeled[[\n",
    "#     'entry_id',\n",
    "#     'created_at',\n",
    "#     'modified_at',\n",
    "#     'excerpt',\n",
    "#     'entry_type',\n",
    "#     'analysis_framework_id',\n",
    "#     'created_by_id',\n",
    "#     'lead_id',\n",
    "#     'modified_by_id',\n",
    "#     'information_date',\n",
    "#     'order',\n",
    "#     'project_id',\n",
    "#     #'dropped_excerpt',\n",
    "#     'verified',\n",
    "# ]].drop_duplicates()\n",
    "# print(entries_labeled.shape)"
   ]
  },
  {
   "cell_type": "code",
   "execution_count": 39,
   "metadata": {
    "ExecuteTime": {
     "end_time": "2021-10-26T11:08:04.116184Z",
     "start_time": "2021-10-26T11:08:04.068960Z"
    }
   },
   "outputs": [
    {
     "data": {
      "text/plain": [
       "((38148, 15),\n",
       " Index(['entry_id', 'created_at', 'modified_at', 'excerpt', 'entry_type',\n",
       "        'analysis_framework_id', 'created_by_id', 'lead_id', 'modified_by_id',\n",
       "        'information_date', 'order', 'title', 'project_id', 'verified', 'tags'],\n",
       "       dtype='object'))"
      ]
     },
     "execution_count": 39,
     "metadata": {},
     "output_type": "execute_result"
    }
   ],
   "source": [
    "entries_labeled = pd.merge(entries_, entryids_tags, on=\"entry_id\", how=\"inner\")\n",
    "entries_labeled.shape, entries_labeled.columns"
   ]
  },
  {
   "cell_type": "code",
   "execution_count": 40,
   "metadata": {
    "ExecuteTime": {
     "end_time": "2021-10-26T11:08:04.261867Z",
     "start_time": "2021-10-26T11:08:04.117853Z"
    }
   },
   "outputs": [
    {
     "data": {
      "text/plain": [
       "0"
      ]
     },
     "execution_count": 40,
     "metadata": {},
     "output_type": "execute_result"
    }
   ],
   "source": [
    "entries_labeled[\"tags_str\"] = entries_labeled[\"tags\"].apply(str)\n",
    "entries_labeled.duplicated(subset=[\"entry_id\", \"tags_str\"]).sum()"
   ]
  },
  {
   "cell_type": "code",
   "execution_count": 41,
   "metadata": {
    "ExecuteTime": {
     "end_time": "2021-10-26T11:08:04.267462Z",
     "start_time": "2021-10-26T11:08:04.263215Z"
    }
   },
   "outputs": [
    {
     "data": {
      "text/plain": [
       "0"
      ]
     },
     "execution_count": 41,
     "metadata": {},
     "output_type": "execute_result"
    }
   ],
   "source": [
    "entries_labeled[\"entry_id\"].duplicated().sum()"
   ]
  },
  {
   "cell_type": "code",
   "execution_count": 42,
   "metadata": {
    "ExecuteTime": {
     "end_time": "2021-10-26T11:08:04.271552Z",
     "start_time": "2021-10-26T11:08:04.268496Z"
    }
   },
   "outputs": [
    {
     "data": {
      "text/plain": [
       "(38148, 16)"
      ]
     },
     "execution_count": 42,
     "metadata": {},
     "output_type": "execute_result"
    }
   ],
   "source": [
    "entries_labeled.shape"
   ]
  },
  {
   "cell_type": "code",
   "execution_count": 43,
   "metadata": {
    "ExecuteTime": {
     "end_time": "2021-10-26T11:08:04.278830Z",
     "start_time": "2021-10-26T11:08:04.272673Z"
    }
   },
   "outputs": [
    {
     "data": {
      "text/plain": [
       "0"
      ]
     },
     "execution_count": 43,
     "metadata": {},
     "output_type": "execute_result"
    }
   ],
   "source": [
    "entries_labeled[\"tags\"].isna().sum()"
   ]
  },
  {
   "cell_type": "code",
   "execution_count": 44,
   "metadata": {
    "ExecuteTime": {
     "end_time": "2021-10-26T11:08:04.473323Z",
     "start_time": "2021-10-26T11:08:04.280099Z"
    }
   },
   "outputs": [
    {
     "data": {
      "text/plain": [
       "((157903, 21), (155459,))"
      ]
     },
     "execution_count": 44,
     "metadata": {},
     "output_type": "execute_result"
    }
   ],
   "source": [
    "entries.shape, entries[~entries[\"excerpt\"].isna()][\"excerpt\"].unique().shape"
   ]
  },
  {
   "cell_type": "code",
   "execution_count": 45,
   "metadata": {
    "ExecuteTime": {
     "end_time": "2021-10-26T11:08:04.477552Z",
     "start_time": "2021-10-26T11:08:04.474285Z"
    }
   },
   "outputs": [
    {
     "data": {
      "text/plain": [
       "((38148, 16),\n",
       " Index(['entry_id', 'created_at', 'modified_at', 'excerpt', 'entry_type',\n",
       "        'analysis_framework_id', 'created_by_id', 'lead_id', 'modified_by_id',\n",
       "        'information_date', 'order', 'title', 'project_id', 'verified', 'tags',\n",
       "        'tags_str'],\n",
       "       dtype='object'))"
      ]
     },
     "execution_count": 45,
     "metadata": {},
     "output_type": "execute_result"
    }
   ],
   "source": [
    "entries_labeled.shape, entries_labeled.columns"
   ]
  },
  {
   "cell_type": "code",
   "execution_count": 46,
   "metadata": {
    "ExecuteTime": {
     "end_time": "2021-10-26T11:08:04.505934Z",
     "start_time": "2021-10-26T11:08:04.478437Z"
    },
    "scrolled": true
   },
   "outputs": [
    {
     "data": {
      "text/html": [
       "<div>\n",
       "<style scoped>\n",
       "    .dataframe tbody tr th:only-of-type {\n",
       "        vertical-align: middle;\n",
       "    }\n",
       "\n",
       "    .dataframe tbody tr th {\n",
       "        vertical-align: top;\n",
       "    }\n",
       "\n",
       "    .dataframe thead th {\n",
       "        text-align: right;\n",
       "    }\n",
       "</style>\n",
       "<table border=\"1\" class=\"dataframe\">\n",
       "  <thead>\n",
       "    <tr style=\"text-align: right;\">\n",
       "      <th></th>\n",
       "      <th>entry_id</th>\n",
       "      <th>created_at</th>\n",
       "      <th>modified_at</th>\n",
       "      <th>excerpt</th>\n",
       "      <th>entry_type</th>\n",
       "      <th>analysis_framework_id</th>\n",
       "      <th>created_by_id</th>\n",
       "      <th>lead_id</th>\n",
       "      <th>modified_by_id</th>\n",
       "      <th>information_date</th>\n",
       "      <th>order</th>\n",
       "      <th>title</th>\n",
       "      <th>project_id</th>\n",
       "      <th>verified</th>\n",
       "      <th>tags</th>\n",
       "      <th>tags_str</th>\n",
       "    </tr>\n",
       "  </thead>\n",
       "  <tbody>\n",
       "    <tr>\n",
       "      <th>0</th>\n",
       "      <td>233460</td>\n",
       "      <td>2021-01-05 08:16:23.956916+00</td>\n",
       "      <td>2021-04-02 10:43:12.065945+00</td>\n",
       "      <td>Between January and March 2020, more than 300,...</td>\n",
       "      <td>excerpt</td>\n",
       "      <td>1465</td>\n",
       "      <td>2744</td>\n",
       "      <td>44708</td>\n",
       "      <td>2742</td>\n",
       "      <td>NaN</td>\n",
       "      <td>47</td>\n",
       "      <td>GIMAC South Sudan</td>\n",
       "      <td>2335</td>\n",
       "      <td>True</td>\n",
       "      <td>{'Mat2D': [['HUMANITARIAN SITUATION', 'Humanit...</td>\n",
       "      <td>defaultdict(&lt;class 'list'&gt;, {'Mat2D': [['HUMAN...</td>\n",
       "    </tr>\n",
       "    <tr>\n",
       "      <th>1</th>\n",
       "      <td>233466</td>\n",
       "      <td>2021-01-05 08:27:12.191481+00</td>\n",
       "      <td>2021-04-02 10:43:35.079851+00</td>\n",
       "      <td>The first quarter saw humanitarian reach vary ...</td>\n",
       "      <td>excerpt</td>\n",
       "      <td>1465</td>\n",
       "      <td>2744</td>\n",
       "      <td>44708</td>\n",
       "      <td>2742</td>\n",
       "      <td>NaN</td>\n",
       "      <td>48</td>\n",
       "      <td>GIMAC South Sudan</td>\n",
       "      <td>2335</td>\n",
       "      <td>True</td>\n",
       "      <td>{'Mat2D': [['HUMANITARIAN SITUATION', 'Humanit...</td>\n",
       "      <td>defaultdict(&lt;class 'list'&gt;, {'Mat2D': [['HUMAN...</td>\n",
       "    </tr>\n",
       "    <tr>\n",
       "      <th>2</th>\n",
       "      <td>217146</td>\n",
       "      <td>2020-12-16 06:21:17.1031+00</td>\n",
       "      <td>2021-01-15 05:33:36.204388+00</td>\n",
       "      <td>As a result of these efforts, 19 isolation cen...</td>\n",
       "      <td>excerpt</td>\n",
       "      <td>1465</td>\n",
       "      <td>2741</td>\n",
       "      <td>44961</td>\n",
       "      <td>2746</td>\n",
       "      <td>NaN</td>\n",
       "      <td>14</td>\n",
       "      <td>GIMAC Somalia</td>\n",
       "      <td>2331</td>\n",
       "      <td>True</td>\n",
       "      <td>{'Mat2D': [['OPERATIONAL ENVIRONMENT', 'Nation...</td>\n",
       "      <td>defaultdict(&lt;class 'list'&gt;, {'Mat2D': [['OPERA...</td>\n",
       "    </tr>\n",
       "    <tr>\n",
       "      <th>3</th>\n",
       "      <td>282536</td>\n",
       "      <td>2021-03-18 05:55:43.974559+00</td>\n",
       "      <td>2021-03-26 08:38:49.014899+00</td>\n",
       "      <td>In late August 2020, IOM CCCM coordinated a do...</td>\n",
       "      <td>excerpt</td>\n",
       "      <td>1465</td>\n",
       "      <td>2744</td>\n",
       "      <td>51243</td>\n",
       "      <td>2744</td>\n",
       "      <td>NaN</td>\n",
       "      <td>10</td>\n",
       "      <td>GIMAC South Sudan</td>\n",
       "      <td>2335</td>\n",
       "      <td>True</td>\n",
       "      <td>{'Mat2D': [['OPERATIONAL ENVIRONMENT', 'Intern...</td>\n",
       "      <td>defaultdict(&lt;class 'list'&gt;, {'Mat2D': [['OPERA...</td>\n",
       "    </tr>\n",
       "    <tr>\n",
       "      <th>4</th>\n",
       "      <td>291038</td>\n",
       "      <td>2021-03-26 06:14:22.172504+00</td>\n",
       "      <td>2021-03-29 06:02:28.855473+00</td>\n",
       "      <td>The ministry of Education has provided online ...</td>\n",
       "      <td>excerpt</td>\n",
       "      <td>1465</td>\n",
       "      <td>2742</td>\n",
       "      <td>51255</td>\n",
       "      <td>2742</td>\n",
       "      <td>NaN</td>\n",
       "      <td>10</td>\n",
       "      <td>GIMAC South Sudan</td>\n",
       "      <td>2335</td>\n",
       "      <td>True</td>\n",
       "      <td>{'Mat2D': [['OPERATIONAL ENVIRONMENT', 'Nation...</td>\n",
       "      <td>defaultdict(&lt;class 'list'&gt;, {'Mat2D': [['OPERA...</td>\n",
       "    </tr>\n",
       "    <tr>\n",
       "      <th>...</th>\n",
       "      <td>...</td>\n",
       "      <td>...</td>\n",
       "      <td>...</td>\n",
       "      <td>...</td>\n",
       "      <td>...</td>\n",
       "      <td>...</td>\n",
       "      <td>...</td>\n",
       "      <td>...</td>\n",
       "      <td>...</td>\n",
       "      <td>...</td>\n",
       "      <td>...</td>\n",
       "      <td>...</td>\n",
       "      <td>...</td>\n",
       "      <td>...</td>\n",
       "      <td>...</td>\n",
       "      <td>...</td>\n",
       "    </tr>\n",
       "    <tr>\n",
       "      <th>38143</th>\n",
       "      <td>192392</td>\n",
       "      <td>2020-11-19 07:26:14.198449+00</td>\n",
       "      <td>2021-05-07 11:49:02.789558+00</td>\n",
       "      <td>Over 40 per cent of the population in Nangarha...</td>\n",
       "      <td>excerpt</td>\n",
       "      <td>1465</td>\n",
       "      <td>2745</td>\n",
       "      <td>43233</td>\n",
       "      <td>3009</td>\n",
       "      <td>NaN</td>\n",
       "      <td>373</td>\n",
       "      <td>GIMAC Afghanistan</td>\n",
       "      <td>2336</td>\n",
       "      <td>True</td>\n",
       "      <td>{'Mat2D': [['SHOCK INFORMATON', 'Aggravating f...</td>\n",
       "      <td>defaultdict(&lt;class 'list'&gt;, {'Mat2D': [['SHOCK...</td>\n",
       "    </tr>\n",
       "    <tr>\n",
       "      <th>38144</th>\n",
       "      <td>192389</td>\n",
       "      <td>2020-11-19 07:24:58.082405+00</td>\n",
       "      <td>2021-05-07 11:47:31.63679+00</td>\n",
       "      <td>The need for shelter was reported to be the hi...</td>\n",
       "      <td>excerpt</td>\n",
       "      <td>1465</td>\n",
       "      <td>2745</td>\n",
       "      <td>43233</td>\n",
       "      <td>3009</td>\n",
       "      <td>NaN</td>\n",
       "      <td>372</td>\n",
       "      <td>GIMAC Afghanistan</td>\n",
       "      <td>2336</td>\n",
       "      <td>True</td>\n",
       "      <td>{'Mat2D': [['HUMANITARIAN SITUATION', 'Humanit...</td>\n",
       "      <td>defaultdict(&lt;class 'list'&gt;, {'Mat2D': [['HUMAN...</td>\n",
       "    </tr>\n",
       "    <tr>\n",
       "      <th>38145</th>\n",
       "      <td>192386</td>\n",
       "      <td>2020-11-19 07:24:22.137399+00</td>\n",
       "      <td>2021-05-07 11:46:41.665937+00</td>\n",
       "      <td>According to the 2019 WOA Assessment, needs of...</td>\n",
       "      <td>excerpt</td>\n",
       "      <td>1465</td>\n",
       "      <td>2745</td>\n",
       "      <td>43233</td>\n",
       "      <td>3009</td>\n",
       "      <td>NaN</td>\n",
       "      <td>371</td>\n",
       "      <td>GIMAC Afghanistan</td>\n",
       "      <td>2336</td>\n",
       "      <td>True</td>\n",
       "      <td>{'Mat2D': [['HUMANITARIAN SITUATION', 'Humanit...</td>\n",
       "      <td>defaultdict(&lt;class 'list'&gt;, {'Mat2D': [['HUMAN...</td>\n",
       "    </tr>\n",
       "    <tr>\n",
       "      <th>38146</th>\n",
       "      <td>322876</td>\n",
       "      <td>2021-04-28 08:56:50.107051+00</td>\n",
       "      <td>2021-07-29 09:01:57.637742+00</td>\n",
       "      <td>Education: 32% of assessed settlements in whic...</td>\n",
       "      <td>excerpt</td>\n",
       "      <td>1465</td>\n",
       "      <td>2746</td>\n",
       "      <td>54751</td>\n",
       "      <td>3009</td>\n",
       "      <td>NaN</td>\n",
       "      <td>5</td>\n",
       "      <td>GIMAC Somalia</td>\n",
       "      <td>2331</td>\n",
       "      <td>True</td>\n",
       "      <td>{'Mat2D': [['EFFECTS SYSTEMS AND NETWORKS', 'B...</td>\n",
       "      <td>defaultdict(&lt;class 'list'&gt;, {'Mat2D': [['EFFEC...</td>\n",
       "    </tr>\n",
       "    <tr>\n",
       "      <th>38147</th>\n",
       "      <td>322819</td>\n",
       "      <td>2021-04-28 08:44:43.83365+00</td>\n",
       "      <td>2021-07-30 10:38:43.413751+00</td>\n",
       "      <td>Displacement: Locust(52%), Conflict(16%), Drou...</td>\n",
       "      <td>excerpt</td>\n",
       "      <td>1465</td>\n",
       "      <td>2746</td>\n",
       "      <td>54751</td>\n",
       "      <td>3009</td>\n",
       "      <td>NaN</td>\n",
       "      <td>1</td>\n",
       "      <td>GIMAC Somalia</td>\n",
       "      <td>2331</td>\n",
       "      <td>True</td>\n",
       "      <td>{'Mat2D': [['EFFECTS ON POPULATION', 'Post-sho...</td>\n",
       "      <td>defaultdict(&lt;class 'list'&gt;, {'Mat2D': [['EFFEC...</td>\n",
       "    </tr>\n",
       "  </tbody>\n",
       "</table>\n",
       "<p>38148 rows × 16 columns</p>\n",
       "</div>"
      ],
      "text/plain": [
       "       entry_id                     created_at                    modified_at  \\\n",
       "0        233460  2021-01-05 08:16:23.956916+00  2021-04-02 10:43:12.065945+00   \n",
       "1        233466  2021-01-05 08:27:12.191481+00  2021-04-02 10:43:35.079851+00   \n",
       "2        217146    2020-12-16 06:21:17.1031+00  2021-01-15 05:33:36.204388+00   \n",
       "3        282536  2021-03-18 05:55:43.974559+00  2021-03-26 08:38:49.014899+00   \n",
       "4        291038  2021-03-26 06:14:22.172504+00  2021-03-29 06:02:28.855473+00   \n",
       "...         ...                            ...                            ...   \n",
       "38143    192392  2020-11-19 07:26:14.198449+00  2021-05-07 11:49:02.789558+00   \n",
       "38144    192389  2020-11-19 07:24:58.082405+00   2021-05-07 11:47:31.63679+00   \n",
       "38145    192386  2020-11-19 07:24:22.137399+00  2021-05-07 11:46:41.665937+00   \n",
       "38146    322876  2021-04-28 08:56:50.107051+00  2021-07-29 09:01:57.637742+00   \n",
       "38147    322819   2021-04-28 08:44:43.83365+00  2021-07-30 10:38:43.413751+00   \n",
       "\n",
       "                                                 excerpt entry_type  \\\n",
       "0      Between January and March 2020, more than 300,...    excerpt   \n",
       "1      The first quarter saw humanitarian reach vary ...    excerpt   \n",
       "2      As a result of these efforts, 19 isolation cen...    excerpt   \n",
       "3      In late August 2020, IOM CCCM coordinated a do...    excerpt   \n",
       "4      The ministry of Education has provided online ...    excerpt   \n",
       "...                                                  ...        ...   \n",
       "38143  Over 40 per cent of the population in Nangarha...    excerpt   \n",
       "38144  The need for shelter was reported to be the hi...    excerpt   \n",
       "38145  According to the 2019 WOA Assessment, needs of...    excerpt   \n",
       "38146  Education: 32% of assessed settlements in whic...    excerpt   \n",
       "38147  Displacement: Locust(52%), Conflict(16%), Drou...    excerpt   \n",
       "\n",
       "       analysis_framework_id  created_by_id  lead_id  modified_by_id  \\\n",
       "0                       1465           2744    44708            2742   \n",
       "1                       1465           2744    44708            2742   \n",
       "2                       1465           2741    44961            2746   \n",
       "3                       1465           2744    51243            2744   \n",
       "4                       1465           2742    51255            2742   \n",
       "...                      ...            ...      ...             ...   \n",
       "38143                   1465           2745    43233            3009   \n",
       "38144                   1465           2745    43233            3009   \n",
       "38145                   1465           2745    43233            3009   \n",
       "38146                   1465           2746    54751            3009   \n",
       "38147                   1465           2746    54751            3009   \n",
       "\n",
       "       information_date  order              title  project_id  verified  \\\n",
       "0                   NaN     47  GIMAC South Sudan        2335      True   \n",
       "1                   NaN     48  GIMAC South Sudan        2335      True   \n",
       "2                   NaN     14      GIMAC Somalia        2331      True   \n",
       "3                   NaN     10  GIMAC South Sudan        2335      True   \n",
       "4                   NaN     10  GIMAC South Sudan        2335      True   \n",
       "...                 ...    ...                ...         ...       ...   \n",
       "38143               NaN    373  GIMAC Afghanistan        2336      True   \n",
       "38144               NaN    372  GIMAC Afghanistan        2336      True   \n",
       "38145               NaN    371  GIMAC Afghanistan        2336      True   \n",
       "38146               NaN      5      GIMAC Somalia        2331      True   \n",
       "38147               NaN      1      GIMAC Somalia        2331      True   \n",
       "\n",
       "                                                    tags  \\\n",
       "0      {'Mat2D': [['HUMANITARIAN SITUATION', 'Humanit...   \n",
       "1      {'Mat2D': [['HUMANITARIAN SITUATION', 'Humanit...   \n",
       "2      {'Mat2D': [['OPERATIONAL ENVIRONMENT', 'Nation...   \n",
       "3      {'Mat2D': [['OPERATIONAL ENVIRONMENT', 'Intern...   \n",
       "4      {'Mat2D': [['OPERATIONAL ENVIRONMENT', 'Nation...   \n",
       "...                                                  ...   \n",
       "38143  {'Mat2D': [['SHOCK INFORMATON', 'Aggravating f...   \n",
       "38144  {'Mat2D': [['HUMANITARIAN SITUATION', 'Humanit...   \n",
       "38145  {'Mat2D': [['HUMANITARIAN SITUATION', 'Humanit...   \n",
       "38146  {'Mat2D': [['EFFECTS SYSTEMS AND NETWORKS', 'B...   \n",
       "38147  {'Mat2D': [['EFFECTS ON POPULATION', 'Post-sho...   \n",
       "\n",
       "                                                tags_str  \n",
       "0      defaultdict(<class 'list'>, {'Mat2D': [['HUMAN...  \n",
       "1      defaultdict(<class 'list'>, {'Mat2D': [['HUMAN...  \n",
       "2      defaultdict(<class 'list'>, {'Mat2D': [['OPERA...  \n",
       "3      defaultdict(<class 'list'>, {'Mat2D': [['OPERA...  \n",
       "4      defaultdict(<class 'list'>, {'Mat2D': [['OPERA...  \n",
       "...                                                  ...  \n",
       "38143  defaultdict(<class 'list'>, {'Mat2D': [['SHOCK...  \n",
       "38144  defaultdict(<class 'list'>, {'Mat2D': [['HUMAN...  \n",
       "38145  defaultdict(<class 'list'>, {'Mat2D': [['HUMAN...  \n",
       "38146  defaultdict(<class 'list'>, {'Mat2D': [['EFFEC...  \n",
       "38147  defaultdict(<class 'list'>, {'Mat2D': [['EFFEC...  \n",
       "\n",
       "[38148 rows x 16 columns]"
      ]
     },
     "execution_count": 46,
     "metadata": {},
     "output_type": "execute_result"
    }
   ],
   "source": [
    "entries_labeled"
   ]
  },
  {
   "cell_type": "code",
   "execution_count": 47,
   "metadata": {
    "ExecuteTime": {
     "end_time": "2021-10-26T11:08:04.511193Z",
     "start_time": "2021-10-26T11:08:04.507164Z"
    }
   },
   "outputs": [],
   "source": [
    "def tags_to_pillars(x):\n",
    "    tags = x[0]\n",
    "    af_id = x[1]\n",
    "    pillars = []\n",
    "    for tag_key, tag_value in tags.items():\n",
    "        if len(tag_value):\n",
    "            for t in tag_value:\n",
    "                if t[0]:\n",
    "                    if tag_key[-2:] == \"1D\":\n",
    "                        tag_type = \"High Level Tags\"\n",
    "                    else:\n",
    "                        tag_type = \"2D\"\n",
    "                    pillars.append(\n",
    "                      tag_type + \"->\" + t[0].title().strip() + \"->\" + t[1].title().strip())\n",
    "    return list(set(pillars))\n",
    "\n",
    "def tags_to_sectors(x):\n",
    "    tags = x[0]\n",
    "    af_id = x[1]\n",
    "    sectors = []\n",
    "    for tag_key, tag_value in tags.items():\n",
    "        if tag_key != \"Mat2D\":\n",
    "            continue\n",
    "        if len(tag_value):\n",
    "            for t in tag_value:\n",
    "                if len(t) > 2 and t[2]:\n",
    "                    sectors.append(t[2].title())\n",
    "    return list(set(sectors))"
   ]
  },
  {
   "cell_type": "code",
   "execution_count": 48,
   "metadata": {
    "ExecuteTime": {
     "end_time": "2021-10-26T11:08:04.514966Z",
     "start_time": "2021-10-26T11:08:04.512051Z"
    }
   },
   "outputs": [
    {
     "data": {
      "text/plain": [
       "Index(['entry_id', 'created_at', 'modified_at', 'excerpt', 'entry_type',\n",
       "       'analysis_framework_id', 'created_by_id', 'lead_id', 'modified_by_id',\n",
       "       'information_date', 'order', 'title', 'project_id', 'verified', 'tags',\n",
       "       'tags_str'],\n",
       "      dtype='object')"
      ]
     },
     "execution_count": 48,
     "metadata": {},
     "output_type": "execute_result"
    }
   ],
   "source": [
    "entries_labeled.columns"
   ]
  },
  {
   "cell_type": "code",
   "execution_count": 49,
   "metadata": {
    "ExecuteTime": {
     "end_time": "2021-10-26T11:08:05.313030Z",
     "start_time": "2021-10-26T11:08:04.515974Z"
    },
    "scrolled": true
   },
   "outputs": [],
   "source": [
    "entries_labeled[\"pillars\"] = entries_labeled[[\"tags\", 'analysis_framework_id'\n",
    "                                              ]].apply(tags_to_pillars, axis=1)\n",
    "entries_labeled[\"sectors\"] = entries_labeled[[\"tags\", 'analysis_framework_id'\n",
    "                                              ]].apply(tags_to_sectors, axis=1)"
   ]
  },
  {
   "cell_type": "code",
   "execution_count": 50,
   "metadata": {
    "ExecuteTime": {
     "end_time": "2021-10-26T11:08:05.368599Z",
     "start_time": "2021-10-26T11:08:05.314224Z"
    }
   },
   "outputs": [
    {
     "data": {
      "text/plain": [
       "(37729,)"
      ]
     },
     "execution_count": 50,
     "metadata": {},
     "output_type": "execute_result"
    }
   ],
   "source": [
    "entries_labeled[~entries_labeled[\"excerpt\"].isna()][\"excerpt\"].unique().shape"
   ]
  },
  {
   "cell_type": "code",
   "execution_count": 51,
   "metadata": {
    "ExecuteTime": {
     "end_time": "2021-10-26T11:08:05.390256Z",
     "start_time": "2021-10-26T11:08:05.369549Z"
    },
    "scrolled": true
   },
   "outputs": [
    {
     "data": {
      "text/plain": [
       "(49,\n",
       " [('2D->Operational Environment->International Humanitarian Response And Capacities',\n",
       "   7480),\n",
       "  ('2D->Humanitarian Conditions->Humanitarian Condition', 7199),\n",
       "  ('2D->Humanitarian Conditions->Risk', 3499),\n",
       "  ('2D->Stated Priorities And Recommendations->Recommendations From Aid/Research Actors',\n",
       "   3442),\n",
       "  ('2D->Operational Environment->National/Sub-National Response And Capacities',\n",
       "   3290),\n",
       "  ('2D->Humanitarian Situation->Humanitarian Profile', 2914),\n",
       "  ('High Level Tags->General->Risk', 2339),\n",
       "  ('2D->Effects On Population->Post-Shock Displacement', 1996),\n",
       "  ('2D->Effects Systems And Networks->Basic Infrastructure And Social Services',\n",
       "   1843),\n",
       "  ('2D->Effects On Population->Disruption Of Social Behaviors And Networks',\n",
       "   1749),\n",
       "  ('2D->Effects On Population->Damage To Physical Integrity', 1724),\n",
       "  ('2D->Effects On Population->Disruption Of Resources And Assets', 1303),\n",
       "  ('2D->Operational Environment->Humanitarian Access', 1252),\n",
       "  ('High Level Tags->General->Response Gap', 1110),\n",
       "  ('2D->Shock Informaton->Government Measures', 1058),\n",
       "  ('2D->Effects Systems And Networks->Political And Security', 1044),\n",
       "  ('2D->Context->Security', 1030),\n",
       "  ('2D->Context->Basic Infrastructure And Social Services', 996),\n",
       "  ('2D->Effects Systems And Networks->Food System', 967),\n",
       "  ('2D->Context->Socio-Economic', 859),\n",
       "  ('2D->Shock Informaton->Primary Shock (Covid Event Characteristics)', 852),\n",
       "  ('2D->Coping Capacity->Negative Coping Strategies', 780),\n",
       "  ('2D->Humanitarian Situation->Pre-Covid Humanitarian Operations', 739),\n",
       "  ('High Level Tags->Effects->Indirect Effect', 724),\n",
       "  ('2D->Shock Informaton->Secondary Shocks (Non Covid)', 694),\n",
       "  ('2D->Context->Socio-Cultural', 579),\n",
       "  ('2D->Stated Priorities And Recommendations->Affected Population Priorities',\n",
       "   571),\n",
       "  ('2D->Shock Informaton->Aggravating Factors', 452),\n",
       "  ('2D->Effects Systems And Networks->Financial System', 429),\n",
       "  ('2D->Effects Systems And Networks->Supply Chains', 355),\n",
       "  ('2D->Effects Systems And Networks->Physical Environment', 347),\n",
       "  ('2D->Context->Environmental', 327),\n",
       "  ('2D->Effects Systems And Networks->Labour Market', 313),\n",
       "  ('High Level Tags->Effects->Direct Effect', 273),\n",
       "  ('2D->Humanitarian Situation->Humanitarian Access', 269),\n",
       "  ('2D->Context->Policy/Normative Frameworks', 262),\n",
       "  ('High Level Tags->General->Stakeholder', 261),\n",
       "  ('High Level Tags->Humanitarian Conditions->Negative Coping Mechanism', 251),\n",
       "  ('2D->Humanitarian Situation->Pre-Covid National Response Mechanisms', 225),\n",
       "  ('2D->Context->Demographic', 193),\n",
       "  ('2D->Coping Capacity->Positive Adaptive Mechanisms And Responses', 192),\n",
       "  ('2D->Effects On Population->Damage To Resources And Assets', 181),\n",
       "  ('2D->Context->Political', 170),\n",
       "  ('High Level Tags->General->Information Gap', 156),\n",
       "  ('2D->Effects On Population->Disruption Of Rights And Norms', 152),\n",
       "  ('2D->Context->Information And Communication', 64),\n",
       "  ('2D->Shock Informaton->Mitigating Factors', 58),\n",
       "  ('High Level Tags->General->Lessons Learned', 44),\n",
       "  ('2D->Shock Informaton->Primary Shock (Covid)', 16)])"
      ]
     },
     "execution_count": 51,
     "metadata": {},
     "output_type": "execute_result"
    }
   ],
   "source": [
    "pills_unique_1d = set()\n",
    "pills_occurances_1d = list()\n",
    "for pills_1d in entries_labeled[\"pillars\"]:\n",
    "    pills_unique_1d.update(pills_1d)\n",
    "    pills_occurances_1d.extend(pills_1d)\n",
    "len(pills_unique_1d), Counter(pills_occurances_1d).most_common()"
   ]
  },
  {
   "cell_type": "code",
   "execution_count": 52,
   "metadata": {
    "ExecuteTime": {
     "end_time": "2021-10-26T11:08:05.410107Z",
     "start_time": "2021-10-26T11:08:05.391672Z"
    }
   },
   "outputs": [
    {
     "data": {
      "text/plain": [
       "[('Cross-Sector', 12411),\n",
       " ('Health', 8676),\n",
       " ('Protection', 7239),\n",
       " ('Food Security', 4568),\n",
       " ('Livelihoods', 3974),\n",
       " ('Wash', 3345),\n",
       " ('Education', 2923),\n",
       " ('Shelter And Nfis', 2002),\n",
       " ('Nutrition', 2000),\n",
       " ('Cccm', 678),\n",
       " ('Shelter', 311)]"
      ]
     },
     "execution_count": 52,
     "metadata": {},
     "output_type": "execute_result"
    }
   ],
   "source": [
    "secs_unique = set()\n",
    "secs_occurances = list()\n",
    "for secs in entries_labeled[\"sectors\"]:\n",
    "    secs_unique.update(secs)\n",
    "    secs_occurances.extend(secs)\n",
    "#secs_unique\n",
    "Counter(secs_occurances).most_common()"
   ]
  },
  {
   "cell_type": "code",
   "execution_count": 53,
   "metadata": {
    "ExecuteTime": {
     "end_time": "2021-10-26T11:08:05.414105Z",
     "start_time": "2021-10-26T11:08:05.411233Z"
    }
   },
   "outputs": [
    {
     "data": {
      "text/plain": [
       "Index(['entry_id', 'created_at', 'modified_at', 'excerpt', 'entry_type',\n",
       "       'analysis_framework_id', 'created_by_id', 'lead_id', 'modified_by_id',\n",
       "       'information_date', 'order', 'title', 'project_id', 'verified', 'tags',\n",
       "       'tags_str', 'pillars', 'sectors'],\n",
       "      dtype='object')"
      ]
     },
     "execution_count": 53,
     "metadata": {},
     "output_type": "execute_result"
    }
   ],
   "source": [
    "entries_labeled.columns"
   ]
  },
  {
   "cell_type": "code",
   "execution_count": 54,
   "metadata": {
    "ExecuteTime": {
     "end_time": "2021-10-26T11:08:05.430748Z",
     "start_time": "2021-10-26T11:08:05.415191Z"
    }
   },
   "outputs": [
    {
     "data": {
      "text/plain": [
       "(38148, 18)"
      ]
     },
     "execution_count": 54,
     "metadata": {},
     "output_type": "execute_result"
    }
   ],
   "source": [
    "final_df = entries_labeled[entries_labeled[\"entry_type\"].eq(\"excerpt\")\n",
    "                           & (~entries_labeled[\"excerpt\"].isna())]\n",
    "final_df.shape"
   ]
  },
  {
   "cell_type": "code",
   "execution_count": 55,
   "metadata": {
    "ExecuteTime": {
     "end_time": "2021-10-26T11:08:06.051237Z",
     "start_time": "2021-10-26T11:08:05.432064Z"
    },
    "scrolled": true
   },
   "outputs": [
    {
     "data": {
      "text/plain": [
       "((37711, 18), 0)"
      ]
     },
     "execution_count": 55,
     "metadata": {},
     "output_type": "execute_result"
    }
   ],
   "source": [
    "def remove_newlines(excerpt):\n",
    "    if not isinstance(excerpt, str):\n",
    "        return excerpt\n",
    "    return re.sub(\"\\s+\", \" \", excerpt)\n",
    "\n",
    "final_df.loc[:, 'excerpt'] = final_df['excerpt'].apply(remove_newlines)\n",
    "#final_df.loc[:, 'dropped_excerpt'] = final_df['dropped_excerpt'].apply(remove_newlines)\n",
    "##\n",
    "final_df = final_df.sort_values(\"verified\").reset_index(drop=True).drop_duplicates(subset='excerpt', keep=\"last\")\n",
    "final_df.shape, final_df.duplicated(subset=\"excerpt\").sum()"
   ]
  },
  {
   "cell_type": "code",
   "execution_count": 56,
   "metadata": {
    "ExecuteTime": {
     "end_time": "2021-10-26T11:08:06.055906Z",
     "start_time": "2021-10-26T11:08:06.052510Z"
    }
   },
   "outputs": [],
   "source": [
    "sector_name_mapper = {\n",
    "    \"Agriculture\": \"Agriculture\",\n",
    "    \"Cccm\": \"NOT_MAPPED\",\n",
    "    \"Cross\": \"Cross\",\n",
    "    \"Cross Cutting\": \"Cross\",\n",
    "    \"Cross-Sector\": \"Cross\",\n",
    "    \"Education\": \"Education\",\n",
    "    \"Food\": \"Food Security\",\n",
    "    \"Food Security\": \"Food Security\",\n",
    "    \"Nutrition\": \"Nutrition\",\n",
    "    \"Health\": \"Health\",\n",
    "    \"Livelihood\": \"Livelihoods\",\n",
    "    \"Livelihoods\": \"Livelihoods\",\n",
    "    \"Logistic\": \"Logistics\",\n",
    "    \"Logistics\": \"Logistics\",\n",
    "    \"Protection\": \"Protection\",\n",
    "    \"Shelter\": \"Shelter\",\n",
    "    \"Shelter And Nfis\": \"Shelter\",\n",
    "    \"Nfi\": \"NOT_MAPPED\",\n",
    "    \"Wash\": \"WASH\",\n",
    "}"
   ]
  },
  {
   "cell_type": "code",
   "execution_count": 57,
   "metadata": {
    "ExecuteTime": {
     "end_time": "2021-10-26T11:08:06.060317Z",
     "start_time": "2021-10-26T11:08:06.057079Z"
    }
   },
   "outputs": [],
   "source": [
    "af_title_to_id = dict()\n",
    "for afid, title in zip(afs[\"id\"], afs[\"title\"]):\n",
    "    af_title_to_id[\"title\"] = afid"
   ]
  },
  {
   "cell_type": "code",
   "execution_count": 58,
   "metadata": {
    "ExecuteTime": {
     "end_time": "2021-10-26T11:08:06.067389Z",
     "start_time": "2021-10-26T11:08:06.061459Z"
    }
   },
   "outputs": [],
   "source": [
    "for col in matching_gimac.columns[1:7]:\n",
    "    matching_gimac[col] = matching_gimac[col].astype(str).str.title()"
   ]
  },
  {
   "cell_type": "code",
   "execution_count": 59,
   "metadata": {
    "ExecuteTime": {
     "end_time": "2021-10-26T11:08:06.084019Z",
     "start_time": "2021-10-26T11:08:06.068905Z"
    },
    "scrolled": true
   },
   "outputs": [],
   "source": [
    "## fix typo problems\n",
    "corrected = 'Shock Information' # should not have been corrected!\n",
    "orig = 'Shock Informaton'\n",
    "matching_gimac.loc[matching_gimac['Pillar'].eq(corrected), 'Pillar'] = orig\n",
    "##\n",
    "corrected = 'Effects On Systems And Networks' # should not have been corrected!\n",
    "orig = 'Effects Systems And Networks'\n",
    "matching_gimac.loc[matching_gimac['Pillar'].eq(corrected), 'Pillar'] = orig\n",
    "##\n",
    "corrected = 'Humanitarian Access Gaps' # should not have been corrected!\n",
    "orig = 'Humanitarian Access'\n",
    "matching_gimac.loc[matching_gimac['Sub-pillar'].eq(corrected), 'Sub-pillar'] = orig\n",
    "##\n",
    "corrected = 'Supply Chain' # should not have been corrected!\n",
    "orig = 'Supply Chains'\n",
    "matching_gimac.loc[matching_gimac['Sub-pillar'].eq(corrected), 'Sub-pillar'] = orig\n",
    "## missing from GIMAC Framework not in GIMAC Generic\n",
    "existing = 'Disruption of resources and assets'.title()\n",
    "missing = 'Damage To Resources And Assets'.title()\n",
    "row = matching_gimac.loc[matching_gimac['Sub-pillar'].eq(existing)].iloc[0]\n",
    "row['Sub-pillar'] = missing\n",
    "matching_gimac.loc[matching_gimac.shape[0]] = row\n",
    "##\n",
    "existing = 'Primary Shock (COVID Event Characteristics)'.title()\n",
    "missing = 'Primary Shock (Covid)'.title()\n",
    "row = matching_gimac.loc[matching_gimac['Sub-pillar'].eq(existing)].iloc[0]\n",
    "row['Sub-pillar'] = missing\n",
    "matching_gimac.loc[matching_gimac.shape[0]] = row"
   ]
  },
  {
   "cell_type": "code",
   "execution_count": 60,
   "metadata": {
    "ExecuteTime": {
     "end_time": "2021-10-26T11:08:06.088509Z",
     "start_time": "2021-10-26T11:08:06.085169Z"
    }
   },
   "outputs": [],
   "source": [
    "original_to_virtual = dict()\n",
    "for otype, opillar, osubpillar, ftype, fpillar, fsubpillar in zip(\n",
    "        matching_gimac[\"Type\"],\n",
    "        matching_gimac[\"Pillar\"],\n",
    "        matching_gimac[\"Sub-pillar\"],\n",
    "        matching_gimac[\"Virtual Type\"],\n",
    "        matching_gimac[\"Virtual Pillar\"],\n",
    "        matching_gimac[\"Virtual Sub-pillar\"],\n",
    "):\n",
    "    original = f\"{otype.title().strip()}->{opillar.title().strip()}->{osubpillar.title().strip()}\"\n",
    "    virtual = f\"{ftype.title().strip()}->{fpillar.title().strip()}->{fsubpillar.title().strip()}\"\n",
    "    original_to_virtual[original] = virtual"
   ]
  },
  {
   "cell_type": "code",
   "execution_count": 61,
   "metadata": {
    "ExecuteTime": {
     "end_time": "2021-10-26T11:08:06.093010Z",
     "start_time": "2021-10-26T11:08:06.089568Z"
    },
    "scrolled": true
   },
   "outputs": [
    {
     "data": {
      "text/plain": [
       "{'2D->Humanitarian Situation->Humanitarian Access': '1D->Humanitarian Access->Number Of People Facing Humanitarian Access Constraints/Humanitarian Access Gaps',\n",
       " '2D->Humanitarian Situation->Humanitarian Profile': 'Nan->Nan->Nan',\n",
       " '2D->Humanitarian Situation->Pre-Covid Humanitarian Operations': 'Nan->Nan->Nan',\n",
       " '2D->Humanitarian Situation->Pre-Covid National Response Mechanisms': 'Nan->Nan->Nan',\n",
       " '2D->Context->Socio-Economic': '1D->Context->Economy',\n",
       " '2D->Context->Socio-Cultural': '1D->Context->Socio Cultural',\n",
       " '2D->Context->Security': '1D->Context->Security & Stability',\n",
       " '2D->Context->Political': '1D->Context->Politics',\n",
       " '2D->Context->Policy/Normative Frameworks': '1D->Context->Legal & Policy',\n",
       " '2D->Context->Demographic': '1D->Context->Demography',\n",
       " '2D->Context->Environmental': '1D->Context->Environment',\n",
       " '2D->Context->Basic Infrastructure And Social Services': 'Nan->Nan->Nan',\n",
       " '2D->Context->Information And Communication': 'Nan->Nan->Nan',\n",
       " '2D->Shock Informaton->Primary Shock (Covid Event Characteristics)': 'Nan->Nan->Nan',\n",
       " '2D->Shock Informaton->Secondary Shocks (Non Covid)': 'Nan->Nan->Nan',\n",
       " '2D->Shock Informaton->Aggravating Factors': '1D->Shock/Event->Underlying/Aggravating Factors',\n",
       " '2D->Shock Informaton->Mitigating Factors': 'Nan->Nan->Nan',\n",
       " '2D->Shock Informaton->Government Measures': '2D->Covid-19->Restriction Measures',\n",
       " '2D->Effects Systems And Networks->Financial System': '2D->Context->Economy',\n",
       " '2D->Effects Systems And Networks->Political And Security': 'Nan->Nan->Nan',\n",
       " '2D->Effects Systems And Networks->Basic Infrastructure And Social Services': '2D->Impact->Impact On Systems, Services And Networks',\n",
       " '2D->Effects Systems And Networks->Labour Market': '2D->Impact->Impact On Systems, Services And Networks',\n",
       " '2D->Effects Systems And Networks->Food System': 'Nan->Nan->Nan',\n",
       " '2D->Effects Systems And Networks->Supply Chains': '2D->Impact->Impact On Systems, Services And Networks',\n",
       " '2D->Effects Systems And Networks->Physical Environment': 'Nan->Nan->Nan',\n",
       " '2D->Effects On Population->Post-Shock Displacement': 'Nan->Nan->Nan',\n",
       " '2D->Effects On Population->Disruption Of Social Behaviors And Networks': '2D->Impact->Impact On People',\n",
       " '2D->Effects On Population->Disruption Of Resources And Assets': '2D->Impact->Impact On People',\n",
       " '2D->Effects On Population->Disruption Of Rights And Norms': 'Nan->Nan->Nan',\n",
       " '2D->Effects On Population->Damage To Physical Integrity': '2D->Humanitarian Conditions->Physical And Mental Well Being',\n",
       " '2D->Coping Capacity->Positive Adaptive Mechanisms And Responses': '2D->Humanitarian Conditions->Coping Mechanisms',\n",
       " '2D->Coping Capacity->Negative Coping Strategies': '2D->Humanitarian Conditions->Coping Mechanisms',\n",
       " '2D->Operational Environment->Humanitarian Access': 'Nan->Nan->Nan',\n",
       " '2D->Operational Environment->International Humanitarian Response And Capacities': '2D->Capacities & Response->International Response',\n",
       " '2D->Operational Environment->National/Sub-National Response And Capacities': '2D->Capacities & Response->National Response',\n",
       " '2D->Humanitarian Conditions->Humanitarian Condition': 'Nan->Nan->Nan',\n",
       " '2D->Humanitarian Conditions->Risk': 'Nan->Nan->Nan',\n",
       " '2D->Stated Priorities And Recommendations->Affected Population Priorities': '2D->Priority Needs->Expressed By Population',\n",
       " '2D->Stated Priorities And Recommendations->Recommendations From Aid/Research Actors': '2D->Priority Interventions->Expressed By Humanitarian Staff',\n",
       " 'High Level Tags->General->Information Gap': '1D->Information And Communication->Knowledge And Info Gaps (Hum)',\n",
       " 'High Level Tags->General->Response Gap': '2D->Capacities & Response->Number Of People Reached/Response Gaps',\n",
       " 'High Level Tags->General->Stakeholder': 'Nan->Nan->Nan',\n",
       " 'High Level Tags->General->Lessons Learned': 'Nan->Nan->Nan',\n",
       " 'High Level Tags->General->Risk': '1D->Shock/Event->Hazard & Threats',\n",
       " 'High Level Tags->Effects->Direct Effect': 'Nan->Nan->Nan',\n",
       " 'High Level Tags->Effects->Indirect Effect': 'Nan->Nan->Nan',\n",
       " 'High Level Tags->Humanitarian Conditions->Negative Coping Mechanism': '2D->Humanitarian Conditions->Coping Mechanisms',\n",
       " '2D->Effects On Population->Damage To Resources And Assets': '2D->Impact->Impact On People',\n",
       " '2D->Shock Informaton->Primary Shock (Covid)': 'Nan->Nan->Nan'}"
      ]
     },
     "execution_count": 61,
     "metadata": {},
     "output_type": "execute_result"
    }
   ],
   "source": [
    "original_to_virtual"
   ]
  },
  {
   "cell_type": "code",
   "execution_count": 62,
   "metadata": {
    "ExecuteTime": {
     "end_time": "2021-10-26T11:08:06.100082Z",
     "start_time": "2021-10-26T11:08:06.094038Z"
    }
   },
   "outputs": [],
   "source": [
    "def sector_mapper(sec):\n",
    "    if sec == sec:\n",
    "        return [sector_name_mapper[s] for s in sec]\n",
    "    return []\n",
    "\n",
    "\n",
    "##\n",
    "def pillar_mapper_2d(dim):\n",
    "    if dim == dim:\n",
    "        dim = [original_to_virtual[d] for d in dim]\n",
    "\n",
    "        dim_processed = []\n",
    "        for d in dim:\n",
    "            if d.startswith('2D'):\n",
    "                dim_processed.append(d.split(\"->\")[1])\n",
    "            elif d == 'Nan->Nan->Nan':\n",
    "                dim_processed.append('NOT_MAPPED')\n",
    "\n",
    "        return dim_processed\n",
    "    return []\n",
    "\n",
    "\n",
    "##\n",
    "def subpillar_mapper_2d(subdim):\n",
    "    if subdim == subdim:\n",
    "        subdim = [original_to_virtual[d] for d in subdim]\n",
    "\n",
    "        subdim_processed = []\n",
    "        for d in subdim:\n",
    "            if d.startswith('2D'):\n",
    "                subdim_processed.append(d[4:])\n",
    "            elif d == 'Nan->Nan->Nan':\n",
    "                subdim_processed.append('NOT_MAPPED')\n",
    "\n",
    "        return subdim_processed\n",
    "    return []\n",
    "\n",
    "\n",
    "##\n",
    "def pillar_mapper_1d(dim):\n",
    "    if dim == dim:\n",
    "        dim = [original_to_virtual[d] for d in dim]\n",
    "\n",
    "        dim_processed = []\n",
    "        for d in dim:\n",
    "            if d.startswith('1D'):\n",
    "                dim_processed.append(d.split(\"->\")[1])\n",
    "            elif d == 'Nan->Nan->Nan':\n",
    "                dim_processed.append('NOT_MAPPED')\n",
    "\n",
    "        return dim_processed\n",
    "    return []\n",
    "\n",
    "\n",
    "##\n",
    "def subpillar_mapper_1d(subdim):\n",
    "    if subdim == subdim:\n",
    "        subdim = [original_to_virtual[d] for d in subdim]\n",
    "\n",
    "        subdim_processed = []\n",
    "        for d in subdim:\n",
    "            if d.startswith('1D'):\n",
    "                subdim_processed.append(d[4:])\n",
    "            elif d == 'Nan->Nan->Nan':\n",
    "                subdim_processed.append('NOT_MAPPED')\n",
    "\n",
    "        return subdim_processed\n",
    "    return []"
   ]
  },
  {
   "cell_type": "code",
   "execution_count": 63,
   "metadata": {
    "ExecuteTime": {
     "end_time": "2021-10-26T11:08:06.354990Z",
     "start_time": "2021-10-26T11:08:06.101099Z"
    }
   },
   "outputs": [],
   "source": [
    "final_df[\"sectors\"] = final_df[\"sectors\"].apply(sector_mapper)\n",
    "final_df[\"subpillars_2d\"] = final_df[\"pillars\"].apply(subpillar_mapper_2d)\n",
    "final_df[\"subpillars_1d\"] = final_df[\"pillars\"].apply(subpillar_mapper_1d)\n",
    "final_df[\"pillars_1d\"] = final_df[\"pillars\"].apply(pillar_mapper_1d)\n",
    "final_df[\"pillars_2d\"] = final_df[\"pillars\"].apply(pillar_mapper_2d)\n",
    "final_df.drop(columns=\"pillars\", inplace=True)"
   ]
  },
  {
   "cell_type": "code",
   "execution_count": 64,
   "metadata": {
    "ExecuteTime": {
     "end_time": "2021-10-26T11:08:06.359160Z",
     "start_time": "2021-10-26T11:08:06.356159Z"
    }
   },
   "outputs": [
    {
     "data": {
      "text/plain": [
       "(37711, 21)"
      ]
     },
     "execution_count": 64,
     "metadata": {},
     "output_type": "execute_result"
    }
   ],
   "source": [
    "final_df.shape"
   ]
  },
  {
   "cell_type": "code",
   "execution_count": 65,
   "metadata": {
    "ExecuteTime": {
     "end_time": "2021-10-26T11:08:06.394783Z",
     "start_time": "2021-10-26T11:08:06.360270Z"
    }
   },
   "outputs": [],
   "source": [
    "to_be_deleted = 'NOT_MAPPED'\n",
    "\n",
    "valid_covn_df = final_df[~(\n",
    "    final_df[\"pillars_2d\"].apply(lambda x: to_be_deleted in x)\n",
    "    | final_df[\"pillars_1d\"].apply(lambda x: to_be_deleted in x)\n",
    "    | final_df[\"subpillars_2d\"].apply(lambda x: to_be_deleted in x)\n",
    "    | final_df[\"subpillars_1d\"].apply(lambda x: to_be_deleted in x))]"
   ]
  },
  {
   "cell_type": "code",
   "execution_count": 66,
   "metadata": {
    "ExecuteTime": {
     "end_time": "2021-10-26T11:08:06.398397Z",
     "start_time": "2021-10-26T11:08:06.395739Z"
    }
   },
   "outputs": [
    {
     "data": {
      "text/plain": [
       "((37711, 21), (17667, 21))"
      ]
     },
     "execution_count": 66,
     "metadata": {},
     "output_type": "execute_result"
    }
   ],
   "source": [
    "final_df.shape, valid_covn_df.shape"
   ]
  },
  {
   "cell_type": "code",
   "execution_count": 67,
   "metadata": {
    "ExecuteTime": {
     "end_time": "2021-10-26T11:08:06.413399Z",
     "start_time": "2021-10-26T11:08:06.399322Z"
    }
   },
   "outputs": [
    {
     "data": {
      "text/plain": [
       "[('Cross', 12281),\n",
       " ('Health', 8557),\n",
       " ('Protection', 7193),\n",
       " ('Food Security', 4513),\n",
       " ('Livelihoods', 3925),\n",
       " ('WASH', 3318),\n",
       " ('Education', 2887),\n",
       " ('Shelter', 2293),\n",
       " ('Nutrition', 1979),\n",
       " ('NOT_MAPPED', 675)]"
      ]
     },
     "execution_count": 67,
     "metadata": {},
     "output_type": "execute_result"
    }
   ],
   "source": [
    "secs_unique = set()\n",
    "secs_occurances = list()\n",
    "for secs in final_df[\"sectors\"]:\n",
    "    secs_unique.update(secs)\n",
    "    secs_occurances.extend(secs)\n",
    "#secs_unique\n",
    "Counter(secs_occurances).most_common()"
   ]
  },
  {
   "cell_type": "code",
   "execution_count": 68,
   "metadata": {
    "ExecuteTime": {
     "end_time": "2021-10-26T11:08:06.431397Z",
     "start_time": "2021-10-26T11:08:06.414272Z"
    }
   },
   "outputs": [
    {
     "data": {
      "text/plain": [
       "[('NOT_MAPPED', 24094),\n",
       " ('Capacities & Response', 11734),\n",
       " ('Impact', 5675),\n",
       " ('Priority Interventions', 3384),\n",
       " ('Humanitarian Conditions', 2919),\n",
       " ('Covid-19', 1050),\n",
       " ('Priority Needs', 562),\n",
       " ('Context', 427)]"
      ]
     },
     "execution_count": 68,
     "metadata": {},
     "output_type": "execute_result"
    }
   ],
   "source": [
    "pills_unique = set()\n",
    "pills_occurances = list()\n",
    "for pills in final_df[\"pillars_2d\"]:\n",
    "    pills_unique.update(pills)\n",
    "    pills_occurances.extend(pills)\n",
    "#pills_unique\n",
    "Counter(pills_occurances).most_common()"
   ]
  },
  {
   "cell_type": "code",
   "execution_count": 69,
   "metadata": {
    "ExecuteTime": {
     "end_time": "2021-10-26T11:08:06.451912Z",
     "start_time": "2021-10-26T11:08:06.432704Z"
    },
    "scrolled": false
   },
   "outputs": [
    {
     "data": {
      "text/plain": [
       "[('NOT_MAPPED', 24094),\n",
       " ('Capacities & Response->International Response', 7385),\n",
       " ('Priority Interventions->Expressed By Humanitarian Staff', 3384),\n",
       " ('Capacities & Response->National Response', 3250),\n",
       " ('Impact->Impact On People', 3191),\n",
       " ('Impact->Impact On Systems, Services And Networks', 2484),\n",
       " ('Humanitarian Conditions->Physical And Mental Well Being', 1711),\n",
       " ('Humanitarian Conditions->Coping Mechanisms', 1208),\n",
       " ('Capacities & Response->Number Of People Reached/Response Gaps', 1099),\n",
       " ('Covid-19->Restriction Measures', 1050),\n",
       " ('Priority Needs->Expressed By Population', 562),\n",
       " ('Context->Economy', 427)]"
      ]
     },
     "execution_count": 69,
     "metadata": {},
     "output_type": "execute_result"
    }
   ],
   "source": [
    "subpills_unique = set()\n",
    "subpills_occurances = list()\n",
    "for subpills in final_df[\"subpillars_2d\"]:\n",
    "    subpills_unique.update(subpills)\n",
    "    subpills_occurances.extend(subpills)\n",
    "Counter(subpills_occurances).most_common()"
   ]
  },
  {
   "cell_type": "code",
   "execution_count": 70,
   "metadata": {
    "ExecuteTime": {
     "end_time": "2021-10-26T11:08:06.466547Z",
     "start_time": "2021-10-26T11:08:06.452887Z"
    }
   },
   "outputs": [
    {
     "data": {
      "text/plain": [
       "[('NOT_MAPPED', 24094),\n",
       " ('Context', 3407),\n",
       " ('Shock/Event', 2767),\n",
       " ('Humanitarian Access', 268),\n",
       " ('Information And Communication', 156)]"
      ]
     },
     "execution_count": 70,
     "metadata": {},
     "output_type": "execute_result"
    }
   ],
   "source": [
    "pills_unique_1d = set()\n",
    "pills_occurances_1d = list()\n",
    "for pills_1d in final_df[\"pillars_1d\"]:\n",
    "    pills_unique_1d.update(pills_1d)\n",
    "    pills_occurances_1d.extend(pills_1d)\n",
    "#pills_unique_1d\n",
    "Counter(pills_occurances_1d).most_common()"
   ]
  },
  {
   "cell_type": "code",
   "execution_count": 71,
   "metadata": {
    "ExecuteTime": {
     "end_time": "2021-10-26T11:08:06.485083Z",
     "start_time": "2021-10-26T11:08:06.467543Z"
    },
    "scrolled": true
   },
   "outputs": [
    {
     "data": {
      "text/plain": [
       "[('NOT_MAPPED', 24094),\n",
       " ('Shock/Event->Hazard & Threats', 2316),\n",
       " ('Context->Security & Stability', 1024),\n",
       " ('Context->Economy', 857),\n",
       " ('Context->Socio Cultural', 576),\n",
       " ('Shock/Event->Underlying/Aggravating Factors', 451),\n",
       " ('Context->Environment', 326),\n",
       " ('Humanitarian Access->Number Of People Facing Humanitarian Access Constraints/Humanitarian Access Gaps',\n",
       "  268),\n",
       " ('Context->Legal & Policy', 261),\n",
       " ('Context->Demography', 193),\n",
       " ('Context->Politics', 170),\n",
       " ('Information And Communication->Knowledge And Info Gaps (Hum)', 156)]"
      ]
     },
     "execution_count": 71,
     "metadata": {},
     "output_type": "execute_result"
    }
   ],
   "source": [
    "subpills_unique_1d = set()\n",
    "subpills_occurances_1d = list()\n",
    "for subpills_1d in final_df[\"subpillars_1d\"]:\n",
    "    subpills_unique_1d.update(subpills_1d)\n",
    "    subpills_occurances_1d.extend(subpills_1d)\n",
    "#subpills_unique_1d\n",
    "Counter(subpills_occurances_1d).most_common()"
   ]
  },
  {
   "cell_type": "code",
   "execution_count": 72,
   "metadata": {
    "ExecuteTime": {
     "end_time": "2021-10-26T11:08:06.507922Z",
     "start_time": "2021-10-26T11:08:06.486379Z"
    }
   },
   "outputs": [
    {
     "data": {
      "text/plain": [
       "(22759, 35194, 37389)"
      ]
     },
     "execution_count": 72,
     "metadata": {},
     "output_type": "execute_result"
    }
   ],
   "source": [
    "final_df[\"subpillars_1d\"].apply(lambda x:x!=[]).sum(),\\\n",
    "final_df[\"subpillars_2d\"].apply(lambda x:x!=[]).sum(),\\\n",
    "final_df[\"sectors\"].apply(lambda x:x!=[]).sum()"
   ]
  },
  {
   "cell_type": "code",
   "execution_count": 73,
   "metadata": {
    "ExecuteTime": {
     "end_time": "2021-10-26T11:08:06.522510Z",
     "start_time": "2021-10-26T11:08:06.509006Z"
    }
   },
   "outputs": [],
   "source": [
    "final_df = final_df[['entry_id', 'excerpt', 'entry_type',\n",
    "        'analysis_framework_id', 'lead_id','title',\n",
    "        'project_id', 'verified',\n",
    "        'sectors', 'subpillars_2d', 'subpillars_1d', 'pillars_1d',\n",
    "        'pillars_2d']]\n",
    "\n",
    "valid_covn_df = valid_covn_df[['entry_id', 'excerpt', 'entry_type',\n",
    "        'analysis_framework_id', 'lead_id','title',\n",
    "        'project_id', 'verified',\n",
    "        'sectors', 'subpillars_2d', 'subpillars_1d', 'pillars_1d',\n",
    "        'pillars_2d']]"
   ]
  },
  {
   "cell_type": "code",
   "execution_count": 74,
   "metadata": {
    "ExecuteTime": {
     "end_time": "2021-10-26T11:08:06.546694Z",
     "start_time": "2021-10-26T11:08:06.523592Z"
    }
   },
   "outputs": [
    {
     "data": {
      "text/plain": [
       "((37711, 13), (17667, 13))"
      ]
     },
     "execution_count": 74,
     "metadata": {},
     "output_type": "execute_result"
    }
   ],
   "source": [
    "final_df = final_df[~(\n",
    "    final_df.analysis_framework_id.isna() | \n",
    "    final_df.entry_id.isna() |\n",
    "    final_df.lead_id.isna() |\n",
    "    final_df.excerpt.isna())\n",
    "]\n",
    "\n",
    "valid_covn_df = valid_covn_df[~(\n",
    "    valid_covn_df.analysis_framework_id.isna() | \n",
    "    valid_covn_df.entry_id.isna() |\n",
    "    valid_covn_df.lead_id.isna() |\n",
    "    valid_covn_df.excerpt.isna())\n",
    "]\n",
    "final_df.shape, valid_covn_df.shape"
   ]
  },
  {
   "cell_type": "code",
   "execution_count": 75,
   "metadata": {
    "ExecuteTime": {
     "end_time": "2021-10-26T11:08:07.094048Z",
     "start_time": "2021-10-26T11:08:06.547853Z"
    }
   },
   "outputs": [],
   "source": [
    "final_df.to_csv('generated_dataset/primary_tags_gimmac_data.csv', index=None)\n",
    "valid_covn_df.to_csv('generated_dataset/primary_tags_gimmac_data_vc.csv', index=None)"
   ]
  },
  {
   "cell_type": "code",
   "execution_count": null,
   "metadata": {},
   "outputs": [],
   "source": []
  }
 ],
 "metadata": {
  "kernelspec": {
   "display_name": "Python 3 (ipykernel)",
   "language": "python",
   "name": "python3"
  },
  "language_info": {
   "codemirror_mode": {
    "name": "ipython",
    "version": 3
   },
   "file_extension": ".py",
   "mimetype": "text/x-python",
   "name": "python",
   "nbconvert_exporter": "python",
   "pygments_lexer": "ipython3",
   "version": "3.8.11"
  },
  "varInspector": {
   "cols": {
    "lenName": 16,
    "lenType": 16,
    "lenVar": 40
   },
   "kernels_config": {
    "python": {
     "delete_cmd_postfix": "",
     "delete_cmd_prefix": "del ",
     "library": "var_list.py",
     "varRefreshCmd": "print(var_dic_list())"
    },
    "r": {
     "delete_cmd_postfix": ") ",
     "delete_cmd_prefix": "rm(",
     "library": "var_list.r",
     "varRefreshCmd": "cat(var_dic_list()) "
    }
   },
   "types_to_exclude": [
    "module",
    "function",
    "builtin_function_or_method",
    "instance",
    "_Feature"
   ],
   "window_display": false
  }
 },
 "nbformat": 4,
 "nbformat_minor": 4
}
