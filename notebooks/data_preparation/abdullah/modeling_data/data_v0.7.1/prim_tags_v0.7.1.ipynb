{
 "cells": [
  {
   "cell_type": "code",
   "execution_count": 1,
   "metadata": {
    "ExecuteTime": {
     "end_time": "2021-11-01T11:32:10.088220Z",
     "start_time": "2021-11-01T11:32:09.840919Z"
    }
   },
   "outputs": [],
   "source": [
    "import re\n",
    "import os\n",
    "import json\n",
    "import random\n",
    "from pprint import pprint\n",
    "from ast import literal_eval\n",
    "from collections import Counter, defaultdict\n",
    "\n",
    "import numpy as np\n",
    "import pandas as pd\n",
    "from tqdm.auto import tqdm"
   ]
  },
  {
   "cell_type": "code",
   "execution_count": 2,
   "metadata": {
    "ExecuteTime": {
     "end_time": "2021-11-01T11:32:10.092320Z",
     "start_time": "2021-11-01T11:32:10.090017Z"
    }
   },
   "outputs": [],
   "source": [
    "random.seed(2021)\n",
    "np.random.seed(2021)"
   ]
  },
  {
   "cell_type": "code",
   "execution_count": 3,
   "metadata": {
    "ExecuteTime": {
     "end_time": "2021-11-01T11:32:10.096803Z",
     "start_time": "2021-11-01T11:32:10.094111Z"
    }
   },
   "outputs": [],
   "source": [
    "def unique_tags(col):\n",
    "    unique = set()\n",
    "    for label in col:\n",
    "        unique.update(label)\n",
    "    return unique"
   ]
  },
  {
   "cell_type": "code",
   "execution_count": 4,
   "metadata": {
    "ExecuteTime": {
     "end_time": "2021-11-01T11:32:10.100754Z",
     "start_time": "2021-11-01T11:32:10.098408Z"
    }
   },
   "outputs": [],
   "source": [
    "flatten = lambda l: sum(map(flatten, l), []) if isinstance(l, list) else [l]"
   ]
  },
  {
   "cell_type": "code",
   "execution_count": 5,
   "metadata": {
    "ExecuteTime": {
     "end_time": "2021-11-01T11:32:13.300345Z",
     "start_time": "2021-11-01T11:32:10.102406Z"
    },
    "code_folding": [],
    "scrolled": true
   },
   "outputs": [],
   "source": [
    "# each line in this table correspond to single tagging of an entry.\n",
    "# an entry may have more than one tagging (e.g. a tag in 2D matrix, another in 1D matrix,\n",
    "# secondary tags, etc. )\n",
    "exportdata = pd.read_csv(\"exportdata.csv\")\n",
    "# I pulled entries related to projects chosen by Patrice\n",
    "entries = pd.read_csv(\"entries.csv\")\n",
    "# The widgets of AF's, i.e. 2D matrices, 1D matrices, secondary tagging widgets, etc.\n",
    "af_widgets = pd.read_csv(\"af_widgets.csv\")\n",
    "# Projects chosen by Patrice\n",
    "projects = pd.read_csv(\"projects.csv\")\n",
    "#\n",
    "exportables = pd.read_csv(\"af_exportables.csv\")\n",
    "# AF details\n",
    "afs = pd.read_csv(\"analysis_frameworks.csv\")\n",
    "# user ids, first names and last names\n",
    "users = pd.read_csv(\"user_names.csv\")\n",
    "# The matchin of pillar/sub-pillar names from different AFs into unified pillar/sub-pillar names\n",
    "mapping = pd.read_csv(\"mapping.csv\")"
   ]
  },
  {
   "cell_type": "code",
   "execution_count": 6,
   "metadata": {
    "ExecuteTime": {
     "end_time": "2021-11-01T11:32:13.304299Z",
     "start_time": "2021-11-01T11:32:13.301408Z"
    }
   },
   "outputs": [],
   "source": [
    "# remove raws related to GIMAC framework\n",
    "mapping = mapping[mapping['Framework Title'].ne('GIMAC Generic')]\n",
    "# split into two mapping dfs: 1D and 2D mappings\n",
    "#matching_2d_mat = mapping[mapping[\"Virtual Type\"].eq(\"2D\")].copy()\n",
    "#matching_1d_mat = mapping[mapping[\"Virtual Type\"].eq(\"1D\")].copy()"
   ]
  },
  {
   "cell_type": "code",
   "execution_count": 7,
   "metadata": {
    "ExecuteTime": {
     "end_time": "2021-11-01T11:32:13.345916Z",
     "start_time": "2021-11-01T11:32:13.305182Z"
    }
   },
   "outputs": [],
   "source": [
    "gen_data_dirname = 'generated_dataset'\n",
    "if not os.path.exists(gen_data_dirname):\n",
    "    os.mkdir(gen_data_dirname)"
   ]
  },
  {
   "cell_type": "code",
   "execution_count": 8,
   "metadata": {
    "ExecuteTime": {
     "end_time": "2021-11-01T11:32:13.383339Z",
     "start_time": "2021-11-01T11:32:13.346947Z"
    }
   },
   "outputs": [],
   "source": [
    "# remove \"GIMAC Generic\"'s data\n",
    "entries = entries[entries[\"analysis_framework_id\"].ne(1465)]"
   ]
  },
  {
   "cell_type": "code",
   "execution_count": 9,
   "metadata": {
    "ExecuteTime": {
     "end_time": "2021-11-01T11:32:13.388193Z",
     "start_time": "2021-11-01T11:32:13.384605Z"
    }
   },
   "outputs": [],
   "source": [
    "raw_name_to_tag_dict = {\n",
    "    \"Severity\":\"Severity\",\n",
    "    \"Severity (Needs assessment entries only)\":\"Severity\",\n",
    "    \"SEVERITY\":\"Severity\",\n",
    "    \n",
    "    \"Reliability\":\"Reliability\",\n",
    "    \"RELIABILITY\":\"Reliability\",\n",
    "    \n",
    "    \"Demographic Groups\":\"Demographic Groups\",\n",
    "    \"DEMOGRAPHIC GROUPS\":\"Demographic Groups\",\n",
    "    \n",
    "    \"Information date\":\"Information Date\",\n",
    "    \"Information Date\":\"Information Date\",\n",
    "    \"Date\":\"Information Date\",\n",
    "    \"DATE OF INFORMATION\":\"Information Date\",\n",
    "    \"Date range\":\"Information Date\",\n",
    "    \n",
    "    \"Geo Location\":\"Geo Location\",\n",
    "    \"LOCATION\":\"Geo Location\",\n",
    "    \"Geo location\":\"Geo Location\",\n",
    "    \"Country\":\"Geo Location\",\n",
    "    \"GEOLOCATIONS\":\"Geo Location\",\n",
    "    \n",
    "    \"Affected groups\":\"Affected Groups\",\n",
    "    \"AFFECTED GROUPS\":\"Affected Groups\",\n",
    "    \n",
    "    \"Specific Needs Groups\":\"Specific Needs Groups\",\n",
    "    \"SPECIFIC NEEDS GROUPS\":\"Specific Needs Groups\",\n",
    "}\n"
   ]
  },
  {
   "cell_type": "code",
   "execution_count": 10,
   "metadata": {
    "ExecuteTime": {
     "end_time": "2021-11-01T11:32:13.397460Z",
     "start_time": "2021-11-01T11:32:13.390374Z"
    }
   },
   "outputs": [
    {
     "data": {
      "text/plain": [
       "(161244, 21)"
      ]
     },
     "execution_count": 10,
     "metadata": {},
     "output_type": "execute_result"
    }
   ],
   "source": [
    "entries.shape"
   ]
  },
  {
   "cell_type": "code",
   "execution_count": 11,
   "metadata": {
    "ExecuteTime": {
     "end_time": "2021-11-01T11:32:13.401432Z",
     "start_time": "2021-11-01T11:32:13.398435Z"
    }
   },
   "outputs": [],
   "source": [
    "def clean_titles(x):\n",
    "    return raw_name_to_tag_dict.get(x, x)\n",
    "\n",
    "\n",
    "af_widgets['title'] = af_widgets['title'].apply(clean_titles)"
   ]
  },
  {
   "cell_type": "code",
   "execution_count": 12,
   "metadata": {
    "ExecuteTime": {
     "end_time": "2021-11-01T11:32:13.412945Z",
     "start_time": "2021-11-01T11:32:13.402395Z"
    },
    "code_folding": []
   },
   "outputs": [],
   "source": [
    "# widget names of 2D matrices in the chosen AFs's\n",
    "mat2d_titles = [\n",
    "    s.upper() for s in [\n",
    "        \"Sectors\",\n",
    "        \"Sectoral Information\",\n",
    "        \"Matrix 2D\",\n",
    "    ]\n",
    "]\n",
    "# Pandas will read json objects as strings,\n",
    "# here I am converting them into Python dict objects\n",
    "af_widgets[\"properties\"] = af_widgets[\"properties\"].apply(json.loads)\n",
    "##\n",
    "mat2d_properties_ids = af_widgets[(\n",
    "    af_widgets[\"title\"].str.upper()).isin(mat2d_titles)][[\n",
    "        \"properties\", \"analysis_framework_id\"\n",
    "    ]]\n",
    "mat2d_properties = mat2d_properties_ids[\"properties\"].tolist()\n",
    "mat2d_ids = mat2d_properties_ids[\"analysis_framework_id\"].tolist()\n",
    "## 1D Matrices\n",
    "# widget names of 1D matrices in the chosen AFs's\n",
    "mat1d_titles = [\n",
    "    s.upper() for s in [\n",
    "        \"Operational Environment\",  # iMMAP, 2020 Okular, Okular Generic, Colombia-AF, Nigeria Situation Analysis (OA), IFRC Master Framework 2019\n",
    "        \"Cross Sector\",  #Rohingya Framework, IFRC Analytical Framework 2018, \n",
    "        \"Matrix 1D\",  # Situation Analysis Generic Yemen, \n",
    "        \"Cross Sectors\",  # Situation Analysis Generic Libya\n",
    "    ]\n",
    "]\n",
    "mat1d_titles = mat1d_titles + [\n",
    "    sub_s.title() for sub_s in ('Operational Environment - Dimension',\n",
    "                                'Operational Environment - Subdimension')\n",
    "]\n",
    "mat1d_properties_ids = af_widgets[(\n",
    "    af_widgets[\"title\"].str.upper()).isin(mat1d_titles)][[\n",
    "        \"properties\", \"analysis_framework_id\"\n",
    "    ]]\n",
    "mat1d_properties = mat1d_properties_ids[\"properties\"].tolist()\n",
    "mat1d_ids = mat1d_properties_ids[\"analysis_framework_id\"].tolist()"
   ]
  },
  {
   "cell_type": "code",
   "execution_count": 13,
   "metadata": {
    "ExecuteTime": {
     "end_time": "2021-11-01T11:32:13.418332Z",
     "start_time": "2021-11-01T11:32:13.413995Z"
    },
    "scrolled": true
   },
   "outputs": [],
   "source": [
    "afids_pillars_subpillars = dict()\n",
    "errors = []\n",
    "for mat, af_id in zip(mat2d_properties, mat2d_ids):\n",
    "    try:\n",
    "        dims = mat[\"data\"]['dimensions']\n",
    "        afids_pillars_subpillars[af_id] = {}\n",
    "        for dim in dims:\n",
    "            pillar = dim[\"title\"]\n",
    "            sub_pillars = []\n",
    "            for sub_pillar_dict in dim[\"subdimensions\"]:\n",
    "                sub_pillars.append(sub_pillar_dict[\"title\"])\n",
    "            afids_pillars_subpillars[af_id][pillar] = sub_pillars\n",
    "    except KeyError:\n",
    "        errors.append([mat, af_id])\n",
    "##\n",
    "afids_rows_cells = dict()\n",
    "for mat, af_id in zip(mat1d_properties, mat1d_ids):\n",
    "    try:\n",
    "        rows = mat[\"data\"]['rows']\n",
    "        afids_rows_cells[af_id] = {}\n",
    "        for row in rows:\n",
    "            pillar = row[\"title\"]\n",
    "            sub_pillars = []\n",
    "            for sub_pillar_dict in row[\"cells\"]:\n",
    "                sub_pillars.append(sub_pillar_dict[\"value\"])\n",
    "            afids_rows_cells[af_id][pillar] = sub_pillars\n",
    "    except KeyError:\n",
    "        errors.append([mat, af_id])"
   ]
  },
  {
   "cell_type": "code",
   "execution_count": 14,
   "metadata": {
    "ExecuteTime": {
     "end_time": "2021-11-01T11:32:13.454436Z",
     "start_time": "2021-11-01T11:32:13.419236Z"
    }
   },
   "outputs": [],
   "source": [
    "def extract_title(x):\n",
    "    if x[\"excel\"].get(\"title\"):\n",
    "        return x[\"excel\"][\"title\"]\n",
    "    elif x[\"excel\"].get(\"type\") == \"multiple\":\n",
    "        return x[\"excel\"][\"titles\"]\n",
    "\n",
    "\n",
    "##\n",
    "exportables[\"data\"] = exportables[\"data\"].apply(literal_eval)\n",
    "af_titles = exportables[\"data\"].apply(extract_title).tolist()"
   ]
  },
  {
   "cell_type": "code",
   "execution_count": 15,
   "metadata": {
    "ExecuteTime": {
     "end_time": "2021-11-01T11:32:13.501602Z",
     "start_time": "2021-11-01T11:32:13.455564Z"
    }
   },
   "outputs": [
    {
     "name": "stdout",
     "output_type": "stream",
     "text": [
      "(161244, 21) (1156529, 4)\n",
      "(119755, 21) (1156529, 4)\n"
     ]
    }
   ],
   "source": [
    "print(entries.shape, exportdata.shape)\n",
    "entries = entries[entries[\"entry_type\"].eq(\"excerpt\")\n",
    "                  & (~entries[\"excerpt\"].isna())]\n",
    "print(entries.shape, exportdata.shape)"
   ]
  },
  {
   "cell_type": "code",
   "execution_count": 16,
   "metadata": {
    "ExecuteTime": {
     "end_time": "2021-11-01T11:32:13.505185Z",
     "start_time": "2021-11-01T11:32:13.502670Z"
    }
   },
   "outputs": [],
   "source": [
    "exid_to_exdata = dict()\n",
    "for ex_id, ex_data in zip(exportables[\"id\"], exportables[\"data\"]):\n",
    "    exid_to_exdata[ex_id] = ex_data"
   ]
  },
  {
   "cell_type": "code",
   "execution_count": 17,
   "metadata": {
    "ExecuteTime": {
     "end_time": "2021-11-01T11:32:13.508869Z",
     "start_time": "2021-11-01T11:32:13.506257Z"
    }
   },
   "outputs": [],
   "source": [
    "widget_key_id_to_title = dict()\n",
    "for w_key, w_id, title in zip(af_widgets[\"key\"], af_widgets[\"widget_id\"],\n",
    "                              af_widgets[\"title\"]):\n",
    "    widget_key_id_to_title[(w_key, w_id)] = title"
   ]
  },
  {
   "cell_type": "code",
   "execution_count": 18,
   "metadata": {
    "ExecuteTime": {
     "end_time": "2021-11-01T11:32:13.515423Z",
     "start_time": "2021-11-01T11:32:13.509982Z"
    }
   },
   "outputs": [],
   "source": [
    "def exportdata_to_tag_title(row):\n",
    "    data = json.loads(row[1])\n",
    "    wkey, wid = None, None\n",
    "    if data.get(\"common\"):\n",
    "        wkey = data.get(\"common\").get(\"widget_key\")\n",
    "        wid = data[\"common\"].get(\"widget_id\")\n",
    "    if wkey and wid:\n",
    "        if widget_key_id_to_title.get((wkey, wid)):\n",
    "            return widget_key_id_to_title.get((wkey, wid))\n",
    "    if data.get(\"report\") and data[\"report\"].get(\"other\"):\n",
    "        if len(data[\"report\"]\n",
    "               [\"other\"]) == 1 and data[\"report\"][\"other\"][0].get(\"title\"):\n",
    "            if data[\"report\"][\"other\"][0][\"title\"]:\n",
    "                return data[\"report\"][\"other\"][0][\"title\"]\n",
    "    if isinstance(data.get(\"excel\"), list) and len(data[\"excel\"])==1 and \\\n",
    "     data[\"excel\"][0].get(\"widget_key\") and data[\"excel\"][0].get(\"widget_id\"):\n",
    "        wkey = data[\"excel\"][0][\"widget_key\"]\n",
    "        wid = data[\"excel\"][0][\"widget_id\"]\n",
    "        if widget_key_id_to_title.get((wkey, wid)):\n",
    "            return widget_key_id_to_title.get((wkey, wid))\n",
    "    exportable_id = row[3]\n",
    "    if exid_to_exdata[exportable_id][\"excel\"].get(\"title\"):\n",
    "        return exid_to_exdata[exportable_id][\"excel\"][\"title\"]\n",
    "    elif exid_to_exdata[exportable_id][\"excel\"].get(\"type\") == \"multiple\":\n",
    "        return exid_to_exdata[exportable_id][\"excel\"][\"titles\"]\n",
    "    raise"
   ]
  },
  {
   "cell_type": "code",
   "execution_count": 19,
   "metadata": {
    "ExecuteTime": {
     "end_time": "2021-11-01T11:32:25.169337Z",
     "start_time": "2021-11-01T11:32:13.516653Z"
    },
    "scrolled": true
   },
   "outputs": [],
   "source": [
    "exportdata[\"tag_title\"] = exportdata.apply(exportdata_to_tag_title, axis=1)"
   ]
  },
  {
   "cell_type": "code",
   "execution_count": 20,
   "metadata": {
    "ExecuteTime": {
     "end_time": "2021-11-01T11:32:25.174686Z",
     "start_time": "2021-11-01T11:32:25.170487Z"
    }
   },
   "outputs": [],
   "source": [
    "def exportdata_to_tag_value(row):\n",
    "    data = json.loads(row[1])\n",
    "    if isinstance(data[\"excel\"], list) and len(data[\"excel\"]) == 1:\n",
    "        return data[\"excel\"][0][\"value\"]\n",
    "    if data[\"excel\"].get(\"type\") == \"lists\":\n",
    "        return data[\"excel\"][\"values\"]\n",
    "    if isinstance(data[\"excel\"], dict) and \"value\" in data[\"excel\"]:\n",
    "        return data[\"excel\"].get(\"value\")\n",
    "    if isinstance(data[\"excel\"], dict) and \"values\" in data[\"excel\"]:\n",
    "        return data[\"excel\"].get(\"values\")\n",
    "    elif \"values\" in data[\"common\"]:\n",
    "        return data[\"common\"][\"values\"]\n",
    "    elif \"value\" in data[\"common\"]:\n",
    "        return data[\"common\"][\"value\"]\n",
    "    raise"
   ]
  },
  {
   "cell_type": "code",
   "execution_count": 21,
   "metadata": {
    "ExecuteTime": {
     "end_time": "2021-11-01T11:32:38.520274Z",
     "start_time": "2021-11-01T11:32:25.176474Z"
    }
   },
   "outputs": [],
   "source": [
    "exportdata[\"tag_value\"] = exportdata.apply(exportdata_to_tag_value, axis=1)"
   ]
  },
  {
   "cell_type": "code",
   "execution_count": 22,
   "metadata": {
    "ExecuteTime": {
     "end_time": "2021-11-01T11:32:38.524652Z",
     "start_time": "2021-11-01T11:32:38.521701Z"
    }
   },
   "outputs": [],
   "source": [
    "def title_case(tag):\n",
    "    if isinstance(tag, (list, tuple)):\n",
    "        return tuple([x.title() for x in tag])\n",
    "    return tag.title()"
   ]
  },
  {
   "cell_type": "code",
   "execution_count": 23,
   "metadata": {
    "ExecuteTime": {
     "end_time": "2021-11-01T11:32:38.945933Z",
     "start_time": "2021-11-01T11:32:38.525846Z"
    }
   },
   "outputs": [],
   "source": [
    "exportdata[\"tag_title\"] = exportdata[\"tag_title\"].apply(title_case)"
   ]
  },
  {
   "cell_type": "code",
   "execution_count": 24,
   "metadata": {
    "ExecuteTime": {
     "end_time": "2021-11-01T11:32:38.949817Z",
     "start_time": "2021-11-01T11:32:38.947181Z"
    }
   },
   "outputs": [],
   "source": [
    "mat_1d_and_flag_titles = [\n",
    "    'Flag', 'Operational Environment', 'Cross Sector', 'Temática',\n",
    "    ('Operational Environment - Dimension',\n",
    "     'Operational Environment - Subdimension'),\n",
    "    ('Flag - Dimension', 'Flag - Subdimension'),\n",
    "    ('High Level Tags - Dimension', 'High Level Tags - Subdimension')\n",
    "]"
   ]
  },
  {
   "cell_type": "code",
   "execution_count": 25,
   "metadata": {
    "ExecuteTime": {
     "end_time": "2021-11-01T11:32:38.953038Z",
     "start_time": "2021-11-01T11:32:38.951171Z"
    }
   },
   "outputs": [],
   "source": [
    "#exportdata.tag_title.unique()"
   ]
  },
  {
   "cell_type": "code",
   "execution_count": 26,
   "metadata": {
    "ExecuteTime": {
     "end_time": "2021-11-01T11:32:38.956011Z",
     "start_time": "2021-11-01T11:32:38.954177Z"
    }
   },
   "outputs": [],
   "source": [
    "#exportdata[exportdata[\"tag_title\"].isin([('Operational Environment - Dimension', 'Operational Environment - Subdimension')])][\"tag_value\"].tolist()\n",
    "#exportdata[exportdata[\"tag_title\"].eq('High Level Tags')][\"tag_value\"].tolist()"
   ]
  },
  {
   "cell_type": "code",
   "execution_count": 27,
   "metadata": {
    "ExecuteTime": {
     "end_time": "2021-11-01T11:32:38.959911Z",
     "start_time": "2021-11-01T11:32:38.957124Z"
    }
   },
   "outputs": [],
   "source": [
    "mat2d_titles = [s.title() for s in mat2d_titles]\n",
    "mat1d_titles = [\n",
    "    s.title() if isinstance(s, str) else (sub_s.title() for sub_s in s)\n",
    "    for s in mat1d_titles\n",
    "]\n",
    "mat_1d_and_flag_titles = [\n",
    "    s.title() if isinstance(s, str) else (sub_s.title() for sub_s in s)\n",
    "    for s in mat_1d_and_flag_titles\n",
    "]"
   ]
  },
  {
   "cell_type": "code",
   "execution_count": 28,
   "metadata": {
    "ExecuteTime": {
     "end_time": "2021-11-01T11:32:39.155998Z",
     "start_time": "2021-11-01T11:32:38.963756Z"
    }
   },
   "outputs": [],
   "source": [
    "exportdata_of_interest = exportdata[exportdata[\"tag_title\"].isin(\n",
    "    mat2d_titles + mat_1d_and_flag_titles)]"
   ]
  },
  {
   "cell_type": "code",
   "execution_count": 29,
   "metadata": {
    "ExecuteTime": {
     "end_time": "2021-11-01T11:32:39.161343Z",
     "start_time": "2021-11-01T11:32:39.157478Z"
    }
   },
   "outputs": [
    {
     "data": {
      "text/plain": [
       "((211986, 6), (119755, 21))"
      ]
     },
     "execution_count": 29,
     "metadata": {},
     "output_type": "execute_result"
    }
   ],
   "source": [
    "exportdata_of_interest.shape, entries.shape"
   ]
  },
  {
   "cell_type": "code",
   "execution_count": 30,
   "metadata": {
    "ExecuteTime": {
     "end_time": "2021-11-01T11:32:39.385372Z",
     "start_time": "2021-11-01T11:32:39.162682Z"
    }
   },
   "outputs": [],
   "source": [
    "entries_labeled = pd.merge(entries,\n",
    "                           exportdata_of_interest,\n",
    "                           how=\"inner\",\n",
    "                           left_on=\"id\",\n",
    "                           right_on=\"entry_id\",\n",
    "                           suffixes=('_entry', '_exportdata'))"
   ]
  },
  {
   "cell_type": "code",
   "execution_count": 31,
   "metadata": {
    "ExecuteTime": {
     "end_time": "2021-11-01T11:32:39.394966Z",
     "start_time": "2021-11-01T11:32:39.386796Z"
    }
   },
   "outputs": [
    {
     "data": {
      "text/plain": [
       "((152251,), (118816,))"
      ]
     },
     "execution_count": 31,
     "metadata": {},
     "output_type": "execute_result"
    }
   ],
   "source": [
    "entries_labeled[\"id_entry\"].shape, entries_labeled[\"id_entry\"].unique().shape"
   ]
  },
  {
   "cell_type": "code",
   "execution_count": 32,
   "metadata": {
    "ExecuteTime": {
     "end_time": "2021-11-01T11:32:39.399629Z",
     "start_time": "2021-11-01T11:32:39.396149Z"
    }
   },
   "outputs": [],
   "source": [
    "def agg_group(group):\n",
    "    tag_titles = group[\"tag_title\"]\n",
    "    tag_values = group[\"tag_value\"]\n",
    "    #\n",
    "    grouped = defaultdict(list)\n",
    "    for title, value in zip(tag_titles, tag_values):\n",
    "        if title in mat_1d_and_flag_titles:\n",
    "            grouped[\"Mat1D\"].extend(value)\n",
    "        elif title in mat2d_titles:\n",
    "            grouped[\"Mat2D\"].extend(value)\n",
    "    return grouped"
   ]
  },
  {
   "cell_type": "code",
   "execution_count": 33,
   "metadata": {
    "ExecuteTime": {
     "end_time": "2021-11-01T11:32:39.404603Z",
     "start_time": "2021-11-01T11:32:39.400923Z"
    }
   },
   "outputs": [
    {
     "data": {
      "text/plain": [
       "Index(['id_entry', 'created_at', 'modified_at', 'excerpt', 'image_raw',\n",
       "       'analysis_framework_id', 'created_by_id', 'lead_id', 'modified_by_id',\n",
       "       'entry_type', 'information_date', 'order', 'client_id', 'project_id',\n",
       "       'tabular_field_id', 'dropped_excerpt', 'highlight_hidden', 'verified',\n",
       "       'verification_last_changed_by_id', 'image_id', 'title', 'id_exportdata',\n",
       "       'data', 'entry_id', 'exportable_id', 'tag_title', 'tag_value'],\n",
       "      dtype='object')"
      ]
     },
     "execution_count": 33,
     "metadata": {},
     "output_type": "execute_result"
    }
   ],
   "source": [
    "entries_labeled.columns"
   ]
  },
  {
   "cell_type": "code",
   "execution_count": 34,
   "metadata": {
    "ExecuteTime": {
     "end_time": "2021-11-01T11:32:47.595653Z",
     "start_time": "2021-11-01T11:32:39.405922Z"
    },
    "scrolled": true
   },
   "outputs": [],
   "source": [
    "tags = entries_labeled.groupby(\"id_entry\").apply(agg_group)"
   ]
  },
  {
   "cell_type": "code",
   "execution_count": 35,
   "metadata": {
    "ExecuteTime": {
     "end_time": "2021-11-01T11:32:47.602498Z",
     "start_time": "2021-11-01T11:32:47.596650Z"
    }
   },
   "outputs": [],
   "source": [
    "entryids_tags = pd.DataFrame({\"entry_id\": tags.index, \"tags\": tags.values})"
   ]
  },
  {
   "cell_type": "code",
   "execution_count": 36,
   "metadata": {
    "ExecuteTime": {
     "end_time": "2021-11-01T11:32:47.606164Z",
     "start_time": "2021-11-01T11:32:47.603405Z"
    }
   },
   "outputs": [
    {
     "data": {
      "text/plain": [
       "(118816, 2)"
      ]
     },
     "execution_count": 36,
     "metadata": {},
     "output_type": "execute_result"
    }
   ],
   "source": [
    "entryids_tags.shape"
   ]
  },
  {
   "cell_type": "code",
   "execution_count": 37,
   "metadata": {
    "ExecuteTime": {
     "end_time": "2021-11-01T11:32:47.946852Z",
     "start_time": "2021-11-01T11:32:47.607056Z"
    }
   },
   "outputs": [
    {
     "name": "stdout",
     "output_type": "stream",
     "text": [
      "(119755, 21)\n",
      "(119755, 14)\n"
     ]
    }
   ],
   "source": [
    "entries_ = entries.rename({\"id\": \"entry_id\"}, axis=1, inplace=False)\n",
    "#\n",
    "print(entries.shape)\n",
    "#\n",
    "entries_ = entries_[[\n",
    "    'entry_id',\n",
    "    'created_at',\n",
    "    'modified_at',\n",
    "    'excerpt',\n",
    "    'entry_type',\n",
    "    'analysis_framework_id',\n",
    "    'created_by_id',\n",
    "    'lead_id',\n",
    "    'modified_by_id',\n",
    "    'information_date',\n",
    "    'order',\n",
    "    'project_id',\n",
    "    'title',\n",
    "    'verified',\n",
    "]].drop_duplicates()\n",
    "#\n",
    "print(entries_.shape)"
   ]
  },
  {
   "cell_type": "code",
   "execution_count": 38,
   "metadata": {
    "ExecuteTime": {
     "end_time": "2021-11-01T11:32:48.023853Z",
     "start_time": "2021-11-01T11:32:47.948153Z"
    }
   },
   "outputs": [
    {
     "data": {
      "text/plain": [
       "((118816, 15),\n",
       " Index(['entry_id', 'created_at', 'modified_at', 'excerpt', 'entry_type',\n",
       "        'analysis_framework_id', 'created_by_id', 'lead_id', 'modified_by_id',\n",
       "        'information_date', 'order', 'project_id', 'title', 'verified', 'tags'],\n",
       "       dtype='object'))"
      ]
     },
     "execution_count": 38,
     "metadata": {},
     "output_type": "execute_result"
    }
   ],
   "source": [
    "entries_labeled = pd.merge(entries_, entryids_tags, on=\"entry_id\", how=\"inner\")\n",
    "entries_labeled.shape, entries_labeled.columns"
   ]
  },
  {
   "cell_type": "code",
   "execution_count": 39,
   "metadata": {
    "ExecuteTime": {
     "end_time": "2021-11-01T11:32:48.459290Z",
     "start_time": "2021-11-01T11:32:48.025174Z"
    }
   },
   "outputs": [
    {
     "data": {
      "text/plain": [
       "0"
      ]
     },
     "execution_count": 39,
     "metadata": {},
     "output_type": "execute_result"
    }
   ],
   "source": [
    "entries_labeled[\"tags_str\"] = entries_labeled[\"tags\"].apply(str)\n",
    "entries_labeled.duplicated(subset=[\"entry_id\", \"tags_str\"]).sum()"
   ]
  },
  {
   "cell_type": "code",
   "execution_count": 40,
   "metadata": {
    "ExecuteTime": {
     "end_time": "2021-11-01T11:32:48.467134Z",
     "start_time": "2021-11-01T11:32:48.460353Z"
    }
   },
   "outputs": [
    {
     "data": {
      "text/plain": [
       "0"
      ]
     },
     "execution_count": 40,
     "metadata": {},
     "output_type": "execute_result"
    }
   ],
   "source": [
    "entries_labeled[\"entry_id\"].duplicated().sum()"
   ]
  },
  {
   "cell_type": "code",
   "execution_count": 41,
   "metadata": {
    "ExecuteTime": {
     "end_time": "2021-11-01T11:32:48.470650Z",
     "start_time": "2021-11-01T11:32:48.468069Z"
    }
   },
   "outputs": [
    {
     "data": {
      "text/plain": [
       "(118816, 16)"
      ]
     },
     "execution_count": 41,
     "metadata": {},
     "output_type": "execute_result"
    }
   ],
   "source": [
    "entries_labeled.shape"
   ]
  },
  {
   "cell_type": "code",
   "execution_count": 42,
   "metadata": {
    "ExecuteTime": {
     "end_time": "2021-11-01T11:32:48.480314Z",
     "start_time": "2021-11-01T11:32:48.471548Z"
    }
   },
   "outputs": [
    {
     "data": {
      "text/plain": [
       "0"
      ]
     },
     "execution_count": 42,
     "metadata": {},
     "output_type": "execute_result"
    }
   ],
   "source": [
    "entries_labeled[\"tags\"].isna().sum()"
   ]
  },
  {
   "cell_type": "code",
   "execution_count": 43,
   "metadata": {
    "ExecuteTime": {
     "end_time": "2021-11-01T11:32:48.671736Z",
     "start_time": "2021-11-01T11:32:48.481225Z"
    }
   },
   "outputs": [
    {
     "data": {
      "text/plain": [
       "((119755, 21), (117743,))"
      ]
     },
     "execution_count": 43,
     "metadata": {},
     "output_type": "execute_result"
    }
   ],
   "source": [
    "entries.shape, entries[~entries[\"excerpt\"].isna()][\"excerpt\"].unique().shape"
   ]
  },
  {
   "cell_type": "code",
   "execution_count": 44,
   "metadata": {
    "ExecuteTime": {
     "end_time": "2021-11-01T11:32:48.676211Z",
     "start_time": "2021-11-01T11:32:48.672907Z"
    }
   },
   "outputs": [
    {
     "data": {
      "text/plain": [
       "((118816, 16),\n",
       " Index(['entry_id', 'created_at', 'modified_at', 'excerpt', 'entry_type',\n",
       "        'analysis_framework_id', 'created_by_id', 'lead_id', 'modified_by_id',\n",
       "        'information_date', 'order', 'project_id', 'title', 'verified', 'tags',\n",
       "        'tags_str'],\n",
       "       dtype='object'))"
      ]
     },
     "execution_count": 44,
     "metadata": {},
     "output_type": "execute_result"
    }
   ],
   "source": [
    "entries_labeled.shape, entries_labeled.columns"
   ]
  },
  {
   "cell_type": "code",
   "execution_count": 45,
   "metadata": {
    "ExecuteTime": {
     "end_time": "2021-11-01T11:32:48.686538Z",
     "start_time": "2021-11-01T11:32:48.677387Z"
    }
   },
   "outputs": [],
   "source": [
    "def tags_to_pillars(x):\n",
    "    tags = x[0]\n",
    "    af_id = x[1]\n",
    "    pillars = []\n",
    "    for tag_key, tag_value in tags.items():\n",
    "        if tag_key != \"Mat2D\":\n",
    "            continue\n",
    "        if len(tag_value):\n",
    "            for t in tag_value:\n",
    "                if t[0] and t[1]:\n",
    "                    pillars.append(t[0].title().strip() + \"->\" +\n",
    "                                   t[1].title().strip())\n",
    "    return list(set(pillars))\n",
    "\n",
    "\n",
    "def tags_to_sectors(x):\n",
    "    tags = x[0]\n",
    "    af_id = x[1]\n",
    "    sectors = []\n",
    "    for tag_key, tag_value in tags.items():\n",
    "        if tag_key != \"Mat2D\":\n",
    "            continue\n",
    "        if len(tag_value):\n",
    "            for t in tag_value:\n",
    "                if len(t) > 2 and t[2]:\n",
    "                    sectors.append(t[2].title().strip())\n",
    "    return list(set(sectors))\n",
    "\n",
    "\n",
    "def tags_to_subsectors(x):\n",
    "    tags = x[0]\n",
    "    af_id = x[1]\n",
    "    subsectors = []\n",
    "    for tag_key, tag_value in tags.items():\n",
    "        if tag_key != \"Mat2D\":\n",
    "            continue\n",
    "        if len(tag_value):\n",
    "            subsectors = []\n",
    "            for t in tag_value:\n",
    "                if len(t) > 3 and t[3]:\n",
    "                    if isinstance(t[3], list):\n",
    "                        subsectors.extend([x.title().strip() for x in t[3]])\n",
    "                    else:\n",
    "                        subsectors.append(t[3].title().strip())\n",
    "    return list(set(subsectors))\n",
    "\n",
    "\n",
    "##\n",
    "def tags_to_label2d(x):\n",
    "    tags = x[0]\n",
    "    af_id = x[1]\n",
    "    label2d = []\n",
    "    for tag_key, tag_value in tags.items():\n",
    "        if tag_key != \"Mat2D\":\n",
    "            continue\n",
    "        if len(tag_value):\n",
    "            for t in tag_value:\n",
    "                if t[0] and t[1]:\n",
    "                    label2d.append(\"AF-ID:\" + str(af_id) + \"->Sector:\" +\n",
    "                                   t[2].title().strip() + \"->Pillar:\" +\n",
    "                                   t[0].title().strip() + \"->Sub-pillar:\" +\n",
    "                                   t[1].title().strip())\n",
    "    return list(set(label2d))\n",
    "\n",
    "\n",
    "##\n",
    "def tags_to_pillars_1d(x):\n",
    "    tags = x[0]\n",
    "    af_id = x[1]\n",
    "    pillars_1d = []\n",
    "    for tag_key, tag_value in tags.items():\n",
    "        if tag_key != \"Mat1D\":\n",
    "            continue\n",
    "        if len(tag_value):\n",
    "            for t in tag_value:\n",
    "                if t[0] and t[1]:\n",
    "                    pillars_1d.append(t[0].title().strip() + \"->\" +\n",
    "                                      t[1].title().strip())\n",
    "    return list(set(pillars_1d))"
   ]
  },
  {
   "cell_type": "code",
   "execution_count": 46,
   "metadata": {
    "ExecuteTime": {
     "end_time": "2021-11-01T11:32:54.301106Z",
     "start_time": "2021-11-01T11:32:48.687494Z"
    },
    "scrolled": true
   },
   "outputs": [],
   "source": [
    "entries_labeled[\"pillars\"] = entries_labeled[[\"tags\", 'analysis_framework_id'\n",
    "                                              ]].apply(tags_to_pillars, axis=1)\n",
    "entries_labeled[\"sectors\"] = entries_labeled[[\"tags\", 'analysis_framework_id'\n",
    "                                              ]].apply(tags_to_sectors, axis=1)\n",
    "entries_labeled[\"subsectors\"] = entries_labeled[[\n",
    "    \"tags\", 'analysis_framework_id'\n",
    "]].apply(tags_to_subsectors, axis=1)\n",
    "##\n",
    "entries_labeled[\"label_2d\"] = entries_labeled[[\n",
    "    \"tags\", 'analysis_framework_id'\n",
    "]].apply(tags_to_label2d, axis=1)\n",
    "##\n",
    "entries_labeled[\"pillars_1d\"] = entries_labeled[[\"tags\", 'analysis_framework_id'\n",
    "                                              ]].apply(tags_to_pillars_1d, axis=1)"
   ]
  },
  {
   "cell_type": "code",
   "execution_count": 47,
   "metadata": {
    "ExecuteTime": {
     "end_time": "2021-11-01T11:32:54.551467Z",
     "start_time": "2021-11-01T11:32:54.302192Z"
    }
   },
   "outputs": [
    {
     "data": {
      "text/plain": [
       "(116857,)"
      ]
     },
     "execution_count": 47,
     "metadata": {},
     "output_type": "execute_result"
    }
   ],
   "source": [
    "entries_labeled[~entries_labeled[\"excerpt\"].isna()][\"excerpt\"].unique().shape"
   ]
  },
  {
   "cell_type": "code",
   "execution_count": 48,
   "metadata": {
    "ExecuteTime": {
     "end_time": "2021-11-01T11:32:54.596199Z",
     "start_time": "2021-11-01T11:32:54.552536Z"
    }
   },
   "outputs": [
    {
     "data": {
      "text/plain": [
       "(111,\n",
       " [('Covid-19 Overview->Cases', 5549),\n",
       "  ('Humanitarian Profile->Affected Groups', 4194),\n",
       "  ('Displacement->Type/Numbers/Movements', 3960),\n",
       "  ('Context->Security & Stability', 3846),\n",
       "  ('Context->Economy', 3340),\n",
       "  ('Casualties->Dead', 3216),\n",
       "  ('Context->Security', 3169),\n",
       "  ('Covid-19 Overview->Deaths', 3122),\n",
       "  ('Covid-19 Overview->Vaccination', 2791),\n",
       "  ('Displacement->Displacement', 2778),\n",
       "  ('Covid-19 Containment Measures->Public Health Measures', 2256),\n",
       "  ('Humanitarian Profile->Casualties', 2020),\n",
       "  ('Context->Demography', 1877),\n",
       "  ('Displacement->Local Integration', 1863),\n",
       "  ('Context->Legal Or Normative Framework', 1828),\n",
       "  ('Flag->Hazard & Threats', 1824),\n",
       "  ('Humanitarian Access->Physical Constraints', 1797),\n",
       "  ('Displacement->Push Factors', 1736),\n",
       "  ('Covid-19 Overview->Testing', 1629),\n",
       "  ('Context->Politics', 1466),\n",
       "  ('Covid-19 Containment Measures->Movement Restrictions', 1256),\n",
       "  ('Humanitarian Profile->Population Movement', 1192),\n",
       "  ('Humanitarian Profile->Push/Pull Factors', 1135),\n",
       "  ('Flag->Overview', 1051),\n",
       "  ('Humanitarian Access->Relief To Beneficiaries', 918),\n",
       "  ('Context->Demographics', 907),\n",
       "  ('Context->Environment', 896),\n",
       "  ('Covid-19 Containment Measures->Physical Distancing', 868),\n",
       "  ('Displacement Profile->Type/Numbers', 849),\n",
       "  ('Covid-19 Communication & Information->Channels & Means', 839),\n",
       "  ('Covid-19 Communication & Information->Prevention Campaigns', 796),\n",
       "  ('Shock /Event/Ongoing Conditions->Type And Characteristics', 782),\n",
       "  ('Durable Solutions->Local Integration', 774),\n",
       "  ('Context->Socio Cultural', 772),\n",
       "  ('Covid-19 Communication & Information->Knowledge & Misinformation', 753),\n",
       "  ('Flag->Response Gap', 751),\n",
       "  ('Flag->Stakeholders', 740),\n",
       "  ('Population Profile->Population With Specific Needs', 666),\n",
       "  ('Casualties->Injured', 665),\n",
       "  ('Covid-19 Overview->Contact Tracing', 627),\n",
       "  ('Context->Legal & Policy', 594),\n",
       "  ('Context->Economic', 575),\n",
       "  ('Covid-19 Containment Measures->Lockdown', 574),\n",
       "  ('Flag->Key Event', 572),\n",
       "  ('Event/Shock->Aggravating Factors', 536),\n",
       "  ('Displacement->Push/Pull Factors', 520),\n",
       "  ('Covid-19 Overview->Hospitalization & Care', 518),\n",
       "  ('Humanitarian Access->Humanitarian Access Gaps', 512),\n",
       "  ('Displacement->Intentions', 511),\n",
       "  ('Population Profile->Demographic Profile', 493),\n",
       "  ('Context->Political', 478),\n",
       "  ('Context->Overview', 434),\n",
       "  ('Event/Shock->Underlying Factors/Pre-Existing Vulnerabilities', 424),\n",
       "  ('Flag->Information Gaps', 404),\n",
       "  ('Context->Risk', 397),\n",
       "  ('Displacement Profile->Movement', 382),\n",
       "  ('Shock /Event/Ongoing Conditions->Aggravating Factors', 334),\n",
       "  ('Context->Socio-Cultural', 330),\n",
       "  ('Displacement->Pull Factors', 325),\n",
       "  ('Displacement Profile->Push Factors', 322),\n",
       "  ('Event/Shock->Shock/Driver', 308),\n",
       "  ('Covid-19 Overview->Research & Outlook', 288),\n",
       "  ('Displacement->Affected Groups', 285),\n",
       "  ('Casualties->Missing', 273),\n",
       "  ('Event/Shock->Type And Characteristics', 247),\n",
       "  ('Humanitarian Profile->Casualties Or Injured', 242),\n",
       "  ('Context->Stakeholders', 238),\n",
       "  ('Covid-19 Containment Measures->Compliance & Resistance To Measures', 228),\n",
       "  ('Information->Information Needs & Gaps', 207),\n",
       "  ('Covid-19 Communication & Information->Challenges & Barriers', 186),\n",
       "  ('Context->Key Events', 166),\n",
       "  ('Humanitarian Access->Beneficiaries To Relief', 165),\n",
       "  ('Flag->Lessons Learnt', 151),\n",
       "  ('Context->Hazard Developments', 117),\n",
       "  ('Displacement->Casualties', 116),\n",
       "  ('Context->Legal  & Policy', 111),\n",
       "  ('Event/Shock->Pre-Existing Vulnerabilities', 101),\n",
       "  ('Communication->Information Gaps', 92),\n",
       "  ('Event/Shock->Hazard And Threats', 92),\n",
       "  ('Context->Society And Community', 84),\n",
       "  ('Durable Solutions->Voluntary Repatriation', 83),\n",
       "  ('Information->Communication Means & Channels', 81),\n",
       "  ('Information->Information Challenges', 80),\n",
       "  ('Communication->Communication Means', 68),\n",
       "  ('Information And Communication->Knoweldge And Info Needs', 65),\n",
       "  ('Humanitarian Access->Pin To Relief', 65),\n",
       "  ('Context->Legal/Policy', 57),\n",
       "  ('Humanitarian Access->Relief To Pin', 57),\n",
       "  ('Information And Communication->Info Barriers And Challenges', 53),\n",
       "  ('Information And Communication->Info And Comm Means', 49),\n",
       "  ('Event/Schock->Aggravating Factors', 41),\n",
       "  ('Population Profile->Economic Profile', 36),\n",
       "  ('Communication->Information Needs', 33),\n",
       "  ('Communication->Information Challenges', 28),\n",
       "  ('Information->Communication Means', 27),\n",
       "  ('Information->Information Gaps', 25),\n",
       "  ('Displacement Profile->Pull Factors', 22),\n",
       "  ('Flag->Hazard/Threats/Risk', 19),\n",
       "  ('Durable Solutions->Resettlement', 19),\n",
       "  ('Population Profile->Social Profile', 17),\n",
       "  ('Shock /Event/Ongoing Conditions->Mtitigating Factors', 13),\n",
       "  ('Information->Information Needs', 9),\n",
       "  ('Context->Stakeholder', 7),\n",
       "  ('Displacement Profile->Local Integration', 7),\n",
       "  ('Event/Schock->Type And Characteristics', 6),\n",
       "  ('Event/Shock->Mitigating Factors', 3),\n",
       "  ('Displacement Profile->Intentions', 3),\n",
       "  ('Shock And Event->Type And Characteristics', 3),\n",
       "  ('Context->Hazard Development', 2),\n",
       "  ('Shock And Event->Aggravating Factors', 1),\n",
       "  ('Humanitarian Access->Numb Of People Facing Access Constraints', 1)])"
      ]
     },
     "execution_count": 48,
     "metadata": {},
     "output_type": "execute_result"
    }
   ],
   "source": [
    "pills_unique_1d = set()\n",
    "pills_occurances_1d = list()\n",
    "for pills_1d in entries_labeled[\"pillars_1d\"]:\n",
    "    pills_unique_1d.update(pills_1d)\n",
    "    pills_occurances_1d.extend(pills_1d)\n",
    "len(pills_unique_1d), Counter(pills_occurances_1d).most_common()"
   ]
  },
  {
   "cell_type": "code",
   "execution_count": 49,
   "metadata": {
    "ExecuteTime": {
     "end_time": "2021-11-01T11:32:54.651999Z",
     "start_time": "2021-11-01T11:32:54.597336Z"
    },
    "scrolled": true
   },
   "outputs": [
    {
     "data": {
      "text/plain": [
       "[('Humanitarian Conditions->Living Standards', 26611),\n",
       " ('Humanitarian Conditions->Physical & Mental Wellbeing', 12287),\n",
       " ('Impact->Impact On People', 9752),\n",
       " ('Impact->Drivers/Aggravating Factors', 9583),\n",
       " ('Impact->Impact On System & Services', 9084),\n",
       " ('At Risk->People At Risk / Vulnerable', 5183),\n",
       " ('Capacities & Response->International', 4629),\n",
       " ('Humanitarian Conditions->Coping Mechanisms', 4295),\n",
       " ('Response And Capacities->National And Local', 3646),\n",
       " ('Humanitarian Conditions->Risks & Vulnerabilities', 2723),\n",
       " ('Humanitarian Conditions->Physical And Mental Well-Being', 2521),\n",
       " ('Impact->Number Of People Affected', 2277),\n",
       " ('Priorities->Priority Interventions (Staff)', 2269),\n",
       " ('Scope & Scale->Drivers/Aggravating Factors', 2239),\n",
       " ('Capacities And Response->International Response', 2171),\n",
       " ('Scope & Scale->System Disruption', 2126),\n",
       " ('Capacities & Response->Number Of People Reached', 2101),\n",
       " ('Response And Capacities->International', 2066),\n",
       " ('Risks->People At Risk Or Vulnerable', 1662),\n",
       " ('Scope & Scale->Damages & Losses', 1662),\n",
       " ('Priorities->Priority Needs (Staff)', 1565),\n",
       " ('Capacities & Response->Government & Local Authorities', 1487),\n",
       " ('Capacities & Response->National & Local Actors', 1408),\n",
       " ('Impact->Drivers', 1344),\n",
       " ('Humanitarian Conditions->1St Level Outcome', 1262),\n",
       " ('Humanitarian Conditions->Risks &  New Or Aggravated Vulnerabilities (Do Not Tag)',\n",
       "  1147),\n",
       " ('Humanitarian Conditions->Unmet Needs', 1141),\n",
       " ('Humanitarian Conditions->Number Of People In Need', 1117),\n",
       " ('Impact->Status Of Essential Infrastructure, Systems, Markets And Networks',\n",
       "  849),\n",
       " ('Priorities->Priority Needs (Pop)', 842),\n",
       " ('Humanitarian Conditions->Vulnerabilities, Specific Needs And Risks', 727),\n",
       " ('Impact->Drivers And Aggravating Factors', 710),\n",
       " ('Scope And Scale->Systems Disruption', 647),\n",
       " ('Humanitarian Conditions->2Nd Level Outcome', 630),\n",
       " ('Humanitarian Conditions->Number Of People In Need And Priorities', 628),\n",
       " ('Impact->Impact On Systems And Services', 616),\n",
       " ('Humanitarian Conditions->Impact On Accessibility, Availability, Quality, Use And Awareness Of Goods And Services',\n",
       "  609),\n",
       " ('Humanitarian Conditions->Risks', 576),\n",
       " ('Humanitarian Conditions->People At Risk / Vulnerable', 564),\n",
       " ('Capacities And Response->National Response', 557),\n",
       " ('Scope And Scale->Damage', 557),\n",
       " ('Priorities->Prioritiy Issues (Pop)', 519),\n",
       " ('Humanitarian Conditions->Humanitarian Conditions', 479),\n",
       " ('Humanitarian Conditions->People With Specific Needs', 456),\n",
       " ('Humanitarian Conditions->Impact On Physical And Mental Wellbeing', 414),\n",
       " ('Humanitarian Conditions->Persons/Groups With Specific Needs', 394),\n",
       " ('Scope And Scale->Drivers/Aggravating Factors', 374),\n",
       " ('Impact->Damages & Losses', 350),\n",
       " ('Response And Capacities->Community Perceived Priorities', 314),\n",
       " ('Humanitarian Conditions->Number Of People At Risk (Do Not Tag)', 284),\n",
       " ('Priorities->Priority Interventions (Pop)', 281),\n",
       " ('Humanitarian Conditions->Vulnerabilities', 269),\n",
       " ('Capacities & Response->International Actors', 265),\n",
       " ('Response And Capacities->Community', 260),\n",
       " ('Scope And Scale->System Disruption', 254),\n",
       " ('Humanitarian Conditions->People In Need', 240),\n",
       " ('Capacities & Response->System Functionality', 218),\n",
       " ('Capacities And Response->National Response Capacity', 215),\n",
       " ('Capacities & Response->Response Gaps', 207),\n",
       " ('Capacities & Response->National Actors', 184),\n",
       " ('Capacities & Response->Government And Local Authorities', 164),\n",
       " ('Capacities And Response->Coping Mechanisms', 153),\n",
       " ('Capacities & Response->Rcrc Movement', 152),\n",
       " ('Priorities->Prioritiy Issues (Hum. Staff)', 142),\n",
       " ('Capacities & Response->Government', 128),\n",
       " ('Scope And Scale->Drivers/ Aggravating Factors', 105),\n",
       " ('Scope & Scale->People Affected', 100),\n",
       " ('Capacities And Response->National Society Capacity', 66),\n",
       " ('Scope And Scale->Losses', 62),\n",
       " ('Capacities & Response->Lngo', 61),\n",
       " ('Priorities->Recommended Interventions (Hum. Staff)', 52),\n",
       " ('Capacities And Response->Response Gaps', 35),\n",
       " ('Capacities And Response->Market Functionality', 18),\n",
       " ('Priorities->Preferred Response (Pop)', 9),\n",
       " ('Priorities->Priority Problems (Pop)', 8),\n",
       " ('Humanitarian Conditions->Lessons Learnt', 4),\n",
       " ('Capacities & Response->National', 4),\n",
       " ('Priorities->As Expressed By Experts', 3),\n",
       " ('Humanitarian Conditions->Access To Basic Services Or Goods', 3),\n",
       " ('Scope And Scale->Lessons Learnt', 2),\n",
       " ('Capacities And Response->Systems Functionality', 2),\n",
       " ('Humanitarian Conditions->Risks/Vulnerabilities', 2),\n",
       " ('Scope & Scale->Number Of People Affected', 2),\n",
       " ('Humanitarian Conditions->Specific Needs', 1),\n",
       " ('Humanitarian Conditions->Risks &  New Or Aggravated Vulnerabilities', 1),\n",
       " ('Scope & Scale->Lessons Learnt', 1)]"
      ]
     },
     "execution_count": 49,
     "metadata": {},
     "output_type": "execute_result"
    }
   ],
   "source": [
    "pills_unique = set()\n",
    "pills_occurances = list()\n",
    "for pills in entries_labeled[\"pillars\"]:\n",
    "    pills_unique.update(pills)\n",
    "    pills_occurances.extend(pills)\n",
    "Counter(pills_occurances).most_common()"
   ]
  },
  {
   "cell_type": "code",
   "execution_count": 50,
   "metadata": {
    "ExecuteTime": {
     "end_time": "2021-11-01T11:32:54.697854Z",
     "start_time": "2021-11-01T11:32:54.652977Z"
    }
   },
   "outputs": [
    {
     "data": {
      "text/plain": [
       "[('Health', 26283),\n",
       " ('Protection', 21298),\n",
       " ('Livelihoods', 12582),\n",
       " ('Cross', 11531),\n",
       " ('Food Security', 8593),\n",
       " ('Wash', 8328),\n",
       " ('Shelter', 7902),\n",
       " ('Education', 7364),\n",
       " ('Nutrition', 3325),\n",
       " ('Agriculture', 3159),\n",
       " ('Food', 2757),\n",
       " ('Cross-Sector', 2629),\n",
       " ('Logistics', 2614),\n",
       " ('Cross Cutting', 678),\n",
       " ('Nfi', 611),\n",
       " ('Logistic', 248),\n",
       " ('Livelihood', 132)]"
      ]
     },
     "execution_count": 50,
     "metadata": {},
     "output_type": "execute_result"
    }
   ],
   "source": [
    "secs_unique = set()\n",
    "secs_occurances = list()\n",
    "for secs in entries_labeled[\"sectors\"]:\n",
    "    secs_unique.update(secs)\n",
    "    secs_occurances.extend(secs)\n",
    "#secs_unique\n",
    "Counter(secs_occurances).most_common()"
   ]
  },
  {
   "cell_type": "code",
   "execution_count": 51,
   "metadata": {
    "ExecuteTime": {
     "end_time": "2021-11-01T11:32:54.702407Z",
     "start_time": "2021-11-01T11:32:54.698809Z"
    }
   },
   "outputs": [
    {
     "data": {
      "text/plain": [
       "Index(['entry_id', 'created_at', 'modified_at', 'excerpt', 'entry_type',\n",
       "       'analysis_framework_id', 'created_by_id', 'lead_id', 'modified_by_id',\n",
       "       'information_date', 'order', 'project_id', 'title', 'verified', 'tags',\n",
       "       'tags_str', 'pillars', 'sectors', 'subsectors', 'label_2d',\n",
       "       'pillars_1d'],\n",
       "      dtype='object')"
      ]
     },
     "execution_count": 51,
     "metadata": {},
     "output_type": "execute_result"
    }
   ],
   "source": [
    "entries_labeled.columns"
   ]
  },
  {
   "cell_type": "code",
   "execution_count": 52,
   "metadata": {
    "ExecuteTime": {
     "end_time": "2021-11-01T11:32:54.742803Z",
     "start_time": "2021-11-01T11:32:54.703307Z"
    }
   },
   "outputs": [
    {
     "data": {
      "text/plain": [
       "(118816, 21)"
      ]
     },
     "execution_count": 52,
     "metadata": {},
     "output_type": "execute_result"
    }
   ],
   "source": [
    "final_df = entries_labeled[entries_labeled[\"entry_type\"].eq(\"excerpt\")\n",
    "                           & (~entries_labeled[\"excerpt\"].isna())]\n",
    "final_df.shape"
   ]
  },
  {
   "cell_type": "code",
   "execution_count": 53,
   "metadata": {
    "ExecuteTime": {
     "end_time": "2021-11-01T11:32:57.436022Z",
     "start_time": "2021-11-01T11:32:54.744012Z"
    },
    "scrolled": true
   },
   "outputs": [
    {
     "data": {
      "text/plain": [
       "((116744, 21), 0)"
      ]
     },
     "execution_count": 53,
     "metadata": {},
     "output_type": "execute_result"
    }
   ],
   "source": [
    "def remove_newlines(excerpt):\n",
    "    if not isinstance(excerpt, str):\n",
    "        return excerpt\n",
    "    return re.sub(\"\\s+\", \" \", excerpt)\n",
    "\n",
    "final_df.loc[:, 'excerpt'] = final_df['excerpt'].apply(remove_newlines)\n",
    "#final_df.loc[:, 'dropped_excerpt'] = final_df['dropped_excerpt'].apply(remove_newlines)\n",
    "##\n",
    "final_df = final_df.sort_values(\"verified\").reset_index(drop=True).drop_duplicates(subset='excerpt', keep=\"last\")\n",
    "final_df.shape, final_df.duplicated(subset=\"excerpt\").sum()"
   ]
  },
  {
   "cell_type": "code",
   "execution_count": 54,
   "metadata": {
    "ExecuteTime": {
     "end_time": "2021-11-01T11:32:57.440013Z",
     "start_time": "2021-11-01T11:32:57.437174Z"
    }
   },
   "outputs": [],
   "source": [
    "sector_name_mapper = {\n",
    "    \"Agriculture\": \"Agriculture\",\n",
    "    \"Cccm\": \"Nan\",\n",
    "    \"Cross\": \"Cross\",\n",
    "    \"Cross Cutting\": \"Cross\",\n",
    "    \"Cross-Sector\": \"Cross\",\n",
    "    \"Education\": \"Education\",\n",
    "    \"Food\": \"Food Security\",\n",
    "    \"Food Security\": \"Food Security\",\n",
    "    \"Nutrition\": \"Nutrition\",\n",
    "    \"Health\": \"Health\",\n",
    "    \"Livelihood\": \"Livelihoods\",\n",
    "    \"Livelihoods\": \"Livelihoods\",\n",
    "    \"Logistic\": \"Logistics\",\n",
    "    \"Logistics\": \"Logistics\",\n",
    "    \"Protection\": \"Protection\",\n",
    "    \"Shelter\": \"Shelter\",\n",
    "    \"Shelter And Nfis\": \"Shelter\",\n",
    "    \"Nfi\": \"Nan\",\n",
    "    \"Wash\": \"WASH\",\n",
    "}"
   ]
  },
  {
   "cell_type": "code",
   "execution_count": 55,
   "metadata": {
    "ExecuteTime": {
     "end_time": "2021-11-01T11:32:57.453177Z",
     "start_time": "2021-11-01T11:32:57.440937Z"
    }
   },
   "outputs": [],
   "source": [
    "af_title_to_id = dict()\n",
    "for afid, title in zip(afs[\"id\"], afs[\"title\"]):\n",
    "    af_title_to_id[\"title\"] = afid"
   ]
  },
  {
   "cell_type": "code",
   "execution_count": 56,
   "metadata": {
    "ExecuteTime": {
     "end_time": "2021-11-01T11:32:57.459344Z",
     "start_time": "2021-11-01T11:32:57.454265Z"
    }
   },
   "outputs": [
    {
     "name": "stderr",
     "output_type": "stream",
     "text": [
      "/tmp/ipykernel_32054/3501500923.py:2: SettingWithCopyWarning: \n",
      "A value is trying to be set on a copy of a slice from a DataFrame.\n",
      "Try using .loc[row_indexer,col_indexer] = value instead\n",
      "\n",
      "See the caveats in the documentation: https://pandas.pydata.org/pandas-docs/stable/user_guide/indexing.html#returning-a-view-versus-a-copy\n",
      "  af_id_title[\"title\"] = af_id_title[\"title\"].str.title()\n"
     ]
    }
   ],
   "source": [
    "af_id_title = afs[[\"id\", \"title\"]]\n",
    "af_id_title[\"title\"] = af_id_title[\"title\"].str.title()"
   ]
  },
  {
   "cell_type": "code",
   "execution_count": 57,
   "metadata": {
    "ExecuteTime": {
     "end_time": "2021-11-01T11:32:57.463237Z",
     "start_time": "2021-11-01T11:32:57.460391Z"
    }
   },
   "outputs": [],
   "source": [
    "mapping[\"Framework Title\"] = mapping[\"Framework Title\"].str.title()"
   ]
  },
  {
   "cell_type": "code",
   "execution_count": 58,
   "metadata": {
    "ExecuteTime": {
     "end_time": "2021-11-01T11:32:57.466354Z",
     "start_time": "2021-11-01T11:32:57.464406Z"
    }
   },
   "outputs": [],
   "source": [
    "af_id_title.columns = [\"analysis_framework_id\", \"Framework Name\"]"
   ]
  },
  {
   "cell_type": "code",
   "execution_count": 59,
   "metadata": {
    "ExecuteTime": {
     "end_time": "2021-11-01T11:32:57.471181Z",
     "start_time": "2021-11-01T11:32:57.467294Z"
    }
   },
   "outputs": [],
   "source": [
    "mapping = pd.merge(mapping,\n",
    "                    af_id_title,\n",
    "                    how=\"left\",\n",
    "                    left_on=\"Framework Title\",\n",
    "                    right_on=\"Framework Name\")"
   ]
  },
  {
   "cell_type": "code",
   "execution_count": 60,
   "metadata": {
    "ExecuteTime": {
     "end_time": "2021-11-01T11:32:57.474732Z",
     "start_time": "2021-11-01T11:32:57.472169Z"
    }
   },
   "outputs": [
    {
     "data": {
      "text/plain": [
       "Index(['Framework Title', 'Type', 'Pillar', 'Sub-pillar', 'Virtual Type',\n",
       "       'Virtual Pillar', 'Virtual Sub-pillar', 'First-pass', 'Verified',\n",
       "       'Reversible', 'Cover', 'analysis_framework_id', 'Framework Name'],\n",
       "      dtype='object')"
      ]
     },
     "execution_count": 60,
     "metadata": {},
     "output_type": "execute_result"
    }
   ],
   "source": [
    "mapping.columns"
   ]
  },
  {
   "cell_type": "code",
   "execution_count": 61,
   "metadata": {
    "ExecuteTime": {
     "end_time": "2021-11-01T11:32:57.483212Z",
     "start_time": "2021-11-01T11:32:57.475672Z"
    },
    "scrolled": true
   },
   "outputs": [],
   "source": [
    "mapping.drop([\"Framework Name\"], axis=1, inplace=True)\n",
    "for col in mapping.columns[1:7]:\n",
    "    mapping[col] = mapping[col].astype(str).str.title()"
   ]
  },
  {
   "cell_type": "code",
   "execution_count": 62,
   "metadata": {
    "ExecuteTime": {
     "end_time": "2021-11-01T11:32:57.489530Z",
     "start_time": "2021-11-01T11:32:57.484222Z"
    }
   },
   "outputs": [],
   "source": [
    "mapping[\"Pillar\"] = mapping[\"Pillar\"].apply(lambda x: x.strip().title())\n",
    "mapping[\"Sub-pillar\"] = mapping[\"Sub-pillar\"].apply(\n",
    "    lambda x: x.strip().title())\n",
    "mapping[\"Final Pillar Name\"] = mapping[\"Virtual Pillar\"].apply(\n",
    "    lambda x: x.strip().title())\n",
    "mapping[\"Final Sub-pillar Name\"] = mapping[\"Virtual Sub-pillar\"].apply(\n",
    "    lambda x: x.strip().title())"
   ]
  },
  {
   "cell_type": "code",
   "execution_count": 63,
   "metadata": {
    "ExecuteTime": {
     "end_time": "2021-11-01T11:32:57.495675Z",
     "start_time": "2021-11-01T11:32:57.490496Z"
    }
   },
   "outputs": [],
   "source": [
    "mapping[\"original_pillar\"] = mapping[\"Pillar\"] + \"->\" + mapping[\"Sub-pillar\"]\n",
    "mapping[\n",
    "    \"original_subpillar\"] = mapping[\"Pillar\"] + \"->\" + mapping[\"Sub-pillar\"]\n",
    "##\n",
    "mapping[\"target_pillar\"] = mapping[\"Final Pillar Name\"]\n",
    "mapping[\"target_subpillar\"] = mapping[\"Final Pillar Name\"] + \"->\" + mapping[\n",
    "    \"Final Sub-pillar Name\"]"
   ]
  },
  {
   "cell_type": "code",
   "execution_count": 64,
   "metadata": {
    "ExecuteTime": {
     "end_time": "2021-11-01T11:32:57.499713Z",
     "start_time": "2021-11-01T11:32:57.496598Z"
    }
   },
   "outputs": [],
   "source": [
    "pillar_name_mapper = dict()\n",
    "subpillar_name_mapper = dict()\n",
    "for pillar, fpillar, subpillar, fsubpillar, af_id, vtype in zip(\n",
    "        mapping[\"original_pillar\"], mapping[\"target_pillar\"],\n",
    "        mapping[\"original_subpillar\"], mapping[\"target_subpillar\"],\n",
    "        mapping[\"analysis_framework_id\"], mapping[\"Virtual Type\"]):\n",
    "    pillar_name_mapper[pillar] = f\"{vtype}->{fpillar}\"\n",
    "    subpillar_name_mapper[subpillar] = f\"{vtype}->{fsubpillar}\""
   ]
  },
  {
   "cell_type": "code",
   "execution_count": 65,
   "metadata": {
    "ExecuteTime": {
     "end_time": "2021-11-01T11:32:57.506700Z",
     "start_time": "2021-11-01T11:32:57.500718Z"
    }
   },
   "outputs": [
    {
     "data": {
      "text/plain": [
       "{'Context->Environment': '1D->Context->Environment',\n",
       " 'Context->Socio Cultural': '1D->Context->Socio Cultural',\n",
       " 'Context->Economy': '1D->Context->Economy',\n",
       " 'Context->Demography': '1D->Context->Demography',\n",
       " 'Context->Legal/Policy': '1D->Context->Legal & Policy',\n",
       " 'Context->Security': '1D->Context->Security & Stability',\n",
       " 'Context->Politics': '1D->Context->Politics',\n",
       " 'Shock And Event->Type And Characteristics': '1D->Shock/Event->Type And Characteristics',\n",
       " 'Shock And Event->Aggravating Factors': '1D->Shock/Event->Underlying/Aggravating Factors',\n",
       " 'Displacement Profile->Type/Numbers': '1D->Displacement->Type/Numbers/Movements',\n",
       " 'Displacement Profile->Movement': '1D->Displacement->Type/Numbers/Movements',\n",
       " 'Displacement Profile->Push Factors': '1D->Displacement->Push Factors',\n",
       " 'Displacement Profile->Pull Factors': '1D->Displacement->Pull Factors',\n",
       " 'Displacement Profile->Intentions': '1D->Displacement->Intentions',\n",
       " 'Displacement Profile->Local Integration': '1D->Displacement->Local Integration',\n",
       " 'Casualties->Injured': '1D->Casualties->Injured',\n",
       " 'Casualties->Missing': '1D->Casualties->Missing',\n",
       " 'Casualties->Dead': '1D->Casualties->Dead',\n",
       " 'Humanitarian Access->Relief To Beneficiaries': '1D->Humanitarian Access->Relief To Population',\n",
       " 'Humanitarian Access->Beneficiaries To Relief': '1D->Humanitarian Access->Population To Relief',\n",
       " 'Humanitarian Access->Physical Constraints': '1D->Humanitarian Access->Physical Constraints',\n",
       " 'Humanitarian Access->Humanitarian Access Gaps': '1D->Humanitarian Access->Number Of People Facing Humanitarian Access Constraints/Humanitarian Access Gaps',\n",
       " 'Information->Communication Means': '1D->Information And Communication->Communication Means And Preferences',\n",
       " 'Information->Information Challenges': '1D->Information And Communication->Information Challenges And Barriers',\n",
       " 'Information->Information Needs': '1D->Information And Communication->Knowledge And Info Gaps (Pop)',\n",
       " 'Information->Information Gaps': '1D->Information And Communication->Knowledge And Info Gaps (Hum)',\n",
       " 'Scope & Scale->Drivers/Aggravating Factors': '2D->Impact->Driver/Aggravating Factors',\n",
       " 'Scope & Scale->System Disruption': '2D->Impact->Impact On Systems, Services And Networks',\n",
       " 'Scope & Scale->Damages & Losses': 'Nan->Nan->Nan',\n",
       " 'Scope & Scale->People Affected': '2D->Impact->Number Of People Affected',\n",
       " 'Humanitarian Conditions->Living Standards': '2D->Humanitarian Conditions->Living Standards',\n",
       " 'Humanitarian Conditions->Coping Mechanisms': '2D->Humanitarian Conditions->Coping Mechanisms',\n",
       " 'Humanitarian Conditions->Physical & Mental Wellbeing': '2D->Humanitarian Conditions->Physical And Mental Well Being',\n",
       " 'Humanitarian Conditions->People At Risk / Vulnerable': '2D->At Risk->Risk And Vulnerabilities',\n",
       " 'Humanitarian Conditions->People In Need': '2D->Humanitarian Conditions->Number Of People In Need',\n",
       " 'Priorities->Priority Problems (Pop)': '2D->Priority Needs->Expressed By Population',\n",
       " 'Priorities->Priority Problems (Staff)': '2D->Priority Needs->Expressed By Humanitarian Staff',\n",
       " 'Priorities->Priority Interventions (Pop)': '2D->Priority Interventions->Expressed By Population',\n",
       " 'Priorities->Priority Interventions (Staff)': '2D->Priority Interventions->Expressed By Humanitarian Staff',\n",
       " 'Capacities & Response->System Functionality': '2D->Impact->Impact On Systems, Services And Networks',\n",
       " 'Capacities & Response->National': '2D->Capacities & Response->National Response',\n",
       " 'Capacities & Response->International': '2D->Capacities & Response->International Response',\n",
       " 'Capacities & Response->People Reached': '2D->Capacities & Response->Number Of People Reached/Response Gaps',\n",
       " 'Flag->Key Event': 'Nan->Nan->Nan',\n",
       " 'Flag->Hazard & Threats': '1D->Shock/Event->Hazard & Threats',\n",
       " 'Flag->Overview': 'Nan->Nan->Nan',\n",
       " 'Flag->Stakeholders': 'Nan->Nan->Nan',\n",
       " 'Flag->Response Gap': '2D->Capacities & Response->Number Of People Reached/Response Gaps',\n",
       " 'Flag->Lessons Learnt': 'Nan->Nan->Nan',\n",
       " 'Context->Socio-Cultural': '1D->Context->Socio Cultural',\n",
       " 'Context->Economic': '1D->Context->Economy',\n",
       " 'Context->Political': '1D->Context->Politics',\n",
       " 'Context->Legal Or Normative Framework': '1D->Context->Legal & Policy',\n",
       " 'Context->Demographics': '1D->Context->Demography',\n",
       " 'Event/Shock->Aggravating Factors': '1D->Shock/Event->Underlying/Aggravating Factors',\n",
       " 'Event/Shock->Type And Characteristics': '1D->Shock/Event->Type And Characteristics',\n",
       " 'Event/Shock->Mitigating Factors': 'Nan->Nan->Nan',\n",
       " 'Event/Shock->Hazard And Threats': '1D->Shock/Event->Hazard & Threats',\n",
       " 'Displacement->Displacement': '1D->Displacement->Type/Numbers/Movements',\n",
       " 'Displacement->Push/Pull Factors': 'Nan->Nan->Nan',\n",
       " 'Displacement->Intentions': '1D->Displacement->Intentions',\n",
       " 'Displacement->Local Integration': '1D->Displacement->Local Integration',\n",
       " 'Information And Communication->Info And Comm Means': '1D->Information And Communication->Communication Means And Preferences',\n",
       " 'Information And Communication->Info Barriers And Challenges': '1D->Information And Communication->Information Challenges And Barriers',\n",
       " 'Information And Communication->Knowledge And Info Needs': '1D->Information And Communication->Knowledge And Info Gaps (Pop)',\n",
       " 'Humanitarian Access->Pin To Relief': '1D->Humanitarian Access->Population To Relief',\n",
       " 'Humanitarian Access->Relief To Pin': '1D->Humanitarian Access->Relief To Population',\n",
       " 'Humanitarian Access->Numb Of People Facing Access Constraints': '1D->Humanitarian Access->Number Of People Facing Humanitarian Access Constraints/Humanitarian Access Gaps',\n",
       " 'Durable Solutions->Resettlement': 'Nan->Nan->Nan',\n",
       " 'Durable Solutions->Local Integration': '1D->Displacement->Local Integration',\n",
       " 'Durable Solutions->Voluntary Repatriation': 'Nan->Nan->Nan',\n",
       " 'Impact->Drivers And Aggravating Factors': '2D->Impact->Driver/Aggravating Factors',\n",
       " 'Impact->Impact On People': '2D->Impact->Impact On People',\n",
       " 'Impact->Impact On Systems And Services': '2D->Impact->Impact On Systems, Services And Networks',\n",
       " 'Impact->Number Of People Affected': '2D->Impact->Number Of People Affected',\n",
       " 'Humanitarian Conditions->Physical And Mental Well-Being': '2D->Humanitarian Conditions->Physical And Mental Well Being',\n",
       " 'Humanitarian Conditions->Number Of People In Need': '2D->Humanitarian Conditions->Number Of People In Need',\n",
       " 'Humanitarian Conditions->Risks & New Or Aggravated Vulnerabilities (Do Not Tag)': '2D->At Risk->Risk And Vulnerabilities',\n",
       " 'Humanitarian Conditions->Number Of People At Risk (Do Not Tag)': '2D->At Risk->Number Of People At Risk',\n",
       " 'Risks->People At Risk Or Vulnerable': '2D->At Risk->Risk And Vulnerabilities',\n",
       " 'Priorities->Prioritiy Issues (Pop)': '2D->Priority Needs->Expressed By Population',\n",
       " 'Priorities->Prioritiy Issues (Hum. Staff)': '2D->Priority Needs->Expressed By Humanitarian Staff',\n",
       " 'Priorities->Preferred Response (Pop)': '2D->Priority Interventions->Expressed By Population',\n",
       " 'Priorities->Recommended Interventions (Hum. Staff)': '2D->Priority Interventions->Expressed By Humanitarian Staff',\n",
       " 'Response And Capacities->International': '2D->Capacities & Response->International Response',\n",
       " 'Response And Capacities->National And Local': 'Nan->Nan->Nan',\n",
       " 'Response And Capacities->Community': '2D->Capacities & Response->Local Response',\n",
       " 'Response And Capacities->Community Perceived Priorities': '2D->Priority Needs->Expressed By Population',\n",
       " 'High-Level Tags->Overview': 'Nan->Nan->Nan',\n",
       " 'High-Level Tags->Information Gap': '1D->Information And Communication->Knowledge And Info Gaps (Hum)',\n",
       " 'High-Level Tags->Response Gap': '2D->Capacities & Response->Number Of People Reached/Response Gaps',\n",
       " 'High-Level Tags->Stakeholder': 'Nan->Nan->Nan',\n",
       " 'High-Level Tags->Risks': '1D->Shock/Event->Hazard & Threats',\n",
       " 'Context->Overview': 'Nan->Nan->Nan',\n",
       " 'Context->Stakeholder': 'Nan->Nan->Nan',\n",
       " 'Context->Society And Community': '1D->Context->Socio Cultural',\n",
       " 'Context->Key Events': 'Nan->Nan->Nan',\n",
       " 'Context->Risk': '1D->Shock/Event->Hazard & Threats',\n",
       " 'Population Profile->Demographic Profile': '1D->Context->Demography',\n",
       " 'Population Profile->Population With Specific Needs': 'Nan->Nan->Nan',\n",
       " 'Population Profile->Social Profile': '1D->Context->Socio Cultural',\n",
       " 'Population Profile->Economic Profile': '1D->Context->Economy',\n",
       " 'Communication->Communication Means': '1D->Information And Communication->Communication Means And Preferences',\n",
       " 'Communication->Information Challenges': '1D->Information And Communication->Information Challenges And Barriers',\n",
       " 'Communication->Information Needs': '1D->Information And Communication->Knowledge And Info Gaps (Pop)',\n",
       " 'Communication->Information Gaps': '1D->Information And Communication->Knowledge And Info Gaps (Hum)',\n",
       " 'Humanitarian Profile->Affected Groups': 'Nan->Nan->Nan',\n",
       " 'Humanitarian Profile->Population Movement': '1D->Displacement->Type/Numbers/Movements',\n",
       " 'Humanitarian Profile->Push/Pull Factors': 'Nan->Nan->Nan',\n",
       " 'Humanitarian Profile->Casualties Or Injured': 'Nan->Nan->Nan',\n",
       " 'Scope And Scale->Drivers/ Aggravating Factors': '2D->Impact->Driver/Aggravating Factors',\n",
       " 'Scope And Scale->System Disruption': '2D->Impact->Impact On Systems, Services And Networks',\n",
       " 'Scope And Scale->Damage': 'Nan->Nan->Nan',\n",
       " 'Scope And Scale->Losses': 'Nan->Nan->Nan',\n",
       " 'Humanitarian Conditions->Vulnerabilities, Specific Needs And Risks': '2D->At Risk->Risk And Vulnerabilities',\n",
       " 'Humanitarian Conditions->Impact On Physical And Mental Wellbeing': '2D->Humanitarian Conditions->Physical And Mental Well Being',\n",
       " 'Humanitarian Conditions->Impact On Accessibility, Availability, Quality, Use And Awareness Of Goods And Services': '2D->Humanitarian Conditions->Living Standards',\n",
       " 'Capacities And Response->National Society Capacity': '2D->Capacities & Response->National Response',\n",
       " 'Capacities And Response->International Response': '2D->Capacities & Response->International Response',\n",
       " 'Capacities And Response->National Response Capacity': '2D->Capacities & Response->National Response',\n",
       " 'Context->Security & Stability': '1D->Context->Security & Stability',\n",
       " 'Context->Legal & Policy': '1D->Context->Legal & Policy',\n",
       " 'Shock /Event/Ongoing Conditions->Mitigating Factors': 'Nan->Nan->Nan',\n",
       " 'Shock /Event/Ongoing Conditions->Aggravating Factors': '1D->Shock/Event->Underlying/Aggravating Factors',\n",
       " 'Shock /Event/Ongoing Conditions->Type And Characteristics': '1D->Shock/Event->Type And Characteristics',\n",
       " 'Covid-19 Overview->Cases': '1D->Covid-19->Cases',\n",
       " 'Covid-19 Overview->Containment Measures': '1D->Covid-19->Restriction Measures',\n",
       " 'Covid-19 Overview->Communication & Information': 'Nan->Nan->Nan',\n",
       " 'Displacement->Social Cohesion': '1D->Displacement->Local Integration',\n",
       " 'Displacement->Type/Numbers/Movements': '1D->Displacement->Type/Numbers/Movements',\n",
       " 'Impact->Drivers/Aggravating Factors': '2D->Impact->Driver/Aggravating Factors',\n",
       " 'Impact->Impact On System & Services': '2D->Impact->Impact On Systems, Services And Networks',\n",
       " 'At Risk->People At Risk / Vulnerable': '2D->At Risk->Risk And Vulnerabilities',\n",
       " 'Priorities->Priority Needs (Pop)': '2D->Priority Needs->Expressed By Population',\n",
       " 'Priorities->Priority Needs (Staff)': '2D->Priority Needs->Expressed By Humanitarian Staff',\n",
       " 'Capacities & Response->Essn': 'Nan->Nan->Nan',\n",
       " 'Capacities & Response->Rcrc': '2D->Capacities & Response->National Response',\n",
       " 'Capacities & Response->Government & Local Authorities': '2D->Capacities & Response->National Response',\n",
       " 'Capacities & Response->Communities': '2D->Capacities & Response->Local Response',\n",
       " 'Capacities & Response->National & Local Actors': '2D->Capacities & Response->National Response',\n",
       " 'Capacities & Response->Number Of People Reached': '2D->Capacities & Response->Number Of People Reached/Response Gaps',\n",
       " 'Flag->Information Gaps': '1D->Information And Communication->Knowledge And Info Gaps (Hum)',\n",
       " 'Flag->Rumors': 'Nan->Nan->Nan',\n",
       " 'Event/Shock->Shock/Driver': '1D->Shock/Event->Type And Characteristics',\n",
       " 'Event/Shock->Underlying Factors/Pre-Existing Vulnerabilities': '1D->Shock/Event->Underlying/Aggravating Factors',\n",
       " 'Humanitarian Profile->Casualties': 'Nan->Nan->Nan',\n",
       " 'Information->Communication Means & Channels': '1D->Information And Communication->Communication Means And Preferences',\n",
       " 'Information->Information Needs & Gaps': '1D->Information And Communication->Knowledge And Info Gaps (Pop)',\n",
       " 'Humanitarian Conditions->Risks & Vulnerabilities': '2D->At Risk->Risk And Vulnerabilities',\n",
       " 'Humanitarian Conditions->People With Specific Needs': 'Nan->Nan->Nan',\n",
       " 'Humanitarian Conditions->Humanitarian Conditions': 'Nan->Nan->Nan',\n",
       " 'Capacities & Response->Rcrc Movement': 'Nan->Nan->Nan',\n",
       " 'Capacities & Response->Government And Local Authorities': 'Nan->Nan->Nan',\n",
       " 'Capacities & Response->National Actors': '2D->Capacities & Response->National Response',\n",
       " 'Capacities & Response->International Actors': '2D->Capacities & Response->International Response',\n",
       " 'Capacities & Response->Response Gaps': '2D->Capacities & Response->Number Of People Reached/Response Gaps',\n",
       " 'Covid-19 Overview->Deaths': '1D->Covid-19->Deaths',\n",
       " 'Covid-19 Overview->Testing': '1D->Covid-19->Testing',\n",
       " 'Covid-19 Overview->Contact Tracing': '1D->Covid-19->Contact Tracing',\n",
       " 'Covid-19 Overview->Hospitalization & Care': '1D->Covid-19->Hospitalization & Care',\n",
       " 'Covid-19 Overview->Research & Outlook': 'Nan->Nan->Nan',\n",
       " 'Covid-19 Overview->Vaccination': '1D->Covid-19->Vaccination',\n",
       " 'Covid-19 Containment Measures->Physical Distancing': '1D->Covid-19->Restriction Measures',\n",
       " 'Covid-19 Containment Measures->Movement Restrictions': '1D->Covid-19->Restriction Measures',\n",
       " 'Covid-19 Containment Measures->Public Health Measures': '1D->Covid-19->Restriction Measures',\n",
       " 'Covid-19 Containment Measures->Lockdown': '1D->Covid-19->Restriction Measures',\n",
       " 'Covid-19 Containment Measures->Compliance & Resistance To Measures': 'Nan->Nan->Nan',\n",
       " 'Covid-19 Communication & Information->Prevention Campaings': 'Nan->Nan->Nan',\n",
       " 'Covid-19 Communication & Information->Knowledge & Misinformation': 'Nan->Nan->Nan',\n",
       " 'Covid-19 Communication & Information->Challenges & Barriers': 'Nan->Nan->Nan',\n",
       " 'Covid-19 Communication & Information->Channels & Means': 'Nan->Nan->Nan',\n",
       " 'Displacement->Pull Factors': '1D->Displacement->Pull Factors',\n",
       " 'Displacement->Push Factors': '1D->Displacement->Push Factors',\n",
       " 'Context->Technological': '1D->Context->Technological',\n",
       " 'Shock /Event/Ongoing Conditions->Underlying Factors': '1D->Shock/Event->Underlying/Aggravating Factors',\n",
       " 'Shock /Event/Ongoing Conditions->Hazard And Threats': '1D->Shock/Event->Hazard & Threats',\n",
       " 'Covid-19->Cases/Deaths': 'Nan->Nan->Nan',\n",
       " 'Covid-19->Testing': '1D->Covid-19->Testing',\n",
       " 'Covid-19->Hospitalization And Care': '1D->Covid-19->Hospitalization & Care',\n",
       " 'Covid-19->Vaccination': '1D->Covid-19->Vaccination',\n",
       " 'Covid-19->Information And Communication': 'Nan->Nan->Nan',\n",
       " 'Covid-19->Restrictions Measures': '1D->Covid-19->Restriction Measures',\n",
       " 'Humanitarian Access->People With Access Constraints': '1D->Humanitarian Access->Number Of People Facing Humanitarian Access Constraints/Humanitarian Access Gaps',\n",
       " 'Information And Communication->Communication Means And Preferences': '1D->Information And Communication->Communication Means And Preferences',\n",
       " 'Information And Communication->Communication Barriers And Challenges': '1D->Information And Communication->Information Challenges And Barriers',\n",
       " 'Information And Communication->Knwoledge And Info Gaps (Pop)': '1D->Information And Communication->Knowledge And Info Gaps (Pop)',\n",
       " 'Information And Communication->Knwoledge And Info Gaps ( Hum)': '1D->Information And Communication->Knowledge And Info Gaps (Hum)',\n",
       " 'Flag->Market': 'Nan->Nan->Nan',\n",
       " 'Scope & Scale->Lessons Learnt': 'Nan->Nan->Nan',\n",
       " 'Humanitarian Conditions->Unmet Needs': 'Nan->Nan->Nan',\n",
       " 'Humanitarian Conditions->Lessons Learnt': 'Nan->Nan->Nan',\n",
       " 'Capacities & Response->Government': '2D->Capacities & Response->National Response',\n",
       " 'Capacities & Response->Lngo': '2D->Capacities & Response->National Response',\n",
       " 'Capacities & Response->Lessons Learnt': 'Nan->Nan->Nan',\n",
       " 'Context->Legal  & Policy': '1D->Context->Legal & Policy',\n",
       " 'Event/Schock->Type And Characteristics': '1D->Shock/Event->Type And Characteristics',\n",
       " 'Event/Schock->Aggravating Factors': '1D->Shock/Event->Underlying/Aggravating Factors',\n",
       " 'Displacement->Affected Groups': 'Nan->Nan->Nan',\n",
       " 'Displacement->Casualties': 'Nan->Nan->Nan',\n",
       " 'Scope & Scale->Number Of People Affected': '2D->Impact->Number Of People Affected',\n",
       " 'Humanitarian Conditions->Number Of People In Need And Priorities': 'Nan->Nan->Nan',\n",
       " 'Humanitarian Conditions->Number Of People At Risk': '2D->At Risk->Number Of People At Risk',\n",
       " 'Priorities->As Expressed By Experts': '2D->Priority Needs->Expressed By Humanitarian Staff',\n",
       " 'Priorities->As Expressed By The Population': '2D->Priority Needs->Expressed By Population',\n",
       " 'Flag->Hazard/Threats/Risk': '1D->Shock/Event->Hazard & Threats',\n",
       " 'Flag->Stakeholder': 'Nan->Nan->Nan',\n",
       " 'Context->Hazard Developments': 'Nan->Nan->Nan',\n",
       " 'Context->Lessons Learnt': 'Nan->Nan->Nan',\n",
       " 'Scope And Scale->Drivers/Aggravating Factors': '2D->Impact->Driver/Aggravating Factors',\n",
       " 'Scope And Scale->Lessons Learnt': 'Nan->Nan->Nan',\n",
       " 'Humanitarian Conditions->Access To Basic Services Or Goods': '2D->Humanitarian Conditions->Living Standards',\n",
       " 'Humanitarian Conditions->Risks/Vulnerabilities': '2D->At Risk->Risk And Vulnerabilities',\n",
       " 'Humanitarian Conditions->Specific Needs': 'Nan->Nan->Nan',\n",
       " 'Capacities And Response->Coping Mechanisms': '2D->Humanitarian Conditions->Coping Mechanisms',\n",
       " 'Capacities And Response->National Response': '2D->Capacities & Response->National Response',\n",
       " 'Capacities And Response->Systems Functionality': '2D->Impact->Impact On Systems, Services And Networks',\n",
       " 'Capacities And Response->Response Gaps': '2D->Capacities & Response->Number Of People Reached/Response Gaps',\n",
       " 'Capacities And Response->Lesson Learnt': 'Nan->Nan->Nan',\n",
       " 'Context->Stakeholders': 'Nan->Nan->Nan',\n",
       " 'Scope And Scale->Systems Disruption': '2D->Impact->Impact On Systems, Services And Networks',\n",
       " 'Humanitarian Conditions->1St Level Outcome': '2D->Humanitarian Conditions->Living Standards',\n",
       " 'Humanitarian Conditions->2Nd Level Outcome': '2D->Humanitarian Conditions->Physical And Mental Well Being',\n",
       " 'Humanitarian Conditions->Risks': '2D->At Risk->Risk And Vulnerabilities',\n",
       " 'Humanitarian Conditions->Vulnerabilities': '2D->At Risk->Risk And Vulnerabilities',\n",
       " 'Capacities And Response->Market Functionality': '2D->Impact->Impact On Systems, Services And Networks',\n",
       " 'Capacities And Response->Lessons Learnt': 'Nan->Nan->Nan'}"
      ]
     },
     "execution_count": 65,
     "metadata": {},
     "output_type": "execute_result"
    }
   ],
   "source": [
    "subpillar_name_mapper"
   ]
  },
  {
   "cell_type": "code",
   "execution_count": 66,
   "metadata": {
    "ExecuteTime": {
     "end_time": "2021-11-01T11:32:57.513873Z",
     "start_time": "2021-11-01T11:32:57.507517Z"
    }
   },
   "outputs": [
    {
     "data": {
      "text/plain": [
       "{'Context->Environment': '1D->Context',\n",
       " 'Context->Socio Cultural': '1D->Context',\n",
       " 'Context->Economy': '1D->Context',\n",
       " 'Context->Demography': '1D->Context',\n",
       " 'Context->Legal/Policy': '1D->Context',\n",
       " 'Context->Security': '1D->Context',\n",
       " 'Context->Politics': '1D->Context',\n",
       " 'Shock And Event->Type And Characteristics': '1D->Shock/Event',\n",
       " 'Shock And Event->Aggravating Factors': '1D->Shock/Event',\n",
       " 'Displacement Profile->Type/Numbers': '1D->Displacement',\n",
       " 'Displacement Profile->Movement': '1D->Displacement',\n",
       " 'Displacement Profile->Push Factors': '1D->Displacement',\n",
       " 'Displacement Profile->Pull Factors': '1D->Displacement',\n",
       " 'Displacement Profile->Intentions': '1D->Displacement',\n",
       " 'Displacement Profile->Local Integration': '1D->Displacement',\n",
       " 'Casualties->Injured': '1D->Casualties',\n",
       " 'Casualties->Missing': '1D->Casualties',\n",
       " 'Casualties->Dead': '1D->Casualties',\n",
       " 'Humanitarian Access->Relief To Beneficiaries': '1D->Humanitarian Access',\n",
       " 'Humanitarian Access->Beneficiaries To Relief': '1D->Humanitarian Access',\n",
       " 'Humanitarian Access->Physical Constraints': '1D->Humanitarian Access',\n",
       " 'Humanitarian Access->Humanitarian Access Gaps': '1D->Humanitarian Access',\n",
       " 'Information->Communication Means': '1D->Information And Communication',\n",
       " 'Information->Information Challenges': '1D->Information And Communication',\n",
       " 'Information->Information Needs': '1D->Information And Communication',\n",
       " 'Information->Information Gaps': '1D->Information And Communication',\n",
       " 'Scope & Scale->Drivers/Aggravating Factors': '2D->Impact',\n",
       " 'Scope & Scale->System Disruption': '2D->Impact',\n",
       " 'Scope & Scale->Damages & Losses': 'Nan->Nan',\n",
       " 'Scope & Scale->People Affected': '2D->Impact',\n",
       " 'Humanitarian Conditions->Living Standards': '2D->Humanitarian Conditions',\n",
       " 'Humanitarian Conditions->Coping Mechanisms': '2D->Humanitarian Conditions',\n",
       " 'Humanitarian Conditions->Physical & Mental Wellbeing': '2D->Humanitarian Conditions',\n",
       " 'Humanitarian Conditions->People At Risk / Vulnerable': '2D->At Risk',\n",
       " 'Humanitarian Conditions->People In Need': '2D->Humanitarian Conditions',\n",
       " 'Priorities->Priority Problems (Pop)': '2D->Priority Needs',\n",
       " 'Priorities->Priority Problems (Staff)': '2D->Priority Needs',\n",
       " 'Priorities->Priority Interventions (Pop)': '2D->Priority Interventions',\n",
       " 'Priorities->Priority Interventions (Staff)': '2D->Priority Interventions',\n",
       " 'Capacities & Response->System Functionality': '2D->Impact',\n",
       " 'Capacities & Response->National': '2D->Capacities & Response',\n",
       " 'Capacities & Response->International': '2D->Capacities & Response',\n",
       " 'Capacities & Response->People Reached': '2D->Capacities & Response',\n",
       " 'Flag->Key Event': 'Nan->Nan',\n",
       " 'Flag->Hazard & Threats': '1D->Shock/Event',\n",
       " 'Flag->Overview': 'Nan->Nan',\n",
       " 'Flag->Stakeholders': 'Nan->Nan',\n",
       " 'Flag->Response Gap': '2D->Capacities & Response',\n",
       " 'Flag->Lessons Learnt': 'Nan->Nan',\n",
       " 'Context->Socio-Cultural': '1D->Context',\n",
       " 'Context->Economic': '1D->Context',\n",
       " 'Context->Political': '1D->Context',\n",
       " 'Context->Legal Or Normative Framework': '1D->Context',\n",
       " 'Context->Demographics': '1D->Context',\n",
       " 'Event/Shock->Aggravating Factors': '1D->Shock/Event',\n",
       " 'Event/Shock->Type And Characteristics': '1D->Shock/Event',\n",
       " 'Event/Shock->Mitigating Factors': 'Nan->Nan',\n",
       " 'Event/Shock->Hazard And Threats': '1D->Shock/Event',\n",
       " 'Displacement->Displacement': '1D->Displacement',\n",
       " 'Displacement->Push/Pull Factors': 'Nan->Nan',\n",
       " 'Displacement->Intentions': '1D->Displacement',\n",
       " 'Displacement->Local Integration': '1D->Displacement',\n",
       " 'Information And Communication->Info And Comm Means': '1D->Information And Communication',\n",
       " 'Information And Communication->Info Barriers And Challenges': '1D->Information And Communication',\n",
       " 'Information And Communication->Knowledge And Info Needs': '1D->Information And Communication',\n",
       " 'Humanitarian Access->Pin To Relief': '1D->Humanitarian Access',\n",
       " 'Humanitarian Access->Relief To Pin': '1D->Humanitarian Access',\n",
       " 'Humanitarian Access->Numb Of People Facing Access Constraints': '1D->Humanitarian Access',\n",
       " 'Durable Solutions->Resettlement': 'Nan->Nan',\n",
       " 'Durable Solutions->Local Integration': '1D->Displacement',\n",
       " 'Durable Solutions->Voluntary Repatriation': 'Nan->Nan',\n",
       " 'Impact->Drivers And Aggravating Factors': '2D->Impact',\n",
       " 'Impact->Impact On People': '2D->Impact',\n",
       " 'Impact->Impact On Systems And Services': '2D->Impact',\n",
       " 'Impact->Number Of People Affected': '2D->Impact',\n",
       " 'Humanitarian Conditions->Physical And Mental Well-Being': '2D->Humanitarian Conditions',\n",
       " 'Humanitarian Conditions->Number Of People In Need': '2D->Humanitarian Conditions',\n",
       " 'Humanitarian Conditions->Risks & New Or Aggravated Vulnerabilities (Do Not Tag)': '2D->At Risk',\n",
       " 'Humanitarian Conditions->Number Of People At Risk (Do Not Tag)': '2D->At Risk',\n",
       " 'Risks->People At Risk Or Vulnerable': '2D->At Risk',\n",
       " 'Priorities->Prioritiy Issues (Pop)': '2D->Priority Needs',\n",
       " 'Priorities->Prioritiy Issues (Hum. Staff)': '2D->Priority Needs',\n",
       " 'Priorities->Preferred Response (Pop)': '2D->Priority Interventions',\n",
       " 'Priorities->Recommended Interventions (Hum. Staff)': '2D->Priority Interventions',\n",
       " 'Response And Capacities->International': '2D->Capacities & Response',\n",
       " 'Response And Capacities->National And Local': 'Nan->Nan',\n",
       " 'Response And Capacities->Community': '2D->Capacities & Response',\n",
       " 'Response And Capacities->Community Perceived Priorities': '2D->Priority Needs',\n",
       " 'High-Level Tags->Overview': 'Nan->Nan',\n",
       " 'High-Level Tags->Information Gap': '1D->Information And Communication',\n",
       " 'High-Level Tags->Response Gap': '2D->Capacities & Response',\n",
       " 'High-Level Tags->Stakeholder': 'Nan->Nan',\n",
       " 'High-Level Tags->Risks': '1D->Shock/Event',\n",
       " 'Context->Overview': 'Nan->Nan',\n",
       " 'Context->Stakeholder': 'Nan->Nan',\n",
       " 'Context->Society And Community': '1D->Context',\n",
       " 'Context->Key Events': 'Nan->Nan',\n",
       " 'Context->Risk': '1D->Shock/Event',\n",
       " 'Population Profile->Demographic Profile': '1D->Context',\n",
       " 'Population Profile->Population With Specific Needs': 'Nan->Nan',\n",
       " 'Population Profile->Social Profile': '1D->Context',\n",
       " 'Population Profile->Economic Profile': '1D->Context',\n",
       " 'Communication->Communication Means': '1D->Information And Communication',\n",
       " 'Communication->Information Challenges': '1D->Information And Communication',\n",
       " 'Communication->Information Needs': '1D->Information And Communication',\n",
       " 'Communication->Information Gaps': '1D->Information And Communication',\n",
       " 'Humanitarian Profile->Affected Groups': 'Nan->Nan',\n",
       " 'Humanitarian Profile->Population Movement': '1D->Displacement',\n",
       " 'Humanitarian Profile->Push/Pull Factors': 'Nan->Nan',\n",
       " 'Humanitarian Profile->Casualties Or Injured': 'Nan->Nan',\n",
       " 'Scope And Scale->Drivers/ Aggravating Factors': '2D->Impact',\n",
       " 'Scope And Scale->System Disruption': '2D->Impact',\n",
       " 'Scope And Scale->Damage': 'Nan->Nan',\n",
       " 'Scope And Scale->Losses': 'Nan->Nan',\n",
       " 'Humanitarian Conditions->Vulnerabilities, Specific Needs And Risks': '2D->At Risk',\n",
       " 'Humanitarian Conditions->Impact On Physical And Mental Wellbeing': '2D->Humanitarian Conditions',\n",
       " 'Humanitarian Conditions->Impact On Accessibility, Availability, Quality, Use And Awareness Of Goods And Services': '2D->Humanitarian Conditions',\n",
       " 'Capacities And Response->National Society Capacity': '2D->Capacities & Response',\n",
       " 'Capacities And Response->International Response': '2D->Capacities & Response',\n",
       " 'Capacities And Response->National Response Capacity': '2D->Capacities & Response',\n",
       " 'Context->Security & Stability': '1D->Context',\n",
       " 'Context->Legal & Policy': '1D->Context',\n",
       " 'Shock /Event/Ongoing Conditions->Mitigating Factors': 'Nan->Nan',\n",
       " 'Shock /Event/Ongoing Conditions->Aggravating Factors': '1D->Shock/Event',\n",
       " 'Shock /Event/Ongoing Conditions->Type And Characteristics': '1D->Shock/Event',\n",
       " 'Covid-19 Overview->Cases': '1D->Covid-19',\n",
       " 'Covid-19 Overview->Containment Measures': '1D->Covid-19',\n",
       " 'Covid-19 Overview->Communication & Information': 'Nan->Nan',\n",
       " 'Displacement->Social Cohesion': '1D->Displacement',\n",
       " 'Displacement->Type/Numbers/Movements': '1D->Displacement',\n",
       " 'Impact->Drivers/Aggravating Factors': '2D->Impact',\n",
       " 'Impact->Impact On System & Services': '2D->Impact',\n",
       " 'At Risk->People At Risk / Vulnerable': '2D->At Risk',\n",
       " 'Priorities->Priority Needs (Pop)': '2D->Priority Needs',\n",
       " 'Priorities->Priority Needs (Staff)': '2D->Priority Needs',\n",
       " 'Capacities & Response->Essn': 'Nan->Nan',\n",
       " 'Capacities & Response->Rcrc': '2D->Capacities & Response',\n",
       " 'Capacities & Response->Government & Local Authorities': '2D->Capacities & Response',\n",
       " 'Capacities & Response->Communities': '2D->Capacities & Response',\n",
       " 'Capacities & Response->National & Local Actors': '2D->Capacities & Response',\n",
       " 'Capacities & Response->Number Of People Reached': '2D->Capacities & Response',\n",
       " 'Flag->Information Gaps': '1D->Information And Communication',\n",
       " 'Flag->Rumors': 'Nan->Nan',\n",
       " 'Event/Shock->Shock/Driver': '1D->Shock/Event',\n",
       " 'Event/Shock->Underlying Factors/Pre-Existing Vulnerabilities': '1D->Shock/Event',\n",
       " 'Humanitarian Profile->Casualties': 'Nan->Nan',\n",
       " 'Information->Communication Means & Channels': '1D->Information And Communication',\n",
       " 'Information->Information Needs & Gaps': '1D->Information And Communication',\n",
       " 'Humanitarian Conditions->Risks & Vulnerabilities': '2D->At Risk',\n",
       " 'Humanitarian Conditions->People With Specific Needs': 'Nan->Nan',\n",
       " 'Humanitarian Conditions->Humanitarian Conditions': 'Nan->Nan',\n",
       " 'Capacities & Response->Rcrc Movement': 'Nan->Nan',\n",
       " 'Capacities & Response->Government And Local Authorities': 'Nan->Nan',\n",
       " 'Capacities & Response->National Actors': '2D->Capacities & Response',\n",
       " 'Capacities & Response->International Actors': '2D->Capacities & Response',\n",
       " 'Capacities & Response->Response Gaps': '2D->Capacities & Response',\n",
       " 'Covid-19 Overview->Deaths': '1D->Covid-19',\n",
       " 'Covid-19 Overview->Testing': '1D->Covid-19',\n",
       " 'Covid-19 Overview->Contact Tracing': '1D->Covid-19',\n",
       " 'Covid-19 Overview->Hospitalization & Care': '1D->Covid-19',\n",
       " 'Covid-19 Overview->Research & Outlook': 'Nan->Nan',\n",
       " 'Covid-19 Overview->Vaccination': '1D->Covid-19',\n",
       " 'Covid-19 Containment Measures->Physical Distancing': '1D->Covid-19',\n",
       " 'Covid-19 Containment Measures->Movement Restrictions': '1D->Covid-19',\n",
       " 'Covid-19 Containment Measures->Public Health Measures': '1D->Covid-19',\n",
       " 'Covid-19 Containment Measures->Lockdown': '1D->Covid-19',\n",
       " 'Covid-19 Containment Measures->Compliance & Resistance To Measures': 'Nan->Nan',\n",
       " 'Covid-19 Communication & Information->Prevention Campaings': 'Nan->Nan',\n",
       " 'Covid-19 Communication & Information->Knowledge & Misinformation': 'Nan->Nan',\n",
       " 'Covid-19 Communication & Information->Challenges & Barriers': 'Nan->Nan',\n",
       " 'Covid-19 Communication & Information->Channels & Means': 'Nan->Nan',\n",
       " 'Displacement->Pull Factors': '1D->Displacement',\n",
       " 'Displacement->Push Factors': '1D->Displacement',\n",
       " 'Context->Technological': '1D->Context',\n",
       " 'Shock /Event/Ongoing Conditions->Underlying Factors': '1D->Shock/Event',\n",
       " 'Shock /Event/Ongoing Conditions->Hazard And Threats': '1D->Shock/Event',\n",
       " 'Covid-19->Cases/Deaths': 'Nan->Nan',\n",
       " 'Covid-19->Testing': '1D->Covid-19',\n",
       " 'Covid-19->Hospitalization And Care': '1D->Covid-19',\n",
       " 'Covid-19->Vaccination': '1D->Covid-19',\n",
       " 'Covid-19->Information And Communication': 'Nan->Nan',\n",
       " 'Covid-19->Restrictions Measures': '1D->Covid-19',\n",
       " 'Humanitarian Access->People With Access Constraints': '1D->Humanitarian Access',\n",
       " 'Information And Communication->Communication Means And Preferences': '1D->Information And Communication',\n",
       " 'Information And Communication->Communication Barriers And Challenges': '1D->Information And Communication',\n",
       " 'Information And Communication->Knwoledge And Info Gaps (Pop)': '1D->Information And Communication',\n",
       " 'Information And Communication->Knwoledge And Info Gaps ( Hum)': '1D->Information And Communication',\n",
       " 'Flag->Market': 'Nan->Nan',\n",
       " 'Scope & Scale->Lessons Learnt': 'Nan->Nan',\n",
       " 'Humanitarian Conditions->Unmet Needs': 'Nan->Nan',\n",
       " 'Humanitarian Conditions->Lessons Learnt': 'Nan->Nan',\n",
       " 'Capacities & Response->Government': '2D->Capacities & Response',\n",
       " 'Capacities & Response->Lngo': '2D->Capacities & Response',\n",
       " 'Capacities & Response->Lessons Learnt': 'Nan->Nan',\n",
       " 'Context->Legal  & Policy': '1D->Context',\n",
       " 'Event/Schock->Type And Characteristics': '1D->Shock/Event',\n",
       " 'Event/Schock->Aggravating Factors': '1D->Shock/Event',\n",
       " 'Displacement->Affected Groups': 'Nan->Nan',\n",
       " 'Displacement->Casualties': 'Nan->Nan',\n",
       " 'Scope & Scale->Number Of People Affected': '2D->Impact',\n",
       " 'Humanitarian Conditions->Number Of People In Need And Priorities': 'Nan->Nan',\n",
       " 'Humanitarian Conditions->Number Of People At Risk': '2D->At Risk',\n",
       " 'Priorities->As Expressed By Experts': '2D->Priority Needs',\n",
       " 'Priorities->As Expressed By The Population': '2D->Priority Needs',\n",
       " 'Flag->Hazard/Threats/Risk': '1D->Shock/Event',\n",
       " 'Flag->Stakeholder': 'Nan->Nan',\n",
       " 'Context->Hazard Developments': 'Nan->Nan',\n",
       " 'Context->Lessons Learnt': 'Nan->Nan',\n",
       " 'Scope And Scale->Drivers/Aggravating Factors': '2D->Impact',\n",
       " 'Scope And Scale->Lessons Learnt': 'Nan->Nan',\n",
       " 'Humanitarian Conditions->Access To Basic Services Or Goods': '2D->Humanitarian Conditions',\n",
       " 'Humanitarian Conditions->Risks/Vulnerabilities': '2D->At Risk',\n",
       " 'Humanitarian Conditions->Specific Needs': 'Nan->Nan',\n",
       " 'Capacities And Response->Coping Mechanisms': '2D->Humanitarian Conditions',\n",
       " 'Capacities And Response->National Response': '2D->Capacities & Response',\n",
       " 'Capacities And Response->Systems Functionality': '2D->Impact',\n",
       " 'Capacities And Response->Response Gaps': '2D->Capacities & Response',\n",
       " 'Capacities And Response->Lesson Learnt': 'Nan->Nan',\n",
       " 'Context->Stakeholders': 'Nan->Nan',\n",
       " 'Scope And Scale->Systems Disruption': '2D->Impact',\n",
       " 'Humanitarian Conditions->1St Level Outcome': '2D->Humanitarian Conditions',\n",
       " 'Humanitarian Conditions->2Nd Level Outcome': '2D->Humanitarian Conditions',\n",
       " 'Humanitarian Conditions->Risks': '2D->At Risk',\n",
       " 'Humanitarian Conditions->Vulnerabilities': '2D->At Risk',\n",
       " 'Capacities And Response->Market Functionality': '2D->Impact',\n",
       " 'Capacities And Response->Lessons Learnt': 'Nan->Nan'}"
      ]
     },
     "execution_count": 66,
     "metadata": {},
     "output_type": "execute_result"
    }
   ],
   "source": [
    "pillar_name_mapper"
   ]
  },
  {
   "cell_type": "code",
   "execution_count": 67,
   "metadata": {
    "ExecuteTime": {
     "end_time": "2021-11-01T11:32:57.519943Z",
     "start_time": "2021-11-01T11:32:57.514889Z"
    }
   },
   "outputs": [],
   "source": [
    "def sector_mapper(sec):\n",
    "    if sec == sec:\n",
    "        sectors = [sector_name_mapper[s.title().strip()] for s in sec]\n",
    "        return sectors  #[sec for sec in sectors if sec]\n",
    "    return []\n",
    "\n",
    "\n",
    "##\n",
    "def pillar_mapper(dim):\n",
    "    if dim == dim:\n",
    "        dim = [pillar_name_mapper[d.strip()] for d in dim]\n",
    "        return [d[4:] for d in dim if d.startswith(\"2D\")]\n",
    "    return []\n",
    "\n",
    "\n",
    "##\n",
    "def subpillar_mapper(subdim):\n",
    "    if subdim == subdim:\n",
    "        subdim = [subpillar_name_mapper[d.strip()] for d in subdim]\n",
    "        return [d[4:] for d in subdim if d.startswith(\"2D\")]\n",
    "    return []\n",
    "\n",
    "\n",
    "##\n",
    "def pillar_mapper_1d(pill):\n",
    "    if pill == pill:\n",
    "        pill = [pillar_name_mapper[p] for p in pill]\n",
    "        return [d[4:] for d in pill if d.startswith(\"1D\")]\n",
    "    return []\n",
    "\n",
    "\n",
    "##\n",
    "def subpillar_mapper_1d(subpill):\n",
    "    if subpill == subpill:\n",
    "        subpill = [subpillar_name_mapper[p] for p in subpill]\n",
    "        return [d[4:] for d in subpill if d.startswith(\"1D\")]\n",
    "    return []"
   ]
  },
  {
   "cell_type": "code",
   "execution_count": 68,
   "metadata": {
    "ExecuteTime": {
     "end_time": "2021-11-01T11:32:57.525764Z",
     "start_time": "2021-11-01T11:32:57.521074Z"
    }
   },
   "outputs": [],
   "source": [
    "subpillar_name_mapper['Impact->'\n",
    "                      'Status Of Essential Infrastructure'\n",
    "                      ', Systems, Markets And Networks'] = 'Nan'\n",
    "\n",
    "subpillar_name_mapper['Impact->Drivers'] = 'Nan'\n",
    "##\n",
    "corrected = 'Humanitarian Conditions->Risks & new or aggravated vulnerabilities (DO NOT TAG)'.title(\n",
    ")\n",
    "orig = 'Humanitarian Conditions->Risks &  New Or Aggravated Vulnerabilities (Do Not Tag)'.title(\n",
    ")\n",
    "subpillar_name_mapper[orig] = subpillar_name_mapper[corrected]\n",
    "##\n",
    "missing = 'Humanitarian Conditions->Risks &  New Or Aggravated Vulnerabilities'.title(\n",
    ")\n",
    "existing = 'Humanitarian Conditions->Risks &  New Or Aggravated Vulnerabilities (Do Not Tag)'.title(\n",
    ")\n",
    "subpillar_name_mapper[missing] = subpillar_name_mapper[existing]\n",
    "##\n",
    "subpillar_name_mapper[\n",
    "    'Humanitarian Conditions->Persons/Groups With Specific Needs'] = 'Nan'\n",
    "subpillar_name_mapper['Impact->Damages & Losses'] = 'Nan'\n",
    "####\n",
    "corrected = 'Covid-19 Communication & Information->Prevention Campaings'.title(\n",
    ")\n",
    "orig = 'Covid-19 Communication & Information->Prevention Campaigns'.title()\n",
    "subpillar_name_mapper[orig] = subpillar_name_mapper[corrected]\n",
    "##\n",
    "missing = 'Event/Shock->Pre-Existing Vulnerabilities'.title()\n",
    "existing = 'Event/Shock->Underlying Factors/Pre-existing vulnerabilities'.title(\n",
    ")\n",
    "subpillar_name_mapper[missing] = subpillar_name_mapper[existing]\n",
    "##\n",
    "corrected = 'Shock /Event/Ongoing Conditions->Mitigating factors'.title()\n",
    "orig = 'Shock /Event/Ongoing Conditions->Mtitigating Factors'.title()\n",
    "subpillar_name_mapper[orig] = subpillar_name_mapper[corrected]\n",
    "##\n",
    "corrected = 'Information And Communication->Knowledge and info needs'.title()\n",
    "orig = 'Information And Communication->Knoweldge And Info Needs'.title()\n",
    "subpillar_name_mapper[orig] = subpillar_name_mapper[corrected]\n",
    "##\n",
    "missing = 'Context->Hazard Development'.title()\n",
    "existing = 'Context->Hazard Developments'.title()\n",
    "subpillar_name_mapper[missing] = subpillar_name_mapper[existing]"
   ]
  },
  {
   "cell_type": "code",
   "execution_count": 69,
   "metadata": {
    "ExecuteTime": {
     "end_time": "2021-11-01T11:32:57.528397Z",
     "start_time": "2021-11-01T11:32:57.526641Z"
    }
   },
   "outputs": [],
   "source": [
    "x = '1D->Context->Environment'\n",
    "\n"
   ]
  },
  {
   "cell_type": "code",
   "execution_count": 70,
   "metadata": {
    "ExecuteTime": {
     "end_time": "2021-11-01T11:32:57.531903Z",
     "start_time": "2021-11-01T11:32:57.529353Z"
    }
   },
   "outputs": [
    {
     "data": {
      "text/plain": [
       "'Nan'"
      ]
     },
     "execution_count": 70,
     "metadata": {},
     "output_type": "execute_result"
    }
   ],
   "source": [
    "subpillar_name_mapper['Impact->Drivers']"
   ]
  },
  {
   "cell_type": "code",
   "execution_count": 71,
   "metadata": {
    "ExecuteTime": {
     "end_time": "2021-11-01T11:32:57.535038Z",
     "start_time": "2021-11-01T11:32:57.532811Z"
    }
   },
   "outputs": [],
   "source": [
    "for k, v in subpillar_name_mapper.items():\n",
    "    if k not in pillar_name_mapper and v!='Nan':\n",
    "        pillar_name_mapper[k] = v[:-v[::-1].index(\"-\")-1]\n",
    "    elif v=='Nan':\n",
    "        pillar_name_mapper[k] = v"
   ]
  },
  {
   "cell_type": "code",
   "execution_count": 72,
   "metadata": {
    "ExecuteTime": {
     "end_time": "2021-11-01T11:32:57.538357Z",
     "start_time": "2021-11-01T11:32:57.535978Z"
    }
   },
   "outputs": [],
   "source": [
    "for k, v in subpillar_name_mapper.items():\n",
    "    if v in [\"Nan->Nan\", \"Nan->Nan->Nan\"]:\n",
    "        subpillar_name_mapper[k] = 'Nan'\n",
    "##\n",
    "for k, v in pillar_name_mapper.items():\n",
    "    if v in [\"Nan->Nan\", \"Nan->Nan->Nan\"]:\n",
    "        subpillar_name_mapper[k] = 'Nan'"
   ]
  },
  {
   "cell_type": "code",
   "execution_count": 73,
   "metadata": {
    "ExecuteTime": {
     "end_time": "2021-11-01T11:32:58.349585Z",
     "start_time": "2021-11-01T11:32:57.539408Z"
    },
    "scrolled": true
   },
   "outputs": [],
   "source": [
    "final_df[\"sectors\"] = final_df[\"sectors\"].apply(sector_mapper)\n",
    "#\n",
    "final_df[\"subpillars_2d\"] = final_df[\"pillars\"].apply(subpillar_mapper)\n",
    "final_df[\"pillars_2d\"] = final_df[\"pillars\"].apply(pillar_mapper)\n",
    "#\n",
    "final_df[\"subpillars_1d\"] = final_df[\"pillars_1d\"].apply(subpillar_mapper_1d)\n",
    "final_df[\"pillars_1d\"] = final_df[\"pillars_1d\"].apply(pillar_mapper_1d)"
   ]
  },
  {
   "cell_type": "code",
   "execution_count": 74,
   "metadata": {
    "ExecuteTime": {
     "end_time": "2021-11-01T11:32:58.353796Z",
     "start_time": "2021-11-01T11:32:58.350601Z"
    }
   },
   "outputs": [
    {
     "data": {
      "text/plain": [
       "Index(['entry_id', 'created_at', 'modified_at', 'excerpt', 'entry_type',\n",
       "       'analysis_framework_id', 'created_by_id', 'lead_id', 'modified_by_id',\n",
       "       'information_date', 'order', 'project_id', 'title', 'verified', 'tags',\n",
       "       'tags_str', 'pillars', 'sectors', 'subsectors', 'label_2d',\n",
       "       'pillars_1d', 'subpillars_2d', 'pillars_2d', 'subpillars_1d'],\n",
       "      dtype='object')"
      ]
     },
     "execution_count": 74,
     "metadata": {},
     "output_type": "execute_result"
    }
   ],
   "source": [
    "final_df.columns"
   ]
  },
  {
   "cell_type": "code",
   "execution_count": 75,
   "metadata": {
    "ExecuteTime": {
     "end_time": "2021-11-01T11:32:58.467195Z",
     "start_time": "2021-11-01T11:32:58.354790Z"
    }
   },
   "outputs": [],
   "source": [
    "final_df = final_df[~final_df.excerpt.isna()]\n"
   ]
  },
  {
   "cell_type": "code",
   "execution_count": 76,
   "metadata": {
    "ExecuteTime": {
     "end_time": "2021-11-01T11:32:58.516289Z",
     "start_time": "2021-11-01T11:32:58.470116Z"
    }
   },
   "outputs": [
    {
     "data": {
      "text/plain": [
       "[('Health', 25733),\n",
       " ('Protection', 20827),\n",
       " ('Cross', 14389),\n",
       " ('Livelihoods', 12496),\n",
       " ('Food Security', 11138),\n",
       " ('WASH', 8150),\n",
       " ('Shelter', 7711),\n",
       " ('Education', 7254),\n",
       " ('Nutrition', 3243),\n",
       " ('Agriculture', 3114),\n",
       " ('Logistics', 2798),\n",
       " ('Nan', 587)]"
      ]
     },
     "execution_count": 76,
     "metadata": {},
     "output_type": "execute_result"
    }
   ],
   "source": [
    "secs_unique = set()\n",
    "secs_occurances = list()\n",
    "for secs in final_df[\"sectors\"]:\n",
    "    secs_unique.update(secs)\n",
    "    secs_occurances.extend(secs)\n",
    "#secs_unique\n",
    "Counter(secs_occurances).most_common()"
   ]
  },
  {
   "cell_type": "code",
   "execution_count": 77,
   "metadata": {
    "ExecuteTime": {
     "end_time": "2021-11-01T11:32:58.561933Z",
     "start_time": "2021-11-01T11:32:58.517140Z"
    }
   },
   "outputs": [
    {
     "data": {
      "text/plain": [
       "[('Humanitarian Conditions', 49191),\n",
       " ('Impact', 37536),\n",
       " ('Capacities & Response', 15526),\n",
       " ('At Risk', 12737),\n",
       " ('Priority Needs', 3346),\n",
       " ('Priority Interventions', 2579)]"
      ]
     },
     "execution_count": 77,
     "metadata": {},
     "output_type": "execute_result"
    }
   ],
   "source": [
    "pills_unique = set()\n",
    "pills_occurances = list()\n",
    "for pills in final_df[\"pillars_2d\"]:\n",
    "    pills_unique.update(pills)\n",
    "    pills_occurances.extend(pills)\n",
    "#pills_unique\n",
    "Counter(pills_occurances).most_common()"
   ]
  },
  {
   "cell_type": "code",
   "execution_count": 78,
   "metadata": {
    "ExecuteTime": {
     "end_time": "2021-11-01T11:32:58.604980Z",
     "start_time": "2021-11-01T11:32:58.562744Z"
    },
    "scrolled": false
   },
   "outputs": [
    {
     "data": {
      "text/plain": [
       "[('Humanitarian Conditions->Living Standards', 27948),\n",
       " ('Humanitarian Conditions->Physical And Mental Well Being', 15535),\n",
       " ('Impact->Impact On Systems, Services And Networks', 12751),\n",
       " ('Impact->Driver/Aggravating Factors', 12737),\n",
       " ('At Risk->Risk And Vulnerabilities', 12460),\n",
       " ('Impact->Impact On People', 9684),\n",
       " ('Capacities & Response->International Response', 8920),\n",
       " ('Humanitarian Conditions->Coping Mechanisms', 4369),\n",
       " ('Capacities & Response->National Response', 4027),\n",
       " ('Impact->Number Of People Affected', 2364),\n",
       " ('Capacities & Response->Number Of People Reached/Response Gaps', 2320),\n",
       " ('Priority Interventions->Expressed By Humanitarian Staff', 2289),\n",
       " ('Priority Needs->Expressed By Humanitarian Staff', 1686),\n",
       " ('Priority Needs->Expressed By Population', 1660),\n",
       " ('Humanitarian Conditions->Number Of People In Need', 1339),\n",
       " ('Priority Interventions->Expressed By Population', 290),\n",
       " ('At Risk->Number Of People At Risk', 277),\n",
       " ('Capacities & Response->Local Response', 259)]"
      ]
     },
     "execution_count": 78,
     "metadata": {},
     "output_type": "execute_result"
    }
   ],
   "source": [
    "subpills_unique = set()\n",
    "subpills_occurances = list()\n",
    "for subpills in final_df[\"subpillars_2d\"]:\n",
    "    subpills_unique.update(subpills)\n",
    "    subpills_occurances.extend(subpills)\n",
    "Counter(subpills_occurances).most_common()"
   ]
  },
  {
   "cell_type": "code",
   "execution_count": 79,
   "metadata": {
    "ExecuteTime": {
     "end_time": "2021-11-01T11:32:58.647092Z",
     "start_time": "2021-11-01T11:32:58.606051Z"
    }
   },
   "outputs": [
    {
     "data": {
      "text/plain": [
       "[('Context', 20513),\n",
       " ('Covid-19', 19021),\n",
       " ('Displacement', 14572),\n",
       " ('Shock/Event', 5019),\n",
       " ('Casualties', 4129),\n",
       " ('Humanitarian Access', 3377),\n",
       " ('Information And Communication', 1196)]"
      ]
     },
     "execution_count": 79,
     "metadata": {},
     "output_type": "execute_result"
    }
   ],
   "source": [
    "pills_unique_1d = set()\n",
    "pills_occurances_1d = list()\n",
    "for pills_1d in final_df[\"pillars_1d\"]:\n",
    "    pills_unique_1d.update(pills_1d)\n",
    "    pills_occurances_1d.extend(pills_1d)\n",
    "#pills_unique_1d\n",
    "Counter(pills_occurances_1d).most_common()"
   ]
  },
  {
   "cell_type": "code",
   "execution_count": 80,
   "metadata": {
    "ExecuteTime": {
     "end_time": "2021-11-01T11:32:58.685936Z",
     "start_time": "2021-11-01T11:32:58.648062Z"
    },
    "scrolled": true
   },
   "outputs": [
    {
     "data": {
      "text/plain": [
       "[('Displacement->Type/Numbers/Movements', 9051),\n",
       " ('Context->Security & Stability', 6902),\n",
       " ('Covid-19->Cases', 5507),\n",
       " ('Covid-19->Restriction Measures', 4879),\n",
       " ('Context->Economy', 3899),\n",
       " ('Casualties->Dead', 3194),\n",
       " ('Context->Demography', 3185),\n",
       " ('Covid-19->Deaths', 3098),\n",
       " ('Covid-19->Vaccination', 2776),\n",
       " ('Displacement->Local Integration', 2617),\n",
       " ('Context->Legal & Policy', 2543),\n",
       " ('Shock/Event->Hazard & Threats', 2271),\n",
       " ('Displacement->Push Factors', 2051),\n",
       " ('Context->Politics', 1925),\n",
       " ('Humanitarian Access->Physical Constraints', 1743),\n",
       " ('Covid-19->Testing', 1622),\n",
       " ('Shock/Event->Underlying/Aggravating Factors', 1412),\n",
       " ('Shock/Event->Type And Characteristics', 1336),\n",
       " ('Context->Socio Cultural', 1178),\n",
       " ('Humanitarian Access->Relief To Population', 948),\n",
       " ('Context->Environment', 881),\n",
       " ('Casualties->Injured', 663),\n",
       " ('Covid-19->Contact Tracing', 627),\n",
       " ('Information And Communication->Knowledge And Info Gaps (Hum)', 515),\n",
       " ('Covid-19->Hospitalization & Care', 512),\n",
       " ('Displacement->Intentions', 506),\n",
       " ('Humanitarian Access->Number Of People Facing Humanitarian Access Constraints/Humanitarian Access Gaps',\n",
       "  458),\n",
       " ('Displacement->Pull Factors', 347),\n",
       " ('Information And Communication->Knowledge And Info Gaps (Pop)', 304),\n",
       " ('Casualties->Missing', 272),\n",
       " ('Humanitarian Access->Population To Relief', 228),\n",
       " ('Information And Communication->Communication Means And Preferences', 222),\n",
       " ('Information And Communication->Information Challenges And Barriers', 155)]"
      ]
     },
     "execution_count": 80,
     "metadata": {},
     "output_type": "execute_result"
    }
   ],
   "source": [
    "subpills_unique_1d = set()\n",
    "subpills_occurances_1d = list()\n",
    "for subpills_1d in final_df[\"subpillars_1d\"]:\n",
    "    subpills_unique_1d.update(subpills_1d)\n",
    "    subpills_occurances_1d.extend(subpills_1d)\n",
    "#subpills_unique_1d\n",
    "Counter(subpills_occurances_1d).most_common()"
   ]
  },
  {
   "cell_type": "code",
   "execution_count": 81,
   "metadata": {
    "ExecuteTime": {
     "end_time": "2021-11-01T11:32:58.737467Z",
     "start_time": "2021-11-01T11:32:58.686932Z"
    }
   },
   "outputs": [
    {
     "data": {
      "text/plain": [
       "(49813, 80610, 85174)"
      ]
     },
     "execution_count": 81,
     "metadata": {},
     "output_type": "execute_result"
    }
   ],
   "source": [
    "final_df[\"subpillars_1d\"].apply(lambda x:x!=[]).sum(),\\\n",
    "final_df[\"subpillars_2d\"].apply(lambda x:x!=[]).sum(),\\\n",
    "final_df[\"sectors\"].apply(lambda x:x!=[]).sum()"
   ]
  },
  {
   "cell_type": "code",
   "execution_count": 82,
   "metadata": {
    "ExecuteTime": {
     "end_time": "2021-11-01T11:32:58.769014Z",
     "start_time": "2021-11-01T11:32:58.746315Z"
    }
   },
   "outputs": [],
   "source": [
    "final_df = final_df[[\n",
    "    'entry_id', 'excerpt', 'entry_type', 'analysis_framework_id', 'lead_id',\n",
    "    'title', 'project_id', 'verified', 'sectors', 'pillars_2d', 'pillars_1d',\n",
    "    'subpillars_2d', 'subpillars_1d'\n",
    "]]"
   ]
  },
  {
   "cell_type": "code",
   "execution_count": 83,
   "metadata": {
    "ExecuteTime": {
     "end_time": "2021-11-01T11:32:59.020146Z",
     "start_time": "2021-11-01T11:32:58.770341Z"
    }
   },
   "outputs": [],
   "source": [
    "for col in [\n",
    "        'sectors', 'pillars_2d', 'pillars_1d', 'subpillars_2d', 'subpillars_1d'\n",
    "]:\n",
    "    final_df[col] = final_df[col].apply(\n",
    "        lambda lbls: [x if x != 'Nan' else \"NOT_MAPPED\" for x in lbls])"
   ]
  },
  {
   "cell_type": "code",
   "execution_count": 84,
   "metadata": {
    "ExecuteTime": {
     "end_time": "2021-11-01T11:32:59.116585Z",
     "start_time": "2021-11-01T11:32:59.021263Z"
    }
   },
   "outputs": [
    {
     "name": "stdout",
     "output_type": "stream",
     "text": [
      "(116157, 13) (116744, 13)\n"
     ]
    }
   ],
   "source": [
    "all_valid_df = final_df[\n",
    "    final_df['sectors'].apply(lambda lbls: \"NOT_MAPPED\" not in lbls)\n",
    "    & final_df['pillars_2d'].apply(\n",
    "        lambda lbls: \"NOT_MAPPED\" not in lbls) &\n",
    "    final_df['pillars_1d'].apply(lambda lbls: \"NOT_MAPPED\" not in lbls)\n",
    "    & final_df['subpillars_2d'].apply(\n",
    "        lambda lbls: \"NOT_MAPPED\" not in lbls)\n",
    "    & final_df['subpillars_1d'].apply(\n",
    "        lambda lbls: \"NOT_MAPPED\" not in lbls)]\n",
    "print(all_valid_df.shape, final_df.shape)"
   ]
  },
  {
   "cell_type": "code",
   "execution_count": 85,
   "metadata": {
    "ExecuteTime": {
     "end_time": "2021-11-01T11:32:59.142035Z",
     "start_time": "2021-11-01T11:32:59.117546Z"
    }
   },
   "outputs": [
    {
     "data": {
      "text/plain": [
       "set()"
      ]
     },
     "execution_count": 85,
     "metadata": {},
     "output_type": "execute_result"
    }
   ],
   "source": [
    "def flatten(t):\n",
    "    return [item for sublist in t for item in sublist]\n",
    "\n",
    "\n",
    "tags_2d = set(flatten(final_df.subpillars_2d.tolist()))\n",
    "tags_1d = set(flatten(final_df.subpillars_1d.tolist()))\n",
    "\n",
    "tags_2d.intersection(tags_1d)"
   ]
  },
  {
   "cell_type": "code",
   "execution_count": 86,
   "metadata": {
    "ExecuteTime": {
     "end_time": "2021-11-01T11:33:01.755988Z",
     "start_time": "2021-11-01T11:32:59.143198Z"
    }
   },
   "outputs": [],
   "source": [
    "final_df.to_csv('generated_dataset/primary_tags.csv', index=None)\n",
    "all_valid_df.to_csv('generated_dataset/primary_tags_vc.csv', index=None)"
   ]
  },
  {
   "cell_type": "code",
   "execution_count": null,
   "metadata": {},
   "outputs": [],
   "source": []
  }
 ],
 "metadata": {
  "kernelspec": {
   "display_name": "Python 3 (ipykernel)",
   "language": "python",
   "name": "python3"
  },
  "language_info": {
   "codemirror_mode": {
    "name": "ipython",
    "version": 3
   },
   "file_extension": ".py",
   "mimetype": "text/x-python",
   "name": "python",
   "nbconvert_exporter": "python",
   "pygments_lexer": "ipython3",
   "version": "3.8.11"
  },
  "varInspector": {
   "cols": {
    "lenName": 16,
    "lenType": 16,
    "lenVar": 40
   },
   "kernels_config": {
    "python": {
     "delete_cmd_postfix": "",
     "delete_cmd_prefix": "del ",
     "library": "var_list.py",
     "varRefreshCmd": "print(var_dic_list())"
    },
    "r": {
     "delete_cmd_postfix": ") ",
     "delete_cmd_prefix": "rm(",
     "library": "var_list.r",
     "varRefreshCmd": "cat(var_dic_list()) "
    }
   },
   "types_to_exclude": [
    "module",
    "function",
    "builtin_function_or_method",
    "instance",
    "_Feature"
   ],
   "window_display": false
  }
 },
 "nbformat": 4,
 "nbformat_minor": 4
}
