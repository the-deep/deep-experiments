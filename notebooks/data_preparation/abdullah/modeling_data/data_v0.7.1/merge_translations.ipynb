{
 "cells": [
  {
   "cell_type": "code",
   "execution_count": 1,
   "id": "e0ac0bcc",
   "metadata": {
    "ExecuteTime": {
     "end_time": "2021-11-03T12:11:23.210091Z",
     "start_time": "2021-11-03T12:11:23.010311Z"
    }
   },
   "outputs": [],
   "source": [
    "import pandas as pd"
   ]
  },
  {
   "cell_type": "code",
   "execution_count": 2,
   "id": "2a151fe6",
   "metadata": {
    "ExecuteTime": {
     "end_time": "2021-11-03T12:11:23.443640Z",
     "start_time": "2021-11-03T12:11:23.211150Z"
    }
   },
   "outputs": [
    {
     "name": "stdout",
     "output_type": "stream",
     "text": [
      "0\n",
      "(30653, 2)\n"
     ]
    }
   ],
   "source": [
    "fr_es = pd.read_csv(\"translations/fr-to-es - Sheet1.csv\", header=None)\n",
    "print(fr_es[1].eq(\"Loading...\").sum())\n",
    "print(fr_es.shape)"
   ]
  },
  {
   "cell_type": "code",
   "execution_count": 3,
   "id": "012819ee",
   "metadata": {
    "ExecuteTime": {
     "end_time": "2021-11-03T12:11:23.665112Z",
     "start_time": "2021-11-03T12:11:23.445006Z"
    }
   },
   "outputs": [
    {
     "name": "stdout",
     "output_type": "stream",
     "text": [
      "0\n"
     ]
    },
    {
     "data": {
      "text/plain": [
       "(30653, 2)"
      ]
     },
     "execution_count": 3,
     "metadata": {},
     "output_type": "execute_result"
    }
   ],
   "source": [
    "fr_en = pd.read_csv(\"translations/fr-to-en - Sheet1.csv\", header=None)\n",
    "print(fr_en[1].eq(\"Loading...\").sum())\n",
    "fr_en.shape"
   ]
  },
  {
   "cell_type": "code",
   "execution_count": 4,
   "id": "41c3385c",
   "metadata": {
    "ExecuteTime": {
     "end_time": "2021-11-03T12:11:23.702259Z",
     "start_time": "2021-11-03T12:11:23.666213Z"
    }
   },
   "outputs": [
    {
     "data": {
      "text/html": [
       "<div>\n",
       "<style scoped>\n",
       "    .dataframe tbody tr th:only-of-type {\n",
       "        vertical-align: middle;\n",
       "    }\n",
       "\n",
       "    .dataframe tbody tr th {\n",
       "        vertical-align: top;\n",
       "    }\n",
       "\n",
       "    .dataframe thead th {\n",
       "        text-align: right;\n",
       "    }\n",
       "</style>\n",
       "<table border=\"1\" class=\"dataframe\">\n",
       "  <thead>\n",
       "    <tr style=\"text-align: right;\">\n",
       "      <th></th>\n",
       "      <th>excerpt</th>\n",
       "      <th>translation_en</th>\n",
       "      <th>translation_fr</th>\n",
       "      <th>translation_es</th>\n",
       "    </tr>\n",
       "  </thead>\n",
       "  <tbody>\n",
       "    <tr>\n",
       "      <th>0</th>\n",
       "      <td>Le Sénat congolais, la chambre haute du parlem...</td>\n",
       "      <td>The Congolese Senate, the Haute Chamber of Par...</td>\n",
       "      <td></td>\n",
       "      <td>El senado congoleño, la alta sala del Parlamen...</td>\n",
       "    </tr>\n",
       "    <tr>\n",
       "      <th>1</th>\n",
       "      <td>Les cumuls sont de 345 022 voyageurs internati...</td>\n",
       "      <td>Cumulations are 345,022 international traveler...</td>\n",
       "      <td></td>\n",
       "      <td>Las cumulaciones son 345,022 viajeros internac...</td>\n",
       "    </tr>\n",
       "    <tr>\n",
       "      <th>2</th>\n",
       "      <td>Au terme de la semaine 44, les bilans sont de ...</td>\n",
       "      <td>At the end of the week 44, the balance sheets ...</td>\n",
       "      <td></td>\n",
       "      <td>Al final de la semana 44, los balances son 48,...</td>\n",
       "    </tr>\n",
       "    <tr>\n",
       "      <th>3</th>\n",
       "      <td>Au sujet du trafic national, 7 545 personnes o...</td>\n",
       "      <td>On national traffic, 7,545 people crossed the ...</td>\n",
       "      <td></td>\n",
       "      <td>En el tráfico nacional, 7,545 personas cruzaro...</td>\n",
       "    </tr>\n",
       "    <tr>\n",
       "      <th>4</th>\n",
       "      <td>De la première à la sixième semaine épidémiolo...</td>\n",
       "      <td>From the first to the sixth epidemiological we...</td>\n",
       "      <td></td>\n",
       "      <td>De la primera a la sexta semana epidemiológica...</td>\n",
       "    </tr>\n",
       "    <tr>\n",
       "      <th>...</th>\n",
       "      <td>...</td>\n",
       "      <td>...</td>\n",
       "      <td>...</td>\n",
       "      <td>...</td>\n",
       "    </tr>\n",
       "    <tr>\n",
       "      <th>30648</th>\n",
       "      <td>Les nombres d’épidémies qui ont touchées le Bu...</td>\n",
       "      <td>The numbers of epidemics that affected Burkina...</td>\n",
       "      <td></td>\n",
       "      <td>El número de epidemias que afectó a Burkina (s...</td>\n",
       "    </tr>\n",
       "    <tr>\n",
       "      <th>30649</th>\n",
       "      <td>Cependant, dans plusieurs localités de la Régi...</td>\n",
       "      <td>However, in several localities in the region, ...</td>\n",
       "      <td></td>\n",
       "      <td>Sin embargo, en varias localidades de la regió...</td>\n",
       "    </tr>\n",
       "    <tr>\n",
       "      <th>30650</th>\n",
       "      <td>L’insécurité a engendré des conséquences néfas...</td>\n",
       "      <td>Insecurity has generated harmful consequences ...</td>\n",
       "      <td></td>\n",
       "      <td>La inseguridad ha generado consecuencias dañin...</td>\n",
       "    </tr>\n",
       "    <tr>\n",
       "      <th>30651</th>\n",
       "      <td>Le mil, le maïs et le sorgho sont les produits...</td>\n",
       "      <td>Mili, corn and sorghum are the most important ...</td>\n",
       "      <td></td>\n",
       "      <td>Mili, maíz y sorgo son los productos alimentic...</td>\n",
       "    </tr>\n",
       "    <tr>\n",
       "      <th>30652</th>\n",
       "      <td>Les services éducatifs formels étaient les pri...</td>\n",
       "      <td>Formal educational services were the main serv...</td>\n",
       "      <td></td>\n",
       "      <td>Los servicios formales educativos fueron los p...</td>\n",
       "    </tr>\n",
       "  </tbody>\n",
       "</table>\n",
       "<p>30653 rows × 4 columns</p>\n",
       "</div>"
      ],
      "text/plain": [
       "                                                 excerpt  \\\n",
       "0      Le Sénat congolais, la chambre haute du parlem...   \n",
       "1      Les cumuls sont de 345 022 voyageurs internati...   \n",
       "2      Au terme de la semaine 44, les bilans sont de ...   \n",
       "3      Au sujet du trafic national, 7 545 personnes o...   \n",
       "4      De la première à la sixième semaine épidémiolo...   \n",
       "...                                                  ...   \n",
       "30648  Les nombres d’épidémies qui ont touchées le Bu...   \n",
       "30649  Cependant, dans plusieurs localités de la Régi...   \n",
       "30650  L’insécurité a engendré des conséquences néfas...   \n",
       "30651  Le mil, le maïs et le sorgho sont les produits...   \n",
       "30652  Les services éducatifs formels étaient les pri...   \n",
       "\n",
       "                                          translation_en translation_fr  \\\n",
       "0      The Congolese Senate, the Haute Chamber of Par...                  \n",
       "1      Cumulations are 345,022 international traveler...                  \n",
       "2      At the end of the week 44, the balance sheets ...                  \n",
       "3      On national traffic, 7,545 people crossed the ...                  \n",
       "4      From the first to the sixth epidemiological we...                  \n",
       "...                                                  ...            ...   \n",
       "30648  The numbers of epidemics that affected Burkina...                  \n",
       "30649  However, in several localities in the region, ...                  \n",
       "30650  Insecurity has generated harmful consequences ...                  \n",
       "30651  Mili, corn and sorghum are the most important ...                  \n",
       "30652  Formal educational services were the main serv...                  \n",
       "\n",
       "                                          translation_es  \n",
       "0      El senado congoleño, la alta sala del Parlamen...  \n",
       "1      Las cumulaciones son 345,022 viajeros internac...  \n",
       "2      Al final de la semana 44, los balances son 48,...  \n",
       "3      En el tráfico nacional, 7,545 personas cruzaro...  \n",
       "4      De la primera a la sexta semana epidemiológica...  \n",
       "...                                                  ...  \n",
       "30648  El número de epidemias que afectó a Burkina (s...  \n",
       "30649  Sin embargo, en varias localidades de la regió...  \n",
       "30650  La inseguridad ha generado consecuencias dañin...  \n",
       "30651  Mili, maíz y sorgo son los productos alimentic...  \n",
       "30652  Los servicios formales educativos fueron los p...  \n",
       "\n",
       "[30653 rows x 4 columns]"
      ]
     },
     "execution_count": 4,
     "metadata": {},
     "output_type": "execute_result"
    }
   ],
   "source": [
    "fr_df = pd.concat([fr_en, fr_es], axis=1)\n",
    "fr_df.columns = [\"excerpt\", \"translation_en\", \"excerpt_repeated\", \"translation_es\"]\n",
    "fr_df.drop(columns=[\"excerpt_repeated\"], inplace=True)\n",
    "fr_df[\"translation_fr\"] = \"\"\n",
    "fr_df = fr_df[[\"excerpt\", \"translation_en\", \"translation_fr\", \"translation_es\"]]\n",
    "#fr_df.drop_duplicates(inplace=True, ignore_index=True)\n",
    "fr_df"
   ]
  },
  {
   "cell_type": "markdown",
   "id": "e6c20ebe",
   "metadata": {
    "ExecuteTime": {
     "end_time": "2021-11-03T07:57:02.700297Z",
     "start_time": "2021-11-03T07:57:02.681413Z"
    }
   },
   "source": [
    "***"
   ]
  },
  {
   "cell_type": "code",
   "execution_count": 5,
   "id": "5567b39f",
   "metadata": {
    "ExecuteTime": {
     "end_time": "2021-11-03T12:11:23.975840Z",
     "start_time": "2021-11-03T12:11:23.703622Z"
    }
   },
   "outputs": [
    {
     "name": "stdout",
     "output_type": "stream",
     "text": [
      "0\n",
      "0\n",
      "(29699, 2)\n"
     ]
    }
   ],
   "source": [
    "es_fr = pd.read_csv(\"translations/es-to-fr - Sheet1.csv\", header=None)\n",
    "print(es_fr[1].eq(\"Loading...\").sum())\n",
    "print(es_fr[1].isna().sum())\n",
    "print(es_fr.shape)"
   ]
  },
  {
   "cell_type": "code",
   "execution_count": 6,
   "id": "4f799c18",
   "metadata": {
    "ExecuteTime": {
     "end_time": "2021-11-03T12:11:24.210571Z",
     "start_time": "2021-11-03T12:11:23.976738Z"
    }
   },
   "outputs": [
    {
     "name": "stdout",
     "output_type": "stream",
     "text": [
      "0\n",
      "0\n",
      "(29699, 2)\n"
     ]
    }
   ],
   "source": [
    "es_en = pd.read_csv(\"translations/es-to-en - Sheet1.csv\", header=None)\n",
    "print(es_en[1].eq(\"Loading...\").sum())\n",
    "print(es_en[1].isna().sum())\n",
    "print(es_en.shape)"
   ]
  },
  {
   "cell_type": "code",
   "execution_count": 7,
   "id": "4737f194",
   "metadata": {
    "ExecuteTime": {
     "end_time": "2021-11-03T12:11:24.241993Z",
     "start_time": "2021-11-03T12:11:24.211613Z"
    }
   },
   "outputs": [
    {
     "data": {
      "text/html": [
       "<div>\n",
       "<style scoped>\n",
       "    .dataframe tbody tr th:only-of-type {\n",
       "        vertical-align: middle;\n",
       "    }\n",
       "\n",
       "    .dataframe tbody tr th {\n",
       "        vertical-align: top;\n",
       "    }\n",
       "\n",
       "    .dataframe thead th {\n",
       "        text-align: right;\n",
       "    }\n",
       "</style>\n",
       "<table border=\"1\" class=\"dataframe\">\n",
       "  <thead>\n",
       "    <tr style=\"text-align: right;\">\n",
       "      <th></th>\n",
       "      <th>excerpt</th>\n",
       "      <th>translation_en</th>\n",
       "      <th>translation_fr</th>\n",
       "      <th>translation_es</th>\n",
       "    </tr>\n",
       "  </thead>\n",
       "  <tbody>\n",
       "    <tr>\n",
       "      <th>0</th>\n",
       "      <td>Impacto en las personas a. Inseguridad aliment...</td>\n",
       "      <td>Impact on people a. Food insecurity Recurrent ...</td>\n",
       "      <td>Impact sur les gens a. Insécurité alimentaire ...</td>\n",
       "      <td></td>\n",
       "    </tr>\n",
       "    <tr>\n",
       "      <th>1</th>\n",
       "      <td>El Salvador hace frente a una combinación de c...</td>\n",
       "      <td>El Salvador faces a combination of crisis in w...</td>\n",
       "      <td>El Salvador est confronté à une combinaison de...</td>\n",
       "      <td></td>\n",
       "    </tr>\n",
       "    <tr>\n",
       "      <th>2</th>\n",
       "      <td>Las personas que habitan en cantones donde no ...</td>\n",
       "      <td>The people who live in cantons where there is ...</td>\n",
       "      <td>Les personnes qui vivent dans des cantons où i...</td>\n",
       "      <td></td>\n",
       "    </tr>\n",
       "    <tr>\n",
       "      <th>3</th>\n",
       "      <td>Los AFCs requieren de oportunidades para mejor...</td>\n",
       "      <td>AFCs require opportunities to improve their pr...</td>\n",
       "      <td>Les AFC ont besoin d'occasions d'améliorer leu...</td>\n",
       "      <td></td>\n",
       "    </tr>\n",
       "    <tr>\n",
       "      <th>4</th>\n",
       "      <td>Como es apreciable, las excepciones detalladas...</td>\n",
       "      <td>As is appreciable, the exceptions detailed in ...</td>\n",
       "      <td>Comme c'est appréciable, les exceptions détail...</td>\n",
       "      <td></td>\n",
       "    </tr>\n",
       "    <tr>\n",
       "      <th>...</th>\n",
       "      <td>...</td>\n",
       "      <td>...</td>\n",
       "      <td>...</td>\n",
       "      <td>...</td>\n",
       "    </tr>\n",
       "    <tr>\n",
       "      <th>29694</th>\n",
       "      <td>Las mujeres migrantes y refugiadas venezolanas...</td>\n",
       "      <td>Venezuelan migrant and refugee women reported ...</td>\n",
       "      <td>Les femmes migrantes vénézuéliennes et les fem...</td>\n",
       "      <td></td>\n",
       "    </tr>\n",
       "    <tr>\n",
       "      <th>29695</th>\n",
       "      <td>Además de enfrentarse a dificultades para acce...</td>\n",
       "      <td>In addition to facing difficulties in accessin...</td>\n",
       "      <td>En plus de difficultés rencontrées pour accéde...</td>\n",
       "      <td></td>\n",
       "    </tr>\n",
       "    <tr>\n",
       "      <th>29696</th>\n",
       "      <td>No ha sido posible explorar en la magnitud de ...</td>\n",
       "      <td>It has not been possible to explore in the mag...</td>\n",
       "      <td>Il n'a pas été possible d'explorer dans l'ampl...</td>\n",
       "      <td></td>\n",
       "    </tr>\n",
       "    <tr>\n",
       "      <th>29697</th>\n",
       "      <td>El 29 por ciento de las mujeres y el 24 por ci...</td>\n",
       "      <td>29 percent of women and 24 percent of men who ...</td>\n",
       "      <td>29% des femmes et 24% des hommes qui ont accès...</td>\n",
       "      <td></td>\n",
       "    </tr>\n",
       "    <tr>\n",
       "      <th>29698</th>\n",
       "      <td>La emergencia generada por la pandemia de COVI...</td>\n",
       "      <td>The emergency generated by the Covid-19 pandem...</td>\n",
       "      <td>L'urgence générée par la pandémie Covid-19 est...</td>\n",
       "      <td></td>\n",
       "    </tr>\n",
       "  </tbody>\n",
       "</table>\n",
       "<p>29699 rows × 4 columns</p>\n",
       "</div>"
      ],
      "text/plain": [
       "                                                 excerpt  \\\n",
       "0      Impacto en las personas a. Inseguridad aliment...   \n",
       "1      El Salvador hace frente a una combinación de c...   \n",
       "2      Las personas que habitan en cantones donde no ...   \n",
       "3      Los AFCs requieren de oportunidades para mejor...   \n",
       "4      Como es apreciable, las excepciones detalladas...   \n",
       "...                                                  ...   \n",
       "29694  Las mujeres migrantes y refugiadas venezolanas...   \n",
       "29695  Además de enfrentarse a dificultades para acce...   \n",
       "29696  No ha sido posible explorar en la magnitud de ...   \n",
       "29697  El 29 por ciento de las mujeres y el 24 por ci...   \n",
       "29698  La emergencia generada por la pandemia de COVI...   \n",
       "\n",
       "                                          translation_en  \\\n",
       "0      Impact on people a. Food insecurity Recurrent ...   \n",
       "1      El Salvador faces a combination of crisis in w...   \n",
       "2      The people who live in cantons where there is ...   \n",
       "3      AFCs require opportunities to improve their pr...   \n",
       "4      As is appreciable, the exceptions detailed in ...   \n",
       "...                                                  ...   \n",
       "29694  Venezuelan migrant and refugee women reported ...   \n",
       "29695  In addition to facing difficulties in accessin...   \n",
       "29696  It has not been possible to explore in the mag...   \n",
       "29697  29 percent of women and 24 percent of men who ...   \n",
       "29698  The emergency generated by the Covid-19 pandem...   \n",
       "\n",
       "                                          translation_fr translation_es  \n",
       "0      Impact sur les gens a. Insécurité alimentaire ...                 \n",
       "1      El Salvador est confronté à une combinaison de...                 \n",
       "2      Les personnes qui vivent dans des cantons où i...                 \n",
       "3      Les AFC ont besoin d'occasions d'améliorer leu...                 \n",
       "4      Comme c'est appréciable, les exceptions détail...                 \n",
       "...                                                  ...            ...  \n",
       "29694  Les femmes migrantes vénézuéliennes et les fem...                 \n",
       "29695  En plus de difficultés rencontrées pour accéde...                 \n",
       "29696  Il n'a pas été possible d'explorer dans l'ampl...                 \n",
       "29697  29% des femmes et 24% des hommes qui ont accès...                 \n",
       "29698  L'urgence générée par la pandémie Covid-19 est...                 \n",
       "\n",
       "[29699 rows x 4 columns]"
      ]
     },
     "execution_count": 7,
     "metadata": {},
     "output_type": "execute_result"
    }
   ],
   "source": [
    "es_df = pd.concat([es_en, es_fr], axis=1)\n",
    "es_df.columns = [\"excerpt\", \"translation_en\", \"excerpt_repeated\", \"translation_fr\"]\n",
    "es_df.drop(columns=[\"excerpt_repeated\"], inplace=True)\n",
    "es_df[\"translation_es\"] = \"\"\n",
    "es_df = es_df[[\"excerpt\", \"translation_en\", \"translation_fr\", \"translation_es\"]]\n",
    "#es_df.drop_duplicates(inplace=True, ignore_index=True)\n",
    "es_df"
   ]
  },
  {
   "cell_type": "markdown",
   "id": "cf6e05c3",
   "metadata": {
    "ExecuteTime": {
     "end_time": "2021-11-03T07:57:02.700297Z",
     "start_time": "2021-11-03T07:57:02.681413Z"
    }
   },
   "source": [
    "***"
   ]
  },
  {
   "cell_type": "code",
   "execution_count": 8,
   "id": "0cfe870c",
   "metadata": {
    "ExecuteTime": {
     "end_time": "2021-11-03T12:11:24.498698Z",
     "start_time": "2021-11-03T12:11:24.243083Z"
    }
   },
   "outputs": [
    {
     "data": {
      "text/plain": [
       "0"
      ]
     },
     "execution_count": 8,
     "metadata": {},
     "output_type": "execute_result"
    }
   ],
   "source": [
    "en_fr_1 = pd.read_csv(\"translations/en-to-fr-1 - Sheet1.csv\", header=None)\n",
    "en_fr_1[1].eq(\"Loading...\").sum()"
   ]
  },
  {
   "cell_type": "code",
   "execution_count": 9,
   "id": "bf647a49",
   "metadata": {
    "ExecuteTime": {
     "end_time": "2021-11-03T12:11:24.754449Z",
     "start_time": "2021-11-03T12:11:24.500624Z"
    }
   },
   "outputs": [
    {
     "data": {
      "text/plain": [
       "0"
      ]
     },
     "execution_count": 9,
     "metadata": {},
     "output_type": "execute_result"
    }
   ],
   "source": [
    "en_fr_2 = pd.read_csv(\"translations/en-to-fr-2 - Sheet1.csv\", header=None)\n",
    "en_fr_2[1].eq(\"Loading...\").sum()"
   ]
  },
  {
   "cell_type": "code",
   "execution_count": 10,
   "id": "92c29f96",
   "metadata": {
    "ExecuteTime": {
     "end_time": "2021-11-03T12:11:25.005412Z",
     "start_time": "2021-11-03T12:11:24.755436Z"
    }
   },
   "outputs": [
    {
     "data": {
      "text/plain": [
       "0"
      ]
     },
     "execution_count": 10,
     "metadata": {},
     "output_type": "execute_result"
    }
   ],
   "source": [
    "en_fr_3 = pd.read_csv(\"translations/en-to-fr-3 - Sheet1.csv\", header=None)\n",
    "en_fr_3[1].eq(\"Loading...\").sum()"
   ]
  },
  {
   "cell_type": "code",
   "execution_count": 11,
   "id": "e7cfa05d",
   "metadata": {
    "ExecuteTime": {
     "end_time": "2021-11-03T12:11:25.018032Z",
     "start_time": "2021-11-03T12:11:25.006385Z"
    }
   },
   "outputs": [
    {
     "data": {
      "text/html": [
       "<div>\n",
       "<style scoped>\n",
       "    .dataframe tbody tr th:only-of-type {\n",
       "        vertical-align: middle;\n",
       "    }\n",
       "\n",
       "    .dataframe tbody tr th {\n",
       "        vertical-align: top;\n",
       "    }\n",
       "\n",
       "    .dataframe thead th {\n",
       "        text-align: right;\n",
       "    }\n",
       "</style>\n",
       "<table border=\"1\" class=\"dataframe\">\n",
       "  <thead>\n",
       "    <tr style=\"text-align: right;\">\n",
       "      <th></th>\n",
       "      <th>0</th>\n",
       "      <th>1</th>\n",
       "    </tr>\n",
       "  </thead>\n",
       "  <tbody>\n",
       "    <tr>\n",
       "      <th>0</th>\n",
       "      <td>During the reporting week, IOM provided medica...</td>\n",
       "      <td>Au cours de la semaine de reporting, l'OIM a f...</td>\n",
       "    </tr>\n",
       "    <tr>\n",
       "      <th>1</th>\n",
       "      <td>Primary and secondary net enrollment rates are...</td>\n",
       "      <td>Les taux de scolarisation nets primaires et se...</td>\n",
       "    </tr>\n",
       "    <tr>\n",
       "      <th>2</th>\n",
       "      <td>• According to the World Bank, most Venezuelan...</td>\n",
       "      <td>• Selon la Banque mondiale, la plupart des mig...</td>\n",
       "    </tr>\n",
       "    <tr>\n",
       "      <th>3</th>\n",
       "      <td>Like few other countries globally, the majorit...</td>\n",
       "      <td>Comme peu d'autres pays à l'échelle mondiale, ...</td>\n",
       "    </tr>\n",
       "    <tr>\n",
       "      <th>4</th>\n",
       "      <td>After past, partially implemented attempts, th...</td>\n",
       "      <td>Après le passé, des tentatives partiellement m...</td>\n",
       "    </tr>\n",
       "    <tr>\n",
       "      <th>...</th>\n",
       "      <td>...</td>\n",
       "      <td>...</td>\n",
       "    </tr>\n",
       "    <tr>\n",
       "      <th>97563</th>\n",
       "      <td>[September 5, GoS] Director of Al-Mowasat Hosp...</td>\n",
       "      <td>[5 septembre, GOS] Directeur de l'hôpital Al-M...</td>\n",
       "    </tr>\n",
       "    <tr>\n",
       "      <th>97564</th>\n",
       "      <td>Situation Overview &amp; Humanitarian Needs Accord...</td>\n",
       "      <td>Aperçu de la situation et besoins humanitaires...</td>\n",
       "    </tr>\n",
       "    <tr>\n",
       "      <th>97565</th>\n",
       "      <td>With the arrival of the pandemic, the voluntee...</td>\n",
       "      <td>Avec l'arrivée de la pandémie, les volontaires...</td>\n",
       "    </tr>\n",
       "    <tr>\n",
       "      <th>97566</th>\n",
       "      <td>With the arrival of the pandemic, the voluntee...</td>\n",
       "      <td>Avec l'arrivée de la pandémie, les volontaires...</td>\n",
       "    </tr>\n",
       "    <tr>\n",
       "      <th>97567</th>\n",
       "      <td>In 2021, UNICEF has prioritized actions in Bol...</td>\n",
       "      <td>En 2021, l'UNICEF a hiérarchisé les actions en...</td>\n",
       "    </tr>\n",
       "  </tbody>\n",
       "</table>\n",
       "<p>97568 rows × 2 columns</p>\n",
       "</div>"
      ],
      "text/plain": [
       "                                                       0  \\\n",
       "0      During the reporting week, IOM provided medica...   \n",
       "1      Primary and secondary net enrollment rates are...   \n",
       "2      • According to the World Bank, most Venezuelan...   \n",
       "3      Like few other countries globally, the majorit...   \n",
       "4      After past, partially implemented attempts, th...   \n",
       "...                                                  ...   \n",
       "97563  [September 5, GoS] Director of Al-Mowasat Hosp...   \n",
       "97564  Situation Overview & Humanitarian Needs Accord...   \n",
       "97565  With the arrival of the pandemic, the voluntee...   \n",
       "97566  With the arrival of the pandemic, the voluntee...   \n",
       "97567  In 2021, UNICEF has prioritized actions in Bol...   \n",
       "\n",
       "                                                       1  \n",
       "0      Au cours de la semaine de reporting, l'OIM a f...  \n",
       "1      Les taux de scolarisation nets primaires et se...  \n",
       "2      • Selon la Banque mondiale, la plupart des mig...  \n",
       "3      Comme peu d'autres pays à l'échelle mondiale, ...  \n",
       "4      Après le passé, des tentatives partiellement m...  \n",
       "...                                                  ...  \n",
       "97563  [5 septembre, GOS] Directeur de l'hôpital Al-M...  \n",
       "97564  Aperçu de la situation et besoins humanitaires...  \n",
       "97565  Avec l'arrivée de la pandémie, les volontaires...  \n",
       "97566  Avec l'arrivée de la pandémie, les volontaires...  \n",
       "97567  En 2021, l'UNICEF a hiérarchisé les actions en...  \n",
       "\n",
       "[97568 rows x 2 columns]"
      ]
     },
     "execution_count": 11,
     "metadata": {},
     "output_type": "execute_result"
    }
   ],
   "source": [
    "en_fr = pd.concat([en_fr_1, en_fr_2, en_fr_3], axis=0, ignore_index=True)\n",
    "en_fr"
   ]
  },
  {
   "cell_type": "markdown",
   "id": "bb215b68",
   "metadata": {},
   "source": [
    "***"
   ]
  },
  {
   "cell_type": "code",
   "execution_count": 12,
   "id": "ae0fff1f",
   "metadata": {
    "ExecuteTime": {
     "end_time": "2021-11-03T12:11:25.258450Z",
     "start_time": "2021-11-03T12:11:25.019076Z"
    }
   },
   "outputs": [
    {
     "data": {
      "text/plain": [
       "0"
      ]
     },
     "execution_count": 12,
     "metadata": {},
     "output_type": "execute_result"
    }
   ],
   "source": [
    "en_es_1 = pd.read_csv(\"translations/en-to-es-1 - Sheet1.csv\", header=None)\n",
    "en_es_1[1].eq(\"Loading...\").sum()"
   ]
  },
  {
   "cell_type": "code",
   "execution_count": 13,
   "id": "183c86ca",
   "metadata": {
    "ExecuteTime": {
     "end_time": "2021-11-03T12:11:25.502809Z",
     "start_time": "2021-11-03T12:11:25.259892Z"
    }
   },
   "outputs": [
    {
     "data": {
      "text/plain": [
       "0"
      ]
     },
     "execution_count": 13,
     "metadata": {},
     "output_type": "execute_result"
    }
   ],
   "source": [
    "en_es_2 = pd.read_csv(\"translations/en-to-es-2 - Sheet1.csv\", header=None)\n",
    "en_es_2[1].eq(\"Loading...\").sum()"
   ]
  },
  {
   "cell_type": "code",
   "execution_count": 14,
   "id": "a08e2758",
   "metadata": {
    "ExecuteTime": {
     "end_time": "2021-11-03T12:11:25.740277Z",
     "start_time": "2021-11-03T12:11:25.504047Z"
    }
   },
   "outputs": [
    {
     "data": {
      "text/plain": [
       "0"
      ]
     },
     "execution_count": 14,
     "metadata": {},
     "output_type": "execute_result"
    }
   ],
   "source": [
    "en_es_3 = pd.read_csv(\"translations/en-to-es-3 - Sheet1.csv\", header=None)\n",
    "en_es_3[1].eq(\"Loading...\").sum()"
   ]
  },
  {
   "cell_type": "code",
   "execution_count": 15,
   "id": "b46b1a6a",
   "metadata": {
    "ExecuteTime": {
     "end_time": "2021-11-03T12:11:25.753365Z",
     "start_time": "2021-11-03T12:11:25.741468Z"
    }
   },
   "outputs": [
    {
     "data": {
      "text/html": [
       "<div>\n",
       "<style scoped>\n",
       "    .dataframe tbody tr th:only-of-type {\n",
       "        vertical-align: middle;\n",
       "    }\n",
       "\n",
       "    .dataframe tbody tr th {\n",
       "        vertical-align: top;\n",
       "    }\n",
       "\n",
       "    .dataframe thead th {\n",
       "        text-align: right;\n",
       "    }\n",
       "</style>\n",
       "<table border=\"1\" class=\"dataframe\">\n",
       "  <thead>\n",
       "    <tr style=\"text-align: right;\">\n",
       "      <th></th>\n",
       "      <th>0</th>\n",
       "      <th>1</th>\n",
       "    </tr>\n",
       "  </thead>\n",
       "  <tbody>\n",
       "    <tr>\n",
       "      <th>0</th>\n",
       "      <td>During the reporting week, IOM provided medica...</td>\n",
       "      <td>Durante la semana de presentación de informes,...</td>\n",
       "    </tr>\n",
       "    <tr>\n",
       "      <th>1</th>\n",
       "      <td>Primary and secondary net enrollment rates are...</td>\n",
       "      <td>Las tasas de inscripción netas primarias y sec...</td>\n",
       "    </tr>\n",
       "    <tr>\n",
       "      <th>2</th>\n",
       "      <td>• According to the World Bank, most Venezuelan...</td>\n",
       "      <td>• Según el Banco Mundial, la mayoría de los mi...</td>\n",
       "    </tr>\n",
       "    <tr>\n",
       "      <th>3</th>\n",
       "      <td>Like few other countries globally, the majorit...</td>\n",
       "      <td>Al igual que algunos otros países a nivel mund...</td>\n",
       "    </tr>\n",
       "    <tr>\n",
       "      <th>4</th>\n",
       "      <td>After past, partially implemented attempts, th...</td>\n",
       "      <td>Después de los intentos pasados, parcialmente ...</td>\n",
       "    </tr>\n",
       "    <tr>\n",
       "      <th>...</th>\n",
       "      <td>...</td>\n",
       "      <td>...</td>\n",
       "    </tr>\n",
       "    <tr>\n",
       "      <th>97563</th>\n",
       "      <td>[September 5, GoS] Director of Al-Mowasat Hosp...</td>\n",
       "      <td>[5 de septiembre, GOS] Director del Hospital d...</td>\n",
       "    </tr>\n",
       "    <tr>\n",
       "      <th>97564</th>\n",
       "      <td>Situation Overview &amp; Humanitarian Needs Accord...</td>\n",
       "      <td>Resumen de la situación y necesidades humanita...</td>\n",
       "    </tr>\n",
       "    <tr>\n",
       "      <th>97565</th>\n",
       "      <td>With the arrival of the pandemic, the voluntee...</td>\n",
       "      <td>Con la llegada de la pandemia, los voluntarios...</td>\n",
       "    </tr>\n",
       "    <tr>\n",
       "      <th>97566</th>\n",
       "      <td>With the arrival of the pandemic, the voluntee...</td>\n",
       "      <td>Con la llegada de la pandemia, los voluntarios...</td>\n",
       "    </tr>\n",
       "    <tr>\n",
       "      <th>97567</th>\n",
       "      <td>In 2021, UNICEF has prioritized actions in Bol...</td>\n",
       "      <td>En 2021, UNICEF tiene acciones priorizadas en ...</td>\n",
       "    </tr>\n",
       "  </tbody>\n",
       "</table>\n",
       "<p>97568 rows × 2 columns</p>\n",
       "</div>"
      ],
      "text/plain": [
       "                                                       0  \\\n",
       "0      During the reporting week, IOM provided medica...   \n",
       "1      Primary and secondary net enrollment rates are...   \n",
       "2      • According to the World Bank, most Venezuelan...   \n",
       "3      Like few other countries globally, the majorit...   \n",
       "4      After past, partially implemented attempts, th...   \n",
       "...                                                  ...   \n",
       "97563  [September 5, GoS] Director of Al-Mowasat Hosp...   \n",
       "97564  Situation Overview & Humanitarian Needs Accord...   \n",
       "97565  With the arrival of the pandemic, the voluntee...   \n",
       "97566  With the arrival of the pandemic, the voluntee...   \n",
       "97567  In 2021, UNICEF has prioritized actions in Bol...   \n",
       "\n",
       "                                                       1  \n",
       "0      Durante la semana de presentación de informes,...  \n",
       "1      Las tasas de inscripción netas primarias y sec...  \n",
       "2      • Según el Banco Mundial, la mayoría de los mi...  \n",
       "3      Al igual que algunos otros países a nivel mund...  \n",
       "4      Después de los intentos pasados, parcialmente ...  \n",
       "...                                                  ...  \n",
       "97563  [5 de septiembre, GOS] Director del Hospital d...  \n",
       "97564  Resumen de la situación y necesidades humanita...  \n",
       "97565  Con la llegada de la pandemia, los voluntarios...  \n",
       "97566  Con la llegada de la pandemia, los voluntarios...  \n",
       "97567  En 2021, UNICEF tiene acciones priorizadas en ...  \n",
       "\n",
       "[97568 rows x 2 columns]"
      ]
     },
     "execution_count": 15,
     "metadata": {},
     "output_type": "execute_result"
    }
   ],
   "source": [
    "en_es = pd.concat([en_es_1, en_es_2, en_es_3], axis=0, ignore_index=True)\n",
    "en_es"
   ]
  },
  {
   "cell_type": "markdown",
   "id": "68702ac2",
   "metadata": {
    "ExecuteTime": {
     "end_time": "2021-11-03T07:57:02.700297Z",
     "start_time": "2021-11-03T07:57:02.681413Z"
    }
   },
   "source": [
    "***"
   ]
  },
  {
   "cell_type": "code",
   "execution_count": 16,
   "id": "8d5a6933",
   "metadata": {
    "ExecuteTime": {
     "end_time": "2021-11-03T12:11:25.838526Z",
     "start_time": "2021-11-03T12:11:25.754426Z"
    }
   },
   "outputs": [
    {
     "data": {
      "text/html": [
       "<div>\n",
       "<style scoped>\n",
       "    .dataframe tbody tr th:only-of-type {\n",
       "        vertical-align: middle;\n",
       "    }\n",
       "\n",
       "    .dataframe tbody tr th {\n",
       "        vertical-align: top;\n",
       "    }\n",
       "\n",
       "    .dataframe thead th {\n",
       "        text-align: right;\n",
       "    }\n",
       "</style>\n",
       "<table border=\"1\" class=\"dataframe\">\n",
       "  <thead>\n",
       "    <tr style=\"text-align: right;\">\n",
       "      <th></th>\n",
       "      <th>excerpt</th>\n",
       "      <th>translation_en</th>\n",
       "      <th>translation_fr</th>\n",
       "      <th>translation_es</th>\n",
       "    </tr>\n",
       "  </thead>\n",
       "  <tbody>\n",
       "    <tr>\n",
       "      <th>0</th>\n",
       "      <td>During the reporting week, IOM provided medica...</td>\n",
       "      <td></td>\n",
       "      <td>Au cours de la semaine de reporting, l'OIM a f...</td>\n",
       "      <td>Durante la semana de presentación de informes,...</td>\n",
       "    </tr>\n",
       "    <tr>\n",
       "      <th>1</th>\n",
       "      <td>Primary and secondary net enrollment rates are...</td>\n",
       "      <td></td>\n",
       "      <td>Les taux de scolarisation nets primaires et se...</td>\n",
       "      <td>Las tasas de inscripción netas primarias y sec...</td>\n",
       "    </tr>\n",
       "    <tr>\n",
       "      <th>2</th>\n",
       "      <td>• According to the World Bank, most Venezuelan...</td>\n",
       "      <td></td>\n",
       "      <td>• Selon la Banque mondiale, la plupart des mig...</td>\n",
       "      <td>• Según el Banco Mundial, la mayoría de los mi...</td>\n",
       "    </tr>\n",
       "    <tr>\n",
       "      <th>3</th>\n",
       "      <td>Like few other countries globally, the majorit...</td>\n",
       "      <td></td>\n",
       "      <td>Comme peu d'autres pays à l'échelle mondiale, ...</td>\n",
       "      <td>Al igual que algunos otros países a nivel mund...</td>\n",
       "    </tr>\n",
       "    <tr>\n",
       "      <th>4</th>\n",
       "      <td>After past, partially implemented attempts, th...</td>\n",
       "      <td></td>\n",
       "      <td>Après le passé, des tentatives partiellement m...</td>\n",
       "      <td>Después de los intentos pasados, parcialmente ...</td>\n",
       "    </tr>\n",
       "    <tr>\n",
       "      <th>...</th>\n",
       "      <td>...</td>\n",
       "      <td>...</td>\n",
       "      <td>...</td>\n",
       "      <td>...</td>\n",
       "    </tr>\n",
       "    <tr>\n",
       "      <th>97563</th>\n",
       "      <td>[September 5, GoS] Director of Al-Mowasat Hosp...</td>\n",
       "      <td></td>\n",
       "      <td>[5 septembre, GOS] Directeur de l'hôpital Al-M...</td>\n",
       "      <td>[5 de septiembre, GOS] Director del Hospital d...</td>\n",
       "    </tr>\n",
       "    <tr>\n",
       "      <th>97564</th>\n",
       "      <td>Situation Overview &amp; Humanitarian Needs Accord...</td>\n",
       "      <td></td>\n",
       "      <td>Aperçu de la situation et besoins humanitaires...</td>\n",
       "      <td>Resumen de la situación y necesidades humanita...</td>\n",
       "    </tr>\n",
       "    <tr>\n",
       "      <th>97565</th>\n",
       "      <td>With the arrival of the pandemic, the voluntee...</td>\n",
       "      <td></td>\n",
       "      <td>Avec l'arrivée de la pandémie, les volontaires...</td>\n",
       "      <td>Con la llegada de la pandemia, los voluntarios...</td>\n",
       "    </tr>\n",
       "    <tr>\n",
       "      <th>97566</th>\n",
       "      <td>With the arrival of the pandemic, the voluntee...</td>\n",
       "      <td></td>\n",
       "      <td>Avec l'arrivée de la pandémie, les volontaires...</td>\n",
       "      <td>Con la llegada de la pandemia, los voluntarios...</td>\n",
       "    </tr>\n",
       "    <tr>\n",
       "      <th>97567</th>\n",
       "      <td>In 2021, UNICEF has prioritized actions in Bol...</td>\n",
       "      <td></td>\n",
       "      <td>En 2021, l'UNICEF a hiérarchisé les actions en...</td>\n",
       "      <td>En 2021, UNICEF tiene acciones priorizadas en ...</td>\n",
       "    </tr>\n",
       "  </tbody>\n",
       "</table>\n",
       "<p>97568 rows × 4 columns</p>\n",
       "</div>"
      ],
      "text/plain": [
       "                                                 excerpt translation_en  \\\n",
       "0      During the reporting week, IOM provided medica...                  \n",
       "1      Primary and secondary net enrollment rates are...                  \n",
       "2      • According to the World Bank, most Venezuelan...                  \n",
       "3      Like few other countries globally, the majorit...                  \n",
       "4      After past, partially implemented attempts, th...                  \n",
       "...                                                  ...            ...   \n",
       "97563  [September 5, GoS] Director of Al-Mowasat Hosp...                  \n",
       "97564  Situation Overview & Humanitarian Needs Accord...                  \n",
       "97565  With the arrival of the pandemic, the voluntee...                  \n",
       "97566  With the arrival of the pandemic, the voluntee...                  \n",
       "97567  In 2021, UNICEF has prioritized actions in Bol...                  \n",
       "\n",
       "                                          translation_fr  \\\n",
       "0      Au cours de la semaine de reporting, l'OIM a f...   \n",
       "1      Les taux de scolarisation nets primaires et se...   \n",
       "2      • Selon la Banque mondiale, la plupart des mig...   \n",
       "3      Comme peu d'autres pays à l'échelle mondiale, ...   \n",
       "4      Après le passé, des tentatives partiellement m...   \n",
       "...                                                  ...   \n",
       "97563  [5 septembre, GOS] Directeur de l'hôpital Al-M...   \n",
       "97564  Aperçu de la situation et besoins humanitaires...   \n",
       "97565  Avec l'arrivée de la pandémie, les volontaires...   \n",
       "97566  Avec l'arrivée de la pandémie, les volontaires...   \n",
       "97567  En 2021, l'UNICEF a hiérarchisé les actions en...   \n",
       "\n",
       "                                          translation_es  \n",
       "0      Durante la semana de presentación de informes,...  \n",
       "1      Las tasas de inscripción netas primarias y sec...  \n",
       "2      • Según el Banco Mundial, la mayoría de los mi...  \n",
       "3      Al igual que algunos otros países a nivel mund...  \n",
       "4      Después de los intentos pasados, parcialmente ...  \n",
       "...                                                  ...  \n",
       "97563  [5 de septiembre, GOS] Director del Hospital d...  \n",
       "97564  Resumen de la situación y necesidades humanita...  \n",
       "97565  Con la llegada de la pandemia, los voluntarios...  \n",
       "97566  Con la llegada de la pandemia, los voluntarios...  \n",
       "97567  En 2021, UNICEF tiene acciones priorizadas en ...  \n",
       "\n",
       "[97568 rows x 4 columns]"
      ]
     },
     "execution_count": 16,
     "metadata": {},
     "output_type": "execute_result"
    }
   ],
   "source": [
    "en_df = pd.concat([en_es, en_fr], axis=1)\n",
    "en_df.columns = [\"excerpt\", \"translation_es\", \"excerpt_repeated\", \"translation_fr\"]\n",
    "en_df.drop(columns=[\"excerpt_repeated\"], inplace=True)\n",
    "en_df[\"translation_en\"] = \"\"\n",
    "en_df = en_df[[\"excerpt\", \"translation_en\", \"translation_fr\", \"translation_es\"]]\n",
    "#en_df.drop_duplicates(inplace=True, ignore_index=True)\n",
    "en_df"
   ]
  },
  {
   "cell_type": "markdown",
   "id": "ef939e5c",
   "metadata": {},
   "source": [
    "***"
   ]
  },
  {
   "cell_type": "code",
   "execution_count": 17,
   "id": "8680d701",
   "metadata": {
    "ExecuteTime": {
     "end_time": "2021-11-03T12:11:25.855551Z",
     "start_time": "2021-11-03T12:11:25.839823Z"
    }
   },
   "outputs": [
    {
     "data": {
      "text/plain": [
       "(157920, 4)"
      ]
     },
     "execution_count": 17,
     "metadata": {},
     "output_type": "execute_result"
    }
   ],
   "source": [
    "df_translation = pd.concat([en_df, fr_df, es_df], axis=0, ignore_index=True)\n",
    "df_translation.shape"
   ]
  },
  {
   "cell_type": "code",
   "execution_count": 18,
   "id": "81bc7f54",
   "metadata": {
    "ExecuteTime": {
     "end_time": "2021-11-03T12:11:27.112845Z",
     "start_time": "2021-11-03T12:11:25.856785Z"
    },
    "scrolled": true
   },
   "outputs": [
    {
     "name": "stderr",
     "output_type": "stream",
     "text": [
      "/home/abdullah/.local/lib/python3.8/site-packages/IPython/core/interactiveshell.py:3172: DtypeWarning: Columns (5) have mixed types.Specify dtype option on import or set low_memory=False.\n",
      "  has_raised = await self.run_ast_nodes(code_ast.body, cell_name,\n"
     ]
    },
    {
     "data": {
      "text/plain": [
       "(157920, 24)"
      ]
     },
     "execution_count": 18,
     "metadata": {},
     "output_type": "execute_result"
    }
   ],
   "source": [
    "df_original = pd.read_csv(\"generated_dataset/full_dataset.csv\")\n",
    "df_original.shape"
   ]
  },
  {
   "cell_type": "code",
   "execution_count": 19,
   "id": "351ae966",
   "metadata": {
    "ExecuteTime": {
     "end_time": "2021-11-03T12:11:28.061600Z",
     "start_time": "2021-11-03T12:11:27.113911Z"
    }
   },
   "outputs": [
    {
     "data": {
      "text/plain": [
       "(157948, 27)"
      ]
     },
     "execution_count": 19,
     "metadata": {},
     "output_type": "execute_result"
    }
   ],
   "source": [
    "df = pd.merge(df_original, df_translation, on=\"excerpt\", how=\"left\")\n",
    "df.drop_duplicates(inplace=True, ignore_index=True)\n",
    "df.shape"
   ]
  },
  {
   "cell_type": "code",
   "execution_count": 20,
   "id": "c9174a26",
   "metadata": {
    "ExecuteTime": {
     "end_time": "2021-11-03T12:11:28.066620Z",
     "start_time": "2021-11-03T12:11:28.062863Z"
    }
   },
   "outputs": [
    {
     "data": {
      "text/plain": [
       "Index(['entry_id', 'excerpt', 'analysis_framework_id', 'lead_id', 'project_id',\n",
       "       'verified', 'sectors', 'subpillars_2d', 'subpillars_1d', 'geo_location',\n",
       "       'specific_needs_groups', 'severity', 'info_date', 'reliability',\n",
       "       'affected_groups_level_0', 'affected_groups_level_1',\n",
       "       'affected_groups_level_2', 'affected_groups_level_3', 'age', 'gender',\n",
       "       'source_type', 'url', 'website', 'lang', 'translation_en',\n",
       "       'translation_fr', 'translation_es'],\n",
       "      dtype='object')"
      ]
     },
     "execution_count": 20,
     "metadata": {},
     "output_type": "execute_result"
    }
   ],
   "source": [
    "df.columns"
   ]
  },
  {
   "cell_type": "code",
   "execution_count": 21,
   "id": "485acc4d",
   "metadata": {
    "ExecuteTime": {
     "end_time": "2021-11-03T12:11:31.978185Z",
     "start_time": "2021-11-03T12:11:28.068770Z"
    }
   },
   "outputs": [],
   "source": [
    "df.to_csv(\"generated_dataset/full_dataset_with_translations.csv\", index=None)"
   ]
  },
  {
   "cell_type": "code",
   "execution_count": null,
   "id": "3fd9045b",
   "metadata": {},
   "outputs": [],
   "source": []
  }
 ],
 "metadata": {
  "kernelspec": {
   "display_name": "Python 3.8.5 64-bit ('base': conda)",
   "language": "python",
   "name": "python385jvsc74a57bd0f487e277ea6a75fd1c7c341a1deb40c7861148cbc006695943c5304af00fedbe"
  },
  "language_info": {
   "codemirror_mode": {
    "name": "ipython",
    "version": 3
   },
   "file_extension": ".py",
   "mimetype": "text/x-python",
   "name": "python",
   "nbconvert_exporter": "python",
   "pygments_lexer": "ipython3",
   "version": "3.8.11"
  },
  "varInspector": {
   "cols": {
    "lenName": 16,
    "lenType": 16,
    "lenVar": 40
   },
   "kernels_config": {
    "python": {
     "delete_cmd_postfix": "",
     "delete_cmd_prefix": "del ",
     "library": "var_list.py",
     "varRefreshCmd": "print(var_dic_list())"
    },
    "r": {
     "delete_cmd_postfix": ") ",
     "delete_cmd_prefix": "rm(",
     "library": "var_list.r",
     "varRefreshCmd": "cat(var_dic_list()) "
    }
   },
   "types_to_exclude": [
    "module",
    "function",
    "builtin_function_or_method",
    "instance",
    "_Feature"
   ],
   "window_display": false
  }
 },
 "nbformat": 4,
 "nbformat_minor": 5
}
