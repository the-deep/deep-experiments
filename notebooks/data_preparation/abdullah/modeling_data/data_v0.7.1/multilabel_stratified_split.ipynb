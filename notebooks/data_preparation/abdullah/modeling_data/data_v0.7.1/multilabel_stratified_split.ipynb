{
 "cells": [
  {
   "cell_type": "code",
   "execution_count": 1,
   "id": "38286a73",
   "metadata": {
    "ExecuteTime": {
     "end_time": "2021-11-03T12:37:09.555954Z",
     "start_time": "2021-11-03T12:37:09.070725Z"
    }
   },
   "outputs": [],
   "source": [
    "import json\n",
    "from itertools import islice\n",
    "from ast import literal_eval\n",
    "\n",
    "import numpy as np\n",
    "import pandas as pd\n",
    "from tqdm.notebook import tqdm\n",
    "\n",
    "from skmultilearn.model_selection import iterative_train_test_split\n",
    "from skmultilearn.model_selection.measures import get_combination_wise_output_matrix"
   ]
  },
  {
   "cell_type": "code",
   "execution_count": 2,
   "id": "503db826",
   "metadata": {
    "ExecuteTime": {
     "end_time": "2021-11-03T12:37:09.559617Z",
     "start_time": "2021-11-03T12:37:09.557136Z"
    }
   },
   "outputs": [],
   "source": [
    "tqdm.pandas()"
   ]
  },
  {
   "cell_type": "code",
   "execution_count": 3,
   "id": "f79c1239",
   "metadata": {
    "ExecuteTime": {
     "end_time": "2021-11-03T12:37:23.771831Z",
     "start_time": "2021-11-03T12:37:09.561139Z"
    },
    "scrolled": true
   },
   "outputs": [
    {
     "name": "stderr",
     "output_type": "stream",
     "text": [
      "/home/abdullah/.local/lib/python3.8/site-packages/IPython/core/interactiveshell.py:3172: DtypeWarning: Columns (5) have mixed types.Specify dtype option on import or set low_memory=False.\n",
      "  has_raised = await self.run_ast_nodes(code_ast.body, cell_name,\n"
     ]
    },
    {
     "name": "stdout",
     "output_type": "stream",
     "text": [
      "Index(['entry_id', 'excerpt', 'analysis_framework_id', 'lead_id', 'project_id',\n",
      "       'verified', 'sectors', 'subpillars_2d', 'subpillars_1d', 'geo_location',\n",
      "       'specific_needs_groups', 'severity', 'info_date', 'reliability',\n",
      "       'affected_groups_level_0', 'affected_groups_level_1',\n",
      "       'affected_groups_level_2', 'affected_groups_level_3', 'age', 'gender',\n",
      "       'source_type', 'url', 'website', 'lang', 'translation_en',\n",
      "       'translation_fr', 'translation_es'],\n",
      "      dtype='object')\n"
     ]
    }
   ],
   "source": [
    "df = pd.read_csv('generated_dataset/full_dataset_with_translations.csv')\n",
    "##\n",
    "print(df.columns)\n",
    "##\n",
    "for col in [\n",
    "        'sectors', 'subpillars_2d', 'subpillars_1d', 'geo_location',\n",
    "        'specific_needs_groups', 'age', 'gender', 'reliability',\n",
    "        'affected_groups_level_0', 'affected_groups_level_1',\n",
    "        'affected_groups_level_2', 'affected_groups_level_3', 'severity'\n",
    "]:\n",
    "    df[col] = df[col].apply(lambda x: [] if x != x else literal_eval(x))\n",
    "\n",
    "\n",
    "##\n",
    "def count_vals(df, col):\n",
    "    vals = Counter()\n",
    "    for e in df[col]:\n",
    "        vals.update(e)\n",
    "    return vals.most_common()"
   ]
  },
  {
   "cell_type": "code",
   "execution_count": 4,
   "id": "5896109e",
   "metadata": {
    "ExecuteTime": {
     "end_time": "2021-11-03T12:37:23.828091Z",
     "start_time": "2021-11-03T12:37:23.772958Z"
    }
   },
   "outputs": [],
   "source": [
    "df[\"analysis_framework_id\"] = df[\"analysis_framework_id\"].apply(lambda x: str(int(x)))"
   ]
  },
  {
   "cell_type": "code",
   "execution_count": 5,
   "id": "0705f3fa",
   "metadata": {
    "ExecuteTime": {
     "end_time": "2021-11-03T12:37:23.832091Z",
     "start_time": "2021-11-03T12:37:23.829146Z"
    }
   },
   "outputs": [],
   "source": [
    "tagname_to_tagvalues = {\n",
    "    'sectors': set(),\n",
    "    'subpillars_2d': set(),\n",
    "    'subpillars_1d': set(),\n",
    "    'specific_needs_groups': set(),\n",
    "    'severity': set(),\n",
    "    'age': set(),\n",
    "    'gender': set(),\n",
    "    'affected_groups_level_0': set(),\n",
    "    'affected_groups_level_1': set(),\n",
    "    'affected_groups_level_2': set(),\n",
    "    'affected_groups_level_3': set(),\n",
    "    'reliability': set(),\n",
    "    'analysis_framework_id': set(),\n",
    "    'lang': set(),\n",
    "}"
   ]
  },
  {
   "cell_type": "code",
   "execution_count": 6,
   "id": "910e1d46",
   "metadata": {
    "ExecuteTime": {
     "end_time": "2021-11-03T12:37:23.835476Z",
     "start_time": "2021-11-03T12:37:23.833061Z"
    }
   },
   "outputs": [],
   "source": [
    "def unique_tags(col):\n",
    "    unique = set()\n",
    "    for label in col:\n",
    "        unique.update(label)\n",
    "    return unique"
   ]
  },
  {
   "cell_type": "code",
   "execution_count": 7,
   "id": "67fe2444",
   "metadata": {
    "ExecuteTime": {
     "end_time": "2021-11-03T12:37:24.155459Z",
     "start_time": "2021-11-03T12:37:23.836586Z"
    }
   },
   "outputs": [],
   "source": [
    "for tagname in tagname_to_tagvalues:\n",
    "    if tagname in ['analysis_framework_id', 'lang']:\n",
    "        tagname_to_tagvalues[tagname] = set(df[tagname].unique().tolist())\n",
    "    else:\n",
    "        tagname_to_tagvalues[tagname] = unique_tags(df[tagname])"
   ]
  },
  {
   "cell_type": "code",
   "execution_count": 8,
   "id": "018d8c89",
   "metadata": {
    "ExecuteTime": {
     "end_time": "2021-11-03T12:37:24.164641Z",
     "start_time": "2021-11-03T12:37:24.156428Z"
    },
    "scrolled": true
   },
   "outputs": [
    {
     "data": {
      "text/plain": [
       "{'sectors': {'Agriculture',\n",
       "  'Cross',\n",
       "  'Education',\n",
       "  'Food Security',\n",
       "  'Health',\n",
       "  'Livelihoods',\n",
       "  'Logistics',\n",
       "  'NOT_MAPPED',\n",
       "  'Nutrition',\n",
       "  'Protection',\n",
       "  'Shelter',\n",
       "  'WASH'},\n",
       " 'subpillars_2d': {'At Risk->Number Of People At Risk',\n",
       "  'At Risk->Risk And Vulnerabilities',\n",
       "  'Capacities & Response->International Response',\n",
       "  'Capacities & Response->Local Response',\n",
       "  'Capacities & Response->National Response',\n",
       "  'Capacities & Response->Number Of People Reached/Response Gaps',\n",
       "  'Humanitarian Conditions->Coping Mechanisms',\n",
       "  'Humanitarian Conditions->Living Standards',\n",
       "  'Humanitarian Conditions->Number Of People In Need',\n",
       "  'Humanitarian Conditions->Physical And Mental Well Being',\n",
       "  'Impact->Driver/Aggravating Factors',\n",
       "  'Impact->Impact On People',\n",
       "  'Impact->Impact On Systems, Services And Networks',\n",
       "  'Impact->Number Of People Affected',\n",
       "  'NOT_MAPPED',\n",
       "  'Priority Interventions->Expressed By Humanitarian Staff',\n",
       "  'Priority Interventions->Expressed By Population',\n",
       "  'Priority Needs->Expressed By Humanitarian Staff',\n",
       "  'Priority Needs->Expressed By Population'},\n",
       " 'subpillars_1d': {'Casualties->Dead',\n",
       "  'Casualties->Injured',\n",
       "  'Casualties->Missing',\n",
       "  'Context->Demography',\n",
       "  'Context->Economy',\n",
       "  'Context->Environment',\n",
       "  'Context->Legal & Policy',\n",
       "  'Context->Politics',\n",
       "  'Context->Security & Stability',\n",
       "  'Context->Socio Cultural',\n",
       "  'Covid-19->Cases',\n",
       "  'Covid-19->Contact Tracing',\n",
       "  'Covid-19->Deaths',\n",
       "  'Covid-19->Hospitalization & Care',\n",
       "  'Covid-19->Restriction Measures',\n",
       "  'Covid-19->Testing',\n",
       "  'Covid-19->Vaccination',\n",
       "  'Displacement->Intentions',\n",
       "  'Displacement->Local Integration',\n",
       "  'Displacement->Pull Factors',\n",
       "  'Displacement->Push Factors',\n",
       "  'Displacement->Type/Numbers/Movements',\n",
       "  'Humanitarian Access->Number Of People Facing Humanitarian Access Constraints/Humanitarian Access Gaps',\n",
       "  'Humanitarian Access->Physical Constraints',\n",
       "  'Humanitarian Access->Population To Relief',\n",
       "  'Humanitarian Access->Relief To Population',\n",
       "  'Information And Communication->Communication Means And Preferences',\n",
       "  'Information And Communication->Information Challenges And Barriers',\n",
       "  'Information And Communication->Knowledge And Info Gaps (Hum)',\n",
       "  'Information And Communication->Knowledge And Info Gaps (Pop)',\n",
       "  'NOT_MAPPED',\n",
       "  'Shock/Event->Hazard & Threats',\n",
       "  'Shock/Event->Type And Characteristics',\n",
       "  'Shock/Event->Underlying/Aggravating Factors'},\n",
       " 'specific_needs_groups': {'Child Head of Household',\n",
       "  'Chronically Ill',\n",
       "  'Elderly Head of Household',\n",
       "  'Female Head of Household',\n",
       "  'GBV survivors',\n",
       "  'Indigenous people',\n",
       "  'LGBTQI+',\n",
       "  'Minorities',\n",
       "  'Persons with Disability',\n",
       "  'Pregnant or Lactating Women',\n",
       "  'Single Women (including Widows)',\n",
       "  'Unaccompanied or Separated Children'},\n",
       " 'severity': {'Critical',\n",
       "  'Major',\n",
       "  'Minor Problem',\n",
       "  'NOT_MAPPED',\n",
       "  'No problem',\n",
       "  None,\n",
       "  'Of Concern'},\n",
       " 'age': {'Adult (18 to 59 years old)',\n",
       "  'Children/Youth (5 to 17 years old)',\n",
       "  'Infants/Toddlers (<5 years old)',\n",
       "  'Older Persons (60+ years old)'},\n",
       " 'gender': {'Female', 'Male'},\n",
       " 'affected_groups_level_0': {'All', 'NOT_MAPPED'},\n",
       " 'affected_groups_level_1': {'Affected', 'NOT_MAPPED', 'Not Affected'},\n",
       " 'affected_groups_level_2': {'Displaced', 'NOT_MAPPED', 'Non Displaced'},\n",
       " 'affected_groups_level_3': {'Asylum Seekers',\n",
       "  'Host',\n",
       "  'IDP',\n",
       "  'In Transit',\n",
       "  'Migrants',\n",
       "  'NOT_MAPPED',\n",
       "  'Non Host',\n",
       "  'None',\n",
       "  'Others of Concern',\n",
       "  'Pendular',\n",
       "  'Permanent',\n",
       "  'Refugees',\n",
       "  'Returnees',\n",
       "  'Stateless'},\n",
       " 'reliability': {'Completely Reliable',\n",
       "  'Fairly Reliable',\n",
       "  'Not Usually Reliable',\n",
       "  'Unreliable',\n",
       "  'Usually reliable'},\n",
       " 'analysis_framework_id': {'1004',\n",
       "  '1306',\n",
       "  '136',\n",
       "  '137',\n",
       "  '1465',\n",
       "  '273',\n",
       "  '495',\n",
       "  '537',\n",
       "  '552',\n",
       "  '699',\n",
       "  '726',\n",
       "  '799',\n",
       "  '829'},\n",
       " 'lang': {'en', 'es', 'fr'}}"
      ]
     },
     "execution_count": 8,
     "metadata": {},
     "output_type": "execute_result"
    }
   ],
   "source": [
    "tagname_to_tagvalues"
   ]
  },
  {
   "cell_type": "code",
   "execution_count": 9,
   "id": "fb6e6a9c",
   "metadata": {
    "ExecuteTime": {
     "end_time": "2021-11-03T12:37:24.169687Z",
     "start_time": "2021-11-03T12:37:24.166660Z"
    }
   },
   "outputs": [
    {
     "data": {
      "text/plain": [
       "126"
      ]
     },
     "execution_count": 9,
     "metadata": {},
     "output_type": "execute_result"
    }
   ],
   "source": [
    "classes = set()\n",
    "for tagvalues in tagname_to_tagvalues.values():\n",
    "    classes |= tagvalues \n",
    "len(classes) # total number of tags"
   ]
  },
  {
   "cell_type": "code",
   "execution_count": 10,
   "id": "dde8cd2f",
   "metadata": {
    "ExecuteTime": {
     "end_time": "2021-11-03T12:37:24.174335Z",
     "start_time": "2021-11-03T12:37:24.170684Z"
    }
   },
   "outputs": [
    {
     "data": {
      "text/plain": [
       "{'1004',\n",
       " '1306',\n",
       " '136',\n",
       " '137',\n",
       " '1465',\n",
       " '273',\n",
       " '495',\n",
       " '537',\n",
       " '552',\n",
       " '699',\n",
       " '726',\n",
       " '799',\n",
       " '829',\n",
       " 'Adult (18 to 59 years old)',\n",
       " 'Affected',\n",
       " 'Agriculture',\n",
       " 'All',\n",
       " 'Asylum Seekers',\n",
       " 'At Risk->Number Of People At Risk',\n",
       " 'At Risk->Risk And Vulnerabilities',\n",
       " 'Capacities & Response->International Response',\n",
       " 'Capacities & Response->Local Response',\n",
       " 'Capacities & Response->National Response',\n",
       " 'Capacities & Response->Number Of People Reached/Response Gaps',\n",
       " 'Casualties->Dead',\n",
       " 'Casualties->Injured',\n",
       " 'Casualties->Missing',\n",
       " 'Child Head of Household',\n",
       " 'Children/Youth (5 to 17 years old)',\n",
       " 'Chronically Ill',\n",
       " 'Completely Reliable',\n",
       " 'Context->Demography',\n",
       " 'Context->Economy',\n",
       " 'Context->Environment',\n",
       " 'Context->Legal & Policy',\n",
       " 'Context->Politics',\n",
       " 'Context->Security & Stability',\n",
       " 'Context->Socio Cultural',\n",
       " 'Covid-19->Cases',\n",
       " 'Covid-19->Contact Tracing',\n",
       " 'Covid-19->Deaths',\n",
       " 'Covid-19->Hospitalization & Care',\n",
       " 'Covid-19->Restriction Measures',\n",
       " 'Covid-19->Testing',\n",
       " 'Covid-19->Vaccination',\n",
       " 'Critical',\n",
       " 'Cross',\n",
       " 'Displaced',\n",
       " 'Displacement->Intentions',\n",
       " 'Displacement->Local Integration',\n",
       " 'Displacement->Pull Factors',\n",
       " 'Displacement->Push Factors',\n",
       " 'Displacement->Type/Numbers/Movements',\n",
       " 'Education',\n",
       " 'Elderly Head of Household',\n",
       " 'Fairly Reliable',\n",
       " 'Female',\n",
       " 'Female Head of Household',\n",
       " 'Food Security',\n",
       " 'GBV survivors',\n",
       " 'Health',\n",
       " 'Host',\n",
       " 'Humanitarian Access->Number Of People Facing Humanitarian Access Constraints/Humanitarian Access Gaps',\n",
       " 'Humanitarian Access->Physical Constraints',\n",
       " 'Humanitarian Access->Population To Relief',\n",
       " 'Humanitarian Access->Relief To Population',\n",
       " 'Humanitarian Conditions->Coping Mechanisms',\n",
       " 'Humanitarian Conditions->Living Standards',\n",
       " 'Humanitarian Conditions->Number Of People In Need',\n",
       " 'Humanitarian Conditions->Physical And Mental Well Being',\n",
       " 'IDP',\n",
       " 'Impact->Driver/Aggravating Factors',\n",
       " 'Impact->Impact On People',\n",
       " 'Impact->Impact On Systems, Services And Networks',\n",
       " 'Impact->Number Of People Affected',\n",
       " 'In Transit',\n",
       " 'Indigenous people',\n",
       " 'Infants/Toddlers (<5 years old)',\n",
       " 'Information And Communication->Communication Means And Preferences',\n",
       " 'Information And Communication->Information Challenges And Barriers',\n",
       " 'Information And Communication->Knowledge And Info Gaps (Hum)',\n",
       " 'Information And Communication->Knowledge And Info Gaps (Pop)',\n",
       " 'LGBTQI+',\n",
       " 'Livelihoods',\n",
       " 'Logistics',\n",
       " 'Major',\n",
       " 'Male',\n",
       " 'Migrants',\n",
       " 'Minor Problem',\n",
       " 'Minorities',\n",
       " 'NOT_MAPPED',\n",
       " 'No problem',\n",
       " 'Non Displaced',\n",
       " 'Non Host',\n",
       " 'Not Affected',\n",
       " 'Not Usually Reliable',\n",
       " 'Nutrition',\n",
       " 'Of Concern',\n",
       " 'Older Persons (60+ years old)',\n",
       " 'Others of Concern',\n",
       " 'Pendular',\n",
       " 'Permanent',\n",
       " 'Persons with Disability',\n",
       " 'Pregnant or Lactating Women',\n",
       " 'Priority Interventions->Expressed By Humanitarian Staff',\n",
       " 'Priority Interventions->Expressed By Population',\n",
       " 'Priority Needs->Expressed By Humanitarian Staff',\n",
       " 'Priority Needs->Expressed By Population',\n",
       " 'Protection',\n",
       " 'Refugees',\n",
       " 'Returnees',\n",
       " 'Shelter',\n",
       " 'Shock/Event->Hazard & Threats',\n",
       " 'Shock/Event->Type And Characteristics',\n",
       " 'Shock/Event->Underlying/Aggravating Factors',\n",
       " 'Single Women (including Widows)',\n",
       " 'Stateless',\n",
       " 'Unaccompanied or Separated Children',\n",
       " 'Unreliable',\n",
       " 'Usually reliable',\n",
       " 'WASH',\n",
       " 'en',\n",
       " 'es',\n",
       " 'fr'}"
      ]
     },
     "execution_count": 10,
     "metadata": {},
     "output_type": "execute_result"
    }
   ],
   "source": [
    "classes = classes - {np.nan, None, \"None\"}\n",
    "classes"
   ]
  },
  {
   "cell_type": "code",
   "execution_count": 11,
   "id": "4c6da198",
   "metadata": {
    "ExecuteTime": {
     "end_time": "2021-11-03T12:37:24.177313Z",
     "start_time": "2021-11-03T12:37:24.175318Z"
    }
   },
   "outputs": [],
   "source": [
    "class_to_id = {cls:i for i, cls in enumerate(classes)}"
   ]
  },
  {
   "cell_type": "code",
   "execution_count": 12,
   "id": "c186994a",
   "metadata": {
    "ExecuteTime": {
     "end_time": "2021-11-03T12:37:24.182660Z",
     "start_time": "2021-11-03T12:37:24.178268Z"
    }
   },
   "outputs": [
    {
     "data": {
      "text/plain": [
       "{'Unaccompanied or Separated Children': 0,\n",
       " 'Humanitarian Access->Population To Relief': 1,\n",
       " 'Pendular': 2,\n",
       " 'Covid-19->Testing': 3,\n",
       " 'Migrants': 4,\n",
       " 'Health': 5,\n",
       " '1306': 6,\n",
       " 'Displacement->Intentions': 7,\n",
       " 'Not Usually Reliable': 8,\n",
       " 'Non Displaced': 9,\n",
       " 'Female Head of Household': 10,\n",
       " 'All': 11,\n",
       " 'Protection': 12,\n",
       " 'Returnees': 13,\n",
       " 'Refugees': 14,\n",
       " 'Completely Reliable': 15,\n",
       " 'Capacities & Response->Local Response': 16,\n",
       " 'Humanitarian Access->Physical Constraints': 17,\n",
       " 'Priority Interventions->Expressed By Population': 18,\n",
       " 'Impact->Impact On People': 19,\n",
       " 'Host': 20,\n",
       " 'Casualties->Missing': 21,\n",
       " 'Context->Security & Stability': 22,\n",
       " 'Priority Needs->Expressed By Humanitarian Staff': 23,\n",
       " 'Minor Problem': 24,\n",
       " '799': 25,\n",
       " 'Asylum Seekers': 26,\n",
       " 'Information And Communication->Communication Means And Preferences': 27,\n",
       " 'Humanitarian Conditions->Number Of People In Need': 28,\n",
       " 'Context->Socio Cultural': 29,\n",
       " '495': 30,\n",
       " 'At Risk->Risk And Vulnerabilities': 31,\n",
       " '699': 32,\n",
       " 'Impact->Impact On Systems, Services And Networks': 33,\n",
       " 'Non Host': 34,\n",
       " 'Covid-19->Hospitalization & Care': 35,\n",
       " 'GBV survivors': 36,\n",
       " 'Shelter': 37,\n",
       " 'Context->Environment': 38,\n",
       " 'Others of Concern': 39,\n",
       " 'Covid-19->Cases': 40,\n",
       " 'Minorities': 41,\n",
       " 'Humanitarian Conditions->Living Standards': 42,\n",
       " '829': 43,\n",
       " 'Humanitarian Conditions->Coping Mechanisms': 44,\n",
       " 'Humanitarian Access->Relief To Population': 45,\n",
       " 'Context->Politics': 46,\n",
       " 'Covid-19->Vaccination': 47,\n",
       " 'Stateless': 48,\n",
       " 'Fairly Reliable': 49,\n",
       " 'Information And Communication->Information Challenges And Barriers': 50,\n",
       " 'Children/Youth (5 to 17 years old)': 51,\n",
       " 'Of Concern': 52,\n",
       " 'en': 53,\n",
       " 'Elderly Head of Household': 54,\n",
       " 'At Risk->Number Of People At Risk': 55,\n",
       " 'Capacities & Response->Number Of People Reached/Response Gaps': 56,\n",
       " 'Not Affected': 57,\n",
       " 'Displacement->Pull Factors': 58,\n",
       " '1004': 59,\n",
       " 'In Transit': 60,\n",
       " 'Adult (18 to 59 years old)': 61,\n",
       " 'es': 62,\n",
       " 'Covid-19->Restriction Measures': 63,\n",
       " 'Logistics': 64,\n",
       " 'Nutrition': 65,\n",
       " 'NOT_MAPPED': 66,\n",
       " 'Shock/Event->Hazard & Threats': 67,\n",
       " 'Child Head of Household': 68,\n",
       " 'Covid-19->Contact Tracing': 69,\n",
       " 'Male': 70,\n",
       " 'Capacities & Response->International Response': 71,\n",
       " '1465': 72,\n",
       " 'Humanitarian Access->Number Of People Facing Humanitarian Access Constraints/Humanitarian Access Gaps': 73,\n",
       " '136': 74,\n",
       " 'Affected': 75,\n",
       " 'Context->Demography': 76,\n",
       " 'Priority Needs->Expressed By Population': 77,\n",
       " 'Displacement->Push Factors': 78,\n",
       " '537': 79,\n",
       " 'Infants/Toddlers (<5 years old)': 80,\n",
       " 'Food Security': 81,\n",
       " 'Older Persons (60+ years old)': 82,\n",
       " 'Displacement->Local Integration': 83,\n",
       " 'Agriculture': 84,\n",
       " 'No problem': 85,\n",
       " 'Impact->Number Of People Affected': 86,\n",
       " 'Capacities & Response->National Response': 87,\n",
       " 'Context->Legal & Policy': 88,\n",
       " 'Impact->Driver/Aggravating Factors': 89,\n",
       " '273': 90,\n",
       " 'Permanent': 91,\n",
       " 'Casualties->Injured': 92,\n",
       " 'LGBTQI+': 93,\n",
       " 'Chronically Ill': 94,\n",
       " 'Humanitarian Conditions->Physical And Mental Well Being': 95,\n",
       " 'Shock/Event->Type And Characteristics': 96,\n",
       " 'Displaced': 97,\n",
       " 'Casualties->Dead': 98,\n",
       " 'Information And Communication->Knowledge And Info Gaps (Hum)': 99,\n",
       " 'Critical': 100,\n",
       " '726': 101,\n",
       " 'Displacement->Type/Numbers/Movements': 102,\n",
       " 'Indigenous people': 103,\n",
       " 'Female': 104,\n",
       " 'WASH': 105,\n",
       " 'Education': 106,\n",
       " 'Persons with Disability': 107,\n",
       " '552': 108,\n",
       " 'Usually reliable': 109,\n",
       " 'Cross': 110,\n",
       " 'Livelihoods': 111,\n",
       " 'Shock/Event->Underlying/Aggravating Factors': 112,\n",
       " 'Single Women (including Widows)': 113,\n",
       " 'Major': 114,\n",
       " 'Information And Communication->Knowledge And Info Gaps (Pop)': 115,\n",
       " 'Unreliable': 116,\n",
       " '137': 117,\n",
       " 'Context->Economy': 118,\n",
       " 'fr': 119,\n",
       " 'Covid-19->Deaths': 120,\n",
       " 'Pregnant or Lactating Women': 121,\n",
       " 'IDP': 122,\n",
       " 'Priority Interventions->Expressed By Humanitarian Staff': 123}"
      ]
     },
     "execution_count": 12,
     "metadata": {},
     "output_type": "execute_result"
    }
   ],
   "source": [
    "class_to_id"
   ]
  },
  {
   "cell_type": "code",
   "execution_count": 13,
   "id": "2321f4d9",
   "metadata": {
    "ExecuteTime": {
     "end_time": "2021-11-03T12:37:24.452530Z",
     "start_time": "2021-11-03T12:37:24.183624Z"
    }
   },
   "outputs": [],
   "source": [
    "for tagvalues in tagname_to_tagvalues.values():\n",
    "    for tagvalue in tagvalues:\n",
    "        df[tagvalue] = 0"
   ]
  },
  {
   "cell_type": "code",
   "execution_count": 16,
   "id": "0317ef4d",
   "metadata": {
    "ExecuteTime": {
     "end_time": "2021-11-03T13:23:56.757081Z",
     "start_time": "2021-11-03T13:23:21.365649Z"
    }
   },
   "outputs": [
    {
     "data": {
      "application/vnd.jupyter.widget-view+json": {
       "model_id": "c71a57aa8ab54e4bad7d919fa1381a31",
       "version_major": 2,
       "version_minor": 0
      },
      "text/plain": [
       "  0%|          | 0/157948 [00:00<?, ?it/s]"
      ]
     },
     "metadata": {},
     "output_type": "display_data"
    }
   ],
   "source": [
    "labels_2d = np.zeros((df.shape[0], len(classes)))\n",
    "for row in tqdm(df.iterrows(), total=df.shape[0]):\n",
    "    for tagname in tagname_to_tagvalues.keys():\n",
    "        idx = row[0]\n",
    "        yi = row[1][tagname]\n",
    "        if yi in [np.nan, None, \"None\"]: continue\n",
    "        if isinstance(yi, str):\n",
    "            df.at[idx, yi] = 1\n",
    "            labels_2d[idx, class_to_id[yi]] = 1\n",
    "        elif isinstance(yi, list):\n",
    "            for lbl in yi:\n",
    "                if lbl in [np.nan, None, \"None\"]: continue\n",
    "                df.at[idx, lbl] = 1\n",
    "                labels_2d[idx, class_to_id[lbl]] = 1"
   ]
  },
  {
   "cell_type": "code",
   "execution_count": 17,
   "id": "0967ee5d",
   "metadata": {
    "ExecuteTime": {
     "end_time": "2021-11-03T13:25:55.691984Z",
     "start_time": "2021-11-03T13:25:55.664299Z"
    }
   },
   "outputs": [
    {
     "data": {
      "text/plain": [
       "array([   814,    228,    275,   1622,  16516,  34291,  73756,    506,\n",
       "          121,   7154,    722,  84606,  28021,   4577,  15348,   1205,\n",
       "          259,   1743,    290,  12821,   6202,    272,   7926,   1686,\n",
       "          199,     45,   2080,    222,   1339,   1751,   2186,  11245,\n",
       "         5087,  15133,    126,    512,    855,  10001,   1207,   6870,\n",
       "         5507,   1001,  27953,  20794,   5334,    948,   2095,   2776,\n",
       "           88,   2596,    155,  16575,  12539,  97596,    116,    277,\n",
       "         3419,    431,    347,   3819,   1287,   8543,  29699,   5072,\n",
       "         2800,   5222,  23216,   4587,    192,    627,   3961,  16306,\n",
       "        38148,    726,   2359,  79425,   3378,   1914,   2051,   2868,\n",
       "         3472,  15654,   5010,   1852,   3114,   2143,   2364,   6946,\n",
       "         2804,  12739,   3095,   3346,    663,    517,    770,  17244,\n",
       "         1336,  49905,   3194,    671,  15420,     32,   8721,   1789,\n",
       "         9839,  11470,  10142,   1659,   3497, 152858,  26671,  16423,\n",
       "         1841,    202,  16645,    304,     46,   2262,   5171,  30653,\n",
       "         3098,   2071,  14623,   5674])"
      ]
     },
     "execution_count": 17,
     "metadata": {},
     "output_type": "execute_result"
    }
   ],
   "source": [
    "labels_2d.sum(axis=0, dtype=int)"
   ]
  },
  {
   "cell_type": "code",
   "execution_count": 18,
   "id": "52721249",
   "metadata": {
    "ExecuteTime": {
     "end_time": "2021-11-03T13:26:03.650898Z",
     "start_time": "2021-11-03T13:26:03.596766Z"
    }
   },
   "outputs": [
    {
     "data": {
      "text/plain": [
       "{'726': 32,\n",
       " '799': 45,\n",
       " 'Unreliable': 46,\n",
       " 'Stateless': 88,\n",
       " 'Elderly Head of Household': 116,\n",
       " 'Not Usually Reliable': 121,\n",
       " 'Non Host': 126,\n",
       " 'Information And Communication->Information Challenges And Barriers': 155,\n",
       " 'Child Head of Household': 192,\n",
       " 'Minor Problem': 199,\n",
       " 'Single Women (including Widows)': 202,\n",
       " 'Information And Communication->Communication Means And Preferences': 222,\n",
       " 'Humanitarian Access->Population To Relief': 228,\n",
       " 'Capacities & Response->Local Response': 259,\n",
       " 'Casualties->Missing': 272,\n",
       " 'Pendular': 275,\n",
       " 'At Risk->Number Of People At Risk': 277,\n",
       " 'Priority Interventions->Expressed By Population': 290,\n",
       " 'Information And Communication->Knowledge And Info Gaps (Pop)': 304,\n",
       " 'Displacement->Pull Factors': 347,\n",
       " 'Not Affected': 431,\n",
       " 'Displacement->Intentions': 506,\n",
       " 'Covid-19->Hospitalization & Care': 512,\n",
       " 'LGBTQI+': 517,\n",
       " 'Covid-19->Contact Tracing': 627,\n",
       " 'Casualties->Injured': 663,\n",
       " 'Information And Communication->Knowledge And Info Gaps (Hum)': 671,\n",
       " 'Female Head of Household': 722,\n",
       " 'Humanitarian Access->Number Of People Facing Humanitarian Access Constraints/Humanitarian Access Gaps': 726,\n",
       " 'Chronically Ill': 770,\n",
       " 'Unaccompanied or Separated Children': 814,\n",
       " 'GBV survivors': 855,\n",
       " 'Humanitarian Access->Relief To Population': 948,\n",
       " 'Minorities': 1001,\n",
       " 'Completely Reliable': 1205,\n",
       " 'Context->Environment': 1207,\n",
       " 'In Transit': 1287,\n",
       " 'Shock/Event->Type And Characteristics': 1336,\n",
       " 'Humanitarian Conditions->Number Of People In Need': 1339,\n",
       " 'Covid-19->Testing': 1622,\n",
       " 'Persons with Disability': 1659,\n",
       " 'Priority Needs->Expressed By Humanitarian Staff': 1686,\n",
       " 'Humanitarian Access->Physical Constraints': 1743,\n",
       " 'Context->Socio Cultural': 1751,\n",
       " 'Indigenous people': 1789,\n",
       " 'Shock/Event->Underlying/Aggravating Factors': 1841,\n",
       " 'Displacement->Local Integration': 1852,\n",
       " 'Priority Needs->Expressed By Population': 1914,\n",
       " 'Displacement->Push Factors': 2051,\n",
       " 'Pregnant or Lactating Women': 2071,\n",
       " 'Asylum Seekers': 2080,\n",
       " 'Context->Politics': 2095,\n",
       " 'No problem': 2143,\n",
       " '495': 2186,\n",
       " '137': 2262,\n",
       " '136': 2359,\n",
       " 'Impact->Number Of People Affected': 2364,\n",
       " 'Fairly Reliable': 2596,\n",
       " 'Covid-19->Vaccination': 2776,\n",
       " 'Logistics': 2800,\n",
       " 'Context->Legal & Policy': 2804,\n",
       " '537': 2868,\n",
       " '273': 3095,\n",
       " 'Covid-19->Deaths': 3098,\n",
       " 'Agriculture': 3114,\n",
       " 'Casualties->Dead': 3194,\n",
       " 'Permanent': 3346,\n",
       " 'Context->Demography': 3378,\n",
       " 'Capacities & Response->Number Of People Reached/Response Gaps': 3419,\n",
       " 'Infants/Toddlers (<5 years old)': 3472,\n",
       " '552': 3497,\n",
       " '1004': 3819,\n",
       " 'Male': 3961,\n",
       " 'Returnees': 4577,\n",
       " 'Shock/Event->Hazard & Threats': 4587,\n",
       " 'Older Persons (60+ years old)': 5010,\n",
       " 'Covid-19->Restriction Measures': 5072,\n",
       " '699': 5087,\n",
       " 'Context->Economy': 5171,\n",
       " 'Nutrition': 5222,\n",
       " 'Humanitarian Conditions->Coping Mechanisms': 5334,\n",
       " 'Covid-19->Cases': 5507,\n",
       " 'Priority Interventions->Expressed By Humanitarian Staff': 5674,\n",
       " 'Host': 6202,\n",
       " 'Others of Concern': 6870,\n",
       " 'Capacities & Response->National Response': 6946,\n",
       " 'Non Displaced': 7154,\n",
       " 'Context->Security & Stability': 7926,\n",
       " 'Adult (18 to 59 years old)': 8543,\n",
       " 'Displacement->Type/Numbers/Movements': 8721,\n",
       " 'Female': 9839,\n",
       " 'Shelter': 10001,\n",
       " 'Education': 10142,\n",
       " 'At Risk->Risk And Vulnerabilities': 11245,\n",
       " 'WASH': 11470,\n",
       " 'Of Concern': 12539,\n",
       " 'Impact->Driver/Aggravating Factors': 12739,\n",
       " 'Impact->Impact On People': 12821,\n",
       " 'IDP': 14623,\n",
       " 'Impact->Impact On Systems, Services And Networks': 15133,\n",
       " 'Refugees': 15348,\n",
       " 'Critical': 15420,\n",
       " 'Food Security': 15654,\n",
       " 'Capacities & Response->International Response': 16306,\n",
       " 'Livelihoods': 16423,\n",
       " 'Migrants': 16516,\n",
       " 'Children/Youth (5 to 17 years old)': 16575,\n",
       " 'Major': 16645,\n",
       " 'Humanitarian Conditions->Physical And Mental Well Being': 17244,\n",
       " '829': 20794,\n",
       " 'NOT_MAPPED': 23216,\n",
       " 'Cross': 26671,\n",
       " 'Humanitarian Conditions->Living Standards': 27953,\n",
       " 'Protection': 28021,\n",
       " 'es': 29699,\n",
       " 'fr': 30653,\n",
       " 'Health': 34291,\n",
       " '1465': 38148,\n",
       " 'Displaced': 49905,\n",
       " '1306': 73756,\n",
       " 'Affected': 79425,\n",
       " 'All': 84606,\n",
       " 'en': 97596,\n",
       " 'Usually reliable': 152858}"
      ]
     },
     "execution_count": 18,
     "metadata": {},
     "output_type": "execute_result"
    }
   ],
   "source": [
    "df[classes].sum().astype(int).sort_values().to_dict()"
   ]
  },
  {
   "cell_type": "code",
   "execution_count": 19,
   "id": "f8ac97ae",
   "metadata": {
    "ExecuteTime": {
     "end_time": "2021-11-03T13:40:29.868450Z",
     "start_time": "2021-11-03T13:26:07.109939Z"
    }
   },
   "outputs": [],
   "source": [
    "X_train, y_train, X_test, y_test = iterative_train_test_split(\n",
    "    df.index.to_numpy().reshape(-1, 1), labels_2d, test_size=0.1)"
   ]
  },
  {
   "cell_type": "code",
   "execution_count": 20,
   "id": "3fa24722",
   "metadata": {
    "ExecuteTime": {
     "end_time": "2021-11-03T13:51:36.105166Z",
     "start_time": "2021-11-03T13:40:30.603619Z"
    }
   },
   "outputs": [],
   "source": [
    "X_train, y_train, X_val, y_val = iterative_train_test_split(X_train,\n",
    "                                                            y_train,\n",
    "                                                            test_size=0.1)"
   ]
  },
  {
   "cell_type": "code",
   "execution_count": 26,
   "id": "45cfccae",
   "metadata": {
    "ExecuteTime": {
     "end_time": "2021-11-03T13:51:54.315991Z",
     "start_time": "2021-11-03T13:51:54.193920Z"
    }
   },
   "outputs": [],
   "source": [
    "df_train = df[df.index.isin(X_train.reshape(-1))]\n",
    "df_val = df[df.index.isin(X_val.reshape(-1))]\n",
    "df_test = df[df.index.isin(X_test.reshape(-1))]"
   ]
  },
  {
   "cell_type": "code",
   "execution_count": 27,
   "id": "356cbdbc",
   "metadata": {
    "ExecuteTime": {
     "end_time": "2021-11-03T13:51:56.024450Z",
     "start_time": "2021-11-03T13:51:56.018680Z"
    }
   },
   "outputs": [
    {
     "name": "stderr",
     "output_type": "stream",
     "text": [
      "/tmp/ipykernel_264786/393006598.py:1: FutureWarning: Index.__and__ operating as a set operation is deprecated, in the future this will be a logical operation matching Series.__and__.  Use index.intersection(other) instead\n",
      "  (df_train.index & df_val.index, df_train.index & df_test.index,\n",
      "/tmp/ipykernel_264786/393006598.py:2: FutureWarning: Index.__and__ operating as a set operation is deprecated, in the future this will be a logical operation matching Series.__and__.  Use index.intersection(other) instead\n",
      "  df_test.index & df_val.index)\n"
     ]
    },
    {
     "data": {
      "text/plain": [
       "(Int64Index([], dtype='int64'),\n",
       " Int64Index([], dtype='int64'),\n",
       " Int64Index([], dtype='int64'))"
      ]
     },
     "execution_count": 27,
     "metadata": {},
     "output_type": "execute_result"
    }
   ],
   "source": [
    "(df_train.index & df_val.index, df_train.index & df_test.index,\n",
    " df_test.index & df_val.index)"
   ]
  },
  {
   "cell_type": "code",
   "execution_count": 30,
   "id": "cf630fbd",
   "metadata": {
    "ExecuteTime": {
     "end_time": "2021-11-03T13:52:37.756020Z",
     "start_time": "2021-11-03T13:52:37.682106Z"
    }
   },
   "outputs": [],
   "source": [
    "cols = [\n",
    "    'entry_id', 'excerpt', 'analysis_framework_id', 'lead_id', 'project_id',\n",
    "    'verified', 'sectors', 'subpillars_2d', 'subpillars_1d', 'geo_location',\n",
    "    'specific_needs_groups', 'severity', 'info_date', 'age', 'gender',\n",
    "    'reliability', 'affected_groups_level_0', 'affected_groups_level_1',\n",
    "    'affected_groups_level_2', 'affected_groups_level_3', 'source_type', 'url',\n",
    "    'website', 'lang', 'translation_en', 'translation_fr', 'translation_es'\n",
    "]\n",
    "df_train = df_train[cols]\n",
    "df_val = df_val[cols]\n",
    "df_test = df_test[cols]"
   ]
  },
  {
   "cell_type": "code",
   "execution_count": 31,
   "id": "2db3d400",
   "metadata": {
    "ExecuteTime": {
     "end_time": "2021-11-03T13:52:58.633327Z",
     "start_time": "2021-11-03T13:52:54.262009Z"
    }
   },
   "outputs": [],
   "source": [
    "df_train.to_csv(\"generated_dataset/train_v0.7.1.csv\", index=None)\n",
    "df_val.to_csv(\"generated_dataset/val_v0.7.1.csv\", index=None)\n",
    "df_test.to_csv(\"generated_dataset/test_v0.7.1.csv\", index=None)"
   ]
  },
  {
   "cell_type": "code",
   "execution_count": 32,
   "id": "ba4abd67",
   "metadata": {
    "ExecuteTime": {
     "end_time": "2021-11-03T13:53:00.835256Z",
     "start_time": "2021-11-03T13:53:00.579820Z"
    }
   },
   "outputs": [
    {
     "name": "stdout",
     "output_type": "stream",
     "text": [
      "sectors: 0.22\n",
      "subpillars_2d: 0.27\n",
      "subpillars_1d: 0.53\n",
      "specific_needs_groups: 0.95\n",
      "severity: 0.70\n",
      "age: 0.85\n",
      "gender: 0.93\n",
      "affected_groups_level_0: 0.46\n",
      "affected_groups_level_1: 0.49\n",
      "affected_groups_level_2: 0.67\n",
      "affected_groups_level_3: 0.67\n",
      "reliability: 0.01\n",
      "analysis_framework_id: 0.00\n",
      "lang: 0.00\n"
     ]
    }
   ],
   "source": [
    "for tagname in tagname_to_tagvalues.keys():\n",
    "    perc = df_train[tagname].apply(lambda x: x!= []).sum()\n",
    "    perc = perc/df_train.shape[0]\n",
    "    print(f\"{tagname}: {1-perc:.2f}\")"
   ]
  },
  {
   "cell_type": "code",
   "execution_count": 33,
   "id": "b571ad77",
   "metadata": {
    "ExecuteTime": {
     "end_time": "2021-11-03T13:53:24.533693Z",
     "start_time": "2021-11-03T13:53:24.484203Z"
    }
   },
   "outputs": [
    {
     "name": "stdout",
     "output_type": "stream",
     "text": [
      "sectors: 0.25\n",
      "subpillars_2d: 0.32\n",
      "subpillars_1d: 0.57\n",
      "specific_needs_groups: 0.94\n",
      "severity: 0.61\n",
      "age: 0.86\n",
      "gender: 0.94\n",
      "affected_groups_level_0: 0.47\n",
      "affected_groups_level_1: 0.50\n",
      "affected_groups_level_2: 0.67\n",
      "affected_groups_level_3: 0.67\n",
      "reliability: 0.01\n",
      "analysis_framework_id: 0.00\n",
      "lang: 0.00\n"
     ]
    }
   ],
   "source": [
    "for tagname in tagname_to_tagvalues.keys():\n",
    "    perc = df_val[tagname].apply(lambda x: x!= []).sum()\n",
    "    perc = perc/df_val.shape[0]\n",
    "    print(f\"{tagname}: {1-perc:.2f}\")"
   ]
  },
  {
   "cell_type": "code",
   "execution_count": 34,
   "id": "ce836b00",
   "metadata": {
    "ExecuteTime": {
     "end_time": "2021-11-03T13:53:28.149922Z",
     "start_time": "2021-11-03T13:53:28.093065Z"
    }
   },
   "outputs": [
    {
     "name": "stdout",
     "output_type": "stream",
     "text": [
      "sectors: 0.21\n",
      "subpillars_2d: 0.26\n",
      "subpillars_1d: 0.58\n",
      "specific_needs_groups: 0.95\n",
      "severity: 0.69\n",
      "age: 0.85\n",
      "gender: 0.94\n",
      "affected_groups_level_0: 0.49\n",
      "affected_groups_level_1: 0.54\n",
      "affected_groups_level_2: 0.70\n",
      "affected_groups_level_3: 0.70\n",
      "reliability: 0.02\n",
      "analysis_framework_id: 0.00\n",
      "lang: 0.00\n"
     ]
    }
   ],
   "source": [
    "for tagname in tagname_to_tagvalues.keys():\n",
    "    perc = df_test[tagname].apply(lambda x: x!= []).sum()\n",
    "    perc = perc/df_test.shape[0]\n",
    "    print(f\"{tagname}: {1-perc:.2f}\")"
   ]
  },
  {
   "cell_type": "code",
   "execution_count": 35,
   "id": "feac6768",
   "metadata": {
    "ExecuteTime": {
     "end_time": "2021-11-03T13:53:43.760901Z",
     "start_time": "2021-11-03T13:53:43.446435Z"
    }
   },
   "outputs": [
    {
     "name": "stdout",
     "output_type": "stream",
     "text": [
      "sectors: 0.22\n",
      "subpillars_2d: 0.27\n",
      "subpillars_1d: 0.54\n",
      "specific_needs_groups: 0.95\n",
      "severity: 0.69\n",
      "age: 0.85\n",
      "gender: 0.93\n",
      "affected_groups_level_0: 0.46\n",
      "affected_groups_level_1: 0.50\n",
      "affected_groups_level_2: 0.67\n",
      "affected_groups_level_3: 0.68\n",
      "reliability: 0.01\n",
      "analysis_framework_id: 0.00\n",
      "lang: 0.00\n"
     ]
    }
   ],
   "source": [
    "for tagname in tagname_to_tagvalues.keys():\n",
    "    perc = df[tagname].apply(lambda x: x!= []).sum()\n",
    "    perc = perc/df.shape[0]\n",
    "    print(f\"{tagname}: {1-perc:.2f}\")"
   ]
  },
  {
   "cell_type": "code",
   "execution_count": 37,
   "id": "0adf013e",
   "metadata": {
    "ExecuteTime": {
     "end_time": "2021-11-03T13:54:17.920181Z",
     "start_time": "2021-11-03T13:54:17.909922Z"
    }
   },
   "outputs": [
    {
     "data": {
      "text/plain": [
       "['sectors',\n",
       " 'subpillars_2d',\n",
       " 'subpillars_1d',\n",
       " 'specific_needs_groups',\n",
       " 'severity',\n",
       " 'age',\n",
       " 'gender',\n",
       " 'affected_groups_level_0',\n",
       " 'affected_groups_level_1',\n",
       " 'affected_groups_level_2',\n",
       " 'affected_groups_level_3',\n",
       " 'reliability',\n",
       " 'analysis_framework_id',\n",
       " 'lang']"
      ]
     },
     "execution_count": 37,
     "metadata": {},
     "output_type": "execute_result"
    }
   ],
   "source": [
    "tagnames"
   ]
  },
  {
   "cell_type": "code",
   "execution_count": 39,
   "id": "7cbdb938",
   "metadata": {
    "ExecuteTime": {
     "end_time": "2021-11-03T13:55:24.117240Z",
     "start_time": "2021-11-03T13:54:33.004611Z"
    },
    "scrolled": true
   },
   "outputs": [
    {
     "data": {
      "application/vnd.jupyter.widget-view+json": {
       "model_id": "ca2702ad8e40440cb9f00c12b0d08d68",
       "version_major": 2,
       "version_minor": 0
      },
      "text/plain": [
       "  0%|          | 0/157948 [00:00<?, ?it/s]"
      ]
     },
     "metadata": {},
     "output_type": "display_data"
    }
   ],
   "source": [
    "tagnames = list(tagname_to_tagvalues.keys())\n",
    "def merge_all_labels(x):\n",
    "    res = []\n",
    "    for t in x[tagnames[:-2]]:\n",
    "        if isinstance(t, list):\n",
    "            res.extend(t)\n",
    "        elif isinstance(t, str):\n",
    "            res.append(t)\n",
    "    return res\n",
    "\n",
    "df['target'] = df.progress_apply(merge_all_labels, axis=1)"
   ]
  },
  {
   "cell_type": "code",
   "execution_count": 40,
   "id": "0aa50d1a",
   "metadata": {
    "ExecuteTime": {
     "end_time": "2021-11-03T13:55:26.379850Z",
     "start_time": "2021-11-03T13:55:26.353280Z"
    }
   },
   "outputs": [
    {
     "data": {
      "text/plain": [
       "94"
      ]
     },
     "execution_count": 40,
     "metadata": {},
     "output_type": "execute_result"
    }
   ],
   "source": [
    "df['target'].apply(lambda x: x==[]).sum()"
   ]
  },
  {
   "cell_type": "code",
   "execution_count": 41,
   "id": "ab5933e3",
   "metadata": {
    "ExecuteTime": {
     "end_time": "2021-11-03T13:55:28.897405Z",
     "start_time": "2021-11-03T13:55:28.666033Z"
    }
   },
   "outputs": [],
   "source": [
    "df_bis = df[['entry_id', 'target', 'lead_id']].copy()\n",
    "\n",
    "df_bis['count'] = df_bis['target'].apply(lambda x: len(x))\n",
    "\n",
    "max_counts = df_bis[['lead_id', 'count']].groupby('lead_id',\n",
    "                                                  as_index=False).max()\n",
    "tagged_leads = max_counts[max_counts['count'] > 0]['lead_id'].tolist()\n",
    "\n",
    "all_negative_ids = df_bis[\n",
    "    df_bis.lead_id.isin(tagged_leads)\n",
    "    & df_bis.target.apply(lambda x: len(x) == 0)].entry_id.unique().tolist()"
   ]
  },
  {
   "cell_type": "code",
   "execution_count": 42,
   "id": "e5d7b6cf",
   "metadata": {
    "ExecuteTime": {
     "end_time": "2021-11-03T13:55:31.378331Z",
     "start_time": "2021-11-03T13:55:31.297636Z"
    }
   },
   "outputs": [
    {
     "data": {
      "text/plain": [
       "((157869, 154), (157948, 154))"
      ]
     },
     "execution_count": 42,
     "metadata": {},
     "output_type": "execute_result"
    }
   ],
   "source": [
    "df_tagged = df[~df.lead_id.isin(all_negative_ids)]\n",
    "df_tagged.shape, df.shape"
   ]
  },
  {
   "cell_type": "code",
   "execution_count": 43,
   "id": "636c8207",
   "metadata": {
    "ExecuteTime": {
     "end_time": "2021-11-03T13:55:34.840631Z",
     "start_time": "2021-11-03T13:55:34.410469Z"
    }
   },
   "outputs": [
    {
     "name": "stdout",
     "output_type": "stream",
     "text": [
      "sectors: 0.22\n",
      "subpillars_2d: 0.27\n",
      "subpillars_1d: 0.54\n",
      "specific_needs_groups: 0.95\n",
      "severity: 0.69\n",
      "age: 0.85\n",
      "gender: 0.93\n",
      "affected_groups_level_0: 0.46\n",
      "affected_groups_level_1: 0.50\n",
      "affected_groups_level_2: 0.67\n",
      "affected_groups_level_3: 0.68\n",
      "reliability: 0.01\n",
      "analysis_framework_id: 0.00\n",
      "lang: 0.00\n"
     ]
    }
   ],
   "source": [
    "df_tagged = df[~df.lead_id.isin(all_negative_ids)]\n",
    "for tagname in tagname_to_tagvalues.keys():\n",
    "    perc = df_tagged[tagname].apply(lambda x: x!= []).sum()\n",
    "    perc = perc/df_tagged.shape[0]\n",
    "    print(f\"{tagname}: {1-perc:.2f}\")"
   ]
  },
  {
   "cell_type": "code",
   "execution_count": 44,
   "id": "c7ad4f15",
   "metadata": {
    "ExecuteTime": {
     "end_time": "2021-11-03T13:55:38.063909Z",
     "start_time": "2021-11-03T13:55:38.003316Z"
    }
   },
   "outputs": [
    {
     "name": "stdout",
     "output_type": "stream",
     "text": [
      "sectors: 0.28\n",
      "subpillars_2d: 0.33\n",
      "subpillars_1d: 0.54\n",
      "specific_needs_groups: 0.95\n",
      "severity: 0.49\n",
      "age: 0.90\n",
      "gender: 0.96\n",
      "affected_groups_level_0: 0.45\n",
      "affected_groups_level_1: 0.48\n",
      "affected_groups_level_2: 0.62\n",
      "affected_groups_level_3: 0.63\n",
      "reliability: 0.03\n",
      "analysis_framework_id: 0.00\n",
      "lang: 0.00\n"
     ]
    }
   ],
   "source": [
    "df_train_tagged = df_train[df_train.index.isin(tagged_leads)]\n",
    "for tagname in tagname_to_tagvalues.keys():\n",
    "    perc = df_train_tagged[tagname].apply(lambda x: x!= []).sum()\n",
    "    perc = perc/df_train_tagged.shape[0]\n",
    "    print(f\"{tagname}: {1-perc:.2f}\")"
   ]
  },
  {
   "cell_type": "code",
   "execution_count": 45,
   "id": "685ea29c",
   "metadata": {
    "ExecuteTime": {
     "end_time": "2021-11-03T13:55:41.256118Z",
     "start_time": "2021-11-03T13:55:41.233817Z"
    }
   },
   "outputs": [
    {
     "name": "stdout",
     "output_type": "stream",
     "text": [
      "sectors: 0.26\n",
      "subpillars_2d: 0.33\n",
      "subpillars_1d: 0.57\n",
      "specific_needs_groups: 0.96\n",
      "severity: 0.49\n",
      "age: 0.88\n",
      "gender: 0.96\n",
      "affected_groups_level_0: 0.45\n",
      "affected_groups_level_1: 0.47\n",
      "affected_groups_level_2: 0.61\n",
      "affected_groups_level_3: 0.61\n",
      "reliability: 0.02\n",
      "analysis_framework_id: 0.00\n",
      "lang: 0.00\n"
     ]
    }
   ],
   "source": [
    "df_val_tagged = df_val[df_val.index.isin(tagged_leads)]\n",
    "for tagname in tagname_to_tagvalues.keys():\n",
    "    perc = df_val_tagged[tagname].apply(lambda x: x!= []).sum()\n",
    "    perc = perc/df_val_tagged.shape[0]\n",
    "    print(f\"{tagname}: {1-perc:.2f}\")"
   ]
  },
  {
   "cell_type": "code",
   "execution_count": 46,
   "id": "d0ba4b79",
   "metadata": {
    "ExecuteTime": {
     "end_time": "2021-11-03T13:55:44.697989Z",
     "start_time": "2021-11-03T13:55:44.679397Z"
    }
   },
   "outputs": [
    {
     "name": "stdout",
     "output_type": "stream",
     "text": [
      "sectors: 0.25\n",
      "subpillars_2d: 0.30\n",
      "subpillars_1d: 0.62\n",
      "specific_needs_groups: 0.95\n",
      "severity: 0.63\n",
      "age: 0.87\n",
      "gender: 0.96\n",
      "affected_groups_level_0: 0.52\n",
      "affected_groups_level_1: 0.54\n",
      "affected_groups_level_2: 0.68\n",
      "affected_groups_level_3: 0.68\n",
      "reliability: 0.05\n",
      "analysis_framework_id: 0.00\n",
      "lang: 0.00\n"
     ]
    }
   ],
   "source": [
    "df_test_tagged = df_test[df_test.index.isin(tagged_leads)]\n",
    "for tagname in tagname_to_tagvalues.keys():\n",
    "    perc = df_test_tagged[tagname].apply(lambda x: x!= []).sum()\n",
    "    perc = perc/df_test_tagged.shape[0]\n",
    "    print(f\"{tagname}: {1-perc:.2f}\")"
   ]
  },
  {
   "cell_type": "code",
   "execution_count": null,
   "id": "33e33378",
   "metadata": {},
   "outputs": [],
   "source": []
  }
 ],
 "metadata": {
  "kernelspec": {
   "display_name": "Python 3.8.5 64-bit ('base': conda)",
   "language": "python",
   "name": "python385jvsc74a57bd0f487e277ea6a75fd1c7c341a1deb40c7861148cbc006695943c5304af00fedbe"
  },
  "language_info": {
   "codemirror_mode": {
    "name": "ipython",
    "version": 3
   },
   "file_extension": ".py",
   "mimetype": "text/x-python",
   "name": "python",
   "nbconvert_exporter": "python",
   "pygments_lexer": "ipython3",
   "version": "3.8.11"
  },
  "varInspector": {
   "cols": {
    "lenName": 16,
    "lenType": 16,
    "lenVar": 40
   },
   "kernels_config": {
    "python": {
     "delete_cmd_postfix": "",
     "delete_cmd_prefix": "del ",
     "library": "var_list.py",
     "varRefreshCmd": "print(var_dic_list())"
    },
    "r": {
     "delete_cmd_postfix": ") ",
     "delete_cmd_prefix": "rm(",
     "library": "var_list.r",
     "varRefreshCmd": "cat(var_dic_list()) "
    }
   },
   "types_to_exclude": [
    "module",
    "function",
    "builtin_function_or_method",
    "instance",
    "_Feature"
   ],
   "window_display": false
  }
 },
 "nbformat": 4,
 "nbformat_minor": 5
}
