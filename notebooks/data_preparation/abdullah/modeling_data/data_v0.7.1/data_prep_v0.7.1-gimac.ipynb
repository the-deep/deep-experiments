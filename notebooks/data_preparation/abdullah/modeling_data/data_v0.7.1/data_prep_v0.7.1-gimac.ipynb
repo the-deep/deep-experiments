{
 "cells": [
  {
   "cell_type": "markdown",
   "metadata": {},
   "source": [
    "### Matching GIMAC Generic"
   ]
  },
  {
   "cell_type": "code",
   "execution_count": 1,
   "metadata": {
    "ExecuteTime": {
     "end_time": "2021-11-01T11:33:45.386196Z",
     "start_time": "2021-11-01T11:33:45.135884Z"
    }
   },
   "outputs": [],
   "source": [
    "import re\n",
    "import json\n",
    "import random\n",
    "from pprint import pprint\n",
    "from ast import literal_eval\n",
    "from collections import Counter, defaultdict\n",
    "import os\n",
    "\n",
    "import numpy as np\n",
    "import pandas as pd\n",
    "from tqdm.auto import tqdm"
   ]
  },
  {
   "cell_type": "code",
   "execution_count": 2,
   "metadata": {
    "ExecuteTime": {
     "end_time": "2021-11-01T11:33:45.389714Z",
     "start_time": "2021-11-01T11:33:45.387511Z"
    }
   },
   "outputs": [],
   "source": [
    "random.seed(2021)\n",
    "np.random.seed(2021)"
   ]
  },
  {
   "cell_type": "code",
   "execution_count": 3,
   "metadata": {
    "ExecuteTime": {
     "end_time": "2021-11-01T11:33:48.588313Z",
     "start_time": "2021-11-01T11:33:45.390692Z"
    },
    "code_folding": [],
    "scrolled": true
   },
   "outputs": [],
   "source": [
    "# each line in this table correspond to single tagging of an entry.\n",
    "# an entry may have more than one tagging (e.g. a tag in 2D matrix, another in 1D matrix,\n",
    "# secondary tags, etc. )\n",
    "exportdata = pd.read_csv(\"exportdata.csv\")\n",
    "# I pulled entries related to projects chosen by Patrice\n",
    "entries = pd.read_csv(\"entries.csv\")\n",
    "# The widgets of AF's, i.e. 2D matrices, 1D matrices, secondary tagging widgets, etc.\n",
    "af_widgets = pd.read_csv(\"af_widgets.csv\")\n",
    "# Projects chosen by Patrice\n",
    "projects = pd.read_csv(\"projects.csv\")\n",
    "#\n",
    "exportables = pd.read_csv(\"af_exportables.csv\")\n",
    "# AF details\n",
    "afs = pd.read_csv(\"analysis_frameworks.csv\")\n",
    "# user ids, first names and last names\n",
    "users = pd.read_csv(\"user_names.csv\")\n",
    "# The matchin of pillar/sub-pillar names from different AFs into unified pillar/sub-pillar names\n",
    "mapping = pd.read_csv(\"mapping.csv\")"
   ]
  },
  {
   "cell_type": "code",
   "execution_count": 4,
   "metadata": {
    "ExecuteTime": {
     "end_time": "2021-11-01T11:33:48.592712Z",
     "start_time": "2021-11-01T11:33:48.589877Z"
    }
   },
   "outputs": [],
   "source": [
    "matching_gimac = mapping[mapping['Framework Title'].eq('GIMAC Generic')]"
   ]
  },
  {
   "cell_type": "code",
   "execution_count": 5,
   "metadata": {
    "ExecuteTime": {
     "end_time": "2021-11-01T11:33:48.636766Z",
     "start_time": "2021-11-01T11:33:48.593657Z"
    }
   },
   "outputs": [],
   "source": [
    "dirName = 'generated_dataset'\n",
    "if not os.path.exists(dirName):\n",
    "    os.mkdir(dirName)"
   ]
  },
  {
   "cell_type": "code",
   "execution_count": 6,
   "metadata": {
    "ExecuteTime": {
     "end_time": "2021-11-01T11:33:48.685039Z",
     "start_time": "2021-11-01T11:33:48.640713Z"
    }
   },
   "outputs": [
    {
     "data": {
      "text/plain": [
       "[1465]"
      ]
     },
     "execution_count": 6,
     "metadata": {},
     "output_type": "execute_result"
    }
   ],
   "source": [
    "af_id_to_title = afs[[\"id\", \"title\"]].set_index(\"id\")[\"title\"].to_dict()\n",
    "af_title_to_ids = afs[[\"id\", \"title\"]].groupby(\"title\")[\"id\"].apply(list).to_dict()\n",
    "af_title_to_ids[\"GIMAC Generic\"]"
   ]
  },
  {
   "cell_type": "code",
   "execution_count": 7,
   "metadata": {
    "ExecuteTime": {
     "end_time": "2021-11-01T11:33:48.688768Z",
     "start_time": "2021-11-01T11:33:48.685893Z"
    }
   },
   "outputs": [
    {
     "data": {
      "text/plain": [
       "Index(['id', 'data', 'entry_id', 'exportable_id'], dtype='object')"
      ]
     },
     "execution_count": 7,
     "metadata": {},
     "output_type": "execute_result"
    }
   ],
   "source": [
    "exportdata.columns"
   ]
  },
  {
   "cell_type": "code",
   "execution_count": 8,
   "metadata": {
    "ExecuteTime": {
     "end_time": "2021-11-01T11:33:48.725372Z",
     "start_time": "2021-11-01T11:33:48.689730Z"
    }
   },
   "outputs": [],
   "source": [
    "# keep \"GIMAC Generic\"'s data\n",
    "af_widgets = af_widgets[af_widgets[\"analysis_framework_id\"].eq(1465)]\n",
    "exportables = exportables[exportables[\"analysis_framework_id\"].eq(1465)]\n",
    "exportdata = exportdata[exportdata[\"exportable_id\"].isin(exportables.id)]"
   ]
  },
  {
   "cell_type": "code",
   "execution_count": 9,
   "metadata": {
    "ExecuteTime": {
     "end_time": "2021-11-01T11:33:48.739129Z",
     "start_time": "2021-11-01T11:33:48.727126Z"
    }
   },
   "outputs": [
    {
     "data": {
      "text/plain": [
       "(42220,)"
      ]
     },
     "execution_count": 9,
     "metadata": {},
     "output_type": "execute_result"
    }
   ],
   "source": [
    "exportdata[exportdata[\"exportable_id\"].isin(exportables.id)][\"entry_id\"].unique().shape"
   ]
  },
  {
   "cell_type": "code",
   "execution_count": 10,
   "metadata": {
    "ExecuteTime": {
     "end_time": "2021-11-01T11:33:48.744450Z",
     "start_time": "2021-11-01T11:33:48.741170Z"
    }
   },
   "outputs": [],
   "source": [
    "raw_name_to_tag_dict = {\n",
    "    \"Severity\":\"Severity\",\n",
    "    \"Severity (Needs assessment entries only)\":\"Severity\",\n",
    "    \"SEVERITY\":\"Severity\",\n",
    "    \n",
    "    \"Reliability\":\"Reliability\",\n",
    "    \"RELIABILITY\":\"Reliability\",\n",
    "    \n",
    "    \"Demographic Groups\":\"Demographic Groups\",\n",
    "    \"DEMOGRAPHIC GROUPS\":\"Demographic Groups\",\n",
    "    \n",
    "    \"Information date\":\"Information Date\",\n",
    "    \"Information Date\":\"Information Date\",\n",
    "    \"Date\":\"Information Date\",\n",
    "    \"DATE OF INFORMATION\":\"Information Date\",\n",
    "    \"Date range\":\"Information Date\",\n",
    "    \n",
    "    \"Geo Location\":\"Geo Location\",\n",
    "    \"LOCATION\":\"Geo Location\",\n",
    "    \"Geo location\":\"Geo Location\",\n",
    "    \"Country\":\"Geo Location\",\n",
    "    \"GEOLOCATIONS\":\"Geo Location\",\n",
    "    \n",
    "    \"Affected groups\":\"Affected Groups\",\n",
    "    \"AFFECTED GROUPS\":\"Affected Groups\",\n",
    "    \n",
    "    \"Specific Needs Groups\":\"Specific Needs Groups\",\n",
    "    \"SPECIFIC NEEDS GROUPS\":\"Specific Needs Groups\",\n",
    "}\n"
   ]
  },
  {
   "cell_type": "code",
   "execution_count": 11,
   "metadata": {
    "ExecuteTime": {
     "end_time": "2021-11-01T11:33:48.748762Z",
     "start_time": "2021-11-01T11:33:48.745769Z"
    }
   },
   "outputs": [],
   "source": [
    "def clean_titles(x):\n",
    "    if x in list(raw_name_to_tag_dict.keys()):\n",
    "        return raw_name_to_tag_dict[x]\n",
    "    return x.title()\n",
    "\n",
    "\n",
    "af_widgets['title'] = af_widgets['title'].apply(clean_titles)"
   ]
  },
  {
   "cell_type": "code",
   "execution_count": 12,
   "metadata": {
    "ExecuteTime": {
     "end_time": "2021-11-01T11:33:48.753088Z",
     "start_time": "2021-11-01T11:33:48.749762Z"
    }
   },
   "outputs": [
    {
     "data": {
      "text/plain": [
       "42     Specific Needs Groups\n",
       "95                Pre-Crisis\n",
       "96                 In-Crisis\n",
       "100             Geo Location\n",
       "123                  Excerpt\n",
       "124              Shock/Event\n",
       "125              Reliability\n",
       "126       Additional Context\n",
       "127       Displaced Pop Type\n",
       "129            Cleaning Tags\n",
       "130        Population Groups\n",
       "131        Cleaning Comments\n",
       "132       Demographic Groups\n",
       "133          High Level Tags\n",
       "Name: title, dtype: object"
      ]
     },
     "execution_count": 12,
     "metadata": {},
     "output_type": "execute_result"
    }
   ],
   "source": [
    "af_widgets['title']"
   ]
  },
  {
   "cell_type": "code",
   "execution_count": 13,
   "metadata": {
    "ExecuteTime": {
     "end_time": "2021-11-01T11:33:48.762043Z",
     "start_time": "2021-11-01T11:33:48.754244Z"
    },
    "code_folding": []
   },
   "outputs": [],
   "source": [
    "# widget names of 2D matrices in the chosen AFs's\n",
    "mat2d_titles = [\n",
    "    \"Pre-Crisis\",\n",
    "    \"Shock/Event\",\n",
    "    \"In-Crisis\",\n",
    "]\n",
    "# Pandas will read json objects as strings,\n",
    "# here I am converting them into Python dict objects\n",
    "af_widgets[\"properties\"] = af_widgets[\"properties\"].apply(json.loads)\n",
    "##\n",
    "mat2d_properties_ids = af_widgets[(\n",
    "    af_widgets[\"title\"].str.title()).isin(mat2d_titles)][[\n",
    "        \"properties\", \"analysis_framework_id\"\n",
    "    ]]\n",
    "mat2d_properties = mat2d_properties_ids[\"properties\"].tolist()\n",
    "mat2d_ids = mat2d_properties_ids[\"analysis_framework_id\"].tolist()\n",
    "## 1D Matrices\n",
    "# widget names of 1D matrices in the chosen AFs's\n",
    "mat1d_titles = [\"High Level Tags\"]\n",
    "\n",
    "mat1d_properties_ids = af_widgets[(\n",
    "    af_widgets[\"title\"].str.upper()).isin(mat1d_titles)][[\n",
    "        \"properties\", \"analysis_framework_id\"\n",
    "    ]]\n",
    "mat1d_properties = mat1d_properties_ids[\"properties\"].tolist()\n",
    "mat1d_ids = mat1d_properties_ids[\"analysis_framework_id\"].tolist()"
   ]
  },
  {
   "cell_type": "code",
   "execution_count": 14,
   "metadata": {
    "ExecuteTime": {
     "end_time": "2021-11-01T11:33:48.767584Z",
     "start_time": "2021-11-01T11:33:48.762980Z"
    },
    "scrolled": true
   },
   "outputs": [],
   "source": [
    "afids_pillars_subpillars = dict()\n",
    "errors = []\n",
    "for mat, af_id in zip(mat2d_properties, mat2d_ids):\n",
    "    try:\n",
    "        dims = mat[\"data\"]['dimensions']\n",
    "        afids_pillars_subpillars[af_id] = {}\n",
    "        for dim in dims:\n",
    "            pillar = dim[\"title\"]\n",
    "            sub_pillars = []\n",
    "            for sub_pillar_dict in dim[\"subdimensions\"]:\n",
    "                sub_pillars.append(sub_pillar_dict[\"title\"])\n",
    "            afids_pillars_subpillars[af_id][pillar] = sub_pillars\n",
    "    except KeyError:\n",
    "        errors.append([mat, af_id])\n",
    "##\n",
    "afids_rows_cells = dict()\n",
    "for mat, af_id in zip(mat1d_properties, mat1d_ids):\n",
    "    try:\n",
    "        rows = mat[\"data\"]['rows']\n",
    "        afids_rows_cells[af_id] = {}\n",
    "        for row in rows:\n",
    "            pillar = row[\"title\"]\n",
    "            sub_pillars = []\n",
    "            for sub_pillar_dict in row[\"cells\"]:\n",
    "                sub_pillars.append(sub_pillar_dict[\"value\"])\n",
    "            afids_rows_cells[af_id][pillar] = sub_pillars\n",
    "    except KeyError:\n",
    "        errors.append([mat, af_id])"
   ]
  },
  {
   "cell_type": "code",
   "execution_count": 15,
   "metadata": {
    "ExecuteTime": {
     "end_time": "2021-11-01T11:33:48.777121Z",
     "start_time": "2021-11-01T11:33:48.768705Z"
    }
   },
   "outputs": [],
   "source": [
    "def extract_title(x):\n",
    "    if x[\"excel\"].get(\"title\"):\n",
    "        return x[\"excel\"][\"title\"]\n",
    "    elif x[\"excel\"].get(\"type\") == \"multiple\":\n",
    "        return x[\"excel\"][\"titles\"]\n",
    "##\n",
    "exportables[\"data\"] = exportables[\"data\"].apply(literal_eval)\n",
    "exportable_titles = exportables[\"data\"].apply(extract_title).tolist()"
   ]
  },
  {
   "cell_type": "code",
   "execution_count": 16,
   "metadata": {
    "ExecuteTime": {
     "end_time": "2021-11-01T11:33:48.842736Z",
     "start_time": "2021-11-01T11:33:48.778339Z"
    }
   },
   "outputs": [
    {
     "name": "stdout",
     "output_type": "stream",
     "text": [
      "(203464, 21) (186929, 4)\n",
      "(157903, 21) (186929, 4)\n"
     ]
    }
   ],
   "source": [
    "print(entries.shape, exportdata.shape)\n",
    "entries = entries[entries[\"entry_type\"].eq(\"excerpt\") & (~entries[\"excerpt\"].isna())]\n",
    "print(entries.shape, exportdata.shape)"
   ]
  },
  {
   "cell_type": "code",
   "execution_count": 17,
   "metadata": {
    "ExecuteTime": {
     "end_time": "2021-11-01T11:33:48.847063Z",
     "start_time": "2021-11-01T11:33:48.844070Z"
    }
   },
   "outputs": [],
   "source": [
    "exid_to_exdata = dict()\n",
    "for ex_id, ex_data in zip(exportables[\"id\"], exportables[\"data\"]):\n",
    "    exid_to_exdata[ex_id] = ex_data"
   ]
  },
  {
   "cell_type": "code",
   "execution_count": 18,
   "metadata": {
    "ExecuteTime": {
     "end_time": "2021-11-01T11:33:48.851409Z",
     "start_time": "2021-11-01T11:33:48.848574Z"
    }
   },
   "outputs": [],
   "source": [
    "widget_key_id_to_title = dict()\n",
    "for w_key, w_id, title in zip(af_widgets[\"key\"], af_widgets[\"widget_id\"], af_widgets[\"title\"]):\n",
    "    widget_key_id_to_title[(w_key, w_id)] = title"
   ]
  },
  {
   "cell_type": "code",
   "execution_count": 19,
   "metadata": {
    "ExecuteTime": {
     "end_time": "2021-11-01T11:33:48.859045Z",
     "start_time": "2021-11-01T11:33:48.852751Z"
    }
   },
   "outputs": [],
   "source": [
    "def exportdata_to_tag_title(row):\n",
    "    data = json.loads(row[1])\n",
    "    wkey, wid = None, None\n",
    "    if data.get(\"common\"):\n",
    "        wkey = data.get(\"common\").get(\"widget_key\")\n",
    "        wid = data[\"common\"].get(\"widget_id\")\n",
    "    if wkey and wid:\n",
    "        if widget_key_id_to_title.get((wkey, wid)):\n",
    "            return widget_key_id_to_title.get((wkey, wid))\n",
    "    if data.get(\"report\") and data[\"report\"].get(\"other\"):\n",
    "            if len(data[\"report\"][\"other\"]) == 1 and data[\"report\"][\"other\"][0].get(\"title\"):\n",
    "                if data[\"report\"][\"other\"][0][\"title\"]:\n",
    "                    return data[\"report\"][\"other\"][0][\"title\"]\n",
    "    if isinstance(data.get(\"excel\"), list) and len(data[\"excel\"])==1 and \\\n",
    "     data[\"excel\"][0].get(\"widget_key\") and data[\"excel\"][0].get(\"widget_id\"):\n",
    "        wkey = data[\"excel\"][0][\"widget_key\"]\n",
    "        wid = data[\"excel\"][0][\"widget_id\"]\n",
    "        if widget_key_id_to_title.get((wkey, wid)):\n",
    "            return widget_key_id_to_title.get((wkey, wid))\n",
    "    exportable_id = row[3]\n",
    "    if exid_to_exdata[exportable_id][\"excel\"].get(\"title\"):\n",
    "        return exid_to_exdata[exportable_id][\"excel\"][\"title\"]\n",
    "    elif exid_to_exdata[exportable_id][\"excel\"].get(\"type\") == \"multiple\":\n",
    "        return exid_to_exdata[exportable_id][\"excel\"][\"titles\"]\n",
    "    raise"
   ]
  },
  {
   "cell_type": "code",
   "execution_count": 20,
   "metadata": {
    "ExecuteTime": {
     "end_time": "2021-11-01T11:33:50.759669Z",
     "start_time": "2021-11-01T11:33:48.860329Z"
    }
   },
   "outputs": [],
   "source": [
    "exportdata[\"tag_title\"] = exportdata.apply(exportdata_to_tag_title, axis=1)"
   ]
  },
  {
   "cell_type": "code",
   "execution_count": 21,
   "metadata": {
    "ExecuteTime": {
     "end_time": "2021-11-01T11:33:50.764538Z",
     "start_time": "2021-11-01T11:33:50.760773Z"
    }
   },
   "outputs": [],
   "source": [
    "def exportdata_to_tag_value(row):\n",
    "    data = json.loads(row[1])\n",
    "    if isinstance(data[\"excel\"], list) and len(data[\"excel\"])==1:\n",
    "        return data[\"excel\"][0][\"value\"]\n",
    "    if data[\"excel\"].get(\"type\") == \"lists\":\n",
    "        return data[\"excel\"][\"values\"]\n",
    "    if isinstance(data[\"excel\"], dict) and \"value\" in data[\"excel\"]:\n",
    "        return data[\"excel\"].get(\"value\")\n",
    "    if isinstance(data[\"excel\"], dict) and \"values\" in data[\"excel\"]:\n",
    "        return data[\"excel\"].get(\"values\")\n",
    "    elif \"values\" in data[\"common\"]:\n",
    "        return data[\"common\"][\"values\"]\n",
    "    elif \"value\" in data[\"common\"]:\n",
    "        return data[\"common\"][\"value\"]\n",
    "    raise"
   ]
  },
  {
   "cell_type": "code",
   "execution_count": 22,
   "metadata": {
    "ExecuteTime": {
     "end_time": "2021-11-01T11:33:52.858501Z",
     "start_time": "2021-11-01T11:33:50.765425Z"
    }
   },
   "outputs": [],
   "source": [
    "exportdata[\"tag_value\"] = exportdata.apply(exportdata_to_tag_value, axis=1)"
   ]
  },
  {
   "cell_type": "code",
   "execution_count": 23,
   "metadata": {
    "ExecuteTime": {
     "end_time": "2021-11-01T11:33:52.863015Z",
     "start_time": "2021-11-01T11:33:52.859969Z"
    }
   },
   "outputs": [],
   "source": [
    "def title_case(tag):\n",
    "    if isinstance(tag, (list, tuple)):\n",
    "        return tuple([x.title() for x in tag])\n",
    "    return tag.title()"
   ]
  },
  {
   "cell_type": "code",
   "execution_count": 24,
   "metadata": {
    "ExecuteTime": {
     "end_time": "2021-11-01T11:33:52.943993Z",
     "start_time": "2021-11-01T11:33:52.864647Z"
    }
   },
   "outputs": [],
   "source": [
    "exportdata[\"tag_title\"] = exportdata[\"tag_title\"].apply(title_case)"
   ]
  },
  {
   "cell_type": "code",
   "execution_count": 25,
   "metadata": {
    "ExecuteTime": {
     "end_time": "2021-11-01T11:33:52.947536Z",
     "start_time": "2021-11-01T11:33:52.945161Z"
    }
   },
   "outputs": [],
   "source": [
    "mat_1d_and_flag_titles = [\"High Level Tags\"]#, ('High Level Tags - Dimension', 'High Level Tags - Subdimension')]"
   ]
  },
  {
   "cell_type": "code",
   "execution_count": 26,
   "metadata": {
    "ExecuteTime": {
     "end_time": "2021-11-01T11:33:52.970593Z",
     "start_time": "2021-11-01T11:33:52.948812Z"
    }
   },
   "outputs": [
    {
     "data": {
      "text/plain": [
       "array(['Pre-Crisis', 'Population Groups', 'Geo Location', 'Reliability',\n",
       "       'Demographic Groups', 'Shock/Event', 'High Level Tags',\n",
       "       'In-Crisis', 'Specific Needs Groups', 'Additional Context',\n",
       "       'Displaced Pop Type', 'Cleaning Tags', 'Cleaning Comments',\n",
       "       ('In-Crisis - Dimension', 'In-Crisis - Subdimension', 'In-Crisis - Sector', 'In-Crisis - Subsectors'),\n",
       "       ('Pre-Crisis - Dimension', 'Pre-Crisis - Subdimension', 'Pre-Crisis - Sector', 'Pre-Crisis - Subsectors'),\n",
       "       ('High Level Tags - Dimension', 'High Level Tags - Subdimension')],\n",
       "      dtype=object)"
      ]
     },
     "execution_count": 26,
     "metadata": {},
     "output_type": "execute_result"
    }
   ],
   "source": [
    "exportdata[\"tag_title\"].unique()"
   ]
  },
  {
   "cell_type": "code",
   "execution_count": 27,
   "metadata": {
    "ExecuteTime": {
     "end_time": "2021-11-01T11:33:52.975349Z",
     "start_time": "2021-11-01T11:33:52.971754Z"
    }
   },
   "outputs": [
    {
     "data": {
      "text/plain": [
       "array(['Specific Needs Groups', 'Pre-Crisis', 'In-Crisis', 'Geo Location',\n",
       "       'Excerpt', 'Shock/Event', 'Reliability', 'Additional Context',\n",
       "       'Displaced Pop Type', 'Cleaning Tags', 'Population Groups',\n",
       "       'Cleaning Comments', 'Demographic Groups', 'High Level Tags'],\n",
       "      dtype=object)"
      ]
     },
     "execution_count": 27,
     "metadata": {},
     "output_type": "execute_result"
    }
   ],
   "source": [
    "af_widgets[\"title\"].unique()"
   ]
  },
  {
   "cell_type": "code",
   "execution_count": 28,
   "metadata": {
    "ExecuteTime": {
     "end_time": "2021-11-01T11:33:53.055397Z",
     "start_time": "2021-11-01T11:33:52.980744Z"
    }
   },
   "outputs": [
    {
     "data": {
      "text/plain": [
       "((8024,), (8644,), (34198,), (4647,))"
      ]
     },
     "execution_count": 28,
     "metadata": {},
     "output_type": "execute_result"
    }
   ],
   "source": [
    "#exportdata[exportdata[\"tag_title\"].isin([('High Level Tags - Dimension', 'High Level Tags - Subdimension')])][\"tag_value\"].tolist()\n",
    "# exportdata[exportdata[\"tag_title\"].isin([('In-Crisis - Dimension', 'In-Crisis - Subdimension', 'In-Crisis - Sector', 'In-Crisis - Subsectors'),\n",
    "#        ('Pre-Crisis - Dimension', 'Pre-Crisis - Subdimension', 'Pre-Crisis - Sector', 'Pre-Crisis - Subsectors')])][\"tag_value\"].tolist()\n",
    "#exportdata[exportdata[\"tag_title\"].eq('High Level Tags')][\"tag_value\"].tolist()\n",
    "exportdata[exportdata[\"tag_title\"].eq('High Level Tags')][\"tag_value\"].shape, \\\n",
    "exportdata[exportdata[\"tag_title\"].eq('Pre-Crisis')][\"tag_value\"].shape, \\\n",
    "exportdata[exportdata[\"tag_title\"].eq('In-Crisis')][\"tag_value\"].shape, \\\n",
    "exportdata[exportdata[\"tag_title\"].eq('Shock/Event')][\"tag_value\"].shape"
   ]
  },
  {
   "cell_type": "code",
   "execution_count": 29,
   "metadata": {
    "ExecuteTime": {
     "end_time": "2021-11-01T11:33:53.068793Z",
     "start_time": "2021-11-01T11:33:53.056371Z"
    }
   },
   "outputs": [],
   "source": [
    "exportdata_of_interest = exportdata[exportdata[\"tag_title\"].isin(\n",
    "    mat2d_titles + mat_1d_and_flag_titles)]"
   ]
  },
  {
   "cell_type": "code",
   "execution_count": 30,
   "metadata": {
    "ExecuteTime": {
     "end_time": "2021-11-01T11:33:53.072826Z",
     "start_time": "2021-11-01T11:33:53.069907Z"
    }
   },
   "outputs": [
    {
     "data": {
      "text/plain": [
       "((55513, 6), (157903, 21))"
      ]
     },
     "execution_count": 30,
     "metadata": {},
     "output_type": "execute_result"
    }
   ],
   "source": [
    "exportdata_of_interest.shape, entries.shape"
   ]
  },
  {
   "cell_type": "code",
   "execution_count": 31,
   "metadata": {
    "ExecuteTime": {
     "end_time": "2021-11-01T11:33:53.160325Z",
     "start_time": "2021-11-01T11:33:53.073780Z"
    }
   },
   "outputs": [],
   "source": [
    "entries_labeled = pd.merge(entries,\n",
    "                           exportdata_of_interest,\n",
    "                           how=\"inner\",\n",
    "                           left_on=\"id\",\n",
    "                           right_on=\"entry_id\",\n",
    "                           suffixes=('_entry', '_exportdata'))"
   ]
  },
  {
   "cell_type": "code",
   "execution_count": 32,
   "metadata": {
    "ExecuteTime": {
     "end_time": "2021-11-01T11:33:53.167077Z",
     "start_time": "2021-11-01T11:33:53.161701Z"
    }
   },
   "outputs": [
    {
     "data": {
      "text/plain": [
       "((49789,), (38148,))"
      ]
     },
     "execution_count": 32,
     "metadata": {},
     "output_type": "execute_result"
    }
   ],
   "source": [
    "entries_labeled[\"id_entry\"].shape, entries_labeled[\"id_entry\"].unique().shape"
   ]
  },
  {
   "cell_type": "code",
   "execution_count": 33,
   "metadata": {
    "ExecuteTime": {
     "end_time": "2021-11-01T11:33:53.171529Z",
     "start_time": "2021-11-01T11:33:53.168283Z"
    }
   },
   "outputs": [],
   "source": [
    "def agg_group(group):\n",
    "    tag_titles = group[\"tag_title\"]\n",
    "    tag_values = group[\"tag_value\"]\n",
    "    #\n",
    "    grouped = defaultdict(list)\n",
    "    for title, value in zip(tag_titles, tag_values):\n",
    "        if title in mat_1d_and_flag_titles:\n",
    "            grouped[\"Mat1D\"].extend(value)\n",
    "        elif title in mat2d_titles:\n",
    "            grouped[\"Mat2D\"].extend(value)\n",
    "    return grouped"
   ]
  },
  {
   "cell_type": "code",
   "execution_count": 34,
   "metadata": {
    "ExecuteTime": {
     "end_time": "2021-11-01T11:33:53.176737Z",
     "start_time": "2021-11-01T11:33:53.172845Z"
    }
   },
   "outputs": [
    {
     "data": {
      "text/plain": [
       "Index(['id_entry', 'created_at', 'modified_at', 'excerpt', 'image_raw',\n",
       "       'analysis_framework_id', 'created_by_id', 'lead_id', 'modified_by_id',\n",
       "       'entry_type', 'information_date', 'order', 'client_id', 'project_id',\n",
       "       'tabular_field_id', 'dropped_excerpt', 'highlight_hidden', 'verified',\n",
       "       'verification_last_changed_by_id', 'image_id', 'title', 'id_exportdata',\n",
       "       'data', 'entry_id', 'exportable_id', 'tag_title', 'tag_value'],\n",
       "      dtype='object')"
      ]
     },
     "execution_count": 34,
     "metadata": {},
     "output_type": "execute_result"
    }
   ],
   "source": [
    "entries_labeled.columns"
   ]
  },
  {
   "cell_type": "code",
   "execution_count": 35,
   "metadata": {
    "ExecuteTime": {
     "end_time": "2021-11-01T11:33:55.898531Z",
     "start_time": "2021-11-01T11:33:53.177893Z"
    },
    "scrolled": true
   },
   "outputs": [],
   "source": [
    "tags = entries_labeled.groupby(\"id_entry\").apply(agg_group)"
   ]
  },
  {
   "cell_type": "code",
   "execution_count": 36,
   "metadata": {
    "ExecuteTime": {
     "end_time": "2021-11-01T11:33:55.903240Z",
     "start_time": "2021-11-01T11:33:55.899604Z"
    }
   },
   "outputs": [],
   "source": [
    "entryids_tags = pd.DataFrame({\"entry_id\": tags.index, \"tags\": tags.values})"
   ]
  },
  {
   "cell_type": "code",
   "execution_count": 37,
   "metadata": {
    "ExecuteTime": {
     "end_time": "2021-11-01T11:33:55.916289Z",
     "start_time": "2021-11-01T11:33:55.904178Z"
    }
   },
   "outputs": [
    {
     "data": {
      "text/plain": [
       "(38148, 2)"
      ]
     },
     "execution_count": 37,
     "metadata": {},
     "output_type": "execute_result"
    }
   ],
   "source": [
    "entryids_tags.shape"
   ]
  },
  {
   "cell_type": "code",
   "execution_count": 38,
   "metadata": {
    "ExecuteTime": {
     "end_time": "2021-11-01T11:33:56.257438Z",
     "start_time": "2021-11-01T11:33:55.917346Z"
    }
   },
   "outputs": [
    {
     "name": "stdout",
     "output_type": "stream",
     "text": [
      "(157903, 21)\n",
      "(157903, 14)\n"
     ]
    }
   ],
   "source": [
    "entries_ = entries.rename({\"id\": \"entry_id\"}, axis=1, inplace=False)\n",
    "#\n",
    "print(entries.shape)\n",
    "#\n",
    "entries_ = entries_[[\n",
    "    'entry_id',\n",
    "    'created_at',\n",
    "    'modified_at',\n",
    "    'excerpt',\n",
    "    'entry_type',\n",
    "    'analysis_framework_id',\n",
    "    'created_by_id',\n",
    "    'lead_id',\n",
    "    'modified_by_id',\n",
    "    'information_date',\n",
    "    'order',\n",
    "    'title',\n",
    "    'project_id',\n",
    "    'verified',\n",
    "]].drop_duplicates()\n",
    "#\n",
    "print(entries_.shape)"
   ]
  },
  {
   "cell_type": "code",
   "execution_count": 39,
   "metadata": {
    "ExecuteTime": {
     "end_time": "2021-11-01T11:33:56.304384Z",
     "start_time": "2021-11-01T11:33:56.258630Z"
    }
   },
   "outputs": [
    {
     "data": {
      "text/plain": [
       "((38148, 15),\n",
       " Index(['entry_id', 'created_at', 'modified_at', 'excerpt', 'entry_type',\n",
       "        'analysis_framework_id', 'created_by_id', 'lead_id', 'modified_by_id',\n",
       "        'information_date', 'order', 'title', 'project_id', 'verified', 'tags'],\n",
       "       dtype='object'))"
      ]
     },
     "execution_count": 39,
     "metadata": {},
     "output_type": "execute_result"
    }
   ],
   "source": [
    "entries_labeled = pd.merge(entries_, entryids_tags, on=\"entry_id\", how=\"inner\")\n",
    "entries_labeled.shape, entries_labeled.columns"
   ]
  },
  {
   "cell_type": "code",
   "execution_count": 40,
   "metadata": {
    "ExecuteTime": {
     "end_time": "2021-11-01T11:33:56.439442Z",
     "start_time": "2021-11-01T11:33:56.305837Z"
    }
   },
   "outputs": [
    {
     "data": {
      "text/plain": [
       "0"
      ]
     },
     "execution_count": 40,
     "metadata": {},
     "output_type": "execute_result"
    }
   ],
   "source": [
    "entries_labeled[\"tags_str\"] = entries_labeled[\"tags\"].apply(str)\n",
    "entries_labeled.duplicated(subset=[\"entry_id\", \"tags_str\"]).sum()"
   ]
  },
  {
   "cell_type": "code",
   "execution_count": 41,
   "metadata": {
    "ExecuteTime": {
     "end_time": "2021-11-01T11:33:56.443444Z",
     "start_time": "2021-11-01T11:33:56.440427Z"
    }
   },
   "outputs": [
    {
     "data": {
      "text/plain": [
       "0"
      ]
     },
     "execution_count": 41,
     "metadata": {},
     "output_type": "execute_result"
    }
   ],
   "source": [
    "entries_labeled[\"entry_id\"].duplicated().sum()"
   ]
  },
  {
   "cell_type": "code",
   "execution_count": 42,
   "metadata": {
    "ExecuteTime": {
     "end_time": "2021-11-01T11:33:56.446851Z",
     "start_time": "2021-11-01T11:33:56.444416Z"
    }
   },
   "outputs": [
    {
     "data": {
      "text/plain": [
       "(38148, 16)"
      ]
     },
     "execution_count": 42,
     "metadata": {},
     "output_type": "execute_result"
    }
   ],
   "source": [
    "entries_labeled.shape"
   ]
  },
  {
   "cell_type": "code",
   "execution_count": 43,
   "metadata": {
    "ExecuteTime": {
     "end_time": "2021-11-01T11:33:56.452640Z",
     "start_time": "2021-11-01T11:33:56.447759Z"
    }
   },
   "outputs": [
    {
     "data": {
      "text/plain": [
       "0"
      ]
     },
     "execution_count": 43,
     "metadata": {},
     "output_type": "execute_result"
    }
   ],
   "source": [
    "entries_labeled[\"tags\"].isna().sum()"
   ]
  },
  {
   "cell_type": "code",
   "execution_count": 44,
   "metadata": {
    "ExecuteTime": {
     "end_time": "2021-11-01T11:33:56.630981Z",
     "start_time": "2021-11-01T11:33:56.453557Z"
    }
   },
   "outputs": [
    {
     "data": {
      "text/plain": [
       "((157903, 21), (155459,))"
      ]
     },
     "execution_count": 44,
     "metadata": {},
     "output_type": "execute_result"
    }
   ],
   "source": [
    "entries.shape, entries[~entries[\"excerpt\"].isna()][\"excerpt\"].unique().shape"
   ]
  },
  {
   "cell_type": "code",
   "execution_count": 45,
   "metadata": {
    "ExecuteTime": {
     "end_time": "2021-11-01T11:33:56.635404Z",
     "start_time": "2021-11-01T11:33:56.632120Z"
    }
   },
   "outputs": [
    {
     "data": {
      "text/plain": [
       "((38148, 16),\n",
       " Index(['entry_id', 'created_at', 'modified_at', 'excerpt', 'entry_type',\n",
       "        'analysis_framework_id', 'created_by_id', 'lead_id', 'modified_by_id',\n",
       "        'information_date', 'order', 'title', 'project_id', 'verified', 'tags',\n",
       "        'tags_str'],\n",
       "       dtype='object'))"
      ]
     },
     "execution_count": 45,
     "metadata": {},
     "output_type": "execute_result"
    }
   ],
   "source": [
    "entries_labeled.shape, entries_labeled.columns"
   ]
  },
  {
   "cell_type": "code",
   "execution_count": 46,
   "metadata": {
    "ExecuteTime": {
     "end_time": "2021-11-01T11:33:56.641185Z",
     "start_time": "2021-11-01T11:33:56.636432Z"
    }
   },
   "outputs": [],
   "source": [
    "def tags_to_pillars(x):\n",
    "    tags = x[0]\n",
    "    af_id = x[1]\n",
    "    pillars = []\n",
    "    for tag_key, tag_value in tags.items():\n",
    "        if len(tag_value):\n",
    "            for t in tag_value:\n",
    "                if t[0]:\n",
    "                    if tag_key[-2:] == \"1D\":\n",
    "                        tag_type = \"High Level Tags\"\n",
    "                    else:\n",
    "                        tag_type = \"2D\"\n",
    "                    pillars.append(\n",
    "                      tag_type + \"->\" + t[0].title().strip() + \"->\" + t[1].title().strip())\n",
    "    return list(set(pillars))\n",
    "\n",
    "def tags_to_sectors(x):\n",
    "    tags = x[0]\n",
    "    af_id = x[1]\n",
    "    sectors = []\n",
    "    for tag_key, tag_value in tags.items():\n",
    "        if tag_key != \"Mat2D\":\n",
    "            continue\n",
    "        if len(tag_value):\n",
    "            for t in tag_value:\n",
    "                if len(t) > 2 and t[2]:\n",
    "                    sectors.append(t[2].title())\n",
    "    return list(set(sectors))"
   ]
  },
  {
   "cell_type": "code",
   "execution_count": 47,
   "metadata": {
    "ExecuteTime": {
     "end_time": "2021-11-01T11:33:56.644891Z",
     "start_time": "2021-11-01T11:33:56.642288Z"
    }
   },
   "outputs": [
    {
     "data": {
      "text/plain": [
       "Index(['entry_id', 'created_at', 'modified_at', 'excerpt', 'entry_type',\n",
       "       'analysis_framework_id', 'created_by_id', 'lead_id', 'modified_by_id',\n",
       "       'information_date', 'order', 'title', 'project_id', 'verified', 'tags',\n",
       "       'tags_str'],\n",
       "      dtype='object')"
      ]
     },
     "execution_count": 47,
     "metadata": {},
     "output_type": "execute_result"
    }
   ],
   "source": [
    "entries_labeled.columns"
   ]
  },
  {
   "cell_type": "code",
   "execution_count": 48,
   "metadata": {
    "ExecuteTime": {
     "end_time": "2021-11-01T11:33:57.439942Z",
     "start_time": "2021-11-01T11:33:56.645807Z"
    },
    "scrolled": true
   },
   "outputs": [],
   "source": [
    "entries_labeled[\"pillars\"] = entries_labeled[[\"tags\", 'analysis_framework_id'\n",
    "                                              ]].apply(tags_to_pillars, axis=1)\n",
    "entries_labeled[\"sectors\"] = entries_labeled[[\"tags\", 'analysis_framework_id'\n",
    "                                              ]].apply(tags_to_sectors, axis=1)"
   ]
  },
  {
   "cell_type": "code",
   "execution_count": 49,
   "metadata": {
    "ExecuteTime": {
     "end_time": "2021-11-01T11:33:57.495486Z",
     "start_time": "2021-11-01T11:33:57.441027Z"
    }
   },
   "outputs": [
    {
     "data": {
      "text/plain": [
       "(37729,)"
      ]
     },
     "execution_count": 49,
     "metadata": {},
     "output_type": "execute_result"
    }
   ],
   "source": [
    "entries_labeled[~entries_labeled[\"excerpt\"].isna()][\"excerpt\"].unique().shape"
   ]
  },
  {
   "cell_type": "code",
   "execution_count": 50,
   "metadata": {
    "ExecuteTime": {
     "end_time": "2021-11-01T11:33:57.517715Z",
     "start_time": "2021-11-01T11:33:57.496434Z"
    },
    "scrolled": true
   },
   "outputs": [
    {
     "data": {
      "text/plain": [
       "(49,\n",
       " [('2D->Operational Environment->International Humanitarian Response And Capacities',\n",
       "   7480),\n",
       "  ('2D->Humanitarian Conditions->Humanitarian Condition', 7199),\n",
       "  ('2D->Humanitarian Conditions->Risk', 3499),\n",
       "  ('2D->Stated Priorities And Recommendations->Recommendations From Aid/Research Actors',\n",
       "   3442),\n",
       "  ('2D->Operational Environment->National/Sub-National Response And Capacities',\n",
       "   3290),\n",
       "  ('2D->Humanitarian Situation->Humanitarian Profile', 2914),\n",
       "  ('High Level Tags->General->Risk', 2339),\n",
       "  ('2D->Effects On Population->Post-Shock Displacement', 1996),\n",
       "  ('2D->Effects Systems And Networks->Basic Infrastructure And Social Services',\n",
       "   1843),\n",
       "  ('2D->Effects On Population->Disruption Of Social Behaviors And Networks',\n",
       "   1749),\n",
       "  ('2D->Effects On Population->Damage To Physical Integrity', 1724),\n",
       "  ('2D->Effects On Population->Disruption Of Resources And Assets', 1303),\n",
       "  ('2D->Operational Environment->Humanitarian Access', 1252),\n",
       "  ('High Level Tags->General->Response Gap', 1110),\n",
       "  ('2D->Shock Informaton->Government Measures', 1058),\n",
       "  ('2D->Effects Systems And Networks->Political And Security', 1044),\n",
       "  ('2D->Context->Security', 1030),\n",
       "  ('2D->Context->Basic Infrastructure And Social Services', 996),\n",
       "  ('2D->Effects Systems And Networks->Food System', 967),\n",
       "  ('2D->Context->Socio-Economic', 859),\n",
       "  ('2D->Shock Informaton->Primary Shock (Covid Event Characteristics)', 852),\n",
       "  ('2D->Coping Capacity->Negative Coping Strategies', 780),\n",
       "  ('2D->Humanitarian Situation->Pre-Covid Humanitarian Operations', 739),\n",
       "  ('High Level Tags->Effects->Indirect Effect', 724),\n",
       "  ('2D->Shock Informaton->Secondary Shocks (Non Covid)', 694),\n",
       "  ('2D->Context->Socio-Cultural', 579),\n",
       "  ('2D->Stated Priorities And Recommendations->Affected Population Priorities',\n",
       "   571),\n",
       "  ('2D->Shock Informaton->Aggravating Factors', 452),\n",
       "  ('2D->Effects Systems And Networks->Financial System', 429),\n",
       "  ('2D->Effects Systems And Networks->Supply Chains', 355),\n",
       "  ('2D->Effects Systems And Networks->Physical Environment', 347),\n",
       "  ('2D->Context->Environmental', 327),\n",
       "  ('2D->Effects Systems And Networks->Labour Market', 313),\n",
       "  ('High Level Tags->Effects->Direct Effect', 273),\n",
       "  ('2D->Humanitarian Situation->Humanitarian Access', 269),\n",
       "  ('2D->Context->Policy/Normative Frameworks', 262),\n",
       "  ('High Level Tags->General->Stakeholder', 261),\n",
       "  ('High Level Tags->Humanitarian Conditions->Negative Coping Mechanism', 251),\n",
       "  ('2D->Humanitarian Situation->Pre-Covid National Response Mechanisms', 225),\n",
       "  ('2D->Context->Demographic', 193),\n",
       "  ('2D->Coping Capacity->Positive Adaptive Mechanisms And Responses', 192),\n",
       "  ('2D->Effects On Population->Damage To Resources And Assets', 181),\n",
       "  ('2D->Context->Political', 170),\n",
       "  ('High Level Tags->General->Information Gap', 156),\n",
       "  ('2D->Effects On Population->Disruption Of Rights And Norms', 152),\n",
       "  ('2D->Context->Information And Communication', 64),\n",
       "  ('2D->Shock Informaton->Mitigating Factors', 58),\n",
       "  ('High Level Tags->General->Lessons Learned', 44),\n",
       "  ('2D->Shock Informaton->Primary Shock (Covid)', 16)])"
      ]
     },
     "execution_count": 50,
     "metadata": {},
     "output_type": "execute_result"
    }
   ],
   "source": [
    "pills_unique_1d = set()\n",
    "pills_occurances_1d = list()\n",
    "for pills_1d in entries_labeled[\"pillars\"]:\n",
    "    pills_unique_1d.update(pills_1d)\n",
    "    pills_occurances_1d.extend(pills_1d)\n",
    "len(pills_unique_1d), Counter(pills_occurances_1d).most_common()"
   ]
  },
  {
   "cell_type": "code",
   "execution_count": 51,
   "metadata": {
    "ExecuteTime": {
     "end_time": "2021-11-01T11:33:57.534810Z",
     "start_time": "2021-11-01T11:33:57.518595Z"
    }
   },
   "outputs": [
    {
     "data": {
      "text/plain": [
       "[('Cross-Sector', 12411),\n",
       " ('Health', 8676),\n",
       " ('Protection', 7239),\n",
       " ('Food Security', 4568),\n",
       " ('Livelihoods', 3974),\n",
       " ('Wash', 3345),\n",
       " ('Education', 2923),\n",
       " ('Shelter And Nfis', 2002),\n",
       " ('Nutrition', 2000),\n",
       " ('Cccm', 678),\n",
       " ('Shelter', 311)]"
      ]
     },
     "execution_count": 51,
     "metadata": {},
     "output_type": "execute_result"
    }
   ],
   "source": [
    "secs_unique = set()\n",
    "secs_occurances = list()\n",
    "for secs in entries_labeled[\"sectors\"]:\n",
    "    secs_unique.update(secs)\n",
    "    secs_occurances.extend(secs)\n",
    "#secs_unique\n",
    "Counter(secs_occurances).most_common()"
   ]
  },
  {
   "cell_type": "code",
   "execution_count": 52,
   "metadata": {
    "ExecuteTime": {
     "end_time": "2021-11-01T11:33:57.538624Z",
     "start_time": "2021-11-01T11:33:57.535784Z"
    }
   },
   "outputs": [
    {
     "data": {
      "text/plain": [
       "Index(['entry_id', 'created_at', 'modified_at', 'excerpt', 'entry_type',\n",
       "       'analysis_framework_id', 'created_by_id', 'lead_id', 'modified_by_id',\n",
       "       'information_date', 'order', 'title', 'project_id', 'verified', 'tags',\n",
       "       'tags_str', 'pillars', 'sectors'],\n",
       "      dtype='object')"
      ]
     },
     "execution_count": 52,
     "metadata": {},
     "output_type": "execute_result"
    }
   ],
   "source": [
    "entries_labeled.columns"
   ]
  },
  {
   "cell_type": "code",
   "execution_count": 53,
   "metadata": {
    "ExecuteTime": {
     "end_time": "2021-11-01T11:33:57.553471Z",
     "start_time": "2021-11-01T11:33:57.539554Z"
    }
   },
   "outputs": [
    {
     "data": {
      "text/plain": [
       "(38148, 18)"
      ]
     },
     "execution_count": 53,
     "metadata": {},
     "output_type": "execute_result"
    }
   ],
   "source": [
    "final_df = entries_labeled[entries_labeled[\"entry_type\"].eq(\"excerpt\")\n",
    "                           & (~entries_labeled[\"excerpt\"].isna())]\n",
    "final_df.shape"
   ]
  },
  {
   "cell_type": "code",
   "execution_count": 54,
   "metadata": {
    "ExecuteTime": {
     "end_time": "2021-11-01T11:33:58.178082Z",
     "start_time": "2021-11-01T11:33:57.554339Z"
    },
    "scrolled": true
   },
   "outputs": [
    {
     "data": {
      "text/plain": [
       "((37711, 18), 0)"
      ]
     },
     "execution_count": 54,
     "metadata": {},
     "output_type": "execute_result"
    }
   ],
   "source": [
    "def remove_newlines(excerpt):\n",
    "    if not isinstance(excerpt, str):\n",
    "        return excerpt\n",
    "    return re.sub(\"\\s+\", \" \", excerpt)\n",
    "\n",
    "final_df.loc[:, 'excerpt'] = final_df['excerpt'].apply(remove_newlines)\n",
    "#final_df.loc[:, 'dropped_excerpt'] = final_df['dropped_excerpt'].apply(remove_newlines)\n",
    "##\n",
    "final_df = final_df.sort_values(\"verified\").reset_index(drop=True).drop_duplicates(subset='excerpt', keep=\"last\")\n",
    "final_df.shape, final_df.duplicated(subset=\"excerpt\").sum()"
   ]
  },
  {
   "cell_type": "code",
   "execution_count": 55,
   "metadata": {
    "ExecuteTime": {
     "end_time": "2021-11-01T11:33:58.182126Z",
     "start_time": "2021-11-01T11:33:58.179101Z"
    }
   },
   "outputs": [],
   "source": [
    "sector_name_mapper = {\n",
    "    \"Agriculture\": \"Agriculture\",\n",
    "    \"Cccm\": \"NOT_MAPPED\",\n",
    "    \"Cross\": \"Cross\",\n",
    "    \"Cross Cutting\": \"Cross\",\n",
    "    \"Cross-Sector\": \"Cross\",\n",
    "    \"Education\": \"Education\",\n",
    "    \"Food\": \"Food Security\",\n",
    "    \"Food Security\": \"Food Security\",\n",
    "    \"Nutrition\": \"Nutrition\",\n",
    "    \"Health\": \"Health\",\n",
    "    \"Livelihood\": \"Livelihoods\",\n",
    "    \"Livelihoods\": \"Livelihoods\",\n",
    "    \"Logistic\": \"Logistics\",\n",
    "    \"Logistics\": \"Logistics\",\n",
    "    \"Protection\": \"Protection\",\n",
    "    \"Shelter\": \"Shelter\",\n",
    "    \"Shelter And Nfis\": \"Shelter\",\n",
    "    \"Nfi\": \"NOT_MAPPED\",\n",
    "    \"Wash\": \"WASH\",\n",
    "}"
   ]
  },
  {
   "cell_type": "code",
   "execution_count": 56,
   "metadata": {
    "ExecuteTime": {
     "end_time": "2021-11-01T11:33:58.185834Z",
     "start_time": "2021-11-01T11:33:58.183145Z"
    }
   },
   "outputs": [],
   "source": [
    "af_title_to_id = dict()\n",
    "for afid, title in zip(afs[\"id\"], afs[\"title\"]):\n",
    "    af_title_to_id[\"title\"] = afid"
   ]
  },
  {
   "cell_type": "code",
   "execution_count": 57,
   "metadata": {
    "ExecuteTime": {
     "end_time": "2021-11-01T11:33:58.192244Z",
     "start_time": "2021-11-01T11:33:58.186689Z"
    }
   },
   "outputs": [
    {
     "name": "stderr",
     "output_type": "stream",
     "text": [
      "/tmp/ipykernel_32223/1413560860.py:2: SettingWithCopyWarning: \n",
      "A value is trying to be set on a copy of a slice from a DataFrame.\n",
      "Try using .loc[row_indexer,col_indexer] = value instead\n",
      "\n",
      "See the caveats in the documentation: https://pandas.pydata.org/pandas-docs/stable/user_guide/indexing.html#returning-a-view-versus-a-copy\n",
      "  matching_gimac[col] = matching_gimac[col].astype(str).str.title()\n"
     ]
    }
   ],
   "source": [
    "for col in matching_gimac.columns[1:7]:\n",
    "    matching_gimac[col] = matching_gimac[col].astype(str).str.title()"
   ]
  },
  {
   "cell_type": "code",
   "execution_count": 58,
   "metadata": {
    "ExecuteTime": {
     "end_time": "2021-11-01T11:33:58.207634Z",
     "start_time": "2021-11-01T11:33:58.193392Z"
    },
    "scrolled": true
   },
   "outputs": [
    {
     "name": "stderr",
     "output_type": "stream",
     "text": [
      "/home/abdullah/.local/lib/python3.8/site-packages/pandas/core/indexing.py:1637: SettingWithCopyWarning: \n",
      "A value is trying to be set on a copy of a slice from a DataFrame\n",
      "\n",
      "See the caveats in the documentation: https://pandas.pydata.org/pandas-docs/stable/user_guide/indexing.html#returning-a-view-versus-a-copy\n",
      "  self._setitem_single_block(indexer, value, name)\n",
      "/home/abdullah/.local/lib/python3.8/site-packages/pandas/core/indexing.py:692: SettingWithCopyWarning: \n",
      "A value is trying to be set on a copy of a slice from a DataFrame\n",
      "\n",
      "See the caveats in the documentation: https://pandas.pydata.org/pandas-docs/stable/user_guide/indexing.html#returning-a-view-versus-a-copy\n",
      "  iloc._setitem_with_indexer(indexer, value, self.name)\n"
     ]
    }
   ],
   "source": [
    "## fix typo problems\n",
    "corrected = 'Shock Information' # should not have been corrected!\n",
    "orig = 'Shock Informaton'\n",
    "matching_gimac.loc[matching_gimac['Pillar'].eq(corrected), 'Pillar'] = orig\n",
    "##\n",
    "corrected = 'Effects On Systems And Networks' # should not have been corrected!\n",
    "orig = 'Effects Systems And Networks'\n",
    "matching_gimac.loc[matching_gimac['Pillar'].eq(corrected), 'Pillar'] = orig\n",
    "##\n",
    "corrected = 'Humanitarian Access Gaps' # should not have been corrected!\n",
    "orig = 'Humanitarian Access'\n",
    "matching_gimac.loc[matching_gimac['Sub-pillar'].eq(corrected), 'Sub-pillar'] = orig\n",
    "##\n",
    "corrected = 'Supply Chain' # should not have been corrected!\n",
    "orig = 'Supply Chains'\n",
    "matching_gimac.loc[matching_gimac['Sub-pillar'].eq(corrected), 'Sub-pillar'] = orig\n",
    "## missing from GIMAC Framework not in GIMAC Generic\n",
    "existing = 'Disruption of resources and assets'.title()\n",
    "missing = 'Damage To Resources And Assets'.title()\n",
    "row = matching_gimac.loc[matching_gimac['Sub-pillar'].eq(existing)].iloc[0]\n",
    "row['Sub-pillar'] = missing\n",
    "matching_gimac.loc[matching_gimac.shape[0]] = row\n",
    "##\n",
    "existing = 'Primary Shock (COVID Event Characteristics)'.title()\n",
    "missing = 'Primary Shock (Covid)'.title()\n",
    "row = matching_gimac.loc[matching_gimac['Sub-pillar'].eq(existing)].iloc[0]\n",
    "row['Sub-pillar'] = missing\n",
    "matching_gimac.loc[matching_gimac.shape[0]] = row"
   ]
  },
  {
   "cell_type": "code",
   "execution_count": 59,
   "metadata": {
    "ExecuteTime": {
     "end_time": "2021-11-01T11:33:58.212526Z",
     "start_time": "2021-11-01T11:33:58.208573Z"
    }
   },
   "outputs": [
    {
     "name": "stdout",
     "output_type": "stream",
     "text": [
      "2D->Context->Socio-Economic: 1D->Context->Economy\n",
      "2D->Effects Systems And Networks->Financial System: 1D->Context->Economy\n"
     ]
    }
   ],
   "source": [
    "original_to_virtual = dict()\n",
    "for otype, opillar, osubpillar, ftype, fpillar, fsubpillar in zip(\n",
    "        matching_gimac[\"Type\"],\n",
    "        matching_gimac[\"Pillar\"],\n",
    "        matching_gimac[\"Sub-pillar\"],\n",
    "        matching_gimac[\"Virtual Type\"],\n",
    "        matching_gimac[\"Virtual Pillar\"],\n",
    "        matching_gimac[\"Virtual Sub-pillar\"],\n",
    "):\n",
    "    original = f\"{otype.title().strip()}->{opillar.title().strip()}->{osubpillar.title().strip()}\"\n",
    "    virtual = f\"{ftype.title().strip()}->{fpillar.title().strip()}->{fsubpillar.title().strip()}\"\n",
    "    if fsubpillar == \"Economy\":\n",
    "        print(f\"{original}: {virtual}\")\n",
    "    original_to_virtual[original] = virtual"
   ]
  },
  {
   "cell_type": "code",
   "execution_count": 60,
   "metadata": {
    "ExecuteTime": {
     "end_time": "2021-11-01T11:33:58.221211Z",
     "start_time": "2021-11-01T11:33:58.213735Z"
    },
    "scrolled": true
   },
   "outputs": [
    {
     "data": {
      "text/plain": [
       "{'2D->Humanitarian Situation->Humanitarian Access': '1D->Humanitarian Access->Number Of People Facing Humanitarian Access Constraints/Humanitarian Access Gaps',\n",
       " '2D->Humanitarian Situation->Humanitarian Profile': 'Nan->Nan->Nan',\n",
       " '2D->Humanitarian Situation->Pre-Covid Humanitarian Operations': 'Nan->Nan->Nan',\n",
       " '2D->Humanitarian Situation->Pre-Covid National Response Mechanisms': 'Nan->Nan->Nan',\n",
       " '2D->Context->Socio-Economic': '1D->Context->Economy',\n",
       " '2D->Context->Socio-Cultural': '1D->Context->Socio Cultural',\n",
       " '2D->Context->Security': '1D->Context->Security & Stability',\n",
       " '2D->Context->Political': '1D->Context->Politics',\n",
       " '2D->Context->Policy/Normative Frameworks': '1D->Context->Legal & Policy',\n",
       " '2D->Context->Demographic': '1D->Context->Demography',\n",
       " '2D->Context->Environmental': '1D->Context->Environment',\n",
       " '2D->Context->Basic Infrastructure And Social Services': 'Nan->Nan->Nan',\n",
       " '2D->Context->Information And Communication': 'Nan->Nan->Nan',\n",
       " '2D->Shock Informaton->Primary Shock (Covid Event Characteristics)': 'Nan->Nan->Nan',\n",
       " '2D->Shock Informaton->Secondary Shocks (Non Covid)': 'Nan->Nan->Nan',\n",
       " '2D->Shock Informaton->Aggravating Factors': '1D->Shock/Event->Underlying/Aggravating Factors',\n",
       " '2D->Shock Informaton->Mitigating Factors': 'Nan->Nan->Nan',\n",
       " '2D->Shock Informaton->Government Measures': '1D->Covid-19->Restriction Measures',\n",
       " '2D->Effects Systems And Networks->Financial System': '1D->Context->Economy',\n",
       " '2D->Effects Systems And Networks->Political And Security': 'Nan->Nan->Nan',\n",
       " '2D->Effects Systems And Networks->Basic Infrastructure And Social Services': '2D->Impact->Impact On Systems, Services And Networks',\n",
       " '2D->Effects Systems And Networks->Labour Market': '2D->Impact->Impact On Systems, Services And Networks',\n",
       " '2D->Effects Systems And Networks->Food System': 'Nan->Nan->Nan',\n",
       " '2D->Effects Systems And Networks->Supply Chains': '2D->Impact->Impact On Systems, Services And Networks',\n",
       " '2D->Effects Systems And Networks->Physical Environment': 'Nan->Nan->Nan',\n",
       " '2D->Effects On Population->Post-Shock Displacement': 'Nan->Nan->Nan',\n",
       " '2D->Effects On Population->Disruption Of Social Behaviors And Networks': '2D->Impact->Impact On People',\n",
       " '2D->Effects On Population->Disruption Of Resources And Assets': '2D->Impact->Impact On People',\n",
       " '2D->Effects On Population->Disruption Of Rights And Norms': 'Nan->Nan->Nan',\n",
       " '2D->Effects On Population->Damage To Physical Integrity': '2D->Humanitarian Conditions->Physical And Mental Well Being',\n",
       " '2D->Coping Capacity->Positive Adaptive Mechanisms And Responses': '2D->Humanitarian Conditions->Coping Mechanisms',\n",
       " '2D->Coping Capacity->Negative Coping Strategies': '2D->Humanitarian Conditions->Coping Mechanisms',\n",
       " '2D->Operational Environment->Humanitarian Access': 'Nan->Nan->Nan',\n",
       " '2D->Operational Environment->International Humanitarian Response And Capacities': '2D->Capacities & Response->International Response',\n",
       " '2D->Operational Environment->National/Sub-National Response And Capacities': '2D->Capacities & Response->National Response',\n",
       " '2D->Humanitarian Conditions->Humanitarian Condition': 'Nan->Nan->Nan',\n",
       " '2D->Humanitarian Conditions->Risk': 'Nan->Nan->Nan',\n",
       " '2D->Stated Priorities And Recommendations->Affected Population Priorities': '2D->Priority Needs->Expressed By Population',\n",
       " '2D->Stated Priorities And Recommendations->Recommendations From Aid/Research Actors': '2D->Priority Interventions->Expressed By Humanitarian Staff',\n",
       " 'High Level Tags->General->Information Gap': '1D->Information And Communication->Knowledge And Info Gaps (Hum)',\n",
       " 'High Level Tags->General->Response Gap': '2D->Capacities & Response->Number Of People Reached/Response Gaps',\n",
       " 'High Level Tags->General->Stakeholder': 'Nan->Nan->Nan',\n",
       " 'High Level Tags->General->Lessons Learned': 'Nan->Nan->Nan',\n",
       " 'High Level Tags->General->Risk': '1D->Shock/Event->Hazard & Threats',\n",
       " 'High Level Tags->Effects->Direct Effect': 'Nan->Nan->Nan',\n",
       " 'High Level Tags->Effects->Indirect Effect': 'Nan->Nan->Nan',\n",
       " 'High Level Tags->Humanitarian Conditions->Negative Coping Mechanism': '2D->Humanitarian Conditions->Coping Mechanisms',\n",
       " '2D->Effects On Population->Damage To Resources And Assets': '2D->Impact->Impact On People',\n",
       " '2D->Shock Informaton->Primary Shock (Covid)': 'Nan->Nan->Nan'}"
      ]
     },
     "execution_count": 60,
     "metadata": {},
     "output_type": "execute_result"
    }
   ],
   "source": [
    "original_to_virtual"
   ]
  },
  {
   "cell_type": "code",
   "execution_count": 61,
   "metadata": {
    "ExecuteTime": {
     "end_time": "2021-11-01T11:33:58.236717Z",
     "start_time": "2021-11-01T11:33:58.228436Z"
    }
   },
   "outputs": [],
   "source": [
    "def sector_mapper(sec):\n",
    "    if sec == sec:\n",
    "        return [sector_name_mapper[s] for s in sec]\n",
    "    return []\n",
    "\n",
    "\n",
    "##\n",
    "def pillar_mapper_2d(dim):\n",
    "    if dim == dim:\n",
    "        dim = [original_to_virtual[d] for d in dim]\n",
    "        \n",
    "        dim_processed = []\n",
    "        for d in dim:\n",
    "            if d.startswith('2D'):\n",
    "                dim_processed.append(d.split(\"->\")[1])\n",
    "            elif d == 'Nan->Nan->Nan':\n",
    "                dim_processed.append('NOT_MAPPED')\n",
    "\n",
    "        return dim_processed\n",
    "    return []\n",
    "\n",
    "\n",
    "##\n",
    "def subpillar_mapper_2d(subdim):\n",
    "    if subdim == subdim:\n",
    "        subdim = [original_to_virtual[d] for d in subdim]\n",
    "        subdim_processed = []\n",
    "        for d in subdim:\n",
    "            if d.startswith('2D'):\n",
    "                subdim_processed.append(d[4:])\n",
    "            elif d == 'Nan->Nan->Nan':\n",
    "                subdim_processed.append('NOT_MAPPED')\n",
    "\n",
    "        return subdim_processed\n",
    "    return []\n",
    "\n",
    "\n",
    "##\n",
    "def pillar_mapper_1d(dim):\n",
    "    if dim == dim:\n",
    "        dim = [original_to_virtual[d] for d in dim]\n",
    "\n",
    "        dim_processed = []\n",
    "        for d in dim:\n",
    "            if d.startswith('1D'):\n",
    "                dim_processed.append(d.split(\"->\")[1])\n",
    "            elif d == 'Nan->Nan->Nan':\n",
    "                dim_processed.append('NOT_MAPPED')\n",
    "\n",
    "        return dim_processed\n",
    "    return []\n",
    "\n",
    "\n",
    "##\n",
    "def subpillar_mapper_1d(subdim):\n",
    "    if subdim == subdim:\n",
    "        subdim = [original_to_virtual[d] for d in subdim]\n",
    "\n",
    "        subdim_processed = []\n",
    "        for d in subdim:\n",
    "            if d.startswith('1D'):\n",
    "                subdim_processed.append(d[4:])\n",
    "            elif d == 'Nan->Nan->Nan':\n",
    "                subdim_processed.append('NOT_MAPPED')\n",
    "\n",
    "        return subdim_processed\n",
    "    return []"
   ]
  },
  {
   "cell_type": "code",
   "execution_count": 62,
   "metadata": {
    "ExecuteTime": {
     "end_time": "2021-11-01T11:33:58.498755Z",
     "start_time": "2021-11-01T11:33:58.237739Z"
    }
   },
   "outputs": [],
   "source": [
    "final_df[\"sectors\"] = final_df[\"sectors\"].apply(sector_mapper)\n",
    "final_df[\"subpillars_2d\"] = final_df[\"pillars\"].apply(subpillar_mapper_2d)\n",
    "final_df[\"subpillars_1d\"] = final_df[\"pillars\"].apply(subpillar_mapper_1d)\n",
    "final_df[\"pillars_1d\"] = final_df[\"pillars\"].apply(pillar_mapper_1d)\n",
    "final_df[\"pillars_2d\"] = final_df[\"pillars\"].apply(pillar_mapper_2d)\n",
    "final_df.drop(columns=\"pillars\", inplace=True)"
   ]
  },
  {
   "cell_type": "code",
   "execution_count": 63,
   "metadata": {
    "ExecuteTime": {
     "end_time": "2021-11-01T11:33:58.503833Z",
     "start_time": "2021-11-01T11:33:58.500145Z"
    }
   },
   "outputs": [
    {
     "data": {
      "text/plain": [
       "(37711, 21)"
      ]
     },
     "execution_count": 63,
     "metadata": {},
     "output_type": "execute_result"
    }
   ],
   "source": [
    "final_df.shape"
   ]
  },
  {
   "cell_type": "code",
   "execution_count": 64,
   "metadata": {
    "ExecuteTime": {
     "end_time": "2021-11-01T11:33:58.535691Z",
     "start_time": "2021-11-01T11:33:58.505285Z"
    }
   },
   "outputs": [],
   "source": [
    "to_be_deleted = 'NOT_MAPPED'\n",
    "\n",
    "valid_covn_df = final_df[~(\n",
    "    final_df[\"pillars_2d\"].apply(lambda x: to_be_deleted in x)\n",
    "    | final_df[\"pillars_1d\"].apply(lambda x: to_be_deleted in x)\n",
    "    | final_df[\"subpillars_2d\"].apply(lambda x: to_be_deleted in x)\n",
    "    | final_df[\"subpillars_1d\"].apply(lambda x: to_be_deleted in x))]"
   ]
  },
  {
   "cell_type": "code",
   "execution_count": 65,
   "metadata": {
    "ExecuteTime": {
     "end_time": "2021-11-01T11:33:58.539986Z",
     "start_time": "2021-11-01T11:33:58.536882Z"
    }
   },
   "outputs": [
    {
     "data": {
      "text/plain": [
       "((37711, 21), (17667, 21))"
      ]
     },
     "execution_count": 65,
     "metadata": {},
     "output_type": "execute_result"
    }
   ],
   "source": [
    "final_df.shape, valid_covn_df.shape"
   ]
  },
  {
   "cell_type": "code",
   "execution_count": 66,
   "metadata": {
    "ExecuteTime": {
     "end_time": "2021-11-01T11:33:58.555375Z",
     "start_time": "2021-11-01T11:33:58.541037Z"
    }
   },
   "outputs": [
    {
     "data": {
      "text/plain": [
       "[('Cross', 12281),\n",
       " ('Health', 8557),\n",
       " ('Protection', 7193),\n",
       " ('Food Security', 4513),\n",
       " ('Livelihoods', 3925),\n",
       " ('WASH', 3318),\n",
       " ('Education', 2887),\n",
       " ('Shelter', 2293),\n",
       " ('Nutrition', 1979),\n",
       " ('NOT_MAPPED', 675)]"
      ]
     },
     "execution_count": 66,
     "metadata": {},
     "output_type": "execute_result"
    }
   ],
   "source": [
    "secs_unique = set()\n",
    "secs_occurances = list()\n",
    "for secs in final_df[\"sectors\"]:\n",
    "    secs_unique.update(secs)\n",
    "    secs_occurances.extend(secs)\n",
    "#secs_unique\n",
    "Counter(secs_occurances).most_common()"
   ]
  },
  {
   "cell_type": "code",
   "execution_count": 67,
   "metadata": {
    "ExecuteTime": {
     "end_time": "2021-11-01T11:33:58.572511Z",
     "start_time": "2021-11-01T11:33:58.556487Z"
    }
   },
   "outputs": [
    {
     "data": {
      "text/plain": [
       "[('NOT_MAPPED', 24094),\n",
       " ('Capacities & Response', 11734),\n",
       " ('Impact', 5675),\n",
       " ('Priority Interventions', 3384),\n",
       " ('Humanitarian Conditions', 2919),\n",
       " ('Priority Needs', 562)]"
      ]
     },
     "execution_count": 67,
     "metadata": {},
     "output_type": "execute_result"
    }
   ],
   "source": [
    "pills_unique = set()\n",
    "pills_occurances = list()\n",
    "for pills in final_df[\"pillars_2d\"]:\n",
    "    pills_unique.update(pills)\n",
    "    pills_occurances.extend(pills)\n",
    "#pills_unique\n",
    "Counter(pills_occurances).most_common()"
   ]
  },
  {
   "cell_type": "code",
   "execution_count": 68,
   "metadata": {
    "ExecuteTime": {
     "end_time": "2021-11-01T11:33:58.589902Z",
     "start_time": "2021-11-01T11:33:58.573589Z"
    },
    "scrolled": false
   },
   "outputs": [
    {
     "data": {
      "text/plain": [
       "[('NOT_MAPPED', 24094),\n",
       " ('Capacities & Response->International Response', 7385),\n",
       " ('Priority Interventions->Expressed By Humanitarian Staff', 3384),\n",
       " ('Capacities & Response->National Response', 3250),\n",
       " ('Impact->Impact On People', 3191),\n",
       " ('Impact->Impact On Systems, Services And Networks', 2484),\n",
       " ('Humanitarian Conditions->Physical And Mental Well Being', 1711),\n",
       " ('Humanitarian Conditions->Coping Mechanisms', 1208),\n",
       " ('Capacities & Response->Number Of People Reached/Response Gaps', 1099),\n",
       " ('Priority Needs->Expressed By Population', 562)]"
      ]
     },
     "execution_count": 68,
     "metadata": {},
     "output_type": "execute_result"
    }
   ],
   "source": [
    "subpills_unique = set()\n",
    "subpills_occurances = list()\n",
    "for subpills in final_df[\"subpillars_2d\"]:\n",
    "    subpills_unique.update(subpills)\n",
    "    subpills_occurances.extend(subpills)\n",
    "Counter(subpills_occurances).most_common()"
   ]
  },
  {
   "cell_type": "code",
   "execution_count": 69,
   "metadata": {
    "ExecuteTime": {
     "end_time": "2021-11-01T11:33:58.605246Z",
     "start_time": "2021-11-01T11:33:58.590910Z"
    }
   },
   "outputs": [
    {
     "data": {
      "text/plain": [
       "[('NOT_MAPPED', 24094),\n",
       " ('Context', 3834),\n",
       " ('Shock/Event', 2767),\n",
       " ('Covid-19', 1050),\n",
       " ('Humanitarian Access', 268),\n",
       " ('Information And Communication', 156)]"
      ]
     },
     "execution_count": 69,
     "metadata": {},
     "output_type": "execute_result"
    }
   ],
   "source": [
    "pills_unique_1d = set()\n",
    "pills_occurances_1d = list()\n",
    "for pills_1d in final_df[\"pillars_1d\"]:\n",
    "    pills_unique_1d.update(pills_1d)\n",
    "    pills_occurances_1d.extend(pills_1d)\n",
    "#pills_unique_1d\n",
    "Counter(pills_occurances_1d).most_common()"
   ]
  },
  {
   "cell_type": "code",
   "execution_count": 70,
   "metadata": {
    "ExecuteTime": {
     "end_time": "2021-11-01T11:33:58.620984Z",
     "start_time": "2021-11-01T11:33:58.606244Z"
    },
    "scrolled": true
   },
   "outputs": [
    {
     "data": {
      "text/plain": [
       "[('NOT_MAPPED', 24094),\n",
       " ('Shock/Event->Hazard & Threats', 2316),\n",
       " ('Context->Economy', 1284),\n",
       " ('Covid-19->Restriction Measures', 1050),\n",
       " ('Context->Security & Stability', 1024),\n",
       " ('Context->Socio Cultural', 576),\n",
       " ('Shock/Event->Underlying/Aggravating Factors', 451),\n",
       " ('Context->Environment', 326),\n",
       " ('Humanitarian Access->Number Of People Facing Humanitarian Access Constraints/Humanitarian Access Gaps',\n",
       "  268),\n",
       " ('Context->Legal & Policy', 261),\n",
       " ('Context->Demography', 193),\n",
       " ('Context->Politics', 170),\n",
       " ('Information And Communication->Knowledge And Info Gaps (Hum)', 156)]"
      ]
     },
     "execution_count": 70,
     "metadata": {},
     "output_type": "execute_result"
    }
   ],
   "source": [
    "subpills_unique_1d = set()\n",
    "subpills_occurances_1d = list()\n",
    "for subpills_1d in final_df[\"subpillars_1d\"]:\n",
    "    subpills_unique_1d.update(subpills_1d)\n",
    "    subpills_occurances_1d.extend(subpills_1d)\n",
    "#subpills_unique_1d\n",
    "Counter(subpills_occurances_1d).most_common()"
   ]
  },
  {
   "cell_type": "code",
   "execution_count": 71,
   "metadata": {
    "ExecuteTime": {
     "end_time": "2021-11-01T11:33:58.639947Z",
     "start_time": "2021-11-01T11:33:58.621941Z"
    }
   },
   "outputs": [
    {
     "data": {
      "text/plain": [
       "(23590, 34635, 37389)"
      ]
     },
     "execution_count": 71,
     "metadata": {},
     "output_type": "execute_result"
    }
   ],
   "source": [
    "final_df[\"subpillars_1d\"].apply(lambda x:x!=[]).sum(),\\\n",
    "final_df[\"subpillars_2d\"].apply(lambda x:x!=[]).sum(),\\\n",
    "final_df[\"sectors\"].apply(lambda x:x!=[]).sum()"
   ]
  },
  {
   "cell_type": "code",
   "execution_count": 72,
   "metadata": {
    "ExecuteTime": {
     "end_time": "2021-11-01T11:33:58.653049Z",
     "start_time": "2021-11-01T11:33:58.641097Z"
    }
   },
   "outputs": [],
   "source": [
    "final_df = final_df[['entry_id', 'excerpt', 'entry_type',\n",
    "        'analysis_framework_id', 'lead_id','title',\n",
    "        'project_id', 'verified',\n",
    "        'sectors', 'subpillars_2d', 'subpillars_1d', 'pillars_1d',\n",
    "        'pillars_2d']]\n",
    "\n",
    "valid_covn_df = valid_covn_df[['entry_id', 'excerpt', 'entry_type',\n",
    "        'analysis_framework_id', 'lead_id','title',\n",
    "        'project_id', 'verified',\n",
    "        'sectors', 'subpillars_2d', 'subpillars_1d', 'pillars_1d',\n",
    "        'pillars_2d']]"
   ]
  },
  {
   "cell_type": "code",
   "execution_count": 73,
   "metadata": {
    "ExecuteTime": {
     "end_time": "2021-11-01T11:33:58.675527Z",
     "start_time": "2021-11-01T11:33:58.654482Z"
    }
   },
   "outputs": [
    {
     "data": {
      "text/plain": [
       "((37711, 13), (17667, 13))"
      ]
     },
     "execution_count": 73,
     "metadata": {},
     "output_type": "execute_result"
    }
   ],
   "source": [
    "final_df = final_df[~(\n",
    "    final_df.analysis_framework_id.isna() | \n",
    "    final_df.entry_id.isna() |\n",
    "    final_df.lead_id.isna() |\n",
    "    final_df.excerpt.isna())\n",
    "]\n",
    "\n",
    "valid_covn_df = valid_covn_df[~(\n",
    "    valid_covn_df.analysis_framework_id.isna() | \n",
    "    valid_covn_df.entry_id.isna() |\n",
    "    valid_covn_df.lead_id.isna() |\n",
    "    valid_covn_df.excerpt.isna())\n",
    "]\n",
    "final_df.shape, valid_covn_df.shape"
   ]
  },
  {
   "cell_type": "code",
   "execution_count": 74,
   "metadata": {
    "ExecuteTime": {
     "end_time": "2021-11-01T11:33:58.687399Z",
     "start_time": "2021-11-01T11:33:58.676548Z"
    },
    "scrolled": true
   },
   "outputs": [
    {
     "data": {
      "text/plain": [
       "{'NOT_MAPPED'}"
      ]
     },
     "execution_count": 74,
     "metadata": {},
     "output_type": "execute_result"
    }
   ],
   "source": [
    "def flatten(t):\n",
    "    return [item for sublist in t for item in sublist]\n",
    "\n",
    "\n",
    "tags_2d = set(flatten(final_df.subpillars_2d.tolist()))\n",
    "tags_1d = set(flatten(final_df.subpillars_1d.tolist()))\n",
    "\n",
    "tags_2d.intersection(tags_1d)"
   ]
  },
  {
   "cell_type": "code",
   "execution_count": 75,
   "metadata": {
    "ExecuteTime": {
     "end_time": "2021-11-01T11:33:59.215673Z",
     "start_time": "2021-11-01T11:33:58.688431Z"
    }
   },
   "outputs": [],
   "source": [
    "final_df.to_csv('generated_dataset/primary_tags_gimmac_data.csv', index=None)\n",
    "valid_covn_df.to_csv('generated_dataset/primary_tags_gimmac_data_vc.csv', index=None)"
   ]
  },
  {
   "cell_type": "code",
   "execution_count": null,
   "metadata": {},
   "outputs": [],
   "source": []
  },
  {
   "cell_type": "code",
   "execution_count": null,
   "metadata": {},
   "outputs": [],
   "source": []
  },
  {
   "cell_type": "code",
   "execution_count": null,
   "metadata": {},
   "outputs": [],
   "source": []
  },
  {
   "cell_type": "code",
   "execution_count": null,
   "metadata": {},
   "outputs": [],
   "source": []
  }
 ],
 "metadata": {
  "kernelspec": {
   "display_name": "Python 3 (ipykernel)",
   "language": "python",
   "name": "python3"
  },
  "language_info": {
   "codemirror_mode": {
    "name": "ipython",
    "version": 3
   },
   "file_extension": ".py",
   "mimetype": "text/x-python",
   "name": "python",
   "nbconvert_exporter": "python",
   "pygments_lexer": "ipython3",
   "version": "3.8.11"
  },
  "varInspector": {
   "cols": {
    "lenName": 16,
    "lenType": 16,
    "lenVar": 40
   },
   "kernels_config": {
    "python": {
     "delete_cmd_postfix": "",
     "delete_cmd_prefix": "del ",
     "library": "var_list.py",
     "varRefreshCmd": "print(var_dic_list())"
    },
    "r": {
     "delete_cmd_postfix": ") ",
     "delete_cmd_prefix": "rm(",
     "library": "var_list.r",
     "varRefreshCmd": "cat(var_dic_list()) "
    }
   },
   "types_to_exclude": [
    "module",
    "function",
    "builtin_function_or_method",
    "instance",
    "_Feature"
   ],
   "window_display": false
  }
 },
 "nbformat": 4,
 "nbformat_minor": 4
}
