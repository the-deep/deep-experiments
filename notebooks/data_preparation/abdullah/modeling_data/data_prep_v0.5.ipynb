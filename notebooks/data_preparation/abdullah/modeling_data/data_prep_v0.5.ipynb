{
 "cells": [
  {
   "cell_type": "code",
   "execution_count": 1,
   "metadata": {
    "ExecuteTime": {
     "end_time": "2021-06-20T17:48:21.298028Z",
     "start_time": "2021-06-20T17:48:21.121738Z"
    }
   },
   "outputs": [],
   "source": [
    "import re\n",
    "import json\n",
    "import random\n",
    "from pprint import pprint\n",
    "from ast import literal_eval\n",
    "from collections import Counter\n",
    "\n",
    "import numpy as np\n",
    "import pandas as pd\n",
    "from tqdm.auto import tqdm"
   ]
  },
  {
   "cell_type": "markdown",
   "metadata": {},
   "source": [
    "Random seeding for reproducibility"
   ]
  },
  {
   "cell_type": "code",
   "execution_count": 2,
   "metadata": {
    "ExecuteTime": {
     "end_time": "2021-06-20T17:48:21.305190Z",
     "start_time": "2021-06-20T17:48:21.301308Z"
    }
   },
   "outputs": [],
   "source": [
    "random.seed(2021)\n",
    "np.random.seed(2021)"
   ]
  },
  {
   "cell_type": "code",
   "execution_count": 3,
   "metadata": {
    "ExecuteTime": {
     "end_time": "2021-06-20T17:48:23.509130Z",
     "start_time": "2021-06-20T17:48:21.308309Z"
    },
    "code_folding": []
   },
   "outputs": [],
   "source": [
    "# each line in this table correspond to single tagging of an entry.\n",
    "# an entry may have more than one tagging (e.g. a tag in 2D matrix, another in 1D matrix, \n",
    "# secondary tags, etc. )\n",
    "exportdata = pd.read_csv(\"exportdata.csv\")\n",
    "# I pulled entries related to projects chosen by Patrice\n",
    "entries = pd.read_csv(\"entries_of_projects_chosen_by_patrice.csv\")\n",
    "# The widgets of AF's, i.e. 2D matrices, 1D matrices, secondary tagging widgets, etc.\n",
    "af_widgets = pd.read_csv(\"af_widgets_of_interest.csv\")\n",
    "# Projects chosen by Patrice\n",
    "projects = pd.read_csv(\"projects_chosen_by_patrice.csv\")\n",
    "# \n",
    "exportables = pd.read_csv(\"af_exportables.csv\")\n",
    "# AF details \n",
    "afs = pd.read_csv(\"analysis_frameworks.csv\")\n",
    "# user ids, first names and last names\n",
    "users = pd.read_csv(\"user_names.csv\")\n",
    "# The matchin of pillar/sub-pillar names from different AFs into unified pillar/sub-pillar names\n",
    "matching_2d_mat = pd.read_csv(\"pillars_subpillars_matching.csv\")\n",
    "matching_1d_mat = pd.read_csv(\"mat_1d_matching.csv\")"
   ]
  },
  {
   "cell_type": "code",
   "execution_count": 4,
   "metadata": {
    "ExecuteTime": {
     "end_time": "2021-06-20T17:48:23.515228Z",
     "start_time": "2021-06-20T17:48:23.510291Z"
    }
   },
   "outputs": [],
   "source": [
    "# Pandas will read json objects as strings,\n",
    "# here I am converting them into Python dict objects\n",
    "af_widgets[\"properties\"] = af_widgets[\"properties\"].apply(json.loads)"
   ]
  },
  {
   "cell_type": "code",
   "execution_count": 5,
   "metadata": {
    "ExecuteTime": {
     "end_time": "2021-06-20T17:48:23.531053Z",
     "start_time": "2021-06-20T17:48:23.516321Z"
    },
    "code_folding": []
   },
   "outputs": [],
   "source": [
    "# widget names of 2D matrices in the chosen AFs's\n",
    "mat2d_titles = [\n",
    "    s.upper() for s in [\n",
    "        \"Pre-Crisis\",\n",
    "        \"Shock/Event\",\n",
    "        \"In-Crisis\",\n",
    "        \"Sectors\",\n",
    "        \"Sectoral Information\",\n",
    "        \"Matrix 2D\",\n",
    "    ]\n",
    "]\n",
    "\n",
    "mat2d_properties_ids = af_widgets[(\n",
    "    af_widgets[\"title\"].str.upper()).isin(mat2d_titles)][[\n",
    "        \"properties\", \"analysis_framework_id\"\n",
    "    ]]\n",
    "mat2d_properties = mat2d_properties_ids[\"properties\"].tolist()\n",
    "mat2d_ids = mat2d_properties_ids[\"analysis_framework_id\"].tolist()\n",
    "## 1D Matrices\n",
    "# widget names of 1D matrices in the chosen AFs's\n",
    "mat1d_titles = [\n",
    "    s.upper() for s in [\n",
    "        \"Operational Environment\",  # iMMAP, 2020 Okular, Okular Generic, Colombia-AF, Nigeria Situation Analysis (OA), IFRC Master Framework 2019\n",
    "        \"Cross Sector\",  #Rohingya Framework, IFRC Analytical Framework 2018, \n",
    "        \"Matrix 1D\",  # Situation Analysis Generic Yemen, \n",
    "        \"Cross Sectors\",  # Situation Analysis Generic Libya\n",
    "    ]\n",
    "]\n",
    "mat1d_titles = mat1d_titles + [\n",
    "    sub_s.title() for sub_s in ('Operational Environment - Dimension',\n",
    "                                'Operational Environment - Subdimension')\n",
    "]\n",
    "mat1d_properties_ids = af_widgets[(\n",
    "    af_widgets[\"title\"].str.upper()).isin(mat1d_titles)][[\n",
    "        \"properties\", \"analysis_framework_id\"\n",
    "    ]]\n",
    "mat1d_properties = mat1d_properties_ids[\"properties\"].tolist()\n",
    "mat1d_ids = mat1d_properties_ids[\"analysis_framework_id\"].tolist()"
   ]
  },
  {
   "cell_type": "code",
   "execution_count": 6,
   "metadata": {
    "ExecuteTime": {
     "end_time": "2021-06-20T17:48:23.535732Z",
     "start_time": "2021-06-20T17:48:23.532101Z"
    },
    "scrolled": true
   },
   "outputs": [],
   "source": [
    "afids_pillars_subpillars = dict()\n",
    "for mat, af_id in zip(mat2d_properties, mat2d_ids):\n",
    "    dims = mat[\"data\"]['dimensions']\n",
    "    afids_pillars_subpillars[af_id] = {}\n",
    "    for dim in dims:\n",
    "        pillar = dim[\"title\"]\n",
    "        sub_pillars = []\n",
    "        for sub_pillar_dict in dim[\"subdimensions\"]:\n",
    "            sub_pillars.append(sub_pillar_dict[\"title\"])\n",
    "        afids_pillars_subpillars[af_id][pillar] = sub_pillars\n",
    "##\n",
    "afids_rows_cells = dict()\n",
    "for mat, af_id in zip(mat1d_properties, mat1d_ids):\n",
    "    rows = mat[\"data\"]['rows']\n",
    "    afids_rows_cells[af_id] = {}\n",
    "    for row in rows:\n",
    "        pillar = row[\"title\"]\n",
    "        sub_pillars = []\n",
    "        for sub_pillar_dict in row[\"cells\"]:\n",
    "            sub_pillars.append(sub_pillar_dict[\"value\"])\n",
    "        afids_rows_cells[af_id][pillar] = sub_pillars\n"
   ]
  },
  {
   "cell_type": "code",
   "execution_count": 7,
   "metadata": {
    "ExecuteTime": {
     "end_time": "2021-06-20T17:48:23.590728Z",
     "start_time": "2021-06-20T17:48:23.536596Z"
    }
   },
   "outputs": [],
   "source": [
    "def extract_title(x):\n",
    "    if x[\"excel\"].get(\"title\"):\n",
    "        return x[\"excel\"][\"title\"]\n",
    "    elif x[\"excel\"].get(\"type\") == \"multiple\":\n",
    "        return x[\"excel\"][\"titles\"]\n",
    "##\n",
    "exportables[\"data\"] = exportables[\"data\"].apply(literal_eval)\n",
    "af_titles = exportables[\"data\"].apply(extract_title).tolist()"
   ]
  },
  {
   "cell_type": "code",
   "execution_count": 8,
   "metadata": {
    "ExecuteTime": {
     "end_time": "2021-06-20T17:48:23.598971Z",
     "start_time": "2021-06-20T17:48:23.592611Z"
    }
   },
   "outputs": [
    {
     "data": {
      "text/plain": [
       "((181142, 21), (1018086, 4))"
      ]
     },
     "execution_count": 8,
     "metadata": {},
     "output_type": "execute_result"
    }
   ],
   "source": [
    "entries.shape, exportdata.shape"
   ]
  },
  {
   "cell_type": "code",
   "execution_count": 9,
   "metadata": {
    "ExecuteTime": {
     "end_time": "2021-06-20T17:48:23.803471Z",
     "start_time": "2021-06-20T17:48:23.600335Z"
    }
   },
   "outputs": [
    {
     "data": {
      "text/plain": [
       "(138924,)"
      ]
     },
     "execution_count": 9,
     "metadata": {},
     "output_type": "execute_result"
    }
   ],
   "source": [
    "entries[~entries[\"excerpt\"].isna()][\"excerpt\"].unique().shape"
   ]
  },
  {
   "cell_type": "code",
   "execution_count": 10,
   "metadata": {
    "ExecuteTime": {
     "end_time": "2021-06-20T17:48:23.807303Z",
     "start_time": "2021-06-20T17:48:23.804689Z"
    }
   },
   "outputs": [],
   "source": [
    "exid_to_exdata = dict()\n",
    "for ex_id, ex_data in zip(exportables[\"id\"], exportables[\"data\"]):\n",
    "    exid_to_exdata[ex_id] = ex_data"
   ]
  },
  {
   "cell_type": "code",
   "execution_count": 11,
   "metadata": {
    "ExecuteTime": {
     "end_time": "2021-06-20T17:48:23.811876Z",
     "start_time": "2021-06-20T17:48:23.808666Z"
    }
   },
   "outputs": [
    {
     "data": {
      "text/plain": [
       "array(['Sectoral Information', 'LOCATION', 'EXCERPT',\n",
       "       'Operational Environment', 'Information Date', 'RELIABILITY',\n",
       "       'Flag', 'DEMOGRAPHIC GROUPS', 'SPECIFIC NEEDS GROUPS',\n",
       "       'AFFECTED GROUPS', 'Severity', 'Sectors', 'Cross sector',\n",
       "       'Affected groups', 'Specific Needs Groups', 'Demographic Groups',\n",
       "       'Reliability', 'Geo Location', 'Excerpt', 'Information date',\n",
       "       'PRE-CRISIS', 'IN-CRISIS', 'Crisis type',\n",
       "       'Context additional tags', 'Crisis Type', 'SHOCK/EVENT',\n",
       "       'Additional Context', 'DISPLACED POP TYPE', 'CLEANING tags',\n",
       "       'POPULATION GROUPS', 'Cleaning comments', 'HIGH LEVEL TAGS',\n",
       "       'Comment'], dtype=object)"
      ]
     },
     "execution_count": 11,
     "metadata": {},
     "output_type": "execute_result"
    }
   ],
   "source": [
    "af_widgets[\"title\"].unique()"
   ]
  },
  {
   "cell_type": "code",
   "execution_count": 12,
   "metadata": {
    "ExecuteTime": {
     "end_time": "2021-06-20T17:48:23.815447Z",
     "start_time": "2021-06-20T17:48:23.812953Z"
    }
   },
   "outputs": [],
   "source": [
    "widget_key_id_to_title = dict()\n",
    "for w_key, w_id, title in zip(af_widgets[\"key\"], af_widgets[\"widget_id\"], af_widgets[\"title\"]):\n",
    "    widget_key_id_to_title[(w_key, w_id)] = title"
   ]
  },
  {
   "cell_type": "code",
   "execution_count": 13,
   "metadata": {
    "ExecuteTime": {
     "end_time": "2021-06-20T17:48:23.822233Z",
     "start_time": "2021-06-20T17:48:23.816510Z"
    }
   },
   "outputs": [],
   "source": [
    "def exportdata_to_tag_title(row):\n",
    "    data = json.loads(row[1])\n",
    "    wkey, wid = None, None\n",
    "    if data.get(\"common\"):\n",
    "        wkey = data.get(\"common\").get(\"widget_key\")\n",
    "        wid = data[\"common\"].get(\"widget_id\")\n",
    "    if wkey and wid:\n",
    "        if widget_key_id_to_title.get((wkey, wid)):\n",
    "            return widget_key_id_to_title.get((wkey, wid))\n",
    "    if data.get(\"report\") and data[\"report\"].get(\"other\"):\n",
    "            if len(data[\"report\"][\"other\"]) == 1 and data[\"report\"][\"other\"][0].get(\"title\"):\n",
    "                if data[\"report\"][\"other\"][0][\"title\"]:\n",
    "                    return data[\"report\"][\"other\"][0][\"title\"]\n",
    "    if isinstance(data.get(\"excel\"), list) and len(data[\"excel\"])==1 and \\\n",
    "     data[\"excel\"][0].get(\"widget_key\") and data[\"excel\"][0].get(\"widget_id\"):\n",
    "        wkey = data[\"excel\"][0][\"widget_key\"]\n",
    "        wid = data[\"excel\"][0][\"widget_id\"]\n",
    "        if widget_key_id_to_title.get((wkey, wid)):\n",
    "            return widget_key_id_to_title.get((wkey, wid))\n",
    "    exportable_id = row[3]\n",
    "    if exid_to_exdata[exportable_id][\"excel\"].get(\"title\"):\n",
    "        return exid_to_exdata[exportable_id][\"excel\"][\"title\"]\n",
    "    elif exid_to_exdata[exportable_id][\"excel\"].get(\"type\") == \"multiple\":\n",
    "        return exid_to_exdata[exportable_id][\"excel\"][\"titles\"]\n",
    "    raise"
   ]
  },
  {
   "cell_type": "code",
   "execution_count": 14,
   "metadata": {
    "ExecuteTime": {
     "end_time": "2021-06-20T17:48:34.167934Z",
     "start_time": "2021-06-20T17:48:23.823385Z"
    }
   },
   "outputs": [],
   "source": [
    "exportdata[\"tag_title\"] = exportdata.apply(exportdata_to_tag_title, axis=1)"
   ]
  },
  {
   "cell_type": "code",
   "execution_count": 15,
   "metadata": {
    "ExecuteTime": {
     "end_time": "2021-06-20T17:48:34.177689Z",
     "start_time": "2021-06-20T17:48:34.170700Z"
    }
   },
   "outputs": [],
   "source": [
    "def exportdata_to_tag_value(row):\n",
    "    data = json.loads(row[1])\n",
    "    if isinstance(data[\"excel\"], list) and len(data[\"excel\"])==1:\n",
    "        return data[\"excel\"][0][\"value\"]\n",
    "    if data[\"excel\"].get(\"type\") == \"lists\":\n",
    "        return data[\"excel\"][\"values\"]\n",
    "    if isinstance(data[\"excel\"], dict) and \"value\" in data[\"excel\"]:\n",
    "        return data[\"excel\"].get(\"value\")\n",
    "    if isinstance(data[\"excel\"], dict) and \"values\" in data[\"excel\"]:\n",
    "        return data[\"excel\"].get(\"values\")\n",
    "    elif \"values\" in data[\"common\"]:\n",
    "        return data[\"common\"][\"values\"]\n",
    "    elif \"value\" in data[\"common\"]:\n",
    "        return data[\"common\"][\"value\"]\n",
    "    raise"
   ]
  },
  {
   "cell_type": "code",
   "execution_count": 16,
   "metadata": {
    "ExecuteTime": {
     "end_time": "2021-06-20T17:48:46.881863Z",
     "start_time": "2021-06-20T17:48:34.178700Z"
    }
   },
   "outputs": [],
   "source": [
    "exportdata[\"tag_value\"] = exportdata.apply(exportdata_to_tag_value, axis=1)"
   ]
  },
  {
   "cell_type": "code",
   "execution_count": 17,
   "metadata": {
    "ExecuteTime": {
     "end_time": "2021-06-20T17:48:46.886162Z",
     "start_time": "2021-06-20T17:48:46.883396Z"
    }
   },
   "outputs": [],
   "source": [
    "def title_case(tag):\n",
    "    if isinstance(tag, (list, tuple)):\n",
    "        return tuple([x.title() for x in tag])\n",
    "    return tag.title()"
   ]
  },
  {
   "cell_type": "code",
   "execution_count": 18,
   "metadata": {
    "ExecuteTime": {
     "end_time": "2021-06-20T17:48:47.294450Z",
     "start_time": "2021-06-20T17:48:46.887741Z"
    }
   },
   "outputs": [],
   "source": [
    "exportdata[\"tag_title\"] = exportdata[\"tag_title\"].apply(title_case)"
   ]
  },
  {
   "cell_type": "code",
   "execution_count": 19,
   "metadata": {
    "ExecuteTime": {
     "end_time": "2021-06-20T17:48:47.298229Z",
     "start_time": "2021-06-20T17:48:47.295859Z"
    }
   },
   "outputs": [],
   "source": [
    "mat_1d_and_flag_titles = [\n",
    "    'Flag', 'Operational Environment', 'Cross Sector',\n",
    "    ('Operational Environment - Dimension',\n",
    "     'Operational Environment - Subdimension'),\n",
    "    ('Flag - Dimension', 'Flag - Subdimension')\n",
    "]"
   ]
  },
  {
   "cell_type": "code",
   "execution_count": 20,
   "metadata": {
    "ExecuteTime": {
     "end_time": "2021-06-20T17:48:47.301033Z",
     "start_time": "2021-06-20T17:48:47.299436Z"
    }
   },
   "outputs": [],
   "source": [
    "#exportdata[exportdata[\"tag_title\"].isin([('Operational Environment - Dimension', 'Operational Environment - Subdimension')])][\"tag_value\"].tolist()\n",
    "#exportdata[exportdata[\"tag_title\"].eq('High Level Tags')][\"tag_value\"].tolist()"
   ]
  },
  {
   "cell_type": "code",
   "execution_count": 21,
   "metadata": {
    "ExecuteTime": {
     "end_time": "2021-06-20T17:48:47.304979Z",
     "start_time": "2021-06-20T17:48:47.302134Z"
    }
   },
   "outputs": [],
   "source": [
    "mat2d_titles = [s.title() for s in mat2d_titles]\n",
    "mat1d_titles = [\n",
    "    s.title() if isinstance(s, str) else (sub_s.title() for sub_s in s)\n",
    "    for s in mat1d_titles\n",
    "]\n",
    "mat_1d_and_flag_titles = [\n",
    "    s.title() if isinstance(s, str) else (sub_s.title() for sub_s in s)\n",
    "    for s in mat_1d_and_flag_titles\n",
    "]"
   ]
  },
  {
   "cell_type": "code",
   "execution_count": 22,
   "metadata": {
    "ExecuteTime": {
     "end_time": "2021-06-20T17:48:47.474839Z",
     "start_time": "2021-06-20T17:48:47.306146Z"
    }
   },
   "outputs": [],
   "source": [
    "exportdata_of_interest = exportdata[exportdata[\"tag_title\"].isin(\n",
    "    mat2d_titles + mat_1d_and_flag_titles)]"
   ]
  },
  {
   "cell_type": "code",
   "execution_count": 23,
   "metadata": {
    "ExecuteTime": {
     "end_time": "2021-06-20T17:48:47.482953Z",
     "start_time": "2021-06-20T17:48:47.479670Z"
    }
   },
   "outputs": [
    {
     "data": {
      "text/plain": [
       "((225045, 6), (181142, 21))"
      ]
     },
     "execution_count": 23,
     "metadata": {},
     "output_type": "execute_result"
    }
   ],
   "source": [
    "exportdata_of_interest.shape, entries.shape"
   ]
  },
  {
   "cell_type": "code",
   "execution_count": 24,
   "metadata": {
    "ExecuteTime": {
     "end_time": "2021-06-20T17:48:47.775941Z",
     "start_time": "2021-06-20T17:48:47.485158Z"
    }
   },
   "outputs": [],
   "source": [
    "entries_labeled = pd.merge(entries,\n",
    "                           exportdata_of_interest,\n",
    "                           how=\"inner\",\n",
    "                           left_on=\"id\",\n",
    "                           right_on=\"entry_id\",\n",
    "                           suffixes=('_entry', '_exportdata'))"
   ]
  },
  {
   "cell_type": "code",
   "execution_count": 25,
   "metadata": {
    "ExecuteTime": {
     "end_time": "2021-06-20T17:48:47.787943Z",
     "start_time": "2021-06-20T17:48:47.777803Z"
    }
   },
   "outputs": [
    {
     "data": {
      "text/plain": [
       "((225044,), (179473,))"
      ]
     },
     "execution_count": 25,
     "metadata": {},
     "output_type": "execute_result"
    }
   ],
   "source": [
    "entries_labeled[\"id_entry\"].shape, entries_labeled[\"id_entry\"].unique().shape"
   ]
  },
  {
   "cell_type": "code",
   "execution_count": 26,
   "metadata": {
    "ExecuteTime": {
     "end_time": "2021-06-20T17:48:47.792736Z",
     "start_time": "2021-06-20T17:48:47.789429Z"
    }
   },
   "outputs": [],
   "source": [
    "def agg_group(group):\n",
    "    tag_titles = group[\"tag_title\"]\n",
    "    tag_titles = [\"Mat1D\" if title in mat_1d_and_flag_titles else \"Mat2D\" for title in tag_titles]\n",
    "    tag_values = group[\"tag_value\"]\n",
    "    return {f\"{title}_{i}\":value for i, (title, value) in enumerate(zip(tag_titles, tag_values))}"
   ]
  },
  {
   "cell_type": "code",
   "execution_count": 27,
   "metadata": {
    "ExecuteTime": {
     "end_time": "2021-06-20T17:48:57.476108Z",
     "start_time": "2021-06-20T17:48:47.794119Z"
    },
    "scrolled": true
   },
   "outputs": [],
   "source": [
    "tags = entries_labeled.groupby(\"id_entry\").apply(agg_group)"
   ]
  },
  {
   "cell_type": "code",
   "execution_count": 28,
   "metadata": {
    "ExecuteTime": {
     "end_time": "2021-06-20T17:48:57.486864Z",
     "start_time": "2021-06-20T17:48:57.477421Z"
    }
   },
   "outputs": [],
   "source": [
    "entryids_tags = pd.DataFrame({\"entry_id\": tags.index, \"tags\": tags.values})"
   ]
  },
  {
   "cell_type": "code",
   "execution_count": 29,
   "metadata": {
    "ExecuteTime": {
     "end_time": "2021-06-20T17:48:57.491372Z",
     "start_time": "2021-06-20T17:48:57.488144Z"
    }
   },
   "outputs": [
    {
     "data": {
      "text/plain": [
       "(179473, 2)"
      ]
     },
     "execution_count": 29,
     "metadata": {},
     "output_type": "execute_result"
    }
   ],
   "source": [
    "entryids_tags.shape"
   ]
  },
  {
   "cell_type": "code",
   "execution_count": 30,
   "metadata": {
    "ExecuteTime": {
     "end_time": "2021-06-20T17:48:57.495757Z",
     "start_time": "2021-06-20T17:48:57.492717Z"
    }
   },
   "outputs": [
    {
     "data": {
      "text/plain": [
       "Index(['id_entry', 'created_at', 'modified_at', 'excerpt', 'image_raw',\n",
       "       'analysis_framework_id', 'created_by_id', 'lead_id', 'modified_by_id',\n",
       "       'entry_type', 'information_date', 'order', 'client_id', 'project_id',\n",
       "       'tabular_field_id', 'dropped_excerpt', 'highlight_hidden', 'verified',\n",
       "       'verification_last_changed_by_id', 'image_id', 'title', 'id_exportdata',\n",
       "       'data', 'entry_id', 'exportable_id', 'tag_title', 'tag_value'],\n",
       "      dtype='object')"
      ]
     },
     "execution_count": 30,
     "metadata": {},
     "output_type": "execute_result"
    }
   ],
   "source": [
    "entries_labeled.columns"
   ]
  },
  {
   "cell_type": "code",
   "execution_count": 31,
   "metadata": {
    "ExecuteTime": {
     "end_time": "2021-06-20T17:48:57.750526Z",
     "start_time": "2021-06-20T17:48:57.497236Z"
    }
   },
   "outputs": [
    {
     "name": "stdout",
     "output_type": "stream",
     "text": [
      "(225044, 27)\n",
      "(179473, 14)\n"
     ]
    }
   ],
   "source": [
    "print(entries_labeled.shape)\n",
    "entries_labeled = entries_labeled[[\n",
    "    'entry_id',\n",
    "    'created_at',\n",
    "    'modified_at',\n",
    "    'excerpt',\n",
    "    'entry_type',\n",
    "    'analysis_framework_id',\n",
    "    'created_by_id',\n",
    "    'lead_id',\n",
    "    'modified_by_id',\n",
    "    'information_date',\n",
    "    'order',\n",
    "    'project_id',\n",
    "    'dropped_excerpt',\n",
    "    'verified',\n",
    "]].drop_duplicates()\n",
    "print(entries_labeled.shape)"
   ]
  },
  {
   "cell_type": "code",
   "execution_count": 32,
   "metadata": {
    "ExecuteTime": {
     "end_time": "2021-06-20T17:48:57.854887Z",
     "start_time": "2021-06-20T17:48:57.751892Z"
    }
   },
   "outputs": [],
   "source": [
    "entries_labeled = pd.merge(entries_labeled, entryids_tags, on=\"entry_id\")"
   ]
  },
  {
   "cell_type": "code",
   "execution_count": 33,
   "metadata": {
    "ExecuteTime": {
     "end_time": "2021-06-20T17:48:57.860217Z",
     "start_time": "2021-06-20T17:48:57.856334Z"
    }
   },
   "outputs": [
    {
     "data": {
      "text/plain": [
       "((179473, 15),\n",
       " Index(['entry_id', 'created_at', 'modified_at', 'excerpt', 'entry_type',\n",
       "        'analysis_framework_id', 'created_by_id', 'lead_id', 'modified_by_id',\n",
       "        'information_date', 'order', 'project_id', 'dropped_excerpt',\n",
       "        'verified', 'tags'],\n",
       "       dtype='object'))"
      ]
     },
     "execution_count": 33,
     "metadata": {},
     "output_type": "execute_result"
    }
   ],
   "source": [
    "entries_labeled.shape, entries_labeled.columns"
   ]
  },
  {
   "cell_type": "code",
   "execution_count": 34,
   "metadata": {
    "ExecuteTime": {
     "end_time": "2021-06-20T17:48:58.376311Z",
     "start_time": "2021-06-20T17:48:57.861972Z"
    }
   },
   "outputs": [
    {
     "data": {
      "text/plain": [
       "0"
      ]
     },
     "execution_count": 34,
     "metadata": {},
     "output_type": "execute_result"
    }
   ],
   "source": [
    "entries_labeled[\"tags_str\"] = entries_labeled[\"tags\"].apply(str)\n",
    "entries_labeled.duplicated(subset=[\"entry_id\", \"tags_str\"]).sum()"
   ]
  },
  {
   "cell_type": "code",
   "execution_count": 35,
   "metadata": {
    "ExecuteTime": {
     "end_time": "2021-06-20T17:48:58.383388Z",
     "start_time": "2021-06-20T17:48:58.377511Z"
    }
   },
   "outputs": [
    {
     "data": {
      "text/plain": [
       "0"
      ]
     },
     "execution_count": 35,
     "metadata": {},
     "output_type": "execute_result"
    }
   ],
   "source": [
    "entries_labeled[\"entry_id\"].duplicated().sum()"
   ]
  },
  {
   "cell_type": "code",
   "execution_count": 36,
   "metadata": {
    "ExecuteTime": {
     "end_time": "2021-06-20T17:48:58.387525Z",
     "start_time": "2021-06-20T17:48:58.384567Z"
    }
   },
   "outputs": [
    {
     "data": {
      "text/plain": [
       "(179473, 16)"
      ]
     },
     "execution_count": 36,
     "metadata": {},
     "output_type": "execute_result"
    }
   ],
   "source": [
    "entries_labeled.shape"
   ]
  },
  {
   "cell_type": "code",
   "execution_count": 37,
   "metadata": {
    "ExecuteTime": {
     "end_time": "2021-06-20T17:48:58.408707Z",
     "start_time": "2021-06-20T17:48:58.388903Z"
    }
   },
   "outputs": [
    {
     "data": {
      "text/plain": [
       "0"
      ]
     },
     "execution_count": 37,
     "metadata": {},
     "output_type": "execute_result"
    }
   ],
   "source": [
    "entries_labeled[\"tags\"].isna().sum()"
   ]
  },
  {
   "cell_type": "code",
   "execution_count": 38,
   "metadata": {
    "ExecuteTime": {
     "end_time": "2021-06-20T17:48:58.571997Z",
     "start_time": "2021-06-20T17:48:58.409671Z"
    }
   },
   "outputs": [
    {
     "data": {
      "text/plain": [
       "((181142, 21), (138924,))"
      ]
     },
     "execution_count": 38,
     "metadata": {},
     "output_type": "execute_result"
    }
   ],
   "source": [
    "entries.shape, entries[~entries[\"excerpt\"].isna()][\"excerpt\"].unique().shape"
   ]
  },
  {
   "cell_type": "code",
   "execution_count": 39,
   "metadata": {
    "ExecuteTime": {
     "end_time": "2021-06-20T17:48:58.576671Z",
     "start_time": "2021-06-20T17:48:58.573284Z"
    }
   },
   "outputs": [
    {
     "data": {
      "text/plain": [
       "((179473, 16),\n",
       " Index(['entry_id', 'created_at', 'modified_at', 'excerpt', 'entry_type',\n",
       "        'analysis_framework_id', 'created_by_id', 'lead_id', 'modified_by_id',\n",
       "        'information_date', 'order', 'project_id', 'dropped_excerpt',\n",
       "        'verified', 'tags', 'tags_str'],\n",
       "       dtype='object'))"
      ]
     },
     "execution_count": 39,
     "metadata": {},
     "output_type": "execute_result"
    }
   ],
   "source": [
    "entries_labeled.shape, entries_labeled.columns"
   ]
  },
  {
   "cell_type": "code",
   "execution_count": 40,
   "metadata": {
    "ExecuteTime": {
     "end_time": "2021-06-20T17:48:58.587389Z",
     "start_time": "2021-06-20T17:48:58.577831Z"
    }
   },
   "outputs": [
    {
     "data": {
      "text/plain": [
       "['1306->Humanitarian Conditions->Living Standards',\n",
       " '1306->Impact->Status Of Essential Infrastructure, Systems, Markets And Networks']"
      ]
     },
     "execution_count": 40,
     "metadata": {},
     "output_type": "execute_result"
    }
   ],
   "source": [
    "dimensions = []\n",
    "for k, v in entries_labeled[\"tags\"].tolist()[3].items():\n",
    "    if k.startswith(\"Mat2D\"):\n",
    "        tag_value = v\n",
    "        if len(tag_value):\n",
    "            for t in tag_value:\n",
    "                if t[0]:\n",
    "                    dimensions.append(str(af_id)+\"->\"+t[0].title() +\"->\"+t[1].title())\n",
    "\n",
    "list(set(dimensions))"
   ]
  },
  {
   "cell_type": "code",
   "execution_count": 41,
   "metadata": {
    "ExecuteTime": {
     "end_time": "2021-06-20T17:48:58.596369Z",
     "start_time": "2021-06-20T17:48:58.588616Z"
    }
   },
   "outputs": [],
   "source": [
    "def tags_to_pillars(x):\n",
    "    tags = x[0]\n",
    "    af_id = x[1]\n",
    "    pillars = []\n",
    "    for tag_key, tag_value in tags.items():\n",
    "        if not tag_key.startswith(\"Mat2D\"):\n",
    "            continue\n",
    "        if len(tag_value):\n",
    "            for t in tag_value:\n",
    "                if t[0]:\n",
    "                    pillars.append(str(af_id)+\"->\"+t[0].title() +\"->\"+t[1].title())\n",
    "    return list(set(pillars))\n",
    "\n",
    "def tags_to_sectors(x):\n",
    "    tags = x[0]\n",
    "    af_id = x[1]\n",
    "    sectors = []\n",
    "    for tag_key, tag_value in tags.items():\n",
    "        if not tag_key.startswith(\"Mat2D\"):\n",
    "            continue\n",
    "        if len(tag_value):\n",
    "            for t in tag_value:\n",
    "                if len(t) > 2 and t[2]:\n",
    "                    sectors.append(t[2].title())\n",
    "    return list(set(sectors))\n",
    "\n",
    "def tags_to_subsectors(x):\n",
    "    tags = x[0]\n",
    "    af_id = x[1]\n",
    "    subsectors = []\n",
    "    for tag_key, tag_value in tags.items():\n",
    "        if not tag_key.startswith(\"Mat2D\"):\n",
    "            continue\n",
    "        if len(tag_value):\n",
    "            subsectors = []\n",
    "            for t in tag_value:\n",
    "                if len(t) >3 and t[3]:\n",
    "                    if isinstance(t[3], list):\n",
    "                        subsectors.extend([x.title() for x in t[3]])\n",
    "                    else:\n",
    "                        subsectors.append(t[3].title())\n",
    "    return list(set(subsectors))\n",
    "##\n",
    "def tags_to_pillars_1d(x):\n",
    "    tags = x[0]\n",
    "    af_id = x[1]\n",
    "    pillars = []\n",
    "    for tag_key, tag_value in tags.items():\n",
    "        if not tag_key.startswith(\"Mat1D\"):\n",
    "            continue\n",
    "        if len(tag_value):\n",
    "            for t in tag_value:\n",
    "                if t[0]:\n",
    "                    pillars.append(str(af_id)+\"->\"+t[0].title() +\"->\"+t[1].title())\n",
    "    return list(set(pillars))"
   ]
  },
  {
   "cell_type": "code",
   "execution_count": 42,
   "metadata": {
    "ExecuteTime": {
     "end_time": "2021-06-20T17:49:06.066121Z",
     "start_time": "2021-06-20T17:48:58.597415Z"
    }
   },
   "outputs": [],
   "source": [
    "entries_labeled[\"pillars\"] = entries_labeled[[\"tags\", 'analysis_framework_id'\n",
    "                                              ]].apply(tags_to_pillars, axis=1)\n",
    "entries_labeled[\"sectors\"] = entries_labeled[[\"tags\", 'analysis_framework_id'\n",
    "                                              ]].apply(tags_to_sectors, axis=1)\n",
    "entries_labeled[\"subsectors\"] = entries_labeled[[\n",
    "    \"tags\", 'analysis_framework_id'\n",
    "]].apply(tags_to_subsectors, axis=1)\n",
    "##\n",
    "entries_labeled[\"pillars_1d\"] = entries_labeled[[\"tags\", 'analysis_framework_id'\n",
    "                                              ]].apply(tags_to_pillars_1d, axis=1)"
   ]
  },
  {
   "cell_type": "code",
   "execution_count": 43,
   "metadata": {
    "ExecuteTime": {
     "end_time": "2021-06-20T17:49:06.320106Z",
     "start_time": "2021-06-20T17:49:06.067450Z"
    }
   },
   "outputs": [
    {
     "data": {
      "text/plain": [
       "(137921,)"
      ]
     },
     "execution_count": 43,
     "metadata": {},
     "output_type": "execute_result"
    }
   ],
   "source": [
    "entries_labeled[~entries_labeled[\"excerpt\"].isna()][\"excerpt\"].unique().shape"
   ]
  },
  {
   "cell_type": "code",
   "execution_count": 44,
   "metadata": {
    "ExecuteTime": {
     "end_time": "2021-06-20T17:49:06.396261Z",
     "start_time": "2021-06-20T17:49:06.321207Z"
    }
   },
   "outputs": [
    {
     "data": {
      "text/plain": [
       "(233,\n",
       " [('1306->Covid-19 Overview->Cases', 5870),\n",
       "  ('1306->Displacement->Type/Numbers/Movements', 4407),\n",
       "  ('699->Humanitarian Profile->Affected Groups', 4188),\n",
       "  ('829->Displacement ->Displacement', 3801),\n",
       "  ('1306->Context->Security & Stability', 3462),\n",
       "  ('1306->Covid-19 Overview->Deaths', 3160),\n",
       "  ('699->Context->Demography', 2542),\n",
       "  ('1306->Covid-19 Containment Measures->Public Health Measures', 2524),\n",
       "  ('1306->Context->Economy', 2480),\n",
       "  ('1306->Covid-19 Overview->Vaccination', 2148),\n",
       "  ('1306->Casualties->Dead', 2091),\n",
       "  ('829->Context->Demographics', 1852),\n",
       "  ('829->Context->Legal Or Normative Framework', 1817),\n",
       "  ('537->Humanitarian Profile->Affected Groups', 1768),\n",
       "  ('1306->Covid-19 Overview->Testing', 1617),\n",
       "  ('552->Humanitarian Profile->Affected Groups', 1607),\n",
       "  ('1004->Displacement Profile->Type/Numbers', 1575),\n",
       "  ('1306->Covid-19 Containment Measures->Movement Restrictions', 1528),\n",
       "  ('1306->Displacement->Push Factors', 1522),\n",
       "  ('699->Humanitarian Profile->Population Movement', 1207),\n",
       "  ('1306->Flag->Response Gap', 1197),\n",
       "  ('1306->Context->Demography', 1167),\n",
       "  ('552->Context->Demography', 1159),\n",
       "  ('699->Humanitarian Profile->Casualties', 1133),\n",
       "  ('1306->Covid-19 Communication & Information->Channels & Means', 1045),\n",
       "  ('829->Durable Solutions->Local Integration', 1014),\n",
       "  ('552->Humanitarian Profile->Casualties', 978),\n",
       "  ('1306->Covid-19 Containment Measures->Physical Distancing', 825),\n",
       "  ('1306->Humanitarian Access->Physical Constraints', 785),\n",
       "  ('1306->Covid-19 Communication & Information->Knowledge & Misinformation',\n",
       "   771),\n",
       "  ('1004->Context->Demography', 771),\n",
       "  ('1004->Casualties->Dead', 760),\n",
       "  ('699->Flag->Hazard & Threats', 757),\n",
       "  ('829->Context->Economic', 739),\n",
       "  ('699->Humanitarian Profile->Push/Pull Factors', 732),\n",
       "  ('1306->Covid-19 Communication & Information->Prevention Campaigns', 707),\n",
       "  ('1306->Context->Politics', 704),\n",
       "  ('1306->Flag->Hazard & Threats', 686),\n",
       "  ('1306->Covid-19 Containment Measures->Lockdown', 683),\n",
       "  ('699->Flag->Overview', 671),\n",
       "  ('699->Context->Economy', 659),\n",
       "  ('1306->Shock /Event/Ongoing Conditions->Type And Characteristics', 654),\n",
       "  ('552->Flag->Hazard & Threats', 622),\n",
       "  ('537->Humanitarian Profile->Casualties', 606),\n",
       "  ('829->Event/Shock->Aggravating Factors', 600),\n",
       "  ('829->Casualties->Dead', 598),\n",
       "  ('829->Context->Security', 597),\n",
       "  ('1306->Context->Environment', 590),\n",
       "  ('1306->Covid-19 Overview->Contact Tracing', 585),\n",
       "  ('1306->Context->Legal & Policy', 584),\n",
       "  ('1004->Displacement Profile->Movement', 579),\n",
       "  ('552->Humanitarian Profile->Push/Pull Factors', 554),\n",
       "  ('1306->Context->Socio Cultural', 535),\n",
       "  ('1306->Displacement->Local Integration', 517),\n",
       "  ('537->Context->Security', 484),\n",
       "  ('552->Humanitarian Profile->Population Movement', 473),\n",
       "  ('829->Displacement ->Push/Pull Factors', 471),\n",
       "  ('699->Event/Shock->Shock/Driver', 465),\n",
       "  ('699->Event/Shock->Underlying Factors/Pre-Existing Vulnerabilities', 457),\n",
       "  ('1306->Covid-19 Overview->Hospitalization & Care', 456),\n",
       "  ('699->Context->Socio Cultural', 439),\n",
       "  ('829->Context->Political', 435),\n",
       "  ('552->Context->Security', 421),\n",
       "  ('273->Humanitarian Profile->Affected Groups', 419),\n",
       "  ('829->Context->Socio-Cultural', 408),\n",
       "  ('1004->Displacement Profile->Push Factors', 404),\n",
       "  ('829->Event/Shock->Type And Characteristics', 403),\n",
       "  ('537->Humanitarian Profile->Push/Pull Factors', 397),\n",
       "  ('1306->Flag->Information Gaps', 386),\n",
       "  ('537->Humanitarian Profile->Population Movement', 371),\n",
       "  ('537->Context->Demography', 371),\n",
       "  ('1306->Humanitarian Access->Relief To Beneficiaries', 364),\n",
       "  ('829->Displacement ->Intentions', 360),\n",
       "  ('273->Context->Risk', 348),\n",
       "  ('1004->Context->Security', 343),\n",
       "  ('495->Displacement->Affected Groups', 337),\n",
       "  ('1306->Flag->Overview', 335),\n",
       "  ('1306->Casualties->Injured', 328),\n",
       "  ('699->Humanitarian Access->Physical Constraints', 317),\n",
       "  ('1306->Shock /Event/Ongoing Conditions->Aggravating Factors', 314),\n",
       "  ('699->Information->Communication Means & Channels', 313),\n",
       "  ('1306->Displacement->Pull Factors', 313),\n",
       "  ('699->Information->Information Needs & Gaps', 296),\n",
       "  ('1306->Flag->Key Event', 276),\n",
       "  ('699->Context->Security', 274),\n",
       "  ('1306->Flag->Stakeholders', 272),\n",
       "  ('273->Context->Overview', 266),\n",
       "  ('273->Humanitarian Profile->Casualties Or Injured', 264),\n",
       "  ('495->Context->Economy', 248),\n",
       "  ('699->Flag->Key Event', 246),\n",
       "  ('1004->Humanitarian Access->Physical Constraints', 242),\n",
       "  ('1306->Covid-19 Overview->Research & Outlook', 238),\n",
       "  ('1306->Displacement->Intentions', 237),\n",
       "  ('829->Casualties->Injured', 224),\n",
       "  ('552->Flag->Overview', 219),\n",
       "  ('1306->Humanitarian Access->Humanitarian Access Gaps', 219),\n",
       "  ('699->Context->Legal  & Policy', 206),\n",
       "  ('1306->Casualties->Missing', 206),\n",
       "  ('1306->Covid-19 Containment Measures->Compliance & Resistance To Measures',\n",
       "   204),\n",
       "  ('273->Humanitarian Access->Physical Constraints', 197),\n",
       "  ('1306->Covid-19 Communication & Information->Challenges & Barriers', 197),\n",
       "  ('829->Context->Environment', 193),\n",
       "  ('699->Humanitarian Access->Relief To Beneficiaries', 191),\n",
       "  ('273->Context->Politics', 180),\n",
       "  ('699->Humanitarian Access->Humanitarian Access Gaps', 169),\n",
       "  ('699->Flag->Stakeholders', 163),\n",
       "  ('495->Context->Security', 160),\n",
       "  ('1004->Casualties->Injured', 160),\n",
       "  ('495->Flag->Overview', 158),\n",
       "  ('552->Humanitarian Access->Physical Constraints', 157),\n",
       "  ('699->Context->Politics', 157),\n",
       "  ('1306->Flag->Lessons Learnt', 151),\n",
       "  ('273->Humanitarian Profile->Population Movement', 146),\n",
       "  ('273->Context->Key Events', 144),\n",
       "  ('273->Population Profile->Demographic Profile', 144),\n",
       "  ('1004->Flag->Hazard & Threats', 138),\n",
       "  ('552->Humanitarian Access->Humanitarian Access Gaps', 132),\n",
       "  ('1004->Context->Economy', 129),\n",
       "  ('495->Displacement->Casualties', 128),\n",
       "  ('829->Event/Shock->Pre-Existing Vulnerabilities ', 124),\n",
       "  ('1004->Flag->Overview', 122),\n",
       "  ('273->Population Profile->Population With Specific Needs', 119),\n",
       "  ('829->Durable Solutions->Voluntary Repatriation', 119),\n",
       "  ('495->Context->Demography', 118),\n",
       "  ('552->Flag->Stakeholders', 117),\n",
       "  ('495->Context->Politics', 116),\n",
       "  ('537->Humanitarian Access->Physical Constraints', 111),\n",
       "  ('537->Flag->Stakeholders', 110),\n",
       "  ('273->Context->Security', 102),\n",
       "  ('1306->Humanitarian Access->Beneficiaries To Relief', 95),\n",
       "  ('1004->Humanitarian Access->Humanitarian Access Gaps', 93),\n",
       "  ('1004->Information->Communication Means', 88),\n",
       "  ('537->Flag->Overview', 86),\n",
       "  ('699->Information->Information Challenges', 81),\n",
       "  ('699->Context->Environment', 81),\n",
       "  ('495->Displacement->Displacement', 78),\n",
       "  ('829->Humanitarian Access->Physical Constraints', 77),\n",
       "  ('1004->Context->Politics', 77),\n",
       "  ('829->Humanitarian Access->Pin To Relief', 77),\n",
       "  ('273->Communication ->Information Gaps', 72),\n",
       "  ('1004->Humanitarian Access->Relief To Beneficiaries', 72),\n",
       "  ('1004->Flag->Stakeholders', 70),\n",
       "  ('273->Humanitarian Profile->Push/Pull Factors', 69),\n",
       "  ('273->Context->Economy', 65),\n",
       "  ('495->Humanitarian Access->Relief To Beneficiaries', 63),\n",
       "  ('1004->Information->Information Challenges', 62),\n",
       "  ('1004->Context->Legal/Policy', 61),\n",
       "  ('829->Humanitarian Access->Relief To Pin', 61),\n",
       "  ('495->Displacement->Push/Pull Factors', 61),\n",
       "  ('495->Flag->Key Event', 60),\n",
       "  ('273->Communication ->Communication Means', 60),\n",
       "  ('552->Context->Socio Cultural', 59),\n",
       "  ('699->Humanitarian Access->Beneficiaries To Relief', 59),\n",
       "  ('537->Context->Politics', 57),\n",
       "  ('552->Information->Information Needs & Gaps', 57),\n",
       "  ('537->Flag->Hazard & Threats', 55),\n",
       "  ('1004->Flag->Response Gap', 51),\n",
       "  ('552->Context->Politics', 50),\n",
       "  ('273->Humanitarian Access->Relief To Beneficiaries', 50),\n",
       "  ('273->Context->Society And Community', 49),\n",
       "  ('537->Information->Information Needs & Gaps', 49),\n",
       "  ('552->Humanitarian Access->Relief To Beneficiaries', 47),\n",
       "  ('495->Context->Legal  & Policy', 44),\n",
       "  ('495->Event/Schock->Aggravating Factors', 43),\n",
       "  ('829->Casualties->Missing', 42),\n",
       "  ('552->Context->Economy', 41),\n",
       "  ('273->Humanitarian Access->Humanitarian Access Gaps', 41),\n",
       "  ('495->Flag->Stakeholders', 39),\n",
       "  ('537->Context->Economy', 38),\n",
       "  ('495->Information->Information Needs & Gaps', 37),\n",
       "  ('1004->Displacement Profile->Pull Factors', 35),\n",
       "  ('495->Information->Communication Means & Channels', 33),\n",
       "  ('552->Information->Communication Means & Channels', 31),\n",
       "  ('1004->Flag->Key Event', 31),\n",
       "  ('537->Context->Legal  & Policy', 30),\n",
       "  ('552->Information->Information Challenges', 30),\n",
       "  ('537->Humanitarian Access->Relief To Beneficiaries', 28),\n",
       "  ('1004->Information->Information Gaps', 28),\n",
       "  ('273->Communication ->Information Needs', 27),\n",
       "  ('1004->Casualties->Missing', 24),\n",
       "  ('495->Context->Socio Cultural', 24),\n",
       "  ('273->Communication ->Information Challenges', 23),\n",
       "  ('537->Flag->Key Event', 21),\n",
       "  ('495->Humanitarian Access->Physical Constraints', 21),\n",
       "  ('495->Context->Environment', 21),\n",
       "  ('552->Flag->Key Event', 20),\n",
       "  ('829->Durable Solutions->Resettlement', 20),\n",
       "  ('1004->Context->Socio Cultural', 20),\n",
       "  ('273->Population Profile->Economic Profile', 19),\n",
       "  ('495->Flag->Hazard/Threats/Risk', 19),\n",
       "  ('273->Humanitarian Access->Beneficiaries To Relief', 15),\n",
       "  ('273->Population Profile->Social Profile', 13),\n",
       "  ('552->Context->Legal  & Policy', 12),\n",
       "  ('1004->Context->Environment', 12),\n",
       "  ('495->Humanitarian Access->Beneficiaries To Relief', 11),\n",
       "  ('495->Information->Information Challenges', 11),\n",
       "  ('1306->Shock /Event/Ongoing Conditions->Mtitigating Factors', 11),\n",
       "  ('1004->Information->Information Needs', 10),\n",
       "  ('537->Information->Communication Means & Channels', 9),\n",
       "  ('537->Context->Socio Cultural', 8),\n",
       "  ('552->Humanitarian Access->Beneficiaries To Relief', 8),\n",
       "  ('537->Information->Information Challenges', 8),\n",
       "  ('273->Context->Stakeholder', 7),\n",
       "  ('1004->Displacement Profile->Local Integration', 7),\n",
       "  ('1004->Humanitarian Access->Beneficiaries To Relief', 7),\n",
       "  ('495->Casualties->Injured', 6),\n",
       "  ('799->Context->Overview', 6),\n",
       "  ('495->Humanitarian Access->Humanitarian Access Gaps', 6),\n",
       "  ('495->Event/Schock->Type And Characteristics', 6),\n",
       "  ('1004->Displacement Profile->Intentions', 5),\n",
       "  ('726->Context->Legal Or Normative Framework', 5),\n",
       "  ('799->Context->Security', 4),\n",
       "  ('1004->Shock And Event->Type And Characteristics', 4),\n",
       "  ('537->Humanitarian Access->Beneficiaries To Relief', 3),\n",
       "  ('799->Context->Politics', 3),\n",
       "  ('726->Displacement ->Displacement', 3),\n",
       "  ('495->Casualties->Dead', 3),\n",
       "  ('726->Context->Demographics', 3),\n",
       "  ('799->Context->Hazard Development', 2),\n",
       "  ('537->Humanitarian Access->Humanitarian Access Gaps', 2),\n",
       "  ('726->Context->Economic', 2),\n",
       "  ('726->Information->Information Needs & Gaps', 1),\n",
       "  ('726->Humanitarian Profile->Affected Groups', 1),\n",
       "  ('726->Context->Socio-Cultural', 1),\n",
       "  ('726->Context->Socio Cultural', 1),\n",
       "  ('537->Context->Environment', 1),\n",
       "  ('726->Humanitarian Profile->Population Movement', 1),\n",
       "  ('799->Population Profile->Demographic Profile', 1),\n",
       "  ('799->Context->Risk', 1),\n",
       "  ('799->Context->Key Events', 1),\n",
       "  ('799->Communication ->Information Gaps', 1),\n",
       "  ('552->Context->Environment', 1),\n",
       "  ('1004->Shock And Event->Aggravating Factors', 1)])"
      ]
     },
     "execution_count": 44,
     "metadata": {},
     "output_type": "execute_result"
    }
   ],
   "source": [
    "pills_unique_1d = set()\n",
    "pills_occurances_1d = list()\n",
    "for pills_1d in entries_labeled[\"pillars_1d\"]:\n",
    "    pills_unique_1d.update(pills_1d)\n",
    "    pills_occurances_1d.extend(pills_1d)\n",
    "len(pills_unique_1d), Counter(pills_occurances_1d).most_common()"
   ]
  },
  {
   "cell_type": "code",
   "execution_count": 45,
   "metadata": {
    "ExecuteTime": {
     "end_time": "2021-06-20T17:49:06.467234Z",
     "start_time": "2021-06-20T17:49:06.397242Z"
    }
   },
   "outputs": [
    {
     "data": {
      "text/plain": [
       "[('1306->Humanitarian Conditions->Living Standards', 15401),\n",
       " ('1306->Humanitarian Conditions->Physical & Mental Wellbeing', 9070),\n",
       " ('829->Humanitarian Conditions->Living Standards', 8956),\n",
       " ('1465->Humanitarian Conditions->Humanitarian Condition', 8690),\n",
       " ('1306->Impact->Impact On System & Services', 8482),\n",
       " ('1306->Impact->Drivers/Aggravating Factors', 8463),\n",
       " ('1306->Impact->Impact On People', 8248),\n",
       " ('1465->Operational Environment->International Humanitarian Response And Capacities',\n",
       "  7816),\n",
       " ('1306->At Risk->People At Risk / Vulnerable', 4897),\n",
       " ('829->Response And Capacities->National And Local', 4358),\n",
       " ('1306->Capacities & Response->International', 4311),\n",
       " ('699->Capacities & Response->International Actors', 4190),\n",
       " ('1465->Humanitarian Conditions->Risk', 3646),\n",
       " ('1465->Humanitarian Situation->Humanitarian Profile', 3642),\n",
       " ('1465->Stated Priorities And Recommendations->Recommendations From Aid/Research Actors',\n",
       "  3531),\n",
       " ('1465->Operational Environment->National/Sub-National Response And Capacities',\n",
       "  3507),\n",
       " ('829->Humanitarian Conditions->Physical And Mental Well-Being', 3265),\n",
       " ('699->Humanitarian Conditions->Living Standards', 3205),\n",
       " ('829->Response And Capacities->International ', 2971),\n",
       " ('699->Capacities & Response->Government And Local Authorities', 2542),\n",
       " ('699->Humanitarian Conditions->Physical & Mental Wellbeing', 2317),\n",
       " ('1306->Humanitarian Conditions->Coping Mechanisms', 2290),\n",
       " ('1465->Effects On Population->Post-Shock Displacement', 2269),\n",
       " ('1306->Capacities & Response->Number Of People Reached', 2263),\n",
       " ('552->Humanitarian Conditions->Physical & Mental Wellbeing', 2108),\n",
       " ('1465->Effects On Population->Damage To Physical Integrity', 2050),\n",
       " ('1465->Effects Systems And Networks->Basic Infrastructure And Social Services',\n",
       "  1930),\n",
       " ('699->Humanitarian Conditions->Risks & Vulnerabilities', 1876),\n",
       " ('1004->Humanitarian Conditions->Physical & Mental Wellbeing', 1871),\n",
       " ('829->Impact->Drivers', 1865),\n",
       " ('1465->Effects On Population->Disruption Of Social Behaviors And Networks',\n",
       "  1857),\n",
       " ('1306->Impact->Number Of People Affected', 1789),\n",
       " ('699->Capacities & Response->National Actors', 1780),\n",
       " ('1306->Priorities->Priority Interventions (Staff)', 1684),\n",
       " ('829->Humanitarian Conditions->Risks &  New Or Aggravated Vulnerabilities',\n",
       "  1573),\n",
       " ('1306->Capacities & Response->Government & Local Authorities', 1553),\n",
       " ('1004->Humanitarian Conditions->Living Standards', 1551),\n",
       " ('699->Scope & Scale->Drivers/Aggravating Factors', 1521),\n",
       " ('1306->Capacities & Response->National & Local Actors', 1504),\n",
       " ('1306->Humanitarian Conditions->Number Of People In Need', 1404),\n",
       " ('1465->Effects On Population->Disruption Of Resources And Assets', 1379),\n",
       " ('552->Humanitarian Conditions->Living Standards', 1361),\n",
       " ('699->Scope & Scale->System Disruption', 1344),\n",
       " ('1465->Operational Environment->Humanitarian Access', 1330),\n",
       " ('829->Impact->Status Of Essential Infrastructure, Systems, Markets And Networks',\n",
       "  1323),\n",
       " ('1306->Priorities->Priority Needs (Staff)', 1249),\n",
       " ('1465->Coping Capacity->Negative Coping Strategies', 1238),\n",
       " ('829->Humanitarian Conditions->Number Of People In Need And Priorities',\n",
       "  1196),\n",
       " ('829->Humanitarian Conditions->Coping Mechanisms', 1141),\n",
       " ('1465->Context->Security', 1112),\n",
       " ('1465->Shock Informaton->Government Measures', 1109),\n",
       " ('699->Scope & Scale->Damages & Losses', 1100),\n",
       " ('1465->Effects Systems And Networks->Food System', 1094),\n",
       " ('1465->Shock Informaton->Primary Shock (Covid Event Characteristics)', 1088),\n",
       " ('1465->Effects Systems And Networks->Political And Security', 1081),\n",
       " ('1465->Context->Basic Infrastructure And Social Services', 1040),\n",
       " ('495->Humanitarian Conditions->Living Standards', 1038),\n",
       " ('699->Humanitarian Conditions->Humanitarian Conditions', 1030),\n",
       " ('829->Impact->Number Of People Affected', 973),\n",
       " ('1465->Context->Socio-Economic', 930),\n",
       " ('552->Humanitarian Conditions->Unmet Needs', 889),\n",
       " ('1004->Scope & Scale->System Disruption', 885),\n",
       " ('1306->Priorities->Priority Needs (Pop)', 885),\n",
       " ('699->Capacities & Response->Rcrc Movement', 873),\n",
       " ('699->Capacities & Response->Response Gaps', 809),\n",
       " ('1465->Humanitarian Situation->Pre-Covid Humanitarian Operations', 807),\n",
       " ('537->Humanitarian Conditions->Risks & Vulnerabilities', 806),\n",
       " ('273->Humanitarian Conditions->Vulnerabilities, Specific Needs And Risks',\n",
       "  740),\n",
       " ('1465->Shock Informaton->Secondary Shocks (Non Covid)', 733),\n",
       " ('552->Humanitarian Conditions->Risks & Vulnerabilities', 721),\n",
       " ('273->Capacities And Response->International Response', 718),\n",
       " ('829->Humanitarian Conditions->Persons/Groups With Specific Needs', 712),\n",
       " ('273->Humanitarian Conditions->Impact On Accessibility, Availability, Quality, Use And Awareness Of Goods And Services',\n",
       "  711),\n",
       " ('1004->Humanitarian Conditions->People At Risk / Vulnerable', 708),\n",
       " ('552->Scope & Scale->System Disruption', 666),\n",
       " ('1465->Context->Socio-Cultural', 623),\n",
       " ('829->Humanitarian Conditions->Number Of People At Risk', 622),\n",
       " ('699->Capacities & Response->System Functionality', 618),\n",
       " ('1465->Stated Priorities And Recommendations->Affected Population Priorities',\n",
       "  598),\n",
       " ('699->Humanitarian Conditions->Coping Mechanisms', 594),\n",
       " ('537->Humanitarian Conditions->Living Standards', 558),\n",
       " ('829->Impact->Damages & Losses', 533),\n",
       " ('829->Response And Capacities->Community Perceived Priorities', 488),\n",
       " ('537->Humanitarian Conditions->Unmet Needs', 463),\n",
       " ('1465->Shock Informaton->Aggravating Factors', 461),\n",
       " ('1465->Effects Systems And Networks->Financial System', 454),\n",
       " ('1004->Humanitarian Conditions->People In Need', 450),\n",
       " ('1004->Scope & Scale->Drivers/Aggravating Factors', 445),\n",
       " ('552->Scope & Scale->Drivers/Aggravating Factors', 441),\n",
       " ('1465->Effects Systems And Networks->Physical Environment', 428),\n",
       " ('273->Humanitarian Conditions->Impact On Physical And Mental Wellbeing',\n",
       "  426),\n",
       " ('537->Scope & Scale->System Disruption', 423),\n",
       " ('273->Scope And Scale->Damage', 419),\n",
       " ('699->Humanitarian Conditions->People With Specific Needs', 415),\n",
       " ('495->Capacities & Response->International', 399),\n",
       " ('1465->Effects Systems And Networks->Supply Chains', 365),\n",
       " ('1465->Context->Environmental', 344),\n",
       " ('829->Response And Capacities->Community', 338),\n",
       " ('1465->Effects Systems And Networks->Labour Market', 332),\n",
       " ('1004->Scope & Scale->Damages & Losses', 329),\n",
       " ('537->Humanitarian Conditions->Physical & Mental Wellbeing', 326),\n",
       " ('495->Scope & Scale->System Disruption', 322),\n",
       " ('537->Scope & Scale->Drivers/Aggravating Factors', 321),\n",
       " ('1004->Humanitarian Conditions->Coping Mechanisms', 295),\n",
       " ('552->Scope & Scale->Damages & Losses', 294),\n",
       " ('273->Scope And Scale->System Disruption', 292),\n",
       " ('495->Scope & Scale->Drivers/Aggravating Factors', 284),\n",
       " ('1465->Humanitarian Situation->Humanitarian Access', 279),\n",
       " ('1465->Coping Capacity->Positive Adaptive Mechanisms And Responses', 270),\n",
       " ('1465->Context->Policy/Normative Frameworks', 266),\n",
       " ('537->Scope & Scale->Damages & Losses', 261),\n",
       " ('1306->Priorities->Priority Interventions (Pop)', 258),\n",
       " ('552->Humanitarian Conditions->Coping Mechanisms', 251),\n",
       " ('495->Humanitarian Conditions->Physical & Mental Wellbeing', 249),\n",
       " ('1465->Humanitarian Situation->Pre-Covid National Response Mechanisms', 242),\n",
       " ('1465->Context->Demographic', 240),\n",
       " ('495->Humanitarian Conditions->Risks & Vulnerabilities', 230),\n",
       " ('495->Humanitarian Conditions->Number Of People In Need And Priorities',\n",
       "  228),\n",
       " ('273->Capacities And Response->National Response Capacity', 217),\n",
       " ('1465->Effects On Population->Damage To Resources And Assets', 186),\n",
       " ('1465->Context->Political', 172),\n",
       " ('537->Humanitarian Conditions->Coping Mechanisms', 171),\n",
       " ('1465->Effects On Population->Disruption Of Rights And Norms', 157),\n",
       " ('495->Humanitarian Conditions->People With Specific Needs', 153),\n",
       " ('495->Humanitarian Conditions->Coping Mechanisms', 153),\n",
       " ('495->Capacities & Response->Government', 145),\n",
       " ('1004->Scope & Scale->People Affected', 139),\n",
       " ('273->Scope And Scale->Drivers/ Aggravating Factors', 104),\n",
       " ('495->Capacities & Response->Lngo', 101),\n",
       " ('537->Humanitarian Conditions->People With Specific Needs', 92),\n",
       " ('552->Humanitarian Conditions->People With Specific Needs', 91),\n",
       " ('495->Capacities & Response->Response Gaps', 86),\n",
       " ('1004->Capacities & Response->System Functionality', 75),\n",
       " ('495->Capacities & Response->System Functionality', 75),\n",
       " ('273->Capacities And Response->National Society Capacity', 67),\n",
       " ('1465->Context->Information And Communication', 66),\n",
       " ('1004->Priorities->Priority Interventions (Staff)', 60),\n",
       " ('1465->Shock Informaton->Mitigating Factors', 58),\n",
       " ('273->Scope And Scale->Losses', 55),\n",
       " ('495->Scope & Scale->Damages & Losses', 49),\n",
       " ('1004->Priorities->Priority Problems (Pop)', 46),\n",
       " ('1465->Shock Informaton->Primary Shock (Covid)', 16),\n",
       " ('726->Humanitarian Conditions->Living Standards', 12),\n",
       " ('726->Response And Capacities->National And Local', 12),\n",
       " ('1004->Priorities->Priority Problems (Staff)', 12),\n",
       " ('1004->Capacities & Response->National', 7),\n",
       " ('726->Humanitarian Conditions->Coping Mechanisms', 6),\n",
       " ('799->Humanitarian Conditions->Unmet Needs', 5),\n",
       " ('1004->Capacities & Response->International', 4),\n",
       " ('799->Capacities And Response->International Response', 4),\n",
       " ('1004->Priorities->Priority Interventions (Pop)', 4),\n",
       " ('495->Priorities->As Expressed By Experts', 3),\n",
       " ('799->Humanitarian Conditions->Access To Basic Services Or Goods', 3),\n",
       " ('799->Humanitarian Conditions->Risks/Vulnerabilities', 3),\n",
       " ('495->Scope & Scale->Number Of People Affected', 3),\n",
       " ('726->Impact->Drivers', 3),\n",
       " ('799->Scope And Scale->Drivers/ Aggravating Factors', 2),\n",
       " ('537->Humanitarian Conditions->Lessons Learnt', 2),\n",
       " ('799->Capacities And Response->Systems Functionality', 2),\n",
       " ('726->Humanitarian Conditions->Number Of People In Need And Priorities', 2),\n",
       " ('799->Humanitarian Conditions->Impact On Physical And Mental Wellbeing', 2),\n",
       " ('726->Humanitarian Conditions->Physical And Mental Well-Being', 2),\n",
       " ('726->Impact->Status Of Essential Infrastructure, Systems, Markets And Networks',\n",
       "  2),\n",
       " ('726->Impact->Damages & Losses', 2),\n",
       " ('552->Capacities & Response->Government', 1),\n",
       " ('799->Humanitarian Conditions->Specific Needs', 1),\n",
       " ('799->Capacities And Response->Coping Mechanisms', 1),\n",
       " ('799->Capacities And Response->Response Gaps', 1),\n",
       " ('495->Humanitarian Conditions->Lessons Learnt', 1),\n",
       " ('726->Humanitarian Conditions->Unmet Needs', 1),\n",
       " ('726->Response And Capacities->International ', 1),\n",
       " ('726->Capacities & Response->International', 1),\n",
       " ('726->Capacities & Response->Government', 1),\n",
       " ('726->Humanitarian Conditions->Risks & Vulnerabilities', 1),\n",
       " ('726->Humanitarian Conditions->Risks &  New Or Aggravated Vulnerabilities',\n",
       "  1),\n",
       " ('799->Humanitarian Conditions->People With Specific Needs', 1),\n",
       " ('799->Capacities & Response->Rcrc Movement', 1),\n",
       " ('799->Humanitarian Conditions->Physical & Mental Wellbeing', 1),\n",
       " ('726->Humanitarian Conditions->Physical & Mental Wellbeing', 1),\n",
       " ('495->Scope & Scale->Lessons Learnt', 1),\n",
       " ('1004->Capacities & Response->People Reached', 1)]"
      ]
     },
     "execution_count": 45,
     "metadata": {},
     "output_type": "execute_result"
    }
   ],
   "source": [
    "pills_unique = set()\n",
    "pills_occurances = list()\n",
    "for pills in entries_labeled[\"pillars\"]:\n",
    "    pills_unique.update(pills)\n",
    "    pills_occurances.extend(pills)\n",
    "Counter(pills_occurances).most_common()"
   ]
  },
  {
   "cell_type": "code",
   "execution_count": 46,
   "metadata": {
    "ExecuteTime": {
     "end_time": "2021-06-20T17:49:06.540077Z",
     "start_time": "2021-06-20T17:49:06.468367Z"
    }
   },
   "outputs": [
    {
     "data": {
      "text/plain": [
       "[('Health', 41717),\n",
       " ('Protection', 30626),\n",
       " ('Livelihoods', 19135),\n",
       " ('Cross-Sector', 17853),\n",
       " ('Food Security', 14649),\n",
       " ('Cross', 14014),\n",
       " ('Wash', 13423),\n",
       " ('Education', 12336),\n",
       " ('Shelter', 9263),\n",
       " ('Nutrition', 6175),\n",
       " ('Food', 3854),\n",
       " ('Agriculture', 3183),\n",
       " ('Logistics', 2763),\n",
       " ('Shelter And Nfis', 2130),\n",
       " ('Cross Cutting', 770),\n",
       " ('Cccm', 750),\n",
       " ('Logistic', 277),\n",
       " ('Nfi', 137),\n",
       " ('Livelihood', 134)]"
      ]
     },
     "execution_count": 46,
     "metadata": {},
     "output_type": "execute_result"
    }
   ],
   "source": [
    "secs_unique = set()\n",
    "secs_occurances = list()\n",
    "for secs in entries_labeled[\"sectors\"]:\n",
    "    secs_unique.update(secs)\n",
    "    secs_occurances.extend(secs)\n",
    "#secs_unique\n",
    "Counter(secs_occurances).most_common()"
   ]
  },
  {
   "cell_type": "code",
   "execution_count": 47,
   "metadata": {
    "ExecuteTime": {
     "end_time": "2021-06-20T17:49:06.543946Z",
     "start_time": "2021-06-20T17:49:06.541113Z"
    }
   },
   "outputs": [
    {
     "data": {
      "text/plain": [
       "Index(['entry_id', 'created_at', 'modified_at', 'excerpt', 'entry_type',\n",
       "       'analysis_framework_id', 'created_by_id', 'lead_id', 'modified_by_id',\n",
       "       'information_date', 'order', 'project_id', 'dropped_excerpt',\n",
       "       'verified', 'tags', 'tags_str', 'pillars', 'sectors', 'subsectors',\n",
       "       'pillars_1d'],\n",
       "      dtype='object')"
      ]
     },
     "execution_count": 47,
     "metadata": {},
     "output_type": "execute_result"
    }
   ],
   "source": [
    "entries_labeled.columns"
   ]
  },
  {
   "cell_type": "code",
   "execution_count": 48,
   "metadata": {
    "ExecuteTime": {
     "end_time": "2021-06-20T17:49:06.593405Z",
     "start_time": "2021-06-20T17:49:06.544898Z"
    }
   },
   "outputs": [],
   "source": [
    "final_df = entries_labeled[entries_labeled[\"entry_type\"].eq(\"excerpt\")\n",
    "                           & (~entries_labeled[\"excerpt\"].isna())]"
   ]
  },
  {
   "cell_type": "code",
   "execution_count": 49,
   "metadata": {
    "ExecuteTime": {
     "end_time": "2021-06-20T17:49:10.463517Z",
     "start_time": "2021-06-20T17:49:06.594734Z"
    }
   },
   "outputs": [
    {
     "name": "stderr",
     "output_type": "stream",
     "text": [
      "/home/abdullah/anaconda3/lib/python3.8/site-packages/pandas/core/indexing.py:1745: SettingWithCopyWarning: \n",
      "A value is trying to be set on a copy of a slice from a DataFrame.\n",
      "Try using .loc[row_indexer,col_indexer] = value instead\n",
      "\n",
      "See the caveats in the documentation: https://pandas.pydata.org/pandas-docs/stable/user_guide/indexing.html#returning-a-view-versus-a-copy\n",
      "  isetter(ilocs[0], value)\n"
     ]
    },
    {
     "data": {
      "text/plain": [
       "((137801, 20), 0)"
      ]
     },
     "execution_count": 49,
     "metadata": {},
     "output_type": "execute_result"
    }
   ],
   "source": [
    "def remove_newlines(excerpt):\n",
    "    if not isinstance(excerpt, str):\n",
    "        return excerpt\n",
    "    return re.sub(\"\\s+\", \" \", excerpt)\n",
    "\n",
    "final_df.loc[:, 'excerpt'] = final_df['excerpt'].apply(remove_newlines)\n",
    "final_df.loc[:, 'dropped_excerpt'] = final_df['dropped_excerpt'].apply(remove_newlines)\n",
    "##\n",
    "final_df = final_df.sort_values(\"verified\").reset_index(drop=True).drop_duplicates(subset='excerpt', keep=\"last\")\n",
    "final_df.shape, final_df.duplicated(subset=\"excerpt\").sum()"
   ]
  },
  {
   "cell_type": "code",
   "execution_count": 50,
   "metadata": {
    "ExecuteTime": {
     "end_time": "2021-06-20T17:49:10.467094Z",
     "start_time": "2021-06-20T17:49:10.464547Z"
    }
   },
   "outputs": [],
   "source": [
    "sector_name_mapper = {\n",
    "    \"Agriculture\": \"Agriculture\",\n",
    "    \"Cccm\": \"\",\n",
    "    \"Cross\": \"Cross\",\n",
    "    \"Cross Cutting\": \"Cross\",\n",
    "    \"Cross-Sector\": \"Cross\",\n",
    "    \"Education\": \"Education\",\n",
    "    \"Food\": \"Food Security\",\n",
    "    \"Food Security\": \"Food Security\",\n",
    "    \"Nutrition\": \"Nutrition\",\n",
    "    \"Health\": \"Health\",\n",
    "    \"Livelihood\": \"Livelihoods\",\n",
    "    \"Livelihoods\": \"Livelihoods\",\n",
    "    \"Logistic\": \"Logistics\",\n",
    "    \"Logistics\": \"Logistics\",\n",
    "    \"Protection\": \"Protection\",\n",
    "    \"Shelter\": \"Shelter\",\n",
    "    \"Shelter And Nfis\": \"Shelter\",\n",
    "    \"Nfi\": \"\",\n",
    "    \"Wash\": \"WASH\",\n",
    "}"
   ]
  },
  {
   "cell_type": "code",
   "execution_count": 51,
   "metadata": {
    "ExecuteTime": {
     "end_time": "2021-06-20T17:49:10.480229Z",
     "start_time": "2021-06-20T17:49:10.468147Z"
    }
   },
   "outputs": [],
   "source": [
    "af_title_to_id = dict()\n",
    "for afid, title in zip(afs[\"id\"], afs[\"title\"]):\n",
    "    af_title_to_id[\"title\"] = afid"
   ]
  },
  {
   "cell_type": "code",
   "execution_count": 52,
   "metadata": {
    "ExecuteTime": {
     "end_time": "2021-06-20T17:49:10.487701Z",
     "start_time": "2021-06-20T17:49:10.481352Z"
    }
   },
   "outputs": [
    {
     "data": {
      "text/plain": [
       "Index(['Framework Name', 'Pillar', 'Sub-pillar', 'Final Pillar Name',\n",
       "       'Final Sub-pillar Name', 'analysis_framework_id'],\n",
       "      dtype='object')"
      ]
     },
     "execution_count": 52,
     "metadata": {},
     "output_type": "execute_result"
    }
   ],
   "source": [
    "af_id_title = afs[[\"id\", \"title\"]]\n",
    "af_id_title.columns = [\"analysis_framework_id\", \"Framework Name\"]\n",
    "matching_2d_mat = pd.merge(matching_2d_mat,\n",
    "                    af_id_title,\n",
    "                    how=\"left\",\n",
    "                    left_on=\"Framework Name\",\n",
    "                    right_on=\"Framework Name\")\n",
    "matching_2d_mat.columns"
   ]
  },
  {
   "cell_type": "code",
   "execution_count": 53,
   "metadata": {
    "ExecuteTime": {
     "end_time": "2021-06-20T17:49:10.495522Z",
     "start_time": "2021-06-20T17:49:10.488973Z"
    }
   },
   "outputs": [],
   "source": [
    "matching_2d_mat[\"Pillar\"] = matching_2d_mat[\"Pillar\"].apply(\n",
    "    lambda x: x.strip().title())\n",
    "matching_2d_mat[\"Sub-pillar\"] = matching_2d_mat[\"Sub-pillar\"].apply(\n",
    "    lambda x: x.strip().title())\n",
    "matching_2d_mat[\"Final Pillar Name\"] = matching_2d_mat[\n",
    "    \"Final Pillar Name\"].apply(lambda x: x.strip().title())\n",
    "matching_2d_mat[\"Final Sub-pillar Name\"] = matching_2d_mat[\n",
    "    \"Final Sub-pillar Name\"].apply(lambda x: x.strip().title())"
   ]
  },
  {
   "cell_type": "code",
   "execution_count": 54,
   "metadata": {
    "ExecuteTime": {
     "end_time": "2021-06-20T17:49:10.499354Z",
     "start_time": "2021-06-20T17:49:10.496629Z"
    }
   },
   "outputs": [
    {
     "data": {
      "text/plain": [
       "array(['Living Standards', 'Physical And Mental Well Being',\n",
       "       'Coping Mechanisms', 'Impact On People Or Impact On Services',\n",
       "       'Driver/Aggravating Factors', 'Impact On People',\n",
       "       'Impact On Systems And Services', 'International Response',\n",
       "       'National Response', 'Number Of People Affected',\n",
       "       'Number Of People At Risk', 'Number Of People In Need',\n",
       "       'Number Of People Reached', 'Expressed By Population',\n",
       "       'Expressed By Humanitarian Staff', 'Response Gaps',\n",
       "       'Risk And Vulnerabilities', 'Impact On Services'], dtype=object)"
      ]
     },
     "execution_count": 54,
     "metadata": {},
     "output_type": "execute_result"
    }
   ],
   "source": [
    "matching_2d_mat[\"Final Sub-pillar Name\"].unique()"
   ]
  },
  {
   "cell_type": "code",
   "execution_count": 55,
   "metadata": {
    "ExecuteTime": {
     "end_time": "2021-06-20T17:49:10.502960Z",
     "start_time": "2021-06-20T17:49:10.500345Z"
    }
   },
   "outputs": [
    {
     "data": {
      "text/plain": [
       "array(['Humanitatian Conditions', 'Impact', 'Capacities & Response',\n",
       "       'People At Risk', 'Humanitarian Conditions', 'Priority Needs',\n",
       "       'Priority Interventions'], dtype=object)"
      ]
     },
     "execution_count": 55,
     "metadata": {},
     "output_type": "execute_result"
    }
   ],
   "source": [
    "matching_2d_mat[\"Final Pillar Name\"].unique()"
   ]
  },
  {
   "cell_type": "code",
   "execution_count": 56,
   "metadata": {
    "ExecuteTime": {
     "end_time": "2021-06-20T17:49:10.506122Z",
     "start_time": "2021-06-20T17:49:10.503851Z"
    }
   },
   "outputs": [],
   "source": [
    "matching_2d_mat.loc[\n",
    "    matching_2d_mat[\"Final Pillar Name\"].eq('Humanitatian Conditions'),\n",
    "    \"Final Pillar Name\"] = 'Humanitarian Conditions'"
   ]
  },
  {
   "cell_type": "code",
   "execution_count": 57,
   "metadata": {
    "ExecuteTime": {
     "end_time": "2021-06-20T17:49:10.510283Z",
     "start_time": "2021-06-20T17:49:10.507075Z"
    }
   },
   "outputs": [],
   "source": [
    "matching_2d_mat = matching_2d_mat.astype({\n",
    "    'Framework Name': str,\n",
    "    'Pillar': str,\n",
    "    'Sub-pillar': str,\n",
    "    'Final Pillar Name': str,\n",
    "    'Final Sub-pillar Name': str,\n",
    "    'analysis_framework_id': str\n",
    "})"
   ]
  },
  {
   "cell_type": "code",
   "execution_count": 58,
   "metadata": {
    "ExecuteTime": {
     "end_time": "2021-06-20T17:49:10.520235Z",
     "start_time": "2021-06-20T17:49:10.511277Z"
    }
   },
   "outputs": [],
   "source": [
    "matching_2d_mat[\"original_pillar\"] = matching_2d_mat[\n",
    "    \"analysis_framework_id\"] + \"->\" + matching_2d_mat[\n",
    "        \"Pillar\"] + \"->\" + matching_2d_mat[\"Sub-pillar\"]\n",
    "matching_2d_mat[\"original_subpillar\"] = matching_2d_mat[\n",
    "    \"analysis_framework_id\"] + \"->\" + matching_2d_mat[\n",
    "        \"Pillar\"] + \"->\" + matching_2d_mat[\"Sub-pillar\"]\n",
    "##\n",
    "matching_2d_mat[\"target_pillar\"] = matching_2d_mat[\"Final Pillar Name\"]\n",
    "matching_2d_mat[\"target_subpillar\"] = matching_2d_mat[\n",
    "    \"Final Pillar Name\"] + \"->\" + matching_2d_mat[\"Final Sub-pillar Name\"]"
   ]
  },
  {
   "cell_type": "code",
   "execution_count": 59,
   "metadata": {
    "ExecuteTime": {
     "end_time": "2021-06-20T17:49:10.523970Z",
     "start_time": "2021-06-20T17:49:10.521181Z"
    }
   },
   "outputs": [],
   "source": [
    "pillar_name_mapper = dict()\n",
    "subpillar_name_mapper = dict()\n",
    "for pillar, fpillar, subpillar, fsubpillar, af_id in zip(\n",
    "        matching_2d_mat[\"original_pillar\"], matching_2d_mat[\"target_pillar\"],\n",
    "        matching_2d_mat[\"original_subpillar\"],\n",
    "        matching_2d_mat[\"target_subpillar\"],\n",
    "        matching_2d_mat[\"analysis_framework_id\"]):\n",
    "    pillar_name_mapper[pillar] = fpillar\n",
    "    subpillar_name_mapper[subpillar] = fsubpillar"
   ]
  },
  {
   "cell_type": "code",
   "execution_count": 60,
   "metadata": {
    "ExecuteTime": {
     "end_time": "2021-06-20T17:49:10.529417Z",
     "start_time": "2021-06-20T17:49:10.524970Z"
    },
    "scrolled": true
   },
   "outputs": [],
   "source": [
    "matching_1d_mat = pd.merge(matching_1d_mat,\n",
    "                           afs[[\"id\", \"title\"]],\n",
    "                           how=\"left\",\n",
    "                           left_on=\"Framework Title\",\n",
    "                           right_on=\"title\")\n",
    "matching_1d_mat[\"id\"] = matching_1d_mat[\"id\"].astype(np.int)"
   ]
  },
  {
   "cell_type": "code",
   "execution_count": 61,
   "metadata": {
    "ExecuteTime": {
     "end_time": "2021-06-20T17:49:10.533094Z",
     "start_time": "2021-06-20T17:49:10.530294Z"
    }
   },
   "outputs": [],
   "source": [
    "pillar_name_mapper_1d = dict()\n",
    "subpillar_name_mapper_1d = dict()\n",
    "for pillar, fpillar, subpillar, fsubpillar, af_id in zip(\n",
    "        matching_1d_mat[\"1D Pillar\"], matching_1d_mat[\"Final 1D Pillar\"],\n",
    "        matching_1d_mat[\"1D Sub-pillar\"],\n",
    "        matching_1d_mat[\"Final 1D Sub-pillar\"], matching_1d_mat[\"id\"]):\n",
    "    pillar = str(af_id) + \"->\" + pillar + \"->\" + subpillar\n",
    "    pillar_name_mapper_1d[pillar] = fpillar\n",
    "    subpillar_name_mapper_1d[pillar] = fpillar + \"->\" + fsubpillar"
   ]
  },
  {
   "cell_type": "code",
   "execution_count": 62,
   "metadata": {
    "ExecuteTime": {
     "end_time": "2021-06-20T17:49:10.545585Z",
     "start_time": "2021-06-20T17:49:10.534015Z"
    }
   },
   "outputs": [],
   "source": [
    "def sector_mapper(sec):\n",
    "    if sec == sec:\n",
    "        sectors =  [sector_name_mapper.get(s, \"\") for s in sec]\n",
    "        return [sec for sec in sectors if sec]\n",
    "    return []\n",
    "##\n",
    "def pillar_mapper(dim):\n",
    "    if dim == dim:\n",
    "        dim = [pillar_name_mapper.get(d, \"\") for d in dim]\n",
    "        return [d for d in dim if d]\n",
    "    return []\n",
    "##\n",
    "def subpillar_mapper(subdim):\n",
    "    if subdim == subdim:\n",
    "        subdim = [pillar_name_mapper.get(d, \"\") for d in subdim]\n",
    "        return [d for d in subdim if d]\n",
    "    return []\n",
    "##\n",
    "def pillar_mapper_1d(pill):\n",
    "    if pill == pill:\n",
    "        pill = [pillar_name_mapper_1d.get(p, \"\") for p in pill]\n",
    "        return [p for p in pill if p]\n",
    "    return []\n",
    "##\n",
    "def subpillar_mapper_1d(subpill):\n",
    "    if subpill == subpill:\n",
    "        subpill = [subpillar_name_mapper_1d.get(p, \"\") for p in subpill]\n",
    "        return [p for p in subpill if p]\n",
    "    return []"
   ]
  },
  {
   "cell_type": "code",
   "execution_count": 63,
   "metadata": {
    "ExecuteTime": {
     "end_time": "2021-06-20T17:49:11.383011Z",
     "start_time": "2021-06-20T17:49:10.546703Z"
    }
   },
   "outputs": [],
   "source": [
    "final_df[\"sectors\"] = final_df[\"sectors\"].apply(sector_mapper)\n",
    "final_df[\"subpillars\"] = final_df[\"pillars\"].apply(subpillar_mapper)\n",
    "final_df[\"pillars\"] = final_df[\"pillars\"].apply(pillar_mapper)\n",
    "##\n",
    "final_df[\"subpillars_1d\"] = final_df[\"pillars_1d\"].apply(subpillar_mapper_1d)\n",
    "final_df[\"pillars_1d\"] = final_df[\"pillars_1d\"].apply(pillar_mapper_1d)"
   ]
  },
  {
   "cell_type": "code",
   "execution_count": 64,
   "metadata": {
    "ExecuteTime": {
     "end_time": "2021-06-20T17:49:11.386734Z",
     "start_time": "2021-06-20T17:49:11.384081Z"
    }
   },
   "outputs": [
    {
     "data": {
      "text/plain": [
       "Index(['entry_id', 'created_at', 'modified_at', 'excerpt', 'entry_type',\n",
       "       'analysis_framework_id', 'created_by_id', 'lead_id', 'modified_by_id',\n",
       "       'information_date', 'order', 'project_id', 'dropped_excerpt',\n",
       "       'verified', 'tags', 'tags_str', 'pillars', 'sectors', 'subsectors',\n",
       "       'pillars_1d', 'subpillars', 'subpillars_1d'],\n",
       "      dtype='object')"
      ]
     },
     "execution_count": 64,
     "metadata": {},
     "output_type": "execute_result"
    }
   ],
   "source": [
    "final_df.columns"
   ]
  },
  {
   "cell_type": "code",
   "execution_count": 65,
   "metadata": {
    "ExecuteTime": {
     "end_time": "2021-06-20T17:49:11.441459Z",
     "start_time": "2021-06-20T17:49:11.387741Z"
    }
   },
   "outputs": [
    {
     "data": {
      "text/plain": [
       "[('Health', 31900),\n",
       " ('Cross', 26227),\n",
       " ('Protection', 24543),\n",
       " ('Livelihoods', 14773),\n",
       " ('Food Security', 13371),\n",
       " ('WASH', 10019),\n",
       " ('Education', 9417),\n",
       " ('Shelter', 8621),\n",
       " ('Nutrition', 4631),\n",
       " ('Agriculture', 2595),\n",
       " ('Logistics', 2256)]"
      ]
     },
     "execution_count": 65,
     "metadata": {},
     "output_type": "execute_result"
    }
   ],
   "source": [
    "secs_unique = set()\n",
    "secs_occurances = list()\n",
    "for secs in final_df[\"sectors\"]:\n",
    "    secs_unique.update(secs)\n",
    "    secs_occurances.extend(secs)\n",
    "#secs_unique\n",
    "Counter(secs_occurances).most_common()"
   ]
  },
  {
   "cell_type": "code",
   "execution_count": 66,
   "metadata": {
    "ExecuteTime": {
     "end_time": "2021-06-20T17:49:11.487141Z",
     "start_time": "2021-06-20T17:49:11.442492Z"
    }
   },
   "outputs": [
    {
     "data": {
      "text/plain": [
       "[('Humanitarian Conditions', 37784),\n",
       " ('Impact', 30056),\n",
       " ('Capacities & Response', 13287),\n",
       " ('People At Risk', 8382),\n",
       " ('Priority Needs', 2323),\n",
       " ('Priority Interventions', 1880)]"
      ]
     },
     "execution_count": 66,
     "metadata": {},
     "output_type": "execute_result"
    }
   ],
   "source": [
    "pills_unique = set()\n",
    "pills_occurances = list()\n",
    "for pills in final_df[\"pillars\"]:\n",
    "    pills_unique.update(pills)\n",
    "    pills_occurances.extend(pills)\n",
    "#pills_unique\n",
    "Counter(pills_occurances).most_common()"
   ]
  },
  {
   "cell_type": "code",
   "execution_count": 67,
   "metadata": {
    "ExecuteTime": {
     "end_time": "2021-06-20T17:49:11.534109Z",
     "start_time": "2021-06-20T17:49:11.488079Z"
    },
    "scrolled": false
   },
   "outputs": [
    {
     "data": {
      "text/plain": [
       "[('Humanitarian Conditions', 37784),\n",
       " ('Impact', 30056),\n",
       " ('Capacities & Response', 13287),\n",
       " ('People At Risk', 8382),\n",
       " ('Priority Needs', 2323),\n",
       " ('Priority Interventions', 1880)]"
      ]
     },
     "execution_count": 67,
     "metadata": {},
     "output_type": "execute_result"
    }
   ],
   "source": [
    "subpills_unique = set()\n",
    "subpills_occurances = list()\n",
    "for subpills in final_df[\"subpillars\"]:\n",
    "    subpills_unique.update(subpills)\n",
    "    subpills_occurances.extend(subpills)\n",
    "Counter(subpills_occurances).most_common()"
   ]
  },
  {
   "cell_type": "code",
   "execution_count": 68,
   "metadata": {
    "ExecuteTime": {
     "end_time": "2021-06-20T17:49:11.575148Z",
     "start_time": "2021-06-20T17:49:11.537363Z"
    }
   },
   "outputs": [
    {
     "data": {
      "text/plain": [
       "[('Context', 22431),\n",
       " ('Humanitarian Profile', 8661),\n",
       " ('Displacement', 5330),\n",
       " ('Casualties', 3270),\n",
       " ('Humanitarian Access', 2021),\n",
       " ('Information', 1178)]"
      ]
     },
     "execution_count": 68,
     "metadata": {},
     "output_type": "execute_result"
    }
   ],
   "source": [
    "pills_unique_1d = set()\n",
    "pills_occurances_1d = list()\n",
    "for pills_1d in final_df[\"pillars_1d\"]:\n",
    "    pills_unique_1d.update(pills_1d)\n",
    "    pills_occurances_1d.extend(pills_1d)\n",
    "#pills_unique_1d\n",
    "Counter(pills_occurances_1d).most_common()"
   ]
  },
  {
   "cell_type": "code",
   "execution_count": 69,
   "metadata": {
    "ExecuteTime": {
     "end_time": "2021-06-20T17:49:11.622302Z",
     "start_time": "2021-06-20T17:49:11.576470Z"
    },
    "scrolled": true
   },
   "outputs": [
    {
     "data": {
      "text/plain": [
       "[('Context->Security & Stability', 5180),\n",
       " ('Humanitarian Profile->Affected Groups', 4979),\n",
       " ('Displacement->Push/Pull Factors', 3804),\n",
       " ('Context->Demography', 3627),\n",
       " ('Context->Economy', 3485),\n",
       " ('Casualties->Dead', 2515),\n",
       " ('Humanitarian Profile->Casualties', 2231),\n",
       " ('Context->Hazard & Threats', 2055),\n",
       " ('Context->Politics', 1699),\n",
       " ('Humanitarian Access->Physical Constraints', 1617),\n",
       " ('Humanitarian Profile->Population Movement', 1451),\n",
       " ('Context->Overview', 1364),\n",
       " ('Context->Key Event', 1149),\n",
       " ('Context->Socio Cultural', 997),\n",
       " ('Context->Legal  & Policy', 855),\n",
       " ('Displacement->Type/Numbers', 842),\n",
       " ('Context->Environment', 745),\n",
       " ('Information->Information Gaps', 736),\n",
       " ('Context->Stakeholders', 680),\n",
       " ('Context->Response gap', 595),\n",
       " ('Casualties->Injured', 537),\n",
       " ('Displacement->Local Integration', 444),\n",
       " ('Humanitarian Access->Humanitarian Access Gaps', 404),\n",
       " ('Information->Channels & Means', 314),\n",
       " ('Casualties->Missing', 218),\n",
       " ('Displacement->Intentions', 169),\n",
       " ('Information->Information Challenges', 128),\n",
       " ('Displacement->Displacement', 71)]"
      ]
     },
     "execution_count": 69,
     "metadata": {},
     "output_type": "execute_result"
    }
   ],
   "source": [
    "subpills_unique_1d = set()\n",
    "subpills_occurances_1d = list()\n",
    "for subpills_1d in final_df[\"subpillars_1d\"]:\n",
    "    subpills_unique_1d.update(subpills_1d)\n",
    "    subpills_occurances_1d.extend(subpills_1d)\n",
    "#subpills_unique_1d\n",
    "Counter(subpills_occurances_1d).most_common()"
   ]
  },
  {
   "cell_type": "markdown",
   "metadata": {},
   "source": [
    "### Splitting"
   ]
  },
  {
   "cell_type": "code",
   "execution_count": 70,
   "metadata": {
    "ExecuteTime": {
     "end_time": "2021-06-20T17:49:11.648289Z",
     "start_time": "2021-06-20T17:49:11.623382Z"
    }
   },
   "outputs": [],
   "source": [
    "# add columns for sectors\n",
    "for sector in secs_unique:\n",
    "    final_df[sector] = 0\n",
    "# add columns for dimensions\n",
    "for pillar in pills_unique:\n",
    "    final_df[pillar] = 0\n",
    "# add columns for subdimensions\n",
    "for subpillar in subpills_unique:\n",
    "    final_df[subpillar] = 0\n",
    "## add columns for 1d pillars\n",
    "for pillar_1d in pills_unique_1d:\n",
    "    final_df[pillar_1d] = 0\n",
    "## add columns for 1d subpillars\n",
    "for subpillar_1d in subpills_unique_1d:\n",
    "    final_df[subpillar_1d] = 0"
   ]
  },
  {
   "cell_type": "code",
   "execution_count": 71,
   "metadata": {
    "ExecuteTime": {
     "end_time": "2021-06-20T17:51:43.612144Z",
     "start_time": "2021-06-20T17:49:11.649667Z"
    }
   },
   "outputs": [
    {
     "name": "stderr",
     "output_type": "stream",
     "text": [
      "100%|██████████| 137801/137801 [02:31<00:00, 906.87it/s] \n"
     ]
    }
   ],
   "source": [
    "for row in tqdm(final_df.iterrows(), total=final_df.shape[0]):\n",
    "    sectors_i = row[1][\"sectors\"]\n",
    "    pillars_i = row[1][\"pillars\"]\n",
    "    subpillars_i = row[1][\"subpillars\"]\n",
    "    pillars_1d_i = row[1][\"pillars_1d\"]\n",
    "    subpillars_1d_i = row[1][\"subpillars_1d\"]\n",
    "    idx = row[0]\n",
    "    for sector in sectors_i:\n",
    "        final_df.loc[idx, sector] = 1\n",
    "    for pillar in pillars_i:\n",
    "        final_df.loc[idx, pillar] = 1\n",
    "    for subpillar in subpillars_i:\n",
    "        final_df.loc[idx, subpillar] = 1\n",
    "    for pillar_1d in pillars_1d_i:\n",
    "        final_df.loc[idx, pillar_1d] = 1\n",
    "    for subpillar_1d in subpillars_1d_i:\n",
    "        final_df.loc[idx, subpillar_1d] = 1"
   ]
  },
  {
   "cell_type": "code",
   "execution_count": 72,
   "metadata": {
    "ExecuteTime": {
     "end_time": "2021-06-20T17:51:43.615866Z",
     "start_time": "2021-06-20T17:51:43.613194Z"
    }
   },
   "outputs": [
    {
     "data": {
      "text/plain": [
       "57"
      ]
     },
     "execution_count": 72,
     "metadata": {},
     "output_type": "execute_result"
    }
   ],
   "source": [
    "classes = list(secs_unique) + list(pills_unique) + list(\n",
    "    subpills_unique) + list(pills_unique_1d) + list(subpills_unique_1d)\n",
    "len(classes)"
   ]
  },
  {
   "cell_type": "code",
   "execution_count": 73,
   "metadata": {
    "ExecuteTime": {
     "end_time": "2021-06-20T17:51:43.642612Z",
     "start_time": "2021-06-20T17:51:43.616833Z"
    },
    "scrolled": true
   },
   "outputs": [
    {
     "data": {
      "text/plain": [
       "WASH                                             10019\n",
       "Education                                         9417\n",
       "Agriculture                                       2595\n",
       "Logistics                                         2256\n",
       "Shelter                                           8617\n",
       "Food Security                                    13369\n",
       "Nutrition                                         4631\n",
       "Cross                                            26225\n",
       "Health                                           31900\n",
       "Livelihoods                                      14773\n",
       "Protection                                       24543\n",
       "Priority Interventions                            1871\n",
       "Priority Needs                                    2269\n",
       "Humanitarian Conditions                          33048\n",
       "People At Risk                                    8338\n",
       "Capacities & Response                            10846\n",
       "Impact                                           23857\n",
       "Priority Interventions                            1871\n",
       "Priority Needs                                    2269\n",
       "Humanitarian Conditions                          33048\n",
       "People At Risk                                    8338\n",
       "Capacities & Response                            10846\n",
       "Impact                                           23857\n",
       "Humanitarian Access                               1940\n",
       "Humanitarian Profile                              7355\n",
       "Information                                       1130\n",
       "Displacement                                      4588\n",
       "Context                                          19580\n",
       "Casualties                                        2798\n",
       "Information->Information Gaps                      736\n",
       "Humanitarian Profile->Casualties                  2231\n",
       "Humanitarian Profile->Population Movement         1451\n",
       "Displacement->Intentions                           169\n",
       "Context->Key Event                                1139\n",
       "Casualties->Injured                                537\n",
       "Displacement->Push/Pull Factors                   3549\n",
       "Humanitarian Access->Physical Constraints         1617\n",
       "Context->Legal  & Policy                           855\n",
       "Context->Stakeholders                              680\n",
       "Context->Economy                                  3483\n",
       "Casualties->Missing                                218\n",
       "Information->Information Challenges                128\n",
       "Casualties->Dead                                  2515\n",
       "Context->Hazard & Threats                         2055\n",
       "Information->Channels & Means                      314\n",
       "Context->Environment                               745\n",
       "Humanitarian Profile->Affected Groups             4979\n",
       "Context->Security & Stability                     5180\n",
       "Humanitarian Access->Humanitarian Access Gaps      404\n",
       "Context->Overview                                 1364\n",
       "Displacement->Local Integration                    444\n",
       "Displacement->Type/Numbers                         842\n",
       "Context->Politics                                 1699\n",
       "Context->Demography                               3627\n",
       "Context->Socio Cultural                            997\n",
       "Displacement->Displacement                          71\n",
       "Context->Response gap                              595\n",
       "dtype: int64"
      ]
     },
     "execution_count": 73,
     "metadata": {},
     "output_type": "execute_result"
    }
   ],
   "source": [
    "final_df[classes].sum().astype(int)"
   ]
  },
  {
   "cell_type": "markdown",
   "metadata": {},
   "source": [
    "### Stratified Split"
   ]
  },
  {
   "cell_type": "code",
   "execution_count": 74,
   "metadata": {
    "ExecuteTime": {
     "end_time": "2021-06-20T17:51:44.007230Z",
     "start_time": "2021-06-20T17:51:43.643672Z"
    }
   },
   "outputs": [],
   "source": [
    "from skmultilearn.model_selection import iterative_train_test_split\n",
    "from skmultilearn.model_selection.measures import get_combination_wise_output_matrix"
   ]
  },
  {
   "cell_type": "code",
   "execution_count": 75,
   "metadata": {
    "ExecuteTime": {
     "end_time": "2021-06-20T17:51:44.012817Z",
     "start_time": "2021-06-20T17:51:44.008264Z"
    }
   },
   "outputs": [],
   "source": [
    "def train_val_test_df_split(df):\n",
    "    class_to_id = {clss: i for i, clss in enumerate(classes)}\n",
    "    num_classes = len(classes)\n",
    "    labels = np.zeros([len(df), num_classes])\n",
    "    for i, (sectors_i, pillars_i, subpillars_i, pillars_1d_i,\n",
    "            subpillars_1d_i) in enumerate(\n",
    "                zip(df[\"sectors\"], df[\"pillars_2d\"], df[\"subpillars_2d\"],\n",
    "                    df[\"pillars_1d\"], df[\"subpillars_1d\"])):\n",
    "        for sec in sectors_i:\n",
    "            labels[i, class_to_id[sec]] = 1\n",
    "        for pil in pillars_i:\n",
    "            labels[i, class_to_id[pil]] = 1\n",
    "        for subpil in subpillars_i:\n",
    "            labels[i, class_to_id[subpil]] = 1\n",
    "        for pil_1d in pillars_1d_i:\n",
    "            labels[i, class_to_id[pil_1d]] = 1\n",
    "        for subpil_1d in subpillars_1d_i:\n",
    "            labels[i, class_to_id[subpil_1d]] = 1\n",
    "    ##\n",
    "    X_train, y_train, X_test, y_test = iterative_train_test_split(\n",
    "        df[\"excerpt\"].to_numpy().reshape(-1, 1), labels, test_size=0.1)\n",
    "    X_train, y_train, X_val, y_val = iterative_train_test_split(X_train,\n",
    "                                                                y_train,\n",
    "                                                                test_size=0.1)\n",
    "    return {\n",
    "        \"X_train\": X_train,\n",
    "        \"y_train\": y_train,\n",
    "        \"X_test\": X_test,\n",
    "        \"y_test\": y_test,\n",
    "        \"X_val\": X_val,\n",
    "        \"y_val\": y_val\n",
    "    }"
   ]
  },
  {
   "cell_type": "code",
   "execution_count": 76,
   "metadata": {
    "ExecuteTime": {
     "end_time": "2021-06-20T17:51:44.026867Z",
     "start_time": "2021-06-20T17:51:44.013776Z"
    }
   },
   "outputs": [],
   "source": [
    "df = final_df[[\n",
    "    'entry_id',\n",
    "    'lead_id',\n",
    "    'project_id',\n",
    "    'analysis_framework_id',\n",
    "    'excerpt',\n",
    "    'dropped_excerpt',\n",
    "    'created_by_id',\n",
    "    'modified_by_id',\n",
    "    'verified',\n",
    "    'sectors',\n",
    "    'pillars',\n",
    "    'subpillars',\n",
    "    'pillars_1d',\n",
    "    'subpillars_1d',\n",
    "]]\n",
    "df.columns = [\n",
    "    'entry_id',\n",
    "    'lead_id',\n",
    "    'project_id',\n",
    "    'analysis_framework_id',\n",
    "    'excerpt',\n",
    "    'dropped_excerpt',\n",
    "    'created_by_id',\n",
    "    'modified_by_id',\n",
    "    'verified',\n",
    "    'sectors',\n",
    "    'pillars_2d',\n",
    "    'subpillars_2d',\n",
    "    'pillars_1d',\n",
    "    'subpillars_1d',\n",
    "]"
   ]
  },
  {
   "cell_type": "code",
   "execution_count": 77,
   "metadata": {
    "ExecuteTime": {
     "end_time": "2021-06-20T17:52:47.574172Z",
     "start_time": "2021-06-20T17:51:44.027940Z"
    }
   },
   "outputs": [],
   "source": [
    "X_train, y_train, X_test, y_test, X_val, y_val = list(\n",
    "    train_val_test_df_split(df).values())"
   ]
  },
  {
   "cell_type": "code",
   "execution_count": 78,
   "metadata": {
    "ExecuteTime": {
     "end_time": "2021-06-20T17:52:47.736687Z",
     "start_time": "2021-06-20T17:52:47.575335Z"
    }
   },
   "outputs": [],
   "source": [
    "final_df_train = final_df[final_df[\"excerpt\"].isin(X_train.reshape(-1))]\n",
    "final_df_val = final_df[final_df[\"excerpt\"].isin(X_val.reshape(-1))]\n",
    "final_df_test = final_df[final_df[\"excerpt\"].isin(X_test.reshape(-1))]"
   ]
  },
  {
   "cell_type": "code",
   "execution_count": 79,
   "metadata": {
    "ExecuteTime": {
     "end_time": "2021-06-20T17:52:47.838301Z",
     "start_time": "2021-06-20T17:52:47.738125Z"
    }
   },
   "outputs": [],
   "source": [
    "df_train = df[df[\"excerpt\"].isin(X_train.reshape(-1))]\n",
    "df_val = df[df[\"excerpt\"].isin(X_val.reshape(-1))]\n",
    "df_test = df[df[\"excerpt\"].isin(X_test.reshape(-1))]"
   ]
  },
  {
   "cell_type": "code",
   "execution_count": 80,
   "metadata": {
    "ExecuteTime": {
     "end_time": "2021-06-20T17:52:47.850546Z",
     "start_time": "2021-06-20T17:52:47.841274Z"
    }
   },
   "outputs": [
    {
     "data": {
      "text/plain": [
       "(Int64Index([], dtype='int64'),\n",
       " Int64Index([], dtype='int64'),\n",
       " Int64Index([], dtype='int64'))"
      ]
     },
     "execution_count": 80,
     "metadata": {},
     "output_type": "execute_result"
    }
   ],
   "source": [
    "df_train.index & df_val.index, df_train.index & df_test.index, df_test.index & df_val.index "
   ]
  },
  {
   "cell_type": "code",
   "execution_count": 81,
   "metadata": {
    "ExecuteTime": {
     "end_time": "2021-06-20T17:52:49.469449Z",
     "start_time": "2021-06-20T17:52:47.852045Z"
    }
   },
   "outputs": [],
   "source": [
    "df_train.to_csv(\"data_v0.5_train.csv\", index=None)\n",
    "df_val.to_csv(\"data_v0.5_val.csv\", index=None)\n",
    "df_test.to_csv(\"data_v0.5_test.csv\", index=None)"
   ]
  },
  {
   "cell_type": "code",
   "execution_count": 82,
   "metadata": {
    "ExecuteTime": {
     "end_time": "2021-06-20T17:52:51.061677Z",
     "start_time": "2021-06-20T17:52:49.470537Z"
    }
   },
   "outputs": [],
   "source": [
    "df.to_csv(\"data_v0.5_full.csv\", index=None)"
   ]
  },
  {
   "cell_type": "code",
   "execution_count": null,
   "metadata": {},
   "outputs": [],
   "source": []
  },
  {
   "cell_type": "code",
   "execution_count": null,
   "metadata": {},
   "outputs": [],
   "source": []
  },
  {
   "cell_type": "code",
   "execution_count": null,
   "metadata": {},
   "outputs": [],
   "source": []
  },
  {
   "cell_type": "code",
   "execution_count": null,
   "metadata": {},
   "outputs": [],
   "source": []
  },
  {
   "cell_type": "code",
   "execution_count": null,
   "metadata": {},
   "outputs": [],
   "source": []
  }
 ],
 "metadata": {
  "kernelspec": {
   "display_name": "Python 3.8.5 64-bit ('base': conda)",
   "language": "python",
   "name": "python385jvsc74a57bd0f487e277ea6a75fd1c7c341a1deb40c7861148cbc006695943c5304af00fedbe"
  },
  "language_info": {
   "codemirror_mode": {
    "name": "ipython",
    "version": 3
   },
   "file_extension": ".py",
   "mimetype": "text/x-python",
   "name": "python",
   "nbconvert_exporter": "python",
   "pygments_lexer": "ipython3",
   "version": "3.8.5"
  },
  "varInspector": {
   "cols": {
    "lenName": 16,
    "lenType": 16,
    "lenVar": 40
   },
   "kernels_config": {
    "python": {
     "delete_cmd_postfix": "",
     "delete_cmd_prefix": "del ",
     "library": "var_list.py",
     "varRefreshCmd": "print(var_dic_list())"
    },
    "r": {
     "delete_cmd_postfix": ") ",
     "delete_cmd_prefix": "rm(",
     "library": "var_list.r",
     "varRefreshCmd": "cat(var_dic_list()) "
    }
   },
   "types_to_exclude": [
    "module",
    "function",
    "builtin_function_or_method",
    "instance",
    "_Feature"
   ],
   "window_display": false
  }
 },
 "nbformat": 4,
 "nbformat_minor": 4
}
