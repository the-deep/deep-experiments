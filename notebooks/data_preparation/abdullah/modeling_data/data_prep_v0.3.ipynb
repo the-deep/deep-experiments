{
 "cells": [
  {
   "cell_type": "code",
   "execution_count": 1,
   "metadata": {
    "ExecuteTime": {
     "end_time": "2021-05-20T12:01:15.209450Z",
     "start_time": "2021-05-20T12:01:15.000610Z"
    }
   },
   "outputs": [],
   "source": [
    "import re\n",
    "import json\n",
    "from ast import literal_eval\n",
    "from collections import Counter\n",
    "import pandas as pd\n",
    "from tqdm.auto import tqdm"
   ]
  },
  {
   "cell_type": "code",
   "execution_count": 2,
   "metadata": {
    "ExecuteTime": {
     "end_time": "2021-05-20T12:01:17.779391Z",
     "start_time": "2021-05-20T12:01:15.210877Z"
    }
   },
   "outputs": [
    {
     "name": "stderr",
     "output_type": "stream",
     "text": [
      "/home/abdullah/anaconda3/lib/python3.8/site-packages/IPython/core/interactiveshell.py:3146: DtypeWarning: Columns (10) have mixed types.Specify dtype option on import or set low_memory=False.\n",
      "  has_raised = await self.run_ast_nodes(code_ast.body, cell_name,\n"
     ]
    }
   ],
   "source": [
    "exportdata = pd.read_csv(\"exportdata_of_entries_of_projects_of_interest.csv\")\n",
    "entries = pd.read_csv(\"entries_of_projects_of_interest.csv\")\n",
    "af_widgets = pd.read_csv(\"widgets_of_afs_of_interest.csv\")\n",
    "projects = pd.read_csv(\"projects_of_interest.csv\")\n",
    "exportables = pd.read_csv(\"afexportable_of_af_of_projects_of_interest.csv\")\n",
    "##\n",
    "afs = pd.read_csv(\"all_afs.csv\")"
   ]
  },
  {
   "cell_type": "code",
   "execution_count": 3,
   "metadata": {
    "ExecuteTime": {
     "end_time": "2021-05-20T12:01:17.791134Z",
     "start_time": "2021-05-20T12:01:17.782831Z"
    }
   },
   "outputs": [
    {
     "data": {
      "text/plain": [
       "((190907, 20), (1002149, 4))"
      ]
     },
     "execution_count": 3,
     "metadata": {},
     "output_type": "execute_result"
    }
   ],
   "source": [
    "entries.shape, exportdata.shape"
   ]
  },
  {
   "cell_type": "code",
   "execution_count": 4,
   "metadata": {
    "ExecuteTime": {
     "end_time": "2021-05-20T12:01:18.033569Z",
     "start_time": "2021-05-20T12:01:17.792753Z"
    }
   },
   "outputs": [
    {
     "data": {
      "text/plain": [
       "(133348,)"
      ]
     },
     "execution_count": 4,
     "metadata": {},
     "output_type": "execute_result"
    }
   ],
   "source": [
    "entries[~entries[\"excerpt\"].isna()][\"excerpt\"].unique().shape"
   ]
  },
  {
   "cell_type": "code",
   "execution_count": 5,
   "metadata": {
    "ExecuteTime": {
     "end_time": "2021-05-20T12:01:18.046190Z",
     "start_time": "2021-05-20T12:01:18.036663Z"
    }
   },
   "outputs": [],
   "source": [
    "exid_to_exdata = dict()\n",
    "for ex_id, ex_data in zip(exportables[\"id\"], exportables[\"data\"]):\n",
    "    exid_to_exdata[ex_id] = json.loads(ex_data)"
   ]
  },
  {
   "cell_type": "code",
   "execution_count": 6,
   "metadata": {
    "ExecuteTime": {
     "end_time": "2021-05-20T12:01:18.053184Z",
     "start_time": "2021-05-20T12:01:18.048541Z"
    }
   },
   "outputs": [
    {
     "data": {
      "text/plain": [
       "array(['SPECIFIC NEEDS GROUPS', 'DEMOGRAPHIC GROUPS', 'SEVERITY',\n",
       "       'AFFECTED GROUPS', 'RELIABILITY', 'DATE OF INFORMATION', 'EXCERPT',\n",
       "       'Cross Sectors', 'LOCATION', 'Sectors', 'Demographic Groups',\n",
       "       'Cross sector', 'Severity', 'Affected groups', 'Geo Location',\n",
       "       'Specific Needs Groups', 'Excerpt', 'Information date',\n",
       "       'Reliability', 'Matrix 1D', 'Matrix 2D', 'Flag',\n",
       "       'Operational Environment', 'Information Date',\n",
       "       'Sectoral Information', 'Crisis Type', 'Context additional tags',\n",
       "       'Crisis type', 'HIGH LEVEL TAGS', 'Cleaning comments',\n",
       "       'Additional Context', 'POPULATION GROUPS', 'CLEANING tags',\n",
       "       'DISPLACED POP TYPE', 'SHOCK/EVENT', 'PRE-CRISIS', 'IN-CRISIS',\n",
       "       'Comment'], dtype=object)"
      ]
     },
     "execution_count": 6,
     "metadata": {},
     "output_type": "execute_result"
    }
   ],
   "source": [
    "af_widgets[\"title\"].unique()"
   ]
  },
  {
   "cell_type": "code",
   "execution_count": 7,
   "metadata": {
    "ExecuteTime": {
     "end_time": "2021-05-20T12:01:18.058704Z",
     "start_time": "2021-05-20T12:01:18.054961Z"
    }
   },
   "outputs": [],
   "source": [
    "widget_key_id_to_title = dict()\n",
    "for w_key, w_id, title in zip(af_widgets[\"key\"], af_widgets[\"widget_id\"], af_widgets[\"title\"]):\n",
    "    widget_key_id_to_title[(w_key, w_id)] = title"
   ]
  },
  {
   "cell_type": "code",
   "execution_count": 8,
   "metadata": {
    "ExecuteTime": {
     "end_time": "2021-05-20T12:01:18.068036Z",
     "start_time": "2021-05-20T12:01:18.060770Z"
    }
   },
   "outputs": [],
   "source": [
    "def exportdata_to_tag_title(row):\n",
    "    data = json.loads(row[1])\n",
    "    wkey, wid = None, None\n",
    "    if data.get(\"common\"):\n",
    "        wkey = data.get(\"common\").get(\"widget_key\")\n",
    "        wid = data[\"common\"].get(\"widget_id\")\n",
    "    if wkey and wid:\n",
    "        if widget_key_id_to_title.get((wkey, wid)):\n",
    "            return widget_key_id_to_title.get((wkey, wid))\n",
    "    if data.get(\"report\") and data[\"report\"].get(\"other\"):\n",
    "            if len(data[\"report\"][\"other\"]) == 1 and data[\"report\"][\"other\"][0].get(\"title\"):\n",
    "                if data[\"report\"][\"other\"][0][\"title\"]:\n",
    "                    return data[\"report\"][\"other\"][0][\"title\"]\n",
    "    if isinstance(data.get(\"excel\"), list) and len(data[\"excel\"])==1 and \\\n",
    "     data[\"excel\"][0].get(\"widget_key\") and data[\"excel\"][0].get(\"widget_id\"):\n",
    "        wkey = data[\"excel\"][0][\"widget_key\"]\n",
    "        wid = data[\"excel\"][0][\"widget_id\"]\n",
    "        if widget_key_id_to_title.get((wkey, wid)):\n",
    "            return widget_key_id_to_title.get((wkey, wid))\n",
    "    exportable_id = row[3]\n",
    "    if exid_to_exdata[exportable_id][\"excel\"].get(\"title\"):\n",
    "        return exid_to_exdata[exportable_id][\"excel\"][\"title\"]\n",
    "    elif exid_to_exdata[exportable_id][\"excel\"].get(\"type\") == \"multiple\":\n",
    "        return exid_to_exdata[exportable_id][\"excel\"][\"titles\"]\n",
    "    raise"
   ]
  },
  {
   "cell_type": "code",
   "execution_count": 9,
   "metadata": {
    "ExecuteTime": {
     "end_time": "2021-05-20T12:01:29.319394Z",
     "start_time": "2021-05-20T12:01:18.069484Z"
    }
   },
   "outputs": [],
   "source": [
    "exportdata[\"tag_title\"] = exportdata.apply(exportdata_to_tag_title, axis=1)"
   ]
  },
  {
   "cell_type": "code",
   "execution_count": 10,
   "metadata": {
    "ExecuteTime": {
     "end_time": "2021-05-20T12:01:29.324775Z",
     "start_time": "2021-05-20T12:01:29.320594Z"
    }
   },
   "outputs": [],
   "source": [
    "def exportdata_to_tag_value(row):\n",
    "    data = json.loads(row[1])\n",
    "    if isinstance(data[\"excel\"], list) and len(data[\"excel\"])==1:\n",
    "        return data[\"excel\"][0][\"value\"]\n",
    "    if data[\"excel\"].get(\"type\") == \"lists\":\n",
    "        return data[\"excel\"][\"values\"]\n",
    "    if isinstance(data[\"excel\"], dict) and \"value\" in data[\"excel\"]:\n",
    "        return data[\"excel\"].get(\"value\")\n",
    "    if isinstance(data[\"excel\"], dict) and \"values\" in data[\"excel\"]:\n",
    "        return data[\"excel\"].get(\"values\")\n",
    "    elif \"values\" in data[\"common\"]:\n",
    "        return data[\"common\"][\"values\"]\n",
    "    elif \"value\" in data[\"common\"]:\n",
    "        return data[\"common\"][\"value\"]\n",
    "    raise"
   ]
  },
  {
   "cell_type": "code",
   "execution_count": 11,
   "metadata": {
    "ExecuteTime": {
     "end_time": "2021-05-20T12:01:42.872957Z",
     "start_time": "2021-05-20T12:01:29.326301Z"
    }
   },
   "outputs": [],
   "source": [
    "exportdata[\"tag_value\"] = exportdata.apply(exportdata_to_tag_value, axis=1)"
   ]
  },
  {
   "cell_type": "code",
   "execution_count": 12,
   "metadata": {
    "ExecuteTime": {
     "end_time": "2021-05-20T12:01:42.877196Z",
     "start_time": "2021-05-20T12:01:42.874380Z"
    }
   },
   "outputs": [],
   "source": [
    "def title_case(tag):\n",
    "    if isinstance(tag, (list, tuple)):\n",
    "        return tuple([x.title() for x in tag])\n",
    "    return tag.title()"
   ]
  },
  {
   "cell_type": "code",
   "execution_count": 13,
   "metadata": {
    "ExecuteTime": {
     "end_time": "2021-05-20T12:01:43.499671Z",
     "start_time": "2021-05-20T12:01:42.878665Z"
    }
   },
   "outputs": [],
   "source": [
    "exportdata[\"tag_title\"] = exportdata[\"tag_title\"].apply(title_case)"
   ]
  },
  {
   "cell_type": "code",
   "execution_count": 14,
   "metadata": {
    "ExecuteTime": {
     "end_time": "2021-05-20T12:01:43.604711Z",
     "start_time": "2021-05-20T12:01:43.502926Z"
    }
   },
   "outputs": [
    {
     "data": {
      "text/plain": [
       "array(['Sectoral Information', 'Affected Groups', 'Location',\n",
       "       'Reliability', 'Demographic Groups', 'Information Date',\n",
       "       'Severity', 'Flag', 'Operational Environment', 'Shock/Event',\n",
       "       'High Level Tags', 'In-Crisis', 'Specific Needs Groups',\n",
       "       'Additional Context', 'Sectors', 'Cross Sector',\n",
       "       'Date Of Information', 'Geo Location', 'Displaced Pop Type',\n",
       "       'Crisis Type', 'Displacement Profile Details', 'Date',\n",
       "       'Cleaning Tags',\n",
       "       ('Affected Groups - Level 0', 'Affected Groups - Level 1', 'Affected Groups - Level 2', 'Affected Groups - Level 3'),\n",
       "       'Comment', 'Cleaning Comments',\n",
       "       ('Sectoral Information - Dimension', 'Sectoral Information - Subdimension', 'Sectoral Information - Sector', 'Sectoral Information - Subsectors'),\n",
       "       ('Information Date (From)', 'Information Date (To)'),\n",
       "       ('Matrix 1D - Dimension', 'Matrix 1D - Subdimension'),\n",
       "       ('Operational Environment - Dimension', 'Operational Environment - Subdimension'),\n",
       "       ('Matrix 2D - Dimension', 'Matrix 2D - Subdimension', 'Matrix 2D - Sector', 'Matrix 2D - Subsectors'),\n",
       "       ('Dimension', 'Subdimension', 'Sector', 'Subsectors'),\n",
       "       ('In-Crisis - Dimension', 'In-Crisis - Subdimension', 'In-Crisis - Sector', 'In-Crisis - Subsectors'),\n",
       "       ('Affected Groups - Level 0', 'Affected Groups - Level 1', 'Affected Groups - Level 2', 'Affected Groups - Level 3', 'Affected Groups - Level 4', 'Affected Groups - Level 5'),\n",
       "       ('2D Matrix - Dimension', '2D Matrix - Subdimension', '2D Matrix - Sector', '2D Matrix - Subsectors'),\n",
       "       ('Sectors - Dimension', 'Sectors - Subdimension', 'Sectors - Sector', 'Sectors - Subsectors'),\n",
       "       ('Cross Sector - Dimension', 'Cross Sector - Subdimension'),\n",
       "       'Multiselecta', 'Scale', 'Free Text',\n",
       "       ('Flag - Dimension', 'Flag - Subdimension'),\n",
       "       ('Pre-Crisis - Dimension', 'Pre-Crisis - Subdimension', 'Pre-Crisis - Sector', 'Pre-Crisis - Subsectors'),\n",
       "       ('High Level Tags - Dimension', 'High Level Tags - Subdimension')],\n",
       "      dtype=object)"
      ]
     },
     "execution_count": 14,
     "metadata": {},
     "output_type": "execute_result"
    }
   ],
   "source": [
    "exportdata[\"tag_title\"].unique()\n",
    "# 1. GIMAC --> Pre-Crisis, Shock/Event, In-Crisis\n",
    "# 2. 2020 Okular --> Sectoral Information\n",
    "# 3. Okular Analytics Generic --> Sectoral Information\n",
    "# 4. Rohingya Framework --> Sectors\n",
    "# 5. IFRC 2018 --> Sectors\n",
    "# 6. Colombia AF --> Sectoral Information\n",
    "# 7. Nigeria Situation Analysis (OA) --> Sectoral Information\n",
    "# 8. Situation Analysis Generic Yemen --> Matrix 2D\n",
    "# 9. Situation Analysis Generic Libya --> Sectors"
   ]
  },
  {
   "cell_type": "code",
   "execution_count": 15,
   "metadata": {
    "ExecuteTime": {
     "end_time": "2021-05-20T12:01:43.609125Z",
     "start_time": "2021-05-20T12:01:43.607331Z"
    }
   },
   "outputs": [],
   "source": [
    "#exportdata[exportdata[\"tag_title\"] == ('Matrix 2D - Dimension', 'Matrix 2D - Subdimension', 'Matrix 2D - Sector', 'Matrix 2D - Subsectors')][\"tag_value\"].tolist()"
   ]
  },
  {
   "cell_type": "code",
   "execution_count": 16,
   "metadata": {
    "ExecuteTime": {
     "end_time": "2021-05-20T12:01:43.612995Z",
     "start_time": "2021-05-20T12:01:43.610453Z"
    }
   },
   "outputs": [],
   "source": [
    "mat2d = [\n",
    "    \"Sectoral Information\",\n",
    "    \"Shock/Event\",\n",
    "    \"In-Crisis\",\n",
    "    \"Sectors\",\n",
    "    ('Sectoral Information - Dimension', 'Sectoral Information - Subdimension',\n",
    "     'Sectoral Information - Sector', 'Sectoral Information - Subsectors'),\n",
    "    #('Matrix 2D - Dimension', 'Matrix 2D - Subdimension', 'Matrix 2D - Sector', 'Matrix 2D - Subsectors'),#only 3 labels one of them is noisy\n",
    "    ('Dimension', 'Subdimension', 'Sector', 'Subsectors'),\n",
    "    ('In-Crisis - Dimension', 'In-Crisis - Subdimension', 'In-Crisis - Sector', 'In-Crisis - Subsectors'),\n",
    "    ('Sectors - Dimension', 'Sectors - Subdimension', 'Sectors - Sector', 'Sectors - Subsectors'),\n",
    "    #('2D Matrix - Dimension', '2D Matrix - Subdimension', '2D Matrix - Sector', '2D Matrix - Subsectors'),#very different dimensions and sectors\n",
    "    #('Pre-Crisis - Dimension', 'Pre-Crisis - Subdimension', 'Pre-Crisis - Sector', 'Pre-Crisis - Subsectors'),#empty\n",
    "]"
   ]
  },
  {
   "cell_type": "code",
   "execution_count": 17,
   "metadata": {
    "ExecuteTime": {
     "end_time": "2021-05-20T12:01:43.822153Z",
     "start_time": "2021-05-20T12:01:43.617008Z"
    }
   },
   "outputs": [],
   "source": [
    "exportdata_mat2d = exportdata[exportdata[\"tag_title\"].isin(mat2d)]"
   ]
  },
  {
   "cell_type": "code",
   "execution_count": 18,
   "metadata": {
    "ExecuteTime": {
     "end_time": "2021-05-20T12:01:43.829063Z",
     "start_time": "2021-05-20T12:01:43.824805Z"
    }
   },
   "outputs": [
    {
     "data": {
      "text/plain": [
       "((151165, 6), (1002149, 6), (190907, 20))"
      ]
     },
     "execution_count": 18,
     "metadata": {},
     "output_type": "execute_result"
    }
   ],
   "source": [
    "exportdata_mat2d.shape, exportdata.shape, entries.shape"
   ]
  },
  {
   "cell_type": "code",
   "execution_count": 19,
   "metadata": {
    "ExecuteTime": {
     "end_time": "2021-05-20T12:01:43.834079Z",
     "start_time": "2021-05-20T12:01:43.830539Z"
    }
   },
   "outputs": [
    {
     "data": {
      "text/plain": [
       "Index(['id', 'created_at', 'modified_at', 'excerpt', 'image_raw',\n",
       "       'analysis_framework_id', 'created_by_id', 'lead_id', 'modified_by_id',\n",
       "       'entry_type', 'information_date', 'order', 'client_id', 'project_id',\n",
       "       'tabular_field_id', 'dropped_excerpt', 'highlight_hidden', 'verified',\n",
       "       'verification_last_changed_by_id', 'image_id'],\n",
       "      dtype='object')"
      ]
     },
     "execution_count": 19,
     "metadata": {},
     "output_type": "execute_result"
    }
   ],
   "source": [
    "entries.columns"
   ]
  },
  {
   "cell_type": "code",
   "execution_count": 20,
   "metadata": {
    "ExecuteTime": {
     "end_time": "2021-05-20T12:01:43.839308Z",
     "start_time": "2021-05-20T12:01:43.835536Z"
    }
   },
   "outputs": [
    {
     "data": {
      "text/plain": [
       "Index(['id', 'data', 'entry_id', 'exportable_id', 'tag_title', 'tag_value'], dtype='object')"
      ]
     },
     "execution_count": 20,
     "metadata": {},
     "output_type": "execute_result"
    }
   ],
   "source": [
    "exportdata.columns"
   ]
  },
  {
   "cell_type": "code",
   "execution_count": 21,
   "metadata": {
    "ExecuteTime": {
     "end_time": "2021-05-20T12:01:44.137001Z",
     "start_time": "2021-05-20T12:01:43.840680Z"
    }
   },
   "outputs": [],
   "source": [
    "entries_labeled_mat2d = pd.merge(entries,\n",
    "                                 exportdata_mat2d,\n",
    "                                 how=\"inner\",\n",
    "                                 left_on=\"id\",\n",
    "                                 right_on=\"entry_id\",\n",
    "                                 suffixes=('_entry', '_exportdata'))"
   ]
  },
  {
   "cell_type": "code",
   "execution_count": 22,
   "metadata": {
    "ExecuteTime": {
     "end_time": "2021-05-20T12:01:44.150771Z",
     "start_time": "2021-05-20T12:01:44.139232Z"
    }
   },
   "outputs": [
    {
     "data": {
      "text/plain": [
       "((190907,), (190907, 20))"
      ]
     },
     "execution_count": 22,
     "metadata": {},
     "output_type": "execute_result"
    }
   ],
   "source": [
    "entries[\"id\"].unique().shape, entries.shape"
   ]
  },
  {
   "cell_type": "code",
   "execution_count": 23,
   "metadata": {
    "ExecuteTime": {
     "end_time": "2021-05-20T12:01:44.156538Z",
     "start_time": "2021-05-20T12:01:44.152401Z"
    }
   },
   "outputs": [
    {
     "data": {
      "text/plain": [
       "((151135, 26),\n",
       " Index(['id_entry', 'created_at', 'modified_at', 'excerpt', 'image_raw',\n",
       "        'analysis_framework_id', 'created_by_id', 'lead_id', 'modified_by_id',\n",
       "        'entry_type', 'information_date', 'order', 'client_id', 'project_id',\n",
       "        'tabular_field_id', 'dropped_excerpt', 'highlight_hidden', 'verified',\n",
       "        'verification_last_changed_by_id', 'image_id', 'id_exportdata', 'data',\n",
       "        'entry_id', 'exportable_id', 'tag_title', 'tag_value'],\n",
       "       dtype='object'))"
      ]
     },
     "execution_count": 23,
     "metadata": {},
     "output_type": "execute_result"
    }
   ],
   "source": [
    "entries_labeled_mat2d.shape, entries_labeled_mat2d.columns"
   ]
  },
  {
   "cell_type": "code",
   "execution_count": 24,
   "metadata": {
    "ExecuteTime": {
     "end_time": "2021-05-20T12:01:44.167240Z",
     "start_time": "2021-05-20T12:01:44.158379Z"
    }
   },
   "outputs": [],
   "source": [
    "def mat2d_labels_to_dimension(tag_value):\n",
    "    if not isinstance(tag_value, list):\n",
    "        print(tag_value)\n",
    "        raise\n",
    "    if len(tag_value):\n",
    "        dimensions = []\n",
    "        for t in tag_value:\n",
    "            if t[0]:\n",
    "                dimensions.append(t[0].title())\n",
    "        return list(set(dimensions))\n",
    "    else:\n",
    "        return []\n",
    "\n",
    "def mat2d_labels_to_subdimension(tag_value):\n",
    "    if not isinstance(tag_value, list):\n",
    "        print(tag_value)\n",
    "        raise\n",
    "    if len(tag_value):\n",
    "        subdimensions = []\n",
    "        for t in tag_value:\n",
    "            if t[1]:\n",
    "                subdimensions.append(t[1].title())\n",
    "        return list(set(subdimensions))\n",
    "    else:\n",
    "        return []\n",
    "\n",
    "def mat2d_labels_to_sector(tag_value):\n",
    "    if not isinstance(tag_value, list):\n",
    "        print(tag_value)\n",
    "        raise\n",
    "    if len(tag_value):\n",
    "        sectors = []\n",
    "        for t in tag_value:\n",
    "            if t[2]:\n",
    "                sectors.append(t[2].title())\n",
    "        return list(set(sectors))\n",
    "    else:\n",
    "        return []\n",
    "\n",
    "def mat2d_labels_to_subsector(tag_value):\n",
    "    if not isinstance(tag_value, list):\n",
    "        print(tag_value)\n",
    "        raise\n",
    "    if len(tag_value):\n",
    "        subsectors = []\n",
    "        for t in tag_value:\n",
    "            if len(t) == 4 and t[3]:\n",
    "                if isinstance(t[3], list):\n",
    "                    subsectors.extend([x.title() for x in t[3]])\n",
    "                else:\n",
    "                    subsectors.append(t[3].title())\n",
    "        return list(set(subsectors))\n",
    "    else:\n",
    "        return []"
   ]
  },
  {
   "cell_type": "code",
   "execution_count": 25,
   "metadata": {
    "ExecuteTime": {
     "end_time": "2021-05-20T12:01:45.572922Z",
     "start_time": "2021-05-20T12:01:44.169661Z"
    }
   },
   "outputs": [],
   "source": [
    "entries_labeled_mat2d[\"Dimension\"] = entries_labeled_mat2d[\"tag_value\"].apply(mat2d_labels_to_dimension)\n",
    "entries_labeled_mat2d[\"Subdimension\"] = entries_labeled_mat2d[\"tag_value\"].apply(mat2d_labels_to_subdimension)\n",
    "entries_labeled_mat2d[\"Sector\"] = entries_labeled_mat2d[\"tag_value\"].apply(mat2d_labels_to_sector)\n",
    "entries_labeled_mat2d[\"Subsector\"] = entries_labeled_mat2d[\"tag_value\"].apply(mat2d_labels_to_subsector)"
   ]
  },
  {
   "cell_type": "code",
   "execution_count": 26,
   "metadata": {
    "ExecuteTime": {
     "end_time": "2021-05-20T12:01:45.642141Z",
     "start_time": "2021-05-20T12:01:45.574424Z"
    }
   },
   "outputs": [
    {
     "data": {
      "text/plain": [
       "[('Humanitarian Conditions', 71862),\n",
       " ('Impact', 28375),\n",
       " ('Operational Environment', 10460),\n",
       " ('Capacities & Response', 10119),\n",
       " ('Effects On Population', 7783),\n",
       " ('Response And Capacities', 7150),\n",
       " ('At Risk', 5625),\n",
       " ('Effects Systems And Networks', 5110),\n",
       " ('Scope & Scale', 4951),\n",
       " ('Priorities', 4895),\n",
       " ('Humanitarian Situation', 4646),\n",
       " ('Capacities And Response', 4338),\n",
       " ('Context', 4330),\n",
       " ('Stated Priorities And Recommendations', 4313),\n",
       " ('Shock Informaton', 3306),\n",
       " ('Scope And Scale', 2688),\n",
       " ('Coping Capacity', 1591)]"
      ]
     },
     "execution_count": 26,
     "metadata": {},
     "output_type": "execute_result"
    }
   ],
   "source": [
    "dims_unique = set()\n",
    "dims_occurances = list()\n",
    "for dims in entries_labeled_mat2d[\"Dimension\"]:\n",
    "    dims_unique.update(dims)\n",
    "    dims_occurances.extend(dims)\n",
    "#dims_unique\n",
    "Counter(dims_occurances).most_common()"
   ]
  },
  {
   "cell_type": "code",
   "execution_count": 27,
   "metadata": {
    "ExecuteTime": {
     "end_time": "2021-05-20T12:01:45.730036Z",
     "start_time": "2021-05-20T12:01:45.643432Z"
    }
   },
   "outputs": [
    {
     "data": {
      "text/plain": [
       "[('Health', 43868),\n",
       " ('Protection', 31370),\n",
       " ('Cross-Sector', 19260),\n",
       " ('Livelihoods', 18781),\n",
       " ('Food Security', 15635),\n",
       " ('Wash', 14440),\n",
       " ('Cross', 14314),\n",
       " ('Education', 11859),\n",
       " ('Shelter', 10080),\n",
       " ('Nutrition', 6725),\n",
       " ('Food', 4514),\n",
       " ('Logistics', 3059),\n",
       " ('Agriculture', 2795),\n",
       " ('Shelter And Nfis', 2134),\n",
       " ('Nfi', 1330),\n",
       " ('Cross Cutting', 869),\n",
       " ('Cccm', 731),\n",
       " ('Livelihood', 576),\n",
       " ('Logistic', 306)]"
      ]
     },
     "execution_count": 27,
     "metadata": {},
     "output_type": "execute_result"
    }
   ],
   "source": [
    "secs_unique = set()\n",
    "secs_occurances = list()\n",
    "for secs in entries_labeled_mat2d[\"Sector\"]:\n",
    "    secs_unique.update(secs)\n",
    "    secs_occurances.extend(secs)\n",
    "#secs_unique\n",
    "Counter(secs_occurances).most_common()"
   ]
  },
  {
   "cell_type": "code",
   "execution_count": 28,
   "metadata": {
    "ExecuteTime": {
     "end_time": "2021-05-20T12:01:45.740503Z",
     "start_time": "2021-05-20T12:01:45.733144Z"
    }
   },
   "outputs": [
    {
     "data": {
      "text/plain": [
       "0         [Number Of People Affected, Impact On System &...\n",
       "1                                           [International]\n",
       "2                                           [International]\n",
       "3              [Impact On System & Services, International]\n",
       "4                 [Number Of People Reached, International]\n",
       "                                ...                        \n",
       "151130                             [International Response]\n",
       "151131    [Specific Needs, Access To Basic Services Or G...\n",
       "151132                             [International Response]\n",
       "151133                             [International Response]\n",
       "151134    [International Response, National Response, Ri...\n",
       "Name: Subdimension, Length: 151135, dtype: object"
      ]
     },
     "execution_count": 28,
     "metadata": {},
     "output_type": "execute_result"
    }
   ],
   "source": [
    "entries_labeled_mat2d[\"Subdimension\"]"
   ]
  },
  {
   "cell_type": "code",
   "execution_count": 29,
   "metadata": {
    "ExecuteTime": {
     "end_time": "2021-05-20T12:01:45.783390Z",
     "start_time": "2021-05-20T12:01:45.741768Z"
    }
   },
   "outputs": [
    {
     "data": {
      "text/plain": [
       "147044"
      ]
     },
     "execution_count": 29,
     "metadata": {},
     "output_type": "execute_result"
    }
   ],
   "source": [
    "entries_labeled_mat2d[\"Sector\"].apply(lambda x: True if x else False).sum()"
   ]
  },
  {
   "cell_type": "code",
   "execution_count": 30,
   "metadata": {
    "ExecuteTime": {
     "end_time": "2021-05-20T12:01:45.831179Z",
     "start_time": "2021-05-20T12:01:45.784888Z"
    }
   },
   "outputs": [
    {
     "data": {
      "text/plain": [
       "35116"
      ]
     },
     "execution_count": 30,
     "metadata": {},
     "output_type": "execute_result"
    }
   ],
   "source": [
    "entries_labeled_mat2d[\"Sector\"].apply(lambda x: True if len(x)>1 else False).sum()"
   ]
  },
  {
   "cell_type": "code",
   "execution_count": 31,
   "metadata": {
    "ExecuteTime": {
     "end_time": "2021-05-20T12:01:45.837380Z",
     "start_time": "2021-05-20T12:01:45.833130Z"
    }
   },
   "outputs": [
    {
     "data": {
      "text/plain": [
       "Index(['id_entry', 'created_at', 'modified_at', 'excerpt', 'image_raw',\n",
       "       'analysis_framework_id', 'created_by_id', 'lead_id', 'modified_by_id',\n",
       "       'entry_type', 'information_date', 'order', 'client_id', 'project_id',\n",
       "       'tabular_field_id', 'dropped_excerpt', 'highlight_hidden', 'verified',\n",
       "       'verification_last_changed_by_id', 'image_id', 'id_exportdata', 'data',\n",
       "       'entry_id', 'exportable_id', 'tag_title', 'tag_value', 'Dimension',\n",
       "       'Subdimension', 'Sector', 'Subsector'],\n",
       "      dtype='object')"
      ]
     },
     "execution_count": 31,
     "metadata": {},
     "output_type": "execute_result"
    }
   ],
   "source": [
    "entries_labeled_mat2d.columns"
   ]
  },
  {
   "cell_type": "code",
   "execution_count": 32,
   "metadata": {
    "ExecuteTime": {
     "end_time": "2021-05-20T12:01:45.852458Z",
     "start_time": "2021-05-20T12:01:45.839364Z"
    }
   },
   "outputs": [
    {
     "data": {
      "text/plain": [
       "array(['image', 'excerpt', 'dataSeries'], dtype=object)"
      ]
     },
     "execution_count": 32,
     "metadata": {},
     "output_type": "execute_result"
    }
   ],
   "source": [
    "entries_labeled_mat2d[\"entry_type\"].unique()"
   ]
  },
  {
   "cell_type": "code",
   "execution_count": 33,
   "metadata": {
    "ExecuteTime": {
     "end_time": "2021-05-20T12:01:46.060753Z",
     "start_time": "2021-05-20T12:01:45.855018Z"
    }
   },
   "outputs": [
    {
     "data": {
      "text/plain": [
       "42"
      ]
     },
     "execution_count": 33,
     "metadata": {},
     "output_type": "execute_result"
    }
   ],
   "source": [
    "entries_labeled_mat2d[entries_labeled_mat2d[\"entry_type\"].eq(\"excerpt\")][\"excerpt\"].isna().sum()"
   ]
  },
  {
   "cell_type": "code",
   "execution_count": 34,
   "metadata": {
    "ExecuteTime": {
     "end_time": "2021-05-20T12:01:46.171571Z",
     "start_time": "2021-05-20T12:01:46.062651Z"
    }
   },
   "outputs": [],
   "source": [
    "final_df = entries_labeled_mat2d[\n",
    "    entries_labeled_mat2d[\"entry_type\"].eq(\"excerpt\")\n",
    "    & (~entries_labeled_mat2d[\"excerpt\"].isna())][[\n",
    "        'id_entry', 'excerpt', 'analysis_framework_id', 'created_by_id',\n",
    "        'lead_id', 'modified_by_id', 'information_date', 'order', 'client_id',\n",
    "        'project_id', 'tabular_field_id', 'dropped_excerpt', 'verified',\n",
    "        'verification_last_changed_by_id', 'id_exportdata', 'exportable_id',\n",
    "        'Dimension', 'Subdimension', 'Sector', 'Subsector'\n",
    "    ]]"
   ]
  },
  {
   "cell_type": "code",
   "execution_count": 35,
   "metadata": {
    "ExecuteTime": {
     "end_time": "2021-05-20T12:01:46.176068Z",
     "start_time": "2021-05-20T12:01:46.173167Z"
    }
   },
   "outputs": [],
   "source": [
    "final_df.columns = [\n",
    "    'entry_id', 'excerpt', 'analysis_framework_id', 'created_by_id', 'lead_id',\n",
    "    'modified_by_id', 'information_date', 'order', 'client_id', 'project_id',\n",
    "    'tabular_field_id', 'dropped_excerpt', 'verified',\n",
    "    'verification_last_changed_by_id', 'exportdata_id', 'exportable_id',\n",
    "    'dimensions', 'subdimensions', 'sectors', 'subsectors'\n",
    "]"
   ]
  },
  {
   "cell_type": "code",
   "execution_count": 36,
   "metadata": {
    "ExecuteTime": {
     "end_time": "2021-05-20T12:01:49.957485Z",
     "start_time": "2021-05-20T12:01:46.178281Z"
    }
   },
   "outputs": [
    {
     "data": {
      "text/plain": [
       "((107568, 20), 0)"
      ]
     },
     "execution_count": 36,
     "metadata": {},
     "output_type": "execute_result"
    }
   ],
   "source": [
    "def remove_newlines(excerpt):\n",
    "    if not isinstance(excerpt, str):\n",
    "        return excerpt\n",
    "    return re.sub(\"\\s+\", \" \", excerpt)\n",
    "\n",
    "final_df['excerpt'] = final_df['excerpt'].apply(remove_newlines)\n",
    "final_df['dropped_excerpt'] = final_df['dropped_excerpt'].apply(remove_newlines)\n",
    "##\n",
    "final_df = final_df.sort_values(\"verified\").reset_index(drop=True).drop_duplicates(subset='excerpt', keep=\"last\")\n",
    "final_df.shape, final_df.duplicated(subset=\"excerpt\").sum()"
   ]
  },
  {
   "cell_type": "markdown",
   "metadata": {},
   "source": [
    "### Data Cleaning"
   ]
  },
  {
   "cell_type": "code",
   "execution_count": 37,
   "metadata": {
    "ExecuteTime": {
     "end_time": "2021-05-20T12:01:49.961026Z",
     "start_time": "2021-05-20T12:01:49.958606Z"
    }
   },
   "outputs": [],
   "source": [
    "dimension_name_mapper = {\n",
    "    'At Risk': \"At Risk\",\n",
    "    'Capacities & Response': 'Capacities & Response',\n",
    "    'Capacities And Response': 'Capacities & Response',\n",
    "    'Response And Capacities': 'Capacities & Response',\n",
    "    'Coping Capacity': 'Capacities & Response',\n",
    "    'Context': \"Context\",\n",
    "    'Operational Environment': 'Context',\n",
    "    'Effects On Population': 'Effects On Population',\n",
    "    'Effects Systems And Networks': 'Effects Systems And Networks',\n",
    "    'Humanitarian Conditions': 'Humanitarian Conditions',\n",
    "    'Humanitarian Situation': 'Humanitarian Conditions',\n",
    "    'Impact': 'Impact',\n",
    "    'Priorities': 'Priorities',\n",
    "    'Stated Priorities And Recommendations': 'Priorities',\n",
    "    'Scope & Scale': 'Scope & Scale',\n",
    "    'Scope And Scale': 'Scope & Scale',\n",
    "    'Shock Informaton': 'Shock Informaton',\n",
    "}"
   ]
  },
  {
   "cell_type": "code",
   "execution_count": 38,
   "metadata": {
    "ExecuteTime": {
     "end_time": "2021-05-20T12:01:49.973241Z",
     "start_time": "2021-05-20T12:01:49.962104Z"
    }
   },
   "outputs": [],
   "source": [
    "sector_name_mapper = {\n",
    "    \"Agriculture\": \"Agriculture\",\n",
    "    \"Cccm\": \"CCCM\",\n",
    "    \"Cross\": \"Cross\",\n",
    "    \"Cross Cutting\": \"Cross\",\n",
    "    \"Cross-Sector\": \"Cross\",\n",
    "    \"Education\": \"Education\",\n",
    "    \"Food\": \"Food Security\",\n",
    "    \"Food Security\": \"Food Security\",\n",
    "    \"Nutrition\": \"Nutrition\",\n",
    "    \"Health\": \"Health\",\n",
    "    \"Livelihood\": \"Livelihoods\",\n",
    "    \"Livelihoods\": \"Livelihoods\",\n",
    "    \"Logistic\": \"Logistics\",\n",
    "    \"Logistics\": \"Logistics\",\n",
    "    \"Protection\": \"Protection\",\n",
    "    \"Shelter\": \"Shelter\",\n",
    "    \"Shelter And Nfis\": \"Shelter and NFIs\",\n",
    "    \"Nfi\": \"NFI\",\n",
    "    \"Wash\": \"WASH\",\n",
    "}"
   ]
  },
  {
   "cell_type": "code",
   "execution_count": 39,
   "metadata": {
    "ExecuteTime": {
     "end_time": "2021-05-20T12:01:49.986992Z",
     "start_time": "2021-05-20T12:01:49.974429Z"
    }
   },
   "outputs": [],
   "source": [
    "def sector_mapper(sec):\n",
    "    if sec == sec:\n",
    "        return [sector_name_mapper.get(s, s) for s in sec]\n",
    "    return []\n",
    "##\n",
    "def dimension_mapper(dim):\n",
    "    if dim == dim:\n",
    "        return [dimension_name_mapper.get(d, d) for d in dim]\n",
    "    return []"
   ]
  },
  {
   "cell_type": "code",
   "execution_count": 40,
   "metadata": {
    "ExecuteTime": {
     "end_time": "2021-05-20T12:01:50.569281Z",
     "start_time": "2021-05-20T12:01:49.989217Z"
    }
   },
   "outputs": [],
   "source": [
    "final_df[\"sectors\"] = final_df[\"sectors\"].apply(sector_mapper)\n",
    "final_df[\"dimensions\"] = final_df[\"dimensions\"].apply(dimension_mapper)"
   ]
  },
  {
   "cell_type": "code",
   "execution_count": 41,
   "metadata": {
    "ExecuteTime": {
     "end_time": "2021-05-20T12:01:50.607508Z",
     "start_time": "2021-05-20T12:01:50.570650Z"
    }
   },
   "outputs": [
    {
     "data": {
      "text/plain": [
       "{'Agriculture',\n",
       " 'CCCM',\n",
       " 'Cross',\n",
       " 'Education',\n",
       " 'Food Security',\n",
       " 'Health',\n",
       " 'Livelihoods',\n",
       " 'Logistics',\n",
       " 'NFI',\n",
       " 'Nutrition',\n",
       " 'Protection',\n",
       " 'Shelter',\n",
       " 'Shelter and NFIs',\n",
       " 'WASH'}"
      ]
     },
     "execution_count": 41,
     "metadata": {},
     "output_type": "execute_result"
    }
   ],
   "source": [
    "sectors = set()\n",
    "for sec in final_df[\"sectors\"]:\n",
    "    if sec and sec==sec:\n",
    "        sectors.update(sec)\n",
    "sectors"
   ]
  },
  {
   "cell_type": "code",
   "execution_count": 42,
   "metadata": {
    "ExecuteTime": {
     "end_time": "2021-05-20T12:01:50.642466Z",
     "start_time": "2021-05-20T12:01:50.608848Z"
    }
   },
   "outputs": [
    {
     "data": {
      "text/plain": [
       "{'At Risk',\n",
       " 'Capacities & Response',\n",
       " 'Context',\n",
       " 'Effects On Population',\n",
       " 'Effects Systems And Networks',\n",
       " 'Humanitarian Conditions',\n",
       " 'Impact',\n",
       " 'Priorities',\n",
       " 'Scope & Scale',\n",
       " 'Shock Informaton'}"
      ]
     },
     "execution_count": 42,
     "metadata": {},
     "output_type": "execute_result"
    }
   ],
   "source": [
    "dimensions = set()\n",
    "for dim in final_df[\"dimensions\"]:\n",
    "    if dim and dim==dim:\n",
    "        dimensions.update(dim)\n",
    "dimensions"
   ]
  },
  {
   "cell_type": "code",
   "execution_count": 43,
   "metadata": {
    "ExecuteTime": {
     "end_time": "2021-05-20T12:01:50.647030Z",
     "start_time": "2021-05-20T12:01:50.643453Z"
    }
   },
   "outputs": [
    {
     "data": {
      "text/plain": [
       "{'Cross': 0,\n",
       " 'Food Security': 1,\n",
       " 'Agriculture': 2,\n",
       " 'Livelihoods': 3,\n",
       " 'Shelter and NFIs': 4,\n",
       " 'Shelter': 5,\n",
       " 'Nutrition': 6,\n",
       " 'WASH': 7,\n",
       " 'Health': 8,\n",
       " 'Education': 9,\n",
       " 'Logistics': 10,\n",
       " 'Protection': 11,\n",
       " 'NFI': 12,\n",
       " 'CCCM': 13}"
      ]
     },
     "execution_count": 43,
     "metadata": {},
     "output_type": "execute_result"
    }
   ],
   "source": [
    "sec_to_id = {sec:i for i, sec in enumerate(sectors)}\n",
    "sec_to_id"
   ]
  },
  {
   "cell_type": "code",
   "execution_count": 44,
   "metadata": {
    "ExecuteTime": {
     "end_time": "2021-05-20T12:01:50.651230Z",
     "start_time": "2021-05-20T12:01:50.648279Z"
    }
   },
   "outputs": [
    {
     "data": {
      "text/plain": [
       "{'At Risk': 0,\n",
       " 'Impact': 1,\n",
       " 'Effects On Population': 2,\n",
       " 'Scope & Scale': 3,\n",
       " 'Humanitarian Conditions': 4,\n",
       " 'Priorities': 5,\n",
       " 'Context': 6,\n",
       " 'Effects Systems And Networks': 7,\n",
       " 'Shock Informaton': 8,\n",
       " 'Capacities & Response': 9}"
      ]
     },
     "execution_count": 44,
     "metadata": {},
     "output_type": "execute_result"
    }
   ],
   "source": [
    "dim_to_id = {dim:i for i, dim in enumerate(dimensions)}\n",
    "dim_to_id"
   ]
  },
  {
   "cell_type": "code",
   "execution_count": 45,
   "metadata": {
    "ExecuteTime": {
     "end_time": "2021-05-20T12:01:50.662161Z",
     "start_time": "2021-05-20T12:01:50.652299Z"
    }
   },
   "outputs": [],
   "source": [
    "final_df['Shelter'] = 0\n",
    "final_df['Livelihoods'] = 0\n",
    "final_df['Protection'] = 0\n",
    "final_df['Shelter and NFIs'] = 0\n",
    "final_df['NFI'] = 0\n",
    "final_df['Food Security'] = 0\n",
    "final_df['Logistics'] = 0\n",
    "final_df['Cross'] = 0\n",
    "final_df['CCCM'] = 0\n",
    "final_df['Agriculture'] = 0\n",
    "final_df['Health'] = 0\n",
    "final_df['Nutrition'] = 0\n",
    "final_df['Education'] = 0\n",
    "final_df['WASH'] = 0\n",
    "final_df['sector_ids'] = \"\""
   ]
  },
  {
   "cell_type": "code",
   "execution_count": 46,
   "metadata": {
    "ExecuteTime": {
     "end_time": "2021-05-20T12:01:50.671188Z",
     "start_time": "2021-05-20T12:01:50.663366Z"
    }
   },
   "outputs": [],
   "source": [
    "final_df['Shock Informaton'] = 0\n",
    "final_df['Effects Systems And Networks'] = 0\n",
    "final_df['Effects On Population'] = 0\n",
    "final_df['Capacities & Response'] = 0\n",
    "final_df['At Risk'] = 0\n",
    "final_df['Scope & Scale'] = 0\n",
    "final_df['Impact'] = 0\n",
    "final_df['Humanitarian Conditions'] = 0\n",
    "final_df['Priorities'] = 0\n",
    "final_df['Context'] = 0\n",
    "final_df[\"dimension_ids\"] = \"\""
   ]
  },
  {
   "cell_type": "code",
   "execution_count": 47,
   "metadata": {
    "ExecuteTime": {
     "end_time": "2021-05-20T12:06:13.887825Z",
     "start_time": "2021-05-20T12:01:50.672961Z"
    }
   },
   "outputs": [
    {
     "name": "stderr",
     "output_type": "stream",
     "text": [
      "100%|██████████| 107568/107568 [04:23<00:00, 408.69it/s]\n"
     ]
    }
   ],
   "source": [
    "for row in tqdm(final_df.iterrows(), total=final_df.shape[0]):\n",
    "    sec = row[1][\"sectors\"]\n",
    "    idx = row[0]\n",
    "    sec_ids = []\n",
    "    if 'Agriculture' in sec:\n",
    "        final_df.loc[idx, 'Agriculture'] = 1\n",
    "        sec_ids.append(sec_to_id[\"Agriculture\"])\n",
    "    if 'CCCM' in sec:\n",
    "        final_df.loc[idx, 'CCCM'] = 1\n",
    "        sec_ids.append(sec_to_id[\"CCCM\"])\n",
    "    if 'Cross' in sec:\n",
    "        final_df.loc[idx, 'Cross'] = 1\n",
    "        sec_ids.append(sec_to_id[\"Cross\"])\n",
    "    if 'Education' in sec:\n",
    "        final_df.loc[idx, 'Education'] = 1\n",
    "        sec_ids.append(sec_to_id[\"Education\"])\n",
    "    if 'Food Security' in sec:\n",
    "        final_df.loc[idx, 'Food Security'] = 1\n",
    "        sec_ids.append(sec_to_id[\"Food Security\"])\n",
    "    if 'Nutrition' in sec:\n",
    "        final_df.loc[idx, 'Nutrition'] = 1\n",
    "        sec_ids.append(sec_to_id[\"Nutrition\"])\n",
    "    if 'Health' in sec:\n",
    "        final_df.loc[idx, 'Health'] = 1\n",
    "        sec_ids.append(sec_to_id[\"Health\"])\n",
    "    if 'Livelihoods' in sec:\n",
    "        final_df.loc[idx, 'Livelihoods'] = 1\n",
    "        sec_ids.append(sec_to_id[\"Livelihoods\"])\n",
    "    if 'Logistics' in sec:\n",
    "        final_df.loc[idx, 'Logistics'] = 1\n",
    "        sec_ids.append(sec_to_id[\"Logistics\"])\n",
    "    if 'Protection' in sec:\n",
    "        final_df.loc[idx, 'Protection'] = 1\n",
    "        sec_ids.append(sec_to_id[\"Protection\"])\n",
    "    if 'Shelter' in sec:\n",
    "        final_df.loc[idx, 'Shelter'] = 1\n",
    "        sec_ids.append(sec_to_id[\"Shelter\"])\n",
    "    if 'Shelter and NFIs' in sec:\n",
    "        final_df.loc[idx, 'Shelter and NFIs'] = 1\n",
    "        sec_ids.append(sec_to_id[\"Shelter and NFIs\"])\n",
    "    if 'NFI' in sec:\n",
    "        final_df.loc[idx, 'NFI'] = 1\n",
    "        sec_ids.append(sec_to_id[\"NFI\"])\n",
    "    if 'WASH' in sec:\n",
    "        final_df.loc[idx, 'WASH'] = 1\n",
    "        sec_ids.append(sec_to_id[\"WASH\"])\n",
    "    final_df.loc[idx, 'sector_ids'] = str(sec_ids)"
   ]
  },
  {
   "cell_type": "code",
   "execution_count": 48,
   "metadata": {
    "ExecuteTime": {
     "end_time": "2021-05-20T12:09:43.027781Z",
     "start_time": "2021-05-20T12:06:13.888895Z"
    }
   },
   "outputs": [
    {
     "name": "stderr",
     "output_type": "stream",
     "text": [
      "100%|██████████| 107568/107568 [03:29<00:00, 514.35it/s]\n"
     ]
    }
   ],
   "source": [
    "for row in tqdm(final_df.iterrows(), total=final_df.shape[0]):\n",
    "    dim = row[1][\"dimensions\"]\n",
    "    idx = row[0]\n",
    "    dim_ids = []\n",
    "    if \"Shock Informaton\" in dim:\n",
    "        final_df.loc[idx, 'Shock Informaton'] = 1\n",
    "        dim_ids.append(dim_to_id[\"Shock Informaton\"])\n",
    "    if \"Effects Systems And Networks\" in dim:\n",
    "        final_df.loc[idx, 'Effects Systems And Networks'] = 1\n",
    "        dim_ids.append(dim_to_id[\"Effects Systems And Networks\"])\n",
    "    if \"Effects On Population\" in dim:\n",
    "        final_df.loc[idx, 'Effects On Population'] = 1\n",
    "        dim_ids.append(dim_to_id[\"Effects On Population\"])\n",
    "    if \"Capacities & Response\" in dim:\n",
    "        final_df.loc[idx, 'Capacities & Response'] = 1\n",
    "        dim_ids.append(dim_to_id[\"Capacities & Response\"])\n",
    "    if \"At Risk\" in dim:\n",
    "        final_df.loc[idx, 'At Risk'] = 1\n",
    "        dim_ids.append(dim_to_id[\"At Risk\"])\n",
    "    if \"Scope & Scale\" in dim:\n",
    "        final_df.loc[idx, 'Scope & Scale'] = 1\n",
    "        dim_ids.append(dim_to_id[\"Scope & Scale\"])\n",
    "    if \"Impact\" in dim:\n",
    "        final_df.loc[idx, 'Impact'] = 1\n",
    "        dim_ids.append(dim_to_id[\"Impact\"])\n",
    "    if \"Humanitarian Conditions\" in dim:\n",
    "        final_df.loc[idx, 'Humanitarian Conditions'] = 1\n",
    "        dim_ids.append(dim_to_id[\"Humanitarian Conditions\"])\n",
    "    if \"Priorities\" in dim:\n",
    "        final_df.loc[idx, 'Priorities'] = 1\n",
    "        dim_ids.append(dim_to_id[\"Priorities\"])\n",
    "    if \"Context\" in dim:\n",
    "        final_df.loc[idx, 'Context'] = 1\n",
    "        dim_ids.append(dim_to_id[\"Context\"])\n",
    "    final_df.loc[idx, 'dimension_ids'] = str(dim_ids)"
   ]
  },
  {
   "cell_type": "code",
   "execution_count": 49,
   "metadata": {
    "ExecuteTime": {
     "end_time": "2021-05-20T12:09:44.332947Z",
     "start_time": "2021-05-20T12:09:43.028818Z"
    }
   },
   "outputs": [],
   "source": [
    "final_df['sector_ids'] = final_df['sector_ids'].apply(literal_eval)\n",
    "final_df['dimension_ids'] = final_df['dimension_ids'].apply(literal_eval)"
   ]
  },
  {
   "cell_type": "markdown",
   "metadata": {},
   "source": [
    "### Stratified Split"
   ]
  },
  {
   "cell_type": "code",
   "execution_count": 50,
   "metadata": {
    "ExecuteTime": {
     "end_time": "2021-05-20T12:09:44.686617Z",
     "start_time": "2021-05-20T12:09:44.334077Z"
    }
   },
   "outputs": [],
   "source": [
    "import random\n",
    "from collections import Counter\n",
    "import numpy as np\n",
    "import pandas as pd\n",
    "from skmultilearn.model_selection import iterative_train_test_split\n",
    "from skmultilearn.model_selection.measures import get_combination_wise_output_matrix"
   ]
  },
  {
   "cell_type": "code",
   "execution_count": 51,
   "metadata": {
    "ExecuteTime": {
     "end_time": "2021-05-20T12:09:44.704012Z",
     "start_time": "2021-05-20T12:09:44.689744Z"
    }
   },
   "outputs": [
    {
     "data": {
      "text/plain": [
       "Shelter              6398\n",
       "Livelihoods         13390\n",
       "Protection          23753\n",
       "Shelter and NFIs     1821\n",
       "NFI                   725\n",
       "Food Security       13270\n",
       "Logistics            2277\n",
       "Cross               25045\n",
       "CCCM                  604\n",
       "Agriculture          2225\n",
       "Health              30611\n",
       "Nutrition            4694\n",
       "Education            8397\n",
       "WASH                10048\n",
       "dtype: int64"
      ]
     },
     "execution_count": 51,
     "metadata": {},
     "output_type": "execute_result"
    }
   ],
   "source": [
    "final_df[[\n",
    "    'Shelter',\n",
    "    'Livelihoods',\n",
    "    'Protection',\n",
    "    'Shelter and NFIs',\n",
    "    'NFI',\n",
    "    'Food Security',\n",
    "    'Logistics',\n",
    "    'Cross',\n",
    "    'CCCM',\n",
    "    'Agriculture',\n",
    "    'Health',\n",
    "    'Nutrition',\n",
    "    'Education',\n",
    "    'WASH',\n",
    "]].sum().astype(np.int)"
   ]
  },
  {
   "cell_type": "code",
   "execution_count": 52,
   "metadata": {
    "ExecuteTime": {
     "end_time": "2021-05-20T12:09:44.708508Z",
     "start_time": "2021-05-20T12:09:44.705329Z"
    }
   },
   "outputs": [
    {
     "data": {
      "text/plain": [
       "(107568, 46)"
      ]
     },
     "execution_count": 52,
     "metadata": {},
     "output_type": "execute_result"
    }
   ],
   "source": [
    "final_df.shape"
   ]
  },
  {
   "cell_type": "code",
   "execution_count": 53,
   "metadata": {
    "ExecuteTime": {
     "end_time": "2021-05-20T12:09:44.717266Z",
     "start_time": "2021-05-20T12:09:44.712901Z"
    }
   },
   "outputs": [],
   "source": [
    "def train_val_test_df_split(df):\n",
    "    num_sectors = len(sec_to_id)\n",
    "    num_classes = num_sectors + len(dim_to_id)\n",
    "    labels = np.zeros([len(df), num_classes])\n",
    "    for i, (sec_ids, dim_ids) in enumerate(zip(df[\"sector_ids\"], df[\"dimension_ids\"])):\n",
    "        for sec_id in sec_ids:\n",
    "            labels[i, sec_id] = 1\n",
    "        for dim_id in dim_ids:\n",
    "            labels[i, dim_id] = 1\n",
    "    X_train, y_train, X_test, y_test = iterative_train_test_split(\n",
    "        df[\"excerpt\"].to_numpy().reshape(-1, 1), labels, test_size=0.1)\n",
    "    X_train, y_train, X_val, y_val = iterative_train_test_split(X_train,\n",
    "                                                                y_train,\n",
    "                                                                test_size=0.1)\n",
    "    return {\n",
    "        \"X_train\": X_train,\n",
    "        \"y_train\": y_train,\n",
    "        \"X_test\": X_test,\n",
    "        \"y_test\": y_test,\n",
    "        \"X_val\": X_val,\n",
    "        \"y_val\": y_val\n",
    "    }"
   ]
  },
  {
   "cell_type": "code",
   "execution_count": 54,
   "metadata": {
    "ExecuteTime": {
     "end_time": "2021-05-20T12:11:52.486568Z",
     "start_time": "2021-05-20T12:09:44.719272Z"
    }
   },
   "outputs": [],
   "source": [
    "X_train, y_train, X_test, y_test, X_val, y_val = list(\n",
    "    train_val_test_df_split(final_df).values())"
   ]
  },
  {
   "cell_type": "code",
   "execution_count": 55,
   "metadata": {
    "ExecuteTime": {
     "end_time": "2021-05-20T12:11:52.612742Z",
     "start_time": "2021-05-20T12:11:52.487658Z"
    }
   },
   "outputs": [],
   "source": [
    "final_df_train = final_df[final_df[\"excerpt\"].isin(X_train.reshape(-1))]\n",
    "final_df_val = final_df[final_df[\"excerpt\"].isin(X_val.reshape(-1))]\n",
    "final_df_test = final_df[final_df[\"excerpt\"].isin(X_test.reshape(-1))]"
   ]
  },
  {
   "cell_type": "code",
   "execution_count": 56,
   "metadata": {
    "ExecuteTime": {
     "end_time": "2021-05-20T12:11:52.622432Z",
     "start_time": "2021-05-20T12:11:52.615832Z"
    }
   },
   "outputs": [
    {
     "data": {
      "text/plain": [
       "(Int64Index([], dtype='int64'),\n",
       " Int64Index([], dtype='int64'),\n",
       " Int64Index([], dtype='int64'))"
      ]
     },
     "execution_count": 56,
     "metadata": {},
     "output_type": "execute_result"
    }
   ],
   "source": [
    "final_df_train.index & final_df_val.index, final_df_train.index & final_df_test.index, final_df_test.index & final_df_val.index "
   ]
  },
  {
   "cell_type": "code",
   "execution_count": 57,
   "metadata": {
    "ExecuteTime": {
     "end_time": "2021-05-20T12:11:54.768870Z",
     "start_time": "2021-05-20T12:11:52.624260Z"
    }
   },
   "outputs": [],
   "source": [
    "final_df_train.to_csv(\"data_v0.3_train.csv\", index=None)\n",
    "final_df_val.to_csv(\"data_v0.3_val.csv\", index=None)\n",
    "final_df_test.to_csv(\"data_v0.3_test.csv\", index=None)"
   ]
  },
  {
   "cell_type": "code",
   "execution_count": null,
   "metadata": {},
   "outputs": [],
   "source": []
  }
 ],
 "metadata": {
  "kernelspec": {
   "display_name": "Python 3.8.5 64-bit ('base': conda)",
   "language": "python",
   "name": "python385jvsc74a57bd0f487e277ea6a75fd1c7c341a1deb40c7861148cbc006695943c5304af00fedbe"
  },
  "language_info": {
   "codemirror_mode": {
    "name": "ipython",
    "version": 3
   },
   "file_extension": ".py",
   "mimetype": "text/x-python",
   "name": "python",
   "nbconvert_exporter": "python",
   "pygments_lexer": "ipython3",
   "version": "3.8.5"
  }
 },
 "nbformat": 4,
 "nbformat_minor": 4
}
