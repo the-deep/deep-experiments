{
 "cells": [
  {
   "cell_type": "raw",
   "metadata": {
    "ExecuteTime": {
     "end_time": "2021-08-20T15:12:01.623550Z",
     "start_time": "2021-08-20T15:12:01.618026Z"
    }
   },
   "source": [
    "-- 1. user_names.csv\n",
    "SELECT \n",
    "  id, \n",
    "  first_name, \n",
    "  last_name \n",
    "FROM \n",
    "  auth_user\n",
    "  \n",
    "-- 2. analysis_frameworks.csv\n",
    "SELECT \n",
    "  * \n",
    "FROM \n",
    "  analysis_framework_analysisframework\n",
    "\n",
    "-- project\n",
    "SELECT \n",
    "  pp.*, \n",
    "  user_profile.organization, \n",
    "  e_date.latest_entry_date \n",
    "FROM \n",
    "  project_project pp \n",
    "  INNER JOIN user_profile ON user_profile.user_id = pp.created_by_id \n",
    "  INNER JOIN (\n",
    "    SELECT \n",
    "      MAX(ee.created_at) as latest_entry_date, \n",
    "      ee.project_id \n",
    "    FROM \n",
    "      entry_entry ee \n",
    "    GROUP BY \n",
    "      ee.project_id\n",
    "  ) e_date ON e_date.project_id = pp.id \n",
    "-- WHERE \n",
    "--   pp.status = 'active' \n",
    "--   OR pp.is_private = TRUE\n",
    "\n",
    "\n",
    "-- geo_region\n",
    "SELECT \n",
    "  geo_region.*, project_project_regions.project_id\n",
    "FROM \n",
    "  geo_region \n",
    "INNER JOIN project_project_regions ON project_project_regions.region_id = geo_region.id\n",
    "WHERE \n",
    "  geo_region.id IN (\n",
    "    SELECT \n",
    "      region_id \n",
    "    FROM \n",
    "      project_project_regions \n",
    "    WHERE \n",
    "      project_id IN (\n",
    "        SELECT \n",
    "          id \n",
    "        FROM \n",
    "          project_project pp \n",
    "--         WHERE \n",
    "--           pp.status = 'active' \n",
    "--           OR pp.is_private = TRUE\n",
    "      )\n",
    "  )"
   ]
  },
  {
   "cell_type": "code",
   "execution_count": 1,
   "metadata": {
    "ExecuteTime": {
     "end_time": "2021-08-23T15:31:15.688644Z",
     "start_time": "2021-08-23T15:31:15.552641Z"
    }
   },
   "outputs": [],
   "source": [
    "import json\n",
    "from ast import literal_eval\n",
    "import pandas as pd"
   ]
  },
  {
   "cell_type": "code",
   "execution_count": 2,
   "metadata": {
    "ExecuteTime": {
     "end_time": "2021-08-23T15:31:18.530554Z",
     "start_time": "2021-08-23T15:31:16.089034Z"
    }
   },
   "outputs": [],
   "source": [
    "projects = pd.read_csv(\"projects.csv\")\n",
    "users = pd.read_csv(\"user_names.csv\")\n",
    "afs = pd.read_csv(\"analysis_frameworks_2.csv\")\n",
    "regions = pd.read_csv(\"geo_regions.csv\")"
   ]
  },
  {
   "cell_type": "code",
   "execution_count": 3,
   "metadata": {
    "ExecuteTime": {
     "end_time": "2021-08-23T15:31:19.033713Z",
     "start_time": "2021-08-23T15:31:19.008593Z"
    }
   },
   "outputs": [],
   "source": [
    "projects[\"stats_cache\"] = projects[\"stats_cache\"].apply(json.loads)\n",
    "##\n",
    "projects[\"number_of_entries\"] = projects[\"stats_cache\"].apply(\n",
    "    lambda x: int(x[\"number_of_entries\"]))\n",
    "##\n",
    "projects[\"number_of_users\"] = projects[\"stats_cache\"].apply(\n",
    "    lambda x: int(x[\"number_of_users\"]))\n",
    "##\n",
    "projects[\"number_of_leads_tagged\"] = projects[\"stats_cache\"].apply(\n",
    "    lambda x: int(x[\"number_of_leads_tagged\"]))\n",
    "##\n",
    "projects[\"number_of_leads_tagged_and_verified\"] = projects[\n",
    "    \"stats_cache\"].apply(\n",
    "        lambda x: int(x[\"number_of_leads_tagged_and_verified\"]))\n",
    "##\n",
    "projects = projects[projects[\"number_of_entries\"] > 0]\n",
    "##\n",
    "projects[\"created_at\"] = pd.to_datetime(\n",
    "    projects[\"created_at\"]).dt.tz_localize(None)\n",
    "projects[\"latest_entry_date\"] = pd.to_datetime(\n",
    "    projects[\"latest_entry_date\"]).dt.tz_localize(None)"
   ]
  },
  {
   "cell_type": "code",
   "execution_count": 4,
   "metadata": {
    "ExecuteTime": {
     "end_time": "2021-08-23T15:31:22.853195Z",
     "start_time": "2021-08-23T15:31:19.538389Z"
    }
   },
   "outputs": [],
   "source": [
    "regions[\"geo_options\"] = regions[\"geo_options\"].apply(json.loads)\n",
    "def get_country(x):\n",
    "    if x:\n",
    "        for i in x:\n",
    "            if i['label'].startswith(\"Country / \"):\n",
    "                return i['label'][len(\"Country / \"):]\n",
    "        return x[0]['label']\n",
    "    else:\n",
    "        return None\n",
    "regions[\"country\"] = regions[\"geo_options\"].apply(get_country)"
   ]
  },
  {
   "cell_type": "code",
   "execution_count": 5,
   "metadata": {
    "ExecuteTime": {
     "end_time": "2021-08-23T15:31:23.921810Z",
     "start_time": "2021-08-23T15:31:23.755851Z"
    }
   },
   "outputs": [],
   "source": [
    "countries = regions[[\"project_id\", \"country\"]].copy()\n",
    "def countries_to_str(x):\n",
    "    if x is None:\n",
    "        return None\n",
    "    final = []\n",
    "    for i in x:\n",
    "        if i is None:\n",
    "            continue\n",
    "        if i.endswith(\" (cloned)\"):\n",
    "            i = i[:-len(\" (cloned)\")]\n",
    "        final.append(i)\n",
    "    return ', '.join([i for i in set(final) if i])\n",
    "countries[\"countries\"] = countries.groupby(\"project_id\")['country'].transform(countries_to_str)\n",
    "countries = countries.drop_duplicates(subset=[\"project_id\", \"countries\"])[[\"project_id\", \"countries\"]]"
   ]
  },
  {
   "cell_type": "code",
   "execution_count": 6,
   "metadata": {
    "ExecuteTime": {
     "end_time": "2021-08-23T15:31:27.101547Z",
     "start_time": "2021-08-23T15:31:27.073302Z"
    }
   },
   "outputs": [],
   "source": [
    "projects = pd.merge(\n",
    "    projects,\n",
    "    countries,\n",
    "    left_on=\"id\",\n",
    "    right_on=\"project_id\",\n",
    "    suffixes=('', ''),\n",
    "    how=\"left\"\n",
    ")"
   ]
  },
  {
   "cell_type": "code",
   "execution_count": 7,
   "metadata": {
    "ExecuteTime": {
     "end_time": "2021-08-23T15:31:29.329463Z",
     "start_time": "2021-08-23T15:31:29.322653Z"
    }
   },
   "outputs": [],
   "source": [
    "projects = projects[projects[\"title\"].apply(lambda t: not(\"test\" in t.lower() or \"train\" in t.lower()))]"
   ]
  },
  {
   "cell_type": "code",
   "execution_count": 8,
   "metadata": {
    "ExecuteTime": {
     "end_time": "2021-08-23T15:31:40.580776Z",
     "start_time": "2021-08-23T15:31:40.569825Z"
    }
   },
   "outputs": [],
   "source": [
    "projects = pd.merge(projects,\n",
    "                    users,\n",
    "                    how=\"left\",\n",
    "                    left_on=\"created_by_id\",\n",
    "                    right_on=\"id\",\n",
    "                    suffixes=(\"_project\", \"_user\"))\n",
    "projects[\"Created by\"] = projects[\"first_name\"] + \" \" + projects[\"last_name\"]\n",
    "projects = projects[[\n",
    "    'title', 'modified_by_id', 'analysis_framework_id', 'description',\n",
    "    'number_of_entries', \"Created by\", \"organization\", \"created_at\",\n",
    "    \"is_private\", \"status\", 'number_of_users', 'number_of_leads_tagged',\n",
    "       'number_of_leads_tagged_and_verified', \"latest_entry_date\", \"countries\"\n",
    "]]"
   ]
  },
  {
   "cell_type": "code",
   "execution_count": 9,
   "metadata": {
    "ExecuteTime": {
     "end_time": "2021-08-23T15:31:54.887819Z",
     "start_time": "2021-08-23T15:31:54.877193Z"
    }
   },
   "outputs": [],
   "source": [
    "projects = pd.merge(projects,\n",
    "                    users,\n",
    "                    how=\"left\",\n",
    "                    left_on=\"modified_by_id\",\n",
    "                    right_on=\"id\",\n",
    "                    suffixes=(\"\", \"_user\"))\n",
    "projects[\"Modified by\"] = projects[\"first_name\"] + \" \" + projects[\"last_name\"]\n",
    "projects = projects[[\n",
    "    'title', 'analysis_framework_id', 'description', 'number_of_entries',\n",
    "    \"Created by\", \"Modified by\", \"organization\", \"created_at\", \"is_private\",\n",
    "    \"status\", 'number_of_users', 'number_of_leads_tagged',\n",
    "       'number_of_leads_tagged_and_verified', \"latest_entry_date\", \"countries\"\n",
    "]]"
   ]
  },
  {
   "cell_type": "code",
   "execution_count": 10,
   "metadata": {
    "ExecuteTime": {
     "end_time": "2021-08-23T15:32:16.865959Z",
     "start_time": "2021-08-23T15:32:16.855247Z"
    }
   },
   "outputs": [],
   "source": [
    "projects = pd.merge(projects,\n",
    "                    afs,\n",
    "                    how=\"left\",\n",
    "                    left_on=\"analysis_framework_id\",\n",
    "                    right_on=\"id\",\n",
    "                    suffixes=(\"\", \"_af\"))\n",
    "projects[\"Analysis Framework Title\"] = projects[\"title_af\"]\n",
    "projects = projects[[\n",
    "    'title', 'number_of_entries', \"Created by\", \"Modified by\",\n",
    "    \"Analysis Framework Title\", \"organization\", \"created_at\", \"is_private\",\n",
    "    \"status\", \"description\", 'number_of_users', 'number_of_leads_tagged', \"latest_entry_date\", \"countries\"\n",
    "]]"
   ]
  },
  {
   "cell_type": "code",
   "execution_count": 11,
   "metadata": {
    "ExecuteTime": {
     "end_time": "2021-08-23T15:32:17.724420Z",
     "start_time": "2021-08-23T15:32:17.721522Z"
    }
   },
   "outputs": [],
   "source": [
    "projects.sort_values(\"Analysis Framework Title\", inplace=True)"
   ]
  },
  {
   "cell_type": "code",
   "execution_count": 12,
   "metadata": {
    "ExecuteTime": {
     "end_time": "2021-08-23T15:32:18.891766Z",
     "start_time": "2021-08-23T15:32:18.884340Z"
    }
   },
   "outputs": [
    {
     "data": {
      "text/plain": [
       "Index(['title', 'number_of_entries', 'Created by', 'Modified by',\n",
       "       'Analysis Framework Title', 'organization', 'created_at', 'is_private',\n",
       "       'status', 'description', 'number_of_users', 'number_of_leads_tagged',\n",
       "       'latest_entry_date', 'countries'],\n",
       "      dtype='object')"
      ]
     },
     "execution_count": 12,
     "metadata": {},
     "output_type": "execute_result"
    }
   ],
   "source": [
    "projects.columns"
   ]
  },
  {
   "cell_type": "code",
   "execution_count": 13,
   "metadata": {
    "ExecuteTime": {
     "end_time": "2021-08-23T15:32:28.781677Z",
     "start_time": "2021-08-23T15:32:28.760506Z"
    },
    "scrolled": true
   },
   "outputs": [
    {
     "data": {
      "text/html": [
       "<div>\n",
       "<style scoped>\n",
       "    .dataframe tbody tr th:only-of-type {\n",
       "        vertical-align: middle;\n",
       "    }\n",
       "\n",
       "    .dataframe tbody tr th {\n",
       "        vertical-align: top;\n",
       "    }\n",
       "\n",
       "    .dataframe thead th {\n",
       "        text-align: right;\n",
       "    }\n",
       "</style>\n",
       "<table border=\"1\" class=\"dataframe\">\n",
       "  <thead>\n",
       "    <tr style=\"text-align: right;\">\n",
       "      <th></th>\n",
       "      <th>Project Title</th>\n",
       "      <th>Number of Entries</th>\n",
       "      <th>Created by</th>\n",
       "      <th>Modified by</th>\n",
       "      <th>Analysis Framework Title</th>\n",
       "      <th>Organization</th>\n",
       "      <th>Created at</th>\n",
       "      <th>Is Private?</th>\n",
       "      <th>Status</th>\n",
       "      <th>Description</th>\n",
       "      <th>Number of Users</th>\n",
       "      <th>Number of Leads Tagged</th>\n",
       "      <th>Latest Entry Date</th>\n",
       "      <th>Geo Areas</th>\n",
       "    </tr>\n",
       "  </thead>\n",
       "  <tbody>\n",
       "    <tr>\n",
       "      <th>410</th>\n",
       "      <td>Nigeria Elections</td>\n",
       "      <td>38</td>\n",
       "      <td>Lauren Hargraves</td>\n",
       "      <td>Lauren Hargraves</td>\n",
       "      <td>(Test) Emergency Preparedness Framework</td>\n",
       "      <td>UNHCR</td>\n",
       "      <td>2019-02-27 10:59:05.875585</td>\n",
       "      <td>False</td>\n",
       "      <td>active</td>\n",
       "      <td>Analysis on Nigeria 2019 elections</td>\n",
       "      <td>1</td>\n",
       "      <td>10</td>\n",
       "      <td>2019-02-27 13:35:40.795081</td>\n",
       "      <td>Nigeria, Ghana, Mauritania, Chad</td>\n",
       "    </tr>\n",
       "    <tr>\n",
       "      <th>487</th>\n",
       "      <td>Balbasaur</td>\n",
       "      <td>68</td>\n",
       "      <td>Aditya Khatri</td>\n",
       "      <td>Safar Ligal</td>\n",
       "      <td>2020 Okular Analytics Framework</td>\n",
       "      <td>Togglecorp</td>\n",
       "      <td>2018-01-08 12:12:03.727026</td>\n",
       "      <td>False</td>\n",
       "      <td>active</td>\n",
       "      <td>Bulba bulba</td>\n",
       "      <td>13</td>\n",
       "      <td>7</td>\n",
       "      <td>2021-05-19 08:44:47.022857</td>\n",
       "      <td>Colombia, Syrian Arab Republic, Nepal</td>\n",
       "    </tr>\n",
       "    <tr>\n",
       "      <th>444</th>\n",
       "      <td>Cluster Viz</td>\n",
       "      <td>2</td>\n",
       "      <td>Aditya Khatri</td>\n",
       "      <td>Aditya Khatri</td>\n",
       "      <td>2020 Okular Analytics Framework</td>\n",
       "      <td>Togglecorp</td>\n",
       "      <td>2020-05-06 08:14:15.441216</td>\n",
       "      <td>False</td>\n",
       "      <td>active</td>\n",
       "      <td>NaN</td>\n",
       "      <td>25</td>\n",
       "      <td>2</td>\n",
       "      <td>2020-06-19 14:21:25.391577</td>\n",
       "      <td>Ecuador, Colombia, Nepal</td>\n",
       "    </tr>\n",
       "    <tr>\n",
       "      <th>443</th>\n",
       "      <td>2ndo proyecto de prueba Xavier</td>\n",
       "      <td>2</td>\n",
       "      <td>Xavier Lumen</td>\n",
       "      <td>Xavier Lumen</td>\n",
       "      <td>2020 Okular Analytics Framework</td>\n",
       "      <td>Okular</td>\n",
       "      <td>2020-06-05 07:27:10.263637</td>\n",
       "      <td>False</td>\n",
       "      <td>active</td>\n",
       "      <td>NaN</td>\n",
       "      <td>6</td>\n",
       "      <td>1</td>\n",
       "      <td>2020-06-05 13:31:28.947160</td>\n",
       "      <td>Spain</td>\n",
       "    </tr>\n",
       "    <tr>\n",
       "      <th>428</th>\n",
       "      <td>Board Demo</td>\n",
       "      <td>53</td>\n",
       "      <td>Ewan Oglethorpe</td>\n",
       "      <td>Ewan Oglethorpe</td>\n",
       "      <td>2020 Okular Analytics Framework</td>\n",
       "      <td>godeep</td>\n",
       "      <td>2018-03-16 05:28:11.444064</td>\n",
       "      <td>False</td>\n",
       "      <td>active</td>\n",
       "      <td>NaN</td>\n",
       "      <td>30</td>\n",
       "      <td>17</td>\n",
       "      <td>2020-10-01 13:52:06.275465</td>\n",
       "      <td>t / , Kyrgyzstan, Tajikistan, Burundi, Saudi A...</td>\n",
       "    </tr>\n",
       "    <tr>\n",
       "      <th>...</th>\n",
       "      <td>...</td>\n",
       "      <td>...</td>\n",
       "      <td>...</td>\n",
       "      <td>...</td>\n",
       "      <td>...</td>\n",
       "      <td>...</td>\n",
       "      <td>...</td>\n",
       "      <td>...</td>\n",
       "      <td>...</td>\n",
       "      <td>...</td>\n",
       "      <td>...</td>\n",
       "      <td>...</td>\n",
       "      <td>...</td>\n",
       "      <td>...</td>\n",
       "    </tr>\n",
       "    <tr>\n",
       "      <th>314</th>\n",
       "      <td>OCHA Burundi</td>\n",
       "      <td>87</td>\n",
       "      <td>Ana Maria Pereira</td>\n",
       "      <td>Ana Maria Pereira</td>\n",
       "      <td>_aa analysis introduction</td>\n",
       "      <td>United Nations Office for the Coordination of ...</td>\n",
       "      <td>2018-04-16 14:18:21.366568</td>\n",
       "      <td>False</td>\n",
       "      <td>active</td>\n",
       "      <td>NaN</td>\n",
       "      <td>6</td>\n",
       "      <td>22</td>\n",
       "      <td>2018-05-21 13:37:53.926522</td>\n",
       "      <td>Burundi</td>\n",
       "    </tr>\n",
       "    <tr>\n",
       "      <th>149</th>\n",
       "      <td>Prueba iMMAP Colombia</td>\n",
       "      <td>7</td>\n",
       "      <td>Alberto Castillo Aroca</td>\n",
       "      <td>Alberto Castillo Aroca</td>\n",
       "      <td>iMMAP Framework - Prueba</td>\n",
       "      <td>iMMAP</td>\n",
       "      <td>2020-01-13 15:29:42.555921</td>\n",
       "      <td>False</td>\n",
       "      <td>active</td>\n",
       "      <td>Una prueba para aprender DEEP</td>\n",
       "      <td>9</td>\n",
       "      <td>5</td>\n",
       "      <td>2020-06-08 20:30:19.254933</td>\n",
       "      <td>Colombia, Venezuela</td>\n",
       "    </tr>\n",
       "    <tr>\n",
       "      <th>94</th>\n",
       "      <td>SERF indicator</td>\n",
       "      <td>17</td>\n",
       "      <td>Faizal Thamrin</td>\n",
       "      <td>Faizal Thamrin</td>\n",
       "      <td>serf-indicators</td>\n",
       "      <td>InaSAFE (Indonesia)</td>\n",
       "      <td>2020-09-03 03:07:01.254255</td>\n",
       "      <td>False</td>\n",
       "      <td>active</td>\n",
       "      <td>NaN</td>\n",
       "      <td>3</td>\n",
       "      <td>4</td>\n",
       "      <td>2020-11-03 03:02:07.768653</td>\n",
       "      <td>NaN</td>\n",
       "    </tr>\n",
       "    <tr>\n",
       "      <th>445</th>\n",
       "      <td>som_2042X</td>\n",
       "      <td>159</td>\n",
       "      <td>Elliott Messeiller</td>\n",
       "      <td>Elliott Messeiller</td>\n",
       "      <td>somalia_sdr</td>\n",
       "      <td>REACH Initiative (REACH Initiative)</td>\n",
       "      <td>2020-05-04 09:21:56.043819</td>\n",
       "      <td>False</td>\n",
       "      <td>active</td>\n",
       "      <td>NaN</td>\n",
       "      <td>4</td>\n",
       "      <td>16</td>\n",
       "      <td>2020-05-14 14:59:30.618090</td>\n",
       "      <td>Somalia</td>\n",
       "    </tr>\n",
       "    <tr>\n",
       "      <th>307</th>\n",
       "      <td>team fh</td>\n",
       "      <td>13</td>\n",
       "      <td>Kriti Chhetri</td>\n",
       "      <td>Kriti Chhetri</td>\n",
       "      <td>team fh</td>\n",
       "      <td>Togglecorp</td>\n",
       "      <td>2018-07-03 09:08:05.620442</td>\n",
       "      <td>False</td>\n",
       "      <td>active</td>\n",
       "      <td>NaN</td>\n",
       "      <td>2</td>\n",
       "      <td>3</td>\n",
       "      <td>2018-07-03 10:06:45.923788</td>\n",
       "      <td>Akrotiri and Dhekelia</td>\n",
       "    </tr>\n",
       "  </tbody>\n",
       "</table>\n",
       "<p>488 rows × 14 columns</p>\n",
       "</div>"
      ],
      "text/plain": [
       "                      Project Title  Number of Entries  \\\n",
       "410               Nigeria Elections                 38   \n",
       "487                       Balbasaur                 68   \n",
       "444                     Cluster Viz                  2   \n",
       "443  2ndo proyecto de prueba Xavier                  2   \n",
       "428                      Board Demo                 53   \n",
       "..                              ...                ...   \n",
       "314                    OCHA Burundi                 87   \n",
       "149           Prueba iMMAP Colombia                  7   \n",
       "94                   SERF indicator                 17   \n",
       "445                       som_2042X                159   \n",
       "307                         team fh                 13   \n",
       "\n",
       "                 Created by             Modified by  \\\n",
       "410        Lauren Hargraves        Lauren Hargraves   \n",
       "487           Aditya Khatri             Safar Ligal   \n",
       "444           Aditya Khatri           Aditya Khatri   \n",
       "443            Xavier Lumen            Xavier Lumen   \n",
       "428         Ewan Oglethorpe         Ewan Oglethorpe   \n",
       "..                      ...                     ...   \n",
       "314       Ana Maria Pereira       Ana Maria Pereira   \n",
       "149  Alberto Castillo Aroca  Alberto Castillo Aroca   \n",
       "94           Faizal Thamrin          Faizal Thamrin   \n",
       "445      Elliott Messeiller      Elliott Messeiller   \n",
       "307           Kriti Chhetri           Kriti Chhetri   \n",
       "\n",
       "                    Analysis Framework Title  \\\n",
       "410  (Test) Emergency Preparedness Framework   \n",
       "487          2020 Okular Analytics Framework   \n",
       "444          2020 Okular Analytics Framework   \n",
       "443          2020 Okular Analytics Framework   \n",
       "428          2020 Okular Analytics Framework   \n",
       "..                                       ...   \n",
       "314                _aa analysis introduction   \n",
       "149                 iMMAP Framework - Prueba   \n",
       "94                           serf-indicators   \n",
       "445                              somalia_sdr   \n",
       "307                                  team fh   \n",
       "\n",
       "                                          Organization  \\\n",
       "410                                              UNHCR   \n",
       "487                                         Togglecorp   \n",
       "444                                         Togglecorp   \n",
       "443                                             Okular   \n",
       "428                                             godeep   \n",
       "..                                                 ...   \n",
       "314  United Nations Office for the Coordination of ...   \n",
       "149                                              iMMAP   \n",
       "94                                 InaSAFE (Indonesia)   \n",
       "445                REACH Initiative (REACH Initiative)   \n",
       "307                                         Togglecorp   \n",
       "\n",
       "                    Created at  Is Private?  Status  \\\n",
       "410 2019-02-27 10:59:05.875585        False  active   \n",
       "487 2018-01-08 12:12:03.727026        False  active   \n",
       "444 2020-05-06 08:14:15.441216        False  active   \n",
       "443 2020-06-05 07:27:10.263637        False  active   \n",
       "428 2018-03-16 05:28:11.444064        False  active   \n",
       "..                         ...          ...     ...   \n",
       "314 2018-04-16 14:18:21.366568        False  active   \n",
       "149 2020-01-13 15:29:42.555921        False  active   \n",
       "94  2020-09-03 03:07:01.254255        False  active   \n",
       "445 2020-05-04 09:21:56.043819        False  active   \n",
       "307 2018-07-03 09:08:05.620442        False  active   \n",
       "\n",
       "                            Description  Number of Users  \\\n",
       "410  Analysis on Nigeria 2019 elections                1   \n",
       "487                         Bulba bulba               13   \n",
       "444                                 NaN               25   \n",
       "443                                 NaN                6   \n",
       "428                                 NaN               30   \n",
       "..                                  ...              ...   \n",
       "314                                 NaN                6   \n",
       "149       Una prueba para aprender DEEP                9   \n",
       "94                                  NaN                3   \n",
       "445                                 NaN                4   \n",
       "307                                 NaN                2   \n",
       "\n",
       "     Number of Leads Tagged          Latest Entry Date  \\\n",
       "410                      10 2019-02-27 13:35:40.795081   \n",
       "487                       7 2021-05-19 08:44:47.022857   \n",
       "444                       2 2020-06-19 14:21:25.391577   \n",
       "443                       1 2020-06-05 13:31:28.947160   \n",
       "428                      17 2020-10-01 13:52:06.275465   \n",
       "..                      ...                        ...   \n",
       "314                      22 2018-05-21 13:37:53.926522   \n",
       "149                       5 2020-06-08 20:30:19.254933   \n",
       "94                        4 2020-11-03 03:02:07.768653   \n",
       "445                      16 2020-05-14 14:59:30.618090   \n",
       "307                       3 2018-07-03 10:06:45.923788   \n",
       "\n",
       "                                             Geo Areas  \n",
       "410                   Nigeria, Ghana, Mauritania, Chad  \n",
       "487              Colombia, Syrian Arab Republic, Nepal  \n",
       "444                           Ecuador, Colombia, Nepal  \n",
       "443                                              Spain  \n",
       "428  t / , Kyrgyzstan, Tajikistan, Burundi, Saudi A...  \n",
       "..                                                 ...  \n",
       "314                                            Burundi  \n",
       "149                                Colombia, Venezuela  \n",
       "94                                                 NaN  \n",
       "445                                            Somalia  \n",
       "307                              Akrotiri and Dhekelia  \n",
       "\n",
       "[488 rows x 14 columns]"
      ]
     },
     "execution_count": 13,
     "metadata": {},
     "output_type": "execute_result"
    }
   ],
   "source": [
    "projects.columns = [\n",
    "    \"Project Title\", \"Number of Entries\", \"Created by\", \"Modified by\",\n",
    "    \"Analysis Framework Title\", \"Organization\", 'Created at', 'Is Private?',\n",
    "    'Status', 'Description', 'Number of Users', 'Number of Leads Tagged',\n",
    "    \"Latest Entry Date\", \"Geo Areas\"\n",
    "]\n",
    "projects"
   ]
  },
  {
   "cell_type": "code",
   "execution_count": 14,
   "metadata": {
    "ExecuteTime": {
     "end_time": "2021-08-23T15:32:36.229526Z",
     "start_time": "2021-08-23T15:32:36.112715Z"
    }
   },
   "outputs": [],
   "source": [
    "with pd.ExcelWriter(\"Active Projects.xlsx\", datetime_format='dd/mm/YY') as writer:\n",
    "    projects[~projects[\"Is Private?\"]].drop(columns=[\"Is Private?\"]).to_excel(writer, index=None)"
   ]
  },
  {
   "cell_type": "code",
   "execution_count": 15,
   "metadata": {
    "ExecuteTime": {
     "end_time": "2021-08-23T15:32:40.859867Z",
     "start_time": "2021-08-23T15:32:40.837406Z"
    }
   },
   "outputs": [],
   "source": [
    "with pd.ExcelWriter(\"Private Projects.xlsx\", datetime_format='dd/mm/YY') as writer:\n",
    "    projects[projects[\"Is Private?\"]].drop(columns=[\"Is Private?\"]).to_excel(writer, index=None)"
   ]
  },
  {
   "cell_type": "code",
   "execution_count": 16,
   "metadata": {
    "ExecuteTime": {
     "end_time": "2021-08-23T15:32:41.795729Z",
     "start_time": "2021-08-23T15:32:41.793112Z"
    }
   },
   "outputs": [
    {
     "data": {
      "text/plain": [
       "283055"
      ]
     },
     "execution_count": 16,
     "metadata": {},
     "output_type": "execute_result"
    }
   ],
   "source": [
    "projects[\"Number of Entries\"].sum()"
   ]
  },
  {
   "cell_type": "code",
   "execution_count": null,
   "metadata": {},
   "outputs": [],
   "source": []
  }
 ],
 "metadata": {
  "kernelspec": {
   "display_name": "Python 3.8.5 64-bit ('base': conda)",
   "language": "python",
   "name": "python385jvsc74a57bd0f487e277ea6a75fd1c7c341a1deb40c7861148cbc006695943c5304af00fedbe"
  },
  "language_info": {
   "codemirror_mode": {
    "name": "ipython",
    "version": 3
   },
   "file_extension": ".py",
   "mimetype": "text/x-python",
   "name": "python",
   "nbconvert_exporter": "python",
   "pygments_lexer": "ipython3",
   "version": "3.8.5"
  },
  "varInspector": {
   "cols": {
    "lenName": 16,
    "lenType": 16,
    "lenVar": 40
   },
   "kernels_config": {
    "python": {
     "delete_cmd_postfix": "",
     "delete_cmd_prefix": "del ",
     "library": "var_list.py",
     "varRefreshCmd": "print(var_dic_list())"
    },
    "r": {
     "delete_cmd_postfix": ") ",
     "delete_cmd_prefix": "rm(",
     "library": "var_list.r",
     "varRefreshCmd": "cat(var_dic_list()) "
    }
   },
   "types_to_exclude": [
    "module",
    "function",
    "builtin_function_or_method",
    "instance",
    "_Feature"
   ],
   "window_display": false
  }
 },
 "nbformat": 4,
 "nbformat_minor": 4
}
