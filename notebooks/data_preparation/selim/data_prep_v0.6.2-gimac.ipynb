{
 "cells": [
  {
   "cell_type": "markdown",
   "metadata": {},
   "source": [
    "### Matching GIMAC Generic"
   ]
  },
  {
   "cell_type": "code",
   "execution_count": 1,
   "metadata": {
    "ExecuteTime": {
     "end_time": "2021-09-02T15:47:09.154576Z",
     "start_time": "2021-09-02T15:47:08.874492Z"
    }
   },
   "outputs": [],
   "source": [
    "import re\n",
    "import json\n",
    "import random\n",
    "from pprint import pprint\n",
    "from ast import literal_eval\n",
    "from collections import Counter, defaultdict\n",
    "import os\n",
    "\n",
    "import numpy as np\n",
    "import pandas as pd\n",
    "from tqdm.auto import tqdm"
   ]
  },
  {
   "cell_type": "code",
   "execution_count": 2,
   "metadata": {
    "ExecuteTime": {
     "end_time": "2021-09-02T15:47:09.157896Z",
     "start_time": "2021-09-02T15:47:09.156099Z"
    }
   },
   "outputs": [],
   "source": [
    "random.seed(2021)\n",
    "np.random.seed(2021)"
   ]
  },
  {
   "cell_type": "code",
   "execution_count": 3,
   "metadata": {
    "ExecuteTime": {
     "end_time": "2021-09-02T15:47:12.658084Z",
     "start_time": "2021-09-02T15:47:09.159127Z"
    },
    "code_folding": [],
    "scrolled": true
   },
   "outputs": [
    {
     "name": "stderr",
     "output_type": "stream",
     "text": [
      "/home/selim/anaconda3/lib/python3.8/site-packages/IPython/core/interactiveshell.py:3146: DtypeWarning: Columns (4) have mixed types.Specify dtype option on import or set low_memory=False.\n",
      "  has_raised = await self.run_ast_nodes(code_ast.body, cell_name,\n"
     ]
    }
   ],
   "source": [
    "# each line in this table correspond to single tagging of an entry.\n",
    "# an entry may have more than one tagging (e.g. a tag in 2D matrix, another in 1D matrix,\n",
    "# secondary tags, etc. )\n",
    "exportdata = pd.read_csv(\"exportdata.csv\")\n",
    "# I pulled entries related to projects chosen by Patrice\n",
    "entries = pd.read_csv(\"entries_of_projects_chosen_by_patrice.csv\")\n",
    "# The widgets of AF's, i.e. 2D matrices, 1D matrices, secondary tagging widgets, etc.\n",
    "af_widgets = pd.read_csv(\"af_widgets_of_interest.csv\")\n",
    "# Projects chosen by Patrice\n",
    "projects = pd.read_csv(\"projects_chosen_by_patrice.csv\")\n",
    "#\n",
    "exportables = pd.read_csv(\"af_exportables.csv\")\n",
    "# AF details\n",
    "afs = pd.read_csv(\"analysis_frameworks.csv\")\n",
    "# user ids, first names and last names\n",
    "users = pd.read_csv(\"user_names.csv\")\n",
    "# The matchin of pillar/sub-pillar names from different AFs into unified pillar/sub-pillar names\n",
    "matching_gimac = pd.read_csv(\"gimac_to_vaf.csv\")"
   ]
  },
  {
   "cell_type": "code",
   "execution_count": 4,
   "metadata": {},
   "outputs": [],
   "source": [
    "dirName = 'generated_entries'\n",
    "if not os.path.exists(dirName):\n",
    "    os.mkdir(dirName)"
   ]
  },
  {
   "cell_type": "code",
   "execution_count": 5,
   "metadata": {
    "ExecuteTime": {
     "end_time": "2021-09-02T15:47:12.699262Z",
     "start_time": "2021-09-02T15:47:12.659249Z"
    }
   },
   "outputs": [
    {
     "data": {
      "text/plain": [
       "[1465]"
      ]
     },
     "execution_count": 5,
     "metadata": {},
     "output_type": "execute_result"
    }
   ],
   "source": [
    "af_id_to_title = afs[[\"id\", \"title\"]].set_index(\"id\")[\"title\"].to_dict()\n",
    "af_title_to_ids = afs[[\"id\", \"title\"]].groupby(\"title\")[\"id\"].apply(list).to_dict()\n",
    "af_title_to_ids[\"GIMAC Generic\"]"
   ]
  },
  {
   "cell_type": "code",
   "execution_count": 6,
   "metadata": {
    "ExecuteTime": {
     "end_time": "2021-09-02T15:47:12.703789Z",
     "start_time": "2021-09-02T15:47:12.700409Z"
    }
   },
   "outputs": [
    {
     "data": {
      "text/plain": [
       "Index(['id', 'data', 'entry_id', 'exportable_id'], dtype='object')"
      ]
     },
     "execution_count": 6,
     "metadata": {},
     "output_type": "execute_result"
    }
   ],
   "source": [
    "exportdata.columns"
   ]
  },
  {
   "cell_type": "code",
   "execution_count": 7,
   "metadata": {
    "ExecuteTime": {
     "end_time": "2021-09-02T15:47:12.751334Z",
     "start_time": "2021-09-02T15:47:12.705687Z"
    }
   },
   "outputs": [],
   "source": [
    "# keep \"GIMAC Generic\"'s data\n",
    "af_widgets = af_widgets[af_widgets[\"analysis_framework_id\"].eq(1465)]\n",
    "exportables = exportables[exportables[\"analysis_framework_id\"].eq(1465)]\n",
    "exportdata = exportdata[exportdata[\"exportable_id\"].isin(exportables.id)]"
   ]
  },
  {
   "cell_type": "code",
   "execution_count": 8,
   "metadata": {
    "ExecuteTime": {
     "end_time": "2021-09-02T15:47:12.767458Z",
     "start_time": "2021-09-02T15:47:12.753344Z"
    }
   },
   "outputs": [
    {
     "data": {
      "text/plain": [
       "(42220,)"
      ]
     },
     "execution_count": 8,
     "metadata": {},
     "output_type": "execute_result"
    }
   ],
   "source": [
    "exportdata[exportdata[\"exportable_id\"].isin(exportables.id)][\"entry_id\"].unique().shape"
   ]
  },
  {
   "cell_type": "code",
   "execution_count": 9,
   "metadata": {
    "ExecuteTime": {
     "end_time": "2021-09-02T15:47:12.772281Z",
     "start_time": "2021-09-02T15:47:12.768807Z"
    }
   },
   "outputs": [],
   "source": [
    "raw_name_to_tag_dict = {\n",
    "    \"Severity\":\"Severity\",\n",
    "    \"Severity (Needs assessment entries only)\":\"Severity\",\n",
    "    \"SEVERITY\":\"Severity\",\n",
    "    \n",
    "    \"Reliability\":\"Reliability\",\n",
    "    \"RELIABILITY\":\"Reliability\",\n",
    "    \n",
    "    \"Demographic Groups\":\"Demographic Groups\",\n",
    "    \"DEMOGRAPHIC GROUPS\":\"Demographic Groups\",\n",
    "    \n",
    "    \"Information date\":\"Information Date\",\n",
    "    \"Information Date\":\"Information Date\",\n",
    "    \"Date\":\"Information Date\",\n",
    "    \"DATE OF INFORMATION\":\"Information Date\",\n",
    "    \"Date range\":\"Information Date\",\n",
    "    \n",
    "    \"Geo Location\":\"Geo Location\",\n",
    "    \"LOCATION\":\"Geo Location\",\n",
    "    \"Geo location\":\"Geo Location\",\n",
    "    \"Country\":\"Geo Location\",\n",
    "    \"GEOLOCATIONS\":\"Geo Location\",\n",
    "    \n",
    "    \"Affected groups\":\"Affected Groups\",\n",
    "    \"AFFECTED GROUPS\":\"Affected Groups\",\n",
    "    \n",
    "    \"Specific Needs Groups\":\"Specific Needs Groups\",\n",
    "    \"SPECIFIC NEEDS GROUPS\":\"Specific Needs Groups\",\n",
    "}\n"
   ]
  },
  {
   "cell_type": "code",
   "execution_count": 10,
   "metadata": {
    "ExecuteTime": {
     "end_time": "2021-09-02T15:47:12.777237Z",
     "start_time": "2021-09-02T15:47:12.773689Z"
    }
   },
   "outputs": [],
   "source": [
    "def clean_titles(x):\n",
    "    if x in list(raw_name_to_tag_dict.keys()):\n",
    "        return raw_name_to_tag_dict[x]\n",
    "    return x.title()\n",
    "\n",
    "\n",
    "af_widgets['title'] = af_widgets['title'].apply(clean_titles)"
   ]
  },
  {
   "cell_type": "code",
   "execution_count": 11,
   "metadata": {
    "ExecuteTime": {
     "end_time": "2021-09-02T15:47:12.782252Z",
     "start_time": "2021-09-02T15:47:12.778613Z"
    }
   },
   "outputs": [
    {
     "data": {
      "text/plain": [
       "146    Specific Needs Groups\n",
       "208               Pre-Crisis\n",
       "209                In-Crisis\n",
       "213             Geo Location\n",
       "244                  Excerpt\n",
       "246              Shock/Event\n",
       "248              Reliability\n",
       "253       Additional Context\n",
       "254       Displaced Pop Type\n",
       "257            Cleaning Tags\n",
       "258        Population Groups\n",
       "259        Cleaning Comments\n",
       "260       Demographic Groups\n",
       "261          High Level Tags\n",
       "Name: title, dtype: object"
      ]
     },
     "execution_count": 11,
     "metadata": {},
     "output_type": "execute_result"
    }
   ],
   "source": [
    "af_widgets['title']"
   ]
  },
  {
   "cell_type": "code",
   "execution_count": 12,
   "metadata": {
    "ExecuteTime": {
     "end_time": "2021-09-02T15:47:12.791394Z",
     "start_time": "2021-09-02T15:47:12.783817Z"
    },
    "code_folding": []
   },
   "outputs": [],
   "source": [
    "# widget names of 2D matrices in the chosen AFs's\n",
    "mat2d_titles = [\n",
    "    \"Pre-Crisis\",\n",
    "    \"Shock/Event\",\n",
    "    \"In-Crisis\",\n",
    "]\n",
    "# Pandas will read json objects as strings,\n",
    "# here I am converting them into Python dict objects\n",
    "af_widgets[\"properties\"] = af_widgets[\"properties\"].apply(json.loads)\n",
    "##\n",
    "mat2d_properties_ids = af_widgets[(\n",
    "    af_widgets[\"title\"].str.title()).isin(mat2d_titles)][[\n",
    "        \"properties\", \"analysis_framework_id\"\n",
    "    ]]\n",
    "mat2d_properties = mat2d_properties_ids[\"properties\"].tolist()\n",
    "mat2d_ids = mat2d_properties_ids[\"analysis_framework_id\"].tolist()\n",
    "## 1D Matrices\n",
    "# widget names of 1D matrices in the chosen AFs's\n",
    "mat1d_titles = [\"High Level Tags\"]\n",
    "\n",
    "mat1d_properties_ids = af_widgets[(\n",
    "    af_widgets[\"title\"].str.upper()).isin(mat1d_titles)][[\n",
    "        \"properties\", \"analysis_framework_id\"\n",
    "    ]]\n",
    "mat1d_properties = mat1d_properties_ids[\"properties\"].tolist()\n",
    "mat1d_ids = mat1d_properties_ids[\"analysis_framework_id\"].tolist()"
   ]
  },
  {
   "cell_type": "code",
   "execution_count": 13,
   "metadata": {
    "ExecuteTime": {
     "end_time": "2021-09-02T15:47:12.797006Z",
     "start_time": "2021-09-02T15:47:12.792595Z"
    },
    "scrolled": true
   },
   "outputs": [],
   "source": [
    "afids_pillars_subpillars = dict()\n",
    "errors = []\n",
    "for mat, af_id in zip(mat2d_properties, mat2d_ids):\n",
    "    try:\n",
    "        dims = mat[\"data\"]['dimensions']\n",
    "        afids_pillars_subpillars[af_id] = {}\n",
    "        for dim in dims:\n",
    "            pillar = dim[\"title\"]\n",
    "            sub_pillars = []\n",
    "            for sub_pillar_dict in dim[\"subdimensions\"]:\n",
    "                sub_pillars.append(sub_pillar_dict[\"title\"])\n",
    "            afids_pillars_subpillars[af_id][pillar] = sub_pillars\n",
    "    except KeyError:\n",
    "        errors.append([mat, af_id])\n",
    "##\n",
    "afids_rows_cells = dict()\n",
    "for mat, af_id in zip(mat1d_properties, mat1d_ids):\n",
    "    try:\n",
    "        rows = mat[\"data\"]['rows']\n",
    "        afids_rows_cells[af_id] = {}\n",
    "        for row in rows:\n",
    "            pillar = row[\"title\"]\n",
    "            sub_pillars = []\n",
    "            for sub_pillar_dict in row[\"cells\"]:\n",
    "                sub_pillars.append(sub_pillar_dict[\"value\"])\n",
    "            afids_rows_cells[af_id][pillar] = sub_pillars\n",
    "    except KeyError:\n",
    "        errors.append([mat, af_id])"
   ]
  },
  {
   "cell_type": "code",
   "execution_count": 14,
   "metadata": {
    "ExecuteTime": {
     "end_time": "2021-09-02T15:47:12.832133Z",
     "start_time": "2021-09-02T15:47:12.798138Z"
    }
   },
   "outputs": [],
   "source": [
    "def extract_title(x):\n",
    "    if x[\"excel\"].get(\"title\"):\n",
    "        return x[\"excel\"][\"title\"]\n",
    "    elif x[\"excel\"].get(\"type\") == \"multiple\":\n",
    "        return x[\"excel\"][\"titles\"]\n",
    "##\n",
    "exportables[\"data\"] = exportables[\"data\"].apply(literal_eval)\n",
    "exportable_titles = exportables[\"data\"].apply(extract_title).tolist()"
   ]
  },
  {
   "cell_type": "code",
   "execution_count": 15,
   "metadata": {
    "ExecuteTime": {
     "end_time": "2021-09-02T15:47:12.899407Z",
     "start_time": "2021-09-02T15:47:12.833821Z"
    }
   },
   "outputs": [
    {
     "name": "stdout",
     "output_type": "stream",
     "text": [
      "(200243, 21) (186929, 4)\n",
      "(155743, 21) (186929, 4)\n"
     ]
    }
   ],
   "source": [
    "print(entries.shape, exportdata.shape)\n",
    "entries = entries[entries[\"entry_type\"].eq(\"excerpt\") & (~entries[\"excerpt\"].isna())]\n",
    "print(entries.shape, exportdata.shape)"
   ]
  },
  {
   "cell_type": "code",
   "execution_count": 16,
   "metadata": {
    "ExecuteTime": {
     "end_time": "2021-09-02T15:47:12.903780Z",
     "start_time": "2021-09-02T15:47:12.900944Z"
    }
   },
   "outputs": [],
   "source": [
    "exid_to_exdata = dict()\n",
    "for ex_id, ex_data in zip(exportables[\"id\"], exportables[\"data\"]):\n",
    "    exid_to_exdata[ex_id] = ex_data"
   ]
  },
  {
   "cell_type": "code",
   "execution_count": 17,
   "metadata": {
    "ExecuteTime": {
     "end_time": "2021-09-02T15:47:12.907959Z",
     "start_time": "2021-09-02T15:47:12.905350Z"
    }
   },
   "outputs": [],
   "source": [
    "widget_key_id_to_title = dict()\n",
    "for w_key, w_id, title in zip(af_widgets[\"key\"], af_widgets[\"widget_id\"], af_widgets[\"title\"]):\n",
    "    widget_key_id_to_title[(w_key, w_id)] = title"
   ]
  },
  {
   "cell_type": "code",
   "execution_count": 18,
   "metadata": {
    "ExecuteTime": {
     "end_time": "2021-09-02T15:47:12.915497Z",
     "start_time": "2021-09-02T15:47:12.909347Z"
    }
   },
   "outputs": [],
   "source": [
    "def exportdata_to_tag_title(row):\n",
    "    data = json.loads(row[1])\n",
    "    wkey, wid = None, None\n",
    "    if data.get(\"common\"):\n",
    "        wkey = data.get(\"common\").get(\"widget_key\")\n",
    "        wid = data[\"common\"].get(\"widget_id\")\n",
    "    if wkey and wid:\n",
    "        if widget_key_id_to_title.get((wkey, wid)):\n",
    "            return widget_key_id_to_title.get((wkey, wid))\n",
    "    if data.get(\"report\") and data[\"report\"].get(\"other\"):\n",
    "            if len(data[\"report\"][\"other\"]) == 1 and data[\"report\"][\"other\"][0].get(\"title\"):\n",
    "                if data[\"report\"][\"other\"][0][\"title\"]:\n",
    "                    return data[\"report\"][\"other\"][0][\"title\"]\n",
    "    if isinstance(data.get(\"excel\"), list) and len(data[\"excel\"])==1 and \\\n",
    "     data[\"excel\"][0].get(\"widget_key\") and data[\"excel\"][0].get(\"widget_id\"):\n",
    "        wkey = data[\"excel\"][0][\"widget_key\"]\n",
    "        wid = data[\"excel\"][0][\"widget_id\"]\n",
    "        if widget_key_id_to_title.get((wkey, wid)):\n",
    "            return widget_key_id_to_title.get((wkey, wid))\n",
    "    exportable_id = row[3]\n",
    "    if exid_to_exdata[exportable_id][\"excel\"].get(\"title\"):\n",
    "        return exid_to_exdata[exportable_id][\"excel\"][\"title\"]\n",
    "    elif exid_to_exdata[exportable_id][\"excel\"].get(\"type\") == \"multiple\":\n",
    "        return exid_to_exdata[exportable_id][\"excel\"][\"titles\"]\n",
    "    raise"
   ]
  },
  {
   "cell_type": "code",
   "execution_count": 19,
   "metadata": {
    "ExecuteTime": {
     "end_time": "2021-09-02T15:47:14.917082Z",
     "start_time": "2021-09-02T15:47:12.919360Z"
    }
   },
   "outputs": [],
   "source": [
    "exportdata[\"tag_title\"] = exportdata.apply(exportdata_to_tag_title, axis=1)"
   ]
  },
  {
   "cell_type": "code",
   "execution_count": 20,
   "metadata": {
    "ExecuteTime": {
     "end_time": "2021-09-02T15:47:14.922470Z",
     "start_time": "2021-09-02T15:47:14.918795Z"
    }
   },
   "outputs": [],
   "source": [
    "def exportdata_to_tag_value(row):\n",
    "    data = json.loads(row[1])\n",
    "    if isinstance(data[\"excel\"], list) and len(data[\"excel\"])==1:\n",
    "        return data[\"excel\"][0][\"value\"]\n",
    "    if data[\"excel\"].get(\"type\") == \"lists\":\n",
    "        return data[\"excel\"][\"values\"]\n",
    "    if isinstance(data[\"excel\"], dict) and \"value\" in data[\"excel\"]:\n",
    "        return data[\"excel\"].get(\"value\")\n",
    "    if isinstance(data[\"excel\"], dict) and \"values\" in data[\"excel\"]:\n",
    "        return data[\"excel\"].get(\"values\")\n",
    "    elif \"values\" in data[\"common\"]:\n",
    "        return data[\"common\"][\"values\"]\n",
    "    elif \"value\" in data[\"common\"]:\n",
    "        return data[\"common\"][\"value\"]\n",
    "    raise"
   ]
  },
  {
   "cell_type": "code",
   "execution_count": 21,
   "metadata": {
    "ExecuteTime": {
     "end_time": "2021-09-02T15:47:17.123568Z",
     "start_time": "2021-09-02T15:47:14.923655Z"
    }
   },
   "outputs": [],
   "source": [
    "exportdata[\"tag_value\"] = exportdata.apply(exportdata_to_tag_value, axis=1)"
   ]
  },
  {
   "cell_type": "code",
   "execution_count": 22,
   "metadata": {
    "ExecuteTime": {
     "end_time": "2021-09-02T15:47:17.128004Z",
     "start_time": "2021-09-02T15:47:17.125223Z"
    }
   },
   "outputs": [],
   "source": [
    "def title_case(tag):\n",
    "    if isinstance(tag, (list, tuple)):\n",
    "        return tuple([x.title() for x in tag])\n",
    "    return tag.title()"
   ]
  },
  {
   "cell_type": "code",
   "execution_count": 23,
   "metadata": {
    "ExecuteTime": {
     "end_time": "2021-09-02T15:47:17.211838Z",
     "start_time": "2021-09-02T15:47:17.129438Z"
    }
   },
   "outputs": [],
   "source": [
    "exportdata[\"tag_title\"] = exportdata[\"tag_title\"].apply(title_case)"
   ]
  },
  {
   "cell_type": "code",
   "execution_count": 24,
   "metadata": {
    "ExecuteTime": {
     "end_time": "2021-09-02T15:47:17.214881Z",
     "start_time": "2021-09-02T15:47:17.213103Z"
    }
   },
   "outputs": [],
   "source": [
    "mat_1d_and_flag_titles = [\"High Level Tags\"]#, ('High Level Tags - Dimension', 'High Level Tags - Subdimension')]"
   ]
  },
  {
   "cell_type": "code",
   "execution_count": 25,
   "metadata": {
    "ExecuteTime": {
     "end_time": "2021-09-02T15:47:17.231642Z",
     "start_time": "2021-09-02T15:47:17.216140Z"
    }
   },
   "outputs": [
    {
     "data": {
      "text/plain": [
       "array(['Pre-Crisis', 'Population Groups', 'Geo Location', 'Reliability',\n",
       "       'Demographic Groups', 'Shock/Event', 'High Level Tags',\n",
       "       'In-Crisis', 'Specific Needs Groups', 'Additional Context',\n",
       "       'Displaced Pop Type', 'Cleaning Tags', 'Cleaning Comments',\n",
       "       ('In-Crisis - Dimension', 'In-Crisis - Subdimension', 'In-Crisis - Sector', 'In-Crisis - Subsectors'),\n",
       "       ('Pre-Crisis - Dimension', 'Pre-Crisis - Subdimension', 'Pre-Crisis - Sector', 'Pre-Crisis - Subsectors'),\n",
       "       ('High Level Tags - Dimension', 'High Level Tags - Subdimension')],\n",
       "      dtype=object)"
      ]
     },
     "execution_count": 25,
     "metadata": {},
     "output_type": "execute_result"
    }
   ],
   "source": [
    "exportdata[\"tag_title\"].unique()"
   ]
  },
  {
   "cell_type": "code",
   "execution_count": 26,
   "metadata": {
    "ExecuteTime": {
     "end_time": "2021-09-02T15:47:17.235662Z",
     "start_time": "2021-09-02T15:47:17.232757Z"
    }
   },
   "outputs": [
    {
     "data": {
      "text/plain": [
       "array(['Specific Needs Groups', 'Pre-Crisis', 'In-Crisis', 'Geo Location',\n",
       "       'Excerpt', 'Shock/Event', 'Reliability', 'Additional Context',\n",
       "       'Displaced Pop Type', 'Cleaning Tags', 'Population Groups',\n",
       "       'Cleaning Comments', 'Demographic Groups', 'High Level Tags'],\n",
       "      dtype=object)"
      ]
     },
     "execution_count": 26,
     "metadata": {},
     "output_type": "execute_result"
    }
   ],
   "source": [
    "af_widgets[\"title\"].unique()"
   ]
  },
  {
   "cell_type": "code",
   "execution_count": 27,
   "metadata": {
    "ExecuteTime": {
     "end_time": "2021-09-02T15:47:17.306741Z",
     "start_time": "2021-09-02T15:47:17.236672Z"
    }
   },
   "outputs": [
    {
     "data": {
      "text/plain": [
       "((8024,), (8644,), (34198,), (4647,))"
      ]
     },
     "execution_count": 27,
     "metadata": {},
     "output_type": "execute_result"
    }
   ],
   "source": [
    "#exportdata[exportdata[\"tag_title\"].isin([('High Level Tags - Dimension', 'High Level Tags - Subdimension')])][\"tag_value\"].tolist()\n",
    "# exportdata[exportdata[\"tag_title\"].isin([('In-Crisis - Dimension', 'In-Crisis - Subdimension', 'In-Crisis - Sector', 'In-Crisis - Subsectors'),\n",
    "#        ('Pre-Crisis - Dimension', 'Pre-Crisis - Subdimension', 'Pre-Crisis - Sector', 'Pre-Crisis - Subsectors')])][\"tag_value\"].tolist()\n",
    "#exportdata[exportdata[\"tag_title\"].eq('High Level Tags')][\"tag_value\"].tolist()\n",
    "exportdata[exportdata[\"tag_title\"].eq('High Level Tags')][\"tag_value\"].shape, \\\n",
    "exportdata[exportdata[\"tag_title\"].eq('Pre-Crisis')][\"tag_value\"].shape, \\\n",
    "exportdata[exportdata[\"tag_title\"].eq('In-Crisis')][\"tag_value\"].shape, \\\n",
    "exportdata[exportdata[\"tag_title\"].eq('Shock/Event')][\"tag_value\"].shape"
   ]
  },
  {
   "cell_type": "code",
   "execution_count": 28,
   "metadata": {
    "ExecuteTime": {
     "end_time": "2021-09-02T15:47:17.319848Z",
     "start_time": "2021-09-02T15:47:17.307953Z"
    }
   },
   "outputs": [],
   "source": [
    "exportdata_of_interest = exportdata[exportdata[\"tag_title\"].isin(\n",
    "    mat2d_titles + mat_1d_and_flag_titles)]"
   ]
  },
  {
   "cell_type": "code",
   "execution_count": 29,
   "metadata": {
    "ExecuteTime": {
     "end_time": "2021-09-02T15:47:17.324591Z",
     "start_time": "2021-09-02T15:47:17.321118Z"
    }
   },
   "outputs": [
    {
     "data": {
      "text/plain": [
       "((55513, 6), (155743, 21))"
      ]
     },
     "execution_count": 29,
     "metadata": {},
     "output_type": "execute_result"
    }
   ],
   "source": [
    "exportdata_of_interest.shape, entries.shape"
   ]
  },
  {
   "cell_type": "code",
   "execution_count": 30,
   "metadata": {
    "ExecuteTime": {
     "end_time": "2021-09-02T15:47:17.417996Z",
     "start_time": "2021-09-02T15:47:17.325975Z"
    }
   },
   "outputs": [],
   "source": [
    "entries_labeled = pd.merge(entries,\n",
    "                           exportdata_of_interest,\n",
    "                           how=\"inner\",\n",
    "                           left_on=\"id\",\n",
    "                           right_on=\"entry_id\",\n",
    "                           suffixes=('_entry', '_exportdata'))"
   ]
  },
  {
   "cell_type": "code",
   "execution_count": 31,
   "metadata": {
    "ExecuteTime": {
     "end_time": "2021-09-02T15:47:17.424909Z",
     "start_time": "2021-09-02T15:47:17.419515Z"
    }
   },
   "outputs": [
    {
     "data": {
      "text/plain": [
       "((49789,), (38148,))"
      ]
     },
     "execution_count": 31,
     "metadata": {},
     "output_type": "execute_result"
    }
   ],
   "source": [
    "entries_labeled[\"id_entry\"].shape, entries_labeled[\"id_entry\"].unique().shape"
   ]
  },
  {
   "cell_type": "code",
   "execution_count": 32,
   "metadata": {
    "ExecuteTime": {
     "end_time": "2021-09-02T15:47:17.429714Z",
     "start_time": "2021-09-02T15:47:17.426374Z"
    }
   },
   "outputs": [],
   "source": [
    "def agg_group(group):\n",
    "    tag_titles = group[\"tag_title\"]\n",
    "    tag_values = group[\"tag_value\"]\n",
    "    #\n",
    "    grouped = defaultdict(list)\n",
    "    for title, value in zip(tag_titles, tag_values):\n",
    "        if title in mat_1d_and_flag_titles:\n",
    "            grouped[\"Mat1D\"].extend(value)\n",
    "        elif title in mat2d_titles:\n",
    "            grouped[\"Mat2D\"].extend(value)\n",
    "    return grouped"
   ]
  },
  {
   "cell_type": "code",
   "execution_count": 33,
   "metadata": {
    "ExecuteTime": {
     "end_time": "2021-09-02T15:47:17.436321Z",
     "start_time": "2021-09-02T15:47:17.431879Z"
    }
   },
   "outputs": [
    {
     "data": {
      "text/plain": [
       "Index(['id_entry', 'created_at', 'modified_at', 'excerpt', 'image_raw',\n",
       "       'analysis_framework_id', 'created_by_id', 'lead_id', 'modified_by_id',\n",
       "       'entry_type', 'information_date', 'order', 'client_id', 'project_id',\n",
       "       'tabular_field_id', 'dropped_excerpt', 'highlight_hidden', 'verified',\n",
       "       'verification_last_changed_by_id', 'image_id', 'title', 'id_exportdata',\n",
       "       'data', 'entry_id', 'exportable_id', 'tag_title', 'tag_value'],\n",
       "      dtype='object')"
      ]
     },
     "execution_count": 33,
     "metadata": {},
     "output_type": "execute_result"
    }
   ],
   "source": [
    "entries_labeled.columns"
   ]
  },
  {
   "cell_type": "code",
   "execution_count": 34,
   "metadata": {
    "ExecuteTime": {
     "end_time": "2021-09-02T15:47:20.199738Z",
     "start_time": "2021-09-02T15:47:17.438232Z"
    },
    "scrolled": true
   },
   "outputs": [],
   "source": [
    "tags = entries_labeled.groupby(\"id_entry\").apply(agg_group)"
   ]
  },
  {
   "cell_type": "code",
   "execution_count": 35,
   "metadata": {
    "ExecuteTime": {
     "end_time": "2021-09-02T15:47:20.204353Z",
     "start_time": "2021-09-02T15:47:20.200969Z"
    }
   },
   "outputs": [],
   "source": [
    "entryids_tags = pd.DataFrame({\"entry_id\": tags.index, \"tags\": tags.values})"
   ]
  },
  {
   "cell_type": "code",
   "execution_count": 36,
   "metadata": {
    "ExecuteTime": {
     "end_time": "2021-09-02T15:47:20.208253Z",
     "start_time": "2021-09-02T15:47:20.205667Z"
    }
   },
   "outputs": [
    {
     "data": {
      "text/plain": [
       "(38148, 2)"
      ]
     },
     "execution_count": 36,
     "metadata": {},
     "output_type": "execute_result"
    }
   ],
   "source": [
    "entryids_tags.shape"
   ]
  },
  {
   "cell_type": "code",
   "execution_count": 37,
   "metadata": {
    "ExecuteTime": {
     "end_time": "2021-09-02T15:47:20.533062Z",
     "start_time": "2021-09-02T15:47:20.209794Z"
    }
   },
   "outputs": [
    {
     "name": "stdout",
     "output_type": "stream",
     "text": [
      "(155743, 21)\n",
      "(155743, 14)\n"
     ]
    }
   ],
   "source": [
    "entries_ = entries.rename({\"id\": \"entry_id\"}, axis=1, inplace=False)\n",
    "#\n",
    "print(entries.shape)\n",
    "#\n",
    "entries_ = entries_[[\n",
    "    'entry_id',\n",
    "    'created_at',\n",
    "    'modified_at',\n",
    "    'excerpt',\n",
    "    'entry_type',\n",
    "    'analysis_framework_id',\n",
    "    'created_by_id',\n",
    "    'lead_id',\n",
    "    'modified_by_id',\n",
    "    'information_date',\n",
    "    'order',\n",
    "    'title',\n",
    "    'project_id',\n",
    "    'verified',\n",
    "]].drop_duplicates()\n",
    "#\n",
    "print(entries_.shape)"
   ]
  },
  {
   "cell_type": "code",
   "execution_count": 38,
   "metadata": {
    "ExecuteTime": {
     "end_time": "2021-09-02T15:47:20.536695Z",
     "start_time": "2021-09-02T15:47:20.534675Z"
    }
   },
   "outputs": [],
   "source": [
    "# print(entries_labeled.shape)\n",
    "# entries_labeled = entries_labeled[[\n",
    "#     'entry_id',\n",
    "#     'created_at',\n",
    "#     'modified_at',\n",
    "#     'excerpt',\n",
    "#     'entry_type',\n",
    "#     'analysis_framework_id',\n",
    "#     'created_by_id',\n",
    "#     'lead_id',\n",
    "#     'modified_by_id',\n",
    "#     'information_date',\n",
    "#     'order',\n",
    "#     'project_id',\n",
    "#     #'dropped_excerpt',\n",
    "#     'verified',\n",
    "# ]].drop_duplicates()\n",
    "# print(entries_labeled.shape)"
   ]
  },
  {
   "cell_type": "code",
   "execution_count": 39,
   "metadata": {
    "ExecuteTime": {
     "end_time": "2021-09-02T15:47:20.572792Z",
     "start_time": "2021-09-02T15:47:20.538363Z"
    }
   },
   "outputs": [
    {
     "data": {
      "text/plain": [
       "((38148, 15),\n",
       " Index(['entry_id', 'created_at', 'modified_at', 'excerpt', 'entry_type',\n",
       "        'analysis_framework_id', 'created_by_id', 'lead_id', 'modified_by_id',\n",
       "        'information_date', 'order', 'title', 'project_id', 'verified', 'tags'],\n",
       "       dtype='object'))"
      ]
     },
     "execution_count": 39,
     "metadata": {},
     "output_type": "execute_result"
    }
   ],
   "source": [
    "entries_labeled = pd.merge(entries_, entryids_tags, on=\"entry_id\", how=\"inner\")\n",
    "entries_labeled.shape, entries_labeled.columns"
   ]
  },
  {
   "cell_type": "code",
   "execution_count": 40,
   "metadata": {
    "ExecuteTime": {
     "end_time": "2021-09-02T15:47:20.704089Z",
     "start_time": "2021-09-02T15:47:20.574303Z"
    }
   },
   "outputs": [
    {
     "data": {
      "text/plain": [
       "0"
      ]
     },
     "execution_count": 40,
     "metadata": {},
     "output_type": "execute_result"
    }
   ],
   "source": [
    "entries_labeled[\"tags_str\"] = entries_labeled[\"tags\"].apply(str)\n",
    "entries_labeled.duplicated(subset=[\"entry_id\", \"tags_str\"]).sum()"
   ]
  },
  {
   "cell_type": "code",
   "execution_count": 41,
   "metadata": {
    "ExecuteTime": {
     "end_time": "2021-09-02T15:47:20.708404Z",
     "start_time": "2021-09-02T15:47:20.705263Z"
    }
   },
   "outputs": [
    {
     "data": {
      "text/plain": [
       "0"
      ]
     },
     "execution_count": 41,
     "metadata": {},
     "output_type": "execute_result"
    }
   ],
   "source": [
    "entries_labeled[\"entry_id\"].duplicated().sum()"
   ]
  },
  {
   "cell_type": "code",
   "execution_count": 42,
   "metadata": {
    "ExecuteTime": {
     "end_time": "2021-09-02T15:47:20.711772Z",
     "start_time": "2021-09-02T15:47:20.709391Z"
    }
   },
   "outputs": [
    {
     "data": {
      "text/plain": [
       "(38148, 16)"
      ]
     },
     "execution_count": 42,
     "metadata": {},
     "output_type": "execute_result"
    }
   ],
   "source": [
    "entries_labeled.shape"
   ]
  },
  {
   "cell_type": "code",
   "execution_count": 43,
   "metadata": {
    "ExecuteTime": {
     "end_time": "2021-09-02T15:47:20.717988Z",
     "start_time": "2021-09-02T15:47:20.713197Z"
    }
   },
   "outputs": [
    {
     "data": {
      "text/plain": [
       "0"
      ]
     },
     "execution_count": 43,
     "metadata": {},
     "output_type": "execute_result"
    }
   ],
   "source": [
    "entries_labeled[\"tags\"].isna().sum()"
   ]
  },
  {
   "cell_type": "code",
   "execution_count": 44,
   "metadata": {
    "ExecuteTime": {
     "end_time": "2021-09-02T15:47:20.900358Z",
     "start_time": "2021-09-02T15:47:20.719074Z"
    }
   },
   "outputs": [
    {
     "data": {
      "text/plain": [
       "((155743, 21), (153382,))"
      ]
     },
     "execution_count": 44,
     "metadata": {},
     "output_type": "execute_result"
    }
   ],
   "source": [
    "entries.shape, entries[~entries[\"excerpt\"].isna()][\"excerpt\"].unique().shape"
   ]
  },
  {
   "cell_type": "code",
   "execution_count": 45,
   "metadata": {
    "ExecuteTime": {
     "end_time": "2021-09-02T15:47:20.904973Z",
     "start_time": "2021-09-02T15:47:20.901717Z"
    }
   },
   "outputs": [
    {
     "data": {
      "text/plain": [
       "((38148, 16),\n",
       " Index(['entry_id', 'created_at', 'modified_at', 'excerpt', 'entry_type',\n",
       "        'analysis_framework_id', 'created_by_id', 'lead_id', 'modified_by_id',\n",
       "        'information_date', 'order', 'title', 'project_id', 'verified', 'tags',\n",
       "        'tags_str'],\n",
       "       dtype='object'))"
      ]
     },
     "execution_count": 45,
     "metadata": {},
     "output_type": "execute_result"
    }
   ],
   "source": [
    "entries_labeled.shape, entries_labeled.columns"
   ]
  },
  {
   "cell_type": "code",
   "execution_count": 46,
   "metadata": {
    "ExecuteTime": {
     "end_time": "2021-09-02T15:47:20.910765Z",
     "start_time": "2021-09-02T15:47:20.906330Z"
    }
   },
   "outputs": [],
   "source": [
    "def tags_to_pillars(x):\n",
    "    tags = x[0]\n",
    "    af_id = x[1]\n",
    "    pillars = []\n",
    "    for tag_key, tag_value in tags.items():\n",
    "        if len(tag_value):\n",
    "            for t in tag_value:\n",
    "                if t[0]:\n",
    "                    pillars.append(\n",
    "                        tag_key[-2:] + \"->\" + t[0].title() + \"->\" + t[1].title())\n",
    "    return list(set(pillars))\n",
    "\n",
    "def tags_to_sectors(x):\n",
    "    tags = x[0]\n",
    "    af_id = x[1]\n",
    "    sectors = []\n",
    "    for tag_key, tag_value in tags.items():\n",
    "        if tag_key != \"Mat2D\":\n",
    "            continue\n",
    "        if len(tag_value):\n",
    "            for t in tag_value:\n",
    "                if len(t) > 2 and t[2]:\n",
    "                    sectors.append(t[2].title())\n",
    "    return list(set(sectors))"
   ]
  },
  {
   "cell_type": "code",
   "execution_count": 47,
   "metadata": {
    "ExecuteTime": {
     "end_time": "2021-09-02T15:47:20.914880Z",
     "start_time": "2021-09-02T15:47:20.911923Z"
    }
   },
   "outputs": [
    {
     "data": {
      "text/plain": [
       "Index(['entry_id', 'created_at', 'modified_at', 'excerpt', 'entry_type',\n",
       "       'analysis_framework_id', 'created_by_id', 'lead_id', 'modified_by_id',\n",
       "       'information_date', 'order', 'title', 'project_id', 'verified', 'tags',\n",
       "       'tags_str'],\n",
       "      dtype='object')"
      ]
     },
     "execution_count": 47,
     "metadata": {},
     "output_type": "execute_result"
    }
   ],
   "source": [
    "entries_labeled.columns"
   ]
  },
  {
   "cell_type": "code",
   "execution_count": 48,
   "metadata": {
    "ExecuteTime": {
     "end_time": "2021-09-02T15:47:21.671028Z",
     "start_time": "2021-09-02T15:47:20.916067Z"
    },
    "scrolled": true
   },
   "outputs": [],
   "source": [
    "entries_labeled[\"pillars\"] = entries_labeled[[\"tags\", 'analysis_framework_id'\n",
    "                                              ]].apply(tags_to_pillars, axis=1)\n",
    "entries_labeled[\"sectors\"] = entries_labeled[[\"tags\", 'analysis_framework_id'\n",
    "                                              ]].apply(tags_to_sectors, axis=1)"
   ]
  },
  {
   "cell_type": "code",
   "execution_count": 49,
   "metadata": {
    "ExecuteTime": {
     "end_time": "2021-09-02T15:47:21.729861Z",
     "start_time": "2021-09-02T15:47:21.672164Z"
    }
   },
   "outputs": [
    {
     "data": {
      "text/plain": [
       "(37729,)"
      ]
     },
     "execution_count": 49,
     "metadata": {},
     "output_type": "execute_result"
    }
   ],
   "source": [
    "entries_labeled[~entries_labeled[\"excerpt\"].isna()][\"excerpt\"].unique().shape"
   ]
  },
  {
   "cell_type": "code",
   "execution_count": 50,
   "metadata": {
    "ExecuteTime": {
     "end_time": "2021-09-02T15:47:21.753993Z",
     "start_time": "2021-09-02T15:47:21.731096Z"
    },
    "scrolled": true
   },
   "outputs": [
    {
     "data": {
      "text/plain": [
       "(49,\n",
       " [('2D->Operational Environment->International Humanitarian Response And Capacities',\n",
       "   7480),\n",
       "  ('2D->Humanitarian Conditions->Humanitarian Condition', 7199),\n",
       "  ('2D->Humanitarian Conditions->Risk', 3499),\n",
       "  ('2D->Stated Priorities And Recommendations->Recommendations From Aid/Research Actors',\n",
       "   3442),\n",
       "  ('2D->Operational Environment->National/Sub-National Response And Capacities',\n",
       "   3290),\n",
       "  ('2D->Humanitarian Situation->Humanitarian Profile', 2914),\n",
       "  ('1D->General ->Risk', 2339),\n",
       "  ('2D->Effects On Population->Post-Shock Displacement', 1996),\n",
       "  ('2D->Effects Systems And Networks->Basic Infrastructure And Social Services',\n",
       "   1843),\n",
       "  ('2D->Effects On Population->Disruption Of Social Behaviors And Networks',\n",
       "   1749),\n",
       "  ('2D->Effects On Population->Damage To Physical Integrity', 1724),\n",
       "  ('2D->Effects On Population->Disruption Of Resources And Assets', 1303),\n",
       "  ('2D->Operational Environment->Humanitarian Access', 1252),\n",
       "  ('1D->General ->Response Gap', 1110),\n",
       "  ('2D->Shock Informaton->Government Measures', 1058),\n",
       "  ('2D->Effects Systems And Networks->Political And Security', 1044),\n",
       "  ('2D->Context->Security', 1030),\n",
       "  ('2D->Context->Basic Infrastructure And Social Services', 996),\n",
       "  ('2D->Effects Systems And Networks->Food System', 967),\n",
       "  ('2D->Context->Socio-Economic', 859),\n",
       "  ('2D->Shock Informaton->Primary Shock (Covid Event Characteristics)', 852),\n",
       "  ('2D->Coping Capacity->Negative Coping Strategies', 780),\n",
       "  ('2D->Humanitarian Situation->Pre-Covid Humanitarian Operations', 739),\n",
       "  ('1D->Effects->Indirect Effect', 724),\n",
       "  ('2D->Shock Informaton->Secondary Shocks (Non Covid)', 694),\n",
       "  ('2D->Context->Socio-Cultural', 579),\n",
       "  ('2D->Stated Priorities And Recommendations->Affected Population Priorities',\n",
       "   571),\n",
       "  ('2D->Shock Informaton->Aggravating Factors', 452),\n",
       "  ('2D->Effects Systems And Networks->Financial System', 429),\n",
       "  ('2D->Effects Systems And Networks->Supply Chains', 355),\n",
       "  ('2D->Effects Systems And Networks->Physical Environment', 347),\n",
       "  ('2D->Context->Environmental', 327),\n",
       "  ('2D->Effects Systems And Networks->Labour Market', 313),\n",
       "  ('1D->Effects->Direct Effect', 273),\n",
       "  ('2D->Humanitarian Situation->Humanitarian Access', 269),\n",
       "  ('2D->Context->Policy/Normative Frameworks', 262),\n",
       "  ('1D->General ->Stakeholder', 261),\n",
       "  ('1D->Humanitarian Conditions->Negative Coping Mechanism', 251),\n",
       "  ('2D->Humanitarian Situation->Pre-Covid National Response Mechanisms', 225),\n",
       "  ('2D->Context->Demographic', 193),\n",
       "  ('2D->Coping Capacity->Positive Adaptive Mechanisms And Responses', 192),\n",
       "  ('2D->Effects On Population->Damage To Resources And Assets', 181),\n",
       "  ('2D->Context->Political', 170),\n",
       "  ('1D->General ->Information Gap', 156),\n",
       "  ('2D->Effects On Population->Disruption Of Rights And Norms', 152),\n",
       "  ('2D->Context->Information And Communication', 64),\n",
       "  ('2D->Shock Informaton->Mitigating Factors', 58),\n",
       "  ('1D->General ->Lessons Learned', 44),\n",
       "  ('2D->Shock Informaton->Primary Shock (Covid)', 16)])"
      ]
     },
     "execution_count": 50,
     "metadata": {},
     "output_type": "execute_result"
    }
   ],
   "source": [
    "pills_unique_1d = set()\n",
    "pills_occurances_1d = list()\n",
    "for pills_1d in entries_labeled[\"pillars\"]:\n",
    "    pills_unique_1d.update(pills_1d)\n",
    "    pills_occurances_1d.extend(pills_1d)\n",
    "len(pills_unique_1d), Counter(pills_occurances_1d).most_common()"
   ]
  },
  {
   "cell_type": "code",
   "execution_count": 51,
   "metadata": {
    "ExecuteTime": {
     "end_time": "2021-09-02T15:47:21.772936Z",
     "start_time": "2021-09-02T15:47:21.755187Z"
    }
   },
   "outputs": [
    {
     "data": {
      "text/plain": [
       "[('Cross-Sector', 12411),\n",
       " ('Health', 8676),\n",
       " ('Protection', 7239),\n",
       " ('Food Security', 4568),\n",
       " ('Livelihoods', 3974),\n",
       " ('Wash', 3345),\n",
       " ('Education', 2923),\n",
       " ('Shelter And Nfis', 2002),\n",
       " ('Nutrition', 2000),\n",
       " ('Cccm', 678),\n",
       " ('Shelter', 311)]"
      ]
     },
     "execution_count": 51,
     "metadata": {},
     "output_type": "execute_result"
    }
   ],
   "source": [
    "secs_unique = set()\n",
    "secs_occurances = list()\n",
    "for secs in entries_labeled[\"sectors\"]:\n",
    "    secs_unique.update(secs)\n",
    "    secs_occurances.extend(secs)\n",
    "#secs_unique\n",
    "Counter(secs_occurances).most_common()"
   ]
  },
  {
   "cell_type": "code",
   "execution_count": 52,
   "metadata": {
    "ExecuteTime": {
     "end_time": "2021-09-02T15:47:21.776640Z",
     "start_time": "2021-09-02T15:47:21.774151Z"
    }
   },
   "outputs": [
    {
     "data": {
      "text/plain": [
       "Index(['entry_id', 'created_at', 'modified_at', 'excerpt', 'entry_type',\n",
       "       'analysis_framework_id', 'created_by_id', 'lead_id', 'modified_by_id',\n",
       "       'information_date', 'order', 'title', 'project_id', 'verified', 'tags',\n",
       "       'tags_str', 'pillars', 'sectors'],\n",
       "      dtype='object')"
      ]
     },
     "execution_count": 52,
     "metadata": {},
     "output_type": "execute_result"
    }
   ],
   "source": [
    "entries_labeled.columns"
   ]
  },
  {
   "cell_type": "code",
   "execution_count": 53,
   "metadata": {
    "ExecuteTime": {
     "end_time": "2021-09-02T15:47:21.792338Z",
     "start_time": "2021-09-02T15:47:21.777670Z"
    }
   },
   "outputs": [
    {
     "data": {
      "text/plain": [
       "(38148, 18)"
      ]
     },
     "execution_count": 53,
     "metadata": {},
     "output_type": "execute_result"
    }
   ],
   "source": [
    "final_df = entries_labeled[entries_labeled[\"entry_type\"].eq(\"excerpt\")\n",
    "                           & (~entries_labeled[\"excerpt\"].isna())]\n",
    "final_df.shape"
   ]
  },
  {
   "cell_type": "code",
   "execution_count": 54,
   "metadata": {
    "ExecuteTime": {
     "end_time": "2021-09-02T15:47:22.430163Z",
     "start_time": "2021-09-02T15:47:21.793426Z"
    },
    "scrolled": true
   },
   "outputs": [
    {
     "data": {
      "text/plain": [
       "((37711, 18), 0)"
      ]
     },
     "execution_count": 54,
     "metadata": {},
     "output_type": "execute_result"
    }
   ],
   "source": [
    "def remove_newlines(excerpt):\n",
    "    if not isinstance(excerpt, str):\n",
    "        return excerpt\n",
    "    return re.sub(\"\\s+\", \" \", excerpt)\n",
    "\n",
    "final_df.loc[:, 'excerpt'] = final_df['excerpt'].apply(remove_newlines)\n",
    "#final_df.loc[:, 'dropped_excerpt'] = final_df['dropped_excerpt'].apply(remove_newlines)\n",
    "##\n",
    "final_df = final_df.sort_values(\"verified\").reset_index(drop=True).drop_duplicates(subset='excerpt', keep=\"last\")\n",
    "final_df.shape, final_df.duplicated(subset=\"excerpt\").sum()"
   ]
  },
  {
   "cell_type": "code",
   "execution_count": 55,
   "metadata": {
    "ExecuteTime": {
     "end_time": "2021-09-02T15:47:22.440142Z",
     "start_time": "2021-09-02T15:47:22.435440Z"
    }
   },
   "outputs": [],
   "source": [
    "sector_name_mapper = {\n",
    "    \"Agriculture\": \"Agriculture\",\n",
    "    \"Cccm\": \"\",\n",
    "    \"Cross\": \"Cross\",\n",
    "    \"Cross Cutting\": \"Cross\",\n",
    "    \"Cross-Sector\": \"Cross\",\n",
    "    \"Education\": \"Education\",\n",
    "    \"Food\": \"Food Security\",\n",
    "    \"Food Security\": \"Food Security\",\n",
    "    \"Nutrition\": \"Nutrition\",\n",
    "    \"Health\": \"Health\",\n",
    "    \"Livelihood\": \"Livelihoods\",\n",
    "    \"Livelihoods\": \"Livelihoods\",\n",
    "    \"Logistic\": \"Logistics\",\n",
    "    \"Logistics\": \"Logistics\",\n",
    "    \"Protection\": \"Protection\",\n",
    "    \"Shelter\": \"Shelter\",\n",
    "    \"Shelter And Nfis\": \"Shelter\",\n",
    "    \"Nfi\": \"\",\n",
    "    \"Wash\": \"WASH\",\n",
    "}"
   ]
  },
  {
   "cell_type": "code",
   "execution_count": 56,
   "metadata": {
    "ExecuteTime": {
     "end_time": "2021-09-02T15:47:22.446402Z",
     "start_time": "2021-09-02T15:47:22.443231Z"
    }
   },
   "outputs": [],
   "source": [
    "af_title_to_id = dict()\n",
    "for afid, title in zip(afs[\"id\"], afs[\"title\"]):\n",
    "    af_title_to_id[\"title\"] = afid"
   ]
  },
  {
   "cell_type": "code",
   "execution_count": 57,
   "metadata": {
    "ExecuteTime": {
     "end_time": "2021-09-02T15:47:22.451261Z",
     "start_time": "2021-09-02T15:47:22.447926Z"
    }
   },
   "outputs": [],
   "source": [
    "original_to_virtual = dict()\n",
    "for otype, opillar, osubpillar, ftype, fpillar, fsubpillar in zip(\n",
    "        matching_gimac[\"Type\"],\n",
    "        matching_gimac[\"Pillar\"],\n",
    "        matching_gimac[\"Sub-pillar\"],\n",
    "        matching_gimac[\"Virtual Type\"],\n",
    "        matching_gimac[\"Virtual Pillar\"],\n",
    "        matching_gimac[\"Virtual Sub-pillar\"],\n",
    "):\n",
    "    if ftype!=ftype:\n",
    "        continue\n",
    "    original = f\"{otype.title()}->{opillar.title()}->{osubpillar.title()}\"\n",
    "    virtual = f\"{ftype.title()}->{fpillar.title()}->{fsubpillar.title()}\"\n",
    "    original_to_virtual[original] = virtual"
   ]
  },
  {
   "cell_type": "code",
   "execution_count": 58,
   "metadata": {
    "ExecuteTime": {
     "end_time": "2021-09-02T15:47:22.459542Z",
     "start_time": "2021-09-02T15:47:22.452756Z"
    }
   },
   "outputs": [],
   "source": [
    "def sector_mapper(sec):\n",
    "    if sec == sec:\n",
    "        sectors =  [sector_name_mapper.get(s, \"\") for s in sec]\n",
    "        return [sec for sec in sectors if sec]\n",
    "    return []\n",
    "##\n",
    "def pillar_mapper(dim):\n",
    "    if dim == dim:\n",
    "        dim = [original_to_virtual.get(d, \"\") for d in dim]\n",
    "        dim = [d for d in dim if d]\n",
    "        dim = [d.split(\"->\")[1] for d in dim if d.startswith(\"2D\")]\n",
    "        return dim\n",
    "    return []\n",
    "##\n",
    "def subpillar_mapper(subdim):\n",
    "    if subdim == subdim:\n",
    "        subdim = [original_to_virtual.get(d, \"\") for d in subdim]\n",
    "        subdim = [d for d in subdim if d]\n",
    "        subdim = [d[4:] for d in subdim if d.startswith(\"2D\")]\n",
    "        return subdim\n",
    "    return []\n",
    "##\n",
    "def pillar_mapper_1d(dim):\n",
    "    if dim == dim:\n",
    "        dim = [original_to_virtual.get(d, \"\") for d in dim]\n",
    "        dim = [d for d in dim if d]\n",
    "        dim = [d.split(\"->\")[1] for d in dim if d.startswith(\"1D\")]\n",
    "        return dim\n",
    "    return []\n",
    "##\n",
    "def subpillar_mapper_1d(subdim):\n",
    "    if subdim == subdim:\n",
    "        subdim = [original_to_virtual.get(d, \"\") for d in subdim]\n",
    "        subdim = [d for d in subdim if d]\n",
    "        subdim = [d[4:] for d in subdim if d.startswith(\"1D\")]\n",
    "        return subdim\n",
    "    return []"
   ]
  },
  {
   "cell_type": "code",
   "execution_count": 59,
   "metadata": {
    "ExecuteTime": {
     "end_time": "2021-09-02T15:47:22.846618Z",
     "start_time": "2021-09-02T15:47:22.460815Z"
    }
   },
   "outputs": [],
   "source": [
    "final_df[\"sectors\"] = final_df[\"sectors\"].apply(sector_mapper)\n",
    "final_df[\"subpillars_2d\"] = final_df[\"pillars\"].apply(subpillar_mapper)\n",
    "final_df[\"subpillars_1d\"] = final_df[\"pillars\"].apply(subpillar_mapper_1d)\n",
    "final_df[\"pillars_1d\"] = final_df[\"pillars\"].apply(pillar_mapper_1d)\n",
    "final_df[\"pillars_2d\"] = final_df[\"pillars\"].apply(pillar_mapper)\n",
    "final_df.drop(columns=\"pillars\", inplace=True)"
   ]
  },
  {
   "cell_type": "code",
   "execution_count": 60,
   "metadata": {
    "ExecuteTime": {
     "end_time": "2021-09-02T15:47:22.869871Z",
     "start_time": "2021-09-02T15:47:22.848587Z"
    }
   },
   "outputs": [
    {
     "data": {
      "text/plain": [
       "[('Cross', 12281),\n",
       " ('Health', 8557),\n",
       " ('Protection', 7193),\n",
       " ('Food Security', 4513),\n",
       " ('Livelihoods', 3925),\n",
       " ('WASH', 3318),\n",
       " ('Education', 2887),\n",
       " ('Shelter', 2293),\n",
       " ('Nutrition', 1979)]"
      ]
     },
     "execution_count": 60,
     "metadata": {},
     "output_type": "execute_result"
    }
   ],
   "source": [
    "secs_unique = set()\n",
    "secs_occurances = list()\n",
    "for secs in final_df[\"sectors\"]:\n",
    "    secs_unique.update(secs)\n",
    "    secs_occurances.extend(secs)\n",
    "#secs_unique\n",
    "Counter(secs_occurances).most_common()"
   ]
  },
  {
   "cell_type": "code",
   "execution_count": 61,
   "metadata": {
    "ExecuteTime": {
     "end_time": "2021-09-02T15:47:22.888552Z",
     "start_time": "2021-09-02T15:47:22.871513Z"
    }
   },
   "outputs": [
    {
     "data": {
      "text/plain": [
       "[('Capacities & Response', 10635),\n",
       " ('Priority Interventions', 3384),\n",
       " ('Impact', 3011),\n",
       " ('Humanitarian Conditions', 2668),\n",
       " ('Priority Needs', 562)]"
      ]
     },
     "execution_count": 61,
     "metadata": {},
     "output_type": "execute_result"
    }
   ],
   "source": [
    "pills_unique = set()\n",
    "pills_occurances = list()\n",
    "for pills in final_df[\"pillars_2d\"]:\n",
    "    pills_unique.update(pills)\n",
    "    pills_occurances.extend(pills)\n",
    "#pills_unique\n",
    "Counter(pills_occurances).most_common()"
   ]
  },
  {
   "cell_type": "code",
   "execution_count": 62,
   "metadata": {
    "ExecuteTime": {
     "end_time": "2021-09-02T15:47:22.906592Z",
     "start_time": "2021-09-02T15:47:22.889754Z"
    },
    "scrolled": false
   },
   "outputs": [
    {
     "data": {
      "text/plain": [
       "[('Capacities & Response->International Response', 7385),\n",
       " ('Priority Interventions->Expressed By Humanitarian Staff', 3384),\n",
       " ('Capacities & Response->National Response', 3250),\n",
       " ('Impact->Impact On People', 3011),\n",
       " ('Humanitarian Conditions->Physical And Mental Well Being', 1711),\n",
       " ('Humanitarian Conditions->Coping Mechanisms', 957),\n",
       " ('Priority Needs->Expressed By Population', 562)]"
      ]
     },
     "execution_count": 62,
     "metadata": {},
     "output_type": "execute_result"
    }
   ],
   "source": [
    "subpills_unique = set()\n",
    "subpills_occurances = list()\n",
    "for subpills in final_df[\"subpillars_2d\"]:\n",
    "    subpills_unique.update(subpills)\n",
    "    subpills_occurances.extend(subpills)\n",
    "Counter(subpills_occurances).most_common()"
   ]
  },
  {
   "cell_type": "code",
   "execution_count": 63,
   "metadata": {
    "ExecuteTime": {
     "end_time": "2021-09-02T15:47:22.920803Z",
     "start_time": "2021-09-02T15:47:22.907795Z"
    }
   },
   "outputs": [
    {
     "data": {
      "text/plain": [
       "[('Context', 3407)]"
      ]
     },
     "execution_count": 63,
     "metadata": {},
     "output_type": "execute_result"
    }
   ],
   "source": [
    "pills_unique_1d = set()\n",
    "pills_occurances_1d = list()\n",
    "for pills_1d in final_df[\"pillars_1d\"]:\n",
    "    pills_unique_1d.update(pills_1d)\n",
    "    pills_occurances_1d.extend(pills_1d)\n",
    "#pills_unique_1d\n",
    "Counter(pills_occurances_1d).most_common()"
   ]
  },
  {
   "cell_type": "code",
   "execution_count": 64,
   "metadata": {
    "ExecuteTime": {
     "end_time": "2021-09-02T15:47:22.935140Z",
     "start_time": "2021-09-02T15:47:22.922073Z"
    },
    "scrolled": true
   },
   "outputs": [
    {
     "data": {
      "text/plain": [
       "[('Context->Security & Stability', 1024),\n",
       " ('Context->Economy', 857),\n",
       " ('Context->Socio Cultural', 576),\n",
       " ('Context->Environment', 326),\n",
       " ('Context->Legal & Policy', 261),\n",
       " ('Context->Demography', 193),\n",
       " ('Context->Politics', 170)]"
      ]
     },
     "execution_count": 64,
     "metadata": {},
     "output_type": "execute_result"
    }
   ],
   "source": [
    "subpills_unique_1d = set()\n",
    "subpills_occurances_1d = list()\n",
    "for subpills_1d in final_df[\"subpillars_1d\"]:\n",
    "    subpills_unique_1d.update(subpills_1d)\n",
    "    subpills_occurances_1d.extend(subpills_1d)\n",
    "#subpills_unique_1d\n",
    "Counter(subpills_occurances_1d).most_common()"
   ]
  },
  {
   "cell_type": "code",
   "execution_count": 65,
   "metadata": {
    "ExecuteTime": {
     "end_time": "2021-09-02T15:47:22.961535Z",
     "start_time": "2021-09-02T15:47:22.936935Z"
    }
   },
   "outputs": [
    {
     "data": {
      "text/plain": [
       "(3029, 17367, 37141)"
      ]
     },
     "execution_count": 65,
     "metadata": {},
     "output_type": "execute_result"
    }
   ],
   "source": [
    "final_df[\"subpillars_1d\"].apply(lambda x:x!=[]).sum(),\\\n",
    "final_df[\"subpillars_2d\"].apply(lambda x:x!=[]).sum(),\\\n",
    "final_df[\"sectors\"].apply(lambda x:x!=[]).sum()"
   ]
  },
  {
   "cell_type": "code",
   "execution_count": 66,
   "metadata": {},
   "outputs": [],
   "source": [
    "final_df = final_df[['entry_id', 'excerpt', 'entry_type',\n",
    "        'analysis_framework_id', 'lead_id','title',\n",
    "        'project_id', 'verified',\n",
    "        'sectors', 'subpillars_2d', 'subpillars_1d', 'pillars_1d',\n",
    "        'pillars_2d']]"
   ]
  },
  {
   "cell_type": "code",
   "execution_count": 67,
   "metadata": {},
   "outputs": [
    {
     "data": {
      "text/html": [
       "<div>\n",
       "<style scoped>\n",
       "    .dataframe tbody tr th:only-of-type {\n",
       "        vertical-align: middle;\n",
       "    }\n",
       "\n",
       "    .dataframe tbody tr th {\n",
       "        vertical-align: top;\n",
       "    }\n",
       "\n",
       "    .dataframe thead th {\n",
       "        text-align: right;\n",
       "    }\n",
       "</style>\n",
       "<table border=\"1\" class=\"dataframe\">\n",
       "  <thead>\n",
       "    <tr style=\"text-align: right;\">\n",
       "      <th></th>\n",
       "      <th>entry_id</th>\n",
       "      <th>excerpt</th>\n",
       "      <th>entry_type</th>\n",
       "      <th>analysis_framework_id</th>\n",
       "      <th>lead_id</th>\n",
       "      <th>title</th>\n",
       "      <th>project_id</th>\n",
       "      <th>verified</th>\n",
       "      <th>sectors</th>\n",
       "      <th>subpillars_2d</th>\n",
       "      <th>subpillars_1d</th>\n",
       "      <th>pillars_1d</th>\n",
       "      <th>pillars_2d</th>\n",
       "    </tr>\n",
       "  </thead>\n",
       "  <tbody>\n",
       "    <tr>\n",
       "      <th>0</th>\n",
       "      <td>309892</td>\n",
       "      <td>The POE TWG ((Technical Working Group) continu...</td>\n",
       "      <td>excerpt</td>\n",
       "      <td>1465</td>\n",
       "      <td>53754</td>\n",
       "      <td>GIMAC South Sudan</td>\n",
       "      <td>2335</td>\n",
       "      <td>False</td>\n",
       "      <td>[Health]</td>\n",
       "      <td>[Capacities &amp; Response-&gt;International Response]</td>\n",
       "      <td>[]</td>\n",
       "      <td>[]</td>\n",
       "      <td>[Capacities &amp; Response]</td>\n",
       "    </tr>\n",
       "    <tr>\n",
       "      <th>1</th>\n",
       "      <td>194933</td>\n",
       "      <td>In many southern cropping zones, cumulative ra...</td>\n",
       "      <td>excerpt</td>\n",
       "      <td>1465</td>\n",
       "      <td>43602</td>\n",
       "      <td>GIMAC Somalia</td>\n",
       "      <td>2331</td>\n",
       "      <td>False</td>\n",
       "      <td>[]</td>\n",
       "      <td>[]</td>\n",
       "      <td>[]</td>\n",
       "      <td>[]</td>\n",
       "      <td>[]</td>\n",
       "    </tr>\n",
       "    <tr>\n",
       "      <th>2</th>\n",
       "      <td>309928</td>\n",
       "      <td>IOM conducted a COVID-19 sensitization trainin...</td>\n",
       "      <td>excerpt</td>\n",
       "      <td>1465</td>\n",
       "      <td>53754</td>\n",
       "      <td>GIMAC South Sudan</td>\n",
       "      <td>2335</td>\n",
       "      <td>False</td>\n",
       "      <td>[Health]</td>\n",
       "      <td>[Capacities &amp; Response-&gt;International Response]</td>\n",
       "      <td>[]</td>\n",
       "      <td>[]</td>\n",
       "      <td>[Capacities &amp; Response]</td>\n",
       "    </tr>\n",
       "    <tr>\n",
       "      <th>3</th>\n",
       "      <td>309891</td>\n",
       "      <td>IOM continued COVID-19 screening and provided ...</td>\n",
       "      <td>excerpt</td>\n",
       "      <td>1465</td>\n",
       "      <td>53754</td>\n",
       "      <td>GIMAC South Sudan</td>\n",
       "      <td>2335</td>\n",
       "      <td>False</td>\n",
       "      <td>[Health]</td>\n",
       "      <td>[]</td>\n",
       "      <td>[]</td>\n",
       "      <td>[]</td>\n",
       "      <td>[]</td>\n",
       "    </tr>\n",
       "    <tr>\n",
       "      <th>4</th>\n",
       "      <td>309893</td>\n",
       "      <td>Arrival and departure screening for COVID-19 w...</td>\n",
       "      <td>excerpt</td>\n",
       "      <td>1465</td>\n",
       "      <td>53754</td>\n",
       "      <td>GIMAC South Sudan</td>\n",
       "      <td>2335</td>\n",
       "      <td>False</td>\n",
       "      <td>[Health]</td>\n",
       "      <td>[]</td>\n",
       "      <td>[]</td>\n",
       "      <td>[]</td>\n",
       "      <td>[]</td>\n",
       "    </tr>\n",
       "    <tr>\n",
       "      <th>...</th>\n",
       "      <td>...</td>\n",
       "      <td>...</td>\n",
       "      <td>...</td>\n",
       "      <td>...</td>\n",
       "      <td>...</td>\n",
       "      <td>...</td>\n",
       "      <td>...</td>\n",
       "      <td>...</td>\n",
       "      <td>...</td>\n",
       "      <td>...</td>\n",
       "      <td>...</td>\n",
       "      <td>...</td>\n",
       "      <td>...</td>\n",
       "    </tr>\n",
       "    <tr>\n",
       "      <th>38143</th>\n",
       "      <td>217207</td>\n",
       "      <td>In Central Equatoria, localized political conf...</td>\n",
       "      <td>excerpt</td>\n",
       "      <td>1465</td>\n",
       "      <td>45280</td>\n",
       "      <td>GIMAC South Sudan</td>\n",
       "      <td>2335</td>\n",
       "      <td>True</td>\n",
       "      <td>[Cross]</td>\n",
       "      <td>[]</td>\n",
       "      <td>[]</td>\n",
       "      <td>[]</td>\n",
       "      <td>[]</td>\n",
       "    </tr>\n",
       "    <tr>\n",
       "      <th>38144</th>\n",
       "      <td>307635</td>\n",
       "      <td>Extrapolation of survey results conducted by v...</td>\n",
       "      <td>excerpt</td>\n",
       "      <td>1465</td>\n",
       "      <td>53020</td>\n",
       "      <td>GIMAC Somalia</td>\n",
       "      <td>2331</td>\n",
       "      <td>True</td>\n",
       "      <td>[Health]</td>\n",
       "      <td>[Impact-&gt;Impact On People]</td>\n",
       "      <td>[]</td>\n",
       "      <td>[]</td>\n",
       "      <td>[Impact]</td>\n",
       "    </tr>\n",
       "    <tr>\n",
       "      <th>38145</th>\n",
       "      <td>217178</td>\n",
       "      <td>Other conflict-affected areas of concern inclu...</td>\n",
       "      <td>excerpt</td>\n",
       "      <td>1465</td>\n",
       "      <td>45280</td>\n",
       "      <td>GIMAC South Sudan</td>\n",
       "      <td>2335</td>\n",
       "      <td>True</td>\n",
       "      <td>[Cross, Protection, Livelihoods, Food Security]</td>\n",
       "      <td>[Humanitarian Conditions-&gt;Physical And Mental ...</td>\n",
       "      <td>[]</td>\n",
       "      <td>[]</td>\n",
       "      <td>[Humanitarian Conditions]</td>\n",
       "    </tr>\n",
       "    <tr>\n",
       "      <th>38146</th>\n",
       "      <td>217177</td>\n",
       "      <td>Based on assessments conducted by South Sudan’...</td>\n",
       "      <td>excerpt</td>\n",
       "      <td>1465</td>\n",
       "      <td>45280</td>\n",
       "      <td>GIMAC South Sudan</td>\n",
       "      <td>2335</td>\n",
       "      <td>True</td>\n",
       "      <td>[Cross, Protection, Food Security]</td>\n",
       "      <td>[]</td>\n",
       "      <td>[]</td>\n",
       "      <td>[]</td>\n",
       "      <td>[]</td>\n",
       "    </tr>\n",
       "    <tr>\n",
       "      <th>38147</th>\n",
       "      <td>322819</td>\n",
       "      <td>Displacement: Locust(52%), Conflict(16%), Drou...</td>\n",
       "      <td>excerpt</td>\n",
       "      <td>1465</td>\n",
       "      <td>54751</td>\n",
       "      <td>GIMAC Somalia</td>\n",
       "      <td>2331</td>\n",
       "      <td>True</td>\n",
       "      <td>[Cross]</td>\n",
       "      <td>[]</td>\n",
       "      <td>[]</td>\n",
       "      <td>[]</td>\n",
       "      <td>[]</td>\n",
       "    </tr>\n",
       "  </tbody>\n",
       "</table>\n",
       "<p>37711 rows × 13 columns</p>\n",
       "</div>"
      ],
      "text/plain": [
       "       entry_id                                            excerpt entry_type  \\\n",
       "0        309892  The POE TWG ((Technical Working Group) continu...    excerpt   \n",
       "1        194933  In many southern cropping zones, cumulative ra...    excerpt   \n",
       "2        309928  IOM conducted a COVID-19 sensitization trainin...    excerpt   \n",
       "3        309891  IOM continued COVID-19 screening and provided ...    excerpt   \n",
       "4        309893  Arrival and departure screening for COVID-19 w...    excerpt   \n",
       "...         ...                                                ...        ...   \n",
       "38143    217207  In Central Equatoria, localized political conf...    excerpt   \n",
       "38144    307635  Extrapolation of survey results conducted by v...    excerpt   \n",
       "38145    217178  Other conflict-affected areas of concern inclu...    excerpt   \n",
       "38146    217177  Based on assessments conducted by South Sudan’...    excerpt   \n",
       "38147    322819  Displacement: Locust(52%), Conflict(16%), Drou...    excerpt   \n",
       "\n",
       "       analysis_framework_id  lead_id              title  project_id  \\\n",
       "0                       1465    53754  GIMAC South Sudan        2335   \n",
       "1                       1465    43602      GIMAC Somalia        2331   \n",
       "2                       1465    53754  GIMAC South Sudan        2335   \n",
       "3                       1465    53754  GIMAC South Sudan        2335   \n",
       "4                       1465    53754  GIMAC South Sudan        2335   \n",
       "...                      ...      ...                ...         ...   \n",
       "38143                   1465    45280  GIMAC South Sudan        2335   \n",
       "38144                   1465    53020      GIMAC Somalia        2331   \n",
       "38145                   1465    45280  GIMAC South Sudan        2335   \n",
       "38146                   1465    45280  GIMAC South Sudan        2335   \n",
       "38147                   1465    54751      GIMAC Somalia        2331   \n",
       "\n",
       "       verified                                          sectors  \\\n",
       "0         False                                         [Health]   \n",
       "1         False                                               []   \n",
       "2         False                                         [Health]   \n",
       "3         False                                         [Health]   \n",
       "4         False                                         [Health]   \n",
       "...         ...                                              ...   \n",
       "38143      True                                          [Cross]   \n",
       "38144      True                                         [Health]   \n",
       "38145      True  [Cross, Protection, Livelihoods, Food Security]   \n",
       "38146      True               [Cross, Protection, Food Security]   \n",
       "38147      True                                          [Cross]   \n",
       "\n",
       "                                           subpillars_2d subpillars_1d  \\\n",
       "0        [Capacities & Response->International Response]            []   \n",
       "1                                                     []            []   \n",
       "2        [Capacities & Response->International Response]            []   \n",
       "3                                                     []            []   \n",
       "4                                                     []            []   \n",
       "...                                                  ...           ...   \n",
       "38143                                                 []            []   \n",
       "38144                         [Impact->Impact On People]            []   \n",
       "38145  [Humanitarian Conditions->Physical And Mental ...            []   \n",
       "38146                                                 []            []   \n",
       "38147                                                 []            []   \n",
       "\n",
       "      pillars_1d                 pillars_2d  \n",
       "0             []    [Capacities & Response]  \n",
       "1             []                         []  \n",
       "2             []    [Capacities & Response]  \n",
       "3             []                         []  \n",
       "4             []                         []  \n",
       "...          ...                        ...  \n",
       "38143         []                         []  \n",
       "38144         []                   [Impact]  \n",
       "38145         []  [Humanitarian Conditions]  \n",
       "38146         []                         []  \n",
       "38147         []                         []  \n",
       "\n",
       "[37711 rows x 13 columns]"
      ]
     },
     "execution_count": 67,
     "metadata": {},
     "output_type": "execute_result"
    }
   ],
   "source": [
    "final_df = final_df[~(\n",
    "    final_df.analysis_framework_id.isna() | \n",
    "    final_df.entry_id.isna() |\n",
    "    final_df.lead_id.isna() |\n",
    "    final_df.excerpt.isna())\n",
    "]\n",
    "final_df"
   ]
  },
  {
   "cell_type": "code",
   "execution_count": 68,
   "metadata": {},
   "outputs": [],
   "source": [
    "final_df.to_csv('generated_entries/primary_tags_gimmac_data.csv', index=None)"
   ]
  },
  {
   "cell_type": "code",
   "execution_count": null,
   "metadata": {},
   "outputs": [],
   "source": []
  }
 ],
 "metadata": {
  "kernelspec": {
   "display_name": "Python 3",
   "language": "python",
   "name": "python3"
  },
  "language_info": {
   "codemirror_mode": {
    "name": "ipython",
    "version": 3
   },
   "file_extension": ".py",
   "mimetype": "text/x-python",
   "name": "python",
   "nbconvert_exporter": "python",
   "pygments_lexer": "ipython3",
   "version": "3.8.5"
  },
  "varInspector": {
   "cols": {
    "lenName": 16,
    "lenType": 16,
    "lenVar": 40
   },
   "kernels_config": {
    "python": {
     "delete_cmd_postfix": "",
     "delete_cmd_prefix": "del ",
     "library": "var_list.py",
     "varRefreshCmd": "print(var_dic_list())"
    },
    "r": {
     "delete_cmd_postfix": ") ",
     "delete_cmd_prefix": "rm(",
     "library": "var_list.r",
     "varRefreshCmd": "cat(var_dic_list()) "
    }
   },
   "types_to_exclude": [
    "module",
    "function",
    "builtin_function_or_method",
    "instance",
    "_Feature"
   ],
   "window_display": false
  }
 },
 "nbformat": 4,
 "nbformat_minor": 4
}
