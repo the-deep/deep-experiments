{
 "cells": [
  {
   "cell_type": "code",
   "execution_count": 1,
   "metadata": {
    "ExecuteTime": {
     "end_time": "2021-09-03T08:39:40.899271Z",
     "start_time": "2021-09-03T08:39:40.691199Z"
    }
   },
   "outputs": [],
   "source": [
    "import re\n",
    "import os\n",
    "import json\n",
    "import random\n",
    "from pprint import pprint\n",
    "from ast import literal_eval\n",
    "from collections import Counter, defaultdict\n",
    "\n",
    "import numpy as np\n",
    "import pandas as pd\n",
    "from tqdm.auto import tqdm"
   ]
  },
  {
   "cell_type": "code",
   "execution_count": 2,
   "metadata": {
    "ExecuteTime": {
     "end_time": "2021-09-03T08:39:40.903102Z",
     "start_time": "2021-09-03T08:39:40.900832Z"
    }
   },
   "outputs": [],
   "source": [
    "random.seed(2021)\n",
    "np.random.seed(2021)"
   ]
  },
  {
   "cell_type": "code",
   "execution_count": 3,
   "metadata": {
    "ExecuteTime": {
     "end_time": "2021-09-03T08:39:45.240188Z",
     "start_time": "2021-09-03T08:39:40.905102Z"
    },
    "code_folding": [],
    "scrolled": true
   },
   "outputs": [],
   "source": [
    "# each line in this table correspond to single tagging of an entry.\n",
    "# an entry may have more than one tagging (e.g. a tag in 2D matrix, another in 1D matrix,\n",
    "# secondary tags, etc. )\n",
    "exportdata = pd.read_csv(\"exportdata.csv\")\n",
    "# I pulled entries related to projects chosen by Patrice\n",
    "entries = pd.read_csv(\"entries.csv\")\n",
    "# The widgets of AF's, i.e. 2D matrices, 1D matrices, secondary tagging widgets, etc.\n",
    "af_widgets = pd.read_csv(\"af_widgets_of_interest.csv\")\n",
    "# Projects chosen by Patrice\n",
    "projects = pd.read_csv(\"projects.csv\")\n",
    "#\n",
    "exportables = pd.read_csv(\"af_exportables.csv\")\n",
    "# AF details\n",
    "afs = pd.read_csv(\"analysis_frameworks.csv\")\n",
    "# user ids, first names and last names\n",
    "users = pd.read_csv(\"user_names.csv\")\n",
    "# The matchin of pillar/sub-pillar names from different AFs into unified pillar/sub-pillar names\n",
    "matching_2d_mat = pd.read_csv(\"mat_2d_matching.csv\")\n",
    "matching_1d_mat = pd.read_csv(\"mat_1d_matching.csv\")"
   ]
  },
  {
   "cell_type": "code",
   "execution_count": 4,
   "metadata": {},
   "outputs": [],
   "source": [
    "dirName = 'generated_entries'\n",
    "if not os.path.exists(dirName):\n",
    "    os.mkdir(dirName)"
   ]
  },
  {
   "cell_type": "code",
   "execution_count": 5,
   "metadata": {
    "ExecuteTime": {
     "end_time": "2021-09-03T08:39:45.312599Z",
     "start_time": "2021-09-03T08:39:45.242097Z"
    }
   },
   "outputs": [],
   "source": [
    "# remove \"GIMAC Generic\"'s data\n",
    "entries = entries[~entries[\"analysis_framework_id\"].eq(1465)]"
   ]
  },
  {
   "cell_type": "code",
   "execution_count": 6,
   "metadata": {
    "ExecuteTime": {
     "end_time": "2021-09-03T08:39:45.319156Z",
     "start_time": "2021-09-03T08:39:45.315272Z"
    }
   },
   "outputs": [],
   "source": [
    "raw_name_to_tag_dict = {\n",
    "    \"Severity\":\"Severity\",\n",
    "    \"Severity (Needs assessment entries only)\":\"Severity\",\n",
    "    \"SEVERITY\":\"Severity\",\n",
    "    \n",
    "    \"Reliability\":\"Reliability\",\n",
    "    \"RELIABILITY\":\"Reliability\",\n",
    "    \n",
    "    \"Demographic Groups\":\"Demographic Groups\",\n",
    "    \"DEMOGRAPHIC GROUPS\":\"Demographic Groups\",\n",
    "    \n",
    "    \"Information date\":\"Information Date\",\n",
    "    \"Information Date\":\"Information Date\",\n",
    "    \"Date\":\"Information Date\",\n",
    "    \"DATE OF INFORMATION\":\"Information Date\",\n",
    "    \"Date range\":\"Information Date\",\n",
    "    \n",
    "    \"Geo Location\":\"Geo Location\",\n",
    "    \"LOCATION\":\"Geo Location\",\n",
    "    \"Geo location\":\"Geo Location\",\n",
    "    \"Country\":\"Geo Location\",\n",
    "    \"GEOLOCATIONS\":\"Geo Location\",\n",
    "    \n",
    "    \"Affected groups\":\"Affected Groups\",\n",
    "    \"AFFECTED GROUPS\":\"Affected Groups\",\n",
    "    \n",
    "    \"Specific Needs Groups\":\"Specific Needs Groups\",\n",
    "    \"SPECIFIC NEEDS GROUPS\":\"Specific Needs Groups\",\n",
    "}\n"
   ]
  },
  {
   "cell_type": "code",
   "execution_count": 7,
   "metadata": {},
   "outputs": [
    {
     "data": {
      "text/plain": [
       "(170071, 21)"
      ]
     },
     "execution_count": 7,
     "metadata": {},
     "output_type": "execute_result"
    }
   ],
   "source": [
    "entries.shape"
   ]
  },
  {
   "cell_type": "code",
   "execution_count": 8,
   "metadata": {
    "ExecuteTime": {
     "end_time": "2021-09-03T08:39:45.325796Z",
     "start_time": "2021-09-03T08:39:45.320829Z"
    }
   },
   "outputs": [],
   "source": [
    "def clean_titles(x):\n",
    "    if x in list(raw_name_to_tag_dict.keys()):\n",
    "        return raw_name_to_tag_dict[x]\n",
    "    return x\n",
    "\n",
    "\n",
    "af_widgets['title'] = af_widgets['title'].apply(clean_titles)"
   ]
  },
  {
   "cell_type": "code",
   "execution_count": 9,
   "metadata": {
    "ExecuteTime": {
     "end_time": "2021-09-03T08:39:45.345600Z",
     "start_time": "2021-09-03T08:39:45.327873Z"
    },
    "code_folding": []
   },
   "outputs": [],
   "source": [
    "# widget names of 2D matrices in the chosen AFs's\n",
    "mat2d_titles = [\n",
    "    s.upper() for s in [\n",
    "        \"Sectors\",\n",
    "        \"Sectoral Information\",\n",
    "        \"Matrix 2D\",\n",
    "    ]\n",
    "]\n",
    "# Pandas will read json objects as strings,\n",
    "# here I am converting them into Python dict objects\n",
    "af_widgets[\"properties\"] = af_widgets[\"properties\"].apply(json.loads)\n",
    "##\n",
    "mat2d_properties_ids = af_widgets[(\n",
    "    af_widgets[\"title\"].str.upper()).isin(mat2d_titles)][[\n",
    "        \"properties\", \"analysis_framework_id\"\n",
    "    ]]\n",
    "mat2d_properties = mat2d_properties_ids[\"properties\"].tolist()\n",
    "mat2d_ids = mat2d_properties_ids[\"analysis_framework_id\"].tolist()\n",
    "## 1D Matrices\n",
    "# widget names of 1D matrices in the chosen AFs's\n",
    "mat1d_titles = [\n",
    "    s.upper() for s in [\n",
    "        \"Operational Environment\",  # iMMAP, 2020 Okular, Okular Generic, Colombia-AF, Nigeria Situation Analysis (OA), IFRC Master Framework 2019\n",
    "        \"Cross Sector\",  #Rohingya Framework, IFRC Analytical Framework 2018, \n",
    "        \"Matrix 1D\",  # Situation Analysis Generic Yemen, \n",
    "        \"Cross Sectors\",  # Situation Analysis Generic Libya\n",
    "    ]\n",
    "]\n",
    "mat1d_titles = mat1d_titles + [\n",
    "    sub_s.title() for sub_s in ('Operational Environment - Dimension',\n",
    "                                'Operational Environment - Subdimension')\n",
    "]\n",
    "mat1d_properties_ids = af_widgets[(\n",
    "    af_widgets[\"title\"].str.upper()).isin(mat1d_titles)][[\n",
    "        \"properties\", \"analysis_framework_id\"\n",
    "    ]]\n",
    "mat1d_properties = mat1d_properties_ids[\"properties\"].tolist()\n",
    "mat1d_ids = mat1d_properties_ids[\"analysis_framework_id\"].tolist()"
   ]
  },
  {
   "cell_type": "code",
   "execution_count": 10,
   "metadata": {
    "ExecuteTime": {
     "end_time": "2021-09-03T08:39:45.356172Z",
     "start_time": "2021-09-03T08:39:45.348953Z"
    },
    "scrolled": true
   },
   "outputs": [],
   "source": [
    "afids_pillars_subpillars = dict()\n",
    "errors = []\n",
    "for mat, af_id in zip(mat2d_properties, mat2d_ids):\n",
    "    try:\n",
    "        dims = mat[\"data\"]['dimensions']\n",
    "        afids_pillars_subpillars[af_id] = {}\n",
    "        for dim in dims:\n",
    "            pillar = dim[\"title\"]\n",
    "            sub_pillars = []\n",
    "            for sub_pillar_dict in dim[\"subdimensions\"]:\n",
    "                sub_pillars.append(sub_pillar_dict[\"title\"])\n",
    "            afids_pillars_subpillars[af_id][pillar] = sub_pillars\n",
    "    except KeyError:\n",
    "        errors.append([mat, af_id])\n",
    "##\n",
    "afids_rows_cells = dict()\n",
    "for mat, af_id in zip(mat1d_properties, mat1d_ids):\n",
    "    try:\n",
    "        rows = mat[\"data\"]['rows']\n",
    "        afids_rows_cells[af_id] = {}\n",
    "        for row in rows:\n",
    "            pillar = row[\"title\"]\n",
    "            sub_pillars = []\n",
    "            for sub_pillar_dict in row[\"cells\"]:\n",
    "                sub_pillars.append(sub_pillar_dict[\"value\"])\n",
    "            afids_rows_cells[af_id][pillar] = sub_pillars\n",
    "    except KeyError:\n",
    "        errors.append([mat, af_id])"
   ]
  },
  {
   "cell_type": "code",
   "execution_count": 11,
   "metadata": {
    "ExecuteTime": {
     "end_time": "2021-09-03T08:39:45.490605Z",
     "start_time": "2021-09-03T08:39:45.358483Z"
    }
   },
   "outputs": [],
   "source": [
    "def extract_title(x):\n",
    "    if x[\"excel\"].get(\"title\"):\n",
    "        return x[\"excel\"][\"title\"]\n",
    "    elif x[\"excel\"].get(\"type\") == \"multiple\":\n",
    "        return x[\"excel\"][\"titles\"]\n",
    "##\n",
    "exportables[\"data\"] = exportables[\"data\"].apply(literal_eval)\n",
    "af_titles = exportables[\"data\"].apply(extract_title).tolist()"
   ]
  },
  {
   "cell_type": "code",
   "execution_count": 12,
   "metadata": {
    "ExecuteTime": {
     "end_time": "2021-09-03T08:39:45.557841Z",
     "start_time": "2021-09-03T08:39:45.492131Z"
    }
   },
   "outputs": [
    {
     "name": "stdout",
     "output_type": "stream",
     "text": [
      "(170071, 21) (1203311, 4)\n",
      "(125863, 21) (1203311, 4)\n"
     ]
    }
   ],
   "source": [
    "print(entries.shape, exportdata.shape)\n",
    "entries = entries[entries[\"entry_type\"].eq(\"excerpt\") & (~entries[\"excerpt\"].isna())]\n",
    "print(entries.shape, exportdata.shape)"
   ]
  },
  {
   "cell_type": "code",
   "execution_count": 13,
   "metadata": {
    "ExecuteTime": {
     "end_time": "2021-09-03T08:39:45.562387Z",
     "start_time": "2021-09-03T08:39:45.559530Z"
    }
   },
   "outputs": [],
   "source": [
    "exid_to_exdata = dict()\n",
    "for ex_id, ex_data in zip(exportables[\"id\"], exportables[\"data\"]):\n",
    "    exid_to_exdata[ex_id] = ex_data"
   ]
  },
  {
   "cell_type": "code",
   "execution_count": 14,
   "metadata": {
    "ExecuteTime": {
     "end_time": "2021-09-03T08:39:45.567240Z",
     "start_time": "2021-09-03T08:39:45.564050Z"
    }
   },
   "outputs": [],
   "source": [
    "widget_key_id_to_title = dict()\n",
    "for w_key, w_id, title in zip(af_widgets[\"key\"], af_widgets[\"widget_id\"], af_widgets[\"title\"]):\n",
    "    widget_key_id_to_title[(w_key, w_id)] = title"
   ]
  },
  {
   "cell_type": "code",
   "execution_count": 15,
   "metadata": {
    "ExecuteTime": {
     "end_time": "2021-09-03T08:39:45.575655Z",
     "start_time": "2021-09-03T08:39:45.568989Z"
    }
   },
   "outputs": [],
   "source": [
    "def exportdata_to_tag_title(row):\n",
    "    data = json.loads(row[1])\n",
    "    wkey, wid = None, None\n",
    "    if data.get(\"common\"):\n",
    "        wkey = data.get(\"common\").get(\"widget_key\")\n",
    "        wid = data[\"common\"].get(\"widget_id\")\n",
    "    if wkey and wid:\n",
    "        if widget_key_id_to_title.get((wkey, wid)):\n",
    "            return widget_key_id_to_title.get((wkey, wid))\n",
    "    if data.get(\"report\") and data[\"report\"].get(\"other\"):\n",
    "            if len(data[\"report\"][\"other\"]) == 1 and data[\"report\"][\"other\"][0].get(\"title\"):\n",
    "                if data[\"report\"][\"other\"][0][\"title\"]:\n",
    "                    return data[\"report\"][\"other\"][0][\"title\"]\n",
    "    if isinstance(data.get(\"excel\"), list) and len(data[\"excel\"])==1 and \\\n",
    "     data[\"excel\"][0].get(\"widget_key\") and data[\"excel\"][0].get(\"widget_id\"):\n",
    "        wkey = data[\"excel\"][0][\"widget_key\"]\n",
    "        wid = data[\"excel\"][0][\"widget_id\"]\n",
    "        if widget_key_id_to_title.get((wkey, wid)):\n",
    "            return widget_key_id_to_title.get((wkey, wid))\n",
    "    exportable_id = row[3]\n",
    "    if exid_to_exdata[exportable_id][\"excel\"].get(\"title\"):\n",
    "        return exid_to_exdata[exportable_id][\"excel\"][\"title\"]\n",
    "    elif exid_to_exdata[exportable_id][\"excel\"].get(\"type\") == \"multiple\":\n",
    "        return exid_to_exdata[exportable_id][\"excel\"][\"titles\"]\n",
    "    raise"
   ]
  },
  {
   "cell_type": "code",
   "execution_count": 16,
   "metadata": {
    "ExecuteTime": {
     "end_time": "2021-09-03T08:40:02.061853Z",
     "start_time": "2021-09-03T08:39:45.577419Z"
    },
    "scrolled": true
   },
   "outputs": [],
   "source": [
    "exportdata[\"tag_title\"] = exportdata.apply(exportdata_to_tag_title, axis=1)"
   ]
  },
  {
   "cell_type": "code",
   "execution_count": 17,
   "metadata": {
    "ExecuteTime": {
     "end_time": "2021-09-03T08:40:02.067969Z",
     "start_time": "2021-09-03T08:40:02.063389Z"
    }
   },
   "outputs": [],
   "source": [
    "def exportdata_to_tag_value(row):\n",
    "    data = json.loads(row[1])\n",
    "    if isinstance(data[\"excel\"], list) and len(data[\"excel\"])==1:\n",
    "        return data[\"excel\"][0][\"value\"]\n",
    "    if data[\"excel\"].get(\"type\") == \"lists\":\n",
    "        return data[\"excel\"][\"values\"]\n",
    "    if isinstance(data[\"excel\"], dict) and \"value\" in data[\"excel\"]:\n",
    "        return data[\"excel\"].get(\"value\")\n",
    "    if isinstance(data[\"excel\"], dict) and \"values\" in data[\"excel\"]:\n",
    "        return data[\"excel\"].get(\"values\")\n",
    "    elif \"values\" in data[\"common\"]:\n",
    "        return data[\"common\"][\"values\"]\n",
    "    elif \"value\" in data[\"common\"]:\n",
    "        return data[\"common\"][\"value\"]\n",
    "    raise"
   ]
  },
  {
   "cell_type": "code",
   "execution_count": 18,
   "metadata": {
    "ExecuteTime": {
     "end_time": "2021-09-03T08:40:19.462726Z",
     "start_time": "2021-09-03T08:40:02.069476Z"
    }
   },
   "outputs": [],
   "source": [
    "exportdata[\"tag_value\"] = exportdata.apply(exportdata_to_tag_value, axis=1)"
   ]
  },
  {
   "cell_type": "code",
   "execution_count": 19,
   "metadata": {
    "ExecuteTime": {
     "end_time": "2021-09-03T08:40:19.467500Z",
     "start_time": "2021-09-03T08:40:19.464516Z"
    }
   },
   "outputs": [],
   "source": [
    "def title_case(tag):\n",
    "    if isinstance(tag, (list, tuple)):\n",
    "        return tuple([x.title() for x in tag])\n",
    "    return tag.title()"
   ]
  },
  {
   "cell_type": "code",
   "execution_count": 20,
   "metadata": {
    "ExecuteTime": {
     "end_time": "2021-09-03T08:40:20.021756Z",
     "start_time": "2021-09-03T08:40:19.469423Z"
    }
   },
   "outputs": [],
   "source": [
    "exportdata[\"tag_title\"] = exportdata[\"tag_title\"].apply(title_case)"
   ]
  },
  {
   "cell_type": "code",
   "execution_count": 21,
   "metadata": {
    "ExecuteTime": {
     "end_time": "2021-09-03T08:40:20.025887Z",
     "start_time": "2021-09-03T08:40:20.023444Z"
    }
   },
   "outputs": [],
   "source": [
    "mat_1d_and_flag_titles = [\n",
    "    'Flag', 'Operational Environment', 'Cross Sector','Temática',\n",
    "    ('Operational Environment - Dimension',\n",
    "     'Operational Environment - Subdimension'),\n",
    "    ('Flag - Dimension', 'Flag - Subdimension'),\n",
    "    ('High Level Tags - Dimension', 'High Level Tags - Subdimension')\n",
    "]"
   ]
  },
  {
   "cell_type": "code",
   "execution_count": 22,
   "metadata": {
    "ExecuteTime": {
     "end_time": "2021-09-03T08:40:20.029407Z",
     "start_time": "2021-09-03T08:40:20.027497Z"
    }
   },
   "outputs": [],
   "source": [
    "#exportdata.tag_title.unique()"
   ]
  },
  {
   "cell_type": "code",
   "execution_count": 23,
   "metadata": {
    "ExecuteTime": {
     "end_time": "2021-09-03T08:40:20.032951Z",
     "start_time": "2021-09-03T08:40:20.031069Z"
    }
   },
   "outputs": [],
   "source": [
    "#exportdata[exportdata[\"tag_title\"].isin([('Operational Environment - Dimension', 'Operational Environment - Subdimension')])][\"tag_value\"].tolist()\n",
    "#exportdata[exportdata[\"tag_title\"].eq('High Level Tags')][\"tag_value\"].tolist()"
   ]
  },
  {
   "cell_type": "code",
   "execution_count": 24,
   "metadata": {
    "ExecuteTime": {
     "end_time": "2021-09-03T08:40:20.038018Z",
     "start_time": "2021-09-03T08:40:20.034424Z"
    }
   },
   "outputs": [],
   "source": [
    "mat2d_titles = [s.title() for s in mat2d_titles]\n",
    "mat1d_titles = [\n",
    "    s.title() if isinstance(s, str) else (sub_s.title() for sub_s in s)\n",
    "    for s in mat1d_titles\n",
    "]\n",
    "mat_1d_and_flag_titles = [\n",
    "    s.title() if isinstance(s, str) else (sub_s.title() for sub_s in s)\n",
    "    for s in mat_1d_and_flag_titles\n",
    "]"
   ]
  },
  {
   "cell_type": "code",
   "execution_count": 25,
   "metadata": {
    "ExecuteTime": {
     "end_time": "2021-09-03T08:40:20.263084Z",
     "start_time": "2021-09-03T08:40:20.042206Z"
    }
   },
   "outputs": [],
   "source": [
    "exportdata_of_interest = exportdata[exportdata[\"tag_title\"].isin(\n",
    "    mat2d_titles + mat_1d_and_flag_titles)]"
   ]
  },
  {
   "cell_type": "code",
   "execution_count": 26,
   "metadata": {
    "ExecuteTime": {
     "end_time": "2021-09-03T08:40:20.274894Z",
     "start_time": "2021-09-03T08:40:20.265953Z"
    }
   },
   "outputs": [
    {
     "data": {
      "text/plain": [
       "((224492, 6), (125863, 21))"
      ]
     },
     "execution_count": 26,
     "metadata": {},
     "output_type": "execute_result"
    }
   ],
   "source": [
    "exportdata_of_interest.shape, entries.shape"
   ]
  },
  {
   "cell_type": "code",
   "execution_count": 27,
   "metadata": {
    "ExecuteTime": {
     "end_time": "2021-09-03T08:40:20.543385Z",
     "start_time": "2021-09-03T08:40:20.276372Z"
    }
   },
   "outputs": [],
   "source": [
    "entries_labeled = pd.merge(entries,\n",
    "                           exportdata_of_interest,\n",
    "                           how=\"inner\",\n",
    "                           left_on=\"id\",\n",
    "                           right_on=\"entry_id\",\n",
    "                           suffixes=('_entry', '_exportdata'))"
   ]
  },
  {
   "cell_type": "code",
   "execution_count": 28,
   "metadata": {
    "ExecuteTime": {
     "end_time": "2021-09-03T08:40:20.554178Z",
     "start_time": "2021-09-03T08:40:20.545515Z"
    }
   },
   "outputs": [
    {
     "data": {
      "text/plain": [
       "((160835,), (124841,))"
      ]
     },
     "execution_count": 28,
     "metadata": {},
     "output_type": "execute_result"
    }
   ],
   "source": [
    "entries_labeled[\"id_entry\"].shape, entries_labeled[\"id_entry\"].unique().shape"
   ]
  },
  {
   "cell_type": "code",
   "execution_count": 29,
   "metadata": {
    "ExecuteTime": {
     "end_time": "2021-09-03T08:40:20.559208Z",
     "start_time": "2021-09-03T08:40:20.555785Z"
    }
   },
   "outputs": [],
   "source": [
    "def agg_group(group):\n",
    "    tag_titles = group[\"tag_title\"]\n",
    "    tag_values = group[\"tag_value\"]\n",
    "    #\n",
    "    grouped = defaultdict(list)\n",
    "    for title, value in zip(tag_titles, tag_values):\n",
    "        if title in mat_1d_and_flag_titles:\n",
    "            grouped[\"Mat1D\"].extend(value)\n",
    "        elif title in mat2d_titles:\n",
    "            grouped[\"Mat2D\"].extend(value)\n",
    "    return grouped"
   ]
  },
  {
   "cell_type": "code",
   "execution_count": 30,
   "metadata": {
    "ExecuteTime": {
     "end_time": "2021-09-03T08:40:20.564252Z",
     "start_time": "2021-09-03T08:40:20.560915Z"
    }
   },
   "outputs": [
    {
     "data": {
      "text/plain": [
       "Index(['id_entry', 'created_at', 'modified_at', 'excerpt', 'image_raw',\n",
       "       'analysis_framework_id', 'created_by_id', 'lead_id', 'modified_by_id',\n",
       "       'entry_type', 'information_date', 'order', 'client_id', 'project_id',\n",
       "       'tabular_field_id', 'dropped_excerpt', 'highlight_hidden', 'verified',\n",
       "       'verification_last_changed_by_id', 'image_id', 'title', 'id_exportdata',\n",
       "       'data', 'entry_id', 'exportable_id', 'tag_title', 'tag_value'],\n",
       "      dtype='object')"
      ]
     },
     "execution_count": 30,
     "metadata": {},
     "output_type": "execute_result"
    }
   ],
   "source": [
    "entries_labeled.columns"
   ]
  },
  {
   "cell_type": "code",
   "execution_count": 31,
   "metadata": {
    "ExecuteTime": {
     "end_time": "2021-09-03T08:40:30.000322Z",
     "start_time": "2021-09-03T08:40:20.565812Z"
    },
    "scrolled": true
   },
   "outputs": [],
   "source": [
    "tags = entries_labeled.groupby(\"id_entry\").apply(agg_group)"
   ]
  },
  {
   "cell_type": "code",
   "execution_count": 32,
   "metadata": {
    "ExecuteTime": {
     "end_time": "2021-09-03T08:40:30.011377Z",
     "start_time": "2021-09-03T08:40:30.001829Z"
    }
   },
   "outputs": [],
   "source": [
    "entryids_tags = pd.DataFrame({\"entry_id\": tags.index, \"tags\": tags.values})"
   ]
  },
  {
   "cell_type": "code",
   "execution_count": 33,
   "metadata": {
    "ExecuteTime": {
     "end_time": "2021-09-03T08:40:30.016765Z",
     "start_time": "2021-09-03T08:40:30.013164Z"
    }
   },
   "outputs": [
    {
     "data": {
      "text/plain": [
       "(124841, 2)"
      ]
     },
     "execution_count": 33,
     "metadata": {},
     "output_type": "execute_result"
    }
   ],
   "source": [
    "entryids_tags.shape"
   ]
  },
  {
   "cell_type": "code",
   "execution_count": 34,
   "metadata": {
    "ExecuteTime": {
     "end_time": "2021-09-03T08:40:30.312804Z",
     "start_time": "2021-09-03T08:40:30.018330Z"
    }
   },
   "outputs": [
    {
     "name": "stdout",
     "output_type": "stream",
     "text": [
      "(125863, 21)\n",
      "(125863, 14)\n"
     ]
    }
   ],
   "source": [
    "entries_ = entries.rename({\"id\": \"entry_id\"}, axis=1, inplace=False)\n",
    "#\n",
    "print(entries.shape)\n",
    "#\n",
    "entries_ = entries_[[\n",
    "    'entry_id',\n",
    "    'created_at',\n",
    "    'modified_at',\n",
    "    'excerpt',\n",
    "    'entry_type',\n",
    "    'analysis_framework_id',\n",
    "    'created_by_id',\n",
    "    'lead_id',\n",
    "    'modified_by_id',\n",
    "    'information_date',\n",
    "    'order',\n",
    "    'project_id',\n",
    "    'title',\n",
    "    'verified',\n",
    "]].drop_duplicates()\n",
    "#\n",
    "print(entries_.shape)"
   ]
  },
  {
   "cell_type": "code",
   "execution_count": 35,
   "metadata": {
    "ExecuteTime": {
     "end_time": "2021-09-03T08:40:30.398960Z",
     "start_time": "2021-09-03T08:40:30.314267Z"
    }
   },
   "outputs": [
    {
     "data": {
      "text/plain": [
       "((124841, 15),\n",
       " Index(['entry_id', 'created_at', 'modified_at', 'excerpt', 'entry_type',\n",
       "        'analysis_framework_id', 'created_by_id', 'lead_id', 'modified_by_id',\n",
       "        'information_date', 'order', 'project_id', 'title', 'verified', 'tags'],\n",
       "       dtype='object'))"
      ]
     },
     "execution_count": 35,
     "metadata": {},
     "output_type": "execute_result"
    }
   ],
   "source": [
    "entries_labeled = pd.merge(entries_, entryids_tags, on=\"entry_id\", how=\"inner\")\n",
    "entries_labeled.shape, entries_labeled.columns"
   ]
  },
  {
   "cell_type": "code",
   "execution_count": 36,
   "metadata": {
    "ExecuteTime": {
     "end_time": "2021-09-03T08:40:30.896729Z",
     "start_time": "2021-09-03T08:40:30.400525Z"
    }
   },
   "outputs": [
    {
     "data": {
      "text/plain": [
       "0"
      ]
     },
     "execution_count": 36,
     "metadata": {},
     "output_type": "execute_result"
    }
   ],
   "source": [
    "entries_labeled[\"tags_str\"] = entries_labeled[\"tags\"].apply(str)\n",
    "entries_labeled.duplicated(subset=[\"entry_id\", \"tags_str\"]).sum()"
   ]
  },
  {
   "cell_type": "code",
   "execution_count": 37,
   "metadata": {
    "ExecuteTime": {
     "end_time": "2021-09-03T08:40:30.903483Z",
     "start_time": "2021-09-03T08:40:30.898229Z"
    }
   },
   "outputs": [
    {
     "data": {
      "text/plain": [
       "0"
      ]
     },
     "execution_count": 37,
     "metadata": {},
     "output_type": "execute_result"
    }
   ],
   "source": [
    "entries_labeled[\"entry_id\"].duplicated().sum()"
   ]
  },
  {
   "cell_type": "code",
   "execution_count": 38,
   "metadata": {
    "ExecuteTime": {
     "end_time": "2021-09-03T08:40:30.908322Z",
     "start_time": "2021-09-03T08:40:30.905019Z"
    }
   },
   "outputs": [
    {
     "data": {
      "text/plain": [
       "(124841, 16)"
      ]
     },
     "execution_count": 38,
     "metadata": {},
     "output_type": "execute_result"
    }
   ],
   "source": [
    "entries_labeled.shape"
   ]
  },
  {
   "cell_type": "code",
   "execution_count": 39,
   "metadata": {
    "ExecuteTime": {
     "end_time": "2021-09-03T08:40:30.921930Z",
     "start_time": "2021-09-03T08:40:30.909937Z"
    }
   },
   "outputs": [
    {
     "data": {
      "text/plain": [
       "0"
      ]
     },
     "execution_count": 39,
     "metadata": {},
     "output_type": "execute_result"
    }
   ],
   "source": [
    "entries_labeled[\"tags\"].isna().sum()"
   ]
  },
  {
   "cell_type": "code",
   "execution_count": 40,
   "metadata": {
    "ExecuteTime": {
     "end_time": "2021-09-03T08:40:31.092855Z",
     "start_time": "2021-09-03T08:40:30.923532Z"
    }
   },
   "outputs": [
    {
     "data": {
      "text/plain": [
       "((125863, 21), (123745,))"
      ]
     },
     "execution_count": 40,
     "metadata": {},
     "output_type": "execute_result"
    }
   ],
   "source": [
    "entries.shape, entries[~entries[\"excerpt\"].isna()][\"excerpt\"].unique().shape"
   ]
  },
  {
   "cell_type": "code",
   "execution_count": 41,
   "metadata": {
    "ExecuteTime": {
     "end_time": "2021-09-03T08:40:31.097779Z",
     "start_time": "2021-09-03T08:40:31.094241Z"
    }
   },
   "outputs": [
    {
     "data": {
      "text/plain": [
       "((124841, 16),\n",
       " Index(['entry_id', 'created_at', 'modified_at', 'excerpt', 'entry_type',\n",
       "        'analysis_framework_id', 'created_by_id', 'lead_id', 'modified_by_id',\n",
       "        'information_date', 'order', 'project_id', 'title', 'verified', 'tags',\n",
       "        'tags_str'],\n",
       "       dtype='object'))"
      ]
     },
     "execution_count": 41,
     "metadata": {},
     "output_type": "execute_result"
    }
   ],
   "source": [
    "entries_labeled.shape, entries_labeled.columns"
   ]
  },
  {
   "cell_type": "code",
   "execution_count": 42,
   "metadata": {
    "ExecuteTime": {
     "end_time": "2021-09-03T08:40:31.108806Z",
     "start_time": "2021-09-03T08:40:31.099257Z"
    }
   },
   "outputs": [],
   "source": [
    "def tags_to_pillars(x):\n",
    "    tags = x[0]\n",
    "    af_id = x[1]\n",
    "    pillars = []\n",
    "    for tag_key, tag_value in tags.items():\n",
    "        if tag_key != \"Mat2D\":\n",
    "            continue\n",
    "        if len(tag_value):\n",
    "            for t in tag_value:\n",
    "                if t[0] and t[1]:\n",
    "                    pillars.append(\n",
    "                        str(af_id) + \"->\" + t[0].title() + \"->\" + t[1].title())\n",
    "    return list(set(pillars))\n",
    "\n",
    "\n",
    "def tags_to_sectors(x):\n",
    "    tags = x[0]\n",
    "    af_id = x[1]\n",
    "    sectors = []\n",
    "    for tag_key, tag_value in tags.items():\n",
    "        if tag_key != \"Mat2D\":\n",
    "            continue\n",
    "        if len(tag_value):\n",
    "            for t in tag_value:\n",
    "                if len(t) > 2 and t[2]:\n",
    "                    sectors.append(t[2].title())\n",
    "    return list(set(sectors))\n",
    "\n",
    "\n",
    "def tags_to_subsectors(x):\n",
    "    tags = x[0]\n",
    "    af_id = x[1]\n",
    "    subsectors = []\n",
    "    for tag_key, tag_value in tags.items():\n",
    "        if tag_key != \"Mat2D\":\n",
    "            continue\n",
    "        if len(tag_value):\n",
    "            subsectors = []\n",
    "            for t in tag_value:\n",
    "                if len(t) > 3 and t[3]:\n",
    "                    if isinstance(t[3], list):\n",
    "                        subsectors.extend([x.title() for x in t[3]])\n",
    "                    else:\n",
    "                        subsectors.append(t[3].title())\n",
    "    return list(set(subsectors))\n",
    "\n",
    "\n",
    "##\n",
    "def tags_to_label2d(x):\n",
    "    tags = x[0]\n",
    "    af_id = x[1]\n",
    "    label2d = []\n",
    "    for tag_key, tag_value in tags.items():\n",
    "        if tag_key != \"Mat2D\":\n",
    "            continue\n",
    "        if len(tag_value):\n",
    "            for t in tag_value:\n",
    "                if t[0] and t[1]:\n",
    "                    label2d.append(\"AF-ID:\" + str(af_id) + \"->Sector:\" +\n",
    "                                   t[2].title() + \"->Pillar:\" + t[0].title() +\n",
    "                                   \"->Sub-pillar:\" + t[1].title())\n",
    "    return list(set(label2d))\n",
    "\n",
    "\n",
    "##\n",
    "def tags_to_pillars_1d(x):\n",
    "    tags = x[0]\n",
    "    af_id = x[1]\n",
    "    pillars_1d = []\n",
    "    for tag_key, tag_value in tags.items():\n",
    "        if tag_key != \"Mat1D\":\n",
    "            continue\n",
    "        if len(tag_value):\n",
    "            for t in tag_value:\n",
    "                if t[0] and t[1]:\n",
    "                    pillars_1d.append(\n",
    "                        str(af_id) + \"->\" + t[0].title() + \"->\" + t[1].title())\n",
    "    return list(set(pillars_1d))"
   ]
  },
  {
   "cell_type": "code",
   "execution_count": 43,
   "metadata": {
    "ExecuteTime": {
     "end_time": "2021-09-03T08:40:38.236565Z",
     "start_time": "2021-09-03T08:40:31.110318Z"
    },
    "scrolled": true
   },
   "outputs": [],
   "source": [
    "entries_labeled[\"pillars\"] = entries_labeled[[\"tags\", 'analysis_framework_id'\n",
    "                                              ]].apply(tags_to_pillars, axis=1)\n",
    "entries_labeled[\"sectors\"] = entries_labeled[[\"tags\", 'analysis_framework_id'\n",
    "                                              ]].apply(tags_to_sectors, axis=1)\n",
    "entries_labeled[\"subsectors\"] = entries_labeled[[\n",
    "    \"tags\", 'analysis_framework_id'\n",
    "]].apply(tags_to_subsectors, axis=1)\n",
    "##\n",
    "entries_labeled[\"label_2d\"] = entries_labeled[[\n",
    "    \"tags\", 'analysis_framework_id'\n",
    "]].apply(tags_to_label2d, axis=1)\n",
    "##\n",
    "entries_labeled[\"pillars_1d\"] = entries_labeled[[\"tags\", 'analysis_framework_id'\n",
    "                                              ]].apply(tags_to_pillars_1d, axis=1)"
   ]
  },
  {
   "cell_type": "code",
   "execution_count": 44,
   "metadata": {
    "ExecuteTime": {
     "end_time": "2021-09-03T08:40:38.477401Z",
     "start_time": "2021-09-03T08:40:38.239860Z"
    }
   },
   "outputs": [
    {
     "data": {
      "text/plain": [
       "(122786,)"
      ]
     },
     "execution_count": 44,
     "metadata": {},
     "output_type": "execute_result"
    }
   ],
   "source": [
    "entries_labeled[~entries_labeled[\"excerpt\"].isna()][\"excerpt\"].unique().shape"
   ]
  },
  {
   "cell_type": "code",
   "execution_count": 45,
   "metadata": {
    "ExecuteTime": {
     "end_time": "2021-09-03T08:40:38.539557Z",
     "start_time": "2021-09-03T08:40:38.478761Z"
    }
   },
   "outputs": [
    {
     "data": {
      "text/plain": [
       "(289,\n",
       " [('1306->Covid-19 Overview->Cases', 5423),\n",
       "  ('1306->Displacement->Type/Numbers/Movements', 3857),\n",
       "  ('1306->Context->Security & Stability', 3776),\n",
       "  ('1306->Covid-19 Overview->Deaths', 3046),\n",
       "  ('1306->Covid-19 Overview->Vaccination', 2743),\n",
       "  ('829->Displacement ->Displacement', 2502),\n",
       "  ('699->Humanitarian Profile->Affected Groups', 2439),\n",
       "  ('1306->Covid-19 Containment Measures->Public Health Measures', 2237),\n",
       "  ('1306->Context->Economy', 2235),\n",
       "  ('1306->Casualties->Dead', 2180),\n",
       "  ('1306->Displacement->Push Factors', 1671),\n",
       "  ('829->Context->Legal Or Normative Framework', 1659),\n",
       "  ('1306->Covid-19 Overview->Testing', 1601),\n",
       "  ('699->Context->Demography', 1299),\n",
       "  ('1306->Covid-19 Containment Measures->Movement Restrictions', 1252),\n",
       "  ('829->Displacement ->Local Integration', 1128),\n",
       "  ('537->Humanitarian Profile->Affected Groups', 1114),\n",
       "  ('699->Humanitarian Profile->Casualties', 991),\n",
       "  ('552->Humanitarian Profile->Affected Groups', 987),\n",
       "  ('1306->Covid-19 Containment Measures->Physical Distancing', 862),\n",
       "  ('1004->Displacement Profile->Type/Numbers', 849),\n",
       "  ('829->Context->Demographics', 842),\n",
       "  ('1306->Covid-19 Communication & Information->Channels & Means', 828),\n",
       "  ('1306->Humanitarian Access->Physical Constraints', 811),\n",
       "  ('1306->Flag->Hazard & Threats', 800),\n",
       "  ('1306->Shock /Event/Ongoing Conditions->Type And Characteristics', 778),\n",
       "  ('1306->Covid-19 Communication & Information->Prevention Campaigns', 775),\n",
       "  ('829->Durable Solutions->Local Integration', 774),\n",
       "  ('699->Humanitarian Profile->Population Movement', 771),\n",
       "  ('1306->Context->Politics', 750),\n",
       "  ('1306->Covid-19 Communication & Information->Knowledge & Misinformation',\n",
       "   738),\n",
       "  ('1306->Flag->Response Gap', 724),\n",
       "  ('137->Context->Security', 704),\n",
       "  ('699->Humanitarian Profile->Push/Pull Factors', 684),\n",
       "  ('699->Flag->Hazard & Threats', 673),\n",
       "  ('552->Humanitarian Profile->Casualties', 633),\n",
       "  ('1306->Context->Environment', 627),\n",
       "  ('1306->Covid-19 Overview->Contact Tracing', 619),\n",
       "  ('699->Context->Economy', 609),\n",
       "  ('1306->Context->Legal & Policy', 588),\n",
       "  ('136->Humanitarian Profile->Affected Groups', 581),\n",
       "  ('1306->Covid-19 Containment Measures->Lockdown', 572),\n",
       "  ('1306->Context->Socio Cultural', 559),\n",
       "  ('1306->Displacement->Local Integration', 549),\n",
       "  ('829->Context->Economic', 548),\n",
       "  ('552->Context->Demography', 545),\n",
       "  ('1004->Casualties->Dead', 545),\n",
       "  ('829->Event/Shock->Aggravating Factors', 537),\n",
       "  ('1306->Context->Demography', 527),\n",
       "  ('537->Humanitarian Profile->Casualties', 520),\n",
       "  ('1306->Covid-19 Overview->Hospitalization & Care', 510),\n",
       "  ('829->Context->Security', 507),\n",
       "  ('699->Flag->Overview', 480),\n",
       "  ('537->Context->Security', 476),\n",
       "  ('552->Humanitarian Profile->Push/Pull Factors', 473),\n",
       "  ('829->Context->Political', 459),\n",
       "  ('699->Event/Shock->Shock/Driver', 453),\n",
       "  ('699->Event/Shock->Underlying Factors/Pre-Existing Vulnerabilities', 445),\n",
       "  ('137->Humanitarian Profile->Affected Groups', 441),\n",
       "  ('829->Displacement ->Push/Pull Factors', 425),\n",
       "  ('1306->Humanitarian Access->Relief To Beneficiaries', 416),\n",
       "  ('699->Context->Socio Cultural', 411),\n",
       "  ('1306->Flag->Information Gaps', 404),\n",
       "  ('552->Context->Security', 403),\n",
       "  ('1004->Displacement Profile->Movement', 382),\n",
       "  ('273->Humanitarian Profile->Affected Groups', 375),\n",
       "  ('1306->Casualties->Injured', 364),\n",
       "  ('829->Casualties->Dead', 358),\n",
       "  ('537->Humanitarian Profile->Push/Pull Factors', 348),\n",
       "  ('552->Humanitarian Profile->Population Movement', 344),\n",
       "  ('1306->Shock /Event/Ongoing Conditions->Aggravating Factors', 333),\n",
       "  ('1306->Flag->Overview', 331),\n",
       "  ('273->Context->Risk', 326),\n",
       "  ('1306->Flag->Stakeholders', 323),\n",
       "  ('1004->Context->Security', 322),\n",
       "  ('1004->Displacement Profile->Push Factors', 322),\n",
       "  ('1004->Context->Demography', 320),\n",
       "  ('1306->Displacement->Pull Factors', 317),\n",
       "  ('136->Context->Security', 310),\n",
       "  ('829->Context->Socio-Cultural', 308),\n",
       "  ('699->Humanitarian Access->Physical Constraints', 302),\n",
       "  ('1306->Flag->Key Event', 292),\n",
       "  ('137->Population Profile->Population With Specific Needs', 290),\n",
       "  ('137->Humanitarian Profile->Casualties', 290),\n",
       "  ('1306->Covid-19 Overview->Research & Outlook', 287),\n",
       "  ('495->Displacement->Affected Groups', 285),\n",
       "  ('136->Humanitarian Profile->Casualties', 283),\n",
       "  ('136->Humanitarian Profile->Population Movement', 276),\n",
       "  ('552->Flag->Hazard & Threats', 274),\n",
       "  ('829->Displacement ->Intentions', 261),\n",
       "  ('136->Population Profile->Population With Specific Needs', 259),\n",
       "  ('273->Context->Overview', 257),\n",
       "  ('1306->Humanitarian Access->Humanitarian Access Gaps', 251),\n",
       "  ('829->Event/Shock->Type And Characteristics', 246),\n",
       "  ('273->Humanitarian Profile->Casualties Or Injured', 242),\n",
       "  ('495->Context->Economy', 238),\n",
       "  ('699->Context->Security', 237),\n",
       "  ('699->Information->Communication Means & Channels', 236),\n",
       "  ('699->Information->Information Needs & Gaps', 232),\n",
       "  ('1306->Displacement->Intentions', 223),\n",
       "  ('1306->Covid-19 Containment Measures->Compliance & Resistance To Measures',\n",
       "   222),\n",
       "  ('1004->Humanitarian Access->Physical Constraints', 219),\n",
       "  ('1306->Casualties->Missing', 219),\n",
       "  ('537->Humanitarian Profile->Population Movement', 218),\n",
       "  ('537->Context->Demography', 215),\n",
       "  ('136->Population Profile->Demographic Profile', 206),\n",
       "  ('699->Flag->Key Event', 193),\n",
       "  ('699->Context->Legal  & Policy', 188),\n",
       "  ('1306->Covid-19 Communication & Information->Challenges & Barriers', 186),\n",
       "  ('273->Context->Politics', 179),\n",
       "  ('829->Context->Environment', 179),\n",
       "  ('699->Humanitarian Access->Relief To Beneficiaries', 175),\n",
       "  ('273->Humanitarian Access->Physical Constraints', 159),\n",
       "  ('495->Context->Security', 154),\n",
       "  ('699->Context->Politics', 153),\n",
       "  ('137->Context->Stakeholders', 152),\n",
       "  ('1004->Casualties->Injured', 152),\n",
       "  ('1306->Flag->Lessons Learnt', 151),\n",
       "  ('137->Population Profile->Demographic Profile', 150),\n",
       "  ('552->Humanitarian Access->Physical Constraints', 148),\n",
       "  ('273->Humanitarian Profile->Population Movement', 145),\n",
       "  ('495->Flag->Overview', 143),\n",
       "  ('273->Context->Key Events', 142),\n",
       "  ('273->Population Profile->Demographic Profile', 136),\n",
       "  ('136->Humanitarian Profile->Push/Pull Factors', 131),\n",
       "  ('829->Casualties->Injured', 130),\n",
       "  ('1004->Context->Economy', 121),\n",
       "  ('273->Population Profile->Population With Specific Needs', 117),\n",
       "  ('552->Flag->Stakeholders', 117),\n",
       "  ('495->Displacement->Casualties', 116),\n",
       "  ('495->Context->Politics', 114),\n",
       "  ('552->Flag->Overview', 114),\n",
       "  ('1004->Flag->Hazard & Threats', 113),\n",
       "  ('537->Flag->Stakeholders', 110),\n",
       "  ('537->Humanitarian Access->Physical Constraints', 109),\n",
       "  ('699->Humanitarian Access->Humanitarian Access Gaps', 109),\n",
       "  ('137->Context->Hazard Developments', 107),\n",
       "  ('273->Context->Security', 102),\n",
       "  ('829->Event/Shock->Pre-Existing Vulnerabilities ', 101),\n",
       "  ('699->Flag->Stakeholders', 98),\n",
       "  ('1306->Humanitarian Access->Beneficiaries To Relief', 98),\n",
       "  ('829->Event/Shock->Hazard And Threats', 92),\n",
       "  ('137->Context->Economy', 91),\n",
       "  ('137->Context->Politics', 89),\n",
       "  ('137->Context->Overview', 89),\n",
       "  ('136->Context->Stakeholders', 86),\n",
       "  ('829->Durable Solutions->Voluntary Repatriation', 83),\n",
       "  ('136->Context->Overview', 82),\n",
       "  ('552->Humanitarian Access->Humanitarian Access Gaps', 81),\n",
       "  ('699->Context->Environment', 79),\n",
       "  ('136->Context->Economy', 77),\n",
       "  ('1004->Context->Politics', 76),\n",
       "  ('495->Displacement->Displacement', 73),\n",
       "  ('699->Information->Information Challenges', 72),\n",
       "  ('495->Context->Demography', 72),\n",
       "  ('137->Humanitarian Profile->Population Movement', 69),\n",
       "  ('273->Communication ->Information Gaps', 69),\n",
       "  ('1004->Flag->Stakeholders', 69),\n",
       "  ('137->Humanitarian Access->Physical Constraints', 66),\n",
       "  ('273->Context->Economy', 65),\n",
       "  ('829->Humanitarian Access->Pin To Relief', 65),\n",
       "  ('1004->Humanitarian Access->Relief To Beneficiaries', 64),\n",
       "  ('495->Displacement->Push/Pull Factors', 60),\n",
       "  ('137->Context->Risk', 59),\n",
       "  ('495->Flag->Key Event', 59),\n",
       "  ('1004->Flag->Overview', 58),\n",
       "  ('537->Context->Politics', 57),\n",
       "  ('136->Humanitarian Access->Relief To Beneficiaries', 57),\n",
       "  ('136->Context->Politics', 57),\n",
       "  ('1004->Context->Legal/Policy', 57),\n",
       "  ('273->Communication ->Communication Means', 56),\n",
       "  ('137->Humanitarian Access->Relief To Beneficiaries', 55),\n",
       "  ('136->Humanitarian Access->Physical Constraints', 55),\n",
       "  ('829->Humanitarian Access->Relief To Pin', 55),\n",
       "  ('829->Humanitarian Access->Physical Constraints', 55),\n",
       "  ('495->Humanitarian Access->Relief To Beneficiaries', 55),\n",
       "  ('699->Humanitarian Access->Beneficiaries To Relief', 55),\n",
       "  ('537->Flag->Hazard & Threats', 54),\n",
       "  ('552->Information->Information Needs & Gaps', 53),\n",
       "  ('552->Context->Socio Cultural', 52),\n",
       "  ('137->Humanitarian Profile->Push/Pull Factors', 50),\n",
       "  ('273->Humanitarian Access->Relief To Beneficiaries', 50),\n",
       "  ('273->Context->Society And Community', 49),\n",
       "  ('552->Context->Politics', 49),\n",
       "  ('537->Information->Information Needs & Gaps', 47),\n",
       "  ('537->Flag->Overview', 45),\n",
       "  ('495->Context->Legal  & Policy', 44),\n",
       "  ('552->Humanitarian Access->Relief To Beneficiaries', 43),\n",
       "  ('552->Context->Economy', 41),\n",
       "  ('273->Humanitarian Access->Humanitarian Access Gaps', 41),\n",
       "  ('495->Event/Schock->Aggravating Factors', 41),\n",
       "  ('829->Information And Communication->Info Barriers And Challenges', 41),\n",
       "  ('495->Flag->Stakeholders', 37),\n",
       "  ('273->Humanitarian Profile->Push/Pull Factors', 36),\n",
       "  ('1004->Humanitarian Access->Humanitarian Access Gaps', 35),\n",
       "  ('829->Information And Communication->Knoweldge And Info Needs', 35),\n",
       "  ('537->Context->Economy', 33),\n",
       "  ('829->Casualties->Missing', 31),\n",
       "  ('537->Context->Legal  & Policy', 30),\n",
       "  ('495->Information->Information Needs & Gaps', 30),\n",
       "  ('552->Information->Information Challenges', 28),\n",
       "  ('273->Communication ->Information Needs', 27),\n",
       "  ('1004->Information->Communication Means', 27),\n",
       "  ('829->Information And Communication->Info And Comm Means', 27),\n",
       "  ('1004->Flag->Key Event', 27),\n",
       "  ('537->Humanitarian Access->Relief To Beneficiaries', 26),\n",
       "  ('552->Information->Communication Means & Channels', 26),\n",
       "  ('1004->Information->Information Gaps', 25),\n",
       "  ('137->Context->Society And Community', 24),\n",
       "  ('273->Communication ->Information Challenges', 23),\n",
       "  ('495->Context->Socio Cultural', 23),\n",
       "  ('1004->Displacement Profile->Pull Factors', 22),\n",
       "  ('537->Flag->Key Event', 21),\n",
       "  ('495->Context->Environment', 21),\n",
       "  ('495->Humanitarian Access->Physical Constraints', 20),\n",
       "  ('273->Population Profile->Economic Profile', 19),\n",
       "  ('495->Flag->Hazard/Threats/Risk', 19),\n",
       "  ('552->Flag->Key Event', 19),\n",
       "  ('1004->Casualties->Missing', 19),\n",
       "  ('829->Durable Solutions->Resettlement', 19),\n",
       "  ('1004->Flag->Response Gap', 19),\n",
       "  ('495->Information->Communication Means & Channels', 19),\n",
       "  ('136->Communication->Information Gaps', 18),\n",
       "  ('1004->Context->Socio Cultural', 18),\n",
       "  ('273->Humanitarian Access->Beneficiaries To Relief', 15),\n",
       "  ('1004->Information->Information Challenges', 15),\n",
       "  ('273->Population Profile->Social Profile', 13),\n",
       "  ('1306->Shock /Event/Ongoing Conditions->Mtitigating Factors', 13),\n",
       "  ('136->Context->Key Events', 12),\n",
       "  ('1004->Context->Environment', 12),\n",
       "  ('136->Context->Risk', 11),\n",
       "  ('137->Context->Key Events', 11),\n",
       "  ('552->Context->Legal  & Policy', 11),\n",
       "  ('136->Context->Society And Community', 11),\n",
       "  ('136->Context->Hazard Developments', 10),\n",
       "  ('136->Population Profile->Economic Profile', 10),\n",
       "  ('495->Humanitarian Access->Beneficiaries To Relief', 9),\n",
       "  ('495->Information->Information Challenges', 9),\n",
       "  ('1004->Information->Information Needs', 9),\n",
       "  ('552->Humanitarian Access->Beneficiaries To Relief', 8),\n",
       "  ('537->Information->Information Challenges', 8),\n",
       "  ('273->Context->Stakeholder', 7),\n",
       "  ('137->Population Profile->Economic Profile', 7),\n",
       "  ('136->Communication->Communication Means', 7),\n",
       "  ('537->Information->Communication Means & Channels', 7),\n",
       "  ('1004->Displacement Profile->Local Integration', 7),\n",
       "  ('1004->Humanitarian Access->Beneficiaries To Relief', 7),\n",
       "  ('537->Context->Socio Cultural', 6),\n",
       "  ('137->Humanitarian Access->Humanitarian Access Gaps', 6),\n",
       "  ('495->Casualties->Injured', 6),\n",
       "  ('799->Context->Overview', 6),\n",
       "  ('495->Event/Schock->Type And Characteristics', 6),\n",
       "  ('137->Communication->Communication Means', 5),\n",
       "  ('136->Communication->Information Needs', 5),\n",
       "  ('726->Context->Legal Or Normative Framework', 5),\n",
       "  ('137->Communication->Information Gaps', 4),\n",
       "  ('799->Context->Security', 4),\n",
       "  ('495->Humanitarian Access->Humanitarian Access Gaps', 4),\n",
       "  ('137->Humanitarian Access->Beneficiaries To Relief', 3),\n",
       "  ('136->Communication->Information Challenges', 3),\n",
       "  ('137->Population Profile->Social Profile', 3),\n",
       "  ('537->Humanitarian Access->Beneficiaries To Relief', 3),\n",
       "  ('799->Context->Politics', 3),\n",
       "  ('829->Event/Shock->Mitigating Factors', 3),\n",
       "  ('726->Displacement ->Displacement', 3),\n",
       "  ('495->Casualties->Dead', 3),\n",
       "  ('1004->Displacement Profile->Intentions', 3),\n",
       "  ('1004->Shock And Event->Type And Characteristics', 3),\n",
       "  ('137->Communication->Information Challenges', 2),\n",
       "  ('799->Context->Hazard Development', 2),\n",
       "  ('136->Humanitarian Access->Beneficiaries To Relief', 2),\n",
       "  ('726->Context->Economic', 2),\n",
       "  ('136->Population Profile->Social Profile', 1),\n",
       "  ('537->Humanitarian Access->Humanitarian Access Gaps', 1),\n",
       "  ('726->Information->Information Needs & Gaps', 1),\n",
       "  ('726->Humanitarian Profile->Affected Groups', 1),\n",
       "  ('726->Context->Socio-Cultural', 1),\n",
       "  ('726->Context->Socio Cultural', 1),\n",
       "  ('537->Context->Environment', 1),\n",
       "  ('726->Humanitarian Profile->Population Movement', 1),\n",
       "  ('799->Population Profile->Demographic Profile', 1),\n",
       "  ('799->Context->Risk', 1),\n",
       "  ('799->Context->Key Events', 1),\n",
       "  ('799->Communication ->Information Gaps', 1),\n",
       "  ('552->Context->Environment', 1),\n",
       "  ('137->Communication->Information Needs', 1),\n",
       "  ('726->Context->Demographics', 1),\n",
       "  ('1004->Shock And Event->Aggravating Factors', 1),\n",
       "  ('829->Humanitarian Access->Numb Of People Facing Access Constraints', 1)])"
      ]
     },
     "execution_count": 45,
     "metadata": {},
     "output_type": "execute_result"
    }
   ],
   "source": [
    "pills_unique_1d = set()\n",
    "pills_occurances_1d = list()\n",
    "for pills_1d in entries_labeled[\"pillars_1d\"]:\n",
    "    pills_unique_1d.update(pills_1d)\n",
    "    pills_occurances_1d.extend(pills_1d)\n",
    "len(pills_unique_1d), Counter(pills_occurances_1d).most_common()"
   ]
  },
  {
   "cell_type": "code",
   "execution_count": 46,
   "metadata": {
    "ExecuteTime": {
     "end_time": "2021-09-03T08:40:38.610888Z",
     "start_time": "2021-09-03T08:40:38.541174Z"
    }
   },
   "outputs": [
    {
     "data": {
      "text/plain": [
       "[('1306->Humanitarian Conditions->Living Standards', 14428),\n",
       " ('1306->Impact->Drivers/Aggravating Factors', 9384),\n",
       " ('1306->Humanitarian Conditions->Physical & Mental Wellbeing', 8860),\n",
       " ('1306->Impact->Impact On System & Services', 8778),\n",
       " ('1306->Impact->Impact On People', 8121),\n",
       " ('829->Humanitarian Conditions->Living Standards', 7361),\n",
       " ('1306->At Risk->People At Risk / Vulnerable', 5112),\n",
       " ('1306->Capacities & Response->International', 4245),\n",
       " ('829->Response And Capacities->National And Local', 3634),\n",
       " ('699->Capacities & Response->International Actors', 2602),\n",
       " ('699->Humanitarian Conditions->Living Standards', 2401),\n",
       " ('829->Humanitarian Conditions->Physical And Mental Well-Being', 2343),\n",
       " ('1306->Humanitarian Conditions->Coping Mechanisms', 2278),\n",
       " ('1306->Priorities->Priority Interventions (Staff)', 2198),\n",
       " ('699->Capacities & Response->Government And Local Authorities', 2148),\n",
       " ('1306->Capacities & Response->Number Of People Reached', 2072),\n",
       " ('829->Response And Capacities->International ', 2064),\n",
       " ('699->Humanitarian Conditions->Physical & Mental Wellbeing', 2008),\n",
       " ('699->Humanitarian Conditions->Risks & Vulnerabilities', 1665),\n",
       " ('1306->Impact->Number Of People Affected', 1548),\n",
       " ('829->Risks->People At Risk Or Vulnerable', 1534),\n",
       " ('1306->Priorities->Priority Needs (Staff)', 1518),\n",
       " ('1306->Capacities & Response->Government & Local Authorities', 1476),\n",
       " ('1306->Capacities & Response->National & Local Actors', 1400),\n",
       " ('699->Scope & Scale->Drivers/Aggravating Factors', 1369),\n",
       " ('829->Impact->Drivers', 1341),\n",
       " ('699->Scope & Scale->System Disruption', 1241),\n",
       " ('829->Humanitarian Conditions->Risks &  New Or Aggravated Vulnerabilities (Do Not Tag)',\n",
       "  1147),\n",
       " ('552->Humanitarian Conditions->Physical & Mental Wellbeing', 1111),\n",
       " ('699->Scope & Scale->Damages & Losses', 1006),\n",
       " ('1004->Humanitarian Conditions->Physical & Mental Wellbeing', 974),\n",
       " ('699->Capacities & Response->National Actors', 967),\n",
       " ('829->Humanitarian Conditions->Coping Mechanisms', 951),\n",
       " ('1306->Humanitarian Conditions->Number Of People In Need', 946),\n",
       " ('829->Impact->Impact On People', 937),\n",
       " ('1004->Humanitarian Conditions->Living Standards', 879),\n",
       " ('552->Humanitarian Conditions->Living Standards', 876),\n",
       " ('829->Impact->Status Of Essential Infrastructure, Systems, Markets And Networks',\n",
       "  848),\n",
       " ('495->Humanitarian Conditions->Living Standards', 818),\n",
       " ('1306->Priorities->Priority Needs (Pop)', 808),\n",
       " ('137->Capacities And Response->International Response', 762),\n",
       " ('699->Humanitarian Conditions->Humanitarian Conditions', 758),\n",
       " ('273->Humanitarian Conditions->Vulnerabilities, Specific Needs And Risks',\n",
       "  727),\n",
       " ('136->Humanitarian Conditions->1St Level Outcome', 723),\n",
       " ('537->Humanitarian Conditions->Risks & Vulnerabilities', 718),\n",
       " ('136->Capacities And Response->International Response', 713),\n",
       " ('829->Impact->Number Of People Affected', 700),\n",
       " ('273->Capacities And Response->International Response', 692),\n",
       " ('552->Humanitarian Conditions->Risks & Vulnerabilities', 650),\n",
       " ('273->Humanitarian Conditions->Impact On Accessibility, Availability, Quality, Use And Awareness Of Goods And Services',\n",
       "  609),\n",
       " ('1004->Scope & Scale->System Disruption', 567),\n",
       " ('699->Capacities & Response->Rcrc Movement', 564),\n",
       " ('1004->Humanitarian Conditions->People At Risk / Vulnerable', 564),\n",
       " ('699->Capacities & Response->System Functionality', 556),\n",
       " ('137->Humanitarian Conditions->1St Level Outcome', 539),\n",
       " ('552->Humanitarian Conditions->Unmet Needs', 535),\n",
       " ('829->Impact->Drivers And Aggravating Factors', 534),\n",
       " ('829->Humanitarian Conditions->Number Of People In Need And Priorities',\n",
       "  498),\n",
       " ('699->Humanitarian Conditions->Coping Mechanisms', 491),\n",
       " ('537->Humanitarian Conditions->Living Standards', 490),\n",
       " ('829->Priorities->Prioritiy Issues (Pop)', 486),\n",
       " ('829->Impact->Impact On Systems And Services', 440),\n",
       " ('552->Scope & Scale->Drivers/Aggravating Factors', 428),\n",
       " ('137->Scope And Scale->Systems Disruption', 412),\n",
       " ('273->Humanitarian Conditions->Impact On Physical And Mental Wellbeing',\n",
       "  412),\n",
       " ('1004->Scope & Scale->Drivers/Aggravating Factors', 403),\n",
       " ('137->Capacities And Response->National Response', 397),\n",
       " ('137->Humanitarian Conditions->2Nd Level Outcome', 394),\n",
       " ('829->Humanitarian Conditions->Persons/Groups With Specific Needs', 394),\n",
       " ('537->Scope & Scale->System Disruption', 378),\n",
       " ('829->Impact->Damages & Losses', 349),\n",
       " ('273->Scope And Scale->Damage', 345),\n",
       " ('537->Humanitarian Conditions->Unmet Needs', 337),\n",
       " ('537->Scope & Scale->Drivers/Aggravating Factors', 314),\n",
       " ('829->Response And Capacities->Community Perceived Priorities', 314),\n",
       " ('137->Humanitarian Conditions->Risks', 304),\n",
       " ('495->Capacities & Response->International', 300),\n",
       " ('552->Scope & Scale->System Disruption', 299),\n",
       " ('699->Humanitarian Conditions->People With Specific Needs', 288),\n",
       " ('537->Humanitarian Conditions->Physical & Mental Wellbeing', 285),\n",
       " ('829->Humanitarian Conditions->Number Of People At Risk (Do Not Tag)', 284),\n",
       " ('1306->Priorities->Priority Interventions (Pop)', 279),\n",
       " ('699->Capacities & Response->Response Gaps', 274),\n",
       " ('136->Humanitarian Conditions->Risks', 272),\n",
       " ('1004->Scope & Scale->Damages & Losses', 268),\n",
       " ('829->Response And Capacities->Community', 260),\n",
       " ('537->Scope & Scale->Damages & Losses', 255),\n",
       " ('273->Scope And Scale->System Disruption', 254),\n",
       " ('495->Scope & Scale->System Disruption', 243),\n",
       " ('552->Scope & Scale->Damages & Losses', 243),\n",
       " ('1004->Humanitarian Conditions->People In Need', 240),\n",
       " ('136->Humanitarian Conditions->2Nd Level Outcome', 236),\n",
       " ('136->Scope And Scale->Systems Disruption', 235),\n",
       " ('495->Scope & Scale->Drivers/Aggravating Factors', 234),\n",
       " ('552->Humanitarian Conditions->Coping Mechanisms', 217),\n",
       " ('273->Capacities And Response->National Response Capacity', 215),\n",
       " ('495->Humanitarian Conditions->Physical & Mental Wellbeing', 215),\n",
       " ('495->Humanitarian Conditions->Risks & Vulnerabilities', 213),\n",
       " ('137->Scope And Scale->Drivers/Aggravating Factors', 189),\n",
       " ('136->Scope And Scale->Drivers/Aggravating Factors', 185),\n",
       " ('1004->Humanitarian Conditions->Coping Mechanisms', 179),\n",
       " ('136->Capacities And Response->National Response', 160),\n",
       " ('829->Humanitarian Conditions->Number Of People In Need', 160),\n",
       " ('137->Humanitarian Conditions->Vulnerabilities', 156),\n",
       " ('537->Humanitarian Conditions->Coping Mechanisms', 148),\n",
       " ('136->Humanitarian Conditions->Unmet Needs', 139),\n",
       " ('495->Humanitarian Conditions->Coping Mechanisms', 138),\n",
       " ('495->Humanitarian Conditions->People With Specific Needs', 137),\n",
       " ('137->Humanitarian Conditions->Unmet Needs', 128),\n",
       " ('495->Humanitarian Conditions->Number Of People In Need And Priorities',\n",
       "  128),\n",
       " ('495->Capacities & Response->Government', 127),\n",
       " ('137->Scope And Scale->Damage', 122),\n",
       " ('136->Humanitarian Conditions->Vulnerabilities', 113),\n",
       " ('273->Scope And Scale->Drivers/ Aggravating Factors', 103),\n",
       " ('1004->Scope & Scale->People Affected', 100),\n",
       " ('136->Capacities And Response->Coping Mechanisms', 100),\n",
       " ('829->Priorities->Prioritiy Issues (Hum. Staff)', 96),\n",
       " ('136->Scope And Scale->Damage', 90),\n",
       " ('537->Humanitarian Conditions->People With Specific Needs', 73),\n",
       " ('273->Capacities And Response->National Society Capacity', 66),\n",
       " ('495->Capacities & Response->System Functionality', 66),\n",
       " ('495->Capacities & Response->Response Gaps', 62),\n",
       " ('495->Capacities & Response->Lngo', 61),\n",
       " ('1004->Capacities & Response->System Functionality', 59),\n",
       " ('273->Scope And Scale->Losses', 54),\n",
       " ('137->Capacities And Response->Coping Mechanisms', 52),\n",
       " ('495->Scope & Scale->Damages & Losses', 48),\n",
       " ('552->Humanitarian Conditions->People With Specific Needs', 42),\n",
       " ('1004->Priorities->Priority Interventions (Staff)', 37),\n",
       " ('829->Priorities->Recommended Interventions (Hum. Staff)', 37),\n",
       " ('137->Capacities And Response->Response Gaps', 30),\n",
       " ('136->Capacities And Response->Market Functionality', 13),\n",
       " ('726->Humanitarian Conditions->Living Standards', 12),\n",
       " ('726->Response And Capacities->National And Local', 12),\n",
       " ('1004->Priorities->Priority Problems (Pop)', 8),\n",
       " ('829->Priorities->Preferred Response (Pop)', 8),\n",
       " ('136->Scope And Scale->Losses', 6),\n",
       " ('726->Humanitarian Conditions->Coping Mechanisms', 6),\n",
       " ('137->Capacities And Response->Market Functionality', 5),\n",
       " ('136->Capacities And Response->Response Gaps', 4),\n",
       " ('799->Capacities And Response->International Response', 4),\n",
       " ('1004->Capacities & Response->National', 4),\n",
       " ('495->Priorities->As Expressed By Experts', 3),\n",
       " ('799->Humanitarian Conditions->Access To Basic Services Or Goods', 3),\n",
       " ('726->Impact->Drivers', 3),\n",
       " ('136->Humanitarian Conditions->Lessons Learnt', 2),\n",
       " ('137->Scope And Scale->Losses', 2),\n",
       " ('137->Scope And Scale->Lessons Learnt', 2),\n",
       " ('1004->Capacities & Response->International', 2),\n",
       " ('799->Scope And Scale->Drivers/ Aggravating Factors', 2),\n",
       " ('799->Capacities And Response->Systems Functionality', 2),\n",
       " ('799->Humanitarian Conditions->Risks/Vulnerabilities', 2),\n",
       " ('726->Humanitarian Conditions->Number Of People In Need And Priorities', 2),\n",
       " ('799->Humanitarian Conditions->Impact On Physical And Mental Wellbeing', 2),\n",
       " ('1004->Priorities->Priority Interventions (Pop)', 2),\n",
       " ('726->Humanitarian Conditions->Physical And Mental Well-Being', 2),\n",
       " ('495->Scope & Scale->Number Of People Affected', 2),\n",
       " ('537->Humanitarian Conditions->Lessons Learnt', 1),\n",
       " ('799->Humanitarian Conditions->Specific Needs', 1),\n",
       " ('799->Capacities And Response->Coping Mechanisms', 1),\n",
       " ('799->Capacities And Response->Response Gaps', 1),\n",
       " ('495->Humanitarian Conditions->Lessons Learnt', 1),\n",
       " ('726->Humanitarian Conditions->Unmet Needs', 1),\n",
       " ('726->Capacities & Response->International', 1),\n",
       " ('726->Capacities & Response->Government', 1),\n",
       " ('726->Response And Capacities->International ', 1),\n",
       " ('726->Humanitarian Conditions->Risks & Vulnerabilities', 1),\n",
       " ('726->Humanitarian Conditions->Risks &  New Or Aggravated Vulnerabilities',\n",
       "  1),\n",
       " ('799->Humanitarian Conditions->Physical & Mental Wellbeing', 1),\n",
       " ('799->Capacities & Response->Rcrc Movement', 1),\n",
       " ('799->Humanitarian Conditions->People With Specific Needs', 1),\n",
       " ('726->Humanitarian Conditions->Physical & Mental Wellbeing', 1),\n",
       " ('799->Humanitarian Conditions->Unmet Needs', 1),\n",
       " ('495->Scope & Scale->Lessons Learnt', 1),\n",
       " ('726->Impact->Damages & Losses', 1),\n",
       " ('726->Impact->Status Of Essential Infrastructure, Systems, Markets And Networks',\n",
       "  1)]"
      ]
     },
     "execution_count": 46,
     "metadata": {},
     "output_type": "execute_result"
    }
   ],
   "source": [
    "pills_unique = set()\n",
    "pills_occurances = list()\n",
    "for pills in entries_labeled[\"pillars\"]:\n",
    "    pills_unique.update(pills)\n",
    "    pills_occurances.extend(pills)\n",
    "Counter(pills_occurances).most_common()"
   ]
  },
  {
   "cell_type": "code",
   "execution_count": 47,
   "metadata": {
    "ExecuteTime": {
     "end_time": "2021-09-03T08:40:38.671226Z",
     "start_time": "2021-09-03T08:40:38.612221Z"
    }
   },
   "outputs": [
    {
     "data": {
      "text/plain": [
       "[('Health', 28135),\n",
       " ('Protection', 22520),\n",
       " ('Cross', 13603),\n",
       " ('Livelihoods', 13225),\n",
       " ('Wash', 8404),\n",
       " ('Food Security', 8203),\n",
       " ('Shelter', 8164),\n",
       " ('Education', 7991),\n",
       " ('Nutrition', 3277),\n",
       " ('Food', 3227),\n",
       " ('Agriculture', 3164),\n",
       " ('Logistics', 2667),\n",
       " ('Cross-Sector', 2632),\n",
       " ('Cross Cutting', 678),\n",
       " ('Nfi', 611),\n",
       " ('Logistic', 248),\n",
       " ('Livelihood', 132)]"
      ]
     },
     "execution_count": 47,
     "metadata": {},
     "output_type": "execute_result"
    }
   ],
   "source": [
    "secs_unique = set()\n",
    "secs_occurances = list()\n",
    "for secs in entries_labeled[\"sectors\"]:\n",
    "    secs_unique.update(secs)\n",
    "    secs_occurances.extend(secs)\n",
    "#secs_unique\n",
    "Counter(secs_occurances).most_common()"
   ]
  },
  {
   "cell_type": "code",
   "execution_count": 48,
   "metadata": {
    "ExecuteTime": {
     "end_time": "2021-09-03T08:40:38.676434Z",
     "start_time": "2021-09-03T08:40:38.672511Z"
    }
   },
   "outputs": [
    {
     "data": {
      "text/plain": [
       "Index(['entry_id', 'created_at', 'modified_at', 'excerpt', 'entry_type',\n",
       "       'analysis_framework_id', 'created_by_id', 'lead_id', 'modified_by_id',\n",
       "       'information_date', 'order', 'project_id', 'title', 'verified', 'tags',\n",
       "       'tags_str', 'pillars', 'sectors', 'subsectors', 'label_2d',\n",
       "       'pillars_1d'],\n",
       "      dtype='object')"
      ]
     },
     "execution_count": 48,
     "metadata": {},
     "output_type": "execute_result"
    }
   ],
   "source": [
    "entries_labeled.columns"
   ]
  },
  {
   "cell_type": "code",
   "execution_count": 49,
   "metadata": {
    "ExecuteTime": {
     "end_time": "2021-09-03T08:40:38.723558Z",
     "start_time": "2021-09-03T08:40:38.677901Z"
    }
   },
   "outputs": [
    {
     "data": {
      "text/plain": [
       "(124841, 21)"
      ]
     },
     "execution_count": 49,
     "metadata": {},
     "output_type": "execute_result"
    }
   ],
   "source": [
    "final_df = entries_labeled[entries_labeled[\"entry_type\"].eq(\"excerpt\")\n",
    "                           & (~entries_labeled[\"excerpt\"].isna())]\n",
    "final_df.shape"
   ]
  },
  {
   "cell_type": "code",
   "execution_count": 50,
   "metadata": {
    "ExecuteTime": {
     "end_time": "2021-09-03T08:40:41.766620Z",
     "start_time": "2021-09-03T08:40:38.724992Z"
    },
    "scrolled": true
   },
   "outputs": [
    {
     "data": {
      "text/plain": [
       "((122676, 21), 0)"
      ]
     },
     "execution_count": 50,
     "metadata": {},
     "output_type": "execute_result"
    }
   ],
   "source": [
    "def remove_newlines(excerpt):\n",
    "    if not isinstance(excerpt, str):\n",
    "        return excerpt\n",
    "    return re.sub(\"\\s+\", \" \", excerpt)\n",
    "\n",
    "final_df.loc[:, 'excerpt'] = final_df['excerpt'].apply(remove_newlines)\n",
    "#final_df.loc[:, 'dropped_excerpt'] = final_df['dropped_excerpt'].apply(remove_newlines)\n",
    "##\n",
    "final_df = final_df.sort_values(\"verified\").reset_index(drop=True).drop_duplicates(subset='excerpt', keep=\"last\")\n",
    "final_df.shape, final_df.duplicated(subset=\"excerpt\").sum()"
   ]
  },
  {
   "cell_type": "code",
   "execution_count": 51,
   "metadata": {
    "ExecuteTime": {
     "end_time": "2021-09-03T08:40:41.771277Z",
     "start_time": "2021-09-03T08:40:41.767945Z"
    }
   },
   "outputs": [],
   "source": [
    "sector_name_mapper = {\n",
    "    \"Agriculture\": \"Agriculture\",\n",
    "    \"Cccm\": \"\",\n",
    "    \"Cross\": \"Cross\",\n",
    "    \"Cross Cutting\": \"Cross\",\n",
    "    \"Cross-Sector\": \"Cross\",\n",
    "    \"Education\": \"Education\",\n",
    "    \"Food\": \"Food Security\",\n",
    "    \"Food Security\": \"Food Security\",\n",
    "    \"Nutrition\": \"Nutrition\",\n",
    "    \"Health\": \"Health\",\n",
    "    \"Livelihood\": \"Livelihoods\",\n",
    "    \"Livelihoods\": \"Livelihoods\",\n",
    "    \"Logistic\": \"Logistics\",\n",
    "    \"Logistics\": \"Logistics\",\n",
    "    \"Protection\": \"Protection\",\n",
    "    \"Shelter\": \"Shelter\",\n",
    "    \"Shelter And Nfis\": \"Shelter\",\n",
    "    \"Nfi\": \"\",\n",
    "    \"Wash\": \"WASH\",\n",
    "}"
   ]
  },
  {
   "cell_type": "code",
   "execution_count": 52,
   "metadata": {
    "ExecuteTime": {
     "end_time": "2021-09-03T08:40:41.785132Z",
     "start_time": "2021-09-03T08:40:41.772934Z"
    }
   },
   "outputs": [],
   "source": [
    "af_title_to_id = dict()\n",
    "for afid, title in zip(afs[\"id\"], afs[\"title\"]):\n",
    "    af_title_to_id[\"title\"] = afid"
   ]
  },
  {
   "cell_type": "code",
   "execution_count": 53,
   "metadata": {
    "ExecuteTime": {
     "end_time": "2021-09-03T08:40:41.798946Z",
     "start_time": "2021-09-03T08:40:41.787045Z"
    }
   },
   "outputs": [
    {
     "name": "stderr",
     "output_type": "stream",
     "text": [
      "<ipython-input-53-bb9ead69f816>:2: SettingWithCopyWarning: \n",
      "A value is trying to be set on a copy of a slice from a DataFrame.\n",
      "Try using .loc[row_indexer,col_indexer] = value instead\n",
      "\n",
      "See the caveats in the documentation: https://pandas.pydata.org/pandas-docs/stable/user_guide/indexing.html#returning-a-view-versus-a-copy\n",
      "  af_id_title[\"title\"] = af_id_title[\"title\"].str.title()\n"
     ]
    },
    {
     "data": {
      "text/plain": [
       "Index(['Unnamed: 0', 'Framework Title', 'Type', 'Pillar', 'Sub-pillar',\n",
       "       'Virtual Type', 'Virtual Pillar', 'Virtual Sub-pillar', 'First-pass',\n",
       "       'Verified', 'Reversible', 'Cover', 'analysis_framework_id',\n",
       "       'Framework Name'],\n",
       "      dtype='object')"
      ]
     },
     "execution_count": 53,
     "metadata": {},
     "output_type": "execute_result"
    }
   ],
   "source": [
    "af_id_title = afs[[\"id\", \"title\"]]\n",
    "af_id_title[\"title\"] = af_id_title[\"title\"].str.title()\n",
    "##\n",
    "matching_2d_mat[\"Framework Title\"] = matching_2d_mat[\"Framework Title\"].str.title()\n",
    "##\n",
    "af_id_title.columns = [\"analysis_framework_id\", \"Framework Name\"]\n",
    "matching_2d_mat = pd.merge(matching_2d_mat,\n",
    "                    af_id_title,\n",
    "                    how=\"left\",\n",
    "                    left_on=\"Framework Title\",\n",
    "                    right_on=\"Framework Name\")\n",
    "matching_2d_mat.columns"
   ]
  },
  {
   "cell_type": "code",
   "execution_count": 54,
   "metadata": {
    "ExecuteTime": {
     "end_time": "2021-09-03T08:40:41.812017Z",
     "start_time": "2021-09-03T08:40:41.800332Z"
    }
   },
   "outputs": [],
   "source": [
    "matching_2d_mat[\"Pillar\"] = matching_2d_mat[\"Pillar\"].apply(\n",
    "    lambda x: x.strip().title())\n",
    "matching_2d_mat[\"Sub-pillar\"] = matching_2d_mat[\"Sub-pillar\"].apply(\n",
    "    lambda x: x.strip().title())\n",
    "matching_2d_mat[\"Final Pillar Name\"] = matching_2d_mat[\n",
    "    \"Virtual Pillar\"].apply(lambda x: x.strip().title())\n",
    "matching_2d_mat[\"Final Sub-pillar Name\"] = matching_2d_mat[\n",
    "    \"Virtual Sub-pillar\"].apply(lambda x: x.strip().title())"
   ]
  },
  {
   "cell_type": "code",
   "execution_count": 55,
   "metadata": {
    "ExecuteTime": {
     "end_time": "2021-09-03T08:40:41.818923Z",
     "start_time": "2021-09-03T08:40:41.813473Z"
    }
   },
   "outputs": [],
   "source": [
    "#matching_2d_mat = matching_2d_mat[~matching_2d_mat[\"analysis_framework_id\"].isna()]\n",
    "\n",
    "matching_2d_mat = matching_2d_mat.astype({\n",
    "    'Framework Name': str,\n",
    "    'Pillar': str,\n",
    "    'Sub-pillar': str,\n",
    "    'Final Pillar Name': str,\n",
    "    'Final Sub-pillar Name': str,\n",
    "    'analysis_framework_id': int\n",
    "})"
   ]
  },
  {
   "cell_type": "code",
   "execution_count": 56,
   "metadata": {
    "ExecuteTime": {
     "end_time": "2021-09-03T08:40:41.828226Z",
     "start_time": "2021-09-03T08:40:41.820472Z"
    }
   },
   "outputs": [],
   "source": [
    "matching_2d_mat[\"analysis_framework_id\"] = matching_2d_mat[\"analysis_framework_id\"].apply(str)\n",
    "##\n",
    "matching_2d_mat[\"original_pillar\"] = matching_2d_mat[\n",
    "    \"analysis_framework_id\"] + \"->\" + matching_2d_mat[\n",
    "        \"Pillar\"] + \"->\" + matching_2d_mat[\"Sub-pillar\"]\n",
    "matching_2d_mat[\"original_subpillar\"] = matching_2d_mat[\n",
    "    \"analysis_framework_id\"] + \"->\" + matching_2d_mat[\n",
    "        \"Pillar\"] + \"->\" + matching_2d_mat[\"Sub-pillar\"]\n",
    "##\n",
    "matching_2d_mat[\"target_pillar\"] = matching_2d_mat[\"Final Pillar Name\"]\n",
    "matching_2d_mat[\"target_subpillar\"] = matching_2d_mat[\n",
    "    \"Final Pillar Name\"] + \"->\" + matching_2d_mat[\"Final Sub-pillar Name\"]"
   ]
  },
  {
   "cell_type": "code",
   "execution_count": 57,
   "metadata": {
    "ExecuteTime": {
     "end_time": "2021-09-03T08:40:41.832464Z",
     "start_time": "2021-09-03T08:40:41.829528Z"
    }
   },
   "outputs": [],
   "source": [
    "pillar_name_mapper = dict()\n",
    "subpillar_name_mapper = dict()\n",
    "for pillar, fpillar, subpillar, fsubpillar, af_id in zip(\n",
    "        matching_2d_mat[\"original_pillar\"], matching_2d_mat[\"target_pillar\"],\n",
    "        matching_2d_mat[\"original_subpillar\"],\n",
    "        matching_2d_mat[\"target_subpillar\"],\n",
    "        matching_2d_mat[\"analysis_framework_id\"]):\n",
    "    pillar_name_mapper[pillar] = fpillar\n",
    "    subpillar_name_mapper[subpillar] = fsubpillar"
   ]
  },
  {
   "cell_type": "code",
   "execution_count": 58,
   "metadata": {
    "ExecuteTime": {
     "end_time": "2021-09-03T08:40:41.839348Z",
     "start_time": "2021-09-03T08:40:41.833898Z"
    },
    "scrolled": true
   },
   "outputs": [],
   "source": [
    "matching_1d_mat[\"Framework Title\"] = matching_1d_mat[\"Framework Title\"].str.title()\n",
    "##\n",
    "matching_1d_mat = pd.merge(matching_1d_mat,\n",
    "                           af_id_title,\n",
    "                           how=\"left\",\n",
    "                           left_on=\"Framework Title\",\n",
    "                           right_on=\"Framework Name\")\n"
   ]
  },
  {
   "cell_type": "code",
   "execution_count": 59,
   "metadata": {
    "ExecuteTime": {
     "end_time": "2021-09-03T08:40:41.843859Z",
     "start_time": "2021-09-03T08:40:41.840824Z"
    }
   },
   "outputs": [],
   "source": [
    "#matching_1d_mat = matching_1d_mat[~matching_1d_mat[\"analysis_framework_id\"].isna()]\n",
    "matching_1d_mat[\"analysis_framework_id\"] = matching_1d_mat[\"analysis_framework_id\"].apply(int)"
   ]
  },
  {
   "cell_type": "code",
   "execution_count": 60,
   "metadata": {
    "ExecuteTime": {
     "end_time": "2021-09-03T08:40:41.849034Z",
     "start_time": "2021-09-03T08:40:41.845426Z"
    }
   },
   "outputs": [
    {
     "data": {
      "text/plain": [
       "Index(['Unnamed: 0', 'Framework Title', 'Type', 'Pillar', 'Sub-pillar',\n",
       "       'Virtual Type', 'Virtual Pillar', 'Virtual Sub-pillar', 'First-pass',\n",
       "       'Verified', 'Reversible', 'Cover', 'analysis_framework_id',\n",
       "       'Framework Name'],\n",
       "      dtype='object')"
      ]
     },
     "execution_count": 60,
     "metadata": {},
     "output_type": "execute_result"
    }
   ],
   "source": [
    "matching_1d_mat.columns"
   ]
  },
  {
   "cell_type": "code",
   "execution_count": 61,
   "metadata": {
    "ExecuteTime": {
     "end_time": "2021-09-03T08:40:41.861144Z",
     "start_time": "2021-09-03T08:40:41.850497Z"
    }
   },
   "outputs": [
    {
     "data": {
      "text/html": [
       "<div>\n",
       "<style scoped>\n",
       "    .dataframe tbody tr th:only-of-type {\n",
       "        vertical-align: middle;\n",
       "    }\n",
       "\n",
       "    .dataframe tbody tr th {\n",
       "        vertical-align: top;\n",
       "    }\n",
       "\n",
       "    .dataframe thead th {\n",
       "        text-align: right;\n",
       "    }\n",
       "</style>\n",
       "<table border=\"1\" class=\"dataframe\">\n",
       "  <thead>\n",
       "    <tr style=\"text-align: right;\">\n",
       "      <th></th>\n",
       "      <th>Unnamed: 0</th>\n",
       "      <th>Framework Title</th>\n",
       "      <th>Type</th>\n",
       "      <th>Pillar</th>\n",
       "      <th>Sub-pillar</th>\n",
       "      <th>Virtual Type</th>\n",
       "      <th>Virtual Pillar</th>\n",
       "      <th>Virtual Sub-pillar</th>\n",
       "      <th>First-pass</th>\n",
       "      <th>Verified</th>\n",
       "      <th>Reversible</th>\n",
       "      <th>Cover</th>\n",
       "      <th>analysis_framework_id</th>\n",
       "      <th>Framework Name</th>\n",
       "    </tr>\n",
       "  </thead>\n",
       "  <tbody>\n",
       "  </tbody>\n",
       "</table>\n",
       "</div>"
      ],
      "text/plain": [
       "Empty DataFrame\n",
       "Columns: [Unnamed: 0, Framework Title, Type, Pillar, Sub-pillar, Virtual Type, Virtual Pillar, Virtual Sub-pillar, First-pass, Verified, Reversible, Cover, analysis_framework_id, Framework Name]\n",
       "Index: []"
      ]
     },
     "execution_count": 61,
     "metadata": {},
     "output_type": "execute_result"
    }
   ],
   "source": [
    "matching_1d_mat[matching_1d_mat[\"analysis_framework_id\"].isna()]"
   ]
  },
  {
   "cell_type": "code",
   "execution_count": 62,
   "metadata": {
    "ExecuteTime": {
     "end_time": "2021-09-03T08:40:41.866819Z",
     "start_time": "2021-09-03T08:40:41.862751Z"
    }
   },
   "outputs": [],
   "source": [
    "pillar_name_mapper_1d = dict()\n",
    "subpillar_name_mapper_1d = dict()\n",
    "for pillar, fpillar, subpillar, fsubpillar, af_id in zip(\n",
    "        matching_1d_mat[\"Pillar\"], matching_1d_mat[\"Virtual Pillar\"],\n",
    "        matching_1d_mat[\"Sub-pillar\"],\n",
    "        matching_1d_mat[\"Virtual Sub-pillar\"], matching_1d_mat[\"analysis_framework_id\"]):\n",
    "    pillar = str(af_id) + \"->\" + pillar + \"->\" + subpillar\n",
    "    pillar_name_mapper_1d[pillar] = fpillar\n",
    "    subpillar_name_mapper_1d[pillar] = fpillar + \"->\" + fsubpillar"
   ]
  },
  {
   "cell_type": "code",
   "execution_count": 63,
   "metadata": {
    "ExecuteTime": {
     "end_time": "2021-09-03T08:40:41.873996Z",
     "start_time": "2021-09-03T08:40:41.868313Z"
    }
   },
   "outputs": [],
   "source": [
    "def sector_mapper(sec):\n",
    "    if sec == sec:\n",
    "        sectors =  [sector_name_mapper.get(s, \"\") for s in sec]\n",
    "        return [sec for sec in sectors if sec]\n",
    "    return []\n",
    "##\n",
    "def pillar_mapper(dim):\n",
    "    if dim == dim:\n",
    "        dim = [pillar_name_mapper.get(d, \"\") for d in dim]\n",
    "        return [d for d in dim if d]\n",
    "    return []\n",
    "##\n",
    "def subpillar_mapper(subdim):\n",
    "    if subdim == subdim:\n",
    "        subdim = [subpillar_name_mapper.get(d, \"\") for d in subdim]\n",
    "        return [d for d in subdim if d]\n",
    "    return []\n",
    "##\n",
    "def pillar_mapper_1d(pill):\n",
    "    if pill == pill:\n",
    "        pill = [pillar_name_mapper_1d.get(p, \"\") for p in pill]\n",
    "        return [p for p in pill if p]\n",
    "    return []\n",
    "##\n",
    "def subpillar_mapper_1d(subpill):\n",
    "    if subpill == subpill:\n",
    "        subpill = [subpillar_name_mapper_1d.get(p, \"\") for p in subpill]\n",
    "        return [p for p in subpill if p]\n",
    "    return []"
   ]
  },
  {
   "cell_type": "code",
   "execution_count": 64,
   "metadata": {
    "ExecuteTime": {
     "end_time": "2021-09-03T08:40:42.715409Z",
     "start_time": "2021-09-03T08:40:41.875701Z"
    }
   },
   "outputs": [],
   "source": [
    "final_df[\"sectors\"] = final_df[\"sectors\"].apply(sector_mapper)\n",
    "final_df[\"subpillars_2d\"] = final_df[\"pillars\"].apply(subpillar_mapper)\n",
    "final_df[\"pillars_2d\"] = final_df[\"pillars\"].apply(pillar_mapper)\n",
    "##\n",
    "final_df[\"subpillars_1d\"] = final_df[\"pillars_1d\"].apply(subpillar_mapper_1d)\n",
    "final_df[\"pillars_1d\"] = final_df[\"pillars_1d\"].apply(pillar_mapper_1d)"
   ]
  },
  {
   "cell_type": "code",
   "execution_count": 65,
   "metadata": {
    "ExecuteTime": {
     "end_time": "2021-09-03T08:40:42.720855Z",
     "start_time": "2021-09-03T08:40:42.716693Z"
    }
   },
   "outputs": [
    {
     "data": {
      "text/plain": [
       "Index(['entry_id', 'created_at', 'modified_at', 'excerpt', 'entry_type',\n",
       "       'analysis_framework_id', 'created_by_id', 'lead_id', 'modified_by_id',\n",
       "       'information_date', 'order', 'project_id', 'title', 'verified', 'tags',\n",
       "       'tags_str', 'pillars', 'sectors', 'subsectors', 'label_2d',\n",
       "       'pillars_1d', 'subpillars_2d', 'pillars_2d', 'subpillars_1d'],\n",
       "      dtype='object')"
      ]
     },
     "execution_count": 65,
     "metadata": {},
     "output_type": "execute_result"
    }
   ],
   "source": [
    "final_df.columns"
   ]
  },
  {
   "cell_type": "code",
   "execution_count": 66,
   "metadata": {},
   "outputs": [],
   "source": [
    "final_df = final_df[~final_df.excerpt.isna()]\n"
   ]
  },
  {
   "cell_type": "code",
   "execution_count": 67,
   "metadata": {
    "ExecuteTime": {
     "end_time": "2021-09-03T08:40:42.772545Z",
     "start_time": "2021-09-03T08:40:42.722488Z"
    }
   },
   "outputs": [
    {
     "data": {
      "text/plain": [
       "[('Health', 27574),\n",
       " ('Protection', 22007),\n",
       " ('Cross', 16425),\n",
       " ('Livelihoods', 13135),\n",
       " ('Food Security', 11225),\n",
       " ('WASH', 8226),\n",
       " ('Shelter', 7974),\n",
       " ('Education', 7873),\n",
       " ('Nutrition', 3198),\n",
       " ('Agriculture', 3116),\n",
       " ('Logistics', 2849)]"
      ]
     },
     "execution_count": 67,
     "metadata": {},
     "output_type": "execute_result"
    }
   ],
   "source": [
    "secs_unique = set()\n",
    "secs_occurances = list()\n",
    "for secs in final_df[\"sectors\"]:\n",
    "    secs_unique.update(secs)\n",
    "    secs_occurances.extend(secs)\n",
    "#secs_unique\n",
    "Counter(secs_occurances).most_common()"
   ]
  },
  {
   "cell_type": "code",
   "execution_count": 68,
   "metadata": {
    "ExecuteTime": {
     "end_time": "2021-09-03T08:40:42.826904Z",
     "start_time": "2021-09-03T08:40:42.773851Z"
    }
   },
   "outputs": [
    {
     "data": {
      "text/plain": [
       "[('Humanitarian Conditions', 50918),\n",
       " ('Impact', 37539),\n",
       " ('Capacities & Response', 16559),\n",
       " ('At Risk', 11934),\n",
       " ('Priority Needs', 3179),\n",
       " ('Priority Interventions', 2531)]"
      ]
     },
     "execution_count": 68,
     "metadata": {},
     "output_type": "execute_result"
    }
   ],
   "source": [
    "pills_unique = set()\n",
    "pills_occurances = list()\n",
    "for pills in final_df[\"pillars_2d\"]:\n",
    "    pills_unique.update(pills)\n",
    "    pills_occurances.extend(pills)\n",
    "#pills_unique\n",
    "Counter(pills_occurances).most_common()"
   ]
  },
  {
   "cell_type": "code",
   "execution_count": 69,
   "metadata": {
    "ExecuteTime": {
     "end_time": "2021-09-03T08:40:42.883189Z",
     "start_time": "2021-09-03T08:40:42.828250Z"
    },
    "scrolled": false
   },
   "outputs": [
    {
     "data": {
      "text/plain": [
       "[('Humanitarian Conditions->Living Standards', 28585),\n",
       " ('Humanitarian Conditions->Physical And Mental Well Being', 16520),\n",
       " ('Impact->Impact On Systems, Services And Networks', 13320),\n",
       " ('Impact->Driver/Aggravating Factors', 12878),\n",
       " ('At Risk->Risk And Vulnerabilities', 11654),\n",
       " ('Capacities & Response->International Response', 9106),\n",
       " ('Impact->Impact On People', 9004),\n",
       " ('Capacities & Response->National Response', 4780),\n",
       " ('Humanitarian Conditions->Coping Mechanisms', 4481),\n",
       " ('Capacities & Response->Number Of People Reached/Response Gaps', 2415),\n",
       " ('Impact->Number Of People Affected', 2337),\n",
       " ('Priority Interventions->Expressed By Humanitarian Staff', 2242),\n",
       " ('Priority Needs->Expressed By Population', 1592),\n",
       " ('Priority Needs->Expressed By Humanitarian Staff', 1587),\n",
       " ('Humanitarian Conditions->Number Of People In Need', 1332),\n",
       " ('Priority Interventions->Expressed By Population', 289),\n",
       " ('At Risk->Number Of People At Risk', 280),\n",
       " ('Capacities & Response->Local Response', 258)]"
      ]
     },
     "execution_count": 69,
     "metadata": {},
     "output_type": "execute_result"
    }
   ],
   "source": [
    "subpills_unique = set()\n",
    "subpills_occurances = list()\n",
    "for subpills in final_df[\"subpillars_2d\"]:\n",
    "    subpills_unique.update(subpills)\n",
    "    subpills_occurances.extend(subpills)\n",
    "Counter(subpills_occurances).most_common()"
   ]
  },
  {
   "cell_type": "code",
   "execution_count": 70,
   "metadata": {
    "ExecuteTime": {
     "end_time": "2021-09-03T08:40:42.922479Z",
     "start_time": "2021-09-03T08:40:42.884737Z"
    }
   },
   "outputs": [
    {
     "data": {
      "text/plain": [
       "[('Context', 19714),\n",
       " ('Displacement', 5831),\n",
       " ('Casualties', 3984),\n",
       " ('Humanitarian Access', 2363),\n",
       " ('Information and Communication', 868),\n",
       " ('Shock/Event', 828)]"
      ]
     },
     "execution_count": 70,
     "metadata": {},
     "output_type": "execute_result"
    }
   ],
   "source": [
    "pills_unique_1d = set()\n",
    "pills_occurances_1d = list()\n",
    "for pills_1d in final_df[\"pillars_1d\"]:\n",
    "    pills_unique_1d.update(pills_1d)\n",
    "    pills_occurances_1d.extend(pills_1d)\n",
    "#pills_unique_1d\n",
    "Counter(pills_occurances_1d).most_common()"
   ]
  },
  {
   "cell_type": "code",
   "execution_count": 71,
   "metadata": {
    "ExecuteTime": {
     "end_time": "2021-09-03T08:40:42.968460Z",
     "start_time": "2021-09-03T08:40:42.930485Z"
    },
    "scrolled": true
   },
   "outputs": [
    {
     "data": {
      "text/plain": [
       "[('Context->Security & Stability', 6872),\n",
       " ('Context->Demography', 4181),\n",
       " ('Context->Economy', 4043),\n",
       " ('Casualties->Dead', 3066),\n",
       " ('Displacement->Type/Numbers/Movements', 2734),\n",
       " ('Displacement->Push factors', 1984),\n",
       " ('Context->Politics', 1966),\n",
       " ('Humanitarian Access->Physical constraints', 1891),\n",
       " ('Context->Socio Cultural', 1062),\n",
       " ('Context->Environment', 905),\n",
       " ('Context->Legal & Policy', 685),\n",
       " ('Casualties->Injured', 650),\n",
       " ('Displacement->Local integration', 550),\n",
       " ('Humanitarian Access->Number of people facing humanitarian access constraints/Humanitarian access gaps',\n",
       "  472),\n",
       " ('Shock/Event->Type and characteristics', 450),\n",
       " ('Shock/Event->Hazard & Threats', 378),\n",
       " ('Information and Communication->Knowledge and info gaps (pop)', 365),\n",
       " ('Displacement->Pull factors', 338),\n",
       " ('Information and Communication->Communication means and preferences', 325),\n",
       " ('Casualties->Missing', 268),\n",
       " ('Displacement->Intentions', 225),\n",
       " ('Information and Communication->Information challenges and barriers', 131),\n",
       " ('Information and Communication->Knowledge and info gaps (hum)', 47)]"
      ]
     },
     "execution_count": 71,
     "metadata": {},
     "output_type": "execute_result"
    }
   ],
   "source": [
    "subpills_unique_1d = set()\n",
    "subpills_occurances_1d = list()\n",
    "for subpills_1d in final_df[\"subpillars_1d\"]:\n",
    "    subpills_unique_1d.update(subpills_1d)\n",
    "    subpills_occurances_1d.extend(subpills_1d)\n",
    "#subpills_unique_1d\n",
    "Counter(subpills_occurances_1d).most_common()"
   ]
  },
  {
   "cell_type": "code",
   "execution_count": null,
   "metadata": {},
   "outputs": [],
   "source": []
  },
  {
   "cell_type": "code",
   "execution_count": 72,
   "metadata": {
    "ExecuteTime": {
     "end_time": "2021-09-03T08:40:43.033280Z",
     "start_time": "2021-09-03T08:40:42.971905Z"
    }
   },
   "outputs": [
    {
     "data": {
      "text/plain": [
       "(27674, 83020, 89829)"
      ]
     },
     "execution_count": 72,
     "metadata": {},
     "output_type": "execute_result"
    }
   ],
   "source": [
    "final_df[\"subpillars_1d\"].apply(lambda x:x!=[]).sum(),\\\n",
    "final_df[\"subpillars_2d\"].apply(lambda x:x!=[]).sum(),\\\n",
    "final_df[\"sectors\"].apply(lambda x:x!=[]).sum()"
   ]
  },
  {
   "cell_type": "code",
   "execution_count": 75,
   "metadata": {},
   "outputs": [
    {
     "data": {
      "text/html": [
       "<div>\n",
       "<style scoped>\n",
       "    .dataframe tbody tr th:only-of-type {\n",
       "        vertical-align: middle;\n",
       "    }\n",
       "\n",
       "    .dataframe tbody tr th {\n",
       "        vertical-align: top;\n",
       "    }\n",
       "\n",
       "    .dataframe thead th {\n",
       "        text-align: right;\n",
       "    }\n",
       "</style>\n",
       "<table border=\"1\" class=\"dataframe\">\n",
       "  <thead>\n",
       "    <tr style=\"text-align: right;\">\n",
       "      <th></th>\n",
       "      <th>entry_id</th>\n",
       "      <th>excerpt</th>\n",
       "      <th>entry_type</th>\n",
       "      <th>analysis_framework_id</th>\n",
       "      <th>lead_id</th>\n",
       "      <th>title</th>\n",
       "      <th>project_id</th>\n",
       "      <th>verified</th>\n",
       "      <th>sectors</th>\n",
       "      <th>subpillars_2d</th>\n",
       "      <th>subpillars_1d</th>\n",
       "    </tr>\n",
       "  </thead>\n",
       "  <tbody>\n",
       "    <tr>\n",
       "      <th>0</th>\n",
       "      <td>16851</td>\n",
       "      <td>During the reporting week, IOM provided medica...</td>\n",
       "      <td>excerpt</td>\n",
       "      <td>137</td>\n",
       "      <td>6334</td>\n",
       "      <td>Situation Analysis Generic Yemen</td>\n",
       "      <td>322</td>\n",
       "      <td>False</td>\n",
       "      <td>[Health]</td>\n",
       "      <td>[Capacities &amp; Response-&gt;International Response]</td>\n",
       "      <td>[]</td>\n",
       "    </tr>\n",
       "    <tr>\n",
       "      <th>1</th>\n",
       "      <td>454418</td>\n",
       "      <td>El porcentaje de personas desempleadas ha aume...</td>\n",
       "      <td>excerpt</td>\n",
       "      <td>829</td>\n",
       "      <td>64535</td>\n",
       "      <td>UNHCR Peru</td>\n",
       "      <td>1185</td>\n",
       "      <td>False</td>\n",
       "      <td>[Livelihoods]</td>\n",
       "      <td>[Humanitarian Conditions-&gt;Living Standards, Im...</td>\n",
       "      <td>[]</td>\n",
       "    </tr>\n",
       "    <tr>\n",
       "      <th>2</th>\n",
       "      <td>187289</td>\n",
       "      <td>As per GIFMM monitoring, between 12 June and 1...</td>\n",
       "      <td>excerpt</td>\n",
       "      <td>829</td>\n",
       "      <td>42134</td>\n",
       "      <td>UNHCR Colombia</td>\n",
       "      <td>1183</td>\n",
       "      <td>False</td>\n",
       "      <td>[Shelter]</td>\n",
       "      <td>[Humanitarian Conditions-&gt;Living Standards, Im...</td>\n",
       "      <td>[]</td>\n",
       "    </tr>\n",
       "    <tr>\n",
       "      <th>3</th>\n",
       "      <td>215154</td>\n",
       "      <td>This was the opposite among non-beneficiaries,...</td>\n",
       "      <td>excerpt</td>\n",
       "      <td>699</td>\n",
       "      <td>24416</td>\n",
       "      <td>IFRC Turkey</td>\n",
       "      <td>1142</td>\n",
       "      <td>False</td>\n",
       "      <td>[Education]</td>\n",
       "      <td>[Humanitarian Conditions-&gt;Living Standards]</td>\n",
       "      <td>[]</td>\n",
       "    </tr>\n",
       "    <tr>\n",
       "      <th>4</th>\n",
       "      <td>237955</td>\n",
       "      <td>El Centro de Orientación para el Empleo y el E...</td>\n",
       "      <td>excerpt</td>\n",
       "      <td>1306</td>\n",
       "      <td>47317</td>\n",
       "      <td>IMMAP/DFS Colombia</td>\n",
       "      <td>2311</td>\n",
       "      <td>False</td>\n",
       "      <td>[Livelihoods]</td>\n",
       "      <td>[Priority Interventions-&gt;Expressed By Humanita...</td>\n",
       "      <td>[]</td>\n",
       "    </tr>\n",
       "    <tr>\n",
       "      <th>...</th>\n",
       "      <td>...</td>\n",
       "      <td>...</td>\n",
       "      <td>...</td>\n",
       "      <td>...</td>\n",
       "      <td>...</td>\n",
       "      <td>...</td>\n",
       "      <td>...</td>\n",
       "      <td>...</td>\n",
       "      <td>...</td>\n",
       "      <td>...</td>\n",
       "      <td>...</td>\n",
       "    </tr>\n",
       "    <tr>\n",
       "      <th>124836</th>\n",
       "      <td>200856</td>\n",
       "      <td>Todos los migrantes, de cualquier nacionalidad...</td>\n",
       "      <td>excerpt</td>\n",
       "      <td>1306</td>\n",
       "      <td>44408</td>\n",
       "      <td>IMMAP/DFS Colombia</td>\n",
       "      <td>2311</td>\n",
       "      <td>True</td>\n",
       "      <td>[Health]</td>\n",
       "      <td>[Priority Interventions-&gt;Expressed By Humanita...</td>\n",
       "      <td>[]</td>\n",
       "    </tr>\n",
       "    <tr>\n",
       "      <th>124837</th>\n",
       "      <td>200854</td>\n",
       "      <td>Desde el pasado 17 de marzo Colombia cerró sus...</td>\n",
       "      <td>excerpt</td>\n",
       "      <td>1306</td>\n",
       "      <td>44408</td>\n",
       "      <td>IMMAP/DFS Colombia</td>\n",
       "      <td>2311</td>\n",
       "      <td>True</td>\n",
       "      <td>[]</td>\n",
       "      <td>[]</td>\n",
       "      <td>[Context-&gt;Economy]</td>\n",
       "    </tr>\n",
       "    <tr>\n",
       "      <th>124838</th>\n",
       "      <td>300624</td>\n",
       "      <td>[31 March 2021, GoS] The Ministry said that th...</td>\n",
       "      <td>excerpt</td>\n",
       "      <td>1306</td>\n",
       "      <td>52805</td>\n",
       "      <td>IMMAP/DFS Syria</td>\n",
       "      <td>2028</td>\n",
       "      <td>True</td>\n",
       "      <td>[]</td>\n",
       "      <td>[]</td>\n",
       "      <td>[]</td>\n",
       "    </tr>\n",
       "    <tr>\n",
       "      <th>124839</th>\n",
       "      <td>300623</td>\n",
       "      <td>[31 March 2021, GoS] Health Ministry announced...</td>\n",
       "      <td>excerpt</td>\n",
       "      <td>1306</td>\n",
       "      <td>52805</td>\n",
       "      <td>IMMAP/DFS Syria</td>\n",
       "      <td>2028</td>\n",
       "      <td>True</td>\n",
       "      <td>[]</td>\n",
       "      <td>[]</td>\n",
       "      <td>[]</td>\n",
       "    </tr>\n",
       "    <tr>\n",
       "      <th>124840</th>\n",
       "      <td>333296</td>\n",
       "      <td>[13th May 2021, Bay States]The situation in th...</td>\n",
       "      <td>excerpt</td>\n",
       "      <td>1306</td>\n",
       "      <td>55602</td>\n",
       "      <td>IMMAP/DFS Nigeria</td>\n",
       "      <td>2170</td>\n",
       "      <td>True</td>\n",
       "      <td>[]</td>\n",
       "      <td>[]</td>\n",
       "      <td>[Context-&gt;Security &amp; Stability, Displacement-&gt;...</td>\n",
       "    </tr>\n",
       "  </tbody>\n",
       "</table>\n",
       "<p>122676 rows × 11 columns</p>\n",
       "</div>"
      ],
      "text/plain": [
       "        entry_id                                            excerpt  \\\n",
       "0          16851  During the reporting week, IOM provided medica...   \n",
       "1         454418  El porcentaje de personas desempleadas ha aume...   \n",
       "2         187289  As per GIFMM monitoring, between 12 June and 1...   \n",
       "3         215154  This was the opposite among non-beneficiaries,...   \n",
       "4         237955  El Centro de Orientación para el Empleo y el E...   \n",
       "...          ...                                                ...   \n",
       "124836    200856  Todos los migrantes, de cualquier nacionalidad...   \n",
       "124837    200854  Desde el pasado 17 de marzo Colombia cerró sus...   \n",
       "124838    300624  [31 March 2021, GoS] The Ministry said that th...   \n",
       "124839    300623  [31 March 2021, GoS] Health Ministry announced...   \n",
       "124840    333296  [13th May 2021, Bay States]The situation in th...   \n",
       "\n",
       "       entry_type  analysis_framework_id  lead_id  \\\n",
       "0         excerpt                    137     6334   \n",
       "1         excerpt                    829    64535   \n",
       "2         excerpt                    829    42134   \n",
       "3         excerpt                    699    24416   \n",
       "4         excerpt                   1306    47317   \n",
       "...           ...                    ...      ...   \n",
       "124836    excerpt                   1306    44408   \n",
       "124837    excerpt                   1306    44408   \n",
       "124838    excerpt                   1306    52805   \n",
       "124839    excerpt                   1306    52805   \n",
       "124840    excerpt                   1306    55602   \n",
       "\n",
       "                                   title  project_id  verified        sectors  \\\n",
       "0       Situation Analysis Generic Yemen         322     False       [Health]   \n",
       "1                             UNHCR Peru        1185     False  [Livelihoods]   \n",
       "2                         UNHCR Colombia        1183     False      [Shelter]   \n",
       "3                            IFRC Turkey        1142     False    [Education]   \n",
       "4                     IMMAP/DFS Colombia        2311     False  [Livelihoods]   \n",
       "...                                  ...         ...       ...            ...   \n",
       "124836                IMMAP/DFS Colombia        2311      True       [Health]   \n",
       "124837                IMMAP/DFS Colombia        2311      True             []   \n",
       "124838                   IMMAP/DFS Syria        2028      True             []   \n",
       "124839                   IMMAP/DFS Syria        2028      True             []   \n",
       "124840                 IMMAP/DFS Nigeria        2170      True             []   \n",
       "\n",
       "                                            subpillars_2d  \\\n",
       "0         [Capacities & Response->International Response]   \n",
       "1       [Humanitarian Conditions->Living Standards, Im...   \n",
       "2       [Humanitarian Conditions->Living Standards, Im...   \n",
       "3             [Humanitarian Conditions->Living Standards]   \n",
       "4       [Priority Interventions->Expressed By Humanita...   \n",
       "...                                                   ...   \n",
       "124836  [Priority Interventions->Expressed By Humanita...   \n",
       "124837                                                 []   \n",
       "124838                                                 []   \n",
       "124839                                                 []   \n",
       "124840                                                 []   \n",
       "\n",
       "                                            subpillars_1d  \n",
       "0                                                      []  \n",
       "1                                                      []  \n",
       "2                                                      []  \n",
       "3                                                      []  \n",
       "4                                                      []  \n",
       "...                                                   ...  \n",
       "124836                                                 []  \n",
       "124837                                 [Context->Economy]  \n",
       "124838                                                 []  \n",
       "124839                                                 []  \n",
       "124840  [Context->Security & Stability, Displacement->...  \n",
       "\n",
       "[122676 rows x 11 columns]"
      ]
     },
     "execution_count": 75,
     "metadata": {},
     "output_type": "execute_result"
    }
   ],
   "source": [
    "final_df = final_df[['entry_id', 'excerpt', 'entry_type',\n",
    "        'analysis_framework_id', 'lead_id','title',\n",
    "        'project_id', 'verified',\n",
    "        'sectors', 'subpillars_2d', 'subpillars_1d'\n",
    "        ]]\n",
    "\n",
    "final_df = final_df[~(\n",
    "    final_df.analysis_framework_id.isna() | \n",
    "    final_df.entry_id.isna() |\n",
    "    final_df.lead_id.isna() |\n",
    "    final_df.excerpt.isna())\n",
    "]\n",
    "final_df"
   ]
  },
  {
   "cell_type": "code",
   "execution_count": 76,
   "metadata": {},
   "outputs": [],
   "source": [
    "final_df.to_csv('generated_entries/primary_tags.csv', index=None)"
   ]
  },
  {
   "cell_type": "code",
   "execution_count": null,
   "metadata": {},
   "outputs": [],
   "source": []
  },
  {
   "cell_type": "code",
   "execution_count": null,
   "metadata": {},
   "outputs": [],
   "source": []
  },
  {
   "cell_type": "code",
   "execution_count": null,
   "metadata": {},
   "outputs": [],
   "source": []
  }
 ],
 "metadata": {
  "kernelspec": {
   "display_name": "Python 3",
   "language": "python",
   "name": "python3"
  },
  "language_info": {
   "codemirror_mode": {
    "name": "ipython",
    "version": 3
   },
   "file_extension": ".py",
   "mimetype": "text/x-python",
   "name": "python",
   "nbconvert_exporter": "python",
   "pygments_lexer": "ipython3",
   "version": "3.8.5"
  },
  "varInspector": {
   "cols": {
    "lenName": 16,
    "lenType": 16,
    "lenVar": 40
   },
   "kernels_config": {
    "python": {
     "delete_cmd_postfix": "",
     "delete_cmd_prefix": "del ",
     "library": "var_list.py",
     "varRefreshCmd": "print(var_dic_list())"
    },
    "r": {
     "delete_cmd_postfix": ") ",
     "delete_cmd_prefix": "rm(",
     "library": "var_list.r",
     "varRefreshCmd": "cat(var_dic_list()) "
    }
   },
   "types_to_exclude": [
    "module",
    "function",
    "builtin_function_or_method",
    "instance",
    "_Feature"
   ],
   "window_display": false
  }
 },
 "nbformat": 4,
 "nbformat_minor": 4
}
