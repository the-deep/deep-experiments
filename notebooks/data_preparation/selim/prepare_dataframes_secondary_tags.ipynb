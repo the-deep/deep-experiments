{
 "cells": [
  {
   "cell_type": "code",
   "execution_count": 1,
   "metadata": {
    "ExecuteTime": {
     "end_time": "2021-06-03T07:38:57.719313Z",
     "start_time": "2021-06-03T07:38:57.526799Z"
    }
   },
   "outputs": [],
   "source": [
    "import re\n",
    "import json\n",
    "import random\n",
    "from pprint import pprint\n",
    "from ast import literal_eval\n",
    "from collections import Counter\n",
    "\n",
    "import numpy as np\n",
    "import pandas as pd\n",
    "from tqdm.auto import tqdm\n",
    "\n",
    "import seaborn as sns\n",
    "import matplotlib.pyplot as plt"
   ]
  },
  {
   "cell_type": "code",
   "execution_count": 2,
   "metadata": {
    "ExecuteTime": {
     "end_time": "2021-06-03T07:38:57.722406Z",
     "start_time": "2021-06-03T07:38:57.720474Z"
    }
   },
   "outputs": [],
   "source": [
    "random.seed(2021)\n",
    "np.random.seed(2021)"
   ]
  },
  {
   "cell_type": "code",
   "execution_count": 3,
   "metadata": {
    "ExecuteTime": {
     "end_time": "2021-06-03T07:39:00.251261Z",
     "start_time": "2021-06-03T07:38:57.725134Z"
    }
   },
   "outputs": [],
   "source": [
    "exportdata = pd.read_csv(\"exportdata.csv\")\n",
    "entries = pd.read_csv(\"entries_of_projects_chosen_by_patrice.csv\")\n",
    "af_widgets = pd.read_csv(\"af_widgets_of_interest.csv\")\n",
    "projects = pd.read_csv(\"projects_chosen_by_patrice.csv\")\n",
    "exportables = pd.read_csv(\"af_exportables.csv\")\n",
    "##\n",
    "afs = pd.read_csv(\"analysis_frameworks.csv\")\n",
    "users = pd.read_csv(\"user_names.csv\")\n",
    "##\n",
    "matching = pd.read_csv(\"pillars_subpillars_matching.csv\")"
   ]
  },
  {
   "cell_type": "code",
   "execution_count": 4,
   "metadata": {},
   "outputs": [],
   "source": [
    "project_list = pd.read_csv(\"extended_project_list.csv\")"
   ]
  },
  {
   "cell_type": "code",
   "execution_count": null,
   "metadata": {},
   "outputs": [],
   "source": []
  },
  {
   "cell_type": "code",
   "execution_count": null,
   "metadata": {},
   "outputs": [],
   "source": []
  },
  {
   "cell_type": "code",
   "execution_count": null,
   "metadata": {},
   "outputs": [],
   "source": []
  },
  {
   "cell_type": "code",
   "execution_count": 5,
   "metadata": {
    "ExecuteTime": {
     "end_time": "2021-06-03T07:39:00.257420Z",
     "start_time": "2021-06-03T07:39:00.252346Z"
    }
   },
   "outputs": [],
   "source": [
    "af_widgets[\"properties\"] = af_widgets[\"properties\"].apply(json.loads)"
   ]
  },
  {
   "cell_type": "code",
   "execution_count": null,
   "metadata": {},
   "outputs": [],
   "source": []
  },
  {
   "cell_type": "code",
   "execution_count": 6,
   "metadata": {},
   "outputs": [
    {
     "data": {
      "text/plain": [
       "array(['SECTORAL INFORMATION', 'LOCATION', 'EXCERPT',\n",
       "       'OPERATIONAL ENVIRONMENT', 'INFORMATION DATE', 'RELIABILITY',\n",
       "       'FLAG', 'DEMOGRAPHIC GROUPS', 'SPECIFIC NEEDS GROUPS',\n",
       "       'AFFECTED GROUPS', 'SEVERITY', 'SECTORS', 'CROSS SECTOR',\n",
       "       'GEO LOCATION', 'PRE-CRISIS', 'IN-CRISIS', 'CRISIS TYPE',\n",
       "       'CONTEXT ADDITIONAL TAGS', 'SHOCK/EVENT', 'ADDITIONAL CONTEXT',\n",
       "       'DISPLACED POP TYPE', 'CLEANING TAGS', 'POPULATION GROUPS',\n",
       "       'CLEANING COMMENTS', 'HIGH LEVEL TAGS', 'COMMENT'], dtype=object)"
      ]
     },
     "execution_count": 6,
     "metadata": {},
     "output_type": "execute_result"
    }
   ],
   "source": [
    "af_widgets[\"title\"].str.upper().unique()"
   ]
  },
  {
   "cell_type": "code",
   "execution_count": null,
   "metadata": {},
   "outputs": [],
   "source": []
  },
  {
   "cell_type": "code",
   "execution_count": null,
   "metadata": {},
   "outputs": [],
   "source": []
  },
  {
   "cell_type": "code",
   "execution_count": 7,
   "metadata": {
    "ExecuteTime": {
     "end_time": "2021-06-03T07:39:00.264144Z",
     "start_time": "2021-06-03T07:39:00.258739Z"
    }
   },
   "outputs": [],
   "source": [
    "mat2d_titles = [\n",
    "    s.upper() for s in [\n",
    "        \"Pre-Crisis\",\n",
    "        \"Shock/Event\",\n",
    "        \"In-Crisis\",\n",
    "        \"Sectors\",\n",
    "        \"Sectoral Information\",\n",
    "        \"Matrix 2D\",\n",
    "    ]\n",
    "]\n",
    "mat2d_properties_ids = af_widgets[(\n",
    "    af_widgets[\"title\"].str.upper()).isin(mat2d_titles)][[\n",
    "        \"properties\", \"analysis_framework_id\"\n",
    "    ]]\n",
    "mat2d_properties = mat2d_properties_ids[\"properties\"].tolist()\n",
    "mat2d_ids = mat2d_properties_ids[\"analysis_framework_id\"].tolist()"
   ]
  },
  {
   "cell_type": "code",
   "execution_count": null,
   "metadata": {},
   "outputs": [],
   "source": []
  },
  {
   "cell_type": "code",
   "execution_count": 8,
   "metadata": {
    "ExecuteTime": {
     "end_time": "2021-06-03T07:39:00.268598Z",
     "start_time": "2021-06-03T07:39:00.265457Z"
    },
    "scrolled": true
   },
   "outputs": [],
   "source": [
    "afids_pillars_subpillars = dict()\n",
    "for mat, af_id in zip(mat2d_properties, mat2d_ids):\n",
    "    dims = mat[\"data\"]['dimensions']\n",
    "    afids_pillars_subpillars[af_id] = {}\n",
    "    for dim in dims:\n",
    "        pillar = dim[\"title\"]\n",
    "        sub_pillars = []\n",
    "        for sub_pillar_dict in dim[\"subdimensions\"]:\n",
    "            sub_pillars.append(sub_pillar_dict[\"title\"])\n",
    "        afids_pillars_subpillars[af_id][pillar] = sub_pillars\n"
   ]
  },
  {
   "cell_type": "code",
   "execution_count": 9,
   "metadata": {
    "ExecuteTime": {
     "end_time": "2021-06-03T07:39:00.337377Z",
     "start_time": "2021-06-03T07:39:00.271148Z"
    }
   },
   "outputs": [],
   "source": [
    "exportables[\"data\"] = exportables[\"data\"].apply(literal_eval)"
   ]
  },
  {
   "cell_type": "code",
   "execution_count": 10,
   "metadata": {
    "ExecuteTime": {
     "end_time": "2021-06-03T07:39:00.341618Z",
     "start_time": "2021-06-03T07:39:00.338903Z"
    }
   },
   "outputs": [],
   "source": [
    "def extract_title(x):\n",
    "    if x[\"excel\"].get(\"title\"):\n",
    "        return x[\"excel\"][\"title\"]\n",
    "    elif x[\"excel\"].get(\"type\") == \"multiple\":\n",
    "        return x[\"excel\"][\"titles\"]\n",
    "\n",
    "af_titles = exportables[\"data\"].apply(extract_title).tolist()"
   ]
  },
  {
   "cell_type": "code",
   "execution_count": null,
   "metadata": {},
   "outputs": [],
   "source": []
  },
  {
   "cell_type": "code",
   "execution_count": 11,
   "metadata": {
    "ExecuteTime": {
     "end_time": "2021-06-03T07:39:00.348765Z",
     "start_time": "2021-06-03T07:39:00.342545Z"
    }
   },
   "outputs": [
    {
     "data": {
      "text/plain": [
       "((181142, 21), (1018086, 4))"
      ]
     },
     "execution_count": 11,
     "metadata": {},
     "output_type": "execute_result"
    }
   ],
   "source": [
    "entries.shape, exportdata.shape"
   ]
  },
  {
   "cell_type": "code",
   "execution_count": 12,
   "metadata": {
    "ExecuteTime": {
     "end_time": "2021-06-03T07:39:00.564220Z",
     "start_time": "2021-06-03T07:39:00.349743Z"
    }
   },
   "outputs": [
    {
     "data": {
      "text/plain": [
       "(138924,)"
      ]
     },
     "execution_count": 12,
     "metadata": {},
     "output_type": "execute_result"
    }
   ],
   "source": [
    "entries[~entries[\"excerpt\"].isna()][\"excerpt\"].unique().shape"
   ]
  },
  {
   "cell_type": "code",
   "execution_count": 13,
   "metadata": {
    "ExecuteTime": {
     "end_time": "2021-06-03T07:39:00.567560Z",
     "start_time": "2021-06-03T07:39:00.565364Z"
    }
   },
   "outputs": [],
   "source": [
    "exid_to_exdata = dict()\n",
    "for ex_id, ex_data in zip(exportables[\"id\"], exportables[\"data\"]):\n",
    "    exid_to_exdata[ex_id] = ex_data"
   ]
  },
  {
   "cell_type": "code",
   "execution_count": 14,
   "metadata": {},
   "outputs": [],
   "source": [
    "# additional tags:\n",
    "# Reliability, Severity, geo location, crisis type, affected groups, "
   ]
  },
  {
   "cell_type": "code",
   "execution_count": 15,
   "metadata": {
    "ExecuteTime": {
     "end_time": "2021-06-03T07:39:00.571376Z",
     "start_time": "2021-06-03T07:39:00.568655Z"
    }
   },
   "outputs": [
    {
     "data": {
      "text/plain": [
       "array(['Sectoral Information', 'LOCATION', 'EXCERPT',\n",
       "       'Operational Environment', 'Information Date', 'RELIABILITY',\n",
       "       'Flag', 'DEMOGRAPHIC GROUPS', 'SPECIFIC NEEDS GROUPS',\n",
       "       'AFFECTED GROUPS', 'Severity', 'Sectors', 'Cross sector',\n",
       "       'Affected groups', 'Specific Needs Groups', 'Demographic Groups',\n",
       "       'Reliability', 'Geo Location', 'Excerpt', 'Information date',\n",
       "       'PRE-CRISIS', 'IN-CRISIS', 'Crisis type',\n",
       "       'Context additional tags', 'Crisis Type', 'SHOCK/EVENT',\n",
       "       'Additional Context', 'DISPLACED POP TYPE', 'CLEANING tags',\n",
       "       'POPULATION GROUPS', 'Cleaning comments', 'HIGH LEVEL TAGS',\n",
       "       'Comment'], dtype=object)"
      ]
     },
     "execution_count": 15,
     "metadata": {},
     "output_type": "execute_result"
    }
   ],
   "source": [
    "af_widgets[\"title\"].unique()"
   ]
  },
  {
   "cell_type": "code",
   "execution_count": 16,
   "metadata": {
    "ExecuteTime": {
     "end_time": "2021-06-03T07:39:00.575158Z",
     "start_time": "2021-06-03T07:39:00.572326Z"
    }
   },
   "outputs": [],
   "source": [
    "widget_key_id_to_title = dict()\n",
    "for w_key, w_id, title in zip(af_widgets[\"key\"], af_widgets[\"widget_id\"], af_widgets[\"title\"]):\n",
    "    widget_key_id_to_title[(w_key, w_id)] = title"
   ]
  },
  {
   "cell_type": "code",
   "execution_count": 17,
   "metadata": {
    "ExecuteTime": {
     "end_time": "2021-06-03T07:39:00.581122Z",
     "start_time": "2021-06-03T07:39:00.576118Z"
    }
   },
   "outputs": [],
   "source": [
    "def exportdata_to_tag_title(row):\n",
    "    data = json.loads(row[1])\n",
    "    wkey, wid = None, None\n",
    "    if data.get(\"common\"):\n",
    "        wkey = data.get(\"common\").get(\"widget_key\")\n",
    "        wid = data[\"common\"].get(\"widget_id\")\n",
    "    if wkey and wid:\n",
    "        if widget_key_id_to_title.get((wkey, wid)):\n",
    "            return widget_key_id_to_title.get((wkey, wid))\n",
    "    if data.get(\"report\") and data[\"report\"].get(\"other\"):\n",
    "            if len(data[\"report\"][\"other\"]) == 1 and data[\"report\"][\"other\"][0].get(\"title\"):\n",
    "                if data[\"report\"][\"other\"][0][\"title\"]:\n",
    "                    return data[\"report\"][\"other\"][0][\"title\"]\n",
    "    if isinstance(data.get(\"excel\"), list) and len(data[\"excel\"])==1 and \\\n",
    "     data[\"excel\"][0].get(\"widget_key\") and data[\"excel\"][0].get(\"widget_id\"):\n",
    "        wkey = data[\"excel\"][0][\"widget_key\"]\n",
    "        wid = data[\"excel\"][0][\"widget_id\"]\n",
    "        if widget_key_id_to_title.get((wkey, wid)):\n",
    "            return widget_key_id_to_title.get((wkey, wid))\n",
    "    exportable_id = row[3]\n",
    "    if exid_to_exdata[exportable_id][\"excel\"].get(\"title\"):\n",
    "        return exid_to_exdata[exportable_id][\"excel\"][\"title\"]\n",
    "    elif exid_to_exdata[exportable_id][\"excel\"].get(\"type\") == \"multiple\":\n",
    "        return exid_to_exdata[exportable_id][\"excel\"][\"titles\"]\n",
    "    raise"
   ]
  },
  {
   "cell_type": "code",
   "execution_count": 18,
   "metadata": {
    "ExecuteTime": {
     "end_time": "2021-06-03T07:39:11.383391Z",
     "start_time": "2021-06-03T07:39:00.582038Z"
    }
   },
   "outputs": [],
   "source": [
    "exportdata[\"tag_title\"] = exportdata.apply(exportdata_to_tag_title, axis=1)"
   ]
  },
  {
   "cell_type": "code",
   "execution_count": 19,
   "metadata": {
    "ExecuteTime": {
     "end_time": "2021-06-03T07:39:11.387962Z",
     "start_time": "2021-06-03T07:39:11.384452Z"
    }
   },
   "outputs": [],
   "source": [
    "def exportdata_to_tag_value(row):\n",
    "    data = json.loads(row[1])\n",
    "    if isinstance(data[\"excel\"], list) and len(data[\"excel\"])==1:\n",
    "        return data[\"excel\"][0][\"value\"]\n",
    "    if data[\"excel\"].get(\"type\") == \"lists\":\n",
    "        return data[\"excel\"][\"values\"]\n",
    "    if isinstance(data[\"excel\"], dict) and \"value\" in data[\"excel\"]:\n",
    "        return data[\"excel\"].get(\"value\")\n",
    "    if isinstance(data[\"excel\"], dict) and \"values\" in data[\"excel\"]:\n",
    "        return data[\"excel\"].get(\"values\")\n",
    "    elif \"values\" in data[\"common\"]:\n",
    "        return data[\"common\"][\"values\"]\n",
    "    elif \"value\" in data[\"common\"]:\n",
    "        return data[\"common\"][\"value\"]\n",
    "    raise"
   ]
  },
  {
   "cell_type": "code",
   "execution_count": 20,
   "metadata": {
    "ExecuteTime": {
     "end_time": "2021-06-03T07:39:24.410072Z",
     "start_time": "2021-06-03T07:39:11.389079Z"
    }
   },
   "outputs": [],
   "source": [
    "exportdata[\"tag_value\"] = exportdata.apply(exportdata_to_tag_value, axis=1)"
   ]
  },
  {
   "cell_type": "code",
   "execution_count": 21,
   "metadata": {
    "ExecuteTime": {
     "end_time": "2021-06-03T07:39:24.414369Z",
     "start_time": "2021-06-03T07:39:24.411538Z"
    }
   },
   "outputs": [],
   "source": [
    "def title_case(tag):\n",
    "    if isinstance(tag, (list, tuple)):\n",
    "        return tuple([x.title() for x in tag])\n",
    "    return tag.title()"
   ]
  },
  {
   "cell_type": "code",
   "execution_count": 22,
   "metadata": {
    "ExecuteTime": {
     "end_time": "2021-06-03T07:39:24.835931Z",
     "start_time": "2021-06-03T07:39:24.415835Z"
    }
   },
   "outputs": [],
   "source": [
    "exportdata[\"tag_title\"] = exportdata[\"tag_title\"].apply(title_case)"
   ]
  },
  {
   "cell_type": "code",
   "execution_count": 23,
   "metadata": {},
   "outputs": [
    {
     "data": {
      "text/plain": [
       "array(['Severity', 'Reliability', 'Population Groups', 'Information Date',\n",
       "       'Location', 'Sectoral Information', 'Demographic Groups', 'Flag',\n",
       "       'Operational Environment', 'Shock/Event', 'High Level Tags',\n",
       "       'In-Crisis', 'Specific Needs Groups', 'Comment',\n",
       "       'Additional Context', 'Sectors', 'Cross Sector', 'Geo Location',\n",
       "       'Affected Groups', 'Displaced Pop Type', 'Crisis Type',\n",
       "       'Cleaning Tags', 'Displacement Profile Details',\n",
       "       ('Affected Groups - Level 0', 'Affected Groups - Level 1', 'Affected Groups - Level 2', 'Affected Groups - Level 3'),\n",
       "       'Cleaning Comments',\n",
       "       ('Sectoral Information - Dimension', 'Sectoral Information - Subdimension', 'Sectoral Information - Sector', 'Sectoral Information - Subsectors'),\n",
       "       ('Information Date (From)', 'Information Date (To)'),\n",
       "       ('Operational Environment - Dimension', 'Operational Environment - Subdimension'),\n",
       "       ('In-Crisis - Dimension', 'In-Crisis - Subdimension', 'In-Crisis - Sector', 'In-Crisis - Subsectors'),\n",
       "       ('Affected Groups - Level 0', 'Affected Groups - Level 1', 'Affected Groups - Level 2', 'Affected Groups - Level 3', 'Affected Groups - Level 4', 'Affected Groups - Level 5'),\n",
       "       ('Flag - Dimension', 'Flag - Subdimension'),\n",
       "       ('Pre-Crisis - Dimension', 'Pre-Crisis - Subdimension', 'Pre-Crisis - Sector', 'Pre-Crisis - Subsectors'),\n",
       "       ('High Level Tags - Dimension', 'High Level Tags - Subdimension')],\n",
       "      dtype=object)"
      ]
     },
     "execution_count": 23,
     "metadata": {},
     "output_type": "execute_result"
    }
   ],
   "source": [
    "exportdata.tag_title.unique()"
   ]
  },
  {
   "cell_type": "code",
   "execution_count": null,
   "metadata": {},
   "outputs": [],
   "source": []
  },
  {
   "cell_type": "code",
   "execution_count": null,
   "metadata": {},
   "outputs": [],
   "source": []
  },
  {
   "cell_type": "code",
   "execution_count": null,
   "metadata": {},
   "outputs": [],
   "source": []
  },
  {
   "cell_type": "code",
   "execution_count": null,
   "metadata": {},
   "outputs": [],
   "source": []
  },
  {
   "cell_type": "code",
   "execution_count": null,
   "metadata": {},
   "outputs": [],
   "source": []
  },
  {
   "cell_type": "code",
   "execution_count": 24,
   "metadata": {
    "ExecuteTime": {
     "end_time": "2021-06-03T07:39:24.839151Z",
     "start_time": "2021-06-03T07:39:24.837206Z"
    }
   },
   "outputs": [],
   "source": [
    "#exportdata[\"tag_title\"].unique()\n",
    "# 1. GIMAC --> Pre-Crisis, Shock/Event, In-Crisis\n",
    "# 2. 2020 Okular --> Sectoral Information\n",
    "# 3. Okular Analytics Generic --> Sectoral Information\n",
    "# 4. Rohingya Framework --> Sectors\n",
    "# 5. IFRC 2018 --> Sectors\n",
    "# 6. Colombia AF --> Sectoral Information\n",
    "# 7. Nigeria Situation Analysis (OA) --> Sectoral Information\n",
    "# 8. Situation Analysis Generic Yemen --> Matrix 2D\n",
    "# 9. Situation Analysis Generic Libya --> Sectors"
   ]
  },
  {
   "cell_type": "code",
   "execution_count": 25,
   "metadata": {
    "ExecuteTime": {
     "end_time": "2021-06-03T07:39:24.842485Z",
     "start_time": "2021-06-03T07:39:24.840294Z"
    }
   },
   "outputs": [],
   "source": [
    "secondary_tags_titles = [\n",
    "        \"Severity\",\n",
    "        \"Reliability\",\n",
    "        \"Demographic Groups\",\n",
    "        \"Specific Needs Groups\",\n",
    "        \"Location\",\n",
    "        \"Information Date\"\n",
    "]"
   ]
  },
  {
   "cell_type": "code",
   "execution_count": null,
   "metadata": {},
   "outputs": [],
   "source": []
  },
  {
   "cell_type": "code",
   "execution_count": 26,
   "metadata": {
    "ExecuteTime": {
     "end_time": "2021-06-03T07:39:25.028734Z",
     "start_time": "2021-06-03T07:39:24.847221Z"
    }
   },
   "outputs": [],
   "source": [
    "exportdata_secondary_tags = exportdata[exportdata[\"tag_title\"].isin(secondary_tags_titles)]"
   ]
  },
  {
   "cell_type": "code",
   "execution_count": 27,
   "metadata": {
    "ExecuteTime": {
     "end_time": "2021-06-03T07:39:25.035351Z",
     "start_time": "2021-06-03T07:39:25.031723Z"
    }
   },
   "outputs": [
    {
     "data": {
      "text/plain": [
       "((659058, 6), (1018086, 6), (181142, 21))"
      ]
     },
     "execution_count": 27,
     "metadata": {},
     "output_type": "execute_result"
    }
   ],
   "source": [
    "exportdata_secondary_tags.shape, exportdata.shape, entries.shape"
   ]
  },
  {
   "cell_type": "code",
   "execution_count": 28,
   "metadata": {
    "ExecuteTime": {
     "end_time": "2021-06-03T07:39:25.262177Z",
     "start_time": "2021-06-03T07:39:25.037339Z"
    }
   },
   "outputs": [],
   "source": [
    "entries_labeled_secondary_tags = pd.merge(entries,\n",
    "                                 exportdata_secondary_tags,\n",
    "                                 how=\"inner\",\n",
    "                                 left_on=\"id\",\n",
    "                                 right_on=\"entry_id\",\n",
    "                                 suffixes=('_entry', '_exportdata'))"
   ]
  },
  {
   "cell_type": "code",
   "execution_count": 29,
   "metadata": {
    "ExecuteTime": {
     "end_time": "2021-06-03T07:39:25.444911Z",
     "start_time": "2021-06-03T07:39:25.263859Z"
    }
   },
   "outputs": [
    {
     "data": {
      "text/plain": [
       "((181142, 21), (138924,))"
      ]
     },
     "execution_count": 29,
     "metadata": {},
     "output_type": "execute_result"
    }
   ],
   "source": [
    "entries.shape, entries[~entries[\"excerpt\"].isna()][\"excerpt\"].unique().shape"
   ]
  },
  {
   "cell_type": "code",
   "execution_count": null,
   "metadata": {
    "ExecuteTime": {
     "end_time": "2021-06-03T07:39:25.449600Z",
     "start_time": "2021-06-03T07:39:25.446294Z"
    }
   },
   "outputs": [],
   "source": []
  },
  {
   "cell_type": "code",
   "execution_count": 30,
   "metadata": {},
   "outputs": [],
   "source": [
    "leads = entries_labeled_secondary_tags.lead_id.unique()"
   ]
  },
  {
   "cell_type": "code",
   "execution_count": null,
   "metadata": {},
   "outputs": [],
   "source": []
  },
  {
   "cell_type": "code",
   "execution_count": null,
   "metadata": {},
   "outputs": [],
   "source": []
  },
  {
   "cell_type": "code",
   "execution_count": null,
   "metadata": {},
   "outputs": [],
   "source": []
  },
  {
   "cell_type": "code",
   "execution_count": null,
   "metadata": {},
   "outputs": [],
   "source": []
  },
  {
   "cell_type": "code",
   "execution_count": null,
   "metadata": {},
   "outputs": [],
   "source": []
  },
  {
   "cell_type": "code",
   "execution_count": 31,
   "metadata": {},
   "outputs": [],
   "source": [
    "entries_labeled_secondary_tags_cleaned =\\\n",
    "                entries_labeled_secondary_tags[~entries_labeled_secondary_tags[\"excerpt\"].isna()]\\\n",
    "                                    .drop(columns=['tabular_field_id',\n",
    "                                                   'image_id',\n",
    "                                                   'image_raw', \n",
    "                                                   'created_at', \n",
    "                                                   'modified_at', \n",
    "                                                   'created_by_id', \n",
    "                                                   'modified_by_id',\n",
    "                                                   'entry_type', \n",
    "                                                   'dropped_excerpt', \n",
    "                                                   'highlight_hidden', \n",
    "                                                   'verified', \n",
    "                                                   'verification_last_changed_by_id', \n",
    "                                                   'client_id',\n",
    "                                                   'id_exportdata',\n",
    "                                                   'information_date',\n",
    "                                                   'order',\n",
    "                                                   'id_entry',\n",
    "                                                   'data'])"
   ]
  },
  {
   "cell_type": "code",
   "execution_count": 32,
   "metadata": {},
   "outputs": [
    {
     "data": {
      "text/plain": [
       "((501220, 9),\n",
       " Index(['excerpt', 'analysis_framework_id', 'lead_id', 'project_id', 'title',\n",
       "        'entry_id', 'exportable_id', 'tag_title', 'tag_value'],\n",
       "       dtype='object'))"
      ]
     },
     "execution_count": 32,
     "metadata": {},
     "output_type": "execute_result"
    }
   ],
   "source": [
    "entries_labeled_secondary_tags_cleaned.shape, entries_labeled_secondary_tags_cleaned.columns"
   ]
  },
  {
   "cell_type": "code",
   "execution_count": 33,
   "metadata": {},
   "outputs": [
    {
     "data": {
      "text/plain": [
       "array(['Information Date', 'Reliability', 'Severity', 'Location',\n",
       "       'Demographic Groups', 'Specific Needs Groups'], dtype=object)"
      ]
     },
     "execution_count": 33,
     "metadata": {},
     "output_type": "execute_result"
    }
   ],
   "source": [
    "entries_labeled_secondary_tags_cleaned.tag_title.unique()"
   ]
  },
  {
   "cell_type": "code",
   "execution_count": 34,
   "metadata": {},
   "outputs": [
    {
     "data": {
      "text/html": [
       "<div>\n",
       "<style scoped>\n",
       "    .dataframe tbody tr th:only-of-type {\n",
       "        vertical-align: middle;\n",
       "    }\n",
       "\n",
       "    .dataframe tbody tr th {\n",
       "        vertical-align: top;\n",
       "    }\n",
       "\n",
       "    .dataframe thead th {\n",
       "        text-align: right;\n",
       "    }\n",
       "</style>\n",
       "<table border=\"1\" class=\"dataframe\">\n",
       "  <thead>\n",
       "    <tr style=\"text-align: right;\">\n",
       "      <th></th>\n",
       "      <th>excerpt</th>\n",
       "      <th>analysis_framework_id</th>\n",
       "      <th>lead_id</th>\n",
       "      <th>project_id</th>\n",
       "      <th>title</th>\n",
       "      <th>entry_id</th>\n",
       "      <th>exportable_id</th>\n",
       "      <th>tag_title</th>\n",
       "      <th>tag_value</th>\n",
       "    </tr>\n",
       "  </thead>\n",
       "  <tbody>\n",
       "    <tr>\n",
       "      <th>0</th>\n",
       "      <td>On March 19, search-andrescue personnel airlif...</td>\n",
       "      <td>273</td>\n",
       "      <td>10607</td>\n",
       "      <td>878</td>\n",
       "      <td>IFRC - Cyclone Idai, March 2019</td>\n",
       "      <td>25639</td>\n",
       "      <td>3148</td>\n",
       "      <td>Information Date</td>\n",
       "      <td>22-03-2019</td>\n",
       "    </tr>\n",
       "    <tr>\n",
       "      <th>1</th>\n",
       "      <td>On March 19, search-andrescue personnel airlif...</td>\n",
       "      <td>273</td>\n",
       "      <td>10607</td>\n",
       "      <td>878</td>\n",
       "      <td>IFRC - Cyclone Idai, March 2019</td>\n",
       "      <td>25639</td>\n",
       "      <td>3145</td>\n",
       "      <td>Reliability</td>\n",
       "      <td>Usually</td>\n",
       "    </tr>\n",
       "  </tbody>\n",
       "</table>\n",
       "</div>"
      ],
      "text/plain": [
       "                                             excerpt  analysis_framework_id  \\\n",
       "0  On March 19, search-andrescue personnel airlif...                    273   \n",
       "1  On March 19, search-andrescue personnel airlif...                    273   \n",
       "\n",
       "   lead_id  project_id                            title  entry_id  \\\n",
       "0    10607         878  IFRC - Cyclone Idai, March 2019     25639   \n",
       "1    10607         878  IFRC - Cyclone Idai, March 2019     25639   \n",
       "\n",
       "   exportable_id         tag_title   tag_value  \n",
       "0           3148  Information Date  22-03-2019  \n",
       "1           3145       Reliability     Usually  "
      ]
     },
     "execution_count": 34,
     "metadata": {},
     "output_type": "execute_result"
    }
   ],
   "source": [
    "entries_labeled_secondary_tags_cleaned.head(2)"
   ]
  },
  {
   "cell_type": "code",
   "execution_count": null,
   "metadata": {},
   "outputs": [],
   "source": []
  },
  {
   "cell_type": "code",
   "execution_count": 35,
   "metadata": {},
   "outputs": [],
   "source": [
    "reliability_raw_to_processed_dict = {\n",
    "    'Completely':'Completely Reliable',\n",
    "    'Completely Reliable':'Completely Reliable',\n",
    "    'Usually Reliable':'Usually reliable',\n",
    "    'Usually':'Usually reliable',\n",
    "    'Fairly Reliable':'Fairly Reliable',\n",
    "    'Fairly':'Fairly Reliable',\n",
    "    'Not Usually':'Not Usually Reliable',\n",
    "    'Not Usually Reliable':'Not Usually Reliable',\n",
    "    'Unreliable':'Unreliable',\n",
    "    'Cannot be Used':'Unreliable',\n",
    "    'Unreliable ':'Unreliable'\n",
    "}"
   ]
  },
  {
   "cell_type": "code",
   "execution_count": 36,
   "metadata": {},
   "outputs": [],
   "source": [
    "reliabillity_tags_df = entries_labeled_secondary_tags_cleaned[entries_labeled_secondary_tags_cleaned.tag_title=='Reliability']\\\n",
    "                            .drop(columns=['tag_title'])\n",
    "reliabillity_tags_df['tag_value'] =\\\n",
    "            reliabillity_tags_df['tag_value'].apply(lambda x: reliability_raw_to_processed_dict[x])"
   ]
  },
  {
   "cell_type": "code",
   "execution_count": 37,
   "metadata": {},
   "outputs": [
    {
     "data": {
      "text/html": [
       "<div>\n",
       "<style scoped>\n",
       "    .dataframe tbody tr th:only-of-type {\n",
       "        vertical-align: middle;\n",
       "    }\n",
       "\n",
       "    .dataframe tbody tr th {\n",
       "        vertical-align: top;\n",
       "    }\n",
       "\n",
       "    .dataframe thead th {\n",
       "        text-align: right;\n",
       "    }\n",
       "</style>\n",
       "<table border=\"1\" class=\"dataframe\">\n",
       "  <thead>\n",
       "    <tr style=\"text-align: right;\">\n",
       "      <th></th>\n",
       "      <th>excerpt</th>\n",
       "      <th>analysis_framework_id</th>\n",
       "      <th>lead_id</th>\n",
       "      <th>project_id</th>\n",
       "      <th>title</th>\n",
       "      <th>entry_id</th>\n",
       "      <th>exportable_id</th>\n",
       "      <th>tag_value</th>\n",
       "    </tr>\n",
       "  </thead>\n",
       "  <tbody>\n",
       "    <tr>\n",
       "      <th>1</th>\n",
       "      <td>On March 19, search-andrescue personnel airlif...</td>\n",
       "      <td>273</td>\n",
       "      <td>10607</td>\n",
       "      <td>878</td>\n",
       "      <td>IFRC - Cyclone Idai, March 2019</td>\n",
       "      <td>25639</td>\n",
       "      <td>3145</td>\n",
       "      <td>Usually reliable</td>\n",
       "    </tr>\n",
       "    <tr>\n",
       "      <th>9</th>\n",
       "      <td>Currently, there are 139,771 confirmed cases i...</td>\n",
       "      <td>699</td>\n",
       "      <td>28940</td>\n",
       "      <td>1142</td>\n",
       "      <td>IFRC Turkey</td>\n",
       "      <td>102051</td>\n",
       "      <td>5295</td>\n",
       "      <td>Usually reliable</td>\n",
       "    </tr>\n",
       "  </tbody>\n",
       "</table>\n",
       "</div>"
      ],
      "text/plain": [
       "                                             excerpt  analysis_framework_id  \\\n",
       "1  On March 19, search-andrescue personnel airlif...                    273   \n",
       "9  Currently, there are 139,771 confirmed cases i...                    699   \n",
       "\n",
       "   lead_id  project_id                            title  entry_id  \\\n",
       "1    10607         878  IFRC - Cyclone Idai, March 2019     25639   \n",
       "9    28940        1142                      IFRC Turkey    102051   \n",
       "\n",
       "   exportable_id         tag_value  \n",
       "1           3145  Usually reliable  \n",
       "9           5295  Usually reliable  "
      ]
     },
     "execution_count": 37,
     "metadata": {},
     "output_type": "execute_result"
    }
   ],
   "source": [
    "reliabillity_tags_df.head(2)"
   ]
  },
  {
   "cell_type": "code",
   "execution_count": 38,
   "metadata": {},
   "outputs": [
    {
     "data": {
      "text/plain": [
       "Text(0.5, 0, 'proportion')"
      ]
     },
     "execution_count": 38,
     "metadata": {},
     "output_type": "execute_result"
    },
    {
     "data": {
      "image/png": "[encoded data removed]",
      "text/plain": [
       "<Figure size 432x288 with 1 Axes>"
      ]
     },
     "metadata": {
      "needs_background": "light"
     },
     "output_type": "display_data"
    }
   ],
   "source": [
    "\n",
    "sns.histplot(data=reliabillity_tags_df, y=\"tag_value\", stat='probability')\n",
    "plt.ylabel('Reliability')\n",
    "plt.xlabel('proportion')"
   ]
  },
  {
   "cell_type": "code",
   "execution_count": 39,
   "metadata": {},
   "outputs": [],
   "source": [
    "reliabillity_tags_df.to_csv('data_secondary_tags/reliabillity_tags.csv')"
   ]
  },
  {
   "cell_type": "markdown",
   "metadata": {},
   "source": [
    "## Dates"
   ]
  },
  {
   "cell_type": "code",
   "execution_count": 40,
   "metadata": {},
   "outputs": [],
   "source": [
    "date_tags_df =\\\n",
    "    entries_labeled_secondary_tags_cleaned[entries_labeled_secondary_tags_cleaned.tag_title=='Information Date']\\\n",
    "                            .drop(columns=['tag_title'])\n",
    "\n",
    "date_tags_df = date_tags_df[date_tags_df.tag_value.apply(\n",
    "                    lambda x: x!=None and x!=[None, None]\n",
    "            )]"
   ]
  },
  {
   "cell_type": "code",
   "execution_count": 41,
   "metadata": {},
   "outputs": [
    {
     "data": {
      "text/html": [
       "<div>\n",
       "<style scoped>\n",
       "    .dataframe tbody tr th:only-of-type {\n",
       "        vertical-align: middle;\n",
       "    }\n",
       "\n",
       "    .dataframe tbody tr th {\n",
       "        vertical-align: top;\n",
       "    }\n",
       "\n",
       "    .dataframe thead th {\n",
       "        text-align: right;\n",
       "    }\n",
       "</style>\n",
       "<table border=\"1\" class=\"dataframe\">\n",
       "  <thead>\n",
       "    <tr style=\"text-align: right;\">\n",
       "      <th></th>\n",
       "      <th>excerpt</th>\n",
       "      <th>analysis_framework_id</th>\n",
       "      <th>lead_id</th>\n",
       "      <th>project_id</th>\n",
       "      <th>title</th>\n",
       "      <th>entry_id</th>\n",
       "      <th>exportable_id</th>\n",
       "      <th>tag_value</th>\n",
       "    </tr>\n",
       "  </thead>\n",
       "  <tbody>\n",
       "    <tr>\n",
       "      <th>0</th>\n",
       "      <td>On March 19, search-andrescue personnel airlif...</td>\n",
       "      <td>273</td>\n",
       "      <td>10607</td>\n",
       "      <td>878</td>\n",
       "      <td>IFRC - Cyclone Idai, March 2019</td>\n",
       "      <td>25639</td>\n",
       "      <td>3148</td>\n",
       "      <td>22-03-2019</td>\n",
       "    </tr>\n",
       "    <tr>\n",
       "      <th>11</th>\n",
       "      <td>Currently, there are 139,771 confirmed cases i...</td>\n",
       "      <td>699</td>\n",
       "      <td>28940</td>\n",
       "      <td>1142</td>\n",
       "      <td>IFRC Turkey</td>\n",
       "      <td>102051</td>\n",
       "      <td>5300</td>\n",
       "      <td>[11-05-2020, None]</td>\n",
       "    </tr>\n",
       "    <tr>\n",
       "      <th>84</th>\n",
       "      <td> Mt. Pinatubo eruption, June 1991, Atmosphere...</td>\n",
       "      <td>699</td>\n",
       "      <td>12919</td>\n",
       "      <td>1111</td>\n",
       "      <td>IFRC Philippines</td>\n",
       "      <td>33155</td>\n",
       "      <td>5300</td>\n",
       "      <td>[01-06-1991, None]</td>\n",
       "    </tr>\n",
       "    <tr>\n",
       "      <th>89</th>\n",
       "      <td>In addition, there are 922,530* foreign nation...</td>\n",
       "      <td>699</td>\n",
       "      <td>26544</td>\n",
       "      <td>1142</td>\n",
       "      <td>IFRC Turkey</td>\n",
       "      <td>96087</td>\n",
       "      <td>5300</td>\n",
       "      <td>[01-01-2019, 31-03-2020]</td>\n",
       "    </tr>\n",
       "    <tr>\n",
       "      <th>98</th>\n",
       "      <td>\"He has the support, up until now, of the arme...</td>\n",
       "      <td>273</td>\n",
       "      <td>10740</td>\n",
       "      <td>786</td>\n",
       "      <td>Venezuela crisis 2019</td>\n",
       "      <td>26269</td>\n",
       "      <td>3148</td>\n",
       "      <td>23-03-2019</td>\n",
       "    </tr>\n",
       "  </tbody>\n",
       "</table>\n",
       "</div>"
      ],
      "text/plain": [
       "                                              excerpt  analysis_framework_id  \\\n",
       "0   On March 19, search-andrescue personnel airlif...                    273   \n",
       "11  Currently, there are 139,771 confirmed cases i...                    699   \n",
       "84   Mt. Pinatubo eruption, June 1991, Atmosphere...                    699   \n",
       "89  In addition, there are 922,530* foreign nation...                    699   \n",
       "98  \"He has the support, up until now, of the arme...                    273   \n",
       "\n",
       "    lead_id  project_id                            title  entry_id  \\\n",
       "0     10607         878  IFRC - Cyclone Idai, March 2019     25639   \n",
       "11    28940        1142                      IFRC Turkey    102051   \n",
       "84    12919        1111                 IFRC Philippines     33155   \n",
       "89    26544        1142                      IFRC Turkey     96087   \n",
       "98    10740         786            Venezuela crisis 2019     26269   \n",
       "\n",
       "    exportable_id                 tag_value  \n",
       "0            3148                22-03-2019  \n",
       "11           5300        [11-05-2020, None]  \n",
       "84           5300        [01-06-1991, None]  \n",
       "89           5300  [01-01-2019, 31-03-2020]  \n",
       "98           3148                23-03-2019  "
      ]
     },
     "execution_count": 41,
     "metadata": {},
     "output_type": "execute_result"
    }
   ],
   "source": [
    "date_tags_df.head()"
   ]
  },
  {
   "cell_type": "code",
   "execution_count": 42,
   "metadata": {},
   "outputs": [],
   "source": [
    "date_tags_df.to_csv('data_secondary_tags/date_tags.csv')\n"
   ]
  },
  {
   "cell_type": "markdown",
   "metadata": {},
   "source": [
    "## Locations:"
   ]
  },
  {
   "cell_type": "code",
   "execution_count": 43,
   "metadata": {},
   "outputs": [],
   "source": [
    "geoarea_df = pd.read_csv('geo_geoarea.csv')"
   ]
  },
  {
   "cell_type": "code",
   "execution_count": 44,
   "metadata": {},
   "outputs": [
    {
     "data": {
      "text/html": [
       "<div>\n",
       "<style scoped>\n",
       "    .dataframe tbody tr th:only-of-type {\n",
       "        vertical-align: middle;\n",
       "    }\n",
       "\n",
       "    .dataframe tbody tr th {\n",
       "        vertical-align: top;\n",
       "    }\n",
       "\n",
       "    .dataframe thead th {\n",
       "        text-align: right;\n",
       "    }\n",
       "</style>\n",
       "<table border=\"1\" class=\"dataframe\">\n",
       "  <thead>\n",
       "    <tr style=\"text-align: right;\">\n",
       "      <th></th>\n",
       "      <th>excerpt</th>\n",
       "      <th>analysis_framework_id</th>\n",
       "      <th>lead_id</th>\n",
       "      <th>project_id</th>\n",
       "      <th>title</th>\n",
       "      <th>entry_id</th>\n",
       "      <th>exportable_id</th>\n",
       "      <th>tag_value</th>\n",
       "    </tr>\n",
       "  </thead>\n",
       "  <tbody>\n",
       "    <tr>\n",
       "      <th>8</th>\n",
       "      <td>Currently, there are 139,771 confirmed cases i...</td>\n",
       "      <td>699</td>\n",
       "      <td>28940</td>\n",
       "      <td>1142</td>\n",
       "      <td>IFRC Turkey</td>\n",
       "      <td>102051</td>\n",
       "      <td>5304</td>\n",
       "      <td>[215265]</td>\n",
       "    </tr>\n",
       "    <tr>\n",
       "      <th>17</th>\n",
       "      <td>According to The Guardian, more than 9,000 ref...</td>\n",
       "      <td>552</td>\n",
       "      <td>8644</td>\n",
       "      <td>788</td>\n",
       "      <td>Nigeria Situation Analysis (OA)</td>\n",
       "      <td>21660</td>\n",
       "      <td>4691</td>\n",
       "      <td>[29687]</td>\n",
       "    </tr>\n",
       "    <tr>\n",
       "      <th>36</th>\n",
       "      <td>SANCAKTEPE SUB-PROVINCE: According to Baseline...</td>\n",
       "      <td>699</td>\n",
       "      <td>25511</td>\n",
       "      <td>1142</td>\n",
       "      <td>IFRC Turkey</td>\n",
       "      <td>96070</td>\n",
       "      <td>5304</td>\n",
       "      <td>[215807]</td>\n",
       "    </tr>\n",
       "    <tr>\n",
       "      <th>82</th>\n",
       "      <td> Mt. Pinatubo eruption, June 1991, Atmosphere...</td>\n",
       "      <td>699</td>\n",
       "      <td>12919</td>\n",
       "      <td>1111</td>\n",
       "      <td>IFRC Philippines</td>\n",
       "      <td>33155</td>\n",
       "      <td>5304</td>\n",
       "      <td>[221420]</td>\n",
       "    </tr>\n",
       "    <tr>\n",
       "      <th>87</th>\n",
       "      <td>In addition, there are 922,530* foreign nation...</td>\n",
       "      <td>699</td>\n",
       "      <td>26544</td>\n",
       "      <td>1142</td>\n",
       "      <td>IFRC Turkey</td>\n",
       "      <td>96087</td>\n",
       "      <td>5304</td>\n",
       "      <td>[215265]</td>\n",
       "    </tr>\n",
       "  </tbody>\n",
       "</table>\n",
       "</div>"
      ],
      "text/plain": [
       "                                              excerpt  analysis_framework_id  \\\n",
       "8   Currently, there are 139,771 confirmed cases i...                    699   \n",
       "17  According to The Guardian, more than 9,000 ref...                    552   \n",
       "36  SANCAKTEPE SUB-PROVINCE: According to Baseline...                    699   \n",
       "82   Mt. Pinatubo eruption, June 1991, Atmosphere...                    699   \n",
       "87  In addition, there are 922,530* foreign nation...                    699   \n",
       "\n",
       "    lead_id  project_id                            title  entry_id  \\\n",
       "8     28940        1142                      IFRC Turkey    102051   \n",
       "17     8644         788  Nigeria Situation Analysis (OA)     21660   \n",
       "36    25511        1142                      IFRC Turkey     96070   \n",
       "82    12919        1111                 IFRC Philippines     33155   \n",
       "87    26544        1142                      IFRC Turkey     96087   \n",
       "\n",
       "    exportable_id tag_value  \n",
       "8            5304  [215265]  \n",
       "17           4691   [29687]  \n",
       "36           5304  [215807]  \n",
       "82           5304  [221420]  \n",
       "87           5304  [215265]  "
      ]
     },
     "execution_count": 44,
     "metadata": {},
     "output_type": "execute_result"
    }
   ],
   "source": [
    "geo_location_data =\\\n",
    "    entries_labeled_secondary_tags_cleaned[\n",
    "        entries_labeled_secondary_tags_cleaned.tag_title.apply(lambda x: \"Location\" in (x))\n",
    "    ].drop(columns=['tag_title'])\n",
    "geo_location_data.head()"
   ]
  },
  {
   "cell_type": "code",
   "execution_count": 45,
   "metadata": {},
   "outputs": [],
   "source": [
    "list_dicts = geoarea_df[['id', 'title']].to_dict(orient='split')['data']\n",
    "id_to_location = {}\n",
    "for row in list_dicts:\n",
    "    id_to_location[row[0]] = row[1]\n",
    "list_keys = list(id_to_location.keys())"
   ]
  },
  {
   "cell_type": "code",
   "execution_count": 46,
   "metadata": {},
   "outputs": [],
   "source": [
    "def perfectEval(anonstring):\n",
    "    corrected = [int(nb) for nb in anonstring]\n",
    "    return corrected"
   ]
  },
  {
   "cell_type": "code",
   "execution_count": 47,
   "metadata": {},
   "outputs": [],
   "source": [
    "geo_location_data['tag_value'] = geo_location_data['tag_value'].apply(lambda x: perfectEval(x))"
   ]
  },
  {
   "cell_type": "code",
   "execution_count": null,
   "metadata": {},
   "outputs": [
    {
     "data": {
      "application/vnd.jupyter.widget-view+json": {
       "model_id": "023433ccbed842a3aa97b570364d2946",
       "version_major": 2,
       "version_minor": 0
      },
      "text/plain": [
       "  0%|          | 0/125 [00:00<?, ?it/s]"
      ]
     },
     "metadata": {},
     "output_type": "display_data"
    }
   ],
   "source": [
    "n = 1000\n",
    "final_df = pd.DataFrame()\n",
    "for i in tqdm(range(0,geo_location_data.shape[0],n)):\n",
    "    tmp_df = geo_location_data[i:i+n].copy()\n",
    "    tmp_df['tag_value'] = tmp_df.tag_value\\\n",
    "                            .apply(lambda x: [id_to_location[int(tag_)] for tag_ in x if int(tag_) in list_keys])\n",
    "    final_df = final_df.append(tmp_df)"
   ]
  },
  {
   "cell_type": "code",
   "execution_count": null,
   "metadata": {},
   "outputs": [],
   "source": [
    "final_df = final_df[final_df.tag_value.apply(lambda x: bool(len(x)) and 'Unknown' not in x)]"
   ]
  },
  {
   "cell_type": "code",
   "execution_count": null,
   "metadata": {},
   "outputs": [],
   "source": [
    "final_df.to_csv('data_secondary_tags/geo_location.csv')"
   ]
  },
  {
   "cell_type": "code",
   "execution_count": null,
   "metadata": {},
   "outputs": [],
   "source": [
    "#geo_location_df.to_csv('data_secondary_tags/geo_location.csv')"
   ]
  },
  {
   "cell_type": "code",
   "execution_count": null,
   "metadata": {},
   "outputs": [],
   "source": []
  },
  {
   "cell_type": "code",
   "execution_count": null,
   "metadata": {},
   "outputs": [],
   "source": []
  },
  {
   "cell_type": "markdown",
   "metadata": {},
   "source": [
    "## Severity"
   ]
  },
  {
   "cell_type": "code",
   "execution_count": null,
   "metadata": {},
   "outputs": [],
   "source": [
    "Severity_raw_to_processed_dict = {\n",
    "    'Critical':'Critical',\n",
    "    'Severe':'Critical',\n",
    "    'Critical Situation':'Critical',\n",
    "    'Critical problem. Urgent intervention required':'Critical',\n",
    "    'Severe Conditions':'Critical',\n",
    "    'Major':'Major',\n",
    "    'Severe Problem. Intervention required':'Major',\n",
    "    'Important problem. Middle to short term intervention required':'Major',\n",
    "    'Situation of Major Concern':'Major',\n",
    "    'Of Concern. Monitoring required':'Of Concern',\n",
    "    'Of Concern':'Of Concern',\n",
    "    'Situation of Concern':'Of Concern',\n",
    "    'No Problem':'No problem',\n",
    "    'Minor Problem':'Minor Problem',\n",
    "    None:None\n",
    "    \n",
    "}"
   ]
  },
  {
   "cell_type": "code",
   "execution_count": null,
   "metadata": {},
   "outputs": [],
   "source": []
  },
  {
   "cell_type": "code",
   "execution_count": null,
   "metadata": {},
   "outputs": [],
   "source": [
    "severity_tags_df = entries_labeled_secondary_tags_cleaned[entries_labeled_secondary_tags_cleaned.tag_title=='Severity']\\\n",
    "                            .drop(columns=['tag_title'])\n",
    "\n",
    "severity_tags_df = severity_tags_df[\n",
    "    severity_tags_df.tag_value.apply(lambda x: (x!='No problem/minor problem. No intervention required') and\\\n",
    "                                    (x!='No problem/Minor Problem'))]\n",
    "\n",
    "severity_tags_df['tag_value'] =\\\n",
    "            severity_tags_df['tag_value'].apply(lambda x: Severity_raw_to_processed_dict[x])\n",
    "\n",
    "severity_tags_df = severity_tags_df.dropna()"
   ]
  },
  {
   "cell_type": "code",
   "execution_count": null,
   "metadata": {},
   "outputs": [],
   "source": [
    "severity_tags_df.head()"
   ]
  },
  {
   "cell_type": "code",
   "execution_count": null,
   "metadata": {},
   "outputs": [],
   "source": []
  },
  {
   "cell_type": "code",
   "execution_count": null,
   "metadata": {},
   "outputs": [],
   "source": [
    "\n",
    "sns.histplot(data=severity_tags_df, y=\"tag_value\")\n",
    "plt.ylabel('Severity')\n",
    "plt.xlabel('number of entries')"
   ]
  },
  {
   "cell_type": "code",
   "execution_count": null,
   "metadata": {},
   "outputs": [],
   "source": [
    "severity_tags_df = severity_tags_df.dropna()\n",
    "severity_tags_df.to_csv('data_secondary_tags/severity_tags.csv')"
   ]
  },
  {
   "cell_type": "code",
   "execution_count": null,
   "metadata": {},
   "outputs": [],
   "source": []
  },
  {
   "cell_type": "code",
   "execution_count": null,
   "metadata": {},
   "outputs": [],
   "source": []
  },
  {
   "cell_type": "code",
   "execution_count": null,
   "metadata": {},
   "outputs": [],
   "source": []
  },
  {
   "cell_type": "code",
   "execution_count": null,
   "metadata": {},
   "outputs": [],
   "source": []
  },
  {
   "cell_type": "code",
   "execution_count": null,
   "metadata": {},
   "outputs": [],
   "source": []
  },
  {
   "cell_type": "code",
   "execution_count": null,
   "metadata": {},
   "outputs": [],
   "source": []
  },
  {
   "cell_type": "code",
   "execution_count": null,
   "metadata": {},
   "outputs": [],
   "source": [
    "Specific_needs_groups_raw_to_processed_dict = {\n",
    "    ' Separated Children':'Unaccompanied or Separated Children',\n",
    "    'Separated Children':'Unaccompanied or Separated Children',\n",
    "    'Unaccompanied Children (without caregiver)':'Unaccompanied or Separated Children',\n",
    "    'Unaccompanied Children (without Caregiver)':'Unaccompanied or Separated Children',\n",
    "    'Unaccompanied or Separated Children (UASC)':'Unaccompanied or Separated Children',\n",
    "    'Child Head of Household':'Child Head of Household',\n",
    "    'Elderly Head of Household':'Elderly Head of Household',\n",
    "    'Female Head of Household':'Female Head of Household',\n",
    "    'GBV survivors':'GBV survivors',\n",
    "    'Pregnant or Lactating Women':'Pregnant or Lactating Women',\n",
    "    'Single Women (including Widows)':'Single Women (including Widows)',\n",
    "    'Ethnic minority':'Minorities',\n",
    "    'Indigenous people':'Indigenous people',\n",
    "    'LGBTQI':'LGBTQI+',\n",
    "    'LGBTQI community member':'LGBTQI+',\n",
    "    'LGBTQI+':'LGBTQI+',\n",
    "    'Minorities':'Minorities',\n",
    "    'Religious minority':'Minorities',\n",
    "    'Unregistered Refugee':'Unregistered Refugee',\n",
    "    'No legal documentation':'No legal documentation',\n",
    "    'People with irregular status':'People with irregular status',\n",
    "    'Stateless':'People with irregular status',\n",
    "    'Person with Disabilities':'Persons with Disability',\n",
    "    'Persons with Disability':'Persons with Disability',\n",
    "    'Chronically Ill':'Chronically Ill',\n",
    "    'Chronically ill':'Chronically Ill'\n",
    "}"
   ]
  },
  {
   "cell_type": "code",
   "execution_count": null,
   "metadata": {},
   "outputs": [],
   "source": [
    "specific_needs_groups_tags_df = entries_labeled_secondary_tags_cleaned[\n",
    "    entries_labeled_secondary_tags_cleaned.tag_title=='Specific Needs Groups']\\\n",
    "                            .drop(columns=['tag_title'])\n",
    "\n",
    "specific_needs_groups_tags_df['tag_value'] =\\\n",
    "            specific_needs_groups_tags_df['tag_value']\\\n",
    "                .apply(lambda list_tags: [Specific_needs_groups_raw_to_processed_dict[tag] for tag in list_tags])\n",
    "\n",
    "specific_needs_groups_tags_df['tag_value'] =\\\n",
    "            specific_needs_groups_tags_df['tag_value'].apply(lambda x: list(np.unique(x)))"
   ]
  },
  {
   "cell_type": "code",
   "execution_count": null,
   "metadata": {},
   "outputs": [],
   "source": []
  },
  {
   "cell_type": "code",
   "execution_count": null,
   "metadata": {},
   "outputs": [],
   "source": [
    "secondary_tags_df = entries_labeled_secondary_tags_cleaned\n",
    "secondary_tags_df[secondary_tags_df.tag_title=='Specific Needs Groups'].tag_value\\\n",
    "                        .apply(lambda list_tags: [Specific_needs_groups_raw_to_processed_dict[tag] for tag in list_tags])"
   ]
  },
  {
   "cell_type": "code",
   "execution_count": null,
   "metadata": {},
   "outputs": [],
   "source": [
    "specific_needs_groups_tags_df.to_csv('data_secondary_tags/specific_needs_groups_tags.csv')"
   ]
  },
  {
   "cell_type": "code",
   "execution_count": null,
   "metadata": {},
   "outputs": [],
   "source": [
    "values_specific = list(Specific_needs_groups_raw_to_processed_dict.values())"
   ]
  },
  {
   "cell_type": "code",
   "execution_count": null,
   "metadata": {},
   "outputs": [],
   "source": [
    "lengthes_dict = {}\n",
    "for value in values_specific:\n",
    "\n",
    "    len_tmp = specific_needs_groups_tags_df[specific_needs_groups_tags_df.tag_value\\\n",
    "                               .apply(lambda x: value in x)].shape[0]\n",
    "    lengthes_dict[value]=len_tmp"
   ]
  },
  {
   "cell_type": "code",
   "execution_count": null,
   "metadata": {},
   "outputs": [],
   "source": [
    "plt.barh(list(lengthes_dict.keys()), list(lengthes_dict.values()), 1)\n",
    "plt.xlabel('number of occurences')\n",
    "plt.title('Specifics needs Groups')"
   ]
  },
  {
   "cell_type": "code",
   "execution_count": null,
   "metadata": {},
   "outputs": [],
   "source": []
  },
  {
   "cell_type": "code",
   "execution_count": null,
   "metadata": {},
   "outputs": [],
   "source": [
    "Demographic_groups_raw_to_processed_dict = {\n",
    "    'Adult (18 to 59 years old)':'Adult Unspecified gender (18-59 years old)',\n",
    "    'Adult (18-59 years old)':'Adult Unspecified gender (18-59 years old)',\n",
    "    'Adult Female (18 to 59 years old)':'Adult Female (18 to 59 years old)',\n",
    "    'Adult female (18 to 59 years old)':'Adult Female (18 to 59 years old)',\n",
    "    'Adult female (18-59 years old)':'Adult Female (18 to 59 years old)',\n",
    "    'Adult Male (18 to 59 years old)':'Adult Male (18 to 59 years old)',\n",
    "    'Adult (25 to 59 years old)':'Adult Unspecified gender (18-59 years old)',\n",
    "    'Youth (18 to 24 years old)':'Adult Unspecified gender (18-59 years old)',\n",
    "    'Adult Female (25 to 59 years old)':'Adult Female (18 to 59 years old)',\n",
    "    'Adult Male (25 to 59 years old)':'Adult Male (18 to 59 years old)',\n",
    "    'Youth Female (18 to 24 years old)':'Adult Female (18 to 59 years old)',\n",
    "    'Youth Male (18 to 24 years old)':'Adult Male (18 to 59 years old)',\n",
    "    'Adult male (18-59 years old)':'Adult Male (18 to 59 years old)',\n",
    "    \n",
    "    'Female Older Persons (60+ years old)':'Older Persons Female (60+ years old)',\n",
    "    'Male Older Persons (60+ years old)':'Older Persons Male (60+ years old)',\n",
    "    'Older Persons (60+ years old)':'Older Persons Unspecified gender (60+ years old)',\n",
    "    'Older Persons Female (60+ years old)':'Older Persons Female (60+ years old)',\n",
    "    'Older Persons Male (60+ years old)':'Older Persons Male (60+ years old)',\n",
    "    'Older persons (60+ years old)':'Older Persons Unspecified gender (60+ years old)',\n",
    "    'Older persons female (60+ years old)':'Older Persons Female (60+ years old)',\n",
    "    'Older persons male (60+ years old)':'Older Persons Male (60+ years old)',\n",
    "    \n",
    "    'Infants/Toddlers (<5 years old)':'Infants/Toddlers (<5 years old)',\n",
    "    'Infants/toddlers (<5)':'Infants/Toddlers (<5 years old)',\n",
    "    'Infants (0-2 years old)':'Infants/Toddlers (<5 years old)',\n",
    "    'Children (0-4 years old)':'Infants/Toddlers (<5 years old)',\n",
    "    \n",
    "    #'Children Male (5 to 1 years old) \n",
    "    'Children (5 to 11 years old)':'Children/Youth Unspecified gender (5 to 17 years old)',\n",
    "    'Children (5 to 17 years old)':'Children/Youth Unspecified gender (5 to 17 years old)',\n",
    "    'Children (5-11 years old)':'Children/Youth Unspecified gender (5 to 17 years old)',\n",
    "    'Children (< 18 years)':'Children/Youth Unspecified gender (5 to 17 years old)',\n",
    "    'Children Female  <18 years old':'Children/Youth Female (5 to 17 years old)',\n",
    "    'Children Female (5 to 11 years old)':'Children/Youth Female (5 to 17 years old)',\n",
    "    'Children Female (5 to 17 years old)':'Children/Youth Female (5 to 17 years old)',\n",
    "    'Children Female (< 18 years)':'Children/Youth Female (5 to 17 years old)',\n",
    "    'Children Male (5 to 11 years old)':'Children/Youth Male (5 to 17 years old)',\n",
    "    'Children Male (< 18 years)':'Children/Youth Male (5 to 17 years old)',\n",
    "    'Children Male < 18 years old':'Children/Youth Male (5 to 17 years old)',\n",
    "    'Children female (5-11 years old)':'Children/Youth Female (5 to 17 years old)',\n",
    "    'Children male (5-11 years old)':'Children/Youth Male (5 to 17 years old)',\n",
    "    'Youth (12 to 17 years old)':'Children/Youth Unspecified gender (5 to 17 years old)',\n",
    "    'Youth (12-17 years old)':'Children/Youth Unspecified gender (5 to 17 years old)',\n",
    "    'Youth Female (12 to 17 years old)':'Children/Youth Female (5 to 17 years old)',\n",
    "    'Youth Male (12 to 17 years old)':'Children/Youth Male (5 to 17 years old)',\n",
    "    'Youth female (12-17 years old)':'Children/Youth Female (5 to 17 years old)',\n",
    "    'Youth male (12-17 years old)':'Children/Youth Male (5 to 17 years old)',\n",
    "}"
   ]
  },
  {
   "cell_type": "code",
   "execution_count": null,
   "metadata": {},
   "outputs": [],
   "source": [
    "import numpy as np\n",
    "np.unique(list(Demographic_groups_raw_to_processed_dict.values()))"
   ]
  },
  {
   "cell_type": "code",
   "execution_count": null,
   "metadata": {},
   "outputs": [],
   "source": [
    "demographic_groups_tags_df = entries_labeled_secondary_tags_cleaned[entries_labeled_secondary_tags_cleaned.tag_title=='Demographic Groups']\\\n",
    "                            .drop(columns=['tag_title'])\n",
    "demographic_groups_tags_df['tag_value'] =\\\n",
    "            demographic_groups_tags_df['tag_value']\\\n",
    "                .apply(lambda list_tags: [Demographic_groups_raw_to_processed_dict[tag] for tag in list_tags if (tag!='Children Male (5 to 1 years old)' and tag!='Female' and tag!='Male')])\n",
    "\n"
   ]
  },
  {
   "cell_type": "code",
   "execution_count": null,
   "metadata": {},
   "outputs": [],
   "source": [
    "demographic_groups_tags_df.to_csv('data_secondary_tags/demographics_groups_tags_initial.csv')"
   ]
  },
  {
   "cell_type": "code",
   "execution_count": null,
   "metadata": {},
   "outputs": [],
   "source": [
    "values_demographic = list(Demographic_groups_raw_to_processed_dict.values())"
   ]
  },
  {
   "cell_type": "code",
   "execution_count": null,
   "metadata": {},
   "outputs": [],
   "source": [
    "lengthes_dict = {}\n",
    "for value in values_demographic:\n",
    "\n",
    "    len_tmp = demographic_groups_tags_df[demographic_groups_tags_df.tag_value\\\n",
    "                               .apply(lambda x: value in x)].shape[0]\n",
    "    lengthes_dict[value]=len_tmp"
   ]
  },
  {
   "cell_type": "code",
   "execution_count": null,
   "metadata": {},
   "outputs": [],
   "source": [
    "lengthes_dict"
   ]
  },
  {
   "cell_type": "code",
   "execution_count": null,
   "metadata": {},
   "outputs": [],
   "source": [
    "plt.barh(list(lengthes_dict.keys()), list(lengthes_dict.values()), 1)\n",
    "plt.xlabel('number of occurences')\n",
    "plt.title('Demographic Groups')"
   ]
  },
  {
   "cell_type": "code",
   "execution_count": null,
   "metadata": {},
   "outputs": [],
   "source": []
  },
  {
   "cell_type": "code",
   "execution_count": null,
   "metadata": {},
   "outputs": [],
   "source": []
  },
  {
   "cell_type": "code",
   "execution_count": null,
   "metadata": {},
   "outputs": [],
   "source": [
    "final_df"
   ]
  },
  {
   "cell_type": "code",
   "execution_count": null,
   "metadata": {},
   "outputs": [],
   "source": []
  }
 ],
 "metadata": {
  "kernelspec": {
   "display_name": "Python 3",
   "language": "python",
   "name": "python3"
  },
  "language_info": {
   "codemirror_mode": {
    "name": "ipython",
    "version": 3
   },
   "file_extension": ".py",
   "mimetype": "text/x-python",
   "name": "python",
   "nbconvert_exporter": "python",
   "pygments_lexer": "ipython3",
   "version": "3.8.5"
  }
 },
 "nbformat": 4,
 "nbformat_minor": 4
}
