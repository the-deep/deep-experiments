{
 "cells": [
  {
   "cell_type": "code",
   "execution_count": 4,
   "metadata": {
    "ExecuteTime": {
     "end_time": "2021-09-02T19:16:38.189818Z",
     "start_time": "2021-09-02T19:16:38.185225Z"
    }
   },
   "outputs": [],
   "source": [
    "import re\n",
    "import json\n",
    "import random\n",
    "from pprint import pprint\n",
    "from ast import literal_eval\n",
    "from collections import Counter, defaultdict\n",
    "\n",
    "import numpy as np\n",
    "import pandas as pd\n",
    "from tqdm.auto import tqdm"
   ]
  },
  {
   "cell_type": "code",
   "execution_count": 5,
   "metadata": {
    "ExecuteTime": {
     "end_time": "2021-09-02T19:16:38.195057Z",
     "start_time": "2021-09-02T19:16:38.192434Z"
    }
   },
   "outputs": [],
   "source": [
    "random.seed(2021)\n",
    "np.random.seed(2021)"
   ]
  },
  {
   "cell_type": "code",
   "execution_count": 6,
   "metadata": {
    "ExecuteTime": {
     "end_time": "2021-09-02T19:16:42.173232Z",
     "start_time": "2021-09-02T19:16:38.197785Z"
    },
    "code_folding": [],
    "scrolled": true
   },
   "outputs": [
    {
     "name": "stderr",
     "output_type": "stream",
     "text": [
      "/home/abdullah/anaconda3/lib/python3.8/site-packages/IPython/core/interactiveshell.py:3146: DtypeWarning: Columns (10) have mixed types.Specify dtype option on import or set low_memory=False.\n",
      "  has_raised = await self.run_ast_nodes(code_ast.body, cell_name,\n"
     ]
    }
   ],
   "source": [
    "# each line in this table correspond to single tagging of an entry.\n",
    "# an entry may have more than one tagging (e.g. a tag in 2D matrix, another in 1D matrix,\n",
    "# secondary tags, etc. )\n",
    "exportdata = pd.read_csv(\"exportdata.csv\")\n",
    "# I pulled entries related to projects chosen by Patrice\n",
    "entries = pd.read_csv(\"entries.csv\")\n",
    "# The widgets of AF's, i.e. 2D matrices, 1D matrices, secondary tagging widgets, etc.\n",
    "af_widgets = pd.read_csv(\"af_widgets_of_interest.csv\")\n",
    "# Projects chosen by Patrice\n",
    "projects = pd.read_csv(\"projects.csv\")\n",
    "#\n",
    "exportables = pd.read_csv(\"af_exportables.csv\")\n",
    "# AF details\n",
    "afs = pd.read_csv(\"analysis_frameworks.csv\")\n",
    "# user ids, first names and last names\n",
    "users = pd.read_csv(\"user_names.csv\")\n",
    "# The matchin of pillar/sub-pillar names from different AFs into unified pillar/sub-pillar names\n",
    "matching_2d_mat = pd.read_csv(\"mat_2d_matching.csv\")\n",
    "matching_1d_mat = pd.read_csv(\"mat_1d_matching.csv\")"
   ]
  },
  {
   "cell_type": "code",
   "execution_count": 7,
   "metadata": {
    "ExecuteTime": {
     "end_time": "2021-09-02T19:16:42.177213Z",
     "start_time": "2021-09-02T19:16:42.174546Z"
    }
   },
   "outputs": [],
   "source": [
    "raw_name_to_tag_dict = {\n",
    "    \"Severity\":\"Severity\",\n",
    "    \"Severity (Needs assessment entries only)\":\"Severity\",\n",
    "    \"SEVERITY\":\"Severity\",\n",
    "    \n",
    "    \"Reliability\":\"Reliability\",\n",
    "    \"RELIABILITY\":\"Reliability\",\n",
    "    \n",
    "    \"Demographic Groups\":\"Demographic Groups\",\n",
    "    \"DEMOGRAPHIC GROUPS\":\"Demographic Groups\",\n",
    "    \n",
    "    \"Information date\":\"Information Date\",\n",
    "    \"Information Date\":\"Information Date\",\n",
    "    \"Date\":\"Information Date\",\n",
    "    \"DATE OF INFORMATION\":\"Information Date\",\n",
    "    \"Date range\":\"Information Date\",\n",
    "    \n",
    "    \"Geo Location\":\"Geo Location\",\n",
    "    \"LOCATION\":\"Geo Location\",\n",
    "    \"Geo location\":\"Geo Location\",\n",
    "    \"Country\":\"Geo Location\",\n",
    "    \"GEOLOCATIONS\":\"Geo Location\",\n",
    "    \n",
    "    \"Affected groups\":\"Affected Groups\",\n",
    "    \"AFFECTED GROUPS\":\"Affected Groups\",\n",
    "    \n",
    "    \"Specific Needs Groups\":\"Specific Needs Groups\",\n",
    "    \"SPECIFIC NEEDS GROUPS\":\"Specific Needs Groups\",\n",
    "}\n"
   ]
  },
  {
   "cell_type": "code",
   "execution_count": 8,
   "metadata": {
    "ExecuteTime": {
     "end_time": "2021-09-02T19:16:42.181838Z",
     "start_time": "2021-09-02T19:16:42.178892Z"
    }
   },
   "outputs": [],
   "source": [
    "def clean_titles(x):\n",
    "    if x in list(raw_name_to_tag_dict.keys()):\n",
    "        return raw_name_to_tag_dict[x]\n",
    "    return x\n",
    "\n",
    "\n",
    "af_widgets['title'] = af_widgets['title'].apply(clean_titles)"
   ]
  },
  {
   "cell_type": "code",
   "execution_count": 9,
   "metadata": {
    "ExecuteTime": {
     "end_time": "2021-09-02T19:16:42.198362Z",
     "start_time": "2021-09-02T19:16:42.183138Z"
    },
    "code_folding": []
   },
   "outputs": [],
   "source": [
    "# widget names of 2D matrices in the chosen AFs's\n",
    "mat2d_titles = [\n",
    "    s.upper() for s in [\n",
    "        #\"Pre-Crisis\",\n",
    "        #\"Shock/Event\",\n",
    "        #\"In-Crisis\",\n",
    "        \"Sectors\",\n",
    "        \"Sectoral Information\",\n",
    "        \"Matrix 2D\",\n",
    "    ]\n",
    "]\n",
    "# Pandas will read json objects as strings,\n",
    "# here I am converting them into Python dict objects\n",
    "af_widgets[\"properties\"] = af_widgets[\"properties\"].apply(json.loads)\n",
    "##\n",
    "mat2d_properties_ids = af_widgets[(\n",
    "    af_widgets[\"title\"].str.upper()).isin(mat2d_titles)][[\n",
    "        \"properties\", \"analysis_framework_id\"\n",
    "    ]]\n",
    "mat2d_properties = mat2d_properties_ids[\"properties\"].tolist()\n",
    "mat2d_ids = mat2d_properties_ids[\"analysis_framework_id\"].tolist()\n",
    "## 1D Matrices\n",
    "# widget names of 1D matrices in the chosen AFs's\n",
    "mat1d_titles = [\n",
    "    s.upper() for s in [\n",
    "        \"Operational Environment\",  # iMMAP, 2020 Okular, Okular Generic, Colombia-AF, Nigeria Situation Analysis (OA), IFRC Master Framework 2019\n",
    "        \"Cross Sector\",  #Rohingya Framework, IFRC Analytical Framework 2018, \n",
    "        \"Matrix 1D\",  # Situation Analysis Generic Yemen, \n",
    "        \"Cross Sectors\",  # Situation Analysis Generic Libya\n",
    "    ]\n",
    "]\n",
    "mat1d_titles = mat1d_titles + [\n",
    "    sub_s.title() for sub_s in ('Operational Environment - Dimension',\n",
    "                                'Operational Environment - Subdimension')\n",
    "]\n",
    "mat1d_properties_ids = af_widgets[(\n",
    "    af_widgets[\"title\"].str.upper()).isin(mat1d_titles)][[\n",
    "        \"properties\", \"analysis_framework_id\"\n",
    "    ]]\n",
    "mat1d_properties = mat1d_properties_ids[\"properties\"].tolist()\n",
    "mat1d_ids = mat1d_properties_ids[\"analysis_framework_id\"].tolist()"
   ]
  },
  {
   "cell_type": "code",
   "execution_count": 10,
   "metadata": {
    "ExecuteTime": {
     "end_time": "2021-09-02T19:16:42.204213Z",
     "start_time": "2021-09-02T19:16:42.199663Z"
    },
    "scrolled": true
   },
   "outputs": [],
   "source": [
    "afids_pillars_subpillars = dict()\n",
    "errors = []\n",
    "for mat, af_id in zip(mat2d_properties, mat2d_ids):\n",
    "    try:\n",
    "        dims = mat[\"data\"]['dimensions']\n",
    "        afids_pillars_subpillars[af_id] = {}\n",
    "        for dim in dims:\n",
    "            pillar = dim[\"title\"]\n",
    "            sub_pillars = []\n",
    "            for sub_pillar_dict in dim[\"subdimensions\"]:\n",
    "                sub_pillars.append(sub_pillar_dict[\"title\"])\n",
    "            afids_pillars_subpillars[af_id][pillar] = sub_pillars\n",
    "    except KeyError:\n",
    "        errors.append([mat, af_id])\n",
    "##\n",
    "afids_rows_cells = dict()\n",
    "for mat, af_id in zip(mat1d_properties, mat1d_ids):\n",
    "    try:\n",
    "        rows = mat[\"data\"]['rows']\n",
    "        afids_rows_cells[af_id] = {}\n",
    "        for row in rows:\n",
    "            pillar = row[\"title\"]\n",
    "            sub_pillars = []\n",
    "            for sub_pillar_dict in row[\"cells\"]:\n",
    "                sub_pillars.append(sub_pillar_dict[\"value\"])\n",
    "            afids_rows_cells[af_id][pillar] = sub_pillars\n",
    "    except KeyError:\n",
    "        errors.append([mat, af_id])"
   ]
  },
  {
   "cell_type": "code",
   "execution_count": 11,
   "metadata": {
    "ExecuteTime": {
     "end_time": "2021-09-02T19:16:42.334097Z",
     "start_time": "2021-09-02T19:16:42.205579Z"
    }
   },
   "outputs": [],
   "source": [
    "def extract_title(x):\n",
    "    if x[\"excel\"].get(\"title\"):\n",
    "        return x[\"excel\"][\"title\"]\n",
    "    elif x[\"excel\"].get(\"type\") == \"multiple\":\n",
    "        return x[\"excel\"][\"titles\"]\n",
    "##\n",
    "exportables[\"data\"] = exportables[\"data\"].apply(literal_eval)\n",
    "af_titles = exportables[\"data\"].apply(extract_title).tolist()"
   ]
  },
  {
   "cell_type": "code",
   "execution_count": 12,
   "metadata": {
    "ExecuteTime": {
     "end_time": "2021-09-02T19:16:42.410868Z",
     "start_time": "2021-09-02T19:16:42.335620Z"
    }
   },
   "outputs": [
    {
     "name": "stdout",
     "output_type": "stream",
     "text": [
      "(223698, 21) (1264494, 4)\n",
      "(173461, 21) (1264494, 4)\n"
     ]
    }
   ],
   "source": [
    "print(entries.shape, exportdata.shape)\n",
    "entries = entries[entries[\"entry_type\"].eq(\"excerpt\") & (~entries[\"excerpt\"].isna())]\n",
    "print(entries.shape, exportdata.shape)"
   ]
  },
  {
   "cell_type": "code",
   "execution_count": 13,
   "metadata": {
    "ExecuteTime": {
     "end_time": "2021-09-02T19:16:42.418143Z",
     "start_time": "2021-09-02T19:16:42.414560Z"
    }
   },
   "outputs": [],
   "source": [
    "exid_to_exdata = dict()\n",
    "for ex_id, ex_data in zip(exportables[\"id\"], exportables[\"data\"]):\n",
    "    exid_to_exdata[ex_id] = ex_data"
   ]
  },
  {
   "cell_type": "code",
   "execution_count": 14,
   "metadata": {
    "ExecuteTime": {
     "end_time": "2021-09-02T19:16:42.424187Z",
     "start_time": "2021-09-02T19:16:42.420589Z"
    }
   },
   "outputs": [],
   "source": [
    "widget_key_id_to_title = dict()\n",
    "for w_key, w_id, title in zip(af_widgets[\"key\"], af_widgets[\"widget_id\"], af_widgets[\"title\"]):\n",
    "    widget_key_id_to_title[(w_key, w_id)] = title"
   ]
  },
  {
   "cell_type": "code",
   "execution_count": 15,
   "metadata": {
    "ExecuteTime": {
     "end_time": "2021-09-02T19:16:42.434962Z",
     "start_time": "2021-09-02T19:16:42.426042Z"
    }
   },
   "outputs": [],
   "source": [
    "def exportdata_to_tag_title(row):\n",
    "    data = json.loads(row[1])\n",
    "    wkey, wid = None, None\n",
    "    if data.get(\"common\"):\n",
    "        wkey = data.get(\"common\").get(\"widget_key\")\n",
    "        wid = data[\"common\"].get(\"widget_id\")\n",
    "    if wkey and wid:\n",
    "        if widget_key_id_to_title.get((wkey, wid)):\n",
    "            return widget_key_id_to_title.get((wkey, wid))\n",
    "    if data.get(\"report\") and data[\"report\"].get(\"other\"):\n",
    "            if len(data[\"report\"][\"other\"]) == 1 and data[\"report\"][\"other\"][0].get(\"title\"):\n",
    "                if data[\"report\"][\"other\"][0][\"title\"]:\n",
    "                    return data[\"report\"][\"other\"][0][\"title\"]\n",
    "    if isinstance(data.get(\"excel\"), list) and len(data[\"excel\"])==1 and \\\n",
    "     data[\"excel\"][0].get(\"widget_key\") and data[\"excel\"][0].get(\"widget_id\"):\n",
    "        wkey = data[\"excel\"][0][\"widget_key\"]\n",
    "        wid = data[\"excel\"][0][\"widget_id\"]\n",
    "        if widget_key_id_to_title.get((wkey, wid)):\n",
    "            return widget_key_id_to_title.get((wkey, wid))\n",
    "    exportable_id = row[3]\n",
    "    if exid_to_exdata[exportable_id][\"excel\"].get(\"title\"):\n",
    "        return exid_to_exdata[exportable_id][\"excel\"][\"title\"]\n",
    "    elif exid_to_exdata[exportable_id][\"excel\"].get(\"type\") == \"multiple\":\n",
    "        return exid_to_exdata[exportable_id][\"excel\"][\"titles\"]\n",
    "    raise"
   ]
  },
  {
   "cell_type": "code",
   "execution_count": 16,
   "metadata": {
    "ExecuteTime": {
     "end_time": "2021-09-02T19:16:56.561562Z",
     "start_time": "2021-09-02T19:16:42.436680Z"
    }
   },
   "outputs": [],
   "source": [
    "exportdata[\"tag_title\"] = exportdata.apply(exportdata_to_tag_title, axis=1)"
   ]
  },
  {
   "cell_type": "code",
   "execution_count": 17,
   "metadata": {
    "ExecuteTime": {
     "end_time": "2021-09-02T19:16:56.566947Z",
     "start_time": "2021-09-02T19:16:56.562824Z"
    }
   },
   "outputs": [],
   "source": [
    "def exportdata_to_tag_value(row):\n",
    "    data = json.loads(row[1])\n",
    "    if isinstance(data[\"excel\"], list) and len(data[\"excel\"])==1:\n",
    "        return data[\"excel\"][0][\"value\"]\n",
    "    if data[\"excel\"].get(\"type\") == \"lists\":\n",
    "        return data[\"excel\"][\"values\"]\n",
    "    if isinstance(data[\"excel\"], dict) and \"value\" in data[\"excel\"]:\n",
    "        return data[\"excel\"].get(\"value\")\n",
    "    if isinstance(data[\"excel\"], dict) and \"values\" in data[\"excel\"]:\n",
    "        return data[\"excel\"].get(\"values\")\n",
    "    elif \"values\" in data[\"common\"]:\n",
    "        return data[\"common\"][\"values\"]\n",
    "    elif \"value\" in data[\"common\"]:\n",
    "        return data[\"common\"][\"value\"]\n",
    "    raise"
   ]
  },
  {
   "cell_type": "code",
   "execution_count": 18,
   "metadata": {
    "ExecuteTime": {
     "end_time": "2021-09-02T19:17:12.327862Z",
     "start_time": "2021-09-02T19:16:56.568304Z"
    }
   },
   "outputs": [],
   "source": [
    "exportdata[\"tag_value\"] = exportdata.apply(exportdata_to_tag_value, axis=1)"
   ]
  },
  {
   "cell_type": "code",
   "execution_count": 19,
   "metadata": {
    "ExecuteTime": {
     "end_time": "2021-09-02T19:17:12.332289Z",
     "start_time": "2021-09-02T19:17:12.329485Z"
    }
   },
   "outputs": [],
   "source": [
    "def title_case(tag):\n",
    "    if isinstance(tag, (list, tuple)):\n",
    "        return tuple([x.title() for x in tag])\n",
    "    return tag.title()"
   ]
  },
  {
   "cell_type": "code",
   "execution_count": 20,
   "metadata": {
    "ExecuteTime": {
     "end_time": "2021-09-02T19:17:12.867557Z",
     "start_time": "2021-09-02T19:17:12.334030Z"
    }
   },
   "outputs": [],
   "source": [
    "exportdata[\"tag_title\"] = exportdata[\"tag_title\"].apply(title_case)"
   ]
  },
  {
   "cell_type": "code",
   "execution_count": 21,
   "metadata": {
    "ExecuteTime": {
     "end_time": "2021-09-02T19:17:12.871826Z",
     "start_time": "2021-09-02T19:17:12.869173Z"
    }
   },
   "outputs": [],
   "source": [
    "mat_1d_and_flag_titles = [\n",
    "    'Flag', 'Operational Environment', 'Cross Sector','Temática',\n",
    "    ('Operational Environment - Dimension',\n",
    "     'Operational Environment - Subdimension'),\n",
    "    ('Flag - Dimension', 'Flag - Subdimension'),\n",
    "    ('High Level Tags - Dimension', 'High Level Tags - Subdimension')\n",
    "]"
   ]
  },
  {
   "cell_type": "code",
   "execution_count": 22,
   "metadata": {
    "ExecuteTime": {
     "end_time": "2021-09-02T19:17:12.875121Z",
     "start_time": "2021-09-02T19:17:12.873312Z"
    }
   },
   "outputs": [],
   "source": [
    "#exportdata.tag_title.unique()"
   ]
  },
  {
   "cell_type": "code",
   "execution_count": 23,
   "metadata": {
    "ExecuteTime": {
     "end_time": "2021-09-02T19:17:12.878331Z",
     "start_time": "2021-09-02T19:17:12.876550Z"
    }
   },
   "outputs": [],
   "source": [
    "#exportdata[exportdata[\"tag_title\"].isin([('Operational Environment - Dimension', 'Operational Environment - Subdimension')])][\"tag_value\"].tolist()\n",
    "#exportdata[exportdata[\"tag_title\"].eq('High Level Tags')][\"tag_value\"].tolist()"
   ]
  },
  {
   "cell_type": "code",
   "execution_count": 24,
   "metadata": {
    "ExecuteTime": {
     "end_time": "2021-09-02T19:17:12.883270Z",
     "start_time": "2021-09-02T19:17:12.879769Z"
    }
   },
   "outputs": [],
   "source": [
    "mat2d_titles = [s.title() for s in mat2d_titles]\n",
    "mat1d_titles = [\n",
    "    s.title() if isinstance(s, str) else (sub_s.title() for sub_s in s)\n",
    "    for s in mat1d_titles\n",
    "]\n",
    "mat_1d_and_flag_titles = [\n",
    "    s.title() if isinstance(s, str) else (sub_s.title() for sub_s in s)\n",
    "    for s in mat_1d_and_flag_titles\n",
    "]"
   ]
  },
  {
   "cell_type": "code",
   "execution_count": 25,
   "metadata": {
    "ExecuteTime": {
     "end_time": "2021-09-02T19:17:13.105141Z",
     "start_time": "2021-09-02T19:17:12.884752Z"
    }
   },
   "outputs": [],
   "source": [
    "exportdata_of_interest = exportdata[exportdata[\"tag_title\"].isin(\n",
    "    mat2d_titles + mat_1d_and_flag_titles)]"
   ]
  },
  {
   "cell_type": "code",
   "execution_count": 26,
   "metadata": {
    "ExecuteTime": {
     "end_time": "2021-09-02T19:17:13.116328Z",
     "start_time": "2021-09-02T19:17:13.106764Z"
    }
   },
   "outputs": [
    {
     "data": {
      "text/plain": [
       "((239491, 6), (173461, 21))"
      ]
     },
     "execution_count": 26,
     "metadata": {},
     "output_type": "execute_result"
    }
   ],
   "source": [
    "exportdata_of_interest.shape, entries.shape"
   ]
  },
  {
   "cell_type": "code",
   "execution_count": 27,
   "metadata": {
    "ExecuteTime": {
     "end_time": "2021-09-02T19:17:13.420400Z",
     "start_time": "2021-09-02T19:17:13.117923Z"
    }
   },
   "outputs": [],
   "source": [
    "entries_labeled = pd.merge(entries,\n",
    "                           exportdata_of_interest,\n",
    "                           how=\"inner\",\n",
    "                           left_on=\"id\",\n",
    "                           right_on=\"entry_id\",\n",
    "                           suffixes=('_entry', '_exportdata'))"
   ]
  },
  {
   "cell_type": "code",
   "execution_count": 28,
   "metadata": {
    "ExecuteTime": {
     "end_time": "2021-09-02T19:17:13.434227Z",
     "start_time": "2021-09-02T19:17:13.426078Z"
    }
   },
   "outputs": [
    {
     "data": {
      "text/plain": [
       "((180596,), (140556,))"
      ]
     },
     "execution_count": 28,
     "metadata": {},
     "output_type": "execute_result"
    }
   ],
   "source": [
    "entries_labeled[\"id_entry\"].shape, entries_labeled[\"id_entry\"].unique().shape"
   ]
  },
  {
   "cell_type": "code",
   "execution_count": 29,
   "metadata": {
    "ExecuteTime": {
     "end_time": "2021-09-02T19:17:13.440253Z",
     "start_time": "2021-09-02T19:17:13.436702Z"
    }
   },
   "outputs": [],
   "source": [
    "def agg_group(group):\n",
    "    tag_titles = group[\"tag_title\"]\n",
    "    tag_values = group[\"tag_value\"]\n",
    "    #\n",
    "    grouped = defaultdict(list)\n",
    "    for title, value in zip(tag_titles, tag_values):\n",
    "        if title in mat_1d_and_flag_titles:\n",
    "            grouped[\"Mat1D\"].extend(value)\n",
    "        elif title in mat2d_titles:\n",
    "            grouped[\"Mat2D\"].extend(value)\n",
    "    return grouped"
   ]
  },
  {
   "cell_type": "code",
   "execution_count": 30,
   "metadata": {
    "ExecuteTime": {
     "end_time": "2021-09-02T19:17:13.445919Z",
     "start_time": "2021-09-02T19:17:13.442068Z"
    }
   },
   "outputs": [
    {
     "data": {
      "text/plain": [
       "Index(['id_entry', 'created_at', 'modified_at', 'excerpt', 'image_raw',\n",
       "       'analysis_framework_id', 'created_by_id', 'lead_id', 'modified_by_id',\n",
       "       'entry_type', 'information_date', 'order', 'client_id', 'project_id',\n",
       "       'tabular_field_id', 'dropped_excerpt', 'highlight_hidden', 'verified',\n",
       "       'verification_last_changed_by_id', 'image_id', 'title', 'id_exportdata',\n",
       "       'data', 'entry_id', 'exportable_id', 'tag_title', 'tag_value'],\n",
       "      dtype='object')"
      ]
     },
     "execution_count": 30,
     "metadata": {},
     "output_type": "execute_result"
    }
   ],
   "source": [
    "entries_labeled.columns"
   ]
  },
  {
   "cell_type": "code",
   "execution_count": 31,
   "metadata": {
    "ExecuteTime": {
     "end_time": "2021-09-02T19:17:23.503431Z",
     "start_time": "2021-09-02T19:17:13.447508Z"
    },
    "scrolled": true
   },
   "outputs": [],
   "source": [
    "tags = entries_labeled.groupby(\"id_entry\").apply(agg_group)"
   ]
  },
  {
   "cell_type": "code",
   "execution_count": 32,
   "metadata": {
    "ExecuteTime": {
     "end_time": "2021-09-02T19:17:23.512038Z",
     "start_time": "2021-09-02T19:17:23.504872Z"
    }
   },
   "outputs": [],
   "source": [
    "entryids_tags = pd.DataFrame({\"entry_id\": tags.index, \"tags\": tags.values})"
   ]
  },
  {
   "cell_type": "code",
   "execution_count": 33,
   "metadata": {
    "ExecuteTime": {
     "end_time": "2021-09-02T19:17:23.517417Z",
     "start_time": "2021-09-02T19:17:23.513847Z"
    }
   },
   "outputs": [
    {
     "data": {
      "text/plain": [
       "(140556, 2)"
      ]
     },
     "execution_count": 33,
     "metadata": {},
     "output_type": "execute_result"
    }
   ],
   "source": [
    "entryids_tags.shape"
   ]
  },
  {
   "cell_type": "code",
   "execution_count": 34,
   "metadata": {
    "ExecuteTime": {
     "end_time": "2021-09-02T19:17:23.895201Z",
     "start_time": "2021-09-02T19:17:23.519375Z"
    }
   },
   "outputs": [
    {
     "name": "stdout",
     "output_type": "stream",
     "text": [
      "(173461, 21)\n",
      "(173461, 13)\n"
     ]
    }
   ],
   "source": [
    "entries_ = entries.rename({\"id\": \"entry_id\"}, axis=1, inplace=False)\n",
    "#\n",
    "print(entries.shape)\n",
    "#\n",
    "entries_ = entries_[[\n",
    "    'entry_id',\n",
    "    'created_at',\n",
    "    'modified_at',\n",
    "    'excerpt',\n",
    "    'entry_type',\n",
    "    'analysis_framework_id',\n",
    "    'created_by_id',\n",
    "    'lead_id',\n",
    "    'modified_by_id',\n",
    "    'information_date',\n",
    "    'order',\n",
    "    'project_id',\n",
    "    'verified',\n",
    "]].drop_duplicates()\n",
    "#\n",
    "print(entries_.shape)"
   ]
  },
  {
   "cell_type": "code",
   "execution_count": 35,
   "metadata": {
    "ExecuteTime": {
     "end_time": "2021-09-02T19:17:23.898798Z",
     "start_time": "2021-09-02T19:17:23.896673Z"
    }
   },
   "outputs": [],
   "source": [
    "# print(entries_labeled.shape)\n",
    "# entries_labeled = entries_labeled[[\n",
    "#     'entry_id',\n",
    "#     'created_at',\n",
    "#     'modified_at',\n",
    "#     'excerpt',\n",
    "#     'entry_type',\n",
    "#     'analysis_framework_id',\n",
    "#     'created_by_id',\n",
    "#     'lead_id',\n",
    "#     'modified_by_id',\n",
    "#     'information_date',\n",
    "#     'order',\n",
    "#     'project_id',\n",
    "#     #'dropped_excerpt',\n",
    "#     'verified',\n",
    "# ]].drop_duplicates()\n",
    "# print(entries_labeled.shape)"
   ]
  },
  {
   "cell_type": "code",
   "execution_count": 36,
   "metadata": {
    "ExecuteTime": {
     "end_time": "2021-09-02T19:17:24.005049Z",
     "start_time": "2021-09-02T19:17:23.900446Z"
    }
   },
   "outputs": [
    {
     "data": {
      "text/plain": [
       "((140556, 14),\n",
       " Index(['entry_id', 'created_at', 'modified_at', 'excerpt', 'entry_type',\n",
       "        'analysis_framework_id', 'created_by_id', 'lead_id', 'modified_by_id',\n",
       "        'information_date', 'order', 'project_id', 'verified', 'tags'],\n",
       "       dtype='object'))"
      ]
     },
     "execution_count": 36,
     "metadata": {},
     "output_type": "execute_result"
    }
   ],
   "source": [
    "entries_labeled = pd.merge(entries_, entryids_tags, on=\"entry_id\", how=\"inner\")\n",
    "entries_labeled.shape, entries_labeled.columns"
   ]
  },
  {
   "cell_type": "code",
   "execution_count": 37,
   "metadata": {
    "ExecuteTime": {
     "end_time": "2021-09-02T19:17:24.513777Z",
     "start_time": "2021-09-02T19:17:24.006713Z"
    }
   },
   "outputs": [
    {
     "data": {
      "text/plain": [
       "0"
      ]
     },
     "execution_count": 37,
     "metadata": {},
     "output_type": "execute_result"
    }
   ],
   "source": [
    "entries_labeled[\"tags_str\"] = entries_labeled[\"tags\"].apply(str)\n",
    "entries_labeled.duplicated(subset=[\"entry_id\", \"tags_str\"]).sum()"
   ]
  },
  {
   "cell_type": "code",
   "execution_count": 38,
   "metadata": {
    "ExecuteTime": {
     "end_time": "2021-09-02T19:17:24.519416Z",
     "start_time": "2021-09-02T19:17:24.514965Z"
    }
   },
   "outputs": [
    {
     "data": {
      "text/plain": [
       "0"
      ]
     },
     "execution_count": 38,
     "metadata": {},
     "output_type": "execute_result"
    }
   ],
   "source": [
    "entries_labeled[\"entry_id\"].duplicated().sum()"
   ]
  },
  {
   "cell_type": "code",
   "execution_count": 39,
   "metadata": {
    "ExecuteTime": {
     "end_time": "2021-09-02T19:17:24.523053Z",
     "start_time": "2021-09-02T19:17:24.520517Z"
    }
   },
   "outputs": [
    {
     "data": {
      "text/plain": [
       "(140556, 15)"
      ]
     },
     "execution_count": 39,
     "metadata": {},
     "output_type": "execute_result"
    }
   ],
   "source": [
    "entries_labeled.shape"
   ]
  },
  {
   "cell_type": "code",
   "execution_count": 40,
   "metadata": {
    "ExecuteTime": {
     "end_time": "2021-09-02T19:17:24.536859Z",
     "start_time": "2021-09-02T19:17:24.524295Z"
    }
   },
   "outputs": [
    {
     "data": {
      "text/plain": [
       "0"
      ]
     },
     "execution_count": 40,
     "metadata": {},
     "output_type": "execute_result"
    }
   ],
   "source": [
    "entries_labeled[\"tags\"].isna().sum()"
   ]
  },
  {
   "cell_type": "code",
   "execution_count": 41,
   "metadata": {
    "ExecuteTime": {
     "end_time": "2021-09-02T19:17:24.758531Z",
     "start_time": "2021-09-02T19:17:24.538563Z"
    }
   },
   "outputs": [
    {
     "data": {
      "text/plain": [
       "((173461, 21), (170704,))"
      ]
     },
     "execution_count": 41,
     "metadata": {},
     "output_type": "execute_result"
    }
   ],
   "source": [
    "entries.shape, entries[~entries[\"excerpt\"].isna()][\"excerpt\"].unique().shape"
   ]
  },
  {
   "cell_type": "code",
   "execution_count": 42,
   "metadata": {
    "ExecuteTime": {
     "end_time": "2021-09-02T19:17:24.763362Z",
     "start_time": "2021-09-02T19:17:24.760143Z"
    }
   },
   "outputs": [
    {
     "data": {
      "text/plain": [
       "((140556, 15),\n",
       " Index(['entry_id', 'created_at', 'modified_at', 'excerpt', 'entry_type',\n",
       "        'analysis_framework_id', 'created_by_id', 'lead_id', 'modified_by_id',\n",
       "        'information_date', 'order', 'project_id', 'verified', 'tags',\n",
       "        'tags_str'],\n",
       "       dtype='object'))"
      ]
     },
     "execution_count": 42,
     "metadata": {},
     "output_type": "execute_result"
    }
   ],
   "source": [
    "entries_labeled.shape, entries_labeled.columns"
   ]
  },
  {
   "cell_type": "code",
   "execution_count": 43,
   "metadata": {
    "ExecuteTime": {
     "end_time": "2021-09-02T19:17:24.774615Z",
     "start_time": "2021-09-02T19:17:24.764704Z"
    }
   },
   "outputs": [],
   "source": [
    "def tags_to_pillars(x):\n",
    "    tags = x[0]\n",
    "    af_id = x[1]\n",
    "    pillars = []\n",
    "    for tag_key, tag_value in tags.items():\n",
    "        if tag_key != \"Mat2D\":\n",
    "            continue\n",
    "        if len(tag_value):\n",
    "            for t in tag_value:\n",
    "                if t[0] and t[1]:\n",
    "                    pillars.append(\n",
    "                        str(af_id) + \"->\" + t[0].title() + \"->\" + t[1].title())\n",
    "    return list(set(pillars))\n",
    "\n",
    "\n",
    "def tags_to_sectors(x):\n",
    "    tags = x[0]\n",
    "    af_id = x[1]\n",
    "    sectors = []\n",
    "    for tag_key, tag_value in tags.items():\n",
    "        if tag_key != \"Mat2D\":\n",
    "            continue\n",
    "        if len(tag_value):\n",
    "            for t in tag_value:\n",
    "                if len(t) > 2 and t[2]:\n",
    "                    sectors.append(t[2].title())\n",
    "    return list(set(sectors))\n",
    "\n",
    "\n",
    "def tags_to_subsectors(x):\n",
    "    tags = x[0]\n",
    "    af_id = x[1]\n",
    "    subsectors = []\n",
    "    for tag_key, tag_value in tags.items():\n",
    "        if tag_key != \"Mat2D\":\n",
    "            continue\n",
    "        if len(tag_value):\n",
    "            subsectors = []\n",
    "            for t in tag_value:\n",
    "                if len(t) > 3 and t[3]:\n",
    "                    if isinstance(t[3], list):\n",
    "                        subsectors.extend([x.title() for x in t[3]])\n",
    "                    else:\n",
    "                        subsectors.append(t[3].title())\n",
    "    return list(set(subsectors))\n",
    "\n",
    "\n",
    "##\n",
    "def tags_to_label2d(x):\n",
    "    tags = x[0]\n",
    "    af_id = x[1]\n",
    "    label2d = []\n",
    "    for tag_key, tag_value in tags.items():\n",
    "        if tag_key != \"Mat2D\":\n",
    "            continue\n",
    "        if len(tag_value):\n",
    "            for t in tag_value:\n",
    "                if t[0] and t[1]:\n",
    "                    label2d.append(\"AF-ID:\" + str(af_id) + \"->Sector:\" +\n",
    "                                   t[2].title() + \"->Pillar:\" + t[0].title() +\n",
    "                                   \"->Sub-pillar:\" + t[1].title())\n",
    "    return list(set(label2d))\n",
    "\n",
    "\n",
    "##\n",
    "def tags_to_pillars_1d(x):\n",
    "    tags = x[0]\n",
    "    af_id = x[1]\n",
    "    pillars_1d = []\n",
    "    for tag_key, tag_value in tags.items():\n",
    "        if tag_key != \"Mat1D\":\n",
    "            continue\n",
    "        if len(tag_value):\n",
    "            for t in tag_value:\n",
    "                if t[0] and t[1]:\n",
    "                    pillars_1d.append(\n",
    "                        str(af_id) + \"->\" + t[0].title() + \"->\" + t[1].title())\n",
    "    return list(set(pillars_1d))"
   ]
  },
  {
   "cell_type": "code",
   "execution_count": 44,
   "metadata": {
    "ExecuteTime": {
     "end_time": "2021-09-02T19:17:31.885928Z",
     "start_time": "2021-09-02T19:17:24.775763Z"
    },
    "scrolled": true
   },
   "outputs": [],
   "source": [
    "entries_labeled[\"pillars\"] = entries_labeled[[\"tags\", 'analysis_framework_id'\n",
    "                                              ]].apply(tags_to_pillars, axis=1)\n",
    "entries_labeled[\"sectors\"] = entries_labeled[[\"tags\", 'analysis_framework_id'\n",
    "                                              ]].apply(tags_to_sectors, axis=1)\n",
    "entries_labeled[\"subsectors\"] = entries_labeled[[\n",
    "    \"tags\", 'analysis_framework_id'\n",
    "]].apply(tags_to_subsectors, axis=1)\n",
    "##\n",
    "entries_labeled[\"label_2d\"] = entries_labeled[[\n",
    "    \"tags\", 'analysis_framework_id'\n",
    "]].apply(tags_to_label2d, axis=1)\n",
    "##\n",
    "entries_labeled[\"pillars_1d\"] = entries_labeled[[\"tags\", 'analysis_framework_id'\n",
    "                                              ]].apply(tags_to_pillars_1d, axis=1)"
   ]
  },
  {
   "cell_type": "code",
   "execution_count": 45,
   "metadata": {
    "ExecuteTime": {
     "end_time": "2021-09-02T19:17:32.142193Z",
     "start_time": "2021-09-02T19:17:31.887173Z"
    }
   },
   "outputs": [
    {
     "data": {
      "text/plain": [
       "(138289,)"
      ]
     },
     "execution_count": 45,
     "metadata": {},
     "output_type": "execute_result"
    }
   ],
   "source": [
    "entries_labeled[~entries_labeled[\"excerpt\"].isna()][\"excerpt\"].unique().shape"
   ]
  },
  {
   "cell_type": "code",
   "execution_count": 46,
   "metadata": {
    "ExecuteTime": {
     "end_time": "2021-09-02T19:17:32.213177Z",
     "start_time": "2021-09-02T19:17:32.143613Z"
    }
   },
   "outputs": [
    {
     "data": {
      "text/plain": [
       "(432,\n",
       " [('1306->Covid-19 Overview->Cases', 5407),\n",
       "  ('1306->Displacement->Type/Numbers/Movements', 3767),\n",
       "  ('1306->Context->Security & Stability', 3712),\n",
       "  ('699->Humanitarian Profile->Affected Groups', 3145),\n",
       "  ('1306->Covid-19 Overview->Deaths', 3037),\n",
       "  ('1306->Covid-19 Overview->Vaccination', 2733),\n",
       "  ('829->Displacement ->Displacement', 2472),\n",
       "  ('1306->Covid-19 Containment Measures->Public Health Measures', 2233),\n",
       "  ('1306->Context->Economy', 2223),\n",
       "  ('1306->Casualties->Dead', 2157),\n",
       "  ('1306->Displacement->Push Factors', 1640),\n",
       "  ('829->Context->Legal Or Normative Framework', 1637),\n",
       "  ('699->Flag->Hazard & Threats', 1627),\n",
       "  ('1306->Covid-19 Overview->Testing', 1592),\n",
       "  ('699->Context->Demography', 1435),\n",
       "  ('699->Humanitarian Profile->Casualties', 1383),\n",
       "  ('1306->Covid-19 Containment Measures->Movement Restrictions', 1250),\n",
       "  ('537->Humanitarian Profile->Affected Groups', 1114),\n",
       "  ('829->Displacement ->Local Integration', 1063),\n",
       "  ('552->Humanitarian Profile->Affected Groups', 987),\n",
       "  ('699->Humanitarian Profile->Population Movement', 887),\n",
       "  ('1306->Covid-19 Containment Measures->Physical Distancing', 862),\n",
       "  ('1004->Displacement Profile->Type/Numbers', 849),\n",
       "  ('1306->Covid-19 Communication & Information->Channels & Means', 827),\n",
       "  ('829->Context->Demographics', 818),\n",
       "  ('699->Humanitarian Profile->Push/Pull Factors', 806),\n",
       "  ('1306->Humanitarian Access->Physical Constraints', 796),\n",
       "  ('1306->Flag->Hazard & Threats', 794),\n",
       "  ('1306->Shock /Event/Ongoing Conditions->Type And Characteristics', 778),\n",
       "  ('829->Durable Solutions->Local Integration', 774),\n",
       "  ('1306->Covid-19 Communication & Information->Prevention Campaigns', 772),\n",
       "  ('1306->Context->Politics', 747),\n",
       "  ('1306->Covid-19 Communication & Information->Knowledge & Misinformation',\n",
       "   734),\n",
       "  ('1623->Displacement->Social Cohesion', 728),\n",
       "  ('1306->Flag->Response Gap', 711),\n",
       "  ('137->Context->Security', 704),\n",
       "  ('699->Event/Shock->Shock/Driver', 670),\n",
       "  ('699->Context->Economy', 638),\n",
       "  ('552->Humanitarian Profile->Casualties', 633),\n",
       "  ('1306->Context->Environment', 616),\n",
       "  ('1306->Covid-19 Overview->Contact Tracing', 615),\n",
       "  ('1306->Context->Legal & Policy', 587),\n",
       "  ('699->Flag->Overview', 583),\n",
       "  ('136->Humanitarian Profile->Affected Groups', 581),\n",
       "  ('1306->Covid-19 Containment Measures->Lockdown', 572),\n",
       "  ('699->Event/Shock->Underlying Factors/Pre-Existing Vulnerabilities', 556),\n",
       "  ('1306->Context->Socio Cultural', 556),\n",
       "  ('552->Context->Demography', 545),\n",
       "  ('1004->Casualties->Dead', 545),\n",
       "  ('1306->Displacement->Local Integration', 541),\n",
       "  ('829->Context->Economic', 535),\n",
       "  ('829->Event/Shock->Aggravating Factors', 534),\n",
       "  ('1306->Context->Demography', 523),\n",
       "  ('537->Humanitarian Profile->Casualties', 520),\n",
       "  ('829->Context->Security', 507),\n",
       "  ('1306->Covid-19 Overview->Hospitalization & Care', 506),\n",
       "  ('537->Context->Security', 476),\n",
       "  ('552->Humanitarian Profile->Push/Pull Factors', 473),\n",
       "  ('699->Humanitarian Access->Physical Constraints', 473),\n",
       "  ('829->Context->Political', 450),\n",
       "  ('137->Humanitarian Profile->Affected Groups', 441),\n",
       "  ('699->Context->Socio Cultural', 435),\n",
       "  ('14->Population Profile->Population With Specific Needs', 433),\n",
       "  ('829->Displacement ->Push/Pull Factors', 423),\n",
       "  ('1306->Humanitarian Access->Relief To Beneficiaries', 409),\n",
       "  ('552->Context->Security', 403),\n",
       "  ('1306->Flag->Information Gaps', 402),\n",
       "  ('699->Context->Security', 398),\n",
       "  ('1004->Displacement Profile->Movement', 382),\n",
       "  ('273->Humanitarian Profile->Affected Groups', 375),\n",
       "  ('14->Humanitarian Profile->Affected Groups', 374),\n",
       "  ('1306->Casualties->Injured', 359),\n",
       "  ('829->Casualties->Dead', 358),\n",
       "  ('537->Humanitarian Profile->Push/Pull Factors', 348),\n",
       "  ('552->Humanitarian Profile->Population Movement', 344),\n",
       "  ('1306->Shock /Event/Ongoing Conditions->Aggravating Factors', 333),\n",
       "  ('1306->Flag->Overview', 331),\n",
       "  ('273->Context->Risk', 326),\n",
       "  ('1004->Context->Security', 322),\n",
       "  ('1004->Displacement Profile->Push Factors', 322),\n",
       "  ('1306->Flag->Stakeholders', 321),\n",
       "  ('1004->Context->Demography', 320),\n",
       "  ('699->Information->Information Needs & Gaps', 316),\n",
       "  ('1306->Displacement->Pull Factors', 312),\n",
       "  ('136->Context->Security', 310),\n",
       "  ('829->Context->Socio-Cultural', 305),\n",
       "  ('1306->Flag->Key Event', 291),\n",
       "  ('137->Population Profile->Population With Specific Needs', 290),\n",
       "  ('137->Humanitarian Profile->Casualties', 290),\n",
       "  ('495->Displacement->Affected Groups', 285),\n",
       "  ('136->Humanitarian Profile->Casualties', 283),\n",
       "  ('1306->Covid-19 Overview->Research & Outlook', 281),\n",
       "  ('136->Humanitarian Profile->Population Movement', 276),\n",
       "  ('552->Flag->Hazard & Threats', 274),\n",
       "  ('699->Flag->Key Event', 261),\n",
       "  ('136->Population Profile->Population With Specific Needs', 259),\n",
       "  ('273->Context->Overview', 257),\n",
       "  ('699->Information->Communication Means & Channels', 255),\n",
       "  ('829->Displacement ->Intentions', 254),\n",
       "  ('829->Event/Shock->Type And Characteristics', 244),\n",
       "  ('273->Humanitarian Profile->Casualties Or Injured', 242),\n",
       "  ('1306->Humanitarian Access->Humanitarian Access Gaps', 241),\n",
       "  ('699->Context->Politics', 240),\n",
       "  ('495->Context->Economy', 238),\n",
       "  ('1623->Displacement->Type/Numbers/Movements', 224),\n",
       "  ('1306->Covid-19 Containment Measures->Compliance & Resistance To Measures',\n",
       "   220),\n",
       "  ('1004->Humanitarian Access->Physical Constraints', 219),\n",
       "  ('537->Humanitarian Profile->Population Movement', 218),\n",
       "  ('537->Context->Demography', 215),\n",
       "  ('699->Humanitarian Access->Relief To Beneficiaries', 214),\n",
       "  ('1306->Casualties->Missing', 213),\n",
       "  ('1306->Displacement->Intentions', 213),\n",
       "  ('136->Population Profile->Demographic Profile', 206),\n",
       "  ('699->Context->Legal  & Policy', 200),\n",
       "  ('14->Context->Politics', 188),\n",
       "  ('1306->Covid-19 Communication & Information->Challenges & Barriers', 186),\n",
       "  ('14->Humanitarian Profile->Population Movement', 182),\n",
       "  ('273->Context->Politics', 179),\n",
       "  ('829->Context->Environment', 178),\n",
       "  ('14->Context->Security', 175),\n",
       "  ('14->Population Profile->Demographic Profile', 161),\n",
       "  ('273->Humanitarian Access->Physical Constraints', 159),\n",
       "  ('495->Context->Security', 154),\n",
       "  ('137->Context->Stakeholders', 152),\n",
       "  ('1004->Casualties->Injured', 152),\n",
       "  ('1306->Flag->Lessons Learnt', 151),\n",
       "  ('137->Population Profile->Demographic Profile', 150),\n",
       "  ('552->Humanitarian Access->Physical Constraints', 148),\n",
       "  ('273->Humanitarian Profile->Population Movement', 145),\n",
       "  ('495->Flag->Overview', 143),\n",
       "  ('273->Context->Key Events', 142),\n",
       "  ('699->Flag->Stakeholders', 137),\n",
       "  ('273->Population Profile->Demographic Profile', 136),\n",
       "  ('136->Humanitarian Profile->Push/Pull Factors', 131),\n",
       "  ('829->Casualties->Injured', 130),\n",
       "  ('1004->Context->Economy', 121),\n",
       "  ('273->Population Profile->Population With Specific Needs', 117),\n",
       "  ('552->Flag->Stakeholders', 117),\n",
       "  ('495->Displacement->Casualties', 116),\n",
       "  ('495->Context->Politics', 114),\n",
       "  ('552->Flag->Overview', 114),\n",
       "  ('1004->Flag->Hazard & Threats', 113),\n",
       "  ('699->Humanitarian Access->Humanitarian Access Gaps', 113),\n",
       "  ('537->Flag->Stakeholders', 110),\n",
       "  ('537->Humanitarian Access->Physical Constraints', 109),\n",
       "  ('137->Context->Hazard Developments', 107),\n",
       "  ('14->Context->Risk', 103),\n",
       "  ('1623->Context->Legal & Policy', 103),\n",
       "  ('273->Context->Security', 102),\n",
       "  ('829->Event/Shock->Pre-Existing Vulnerabilities ', 101),\n",
       "  ('699->Context->Environment', 98),\n",
       "  ('1306->Humanitarian Access->Beneficiaries To Relief', 94),\n",
       "  ('137->Context->Economy', 91),\n",
       "  ('829->Event/Shock->Hazard And Threats', 90),\n",
       "  ('137->Context->Politics', 89),\n",
       "  ('137->Context->Overview', 89),\n",
       "  ('699->Information->Information Challenges', 89),\n",
       "  ('136->Context->Stakeholders', 86),\n",
       "  ('829->Durable Solutions->Voluntary Repatriation', 83),\n",
       "  ('136->Context->Overview', 82),\n",
       "  ('14->Humanitarian Profile->Push/Pull Factors', 82),\n",
       "  ('552->Humanitarian Access->Humanitarian Access Gaps', 81),\n",
       "  ('14->Humanitarian Profile->Casualties', 80),\n",
       "  ('1623->Context->Politics', 79),\n",
       "  ('136->Context->Economy', 77),\n",
       "  ('1004->Context->Politics', 76),\n",
       "  ('14->Context->Stakeholder', 75),\n",
       "  ('495->Displacement->Displacement', 73),\n",
       "  ('495->Context->Demography', 72),\n",
       "  ('137->Humanitarian Profile->Population Movement', 69),\n",
       "  ('273->Communication ->Information Gaps', 69),\n",
       "  ('1004->Flag->Stakeholders', 69),\n",
       "  ('1623->Flag->Response Gap', 69),\n",
       "  ('137->Humanitarian Access->Physical Constraints', 66),\n",
       "  ('273->Context->Economy', 65),\n",
       "  ('829->Humanitarian Access->Pin To Relief', 65),\n",
       "  ('1004->Humanitarian Access->Relief To Beneficiaries', 64),\n",
       "  ('14->Context->Society And Community', 64),\n",
       "  ('699->Humanitarian Access->Beneficiaries To Relief', 64),\n",
       "  ('1623->Context->Socio Cultural', 64),\n",
       "  ('1623->Context->Security & Stability', 63),\n",
       "  ('1623->Covid-19 Overview->Containment Measures', 61),\n",
       "  ('495->Displacement->Push/Pull Factors', 60),\n",
       "  ('137->Context->Risk', 59),\n",
       "  ('495->Flag->Key Event', 59),\n",
       "  ('1623->Flag->Overview', 59),\n",
       "  ('1004->Flag->Overview', 58),\n",
       "  ('537->Context->Politics', 57),\n",
       "  ('136->Humanitarian Access->Relief To Beneficiaries', 57),\n",
       "  ('136->Context->Politics', 57),\n",
       "  ('1004->Context->Legal/Policy', 57),\n",
       "  ('273->Communication ->Communication Means', 56),\n",
       "  ('137->Humanitarian Access->Relief To Beneficiaries', 55),\n",
       "  ('136->Humanitarian Access->Physical Constraints', 55),\n",
       "  ('829->Humanitarian Access->Physical Constraints', 55),\n",
       "  ('829->Humanitarian Access->Relief To Pin', 55),\n",
       "  ('495->Humanitarian Access->Relief To Beneficiaries', 55),\n",
       "  ('14->Humanitarian Access->Beneficiaries To Relief', 55),\n",
       "  ('537->Flag->Hazard & Threats', 54),\n",
       "  ('552->Information->Information Needs & Gaps', 53),\n",
       "  ('552->Context->Socio Cultural', 52),\n",
       "  ('137->Humanitarian Profile->Push/Pull Factors', 50),\n",
       "  ('273->Humanitarian Access->Relief To Beneficiaries', 50),\n",
       "  ('709->Flag->Hazard & Threats', 50),\n",
       "  ('273->Context->Society And Community', 49),\n",
       "  ('552->Context->Politics', 49),\n",
       "  ('1623->Displacement->Intentions', 48),\n",
       "  ('537->Information->Information Needs & Gaps', 47),\n",
       "  ('1623->Casualties->Death', 46),\n",
       "  ('1623->Covid-19 Overview->Communication & Information', 46),\n",
       "  ('537->Flag->Overview', 45),\n",
       "  ('495->Context->Legal  & Policy', 44),\n",
       "  ('552->Humanitarian Access->Relief To Beneficiaries', 43),\n",
       "  ('552->Context->Economy', 41),\n",
       "  ('273->Humanitarian Access->Humanitarian Access Gaps', 41),\n",
       "  ('495->Event/Schock->Aggravating Factors', 41),\n",
       "  ('495->Flag->Stakeholders', 37),\n",
       "  ('829->Information And Communication->Info Barriers And Challenges', 37),\n",
       "  ('273->Humanitarian Profile->Push/Pull Factors', 36),\n",
       "  ('1623->Displacement->Push/Pull Factors', 36),\n",
       "  ('1004->Humanitarian Access->Humanitarian Access Gaps', 35),\n",
       "  ('14->Humanitarian Access->Physical Constraints', 34),\n",
       "  ('537->Context->Economy', 33),\n",
       "  ('1623->Context->Demography', 33),\n",
       "  ('1623->Shock /Event/Ongoing Conditions->Aggravating Factors', 33),\n",
       "  ('706->Flag->Hazard & Threats', 32),\n",
       "  ('14->Humanitarian Access->Relief To Beneficiaries', 32),\n",
       "  ('14->Communication ->Information Gaps', 32),\n",
       "  ('537->Context->Legal  & Policy', 30),\n",
       "  ('495->Information->Information Needs & Gaps', 30),\n",
       "  ('829->Casualties->Missing', 30),\n",
       "  ('1623->Shock /Event/Ongoing Conditions->Type And Characteristics', 30),\n",
       "  ('829->Information And Communication->Knoweldge And Info Needs', 29),\n",
       "  ('552->Information->Information Challenges', 28),\n",
       "  ('1623->Context->Economy', 28),\n",
       "  ('273->Communication ->Information Needs', 27),\n",
       "  ('1004->Information->Communication Means', 27),\n",
       "  ('1004->Flag->Key Event', 27),\n",
       "  ('1623->Flag->Information Gaps', 27),\n",
       "  ('537->Humanitarian Access->Relief To Beneficiaries', 26),\n",
       "  ('552->Information->Communication Means & Channels', 26),\n",
       "  ('709->Humanitarian Profile->Affected Groups', 26),\n",
       "  ('14->Context->Hazard Development', 26),\n",
       "  ('1004->Information->Information Gaps', 25),\n",
       "  ('137->Context->Society And Community', 24),\n",
       "  ('273->Communication ->Information Challenges', 23),\n",
       "  ('495->Context->Socio Cultural', 23),\n",
       "  ('1004->Displacement Profile->Pull Factors', 22),\n",
       "  ('14->Communication ->Communication Means', 22),\n",
       "  ('537->Flag->Key Event', 21),\n",
       "  ('495->Context->Environment', 21),\n",
       "  ('495->Humanitarian Access->Physical Constraints', 20),\n",
       "  ('14->Context->Overview', 20),\n",
       "  ('829->Information And Communication->Info And Comm Means', 20),\n",
       "  ('709->Humanitarian Profile->Casualties', 20),\n",
       "  ('273->Population Profile->Economic Profile', 19),\n",
       "  ('495->Flag->Hazard/Threats/Risk', 19),\n",
       "  ('552->Flag->Key Event', 19),\n",
       "  ('701->Flag->Hazard & Threats', 19),\n",
       "  ('1004->Casualties->Missing', 19),\n",
       "  ('829->Durable Solutions->Resettlement', 19),\n",
       "  ('1004->Flag->Response Gap', 19),\n",
       "  ('495->Information->Communication Means & Channels', 19),\n",
       "  ('1623->Flag->Hazard & Threats', 19),\n",
       "  ('136->Communication->Information Gaps', 18),\n",
       "  ('1004->Context->Socio Cultural', 18),\n",
       "  ('1623->Flag->Lessons Learnt', 16),\n",
       "  ('1623->Casualties->Injured', 16),\n",
       "  ('273->Humanitarian Access->Beneficiaries To Relief', 15),\n",
       "  ('1004->Information->Information Challenges', 15),\n",
       "  ('709->Event/Shock->Shock/Driver', 15),\n",
       "  ('706->Humanitarian Profile->Affected Groups', 15),\n",
       "  ('273->Population Profile->Social Profile', 13),\n",
       "  ('14->Communication ->Information Needs', 13),\n",
       "  ('1306->Shock /Event/Ongoing Conditions->Mtitigating Factors', 13),\n",
       "  ('136->Context->Key Events', 12),\n",
       "  ('1004->Context->Environment', 12),\n",
       "  ('1623->Covid-19 Overview->Cases', 12),\n",
       "  ('136->Context->Risk', 11),\n",
       "  ('137->Context->Key Events', 11),\n",
       "  ('552->Context->Legal  & Policy', 11),\n",
       "  ('136->Context->Society And Community', 11),\n",
       "  ('1623->Flag->Rumors', 11),\n",
       "  ('136->Context->Hazard Developments', 10),\n",
       "  ('710->Humanitarian Profile->Affected Groups', 10),\n",
       "  ('701->Humanitarian Access->Physical Constraints', 10),\n",
       "  ('709->Humanitarian Access->Physical Constraints', 10),\n",
       "  ('710->Flag->Hazard & Threats', 10),\n",
       "  ('14->Communication ->Information Challenges', 10),\n",
       "  ('136->Population Profile->Economic Profile', 10),\n",
       "  ('706->Humanitarian Profile->Casualties', 10),\n",
       "  ('1623->Flag->Key Event', 10),\n",
       "  ('14->Context->Economy', 9),\n",
       "  ('701->Humanitarian Profile->Affected Groups', 9),\n",
       "  ('14->Population Profile->Economic Profile', 9),\n",
       "  ('495->Humanitarian Access->Beneficiaries To Relief', 9),\n",
       "  ('495->Information->Information Challenges', 9),\n",
       "  ('1004->Information->Information Needs', 9),\n",
       "  ('703->Flag->Hazard & Threats', 8),\n",
       "  ('552->Humanitarian Access->Beneficiaries To Relief', 8),\n",
       "  ('14->Humanitarian Access->Humanitarian Access Gaps', 8),\n",
       "  ('701->Humanitarian Profile->Casualties', 8),\n",
       "  ('537->Information->Information Challenges', 8),\n",
       "  ('710->Humanitarian Profile->Population Movement', 7),\n",
       "  ('273->Context->Stakeholder', 7),\n",
       "  ('137->Population Profile->Economic Profile', 7),\n",
       "  ('136->Communication->Communication Means', 7),\n",
       "  ('702->Flag->Hazard & Threats', 7),\n",
       "  ('706->Humanitarian Access->Physical Constraints', 7),\n",
       "  ('703->Humanitarian Profile->Affected Groups', 7),\n",
       "  ('709->Event/Shock->Underlying Factors/Pre-Existing Vulnerabilities', 7),\n",
       "  ('537->Information->Communication Means & Channels', 7),\n",
       "  ('706->Event/Shock->Shock/Driver', 7),\n",
       "  ('1004->Displacement Profile->Local Integration', 7),\n",
       "  ('1004->Humanitarian Access->Beneficiaries To Relief', 7),\n",
       "  ('1623->Context->Environment', 7),\n",
       "  ('537->Context->Socio Cultural', 6),\n",
       "  ('137->Humanitarian Access->Humanitarian Access Gaps', 6),\n",
       "  ('709->Context->Demography', 6),\n",
       "  ('707->Flag->Hazard & Threats', 6),\n",
       "  ('495->Casualties->Injured', 6),\n",
       "  ('799->Context->Overview', 6),\n",
       "  ('495->Event/Schock->Type And Characteristics', 6),\n",
       "  ('137->Communication->Communication Means', 5),\n",
       "  ('709->Flag->Key Event', 5),\n",
       "  ('701->Event/Shock->Underlying Factors/Pre-Existing Vulnerabilities', 5),\n",
       "  ('702->Humanitarian Profile->Affected Groups', 5),\n",
       "  ('707->Humanitarian Profile->Affected Groups', 5),\n",
       "  ('136->Communication->Information Needs', 5),\n",
       "  ('726->Context->Legal Or Normative Framework', 5),\n",
       "  ('1623->Shock /Event/Ongoing Conditions->Mtitigating Factors', 5),\n",
       "  ('1623->Humanitarian Access->Physical Constraints', 5),\n",
       "  ('703->Humanitarian Access->Physical Constraints', 4),\n",
       "  ('710->Humanitarian Profile->Push/Pull Factors', 4),\n",
       "  ('137->Communication->Information Gaps', 4),\n",
       "  ('710->Event/Shock->Shock/Driver', 4),\n",
       "  ('14->Context->Lesson Learnt', 4),\n",
       "  ('709->Humanitarian Profile->Population Movement', 4),\n",
       "  ('799->Context->Security', 4),\n",
       "  ('495->Humanitarian Access->Humanitarian Access Gaps', 4),\n",
       "  ('701->Humanitarian Profile->Push/Pull Factors', 4),\n",
       "  ('1623->Humanitarian Access->Humanitarian Access Gaps', 4),\n",
       "  ('137->Humanitarian Access->Beneficiaries To Relief', 3),\n",
       "  ('136->Communication->Information Challenges', 3),\n",
       "  ('701->Context->Security', 3),\n",
       "  ('137->Population Profile->Social Profile', 3),\n",
       "  ('701->Context->Demography', 3),\n",
       "  ('709->Humanitarian Profile->Push/Pull Factors', 3),\n",
       "  ('709->Context->Socio Cultural', 3),\n",
       "  ('709->Information->Information Needs & Gaps', 3),\n",
       "  ('708->Flag->Hazard & Threats', 3),\n",
       "  ('537->Humanitarian Access->Beneficiaries To Relief', 3),\n",
       "  ('799->Context->Politics', 3),\n",
       "  ('829->Event/Shock->Mitigating Factors', 3),\n",
       "  ('726->Displacement ->Displacement', 3),\n",
       "  ('704->Humanitarian Profile->Casualties', 3),\n",
       "  ('495->Casualties->Dead', 3),\n",
       "  ('1004->Displacement Profile->Intentions', 3),\n",
       "  ('1004->Shock And Event->Type And Characteristics', 3),\n",
       "  ('1623->Humanitarian Access->Beneficiaries To Relief', 3),\n",
       "  ('710->Context->Demography', 2),\n",
       "  ('710->Information->Communication Means & Channels', 2),\n",
       "  ('710->Humanitarian Profile->Casualties', 2),\n",
       "  ('702->Humanitarian Profile->Casualties', 2),\n",
       "  ('702->Event/Shock->Underlying Factors/Pre-Existing Vulnerabilities', 2),\n",
       "  ('137->Communication->Information Challenges', 2),\n",
       "  ('702->Information->Information Needs & Gaps', 2),\n",
       "  ('799->Context->Hazard Development', 2),\n",
       "  ('14->Population Profile->Social Profile', 2),\n",
       "  ('704->Flag->Hazard & Threats', 2),\n",
       "  ('136->Humanitarian Access->Beneficiaries To Relief', 2),\n",
       "  ('709->Flag->Overview', 2),\n",
       "  ('710->Flag->Overview', 2),\n",
       "  ('706->Context->Socio Cultural', 2),\n",
       "  ('706->Flag->Overview', 2),\n",
       "  ('706->Event/Shock->Underlying Factors/Pre-Existing Vulnerabilities', 2),\n",
       "  ('701->Humanitarian Access->Relief To Beneficiaries', 2),\n",
       "  ('701->Event/Shock->Shock/Driver', 2),\n",
       "  ('703->Event/Shock->Underlying Factors/Pre-Existing Vulnerabilities', 2),\n",
       "  ('701->Humanitarian Profile->Population Movement', 2),\n",
       "  ('726->Context->Economic', 2),\n",
       "  ('1623->Casualties->Missing', 2),\n",
       "  ('701->Flag->Stakeholders', 1),\n",
       "  ('710->Information->Information Needs & Gaps', 1),\n",
       "  ('702->Humanitarian Access->Physical Constraints', 1),\n",
       "  ('136->Population Profile->Social Profile', 1),\n",
       "  ('703->Humanitarian Profile->Casualties', 1),\n",
       "  ('701->Information->Information Needs & Gaps', 1),\n",
       "  ('14->Context->Key Events', 1),\n",
       "  ('710->Event/Shock->Underlying Factors/Pre-Existing Vulnerabilities', 1),\n",
       "  ('537->Humanitarian Access->Humanitarian Access Gaps', 1),\n",
       "  ('707->Humanitarian Access->Physical Constraints', 1),\n",
       "  ('708->Information->Information Needs & Gaps', 1),\n",
       "  ('708->Humanitarian Profile->Casualties', 1),\n",
       "  ('710->Context->Legal  & Policy', 1),\n",
       "  ('710->Flag->Key Event', 1),\n",
       "  ('706->Information->Information Needs & Gaps', 1),\n",
       "  ('706->Humanitarian Access->Relief To Beneficiaries', 1),\n",
       "  ('726->Information->Information Needs & Gaps', 1),\n",
       "  ('726->Humanitarian Profile->Affected Groups', 1),\n",
       "  ('726->Context->Socio Cultural', 1),\n",
       "  ('726->Context->Socio-Cultural', 1),\n",
       "  ('703->Context->Demography', 1),\n",
       "  ('703->Information->Information Needs & Gaps', 1),\n",
       "  ('537->Context->Environment', 1),\n",
       "  ('726->Humanitarian Profile->Population Movement', 1),\n",
       "  ('702->Information->Communication Means & Channels', 1),\n",
       "  ('799->Population Profile->Demographic Profile', 1),\n",
       "  ('799->Context->Risk', 1),\n",
       "  ('799->Context->Key Events', 1),\n",
       "  ('799->Communication ->Information Gaps', 1),\n",
       "  ('710->Context->Socio Cultural', 1),\n",
       "  ('710->Context->Economy', 1),\n",
       "  ('709->Context->Economy', 1),\n",
       "  ('707->Context->Legal  & Policy', 1),\n",
       "  ('707->Humanitarian Profile->Population Movement', 1),\n",
       "  ('709->Information->Information Challenges', 1),\n",
       "  ('709->Context->Politics', 1),\n",
       "  ('706->Humanitarian Profile->Push/Pull Factors', 1),\n",
       "  ('706->Flag->Key Event', 1),\n",
       "  ('706->Information->Communication Means & Channels', 1),\n",
       "  ('706->Information->Information Challenges', 1),\n",
       "  ('704->Flag->Key Event', 1),\n",
       "  ('704->Flag->Overview', 1),\n",
       "  ('701->Flag->Key Event', 1),\n",
       "  ('552->Context->Environment', 1),\n",
       "  ('137->Communication->Information Needs', 1),\n",
       "  ('726->Context->Demographics', 1),\n",
       "  ('1004->Shock And Event->Aggravating Factors', 1),\n",
       "  ('1623->Flag->Stakeholders', 1),\n",
       "  ('1623->Humanitarian Access->Relief To Beneficiaries', 1),\n",
       "  ('829->Humanitarian Access->Numb Of People Facing Access Constraints', 1)])"
      ]
     },
     "execution_count": 46,
     "metadata": {},
     "output_type": "execute_result"
    }
   ],
   "source": [
    "pills_unique_1d = set()\n",
    "pills_occurances_1d = list()\n",
    "for pills_1d in entries_labeled[\"pillars_1d\"]:\n",
    "    pills_unique_1d.update(pills_1d)\n",
    "    pills_occurances_1d.extend(pills_1d)\n",
    "len(pills_unique_1d), Counter(pills_occurances_1d).most_common()"
   ]
  },
  {
   "cell_type": "code",
   "execution_count": 47,
   "metadata": {
    "ExecuteTime": {
     "end_time": "2021-09-02T19:17:32.276795Z",
     "start_time": "2021-09-02T19:17:32.214287Z"
    }
   },
   "outputs": [
    {
     "data": {
      "text/plain": [
       "[('1306->Humanitarian Conditions->Living Standards', 14017),\n",
       " ('1306->Impact->Drivers/Aggravating Factors', 9242),\n",
       " ('1306->Impact->Impact On System & Services', 8736),\n",
       " ('1306->Humanitarian Conditions->Physical & Mental Wellbeing', 8687),\n",
       " ('1306->Impact->Impact On People', 7972),\n",
       " ('829->Humanitarian Conditions->Living Standards', 7131),\n",
       " ('1306->At Risk->People At Risk / Vulnerable', 5039),\n",
       " ('1306->Capacities & Response->International', 4197),\n",
       " ('829->Response And Capacities->National And Local', 3634),\n",
       " ('1465->Humanitarian Situation->Humanitarian Profile', 2914),\n",
       " ('699->Humanitarian Conditions->Living Standards', 2854),\n",
       " ('699->Capacities & Response->International Actors', 2820),\n",
       " ('699->Humanitarian Conditions->Physical & Mental Wellbeing', 2534),\n",
       " ('699->Humanitarian Conditions->Risks & Vulnerabilities', 2455),\n",
       " ('829->Humanitarian Conditions->Physical And Mental Well-Being', 2297),\n",
       " ('1306->Humanitarian Conditions->Coping Mechanisms', 2202),\n",
       " ('699->Capacities & Response->Government And Local Authorities', 2197),\n",
       " ('1306->Priorities->Priority Interventions (Staff)', 2166),\n",
       " ('829->Response And Capacities->International ', 2064),\n",
       " ('1306->Capacities & Response->Number Of People Reached', 2056),\n",
       " ('699->Scope & Scale->Damages & Losses', 1898),\n",
       " ('699->Scope & Scale->System Disruption', 1744),\n",
       " ('699->Scope & Scale->Drivers/Aggravating Factors', 1703),\n",
       " ('1306->Impact->Number Of People Affected', 1510),\n",
       " ('829->Risks->People At Risk Or Vulnerable', 1504),\n",
       " ('1306->Priorities->Priority Needs (Staff)', 1501),\n",
       " ('1306->Capacities & Response->Government & Local Authorities', 1471),\n",
       " ('1306->Capacities & Response->National & Local Actors', 1372),\n",
       " ('699->Humanitarian Conditions->Humanitarian Conditions', 1369),\n",
       " ('829->Impact->Drivers', 1341),\n",
       " ('829->Humanitarian Conditions->Risks &  New Or Aggravated Vulnerabilities (Do Not Tag)',\n",
       "  1147),\n",
       " ('552->Humanitarian Conditions->Physical & Mental Wellbeing', 1111),\n",
       " ('1465->Context->Security', 1030),\n",
       " ('1465->Context->Basic Infrastructure And Social Services', 996),\n",
       " ('699->Capacities & Response->National Actors', 986),\n",
       " ('1004->Humanitarian Conditions->Physical & Mental Wellbeing', 974),\n",
       " ('1306->Humanitarian Conditions->Number Of People In Need', 935),\n",
       " ('829->Humanitarian Conditions->Coping Mechanisms', 928),\n",
       " ('1004->Humanitarian Conditions->Living Standards', 879),\n",
       " ('552->Humanitarian Conditions->Living Standards', 876),\n",
       " ('1465->Context->Socio-Economic', 859),\n",
       " ('829->Impact->Status Of Essential Infrastructure, Systems, Markets And Networks',\n",
       "  848),\n",
       " ('495->Humanitarian Conditions->Living Standards', 818),\n",
       " ('829->Impact->Impact On People', 802),\n",
       " ('1306->Priorities->Priority Needs (Pop)', 793),\n",
       " ('137->Capacities And Response->International Response', 762),\n",
       " ('1465->Humanitarian Situation->Pre-Covid Humanitarian Operations', 739),\n",
       " ('273->Humanitarian Conditions->Vulnerabilities, Specific Needs And Risks',\n",
       "  727),\n",
       " ('136->Humanitarian Conditions->1St Level Outcome', 723),\n",
       " ('537->Humanitarian Conditions->Risks & Vulnerabilities', 718),\n",
       " ('136->Capacities And Response->International Response', 713),\n",
       " ('14->Humanitarian Conditions->Risks/Vulnerabilities', 700),\n",
       " ('829->Impact->Number Of People Affected', 697),\n",
       " ('273->Capacities And Response->International Response', 692),\n",
       " ('14->Humanitarian Conditions->Access To Basic Services Or Goods', 656),\n",
       " ('699->Humanitarian Conditions->Coping Mechanisms', 655),\n",
       " ('552->Humanitarian Conditions->Risks & Vulnerabilities', 650),\n",
       " ('699->Capacities & Response->System Functionality', 627),\n",
       " ('273->Humanitarian Conditions->Impact On Accessibility, Availability, Quality, Use And Awareness Of Goods And Services',\n",
       "  609),\n",
       " ('699->Capacities & Response->Rcrc Movement', 584),\n",
       " ('14->Humanitarian Conditions->Impact On Physical And Mental Wellbeing', 583),\n",
       " ('1465->Context->Socio-Cultural', 579),\n",
       " ('1004->Scope & Scale->System Disruption', 567),\n",
       " ('1004->Humanitarian Conditions->People At Risk / Vulnerable', 564),\n",
       " ('137->Humanitarian Conditions->1St Level Outcome', 539),\n",
       " ('552->Humanitarian Conditions->Unmet Needs', 535),\n",
       " ('1623->Humanitarian Conditions->Living Standards', 524),\n",
       " ('14->Capacities And Response->International Response', 513),\n",
       " ('829->Humanitarian Conditions->Number Of People In Need And Priorities',\n",
       "  498),\n",
       " ('537->Humanitarian Conditions->Living Standards', 490),\n",
       " ('829->Impact->Drivers And Aggravating Factors', 486),\n",
       " ('1623->Impact->Impact On People', 452),\n",
       " ('1623->Capacities & Response->Government & Local Authorities', 444),\n",
       " ('552->Scope & Scale->Drivers/Aggravating Factors', 428),\n",
       " ('829->Priorities->Prioritiy Issues (Pop)', 422),\n",
       " ('1623->Capacities & Response->International', 421),\n",
       " ('137->Scope And Scale->Systems Disruption', 412),\n",
       " ('273->Humanitarian Conditions->Impact On Physical And Mental Wellbeing',\n",
       "  412),\n",
       " ('1004->Scope & Scale->Drivers/Aggravating Factors', 403),\n",
       " ('137->Capacities And Response->National Response', 397),\n",
       " ('829->Impact->Impact On Systems And Services', 395),\n",
       " ('137->Humanitarian Conditions->2Nd Level Outcome', 394),\n",
       " ('829->Humanitarian Conditions->Persons/Groups With Specific Needs', 394),\n",
       " ('537->Scope & Scale->System Disruption', 378),\n",
       " ('1623->Impact->Drivers/Aggravating Factors', 359),\n",
       " ('699->Humanitarian Conditions->People With Specific Needs', 349),\n",
       " ('829->Impact->Damages & Losses', 349),\n",
       " ('273->Scope And Scale->Damage', 345),\n",
       " ('537->Humanitarian Conditions->Unmet Needs', 337),\n",
       " ('1465->Context->Environmental', 327),\n",
       " ('537->Scope & Scale->Drivers/Aggravating Factors', 314),\n",
       " ('829->Response And Capacities->Community Perceived Priorities', 314),\n",
       " ('699->Capacities & Response->Response Gaps', 308),\n",
       " ('137->Humanitarian Conditions->Risks', 304),\n",
       " ('495->Capacities & Response->International', 300),\n",
       " ('552->Scope & Scale->System Disruption', 299),\n",
       " ('1623->Priorities->Priority Interventions (Staff)', 298),\n",
       " ('537->Humanitarian Conditions->Physical & Mental Wellbeing', 285),\n",
       " ('829->Humanitarian Conditions->Number Of People At Risk (Do Not Tag)', 284),\n",
       " ('136->Humanitarian Conditions->Risks', 272),\n",
       " ('1306->Priorities->Priority Interventions (Pop)', 272),\n",
       " ('1465->Humanitarian Situation->Humanitarian Access', 269),\n",
       " ('1004->Scope & Scale->Damages & Losses', 268),\n",
       " ('1465->Context->Policy/Normative Frameworks', 262),\n",
       " ('829->Response And Capacities->Community', 260),\n",
       " ('537->Scope & Scale->Damages & Losses', 255),\n",
       " ('273->Scope And Scale->System Disruption', 254),\n",
       " ('495->Scope & Scale->System Disruption', 243),\n",
       " ('552->Scope & Scale->Damages & Losses', 243),\n",
       " ('1004->Humanitarian Conditions->People In Need', 240),\n",
       " ('136->Humanitarian Conditions->2Nd Level Outcome', 236),\n",
       " ('136->Scope And Scale->Systems Disruption', 235),\n",
       " ('495->Scope & Scale->Drivers/Aggravating Factors', 234),\n",
       " ('1465->Humanitarian Situation->Pre-Covid National Response Mechanisms', 225),\n",
       " ('1269->Humanitarian Situation->Humanitarian Profile', 223),\n",
       " ('552->Humanitarian Conditions->Coping Mechanisms', 217),\n",
       " ('273->Capacities And Response->National Response Capacity', 215),\n",
       " ('495->Humanitarian Conditions->Physical & Mental Wellbeing', 215),\n",
       " ('14->Capacities And Response->National Response', 215),\n",
       " ('495->Humanitarian Conditions->Risks & Vulnerabilities', 213),\n",
       " ('1623->Humanitarian Conditions->Physical & Mental Wellbeing', 200),\n",
       " ('1623->Capacities & Response->Number Of People Reached', 195),\n",
       " ('1465->Context->Demographic', 193),\n",
       " ('137->Scope And Scale->Drivers/Aggravating Factors', 189),\n",
       " ('136->Scope And Scale->Drivers/Aggravating Factors', 185),\n",
       " ('1004->Humanitarian Conditions->Coping Mechanisms', 179),\n",
       " ('1465->Context->Political', 170),\n",
       " ('136->Capacities And Response->National Response', 160),\n",
       " ('14->Capacities And Response->Coping Mechanisms', 159),\n",
       " ('137->Humanitarian Conditions->Vulnerabilities', 156),\n",
       " ('829->Humanitarian Conditions->Number Of People In Need', 156),\n",
       " ('1623->At Risk->People At Risk / Vulnerable', 154),\n",
       " ('537->Humanitarian Conditions->Coping Mechanisms', 148),\n",
       " ('1269->Humanitarian Situation->Pre-Covid Humanitarian Operations', 145),\n",
       " ('1623->Capacities & Response->Rcrc', 144),\n",
       " ('136->Humanitarian Conditions->Unmet Needs', 139),\n",
       " ('495->Humanitarian Conditions->Coping Mechanisms', 138),\n",
       " ('495->Humanitarian Conditions->People With Specific Needs', 137),\n",
       " ('1269->Context->Basic Infrastructure And Social Services', 135),\n",
       " ('137->Humanitarian Conditions->Unmet Needs', 128),\n",
       " ('495->Humanitarian Conditions->Number Of People In Need And Priorities',\n",
       "  128),\n",
       " ('495->Capacities & Response->Government', 127),\n",
       " ('137->Scope And Scale->Damage', 122),\n",
       " ('136->Humanitarian Conditions->Vulnerabilities', 113),\n",
       " ('14->Scope And Scale->System Disruption', 106),\n",
       " ('1623->Capacities & Response->National & Local Actors', 106),\n",
       " ('273->Scope And Scale->Drivers/ Aggravating Factors', 103),\n",
       " ('14->Scope And Scale->Drivers/ Aggravating Factors', 102),\n",
       " ('1004->Scope & Scale->People Affected', 100),\n",
       " ('136->Capacities And Response->Coping Mechanisms', 100),\n",
       " ('136->Scope And Scale->Damage', 90),\n",
       " ('709->Humanitarian Conditions->Risks & Vulnerabilities', 76),\n",
       " ('1623->Humanitarian Conditions->Coping Mechanisms', 76),\n",
       " ('14->Humanitarian Conditions->Unmet Needs', 74),\n",
       " ('537->Humanitarian Conditions->People With Specific Needs', 73),\n",
       " ('829->Priorities->Prioritiy Issues (Hum. Staff)', 73),\n",
       " ('709->Humanitarian Conditions->Living Standards', 72),\n",
       " ('273->Capacities And Response->National Society Capacity', 66),\n",
       " ('495->Capacities & Response->System Functionality', 66),\n",
       " ('1465->Context->Information And Communication', 64),\n",
       " ('495->Capacities & Response->Response Gaps', 62),\n",
       " ('1623->Impact->Impact On System & Services', 62),\n",
       " ('495->Capacities & Response->Lngo', 61),\n",
       " ('1004->Capacities & Response->System Functionality', 59),\n",
       " ('1623->Priorities->Priority Needs (Staff)', 56),\n",
       " ('273->Scope And Scale->Losses', 54),\n",
       " ('137->Capacities And Response->Coping Mechanisms', 52),\n",
       " ('709->Scope & Scale->Damages & Losses', 52),\n",
       " ('495->Scope & Scale->Damages & Losses', 48),\n",
       " ('1623->Priorities->Priority Needs (Pop)', 46),\n",
       " ('552->Humanitarian Conditions->People With Specific Needs', 42),\n",
       " ('14->Humanitarian Conditions->Specific Needs', 41),\n",
       " ('1623->Capacities & Response->Essn', 41),\n",
       " ('709->Humanitarian Conditions->Humanitarian Conditions', 39),\n",
       " ('1269->Humanitarian Situation->Humanitarian Access', 38),\n",
       " ('1004->Priorities->Priority Interventions (Staff)', 37),\n",
       " ('829->Priorities->Recommended Interventions (Hum. Staff)', 37),\n",
       " ('1623->Priorities->Priority Interventions (Pop)', 35),\n",
       " ('709->Humanitarian Conditions->Coping Mechanisms', 31),\n",
       " ('137->Capacities And Response->Response Gaps', 30),\n",
       " ('1269->Context->Socio-Cultural', 30),\n",
       " ('1269->Context->Socio-Economic', 30),\n",
       " ('709->Scope & Scale->Drivers/Aggravating Factors', 28),\n",
       " ('1623->Capacities & Response->Communities', 28),\n",
       " ('1269->Context->Policy/Normative Frameworks', 26),\n",
       " ('14->Capacities And Response->Response Gaps', 25),\n",
       " ('1623->Humanitarian Conditions->Number Of People In Need', 25),\n",
       " ('709->Humanitarian Conditions->Physical & Mental Wellbeing', 24),\n",
       " ('706->Scope & Scale->Damages & Losses', 24),\n",
       " ('14->Capacities And Response->Systems Functionality', 21),\n",
       " ('710->Humanitarian Conditions->Risks & Vulnerabilities', 20),\n",
       " ('1269->Context->Security', 20),\n",
       " ('706->Scope & Scale->System Disruption', 20),\n",
       " ('709->Scope & Scale->System Disruption', 18),\n",
       " ('1269->Context->Political', 16),\n",
       " ('14->Scope And Scale->Damage', 16),\n",
       " ('701->Scope & Scale->Damages & Losses', 15),\n",
       " ('136->Capacities And Response->Market Functionality', 13),\n",
       " ('701->Humanitarian Conditions->Humanitarian Conditions', 13),\n",
       " ('701->Humanitarian Conditions->Risks & Vulnerabilities', 13),\n",
       " ('710->Humanitarian Conditions->Humanitarian Conditions', 12),\n",
       " ('709->Humanitarian Conditions->People With Specific Needs', 12),\n",
       " ('706->Humanitarian Conditions->Living Standards', 12),\n",
       " ('726->Humanitarian Conditions->Living Standards', 12),\n",
       " ('726->Response And Capacities->National And Local', 12),\n",
       " ('703->Scope & Scale->Damages & Losses', 11),\n",
       " ('702->Scope & Scale->Damages & Losses', 11),\n",
       " ('1269->Context->Environmental', 10),\n",
       " ('707->Scope & Scale->Damages & Losses', 8),\n",
       " ('707->Humanitarian Conditions->Humanitarian Conditions', 8),\n",
       " ('1004->Priorities->Priority Problems (Pop)', 8),\n",
       " ('710->Scope & Scale->Damages & Losses', 7),\n",
       " ('704->Humanitarian Conditions->Physical & Mental Wellbeing', 7),\n",
       " ('703->Humanitarian Conditions->Risks & Vulnerabilities', 7),\n",
       " ('706->Scope & Scale->Drivers/Aggravating Factors', 7),\n",
       " ('701->Humanitarian Conditions->Living Standards', 7),\n",
       " ('710->Humanitarian Conditions->Living Standards', 6),\n",
       " ('702->Humanitarian Conditions->Coping Mechanisms', 6),\n",
       " ('703->Humanitarian Conditions->Living Standards', 6),\n",
       " ('136->Scope And Scale->Losses', 6),\n",
       " ('726->Humanitarian Conditions->Coping Mechanisms', 6),\n",
       " ('703->Humanitarian Conditions->Humanitarian Conditions', 5),\n",
       " ('137->Capacities And Response->Market Functionality', 5),\n",
       " ('710->Humanitarian Conditions->Physical & Mental Wellbeing', 5),\n",
       " ('707->Scope & Scale->System Disruption', 5),\n",
       " ('706->Humanitarian Conditions->Risks & Vulnerabilities', 5),\n",
       " ('829->Priorities->Preferred Response (Pop)', 5),\n",
       " ('709->Capacities & Response->System Functionality', 4),\n",
       " ('136->Capacities And Response->Response Gaps', 4),\n",
       " ('799->Capacities And Response->International Response', 4),\n",
       " ('701->Scope & Scale->System Disruption', 4),\n",
       " ('1004->Capacities & Response->National', 4),\n",
       " ('710->Humanitarian Conditions->People With Specific Needs', 3),\n",
       " ('701->Humanitarian Conditions->People With Specific Needs', 3),\n",
       " ('701->Humanitarian Conditions->Physical & Mental Wellbeing', 3),\n",
       " ('701->Scope & Scale->Drivers/Aggravating Factors', 3),\n",
       " ('702->Humanitarian Conditions->Living Standards', 3),\n",
       " ('702->Humanitarian Conditions->Risks & Vulnerabilities', 3),\n",
       " ('14->Scope And Scale->Losses', 3),\n",
       " ('495->Priorities->As Expressed By Experts', 3),\n",
       " ('704->Humanitarian Conditions->Risks & Vulnerabilities', 3),\n",
       " ('14->Humanitarian Conditions->Lessons Learnt', 3),\n",
       " ('710->Scope & Scale->System Disruption', 3),\n",
       " ('799->Humanitarian Conditions->Access To Basic Services Or Goods', 3),\n",
       " ('726->Impact->Drivers', 3),\n",
       " ('136->Humanitarian Conditions->Lessons Learnt', 2),\n",
       " ('137->Scope And Scale->Losses', 2),\n",
       " ('702->Scope & Scale->System Disruption', 2),\n",
       " ('137->Scope And Scale->Lessons Learnt', 2),\n",
       " ('1004->Capacities & Response->International', 2),\n",
       " ('704->Humanitarian Conditions->Living Standards', 2),\n",
       " ('799->Scope And Scale->Drivers/ Aggravating Factors', 2),\n",
       " ('708->Scope & Scale->Damages & Losses', 2),\n",
       " ('708->Humanitarian Conditions->Risks & Vulnerabilities', 2),\n",
       " ('708->Humanitarian Conditions->Living Standards', 2),\n",
       " ('799->Capacities And Response->Systems Functionality', 2),\n",
       " ('706->Humanitarian Conditions->Physical & Mental Wellbeing', 2),\n",
       " ('799->Humanitarian Conditions->Risks/Vulnerabilities', 2),\n",
       " ('726->Humanitarian Conditions->Number Of People In Need And Priorities', 2),\n",
       " ('702->Humanitarian Conditions->Humanitarian Conditions', 2),\n",
       " ('701->Humanitarian Conditions->Coping Mechanisms', 2),\n",
       " ('799->Humanitarian Conditions->Impact On Physical And Mental Wellbeing', 2),\n",
       " ('1004->Priorities->Priority Interventions (Pop)', 2),\n",
       " ('726->Humanitarian Conditions->Physical And Mental Well-Being', 2),\n",
       " ('707->Humanitarian Conditions->Risks & Vulnerabilities', 2),\n",
       " ('706->Humanitarian Conditions->Coping Mechanisms', 2),\n",
       " ('703->Scope & Scale->System Disruption', 2),\n",
       " ('495->Scope & Scale->Number Of People Affected', 2),\n",
       " ('702->Capacities & Response->System Functionality', 1),\n",
       " ('537->Humanitarian Conditions->Lessons Learnt', 1),\n",
       " ('708->Humanitarian Conditions->Coping Mechanisms', 1),\n",
       " ('708->Humanitarian Conditions->Humanitarian Conditions', 1),\n",
       " ('708->Scope & Scale->System Disruption', 1),\n",
       " ('710->Scope & Scale->Drivers/Aggravating Factors', 1),\n",
       " ('799->Humanitarian Conditions->Specific Needs', 1),\n",
       " ('799->Capacities And Response->Coping Mechanisms', 1),\n",
       " ('799->Capacities And Response->Response Gaps', 1),\n",
       " ('495->Humanitarian Conditions->Lessons Learnt', 1),\n",
       " ('726->Humanitarian Conditions->Unmet Needs', 1),\n",
       " ('726->Capacities & Response->International', 1),\n",
       " ('726->Capacities & Response->Government', 1),\n",
       " ('726->Response And Capacities->International ', 1),\n",
       " ('726->Humanitarian Conditions->Risks &  New Or Aggravated Vulnerabilities',\n",
       "  1),\n",
       " ('726->Humanitarian Conditions->Risks & Vulnerabilities', 1),\n",
       " ('703->Humanitarian Conditions->Coping Mechanisms', 1),\n",
       " ('799->Humanitarian Conditions->Physical & Mental Wellbeing', 1),\n",
       " ('799->Humanitarian Conditions->People With Specific Needs', 1),\n",
       " ('799->Capacities & Response->Rcrc Movement', 1),\n",
       " ('726->Humanitarian Conditions->Physical & Mental Wellbeing', 1),\n",
       " ('799->Humanitarian Conditions->Unmet Needs', 1),\n",
       " ('708->Capacities & Response->System Functionality', 1),\n",
       " ('707->Humanitarian Conditions->Living Standards', 1),\n",
       " ('704->Scope & Scale->Drivers/Aggravating Factors', 1),\n",
       " ('704->Scope & Scale->System Disruption', 1),\n",
       " ('701->Capacities & Response->System Functionality', 1),\n",
       " ('495->Scope & Scale->Lessons Learnt', 1),\n",
       " ('726->Impact->Damages & Losses', 1),\n",
       " ('726->Impact->Status Of Essential Infrastructure, Systems, Markets And Networks',\n",
       "  1)]"
      ]
     },
     "execution_count": 47,
     "metadata": {},
     "output_type": "execute_result"
    }
   ],
   "source": [
    "pills_unique = set()\n",
    "pills_occurances = list()\n",
    "for pills in entries_labeled[\"pillars\"]:\n",
    "    pills_unique.update(pills)\n",
    "    pills_occurances.extend(pills)\n",
    "Counter(pills_occurances).most_common()"
   ]
  },
  {
   "cell_type": "code",
   "execution_count": 48,
   "metadata": {
    "ExecuteTime": {
     "end_time": "2021-09-02T19:17:32.336740Z",
     "start_time": "2021-09-02T19:17:32.278041Z"
    }
   },
   "outputs": [
    {
     "data": {
      "text/plain": [
       "[('Health', 30940),\n",
       " ('Protection', 25226),\n",
       " ('Cross', 16143),\n",
       " ('Livelihoods', 14391),\n",
       " ('Wash', 10054),\n",
       " ('Shelter', 9489),\n",
       " ('Education', 9062),\n",
       " ('Food Security', 8900),\n",
       " ('Cross-Sector', 5705),\n",
       " ('Food', 3942),\n",
       " ('Nutrition', 3925),\n",
       " ('Agriculture', 3460),\n",
       " ('Logistics', 2971),\n",
       " ('Nfi', 751),\n",
       " ('Cross Cutting', 678),\n",
       " ('Livelihood', 317),\n",
       " ('Logistic', 260),\n",
       " ('Cccm', 170)]"
      ]
     },
     "execution_count": 48,
     "metadata": {},
     "output_type": "execute_result"
    }
   ],
   "source": [
    "secs_unique = set()\n",
    "secs_occurances = list()\n",
    "for secs in entries_labeled[\"sectors\"]:\n",
    "    secs_unique.update(secs)\n",
    "    secs_occurances.extend(secs)\n",
    "#secs_unique\n",
    "Counter(secs_occurances).most_common()"
   ]
  },
  {
   "cell_type": "code",
   "execution_count": 49,
   "metadata": {
    "ExecuteTime": {
     "end_time": "2021-09-02T19:17:32.340843Z",
     "start_time": "2021-09-02T19:17:32.337962Z"
    }
   },
   "outputs": [
    {
     "data": {
      "text/plain": [
       "Index(['entry_id', 'created_at', 'modified_at', 'excerpt', 'entry_type',\n",
       "       'analysis_framework_id', 'created_by_id', 'lead_id', 'modified_by_id',\n",
       "       'information_date', 'order', 'project_id', 'verified', 'tags',\n",
       "       'tags_str', 'pillars', 'sectors', 'subsectors', 'label_2d',\n",
       "       'pillars_1d'],\n",
       "      dtype='object')"
      ]
     },
     "execution_count": 49,
     "metadata": {},
     "output_type": "execute_result"
    }
   ],
   "source": [
    "entries_labeled.columns"
   ]
  },
  {
   "cell_type": "code",
   "execution_count": 50,
   "metadata": {
    "ExecuteTime": {
     "end_time": "2021-09-02T19:17:32.399818Z",
     "start_time": "2021-09-02T19:17:32.342214Z"
    }
   },
   "outputs": [
    {
     "data": {
      "text/plain": [
       "(140556, 20)"
      ]
     },
     "execution_count": 50,
     "metadata": {},
     "output_type": "execute_result"
    }
   ],
   "source": [
    "final_df = entries_labeled[entries_labeled[\"entry_type\"].eq(\"excerpt\")\n",
    "                           & (~entries_labeled[\"excerpt\"].isna())]\n",
    "final_df.shape"
   ]
  },
  {
   "cell_type": "code",
   "execution_count": 51,
   "metadata": {
    "ExecuteTime": {
     "end_time": "2021-09-02T19:17:35.502849Z",
     "start_time": "2021-09-02T19:17:32.401342Z"
    },
    "scrolled": true
   },
   "outputs": [
    {
     "data": {
      "text/plain": [
       "((138178, 20), 0)"
      ]
     },
     "execution_count": 51,
     "metadata": {},
     "output_type": "execute_result"
    }
   ],
   "source": [
    "def remove_newlines(excerpt):\n",
    "    if not isinstance(excerpt, str):\n",
    "        return excerpt\n",
    "    return re.sub(\"\\s+\", \" \", excerpt)\n",
    "\n",
    "final_df.loc[:, 'excerpt'] = final_df['excerpt'].apply(remove_newlines)\n",
    "#final_df.loc[:, 'dropped_excerpt'] = final_df['dropped_excerpt'].apply(remove_newlines)\n",
    "##\n",
    "final_df = final_df.sort_values(\"verified\").reset_index(drop=True).drop_duplicates(subset='excerpt', keep=\"last\")\n",
    "final_df.shape, final_df.duplicated(subset=\"excerpt\").sum()"
   ]
  },
  {
   "cell_type": "code",
   "execution_count": 52,
   "metadata": {
    "ExecuteTime": {
     "end_time": "2021-09-02T19:17:35.506713Z",
     "start_time": "2021-09-02T19:17:35.504018Z"
    }
   },
   "outputs": [],
   "source": [
    "sector_name_mapper = {\n",
    "    \"Agriculture\": \"Agriculture\",\n",
    "    \"Cccm\": \"\",\n",
    "    \"Cross\": \"Cross\",\n",
    "    \"Cross Cutting\": \"Cross\",\n",
    "    \"Cross-Sector\": \"Cross\",\n",
    "    \"Education\": \"Education\",\n",
    "    \"Food\": \"Food Security\",\n",
    "    \"Food Security\": \"Food Security\",\n",
    "    \"Nutrition\": \"Nutrition\",\n",
    "    \"Health\": \"Health\",\n",
    "    \"Livelihood\": \"Livelihoods\",\n",
    "    \"Livelihoods\": \"Livelihoods\",\n",
    "    \"Logistic\": \"Logistics\",\n",
    "    \"Logistics\": \"Logistics\",\n",
    "    \"Protection\": \"Protection\",\n",
    "    \"Shelter\": \"Shelter\",\n",
    "    \"Shelter And Nfis\": \"Shelter\",\n",
    "    \"Nfi\": \"\",\n",
    "    \"Wash\": \"WASH\",\n",
    "}"
   ]
  },
  {
   "cell_type": "code",
   "execution_count": 54,
   "metadata": {
    "ExecuteTime": {
     "end_time": "2021-09-02T19:18:14.358835Z",
     "start_time": "2021-09-02T19:18:14.350635Z"
    }
   },
   "outputs": [],
   "source": [
    "af_title_to_id = dict()\n",
    "for afid, title in zip(afs[\"id\"], afs[\"title\"]):\n",
    "    af_title_to_id[\"title\"] = afid"
   ]
  },
  {
   "cell_type": "code",
   "execution_count": 55,
   "metadata": {
    "ExecuteTime": {
     "end_time": "2021-09-02T19:18:20.620790Z",
     "start_time": "2021-09-02T19:18:20.611457Z"
    }
   },
   "outputs": [
    {
     "name": "stderr",
     "output_type": "stream",
     "text": [
      "<ipython-input-55-bb9ead69f816>:2: SettingWithCopyWarning: \n",
      "A value is trying to be set on a copy of a slice from a DataFrame.\n",
      "Try using .loc[row_indexer,col_indexer] = value instead\n",
      "\n",
      "See the caveats in the documentation: https://pandas.pydata.org/pandas-docs/stable/user_guide/indexing.html#returning-a-view-versus-a-copy\n",
      "  af_id_title[\"title\"] = af_id_title[\"title\"].str.title()\n"
     ]
    },
    {
     "data": {
      "text/plain": [
       "Index(['Unnamed: 0', 'Framework Title', 'Type', 'Pillar', 'Sub-pillar',\n",
       "       'Virtual Type', 'Virtual Pillar', 'Virtual Sub-pillar', 'First-pass',\n",
       "       'Verified', 'Reversible', 'Cover', 'analysis_framework_id',\n",
       "       'Framework Name'],\n",
       "      dtype='object')"
      ]
     },
     "execution_count": 55,
     "metadata": {},
     "output_type": "execute_result"
    }
   ],
   "source": [
    "af_id_title = afs[[\"id\", \"title\"]]\n",
    "af_id_title[\"title\"] = af_id_title[\"title\"].str.title()\n",
    "##\n",
    "matching_2d_mat[\"Framework Title\"] = matching_2d_mat[\"Framework Title\"].str.title()\n",
    "##\n",
    "af_id_title.columns = [\"analysis_framework_id\", \"Framework Name\"]\n",
    "matching_2d_mat = pd.merge(matching_2d_mat,\n",
    "                    af_id_title,\n",
    "                    how=\"left\",\n",
    "                    left_on=\"Framework Title\",\n",
    "                    right_on=\"Framework Name\")\n",
    "matching_2d_mat.columns"
   ]
  },
  {
   "cell_type": "code",
   "execution_count": 56,
   "metadata": {
    "ExecuteTime": {
     "end_time": "2021-09-02T19:18:26.898461Z",
     "start_time": "2021-09-02T19:18:26.893512Z"
    }
   },
   "outputs": [],
   "source": [
    "matching_2d_mat[\"Pillar\"] = matching_2d_mat[\"Pillar\"].apply(\n",
    "    lambda x: x.strip().title())\n",
    "matching_2d_mat[\"Sub-pillar\"] = matching_2d_mat[\"Sub-pillar\"].apply(\n",
    "    lambda x: x.strip().title())\n",
    "matching_2d_mat[\"Final Pillar Name\"] = matching_2d_mat[\n",
    "    \"Virtual Pillar\"].apply(lambda x: x.strip().title())\n",
    "matching_2d_mat[\"Final Sub-pillar Name\"] = matching_2d_mat[\n",
    "    \"Virtual Sub-pillar\"].apply(lambda x: x.strip().title())"
   ]
  },
  {
   "cell_type": "code",
   "execution_count": 57,
   "metadata": {
    "ExecuteTime": {
     "end_time": "2021-09-02T19:18:33.080653Z",
     "start_time": "2021-09-02T19:18:33.076612Z"
    }
   },
   "outputs": [],
   "source": [
    "#matching_2d_mat = matching_2d_mat[~matching_2d_mat[\"analysis_framework_id\"].isna()]\n",
    "\n",
    "matching_2d_mat = matching_2d_mat.astype({\n",
    "    'Framework Name': str,\n",
    "    'Pillar': str,\n",
    "    'Sub-pillar': str,\n",
    "    'Final Pillar Name': str,\n",
    "    'Final Sub-pillar Name': str,\n",
    "    'analysis_framework_id': int\n",
    "})"
   ]
  },
  {
   "cell_type": "code",
   "execution_count": 58,
   "metadata": {
    "ExecuteTime": {
     "end_time": "2021-09-02T19:18:39.317258Z",
     "start_time": "2021-09-02T19:18:39.300899Z"
    }
   },
   "outputs": [],
   "source": [
    "matching_2d_mat[\"analysis_framework_id\"] = matching_2d_mat[\"analysis_framework_id\"].apply(str)\n",
    "##\n",
    "matching_2d_mat[\"original_pillar\"] = matching_2d_mat[\n",
    "    \"analysis_framework_id\"] + \"->\" + matching_2d_mat[\n",
    "        \"Pillar\"] + \"->\" + matching_2d_mat[\"Sub-pillar\"]\n",
    "matching_2d_mat[\"original_subpillar\"] = matching_2d_mat[\n",
    "    \"analysis_framework_id\"] + \"->\" + matching_2d_mat[\n",
    "        \"Pillar\"] + \"->\" + matching_2d_mat[\"Sub-pillar\"]\n",
    "##\n",
    "matching_2d_mat[\"target_pillar\"] = matching_2d_mat[\"Final Pillar Name\"]\n",
    "matching_2d_mat[\"target_subpillar\"] = matching_2d_mat[\n",
    "    \"Final Pillar Name\"] + \"->\" + matching_2d_mat[\"Final Sub-pillar Name\"]"
   ]
  },
  {
   "cell_type": "code",
   "execution_count": 59,
   "metadata": {
    "ExecuteTime": {
     "end_time": "2021-09-02T19:18:45.541235Z",
     "start_time": "2021-09-02T19:18:45.538466Z"
    }
   },
   "outputs": [],
   "source": [
    "pillar_name_mapper = dict()\n",
    "subpillar_name_mapper = dict()\n",
    "for pillar, fpillar, subpillar, fsubpillar, af_id in zip(\n",
    "        matching_2d_mat[\"original_pillar\"], matching_2d_mat[\"target_pillar\"],\n",
    "        matching_2d_mat[\"original_subpillar\"],\n",
    "        matching_2d_mat[\"target_subpillar\"],\n",
    "        matching_2d_mat[\"analysis_framework_id\"]):\n",
    "    pillar_name_mapper[pillar] = fpillar\n",
    "    subpillar_name_mapper[subpillar] = fsubpillar"
   ]
  },
  {
   "cell_type": "code",
   "execution_count": 60,
   "metadata": {
    "ExecuteTime": {
     "end_time": "2021-09-02T19:18:51.783649Z",
     "start_time": "2021-09-02T19:18:51.769562Z"
    },
    "scrolled": true
   },
   "outputs": [],
   "source": [
    "matching_1d_mat[\"Framework Title\"] = matching_1d_mat[\"Framework Title\"].str.title()\n",
    "##\n",
    "matching_1d_mat = pd.merge(matching_1d_mat,\n",
    "                           af_id_title,\n",
    "                           how=\"left\",\n",
    "                           left_on=\"Framework Title\",\n",
    "                           right_on=\"Framework Name\")\n"
   ]
  },
  {
   "cell_type": "code",
   "execution_count": 61,
   "metadata": {
    "ExecuteTime": {
     "end_time": "2021-09-02T19:18:58.004057Z",
     "start_time": "2021-09-02T19:18:58.001722Z"
    }
   },
   "outputs": [],
   "source": [
    "#matching_1d_mat = matching_1d_mat[~matching_1d_mat[\"analysis_framework_id\"].isna()]\n",
    "matching_1d_mat[\"analysis_framework_id\"] = matching_1d_mat[\"analysis_framework_id\"].apply(int)"
   ]
  },
  {
   "cell_type": "code",
   "execution_count": 62,
   "metadata": {
    "ExecuteTime": {
     "end_time": "2021-09-02T19:19:04.329147Z",
     "start_time": "2021-09-02T19:19:04.326413Z"
    }
   },
   "outputs": [
    {
     "data": {
      "text/plain": [
       "Index(['Unnamed: 0', 'Framework Title', 'Type', 'Pillar', 'Sub-pillar',\n",
       "       'Virtual Type', 'Virtual Pillar', 'Virtual Sub-pillar', 'First-pass',\n",
       "       'Verified', 'Reversible', 'Cover', 'analysis_framework_id',\n",
       "       'Framework Name'],\n",
       "      dtype='object')"
      ]
     },
     "execution_count": 62,
     "metadata": {},
     "output_type": "execute_result"
    }
   ],
   "source": [
    "matching_1d_mat.columns"
   ]
  },
  {
   "cell_type": "code",
   "execution_count": 63,
   "metadata": {
    "ExecuteTime": {
     "end_time": "2021-09-02T19:19:10.619541Z",
     "start_time": "2021-09-02T19:19:10.610588Z"
    }
   },
   "outputs": [
    {
     "data": {
      "text/html": [
       "<div>\n",
       "<style scoped>\n",
       "    .dataframe tbody tr th:only-of-type {\n",
       "        vertical-align: middle;\n",
       "    }\n",
       "\n",
       "    .dataframe tbody tr th {\n",
       "        vertical-align: top;\n",
       "    }\n",
       "\n",
       "    .dataframe thead th {\n",
       "        text-align: right;\n",
       "    }\n",
       "</style>\n",
       "<table border=\"1\" class=\"dataframe\">\n",
       "  <thead>\n",
       "    <tr style=\"text-align: right;\">\n",
       "      <th></th>\n",
       "      <th>Unnamed: 0</th>\n",
       "      <th>Framework Title</th>\n",
       "      <th>Type</th>\n",
       "      <th>Pillar</th>\n",
       "      <th>Sub-pillar</th>\n",
       "      <th>Virtual Type</th>\n",
       "      <th>Virtual Pillar</th>\n",
       "      <th>Virtual Sub-pillar</th>\n",
       "      <th>First-pass</th>\n",
       "      <th>Verified</th>\n",
       "      <th>Reversible</th>\n",
       "      <th>Cover</th>\n",
       "      <th>analysis_framework_id</th>\n",
       "      <th>Framework Name</th>\n",
       "    </tr>\n",
       "  </thead>\n",
       "  <tbody>\n",
       "  </tbody>\n",
       "</table>\n",
       "</div>"
      ],
      "text/plain": [
       "Empty DataFrame\n",
       "Columns: [Unnamed: 0, Framework Title, Type, Pillar, Sub-pillar, Virtual Type, Virtual Pillar, Virtual Sub-pillar, First-pass, Verified, Reversible, Cover, analysis_framework_id, Framework Name]\n",
       "Index: []"
      ]
     },
     "execution_count": 63,
     "metadata": {},
     "output_type": "execute_result"
    }
   ],
   "source": [
    "matching_1d_mat[matching_1d_mat[\"analysis_framework_id\"].isna()]"
   ]
  },
  {
   "cell_type": "code",
   "execution_count": 64,
   "metadata": {
    "ExecuteTime": {
     "end_time": "2021-09-02T19:19:16.864848Z",
     "start_time": "2021-09-02T19:19:16.861811Z"
    }
   },
   "outputs": [],
   "source": [
    "pillar_name_mapper_1d = dict()\n",
    "subpillar_name_mapper_1d = dict()\n",
    "for pillar, fpillar, subpillar, fsubpillar, af_id in zip(\n",
    "        matching_1d_mat[\"Pillar\"], matching_1d_mat[\"Virtual Pillar\"],\n",
    "        matching_1d_mat[\"Sub-pillar\"],\n",
    "        matching_1d_mat[\"Virtual Sub-pillar\"], matching_1d_mat[\"analysis_framework_id\"]):\n",
    "    pillar = str(af_id) + \"->\" + pillar + \"->\" + subpillar\n",
    "    pillar_name_mapper_1d[pillar] = fpillar\n",
    "    subpillar_name_mapper_1d[pillar] = fpillar + \"->\" + fsubpillar"
   ]
  },
  {
   "cell_type": "code",
   "execution_count": 65,
   "metadata": {
    "ExecuteTime": {
     "end_time": "2021-09-02T19:19:23.127674Z",
     "start_time": "2021-09-02T19:19:23.123170Z"
    }
   },
   "outputs": [],
   "source": [
    "def sector_mapper(sec):\n",
    "    if sec == sec:\n",
    "        sectors =  [sector_name_mapper.get(s, \"\") for s in sec]\n",
    "        return [sec for sec in sectors if sec]\n",
    "    return []\n",
    "##\n",
    "def pillar_mapper(dim):\n",
    "    if dim == dim:\n",
    "        dim = [pillar_name_mapper.get(d, \"\") for d in dim]\n",
    "        return [d for d in dim if d]\n",
    "    return []\n",
    "##\n",
    "def subpillar_mapper(subdim):\n",
    "    if subdim == subdim:\n",
    "        subdim = [subpillar_name_mapper.get(d, \"\") for d in subdim]\n",
    "        return [d for d in subdim if d]\n",
    "    return []\n",
    "##\n",
    "def pillar_mapper_1d(pill):\n",
    "    if pill == pill:\n",
    "        pill = [pillar_name_mapper_1d.get(p, \"\") for p in pill]\n",
    "        return [p for p in pill if p]\n",
    "    return []\n",
    "##\n",
    "def subpillar_mapper_1d(subpill):\n",
    "    if subpill == subpill:\n",
    "        subpill = [subpillar_name_mapper_1d.get(p, \"\") for p in subpill]\n",
    "        return [p for p in subpill if p]\n",
    "    return []"
   ]
  },
  {
   "cell_type": "code",
   "execution_count": 66,
   "metadata": {
    "ExecuteTime": {
     "end_time": "2021-09-02T19:19:30.249668Z",
     "start_time": "2021-09-02T19:19:29.376434Z"
    }
   },
   "outputs": [],
   "source": [
    "final_df[\"sectors\"] = final_df[\"sectors\"].apply(sector_mapper)\n",
    "final_df[\"subpillars_2d\"] = final_df[\"pillars\"].apply(subpillar_mapper)\n",
    "final_df[\"pillars_2d\"] = final_df[\"pillars\"].apply(pillar_mapper)\n",
    "##\n",
    "final_df[\"subpillars_1d\"] = final_df[\"pillars_1d\"].apply(subpillar_mapper_1d)\n",
    "final_df[\"pillars_1d\"] = final_df[\"pillars_1d\"].apply(pillar_mapper_1d)"
   ]
  },
  {
   "cell_type": "code",
   "execution_count": 67,
   "metadata": {
    "ExecuteTime": {
     "end_time": "2021-09-02T19:19:39.886957Z",
     "start_time": "2021-09-02T19:19:39.884108Z"
    }
   },
   "outputs": [
    {
     "data": {
      "text/plain": [
       "Index(['entry_id', 'created_at', 'modified_at', 'excerpt', 'entry_type',\n",
       "       'analysis_framework_id', 'created_by_id', 'lead_id', 'modified_by_id',\n",
       "       'information_date', 'order', 'project_id', 'verified', 'tags',\n",
       "       'tags_str', 'pillars', 'sectors', 'subsectors', 'label_2d',\n",
       "       'pillars_1d', 'subpillars_2d', 'pillars_2d', 'subpillars_1d'],\n",
       "      dtype='object')"
      ]
     },
     "execution_count": 67,
     "metadata": {},
     "output_type": "execute_result"
    }
   ],
   "source": [
    "final_df.columns"
   ]
  },
  {
   "cell_type": "code",
   "execution_count": 68,
   "metadata": {
    "ExecuteTime": {
     "end_time": "2021-09-02T19:19:49.492071Z",
     "start_time": "2021-09-02T19:19:49.437750Z"
    }
   },
   "outputs": [
    {
     "data": {
      "text/plain": [
       "[('Health', 30329),\n",
       " ('Protection', 24706),\n",
       " ('Cross', 22003),\n",
       " ('Livelihoods', 14462),\n",
       " ('Food Security', 12599),\n",
       " ('WASH', 9852),\n",
       " ('Shelter', 9252),\n",
       " ('Education', 8933),\n",
       " ('Nutrition', 3825),\n",
       " ('Agriculture', 3394),\n",
       " ('Logistics', 3155)]"
      ]
     },
     "execution_count": 68,
     "metadata": {},
     "output_type": "execute_result"
    }
   ],
   "source": [
    "secs_unique = set()\n",
    "secs_occurances = list()\n",
    "for secs in final_df[\"sectors\"]:\n",
    "    secs_unique.update(secs)\n",
    "    secs_occurances.extend(secs)\n",
    "#secs_unique\n",
    "Counter(secs_occurances).most_common()"
   ]
  },
  {
   "cell_type": "code",
   "execution_count": 69,
   "metadata": {
    "ExecuteTime": {
     "end_time": "2021-09-02T19:19:59.063807Z",
     "start_time": "2021-09-02T19:19:59.011914Z"
    }
   },
   "outputs": [
    {
     "data": {
      "text/plain": [
       "[('Humanitarian Conditions', 53259),\n",
       " ('Impact', 38773),\n",
       " ('Capacities & Response', 18790),\n",
       " ('At Risk', 13443),\n",
       " ('Context', 3411),\n",
       " ('Priority Needs', 3164),\n",
       " ('Priority Interventions', 2822)]"
      ]
     },
     "execution_count": 69,
     "metadata": {},
     "output_type": "execute_result"
    }
   ],
   "source": [
    "pills_unique = set()\n",
    "pills_occurances = list()\n",
    "for pills in final_df[\"pillars_2d\"]:\n",
    "    pills_unique.update(pills)\n",
    "    pills_occurances.extend(pills)\n",
    "#pills_unique\n",
    "Counter(pills_occurances).most_common()"
   ]
  },
  {
   "cell_type": "code",
   "execution_count": 70,
   "metadata": {
    "ExecuteTime": {
     "end_time": "2021-09-02T19:20:08.350680Z",
     "start_time": "2021-09-02T19:20:08.301505Z"
    },
    "scrolled": false
   },
   "outputs": [
    {
     "data": {
      "text/plain": [
       "[('Humanitarian Conditions->Living Standards', 29565),\n",
       " ('Humanitarian Conditions->Physical And Mental Well Being', 17574),\n",
       " ('Impact->Impact On Systems, Services And Networks', 13964),\n",
       " ('Impact->Driver/Aggravating Factors', 13351),\n",
       " ('At Risk->Risk And Vulnerabilities', 13161),\n",
       " ('Capacities & Response->International Response', 10180),\n",
       " ('Impact->Impact On People', 9168),\n",
       " ('Capacities & Response->National Response', 5670),\n",
       " ('Humanitarian Conditions->Coping Mechanisms', 4778),\n",
       " ('Capacities & Response->Number Of People Reached/Response Gaps', 2653),\n",
       " ('Priority Interventions->Expressed By Humanitarian Staff', 2509),\n",
       " ('Impact->Number Of People Affected', 2290),\n",
       " ('Priority Needs->Expressed By Humanitarian Staff', 1603),\n",
       " ('Priority Needs->Expressed By Population', 1561),\n",
       " ('Humanitarian Conditions->Number Of People In Need', 1342),\n",
       " ('Context->Security & Stability', 1026),\n",
       " ('Context->Economy', 857),\n",
       " ('Context->Socio Cultural', 577),\n",
       " ('Context->Environment', 327),\n",
       " ('Priority Interventions->Expressed By Population', 313),\n",
       " ('Capacities & Response->Local Response', 287),\n",
       " ('At Risk->Number Of People At Risk', 282),\n",
       " ('Context->Legal & Policy', 261),\n",
       " ('Context->Demography', 193),\n",
       " ('Context->Politics', 170)]"
      ]
     },
     "execution_count": 70,
     "metadata": {},
     "output_type": "execute_result"
    }
   ],
   "source": [
    "subpills_unique = set()\n",
    "subpills_occurances = list()\n",
    "for subpills in final_df[\"subpillars_2d\"]:\n",
    "    subpills_unique.update(subpills)\n",
    "    subpills_occurances.extend(subpills)\n",
    "Counter(subpills_occurances).most_common()"
   ]
  },
  {
   "cell_type": "code",
   "execution_count": 71,
   "metadata": {
    "ExecuteTime": {
     "end_time": "2021-09-02T19:20:18.056295Z",
     "start_time": "2021-09-02T19:20:18.016572Z"
    }
   },
   "outputs": [
    {
     "data": {
      "text/plain": [
       "[('Context', 20935),\n",
       " ('Displacement', 6664),\n",
       " ('Casualties', 3964),\n",
       " ('Humanitarian Access', 2562),\n",
       " ('Shock/Event', 1147),\n",
       " ('Information and Communication', 987)]"
      ]
     },
     "execution_count": 71,
     "metadata": {},
     "output_type": "execute_result"
    }
   ],
   "source": [
    "pills_unique_1d = set()\n",
    "pills_occurances_1d = list()\n",
    "for pills_1d in final_df[\"pillars_1d\"]:\n",
    "    pills_unique_1d.update(pills_1d)\n",
    "    pills_occurances_1d.extend(pills_1d)\n",
    "#pills_unique_1d\n",
    "Counter(pills_occurances_1d).most_common()"
   ]
  },
  {
   "cell_type": "code",
   "execution_count": 72,
   "metadata": {
    "ExecuteTime": {
     "end_time": "2021-09-02T19:20:27.661152Z",
     "start_time": "2021-09-02T19:20:27.621501Z"
    },
    "scrolled": true
   },
   "outputs": [
    {
     "data": {
      "text/plain": [
       "[('Context->Security & Stability', 7203),\n",
       " ('Context->Demography', 4493),\n",
       " ('Context->Economy', 4086),\n",
       " ('Casualties->Dead', 3041),\n",
       " ('Displacement->Type/Numbers/Movements', 2842),\n",
       " ('Context->Politics', 2301),\n",
       " ('Humanitarian Access->Physical constraints', 2084),\n",
       " ('Displacement->Push factors', 1955),\n",
       " ('Displacement->Local integration', 1270),\n",
       " ('Context->Socio Cultural', 1147),\n",
       " ('Context->Environment', 917),\n",
       " ('Context->Legal & Policy', 788),\n",
       " ('Shock/Event->Type and characteristics', 666),\n",
       " ('Casualties->Injured', 660),\n",
       " ('Shock/Event->Hazard & Threats', 481),\n",
       " ('Humanitarian Access->Number of people facing humanitarian access constraints/Humanitarian access gaps',\n",
       "  478),\n",
       " ('Information and Communication->Knowledge and info gaps (pop)', 448),\n",
       " ('Information and Communication->Communication means and preferences', 344),\n",
       " ('Displacement->Pull factors', 333),\n",
       " ('Displacement->Intentions', 264),\n",
       " ('Casualties->Missing', 263),\n",
       " ('Information and Communication->Information challenges and barriers', 149),\n",
       " ('Information and Communication->Knowledge and info gaps (hum)', 46)]"
      ]
     },
     "execution_count": 72,
     "metadata": {},
     "output_type": "execute_result"
    }
   ],
   "source": [
    "subpills_unique_1d = set()\n",
    "subpills_occurances_1d = list()\n",
    "for subpills_1d in final_df[\"subpillars_1d\"]:\n",
    "    subpills_unique_1d.update(subpills_1d)\n",
    "    subpills_occurances_1d.extend(subpills_1d)\n",
    "#subpills_unique_1d\n",
    "Counter(subpills_occurances_1d).most_common()"
   ]
  },
  {
   "cell_type": "code",
   "execution_count": 73,
   "metadata": {
    "ExecuteTime": {
     "end_time": "2021-09-02T19:20:37.311740Z",
     "start_time": "2021-09-02T19:20:37.248143Z"
    }
   },
   "outputs": [
    {
     "data": {
      "text/plain": [
       "(29936, 90614, 102868)"
      ]
     },
     "execution_count": 73,
     "metadata": {},
     "output_type": "execute_result"
    }
   ],
   "source": [
    "final_df[\"subpillars_1d\"].apply(lambda x:x!=[]).sum(),\\\n",
    "final_df[\"subpillars_2d\"].apply(lambda x:x!=[]).sum(),\\\n",
    "final_df[\"sectors\"].apply(lambda x:x!=[]).sum()"
   ]
  },
  {
   "cell_type": "code",
   "execution_count": null,
   "metadata": {},
   "outputs": [],
   "source": []
  },
  {
   "cell_type": "markdown",
   "metadata": {},
   "source": [
    "### Splitting"
   ]
  },
  {
   "cell_type": "code",
   "execution_count": null,
   "metadata": {
    "ExecuteTime": {
     "end_time": "2021-09-02T19:16:22.016349Z",
     "start_time": "2021-09-02T19:16:21.775Z"
    }
   },
   "outputs": [],
   "source": [
    "# add columns for sectors\n",
    "for sector in secs_unique:\n",
    "    final_df[sector] = 0\n",
    "# add columns for dimensions\n",
    "for pillar in pills_unique:\n",
    "    final_df[pillar] = 0\n",
    "# add columns for subdimensions\n",
    "for subpillar in subpills_unique:\n",
    "    final_df[subpillar] = 0\n",
    "## add columns for 1d pillars\n",
    "for pillar_1d in pills_unique_1d:\n",
    "    final_df[pillar_1d] = 0\n",
    "## add columns for 1d subpillars\n",
    "for subpillar_1d in subpills_unique_1d:\n",
    "    final_df[subpillar_1d] = 0"
   ]
  },
  {
   "cell_type": "code",
   "execution_count": null,
   "metadata": {
    "ExecuteTime": {
     "end_time": "2021-09-02T19:16:22.017046Z",
     "start_time": "2021-09-02T19:16:21.778Z"
    }
   },
   "outputs": [],
   "source": [
    "for row in tqdm(final_df.iterrows(), total=final_df.shape[0]):\n",
    "    sectors_i = row[1][\"sectors\"]\n",
    "    pillars_i = row[1][\"pillars\"]\n",
    "    subpillars_i = row[1][\"subpillars\"]\n",
    "    pillars_1d_i = row[1][\"pillars_1d\"]\n",
    "    subpillars_1d_i = row[1][\"subpillars_1d\"]\n",
    "    idx = row[0]\n",
    "    for sector in sectors_i:\n",
    "        final_df.loc[idx, sector] = 1\n",
    "    for pillar in pillars_i:\n",
    "        final_df.loc[idx, pillar] = 1\n",
    "    for subpillar in subpillars_i:\n",
    "        final_df.loc[idx, subpillar] = 1\n",
    "    for pillar_1d in pillars_1d_i:\n",
    "        final_df.loc[idx, pillar_1d] = 1\n",
    "    for subpillar_1d in subpillars_1d_i:\n",
    "        final_df.loc[idx, subpillar_1d] = 1"
   ]
  },
  {
   "cell_type": "code",
   "execution_count": null,
   "metadata": {
    "ExecuteTime": {
     "end_time": "2021-09-02T19:16:22.017833Z",
     "start_time": "2021-09-02T19:16:21.781Z"
    }
   },
   "outputs": [],
   "source": [
    "classes = list(secs_unique) + list(pills_unique) + list(\n",
    "    subpills_unique) + list(pills_unique_1d) + list(subpills_unique_1d)\n",
    "len(classes)"
   ]
  },
  {
   "cell_type": "code",
   "execution_count": null,
   "metadata": {
    "ExecuteTime": {
     "end_time": "2021-09-02T19:16:22.018502Z",
     "start_time": "2021-09-02T19:16:21.783Z"
    },
    "scrolled": true
   },
   "outputs": [],
   "source": [
    "final_df[classes].sum().astype(int)"
   ]
  },
  {
   "cell_type": "markdown",
   "metadata": {},
   "source": [
    "### Stratified Split"
   ]
  },
  {
   "cell_type": "code",
   "execution_count": null,
   "metadata": {
    "ExecuteTime": {
     "end_time": "2021-09-02T19:16:22.019251Z",
     "start_time": "2021-09-02T19:16:21.787Z"
    }
   },
   "outputs": [],
   "source": [
    "from skmultilearn.model_selection import iterative_train_test_split\n",
    "from skmultilearn.model_selection.measures import get_combination_wise_output_matrix"
   ]
  },
  {
   "cell_type": "code",
   "execution_count": null,
   "metadata": {
    "ExecuteTime": {
     "end_time": "2021-09-02T19:16:22.020216Z",
     "start_time": "2021-09-02T19:16:21.790Z"
    }
   },
   "outputs": [],
   "source": [
    "def train_val_test_df_split(df):\n",
    "    class_to_id = {clss: i for i, clss in enumerate(classes)}\n",
    "    num_classes = len(classes)\n",
    "    labels = np.zeros([len(df), num_classes])\n",
    "    for i, (sectors_i, pillars_i, subpillars_i, pillars_1d_i,\n",
    "            subpillars_1d_i) in enumerate(\n",
    "                zip(df[\"sectors\"], df[\"pillars_2d\"], df[\"subpillars_2d\"],\n",
    "                    df[\"pillars_1d\"], df[\"subpillars_1d\"])):\n",
    "        for sec in sectors_i:\n",
    "            labels[i, class_to_id[sec]] = 1\n",
    "        for pil in pillars_i:\n",
    "            labels[i, class_to_id[pil]] = 1\n",
    "        for subpil in subpillars_i:\n",
    "            labels[i, class_to_id[subpil]] = 1\n",
    "        for pil_1d in pillars_1d_i:\n",
    "            labels[i, class_to_id[pil_1d]] = 1\n",
    "        for subpil_1d in subpillars_1d_i:\n",
    "            labels[i, class_to_id[subpil_1d]] = 1\n",
    "    ##\n",
    "    X_train, y_train, X_test, y_test = iterative_train_test_split(\n",
    "        df[\"excerpt\"].to_numpy().reshape(-1, 1), labels, test_size=0.1)\n",
    "    X_train, y_train, X_val, y_val = iterative_train_test_split(X_train,\n",
    "                                                                y_train,\n",
    "                                                                test_size=0.1)\n",
    "    return {\n",
    "        \"X_train\": X_train,\n",
    "        \"y_train\": y_train,\n",
    "        \"X_test\": X_test,\n",
    "        \"y_test\": y_test,\n",
    "        \"X_val\": X_val,\n",
    "        \"y_val\": y_val\n",
    "    }"
   ]
  },
  {
   "cell_type": "code",
   "execution_count": null,
   "metadata": {
    "ExecuteTime": {
     "end_time": "2021-09-02T19:16:22.021287Z",
     "start_time": "2021-09-02T19:16:21.793Z"
    }
   },
   "outputs": [],
   "source": [
    "df = final_df[[\n",
    "    'entry_id',\n",
    "    'lead_id',\n",
    "    'project_id',\n",
    "    'analysis_framework_id',\n",
    "    'excerpt',\n",
    "    'created_by_id',\n",
    "    'modified_by_id',\n",
    "    'verified',\n",
    "    'sectors',\n",
    "    'pillars',\n",
    "    'subpillars',\n",
    "    'pillars_1d',\n",
    "    'subpillars_1d',\n",
    "]]\n",
    "df.columns = [\n",
    "    'entry_id',\n",
    "    'lead_id',\n",
    "    'project_id',\n",
    "    'analysis_framework_id',\n",
    "    'excerpt',\n",
    "    'created_by_id',\n",
    "    'modified_by_id',\n",
    "    'verified',\n",
    "    'sectors',\n",
    "    'pillars_2d',\n",
    "    'subpillars_2d',\n",
    "    'pillars_1d',\n",
    "    'subpillars_1d',\n",
    "]"
   ]
  },
  {
   "cell_type": "code",
   "execution_count": null,
   "metadata": {
    "ExecuteTime": {
     "end_time": "2021-09-02T19:16:22.022320Z",
     "start_time": "2021-09-02T19:16:21.796Z"
    }
   },
   "outputs": [],
   "source": [
    "X_train, y_train, X_test, y_test, X_val, y_val = list(\n",
    "    train_val_test_df_split(df).values())"
   ]
  },
  {
   "cell_type": "code",
   "execution_count": null,
   "metadata": {
    "ExecuteTime": {
     "end_time": "2021-09-02T19:16:22.023139Z",
     "start_time": "2021-09-02T19:16:21.798Z"
    }
   },
   "outputs": [],
   "source": [
    "final_df_train = final_df[final_df[\"excerpt\"].isin(X_train.reshape(-1))]\n",
    "final_df_val = final_df[final_df[\"excerpt\"].isin(X_val.reshape(-1))]\n",
    "final_df_test = final_df[final_df[\"excerpt\"].isin(X_test.reshape(-1))]"
   ]
  },
  {
   "cell_type": "code",
   "execution_count": null,
   "metadata": {
    "ExecuteTime": {
     "end_time": "2021-09-02T19:16:22.023945Z",
     "start_time": "2021-09-02T19:16:21.801Z"
    }
   },
   "outputs": [],
   "source": [
    "df_train = df[df[\"excerpt\"].isin(X_train.reshape(-1))]\n",
    "df_val = df[df[\"excerpt\"].isin(X_val.reshape(-1))]\n",
    "df_test = df[df[\"excerpt\"].isin(X_test.reshape(-1))]"
   ]
  },
  {
   "cell_type": "code",
   "execution_count": null,
   "metadata": {
    "ExecuteTime": {
     "end_time": "2021-09-02T19:16:22.024738Z",
     "start_time": "2021-09-02T19:16:21.804Z"
    }
   },
   "outputs": [],
   "source": [
    "df_train.index & df_val.index, df_train.index & df_test.index, df_test.index & df_val.index "
   ]
  },
  {
   "cell_type": "code",
   "execution_count": null,
   "metadata": {
    "ExecuteTime": {
     "end_time": "2021-09-02T19:16:22.025500Z",
     "start_time": "2021-09-02T19:16:21.808Z"
    }
   },
   "outputs": [],
   "source": [
    "df_train.to_csv(\"data_v0.5.1_train.csv\", index=None)\n",
    "df_val.to_csv(\"data_v0.5.1_val.csv\", index=None)\n",
    "df_test.to_csv(\"data_v0.5.1_test.csv\", index=None)"
   ]
  },
  {
   "cell_type": "code",
   "execution_count": null,
   "metadata": {
    "ExecuteTime": {
     "end_time": "2021-09-02T19:16:22.026344Z",
     "start_time": "2021-09-02T19:16:21.811Z"
    }
   },
   "outputs": [],
   "source": [
    "df.to_csv(\"data_v0.5.1_full.csv\", index=None)"
   ]
  },
  {
   "cell_type": "code",
   "execution_count": null,
   "metadata": {},
   "outputs": [],
   "source": []
  },
  {
   "cell_type": "code",
   "execution_count": null,
   "metadata": {},
   "outputs": [],
   "source": []
  },
  {
   "cell_type": "code",
   "execution_count": null,
   "metadata": {},
   "outputs": [],
   "source": []
  },
  {
   "cell_type": "code",
   "execution_count": null,
   "metadata": {},
   "outputs": [],
   "source": []
  },
  {
   "cell_type": "code",
   "execution_count": null,
   "metadata": {},
   "outputs": [],
   "source": []
  }
 ],
 "metadata": {
  "kernelspec": {
   "display_name": "Python 3",
   "language": "python",
   "name": "python3"
  },
  "language_info": {
   "codemirror_mode": {
    "name": "ipython",
    "version": 3
   },
   "file_extension": ".py",
   "mimetype": "text/x-python",
   "name": "python",
   "nbconvert_exporter": "python",
   "pygments_lexer": "ipython3",
   "version": "3.8.5"
  },
  "varInspector": {
   "cols": {
    "lenName": 16,
    "lenType": 16,
    "lenVar": 40
   },
   "kernels_config": {
    "python": {
     "delete_cmd_postfix": "",
     "delete_cmd_prefix": "del ",
     "library": "var_list.py",
     "varRefreshCmd": "print(var_dic_list())"
    },
    "r": {
     "delete_cmd_postfix": ") ",
     "delete_cmd_prefix": "rm(",
     "library": "var_list.r",
     "varRefreshCmd": "cat(var_dic_list()) "
    }
   },
   "types_to_exclude": [
    "module",
    "function",
    "builtin_function_or_method",
    "instance",
    "_Feature"
   ],
   "window_display": false
  }
 },
 "nbformat": 4,
 "nbformat_minor": 4
}
