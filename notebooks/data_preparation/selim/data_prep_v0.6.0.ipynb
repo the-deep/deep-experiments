{
 "cells": [
  {
   "cell_type": "code",
   "execution_count": 1,
   "metadata": {
    "ExecuteTime": {
     "end_time": "2021-09-02T14:36:33.612375Z",
     "start_time": "2021-09-02T14:36:33.451031Z"
    }
   },
   "outputs": [],
   "source": [
    "import re\n",
    "import json\n",
    "import random\n",
    "from pprint import pprint\n",
    "from ast import literal_eval\n",
    "from collections import Counter, defaultdict\n",
    "\n",
    "import numpy as np\n",
    "import pandas as pd\n",
    "from tqdm.auto import tqdm"
   ]
  },
  {
   "cell_type": "code",
   "execution_count": 2,
   "metadata": {
    "ExecuteTime": {
     "end_time": "2021-09-02T14:36:33.674416Z",
     "start_time": "2021-09-02T14:36:33.672508Z"
    }
   },
   "outputs": [],
   "source": [
    "random.seed(2021)\n",
    "np.random.seed(2021)"
   ]
  },
  {
   "cell_type": "code",
   "execution_count": 3,
   "metadata": {
    "ExecuteTime": {
     "end_time": "2021-09-02T14:36:37.310278Z",
     "start_time": "2021-09-02T14:36:33.759240Z"
    },
    "code_folding": [],
    "scrolled": true
   },
   "outputs": [
    {
     "name": "stderr",
     "output_type": "stream",
     "text": [
      "/home/abdullah/anaconda3/lib/python3.8/site-packages/IPython/core/interactiveshell.py:3146: DtypeWarning: Columns (4) have mixed types.Specify dtype option on import or set low_memory=False.\n",
      "  has_raised = await self.run_ast_nodes(code_ast.body, cell_name,\n"
     ]
    }
   ],
   "source": [
    "# each line in this table correspond to single tagging of an entry.\n",
    "# an entry may have more than one tagging (e.g. a tag in 2D matrix, another in 1D matrix,\n",
    "# secondary tags, etc. )\n",
    "exportdata = pd.read_csv(\"exportdata.csv\")\n",
    "# I pulled entries related to projects chosen by Patrice\n",
    "entries = pd.read_csv(\"entries_of_projects_chosen_by_patrice.csv\")\n",
    "# The widgets of AF's, i.e. 2D matrices, 1D matrices, secondary tagging widgets, etc.\n",
    "af_widgets = pd.read_csv(\"af_widgets_of_interest.csv\")\n",
    "# Projects chosen by Patrice\n",
    "projects = pd.read_csv(\"projects_chosen_by_patrice.csv\")\n",
    "#\n",
    "exportables = pd.read_csv(\"af_exportables.csv\")\n",
    "# AF details\n",
    "afs = pd.read_csv(\"analysis_frameworks.csv\")\n",
    "# user ids, first names and last names\n",
    "users = pd.read_csv(\"user_names.csv\")\n",
    "# The matchin of pillar/sub-pillar names from different AFs into unified pillar/sub-pillar names\n",
    "matching_2d_mat = pd.read_csv(\"mat_2d_matching.csv\")\n",
    "matching_1d_mat = pd.read_csv(\"mat_1d_matching.csv\")"
   ]
  },
  {
   "cell_type": "code",
   "execution_count": 4,
   "metadata": {
    "ExecuteTime": {
     "end_time": "2021-09-02T14:36:39.420109Z",
     "start_time": "2021-09-02T14:36:39.416492Z"
    }
   },
   "outputs": [],
   "source": [
    "raw_name_to_tag_dict = {\n",
    "    \"Severity\":\"Severity\",\n",
    "    \"Severity (Needs assessment entries only)\":\"Severity\",\n",
    "    \"SEVERITY\":\"Severity\",\n",
    "    \n",
    "    \"Reliability\":\"Reliability\",\n",
    "    \"RELIABILITY\":\"Reliability\",\n",
    "    \n",
    "    \"Demographic Groups\":\"Demographic Groups\",\n",
    "    \"DEMOGRAPHIC GROUPS\":\"Demographic Groups\",\n",
    "    \n",
    "    \"Information date\":\"Information Date\",\n",
    "    \"Information Date\":\"Information Date\",\n",
    "    \"Date\":\"Information Date\",\n",
    "    \"DATE OF INFORMATION\":\"Information Date\",\n",
    "    \"Date range\":\"Information Date\",\n",
    "    \n",
    "    \"Geo Location\":\"Geo Location\",\n",
    "    \"LOCATION\":\"Geo Location\",\n",
    "    \"Geo location\":\"Geo Location\",\n",
    "    \"Country\":\"Geo Location\",\n",
    "    \"GEOLOCATIONS\":\"Geo Location\",\n",
    "    \n",
    "    \"Affected groups\":\"Affected Groups\",\n",
    "    \"AFFECTED GROUPS\":\"Affected Groups\",\n",
    "    \n",
    "    \"Specific Needs Groups\":\"Specific Needs Groups\",\n",
    "    \"SPECIFIC NEEDS GROUPS\":\"Specific Needs Groups\",\n",
    "}\n"
   ]
  },
  {
   "cell_type": "code",
   "execution_count": 5,
   "metadata": {
    "ExecuteTime": {
     "end_time": "2021-09-02T14:36:41.487466Z",
     "start_time": "2021-09-02T14:36:41.483170Z"
    }
   },
   "outputs": [],
   "source": [
    "def clean_titles(x):\n",
    "    if x in list(raw_name_to_tag_dict.keys()):\n",
    "        return raw_name_to_tag_dict[x]\n",
    "    return x\n",
    "\n",
    "\n",
    "af_widgets['title'] = af_widgets['title'].apply(clean_titles)"
   ]
  },
  {
   "cell_type": "code",
   "execution_count": 6,
   "metadata": {
    "ExecuteTime": {
     "end_time": "2021-09-02T14:36:43.620567Z",
     "start_time": "2021-09-02T14:36:43.568919Z"
    },
    "code_folding": []
   },
   "outputs": [],
   "source": [
    "# widget names of 2D matrices in the chosen AFs's\n",
    "mat2d_titles = [\n",
    "    s.upper() for s in [\n",
    "        #\"Pre-Crisis\",\n",
    "        #\"Shock/Event\",\n",
    "        #\"In-Crisis\",\n",
    "        \"Sectors\",\n",
    "        \"Sectoral Information\",\n",
    "        \"Matrix 2D\",\n",
    "    ]\n",
    "]\n",
    "# Pandas will read json objects as strings,\n",
    "# here I am converting them into Python dict objects\n",
    "af_widgets[\"properties\"] = af_widgets[\"properties\"].apply(json.loads)\n",
    "##\n",
    "mat2d_properties_ids = af_widgets[(\n",
    "    af_widgets[\"title\"].str.upper()).isin(mat2d_titles)][[\n",
    "        \"properties\", \"analysis_framework_id\"\n",
    "    ]]\n",
    "mat2d_properties = mat2d_properties_ids[\"properties\"].tolist()\n",
    "mat2d_ids = mat2d_properties_ids[\"analysis_framework_id\"].tolist()\n",
    "## 1D Matrices\n",
    "# widget names of 1D matrices in the chosen AFs's\n",
    "mat1d_titles = [\n",
    "    s.upper() for s in [\n",
    "        \"Operational Environment\",  # iMMAP, 2020 Okular, Okular Generic, Colombia-AF, Nigeria Situation Analysis (OA), IFRC Master Framework 2019\n",
    "        \"Cross Sector\",  #Rohingya Framework, IFRC Analytical Framework 2018, \n",
    "        \"Matrix 1D\",  # Situation Analysis Generic Yemen, \n",
    "        \"Cross Sectors\",  # Situation Analysis Generic Libya\n",
    "    ]\n",
    "]\n",
    "mat1d_titles = mat1d_titles + [\n",
    "    sub_s.title() for sub_s in ('Operational Environment - Dimension',\n",
    "                                'Operational Environment - Subdimension')\n",
    "]\n",
    "mat1d_properties_ids = af_widgets[(\n",
    "    af_widgets[\"title\"].str.upper()).isin(mat1d_titles)][[\n",
    "        \"properties\", \"analysis_framework_id\"\n",
    "    ]]\n",
    "mat1d_properties = mat1d_properties_ids[\"properties\"].tolist()\n",
    "mat1d_ids = mat1d_properties_ids[\"analysis_framework_id\"].tolist()"
   ]
  },
  {
   "cell_type": "code",
   "execution_count": 7,
   "metadata": {
    "ExecuteTime": {
     "end_time": "2021-09-02T14:36:46.359950Z",
     "start_time": "2021-09-02T14:36:46.353917Z"
    },
    "scrolled": true
   },
   "outputs": [],
   "source": [
    "afids_pillars_subpillars = dict()\n",
    "errors = []\n",
    "for mat, af_id in zip(mat2d_properties, mat2d_ids):\n",
    "    try:\n",
    "        dims = mat[\"data\"]['dimensions']\n",
    "        afids_pillars_subpillars[af_id] = {}\n",
    "        for dim in dims:\n",
    "            pillar = dim[\"title\"]\n",
    "            sub_pillars = []\n",
    "            for sub_pillar_dict in dim[\"subdimensions\"]:\n",
    "                sub_pillars.append(sub_pillar_dict[\"title\"])\n",
    "            afids_pillars_subpillars[af_id][pillar] = sub_pillars\n",
    "    except KeyError:\n",
    "        errors.append([mat, af_id])\n",
    "##\n",
    "afids_rows_cells = dict()\n",
    "for mat, af_id in zip(mat1d_properties, mat1d_ids):\n",
    "    try:\n",
    "        rows = mat[\"data\"]['rows']\n",
    "        afids_rows_cells[af_id] = {}\n",
    "        for row in rows:\n",
    "            pillar = row[\"title\"]\n",
    "            sub_pillars = []\n",
    "            for sub_pillar_dict in row[\"cells\"]:\n",
    "                sub_pillars.append(sub_pillar_dict[\"value\"])\n",
    "            afids_rows_cells[af_id][pillar] = sub_pillars\n",
    "    except KeyError:\n",
    "        errors.append([mat, af_id])"
   ]
  },
  {
   "cell_type": "code",
   "execution_count": 8,
   "metadata": {
    "ExecuteTime": {
     "end_time": "2021-09-02T14:36:50.116544Z",
     "start_time": "2021-09-02T14:36:49.121499Z"
    }
   },
   "outputs": [],
   "source": [
    "def extract_title(x):\n",
    "    if x[\"excel\"].get(\"title\"):\n",
    "        return x[\"excel\"][\"title\"]\n",
    "    elif x[\"excel\"].get(\"type\") == \"multiple\":\n",
    "        return x[\"excel\"][\"titles\"]\n",
    "##\n",
    "exportables[\"data\"] = exportables[\"data\"].apply(literal_eval)\n",
    "af_titles = exportables[\"data\"].apply(extract_title).tolist()"
   ]
  },
  {
   "cell_type": "code",
   "execution_count": 9,
   "metadata": {
    "ExecuteTime": {
     "end_time": "2021-09-02T14:36:53.001288Z",
     "start_time": "2021-09-02T14:36:52.941622Z"
    }
   },
   "outputs": [
    {
     "name": "stdout",
     "output_type": "stream",
     "text": [
      "(200243, 21) (1134710, 4)\n",
      "(155743, 21) (1134710, 4)\n"
     ]
    }
   ],
   "source": [
    "print(entries.shape, exportdata.shape)\n",
    "entries = entries[entries[\"entry_type\"].eq(\"excerpt\") & (~entries[\"excerpt\"].isna())]\n",
    "print(entries.shape, exportdata.shape)"
   ]
  },
  {
   "cell_type": "code",
   "execution_count": 10,
   "metadata": {
    "ExecuteTime": {
     "end_time": "2021-09-02T14:36:55.702021Z",
     "start_time": "2021-09-02T14:36:55.698977Z"
    }
   },
   "outputs": [],
   "source": [
    "exid_to_exdata = dict()\n",
    "for ex_id, ex_data in zip(exportables[\"id\"], exportables[\"data\"]):\n",
    "    exid_to_exdata[ex_id] = ex_data"
   ]
  },
  {
   "cell_type": "code",
   "execution_count": 11,
   "metadata": {
    "ExecuteTime": {
     "end_time": "2021-09-02T14:36:59.370644Z",
     "start_time": "2021-09-02T14:36:59.367452Z"
    }
   },
   "outputs": [],
   "source": [
    "widget_key_id_to_title = dict()\n",
    "for w_key, w_id, title in zip(af_widgets[\"key\"], af_widgets[\"widget_id\"], af_widgets[\"title\"]):\n",
    "    widget_key_id_to_title[(w_key, w_id)] = title"
   ]
  },
  {
   "cell_type": "code",
   "execution_count": 12,
   "metadata": {
    "ExecuteTime": {
     "end_time": "2021-09-02T14:37:03.092942Z",
     "start_time": "2021-09-02T14:37:03.087892Z"
    }
   },
   "outputs": [],
   "source": [
    "def exportdata_to_tag_title(row):\n",
    "    data = json.loads(row[1])\n",
    "    wkey, wid = None, None\n",
    "    if data.get(\"common\"):\n",
    "        wkey = data.get(\"common\").get(\"widget_key\")\n",
    "        wid = data[\"common\"].get(\"widget_id\")\n",
    "    if wkey and wid:\n",
    "        if widget_key_id_to_title.get((wkey, wid)):\n",
    "            return widget_key_id_to_title.get((wkey, wid))\n",
    "    if data.get(\"report\") and data[\"report\"].get(\"other\"):\n",
    "            if len(data[\"report\"][\"other\"]) == 1 and data[\"report\"][\"other\"][0].get(\"title\"):\n",
    "                if data[\"report\"][\"other\"][0][\"title\"]:\n",
    "                    return data[\"report\"][\"other\"][0][\"title\"]\n",
    "    if isinstance(data.get(\"excel\"), list) and len(data[\"excel\"])==1 and \\\n",
    "     data[\"excel\"][0].get(\"widget_key\") and data[\"excel\"][0].get(\"widget_id\"):\n",
    "        wkey = data[\"excel\"][0][\"widget_key\"]\n",
    "        wid = data[\"excel\"][0][\"widget_id\"]\n",
    "        if widget_key_id_to_title.get((wkey, wid)):\n",
    "            return widget_key_id_to_title.get((wkey, wid))\n",
    "    exportable_id = row[3]\n",
    "    if exid_to_exdata[exportable_id][\"excel\"].get(\"title\"):\n",
    "        return exid_to_exdata[exportable_id][\"excel\"][\"title\"]\n",
    "    elif exid_to_exdata[exportable_id][\"excel\"].get(\"type\") == \"multiple\":\n",
    "        return exid_to_exdata[exportable_id][\"excel\"][\"titles\"]\n",
    "    raise"
   ]
  },
  {
   "cell_type": "code",
   "execution_count": 13,
   "metadata": {
    "ExecuteTime": {
     "end_time": "2021-09-02T14:37:20.412230Z",
     "start_time": "2021-09-02T14:37:07.052907Z"
    }
   },
   "outputs": [],
   "source": [
    "exportdata[\"tag_title\"] = exportdata.apply(exportdata_to_tag_title, axis=1)"
   ]
  },
  {
   "cell_type": "code",
   "execution_count": 14,
   "metadata": {
    "ExecuteTime": {
     "end_time": "2021-09-02T14:37:24.030487Z",
     "start_time": "2021-09-02T14:37:24.026911Z"
    }
   },
   "outputs": [],
   "source": [
    "def exportdata_to_tag_value(row):\n",
    "    data = json.loads(row[1])\n",
    "    if isinstance(data[\"excel\"], list) and len(data[\"excel\"])==1:\n",
    "        return data[\"excel\"][0][\"value\"]\n",
    "    if data[\"excel\"].get(\"type\") == \"lists\":\n",
    "        return data[\"excel\"][\"values\"]\n",
    "    if isinstance(data[\"excel\"], dict) and \"value\" in data[\"excel\"]:\n",
    "        return data[\"excel\"].get(\"value\")\n",
    "    if isinstance(data[\"excel\"], dict) and \"values\" in data[\"excel\"]:\n",
    "        return data[\"excel\"].get(\"values\")\n",
    "    elif \"values\" in data[\"common\"]:\n",
    "        return data[\"common\"][\"values\"]\n",
    "    elif \"value\" in data[\"common\"]:\n",
    "        return data[\"common\"][\"value\"]\n",
    "    raise"
   ]
  },
  {
   "cell_type": "code",
   "execution_count": 15,
   "metadata": {
    "ExecuteTime": {
     "end_time": "2021-09-02T14:37:42.918140Z",
     "start_time": "2021-09-02T14:37:27.657960Z"
    }
   },
   "outputs": [],
   "source": [
    "exportdata[\"tag_value\"] = exportdata.apply(exportdata_to_tag_value, axis=1)"
   ]
  },
  {
   "cell_type": "code",
   "execution_count": 16,
   "metadata": {
    "ExecuteTime": {
     "end_time": "2021-09-02T14:37:46.803824Z",
     "start_time": "2021-09-02T14:37:46.801341Z"
    }
   },
   "outputs": [],
   "source": [
    "def title_case(tag):\n",
    "    if isinstance(tag, (list, tuple)):\n",
    "        return tuple([x.title() for x in tag])\n",
    "    return tag.title()"
   ]
  },
  {
   "cell_type": "code",
   "execution_count": 17,
   "metadata": {
    "ExecuteTime": {
     "end_time": "2021-09-02T14:37:51.214083Z",
     "start_time": "2021-09-02T14:37:50.748038Z"
    }
   },
   "outputs": [],
   "source": [
    "exportdata[\"tag_title\"] = exportdata[\"tag_title\"].apply(title_case)"
   ]
  },
  {
   "cell_type": "code",
   "execution_count": 18,
   "metadata": {
    "ExecuteTime": {
     "end_time": "2021-09-02T14:37:54.828789Z",
     "start_time": "2021-09-02T14:37:54.826721Z"
    }
   },
   "outputs": [],
   "source": [
    "mat_1d_and_flag_titles = [\n",
    "    'Flag', 'Operational Environment', 'Cross Sector','Temática',\n",
    "    ('Operational Environment - Dimension',\n",
    "     'Operational Environment - Subdimension'),\n",
    "    ('Flag - Dimension', 'Flag - Subdimension'),\n",
    "    ('High Level Tags - Dimension', 'High Level Tags - Subdimension')\n",
    "]"
   ]
  },
  {
   "cell_type": "code",
   "execution_count": 19,
   "metadata": {
    "ExecuteTime": {
     "end_time": "2021-09-02T14:37:58.448845Z",
     "start_time": "2021-09-02T14:37:58.447124Z"
    }
   },
   "outputs": [],
   "source": [
    "#exportdata.tag_title.unique()"
   ]
  },
  {
   "cell_type": "code",
   "execution_count": 20,
   "metadata": {
    "ExecuteTime": {
     "end_time": "2021-09-02T14:38:02.049623Z",
     "start_time": "2021-09-02T14:38:02.048015Z"
    }
   },
   "outputs": [],
   "source": [
    "#exportdata[exportdata[\"tag_title\"].isin([('Operational Environment - Dimension', 'Operational Environment - Subdimension')])][\"tag_value\"].tolist()\n",
    "#exportdata[exportdata[\"tag_title\"].eq('High Level Tags')][\"tag_value\"].tolist()"
   ]
  },
  {
   "cell_type": "code",
   "execution_count": 21,
   "metadata": {
    "ExecuteTime": {
     "end_time": "2021-09-02T14:38:05.669753Z",
     "start_time": "2021-09-02T14:38:05.667113Z"
    }
   },
   "outputs": [],
   "source": [
    "mat2d_titles = [s.title() for s in mat2d_titles]\n",
    "mat1d_titles = [\n",
    "    s.title() if isinstance(s, str) else (sub_s.title() for sub_s in s)\n",
    "    for s in mat1d_titles\n",
    "]\n",
    "mat_1d_and_flag_titles = [\n",
    "    s.title() if isinstance(s, str) else (sub_s.title() for sub_s in s)\n",
    "    for s in mat_1d_and_flag_titles\n",
    "]"
   ]
  },
  {
   "cell_type": "code",
   "execution_count": 22,
   "metadata": {
    "ExecuteTime": {
     "end_time": "2021-09-02T14:38:09.799779Z",
     "start_time": "2021-09-02T14:38:09.602936Z"
    }
   },
   "outputs": [],
   "source": [
    "exportdata_of_interest = exportdata[exportdata[\"tag_title\"].isin(\n",
    "    mat2d_titles + mat_1d_and_flag_titles)]"
   ]
  },
  {
   "cell_type": "code",
   "execution_count": 23,
   "metadata": {
    "ExecuteTime": {
     "end_time": "2021-09-02T14:38:13.591185Z",
     "start_time": "2021-09-02T14:38:13.584765Z"
    }
   },
   "outputs": [
    {
     "data": {
      "text/plain": [
       "((208540, 6), (155743, 21))"
      ]
     },
     "execution_count": 23,
     "metadata": {},
     "output_type": "execute_result"
    }
   ],
   "source": [
    "exportdata_of_interest.shape, entries.shape"
   ]
  },
  {
   "cell_type": "code",
   "execution_count": 24,
   "metadata": {
    "ExecuteTime": {
     "end_time": "2021-09-02T14:38:17.547110Z",
     "start_time": "2021-09-02T14:38:17.318486Z"
    }
   },
   "outputs": [],
   "source": [
    "entries_labeled = pd.merge(entries,\n",
    "                           exportdata_of_interest,\n",
    "                           how=\"inner\",\n",
    "                           left_on=\"id\",\n",
    "                           right_on=\"entry_id\",\n",
    "                           suffixes=('_entry', '_exportdata'))"
   ]
  },
  {
   "cell_type": "code",
   "execution_count": 25,
   "metadata": {
    "ExecuteTime": {
     "end_time": "2021-09-02T14:38:23.759519Z",
     "start_time": "2021-09-02T14:38:23.754215Z"
    }
   },
   "outputs": [
    {
     "data": {
      "text/plain": [
       "((157317,), (124247,))"
      ]
     },
     "execution_count": 25,
     "metadata": {},
     "output_type": "execute_result"
    }
   ],
   "source": [
    "entries_labeled[\"id_entry\"].shape, entries_labeled[\"id_entry\"].unique().shape"
   ]
  },
  {
   "cell_type": "code",
   "execution_count": 26,
   "metadata": {
    "ExecuteTime": {
     "end_time": "2021-09-02T14:38:29.881080Z",
     "start_time": "2021-09-02T14:38:29.878468Z"
    }
   },
   "outputs": [],
   "source": [
    "def agg_group(group):\n",
    "    tag_titles = group[\"tag_title\"]\n",
    "    tag_values = group[\"tag_value\"]\n",
    "    #\n",
    "    grouped = defaultdict(list)\n",
    "    for title, value in zip(tag_titles, tag_values):\n",
    "        if title in mat_1d_and_flag_titles:\n",
    "            grouped[\"Mat1D\"].extend(value)\n",
    "        elif title in mat2d_titles:\n",
    "            grouped[\"Mat2D\"].extend(value)\n",
    "    return grouped"
   ]
  },
  {
   "cell_type": "code",
   "execution_count": 27,
   "metadata": {
    "ExecuteTime": {
     "end_time": "2021-09-02T14:38:36.192370Z",
     "start_time": "2021-09-02T14:38:36.189097Z"
    }
   },
   "outputs": [
    {
     "data": {
      "text/plain": [
       "Index(['id_entry', 'created_at', 'modified_at', 'excerpt', 'image_raw',\n",
       "       'analysis_framework_id', 'created_by_id', 'lead_id', 'modified_by_id',\n",
       "       'entry_type', 'information_date', 'order', 'client_id', 'project_id',\n",
       "       'tabular_field_id', 'dropped_excerpt', 'highlight_hidden', 'verified',\n",
       "       'verification_last_changed_by_id', 'image_id', 'title', 'id_exportdata',\n",
       "       'data', 'entry_id', 'exportable_id', 'tag_title', 'tag_value'],\n",
       "      dtype='object')"
      ]
     },
     "execution_count": 27,
     "metadata": {},
     "output_type": "execute_result"
    }
   ],
   "source": [
    "entries_labeled.columns"
   ]
  },
  {
   "cell_type": "code",
   "execution_count": 28,
   "metadata": {
    "ExecuteTime": {
     "end_time": "2021-09-02T14:38:51.884344Z",
     "start_time": "2021-09-02T14:38:42.629539Z"
    },
    "scrolled": true
   },
   "outputs": [],
   "source": [
    "tags = entries_labeled.groupby(\"id_entry\").apply(agg_group)"
   ]
  },
  {
   "cell_type": "code",
   "execution_count": 29,
   "metadata": {
    "ExecuteTime": {
     "end_time": "2021-09-02T14:38:57.236329Z",
     "start_time": "2021-09-02T14:38:57.230632Z"
    }
   },
   "outputs": [],
   "source": [
    "entryids_tags = pd.DataFrame({\"entry_id\": tags.index, \"tags\": tags.values})"
   ]
  },
  {
   "cell_type": "code",
   "execution_count": 30,
   "metadata": {
    "ExecuteTime": {
     "end_time": "2021-09-02T14:39:02.691567Z",
     "start_time": "2021-09-02T14:39:02.688879Z"
    }
   },
   "outputs": [
    {
     "data": {
      "text/plain": [
       "(124247, 2)"
      ]
     },
     "execution_count": 30,
     "metadata": {},
     "output_type": "execute_result"
    }
   ],
   "source": [
    "entryids_tags.shape"
   ]
  },
  {
   "cell_type": "code",
   "execution_count": 31,
   "metadata": {
    "ExecuteTime": {
     "end_time": "2021-09-02T14:39:08.169740Z",
     "start_time": "2021-09-02T14:39:08.051655Z"
    }
   },
   "outputs": [
    {
     "data": {
      "text/html": [
       "<div>\n",
       "<style scoped>\n",
       "    .dataframe tbody tr th:only-of-type {\n",
       "        vertical-align: middle;\n",
       "    }\n",
       "\n",
       "    .dataframe tbody tr th {\n",
       "        vertical-align: top;\n",
       "    }\n",
       "\n",
       "    .dataframe thead th {\n",
       "        text-align: right;\n",
       "    }\n",
       "</style>\n",
       "<table border=\"1\" class=\"dataframe\">\n",
       "  <thead>\n",
       "    <tr style=\"text-align: right;\">\n",
       "      <th></th>\n",
       "      <th>id</th>\n",
       "      <th>created_at</th>\n",
       "      <th>modified_at</th>\n",
       "      <th>excerpt</th>\n",
       "      <th>image_raw</th>\n",
       "      <th>analysis_framework_id</th>\n",
       "      <th>created_by_id</th>\n",
       "      <th>lead_id</th>\n",
       "      <th>modified_by_id</th>\n",
       "      <th>entry_type</th>\n",
       "      <th>...</th>\n",
       "      <th>order</th>\n",
       "      <th>client_id</th>\n",
       "      <th>project_id</th>\n",
       "      <th>tabular_field_id</th>\n",
       "      <th>dropped_excerpt</th>\n",
       "      <th>highlight_hidden</th>\n",
       "      <th>verified</th>\n",
       "      <th>verification_last_changed_by_id</th>\n",
       "      <th>image_id</th>\n",
       "      <th>title</th>\n",
       "    </tr>\n",
       "  </thead>\n",
       "  <tbody>\n",
       "    <tr>\n",
       "      <th>0</th>\n",
       "      <td>25639</td>\n",
       "      <td>2019-03-24 11:25:28.055219+00</td>\n",
       "      <td>2019-03-25 04:27:17.715687+00</td>\n",
       "      <td>On March 19, search-andrescue personnel airlif...</td>\n",
       "      <td>NaN</td>\n",
       "      <td>273</td>\n",
       "      <td>26</td>\n",
       "      <td>10607</td>\n",
       "      <td>26</td>\n",
       "      <td>excerpt</td>\n",
       "      <td>...</td>\n",
       "      <td>13</td>\n",
       "      <td>odi4z54i</td>\n",
       "      <td>878</td>\n",
       "      <td>NaN</td>\n",
       "      <td>NaN</td>\n",
       "      <td>False</td>\n",
       "      <td>False</td>\n",
       "      <td>NaN</td>\n",
       "      <td>NaN</td>\n",
       "      <td>IFRC - Cyclone Idai, March 2019</td>\n",
       "    </tr>\n",
       "    <tr>\n",
       "      <th>2</th>\n",
       "      <td>102051</td>\n",
       "      <td>2020-05-28 10:15:38.075272+00</td>\n",
       "      <td>2020-06-17 10:23:13.365974+00</td>\n",
       "      <td>Currently, there are 139,771 confirmed cases i...</td>\n",
       "      <td>NaN</td>\n",
       "      <td>699</td>\n",
       "      <td>26</td>\n",
       "      <td>28940</td>\n",
       "      <td>657</td>\n",
       "      <td>excerpt</td>\n",
       "      <td>...</td>\n",
       "      <td>2</td>\n",
       "      <td>c5jrys5cq7vvjxju</td>\n",
       "      <td>1142</td>\n",
       "      <td>NaN</td>\n",
       "      <td>NaN</td>\n",
       "      <td>False</td>\n",
       "      <td>False</td>\n",
       "      <td>NaN</td>\n",
       "      <td>NaN</td>\n",
       "      <td>IFRC Turkey</td>\n",
       "    </tr>\n",
       "    <tr>\n",
       "      <th>4</th>\n",
       "      <td>21660</td>\n",
       "      <td>2019-02-08 11:27:52.756824+00</td>\n",
       "      <td>2019-02-08 11:27:53.091176+00</td>\n",
       "      <td>According to The Guardian, more than 9,000 ref...</td>\n",
       "      <td>NaN</td>\n",
       "      <td>552</td>\n",
       "      <td>657</td>\n",
       "      <td>8644</td>\n",
       "      <td>657</td>\n",
       "      <td>excerpt</td>\n",
       "      <td>...</td>\n",
       "      <td>2</td>\n",
       "      <td>x8t1upes</td>\n",
       "      <td>788</td>\n",
       "      <td>NaN</td>\n",
       "      <td>According to The Guardian, more than 9,000 ref...</td>\n",
       "      <td>False</td>\n",
       "      <td>False</td>\n",
       "      <td>NaN</td>\n",
       "      <td>NaN</td>\n",
       "      <td>Nigeria Situation Analysis (OA)</td>\n",
       "    </tr>\n",
       "    <tr>\n",
       "      <th>7</th>\n",
       "      <td>11245</td>\n",
       "      <td>2018-08-22 14:11:56.759863+00</td>\n",
       "      <td>2018-12-23 07:44:17.969986+00</td>\n",
       "      <td>Consideramos que tenemos que agotar nuestros r...</td>\n",
       "      <td>NaN</td>\n",
       "      <td>273</td>\n",
       "      <td>529</td>\n",
       "      <td>5274</td>\n",
       "      <td>529</td>\n",
       "      <td>excerpt</td>\n",
       "      <td>...</td>\n",
       "      <td>2</td>\n",
       "      <td>NaN</td>\n",
       "      <td>515</td>\n",
       "      <td>NaN</td>\n",
       "      <td>Consideramos que tenemos que agotar nuestros r...</td>\n",
       "      <td>False</td>\n",
       "      <td>False</td>\n",
       "      <td>NaN</td>\n",
       "      <td>NaN</td>\n",
       "      <td>Americas Regional Population Movement</td>\n",
       "    </tr>\n",
       "    <tr>\n",
       "      <th>9</th>\n",
       "      <td>96070</td>\n",
       "      <td>2020-04-16 03:56:55.509358+00</td>\n",
       "      <td>2020-04-16 05:46:07.41664+00</td>\n",
       "      <td>SANCAKTEPE SUB-PROVINCE: According to Baseline...</td>\n",
       "      <td>NaN</td>\n",
       "      <td>699</td>\n",
       "      <td>26</td>\n",
       "      <td>25511</td>\n",
       "      <td>26</td>\n",
       "      <td>excerpt</td>\n",
       "      <td>...</td>\n",
       "      <td>233</td>\n",
       "      <td>4ljiase9yfez69r9</td>\n",
       "      <td>1142</td>\n",
       "      <td>NaN</td>\n",
       "      <td>NaN</td>\n",
       "      <td>False</td>\n",
       "      <td>False</td>\n",
       "      <td>NaN</td>\n",
       "      <td>NaN</td>\n",
       "      <td>IFRC Turkey</td>\n",
       "    </tr>\n",
       "    <tr>\n",
       "      <th>...</th>\n",
       "      <td>...</td>\n",
       "      <td>...</td>\n",
       "      <td>...</td>\n",
       "      <td>...</td>\n",
       "      <td>...</td>\n",
       "      <td>...</td>\n",
       "      <td>...</td>\n",
       "      <td>...</td>\n",
       "      <td>...</td>\n",
       "      <td>...</td>\n",
       "      <td>...</td>\n",
       "      <td>...</td>\n",
       "      <td>...</td>\n",
       "      <td>...</td>\n",
       "      <td>...</td>\n",
       "      <td>...</td>\n",
       "      <td>...</td>\n",
       "      <td>...</td>\n",
       "      <td>...</td>\n",
       "      <td>...</td>\n",
       "      <td>...</td>\n",
       "    </tr>\n",
       "    <tr>\n",
       "      <th>200238</th>\n",
       "      <td>412992</td>\n",
       "      <td>2021-08-26 11:17:51.374539+00</td>\n",
       "      <td>2021-08-26 11:17:51.619955+00</td>\n",
       "      <td>Une structure sanitiare est fonctionnelle à Dj...</td>\n",
       "      <td>NaN</td>\n",
       "      <td>1306</td>\n",
       "      <td>3331</td>\n",
       "      <td>63087</td>\n",
       "      <td>3331</td>\n",
       "      <td>excerpt</td>\n",
       "      <td>...</td>\n",
       "      <td>8</td>\n",
       "      <td>cm3d79d0kddyqzu2</td>\n",
       "      <td>2225</td>\n",
       "      <td>NaN</td>\n",
       "      <td>NaN</td>\n",
       "      <td>False</td>\n",
       "      <td>False</td>\n",
       "      <td>NaN</td>\n",
       "      <td>NaN</td>\n",
       "      <td>IMMAP/DFS RDC</td>\n",
       "    </tr>\n",
       "    <tr>\n",
       "      <th>200239</th>\n",
       "      <td>412991</td>\n",
       "      <td>2021-08-26 11:17:51.280929+00</td>\n",
       "      <td>2021-08-26 11:18:13.743401+00</td>\n",
       "      <td>Dans la localité de Djaiba, les enseignants on...</td>\n",
       "      <td>NaN</td>\n",
       "      <td>1306</td>\n",
       "      <td>3331</td>\n",
       "      <td>63087</td>\n",
       "      <td>3331</td>\n",
       "      <td>excerpt</td>\n",
       "      <td>...</td>\n",
       "      <td>7</td>\n",
       "      <td>hyhsd18jbc2eokvo</td>\n",
       "      <td>2225</td>\n",
       "      <td>NaN</td>\n",
       "      <td>NaN</td>\n",
       "      <td>False</td>\n",
       "      <td>False</td>\n",
       "      <td>NaN</td>\n",
       "      <td>NaN</td>\n",
       "      <td>IMMAP/DFS RDC</td>\n",
       "    </tr>\n",
       "    <tr>\n",
       "      <th>200240</th>\n",
       "      <td>413010</td>\n",
       "      <td>2021-08-26 11:28:10.616471+00</td>\n",
       "      <td>2021-08-26 11:28:10.768735+00</td>\n",
       "      <td>L'activité économique a fortement ralenti en 2...</td>\n",
       "      <td>NaN</td>\n",
       "      <td>1306</td>\n",
       "      <td>3331</td>\n",
       "      <td>63089</td>\n",
       "      <td>3331</td>\n",
       "      <td>excerpt</td>\n",
       "      <td>...</td>\n",
       "      <td>4</td>\n",
       "      <td>n8dlm3201qf49png</td>\n",
       "      <td>2225</td>\n",
       "      <td>NaN</td>\n",
       "      <td>NaN</td>\n",
       "      <td>False</td>\n",
       "      <td>False</td>\n",
       "      <td>NaN</td>\n",
       "      <td>NaN</td>\n",
       "      <td>IMMAP/DFS RDC</td>\n",
       "    </tr>\n",
       "    <tr>\n",
       "      <th>200241</th>\n",
       "      <td>413011</td>\n",
       "      <td>2021-08-26 11:28:11.680335+00</td>\n",
       "      <td>2021-08-26 11:28:11.819706+00</td>\n",
       "      <td>L'inflation a grimpé en flèche, alimentée par ...</td>\n",
       "      <td>NaN</td>\n",
       "      <td>1306</td>\n",
       "      <td>3331</td>\n",
       "      <td>63089</td>\n",
       "      <td>3331</td>\n",
       "      <td>excerpt</td>\n",
       "      <td>...</td>\n",
       "      <td>5</td>\n",
       "      <td>baoh85cumwf9clca</td>\n",
       "      <td>2225</td>\n",
       "      <td>NaN</td>\n",
       "      <td>NaN</td>\n",
       "      <td>False</td>\n",
       "      <td>False</td>\n",
       "      <td>NaN</td>\n",
       "      <td>NaN</td>\n",
       "      <td>IMMAP/DFS RDC</td>\n",
       "    </tr>\n",
       "    <tr>\n",
       "      <th>200242</th>\n",
       "      <td>402428</td>\n",
       "      <td>2021-08-18 23:15:02.793657+00</td>\n",
       "      <td>2021-08-26 11:34:47.246964+00</td>\n",
       "      <td>Nariño | En Ipiales, el 26 de mayo se realizó ...</td>\n",
       "      <td>NaN</td>\n",
       "      <td>829</td>\n",
       "      <td>1403</td>\n",
       "      <td>63199</td>\n",
       "      <td>2765</td>\n",
       "      <td>excerpt</td>\n",
       "      <td>...</td>\n",
       "      <td>4</td>\n",
       "      <td>s63c4sr0ki6rdqst</td>\n",
       "      <td>1183</td>\n",
       "      <td>NaN</td>\n",
       "      <td>NaN</td>\n",
       "      <td>False</td>\n",
       "      <td>False</td>\n",
       "      <td>2765.0</td>\n",
       "      <td>NaN</td>\n",
       "      <td>UNHCR Colombia</td>\n",
       "    </tr>\n",
       "  </tbody>\n",
       "</table>\n",
       "<p>155743 rows × 21 columns</p>\n",
       "</div>"
      ],
      "text/plain": [
       "            id                     created_at                    modified_at  \\\n",
       "0        25639  2019-03-24 11:25:28.055219+00  2019-03-25 04:27:17.715687+00   \n",
       "2       102051  2020-05-28 10:15:38.075272+00  2020-06-17 10:23:13.365974+00   \n",
       "4        21660  2019-02-08 11:27:52.756824+00  2019-02-08 11:27:53.091176+00   \n",
       "7        11245  2018-08-22 14:11:56.759863+00  2018-12-23 07:44:17.969986+00   \n",
       "9        96070  2020-04-16 03:56:55.509358+00   2020-04-16 05:46:07.41664+00   \n",
       "...        ...                            ...                            ...   \n",
       "200238  412992  2021-08-26 11:17:51.374539+00  2021-08-26 11:17:51.619955+00   \n",
       "200239  412991  2021-08-26 11:17:51.280929+00  2021-08-26 11:18:13.743401+00   \n",
       "200240  413010  2021-08-26 11:28:10.616471+00  2021-08-26 11:28:10.768735+00   \n",
       "200241  413011  2021-08-26 11:28:11.680335+00  2021-08-26 11:28:11.819706+00   \n",
       "200242  402428  2021-08-18 23:15:02.793657+00  2021-08-26 11:34:47.246964+00   \n",
       "\n",
       "                                                  excerpt image_raw  \\\n",
       "0       On March 19, search-andrescue personnel airlif...       NaN   \n",
       "2       Currently, there are 139,771 confirmed cases i...       NaN   \n",
       "4       According to The Guardian, more than 9,000 ref...       NaN   \n",
       "7       Consideramos que tenemos que agotar nuestros r...       NaN   \n",
       "9       SANCAKTEPE SUB-PROVINCE: According to Baseline...       NaN   \n",
       "...                                                   ...       ...   \n",
       "200238  Une structure sanitiare est fonctionnelle à Dj...       NaN   \n",
       "200239  Dans la localité de Djaiba, les enseignants on...       NaN   \n",
       "200240  L'activité économique a fortement ralenti en 2...       NaN   \n",
       "200241  L'inflation a grimpé en flèche, alimentée par ...       NaN   \n",
       "200242  Nariño | En Ipiales, el 26 de mayo se realizó ...       NaN   \n",
       "\n",
       "        analysis_framework_id  created_by_id  lead_id  modified_by_id  \\\n",
       "0                         273             26    10607              26   \n",
       "2                         699             26    28940             657   \n",
       "4                         552            657     8644             657   \n",
       "7                         273            529     5274             529   \n",
       "9                         699             26    25511              26   \n",
       "...                       ...            ...      ...             ...   \n",
       "200238                   1306           3331    63087            3331   \n",
       "200239                   1306           3331    63087            3331   \n",
       "200240                   1306           3331    63089            3331   \n",
       "200241                   1306           3331    63089            3331   \n",
       "200242                    829           1403    63199            2765   \n",
       "\n",
       "       entry_type  ...  order         client_id project_id  tabular_field_id  \\\n",
       "0         excerpt  ...     13          odi4z54i        878               NaN   \n",
       "2         excerpt  ...      2  c5jrys5cq7vvjxju       1142               NaN   \n",
       "4         excerpt  ...      2          x8t1upes        788               NaN   \n",
       "7         excerpt  ...      2               NaN        515               NaN   \n",
       "9         excerpt  ...    233  4ljiase9yfez69r9       1142               NaN   \n",
       "...           ...  ...    ...               ...        ...               ...   \n",
       "200238    excerpt  ...      8  cm3d79d0kddyqzu2       2225               NaN   \n",
       "200239    excerpt  ...      7  hyhsd18jbc2eokvo       2225               NaN   \n",
       "200240    excerpt  ...      4  n8dlm3201qf49png       2225               NaN   \n",
       "200241    excerpt  ...      5  baoh85cumwf9clca       2225               NaN   \n",
       "200242    excerpt  ...      4  s63c4sr0ki6rdqst       1183               NaN   \n",
       "\n",
       "                                          dropped_excerpt highlight_hidden  \\\n",
       "0                                                     NaN            False   \n",
       "2                                                     NaN            False   \n",
       "4       According to The Guardian, more than 9,000 ref...            False   \n",
       "7       Consideramos que tenemos que agotar nuestros r...            False   \n",
       "9                                                     NaN            False   \n",
       "...                                                   ...              ...   \n",
       "200238                                                NaN            False   \n",
       "200239                                                NaN            False   \n",
       "200240                                                NaN            False   \n",
       "200241                                                NaN            False   \n",
       "200242                                                NaN            False   \n",
       "\n",
       "        verified  verification_last_changed_by_id  image_id  \\\n",
       "0          False                              NaN       NaN   \n",
       "2          False                              NaN       NaN   \n",
       "4          False                              NaN       NaN   \n",
       "7          False                              NaN       NaN   \n",
       "9          False                              NaN       NaN   \n",
       "...          ...                              ...       ...   \n",
       "200238     False                              NaN       NaN   \n",
       "200239     False                              NaN       NaN   \n",
       "200240     False                              NaN       NaN   \n",
       "200241     False                              NaN       NaN   \n",
       "200242     False                           2765.0       NaN   \n",
       "\n",
       "                                        title  \n",
       "0             IFRC - Cyclone Idai, March 2019  \n",
       "2                                 IFRC Turkey  \n",
       "4             Nigeria Situation Analysis (OA)  \n",
       "7       Americas Regional Population Movement  \n",
       "9                                 IFRC Turkey  \n",
       "...                                       ...  \n",
       "200238                          IMMAP/DFS RDC  \n",
       "200239                          IMMAP/DFS RDC  \n",
       "200240                          IMMAP/DFS RDC  \n",
       "200241                          IMMAP/DFS RDC  \n",
       "200242                         UNHCR Colombia  \n",
       "\n",
       "[155743 rows x 21 columns]"
      ]
     },
     "execution_count": 31,
     "metadata": {},
     "output_type": "execute_result"
    }
   ],
   "source": [
    "entries"
   ]
  },
  {
   "cell_type": "code",
   "execution_count": 32,
   "metadata": {
    "ExecuteTime": {
     "end_time": "2021-09-02T14:39:13.798322Z",
     "start_time": "2021-09-02T14:39:13.504797Z"
    }
   },
   "outputs": [
    {
     "name": "stdout",
     "output_type": "stream",
     "text": [
      "(155743, 21)\n",
      "(155743, 13)\n"
     ]
    }
   ],
   "source": [
    "entries_ = entries.rename({\"id\": \"entry_id\"}, axis=1, inplace=False)\n",
    "#\n",
    "print(entries.shape)\n",
    "#\n",
    "entries_ = entries_[[\n",
    "    'entry_id',\n",
    "    'created_at',\n",
    "    'modified_at',\n",
    "    'excerpt',\n",
    "    'entry_type',\n",
    "    'analysis_framework_id',\n",
    "    'created_by_id',\n",
    "    'lead_id',\n",
    "    'modified_by_id',\n",
    "    'information_date',\n",
    "    'order',\n",
    "    'project_id',\n",
    "    'verified',\n",
    "]].drop_duplicates()\n",
    "#\n",
    "print(entries_.shape)"
   ]
  },
  {
   "cell_type": "code",
   "execution_count": 33,
   "metadata": {
    "ExecuteTime": {
     "end_time": "2021-09-02T14:39:19.235249Z",
     "start_time": "2021-09-02T14:39:19.233467Z"
    }
   },
   "outputs": [],
   "source": [
    "# print(entries_labeled.shape)\n",
    "# entries_labeled = entries_labeled[[\n",
    "#     'entry_id',\n",
    "#     'created_at',\n",
    "#     'modified_at',\n",
    "#     'excerpt',\n",
    "#     'entry_type',\n",
    "#     'analysis_framework_id',\n",
    "#     'created_by_id',\n",
    "#     'lead_id',\n",
    "#     'modified_by_id',\n",
    "#     'information_date',\n",
    "#     'order',\n",
    "#     'project_id',\n",
    "#     #'dropped_excerpt',\n",
    "#     'verified',\n",
    "# ]].drop_duplicates()\n",
    "# print(entries_labeled.shape)"
   ]
  },
  {
   "cell_type": "code",
   "execution_count": 34,
   "metadata": {
    "ExecuteTime": {
     "end_time": "2021-09-02T14:39:24.711695Z",
     "start_time": "2021-09-02T14:39:24.660825Z"
    }
   },
   "outputs": [
    {
     "data": {
      "text/plain": [
       "((124247, 14),\n",
       " Index(['entry_id', 'created_at', 'modified_at', 'excerpt', 'entry_type',\n",
       "        'analysis_framework_id', 'created_by_id', 'lead_id', 'modified_by_id',\n",
       "        'information_date', 'order', 'project_id', 'verified', 'tags'],\n",
       "       dtype='object'))"
      ]
     },
     "execution_count": 34,
     "metadata": {},
     "output_type": "execute_result"
    }
   ],
   "source": [
    "entries_labeled = pd.merge(entries_, entryids_tags, on=\"entry_id\", how=\"inner\")\n",
    "entries_labeled.shape, entries_labeled.columns"
   ]
  },
  {
   "cell_type": "code",
   "execution_count": 35,
   "metadata": {
    "ExecuteTime": {
     "end_time": "2021-09-02T14:39:29.299677Z",
     "start_time": "2021-09-02T14:39:28.885274Z"
    }
   },
   "outputs": [
    {
     "data": {
      "text/plain": [
       "0"
      ]
     },
     "execution_count": 35,
     "metadata": {},
     "output_type": "execute_result"
    }
   ],
   "source": [
    "entries_labeled[\"tags_str\"] = entries_labeled[\"tags\"].apply(str)\n",
    "entries_labeled.duplicated(subset=[\"entry_id\", \"tags_str\"]).sum()"
   ]
  },
  {
   "cell_type": "code",
   "execution_count": 36,
   "metadata": {
    "ExecuteTime": {
     "end_time": "2021-09-02T14:39:33.413598Z",
     "start_time": "2021-09-02T14:39:33.407253Z"
    }
   },
   "outputs": [
    {
     "data": {
      "text/plain": [
       "0"
      ]
     },
     "execution_count": 36,
     "metadata": {},
     "output_type": "execute_result"
    }
   ],
   "source": [
    "entries_labeled[\"entry_id\"].duplicated().sum()"
   ]
  },
  {
   "cell_type": "code",
   "execution_count": 37,
   "metadata": {
    "ExecuteTime": {
     "end_time": "2021-09-02T14:39:37.563952Z",
     "start_time": "2021-09-02T14:39:37.561343Z"
    }
   },
   "outputs": [
    {
     "data": {
      "text/plain": [
       "(124247, 15)"
      ]
     },
     "execution_count": 37,
     "metadata": {},
     "output_type": "execute_result"
    }
   ],
   "source": [
    "entries_labeled.shape"
   ]
  },
  {
   "cell_type": "code",
   "execution_count": 38,
   "metadata": {
    "ExecuteTime": {
     "end_time": "2021-09-02T14:39:41.701431Z",
     "start_time": "2021-09-02T14:39:41.692758Z"
    }
   },
   "outputs": [
    {
     "data": {
      "text/plain": [
       "0"
      ]
     },
     "execution_count": 38,
     "metadata": {},
     "output_type": "execute_result"
    }
   ],
   "source": [
    "entries_labeled[\"tags\"].isna().sum()"
   ]
  },
  {
   "cell_type": "code",
   "execution_count": 39,
   "metadata": {
    "ExecuteTime": {
     "end_time": "2021-09-02T14:39:45.984623Z",
     "start_time": "2021-09-02T14:39:45.816733Z"
    }
   },
   "outputs": [
    {
     "data": {
      "text/plain": [
       "((155743, 21), (153382,))"
      ]
     },
     "execution_count": 39,
     "metadata": {},
     "output_type": "execute_result"
    }
   ],
   "source": [
    "entries.shape, entries[~entries[\"excerpt\"].isna()][\"excerpt\"].unique().shape"
   ]
  },
  {
   "cell_type": "code",
   "execution_count": 40,
   "metadata": {
    "ExecuteTime": {
     "end_time": "2021-09-02T14:39:50.066380Z",
     "start_time": "2021-09-02T14:39:50.063600Z"
    }
   },
   "outputs": [
    {
     "data": {
      "text/plain": [
       "((124247, 15),\n",
       " Index(['entry_id', 'created_at', 'modified_at', 'excerpt', 'entry_type',\n",
       "        'analysis_framework_id', 'created_by_id', 'lead_id', 'modified_by_id',\n",
       "        'information_date', 'order', 'project_id', 'verified', 'tags',\n",
       "        'tags_str'],\n",
       "       dtype='object'))"
      ]
     },
     "execution_count": 40,
     "metadata": {},
     "output_type": "execute_result"
    }
   ],
   "source": [
    "entries_labeled.shape, entries_labeled.columns"
   ]
  },
  {
   "cell_type": "code",
   "execution_count": 41,
   "metadata": {
    "ExecuteTime": {
     "end_time": "2021-09-02T14:39:54.153677Z",
     "start_time": "2021-09-02T14:39:54.145722Z"
    }
   },
   "outputs": [],
   "source": [
    "def tags_to_pillars(x):\n",
    "    tags = x[0]\n",
    "    af_id = x[1]\n",
    "    pillars = []\n",
    "    for tag_key, tag_value in tags.items():\n",
    "        if tag_key != \"Mat2D\":\n",
    "            continue\n",
    "        if len(tag_value):\n",
    "            for t in tag_value:\n",
    "                if t[0]:\n",
    "                    pillars.append(\n",
    "                        str(af_id) + \"->\" + t[0].title() + \"->\" + t[1].title())\n",
    "    return list(set(pillars))\n",
    "\n",
    "\n",
    "def tags_to_sectors(x):\n",
    "    tags = x[0]\n",
    "    af_id = x[1]\n",
    "    sectors = []\n",
    "    for tag_key, tag_value in tags.items():\n",
    "        if tag_key != \"Mat2D\":\n",
    "            continue\n",
    "        if len(tag_value):\n",
    "            for t in tag_value:\n",
    "                if len(t) > 2 and t[2]:\n",
    "                    sectors.append(t[2].title())\n",
    "    return list(set(sectors))\n",
    "\n",
    "\n",
    "def tags_to_subsectors(x):\n",
    "    tags = x[0]\n",
    "    af_id = x[1]\n",
    "    subsectors = []\n",
    "    for tag_key, tag_value in tags.items():\n",
    "        if tag_key != \"Mat2D\":\n",
    "            continue\n",
    "        if len(tag_value):\n",
    "            subsectors = []\n",
    "            for t in tag_value:\n",
    "                if len(t) > 3 and t[3]:\n",
    "                    if isinstance(t[3], list):\n",
    "                        subsectors.extend([x.title() for x in t[3]])\n",
    "                    else:\n",
    "                        subsectors.append(t[3].title())\n",
    "    return list(set(subsectors))\n",
    "\n",
    "\n",
    "##\n",
    "def tags_to_label2d(x):\n",
    "    tags = x[0]\n",
    "    af_id = x[1]\n",
    "    label2d = []\n",
    "    for tag_key, tag_value in tags.items():\n",
    "        if tag_key != \"Mat2D\":\n",
    "            continue\n",
    "        if len(tag_value):\n",
    "            for t in tag_value:\n",
    "                if t[0]:\n",
    "                    label2d.append(\"AF-ID:\" + str(af_id) + \"->Sector:\" +\n",
    "                                   t[2].title() + \"->Pillar:\" + t[0].title() +\n",
    "                                   \"->Sub-pillar:\" + t[1].title())\n",
    "    return list(set(label2d))\n",
    "\n",
    "\n",
    "##\n",
    "def tags_to_pillars_1d(x):\n",
    "    tags = x[0]\n",
    "    af_id = x[1]\n",
    "    pillars_1d = []\n",
    "    for tag_key, tag_value in tags.items():\n",
    "        if tag_key != \"Mat1D\":\n",
    "            continue\n",
    "        if len(tag_value):\n",
    "            for t in tag_value:\n",
    "                if t[0]:\n",
    "                    pillars_1d.append(\n",
    "                        str(af_id) + \"->\" + t[0].title() + \"->\" + t[1].title())\n",
    "    return list(set(pillars_1d))"
   ]
  },
  {
   "cell_type": "code",
   "execution_count": 42,
   "metadata": {
    "ExecuteTime": {
     "end_time": "2021-09-02T14:39:58.231423Z",
     "start_time": "2021-09-02T14:39:58.228158Z"
    }
   },
   "outputs": [
    {
     "data": {
      "text/plain": [
       "Index(['entry_id', 'created_at', 'modified_at', 'excerpt', 'entry_type',\n",
       "       'analysis_framework_id', 'created_by_id', 'lead_id', 'modified_by_id',\n",
       "       'information_date', 'order', 'project_id', 'verified', 'tags',\n",
       "       'tags_str'],\n",
       "      dtype='object')"
      ]
     },
     "execution_count": 42,
     "metadata": {},
     "output_type": "execute_result"
    }
   ],
   "source": [
    "entries_labeled.columns"
   ]
  },
  {
   "cell_type": "code",
   "execution_count": 43,
   "metadata": {
    "ExecuteTime": {
     "end_time": "2021-09-02T14:40:02.367471Z",
     "start_time": "2021-09-02T14:40:02.362691Z"
    }
   },
   "outputs": [],
   "source": [
    "x = entries_labeled[\"tags\"].tolist()[:3]"
   ]
  },
  {
   "cell_type": "code",
   "execution_count": 44,
   "metadata": {
    "ExecuteTime": {
     "end_time": "2021-09-02T14:40:06.463816Z",
     "start_time": "2021-09-02T14:40:06.461554Z"
    }
   },
   "outputs": [
    {
     "name": "stdout",
     "output_type": "stream",
     "text": [
      "Mat2D [['Humanitarian Conditions', 'Physical & mental wellbeing', 'Health', []]]\n"
     ]
    }
   ],
   "source": [
    "for k, v in x[1].items():\n",
    "    print(k, v)"
   ]
  },
  {
   "cell_type": "code",
   "execution_count": 45,
   "metadata": {
    "ExecuteTime": {
     "end_time": "2021-09-02T14:40:17.040270Z",
     "start_time": "2021-09-02T14:40:10.597480Z"
    },
    "scrolled": true
   },
   "outputs": [],
   "source": [
    "entries_labeled[\"pillars\"] = entries_labeled[[\"tags\", 'analysis_framework_id'\n",
    "                                              ]].apply(tags_to_pillars, axis=1)\n",
    "entries_labeled[\"sectors\"] = entries_labeled[[\"tags\", 'analysis_framework_id'\n",
    "                                              ]].apply(tags_to_sectors, axis=1)\n",
    "entries_labeled[\"subsectors\"] = entries_labeled[[\n",
    "    \"tags\", 'analysis_framework_id'\n",
    "]].apply(tags_to_subsectors, axis=1)\n",
    "##\n",
    "entries_labeled[\"label_2d\"] = entries_labeled[[\n",
    "    \"tags\", 'analysis_framework_id'\n",
    "]].apply(tags_to_label2d, axis=1)\n",
    "##\n",
    "entries_labeled[\"pillars_1d\"] = entries_labeled[[\"tags\", 'analysis_framework_id'\n",
    "                                              ]].apply(tags_to_pillars_1d, axis=1)"
   ]
  },
  {
   "cell_type": "code",
   "execution_count": 46,
   "metadata": {
    "ExecuteTime": {
     "end_time": "2021-09-02T14:40:21.449175Z",
     "start_time": "2021-09-02T14:40:21.200644Z"
    }
   },
   "outputs": [
    {
     "data": {
      "text/plain": [
       "(122355,)"
      ]
     },
     "execution_count": 46,
     "metadata": {},
     "output_type": "execute_result"
    }
   ],
   "source": [
    "entries_labeled[~entries_labeled[\"excerpt\"].isna()][\"excerpt\"].unique().shape"
   ]
  },
  {
   "cell_type": "code",
   "execution_count": 47,
   "metadata": {
    "ExecuteTime": {
     "end_time": "2021-09-02T14:40:25.660520Z",
     "start_time": "2021-09-02T14:40:25.613484Z"
    }
   },
   "outputs": [
    {
     "data": {
      "text/plain": [
       "(240,\n",
       " [('1306->Covid-19 Overview->Cases', 5353),\n",
       "  ('1306->Displacement->Type/Numbers/Movements', 3639),\n",
       "  ('1306->Context->Security & Stability', 3606),\n",
       "  ('1306->Covid-19 Overview->Deaths', 3007),\n",
       "  ('1306->Covid-19 Overview->Vaccination', 2663),\n",
       "  ('829->Displacement ->Displacement', 2449),\n",
       "  ('699->Humanitarian Profile->Affected Groups', 2439),\n",
       "  ('1306->Covid-19 Containment Measures->Public Health Measures', 2215),\n",
       "  ('1306->Context->Economy', 2161),\n",
       "  ('1306->Casualties->Dead', 2107),\n",
       "  ('829->Context->Legal Or Normative Framework', 1621),\n",
       "  ('1306->Displacement->Push Factors', 1591),\n",
       "  ('1306->Covid-19 Overview->Testing', 1580),\n",
       "  ('699->Context->Demography', 1299),\n",
       "  ('1306->Covid-19 Containment Measures->Movement Restrictions', 1247),\n",
       "  ('537->Humanitarian Profile->Affected Groups', 1114),\n",
       "  ('699->Humanitarian Profile->Casualties', 991),\n",
       "  ('552->Humanitarian Profile->Affected Groups', 987),\n",
       "  ('1306->Covid-19 Containment Measures->Physical Distancing', 857),\n",
       "  ('1004->Displacement Profile->Type/Numbers', 849),\n",
       "  ('1306->Covid-19 Communication & Information->Channels & Means', 820),\n",
       "  ('829->Context->Demographics', 799),\n",
       "  ('1306->Flag->Hazard & Threats', 784),\n",
       "  ('1306->Shock /Event/Ongoing Conditions->Type And Characteristics', 776),\n",
       "  ('829->Durable Solutions->Local Integration', 774),\n",
       "  ('1306->Humanitarian Access->Physical Constraints', 774),\n",
       "  ('699->Humanitarian Profile->Population Movement', 771),\n",
       "  ('1306->Covid-19 Communication & Information->Prevention Campaigns', 767),\n",
       "  ('1306->Context->Politics', 737),\n",
       "  ('1306->Covid-19 Communication & Information->Knowledge & Misinformation',\n",
       "   721),\n",
       "  ('1306->Flag->Response Gap', 693),\n",
       "  ('699->Humanitarian Profile->Push/Pull Factors', 684),\n",
       "  ('699->Flag->Hazard & Threats', 673),\n",
       "  ('552->Humanitarian Profile->Casualties', 633),\n",
       "  ('1306->Covid-19 Overview->Contact Tracing', 610),\n",
       "  ('699->Context->Economy', 609),\n",
       "  ('1306->Context->Legal & Policy', 586),\n",
       "  ('1306->Context->Environment', 585),\n",
       "  ('1306->Covid-19 Containment Measures->Lockdown', 572),\n",
       "  ('1306->Context->Socio Cultural', 549),\n",
       "  ('552->Context->Demography', 545),\n",
       "  ('1004->Casualties->Dead', 545),\n",
       "  ('829->Event/Shock->Aggravating Factors', 534),\n",
       "  ('1306->Displacement->Local Integration', 533),\n",
       "  ('829->Context->Economic', 531),\n",
       "  ('537->Humanitarian Profile->Casualties', 520),\n",
       "  ('1306->Context->Demography', 516),\n",
       "  ('1306->Covid-19 Overview->Hospitalization & Care', 503),\n",
       "  ('829->Context->Security', 494),\n",
       "  ('699->Flag->Overview', 480),\n",
       "  ('537->Context->Security', 476),\n",
       "  ('552->Humanitarian Profile->Push/Pull Factors', 473),\n",
       "  ('699->Event/Shock->Shock/Driver', 453),\n",
       "  ('829->Context->Political', 451),\n",
       "  ('699->Event/Shock->Underlying Factors/Pre-Existing Vulnerabilities', 445),\n",
       "  ('829->Displacement ->Push/Pull Factors', 412),\n",
       "  ('699->Context->Socio Cultural', 411),\n",
       "  ('552->Context->Security', 403),\n",
       "  ('1306->Flag->Information Gaps', 396),\n",
       "  ('1306->Humanitarian Access->Relief To Beneficiaries', 389),\n",
       "  ('1004->Displacement Profile->Movement', 382),\n",
       "  ('273->Humanitarian Profile->Affected Groups', 375),\n",
       "  ('829->Casualties->Dead', 359),\n",
       "  ('1306->Casualties->Injured', 351),\n",
       "  ('537->Humanitarian Profile->Push/Pull Factors', 348),\n",
       "  ('552->Humanitarian Profile->Population Movement', 344),\n",
       "  ('1306->Flag->Overview', 331),\n",
       "  ('1306->Shock /Event/Ongoing Conditions->Aggravating Factors', 331),\n",
       "  ('273->Context->Risk', 326),\n",
       "  ('1004->Context->Security', 322),\n",
       "  ('1004->Displacement Profile->Push Factors', 322),\n",
       "  ('1004->Context->Demography', 320),\n",
       "  ('1306->Flag->Stakeholders', 320),\n",
       "  ('1306->Displacement->Pull Factors', 306),\n",
       "  ('829->Context->Socio-Cultural', 302),\n",
       "  ('699->Humanitarian Access->Physical Constraints', 302),\n",
       "  ('1306->Flag->Key Event', 291),\n",
       "  ('495->Displacement->Affected Groups', 285),\n",
       "  ('1306->Covid-19 Overview->Research & Outlook', 278),\n",
       "  ('552->Flag->Hazard & Threats', 274),\n",
       "  ('273->Context->Overview', 257),\n",
       "  ('829->Event/Shock->Type And Characteristics', 248),\n",
       "  ('829->Displacement ->Intentions', 247),\n",
       "  ('273->Humanitarian Profile->Casualties Or Injured', 242),\n",
       "  ('495->Context->Economy', 238),\n",
       "  ('699->Context->Security', 237),\n",
       "  ('699->Information->Communication Means & Channels', 236),\n",
       "  ('699->Information->Information Needs & Gaps', 232),\n",
       "  ('1306->Humanitarian Access->Humanitarian Access Gaps', 228),\n",
       "  ('1004->Humanitarian Access->Physical Constraints', 219),\n",
       "  ('1306->Covid-19 Containment Measures->Compliance & Resistance To Measures',\n",
       "   219),\n",
       "  ('537->Humanitarian Profile->Population Movement', 218),\n",
       "  ('537->Context->Demography', 215),\n",
       "  ('1306->Casualties->Missing', 207),\n",
       "  ('1306->Displacement->Intentions', 205),\n",
       "  ('829->Displacement ->Local Integration', 200),\n",
       "  ('699->Flag->Key Event', 193),\n",
       "  ('699->Context->Legal  & Policy', 188),\n",
       "  ('1306->Covid-19 Communication & Information->Challenges & Barriers', 186),\n",
       "  ('273->Context->Politics', 179),\n",
       "  ('829->Context->Environment', 178),\n",
       "  ('699->Humanitarian Access->Relief To Beneficiaries', 175),\n",
       "  ('273->Humanitarian Access->Physical Constraints', 159),\n",
       "  ('495->Context->Security', 154),\n",
       "  ('699->Context->Politics', 153),\n",
       "  ('1004->Casualties->Injured', 152),\n",
       "  ('1306->Flag->Lessons Learnt', 151),\n",
       "  ('552->Humanitarian Access->Physical Constraints', 148),\n",
       "  ('273->Humanitarian Profile->Population Movement', 145),\n",
       "  ('495->Flag->Overview', 143),\n",
       "  ('273->Context->Key Events', 142),\n",
       "  ('273->Population Profile->Demographic Profile', 136),\n",
       "  ('829->Casualties->Injured', 129),\n",
       "  ('1004->Context->Economy', 121),\n",
       "  ('273->Population Profile->Population With Specific Needs', 117),\n",
       "  ('552->Flag->Stakeholders', 117),\n",
       "  ('495->Displacement->Casualties', 116),\n",
       "  ('495->Context->Politics', 114),\n",
       "  ('552->Flag->Overview', 114),\n",
       "  ('1004->Flag->Hazard & Threats', 113),\n",
       "  ('537->Flag->Stakeholders', 110),\n",
       "  ('537->Humanitarian Access->Physical Constraints', 109),\n",
       "  ('699->Humanitarian Access->Humanitarian Access Gaps', 109),\n",
       "  ('829->Event/Shock->Pre-Existing Vulnerabilities ', 103),\n",
       "  ('273->Context->Security', 102),\n",
       "  ('699->Flag->Stakeholders', 98),\n",
       "  ('1306->Humanitarian Access->Beneficiaries To Relief', 91),\n",
       "  ('829->Durable Solutions->Voluntary Repatriation', 83),\n",
       "  ('552->Humanitarian Access->Humanitarian Access Gaps', 81),\n",
       "  ('699->Context->Environment', 79),\n",
       "  ('1004->Context->Politics', 76),\n",
       "  ('495->Displacement->Displacement', 73),\n",
       "  ('699->Information->Information Challenges', 72),\n",
       "  ('495->Context->Demography', 72),\n",
       "  ('273->Communication ->Information Gaps', 69),\n",
       "  ('1004->Flag->Stakeholders', 69),\n",
       "  ('273->Context->Economy', 65),\n",
       "  ('1004->Humanitarian Access->Relief To Beneficiaries', 64),\n",
       "  ('829->Humanitarian Access->Pin To Relief', 62),\n",
       "  ('495->Displacement->Push/Pull Factors', 60),\n",
       "  ('495->Flag->Key Event', 59),\n",
       "  ('1004->Flag->Overview', 58),\n",
       "  ('537->Context->Politics', 57),\n",
       "  ('1004->Context->Legal/Policy', 57),\n",
       "  ('273->Communication ->Communication Means', 56),\n",
       "  ('829->Humanitarian Access->Relief To Pin', 55),\n",
       "  ('495->Humanitarian Access->Relief To Beneficiaries', 55),\n",
       "  ('699->Humanitarian Access->Beneficiaries To Relief', 55),\n",
       "  ('537->Flag->Hazard & Threats', 54),\n",
       "  ('829->Humanitarian Access->Physical Constraints', 54),\n",
       "  ('552->Information->Information Needs & Gaps', 53),\n",
       "  ('552->Context->Socio Cultural', 52),\n",
       "  ('273->Humanitarian Access->Relief To Beneficiaries', 50),\n",
       "  ('273->Context->Society And Community', 49),\n",
       "  ('552->Context->Politics', 49),\n",
       "  ('537->Information->Information Needs & Gaps', 47),\n",
       "  ('537->Flag->Overview', 45),\n",
       "  ('495->Context->Legal  & Policy', 44),\n",
       "  ('552->Humanitarian Access->Relief To Beneficiaries', 43),\n",
       "  ('552->Context->Economy', 41),\n",
       "  ('273->Humanitarian Access->Humanitarian Access Gaps', 41),\n",
       "  ('495->Event/Schock->Aggravating Factors', 41),\n",
       "  ('495->Flag->Stakeholders', 37),\n",
       "  ('273->Humanitarian Profile->Push/Pull Factors', 36),\n",
       "  ('1004->Humanitarian Access->Humanitarian Access Gaps', 35),\n",
       "  ('537->Context->Economy', 33),\n",
       "  ('829->Information And Communication->Info Barriers And Challenges', 32),\n",
       "  ('537->Context->Legal  & Policy', 30),\n",
       "  ('495->Information->Information Needs & Gaps', 30),\n",
       "  ('829->Casualties->Missing', 30),\n",
       "  ('552->Information->Information Challenges', 28),\n",
       "  ('273->Communication ->Information Needs', 27),\n",
       "  ('1004->Information->Communication Means', 27),\n",
       "  ('1004->Flag->Key Event', 27),\n",
       "  ('537->Humanitarian Access->Relief To Beneficiaries', 26),\n",
       "  ('552->Information->Communication Means & Channels', 26),\n",
       "  ('1004->Information->Information Gaps', 25),\n",
       "  ('273->Communication ->Information Challenges', 23),\n",
       "  ('495->Context->Socio Cultural', 23),\n",
       "  ('1004->Displacement Profile->Pull Factors', 22),\n",
       "  ('537->Flag->Key Event', 21),\n",
       "  ('495->Context->Environment', 21),\n",
       "  ('495->Humanitarian Access->Physical Constraints', 20),\n",
       "  ('273->Population Profile->Economic Profile', 19),\n",
       "  ('495->Flag->Hazard/Threats/Risk', 19),\n",
       "  ('552->Flag->Key Event', 19),\n",
       "  ('1004->Casualties->Missing', 19),\n",
       "  ('829->Durable Solutions->Resettlement', 19),\n",
       "  ('1004->Flag->Response Gap', 19),\n",
       "  ('495->Information->Communication Means & Channels', 19),\n",
       "  ('1004->Context->Socio Cultural', 18),\n",
       "  ('829->Information And Communication->Knoweldge And Info Needs', 18),\n",
       "  ('273->Humanitarian Access->Beneficiaries To Relief', 15),\n",
       "  ('1004->Information->Information Challenges', 15),\n",
       "  ('273->Population Profile->Social Profile', 13),\n",
       "  ('1306->Shock /Event/Ongoing Conditions->Mtitigating Factors', 13),\n",
       "  ('1004->Context->Environment', 12),\n",
       "  ('552->Context->Legal  & Policy', 11),\n",
       "  ('495->Humanitarian Access->Beneficiaries To Relief', 9),\n",
       "  ('495->Information->Information Challenges', 9),\n",
       "  ('1004->Information->Information Needs', 9),\n",
       "  ('552->Humanitarian Access->Beneficiaries To Relief', 8),\n",
       "  ('537->Information->Information Challenges', 8),\n",
       "  ('829->Information And Communication->Info And Comm Means', 8),\n",
       "  ('273->Context->Stakeholder', 7),\n",
       "  ('537->Information->Communication Means & Channels', 7),\n",
       "  ('1004->Displacement Profile->Local Integration', 7),\n",
       "  ('1004->Humanitarian Access->Beneficiaries To Relief', 7),\n",
       "  ('537->Context->Socio Cultural', 6),\n",
       "  ('495->Casualties->Injured', 6),\n",
       "  ('799->Context->Overview', 6),\n",
       "  ('495->Event/Schock->Type And Characteristics', 6),\n",
       "  ('726->Context->Legal Or Normative Framework', 5),\n",
       "  ('799->Context->Security', 4),\n",
       "  ('495->Humanitarian Access->Humanitarian Access Gaps', 4),\n",
       "  ('537->Humanitarian Access->Beneficiaries To Relief', 3),\n",
       "  ('799->Context->Politics', 3),\n",
       "  ('726->Displacement ->Displacement', 3),\n",
       "  ('495->Casualties->Dead', 3),\n",
       "  ('1004->Displacement Profile->Intentions', 3),\n",
       "  ('1004->Shock And Event->Type And Characteristics', 3),\n",
       "  ('799->Context->Hazard Development', 2),\n",
       "  ('726->Context->Economic', 2),\n",
       "  ('537->Humanitarian Access->Humanitarian Access Gaps', 1),\n",
       "  ('726->Information->Information Needs & Gaps', 1),\n",
       "  ('726->Humanitarian Profile->Affected Groups', 1),\n",
       "  ('726->Context->Socio Cultural', 1),\n",
       "  ('726->Context->Socio-Cultural', 1),\n",
       "  ('537->Context->Environment', 1),\n",
       "  ('726->Humanitarian Profile->Population Movement', 1),\n",
       "  ('799->Population Profile->Demographic Profile', 1),\n",
       "  ('799->Context->Risk', 1),\n",
       "  ('799->Context->Key Events', 1),\n",
       "  ('799->Communication ->Information Gaps', 1),\n",
       "  ('552->Context->Environment', 1),\n",
       "  ('726->Context->Demographics', 1),\n",
       "  ('1004->Shock And Event->Aggravating Factors', 1),\n",
       "  ('829->Event/Shock->Hazard And Threats', 1),\n",
       "  ('829->Humanitarian Access->Numb Of People Facing Access Constraints', 1),\n",
       "  ('829->Event/Shock->Mitigating Factors', 1)])"
      ]
     },
     "execution_count": 47,
     "metadata": {},
     "output_type": "execute_result"
    }
   ],
   "source": [
    "pills_unique_1d = set()\n",
    "pills_occurances_1d = list()\n",
    "for pills_1d in entries_labeled[\"pillars_1d\"]:\n",
    "    pills_unique_1d.update(pills_1d)\n",
    "    pills_occurances_1d.extend(pills_1d)\n",
    "len(pills_unique_1d), Counter(pills_occurances_1d).most_common()"
   ]
  },
  {
   "cell_type": "code",
   "execution_count": 48,
   "metadata": {
    "ExecuteTime": {
     "end_time": "2021-09-02T14:40:30.012482Z",
     "start_time": "2021-09-02T14:40:29.958913Z"
    }
   },
   "outputs": [
    {
     "data": {
      "text/plain": [
       "[('1306->Humanitarian Conditions->Living Standards', 13535),\n",
       " ('1306->Impact->Drivers/Aggravating Factors', 9042),\n",
       " ('1306->Impact->Impact On System & Services', 8636),\n",
       " ('1306->Humanitarian Conditions->Physical & Mental Wellbeing', 8573),\n",
       " ('1306->Impact->Impact On People', 7887),\n",
       " ('829->Humanitarian Conditions->Living Standards', 6898),\n",
       " ('1306->At Risk->People At Risk / Vulnerable', 4976),\n",
       " ('1306->Capacities & Response->International', 4173),\n",
       " ('829->Response And Capacities->National And Local', 3634),\n",
       " ('1465->Humanitarian Situation->Humanitarian Profile', 2914),\n",
       " ('699->Capacities & Response->International Actors', 2602),\n",
       " ('699->Humanitarian Conditions->Living Standards', 2401),\n",
       " ('829->Humanitarian Conditions->Physical And Mental Well-Being', 2255),\n",
       " ('699->Capacities & Response->Government And Local Authorities', 2148),\n",
       " ('1306->Humanitarian Conditions->Coping Mechanisms', 2142),\n",
       " ('1306->Priorities->Priority Interventions (Staff)', 2134),\n",
       " ('829->Response And Capacities->International ', 2063),\n",
       " ('1306->Capacities & Response->Number Of People Reached', 2033),\n",
       " ('699->Humanitarian Conditions->Physical & Mental Wellbeing', 2008),\n",
       " ('699->Humanitarian Conditions->Risks & Vulnerabilities', 1665),\n",
       " ('829->Impact->Drivers', 1604),\n",
       " ('1306->Impact->Number Of People Affected', 1477),\n",
       " ('1306->Priorities->Priority Needs (Staff)', 1468),\n",
       " ('1306->Capacities & Response->Government & Local Authorities', 1462),\n",
       " ('699->Scope & Scale->Drivers/Aggravating Factors', 1369),\n",
       " ('1306->Capacities & Response->National & Local Actors', 1368),\n",
       " ('699->Scope & Scale->System Disruption', 1241),\n",
       " ('829->Humanitarian Conditions->Risks &  New Or Aggravated Vulnerabilities',\n",
       "  1145),\n",
       " ('552->Humanitarian Conditions->Physical & Mental Wellbeing', 1111),\n",
       " ('1465->Context->Security', 1030),\n",
       " ('699->Scope & Scale->Damages & Losses', 1006),\n",
       " ('1465->Context->Basic Infrastructure And Social Services', 996),\n",
       " ('1004->Humanitarian Conditions->Physical & Mental Wellbeing', 974),\n",
       " ('699->Capacities & Response->National Actors', 967),\n",
       " ('829->Impact->Status Of Essential Infrastructure, Systems, Markets And Networks',\n",
       "  935),\n",
       " ('1306->Humanitarian Conditions->Number Of People In Need', 907),\n",
       " ('829->Humanitarian Conditions->Coping Mechanisms', 890),\n",
       " ('1004->Humanitarian Conditions->Living Standards', 879),\n",
       " ('552->Humanitarian Conditions->Living Standards', 876),\n",
       " ('1465->Context->Socio-Economic', 859),\n",
       " ('495->Humanitarian Conditions->Living Standards', 818),\n",
       " ('699->Humanitarian Conditions->Humanitarian Conditions', 758),\n",
       " ('1306->Priorities->Priority Needs (Pop)', 758),\n",
       " ('1465->Humanitarian Situation->Pre-Covid Humanitarian Operations', 739),\n",
       " ('273->Humanitarian Conditions->Vulnerabilities, Specific Needs And Risks',\n",
       "  727),\n",
       " ('537->Humanitarian Conditions->Risks & Vulnerabilities', 718),\n",
       " ('273->Capacities And Response->International Response', 692),\n",
       " ('829->Impact->Number Of People Affected', 688),\n",
       " ('552->Humanitarian Conditions->Risks & Vulnerabilities', 650),\n",
       " ('829->Humanitarian Conditions->Number Of People In Need And Priorities',\n",
       "  644),\n",
       " ('273->Humanitarian Conditions->Impact On Accessibility, Availability, Quality, Use And Awareness Of Goods And Services',\n",
       "  609),\n",
       " ('1465->Context->Socio-Cultural', 579),\n",
       " ('829->Impact->Impact On People', 573),\n",
       " ('1004->Scope & Scale->System Disruption', 567),\n",
       " ('699->Capacities & Response->Rcrc Movement', 564),\n",
       " ('1004->Humanitarian Conditions->People At Risk / Vulnerable', 564),\n",
       " ('699->Capacities & Response->System Functionality', 556),\n",
       " ('552->Humanitarian Conditions->Unmet Needs', 535),\n",
       " ('699->Humanitarian Conditions->Coping Mechanisms', 491),\n",
       " ('537->Humanitarian Conditions->Living Standards', 490),\n",
       " ('829->Humanitarian Conditions->Persons/Groups With Specific Needs', 473),\n",
       " ('552->Scope & Scale->Drivers/Aggravating Factors', 428),\n",
       " ('273->Humanitarian Conditions->Impact On Physical And Mental Wellbeing',\n",
       "  412),\n",
       " ('829->Impact->Damages & Losses', 409),\n",
       " ('1004->Scope & Scale->Drivers/Aggravating Factors', 403),\n",
       " ('537->Scope & Scale->System Disruption', 378),\n",
       " ('273->Scope And Scale->Damage', 345),\n",
       " ('537->Humanitarian Conditions->Unmet Needs', 337),\n",
       " ('1465->Context->Environmental', 327),\n",
       " ('537->Scope & Scale->Drivers/Aggravating Factors', 314),\n",
       " ('829->Response And Capacities->Community Perceived Priorities', 314),\n",
       " ('495->Capacities & Response->International', 300),\n",
       " ('552->Scope & Scale->System Disruption', 299),\n",
       " ('699->Humanitarian Conditions->People With Specific Needs', 288),\n",
       " ('537->Humanitarian Conditions->Physical & Mental Wellbeing', 285),\n",
       " ('829->Humanitarian Conditions->Number Of People At Risk', 283),\n",
       " ('699->Capacities & Response->Response Gaps', 274),\n",
       " ('1465->Humanitarian Situation->Humanitarian Access', 269),\n",
       " ('1306->Priorities->Priority Interventions (Pop)', 269),\n",
       " ('1004->Scope & Scale->Damages & Losses', 268),\n",
       " ('1465->Context->Policy/Normative Frameworks', 262),\n",
       " ('829->Response And Capacities->Community', 260),\n",
       " ('537->Scope & Scale->Damages & Losses', 255),\n",
       " ('273->Scope And Scale->System Disruption', 254),\n",
       " ('829->Impact->Impact On Systems And Services', 251),\n",
       " ('495->Scope & Scale->System Disruption', 243),\n",
       " ('552->Scope & Scale->Damages & Losses', 243),\n",
       " ('1004->Humanitarian Conditions->People In Need', 240),\n",
       " ('495->Scope & Scale->Drivers/Aggravating Factors', 234),\n",
       " ('1465->Humanitarian Situation->Pre-Covid National Response Mechanisms', 225),\n",
       " ('552->Humanitarian Conditions->Coping Mechanisms', 217),\n",
       " ('273->Capacities And Response->National Response Capacity', 215),\n",
       " ('495->Humanitarian Conditions->Physical & Mental Wellbeing', 215),\n",
       " ('495->Humanitarian Conditions->Risks & Vulnerabilities', 213),\n",
       " ('1465->Context->Demographic', 193),\n",
       " ('1004->Humanitarian Conditions->Coping Mechanisms', 179),\n",
       " ('1465->Context->Political', 170),\n",
       " ('829->Impact->Drivers And Aggravating Factors', 165),\n",
       " ('537->Humanitarian Conditions->Coping Mechanisms', 148),\n",
       " ('495->Humanitarian Conditions->Coping Mechanisms', 138),\n",
       " ('495->Humanitarian Conditions->People With Specific Needs', 137),\n",
       " ('495->Humanitarian Conditions->Number Of People In Need And Priorities',\n",
       "  128),\n",
       " ('495->Capacities & Response->Government', 127),\n",
       " ('273->Scope And Scale->Drivers/ Aggravating Factors', 103),\n",
       " ('1004->Scope & Scale->People Affected', 100),\n",
       " ('829->Priorities->Prioritiy Issues (Pop)', 99),\n",
       " ('829->Risks->People At Risk Or Vulnerable', 74),\n",
       " ('537->Humanitarian Conditions->People With Specific Needs', 73),\n",
       " ('273->Capacities And Response->National Society Capacity', 66),\n",
       " ('495->Capacities & Response->System Functionality', 66),\n",
       " ('1465->Context->Information And Communication', 64),\n",
       " ('495->Capacities & Response->Response Gaps', 62),\n",
       " ('495->Capacities & Response->Lngo', 61),\n",
       " ('1004->Capacities & Response->System Functionality', 59),\n",
       " ('273->Scope And Scale->Losses', 54),\n",
       " ('829->Priorities->Prioritiy Issues (Hum. Staff)', 53),\n",
       " ('495->Scope & Scale->Damages & Losses', 48),\n",
       " ('552->Humanitarian Conditions->People With Specific Needs', 42),\n",
       " ('1004->Priorities->Priority Interventions (Staff)', 37),\n",
       " ('829->Priorities->Recommended Interventions (Hum. Staff)', 30),\n",
       " ('726->Humanitarian Conditions->Living Standards', 12),\n",
       " ('726->Response And Capacities->National And Local', 12),\n",
       " ('1004->Priorities->Priority Problems (Pop)', 8),\n",
       " ('829->Humanitarian Conditions->Number Of People In Need', 7),\n",
       " ('726->Humanitarian Conditions->Coping Mechanisms', 6),\n",
       " ('799->Capacities And Response->International Response', 4),\n",
       " ('1004->Capacities & Response->National', 4),\n",
       " ('829->Priorities->Preferred Response (Pop)', 4),\n",
       " ('495->Priorities->As Expressed By Experts', 3),\n",
       " ('799->Humanitarian Conditions->Access To Basic Services Or Goods', 3),\n",
       " ('726->Impact->Drivers', 3),\n",
       " ('1004->Capacities & Response->International', 2),\n",
       " ('799->Scope And Scale->Drivers/ Aggravating Factors', 2),\n",
       " ('799->Capacities And Response->Systems Functionality', 2),\n",
       " ('799->Humanitarian Conditions->Risks/Vulnerabilities', 2),\n",
       " ('726->Humanitarian Conditions->Number Of People In Need And Priorities', 2),\n",
       " ('799->Humanitarian Conditions->Impact On Physical And Mental Wellbeing', 2),\n",
       " ('1004->Priorities->Priority Interventions (Pop)', 2),\n",
       " ('726->Humanitarian Conditions->Physical And Mental Well-Being', 2),\n",
       " ('495->Scope & Scale->Number Of People Affected', 2),\n",
       " ('829->Humanitarian Conditions->Risks &  New Or Aggravated Vulnerabilities (Do Not Tag)',\n",
       "  2),\n",
       " ('537->Humanitarian Conditions->Lessons Learnt', 1),\n",
       " ('799->Humanitarian Conditions->Specific Needs', 1),\n",
       " ('799->Capacities And Response->Coping Mechanisms', 1),\n",
       " ('799->Capacities And Response->Response Gaps', 1),\n",
       " ('495->Humanitarian Conditions->Lessons Learnt', 1),\n",
       " ('726->Humanitarian Conditions->Unmet Needs', 1),\n",
       " ('726->Capacities & Response->International', 1),\n",
       " ('726->Response And Capacities->International ', 1),\n",
       " ('726->Capacities & Response->Government', 1),\n",
       " ('726->Humanitarian Conditions->Risks & Vulnerabilities', 1),\n",
       " ('726->Humanitarian Conditions->Risks &  New Or Aggravated Vulnerabilities',\n",
       "  1),\n",
       " ('799->Humanitarian Conditions->Physical & Mental Wellbeing', 1),\n",
       " ('799->Capacities & Response->Rcrc Movement', 1),\n",
       " ('799->Humanitarian Conditions->People With Specific Needs', 1),\n",
       " ('726->Humanitarian Conditions->Physical & Mental Wellbeing', 1),\n",
       " ('799->Humanitarian Conditions->Unmet Needs', 1),\n",
       " ('495->Scope & Scale->Lessons Learnt', 1),\n",
       " ('726->Impact->Damages & Losses', 1),\n",
       " ('726->Impact->Status Of Essential Infrastructure, Systems, Markets And Networks',\n",
       "  1),\n",
       " ('829->Humanitarian Conditions->Number Of People At Risk (Do Not Tag)', 1)]"
      ]
     },
     "execution_count": 48,
     "metadata": {},
     "output_type": "execute_result"
    }
   ],
   "source": [
    "pills_unique = set()\n",
    "pills_occurances = list()\n",
    "for pills in entries_labeled[\"pillars\"]:\n",
    "    pills_unique.update(pills)\n",
    "    pills_occurances.extend(pills)\n",
    "Counter(pills_occurances).most_common()"
   ]
  },
  {
   "cell_type": "code",
   "execution_count": 49,
   "metadata": {
    "ExecuteTime": {
     "end_time": "2021-09-02T14:40:34.787393Z",
     "start_time": "2021-09-02T14:40:34.741271Z"
    }
   },
   "outputs": [
    {
     "data": {
      "text/plain": [
       "[('Health', 27271),\n",
       " ('Protection', 22014),\n",
       " ('Livelihoods', 12895),\n",
       " ('Cross', 11769),\n",
       " ('Food Security', 8460),\n",
       " ('Wash', 8251),\n",
       " ('Education', 8160),\n",
       " ('Shelter', 7713),\n",
       " ('Cross-Sector', 5906),\n",
       " ('Nutrition', 3457),\n",
       " ('Agriculture', 2953),\n",
       " ('Food', 2500),\n",
       " ('Logistics', 2417),\n",
       " ('Cross Cutting', 678),\n",
       " ('Logistic', 248),\n",
       " ('Livelihood', 132),\n",
       " ('Cccm', 125),\n",
       " ('Nfi', 113)]"
      ]
     },
     "execution_count": 49,
     "metadata": {},
     "output_type": "execute_result"
    }
   ],
   "source": [
    "secs_unique = set()\n",
    "secs_occurances = list()\n",
    "for secs in entries_labeled[\"sectors\"]:\n",
    "    secs_unique.update(secs)\n",
    "    secs_occurances.extend(secs)\n",
    "#secs_unique\n",
    "Counter(secs_occurances).most_common()"
   ]
  },
  {
   "cell_type": "code",
   "execution_count": 50,
   "metadata": {
    "ExecuteTime": {
     "end_time": "2021-09-02T14:40:39.636332Z",
     "start_time": "2021-09-02T14:40:39.633744Z"
    }
   },
   "outputs": [
    {
     "data": {
      "text/plain": [
       "Index(['entry_id', 'created_at', 'modified_at', 'excerpt', 'entry_type',\n",
       "       'analysis_framework_id', 'created_by_id', 'lead_id', 'modified_by_id',\n",
       "       'information_date', 'order', 'project_id', 'verified', 'tags',\n",
       "       'tags_str', 'pillars', 'sectors', 'subsectors', 'label_2d',\n",
       "       'pillars_1d'],\n",
       "      dtype='object')"
      ]
     },
     "execution_count": 50,
     "metadata": {},
     "output_type": "execute_result"
    }
   ],
   "source": [
    "entries_labeled.columns"
   ]
  },
  {
   "cell_type": "code",
   "execution_count": 51,
   "metadata": {
    "ExecuteTime": {
     "end_time": "2021-09-02T14:40:44.563303Z",
     "start_time": "2021-09-02T14:40:44.523505Z"
    }
   },
   "outputs": [
    {
     "data": {
      "text/plain": [
       "(124247, 20)"
      ]
     },
     "execution_count": 51,
     "metadata": {},
     "output_type": "execute_result"
    }
   ],
   "source": [
    "final_df = entries_labeled[entries_labeled[\"entry_type\"].eq(\"excerpt\")\n",
    "                           & (~entries_labeled[\"excerpt\"].isna())]\n",
    "final_df.shape"
   ]
  },
  {
   "cell_type": "code",
   "execution_count": 52,
   "metadata": {
    "ExecuteTime": {
     "end_time": "2021-09-02T14:40:52.511920Z",
     "start_time": "2021-09-02T14:40:49.708908Z"
    },
    "scrolled": true
   },
   "outputs": [
    {
     "data": {
      "text/plain": [
       "((122247, 20), 0)"
      ]
     },
     "execution_count": 52,
     "metadata": {},
     "output_type": "execute_result"
    }
   ],
   "source": [
    "def remove_newlines(excerpt):\n",
    "    if not isinstance(excerpt, str):\n",
    "        return excerpt\n",
    "    return re.sub(\"\\s+\", \" \", excerpt)\n",
    "\n",
    "final_df.loc[:, 'excerpt'] = final_df['excerpt'].apply(remove_newlines)\n",
    "#final_df.loc[:, 'dropped_excerpt'] = final_df['dropped_excerpt'].apply(remove_newlines)\n",
    "##\n",
    "final_df = final_df.sort_values(\"verified\").reset_index(drop=True).drop_duplicates(subset='excerpt', keep=\"last\")\n",
    "final_df.shape, final_df.duplicated(subset=\"excerpt\").sum()"
   ]
  },
  {
   "cell_type": "code",
   "execution_count": 53,
   "metadata": {
    "ExecuteTime": {
     "end_time": "2021-09-02T14:40:57.641620Z",
     "start_time": "2021-09-02T14:40:57.638264Z"
    }
   },
   "outputs": [],
   "source": [
    "sector_name_mapper = {\n",
    "    \"Agriculture\": \"Agriculture\",\n",
    "    \"Cccm\": \"\",\n",
    "    \"Cross\": \"Cross\",\n",
    "    \"Cross Cutting\": \"Cross\",\n",
    "    \"Cross-Sector\": \"Cross\",\n",
    "    \"Education\": \"Education\",\n",
    "    \"Food\": \"Food Security\",\n",
    "    \"Food Security\": \"Food Security\",\n",
    "    \"Nutrition\": \"Nutrition\",\n",
    "    \"Health\": \"Health\",\n",
    "    \"Livelihood\": \"Livelihoods\",\n",
    "    \"Livelihoods\": \"Livelihoods\",\n",
    "    \"Logistic\": \"Logistics\",\n",
    "    \"Logistics\": \"Logistics\",\n",
    "    \"Protection\": \"Protection\",\n",
    "    \"Shelter\": \"Shelter\",\n",
    "    \"Shelter And Nfis\": \"Shelter\",\n",
    "    \"Nfi\": \"\",\n",
    "    \"Wash\": \"WASH\",\n",
    "}"
   ]
  },
  {
   "cell_type": "code",
   "execution_count": 54,
   "metadata": {
    "ExecuteTime": {
     "end_time": "2021-09-02T14:41:02.750260Z",
     "start_time": "2021-09-02T14:41:02.747716Z"
    }
   },
   "outputs": [],
   "source": [
    "af_title_to_id = dict()\n",
    "for afid, title in zip(afs[\"id\"], afs[\"title\"]):\n",
    "    af_title_to_id[\"title\"] = afid"
   ]
  },
  {
   "cell_type": "code",
   "execution_count": 55,
   "metadata": {
    "ExecuteTime": {
     "end_time": "2021-09-02T14:41:07.876067Z",
     "start_time": "2021-09-02T14:41:07.867803Z"
    }
   },
   "outputs": [
    {
     "name": "stderr",
     "output_type": "stream",
     "text": [
      "<ipython-input-55-bb9ead69f816>:2: SettingWithCopyWarning: \n",
      "A value is trying to be set on a copy of a slice from a DataFrame.\n",
      "Try using .loc[row_indexer,col_indexer] = value instead\n",
      "\n",
      "See the caveats in the documentation: https://pandas.pydata.org/pandas-docs/stable/user_guide/indexing.html#returning-a-view-versus-a-copy\n",
      "  af_id_title[\"title\"] = af_id_title[\"title\"].str.title()\n"
     ]
    },
    {
     "data": {
      "text/plain": [
       "Index(['Unnamed: 0', 'Framework Title', 'Type', 'Pillar', 'Sub-pillar',\n",
       "       'Virtual Type', 'Virtual Pillar', 'Virtual Sub-pillar', 'First-pass',\n",
       "       'Verified', 'Reversible', 'Cover', 'analysis_framework_id',\n",
       "       'Framework Name'],\n",
       "      dtype='object')"
      ]
     },
     "execution_count": 55,
     "metadata": {},
     "output_type": "execute_result"
    }
   ],
   "source": [
    "af_id_title = afs[[\"id\", \"title\"]]\n",
    "af_id_title[\"title\"] = af_id_title[\"title\"].str.title()\n",
    "##\n",
    "matching_2d_mat[\"Framework Title\"] = matching_2d_mat[\"Framework Title\"].str.title()\n",
    "##\n",
    "af_id_title.columns = [\"analysis_framework_id\", \"Framework Name\"]\n",
    "matching_2d_mat = pd.merge(matching_2d_mat,\n",
    "                    af_id_title,\n",
    "                    how=\"left\",\n",
    "                    left_on=\"Framework Title\",\n",
    "                    right_on=\"Framework Name\")\n",
    "matching_2d_mat.columns"
   ]
  },
  {
   "cell_type": "code",
   "execution_count": 56,
   "metadata": {
    "ExecuteTime": {
     "end_time": "2021-09-02T14:41:13.074594Z",
     "start_time": "2021-09-02T14:41:13.068719Z"
    }
   },
   "outputs": [],
   "source": [
    "matching_2d_mat[\"Pillar\"] = matching_2d_mat[\"Pillar\"].apply(\n",
    "    lambda x: x.strip().title())\n",
    "matching_2d_mat[\"Sub-pillar\"] = matching_2d_mat[\"Sub-pillar\"].apply(\n",
    "    lambda x: x.strip().title())\n",
    "matching_2d_mat[\"Final Pillar Name\"] = matching_2d_mat[\n",
    "    \"Virtual Pillar\"].apply(lambda x: x.strip().title())\n",
    "matching_2d_mat[\"Final Sub-pillar Name\"] = matching_2d_mat[\n",
    "    \"Virtual Sub-pillar\"].apply(lambda x: x.strip().title())"
   ]
  },
  {
   "cell_type": "code",
   "execution_count": 57,
   "metadata": {
    "ExecuteTime": {
     "end_time": "2021-09-02T14:41:18.197081Z",
     "start_time": "2021-09-02T14:41:18.193129Z"
    }
   },
   "outputs": [],
   "source": [
    "#matching_2d_mat = matching_2d_mat[~matching_2d_mat[\"analysis_framework_id\"].isna()]\n",
    "\n",
    "matching_2d_mat = matching_2d_mat.astype({\n",
    "    'Framework Name': str,\n",
    "    'Pillar': str,\n",
    "    'Sub-pillar': str,\n",
    "    'Final Pillar Name': str,\n",
    "    'Final Sub-pillar Name': str,\n",
    "    'analysis_framework_id': int\n",
    "})"
   ]
  },
  {
   "cell_type": "code",
   "execution_count": 58,
   "metadata": {
    "ExecuteTime": {
     "end_time": "2021-09-02T14:41:23.343287Z",
     "start_time": "2021-09-02T14:41:23.327798Z"
    }
   },
   "outputs": [],
   "source": [
    "matching_2d_mat[\"analysis_framework_id\"] = matching_2d_mat[\"analysis_framework_id\"].apply(str)\n",
    "##\n",
    "matching_2d_mat[\"original_pillar\"] = matching_2d_mat[\n",
    "    \"analysis_framework_id\"] + \"->\" + matching_2d_mat[\n",
    "        \"Pillar\"] + \"->\" + matching_2d_mat[\"Sub-pillar\"]\n",
    "matching_2d_mat[\"original_subpillar\"] = matching_2d_mat[\n",
    "    \"analysis_framework_id\"] + \"->\" + matching_2d_mat[\n",
    "        \"Pillar\"] + \"->\" + matching_2d_mat[\"Sub-pillar\"]\n",
    "##\n",
    "matching_2d_mat[\"target_pillar\"] = matching_2d_mat[\"Final Pillar Name\"]\n",
    "matching_2d_mat[\"target_subpillar\"] = matching_2d_mat[\n",
    "    \"Final Pillar Name\"] + \"->\" + matching_2d_mat[\"Final Sub-pillar Name\"]"
   ]
  },
  {
   "cell_type": "code",
   "execution_count": 59,
   "metadata": {
    "ExecuteTime": {
     "end_time": "2021-09-02T14:41:28.587670Z",
     "start_time": "2021-09-02T14:41:28.584917Z"
    }
   },
   "outputs": [],
   "source": [
    "pillar_name_mapper = dict()\n",
    "subpillar_name_mapper = dict()\n",
    "for pillar, fpillar, subpillar, fsubpillar, af_id in zip(\n",
    "        matching_2d_mat[\"original_pillar\"], matching_2d_mat[\"target_pillar\"],\n",
    "        matching_2d_mat[\"original_subpillar\"],\n",
    "        matching_2d_mat[\"target_subpillar\"],\n",
    "        matching_2d_mat[\"analysis_framework_id\"]):\n",
    "    pillar_name_mapper[pillar] = fpillar\n",
    "    subpillar_name_mapper[subpillar] = fsubpillar"
   ]
  },
  {
   "cell_type": "code",
   "execution_count": 60,
   "metadata": {
    "ExecuteTime": {
     "end_time": "2021-09-02T14:41:33.772078Z",
     "start_time": "2021-09-02T14:41:33.767387Z"
    },
    "scrolled": true
   },
   "outputs": [],
   "source": [
    "matching_1d_mat[\"Framework Title\"] = matching_1d_mat[\"Framework Title\"].str.title()\n",
    "##\n",
    "matching_1d_mat = pd.merge(matching_1d_mat,\n",
    "                           af_id_title,\n",
    "                           how=\"left\",\n",
    "                           left_on=\"Framework Title\",\n",
    "                           right_on=\"Framework Name\")\n"
   ]
  },
  {
   "cell_type": "code",
   "execution_count": 61,
   "metadata": {
    "ExecuteTime": {
     "end_time": "2021-09-02T14:41:39.063147Z",
     "start_time": "2021-09-02T14:41:39.060484Z"
    }
   },
   "outputs": [],
   "source": [
    "#matching_1d_mat = matching_1d_mat[~matching_1d_mat[\"analysis_framework_id\"].isna()]\n",
    "matching_1d_mat[\"analysis_framework_id\"] = matching_1d_mat[\"analysis_framework_id\"].apply(int)"
   ]
  },
  {
   "cell_type": "code",
   "execution_count": 62,
   "metadata": {
    "ExecuteTime": {
     "end_time": "2021-09-02T14:41:44.460778Z",
     "start_time": "2021-09-02T14:41:44.457979Z"
    }
   },
   "outputs": [
    {
     "data": {
      "text/plain": [
       "Index(['Unnamed: 0', 'Framework Title', 'Type', 'Pillar', 'Sub-pillar',\n",
       "       'Virtual Type', 'Virtual Pillar', 'Virtual Sub-pillar', 'First-pass',\n",
       "       'Verified', 'Reversible', 'Cover', 'analysis_framework_id',\n",
       "       'Framework Name'],\n",
       "      dtype='object')"
      ]
     },
     "execution_count": 62,
     "metadata": {},
     "output_type": "execute_result"
    }
   ],
   "source": [
    "matching_1d_mat.columns"
   ]
  },
  {
   "cell_type": "code",
   "execution_count": 63,
   "metadata": {
    "ExecuteTime": {
     "end_time": "2021-09-02T14:41:50.080730Z",
     "start_time": "2021-09-02T14:41:50.073841Z"
    }
   },
   "outputs": [
    {
     "data": {
      "text/html": [
       "<div>\n",
       "<style scoped>\n",
       "    .dataframe tbody tr th:only-of-type {\n",
       "        vertical-align: middle;\n",
       "    }\n",
       "\n",
       "    .dataframe tbody tr th {\n",
       "        vertical-align: top;\n",
       "    }\n",
       "\n",
       "    .dataframe thead th {\n",
       "        text-align: right;\n",
       "    }\n",
       "</style>\n",
       "<table border=\"1\" class=\"dataframe\">\n",
       "  <thead>\n",
       "    <tr style=\"text-align: right;\">\n",
       "      <th></th>\n",
       "      <th>Unnamed: 0</th>\n",
       "      <th>Framework Title</th>\n",
       "      <th>Type</th>\n",
       "      <th>Pillar</th>\n",
       "      <th>Sub-pillar</th>\n",
       "      <th>Virtual Type</th>\n",
       "      <th>Virtual Pillar</th>\n",
       "      <th>Virtual Sub-pillar</th>\n",
       "      <th>First-pass</th>\n",
       "      <th>Verified</th>\n",
       "      <th>Reversible</th>\n",
       "      <th>Cover</th>\n",
       "      <th>analysis_framework_id</th>\n",
       "      <th>Framework Name</th>\n",
       "    </tr>\n",
       "  </thead>\n",
       "  <tbody>\n",
       "  </tbody>\n",
       "</table>\n",
       "</div>"
      ],
      "text/plain": [
       "Empty DataFrame\n",
       "Columns: [Unnamed: 0, Framework Title, Type, Pillar, Sub-pillar, Virtual Type, Virtual Pillar, Virtual Sub-pillar, First-pass, Verified, Reversible, Cover, analysis_framework_id, Framework Name]\n",
       "Index: []"
      ]
     },
     "execution_count": 63,
     "metadata": {},
     "output_type": "execute_result"
    }
   ],
   "source": [
    "matching_1d_mat[matching_1d_mat[\"analysis_framework_id\"].isna()]"
   ]
  },
  {
   "cell_type": "code",
   "execution_count": 64,
   "metadata": {
    "ExecuteTime": {
     "end_time": "2021-09-02T14:41:55.816495Z",
     "start_time": "2021-09-02T14:41:55.813332Z"
    }
   },
   "outputs": [],
   "source": [
    "pillar_name_mapper_1d = dict()\n",
    "subpillar_name_mapper_1d = dict()\n",
    "for pillar, fpillar, subpillar, fsubpillar, af_id in zip(\n",
    "        matching_1d_mat[\"Pillar\"], matching_1d_mat[\"Virtual Pillar\"],\n",
    "        matching_1d_mat[\"Sub-pillar\"],\n",
    "        matching_1d_mat[\"Virtual Sub-pillar\"], matching_1d_mat[\"analysis_framework_id\"]):\n",
    "    pillar = str(af_id) + \"->\" + pillar + \"->\" + subpillar\n",
    "    pillar_name_mapper_1d[pillar] = fpillar\n",
    "    subpillar_name_mapper_1d[pillar] = fpillar + \"->\" + fsubpillar"
   ]
  },
  {
   "cell_type": "code",
   "execution_count": 65,
   "metadata": {
    "ExecuteTime": {
     "end_time": "2021-09-02T14:42:01.286515Z",
     "start_time": "2021-09-02T14:42:01.282159Z"
    }
   },
   "outputs": [],
   "source": [
    "def sector_mapper(sec):\n",
    "    if sec == sec:\n",
    "        sectors =  [sector_name_mapper.get(s, \"\") for s in sec]\n",
    "        return [sec for sec in sectors if sec]\n",
    "    return []\n",
    "##\n",
    "def pillar_mapper(dim):\n",
    "    if dim == dim:\n",
    "        dim = [pillar_name_mapper.get(d, \"\") for d in dim]\n",
    "        return [d for d in dim if d]\n",
    "    return []\n",
    "##\n",
    "def subpillar_mapper(subdim):\n",
    "    if subdim == subdim:\n",
    "        subdim = [subpillar_name_mapper.get(d, \"\") for d in subdim]\n",
    "        return [d for d in subdim if d]\n",
    "    return []\n",
    "##\n",
    "def pillar_mapper_1d(pill):\n",
    "    if pill == pill:\n",
    "        pill = [pillar_name_mapper_1d.get(p, \"\") for p in pill]\n",
    "        return [p for p in pill if p]\n",
    "    return []\n",
    "##\n",
    "def subpillar_mapper_1d(subpill):\n",
    "    if subpill == subpill:\n",
    "        subpill = [subpillar_name_mapper_1d.get(p, \"\") for p in subpill]\n",
    "        return [p for p in subpill if p]\n",
    "    return []"
   ]
  },
  {
   "cell_type": "code",
   "execution_count": 66,
   "metadata": {
    "ExecuteTime": {
     "end_time": "2021-09-02T14:42:07.737036Z",
     "start_time": "2021-09-02T14:42:06.852674Z"
    }
   },
   "outputs": [],
   "source": [
    "final_df[\"sectors\"] = final_df[\"sectors\"].apply(sector_mapper)\n",
    "final_df[\"subpillars_2d\"] = final_df[\"pillars\"].apply(subpillar_mapper)\n",
    "final_df[\"pillars_2d\"] = final_df[\"pillars\"].apply(pillar_mapper)\n",
    "##\n",
    "final_df[\"subpillars_1d\"] = final_df[\"pillars_1d\"].apply(subpillar_mapper_1d)\n",
    "final_df[\"pillars_1d\"] = final_df[\"pillars_1d\"].apply(pillar_mapper_1d)"
   ]
  },
  {
   "cell_type": "code",
   "execution_count": 67,
   "metadata": {
    "ExecuteTime": {
     "end_time": "2021-09-02T14:42:15.788777Z",
     "start_time": "2021-09-02T14:42:15.784922Z"
    }
   },
   "outputs": [
    {
     "data": {
      "text/plain": [
       "Index(['entry_id', 'created_at', 'modified_at', 'excerpt', 'entry_type',\n",
       "       'analysis_framework_id', 'created_by_id', 'lead_id', 'modified_by_id',\n",
       "       'information_date', 'order', 'project_id', 'verified', 'tags',\n",
       "       'tags_str', 'pillars', 'sectors', 'subsectors', 'label_2d',\n",
       "       'pillars_1d', 'subpillars_2d', 'pillars_2d', 'subpillars_1d'],\n",
       "      dtype='object')"
      ]
     },
     "execution_count": 67,
     "metadata": {},
     "output_type": "execute_result"
    }
   ],
   "source": [
    "final_df.columns"
   ]
  },
  {
   "cell_type": "code",
   "execution_count": 68,
   "metadata": {
    "ExecuteTime": {
     "end_time": "2021-09-02T14:42:23.829401Z",
     "start_time": "2021-09-02T14:42:23.789792Z"
    }
   },
   "outputs": [
    {
     "data": {
      "text/plain": [
       "[('Health', 26767),\n",
       " ('Protection', 21542),\n",
       " ('Cross', 17914),\n",
       " ('Livelihoods', 12830),\n",
       " ('Food Security', 10793),\n",
       " ('WASH', 8086),\n",
       " ('Education', 8051),\n",
       " ('Shelter', 7537),\n",
       " ('Nutrition', 3381),\n",
       " ('Agriculture', 2909),\n",
       " ('Logistics', 2616)]"
      ]
     },
     "execution_count": 68,
     "metadata": {},
     "output_type": "execute_result"
    }
   ],
   "source": [
    "secs_unique = set()\n",
    "secs_occurances = list()\n",
    "for secs in final_df[\"sectors\"]:\n",
    "    secs_unique.update(secs)\n",
    "    secs_occurances.extend(secs)\n",
    "#secs_unique\n",
    "Counter(secs_occurances).most_common()"
   ]
  },
  {
   "cell_type": "code",
   "execution_count": 69,
   "metadata": {
    "ExecuteTime": {
     "end_time": "2021-09-02T14:42:31.433667Z",
     "start_time": "2021-09-02T14:42:31.387727Z"
    }
   },
   "outputs": [
    {
     "data": {
      "text/plain": [
       "[('Humanitarian Conditions', 46880),\n",
       " ('Impact', 34825),\n",
       " ('Capacities & Response', 14401),\n",
       " ('At Risk', 9274),\n",
       " ('Context', 3411),\n",
       " ('Priority Needs', 2657),\n",
       " ('Priority Interventions', 2447)]"
      ]
     },
     "execution_count": 69,
     "metadata": {},
     "output_type": "execute_result"
    }
   ],
   "source": [
    "pills_unique = set()\n",
    "pills_occurances = list()\n",
    "for pills in final_df[\"pillars_2d\"]:\n",
    "    pills_unique.update(pills)\n",
    "    pills_occurances.extend(pills)\n",
    "#pills_unique\n",
    "Counter(pills_occurances).most_common()"
   ]
  },
  {
   "cell_type": "code",
   "execution_count": 70,
   "metadata": {
    "ExecuteTime": {
     "end_time": "2021-09-02T14:42:39.053933Z",
     "start_time": "2021-09-02T14:42:39.009388Z"
    },
    "scrolled": false
   },
   "outputs": [
    {
     "data": {
      "text/plain": [
       "[('Humanitarian Conditions->Living Standards', 26041),\n",
       " ('Humanitarian Conditions->Physical And Mental Well Being', 15546),\n",
       " ('Impact->Impact On Systems, Services And Networks', 12355),\n",
       " ('Impact->Driver/Aggravating Factors', 11815),\n",
       " ('At Risk->Risk And Vulnerabilities', 9273),\n",
       " ('Impact->Impact On People', 8404),\n",
       " ('Capacities & Response->International Response', 7606),\n",
       " ('Capacities & Response->National Response', 4191),\n",
       " ('Humanitarian Conditions->Coping Mechanisms', 4149),\n",
       " ('Capacities & Response->Number Of People Reached/Response Gaps', 2346),\n",
       " ('Impact->Number Of People Affected', 2251),\n",
       " ('Priority Interventions->Expressed By Humanitarian Staff', 2172),\n",
       " ('Priority Needs->Expressed By Humanitarian Staff', 1493),\n",
       " ('Priority Needs->Expressed By Population', 1164),\n",
       " ('Humanitarian Conditions->Number Of People In Need', 1144),\n",
       " ('Context->Security & Stability', 1025),\n",
       " ('Context->Economy', 858),\n",
       " ('Context->Socio Cultural', 577),\n",
       " ('Context->Environment', 327),\n",
       " ('Priority Interventions->Expressed By Population', 275),\n",
       " ('Context->Legal & Policy', 261),\n",
       " ('Capacities & Response->Local Response', 258),\n",
       " ('Context->Demography', 193),\n",
       " ('Context->Politics', 170),\n",
       " ('At Risk->Number Of People At Risk', 1)]"
      ]
     },
     "execution_count": 70,
     "metadata": {},
     "output_type": "execute_result"
    }
   ],
   "source": [
    "subpills_unique = set()\n",
    "subpills_occurances = list()\n",
    "for subpills in final_df[\"subpillars_2d\"]:\n",
    "    subpills_unique.update(subpills)\n",
    "    subpills_occurances.extend(subpills)\n",
    "Counter(subpills_occurances).most_common()"
   ]
  },
  {
   "cell_type": "code",
   "execution_count": 71,
   "metadata": {
    "ExecuteTime": {
     "end_time": "2021-09-02T14:42:46.380465Z",
     "start_time": "2021-09-02T14:42:46.346759Z"
    }
   },
   "outputs": [
    {
     "data": {
      "text/plain": [
       "[('Context', 17672),\n",
       " ('Displacement', 5711),\n",
       " ('Casualties', 3886),\n",
       " ('Humanitarian Access', 2191),\n",
       " ('Information and Communication', 825),\n",
       " ('Shock/Event', 763)]"
      ]
     },
     "execution_count": 71,
     "metadata": {},
     "output_type": "execute_result"
    }
   ],
   "source": [
    "pills_unique_1d = set()\n",
    "pills_occurances_1d = list()\n",
    "for pills_1d in final_df[\"pillars_1d\"]:\n",
    "    pills_unique_1d.update(pills_1d)\n",
    "    pills_occurances_1d.extend(pills_1d)\n",
    "#pills_unique_1d\n",
    "Counter(pills_occurances_1d).most_common()"
   ]
  },
  {
   "cell_type": "code",
   "execution_count": 72,
   "metadata": {
    "ExecuteTime": {
     "end_time": "2021-09-02T14:42:53.510985Z",
     "start_time": "2021-09-02T14:42:53.477478Z"
    },
    "scrolled": true
   },
   "outputs": [
    {
     "data": {
      "text/plain": [
       "[('Context->Security & Stability', 5711),\n",
       " ('Context->Demography', 3779),\n",
       " ('Context->Economy', 3778),\n",
       " ('Casualties->Dead', 2996),\n",
       " ('Displacement->Type/Numbers/Movements', 2735),\n",
       " ('Displacement->Push factors', 1907),\n",
       " ('Context->Politics', 1808),\n",
       " ('Humanitarian Access->Physical constraints', 1740),\n",
       " ('Context->Socio Cultural', 1054),\n",
       " ('Context->Environment', 859),\n",
       " ('Context->Legal & Policy', 683),\n",
       " ('Casualties->Injured', 635),\n",
       " ('Displacement->Local integration', 534),\n",
       " ('Shock/Event->Type and characteristics', 451),\n",
       " ('Humanitarian Access->Number of people facing humanitarian access constraints/Humanitarian access gaps',\n",
       "  451),\n",
       " ('Information and Communication->Knowledge and info gaps (pop)', 358),\n",
       " ('Displacement->Pull factors', 328),\n",
       " ('Information and Communication->Communication means and preferences', 314),\n",
       " ('Shock/Event->Hazard & Threats', 312),\n",
       " ('Casualties->Missing', 255),\n",
       " ('Displacement->Intentions', 207),\n",
       " ('Information and Communication->Information challenges and barriers', 129),\n",
       " ('Information and Communication->Knowledge and info gaps (hum)', 24)]"
      ]
     },
     "execution_count": 72,
     "metadata": {},
     "output_type": "execute_result"
    }
   ],
   "source": [
    "subpills_unique_1d = set()\n",
    "subpills_occurances_1d = list()\n",
    "for subpills_1d in final_df[\"subpillars_1d\"]:\n",
    "    subpills_unique_1d.update(subpills_1d)\n",
    "    subpills_occurances_1d.extend(subpills_1d)\n",
    "#subpills_unique_1d\n",
    "Counter(subpills_occurances_1d).most_common()"
   ]
  },
  {
   "cell_type": "code",
   "execution_count": 73,
   "metadata": {
    "ExecuteTime": {
     "end_time": "2021-09-02T14:43:01.006866Z",
     "start_time": "2021-09-02T14:43:00.952413Z"
    }
   },
   "outputs": [
    {
     "data": {
      "text/plain": [
       "(25511, 79327, 90394)"
      ]
     },
     "execution_count": 73,
     "metadata": {},
     "output_type": "execute_result"
    }
   ],
   "source": [
    "final_df[\"subpillars_1d\"].apply(lambda x:x!=[]).sum(),\\\n",
    "final_df[\"subpillars_2d\"].apply(lambda x:x!=[]).sum(),\\\n",
    "final_df[\"sectors\"].apply(lambda x:x!=[]).sum()"
   ]
  },
  {
   "cell_type": "code",
   "execution_count": null,
   "metadata": {},
   "outputs": [],
   "source": []
  },
  {
   "cell_type": "markdown",
   "metadata": {},
   "source": [
    "### Splitting"
   ]
  },
  {
   "cell_type": "code",
   "execution_count": null,
   "metadata": {
    "ExecuteTime": {
     "end_time": "2021-08-20T11:45:38.844627Z",
     "start_time": "2021-08-20T11:45:38.807046Z"
    }
   },
   "outputs": [],
   "source": [
    "# add columns for sectors\n",
    "for sector in secs_unique:\n",
    "    final_df[sector] = 0\n",
    "# add columns for dimensions\n",
    "for pillar in pills_unique:\n",
    "    final_df[pillar] = 0\n",
    "# add columns for subdimensions\n",
    "for subpillar in subpills_unique:\n",
    "    final_df[subpillar] = 0\n",
    "## add columns for 1d pillars\n",
    "for pillar_1d in pills_unique_1d:\n",
    "    final_df[pillar_1d] = 0\n",
    "## add columns for 1d subpillars\n",
    "for subpillar_1d in subpills_unique_1d:\n",
    "    final_df[subpillar_1d] = 0"
   ]
  },
  {
   "cell_type": "code",
   "execution_count": null,
   "metadata": {
    "ExecuteTime": {
     "end_time": "2021-08-20T11:48:19.436023Z",
     "start_time": "2021-08-20T11:45:38.845972Z"
    }
   },
   "outputs": [],
   "source": [
    "for row in tqdm(final_df.iterrows(), total=final_df.shape[0]):\n",
    "    sectors_i = row[1][\"sectors\"]\n",
    "    pillars_i = row[1][\"pillars\"]\n",
    "    subpillars_i = row[1][\"subpillars\"]\n",
    "    pillars_1d_i = row[1][\"pillars_1d\"]\n",
    "    subpillars_1d_i = row[1][\"subpillars_1d\"]\n",
    "    idx = row[0]\n",
    "    for sector in sectors_i:\n",
    "        final_df.loc[idx, sector] = 1\n",
    "    for pillar in pillars_i:\n",
    "        final_df.loc[idx, pillar] = 1\n",
    "    for subpillar in subpillars_i:\n",
    "        final_df.loc[idx, subpillar] = 1\n",
    "    for pillar_1d in pillars_1d_i:\n",
    "        final_df.loc[idx, pillar_1d] = 1\n",
    "    for subpillar_1d in subpillars_1d_i:\n",
    "        final_df.loc[idx, subpillar_1d] = 1"
   ]
  },
  {
   "cell_type": "code",
   "execution_count": null,
   "metadata": {
    "ExecuteTime": {
     "end_time": "2021-08-20T11:48:19.440052Z",
     "start_time": "2021-08-20T11:48:19.437228Z"
    }
   },
   "outputs": [],
   "source": [
    "classes = list(secs_unique) + list(pills_unique) + list(\n",
    "    subpills_unique) + list(pills_unique_1d) + list(subpills_unique_1d)\n",
    "len(classes)"
   ]
  },
  {
   "cell_type": "code",
   "execution_count": null,
   "metadata": {
    "ExecuteTime": {
     "end_time": "2021-08-20T11:48:19.461013Z",
     "start_time": "2021-08-20T11:48:19.441192Z"
    },
    "scrolled": true
   },
   "outputs": [],
   "source": [
    "final_df[classes].sum().astype(int)"
   ]
  },
  {
   "cell_type": "markdown",
   "metadata": {},
   "source": [
    "### Stratified Split"
   ]
  },
  {
   "cell_type": "code",
   "execution_count": null,
   "metadata": {
    "ExecuteTime": {
     "end_time": "2021-08-20T11:48:19.918555Z",
     "start_time": "2021-08-20T11:48:19.462129Z"
    }
   },
   "outputs": [],
   "source": [
    "from skmultilearn.model_selection import iterative_train_test_split\n",
    "from skmultilearn.model_selection.measures import get_combination_wise_output_matrix"
   ]
  },
  {
   "cell_type": "code",
   "execution_count": null,
   "metadata": {
    "ExecuteTime": {
     "end_time": "2021-08-20T11:48:19.924987Z",
     "start_time": "2021-08-20T11:48:19.919699Z"
    }
   },
   "outputs": [],
   "source": [
    "def train_val_test_df_split(df):\n",
    "    class_to_id = {clss: i for i, clss in enumerate(classes)}\n",
    "    num_classes = len(classes)\n",
    "    labels = np.zeros([len(df), num_classes])\n",
    "    for i, (sectors_i, pillars_i, subpillars_i, pillars_1d_i,\n",
    "            subpillars_1d_i) in enumerate(\n",
    "                zip(df[\"sectors\"], df[\"pillars_2d\"], df[\"subpillars_2d\"],\n",
    "                    df[\"pillars_1d\"], df[\"subpillars_1d\"])):\n",
    "        for sec in sectors_i:\n",
    "            labels[i, class_to_id[sec]] = 1\n",
    "        for pil in pillars_i:\n",
    "            labels[i, class_to_id[pil]] = 1\n",
    "        for subpil in subpillars_i:\n",
    "            labels[i, class_to_id[subpil]] = 1\n",
    "        for pil_1d in pillars_1d_i:\n",
    "            labels[i, class_to_id[pil_1d]] = 1\n",
    "        for subpil_1d in subpillars_1d_i:\n",
    "            labels[i, class_to_id[subpil_1d]] = 1\n",
    "    ##\n",
    "    X_train, y_train, X_test, y_test = iterative_train_test_split(\n",
    "        df[\"excerpt\"].to_numpy().reshape(-1, 1), labels, test_size=0.1)\n",
    "    X_train, y_train, X_val, y_val = iterative_train_test_split(X_train,\n",
    "                                                                y_train,\n",
    "                                                                test_size=0.1)\n",
    "    return {\n",
    "        \"X_train\": X_train,\n",
    "        \"y_train\": y_train,\n",
    "        \"X_test\": X_test,\n",
    "        \"y_test\": y_test,\n",
    "        \"X_val\": X_val,\n",
    "        \"y_val\": y_val\n",
    "    }"
   ]
  },
  {
   "cell_type": "code",
   "execution_count": null,
   "metadata": {
    "ExecuteTime": {
     "end_time": "2021-08-20T11:48:19.939648Z",
     "start_time": "2021-08-20T11:48:19.926638Z"
    }
   },
   "outputs": [],
   "source": [
    "df = final_df[[\n",
    "    'entry_id',\n",
    "    'lead_id',\n",
    "    'project_id',\n",
    "    'analysis_framework_id',\n",
    "    'excerpt',\n",
    "    'created_by_id',\n",
    "    'modified_by_id',\n",
    "    'verified',\n",
    "    'sectors',\n",
    "    'pillars',\n",
    "    'subpillars',\n",
    "    'pillars_1d',\n",
    "    'subpillars_1d',\n",
    "]]\n",
    "df.columns = [\n",
    "    'entry_id',\n",
    "    'lead_id',\n",
    "    'project_id',\n",
    "    'analysis_framework_id',\n",
    "    'excerpt',\n",
    "    'created_by_id',\n",
    "    'modified_by_id',\n",
    "    'verified',\n",
    "    'sectors',\n",
    "    'pillars_2d',\n",
    "    'subpillars_2d',\n",
    "    'pillars_1d',\n",
    "    'subpillars_1d',\n",
    "]"
   ]
  },
  {
   "cell_type": "code",
   "execution_count": null,
   "metadata": {
    "ExecuteTime": {
     "end_time": "2021-08-20T11:49:54.387903Z",
     "start_time": "2021-08-20T11:48:19.940885Z"
    }
   },
   "outputs": [],
   "source": [
    "X_train, y_train, X_test, y_test, X_val, y_val = list(\n",
    "    train_val_test_df_split(df).values())"
   ]
  },
  {
   "cell_type": "code",
   "execution_count": null,
   "metadata": {
    "ExecuteTime": {
     "end_time": "2021-08-20T11:49:54.571667Z",
     "start_time": "2021-08-20T11:49:54.389389Z"
    }
   },
   "outputs": [],
   "source": [
    "final_df_train = final_df[final_df[\"excerpt\"].isin(X_train.reshape(-1))]\n",
    "final_df_val = final_df[final_df[\"excerpt\"].isin(X_val.reshape(-1))]\n",
    "final_df_test = final_df[final_df[\"excerpt\"].isin(X_test.reshape(-1))]"
   ]
  },
  {
   "cell_type": "code",
   "execution_count": null,
   "metadata": {
    "ExecuteTime": {
     "end_time": "2021-08-20T11:49:54.683153Z",
     "start_time": "2021-08-20T11:49:54.573266Z"
    }
   },
   "outputs": [],
   "source": [
    "df_train = df[df[\"excerpt\"].isin(X_train.reshape(-1))]\n",
    "df_val = df[df[\"excerpt\"].isin(X_val.reshape(-1))]\n",
    "df_test = df[df[\"excerpt\"].isin(X_test.reshape(-1))]"
   ]
  },
  {
   "cell_type": "code",
   "execution_count": null,
   "metadata": {
    "ExecuteTime": {
     "end_time": "2021-08-20T11:49:54.718245Z",
     "start_time": "2021-08-20T11:49:54.713385Z"
    }
   },
   "outputs": [],
   "source": [
    "df_train.index & df_val.index, df_train.index & df_test.index, df_test.index & df_val.index "
   ]
  },
  {
   "cell_type": "code",
   "execution_count": null,
   "metadata": {
    "ExecuteTime": {
     "end_time": "2021-08-20T11:49:56.043677Z",
     "start_time": "2021-08-20T11:49:54.719248Z"
    }
   },
   "outputs": [],
   "source": [
    "df_train.to_csv(\"data_v0.5.1_train.csv\", index=None)\n",
    "df_val.to_csv(\"data_v0.5.1_val.csv\", index=None)\n",
    "df_test.to_csv(\"data_v0.5.1_test.csv\", index=None)"
   ]
  },
  {
   "cell_type": "code",
   "execution_count": null,
   "metadata": {
    "ExecuteTime": {
     "end_time": "2021-08-20T11:49:57.385092Z",
     "start_time": "2021-08-20T11:49:56.044851Z"
    }
   },
   "outputs": [],
   "source": [
    "df.to_csv(\"data_v0.5.1_full.csv\", index=None)"
   ]
  },
  {
   "cell_type": "code",
   "execution_count": null,
   "metadata": {},
   "outputs": [],
   "source": []
  },
  {
   "cell_type": "code",
   "execution_count": null,
   "metadata": {},
   "outputs": [],
   "source": []
  },
  {
   "cell_type": "code",
   "execution_count": null,
   "metadata": {},
   "outputs": [],
   "source": []
  },
  {
   "cell_type": "code",
   "execution_count": null,
   "metadata": {},
   "outputs": [],
   "source": []
  },
  {
   "cell_type": "code",
   "execution_count": null,
   "metadata": {},
   "outputs": [],
   "source": []
  }
 ],
 "metadata": {
  "kernelspec": {
   "display_name": "Python 3",
   "language": "python",
   "name": "python3"
  },
  "language_info": {
   "codemirror_mode": {
    "name": "ipython",
    "version": 3
   },
   "file_extension": ".py",
   "mimetype": "text/x-python",
   "name": "python",
   "nbconvert_exporter": "python",
   "pygments_lexer": "ipython3",
   "version": "3.8.5"
  },
  "varInspector": {
   "cols": {
    "lenName": 16,
    "lenType": 16,
    "lenVar": 40
   },
   "kernels_config": {
    "python": {
     "delete_cmd_postfix": "",
     "delete_cmd_prefix": "del ",
     "library": "var_list.py",
     "varRefreshCmd": "print(var_dic_list())"
    },
    "r": {
     "delete_cmd_postfix": ") ",
     "delete_cmd_prefix": "rm(",
     "library": "var_list.r",
     "varRefreshCmd": "cat(var_dic_list()) "
    }
   },
   "types_to_exclude": [
    "module",
    "function",
    "builtin_function_or_method",
    "instance",
    "_Feature"
   ],
   "window_display": false
  }
 },
 "nbformat": 4,
 "nbformat_minor": 4
}
