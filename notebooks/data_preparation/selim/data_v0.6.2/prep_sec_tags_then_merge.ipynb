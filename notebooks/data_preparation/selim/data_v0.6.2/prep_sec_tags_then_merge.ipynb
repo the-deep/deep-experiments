{
 "cells": [
  {
   "cell_type": "code",
   "execution_count": 1,
   "metadata": {
    "ExecuteTime": {
     "end_time": "2021-06-03T07:38:57.719313Z",
     "start_time": "2021-06-03T07:38:57.526799Z"
    }
   },
   "outputs": [],
   "source": [
    "import os\n",
    "import re\n",
    "import json\n",
    "import random\n",
    "from pprint import pprint\n",
    "from ast import literal_eval\n",
    "from collections import Counter\n",
    "\n",
    "import numpy as np\n",
    "import pandas as pd\n",
    "from tqdm.auto import tqdm\n",
    "\n",
    "import seaborn as sns\n",
    "import matplotlib.pyplot as plt\n",
    "\n",
    "tqdm.pandas()"
   ]
  },
  {
   "cell_type": "code",
   "execution_count": 2,
   "metadata": {
    "ExecuteTime": {
     "end_time": "2021-06-03T07:38:57.722406Z",
     "start_time": "2021-06-03T07:38:57.720474Z"
    }
   },
   "outputs": [],
   "source": [
    "random.seed(2021)\n",
    "np.random.seed(2021)"
   ]
  },
  {
   "cell_type": "code",
   "execution_count": 3,
   "metadata": {
    "ExecuteTime": {
     "end_time": "2021-06-03T07:39:00.251261Z",
     "start_time": "2021-06-03T07:38:57.725134Z"
    }
   },
   "outputs": [
    {
     "name": "stderr",
     "output_type": "stream",
     "text": [
      "/home/selim/anaconda3/lib/python3.8/site-packages/IPython/core/interactiveshell.py:3146: DtypeWarning: Columns (4) have mixed types.Specify dtype option on import or set low_memory=False.\n",
      "  has_raised = await self.run_ast_nodes(code_ast.body, cell_name,\n"
     ]
    }
   ],
   "source": [
    "exportdata = pd.read_csv(\"exportdata.csv\")\n",
    "entries = pd.read_csv(\"entries_of_projects_chosen_by_patrice.csv\")\n",
    "af_widgets = pd.read_csv(\"af_widgets_of_interest.csv\")\n",
    "projects = pd.read_csv(\"projects_chosen_by_patrice.csv\")\n",
    "exportables = pd.read_csv(\"af_exportables.csv\")\n",
    "##\n",
    "afs = pd.read_csv(\"analysis_frameworks.csv\")\n",
    "users = pd.read_csv(\"user_names.csv\")\n"
   ]
  },
  {
   "cell_type": "code",
   "execution_count": 4,
   "metadata": {},
   "outputs": [],
   "source": [
    "dirName = 'generated_entries'\n",
    "if not os.path.exists(dirName):\n",
    "    os.mkdir(dirName)"
   ]
  },
  {
   "cell_type": "code",
   "execution_count": null,
   "metadata": {},
   "outputs": [],
   "source": []
  },
  {
   "cell_type": "code",
   "execution_count": 5,
   "metadata": {},
   "outputs": [
    {
     "data": {
      "text/html": [
       "<div>\n",
       "<style scoped>\n",
       "    .dataframe tbody tr th:only-of-type {\n",
       "        vertical-align: middle;\n",
       "    }\n",
       "\n",
       "    .dataframe tbody tr th {\n",
       "        vertical-align: top;\n",
       "    }\n",
       "\n",
       "    .dataframe thead th {\n",
       "        text-align: right;\n",
       "    }\n",
       "</style>\n",
       "<table border=\"1\" class=\"dataframe\">\n",
       "  <thead>\n",
       "    <tr style=\"text-align: right;\">\n",
       "      <th></th>\n",
       "      <th>id</th>\n",
       "      <th>widget_id</th>\n",
       "      <th>title</th>\n",
       "      <th>properties</th>\n",
       "      <th>analysis_framework_id</th>\n",
       "      <th>key</th>\n",
       "    </tr>\n",
       "  </thead>\n",
       "  <tbody>\n",
       "    <tr>\n",
       "      <th>0</th>\n",
       "      <td>483</td>\n",
       "      <td>multiselectWidget</td>\n",
       "      <td>SPECIFIC NEEDS GROUPS</td>\n",
       "      <td>{\"data\": {\"options\": [{\"key\": \"option-1\", \"lab...</td>\n",
       "      <td>137</td>\n",
       "      <td>element7</td>\n",
       "    </tr>\n",
       "    <tr>\n",
       "      <th>1</th>\n",
       "      <td>484</td>\n",
       "      <td>dateWidget</td>\n",
       "      <td>DATE OF INFORMATION</td>\n",
       "      <td>{\"added_from\": \"list\", \"list_grid_layout\": {\"t...</td>\n",
       "      <td>137</td>\n",
       "      <td>element8</td>\n",
       "    </tr>\n",
       "    <tr>\n",
       "      <th>2</th>\n",
       "      <td>475</td>\n",
       "      <td>excerptWidget</td>\n",
       "      <td>EXCERPT</td>\n",
       "      <td>{\"added_from\": \"overview\", \"list_grid_layout\":...</td>\n",
       "      <td>137</td>\n",
       "      <td>page-two-excerpt</td>\n",
       "    </tr>\n",
       "    <tr>\n",
       "      <th>3</th>\n",
       "      <td>482</td>\n",
       "      <td>multiselectWidget</td>\n",
       "      <td>DEMOGRAPHIC GROUPS</td>\n",
       "      <td>{\"data\": {\"options\": [{\"key\": \"option-1\", \"lab...</td>\n",
       "      <td>137</td>\n",
       "      <td>element6</td>\n",
       "    </tr>\n",
       "    <tr>\n",
       "      <th>4</th>\n",
       "      <td>479</td>\n",
       "      <td>scaleWidget</td>\n",
       "      <td>RELIABILITY</td>\n",
       "      <td>{\"data\": {\"scale_units\": [{\"key\": \"scale-1\", \"...</td>\n",
       "      <td>137</td>\n",
       "      <td>element3</td>\n",
       "    </tr>\n",
       "  </tbody>\n",
       "</table>\n",
       "</div>"
      ],
      "text/plain": [
       "    id          widget_id                  title  \\\n",
       "0  483  multiselectWidget  SPECIFIC NEEDS GROUPS   \n",
       "1  484         dateWidget    DATE OF INFORMATION   \n",
       "2  475      excerptWidget                EXCERPT   \n",
       "3  482  multiselectWidget     DEMOGRAPHIC GROUPS   \n",
       "4  479        scaleWidget            RELIABILITY   \n",
       "\n",
       "                                          properties  analysis_framework_id  \\\n",
       "0  {\"data\": {\"options\": [{\"key\": \"option-1\", \"lab...                    137   \n",
       "1  {\"added_from\": \"list\", \"list_grid_layout\": {\"t...                    137   \n",
       "2  {\"added_from\": \"overview\", \"list_grid_layout\":...                    137   \n",
       "3  {\"data\": {\"options\": [{\"key\": \"option-1\", \"lab...                    137   \n",
       "4  {\"data\": {\"scale_units\": [{\"key\": \"scale-1\", \"...                    137   \n",
       "\n",
       "                key  \n",
       "0          element7  \n",
       "1          element8  \n",
       "2  page-two-excerpt  \n",
       "3          element6  \n",
       "4          element3  "
      ]
     },
     "execution_count": 5,
     "metadata": {},
     "output_type": "execute_result"
    }
   ],
   "source": [
    "af_widgets.head()"
   ]
  },
  {
   "cell_type": "code",
   "execution_count": null,
   "metadata": {},
   "outputs": [],
   "source": []
  },
  {
   "cell_type": "code",
   "execution_count": 6,
   "metadata": {
    "ExecuteTime": {
     "end_time": "2021-06-03T07:39:00.257420Z",
     "start_time": "2021-06-03T07:39:00.252346Z"
    }
   },
   "outputs": [],
   "source": [
    "af_widgets[\"properties\"] = af_widgets[\"properties\"].apply(json.loads)"
   ]
  },
  {
   "cell_type": "code",
   "execution_count": null,
   "metadata": {},
   "outputs": [],
   "source": []
  },
  {
   "cell_type": "code",
   "execution_count": 7,
   "metadata": {},
   "outputs": [
    {
     "data": {
      "text/plain": [
       "array(['SPECIFIC NEEDS GROUPS', 'DATE OF INFORMATION', 'EXCERPT',\n",
       "       'DEMOGRAPHIC GROUPS', 'RELIABILITY', 'SEVERITY', 'AFFECTED GROUPS',\n",
       "       'MATRIX 1D', 'SECTORAL INFORMATION', 'LOCATION',\n",
       "       'OPERATIONAL ENVIRONMENT', 'IN-CRISIS', 'INFORMATION DATE',\n",
       "       'SECTORS', 'FLAG', 'PRE-CRISIS', 'CROSS SECTOR', 'GEO LOCATION',\n",
       "       'CROSS SECTORS', 'MATRIX 2D', 'CRISIS TYPE', 'POPULATION GROUPS',\n",
       "       'SHOCK/EVENT', 'DISPLACED POP TYPE', 'HIGH LEVEL TAGS',\n",
       "       'ADDITIONAL CONTEXT', 'CLEANING TAGS', 'CLEANING COMMENTS',\n",
       "       'COMMENT', 'RESPONSE TYPE', 'CONTEXT ADDITIONAL TAGS'],\n",
       "      dtype=object)"
      ]
     },
     "execution_count": 7,
     "metadata": {},
     "output_type": "execute_result"
    }
   ],
   "source": [
    "af_widgets[\"title\"].str.upper().unique()"
   ]
  },
  {
   "cell_type": "code",
   "execution_count": null,
   "metadata": {},
   "outputs": [],
   "source": []
  },
  {
   "cell_type": "code",
   "execution_count": null,
   "metadata": {},
   "outputs": [],
   "source": []
  },
  {
   "cell_type": "code",
   "execution_count": 8,
   "metadata": {
    "ExecuteTime": {
     "end_time": "2021-06-03T07:39:00.264144Z",
     "start_time": "2021-06-03T07:39:00.258739Z"
    }
   },
   "outputs": [],
   "source": [
    "mat2d_titles = [\n",
    "    s.upper() for s in [\n",
    "        \"Pre-Crisis\",\n",
    "        \"Shock/Event\",\n",
    "        \"In-Crisis\",\n",
    "        \"Sectors\",\n",
    "        \"Sectoral Information\",\n",
    "        \"Matrix 2D\",\n",
    "    ]\n",
    "]\n",
    "mat2d_properties_ids = af_widgets[(\n",
    "    af_widgets[\"title\"].str.upper()).isin(mat2d_titles)][[\n",
    "        \"properties\", \"analysis_framework_id\"\n",
    "    ]]\n",
    "mat2d_properties = mat2d_properties_ids[\"properties\"].tolist()\n",
    "mat2d_ids = mat2d_properties_ids[\"analysis_framework_id\"].tolist()"
   ]
  },
  {
   "cell_type": "code",
   "execution_count": null,
   "metadata": {},
   "outputs": [],
   "source": []
  },
  {
   "cell_type": "code",
   "execution_count": 9,
   "metadata": {
    "ExecuteTime": {
     "end_time": "2021-06-03T07:39:00.268598Z",
     "start_time": "2021-06-03T07:39:00.265457Z"
    },
    "scrolled": true
   },
   "outputs": [],
   "source": [
    "afids_pillars_subpillars = dict()\n",
    "errors = []\n",
    "for mat, af_id in zip(mat2d_properties, mat2d_ids):\n",
    "    try:\n",
    "        dims = mat[\"data\"]['dimensions']\n",
    "        afids_pillars_subpillars[af_id] = {}\n",
    "        for dim in dims:\n",
    "            pillar = dim[\"title\"]\n",
    "            sub_pillars = []\n",
    "            for sub_pillar_dict in dim[\"subdimensions\"]:\n",
    "                sub_pillars.append(sub_pillar_dict[\"title\"])\n",
    "            afids_pillars_subpillars[af_id][pillar] = sub_pillars\n",
    "    except KeyError:\n",
    "        errors.append(mat)\n"
   ]
  },
  {
   "cell_type": "code",
   "execution_count": null,
   "metadata": {},
   "outputs": [],
   "source": []
  },
  {
   "cell_type": "code",
   "execution_count": 10,
   "metadata": {
    "ExecuteTime": {
     "end_time": "2021-06-03T07:39:00.337377Z",
     "start_time": "2021-06-03T07:39:00.271148Z"
    }
   },
   "outputs": [],
   "source": [
    "exportables[\"data\"] = exportables[\"data\"].apply(json.loads)"
   ]
  },
  {
   "cell_type": "code",
   "execution_count": 11,
   "metadata": {},
   "outputs": [
    {
     "data": {
      "text/plain": [
       "{'title': 'SPECIFIC NEEDS GROUPS'}"
      ]
     },
     "execution_count": 11,
     "metadata": {},
     "output_type": "execute_result"
    }
   ],
   "source": [
    "exportables[\"data\"][0]['excel']"
   ]
  },
  {
   "cell_type": "code",
   "execution_count": 12,
   "metadata": {
    "ExecuteTime": {
     "end_time": "2021-06-03T07:39:00.341618Z",
     "start_time": "2021-06-03T07:39:00.338903Z"
    }
   },
   "outputs": [],
   "source": [
    "def extract_title(x):\n",
    "    if x[\"excel\"].get(\"title\"):\n",
    "        return x[\"excel\"][\"title\"]\n",
    "    elif x[\"excel\"].get(\"type\") == \"multiple\":\n",
    "        return x[\"excel\"][\"titles\"]\n",
    "    \n",
    "def title_case(tag):\n",
    "    if isinstance(tag, (list, tuple)):\n",
    "        return tuple([x.title() for x in tag])\n",
    "    return tag.title()\n",
    "\n",
    "af_titles = exportables[\"data\"].apply(extract_title)"
   ]
  },
  {
   "cell_type": "code",
   "execution_count": null,
   "metadata": {},
   "outputs": [],
   "source": []
  },
  {
   "cell_type": "code",
   "execution_count": 13,
   "metadata": {
    "ExecuteTime": {
     "end_time": "2021-06-03T07:39:00.348765Z",
     "start_time": "2021-06-03T07:39:00.342545Z"
    }
   },
   "outputs": [
    {
     "data": {
      "text/plain": [
       "((200243, 21), (1203311, 4))"
      ]
     },
     "execution_count": 13,
     "metadata": {},
     "output_type": "execute_result"
    }
   ],
   "source": [
    "entries.shape, exportdata.shape"
   ]
  },
  {
   "cell_type": "code",
   "execution_count": 14,
   "metadata": {
    "ExecuteTime": {
     "end_time": "2021-06-03T07:39:00.564220Z",
     "start_time": "2021-06-03T07:39:00.349743Z"
    }
   },
   "outputs": [
    {
     "data": {
      "text/plain": [
       "(153382,)"
      ]
     },
     "execution_count": 14,
     "metadata": {},
     "output_type": "execute_result"
    }
   ],
   "source": [
    "entries[~entries[\"excerpt\"].isna()][\"excerpt\"].unique().shape"
   ]
  },
  {
   "cell_type": "code",
   "execution_count": 15,
   "metadata": {
    "ExecuteTime": {
     "end_time": "2021-06-03T07:39:00.567560Z",
     "start_time": "2021-06-03T07:39:00.565364Z"
    }
   },
   "outputs": [],
   "source": [
    "exid_to_exdata = dict()\n",
    "for ex_id, ex_data in zip(exportables[\"id\"], exportables[\"data\"]):\n",
    "    exid_to_exdata[ex_id] = ex_data"
   ]
  },
  {
   "cell_type": "code",
   "execution_count": 16,
   "metadata": {},
   "outputs": [],
   "source": [
    "# additional tags:\n",
    "# Reliability, Severity, geo location, crisis type, affected groups, "
   ]
  },
  {
   "cell_type": "code",
   "execution_count": 17,
   "metadata": {
    "ExecuteTime": {
     "end_time": "2021-06-03T07:39:00.571376Z",
     "start_time": "2021-06-03T07:39:00.568655Z"
    }
   },
   "outputs": [
    {
     "data": {
      "text/plain": [
       "array(['SPECIFIC NEEDS GROUPS', 'DATE OF INFORMATION', 'EXCERPT',\n",
       "       'DEMOGRAPHIC GROUPS', 'RELIABILITY', 'SEVERITY', 'AFFECTED GROUPS',\n",
       "       'Matrix 1D', 'Sectoral Information', 'LOCATION',\n",
       "       'Operational Environment', 'IN-CRISIS', 'Information Date',\n",
       "       'Sectors', 'Flag', 'Severity', 'PRE-CRISIS', 'Cross sector',\n",
       "       'Affected groups', 'Specific Needs Groups', 'Demographic Groups',\n",
       "       'Reliability', 'Geo Location', 'Excerpt', 'Information date',\n",
       "       'Cross Sectors', 'Matrix 2D', 'Crisis type', 'POPULATION GROUPS',\n",
       "       'SHOCK/EVENT', 'Crisis Type', 'DISPLACED POP TYPE',\n",
       "       'HIGH LEVEL TAGS', 'Additional Context', 'CLEANING tags',\n",
       "       'Cleaning comments', 'Comment', 'Response Type',\n",
       "       'Context additional tags'], dtype=object)"
      ]
     },
     "execution_count": 17,
     "metadata": {},
     "output_type": "execute_result"
    }
   ],
   "source": [
    "af_widgets[\"title\"].unique()"
   ]
  },
  {
   "cell_type": "code",
   "execution_count": 18,
   "metadata": {
    "ExecuteTime": {
     "end_time": "2021-06-03T07:39:00.575158Z",
     "start_time": "2021-06-03T07:39:00.572326Z"
    }
   },
   "outputs": [],
   "source": [
    "widget_key_id_to_title = dict()\n",
    "for w_key, w_id, title in zip(af_widgets[\"key\"], af_widgets[\"widget_id\"], af_widgets[\"title\"]):\n",
    "    widget_key_id_to_title[(w_key, w_id)] = title"
   ]
  },
  {
   "cell_type": "code",
   "execution_count": 19,
   "metadata": {
    "ExecuteTime": {
     "end_time": "2021-06-03T07:39:00.581122Z",
     "start_time": "2021-06-03T07:39:00.576118Z"
    }
   },
   "outputs": [],
   "source": [
    "def exportdata_to_tag_title(row):\n",
    "    data = json.loads(row[1])\n",
    "    wkey, wid = None, None\n",
    "    if data.get(\"common\"):\n",
    "        wkey = data.get(\"common\").get(\"widget_key\")\n",
    "        wid = data[\"common\"].get(\"widget_id\")\n",
    "    if wkey and wid:\n",
    "        if widget_key_id_to_title.get((wkey, wid)):\n",
    "            return widget_key_id_to_title.get((wkey, wid))\n",
    "    if data.get(\"report\") and data[\"report\"].get(\"other\"):\n",
    "            if len(data[\"report\"][\"other\"]) == 1 and data[\"report\"][\"other\"][0].get(\"title\"):\n",
    "                if data[\"report\"][\"other\"][0][\"title\"]:\n",
    "                    return data[\"report\"][\"other\"][0][\"title\"]\n",
    "    if isinstance(data.get(\"excel\"), list) and len(data[\"excel\"])==1 and \\\n",
    "     data[\"excel\"][0].get(\"widget_key\") and data[\"excel\"][0].get(\"widget_id\"):\n",
    "        wkey = data[\"excel\"][0][\"widget_key\"]\n",
    "        wid = data[\"excel\"][0][\"widget_id\"]\n",
    "        if widget_key_id_to_title.get((wkey, wid)):\n",
    "            return widget_key_id_to_title.get((wkey, wid))\n",
    "    exportable_id = row[3]\n",
    "    if exid_to_exdata[exportable_id][\"excel\"].get(\"title\"):\n",
    "        return exid_to_exdata[exportable_id][\"excel\"][\"title\"]\n",
    "    elif exid_to_exdata[exportable_id][\"excel\"].get(\"type\") == \"multiple\":\n",
    "        return exid_to_exdata[exportable_id][\"excel\"][\"titles\"]\n",
    "    raise"
   ]
  },
  {
   "cell_type": "code",
   "execution_count": 20,
   "metadata": {
    "ExecuteTime": {
     "end_time": "2021-06-03T07:39:11.383391Z",
     "start_time": "2021-06-03T07:39:00.582038Z"
    }
   },
   "outputs": [],
   "source": [
    "exportdata[\"tag_title\"] = exportdata.apply(exportdata_to_tag_title, axis=1)"
   ]
  },
  {
   "cell_type": "code",
   "execution_count": 21,
   "metadata": {
    "ExecuteTime": {
     "end_time": "2021-06-03T07:39:11.387962Z",
     "start_time": "2021-06-03T07:39:11.384452Z"
    }
   },
   "outputs": [],
   "source": [
    "def exportdata_to_tag_value(row):\n",
    "    data = json.loads(row[1])\n",
    "    if isinstance(data[\"excel\"], list) and len(data[\"excel\"])==1:\n",
    "        return data[\"excel\"][0][\"value\"]\n",
    "    if data[\"excel\"].get(\"type\") == \"lists\":\n",
    "        return data[\"excel\"][\"values\"]\n",
    "    if isinstance(data[\"excel\"], dict) and \"value\" in data[\"excel\"]:\n",
    "        return data[\"excel\"].get(\"value\")\n",
    "    if isinstance(data[\"excel\"], dict) and \"values\" in data[\"excel\"]:\n",
    "        return data[\"excel\"].get(\"values\")\n",
    "    elif \"values\" in data[\"common\"]:\n",
    "        return data[\"common\"][\"values\"]\n",
    "    elif \"value\" in data[\"common\"]:\n",
    "        return data[\"common\"][\"value\"]\n",
    "    raise"
   ]
  },
  {
   "cell_type": "code",
   "execution_count": 22,
   "metadata": {
    "ExecuteTime": {
     "end_time": "2021-06-03T07:39:24.410072Z",
     "start_time": "2021-06-03T07:39:11.389079Z"
    }
   },
   "outputs": [],
   "source": [
    "exportdata[\"tag_value\"] = exportdata.apply(exportdata_to_tag_value, axis=1)"
   ]
  },
  {
   "cell_type": "code",
   "execution_count": 23,
   "metadata": {
    "ExecuteTime": {
     "end_time": "2021-06-03T07:39:24.414369Z",
     "start_time": "2021-06-03T07:39:24.411538Z"
    }
   },
   "outputs": [],
   "source": [
    "def title_case(tag):\n",
    "    if isinstance(tag, (list, tuple)):\n",
    "        return tuple([x.title() for x in tag])\n",
    "    return tag.title()"
   ]
  },
  {
   "cell_type": "code",
   "execution_count": 24,
   "metadata": {
    "ExecuteTime": {
     "end_time": "2021-06-03T07:39:24.835931Z",
     "start_time": "2021-06-03T07:39:24.415835Z"
    }
   },
   "outputs": [],
   "source": [
    "exportdata[\"tag_title\"] = exportdata[\"tag_title\"].apply(title_case)"
   ]
  },
  {
   "cell_type": "code",
   "execution_count": null,
   "metadata": {},
   "outputs": [],
   "source": []
  },
  {
   "cell_type": "code",
   "execution_count": null,
   "metadata": {},
   "outputs": [],
   "source": []
  },
  {
   "cell_type": "code",
   "execution_count": null,
   "metadata": {},
   "outputs": [],
   "source": []
  },
  {
   "cell_type": "code",
   "execution_count": null,
   "metadata": {},
   "outputs": [],
   "source": []
  },
  {
   "cell_type": "code",
   "execution_count": null,
   "metadata": {},
   "outputs": [],
   "source": []
  },
  {
   "cell_type": "code",
   "execution_count": null,
   "metadata": {},
   "outputs": [],
   "source": []
  },
  {
   "cell_type": "code",
   "execution_count": 25,
   "metadata": {
    "ExecuteTime": {
     "end_time": "2021-06-03T07:39:24.839151Z",
     "start_time": "2021-06-03T07:39:24.837206Z"
    }
   },
   "outputs": [],
   "source": [
    "#exportdata[\"tag_title\"].unique()\n",
    "# 1. GIMAC --> Pre-Crisis, Shock/Event, In-Crisis\n",
    "# 2. 2020 Okular --> Sectoral Information\n",
    "# 3. Okular Analytics Generic --> Sectoral Information\n",
    "# 4. Rohingya Framework --> Sectors\n",
    "# 5. IFRC 2018 --> Sectors\n",
    "# 6. Colombia AF --> Sectoral Information\n",
    "# 7. Nigeria Situation Analysis (OA) --> Sectoral Information\n",
    "# 8. Situation Analysis Generic Yemen --> Matrix 2D\n",
    "# 9. Situation Analysis Generic Libya --> Sectors"
   ]
  },
  {
   "cell_type": "code",
   "execution_count": 26,
   "metadata": {
    "ExecuteTime": {
     "end_time": "2021-06-03T07:39:24.842485Z",
     "start_time": "2021-06-03T07:39:24.840294Z"
    }
   },
   "outputs": [],
   "source": [
    "secondary_tags_titles = [\n",
    "        \"Severity\",\n",
    "        \"Reliability\",\n",
    "        \"Demographic Groups\",\n",
    "        \"Specific Needs Groups\",\n",
    "        \"Location\",\n",
    "        \"Information Date\",\n",
    "#        \"Affected Groups\"\n",
    "]"
   ]
  },
  {
   "cell_type": "code",
   "execution_count": null,
   "metadata": {},
   "outputs": [],
   "source": []
  },
  {
   "cell_type": "code",
   "execution_count": 27,
   "metadata": {
    "ExecuteTime": {
     "end_time": "2021-06-03T07:39:25.028734Z",
     "start_time": "2021-06-03T07:39:24.847221Z"
    }
   },
   "outputs": [],
   "source": [
    "exportdata_secondary_tags = exportdata[exportdata[\"tag_title\"].isin(secondary_tags_titles)]"
   ]
  },
  {
   "cell_type": "code",
   "execution_count": 28,
   "metadata": {
    "ExecuteTime": {
     "end_time": "2021-06-03T07:39:25.035351Z",
     "start_time": "2021-06-03T07:39:25.031723Z"
    }
   },
   "outputs": [
    {
     "data": {
      "text/plain": [
       "((779736, 6), (1203311, 6), (200243, 21))"
      ]
     },
     "execution_count": 28,
     "metadata": {},
     "output_type": "execute_result"
    }
   ],
   "source": [
    "exportdata_secondary_tags.shape, exportdata.shape, entries.shape"
   ]
  },
  {
   "cell_type": "code",
   "execution_count": 29,
   "metadata": {
    "ExecuteTime": {
     "end_time": "2021-06-03T07:39:25.262177Z",
     "start_time": "2021-06-03T07:39:25.037339Z"
    }
   },
   "outputs": [],
   "source": [
    "entries_labeled_secondary_tags = pd.merge(entries,\n",
    "                                 exportdata_secondary_tags,\n",
    "                                 how=\"inner\",\n",
    "                                 left_on=\"id\",\n",
    "                                 right_on=\"entry_id\",\n",
    "                                 suffixes=('_entry', '_exportdata'))"
   ]
  },
  {
   "cell_type": "code",
   "execution_count": 30,
   "metadata": {
    "ExecuteTime": {
     "end_time": "2021-06-03T07:39:25.444911Z",
     "start_time": "2021-06-03T07:39:25.263859Z"
    }
   },
   "outputs": [
    {
     "data": {
      "text/plain": [
       "((200243, 21), (153382,), (779736, 6))"
      ]
     },
     "execution_count": 30,
     "metadata": {},
     "output_type": "execute_result"
    }
   ],
   "source": [
    "entries.shape, entries[~entries[\"excerpt\"].isna()][\"excerpt\"].unique().shape, exportdata_secondary_tags.shape"
   ]
  },
  {
   "cell_type": "code",
   "execution_count": 31,
   "metadata": {},
   "outputs": [
    {
     "data": {
      "text/html": [
       "<div>\n",
       "<style scoped>\n",
       "    .dataframe tbody tr th:only-of-type {\n",
       "        vertical-align: middle;\n",
       "    }\n",
       "\n",
       "    .dataframe tbody tr th {\n",
       "        vertical-align: top;\n",
       "    }\n",
       "\n",
       "    .dataframe thead th {\n",
       "        text-align: right;\n",
       "    }\n",
       "</style>\n",
       "<table border=\"1\" class=\"dataframe\">\n",
       "  <thead>\n",
       "    <tr style=\"text-align: right;\">\n",
       "      <th></th>\n",
       "      <th>id</th>\n",
       "      <th>created_at</th>\n",
       "      <th>modified_at</th>\n",
       "      <th>excerpt</th>\n",
       "      <th>image_raw</th>\n",
       "      <th>analysis_framework_id</th>\n",
       "      <th>created_by_id</th>\n",
       "      <th>lead_id</th>\n",
       "      <th>modified_by_id</th>\n",
       "      <th>entry_type</th>\n",
       "      <th>...</th>\n",
       "      <th>order</th>\n",
       "      <th>client_id</th>\n",
       "      <th>project_id</th>\n",
       "      <th>tabular_field_id</th>\n",
       "      <th>dropped_excerpt</th>\n",
       "      <th>highlight_hidden</th>\n",
       "      <th>verified</th>\n",
       "      <th>verification_last_changed_by_id</th>\n",
       "      <th>image_id</th>\n",
       "      <th>title</th>\n",
       "    </tr>\n",
       "  </thead>\n",
       "  <tbody>\n",
       "    <tr>\n",
       "      <th>0</th>\n",
       "      <td>25639</td>\n",
       "      <td>2019-03-24 11:25:28.055219+00</td>\n",
       "      <td>2019-03-25 04:27:17.715687+00</td>\n",
       "      <td>On March 19, search-andrescue personnel airlif...</td>\n",
       "      <td>NaN</td>\n",
       "      <td>273</td>\n",
       "      <td>26</td>\n",
       "      <td>10607</td>\n",
       "      <td>26</td>\n",
       "      <td>excerpt</td>\n",
       "      <td>...</td>\n",
       "      <td>13</td>\n",
       "      <td>odi4z54i</td>\n",
       "      <td>878</td>\n",
       "      <td>NaN</td>\n",
       "      <td>NaN</td>\n",
       "      <td>False</td>\n",
       "      <td>False</td>\n",
       "      <td>NaN</td>\n",
       "      <td>NaN</td>\n",
       "      <td>IFRC - Cyclone Idai, March 2019</td>\n",
       "    </tr>\n",
       "    <tr>\n",
       "      <th>1</th>\n",
       "      <td>54325</td>\n",
       "      <td>2019-08-13 08:51:01.120935+00</td>\n",
       "      <td>2021-05-06 07:14:14.773704+00</td>\n",
       "      <td>NaN</td>\n",
       "      <td>https://api.thedeep.io/file/19293/</td>\n",
       "      <td>829</td>\n",
       "      <td>1395</td>\n",
       "      <td>16973</td>\n",
       "      <td>1395</td>\n",
       "      <td>image</td>\n",
       "      <td>...</td>\n",
       "      <td>17</td>\n",
       "      <td>ptmusm3b</td>\n",
       "      <td>1186</td>\n",
       "      <td>NaN</td>\n",
       "      <td>NaN</td>\n",
       "      <td>False</td>\n",
       "      <td>False</td>\n",
       "      <td>NaN</td>\n",
       "      <td>19293.0</td>\n",
       "      <td>UNHCR Chile</td>\n",
       "    </tr>\n",
       "    <tr>\n",
       "      <th>2</th>\n",
       "      <td>102051</td>\n",
       "      <td>2020-05-28 10:15:38.075272+00</td>\n",
       "      <td>2020-06-17 10:23:13.365974+00</td>\n",
       "      <td>Currently, there are 139,771 confirmed cases i...</td>\n",
       "      <td>NaN</td>\n",
       "      <td>699</td>\n",
       "      <td>26</td>\n",
       "      <td>28940</td>\n",
       "      <td>657</td>\n",
       "      <td>excerpt</td>\n",
       "      <td>...</td>\n",
       "      <td>2</td>\n",
       "      <td>c5jrys5cq7vvjxju</td>\n",
       "      <td>1142</td>\n",
       "      <td>NaN</td>\n",
       "      <td>NaN</td>\n",
       "      <td>False</td>\n",
       "      <td>False</td>\n",
       "      <td>NaN</td>\n",
       "      <td>NaN</td>\n",
       "      <td>IFRC Turkey</td>\n",
       "    </tr>\n",
       "    <tr>\n",
       "      <th>3</th>\n",
       "      <td>65692</td>\n",
       "      <td>2019-10-09 11:40:11.416419+00</td>\n",
       "      <td>2021-05-06 07:14:31.449556+00</td>\n",
       "      <td>NaN</td>\n",
       "      <td>https://api.thedeep.io/file/23416/</td>\n",
       "      <td>829</td>\n",
       "      <td>1396</td>\n",
       "      <td>18714</td>\n",
       "      <td>1396</td>\n",
       "      <td>image</td>\n",
       "      <td>...</td>\n",
       "      <td>21</td>\n",
       "      <td>a7dfeews</td>\n",
       "      <td>1183</td>\n",
       "      <td>NaN</td>\n",
       "      <td>NaN</td>\n",
       "      <td>False</td>\n",
       "      <td>False</td>\n",
       "      <td>NaN</td>\n",
       "      <td>23416.0</td>\n",
       "      <td>UNHCR Colombia</td>\n",
       "    </tr>\n",
       "    <tr>\n",
       "      <th>4</th>\n",
       "      <td>21660</td>\n",
       "      <td>2019-02-08 11:27:52.756824+00</td>\n",
       "      <td>2019-02-08 11:27:53.091176+00</td>\n",
       "      <td>According to The Guardian, more than 9,000 ref...</td>\n",
       "      <td>NaN</td>\n",
       "      <td>552</td>\n",
       "      <td>657</td>\n",
       "      <td>8644</td>\n",
       "      <td>657</td>\n",
       "      <td>excerpt</td>\n",
       "      <td>...</td>\n",
       "      <td>2</td>\n",
       "      <td>x8t1upes</td>\n",
       "      <td>788</td>\n",
       "      <td>NaN</td>\n",
       "      <td>According to The Guardian, more than 9,000 ref...</td>\n",
       "      <td>False</td>\n",
       "      <td>False</td>\n",
       "      <td>NaN</td>\n",
       "      <td>NaN</td>\n",
       "      <td>Nigeria Situation Analysis (OA)</td>\n",
       "    </tr>\n",
       "  </tbody>\n",
       "</table>\n",
       "<p>5 rows × 21 columns</p>\n",
       "</div>"
      ],
      "text/plain": [
       "       id                     created_at                    modified_at  \\\n",
       "0   25639  2019-03-24 11:25:28.055219+00  2019-03-25 04:27:17.715687+00   \n",
       "1   54325  2019-08-13 08:51:01.120935+00  2021-05-06 07:14:14.773704+00   \n",
       "2  102051  2020-05-28 10:15:38.075272+00  2020-06-17 10:23:13.365974+00   \n",
       "3   65692  2019-10-09 11:40:11.416419+00  2021-05-06 07:14:31.449556+00   \n",
       "4   21660  2019-02-08 11:27:52.756824+00  2019-02-08 11:27:53.091176+00   \n",
       "\n",
       "                                             excerpt  \\\n",
       "0  On March 19, search-andrescue personnel airlif...   \n",
       "1                                                NaN   \n",
       "2  Currently, there are 139,771 confirmed cases i...   \n",
       "3                                                NaN   \n",
       "4  According to The Guardian, more than 9,000 ref...   \n",
       "\n",
       "                            image_raw  analysis_framework_id  created_by_id  \\\n",
       "0                                 NaN                    273             26   \n",
       "1  https://api.thedeep.io/file/19293/                    829           1395   \n",
       "2                                 NaN                    699             26   \n",
       "3  https://api.thedeep.io/file/23416/                    829           1396   \n",
       "4                                 NaN                    552            657   \n",
       "\n",
       "   lead_id  modified_by_id entry_type  ...  order         client_id  \\\n",
       "0    10607              26    excerpt  ...     13          odi4z54i   \n",
       "1    16973            1395      image  ...     17          ptmusm3b   \n",
       "2    28940             657    excerpt  ...      2  c5jrys5cq7vvjxju   \n",
       "3    18714            1396      image  ...     21          a7dfeews   \n",
       "4     8644             657    excerpt  ...      2          x8t1upes   \n",
       "\n",
       "  project_id  tabular_field_id  \\\n",
       "0        878               NaN   \n",
       "1       1186               NaN   \n",
       "2       1142               NaN   \n",
       "3       1183               NaN   \n",
       "4        788               NaN   \n",
       "\n",
       "                                     dropped_excerpt highlight_hidden  \\\n",
       "0                                                NaN            False   \n",
       "1                                                NaN            False   \n",
       "2                                                NaN            False   \n",
       "3                                                NaN            False   \n",
       "4  According to The Guardian, more than 9,000 ref...            False   \n",
       "\n",
       "   verified  verification_last_changed_by_id  image_id  \\\n",
       "0     False                              NaN       NaN   \n",
       "1     False                              NaN   19293.0   \n",
       "2     False                              NaN       NaN   \n",
       "3     False                              NaN   23416.0   \n",
       "4     False                              NaN       NaN   \n",
       "\n",
       "                             title  \n",
       "0  IFRC - Cyclone Idai, March 2019  \n",
       "1                      UNHCR Chile  \n",
       "2                      IFRC Turkey  \n",
       "3                   UNHCR Colombia  \n",
       "4  Nigeria Situation Analysis (OA)  \n",
       "\n",
       "[5 rows x 21 columns]"
      ]
     },
     "execution_count": 31,
     "metadata": {},
     "output_type": "execute_result"
    }
   ],
   "source": [
    "entries.head()"
   ]
  },
  {
   "cell_type": "code",
   "execution_count": 32,
   "metadata": {},
   "outputs": [
    {
     "data": {
      "text/html": [
       "<div>\n",
       "<style scoped>\n",
       "    .dataframe tbody tr th:only-of-type {\n",
       "        vertical-align: middle;\n",
       "    }\n",
       "\n",
       "    .dataframe tbody tr th {\n",
       "        vertical-align: top;\n",
       "    }\n",
       "\n",
       "    .dataframe thead th {\n",
       "        text-align: right;\n",
       "    }\n",
       "</style>\n",
       "<table border=\"1\" class=\"dataframe\">\n",
       "  <thead>\n",
       "    <tr style=\"text-align: right;\">\n",
       "      <th></th>\n",
       "      <th>id</th>\n",
       "      <th>data</th>\n",
       "      <th>entry_id</th>\n",
       "      <th>exportable_id</th>\n",
       "      <th>tag_title</th>\n",
       "      <th>tag_value</th>\n",
       "    </tr>\n",
       "  </thead>\n",
       "  <tbody>\n",
       "    <tr>\n",
       "      <th>0</th>\n",
       "      <td>1633665</td>\n",
       "      <td>{\"excel\": [{\"value\": null, \"version\": 1, \"widg...</td>\n",
       "      <td>338269</td>\n",
       "      <td>8625</td>\n",
       "      <td>Severity</td>\n",
       "      <td>None</td>\n",
       "    </tr>\n",
       "    <tr>\n",
       "      <th>1</th>\n",
       "      <td>1633664</td>\n",
       "      <td>{\"excel\": {\"value\": \"Usually Reliable\"}, \"comm...</td>\n",
       "      <td>338269</td>\n",
       "      <td>8623</td>\n",
       "      <td>Reliability</td>\n",
       "      <td>Usually Reliable</td>\n",
       "    </tr>\n",
       "    <tr>\n",
       "      <th>3</th>\n",
       "      <td>1633662</td>\n",
       "      <td>{\"excel\": {}, \"common\": {\"values\": [\"20-05-202...</td>\n",
       "      <td>338269</td>\n",
       "      <td>8621</td>\n",
       "      <td>Information Date</td>\n",
       "      <td>[20-05-2021, None]</td>\n",
       "    </tr>\n",
       "    <tr>\n",
       "      <th>4</th>\n",
       "      <td>1633661</td>\n",
       "      <td>{\"excel\": {\"polygons\": []}, \"common\": {\"values...</td>\n",
       "      <td>338269</td>\n",
       "      <td>8619</td>\n",
       "      <td>Location</td>\n",
       "      <td>[486383]</td>\n",
       "    </tr>\n",
       "    <tr>\n",
       "      <th>8</th>\n",
       "      <td>998798</td>\n",
       "      <td>{\"excel\": {\"polygons\": []}, \"common\": {\"values...</td>\n",
       "      <td>202094</td>\n",
       "      <td>9458</td>\n",
       "      <td>Location</td>\n",
       "      <td>[517928]</td>\n",
       "    </tr>\n",
       "  </tbody>\n",
       "</table>\n",
       "</div>"
      ],
      "text/plain": [
       "        id                                               data  entry_id  \\\n",
       "0  1633665  {\"excel\": [{\"value\": null, \"version\": 1, \"widg...    338269   \n",
       "1  1633664  {\"excel\": {\"value\": \"Usually Reliable\"}, \"comm...    338269   \n",
       "3  1633662  {\"excel\": {}, \"common\": {\"values\": [\"20-05-202...    338269   \n",
       "4  1633661  {\"excel\": {\"polygons\": []}, \"common\": {\"values...    338269   \n",
       "8   998798  {\"excel\": {\"polygons\": []}, \"common\": {\"values...    202094   \n",
       "\n",
       "   exportable_id         tag_title           tag_value  \n",
       "0           8625          Severity                None  \n",
       "1           8623       Reliability    Usually Reliable  \n",
       "3           8621  Information Date  [20-05-2021, None]  \n",
       "4           8619          Location            [486383]  \n",
       "8           9458          Location            [517928]  "
      ]
     },
     "execution_count": 32,
     "metadata": {},
     "output_type": "execute_result"
    }
   ],
   "source": [
    "exportdata_secondary_tags.head()"
   ]
  },
  {
   "cell_type": "code",
   "execution_count": 33,
   "metadata": {},
   "outputs": [],
   "source": [
    "leads = entries_labeled_secondary_tags.lead_id.unique()"
   ]
  },
  {
   "cell_type": "code",
   "execution_count": 34,
   "metadata": {},
   "outputs": [],
   "source": [
    "entries_labeled_secondary_tags_cleaned =\\\n",
    "                entries_labeled_secondary_tags[~entries_labeled_secondary_tags[\"excerpt\"].isna()]\\\n",
    "                                    .drop(columns=['tabular_field_id',\n",
    "                                                   'image_id',\n",
    "                                                   'image_raw', \n",
    "                                                   'created_at', \n",
    "                                                   'modified_at', \n",
    "                                                   'created_by_id', \n",
    "                                                   'modified_by_id',\n",
    "                                                   'entry_type', \n",
    "                                                   'dropped_excerpt', \n",
    "                                                   'highlight_hidden', \n",
    "                                                   'verified', \n",
    "                                                   'verification_last_changed_by_id', \n",
    "                                                   'client_id',\n",
    "                                                   'id_exportdata',\n",
    "                                                   'information_date',\n",
    "                                                   'order',\n",
    "                                                   'id_entry',\n",
    "                                                   'data'])"
   ]
  },
  {
   "cell_type": "code",
   "execution_count": 35,
   "metadata": {},
   "outputs": [
    {
     "data": {
      "text/plain": [
       "((563003, 9),\n",
       " Index(['excerpt', 'analysis_framework_id', 'lead_id', 'project_id', 'title',\n",
       "        'entry_id', 'exportable_id', 'tag_title', 'tag_value'],\n",
       "       dtype='object'))"
      ]
     },
     "execution_count": 35,
     "metadata": {},
     "output_type": "execute_result"
    }
   ],
   "source": [
    "entries_labeled_secondary_tags_cleaned.shape, entries_labeled_secondary_tags_cleaned.columns"
   ]
  },
  {
   "cell_type": "code",
   "execution_count": 36,
   "metadata": {},
   "outputs": [
    {
     "data": {
      "text/plain": [
       "array(['Information Date', 'Reliability', 'Severity', 'Location',\n",
       "       'Demographic Groups', 'Specific Needs Groups'], dtype=object)"
      ]
     },
     "execution_count": 36,
     "metadata": {},
     "output_type": "execute_result"
    }
   ],
   "source": [
    "entries_labeled_secondary_tags_cleaned.tag_title.unique()"
   ]
  },
  {
   "cell_type": "code",
   "execution_count": 37,
   "metadata": {},
   "outputs": [
    {
     "data": {
      "text/html": [
       "<div>\n",
       "<style scoped>\n",
       "    .dataframe tbody tr th:only-of-type {\n",
       "        vertical-align: middle;\n",
       "    }\n",
       "\n",
       "    .dataframe tbody tr th {\n",
       "        vertical-align: top;\n",
       "    }\n",
       "\n",
       "    .dataframe thead th {\n",
       "        text-align: right;\n",
       "    }\n",
       "</style>\n",
       "<table border=\"1\" class=\"dataframe\">\n",
       "  <thead>\n",
       "    <tr style=\"text-align: right;\">\n",
       "      <th></th>\n",
       "      <th>excerpt</th>\n",
       "      <th>analysis_framework_id</th>\n",
       "      <th>lead_id</th>\n",
       "      <th>project_id</th>\n",
       "      <th>title</th>\n",
       "      <th>entry_id</th>\n",
       "      <th>exportable_id</th>\n",
       "      <th>tag_title</th>\n",
       "      <th>tag_value</th>\n",
       "    </tr>\n",
       "  </thead>\n",
       "  <tbody>\n",
       "    <tr>\n",
       "      <th>0</th>\n",
       "      <td>On March 19, search-andrescue personnel airlif...</td>\n",
       "      <td>273</td>\n",
       "      <td>10607</td>\n",
       "      <td>878</td>\n",
       "      <td>IFRC - Cyclone Idai, March 2019</td>\n",
       "      <td>25639</td>\n",
       "      <td>3148</td>\n",
       "      <td>Information Date</td>\n",
       "      <td>22-03-2019</td>\n",
       "    </tr>\n",
       "    <tr>\n",
       "      <th>1</th>\n",
       "      <td>On March 19, search-andrescue personnel airlif...</td>\n",
       "      <td>273</td>\n",
       "      <td>10607</td>\n",
       "      <td>878</td>\n",
       "      <td>IFRC - Cyclone Idai, March 2019</td>\n",
       "      <td>25639</td>\n",
       "      <td>3145</td>\n",
       "      <td>Reliability</td>\n",
       "      <td>Usually</td>\n",
       "    </tr>\n",
       "  </tbody>\n",
       "</table>\n",
       "</div>"
      ],
      "text/plain": [
       "                                             excerpt  analysis_framework_id  \\\n",
       "0  On March 19, search-andrescue personnel airlif...                    273   \n",
       "1  On March 19, search-andrescue personnel airlif...                    273   \n",
       "\n",
       "   lead_id  project_id                            title  entry_id  \\\n",
       "0    10607         878  IFRC - Cyclone Idai, March 2019     25639   \n",
       "1    10607         878  IFRC - Cyclone Idai, March 2019     25639   \n",
       "\n",
       "   exportable_id         tag_title   tag_value  \n",
       "0           3148  Information Date  22-03-2019  \n",
       "1           3145       Reliability     Usually  "
      ]
     },
     "execution_count": 37,
     "metadata": {},
     "output_type": "execute_result"
    }
   ],
   "source": [
    "entries_labeled_secondary_tags_cleaned.head(2)"
   ]
  },
  {
   "cell_type": "code",
   "execution_count": null,
   "metadata": {},
   "outputs": [],
   "source": []
  },
  {
   "cell_type": "code",
   "execution_count": 38,
   "metadata": {},
   "outputs": [],
   "source": [
    "reliability_raw_to_processed_dict = {\n",
    "    'Completely':'Completely Reliable',\n",
    "    'Completely Reliable':'Completely Reliable',\n",
    "    'Usually Reliable':'Usually reliable',\n",
    "    'Usually':'Usually reliable',\n",
    "    'Fairly Reliable':'Fairly Reliable',\n",
    "    'Fairly':'Fairly Reliable',\n",
    "    'Not Usually':'Not Usually Reliable',\n",
    "    'Not Usually Reliable':'Not Usually Reliable',\n",
    "    'Unreliable':'Unreliable',\n",
    "    'Cannot be Used':'Unreliable',\n",
    "    'Unreliable ':'Unreliable'\n",
    "}"
   ]
  },
  {
   "cell_type": "code",
   "execution_count": 39,
   "metadata": {},
   "outputs": [],
   "source": [
    "reliabillity_tags_df = entries_labeled_secondary_tags_cleaned[entries_labeled_secondary_tags_cleaned.tag_title=='Reliability']\\\n",
    "                            .drop(columns=['tag_title'])\n",
    "reliabillity_tags_df['tag_value'] =\\\n",
    "            reliabillity_tags_df['tag_value'].apply(lambda x: [reliability_raw_to_processed_dict[x]])"
   ]
  },
  {
   "cell_type": "code",
   "execution_count": 40,
   "metadata": {},
   "outputs": [
    {
     "data": {
      "text/html": [
       "<div>\n",
       "<style scoped>\n",
       "    .dataframe tbody tr th:only-of-type {\n",
       "        vertical-align: middle;\n",
       "    }\n",
       "\n",
       "    .dataframe tbody tr th {\n",
       "        vertical-align: top;\n",
       "    }\n",
       "\n",
       "    .dataframe thead th {\n",
       "        text-align: right;\n",
       "    }\n",
       "</style>\n",
       "<table border=\"1\" class=\"dataframe\">\n",
       "  <thead>\n",
       "    <tr style=\"text-align: right;\">\n",
       "      <th></th>\n",
       "      <th>excerpt</th>\n",
       "      <th>analysis_framework_id</th>\n",
       "      <th>lead_id</th>\n",
       "      <th>project_id</th>\n",
       "      <th>title</th>\n",
       "      <th>entry_id</th>\n",
       "      <th>exportable_id</th>\n",
       "      <th>tag_value</th>\n",
       "    </tr>\n",
       "  </thead>\n",
       "  <tbody>\n",
       "    <tr>\n",
       "      <th>1</th>\n",
       "      <td>On March 19, search-andrescue personnel airlif...</td>\n",
       "      <td>273</td>\n",
       "      <td>10607</td>\n",
       "      <td>878</td>\n",
       "      <td>IFRC - Cyclone Idai, March 2019</td>\n",
       "      <td>25639</td>\n",
       "      <td>3145</td>\n",
       "      <td>[Usually reliable]</td>\n",
       "    </tr>\n",
       "    <tr>\n",
       "      <th>9</th>\n",
       "      <td>Currently, there are 139,771 confirmed cases i...</td>\n",
       "      <td>699</td>\n",
       "      <td>28940</td>\n",
       "      <td>1142</td>\n",
       "      <td>IFRC Turkey</td>\n",
       "      <td>102051</td>\n",
       "      <td>5295</td>\n",
       "      <td>[Usually reliable]</td>\n",
       "    </tr>\n",
       "  </tbody>\n",
       "</table>\n",
       "</div>"
      ],
      "text/plain": [
       "                                             excerpt  analysis_framework_id  \\\n",
       "1  On March 19, search-andrescue personnel airlif...                    273   \n",
       "9  Currently, there are 139,771 confirmed cases i...                    699   \n",
       "\n",
       "   lead_id  project_id                            title  entry_id  \\\n",
       "1    10607         878  IFRC - Cyclone Idai, March 2019     25639   \n",
       "9    28940        1142                      IFRC Turkey    102051   \n",
       "\n",
       "   exportable_id           tag_value  \n",
       "1           3145  [Usually reliable]  \n",
       "9           5295  [Usually reliable]  "
      ]
     },
     "execution_count": 40,
     "metadata": {},
     "output_type": "execute_result"
    }
   ],
   "source": [
    "reliabillity_tags_df.head(2)"
   ]
  },
  {
   "cell_type": "code",
   "execution_count": null,
   "metadata": {},
   "outputs": [],
   "source": []
  },
  {
   "cell_type": "code",
   "execution_count": 41,
   "metadata": {},
   "outputs": [],
   "source": [
    "#reliabillity_tags_df.to_csv('data_secondary_tags/reliabillity_tags.csv')"
   ]
  },
  {
   "cell_type": "markdown",
   "metadata": {},
   "source": [
    "## Dates"
   ]
  },
  {
   "cell_type": "code",
   "execution_count": 42,
   "metadata": {},
   "outputs": [],
   "source": [
    "date_tags_df =\\\n",
    "    entries_labeled_secondary_tags_cleaned[entries_labeled_secondary_tags_cleaned.tag_title=='Information Date']\\\n",
    "                            .drop(columns=['tag_title'])\n",
    "\n",
    "date_tags_df = date_tags_df[date_tags_df.tag_value.apply(\n",
    "                    lambda x: x!=None and x!=[None, None]\n",
    "            )]"
   ]
  },
  {
   "cell_type": "code",
   "execution_count": 43,
   "metadata": {},
   "outputs": [
    {
     "data": {
      "text/html": [
       "<div>\n",
       "<style scoped>\n",
       "    .dataframe tbody tr th:only-of-type {\n",
       "        vertical-align: middle;\n",
       "    }\n",
       "\n",
       "    .dataframe tbody tr th {\n",
       "        vertical-align: top;\n",
       "    }\n",
       "\n",
       "    .dataframe thead th {\n",
       "        text-align: right;\n",
       "    }\n",
       "</style>\n",
       "<table border=\"1\" class=\"dataframe\">\n",
       "  <thead>\n",
       "    <tr style=\"text-align: right;\">\n",
       "      <th></th>\n",
       "      <th>excerpt</th>\n",
       "      <th>analysis_framework_id</th>\n",
       "      <th>lead_id</th>\n",
       "      <th>project_id</th>\n",
       "      <th>title</th>\n",
       "      <th>entry_id</th>\n",
       "      <th>exportable_id</th>\n",
       "      <th>tag_value</th>\n",
       "    </tr>\n",
       "  </thead>\n",
       "  <tbody>\n",
       "    <tr>\n",
       "      <th>0</th>\n",
       "      <td>On March 19, search-andrescue personnel airlif...</td>\n",
       "      <td>273</td>\n",
       "      <td>10607</td>\n",
       "      <td>878</td>\n",
       "      <td>IFRC - Cyclone Idai, March 2019</td>\n",
       "      <td>25639</td>\n",
       "      <td>3148</td>\n",
       "      <td>22-03-2019</td>\n",
       "    </tr>\n",
       "    <tr>\n",
       "      <th>11</th>\n",
       "      <td>Currently, there are 139,771 confirmed cases i...</td>\n",
       "      <td>699</td>\n",
       "      <td>28940</td>\n",
       "      <td>1142</td>\n",
       "      <td>IFRC Turkey</td>\n",
       "      <td>102051</td>\n",
       "      <td>5300</td>\n",
       "      <td>[11-05-2020, None]</td>\n",
       "    </tr>\n",
       "    <tr>\n",
       "      <th>84</th>\n",
       "      <td> Mt. Pinatubo eruption, June 1991, Atmosphere...</td>\n",
       "      <td>699</td>\n",
       "      <td>12919</td>\n",
       "      <td>1111</td>\n",
       "      <td>IFRC Philippines</td>\n",
       "      <td>33155</td>\n",
       "      <td>5300</td>\n",
       "      <td>[01-06-1991, None]</td>\n",
       "    </tr>\n",
       "    <tr>\n",
       "      <th>89</th>\n",
       "      <td>In addition, there are 922,530* foreign nation...</td>\n",
       "      <td>699</td>\n",
       "      <td>26544</td>\n",
       "      <td>1142</td>\n",
       "      <td>IFRC Turkey</td>\n",
       "      <td>96087</td>\n",
       "      <td>5300</td>\n",
       "      <td>[01-01-2019, 31-03-2020]</td>\n",
       "    </tr>\n",
       "    <tr>\n",
       "      <th>98</th>\n",
       "      <td>\"He has the support, up until now, of the arme...</td>\n",
       "      <td>273</td>\n",
       "      <td>10740</td>\n",
       "      <td>786</td>\n",
       "      <td>Venezuela crisis 2019</td>\n",
       "      <td>26269</td>\n",
       "      <td>3148</td>\n",
       "      <td>23-03-2019</td>\n",
       "    </tr>\n",
       "  </tbody>\n",
       "</table>\n",
       "</div>"
      ],
      "text/plain": [
       "                                              excerpt  analysis_framework_id  \\\n",
       "0   On March 19, search-andrescue personnel airlif...                    273   \n",
       "11  Currently, there are 139,771 confirmed cases i...                    699   \n",
       "84   Mt. Pinatubo eruption, June 1991, Atmosphere...                    699   \n",
       "89  In addition, there are 922,530* foreign nation...                    699   \n",
       "98  \"He has the support, up until now, of the arme...                    273   \n",
       "\n",
       "    lead_id  project_id                            title  entry_id  \\\n",
       "0     10607         878  IFRC - Cyclone Idai, March 2019     25639   \n",
       "11    28940        1142                      IFRC Turkey    102051   \n",
       "84    12919        1111                 IFRC Philippines     33155   \n",
       "89    26544        1142                      IFRC Turkey     96087   \n",
       "98    10740         786            Venezuela crisis 2019     26269   \n",
       "\n",
       "    exportable_id                 tag_value  \n",
       "0            3148                22-03-2019  \n",
       "11           5300        [11-05-2020, None]  \n",
       "84           5300        [01-06-1991, None]  \n",
       "89           5300  [01-01-2019, 31-03-2020]  \n",
       "98           3148                23-03-2019  "
      ]
     },
     "execution_count": 43,
     "metadata": {},
     "output_type": "execute_result"
    }
   ],
   "source": [
    "date_tags_df.head()"
   ]
  },
  {
   "cell_type": "code",
   "execution_count": 44,
   "metadata": {},
   "outputs": [],
   "source": [
    "#date_tags_df.to_csv('data_secondary_tags/date_tags.csv')\n"
   ]
  },
  {
   "cell_type": "code",
   "execution_count": null,
   "metadata": {},
   "outputs": [],
   "source": []
  },
  {
   "cell_type": "markdown",
   "metadata": {},
   "source": [
    "## Locations:"
   ]
  },
  {
   "cell_type": "code",
   "execution_count": 45,
   "metadata": {},
   "outputs": [],
   "source": [
    "geoarea_df = pd.read_csv('geo_geoarea.csv')"
   ]
  },
  {
   "cell_type": "code",
   "execution_count": 46,
   "metadata": {},
   "outputs": [
    {
     "data": {
      "text/html": [
       "<div>\n",
       "<style scoped>\n",
       "    .dataframe tbody tr th:only-of-type {\n",
       "        vertical-align: middle;\n",
       "    }\n",
       "\n",
       "    .dataframe tbody tr th {\n",
       "        vertical-align: top;\n",
       "    }\n",
       "\n",
       "    .dataframe thead th {\n",
       "        text-align: right;\n",
       "    }\n",
       "</style>\n",
       "<table border=\"1\" class=\"dataframe\">\n",
       "  <thead>\n",
       "    <tr style=\"text-align: right;\">\n",
       "      <th></th>\n",
       "      <th>excerpt</th>\n",
       "      <th>analysis_framework_id</th>\n",
       "      <th>lead_id</th>\n",
       "      <th>project_id</th>\n",
       "      <th>title</th>\n",
       "      <th>entry_id</th>\n",
       "      <th>exportable_id</th>\n",
       "      <th>tag_value</th>\n",
       "    </tr>\n",
       "  </thead>\n",
       "  <tbody>\n",
       "    <tr>\n",
       "      <th>8</th>\n",
       "      <td>Currently, there are 139,771 confirmed cases i...</td>\n",
       "      <td>699</td>\n",
       "      <td>28940</td>\n",
       "      <td>1142</td>\n",
       "      <td>IFRC Turkey</td>\n",
       "      <td>102051</td>\n",
       "      <td>5304</td>\n",
       "      <td>[215265]</td>\n",
       "    </tr>\n",
       "    <tr>\n",
       "      <th>17</th>\n",
       "      <td>According to The Guardian, more than 9,000 ref...</td>\n",
       "      <td>552</td>\n",
       "      <td>8644</td>\n",
       "      <td>788</td>\n",
       "      <td>Nigeria Situation Analysis (OA)</td>\n",
       "      <td>21660</td>\n",
       "      <td>4691</td>\n",
       "      <td>[29687]</td>\n",
       "    </tr>\n",
       "    <tr>\n",
       "      <th>36</th>\n",
       "      <td>SANCAKTEPE SUB-PROVINCE: According to Baseline...</td>\n",
       "      <td>699</td>\n",
       "      <td>25511</td>\n",
       "      <td>1142</td>\n",
       "      <td>IFRC Turkey</td>\n",
       "      <td>96070</td>\n",
       "      <td>5304</td>\n",
       "      <td>[215807]</td>\n",
       "    </tr>\n",
       "    <tr>\n",
       "      <th>82</th>\n",
       "      <td> Mt. Pinatubo eruption, June 1991, Atmosphere...</td>\n",
       "      <td>699</td>\n",
       "      <td>12919</td>\n",
       "      <td>1111</td>\n",
       "      <td>IFRC Philippines</td>\n",
       "      <td>33155</td>\n",
       "      <td>5304</td>\n",
       "      <td>[221420]</td>\n",
       "    </tr>\n",
       "    <tr>\n",
       "      <th>87</th>\n",
       "      <td>In addition, there are 922,530* foreign nation...</td>\n",
       "      <td>699</td>\n",
       "      <td>26544</td>\n",
       "      <td>1142</td>\n",
       "      <td>IFRC Turkey</td>\n",
       "      <td>96087</td>\n",
       "      <td>5304</td>\n",
       "      <td>[215265]</td>\n",
       "    </tr>\n",
       "  </tbody>\n",
       "</table>\n",
       "</div>"
      ],
      "text/plain": [
       "                                              excerpt  analysis_framework_id  \\\n",
       "8   Currently, there are 139,771 confirmed cases i...                    699   \n",
       "17  According to The Guardian, more than 9,000 ref...                    552   \n",
       "36  SANCAKTEPE SUB-PROVINCE: According to Baseline...                    699   \n",
       "82   Mt. Pinatubo eruption, June 1991, Atmosphere...                    699   \n",
       "87  In addition, there are 922,530* foreign nation...                    699   \n",
       "\n",
       "    lead_id  project_id                            title  entry_id  \\\n",
       "8     28940        1142                      IFRC Turkey    102051   \n",
       "17     8644         788  Nigeria Situation Analysis (OA)     21660   \n",
       "36    25511        1142                      IFRC Turkey     96070   \n",
       "82    12919        1111                 IFRC Philippines     33155   \n",
       "87    26544        1142                      IFRC Turkey     96087   \n",
       "\n",
       "    exportable_id tag_value  \n",
       "8            5304  [215265]  \n",
       "17           4691   [29687]  \n",
       "36           5304  [215807]  \n",
       "82           5304  [221420]  \n",
       "87           5304  [215265]  "
      ]
     },
     "execution_count": 46,
     "metadata": {},
     "output_type": "execute_result"
    }
   ],
   "source": [
    "geo_location_data =\\\n",
    "    entries_labeled_secondary_tags_cleaned[\n",
    "        entries_labeled_secondary_tags_cleaned.tag_title.apply(lambda x: \"Location\" in (x))\n",
    "    ].drop(columns=['tag_title'])\n",
    "geo_location_data.head()"
   ]
  },
  {
   "cell_type": "code",
   "execution_count": 47,
   "metadata": {},
   "outputs": [],
   "source": [
    "geoarea_cleaned = geoarea_df[['id', 'title']].dropna()\n",
    "geoarea_cleaned['title'] = geoarea_cleaned['title'].apply(lambda x: x.replace('(the)','')\\\n",
    "                                                                        .replace('(la)','').lstrip().rstrip())\n",
    "\n",
    "list_dicts = geoarea_cleaned.to_dict(orient='split')['data']\n",
    "id_to_location = {}\n",
    "for row in list_dicts:\n",
    "    id_to_location[row[0]] = row[1]\n",
    "list_keys = list(id_to_location.keys())"
   ]
  },
  {
   "cell_type": "code",
   "execution_count": 48,
   "metadata": {},
   "outputs": [],
   "source": [
    "def perfectEval(anonstring):\n",
    "    corrected = [int(nb) for nb in anonstring]\n",
    "    return corrected"
   ]
  },
  {
   "cell_type": "code",
   "execution_count": 49,
   "metadata": {},
   "outputs": [],
   "source": [
    "geo_location_data['tag_value'] = geo_location_data['tag_value'].apply(lambda x: perfectEval(x))"
   ]
  },
  {
   "cell_type": "code",
   "execution_count": null,
   "metadata": {},
   "outputs": [],
   "source": []
  },
  {
   "cell_type": "code",
   "execution_count": 50,
   "metadata": {},
   "outputs": [
    {
     "data": {
      "application/vnd.jupyter.widget-view+json": {
       "model_id": "f52085d7f5da4055a42c2c5efba7180d",
       "version_major": 2,
       "version_minor": 0
      },
      "text/plain": [
       "  0%|          | 0/139 [00:00<?, ?it/s]"
      ]
     },
     "metadata": {},
     "output_type": "display_data"
    }
   ],
   "source": [
    "n = 1000\n",
    "final_df = pd.DataFrame()\n",
    "for i in tqdm(range(0,geo_location_data.shape[0],n)):\n",
    "    tmp_df = geo_location_data[i:i+n].copy()\n",
    "    tmp_df['tag_value'] = tmp_df.tag_value\\\n",
    "                            .apply(lambda x: [id_to_location[int(tag_)] for tag_ in x if int(tag_) in list_keys])\n",
    "    final_df = final_df.append(tmp_df)"
   ]
  },
  {
   "cell_type": "code",
   "execution_count": 51,
   "metadata": {},
   "outputs": [
    {
     "data": {
      "text/html": [
       "<div>\n",
       "<style scoped>\n",
       "    .dataframe tbody tr th:only-of-type {\n",
       "        vertical-align: middle;\n",
       "    }\n",
       "\n",
       "    .dataframe tbody tr th {\n",
       "        vertical-align: top;\n",
       "    }\n",
       "\n",
       "    .dataframe thead th {\n",
       "        text-align: right;\n",
       "    }\n",
       "</style>\n",
       "<table border=\"1\" class=\"dataframe\">\n",
       "  <thead>\n",
       "    <tr style=\"text-align: right;\">\n",
       "      <th></th>\n",
       "      <th>excerpt</th>\n",
       "      <th>analysis_framework_id</th>\n",
       "      <th>lead_id</th>\n",
       "      <th>project_id</th>\n",
       "      <th>title</th>\n",
       "      <th>entry_id</th>\n",
       "      <th>exportable_id</th>\n",
       "      <th>tag_value</th>\n",
       "    </tr>\n",
       "  </thead>\n",
       "  <tbody>\n",
       "    <tr>\n",
       "      <th>8</th>\n",
       "      <td>Currently, there are 139,771 confirmed cases i...</td>\n",
       "      <td>699</td>\n",
       "      <td>28940</td>\n",
       "      <td>1142</td>\n",
       "      <td>IFRC Turkey</td>\n",
       "      <td>102051</td>\n",
       "      <td>5304</td>\n",
       "      <td>[Turkey]</td>\n",
       "    </tr>\n",
       "    <tr>\n",
       "      <th>17</th>\n",
       "      <td>According to The Guardian, more than 9,000 ref...</td>\n",
       "      <td>552</td>\n",
       "      <td>8644</td>\n",
       "      <td>788</td>\n",
       "      <td>Nigeria Situation Analysis (OA)</td>\n",
       "      <td>21660</td>\n",
       "      <td>4691</td>\n",
       "      <td>[Nigeria]</td>\n",
       "    </tr>\n",
       "    <tr>\n",
       "      <th>36</th>\n",
       "      <td>SANCAKTEPE SUB-PROVINCE: According to Baseline...</td>\n",
       "      <td>699</td>\n",
       "      <td>25511</td>\n",
       "      <td>1142</td>\n",
       "      <td>IFRC Turkey</td>\n",
       "      <td>96070</td>\n",
       "      <td>5304</td>\n",
       "      <td>[Sancaktepe]</td>\n",
       "    </tr>\n",
       "    <tr>\n",
       "      <th>82</th>\n",
       "      <td> Mt. Pinatubo eruption, June 1991, Atmosphere...</td>\n",
       "      <td>699</td>\n",
       "      <td>12919</td>\n",
       "      <td>1111</td>\n",
       "      <td>IFRC Philippines</td>\n",
       "      <td>33155</td>\n",
       "      <td>5304</td>\n",
       "      <td>[Philippines]</td>\n",
       "    </tr>\n",
       "    <tr>\n",
       "      <th>87</th>\n",
       "      <td>In addition, there are 922,530* foreign nation...</td>\n",
       "      <td>699</td>\n",
       "      <td>26544</td>\n",
       "      <td>1142</td>\n",
       "      <td>IFRC Turkey</td>\n",
       "      <td>96087</td>\n",
       "      <td>5304</td>\n",
       "      <td>[Turkey]</td>\n",
       "    </tr>\n",
       "    <tr>\n",
       "      <th>...</th>\n",
       "      <td>...</td>\n",
       "      <td>...</td>\n",
       "      <td>...</td>\n",
       "      <td>...</td>\n",
       "      <td>...</td>\n",
       "      <td>...</td>\n",
       "      <td>...</td>\n",
       "      <td>...</td>\n",
       "    </tr>\n",
       "    <tr>\n",
       "      <th>740032</th>\n",
       "      <td>Une structure sanitiare est fonctionnelle à Dj...</td>\n",
       "      <td>1306</td>\n",
       "      <td>63087</td>\n",
       "      <td>2225</td>\n",
       "      <td>IMMAP/DFS RDC</td>\n",
       "      <td>412992</td>\n",
       "      <td>8619</td>\n",
       "      <td>[Djugu]</td>\n",
       "    </tr>\n",
       "    <tr>\n",
       "      <th>740037</th>\n",
       "      <td>Dans la localité de Djaiba, les enseignants on...</td>\n",
       "      <td>1306</td>\n",
       "      <td>63087</td>\n",
       "      <td>2225</td>\n",
       "      <td>IMMAP/DFS RDC</td>\n",
       "      <td>412991</td>\n",
       "      <td>8619</td>\n",
       "      <td>[Djugu]</td>\n",
       "    </tr>\n",
       "    <tr>\n",
       "      <th>740041</th>\n",
       "      <td>L'activité économique a fortement ralenti en 2...</td>\n",
       "      <td>1306</td>\n",
       "      <td>63089</td>\n",
       "      <td>2225</td>\n",
       "      <td>IMMAP/DFS RDC</td>\n",
       "      <td>413010</td>\n",
       "      <td>8619</td>\n",
       "      <td>[République démocratique du Congo]</td>\n",
       "    </tr>\n",
       "    <tr>\n",
       "      <th>740045</th>\n",
       "      <td>L'inflation a grimpé en flèche, alimentée par ...</td>\n",
       "      <td>1306</td>\n",
       "      <td>63089</td>\n",
       "      <td>2225</td>\n",
       "      <td>IMMAP/DFS RDC</td>\n",
       "      <td>413011</td>\n",
       "      <td>8619</td>\n",
       "      <td>[République démocratique du Congo]</td>\n",
       "    </tr>\n",
       "    <tr>\n",
       "      <th>740048</th>\n",
       "      <td>Nariño | En Ipiales, el 26 de mayo se realizó ...</td>\n",
       "      <td>829</td>\n",
       "      <td>63199</td>\n",
       "      <td>1183</td>\n",
       "      <td>UNHCR Colombia</td>\n",
       "      <td>402428</td>\n",
       "      <td>5920</td>\n",
       "      <td>[Ipiales]</td>\n",
       "    </tr>\n",
       "  </tbody>\n",
       "</table>\n",
       "<p>138809 rows × 8 columns</p>\n",
       "</div>"
      ],
      "text/plain": [
       "                                                  excerpt  \\\n",
       "8       Currently, there are 139,771 confirmed cases i...   \n",
       "17      According to The Guardian, more than 9,000 ref...   \n",
       "36      SANCAKTEPE SUB-PROVINCE: According to Baseline...   \n",
       "82       Mt. Pinatubo eruption, June 1991, Atmosphere...   \n",
       "87      In addition, there are 922,530* foreign nation...   \n",
       "...                                                   ...   \n",
       "740032  Une structure sanitiare est fonctionnelle à Dj...   \n",
       "740037  Dans la localité de Djaiba, les enseignants on...   \n",
       "740041  L'activité économique a fortement ralenti en 2...   \n",
       "740045  L'inflation a grimpé en flèche, alimentée par ...   \n",
       "740048  Nariño | En Ipiales, el 26 de mayo se realizó ...   \n",
       "\n",
       "        analysis_framework_id  lead_id  project_id  \\\n",
       "8                         699    28940        1142   \n",
       "17                        552     8644         788   \n",
       "36                        699    25511        1142   \n",
       "82                        699    12919        1111   \n",
       "87                        699    26544        1142   \n",
       "...                       ...      ...         ...   \n",
       "740032                   1306    63087        2225   \n",
       "740037                   1306    63087        2225   \n",
       "740041                   1306    63089        2225   \n",
       "740045                   1306    63089        2225   \n",
       "740048                    829    63199        1183   \n",
       "\n",
       "                                  title  entry_id  exportable_id  \\\n",
       "8                           IFRC Turkey    102051           5304   \n",
       "17      Nigeria Situation Analysis (OA)     21660           4691   \n",
       "36                          IFRC Turkey     96070           5304   \n",
       "82                     IFRC Philippines     33155           5304   \n",
       "87                          IFRC Turkey     96087           5304   \n",
       "...                                 ...       ...            ...   \n",
       "740032                    IMMAP/DFS RDC    412992           8619   \n",
       "740037                    IMMAP/DFS RDC    412991           8619   \n",
       "740041                    IMMAP/DFS RDC    413010           8619   \n",
       "740045                    IMMAP/DFS RDC    413011           8619   \n",
       "740048                   UNHCR Colombia    402428           5920   \n",
       "\n",
       "                                 tag_value  \n",
       "8                                 [Turkey]  \n",
       "17                               [Nigeria]  \n",
       "36                            [Sancaktepe]  \n",
       "82                           [Philippines]  \n",
       "87                                [Turkey]  \n",
       "...                                    ...  \n",
       "740032                             [Djugu]  \n",
       "740037                             [Djugu]  \n",
       "740041  [République démocratique du Congo]  \n",
       "740045  [République démocratique du Congo]  \n",
       "740048                           [Ipiales]  \n",
       "\n",
       "[138809 rows x 8 columns]"
      ]
     },
     "execution_count": 51,
     "metadata": {},
     "output_type": "execute_result"
    }
   ],
   "source": [
    "geo_loc_df = final_df.copy()\n",
    "geo_loc_df"
   ]
  },
  {
   "cell_type": "code",
   "execution_count": 52,
   "metadata": {},
   "outputs": [],
   "source": [
    "final_df = final_df[final_df.tag_value.apply(lambda x: bool(len(x)) and 'Unknown' not in x)]"
   ]
  },
  {
   "cell_type": "code",
   "execution_count": 53,
   "metadata": {},
   "outputs": [],
   "source": [
    "#final_df.to_csv('data_secondary_tags/geo_location.csv')"
   ]
  },
  {
   "cell_type": "code",
   "execution_count": 54,
   "metadata": {},
   "outputs": [],
   "source": [
    "#geo_location_df.to_csv('data_secondary_tags/geo_location.csv')"
   ]
  },
  {
   "cell_type": "code",
   "execution_count": null,
   "metadata": {},
   "outputs": [],
   "source": []
  },
  {
   "cell_type": "code",
   "execution_count": null,
   "metadata": {},
   "outputs": [],
   "source": []
  },
  {
   "cell_type": "markdown",
   "metadata": {},
   "source": [
    "## Severity"
   ]
  },
  {
   "cell_type": "code",
   "execution_count": 55,
   "metadata": {},
   "outputs": [],
   "source": [
    "Severity_raw_to_processed_dict = {\n",
    "    'Critical':'Critical',\n",
    "    'Severe':'Critical',\n",
    "    'Critical Situation':'Critical',\n",
    "    'Critical problem. Urgent intervention required':'Critical',\n",
    "    'Severe Conditions':'Critical',\n",
    "    'Major':'Major',\n",
    "    'Severe Problem. Intervention required':'Major',\n",
    "    'Important problem. Middle to short term intervention required':'Major',\n",
    "    'Situation of Major Concern':'Major',\n",
    "    'Of Concern. Monitoring required':'Of Concern',\n",
    "    'Of Concern':'Of Concern',\n",
    "    'Situation of Concern':'Of Concern',\n",
    "    'No Problem':'No problem',\n",
    "    'Minor Problem':'Minor Problem',\n",
    "    None:None\n",
    "    \n",
    "}"
   ]
  },
  {
   "cell_type": "code",
   "execution_count": null,
   "metadata": {},
   "outputs": [],
   "source": []
  },
  {
   "cell_type": "code",
   "execution_count": 56,
   "metadata": {},
   "outputs": [],
   "source": [
    "severity_tags_df = entries_labeled_secondary_tags_cleaned[entries_labeled_secondary_tags_cleaned.tag_title=='Severity']\\\n",
    "                            .drop(columns=['tag_title'])\n",
    "\n",
    "severity_tags_df = severity_tags_df[\n",
    "    severity_tags_df.tag_value.apply(lambda x: (x!='No problem/minor problem. No intervention required') and\\\n",
    "                                    (x!='No problem/Minor Problem'))]\n",
    "\n",
    "severity_tags_df['tag_value'] =\\\n",
    "            severity_tags_df['tag_value'].apply(lambda x: Severity_raw_to_processed_dict[x])\n",
    "\n",
    "severity_tags_df = severity_tags_df.dropna()\n",
    "severity_tags_df['tag_value'] = severity_tags_df['tag_value'].apply(lambda x: [x])"
   ]
  },
  {
   "cell_type": "code",
   "execution_count": 57,
   "metadata": {},
   "outputs": [
    {
     "data": {
      "text/html": [
       "<div>\n",
       "<style scoped>\n",
       "    .dataframe tbody tr th:only-of-type {\n",
       "        vertical-align: middle;\n",
       "    }\n",
       "\n",
       "    .dataframe tbody tr th {\n",
       "        vertical-align: top;\n",
       "    }\n",
       "\n",
       "    .dataframe thead th {\n",
       "        text-align: right;\n",
       "    }\n",
       "</style>\n",
       "<table border=\"1\" class=\"dataframe\">\n",
       "  <thead>\n",
       "    <tr style=\"text-align: right;\">\n",
       "      <th></th>\n",
       "      <th>excerpt</th>\n",
       "      <th>analysis_framework_id</th>\n",
       "      <th>lead_id</th>\n",
       "      <th>project_id</th>\n",
       "      <th>title</th>\n",
       "      <th>entry_id</th>\n",
       "      <th>exportable_id</th>\n",
       "      <th>tag_value</th>\n",
       "    </tr>\n",
       "  </thead>\n",
       "  <tbody>\n",
       "    <tr>\n",
       "      <th>2</th>\n",
       "      <td>On March 19, search-andrescue personnel airlif...</td>\n",
       "      <td>273</td>\n",
       "      <td>10607</td>\n",
       "      <td>878</td>\n",
       "      <td>IFRC - Cyclone Idai, March 2019</td>\n",
       "      <td>25639</td>\n",
       "      <td>3144</td>\n",
       "      <td>[No problem]</td>\n",
       "    </tr>\n",
       "    <tr>\n",
       "      <th>10</th>\n",
       "      <td>Currently, there are 139,771 confirmed cases i...</td>\n",
       "      <td>699</td>\n",
       "      <td>28940</td>\n",
       "      <td>1142</td>\n",
       "      <td>IFRC Turkey</td>\n",
       "      <td>102051</td>\n",
       "      <td>5302</td>\n",
       "      <td>[Of Concern]</td>\n",
       "    </tr>\n",
       "    <tr>\n",
       "      <th>71</th>\n",
       "      <td>Spanish RC – providing support in transportati...</td>\n",
       "      <td>273</td>\n",
       "      <td>10437</td>\n",
       "      <td>878</td>\n",
       "      <td>IFRC - Cyclone Idai, March 2019</td>\n",
       "      <td>25635</td>\n",
       "      <td>3144</td>\n",
       "      <td>[No problem]</td>\n",
       "    </tr>\n",
       "    <tr>\n",
       "      <th>88</th>\n",
       "      <td>In addition, there are 922,530* foreign nation...</td>\n",
       "      <td>699</td>\n",
       "      <td>26544</td>\n",
       "      <td>1142</td>\n",
       "      <td>IFRC Turkey</td>\n",
       "      <td>96087</td>\n",
       "      <td>5302</td>\n",
       "      <td>[Major]</td>\n",
       "    </tr>\n",
       "    <tr>\n",
       "      <th>100</th>\n",
       "      <td>\"He has the support, up until now, of the arme...</td>\n",
       "      <td>273</td>\n",
       "      <td>10740</td>\n",
       "      <td>786</td>\n",
       "      <td>Venezuela crisis 2019</td>\n",
       "      <td>26269</td>\n",
       "      <td>3144</td>\n",
       "      <td>[Of Concern]</td>\n",
       "    </tr>\n",
       "  </tbody>\n",
       "</table>\n",
       "</div>"
      ],
      "text/plain": [
       "                                               excerpt  analysis_framework_id  \\\n",
       "2    On March 19, search-andrescue personnel airlif...                    273   \n",
       "10   Currently, there are 139,771 confirmed cases i...                    699   \n",
       "71   Spanish RC – providing support in transportati...                    273   \n",
       "88   In addition, there are 922,530* foreign nation...                    699   \n",
       "100  \"He has the support, up until now, of the arme...                    273   \n",
       "\n",
       "     lead_id  project_id                            title  entry_id  \\\n",
       "2      10607         878  IFRC - Cyclone Idai, March 2019     25639   \n",
       "10     28940        1142                      IFRC Turkey    102051   \n",
       "71     10437         878  IFRC - Cyclone Idai, March 2019     25635   \n",
       "88     26544        1142                      IFRC Turkey     96087   \n",
       "100    10740         786            Venezuela crisis 2019     26269   \n",
       "\n",
       "     exportable_id     tag_value  \n",
       "2             3144  [No problem]  \n",
       "10            5302  [Of Concern]  \n",
       "71            3144  [No problem]  \n",
       "88            5302       [Major]  \n",
       "100           3144  [Of Concern]  "
      ]
     },
     "execution_count": 57,
     "metadata": {},
     "output_type": "execute_result"
    }
   ],
   "source": [
    "severity_tags_df.head()"
   ]
  },
  {
   "cell_type": "code",
   "execution_count": null,
   "metadata": {},
   "outputs": [],
   "source": []
  },
  {
   "cell_type": "code",
   "execution_count": null,
   "metadata": {},
   "outputs": [],
   "source": []
  },
  {
   "cell_type": "code",
   "execution_count": 58,
   "metadata": {},
   "outputs": [],
   "source": [
    "severity_tags_df = severity_tags_df.dropna()\n",
    "#severity_tags_df.to_csv('data_secondary_tags/severity_tags.csv')"
   ]
  },
  {
   "cell_type": "code",
   "execution_count": null,
   "metadata": {},
   "outputs": [],
   "source": []
  },
  {
   "cell_type": "code",
   "execution_count": null,
   "metadata": {},
   "outputs": [],
   "source": []
  },
  {
   "cell_type": "code",
   "execution_count": null,
   "metadata": {},
   "outputs": [],
   "source": []
  },
  {
   "cell_type": "code",
   "execution_count": null,
   "metadata": {},
   "outputs": [],
   "source": []
  },
  {
   "cell_type": "code",
   "execution_count": null,
   "metadata": {},
   "outputs": [],
   "source": []
  },
  {
   "cell_type": "code",
   "execution_count": null,
   "metadata": {},
   "outputs": [],
   "source": []
  },
  {
   "cell_type": "code",
   "execution_count": 59,
   "metadata": {},
   "outputs": [],
   "source": [
    "Specific_needs_groups_raw_to_processed_dict = {\n",
    "    ' Separated Children':'Unaccompanied or Separated Children',\n",
    "    'Separated Children':'Unaccompanied or Separated Children',\n",
    "    'Unaccompanied Children (without caregiver)':'Unaccompanied or Separated Children',\n",
    "    'Unaccompanied Children (without Caregiver)':'Unaccompanied or Separated Children',\n",
    "    'Unaccompanied or Separated Children (UASC)':'Unaccompanied or Separated Children',\n",
    "    'Child Head of Household':'Child Head of Household',\n",
    "    'Elderly Head of Household':'Elderly Head of Household',\n",
    "    'Female Head of Household':'Female Head of Household',\n",
    "    'GBV survivors':'GBV survivors',\n",
    "    'Pregnant or Lactating Women':'Pregnant or Lactating Women',\n",
    "    'Single Women (including Widows)':'Single Women (including Widows)',\n",
    "    'Ethnic minority':'Minorities',\n",
    "    'Indigenous people':'Indigenous people',\n",
    "    'LGBTQI':'LGBTQI+',\n",
    "    'LGBTQI community member':'LGBTQI+',\n",
    "    'LGBTQI+':'LGBTQI+',\n",
    "    'Minorities':'Minorities',\n",
    "    'Religious minority':'Minorities',\n",
    "    #'Unregistered Refugee':None,\n",
    "    #'No legal documentation':'No legal documentation',\n",
    "    #'People with irregular status':'Stateless',\n",
    "    #'Stateless':'Stateless',\n",
    "    'Person with Disabilities':'Persons with Disability',\n",
    "    'Persons with Disability':'Persons with Disability',\n",
    "    'Chronically Ill':'Chronically Ill',\n",
    "    'Chronically ill':'Chronically Ill'\n",
    "}"
   ]
  },
  {
   "cell_type": "code",
   "execution_count": 60,
   "metadata": {},
   "outputs": [],
   "source": [
    "not_to_be_included = ['Unregistered Refugee', \n",
    "                      'No legal documentation', \n",
    "                      'People with irregular status', \n",
    "                      'Stateless']"
   ]
  },
  {
   "cell_type": "code",
   "execution_count": 61,
   "metadata": {},
   "outputs": [],
   "source": [
    "specific_needs_groups_tags_df = entries_labeled_secondary_tags_cleaned[\n",
    "    entries_labeled_secondary_tags_cleaned.tag_title=='Specific Needs Groups']\\\n",
    "                            .drop(columns=['tag_title'])\n",
    "\n",
    "specific_needs_groups_tags_df['tag_value'] =\\\n",
    "        specific_needs_groups_tags_df['tag_value'].apply(lambda list_tags: [\n",
    "                Specific_needs_groups_raw_to_processed_dict[tag] for tag in list_tags if tag not in not_to_be_included\n",
    "            ])\n",
    "\n",
    "specific_needs_groups_tags_df['tag_value'] =\\\n",
    "            specific_needs_groups_tags_df['tag_value'].apply(lambda x: list(np.unique(x)))"
   ]
  },
  {
   "cell_type": "code",
   "execution_count": 62,
   "metadata": {},
   "outputs": [
    {
     "data": {
      "text/html": [
       "<div>\n",
       "<style scoped>\n",
       "    .dataframe tbody tr th:only-of-type {\n",
       "        vertical-align: middle;\n",
       "    }\n",
       "\n",
       "    .dataframe tbody tr th {\n",
       "        vertical-align: top;\n",
       "    }\n",
       "\n",
       "    .dataframe thead th {\n",
       "        text-align: right;\n",
       "    }\n",
       "</style>\n",
       "<table border=\"1\" class=\"dataframe\">\n",
       "  <thead>\n",
       "    <tr style=\"text-align: right;\">\n",
       "      <th></th>\n",
       "      <th>excerpt</th>\n",
       "      <th>analysis_framework_id</th>\n",
       "      <th>lead_id</th>\n",
       "      <th>project_id</th>\n",
       "      <th>title</th>\n",
       "      <th>entry_id</th>\n",
       "      <th>exportable_id</th>\n",
       "      <th>tag_value</th>\n",
       "    </tr>\n",
       "  </thead>\n",
       "  <tbody>\n",
       "    <tr>\n",
       "      <th>494</th>\n",
       "      <td>In Syria, UNHCR provided guidance to partners ...</td>\n",
       "      <td>1306</td>\n",
       "      <td>35157</td>\n",
       "      <td>2028</td>\n",
       "      <td>IMMAP/DFS Syria</td>\n",
       "      <td>133321</td>\n",
       "      <td>8620</td>\n",
       "      <td>[Persons with Disability]</td>\n",
       "    </tr>\n",
       "    <tr>\n",
       "      <th>800</th>\n",
       "      <td>HelpAge’s country team and partners are reachi...</td>\n",
       "      <td>273</td>\n",
       "      <td>10633</td>\n",
       "      <td>878</td>\n",
       "      <td>IFRC - Cyclone Idai, March 2019</td>\n",
       "      <td>25684</td>\n",
       "      <td>3140</td>\n",
       "      <td>[Persons with Disability]</td>\n",
       "    </tr>\n",
       "    <tr>\n",
       "      <th>1092</th>\n",
       "      <td>During May and June, health sector partners ca...</td>\n",
       "      <td>699</td>\n",
       "      <td>23304</td>\n",
       "      <td>1142</td>\n",
       "      <td>IFRC Turkey</td>\n",
       "      <td>88087</td>\n",
       "      <td>5298</td>\n",
       "      <td>[Persons with Disability]</td>\n",
       "    </tr>\n",
       "    <tr>\n",
       "      <th>1393</th>\n",
       "      <td>En vastas áreas del sur de Venezuela, guerrill...</td>\n",
       "      <td>273</td>\n",
       "      <td>9758</td>\n",
       "      <td>786</td>\n",
       "      <td>Venezuela crisis 2019</td>\n",
       "      <td>24453</td>\n",
       "      <td>3140</td>\n",
       "      <td>[Minorities]</td>\n",
       "    </tr>\n",
       "    <tr>\n",
       "      <th>1588</th>\n",
       "      <td>The UN Office for the Coordination of Humanita...</td>\n",
       "      <td>273</td>\n",
       "      <td>10898</td>\n",
       "      <td>878</td>\n",
       "      <td>IFRC - Cyclone Idai, March 2019</td>\n",
       "      <td>27008</td>\n",
       "      <td>3140</td>\n",
       "      <td>[Pregnant or Lactating Women]</td>\n",
       "    </tr>\n",
       "    <tr>\n",
       "      <th>...</th>\n",
       "      <td>...</td>\n",
       "      <td>...</td>\n",
       "      <td>...</td>\n",
       "      <td>...</td>\n",
       "      <td>...</td>\n",
       "      <td>...</td>\n",
       "      <td>...</td>\n",
       "      <td>...</td>\n",
       "    </tr>\n",
       "    <tr>\n",
       "      <th>739367</th>\n",
       "      <td>Se requiere la articulación interdepartamental...</td>\n",
       "      <td>1306</td>\n",
       "      <td>63853</td>\n",
       "      <td>2311</td>\n",
       "      <td>IMMAP/DFS Colombia</td>\n",
       "      <td>411054</td>\n",
       "      <td>8620</td>\n",
       "      <td>[Indigenous people]</td>\n",
       "    </tr>\n",
       "    <tr>\n",
       "      <th>739451</th>\n",
       "      <td>Nacional | Frente al Paro Nacional, siguen las...</td>\n",
       "      <td>829</td>\n",
       "      <td>63199</td>\n",
       "      <td>1183</td>\n",
       "      <td>UNHCR Colombia</td>\n",
       "      <td>402434</td>\n",
       "      <td>5918</td>\n",
       "      <td>[Indigenous people]</td>\n",
       "    </tr>\n",
       "    <tr>\n",
       "      <th>739734</th>\n",
       "      <td>[26th August 2021, Cox's Bazar] Refugees: In c...</td>\n",
       "      <td>1306</td>\n",
       "      <td>63929</td>\n",
       "      <td>2098</td>\n",
       "      <td>IMMAP/DFS Bangladesh</td>\n",
       "      <td>412744</td>\n",
       "      <td>8620</td>\n",
       "      <td>[Pregnant or Lactating Women]</td>\n",
       "    </tr>\n",
       "    <tr>\n",
       "      <th>739843</th>\n",
       "      <td>The production of illegal drugs, together with...</td>\n",
       "      <td>1306</td>\n",
       "      <td>63400</td>\n",
       "      <td>2311</td>\n",
       "      <td>IMMAP/DFS Colombia</td>\n",
       "      <td>412822</td>\n",
       "      <td>8620</td>\n",
       "      <td>[Indigenous people]</td>\n",
       "    </tr>\n",
       "    <tr>\n",
       "      <th>739974</th>\n",
       "      <td>Colombia with 14,000 conflict displacements of...</td>\n",
       "      <td>1306</td>\n",
       "      <td>63400</td>\n",
       "      <td>2311</td>\n",
       "      <td>IMMAP/DFS Colombia</td>\n",
       "      <td>412947</td>\n",
       "      <td>8620</td>\n",
       "      <td>[Indigenous people]</td>\n",
       "    </tr>\n",
       "  </tbody>\n",
       "</table>\n",
       "<p>8082 rows × 8 columns</p>\n",
       "</div>"
      ],
      "text/plain": [
       "                                                  excerpt  \\\n",
       "494     In Syria, UNHCR provided guidance to partners ...   \n",
       "800     HelpAge’s country team and partners are reachi...   \n",
       "1092    During May and June, health sector partners ca...   \n",
       "1393    En vastas áreas del sur de Venezuela, guerrill...   \n",
       "1588    The UN Office for the Coordination of Humanita...   \n",
       "...                                                   ...   \n",
       "739367  Se requiere la articulación interdepartamental...   \n",
       "739451  Nacional | Frente al Paro Nacional, siguen las...   \n",
       "739734  [26th August 2021, Cox's Bazar] Refugees: In c...   \n",
       "739843  The production of illegal drugs, together with...   \n",
       "739974  Colombia with 14,000 conflict displacements of...   \n",
       "\n",
       "        analysis_framework_id  lead_id  project_id  \\\n",
       "494                      1306    35157        2028   \n",
       "800                       273    10633         878   \n",
       "1092                      699    23304        1142   \n",
       "1393                      273     9758         786   \n",
       "1588                      273    10898         878   \n",
       "...                       ...      ...         ...   \n",
       "739367                   1306    63853        2311   \n",
       "739451                    829    63199        1183   \n",
       "739734                   1306    63929        2098   \n",
       "739843                   1306    63400        2311   \n",
       "739974                   1306    63400        2311   \n",
       "\n",
       "                                  title  entry_id  exportable_id  \\\n",
       "494                     IMMAP/DFS Syria    133321           8620   \n",
       "800     IFRC - Cyclone Idai, March 2019     25684           3140   \n",
       "1092                        IFRC Turkey     88087           5298   \n",
       "1393              Venezuela crisis 2019     24453           3140   \n",
       "1588    IFRC - Cyclone Idai, March 2019     27008           3140   \n",
       "...                                 ...       ...            ...   \n",
       "739367               IMMAP/DFS Colombia    411054           8620   \n",
       "739451                   UNHCR Colombia    402434           5918   \n",
       "739734             IMMAP/DFS Bangladesh    412744           8620   \n",
       "739843               IMMAP/DFS Colombia    412822           8620   \n",
       "739974               IMMAP/DFS Colombia    412947           8620   \n",
       "\n",
       "                            tag_value  \n",
       "494         [Persons with Disability]  \n",
       "800         [Persons with Disability]  \n",
       "1092        [Persons with Disability]  \n",
       "1393                     [Minorities]  \n",
       "1588    [Pregnant or Lactating Women]  \n",
       "...                               ...  \n",
       "739367            [Indigenous people]  \n",
       "739451            [Indigenous people]  \n",
       "739734  [Pregnant or Lactating Women]  \n",
       "739843            [Indigenous people]  \n",
       "739974            [Indigenous people]  \n",
       "\n",
       "[8082 rows x 8 columns]"
      ]
     },
     "execution_count": 62,
     "metadata": {},
     "output_type": "execute_result"
    }
   ],
   "source": [
    "specific_needs_groups_tags_df = specific_needs_groups_tags_df[\n",
    "    specific_needs_groups_tags_df.tag_value.apply(lambda x: x!=[])\n",
    "]\n",
    "specific_needs_groups_tags_df"
   ]
  },
  {
   "cell_type": "code",
   "execution_count": 63,
   "metadata": {},
   "outputs": [
    {
     "data": {
      "text/plain": [
       "\"secondary_tags_df = entries_labeled_secondary_tags_cleaned\\nsecondary_tags_df[secondary_tags_df.tag_title=='Specific Needs Groups'].tag_value                        .apply(lambda list_tags: [Specific_needs_groups_raw_to_processed_dict[tag] for tag in list_tags])\""
      ]
     },
     "execution_count": 63,
     "metadata": {},
     "output_type": "execute_result"
    }
   ],
   "source": [
    "\"\"\"secondary_tags_df = entries_labeled_secondary_tags_cleaned\n",
    "secondary_tags_df[secondary_tags_df.tag_title=='Specific Needs Groups'].tag_value\\\n",
    "                        .apply(lambda list_tags: [Specific_needs_groups_raw_to_processed_dict[tag] for tag in list_tags])\"\"\""
   ]
  },
  {
   "cell_type": "code",
   "execution_count": 64,
   "metadata": {},
   "outputs": [],
   "source": [
    "#specific_needs_groups_tags_df.to_csv('data_secondary_tags/specific_needs_groups_tags.csv')"
   ]
  },
  {
   "cell_type": "code",
   "execution_count": 65,
   "metadata": {},
   "outputs": [],
   "source": [
    "values_specific = list(Specific_needs_groups_raw_to_processed_dict.values())"
   ]
  },
  {
   "cell_type": "code",
   "execution_count": 66,
   "metadata": {},
   "outputs": [],
   "source": [
    "lengthes_dict = {}\n",
    "for value in values_specific:\n",
    "\n",
    "    len_tmp = specific_needs_groups_tags_df[specific_needs_groups_tags_df.tag_value\\\n",
    "                               .apply(lambda x: value in x)].shape[0]\n",
    "    lengthes_dict[value]=len_tmp"
   ]
  },
  {
   "cell_type": "code",
   "execution_count": 67,
   "metadata": {},
   "outputs": [
    {
     "data": {
      "text/plain": [
       "Text(0.5, 1.0, 'Specifics needs Groups')"
      ]
     },
     "execution_count": 67,
     "metadata": {},
     "output_type": "execute_result"
    },
    {
     "data": {
      "image/png": "[encoded data removed]",
      "text/plain": [
       "<Figure size 432x288 with 1 Axes>"
      ]
     },
     "metadata": {
      "needs_background": "light"
     },
     "output_type": "display_data"
    }
   ],
   "source": [
    "plt.barh(list(lengthes_dict.keys()), list(lengthes_dict.values()), 1)\n",
    "plt.xlabel('number of occurences')\n",
    "plt.title('Specifics needs Groups')"
   ]
  },
  {
   "cell_type": "code",
   "execution_count": null,
   "metadata": {},
   "outputs": [],
   "source": []
  },
  {
   "cell_type": "code",
   "execution_count": 68,
   "metadata": {},
   "outputs": [],
   "source": [
    "Demographic_groups_raw_to_processed_dict = {\n",
    "    'Adult (18 to 59 years old)':['Adult Female (18 to 59 years old)', 'Adult Male (18 to 59 years old)'],\n",
    "    'Adult (18-59 years old)':['Adult Female (18 to 59 years old)', 'Adult Male (18 to 59 years old)'],\n",
    "    'Adult Female (18 to 59 years old)':['Adult Female (18 to 59 years old)'],\n",
    "    'Adult female (18 to 59 years old)':['Adult Female (18 to 59 years old)'],\n",
    "    'Adult female (18-59 years old)':['Adult Female (18 to 59 years old)'],\n",
    "    'Adult Male (18 to 59 years old)':['Adult Male (18 to 59 years old)'],\n",
    "    'Adult (25 to 59 years old)':['Adult Female (18 to 59 years old)', 'Adult Male (18 to 59 years old)'],\n",
    "    'Youth (18 to 24 years old)':['Adult Female (18 to 59 years old)', 'Adult Male (18 to 59 years old)'],\n",
    "    'Adult Female (25 to 59 years old)':['Adult Female (18 to 59 years old)'],\n",
    "    'Adult Male (25 to 59 years old)':['Adult Male (18 to 59 years old)'],\n",
    "    'Youth Female (18 to 24 years old)':['Adult Female (18 to 59 years old)'],\n",
    "    'Youth Male (18 to 24 years old)':['Adult Male (18 to 59 years old)'],\n",
    "    'Adult male (18-59 years old)':['Adult Male (18 to 59 years old)'],\n",
    "    \n",
    "    'Female Older Persons (60+ years old)':['Older Persons Female (60+ years old)'],\n",
    "    'Male Older Persons (60+ years old)':['Older Persons Male (60+ years old)'],\n",
    "    'Older Persons (60+ years old)':['Older Persons Female (60+ years old)', 'Older Persons Male (60+ years old)'],\n",
    "    'Older Persons Female (60+ years old)':['Older Persons Female (60+ years old)'],\n",
    "    'Older Persons Male (60+ years old)':['Older Persons Male (60+ years old)'],\n",
    "    'Older persons (60+ years old)':['Older Persons Female (60+ years old)', 'Older Persons Male (60+ years old)'],\n",
    "    'Older persons female (60+ years old)':['Older Persons Female (60+ years old)'],\n",
    "    'Older persons male (60+ years old)':['Older Persons Male (60+ years old)'],\n",
    "    \n",
    "    'Infants/Toddlers (<5 years old)':['Infants/Toddlers (<5 years old)'],\n",
    "    'Infants/toddlers (<5)':['Infants/Toddlers (<5 years old)'],\n",
    "    'Infants (0-2 years old)':['Infants/Toddlers (<5 years old)'],\n",
    "    'Children (0-4 years old)':['Infants/Toddlers (<5 years old)'],\n",
    "    \n",
    "    #'Children Male (5 to 1 years old) \n",
    "    'Children (5 to 11 years old)':['Children/Youth Male (5 to 17 years old)', 'Children/Youth Female (5 to 17 years old)'],\n",
    "    'Children (5 to 17 years old)':['Children/Youth Male (5 to 17 years old)', 'Children/Youth Female (5 to 17 years old)'],\n",
    "    'Children (5-11 years old)':['Children/Youth Male (5 to 17 years old)', 'Children/Youth Female (5 to 17 years old)'],\n",
    "    'Children (< 18 years)':['Children/Youth Male (5 to 17 years old)', 'Children/Youth Female (5 to 17 years old)'],\n",
    "    'Children Female  <18 years old':['Children/Youth Female (5 to 17 years old)'],\n",
    "    'Children Female (5 to 11 years old)':['Children/Youth Female (5 to 17 years old)'],\n",
    "    'Children Female (5 to 17 years old)':['Children/Youth Female (5 to 17 years old)'],\n",
    "    'Children Female (< 18 years)':['Children/Youth Female (5 to 17 years old)'],\n",
    "    'Children Male (5 to 11 years old)':['Children/Youth Male (5 to 17 years old)'],\n",
    "    'Children Male (< 18 years)':['Children/Youth Male (5 to 17 years old)'],\n",
    "    'Children Male < 18 years old':['Children/Youth Male (5 to 17 years old)'],\n",
    "    'Children female (5-11 years old)':['Children/Youth Female (5 to 17 years old)'],\n",
    "    'Children male (5-11 years old)':['Children/Youth Male (5 to 17 years old)'],\n",
    "    'Youth (12 to 17 years old)':['Children/Youth Male (5 to 17 years old)', 'Children/Youth Female (5 to 17 years old)'],\n",
    "    'Youth (12-17 years old)':['Children/Youth Male (5 to 17 years old)', 'Children/Youth Female (5 to 17 years old)'],\n",
    "    'Youth Female (12 to 17 years old)':['Children/Youth Female (5 to 17 years old)'],\n",
    "    'Youth Male (12 to 17 years old)':['Children/Youth Male (5 to 17 years old)'],\n",
    "    'Youth female (12-17 years old)':['Children/Youth Female (5 to 17 years old)'],\n",
    "    'Youth male (12-17 years old)':['Children/Youth Male (5 to 17 years old)'],\n",
    "    'Children Male (5 to 1 years old)':['Children/Youth Male (5 to 17 years old)']\n",
    "}"
   ]
  },
  {
   "cell_type": "code",
   "execution_count": 69,
   "metadata": {},
   "outputs": [
    {
     "name": "stderr",
     "output_type": "stream",
     "text": [
      "/home/selim/anaconda3/lib/python3.8/site-packages/numpy/core/_asarray.py:136: VisibleDeprecationWarning: Creating an ndarray from ragged nested sequences (which is a list-or-tuple of lists-or-tuples-or ndarrays with different lengths or shapes) is deprecated. If you meant to do this, you must specify 'dtype=object' when creating the ndarray\n",
      "  return array(a, dtype, copy=False, order=order, subok=True)\n"
     ]
    },
    {
     "data": {
      "text/plain": [
       "array([list(['Adult Female (18 to 59 years old)']),\n",
       "       list(['Adult Female (18 to 59 years old)', 'Adult Male (18 to 59 years old)']),\n",
       "       list(['Adult Male (18 to 59 years old)']),\n",
       "       list(['Children/Youth Female (5 to 17 years old)']),\n",
       "       list(['Children/Youth Male (5 to 17 years old)']),\n",
       "       list(['Children/Youth Male (5 to 17 years old)', 'Children/Youth Female (5 to 17 years old)']),\n",
       "       list(['Infants/Toddlers (<5 years old)']),\n",
       "       list(['Older Persons Female (60+ years old)']),\n",
       "       list(['Older Persons Female (60+ years old)', 'Older Persons Male (60+ years old)']),\n",
       "       list(['Older Persons Male (60+ years old)'])], dtype=object)"
      ]
     },
     "execution_count": 69,
     "metadata": {},
     "output_type": "execute_result"
    }
   ],
   "source": [
    "import numpy as np\n",
    "np.unique(list(Demographic_groups_raw_to_processed_dict.values()))"
   ]
  },
  {
   "cell_type": "code",
   "execution_count": 70,
   "metadata": {},
   "outputs": [
    {
     "data": {
      "text/plain": [
       "list"
      ]
     },
     "execution_count": 70,
     "metadata": {},
     "output_type": "execute_result"
    }
   ],
   "source": [
    "type([1,2])"
   ]
  },
  {
   "cell_type": "code",
   "execution_count": 71,
   "metadata": {},
   "outputs": [],
   "source": [
    "def flatten_list(t):\n",
    "    \n",
    "    return [item for sublist in t for item in sublist]\n",
    "\n",
    "demographic_groups_tags_df = entries_labeled_secondary_tags_cleaned[entries_labeled_secondary_tags_cleaned.tag_title=='Demographic Groups']\\\n",
    "                            .drop(columns=['tag_title'])\n",
    "demographic_groups_tags_df['tag_value'] =\\\n",
    "            demographic_groups_tags_df['tag_value'].apply(\n",
    "    lambda list_tags: flatten_list([\n",
    "        Demographic_groups_raw_to_processed_dict[tag]\\\n",
    "        for tag in list_tags if (tag!='Children Male (5 to 1 years old)' and tag!='Female' and tag!='Male')\n",
    "    ])\n",
    ")\n",
    "\n"
   ]
  },
  {
   "cell_type": "code",
   "execution_count": 72,
   "metadata": {},
   "outputs": [
    {
     "data": {
      "text/html": [
       "<div>\n",
       "<style scoped>\n",
       "    .dataframe tbody tr th:only-of-type {\n",
       "        vertical-align: middle;\n",
       "    }\n",
       "\n",
       "    .dataframe tbody tr th {\n",
       "        vertical-align: top;\n",
       "    }\n",
       "\n",
       "    .dataframe thead th {\n",
       "        text-align: right;\n",
       "    }\n",
       "</style>\n",
       "<table border=\"1\" class=\"dataframe\">\n",
       "  <thead>\n",
       "    <tr style=\"text-align: right;\">\n",
       "      <th></th>\n",
       "      <th>excerpt</th>\n",
       "      <th>analysis_framework_id</th>\n",
       "      <th>lead_id</th>\n",
       "      <th>project_id</th>\n",
       "      <th>title</th>\n",
       "      <th>entry_id</th>\n",
       "      <th>exportable_id</th>\n",
       "      <th>tag_value</th>\n",
       "    </tr>\n",
       "  </thead>\n",
       "  <tbody>\n",
       "    <tr>\n",
       "      <th>192</th>\n",
       "      <td>Shelter and non-food items are mentioned as pr...</td>\n",
       "      <td>699</td>\n",
       "      <td>25509</td>\n",
       "      <td>1142</td>\n",
       "      <td>IFRC Turkey</td>\n",
       "      <td>90516</td>\n",
       "      <td>5297</td>\n",
       "      <td>[Children/Youth Male (5 to 17 years old), Chil...</td>\n",
       "    </tr>\n",
       "    <tr>\n",
       "      <th>306</th>\n",
       "      <td>Au plan national, 21,9% des enfants de 6-23 mo...</td>\n",
       "      <td>1306</td>\n",
       "      <td>49808</td>\n",
       "      <td>2099</td>\n",
       "      <td>IMMAP/DFS Burkina Faso</td>\n",
       "      <td>271697</td>\n",
       "      <td>8624</td>\n",
       "      <td>[Infants/Toddlers (&lt;5 years old)]</td>\n",
       "    </tr>\n",
       "    <tr>\n",
       "      <th>347</th>\n",
       "      <td>Una de las preocupaciones para las elecciones ...</td>\n",
       "      <td>829</td>\n",
       "      <td>19935</td>\n",
       "      <td>1183</td>\n",
       "      <td>UNHCR Colombia</td>\n",
       "      <td>69488</td>\n",
       "      <td>5916</td>\n",
       "      <td>[Adult Female (18 to 59 years old), Adult Male...</td>\n",
       "    </tr>\n",
       "    <tr>\n",
       "      <th>489</th>\n",
       "      <td>Women and girls who have fled Venezuela are at...</td>\n",
       "      <td>829</td>\n",
       "      <td>12703</td>\n",
       "      <td>1184</td>\n",
       "      <td>UNHCR Ecuador</td>\n",
       "      <td>51349</td>\n",
       "      <td>5916</td>\n",
       "      <td>[Children/Youth Male (5 to 17 years old), Chil...</td>\n",
       "    </tr>\n",
       "    <tr>\n",
       "      <th>857</th>\n",
       "      <td>MAPUTO, MOZAMBIQUE – Monday 18 March 2019 – Fe...</td>\n",
       "      <td>273</td>\n",
       "      <td>10485</td>\n",
       "      <td>878</td>\n",
       "      <td>IFRC - Cyclone Idai, March 2019</td>\n",
       "      <td>27578</td>\n",
       "      <td>3142</td>\n",
       "      <td>[Children/Youth Male (5 to 17 years old), Chil...</td>\n",
       "    </tr>\n",
       "    <tr>\n",
       "      <th>...</th>\n",
       "      <td>...</td>\n",
       "      <td>...</td>\n",
       "      <td>...</td>\n",
       "      <td>...</td>\n",
       "      <td>...</td>\n",
       "      <td>...</td>\n",
       "      <td>...</td>\n",
       "      <td>...</td>\n",
       "    </tr>\n",
       "    <tr>\n",
       "      <th>739921</th>\n",
       "      <td>3.10 Experience in seeking health services for...</td>\n",
       "      <td>1306</td>\n",
       "      <td>63488</td>\n",
       "      <td>2098</td>\n",
       "      <td>IMMAP/DFS Bangladesh</td>\n",
       "      <td>412929</td>\n",
       "      <td>8624</td>\n",
       "      <td>[Children/Youth Male (5 to 17 years old), Chil...</td>\n",
       "    </tr>\n",
       "    <tr>\n",
       "      <th>739956</th>\n",
       "      <td>The persons/children with disabilities who sou...</td>\n",
       "      <td>1306</td>\n",
       "      <td>63488</td>\n",
       "      <td>2098</td>\n",
       "      <td>IMMAP/DFS Bangladesh</td>\n",
       "      <td>412942</td>\n",
       "      <td>8624</td>\n",
       "      <td>[Children/Youth Male (5 to 17 years old), Chil...</td>\n",
       "    </tr>\n",
       "    <tr>\n",
       "      <th>739989</th>\n",
       "      <td>Alors que le phénomène des violences sexuelles...</td>\n",
       "      <td>1306</td>\n",
       "      <td>63086</td>\n",
       "      <td>2225</td>\n",
       "      <td>IMMAP/DFS RDC</td>\n",
       "      <td>412826</td>\n",
       "      <td>8624</td>\n",
       "      <td>[Adult Male (18 to 59 years old)]</td>\n",
       "    </tr>\n",
       "    <tr>\n",
       "      <th>740033</th>\n",
       "      <td>Dans la localité de Djaiba, les enseignants on...</td>\n",
       "      <td>1306</td>\n",
       "      <td>63087</td>\n",
       "      <td>2225</td>\n",
       "      <td>IMMAP/DFS RDC</td>\n",
       "      <td>412991</td>\n",
       "      <td>8624</td>\n",
       "      <td>[Children/Youth Male (5 to 17 years old), Chil...</td>\n",
       "    </tr>\n",
       "    <tr>\n",
       "      <th>740051</th>\n",
       "      <td>Nariño | En Ipiales, el 26 de mayo se realizó ...</td>\n",
       "      <td>829</td>\n",
       "      <td>63199</td>\n",
       "      <td>1183</td>\n",
       "      <td>UNHCR Colombia</td>\n",
       "      <td>402428</td>\n",
       "      <td>5916</td>\n",
       "      <td>[Children/Youth Male (5 to 17 years old), Chil...</td>\n",
       "    </tr>\n",
       "  </tbody>\n",
       "</table>\n",
       "<p>22830 rows × 8 columns</p>\n",
       "</div>"
      ],
      "text/plain": [
       "                                                  excerpt  \\\n",
       "192     Shelter and non-food items are mentioned as pr...   \n",
       "306     Au plan national, 21,9% des enfants de 6-23 mo...   \n",
       "347     Una de las preocupaciones para las elecciones ...   \n",
       "489     Women and girls who have fled Venezuela are at...   \n",
       "857     MAPUTO, MOZAMBIQUE – Monday 18 March 2019 – Fe...   \n",
       "...                                                   ...   \n",
       "739921  3.10 Experience in seeking health services for...   \n",
       "739956  The persons/children with disabilities who sou...   \n",
       "739989  Alors que le phénomène des violences sexuelles...   \n",
       "740033  Dans la localité de Djaiba, les enseignants on...   \n",
       "740051  Nariño | En Ipiales, el 26 de mayo se realizó ...   \n",
       "\n",
       "        analysis_framework_id  lead_id  project_id  \\\n",
       "192                       699    25509        1142   \n",
       "306                      1306    49808        2099   \n",
       "347                       829    19935        1183   \n",
       "489                       829    12703        1184   \n",
       "857                       273    10485         878   \n",
       "...                       ...      ...         ...   \n",
       "739921                   1306    63488        2098   \n",
       "739956                   1306    63488        2098   \n",
       "739989                   1306    63086        2225   \n",
       "740033                   1306    63087        2225   \n",
       "740051                    829    63199        1183   \n",
       "\n",
       "                                  title  entry_id  exportable_id  \\\n",
       "192                         IFRC Turkey     90516           5297   \n",
       "306              IMMAP/DFS Burkina Faso    271697           8624   \n",
       "347                      UNHCR Colombia     69488           5916   \n",
       "489                       UNHCR Ecuador     51349           5916   \n",
       "857     IFRC - Cyclone Idai, March 2019     27578           3142   \n",
       "...                                 ...       ...            ...   \n",
       "739921             IMMAP/DFS Bangladesh    412929           8624   \n",
       "739956             IMMAP/DFS Bangladesh    412942           8624   \n",
       "739989                    IMMAP/DFS RDC    412826           8624   \n",
       "740033                    IMMAP/DFS RDC    412991           8624   \n",
       "740051                   UNHCR Colombia    402428           5916   \n",
       "\n",
       "                                                tag_value  \n",
       "192     [Children/Youth Male (5 to 17 years old), Chil...  \n",
       "306                     [Infants/Toddlers (<5 years old)]  \n",
       "347     [Adult Female (18 to 59 years old), Adult Male...  \n",
       "489     [Children/Youth Male (5 to 17 years old), Chil...  \n",
       "857     [Children/Youth Male (5 to 17 years old), Chil...  \n",
       "...                                                   ...  \n",
       "739921  [Children/Youth Male (5 to 17 years old), Chil...  \n",
       "739956  [Children/Youth Male (5 to 17 years old), Chil...  \n",
       "739989                  [Adult Male (18 to 59 years old)]  \n",
       "740033  [Children/Youth Male (5 to 17 years old), Chil...  \n",
       "740051  [Children/Youth Male (5 to 17 years old), Chil...  \n",
       "\n",
       "[22830 rows x 8 columns]"
      ]
     },
     "execution_count": 72,
     "metadata": {},
     "output_type": "execute_result"
    }
   ],
   "source": [
    "demographic_groups_tags_df = demographic_groups_tags_df[\n",
    "    demographic_groups_tags_df.tag_value.apply(lambda x: x!=[])\n",
    "]\n",
    "demographic_groups_tags_df"
   ]
  },
  {
   "cell_type": "code",
   "execution_count": 73,
   "metadata": {},
   "outputs": [],
   "source": [
    "#demographic_groups_tags_df.to_csv('data_secondary_tags/demographics_groups_tags_initial.csv')"
   ]
  },
  {
   "cell_type": "code",
   "execution_count": 74,
   "metadata": {},
   "outputs": [],
   "source": [
    "values_demographic = flatten_list(list(Demographic_groups_raw_to_processed_dict.values()))\n"
   ]
  },
  {
   "cell_type": "code",
   "execution_count": 75,
   "metadata": {},
   "outputs": [],
   "source": [
    "lengthes_dict = {}\n",
    "for value in values_demographic:\n",
    "\n",
    "    len_tmp = demographic_groups_tags_df[demographic_groups_tags_df.tag_value\\\n",
    "                               .apply(lambda x: value in x)].shape[0]\n",
    "    lengthes_dict[value]=len_tmp"
   ]
  },
  {
   "cell_type": "code",
   "execution_count": 76,
   "metadata": {},
   "outputs": [
    {
     "data": {
      "text/plain": [
       "{'Adult Female (18 to 59 years old)': 7711,\n",
       " 'Adult Male (18 to 59 years old)': 3639,\n",
       " 'Older Persons Female (60+ years old)': 4792,\n",
       " 'Older Persons Male (60+ years old)': 2928,\n",
       " 'Infants/Toddlers (<5 years old)': 3224,\n",
       " 'Children/Youth Male (5 to 17 years old)': 13607,\n",
       " 'Children/Youth Female (5 to 17 years old)': 16304}"
      ]
     },
     "execution_count": 76,
     "metadata": {},
     "output_type": "execute_result"
    }
   ],
   "source": [
    "lengthes_dict"
   ]
  },
  {
   "cell_type": "code",
   "execution_count": null,
   "metadata": {},
   "outputs": [],
   "source": []
  },
  {
   "cell_type": "code",
   "execution_count": 77,
   "metadata": {},
   "outputs": [
    {
     "data": {
      "text/plain": [
       "Text(0.5, 1.0, 'Demographic Groups')"
      ]
     },
     "execution_count": 77,
     "metadata": {},
     "output_type": "execute_result"
    },
    {
     "data": {
      "image/png": "[encoded data removed]",
      "text/plain": [
       "<Figure size 432x288 with 1 Axes>"
      ]
     },
     "metadata": {
      "needs_background": "light"
     },
     "output_type": "display_data"
    }
   ],
   "source": [
    "plt.barh(list(lengthes_dict.keys()), list(lengthes_dict.values()), 1)\n",
    "plt.xlabel('number of occurences')\n",
    "plt.title('Demographic Groups')"
   ]
  },
  {
   "cell_type": "code",
   "execution_count": null,
   "metadata": {},
   "outputs": [],
   "source": []
  },
  {
   "cell_type": "code",
   "execution_count": 78,
   "metadata": {},
   "outputs": [
    {
     "data": {
      "text/plain": [
       "['Adult Female (18 to 59 years old)',\n",
       " 'Adult Male (18 to 59 years old)',\n",
       " 'Older Persons Female (60+ years old)',\n",
       " 'Older Persons Male (60+ years old)',\n",
       " 'Infants/Toddlers (<5 years old)',\n",
       " 'Children/Youth Male (5 to 17 years old)',\n",
       " 'Children/Youth Female (5 to 17 years old)']"
      ]
     },
     "execution_count": 78,
     "metadata": {},
     "output_type": "execute_result"
    }
   ],
   "source": [
    "list(lengthes_dict.keys())"
   ]
  },
  {
   "cell_type": "code",
   "execution_count": 79,
   "metadata": {},
   "outputs": [],
   "source": [
    "def clean_names(x):\n",
    "    return x.replace('Others of Concern','Others').replace('affected','Affected')\n",
    "\n",
    "def preprocess_lists_affected_groups(t):\n",
    "    return list(np.unique([\n",
    "        clean_names(item) for sublist in t for item in sublist if item not in [\n",
    "            '', 'Out of Venezuela', 'Back to Venezuela', 'All',\n",
    "            'Stateless', 'Non Host', 'Not Affected', 'Not affected', 'Pendular',\n",
    "            \n",
    "    ]]))"
   ]
  },
  {
   "cell_type": "code",
   "execution_count": null,
   "metadata": {},
   "outputs": [],
   "source": []
  },
  {
   "cell_type": "code",
   "execution_count": 80,
   "metadata": {},
   "outputs": [
    {
     "data": {
      "application/vnd.jupyter.widget-view+json": {
       "model_id": "22c89f9bd5384d46ad24cc94b5e509da",
       "version_major": 2,
       "version_minor": 0
      },
      "text/plain": [
       "  0%|          | 0/113938 [00:00<?, ?it/s]"
      ]
     },
     "metadata": {},
     "output_type": "display_data"
    }
   ],
   "source": [
    "affected_groups = exportdata[exportdata.tag_title=='Affected Groups']\n",
    "affected_groups = affected_groups[affected_groups.tag_value.apply(lambda x: x!=[])]\n",
    "affected_groups['tag_value'] = affected_groups.tag_value.progress_apply(preprocess_lists_affected_groups)"
   ]
  },
  {
   "cell_type": "code",
   "execution_count": 81,
   "metadata": {},
   "outputs": [
    {
     "data": {
      "text/html": [
       "<div>\n",
       "<style scoped>\n",
       "    .dataframe tbody tr th:only-of-type {\n",
       "        vertical-align: middle;\n",
       "    }\n",
       "\n",
       "    .dataframe tbody tr th {\n",
       "        vertical-align: top;\n",
       "    }\n",
       "\n",
       "    .dataframe thead th {\n",
       "        text-align: right;\n",
       "    }\n",
       "</style>\n",
       "<table border=\"1\" class=\"dataframe\">\n",
       "  <thead>\n",
       "    <tr style=\"text-align: right;\">\n",
       "      <th></th>\n",
       "      <th>id</th>\n",
       "      <th>data</th>\n",
       "      <th>entry_id</th>\n",
       "      <th>exportable_id</th>\n",
       "      <th>tag_title</th>\n",
       "      <th>tag_value</th>\n",
       "    </tr>\n",
       "  </thead>\n",
       "  <tbody>\n",
       "    <tr>\n",
       "      <th>2</th>\n",
       "      <td>1633663</td>\n",
       "      <td>{\"excel\": {\"type\": \"lists\", \"values\": [[\"\", \"A...</td>\n",
       "      <td>338269</td>\n",
       "      <td>8622</td>\n",
       "      <td>Affected Groups</td>\n",
       "      <td>[Affected, Displaced, Host, Non Displaced, Ref...</td>\n",
       "    </tr>\n",
       "    <tr>\n",
       "      <th>7</th>\n",
       "      <td>998839</td>\n",
       "      <td>{\"excel\": {\"type\": \"lists\", \"values\": [[\"\", \"A...</td>\n",
       "      <td>202094</td>\n",
       "      <td>9460</td>\n",
       "      <td>Affected Groups</td>\n",
       "      <td>[Affected, Displaced, Returnees]</td>\n",
       "    </tr>\n",
       "  </tbody>\n",
       "</table>\n",
       "</div>"
      ],
      "text/plain": [
       "        id                                               data  entry_id  \\\n",
       "2  1633663  {\"excel\": {\"type\": \"lists\", \"values\": [[\"\", \"A...    338269   \n",
       "7   998839  {\"excel\": {\"type\": \"lists\", \"values\": [[\"\", \"A...    202094   \n",
       "\n",
       "   exportable_id        tag_title  \\\n",
       "2           8622  Affected Groups   \n",
       "7           9460  Affected Groups   \n",
       "\n",
       "                                           tag_value  \n",
       "2  [Affected, Displaced, Host, Non Displaced, Ref...  \n",
       "7                   [Affected, Displaced, Returnees]  "
      ]
     },
     "execution_count": 81,
     "metadata": {},
     "output_type": "execute_result"
    }
   ],
   "source": [
    "affected_groups.head(2)"
   ]
  },
  {
   "cell_type": "code",
   "execution_count": null,
   "metadata": {},
   "outputs": [],
   "source": []
  },
  {
   "cell_type": "code",
   "execution_count": null,
   "metadata": {},
   "outputs": [],
   "source": []
  },
  {
   "cell_type": "code",
   "execution_count": null,
   "metadata": {},
   "outputs": [],
   "source": []
  },
  {
   "cell_type": "code",
   "execution_count": 82,
   "metadata": {},
   "outputs": [
    {
     "data": {
      "text/plain": [
       "Counter({'Affected': 106945,\n",
       "         'Displaced': 69626,\n",
       "         'Host': 8513,\n",
       "         'Non Displaced': 10481,\n",
       "         'Refugees': 22135,\n",
       "         'Returnees': 7478,\n",
       "         'Others': 10815,\n",
       "         'Migrants': 22840,\n",
       "         'IDP': 19733,\n",
       "         'Permanent': 4875,\n",
       "         'Asylum Seekers': 3212,\n",
       "         'In transit': 2284})"
      ]
     },
     "execution_count": 82,
     "metadata": {},
     "output_type": "execute_result"
    }
   ],
   "source": [
    "list_all_tags = affected_groups.tag_value.tolist()\n",
    "flattened = flatten_list(list_all_tags)\n",
    "Counter(flattened)"
   ]
  },
  {
   "cell_type": "code",
   "execution_count": null,
   "metadata": {},
   "outputs": [],
   "source": []
  },
  {
   "cell_type": "code",
   "execution_count": 83,
   "metadata": {},
   "outputs": [],
   "source": [
    "values_demographic = list(Demographic_groups_raw_to_processed_dict.values())"
   ]
  },
  {
   "cell_type": "code",
   "execution_count": 84,
   "metadata": {},
   "outputs": [
    {
     "name": "stdout",
     "output_type": "stream",
     "text": [
      " demographic groups: 22830\n",
      " specific needs groups: 8082\n",
      " severity: 44674\n",
      " reliability: 155304\n",
      " date: 63188\n",
      " geo location: 138809\n",
      " affected groups: 113938\n"
     ]
    }
   ],
   "source": [
    "print(f\" demographic groups: {demographic_groups_tags_df.shape[0]}\\n\",\n",
    "f\"specific needs groups: {specific_needs_groups_tags_df.shape[0]}\\n\",\n",
    "f\"severity: {severity_tags_df.shape[0]}\\n\",\n",
    "f\"reliability: {reliabillity_tags_df.shape[0]}\\n\",\n",
    "f\"date: {date_tags_df.shape[0]}\\n\",\n",
    "f\"geo location: {geo_loc_df.shape[0]}\\n\",\n",
    "f\"affected groups: {affected_groups.shape[0]}\")"
   ]
  },
  {
   "cell_type": "code",
   "execution_count": 85,
   "metadata": {},
   "outputs": [
    {
     "data": {
      "text/html": [
       "<div>\n",
       "<style scoped>\n",
       "    .dataframe tbody tr th:only-of-type {\n",
       "        vertical-align: middle;\n",
       "    }\n",
       "\n",
       "    .dataframe tbody tr th {\n",
       "        vertical-align: top;\n",
       "    }\n",
       "\n",
       "    .dataframe thead th {\n",
       "        text-align: right;\n",
       "    }\n",
       "</style>\n",
       "<table border=\"1\" class=\"dataframe\">\n",
       "  <thead>\n",
       "    <tr style=\"text-align: right;\">\n",
       "      <th></th>\n",
       "      <th>excerpt</th>\n",
       "      <th>analysis_framework_id</th>\n",
       "      <th>lead_id</th>\n",
       "      <th>project_id</th>\n",
       "      <th>title</th>\n",
       "      <th>entry_id</th>\n",
       "      <th>exportable_id</th>\n",
       "      <th>tag_value</th>\n",
       "    </tr>\n",
       "  </thead>\n",
       "  <tbody>\n",
       "    <tr>\n",
       "      <th>1</th>\n",
       "      <td>On March 19, search-andrescue personnel airlif...</td>\n",
       "      <td>273</td>\n",
       "      <td>10607</td>\n",
       "      <td>878</td>\n",
       "      <td>IFRC - Cyclone Idai, March 2019</td>\n",
       "      <td>25639</td>\n",
       "      <td>3145</td>\n",
       "      <td>[Usually reliable]</td>\n",
       "    </tr>\n",
       "    <tr>\n",
       "      <th>9</th>\n",
       "      <td>Currently, there are 139,771 confirmed cases i...</td>\n",
       "      <td>699</td>\n",
       "      <td>28940</td>\n",
       "      <td>1142</td>\n",
       "      <td>IFRC Turkey</td>\n",
       "      <td>102051</td>\n",
       "      <td>5295</td>\n",
       "      <td>[Usually reliable]</td>\n",
       "    </tr>\n",
       "    <tr>\n",
       "      <th>20</th>\n",
       "      <td>According to The Guardian, more than 9,000 ref...</td>\n",
       "      <td>552</td>\n",
       "      <td>8644</td>\n",
       "      <td>788</td>\n",
       "      <td>Nigeria Situation Analysis (OA)</td>\n",
       "      <td>21660</td>\n",
       "      <td>4690</td>\n",
       "      <td>[Usually reliable]</td>\n",
       "    </tr>\n",
       "    <tr>\n",
       "      <th>37</th>\n",
       "      <td>SANCAKTEPE SUB-PROVINCE: According to Baseline...</td>\n",
       "      <td>699</td>\n",
       "      <td>25511</td>\n",
       "      <td>1142</td>\n",
       "      <td>IFRC Turkey</td>\n",
       "      <td>96070</td>\n",
       "      <td>5295</td>\n",
       "      <td>[Usually reliable]</td>\n",
       "    </tr>\n",
       "    <tr>\n",
       "      <th>73</th>\n",
       "      <td>Spanish RC – providing support in transportati...</td>\n",
       "      <td>273</td>\n",
       "      <td>10437</td>\n",
       "      <td>878</td>\n",
       "      <td>IFRC - Cyclone Idai, March 2019</td>\n",
       "      <td>25635</td>\n",
       "      <td>3145</td>\n",
       "      <td>[Usually reliable]</td>\n",
       "    </tr>\n",
       "    <tr>\n",
       "      <th>...</th>\n",
       "      <td>...</td>\n",
       "      <td>...</td>\n",
       "      <td>...</td>\n",
       "      <td>...</td>\n",
       "      <td>...</td>\n",
       "      <td>...</td>\n",
       "      <td>...</td>\n",
       "      <td>...</td>\n",
       "    </tr>\n",
       "    <tr>\n",
       "      <th>740030</th>\n",
       "      <td>Une structure sanitiare est fonctionnelle à Dj...</td>\n",
       "      <td>1306</td>\n",
       "      <td>63087</td>\n",
       "      <td>2225</td>\n",
       "      <td>IMMAP/DFS RDC</td>\n",
       "      <td>412992</td>\n",
       "      <td>8623</td>\n",
       "      <td>[Usually reliable]</td>\n",
       "    </tr>\n",
       "    <tr>\n",
       "      <th>740035</th>\n",
       "      <td>Dans la localité de Djaiba, les enseignants on...</td>\n",
       "      <td>1306</td>\n",
       "      <td>63087</td>\n",
       "      <td>2225</td>\n",
       "      <td>IMMAP/DFS RDC</td>\n",
       "      <td>412991</td>\n",
       "      <td>8623</td>\n",
       "      <td>[Usually reliable]</td>\n",
       "    </tr>\n",
       "    <tr>\n",
       "      <th>740039</th>\n",
       "      <td>L'activité économique a fortement ralenti en 2...</td>\n",
       "      <td>1306</td>\n",
       "      <td>63089</td>\n",
       "      <td>2225</td>\n",
       "      <td>IMMAP/DFS RDC</td>\n",
       "      <td>413010</td>\n",
       "      <td>8623</td>\n",
       "      <td>[Usually reliable]</td>\n",
       "    </tr>\n",
       "    <tr>\n",
       "      <th>740043</th>\n",
       "      <td>L'inflation a grimpé en flèche, alimentée par ...</td>\n",
       "      <td>1306</td>\n",
       "      <td>63089</td>\n",
       "      <td>2225</td>\n",
       "      <td>IMMAP/DFS RDC</td>\n",
       "      <td>413011</td>\n",
       "      <td>8623</td>\n",
       "      <td>[Usually reliable]</td>\n",
       "    </tr>\n",
       "    <tr>\n",
       "      <th>740047</th>\n",
       "      <td>Nariño | En Ipiales, el 26 de mayo se realizó ...</td>\n",
       "      <td>829</td>\n",
       "      <td>63199</td>\n",
       "      <td>1183</td>\n",
       "      <td>UNHCR Colombia</td>\n",
       "      <td>402428</td>\n",
       "      <td>6013</td>\n",
       "      <td>[Usually reliable]</td>\n",
       "    </tr>\n",
       "  </tbody>\n",
       "</table>\n",
       "<p>155304 rows × 8 columns</p>\n",
       "</div>"
      ],
      "text/plain": [
       "                                                  excerpt  \\\n",
       "1       On March 19, search-andrescue personnel airlif...   \n",
       "9       Currently, there are 139,771 confirmed cases i...   \n",
       "20      According to The Guardian, more than 9,000 ref...   \n",
       "37      SANCAKTEPE SUB-PROVINCE: According to Baseline...   \n",
       "73      Spanish RC – providing support in transportati...   \n",
       "...                                                   ...   \n",
       "740030  Une structure sanitiare est fonctionnelle à Dj...   \n",
       "740035  Dans la localité de Djaiba, les enseignants on...   \n",
       "740039  L'activité économique a fortement ralenti en 2...   \n",
       "740043  L'inflation a grimpé en flèche, alimentée par ...   \n",
       "740047  Nariño | En Ipiales, el 26 de mayo se realizó ...   \n",
       "\n",
       "        analysis_framework_id  lead_id  project_id  \\\n",
       "1                         273    10607         878   \n",
       "9                         699    28940        1142   \n",
       "20                        552     8644         788   \n",
       "37                        699    25511        1142   \n",
       "73                        273    10437         878   \n",
       "...                       ...      ...         ...   \n",
       "740030                   1306    63087        2225   \n",
       "740035                   1306    63087        2225   \n",
       "740039                   1306    63089        2225   \n",
       "740043                   1306    63089        2225   \n",
       "740047                    829    63199        1183   \n",
       "\n",
       "                                  title  entry_id  exportable_id  \\\n",
       "1       IFRC - Cyclone Idai, March 2019     25639           3145   \n",
       "9                           IFRC Turkey    102051           5295   \n",
       "20      Nigeria Situation Analysis (OA)     21660           4690   \n",
       "37                          IFRC Turkey     96070           5295   \n",
       "73      IFRC - Cyclone Idai, March 2019     25635           3145   \n",
       "...                                 ...       ...            ...   \n",
       "740030                    IMMAP/DFS RDC    412992           8623   \n",
       "740035                    IMMAP/DFS RDC    412991           8623   \n",
       "740039                    IMMAP/DFS RDC    413010           8623   \n",
       "740043                    IMMAP/DFS RDC    413011           8623   \n",
       "740047                   UNHCR Colombia    402428           6013   \n",
       "\n",
       "                 tag_value  \n",
       "1       [Usually reliable]  \n",
       "9       [Usually reliable]  \n",
       "20      [Usually reliable]  \n",
       "37      [Usually reliable]  \n",
       "73      [Usually reliable]  \n",
       "...                    ...  \n",
       "740030  [Usually reliable]  \n",
       "740035  [Usually reliable]  \n",
       "740039  [Usually reliable]  \n",
       "740043  [Usually reliable]  \n",
       "740047  [Usually reliable]  \n",
       "\n",
       "[155304 rows x 8 columns]"
      ]
     },
     "execution_count": 85,
     "metadata": {},
     "output_type": "execute_result"
    }
   ],
   "source": [
    "reliabillity_tags_df"
   ]
  },
  {
   "cell_type": "code",
   "execution_count": 86,
   "metadata": {},
   "outputs": [],
   "source": [
    "entries_cleaned_final = entries.drop(columns=[\n",
    "    'tabular_field_id',\n",
    "   'image_id',\n",
    "   'image_raw', \n",
    "   'created_at', \n",
    "   'modified_at', \n",
    "   'created_by_id', \n",
    "   'modified_by_id',\n",
    "   'dropped_excerpt', \n",
    "   'highlight_hidden', \n",
    "   'verified', \n",
    "   'verification_last_changed_by_id', \n",
    "   'client_id',\n",
    "  'information_date',\n",
    "  'order'\n",
    "]).rename(columns={'id':'entry_id'}).dropna()"
   ]
  },
  {
   "cell_type": "code",
   "execution_count": 87,
   "metadata": {},
   "outputs": [],
   "source": [
    "final_secondary_tags =\\\n",
    "    pd.merge(entries_cleaned_final,\n",
    "             geo_loc_df[['entry_id', 'tag_value']]\\\n",
    "                .rename(columns={'tag_value':'geo_location'}),\n",
    "             how=\"left\",\n",
    "             on=\"entry_id\")\n",
    "\n",
    "final_secondary_tags =\\\n",
    "    pd.merge(final_secondary_tags,\n",
    "             specific_needs_groups_tags_df[['entry_id', 'tag_value']]\\\n",
    "                .rename(columns={'tag_value':'specific_needs_groups'}),\n",
    "             how=\"left\",\n",
    "             on=\"entry_id\")\n",
    "\n",
    "final_secondary_tags =\\\n",
    "    pd.merge(final_secondary_tags,\n",
    "             severity_tags_df[['entry_id', 'tag_value']]\\\n",
    "                .rename(columns={'tag_value':'severity'}),\n",
    "             how=\"left\",\n",
    "             on=\"entry_id\")\n",
    "\n",
    "final_secondary_tags =\\\n",
    "    pd.merge(final_secondary_tags,\n",
    "             date_tags_df[['entry_id', 'tag_value']]\\\n",
    "                .rename(columns={'tag_value':'dates'}),\n",
    "             how=\"left\",\n",
    "             on=\"entry_id\")\n",
    "\n",
    "final_secondary_tags =\\\n",
    "    pd.merge(final_secondary_tags,\n",
    "             demographic_groups_tags_df[['entry_id', 'tag_value']]\\\n",
    "                .rename(columns={'tag_value':'demographic_groups'}),\n",
    "             how=\"left\",\n",
    "             on=\"entry_id\")\n",
    "\n",
    "final_secondary_tags =\\\n",
    "    pd.merge(final_secondary_tags,\n",
    "             reliabillity_tags_df[['entry_id', 'tag_value']]\\\n",
    "                .rename(columns={'tag_value':'reliability'}),\n",
    "             how=\"left\",\n",
    "             on=\"entry_id\")\n",
    "\n",
    "final_secondary_tags =\\\n",
    "    pd.merge(final_secondary_tags,\n",
    "             affected_groups[['entry_id', 'tag_value']]\\\n",
    "                .rename(columns={'tag_value':'affected_groups'}),\n",
    "             how=\"left\",\n",
    "             on=\"entry_id\")"
   ]
  },
  {
   "cell_type": "code",
   "execution_count": 88,
   "metadata": {},
   "outputs": [],
   "source": [
    "final_secondary_tags = final_secondary_tags[~(\n",
    "    final_secondary_tags.analysis_framework_id.isna() | \n",
    "    final_secondary_tags.entry_id.isna() |\n",
    "    final_secondary_tags.lead_id.isna() |\n",
    "    final_secondary_tags.excerpt.isna())\n",
    "]"
   ]
  },
  {
   "cell_type": "code",
   "execution_count": 89,
   "metadata": {},
   "outputs": [],
   "source": [
    "sec_tags = ['geo_location', \n",
    "     'specific_needs_groups', \n",
    "     'severity', \n",
    "     'demographic_groups', \n",
    "     'reliability', \n",
    "     'affected_groups']\n",
    "\n",
    "for tag in sec_tags:\n",
    "    final_secondary_tags[tag] = final_secondary_tags[tag].fillna(\"\").apply(list)"
   ]
  },
  {
   "cell_type": "code",
   "execution_count": 90,
   "metadata": {},
   "outputs": [],
   "source": [
    "final_secondary_tags['dates'] = final_secondary_tags['dates'].fillna(\"UNKNOWN\")"
   ]
  },
  {
   "cell_type": "code",
   "execution_count": 91,
   "metadata": {},
   "outputs": [
    {
     "data": {
      "text/plain": [
       "entry_id                                                            317380\n",
       "excerpt                  Cameroon has ratified the International Covena...\n",
       "analysis_framework_id                                                 1465\n",
       "lead_id                                                              48435\n",
       "entry_type                                                         excerpt\n",
       "project_id                                                            2334\n",
       "title                                                       GIMAC Cameroon\n",
       "geo_location                                                    [Cameroon]\n",
       "specific_needs_groups                                                   []\n",
       "severity                                                                []\n",
       "dates                                                              UNKNOWN\n",
       "demographic_groups       [Children/Youth Male (5 to 17 years old), Chil...\n",
       "reliability                                             [Usually reliable]\n",
       "affected_groups                                                         []\n",
       "Name: 131075, dtype: object"
      ]
     },
     "execution_count": 91,
     "metadata": {},
     "output_type": "execute_result"
    }
   ],
   "source": [
    "final_secondary_tags.iloc[131075]"
   ]
  },
  {
   "cell_type": "code",
   "execution_count": 92,
   "metadata": {},
   "outputs": [
    {
     "data": {
      "text/plain": [
       "(155891, 14)"
      ]
     },
     "execution_count": 92,
     "metadata": {},
     "output_type": "execute_result"
    }
   ],
   "source": [
    "final_secondary_tags.shape"
   ]
  },
  {
   "cell_type": "code",
   "execution_count": 93,
   "metadata": {},
   "outputs": [
    {
     "data": {
      "text/html": [
       "<div>\n",
       "<style scoped>\n",
       "    .dataframe tbody tr th:only-of-type {\n",
       "        vertical-align: middle;\n",
       "    }\n",
       "\n",
       "    .dataframe tbody tr th {\n",
       "        vertical-align: top;\n",
       "    }\n",
       "\n",
       "    .dataframe thead th {\n",
       "        text-align: right;\n",
       "    }\n",
       "</style>\n",
       "<table border=\"1\" class=\"dataframe\">\n",
       "  <thead>\n",
       "    <tr style=\"text-align: right;\">\n",
       "      <th></th>\n",
       "      <th>entry_id</th>\n",
       "      <th>excerpt</th>\n",
       "      <th>analysis_framework_id</th>\n",
       "      <th>lead_id</th>\n",
       "      <th>entry_type</th>\n",
       "      <th>project_id</th>\n",
       "      <th>title</th>\n",
       "      <th>geo_location</th>\n",
       "      <th>specific_needs_groups</th>\n",
       "      <th>severity</th>\n",
       "      <th>dates</th>\n",
       "      <th>demographic_groups</th>\n",
       "      <th>reliability</th>\n",
       "      <th>affected_groups</th>\n",
       "    </tr>\n",
       "  </thead>\n",
       "  <tbody>\n",
       "    <tr>\n",
       "      <th>155886</th>\n",
       "      <td>412992</td>\n",
       "      <td>Une structure sanitiare est fonctionnelle à Dj...</td>\n",
       "      <td>1306</td>\n",
       "      <td>63087</td>\n",
       "      <td>excerpt</td>\n",
       "      <td>2225</td>\n",
       "      <td>IMMAP/DFS RDC</td>\n",
       "      <td>[Djugu]</td>\n",
       "      <td>[]</td>\n",
       "      <td>[Major]</td>\n",
       "      <td>[12-06-2021, 28-06-2021]</td>\n",
       "      <td>[]</td>\n",
       "      <td>[Usually reliable]</td>\n",
       "      <td>[Affected, Displaced, IDP]</td>\n",
       "    </tr>\n",
       "    <tr>\n",
       "      <th>155887</th>\n",
       "      <td>412991</td>\n",
       "      <td>Dans la localité de Djaiba, les enseignants on...</td>\n",
       "      <td>1306</td>\n",
       "      <td>63087</td>\n",
       "      <td>excerpt</td>\n",
       "      <td>2225</td>\n",
       "      <td>IMMAP/DFS RDC</td>\n",
       "      <td>[Djugu]</td>\n",
       "      <td>[]</td>\n",
       "      <td>[Major]</td>\n",
       "      <td>[12-06-2021, 28-06-2021]</td>\n",
       "      <td>[Children/Youth Male (5 to 17 years old), Chil...</td>\n",
       "      <td>[Usually reliable]</td>\n",
       "      <td>[Affected, Displaced, IDP]</td>\n",
       "    </tr>\n",
       "    <tr>\n",
       "      <th>155888</th>\n",
       "      <td>413010</td>\n",
       "      <td>L'activité économique a fortement ralenti en 2...</td>\n",
       "      <td>1306</td>\n",
       "      <td>63089</td>\n",
       "      <td>excerpt</td>\n",
       "      <td>2225</td>\n",
       "      <td>IMMAP/DFS RDC</td>\n",
       "      <td>[République démocratique du Congo]</td>\n",
       "      <td>[]</td>\n",
       "      <td>[]</td>\n",
       "      <td>UNKNOWN</td>\n",
       "      <td>[]</td>\n",
       "      <td>[Usually reliable]</td>\n",
       "      <td>[]</td>\n",
       "    </tr>\n",
       "    <tr>\n",
       "      <th>155889</th>\n",
       "      <td>413011</td>\n",
       "      <td>L'inflation a grimpé en flèche, alimentée par ...</td>\n",
       "      <td>1306</td>\n",
       "      <td>63089</td>\n",
       "      <td>excerpt</td>\n",
       "      <td>2225</td>\n",
       "      <td>IMMAP/DFS RDC</td>\n",
       "      <td>[République démocratique du Congo]</td>\n",
       "      <td>[]</td>\n",
       "      <td>[]</td>\n",
       "      <td>UNKNOWN</td>\n",
       "      <td>[]</td>\n",
       "      <td>[Usually reliable]</td>\n",
       "      <td>[]</td>\n",
       "    </tr>\n",
       "    <tr>\n",
       "      <th>155890</th>\n",
       "      <td>402428</td>\n",
       "      <td>Nariño | En Ipiales, el 26 de mayo se realizó ...</td>\n",
       "      <td>829</td>\n",
       "      <td>63199</td>\n",
       "      <td>excerpt</td>\n",
       "      <td>1183</td>\n",
       "      <td>UNHCR Colombia</td>\n",
       "      <td>[Ipiales]</td>\n",
       "      <td>[]</td>\n",
       "      <td>[]</td>\n",
       "      <td>[27-05-2021, 02-06-2021]</td>\n",
       "      <td>[Children/Youth Male (5 to 17 years old), Chil...</td>\n",
       "      <td>[Usually reliable]</td>\n",
       "      <td>[Affected, Displaced, In transit, Migrants]</td>\n",
       "    </tr>\n",
       "  </tbody>\n",
       "</table>\n",
       "</div>"
      ],
      "text/plain": [
       "        entry_id                                            excerpt  \\\n",
       "155886    412992  Une structure sanitiare est fonctionnelle à Dj...   \n",
       "155887    412991  Dans la localité de Djaiba, les enseignants on...   \n",
       "155888    413010  L'activité économique a fortement ralenti en 2...   \n",
       "155889    413011  L'inflation a grimpé en flèche, alimentée par ...   \n",
       "155890    402428  Nariño | En Ipiales, el 26 de mayo se realizó ...   \n",
       "\n",
       "        analysis_framework_id  lead_id entry_type  project_id           title  \\\n",
       "155886                   1306    63087    excerpt        2225   IMMAP/DFS RDC   \n",
       "155887                   1306    63087    excerpt        2225   IMMAP/DFS RDC   \n",
       "155888                   1306    63089    excerpt        2225   IMMAP/DFS RDC   \n",
       "155889                   1306    63089    excerpt        2225   IMMAP/DFS RDC   \n",
       "155890                    829    63199    excerpt        1183  UNHCR Colombia   \n",
       "\n",
       "                              geo_location specific_needs_groups severity  \\\n",
       "155886                             [Djugu]                    []  [Major]   \n",
       "155887                             [Djugu]                    []  [Major]   \n",
       "155888  [République démocratique du Congo]                    []       []   \n",
       "155889  [République démocratique du Congo]                    []       []   \n",
       "155890                           [Ipiales]                    []       []   \n",
       "\n",
       "                           dates  \\\n",
       "155886  [12-06-2021, 28-06-2021]   \n",
       "155887  [12-06-2021, 28-06-2021]   \n",
       "155888                   UNKNOWN   \n",
       "155889                   UNKNOWN   \n",
       "155890  [27-05-2021, 02-06-2021]   \n",
       "\n",
       "                                       demographic_groups         reliability  \\\n",
       "155886                                                 []  [Usually reliable]   \n",
       "155887  [Children/Youth Male (5 to 17 years old), Chil...  [Usually reliable]   \n",
       "155888                                                 []  [Usually reliable]   \n",
       "155889                                                 []  [Usually reliable]   \n",
       "155890  [Children/Youth Male (5 to 17 years old), Chil...  [Usually reliable]   \n",
       "\n",
       "                                    affected_groups  \n",
       "155886                   [Affected, Displaced, IDP]  \n",
       "155887                   [Affected, Displaced, IDP]  \n",
       "155888                                           []  \n",
       "155889                                           []  \n",
       "155890  [Affected, Displaced, In transit, Migrants]  "
      ]
     },
     "execution_count": 93,
     "metadata": {},
     "output_type": "execute_result"
    }
   ],
   "source": [
    "final_secondary_tags.tail()"
   ]
  },
  {
   "cell_type": "code",
   "execution_count": 94,
   "metadata": {},
   "outputs": [],
   "source": [
    "#final_secondary_tags.to_csv('generated_entries/secondary_tags.csv', index=None)"
   ]
  },
  {
   "cell_type": "code",
   "execution_count": null,
   "metadata": {},
   "outputs": [],
   "source": []
  },
  {
   "cell_type": "markdown",
   "metadata": {},
   "source": [
    "## Merging with primary tags"
   ]
  },
  {
   "cell_type": "code",
   "execution_count": 95,
   "metadata": {},
   "outputs": [],
   "source": [
    "primary_tags = pd.read_csv('generated_entries/primary_tags.csv')\n",
    "primary_tags_gimmac = pd.read_csv('generated_entries/primary_tags_gimmac_data.csv')\n"
   ]
  },
  {
   "cell_type": "code",
   "execution_count": 96,
   "metadata": {},
   "outputs": [],
   "source": [
    "all_dataset = pd.concat([primary_tags, primary_tags_gimmac])\n",
    "all_dataset = all_dataset.drop_duplicates()"
   ]
  },
  {
   "cell_type": "code",
   "execution_count": 97,
   "metadata": {},
   "outputs": [
    {
     "data": {
      "text/plain": [
       "(160387, 13)"
      ]
     },
     "execution_count": 97,
     "metadata": {},
     "output_type": "execute_result"
    }
   ],
   "source": [
    "all_dataset = all_dataset[~(\n",
    "    all_dataset.analysis_framework_id.isna() | \n",
    "    all_dataset.entry_id.isna() |\n",
    "    all_dataset.lead_id.isna() |\n",
    "    all_dataset.excerpt.isna())\n",
    "]\n",
    "all_dataset.shape"
   ]
  },
  {
   "cell_type": "code",
   "execution_count": 98,
   "metadata": {},
   "outputs": [
    {
     "data": {
      "text/plain": [
       "Index(['entry_id', 'excerpt_x', 'entry_type_x', 'analysis_framework_id_x',\n",
       "       'lead_id_x', 'title_x', 'project_id_x', 'verified', 'sectors',\n",
       "       'subpillars_2d', 'subpillars_1d', 'pillars_1d', 'pillars_2d',\n",
       "       'excerpt_y', 'analysis_framework_id_y', 'lead_id_y', 'entry_type_y',\n",
       "       'project_id_y', 'title_y', 'geo_location', 'specific_needs_groups',\n",
       "       'severity', 'dates', 'demographic_groups', 'reliability',\n",
       "       'affected_groups'],\n",
       "      dtype='object')"
      ]
     },
     "execution_count": 98,
     "metadata": {},
     "output_type": "execute_result"
    }
   ],
   "source": [
    "final_merged = pd.merge(\n",
    "    left=all_dataset,\n",
    "    right=final_secondary_tags,\n",
    "    how='outer',\n",
    "    on='entry_id'\n",
    ")\n",
    "final_merged.columns "
   ]
  },
  {
   "cell_type": "code",
   "execution_count": 99,
   "metadata": {},
   "outputs": [],
   "source": [
    "final_merged['excerpt'] = final_merged.apply(lambda x: x.excerpt_y if pd.isna(x.excerpt_x) else x.excerpt_x, axis=1)\n",
    "final_merged = final_merged[~final_merged.excerpt.isna()].drop(columns=['excerpt_x', 'excerpt_y'])\n",
    "\n",
    "final_merged['analysis_framework_id'] = final_merged.apply(\n",
    "    lambda x: x.analysis_framework_id_y if pd.isna(x.analysis_framework_id_x) else x.analysis_framework_id_x, axis=1\n",
    ")\n",
    "final_merged = final_merged[\n",
    "    ~final_merged.analysis_framework_id.isna()\n",
    "].drop(columns=['analysis_framework_id_x', 'analysis_framework_id_y'])\n",
    "\n",
    "final_merged['lead_id'] = final_merged.apply(lambda x: x.lead_id_y if pd.isna(x.lead_id_x) else x.lead_id_x, axis=1)\n",
    "final_merged = final_merged[~final_merged.lead_id.isna()].drop(columns=['lead_id_x', 'lead_id_y'])\n",
    "\n",
    "final_merged['project_id'] = final_merged.apply(lambda x: x.project_id_y if pd.isna(x.project_id_x) else x.project_id_x, axis=1)\n",
    "final_merged = final_merged[~final_merged.project_id.isna()].drop(columns=['project_id_x', 'project_id_y'])\n",
    "\n",
    "final_merged['title'] = final_merged.apply(lambda x: x.title_y if pd.isna(x.title_x) else x.title_x, axis=1)\n",
    "final_merged = final_merged[~final_merged.title.isna()].drop(columns=['title_x', 'title_y'])\n",
    "\n",
    "final_merged['entry_type'] = final_merged.apply(lambda x: x.entry_type_y if pd.isna(x.entry_type_x) else x.entry_type_x, axis=1)\n",
    "final_merged = final_merged[~final_merged.title.isna()].drop(columns=['entry_type_x', 'entry_type_y'])"
   ]
  },
  {
   "cell_type": "code",
   "execution_count": null,
   "metadata": {},
   "outputs": [],
   "source": []
  },
  {
   "cell_type": "code",
   "execution_count": 100,
   "metadata": {},
   "outputs": [],
   "source": [
    "tags = ['geo_location', \n",
    "     'specific_needs_groups', \n",
    "     'severity', \n",
    "     'demographic_groups', \n",
    "     'reliability', \n",
    "     'affected_groups',\n",
    "        'sectors', \n",
    "     'subpillars_2d',\n",
    "     'subpillars_1d']\n",
    "\n",
    "for tag in tags:\n",
    "    final_merged[tag] = final_merged[tag].fillna(\"\").apply(lambda x: [] if x==\"\" else x)"
   ]
  },
  {
   "cell_type": "code",
   "execution_count": 101,
   "metadata": {},
   "outputs": [],
   "source": [
    "final_merged = final_merged[\n",
    "    ['entry_id', 'excerpt', 'analysis_framework_id', 'lead_id',\n",
    "       'project_id', 'title', 'entry_type', 'verified', 'sectors', 'subpillars_2d', 'subpillars_1d',\n",
    "     'geo_location', 'specific_needs_groups',\n",
    "       'severity', 'dates', 'demographic_groups', 'reliability',\n",
    "       'affected_groups']\n",
    "]"
   ]
  },
  {
   "cell_type": "code",
   "execution_count": null,
   "metadata": {},
   "outputs": [],
   "source": []
  },
  {
   "cell_type": "code",
   "execution_count": null,
   "metadata": {},
   "outputs": [],
   "source": []
  },
  {
   "cell_type": "markdown",
   "metadata": {},
   "source": [
    "## leads"
   ]
  },
  {
   "cell_type": "code",
   "execution_count": 102,
   "metadata": {},
   "outputs": [
    {
     "data": {
      "text/plain": [
       "Index(['lead_id', 'source_type', 'url', 'website'], dtype='object')"
      ]
     },
     "execution_count": 102,
     "metadata": {},
     "output_type": "execute_result"
    }
   ],
   "source": [
    "leads = pd.read_csv('leads.csv').rename(columns={'id':'lead_id'})[\n",
    "    ['lead_id', 'source_type', 'url', 'website']\n",
    "]\n",
    "leads.columns"
   ]
  },
  {
   "cell_type": "code",
   "execution_count": 103,
   "metadata": {},
   "outputs": [],
   "source": [
    "final_merged = pd.merge(\n",
    "    left=final_merged,\n",
    "    right=leads,\n",
    "    how='left',\n",
    "    on='lead_id'\n",
    ")"
   ]
  },
  {
   "cell_type": "code",
   "execution_count": 104,
   "metadata": {},
   "outputs": [],
   "source": [
    "final_merged.to_csv('generated_entries/full_dataset.csv', index=None)"
   ]
  },
  {
   "cell_type": "code",
   "execution_count": null,
   "metadata": {},
   "outputs": [],
   "source": []
  },
  {
   "cell_type": "markdown",
   "metadata": {},
   "source": [
    "## testing it works well:"
   ]
  },
  {
   "cell_type": "code",
   "execution_count": 105,
   "metadata": {},
   "outputs": [
    {
     "name": "stderr",
     "output_type": "stream",
     "text": [
      "/home/selim/anaconda3/lib/python3.8/site-packages/IPython/core/interactiveshell.py:3146: DtypeWarning: Columns (7) have mixed types.Specify dtype option on import or set low_memory=False.\n",
      "  has_raised = await self.run_ast_nodes(code_ast.body, cell_name,\n"
     ]
    }
   ],
   "source": [
    "test = pd.read_csv('generated_entries/full_dataset.csv')"
   ]
  },
  {
   "cell_type": "code",
   "execution_count": 106,
   "metadata": {},
   "outputs": [
    {
     "data": {
      "text/plain": [
       "((163875, 21),\n",
       " Index(['entry_id', 'excerpt', 'analysis_framework_id', 'lead_id', 'project_id',\n",
       "        'title', 'entry_type', 'verified', 'sectors', 'subpillars_2d',\n",
       "        'subpillars_1d', 'geo_location', 'specific_needs_groups', 'severity',\n",
       "        'dates', 'demographic_groups', 'reliability', 'affected_groups',\n",
       "        'source_type', 'url', 'website'],\n",
       "       dtype='object'))"
      ]
     },
     "execution_count": 106,
     "metadata": {},
     "output_type": "execute_result"
    }
   ],
   "source": [
    "test.shape, test.columns"
   ]
  },
  {
   "cell_type": "code",
   "execution_count": null,
   "metadata": {},
   "outputs": [],
   "source": []
  },
  {
   "cell_type": "code",
   "execution_count": null,
   "metadata": {},
   "outputs": [],
   "source": [
    "test"
   ]
  },
  {
   "cell_type": "code",
   "execution_count": null,
   "metadata": {},
   "outputs": [],
   "source": []
  },
  {
   "cell_type": "code",
   "execution_count": null,
   "metadata": {},
   "outputs": [],
   "source": []
  },
  {
   "cell_type": "code",
   "execution_count": null,
   "metadata": {},
   "outputs": [],
   "source": []
  },
  {
   "cell_type": "code",
   "execution_count": null,
   "metadata": {},
   "outputs": [],
   "source": []
  },
  {
   "cell_type": "code",
   "execution_count": null,
   "metadata": {},
   "outputs": [],
   "source": []
  }
 ],
 "metadata": {
  "kernelspec": {
   "display_name": "Python 3",
   "language": "python",
   "name": "python3"
  },
  "language_info": {
   "codemirror_mode": {
    "name": "ipython",
    "version": 3
   },
   "file_extension": ".py",
   "mimetype": "text/x-python",
   "name": "python",
   "nbconvert_exporter": "python",
   "pygments_lexer": "ipython3",
   "version": "3.8.5"
  }
 },
 "nbformat": 4,
 "nbformat_minor": 4
}
