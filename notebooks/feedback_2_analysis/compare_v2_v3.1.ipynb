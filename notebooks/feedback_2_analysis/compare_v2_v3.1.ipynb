{
 "cells": [
  {
   "cell_type": "code",
   "execution_count": 1,
   "id": "e8ab9737",
   "metadata": {
    "ExecuteTime": {
     "end_time": "2021-10-18T06:54:33.514615Z",
     "start_time": "2021-10-18T06:54:33.129431Z"
    }
   },
   "outputs": [],
   "source": [
    "from ast import literal_eval\n",
    "\n",
    "import numpy as np\n",
    "import pandas as pd\n",
    "from sklearn import metrics\n",
    "\n",
    "from constants import (SECTORS, SUBPILLARS_2D, SUBPILLARS_1D,\n",
    "                       DEMOGRAPHIC_GROUPS, SPECIFIC_NEEDS_GROUPS,\n",
    "                       AFFECTED_GROUPS, SEVERITY, RELIABILITY)"
   ]
  },
  {
   "cell_type": "code",
   "execution_count": 2,
   "id": "ef45e1f9",
   "metadata": {
    "ExecuteTime": {
     "end_time": "2021-10-18T06:54:33.832207Z",
     "start_time": "2021-10-18T06:54:33.829150Z"
    }
   },
   "outputs": [],
   "source": [
    "# this is weird a little bit, ask Selim about it\n",
    "AFFECTED_GROUPS.append(\"Others\")"
   ]
  },
  {
   "cell_type": "code",
   "execution_count": 3,
   "id": "d81ab517",
   "metadata": {
    "ExecuteTime": {
     "end_time": "2021-10-18T06:54:34.592755Z",
     "start_time": "2021-10-18T06:54:34.580477Z"
    }
   },
   "outputs": [],
   "source": [
    "tag_name_2_lbls = {\n",
    "    \"Sectors\": {tag: i for i, tag in enumerate(SECTORS)},\n",
    "    'Subpillars_2D': {tag:i for i, tag in enumerate(SUBPILLARS_2D)},\n",
    "    'Subpillars_1D': {tag:i for i, tag in enumerate(SUBPILLARS_1D)},\n",
    "    'Demographic_Groups': {tag:i for i, tag in enumerate(DEMOGRAPHIC_GROUPS)},\n",
    "    'Affected_Groups': {tag:i for i, tag in enumerate(AFFECTED_GROUPS)},\n",
    "    'Specific_Needs_Groups': {tag:i for i, tag in enumerate(SPECIFIC_NEEDS_GROUPS)},\n",
    "    'Severity': {tag:i for i, tag in enumerate(SEVERITY)},\n",
    "}\n",
    "tag_names = [\n",
    "    'Sectors', 'Subpillars_2D', 'Subpillars_1D', 'Demographic_Groups',\n",
    "    'Affected_Groups', 'Specific_Needs_Groups', 'Severity'\n",
    "]"
   ]
  },
  {
   "cell_type": "code",
   "execution_count": 7,
   "id": "5050112c",
   "metadata": {
    "ExecuteTime": {
     "end_time": "2021-10-18T06:54:51.774701Z",
     "start_time": "2021-10-18T06:54:51.739637Z"
    }
   },
   "outputs": [],
   "source": [
    "df_03 = pd.read_csv(\"preds_0.3.csv\")\n",
    "df_031 = pd.read_csv(\"preds_0.3.1.csv\")\n",
    "df_02 = pd.read_csv(\"fb_processed_0.2.csv\")"
   ]
  },
  {
   "cell_type": "code",
   "execution_count": 8,
   "id": "2dc23eea",
   "metadata": {
    "ExecuteTime": {
     "end_time": "2021-10-18T06:55:21.108152Z",
     "start_time": "2021-10-18T06:55:21.084269Z"
    }
   },
   "outputs": [
    {
     "data": {
      "text/plain": [
       "Index(['Unnamed: 0', 'excerpt', 'sectors', 'subpillars_2d', 'subpillars_1d',\n",
       "       'demographic_groups', 'affected_groups', 'specific_needs_groups'],\n",
       "      dtype='object')"
      ]
     },
     "execution_count": 8,
     "metadata": {},
     "output_type": "execute_result"
    }
   ],
   "source": [
    "df_031.columns"
   ]
  },
  {
   "cell_type": "code",
   "execution_count": 10,
   "id": "9fd1cecf",
   "metadata": {
    "ExecuteTime": {
     "end_time": "2021-10-18T06:56:50.416910Z",
     "start_time": "2021-10-18T06:56:50.406821Z"
    }
   },
   "outputs": [],
   "source": [
    "df_031.drop(\"Unnamed: 0\", axis=1, inplace=True)"
   ]
  },
  {
   "cell_type": "code",
   "execution_count": 11,
   "id": "7cbc991e",
   "metadata": {
    "ExecuteTime": {
     "end_time": "2021-10-18T06:56:51.598022Z",
     "start_time": "2021-10-18T06:56:51.539093Z"
    }
   },
   "outputs": [],
   "source": [
    "for col in df_02.columns[2:]:\n",
    "    df_02[col] = df_02[col].apply(literal_eval)\n",
    "##\n",
    "for col in df_03.columns[1:]:\n",
    "    df_03[col] = df_03[col].apply(literal_eval)\n",
    "##\n",
    "for col in df_031.columns[1:]:\n",
    "    df_031[col] = df_031[col].apply(literal_eval)"
   ]
  },
  {
   "cell_type": "code",
   "execution_count": 14,
   "id": "8dfe8d53",
   "metadata": {
    "ExecuteTime": {
     "end_time": "2021-10-18T06:57:44.501189Z",
     "start_time": "2021-10-18T06:57:44.491017Z"
    }
   },
   "outputs": [],
   "source": [
    "df_03.columns = [\n",
    "    'Entry', 'Sectors_Pred_0.3', 'Subpillars_2D_Pred_0.3',\n",
    "    'Subpillars_1D_Pred_0.3', 'Demographic_Groups_Pred_0.3',\n",
    "    'Affected_Groups_Pred_0.3', 'Specific_Needs_Groups_Pred_0.3',\n",
    "    'Severity_Pred_0.3'\n",
    "]\n",
    "df_031.columns = [\n",
    "    'Entry', 'Sectors_Pred_0.3.1', 'Subpillars_2D_Pred_0.3.1',\n",
    "    'Subpillars_1D_Pred_0.3.1', 'Demographic_Groups_Pred_0.3.1',\n",
    "    'Affected_Groups_Pred_0.3.1', 'Specific_Needs_Groups_Pred_0.3.1',\n",
    "    #'Severity_Pred_0.3.1'\n",
    "]"
   ]
  },
  {
   "cell_type": "code",
   "execution_count": 15,
   "id": "c661550f",
   "metadata": {
    "ExecuteTime": {
     "end_time": "2021-10-18T06:57:47.347149Z",
     "start_time": "2021-10-18T06:57:47.330667Z"
    }
   },
   "outputs": [],
   "source": [
    "df = pd.merge(df_02, df_031, how=\"inner\", on=\"Entry\")"
   ]
  },
  {
   "cell_type": "markdown",
   "id": "f2133719",
   "metadata": {},
   "source": [
    "### Transform the Tags"
   ]
  },
  {
   "cell_type": "code",
   "execution_count": 16,
   "id": "9d8c931f",
   "metadata": {
    "ExecuteTime": {
     "end_time": "2021-10-18T06:57:51.425326Z",
     "start_time": "2021-10-18T06:57:51.414892Z"
    }
   },
   "outputs": [],
   "source": [
    "# transform string labels into 2D binary matrix\n",
    "def str_lbl_2_bmat(lbl_list, tag_name):\n",
    "    lbl_count = len(tag_name_2_lbls[tag_name])\n",
    "    lbl_mat = np.zeros((len(lbl_list) , lbl_count), dtype=np.int32)\n",
    "    for i, lbls in enumerate(lbl_list):\n",
    "        indices = [tag_name_2_lbls[tag_name][lbl] for lbl in lbls]\n",
    "        lbl_mat[i, indices] = 1\n",
    "    return lbl_mat"
   ]
  },
  {
   "cell_type": "code",
   "execution_count": 19,
   "id": "92136c22",
   "metadata": {
    "ExecuteTime": {
     "end_time": "2021-10-18T06:58:41.814769Z",
     "start_time": "2021-10-18T06:58:41.718057Z"
    }
   },
   "outputs": [
    {
     "name": "stderr",
     "output_type": "stream",
     "text": [
      "/home/abdullah/.local/lib/python3.8/site-packages/sklearn/metrics/_classification.py:1308: UndefinedMetricWarning: Precision is ill-defined and being set to 0.0 due to no predicted samples. Use `zero_division` parameter to control this behavior.\n",
      "  _warn_prf(average, modifier, msg_start, len(result))\n"
     ]
    }
   ],
   "source": [
    "scores_v2 = {\n",
    "    \"Accuracy\": [],\n",
    "    \"Precision\": [],\n",
    "    \"Recall\": [],\n",
    "    \"F1Score\": [],\n",
    "    \"HammingLoss\": [],\n",
    "    \"ZeroOneLoss\": []\n",
    "}\n",
    "scores_v3 = {\n",
    "    \"Accuracy\": [],\n",
    "    \"Precision\": [],\n",
    "    \"Recall\": [],\n",
    "    \"F1Score\": [],\n",
    "    \"HammingLoss\": [],\n",
    "    \"ZeroOneLoss\": []\n",
    "}\n",
    "scores_v2_v3 = {\n",
    "    \"Accuracy\": [],\n",
    "    \"Precision\": [],\n",
    "    \"Recall\": [],\n",
    "    \"F1Score\": [],\n",
    "    \"HammingLoss\": [],\n",
    "    \"ZeroOneLoss\": []\n",
    "}\n",
    "for tag_name in tag_names[:-1]:\n",
    "    y_true = str_lbl_2_bmat(df[f\"{tag_name}_GT\"], tag_name)\n",
    "    y_pred_v2 = str_lbl_2_bmat(df[f\"{tag_name}_Pred_0.2\"], tag_name)\n",
    "    y_pred_v3 = str_lbl_2_bmat(df[f\"{tag_name}_Pred_0.3.1\"], tag_name)\n",
    "    # accuracy\n",
    "    acc_score_v2 = metrics.accuracy_score(y_true, y_pred_v2)\n",
    "    acc_score_v3 = metrics.accuracy_score(y_true, y_pred_v3)\n",
    "    scores_v2[\"Accuracy\"].append(acc_score_v2)\n",
    "    scores_v3[\"Accuracy\"].append(acc_score_v3)\n",
    "    scores_v2_v3[\"Accuracy\"].append(f\"{acc_score_v2:.2f} | {acc_score_v3:.2f}\")\n",
    "    # precision\n",
    "    precision_score_v2 = metrics.precision_score(y_true,\n",
    "                                                 y_pred_v2,\n",
    "                                                 average=\"micro\")\n",
    "    precision_score_v3 = metrics.precision_score(y_true,\n",
    "                                                 y_pred_v3,\n",
    "                                                 average=\"micro\")\n",
    "    scores_v2[\"Precision\"].append(precision_score_v2)\n",
    "    scores_v3[\"Precision\"].append(precision_score_v3)\n",
    "    scores_v2_v3[\"Precision\"].append(\n",
    "        f\"{precision_score_v2:.2f} | {precision_score_v3:.2f}\")\n",
    "    # recall\n",
    "    recall_score_v2 = metrics.recall_score(y_true, y_pred_v2, average=\"micro\")\n",
    "    recall_score_v3 = metrics.recall_score(y_true, y_pred_v3, average=\"micro\")\n",
    "    scores_v2[\"Recall\"].append(recall_score_v2)\n",
    "    scores_v3[\"Recall\"].append(recall_score_v3)\n",
    "    scores_v2_v3[\"Recall\"].append(\n",
    "        f\"{recall_score_v2:.2f} | {recall_score_v3:.2f}\")\n",
    "    # f1 score\n",
    "    f1_score_v2 = metrics.f1_score(y_true, y_pred_v2, average=\"micro\")\n",
    "    f1_score_v3 = metrics.f1_score(y_true, y_pred_v3, average=\"micro\")\n",
    "    scores_v2[\"F1Score\"].append(f1_score_v2)\n",
    "    scores_v3[\"F1Score\"].append(f1_score_v3)\n",
    "    scores_v2_v3[\"F1Score\"].append(f\"{f1_score_v2:.2f} | {f1_score_v3:.2f}\")\n",
    "    # hamming loss\n",
    "    hamming_loss_v2 = metrics.hamming_loss(y_true, y_pred_v2)\n",
    "    hamming_loss_v3 = metrics.hamming_loss(y_true, y_pred_v3)\n",
    "    scores_v2[\"HammingLoss\"].append(hamming_loss_v2)\n",
    "    scores_v3[\"HammingLoss\"].append(hamming_loss_v3)\n",
    "    scores_v2_v3[\"HammingLoss\"].append(\n",
    "        f\"{hamming_loss_v2:.2f} | {hamming_loss_v3:.2f}\")\n",
    "    # zero/one loss\n",
    "    zero_one_loss_v2 = metrics.zero_one_loss(y_true, y_pred_v2)\n",
    "    zero_one_loss_v3 = metrics.zero_one_loss(y_true, y_pred_v3)\n",
    "    scores_v2[\"ZeroOneLoss\"].append(zero_one_loss_v2)\n",
    "    scores_v3[\"ZeroOneLoss\"].append(zero_one_loss_v3)\n",
    "    scores_v2_v3[\"ZeroOneLoss\"].append(\n",
    "        f\"{zero_one_loss_v2:.2f} | {zero_one_loss_v3:.2f}\")"
   ]
  },
  {
   "cell_type": "code",
   "execution_count": 21,
   "id": "ba82e09d",
   "metadata": {
    "ExecuteTime": {
     "end_time": "2021-10-18T06:59:05.073812Z",
     "start_time": "2021-10-18T06:59:05.056027Z"
    }
   },
   "outputs": [],
   "source": [
    "scores_v2_df = pd.DataFrame.from_dict(scores_v2)\n",
    "scores_v2_df.index = tag_names[:-1]\n",
    "##\n",
    "scores_v3_df = pd.DataFrame.from_dict(scores_v3)\n",
    "scores_v3_df.index = tag_names[:-1]\n",
    "#\n",
    "scores_v2_v3_df = pd.DataFrame.from_dict(scores_v2_v3)\n",
    "scores_v2_v3_df.index = tag_names[:-1]\n"
   ]
  },
  {
   "cell_type": "code",
   "execution_count": 22,
   "id": "1fed64ce",
   "metadata": {
    "ExecuteTime": {
     "end_time": "2021-10-18T06:59:07.186892Z",
     "start_time": "2021-10-18T06:59:07.181080Z"
    }
   },
   "outputs": [],
   "source": [
    "pd.options.display.float_format = '{:,.2f}'.format"
   ]
  },
  {
   "cell_type": "code",
   "execution_count": 23,
   "id": "7d13e788",
   "metadata": {
    "ExecuteTime": {
     "end_time": "2021-10-18T06:59:08.801885Z",
     "start_time": "2021-10-18T06:59:08.775332Z"
    }
   },
   "outputs": [
    {
     "data": {
      "text/html": [
       "<div>\n",
       "<style scoped>\n",
       "    .dataframe tbody tr th:only-of-type {\n",
       "        vertical-align: middle;\n",
       "    }\n",
       "\n",
       "    .dataframe tbody tr th {\n",
       "        vertical-align: top;\n",
       "    }\n",
       "\n",
       "    .dataframe thead th {\n",
       "        text-align: right;\n",
       "    }\n",
       "</style>\n",
       "<table border=\"1\" class=\"dataframe\">\n",
       "  <thead>\n",
       "    <tr style=\"text-align: right;\">\n",
       "      <th></th>\n",
       "      <th>Accuracy</th>\n",
       "      <th>Precision</th>\n",
       "      <th>Recall</th>\n",
       "      <th>F1Score</th>\n",
       "      <th>HammingLoss</th>\n",
       "      <th>ZeroOneLoss</th>\n",
       "    </tr>\n",
       "  </thead>\n",
       "  <tbody>\n",
       "    <tr>\n",
       "      <th>Sectors</th>\n",
       "      <td>0.88</td>\n",
       "      <td>0.94</td>\n",
       "      <td>0.92</td>\n",
       "      <td>0.93</td>\n",
       "      <td>0.02</td>\n",
       "      <td>0.12</td>\n",
       "    </tr>\n",
       "    <tr>\n",
       "      <th>Subpillars_2D</th>\n",
       "      <td>0.57</td>\n",
       "      <td>0.90</td>\n",
       "      <td>0.58</td>\n",
       "      <td>0.71</td>\n",
       "      <td>0.04</td>\n",
       "      <td>0.43</td>\n",
       "    </tr>\n",
       "    <tr>\n",
       "      <th>Subpillars_1D</th>\n",
       "      <td>0.49</td>\n",
       "      <td>0.36</td>\n",
       "      <td>0.86</td>\n",
       "      <td>0.51</td>\n",
       "      <td>0.02</td>\n",
       "      <td>0.51</td>\n",
       "    </tr>\n",
       "    <tr>\n",
       "      <th>Demographic_Groups</th>\n",
       "      <td>0.22</td>\n",
       "      <td>0.18</td>\n",
       "      <td>0.91</td>\n",
       "      <td>0.30</td>\n",
       "      <td>0.09</td>\n",
       "      <td>0.78</td>\n",
       "    </tr>\n",
       "    <tr>\n",
       "      <th>Affected_Groups</th>\n",
       "      <td>0.93</td>\n",
       "      <td>0.00</td>\n",
       "      <td>0.00</td>\n",
       "      <td>0.00</td>\n",
       "      <td>0.00</td>\n",
       "      <td>0.07</td>\n",
       "    </tr>\n",
       "    <tr>\n",
       "      <th>Specific_Needs_Groups</th>\n",
       "      <td>0.53</td>\n",
       "      <td>0.10</td>\n",
       "      <td>0.88</td>\n",
       "      <td>0.18</td>\n",
       "      <td>0.05</td>\n",
       "      <td>0.47</td>\n",
       "    </tr>\n",
       "  </tbody>\n",
       "</table>\n",
       "</div>"
      ],
      "text/plain": [
       "                       Accuracy  Precision  Recall  F1Score  HammingLoss  \\\n",
       "Sectors                    0.88       0.94    0.92     0.93         0.02   \n",
       "Subpillars_2D              0.57       0.90    0.58     0.71         0.04   \n",
       "Subpillars_1D              0.49       0.36    0.86     0.51         0.02   \n",
       "Demographic_Groups         0.22       0.18    0.91     0.30         0.09   \n",
       "Affected_Groups            0.93       0.00    0.00     0.00         0.00   \n",
       "Specific_Needs_Groups      0.53       0.10    0.88     0.18         0.05   \n",
       "\n",
       "                       ZeroOneLoss  \n",
       "Sectors                       0.12  \n",
       "Subpillars_2D                 0.43  \n",
       "Subpillars_1D                 0.51  \n",
       "Demographic_Groups            0.78  \n",
       "Affected_Groups               0.07  \n",
       "Specific_Needs_Groups         0.47  "
      ]
     },
     "execution_count": 23,
     "metadata": {},
     "output_type": "execute_result"
    }
   ],
   "source": [
    "scores_v2_df"
   ]
  },
  {
   "cell_type": "code",
   "execution_count": 24,
   "id": "1ebf22ad",
   "metadata": {
    "ExecuteTime": {
     "end_time": "2021-10-18T06:59:10.112431Z",
     "start_time": "2021-10-18T06:59:10.103860Z"
    }
   },
   "outputs": [
    {
     "data": {
      "text/html": [
       "<div>\n",
       "<style scoped>\n",
       "    .dataframe tbody tr th:only-of-type {\n",
       "        vertical-align: middle;\n",
       "    }\n",
       "\n",
       "    .dataframe tbody tr th {\n",
       "        vertical-align: top;\n",
       "    }\n",
       "\n",
       "    .dataframe thead th {\n",
       "        text-align: right;\n",
       "    }\n",
       "</style>\n",
       "<table border=\"1\" class=\"dataframe\">\n",
       "  <thead>\n",
       "    <tr style=\"text-align: right;\">\n",
       "      <th></th>\n",
       "      <th>Accuracy</th>\n",
       "      <th>Precision</th>\n",
       "      <th>Recall</th>\n",
       "      <th>F1Score</th>\n",
       "      <th>HammingLoss</th>\n",
       "      <th>ZeroOneLoss</th>\n",
       "    </tr>\n",
       "  </thead>\n",
       "  <tbody>\n",
       "    <tr>\n",
       "      <th>Sectors</th>\n",
       "      <td>0.54</td>\n",
       "      <td>0.95</td>\n",
       "      <td>0.48</td>\n",
       "      <td>0.64</td>\n",
       "      <td>0.07</td>\n",
       "      <td>0.46</td>\n",
       "    </tr>\n",
       "    <tr>\n",
       "      <th>Subpillars_2D</th>\n",
       "      <td>0.28</td>\n",
       "      <td>0.69</td>\n",
       "      <td>0.37</td>\n",
       "      <td>0.48</td>\n",
       "      <td>0.06</td>\n",
       "      <td>0.72</td>\n",
       "    </tr>\n",
       "    <tr>\n",
       "      <th>Subpillars_1D</th>\n",
       "      <td>0.68</td>\n",
       "      <td>0.56</td>\n",
       "      <td>0.14</td>\n",
       "      <td>0.22</td>\n",
       "      <td>0.01</td>\n",
       "      <td>0.32</td>\n",
       "    </tr>\n",
       "    <tr>\n",
       "      <th>Demographic_Groups</th>\n",
       "      <td>0.80</td>\n",
       "      <td>0.15</td>\n",
       "      <td>0.22</td>\n",
       "      <td>0.18</td>\n",
       "      <td>0.04</td>\n",
       "      <td>0.20</td>\n",
       "    </tr>\n",
       "    <tr>\n",
       "      <th>Affected_Groups</th>\n",
       "      <td>0.33</td>\n",
       "      <td>0.02</td>\n",
       "      <td>0.38</td>\n",
       "      <td>0.03</td>\n",
       "      <td>0.10</td>\n",
       "      <td>0.67</td>\n",
       "    </tr>\n",
       "    <tr>\n",
       "      <th>Specific_Needs_Groups</th>\n",
       "      <td>0.94</td>\n",
       "      <td>0.57</td>\n",
       "      <td>0.50</td>\n",
       "      <td>0.53</td>\n",
       "      <td>0.01</td>\n",
       "      <td>0.06</td>\n",
       "    </tr>\n",
       "  </tbody>\n",
       "</table>\n",
       "</div>"
      ],
      "text/plain": [
       "                       Accuracy  Precision  Recall  F1Score  HammingLoss  \\\n",
       "Sectors                    0.54       0.95    0.48     0.64         0.07   \n",
       "Subpillars_2D              0.28       0.69    0.37     0.48         0.06   \n",
       "Subpillars_1D              0.68       0.56    0.14     0.22         0.01   \n",
       "Demographic_Groups         0.80       0.15    0.22     0.18         0.04   \n",
       "Affected_Groups            0.33       0.02    0.38     0.03         0.10   \n",
       "Specific_Needs_Groups      0.94       0.57    0.50     0.53         0.01   \n",
       "\n",
       "                       ZeroOneLoss  \n",
       "Sectors                       0.46  \n",
       "Subpillars_2D                 0.72  \n",
       "Subpillars_1D                 0.32  \n",
       "Demographic_Groups            0.20  \n",
       "Affected_Groups               0.67  \n",
       "Specific_Needs_Groups         0.06  "
      ]
     },
     "execution_count": 24,
     "metadata": {},
     "output_type": "execute_result"
    }
   ],
   "source": [
    "scores_v3_df"
   ]
  },
  {
   "cell_type": "code",
   "execution_count": 25,
   "id": "6658c422",
   "metadata": {
    "ExecuteTime": {
     "end_time": "2021-10-18T06:59:11.828636Z",
     "start_time": "2021-10-18T06:59:11.816338Z"
    }
   },
   "outputs": [
    {
     "data": {
      "text/html": [
       "<div>\n",
       "<style scoped>\n",
       "    .dataframe tbody tr th:only-of-type {\n",
       "        vertical-align: middle;\n",
       "    }\n",
       "\n",
       "    .dataframe tbody tr th {\n",
       "        vertical-align: top;\n",
       "    }\n",
       "\n",
       "    .dataframe thead th {\n",
       "        text-align: right;\n",
       "    }\n",
       "</style>\n",
       "<table border=\"1\" class=\"dataframe\">\n",
       "  <thead>\n",
       "    <tr style=\"text-align: right;\">\n",
       "      <th></th>\n",
       "      <th>Accuracy</th>\n",
       "      <th>Precision</th>\n",
       "      <th>Recall</th>\n",
       "      <th>F1Score</th>\n",
       "      <th>HammingLoss</th>\n",
       "      <th>ZeroOneLoss</th>\n",
       "    </tr>\n",
       "  </thead>\n",
       "  <tbody>\n",
       "    <tr>\n",
       "      <th>Sectors</th>\n",
       "      <td>0.88 | 0.54</td>\n",
       "      <td>0.94 | 0.95</td>\n",
       "      <td>0.92 | 0.48</td>\n",
       "      <td>0.93 | 0.64</td>\n",
       "      <td>0.02 | 0.07</td>\n",
       "      <td>0.12 | 0.46</td>\n",
       "    </tr>\n",
       "    <tr>\n",
       "      <th>Subpillars_2D</th>\n",
       "      <td>0.57 | 0.28</td>\n",
       "      <td>0.90 | 0.69</td>\n",
       "      <td>0.58 | 0.37</td>\n",
       "      <td>0.71 | 0.48</td>\n",
       "      <td>0.04 | 0.06</td>\n",
       "      <td>0.43 | 0.72</td>\n",
       "    </tr>\n",
       "    <tr>\n",
       "      <th>Subpillars_1D</th>\n",
       "      <td>0.49 | 0.68</td>\n",
       "      <td>0.36 | 0.56</td>\n",
       "      <td>0.86 | 0.14</td>\n",
       "      <td>0.51 | 0.22</td>\n",
       "      <td>0.02 | 0.01</td>\n",
       "      <td>0.51 | 0.32</td>\n",
       "    </tr>\n",
       "    <tr>\n",
       "      <th>Demographic_Groups</th>\n",
       "      <td>0.22 | 0.80</td>\n",
       "      <td>0.18 | 0.15</td>\n",
       "      <td>0.91 | 0.22</td>\n",
       "      <td>0.30 | 0.18</td>\n",
       "      <td>0.09 | 0.04</td>\n",
       "      <td>0.78 | 0.20</td>\n",
       "    </tr>\n",
       "    <tr>\n",
       "      <th>Affected_Groups</th>\n",
       "      <td>0.93 | 0.33</td>\n",
       "      <td>0.00 | 0.02</td>\n",
       "      <td>0.00 | 0.38</td>\n",
       "      <td>0.00 | 0.03</td>\n",
       "      <td>0.00 | 0.10</td>\n",
       "      <td>0.07 | 0.67</td>\n",
       "    </tr>\n",
       "    <tr>\n",
       "      <th>Specific_Needs_Groups</th>\n",
       "      <td>0.53 | 0.94</td>\n",
       "      <td>0.10 | 0.57</td>\n",
       "      <td>0.88 | 0.50</td>\n",
       "      <td>0.18 | 0.53</td>\n",
       "      <td>0.05 | 0.01</td>\n",
       "      <td>0.47 | 0.06</td>\n",
       "    </tr>\n",
       "  </tbody>\n",
       "</table>\n",
       "</div>"
      ],
      "text/plain": [
       "                          Accuracy    Precision       Recall      F1Score  \\\n",
       "Sectors                0.88 | 0.54  0.94 | 0.95  0.92 | 0.48  0.93 | 0.64   \n",
       "Subpillars_2D          0.57 | 0.28  0.90 | 0.69  0.58 | 0.37  0.71 | 0.48   \n",
       "Subpillars_1D          0.49 | 0.68  0.36 | 0.56  0.86 | 0.14  0.51 | 0.22   \n",
       "Demographic_Groups     0.22 | 0.80  0.18 | 0.15  0.91 | 0.22  0.30 | 0.18   \n",
       "Affected_Groups        0.93 | 0.33  0.00 | 0.02  0.00 | 0.38  0.00 | 0.03   \n",
       "Specific_Needs_Groups  0.53 | 0.94  0.10 | 0.57  0.88 | 0.50  0.18 | 0.53   \n",
       "\n",
       "                       HammingLoss  ZeroOneLoss  \n",
       "Sectors                0.02 | 0.07  0.12 | 0.46  \n",
       "Subpillars_2D          0.04 | 0.06  0.43 | 0.72  \n",
       "Subpillars_1D          0.02 | 0.01  0.51 | 0.32  \n",
       "Demographic_Groups     0.09 | 0.04  0.78 | 0.20  \n",
       "Affected_Groups        0.00 | 0.10  0.07 | 0.67  \n",
       "Specific_Needs_Groups  0.05 | 0.01  0.47 | 0.06  "
      ]
     },
     "execution_count": 25,
     "metadata": {},
     "output_type": "execute_result"
    }
   ],
   "source": [
    "scores_v2_v3_df"
   ]
  },
  {
   "cell_type": "code",
   "execution_count": null,
   "id": "e3883029",
   "metadata": {},
   "outputs": [],
   "source": []
  }
 ],
 "metadata": {
  "kernelspec": {
   "display_name": "Python 3.8.5 64-bit ('base': conda)",
   "language": "python",
   "name": "python385jvsc74a57bd0f487e277ea6a75fd1c7c341a1deb40c7861148cbc006695943c5304af00fedbe"
  },
  "language_info": {
   "codemirror_mode": {
    "name": "ipython",
    "version": 3
   },
   "file_extension": ".py",
   "mimetype": "text/x-python",
   "name": "python",
   "nbconvert_exporter": "python",
   "pygments_lexer": "ipython3",
   "version": "3.8.11"
  },
  "varInspector": {
   "cols": {
    "lenName": 16,
    "lenType": 16,
    "lenVar": 40
   },
   "kernels_config": {
    "python": {
     "delete_cmd_postfix": "",
     "delete_cmd_prefix": "del ",
     "library": "var_list.py",
     "varRefreshCmd": "print(var_dic_list())"
    },
    "r": {
     "delete_cmd_postfix": ") ",
     "delete_cmd_prefix": "rm(",
     "library": "var_list.r",
     "varRefreshCmd": "cat(var_dic_list()) "
    }
   },
   "types_to_exclude": [
    "module",
    "function",
    "builtin_function_or_method",
    "instance",
    "_Feature"
   ],
   "window_display": false
  }
 },
 "nbformat": 4,
 "nbformat_minor": 5
}
