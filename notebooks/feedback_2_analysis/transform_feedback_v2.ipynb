{
 "cells": [
  {
   "cell_type": "code",
   "execution_count": 1,
   "metadata": {
    "ExecuteTime": {
     "end_time": "2021-10-14T12:02:41.044280Z",
     "start_time": "2021-10-14T12:02:40.839051Z"
    }
   },
   "outputs": [],
   "source": [
    "import json\n",
    "from ast import literal_eval\n",
    "from collections import Counter\n",
    "\n",
    "import pandas as pd\n",
    "from IPython.display import display\n",
    "\n",
    "from constants import (SECTORS, SUBPILLARS_2D, SUBPILLARS_1D,\n",
    "                       DEMOGRAPHIC_GROUPS, SPECIFIC_NEEDS_GROUPS,\n",
    "                       AFFECTED_GROUPS, SEVERITY, RELIABILITY)"
   ]
  },
  {
   "cell_type": "code",
   "execution_count": 2,
   "metadata": {
    "ExecuteTime": {
     "end_time": "2021-10-14T12:02:41.048929Z",
     "start_time": "2021-10-14T12:02:41.045363Z"
    }
   },
   "outputs": [],
   "source": [
    "label_to_tagname = dict()\n",
    "label_to_tagname.update(dict.fromkeys(SECTORS, \"SECTORS\"))\n",
    "label_to_tagname.update(dict.fromkeys(SUBPILLARS_2D, \"SUBPILLARS_2D\"))\n",
    "label_to_tagname.update(dict.fromkeys(SUBPILLARS_1D, \"SUBPILLARS_1D\"))\n",
    "label_to_tagname.update(dict.fromkeys(SPECIFIC_NEEDS_GROUPS, \"SPECIFIC_NEEDS_GROUPS\"))\n",
    "label_to_tagname.update(dict.fromkeys(AFFECTED_GROUPS, \"AFFECTED_GROUPS\"))\n",
    "label_to_tagname.update(dict.fromkeys(DEMOGRAPHIC_GROUPS, \"DEMOGRAPHIC_GROUPS\"))\n",
    "label_to_tagname.update(dict.fromkeys(SEVERITY, \"SEVERITY\"))\n",
    "label_to_tagname.update(dict.fromkeys(RELIABILITY, \"RELIABILITY\"))"
   ]
  },
  {
   "cell_type": "code",
   "execution_count": 3,
   "metadata": {
    "ExecuteTime": {
     "end_time": "2021-10-14T12:02:41.066336Z",
     "start_time": "2021-10-14T12:02:41.050429Z"
    }
   },
   "outputs": [],
   "source": [
    "df = pd.read_csv(\"feedback_output_14.16.28.09.2021.csv\")\n",
    "def parse_fb(fb):\n",
    "    try:\n",
    "        return literal_eval(fb)\n",
    "    except:\n",
    "        return None\n",
    "df[\"Feedback\"] = df[\"Feedback\"].apply(parse_fb)\n",
    "df = df[~df[\"Feedback\"].isna()]"
   ]
  },
  {
   "cell_type": "code",
   "execution_count": 4,
   "metadata": {
    "ExecuteTime": {
     "end_time": "2021-10-14T12:02:41.074362Z",
     "start_time": "2021-10-14T12:02:41.067435Z"
    }
   },
   "outputs": [
    {
     "data": {
      "text/plain": [
       "Index(['ID', 'Version', 'Entry', 'Feedback', 'Feedback Type', 'File Name',\n",
       "       'Extracted Content Link', 'Review Date', 'Reviewer', 'Sectors',\n",
       "       '2D Sub Pillars', '1D Sub Pillars', 'Demographic Groups',\n",
       "       'Specific Needs Groups', 'Severity', 'Geolocation', 'Sector All',\n",
       "       '2D Sub Pillars All', '1D Sub Pillars All', 'Demographic Groups All',\n",
       "       'Specific Needs Groups All', 'Severity All'],\n",
       "      dtype='object')"
      ]
     },
     "execution_count": 4,
     "metadata": {},
     "output_type": "execute_result"
    }
   ],
   "source": [
    "df.columns"
   ]
  },
  {
   "cell_type": "code",
   "execution_count": 5,
   "metadata": {
    "ExecuteTime": {
     "end_time": "2021-10-14T12:02:41.093941Z",
     "start_time": "2021-10-14T12:02:41.075391Z"
    }
   },
   "outputs": [],
   "source": [
    "def process_row(row):\n",
    "    fb = row[3]\n",
    "    sectors_mis = []\n",
    "    pill_2d_mis = []\n",
    "    pill_1d_mis = []\n",
    "    demog_g_mis = []\n",
    "    specific_n_g_mis = []\n",
    "    severity_mis = []\n",
    "    geo_loc_mis = []\n",
    "    affected_mis = []\n",
    "    reliab_mis = []\n",
    "    for mis_lbl in fb[\"missing\"]:\n",
    "        if mis_lbl.startswith(\"Geo:\"):\n",
    "            geo_loc_mis.append(mis_lbl[5:])\n",
    "            continue\n",
    "        mis_tag = label_to_tagname[mis_lbl]\n",
    "        if mis_tag == \"AFFECTED_GROUPS\":\n",
    "            affected_mis.append(mis_lbl)\n",
    "        elif mis_tag == \"DEMOGRAPHIC_GROUPS\":\n",
    "            demog_g_mis.append(mis_lbl)\n",
    "        elif mis_tag == \"RELIABILITY\":\n",
    "            reliab_mis.append(mis_lbl)\n",
    "        elif mis_tag == \"SECTORS\":\n",
    "            sectors_mis.append(mis_lbl)\n",
    "        elif mis_tag == \"SEVERITY\":\n",
    "            severity_mis.append(mis_lbl)\n",
    "        elif mis_tag == \"SPECIFIC_NEEDS_GROUPS\":\n",
    "            specific_n_g_mis.append(mis_lbl)\n",
    "        elif mis_tag == \"SUBPILLARS_1D\":\n",
    "            pill_1d_mis.append(mis_lbl)\n",
    "        elif mis_tag == \"SUBPILLARS_2D\":\n",
    "            pill_2d_mis.append(mis_lbl)\n",
    "    ##\n",
    "    sectors_wrong = []\n",
    "    pill_2d_wrong = []\n",
    "    pill_1d_wrong = []\n",
    "    demog_g_wrong = []\n",
    "    specific_n_g_wrong = []\n",
    "    severity_wrong = []\n",
    "    geo_loc_wrong = []\n",
    "    affected_wrong = []\n",
    "    reliab_wrong = []\n",
    "    for wrong_lbl in fb[\"wrong\"]:\n",
    "        if wrong_lbl.startswith(\"Geo:\"):\n",
    "            geo_loc_wrong.append(wrong_lbl[5:])\n",
    "            continue\n",
    "        wrong_tag = label_to_tagname[wrong_lbl]\n",
    "        if wrong_tag == \"AFFECTED_GROUPS\":\n",
    "            affected_wrong.append(wrong_lbl)\n",
    "        elif wrong_tag == \"DEMOGRAPHIC_GROUPS\":\n",
    "            demog_g_wrong.append(wrong_lbl)\n",
    "        elif wrong_tag == \"RELIABILITY\":\n",
    "            reliab_wrong.append(wrong_lbl)\n",
    "        elif wrong_tag == \"SECTORS\":\n",
    "            sectors_wrong.append(wrong_lbl)\n",
    "        elif wrong_tag == \"SEVERITY\":\n",
    "            severity_wrong.append(wrong_lbl)\n",
    "        elif wrong_tag == \"SPECIFIC_NEEDS_GROUPS\":\n",
    "            specific_n_g_wrong.append(wrong_lbl)\n",
    "        elif wrong_tag == \"SUBPILLARS_1D\":\n",
    "            pill_1d_wrong.append(wrong_lbl)\n",
    "        elif wrong_tag == \"SUBPILLARS_2D\":\n",
    "            pill_2d_wrong.append(wrong_lbl)\n",
    "    ##\n",
    "    sectors_old = [\n",
    "        p.strip()[:p.strip().index(\"(\")] for p in row[9].split(\",\")\n",
    "    ] if isinstance(row[9], str) else []\n",
    "    ##\n",
    "    pill_2d_old = row[10].replace(\",\", \"COMMA\") if isinstance(row[10],\n",
    "                                                              str) else \"\"\n",
    "    pill_2d_old = [\n",
    "        p.strip()[:p.strip().index(\"(\")] for p in pill_2d_old.split(\",\")\n",
    "    ] if isinstance(row[10], str) else []\n",
    "    pill_2d_old = [p.replace(\"COMMA\", \",\") for p in pill_2d_old]\n",
    "    ##\n",
    "    pill_1d_old = row[11].replace(\"(pop\", \"{pop\") if isinstance(row[11],\n",
    "                                                                str) else \"\"\n",
    "    pill_1d_old = pill_1d_old.replace(\"(hum\", \"{hum\") if isinstance(\n",
    "        row[11], str) else \"\"\n",
    "    pill_1d_old = [\n",
    "        p.strip()[:p.strip().index(\"(\")] for p in pill_1d_old.split(\",\")\n",
    "    ] if isinstance(row[11], str) else []\n",
    "    pill_1d_old = [p.replace(\"{\", \"(\") for p in pill_1d_old]\n",
    "    ##\n",
    "    demog_g_old = row[12].replace(\"e (\", \"e {\") if isinstance(row[12],\n",
    "                                                                str) else \"\"\n",
    "    demog_g_old = demog_g_old.replace(\"r (\", \"r {\")\n",
    "    demog_g_old = demog_g_old.replace(\"s (\", \"s {\")\n",
    "    demog_g_old = [\n",
    "        p.strip()[:p.strip().index(\"(\")] for p in demog_g_old.split(\",\")\n",
    "    ] if isinstance(row[12], str) else []\n",
    "    demog_g_old = [p.replace(\"{\", \"(\") for p in demog_g_old]\n",
    "    ##\n",
    "    specific_n_g_old = row[13].replace(\"n (\", \"n {\") if isinstance(row[13],\n",
    "                                                                str) else \"\"\n",
    "    specific_n_g_old = [\n",
    "        p.strip()[:p.strip().index(\"(\")] for p in specific_n_g_old.split(\",\")\n",
    "    ] if isinstance(row[13], str) else []\n",
    "    specific_n_g_old = [p.replace(\"{\", \"(\") for p in specific_n_g_old]\n",
    "    ##\n",
    "    severity_old = [\n",
    "        p.strip()[:p.strip().index(\"(\")] for p in row[14].split(\",\")\n",
    "    ] if isinstance(row[14], str) else []\n",
    "    geo_loc_old = [p.strip() for p in row[15].split(\",\")] if isinstance(\n",
    "        row[15], str) else []\n",
    "    reliab_old = []\n",
    "    affected_old = []\n",
    "    ##\n",
    "    sectors_gt = list((set(sectors_old) | set(sectors_mis)) -\n",
    "                      set(sectors_wrong))\n",
    "    pill_2d_gt = list((set(pill_2d_old) | set(pill_2d_mis)) -\n",
    "                      set(pill_2d_wrong))\n",
    "    pill_1d_gt = list((set(pill_1d_old) | set(pill_1d_mis)) -\n",
    "                      set(pill_1d_wrong))\n",
    "    demog_g_gt = list((set(demog_g_old) | set(demog_g_mis)) -\n",
    "                      set(demog_g_wrong))\n",
    "    specific_n_g_gt = list((set(specific_n_g_old)\n",
    "                            | set(specific_n_g_mis)) - set(specific_n_g_wrong))\n",
    "    severity_gt = list((set(severity_old) | set(severity_mis)) -\n",
    "                       set(severity_wrong))\n",
    "    geo_loc_gt = list((set(geo_loc_old) | set(geo_loc_mis)) -\n",
    "                      set(geo_loc_wrong))\n",
    "    reliab_gt = list((set(reliab_old) | set(reliab_mis)) - set(reliab_wrong))\n",
    "    affected_gt = list((set(affected_old) | set(affected_mis)) -\n",
    "                       set(affected_wrong))\n",
    "    return {\n",
    "        \"ID\": row[0],\n",
    "        \"Entry\": row[2],\n",
    "        ##\n",
    "        \"Sectors_Pred_0.2\": list(sorted(sectors_old)),\n",
    "        \"Subpillars_2D_Pred_0.2\": list(sorted(pill_2d_old)),\n",
    "        \"Subpillars_1D_Pred_0.2\": list(sorted(pill_1d_old)),\n",
    "        \"Demographic_Groups_Pred_0.2\": list(sorted(demog_g_old)),\n",
    "        \"Specific_Needs_Groups_Pred_0.2\": list(sorted(specific_n_g_old)),\n",
    "        \"Severity_Pred_0.2\": list(sorted(severity_old)),\n",
    "        \"Geo_Pred_0.2\": list(sorted(geo_loc_old)),\n",
    "        \"Reliability_Pred_0.2\": list(sorted(reliab_old)),\n",
    "        \"Affected_Groups_Pred_0.2\": list(sorted(affected_old)),\n",
    "        ##\n",
    "        \"Sectors_Wrong_Pred_0.2\": list(sorted(sectors_wrong)),\n",
    "        \"Subpillars_2D_Wrong_Pred_0.2\": list(sorted(pill_2d_wrong)),\n",
    "        \"Subpillars_1D_Wrong_Pred_0.2\": list(sorted(pill_1d_wrong)),\n",
    "        \"Demographic_Groups_Wrong_Pred_0.2\": list(sorted(demog_g_wrong)),\n",
    "        \"Specific_Needs_Groups_Wrong_Pred_0.2\":\n",
    "        list(sorted(specific_n_g_wrong)),\n",
    "        \"Severity_Wrong_Pred_0.2\": list(sorted(severity_wrong)),\n",
    "        \"Geo_Wrong_Pred_0.2\": list(sorted(geo_loc_wrong)),\n",
    "        \"Reliability_Wrong_Pred_0.2\": list(sorted(reliab_wrong)),\n",
    "        \"Affected_Groups_Wrong_Pred_0.2\": list(sorted(affected_wrong)),\n",
    "        ##\n",
    "        \"Sectors_Mis_Pred_0.2\": list(sorted(sectors_mis)),\n",
    "        \"Subpillars_2D_Mis_Pred_0.2\": list(sorted(pill_2d_mis)),\n",
    "        \"Subpillars_1D_Mis_Pred_0.2\": list(sorted(pill_1d_mis)),\n",
    "        \"Demographic_Groups_Mis_Pred_0.2\": list(sorted(demog_g_mis)),\n",
    "        \"Specific_Needs_Groups_Mis_Pred_0.2\": list(sorted(specific_n_g_mis)),\n",
    "        \"Severity_Mis_Pred_0.2\": list(sorted(severity_mis)),\n",
    "        \"Geo_Mis_Pred_0.2\": list(sorted(geo_loc_mis)),\n",
    "        \"Reliability_Mis_Pred_0.2\": list(sorted(reliab_mis)),\n",
    "        \"Affected_Groups_Mis_Pred_0.2\": list(sorted(affected_mis)),\n",
    "        ##\n",
    "        \"Sectors_GT\": list(sorted(sectors_gt)),\n",
    "        \"Subpillars_2D_GT\": list(sorted(pill_2d_gt)),\n",
    "        \"Subpillars_1D_GT\": list(sorted(pill_1d_gt)),\n",
    "        \"Demographic_Groups_GT\": list(sorted(demog_g_gt)),\n",
    "        \"Specific_Needs_Groups_GT\": list(sorted(specific_n_g_gt)),\n",
    "        \"Severity_GT\": list(sorted(severity_gt)),\n",
    "        \"Geo_GT\": list(sorted(geo_loc_gt)),\n",
    "        \"Reliability_GT\": list(sorted(reliab_gt)),\n",
    "        \"Affected_Groups_GT\": list(sorted(affected_gt)),\n",
    "    }"
   ]
  },
  {
   "cell_type": "code",
   "execution_count": 6,
   "metadata": {
    "ExecuteTime": {
     "end_time": "2021-10-14T12:02:41.109068Z",
     "start_time": "2021-10-14T12:02:41.095130Z"
    }
   },
   "outputs": [],
   "source": [
    "df_processed = pd.DataFrame.from_records(df.apply(process_row, axis=1))"
   ]
  },
  {
   "cell_type": "code",
   "execution_count": 7,
   "metadata": {
    "ExecuteTime": {
     "end_time": "2021-10-14T12:02:41.116473Z",
     "start_time": "2021-10-14T12:02:41.110103Z"
    }
   },
   "outputs": [],
   "source": [
    "df_processed.to_csv(\"fb_processed_0.2.csv\", index=None)"
   ]
  },
  {
   "cell_type": "code",
   "execution_count": 8,
   "metadata": {
    "ExecuteTime": {
     "end_time": "2021-10-14T12:02:41.119799Z",
     "start_time": "2021-10-14T12:02:41.117388Z"
    }
   },
   "outputs": [
    {
     "data": {
      "text/plain": [
       "(125, 38)"
      ]
     },
     "execution_count": 8,
     "metadata": {},
     "output_type": "execute_result"
    }
   ],
   "source": [
    "df_processed.shape"
   ]
  },
  {
   "cell_type": "markdown",
   "metadata": {},
   "source": [
    "### Sanity Checks"
   ]
  },
  {
   "cell_type": "code",
   "execution_count": 9,
   "metadata": {
    "ExecuteTime": {
     "end_time": "2021-10-14T12:02:41.125607Z",
     "start_time": "2021-10-14T12:02:41.121520Z"
    }
   },
   "outputs": [
    {
     "data": {
      "text/plain": [
       "({'missing': ['Capacities & Response->National Response',\n",
       "   'Host',\n",
       "   'Infants/Toddlers (<5 years old)',\n",
       "   'Critical',\n",
       "   'Casualties->Dead'],\n",
       "  'text': '[Sector]:\\n[2D]:\\n[1D]:\\n[Demographic]:\\n[Specific]:\\n[Affected]:\\n[Severity]:\\n[Geo]:\\n',\n",
       "  'wrong': ['Displaced',\n",
       "   'Affected',\n",
       "   'Children/Youth Unspecified gender (5 to 17 years old)',\n",
       "   'Chronically Ill',\n",
       "   'Geo: 250 Bed District Sadar Hospital',\n",
       "   'Geo: Cholera',\n",
       "   'Geo: Diphtheria',\n",
       "   'Geo: RDT',\n",
       "   'Geo: RDT/',\n",
       "   'Major']},\n",
       " ['Humanitarian Conditions->Physical And Mental Well Being'],\n",
       " [],\n",
       " ['Capacities & Response->National Response'],\n",
       " ['Capacities & Response->National Response',\n",
       "  'Humanitarian Conditions->Physical And Mental Well Being'])"
      ]
     },
     "execution_count": 9,
     "metadata": {},
     "output_type": "execute_result"
    }
   ],
   "source": [
    "i = 4\n",
    "(df[\"Feedback\"].iloc[i], \n",
    " df_processed[\"Subpillars_2D_Pred_0.2\"].iloc[i],\n",
    " df_processed[\"Subpillars_2D_Wrong_Pred_0.2\"].iloc[i],\n",
    " df_processed[\"Subpillars_2D_Mis_Pred_0.2\"].iloc[i],\n",
    " df_processed[\"Subpillars_2D_GT\"].iloc[i])"
   ]
  },
  {
   "cell_type": "code",
   "execution_count": 10,
   "metadata": {
    "ExecuteTime": {
     "end_time": "2021-10-14T12:02:41.129960Z",
     "start_time": "2021-10-14T12:02:41.126508Z"
    }
   },
   "outputs": [
    {
     "data": {
      "text/plain": [
       "({'missing': [],\n",
       "  'text': '[Sector]:\\n[2D]:\\n[1D]:\\n[Demographic]:\\n[Specific]:\\n[Affected]:\\n[Severity]:\\n[Geo]:\\n',\n",
       "  'wrong': ['Context->Demography',\n",
       "   'Affected',\n",
       "   'Migrants',\n",
       "   'Geo: 250 Bed District Sadar Hospital']},\n",
       " ['Context->Demography'],\n",
       " ['Context->Demography'],\n",
       " [],\n",
       " [])"
      ]
     },
     "execution_count": 10,
     "metadata": {},
     "output_type": "execute_result"
    }
   ],
   "source": [
    "i = 9\n",
    "(df[\"Feedback\"].iloc[i], \n",
    " df_processed[\"Subpillars_1D_Pred_0.2\"].iloc[i],\n",
    " df_processed[\"Subpillars_1D_Wrong_Pred_0.2\"].iloc[i],\n",
    " df_processed[\"Subpillars_1D_Mis_Pred_0.2\"].iloc[i],\n",
    " df_processed[\"Subpillars_1D_GT\"].iloc[i])"
   ]
  },
  {
   "cell_type": "code",
   "execution_count": 11,
   "metadata": {
    "ExecuteTime": {
     "end_time": "2021-10-14T12:02:41.135946Z",
     "start_time": "2021-10-14T12:02:41.130960Z"
    }
   },
   "outputs": [
    {
     "data": {
      "text/plain": [
       "({'missing': ['Capacities & Response->National Response',\n",
       "   'Host',\n",
       "   'Infants/Toddlers (<5 years old)',\n",
       "   'Critical',\n",
       "   'Casualties->Dead'],\n",
       "  'text': '[Sector]:\\n[2D]:\\n[1D]:\\n[Demographic]:\\n[Specific]:\\n[Affected]:\\n[Severity]:\\n[Geo]:\\n',\n",
       "  'wrong': ['Displaced',\n",
       "   'Affected',\n",
       "   'Children/Youth Unspecified gender (5 to 17 years old)',\n",
       "   'Chronically Ill',\n",
       "   'Geo: 250 Bed District Sadar Hospital',\n",
       "   'Geo: Cholera',\n",
       "   'Geo: Diphtheria',\n",
       "   'Geo: RDT',\n",
       "   'Geo: RDT/',\n",
       "   'Major']},\n",
       " ['250 Bed District Sadar Hospital',\n",
       "  'Cholera',\n",
       "  'Diphtheria',\n",
       "  'RDT',\n",
       "  'RDT/',\n",
       "  'Teknaf',\n",
       "  'Ukhiya'],\n",
       " ['250 Bed District Sadar Hospital', 'Cholera', 'Diphtheria', 'RDT', 'RDT/'],\n",
       " [],\n",
       " ['Teknaf', 'Ukhiya'])"
      ]
     },
     "execution_count": 11,
     "metadata": {},
     "output_type": "execute_result"
    }
   ],
   "source": [
    "i = 4\n",
    "(df[\"Feedback\"].iloc[i], \n",
    " df_processed[\"Geo_Pred_0.2\"].iloc[i],\n",
    " df_processed[\"Geo_Wrong_Pred_0.2\"].iloc[i],\n",
    " df_processed[\"Geo_Mis_Pred_0.2\"].iloc[i],\n",
    " df_processed[\"Geo_GT\"].iloc[i])"
   ]
  },
  {
   "cell_type": "code",
   "execution_count": null,
   "metadata": {},
   "outputs": [],
   "source": []
  },
  {
   "cell_type": "code",
   "execution_count": null,
   "metadata": {},
   "outputs": [],
   "source": []
  },
  {
   "cell_type": "code",
   "execution_count": null,
   "metadata": {},
   "outputs": [],
   "source": []
  },
  {
   "cell_type": "code",
   "execution_count": null,
   "metadata": {},
   "outputs": [],
   "source": []
  },
  {
   "cell_type": "code",
   "execution_count": null,
   "metadata": {},
   "outputs": [],
   "source": []
  },
  {
   "cell_type": "code",
   "execution_count": null,
   "metadata": {},
   "outputs": [],
   "source": []
  }
 ],
 "metadata": {
  "kernelspec": {
   "display_name": "Python 3.8.5 64-bit ('base': conda)",
   "language": "python",
   "name": "python385jvsc74a57bd0f487e277ea6a75fd1c7c341a1deb40c7861148cbc006695943c5304af00fedbe"
  },
  "language_info": {
   "codemirror_mode": {
    "name": "ipython",
    "version": 3
   },
   "file_extension": ".py",
   "mimetype": "text/x-python",
   "name": "python",
   "nbconvert_exporter": "python",
   "pygments_lexer": "ipython3",
   "version": "3.8.11"
  },
  "varInspector": {
   "cols": {
    "lenName": 16,
    "lenType": 16,
    "lenVar": 40
   },
   "kernels_config": {
    "python": {
     "delete_cmd_postfix": "",
     "delete_cmd_prefix": "del ",
     "library": "var_list.py",
     "varRefreshCmd": "print(var_dic_list())"
    },
    "r": {
     "delete_cmd_postfix": ") ",
     "delete_cmd_prefix": "rm(",
     "library": "var_list.r",
     "varRefreshCmd": "cat(var_dic_list()) "
    }
   },
   "types_to_exclude": [
    "module",
    "function",
    "builtin_function_or_method",
    "instance",
    "_Feature"
   ],
   "window_display": false
  }
 },
 "nbformat": 4,
 "nbformat_minor": 4
}
