{
 "cells": [
  {
   "cell_type": "code",
   "execution_count": 1,
   "metadata": {
    "ExecuteTime": {
     "end_time": "2021-09-29T08:48:34.427649Z",
     "start_time": "2021-09-29T08:48:34.135663Z"
    }
   },
   "outputs": [],
   "source": [
    "import json\n",
    "from ast import literal_eval\n",
    "from collections import Counter\n",
    "\n",
    "import pandas as pd\n",
    "from IPython.display import display\n",
    "\n",
    "from constants import (SECTORS, SUBPILLARS_2D, SUBPILLARS_1D,\n",
    "                       DEMOGRAPHIC_GROUPS, SPECIFIC_NEEDS_GROUPS,\n",
    "                       AFFECTED_GROUPS, SEVERITY, RELIABILITY)"
   ]
  },
  {
   "cell_type": "code",
   "execution_count": 2,
   "metadata": {
    "ExecuteTime": {
     "end_time": "2021-09-29T08:48:34.444482Z",
     "start_time": "2021-09-29T08:48:34.429132Z"
    }
   },
   "outputs": [],
   "source": [
    "df = pd.read_csv(\"feedback_output_14.16.28.09.2021.csv\")\n",
    "def parse_fb(fb):\n",
    "    try:\n",
    "        return literal_eval(fb)\n",
    "    except:\n",
    "        return fb\n",
    "df[\"Feedback\"] = df[\"Feedback\"].apply(parse_fb)"
   ]
  },
  {
   "cell_type": "code",
   "execution_count": 3,
   "metadata": {
    "ExecuteTime": {
     "end_time": "2021-09-29T08:48:34.450906Z",
     "start_time": "2021-09-29T08:48:34.445759Z"
    }
   },
   "outputs": [],
   "source": [
    "def process_fb(fbs):\n",
    "    wrong_tags = []\n",
    "    missing_tags = []\n",
    "    sector_fbs = []\n",
    "    two_dim_fbs = []\n",
    "    one_dim_fbs = []\n",
    "    demographic_g_fbs = []\n",
    "    specific_ng_fbs = []\n",
    "    affected_g_fbs = []\n",
    "    severity_fbs = []\n",
    "    geo_fbs = []\n",
    "    gen_fbs = []\n",
    "    geo_wrong = []\n",
    "    geo_missing = []\n",
    "    for fb in fbs:\n",
    "        if isinstance(fb, dict):\n",
    "            for missing_tag in fb[\"missing\"]:\n",
    "                if missing_tag.startswith(\"Geo:\"):\n",
    "                    geo_missing.append(missing_tag)\n",
    "                else:\n",
    "                    missing_tags.append(missing_tag)\n",
    "            for wrong_tag in fb[\"wrong\"]:\n",
    "                if wrong_tag.startswith(\"Geo:\"):\n",
    "                    geo_wrong.append(wrong_tag)\n",
    "                else:\n",
    "                    wrong_tags.append(wrong_tag)\n",
    "            textual_fb = fb[\"text\"].split(\"\\n\")\n",
    "            sector_fbs.append(textual_fb[0])\n",
    "            two_dim_fbs.append(textual_fb[1])\n",
    "            one_dim_fbs.append(textual_fb[2])\n",
    "            demographic_g_fbs.append(textual_fb[3])\n",
    "            specific_ng_fbs.append(textual_fb[4])\n",
    "            affected_g_fbs.append(textual_fb[5])\n",
    "            severity_fbs.append(textual_fb[6])\n",
    "            geo_fbs.append(textual_fb[7])\n",
    "        else:\n",
    "            gen_fbs.append(fb)\n",
    "    return (wrong_tags, missing_tags, sector_fbs, two_dim_fbs, one_dim_fbs,\n",
    "            demographic_g_fbs, specific_ng_fbs, affected_g_fbs, severity_fbs,\n",
    "            geo_fbs, gen_fbs, geo_wrong, geo_missing)"
   ]
  },
  {
   "cell_type": "code",
   "execution_count": 4,
   "metadata": {
    "ExecuteTime": {
     "end_time": "2021-09-29T08:48:34.456815Z",
     "start_time": "2021-09-29T08:48:34.452568Z"
    }
   },
   "outputs": [],
   "source": [
    "label_to_tagname = dict()\n",
    "label_to_tagname.update(dict.fromkeys(SECTORS, \"SECTORS\"))\n",
    "label_to_tagname.update(dict.fromkeys(SUBPILLARS_2D, \"SUBPILLARS_2D\"))\n",
    "label_to_tagname.update(dict.fromkeys(SUBPILLARS_1D, \"SUBPILLARS_1D\"))\n",
    "label_to_tagname.update(dict.fromkeys(SPECIFIC_NEEDS_GROUPS, \"SPECIFIC_NEEDS_GROUPS\"))\n",
    "label_to_tagname.update(dict.fromkeys(AFFECTED_GROUPS, \"AFFECTED_GROUPS\"))\n",
    "label_to_tagname.update(dict.fromkeys(DEMOGRAPHIC_GROUPS, \"DEMOGRAPHIC_GROUPS\"))\n",
    "label_to_tagname.update(dict.fromkeys(SEVERITY, \"SEVERITY\"))\n",
    "label_to_tagname.update(dict.fromkeys(RELIABILITY, \"RELIABILITY\"))"
   ]
  },
  {
   "cell_type": "code",
   "execution_count": 5,
   "metadata": {
    "ExecuteTime": {
     "end_time": "2021-09-29T08:48:34.461836Z",
     "start_time": "2021-09-29T08:48:34.457910Z"
    }
   },
   "outputs": [],
   "source": [
    "def process_wrong_tags(wrong_tags):\n",
    "    organized_by_tagname = {\n",
    "        \"SECTORS\": [],\n",
    "        \"SUBPILLARS_2D\": [],\n",
    "        \"SUBPILLARS_1D\": [],\n",
    "        \"DEMOGRAPHIC_GROUPS\": [],\n",
    "        \"SPECIFIC_NEEDS_GROUPS\": [],\n",
    "        \"AFFECTED_GROUPS\": [],\n",
    "        \"SEVERITY\": [],\n",
    "        \"RELIABILITY\": []\n",
    "    }\n",
    "    for wrong_tag in wrong_tags:\n",
    "        tagname = label_to_tagname[wrong_tag]\n",
    "        organized_by_tagname[tagname].append(wrong_tag)\n",
    "    res = dict()\n",
    "    for k, v in organized_by_tagname.items():\n",
    "        res[k] = Counter(v).most_common()\n",
    "    return res"
   ]
  },
  {
   "cell_type": "code",
   "execution_count": 6,
   "metadata": {
    "ExecuteTime": {
     "end_time": "2021-09-29T08:48:34.466412Z",
     "start_time": "2021-09-29T08:48:34.463327Z"
    }
   },
   "outputs": [],
   "source": [
    "(wrong_tags, missing_tags, sector_fbs, two_dim_fbs, one_dim_fbs,\n",
    " demographic_g_fbs, specific_ng_fbs, affected_g_fbs, severity_fbs, geo_fbs,\n",
    " gen_fbs, geo_wrong, geo_missing) = process_fb(df[\"Feedback\"])"
   ]
  },
  {
   "cell_type": "code",
   "execution_count": 7,
   "metadata": {
    "ExecuteTime": {
     "end_time": "2021-09-29T08:48:34.471868Z",
     "start_time": "2021-09-29T08:48:34.469256Z"
    }
   },
   "outputs": [],
   "source": [
    "wrong_organized_by_tagname = process_wrong_tags(wrong_tags)\n",
    "missing_organized_by_tagname = process_wrong_tags(missing_tags)"
   ]
  },
  {
   "cell_type": "code",
   "execution_count": 8,
   "metadata": {
    "ExecuteTime": {
     "end_time": "2021-09-29T08:48:34.476074Z",
     "start_time": "2021-09-29T08:48:34.473853Z"
    }
   },
   "outputs": [],
   "source": [
    "pd.set_option('display.max_colwidth', None)"
   ]
  },
  {
   "cell_type": "code",
   "execution_count": 9,
   "metadata": {
    "ExecuteTime": {
     "end_time": "2021-09-29T08:48:34.484125Z",
     "start_time": "2021-09-29T08:48:34.477333Z"
    }
   },
   "outputs": [
    {
     "data": {
      "text/plain": [
       "126"
      ]
     },
     "execution_count": 9,
     "metadata": {},
     "output_type": "execute_result"
    }
   ],
   "source": [
    "len(df)"
   ]
  },
  {
   "cell_type": "markdown",
   "metadata": {},
   "source": [
    "### Missing Tags"
   ]
  },
  {
   "cell_type": "code",
   "execution_count": 10,
   "metadata": {
    "ExecuteTime": {
     "end_time": "2021-09-29T08:48:34.511482Z",
     "start_time": "2021-09-29T08:48:34.485322Z"
    }
   },
   "outputs": [
    {
     "name": "stdout",
     "output_type": "stream",
     "text": [
      "SECTORS\n"
     ]
    },
    {
     "data": {
      "text/html": [
       "<div>\n",
       "<style scoped>\n",
       "    .dataframe tbody tr th:only-of-type {\n",
       "        vertical-align: middle;\n",
       "    }\n",
       "\n",
       "    .dataframe tbody tr th {\n",
       "        vertical-align: top;\n",
       "    }\n",
       "\n",
       "    .dataframe thead th {\n",
       "        text-align: right;\n",
       "    }\n",
       "</style>\n",
       "<table border=\"1\" class=\"dataframe\">\n",
       "  <thead>\n",
       "    <tr style=\"text-align: right;\">\n",
       "      <th></th>\n",
       "      <th>0</th>\n",
       "      <th>1</th>\n",
       "    </tr>\n",
       "  </thead>\n",
       "  <tbody>\n",
       "    <tr>\n",
       "      <th>0</th>\n",
       "      <td>Cross</td>\n",
       "      <td>3</td>\n",
       "    </tr>\n",
       "    <tr>\n",
       "      <th>1</th>\n",
       "      <td>Livelihoods</td>\n",
       "      <td>2</td>\n",
       "    </tr>\n",
       "    <tr>\n",
       "      <th>2</th>\n",
       "      <td>Food Security</td>\n",
       "      <td>2</td>\n",
       "    </tr>\n",
       "    <tr>\n",
       "      <th>3</th>\n",
       "      <td>Agriculture</td>\n",
       "      <td>2</td>\n",
       "    </tr>\n",
       "    <tr>\n",
       "      <th>4</th>\n",
       "      <td>Logistics</td>\n",
       "      <td>2</td>\n",
       "    </tr>\n",
       "    <tr>\n",
       "      <th>5</th>\n",
       "      <td>Shelter</td>\n",
       "      <td>1</td>\n",
       "    </tr>\n",
       "    <tr>\n",
       "      <th>6</th>\n",
       "      <td>Health</td>\n",
       "      <td>1</td>\n",
       "    </tr>\n",
       "  </tbody>\n",
       "</table>\n",
       "</div>"
      ],
      "text/plain": [
       "               0  1\n",
       "0          Cross  3\n",
       "1    Livelihoods  2\n",
       "2  Food Security  2\n",
       "3    Agriculture  2\n",
       "4      Logistics  2\n",
       "5        Shelter  1\n",
       "6         Health  1"
      ]
     },
     "metadata": {},
     "output_type": "display_data"
    },
    {
     "name": "stdout",
     "output_type": "stream",
     "text": [
      "SUBPILLARS_2D\n"
     ]
    },
    {
     "data": {
      "text/html": [
       "<div>\n",
       "<style scoped>\n",
       "    .dataframe tbody tr th:only-of-type {\n",
       "        vertical-align: middle;\n",
       "    }\n",
       "\n",
       "    .dataframe tbody tr th {\n",
       "        vertical-align: top;\n",
       "    }\n",
       "\n",
       "    .dataframe thead th {\n",
       "        text-align: right;\n",
       "    }\n",
       "</style>\n",
       "<table border=\"1\" class=\"dataframe\">\n",
       "  <thead>\n",
       "    <tr style=\"text-align: right;\">\n",
       "      <th></th>\n",
       "      <th>0</th>\n",
       "      <th>1</th>\n",
       "    </tr>\n",
       "  </thead>\n",
       "  <tbody>\n",
       "    <tr>\n",
       "      <th>0</th>\n",
       "      <td>Capacities &amp; Response-&gt;Number Of People Reached/Response Gaps</td>\n",
       "      <td>11</td>\n",
       "    </tr>\n",
       "    <tr>\n",
       "      <th>1</th>\n",
       "      <td>Impact-&gt;Impact On Systems, Services And Networks</td>\n",
       "      <td>10</td>\n",
       "    </tr>\n",
       "    <tr>\n",
       "      <th>2</th>\n",
       "      <td>Impact-&gt;Impact On People</td>\n",
       "      <td>9</td>\n",
       "    </tr>\n",
       "    <tr>\n",
       "      <th>3</th>\n",
       "      <td>Impact-&gt;Driver/Aggravating Factors</td>\n",
       "      <td>8</td>\n",
       "    </tr>\n",
       "    <tr>\n",
       "      <th>4</th>\n",
       "      <td>Humanitarian Conditions-&gt;Living Standards</td>\n",
       "      <td>8</td>\n",
       "    </tr>\n",
       "    <tr>\n",
       "      <th>5</th>\n",
       "      <td>Capacities &amp; Response-&gt;National Response</td>\n",
       "      <td>7</td>\n",
       "    </tr>\n",
       "    <tr>\n",
       "      <th>6</th>\n",
       "      <td>Capacities &amp; Response-&gt;International Response</td>\n",
       "      <td>6</td>\n",
       "    </tr>\n",
       "    <tr>\n",
       "      <th>7</th>\n",
       "      <td>Capacities &amp; Response-&gt;Local Response</td>\n",
       "      <td>4</td>\n",
       "    </tr>\n",
       "    <tr>\n",
       "      <th>8</th>\n",
       "      <td>At Risk-&gt;Risk And Vulnerabilities</td>\n",
       "      <td>3</td>\n",
       "    </tr>\n",
       "    <tr>\n",
       "      <th>9</th>\n",
       "      <td>Humanitarian Conditions-&gt;Physical And Mental Well Being</td>\n",
       "      <td>1</td>\n",
       "    </tr>\n",
       "    <tr>\n",
       "      <th>10</th>\n",
       "      <td>Priority Interventions-&gt;Expressed By Population</td>\n",
       "      <td>1</td>\n",
       "    </tr>\n",
       "    <tr>\n",
       "      <th>11</th>\n",
       "      <td>Priority Needs-&gt;Expressed By Humanitarian Staff</td>\n",
       "      <td>1</td>\n",
       "    </tr>\n",
       "    <tr>\n",
       "      <th>12</th>\n",
       "      <td>Humanitarian Conditions-&gt;Coping Mechanisms</td>\n",
       "      <td>1</td>\n",
       "    </tr>\n",
       "    <tr>\n",
       "      <th>13</th>\n",
       "      <td>Priority Interventions-&gt;Expressed By Humanitarian Staff</td>\n",
       "      <td>1</td>\n",
       "    </tr>\n",
       "  </tbody>\n",
       "</table>\n",
       "</div>"
      ],
      "text/plain": [
       "                                                                0   1\n",
       "0   Capacities & Response->Number Of People Reached/Response Gaps  11\n",
       "1                Impact->Impact On Systems, Services And Networks  10\n",
       "2                                        Impact->Impact On People   9\n",
       "3                              Impact->Driver/Aggravating Factors   8\n",
       "4                       Humanitarian Conditions->Living Standards   8\n",
       "5                        Capacities & Response->National Response   7\n",
       "6                   Capacities & Response->International Response   6\n",
       "7                           Capacities & Response->Local Response   4\n",
       "8                               At Risk->Risk And Vulnerabilities   3\n",
       "9         Humanitarian Conditions->Physical And Mental Well Being   1\n",
       "10                Priority Interventions->Expressed By Population   1\n",
       "11                Priority Needs->Expressed By Humanitarian Staff   1\n",
       "12                     Humanitarian Conditions->Coping Mechanisms   1\n",
       "13        Priority Interventions->Expressed By Humanitarian Staff   1"
      ]
     },
     "metadata": {},
     "output_type": "display_data"
    },
    {
     "name": "stdout",
     "output_type": "stream",
     "text": [
      "SUBPILLARS_1D\n"
     ]
    },
    {
     "data": {
      "text/html": [
       "<div>\n",
       "<style scoped>\n",
       "    .dataframe tbody tr th:only-of-type {\n",
       "        vertical-align: middle;\n",
       "    }\n",
       "\n",
       "    .dataframe tbody tr th {\n",
       "        vertical-align: top;\n",
       "    }\n",
       "\n",
       "    .dataframe thead th {\n",
       "        text-align: right;\n",
       "    }\n",
       "</style>\n",
       "<table border=\"1\" class=\"dataframe\">\n",
       "  <thead>\n",
       "    <tr style=\"text-align: right;\">\n",
       "      <th></th>\n",
       "      <th>0</th>\n",
       "      <th>1</th>\n",
       "    </tr>\n",
       "  </thead>\n",
       "  <tbody>\n",
       "    <tr>\n",
       "      <th>0</th>\n",
       "      <td>Context-&gt;Socio Cultural</td>\n",
       "      <td>2</td>\n",
       "    </tr>\n",
       "    <tr>\n",
       "      <th>1</th>\n",
       "      <td>Casualties-&gt;Dead</td>\n",
       "      <td>1</td>\n",
       "    </tr>\n",
       "    <tr>\n",
       "      <th>2</th>\n",
       "      <td>Shock/Event-&gt;Hazard &amp; Threats</td>\n",
       "      <td>1</td>\n",
       "    </tr>\n",
       "    <tr>\n",
       "      <th>3</th>\n",
       "      <td>Humanitarian Access-&gt;Physical constraints</td>\n",
       "      <td>1</td>\n",
       "    </tr>\n",
       "  </tbody>\n",
       "</table>\n",
       "</div>"
      ],
      "text/plain": [
       "                                           0  1\n",
       "0                    Context->Socio Cultural  2\n",
       "1                           Casualties->Dead  1\n",
       "2              Shock/Event->Hazard & Threats  1\n",
       "3  Humanitarian Access->Physical constraints  1"
      ]
     },
     "metadata": {},
     "output_type": "display_data"
    },
    {
     "name": "stdout",
     "output_type": "stream",
     "text": [
      "DEMOGRAPHIC_GROUPS\n"
     ]
    },
    {
     "data": {
      "text/html": [
       "<div>\n",
       "<style scoped>\n",
       "    .dataframe tbody tr th:only-of-type {\n",
       "        vertical-align: middle;\n",
       "    }\n",
       "\n",
       "    .dataframe tbody tr th {\n",
       "        vertical-align: top;\n",
       "    }\n",
       "\n",
       "    .dataframe thead th {\n",
       "        text-align: right;\n",
       "    }\n",
       "</style>\n",
       "<table border=\"1\" class=\"dataframe\">\n",
       "  <thead>\n",
       "    <tr style=\"text-align: right;\">\n",
       "      <th></th>\n",
       "      <th>0</th>\n",
       "      <th>1</th>\n",
       "    </tr>\n",
       "  </thead>\n",
       "  <tbody>\n",
       "    <tr>\n",
       "      <th>0</th>\n",
       "      <td>Infants/Toddlers (&lt;5 years old)</td>\n",
       "      <td>1</td>\n",
       "    </tr>\n",
       "    <tr>\n",
       "      <th>1</th>\n",
       "      <td>Older Persons Unspecified gender (60+ years old)</td>\n",
       "      <td>1</td>\n",
       "    </tr>\n",
       "  </tbody>\n",
       "</table>\n",
       "</div>"
      ],
      "text/plain": [
       "                                                  0  1\n",
       "0                   Infants/Toddlers (<5 years old)  1\n",
       "1  Older Persons Unspecified gender (60+ years old)  1"
      ]
     },
     "metadata": {},
     "output_type": "display_data"
    },
    {
     "name": "stdout",
     "output_type": "stream",
     "text": [
      "SPECIFIC_NEEDS_GROUPS\n"
     ]
    },
    {
     "data": {
      "text/html": [
       "<div>\n",
       "<style scoped>\n",
       "    .dataframe tbody tr th:only-of-type {\n",
       "        vertical-align: middle;\n",
       "    }\n",
       "\n",
       "    .dataframe tbody tr th {\n",
       "        vertical-align: top;\n",
       "    }\n",
       "\n",
       "    .dataframe thead th {\n",
       "        text-align: right;\n",
       "    }\n",
       "</style>\n",
       "<table border=\"1\" class=\"dataframe\">\n",
       "  <thead>\n",
       "    <tr style=\"text-align: right;\">\n",
       "      <th></th>\n",
       "      <th>0</th>\n",
       "      <th>1</th>\n",
       "    </tr>\n",
       "  </thead>\n",
       "  <tbody>\n",
       "    <tr>\n",
       "      <th>0</th>\n",
       "      <td>Persons with Disability</td>\n",
       "      <td>1</td>\n",
       "    </tr>\n",
       "  </tbody>\n",
       "</table>\n",
       "</div>"
      ],
      "text/plain": [
       "                         0  1\n",
       "0  Persons with Disability  1"
      ]
     },
     "metadata": {},
     "output_type": "display_data"
    },
    {
     "name": "stdout",
     "output_type": "stream",
     "text": [
      "AFFECTED_GROUPS\n"
     ]
    },
    {
     "data": {
      "text/html": [
       "<div>\n",
       "<style scoped>\n",
       "    .dataframe tbody tr th:only-of-type {\n",
       "        vertical-align: middle;\n",
       "    }\n",
       "\n",
       "    .dataframe tbody tr th {\n",
       "        vertical-align: top;\n",
       "    }\n",
       "\n",
       "    .dataframe thead th {\n",
       "        text-align: right;\n",
       "    }\n",
       "</style>\n",
       "<table border=\"1\" class=\"dataframe\">\n",
       "  <thead>\n",
       "    <tr style=\"text-align: right;\">\n",
       "      <th></th>\n",
       "      <th>0</th>\n",
       "      <th>1</th>\n",
       "    </tr>\n",
       "  </thead>\n",
       "  <tbody>\n",
       "    <tr>\n",
       "      <th>0</th>\n",
       "      <td>Host</td>\n",
       "      <td>7</td>\n",
       "    </tr>\n",
       "    <tr>\n",
       "      <th>1</th>\n",
       "      <td>Refugees</td>\n",
       "      <td>3</td>\n",
       "    </tr>\n",
       "  </tbody>\n",
       "</table>\n",
       "</div>"
      ],
      "text/plain": [
       "          0  1\n",
       "0      Host  7\n",
       "1  Refugees  3"
      ]
     },
     "metadata": {},
     "output_type": "display_data"
    },
    {
     "name": "stdout",
     "output_type": "stream",
     "text": [
      "SEVERITY\n"
     ]
    },
    {
     "data": {
      "text/html": [
       "<div>\n",
       "<style scoped>\n",
       "    .dataframe tbody tr th:only-of-type {\n",
       "        vertical-align: middle;\n",
       "    }\n",
       "\n",
       "    .dataframe tbody tr th {\n",
       "        vertical-align: top;\n",
       "    }\n",
       "\n",
       "    .dataframe thead th {\n",
       "        text-align: right;\n",
       "    }\n",
       "</style>\n",
       "<table border=\"1\" class=\"dataframe\">\n",
       "  <thead>\n",
       "    <tr style=\"text-align: right;\">\n",
       "      <th></th>\n",
       "      <th>0</th>\n",
       "      <th>1</th>\n",
       "    </tr>\n",
       "  </thead>\n",
       "  <tbody>\n",
       "    <tr>\n",
       "      <th>0</th>\n",
       "      <td>Critical</td>\n",
       "      <td>4</td>\n",
       "    </tr>\n",
       "  </tbody>\n",
       "</table>\n",
       "</div>"
      ],
      "text/plain": [
       "          0  1\n",
       "0  Critical  4"
      ]
     },
     "metadata": {},
     "output_type": "display_data"
    },
    {
     "name": "stdout",
     "output_type": "stream",
     "text": [
      "RELIABILITY\n"
     ]
    },
    {
     "data": {
      "text/html": [
       "<div>\n",
       "<style scoped>\n",
       "    .dataframe tbody tr th:only-of-type {\n",
       "        vertical-align: middle;\n",
       "    }\n",
       "\n",
       "    .dataframe tbody tr th {\n",
       "        vertical-align: top;\n",
       "    }\n",
       "\n",
       "    .dataframe thead th {\n",
       "        text-align: right;\n",
       "    }\n",
       "</style>\n",
       "<table border=\"1\" class=\"dataframe\">\n",
       "  <thead>\n",
       "    <tr style=\"text-align: right;\">\n",
       "      <th></th>\n",
       "    </tr>\n",
       "  </thead>\n",
       "  <tbody>\n",
       "  </tbody>\n",
       "</table>\n",
       "</div>"
      ],
      "text/plain": [
       "Empty DataFrame\n",
       "Columns: []\n",
       "Index: []"
      ]
     },
     "metadata": {},
     "output_type": "display_data"
    }
   ],
   "source": [
    "for k, v in missing_organized_by_tagname.items():\n",
    "    print(k)\n",
    "    display(pd.DataFrame(v))"
   ]
  },
  {
   "cell_type": "markdown",
   "metadata": {},
   "source": [
    "### Wrong Tags"
   ]
  },
  {
   "cell_type": "code",
   "execution_count": 11,
   "metadata": {
    "ExecuteTime": {
     "end_time": "2021-09-29T08:48:34.539360Z",
     "start_time": "2021-09-29T08:48:34.512659Z"
    },
    "scrolled": false
   },
   "outputs": [
    {
     "name": "stdout",
     "output_type": "stream",
     "text": [
      "SECTORS\n"
     ]
    },
    {
     "data": {
      "text/html": [
       "<div>\n",
       "<style scoped>\n",
       "    .dataframe tbody tr th:only-of-type {\n",
       "        vertical-align: middle;\n",
       "    }\n",
       "\n",
       "    .dataframe tbody tr th {\n",
       "        vertical-align: top;\n",
       "    }\n",
       "\n",
       "    .dataframe thead th {\n",
       "        text-align: right;\n",
       "    }\n",
       "</style>\n",
       "<table border=\"1\" class=\"dataframe\">\n",
       "  <thead>\n",
       "    <tr style=\"text-align: right;\">\n",
       "      <th></th>\n",
       "      <th>0</th>\n",
       "      <th>1</th>\n",
       "    </tr>\n",
       "  </thead>\n",
       "  <tbody>\n",
       "    <tr>\n",
       "      <th>0</th>\n",
       "      <td>Protection</td>\n",
       "      <td>3</td>\n",
       "    </tr>\n",
       "    <tr>\n",
       "      <th>1</th>\n",
       "      <td>Education</td>\n",
       "      <td>2</td>\n",
       "    </tr>\n",
       "    <tr>\n",
       "      <th>2</th>\n",
       "      <td>Cross</td>\n",
       "      <td>1</td>\n",
       "    </tr>\n",
       "    <tr>\n",
       "      <th>3</th>\n",
       "      <td>Health</td>\n",
       "      <td>1</td>\n",
       "    </tr>\n",
       "    <tr>\n",
       "      <th>4</th>\n",
       "      <td>Livelihoods</td>\n",
       "      <td>1</td>\n",
       "    </tr>\n",
       "    <tr>\n",
       "      <th>5</th>\n",
       "      <td>Nutrition</td>\n",
       "      <td>1</td>\n",
       "    </tr>\n",
       "  </tbody>\n",
       "</table>\n",
       "</div>"
      ],
      "text/plain": [
       "             0  1\n",
       "0   Protection  3\n",
       "1    Education  2\n",
       "2        Cross  1\n",
       "3       Health  1\n",
       "4  Livelihoods  1\n",
       "5    Nutrition  1"
      ]
     },
     "metadata": {},
     "output_type": "display_data"
    },
    {
     "name": "stdout",
     "output_type": "stream",
     "text": [
      "SUBPILLARS_2D\n"
     ]
    },
    {
     "data": {
      "text/html": [
       "<div>\n",
       "<style scoped>\n",
       "    .dataframe tbody tr th:only-of-type {\n",
       "        vertical-align: middle;\n",
       "    }\n",
       "\n",
       "    .dataframe tbody tr th {\n",
       "        vertical-align: top;\n",
       "    }\n",
       "\n",
       "    .dataframe thead th {\n",
       "        text-align: right;\n",
       "    }\n",
       "</style>\n",
       "<table border=\"1\" class=\"dataframe\">\n",
       "  <thead>\n",
       "    <tr style=\"text-align: right;\">\n",
       "      <th></th>\n",
       "      <th>0</th>\n",
       "      <th>1</th>\n",
       "    </tr>\n",
       "  </thead>\n",
       "  <tbody>\n",
       "    <tr>\n",
       "      <th>0</th>\n",
       "      <td>Humanitarian Conditions-&gt;Physical And Mental Well Being</td>\n",
       "      <td>5</td>\n",
       "    </tr>\n",
       "    <tr>\n",
       "      <th>1</th>\n",
       "      <td>Capacities &amp; Response-&gt;International Response</td>\n",
       "      <td>4</td>\n",
       "    </tr>\n",
       "    <tr>\n",
       "      <th>2</th>\n",
       "      <td>Impact-&gt;Impact On Systems, Services And Networks</td>\n",
       "      <td>2</td>\n",
       "    </tr>\n",
       "    <tr>\n",
       "      <th>3</th>\n",
       "      <td>Capacities &amp; Response-&gt;National Response</td>\n",
       "      <td>1</td>\n",
       "    </tr>\n",
       "    <tr>\n",
       "      <th>4</th>\n",
       "      <td>At Risk-&gt;Risk And Vulnerabilities</td>\n",
       "      <td>1</td>\n",
       "    </tr>\n",
       "    <tr>\n",
       "      <th>5</th>\n",
       "      <td>Humanitarian Conditions-&gt;Living Standards</td>\n",
       "      <td>1</td>\n",
       "    </tr>\n",
       "  </tbody>\n",
       "</table>\n",
       "</div>"
      ],
      "text/plain": [
       "                                                         0  1\n",
       "0  Humanitarian Conditions->Physical And Mental Well Being  5\n",
       "1            Capacities & Response->International Response  4\n",
       "2         Impact->Impact On Systems, Services And Networks  2\n",
       "3                 Capacities & Response->National Response  1\n",
       "4                        At Risk->Risk And Vulnerabilities  1\n",
       "5                Humanitarian Conditions->Living Standards  1"
      ]
     },
     "metadata": {},
     "output_type": "display_data"
    },
    {
     "name": "stdout",
     "output_type": "stream",
     "text": [
      "SUBPILLARS_1D\n"
     ]
    },
    {
     "data": {
      "text/html": [
       "<div>\n",
       "<style scoped>\n",
       "    .dataframe tbody tr th:only-of-type {\n",
       "        vertical-align: middle;\n",
       "    }\n",
       "\n",
       "    .dataframe tbody tr th {\n",
       "        vertical-align: top;\n",
       "    }\n",
       "\n",
       "    .dataframe thead th {\n",
       "        text-align: right;\n",
       "    }\n",
       "</style>\n",
       "<table border=\"1\" class=\"dataframe\">\n",
       "  <thead>\n",
       "    <tr style=\"text-align: right;\">\n",
       "      <th></th>\n",
       "      <th>0</th>\n",
       "      <th>1</th>\n",
       "    </tr>\n",
       "  </thead>\n",
       "  <tbody>\n",
       "    <tr>\n",
       "      <th>0</th>\n",
       "      <td>Context-&gt;Demography</td>\n",
       "      <td>20</td>\n",
       "    </tr>\n",
       "    <tr>\n",
       "      <th>1</th>\n",
       "      <td>Context-&gt;Economy</td>\n",
       "      <td>16</td>\n",
       "    </tr>\n",
       "    <tr>\n",
       "      <th>2</th>\n",
       "      <td>Casualties-&gt;Dead</td>\n",
       "      <td>5</td>\n",
       "    </tr>\n",
       "    <tr>\n",
       "      <th>3</th>\n",
       "      <td>Information and Communication-&gt;Communication means and preferences</td>\n",
       "      <td>5</td>\n",
       "    </tr>\n",
       "    <tr>\n",
       "      <th>4</th>\n",
       "      <td>Context-&gt;Security &amp; Stability</td>\n",
       "      <td>3</td>\n",
       "    </tr>\n",
       "    <tr>\n",
       "      <th>5</th>\n",
       "      <td>Information and Communication-&gt;Knowledge and info gaps (pop)</td>\n",
       "      <td>2</td>\n",
       "    </tr>\n",
       "    <tr>\n",
       "      <th>6</th>\n",
       "      <td>Humanitarian Access-&gt;Physical constraints</td>\n",
       "      <td>2</td>\n",
       "    </tr>\n",
       "    <tr>\n",
       "      <th>7</th>\n",
       "      <td>Shock/Event-&gt;Hazard &amp; Threats</td>\n",
       "      <td>2</td>\n",
       "    </tr>\n",
       "    <tr>\n",
       "      <th>8</th>\n",
       "      <td>Context-&gt;Socio Cultural</td>\n",
       "      <td>2</td>\n",
       "    </tr>\n",
       "    <tr>\n",
       "      <th>9</th>\n",
       "      <td>Context-&gt;Environment</td>\n",
       "      <td>2</td>\n",
       "    </tr>\n",
       "    <tr>\n",
       "      <th>10</th>\n",
       "      <td>Context-&gt;Legal &amp; Policy</td>\n",
       "      <td>1</td>\n",
       "    </tr>\n",
       "    <tr>\n",
       "      <th>11</th>\n",
       "      <td>Displacement-&gt;Pull factors</td>\n",
       "      <td>1</td>\n",
       "    </tr>\n",
       "    <tr>\n",
       "      <th>12</th>\n",
       "      <td>Displacement-&gt;Type/Numbers/Movements</td>\n",
       "      <td>1</td>\n",
       "    </tr>\n",
       "  </tbody>\n",
       "</table>\n",
       "</div>"
      ],
      "text/plain": [
       "                                                                     0   1\n",
       "0                                                  Context->Demography  20\n",
       "1                                                     Context->Economy  16\n",
       "2                                                     Casualties->Dead   5\n",
       "3   Information and Communication->Communication means and preferences   5\n",
       "4                                        Context->Security & Stability   3\n",
       "5         Information and Communication->Knowledge and info gaps (pop)   2\n",
       "6                            Humanitarian Access->Physical constraints   2\n",
       "7                                        Shock/Event->Hazard & Threats   2\n",
       "8                                              Context->Socio Cultural   2\n",
       "9                                                 Context->Environment   2\n",
       "10                                             Context->Legal & Policy   1\n",
       "11                                          Displacement->Pull factors   1\n",
       "12                                Displacement->Type/Numbers/Movements   1"
      ]
     },
     "metadata": {},
     "output_type": "display_data"
    },
    {
     "name": "stdout",
     "output_type": "stream",
     "text": [
      "DEMOGRAPHIC_GROUPS\n"
     ]
    },
    {
     "data": {
      "text/html": [
       "<div>\n",
       "<style scoped>\n",
       "    .dataframe tbody tr th:only-of-type {\n",
       "        vertical-align: middle;\n",
       "    }\n",
       "\n",
       "    .dataframe tbody tr th {\n",
       "        vertical-align: top;\n",
       "    }\n",
       "\n",
       "    .dataframe thead th {\n",
       "        text-align: right;\n",
       "    }\n",
       "</style>\n",
       "<table border=\"1\" class=\"dataframe\">\n",
       "  <thead>\n",
       "    <tr style=\"text-align: right;\">\n",
       "      <th></th>\n",
       "      <th>0</th>\n",
       "      <th>1</th>\n",
       "    </tr>\n",
       "  </thead>\n",
       "  <tbody>\n",
       "    <tr>\n",
       "      <th>0</th>\n",
       "      <td>Children/Youth Unspecified gender (5 to 17 years old)</td>\n",
       "      <td>66</td>\n",
       "    </tr>\n",
       "    <tr>\n",
       "      <th>1</th>\n",
       "      <td>Adult Female (18 to 59 years old)</td>\n",
       "      <td>22</td>\n",
       "    </tr>\n",
       "    <tr>\n",
       "      <th>2</th>\n",
       "      <td>Older Persons Unspecified gender (60+ years old)</td>\n",
       "      <td>8</td>\n",
       "    </tr>\n",
       "    <tr>\n",
       "      <th>3</th>\n",
       "      <td>Children/Youth Female (5 to 17 years old)</td>\n",
       "      <td>8</td>\n",
       "    </tr>\n",
       "    <tr>\n",
       "      <th>4</th>\n",
       "      <td>Adult Unspecified gender (18-59 years old)</td>\n",
       "      <td>5</td>\n",
       "    </tr>\n",
       "    <tr>\n",
       "      <th>5</th>\n",
       "      <td>Older Persons Female (60+ years old)</td>\n",
       "      <td>4</td>\n",
       "    </tr>\n",
       "    <tr>\n",
       "      <th>6</th>\n",
       "      <td>Adult Male (18 to 59 years old)</td>\n",
       "      <td>3</td>\n",
       "    </tr>\n",
       "  </tbody>\n",
       "</table>\n",
       "</div>"
      ],
      "text/plain": [
       "                                                       0   1\n",
       "0  Children/Youth Unspecified gender (5 to 17 years old)  66\n",
       "1                      Adult Female (18 to 59 years old)  22\n",
       "2       Older Persons Unspecified gender (60+ years old)   8\n",
       "3              Children/Youth Female (5 to 17 years old)   8\n",
       "4             Adult Unspecified gender (18-59 years old)   5\n",
       "5                   Older Persons Female (60+ years old)   4\n",
       "6                        Adult Male (18 to 59 years old)   3"
      ]
     },
     "metadata": {},
     "output_type": "display_data"
    },
    {
     "name": "stdout",
     "output_type": "stream",
     "text": [
      "SPECIFIC_NEEDS_GROUPS\n"
     ]
    },
    {
     "data": {
      "text/html": [
       "<div>\n",
       "<style scoped>\n",
       "    .dataframe tbody tr th:only-of-type {\n",
       "        vertical-align: middle;\n",
       "    }\n",
       "\n",
       "    .dataframe tbody tr th {\n",
       "        vertical-align: top;\n",
       "    }\n",
       "\n",
       "    .dataframe thead th {\n",
       "        text-align: right;\n",
       "    }\n",
       "</style>\n",
       "<table border=\"1\" class=\"dataframe\">\n",
       "  <thead>\n",
       "    <tr style=\"text-align: right;\">\n",
       "      <th></th>\n",
       "      <th>0</th>\n",
       "      <th>1</th>\n",
       "    </tr>\n",
       "  </thead>\n",
       "  <tbody>\n",
       "    <tr>\n",
       "      <th>0</th>\n",
       "      <td>Indigenous people</td>\n",
       "      <td>30</td>\n",
       "    </tr>\n",
       "    <tr>\n",
       "      <th>1</th>\n",
       "      <td>Pregnant or Lactating Women</td>\n",
       "      <td>10</td>\n",
       "    </tr>\n",
       "    <tr>\n",
       "      <th>2</th>\n",
       "      <td>Minorities</td>\n",
       "      <td>9</td>\n",
       "    </tr>\n",
       "    <tr>\n",
       "      <th>3</th>\n",
       "      <td>GBV survivors</td>\n",
       "      <td>6</td>\n",
       "    </tr>\n",
       "    <tr>\n",
       "      <th>4</th>\n",
       "      <td>Chronically Ill</td>\n",
       "      <td>5</td>\n",
       "    </tr>\n",
       "    <tr>\n",
       "      <th>5</th>\n",
       "      <td>Unaccompanied or Separated Children</td>\n",
       "      <td>5</td>\n",
       "    </tr>\n",
       "    <tr>\n",
       "      <th>6</th>\n",
       "      <td>Elderly Head of Household</td>\n",
       "      <td>4</td>\n",
       "    </tr>\n",
       "    <tr>\n",
       "      <th>7</th>\n",
       "      <td>Persons with Disability</td>\n",
       "      <td>4</td>\n",
       "    </tr>\n",
       "    <tr>\n",
       "      <th>8</th>\n",
       "      <td>Female Head of Household</td>\n",
       "      <td>3</td>\n",
       "    </tr>\n",
       "    <tr>\n",
       "      <th>9</th>\n",
       "      <td>Child Head of Household</td>\n",
       "      <td>2</td>\n",
       "    </tr>\n",
       "    <tr>\n",
       "      <th>10</th>\n",
       "      <td>Single Women (including Widows)</td>\n",
       "      <td>2</td>\n",
       "    </tr>\n",
       "    <tr>\n",
       "      <th>11</th>\n",
       "      <td>LGBTQI+</td>\n",
       "      <td>1</td>\n",
       "    </tr>\n",
       "  </tbody>\n",
       "</table>\n",
       "</div>"
      ],
      "text/plain": [
       "                                      0   1\n",
       "0                     Indigenous people  30\n",
       "1           Pregnant or Lactating Women  10\n",
       "2                            Minorities   9\n",
       "3                         GBV survivors   6\n",
       "4                       Chronically Ill   5\n",
       "5   Unaccompanied or Separated Children   5\n",
       "6             Elderly Head of Household   4\n",
       "7               Persons with Disability   4\n",
       "8              Female Head of Household   3\n",
       "9               Child Head of Household   2\n",
       "10      Single Women (including Widows)   2\n",
       "11                              LGBTQI+   1"
      ]
     },
     "metadata": {},
     "output_type": "display_data"
    },
    {
     "name": "stdout",
     "output_type": "stream",
     "text": [
      "AFFECTED_GROUPS\n"
     ]
    },
    {
     "data": {
      "text/html": [
       "<div>\n",
       "<style scoped>\n",
       "    .dataframe tbody tr th:only-of-type {\n",
       "        vertical-align: middle;\n",
       "    }\n",
       "\n",
       "    .dataframe tbody tr th {\n",
       "        vertical-align: top;\n",
       "    }\n",
       "\n",
       "    .dataframe thead th {\n",
       "        text-align: right;\n",
       "    }\n",
       "</style>\n",
       "<table border=\"1\" class=\"dataframe\">\n",
       "  <thead>\n",
       "    <tr style=\"text-align: right;\">\n",
       "      <th></th>\n",
       "      <th>0</th>\n",
       "      <th>1</th>\n",
       "    </tr>\n",
       "  </thead>\n",
       "  <tbody>\n",
       "    <tr>\n",
       "      <th>0</th>\n",
       "      <td>Affected</td>\n",
       "      <td>100</td>\n",
       "    </tr>\n",
       "    <tr>\n",
       "      <th>1</th>\n",
       "      <td>Displaced</td>\n",
       "      <td>82</td>\n",
       "    </tr>\n",
       "    <tr>\n",
       "      <th>2</th>\n",
       "      <td>Migrants</td>\n",
       "      <td>19</td>\n",
       "    </tr>\n",
       "    <tr>\n",
       "      <th>3</th>\n",
       "      <td>Non Displaced</td>\n",
       "      <td>12</td>\n",
       "    </tr>\n",
       "    <tr>\n",
       "      <th>4</th>\n",
       "      <td>Refugees</td>\n",
       "      <td>8</td>\n",
       "    </tr>\n",
       "    <tr>\n",
       "      <th>5</th>\n",
       "      <td>IDP</td>\n",
       "      <td>7</td>\n",
       "    </tr>\n",
       "    <tr>\n",
       "      <th>6</th>\n",
       "      <td>Host</td>\n",
       "      <td>4</td>\n",
       "    </tr>\n",
       "    <tr>\n",
       "      <th>7</th>\n",
       "      <td>Not Affected</td>\n",
       "      <td>1</td>\n",
       "    </tr>\n",
       "    <tr>\n",
       "      <th>8</th>\n",
       "      <td>Returnees</td>\n",
       "      <td>1</td>\n",
       "    </tr>\n",
       "  </tbody>\n",
       "</table>\n",
       "</div>"
      ],
      "text/plain": [
       "               0    1\n",
       "0       Affected  100\n",
       "1      Displaced   82\n",
       "2       Migrants   19\n",
       "3  Non Displaced   12\n",
       "4       Refugees    8\n",
       "5            IDP    7\n",
       "6           Host    4\n",
       "7   Not Affected    1\n",
       "8      Returnees    1"
      ]
     },
     "metadata": {},
     "output_type": "display_data"
    },
    {
     "name": "stdout",
     "output_type": "stream",
     "text": [
      "SEVERITY\n"
     ]
    },
    {
     "data": {
      "text/html": [
       "<div>\n",
       "<style scoped>\n",
       "    .dataframe tbody tr th:only-of-type {\n",
       "        vertical-align: middle;\n",
       "    }\n",
       "\n",
       "    .dataframe tbody tr th {\n",
       "        vertical-align: top;\n",
       "    }\n",
       "\n",
       "    .dataframe thead th {\n",
       "        text-align: right;\n",
       "    }\n",
       "</style>\n",
       "<table border=\"1\" class=\"dataframe\">\n",
       "  <thead>\n",
       "    <tr style=\"text-align: right;\">\n",
       "      <th></th>\n",
       "      <th>0</th>\n",
       "      <th>1</th>\n",
       "    </tr>\n",
       "  </thead>\n",
       "  <tbody>\n",
       "    <tr>\n",
       "      <th>0</th>\n",
       "      <td>Major</td>\n",
       "      <td>7</td>\n",
       "    </tr>\n",
       "    <tr>\n",
       "      <th>1</th>\n",
       "      <td>Of Concern</td>\n",
       "      <td>7</td>\n",
       "    </tr>\n",
       "  </tbody>\n",
       "</table>\n",
       "</div>"
      ],
      "text/plain": [
       "            0  1\n",
       "0       Major  7\n",
       "1  Of Concern  7"
      ]
     },
     "metadata": {},
     "output_type": "display_data"
    },
    {
     "name": "stdout",
     "output_type": "stream",
     "text": [
      "RELIABILITY\n"
     ]
    },
    {
     "data": {
      "text/html": [
       "<div>\n",
       "<style scoped>\n",
       "    .dataframe tbody tr th:only-of-type {\n",
       "        vertical-align: middle;\n",
       "    }\n",
       "\n",
       "    .dataframe tbody tr th {\n",
       "        vertical-align: top;\n",
       "    }\n",
       "\n",
       "    .dataframe thead th {\n",
       "        text-align: right;\n",
       "    }\n",
       "</style>\n",
       "<table border=\"1\" class=\"dataframe\">\n",
       "  <thead>\n",
       "    <tr style=\"text-align: right;\">\n",
       "      <th></th>\n",
       "    </tr>\n",
       "  </thead>\n",
       "  <tbody>\n",
       "  </tbody>\n",
       "</table>\n",
       "</div>"
      ],
      "text/plain": [
       "Empty DataFrame\n",
       "Columns: []\n",
       "Index: []"
      ]
     },
     "metadata": {},
     "output_type": "display_data"
    }
   ],
   "source": [
    "for k, v in wrong_organized_by_tagname.items():\n",
    "    print(k)\n",
    "    display(pd.DataFrame(v))"
   ]
  },
  {
   "cell_type": "markdown",
   "metadata": {},
   "source": [
    "### Geo"
   ]
  },
  {
   "cell_type": "code",
   "execution_count": 12,
   "metadata": {
    "ExecuteTime": {
     "end_time": "2021-09-29T08:48:34.544613Z",
     "start_time": "2021-09-29T08:48:34.540415Z"
    },
    "scrolled": false
   },
   "outputs": [
    {
     "data": {
      "text/plain": [
       "['Geo: 250 Bed District Sadar Hospital',\n",
       " 'Geo: Cholera',\n",
       " 'Geo: Diphtheria',\n",
       " 'Geo: RDT',\n",
       " 'Geo: RDT/',\n",
       " 'Geo: 250 Bed District Sadar Hospital',\n",
       " 'Geo: RDT',\n",
       " 'Geo: 250 Bed District Sadar Hospital',\n",
       " 'Geo: 250 Bed District Sadar Hospital',\n",
       " 'Geo: Rohingya refugees',\n",
       " 'Geo: 250 Bed District Sadar Hospital',\n",
       " 'Geo: Rohingya refugees',\n",
       " 'Geo: National',\n",
       " 'Geo: High Dependency Unit',\n",
       " 'Geo: Health Sector',\n",
       " 'Geo: Health Field Monitors',\n",
       " 'Geo: Aquatabs',\n",
       " 'Geo: 250 Bed District Sadar Hospital',\n",
       " 'Geo: 250 Bed District Sadar Hospital',\n",
       " 'Geo: Adana',\n",
       " 'Geo: Bağcılar',\n",
       " 'Geo: Rohingyas',\n",
       " 'Geo: Border Guard Bangladesh',\n",
       " 'Geo: 24 Jun',\n",
       " 'Geo: Vocational Training Centre',\n",
       " 'Geo: 250 Bed District Sadar Hospital',\n",
       " 'Geo: Cubic',\n",
       " 'Geo: IEDCR Field Labora-',\n",
       " 'Geo: Rohingya',\n",
       " 'Geo: 24 Jun',\n",
       " 'Geo: 250 Bed District Sadar Hospital',\n",
       " 'Geo: Antakya',\n",
       " 'Geo: Buyukcekmece',\n",
       " 'Geo: Link Road',\n",
       " 'Geo: 24 Jun',\n",
       " 'Geo: Antakya',\n",
       " 'Geo: 182 Call Center',\n",
       " 'Geo: 250 Bed District Sadar Hospital',\n",
       " 'Geo: Camps',\n",
       " 'Geo: 250 Bed District Sadar Hospital',\n",
       " 'Geo: Cox',\n",
       " 'Geo: Rohingya',\n",
       " 'Geo: E. Coli',\n",
       " 'Geo: Learning/ Multiple Centres',\n",
       " 'Geo: 250 Bed District Sadar Hospital',\n",
       " 'Geo: Rohingya IDPs',\n",
       " 'Geo: Continue',\n",
       " 'Geo: 182 Call Center',\n",
       " 'Geo: 182 Call Center',\n",
       " 'Geo: Ankara',\n",
       " 'Geo: Aquatabs',\n",
       " 'Geo: 24 Jun',\n",
       " 'Geo: Bhasanchar',\n",
       " 'Geo: Rohingyas',\n",
       " 'Geo: Chattogram',\n",
       " 'Geo: 24 Jun',\n",
       " 'Geo: New',\n",
       " 'Geo: Ankara',\n",
       " 'Geo: Bağcılar',\n",
       " 'Geo: Turkish Lira',\n",
       " 'Geo: Buyukcekmece',\n",
       " 'Geo: @UNHCR',\n",
       " 'Geo: Local',\n",
       " 'Geo: Study',\n",
       " 'Geo: Hectare',\n",
       " 'Geo: Bağcılar',\n",
       " 'Geo: 250 Bed District Sadar Hospital',\n",
       " 'Geo: Rohingya',\n",
       " 'Geo: Continue',\n",
       " 'Geo: Adıyaman',\n",
       " 'Geo: 24 Jun',\n",
       " 'Geo: @UNHCR',\n",
       " 'Geo: 24 Jun',\n",
       " 'Geo: Rohingyas',\n",
       " 'Geo: Camps',\n",
       " 'Geo: Buyukcekmece',\n",
       " 'Geo: Refugee',\n",
       " 'Geo: Camps',\n",
       " 'Geo: Syria',\n",
       " 'Geo: Adıyaman',\n",
       " 'Geo: Accountability',\n",
       " 'Geo: Germany',\n",
       " 'Geo: Japan',\n",
       " 'Geo: Norway',\n",
       " 'Geo: United States of America',\n",
       " 'Geo: Accountability',\n",
       " 'Geo: Barely',\n",
       " 'Geo: Ankara',\n",
       " 'Geo: Antakya',\n",
       " 'Geo: AMM',\n",
       " 'Geo: Barely',\n",
       " 'Geo: Accountability',\n",
       " 'Geo: Mental Health and Psychosocial Support',\n",
       " 'Geo: 250 Bed District Sadar Hospital',\n",
       " 'Geo: Cholera',\n",
       " 'Geo: Diphtheria',\n",
       " 'Geo: Camps',\n",
       " 'Geo: Agri Combi',\n",
       " 'Geo: Octo-',\n",
       " 'Geo: AMM',\n",
       " 'Geo: Bağcılar',\n",
       " 'Geo: Adıyaman',\n",
       " 'Geo: Aquatabs',\n",
       " 'Geo: Treatment Centre',\n",
       " 'Geo: Barely',\n",
       " 'Geo: 24 Jun',\n",
       " 'Geo: Bang',\n",
       " 'Geo: Rohingyas',\n",
       " 'Geo: Samakal',\n",
       " 'Geo: Agri Combi',\n",
       " 'Geo: Deir',\n",
       " 'Geo: Rohingya',\n",
       " 'Geo: Non',\n",
       " 'Geo: MMTs',\n",
       " 'Geo: Diseases',\n",
       " 'Geo: Camps',\n",
       " 'Geo: Accountability',\n",
       " 'Geo: Barely',\n",
       " 'Geo: Agri Combi',\n",
       " 'Geo: Antakya',\n",
       " 'Geo: Buyukcekmece',\n",
       " 'Geo: Camps',\n",
       " 'Geo: RDT',\n",
       " 'Geo: Operational',\n",
       " 'Geo: Clinical',\n",
       " 'Geo: Camp',\n",
       " 'Geo: 250 Bed District Sadar Hospital',\n",
       " 'Geo: 182 Call Center',\n",
       " 'Geo: @UNHCR',\n",
       " 'Geo: Sadar District Hospital in',\n",
       " 'Geo: Buyukcekmece',\n",
       " 'Geo: Ankara']"
      ]
     },
     "execution_count": 12,
     "metadata": {},
     "output_type": "execute_result"
    }
   ],
   "source": [
    "geo_wrong"
   ]
  },
  {
   "cell_type": "markdown",
   "metadata": {},
   "source": [
    "### Textual Feedback"
   ]
  },
  {
   "cell_type": "code",
   "execution_count": 13,
   "metadata": {
    "ExecuteTime": {
     "end_time": "2021-09-29T08:48:34.547648Z",
     "start_time": "2021-09-29T08:48:34.546018Z"
    }
   },
   "outputs": [],
   "source": [
    "#  '[Specific]: Specific Needs Groups is not mentioned.',\n",
    "#  '[Geo]: Camp 26 is specific geo location',\n",
    "#  '[Geo]: Overall Syria',\n",
    "#  '[Geo]: Camps 1W, 3, 5, 17, 21, 26 and 27 missing',\n",
    "#  '[Geo]: Dier-ez-zor',\n",
    "#  '[Geo]: Specific camp location is missing',\n",
    "#  general: 'Incomplete sentence on the excerpt. Example:\\nAs a result, the MUV vocational training reverted to in-class training as of.... This sentence is not complete and miss the date.'"
   ]
  },
  {
   "cell_type": "code",
   "execution_count": null,
   "metadata": {},
   "outputs": [],
   "source": []
  },
  {
   "cell_type": "code",
   "execution_count": null,
   "metadata": {},
   "outputs": [],
   "source": []
  },
  {
   "cell_type": "code",
   "execution_count": null,
   "metadata": {},
   "outputs": [],
   "source": []
  },
  {
   "cell_type": "code",
   "execution_count": null,
   "metadata": {},
   "outputs": [],
   "source": []
  },
  {
   "cell_type": "code",
   "execution_count": null,
   "metadata": {},
   "outputs": [],
   "source": []
  }
 ],
 "metadata": {
  "kernelspec": {
   "display_name": "Python 3.8.5 64-bit ('base': conda)",
   "language": "python",
   "name": "python385jvsc74a57bd0f487e277ea6a75fd1c7c341a1deb40c7861148cbc006695943c5304af00fedbe"
  },
  "language_info": {
   "codemirror_mode": {
    "name": "ipython",
    "version": 3
   },
   "file_extension": ".py",
   "mimetype": "text/x-python",
   "name": "python",
   "nbconvert_exporter": "python",
   "pygments_lexer": "ipython3",
   "version": "3.8.5"
  },
  "varInspector": {
   "cols": {
    "lenName": 16,
    "lenType": 16,
    "lenVar": 40
   },
   "kernels_config": {
    "python": {
     "delete_cmd_postfix": "",
     "delete_cmd_prefix": "del ",
     "library": "var_list.py",
     "varRefreshCmd": "print(var_dic_list())"
    },
    "r": {
     "delete_cmd_postfix": ") ",
     "delete_cmd_prefix": "rm(",
     "library": "var_list.r",
     "varRefreshCmd": "cat(var_dic_list()) "
    }
   },
   "types_to_exclude": [
    "module",
    "function",
    "builtin_function_or_method",
    "instance",
    "_Feature"
   ],
   "window_display": false
  }
 },
 "nbformat": 4,
 "nbformat_minor": 4
}
