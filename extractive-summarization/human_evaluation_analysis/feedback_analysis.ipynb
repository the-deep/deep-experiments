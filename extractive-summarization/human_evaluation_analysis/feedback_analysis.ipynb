{
 "cells": [
  {
   "cell_type": "code",
   "execution_count": 1,
   "id": "584156e6",
   "metadata": {},
   "outputs": [],
   "source": [
    "import pandas as pd\n",
    "import numpy as np\n",
    "import json\n",
    "import bs4\n",
    "from bs4 import BeautifulSoup\n",
    "import re\n",
    "import seaborn as sns\n",
    "import matplotlib\n",
    "import matplotlib.pyplot as plt"
   ]
  },
  {
   "cell_type": "code",
   "execution_count": 2,
   "id": "24befbf0",
   "metadata": {},
   "outputs": [
    {
     "name": "stdout",
     "output_type": "stream",
     "text": [
      "1.4.1\n",
      "1.21.5\n",
      "2.0.9\n",
      "4.10.0\n",
      "2.2.1\n",
      "0.11.2\n",
      "3.5.1\n"
     ]
    }
   ],
   "source": [
    "print(pd.__version__)\n",
    "print(np.__version__)\n",
    "print(json.__version__)\n",
    "print(bs4.__version__)\n",
    "print(re.__version__)\n",
    "print(sns.__version__)\n",
    "print(matplotlib.__version__)"
   ]
  },
  {
   "cell_type": "code",
   "execution_count": 3,
   "id": "d3e81e0c",
   "metadata": {},
   "outputs": [],
   "source": [
    "sources = json.load(open(\"predictions.json\"))\n",
    "df = pd.read_excel(\"entry_extraction_feedback.xlsx\")\n",
    "df[\"Reviewer\"] = df[\"Reviewer\"].str.strip()\n",
    "df[\"Entries\"] = df[\"Entries\"].apply(eval)"
   ]
  },
  {
   "cell_type": "markdown",
   "id": "78e16e79",
   "metadata": {},
   "source": [
    "Load the text, and the character spans which contain text highlighted by the ML system."
   ]
  },
  {
   "cell_type": "code",
   "execution_count": 4,
   "id": "50d9871d",
   "metadata": {},
   "outputs": [],
   "source": [
    "texts = {}\n",
    "relevancies = {}\n",
    "\n",
    "for key in sources.keys():\n",
    "    text = \"\"\n",
    "    is_relevant = []\n",
    "    \n",
    "    for child in BeautifulSoup(sources[key]).find(\"p\").find_all(text=True):\n",
    "        child_text = re.sub(r\"\\s+\", \" \", str(child))\n",
    "        length = len(child_text)\n",
    "        text += child_text\n",
    "\n",
    "        if child.parent.name == \"span\":\n",
    "            is_relevant.extend([1] * length)\n",
    "        else:\n",
    "            is_relevant.extend([0] * length)\n",
    "\n",
    "    is_relevant = np.array(is_relevant, dtype=bool)\n",
    "    \n",
    "    lead_id = int(key.split(\",\")[0])\n",
    "    \n",
    "    texts[lead_id] = text\n",
    "    relevancies[lead_id] = is_relevant"
   ]
  },
  {
   "cell_type": "code",
   "execution_count": 5,
   "id": "b9322265",
   "metadata": {},
   "outputs": [],
   "source": [
    "def get_relevant_characters(text, entries):\n",
    "    \"\"\"\n",
    "    Compute the characters which are marked as relevant, given a text and entries.\n",
    "    Also keeps track of for how many entries no match can be found in the text.\n",
    "    \"\"\"\n",
    "    is_relevant = np.zeros(len(text), dtype=bool)\n",
    "    \n",
    "    n_no_match = 0\n",
    "    \n",
    "    for entry in entries:\n",
    "        if entry == \"nan\":\n",
    "            continue\n",
    "        entry = re.sub(r\"\\s+\", \" \", entry)\n",
    "        \n",
    "        try:\n",
    "            start = text.index(entry)\n",
    "            end = start + len(entry)\n",
    "            is_relevant[start:end] = True\n",
    "        except ValueError:\n",
    "            n_no_match += 1\n",
    "            \n",
    "    return is_relevant, n_no_match"
   ]
  },
  {
   "cell_type": "markdown",
   "id": "e65384b8",
   "metadata": {},
   "source": [
    "Some rows have the wrong Lead ID (signified by many entries for which no match can be found.)\n",
    "\n",
    "Fix this by searching for the lead with the lowest number of non-matching entries."
   ]
  },
  {
   "cell_type": "code",
   "execution_count": 6,
   "id": "a577938f",
   "metadata": {},
   "outputs": [
    {
     "name": "stdout",
     "output_type": "stream",
     "text": [
      "Changed 74413 to 74411. 0 non-matching entries remaining (from 6).\n",
      "Changed 74671 to 74668. 0 non-matching entries remaining (from 7).\n",
      "Changed 74377 to 74370. 0 non-matching entries remaining (from 2).\n",
      "Changed 74382 to 74378. 0 non-matching entries remaining (from 2).\n",
      "Changed 74283 to 74280. 0 non-matching entries remaining (from 3).\n",
      "Changed 74681 to 74671. 0 non-matching entries remaining (from 1).\n",
      "Changed 74363 to 74360. 0 non-matching entries remaining (from 2).\n",
      "Changed 74267 to 74266. 0 non-matching entries remaining (from 2).\n",
      "Changed 74550 to 74382. 0 non-matching entries remaining (from 1).\n",
      "Changed 74183 to 74178. 0 non-matching entries remaining (from 2).\n",
      "Changed 74176 to 74169. 0 non-matching entries remaining (from 3).\n",
      "Changed 74284 to 74283. 0 non-matching entries remaining (from 1).\n",
      "Changed 74601 to 74587. 0 non-matching entries remaining (from 3).\n",
      "Changed 74671 to 74668. 0 non-matching entries remaining (from 6).\n",
      "Changed 74377 to 74370. 0 non-matching entries remaining (from 4).\n",
      "Changed 74458 to 74454. 0 non-matching entries remaining (from 2).\n",
      "Changed 74605 to 74601. 0 non-matching entries remaining (from 1).\n",
      "Changed 74407 to 74394. 0 non-matching entries remaining (from 2).\n",
      "Changed 74156 to 74154. 0 non-matching entries remaining (from 4).\n",
      "Changed 74389 to 74385. 0 non-matching entries remaining (from 2).\n",
      "Changed 74176 to 74513. 3 non-matching entries remaining (from 6).\n",
      "Changed 74503 to 74501. 0 non-matching entries remaining (from 4).\n",
      "Changed 74298 to 74292. 0 non-matching entries remaining (from 6).\n",
      "Changed 74148 to 74147. 0 non-matching entries remaining (from 8).\n",
      "Changed 74176 to 74169. 1 non-matching entries remaining (from 6).\n",
      "Changed 74272 to 74271. 0 non-matching entries remaining (from 4).\n",
      "Changed 74524 to 74517. 1 non-matching entries remaining (from 4).\n",
      "Changed 74605 to 74601. 0 non-matching entries remaining (from 1).\n",
      "Changed 74284 to 74382. 0 non-matching entries remaining (from 1).\n",
      "Changed 74413 to 74411. 1 non-matching entries remaining (from 10).\n",
      "Changed 74389 to 74385. 0 non-matching entries remaining (from 2).\n",
      "Changed 74189 to 74183. 0 non-matching entries remaining (from 1).\n",
      "Changed 74292 to 74285. 1 non-matching entries remaining (from 5).\n",
      "Changed 74464 to 74462. 0 non-matching entries remaining (from 2).\n",
      "Changed 74156 to 74154. 0 non-matching entries remaining (from 6).\n",
      "Changed 74156 to 74154. 0 non-matching entries remaining (from 5).\n",
      "Changed 74298 to 74292. 0 non-matching entries remaining (from 1).\n",
      "Changed 74348 to 74346. 0 non-matching entries remaining (from 4).\n"
     ]
    }
   ],
   "source": [
    "def fix_lead_id(row):\n",
    "    best_lead_id = row[\"Lead ID\"]\n",
    "    original_lead_id = best_lead_id\n",
    "    _, best_n_no_match = get_relevant_characters(texts[best_lead_id], row[\"Entries\"])\n",
    "    original_n_no_match = best_n_no_match\n",
    "    \n",
    "    for lead_id, text in texts.items():\n",
    "        _, n_no_match = get_relevant_characters(texts[lead_id], row[\"Entries\"])\n",
    "        \n",
    "        if n_no_match < best_n_no_match:\n",
    "            best_lead_id = lead_id\n",
    "            best_n_no_match = n_no_match\n",
    "            \n",
    "    if best_lead_id != original_lead_id:\n",
    "        print(f\"Changed {original_lead_id} to {best_lead_id}. {best_n_no_match} non-matching entries remaining\"\n",
    "              f\" (from {original_n_no_match}).\")\n",
    "    \n",
    "    row[\"Lead ID\"] = best_lead_id\n",
    "    return row\n",
    "    \n",
    "    \n",
    "df = df.apply(fix_lead_id, axis=1)"
   ]
  },
  {
   "cell_type": "markdown",
   "id": "6227128b",
   "metadata": {},
   "source": [
    "Check number of texts each tagger annotated."
   ]
  },
  {
   "cell_type": "code",
   "execution_count": 7,
   "id": "e9b01b93",
   "metadata": {},
   "outputs": [
    {
     "data": {
      "text/plain": [
       "Priyanka Sharma    105\n",
       "Prinisha Baidya    104\n",
       "Nagma Mathema      100\n",
       "Pooja Sharma        96\n",
       "Sneha Pandey         8\n",
       "Name: Reviewer, dtype: int64"
      ]
     },
     "execution_count": 7,
     "metadata": {},
     "output_type": "execute_result"
    }
   ],
   "source": [
    "df[\"Reviewer\"].value_counts()"
   ]
  },
  {
   "cell_type": "markdown",
   "id": "4bcd8e6c",
   "metadata": {},
   "source": [
    "Divide into four sets:\n",
    "- `n1`: the first tagger who did not see highlights.\n",
    "- `n2`: the second tagger who did not see highlights.\n",
    "- `h1`: the first tagger who saw highlights.\n",
    "- `h2`: the second tagger who saw highlights."
   ]
  },
  {
   "cell_type": "code",
   "execution_count": 8,
   "id": "834e254b",
   "metadata": {},
   "outputs": [],
   "source": [
    "n1 = df[df[\"Reviewer\"] == \"Priyanka Sharma\"]\n",
    "n1 = n1[~n1[\"Lead ID\"].duplicated()]\n",
    "assert not n1[\"Entry Highlight\"].any()\n",
    "n1.set_index(\"Lead ID\", inplace=True)\n",
    "\n",
    "h1 = df[df[\"Reviewer\"] == \"Prinisha Baidya\"]\n",
    "h1 = h1[~h1[\"Lead ID\"].duplicated()]\n",
    "assert h1[\"Entry Highlight\"].all()\n",
    "h1.set_index(\"Lead ID\", inplace=True)\n",
    "\n",
    "n2 = df[df[\"Reviewer\"] == \"Pooja Sharma\"]\n",
    "n2 = n2[~n2[\"Lead ID\"].duplicated()]\n",
    "assert not n2[\"Entry Highlight\"].any()\n",
    "n2.set_index(\"Lead ID\", inplace=True)\n",
    "\n",
    "h2 = df[df[\"Reviewer\"] == \"Nagma Mathema\"]\n",
    "h2 = h2[~h2[\"Lead ID\"].duplicated()]\n",
    "assert h2[\"Entry Highlight\"].all()\n",
    "h2.set_index(\"Lead ID\", inplace=True)"
   ]
  },
  {
   "cell_type": "markdown",
   "id": "c4907e21",
   "metadata": {},
   "source": [
    "Interestingly, only 67 lead IDs overlap between all of the taggers. Some further analysis would be warranted."
   ]
  },
  {
   "cell_type": "code",
   "execution_count": 9,
   "id": "69d3ad56",
   "metadata": {},
   "outputs": [
    {
     "data": {
      "text/plain": [
       "67"
      ]
     },
     "execution_count": 9,
     "metadata": {},
     "output_type": "execute_result"
    }
   ],
   "source": [
    "key_intersection = sorted(set(n1.index) & set(h1.index) & set(n2.index) & set(h2.index))\n",
    "len(key_intersection)"
   ]
  },
  {
   "cell_type": "markdown",
   "id": "2bce112b",
   "metadata": {},
   "source": [
    "Agreement between two sources of spans (either taggers or the ML system) is computed as IoU i.e. the intersection of highlighted characters between the two over the union of the highlighted characters. Could be expanded to also compute ROUGE scores."
   ]
  },
  {
   "cell_type": "code",
   "execution_count": 10,
   "id": "ed7c54fd",
   "metadata": {
    "scrolled": false
   },
   "outputs": [],
   "source": [
    "def get_iou(a, b):\n",
    "    \"\"\"\n",
    "    Get the IoU between entries from `a` and `b`.\n",
    "    \"\"\"\n",
    "    total_a = 0\n",
    "    total_b = 0\n",
    "    total_a_no_match = 0\n",
    "    total_b_no_match = 0\n",
    "\n",
    "    all_ious = []\n",
    "\n",
    "    for key in key_intersection:\n",
    "        total_a += len(a.loc[key][\"Entries\"])\n",
    "        total_b += len(b.loc[key][\"Entries\"])\n",
    "\n",
    "        mask_a, n_no_match_a = get_relevant_characters(texts[key], a.loc[key][\"Entries\"])\n",
    "        mask_b, n_no_match_b = get_relevant_characters(texts[key], b.loc[key][\"Entries\"])\n",
    "\n",
    "        total_a_no_match += n_no_match_a\n",
    "        total_b_no_match += n_no_match_b\n",
    "\n",
    "        iou = (mask_a & mask_b).sum() / ((mask_a | mask_b).sum()) if (mask_a | mask_b).any() else 1\n",
    "        all_ious.append(iou)\n",
    "    \n",
    "    return np.mean(all_ious)\n",
    "\n",
    "def get_overlap_with_predicted(a):\n",
    "    \"\"\"\n",
    "    Get the IoU of the entries `a` with the ML-system highlights.\n",
    "    \"\"\"\n",
    "    all_ious = []\n",
    "    \n",
    "    for key in key_intersection:\n",
    "        mask_a, n_no_match_a = get_relevant_characters(texts[key], a.loc[key][\"Entries\"])\n",
    "        mask_b = relevancies[key]\n",
    "        \n",
    "        iou = (mask_a & mask_b).sum() / ((mask_a | mask_b).sum()) if (mask_a | mask_b).any() else 1\n",
    "        \n",
    "        all_ious.append(iou)\n",
    "        \n",
    "    return np.mean(all_ious)"
   ]
  },
  {
   "cell_type": "markdown",
   "id": "602af847",
   "metadata": {},
   "source": [
    "# Pairwise agreement"
   ]
  },
  {
   "cell_type": "markdown",
   "id": "d450a34a",
   "metadata": {},
   "source": [
    "Compute a confusion matrix of the pairwise agreement between all taggers."
   ]
  },
  {
   "cell_type": "code",
   "execution_count": 11,
   "id": "54698248",
   "metadata": {},
   "outputs": [],
   "source": [
    "results = np.zeros((4, 4))\n",
    "\n",
    "for i, a in enumerate([h1, h2, n1, n2]):\n",
    "    for j, b in enumerate([h1, h2, n1, n2]):\n",
    "        results[i, j] = get_iou(a, b)"
   ]
  },
  {
   "cell_type": "code",
   "execution_count": 12,
   "id": "0b74dd82",
   "metadata": {},
   "outputs": [
    {
     "data": {
      "text/plain": [
       "Text(0.5, 1.0, 'Intersection Over Union of spans marked as relevant')"
      ]
     },
     "execution_count": 12,
     "metadata": {},
     "output_type": "execute_result"
    },
    {
     "data": {
      "image/png": "[encoded data removed]",
      "text/plain": [
       "<Figure size 1008x504 with 2 Axes>"
      ]
     },
     "metadata": {
      "needs_background": "light"
     },
     "output_type": "display_data"
    }
   ],
   "source": [
    "plt.figure(figsize=(14, 7))\n",
    "sns.heatmap(results, annot=True, vmin=0.0, vmax=1.0, \n",
    "            cmap=\"Blues\",\n",
    "            xticklabels=[\"Tagger 1 (Highlights)\", \"Tagger 2 (Highlights)\", \"Tagger 3 (No Highlights)\", \"Tagger 4 (No Highlights)\"], \n",
    "            yticklabels=[\"Tagger 1 (Highlights)\", \"Tagger 2 (Highlights)\", \"Tagger 3 (No Highlights)\", \"Tagger 4 (No Highlights)\"])\n",
    "\n",
    "plt.title(\"Intersection Over Union of spans marked as relevant\")"
   ]
  },
  {
   "cell_type": "markdown",
   "id": "36125edf",
   "metadata": {},
   "source": [
    "Compute the average agreement between taggers of different kinds (avg. of lower left / upper right in the confusion matrix)."
   ]
  },
  {
   "cell_type": "code",
   "execution_count": 13,
   "id": "b0ff7460",
   "metadata": {},
   "outputs": [
    {
     "name": "stdout",
     "output_type": "stream",
     "text": [
      "0.312\n"
     ]
    }
   ],
   "source": [
    "print(f\"{results[2:, :2].mean():.3f}\")"
   ]
  },
  {
   "cell_type": "markdown",
   "id": "ff85432b",
   "metadata": {},
   "source": [
    "# Compute agreement between the taggers and the ML-system"
   ]
  },
  {
   "cell_type": "markdown",
   "id": "44c8a7b5",
   "metadata": {},
   "source": [
    "## Tagger 1 (with Highlights)"
   ]
  },
  {
   "cell_type": "code",
   "execution_count": 14,
   "id": "5253a4e4",
   "metadata": {},
   "outputs": [
    {
     "name": "stdout",
     "output_type": "stream",
     "text": [
      "0.356\n"
     ]
    }
   ],
   "source": [
    "print(f\"{get_overlap_with_predicted(h1):.3f}\")"
   ]
  },
  {
   "cell_type": "markdown",
   "id": "a4a0bf43",
   "metadata": {},
   "source": [
    "## Tagger 2 (with Highlights)"
   ]
  },
  {
   "cell_type": "code",
   "execution_count": 15,
   "id": "f35d571c",
   "metadata": {},
   "outputs": [
    {
     "name": "stdout",
     "output_type": "stream",
     "text": [
      "0.410\n"
     ]
    }
   ],
   "source": [
    "print(f\"{get_overlap_with_predicted(h2):.3f}\")"
   ]
  },
  {
   "cell_type": "markdown",
   "id": "cc637e41",
   "metadata": {},
   "source": [
    "## Tagger 3 (no Highlights)"
   ]
  },
  {
   "cell_type": "code",
   "execution_count": 16,
   "id": "36df030a",
   "metadata": {},
   "outputs": [
    {
     "name": "stdout",
     "output_type": "stream",
     "text": [
      "0.264\n"
     ]
    }
   ],
   "source": [
    "print(f\"{get_overlap_with_predicted(n1):.3f}\")"
   ]
  },
  {
   "cell_type": "markdown",
   "id": "99479aa9",
   "metadata": {},
   "source": [
    "## Tagger 4 (no Highlights)"
   ]
  },
  {
   "cell_type": "code",
   "execution_count": 17,
   "id": "f41da142",
   "metadata": {},
   "outputs": [
    {
     "name": "stdout",
     "output_type": "stream",
     "text": [
      "0.247\n"
     ]
    }
   ],
   "source": [
    "print(f\"{get_overlap_with_predicted(n2):.3f}\")"
   ]
  },
  {
   "cell_type": "code",
   "execution_count": 18,
   "id": "2c9988ec",
   "metadata": {},
   "outputs": [
    {
     "data": {
      "text/plain": [
       "0.2555"
      ]
     },
     "execution_count": 18,
     "metadata": {},
     "output_type": "execute_result"
    }
   ],
   "source": [
    "(0.264+0.247)/2"
   ]
  },
  {
   "cell_type": "markdown",
   "id": "4cdf4e0f",
   "metadata": {},
   "source": [
    "# Conclusion"
   ]
  },
  {
   "cell_type": "markdown",
   "id": "7028a12d",
   "metadata": {},
   "source": [
    "- Which excepts are relevant is somewhat subjective: there is only agreement of 0.34 (from 0 to 1) between both taggers which did not see highlights.\n",
    "- There seems to have been some mistake in the data collection process assigning wrong Lead IDs to many entries. Luckily this is easily fixable.\n",
    "- The ML-system biases the taggers: Average agreement with the highlights is:\n",
    "    - 0.38 for the taggers who did see highlights.\n",
    "    - 0.26 for the taggers who did not see highlights.\n",
    "- This also manifests itself in higher agreement between the taggers who saw highlights (0.42) since both are biased toward the highlights.\n",
    "- The highlights are quite good: As mentioned above the agreement of the taggers who did not see highlights with the highlights is 0.26, while their agreement with each other is 0.34, which would be a reasonable upper bound on the performance of the ML-system."
   ]
  },
  {
   "cell_type": "markdown",
   "id": "44513452",
   "metadata": {},
   "source": [
    "# Next steps"
   ]
  },
  {
   "cell_type": "markdown",
   "id": "77d3a9d8",
   "metadata": {},
   "source": [
    "- The most important next step is asking the taggers what they think about the system: If it is useful, makes them more productive, etc.\n",
    "- There's some ways in which this analysis could be expanded:\n",
    "    - Computing ROUGE score in addition to IoU and checking if the same conclusions hold.\n",
    "    - Checking why only 67 Lead IDs overlap between all taggers (expected would be 100).\n",
    "    - Checking whether the model over/underpredicts (Precision/Recall metrics)."
   ]
  }
 ],
 "metadata": {
  "kernelspec": {
   "display_name": "Python 3 (ipykernel)",
   "language": "python",
   "name": "python3"
  },
  "language_info": {
   "codemirror_mode": {
    "name": "ipython",
    "version": 3
   },
   "file_extension": ".py",
   "mimetype": "text/x-python",
   "name": "python",
   "nbconvert_exporter": "python",
   "pygments_lexer": "ipython3",
   "version": "3.9.7"
  }
 },
 "nbformat": 4,
 "nbformat_minor": 5
}
