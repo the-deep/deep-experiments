{
 "cells": [
  {
   "cell_type": "code",
   "execution_count": 1,
   "id": "cb0045b9",
   "metadata": {},
   "outputs": [],
   "source": [
    "import rust_utils"
   ]
  },
  {
   "cell_type": "code",
   "execution_count": 35,
   "id": "dffacacf",
   "metadata": {},
   "outputs": [],
   "source": [
    "from glob import glob\n",
    "from pathlib import Path\n",
    "import regex as re\n",
    "\n",
    "import numpy as np\n",
    "import pandas as pd\n",
    "from tqdm.auto import tqdm\n",
    "hi navid, are you joining the call? m\n",
    "tqdm.pandas()"
   ]
  },
  {
   "cell_type": "code",
   "execution_count": 3,
   "id": "20b1d015",
   "metadata": {},
   "outputs": [
    {
     "data": {
      "text/html": [
       "<div>\n",
       "<style scoped>\n",
       "    .dataframe tbody tr th:only-of-type {\n",
       "        vertical-align: middle;\n",
       "    }\n",
       "\n",
       "    .dataframe tbody tr th {\n",
       "        vertical-align: top;\n",
       "    }\n",
       "\n",
       "    .dataframe thead th {\n",
       "        text-align: right;\n",
       "    }\n",
       "</style>\n",
       "<table border=\"1\" class=\"dataframe\">\n",
       "  <thead>\n",
       "    <tr style=\"text-align: right;\">\n",
       "      <th></th>\n",
       "      <th>id</th>\n",
       "      <th>created_at</th>\n",
       "      <th>modified_at</th>\n",
       "      <th>title</th>\n",
       "      <th>source_raw</th>\n",
       "      <th>confidentiality</th>\n",
       "      <th>status</th>\n",
       "      <th>published_on</th>\n",
       "      <th>text</th>\n",
       "      <th>url</th>\n",
       "      <th>...</th>\n",
       "      <th>modified_by_id</th>\n",
       "      <th>project_id</th>\n",
       "      <th>attachment_id</th>\n",
       "      <th>source_type</th>\n",
       "      <th>lead_group_id</th>\n",
       "      <th>client_id</th>\n",
       "      <th>author_raw</th>\n",
       "      <th>author_id</th>\n",
       "      <th>source_id</th>\n",
       "      <th>priority</th>\n",
       "    </tr>\n",
       "  </thead>\n",
       "  <tbody>\n",
       "    <tr>\n",
       "      <th>0</th>\n",
       "      <td>40</td>\n",
       "      <td>2018-02-12 09:07:50.323122+00</td>\n",
       "      <td>2018-04-26 09:10:43.631264+00</td>\n",
       "      <td>Shelter NFI joint need assessment – Host HH Su...</td>\n",
       "      <td>Humanitatian Reponse</td>\n",
       "      <td>unprotected</td>\n",
       "      <td>processed</td>\n",
       "      <td>2017-11-26</td>\n",
       "      <td>NaN</td>\n",
       "      <td>NaN</td>\n",
       "      <td>...</td>\n",
       "      <td>15.0</td>\n",
       "      <td>11</td>\n",
       "      <td>52.0</td>\n",
       "      <td>disk</td>\n",
       "      <td>NaN</td>\n",
       "      <td>NaN</td>\n",
       "      <td>NaN</td>\n",
       "      <td>NaN</td>\n",
       "      <td>NaN</td>\n",
       "      <td>100</td>\n",
       "    </tr>\n",
       "    <tr>\n",
       "      <th>1</th>\n",
       "      <td>1</td>\n",
       "      <td>2018-01-08 09:11:20.436858+00</td>\n",
       "      <td>2018-01-08 09:11:20.463321+00</td>\n",
       "      <td>sam_guideline_3rd_edition_10_july_2017.pdf</td>\n",
       "      <td>National Guidelines</td>\n",
       "      <td>unprotected</td>\n",
       "      <td>pending</td>\n",
       "      <td>2018-01-08</td>\n",
       "      <td>NaN</td>\n",
       "      <td>NaN</td>\n",
       "      <td>...</td>\n",
       "      <td>1.0</td>\n",
       "      <td>1</td>\n",
       "      <td>7.0</td>\n",
       "      <td>disk</td>\n",
       "      <td>NaN</td>\n",
       "      <td>NaN</td>\n",
       "      <td>NaN</td>\n",
       "      <td>NaN</td>\n",
       "      <td>NaN</td>\n",
       "      <td>100</td>\n",
       "    </tr>\n",
       "    <tr>\n",
       "      <th>2</th>\n",
       "      <td>2</td>\n",
       "      <td>2018-01-08 09:19:48.218483+00</td>\n",
       "      <td>2018-01-08 09:19:48.232292+00</td>\n",
       "      <td>Lead 3:03:45 PM</td>\n",
       "      <td>Newspaper</td>\n",
       "      <td>unprotected</td>\n",
       "      <td>pending</td>\n",
       "      <td>2018-01-08</td>\n",
       "      <td>NaN</td>\n",
       "      <td>https://reliefweb.int/report/south-sudan/six-y...</td>\n",
       "      <td>...</td>\n",
       "      <td>1.0</td>\n",
       "      <td>1</td>\n",
       "      <td>NaN</td>\n",
       "      <td>website</td>\n",
       "      <td>NaN</td>\n",
       "      <td>NaN</td>\n",
       "      <td>NaN</td>\n",
       "      <td>NaN</td>\n",
       "      <td>NaN</td>\n",
       "      <td>100</td>\n",
       "    </tr>\n",
       "    <tr>\n",
       "      <th>3</th>\n",
       "      <td>23004</td>\n",
       "      <td>2020-01-08 03:17:50.671567+00</td>\n",
       "      <td>2020-01-09 06:08:08.828593+00</td>\n",
       "      <td>Philippines is 'the lead in the South China Se...</td>\n",
       "      <td>NaN</td>\n",
       "      <td>unprotected</td>\n",
       "      <td>processed</td>\n",
       "      <td>2019-12-08</td>\n",
       "      <td>NaN</td>\n",
       "      <td>https://www.philstar.com/headlines/2019/12/08/...</td>\n",
       "      <td>...</td>\n",
       "      <td>1585.0</td>\n",
       "      <td>848</td>\n",
       "      <td>NaN</td>\n",
       "      <td>website</td>\n",
       "      <td>NaN</td>\n",
       "      <td>NaN</td>\n",
       "      <td>NaN</td>\n",
       "      <td>NaN</td>\n",
       "      <td>3582.0</td>\n",
       "      <td>100</td>\n",
       "    </tr>\n",
       "    <tr>\n",
       "      <th>4</th>\n",
       "      <td>19258</td>\n",
       "      <td>2019-10-03 13:12:02.691277+00</td>\n",
       "      <td>2019-10-21 09:37:30.807604+00</td>\n",
       "      <td>Obj 4_Health sector coordination + EOC_workpla...</td>\n",
       "      <td>NaN</td>\n",
       "      <td>unprotected</td>\n",
       "      <td>processed</td>\n",
       "      <td>2017-02-11</td>\n",
       "      <td>NaN</td>\n",
       "      <td>NaN</td>\n",
       "      <td>...</td>\n",
       "      <td>15.0</td>\n",
       "      <td>1410</td>\n",
       "      <td>22325.0</td>\n",
       "      <td>disk</td>\n",
       "      <td>NaN</td>\n",
       "      <td>NaN</td>\n",
       "      <td>NaN</td>\n",
       "      <td>2690.0</td>\n",
       "      <td>2690.0</td>\n",
       "      <td>100</td>\n",
       "    </tr>\n",
       "  </tbody>\n",
       "</table>\n",
       "<p>5 rows × 22 columns</p>\n",
       "</div>"
      ],
      "text/plain": [
       "      id                     created_at                    modified_at  \\\n",
       "0     40  2018-02-12 09:07:50.323122+00  2018-04-26 09:10:43.631264+00   \n",
       "1      1  2018-01-08 09:11:20.436858+00  2018-01-08 09:11:20.463321+00   \n",
       "2      2  2018-01-08 09:19:48.218483+00  2018-01-08 09:19:48.232292+00   \n",
       "3  23004  2020-01-08 03:17:50.671567+00  2020-01-09 06:08:08.828593+00   \n",
       "4  19258  2019-10-03 13:12:02.691277+00  2019-10-21 09:37:30.807604+00   \n",
       "\n",
       "                                               title            source_raw  \\\n",
       "0  Shelter NFI joint need assessment – Host HH Su...  Humanitatian Reponse   \n",
       "1         sam_guideline_3rd_edition_10_july_2017.pdf   National Guidelines   \n",
       "2                                    Lead 3:03:45 PM             Newspaper   \n",
       "3  Philippines is 'the lead in the South China Se...                   NaN   \n",
       "4  Obj 4_Health sector coordination + EOC_workpla...                   NaN   \n",
       "\n",
       "  confidentiality     status published_on text  \\\n",
       "0     unprotected  processed   2017-11-26  NaN   \n",
       "1     unprotected    pending   2018-01-08  NaN   \n",
       "2     unprotected    pending   2018-01-08  NaN   \n",
       "3     unprotected  processed   2019-12-08  NaN   \n",
       "4     unprotected  processed   2017-02-11  NaN   \n",
       "\n",
       "                                                 url  ... modified_by_id  \\\n",
       "0                                                NaN  ...           15.0   \n",
       "1                                                NaN  ...            1.0   \n",
       "2  https://reliefweb.int/report/south-sudan/six-y...  ...            1.0   \n",
       "3  https://www.philstar.com/headlines/2019/12/08/...  ...         1585.0   \n",
       "4                                                NaN  ...           15.0   \n",
       "\n",
       "   project_id  attachment_id  source_type  lead_group_id client_id  \\\n",
       "0          11           52.0         disk            NaN       NaN   \n",
       "1           1            7.0         disk            NaN       NaN   \n",
       "2           1            NaN      website            NaN       NaN   \n",
       "3         848            NaN      website            NaN       NaN   \n",
       "4        1410        22325.0         disk            NaN       NaN   \n",
       "\n",
       "   author_raw  author_id source_id  priority  \n",
       "0         NaN        NaN       NaN       100  \n",
       "1         NaN        NaN       NaN       100  \n",
       "2         NaN        NaN       NaN       100  \n",
       "3         NaN        NaN    3582.0       100  \n",
       "4         NaN     2690.0    2690.0       100  \n",
       "\n",
       "[5 rows x 22 columns]"
      ]
     },
     "execution_count": 3,
     "metadata": {},
     "output_type": "execute_result"
    }
   ],
   "source": [
    "leads = pd.read_csv(\"data/frameworks_data/data_v0.7.1/leads.csv\")\n",
    "leads.head()"
   ]
  },
  {
   "cell_type": "code",
   "execution_count": 4,
   "id": "75edb517",
   "metadata": {},
   "outputs": [
    {
     "name": "stderr",
     "output_type": "stream",
     "text": [
      "/tmp/ipykernel_311852/4124708605.py:1: DtypeWarning: Columns (5) have mixed types. Specify dtype option on import or set low_memory=False.\n",
      "  train_df = pd.read_csv(\"data/frameworks_data/data_v0.7.1/train_v0.7.1.csv\")\n"
     ]
    },
    {
     "data": {
      "text/html": [
       "<div>\n",
       "<style scoped>\n",
       "    .dataframe tbody tr th:only-of-type {\n",
       "        vertical-align: middle;\n",
       "    }\n",
       "\n",
       "    .dataframe tbody tr th {\n",
       "        vertical-align: top;\n",
       "    }\n",
       "\n",
       "    .dataframe thead th {\n",
       "        text-align: right;\n",
       "    }\n",
       "</style>\n",
       "<table border=\"1\" class=\"dataframe\">\n",
       "  <thead>\n",
       "    <tr style=\"text-align: right;\">\n",
       "      <th></th>\n",
       "      <th>entry_id</th>\n",
       "      <th>excerpt</th>\n",
       "      <th>analysis_framework_id</th>\n",
       "      <th>lead_id</th>\n",
       "      <th>project_id</th>\n",
       "      <th>verified</th>\n",
       "      <th>sectors</th>\n",
       "      <th>subpillars_2d</th>\n",
       "      <th>subpillars_1d</th>\n",
       "      <th>geo_location</th>\n",
       "      <th>...</th>\n",
       "      <th>affected_groups_level_1</th>\n",
       "      <th>affected_groups_level_2</th>\n",
       "      <th>affected_groups_level_3</th>\n",
       "      <th>source_type</th>\n",
       "      <th>url</th>\n",
       "      <th>website</th>\n",
       "      <th>lang</th>\n",
       "      <th>translation_en</th>\n",
       "      <th>translation_fr</th>\n",
       "      <th>translation_es</th>\n",
       "    </tr>\n",
       "  </thead>\n",
       "  <tbody>\n",
       "    <tr>\n",
       "      <th>0</th>\n",
       "      <td>194719</td>\n",
       "      <td>[10th November, NW Syria] Now with the lockdow...</td>\n",
       "      <td>1306</td>\n",
       "      <td>43771.0</td>\n",
       "      <td>2028.0</td>\n",
       "      <td>False</td>\n",
       "      <td>[]</td>\n",
       "      <td>[]</td>\n",
       "      <td>['Covid-19-&gt;Restriction Measures']</td>\n",
       "      <td>['Syrian Arab Republic']</td>\n",
       "      <td>...</td>\n",
       "      <td>[]</td>\n",
       "      <td>[]</td>\n",
       "      <td>[]</td>\n",
       "      <td>website</td>\n",
       "      <td>https://reliefweb.int/report/syrian-arab-repub...</td>\n",
       "      <td>www.reliefweb.int</td>\n",
       "      <td>en</td>\n",
       "      <td>NaN</td>\n",
       "      <td>[10 novembre, NW Syrie] Maintenant, avec le ve...</td>\n",
       "      <td>[10 de noviembre, NW Siria] Ahora, con el bloq...</td>\n",
       "    </tr>\n",
       "    <tr>\n",
       "      <th>1</th>\n",
       "      <td>186152</td>\n",
       "      <td>El Salvador hace frente a una combinación de c...</td>\n",
       "      <td>829</td>\n",
       "      <td>41125.0</td>\n",
       "      <td>1898.0</td>\n",
       "      <td>False</td>\n",
       "      <td>['Nutrition', 'Protection', 'Food Security', '...</td>\n",
       "      <td>['Humanitarian Conditions-&gt;Living Standards']</td>\n",
       "      <td>[]</td>\n",
       "      <td>['El Salvador']</td>\n",
       "      <td>...</td>\n",
       "      <td>['Affected']</td>\n",
       "      <td>[]</td>\n",
       "      <td>[]</td>\n",
       "      <td>website</td>\n",
       "      <td>https://www.acaps.org/sites/acaps/files/key-do...</td>\n",
       "      <td>https://www.acaps.org</td>\n",
       "      <td>es</td>\n",
       "      <td>El Salvador faces a combination of crisis in w...</td>\n",
       "      <td>El Salvador est confronté à une combinaison de...</td>\n",
       "      <td>NaN</td>\n",
       "    </tr>\n",
       "    <tr>\n",
       "      <th>2</th>\n",
       "      <td>489431</td>\n",
       "      <td>Extreme poverty and the government’s fiscal li...</td>\n",
       "      <td>1306</td>\n",
       "      <td>67488.0</td>\n",
       "      <td>2225.0</td>\n",
       "      <td>False</td>\n",
       "      <td>['Education']</td>\n",
       "      <td>['Humanitarian Conditions-&gt;Living Standards']</td>\n",
       "      <td>['Context-&gt;Socio Cultural']</td>\n",
       "      <td>['République démocratique du Congo']</td>\n",
       "      <td>...</td>\n",
       "      <td>['Affected']</td>\n",
       "      <td>[]</td>\n",
       "      <td>[]</td>\n",
       "      <td>website</td>\n",
       "      <td>https://blogs.worldbank.org/education/free-pri...</td>\n",
       "      <td>blogs.worldbank.org</td>\n",
       "      <td>en</td>\n",
       "      <td>NaN</td>\n",
       "      <td>L'extrême pauvreté et les limitations budgétai...</td>\n",
       "      <td>La pobreza extrema y las limitaciones fiscales...</td>\n",
       "    </tr>\n",
       "    <tr>\n",
       "      <th>3</th>\n",
       "      <td>179077</td>\n",
       "      <td>Le Sénat congolais, la chambre haute du parlem...</td>\n",
       "      <td>1306</td>\n",
       "      <td>41963.0</td>\n",
       "      <td>2225.0</td>\n",
       "      <td>False</td>\n",
       "      <td>[]</td>\n",
       "      <td>[]</td>\n",
       "      <td>['Covid-19-&gt;Deaths', 'Covid-19-&gt;Restriction Me...</td>\n",
       "      <td>['République démocratique du Congo']</td>\n",
       "      <td>...</td>\n",
       "      <td>[]</td>\n",
       "      <td>[]</td>\n",
       "      <td>[]</td>\n",
       "      <td>website</td>\n",
       "      <td>https://www.rtbf.be/info/monde/detail_coronavi...</td>\n",
       "      <td>www.rtbf.be</td>\n",
       "      <td>fr</td>\n",
       "      <td>The Congolese Senate, the Haute Chamber of Par...</td>\n",
       "      <td>NaN</td>\n",
       "      <td>El senado congoleño, la alta sala del Parlamen...</td>\n",
       "    </tr>\n",
       "    <tr>\n",
       "      <th>4</th>\n",
       "      <td>186906</td>\n",
       "      <td>Los AFCs requieren de oportunidades para mejor...</td>\n",
       "      <td>829</td>\n",
       "      <td>41080.0</td>\n",
       "      <td>1184.0</td>\n",
       "      <td>False</td>\n",
       "      <td>['Nutrition', 'Livelihoods']</td>\n",
       "      <td>['Humanitarian Conditions-&gt;Living Standards']</td>\n",
       "      <td>[]</td>\n",
       "      <td>['Ecuador']</td>\n",
       "      <td>...</td>\n",
       "      <td>[]</td>\n",
       "      <td>[]</td>\n",
       "      <td>[]</td>\n",
       "      <td>website</td>\n",
       "      <td>https://reliefweb.int/sites/reliefweb.int/file...</td>\n",
       "      <td>reliefweb.int</td>\n",
       "      <td>es</td>\n",
       "      <td>AFCs require opportunities to improve their pr...</td>\n",
       "      <td>Les AFC ont besoin d'occasions d'améliorer leu...</td>\n",
       "      <td>NaN</td>\n",
       "    </tr>\n",
       "  </tbody>\n",
       "</table>\n",
       "<p>5 rows × 27 columns</p>\n",
       "</div>"
      ],
      "text/plain": [
       "   entry_id                                            excerpt  \\\n",
       "0    194719  [10th November, NW Syria] Now with the lockdow...   \n",
       "1    186152  El Salvador hace frente a una combinación de c...   \n",
       "2    489431  Extreme poverty and the government’s fiscal li...   \n",
       "3    179077  Le Sénat congolais, la chambre haute du parlem...   \n",
       "4    186906  Los AFCs requieren de oportunidades para mejor...   \n",
       "\n",
       "   analysis_framework_id  lead_id  project_id verified  \\\n",
       "0                   1306  43771.0      2028.0    False   \n",
       "1                    829  41125.0      1898.0    False   \n",
       "2                   1306  67488.0      2225.0    False   \n",
       "3                   1306  41963.0      2225.0    False   \n",
       "4                    829  41080.0      1184.0    False   \n",
       "\n",
       "                                             sectors  \\\n",
       "0                                                 []   \n",
       "1  ['Nutrition', 'Protection', 'Food Security', '...   \n",
       "2                                      ['Education']   \n",
       "3                                                 []   \n",
       "4                       ['Nutrition', 'Livelihoods']   \n",
       "\n",
       "                                   subpillars_2d  \\\n",
       "0                                             []   \n",
       "1  ['Humanitarian Conditions->Living Standards']   \n",
       "2  ['Humanitarian Conditions->Living Standards']   \n",
       "3                                             []   \n",
       "4  ['Humanitarian Conditions->Living Standards']   \n",
       "\n",
       "                                       subpillars_1d  \\\n",
       "0                 ['Covid-19->Restriction Measures']   \n",
       "1                                                 []   \n",
       "2                        ['Context->Socio Cultural']   \n",
       "3  ['Covid-19->Deaths', 'Covid-19->Restriction Me...   \n",
       "4                                                 []   \n",
       "\n",
       "                           geo_location  ... affected_groups_level_1  \\\n",
       "0              ['Syrian Arab Republic']  ...                      []   \n",
       "1                       ['El Salvador']  ...            ['Affected']   \n",
       "2  ['République démocratique du Congo']  ...            ['Affected']   \n",
       "3  ['République démocratique du Congo']  ...                      []   \n",
       "4                           ['Ecuador']  ...                      []   \n",
       "\n",
       "  affected_groups_level_2 affected_groups_level_3 source_type  \\\n",
       "0                      []                      []     website   \n",
       "1                      []                      []     website   \n",
       "2                      []                      []     website   \n",
       "3                      []                      []     website   \n",
       "4                      []                      []     website   \n",
       "\n",
       "                                                 url                website  \\\n",
       "0  https://reliefweb.int/report/syrian-arab-repub...      www.reliefweb.int   \n",
       "1  https://www.acaps.org/sites/acaps/files/key-do...  https://www.acaps.org   \n",
       "2  https://blogs.worldbank.org/education/free-pri...    blogs.worldbank.org   \n",
       "3  https://www.rtbf.be/info/monde/detail_coronavi...            www.rtbf.be   \n",
       "4  https://reliefweb.int/sites/reliefweb.int/file...          reliefweb.int   \n",
       "\n",
       "  lang                                     translation_en  \\\n",
       "0   en                                                NaN   \n",
       "1   es  El Salvador faces a combination of crisis in w...   \n",
       "2   en                                                NaN   \n",
       "3   fr  The Congolese Senate, the Haute Chamber of Par...   \n",
       "4   es  AFCs require opportunities to improve their pr...   \n",
       "\n",
       "                                      translation_fr  \\\n",
       "0  [10 novembre, NW Syrie] Maintenant, avec le ve...   \n",
       "1  El Salvador est confronté à une combinaison de...   \n",
       "2  L'extrême pauvreté et les limitations budgétai...   \n",
       "3                                                NaN   \n",
       "4  Les AFC ont besoin d'occasions d'améliorer leu...   \n",
       "\n",
       "                                      translation_es  \n",
       "0  [10 de noviembre, NW Siria] Ahora, con el bloq...  \n",
       "1                                                NaN  \n",
       "2  La pobreza extrema y las limitaciones fiscales...  \n",
       "3  El senado congoleño, la alta sala del Parlamen...  \n",
       "4                                                NaN  \n",
       "\n",
       "[5 rows x 27 columns]"
      ]
     },
     "execution_count": 4,
     "metadata": {},
     "output_type": "execute_result"
    }
   ],
   "source": [
    "train_df = pd.read_csv(\"data/frameworks_data/data_v0.7.1/train_v0.7.1.csv\")\n",
    "train_df.head()"
   ]
  },
  {
   "cell_type": "code",
   "execution_count": 5,
   "id": "3fc6106d-0aa3-4b9b-a42a-6d9d8690835c",
   "metadata": {},
   "outputs": [
    {
     "data": {
      "text/plain": [
       "en    78089\n",
       "fr    24718\n",
       "es    23516\n",
       "Name: lang, dtype: int64"
      ]
     },
     "execution_count": 5,
     "metadata": {},
     "output_type": "execute_result"
    }
   ],
   "source": [
    "train_df[\"lang\"].value_counts()"
   ]
  },
  {
   "cell_type": "code",
   "execution_count": 6,
   "id": "c6c2a187-2e07-458c-93a8-38709e90e997",
   "metadata": {},
   "outputs": [
    {
     "data": {
      "text/plain": [
       "126323"
      ]
     },
     "execution_count": 6,
     "metadata": {},
     "output_type": "execute_result"
    }
   ],
   "source": [
    "len(train_df)"
   ]
  },
  {
   "cell_type": "code",
   "execution_count": 7,
   "id": "d627030b",
   "metadata": {},
   "outputs": [
    {
     "data": {
      "text/plain": [
       "['[05/Oct/2020] [Syria] Al-Sharq Al-Awsat, a pan-Arab newspaper based in London, reported on October 05 that Lebanese authorities had seized a tanker carrying four million litres of petrol on its way from Greece to Syria for a company based in Harasta near Damascus.',\n",
       " 'A Master Plan for the development of the city of Kismayo was commissioned to a private company by the Government of Jubaland.The resulting document presents an ambitious plan for the extension of the city, with a huge infrastructure provision, the identification of several productive areas and the extension of port and airport',\n",
       " '[PROTECTION LIVING STANDARDS GAP (LSG)] 21% of IDP settlement and 39% of non- IDP settlement were with a protection LSG',\n",
       " '[15th June 2021, Bangladesh] Meanwhile, Inter-Services Public Relations Directorate on Tuesday said that 136 men, women and children were now mortally ill with diarrhoea in Bandarban. Two people are in critical condition; if their condition does not improve, they will be brought to the sadar upazila, he added. “According to the information I have, seven people have died and my medical team is providing medical services there,” he said.',\n",
       " 'By 2030, in the most optimistic Relief & Rebound scenario, increased mortality is the result of diarrhoea (+4.0 percent), malaria (+5.4 percent) and respiratory infections (+4.0 percent). In the more pessimistic Global Suffering scenario, a stronger economic downturn further drives increased mortality due to diarrhoea (+12.7 percent), malaria (+15.8 percent) and respiratory infections (+12.0 percent). In addition, mortality of children under five years is expected to account for more than 80 percent of indirect mortality. Without policy actions, COVID-19 threatens to significantly increase child mortality in the next decade.']"
      ]
     },
     "execution_count": 7,
     "metadata": {},
     "output_type": "execute_result"
    }
   ],
   "source": [
    "train_df[\"excerpt\"].sample(n=5).tolist()"
   ]
  },
  {
   "cell_type": "code",
   "execution_count": 6,
   "id": "a400ebcb",
   "metadata": {},
   "outputs": [],
   "source": [
    "lead_tuples = set(leads.apply(lambda row: (row[\"id\"], row[\"project_id\"]), axis=1))\n",
    "assert len(lead_tuples) == len(leads)"
   ]
  },
  {
   "cell_type": "code",
   "execution_count": 7,
   "id": "912fbf6b",
   "metadata": {},
   "outputs": [],
   "source": [
    "for i, row in train_df.iterrows():\n",
    "    lead_tuple = (row[\"lead_id\"], row[\"project_id\"])\n",
    "\n",
    "    assert lead_tuple in lead_tuples"
   ]
  },
  {
   "cell_type": "code",
   "execution_count": 8,
   "id": "5b5d1eb7",
   "metadata": {},
   "outputs": [],
   "source": [
    "leads_old = set(\n",
    "    glob(\"data/frameworks_data/raw_data_excel_exports/dump/lead_previews/*.txt\")\n",
    ")\n",
    "leads_new = set(glob(\"texts/*.txt\"))"
   ]
  },
  {
   "cell_type": "code",
   "execution_count": 9,
   "id": "1bd890d3",
   "metadata": {},
   "outputs": [
    {
     "name": "stdout",
     "output_type": "stream",
     "text": [
      "dump\t\t      geo_geoarea.csv\t\t     projects_properties.csv\r\n",
      "exports.7z\t      geo_region.csv\t\t     Readme.txt\r\n",
      "exports_decoupled.7z  organization_organization.csv\r\n"
     ]
    }
   ],
   "source": [
    "!ls data/frameworks_data/raw_data_excel_exports/"
   ]
  },
  {
   "cell_type": "code",
   "execution_count": 40,
   "id": "59bc8fad",
   "metadata": {},
   "outputs": [
    {
     "data": {
      "application/vnd.jupyter.widget-view+json": {
       "model_id": "aab26964397d4fb785512fe379ab3786",
       "version_major": 2,
       "version_minor": 0
      },
      "text/plain": [
       "0it [00:00, ?it/s]"
      ]
     },
     "metadata": {},
     "output_type": "display_data"
    }
   ],
   "source": [
    "full_texts_old = {}\n",
    "full_texts_new = {}\n",
    "\n",
    "for i, row in tqdm(leads.iterrows()):\n",
    "    lead_id = row[\"id\"]\n",
    "    project_id = row[\"project_id\"]\n",
    "    old_name = f\"data/frameworks_data/raw_data_excel_exports/dump/lead_previews/leadid_{lead_id}_projectid_{project_id}_leadpreview.txt\"\n",
    "    new_name = str(\n",
    "        Path(\"texts\") / Path(row[\"url\"].rstrip(\"/\").split(\"/\")[-1]).with_suffix(\".txt\")\n",
    "        if row[\"url\"] is not np.nan\n",
    "        else None\n",
    "    )\n",
    "\n",
    "    if old_name in leads_old:\n",
    "        if (lead_id, project_id) not in full_texts_old:\n",
    "            text = open(old_name).read()\n",
    "            text = re.sub(\"\\n+\", \"\\n\", text)\n",
    "            full_texts_old[(lead_id, project_id)] = text\n",
    "    if new_name in leads_new:\n",
    "        if (lead_id, project_id) not in full_texts_new:\n",
    "            text = \"\\n\".join(line for line in open(new_name) if not line.startswith(\"*********\"))\n",
    "            text = re.sub(\"\\n+\", \"\\n\", text)\n",
    "            full_texts_new[(lead_id, project_id)] = text"
   ]
  },
  {
   "cell_type": "code",
   "execution_count": 42,
   "id": "364f3cc1",
   "metadata": {},
   "outputs": [
    {
     "data": {
      "text/plain": [
       "(46218, 2534)"
      ]
     },
     "execution_count": 42,
     "metadata": {},
     "output_type": "execute_result"
    }
   ],
   "source": [
    "len(full_texts_old), len(full_texts_new)"
   ]
  },
  {
   "cell_type": "code",
   "execution_count": 19,
   "id": "2da2eb5f",
   "metadata": {},
   "outputs": [
    {
     "data": {
      "text/plain": [
       "8811"
      ]
     },
     "execution_count": 19,
     "metadata": {},
     "output_type": "execute_result"
    }
   ],
   "source": [
    "train_df = train_df[\n",
    "    train_df.apply(\n",
    "        lambda row: (row[\"lead_id\"], row[\"project_id\"]) in full_texts_old and (row[\"lead_id\"], row[\"project_id\"]) in full_texts_new, axis=1\n",
    "    )\n",
    "]\n",
    "len(train_df)"
   ]
  },
  {
   "cell_type": "code",
   "execution_count": 20,
   "id": "52de8a1e",
   "metadata": {},
   "outputs": [],
   "source": [
    "language_map = {}\n",
    "\n",
    "for (i, group) in train_df.groupby(by=[\"lead_id\", \"project_id\"])[\"lang\"]:\n",
    "    counts = group.value_counts()\n",
    "\n",
    "    language_map[i] = counts.index[0]"
   ]
  },
  {
   "cell_type": "markdown",
   "id": "adaefa7f",
   "metadata": {},
   "source": [
    "# Reduction to Sentence Level"
   ]
  },
  {
   "cell_type": "code",
   "execution_count": 29,
   "id": "cc7e608b-f73a-4e01-a4b4-e6b0973b2c2c",
   "metadata": {},
   "outputs": [],
   "source": [
    "import nnsplit\n",
    "import spacy\n",
    "\n",
    "splitter_en = nnsplit.NNSplit.load(\"en\")\n",
    "splitter_es = nnsplit.NNSplit.load(\"en\")\n",
    "splitter_fr = nnsplit.NNSplit.load(\"fr\")\n",
    "\n",
    "def split_texts_nnsplit(texts, languages):\n",
    "    output = {}\n",
    "    \n",
    "    for (splitter, lang) in ([splitter_es, \"es\"], [splitter_en, \"en\"], [splitter_fr, \"fr\"]):\n",
    "        indices = [key for key, value in languages.items() if value == lang]\n",
    "        t = [texts[i] for i in indices]\n",
    "        \n",
    "        for i, splits in tqdm(zip(indices, splitter.split(t))):\n",
    "            output[i] = [str(sentence) for sentence in splits]\n",
    "            \n",
    "    return output"
   ]
  },
  {
   "cell_type": "code",
   "execution_count": 17,
   "id": "4b34d5bd",
   "metadata": {},
   "outputs": [
    {
     "data": {
      "application/vnd.jupyter.widget-view+json": {
       "model_id": "adcf7917ab7e4d50a676ada4117d2cfe",
       "version_major": 2,
       "version_minor": 0
      },
      "text/plain": [
       "0it [00:00, ?it/s]"
      ]
     },
     "metadata": {},
     "output_type": "display_data"
    },
    {
     "data": {
      "application/vnd.jupyter.widget-view+json": {
       "model_id": "2bce822c50ce40cba2a45a7d810347af",
       "version_major": 2,
       "version_minor": 0
      },
      "text/plain": [
       "0it [00:00, ?it/s]"
      ]
     },
     "metadata": {},
     "output_type": "display_data"
    },
    {
     "data": {
      "application/vnd.jupyter.widget-view+json": {
       "model_id": "c7e4366dd9c143768fba6e5a9127f6fa",
       "version_major": 2,
       "version_minor": 0
      },
      "text/plain": [
       "0it [00:00, ?it/s]"
      ]
     },
     "metadata": {},
     "output_type": "display_data"
    }
   ],
   "source": [
    "output_nnsplit = split_texts_nnsplit(full_texts_old, language_map)"
   ]
  },
  {
   "cell_type": "code",
   "execution_count": 46,
   "id": "b1f14211",
   "metadata": {},
   "outputs": [],
   "source": [
    "nlp_en = spacy.load(\"en_core_web_sm\", disable=[\"ner\"])\n",
    "nlp_fr = spacy.load(\"fr_core_news_sm\", disable=[\"ner\"])\n",
    "nlp_es = spacy.load(\"es_core_news_sm\", disable=[\"ner\"])\n",
    "\n",
    "def split_texts_spacy(texts, languages):\n",
    "    output = {}\n",
    "    \n",
    "    for (nlp, lang) in ([nlp_es, \"es\"], [nlp_en, \"en\"], [nlp_fr, \"fr\"]):\n",
    "        indices = [key for key, value in languages.items() if value == lang]\n",
    "        t = [texts[i] for i in indices]\n",
    "        \n",
    "        for i, doc in tqdm(zip(indices, nlp.pipe(t))):\n",
    "            output[i] = [x for sentence in doc.sents for x in str(sentence).strip().split(\"\\n\")] + [str(sentence) for sentence in doc.sents]\n",
    "            \n",
    "    return output"
   ]
  },
  {
   "cell_type": "code",
   "execution_count": 47,
   "id": "b64785b1",
   "metadata": {},
   "outputs": [
    {
     "data": {
      "application/vnd.jupyter.widget-view+json": {
       "model_id": "3dd3568859c24566b19f15220589f830",
       "version_major": 2,
       "version_minor": 0
      },
      "text/plain": [
       "0it [00:00, ?it/s]"
      ]
     },
     "metadata": {},
     "output_type": "display_data"
    },
    {
     "data": {
      "application/vnd.jupyter.widget-view+json": {
       "model_id": "8b28bd0e79134bedb2de117bffd7bde7",
       "version_major": 2,
       "version_minor": 0
      },
      "text/plain": [
       "0it [00:00, ?it/s]"
      ]
     },
     "metadata": {},
     "output_type": "display_data"
    },
    {
     "data": {
      "application/vnd.jupyter.widget-view+json": {
       "model_id": "6ab86f20512e4574bc90c3a4f076a0c3",
       "version_major": 2,
       "version_minor": 0
      },
      "text/plain": [
       "0it [00:00, ?it/s]"
      ]
     },
     "metadata": {},
     "output_type": "display_data"
    }
   ],
   "source": [
    "output_spacy = split_texts_spacy(full_texts_new, language_map)"
   ]
  },
  {
   "cell_type": "code",
   "execution_count": 49,
   "id": "3c739d7a",
   "metadata": {},
   "outputs": [],
   "source": [
    "def find_sentence_match(row):\n",
    "    lead_id = row[\"lead_id\"]\n",
    "    project_id = row[\"project_id\"]\n",
    "\n",
    "    if row[\"lang\"] == \"es\":\n",
    "        nlp = nlp_es\n",
    "    elif row[\"lang\"] == \"en\":\n",
    "        nlp = nlp_en\n",
    "    elif row[\"lang\"] == \"fr\":\n",
    "        nlp = nlp_fr\n",
    "\n",
    "    excerpt_sentences = [str(s) for s in nlp(row[\"excerpt\"]).sents]\n",
    "    sentences = output_spacy[(lead_id, project_id)]\n",
    "\n",
    "    if len(sentences) == 0:\n",
    "        return None\n",
    "\n",
    "    best_matches = []\n",
    "\n",
    "    for excerpt_sentence in excerpt_sentences:\n",
    "        best_matches.append(\n",
    "            sorted(\n",
    "                [(s, rust_utils.levenshtein(s, excerpt_sentence)) for s in sentences],\n",
    "                key=lambda x: x[1],\n",
    "            )[0]\n",
    "        )\n",
    "    return best_matches"
   ]
  },
  {
   "cell_type": "code",
   "execution_count": 50,
   "id": "56eb6904",
   "metadata": {},
   "outputs": [
    {
     "data": {
      "application/vnd.jupyter.widget-view+json": {
       "model_id": "efc6c832c5e545a2b679348883d42e93",
       "version_major": 2,
       "version_minor": 0
      },
      "text/plain": [
       "  0%|          | 0/8811 [00:00<?, ?it/s]"
      ]
     },
     "metadata": {},
     "output_type": "display_data"
    }
   ],
   "source": [
    "sentence_matches = train_df.progress_apply(find_sentence_match, axis=1)"
   ]
  },
  {
   "cell_type": "code",
   "execution_count": 51,
   "id": "723226a7",
   "metadata": {},
   "outputs": [
    {
     "data": {
      "text/plain": [
       "8811"
      ]
     },
     "execution_count": 51,
     "metadata": {},
     "output_type": "execute_result"
    }
   ],
   "source": [
    "len(train_df)"
   ]
  },
  {
   "cell_type": "code",
   "execution_count": 56,
   "id": "153a3316",
   "metadata": {},
   "outputs": [
    {
     "data": {
      "text/plain": [
       "entry_id                                                              187192\n",
       "excerpt                    Atenciones médicas llevadas a cabo desde los C...\n",
       "analysis_framework_id                                                    829\n",
       "lead_id                                                              34290.0\n",
       "project_id                                                            1900.0\n",
       "verified                                                               False\n",
       "sectors                                                           ['Health']\n",
       "subpillars_2d                                                             []\n",
       "subpillars_1d                                                             []\n",
       "geo_location                                                    ['Honduras']\n",
       "specific_needs_groups                                                     []\n",
       "severity                                                                  []\n",
       "info_date                                                            UNKNOWN\n",
       "age                                                                       []\n",
       "gender                                                                    []\n",
       "reliability                                             ['Usually reliable']\n",
       "affected_groups_level_0                                              ['All']\n",
       "affected_groups_level_1                                         ['Affected']\n",
       "affected_groups_level_2                                                   []\n",
       "affected_groups_level_3                                                   []\n",
       "source_type                                                          website\n",
       "url                        https://reliefweb.int/sites/reliefweb.int/file...\n",
       "website                                                           redhum.org\n",
       "lang                                                                      es\n",
       "translation_en             Medical attentions carried out from the CT.  ...\n",
       "translation_fr             Attentions médicales effectuées à partir du CT...\n",
       "translation_es                                                           NaN\n",
       "Name: 44, dtype: object"
      ]
     },
     "execution_count": 56,
     "metadata": {},
     "output_type": "execute_result"
    }
   ],
   "source": [
    "train_df.loc[44]"
   ]
  },
  {
   "cell_type": "code",
   "execution_count": 53,
   "id": "a91517a1",
   "metadata": {},
   "outputs": [
    {
     "data": {
      "text/plain": [
       "[('\\uf0a7 Atenciones médicas llevadas a cabo desde los CT.', 4),\n",
       " ('\\uf0a7 Traslado de paciente desde CAT INFOP Miraflores hacia Hospital Escuela Universitario.',\n",
       "  60),\n",
       " ('Inmediata ERI asegurando el bienestar de la población.', 62),\n",
       " ('\\uf0a7 Operación Honduras Solidaria llevada a cabo en el departamento de Gracias a Dios.',\n",
       "  75)]"
      ]
     },
     "execution_count": 53,
     "metadata": {},
     "output_type": "execute_result"
    }
   ],
   "source": [
    "sentence_matches.loc[44]"
   ]
  },
  {
   "cell_type": "code",
   "execution_count": 54,
   "id": "556e2105",
   "metadata": {},
   "outputs": [
    {
     "data": {
      "text/plain": [
       "14          4\n",
       "44        201\n",
       "60         55\n",
       "62          0\n",
       "72         30\n",
       "         ... \n",
       "126041    165\n",
       "126042     47\n",
       "126043    103\n",
       "126071    147\n",
       "126082      0\n",
       "Length: 8811, dtype: int64"
      ]
     },
     "execution_count": 54,
     "metadata": {},
     "output_type": "execute_result"
    }
   ],
   "source": [
    "sentence_matches.apply(lambda matches: sum(x[1] for x in matches) if matches is not None else 0)"
   ]
  },
  {
   "cell_type": "code",
   "execution_count": 55,
   "id": "8dbb6d62",
   "metadata": {},
   "outputs": [
    {
     "data": {
      "text/plain": [
       "654306"
      ]
     },
     "execution_count": 55,
     "metadata": {},
     "output_type": "execute_result"
    }
   ],
   "source": [
    "sentence_matches.apply(lambda matches: sum(x[1] for x in matches) if matches is not None else 0).sum()"
   ]
  },
  {
   "cell_type": "markdown",
   "id": "fa8958e2",
   "metadata": {},
   "source": [
    "# Working on Char Level"
   ]
  },
  {
   "cell_type": "code",
   "execution_count": 43,
   "id": "cb7db795",
   "metadata": {},
   "outputs": [
    {
     "data": {
      "application/vnd.jupyter.widget-view+json": {
       "model_id": "c936c048139044e1b4670ac35bc448e8",
       "version_major": 2,
       "version_minor": 0
      },
      "text/plain": [
       "  0%|          | 0/8811 [00:00<?, ?it/s]"
      ]
     },
     "metadata": {},
     "output_type": "display_data"
    }
   ],
   "source": [
    "def exact_match(row):\n",
    "    lead_id = row[\"lead_id\"]\n",
    "    project_id = row[\"project_id\"]\n",
    "\n",
    "    return row[\"excerpt\"] in full_texts_old[(lead_id, project_id)]\n",
    "\n",
    "exact_matches = train_df.progress_apply(exact_match, axis=1)"
   ]
  },
  {
   "cell_type": "code",
   "execution_count": 44,
   "id": "e6317059",
   "metadata": {},
   "outputs": [
    {
     "data": {
      "text/plain": [
       "(4799, 0.5446600839859267)"
      ]
     },
     "execution_count": 44,
     "metadata": {},
     "output_type": "execute_result"
    }
   ],
   "source": [
    "exact_matches.sum(), exact_matches.mean()"
   ]
  },
  {
   "cell_type": "code",
   "execution_count": 45,
   "id": "64294864",
   "metadata": {},
   "outputs": [
    {
     "data": {
      "text/html": [
       "<div>\n",
       "<style scoped>\n",
       "    .dataframe tbody tr th:only-of-type {\n",
       "        vertical-align: middle;\n",
       "    }\n",
       "\n",
       "    .dataframe tbody tr th {\n",
       "        vertical-align: top;\n",
       "    }\n",
       "\n",
       "    .dataframe thead th {\n",
       "        text-align: right;\n",
       "    }\n",
       "</style>\n",
       "<table border=\"1\" class=\"dataframe\">\n",
       "  <thead>\n",
       "    <tr style=\"text-align: right;\">\n",
       "      <th></th>\n",
       "      <th>entry_id</th>\n",
       "      <th>excerpt</th>\n",
       "      <th>analysis_framework_id</th>\n",
       "      <th>lead_id</th>\n",
       "      <th>project_id</th>\n",
       "      <th>verified</th>\n",
       "      <th>sectors</th>\n",
       "      <th>subpillars_2d</th>\n",
       "      <th>subpillars_1d</th>\n",
       "      <th>geo_location</th>\n",
       "      <th>...</th>\n",
       "      <th>affected_groups_level_1</th>\n",
       "      <th>affected_groups_level_2</th>\n",
       "      <th>affected_groups_level_3</th>\n",
       "      <th>source_type</th>\n",
       "      <th>url</th>\n",
       "      <th>website</th>\n",
       "      <th>lang</th>\n",
       "      <th>translation_en</th>\n",
       "      <th>translation_fr</th>\n",
       "      <th>translation_es</th>\n",
       "    </tr>\n",
       "  </thead>\n",
       "  <tbody>\n",
       "    <tr>\n",
       "      <th>44</th>\n",
       "      <td>187192</td>\n",
       "      <td>Atenciones médicas llevadas a cabo desde los C...</td>\n",
       "      <td>829</td>\n",
       "      <td>34290.0</td>\n",
       "      <td>1900.0</td>\n",
       "      <td>False</td>\n",
       "      <td>['Health']</td>\n",
       "      <td>[]</td>\n",
       "      <td>[]</td>\n",
       "      <td>['Honduras']</td>\n",
       "      <td>...</td>\n",
       "      <td>['Affected']</td>\n",
       "      <td>[]</td>\n",
       "      <td>[]</td>\n",
       "      <td>website</td>\n",
       "      <td>https://reliefweb.int/sites/reliefweb.int/file...</td>\n",
       "      <td>redhum.org</td>\n",
       "      <td>es</td>\n",
       "      <td>Medical attentions carried out from the CT.  ...</td>\n",
       "      <td>Attentions médicales effectuées à partir du CT...</td>\n",
       "      <td>NaN</td>\n",
       "    </tr>\n",
       "    <tr>\n",
       "      <th>60</th>\n",
       "      <td>185135</td>\n",
       "      <td>47%desea recibir información acerca de las com...</td>\n",
       "      <td>829</td>\n",
       "      <td>39920.0</td>\n",
       "      <td>1231.0</td>\n",
       "      <td>False</td>\n",
       "      <td>['Cross']</td>\n",
       "      <td>['Humanitarian Conditions-&gt;Living Standards']</td>\n",
       "      <td>[]</td>\n",
       "      <td>['DO']</td>\n",
       "      <td>...</td>\n",
       "      <td>['Affected']</td>\n",
       "      <td>[]</td>\n",
       "      <td>[]</td>\n",
       "      <td>website</td>\n",
       "      <td>https://reliefweb.int/sites/reliefweb.int/file...</td>\n",
       "      <td>reliefweb.int</td>\n",
       "      <td>es</td>\n",
       "      <td>47% wish to receive information about the comm...</td>\n",
       "      <td>47% souhaitent recevoir des informations sur l...</td>\n",
       "      <td>NaN</td>\n",
       "    </tr>\n",
       "    <tr>\n",
       "      <th>72</th>\n",
       "      <td>185140</td>\n",
       "      <td>46% de las personas encuestadas no genera ingr...</td>\n",
       "      <td>829</td>\n",
       "      <td>39920.0</td>\n",
       "      <td>1231.0</td>\n",
       "      <td>False</td>\n",
       "      <td>['Livelihoods']</td>\n",
       "      <td>['Humanitarian Conditions-&gt;Living Standards']</td>\n",
       "      <td>[]</td>\n",
       "      <td>['DO']</td>\n",
       "      <td>...</td>\n",
       "      <td>['Affected']</td>\n",
       "      <td>[]</td>\n",
       "      <td>[]</td>\n",
       "      <td>website</td>\n",
       "      <td>https://reliefweb.int/sites/reliefweb.int/file...</td>\n",
       "      <td>reliefweb.int</td>\n",
       "      <td>es</td>\n",
       "      <td>46% of the people surveyed does not generate i...</td>\n",
       "      <td>46% des personnes interrogées ne génèrent pas ...</td>\n",
       "      <td>NaN</td>\n",
       "    </tr>\n",
       "    <tr>\n",
       "      <th>107</th>\n",
       "      <td>187881</td>\n",
       "      <td>[21 Oct 2020] [NWS] New cases: 308 | Total cas...</td>\n",
       "      <td>1306</td>\n",
       "      <td>42383.0</td>\n",
       "      <td>2028.0</td>\n",
       "      <td>False</td>\n",
       "      <td>[]</td>\n",
       "      <td>[]</td>\n",
       "      <td>['Covid-19-&gt;Deaths', 'Covid-19-&gt;Cases', 'Covid...</td>\n",
       "      <td>['Northwest']</td>\n",
       "      <td>...</td>\n",
       "      <td>[]</td>\n",
       "      <td>[]</td>\n",
       "      <td>[]</td>\n",
       "      <td>website</td>\n",
       "      <td>https://www.acu-sy.org/wp-content/uploads/2017...</td>\n",
       "      <td>www.acu-sy.org</td>\n",
       "      <td>en</td>\n",
       "      <td>NaN</td>\n",
       "      <td>[21 oct. 2020] [NWS] Nouveaux cas: 308 | Total...</td>\n",
       "      <td>[21 oct 2020] [NWS] Casos nuevos: 308 | Casos ...</td>\n",
       "    </tr>\n",
       "    <tr>\n",
       "      <th>208</th>\n",
       "      <td>316441</td>\n",
       "      <td>• 78 % des personnes ciblées par le HRP 2020 o...</td>\n",
       "      <td>1306</td>\n",
       "      <td>54101.0</td>\n",
       "      <td>2225.0</td>\n",
       "      <td>False</td>\n",
       "      <td>['Cross']</td>\n",
       "      <td>['Capacities &amp; Response-&gt;Number Of People Reac...</td>\n",
       "      <td>[]</td>\n",
       "      <td>[]</td>\n",
       "      <td>...</td>\n",
       "      <td>[]</td>\n",
       "      <td>[]</td>\n",
       "      <td>[]</td>\n",
       "      <td>website</td>\n",
       "      <td>https://www.humanitarianresponse.info/sites/ww...</td>\n",
       "      <td>www.humanitarianresponse.info</td>\n",
       "      <td>fr</td>\n",
       "      <td>• 78% of people targeted by the HRP 2020 have ...</td>\n",
       "      <td>NaN</td>\n",
       "      <td>• El 78% de las personas dirigidas por la HRP ...</td>\n",
       "    </tr>\n",
       "  </tbody>\n",
       "</table>\n",
       "<p>5 rows × 27 columns</p>\n",
       "</div>"
      ],
      "text/plain": [
       "     entry_id                                            excerpt  \\\n",
       "44     187192  Atenciones médicas llevadas a cabo desde los C...   \n",
       "60     185135  47%desea recibir información acerca de las com...   \n",
       "72     185140  46% de las personas encuestadas no genera ingr...   \n",
       "107    187881  [21 Oct 2020] [NWS] New cases: 308 | Total cas...   \n",
       "208    316441  • 78 % des personnes ciblées par le HRP 2020 o...   \n",
       "\n",
       "     analysis_framework_id  lead_id  project_id verified          sectors  \\\n",
       "44                     829  34290.0      1900.0    False       ['Health']   \n",
       "60                     829  39920.0      1231.0    False        ['Cross']   \n",
       "72                     829  39920.0      1231.0    False  ['Livelihoods']   \n",
       "107                   1306  42383.0      2028.0    False               []   \n",
       "208                   1306  54101.0      2225.0    False        ['Cross']   \n",
       "\n",
       "                                         subpillars_2d  \\\n",
       "44                                                  []   \n",
       "60       ['Humanitarian Conditions->Living Standards']   \n",
       "72       ['Humanitarian Conditions->Living Standards']   \n",
       "107                                                 []   \n",
       "208  ['Capacities & Response->Number Of People Reac...   \n",
       "\n",
       "                                         subpillars_1d   geo_location  ...  \\\n",
       "44                                                  []   ['Honduras']  ...   \n",
       "60                                                  []         ['DO']  ...   \n",
       "72                                                  []         ['DO']  ...   \n",
       "107  ['Covid-19->Deaths', 'Covid-19->Cases', 'Covid...  ['Northwest']  ...   \n",
       "208                                                 []             []  ...   \n",
       "\n",
       "    affected_groups_level_1 affected_groups_level_2 affected_groups_level_3  \\\n",
       "44             ['Affected']                      []                      []   \n",
       "60             ['Affected']                      []                      []   \n",
       "72             ['Affected']                      []                      []   \n",
       "107                      []                      []                      []   \n",
       "208                      []                      []                      []   \n",
       "\n",
       "    source_type                                                url  \\\n",
       "44      website  https://reliefweb.int/sites/reliefweb.int/file...   \n",
       "60      website  https://reliefweb.int/sites/reliefweb.int/file...   \n",
       "72      website  https://reliefweb.int/sites/reliefweb.int/file...   \n",
       "107     website  https://www.acu-sy.org/wp-content/uploads/2017...   \n",
       "208     website  https://www.humanitarianresponse.info/sites/ww...   \n",
       "\n",
       "                           website lang  \\\n",
       "44                      redhum.org   es   \n",
       "60                   reliefweb.int   es   \n",
       "72                   reliefweb.int   es   \n",
       "107                 www.acu-sy.org   en   \n",
       "208  www.humanitarianresponse.info   fr   \n",
       "\n",
       "                                        translation_en  \\\n",
       "44   Medical attentions carried out from the CT.  ...   \n",
       "60   47% wish to receive information about the comm...   \n",
       "72   46% of the people surveyed does not generate i...   \n",
       "107                                                NaN   \n",
       "208  • 78% of people targeted by the HRP 2020 have ...   \n",
       "\n",
       "                                        translation_fr  \\\n",
       "44   Attentions médicales effectuées à partir du CT...   \n",
       "60   47% souhaitent recevoir des informations sur l...   \n",
       "72   46% des personnes interrogées ne génèrent pas ...   \n",
       "107  [21 oct. 2020] [NWS] Nouveaux cas: 308 | Total...   \n",
       "208                                                NaN   \n",
       "\n",
       "                                        translation_es  \n",
       "44                                                 NaN  \n",
       "60                                                 NaN  \n",
       "72                                                 NaN  \n",
       "107  [21 oct 2020] [NWS] Casos nuevos: 308 | Casos ...  \n",
       "208  • El 78% de las personas dirigidas por la HRP ...  \n",
       "\n",
       "[5 rows x 27 columns]"
      ]
     },
     "execution_count": 45,
     "metadata": {},
     "output_type": "execute_result"
    }
   ],
   "source": [
    "train_df[~exact_matches].head()"
   ]
  },
  {
   "cell_type": "code",
   "execution_count": 49,
   "id": "a1825c94",
   "metadata": {},
   "outputs": [],
   "source": [
    "def find_fuzzy_match(row):\n",
    "    lead_id = row[\"lead_id\"]\n",
    "    project_id = row[\"project_id\"]\n",
    "\n",
    "    full_text = full_texts_old[(lead_id, project_id)]\n",
    "    matches = sorted(\n",
    "        rust_utils.levenshtein_search(row[\"excerpt\"], full_text), key=lambda m: m[2]\n",
    "    )\n",
    "\n",
    "    if len(matches) == 0:\n",
    "        return None\n",
    "\n",
    "    m = matches[0]\n",
    "    excerpt = None    \n",
    "    \n",
    "    for i in (0, -1, 1):\n",
    "        for j in (0, 1, -1):\n",
    "            try:\n",
    "                excerpt = full_text.encode(\"utf-8\")[m[0] + i : m[1] + j].decode(\"utf-8\")\n",
    "                break\n",
    "            except UnicodeDecodeError:\n",
    "                pass\n",
    "        if excerpt is not None:\n",
    "            break\n",
    "                \n",
    "    return (excerpt, m[2])"
   ]
  },
  {
   "cell_type": "code",
   "execution_count": 50,
   "id": "0b88d9fa",
   "metadata": {},
   "outputs": [
    {
     "data": {
      "application/vnd.jupyter.widget-view+json": {
       "model_id": "a0eef95735414d5586eeaa7ddee7c729",
       "version_major": 2,
       "version_minor": 0
      },
      "text/plain": [
       "  0%|          | 0/4012 [00:00<?, ?it/s]"
      ]
     },
     "metadata": {},
     "output_type": "display_data"
    }
   ],
   "source": [
    "fuzzy_matches = train_df[~exact_matches].progress_apply(find_fuzzy_match, axis=1)"
   ]
  },
  {
   "cell_type": "code",
   "execution_count": 54,
   "id": "e1692d1c",
   "metadata": {},
   "outputs": [
    {
     "data": {
      "text/plain": [
       "105851"
      ]
     },
     "execution_count": 54,
     "metadata": {},
     "output_type": "execute_result"
    }
   ],
   "source": [
    "fuzzy_matches.apply(lambda x: x[1] if x is not None else 0).sum()"
   ]
  },
  {
   "cell_type": "code",
   "execution_count": 51,
   "id": "fbe54a34",
   "metadata": {},
   "outputs": [
    {
     "data": {
      "text/plain": [
       "0.05982053838484546"
      ]
     },
     "execution_count": 51,
     "metadata": {},
     "output_type": "execute_result"
    }
   ],
   "source": [
    "fuzzy_matches.isna().mean()"
   ]
  },
  {
   "cell_type": "code",
   "execution_count": 21,
   "id": "9b8ec98b",
   "metadata": {},
   "outputs": [],
   "source": [
    "problem_df = train_df[~exact_matches][fuzzy_matches.isna()]\n",
    "problem_df_sample = problem_df.sample(n=5)"
   ]
  },
  {
   "cell_type": "code",
   "execution_count": 48,
   "id": "c3eb3332",
   "metadata": {},
   "outputs": [],
   "source": [
    "with open(\"no_fuzzy_match.txt\", \"w\") as f:\n",
    "    for i, pdf in problem_df[\"url\"].str.split(\"/\").apply(lambda x: x[-1]).unique():\n",
    "        f.write(pdf + \"\\n\")"
   ]
  },
  {
   "cell_type": "code",
   "execution_count": 40,
   "id": "115cdead",
   "metadata": {},
   "outputs": [
    {
     "name": "stdout",
     "output_type": "stream",
     "text": [
      "Syria%20Arab%20Republic%20-%20Shelter-NFI%20Sector%20Whole%20of%20Syria%20Winter%20Assistance%20Update%20%28As%20of%201%20January%202021%29.pdf\n",
      "[1 January, 2020, Syria] An estimated 33 per cent of IDPs live in inadequate shelter conditions, including damaged and/or unfinished buildings, public buildings such as schools, and other non-residential buildings.\n",
      "********* [PAGE 1 START] *********\n",
      "************************\n",
      "487 K\n",
      "************************\n",
      "Gap due to unsecured funding Can be reached with available\n",
      "************************\n",
      "USD 96 M\n",
      "************************\n",
      "© UNHCR/ Hameed Maarouf\n",
      "************************\n",
      "Gap in funding Funding Secured\n",
      "************************\n",
      "USD 24.5 M\n",
      "********* [PAGE 1 END] *********\n",
      "\n",
      "********* [PAGE 2 START] *********\n",
      "************************\n",
      "Individuals Targeted Gap due to unsecured funding 1.3 M Can be reached with 848 K available funding Modality In-kind, voucher Coverage All Governorates ** Targeted individuals represent the partner’s capacity to respond\n",
      "************************\n",
      "In-kind, voucher, cash Aleppo, Idleb\n",
      "************************\n",
      "In-kind, voucher, cash Aleppo, Al-Hasakeh, Ar-Raqqa, Deir-ez-Zor\n",
      "********* [PAGE 2 END] *********\n",
      "\n",
      "In 2020, an estimated 11.06 million people are in need of some form of humanitarian assistance in Syria. This includes 4.65 million people in acute need. As the crisis enters its tenth year, 6.7 million people remain internally displaced, which is further exacerbated by the COVID-19 epidemic and deteriorating economic conditions. An estimated 33 per cent of IDPs live in inadequate shelter conditions, including damaged and/or unfinished buildings, public buildings such as schools, and other non-residential buildings. Geographically, poor shelter conditions are most prevalent in Aleppo, Idleb, Rural Damascus Raqqa governorates and the camps in the northeast and northwest. The health and safety effects of such conditions become more profound during the winter. Needs for Shelter & NFI assistance remain significant and response is still limited in comparison to needs. Nearly 4 million people are living in areas of high elevation, snowfall and extreme winter weather. Currently, the sectors’ partners aim to deliver life- saving winter assistance to 3.0M vulnerable individuals, the targeted number is based on the partner’s capacity and expected funding; it does not represent the total number of people estimated in need of winter assistance.. The main target for assistance is beneficiaries residing in camps, collective shelters, informal settlements and areas of high altitude and snowfall. The Sectors will utilize a variety of response mechanisms including cash support, vouchers and in-kind distributions. As of 1 January, partners have been able to reach more than 1.6 million individuals across Syria with planned winterization activities and will continue to deliver assistance through the upcoming months. Critical gaps have been identified in the informal settlements in Northwest where mainly tents and makeshift shelters are not appropriately weatherized to withstand harsh conditions. In Northeast, deteriorating, poorly isolated and overcrowded collective shelters are putting residents at a greater risk of contracting Covid-19, especially with the approaching winter. Many continue to live in areas with high elevation and snowfall with inadequate shelter including Rural Damascus. Across the country heating solutions and fuel are an urgent need. \n",
      "\n",
      "\n",
      "2.6M \n",
      "\n",
      "(84%) \n",
      "\n",
      "\n",
      "© UNHCR/ Hameed Maarouf \n",
      "\n",
      "USD 24.5 M \n",
      "\n",
      "(20%) \n",
      "\n",
      "USD 120.5 M\n",
      "\n",
      "Total Funding\n",
      "\n",
      "\n",
      "3.0 M\n",
      "\n",
      "487 K \n",
      "\n",
      "(16%) \n",
      "\n",
      "Targeted\n",
      "\n",
      "\n",
      "USD 96 M \n",
      "\n",
      "(80%) \n",
      "\n",
      "\n",
      "Gap due to unsecured funding \n",
      "\n",
      "Can be reached with available funding \n",
      "\n",
      "Gap in funding \n",
      "\n",
      "Funding Secured \n",
      "\n",
      "487 K - individuals unable to be reached \n",
      "\n",
      "USD 24.5 M - Funding Gap \n",
      "\n",
      "\n",
      "Response \n",
      "\n",
      "\n",
      "Syria Hub \n",
      "\n",
      "\n",
      "Turkey XB Hub \n",
      "\n",
      "\n",
      "Northeast Syria \n",
      "\n",
      "Winter Items \n",
      "\n",
      "\n",
      "Sleeping bags, high thermal blankets, plastic sheeting, jackets, winter clothing kits for adults and children, tents, Flood kits (where needed) as well as NFI kits including jerry cans, kitchen sets, mattresses, solar lamps \n",
      "\n",
      "Blankets, winter clothing kits for adults and children, Heater stoves, Heating fuel, NFI kits including mattresses, sleeping mats, carpets, plastic sheeting, jerry cans, kitchen sets, solar lamps \n",
      "\n",
      "\n",
      "Blankets, winter clothing kits for adults and children, Heater stoves, Heating fuel, Fire extinguisher, NFI kits including mattresses, sleeping mats, carpets, plastic sheeting, jerry cans \n",
      "\n",
      "Individuals reached \n",
      "\n",
      "\n",
      "495,357 \n",
      "\n",
      "\n",
      "864,874 \n",
      "\n",
      "\n",
      "255,248 \n",
      "\n",
      "\n",
      "*As of 1 January– wil be updated monthly per partner’s achievements in winter outreach \n",
      "\n",
      "\n",
      "Individuals Targeted \n",
      "\n",
      "\n",
      "Gap due to unsecured funding \n",
      "\n",
      "\n",
      "Can be reached with available funding \n",
      "\n",
      "848 K \n",
      "\n",
      "(64%) \n",
      "\n",
      "487K \n",
      "\n",
      "(36%) \n",
      "\n",
      "1.3 M\n",
      "\n",
      "Targeted\n",
      "\n",
      "1.5 M\n",
      "\n",
      "Targeted\n",
      "\n",
      "270,080\n",
      "\n",
      "Targeted\n",
      "\n",
      "Modality \n",
      "\n",
      "Coverage \n",
      "\n",
      "In-kind, voucher \n",
      "\n",
      "All Governorates \n",
      "\n",
      "In-kind, voucher, cash \n",
      "\n",
      "In-kind, voucher, cash \n",
      "\n",
      "Aleppo, Idleb \n",
      "\n",
      "Aleppo, Al-Hasakeh, Ar-Raqqa, Deir-ez-Zor \n",
      "\n",
      "** Targeted individuals represent the partner’s capacity to respond and not the total number of people in need of winter support \n",
      "\n",
      "\n",
      "USD 40 M \n",
      "\n",
      "(62%) \n",
      "\n",
      "Funding Gap \n",
      "\n",
      "\n",
      "Funding Secured \n",
      "\n",
      "Gap in funding \n",
      "\n",
      "USD 64.5M\n",
      "\n",
      "Total\n",
      "\n",
      "Funding\n",
      "\n",
      "USD 24.5M \n",
      "\n",
      "(38%) \n",
      "\n",
      "USD 42.9 M\n",
      "\n",
      "Total\n",
      "\n",
      "Funding\n",
      "\n",
      "USD 13M\n",
      "\n",
      "Total\n",
      "\n",
      "Funding\n",
      "\n",
      "***Funding secured by partners in NWS and NES is sufficient to cover their planned partners activities\n"
     ]
    }
   ],
   "source": [
    "def check(row):\n",
    "    print(row[\"url\"].split(\"/\")[-1])\n",
    "    print(row[\"excerpt\"])\n",
    "    \n",
    "    print(full_texts_new[(int(row[\"lead_id\"]), int(row[\"project_id\"]))])\n",
    "    print(full_texts_old[(int(row[\"lead_id\"]), int(row[\"project_id\"]))])\n",
    "    \n",
    "check(problem_df_sample.iloc[0])"
   ]
  },
  {
   "cell_type": "code",
   "execution_count": 90,
   "id": "44a2a7ea",
   "metadata": {},
   "outputs": [
    {
     "data": {
      "text/plain": [
       "en    6429\n",
       "fr    1320\n",
       "es    1062\n",
       "Name: lang, dtype: int64"
      ]
     },
     "execution_count": 90,
     "metadata": {},
     "output_type": "execute_result"
    }
   ],
   "source": [
    "train_df[\"lang\"].value_counts()"
   ]
  },
  {
   "cell_type": "markdown",
   "id": "85cac541",
   "metadata": {},
   "source": [
    "# Modelling"
   ]
  },
  {
   "cell_type": "code",
   "execution_count": 2,
   "id": "bd15834c",
   "metadata": {},
   "outputs": [],
   "source": [
    "from transformers import AutoTokenizer, AutoModel, AutoModelForTokenClassification\n",
    "import matplotlib.pyplot as plt\n",
    "import seaborn as sns\n",
    "import torch\n",
    "import numpy as np\n",
    "from torch.utils.data import Dataset, DataLoader, Subset, TensorDataset\n",
    "from sklearn.model_selection import train_test_split\n",
    "from tqdm.auto import tqdm\n",
    "\n",
    "sns.set()"
   ]
  },
  {
   "cell_type": "code",
   "execution_count": 93,
   "id": "b9f9ae44",
   "metadata": {},
   "outputs": [
    {
     "data": {
      "application/vnd.jupyter.widget-view+json": {
       "model_id": "409984692d314272a946d9f7a05bbf28",
       "version_major": 2,
       "version_minor": 0
      },
      "text/plain": [
       "  0%|          | 0/1713 [00:00<?, ?it/s]"
      ]
     },
     "metadata": {},
     "output_type": "display_data"
    }
   ],
   "source": [
    "texts = []\n",
    "excerpts = []\n",
    "\n",
    "for (lead_id, project_id), group in tqdm(train_df.groupby([\"lead_id\", \"project_id\"])):\n",
    "    text = full_texts_old[(lead_id, project_id)]\n",
    "    texts.append(text)\n",
    "    \n",
    "    exact_group_matches = exact_matches[group.index]\n",
    "                 \n",
    "    excerpt = group[exact_group_matches][\"excerpt\"].tolist()\n",
    "    excerpt.extend(fuzzy_matches[exact_group_matches[~exact_group_matches].index].dropna())\n",
    "    \n",
    "    for e in excerpt:\n",
    "        assert e in text\n",
    "    \n",
    "    excerpts.append(excerpt)"
   ]
  },
  {
   "cell_type": "code",
   "execution_count": 94,
   "id": "8a2d6d2c",
   "metadata": {},
   "outputs": [
    {
     "data": {
      "application/vnd.jupyter.widget-view+json": {
       "model_id": "651c936ed18a43ddb48cce1481eba49c",
       "version_major": 2,
       "version_minor": 0
      },
      "text/plain": [
       "Downloading:   0%|          | 0.00/525 [00:00<?, ?B/s]"
      ]
     },
     "metadata": {},
     "output_type": "display_data"
    },
    {
     "data": {
      "application/vnd.jupyter.widget-view+json": {
       "model_id": "03b094520b6246adbb13c339e1ca1041",
       "version_major": 2,
       "version_minor": 0
      },
      "text/plain": [
       "Downloading:   0%|          | 0.00/226k [00:00<?, ?B/s]"
      ]
     },
     "metadata": {},
     "output_type": "display_data"
    }
   ],
   "source": [
    "tokenizer = AutoTokenizer.from_pretrained(\"microsoft/xtremedistil-l6-h256-uncased\")"
   ]
  },
  {
   "cell_type": "code",
   "execution_count": 95,
   "id": "1ce4458e",
   "metadata": {},
   "outputs": [
    {
     "data": {
      "application/vnd.jupyter.widget-view+json": {
       "model_id": "dc906ba6047e44d683a6e574f0b7a15f",
       "version_major": 2,
       "version_minor": 0
      },
      "text/plain": [
       "  0%|          | 0/1713 [00:00<?, ?it/s]"
      ]
     },
     "metadata": {},
     "output_type": "display_data"
    },
    {
     "data": {
      "image/png": "[encoded data removed]",
      "text/plain": [
       "<Figure size 1008x504 with 1 Axes>"
      ]
     },
     "metadata": {},
     "output_type": "display_data"
    }
   ],
   "source": [
    "token_lengths = [len(tokenizer(text)[\"input_ids\"]) for text in tqdm(texts)]\n",
    "plt.figure(figsize=(14, 7))\n",
    "plt.hist(token_lengths, bins=30);"
   ]
  },
  {
   "cell_type": "code",
   "execution_count": 97,
   "id": "e60dbf35",
   "metadata": {},
   "outputs": [],
   "source": [
    "max_length = 512"
   ]
  },
  {
   "cell_type": "code",
   "execution_count": 100,
   "id": "15dbffac",
   "metadata": {},
   "outputs": [
    {
     "name": "stdout",
     "output_type": "stream",
     "text": [
      "Cutoff 80 labels!\n",
      "Cutoff 32 labels!\n",
      "Cutoff 584 labels!\n",
      "Cutoff 2092 labels!\n",
      "Cutoff 186 labels!\n",
      "Cutoff 186 labels!\n",
      "Cutoff 226 labels!\n",
      "Cutoff 1157 labels!\n",
      "Cutoff 148 labels!\n",
      "Cutoff 52 labels!\n",
      "Cutoff 221 labels!\n"
     ]
    }
   ],
   "source": [
    "def encode(text, excerpt, text_max_length=4096):\n",
    "    encoding = tokenizer(text, return_offsets_mapping=True)\n",
    "    labels_list = [False] * len(encoding[\"input_ids\"])\n",
    "    \n",
    "    for e in excerpt:\n",
    "        start_index = text.index(e)\n",
    "        end_index = start_index +  len(e)\n",
    "        \n",
    "        for i, offset in enumerate(encoding[\"offset_mapping\"]):\n",
    "            if offset[0] != offset[1] and offset[0] >= start_index and offset[1] <= end_index:\n",
    "                labels_list[i] = True\n",
    "    \n",
    "    length = min(text_max_length, len(encoding[\"input_ids\"]))\n",
    "    \n",
    "    input_ids = torch.zeros(text_max_length, dtype=torch.long)\n",
    "    input_ids[:length] = torch.tensor(encoding[\"input_ids\"][:length])\n",
    "    \n",
    "    attention_mask = torch.zeros(text_max_length, dtype=torch.long)\n",
    "    attention_mask[:length] = 1\n",
    "    \n",
    "    labels = torch.zeros(text_max_length, dtype=torch.long)\n",
    "    labels[:length] = torch.tensor(labels_list[:length])\n",
    "    \n",
    "    n_cutoff_labels = np.sum(labels_list[length:])\n",
    "    if n_cutoff_labels > 0:\n",
    "        print(f\"Cutoff {n_cutoff_labels} labels!\")\n",
    "    \n",
    "    factor = int(text_max_length / max_length)\n",
    "    \n",
    "    return {\n",
    "        \"input_ids\": input_ids.reshape((factor, -1)),\n",
    "        \"attention_mask\": attention_mask.reshape((factor, -1)),\n",
    "        \"labels\": labels.reshape((factor, -1))\n",
    "    }\n",
    "\n",
    "input_ids = []\n",
    "attention_mask = []\n",
    "labels = []\n",
    "\n",
    "for text, excerpt in zip(texts, excerpts):\n",
    "    sample = encode(text, excerpt)\n",
    "    \n",
    "    input_ids.extend(sample[\"input_ids\"])\n",
    "    attention_mask.extend(sample[\"attention_mask\"])\n",
    "    labels.extend(sample[\"labels\"])\n",
    "    \n",
    "input_ids = torch.stack(input_ids)\n",
    "attention_mask = torch.stack(attention_mask)\n",
    "labels = torch.stack(labels)"
   ]
  },
  {
   "cell_type": "code",
   "execution_count": 3,
   "id": "7d9ae107",
   "metadata": {},
   "outputs": [],
   "source": [
    "batch_size = 32\n",
    "device = torch.device(\"cuda\")\n",
    "learning_rate = 1e-5\n",
    "gradient_accumulation_steps = 2\n",
    "epochs = 5\n",
    "logging_steps = 50"
   ]
  },
  {
   "cell_type": "code",
   "execution_count": 102,
   "id": "3f699da2",
   "metadata": {},
   "outputs": [],
   "source": [
    "torch.save((input_ids, attention_mask, labels), \"data.pt\")"
   ]
  },
  {
   "cell_type": "code",
   "execution_count": 4,
   "id": "78c8b638",
   "metadata": {},
   "outputs": [],
   "source": [
    "(input_ids, attention_mask, labels) = torch.load(\"data.pt\")"
   ]
  },
  {
   "cell_type": "code",
   "execution_count": 5,
   "id": "faa86ab7",
   "metadata": {},
   "outputs": [],
   "source": [
    "dataset = TensorDataset(input_ids, attention_mask, labels)\n",
    "train_idx, valid_idx = train_test_split(np.arange(len(input_ids)), test_size=0.1, shuffle=True, random_state=1234)\n",
    "\n",
    "train_dataset = Subset(dataset, train_idx)\n",
    "valid_dataset = Subset(dataset, valid_idx)\n",
    "\n",
    "train_loader = DataLoader(train_dataset, batch_size=batch_size, shuffle=True)\n",
    "valid_loader = DataLoader(valid_dataset, batch_size=batch_size, shuffle=False)"
   ]
  },
  {
   "cell_type": "code",
   "execution_count": 6,
   "id": "a4179c0f",
   "metadata": {},
   "outputs": [
    {
     "name": "stderr",
     "output_type": "stream",
     "text": [
      "Some weights of BertForTokenClassification were not initialized from the model checkpoint at microsoft/xtremedistil-l6-h256-uncased and are newly initialized: ['classifier.weight', 'classifier.bias']\n",
      "You should probably TRAIN this model on a down-stream task to be able to use it for predictions and inference.\n"
     ]
    },
    {
     "data": {
      "text/plain": [
       "12684802"
      ]
     },
     "execution_count": 6,
     "metadata": {},
     "output_type": "execute_result"
    }
   ],
   "source": [
    "model = AutoModelForTokenClassification.from_pretrained(\"microsoft/xtremedistil-l6-h256-uncased\", num_labels=2)\n",
    "model.to(device).num_parameters()"
   ]
  },
  {
   "cell_type": "code",
   "execution_count": 7,
   "id": "069ad6bb",
   "metadata": {},
   "outputs": [
    {
     "name": "stderr",
     "output_type": "stream",
     "text": [
      "Some weights of BertForTokenClassification were not initialized from the model checkpoint at microsoft/xtremedistil-l6-h256-uncased and are newly initialized: ['classifier.weight', 'classifier.bias']\n",
      "You should probably TRAIN this model on a down-stream task to be able to use it for predictions and inference.\n"
     ]
    },
    {
     "data": {
      "text/plain": [
       "<All keys matched successfully>"
      ]
     },
     "execution_count": 7,
     "metadata": {},
     "output_type": "execute_result"
    }
   ],
   "source": [
    "model.load_state_dict(AutoModelForTokenClassification.from_pretrained(\"microsoft/xtremedistil-l6-h256-uncased\", num_labels=2).state_dict())"
   ]
  },
  {
   "cell_type": "code",
   "execution_count": 8,
   "id": "a297b76c",
   "metadata": {},
   "outputs": [],
   "source": [
    "optimizer = torch.optim.AdamW(model.parameters(), lr=learning_rate)"
   ]
  },
  {
   "cell_type": "code",
   "execution_count": 9,
   "id": "fb8a246a",
   "metadata": {
    "tags": []
   },
   "outputs": [
    {
     "data": {
      "application/vnd.jupyter.widget-view+json": {
       "model_id": "7dbacf6941ca461e980cbeaf521bfc48",
       "version_major": 2,
       "version_minor": 0
      },
      "text/plain": [
       "  0%|          | 0/386 [00:00<?, ?it/s]"
      ]
     },
     "metadata": {},
     "output_type": "display_data"
    },
    {
     "name": "stdout",
     "output_type": "stream",
     "text": [
      "Loss: 0.6359110856056214\n",
      "Loss: 0.5652610981464385\n",
      "Loss: 0.5338351613283158\n",
      "Loss: 0.5407661807537079\n",
      "Loss: 0.5171451371908188\n",
      "Loss: 0.5092184942960739\n",
      "Loss: 0.5011690837144852\n"
     ]
    },
    {
     "data": {
      "application/vnd.jupyter.widget-view+json": {
       "model_id": "26735699b5b54599a5c46aa0fbe3e48b",
       "version_major": 2,
       "version_minor": 0
      },
      "text/plain": [
       "  0%|          | 0/43 [00:00<?, ?it/s]"
      ]
     },
     "metadata": {},
     "output_type": "display_data"
    },
    {
     "name": "stdout",
     "output_type": "stream",
     "text": [
      "Valid Loss: 0.4805344044944824\n"
     ]
    },
    {
     "data": {
      "application/vnd.jupyter.widget-view+json": {
       "model_id": "a6af9bdf6acb4957a77cf795c7941fa4",
       "version_major": 2,
       "version_minor": 0
      },
      "text/plain": [
       "  0%|          | 0/386 [00:00<?, ?it/s]"
      ]
     },
     "metadata": {},
     "output_type": "display_data"
    },
    {
     "name": "stdout",
     "output_type": "stream",
     "text": [
      "Loss: 0.4823142075538635\n",
      "Loss: 0.4618962347507477\n",
      "Loss: 0.46104142010211946\n",
      "Loss: 0.45704747796058653\n",
      "Loss: 0.4500581645965576\n",
      "Loss: 0.4287427896261215\n",
      "Loss: 0.4441181290149689\n"
     ]
    },
    {
     "data": {
      "application/vnd.jupyter.widget-view+json": {
       "model_id": "92541a99a083434888e16f912a2457d2",
       "version_major": 2,
       "version_minor": 0
      },
      "text/plain": [
       "  0%|          | 0/43 [00:00<?, ?it/s]"
      ]
     },
     "metadata": {},
     "output_type": "display_data"
    },
    {
     "name": "stdout",
     "output_type": "stream",
     "text": [
      "Valid Loss: 0.4405839648844985\n"
     ]
    },
    {
     "data": {
      "application/vnd.jupyter.widget-view+json": {
       "model_id": "6f8f166709ea4f7a81f6c1a091960c12",
       "version_major": 2,
       "version_minor": 0
      },
      "text/plain": [
       "  0%|          | 0/386 [00:00<?, ?it/s]"
      ]
     },
     "metadata": {},
     "output_type": "display_data"
    },
    {
     "name": "stdout",
     "output_type": "stream",
     "text": [
      "Loss: 0.4234100979566574\n",
      "Loss: 0.40915629386901853\n",
      "Loss: 0.43148463547229765\n",
      "Loss: 0.4226802003383636\n",
      "Loss: 0.42939706295728686\n",
      "Loss: 0.4244151031970978\n",
      "Loss: 0.419473779797554\n"
     ]
    },
    {
     "data": {
      "application/vnd.jupyter.widget-view+json": {
       "model_id": "413a45d0c58b4bf7bff3ce7727759830",
       "version_major": 2,
       "version_minor": 0
      },
      "text/plain": [
       "  0%|          | 0/43 [00:00<?, ?it/s]"
      ]
     },
     "metadata": {},
     "output_type": "display_data"
    },
    {
     "name": "stdout",
     "output_type": "stream",
     "text": [
      "Valid Loss: 0.42803032562560533\n"
     ]
    },
    {
     "data": {
      "application/vnd.jupyter.widget-view+json": {
       "model_id": "defb6120d17147608c2a559201cfdce3",
       "version_major": 2,
       "version_minor": 0
      },
      "text/plain": [
       "  0%|          | 0/386 [00:00<?, ?it/s]"
      ]
     },
     "metadata": {},
     "output_type": "display_data"
    },
    {
     "name": "stdout",
     "output_type": "stream",
     "text": [
      "Loss: 0.40192145586013794\n",
      "Loss: 0.3990325829386711\n",
      "Loss: 0.3845550933480263\n",
      "Loss: 0.39096012234687805\n",
      "Loss: 0.4294986659288406\n",
      "Loss: 0.4217846763134003\n",
      "Loss: 0.3787607479095459\n"
     ]
    },
    {
     "data": {
      "application/vnd.jupyter.widget-view+json": {
       "model_id": "9086d4ab4c3e4c17b5d370b004f605be",
       "version_major": 2,
       "version_minor": 0
      },
      "text/plain": [
       "  0%|          | 0/43 [00:00<?, ?it/s]"
      ]
     },
     "metadata": {},
     "output_type": "display_data"
    },
    {
     "name": "stdout",
     "output_type": "stream",
     "text": [
      "Valid Loss: 0.4132426401544539\n"
     ]
    },
    {
     "data": {
      "application/vnd.jupyter.widget-view+json": {
       "model_id": "cccde2c1ae614b4dbc7270a82a439efa",
       "version_major": 2,
       "version_minor": 0
      },
      "text/plain": [
       "  0%|          | 0/386 [00:00<?, ?it/s]"
      ]
     },
     "metadata": {},
     "output_type": "display_data"
    },
    {
     "name": "stdout",
     "output_type": "stream",
     "text": [
      "Loss: 0.3826889541745186\n",
      "Loss: 0.3874882137775421\n",
      "Loss: 0.392705449461937\n",
      "Loss: 0.3702755591273308\n",
      "Loss: 0.3979994249343872\n",
      "Loss: 0.37124911963939666\n",
      "Loss: 0.4158660614490509\n"
     ]
    },
    {
     "data": {
      "application/vnd.jupyter.widget-view+json": {
       "model_id": "3fd68956bf34470c8e4e074ebd13e083",
       "version_major": 2,
       "version_minor": 0
      },
      "text/plain": [
       "  0%|          | 0/43 [00:00<?, ?it/s]"
      ]
     },
     "metadata": {},
     "output_type": "display_data"
    },
    {
     "name": "stdout",
     "output_type": "stream",
     "text": [
      "Valid Loss: 0.40996836694290306\n"
     ]
    }
   ],
   "source": [
    "losses = []\n",
    "#scaler = torch.cuda.amp.GradScaler()\n",
    "\n",
    "for epoch in range(epochs):\n",
    "    for i, (input_ids, attention_mask, labels) in tqdm(enumerate(train_loader), total=len(train_loader)):\n",
    "        loss = model(input_ids=input_ids.to(device), attention_mask=attention_mask.to(device), labels=labels.to(device)).loss\n",
    "        \n",
    "        loss.backward()\n",
    "        \n",
    "        if (i + 1) % gradient_accumulation_steps == 0:\n",
    "            optimizer.step()\n",
    "        \n",
    "            optimizer.zero_grad()\n",
    "            \n",
    "        losses.append(loss.item())\n",
    "        \n",
    "        if (i + 1) % logging_steps == 0:\n",
    "            print(\"Loss:\", np.mean(losses[-logging_steps:]))\n",
    "    \n",
    "    valid_loss = 0\n",
    "    \n",
    "    for i, (input_ids, attention_mask, labels) in tqdm(enumerate(valid_loader), total=len(valid_loader)):\n",
    "        with torch.inference_mode():\n",
    "            loss = model(input_ids=input_ids.to(device), attention_mask=attention_mask.to(device), labels=labels.to(device)).loss\n",
    "            \n",
    "        valid_loss += loss.item() * len(input_ids)\n",
    "        \n",
    "    valid_loss = valid_loss / len(valid_dataset)\n",
    "    print(\"Valid Loss:\", valid_loss)"
   ]
  },
  {
   "cell_type": "code",
   "execution_count": 71,
   "id": "815bfb26",
   "metadata": {},
   "outputs": [
    {
     "data": {
      "application/vnd.jupyter.widget-view+json": {
       "model_id": "33e23740f83f4b34bd895afdd9227efb",
       "version_major": 2,
       "version_minor": 0
      },
      "text/plain": [
       "  0%|          | 0/172 [00:00<?, ?it/s]"
      ]
     },
     "metadata": {},
     "output_type": "display_data"
    }
   ],
   "source": [
    "preds = []\n",
    "\n",
    "for (input_ids, attention_mask, labels) in tqdm(valid_loader):\n",
    "    with torch.inference_mode():\n",
    "        output = model(input_ids=input_ids.to(device), attention_mask=attention_mask.to(device), labels=labels.to(device))\n",
    "        \n",
    "        preds.extend(output.logits.argmax(2).detach().cpu())"
   ]
  },
  {
   "cell_type": "code",
   "execution_count": 72,
   "id": "9b6ccd6c",
   "metadata": {},
   "outputs": [],
   "source": [
    "preds = torch.stack(preds)"
   ]
  },
  {
   "cell_type": "code",
   "execution_count": 76,
   "id": "abf5fc10",
   "metadata": {},
   "outputs": [
    {
     "data": {
      "text/plain": [
       "tensor(0)"
      ]
     },
     "execution_count": 76,
     "metadata": {},
     "output_type": "execute_result"
    }
   ],
   "source": [
    "preds.sum()"
   ]
  }
 ],
 "metadata": {
  "kernelspec": {
   "display_name": "Python 3 (ipykernel)",
   "language": "python",
   "name": "python3"
  },
  "language_info": {
   "codemirror_mode": {
    "name": "ipython",
    "version": 3
   },
   "file_extension": ".py",
   "mimetype": "text/x-python",
   "name": "python",
   "nbconvert_exporter": "python",
   "pygments_lexer": "ipython3",
   "version": "3.9.5"
  }
 },
 "nbformat": 4,
 "nbformat_minor": 5
}
